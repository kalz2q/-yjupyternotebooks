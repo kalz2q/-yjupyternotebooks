{
  "nbformat": 4,
  "nbformat_minor": 0,
  "metadata": {
    "colab": {
      "name": "learnpython.ipynb",
      "provenance": [],
      "toc_visible": true,
      "authorship_tag": "ABX9TyO3D0Umgb0Hh1mJqvHqNPu0",
      "include_colab_link": true
    },
    "kernelspec": {
      "name": "python3",
      "display_name": "Python 3"
    },
    "language_info": {
      "name": "python"
    }
  },
  "cells": [
    {
      "cell_type": "markdown",
      "metadata": {
        "id": "view-in-github",
        "colab_type": "text"
      },
      "source": [
        "<a href=\"https://colab.research.google.com/github/kalz2q/mycolabnotebooks/blob/master/learnpython.ipynb\" target=\"_parent\"><img src=\"https://colab.research.google.com/assets/colab-badge.svg\" alt=\"Open In Colab\"/></a>"
      ]
    },
    {
      "cell_type": "markdown",
      "metadata": {
        "id": "mG5wD9OjyCva"
      },
      "source": [
        "### メモ \n"
      ]
    },
    {
      "cell_type": "code",
      "source": [
        "# c++ ではどうやるか、haskell ではどうやるかを考えながらやる"
      ],
      "metadata": {
        "id": "Rgpp1rDAszip"
      },
      "execution_count": null,
      "outputs": []
    },
    {
      "cell_type": "code",
      "metadata": {
        "id": "6A6tdrr07dUT",
        "colab": {
          "base_uri": "https://localhost:8080/"
        },
        "outputId": "c598c18a-5312-4b5f-ad04-859fbd1ce8ec"
      },
      "source": [
        "# 変数\n",
        "x = 3 \n",
        "print(x)\n",
        "\n",
        "# if 文\n",
        "if x > 0: # コロンが必要、インデントが必要 IndentationError\n",
        "    print(\"x is larger than 0\") # 行末の改行は自動で入る\n",
        "\n",
        "# 文字列の繰り返しを整数を掛けることで実現出来る\n",
        "text = \"hello \" * x \n",
        "print(text)"
      ],
      "execution_count": 1,
      "outputs": [
        {
          "output_type": "stream",
          "name": "stdout",
          "text": [
            "3\n",
            "x is larger than 0\n",
            "hello hello hello \n"
          ]
        }
      ]
    },
    {
      "cell_type": "code",
      "source": [
        "# 上の例からわかる事\n",
        "# 変数は型を指定しないで突然使える\n",
        "# 変数は中身を変えられ immutable にする方法はとりあえずない\n",
        "# if はコロンが必要。次の行はインデントが必要。括弧が要らないが入れた方がよいと思う\n",
        "# 文字列に数字を掛けることができる\n",
        "# コメントは `#` で始まる"
      ],
      "metadata": {
        "id": "w5ZdZFsx0XL1"
      },
      "execution_count": null,
      "outputs": []
    },
    {
      "cell_type": "code",
      "source": [
        "# 実験\n",
        "if (0) : print(0) # 出力されない\n",
        "if (1) : print(1)\n",
        "if (3 == 3): print (3 == 3) #=> True\n",
        "if (True): print (True) #=> True"
      ],
      "metadata": {
        "id": "x7wqcBnxzDNV",
        "outputId": "6ce9ef48-af8c-496b-94f8-de50f574d020",
        "colab": {
          "base_uri": "https://localhost:8080/"
        }
      },
      "execution_count": null,
      "outputs": [
        {
          "output_type": "stream",
          "name": "stdout",
          "text": [
            "1\n",
            "True\n",
            "True\n"
          ]
        }
      ]
    },
    {
      "cell_type": "code",
      "metadata": {
        "id": "dWGF-4HR9Lsu",
        "colab": {
          "base_uri": "https://localhost:8080/"
        },
        "outputId": "ca88372d-73e1-4231-8f93-5606210bdbb1"
      },
      "source": [
        "# python は 型を調べる type と言う関数がある\n",
        "# これを使えば型制約みたいなことは出来るかもしれない\n",
        "x = 4; print(type(x)) #=> <class 'int'>\n",
        "x = 0.0; print(type(x)) #=> <class 'float'>\n",
        "x = True; print(type(x)) #=> <class 'bool'>\n",
        "x = \"this is x.\"; print(type(x)) #=> <class 'str'>\n",
        "print(type(type(x))) #=> <class 'type'>\n",
        "print()\n",
        "print(type(3) == 'int') #=> False\n",
        "print(type(3) is int) #=> True \n",
        "print(type(3) is not int) #=> False\n",
        "print()\n",
        "print(isinstance(\"hello\", str)) #=> True \n",
        "print(not isinstance(\"hello\", str)) #=> False"
      ],
      "execution_count": 3,
      "outputs": [
        {
          "output_type": "stream",
          "name": "stdout",
          "text": [
            "<class 'int'>\n",
            "<class 'float'>\n",
            "<class 'bool'>\n",
            "<class 'str'>\n",
            "<class 'type'>\n",
            "\n",
            "False\n",
            "True\n",
            "False\n",
            "\n",
            "True\n",
            "False\n"
          ]
        }
      ]
    },
    {
      "cell_type": "code",
      "source": [
        "# 型の名前: int, float, bool, str とか\n",
        "# bool は True, False で小文字にするとエラーになる\n",
        "# True, False 以外はなにが True になりなにが False になるのか \n",
        "\n",
        "# => 課題 真偽の値。=> python 真偽値 で検索\n",
        "# False なのは None 0, 0.0, 0j, Decimal(0), Fraction(0, 1)\n",
        "# 空のシーケンスまたはコレクション: '', (), [], {}, set(), range(0)\n",
        "# その他はすべて True\n",
        "\n",
        "# ビルトイン関数、組み込み関数、built-in 関数\n",
        "\n",
        "# python の組み込み関数はオブジェクトのメソッドとしての関数ではないので、\n",
        "# 使い方が決まっている\n",
        "# [1,2,3].len() ではなくて、len([1,2,3])"
      ],
      "metadata": {
        "id": "psjeU_ov2FNQ"
      },
      "execution_count": null,
      "outputs": []
    },
    {
      "cell_type": "markdown",
      "source": [
        "# いまここ"
      ],
      "metadata": {
        "id": "MCJJ1Rb6-5jP"
      }
    },
    {
      "cell_type": "code",
      "source": [
        "%%html\n",
        "<table border=\"1\">\n",
        "<thead>\n",
        "<tr><th>Operator </th><th> Name </th><th> Description </th></tr>\n",
        "</thead>\n",
        "<tbody>\n",
        "<tr><td>a + b </td><td> Addition </td><td> Sum of a and b </td></tr>\n",
        "<tr><td>a - b </td><td> Subtraction </td><td> Difference of a and b </td></tr>\n",
        "<tr><td>a * b </td><td> Multiplication </td><td> Product of a and b </td></tr>\n",
        "<tr><td>a / b </td><td> True division </td><td> Quotient of a and b </td></tr>\n",
        "<tr><td>a // b </td><td> Floor division </td><td> Quotient of a and b, removing fractional parts </td></tr>\n",
        "<tr><td>a % b </td><td> Modulus </td><td> Integer remainder after division of a by b </td></tr>\n",
        "<tr><td>a ** b </td><td> Exponentiation </td><td> a raised to the power of b </td></tr>\n",
        "<tr><td>-a </td><td> Negation </td><td> The negative of a</td></tr>\n",
        "</tbody>\n",
        "</table>\n"
      ],
      "metadata": {
        "id": "9aaPgpYqaDK5",
        "outputId": "ce81f069-0f09-4a74-eece-d3b882d661f4",
        "colab": {
          "base_uri": "https://localhost:8080/",
          "height": 231
        }
      },
      "execution_count": null,
      "outputs": [
        {
          "output_type": "display_data",
          "data": {
            "text/plain": [
              "<IPython.core.display.HTML object>"
            ],
            "text/html": [
              "<table border=\"1\">\n",
              "<thead>\n",
              "<tr><th>Operator </th><th> Name </th><th> Description </th></tr>\n",
              "</thead>\n",
              "<tbody>\n",
              "<tr><td>a + b </td><td> Addition </td><td> Sum of a and b </td></tr>\n",
              "<tr><td>a - b </td><td> Subtraction </td><td> Difference of a and b </td></tr>\n",
              "<tr><td>a * b </td><td> Multiplication </td><td> Product of a and b </td></tr>\n",
              "<tr><td>a / b </td><td> True division </td><td> Quotient of a and b </td></tr>\n",
              "<tr><td>a // b </td><td> Floor division </td><td> Quotient of a and b, removing fractional parts </td></tr>\n",
              "<tr><td>a % b </td><td> Modulus </td><td> Integer remainder after division of a by b </td></tr>\n",
              "<tr><td>a ** b </td><td> Exponentiation </td><td> a raised to the power of b </td></tr>\n",
              "<tr><td>-a </td><td> Negation </td><td> The negative of a</td></tr>\n",
              "</tbody>\n",
              "</table>"
            ]
          },
          "metadata": {}
        }
      ]
    },
    {
      "cell_type": "code",
      "source": [
        "# 割り算の演算子が2種類あることに注意\n",
        "# 電卓の割り算は \"True division\" \n",
        "# 演算子 `/` の結果は常に `float` \n",
        "# 演算子 `//` は割り算の結果以下の最大の整数を返す\n",
        "# 切り下げ floor、 切り上げ ceiling は次のようにする"
      ],
      "metadata": {
        "id": "IXLi1Yhx-DJL"
      },
      "execution_count": null,
      "outputs": []
    },
    {
      "cell_type": "code",
      "metadata": {
        "id": "L_6IaF1OZ4gW",
        "colab": {
          "base_uri": "https://localhost:8080/"
        },
        "outputId": "83ffe101-c818-48b6-b27f-08b5e4413869"
      },
      "source": [
        "print(5 // 2)\n",
        "print(-(-5 // 2))"
      ],
      "execution_count": null,
      "outputs": [
        {
          "output_type": "stream",
          "text": [
            "2\n",
            "3\n"
          ],
          "name": "stdout"
        }
      ]
    },
    {
      "cell_type": "code",
      "source": [
        "# 数字に関する組み込み関数\n",
        "print(min(1, 2, 3)) \n",
        "print(max(1, 2, 3))\n",
        "print(abs(32)) \n",
        "print(abs(-32)) "
      ],
      "metadata": {
        "id": "XXxVWcYXaTe5",
        "colab": {
          "base_uri": "https://localhost:8080/"
        },
        "outputId": "b5c45f8b-fbfd-49d3-bfa5-f56c38e5c36b"
      },
      "execution_count": null,
      "outputs": [
        {
          "output_type": "stream",
          "name": "stdout",
          "text": [
            "1\n",
            "3\n",
            "32\n",
            "32\n"
          ]
        }
      ]
    },
    {
      "cell_type": "code",
      "source": [
        "# `float` と `int` は数字の型の名前であるだけでなく引数の型を変換する関数として呼び出すことができる\n",
        "print(float(10)) \n",
        "print(int(3.33))\n",
        "print(int (-3.33))\n",
        "print(-3.33 // 1)\n",
        "print(-(-3.33 // 1))"
      ],
      "metadata": {
        "id": "7dNlJxGPd_sm",
        "outputId": "2fd266c3-3fc7-4f6d-9249-7958e9d2b38d",
        "colab": {
          "base_uri": "https://localhost:8080/"
        }
      },
      "execution_count": null,
      "outputs": [
        {
          "output_type": "stream",
          "name": "stdout",
          "text": [
            "10.0\n",
            "3\n",
            "-3\n",
            "-4.0\n",
            "4.0\n"
          ]
        }
      ]
    },
    {
      "cell_type": "markdown",
      "metadata": {
        "id": "yMeNR-2d4P0S"
      },
      "source": [
        "# いまここ"
      ]
    },
    {
      "cell_type": "code",
      "metadata": {
        "id": "MCl8fTn9ewkA",
        "colab": {
          "base_uri": "https://localhost:8080/",
          "height": 50
        },
        "outputId": "6aca7bbf-26bd-4ec7-9193-e1ec5281f197"
      },
      "source": [
        "# 文字列を数字に直すことが出来る\n",
        "print(int('807') + 1)\n",
        "10.0\n",
        "print(float('33.3') + 0.2 )"
      ],
      "execution_count": null,
      "outputs": [
        {
          "output_type": "stream",
          "text": [
            "808\n",
            "33.5\n"
          ],
          "name": "stdout"
        }
      ]
    },
    {
      "cell_type": "code",
      "source": [
        "# 文字列で与えられた 2 進数や 16 進数を int に変換できるか\n",
        "# 逆に int を 2 進数や 16 進数に変換できるか\n",
        "# 基数変換が出来るか base conversion, radix conversion\n",
        "# `int()` で文字列の 10 進数を数値に変換できる\n",
        "# `bin()` `hex()` `oct()` もあるみたい\n",
        "# `bin(\"100\")` はエラーになった\n",
        "# 型はどうなっているのか\n",
        "# 少数、分数は変換できるか。このやり方ではできなかった\n",
        "# 負の数は頭にマイナスがついたがそれでいいのか\n",
        "# 汎用の n 進数変換のツールはあるか。 math など"
      ],
      "metadata": {
        "id": "zMJ3df-ve0cG"
      },
      "execution_count": null,
      "outputs": []
    },
    {
      "cell_type": "code",
      "metadata": {
        "colab": {
          "base_uri": "https://localhost:8080/"
        },
        "id": "Qvg6WYixUlXj",
        "outputId": "f37d96b4-9236-4fcd-bdfa-3d4e013351a9"
      },
      "source": [
        "print(int(\"101\"))\n",
        "print(bin(101))\n",
        "print(0b1100100)\n",
        "print(oct(101))\n",
        "print(0o144)\n",
        "print(hex(101))\n",
        "print(0x64)\n",
        "print()\n",
        "print(type(int(\"101\")))\n",
        "print(type(bin(101)))\n",
        "print(type(0b1100100))\n",
        "print(type(oct(101)))\n",
        "print(type(0o144))\n",
        "print(type(hex(101)))\n",
        "print(type(0x64))\n",
        "print()\n",
        "print(0xFF)\n",
        "print(bin(0xFF))\n",
        "print(hex(0b100000000))\n",
        "print(hex(-101))"
      ],
      "execution_count": null,
      "outputs": [
        {
          "output_type": "stream",
          "text": [
            "101\n",
            "0b1100101\n",
            "100\n",
            "0o145\n",
            "100\n",
            "0x65\n",
            "100\n",
            "\n",
            "<class 'int'>\n",
            "<class 'str'>\n",
            "<class 'int'>\n",
            "<class 'str'>\n",
            "<class 'int'>\n",
            "<class 'str'>\n",
            "<class 'int'>\n",
            "\n",
            "255\n",
            "0b11111111\n",
            "0x100\n",
            "-0x65\n"
          ],
          "name": "stdout"
        }
      ]
    },
    {
      "cell_type": "code",
      "metadata": {
        "colab": {
          "base_uri": "https://localhost:8080/"
        },
        "id": "TMF6p9s_Z_xT",
        "outputId": "54df0a4b-8345-4cf4-af22-b347b012afb9"
      },
      "source": [
        "# https://runestone.academy/runestone/books/published/pythonds/index.html より\n",
        "\n",
        "def toStr(n,base):\n",
        "    convertString = \"0123456789ABCDEF\"\n",
        "    if n < base:\n",
        "        return convertString[n]\n",
        "    else:\n",
        "        return toStr(n//base,base) + convertString[n%base]\n",
        "\n",
        "print(toStr(1453,16))\n",
        "print(toStr(101,16))\n",
        "print(toStr(101,2))\n",
        "print(toStr(101,8))\n"
      ],
      "execution_count": null,
      "outputs": [
        {
          "output_type": "stream",
          "text": [
            "5AD\n",
            "65\n",
            "1100101\n",
            "145\n"
          ],
          "name": "stdout"
        }
      ]
    },
    {
      "cell_type": "markdown",
      "metadata": {
        "id": "HEKJfvKFfN68"
      },
      "source": [
        "---\n",
        "# 四則演算\n",
        "\n",
        "| 演算子\t| 名前\t| 説明 |\n",
        "| ---- | ---- | ----|\n",
        "|a + b  | 加算\t     |   a と b の合計 |\n",
        "|a - b\t| 減算\t   |   a と b の差分 |\n",
        "|a * b\t| 乗法 |\t a と b の積 |\n",
        "|a / b\t| 除算\t |   a と b の商 |\n",
        "|a // b\t| 床除算 |\t a と b の商から少数部分を除いたもの floor |\n",
        "|a % b\t| 余り       |   整数割り算の余り modulo|\n",
        "|a ** b\t| 冪乗 |\t a の b 乗 power |\n",
        "|-a\t    | マイナス\t     |   マイナスa |\n"
      ]
    },
    {
      "cell_type": "code",
      "metadata": {
        "id": "-k5AQuYJPE4b",
        "colab": {
          "base_uri": "https://localhost:8080/",
          "height": 34
        },
        "outputId": "569458c0-781c-41ed-e560-0199b66b7b0f"
      },
      "source": [
        "# 円の面積を計算する\n",
        "pi = 3.14159 # 少数5桁までの円周率π\n",
        "diameter = 3 # 直径\n",
        "\n",
        "# 直径の半分の長さの半径(radius)という名前の変数を作る\n",
        "radius = diameter / 2\n",
        "\n",
        "# 公式 円の面積 = 円周率かける半径の二乗 を使って円の面積を(area)計算する\n",
        "area = pi * radius ** 2\n",
        "print(\"円の面積: \" , area)"
      ],
      "execution_count": null,
      "outputs": [
        {
          "output_type": "stream",
          "text": [
            "円の面積:  7.0685775\n"
          ],
          "name": "stdout"
        }
      ]
    },
    {
      "cell_type": "markdown",
      "metadata": {
        "id": "T2uJHafQPn-D"
      },
      "source": [
        "---\n",
        "問題 $\\quad$ 変数 a と b の中身を入れ替える。\n"
      ]
    },
    {
      "cell_type": "code",
      "metadata": {
        "id": "cXU6Zk11lFUp",
        "colab": {
          "base_uri": "https://localhost:8080/",
          "height": 50
        },
        "outputId": "749b4512-906b-4533-cf56-862a6bedbe70"
      },
      "source": [
        "# 変数 a と b の中身を入れ替える\n",
        "a = [1, 2, 3]\n",
        "b = [3, 2, 1]\n",
        "print(a, b)\n",
        "temp = a; a = b; b = temp\n",
        "print(a, b)"
      ],
      "execution_count": null,
      "outputs": [
        {
          "output_type": "stream",
          "text": [
            "[1, 2, 3] [3, 2, 1]\n",
            "[3, 2, 1] [1, 2, 3]\n"
          ],
          "name": "stdout"
        }
      ]
    },
    {
      "cell_type": "markdown",
      "metadata": {
        "id": "5Hlc7mtUGvKJ"
      },
      "source": [
        "python では a,b = b,a ができる"
      ]
    },
    {
      "cell_type": "code",
      "metadata": {
        "id": "aeZCHLRBxJaT",
        "colab": {
          "base_uri": "https://localhost:8080/",
          "height": 50
        },
        "outputId": "f7cd67a7-48cf-4fc7-b679-c4340304ebe3"
      },
      "source": [
        "# 別解\n",
        "a = [1, 2, 3]\n",
        "b = [3, 2, 1]\n",
        "print(a, b)\n",
        "a, b = b, a\n",
        "print(a, b)"
      ],
      "execution_count": null,
      "outputs": [
        {
          "output_type": "stream",
          "text": [
            "[1, 2, 3] [3, 2, 1]\n",
            "[3, 2, 1] [1, 2, 3]\n"
          ],
          "name": "stdout"
        }
      ]
    },
    {
      "cell_type": "code",
      "metadata": {
        "colab": {
          "base_uri": "https://localhost:8080/",
          "height": 35
        },
        "id": "mQwCuNtlT4C-",
        "outputId": "cad69ffc-17e4-4db6-ace0-ae61c04ad266"
      },
      "source": [
        "bin(100)"
      ],
      "execution_count": null,
      "outputs": [
        {
          "output_type": "execute_result",
          "data": {
            "application/vnd.google.colaboratory.intrinsic+json": {
              "type": "string"
            },
            "text/plain": [
              "'0b1100100'"
            ]
          },
          "metadata": {
            "tags": []
          },
          "execution_count": 1
        }
      ]
    },
    {
      "cell_type": "markdown",
      "metadata": {
        "id": "NQwRTni4u7L9"
      },
      "source": [
        "# 関数\n",
        "* help(関数名)\n",
        "* dir(クラス/オブジェクト)\n",
        "* 関数名?\n",
        "* 関数名??\n",
        "\n",
        "とか。便利。\n",
        "\n",
        "例 $\\quad$ `help(round)`\n",
        "\n",
        "\n"
      ]
    },
    {
      "cell_type": "markdown",
      "metadata": {
        "id": "3_Gri6s6yyXn"
      },
      "source": [
        "`help(round)` の出力を読んでから、次のコードを実行してみる。\n",
        "\n",
        "* round(-2.01)\n",
        "* round(3.12345455, -2)\n",
        "* round(1234567, 3)\n",
        "* round(1234567, -3)\n",
        "\n",
        "他の関数についてもhelp()を実行してみる。\n",
        "\n",
        "* help(abs)"
      ]
    },
    {
      "cell_type": "code",
      "metadata": {
        "id": "iih6tuCv-ttI",
        "colab": {
          "base_uri": "https://localhost:8080/"
        },
        "outputId": "0a0d697c-1f46-4a30-82d1-71dd20fd9bde"
      },
      "source": [
        "# 実験\n",
        "print(round(3.14))\n",
        "print(type(round(3.14)))\n",
        "print(round(3.14,0))\n",
        "print(type(round(3.14,0)))\n",
        "print(round(1234567, -3))\n",
        "print(type (round(1234567, -3)))\n",
        "print(round(1234567.3, -3))\n",
        "print(type (round(1234567.3, -3)))"
      ],
      "execution_count": null,
      "outputs": [
        {
          "output_type": "stream",
          "text": [
            "3\n",
            "<class 'int'>\n",
            "3.1\n",
            "<class 'float'>\n",
            "1235000\n",
            "<class 'int'>\n",
            "1235000.0\n",
            "<class 'float'>\n"
          ],
          "name": "stdout"
        }
      ]
    },
    {
      "cell_type": "markdown",
      "metadata": {
        "id": "oElBQcyFvTEa"
      },
      "source": [
        "`round()` は単純で説明の短い関数だった。\n",
        "\n",
        "`print()`の場合 `help(print)`の結果も長くなる"
      ]
    },
    {
      "cell_type": "markdown",
      "metadata": {
        "id": "Bp-NDXZZDkII"
      },
      "source": [
        "# 関数を定義する\n"
      ]
    },
    {
      "cell_type": "code",
      "metadata": {
        "id": "ZW7E53HqEX05",
        "colab": {
          "base_uri": "https://localhost:8080/"
        },
        "outputId": "b03d8e37-9d22-4d75-9aa7-d32d023bccf8"
      },
      "source": [
        "def least_difference(a, b, c):\n",
        "    \"\"\"Return the smallest difference between any two numbers among a, b and c.\n",
        "    >>> least_difference(1, 5, -5)\n",
        "    4\n",
        "    \"\"\"\n",
        "    diff1 = abs(a - b)\n",
        "    diff2 = abs(b - c)\n",
        "    diff3 = abs(a - c)\n",
        "    return min(diff1, diff2, diff3)\n",
        "\n",
        "least_difference(10, 3, 5)"
      ],
      "execution_count": null,
      "outputs": [
        {
          "output_type": "execute_result",
          "data": {
            "text/plain": [
              "2"
            ]
          },
          "metadata": {
            "tags": []
          },
          "execution_count": 23
        }
      ]
    },
    {
      "cell_type": "markdown",
      "metadata": {
        "id": "Z0nAug7PERV9"
      },
      "source": [
        "* ここでは least_difference() という関数が作られている。\n",
        "* 3 つの引数 a, b, c を取る。\n",
        "*  関数の定義は `def` というキーワードで始まる。`:` のあとのインデントブロックが関数定義の本体。\n",
        "* キーワード `return` で関数を抜け、`return` のあとにある値が返り値となる。\n",
        "\n"
      ]
    },
    {
      "cell_type": "code",
      "metadata": {
        "id": "cHi7tu7GF7Mf",
        "colab": {
          "base_uri": "https://localhost:8080/"
        },
        "outputId": "f4661497-92df-4902-8336-4ca8da47dac1"
      },
      "source": [
        "print(\n",
        "    least_difference(1, 10, 100),\n",
        "    least_difference(1, 10, 10),\n",
        "    least_difference(5, 6, 7), #  python は引数の最後にカンマがついていても大丈夫\n",
        ")"
      ],
      "execution_count": null,
      "outputs": [
        {
          "output_type": "stream",
          "text": [
            "9 0 1\n"
          ],
          "name": "stdout"
        }
      ]
    },
    {
      "cell_type": "code",
      "metadata": {
        "id": "F9b1CkQ6EqCT",
        "colab": {
          "base_uri": "https://localhost:8080/"
        },
        "outputId": "16322cff-7ff9-42fa-99e5-ed79214500bc"
      },
      "source": [
        "help(least_difference)"
      ],
      "execution_count": null,
      "outputs": [
        {
          "output_type": "stream",
          "text": [
            "Help on function least_difference in module __main__:\n",
            "\n",
            "least_difference(a, b, c)\n",
            "    Return the smallest difference between any two numbers among a, b and c.\n",
            "    >>> least_difference(1, 5, -5)\n",
            "    4\n",
            "\n"
          ],
          "name": "stdout"
        }
      ]
    },
    {
      "cell_type": "markdown",
      "metadata": {
        "id": "YM5UgIDOxd5t"
      },
      "source": [
        "# ドックストリング\n",
        "ドックストリング `docstring` は関数を定義する時にヘッダーの直後に書かれる 3 クォートで囲まれた数行にわたる部分のこと。 help()でこのdocstringが出力される。\n",
        "\n",
        "numpyの関数 np.eye の docstring が参考になる。\n",
        "\n",
        "\n"
      ]
    },
    {
      "cell_type": "code",
      "metadata": {
        "id": "QoAQqdIvdAcZ"
      },
      "source": [
        "# import numpy as np\n",
        "# help (np.eye)"
      ],
      "execution_count": null,
      "outputs": []
    },
    {
      "cell_type": "markdown",
      "metadata": {
        "id": "WnZMoEjfH6w-"
      },
      "source": [
        "---\n",
        "返り値のない関数\n",
        "\n",
        "キーワード `return` を含まない関数の返り値は `None` になる。\n"
      ]
    },
    {
      "cell_type": "code",
      "metadata": {
        "id": "PnN8zwiWcH54",
        "colab": {
          "base_uri": "https://localhost:8080/"
        },
        "outputId": "5024f994-a9dd-423b-a071-4bf18bb81b88"
      },
      "source": [
        "print(type(None))"
      ],
      "execution_count": null,
      "outputs": [
        {
          "output_type": "stream",
          "text": [
            "<class 'NoneType'>\n"
          ],
          "name": "stdout"
        }
      ]
    },
    {
      "cell_type": "code",
      "metadata": {
        "id": "tf-BRZgHeJzT",
        "colab": {
          "base_uri": "https://localhost:8080/",
          "height": 54
        },
        "outputId": "296ff685-43ff-4382-9027-204c81c09917"
      },
      "source": [
        "mystery = print()\n",
        "print(mystery)"
      ],
      "execution_count": null,
      "outputs": [
        {
          "output_type": "stream",
          "text": [
            "\n",
            "None\n"
          ],
          "name": "stdout"
        }
      ]
    },
    {
      "cell_type": "markdown",
      "metadata": {
        "id": "IQxs1ULPeIGg"
      },
      "source": [
        "---\n",
        "引数のデフォルト値\n",
        "\n",
        "関数 `print` のオプションとしていくつかの引数をがある。\n",
        "たとえば出力の項目の間に入れる文字列を指定するには `sep` という変数に値を入る。\n"
      ]
    },
    {
      "cell_type": "code",
      "metadata": {
        "id": "7Xdr3PCSgr3K",
        "colab": {
          "base_uri": "https://localhost:8080/",
          "height": 35
        },
        "outputId": "8e5f409a-f89d-43a3-e9df-94ae554bdcd5"
      },
      "source": [
        "print(1, 2, 3, sep=' < ')"
      ],
      "execution_count": null,
      "outputs": [
        {
          "output_type": "stream",
          "text": [
            "1 < 2 < 3\n"
          ],
          "name": "stdout"
        }
      ]
    },
    {
      "cell_type": "markdown",
      "metadata": {
        "id": "ZxHtaVfmgmsx"
      },
      "source": [
        "しかし、値を指定しない場合、`sep`にはデフォルトの値であるスペース 1 個が入る。\n"
      ]
    },
    {
      "cell_type": "code",
      "metadata": {
        "id": "9hjL8YC1hwEW",
        "colab": {
          "base_uri": "https://localhost:8080/",
          "height": 35
        },
        "outputId": "0031cf08-2dfe-48b0-b55b-b7726decef3e"
      },
      "source": [
        "print(1, 2, 3)"
      ],
      "execution_count": null,
      "outputs": [
        {
          "output_type": "stream",
          "text": [
            "1 2 3\n"
          ],
          "name": "stdout"
        }
      ]
    },
    {
      "cell_type": "markdown",
      "metadata": {
        "id": "OSw17y6ThrIm"
      },
      "source": [
        "関数の定義の時にデフォルト値を指定するには、次のようにする"
      ]
    },
    {
      "cell_type": "code",
      "metadata": {
        "id": "8vQaBy2Dh5nX",
        "colab": {
          "base_uri": "https://localhost:8080/",
          "height": 72
        },
        "outputId": "11921f60-d506-4832-e5c5-4ab347c59540"
      },
      "source": [
        "def greet(who=\"Colin\"):\n",
        "    print(\"Hello,\", who)\n",
        "    \n",
        "greet()\n",
        "greet(who=\"Kaggle\")\n",
        "\n",
        "# 明確で誤解が生じる余地のない場合、引数の名前を省略できる\n",
        "greet(\"world\")"
      ],
      "execution_count": null,
      "outputs": [
        {
          "output_type": "stream",
          "text": [
            "Hello, Colin\n",
            "Hello, Kaggle\n",
            "Hello, world\n"
          ],
          "name": "stdout"
        }
      ]
    },
    {
      "cell_type": "markdown",
      "metadata": {
        "id": "0IssDb5mbbwZ"
      },
      "source": [
        "---\n",
        "関数から関数を呼び出す\n",
        "\n",
        "関数から関数を呼び出す、というと関数型プログラムの Haskell や Scheme のようだが、それほど抽象的なことはできないが、つぎのようなやり方で関数を呼び出すことができる。\n"
      ]
    },
    {
      "cell_type": "code",
      "metadata": {
        "id": "p_Z2QYAbjUIU",
        "colab": {
          "base_uri": "https://localhost:8080/",
          "height": 72
        },
        "outputId": "dc18d0ad-3cf7-4b0e-cc89-a60d9b29bd9c"
      },
      "source": [
        "def mult_by_five(x):\n",
        "    \"\"\"x is multiplied by five\"\"\"\n",
        "    return 5 * x\n",
        "\n",
        "def call(fn, arg):\n",
        "    \"\"\"Call fn on arg\"\"\"\n",
        "    return fn(arg)\n",
        "\n",
        "def squared_call(fn, arg):\n",
        "    \"\"\"Call fn on the result of calling fn on arg\"\"\"\n",
        "    return fn(fn(arg))\n",
        "\n",
        "def cubed_call(fn, arg):\n",
        "    \"\"\"Call fn on the result of fn calling fn on arg\"\"\"\n",
        "    return fn(fn(fn(arg)))\n",
        "\n",
        "print(\n",
        "    call(mult_by_five, 1),\n",
        "    squared_call(mult_by_five, 1), \n",
        "    cubed_call(mult_by_five,1),\n",
        "    sep='\\n', # '\\n' is the newline character - it starts a new line\n",
        ")"
      ],
      "execution_count": null,
      "outputs": [
        {
          "output_type": "stream",
          "text": [
            "5\n",
            "25\n",
            "125\n"
          ],
          "name": "stdout"
        }
      ]
    },
    {
      "cell_type": "markdown",
      "metadata": {
        "id": "Uvd9mi8gjSCh"
      },
      "source": [
        "関数に作用する関数は高階関数 \"Higher order functions\" と呼ばれる。\n",
        "\n",
        "python の `max` は複数の引数の中で最大のものを返すが、オプションとして `key` に関数を指定すると `key(x)` が最大なxを返す。\n"
      ]
    },
    {
      "cell_type": "code",
      "metadata": {
        "id": "ZLpHTzdew0hC",
        "colab": {
          "base_uri": "https://localhost:8080/",
          "height": 90
        },
        "outputId": "5cb640d7-7011-4831-e761-6490f238ce42"
      },
      "source": [
        "def mod_5(x):\n",
        "    \"\"\"Return the remainder of x after dividing by 5\"\"\"\n",
        "    return x % 5\n",
        "\n",
        "print(\n",
        "    'Which number is biggest?',\n",
        "    max(100, 51, 14),\n",
        "    'Which number is the biggest modulo 5?',\n",
        "    max(100, 51, 14, key=mod_5),\n",
        "    sep='\\n',\n",
        ")"
      ],
      "execution_count": null,
      "outputs": [
        {
          "output_type": "stream",
          "text": [
            "Which number is biggest?\n",
            "100\n",
            "Which number is the biggest modulo 5?\n",
            "14\n"
          ],
          "name": "stdout"
        }
      ]
    },
    {
      "cell_type": "markdown",
      "metadata": {
        "id": "M_5a-M3Xkv3d"
      },
      "source": [
        "---\n",
        "問題 `docstring` に基づいて関数を完成させる。\n",
        "\n",
        "ヒント: `round` は python の組み込み関数。\n"
      ]
    },
    {
      "cell_type": "code",
      "metadata": {
        "id": "BaJBiSLROA0f",
        "colab": {
          "base_uri": "https://localhost:8080/"
        },
        "outputId": "6f0cb568-ff21-47ac-c70b-d5f5b1aff95e"
      },
      "source": [
        "def round_to_three_places(num):\n",
        "    \"\"\"小数点 3 桁までを求める。4 桁目を四捨五入\n",
        "    >>> round_to_three_places(3.14159)\n",
        "    3.141\n",
        "    \"\"\"\n",
        "    return round(num, 3)\n",
        "\n",
        "round_to_three_places(3.14159)"
      ],
      "execution_count": null,
      "outputs": [
        {
          "output_type": "execute_result",
          "data": {
            "text/plain": [
              "3.141"
            ]
          },
          "metadata": {
            "tags": []
          },
          "execution_count": 4
        }
      ]
    },
    {
      "cell_type": "markdown",
      "metadata": {
        "id": "Mm1Yw-0jx_nn"
      },
      "source": [
        "---\n",
        "問題  `round` の `ndigits`\n",
        "\n",
        "`help()` によると `round` の 2 番目の引数 `ndigits` は負の数でもかまわない。\n",
        "\n",
        "次のコードセルで実験してみる"
      ]
    },
    {
      "cell_type": "code",
      "metadata": {
        "id": "N5SVD_-kiLUt",
        "colab": {
          "base_uri": "https://localhost:8080/",
          "height": 34
        },
        "outputId": "157e0a98-629d-40ab-fba5-be3bea0e21cf"
      },
      "source": [
        "round(12345678, -6)"
      ],
      "execution_count": null,
      "outputs": [
        {
          "output_type": "execute_result",
          "data": {
            "text/plain": [
              "12000000"
            ]
          },
          "metadata": {
            "tags": []
          },
          "execution_count": 7
        }
      ]
    },
    {
      "cell_type": "markdown",
      "metadata": {
        "id": "zCybS9yMk0Cv"
      },
      "source": [
        "---\n",
        "エラーメッセージを読む\n",
        "\n",
        "エラーメッセージを読むことは、 python の勉強になる。\n",
        "\n",
        "バギーなコードを、コメントアウト、アンコメントし、実行することを繰り返しながらコードを完成させる。\n",
        "\n",
        "ちなみに、`ctrl`+`/` で選択した行を交互にコメントアウト、アンコメントできる。\n"
      ]
    },
    {
      "cell_type": "markdown",
      "metadata": {
        "id": "1JeG8B4jk2fi"
      },
      "source": [
        "---\n",
        "問題 $\\quad$絶対値の小さい方を返す関数を作る"
      ]
    },
    {
      "cell_type": "code",
      "metadata": {
        "colab": {
          "base_uri": "https://localhost:8080/"
        },
        "id": "_XpNIKxLlQOW",
        "outputId": "ebfaf306-1b9a-4441-f82b-4c8756efa62c"
      },
      "source": [
        "# 絶対値の小さい方を返す\n",
        "def smallest_abs(x,y):\n",
        "    \"\"\"絶対値の小さい方を返す\n",
        "    >>> smallest_abs(-10, 5)\n",
        "    5\n",
        "    \"\"\"\n",
        "    return min(abs(x), abs(y))\n",
        "\n",
        "smallest_abs(-10, 5)"
      ],
      "execution_count": null,
      "outputs": [
        {
          "output_type": "execute_result",
          "data": {
            "text/plain": [
              "5"
            ]
          },
          "metadata": {
            "tags": []
          },
          "execution_count": 6
        }
      ]
    },
    {
      "cell_type": "markdown",
      "metadata": {
        "id": "jwIeF_2_uFsa"
      },
      "source": [
        "# ブール型\n",
        "ブール型の値は True と False だけ。\n"
      ]
    },
    {
      "cell_type": "code",
      "metadata": {
        "id": "qMEGBuXSvQc1",
        "colab": {
          "base_uri": "https://localhost:8080/",
          "height": 52
        },
        "outputId": "3db7c4c8-9f99-41ec-97d2-94ab0689c3dd"
      },
      "source": [
        "x = True\n",
        "print(x)\n",
        "print(type(x))"
      ],
      "execution_count": null,
      "outputs": [
        {
          "output_type": "stream",
          "text": [
            "True\n",
            "<class 'bool'>\n"
          ],
          "name": "stdout"
        }
      ]
    },
    {
      "cell_type": "markdown",
      "metadata": {
        "id": "fBcSC1mpud7c"
      },
      "source": [
        "---\n",
        "比較演算\n",
        "\n",
        "| 演算\t| 説明\t|\t|演算\t|説明|\n",
        "|---|---|---|---|---|\n",
        "| a == b\t| a は b に等しい            |\t| a != b\t| a は b に等しくない |\n",
        "| a < b\t  | a 小なり b\t            | \t| a > b\t  | a 大なり b |\n",
        "| a <= b\t| a 小なりイコール b\t|\t| a >= b\t| a 大なりイコール b |\n"
      ]
    },
    {
      "cell_type": "code",
      "metadata": {
        "colab": {
          "base_uri": "https://localhost:8080/"
        },
        "id": "9m7-6pCGm6ZS",
        "outputId": "df8bec90-6d64-41ad-8bab-81b8195f6b41"
      },
      "source": [
        "# 実験\n",
        "print(True)\n",
        "if 1 :\n",
        "    print(\"1 is True\")\n",
        "if None :\n",
        "    print(\"None is True\")\n",
        "else: print(\"None is False\")\n",
        "print(None)\n",
        "if -1 :\n",
        "    print(\"-1 is True\")\n",
        "else: print(\"-1 is False\")\n",
        "if 0 :\n",
        "    print(\"0 is True\")\n",
        "else: print(\"0 is False\")\n",
        "print([])\n",
        "if [] :\n",
        "    print(\"[] is True\")\n",
        "else: print(\"[] is False\")\n",
        "if [1] :\n",
        "    print(\"[1] is True\")\n",
        "else: print(\"[1] is False\")\n",
        "if \"\" :\n",
        "    print(\"\\\"\\\" is True\")\n",
        "else: print(\"\\\"\\\" is False\")\n"
      ],
      "execution_count": null,
      "outputs": [
        {
          "output_type": "stream",
          "text": [
            "True\n",
            "1 is True\n",
            "None is False\n",
            "None\n",
            "-1 is True\n",
            "0 is False\n",
            "[]\n",
            "[] is False\n",
            "[1] is True\n",
            "\"\" is False\n"
          ],
          "name": "stdout"
        }
      ]
    },
    {
      "cell_type": "markdown",
      "metadata": {
        "id": "h7hPu8TTo1Mj"
      },
      "source": [
        "python で False なのは\n"
      ]
    },
    {
      "cell_type": "code",
      "metadata": {
        "colab": {
          "base_uri": "https://localhost:8080/"
        },
        "id": "Vanby7U_pjTz",
        "outputId": "b50c5735-9a2a-45a2-e3a9-97d2137d0f90"
      },
      "source": [
        "# python で False 以外は True\n",
        "print(bool(False))\n",
        "print(bool(None))\n",
        "print(bool())\n",
        "print(bool(EOFError)) # エラーは True\n",
        "print(bool(0)) # 0 以外の数値は True だが\n",
        "print(bool(0.0))\n",
        "print(bool(0j))\n",
        "print(bool(0+0j))\n",
        "print(bool(\"\")) # カラの str\n",
        "print(bool(())) # カラのタプル\n",
        "print(bool([])) # カラのリスト\n",
        "print(bool({})) # カラの dict\n",
        "print(int(True))\n",
        "print(int(False))\n"
      ],
      "execution_count": null,
      "outputs": [
        {
          "output_type": "stream",
          "text": [
            "False\n",
            "False\n",
            "False\n",
            "True\n",
            "False\n",
            "False\n",
            "False\n",
            "False\n",
            "False\n",
            "False\n",
            "False\n",
            "False\n",
            "1\n",
            "0\n"
          ],
          "name": "stdout"
        }
      ]
    },
    {
      "cell_type": "code",
      "metadata": {
        "colab": {
          "base_uri": "https://localhost:8080/"
        },
        "id": "Aj_YIlMCrOJ8",
        "outputId": "6acf5585-03e4-4bda-ae80-0dc91d810ebc"
      },
      "source": [
        "name = \"\"\n",
        "if name:\n",
        "    print(\"名前は\" + name + \"です\")\n",
        "else:\n",
        "    print(\"名前は未登録です\")"
      ],
      "execution_count": null,
      "outputs": [
        {
          "output_type": "stream",
          "text": [
            "名前は未登録です\n"
          ],
          "name": "stdout"
        }
      ]
    },
    {
      "cell_type": "markdown",
      "metadata": {
        "id": "ivMXamIbrbnq"
      },
      "source": [
        "---\n",
        "問題 $\\quad$ 引数に年齢を入れて呼び出すと、アメリカの大統領に立候補できる年齢かどうかを判定する"
      ]
    },
    {
      "cell_type": "code",
      "metadata": {
        "id": "X3ODDSF1AAJE",
        "colab": {
          "base_uri": "https://localhost:8080/"
        },
        "outputId": "7b254a7e-e0b3-4c0a-f745-17c6d56b53c7"
      },
      "source": [
        "# 引数に年齢を入れて呼び出すと、アメリカの大統領に立候補できる年齢かどうかを判定する\n",
        "def can_run_for_president(age):\n",
        "    \"\"\"引数に年齢を入れて呼び出すと、アメリカの大統領に立候補できる年齢かどうかを判定する\"\"\"\n",
        "    # The US Constitution says you must be at least 35 years old\n",
        "    return age >= 35\n",
        "\n",
        "print(\"Can a 19-year-old run for president?\", can_run_for_president(19))\n",
        "print(\"Can a 45-year-old run for president?\", can_run_for_president(45))"
      ],
      "execution_count": null,
      "outputs": [
        {
          "output_type": "stream",
          "text": [
            "Can a 19-year-old run for president? False\n",
            "Can a 45-year-old run for president? True\n"
          ],
          "name": "stdout"
        }
      ]
    },
    {
      "cell_type": "markdown",
      "metadata": {
        "id": "lqyMy__aum5l"
      },
      "source": [
        "---\n",
        "ブール値の組み合わせ\n",
        "\n",
        "`and`、`or`、`not`でブール値を組み合わせることができる。\n",
        "\n"
      ]
    },
    {
      "cell_type": "code",
      "metadata": {
        "id": "C7yZyY_BBMsa",
        "colab": {
          "base_uri": "https://localhost:8080/"
        },
        "outputId": "7783ffd4-a8c7-40a8-ce6b-33a42ee9035b"
      },
      "source": [
        "# 引数に年齢とアメリカ生まれかどうかを入れて呼び出すと、\n",
        "# アメリカの大統領に立候補することが法律上できるかどうかを判定してTrueまたはFalseを返す\n",
        "\n",
        "def can_run_for_president(age, is_natural_born_citizen):\n",
        "    \"\"\"Can someone of the given age and citizenship status run for president in the US?\"\"\"\n",
        "    # The US Constitution says you must be a natural born citizen *and* at least 35 years old\n",
        "    return is_natural_born_citizen and (age >= 35)\n",
        "\n",
        "print(can_run_for_president(19, True))\n",
        "print(can_run_for_president(55, False))\n",
        "print(can_run_for_president(55, True))"
      ],
      "execution_count": null,
      "outputs": [
        {
          "output_type": "stream",
          "text": [
            "False\n",
            "False\n",
            "True\n"
          ],
          "name": "stdout"
        }
      ]
    },
    {
      "cell_type": "markdown",
      "metadata": {
        "id": "HJfjOYxKEMoh"
      },
      "source": [
        "---\n",
        "ブール演算の優先順位\n",
        "\n",
        "`and`は`or`より先に評価される。\n",
        "\n",
        "なるべくカッコを使ってわかりやすくする。\n"
      ]
    },
    {
      "cell_type": "code",
      "metadata": {
        "id": "V08dgCVTESRI",
        "colab": {
          "base_uri": "https://localhost:8080/"
        },
        "outputId": "3b8bea0a-216f-48c8-ff68-005980dafd4a"
      },
      "source": [
        "print(True or True and False)\n",
        "print(True or (True and False))\n",
        "print((True or True) and False)"
      ],
      "execution_count": null,
      "outputs": [
        {
          "output_type": "stream",
          "text": [
            "True\n",
            "True\n",
            "False\n"
          ],
          "name": "stdout"
        }
      ]
    },
    {
      "cell_type": "code",
      "metadata": {
        "colab": {
          "base_uri": "https://localhost:8080/"
        },
        "id": "BatyohIktbRG",
        "outputId": "03a950e5-9b1f-4fdb-c46b-be4cb8ffcbe0"
      },
      "source": [
        "# True は False より大きい\n",
        "if True > False:\n",
        "    print(\"True is larger than False\")"
      ],
      "execution_count": null,
      "outputs": [
        {
          "output_type": "stream",
          "text": [
            "True is larger than False\n"
          ],
          "name": "stdout"
        }
      ]
    },
    {
      "cell_type": "markdown",
      "metadata": {
        "id": "UZkvclDpFX-v"
      },
      "source": [
        "---\n",
        "条件文\n",
        "\n",
        "ブール型は `if`、`elif`、`else` キーワードの条件文と組み合わせて使う。\n",
        "\n",
        "条件文は `if` 文とも言われる。\n",
        "\n"
      ]
    },
    {
      "cell_type": "code",
      "metadata": {
        "id": "fOftabML70ku",
        "colab": {
          "base_uri": "https://localhost:8080/"
        },
        "outputId": "e2ec3b44-1567-41f5-aada-dbc76c1f36e8"
      },
      "source": [
        "# 引数がゼロか、正か、負かを判定して文字列を返す\n",
        "# 関数の中で print を使わない\n",
        "def inspect(x):\n",
        "    if x == 0:\n",
        "        return \"{} is zero\".format(x)\n",
        "    elif x > 0:\n",
        "        return \"{} is positive\".format(x)\n",
        "    elif x < 0:\n",
        "        return \"{} is negative\".format(x)\n",
        "    else:\n",
        "        return \"{} is unlike anything I've ever seen...\".format(x)\n",
        "\n",
        "print(inspect(0))\n",
        "print(inspect(-15))"
      ],
      "execution_count": null,
      "outputs": [
        {
          "output_type": "stream",
          "text": [
            "0 is zero\n",
            "-15 is negative\n"
          ],
          "name": "stdout"
        }
      ]
    },
    {
      "cell_type": "markdown",
      "metadata": {
        "id": "QbFg_YXFUxF-"
      },
      "source": [
        "---\n",
        "質問\n",
        "\n",
        "* なぜ else if でなく elif なのか。\n",
        "* if は後置で使えるか。\n",
        "* if, elif, else を改行なしで書けるか。\n",
        "\n",
        "\n",
        "\n",
        "      "
      ]
    },
    {
      "cell_type": "markdown",
      "metadata": {
        "id": "F3D9leh9NybG"
      },
      "source": [
        "---\n",
        "問題\n",
        "\n",
        "数値の引数を取り、負の場合は-1、正の場合は1、0の場合は0を返す、signと呼ばれる関数を定義する。多くのプログラミング言語にはあって、 python の組み込み関数にはないもの。\n"
      ]
    },
    {
      "cell_type": "code",
      "metadata": {
        "colab": {
          "base_uri": "https://localhost:8080/"
        },
        "id": "UBFeumkwwcMF",
        "outputId": "1bc210a3-33bc-4e7e-884d-fd237c647758"
      },
      "source": [
        "import numpy as np\n",
        "np.sign(-1)"
      ],
      "execution_count": null,
      "outputs": [
        {
          "output_type": "execute_result",
          "data": {
            "text/plain": [
              "-1"
            ]
          },
          "metadata": {
            "tags": []
          },
          "execution_count": 57
        }
      ]
    },
    {
      "cell_type": "code",
      "metadata": {
        "id": "5JVPdAQNxHEx"
      },
      "source": [
        "from sympy import sign\n",
        "sign(-1)"
      ],
      "execution_count": null,
      "outputs": []
    },
    {
      "cell_type": "code",
      "metadata": {
        "id": "mFIE3xODPi9u",
        "colab": {
          "base_uri": "https://localhost:8080/"
        },
        "outputId": "c7c9178b-e79e-440d-8720-13088b1262a2"
      },
      "source": [
        "# 数値の引数を取り、負の場合は-1、正の場合は1、0の場合は0を返す\n",
        "def sign (x) :\n",
        "    if x < 0 :\n",
        "        return -1\n",
        "    elif x > 0 :\n",
        "        return 1\n",
        "    else :\n",
        "        return 0\n",
        "\n",
        "print(sign(-1))\n",
        "print(sign(1))\n",
        "print(sign(0))\n"
      ],
      "execution_count": null,
      "outputs": [
        {
          "output_type": "stream",
          "text": [
            "-1\n",
            "1\n",
            "0\n"
          ],
          "name": "stdout"
        }
      ]
    },
    {
      "cell_type": "markdown",
      "metadata": {
        "id": "w4Wcupvf0snv"
      },
      "source": [
        "---\n",
        "問題 $\\quad$ 引数を args を set で受ける\n",
        "\n",
        "* hotdog (ketchup, mustard, onion) => \"wants all toppings with ketchup and mustard and onion\"\n",
        "* hotdog () => \"wants plain hotdog without toppings\"\n",
        "* hotdog (ketchup) => \"wants hotdog with once sauce ketchup\"\n",
        "* hotdog (ketchup, onion) => \"wants two sauce ketchup and onion\"\n",
        "\n"
      ]
    },
    {
      "cell_type": "code",
      "metadata": {
        "colab": {
          "base_uri": "https://localhost:8080/"
        },
        "id": "q53G3xWd2Tcn",
        "outputId": "6a9f6868-5942-4848-c3fc-a64499b2092c"
      },
      "source": [
        "def hotdog (*args):\n",
        "    args = set(args)\n",
        "    if args == set():\n",
        "        return \"wants plain hotdog without toppings\"\n",
        "    elif args == {\"ketchup\"}:\n",
        "        return \"wants hotdog with once sauce ketchup\"\n",
        "    elif args == {\"mustard\"}:\n",
        "        return \"wants hotdog with once sauce mustard\"\n",
        "    elif args == {\"onion\"}:\n",
        "        return \"wants hotdog with once sauce onion\"\n",
        "    elif args ==  {\"ketchup\", \"mustard\"}:\n",
        "        return \"wants two sauce ketchup and mustard\"\n",
        "    elif args ==  {\"ketchup\", \"onion\"}:\n",
        "        return \"wants two sauce ketchup and onion\"\n",
        "    elif args ==  {\"mustard\", \"onion\"}:\n",
        "        return \"wants two sauce mustard and onion\"\n",
        "    elif args ==  {\"ketchup\", \"mustard\", \"onion\"}:\n",
        "        return \"wants all toppings with ketchup and mustard and onion\"\n",
        "\n",
        "print(hotdog(\"onion\", \"mustard\"))\n",
        "print(hotdog())\n",
        "print(hotdog(\"onion\", \"mustard\", \"ketchup\"))\n",
        "print(hotdog(\"onion\"))"
      ],
      "execution_count": null,
      "outputs": [
        {
          "output_type": "stream",
          "text": [
            "wants two sauce mustard and onion\n",
            "wants plain hotdog without toppings\n",
            "wants all toppings with ketchup and mustard and onion\n",
            "wants hotdog with once sauce onion\n"
          ],
          "name": "stdout"
        }
      ]
    },
    {
      "cell_type": "markdown",
      "metadata": {
        "id": "OT9WynwoqXss"
      },
      "source": [
        "---\n",
        "問題 \n",
        "\n",
        "`int()` の引数にブール型を入れて、合計をとることにより、1 つだけ選ばれたことを判定することができる。\n"
      ]
    },
    {
      "cell_type": "code",
      "metadata": {
        "id": "i_11jVDpz37V",
        "colab": {
          "base_uri": "https://localhost:8080/",
          "height": 34
        },
        "outputId": "5f9fce7f-4319-4371-903d-46456f178b5a"
      },
      "source": [
        "def exactly_one_topping(ketchup, mustard, onion):\n",
        "    return (int(ketchup) + int(mustard) + int(onion)) == 1\n",
        "\n",
        "ketchup = True\n",
        "mustard = True\n",
        "onion = True\n",
        "\n",
        "print(exactly_one_topping(ketchup, mustard, onion))"
      ],
      "execution_count": null,
      "outputs": [
        {
          "output_type": "stream",
          "text": [
            "False\n"
          ],
          "name": "stdout"
        }
      ]
    },
    {
      "cell_type": "markdown",
      "metadata": {
        "id": "kslgS1Bcc-jr"
      },
      "source": [
        "# リスト"
      ]
    },
    {
      "cell_type": "code",
      "metadata": {
        "id": "neBx_l_RdaBP",
        "colab": {
          "base_uri": "https://localhost:8080/",
          "height": 35
        },
        "outputId": "b52a2b7b-0a9c-4ecf-84fc-e493a610bfdd"
      },
      "source": [
        "# リストの例\n",
        "primes = [2, 3, 5, 7]\n",
        "print(primes)"
      ],
      "execution_count": null,
      "outputs": [
        {
          "output_type": "stream",
          "text": [
            "[2, 3, 5, 7]\n"
          ],
          "name": "stdout"
        }
      ]
    },
    {
      "cell_type": "code",
      "metadata": {
        "id": "qoH8KDIeaXj-",
        "colab": {
          "base_uri": "https://localhost:8080/",
          "height": 35
        },
        "outputId": "2268a73c-16c6-4c3b-cbee-4f0230f32b78"
      },
      "source": [
        "planets = ['Mercury', 'Venus', 'Earth', 'Mars', 'Jupiter', 'Saturn', 'Uranus', 'Neptune']\n",
        "print(planets)"
      ],
      "execution_count": null,
      "outputs": [
        {
          "output_type": "stream",
          "text": [
            "['Mercury', 'Venus', 'Earth', 'Mars', 'Jupiter', 'Saturn', 'Uranus', 'Neptune']\n"
          ],
          "name": "stdout"
        }
      ]
    },
    {
      "cell_type": "markdown",
      "metadata": {
        "id": "7i4VgJMf_FPb"
      },
      "source": [
        "リストのリストが作れる"
      ]
    },
    {
      "cell_type": "code",
      "metadata": {
        "id": "rzzB6oWtaLCl",
        "colab": {
          "base_uri": "https://localhost:8080/",
          "height": 35
        },
        "outputId": "41679117-840b-4cea-bbc0-e36163ab7a2c"
      },
      "source": [
        "hands = [\n",
        "    ['J', 'Q', 'K'],\n",
        "    ['2', '2', '2'],\n",
        "    ['6', 'A', 'K'], # 最後の要素のあとにカンマがあってもかまわない\n",
        "]\n",
        "\n",
        "print(hands)"
      ],
      "execution_count": null,
      "outputs": [
        {
          "output_type": "stream",
          "text": [
            "[['J', 'Q', 'K'], ['2', '2', '2'], ['6', 'A', 'K']]\n"
          ],
          "name": "stdout"
        }
      ]
    },
    {
      "cell_type": "markdown",
      "metadata": {
        "id": "M29iO8lVc2zm"
      },
      "source": [
        "python のリストは型の混在が可能。\n"
      ]
    },
    {
      "cell_type": "code",
      "metadata": {
        "id": "65Z3ZAwubHZC",
        "colab": {
          "base_uri": "https://localhost:8080/"
        },
        "outputId": "39730c49-9f41-41a2-ad44-c4ac4fac1583"
      },
      "source": [
        "my_favourite_things = [32, 'raindrops on roses', help]\n",
        "print(my_favourite_things)"
      ],
      "execution_count": null,
      "outputs": [
        {
          "output_type": "stream",
          "text": [
            "[32, 'raindrops on roses', Type help() for interactive help, or help(object) for help about object.]\n"
          ],
          "name": "stdout"
        }
      ]
    },
    {
      "cell_type": "markdown",
      "metadata": {
        "id": "TBsbOerf_iGQ"
      },
      "source": [
        "---\n",
        "インデクス\n",
        "\n",
        "リストの要素には角括弧 `square brackets` でアクセスできる。\n",
        "\n",
        "太陽に一番近い惑星はどこか?  python のインデクスは0スタートなので、最初の要素はインデクス0となる。\n",
        "\n"
      ]
    },
    {
      "cell_type": "code",
      "metadata": {
        "id": "ja9ZUdC3m44t",
        "colab": {
          "base_uri": "https://localhost:8080/",
          "height": 35
        },
        "outputId": "30f289e3-02b3-4b4b-8004-ab32d5480328"
      },
      "source": [
        "planets = ['Mercury', 'Venus', 'Earth', 'Mars', 'Jupiter', 'Saturn', 'Uranus', 'Neptune']\n",
        "planets[0]"
      ],
      "execution_count": null,
      "outputs": [
        {
          "output_type": "execute_result",
          "data": {
            "application/vnd.google.colaboratory.intrinsic": {
              "type": "string"
            },
            "text/plain": [
              "'Mercury'"
            ]
          },
          "metadata": {
            "tags": []
          },
          "execution_count": 11
        }
      ]
    },
    {
      "cell_type": "markdown",
      "metadata": {
        "id": "yR71nDTAGX-3"
      },
      "source": [
        "冥王星 Pluto がないのは惑星ではなくなったから"
      ]
    },
    {
      "cell_type": "markdown",
      "metadata": {
        "id": "RS-g-5gJnIo9"
      },
      "source": [
        "太陽から一番遠い惑星はどこか?\n",
        "\n",
        "リストの最後の要素はマイナスの数でアクセスできる。\n"
      ]
    },
    {
      "cell_type": "code",
      "metadata": {
        "id": "H7McvjOeneBx",
        "colab": {
          "base_uri": "https://localhost:8080/",
          "height": 50
        },
        "outputId": "272b7f8c-4203-4e95-c5f2-a7cd7a8763ec"
      },
      "source": [
        "print(planets[-1])\n",
        "print(planets[-2])"
      ],
      "execution_count": null,
      "outputs": [
        {
          "output_type": "stream",
          "text": [
            "Neptune\n",
            "Uranus\n"
          ],
          "name": "stdout"
        }
      ]
    },
    {
      "cell_type": "markdown",
      "metadata": {
        "id": "hNQN2iTb_edz"
      },
      "source": [
        "---\n",
        "スライス、スライシング、切り取り、コロン\n",
        "\n",
        "太陽から近い順に3つの惑星をリストにする。このようなときにスライシングが使える。\n"
      ]
    },
    {
      "cell_type": "code",
      "metadata": {
        "id": "5IAWi_B5oBFh",
        "colab": {
          "base_uri": "https://localhost:8080/",
          "height": 34
        },
        "outputId": "0328d470-8ceb-4e3a-c514-6cc58306068e"
      },
      "source": [
        "planets = ['Mercury', 'Venus', 'Earth', 'Mars', 'Jupiter', 'Saturn', 'Uranus', 'Neptune']\n",
        "planets[0:3]"
      ],
      "execution_count": null,
      "outputs": [
        {
          "output_type": "execute_result",
          "data": {
            "text/plain": [
              "['Mercury', 'Venus', 'Earth']"
            ]
          },
          "metadata": {
            "tags": []
          },
          "execution_count": 14
        }
      ]
    },
    {
      "cell_type": "markdown",
      "metadata": {
        "id": "logbyUnpn_di"
      },
      "source": [
        "`planets[0:3]` の意味はインデクス 0 から 3 までで、3 を含まない、ということ。\n",
        "\n",
        "スタートとエンドの要素は省略可能。最初のインデクスを省略すると、0とみなされるので、前の例は次のように書ける。\n"
      ]
    },
    {
      "cell_type": "code",
      "metadata": {
        "id": "RnrwU6-aoolw",
        "colab": {
          "base_uri": "https://localhost:8080/",
          "height": 34
        },
        "outputId": "fd1147d1-e18e-4ae6-e057-7f33dd0f2b6a"
      },
      "source": [
        "planets[:3]"
      ],
      "execution_count": null,
      "outputs": [
        {
          "output_type": "execute_result",
          "data": {
            "text/plain": [
              "['Mercury', 'Venus', 'Earth']"
            ]
          },
          "metadata": {
            "tags": []
          },
          "execution_count": 15
        }
      ]
    },
    {
      "cell_type": "markdown",
      "metadata": {
        "id": "S609vyLYonbl"
      },
      "source": [
        "エンドのインデクスを省略すると、リストの長さを指定したことになる。\n",
        "\n"
      ]
    },
    {
      "cell_type": "code",
      "metadata": {
        "id": "kxCVALNXo4_w",
        "colab": {
          "base_uri": "https://localhost:8080/",
          "height": 34
        },
        "outputId": "aaba1b00-c6ed-4889-d03d-8aec64e321eb"
      },
      "source": [
        "planets[3:]"
      ],
      "execution_count": null,
      "outputs": [
        {
          "output_type": "execute_result",
          "data": {
            "text/plain": [
              "['Mars', 'Jupiter', 'Saturn', 'Uranus', 'Neptune']"
            ]
          },
          "metadata": {
            "tags": []
          },
          "execution_count": 16
        }
      ]
    },
    {
      "cell_type": "markdown",
      "metadata": {
        "id": "dSoD_35Ao36f"
      },
      "source": [
        "`planets[3:]`の意味はインデクス3から最後まで、という意味になる。\n",
        "\n",
        "スライシングにマイナスのインデクスを使うこともできる。\n"
      ]
    },
    {
      "cell_type": "code",
      "metadata": {
        "id": "4MCyDfZYpL1o",
        "colab": {
          "base_uri": "https://localhost:8080/",
          "height": 34
        },
        "outputId": "4fd9af6d-d00e-45f0-90ab-dad89eb749d5"
      },
      "source": [
        "# All the planets except the first and last\n",
        "planets[1:-1]"
      ],
      "execution_count": null,
      "outputs": [
        {
          "output_type": "execute_result",
          "data": {
            "text/plain": [
              "['Venus', 'Earth', 'Mars', 'Jupiter', 'Saturn', 'Uranus']"
            ]
          },
          "metadata": {
            "tags": []
          },
          "execution_count": 17
        }
      ]
    },
    {
      "cell_type": "code",
      "metadata": {
        "id": "l6DfbNaOpRKX",
        "colab": {
          "base_uri": "https://localhost:8080/",
          "height": 34
        },
        "outputId": "cb04a9a7-8327-46d5-b382-7fc3779cd77b"
      },
      "source": [
        "# The last 3 planets\n",
        "planets[-3:]"
      ],
      "execution_count": null,
      "outputs": [
        {
          "output_type": "execute_result",
          "data": {
            "text/plain": [
              "['Saturn', 'Uranus', 'Neptune']"
            ]
          },
          "metadata": {
            "tags": []
          },
          "execution_count": 18
        }
      ]
    },
    {
      "cell_type": "markdown",
      "metadata": {
        "id": "bLHiNCYq_3E1"
      },
      "source": [
        "---\n",
        "リストの更新\n",
        "\n",
        "リストは可変 `mutable` である。コピーを作らずその場でそのものを更新できる。\n",
        "\n",
        "インデクスやスライスで値を入れることでリストを更新できる。\n",
        "\n",
        "例えば火星 `Mars` の名前を変えたいとしよう。\n",
        "\n"
      ]
    },
    {
      "cell_type": "code",
      "metadata": {
        "id": "Y38EaklOuzJr",
        "colab": {
          "base_uri": "https://localhost:8080/"
        },
        "outputId": "c1b4e9c2-67a6-4092-8db1-9bd0de7887b3"
      },
      "source": [
        "planets = ['Mercury', 'Venus', 'Earth', 'Mars', 'Jupiter', 'Saturn', 'Uranus', 'Neptune']\n",
        "planets[3] = 'Malacandra'\n",
        "print(planets)"
      ],
      "execution_count": null,
      "outputs": [
        {
          "output_type": "stream",
          "text": [
            "['Mercury', 'Venus', 'Earth', 'Malacandra', 'Jupiter', 'Saturn', 'Uranus', 'Neptune']\n"
          ],
          "name": "stdout"
        }
      ]
    },
    {
      "cell_type": "markdown",
      "metadata": {
        "id": "XxkhzMBWuxqa"
      },
      "source": [
        "最初の3つの惑星の名前を短くしてみよう。\n"
      ]
    },
    {
      "cell_type": "code",
      "metadata": {
        "id": "3l-yMmZqvEtW",
        "colab": {
          "base_uri": "https://localhost:8080/",
          "height": 34
        },
        "outputId": "956c36fd-046a-484d-aaf6-77cfd1b8a1f9"
      },
      "source": [
        "planets[:3] = ['Mur', 'Vee', 'Ur']\n",
        "print(planets)"
      ],
      "execution_count": null,
      "outputs": [
        {
          "output_type": "stream",
          "text": [
            "['Mur', 'Vee', 'Ur', 'Malacandra', 'Jupiter', 'Saturn', 'Uranus', 'Neptune']\n"
          ],
          "name": "stdout"
        }
      ]
    },
    {
      "cell_type": "code",
      "metadata": {
        "id": "KfzK-axxvOYD",
        "colab": {
          "base_uri": "https://localhost:8080/",
          "height": 34
        },
        "outputId": "f6ba144a-2725-470b-f320-086666ac6d44"
      },
      "source": [
        "# 元に戻す\n",
        "planets[:4] = ['Mercury', 'Venus', 'Earth', 'Mars',]\n",
        "planets"
      ],
      "execution_count": null,
      "outputs": [
        {
          "output_type": "execute_result",
          "data": {
            "text/plain": [
              "['Mercury', 'Venus', 'Earth', 'Mars', 'Jupiter', 'Saturn', 'Uranus', 'Neptune']"
            ]
          },
          "metadata": {
            "tags": []
          },
          "execution_count": 22
        }
      ]
    },
    {
      "cell_type": "markdown",
      "metadata": {
        "id": "LYrANVAkAB0E"
      },
      "source": [
        "---\n",
        "リスト関数\n",
        "\n",
        "リストを扱う便利な関数がいろいろある。\n",
        "\n",
        "`len` はリストの長さを返す"
      ]
    },
    {
      "cell_type": "code",
      "metadata": {
        "id": "DK06qFbTvwLU",
        "colab": {
          "base_uri": "https://localhost:8080/",
          "height": 34
        },
        "outputId": "ceb9ae97-83db-4ddd-a00c-5710cbf08b9c"
      },
      "source": [
        "# How many planets are there?\n",
        "len(planets)"
      ],
      "execution_count": null,
      "outputs": [
        {
          "output_type": "execute_result",
          "data": {
            "text/plain": [
              "8"
            ]
          },
          "metadata": {
            "tags": []
          },
          "execution_count": 23
        }
      ]
    },
    {
      "cell_type": "markdown",
      "metadata": {
        "id": "Wcf9LBwjvrHr"
      },
      "source": [
        "`sorted` はリストのソートしたものを返す。\n"
      ]
    },
    {
      "cell_type": "code",
      "metadata": {
        "id": "JG2ZkhIiwJ92",
        "colab": {
          "base_uri": "https://localhost:8080/",
          "height": 34
        },
        "outputId": "4847a704-4ba9-4c42-d907-d45c8bf40978"
      },
      "source": [
        "# The planets sorted in alphabetical order\n",
        "sorted(planets)"
      ],
      "execution_count": null,
      "outputs": [
        {
          "output_type": "execute_result",
          "data": {
            "text/plain": [
              "['Earth', 'Jupiter', 'Mars', 'Mercury', 'Neptune', 'Saturn', 'Uranus', 'Venus']"
            ]
          },
          "metadata": {
            "tags": []
          },
          "execution_count": 24
        }
      ]
    },
    {
      "cell_type": "markdown",
      "metadata": {
        "id": "uplvvHgwwG4_"
      },
      "source": [
        "`sum` は数値の合計を返す。\n"
      ]
    },
    {
      "cell_type": "code",
      "metadata": {
        "id": "tLpQofQewWGP"
      },
      "source": [
        "primes = [2, 3, 5, 7]\n",
        "sum(primes)"
      ],
      "execution_count": null,
      "outputs": []
    },
    {
      "cell_type": "markdown",
      "metadata": {
        "id": "G3phy0f_wUGD"
      },
      "source": [
        "`min` と `max` はリストを引数として渡すこともできる。\n"
      ]
    },
    {
      "cell_type": "code",
      "metadata": {
        "id": "YeaLbGDHwttm",
        "colab": {
          "base_uri": "https://localhost:8080/",
          "height": 34
        },
        "outputId": "b1b4186d-02fc-47f3-9edd-f919b695d1ad"
      },
      "source": [
        "max(primes)"
      ],
      "execution_count": null,
      "outputs": [
        {
          "output_type": "execute_result",
          "data": {
            "text/plain": [
              "7"
            ]
          },
          "metadata": {
            "tags": []
          },
          "execution_count": 25
        }
      ]
    },
    {
      "cell_type": "code",
      "metadata": {
        "id": "tQZxZdbhwxrQ",
        "colab": {
          "base_uri": "https://localhost:8080/",
          "height": 35
        },
        "outputId": "5e902b5b-a918-4a80-d817-80a5c32213db"
      },
      "source": [
        "min(planets)"
      ],
      "execution_count": null,
      "outputs": [
        {
          "output_type": "execute_result",
          "data": {
            "application/vnd.google.colaboratory.intrinsic": {
              "type": "string"
            },
            "text/plain": [
              "'Earth'"
            ]
          },
          "metadata": {
            "tags": []
          },
          "execution_count": 27
        }
      ]
    },
    {
      "cell_type": "markdown",
      "metadata": {
        "id": "XAGWRjoDANuy"
      },
      "source": [
        "---\n",
        "オブジェクトとドットシンタクス\n",
        "\n",
        "オブジェクトはなんらかの性質をもっている物であり、その性質にアクセするためにドットシンタクスがある。\n",
        "\n",
        "例えば、 python の数値は `imag` と呼ばれる虚数部分を表す変数を持っていて、次のようにアクセスする。\n"
      ]
    },
    {
      "cell_type": "code",
      "metadata": {
        "id": "GMAS0B1P8NAw",
        "colab": {
          "base_uri": "https://localhost:8080/",
          "height": 34
        },
        "outputId": "1458ad60-7e10-4686-b854-f1531c85b476"
      },
      "source": [
        "x = 12\n",
        "# x is a real number, so its imaginary part is 0.\n",
        "print(x.imag)"
      ],
      "execution_count": null,
      "outputs": [
        {
          "output_type": "stream",
          "text": [
            "0\n"
          ],
          "name": "stdout"
        }
      ]
    },
    {
      "cell_type": "code",
      "metadata": {
        "id": "OWvsHBZ98aIL",
        "colab": {
          "base_uri": "https://localhost:8080/"
        },
        "outputId": "7604d3fc-cebb-4c01-9bf1-d9147ee0f5cb"
      },
      "source": [
        "# Here's how to make a complex number, in case you've ever been curious:\n",
        "c = 12 + 3j\n",
        "print(c.imag)"
      ],
      "execution_count": null,
      "outputs": [
        {
          "output_type": "stream",
          "text": [
            "3.0\n"
          ],
          "name": "stdout"
        }
      ]
    },
    {
      "cell_type": "markdown",
      "metadata": {
        "id": "3gGYtzW08Ki4"
      },
      "source": [
        "オブジェクトは関数を持っていていて、オブジェクトに付属する関数のことはメソッドと呼ばれる。\n",
        "\n",
        "`imag`のようなオブジェクトの性質は属性 `attributes` と呼ぶ。\n",
        "\n",
        "例えば、整数は`bit_length`というメソッドを持っていて、次のように使う。\n"
      ]
    },
    {
      "cell_type": "code",
      "metadata": {
        "id": "Nhx_x9aN9TQA",
        "colab": {
          "base_uri": "https://localhost:8080/"
        },
        "outputId": "360dcecd-ea60-49e4-867b-2b47f569f027"
      },
      "source": [
        "x = -3\n",
        "x.bit_length()"
      ],
      "execution_count": null,
      "outputs": [
        {
          "output_type": "execute_result",
          "data": {
            "text/plain": [
              "2"
            ]
          },
          "metadata": {
            "tags": []
          },
          "execution_count": 102
        }
      ]
    },
    {
      "cell_type": "markdown",
      "metadata": {
        "id": "Ig9UBtzd9RqZ"
      },
      "source": [
        "普通の関数の `help()` は 'help(max)` のように使うが、メソッドについての `help()` は次のようにオブジェクトのドットシンタクスとして呼び出す。 属性も同じ。 オブジェクトがないとエラーになる。\n"
      ]
    },
    {
      "cell_type": "code",
      "metadata": {
        "id": "-8J3NIVDBX00",
        "colab": {
          "base_uri": "https://localhost:8080/"
        },
        "outputId": "05b0b8bf-2431-45ad-d229-a5d8229209da"
      },
      "source": [
        "x = 12\n",
        "help(x.bit_length)"
      ],
      "execution_count": null,
      "outputs": [
        {
          "output_type": "stream",
          "text": [
            "Help on built-in function bit_length:\n",
            "\n",
            "bit_length() method of builtins.int instance\n",
            "    Number of bits necessary to represent self in binary.\n",
            "    \n",
            "    >>> bin(37)\n",
            "    '0b100101'\n",
            "    >>> (37).bit_length()\n",
            "    6\n",
            "\n"
          ],
          "name": "stdout"
        }
      ]
    },
    {
      "cell_type": "markdown",
      "metadata": {
        "id": "hqb8WqveAh0A"
      },
      "source": [
        "`list.append` は要素をリストの最後に付け加える\n",
        "\n"
      ]
    },
    {
      "cell_type": "code",
      "metadata": {
        "id": "ja7lJtxWCZve",
        "colab": {
          "base_uri": "https://localhost:8080/"
        },
        "outputId": "08979e59-290d-4e95-e4e1-49f1cbc0c206"
      },
      "source": [
        "# Pluto is a planet darn it!\n",
        "planets.append('Pluto')\n",
        "print(planets)\n",
        "print(planets.append(\"Nothing\")) # append に返り値はない"
      ],
      "execution_count": null,
      "outputs": [
        {
          "output_type": "stream",
          "text": [
            "['Mercury', 'Venus', 'Earth', 'Malacandra', 'Jupiter', 'Saturn', 'Uranus', 'Neptune', 'Pluto', 'Pluto']\n",
            "None\n"
          ],
          "name": "stdout"
        }
      ]
    },
    {
      "cell_type": "markdown",
      "metadata": {
        "id": "KQ1nWX5ZF8XT"
      },
      "source": [
        "メソッド `append` はリスト型のメソッドなので、`help()` で呼び出す際にもなんらかのリストをつける必要がある。\n",
        "\n",
        "`help(append)`とするとエラーになる。そこが組み込み関数の `max` などと違うところで、`max` の場合 `help(max)` で呼び出せる。\n",
        "\n",
        "`help([].append)` のドキュメントにある、`-> None` の部分が `list.append` が返り値がないことを表している。\n"
      ]
    },
    {
      "cell_type": "markdown",
      "metadata": {
        "id": "TfMfNHTlHZ2f"
      },
      "source": [
        "---\n",
        "`list.pop` はリストの最後の要素を削除する。\n"
      ]
    },
    {
      "cell_type": "code",
      "metadata": {
        "id": "fcjghYw-H0Ar",
        "colab": {
          "base_uri": "https://localhost:8080/"
        },
        "outputId": "00a6e33c-eff4-4b2f-ac22-a85dd976eca2"
      },
      "source": [
        "planets = ['Mercury', 'Venus', 'Earth', 'Mars', 'Jupiter', 'Saturn', 'Uranus', 'Neptune']\n",
        "print(planets)\n",
        "planets.pop()\n",
        "print(planets)\n",
        "planets.append('Neptune')\n",
        "print(planets)"
      ],
      "execution_count": null,
      "outputs": [
        {
          "output_type": "stream",
          "text": [
            "['Mercury', 'Venus', 'Earth', 'Mars', 'Jupiter', 'Saturn', 'Uranus', 'Neptune']\n",
            "['Mercury', 'Venus', 'Earth', 'Mars', 'Jupiter', 'Saturn', 'Uranus']\n",
            "['Mercury', 'Venus', 'Earth', 'Mars', 'Jupiter', 'Saturn', 'Uranus', 'Neptune']\n"
          ],
          "name": "stdout"
        }
      ]
    },
    {
      "cell_type": "markdown",
      "metadata": {
        "id": "rEcaF8Lt7ZAa"
      },
      "source": [
        "質問 $\\quad$ ということは、push, pop ペアではなくて、append, pop ペアなのか。これでスタック操作ができるかも。 "
      ]
    },
    {
      "cell_type": "markdown",
      "metadata": {
        "id": "Ott37F9pA0Fj"
      },
      "source": [
        "---\n",
        "リストの検索\n",
        "\n",
        "`planets`の中で`Earth`は何番目にあるか?\n",
        "\n",
        "list.indexメソッドを使う。\n"
      ]
    },
    {
      "cell_type": "code",
      "metadata": {
        "id": "zk4P4vk1ILqB",
        "colab": {
          "base_uri": "https://localhost:8080/",
          "height": 34
        },
        "outputId": "502af624-8804-49ef-8106-07c165a75a9c"
      },
      "source": [
        "planets.index('Earth')"
      ],
      "execution_count": null,
      "outputs": [
        {
          "output_type": "execute_result",
          "data": {
            "text/plain": [
              "2"
            ]
          },
          "metadata": {
            "tags": []
          },
          "execution_count": 47
        }
      ]
    },
    {
      "cell_type": "markdown",
      "metadata": {
        "id": "O3LNuYb6IInj"
      },
      "source": [
        "`planets`の中で`Earth`は3番目にあることがわかる。インデクスは 0 スタートなので、2 が 3 番目という意味になる。\n",
        "\n"
      ]
    },
    {
      "cell_type": "markdown",
      "metadata": {
        "id": "0y7r8ERE75Vg"
      },
      "source": [
        "存在しない要素を検索するとエラーになる。\n",
        "\n",
        "'Pluto' is not in list"
      ]
    },
    {
      "cell_type": "code",
      "metadata": {
        "id": "DqsYTiIEIoo6"
      },
      "source": [
        "# 次のコードはエラーになる\n",
        "# planets = ['Mercury', 'Venus', 'Earth', 'Mars', 'Jupiter', 'Saturn', 'Uranus', 'Neptune']\n",
        "# planets.index('Pluto')"
      ],
      "execution_count": null,
      "outputs": []
    },
    {
      "cell_type": "markdown",
      "metadata": {
        "id": "whUap4Kh8krj"
      },
      "source": [
        "エラーにしないために事前に調べる方法がある。\n"
      ]
    },
    {
      "cell_type": "code",
      "metadata": {
        "id": "w_clMIY0JjTz",
        "colab": {
          "base_uri": "https://localhost:8080/",
          "height": 34
        },
        "outputId": "843650ea-e706-4ec8-e245-85b1291e6baa"
      },
      "source": [
        "# Is Earth a planet?\n",
        "\"Earth\" in planets"
      ],
      "execution_count": null,
      "outputs": [
        {
          "output_type": "execute_result",
          "data": {
            "text/plain": [
              "True"
            ]
          },
          "metadata": {
            "tags": []
          },
          "execution_count": 50
        }
      ]
    },
    {
      "cell_type": "markdown",
      "metadata": {
        "id": "_yxUtpCpJheo"
      },
      "source": [
        "---\n",
        "リストについてのすべてのメソッドを知るには、`help(planets)`もしくは`help([])とすればいい。\n"
      ]
    },
    {
      "cell_type": "code",
      "metadata": {
        "id": "4NZSATUeKCCI"
      },
      "source": [
        "# help([])"
      ],
      "execution_count": null,
      "outputs": []
    },
    {
      "cell_type": "markdown",
      "metadata": {
        "id": "NtEKrLl_J-79"
      },
      "source": [
        "`__eq__`とか` __iadd__ `とか変な名前のメソッドがたくさん出てくるが、とりあえず気にしないでよい。たぶ直接使うことはなく、インデクスや比較演算子の背後で使われているメソッドである．\n",
        "\n",
        "最後の方にある、`append`、`clear`、`copy` 等を学ぶのがよい。\n"
      ]
    },
    {
      "cell_type": "code",
      "metadata": {
        "id": "x92NOx9yMPtu",
        "colab": {
          "base_uri": "https://localhost:8080/"
        },
        "outputId": "fce79031-cdac-4d93-9400-df54e3e854f5"
      },
      "source": [
        "help([].clear)"
      ],
      "execution_count": null,
      "outputs": [
        {
          "output_type": "stream",
          "text": [
            "Help on built-in function clear:\n",
            "\n",
            "clear() method of builtins.list instance\n",
            "    Remove all items from list.\n",
            "\n"
          ],
          "name": "stdout"
        }
      ]
    },
    {
      "cell_type": "code",
      "metadata": {
        "id": "D5M1iyLyMVEq",
        "colab": {
          "base_uri": "https://localhost:8080/"
        },
        "outputId": "f9f0fcc6-bd64-40f0-c1bf-bf9de504f542"
      },
      "source": [
        "help([].copy)"
      ],
      "execution_count": null,
      "outputs": [
        {
          "output_type": "stream",
          "text": [
            "Help on built-in function copy:\n",
            "\n",
            "copy() method of builtins.list instance\n",
            "    Return a shallow copy of the list.\n",
            "\n"
          ],
          "name": "stdout"
        }
      ]
    },
    {
      "cell_type": "markdown",
      "metadata": {
        "id": "1I2TbieuBFBR"
      },
      "source": [
        "# タプル\n",
        "\n",
        "タプルとリストの違いは次の2点.\n",
        "\n",
        "1. タプルを作るときには丸括弧 `parenthesis`を使う。リストは角括弧 `square bracket`。 集合は波括弧 'brace' 。\n",
        "\n",
        "2. タプルは可変ではない。イミュータブル `immutable` である。\n",
        "\n"
      ]
    },
    {
      "cell_type": "code",
      "metadata": {
        "id": "fQjNpOhfgGYR",
        "colab": {
          "base_uri": "https://localhost:8080/",
          "height": 35
        },
        "outputId": "0b223c13-7723-4fc2-e3a0-70cac5339f85"
      },
      "source": [
        "t = (1, 2, 3)\n",
        "t"
      ],
      "execution_count": null,
      "outputs": [
        {
          "output_type": "execute_result",
          "data": {
            "text/plain": [
              "(1, 2, 3)"
            ]
          },
          "metadata": {
            "tags": []
          },
          "execution_count": 57
        }
      ]
    },
    {
      "cell_type": "code",
      "metadata": {
        "id": "E4PEgVyfgPZ2",
        "colab": {
          "base_uri": "https://localhost:8080/",
          "height": 35
        },
        "outputId": "0d0bad66-b535-496e-c5d6-39d03bc9c208"
      },
      "source": [
        "t = 1, 2, 3 # t = (1, 2, 3) と同じ。カンマがタプルを生成する\n",
        "t"
      ],
      "execution_count": null,
      "outputs": [
        {
          "output_type": "execute_result",
          "data": {
            "text/plain": [
              "(1, 2, 3)"
            ]
          },
          "metadata": {
            "tags": []
          },
          "execution_count": 58
        }
      ]
    },
    {
      "cell_type": "code",
      "metadata": {
        "id": "tDxtQCVqgaHj"
      },
      "source": [
        "# タプルは変更できない。エラーになる\n",
        "# t = (1,2,3)\n",
        "# t[0] = 100"
      ],
      "execution_count": null,
      "outputs": []
    },
    {
      "cell_type": "markdown",
      "metadata": {
        "id": "h8FzdFXmgDZD"
      },
      "source": [
        "タプルは複数の返り値を持つ関数に使われる。\n",
        "\n",
        "例えば、`float` オブジェクトのメソッドである `as_integer_ration()` は分子と分母をタプルの形で返す。\n"
      ]
    },
    {
      "cell_type": "code",
      "metadata": {
        "id": "T6OEK0i-g_pz",
        "colab": {
          "base_uri": "https://localhost:8080/"
        },
        "outputId": "ea531739-f849-4273-b634-1cd6260371a7"
      },
      "source": [
        "x = 0.125\n",
        "x.as_integer_ratio()"
      ],
      "execution_count": null,
      "outputs": [
        {
          "output_type": "execute_result",
          "data": {
            "text/plain": [
              "(1, 8)"
            ]
          },
          "metadata": {
            "tags": []
          },
          "execution_count": 12
        }
      ]
    },
    {
      "cell_type": "markdown",
      "metadata": {
        "id": "7GojnRYUhYcg"
      },
      "source": [
        "結果を変数に入れるには次のようにする"
      ]
    },
    {
      "cell_type": "code",
      "metadata": {
        "id": "W4hl0dKIhV4k",
        "colab": {
          "base_uri": "https://localhost:8080/",
          "height": 35
        },
        "outputId": "456259a1-7b9b-4ddf-c1ad-2e7cd4021d79"
      },
      "source": [
        "numerator, denominator = x.as_integer_ratio()\n",
        "print(numerator / denominator)"
      ],
      "execution_count": null,
      "outputs": [
        {
          "output_type": "stream",
          "text": [
            "0.125\n"
          ],
          "name": "stdout"
        }
      ]
    },
    {
      "cell_type": "markdown",
      "metadata": {
        "id": "K2NUzhe2g906"
      },
      "source": [
        "メモ\n",
        "\n",
        "次の例を含め、有名な ` stupid  python tricks` を考えよう。 課題。\n"
      ]
    },
    {
      "cell_type": "code",
      "metadata": {
        "id": "lB_3tfodiJZ5",
        "colab": {
          "base_uri": "https://localhost:8080/"
        },
        "outputId": "344ca969-755a-40b3-fe01-1e35bdea7f5a"
      },
      "source": [
        "a = 1\n",
        "b = 0\n",
        "a, b = b, a\n",
        "print(a, b)"
      ],
      "execution_count": null,
      "outputs": [
        {
          "output_type": "stream",
          "text": [
            "0 1\n"
          ],
          "name": "stdout"
        }
      ]
    },
    {
      "cell_type": "code",
      "metadata": {
        "colab": {
          "base_uri": "https://localhost:8080/"
        },
        "id": "GwpHQcbV_YWO",
        "outputId": "24ce6feb-a857-4f13-dc4d-eebd05adcfee"
      },
      "source": [
        "a = 1\n",
        "b = 0\n",
        "tuple = a, b = b, a\n",
        "print(tuple)\n",
        "print(a, b)"
      ],
      "execution_count": null,
      "outputs": [
        {
          "output_type": "stream",
          "text": [
            "(0, 1)\n",
            "0 1\n"
          ],
          "name": "stdout"
        }
      ]
    },
    {
      "cell_type": "markdown",
      "metadata": {
        "id": "XVncd88rBj9q"
      },
      "source": [
        "---\n",
        "問題\n",
        "\n",
        "リストを引数として、2 番目の要素を返す関数を作る。 もし 2 番目の要素がない場合は None を返す。\n"
      ]
    },
    {
      "cell_type": "code",
      "metadata": {
        "id": "93zf8KJPjpnv",
        "colab": {
          "base_uri": "https://localhost:8080/",
          "height": 86
        },
        "outputId": "d23e9f57-4d43-4626-cea5-e2b8aa00b200"
      },
      "source": [
        "def select_second(L):\n",
        "    \"\"\"Return the second element of the given list. If the list has no second element, return None.\"\"\"\n",
        "    if len(L) < 2 :\n",
        "        return None\n",
        "    else :\n",
        "        return L[1]\n",
        "\n",
        "L = [0, 1, 2, 3]\n",
        "print(select_second(L))\n",
        "print(select_second([]))\n",
        "print(select_second([1]))\n",
        "print(select_second([1,2]))\n"
      ],
      "execution_count": null,
      "outputs": [
        {
          "output_type": "stream",
          "text": [
            "1\n",
            "None\n",
            "None\n",
            "2\n"
          ],
          "name": "stdout"
        }
      ]
    },
    {
      "cell_type": "markdown",
      "metadata": {
        "id": "hz8Xha1alYUP"
      },
      "source": [
        "---\n",
        "問題\n",
        "\n",
        "スポーツチームの問題。それぞれのチームのリストでコーチの名前がリストの最初にあり、キャプテンが2番目、それ以降はチームのメンバー。このチームのリストがリストになっていて、最初がベストチーム、で最後がワーストチームの順に並んでいる。\n",
        "\n",
        "ワーストチームのキャプテンを選ぶプログラムを作る。\n"
      ]
    },
    {
      "cell_type": "code",
      "metadata": {
        "id": "b7OGql1ImptF",
        "colab": {
          "base_uri": "https://localhost:8080/",
          "height": 35
        },
        "outputId": "119db415-5ce0-4fc8-f4a9-43a356e6405b"
      },
      "source": [
        "def losing_team_captain(teams):\n",
        "    \"\"\"Given a list of teams, where each team is a list of names, return the 2nd player (captain)\n",
        "    from the last listed team\n",
        "    \"\"\"\n",
        "    return teams[-1][1]\n",
        "\n",
        "teams = [[\"bob\", \"mark\", \"john\"], [\"peter\", \"matthew\", \"willy\"]]\n",
        "\n",
        "print(losing_team_captain(teams))"
      ],
      "execution_count": null,
      "outputs": [
        {
          "output_type": "stream",
          "text": [
            "matthew\n"
          ],
          "name": "stdout"
        }
      ]
    },
    {
      "cell_type": "markdown",
      "metadata": {
        "id": "alOefQzplask"
      },
      "source": [
        "---\n",
        "問題\n",
        "\n",
        "マリオ・カートゲームの次回作では、*Purple Shell*というアイテムが装備され、それを使うとビリのレーサーとトップのレーサーが入れ替わるというとんでもないことが起きる。\n",
        "\n",
        "次のプログラムを完成させ、Purple Shellの効果を実装する。\n"
      ]
    },
    {
      "cell_type": "code",
      "metadata": {
        "id": "MFl70KA4nh7N",
        "colab": {
          "base_uri": "https://localhost:8080/",
          "height": 35
        },
        "outputId": "37fe3234-a8ff-4c77-9537-51e989bca3cc"
      },
      "source": [
        "def purple_shell(racers):\n",
        "    \"\"\"Given a list of racers, set the first place racer (at the front of the list) to last\n",
        "    place and vice versa.\n",
        "    \n",
        "    >>> r = [\"Mario\", \"Bowser\", \"Luigi\"]\n",
        "    >>> purple_shell(r)\n",
        "    >>> r\n",
        "    [\"Luigi\", \"Bowser\", \"Mario\"]\n",
        "    \"\"\"\n",
        "    racers[0], racers[-1] = racers[-1], racers[0]\n",
        "    return racers\n",
        "\n",
        "r = [\"Mario\", \"Bowser\", \"Luigi\"]\n",
        "purple_shell(r)\n",
        "r"
      ],
      "execution_count": null,
      "outputs": [
        {
          "output_type": "execute_result",
          "data": {
            "text/plain": [
              "['Luigi', 'Bowser', 'Mario']"
            ]
          },
          "metadata": {
            "tags": []
          },
          "execution_count": 7
        }
      ]
    },
    {
      "cell_type": "markdown",
      "metadata": {
        "id": "2oGgi8mAlc4Y"
      },
      "source": [
        "---\n",
        "問題\n",
        "\n",
        "リストの長さの確認\n"
      ]
    },
    {
      "cell_type": "code",
      "metadata": {
        "id": "aN3PAONDrcc5",
        "colab": {
          "base_uri": "https://localhost:8080/",
          "height": 86
        },
        "outputId": "8d16bdc6-f0a8-4e02-c5ae-b261eb6b798f"
      },
      "source": [
        "a = [1, 2, 3]\n",
        "b = [1, [2, 3]]\n",
        "c = []\n",
        "d = [1, 2, 3][1:]\n",
        "\n",
        "print(len(a))\n",
        "print(len(b))\n",
        "print(len(c))\n",
        "print(len(d))\n"
      ],
      "execution_count": null,
      "outputs": [
        {
          "output_type": "stream",
          "text": [
            "3\n",
            "2\n",
            "0\n",
            "2\n"
          ],
          "name": "stdout"
        }
      ]
    },
    {
      "cell_type": "markdown",
      "metadata": {
        "id": "EiR5M2tGley0"
      },
      "source": [
        "---\n",
        "問題\n",
        "\n",
        "パーティ出席者のリストがある。次の 7 人のゲストのリストで Adela が最初に到着し、Fordが 最後に来た。\n"
      ]
    },
    {
      "cell_type": "code",
      "metadata": {
        "id": "PsYbd6JGr6JT"
      },
      "source": [
        "party_attendees = ['Adela', 'Fleda', 'Owen', 'May', 'Mona', 'Gilbert', 'Ford']"
      ],
      "execution_count": null,
      "outputs": []
    },
    {
      "cell_type": "markdown",
      "metadata": {
        "id": "Pzw3bTy1r5Mu"
      },
      "source": [
        "かっこよく遅刻`fashionably late`は、パーティのゲストの半分より後に到着し、最後ではないゲストたちを指す。今回の例では Mona と Gilbet が `fashionably late` である。\n",
        "\n",
        "リストと名前を引数に取り、`fashionably late`かどうかを返すプログラムを作る。\n"
      ]
    },
    {
      "cell_type": "code",
      "metadata": {
        "id": "148fCNf2YvYY"
      },
      "source": [
        ""
      ],
      "execution_count": null,
      "outputs": []
    },
    {
      "cell_type": "code",
      "metadata": {
        "id": "IMQTDQyvr8WA",
        "colab": {
          "base_uri": "https://localhost:8080/",
          "height": 86
        },
        "outputId": "00856c4d-fc01-46e4-fcb6-d776ee7b1a29"
      },
      "source": [
        "import math\n",
        "\n",
        "def fashionably_late(arrivals, name):\n",
        "    \"\"\"Given an ordered list of arrivals to the party and a name, return whether the guest with that\n",
        "    name was fashionably late.\n",
        "    \"\"\"\n",
        "    fashionable_attendees = party_attendees[math.ceil(len(party_attendees)/2):-1]\n",
        "    return name in fashionable_attendees\n",
        "\n",
        "\n",
        "party_attendees = ['Adela', 'Fleda', 'Owen', 'May', 'Mona', 'Gilbert', 'Ford']\n",
        "\n",
        "print(fashionably_late(party_attendees, \"Adela\"))\n",
        "print(fashionably_late(party_attendees, \"May\" ))\n",
        "print(fashionably_late(party_attendees, \"Gilbert\"))\n",
        "print(fashionably_late(party_attendees, \"Ford\"))"
      ],
      "execution_count": null,
      "outputs": [
        {
          "output_type": "stream",
          "text": [
            "False\n",
            "False\n",
            "True\n",
            "False\n"
          ],
          "name": "stdout"
        }
      ]
    },
    {
      "cell_type": "markdown",
      "metadata": {
        "id": "WHmLjrJyZPn8"
      },
      "source": [
        "# ループ"
      ]
    },
    {
      "cell_type": "code",
      "metadata": {
        "id": "6gAT9C_j1SXR",
        "colab": {
          "base_uri": "https://localhost:8080/",
          "height": 35
        },
        "outputId": "1065ce44-afe8-4a07-9132-2bf73654e489"
      },
      "source": [
        "planets = ['Mercury', 'Venus', 'Earth', 'Mars', 'Jupiter', 'Saturn', 'Uranus', 'Neptune']\n",
        "for planet in planets:\n",
        "    print(planet, end=' ') # print all on same line"
      ],
      "execution_count": null,
      "outputs": [
        {
          "output_type": "stream",
          "text": [
            "Mercury Venus Earth Mars Jupiter Saturn Uranus Neptune "
          ],
          "name": "stdout"
        }
      ]
    },
    {
      "cell_type": "markdown",
      "metadata": {
        "id": "QeUmaqxdgML9"
      },
      "source": [
        "`for` ループでは次のようなことが行われる。\n",
        "\n",
        "* 使われる変数が指定される。今回の場合 `planet`\n",
        "* ループする値のセット。今回の場合は `planets`\n",
        "* `in` という単語を使っての変数と値のセットとのリンク\n",
        "\n",
        "\n",
        "\n"
      ]
    },
    {
      "cell_type": "markdown",
      "metadata": {
        "id": "XwIebFE9al6E"
      },
      "source": [
        "`for` ループで集合 `set` が使えるか。\n",
        "\n",
        "使えた。 下記参照"
      ]
    },
    {
      "cell_type": "code",
      "metadata": {
        "id": "SIrqrLI6ALue",
        "colab": {
          "base_uri": "https://localhost:8080/"
        },
        "outputId": "01290f53-3b51-4d78-b324-c296cc362cf8"
      },
      "source": [
        "multiplicands = (2, 2, 2, 3, 3, 5)\n",
        "product = 1\n",
        "for mult in multiplicands:\n",
        "    product = product * mult\n",
        "print(multiplicands)\n",
        "print(product)\n",
        "\n",
        "multiplicands = set(multiplicands)\n",
        "print(multiplicands)\n",
        "product = 1\n",
        "for mult in multiplicands:\n",
        "    product = product * mult\n",
        "print(product)"
      ],
      "execution_count": null,
      "outputs": [
        {
          "output_type": "stream",
          "text": [
            "(2, 2, 2, 3, 3, 5)\n",
            "360\n",
            "{2, 3, 5}\n",
            "30\n"
          ],
          "name": "stdout"
        }
      ]
    },
    {
      "cell_type": "markdown",
      "metadata": {
        "id": "8IWJD-uVgPhd"
      },
      "source": [
        "文字列の文字についてもループできる。\n"
      ]
    },
    {
      "cell_type": "code",
      "metadata": {
        "id": "OplDO1YOAdr0",
        "colab": {
          "base_uri": "https://localhost:8080/",
          "height": 35
        },
        "outputId": "50e9b00e-fbaf-40e2-80a8-6a67c3c74f0d"
      },
      "source": [
        "s = 'steganograpHy is the practicE of conceaLing a file, message, image, or video within another fiLe, message, image, Or video.'\n",
        "msg = ''\n",
        "# print all the uppercase letters in s, one at a time\n",
        "for char in s:\n",
        "    if char.isupper():\n",
        "        print(char, end='')      "
      ],
      "execution_count": null,
      "outputs": [
        {
          "output_type": "stream",
          "text": [
            "HELLO"
          ],
          "name": "stdout"
        }
      ]
    },
    {
      "cell_type": "markdown",
      "metadata": {
        "id": "sIQD561CgS6m"
      },
      "source": [
        "---\n",
        "range()\n",
        "\n",
        "`range()`は数列をつくる関数で、ループを書くときに役に立つ。\n",
        "\n",
        "たとえば同じ作業を5回やりたいとする:\n",
        "\n"
      ]
    },
    {
      "cell_type": "code",
      "metadata": {
        "id": "roiIh3eOBF2k",
        "colab": {
          "base_uri": "https://localhost:8080/",
          "height": 104
        },
        "outputId": "9b5734c6-cdb2-45c8-8efc-d604b04fa13d"
      },
      "source": [
        "for i in range(5):\n",
        "    print(\"Doing important work. i =\", i)"
      ],
      "execution_count": null,
      "outputs": [
        {
          "output_type": "stream",
          "text": [
            "Doing important work. i = 0\n",
            "Doing important work. i = 1\n",
            "Doing important work. i = 2\n",
            "Doing important work. i = 3\n",
            "Doing important work. i = 4\n"
          ],
          "name": "stdout"
        }
      ]
    },
    {
      "cell_type": "markdown",
      "metadata": {
        "id": "l4Y__AcJBDHw"
      },
      "source": [
        "---\n",
        "while ループ\n",
        "\n",
        "`while` ループは条件を満たしている間、繰り返す。\n"
      ]
    },
    {
      "cell_type": "code",
      "metadata": {
        "id": "dvsgrfVsBY5N",
        "colab": {
          "base_uri": "https://localhost:8080/",
          "height": 35
        },
        "outputId": "c56d4fbc-94a4-4e17-e599-2c123bb9f669"
      },
      "source": [
        "i = 0\n",
        "while i < 10:\n",
        "    print(i, end=' ')\n",
        "    i += 1"
      ],
      "execution_count": null,
      "outputs": [
        {
          "output_type": "stream",
          "text": [
            "0 1 2 3 4 5 6 7 8 9 "
          ],
          "name": "stdout"
        }
      ]
    },
    {
      "cell_type": "markdown",
      "metadata": {
        "id": "yBJfdR4648fo"
      },
      "source": [
        "# リスト内包表記 list comprehension\n",
        "\n",
        "python のリスト内包表記はたいへん人気がある。\n"
      ]
    },
    {
      "cell_type": "code",
      "metadata": {
        "id": "dVA0M3vKV2tV",
        "colab": {
          "base_uri": "https://localhost:8080/",
          "height": 34
        },
        "outputId": "5afa2615-9389-472a-dc76-379edbd147d7"
      },
      "source": [
        "squares = [n**2 for n in range(10)]\n",
        "squares"
      ],
      "execution_count": null,
      "outputs": [
        {
          "output_type": "execute_result",
          "data": {
            "text/plain": [
              "[0, 1, 4, 9, 16, 25, 36, 49, 64, 81]"
            ]
          },
          "metadata": {
            "tags": []
          },
          "execution_count": 1
        }
      ]
    },
    {
      "cell_type": "markdown",
      "metadata": {
        "id": "BUJDb7GZgdY7"
      },
      "source": [
        "これをリスト内包表記でなくあらわすとしたら次のようになる。\n"
      ]
    },
    {
      "cell_type": "code",
      "metadata": {
        "id": "0LqYOeoqWH5F",
        "colab": {
          "base_uri": "https://localhost:8080/",
          "height": 34
        },
        "outputId": "d705dd8d-d92f-4fb7-f615-d0842a0b4124"
      },
      "source": [
        "squares = []\n",
        "for n in range(10):\n",
        "    squares.append(n**2)\n",
        "squares"
      ],
      "execution_count": null,
      "outputs": [
        {
          "output_type": "execute_result",
          "data": {
            "text/plain": [
              "[0, 1, 4, 9, 16, 25, 36, 49, 64, 81]"
            ]
          },
          "metadata": {
            "tags": []
          },
          "execution_count": 2
        }
      ]
    },
    {
      "cell_type": "markdown",
      "metadata": {
        "id": "0g-YfjN0WF_5"
      },
      "source": [
        "次のは `if` を使ったリスト内包表記である。\n"
      ]
    },
    {
      "cell_type": "code",
      "metadata": {
        "id": "YE9iKEwcWdHl",
        "colab": {
          "base_uri": "https://localhost:8080/",
          "height": 34
        },
        "outputId": "88ada980-616f-4685-fff0-2756a0c99edf"
      },
      "source": [
        "planets = ['Mercury', 'Venus', 'Earth', 'Mars', 'Jupiter', 'Saturn', 'Uranus', 'Neptune']\n",
        "short_planets = [planet for planet in planets if len(planet) < 6]\n",
        "short_planets"
      ],
      "execution_count": null,
      "outputs": [
        {
          "output_type": "execute_result",
          "data": {
            "text/plain": [
              "['Venus', 'Earth', 'Mars']"
            ]
          },
          "metadata": {
            "tags": []
          },
          "execution_count": 4
        }
      ]
    },
    {
      "cell_type": "markdown",
      "metadata": {
        "id": "Wlk1wUSCWcAF"
      },
      "source": [
        "`SQL`の `WHERE` 節に似ている。\n",
        "\n",
        "次の例ではループ変数に `if` 条件文でフィルターをかけて、それを変形している。\n"
      ]
    },
    {
      "cell_type": "code",
      "metadata": {
        "id": "XIAPutwTXOCD",
        "colab": {
          "base_uri": "https://localhost:8080/"
        },
        "outputId": "88561799-e08e-42f5-8a3e-297459a4190b"
      },
      "source": [
        "# str.upper() returns an all-caps version of a string\n",
        "loud_short_planets = [planet.upper() + '!!!!' for planet in planets if len(planet) < 6]\n",
        "loud_short_planets"
      ],
      "execution_count": null,
      "outputs": [
        {
          "output_type": "execute_result",
          "data": {
            "text/plain": [
              "['VENUS!!!!', 'EARTH!!!!', 'MARS!!!!']"
            ]
          },
          "metadata": {
            "tags": []
          },
          "execution_count": 22
        }
      ]
    },
    {
      "cell_type": "markdown",
      "metadata": {
        "id": "V1gJ6uJ1glI2"
      },
      "source": [
        "リスト内包表記の左部分はループ変数を含む必要はないが、たいていは含んでいる。\n",
        "\n",
        "次のプログラムはリスト内包表記の左部分にループ変数を含まない例である。\n"
      ]
    },
    {
      "cell_type": "code",
      "metadata": {
        "id": "dcmHx59nusMj",
        "colab": {
          "base_uri": "https://localhost:8080/",
          "height": 34
        },
        "outputId": "c1211925-e321-4c68-e0cb-2424c727d911"
      },
      "source": [
        "planets = ['Mercury', 'Venus', 'Earth', 'Mars', 'Jupiter', 'Saturn', 'Uranus', 'Neptune']\n",
        "[32 for planet in planets]"
      ],
      "execution_count": null,
      "outputs": [
        {
          "output_type": "execute_result",
          "data": {
            "text/plain": [
              "[32, 32, 32, 32, 32, 32, 32, 32]"
            ]
          },
          "metadata": {
            "tags": []
          },
          "execution_count": 1
        }
      ]
    },
    {
      "cell_type": "markdown",
      "metadata": {
        "id": "TSGU-RZXuknR"
      },
      "source": [
        "リスト内包表記と `min`、`max`、`sum` などの関数を組み合わせるとリスト内包表記を使わなければ何行にもなるプログラムを一行で書くことができる場合がある。\n",
        "\n",
        "次の2つのコードセルは同じことをやっている。\n",
        "\n"
      ]
    },
    {
      "cell_type": "code",
      "metadata": {
        "id": "6qnYlO2Q4Ro1",
        "colab": {
          "base_uri": "https://localhost:8080/",
          "height": 35
        },
        "outputId": "bc01c282-ff31-47fa-9bbf-2a6b7fe957e4"
      },
      "source": [
        "def count_negatives(nums):\n",
        "    \"\"\"Return the number of negative numbers in the given list.\n",
        "    >>> count_negatives([5, -1, -2, 0, 3])\n",
        "    2\n",
        "    \"\"\"\n",
        "    n_negative = 0\n",
        "    for num in nums:\n",
        "        if num < 0:\n",
        "            n_negative = n_negative + 1\n",
        "    return n_negative\n",
        "\n",
        "count_negatives([5, -1, -2, 0, 3])"
      ],
      "execution_count": null,
      "outputs": [
        {
          "output_type": "execute_result",
          "data": {
            "text/plain": [
              "2"
            ]
          },
          "metadata": {
            "tags": []
          },
          "execution_count": 5
        }
      ]
    },
    {
      "cell_type": "code",
      "metadata": {
        "id": "HtZCwZ5d4Q1F",
        "colab": {
          "base_uri": "https://localhost:8080/",
          "height": 35
        },
        "outputId": "6547fc2a-e8d7-4755-85ed-c6fe445842f4"
      },
      "source": [
        "def count_negatives(nums):\n",
        "    return len([num for num in nums if num < 0])\n",
        "\n",
        "count_negatives([5, -1, -2, 0, 3])"
      ],
      "execution_count": null,
      "outputs": [
        {
          "output_type": "execute_result",
          "data": {
            "text/plain": [
              "2"
            ]
          },
          "metadata": {
            "tags": []
          },
          "execution_count": 4
        }
      ]
    },
    {
      "cell_type": "markdown",
      "metadata": {
        "id": "Fev8CsN6gsCV"
      },
      "source": [
        "コードを短くすることだけが目的ならば次のようなのはどうか。\n",
        "\n",
        "\n"
      ]
    },
    {
      "cell_type": "code",
      "metadata": {
        "id": "YDLbbuhVkfqR"
      },
      "source": [
        "def count_negatives(nums):\n",
        "    # Reminder: in the \"booleans and conditionals\" exercises, we learned about a quirk of \n",
        "    # python where it calculates something like True + True + False + True to be equal to 3.\n",
        "    return sum([num < 0 for num in nums])\n",
        "\n",
        "count_negatives([5, -1, -2, 0, 3])"
      ],
      "execution_count": null,
      "outputs": []
    },
    {
      "cell_type": "markdown",
      "metadata": {
        "id": "G-MUOy34g0S-"
      },
      "source": [
        "どの解決方法が最善か、は主観的なものだが、短いコードはそれだけで価値がある。\n",
        "\n",
        "しかし、`the zen of python` のつぎのくだりを心に留めておくことも大切だ。\n",
        "\n",
        "```\n",
        "読みやすさは大切だ。\n",
        "明示的であることは暗黙的了解よりよいことだ。\n",
        "```\n",
        "\n",
        "リスト内包表記のようなツールを使ってプログラムを短く読みやすくしよう。多くの場合、短いプログラムは理解もしやすい。\n",
        "\n",
        "\n"
      ]
    },
    {
      "cell_type": "markdown",
      "metadata": {
        "id": "kp8aqa2XoFhL"
      },
      "source": [
        "---\n",
        "問題\n",
        "\n",
        "数のリストに、1つでも 7 で割り切れる数があった場合、 True を返すプログラムを書く"
      ]
    },
    {
      "cell_type": "code",
      "metadata": {
        "id": "7yXi3eWboH05",
        "colab": {
          "base_uri": "https://localhost:8080/",
          "height": 50
        },
        "outputId": "6cfcabf6-1ed8-43e2-a397-2dfeb7441bdd"
      },
      "source": [
        "def has_lucky_number(nums):\n",
        "    \"\"\"Return whether the given list of numbers is lucky. A lucky list contains\n",
        "    at least one number divisible by 7.\n",
        "    \"\"\"\n",
        "    answer = False\n",
        "    for num in nums:\n",
        "        if num % 7 == 0:\n",
        "            answer = True\n",
        "            break\n",
        "    return answer\n",
        "\n",
        "print(has_lucky_number([1, 2, 3]))\n",
        "print(has_lucky_number([1, 2, 3, 7]))"
      ],
      "execution_count": null,
      "outputs": [
        {
          "output_type": "stream",
          "text": [
            "False\n",
            "True\n"
          ],
          "name": "stdout"
        }
      ]
    },
    {
      "cell_type": "code",
      "metadata": {
        "colab": {
          "base_uri": "https://localhost:8080/"
        },
        "id": "Ufueqi_BK7J6",
        "outputId": "58fd5bd6-e461-4644-8463-bd8fff5388f8"
      },
      "source": [
        "# 別解\n",
        "def has_lucky_number(nums):\n",
        "    if sum([num % 7 == 0 for num in nums]) > 0:\n",
        "        return True\n",
        "    else:\n",
        "        return False\n",
        "    \n",
        "print(has_lucky_number([1, 2, 3]))\n",
        "print(has_lucky_number([1, 2, 3, 7]))"
      ],
      "execution_count": null,
      "outputs": [
        {
          "output_type": "stream",
          "text": [
            "False\n",
            "True\n"
          ],
          "name": "stdout"
        }
      ]
    },
    {
      "cell_type": "markdown",
      "metadata": {
        "id": "LphfeqynoMod"
      },
      "source": [
        "---\n",
        "問題 2\n",
        "\n",
        "数のリストから 2 より大きい数のリストにする。\n"
      ]
    },
    {
      "cell_type": "code",
      "metadata": {
        "id": "tsenOdt2rfNf",
        "colab": {
          "base_uri": "https://localhost:8080/",
          "height": 34
        },
        "outputId": "d0d6bc0b-e723-4ccc-b690-1d1d441bc8f8"
      },
      "source": [
        "def greater_than_two (nums) :\n",
        "    answer = []\n",
        "    for num in nums :\n",
        "        if num > 2 :\n",
        "            answer.append(num)\n",
        "    return answer\n",
        "\n",
        "print(greater_than_two([1, 2, 3, 4])) "
      ],
      "execution_count": null,
      "outputs": [
        {
          "output_type": "stream",
          "text": [
            "[3, 4]\n"
          ],
          "name": "stdout"
        }
      ]
    },
    {
      "cell_type": "code",
      "metadata": {
        "colab": {
          "base_uri": "https://localhost:8080/"
        },
        "id": "ElglOqv8MSTp",
        "outputId": "8e128cee-6a93-4e28-ebb4-7717e8c463fc"
      },
      "source": [
        "# 別解\n",
        "def greater_than_two (nums) :\n",
        "    return [num for num in nums if num > 2]\n",
        "\n",
        "print(greater_than_two([1, 2, 3, 4])) \n"
      ],
      "execution_count": null,
      "outputs": [
        {
          "output_type": "stream",
          "text": [
            "[3, 4]\n"
          ],
          "name": "stdout"
        }
      ]
    },
    {
      "cell_type": "markdown",
      "metadata": {
        "id": "ZcHShAmzoRp1"
      },
      "source": [
        "python は numpy と pandas というライブラリーがあり、リストと 2 を比べて `[False, False, True, True]` のようなブール型のリストを返す機能がある。\n",
        "\n",
        "対応する要素が `n` より大きいかどうかをブール型の要素のリストで返す関数を作る。\n"
      ]
    },
    {
      "cell_type": "code",
      "metadata": {
        "id": "tCvFZoKLoVrC",
        "colab": {
          "base_uri": "https://localhost:8080/",
          "height": 34
        },
        "outputId": "b8958aa9-c7e1-4aa7-a763-cce792fdf776"
      },
      "source": [
        "def elementwise_greater_than(L, thresh):\n",
        "    \"\"\"Return a list with the same length as L, where the value at index i is \n",
        "    True if L[i] is greater than thresh, and False otherwise.\n",
        "    \n",
        "    >>> elementwise_greater_than([1, 2, 3, 4], 2)\n",
        "    [False, False, True, True]\n",
        "    \"\"\"\n",
        "    answer = []\n",
        "    for num in L :\n",
        "        answer.append(num > thresh)\n",
        "    return answer\n",
        "\n",
        "\n",
        "elementwise_greater_than([1, 2, 3, 4], 2)\n"
      ],
      "execution_count": null,
      "outputs": [
        {
          "output_type": "execute_result",
          "data": {
            "text/plain": [
              "[False, False, True, True]"
            ]
          },
          "metadata": {
            "tags": []
          },
          "execution_count": 17
        }
      ]
    },
    {
      "cell_type": "code",
      "metadata": {
        "id": "1PJuG8dYQJe4",
        "colab": {
          "base_uri": "https://localhost:8080/"
        },
        "outputId": "fbef568b-75b8-440e-9636-c7e257f0951d"
      },
      "source": [
        "# 別解\n",
        "[num > 2 for num in [1,2,3,4]]"
      ],
      "execution_count": null,
      "outputs": [
        {
          "output_type": "execute_result",
          "data": {
            "text/plain": [
              "[False, False, True, True]"
            ]
          },
          "metadata": {
            "tags": []
          },
          "execution_count": 30
        }
      ]
    },
    {
      "cell_type": "markdown",
      "metadata": {
        "id": "w2q2tgL8oW--"
      },
      "source": [
        "---\n",
        "問題\n",
        "\n",
        "食事のリストについて、同じ食事が2日続けて出されていれば `True`、そうでなければ `False` を返すプログラムを書く。\n"
      ]
    },
    {
      "cell_type": "code",
      "metadata": {
        "id": "_nHwkmnBoZHK",
        "colab": {
          "base_uri": "https://localhost:8080/",
          "height": 50
        },
        "outputId": "1684f864-13aa-44e1-854a-ee343ad309d7"
      },
      "source": [
        "def menu_is_boring(meals):\n",
        "    \"\"\"Given a list of meals served over some period of time, return True if the\n",
        "    same meal has ever been served two days in a row, and False otherwise.\n",
        "    \"\"\"\n",
        "    answer = False\n",
        "    for i in range(len(meals) - 1) :\n",
        "        if meals[i] == meals[i + 1] :\n",
        "            answer = True\n",
        "    return answer\n",
        "\n",
        "meals = [\"curry\", \"cutlet\", \"soup\", \"sushi\"]\n",
        "print(menu_is_boring(meals))\n",
        "meals = [\"curry\", \"cutlet\",  \"soup\", \"sushi\", \"sushi\"]\n",
        "print(menu_is_boring(meals))\n"
      ],
      "execution_count": null,
      "outputs": [
        {
          "output_type": "stream",
          "text": [
            "False\n",
            "True\n"
          ],
          "name": "stdout"
        }
      ]
    },
    {
      "cell_type": "code",
      "metadata": {
        "id": "D8M-euNTQ0-F",
        "colab": {
          "base_uri": "https://localhost:8080/"
        },
        "outputId": "b1b83095-aacb-4d7b-9548-80317cda3a63"
      },
      "source": [
        "# 別解\n",
        "meals = [\"curry\", \"cutlet\", \"soup\", \"sushi\"]\n",
        "meals2 = [\"dummy\"] + meals\n",
        "print(sum([a == b for (a,b) in list(zip(meals, meals2))])>0)\n",
        "\n",
        "meals = [\"curry\", \"cutlet\",  \"soup\", \"sushi\", \"sushi\"]\n",
        "meals2 = [\"dummy\"] + meals\n",
        "print(sum([a == b for (a,b) in list(zip(meals, meals2))])>0)\n"
      ],
      "execution_count": null,
      "outputs": [
        {
          "output_type": "stream",
          "text": [
            "False\n",
            "True\n"
          ],
          "name": "stdout"
        }
      ]
    },
    {
      "cell_type": "markdown",
      "metadata": {
        "id": "XsM3R2JRoaxm"
      },
      "source": [
        "---\n",
        "問題\n",
        "\n",
        "python  カジノにはブラックジャックのテーブルの横にスロットマシンがある。\n",
        "\n",
        "`play_slot_machine()` を実行すると、賞金がでる。普通は 0 ドルを返してくるが、運がよければ大金が手に入る。\n"
      ]
    },
    {
      "cell_type": "code",
      "metadata": {
        "id": "wvY-BRAGocR3",
        "colab": {
          "base_uri": "https://localhost:8080/"
        },
        "outputId": "3a8deee2-907c-4b8c-c80e-3232ba9c997a"
      },
      "source": [
        "import random\n",
        "\n",
        "def play_slot_machine():\n",
        "    r = random.random()\n",
        "    if r < .005:\n",
        "        return 100\n",
        "    elif r < .05:\n",
        "        return 50\n",
        "    elif r < .25:\n",
        "        return 1.5\n",
        "    else:\n",
        "        return 0\n",
        "\n",
        "play_slot_machine()"
      ],
      "execution_count": null,
      "outputs": [
        {
          "output_type": "execute_result",
          "data": {
            "text/plain": [
              "0"
            ]
          },
          "metadata": {
            "tags": []
          },
          "execution_count": 84
        }
      ]
    },
    {
      "cell_type": "markdown",
      "metadata": {
        "id": "oZdk9kPWoeZI"
      },
      "source": [
        "1 回 1 ドルかかる。\n",
        "\n",
        "スロットマシンでプレイするたびの期待される儲け(ロス)はいくらか。\n",
        "\n",
        "モンテカルロ法によっ期待値を計算する。\n",
        "\n",
        "次の関数を完成させる"
      ]
    },
    {
      "cell_type": "code",
      "metadata": {
        "id": "-6-lKStLoi8v",
        "colab": {
          "base_uri": "https://localhost:8080/"
        },
        "outputId": "d4799e3d-f53f-4218-8222-1e830ee801aa"
      },
      "source": [
        "def estimate_average_slot_payout(n_runs):\n",
        "    \"\"\"Run the slot machine n_runs times and return the average net profit per run.\n",
        "    Example calls (note that return value is nondeterministic!):\n",
        "    >>> estimate_average_slot_payout(1)\n",
        "    -1\n",
        "    >>> estimate_average_slot_payout(1)\n",
        "    0.5\n",
        "    \"\"\"\n",
        "    result = []\n",
        "    for x in range(1, n_runs):\n",
        "        result.append(play_slot_machine())\n",
        "    return (sum(result) - n_runs)/n_runs\n",
        "\n",
        "estimate_average_slot_payout(1000)"
      ],
      "execution_count": null,
      "outputs": [
        {
          "output_type": "execute_result",
          "data": {
            "text/plain": [
              "2.391"
            ]
          },
          "metadata": {
            "tags": []
          },
          "execution_count": 83
        }
      ]
    },
    {
      "cell_type": "markdown",
      "metadata": {
        "id": "QLvWXHtzM5qg"
      },
      "source": [
        "# 文字列処理"
      ]
    },
    {
      "cell_type": "markdown",
      "metadata": {
        "id": "5m3Y_QU8RwKT"
      },
      "source": [
        "python の文字列はシングルクォートでもダブルクォートでも作ることができて、機能的に全く同じである。\n"
      ]
    },
    {
      "cell_type": "code",
      "metadata": {
        "id": "_jcckYmDRysY",
        "colab": {
          "base_uri": "https://localhost:8080/",
          "height": 34
        },
        "outputId": "c1b1d993-7b91-4626-9137-60378f998309"
      },
      "source": [
        "x = 'Pluto is a planet'\n",
        "y = \"Pluto is a planet\"\n",
        "x == y"
      ],
      "execution_count": null,
      "outputs": [
        {
          "output_type": "execute_result",
          "data": {
            "text/plain": [
              "True"
            ]
          },
          "metadata": {
            "tags": []
          },
          "execution_count": 1
        }
      ]
    },
    {
      "cell_type": "markdown",
      "metadata": {
        "id": "BLUcgTl-R0l4"
      },
      "source": [
        "文字列がアポストロフィなどシングルクォートを含んでいる場合はダブルクォートが便利だし、逆にダブルクォートを含んでいる場合はシングルクォートが便利。\n"
      ]
    },
    {
      "cell_type": "code",
      "metadata": {
        "id": "-DJ8dJPXR5dK",
        "colab": {
          "base_uri": "https://localhost:8080/",
          "height": 50
        },
        "outputId": "04e31ffc-f867-406a-e7ec-9a529acceeb5"
      },
      "source": [
        "print(\"Pluto's a planet!\")\n",
        "print('My dog is named \"Pluto\"')"
      ],
      "execution_count": null,
      "outputs": [
        {
          "output_type": "stream",
          "text": [
            "Pluto's a planet!\n",
            "My dog is named \"Pluto\"\n"
          ],
          "name": "stdout"
        }
      ]
    },
    {
      "cell_type": "markdown",
      "metadata": {
        "id": "_DNvo59QR7O5"
      },
      "source": [
        "シングルクォートで囲んだ文字列の中にシングルクォートがあればエラーになる。\n"
      ]
    },
    {
      "cell_type": "code",
      "metadata": {
        "id": "quyLN7KQSDT_"
      },
      "source": [
        "# 'Pluto's a planet!'"
      ],
      "execution_count": null,
      "outputs": []
    },
    {
      "cell_type": "markdown",
      "metadata": {
        "id": "g9muXd1QSE5U"
      },
      "source": [
        "このような場合、バックスラッシュでエスケープすることができる。\n"
      ]
    },
    {
      "cell_type": "code",
      "metadata": {
        "id": "9SS6QbnxSGrt",
        "colab": {
          "base_uri": "https://localhost:8080/",
          "height": 35
        },
        "outputId": "70ad1a7f-b7be-4f4a-c717-5705e39a9f6a"
      },
      "source": [
        "'Pluto\\'s a planet!'"
      ],
      "execution_count": null,
      "outputs": [
        {
          "output_type": "execute_result",
          "data": {
            "application/vnd.google.colaboratory.intrinsic": {
              "type": "string"
            },
            "text/plain": [
              "\"Pluto's a planet!\""
            ]
          },
          "metadata": {
            "tags": []
          },
          "execution_count": 4
        }
      ]
    },
    {
      "cell_type": "markdown",
      "metadata": {
        "id": "7pmynJS0SJXq"
      },
      "source": [
        "次の表はバックスラッシュの用法についてまとめたもの。\n"
      ]
    },
    {
      "cell_type": "markdown",
      "metadata": {
        "id": "2FRAyEgtSK_h"
      },
      "source": [
        "| What you type... |\tWhat you get |\texample\t| print(example) |\n",
        "| --- | --- | --- | --- |\n",
        "|\\\\'  |\t'\t| 'What\\\\'s up?'\t| What's up? |\n",
        "| \\\\\"  |\t\"\t| \"That's \\\\\"cool\\\\\"\\\" |\tThat's \"cool\" |\n",
        "| \\\\\\  |\t\\\t| \"Look, a mountain: /\\\\\"\t| Look, a mountain: /\\ |\n",
        "| \\\\n  |\t | \"1\\n2 3\" |\t1  |\n",
        "|  |  | | 2 3 |\n"
      ]
    },
    {
      "cell_type": "markdown",
      "metadata": {
        "id": "2XbJYKLpSNU8"
      },
      "source": [
        "表の最後の行の`\\n`は、改行文字を表し、 python では改行して新しい行になる。\n"
      ]
    },
    {
      "cell_type": "code",
      "metadata": {
        "id": "PdE75B7cSQE0",
        "colab": {
          "base_uri": "https://localhost:8080/",
          "height": 50
        },
        "outputId": "5b2056e6-e431-4867-8348-3deda7147011"
      },
      "source": [
        "hello = \"hello\\nworld\"\n",
        "print(hello)"
      ],
      "execution_count": null,
      "outputs": [
        {
          "output_type": "stream",
          "text": [
            "hello\n",
            "world\n"
          ],
          "name": "stdout"
        }
      ]
    },
    {
      "cell_type": "markdown",
      "metadata": {
        "id": "X0P8Z55PSSnS"
      },
      "source": [
        "さらに python の 3 重引用符は、｀Enter` による改行をうけつける。\n",
        "\n",
        "見たままの形で文字列を変数に入れることができる。\n",
        "\n",
        "すでに `docstring` で見てきている。\n"
      ]
    },
    {
      "cell_type": "code",
      "metadata": {
        "id": "dyGjStwaSUmi",
        "colab": {
          "base_uri": "https://localhost:8080/",
          "height": 70
        },
        "outputId": "ca26c216-702d-43ab-8eef-038261dcbe9f"
      },
      "source": [
        "triplequoted_hello = \"\"\"hello\n",
        "world\"\"\"\n",
        "print(triplequoted_hello)\n",
        "triplequoted_hello == 'hello\\nworld'"
      ],
      "execution_count": null,
      "outputs": [
        {
          "output_type": "stream",
          "text": [
            "hello\n",
            "world\n"
          ],
          "name": "stdout"
        },
        {
          "output_type": "execute_result",
          "data": {
            "text/plain": [
              "True"
            ]
          },
          "metadata": {
            "tags": []
          },
          "execution_count": 11
        }
      ]
    },
    {
      "cell_type": "markdown",
      "metadata": {
        "id": "naFxE9IhSWF7"
      },
      "source": [
        "`printf()` 関数は自動的に改行コードを最後に入れる。デフォルトの `¥n` を入れさせないためには次のようにする。\n"
      ]
    },
    {
      "cell_type": "code",
      "metadata": {
        "id": "_Fa_VprGSXnj",
        "colab": {
          "base_uri": "https://localhost:8080/",
          "height": 70
        },
        "outputId": "4db6c405-f97d-4d19-fd57-31361aed99cc"
      },
      "source": [
        "print(\"hello\")\n",
        "print(\"world\")\n",
        "print(\"hello\", end='')\n",
        "print(\"pluto\", end='')"
      ],
      "execution_count": null,
      "outputs": [
        {
          "output_type": "stream",
          "text": [
            "hello\n",
            "world\n",
            "hellopluto"
          ],
          "name": "stdout"
        }
      ]
    },
    {
      "cell_type": "markdown",
      "metadata": {
        "id": "kIAb25k8SZc7"
      },
      "source": [
        "文字列とリスト\n",
        "\n",
        "文字列 `string` は文字 `character` のシーケンス `sequence`、リスト、とみなすことができて、リストについてのほとんどの関数やメソッドが使える。\n"
      ]
    },
    {
      "cell_type": "code",
      "metadata": {
        "id": "GVRcyZj1Sb6i",
        "colab": {
          "base_uri": "https://localhost:8080/",
          "height": 35
        },
        "outputId": "32e41b8c-bb6d-431c-c2c6-fe12d39627c4"
      },
      "source": [
        "# Indexing\n",
        "planet = 'Pluto'\n",
        "planet[0]"
      ],
      "execution_count": null,
      "outputs": [
        {
          "output_type": "execute_result",
          "data": {
            "application/vnd.google.colaboratory.intrinsic+json": {
              "type": "string"
            },
            "text/plain": [
              "'P'"
            ]
          },
          "metadata": {
            "tags": []
          },
          "execution_count": 13
        }
      ]
    },
    {
      "cell_type": "code",
      "metadata": {
        "id": "5UetN5SISdYl",
        "colab": {
          "base_uri": "https://localhost:8080/",
          "height": 35
        },
        "outputId": "2506b61c-8b95-4df0-ebc2-8f4ff678cff3"
      },
      "source": [
        "# Slicing\n",
        "planet[-3:]\n"
      ],
      "execution_count": null,
      "outputs": [
        {
          "output_type": "execute_result",
          "data": {
            "application/vnd.google.colaboratory.intrinsic+json": {
              "type": "string"
            },
            "text/plain": [
              "'uto'"
            ]
          },
          "metadata": {
            "tags": []
          },
          "execution_count": 14
        }
      ]
    },
    {
      "cell_type": "code",
      "metadata": {
        "id": "W1Xd1fpNSf3H",
        "colab": {
          "base_uri": "https://localhost:8080/",
          "height": 35
        },
        "outputId": "90d1ac8c-966e-4f41-e0af-806dd4acd93c"
      },
      "source": [
        "# How long is this string?\n",
        "len(planet)"
      ],
      "execution_count": null,
      "outputs": [
        {
          "output_type": "execute_result",
          "data": {
            "text/plain": [
              "5"
            ]
          },
          "metadata": {
            "tags": []
          },
          "execution_count": 15
        }
      ]
    },
    {
      "cell_type": "code",
      "metadata": {
        "id": "J-zZ_GEuSiZL",
        "colab": {
          "base_uri": "https://localhost:8080/",
          "height": 35
        },
        "outputId": "f2ee8d19-3837-47dc-bf6f-f4d791f35505"
      },
      "source": [
        "# Yes, we can even loop over them\n",
        "[char+'! ' for char in planet]"
      ],
      "execution_count": null,
      "outputs": [
        {
          "output_type": "execute_result",
          "data": {
            "text/plain": [
              "['P! ', 'l! ', 'u! ', 't! ', 'o! ']"
            ]
          },
          "metadata": {
            "tags": []
          },
          "execution_count": 16
        }
      ]
    },
    {
      "cell_type": "markdown",
      "metadata": {
        "id": "VNpfyMSmSj9x"
      },
      "source": [
        "しかし!!!!\n",
        "\n",
        "リストと文字列の最大の違いは、文字列はイミュータブル `immutable` だと言うことだ。文字列は変更できない。\n"
      ]
    },
    {
      "cell_type": "code",
      "metadata": {
        "id": "BPZyz4VXSl-H"
      },
      "source": [
        "# planet[0] = 'B'\n",
        "# planet.append doesn't work either\n",
        "\n",
        "# TypeError: 'str' object does not support item assignment"
      ],
      "execution_count": null,
      "outputs": []
    },
    {
      "cell_type": "markdown",
      "metadata": {
        "id": "pVRDChLjSpNR"
      },
      "source": [
        "文字列メソッド\n",
        "\n",
        "文字列型 `str` はたくさんの便利なメソッドがある。ここで紹介するのはほんの一部である。\n"
      ]
    },
    {
      "cell_type": "code",
      "metadata": {
        "id": "QovR__QiSq1X",
        "colab": {
          "base_uri": "https://localhost:8080/",
          "height": 35
        },
        "outputId": "6e4f238e-4be4-4b65-c87f-75f73d30b26f"
      },
      "source": [
        "# ALL CAPS\n",
        "claim = \"Pluto is a planet!\"\n",
        "claim.upper()\n"
      ],
      "execution_count": null,
      "outputs": [
        {
          "output_type": "execute_result",
          "data": {
            "application/vnd.google.colaboratory.intrinsic+json": {
              "type": "string"
            },
            "text/plain": [
              "'PLUTO IS A PLANET!'"
            ]
          },
          "metadata": {
            "tags": []
          },
          "execution_count": 18
        }
      ]
    },
    {
      "cell_type": "code",
      "metadata": {
        "id": "FUb3KBsgSsPe",
        "colab": {
          "base_uri": "https://localhost:8080/",
          "height": 35
        },
        "outputId": "2f02c5b2-6c1d-45a1-bb65-4a7d8ef6307a"
      },
      "source": [
        "# all lowercase\n",
        "claim.lower()"
      ],
      "execution_count": null,
      "outputs": [
        {
          "output_type": "execute_result",
          "data": {
            "application/vnd.google.colaboratory.intrinsic+json": {
              "type": "string"
            },
            "text/plain": [
              "'pluto is a planet!'"
            ]
          },
          "metadata": {
            "tags": []
          },
          "execution_count": 23
        }
      ]
    },
    {
      "cell_type": "code",
      "metadata": {
        "id": "rZTwT6Z0Sts6",
        "colab": {
          "base_uri": "https://localhost:8080/",
          "height": 35
        },
        "outputId": "89fe1df7-9b7b-4652-b9f3-5c3e3c008f1a"
      },
      "source": [
        "# Searching for the first index of a substring\n",
        "claim.index('plan')"
      ],
      "execution_count": null,
      "outputs": [
        {
          "output_type": "execute_result",
          "data": {
            "text/plain": [
              "11"
            ]
          },
          "metadata": {
            "tags": []
          },
          "execution_count": 24
        }
      ]
    },
    {
      "cell_type": "code",
      "metadata": {
        "id": "oqXxoYC3W5kd",
        "colab": {
          "base_uri": "https://localhost:8080/",
          "height": 35
        },
        "outputId": "64e3de82-e570-43a2-fe38-99f788684972"
      },
      "source": [
        "claim.startswith(planet)"
      ],
      "execution_count": null,
      "outputs": [
        {
          "output_type": "execute_result",
          "data": {
            "text/plain": [
              "True"
            ]
          },
          "metadata": {
            "tags": []
          },
          "execution_count": 25
        }
      ]
    },
    {
      "cell_type": "code",
      "metadata": {
        "id": "GikS40lHW--A",
        "colab": {
          "base_uri": "https://localhost:8080/",
          "height": 35
        },
        "outputId": "7094ec3d-610f-4ba5-97ab-f525d32d1a07"
      },
      "source": [
        "claim.endswith('dwarf planet')"
      ],
      "execution_count": null,
      "outputs": [
        {
          "output_type": "execute_result",
          "data": {
            "text/plain": [
              "False"
            ]
          },
          "metadata": {
            "tags": []
          },
          "execution_count": 26
        }
      ]
    },
    {
      "cell_type": "markdown",
      "metadata": {
        "id": "C4lBwSxpSuwz"
      },
      "source": [
        "---\n",
        "文字列をリスト、リストを文字列に変換 `split()` と `join()`\n",
        "\n",
        "`str.split()` はデフォルトはスペースで文字列を短い文字列のリストに変換する。長い文字列から単語を切り出すのに使える。\n"
      ]
    },
    {
      "cell_type": "code",
      "metadata": {
        "id": "400lbjnjSv-0",
        "colab": {
          "base_uri": "https://localhost:8080/",
          "height": 35
        },
        "outputId": "b3a1074a-8644-4629-c6aa-47bbae652160"
      },
      "source": [
        "split = \"Pluto is a planet!\"\n",
        "words = claim.split()\n",
        "\n",
        "words"
      ],
      "execution_count": null,
      "outputs": [
        {
          "output_type": "execute_result",
          "data": {
            "text/plain": [
              "['Pluto', 'is', 'a', 'planet!']"
            ]
          },
          "metadata": {
            "tags": []
          },
          "execution_count": 28
        }
      ]
    },
    {
      "cell_type": "markdown",
      "metadata": {
        "id": "8VISfu3mSxXP"
      },
      "source": [
        "ホワイトスペース以外の切れ目で切り分けたい時。\n"
      ]
    },
    {
      "cell_type": "code",
      "metadata": {
        "id": "ZtRv5UdISzde",
        "colab": {
          "base_uri": "https://localhost:8080/",
          "height": 35
        },
        "outputId": "6bd107c3-e47a-4d6b-d97e-e2eaed3e8cb1"
      },
      "source": [
        "datestr = '1956-01-31'\n",
        "\n",
        "year, month, day = datestr.split('-')\n",
        "\n",
        "(year, month, day)"
      ],
      "execution_count": null,
      "outputs": [
        {
          "output_type": "execute_result",
          "data": {
            "text/plain": [
              "('1956', '01', '31')"
            ]
          },
          "metadata": {
            "tags": []
          },
          "execution_count": 31
        }
      ]
    },
    {
      "cell_type": "markdown",
      "metadata": {
        "id": "boWa9cdSS0b0"
      },
      "source": [
        "`str.join()` は逆に文字列のリストをひとつの文字列にする。関数を呼び出す際にセパレーターを指定する。\n"
      ]
    },
    {
      "cell_type": "code",
      "metadata": {
        "id": "s16WCzttS1y1",
        "colab": {
          "base_uri": "https://localhost:8080/",
          "height": 35
        },
        "outputId": "547c8c5e-dbbb-4834-986b-aadf9aad27fa"
      },
      "source": [
        "'/'.join([month, day, year])"
      ],
      "execution_count": null,
      "outputs": [
        {
          "output_type": "execute_result",
          "data": {
            "application/vnd.google.colaboratory.intrinsic+json": {
              "type": "string"
            },
            "text/plain": [
              "'01/31/1956'"
            ]
          },
          "metadata": {
            "tags": []
          },
          "execution_count": 33
        }
      ]
    },
    {
      "cell_type": "code",
      "metadata": {
        "id": "otVdbd4QayIJ",
        "colab": {
          "base_uri": "https://localhost:8080/",
          "height": 35
        },
        "outputId": "8d238368-9cb6-4d93-ee6a-3ca8e500cec0"
      },
      "source": [
        "# Yes, we can put unicode characters right in our string literals :)\n",
        "' 👏 '.join([word.upper() for word in words])\n",
        "'PLUTO 👏 IS 👏 A 👏 PLANET!'\n"
      ],
      "execution_count": null,
      "outputs": [
        {
          "output_type": "execute_result",
          "data": {
            "application/vnd.google.colaboratory.intrinsic+json": {
              "type": "string"
            },
            "text/plain": [
              "'PLUTO 👏 IS 👏 A 👏 PLANET!'"
            ]
          },
          "metadata": {
            "tags": []
          },
          "execution_count": 34
        }
      ]
    },
    {
      "cell_type": "markdown",
      "metadata": {
        "id": "UX_iTnmoa7Dj"
      },
      "source": [
        "---\n",
        "文字列の整形 `.format()`"
      ]
    },
    {
      "cell_type": "markdown",
      "metadata": {
        "id": "kZAHvg87S3AZ"
      },
      "source": [
        "python  は`+`で文字列を結合できる"
      ]
    },
    {
      "cell_type": "code",
      "metadata": {
        "id": "L-MF-CM6S4ou",
        "colab": {
          "base_uri": "https://localhost:8080/",
          "height": 35
        },
        "outputId": "90b67c08-4f53-465c-d832-4e74c68b5899"
      },
      "source": [
        "planet + ', we miss you.'\n"
      ],
      "execution_count": null,
      "outputs": [
        {
          "output_type": "execute_result",
          "data": {
            "application/vnd.google.colaboratory.intrinsic+json": {
              "type": "string"
            },
            "text/plain": [
              "'Pluto, we miss you.'"
            ]
          },
          "metadata": {
            "tags": []
          },
          "execution_count": 35
        }
      ]
    },
    {
      "cell_type": "markdown",
      "metadata": {
        "id": "i-M2cNnMS51b"
      },
      "source": [
        "文字列でないものを文字列と結合するときは、`str()` で文字列変換してから結合する"
      ]
    },
    {
      "cell_type": "code",
      "metadata": {
        "id": "Et00pBNpS68l",
        "colab": {
          "base_uri": "https://localhost:8080/",
          "height": 35
        },
        "outputId": "b445b098-7393-448a-c73a-5607768106a5"
      },
      "source": [
        "position = 9\n",
        "planet = 'Pluto'\n",
        "planet + \", you'll always be the \" + str(position) + \"th planet to me.\""
      ],
      "execution_count": null,
      "outputs": [
        {
          "output_type": "execute_result",
          "data": {
            "application/vnd.google.colaboratory.intrinsic+json": {
              "type": "string"
            },
            "text/plain": [
              "\"Pluto, you'll always be the 9th planet to me.\""
            ]
          },
          "metadata": {
            "tags": []
          },
          "execution_count": 3
        }
      ]
    },
    {
      "cell_type": "markdown",
      "metadata": {
        "id": "gebHj9cpS9xo"
      },
      "source": [
        "`str.format()`は、引数に挿入したい値を入れるので、扱いやすい。\n",
        "\n",
        "プレースフォルダーとして `{}` を使い、引数は文字列以外も自動的に変換されるので `str{}` で文字列変換する必要がない。\n"
      ]
    },
    {
      "cell_type": "code",
      "metadata": {
        "id": "9g8ywliPS-91",
        "colab": {
          "base_uri": "https://localhost:8080/",
          "height": 35
        },
        "outputId": "817b6c2e-786f-4bee-e62c-dcbcc51b1415"
      },
      "source": [
        "# use str.format()\n",
        "\"{}, you'll always be the {}th planet to me.\".format(planet, position)"
      ],
      "execution_count": null,
      "outputs": [
        {
          "output_type": "execute_result",
          "data": {
            "application/vnd.google.colaboratory.intrinsic+json": {
              "type": "string"
            },
            "text/plain": [
              "\"Pluto, you'll always be the 9th planet to me.\""
            ]
          },
          "metadata": {
            "tags": []
          },
          "execution_count": 4
        }
      ]
    },
    {
      "cell_type": "markdown",
      "metadata": {
        "id": "ysU-kBQlS_9x"
      },
      "source": [
        "`str.format()` はもっとすごいことができる。\n",
        "\n",
        "以下はその一例。\n"
      ]
    },
    {
      "cell_type": "code",
      "metadata": {
        "id": "hcQ0CSnvTBFA",
        "colab": {
          "base_uri": "https://localhost:8080/",
          "height": 35
        },
        "outputId": "2d6beaaf-bd05-450d-9eb9-c18162b70c46"
      },
      "source": [
        "pluto_mass = 1.303 * 10**22\n",
        "earth_mass = 5.9722 * 10**24\n",
        "population = 52910390\n",
        "# 2 decimal points   3 decimal points, format as percent     separate with commas\n",
        "\"{} weighs about {:.2} kilograms ({:.3%} of Earth's mass). It is home to {:,} Plutonians.\".format(\n",
        "    planet, pluto_mass, pluto_mass / earth_mass, population,\n",
        ")\n"
      ],
      "execution_count": null,
      "outputs": [
        {
          "output_type": "execute_result",
          "data": {
            "application/vnd.google.colaboratory.intrinsic+json": {
              "type": "string"
            },
            "text/plain": [
              "\"Pluto weighs about 1.3e+22 kilograms (0.218% of Earth's mass). It is home to 52,910,390 Plutonians.\""
            ]
          },
          "metadata": {
            "tags": []
          },
          "execution_count": 5
        }
      ]
    },
    {
      "cell_type": "code",
      "metadata": {
        "id": "NkjCPLI7PdaN",
        "colab": {
          "base_uri": "https://localhost:8080/",
          "height": 84
        },
        "outputId": "132e04e4-bd6c-4fae-aad8-efaf0ac653b9"
      },
      "source": [
        "# Referring to format() arguments by index, starting from 0\n",
        "s = \"\"\"Pluto's a {0}.\n",
        "No, it's a {1}.\n",
        "{0}!\n",
        "{1}!\"\"\".format('planet', 'dwarf planet')\n",
        "print(s)"
      ],
      "execution_count": null,
      "outputs": [
        {
          "output_type": "stream",
          "text": [
            "Pluto's a planet.\n",
            "No, it's a dwarf planet.\n",
            "planet!\n",
            "dwarf planet!\n"
          ],
          "name": "stdout"
        }
      ]
    },
    {
      "cell_type": "markdown",
      "metadata": {
        "id": "nACCusLoTCFn"
      },
      "source": [
        "`str.form` だけで1冊の本が書ける。\n",
        "\n",
        "* pyformat.info (https://pyformat.info/)\n",
        "* 公式ドキュメント (https://docs.python.org/3/library/string.html#string-formatting)\n",
        "\n",
        "を参照のこと"
      ]
    },
    {
      "cell_type": "markdown",
      "metadata": {
        "id": "FgYRw1n-TDa2"
      },
      "source": [
        "# 辞書\n",
        "\n",
        "辞書 `dictionary` は python に組み込まれたデータ型で、キーと値をマップしたもの。\n",
        "\n",
        "他の言語では、連想配列、associative array、ハッシュテーブル、マップとも呼ばれる。\n",
        "\n",
        "\n"
      ]
    },
    {
      "cell_type": "code",
      "metadata": {
        "id": "5EFBMlN_TEiA",
        "colab": {
          "base_uri": "https://localhost:8080/",
          "height": 34
        },
        "outputId": "5bef05f3-9d07-44ec-abfe-f719c32d12e2"
      },
      "source": [
        "numbers = {'one':1, 'two':2, 'three':3}\n",
        "numbers"
      ],
      "execution_count": null,
      "outputs": [
        {
          "output_type": "stream",
          "text": [
            "{'one': 1, 'two': 2, 'three': 3}\n"
          ],
          "name": "stdout"
        }
      ]
    },
    {
      "cell_type": "markdown",
      "metadata": {
        "id": "1GzoJJQUTFvr"
      },
      "source": [
        "この例の場合、'one', 'two', 'three'がキーで、1, 2, 3 が対応する値。\n",
        "\n",
        "値はリストや文字列のときのインデクスと似た文法で角括弧 `square bracket` でアクセスできる。\n"
      ]
    },
    {
      "cell_type": "code",
      "metadata": {
        "id": "lDq_9HfKTGnZ",
        "colab": {
          "base_uri": "https://localhost:8080/",
          "height": 35
        },
        "outputId": "2d3d2228-95dd-4b67-e4ad-542a1f146e81"
      },
      "source": [
        "numbers = {'one':1, 'two':2, 'three':3}\n",
        "numbers['three']"
      ],
      "execution_count": null,
      "outputs": [
        {
          "output_type": "execute_result",
          "data": {
            "text/plain": [
              "3"
            ]
          },
          "metadata": {
            "tags": []
          },
          "execution_count": 2
        }
      ]
    },
    {
      "cell_type": "markdown",
      "metadata": {
        "id": "ADZPRWG1THYW"
      },
      "source": [
        "同じ文法で別のキー、値ペアを加える。\n"
      ]
    },
    {
      "cell_type": "code",
      "metadata": {
        "id": "RCJ7VNjMTIRA",
        "colab": {
          "base_uri": "https://localhost:8080/",
          "height": 35
        },
        "outputId": "f636a353-7b47-43fc-a2b7-2d64fe28334d"
      },
      "source": [
        "numbers = {'one':1, 'two':2, 'three':3}\n",
        "numbers['eleven'] = 11\n",
        "numbers"
      ],
      "execution_count": null,
      "outputs": [
        {
          "output_type": "execute_result",
          "data": {
            "text/plain": [
              "{'eleven': 11, 'one': 1, 'three': 3, 'two': 2}"
            ]
          },
          "metadata": {
            "tags": []
          },
          "execution_count": 3
        }
      ]
    },
    {
      "cell_type": "markdown",
      "metadata": {
        "id": "LNS09vWSTJjZ"
      },
      "source": [
        "すでにあるキーに結び付けられている値を変えるのも同じ。\n"
      ]
    },
    {
      "cell_type": "code",
      "metadata": {
        "id": "2QkQiPydTKpN",
        "colab": {
          "base_uri": "https://localhost:8080/",
          "height": 35
        },
        "outputId": "91ee1e7d-7292-4871-f8cb-df5ab623e155"
      },
      "source": [
        "numbers = {'one':1, 'two':2, 'three':3}\n",
        "numbers['one'] = 'Pluto'\n",
        "numbers"
      ],
      "execution_count": null,
      "outputs": [
        {
          "output_type": "execute_result",
          "data": {
            "text/plain": [
              "{'one': 'Pluto', 'three': 3, 'two': 2}"
            ]
          },
          "metadata": {
            "tags": []
          },
          "execution_count": 4
        }
      ]
    },
    {
      "cell_type": "markdown",
      "metadata": {
        "id": "E__eIT3_TLsS"
      },
      "source": [
        "リスト内包表記と似たやりかたで内包表記ができる"
      ]
    },
    {
      "cell_type": "code",
      "metadata": {
        "id": "6FuRVTn2TM0i",
        "colab": {
          "base_uri": "https://localhost:8080/",
          "height": 155
        },
        "outputId": "02afae05-fcdc-4f50-b12f-f11bf4d188e1"
      },
      "source": [
        "planets = ['Mercury', 'Venus', 'Earth', 'Mars', 'Jupiter', 'Saturn', 'Uranus', 'Neptune']\n",
        "planet_to_initial = { planet: planet[0] for planet in planets }\n",
        "planet_to_initial"
      ],
      "execution_count": null,
      "outputs": [
        {
          "output_type": "execute_result",
          "data": {
            "text/plain": [
              "{'Earth': 'E',\n",
              " 'Jupiter': 'J',\n",
              " 'Mars': 'M',\n",
              " 'Mercury': 'M',\n",
              " 'Neptune': 'N',\n",
              " 'Saturn': 'S',\n",
              " 'Uranus': 'U',\n",
              " 'Venus': 'V'}"
            ]
          },
          "metadata": {
            "tags": []
          },
          "execution_count": 13
        }
      ]
    },
    {
      "cell_type": "markdown",
      "metadata": {
        "id": "E3NiaXZ9TNzR"
      },
      "source": [
        "`in` 演算子でキーの有無を知ることができる"
      ]
    },
    {
      "cell_type": "code",
      "metadata": {
        "id": "x0kOs0s0TOsv",
        "colab": {
          "base_uri": "https://localhost:8080/",
          "height": 52
        },
        "outputId": "eab1607b-0cf9-4001-d6a5-2ca34da29130"
      },
      "source": [
        "print('Saturn' in planet_to_initial)\n",
        "print('Betelgeuse' in planet_to_initial)"
      ],
      "execution_count": null,
      "outputs": [
        {
          "output_type": "stream",
          "text": [
            "True\n",
            "False\n"
          ],
          "name": "stdout"
        }
      ]
    },
    {
      "cell_type": "markdown",
      "metadata": {
        "id": "tHY7e_OMTPms"
      },
      "source": [
        "辞書で `for` ループを行うとキーについてループする。\n"
      ]
    },
    {
      "cell_type": "code",
      "metadata": {
        "id": "mI8fEG97TRDU",
        "colab": {
          "base_uri": "https://localhost:8080/",
          "height": 69
        },
        "outputId": "a5d95369-372e-4700-d663-e2aa76286798"
      },
      "source": [
        "numbers = {'one':1, 'two':2, 'three':3}\n",
        "for k in numbers:\n",
        "    print(\"{} = {}\".format(k, numbers[k]))"
      ],
      "execution_count": null,
      "outputs": [
        {
          "output_type": "stream",
          "text": [
            "one = 1\n",
            "two = 2\n",
            "three = 3\n"
          ],
          "name": "stdout"
        }
      ]
    },
    {
      "cell_type": "markdown",
      "metadata": {
        "id": "_Msq4B8JTS3I"
      },
      "source": [
        "すべてのキーが欲しいときは `dict.keys()`、すべての値が欲しいときは `dict.values()` を使う"
      ]
    },
    {
      "cell_type": "code",
      "metadata": {
        "id": "C-Rh7WXbTTvB",
        "colab": {
          "base_uri": "https://localhost:8080/",
          "height": 35
        },
        "outputId": "da75bba9-d494-4948-c017-e0cd8126ea16"
      },
      "source": [
        "planets = ['Mercury', 'Venus', 'Earth', 'Mars', 'Jupiter', 'Saturn', 'Uranus', 'Neptune']\n",
        "planet_to_initial = { planet: planet[0] for planet in planets }\n",
        "\n",
        "# Get all the initials, sort them alphabetically, and put them in a space-separated string.\n",
        "' '.join(sorted(planet_to_initial.values()))\n"
      ],
      "execution_count": null,
      "outputs": [
        {
          "output_type": "execute_result",
          "data": {
            "application/vnd.google.colaboratory.intrinsic+json": {
              "type": "string"
            },
            "text/plain": [
              "'E J M M N S U V'"
            ]
          },
          "metadata": {
            "tags": []
          },
          "execution_count": 16
        }
      ]
    },
    {
      "cell_type": "markdown",
      "metadata": {
        "id": "T2k0VJiCdCBA"
      },
      "source": [
        "キーと値のペアを同時に取得するには次のようにする"
      ]
    },
    {
      "cell_type": "code",
      "metadata": {
        "id": "Yx1iNjdRTV60",
        "colab": {
          "base_uri": "https://localhost:8080/",
          "height": 155
        },
        "outputId": "341d0eff-79f7-40f6-d186-112c5743109f"
      },
      "source": [
        "planets = ['Mercury', 'Venus', 'Earth', 'Mars', 'Jupiter', 'Saturn', 'Uranus', 'Neptune']\n",
        "planet_to_initial = { planet: planet[0] for planet in planets }\n",
        "\n",
        "for planet, initial in planet_to_initial.items():\n",
        "    print(\"{} begins with \\\"{}\\\"\".format(planet.rjust(10), initial))"
      ],
      "execution_count": null,
      "outputs": [
        {
          "output_type": "stream",
          "text": [
            "   Mercury begins with \"M\"\n",
            "     Venus begins with \"V\"\n",
            "     Earth begins with \"E\"\n",
            "      Mars begins with \"M\"\n",
            "   Jupiter begins with \"J\"\n",
            "    Saturn begins with \"S\"\n",
            "    Uranus begins with \"U\"\n",
            "   Neptune begins with \"N\"\n"
          ],
          "name": "stdout"
        }
      ]
    },
    {
      "cell_type": "markdown",
      "metadata": {
        "id": "MbnHvNGFdOmu"
      },
      "source": [
        "`dict.items()` という専用のメソッドがある"
      ]
    },
    {
      "cell_type": "code",
      "metadata": {
        "id": "n6M3o2c607O6",
        "colab": {
          "base_uri": "https://localhost:8080/",
          "height": 155
        },
        "outputId": "8ae32967-a395-4c74-a85a-889241859fb3"
      },
      "source": [
        "for pair in planet_to_initial.items() :\n",
        "     print(\"{} begins with \\\"{}\\\"\".format(pair[0], pair[1]))"
      ],
      "execution_count": null,
      "outputs": [
        {
          "output_type": "stream",
          "text": [
            "Mercury begins with \"M\"\n",
            "Venus begins with \"V\"\n",
            "Earth begins with \"E\"\n",
            "Mars begins with \"M\"\n",
            "Jupiter begins with \"J\"\n",
            "Saturn begins with \"S\"\n",
            "Uranus begins with \"U\"\n",
            "Neptune begins with \"N\"\n"
          ],
          "name": "stdout"
        }
      ]
    },
    {
      "cell_type": "markdown",
      "metadata": {
        "id": "cquD1bn9c385"
      },
      "source": [
        "`help(dict)` で dict を調べてみよう"
      ]
    },
    {
      "cell_type": "markdown",
      "metadata": {
        "id": "nIXtWCWSTdE8"
      },
      "source": [
        "---\n",
        "問題\n",
        "\n",
        "文字列の長さ\n"
      ]
    },
    {
      "cell_type": "code",
      "metadata": {
        "id": "zAROb5mqUFt4",
        "colab": {
          "base_uri": "https://localhost:8080/"
        },
        "outputId": "632114e8-817d-484e-fe90-0e65caee88f6"
      },
      "source": [
        "print(len(\"\")) #=> 0\n",
        "print(len(\"it's ok\")) #=> 7\n",
        "print(len('it\\'s ok')) #=> 7\n",
        "print(len(\"\"\"hey\"\"\")) #=> 3\n",
        "print(len('\\n')) #=> 1"
      ],
      "execution_count": null,
      "outputs": [
        {
          "output_type": "stream",
          "text": [
            "0\n",
            "7\n",
            "7\n",
            "3\n",
            "1\n"
          ],
          "name": "stdout"
        }
      ]
    },
    {
      "cell_type": "markdown",
      "metadata": {
        "id": "QQCjZcQVUHUf"
      },
      "source": [
        "---\n",
        "問題\n",
        "\n",
        "データサイエンス\n",
        "\n",
        "データサイエンス学者は80%の時間をデータクリーニングに使い、残りの20%はデータクリーニングへの不平を言っている、という言い回しがある。\n",
        "\n",
        "アメリカの郵便番号をチェックするプログラムをつくる。今回は文字列がちょうど 5 桁であればオーケーとする"
      ]
    },
    {
      "cell_type": "code",
      "metadata": {
        "id": "rjZbw1-CUKcC",
        "colab": {
          "base_uri": "https://localhost:8080/"
        },
        "outputId": "d25ff02e-56be-4cb5-a674-9c28db3b711e"
      },
      "source": [
        "def is_valid_zip(zip_code):\n",
        "    \"\"\"Returns whether the input string is a valid (5 digit) zip code\n",
        "    \"\"\"\n",
        "    return len(zip_code) == 5\n",
        "\n",
        "print(is_valid_zip(\"12\"))\n",
        "print(is_valid_zip(\"12345\"))\n",
        "print(is_valid_zip(\"123456\"))\n",
        "print(is_valid_zip(\"\"))\n"
      ],
      "execution_count": null,
      "outputs": [
        {
          "output_type": "stream",
          "text": [
            "False\n",
            "True\n",
            "False\n",
            "False\n"
          ],
          "name": "stdout"
        }
      ]
    },
    {
      "cell_type": "markdown",
      "metadata": {
        "id": "35mV2wguUMCN"
      },
      "source": [
        "---\n",
        "問題\n",
        "\n",
        "フィルタリング\n",
        "\n",
        "とある研究者が数千のニュース記事を集めた。特定の単語で記事をフィルターにかけたいと考えている。そのための関数を作る。\n",
        "\n",
        "関数は次の基準を満たすものとする。\n",
        "\n",
        "* キーワードは単独で現れるものだけをとる。つまり \"closed\" だったら、\"enclosed\" は含まれない。\n",
        "* 大文字小文字は区別しない。つまりキーワードが \"closed\" ならば\"Closed the case.\" は含まれる。\n",
        "* ピリオドはマッチに影響しない。\"It is closed.\" は含まれる。他の句読点はないものとしてよい"
      ]
    },
    {
      "cell_type": "code",
      "metadata": {
        "id": "W1of5bkYUOPF",
        "colab": {
          "base_uri": "https://localhost:8080/"
        },
        "outputId": "c5600184-e9c1-4eaf-9917-22312b6a85e0"
      },
      "source": [
        "def word_search(doc_list, keyword):\n",
        "    \"\"\"\n",
        "    Takes a list of documents (each document is a string) and a keyword. \n",
        "    Returns list of the index values into the original list for all documents \n",
        "    containing the keyword.\n",
        "\n",
        "    Example:\n",
        "    doc_list = [\"The Learn  python  Challenge Casino.\", \"They bought a car\", \"Casinoville\"]\n",
        "    >>> word_search(doc_list, 'casino')\n",
        "    >>> [0]\n",
        "    \"\"\"\n",
        "    match = [doc.lower().strip(\".?\").split().count(keyword.lower()) for doc in doc_list]\n",
        "    dictOfMatch = { i : match[i] for i in range(0, len(match))}\n",
        "    return  [key for key in dictOfMatch if dictOfMatch[key] > 0]\n",
        "\n",
        "doc_list = [\"The Learn  python  Challenge Casino.\", \"They bought a car\", \"Casinoville\", \"What are they?\"]\n",
        "print(word_search(doc_list, 'casino'))\n",
        "print(word_search(doc_list, 'casinoville'))\n",
        "print(word_search(doc_list, 'they'))\n"
      ],
      "execution_count": null,
      "outputs": [
        {
          "output_type": "stream",
          "text": [
            "[0]\n",
            "[2]\n",
            "[1, 3]\n"
          ],
          "name": "stdout"
        }
      ]
    },
    {
      "cell_type": "markdown",
      "metadata": {
        "id": "XqM-LiFwUPX7"
      },
      "source": [
        "---\n",
        "問題\n",
        "\n",
        "複数キーワード検索\n",
        "\n",
        "次に、研究者は複数のキーワードで検索したい、と思った。\n",
        "\n",
        "いま作った `word_search` を利用して次の関数を作る。\n"
      ]
    },
    {
      "cell_type": "code",
      "metadata": {
        "id": "b0gLA2d0UQhF",
        "colab": {
          "base_uri": "https://localhost:8080/"
        },
        "outputId": "9734288c-63c8-4301-bedc-a1575c661225"
      },
      "source": [
        "def multi_word_search(doc_list, keywords):\n",
        "    \"\"\"\n",
        "    Takes list of documents (each document is a string) and a list of keywords.  \n",
        "    Returns a dictionary where each key is a keyword, and the value is a list of indices\n",
        "    (from doc_list) of the documents containing that keyword\n",
        "\n",
        "    >>> doc_list = [\"The Learn  python  Challenge Casino.\", \"They bought a car and a casino\", \"Casinoville\"]\n",
        "    >>> keywords = ['casino', 'they']\n",
        "    >>> multi_word_search(doc_list, keywords)\n",
        "    {'casino': [0, 1], 'they': [1]}\n",
        "    \"\"\"\n",
        "    dictOfMatch = { keyword : word_search(doc_list, keyword) for keyword in keywords }\n",
        "    \n",
        "    return dictOfMatch\n",
        "\n",
        "doc_list = [\"The Learn  python  Challenge Casino.\", \"They bought a car\", \"Casinoville\", \"What are they?\"]\n",
        "keywords = ['casino', 'they']\n",
        "\n",
        "multi_word_search(doc_list, keywords)"
      ],
      "execution_count": null,
      "outputs": [
        {
          "output_type": "execute_result",
          "data": {
            "text/plain": [
              "{'casino': [0], 'they': [1, 3]}"
            ]
          },
          "metadata": {
            "tags": []
          },
          "execution_count": 45
        }
      ]
    },
    {
      "cell_type": "markdown",
      "metadata": {
        "id": "u4_guYFInuq7"
      },
      "source": [
        "* インポート import\n",
        "* ライブラリー library とそのオブジェクト object\n",
        "* 演算子オーバーロード operator overload \n",
        "\n",
        "について学ぶ"
      ]
    },
    {
      "cell_type": "markdown",
      "metadata": {
        "id": "y8zUSv8vtenR"
      },
      "source": [
        "# Import\n",
        "\n",
        "python  の利点は  python  のために書かれ、データサイエンスなどで利用される高品質のライブラリーがたくさんあることである。\n",
        "\n",
        "そのいくつかは標準ライブラリーで、 python の動く環境ならば必ずあるが、それ以外はかならずしも  python  と一緒ではないが、簡単に加えることができる。\n",
        "\n",
        "import によってライブラリーにアクセスすることになる。\n",
        "\n"
      ]
    },
    {
      "cell_type": "code",
      "metadata": {
        "id": "1ltvjqdAHdon",
        "colab": {
          "base_uri": "https://localhost:8080/",
          "height": 34
        },
        "outputId": "c2f650e1-7771-425a-d36a-c2b086bdc7a8"
      },
      "source": [
        "import math\n",
        "\n",
        "print(\"It's math! It has type {}\".format(type(math)))\n"
      ],
      "execution_count": null,
      "outputs": [
        {
          "output_type": "stream",
          "text": [
            "It's math! It has type <class 'module'>\n"
          ],
          "name": "stdout"
        }
      ]
    },
    {
      "cell_type": "markdown",
      "metadata": {
        "id": "Us1Kkb6YHjT7"
      },
      "source": [
        " math はモジュールで、モジュールとは変数の集まり(ネームスペースと呼ばれる)のことである。関数 dir() を使うと math で使われるすべての name を見ることができる。\n",
        "\n",
        "メモ $\\quad$ matplotlib も numpy も type() は <class 'module'> だった。\n"
      ]
    },
    {
      "cell_type": "markdown",
      "metadata": {
        "id": "2qpo6DicHrXS"
      },
      "source": [
        "これらの変数にはドット・シンタクスでアクセスすることができる。いくつかは単純な値の変数でたとえば math.pi がある。\n",
        "\n"
      ]
    },
    {
      "cell_type": "code",
      "metadata": {
        "id": "XLVeVMFPHuPZ",
        "colab": {
          "base_uri": "https://localhost:8080/",
          "height": 34
        },
        "outputId": "027368d5-ead4-4996-be9d-d08c2c2f4475"
      },
      "source": [
        "print(\"pi to 4 significant digits = {:.4}\".format(math.pi))"
      ],
      "execution_count": null,
      "outputs": [
        {
          "output_type": "stream",
          "text": [
            "pi to 4 significant digits = 3.142\n"
          ],
          "name": "stdout"
        }
      ]
    },
    {
      "cell_type": "markdown",
      "metadata": {
        "id": "qbPzhVVUHxa1"
      },
      "source": [
        "しかし、モジュールのほとんどは関数であり、たとえば math.log がある。\n",
        "\n"
      ]
    },
    {
      "cell_type": "code",
      "metadata": {
        "id": "gSOBuH3iHzc-",
        "colab": {
          "base_uri": "https://localhost:8080/",
          "height": 34
        },
        "outputId": "06d2a2b8-c12a-4e7d-d1fc-c110d5726d2d"
      },
      "source": [
        "math.log(32, 2)"
      ],
      "execution_count": null,
      "outputs": [
        {
          "output_type": "execute_result",
          "data": {
            "text/plain": [
              "5.0"
            ]
          },
          "metadata": {
            "tags": []
          },
          "execution_count": 9
        }
      ]
    },
    {
      "cell_type": "markdown",
      "metadata": {
        "id": "jfwpcNAAH07M"
      },
      "source": [
        "もし、 math.log がなにをするかわからなければ help() を呼び出す。\n",
        "\n"
      ]
    },
    {
      "cell_type": "code",
      "metadata": {
        "id": "vGSlgo50H5Tj",
        "colab": {
          "base_uri": "https://localhost:8080/",
          "height": 151
        },
        "outputId": "64e1a0ad-5e95-4834-d760-1d4f1cbb6c6a"
      },
      "source": [
        "help(math.log)"
      ],
      "execution_count": null,
      "outputs": [
        {
          "output_type": "stream",
          "text": [
            "Help on built-in function log in module math:\n",
            "\n",
            "log(...)\n",
            "    log(x[, base])\n",
            "    \n",
            "    Return the logarithm of x to the given base.\n",
            "    If the base not specified, returns the natural logarithm (base e) of x.\n",
            "\n"
          ],
          "name": "stdout"
        }
      ]
    },
    {
      "cell_type": "markdown",
      "metadata": {
        "id": "4orYzNz3H_XR"
      },
      "source": [
        "モジュールそのもの help() を呼び出すこともできる。モジュール自体の高度な説明と、すべての関数と変数のドキュメントが得られる。\n",
        "\n"
      ]
    },
    {
      "cell_type": "code",
      "metadata": {
        "id": "tGw6ZQx8IBwW"
      },
      "source": [
        "# help(math)"
      ],
      "execution_count": null,
      "outputs": []
    },
    {
      "cell_type": "markdown",
      "metadata": {
        "id": "MCc1KPhoIDBw"
      },
      "source": [
        "モジュールの関数を頻繁に呼び出すなら、モジュール名の alias を import 時に決めるとタイプの数を少し減らすことができる。\n",
        "\n"
      ]
    },
    {
      "cell_type": "code",
      "metadata": {
        "id": "G_7kQ9CXIEUA",
        "colab": {
          "base_uri": "https://localhost:8080/",
          "height": 34
        },
        "outputId": "6b75f3df-de1d-44db-b4c9-eeb30c0e0e54"
      },
      "source": [
        "import math as mt\n",
        "mt.pi"
      ],
      "execution_count": null,
      "outputs": [
        {
          "output_type": "execute_result",
          "data": {
            "text/plain": [
              "3.141592653589793"
            ]
          },
          "metadata": {
            "tags": []
          },
          "execution_count": 12
        }
      ]
    },
    {
      "cell_type": "markdown",
      "metadata": {
        "id": "7kB7DppvIFo9"
      },
      "source": [
        "`Pandas`、`Numpy`、`Tensorflow`、`Matplotlib`などポピュラーなライブラリーについては通常使われる `alias` が決まっていたりする。たとえば\n",
        "\n",
        "```\n",
        "import numpy as np\n",
        "import pandas as pd\n",
        "```\n",
        "\n",
        "`as`ただ`rename`しているだけなので、次のように書いても同じである"
      ]
    },
    {
      "cell_type": "code",
      "metadata": {
        "id": "v5TMatL4IHLI"
      },
      "source": [
        "import math\n",
        "mt = math"
      ],
      "execution_count": null,
      "outputs": []
    },
    {
      "cell_type": "markdown",
      "metadata": {
        "id": "22lJaLnBIIVI"
      },
      "source": [
        "`math` のすべての変数を `math` をつけずに使えるようにすることも可能だ。\n",
        "\n",
        "たとえば `math.pi` と書かずに `pi` と書けば済むようになる"
      ]
    },
    {
      "cell_type": "code",
      "metadata": {
        "id": "a0V1_ipnIMVd",
        "colab": {
          "base_uri": "https://localhost:8080/",
          "height": 34
        },
        "outputId": "648a68b0-b28c-4a1c-da8c-7ee4e3c2407b"
      },
      "source": [
        "from math import *\n",
        "print(pi, log(32, 2))"
      ],
      "execution_count": null,
      "outputs": [
        {
          "output_type": "stream",
          "text": [
            "3.141592653589793 5.0\n"
          ],
          "name": "stdout"
        }
      ]
    },
    {
      "cell_type": "markdown",
      "metadata": {
        "id": "bY7l9ukCYec5"
      },
      "source": [
        "`import *` と書くとモジュールのすべての変数がドット付きの前置きなしで直接使えるようになる"
      ]
    },
    {
      "cell_type": "markdown",
      "metadata": {
        "id": "rZIub2pKINvb"
      },
      "source": [
        "デメリット: 純粋主義者に文句を言われる。\n",
        "\n",
        "理由はあって、考えずにこれをやるとたいへんなことになる"
      ]
    },
    {
      "cell_type": "code",
      "metadata": {
        "id": "nVBHSIGQIQe_"
      },
      "source": [
        "from math import *\n",
        "from numpy import *\n",
        "# this will lead to error!!!!\n",
        "# print(pi, log(32, 2))"
      ],
      "execution_count": null,
      "outputs": []
    },
    {
      "cell_type": "markdown",
      "metadata": {
        "id": "n1VnvIdyIS-l"
      },
      "source": [
        "このような`スターインポート`はしばしば奇妙な、デバッグのむずかしい状況を作り出す。\n",
        "\n",
        "今回の場合、問題は `math` と `numpy` の両方が `log` という関数を持っていいて、違った意味合いを持っている、ということ。`numpy` をあとに読み込んだので`math` で読み込んだ `log` を上書き `overwrite (or shadow)` してしまった。\n",
        "\n",
        "丁度いい妥協点はそれぞれのモジュールから個々に必要なものをインポートすることだろう"
      ]
    },
    {
      "cell_type": "code",
      "metadata": {
        "id": "691e4kZMIVf1"
      },
      "source": [
        "from math import log, pi\n",
        "from numpy import asarray"
      ],
      "execution_count": null,
      "outputs": []
    },
    {
      "cell_type": "markdown",
      "metadata": {
        "id": "e29iFp0-alOu"
      },
      "source": [
        "---\n",
        "サブモジュール"
      ]
    },
    {
      "cell_type": "markdown",
      "metadata": {
        "id": "iFAtSbecIW15"
      },
      "source": [
        "モジュールは関数や変数を指し示す名前の集まりであるが、名前はさらにモジュールの名前でもあり得る。モジュールの中のモジュールをサブモジュール `submodule` と言う"
      ]
    },
    {
      "cell_type": "code",
      "metadata": {
        "id": "O_Kwu2EFIYkn",
        "colab": {
          "base_uri": "https://localhost:8080/"
        },
        "outputId": "37197b66-c63e-44c4-e14a-000ff5236117"
      },
      "source": [
        "import numpy\n",
        "\n",
        "from IPython.display import HTML, display\n",
        "\n",
        "print(\"numpy.random is a\", type(numpy.random))\n",
        "\n",
        "print(\"it contains names such as...\",\n",
        "      dir(numpy.random)[-15:] )"
      ],
      "execution_count": null,
      "outputs": [
        {
          "output_type": "stream",
          "text": [
            "numpy.random is a <class 'module'>\n",
            "it contains names such as... ['seed', 'set_state', 'shuffle', 'standard_cauchy', 'standard_exponential', 'standard_gamma', 'standard_normal', 'standard_t', 'test', 'triangular', 'uniform', 'vonmises', 'wald', 'weibull', 'zipf']\n"
          ],
          "name": "stdout"
        }
      ]
    },
    {
      "cell_type": "markdown",
      "metadata": {
        "id": "f7-fv7oIIeKH"
      },
      "source": [
        "したがって、`numpy` の場合、`random` サブモジュールの中の関数を呼び出すためには、2 回ドットが必要になる"
      ]
    },
    {
      "cell_type": "code",
      "metadata": {
        "id": "btIg6Hj9If-_",
        "colab": {
          "base_uri": "https://localhost:8080/",
          "height": 34
        },
        "outputId": "27a9ed21-cd16-407c-9ee9-3179b1dfbc0b"
      },
      "source": [
        "# Roll 10 dice\n",
        "import numpy\n",
        "rolls = numpy.random.randint(low=1, high=6, size=10)\n",
        "rolls"
      ],
      "execution_count": null,
      "outputs": [
        {
          "output_type": "execute_result",
          "data": {
            "text/plain": [
              "array([3, 4, 5, 4, 1, 4, 2, 3, 1, 3])"
            ]
          },
          "metadata": {
            "tags": []
          },
          "execution_count": 4
        }
      ]
    },
    {
      "cell_type": "markdown",
      "metadata": {
        "id": "td9NH0uunJuk"
      },
      "source": [
        "いままでのレッスンで`int`、`float`、`bool`、`list`、`string`、`doct` などの型を学んだ。\n",
        "\n",
        "話はそこで終わらない。これから個々の仕事でさまざまなライブラリーを使っていくと、学ばなければならない型 `type` がいろいろある。\n",
        "\n",
        "作図ライブラリーの `matplotlib` ならば `Subplot`、`Figure`、`TickMark`、`Annotation` などを表現するオブジェクトと出会う。`pandas` 関数ならば`DataFrame`と`Series`だ。\n",
        "\n",
        "新しい型に出会ったときの短いサバイバル・ガイドを提供する"
      ]
    },
    {
      "cell_type": "markdown",
      "metadata": {
        "id": "eRnzJg5rIi_E"
      },
      "source": [
        "# 新しい型を理解するための 3 つのツール\n",
        "\n",
        "`numpy` で関数を呼ぶと `array` が返ってくる。いままで `array` は出てこなかった。\n",
        "\n",
        "* こんなときまず `type()` を使う。 いったいこれは何か、がわかる。\n",
        "* 次に `dir()` によりなにができるか、がわかる。\n",
        "* `help()` でドキュメントを読む。\n"
      ]
    },
    {
      "cell_type": "code",
      "metadata": {
        "id": "O_YpCO2C2N89",
        "colab": {
          "base_uri": "https://localhost:8080/",
          "height": 34
        },
        "outputId": "c6a0824f-9381-4d69-e4c6-236a236c5793"
      },
      "source": [
        "import numpy\n",
        "rolls = numpy.random.randint(low=1, high=6, size=10)\n",
        "type(rolls)"
      ],
      "execution_count": null,
      "outputs": [
        {
          "output_type": "execute_result",
          "data": {
            "text/plain": [
              "numpy.ndarray"
            ]
          },
          "metadata": {
            "tags": []
          },
          "execution_count": 5
        }
      ]
    },
    {
      "cell_type": "code",
      "metadata": {
        "id": "FH6LsPPb2n9A"
      },
      "source": [
        "# print(dir(rolls))"
      ],
      "execution_count": null,
      "outputs": []
    },
    {
      "cell_type": "code",
      "metadata": {
        "id": "-IxwuXxNIqIA"
      },
      "source": [
        "# 平均をとるにはどれが使えるかな? `mean` を使ってみる\n",
        "rolls.mean()"
      ],
      "execution_count": null,
      "outputs": []
    },
    {
      "cell_type": "code",
      "metadata": {
        "id": "lKzV7A5MIt3z",
        "colab": {
          "base_uri": "https://localhost:8080/",
          "height": 34
        },
        "outputId": "79bfee53-e188-49ae-f5df-b31a9e6df8e5"
      },
      "source": [
        "# 扱うにはなれた型がいいので、`tolist`を使ってみみる\n",
        "rolls.tolist()"
      ],
      "execution_count": null,
      "outputs": [
        {
          "output_type": "execute_result",
          "data": {
            "text/plain": [
              "[4, 3, 3, 4, 1, 5, 1, 1, 1, 5]"
            ]
          },
          "metadata": {
            "tags": []
          },
          "execution_count": 8
        }
      ]
    },
    {
      "cell_type": "code",
      "metadata": {
        "id": "WITjN44gs0Cp"
      },
      "source": [
        "# \"ravel\" 属性`attribute`がおもしろそうだ\n",
        "help(rolls.ravel)\n"
      ],
      "execution_count": null,
      "outputs": []
    },
    {
      "cell_type": "code",
      "metadata": {
        "id": "UxqnQhKZIyks"
      },
      "source": [
        "# Okay, just tell me everything there is to know about numpy.ndarray\n",
        "# (Click the \"output\" button to see the novel-length output)\n",
        "# help(rolls) "
      ],
      "execution_count": null,
      "outputs": []
    },
    {
      "cell_type": "markdown",
      "metadata": {
        "id": "4NWXSK26toTr"
      },
      "source": [
        "もちろん、オンライン・ドキュメントもあるので、そちらを参照してもよい"
      ]
    },
    {
      "cell_type": "markdown",
      "metadata": {
        "id": "zTIVwH45I0Ei"
      },
      "source": [
        "# 演算子オーバーロード Operator overloading\n",
        "\n",
        "次の式の値は何か?\n"
      ]
    },
    {
      "cell_type": "code",
      "metadata": {
        "id": "85l8fTbtvB8U"
      },
      "source": [
        "# [3, 4, 1, 2, 2, 1] + 10"
      ],
      "execution_count": null,
      "outputs": []
    },
    {
      "cell_type": "markdown",
      "metadata": {
        "id": "ASRJQGoGI1WD"
      },
      "source": [
        "もちろんエラーになる。\n",
        "\n",
        "しかし、次のはどうか"
      ]
    },
    {
      "cell_type": "code",
      "metadata": {
        "id": "t-4oNFEQI24L",
        "colab": {
          "base_uri": "https://localhost:8080/",
          "height": 34
        },
        "outputId": "d5bba39e-2835-4828-f7b0-21d82248b875"
      },
      "source": [
        "rolls + 10"
      ],
      "execution_count": null,
      "outputs": [
        {
          "output_type": "execute_result",
          "data": {
            "text/plain": [
              "array([14, 13, 13, 14, 11, 15, 11, 11, 11, 15])"
            ]
          },
          "metadata": {
            "tags": []
          },
          "execution_count": 14
        }
      ]
    },
    {
      "cell_type": "markdown",
      "metadata": {
        "id": "kdVs_Z5xI5ci"
      },
      "source": [
        "python  はコアとなる文法は定義されている。\n",
        "`+`、`<`、`in`、`==`、インデクスやスライスのための `square bracket` など。\n",
        "しかし、新しい型を定義する際に、足す、や同等である、の意味を定義することができる。\n",
        "\n",
        "`list` のデザイナーはリストに数値を足すのは駄目、と決めたが、`numpy`のデザイナーは `array` に数値を足すのは、あり、と考えた。\n",
        "\n",
        "`numpy` の `array` でいくつかの python の演算子が意外な (少なくとも `list` と違った) ふるまいをするかを示す。\n"
      ]
    },
    {
      "cell_type": "code",
      "metadata": {
        "id": "1UziEVEEI7Gi",
        "colab": {
          "base_uri": "https://localhost:8080/",
          "height": 50
        },
        "outputId": "23a9d6f4-e870-4198-86dc-54f237ede23e"
      },
      "source": [
        "# At which indices are the dice less than or equal to 3?\n",
        "import numpy\n",
        "rolls = numpy.random.randint(low=1, high=6, size=10)\n",
        "rolls <= 3"
      ],
      "execution_count": null,
      "outputs": [
        {
          "output_type": "execute_result",
          "data": {
            "text/plain": [
              "array([ True,  True,  True,  True,  True,  True,  True, False,  True,\n",
              "       False])"
            ]
          },
          "metadata": {
            "tags": []
          },
          "execution_count": 25
        }
      ]
    },
    {
      "cell_type": "markdown",
      "metadata": {
        "id": "VEDOxLzgI85x"
      },
      "source": [
        "---\n",
        "2 次元アレイを作る\n"
      ]
    },
    {
      "cell_type": "code",
      "metadata": {
        "id": "hQ481AdoiH8O",
        "colab": {
          "base_uri": "https://localhost:8080/"
        },
        "outputId": "5262a1a0-33ba-45c1-d9ab-dc908efe7238"
      },
      "source": [
        "import numpy\n",
        "xlist = [[1,2,3],[2,4,6],]\n",
        "# Create a 2-dimensional array\n",
        "x = numpy.asarray(xlist)\n",
        "print(\"xlist = {}\\nx =\\n{}\".format(xlist, x))\n",
        "print(type(xlist))\n",
        "print(type(x))"
      ],
      "execution_count": null,
      "outputs": [
        {
          "output_type": "stream",
          "text": [
            "xlist = [[1, 2, 3], [2, 4, 6]]\n",
            "x =\n",
            "[[1 2 3]\n",
            " [2 4 6]]\n",
            "<class 'list'>\n",
            "<class 'numpy.ndarray'>\n"
          ],
          "name": "stdout"
        }
      ]
    },
    {
      "cell_type": "code",
      "metadata": {
        "id": "kR56eDFKI_pT",
        "colab": {
          "base_uri": "https://localhost:8080/"
        },
        "outputId": "afc4b6b5-dd1f-4445-c6a1-6512ad224b30"
      },
      "source": [
        "# Get the last element of the second row of our numpy array\n",
        "x[1,-1]"
      ],
      "execution_count": null,
      "outputs": [
        {
          "output_type": "execute_result",
          "data": {
            "text/plain": [
              "6"
            ]
          },
          "metadata": {
            "tags": []
          },
          "execution_count": 4
        }
      ]
    },
    {
      "cell_type": "code",
      "metadata": {
        "id": "km1vBdEyV-lI",
        "colab": {
          "base_uri": "https://localhost:8080/"
        },
        "outputId": "83f4ed80-f0d3-46d8-b17d-f45dbc70a8d6"
      },
      "source": [
        "x[1][-1]"
      ],
      "execution_count": null,
      "outputs": [
        {
          "output_type": "execute_result",
          "data": {
            "text/plain": [
              "6"
            ]
          },
          "metadata": {
            "tags": []
          },
          "execution_count": 5
        }
      ]
    },
    {
      "cell_type": "code",
      "metadata": {
        "id": "HUrEZWTdJA0u"
      },
      "source": [
        "# Get the last element of the second sublist of our nested list?\n",
        "# xlist[1,-1]"
      ],
      "execution_count": null,
      "outputs": []
    },
    {
      "cell_type": "markdown",
      "metadata": {
        "id": "B-K050V4JCc9"
      },
      "source": [
        "```\n",
        "TypeError: list indices must be integers or slices, not tuple\n",
        "```\n",
        "numpy の `ndarray` は n-dimensional array ということで n 次元のデータ処理のためのデータ型で、タプルによる indexing ができるようになっている。\n"
      ]
    },
    {
      "cell_type": "code",
      "metadata": {
        "id": "lpG8iqmFY7IZ",
        "colab": {
          "base_uri": "https://localhost:8080/"
        },
        "outputId": "9ecf83ea-5b9f-4b91-ff96-c1076163dd10"
      },
      "source": [
        "# 実験\n",
        "import numpy as np\n",
        "xlist = [[1,2,3],[2,4,6],]\n",
        "print(type(np.asarray(xlist)))\n",
        "print(type(np.array(xlist)))"
      ],
      "execution_count": null,
      "outputs": [
        {
          "output_type": "stream",
          "text": [
            "<class 'numpy.ndarray'>\n",
            "<class 'numpy.ndarray'>\n"
          ],
          "name": "stdout"
        }
      ]
    },
    {
      "cell_type": "markdown",
      "metadata": {
        "id": "8YOYBXbQaerd"
      },
      "source": [
        "上記の実験では同じ結果になっているが、help() を取ってみると\n",
        "\n",
        "`np.asarray()` は convert input to an array で \n",
        "\n",
        "`np.array` は create an array らしい。 使い方も違う。\n"
      ]
    },
    {
      "cell_type": "markdown",
      "metadata": {
        "id": "ovlzZ9ETkMld"
      },
      "source": [
        "---\n",
        "`tesorflow` での演算子オーバーロード\n",
        "\n",
        "ディープラーニングで広く使われる `tensorflow` というライブラリーがある。 \n",
        "\n",
        "`tensorflow` では演算子オーバーロードを広範囲に使う"
      ]
    },
    {
      "cell_type": "code",
      "metadata": {
        "id": "aiUtgxYbJF9z",
        "colab": {
          "base_uri": "https://localhost:8080/",
          "height": 34
        },
        "outputId": "0e97122f-aedc-4f1b-ebf6-5e402624c1c1"
      },
      "source": [
        "import tensorflow as tf\n",
        "# Create two constants, each with value 1\n",
        "a = tf.constant(1)\n",
        "b = tf.constant(1)\n",
        "# Add them together to get...\n",
        "a + b"
      ],
      "execution_count": null,
      "outputs": [
        {
          "output_type": "execute_result",
          "data": {
            "text/plain": [
              "<tf.Tensor: shape=(), dtype=int32, numpy=2>"
            ]
          },
          "metadata": {
            "tags": []
          },
          "execution_count": 28
        }
      ]
    },
    {
      "cell_type": "markdown",
      "metadata": {
        "id": "LmMtlrpsJHwL"
      },
      "source": [
        "a + b は 2,ではない。\n",
        "\n",
        "`tensorflow`のドキュメントによると\n",
        "\n",
        "> a symbolic handle to one of the outputs of an Operation. \n",
        "> It does not hold the values of that operation's output, \n",
        "> but instead provides a means of computing those values \n",
        "> in a TensorFlow tf.Session.\n",
        "\n",
        "ということでなに言っているかわからなくても、大事なのはかならずしも明確でなく、魔法のようなやりかたで演算子オーバーロードが行われることがある、ということを理解しておくことだ。\n",
        "\n",
        "python  の演算子が `int`、`string`、`list` でどう働くかを理解していてもそれが `tensorflow Tensor`、`numpy ndarray`、`pandas Dataframe` でどういう意味かをそのままでわかったことにはならないが、すこし `DataFrame` をかじるとたとえば次のような式がどのような意味かが、本能的にわかり始める"
      ]
    },
    {
      "cell_type": "code",
      "metadata": {
        "id": "J4H9ckWIJKNs"
      },
      "source": [
        "# Get the rows with population over 1m in South America\n",
        "# df[(df['population'] > 10**6) & (df['continent'] == 'South America')]"
      ],
      "execution_count": null,
      "outputs": []
    },
    {
      "cell_type": "markdown",
      "metadata": {
        "id": "vxkqvXGUJMPI"
      },
      "source": [
        "しかし、どうやってこれができているのか。上の例は 5 つほどの違った演算子オーバーロードが使われているが、それぞれなにをやっているのか。なにか間違ったときにこの辺を理解しておくと役に立つ。\n",
        "\n"
      ]
    },
    {
      "cell_type": "markdown",
      "metadata": {
        "id": "sKQhX33qYLcB"
      },
      "source": [
        "---\n",
        "**演算子オーバーロードの仕組み**\n",
        "\n",
        "`help()`や`dir()`を呼び出すと前後に2つずつアンダースコアがついた名前がたくさんでてくる"
      ]
    },
    {
      "cell_type": "code",
      "metadata": {
        "id": "NqqPHWEbJNvw"
      },
      "source": [
        "# print(dir(list))"
      ],
      "execution_count": null,
      "outputs": []
    },
    {
      "cell_type": "markdown",
      "metadata": {
        "id": "5EbAoC9V_Wfv"
      },
      "source": [
        "```\n",
        " ['__add__', '__class__', '__contains__', '__delattr__', '__delitem__',  \n",
        " '__dir__', '__doc__', '__eq__', '__format__', '__ge__',  \n",
        " '__getattribute__', '__getitem__', '__gt__', '__hash__', '__iadd__',  \n",
        " '__imul__', '__init__', '__init_subclass__', '__iter__', '__le__',  \n",
        " '__len__', '__lt__', '__mul__', '__ne__', '__new__', '__reduce__',  \n",
        " '__reduce_ex__', '__repr__', '__reversed__', '__rmul__', '__setattr__',  \n",
        " '__setitem__', '__sizeof__', '__str__', '__subclasshook__', 'append',  \n",
        " 'clear', 'copy', 'count', 'extend', 'index', 'insert', 'pop', 'remove',  \n",
        " 'reverse', 'sort']\n",
        "```"
      ]
    },
    {
      "cell_type": "markdown",
      "metadata": {
        "id": "QoX2Z_QHJO1o"
      },
      "source": [
        "これらが、演算子オーバーロードに直接関係している。\n",
        "\n",
        "python  のプログラマーが自分の作った型に演算子を定義する際、まず `__lt__`、`__setattr__`、`__contains__`のような前後に2つずつアンダースコアがついた名前のメソッドを作る。\n",
        "\n",
        "このダブル・アンダースコア書式は python にとって一般に特殊な意味を持つ。\n",
        "\n",
        "例えば、`[1, 2, 3]` が裏で `__contains__` を呼び出すとすると、それは `[1, 2, 3].__contains__(x)` としていることになる。\n",
        "\n",
        "この辺を興味があって学びたいならば python の公式ドキュメントにたくさんのアンダースコア・メソッドについて書いてある"
      ]
    },
    {
      "cell_type": "markdown",
      "metadata": {
        "id": "eiEvWDb1odxy"
      },
      "source": [
        "----\n",
        "**浮動小数点数がもつメソッド**\n",
        "\n",
        "`int` 型の変数や、`float` 型の変数にも、その型の特徴に合わせた機能が、メソッドとして提供されている。\n",
        "\n",
        "例えば、`float` 型の変数には、`as_integer_ratio()` と言うメソッドがあり、比がその浮動小数点数の値となるような整数の組を返す。\n",
        "\n",
        "例えば、0.5 と言う値は、分数で表すと $\\frac{1}{2}$ である。\n",
        "これは、以下のようにして調べることができる"
      ]
    },
    {
      "cell_type": "code",
      "metadata": {
        "id": "pFPtOpz-v9cY",
        "colab": {
          "base_uri": "https://localhost:8080/"
        },
        "outputId": "7b05a392-ea7b-4d64-b276-4c977ef13298"
      },
      "source": [
        "0.5.as_integer_ratio()"
      ],
      "execution_count": null,
      "outputs": [
        {
          "output_type": "execute_result",
          "data": {
            "text/plain": [
              "(1, 2)"
            ]
          },
          "metadata": {
            "tags": []
          },
          "execution_count": 27
        }
      ]
    },
    {
      "cell_type": "markdown",
      "metadata": {
        "id": "EZNdyQZLv9cZ"
      },
      "source": [
        "0.25 であれば、$\\frac{1}{4}$ となる"
      ]
    },
    {
      "cell_type": "code",
      "metadata": {
        "id": "OuwnCcupv9cZ",
        "colab": {
          "base_uri": "https://localhost:8080/"
        },
        "outputId": "817d2a44-d8e2-4547-e0ea-97267e26c4d9"
      },
      "source": [
        "0.25.as_integer_ratio()"
      ],
      "execution_count": null,
      "outputs": [
        {
          "output_type": "execute_result",
          "data": {
            "text/plain": [
              "(1, 4)"
            ]
          },
          "metadata": {
            "tags": []
          },
          "execution_count": 28
        }
      ]
    },
    {
      "cell_type": "code",
      "metadata": {
        "id": "DoT2xU16nJkT",
        "colab": {
          "base_uri": "https://localhost:8080/"
        },
        "outputId": "2698307b-f988-4699-f8a8-f7f3cc544739"
      },
      "source": [
        "type(0.25.as_integer_ratio())"
      ],
      "execution_count": null,
      "outputs": [
        {
          "output_type": "execute_result",
          "data": {
            "text/plain": [
              "tuple"
            ]
          },
          "metadata": {
            "tags": []
          },
          "execution_count": 1
        }
      ]
    },
    {
      "cell_type": "markdown",
      "metadata": {
        "id": "9qPrP6sYv9cs"
      },
      "source": [
        "---\n",
        "`ndarray` のスライシング\n",
        "\n",
        "list では、`numbers[:]` と `numbers` の結果が同じである。\n",
        "\n",
        "しかし numpy と言うライブラリを用いてリストの中にリストが入ったような**多次元配列 (multidimensional array, ndarray)** では、`0 列目のすべての値`を抽出するために `[:, 0]` のような記法を用いるケースが登場する。\n",
        "\n",
        "これは python 標準の機能ではないが、python 標準のスライス表記を拡張したものになっている"
      ]
    },
    {
      "cell_type": "code",
      "metadata": {
        "id": "miinlVTDLPcD",
        "colab": {
          "base_uri": "https://localhost:8080/"
        },
        "outputId": "2e13546c-0655-4a14-9cb7-e5d674a82f57"
      },
      "source": [
        "import numpy \n",
        "x = numpy.asarray([[1,2],[3,4]])\n",
        "x[:,0]"
      ],
      "execution_count": null,
      "outputs": [
        {
          "output_type": "execute_result",
          "data": {
            "text/plain": [
              "array([1, 3])"
            ]
          },
          "metadata": {
            "tags": []
          },
          "execution_count": 2
        }
      ]
    },
    {
      "cell_type": "code",
      "metadata": {
        "id": "EDqeGWucv9dR",
        "colab": {
          "base_uri": "https://localhost:8080/"
        },
        "outputId": "7a025bb2-f27b-4c84-a1fc-6d4bdd500cc6"
      },
      "source": [
        "# リストをイテラブルオブジェクトに指定\n",
        "for name in names:\n",
        "    print('{}さん'.format(name))"
      ],
      "execution_count": null,
      "outputs": [
        {
          "output_type": "stream",
          "text": [
            "佐藤さん\n",
            "鈴木さん\n",
            "高橋さん\n"
          ],
          "name": "stdout"
        }
      ]
    },
    {
      "cell_type": "markdown",
      "metadata": {
        "id": "eeTHJ3hzPW7U"
      },
      "source": [
        "---\n",
        "`enumerate()` \n",
        "\n",
        "リストをイテラブルオブジェクトとして指定した場合、要素番号を取得できないが、状況によっては要素番号を使用したいことがある。\n",
        "\n",
        "そのような場合は、`enumerate()` と言う組み込み関数を使う。\n",
        "これにイテラブルオブジェクトを渡すと、`(要素番号, 要素)` と言うタプルを 1 つずつ返すイテラブルオブジェクトになる"
      ]
    },
    {
      "cell_type": "code",
      "metadata": {
        "id": "8dT-qUhGv9dT",
        "colab": {
          "base_uri": "https://localhost:8080/"
        },
        "outputId": "f389d138-0cad-4119-c8da-0639c2edc0e9"
      },
      "source": [
        "# enumerate の使い方\n",
        "names = ['佐藤','鈴木','高橋']\n",
        "for i, name in enumerate(names):\n",
        "    message = '{}番目: {}さん'.format(i, name)\n",
        "    print(message)"
      ],
      "execution_count": null,
      "outputs": [
        {
          "output_type": "stream",
          "text": [
            "0番目: 佐藤さん\n",
            "1番目: 鈴木さん\n",
            "2番目: 高橋さん\n"
          ],
          "name": "stdout"
        }
      ]
    },
    {
      "cell_type": "code",
      "metadata": {
        "id": "E2uESzXk7fUf",
        "colab": {
          "base_uri": "https://localhost:8080/"
        },
        "outputId": "6aad7952-33d0-41a4-e358-3f3702188bdd"
      },
      "source": [
        "# 実験\n",
        "print(list(enumerate(names)))"
      ],
      "execution_count": null,
      "outputs": [
        {
          "output_type": "stream",
          "text": [
            "[(0, '佐藤'), (1, '鈴木'), (2, '高橋')]\n"
          ],
          "name": "stdout"
        }
      ]
    },
    {
      "cell_type": "markdown",
      "metadata": {
        "id": "wGwCa9wmP2r4"
      },
      "source": [
        "`enumerate()` と同様、`for` 文と合わせてよく使う組み込み関数に `zip()` がある。\n",
        "\n",
        "`zip()` は、複数のイテラブルオブジェクトを受け取り、その要素のペアを順番に返すイテラブルオブジェクトを作る。\n",
        "このイテラブルオブジェクトは、渡されたイテラブルオブジェクトそれぞれの先頭の要素から順番に、タプルに束ねて返す。\n",
        "このイテラブルオブジェクトの長さは、渡されたイテラブルオブジェクトのうち最も短い長さと一致する"
      ]
    },
    {
      "cell_type": "code",
      "metadata": {
        "id": "5w8huhHcQR8F",
        "colab": {
          "base_uri": "https://localhost:8080/"
        },
        "outputId": "92bfbe23-8387-45dc-fcfa-b0ec10506a00"
      },
      "source": [
        "# zip の使い方\n",
        "names = ['python', 'Chainer']\n",
        "versions = ['3.7', '5.3.0']\n",
        "suffixes = ['!!', '!!', '?']\n",
        "\n",
        "for name, version, suffix in zip(names, versions, suffixes):\n",
        "    print('{} {} {}'.format(name, version, suffix))\n",
        "\n",
        "#実験\n",
        "print(list(zip(names, versions, suffixes)))"
      ],
      "execution_count": null,
      "outputs": [
        {
          "output_type": "stream",
          "text": [
            "Python 3.7 !!\n",
            "Chainer 5.3.0 !!\n",
            "[('Python', '3.7', '!!'), ('Chainer', '5.3.0', '!!')]\n"
          ],
          "name": "stdout"
        }
      ]
    },
    {
      "cell_type": "markdown",
      "metadata": {
        "id": "IeQCA00UQYDq"
      },
      "source": [
        "`suffixes` の要素数は 3 だが、より短いイテラブルオブジェクトと共に `zip` に渡されたため、先頭から 2 つ目までしか値が取り出されていない"
      ]
    },
    {
      "cell_type": "markdown",
      "metadata": {
        "id": "WguFiYgqQnQT"
      },
      "source": [
        "**条件分岐（if 文）**\n",
        "\n",
        "`if` は、指定した条件が `True` か `False` かによって、処理を変えるための制御構文である。\n",
        "\n",
        "**python の if は文であって、式ではない。**\n",
        "\n"
      ]
    },
    {
      "cell_type": "markdown",
      "metadata": {
        "id": "J-Z8g-Klv9dV"
      },
      "source": [
        "`elif` と `else` は任意であり、`elif` は 1 つだけでなく複数連ねることができる。\n"
      ]
    },
    {
      "cell_type": "markdown",
      "metadata": {
        "id": "RCB98_8xv9df"
      },
      "source": [
        "**関数を定義する**\n",
        "\n",
        "\n",
        "\n",
        "```\n",
        "def 関数名 (引数1,2,...): ヘッダー\n",
        "    処理ブロック\n",
        "```\n",
        "\n",
        "例えば、**受け取った値を 2 倍して表示する関数**を作ってみる。\n",
        "\n",
        "関数を定義するには、まず名前を決める必要がある。\n",
        "今回は `double()` と言う名前の関数を定義してみる。\n",
        "\n",
        "関数も制御構文と同じく**ヘッダー**と**ブロック**を持っている"
      ]
    },
    {
      "cell_type": "markdown",
      "metadata": {
        "id": "1yyGlFy3X_EN"
      },
      "source": [
        "---\n",
        "無名関数の書き方"
      ]
    },
    {
      "cell_type": "code",
      "metadata": {
        "id": "iDh3Mpi_IfDp"
      },
      "source": [
        "# 関数 double() の定義\n",
        "def double(x):\n",
        "    print(2 * x)"
      ],
      "execution_count": null,
      "outputs": []
    },
    {
      "cell_type": "code",
      "metadata": {
        "id": "S1ng7wyXl07f",
        "colab": {
          "base_uri": "https://localhost:8080/"
        },
        "outputId": "56743e23-7304-4ff0-9781-1f14c140f068"
      },
      "source": [
        "# 実験 無名関数 lambda => 定義と同じ構文\n",
        "(lambda x: print(2*x))(3)"
      ],
      "execution_count": null,
      "outputs": [
        {
          "output_type": "stream",
          "text": [
            "6\n"
          ],
          "name": "stdout"
        }
      ]
    },
    {
      "cell_type": "markdown",
      "metadata": {
        "id": "CRggp-QcIfDs"
      },
      "source": [
        "`double(x)` における `x` のように、関数に渡される変数や値のことを**引数 (argument, ひきすう)** と言う。\n",
        "上の例は、名前が `double` で、1つの引数 `x` をとり、`2 * x` と言う計算を行い、その結果を表示している"
      ]
    },
    {
      "cell_type": "markdown",
      "metadata": {
        "id": "BZGSKTbcv9do"
      },
      "source": [
        "---\n",
        "**引数のデフォルト値**\n",
        "\n",
        "引数には、あらかじめ値を与えておくことができる。\n",
        "\n",
        "これは、引数をとる関数を定義する際に、何も引数に値が渡されなかったときにどのような値がその引数に渡されたことにするかをあらかじめ決めておける機能で、その値のことを**デフォルト値**と呼ぶ。\n",
        "\n",
        "例えば、上の `hello()` と言う関数に、`message` と言う引数をもたせ、そこにデフォルト値を設定しておく"
      ]
    },
    {
      "cell_type": "code",
      "metadata": {
        "id": "uw2d8qDov9do"
      },
      "source": [
        "def hello(message='Chainerチュートリアルにようこそ'):\n",
        "    print(message)"
      ],
      "execution_count": null,
      "outputs": []
    },
    {
      "cell_type": "markdown",
      "metadata": {
        "id": "7i8TQcfzv9do"
      },
      "source": [
        "この関数は引数に何も与えずに呼び出すと、「Chainerチュートリアルにようこそ」と言うメッセージを表示し、引数に別な値が渡されると、その値を表示する"
      ]
    },
    {
      "cell_type": "code",
      "metadata": {
        "id": "Fh4VEHmMv9dp",
        "colab": {
          "base_uri": "https://localhost:8080/"
        },
        "outputId": "c5a6764a-1cb2-4eee-9924-9fdaeeda5ace"
      },
      "source": [
        "hello()"
      ],
      "execution_count": null,
      "outputs": [
        {
          "output_type": "stream",
          "text": [
            "Chainerチュートリアルにようこそ\n"
          ],
          "name": "stdout"
        }
      ]
    },
    {
      "cell_type": "code",
      "metadata": {
        "id": "p2g-ULOWv9dp",
        "colab": {
          "base_uri": "https://localhost:8080/"
        },
        "outputId": "8c3941cd-0054-4400-ff5f-b2ab87f7ebcf"
      },
      "source": [
        "hello('Welcome to Chainer tutorial')"
      ],
      "execution_count": null,
      "outputs": [
        {
          "output_type": "stream",
          "text": [
            "Welcome to Chainer tutorial\n"
          ],
          "name": "stdout"
        }
      ]
    },
    {
      "cell_type": "markdown",
      "metadata": {
        "id": "GWhAbt3ov9dq"
      },
      "source": [
        "デフォルト値が与えられていない引数は、関数呼び出しの際に必ず何らかの値が渡される必要があるが、デフォルト値を持つ場合は、何も指定しなくても関数を呼び出すことができるようになる"
      ]
    },
    {
      "cell_type": "markdown",
      "metadata": {
        "id": "BJnkcc_Qv9dt"
      },
      "source": [
        "---\n",
        "# 変数のスコープ\n",
        "\n",
        "関数の中で定義した変数は基本的には関数の外では利用できない。\n",
        "\n",
        "例えば、以下の例を見てみる"
      ]
    },
    {
      "cell_type": "code",
      "metadata": {
        "id": "L8vtxEV7v9dt",
        "colab": {
          "base_uri": "https://localhost:8080/"
        },
        "outputId": "025665c1-89ec-46ff-ddc7-3d0f0bcfcca3"
      },
      "source": [
        "a = 1\n",
        "\n",
        "# 関数の内部で a に 2 を代入\n",
        "def change():\n",
        "    a = 2\n",
        "    \n",
        "change()\n",
        "\n",
        "a"
      ],
      "execution_count": null,
      "outputs": [
        {
          "output_type": "execute_result",
          "data": {
            "text/plain": [
              "1"
            ]
          },
          "metadata": {
            "tags": []
          },
          "execution_count": 109
        }
      ]
    },
    {
      "cell_type": "markdown",
      "metadata": {
        "id": "Z9slKEKXv9du"
      },
      "source": [
        "関数の外で `a = 1` と初期化した変数と同じ名前の変数に対して、`change()` 関数の内部で `a = 2` と言う代入を行っているにもかかわらず、`change()` 関数の実行後にも関数の外側では `a` の値は 1 のままになっている。\n",
        "**関数の外側で定義された変数** `a` **に、関数内部での処理が影響していないことがわかる。**\n",
        "\n",
        "なぜこうなるかと言うと、関数の中で変数に値が代入されるとき、その変数はその関数の**スコープ (scope)** でだけ有効な**ローカル変数**になり、関数の外にある同じ名前の変数とは別のものを指すようになるためである。\n",
        "スコープとは、その変数が参照可能な範囲のことである。\n",
        "上の例では、`a = 2` の代入を行った時点で`change()` 関数のスコープに `a` と言う変数が作られ、`change()` 関数の中からは `a` といえばこれを指すようになる。関数から抜けると、`a` は 1 を値に持つ外側の変数を指すようになる。\n",
        "\n",
        "ただし、代入を行わずに、参照するだけであれば、関数の内側から外側で定義された変数を利用することができる"
      ]
    },
    {
      "cell_type": "code",
      "metadata": {
        "id": "XgGcEUSQv9du",
        "colab": {
          "base_uri": "https://localhost:8080/"
        },
        "outputId": "a73b768c-c19e-460f-c749-52377f9bbf66"
      },
      "source": [
        "a = 1\n",
        "\n",
        "def change():\n",
        "    print('From inside:', a)\n",
        "    \n",
        "change()\n",
        "\n",
        "print('From outside:', a)"
      ],
      "execution_count": null,
      "outputs": [
        {
          "output_type": "stream",
          "text": [
            "From inside: 1\n",
            "From outside: 1\n"
          ],
          "name": "stdout"
        }
      ]
    },
    {
      "cell_type": "markdown",
      "metadata": {
        "id": "vAHe5xDGv9dv"
      },
      "source": [
        "この場合は、`change()` 関数のスコープには `a` と言う変数は作られないので、関数の中で `a` といえば外側で定義された変数を指す。\n",
        "\n",
        "関数の外で定義された変数は**グローバル変数**と呼ばれる。\n",
        "グローバル変数は、特に特別な記述を要せず参照することはできるが、関数の中で**代入**を行う場合は、`global` 文を使って、代入先をグローバル変数とする宣言を行う必要がある"
      ]
    },
    {
      "cell_type": "code",
      "metadata": {
        "id": "D1uNClamv9dv",
        "colab": {
          "base_uri": "https://localhost:8080/"
        },
        "outputId": "a7b2fd8e-30b4-4887-ccb1-4517fa025ac1"
      },
      "source": [
        "a = 1\n",
        "\n",
        "def change():\n",
        "    global a  # a をグローバル変数である宣言\n",
        "    a = 2       # グローバル変数への代入\n",
        "\n",
        "# 関数の実行\n",
        "change()\n",
        "\n",
        "# 結果の確認 <- a の値が上書きされている\n",
        "a"
      ],
      "execution_count": null,
      "outputs": [
        {
          "output_type": "execute_result",
          "data": {
            "text/plain": [
              "2"
            ]
          },
          "metadata": {
            "tags": []
          },
          "execution_count": 111
        }
      ]
    },
    {
      "cell_type": "markdown",
      "metadata": {
        "id": "MSTyBWulv9dv"
      },
      "source": [
        "`global a` と言う行を `change()` 関数内で `a` と言う変数を使用する前に追加すると、その行以降は `a` と言う変数への代入も関数の外側で定義されたグローバル変数の `a` に対して行われる"
      ]
    },
    {
      "cell_type": "markdown",
      "metadata": {
        "id": "FBe0bEnnVoE5"
      },
      "source": [
        "---\n",
        "# クラス\n",
        "\n",
        "**オブジェクト指向プログラミング (object-oriented programming)** の特徴の一つである**クラス (class)** は、**オブジェクト (object)** を生成するための設計図にあたるものである。\n",
        "\n",
        "クラスから作成された実体のことを**インスタンス (instance)** または**オブジェクト (object)** とも呼び、**クラスから実体を作成する**と言う操作のことを**インスタンス化 (instantiation)** と呼ぶ"
      ]
    },
    {
      "cell_type": "markdown",
      "metadata": {
        "id": "M1XEvf6Kv9dw"
      },
      "source": [
        "**クラスの定義**\n",
        "\n",
        "それでは、家の設計図を表す `House` と言うクラスを定義してみる。\n",
        "\n",
        "`House` クラスには、インスタンス化されたあとに、各インスタンス、すなわち誰か特定の人の家ごとに異なる値を持つ、`name_plate` と言う変数を持たせてみる。\n",
        "\n",
        "`name_plate` と言う変数には、個別の家の表札に表示するための文字列が与えられるが、クラスを定義する際には「`name_plate` と言う変数を持つことができる」ようにしておくだけでよく、**実際にその変数に何か具体的な値を与える必要はない。**\n",
        "\n",
        "クラスは、**設計図**であればよく、具体的な値を持たせなくてもよいためである。\n",
        "\n",
        "具体的な値は、個別の家を作成するとき、すなわちインスタンス化の際に与え、各インスタンスが `name_plate` と言う値に自分の家の表札の名前を保持するようにする。\n",
        "\n",
        "このような、インスタンスに属している変数を**属性 (attribute)** と呼ぶ。同様に、インスタンスから呼び出すことができる関数のことを**メソッド (method)** と呼ぶ。\n",
        "\n",
        "クラスは、以下のような構文を使って定義する。\n",
        "\n",
        "具体的には、以下のようになる。\n",
        "```\n",
        "class クラス名: ヘッダー\n",
        "    def メソッド名(引数1, ...): ヘッダー\n",
        "        ブロック処理\n",
        "```"
      ]
    },
    {
      "cell_type": "code",
      "metadata": {
        "id": "9ZrUz4kHv9dw"
      },
      "source": [
        "# クラスの定義\n",
        "class House:\n",
        "    # __init__() メソッドの定義\n",
        "    def __init__(self, name):\n",
        "        self.name_plate = name"
      ],
      "execution_count": null,
      "outputs": []
    },
    {
      "cell_type": "markdown",
      "metadata": {
        "id": "151zWM4Dv9dw"
      },
      "source": [
        "ここで、`__init__()` と言う名前のメソッドが `House` クラスの中に定義されている。\n",
        "メソッドの名前は自由に名付けることができるが、いくつか特別な意味を持つメソッド名が予め決められている。\n",
        "`__init__()` はそういったメソッドの一つで、**インスタンス化する際に自動的に呼ばれるメソッド**である。\n",
        "\n",
        "`House` クラスの `__init__()` は、`name` と言う引数をとり、これを `self.name_plate` と言う変数に代入している。\n",
        "この `self` と言うのは、クラスがインスタンス化されたあと、作成されたインスタンス自身を参照するのに用いられる。\n",
        "これを使って、`self.name_plate = name` とすることで、作成された個別のインスタンスに属する変数 `self.name_plate` へ、引数に渡された `name` が持つ値を代入することができる。\n",
        "`self` が指すものは、各インスタンスから見た「自分自身」なので、各インスタンスごとに異なる。\n",
        "これによって、`self.name_plate` は各インスタンスに紐付いた別々の値を持つものとなる。\n",
        "\n",
        "メソッドは、インスタンスから呼び出されるとき自動的に第一引数にそのインスタンスへの参照を渡す。\n",
        "そのため、メソッドの第一引数は `self` とし、渡されてくる自分自身への参照を受け取るようにしている。\n",
        "ただし、呼び出す際には**そのインスタンスを引数に指定する必要はない。**\n",
        "以下に具体例を示し、再度このことを確認する。\n",
        "\n",
        "それでは、上で定義した `House` クラスのインスタンスを作成してみる。\n",
        "クラスのインスタンス化には、クラス名のあとに `()` を追加して、クラスを呼び出すような記法を使う。\n",
        "この際、関数を呼び出すときと同様にして、`()` に引数を渡すことができる。\n",
        "その引数は、`__init__()` メソッドに渡される"
      ]
    },
    {
      "cell_type": "code",
      "metadata": {
        "id": "PE3dT2ytv9dx"
      },
      "source": [
        "my_house = House('Chainer')"
      ],
      "execution_count": null,
      "outputs": []
    },
    {
      "cell_type": "markdown",
      "metadata": {
        "id": "9xHHa6rwv9dx"
      },
      "source": [
        "`House` と言うクラスの `__init__()` メソッドに、`'Chainer'` と言う文字列を渡している。\n",
        "`my_house` が、`House` クラスから作成されたインスタンスである。\n",
        "ここで、クラス定義では `__init__()` メソッドは `self` と `name` と言う 2 つの引数をとっていたが、呼び出しの際には `'Chainer'` と言う一つの引数しか与えていない。\n",
        "この `'Chainer'` と言う文字列は、1 つ目の引数であるにも関わらず、`__init__()` メソッドの定義では 2 つ目の引数であった `name` に渡される。\n",
        "前述のように、**メソッドは、インスタンスから呼び出されるとき自動的に第一引数にそのインスタンスへの参照を渡す**ためである。\n",
        "この自動的に渡される自身への参照は、呼び出しの際には明示的に指定しない。\n",
        "また、かならず 1 つ目の引数に自動的に渡されるため、呼び出し時に明示的に与えられた引数は 2 つ目以降の引数に渡されたものとして取り扱われる。\n",
        "\n",
        "それでは次に、このクラスに `hello()` と言うメソッドを追加し、呼び出すと誰の家であるかを表示すると言う機能を実装してみる"
      ]
    },
    {
      "cell_type": "code",
      "metadata": {
        "id": "k2Zcvs1xv9dx"
      },
      "source": [
        "# クラスの定義\n",
        "class House:\n",
        "\n",
        "    # __init__() の定義\n",
        "    def __init__(self, name):\n",
        "        self.name_plate = name\n",
        "\n",
        "    # メソッドの定義\n",
        "    def hello(self):\n",
        "        print('{}の家である。'.format(self.name_plate))"
      ],
      "execution_count": null,
      "outputs": []
    },
    {
      "cell_type": "markdown",
      "metadata": {
        "id": "oTQagqYdv9dz"
      },
      "source": [
        "それでは、2 つのインスタンスを作成して、それぞれから `hello()` メソッドを呼び出してみる"
      ]
    },
    {
      "cell_type": "code",
      "metadata": {
        "id": "MP8iXQM0v9dz",
        "colab": {
          "base_uri": "https://localhost:8080/"
        },
        "outputId": "53a7fbb2-4124-4c98-e37f-561542d1c82d"
      },
      "source": [
        "sato = House('佐藤')\n",
        "suzuki = House('スズキ')\n",
        "\n",
        "sato.hello()   # 実行の際には hello() の引数にある self は無視\n",
        "suzuki.hello() # 実行の際には hello() の引数にある self は無視"
      ],
      "execution_count": null,
      "outputs": [
        {
          "output_type": "stream",
          "text": [
            "佐藤の家である。\n",
            "スズキの家である。\n"
          ],
          "name": "stdout"
        }
      ]
    },
    {
      "cell_type": "markdown",
      "metadata": {
        "id": "_vI_Dqjdv9d0"
      },
      "source": [
        "`sato` と言うインスタンスの `name_plate` 属性には、`'佐藤'` と言う文字列が格納されている。  \n",
        "`suzuki` と言うインスタンスの `name_plate` 属性には、`'スズキ'` と言う文字列が格納されている。  \n",
        "それぞれのインスタンスから呼び出された `hello()` メソッドは、`self.name_plate` に格納された別々の値を `print()` を用いて表示している。\n",
        "\n",
        "このように、同じ機能を持つが、インスタンスによって保持するデータが異なったり、一部の動作が異なったりするようなケースを扱うのにクラスを利用する。\n",
        "python の `int` 型、`float` 型、`str` 型…などは、実際には `int` クラス、`float` クラス、`str` クラスであり、それらの中では個別の変数（インスタンス）がどのような値になるかには関係なく、同じ型であれば共通して持っている機能が定義されている。\n",
        "`5` や `0.3` や `'Chainer'` などは、それぞれ `int` クラスのインスタンス、`float` クラスのインスタンス、`str` クラスのインスタンスである。\n",
        "\n",
        "以上から、クラスを定義すると言うのは、**新しい型を作る**と言うことでもあると分かる"
      ]
    },
    {
      "cell_type": "markdown",
      "metadata": {
        "id": "0M1dmJSacA7g"
      },
      "source": [
        "---\n",
        "**継承**\n",
        "\n",
        "あるクラスを定義したら、その一部の機能を変更したり、新しい機能を付け足したりしたくなることがある。\n",
        "これを実現する機能が**継承 (inheritance)** である。\n",
        "例えば、`Link` と言うクラスを定義し、そのクラスを継承した `Chain` と言う新しいクラスを作ってみる。\n",
        "まず、`Link` クラスを定義する"
      ]
    },
    {
      "cell_type": "code",
      "metadata": {
        "id": "wn9XJxjpv9d0"
      },
      "source": [
        "class Link:\n",
        "\n",
        "    def __init__(self):\n",
        "        self.a = 1\n",
        "        self.b = 2"
      ],
      "execution_count": null,
      "outputs": []
    },
    {
      "cell_type": "markdown",
      "metadata": {
        "id": "Qn0fSwvyv9d1"
      },
      "source": [
        "この `Link` と言うクラスは、インスタンス化を行う際には 1 つも引数をとらないが、属性として `a` と `b` の 2 つの変数を保持し、それぞれには `__init__()` メソッドで 1 と 2 と言う値が代入される。\n",
        "このクラスのインスタンスを作成してみる"
      ]
    },
    {
      "cell_type": "code",
      "metadata": {
        "id": "BsfYK88qv9d1",
        "colab": {
          "base_uri": "https://localhost:8080/"
        },
        "outputId": "6cbd18c0-d8da-4d3e-cafa-a28dfd482a5b"
      },
      "source": [
        "l = Link()\n",
        "\n",
        "l.a"
      ],
      "execution_count": null,
      "outputs": [
        {
          "output_type": "execute_result",
          "data": {
            "text/plain": [
              "1"
            ]
          },
          "metadata": {
            "tags": []
          },
          "execution_count": 117
        }
      ]
    },
    {
      "cell_type": "code",
      "metadata": {
        "id": "JA6sXOrvv9d2",
        "colab": {
          "base_uri": "https://localhost:8080/"
        },
        "outputId": "c0498302-30c2-458a-ce6b-0c778f506315"
      },
      "source": [
        "l.b"
      ],
      "execution_count": null,
      "outputs": [
        {
          "output_type": "execute_result",
          "data": {
            "text/plain": [
              "2"
            ]
          },
          "metadata": {
            "tags": []
          },
          "execution_count": 118
        }
      ]
    },
    {
      "cell_type": "markdown",
      "metadata": {
        "id": "DxipToKmv9d2"
      },
      "source": [
        "`l` と言う `Link` クラスのインスタンスが持つ 2 つの属性を表示している。\n",
        "インスタンス化を行った際に `__init__()` メソッドの中で代入していた値が、表示されている。\n",
        "\n",
        "次に、このクラスを**継承**する、`Chain` と言うクラスを定義してみる。\n",
        "継承を行う場合は、クラス定義の際にクラス名に続けて `()` を書き、その中にベースにしたいクラスの名前を書く。\n",
        "`()` の中に書かれたクラスのことを、定義されるクラスの**親クラス**と言う。\n",
        "それに対し、`()` の中に書かれたクラスからみると、定義されるクラスは**子クラス**と呼ばれる。\n",
        "親から子へ機能が受け継がれるためである"
      ]
    },
    {
      "cell_type": "code",
      "metadata": {
        "id": "A4eTa6jZv9d3"
      },
      "source": [
        "class Chain(Link):\n",
        "    \n",
        "    def sum(self):\n",
        "        return self.a + self.b"
      ],
      "execution_count": null,
      "outputs": []
    },
    {
      "cell_type": "markdown",
      "metadata": {
        "id": "dhxR4J0mv9d3"
      },
      "source": [
        "`Chain` クラスは `__init__()` メソッドの定義を持たない。\n",
        "\n",
        "`__init__()` メソッドが定義されていない場合、親クラスの `__init__()`  メソッドが自動的に呼び出される。\n",
        "そのため、`Chain` クラスでは一見何も属性を定義していないように見えるが、インスタンス化を行うと親クラスである `Link` の `__init__()`  メソッドが自動的に実行され、`a`、`b` と言う属性が定義される。\n",
        "以下のコードで確認してみる"
      ]
    },
    {
      "cell_type": "code",
      "metadata": {
        "id": "ipmqPwsKv9d3",
        "colab": {
          "base_uri": "https://localhost:8080/"
        },
        "outputId": "91699999-c46c-406c-ea47-9483875d4d86"
      },
      "source": [
        "# Chain クラスをインスタンス化\n",
        "c = Chain()\n",
        "\n",
        "c.a"
      ],
      "execution_count": null,
      "outputs": [
        {
          "output_type": "execute_result",
          "data": {
            "text/plain": [
              "1"
            ]
          },
          "metadata": {
            "tags": []
          },
          "execution_count": 120
        }
      ]
    },
    {
      "cell_type": "code",
      "metadata": {
        "id": "lWL0VTMOv9d4",
        "colab": {
          "base_uri": "https://localhost:8080/"
        },
        "outputId": "683674c2-86a0-4e16-adfa-0495c67c7aa1"
      },
      "source": [
        "c.b"
      ],
      "execution_count": null,
      "outputs": [
        {
          "output_type": "execute_result",
          "data": {
            "text/plain": [
              "2"
            ]
          },
          "metadata": {
            "tags": []
          },
          "execution_count": 121
        }
      ]
    },
    {
      "cell_type": "markdown",
      "metadata": {
        "id": "nVjBNK1Cv9d4"
      },
      "source": [
        "`Chain` クラスの `sum()` メソッドでは、この親クラスの `__init__()`  メソッドで定義されている 2 つの属性を足し合わせて返している。\n",
        "今作成したインスタンスから、この `sum()` メソッドを呼び出してみる"
      ]
    },
    {
      "cell_type": "code",
      "metadata": {
        "id": "pEf10A44v9d5",
        "colab": {
          "base_uri": "https://localhost:8080/"
        },
        "outputId": "5e4bc4fc-1fd3-4fcc-e434-05be186fb6bd"
      },
      "source": [
        "# sum メソッドを実行\n",
        "c.sum()"
      ],
      "execution_count": null,
      "outputs": [
        {
          "output_type": "execute_result",
          "data": {
            "text/plain": [
              "3"
            ]
          },
          "metadata": {
            "tags": []
          },
          "execution_count": 122
        }
      ]
    },
    {
      "cell_type": "markdown",
      "metadata": {
        "id": "QI1v_Ib0v9d5"
      },
      "source": [
        "このように、**親クラスを継承し、親クラスに無かった新しい機能が追加された、新しいクラスを定義することができる。**\n",
        "\n",
        "それでは、この `Chain` と言うクラスにも `__init__()`  メソッドを定義して、新しい属性 `c` を定義し、`sum()` メソッドでは親クラスの `a`、`b` と言う属性とこの新たな `c` と言う属性の 3 つの和を返すように変更してみる"
      ]
    },
    {
      "cell_type": "code",
      "metadata": {
        "id": "ds9A6Xfpv9d5"
      },
      "source": [
        "class Chain(Link):\n",
        "\n",
        "    def __init__(self):\n",
        "        self.c = 5  # self.c を新たに追加\n",
        "    \n",
        "    def sum(self):\n",
        "        return self.a + self.b + self.c\n",
        "\n",
        "# インスタンス化\n",
        "C = Chain()"
      ],
      "execution_count": null,
      "outputs": []
    },
    {
      "cell_type": "code",
      "metadata": {
        "id": "_2_7avSHv9d6"
      },
      "source": [
        "# error\n",
        "# C.sum()"
      ],
      "execution_count": null,
      "outputs": []
    },
    {
      "cell_type": "markdown",
      "metadata": {
        "id": "ZfTe1NMUv9d6"
      },
      "source": [
        "エラーが出た。\n",
        "\n",
        "**エラーメッセージを読む。**\n",
        "\n",
        "> AttributeError: 'Chain' object has no attribute 'a'\n",
        "\n",
        "`'Chain'` と言うオブジェクトは、`'a'` と言う名前の属性を持っていない、と言われている。\n",
        "`a` と言う属性は、`Chain` の親クラスである `Link` の `__init__()`  メソッドで定義されている。\n",
        "そのため、`Chain` クラスをインスタンス化する際に、親クラスである `Link` の `__init__()`  メソッドが呼ばれているのであれば、このエラーは起こらないはずである。\n",
        "なぜエラーとなってしまったのだろうか。\n",
        "\n",
        "それは、`Chain` クラスにも `__init__()` メソッドを定義したため、親クラスである `Link` の `__init__()`  メソッドが上書きされてしまい、実行されなかったためである。\n",
        "しかし、親クラスの `__init__()`  メソッドを明示的に呼ぶことで、これは解決できる。\n",
        "\n",
        "それには、`super()` と言う組み込み関数を用いる。\n",
        "これを用いると、子クラスから親クラスを参照することができる"
      ]
    },
    {
      "cell_type": "code",
      "metadata": {
        "id": "_NcT6aN7v9d6"
      },
      "source": [
        "class Chain(Link):\n",
        "\n",
        "    def __init__(self):\n",
        "        # 親クラスの `__init__()` メソッドを呼び出す\n",
        "        super().__init__()\n",
        "        \n",
        "        # self.c を新たに追加\n",
        "        self.c = 5\n",
        "    \n",
        "    def sum(self):\n",
        "        return self.a + self.b + self.c\n",
        "\n",
        "# インスタンス化\n",
        "c = Chain()"
      ],
      "execution_count": null,
      "outputs": []
    },
    {
      "cell_type": "code",
      "metadata": {
        "id": "FW__tTtGv9d7",
        "colab": {
          "base_uri": "https://localhost:8080/"
        },
        "outputId": "ad12f762-600f-49af-9877-0c8bec06bc37"
      },
      "source": [
        "c.sum()"
      ],
      "execution_count": null,
      "outputs": [
        {
          "output_type": "execute_result",
          "data": {
            "text/plain": [
              "8"
            ]
          },
          "metadata": {
            "tags": []
          },
          "execution_count": 128
        }
      ]
    },
    {
      "cell_type": "markdown",
      "metadata": {
        "id": "HcDciFKRv9d7"
      },
      "source": [
        "今回はエラーが起きない。\n",
        "`Link` クラスの `__init__()`  メソッドの冒頭で、まず親クラスの `__init__()`  メソッドを実行し、`a`、`b` と言う属性を定義しているためである。\n",
        "\n",
        "あるクラスを継承して作られたクラスを、さらに継承して別のクラスを定義することもできる"
      ]
    },
    {
      "cell_type": "code",
      "metadata": {
        "id": "RmL3FvD-v9d7"
      },
      "source": [
        "class MyNetwork(Chain):\n",
        "    \n",
        "    def mul(self):\n",
        "        return self.a * self.b * self.c"
      ],
      "execution_count": null,
      "outputs": []
    },
    {
      "cell_type": "markdown",
      "metadata": {
        "id": "21eb0EOKv9d8"
      },
      "source": [
        "`MyNetwork` クラスは、`Link` クラスを継承した `Chain` クラスをさらに継承したクラスで、`a`、`b`、`c` と言う 3 つの属性を掛け合わせた結果を返す `mul()` と言うメソッドを持つ。\n",
        "\n",
        "このクラスのインスタンスを作成し、`mul()` を実行してみる"
      ]
    },
    {
      "cell_type": "code",
      "metadata": {
        "id": "Cq4lJIm3v9d8",
        "colab": {
          "base_uri": "https://localhost:8080/"
        },
        "outputId": "badf180c-a24a-4429-82e4-5b524d8fa39c"
      },
      "source": [
        "net = MyNetwork()\n",
        "\n",
        "net.mul()"
      ],
      "execution_count": null,
      "outputs": [
        {
          "output_type": "execute_result",
          "data": {
            "text/plain": [
              "10"
            ]
          },
          "metadata": {
            "tags": []
          },
          "execution_count": 130
        }
      ]
    },
    {
      "cell_type": "markdown",
      "metadata": {
        "id": "VujV1nqfv9d8"
      },
      "source": [
        "$1 \\times 2 \\times 5 = 10$ が返ってきた"
      ]
    },
    {
      "cell_type": "markdown",
      "metadata": {
        "id": "GvpEV3ku_oHH"
      },
      "source": [
        "---"
      ]
    },
    {
      "cell_type": "markdown",
      "metadata": {
        "id": "q2VOU_NmBs9A"
      },
      "source": [
        "# 関数型 python の考え方\n",
        "\n",
        "python は関数型言語ではないが、関数型で書くための道具は揃っている。\n",
        "\n",
        "* reduce, map, filter を使う。  \n",
        "* iterator, generator を使う。  \n",
        "https://docs.python.org/ja/3/howto/functional.html\n",
        "\n",
        "これらを活用することで、わかりやすくバグの少ないプログラミングを目指す。\n",
        "\n",
        "質問 $\\quad$ accumulator に当たるものはあるか。\n",
        "\n",
        "python accumulator で検索\n",
        "\n",
        "\n"
      ]
    },
    {
      "cell_type": "markdown",
      "metadata": {
        "id": "ZApaIbdsDsbQ"
      },
      "source": [
        "# reduce\n",
        "\n"
      ]
    },
    {
      "cell_type": "code",
      "metadata": {
        "id": "ejLW8duEBp8d",
        "colab": {
          "base_uri": "https://localhost:8080/"
        },
        "outputId": "0b80dfdb-1355-436e-a90f-42ab714258b8"
      },
      "source": [
        "# reduce は functools にある\n",
        "from functools import reduce\n",
        "array = [20, 1, 2, 3, 4, 5]\n",
        "\n",
        "print(reduce(lambda x, y: x+y, array))\n",
        "\n",
        "from operator import add\n",
        "from operator import sub\n",
        "from operator import mul\n",
        "\n",
        "print(reduce(add, array)) # 35\n",
        "print(reduce(sub, array)) # 5\n",
        "print(reduce(mul, array)) # 2400"
      ],
      "execution_count": null,
      "outputs": [
        {
          "output_type": "stream",
          "text": [
            "35\n",
            "35\n",
            "5\n",
            "2400\n"
          ],
          "name": "stdout"
        }
      ]
    },
    {
      "cell_type": "code",
      "metadata": {
        "id": "TbGBFPVgZice",
        "colab": {
          "base_uri": "https://localhost:8080/"
        },
        "outputId": "6371c254-8152-47d4-c1ea-6ca5d60da255"
      },
      "source": [
        "# map とかは built-in 関数としてある\n",
        "numbers = [-8, 5, -1, 4, -9, 2]\n",
        "\n",
        "print(list(map(abs, numbers))) "
      ],
      "execution_count": null,
      "outputs": [
        {
          "output_type": "stream",
          "text": [
            "[8, 5, 1, 4, 9, 2]\n"
          ],
          "name": "stdout"
        }
      ]
    },
    {
      "cell_type": "code",
      "metadata": {
        "id": "wW4ieJVhZruG",
        "colab": {
          "base_uri": "https://localhost:8080/"
        },
        "outputId": "4dce0765-40f0-4bb3-da44-ea52d5c77ac5"
      },
      "source": [
        "# map の結果は map object\n",
        "numbers = [-8, 5, -1, 4, -9, 2]\n",
        "\n",
        "print(map(abs, numbers)) "
      ],
      "execution_count": null,
      "outputs": [
        {
          "output_type": "stream",
          "text": [
            "<map object at 0x7f76d47a62b0>\n"
          ],
          "name": "stdout"
        }
      ]
    },
    {
      "cell_type": "code",
      "metadata": {
        "id": "oPLNybneZ3U6",
        "colab": {
          "base_uri": "https://localhost:8080/"
        },
        "outputId": "4d8d9036-30e3-4f19-973d-82aff163b8de"
      },
      "source": [
        "# filter\n",
        "numbers = [-8, 5, -1, 4, -9, 2]\n",
        "\n",
        "print(list(filter(lambda x: abs(x) > 3, numbers))) #[-8, 5, 4, -9]"
      ],
      "execution_count": null,
      "outputs": [
        {
          "output_type": "stream",
          "text": [
            "[-8, 5, 4, -9]\n"
          ],
          "name": "stdout"
        }
      ]
    },
    {
      "cell_type": "code",
      "metadata": {
        "id": "Qz1ghX8DaZlj",
        "colab": {
          "base_uri": "https://localhost:8080/"
        },
        "outputId": "ddac4ca8-c8b6-486e-a2ec-02b6cfff1b2c"
      },
      "source": [
        "# 実験 ndarrayにreduceが使えるか\n",
        "from functools import reduce\n",
        "import numpy as np\n",
        "print(reduce(lambda x,y: x+y, np.arange(10)))"
      ],
      "execution_count": null,
      "outputs": [
        {
          "output_type": "stream",
          "text": [
            "45\n"
          ],
          "name": "stdout"
        }
      ]
    },
    {
      "cell_type": "code",
      "metadata": {
        "id": "YWGsILuulL1j",
        "colab": {
          "base_uri": "https://localhost:8080/"
        },
        "outputId": "922b19eb-39b3-4eda-a73f-f2190f3cad9d"
      },
      "source": [
        "# np.arange は ndarray で range は range クラス\n",
        "import numpy as np\n",
        "print(type(np.arange(10)))\n",
        "print(type(range(10)))"
      ],
      "execution_count": null,
      "outputs": [
        {
          "output_type": "stream",
          "text": [
            "<class 'numpy.ndarray'>\n",
            "<class 'range'>\n"
          ],
          "name": "stdout"
        }
      ]
    },
    {
      "cell_type": "code",
      "metadata": {
        "id": "VCORLzN58X1D",
        "colab": {
          "base_uri": "https://localhost:8080/"
        },
        "outputId": "fd95a4e4-f298-461e-9a3b-40e49b4d0445"
      },
      "source": [
        "# ndarray について実験\n",
        "import numpy as np\n",
        "a = np.array([1,2,3])\n",
        "a02 = np.arange(1,4)\n",
        "print(type(a))\n",
        "print(a == a02) # True ではなく [True True True] になる\n",
        "b = np.array([[1,2,3], [4,5,6]])\n",
        "print(a)\n",
        "print(b)\n",
        "print(a.T)\n",
        "print(b.T)\n",
        "print(a.data)\n",
        "print(a.dtype)"
      ],
      "execution_count": null,
      "outputs": [
        {
          "output_type": "stream",
          "text": [
            "<class 'numpy.ndarray'>\n",
            "[ True  True  True]\n",
            "[1 2 3]\n",
            "[[1 2 3]\n",
            " [4 5 6]]\n",
            "[1 2 3]\n",
            "[[1 4]\n",
            " [2 5]\n",
            " [3 6]]\n",
            "<memory at 0x7f1bb69bef48>\n",
            "int64\n"
          ],
          "name": "stdout"
        }
      ]
    },
    {
      "cell_type": "markdown",
      "metadata": {
        "id": "EcYBWrClRTSP"
      },
      "source": [
        "# flatten"
      ]
    },
    {
      "cell_type": "code",
      "metadata": {
        "id": "quwuVGGV8aZx",
        "colab": {
          "base_uri": "https://localhost:8080/"
        },
        "outputId": "4997033b-8e0b-4666-e75e-b22752f5fdce"
      },
      "source": [
        "# flatten\n",
        "import numpy as np\n",
        "b = np.array([[1,2,3], [4,5,6]])\n",
        "print(b.flatten())\n",
        "print(b.flat[3])\n",
        "\n",
        "from functools import reduce\n",
        "print(reduce(lambda a, b: a + b, [[1,2,3],[4,5,6],[7,8,9]]))\n",
        "print(reduce(lambda a, b: a + b, np.array([[1,2,3], [4,5,6]]))) # flatten にならない\n",
        "print(reduce(lambda a, b: a + b, np.array([[1,2,3],[4,5,6],[7,8,9]]))) # flatten にならない\n"
      ],
      "execution_count": null,
      "outputs": [
        {
          "output_type": "stream",
          "text": [
            "[1 2 3 4 5 6]\n",
            "4\n",
            "[1, 2, 3, 4, 5, 6, 7, 8, 9]\n",
            "[5 7 9]\n",
            "[12 15 18]\n"
          ],
          "name": "stdout"
        }
      ]
    },
    {
      "cell_type": "code",
      "metadata": {
        "id": "0QimhkgYRX7p",
        "colab": {
          "base_uri": "https://localhost:8080/"
        },
        "outputId": "ca410462-9c0c-4d7b-83ce-ce4b22d12396"
      },
      "source": [
        "# flatten\n",
        "import numpy as np\n",
        "\n",
        "print(np.concatenate([np.array([[1,2,3], [4,5,6]])[0],  np.array([[1,2,3], [4,5,6]])[1]] ))\n",
        "print(reduce(lambda a, b: np.concatenate([a,b]), np.array([[1,2,3], [4,5,6]])))\n",
        "print(reduce(lambda a, b: np.concatenate([a,b]), np.array([[1,2,3], [4,5,6],[7,8,9]])))\n",
        "\n"
      ],
      "execution_count": null,
      "outputs": [
        {
          "output_type": "stream",
          "text": [
            "[1 2 3 4 5 6]\n",
            "[1 2 3 4 5 6]\n",
            "[1 2 3 4 5 6 7 8 9]\n",
            "[1 2 3 4 5 6 7 8 9]\n"
          ],
          "name": "stdout"
        }
      ]
    },
    {
      "cell_type": "code",
      "metadata": {
        "id": "ePfWh3suBSso",
        "colab": {
          "base_uri": "https://localhost:8080/"
        },
        "outputId": "85e731f5-0e68-4264-de4e-2709f142ad38"
      },
      "source": [
        "# real, imag\n",
        "c = np.array([1.-2.6j, 2.1+3.J, 4.-3.2j])\n",
        "print(c.real)\n",
        "print(c.imag)"
      ],
      "execution_count": null,
      "outputs": [
        {
          "output_type": "stream",
          "text": [
            "[1.  2.1 4. ]\n",
            "[-2.6  3.  -3.2]\n"
          ],
          "name": "stdout"
        }
      ]
    },
    {
      "cell_type": "markdown",
      "metadata": {
        "id": "h0ngzzE8gLHO"
      },
      "source": [
        "# iterator"
      ]
    },
    {
      "cell_type": "code",
      "metadata": {
        "id": "b7FBfFIogNxl",
        "colab": {
          "base_uri": "https://localhost:8080/"
        },
        "outputId": "7a979d4c-26a3-460d-e290-a19f3303b46b"
      },
      "source": [
        "# iter はなんでも iterator にしてしまう\n",
        "# iterator はちょっと扱いがむずかしい\n",
        "it = iter([1,2,3])\n",
        "print(it)\n",
        "print(it.__next__())\n",
        "print(next(it))\n",
        "# print(it.next()) これはエラーになる\n",
        "print(next(it))\n",
        "# print(next(it)) StopIteration エラー"
      ],
      "execution_count": null,
      "outputs": [
        {
          "output_type": "stream",
          "text": [
            "<list_iterator object at 0x7f1d70999650>\n",
            "1\n",
            "2\n",
            "3\n"
          ],
          "name": "stdout"
        }
      ]
    },
    {
      "cell_type": "markdown",
      "metadata": {
        "id": "MSEQXp2fnKTs"
      },
      "source": [
        "# genertor と list comprehension"
      ]
    },
    {
      "cell_type": "code",
      "metadata": {
        "id": "k-CfBaEpnOn6",
        "colab": {
          "base_uri": "https://localhost:8080/"
        },
        "outputId": "fbec7afe-c47d-4b45-fe77-f904ea9e9f43"
      },
      "source": [
        "line_list = ['  line 1\\n', 'line 2  \\n']\n",
        "\n",
        "# Generator expression -- returns iterator\n",
        "stripped_iter = (line.strip() for line in line_list)\n",
        "print(stripped_iter)\n",
        "# List comprehension -- returns list\n",
        "stripped_list = [line.strip() for line in line_list]\n",
        "print(stripped_list)"
      ],
      "execution_count": null,
      "outputs": [
        {
          "output_type": "stream",
          "text": [
            "<generator object <genexpr> at 0x7f655cb0a0a0>\n",
            "['line 1', 'line 2']\n"
          ],
          "name": "stdout"
        }
      ]
    },
    {
      "cell_type": "code",
      "metadata": {
        "id": "5EoT4KBxFkuw",
        "colab": {
          "base_uri": "https://localhost:8080/"
        },
        "outputId": "591c5f96-17dc-4804-d613-e25dd598abf0"
      },
      "source": [
        "# map を使ってみる\n",
        "\n",
        "line_list = ['  line 1\\n', 'line 2  \\n']\n",
        "\n",
        "print(list(map(lambda line: line.strip(),  line_list)))"
      ],
      "execution_count": null,
      "outputs": [
        {
          "output_type": "stream",
          "text": [
            "['line 1', 'line 2']\n"
          ],
          "name": "stdout"
        }
      ]
    },
    {
      "cell_type": "code",
      "metadata": {
        "id": "F6u5llU2yRyE",
        "colab": {
          "base_uri": "https://localhost:8080/"
        },
        "outputId": "20fe5221-0a58-4712-aafc-a7d8c0d2eea8"
      },
      "source": [
        "def generate_ints(N):\n",
        "   for i in range(N):\n",
        "       yield i\n",
        "\n",
        "gen = generate_ints(3)\n",
        "print(gen)\n",
        "print(next(gen))\n",
        "print(next(gen))\n",
        "print(next(gen))\n",
        "# print(next(gen)) # StopIteration\n",
        "\n"
      ],
      "execution_count": null,
      "outputs": [
        {
          "output_type": "stream",
          "text": [
            "<generator object generate_ints at 0x7f6554ceea40>\n",
            "0\n",
            "1\n",
            "2\n"
          ],
          "name": "stdout"
        }
      ]
    },
    {
      "cell_type": "code",
      "metadata": {
        "id": "3NhVcVi2GLvt"
      },
      "source": [
        "# A recursive generator that generates Tree leaves in in-order.\n",
        "def inorder(t):\n",
        "    if t:\n",
        "        for x in inorder(t.left):\n",
        "            yield x\n",
        "\n",
        "        yield t.label\n",
        "\n",
        "        for x in inorder(t.right):\n",
        "            yield x"
      ],
      "execution_count": null,
      "outputs": []
    },
    {
      "cell_type": "code",
      "metadata": {
        "id": "jqIwXdseGgId",
        "colab": {
          "base_uri": "https://localhost:8080/"
        },
        "outputId": "98683a17-6443-4ff9-8d74-1e37f53d74fe"
      },
      "source": [
        "# val = (yield i)\n",
        "\n",
        "def counter(maximum):\n",
        "    i = 0\n",
        "    while i < maximum:\n",
        "        val = (yield i)\n",
        "        # If value provided, change counter\n",
        "        if val is not None:\n",
        "            i = val\n",
        "        else:\n",
        "            i += 1\n",
        "\n",
        "it = counter(10)  \n",
        "print(next(it))\n",
        "print(next(it))\n",
        "print(it.send(8))\n",
        "print(next(it))\n",
        "# print(next(it))"
      ],
      "execution_count": null,
      "outputs": [
        {
          "output_type": "stream",
          "text": [
            "0\n",
            "1\n",
            "8\n",
            "9\n"
          ],
          "name": "stdout"
        }
      ]
    },
    {
      "cell_type": "code",
      "metadata": {
        "id": "t41BmBDjHzq0",
        "colab": {
          "base_uri": "https://localhost:8080/"
        },
        "outputId": "99597ad1-8e2b-4861-8d13-0e3dde24fb52"
      },
      "source": [
        "def upper(s):\n",
        "    return s.upper()\n",
        "\n",
        "print(list(map(upper, ['sentence', 'fragment'])))\n",
        "print([upper(s) for s in ['sentence', 'fragment']])\n",
        "\n",
        "# 関数を作らない場合、map では lambda を使う\n",
        "# 内包表記ではメソッドのまま使える => 内包表記の方が便利\n",
        "print(list(map(lambda x: x.upper(),  ['sentence', 'fragment'])))\n",
        "print([s.upper() for s in ['sentence', 'fragment']])"
      ],
      "execution_count": null,
      "outputs": [
        {
          "output_type": "stream",
          "text": [
            "['SENTENCE', 'FRAGMENT']\n",
            "['SENTENCE', 'FRAGMENT']\n",
            "['SENTENCE', 'FRAGMENT']\n",
            "['SENTENCE', 'FRAGMENT']\n"
          ],
          "name": "stdout"
        }
      ]
    },
    {
      "cell_type": "markdown",
      "metadata": {
        "id": "KXL7r2BTiECJ"
      },
      "source": [
        "# filter"
      ]
    },
    {
      "cell_type": "code",
      "metadata": {
        "id": "XFNfRWdWiFwA",
        "colab": {
          "base_uri": "https://localhost:8080/"
        },
        "outputId": "0442f2ba-61fd-4075-afb8-2a372e4d3980"
      },
      "source": [
        "# filter\n",
        "def is_even(x):\n",
        "    return (x % 2) == 0\n",
        "\n",
        "print(list(filter(is_even, range(10))))\n",
        "\n",
        "print(list(filter(lambda x: (x % 2) == 0, range(10))))\n",
        "\n",
        "print(list(x for x in range(10) if is_even(x)))"
      ],
      "execution_count": null,
      "outputs": [
        {
          "output_type": "stream",
          "text": [
            "[0, 2, 4, 6, 8]\n",
            "[0, 2, 4, 6, 8]\n",
            "[0, 2, 4, 6, 8]\n"
          ],
          "name": "stdout"
        }
      ]
    },
    {
      "cell_type": "markdown",
      "metadata": {
        "id": "xp8bu2cVoZ1Q"
      },
      "source": [
        "# enumerate"
      ]
    },
    {
      "cell_type": "code",
      "metadata": {
        "id": "4vlBlDkPlOes",
        "colab": {
          "base_uri": "https://localhost:8080/"
        },
        "outputId": "797bb907-6022-4fc1-d087-087e70fa7bca"
      },
      "source": [
        "# enumerate\n",
        "for item in enumerate(['subject', 'verb', 'object']):\n",
        "    print(item)\n",
        "\n",
        "print(list(enumerate(['subject', 'verb', 'object'])))\n",
        "print(list(map(lambda x: (x[0], x[1]), enumerate(['subject', 'verb', 'object']))))"
      ],
      "execution_count": null,
      "outputs": [
        {
          "output_type": "stream",
          "text": [
            "(0, 'subject')\n",
            "(1, 'verb')\n",
            "(2, 'object')\n",
            "[(0, 'subject'), (1, 'verb'), (2, 'object')]\n",
            "[(0, 'subject'), (1, 'verb'), (2, 'object')]\n"
          ],
          "name": "stdout"
        }
      ]
    },
    {
      "cell_type": "code",
      "metadata": {
        "id": "_2SNmdSmocD3",
        "colab": {
          "base_uri": "https://localhost:8080/"
        },
        "outputId": "dc7a05b4-29b9-4ba3-e649-0955c8782810"
      },
      "source": [
        "# enumerate の使い方\n",
        "f = ['This is an apple.', '', 'That is a pen.','', 'END']\n",
        "for i, line in enumerate(f):\n",
        "    if line.strip() == '':\n",
        "        print('Blank line at line #%i' % i)\n",
        "\n",
        "\n",
        "print(list(map(lambda x: \"Blank line at line #\"+ str(x[0]), (filter(lambda x: x[1] == '', enumerate(f))))))"
      ],
      "execution_count": null,
      "outputs": [
        {
          "output_type": "stream",
          "text": [
            "Blank line at line #1\n",
            "Blank line at line #3\n",
            "['Blank line at line #1', 'Blank line at line #3']\n"
          ],
          "name": "stdout"
        }
      ]
    },
    {
      "cell_type": "markdown",
      "metadata": {
        "id": "-2h7KPIKv2FT"
      },
      "source": [
        "# sorted\n"
      ]
    },
    {
      "cell_type": "code",
      "metadata": {
        "id": "qJZGt3xcv4Yq",
        "colab": {
          "base_uri": "https://localhost:8080/"
        },
        "outputId": "69b66c7e-3a28-4636-d0d4-29b593a69b35"
      },
      "source": [
        "import random\n",
        "# Generate 8 random numbers between [0, 10000)\n",
        "rand_list = random.sample(range(10000), 8)\n",
        "print(rand_list)\n",
        "print(sorted(rand_list))\n",
        "print(sorted(rand_list, reverse=True))\n"
      ],
      "execution_count": null,
      "outputs": [
        {
          "output_type": "stream",
          "text": [
            "[8472, 1787, 5965, 2983, 4798, 9739, 6306, 7455]\n",
            "[1787, 2983, 4798, 5965, 6306, 7455, 8472, 9739]\n",
            "[9739, 8472, 7455, 6306, 5965, 4798, 2983, 1787]\n"
          ],
          "name": "stdout"
        }
      ]
    },
    {
      "cell_type": "code",
      "metadata": {
        "id": "N3XKwMxFwlT6",
        "colab": {
          "base_uri": "https://localhost:8080/"
        },
        "outputId": "03465ec3-3ac7-43ca-8fea-15a14c65fa7c"
      },
      "source": [
        "# any , all\n",
        "print(any([0, 1, 0]))\n",
        "print(any([0, 0, 0]))\n",
        "print(any([1, 1, 1]))\n",
        "print(all([0, 1, 0]))\n",
        "print(all([0, 0, 0]))\n",
        "print(all([1, 1, 1]))\n"
      ],
      "execution_count": null,
      "outputs": [
        {
          "output_type": "stream",
          "text": [
            "True\n",
            "False\n",
            "True\n",
            "False\n",
            "False\n",
            "True\n"
          ],
          "name": "stdout"
        }
      ]
    },
    {
      "cell_type": "code",
      "metadata": {
        "id": "weQ3OeUtwuYR",
        "colab": {
          "base_uri": "https://localhost:8080/"
        },
        "outputId": "39093f55-3049-4e6b-e028-076bdaeeb655"
      },
      "source": [
        "list(zip(['a', 'b', 'c'], (1, 2, 3)))"
      ],
      "execution_count": null,
      "outputs": [
        {
          "output_type": "execute_result",
          "data": {
            "text/plain": [
              "[('a', 1), ('b', 2), ('c', 3)]"
            ]
          },
          "metadata": {
            "tags": []
          },
          "execution_count": 37
        }
      ]
    },
    {
      "cell_type": "markdown",
      "metadata": {
        "id": "6Q1fLUyixBuA"
      },
      "source": [
        "# itertools"
      ]
    },
    {
      "cell_type": "markdown",
      "metadata": {
        "id": "rPR_dC67N4Mg"
      },
      "source": [
        "# いまここ"
      ]
    },
    {
      "cell_type": "code",
      "metadata": {
        "id": "M5yfKhHHxDcY",
        "colab": {
          "base_uri": "https://localhost:8080/"
        },
        "outputId": "cfc095ef-a93b-47a0-c330-263e8940bc17"
      },
      "source": [
        "# itertools.islice(iterable, stop)  --> islice object\n",
        "# itertools.count(start, step=1) --> count object\n",
        "\n",
        "import itertools\n",
        "\n",
        "print(list(itertools.islice(itertools.count(), 10)))\n",
        "print(list(itertools.islice(itertools.count(10), 10)))\n",
        "print(list(itertools.islice(itertools.count(10, 5), 10)))\n",
        "\n"
      ],
      "execution_count": null,
      "outputs": [
        {
          "output_type": "stream",
          "text": [
            "[0, 1, 2, 3, 4, 5, 6, 7, 8, 9]\n",
            "[10, 11, 12, 13, 14, 15, 16, 17, 18, 19]\n",
            "[10, 15, 20, 25, 30, 35, 40, 45, 50, 55]\n"
          ],
          "name": "stdout"
        }
      ]
    },
    {
      "cell_type": "code",
      "metadata": {
        "id": "AwGYKhBsAOhL",
        "colab": {
          "base_uri": "https://localhost:8080/"
        },
        "outputId": "480a3de3-c814-4024-abd2-17cd77760839"
      },
      "source": [
        "import itertools\n",
        "print(list(itertools.islice(itertools.cycle([1, 2, 3]), 10)))\n",
        "\n",
        "print(list(itertools.repeat('abc', 5)))\n",
        "\n",
        "print(list(itertools.repeat([1,2,3,], 5)))\n"
      ],
      "execution_count": null,
      "outputs": [
        {
          "output_type": "stream",
          "text": [
            "[1, 2, 3, 1, 2, 3, 1, 2, 3, 1]\n",
            "['abc', 'abc', 'abc', 'abc', 'abc']\n",
            "[[1, 2, 3], [1, 2, 3], [1, 2, 3], [1, 2, 3], [1, 2, 3]]\n"
          ],
          "name": "stdout"
        }
      ]
    },
    {
      "cell_type": "code",
      "metadata": {
        "id": "DdK0M6VrBINv",
        "colab": {
          "base_uri": "https://localhost:8080/"
        },
        "outputId": "aa26b9f8-d8ca-4920-9b84-ca53d6196f0b"
      },
      "source": [
        "import itertools\n",
        "print(list(itertools.islice(range(10), 8)))\n",
        "print(list(itertools.islice(range(10), 2, 8)))\n",
        "print(list(itertools.islice(range(10), 2, 8, 2)))"
      ],
      "execution_count": null,
      "outputs": [
        {
          "output_type": "stream",
          "text": [
            "[0, 1, 2, 3, 4, 5, 6, 7]\n",
            "[2, 3, 4, 5, 6, 7]\n",
            "[2, 4, 6]\n"
          ],
          "name": "stdout"
        }
      ]
    },
    {
      "cell_type": "code",
      "metadata": {
        "id": "RuNRfCOMa1ti"
      },
      "source": [
        "itertools.tee?"
      ],
      "execution_count": null,
      "outputs": []
    },
    {
      "cell_type": "code",
      "metadata": {
        "id": "r4HpiuDkBjs2",
        "colab": {
          "base_uri": "https://localhost:8080/"
        },
        "outputId": "a1a451da-e2ca-4e8c-867d-9b6f100ba680"
      },
      "source": [
        "# itertools.tee(iterable, n=2) --> tuple of n iindependent iterators\n",
        "\n",
        "itertools.tee( itertools.count() )\n"
      ],
      "execution_count": null,
      "outputs": [
        {
          "output_type": "execute_result",
          "data": {
            "text/plain": [
              "(<itertools._tee at 0x7fc85db05870>, <itertools._tee at 0x7fc85db05820>)"
            ]
          },
          "metadata": {
            "tags": []
          },
          "execution_count": 12
        }
      ]
    },
    {
      "cell_type": "code",
      "metadata": {
        "id": "ED6cacGgB5oV",
        "colab": {
          "base_uri": "https://localhost:8080/"
        },
        "outputId": "77acdc1b-04e2-49d4-fdd9-e33abc846727"
      },
      "source": [
        "import os\n",
        "list(itertools.starmap(os.path.join,\n",
        "                  [('/bin', 'python'), ('/usr', 'bin', 'java'),\n",
        "                   ('/usr', 'bin', 'perl'), ('/usr', 'bin', 'ruby')]))"
      ],
      "execution_count": null,
      "outputs": [
        {
          "output_type": "execute_result",
          "data": {
            "text/plain": [
              "['/bin/python', '/usr/bin/java', '/usr/bin/perl', '/usr/bin/ruby']"
            ]
          },
          "metadata": {
            "tags": []
          },
          "execution_count": 12
        }
      ]
    },
    {
      "cell_type": "code",
      "metadata": {
        "id": "j5GG8tEECghc",
        "colab": {
          "base_uri": "https://localhost:8080/"
        },
        "outputId": "f40ec160-8027-453f-e7df-90dd87f28831"
      },
      "source": [
        "print(list(itertools.islice(itertools.filterfalse(lambda x: x%2 != 0, itertools.count()),10)))"
      ],
      "execution_count": null,
      "outputs": [
        {
          "output_type": "stream",
          "text": [
            "[0, 2, 4, 6, 8, 10, 12, 14, 16, 18]\n"
          ],
          "name": "stdout"
        }
      ]
    },
    {
      "cell_type": "code",
      "metadata": {
        "id": "u8EAvQXyDMW0",
        "colab": {
          "base_uri": "https://localhost:8080/"
        },
        "outputId": "bf9cb85f-0fec-4303-cb08-016231c56d28"
      },
      "source": [
        "print(list(itertools.takewhile(lambda x: x < 10, itertools.count())))"
      ],
      "execution_count": null,
      "outputs": [
        {
          "output_type": "stream",
          "text": [
            "[0, 1, 2, 3, 4, 5, 6, 7, 8, 9]\n"
          ],
          "name": "stdout"
        }
      ]
    },
    {
      "cell_type": "code",
      "metadata": {
        "id": "232awvg0DgnU",
        "colab": {
          "base_uri": "https://localhost:8080/"
        },
        "outputId": "771a2178-2e69-468d-ca5f-f036e593f0fa"
      },
      "source": [
        "print(list(itertools.takewhile(lambda x: x%2==0, itertools.count())))"
      ],
      "execution_count": null,
      "outputs": [
        {
          "output_type": "stream",
          "text": [
            "[0]\n"
          ],
          "name": "stdout"
        }
      ]
    },
    {
      "cell_type": "code",
      "metadata": {
        "id": "f-fO84caDxol",
        "colab": {
          "base_uri": "https://localhost:8080/"
        },
        "outputId": "c8bb3deb-fe78-4c8f-c7d3-0c9e8c47708d"
      },
      "source": [
        "print(list(itertools.islice(itertools.dropwhile(lambda x: x < 10, itertools.count()),10)))"
      ],
      "execution_count": null,
      "outputs": [
        {
          "output_type": "stream",
          "text": [
            "[10, 11, 12, 13, 14, 15, 16, 17, 18, 19]\n"
          ],
          "name": "stdout"
        }
      ]
    },
    {
      "cell_type": "code",
      "metadata": {
        "id": "hT0KKytYDzb3",
        "colab": {
          "base_uri": "https://localhost:8080/"
        },
        "outputId": "c576fbdd-b6ba-45f9-d642-f36cfaafb2ee"
      },
      "source": [
        "print(list(itertools.islice(itertools.dropwhile(lambda x: x%2==0, itertools.count()), 10)))"
      ],
      "execution_count": null,
      "outputs": [
        {
          "output_type": "stream",
          "text": [
            "[1, 2, 3, 4, 5, 6, 7, 8, 9, 10]\n"
          ],
          "name": "stdout"
        }
      ]
    },
    {
      "cell_type": "code",
      "metadata": {
        "id": "rVkYHp3kEU89",
        "colab": {
          "base_uri": "https://localhost:8080/"
        },
        "outputId": "9d481d8c-4920-4674-8cbd-a24519cd70b6"
      },
      "source": [
        "list(itertools.compress([1, 2, 3, 4, 5], [True, True, False, False, True]))"
      ],
      "execution_count": null,
      "outputs": [
        {
          "output_type": "execute_result",
          "data": {
            "text/plain": [
              "[1, 2, 5]"
            ]
          },
          "metadata": {
            "tags": []
          },
          "execution_count": 26
        }
      ]
    },
    {
      "cell_type": "code",
      "metadata": {
        "id": "nZ20jiy5EiMj",
        "colab": {
          "base_uri": "https://localhost:8080/"
        },
        "outputId": "ef331aab-4660-4feb-f3a0-6950988b65ea"
      },
      "source": [
        "print(list(itertools.combinations([1, 2, 3, 4, 5], 2)))\n",
        "print(list(itertools.combinations([1, 2, 3, 4, 5], 3)))"
      ],
      "execution_count": null,
      "outputs": [
        {
          "output_type": "stream",
          "text": [
            "[(1, 2), (1, 3), (1, 4), (1, 5), (2, 3), (2, 4), (2, 5), (3, 4), (3, 5), (4, 5)]\n",
            "[(1, 2, 3), (1, 2, 4), (1, 2, 5), (1, 3, 4), (1, 3, 5), (1, 4, 5), (2, 3, 4), (2, 3, 5), (2, 4, 5), (3, 4, 5)]\n"
          ],
          "name": "stdout"
        }
      ]
    },
    {
      "cell_type": "code",
      "metadata": {
        "id": "wGf6W1VMFbYm",
        "colab": {
          "base_uri": "https://localhost:8080/"
        },
        "outputId": "294ed613-100e-4704-8b97-30c7505e63c3"
      },
      "source": [
        "print(list(itertools.permutations('aba', 3)))"
      ],
      "execution_count": null,
      "outputs": [
        {
          "output_type": "stream",
          "text": [
            "[('a', 'b', 'a'), ('a', 'a', 'b'), ('b', 'a', 'a'), ('b', 'a', 'a'), ('a', 'a', 'b'), ('a', 'b', 'a')]\n"
          ],
          "name": "stdout"
        }
      ]
    },
    {
      "cell_type": "code",
      "metadata": {
        "id": "RNZ2Ijkeg50E",
        "colab": {
          "base_uri": "https://localhost:8080/"
        },
        "outputId": "4136e97e-0f79-4db9-8939-78b2ee16598b"
      },
      "source": [
        "print(list(itertools.combinations_with_replacement([1, 2, 3, 4, 5], 2)))"
      ],
      "execution_count": null,
      "outputs": [
        {
          "output_type": "stream",
          "text": [
            "[(1, 1), (1, 2), (1, 3), (1, 4), (1, 5), (2, 2), (2, 3), (2, 4), (2, 5), (3, 3), (3, 4), (3, 5), (4, 4), (4, 5), (5, 5)]\n"
          ],
          "name": "stdout"
        }
      ]
    },
    {
      "cell_type": "code",
      "metadata": {
        "id": "vA2Hj7PaiZS5",
        "colab": {
          "base_uri": "https://localhost:8080/"
        },
        "outputId": "f97721b9-ccdb-4770-b9ce-1226c77f2c78"
      },
      "source": [
        "# groupby\n",
        "import itertools\n",
        "\n",
        "city_list = [('Decatur', 'AL'), ('Huntsville', 'AL'), ('Selma', 'AL'),\n",
        "             ('Anchorage', 'AK'), ('Nome', 'AK'), ('Flagstaff', 'AZ'), \n",
        "             ('Phoenix', 'AZ'), ('Tucson', 'AZ')]\n",
        "\n",
        "\n",
        "def get_state(city_state):\n",
        "    return city_state[1]\n",
        "\n",
        "list(map (lambda x: (x[0], list(x[1])), itertools.groupby(city_list, get_state)))"
      ],
      "execution_count": null,
      "outputs": [
        {
          "output_type": "execute_result",
          "data": {
            "text/plain": [
              "[('AL', [('Decatur', 'AL'), ('Huntsville', 'AL'), ('Selma', 'AL')]),\n",
              " ('AK', [('Anchorage', 'AK'), ('Nome', 'AK')]),\n",
              " ('AZ', [('Flagstaff', 'AZ'), ('Phoenix', 'AZ'), ('Tucson', 'AZ')])]"
            ]
          },
          "metadata": {
            "tags": []
          },
          "execution_count": 50
        }
      ]
    },
    {
      "cell_type": "markdown",
      "metadata": {
        "id": "360Nd8kvKmu2"
      },
      "source": [
        "# functools.partial"
      ]
    },
    {
      "cell_type": "code",
      "metadata": {
        "id": "Y59O6d9HK9H4",
        "colab": {
          "base_uri": "https://localhost:8080/"
        },
        "outputId": "fef8a8d0-205d-496e-ec4e-720d38251a1f"
      },
      "source": [
        "# functoolsfunctools.partial\n",
        "import functools\n",
        "\n",
        "def sayhello(message=\"hello\", to=\"ryo\"):\n",
        "    print(\"{1}さん、{0}\".format(message, to))\n",
        "\n",
        "sayhello()\n",
        "\n",
        "konnnichiwa = functools.partial(sayhello, \"こんにちわ\")\n",
        "\n",
        "konnnichiwa(\"nishizawa\")\n",
        "konnnichiwa(\"takahashi\")\n"
      ],
      "execution_count": null,
      "outputs": [
        {
          "output_type": "stream",
          "text": [
            "ryoさん、hello\n",
            "nishizawaさん、こんにちわ\n",
            "takahashiさん、こんにちわ\n"
          ],
          "name": "stdout"
        }
      ]
    },
    {
      "cell_type": "code",
      "metadata": {
        "id": "VI9cvQPpVgau",
        "colab": {
          "base_uri": "https://localhost:8080/",
          "height": 35
        },
        "outputId": "ae85a05b-fc1d-4543-b462-5a51b8b9f9ca"
      },
      "source": [
        "# reduce は haskell の foldr と考えてよいか\n",
        "import operator, functools\n",
        "functools.reduce(operator.concat, ['A', 'BB', 'C'])\n",
        "\n",
        "functools.reduce(operator.concat, ['A', 'BB', 'C'], 'END')"
      ],
      "execution_count": null,
      "outputs": [
        {
          "output_type": "execute_result",
          "data": {
            "application/vnd.google.colaboratory.intrinsic+json": {
              "type": "string"
            },
            "text/plain": [
              "'ENDABBC'"
            ]
          },
          "metadata": {
            "tags": []
          },
          "execution_count": 4
        }
      ]
    },
    {
      "cell_type": "code",
      "metadata": {
        "id": "qaim89ebWnIt",
        "colab": {
          "base_uri": "https://localhost:8080/"
        },
        "outputId": "d739f7b3-2c78-4a2f-d5f5-9c54c7030dc1"
      },
      "source": [
        "import operator, itertools\n",
        "print(list(itertools.accumulate([1, 2, 3, 4, 5])))\n",
        "print(list(itertools.accumulate([1, 2, 3, 4, 5], operator.mul)))"
      ],
      "execution_count": null,
      "outputs": [
        {
          "output_type": "stream",
          "text": [
            "[1, 3, 6, 10, 15]\n",
            "[1, 2, 6, 24, 120]\n"
          ],
          "name": "stdout"
        }
      ]
    }
  ]
}