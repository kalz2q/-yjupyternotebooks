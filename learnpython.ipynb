{
  "nbformat": 4,
  "nbformat_minor": 0,
  "metadata": {
    "colab": {
      "name": "learnpython.ipynb",
      "provenance": [],
      "toc_visible": true,
      "authorship_tag": "ABX9TyNZ/wC7IR6A+zBg0TYpR4hI",
      "include_colab_link": true
    },
    "kernelspec": {
      "name": "python3",
      "display_name": "Python 3"
    },
    "language_info": {
      "name": "python"
    }
  },
  "cells": [
    {
      "cell_type": "markdown",
      "metadata": {
        "id": "view-in-github",
        "colab_type": "text"
      },
      "source": [
        "<a href=\"https://colab.research.google.com/github/kalz2q/mycolabnotebooks/blob/master/learnpython.ipynb\" target=\"_parent\"><img src=\"https://colab.research.google.com/assets/colab-badge.svg\" alt=\"Open In Colab\"/></a>"
      ]
    },
    {
      "cell_type": "markdown",
      "metadata": {
        "id": "mG5wD9OjyCva"
      },
      "source": [
        "メモ \n",
        "\n",
        "ython を学ぶ。\n",
        "\n",
        "アイデアは、サクサクっと python を学ぶための colab ノートブックを作る。\n",
        "\n",
        "とりあえず kaggle と chainer と functional とかを材料に書き始めてみる。 数学と違って、定義や証明ではなく、問題-解答ペアで進む予定。 \n",
        "\n"
      ]
    },
    {
      "cell_type": "markdown",
      "metadata": {
        "id": "s84YRCb1cSHj"
      },
      "source": [
        "# 最初の例"
      ]
    },
    {
      "cell_type": "code",
      "metadata": {
        "id": "6A6tdrr07dUT",
        "colab": {
          "base_uri": "https://localhost:8080/"
        },
        "outputId": "fbb9c666-8d2f-4053-ed5c-2c72fa9e036c"
      },
      "source": [
        "# 最初の例\n",
        "x = 0\n",
        "print(x)\n",
        "\n",
        "x = x + 4\n",
        "\n",
        "if x > 0:\n",
        "    print(\"x is larger than 0\")\n",
        "\n",
        "text = \"hello \" * x\n",
        "print(text)"
      ],
      "execution_count": 3,
      "outputs": [
        {
          "output_type": "stream",
          "text": [
            "0\n",
            "x is larger than 0\n",
            "hello hello hello hello \n"
          ],
          "name": "stdout"
        }
      ]
    },
    {
      "cell_type": "markdown",
      "metadata": {
        "id": "w5ZdZFsx0XL1"
      },
      "source": [
        "上の例からわかること\n",
        "* 変数は突然使える。 型を指定しないでよい。\n",
        "* 変数は変えられる。\n",
        "* if が使える。 コロンが必要。インデントが必要。\n",
        "* 文字列に数字を掛けることができる。\n",
        "* コメントは `#` で始まる。\n",
        "\n",
        "実験してみてわかること\n",
        "* 文字列に例えば 4.5 とかかけようとするとエラーになる。\n",
        "* 4.5 とかは float らしい。"
      ]
    },
    {
      "cell_type": "markdown",
      "metadata": {
        "id": "eamcpwt8Zx3_"
      },
      "source": [
        "補足\n",
        "* `=`は代入演算子と呼ばれる\n",
        "* 変数を宣言する必要はない。\n",
        "* 変数に代入される値のタイプをあとから変えられる。数値を代入したあとに文字列やブール型の値を代入するができる。"
      ]
    },
    {
      "cell_type": "code",
      "metadata": {
        "id": "dWGF-4HR9Lsu",
        "colab": {
          "base_uri": "https://localhost:8080/"
        },
        "outputId": "e5a36329-8789-4518-a9ab-61ee008b1e71"
      },
      "source": [
        "x = 4\n",
        "print(type(x))\n",
        "x = True\n",
        "print(type(x))\n",
        "x = \"this is x.\"\n",
        "print(type(x))"
      ],
      "execution_count": 7,
      "outputs": [
        {
          "output_type": "stream",
          "text": [
            "<class 'int'>\n",
            "<class 'bool'>\n",
            "<class 'str'>\n"
          ],
          "name": "stdout"
        }
      ]
    },
    {
      "cell_type": "markdown",
      "metadata": {
        "id": "psjeU_ov2FNQ"
      },
      "source": [
        "メモ \n",
        "* print は改行が自動で入る。\n",
        "* bool は True, False で小文字にするとエラーになる。\n",
        "* True, False 以外はなにが True になりなにが False になるのか。 => あとで bool という見出しを立てる。\n",
        "\n"
      ]
    },
    {
      "cell_type": "markdown",
      "metadata": {
        "id": "uN9WPC0V9JJW"
      },
      "source": [
        "関数の呼び出し: `print` は Python の関数で、関数名のあとにカッコをつけることによって、関数を呼び出す。カッコの中には入力値(引数)を入れる。\n",
        "\n",
        "`type`も  python のビルトイン関数、組み込み関数、built-in 関数で型を返す。\n",
        "\n",
        "メモ\n",
        "* python の組み込み関数はオブジェクトのメソッドとしての関数ではないので、使い方が決まっている。 [1,2,3].len() ではなくて、len([1,2,3])。"
      ]
    },
    {
      "cell_type": "markdown",
      "metadata": {
        "id": "lkcEh9wZZ3Fp"
      },
      "source": [
        "上のコードの最初の行はコメントで、Python ではコメントは`#`記号で始まる。\n",
        "\n",
        "次の行は再代入 `reassignment` の例。変数を作成したときと同じ `=` 演算子を使う。\n",
        "\n",
        "この例では `amount_in_dollars` への再代入に際し、以前の値に簡単な計算を施している。この行のところに来ると、Pythonは`=`の右辺すなわち `(0 + 4 = 4)` を評価し、その結果を、左辺の変数に代入する。"
      ]
    },
    {
      "cell_type": "code",
      "metadata": {
        "id": "TYj8djVwFmL7",
        "colab": {
          "base_uri": "https://localhost:8080/",
          "height": 50
        },
        "outputId": "1a8439a8-5bb6-4bf6-cd3b-f7dc407787c7"
      },
      "source": [
        "if amount_in_dollars > 0:\n",
        "    print(\"I don't want ANY money!\")\n",
        "\n",
        "money_song=\"Money Money Money\"\n",
        "print(money_song)"
      ],
      "execution_count": null,
      "outputs": [
        {
          "output_type": "stream",
          "text": [
            "I don't want ANY spam!\n",
            "Money Money Money\n"
          ],
          "name": "stdout"
        }
      ]
    },
    {
      "cell_type": "markdown",
      "metadata": {
        "id": "eD9nlSRlZ58N"
      },
      "source": [
        "条件式(`conditionals`)についてはまだ詳しくは述べないが、プログラムしたことのない人でもこのコードのやっていることは想像がつくだろう。"
      ]
    },
    {
      "cell_type": "markdown",
      "metadata": {
        "id": "RroOX5ifZ9NF"
      },
      "source": [
        "どのようにして、コードの `if` に属する部分を区別しているか。\n",
        "\n",
        " \"I don't want ANY money!\" が出力されるのは、amount_in_dollars が正の値の時だけ。ところが、そのあとのコード(たとえば print(money_song))は条件にかかわらず実行される。Pythonはどうやってこれを区別しているのか。\n",
        "\n",
        "`if` のある行のコロン `(:)` がコードブロックが始まることを示す。そのあとのインデントされている行がコードブロックを形成する。他の言語は一般的には`{curly braces}`でコードブロックの始まりと終わりを示す。Pythonがホワイトスペースに意味付けをして使うことは、他の言語に慣れたプログラマーが驚くが、実際には統一的で読みやすいコードになる。"
      ]
    },
    {
      "cell_type": "markdown",
      "metadata": {
        "id": "sqZmcC-1aAAj"
      },
      "source": [
        "次からの行はmoney_songを扱っていて、4スペースでインデントされていないので、if のコードブロックには属していない。インデントされたコードブロックの例はあとで関数の定義とくり返しの説明の時にも出てくる。\n",
        "\n",
        "このコードスニペットで初めてPythonにおける文字列の例が出てきている。\n",
        "```\n",
        "\"I don't want ANY money!\"\n",
        "```\n",
        "\n",
        "文字列はダブルクォートもしくはシングルクォートで囲まれる。この例の場合は文字列がシングルクォートを含んでいるので、なんらかの対応をしないと全体をシングルクォートで囲むことはできない。対応方法については後述する。\n"
      ]
    },
    {
      "cell_type": "code",
      "metadata": {
        "id": "k8uEKGPJmFz4",
        "colab": {
          "base_uri": "https://localhost:8080/",
          "height": 35
        },
        "outputId": "0c229b23-cbb7-4e1f-9ce0-1a418f3bb9dc"
      },
      "source": [
        "money_song = \"Money \" * amount_in_dollars\n",
        "print(money_song)"
      ],
      "execution_count": null,
      "outputs": [
        {
          "output_type": "stream",
          "text": [
            "Spam Spam Spam Spam \n"
          ],
          "name": "stdout"
        }
      ]
    },
    {
      "cell_type": "markdown",
      "metadata": {
        "id": "1boVcCdnaC8u"
      },
      "source": [
        "演算子`*` はふつうはふたつの数字を掛け合わせる `(3 * 3 -> 9)` のに使われるが、文字列に演算子 `*` を使うと文字列の繰り返しになる。他にも演算子 `+` が数字に使われる時と文字列に使われる時が違う意味で便利に使えるようになっている。この仕組みを演算子オーバーロードと言う。"
      ]
    },
    {
      "cell_type": "markdown",
      "metadata": {
        "id": "1lgHyBPUaI2L"
      },
      "source": [
        "### Pythonの数字と演算について\n",
        "\n",
        "すでに数字を含む変数の例を一つ見た。\n"
      ]
    },
    {
      "cell_type": "code",
      "metadata": {
        "id": "Tu9MRo76yJJQ"
      },
      "source": [
        "amount_in_dollars = 0"
      ],
      "execution_count": null,
      "outputs": []
    },
    {
      "cell_type": "markdown",
      "metadata": {
        "id": "iSsP3s-eyGsn"
      },
      "source": [
        "数字にもいろんな種類がある。Pythonの`type`という関数を使うと、型 `type` を表示できる。\n"
      ]
    },
    {
      "cell_type": "code",
      "metadata": {
        "id": "i9FS6gNiy4L5",
        "colab": {
          "base_uri": "https://localhost:8080/",
          "height": 34
        },
        "outputId": "f6645638-afe3-4f2c-da15-f22724ddd856"
      },
      "source": [
        "type (amount_in_dollars)"
      ],
      "execution_count": null,
      "outputs": [
        {
          "output_type": "execute_result",
          "data": {
            "text/plain": [
              "int"
            ]
          },
          "metadata": {
            "tags": []
          },
          "execution_count": 28
        }
      ]
    },
    {
      "cell_type": "code",
      "metadata": {
        "id": "zVyPmTZULBnJ",
        "colab": {
          "base_uri": "https://localhost:8080/",
          "height": 34
        },
        "outputId": "c033c81e-9da4-484f-f947-582468582d4b"
      },
      "source": [
        "if type (amount_in_dollars) == int:\n",
        "  print (\"整数!!!!\")"
      ],
      "execution_count": null,
      "outputs": [
        {
          "output_type": "stream",
          "text": [
            "整数!!!!\n"
          ],
          "name": "stdout"
        }
      ]
    },
    {
      "cell_type": "markdown",
      "metadata": {
        "id": "B_JZiwtey2lz"
      },
      "source": [
        "これで、amount_in_dollarsが `int` であることがわかった。`int` は integer (整数) の省略形。"
      ]
    },
    {
      "cell_type": "code",
      "metadata": {
        "id": "lQcL51SXzaM4",
        "colab": {
          "base_uri": "https://localhost:8080/",
          "height": 34
        },
        "outputId": "666e2a80-f3a3-4863-cf06-aa71b826df3a"
      },
      "source": [
        "type (19.95)"
      ],
      "execution_count": null,
      "outputs": [
        {
          "output_type": "execute_result",
          "data": {
            "text/plain": [
              "float"
            ]
          },
          "metadata": {
            "tags": []
          },
          "execution_count": 29
        }
      ]
    },
    {
      "cell_type": "markdown",
      "metadata": {
        "id": "4HK--BFczYO8"
      },
      "source": [
        "\n",
        "`float` は浮動小数点型。\n",
        "\n",
        "`type()` は `print()` と同様にPythonの組み込み関数の一つ。型を確認するのに便利に使える。\n",
        "\n",
        "数字について電卓にあるような四則演算の演算子は Python にもある。"
      ]
    },
    {
      "cell_type": "markdown",
      "metadata": {
        "id": "XoLEAEkFaMlo"
      },
      "source": [
        "| Operator\t| Name\t| Description |\n",
        "| ---- | ---- | ----|\n",
        "|a + b  | Addition\t     |   Sum of a and b |\n",
        "|a - b\t| Subtraction\t   |   Difference of a and b |\n",
        "|a * b\t| Multiplication |\t Product of a and b |\n",
        "|a / b\t| True division\t |   Quotient of a and b |\n",
        "|a // b\t| Floor division |\t Quotient of a and b, removing fractional parts |\n",
        "|a % b\t| Modulus\t       |   Integer remainder after division of a by b |\n",
        "|a ** b\t| Exponentiation |\t a raised to the power of b |\n",
        "|-a\t    | Negation\t     |   The negative of a |\n",
        "\n",
        "\n",
        "割り算の演算子が2種類あることに注意。\n",
        "\n",
        "電卓の割り算は \"True division\" です。\n"
      ]
    },
    {
      "cell_type": "code",
      "metadata": {
        "id": "5vVRzjxe_BbW",
        "colab": {
          "base_uri": "https://localhost:8080/",
          "height": 50
        },
        "outputId": "66777b77-acc0-46b0-9c7f-0bc0057b0f38"
      },
      "source": [
        "print (5 / 2)\n",
        "print (6 / 2)"
      ],
      "execution_count": null,
      "outputs": [
        {
          "output_type": "stream",
          "text": [
            "2.5\n",
            "3.0\n"
          ],
          "name": "stdout"
        }
      ]
    },
    {
      "cell_type": "code",
      "metadata": {
        "id": "OiCyMtko_Jf6",
        "colab": {
          "base_uri": "https://localhost:8080/",
          "height": 50
        },
        "outputId": "e9b6e657-16ba-428a-9313-d700d9ba86ed"
      },
      "source": [
        "print (9 // 4)\n",
        "print (-9 // 4)"
      ],
      "execution_count": null,
      "outputs": [
        {
          "output_type": "stream",
          "text": [
            "2\n",
            "-3\n"
          ],
          "name": "stdout"
        }
      ]
    },
    {
      "cell_type": "markdown",
      "metadata": {
        "id": "ogC_bO-J-_aO"
      },
      "source": [
        "演算子 `/` の結果は常に `float` 。\n",
        "\n",
        "演算子 `//` は割り算の結果以下の最大の整数を返す。"
      ]
    },
    {
      "cell_type": "code",
      "metadata": {
        "id": "L_6IaF1OZ4gW",
        "colab": {
          "base_uri": "https://localhost:8080/",
          "height": 50
        },
        "outputId": "d622da89-8a92-4868-8313-70bb56f3e064"
      },
      "source": [
        "print (5 // 2)\n",
        "print (6 // 2)"
      ],
      "execution_count": null,
      "outputs": [
        {
          "output_type": "stream",
          "text": [
            "2\n",
            "3\n"
          ],
          "name": "stdout"
        }
      ]
    },
    {
      "cell_type": "markdown",
      "metadata": {
        "id": "ci6ETS-HaPxr"
      },
      "source": [
        "これがどんなところで便利かは後ほどの例でわかるだろう。"
      ]
    },
    {
      "cell_type": "markdown",
      "metadata": {
        "id": "Aqk5EGP-v6d4"
      },
      "source": [
        "\n",
        "### 演算の優先順位\n",
        "小学校で習う算数で、計算には順序があることを習う。PEMDAS というニーモニックを覚えている人もいるだろう。\n",
        "* Parentheses カッコ\n",
        "* Exponents 冪乗\n",
        "* Multiplication/Division 乗算/除算\n",
        "* Addtion/Subtraction 加算/減算\n",
        "\n",
        "Python においても同じルールが適用される。\n"
      ]
    },
    {
      "cell_type": "code",
      "metadata": {
        "id": "CKbrRj2Lbs_s",
        "colab": {
          "base_uri": "https://localhost:8080/",
          "height": 34
        },
        "outputId": "f40a0d4d-8e61-4c58-e417-b5d500d8f19e"
      },
      "source": [
        "8 - 3 + 2"
      ],
      "execution_count": null,
      "outputs": [
        {
          "output_type": "execute_result",
          "data": {
            "text/plain": [
              "7"
            ]
          },
          "metadata": {
            "tags": []
          },
          "execution_count": 35
        }
      ]
    },
    {
      "cell_type": "code",
      "metadata": {
        "id": "hRWoU9A2btpz",
        "colab": {
          "base_uri": "https://localhost:8080/",
          "height": 34
        },
        "outputId": "04c047dc-18d9-4fea-9a9f-5752821cc7dd"
      },
      "source": [
        "-3 + 4 * 2"
      ],
      "execution_count": null,
      "outputs": [
        {
          "output_type": "execute_result",
          "data": {
            "text/plain": [
              "5"
            ]
          },
          "metadata": {
            "tags": []
          },
          "execution_count": 36
        }
      ]
    },
    {
      "cell_type": "markdown",
      "metadata": {
        "id": "FBO7f8GacFyH"
      },
      "source": [
        "次の例ではカッコによって強制的に計算の順序を変える必要がある。"
      ]
    },
    {
      "cell_type": "code",
      "metadata": {
        "id": "dN6LRC9NcFVd",
        "colab": {
          "base_uri": "https://localhost:8080/",
          "height": 34
        },
        "outputId": "f26a0108-7080-417c-a1ff-a43395e62315"
      },
      "source": [
        "# 頭を除いた肩までの高さを計算する\n",
        "head_height_cm = 25\n",
        "my_height_cm = 190\n",
        "shoulder_height_meters = ( my_height_cm - head_height_cm ) / 100\n",
        "print(\"Shoulder height in meters = \" ,  shoulder_height_meters, \"?\")"
      ],
      "execution_count": null,
      "outputs": [
        {
          "output_type": "stream",
          "text": [
            "Shoulder height in meters =  1.65 ?\n"
          ],
          "name": "stdout"
        }
      ]
    },
    {
      "cell_type": "markdown",
      "metadata": {
        "id": "XXxVWcYXaTe5"
      },
      "source": [
        "# 数字に関する組み込み関数\n",
        "`min` と `max` は引数の最小値と最大値を返す。\n",
        "\n"
      ]
    },
    {
      "cell_type": "code",
      "metadata": {
        "id": "UbgZlsdfdyd1",
        "colab": {
          "base_uri": "https://localhost:8080/",
          "height": 50
        },
        "outputId": "cfffcd32-a7ef-4899-edd1-231344dcaf26"
      },
      "source": [
        "print(min(1, 2, 3)) \n",
        "print(max(1, 2, 3))"
      ],
      "execution_count": null,
      "outputs": [
        {
          "output_type": "stream",
          "text": [
            "1\n",
            "3\n"
          ],
          "name": "stdout"
        }
      ]
    },
    {
      "cell_type": "markdown",
      "metadata": {
        "id": "640_qV05dxG8"
      },
      "source": [
        "`abs` は引数の絶対値を返す。\n"
      ]
    },
    {
      "cell_type": "code",
      "metadata": {
        "id": "jgHDje1yeCvN",
        "colab": {
          "base_uri": "https://localhost:8080/",
          "height": 50
        },
        "outputId": "92edd4c2-066a-4f3b-adb0-3d8895e316a6"
      },
      "source": [
        "print(abs(32)) \n",
        "print(abs(-32)) "
      ],
      "execution_count": null,
      "outputs": [
        {
          "output_type": "stream",
          "text": [
            "32\n",
            "32\n"
          ],
          "name": "stdout"
        }
      ]
    },
    {
      "cell_type": "markdown",
      "metadata": {
        "id": "7dNlJxGPd_sm"
      },
      "source": [
        "`float` と `int` は数字の型の名前であるだけでなく引数の型を変換する関数として呼び出すことができる。"
      ]
    },
    {
      "cell_type": "code",
      "metadata": {
        "id": "ZsxeQZplekRg",
        "colab": {
          "base_uri": "https://localhost:8080/",
          "height": 84
        },
        "outputId": "b0e154b5-0d74-40df-ff61-9e1607e3454e"
      },
      "source": [
        "print(float(10)) \n",
        "print(int(3.33))\n",
        "print (int (-3.33))\n",
        "print(-3.33 // 1)"
      ],
      "execution_count": null,
      "outputs": [
        {
          "output_type": "stream",
          "text": [
            "10.0\n",
            "3\n",
            "-3\n",
            "-4.0\n"
          ],
          "name": "stdout"
        }
      ]
    },
    {
      "cell_type": "code",
      "metadata": {
        "id": "MCl8fTn9ewkA",
        "colab": {
          "base_uri": "https://localhost:8080/",
          "height": 50
        },
        "outputId": "6aca7bbf-26bd-4ec7-9193-e1ec5281f197"
      },
      "source": [
        "# They can even be called on strings!\n",
        "print(int('807') + 1)\n",
        "10.0\n",
        "print(float('33.3') + 0.2 )"
      ],
      "execution_count": null,
      "outputs": [
        {
          "output_type": "stream",
          "text": [
            "808\n",
            "33.5\n"
          ],
          "name": "stdout"
        }
      ]
    },
    {
      "cell_type": "markdown",
      "metadata": {
        "id": "zMJ3df-ve0cG"
      },
      "source": [
        "# 練習問題"
      ]
    },
    {
      "cell_type": "code",
      "metadata": {
        "id": "IJDVhg1dhHL2",
        "colab": {
          "base_uri": "https://localhost:8080/",
          "height": 50
        },
        "outputId": "05419ab9-314f-4ff8-d407-305602861a95"
      },
      "source": [
        "print(\"Pythonコードを実行した!!!!\") \n",
        "print(\"おめでとう!!!!\")"
      ],
      "execution_count": null,
      "outputs": [
        {
          "output_type": "stream",
          "text": [
            "Pythonコードを実行した!!!!\n",
            "おめでとう!!!!\n"
          ],
          "name": "stdout"
        }
      ]
    },
    {
      "cell_type": "markdown",
      "metadata": {
        "id": "_CHHm3Lkgm56"
      },
      "source": [
        "コードを追加したり変えたりして、再度実行してみよう。\n",
        "\n"
      ]
    },
    {
      "cell_type": "markdown",
      "metadata": {
        "id": "B6LqYa63h7m9"
      },
      "source": [
        "### 問題 0. 変数、代入、文字列\n",
        "\n",
        "colorという変数を作って、値を代入する。文字列はシングルクォートまたはダブルクォートで囲む。\n",
        "\n"
      ]
    },
    {
      "cell_type": "code",
      "metadata": {
        "id": "wPONAdf2Y8kz",
        "colab": {
          "base_uri": "https://localhost:8080/",
          "height": 54
        },
        "outputId": "47c812f4-e55f-4fe7-efeb-a3a97bb14bbf"
      },
      "source": [
        "color = \"pink\"\n",
        "print(color)\n",
        "type(color)"
      ],
      "execution_count": null,
      "outputs": [
        {
          "output_type": "stream",
          "text": [
            "pink\n"
          ],
          "name": "stdout"
        },
        {
          "output_type": "execute_result",
          "data": {
            "text/plain": [
              "str"
            ]
          },
          "metadata": {
            "tags": []
          },
          "execution_count": 2
        }
      ]
    },
    {
      "cell_type": "markdown",
      "metadata": {
        "id": "HEKJfvKFfN68"
      },
      "source": [
        "### 問題 1. 四則演算\n",
        "| 演算子\t| 名前\t| 説明 |\n",
        "| ---- | ---- | ----|\n",
        "|a + b  | 加算\t     |   aとbの合計 |\n",
        "|a - b\t| 減算\t   |   aとbの差分 |\n",
        "|a * b\t| 乗法 |\t aとbの積 |\n",
        "|a / b\t| 除算\t |   aとbの商 |\n",
        "|a // b\t| 床除算 |\t aとbの商から少数部分を除いたもの |\n",
        "|a % b\t| 余り       |   整数割り算の余り |\n",
        "|a ** b\t| 冪乗 |\t aのb乗 |\n",
        "|-a\t    | マイナス\t     |   マイナスa |\n"
      ]
    },
    {
      "cell_type": "code",
      "metadata": {
        "id": "-k5AQuYJPE4b",
        "colab": {
          "base_uri": "https://localhost:8080/",
          "height": 34
        },
        "outputId": "569458c0-781c-41ed-e560-0199b66b7b0f"
      },
      "source": [
        "pi = 3.14159 # 少数5桁までの円周率π\n",
        "diameter = 3 # 直径\n",
        "\n",
        "# 直径の半分の長さの半径(radius)という名前の変数を作る\n",
        "radius = diameter / 2\n",
        "\n",
        "# 公式 円の面積 = 円周率かける半径の二乗 を使って円の面積を(area)計算する\n",
        "area = pi * radius ** 2\n",
        "print (\"円の面積: \" , area)"
      ],
      "execution_count": null,
      "outputs": [
        {
          "output_type": "stream",
          "text": [
            "円の面積:  7.0685775\n"
          ],
          "name": "stdout"
        }
      ]
    },
    {
      "cell_type": "markdown",
      "metadata": {
        "id": "T2uJHafQPn-D"
      },
      "source": [
        "## 問題 2. 変数aとbの中身を入れ替える\n",
        "つまり、aの中身が以前のbでbの中身が以前のaになるようにする。\n"
      ]
    },
    {
      "cell_type": "code",
      "metadata": {
        "id": "cXU6Zk11lFUp",
        "colab": {
          "base_uri": "https://localhost:8080/",
          "height": 50
        },
        "outputId": "749b4512-906b-4533-cf56-862a6bedbe70"
      },
      "source": [
        "a = [1, 2, 3]\n",
        "b = [3, 2, 1]\n",
        "print(a, b)\n",
        "temp = a; a = b; b = temp\n",
        "print(a, b)"
      ],
      "execution_count": null,
      "outputs": [
        {
          "output_type": "stream",
          "text": [
            "[1, 2, 3] [3, 2, 1]\n",
            "[3, 2, 1] [1, 2, 3]\n"
          ],
          "name": "stdout"
        }
      ]
    },
    {
      "cell_type": "code",
      "metadata": {
        "id": "aeZCHLRBxJaT",
        "colab": {
          "base_uri": "https://localhost:8080/",
          "height": 50
        },
        "outputId": "f7cd67a7-48cf-4fc7-b679-c4340304ebe3"
      },
      "source": [
        "# 別解\n",
        "a = [1, 2, 3]\n",
        "b = [3, 2, 1]\n",
        "print(a, b)\n",
        "a, b = b, a\n",
        "print(a, b)"
      ],
      "execution_count": null,
      "outputs": [
        {
          "output_type": "stream",
          "text": [
            "[1, 2, 3] [3, 2, 1]\n",
            "[3, 2, 1] [1, 2, 3]\n"
          ],
          "name": "stdout"
        }
      ]
    },
    {
      "cell_type": "markdown",
      "metadata": {
        "id": "wkYajL54Prth"
      },
      "source": [
        "## 問題 3. カッコを使って計算結果を変えるクイズ"
      ]
    },
    {
      "cell_type": "code",
      "metadata": {
        "id": "oxm7M6xcls1R",
        "colab": {
          "base_uri": "https://localhost:8080/",
          "height": 50
        },
        "outputId": "f641151e-b448-474e-c796-35d533703899"
      },
      "source": [
        "# カッコを使って計算結果を1にする\n",
        "print (5 - 3 // 2)\n",
        "print ((5 - 3) // 2)"
      ],
      "execution_count": null,
      "outputs": [
        {
          "output_type": "stream",
          "text": [
            "4\n",
            "1\n"
          ],
          "name": "stdout"
        }
      ]
    },
    {
      "cell_type": "code",
      "metadata": {
        "id": "YuePq7mjmcFO",
        "colab": {
          "base_uri": "https://localhost:8080/",
          "height": 50
        },
        "outputId": "fd67e134-d83b-4abf-dafb-b5eafde4dad1"
      },
      "source": [
        "# カッコを使って計算結果を0にする\n",
        "print(8 - 3 * 2 - 1 + 1)\n",
        "print(8 - (3 * 2) - (1 + 1))"
      ],
      "execution_count": null,
      "outputs": [
        {
          "output_type": "stream",
          "text": [
            "2\n",
            "0\n"
          ],
          "name": "stdout"
        }
      ]
    },
    {
      "cell_type": "markdown",
      "metadata": {
        "id": "0LLxbCU7lrBX"
      },
      "source": [
        "## 問題 4. AliceとBobとCarolはハロウィーンキャンディを集めて3人で平等に分けて、余りが出た場合は潰して捨てることにした。\n",
        "\n",
        "例えば、全部で91だった場合、30個ずつ取って、1個捨てる。\n",
        "\n",
        "捨てなければならないキャンディの数を算出する"
      ]
    },
    {
      "cell_type": "code",
      "metadata": {
        "id": "FOgYBiPSn3Eg",
        "colab": {
          "base_uri": "https://localhost:8080/",
          "height": 34
        },
        "outputId": "fe2cb529-8e22-4f33-d3ff-647de157a2f8"
      },
      "source": [
        "# 例えば、全部で91だった場合、30個ずつ取って、1個捨てる\n",
        "# 捨てなければならないキャンディの数を算出する\n",
        "alice_candies = 121\n",
        "bob_candies = 77\n",
        "carol_candies = 109\n",
        "\n",
        "to_smash = (alice_candies + bob_candies + carol_candies) % 3\n",
        "print(to_smash)"
      ],
      "execution_count": null,
      "outputs": [
        {
          "output_type": "stream",
          "text": [
            "1\n"
          ],
          "name": "stdout"
        }
      ]
    }
  ]
}