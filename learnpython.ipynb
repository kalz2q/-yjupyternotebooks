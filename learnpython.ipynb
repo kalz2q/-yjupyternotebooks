{
  "nbformat": 4,
  "nbformat_minor": 0,
  "metadata": {
    "colab": {
      "name": "learnpython.ipynb",
      "provenance": [],
      "toc_visible": true,
      "authorship_tag": "ABX9TyMecwmFqKKgTrmSokgXiEvM",
      "include_colab_link": true
    },
    "kernelspec": {
      "name": "python3",
      "display_name": "Python 3"
    },
    "language_info": {
      "name": "python"
    }
  },
  "cells": [
    {
      "cell_type": "markdown",
      "metadata": {
        "id": "view-in-github",
        "colab_type": "text"
      },
      "source": [
        "<a href=\"https://colab.research.google.com/github/kalz2q/mycolabnotebooks/blob/master/learnpython.ipynb\" target=\"_parent\"><img src=\"https://colab.research.google.com/assets/colab-badge.svg\" alt=\"Open In Colab\"/></a>"
      ]
    },
    {
      "cell_type": "markdown",
      "metadata": {
        "id": "mG5wD9OjyCva"
      },
      "source": [
        "メモ \n",
        "\n",
        "python を学ぶ。\n",
        "\n",
        "アイデアは、サクサクっと python を学ぶための colab ノートブックを作る。\n",
        "\n",
        "とりあえず kaggle と chainer と functional とかを材料に書き始めてみる。 数学と違って、定義や証明ではなく、問題-解答ペアで進む予定。 \n",
        "\n"
      ]
    },
    {
      "cell_type": "markdown",
      "metadata": {
        "id": "s84YRCb1cSHj"
      },
      "source": [
        "# 最初の例"
      ]
    },
    {
      "cell_type": "code",
      "metadata": {
        "id": "6A6tdrr07dUT",
        "colab": {
          "base_uri": "https://localhost:8080/"
        },
        "outputId": "fbb9c666-8d2f-4053-ed5c-2c72fa9e036c"
      },
      "source": [
        "# 最初の例\n",
        "x = 0\n",
        "print(x)\n",
        "\n",
        "x = x + 4\n",
        "\n",
        "if x > 0:\n",
        "    print(\"x is larger than 0\")\n",
        "\n",
        "text = \"hello \" * x\n",
        "print(text)"
      ],
      "execution_count": null,
      "outputs": [
        {
          "output_type": "stream",
          "text": [
            "0\n",
            "x is larger than 0\n",
            "hello hello hello hello \n"
          ],
          "name": "stdout"
        }
      ]
    },
    {
      "cell_type": "markdown",
      "metadata": {
        "id": "w5ZdZFsx0XL1"
      },
      "source": [
        "上の例からわかること\n",
        "* 変数は突然使える。 型を指定しないでよい。\n",
        "* 変数は変えられる。\n",
        "* if が使える。 コロンが必要。インデントが必要。\n",
        "* 文字列に数字を掛けることができる。\n",
        "* コメントは `#` で始まる。\n",
        "\n",
        "実験してみてわかること\n",
        "* 文字列に例えば 4.5 とかかけようとするとエラーになる。\n",
        "* 4.5 とかは float らしい。 4 は int か。"
      ]
    },
    {
      "cell_type": "markdown",
      "metadata": {
        "id": "eamcpwt8Zx3_"
      },
      "source": [
        "補足\n",
        "* `=`は代入演算子と呼ばれる\n",
        "* 変数を宣言する必要はない。\n",
        "* 変数に代入される値のタイプをあとから変えられる。数値を代入したあとに文字列やブール型の値を代入するができる。"
      ]
    },
    {
      "cell_type": "code",
      "metadata": {
        "id": "dWGF-4HR9Lsu",
        "colab": {
          "base_uri": "https://localhost:8080/"
        },
        "outputId": "3da7c6e3-3ba7-4311-d546-7259ae667b79"
      },
      "source": [
        "x = 4\n",
        "print(type(x))\n",
        "x = 0.0\n",
        "print(type(x))\n",
        "x = True\n",
        "print(type(x))\n",
        "x = \"this is x.\"\n",
        "print(type(x))"
      ],
      "execution_count": 8,
      "outputs": [
        {
          "output_type": "stream",
          "text": [
            "<class 'int'>\n",
            "<class 'float'>\n",
            "<class 'bool'>\n",
            "<class 'str'>\n"
          ],
          "name": "stdout"
        }
      ]
    },
    {
      "cell_type": "markdown",
      "metadata": {
        "id": "psjeU_ov2FNQ"
      },
      "source": [
        "メモ \n",
        "* 型の名前: int, float, bool, str とか。\n",
        "* print は改行が自動で入る。\n",
        "* bool は True, False で小文字にするとエラーになる。\n",
        "* True, False 以外はなにが True になりなにが False になるのか。 => 課題 真偽の値。\n"
      ]
    },
    {
      "cell_type": "markdown",
      "metadata": {
        "id": "uN9WPC0V9JJW"
      },
      "source": [
        "関数は関数名のあとにカッコをつけることによって、関数を呼び出す。 カッコの中には引数 ひきすう を入れる。\n",
        "\n",
        "`type`も  python のビルトイン関数、組み込み関数、built-in 関数。\n",
        "\n",
        "メモ\n",
        "* python の組み込み関数はオブジェクトのメソッドとしての関数ではないので、使い方が決まっている。 [1,2,3].len() ではなくて、len([1,2,3])。"
      ]
    },
    {
      "cell_type": "markdown",
      "metadata": {
        "id": "lkcEh9wZZ3Fp"
      },
      "source": [
        "言葉\n",
        "* 再代入 `reassignment` \n",
        "* 演算子オーバーロード 文字列 * 整数 => 繰返し、のように演算子の意味を変えて使うこと。"
      ]
    },
    {
      "cell_type": "markdown",
      "metadata": {
        "id": "B_JZiwtey2lz"
      },
      "source": [
        "* `int` は integer (整数) の省略形。\n",
        "* `float` は浮動小数点型。\n"
      ]
    },
    {
      "cell_type": "markdown",
      "metadata": {
        "id": "XoLEAEkFaMlo"
      },
      "source": [
        "| Operator\t| Name\t| Description |\n",
        "| ---- | ---- | ----|\n",
        "|a + b  | Addition\t     |   Sum of a and b |\n",
        "|a - b\t| Subtraction\t   |   Difference of a and b |\n",
        "|a * b\t| Multiplication |\t Product of a and b |\n",
        "|a / b\t| True division\t |   Quotient of a and b |\n",
        "|a // b\t| Floor division |\t Quotient of a and b, removing fractional parts |\n",
        "|a % b\t| Modulus\t       |   Integer remainder after division of a by b |\n",
        "|a ** b\t| Exponentiation |\t a raised to the power of b |\n",
        "|-a\t    | Negation\t     |   The negative of a |\n"
      ]
    },
    {
      "cell_type": "markdown",
      "metadata": {
        "id": "IXLi1Yhx-DJL"
      },
      "source": [
        "割り算の演算子が2種類あることに注意。\n",
        "\n",
        "電卓の割り算は \"True division\" 。\n",
        "\n",
        "演算子 `/` の結果は常に `float` 。\n",
        "\n",
        "演算子 `//` は割り算の結果以下の最大の整数を返す。\n",
        "\n",
        "切り下げ flooor、 切り上げ ceiling は次のようにする。"
      ]
    },
    {
      "cell_type": "code",
      "metadata": {
        "id": "L_6IaF1OZ4gW",
        "colab": {
          "base_uri": "https://localhost:8080/"
        },
        "outputId": "83ffe101-c818-48b6-b27f-08b5e4413869"
      },
      "source": [
        "print (5 // 2)\n",
        "print (-(-5 // 2))"
      ],
      "execution_count": 11,
      "outputs": [
        {
          "output_type": "stream",
          "text": [
            "2\n",
            "3\n"
          ],
          "name": "stdout"
        }
      ]
    },
    {
      "cell_type": "markdown",
      "metadata": {
        "id": "Aqk5EGP-v6d4"
      },
      "source": [
        "# 演算の優先順位\n",
        "小学校で習う算数で、計算には順序があることを習う。PEMDAS というニーモニックを覚えている人もいるだろう。\n",
        "* Parentheses カッコ\n",
        "* Exponents 冪乗\n",
        "* Multiplication/Division 乗算/除算\n",
        "* Addtion/Subtraction 加算/減算\n",
        "\n",
        " python  においても同じルールが適用される。\n"
      ]
    },
    {
      "cell_type": "markdown",
      "metadata": {
        "id": "XXxVWcYXaTe5"
      },
      "source": [
        "# 数字に関する組み込み関数\n",
        "`min` と `max` は引数の最小値と最大値を返す。\n",
        "\n"
      ]
    },
    {
      "cell_type": "code",
      "metadata": {
        "id": "UbgZlsdfdyd1",
        "colab": {
          "base_uri": "https://localhost:8080/",
          "height": 50
        },
        "outputId": "cfffcd32-a7ef-4899-edd1-231344dcaf26"
      },
      "source": [
        "print(min(1, 2, 3)) \n",
        "print(max(1, 2, 3))"
      ],
      "execution_count": null,
      "outputs": [
        {
          "output_type": "stream",
          "text": [
            "1\n",
            "3\n"
          ],
          "name": "stdout"
        }
      ]
    },
    {
      "cell_type": "markdown",
      "metadata": {
        "id": "640_qV05dxG8"
      },
      "source": [
        "`abs` は引数の絶対値を返す。\n"
      ]
    },
    {
      "cell_type": "code",
      "metadata": {
        "id": "jgHDje1yeCvN",
        "colab": {
          "base_uri": "https://localhost:8080/",
          "height": 50
        },
        "outputId": "92edd4c2-066a-4f3b-adb0-3d8895e316a6"
      },
      "source": [
        "print(abs(32)) \n",
        "print(abs(-32)) "
      ],
      "execution_count": null,
      "outputs": [
        {
          "output_type": "stream",
          "text": [
            "32\n",
            "32\n"
          ],
          "name": "stdout"
        }
      ]
    },
    {
      "cell_type": "markdown",
      "metadata": {
        "id": "7dNlJxGPd_sm"
      },
      "source": [
        "`float` と `int` は数字の型の名前であるだけでなく引数の型を変換する関数として呼び出すことができる。"
      ]
    },
    {
      "cell_type": "code",
      "metadata": {
        "id": "ZsxeQZplekRg",
        "colab": {
          "base_uri": "https://localhost:8080/"
        },
        "outputId": "fdb0baf5-597f-45c4-ce6b-61ebb7077a16"
      },
      "source": [
        "print(float(10)) \n",
        "print(int(3.33))\n",
        "print (int (-3.33))\n",
        "print(-3.33 // 1)\n",
        "print(-(-3.33 // 1))"
      ],
      "execution_count": 12,
      "outputs": [
        {
          "output_type": "stream",
          "text": [
            "10.0\n",
            "3\n",
            "-3\n",
            "-4.0\n",
            "4.0\n"
          ],
          "name": "stdout"
        }
      ]
    },
    {
      "cell_type": "markdown",
      "metadata": {
        "id": "E8f0Yxf6-769"
      },
      "source": [
        "文字列を数字に直すこともできる。"
      ]
    },
    {
      "cell_type": "code",
      "metadata": {
        "id": "MCl8fTn9ewkA",
        "colab": {
          "base_uri": "https://localhost:8080/",
          "height": 50
        },
        "outputId": "6aca7bbf-26bd-4ec7-9193-e1ec5281f197"
      },
      "source": [
        "# 文字列を数字に直すこともできる\n",
        "print(int('807') + 1)\n",
        "10.0\n",
        "print(float('33.3') + 0.2 )"
      ],
      "execution_count": null,
      "outputs": [
        {
          "output_type": "stream",
          "text": [
            "808\n",
            "33.5\n"
          ],
          "name": "stdout"
        }
      ]
    },
    {
      "cell_type": "markdown",
      "metadata": {
        "id": "zMJ3df-ve0cG"
      },
      "source": [
        "---\n",
        "質問\n",
        "\n",
        "文字列で与えられた 2 進数や 16 進数を int に変換できるか。\n",
        "\n",
        "逆に int を 2 進数や 16 進数に変換できるか。\n",
        "\n",
        "基数変換と言う。\n",
        "\n",
        "いまはわからないので、わかったら追記する。\n"
      ]
    },
    {
      "cell_type": "markdown",
      "metadata": {
        "id": "HEKJfvKFfN68"
      },
      "source": [
        "---\n",
        "# 四則演算\n",
        "\n",
        "| 演算子\t| 名前\t| 説明 |\n",
        "| ---- | ---- | ----|\n",
        "|a + b  | 加算\t     |   a と b の合計 |\n",
        "|a - b\t| 減算\t   |   a と b の差分 |\n",
        "|a * b\t| 乗法 |\t a と b の積 |\n",
        "|a / b\t| 除算\t |   a と b の商 |\n",
        "|a // b\t| 床除算 |\t a と b の商から少数部分を除いたもの floor |\n",
        "|a % b\t| 余り       |   整数割り算の余り modulo|\n",
        "|a ** b\t| 冪乗 |\t a の b 乗 power |\n",
        "|-a\t    | マイナス\t     |   マイナスa |\n"
      ]
    },
    {
      "cell_type": "code",
      "metadata": {
        "id": "-k5AQuYJPE4b",
        "colab": {
          "base_uri": "https://localhost:8080/",
          "height": 34
        },
        "outputId": "569458c0-781c-41ed-e560-0199b66b7b0f"
      },
      "source": [
        "# 円の面積を計算する\n",
        "pi = 3.14159 # 少数5桁までの円周率π\n",
        "diameter = 3 # 直径\n",
        "\n",
        "# 直径の半分の長さの半径(radius)という名前の変数を作る\n",
        "radius = diameter / 2\n",
        "\n",
        "# 公式 円の面積 = 円周率かける半径の二乗 を使って円の面積を(area)計算する\n",
        "area = pi * radius ** 2\n",
        "print (\"円の面積: \" , area)"
      ],
      "execution_count": null,
      "outputs": [
        {
          "output_type": "stream",
          "text": [
            "円の面積:  7.0685775\n"
          ],
          "name": "stdout"
        }
      ]
    },
    {
      "cell_type": "markdown",
      "metadata": {
        "id": "T2uJHafQPn-D"
      },
      "source": [
        "---\n",
        "問題 $\\quad$ 変数 a と b の中身を入れ替える。\n"
      ]
    },
    {
      "cell_type": "code",
      "metadata": {
        "id": "cXU6Zk11lFUp",
        "colab": {
          "base_uri": "https://localhost:8080/",
          "height": 50
        },
        "outputId": "749b4512-906b-4533-cf56-862a6bedbe70"
      },
      "source": [
        "# 変数 a と b の中身を入れ替える。\n",
        "a = [1, 2, 3]\n",
        "b = [3, 2, 1]\n",
        "print(a, b)\n",
        "temp = a; a = b; b = temp\n",
        "print(a, b)"
      ],
      "execution_count": null,
      "outputs": [
        {
          "output_type": "stream",
          "text": [
            "[1, 2, 3] [3, 2, 1]\n",
            "[3, 2, 1] [1, 2, 3]\n"
          ],
          "name": "stdout"
        }
      ]
    },
    {
      "cell_type": "markdown",
      "metadata": {
        "id": "5Hlc7mtUGvKJ"
      },
      "source": [
        "python では a,b = b,a ができる。"
      ]
    },
    {
      "cell_type": "code",
      "metadata": {
        "id": "aeZCHLRBxJaT",
        "colab": {
          "base_uri": "https://localhost:8080/",
          "height": 50
        },
        "outputId": "f7cd67a7-48cf-4fc7-b679-c4340304ebe3"
      },
      "source": [
        "# 別解\n",
        "a = [1, 2, 3]\n",
        "b = [3, 2, 1]\n",
        "print(a, b)\n",
        "a, b = b, a\n",
        "print(a, b)"
      ],
      "execution_count": null,
      "outputs": [
        {
          "output_type": "stream",
          "text": [
            "[1, 2, 3] [3, 2, 1]\n",
            "[3, 2, 1] [1, 2, 3]\n"
          ],
          "name": "stdout"
        }
      ]
    },
    {
      "cell_type": "markdown",
      "metadata": {
        "id": "NQwRTni4u7L9"
      },
      "source": [
        "# 関数\n",
        "* help(関数名)\n",
        "* dir(クラス/オブジェクト)\n",
        "* 関数名?\n",
        "* 関数名??\n",
        "\n",
        "とか。便利。\n",
        "\n",
        "例 $\\quad$ `help(round)`\n",
        "\n",
        "\n"
      ]
    },
    {
      "cell_type": "markdown",
      "metadata": {
        "id": "3_Gri6s6yyXn"
      },
      "source": [
        "`help(round)` の出力を読んでから、次のコードを実行してみる。\n",
        "\n",
        "* round(-2.01)\n",
        "* round(3.12345455, -2)\n",
        "* round(1234567, 3)\n",
        "* round(1234567, -3)\n",
        "\n",
        "他の関数についてもhelp()を実行してみる。\n",
        "\n",
        "* help(abs)"
      ]
    },
    {
      "cell_type": "code",
      "metadata": {
        "id": "iih6tuCv-ttI",
        "colab": {
          "base_uri": "https://localhost:8080/"
        },
        "outputId": "0a0d697c-1f46-4a30-82d1-71dd20fd9bde"
      },
      "source": [
        "# 実験\n",
        "print(round(3.14))\n",
        "print(type(round(3.14)))\n",
        "print(round(3.14,0))\n",
        "print(type(round(3.14,0)))\n",
        "print (round(1234567, -3))\n",
        "print(type (round(1234567, -3)))\n",
        "print(round(1234567.3, -3))\n",
        "print(type (round(1234567.3, -3)))"
      ],
      "execution_count": 21,
      "outputs": [
        {
          "output_type": "stream",
          "text": [
            "3\n",
            "<class 'int'>\n",
            "3.1\n",
            "<class 'float'>\n",
            "1235000\n",
            "<class 'int'>\n",
            "1235000.0\n",
            "<class 'float'>\n"
          ],
          "name": "stdout"
        }
      ]
    },
    {
      "cell_type": "markdown",
      "metadata": {
        "id": "oElBQcyFvTEa"
      },
      "source": [
        "`round()` は単純で説明の短い関数だった。\n",
        "\n",
        "`print()`の場合 `help(print)`の結果も長くなる。"
      ]
    },
    {
      "cell_type": "markdown",
      "metadata": {
        "id": "Bp-NDXZZDkII"
      },
      "source": [
        "# 関数を定義する\n"
      ]
    },
    {
      "cell_type": "code",
      "metadata": {
        "id": "ZW7E53HqEX05",
        "colab": {
          "base_uri": "https://localhost:8080/"
        },
        "outputId": "b03d8e37-9d22-4d75-9aa7-d32d023bccf8"
      },
      "source": [
        "def least_difference(a, b, c):\n",
        "    \"\"\"Return the smallest difference between any two numbers among a, b and c.\n",
        "    >>> least_difference(1, 5, -5)\n",
        "    4\n",
        "    \"\"\"\n",
        "    diff1 = abs(a - b)\n",
        "    diff2 = abs(b - c)\n",
        "    diff3 = abs(a - c)\n",
        "    return min(diff1, diff2, diff3)\n",
        "\n",
        "least_difference(10, 3, 5)"
      ],
      "execution_count": 23,
      "outputs": [
        {
          "output_type": "execute_result",
          "data": {
            "text/plain": [
              "2"
            ]
          },
          "metadata": {
            "tags": []
          },
          "execution_count": 23
        }
      ]
    },
    {
      "cell_type": "markdown",
      "metadata": {
        "id": "Z0nAug7PERV9"
      },
      "source": [
        "* ここでは least_difference() という関数が作られている。\n",
        "* 3 つの引数 a, b, c を取る。\n",
        "*  関数の定義は `def` というキーワードで始まる。`:` のあとのインデントブロックが関数定義の本体。\n",
        "* キーワード `return` で関数を抜け、`return` のあとにある値が返り値となる。\n",
        "\n"
      ]
    },
    {
      "cell_type": "code",
      "metadata": {
        "id": "cHi7tu7GF7Mf",
        "colab": {
          "base_uri": "https://localhost:8080/"
        },
        "outputId": "f4661497-92df-4902-8336-4ca8da47dac1"
      },
      "source": [
        "print(\n",
        "    least_difference(1, 10, 100),\n",
        "    least_difference(1, 10, 10),\n",
        "    least_difference(5, 6, 7), #  python は引数の最後にカンマがついていても大丈夫。\n",
        ")"
      ],
      "execution_count": 24,
      "outputs": [
        {
          "output_type": "stream",
          "text": [
            "9 0 1\n"
          ],
          "name": "stdout"
        }
      ]
    },
    {
      "cell_type": "code",
      "metadata": {
        "id": "F9b1CkQ6EqCT",
        "colab": {
          "base_uri": "https://localhost:8080/"
        },
        "outputId": "16322cff-7ff9-42fa-99e5-ed79214500bc"
      },
      "source": [
        "help(least_difference)"
      ],
      "execution_count": 25,
      "outputs": [
        {
          "output_type": "stream",
          "text": [
            "Help on function least_difference in module __main__:\n",
            "\n",
            "least_difference(a, b, c)\n",
            "    Return the smallest difference between any two numbers among a, b and c.\n",
            "    >>> least_difference(1, 5, -5)\n",
            "    4\n",
            "\n"
          ],
          "name": "stdout"
        }
      ]
    },
    {
      "cell_type": "markdown",
      "metadata": {
        "id": "YM5UgIDOxd5t"
      },
      "source": [
        "# ドックストリング\n",
        "ドックストリング `docstring` は関数を定義する時にヘッダーの直後に書かれる 3 クォートで囲まれた数行にわたる部分のこと。 help()でこのdocstringが出力される。\n",
        "\n",
        "numpyの関数 np.eye の docstring が参考になる。\n",
        "\n",
        "\n"
      ]
    },
    {
      "cell_type": "code",
      "metadata": {
        "id": "QoAQqdIvdAcZ"
      },
      "source": [
        "# import numpy as np\n",
        "# help (np.eye)"
      ],
      "execution_count": null,
      "outputs": []
    },
    {
      "cell_type": "markdown",
      "metadata": {
        "id": "WnZMoEjfH6w-"
      },
      "source": [
        "---\n",
        "返り値のない関数\n",
        "\n",
        "キーワード `return` を含まない関数の返り値は `None` になる。\n"
      ]
    },
    {
      "cell_type": "code",
      "metadata": {
        "id": "PnN8zwiWcH54",
        "colab": {
          "base_uri": "https://localhost:8080/"
        },
        "outputId": "5024f994-a9dd-423b-a071-4bf18bb81b88"
      },
      "source": [
        "print(type(None))"
      ],
      "execution_count": 27,
      "outputs": [
        {
          "output_type": "stream",
          "text": [
            "<class 'NoneType'>\n"
          ],
          "name": "stdout"
        }
      ]
    },
    {
      "cell_type": "code",
      "metadata": {
        "id": "tf-BRZgHeJzT",
        "colab": {
          "base_uri": "https://localhost:8080/",
          "height": 54
        },
        "outputId": "296ff685-43ff-4382-9027-204c81c09917"
      },
      "source": [
        "mystery = print()\n",
        "print(mystery)"
      ],
      "execution_count": null,
      "outputs": [
        {
          "output_type": "stream",
          "text": [
            "\n",
            "None\n"
          ],
          "name": "stdout"
        }
      ]
    },
    {
      "cell_type": "markdown",
      "metadata": {
        "id": "IQxs1ULPeIGg"
      },
      "source": [
        "---\n",
        "引数のデフォルト値\n",
        "\n",
        "関数 `print` のオプションとしていくつかの引数をがある。\n",
        "たとえば出力の項目の間に入れる文字列を指定するには `sep` という変数に値を入る。\n"
      ]
    },
    {
      "cell_type": "code",
      "metadata": {
        "id": "7Xdr3PCSgr3K",
        "colab": {
          "base_uri": "https://localhost:8080/",
          "height": 35
        },
        "outputId": "8e5f409a-f89d-43a3-e9df-94ae554bdcd5"
      },
      "source": [
        "print(1, 2, 3, sep=' < ')"
      ],
      "execution_count": null,
      "outputs": [
        {
          "output_type": "stream",
          "text": [
            "1 < 2 < 3\n"
          ],
          "name": "stdout"
        }
      ]
    },
    {
      "cell_type": "markdown",
      "metadata": {
        "id": "ZxHtaVfmgmsx"
      },
      "source": [
        "しかし、値を指定しない場合、`sep`にはデフォルトの値であるスペース 1 個が入る。\n"
      ]
    },
    {
      "cell_type": "code",
      "metadata": {
        "id": "9hjL8YC1hwEW",
        "colab": {
          "base_uri": "https://localhost:8080/",
          "height": 35
        },
        "outputId": "0031cf08-2dfe-48b0-b55b-b7726decef3e"
      },
      "source": [
        "print(1, 2, 3)"
      ],
      "execution_count": null,
      "outputs": [
        {
          "output_type": "stream",
          "text": [
            "1 2 3\n"
          ],
          "name": "stdout"
        }
      ]
    },
    {
      "cell_type": "markdown",
      "metadata": {
        "id": "OSw17y6ThrIm"
      },
      "source": [
        "関数の定義の時にデフォルト値を指定するには、次のようにする。"
      ]
    },
    {
      "cell_type": "code",
      "metadata": {
        "id": "8vQaBy2Dh5nX",
        "colab": {
          "base_uri": "https://localhost:8080/",
          "height": 72
        },
        "outputId": "11921f60-d506-4832-e5c5-4ab347c59540"
      },
      "source": [
        "def greet(who=\"Colin\"):\n",
        "    print(\"Hello,\", who)\n",
        "    \n",
        "greet()\n",
        "greet(who=\"Kaggle\")\n",
        "\n",
        "# 明確で誤解が生じる余地のない場合、引数の名前を省略できる。\n",
        "greet(\"world\")"
      ],
      "execution_count": null,
      "outputs": [
        {
          "output_type": "stream",
          "text": [
            "Hello, Colin\n",
            "Hello, Kaggle\n",
            "Hello, world\n"
          ],
          "name": "stdout"
        }
      ]
    },
    {
      "cell_type": "markdown",
      "metadata": {
        "id": "0IssDb5mbbwZ"
      },
      "source": [
        "---\n",
        "関数から関数を呼び出す\n",
        "\n",
        "関数から関数を呼び出す、というと関数型プログラムの Haskell や Scheme のようだが、それほど抽象的なことはできないが、つぎのようなやり方で関数を呼び出すことができる。\n"
      ]
    },
    {
      "cell_type": "code",
      "metadata": {
        "id": "p_Z2QYAbjUIU",
        "colab": {
          "base_uri": "https://localhost:8080/",
          "height": 72
        },
        "outputId": "dc18d0ad-3cf7-4b0e-cc89-a60d9b29bd9c"
      },
      "source": [
        "def mult_by_five(x):\n",
        "    \"\"\"x is multiplied by five\"\"\"\n",
        "    return 5 * x\n",
        "\n",
        "def call(fn, arg):\n",
        "    \"\"\"Call fn on arg\"\"\"\n",
        "    return fn(arg)\n",
        "\n",
        "def squared_call(fn, arg):\n",
        "    \"\"\"Call fn on the result of calling fn on arg\"\"\"\n",
        "    return fn(fn(arg))\n",
        "\n",
        "def cubed_call(fn, arg):\n",
        "    \"\"\"Call fn on the result of fn calling fn on arg\"\"\"\n",
        "    return fn(fn(fn(arg)))\n",
        "\n",
        "print(\n",
        "    call(mult_by_five, 1),\n",
        "    squared_call(mult_by_five, 1), \n",
        "    cubed_call(mult_by_five,1),\n",
        "    sep='\\n', # '\\n' is the newline character - it starts a new line\n",
        ")"
      ],
      "execution_count": null,
      "outputs": [
        {
          "output_type": "stream",
          "text": [
            "5\n",
            "25\n",
            "125\n"
          ],
          "name": "stdout"
        }
      ]
    },
    {
      "cell_type": "markdown",
      "metadata": {
        "id": "Uvd9mi8gjSCh"
      },
      "source": [
        "関数に作用する関数は高階関数 \"Higher order functions\" と呼ばれる。\n",
        "\n",
        "python の `max` は複数の引数の中で最大のものを返すが、オプションとして `key` に関数を指定すると `key(x)` が最大なxを返す。\n"
      ]
    },
    {
      "cell_type": "code",
      "metadata": {
        "id": "ZLpHTzdew0hC",
        "colab": {
          "base_uri": "https://localhost:8080/",
          "height": 90
        },
        "outputId": "5cb640d7-7011-4831-e761-6490f238ce42"
      },
      "source": [
        "def mod_5(x):\n",
        "    \"\"\"Return the remainder of x after dividing by 5\"\"\"\n",
        "    return x % 5\n",
        "\n",
        "print(\n",
        "    'Which number is biggest?',\n",
        "    max(100, 51, 14),\n",
        "    'Which number is the biggest modulo 5?',\n",
        "    max(100, 51, 14, key=mod_5),\n",
        "    sep='\\n',\n",
        ")"
      ],
      "execution_count": null,
      "outputs": [
        {
          "output_type": "stream",
          "text": [
            "Which number is biggest?\n",
            "100\n",
            "Which number is the biggest modulo 5?\n",
            "14\n"
          ],
          "name": "stdout"
        }
      ]
    },
    {
      "cell_type": "markdown",
      "metadata": {
        "id": "M_5a-M3Xkv3d"
      },
      "source": [
        "---\n",
        "問題 `docstring` に基づいて関数を完成させる。\n",
        "\n",
        "ヒント: `round` は python の組み込み関数。\n"
      ]
    },
    {
      "cell_type": "code",
      "metadata": {
        "id": "BaJBiSLROA0f",
        "colab": {
          "base_uri": "https://localhost:8080/"
        },
        "outputId": "6f0cb568-ff21-47ac-c70b-d5f5b1aff95e"
      },
      "source": [
        "def round_to_three_places(num):\n",
        "    \"\"\"小数点 3 桁までを求める。4 桁目を四捨五入\n",
        "    >>> round_to_three_places(3.14159)\n",
        "    3.141\n",
        "    \"\"\"\n",
        "    return round(num, 3)\n",
        "\n",
        "round_to_three_places(3.14159)"
      ],
      "execution_count": 4,
      "outputs": [
        {
          "output_type": "execute_result",
          "data": {
            "text/plain": [
              "3.141"
            ]
          },
          "metadata": {
            "tags": []
          },
          "execution_count": 4
        }
      ]
    },
    {
      "cell_type": "markdown",
      "metadata": {
        "id": "Mm1Yw-0jx_nn"
      },
      "source": [
        "---\n",
        "問題  `round` の `ndigits`\n",
        "\n",
        "`help()` によると `round` の 2 番目の引数 `ndigits` は負の数でもかまわない。\n",
        "\n",
        "次のコードセルで実験してみる。"
      ]
    },
    {
      "cell_type": "code",
      "metadata": {
        "id": "N5SVD_-kiLUt",
        "colab": {
          "base_uri": "https://localhost:8080/",
          "height": 34
        },
        "outputId": "157e0a98-629d-40ab-fba5-be3bea0e21cf"
      },
      "source": [
        "round(12345678, -6)"
      ],
      "execution_count": null,
      "outputs": [
        {
          "output_type": "execute_result",
          "data": {
            "text/plain": [
              "12000000"
            ]
          },
          "metadata": {
            "tags": []
          },
          "execution_count": 7
        }
      ]
    },
    {
      "cell_type": "markdown",
      "metadata": {
        "id": "zCybS9yMk0Cv"
      },
      "source": [
        "---\n",
        "エラーメッセージを読む\n",
        "\n",
        "エラーメッセージを読むことは、 python の勉強になる。\n",
        "\n",
        "バギーなコードを、コメントアウト、アンコメントし、実行することを繰り返しながらコードを完成させる。\n",
        "\n",
        "ちなみに、`ctrl`+`/` で選択した行を交互にコメントアウト、アンコメントできる。\n"
      ]
    },
    {
      "cell_type": "markdown",
      "metadata": {
        "id": "1JeG8B4jk2fi"
      },
      "source": [
        "---\n",
        "問題 $\\quad$絶対値の小さい方を返す関数を作る"
      ]
    },
    {
      "cell_type": "code",
      "metadata": {
        "id": "_XpNIKxLlQOW",
        "outputId": "ebfaf306-1b9a-4441-f82b-4c8756efa62c",
        "colab": {
          "base_uri": "https://localhost:8080/"
        }
      },
      "source": [
        "# 絶対値の小さい方を返す\n",
        "def smallest_abs(x,y):\n",
        "    \"\"\"絶対値の小さい方を返す\n",
        "    >>> smallest_abs(-10, 5)\n",
        "    5\n",
        "    \"\"\"\n",
        "    return min(abs(x), abs(y))\n",
        "\n",
        "smallest_abs(-10, 5)"
      ],
      "execution_count": 6,
      "outputs": [
        {
          "output_type": "execute_result",
          "data": {
            "text/plain": [
              "5"
            ]
          },
          "metadata": {
            "tags": []
          },
          "execution_count": 6
        }
      ]
    },
    {
      "cell_type": "markdown",
      "metadata": {
        "id": "79_r33SXmIW_"
      },
      "source": [
        "# ここから kaggle03bool.ipynb"
      ]
    },
    {
      "cell_type": "markdown",
      "metadata": {
        "id": "jwIeF_2_uFsa"
      },
      "source": [
        "# ブール型\n",
        "ブール型の値は True と False だけ。\n"
      ]
    },
    {
      "cell_type": "code",
      "metadata": {
        "id": "qMEGBuXSvQc1",
        "colab": {
          "base_uri": "https://localhost:8080/",
          "height": 52
        },
        "outputId": "3db7c4c8-9f99-41ec-97d2-94ab0689c3dd"
      },
      "source": [
        "x = True\n",
        "print(x)\n",
        "print(type(x))"
      ],
      "execution_count": null,
      "outputs": [
        {
          "output_type": "stream",
          "text": [
            "True\n",
            "<class 'bool'>\n"
          ],
          "name": "stdout"
        }
      ]
    },
    {
      "cell_type": "markdown",
      "metadata": {
        "id": "fBcSC1mpud7c"
      },
      "source": [
        "---\n",
        "比較演算\n",
        "\n",
        "| 演算\t| 説明\t|\t|演算\t|説明|\n",
        "|---|---|---|---|---|\n",
        "| a == b\t| a は b に等しい            |\t| a != b\t| a は b に等しくない |\n",
        "| a < b\t  | a 小なり b\t            | \t| a > b\t  | a 大なり b |\n",
        "| a <= b\t| a 小なりイコール b\t|\t| a >= b\t| a 大なりイコール b |\n"
      ]
    },
    {
      "cell_type": "code",
      "metadata": {
        "id": "9m7-6pCGm6ZS",
        "outputId": "df8bec90-6d64-41ad-8bab-81b8195f6b41",
        "colab": {
          "base_uri": "https://localhost:8080/"
        }
      },
      "source": [
        "# 実験\n",
        "print(True)\n",
        "if 1 :\n",
        "    print (\"1 is True\")\n",
        "if None :\n",
        "    print (\"None is True\")\n",
        "else: print (\"None is False\")\n",
        "print(None)\n",
        "if -1 :\n",
        "    print (\"-1 is True\")\n",
        "else: print (\"-1 is False\")\n",
        "if 0 :\n",
        "    print (\"0 is True\")\n",
        "else: print (\"0 is False\")\n",
        "print([])\n",
        "if [] :\n",
        "    print (\"[] is True\")\n",
        "else: print (\"[] is False\")\n",
        "if [1] :\n",
        "    print (\"[1] is True\")\n",
        "else: print (\"[1] is False\")\n",
        "if \"\" :\n",
        "    print (\"\\\"\\\" is True\")\n",
        "else: print (\"\\\"\\\" is False\")\n"
      ],
      "execution_count": 24,
      "outputs": [
        {
          "output_type": "stream",
          "text": [
            "True\n",
            "1 is True\n",
            "None is False\n",
            "None\n",
            "-1 is True\n",
            "0 is False\n",
            "[]\n",
            "[] is False\n",
            "[1] is True\n",
            "\"\" is False\n"
          ],
          "name": "stdout"
        }
      ]
    },
    {
      "cell_type": "markdown",
      "metadata": {
        "id": "h7hPu8TTo1Mj"
      },
      "source": [
        "python で False なのは\n"
      ]
    },
    {
      "cell_type": "code",
      "metadata": {
        "id": "Vanby7U_pjTz",
        "outputId": "b50c5735-9a2a-45a2-e3a9-97d2137d0f90",
        "colab": {
          "base_uri": "https://localhost:8080/"
        }
      },
      "source": [
        "# python で False 以外は True\n",
        "print(bool(False))\n",
        "print(bool(None))\n",
        "print(bool())\n",
        "print(bool(EOFError)) # エラーは True\n",
        "print(bool(0)) # 0 以外の数値は True だが\n",
        "print(bool(0.0))\n",
        "print(bool(0j))\n",
        "print(bool(0+0j))\n",
        "print(bool(\"\")) # カラの str\n",
        "print(bool(())) # カラのタプル\n",
        "print(bool([])) # カラのリスト\n",
        "print(bool({})) # カラの dict\n",
        "print(int(True))\n",
        "print(int(False))\n"
      ],
      "execution_count": 89,
      "outputs": [
        {
          "output_type": "stream",
          "text": [
            "False\n",
            "False\n",
            "False\n",
            "True\n",
            "False\n",
            "False\n",
            "False\n",
            "False\n",
            "False\n",
            "False\n",
            "False\n",
            "False\n",
            "1\n",
            "0\n"
          ],
          "name": "stdout"
        }
      ]
    },
    {
      "cell_type": "code",
      "metadata": {
        "id": "Aj_YIlMCrOJ8",
        "outputId": "6acf5585-03e4-4bda-ae80-0dc91d810ebc",
        "colab": {
          "base_uri": "https://localhost:8080/"
        }
      },
      "source": [
        "name = \"\"\n",
        "if name:\n",
        "    print(\"名前は\" + name + \"です\")\n",
        "else:\n",
        "    print(\"名前は未登録です\")"
      ],
      "execution_count": 34,
      "outputs": [
        {
          "output_type": "stream",
          "text": [
            "名前は未登録です\n"
          ],
          "name": "stdout"
        }
      ]
    },
    {
      "cell_type": "markdown",
      "metadata": {
        "id": "ivMXamIbrbnq"
      },
      "source": [
        "---\n",
        "問題 $\\quad$ 引数に年齢を入れて呼び出すと、アメリカの大統領に立候補できる年齢かどうかを判定する"
      ]
    },
    {
      "cell_type": "code",
      "metadata": {
        "id": "X3ODDSF1AAJE",
        "colab": {
          "base_uri": "https://localhost:8080/"
        },
        "outputId": "7b254a7e-e0b3-4c0a-f745-17c6d56b53c7"
      },
      "source": [
        "# 引数に年齢を入れて呼び出すと、アメリカの大統領に立候補できる年齢かどうかを判定する\n",
        "def can_run_for_president(age):\n",
        "    \"\"\"引数に年齢を入れて呼び出すと、アメリカの大統領に立候補できる年齢かどうかを判定する\"\"\"\n",
        "    # The US Constitution says you must be at least 35 years old\n",
        "    return age >= 35\n",
        "\n",
        "print(\"Can a 19-year-old run for president?\", can_run_for_president(19))\n",
        "print(\"Can a 45-year-old run for president?\", can_run_for_president(45))"
      ],
      "execution_count": 35,
      "outputs": [
        {
          "output_type": "stream",
          "text": [
            "Can a 19-year-old run for president? False\n",
            "Can a 45-year-old run for president? True\n"
          ],
          "name": "stdout"
        }
      ]
    },
    {
      "cell_type": "markdown",
      "metadata": {
        "id": "lqyMy__aum5l"
      },
      "source": [
        "---\n",
        "ブール値の組み合わせ\n",
        "\n",
        "`and`、`or`、`not`でブール値を組み合わせることができる。\n",
        "\n"
      ]
    },
    {
      "cell_type": "code",
      "metadata": {
        "id": "C7yZyY_BBMsa",
        "colab": {
          "base_uri": "https://localhost:8080/"
        },
        "outputId": "7783ffd4-a8c7-40a8-ce6b-33a42ee9035b"
      },
      "source": [
        "# 引数に年齢とアメリカ生まれかどうかを入れて呼び出すと、\n",
        "# アメリカの大統領に立候補することが法律上できるかどうかを判定してTrueまたはFalseを返す\n",
        "\n",
        "def can_run_for_president(age, is_natural_born_citizen):\n",
        "    \"\"\"Can someone of the given age and citizenship status run for president in the US?\"\"\"\n",
        "    # The US Constitution says you must be a natural born citizen *and* at least 35 years old\n",
        "    return is_natural_born_citizen and (age >= 35)\n",
        "\n",
        "print(can_run_for_president(19, True))\n",
        "print(can_run_for_president(55, False))\n",
        "print(can_run_for_president(55, True))"
      ],
      "execution_count": 36,
      "outputs": [
        {
          "output_type": "stream",
          "text": [
            "False\n",
            "False\n",
            "True\n"
          ],
          "name": "stdout"
        }
      ]
    },
    {
      "cell_type": "markdown",
      "metadata": {
        "id": "HJfjOYxKEMoh"
      },
      "source": [
        "---\n",
        "ブール演算の優先順位\n",
        "\n",
        "`and`は`or`より先に評価される。\n",
        "\n",
        "なるべくカッコを使ってわかりやすくする。\n"
      ]
    },
    {
      "cell_type": "code",
      "metadata": {
        "id": "V08dgCVTESRI",
        "colab": {
          "base_uri": "https://localhost:8080/"
        },
        "outputId": "3b8bea0a-216f-48c8-ff68-005980dafd4a"
      },
      "source": [
        "print(True or True and False)\n",
        "print(True or (True and False))\n",
        "print((True or True) and False)"
      ],
      "execution_count": 40,
      "outputs": [
        {
          "output_type": "stream",
          "text": [
            "True\n",
            "True\n",
            "False\n"
          ],
          "name": "stdout"
        }
      ]
    },
    {
      "cell_type": "code",
      "metadata": {
        "id": "BatyohIktbRG",
        "outputId": "03a950e5-9b1f-4fdb-c46b-be4cb8ffcbe0",
        "colab": {
          "base_uri": "https://localhost:8080/"
        }
      },
      "source": [
        "# True は False より大きい\n",
        "if True > False:\n",
        "    print (\"True is larger than False\")"
      ],
      "execution_count": 42,
      "outputs": [
        {
          "output_type": "stream",
          "text": [
            "True is larger than False\n"
          ],
          "name": "stdout"
        }
      ]
    },
    {
      "cell_type": "markdown",
      "metadata": {
        "id": "UZkvclDpFX-v"
      },
      "source": [
        "---\n",
        "条件文\n",
        "\n",
        "ブール型は `if`、`elif`、`else` キーワードの条件文と組み合わせて使う。\n",
        "\n",
        "条件文は `if` 文とも言われる。\n",
        "\n"
      ]
    },
    {
      "cell_type": "code",
      "metadata": {
        "id": "fOftabML70ku",
        "colab": {
          "base_uri": "https://localhost:8080/"
        },
        "outputId": "e2ec3b44-1567-41f5-aada-dbc76c1f36e8"
      },
      "source": [
        "# 引数がゼロか、正か、負かを判定して文字列を返す\n",
        "# 関数の中で print を使わない\n",
        "def inspect(x):\n",
        "    if x == 0:\n",
        "        return \"{} is zero\".format(x)\n",
        "    elif x > 0:\n",
        "        return \"{} is positive\".format(x)\n",
        "    elif x < 0:\n",
        "        return \"{} is negative\".format(x)\n",
        "    else:\n",
        "        return \"{} is unlike anything I've ever seen...\".format(x)\n",
        "\n",
        "print(inspect(0))\n",
        "print(inspect(-15))"
      ],
      "execution_count": 45,
      "outputs": [
        {
          "output_type": "stream",
          "text": [
            "0 is zero\n",
            "-15 is negative\n"
          ],
          "name": "stdout"
        }
      ]
    },
    {
      "cell_type": "markdown",
      "metadata": {
        "id": "QbFg_YXFUxF-"
      },
      "source": [
        "---\n",
        "質問\n",
        "\n",
        "* なぜ else if でなく elif なのか。\n",
        "* if は後置で使えるか。\n",
        "* if, elif, else を改行なしで書けるか。\n",
        "\n",
        "\n",
        "\n",
        "      "
      ]
    },
    {
      "cell_type": "markdown",
      "metadata": {
        "id": "F3D9leh9NybG"
      },
      "source": [
        "---\n",
        "問題\n",
        "\n",
        "数値の引数を取り、負の場合は-1、正の場合は1、0の場合は0を返す、signと呼ばれる関数を定義する。多くのプログラミング言語にはあって、Pythonの組み込み関数にはないもの。\n"
      ]
    },
    {
      "cell_type": "code",
      "metadata": {
        "id": "UBFeumkwwcMF",
        "outputId": "1bc210a3-33bc-4e7e-884d-fd237c647758",
        "colab": {
          "base_uri": "https://localhost:8080/"
        }
      },
      "source": [
        "import numpy as np\n",
        "np.sign(-1)"
      ],
      "execution_count": 57,
      "outputs": [
        {
          "output_type": "execute_result",
          "data": {
            "text/plain": [
              "-1"
            ]
          },
          "metadata": {
            "tags": []
          },
          "execution_count": 57
        }
      ]
    },
    {
      "cell_type": "code",
      "metadata": {
        "id": "5JVPdAQNxHEx"
      },
      "source": [
        "from sympy import sign\n",
        "sign(-1)"
      ],
      "execution_count": null,
      "outputs": []
    },
    {
      "cell_type": "code",
      "metadata": {
        "id": "mFIE3xODPi9u",
        "colab": {
          "base_uri": "https://localhost:8080/"
        },
        "outputId": "c7c9178b-e79e-440d-8720-13088b1262a2"
      },
      "source": [
        "# 数値の引数を取り、負の場合は-1、正の場合は1、0の場合は0を返す\n",
        "def sign (x) :\n",
        "    if x < 0 :\n",
        "        return -1\n",
        "    elif x > 0 :\n",
        "        return 1\n",
        "    else :\n",
        "        return 0\n",
        "\n",
        "print (sign(-1))\n",
        "print (sign(1))\n",
        "print (sign(0))\n"
      ],
      "execution_count": 63,
      "outputs": [
        {
          "output_type": "stream",
          "text": [
            "-1\n",
            "1\n",
            "0\n"
          ],
          "name": "stdout"
        }
      ]
    },
    {
      "cell_type": "markdown",
      "metadata": {
        "id": "lFHqV-OqxsEh"
      },
      "source": [
        "# いまここ"
      ]
    },
    {
      "cell_type": "markdown",
      "metadata": {
        "id": "w4Wcupvf0snv"
      },
      "source": [
        "---\n",
        "問題 $\\quad$ 引数を args を set で受ける\n",
        "\n",
        "* hotdog (ketchup, mustard, onion) => \"wants all toppings with ketchup and mustard and onion\"\n",
        "* hotdog () => \"wants plain hotdog without toppings\"\n",
        "* hotdog (ketchup) => \"wants hotdog with once sauce ketchup\"\n",
        "* hotdog (ketchup, onion) => \"wants two sauce ketchup and onion\"\n",
        "\n"
      ]
    },
    {
      "cell_type": "code",
      "metadata": {
        "id": "q53G3xWd2Tcn",
        "outputId": "6a9f6868-5942-4848-c3fc-a64499b2092c",
        "colab": {
          "base_uri": "https://localhost:8080/"
        }
      },
      "source": [
        "def hotdog (*args):\n",
        "    args = set(args)\n",
        "    if args == set():\n",
        "        return \"wants plain hotdog without toppings\"\n",
        "    elif args == {\"ketchup\"}:\n",
        "        return \"wants hotdog with once sauce ketchup\"\n",
        "    elif args == {\"mustard\"}:\n",
        "        return \"wants hotdog with once sauce mustard\"\n",
        "    elif args == {\"onion\"}:\n",
        "        return \"wants hotdog with once sauce onion\"\n",
        "    elif args ==  {\"ketchup\", \"mustard\"}:\n",
        "        return \"wants two sauce ketchup and mustard\"\n",
        "    elif args ==  {\"ketchup\", \"onion\"}:\n",
        "        return \"wants two sauce ketchup and onion\"\n",
        "    elif args ==  {\"mustard\", \"onion\"}:\n",
        "        return \"wants two sauce mustard and onion\"\n",
        "    elif args ==  {\"ketchup\", \"mustard\", \"onion\"}:\n",
        "        return \"wants all toppings with ketchup and mustard and onion\"\n",
        "\n",
        "print(hotdog(\"onion\", \"mustard\"))\n",
        "print(hotdog())\n",
        "print(hotdog(\"onion\", \"mustard\", \"ketchup\"))\n",
        "print(hotdog(\"onion\"))"
      ],
      "execution_count": 85,
      "outputs": [
        {
          "output_type": "stream",
          "text": [
            "wants two sauce mustard and onion\n",
            "wants plain hotdog without toppings\n",
            "wants all toppings with ketchup and mustard and onion\n",
            "wants hotdog with once sauce onion\n"
          ],
          "name": "stdout"
        }
      ]
    },
    {
      "cell_type": "markdown",
      "metadata": {
        "id": "PzuqdxEh9L1v"
      },
      "source": [
        "# いまここ"
      ]
    },
    {
      "cell_type": "markdown",
      "metadata": {
        "id": "OT9WynwoqXss"
      },
      "source": [
        "\n",
        "### 問題 6\n",
        "\n",
        "`bool()`は引数が0ならばFalseでそれ以外はTrueを返す。\n",
        "\n",
        "`int()`の引数にブール型を入れた場合どうなるか、実験し、その結果を用いて、お客がトッピングを1つだけ選ぶ、という場合の関数を書く。\n"
      ]
    },
    {
      "cell_type": "code",
      "metadata": {
        "id": "v83oa7gl0Atn",
        "colab": {
          "base_uri": "https://localhost:8080/",
          "height": 50
        },
        "outputId": "c5575313-2323-46a7-f32d-28134f5725d1"
      },
      "source": [
        "print (int(True))\n",
        "print (int(False))"
      ],
      "execution_count": null,
      "outputs": [
        {
          "output_type": "stream",
          "text": [
            "1\n",
            "0\n"
          ],
          "name": "stdout"
        }
      ]
    },
    {
      "cell_type": "code",
      "metadata": {
        "id": "i_11jVDpz37V",
        "colab": {
          "base_uri": "https://localhost:8080/",
          "height": 34
        },
        "outputId": "5f9fce7f-4319-4371-903d-46456f178b5a"
      },
      "source": [
        "def exactly_one_topping(ketchup, mustard, onion):\n",
        "    \"\"\"Return whether the customer wants exactly one of the three available toppings\n",
        "    on their hot dog.\n",
        "    \"\"\"\n",
        "    return (int(ketchup) + int(mustard) + int(onion)) == 1\n",
        "\n",
        "ketchup = True\n",
        "mustard = True\n",
        "onion = True\n",
        "\n",
        "print (exactly_one_topping(ketchup, mustard, onion))"
      ],
      "execution_count": null,
      "outputs": [
        {
          "output_type": "stream",
          "text": [
            "False\n"
          ],
          "name": "stdout"
        }
      ]
    },
    {
      "cell_type": "markdown",
      "metadata": {
        "id": "Drhp4DPtqZc7"
      },
      "source": [
        "### 問題 7\n",
        "\n",
        "この問題では単純化したブラックジャック(別名トゥエンティ・ワン)を使う。プレーヤー1人とディーラー1人でプレイするものとする。\n",
        "\n",
        "プレーヤーは何度でも次のカードを要求(`hit`)できる。手持ちのカードが21を超えたら、その時点で負けとなる。\n",
        "\n",
        "ディーラーはカードを自分で引いて:\n",
        "ディーラーのカード合計が21を超えたら、プレーヤーの勝ち。\n",
        "ディーラーのカード合計が17以上ならば、プレーヤーがディーラーより大きかった場合だけプレーヤーの勝ち。タイの場合でもディーラーの勝ち。\n",
        "\n",
        "合計の際、ジャック、クイーン、キングは10とする。エースは1または11を合計が21を超えないように選べる。例えば、\n",
        "```\n",
        "A+8 = 19, A+8+8 = 17\n",
        "```\n",
        "この問題では、プレーヤーが`hit`するかどうかの戦略を決定するプログラムを作る。最初の戦略は次のとおり。\n",
        "\n",
        "```\n",
        "def should_hit(dealer_total, player_total, player_low_aces, player_high_aces):\n",
        "    \"\"\"Return True if the player should hit (request another card) given the current game\n",
        "    state, or False if the player should stay.\n",
        "    When calculating a hand's total value, we count aces as \"high\" (with value 11) if doing so\n",
        "    doesn't bring the total above 21, otherwise we count them as low (with value 1). \n",
        "    For example, if the player's hand is {A, A, A, 7}, we will count it as 11 + 1 + 1 + 7,\n",
        "    and therefore set player_total=20, player_low_aces=2, player_high_aces=1.\n",
        "    \"\"\"\n",
        "    return False\n"
      ]
    },
    {
      "cell_type": "code",
      "metadata": {
        "id": "Xl31t9rX3vH-"
      },
      "source": [
        "def should_hit(dealer_total, player_total, player_low_aces, player_high_aces):\n",
        "    \"\"\"Return True if the player should hit (request another card) given the current game\n",
        "    state, or False if the player should stay.\n",
        "    When calculating a hand's total value, we count aces as \"high\" (with value 11) if doing so\n",
        "    doesn't bring the total above 21, otherwise we count them as low (with value 1). \n",
        "    For example, if the player's hand is {A, A, A, 7}, we will count it as 11 + 1 + 1 + 7,\n",
        "    and therefore set player_total=20, player_low_aces=2, player_high_aces=1.\n",
        "    \"\"\"\n",
        "    if player_total <= 13 :\n",
        "        return True\n",
        "    else :\n",
        "        return False"
      ],
      "execution_count": null,
      "outputs": []
    },
    {
      "cell_type": "markdown",
      "metadata": {
        "id": "j9lc0hSH06b5"
      },
      "source": [
        "この保守的な戦略では、プレーヤは常に配られた2枚だけを根拠に判断する。\n",
        "\n",
        "ゲームをシミュレートしてみると、この単純な戦略だけで、ゲームの状況を無視していてもそこそこ勝てることがわかる。\n",
        "\n",
        "プレーヤーの勝ち率が上がるよう工夫してみよう。\n",
        "\n"
      ]
    },
    {
      "cell_type": "code",
      "metadata": {
        "id": "SRfjwbpm5Pod"
      },
      "source": [
        "def should_hit(dealer_total, player_total, player_low_aces, player_high_aces):\n",
        "    \"\"\"Return True if the player should hit (request another card) given the current game\n",
        "    state, or False if the player should stay.\n",
        "    When calculating a hand's total value, we count aces as \"high\" (with value 11) if doing so\n",
        "    doesn't bring the total above 21, otherwise we count them as low (with value 1). \n",
        "    For example, if the player's hand is {A, A, A, 7}, we will count it as 11 + 1 + 1 + 7,\n",
        "    and therefore set player_total=20, player_low_aces=2, player_high_aces=1.\n",
        "    \"\"\"\n",
        "    if player_total <= 13 :\n",
        "        return True\n",
        "    elif (player_high_aces == 1) and (player_total <= 17):\n",
        "        return True\n",
        "    else :\n",
        "        return False"
      ],
      "execution_count": null,
      "outputs": []
    }
  ]
}