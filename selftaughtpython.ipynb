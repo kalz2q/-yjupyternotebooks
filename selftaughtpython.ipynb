{
  "nbformat": 4,
  "nbformat_minor": 0,
  "metadata": {
    "colab": {
      "name": "selftaughtpython.ipynb",
      "provenance": [],
      "toc_visible": true,
      "authorship_tag": "ABX9TyNgY8vuIHn8XHl9TVZ0gZ9y",
      "include_colab_link": true
    },
    "kernelspec": {
      "name": "python3",
      "display_name": "Python 3"
    }
  },
  "cells": [
    {
      "cell_type": "markdown",
      "metadata": {
        "id": "view-in-github",
        "colab_type": "text"
      },
      "source": [
        "<a href=\"https://colab.research.google.com/github/kalz2q/mycolabnotebooks/blob/master/selftaughtpython.ipynb\" target=\"_parent\"><img src=\"https://colab.research.google.com/assets/colab-badge.svg\" alt=\"Open In Colab\"/></a>"
      ]
    },
    {
      "cell_type": "code",
      "metadata": {
        "id": "vfdEXXYLZaow",
        "colab_type": "code",
        "colab": {
          "base_uri": "https://localhost:8080/",
          "height": 50
        },
        "outputId": "43f07b5b-44f6-4a96-d17f-2ea4133e599d"
      },
      "source": [
        "print (type({'a':1, 2:3}))\n",
        "print (type (['a', \"this\"]))"
      ],
      "execution_count": null,
      "outputs": [
        {
          "output_type": "stream",
          "text": [
            "<class 'dict'>\n",
            "<class 'list'>\n"
          ],
          "name": "stdout"
        }
      ]
    },
    {
      "cell_type": "markdown",
      "metadata": {
        "id": "6lWv_RsvZbnl",
        "colab_type": "text"
      },
      "source": [
        "# メモ\n",
        "\n",
        "1. The self-taught Programmer by Cory Althoff を読むのに使ったノートブック。\n",
        "1. とりあえず Python の入門書をいろいろ読んでいるところ。\n"
      ]
    },
    {
      "cell_type": "code",
      "metadata": {
        "id": "ri-1ZfWsaW2C",
        "colab_type": "code",
        "colab": {}
      },
      "source": [
        "for i in range (10):\n",
        "    print (\"Hello, World!\")"
      ],
      "execution_count": null,
      "outputs": []
    },
    {
      "cell_type": "markdown",
      "metadata": {
        "id": "-3SquzNEake2",
        "colab_type": "text"
      },
      "source": [
        "# 最初のプログラム\n",
        "\n",
        "上のがこの本の最初のプログラム。\n",
        "ハローワールドを10回繰り返す。\n",
        "`for i in range(10)` は普通の `i=0` でスタートして `while i<10` の間、`i++` というのと違いすこし関数的な考え方。\n",
        "あと、`print()` で改行もされることもここでわかる。\n",
        "\n",
        "Python はほんとはインデントがスペース2個なのだが、4個入っているね。まあいいか。\n"
      ]
    },
    {
      "cell_type": "markdown",
      "metadata": {
        "id": "AbcL11nGZpjW",
        "colab_type": "text"
      },
      "source": [
        "# pass\n",
        "\n",
        "関数を名前だけ決めて、とりあえず中身を作らないでおく時に中身の部分 (suite) に書くコマンド。"
      ]
    },
    {
      "cell_type": "code",
      "metadata": {
        "id": "RRu5olCBZpFy",
        "colab_type": "code",
        "colab": {}
      },
      "source": [
        "def function_name ():\n",
        "    pass\n",
        "\n",
        "\n",
        "print (function_name())\n",
        "print (type (function_name))"
      ],
      "execution_count": 1,
      "outputs": []
    },
    {
      "cell_type": "markdown",
      "metadata": {
        "id": "KE_7qMGHc4yW",
        "colab_type": "text"
      },
      "source": [
        "# global スコープ\n",
        "\n",
        "global 変数を関数の中で変更したい時は、global x とすればできる。が、あまりよい方法ではないだろう。明示的に引数として渡して、返り値として受け取るのがよいと思う"
      ]
    },
    {
      "cell_type": "code",
      "metadata": {
        "id": "03iu8lKycBuw",
        "colab_type": "code",
        "colab": {
          "base_uri": "https://localhost:8080/",
          "height": 34
        },
        "outputId": "f15fc4f4-edf0-4046-80c5-e5997db4ef61"
      },
      "source": [
        "x = 100\n",
        "\n",
        "def f ():\n",
        "    global x\n",
        "    x = 200\n",
        "\n",
        "f()\n",
        "print (x)"
      ],
      "execution_count": 13,
      "outputs": [
        {
          "output_type": "stream",
          "text": [
            "200\n"
          ],
          "name": "stdout"
        }
      ]
    },
    {
      "cell_type": "code",
      "metadata": {
        "id": "jc9KBNF9dT9v",
        "colab_type": "code",
        "colab": {
          "base_uri": "https://localhost:8080/",
          "height": 34
        },
        "outputId": "d8bc99bc-e83b-4ace-f21a-cc62d872987d"
      },
      "source": [
        "x = 100\n",
        "\n",
        "def f (x):\n",
        "    return 200\n",
        "\n",
        "x = f (x)\n",
        "\n",
        "print (x)"
      ],
      "execution_count": 14,
      "outputs": [
        {
          "output_type": "stream",
          "text": [
            "200\n"
          ],
          "name": "stdout"
        }
      ]
    },
    {
      "cell_type": "markdown",
      "metadata": {
        "id": "uUmYZJRdqFkI",
        "colab_type": "text"
      },
      "source": [
        "# `len()` について\n",
        "\n",
        "Python では `len()` は関数で引数に文字列を取る。文字列オブジェクトに `length()` というメソッドはない。"
      ]
    },
    {
      "cell_type": "code",
      "metadata": {
        "id": "-gfBZFbrqJLk",
        "colab_type": "code",
        "colab": {}
      },
      "source": [
        "# Python の組み込み関数を取得、表示する\n",
        "# dir(__builtins__)"
      ],
      "execution_count": null,
      "outputs": []
    },
    {
      "cell_type": "markdown",
      "metadata": {
        "id": "8yFw_aHvq8ed",
        "colab_type": "text"
      },
      "source": [
        "# p. 54\n"
      ]
    }
  ]
}