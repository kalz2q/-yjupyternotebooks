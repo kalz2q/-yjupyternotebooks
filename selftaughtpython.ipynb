{
  "nbformat": 4,
  "nbformat_minor": 0,
  "metadata": {
    "colab": {
      "name": "selftaughtpython.ipynb",
      "provenance": [],
      "authorship_tag": "ABX9TyP2RxEZq9oSAWdiuussFY8C",
      "include_colab_link": true
    },
    "kernelspec": {
      "name": "python3",
      "display_name": "Python 3"
    }
  },
  "cells": [
    {
      "cell_type": "markdown",
      "metadata": {
        "id": "view-in-github",
        "colab_type": "text"
      },
      "source": [
        "<a href=\"https://colab.research.google.com/github/kalz2q/mycolabnotebooks/blob/master/selftaughtpython.ipynb\" target=\"_parent\"><img src=\"https://colab.research.google.com/assets/colab-badge.svg\" alt=\"Open In Colab\"/></a>"
      ]
    },
    {
      "cell_type": "code",
      "metadata": {
        "id": "vfdEXXYLZaow",
        "colab_type": "code",
        "colab": {}
      },
      "source": [
        ""
      ],
      "execution_count": null,
      "outputs": []
    },
    {
      "cell_type": "markdown",
      "metadata": {
        "id": "6lWv_RsvZbnl",
        "colab_type": "text"
      },
      "source": [
        "# メモ\n",
        "\n",
        "1. The self-taught Programmer by Cory Althoff を読むのに使ったノートブック。\n",
        "1. とりあえず Python の入門書をいろいろ読んでいるところ。\n"
      ]
    },
    {
      "cell_type": "code",
      "metadata": {
        "id": "ri-1ZfWsaW2C",
        "colab_type": "code",
        "colab": {}
      },
      "source": [
        "for i in range (10):\n",
        "    print (\"Hello, World!\")"
      ],
      "execution_count": null,
      "outputs": []
    },
    {
      "cell_type": "markdown",
      "metadata": {
        "id": "-3SquzNEake2",
        "colab_type": "text"
      },
      "source": [
        "# 最初のプログラム\n",
        "\n",
        "上のがこの本の最初のプログラム。\n",
        "ハローワールドを10回繰り返す。\n",
        "`for i in range(10)` は普通の `i=0` でスタートして `while i<10` の間、`i++` というのと違いすこし関数的な考え方。\n",
        "あと、`print()` で改行もされることもここでわかる。\n",
        "\n",
        "Python はほんとはインデントがスペース2個なのだが、4個入っているね。まあいいか。\n"
      ]
    }
  ]
}