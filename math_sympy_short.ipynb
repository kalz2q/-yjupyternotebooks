{
  "nbformat": 4,
  "nbformat_minor": 0,
  "metadata": {
    "colab": {
      "name": "math_sympy_short.ipynb",
      "provenance": [],
      "toc_visible": true,
      "authorship_tag": "ABX9TyM+r9DnpOnKPw6/AxjzxKys",
      "include_colab_link": true
    },
    "kernelspec": {
      "name": "python3",
      "display_name": "Python 3"
    },
    "language_info": {
      "name": "python"
    }
  },
  "cells": [
    {
      "cell_type": "markdown",
      "metadata": {
        "id": "view-in-github",
        "colab_type": "text"
      },
      "source": [
        "<a href=\"https://colab.research.google.com/github/kalz2q/mycolabnotebooks/blob/master/math_sympy_short.ipynb\" target=\"_parent\"><img src=\"https://colab.research.google.com/assets/colab-badge.svg\" alt=\"Open In Colab\"/></a>"
      ]
    },
    {
      "cell_type": "markdown",
      "metadata": {
        "id": "pLsN9zM3uNQQ"
      },
      "source": [
        "# メモ\n",
        "\n",
        "数学を学ぶためになんらかの数式処理システムは必須だろう。\n",
        "\n",
        "この Colab のノートブックは Sympy という数式処理システムについての学習資料である。\n",
        "\n",
        "Colab で開き、メニューの「ドライブにコピー」で自分の環境にコピーして、セルを編集・実行しながら読むことを想定している。 自由に壊しながら学んで欲しい。"
      ]
    },
    {
      "cell_type": "markdown",
      "metadata": {
        "id": "1E47ZoekoWJ8"
      },
      "source": [
        "# Sympy による数式処理 \n"
      ]
    },
    {
      "cell_type": "markdown",
      "metadata": {
        "id": "0x_4wUFwuIy9"
      },
      "source": [
        "Sympy による数式処理でできること\n",
        "\n",
        "* 数式を扱う\n",
        "* 数式を解く\n",
        "* 数式を微積分する\n",
        "* 数式をグラフにする\n",
        "\n",
        "ほかにもいろいろできることがある。 sympy のホームページ (sympy.org) には tutorial もある。\n",
        "\n",
        "&nbsp;\n",
        "\n"
      ]
    },
    {
      "cell_type": "markdown",
      "metadata": {
        "id": "5ANn8bEQS3Ey"
      },
      "source": [
        "# sympy を使うための準備\n",
        "\n",
        "sympy は import が必要。\n",
        "\n",
        "変数も宣言が必要。 from sympy.abc import * という手もある。\n",
        "\n",
        "print の代わりに display を使うと latex で表示してくれる。 数学においてシンボルは大切。\n",
        "\n",
        "x に値を入れなくても x - x == 0 という演算が可能。\n",
        "\n",
        "次のコードセルを実行する。\n",
        "\n",
        "&nbsp;\n"
      ]
    },
    {
      "cell_type": "code",
      "metadata": {
        "id": "HfEx6vxKSGpP",
        "outputId": "63d150ec-f73d-4c8e-b0ee-8abfca1693f6",
        "colab": {
          "base_uri": "https://localhost:8080/",
          "height": 76
        }
      },
      "source": [
        "# sympy を使うための準備\n",
        "from sympy import *\n",
        "x = symbols ('x')\n",
        "display(x)\n",
        "display(x - x == 0)\n",
        "display(x - x)"
      ],
      "execution_count": 1,
      "outputs": [
        {
          "output_type": "display_data",
          "data": {
            "text/latex": "$\\displaystyle x$",
            "text/plain": [
              "x"
            ]
          },
          "metadata": {
            "tags": []
          }
        },
        {
          "output_type": "display_data",
          "data": {
            "text/plain": [
              "True"
            ]
          },
          "metadata": {
            "tags": []
          }
        },
        {
          "output_type": "display_data",
          "data": {
            "text/latex": "$\\displaystyle 0$",
            "text/plain": [
              "0"
            ]
          },
          "metadata": {
            "tags": []
          }
        }
      ]
    },
    {
      "cell_type": "markdown",
      "metadata": {
        "id": "qAs1JLyWoWKE"
      },
      "source": [
        "次の式を確かめてみよう。\n",
        "\n",
        "$$(a + b) ^ 2 = a ^ 2 + 2ab + b ^2$$\n",
        "\n",
        "\n",
        "&nbsp;\n"
      ]
    },
    {
      "cell_type": "code",
      "metadata": {
        "id": "MX67Kzy-oWKF",
        "outputId": "1395f009-2504-4861-98dd-2d03bf6f188e",
        "colab": {
          "base_uri": "https://localhost:8080/",
          "height": 39
        }
      },
      "source": [
        "from sympy.abc import *\n",
        "from sympy import *\n",
        "expr = (a + b) ** 2 \n",
        "display(expr)"
      ],
      "execution_count": 2,
      "outputs": [
        {
          "output_type": "display_data",
          "data": {
            "text/latex": "$\\displaystyle \\left(a + b\\right)^{2}$",
            "text/plain": [
              "(a + b)**2"
            ]
          },
          "metadata": {
            "tags": []
          }
        }
      ]
    },
    {
      "cell_type": "markdown",
      "metadata": {
        "id": "NDlsnyXrhdB4"
      },
      "source": [
        "右辺のような入れ方をするとどうなるか。"
      ]
    },
    {
      "cell_type": "code",
      "metadata": {
        "id": "WNrzt62boWKF",
        "outputId": "605aead0-7895-4d6e-9a76-464665b222db",
        "colab": {
          "base_uri": "https://localhost:8080/",
          "height": 38
        }
      },
      "source": [
        "expr2 = a**2+2*a*b+b**2\n",
        "display(expr2)"
      ],
      "execution_count": 3,
      "outputs": [
        {
          "output_type": "display_data",
          "data": {
            "text/latex": "$\\displaystyle a^{2} + 2 a b + b^{2}$",
            "text/plain": [
              "a**2 + 2*a*b + b**2"
            ]
          },
          "metadata": {
            "tags": []
          }
        }
      ]
    },
    {
      "cell_type": "markdown",
      "metadata": {
        "id": "vQM1rx2khxgl"
      },
      "source": [
        "展開 expand したり、因数分解 factor したりできる。"
      ]
    },
    {
      "cell_type": "code",
      "metadata": {
        "id": "Xo_jccQgoWKG",
        "outputId": "fc4d7db2-c2df-4e28-e03a-d0105de4aad0",
        "colab": {
          "base_uri": "https://localhost:8080/",
          "height": 38
        }
      },
      "source": [
        "display(expand(expr))"
      ],
      "execution_count": 4,
      "outputs": [
        {
          "output_type": "display_data",
          "data": {
            "text/latex": "$\\displaystyle a^{2} + 2 a b + b^{2}$",
            "text/plain": [
              "a**2 + 2*a*b + b**2"
            ]
          },
          "metadata": {
            "tags": []
          }
        }
      ]
    },
    {
      "cell_type": "code",
      "metadata": {
        "id": "l61YLF2aoWKG",
        "outputId": "9996fa4d-5d74-4f6b-f116-ba0b49cbf0d9",
        "colab": {
          "base_uri": "https://localhost:8080/",
          "height": 39
        }
      },
      "source": [
        "display(factor(expr2))"
      ],
      "execution_count": 5,
      "outputs": [
        {
          "output_type": "display_data",
          "data": {
            "text/latex": "$\\displaystyle \\left(a + b\\right)^{2}$",
            "text/plain": [
              "(a + b)**2"
            ]
          },
          "metadata": {
            "tags": []
          }
        }
      ]
    },
    {
      "cell_type": "markdown",
      "metadata": {
        "id": "YzwQuN26iLrQ"
      },
      "source": [
        "同等性を確かめる。"
      ]
    },
    {
      "cell_type": "code",
      "metadata": {
        "id": "zDmDha9CiQwP",
        "outputId": "7d038768-bea7-4efb-febe-4ce411283037",
        "colab": {
          "base_uri": "https://localhost:8080/",
          "height": 149
        }
      },
      "source": [
        "# 実験\n",
        "from sympy.abc import *\n",
        "from sympy import *\n",
        "expr = (a + b) ** 2 \n",
        "expr2 = a**2+2*a*b+b**2\n",
        "display(expr)\n",
        "display(expr2)\n",
        "display(expr == expr) # 自分自身とは同等\n",
        "display(expr == expr2) # 式の形が違えば同等ではない False\n",
        "display(expr == expand(expr))\n",
        "a=2;b=3 # 変数に値をだいにゅうしてから式を定義してみる\n",
        "expr = (a + b) ** 2 \n",
        "expr2 = a**2+2*a*b+b**2\n",
        "display(expr == expr2) # 今度は同等になった\n",
        "display(expr == expand(expr))"
      ],
      "execution_count": 6,
      "outputs": [
        {
          "output_type": "display_data",
          "data": {
            "text/latex": "$\\displaystyle \\left(a + b\\right)^{2}$",
            "text/plain": [
              "(a + b)**2"
            ]
          },
          "metadata": {
            "tags": []
          }
        },
        {
          "output_type": "display_data",
          "data": {
            "text/latex": "$\\displaystyle a^{2} + 2 a b + b^{2}$",
            "text/plain": [
              "a**2 + 2*a*b + b**2"
            ]
          },
          "metadata": {
            "tags": []
          }
        },
        {
          "output_type": "display_data",
          "data": {
            "text/plain": [
              "True"
            ]
          },
          "metadata": {
            "tags": []
          }
        },
        {
          "output_type": "display_data",
          "data": {
            "text/plain": [
              "False"
            ]
          },
          "metadata": {
            "tags": []
          }
        },
        {
          "output_type": "display_data",
          "data": {
            "text/plain": [
              "False"
            ]
          },
          "metadata": {
            "tags": []
          }
        },
        {
          "output_type": "display_data",
          "data": {
            "text/plain": [
              "True"
            ]
          },
          "metadata": {
            "tags": []
          }
        },
        {
          "output_type": "display_data",
          "data": {
            "text/plain": [
              "True"
            ]
          },
          "metadata": {
            "tags": []
          }
        }
      ]
    },
    {
      "cell_type": "markdown",
      "metadata": {
        "id": "iB0Y-I_I9BxM"
      },
      "source": [
        "上の実験からわかることは数式の形が違うと `==` は真にはならない。\n",
        "\n",
        "値が入れば、当然 `==` が真になる。"
      ]
    },
    {
      "cell_type": "markdown",
      "metadata": {
        "id": "o8fld_gAoWKH"
      },
      "source": [
        "latex という関数で latex 表現を得ることができる。"
      ]
    },
    {
      "cell_type": "code",
      "metadata": {
        "id": "e8yRwMyroWKH"
      },
      "source": [
        "from sympy.abc import *\n",
        "from sympy import *\n",
        "expr = (a + b) ** 2 \n",
        "latex(expand(expr))"
      ],
      "execution_count": null,
      "outputs": []
    },
    {
      "cell_type": "markdown",
      "metadata": {
        "id": "emknTPTo9wK4"
      },
      "source": [
        "latex はテキストセルで表示できる。\n",
        "\n",
        "`a^{2} + 2 a b + b^{2}`\n",
        "$$a^{2} + 2 a b + b^{2}$$\n",
        "\n",
        "&nbsp;\n",
        "\n"
      ]
    },
    {
      "cell_type": "markdown",
      "metadata": {
        "id": "EWoNlNNpoWKH"
      },
      "source": [
        "\n",
        "**練習問題** $\\quad$ sympy を使って下記の等式を確認する。\n",
        "\n",
        "* $(a - b) ^ 2 = a ^ 2 - 2 a b + b^2$\n",
        "* $a ^ 2 - b ^ 2 = (a - b) (a + b)\\quad$ (`expand` ではなく `factor` を使ってみる)"
      ]
    },
    {
      "cell_type": "code",
      "metadata": {
        "id": "znruhx51DngS"
      },
      "source": [
        "from sympy.abc import *\n",
        "from sympy import *\n",
        "expr = (a-b)**2\n",
        "display(expr)\n",
        "display(expand(expr))"
      ],
      "execution_count": null,
      "outputs": []
    },
    {
      "cell_type": "code",
      "metadata": {
        "id": "EDs99u1uHTOA"
      },
      "source": [
        "from sympy.abc import *\n",
        "from sympy import *\n",
        "expr = a**2-b**2\n",
        "display(expr)\n",
        "display(factor(expr))"
      ],
      "execution_count": null,
      "outputs": []
    },
    {
      "cell_type": "markdown",
      "metadata": {
        "id": "D0bOLylToWKH"
      },
      "source": [
        "# 数式を解く"
      ]
    },
    {
      "cell_type": "markdown",
      "metadata": {
        "id": "mEM5-KgNoWKH"
      },
      "source": [
        "sympy を使って $x$ について、次の 2次方程式 (quadratic equasion) を解く。\n",
        "\n",
        "$$a x ^ 2 + b x + c = 0$$\n",
        "\n",
        "&nbsp;"
      ]
    },
    {
      "cell_type": "code",
      "metadata": {
        "id": "0XtZaMOKoWKI"
      },
      "source": [
        "from sympy.abc import *\n",
        "from sympy import *\n",
        "expr = a * x ** 2 + b * x + c\n",
        "display(solveset(expr,x))"
      ],
      "execution_count": null,
      "outputs": []
    },
    {
      "cell_type": "markdown",
      "metadata": {
        "id": "Y40rWElwoWKI"
      },
      "source": [
        "sympy の `solveset` は引数を 2 つ取り、第 1 引数は数式で、第 2 引数は解く対象となる変数を指定する。\n",
        "\n",
        "&nbsp;\n"
      ]
    },
    {
      "cell_type": "markdown",
      "metadata": {
        "id": "lDM_kKTPoWKI"
      },
      "source": [
        "\n",
        "**練習問題** $\\quad$ sympy を使って 3 次方程式の一般解を求める。\n",
        "\n",
        "$$a x ^ 3 + b x ^ 2 + c  x + d = 0$$\n",
        "\n",
        "&nbsp;\n"
      ]
    },
    {
      "cell_type": "code",
      "metadata": {
        "id": "09znrt6DxoM0"
      },
      "source": [
        "from sympy.abc import *\n",
        "from sympy import *\n",
        "expr = a * x ** 3 + b * x**2 + c*x + d\n",
        "display (expr)\n",
        "display(solveset(expr,x))"
      ],
      "execution_count": null,
      "outputs": []
    },
    {
      "cell_type": "markdown",
      "metadata": {
        "id": "r_fxigjVoWKJ"
      },
      "source": [
        " `solveset` に引数を足して、解の範囲 domain を指定することが可能である。\n",
        "\n",
        " 次の式の domain を $\\mathbb{R}$ として解いてみる。\n",
        "\n",
        "$$x^2=-1$$\n",
        "\n",
        "メモ $\\quad$ domain は S.Reals とかで指定する。 S の書式は dir(S) で調べられる。黒板ボールドは `\\mathbb` で表記できる。"
      ]
    },
    {
      "cell_type": "code",
      "metadata": {
        "id": "DerbvXwSoWKJ"
      },
      "source": [
        "solveset(x ** 2 + 1, x, domain=S.Reals)"
      ],
      "execution_count": null,
      "outputs": []
    },
    {
      "cell_type": "markdown",
      "metadata": {
        "id": "hHR4h7okyp0j"
      },
      "source": [
        "$\\emptyset$ は空集合の意味である。\n",
        "\n",
        "空集合は `\\emptyset` `\\varnothing` `\\phi` で表される。$\\emptyset, \\varnothing, \\phi$\n",
        "\n",
        "&nbsp;\n"
      ]
    },
    {
      "cell_type": "markdown",
      "metadata": {
        "id": "Opn_LhkdoWKJ"
      },
      "source": [
        "\n",
        "**練習問題** $\\quad$ sympy を使って次の方程式を解く\n",
        "\n",
        "* $x ^ 2 = 2$ $\\quad (x \\in \\mathbb{N})$\n",
        "* $x ^ 3 + 2 x = 0$ $\\quad (x \\in \\mathbb{R})$\n",
        "\n",
        "&nbsp;\n"
      ]
    },
    {
      "cell_type": "code",
      "metadata": {
        "id": "QqKNz4MXxXeS"
      },
      "source": [
        "from sympy.abc import *\n",
        "from sympy import *\n",
        "expr = x**2 - 2\n",
        "display (expr)\n",
        "display(solveset(expr,x,domain=S.Naturals)) # 自然数の範囲で解はないので空集合になる"
      ],
      "execution_count": null,
      "outputs": []
    },
    {
      "cell_type": "code",
      "metadata": {
        "id": "NV2RP1Ts0PFy",
        "collapsed": true
      },
      "source": [
        "from sympy.abc import *\n",
        "from sympy import *\n",
        "expr = x**3 + 2*x\n",
        "display (expr)\n",
        "display(solveset(expr,x,domain=S.Reals)) # 実数の範囲の解は 0 のみ"
      ],
      "execution_count": null,
      "outputs": []
    },
    {
      "cell_type": "markdown",
      "metadata": {
        "id": "mKSgY_wnoWKJ"
      },
      "source": [
        "# 微分積分方程式 \n",
        "symbolic calculus\n",
        "\n",
        "sympy で極限 limit を扱うことができる。\n",
        "\n",
        "次の式を考えよう。\n",
        "\n",
        "$$\\lim_{x\\to 0^+}\\frac{1}{x}$$\n",
        "\n",
        "&nbsp;\n"
      ]
    },
    {
      "cell_type": "code",
      "metadata": {
        "id": "0B3Cwf0IoWKJ",
        "collapsed": true
      },
      "source": [
        "from sympy.abc import *\n",
        "from sympy import *\n",
        "display(limit(1/x, x, 0, dir=\"+\"))"
      ],
      "execution_count": null,
      "outputs": []
    },
    {
      "cell_type": "markdown",
      "metadata": {
        "id": "F8qFzaAOoWKK"
      },
      "source": [
        "\n",
        "**練習問題** $\\quad$ 次の極限を計算する。\n",
        "\n",
        "1. $\\displaystyle \\lim_{x\\to 0^-}\\frac{1}{x}$\n",
        "2. $\\displaystyle \\lim_{x\\to 0}\\frac{1}{x^2}$\n",
        "\n",
        "&nbsp;\n"
      ]
    },
    {
      "cell_type": "code",
      "metadata": {
        "id": "WTpaaBjj_FFI"
      },
      "source": [
        "from sympy.abc import *\n",
        "from sympy import *\n",
        "display(limit(1/x, x, 0, dir=\"-\"))\n",
        "display(limit(1/x**2, x, 0))\n"
      ],
      "execution_count": null,
      "outputs": []
    },
    {
      "cell_type": "markdown",
      "metadata": {
        "id": "SPDxcS9foWKK"
      },
      "source": [
        "sympy を使って微分 differentiate/Derivative や積分 integrate/Integral ができる。\n",
        "\n",
        "次の式を微分する。\n",
        "\n",
        "$$x ^ 2 - \\cos(x)$$\n",
        "\n",
        "&nbsp;\n"
      ]
    },
    {
      "cell_type": "markdown",
      "metadata": {
        "id": "0af8x9wgBxcZ"
      },
      "source": [
        "微分方程式は `Derivative` 、微分計算は `diff`"
      ]
    },
    {
      "cell_type": "code",
      "metadata": {
        "id": "EgP0jrzioWKK"
      },
      "source": [
        "from sympy.abc import *\n",
        "from sympy import *\n",
        "expr = x**2 - cos(x)\n",
        "display(Derivative(x ** 2 - cos(x), x))\n",
        "display(Derivative(expr, x))\n",
        "display(diff(x ** 2 - cos(x), x))\n",
        "display(diff(expr, x))"
      ],
      "execution_count": null,
      "outputs": []
    },
    {
      "cell_type": "markdown",
      "metadata": {
        "id": "wM3Sa0KPoWKK"
      },
      "source": [
        "積分は Integral と integrate"
      ]
    },
    {
      "cell_type": "code",
      "metadata": {
        "id": "_GT3S_FFoWKK"
      },
      "source": [
        "from sympy.abc import *\n",
        "from sympy import *\n",
        "expr = x**2 - cos(x)\n",
        "display(expr)\n",
        "display(Integral(expr, x))\n",
        "display(integrate(expr, x))\n",
        "integrate(x ** 2 - cos(x), x)"
      ],
      "execution_count": null,
      "outputs": []
    },
    {
      "cell_type": "markdown",
      "metadata": {
        "id": "CqHQe_63oWKL"
      },
      "source": [
        "定積分は次のように行う。"
      ]
    },
    {
      "cell_type": "code",
      "metadata": {
        "id": "tXkfKIZdoWKL"
      },
      "source": [
        "from sympy.abc import *\n",
        "from sympy import *\n",
        "expr = x**2 - cos(x)\n",
        "display(Integral(expr, (x, 0, 5)))\n",
        "display(integrate(expr,  (x, 0, 5)))\n",
        "integrate(x ** 2 - cos(x), (x, 0, 5))"
      ],
      "execution_count": null,
      "outputs": []
    },
    {
      "cell_type": "markdown",
      "metadata": {
        "id": "yydO1m2ioWKL"
      },
      "source": [
        "\n",
        "\n",
        "**練習問題** $\\quad$ sympy を使って下記の式を計算する。\n",
        "\n",
        "1. $\\displaystyle \\frac{d\\sin(x ^2)}{dx}$\n",
        "2. $\\displaystyle \\frac{d(x ^2 + xy - \\ln(y))}{dy}$\n",
        "3. $\\displaystyle \\int e^x \\cos(x)\\;dx$\n",
        "4. $\\displaystyle \\int_0^5 e^{2x}\\;dx$"
      ]
    },
    {
      "cell_type": "code",
      "metadata": {
        "id": "YvgemSZeDAkH"
      },
      "source": [
        "from sympy.abc import *\n",
        "from sympy import *\n",
        "expr = sin (x**2)\n",
        "display(Derivative(expr, x))\n",
        "display(diff(expr,  x))\n"
      ],
      "execution_count": null,
      "outputs": []
    },
    {
      "cell_type": "code",
      "metadata": {
        "id": "xGPX184yDgR_"
      },
      "source": [
        "from sympy.abc import *\n",
        "from sympy import *\n",
        "expr = x**2+x*y-log(y)\n",
        "display(Derivative(expr, y))\n",
        "display(diff(expr,  y))"
      ],
      "execution_count": null,
      "outputs": []
    },
    {
      "cell_type": "code",
      "metadata": {
        "id": "MtSXbH5xECku"
      },
      "source": [
        "from sympy.abc import *\n",
        "from sympy import *\n",
        "expr = exp(x)*cos(x)\n",
        "display(expr)\n",
        "display(Integral(expr, x))\n",
        "display(integrate(expr,  x))"
      ],
      "execution_count": null,
      "outputs": []
    },
    {
      "cell_type": "code",
      "metadata": {
        "id": "PSUekO6wEYf6"
      },
      "source": [
        "from sympy.abc import *\n",
        "from sympy import *\n",
        "expr = exp(2*x)\n",
        "display(expr)\n",
        "display(Integral(expr, (x,0,5)))\n",
        "display(integrate(expr, (x,0,5)))"
      ],
      "execution_count": null,
      "outputs": []
    },
    {
      "cell_type": "markdown",
      "metadata": {
        "id": "jdlarqOcoWKN"
      },
      "source": [
        "# グラフ描画 \n",
        "\n",
        "plotting\n",
        "\n",
        "メモ $\\quad$ ここで注意。 sympy で簡易に例えば $y=x^2$ のグラフが描けるが、グラフは本来座標の範囲を決めたり、ゼロをどこに置くか、目盛りをどうするかなど面倒な設定が必要なところを裏で処理している。 \n",
        "\n",
        "裏で動いているのが matplotlib (http://matplotlib.org/)という python のライブラリーだが、これも簡易な使い方と細かく設定して使う方法がある。\n",
        "\n",
        "sympy でグラフ描画する際には matplotlib のどの機能を使っているとか、意識しながら使うのがよいと思う。\n",
        "\n",
        "numpy と matplotlib を明示的に使う\n",
        "\n",
        "&nbsp;\n"
      ]
    },
    {
      "cell_type": "markdown",
      "metadata": {
        "id": "jmZUIB1_oWKN"
      },
      "source": [
        "$x^2$ のグラフを描く"
      ]
    },
    {
      "cell_type": "code",
      "metadata": {
        "tags": [
          "nbval-ignore-output"
        ],
        "id": "3UfDa-_1oWKN"
      },
      "source": [
        "from sympy.abc import *\n",
        "from sympy import *\n",
        "expr = x ** 2\n",
        "p = plot(expr);"
      ],
      "execution_count": null,
      "outputs": []
    },
    {
      "cell_type": "markdown",
      "metadata": {
        "id": "27C4ifZ0PbKu"
      },
      "source": [
        "matplotlib と numpy では次のように描く。"
      ]
    },
    {
      "cell_type": "code",
      "metadata": {
        "id": "FHLn8pF2PYeI"
      },
      "source": [
        "import matplotlib.pyplot as plt\n",
        "import numpy as np\n",
        "x = np.linspace(-10, 10, 100) # 100に刻む\n",
        "fig, ax = plt.subplots()  # figure と ax を作る\n",
        "ax.spines['left'].set_position(('data', 0))\n",
        "ax.spines['right'].set_visible(False)\n",
        "ax.spines['top'].set_visible(False)\n",
        "ax.spines['bottom'].set_position(('data', 0))\n",
        "ax.set_xlabel('x')  # x軸のラベル\n",
        "ax.set_ylabel('f(x)')  # y軸のラベル\n",
        "ax.plot(x, x**2)  # プロットする\n",
        "plt.show()"
      ],
      "execution_count": null,
      "outputs": []
    },
    {
      "cell_type": "markdown",
      "metadata": {
        "id": "vsrLJa-IS02Y"
      },
      "source": [
        "メモ $\\quad$ xlabel や ylabel の位置はどうやって指示するのか。 \n",
        "\n",
        "座標の位置を変えるために spines を設定するのは手間が多い。 "
      ]
    },
    {
      "cell_type": "markdown",
      "metadata": {
        "id": "7EmWkXY5oWKO"
      },
      "source": [
        "テキストには pdf で保存する方法が書いてある。"
      ]
    },
    {
      "cell_type": "code",
      "metadata": {
        "tags": [
          "nbval-ignore-output"
        ],
        "id": "XLas0YmPoWKO"
      },
      "source": [
        "p.save(\"x_squared.pdf\")"
      ],
      "execution_count": null,
      "outputs": []
    },
    {
      "cell_type": "markdown",
      "metadata": {
        "id": "Mv13T7X7VW3R"
      },
      "source": [
        "メモ $\\quad$ `p.save(\"x_squared.pdf\")` で pdf を作ると同時に画面上に描画をしている。 \n",
        "\n",
        "numpy+matplotlib の `plt.savefig(\"temp.svg\", format=\"svg\")` も同じだった!!!!\n",
        "\n"
      ]
    },
    {
      "cell_type": "code",
      "metadata": {
        "id": "ZzNp1r5dU4OG"
      },
      "source": [
        "print(type(p) )\n",
        "print(type(ax))\n",
        "print(len(dir(p)))\n",
        "print(len(dir(ax)))"
      ],
      "execution_count": null,
      "outputs": []
    },
    {
      "cell_type": "markdown",
      "metadata": {
        "id": "rHoI150KZl8L"
      },
      "source": [
        "上の p と ax の dir を取ってみると圧倒的に ax の方が機能が多い。\n",
        "\n",
        "そういうことなのだろう。\n",
        "\n",
        "&nbsp;\n"
      ]
    },
    {
      "cell_type": "markdown",
      "metadata": {
        "id": "MUF7p-y1oWKO"
      },
      "source": [
        "\n",
        "**練習問題** $\\quad$ 次の関数をグラフ描画する。\n",
        "\n",
        "* $y=x + cos(x)$\n",
        "* $y=x ^ 2 - e^x$ (you might find `ylim` helpful as an argument)\n",
        "\n",
        "\n"
      ]
    },
    {
      "cell_type": "code",
      "metadata": {
        "id": "xA2XASjMduYe"
      },
      "source": [
        "from sympy.abc import *\n",
        "from sympy import *\n",
        "expr = x + cos(x)\n",
        "p = plot(expr)"
      ],
      "execution_count": null,
      "outputs": []
    },
    {
      "cell_type": "markdown",
      "metadata": {
        "id": "OfUpWfD-GhTe"
      },
      "source": [
        "同じグラフを numpy+matplotlib で描く。"
      ]
    },
    {
      "cell_type": "code",
      "metadata": {
        "id": "YHag0vFlGltu"
      },
      "source": [
        "import matplotlib.pyplot as plt\n",
        "import numpy as np\n",
        "x = np.linspace(-10, 10, 100) # 100に刻む\n",
        "fig, ax = plt.subplots()  # figure と ax を作る\n",
        "ax.spines['left'].set_position(('data', 0))\n",
        "ax.spines['right'].set_visible(False)\n",
        "ax.spines['top'].set_visible(False)\n",
        "ax.spines['bottom'].set_position(('data', 0))\n",
        "ax.set_xlabel('x')  # x軸のラベル\n",
        "ax.set_ylabel('f(x)')  # y軸のラベル\n",
        "ax.plot(x, x + np.cos(x))  # cos は numpy の cos を使うので注意\n",
        "plt.show()"
      ],
      "execution_count": null,
      "outputs": []
    },
    {
      "cell_type": "code",
      "metadata": {
        "id": "OwqNqzNsXZ8B"
      },
      "source": [
        "from sympy.abc import *\n",
        "from sympy import *\n",
        "expr = x**2 - exp(x)\n",
        "p = plot(expr, xlim=(-1,10))"
      ],
      "execution_count": null,
      "outputs": []
    },
    {
      "cell_type": "markdown",
      "metadata": {
        "id": "BQqZuoM4YCku"
      },
      "source": [
        "同じグラフを numpy+matplotlib で描く。"
      ]
    },
    {
      "cell_type": "code",
      "metadata": {
        "id": "R04F3olGYB7O"
      },
      "source": [
        "import matplotlib.pyplot as plt\n",
        "import numpy as np\n",
        "x = np.linspace(-1, 10, 100) # 100に刻む\n",
        "fig, ax = plt.subplots()  # figure と ax を作る\n",
        "ax.spines['left'].set_position(('data', 0))\n",
        "ax.spines['right'].set_visible(False)\n",
        "ax.spines['top'].set_visible(False)\n",
        "ax.spines['bottom'].set_position(('data', 0))\n",
        "ax.set_xlabel('x')  # x軸のラベル\n",
        "ax.set_ylabel('f(x)')  # y軸のラベル\n",
        "ax.plot(x, x**2 - np.exp(x))  # exp は numpy の exp を使うので注意\n",
        "plt.show()"
      ],
      "execution_count": null,
      "outputs": []
    },
    {
      "cell_type": "markdown",
      "metadata": {
        "id": "YGDWyud7n5hE"
      },
      "source": [
        "# ここから\n",
        "\n",
        "とてもコンパクトな Sympy 導入だと思う。\n",
        "\n",
        "ここから先は Sympy のホームーページの Tutorial をやるのがよいだろう。\n",
        "\n",
        "もしくは、数学のテキストで Sympy を用いているのを探してやるのがいいと思う。\n",
        "\n",
        "とか。 例示が必要だね!!!!"
      ]
    },
    {
      "cell_type": "code",
      "metadata": {
        "id": "ODz7hEZpn5Vs"
      },
      "source": [
        ""
      ],
      "execution_count": null,
      "outputs": []
    }
  ]
}