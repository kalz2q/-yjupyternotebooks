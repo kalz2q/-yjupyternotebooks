{
  "nbformat": 4,
  "nbformat_minor": 0,
  "metadata": {
    "colab": {
      "name": "kaggle04list.ipynb",
      "provenance": [],
      "toc_visible": true,
      "authorship_tag": "ABX9TyPUrspR8ZDMyLkayoebWSK6",
      "include_colab_link": true
    },
    "kernelspec": {
      "name": "python3",
      "display_name": "Python 3"
    }
  },
  "cells": [
    {
      "cell_type": "markdown",
      "metadata": {
        "id": "view-in-github",
        "colab_type": "text"
      },
      "source": [
        "<a href=\"https://colab.research.google.com/github/kalz2q/mycolabnotebooks/blob/master/kaggle04list.ipynb\" target=\"_parent\"><img src=\"https://colab.research.google.com/assets/colab-badge.svg\" alt=\"Open In Colab\"/></a>"
      ]
    },
    {
      "cell_type": "markdown",
      "metadata": {
        "id": "KXjBkc9HbCyF",
        "colab_type": "text"
      },
      "source": [
        "# kaggle04list.ipynb"
      ]
    },
    {
      "cell_type": "markdown",
      "metadata": {
        "id": "8WmzFGvm-lMw",
        "colab_type": "text"
      },
      "source": [
        "# メモ\n",
        "\n",
        "1. kaggleのPython tutorialをベスにColabのノートブックを作成している。\n",
        "1. Colabで開いて読まれることを想定。\n",
        "1. 元ファイル (\n",
        "https://www.kaggle.com/colinmorris/lists )"
      ]
    },
    {
      "cell_type": "markdown",
      "metadata": {
        "id": "kslgS1Bcc-jr",
        "colab_type": "text"
      },
      "source": [
        "\n",
        "# リスト\n",
        "\n",
        "リストはPythonでは順序のある値の列のことで、例をしめす。"
      ]
    },
    {
      "cell_type": "code",
      "metadata": {
        "id": "neBx_l_RdaBP",
        "colab_type": "code",
        "colab": {
          "base_uri": "https://localhost:8080/",
          "height": 35
        },
        "outputId": "b52a2b7b-0a9c-4ecf-84fc-e493a610bfdd"
      },
      "source": [
        "primes = [2, 3, 5, 7]\n",
        "print(primes)"
      ],
      "execution_count": null,
      "outputs": [
        {
          "output_type": "stream",
          "text": [
            "[2, 3, 5, 7]\n"
          ],
          "name": "stdout"
        }
      ]
    },
    {
      "cell_type": "markdown",
      "metadata": {
        "id": "VlJeAmKecvGW",
        "colab_type": "text"
      },
      "source": [
        "\n",
        "Pythonのリストは違う型の要素が入れられる。"
      ]
    },
    {
      "cell_type": "code",
      "metadata": {
        "id": "qoH8KDIeaXj-",
        "colab_type": "code",
        "colab": {
          "base_uri": "https://localhost:8080/",
          "height": 35
        },
        "outputId": "2268a73c-16c6-4c3b-cbee-4f0230f32b78"
      },
      "source": [
        "planets = ['Mercury', 'Venus', 'Earth', 'Mars', 'Jupiter', 'Saturn', 'Uranus', 'Neptune']\n",
        "print(planets)"
      ],
      "execution_count": null,
      "outputs": [
        {
          "output_type": "stream",
          "text": [
            "['Mercury', 'Venus', 'Earth', 'Mars', 'Jupiter', 'Saturn', 'Uranus', 'Neptune']\n"
          ],
          "name": "stdout"
        }
      ]
    },
    {
      "cell_type": "markdown",
      "metadata": {
        "id": "7i4VgJMf_FPb",
        "colab_type": "text"
      },
      "source": [
        "リストのリストが作れる。"
      ]
    },
    {
      "cell_type": "code",
      "metadata": {
        "id": "rzzB6oWtaLCl",
        "colab_type": "code",
        "colab": {
          "base_uri": "https://localhost:8080/",
          "height": 35
        },
        "outputId": "41679117-840b-4cea-bbc0-e36163ab7a2c"
      },
      "source": [
        "hands = [\n",
        "    ['J', 'Q', 'K'],\n",
        "    ['2', '2', '2'],\n",
        "    ['6', 'A', 'K'], # 最後の要素のあとにカンマがあってもかまわない\n",
        "]\n",
        "\n",
        "print(hands)"
      ],
      "execution_count": null,
      "outputs": [
        {
          "output_type": "stream",
          "text": [
            "[['J', 'Q', 'K'], ['2', '2', '2'], ['6', 'A', 'K']]\n"
          ],
          "name": "stdout"
        }
      ]
    },
    {
      "cell_type": "code",
      "metadata": {
        "id": "bWIZ4Ngtaidj",
        "colab_type": "code",
        "colab": {}
      },
      "source": [
        "# リストのリストは次のようにも書けるが読みにくい\n",
        "hands = [['J', 'Q', 'K'], ['2', '2', '2'], ['6', 'A', 'K']]"
      ],
      "execution_count": null,
      "outputs": []
    },
    {
      "cell_type": "markdown",
      "metadata": {
        "id": "M29iO8lVc2zm",
        "colab_type": "text"
      },
      "source": [
        "Pythonのリストは型の混在が可能。\n"
      ]
    },
    {
      "cell_type": "code",
      "metadata": {
        "id": "65Z3ZAwubHZC",
        "colab_type": "code",
        "colab": {
          "base_uri": "https://localhost:8080/",
          "height": 69
        },
        "outputId": "362c6757-a484-4f0c-a1d4-db1dcf0a2e2f"
      },
      "source": [
        "my_favourite_things = [32, 'raindrops on roses', help]\n",
        "# (Yes, Python's help function is *definitely* one of my favourite things)\n",
        "print(my_favourite_things)\n",
        "print(type(help))\n",
        "help"
      ],
      "execution_count": null,
      "outputs": [
        {
          "output_type": "stream",
          "text": [
            "[32, 'raindrops on roses', Type help() for interactive help, or help(object) for help about object.]\n",
            "<class '_sitebuiltins._Helper'>\n"
          ],
          "name": "stdout"
        },
        {
          "output_type": "execute_result",
          "data": {
            "text/plain": [
              "Type help() for interactive help, or help(object) for help about object."
            ]
          },
          "metadata": {
            "tags": []
          },
          "execution_count": 10
        }
      ]
    },
    {
      "cell_type": "markdown",
      "metadata": {
        "id": "TBsbOerf_iGQ",
        "colab_type": "text"
      },
      "source": [
        "### インデクス\n",
        "\n",
        "リストの要素にはカギカッコ(`square brackets`)でアクセスできる。\n",
        "\n",
        "太陽に一番近い惑星はどこか? Pythonのインデクスは0スタートなので、最初の要素はインデクス0となる。\n",
        "\n"
      ]
    },
    {
      "cell_type": "code",
      "metadata": {
        "id": "ja9ZUdC3m44t",
        "colab_type": "code",
        "colab": {
          "base_uri": "https://localhost:8080/",
          "height": 35
        },
        "outputId": "30f289e3-02b3-4b4b-8004-ab32d5480328"
      },
      "source": [
        "planets = ['Mercury', 'Venus', 'Earth', 'Mars', 'Jupiter', 'Saturn', 'Uranus', 'Neptune']\n",
        "planets[0]"
      ],
      "execution_count": null,
      "outputs": [
        {
          "output_type": "execute_result",
          "data": {
            "application/vnd.google.colaboratory.intrinsic": {
              "type": "string"
            },
            "text/plain": [
              "'Mercury'"
            ]
          },
          "metadata": {
            "tags": []
          },
          "execution_count": 11
        }
      ]
    },
    {
      "cell_type": "markdown",
      "metadata": {
        "id": "Nh-XvvLzm3GI",
        "colab_type": "text"
      },
      "source": [
        "次に近い惑星はどこか?\n"
      ]
    },
    {
      "cell_type": "code",
      "metadata": {
        "id": "Mqum4jaanLWC",
        "colab_type": "code",
        "colab": {
          "base_uri": "https://localhost:8080/",
          "height": 35
        },
        "outputId": "d9a0f4b9-ed4e-42fa-c7a0-f719f3ffc840"
      },
      "source": [
        "planets[1]"
      ],
      "execution_count": null,
      "outputs": [
        {
          "output_type": "execute_result",
          "data": {
            "application/vnd.google.colaboratory.intrinsic": {
              "type": "string"
            },
            "text/plain": [
              "'Venus'"
            ]
          },
          "metadata": {
            "tags": []
          },
          "execution_count": 12
        }
      ]
    },
    {
      "cell_type": "markdown",
      "metadata": {
        "id": "RS-g-5gJnIo9",
        "colab_type": "text"
      },
      "source": [
        "太陽から一番遠い惑星はどこか?\n",
        "\n",
        "リストの最後の要素はマイナスの数でアクセスできる。\n"
      ]
    },
    {
      "cell_type": "code",
      "metadata": {
        "id": "H7McvjOeneBx",
        "colab_type": "code",
        "colab": {
          "base_uri": "https://localhost:8080/",
          "height": 50
        },
        "outputId": "272b7f8c-4203-4e95-c5f2-a7cd7a8763ec"
      },
      "source": [
        "print(planets[-1])\n",
        "print(planets[-2])"
      ],
      "execution_count": null,
      "outputs": [
        {
          "output_type": "stream",
          "text": [
            "Neptune\n",
            "Uranus\n"
          ],
          "name": "stdout"
        }
      ]
    },
    {
      "cell_type": "markdown",
      "metadata": {
        "id": "hNQN2iTb_edz",
        "colab_type": "text"
      },
      "source": [
        "### スライス\n",
        "\n",
        "太陽から近い順に3つの惑星をリストにする。このようなときにスライシングが使える。\n"
      ]
    },
    {
      "cell_type": "code",
      "metadata": {
        "id": "5IAWi_B5oBFh",
        "colab_type": "code",
        "colab": {
          "base_uri": "https://localhost:8080/",
          "height": 34
        },
        "outputId": "0328d470-8ceb-4e3a-c514-6cc58306068e"
      },
      "source": [
        "planets = ['Mercury', 'Venus', 'Earth', 'Mars', 'Jupiter', 'Saturn', 'Uranus', 'Neptune']\n",
        "planets[0:3]"
      ],
      "execution_count": null,
      "outputs": [
        {
          "output_type": "execute_result",
          "data": {
            "text/plain": [
              "['Mercury', 'Venus', 'Earth']"
            ]
          },
          "metadata": {
            "tags": []
          },
          "execution_count": 14
        }
      ]
    },
    {
      "cell_type": "markdown",
      "metadata": {
        "id": "logbyUnpn_di",
        "colab_type": "text"
      },
      "source": [
        "planets[0:3]の意味はインデクス0から3までで、3を含まない、ということ。\n",
        "\n",
        "スタートとエンドの要素は省略可能。最初のインデクスを省略すると、0とみなされるので、前の例は次のように書ける。\n"
      ]
    },
    {
      "cell_type": "code",
      "metadata": {
        "id": "RnrwU6-aoolw",
        "colab_type": "code",
        "colab": {
          "base_uri": "https://localhost:8080/",
          "height": 34
        },
        "outputId": "fd1147d1-e18e-4ae6-e057-7f33dd0f2b6a"
      },
      "source": [
        "planets[:3]"
      ],
      "execution_count": null,
      "outputs": [
        {
          "output_type": "execute_result",
          "data": {
            "text/plain": [
              "['Mercury', 'Venus', 'Earth']"
            ]
          },
          "metadata": {
            "tags": []
          },
          "execution_count": 15
        }
      ]
    },
    {
      "cell_type": "markdown",
      "metadata": {
        "id": "S609vyLYonbl",
        "colab_type": "text"
      },
      "source": [
        "エンドのインデクスを省略すると、リストの長さを指定したことになる。\n",
        "\n"
      ]
    },
    {
      "cell_type": "code",
      "metadata": {
        "id": "kxCVALNXo4_w",
        "colab_type": "code",
        "colab": {
          "base_uri": "https://localhost:8080/",
          "height": 34
        },
        "outputId": "aaba1b00-c6ed-4889-d03d-8aec64e321eb"
      },
      "source": [
        "planets[3:]"
      ],
      "execution_count": null,
      "outputs": [
        {
          "output_type": "execute_result",
          "data": {
            "text/plain": [
              "['Mars', 'Jupiter', 'Saturn', 'Uranus', 'Neptune']"
            ]
          },
          "metadata": {
            "tags": []
          },
          "execution_count": 16
        }
      ]
    },
    {
      "cell_type": "markdown",
      "metadata": {
        "id": "dSoD_35Ao36f",
        "colab_type": "text"
      },
      "source": [
        "`planets[3:]`の意味はインデクス3から最後まで、という意味になる。\n",
        "\n",
        "スライシングにマイナスのインデクスを使うこともできる。\n"
      ]
    },
    {
      "cell_type": "code",
      "metadata": {
        "id": "4MCyDfZYpL1o",
        "colab_type": "code",
        "colab": {
          "base_uri": "https://localhost:8080/",
          "height": 34
        },
        "outputId": "4fd9af6d-d00e-45f0-90ab-dad89eb749d5"
      },
      "source": [
        "# All the planets except the first and last\n",
        "planets[1:-1]"
      ],
      "execution_count": null,
      "outputs": [
        {
          "output_type": "execute_result",
          "data": {
            "text/plain": [
              "['Venus', 'Earth', 'Mars', 'Jupiter', 'Saturn', 'Uranus']"
            ]
          },
          "metadata": {
            "tags": []
          },
          "execution_count": 17
        }
      ]
    },
    {
      "cell_type": "code",
      "metadata": {
        "id": "l6DfbNaOpRKX",
        "colab_type": "code",
        "colab": {
          "base_uri": "https://localhost:8080/",
          "height": 34
        },
        "outputId": "cb04a9a7-8327-46d5-b382-7fc3779cd77b"
      },
      "source": [
        "# The last 3 planets\n",
        "planets[-3:]"
      ],
      "execution_count": null,
      "outputs": [
        {
          "output_type": "execute_result",
          "data": {
            "text/plain": [
              "['Saturn', 'Uranus', 'Neptune']"
            ]
          },
          "metadata": {
            "tags": []
          },
          "execution_count": 18
        }
      ]
    },
    {
      "cell_type": "markdown",
      "metadata": {
        "id": "bLHiNCYq_3E1",
        "colab_type": "text"
      },
      "source": [
        "### リストの更新\n",
        "\n",
        "リストは可変(`mutable`)である。その意味はコピーを作らずその場でそのものを更新できる、ということ。\n",
        "\n",
        "インデクスやスライス式で値を入れることでリストを更新できる。\n",
        "\n",
        "例えば火星(`Mars`)の名前を変えたいとしよう。\n",
        "\n"
      ]
    },
    {
      "cell_type": "code",
      "metadata": {
        "id": "Y38EaklOuzJr",
        "colab_type": "code",
        "colab": {
          "base_uri": "https://localhost:8080/",
          "height": 151
        },
        "outputId": "53c51a03-dbf1-46f3-9e67-d7f6718ab91c"
      },
      "source": [
        "planets[3] = 'Malacandra'\n",
        "planets"
      ],
      "execution_count": null,
      "outputs": [
        {
          "output_type": "execute_result",
          "data": {
            "text/plain": [
              "['Mercury',\n",
              " 'Venus',\n",
              " 'Earth',\n",
              " 'Malacandra',\n",
              " 'Jupiter',\n",
              " 'Saturn',\n",
              " 'Uranus',\n",
              " 'Neptune']"
            ]
          },
          "metadata": {
            "tags": []
          },
          "execution_count": 19
        }
      ]
    },
    {
      "cell_type": "markdown",
      "metadata": {
        "id": "XxkhzMBWuxqa",
        "colab_type": "text"
      },
      "source": [
        "最初の3つの惑星の名前を短くしてみよう。\n"
      ]
    },
    {
      "cell_type": "code",
      "metadata": {
        "id": "3l-yMmZqvEtW",
        "colab_type": "code",
        "colab": {
          "base_uri": "https://localhost:8080/",
          "height": 34
        },
        "outputId": "956c36fd-046a-484d-aaf6-77cfd1b8a1f9"
      },
      "source": [
        "planets[:3] = ['Mur', 'Vee', 'Ur']\n",
        "print(planets)"
      ],
      "execution_count": null,
      "outputs": [
        {
          "output_type": "stream",
          "text": [
            "['Mur', 'Vee', 'Ur', 'Malacandra', 'Jupiter', 'Saturn', 'Uranus', 'Neptune']\n"
          ],
          "name": "stdout"
        }
      ]
    },
    {
      "cell_type": "code",
      "metadata": {
        "id": "KfzK-axxvOYD",
        "colab_type": "code",
        "colab": {
          "base_uri": "https://localhost:8080/",
          "height": 34
        },
        "outputId": "f6ba144a-2725-470b-f320-086666ac6d44"
      },
      "source": [
        "# That was silly. Let's give them back their old names\n",
        "planets[:4] = ['Mercury', 'Venus', 'Earth', 'Mars',]\n",
        "planets"
      ],
      "execution_count": null,
      "outputs": [
        {
          "output_type": "execute_result",
          "data": {
            "text/plain": [
              "['Mercury', 'Venus', 'Earth', 'Mars', 'Jupiter', 'Saturn', 'Uranus', 'Neptune']"
            ]
          },
          "metadata": {
            "tags": []
          },
          "execution_count": 22
        }
      ]
    },
    {
      "cell_type": "markdown",
      "metadata": {
        "id": "LYrANVAkAB0E",
        "colab_type": "text"
      },
      "source": [
        "### リスト関数\n",
        "\n",
        "Pythonのリストを扱う便利な関数を見ていこう。\n",
        "\n",
        "`len`はリストの長さを返す。"
      ]
    },
    {
      "cell_type": "code",
      "metadata": {
        "id": "DK06qFbTvwLU",
        "colab_type": "code",
        "colab": {
          "base_uri": "https://localhost:8080/",
          "height": 34
        },
        "outputId": "ceb9ae97-83db-4ddd-a00c-5710cbf08b9c"
      },
      "source": [
        "# How many planets are there?\n",
        "len(planets)"
      ],
      "execution_count": null,
      "outputs": [
        {
          "output_type": "execute_result",
          "data": {
            "text/plain": [
              "8"
            ]
          },
          "metadata": {
            "tags": []
          },
          "execution_count": 23
        }
      ]
    },
    {
      "cell_type": "markdown",
      "metadata": {
        "id": "Wcf9LBwjvrHr",
        "colab_type": "text"
      },
      "source": [
        "`sorted`はリストのソートしたものを返す。\n"
      ]
    },
    {
      "cell_type": "code",
      "metadata": {
        "id": "JG2ZkhIiwJ92",
        "colab_type": "code",
        "colab": {
          "base_uri": "https://localhost:8080/",
          "height": 34
        },
        "outputId": "4847a704-4ba9-4c42-d907-d45c8bf40978"
      },
      "source": [
        "# The planets sorted in alphabetical order\n",
        "sorted(planets)"
      ],
      "execution_count": null,
      "outputs": [
        {
          "output_type": "execute_result",
          "data": {
            "text/plain": [
              "['Earth', 'Jupiter', 'Mars', 'Mercury', 'Neptune', 'Saturn', 'Uranus', 'Venus']"
            ]
          },
          "metadata": {
            "tags": []
          },
          "execution_count": 24
        }
      ]
    },
    {
      "cell_type": "markdown",
      "metadata": {
        "id": "uplvvHgwwG4_",
        "colab_type": "text"
      },
      "source": [
        "`sum`は数値の合計を返す。\n"
      ]
    },
    {
      "cell_type": "code",
      "metadata": {
        "id": "tLpQofQewWGP",
        "colab_type": "code",
        "colab": {}
      },
      "source": [
        "primes = [2, 3, 5, 7]\n",
        "sum(primes)"
      ],
      "execution_count": null,
      "outputs": []
    },
    {
      "cell_type": "markdown",
      "metadata": {
        "id": "G3phy0f_wUGD",
        "colab_type": "text"
      },
      "source": [
        "`min`と`max`が複数の引数の最小と最大を返すのは以前に見たが、リストを引数として渡すこともできる。\n"
      ]
    },
    {
      "cell_type": "code",
      "metadata": {
        "id": "YeaLbGDHwttm",
        "colab_type": "code",
        "colab": {
          "base_uri": "https://localhost:8080/",
          "height": 34
        },
        "outputId": "b1b4186d-02fc-47f3-9edd-f919b695d1ad"
      },
      "source": [
        "max(primes)"
      ],
      "execution_count": null,
      "outputs": [
        {
          "output_type": "execute_result",
          "data": {
            "text/plain": [
              "7"
            ]
          },
          "metadata": {
            "tags": []
          },
          "execution_count": 25
        }
      ]
    },
    {
      "cell_type": "code",
      "metadata": {
        "id": "tQZxZdbhwxrQ",
        "colab_type": "code",
        "colab": {
          "base_uri": "https://localhost:8080/",
          "height": 35
        },
        "outputId": "5e902b5b-a918-4a80-d817-80a5c32213db"
      },
      "source": [
        "min(planets)"
      ],
      "execution_count": null,
      "outputs": [
        {
          "output_type": "execute_result",
          "data": {
            "application/vnd.google.colaboratory.intrinsic": {
              "type": "string"
            },
            "text/plain": [
              "'Earth'"
            ]
          },
          "metadata": {
            "tags": []
          },
          "execution_count": 27
        }
      ]
    },
    {
      "cell_type": "markdown",
      "metadata": {
        "id": "XAGWRjoDANuy",
        "colab_type": "text"
      },
      "source": [
        "### 補足: オブジェクト\n",
        "\n",
        "いままで`object`という言葉を使ってきた。Pythonではすべてが`object`である、という言い方を聞いたことがあるかもしれない。いったいどういう意味なのか?\n",
        "\n",
        "オブジェクトはなんらかの性質をもっている物であり、その性質にアクセするためにドット・シンタクスがある。\n",
        "\n",
        "例えば、Pythonの数値は`imag`と呼ばれる虚数部分を表す変数を持っていて、次のようにアクセスする。\n"
      ]
    },
    {
      "cell_type": "code",
      "metadata": {
        "id": "GMAS0B1P8NAw",
        "colab_type": "code",
        "colab": {
          "base_uri": "https://localhost:8080/",
          "height": 34
        },
        "outputId": "1458ad60-7e10-4686-b854-f1531c85b476"
      },
      "source": [
        "x = 12\n",
        "# x is a real number, so its imaginary part is 0.\n",
        "print(x.imag)"
      ],
      "execution_count": null,
      "outputs": [
        {
          "output_type": "stream",
          "text": [
            "0\n"
          ],
          "name": "stdout"
        }
      ]
    },
    {
      "cell_type": "code",
      "metadata": {
        "id": "OWvsHBZ98aIL",
        "colab_type": "code",
        "colab": {
          "base_uri": "https://localhost:8080/",
          "height": 34
        },
        "outputId": "5d8a5f01-8b51-45f4-b5ab-27358622b210"
      },
      "source": [
        "# Here's how to make a complex number, in case you've ever been curious:\n",
        "c = 12 + 3j\n",
        "print(c.imag)"
      ],
      "execution_count": null,
      "outputs": [
        {
          "output_type": "stream",
          "text": [
            "3.0\n"
          ],
          "name": "stdout"
        }
      ]
    },
    {
      "cell_type": "markdown",
      "metadata": {
        "id": "3gGYtzW08Ki4",
        "colab_type": "text"
      },
      "source": [
        "オブジェクトは関数を持っていていて、オブジェクトに付属する関数のことはメソッドと呼ばれる。`imag`のようなファンクションでないオブジェクトの性質は属性(`attributes`)と呼ぶ。\n",
        "\n",
        "例えば、数値は`bit_length`というメソッドを持っていて、次のように使う。\n"
      ]
    },
    {
      "cell_type": "code",
      "metadata": {
        "id": "Nhx_x9aN9TQA",
        "colab_type": "code",
        "colab": {
          "base_uri": "https://localhost:8080/",
          "height": 34
        },
        "outputId": "f62105b9-e883-40af-bea5-11259a9612df"
      },
      "source": [
        "x.bit_length()"
      ],
      "execution_count": null,
      "outputs": [
        {
          "output_type": "execute_result",
          "data": {
            "text/plain": [
              "4"
            ]
          },
          "metadata": {
            "tags": []
          },
          "execution_count": 33
        }
      ]
    },
    {
      "cell_type": "markdown",
      "metadata": {
        "id": "Ig9UBtzd9RqZ",
        "colab_type": "text"
      },
      "source": [
        "普通の関数の`help()`は'help(max)`のように使うが、メソッドについての`help()`は次のように呼び出す。\n"
      ]
    },
    {
      "cell_type": "code",
      "metadata": {
        "id": "-8J3NIVDBX00",
        "colab_type": "code",
        "colab": {
          "base_uri": "https://localhost:8080/",
          "height": 202
        },
        "outputId": "fa749879-c3ca-4ffa-d380-22d0b7c9efd5"
      },
      "source": [
        "help(x.bit_length)"
      ],
      "execution_count": null,
      "outputs": [
        {
          "output_type": "stream",
          "text": [
            "Help on built-in function bit_length:\n",
            "\n",
            "bit_length(...) method of builtins.int instance\n",
            "    int.bit_length() -> int\n",
            "    \n",
            "    Number of bits necessary to represent self in binary.\n",
            "    >>> bin(37)\n",
            "    '0b100101'\n",
            "    >>> (37).bit_length()\n",
            "    6\n",
            "\n"
          ],
          "name": "stdout"
        }
      ]
    },
    {
      "cell_type": "code",
      "metadata": {
        "id": "gWSzCAHVBr30",
        "colab_type": "code",
        "colab": {}
      },
      "source": [
        "# help(x.imag)"
      ],
      "execution_count": null,
      "outputs": []
    },
    {
      "cell_type": "markdown",
      "metadata": {
        "id": "hqb8WqveAh0A",
        "colab_type": "text"
      },
      "source": [
        "### リスト・メソッド\n",
        "\n",
        "`list.append`は要素をリストの最後に付け加える\n",
        "\n"
      ]
    },
    {
      "cell_type": "code",
      "metadata": {
        "id": "ja7lJtxWCZve",
        "colab_type": "code",
        "colab": {
          "base_uri": "https://localhost:8080/",
          "height": 168
        },
        "outputId": "7b33fb3a-c643-4bf2-d63a-c423a5edee84"
      },
      "source": [
        "# Pluto is a planet darn it!\n",
        "planets.append('Pluto')"
      ],
      "execution_count": null,
      "outputs": [
        {
          "output_type": "execute_result",
          "data": {
            "text/plain": [
              "['Mercury',\n",
              " 'Venus',\n",
              " 'Earth',\n",
              " 'Mars',\n",
              " 'Jupiter',\n",
              " 'Saturn',\n",
              " 'Uranus',\n",
              " 'Neptune',\n",
              " 'Pluto']"
            ]
          },
          "metadata": {
            "tags": []
          },
          "execution_count": 38
        }
      ]
    },
    {
      "cell_type": "markdown",
      "metadata": {
        "id": "2eIl3ayRCWJs",
        "colab_type": "text"
      },
      "source": [
        "`help`で、`append`のドキュメントを見てみよう。なぜアウトプットがないのか?\n"
      ]
    },
    {
      "cell_type": "code",
      "metadata": {
        "id": "zhLVXUAwCw9L",
        "colab_type": "code",
        "colab": {
          "base_uri": "https://localhost:8080/",
          "height": 101
        },
        "outputId": "d0d65a36-fa2a-4ce6-c5b6-d899df862aba"
      },
      "source": [
        "help([].append)"
      ],
      "execution_count": null,
      "outputs": [
        {
          "output_type": "stream",
          "text": [
            "Help on built-in function append:\n",
            "\n",
            "append(...) method of builtins.list instance\n",
            "    L.append(object) -> None -- append object to end\n",
            "\n"
          ],
          "name": "stdout"
        }
      ]
    },
    {
      "cell_type": "markdown",
      "metadata": {
        "id": "KQ1nWX5ZF8XT",
        "colab_type": "text"
      },
      "source": [
        "メソッド`append`はリスト型のメソッドなので、`help()`で呼び出す際にもなんらかのリストをつける必要がある。`help(append)`とするとエラーになる。そこが組み込み関数の`max`などと違うところで、`max`の場合`help(max)`で呼び出せる。\n",
        "\n",
        "`help([].append)`のドキュメントにある、`-> None`の部分が`list.append`が返り値がないことを表している。\n",
        "\n",
        "`planets`の値をチェックして、メソッドが`planets`の値を変更していることを確認しよう。\n"
      ]
    },
    {
      "cell_type": "code",
      "metadata": {
        "id": "lkPh5xCjHbYT",
        "colab_type": "code",
        "colab": {
          "base_uri": "https://localhost:8080/",
          "height": 168
        },
        "outputId": "dc504145-4194-4697-a7fb-e28f550e8bd0"
      },
      "source": [
        "planets"
      ],
      "execution_count": null,
      "outputs": [
        {
          "output_type": "execute_result",
          "data": {
            "text/plain": [
              "['Mercury',\n",
              " 'Venus',\n",
              " 'Earth',\n",
              " 'Mars',\n",
              " 'Jupiter',\n",
              " 'Saturn',\n",
              " 'Uranus',\n",
              " 'Neptune',\n",
              " 'Pluto']"
            ]
          },
          "metadata": {
            "tags": []
          },
          "execution_count": 45
        }
      ]
    },
    {
      "cell_type": "markdown",
      "metadata": {
        "id": "TfMfNHTlHZ2f",
        "colab_type": "text"
      },
      "source": [
        "`list.pop`はリストの最後の要素を削除する。\n"
      ]
    },
    {
      "cell_type": "code",
      "metadata": {
        "id": "fcjghYw-H0Ar",
        "colab_type": "code",
        "colab": {
          "base_uri": "https://localhost:8080/",
          "height": 34
        },
        "outputId": "52fd9c61-88af-47ee-b784-b770e3310c41"
      },
      "source": [
        "planets.pop()\n",
        "planets"
      ],
      "execution_count": null,
      "outputs": [
        {
          "output_type": "execute_result",
          "data": {
            "text/plain": [
              "['Mercury', 'Venus', 'Earth', 'Mars', 'Jupiter', 'Saturn', 'Uranus', 'Neptune']"
            ]
          },
          "metadata": {
            "tags": []
          },
          "execution_count": 46
        }
      ]
    },
    {
      "cell_type": "markdown",
      "metadata": {
        "id": "Ott37F9pA0Fj",
        "colab_type": "text"
      },
      "source": [
        "### リストの検索\n",
        "\n",
        "`planets`の中で`Earth`は何番目にあるか?\n",
        "\n",
        "list.indexメソッドを使ってみよう。\n"
      ]
    },
    {
      "cell_type": "code",
      "metadata": {
        "id": "zk4P4vk1ILqB",
        "colab_type": "code",
        "colab": {
          "base_uri": "https://localhost:8080/",
          "height": 34
        },
        "outputId": "502af624-8804-49ef-8106-07c165a75a9c"
      },
      "source": [
        "planets.index('Earth')"
      ],
      "execution_count": null,
      "outputs": [
        {
          "output_type": "execute_result",
          "data": {
            "text/plain": [
              "2"
            ]
          },
          "metadata": {
            "tags": []
          },
          "execution_count": 47
        }
      ]
    },
    {
      "cell_type": "markdown",
      "metadata": {
        "id": "O3LNuYb6IInj",
        "colab_type": "text"
      },
      "source": [
        "`planets`の中で`Earth`は3番目にあることがわかる。インデクスは0スタートなので、2が3番目という意味になる。\n",
        "\n"
      ]
    },
    {
      "cell_type": "code",
      "metadata": {
        "id": "DqsYTiIEIoo6",
        "colab_type": "code",
        "colab": {
          "base_uri": "https://localhost:8080/",
          "height": 182
        },
        "outputId": "29f1456a-116e-404c-d68f-a794ff6e0fd1"
      },
      "source": [
        "# 次のコードはエラーになる\n",
        "# planets.index('Pluto')"
      ],
      "execution_count": null,
      "outputs": [
        {
          "output_type": "error",
          "ename": "ValueError",
          "evalue": "ignored",
          "traceback": [
            "\u001b[0;31m---------------------------------------------------------------------------\u001b[0m",
            "\u001b[0;31mValueError\u001b[0m                                Traceback (most recent call last)",
            "\u001b[0;32m<ipython-input-49-d600ec68e024>\u001b[0m in \u001b[0;36m<module>\u001b[0;34m()\u001b[0m\n\u001b[1;32m      1\u001b[0m \u001b[0;31m# 次のコードはエラーになる\u001b[0m\u001b[0;34m\u001b[0m\u001b[0;34m\u001b[0m\u001b[0;34m\u001b[0m\u001b[0m\n\u001b[0;32m----> 2\u001b[0;31m \u001b[0mplanets\u001b[0m\u001b[0;34m.\u001b[0m\u001b[0mindex\u001b[0m\u001b[0;34m(\u001b[0m\u001b[0;34m'Pluto'\u001b[0m\u001b[0;34m)\u001b[0m\u001b[0;34m\u001b[0m\u001b[0;34m\u001b[0m\u001b[0m\n\u001b[0m",
            "\u001b[0;31mValueError\u001b[0m: 'Pluto' is not in list"
          ]
        }
      ]
    },
    {
      "cell_type": "markdown",
      "metadata": {
        "id": "yQu2R_LBIms-",
        "colab_type": "text"
      },
      "source": [
        "いま`planets`に`Pluto`は入っていないので、\n",
        "```\n",
        "planets.index('Pluto')\n",
        "```\n",
        "はエラーになり\n",
        "```\n",
        "ValueError: 'Pluto' is not in list\n",
        "```\n",
        "と言われる。\n",
        "\n",
        "事前に要素が含まれるかどうかを調べるために`in`演算子を使う。\n",
        "\n"
      ]
    },
    {
      "cell_type": "code",
      "metadata": {
        "id": "w_clMIY0JjTz",
        "colab_type": "code",
        "colab": {
          "base_uri": "https://localhost:8080/",
          "height": 34
        },
        "outputId": "843650ea-e706-4ec8-e245-85b1291e6baa"
      },
      "source": [
        "# Is Earth a planet?\n",
        "\"Earth\" in planets"
      ],
      "execution_count": null,
      "outputs": [
        {
          "output_type": "execute_result",
          "data": {
            "text/plain": [
              "True"
            ]
          },
          "metadata": {
            "tags": []
          },
          "execution_count": 50
        }
      ]
    },
    {
      "cell_type": "code",
      "metadata": {
        "id": "Rv6ZlUNcJo2S",
        "colab_type": "code",
        "colab": {
          "base_uri": "https://localhost:8080/",
          "height": 34
        },
        "outputId": "a33fc648-2a2a-4f6e-d09c-fefa5fcdaec5"
      },
      "source": [
        "# Is Calbefraques a planet?\n",
        "\"Calbefraques\" in planets"
      ],
      "execution_count": null,
      "outputs": [
        {
          "output_type": "execute_result",
          "data": {
            "text/plain": [
              "False"
            ]
          },
          "metadata": {
            "tags": []
          },
          "execution_count": 51
        }
      ]
    },
    {
      "cell_type": "markdown",
      "metadata": {
        "id": "_yxUtpCpJheo",
        "colab_type": "text"
      },
      "source": [
        "リストについてのすべてのメソッドを知るには、`help(planets)`もしくは`help([])とすればいい。\n"
      ]
    },
    {
      "cell_type": "code",
      "metadata": {
        "id": "4NZSATUeKCCI",
        "colab_type": "code",
        "colab": {}
      },
      "source": [
        "help([])"
      ],
      "execution_count": null,
      "outputs": []
    },
    {
      "cell_type": "markdown",
      "metadata": {
        "id": "NtEKrLl_J-79",
        "colab_type": "text"
      },
      "source": [
        "`__eq__`とか` __iadd__ `とか変な名前のメソッドがたくさん出てくるが、とりあえず気にしないでよい。たぶ直接使うことはなく、インデクスや比較演算子の後ろで使われているメソッドである．リストの最後の方にある、`append`、`clear`、`copy`等を学ぶのがよいだろう。\n"
      ]
    },
    {
      "cell_type": "code",
      "metadata": {
        "id": "x92NOx9yMPtu",
        "colab_type": "code",
        "colab": {
          "base_uri": "https://localhost:8080/",
          "height": 101
        },
        "outputId": "b13ed9d5-461e-4277-8922-2bdf3843d93d"
      },
      "source": [
        "help([].clear)"
      ],
      "execution_count": null,
      "outputs": [
        {
          "output_type": "stream",
          "text": [
            "Help on built-in function clear:\n",
            "\n",
            "clear(...) method of builtins.list instance\n",
            "    L.clear() -> None -- remove all items from L\n",
            "\n"
          ],
          "name": "stdout"
        }
      ]
    },
    {
      "cell_type": "code",
      "metadata": {
        "id": "D5M1iyLyMVEq",
        "colab_type": "code",
        "colab": {
          "base_uri": "https://localhost:8080/",
          "height": 101
        },
        "outputId": "52278334-6521-4401-a790-d546fc94d22b"
      },
      "source": [
        "help([].copy)"
      ],
      "execution_count": null,
      "outputs": [
        {
          "output_type": "stream",
          "text": [
            "Help on built-in function copy:\n",
            "\n",
            "copy(...) method of builtins.list instance\n",
            "    L.copy() -> list -- a shallow copy of L\n",
            "\n"
          ],
          "name": "stdout"
        }
      ]
    },
    {
      "cell_type": "markdown",
      "metadata": {
        "id": "A2rBdN0OMsPe",
        "colab_type": "text"
      },
      "source": [
        "# いまここ"
      ]
    },
    {
      "cell_type": "markdown",
      "metadata": {
        "id": "1I2TbieuBFBR",
        "colab_type": "text"
      },
      "source": [
        "# タプル\n",
        "\n",
        "タプルとリストの違いは次の2点.\n",
        "\n",
        "1. タプルを作るときにはカッコ(`parenthesis`)を使う。リストはカギカッコ(`square bracket`)。\n",
        "2. タプルは可変ではない(`immutable`)。\n",
        "\n"
      ]
    },
    {
      "cell_type": "code",
      "metadata": {
        "id": "fQjNpOhfgGYR",
        "colab_type": "code",
        "colab": {
          "base_uri": "https://localhost:8080/",
          "height": 35
        },
        "outputId": "0b223c13-7723-4fc2-e3a0-70cac5339f85"
      },
      "source": [
        "t = (1, 2, 3)\n",
        "t"
      ],
      "execution_count": 57,
      "outputs": [
        {
          "output_type": "execute_result",
          "data": {
            "text/plain": [
              "(1, 2, 3)"
            ]
          },
          "metadata": {
            "tags": []
          },
          "execution_count": 57
        }
      ]
    },
    {
      "cell_type": "code",
      "metadata": {
        "id": "E4PEgVyfgPZ2",
        "colab_type": "code",
        "colab": {
          "base_uri": "https://localhost:8080/",
          "height": 35
        },
        "outputId": "0d0bad66-b535-496e-c5d6-39d03bc9c208"
      },
      "source": [
        "t = 1, 2, 3 # t = (1, 2, 3) と同じ\n",
        "t"
      ],
      "execution_count": 58,
      "outputs": [
        {
          "output_type": "execute_result",
          "data": {
            "text/plain": [
              "(1, 2, 3)"
            ]
          },
          "metadata": {
            "tags": []
          },
          "execution_count": 58
        }
      ]
    },
    {
      "cell_type": "code",
      "metadata": {
        "id": "tDxtQCVqgaHj",
        "colab_type": "code",
        "colab": {}
      },
      "source": [
        "# タプルは変更できない\n",
        "t[0] = 100\n"
      ],
      "execution_count": null,
      "outputs": []
    },
    {
      "cell_type": "markdown",
      "metadata": {
        "id": "h8FzdFXmgDZD",
        "colab_type": "text"
      },
      "source": [
        "タプルは複数の返り値を持つ関数に使われる。\n",
        "\n",
        "例えば、`float`オブジェクトのメソッドである`as_integer_ration()`は分子と分母をタプルの形で返す。\n"
      ]
    },
    {
      "cell_type": "code",
      "metadata": {
        "id": "T6OEK0i-g_pz",
        "colab_type": "code",
        "colab": {
          "base_uri": "https://localhost:8080/",
          "height": 35
        },
        "outputId": "73294cd4-a7be-40f0-9b02-461cc1745e9e"
      },
      "source": [
        "x = 0.125\n",
        " \n",
        "x.as_integer_ratio()\n"
      ],
      "execution_count": 62,
      "outputs": [
        {
          "output_type": "execute_result",
          "data": {
            "text/plain": [
              "(1, 8)"
            ]
          },
          "metadata": {
            "tags": []
          },
          "execution_count": 62
        }
      ]
    },
    {
      "cell_type": "markdown",
      "metadata": {
        "id": "7GojnRYUhYcg",
        "colab_type": "text"
      },
      "source": [
        "結果を変数に入れるには次のようにする。"
      ]
    },
    {
      "cell_type": "code",
      "metadata": {
        "id": "W4hl0dKIhV4k",
        "colab_type": "code",
        "colab": {
          "base_uri": "https://localhost:8080/",
          "height": 35
        },
        "outputId": "456259a1-7b9b-4ddf-c1ad-2e7cd4021d79"
      },
      "source": [
        "numerator, denominator = x.as_integer_ratio()\n",
        "print(numerator / denominator)"
      ],
      "execution_count": 63,
      "outputs": [
        {
          "output_type": "stream",
          "text": [
            "0.125\n"
          ],
          "name": "stdout"
        }
      ]
    },
    {
      "cell_type": "markdown",
      "metadata": {
        "id": "K2NUzhe2g906",
        "colab_type": "text"
      },
      "source": [
        "最後になるが、有名な` Stupid Python Trick™`への洞察が深まった。\n"
      ]
    },
    {
      "cell_type": "code",
      "metadata": {
        "id": "lB_3tfodiJZ5",
        "colab_type": "code",
        "colab": {
          "base_uri": "https://localhost:8080/",
          "height": 35
        },
        "outputId": "5c6b9b4f-e5c9-47b0-d8fb-6d1324618757"
      },
      "source": [
        "a = 1\n",
        "b = 0\n",
        "a, b = b, a\n",
        "print(a, b)"
      ],
      "execution_count": 64,
      "outputs": [
        {
          "output_type": "stream",
          "text": [
            "0 1\n"
          ],
          "name": "stdout"
        }
      ]
    },
    {
      "cell_type": "markdown",
      "metadata": {
        "id": "PLlEduF7iOCm",
        "colab_type": "text"
      },
      "source": [
        "# 練習問題\n"
      ]
    },
    {
      "cell_type": "markdown",
      "metadata": {
        "id": "XVncd88rBj9q",
        "colab_type": "text"
      },
      "source": [
        "### 問題 1\n",
        "\n",
        "次の関数を`docstring`に沿って完成させる\n"
      ]
    },
    {
      "cell_type": "code",
      "metadata": {
        "id": "qF1kKqguDLrs",
        "colab_type": "code",
        "colab": {}
      },
      "source": [
        "def select_second(L):\n",
        "    \"\"\"Return the second element of the given list. If the list has no second\n",
        "    element, return None.\n",
        "    \"\"\"\n",
        "    pass"
      ],
      "execution_count": null,
      "outputs": []
    },
    {
      "cell_type": "markdown",
      "metadata": {
        "id": "sSD7r0PaDIqu",
        "colab_type": "text"
      },
      "source": [
        "\n",
        "Complete the function below according to its docstring.\n",
        "```\n",
        "def select_second(L):\n",
        "    \"\"\"Return the second element of the given list. If the list has no second\n",
        "    element, return None.\n",
        "    \"\"\"\n",
        "    pass\n",
        "```\n",
        "\n",
        "### 問題 2\n",
        "\n",
        "You are analyzing sports teams.  Members of each team are stored in a list. The Coach is the first name in the list, the captain is the second name in the list, and other players are listed after that. \n",
        "These lists are stored in another list, which starts with the best team and proceeds through the list to the worst team last.  Complete the function below to select the **captain** of the worst team.\n",
        "```\n",
        "def losing_team_captain(teams):\n",
        "    \"\"\"Given a list of teams, where each team is a list of names, return the 2nd player (captain)\n",
        "    from the last listed team\n",
        "    \"\"\"\n",
        "    pass\n",
        "```\n",
        "\n",
        "### 問題 3\n",
        "\n",
        "The next iteration of Mario Kart will feature an extra-infuriating new item, the *Purple Shell*. When used, it warps the last place racer into first place and the first place racer into last place. Complete the function below to implement the Purple Shell's effect.\n",
        "```\n",
        "def purple_shell(racers):\n",
        "    \"\"\"Given a list of racers, set the first place racer (at the front of the list) to last\n",
        "    place and vice versa.\n",
        "    \n",
        "    >>> r = [\"Mario\", \"Bowser\", \"Luigi\"]\n",
        "    >>> purple_shell(r)\n",
        "    >>> r\n",
        "    [\"Luigi\", \"Bowser\", \"Mario\"]\n",
        "    \"\"\"\n",
        "    pass\n",
        "```\n",
        "\n",
        "### 問題 4\n",
        "\n",
        "What are the lengths of the following lists? Fill in the variable `lengths` with your predictions. (Try to make a prediction for each list *without* just calling `len()` on it.)\n",
        "```\n",
        "a = [1, 2, 3]\n",
        "b = [1, [2, 3]]\n",
        "c = []\n",
        "d = [1, 2, 3][1:]\n",
        "```\n",
        "```\n",
        "# Put your predictions in the list below. Lengths should contain 4 numbers, the\n",
        "# first being the length of a, the second being the length of b and so on.\n",
        "lengths = []\n",
        "```\n",
        "\n",
        "\n",
        "### 問題 5\n",
        "\n",
        "We're using lists to record people who attended our party and what order they arrived in. For example, the following list represents a party with 7 guests, in which Adela showed up first and Ford was the last to arrive:\n",
        "```\n",
        "    party_attendees = ['Adela', 'Fleda', 'Owen', 'May', 'Mona', 'Gilbert', 'Ford']\n",
        "```\n",
        "A guest is considered 'fashionably late' if they arrived after at least half of the party's guests. However, they must not be the very last guest (that's taking it too far). In the above example, Mona and Gilbert are the only guests who were fashionably late.\n",
        "\n",
        "Complete the function below which takes a list of party attendees as well as a person, and tells us whether that person is fashionably late.\n",
        "```\n",
        "def fashionably_late(arrivals, name):\n",
        "    \"\"\"Given an ordered list of arrivals to the party and a name, return whether the guest with that\n",
        "    name was fashionably late.\n",
        "    \"\"\"\n",
        "    pass\n",
        "    ```\n"
      ]
    }
  ]
}