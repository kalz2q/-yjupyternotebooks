{
  "nbformat": 4,
  "nbformat_minor": 0,
  "metadata": {
    "colab": {
      "name": "kaggle04list.ipynb",
      "provenance": [],
      "toc_visible": true,
      "authorship_tag": "ABX9TyMxTV0y+RmEFK2d8N36EQo1",
      "include_colab_link": true
    },
    "kernelspec": {
      "name": "python3",
      "display_name": "Python 3"
    }
  },
  "cells": [
    {
      "cell_type": "markdown",
      "metadata": {
        "id": "view-in-github",
        "colab_type": "text"
      },
      "source": [
        "<a href=\"https://colab.research.google.com/github/kalz2q/mycolabnotebooks/blob/master/kaggle04list.ipynb\" target=\"_parent\"><img src=\"https://colab.research.google.com/assets/colab-badge.svg\" alt=\"Open In Colab\"/></a>"
      ]
    },
    {
      "cell_type": "markdown",
      "metadata": {
        "id": "KXjBkc9HbCyF",
        "colab_type": "text"
      },
      "source": [
        "# kaggle04list.ipynb"
      ]
    },
    {
      "cell_type": "markdown",
      "metadata": {
        "id": "8WmzFGvm-lMw",
        "colab_type": "text"
      },
      "source": [
        "# メモ\n",
        "\n",
        "1. kaggleのPython tutorialをベスにColabのノートブックを作成している。\n",
        "1. Colabで開いて読まれることを想定。\n",
        "1. 元ファイル (\n",
        "https://www.kaggle.com/colinmorris/lists )"
      ]
    },
    {
      "cell_type": "markdown",
      "metadata": {
        "id": "kslgS1Bcc-jr",
        "colab_type": "text"
      },
      "source": [
        "\n",
        "# リスト\n",
        "\n",
        "リストはPythonでは順序のある値の列のことで、例をしめす。"
      ]
    },
    {
      "cell_type": "code",
      "metadata": {
        "id": "neBx_l_RdaBP",
        "colab_type": "code",
        "colab": {
          "base_uri": "https://localhost:8080/",
          "height": 35
        },
        "outputId": "b52a2b7b-0a9c-4ecf-84fc-e493a610bfdd"
      },
      "source": [
        "primes = [2, 3, 5, 7]\n",
        "print(primes)"
      ],
      "execution_count": 4,
      "outputs": [
        {
          "output_type": "stream",
          "text": [
            "[2, 3, 5, 7]\n"
          ],
          "name": "stdout"
        }
      ]
    },
    {
      "cell_type": "markdown",
      "metadata": {
        "id": "VlJeAmKecvGW",
        "colab_type": "text"
      },
      "source": [
        "\n",
        "Pythonのリストは違う型の要素が入れられる。"
      ]
    },
    {
      "cell_type": "code",
      "metadata": {
        "id": "qoH8KDIeaXj-",
        "colab_type": "code",
        "colab": {
          "base_uri": "https://localhost:8080/",
          "height": 35
        },
        "outputId": "2268a73c-16c6-4c3b-cbee-4f0230f32b78"
      },
      "source": [
        "planets = ['Mercury', 'Venus', 'Earth', 'Mars', 'Jupiter', 'Saturn', 'Uranus', 'Neptune']\n",
        "print(planets)"
      ],
      "execution_count": 6,
      "outputs": [
        {
          "output_type": "stream",
          "text": [
            "['Mercury', 'Venus', 'Earth', 'Mars', 'Jupiter', 'Saturn', 'Uranus', 'Neptune']\n"
          ],
          "name": "stdout"
        }
      ]
    },
    {
      "cell_type": "markdown",
      "metadata": {
        "id": "7i4VgJMf_FPb",
        "colab_type": "text"
      },
      "source": [
        "リストのリストが作れる。"
      ]
    },
    {
      "cell_type": "code",
      "metadata": {
        "id": "rzzB6oWtaLCl",
        "colab_type": "code",
        "colab": {
          "base_uri": "https://localhost:8080/",
          "height": 35
        },
        "outputId": "41679117-840b-4cea-bbc0-e36163ab7a2c"
      },
      "source": [
        "hands = [\n",
        "    ['J', 'Q', 'K'],\n",
        "    ['2', '2', '2'],\n",
        "    ['6', 'A', 'K'], # 最後の要素のあとにカンマがあってもかまわない\n",
        "]\n",
        "\n",
        "print(hands)"
      ],
      "execution_count": 5,
      "outputs": [
        {
          "output_type": "stream",
          "text": [
            "[['J', 'Q', 'K'], ['2', '2', '2'], ['6', 'A', 'K']]\n"
          ],
          "name": "stdout"
        }
      ]
    },
    {
      "cell_type": "code",
      "metadata": {
        "id": "bWIZ4Ngtaidj",
        "colab_type": "code",
        "colab": {}
      },
      "source": [
        "# リストのリストは次のようにも書けるが読みにくい\n",
        "hands = [['J', 'Q', 'K'], ['2', '2', '2'], ['6', 'A', 'K']]"
      ],
      "execution_count": null,
      "outputs": []
    },
    {
      "cell_type": "markdown",
      "metadata": {
        "id": "M29iO8lVc2zm",
        "colab_type": "text"
      },
      "source": [
        "Pythonのリストは型の混在が可能。\n"
      ]
    },
    {
      "cell_type": "code",
      "metadata": {
        "id": "65Z3ZAwubHZC",
        "colab_type": "code",
        "colab": {
          "base_uri": "https://localhost:8080/",
          "height": 69
        },
        "outputId": "362c6757-a484-4f0c-a1d4-db1dcf0a2e2f"
      },
      "source": [
        "my_favourite_things = [32, 'raindrops on roses', help]\n",
        "# (Yes, Python's help function is *definitely* one of my favourite things)\n",
        "print(my_favourite_things)\n",
        "print(type(help))\n",
        "help"
      ],
      "execution_count": 10,
      "outputs": [
        {
          "output_type": "stream",
          "text": [
            "[32, 'raindrops on roses', Type help() for interactive help, or help(object) for help about object.]\n",
            "<class '_sitebuiltins._Helper'>\n"
          ],
          "name": "stdout"
        },
        {
          "output_type": "execute_result",
          "data": {
            "text/plain": [
              "Type help() for interactive help, or help(object) for help about object."
            ]
          },
          "metadata": {
            "tags": []
          },
          "execution_count": 10
        }
      ]
    },
    {
      "cell_type": "markdown",
      "metadata": {
        "id": "3XgyZQ6Qbqpi",
        "colab_type": "text"
      },
      "source": [
        "# いまここ"
      ]
    },
    {
      "cell_type": "markdown",
      "metadata": {
        "id": "TBsbOerf_iGQ",
        "colab_type": "text"
      },
      "source": [
        "### インデクス\n",
        "\n",
        "リストの要素にはカギカッコ(`square brackets`)でアクセスできる。\n",
        "\n",
        "\n",
        "You can access individual list elements with square brackets.\n",
        "\n",
        "Which planet is closest to the sun? Python uses zero-based indexing, so the first element has index 0.\n",
        "```\n",
        "planets[0]\n",
        "```\n",
        "'Mercury'\n",
        "What's the next closest planet?\n",
        "```\n",
        "planets[1]\n",
        "```\n",
        "'Venus'\n",
        "Which planet is furthest from the sun?\n",
        "\n",
        "Elements at the end of the list can be accessed with negative numbers, starting from -1:\n",
        "```\n",
        "planets[-1]\n",
        "'Neptune'\n",
        "planets[-2]\n",
        "'Uranus'\n",
        "```\n"
      ]
    },
    {
      "cell_type": "markdown",
      "metadata": {
        "id": "hNQN2iTb_edz",
        "colab_type": "text"
      },
      "source": [
        "### スライス\n",
        "\n",
        "Slicing\n",
        "What are the first three planets? We can answer this question using slicing:\n",
        "```\n",
        "planets[0:3]\n",
        "```\n",
        "['Mercury', 'Venus', 'Earth']\n",
        "planets[0:3] is our way of asking for the elements of planets starting from index 0 and continuing up to but not including index 3.\n",
        "\n",
        "The starting and ending indices are both optional. If I leave out the start index, it's assumed to be 0. So I could rewrite the expression above as:\n",
        "```\n",
        "planets[:3]\n",
        "```\n",
        "['Mercury', 'Venus', 'Earth']\n",
        "If I leave out the end index, it's assumed to be the length of the list.\n",
        "```\n",
        "planets[3:]\n",
        "```\n",
        "['Mars', 'Jupiter', 'Saturn', 'Uranus', 'Neptune']\n",
        "i.e. the expression above means \"give me all the planets from index 3 onward\".\n",
        "\n",
        "We can also use negative indices when slicing:\n",
        "```\n",
        "# All the planets except the first and last\n",
        "planets[1:-1]\n",
        "['Venus', 'Earth', 'Mars', 'Jupiter', 'Saturn', 'Uranus']\n",
        "```\n",
        "```\n",
        "# The last 3 planets\n",
        "planets[-3:]\n",
        "```\n",
        "['Saturn', 'Uranus', 'Neptune']\n",
        "\n"
      ]
    },
    {
      "cell_type": "markdown",
      "metadata": {
        "id": "bLHiNCYq_3E1",
        "colab_type": "text"
      },
      "source": [
        "### リストの更新\n",
        "\n",
        "Changing lists\n",
        "Lists are \"mutable\", meaning they can be modified \"in place\".\n",
        "\n",
        "One way to modify a list is to assign to an index or slice expression.\n",
        "\n",
        "For example, let's say we want to rename Mars:\n",
        "```\n",
        "planets[3] = 'Malacandra'\n",
        "planets\n",
        "```\n",
        "['Mercury',\n",
        " 'Venus',\n",
        " 'Earth',\n",
        " 'Malacandra',\n",
        " 'Jupiter',\n",
        " 'Saturn',\n",
        " 'Uranus',\n",
        " 'Neptune']\n",
        "Hm, that's quite a mouthful. Let's compensate by shortening the names of the first 3 planets.\n",
        "```\n",
        "planets[:3] = ['Mur', 'Vee', 'Ur']\n",
        "print(planets)\n",
        "```\n",
        "```\n",
        "# That was silly. Let's give them back their old names\n",
        "planets[:4] = ['Mercury', 'Venus', 'Earth', 'Mars',]\n",
        "['Mur', 'Vee', 'Ur', 'Malacandra', 'Jupiter', 'Saturn', 'Uranus', 'Neptune']\n",
        "```\n",
        "\n"
      ]
    },
    {
      "cell_type": "markdown",
      "metadata": {
        "id": "LYrANVAkAB0E",
        "colab_type": "text"
      },
      "source": [
        "\n",
        "### List functions\n",
        "Python has several useful functions for working with lists.\n",
        "\n",
        "len gives the length of a list:\n",
        "```\n",
        "# How many planets are there?\n",
        "len(planets)\n",
        "```\n",
        "8\n",
        "sorted returns a sorted version of a list:\n",
        "```\n",
        "# The planets sorted in alphabetical order\n",
        "sorted(planets)\n",
        "```\n",
        "['Earth', 'Jupiter', 'Mars', 'Mercury', 'Neptune', 'Saturn', 'Uranus', 'Venus']\n",
        "sum does what you might expect:\n",
        "```\n",
        "primes = [2, 3, 5, 7]\n",
        "sum(primes)\n",
        "```\n",
        "17\n",
        "We've previously used the min and max to get the minimum or maximum of several arguments. But we can also pass in a single list argument.\n",
        "```\n",
        "max(primes)\n",
        "```\n",
        "7\n"
      ]
    },
    {
      "cell_type": "markdown",
      "metadata": {
        "id": "XAGWRjoDANuy",
        "colab_type": "text"
      },
      "source": [
        "\n",
        "### Interlude: object\n",
        "\n",
        "I've used the term 'object' a lot so far - you may have even read that everything in Python is an object. What does that mean?\n",
        "\n",
        "In short, objects carry some things around with them. You access that stuff using Python's dot syntax.\n",
        "\n",
        "For example, numbers in Python carry around an associated variable called imag representing their imaginary part. (You'll probably never need to use this unless you're doing some very weird math.)\n",
        "```\n",
        "x = 12\n",
        "# x is a real number, so its imaginary part is 0.\n",
        "print(x.imag)\n",
        "```\n",
        "# Here's how to make a complex number, in case you've ever been curious:\n",
        "c = 12 + 3j\n",
        "print(c.imag)\n",
        "```\n",
        "0\n",
        "3.0\n",
        "The things an object carries around can also include functions. A function attached to an object is called a method. (Non-function things attached to an object, such as imag, are called attributes).\n",
        "\n",
        "For example, numbers have a method called bit_length. Again, we access it using dot syntax:\n",
        "```\n",
        "x.bit_length\n",
        "```\n",
        "<function int.bit_length>\n",
        "To actually call it, we add parentheses:\n",
        "```\n",
        "x.bit_length()\n",
        "```\n",
        "4\n",
        "Aside: You've actually been calling methods already if you've been doing the exercises. In the exercise notebooks q1, q2, q3, etc. are all objects which have methods called check, hint, and solution.\n",
        "\n",
        "In the same way that we can pass functions to the help function (e.g. help(max)), we can also pass in methods:\n",
        "```\n",
        "help(x.bit_length)\n",
        "```\n",
        "Help on built-in function bit_length:\n",
        "```\n",
        "bit_length(...) method of builtins.int instance\n",
        "    int.bit_length() -> int\n",
        "    \n",
        "    Number of bits necessary to represent self in binary.\n",
        "    >>> bin(37)\n",
        "    '0b100101'\n",
        "    >>> (37).bit_length()\n",
        "    6\n",
        "```\n",
        "The examples above were utterly obscure. None of the types of objects we've looked at so far (numbers, functions, booleans) have attributes or methods you're likely ever to use.\n",
        "\n",
        "But it turns out that lists have several methods which you'll use all the time.\n"
      ]
    },
    {
      "cell_type": "markdown",
      "metadata": {
        "id": "hqb8WqveAh0A",
        "colab_type": "text"
      },
      "source": [
        "\n",
        "### List methods\n",
        "list.append modifies a list by adding an item to the end:\n",
        "```\n",
        "# Pluto is a planet darn it!\n",
        "planets.append('Pluto')\n",
        "```\n",
        "Why does the cell above have no output? Let's check the documentation by calling help(planets.append).\n",
        "\n",
        "Aside: append is a method carried around by all objects of type list, not just planets, so we also could have called help(list.append). However, if we try to call help(append), Python will complain that no variable exists called \"append\". The \"append\" name only exists within lists - it doesn't exist as a standalone name like builtin functions such as max or len.\n",
        "```\n",
        "help(planets.append)\n",
        "```\n",
        "Help on built-in function append:\n",
        "\n",
        "append(...) method of builtins.list instance\n",
        "    L.append(object) -> None -- append object to end\n",
        "\n",
        "The -> None part is telling us that list.append doesn't return anything. But if we check the value of planets, we can see that the method call modified the value of planets:\n",
        "```\n",
        "planets\n",
        "['Mercury',\n",
        " 'Venus',\n",
        " 'Earth',\n",
        " 'Mars',\n",
        " 'Jupiter',\n",
        " 'Saturn',\n",
        " 'Uranus',\n",
        " 'Neptune',\n",
        " 'Pluto']\n",
        " ```\n",
        "list.pop removes and returns the last element of a list:\n",
        "```\n",
        "planets.pop()\n",
        "```\n",
        "'Pluto'\n",
        "```\n",
        "planets\n",
        "```\n",
        "['Mercury', 'Venus', 'Earth', 'Mars', 'Jupiter', 'Saturn', 'Uranus', 'Neptune']\n",
        "\n"
      ]
    },
    {
      "cell_type": "markdown",
      "metadata": {
        "id": "Ott37F9pA0Fj",
        "colab_type": "text"
      },
      "source": [
        "\n",
        "### Searching lists\n",
        "Where does Earth fall in the order of planets? We can get its index using the list.index method.\n",
        "```\n",
        "planets.index('Earth')\n",
        "```\n",
        "2\n",
        "It comes third (i.e. at index 2 - 0 indexing!).\n",
        "\n",
        "At what index does Pluto occur?\n",
        "```\n",
        "planets.index('Pluto')\n",
        "```\n",
        "---------------------------------------------------------------------------\n",
        "ValueError                                Traceback (most recent call last)\n",
        "<ipython-input-30-3a8584cba91a> in <module>()\n",
        "----> 1 planets.index('Pluto')\n",
        "\n",
        "ValueError: 'Pluto' is not in list\n",
        "Oh, that's right...\n",
        "\n",
        "To avoid unpleasant surprises like this, we can use the in operator to determine whether a list contains a particular value:\n",
        "```\n",
        "# Is Earth a planet?\n",
        "\"Earth\" in planets\n",
        "```\n",
        "True\n",
        "```\n",
        "# Is Calbefraques a planet?\n",
        "\"Calbefraques\" in planets\n",
        "```\n",
        "False\n",
        "There are a few more interesting list methods we haven't covered. If you want to learn about all the methods and attributes attached to a particular object, we can call help() on the object itself. For example, help(planets) will tell us about all the list methods:\n",
        "```\n",
        "help(planets)\n",
        "```\n",
        "Click the \"output\" button to see the full help page. Lists have lots of methods with weird-looking names like __eq__ and __iadd__. Don't worry too much about these for now. (You'll probably never call such methods directly. But they get called behind the scenes when we use syntax like indexing or comparison operators.) The most interesting methods are toward the bottom of the list (append, clear, copy, etc.).\n"
      ]
    },
    {
      "cell_type": "markdown",
      "metadata": {
        "id": "1I2TbieuBFBR",
        "colab_type": "text"
      },
      "source": [
        "\n",
        "# Tuples\n",
        "Tuples are almost exactly the same as lists. They differ in just two ways.\n",
        "\n",
        "1: The syntax for creating them uses parentheses instead of square brackets\n",
        "```\n",
        "t = (1, 2, 3)\n",
        "```\n",
        "t = 1, 2, 3 # equivalent to above\n",
        "```\n",
        "t\n",
        "```\n",
        "(1, 2, 3)\n",
        "2: They cannot be modified (they are immutable).\n",
        "```\n",
        "t[0] = 100\n",
        "```\n",
        "---------------------------------------------------------------------------\n",
        "TypeError                                 Traceback (most recent call last)\n",
        "<ipython-input-36-e6cf7836e708> in <module>()\n",
        "----> 1 t[0] = 100\n",
        "\n",
        "TypeError: 'tuple' object does not support item assignment\n",
        "Tuples are often used for functions that have multiple return values.\n",
        "\n",
        "For example, the as_integer_ratio() method of float objects returns a numerator and a denominator in the form of a tuple:\n",
        "```\n",
        "x = 0.125\n",
        "\n",
        "x.as_integer_ratio()\n",
        "```\n",
        "(1, 8)\n",
        "These multiple return values can be individually assigned as follows:\n",
        "```\n",
        "numerator, denominator = x.as_integer_ratio()\n",
        "print(numerator / denominator)\n",
        "0.125\n",
        "```\n",
        "Finally we have some insight into the classic Stupid Python Trick™ for swapping two variables!\n",
        "```\n",
        "a = 1\n",
        "b = 0\n",
        "a, b = b, a\n",
        "print(a, b)\n",
        "```\n",
        "0 1\n",
        "\n",
        "# 練習問題"
      ]
    },
    {
      "cell_type": "markdown",
      "metadata": {
        "id": "XVncd88rBj9q",
        "colab_type": "text"
      },
      "source": [
        "### 問題 1\n",
        "\n",
        "次の関数を`docstring`に沿って完成させる\n"
      ]
    },
    {
      "cell_type": "code",
      "metadata": {
        "id": "qF1kKqguDLrs",
        "colab_type": "code",
        "colab": {}
      },
      "source": [
        "def select_second(L):\n",
        "    \"\"\"Return the second element of the given list. If the list has no second\n",
        "    element, return None.\n",
        "    \"\"\"\n",
        "    pass"
      ],
      "execution_count": null,
      "outputs": []
    },
    {
      "cell_type": "markdown",
      "metadata": {
        "id": "sSD7r0PaDIqu",
        "colab_type": "text"
      },
      "source": [
        "\n",
        "Complete the function below according to its docstring.\n",
        "```\n",
        "def select_second(L):\n",
        "    \"\"\"Return the second element of the given list. If the list has no second\n",
        "    element, return None.\n",
        "    \"\"\"\n",
        "    pass\n",
        "```\n",
        "\n",
        "### 問題 2\n",
        "\n",
        "You are analyzing sports teams.  Members of each team are stored in a list. The Coach is the first name in the list, the captain is the second name in the list, and other players are listed after that. \n",
        "These lists are stored in another list, which starts with the best team and proceeds through the list to the worst team last.  Complete the function below to select the **captain** of the worst team.\n",
        "```\n",
        "def losing_team_captain(teams):\n",
        "    \"\"\"Given a list of teams, where each team is a list of names, return the 2nd player (captain)\n",
        "    from the last listed team\n",
        "    \"\"\"\n",
        "    pass\n",
        "```\n",
        "\n",
        "### 問題 3\n",
        "\n",
        "The next iteration of Mario Kart will feature an extra-infuriating new item, the *Purple Shell*. When used, it warps the last place racer into first place and the first place racer into last place. Complete the function below to implement the Purple Shell's effect.\n",
        "```\n",
        "def purple_shell(racers):\n",
        "    \"\"\"Given a list of racers, set the first place racer (at the front of the list) to last\n",
        "    place and vice versa.\n",
        "    \n",
        "    >>> r = [\"Mario\", \"Bowser\", \"Luigi\"]\n",
        "    >>> purple_shell(r)\n",
        "    >>> r\n",
        "    [\"Luigi\", \"Bowser\", \"Mario\"]\n",
        "    \"\"\"\n",
        "    pass\n",
        "```\n",
        "\n",
        "### 問題 4\n",
        "\n",
        "What are the lengths of the following lists? Fill in the variable `lengths` with your predictions. (Try to make a prediction for each list *without* just calling `len()` on it.)\n",
        "```\n",
        "a = [1, 2, 3]\n",
        "b = [1, [2, 3]]\n",
        "c = []\n",
        "d = [1, 2, 3][1:]\n",
        "```\n",
        "```\n",
        "# Put your predictions in the list below. Lengths should contain 4 numbers, the\n",
        "# first being the length of a, the second being the length of b and so on.\n",
        "lengths = []\n",
        "```\n",
        "\n",
        "\n",
        "### 問題 5\n",
        "\n",
        "We're using lists to record people who attended our party and what order they arrived in. For example, the following list represents a party with 7 guests, in which Adela showed up first and Ford was the last to arrive:\n",
        "```\n",
        "    party_attendees = ['Adela', 'Fleda', 'Owen', 'May', 'Mona', 'Gilbert', 'Ford']\n",
        "```\n",
        "A guest is considered 'fashionably late' if they arrived after at least half of the party's guests. However, they must not be the very last guest (that's taking it too far). In the above example, Mona and Gilbert are the only guests who were fashionably late.\n",
        "\n",
        "Complete the function below which takes a list of party attendees as well as a person, and tells us whether that person is fashionably late.\n",
        "```\n",
        "def fashionably_late(arrivals, name):\n",
        "    \"\"\"Given an ordered list of arrivals to the party and a name, return whether the guest with that\n",
        "    name was fashionably late.\n",
        "    \"\"\"\n",
        "    pass\n",
        "    ```\n"
      ]
    }
  ]
}