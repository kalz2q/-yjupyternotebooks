{
  "nbformat": 4,
  "nbformat_minor": 0,
  "metadata": {
    "colab": {
      "name": "colabfeatures",
      "provenance": [],
      "collapsed_sections": [],
      "toc_visible": true,
      "include_colab_link": true
    },
    "kernelspec": {
      "display_name": "Python 3",
      "name": "python3"
    }
  },
  "cells": [
    {
      "cell_type": "markdown",
      "metadata": {
        "id": "view-in-github",
        "colab_type": "text"
      },
      "source": [
        "<a href=\"https://colab.research.google.com/github/kalz2q/mycolabnotebooks/blob/master/colabfeatures.ipynb\" target=\"_parent\"><img src=\"https://colab.research.google.com/assets/colab-badge.svg\" alt=\"Open In Colab\"/></a>"
      ]
    },
    {
      "cell_type": "markdown",
      "metadata": {
        "id": "kdf8RvsKFXrJ"
      },
      "source": [
        "# メモ\n",
        "\n",
        "Colab は Web 上の Jupyter の環境である。\n",
        "\n",
        "ファイルはノートブックと呼ばれ、拡張子は ipynb (ipython notebook) で、フィアル自体はセルのリスト (json ファイル) となっている。\n",
        "\n",
        "セルは説明のテキストセルとコードセルがあり、テキストセルはマークダウンで記述し、コードセルは Python コードなどが実行できる。\n",
        "\n",
        "&nbsp;"
      ]
    },
    {
      "cell_type": "markdown",
      "metadata": {
        "id": "JyG45Qk3qQLS"
      },
      "source": [
        "# ノートの読み方\n",
        "\n",
        "1. Colab で開く \n",
        "2. 上の方のメニューでドライブにコピーを押す\n",
        "3. セルを実行しながら読む\n",
        "\n",
        "というのが基本的なノートの読み方である。\n",
        "\n",
        "&nbsp;\n",
        "\n",
        "サイトに Open in Colab (Colab で開く) ボタンがある場合は簡単に開けるが、そうでない場合は colab.research.google.com に行きそこからファイルやサイトを指定して開く。\n",
        "\n",
        "ドライブにコピー、によって自分の Colab 環境にコピーし、その後の作業、実験、を行う。 編集したファイルを自分の github レポジトリーに保存することができる。\n",
        "\n",
        "セルを実行しながら読む、というのが Colab の最大の特徴であり、インタラクティブに学べる。 実験学習ができる。 学習教材として理想的である。\n",
        "\n",
        "セルは後述するがさまざまなことができるが、制約も多い。\n",
        "\n",
        "セルはクリックすることによって選択する。\n",
        "\n",
        "&nbsp;\n"
      ]
    },
    {
      "cell_type": "markdown",
      "metadata": {
        "id": "KR921S_OQSHG"
      },
      "source": [
        "# コードセルの実行方法\n",
        "\n",
        "次のコードセルを以下のどれかの方法で実行する。 Colabがネットワークと接続されている必要がある。\n",
        "\n",
        "- 左端の丸に右向き三角の実行ボタンをクリックする\n",
        "- キーボードで Ctrl+Enter をタイプする\n",
        "- キーボードで Shift+Enter をタイプし、実行と同時にフォーカスを次のセルに移す\n",
        "- キーボードで Alt+Enter をタイプし、実行と同時に今のセルの下に新たなセルを作成する\n",
        "\n",
        "メニューのランタイムに、複数もしくは全部のセルを実行するオプションがある。\n",
        "\n",
        "&nbsp;"
      ]
    },
    {
      "cell_type": "code",
      "metadata": {
        "cellView": "both",
        "id": "WUtu4316QSHL",
        "colab": {
          "base_uri": "https://localhost:8080/"
        },
        "outputId": "0adc7e47-7e6c-4a6c-957b-650f491c1e19"
      },
      "source": [
        "a = \"よろしくっ!!!!\"\n",
        "print(a)"
      ],
      "execution_count": null,
      "outputs": [
        {
          "output_type": "stream",
          "text": [
            "よろしくっ!!!!\n"
          ],
          "name": "stdout"
        }
      ]
    },
    {
      "cell_type": "markdown",
      "metadata": {
        "id": "Id6tDF1HQSHD"
      },
      "source": [
        "# テキストセルの編集方法\n",
        "\n",
        "これはテキストセルである。\n",
        "\n",
        "テキストセルを編集するにはセルを選択して Enter を押すか、ダブルクリックする。\n",
        "\n",
        "テキストセルはマークダウンを使って書く。 \n",
        "\n",
        "数式や数学を扱うには、LaTeX (MathJax) で書くことができる。 数式を **\\$** 記号で囲む。例えば、 `$\\sqrt{3x-1}+(1+x)^2$` は\n",
        "$\\sqrt{3x-1}+(1+x)^2$ になる。\n",
        "\n",
        "htmlタグは保証されていない。 基本的には使えない。\n",
        "\n",
        "&nbsp;"
      ]
    },
    {
      "cell_type": "markdown",
      "metadata": {
        "id": "GOwlZRXEQSHZ"
      },
      "source": [
        "# Python プログラムの実行\n"
      ]
    },
    {
      "cell_type": "markdown",
      "metadata": {
        "id": "RVuqWUXPQSHa"
      },
      "source": [
        "時間のかかる処理は中断することができる。\n",
        "\n",
        "メニューのランタイム -> 実行を中断 (Cntl+M I) で処理の実行を中断できる。\n",
        "\n",
        "次のコードセルで実験する。\n"
      ]
    },
    {
      "cell_type": "code",
      "metadata": {
        "cellView": "both",
        "id": "d-S-3nYLQSHb",
        "colab": {
          "base_uri": "https://localhost:8080/"
        },
        "outputId": "e3a78844-57f4-4984-8d0d-4a980db6cea7"
      },
      "source": [
        "# 実験 time.sleep の引数を 30 にして実行し、中断してみること\n",
        "import time\n",
        "print(\"Sleeping\")\n",
        "time.sleep(1) # sleep for a while; interrupt me!\n",
        "print(\"Done Sleeping\")"
      ],
      "execution_count": null,
      "outputs": [
        {
          "output_type": "stream",
          "text": [
            "Sleeping\n",
            "Done Sleeping\n"
          ],
          "name": "stdout"
        }
      ]
    },
    {
      "cell_type": "markdown",
      "metadata": {
        "id": "Wej_mEyXQSHc"
      },
      "source": [
        "# システムコマンド (System aliases)\n",
        "\n",
        "Colab は `ls` のようなシステム処理を Colab 上で実行することができる。"
      ]
    },
    {
      "cell_type": "code",
      "metadata": {
        "cellView": "both",
        "id": "5OCYEvK5QSHf"
      },
      "source": [
        "!ls /bin"
      ],
      "execution_count": null,
      "outputs": []
    },
    {
      "cell_type": "markdown",
      "metadata": {
        "id": "y8Da6JWKQSHh"
      },
      "source": [
        "たぶん、`!ls` は大きな出力になってしまったと思う。\n",
        "\n",
        "出力を消去するには 3つの方法がある。\n",
        "\n",
        "1. 出力のセルの`(x)`ボタンをクリックする\n",
        "2. 出力セルの左側の枠を右クリックし、コンテキストメニューを表示し、\"出力を消去\"を選ぶ\n",
        "3. セルを選択し、セル上部にあるの三点メニューで\"出力を消去\"を選ぶ\n",
        "\n",
        "&nbsp;\n"
      ]
    },
    {
      "cell_type": "markdown",
      "metadata": {
        "id": "HjZrf71xVUFs"
      },
      "source": [
        "次の例では、`!`とエスケープ文字列を使って、python上の変数を処理した結果を変数に入れている。\n"
      ]
    },
    {
      "cell_type": "code",
      "metadata": {
        "cellView": "both",
        "id": "zqGrv0blQSHj",
        "colab": {
          "base_uri": "https://localhost:8080/"
        },
        "outputId": "9251efd2-4916-4bf2-81b4-ad44567580c8"
      },
      "source": [
        "message = 'Colaboratory is \\ngreat!'\n",
        "foo = !echo -e '$message\\n$message\\t$message'\n",
        "foo"
      ],
      "execution_count": null,
      "outputs": [
        {
          "output_type": "execute_result",
          "data": {
            "text/plain": [
              "['Colaboratory is ',\n",
              " 'great!',\n",
              " 'Colaboratory is ',\n",
              " 'great!\\tColaboratory is ',\n",
              " 'great!']"
            ]
          },
          "metadata": {
            "tags": []
          },
          "execution_count": 13
        }
      ]
    },
    {
      "cell_type": "code",
      "metadata": {
        "id": "TR5BB1HbVlVh",
        "colab": {
          "base_uri": "https://localhost:8080/"
        },
        "outputId": "45d24955-1faa-4b90-ffb4-8132c6903391"
      },
      "source": [
        "# 実験\n",
        "x = 3\n",
        "!echo  '$x'"
      ],
      "execution_count": null,
      "outputs": [
        {
          "output_type": "stream",
          "text": [
            "3\n"
          ],
          "name": "stdout"
        }
      ]
    },
    {
      "cell_type": "markdown",
      "metadata": {
        "id": "qM4myQGfQboQ"
      },
      "source": [
        "# マジック magic\n",
        "ColabではJupyterのマジックが使える。\n",
        "\n",
        "マジックにより、セルのテキストの処理方法を簡単に変えることができる。\n",
        "\n",
        "&nbsp;"
      ]
    },
    {
      "cell_type": "code",
      "metadata": {
        "cellView": "both",
        "id": "odfM-_GxWbCy",
        "colab": {
          "base_uri": "https://localhost:8080/",
          "height": 39
        },
        "outputId": "655f67ae-62d5-4d13-be78-f8dce12756af"
      },
      "source": [
        "# html が使える\n",
        "%%html\n",
        "<marquee style='width: 30%; color: slategrey;' behavior=\"alternate\"><b>おっとっとっと!!!!</b></marquee>"
      ],
      "execution_count": null,
      "outputs": [
        {
          "output_type": "display_data",
          "data": {
            "text/html": [
              "<marquee style='width: 30%; color: slategrey;' behavior=\"alternate\"><b>おっとっとっと!!!!</b></marquee>"
            ],
            "text/plain": [
              "<IPython.core.display.HTML object>"
            ]
          },
          "metadata": {
            "tags": []
          }
        }
      ]
    },
    {
      "cell_type": "code",
      "metadata": {
        "id": "_YrTcK7k22Fp",
        "colab": {
          "base_uri": "https://localhost:8080/",
          "height": 222
        },
        "outputId": "946afa1b-4d7b-4975-f325-7c82e238237d"
      },
      "source": [
        "# html 内で svg が使える\n",
        "%%html\n",
        "<div style=\"text-align: left;\">\n",
        "<svg xmlns=\"http://www.w3.org/2000/svg\" viewBox=\"0 0 450 400\" width=\"200\" height=\"200\">\n",
        "  <rect x=\"80\" y=\"60\" width=\"250\" height=\"250\" rx=\"40\" style=\"fill:orange; stroke:black; fill-opacity:0.7\" />\n",
        "  <rect x=\"180\" y=\"110\" width=\"250\" height=\"250\" rx=\"40\" style=\"fill:blue; stroke:black; fill-opacity:0.5;\" />\n",
        "</svg>\n",
        "</div>"
      ],
      "execution_count": null,
      "outputs": [
        {
          "output_type": "display_data",
          "data": {
            "text/html": [
              "<div style=\"text-align: left;\">\n",
              "<svg xmlns=\"http://www.w3.org/2000/svg\" viewBox=\"0 0 450 400\" width=\"200\" height=\"200\">\n",
              "  <rect x=\"80\" y=\"60\" width=\"250\" height=\"250\" rx=\"40\" style=\"fill:orange; stroke:black; fill-opacity:0.7\" />\n",
              "  <rect x=\"180\" y=\"110\" width=\"250\" height=\"250\" rx=\"40\" style=\"fill:blue; stroke:black; fill-opacity:0.5;\" />\n",
              "</svg>\n",
              "</div>"
            ],
            "text/plain": [
              "<IPython.core.display.HTML object>"
            ]
          },
          "metadata": {
            "tags": []
          }
        }
      ]
    },
    {
      "cell_type": "markdown",
      "metadata": {
        "id": "0N1nT2aljyB_"
      },
      "source": [
        "# Tab 補完とヘルプ\n",
        "\n",
        "コードセルの中では python のコマンドについて、Tab 補完が効く。 \n",
        "\n",
        "`np.random.rand(`\n",
        "\n",
        "とかで Tab を押すとポップアップドキュメントが見られる。\n",
        "\n",
        "np.random.rand?\n",
        "\n",
        "でヘルプが見られる。\n",
        "\n",
        "dir(np.random) \n",
        "\n",
        "で使えるメソッド (関数) の一覧が出力される。\n",
        "\n",
        "&nbsp;\n"
      ]
    },
    {
      "cell_type": "markdown",
      "metadata": {
        "id": "7cRnhv_7N4Pa"
      },
      "source": [
        "# matplotlib\n",
        "\n",
        "matplotlib で多彩な出力が得られる。\n",
        "\n",
        "&nbsp;"
      ]
    },
    {
      "cell_type": "code",
      "metadata": {
        "id": "JVXnTqyE9RET",
        "colab": {
          "base_uri": "https://localhost:8080/",
          "height": 281
        },
        "outputId": "a258c5ca-d4da-46ce-c6f8-c5a11fa94356"
      },
      "source": [
        "import numpy as np\n",
        "import matplotlib.pyplot as plt\n",
        "fig, ax = plt.subplots ()\n",
        "\n",
        "ys = 200 + np.random.randn(30) # randnは正規分布の乱数を生成する。標準偏差=1。括弧の中は配列の個数\n",
        "# ndarray は数値を足すことができる\n",
        "x = [x for x in range(len(ys))]\n",
        "\n",
        "ax.plot(ys, '-')\n",
        "ax.fill_between(x, ys, 195, where=(ys > 195), facecolor='g', alpha=0.3)\n",
        "\n",
        "ax.set_title(\"fll and alpha\")\n",
        "plt.show()"
      ],
      "execution_count": 3,
      "outputs": [
        {
          "output_type": "display_data",
          "data": {
            "image/png": "[encoded data removed]",
            "text/plain": [
              "<Figure size 432x288 with 1 Axes>"
            ]
          },
          "metadata": {
            "tags": [],
            "needs_background": "light"
          }
        }
      ]
    },
    {
      "cell_type": "markdown",
      "metadata": {
        "id": "aro-UJgUQSH1"
      },
      "source": [
        "# Google Drive との統合\n",
        "\n",
        "- Colab の右上の共有ボタンでノートブックへのリンクが生成される\n",
        "\n",
        "- メニューのファイル -> ドライブにコピーを保存でドライブにノートブックのコピーが作られる\n",
        "\n",
        "- メニューのファイル -> 保存でドライブに保存できる\n",
        "\n",
        "- メニューのファイル -> 変更履歴で変更履歴をみることができる\n"
      ]
    },
    {
      "cell_type": "markdown",
      "metadata": {
        "id": "ZEW13ldhchV0"
      },
      "source": [
        "# ファイルの読み書き\n"
      ]
    },
    {
      "cell_type": "markdown",
      "metadata": {
        "id": "pPON7xU_EHwO"
      },
      "source": [
        "以下はファイルの読み書きの一例\n",
        "\n",
        "セルマジックの `%%writefile` で colab 環境内にテキストファイルをつくり、 python の read() で読んでいる。"
      ]
    },
    {
      "cell_type": "code",
      "metadata": {
        "id": "sHYD4WFmdbfE",
        "colab": {
          "base_uri": "https://localhost:8080/"
        },
        "outputId": "f0322940-c85e-4772-c99a-8359615a3136"
      },
      "source": [
        "%%writefile temp.txt\n",
        "This is not a pen\n",
        "this ia an apple.\n",
        "ok"
      ],
      "execution_count": null,
      "outputs": [
        {
          "output_type": "stream",
          "text": [
            "Writing temp.txt\n"
          ],
          "name": "stdout"
        }
      ]
    },
    {
      "cell_type": "code",
      "metadata": {
        "id": "c9n1c8a6dg2q",
        "colab": {
          "base_uri": "https://localhost:8080/"
        },
        "outputId": "abbbbc42-4759-4024-9136-a46db297eadb"
      },
      "source": [
        "myfile=open('temp.txt')\n",
        "lines=myfile.read()\n",
        "print(lines)"
      ],
      "execution_count": null,
      "outputs": [
        {
          "output_type": "stream",
          "text": [
            "This is not a pen\n",
            "this ia an apple.\n",
            "ok\n"
          ],
          "name": "stdout"
        }
      ]
    },
    {
      "cell_type": "markdown",
      "metadata": {
        "id": "KKo0UkNpWu-h"
      },
      "source": [
        "# ここから\n",
        "\n",
        "お勧めは、次のようなテーマから興味あるものを浅く広く学ぶのがよいと思う。\n",
        "- markdown \n",
        "- cellmagic\n",
        "- python\n",
        "- matplotlib\n",
        "- numpy\n",
        "- sympy\n",
        "- 機械学習\n",
        "- 微分\n",
        "- 線形代数\n",
        "- pandas\n",
        "- pytorch\n",
        "- tensorflow"
      ]
    }
  ]
}