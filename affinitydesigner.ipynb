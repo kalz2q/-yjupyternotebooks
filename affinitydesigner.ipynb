{
  "nbformat": 4,
  "nbformat_minor": 0,
  "metadata": {
    "colab": {
      "name": "affinitydesigner.ipynb",
      "provenance": [],
      "authorship_tag": "ABX9TyPBjBGt6dkL56XWd6Ojgv1T",
      "include_colab_link": true
    },
    "kernelspec": {
      "name": "python3",
      "display_name": "Python 3"
    }
  },
  "cells": [
    {
      "cell_type": "markdown",
      "metadata": {
        "id": "view-in-github",
        "colab_type": "text"
      },
      "source": [
        "<a href=\"https://colab.research.google.com/github/kalz2q/mycolabnotebooks/blob/master/affinitydesigner.ipynb\" target=\"_parent\"><img src=\"https://colab.research.google.com/assets/colab-badge.svg\" alt=\"Open In Colab\"/></a>"
      ]
    },
    {
      "cell_type": "markdown",
      "metadata": {
        "id": "QbA6SE0R5vdd",
        "colab_type": "text"
      },
      "source": [
        "# メモ\n",
        "\n",
        "1. https://affinity.serif.com/ja-jp/tutorials/designer/ipad/\n",
        "1. https://inkscape.org/learn/tutorials/\n",
        "1. https://affinity.serif.com/ja-jp/tutorials/designer/desktop/\n",
        "1. http://tavmjong.free.fr/INKSCAPE/MANUAL/html/AShortExample.html\n",
        "\n",
        "affinity designer\n",
        "を使っているが、どうもうまく行っていない。なぜならば inkscape のような tutorial がないからか、と思いついた。\n",
        "\n",
        "1. inkscape のマニュアルを読みながら、affnity designer を使ってみて、ノートブックに記録を取る。\n",
        "2. affinity designer の動画マニュアルを読みながらノートブックに書く。\n",
        "\n",
        "とかあがいてみたい。\n",
        "\n",
        "目的の1つが、ウェブで使う svg 画像を入手することなので、svg 画像を表示できるこのようなノートブックが役に立つかもしれない。が基本的にはたぶんテキストセルを使う。\n"
      ]
    },
    {
      "cell_type": "markdown",
      "metadata": {
        "id": "FXmoU4So_C7Y",
        "colab_type": "text"
      },
      "source": [
        "affinity designer の動画 tutorial をリストしてみる\n",
        "1. ジェスチャー\n",
        "1. レイヤースタジオ\n",
        "1. 画像の配置\n",
        "1. 順序付け\n",
        "1. グループ化\n",
        "1. 移動、サイズ変更、回転の操作\n",
        "1. 選択\n",
        "1. クイック書き出し\n",
        "1. 取り消し、やり直し、履歴\n",
        "1. コピー、ペースト、反復複製\n",
        "1. キャンバスのパン、ズーム、回転\n",
        "1. オープンとインポート\n",
        "1. 新規作成と保存\n",
        "1. UIの概要"
      ]
    },
    {
      "cell_type": "markdown",
      "metadata": {
        "id": "jCgnCyB3DYFx",
        "colab_type": "text"
      },
      "source": [
        "### ビデオについて\n",
        "\n",
        "ビデオ、動画チュートリアルはよいのだが、その性質上、tips 集になってしまう。初めて見るときは新鮮だが、なにかを思い出したいとき、再度見ると90%が無駄になってしまう。文字列で検索できるマニュアルが必要だろう。\n",
        "\n",
        "inkscape ではごく初期から、国旗を描いてみるなど、実例を入れることによって tutorial を勧めているが、affnity designer にそのようなのはあるのか。\n",
        "\n",
        "私の今の気分としては機能など affinity designer の方がはるかに上なのに、もし ipad で inkscape がちゃんと動くなら inkscape を使いたい。まあそれは別の話なのでいまはここ affinity designer でがんばろう。\n"
      ]
    },
    {
      "cell_type": "markdown",
      "metadata": {
        "id": "U5NJLVLTGYHw",
        "colab_type": "text"
      },
      "source": [
        "# スウェーデンの旗\n",
        "\n",
        "今気づいたのだが、スウェーデンの旗の描き方は inkscape のオフィシャルな tutorial の中にはないのだね。まあいいか。\n",
        "\n",
        "手順:  \n",
        "* inkscape を起動する。\n",
        "* 描画サイズをセットする。\n",
        "* グリッド・ガイドに合わせる、をセットする。\n",
        "* 背景を描く。\n",
        "* 十字架を描く。\n",
        "* 色をセットする。\n",
        "* 保存と書き出し。\n",
        "\n"
      ]
    },
    {
      "cell_type": "markdown",
      "metadata": {
        "id": "KJnWrhK-UZES",
        "colab_type": "text"
      },
      "source": [
        "これを affinity designer でやってみる。 そのためにはもっと詳しくしないといけないね。\n",
        "\n",
        "1. サイズを16:10にするために320*200pxにする。\n",
        "2. なにか注意することがあるかチェック。\n",
        "1. グリッドにスナップするように調整。グリードを見えるようにする。\n",
        "1. グリッドスケールを20pxずつにする。\n",
        "1. 矩形ツールで縦横の線を描く。\n",
        "1. "
      ]
    },
    {
      "cell_type": "markdown",
      "metadata": {
        "id": "fFt-OdZNHcbe",
        "colab_type": "text"
      },
      "source": [
        "# ロボットを描く\n",
        "というアイデア"
      ]
    },
    {
      "cell_type": "markdown",
      "metadata": {
        "id": "VZ-r-9LDHiEM",
        "colab_type": "text"
      },
      "source": [
        ""
      ]
    },
    {
      "cell_type": "markdown",
      "metadata": {
        "id": "sm4ORdXQY-_9",
        "colab_type": "text"
      },
      "source": [
        "# Q and A\n",
        "\n",
        "グリッドを表示させる。 => 左上のドキュメントアイコン => グリッド => Show Grid\n",
        "グリッドの幅を変える。   => 左上のドキュメントアイコン => グリッド => Spacing => 数値入力\n",
        "グリッドへのスナップをオンにする。 => 左上のドキュメントアイコン => Snapping => Enable Snapping => Snap to grid。画面左下の磁石アイコン(スナッピング)をオンにする。\n",
        "矩形、円、☆を描く。 => 左のツールからシェイプツールを選ぶ。\n"
      ]
    },
    {
      "cell_type": "markdown",
      "metadata": {
        "id": "GQSurnm4xLLM",
        "colab_type": "text"
      },
      "source": [
        "\n",
        "\n",
        "*\n",
        "\n",
        "ペルソナは、ご利用のアプリケーションの範囲内で実行されるさまざまな役割のようなものと考えることができます。純粋にベクトルツールを利用したい場合は、デフォルトのデザイナーペルソナでデザインを行うことができます。さらにラスターテクスチャやピクセルブラシストロークの操作を利用する場合には、ピクセルペルソナが適しています。また、書き出しペルソナは、デザインの特定の領域を(Webや印刷などの)用途に適したグラフィックとして書き出す場合に最適です。\n",
        "\n",
        "各ペルソナについて\n",
        "以下では、それぞれのペルソナの機能を説明します。\n",
        "\n",
        "デザイナーペルソナデザイナーペルソナ\n",
        "カーブおよびシェイプを描画する\n",
        "ベクトルブラシストロークを追加する\n",
        "塗りつぶしや透明色を追加する\n",
        "アートおよびフレームテキストを作成する\n",
        "写真やベクトル画像の追加および切り抜きを行う\n",
        "ピクセルペルソナ ピクセルペルソナ\n",
        "フリーハンド、シェイプ、およびブラシベースの選択範囲を作成する\n",
        "ピクセルブラシストロークを追加する\n",
        "ピクセルブラシを使用して消去する\n",
        "専用ツールによるレタッチを行う\n",
        "書き出しペルソナ書き出しペルソナ\n",
        "エクスポート用のサイズ指定領域を選択する\n",
        "ペルソナの切り替え\n",
        "別のペルソナに切り替えると、そのペルソナで使用するツールやパネルを含む独特のワークスペースレイアウトが読み込まれます。これによって利用できるメニューも変わり、創造性を最大限に発揮するために必要なすべてのものがすぐに使えるようになります。\n",
        "\n",
        "別のペルソナに切り替えるには:\n",
        "ツールバー上で、使用するペルソナのボタンをクリックします。\n",
        "Affinity Designerのメニューから、切り替え先のペルソナを選択します。"
      ]
    }
  ]
}