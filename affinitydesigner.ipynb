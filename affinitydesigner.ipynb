{
  "nbformat": 4,
  "nbformat_minor": 0,
  "metadata": {
    "colab": {
      "name": "affinitydesigner.ipynb",
      "provenance": [],
      "toc_visible": true,
      "authorship_tag": "ABX9TyPGK38xupZvoJrASmENroqh",
      "include_colab_link": true
    },
    "kernelspec": {
      "name": "python3",
      "display_name": "Python 3"
    }
  },
  "cells": [
    {
      "cell_type": "markdown",
      "metadata": {
        "id": "view-in-github",
        "colab_type": "text"
      },
      "source": [
        "<a href=\"https://colab.research.google.com/github/kalz2q/mycolabnotebooks/blob/master/affinitydesigner.ipynb\" target=\"_parent\"><img src=\"https://colab.research.google.com/assets/colab-badge.svg\" alt=\"Open In Colab\"/></a>"
      ]
    },
    {
      "cell_type": "markdown",
      "metadata": {
        "id": "QbA6SE0R5vdd",
        "colab_type": "text"
      },
      "source": [
        "# メモ\n",
        "\n",
        "1. https://affinity.help/designer/ja.lproj/index.html\n",
        "1. https://affinity.serif.com/ja-jp/tutorials/designer/ipad/\n",
        "1. http://tavmjong.free.fr/INKSCAPE/MANUAL/html/AShortExample.html\n",
        "\n",
        "affinity designer\n",
        "を使っているが、どうもうまく行っていない。\n",
        "\n",
        "一通り動画チュートリアルを見たが、多分身についていないのだろう。使おうと思うと思い出せない。\n",
        "\n",
        "iPad の affinity designer にある help は字が小さくて読む気がしないので読んでいない。 ネット上にあるのはデスクトップ用であるが、iPad 用に読みかえながらこのノートブックにメモを取りながら読んでみよう。"
      ]
    },
    {
      "cell_type": "markdown",
      "metadata": {
        "id": "FXmoU4So_C7Y",
        "colab_type": "text"
      },
      "source": [
        "# 動画チュートリアルiPad 用\n",
        "\n",
        "1. ジェスチャ Gestures\n",
        "1. レイヤースタジオ Layers Studio\n",
        "1. 画像の配置 Placing images\n",
        "1. 位置合わせと均等配置 Align and distribute\n",
        "1. 順序付け Ordering\n",
        "1. グループ化 Grouping\n",
        "1. 移動、サイズ変更、回転の操作 Moving, resizing and rotating\n",
        "1. 選択 Selecting\n",
        "1. クイック書き出し Quick export\n",
        "1. 取り消し、やり直し、履歴 Undo, redo and history\n",
        "1. コピー、ペースト、反復複製 Copy, paste and power duplicate\n",
        "1. キャンバスのパン、ズーム、回転 Pan, zoom and rotate canvas\n",
        "1. オープンとインポート Open and import\n",
        "1. 新規作成と保存 New and save\n",
        "1. UIの概要 UI overview\n",
        "1. アセットスタジオ Assets Studio\n",
        "1. 制約 Constraints\n",
        "1. シンボル Symbols\n",
        "1. スナッピング Snapping\n",
        "1. ピクセルプレビュー用の表示モード View modes for pixel preview\n",
        "1. アートボード Artboards\n",
        "1. ベクトルブラシの管理 Managing vector brushes\n",
        "1. 高度なカラー Advanced color\n",
        "1. ストロークの編集 Editing strokes\n",
        "1. カラーピッカーツール Color Picker Tool\n",
        "1. シェイプツール Shape tools\n",
        "1. 透明性ツール Transparency Tool\n",
        "1. 塗りつぶしツール Fill Tool\n",
        "1. ペンツール Pen Tool\n",
        "1. ベクトルブラシツール Vector Brush Tool\n",
        "1. 鉛筆ツール Pencil Tool\n",
        "1. コーナーツール Corner Tool\n",
        "1. ノードツール Node Tool\n",
        "1. グラデーション Gradients\n",
        "1. 高度な曲線による描画 Advanced curve drawing\n",
        "1. ブール演算 Boolean operations\n",
        "1. スマッジツール Smudge tools\n",
        "1. ラスターブラシの管理 Managing raster brushes\n",
        "1. 高度なブラシオプション Advanced brush options\n",
        "1. 選択範囲調整ツール Refine Selection Tool\n",
        "1. 選択範囲修正ツール Selection modification tools\n",
        "1. ベタ選択 Flood selections\n",
        "1. シェイプ選択 Shape selections\n",
        "1. スマート選択ブラシツール Smart Selection Brush Tool\n",
        "1. フラッド塗りつぶしツール Flood Fill Tool\n",
        "1. 消去ブラシツール Erase Brush Tool\n",
        "1. ペイントブラシツール Paint Brush Tool\n",
        "1. ピクセルツール Pixel Tool\n",
        "1. 書き出しペルソナ - レイヤースタジオ Export Persona - Layers Studio\n",
        "1. 書き出しペルソナ - スライススタジオ Export Persona - Slices Studio\n",
        "1. スライスツール Slice Tool\n",
        "1. フォントのインポート Importing fonts\n",
        "1. パス上のテキスト Text on a path\n",
        "1. 高度なタイポグラフィ Advanced typography\n",
        "1. フレームテキストツール Frame Text Tool\n",
        "1. アートテキストツール Art Text Tool\n",
        "1. スタイル Styles\n",
        "1. ブレンドモード Blend modes\n",
        "1. 高度なレイヤーエフェクト Advanced layer effects\n",
        "1. レイヤーエフェクト Layer effects\n",
        "1. 調整のマスキング Masking adjustments\n",
        "1. 調整の適用 Applying adjustments"
      ]
    },
    {
      "cell_type": "markdown",
      "metadata": {
        "id": "tZqG-jTd26xu",
        "colab_type": "text"
      },
      "source": [
        "# 画面とヘルプ\n",
        "\n",
        "起動時の画面の右上に、新規 `+`、ヘルプ `?`、設定 (歯車アイコン)、がある。\n",
        "\n",
        "このヘルプでテキストベースの膨大なヘルプが出てくる。検索があるので、調べることができる。\n",
        "\n",
        "このテキストベースのヘルプはオンライン上にはデスクトップ用しかおいていない。オンラインにあるものは各国語に対応しているので、たぶん iPad 用は翻訳が間に合っていないのだろう。\n",
        "\n",
        "このことも含め、デスクトップ版が正で、iPad 版は機能縮小版みたいなことを書く人がいるが、iPad 版の方がはるかに手軽に使えるので、affnity には頑張って欲しいものだと思う。\n",
        "\n",
        "ドキュメントビューに入ると右下にヘルプ `?` アイコンがあって、これを押している間、画面上のツールなどのアイコンの名称が出る。\n",
        "\n",
        "リストアップしてみよう。"
      ]
    },
    {
      "cell_type": "markdown",
      "metadata": {
        "id": "sm4ORdXQY-_9",
        "colab_type": "text"
      },
      "source": [
        "# 雑 Miscellaneous\n",
        "\n",
        "* グリッドを表示させる。 => 左上のドキュメントアイコン => グリッド => Show Grid\n",
        "* グリッドの幅を変える。   => 左上のドキュメントアイコン => グリッド => Spacing => 数値入力\n",
        "* グリッドへのスナップをオンにする。 => 左上のドキュメントアイコン => Snapping => Enable Snapping => Snap to grid。画面左下の磁石アイコン(スナッピング)をオンにする。\n",
        "* シェイプとは、閉じたパスであり、始点や終点の区別がない。\n",
        "* ドキュメントの解像度 (DPI) => 画面なら 144、印刷物なら 300。\n",
        "\n"
      ]
    },
    {
      "cell_type": "markdown",
      "metadata": {
        "id": "MTBXCwlVxtE3",
        "colab_type": "text"
      },
      "source": [
        "# ノードには、次の3つの基本タイプがある。\n",
        "\n",
        "* シャープ(A)—パスの向きがセグメント間で急激に変化することで、ポイントが作成される。\n",
        "* ベジェ(スムーズ)(B)—パスはセグメント間で連続的なカーブを形成する。\n",
        "* スマート(C)—パスは連続的なカーブを形成するが、最適にフィットするラインが使用される。\n",
        "\n"
      ]
    },
    {
      "cell_type": "markdown",
      "metadata": {
        "id": "XPy6c443k8Jz",
        "colab_type": "text"
      },
      "source": [
        "# 課題 フラミンゴを描く\n",
        "\n",
        "cf. ヘルプ => カーブ、およびシェイプを描画する。"
      ]
    },
    {
      "cell_type": "markdown",
      "metadata": {
        "id": "VTkaHJKvppzo",
        "colab_type": "text"
      },
      "source": [
        "# 課題 雲と太陽を描く"
      ]
    },
    {
      "cell_type": "markdown",
      "metadata": {
        "id": "yTw6BLzBIc5L",
        "colab_type": "text"
      },
      "source": [
        "# ジェスチャー\n",
        "\n",
        "* 画面の移動 => 2本指ドラッグ\n",
        "* 拡大縮小 => ピンチアウト、ピンチイン。または、ナビゲータースタジオアイコン (コ* ンパス) を上下する。こする。\n",
        "* ズーム・トゥ・フィット => ナビゲーター・アイコンを開いて、画像をダブルクリック。\n",
        "* キャンバスの回転 => 設定 => ツール => 回転を許可 => ピンチアンドローテートで回転。* 水平に戻すのにはナビゲータースタジオで角度を0にする。\n",
        "* アンドゥー・リドゥー => 2本指タップ、3本指タップ\n",
        "* ストロークの太さを変える => ストローク・スタジオを上下にこする。\n",
        "* テキストの大きさを変える => テキスト・スタジオを上下にこする。\n",
        "* クイック・コンテキストメニューを出す => 長押し\n",
        "* 図形を動かしたり、変形したり、描いたりするとき 1本指モディファイアー、2本指モディファイアーが効く。角度の制約、縦横比の維持、センター描画、など。\n",
        "* レイヤーの選択は、レイヤースタジオでレイヤーをスワイプする。選択解除もスワイプ。日本指でタップすると範囲選択になる。\n",
        "* 画像を移動ツールでタップすると、レイヤーが選択される。レイヤーでピンチアウト、ピンチインでグループ化、アングループ化ができる。\n",
        "* 移動ツールでは2本指モディファイアーで複製ができる。\n",
        "* カラースタジオはアイコンをこするとインテンシティを変化させる。フィルとストロークは左右にスワイプでスワップできる。上下にスワイプで色なし (ノーフィル)。 \n",
        "* フィルツールのグラデーションでは1本指モディファイアーで角度を制約できる。\n",
        "* ペンツールは点で直線、ドラッグで曲線だが、1本指モディファイアーで曲線を cusp にできる。2本指モディファイアーで曲線の曲がり角度を制約する。\n",
        "* ペンツールのままノードに触れるとコントロールハンドルの調節になるが、2本指ホールドを加えると、ノードの移動になる。ノードを加えると同時に、3本指ホールドすると、ノードを作りながら場所を変えることができる。\n",
        "* ピクセルペルソナで、ペイントブラシで長押しでカラーピッカー、最後の線を描いたあと、1本指長押し+点を打つと、直線を引く。"
      ]
    },
    {
      "cell_type": "markdown",
      "metadata": {
        "id": "hIbSY4BWcHDo",
        "colab_type": "text"
      },
      "source": [
        "# レイヤースタジオ\n",
        "\n",
        "* オブジェクトごとにレイヤーができる。\n",
        "* レイヤースタジオはピンボタンをおして出しっぱなしにできる。\n",
        "* カラのレイヤーを指定のレイヤーの上に作る。名前をつける。\n",
        "* ピクセルレイヤーを加えると既存のレイヤーの中だけで、描く。レイヤーの外に出すのはレイヤースタジオでドラッグする。\n",
        "* レイヤーの図形をクリックするとそのオブジェクトにズームインする。"
      ]
    },
    {
      "cell_type": "markdown",
      "metadata": {
        "id": "eJqLrRZxZaN8",
        "colab_type": "text"
      },
      "source": [
        "# ペイントブラシツール\n",
        "\n",
        "* ペイントブラシツールはピクセルペルソナで使う。ブラシと色を選んで描き始める。\n",
        "* 最近使ったブラシというメニューもある。\n",
        "* ベクター画像のレイヤー内でペイントブラシを使うとはみ出さずに塗れる。"
      ]
    },
    {
      "cell_type": "markdown",
      "metadata": {
        "id": "PZpva9tzm9pp",
        "colab_type": "text"
      },
      "source": [
        "# 画像の配置\n",
        "\n",
        "* 左上のドキュメントメニューにある画像を配置する、というメニューを選ぶと、画像 (写真)を配置できる。\n",
        "* 左下の磁石アイコンでスナップをオンにする。\n",
        "* 矩形など図形のレイヤー内に画像レイヤーを入れると図形の形にクリップされる。"
      ]
    },
    {
      "cell_type": "markdown",
      "metadata": {
        "id": "XwFF8Gf_3t-L",
        "colab_type": "text"
      },
      "source": [
        "# 位置合わせと均等配置\n",
        "\n",
        "* 変換スタジオをタップ。一番下にアラインメントオプションがある。\n",
        "* マーキー選択は移動ツールでやるのか。できた。\n",
        "* 位置合わせ alignment と均等配置 distribution\n"
      ]
    },
    {
      "cell_type": "markdown",
      "metadata": {
        "id": "9IccKC2yJNPQ",
        "colab_type": "text"
      },
      "source": [
        "# 順序付け ordering\n",
        "\n",
        "* オブジェクト (レイヤー) の順序を変えるには、レイヤーでドラッグする。\n",
        "* もう一つの方法はレイヤーを選んだあと、トランスフォーメーションスタジオで上に上げたり、下に下げたりする。"
      ]
    },
    {
      "cell_type": "markdown",
      "metadata": {
        "id": "ZLKR4zJ7MT6e",
        "colab_type": "text"
      },
      "source": [
        "# グループ化\n",
        "\n",
        "* レイヤースタジオでタップと2本指タップで範囲を選び、左上の編集 Edit メニューでグループ化する。\n",
        "* レイヤスタジオでピンチイン、ピンチアウトが使える。"
      ]
    },
    {
      "cell_type": "markdown",
      "metadata": {
        "id": "zFqrPQyHNKOk",
        "colab_type": "text"
      },
      "source": [
        "# 移動、サイズ変更、回転の操作 Moving, resizing and rotating\n",
        "\n",
        "* 移動ツールを選ぶ。デフォルトでは最初に選ばれているツールである。\n",
        "* サイズ変更時、1本指モディファイアーでアスペクト比固定、2本指モディファイアーで中央固定、3本指で両方固定。\n",
        "* 変換スタジオで数値で移動や、頂点固定の回転ができる。"
      ]
    },
    {
      "cell_type": "markdown",
      "metadata": {
        "id": "WqlaKENmOm4j",
        "colab_type": "text"
      },
      "source": [
        "# 選択 Selecting\n",
        "\n",
        "* タップホールドして、他のオブジェクトを選ぶと複数選択になる。\n",
        "* 移動ツールで囲んだ範囲のオブジェクトが選ばれる。\n",
        "* 選択解除は左下のバツアイコン。\n",
        "* レイヤースタジオで選択することもできる。"
      ]
    },
    {
      "cell_type": "markdown",
      "metadata": {
        "id": "37PfoVLjdV-d",
        "colab_type": "text"
      },
      "source": [
        "# クイック書き出し Quick export\n",
        "\n",
        "* ドキュメントの書き出しを選択する。\n",
        "* 作品全体か選択範囲かを選べる。"
      ]
    },
    {
      "cell_type": "markdown",
      "metadata": {
        "id": "aLHe2hgjeHZF",
        "colab_type": "text"
      },
      "source": [
        "# 取り消し、やり直し、履歴\n",
        "\n",
        "* 2本指タップでアンドゥー、3本指タップでリドゥー。\n",
        "* 履歴スタジオを使うともっと手早く、明示的にヒストリー、履歴を遡れる。"
      ]
    },
    {
      "cell_type": "markdown",
      "metadata": {
        "id": "MCpzU-WzfKwj",
        "colab_type": "text"
      },
      "source": [
        "# コピー、ペースト、反復複製\n",
        "\n",
        "* オブジェクト長押しでコンテキストメニューにコピー、ペースト、カットがある。\n",
        "* 編集 Edit メニューにもある。\n",
        "* 2本指でどこかを抑えながら、オブジェクトを移動すると、複製になる。\n",
        "* 編集メニューの複製、は移動や変形も含めて複製する (パワーデュープリケイト)。"
      ]
    },
    {
      "cell_type": "markdown",
      "metadata": {
        "id": "bF_Id1QwIY1B",
        "colab_type": "text"
      },
      "source": [
        "# キャンバスのパン、ズーム、回転\n",
        "\n",
        "* まず、2本指ドラッグでキャンバス全外を動かす。\n",
        "* 拡大縮小 => ピンチアウト、ピンチイン。または、ナビゲータースタジオアイコン (コ* ンパス) を上下する。こする。\n",
        "* ナビゲータースタジオの画像ダブルタップでズーム、ズームトゥフィットのトグルなのはかなり便利。\n",
        "* ナビゲータースタジオで回転もできる。\n"
      ]
    },
    {
      "cell_type": "markdown",
      "metadata": {
        "id": "m66plSeXKYiJ",
        "colab_type": "text"
      },
      "source": [
        "# オープンとインポート\n",
        "\n",
        "* 紙のスケッチを写真に撮って、ウェルカム画面から新規作成 => 写真からインポートを選ぶとインポートされて便利。"
      ]
    },
    {
      "cell_type": "markdown",
      "metadata": {
        "id": "EnCTYzmqF0Lc",
        "colab_type": "text"
      },
      "source": [
        "# 新規作成と保存\n",
        "\n",
        "* 描いた絵は左上の戻る矢印でウエルカムスクリーンに戻ると自動的に保存される。\n",
        "* 明示的に場所や名前をつけて保存するには、左上のドキュメントメニューを使う。"
      ]
    },
    {
      "cell_type": "markdown",
      "metadata": {
        "id": "LkD-LdN1KSR6",
        "colab_type": "text"
      },
      "source": [
        "# UIの概要 \n",
        "\n",
        "上部\n",
        "* Home (左矢印) ホーム\n",
        "* Document ドキュメント\n",
        "* Edit 編集\n",
        "* Designer デザイナーペルソナ\n",
        "* Pixel ピクセルペルソナ\n",
        "* Export 書き出しペルソナ\n",
        "\n",
        "左 ツールバー\n",
        "* Move 移動ツール\n",
        "* Node ノードツール\n",
        "* Point Transform ポイント変換ツール\n",
        "* Corner コーナーツール\n",
        "* Pencil 鉛筆ツール\n",
        "* Vector Brush ベクトルブラシツール\n",
        "* Pen ペンツール\n",
        "* Fill 塗りつぶしツール\n",
        "* Transparency 透明性ツール\n",
        "* Vector Crop ベクトル切り抜きツール\n",
        "* Rectangle 矩形ツール\n",
        "* Artistic Text アーティスティックテキストツール\n",
        "* Color Picker カラーピッカーツール\n",
        "\n",
        "選択関係 (左下)\n",
        "* Deselect 選択解除\n",
        "* Snapping スナップ\n",
        "* Delete 削除\n",
        "\n",
        "右上\n",
        "* Hide UI メニューを隠す\n",
        "\n",
        "右 スタジオパネル\n",
        "* Color カラースタジオ\n",
        "* Stroke ストロークスタジオ\n",
        "* Brushes ブラシスタジオ\n",
        "* Layers レイヤースタジオ\n",
        "* Appearance 外観スタジオ\n",
        "* Assets アセットスタジオ\n",
        "* Stock ストック写真スタジオ\n",
        "* Symbols シンボルスタジオ\n",
        "* Layer レイヤーエフェクトスタジオ\n",
        "* Adjustments 調整スタジオ\n",
        "* Text テキストスタジオ\n",
        "* Transform 変換スタジオ\n",
        "* Navigator ナビゲータースタジオ\n",
        "* History 履歴スタジオ\n",
        "\n",
        "コンテキストメニュー (下)\n"
      ]
    },
    {
      "cell_type": "markdown",
      "metadata": {
        "id": "tRMFgbLdPbfm",
        "colab_type": "text"
      },
      "source": [
        "# ブール演算\n",
        "\n",
        "* ブール演算はレイヤースタジオではなく、左上の編集 Edit メニューから入る。\n"
      ]
    }
  ]
}