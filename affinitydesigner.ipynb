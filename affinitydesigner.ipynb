{
  "nbformat": 4,
  "nbformat_minor": 0,
  "metadata": {
    "colab": {
      "name": "affinitydesigner.ipynb",
      "provenance": [],
      "authorship_tag": "ABX9TyMWDaLo3yGNYO3cEQrrwqJl",
      "include_colab_link": true
    },
    "kernelspec": {
      "name": "python3",
      "display_name": "Python 3"
    }
  },
  "cells": [
    {
      "cell_type": "markdown",
      "metadata": {
        "id": "view-in-github",
        "colab_type": "text"
      },
      "source": [
        "<a href=\"https://colab.research.google.com/github/kalz2q/mycolabnotebooks/blob/master/affinitydesigner.ipynb\" target=\"_parent\"><img src=\"https://colab.research.google.com/assets/colab-badge.svg\" alt=\"Open In Colab\"/></a>"
      ]
    },
    {
      "cell_type": "markdown",
      "metadata": {
        "id": "QbA6SE0R5vdd",
        "colab_type": "text"
      },
      "source": [
        "# メモ\n",
        "\n",
        "1. https://inkscape.org/learn/tutorials/\n",
        "1. https://affinity.serif.com/ja-jp/tutorials/designer/desktop/\n",
        "1. http://tavmjong.free.fr/INKSCAPE/MANUAL/html/AShortExample.html\n",
        "\n",
        "affinity designer\n",
        "を使っているが、どうもうまく行っていない。なぜならば inkscape のような tutorial がないからか、と思いついた。\n",
        "\n",
        "1. inkscape のマニュアルを読みながら、affnity designer を使ってみて、ノートブックに記録を取る。\n",
        "2. affinity designer の動画マニュアルを読みながらノートブックに書く。\n",
        "\n",
        "とかあがいてみたい。\n",
        "\n",
        "目的の1つが、ウェブで使う svg 画像を入手することなので、svg 画像を表示できるこのようなノートブックが役に立つかもしれない。が基本的にはたぶんテキストセルを使う。\n"
      ]
    },
    {
      "cell_type": "markdown",
      "metadata": {
        "id": "FXmoU4So_C7Y",
        "colab_type": "text"
      },
      "source": [
        "affinity designer の動画 tutorial をリストしてみる\n",
        "1. ジェスチャー\n",
        "1. レイヤースタジオ\n",
        "1. 画像の配置\n",
        "1. 順序付け\n",
        "1. グループ化\n",
        "1. 移動、サイズ変更、回転の操作\n",
        "1. 選択\n",
        "1. クイック書き出し\n",
        "1. 取り消し、やり直し、履歴\n",
        "1. コピー、ペースト、反復複製\n",
        "1. キャンバスのパン、ズーム、回転\n",
        "1. オープンとインポート\n",
        "1. 新規作成と保存\n",
        "1. UIの概要"
      ]
    },
    {
      "cell_type": "markdown",
      "metadata": {
        "id": "jCgnCyB3DYFx",
        "colab_type": "text"
      },
      "source": [
        "### ビデオについて\n",
        "\n",
        "ビデオ、動画チュートリアルはよいのだが、その性質上、tips 集になってしまう。初めて見るときは新鮮だが、なにかを思い出したいとき、再度見ると90%が無駄になってしまう。文字列で検索できるマニュアルが必要だろう。\n",
        "\n",
        "inkscape ではごく初期から、国旗を描いてみるなど、実例を入れることによって tutorial を勧めているが、affnity designer にそのようなのはあるのか。\n",
        "\n",
        "私の今の気分としては機能など affinity designer の方がはるかに上なのに、もし ipad で inkscape がちゃんと動くなら inkscape を使いたい。まあそれは別の話なのでいまはここ affinity designer でがんばろう。\n"
      ]
    },
    {
      "cell_type": "markdown",
      "metadata": {
        "id": "U5NJLVLTGYHw",
        "colab_type": "text"
      },
      "source": [
        "# スウェーデンの旗\n",
        "\n",
        "今気づいたのだが、スウェーデンの旗の描き方は inkscape のオフィシャルな tutorial の中にはないのだね。まあいいか。\n",
        "\n",
        "手順:  \n",
        "* inkscape を起動する。\n",
        "* 描画サイズをセットする。\n",
        "* グリッド・ガイドに合わせる、をセットする。\n",
        "* 背景を描く。\n",
        "* 十字架を描く。\n",
        "* 色をセットする。\n",
        "* 保存と書き出し。\n",
        "\n"
      ]
    },
    {
      "cell_type": "markdown",
      "metadata": {
        "id": "KJnWrhK-UZES",
        "colab_type": "text"
      },
      "source": [
        "これを affinity designer でやってみる。 そのためにはもっと詳しくしないといけないね。\n",
        "\n",
        "1. サイズを16:10にするために320*200pxにする。\n",
        "2. なにか注意することがあるかチェック。\n",
        "1. グリッドにスナップするように調整。グリードを見えるようにする。\n",
        "1. グリッドスケールを20pxずつにする。\n",
        "1. 矩形ツールで縦横の線を描く。\n",
        "1. "
      ]
    },
    {
      "cell_type": "markdown",
      "metadata": {
        "id": "fFt-OdZNHcbe",
        "colab_type": "text"
      },
      "source": [
        "# ロボットを描く\n",
        "というアイデア"
      ]
    },
    {
      "cell_type": "markdown",
      "metadata": {
        "id": "VZ-r-9LDHiEM",
        "colab_type": "text"
      },
      "source": [
        ""
      ]
    }
  ]
}