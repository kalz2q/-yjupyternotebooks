{
  "nbformat": 4,
  "nbformat_minor": 0,
  "metadata": {
    "colab": {
      "name": "affinitydesigner.ipynb",
      "provenance": [],
      "toc_visible": true,
      "authorship_tag": "ABX9TyPfKj9J9MCQsaa8e4vVmBgl",
      "include_colab_link": true
    },
    "kernelspec": {
      "name": "python3",
      "display_name": "Python 3"
    }
  },
  "cells": [
    {
      "cell_type": "markdown",
      "metadata": {
        "id": "view-in-github",
        "colab_type": "text"
      },
      "source": [
        "<a href=\"https://colab.research.google.com/github/kalz2q/mycolabnotebooks/blob/master/affinitydesigner.ipynb\" target=\"_parent\"><img src=\"https://colab.research.google.com/assets/colab-badge.svg\" alt=\"Open In Colab\"/></a>"
      ]
    },
    {
      "cell_type": "markdown",
      "metadata": {
        "id": "QbA6SE0R5vdd",
        "colab_type": "text"
      },
      "source": [
        "# メモ\n",
        "\n",
        "1. https://affinity.help/designer/ja.lproj/index.html\n",
        "1. https://affinity.serif.com/ja-jp/tutorials/designer/ipad/\n",
        "1. http://tavmjong.free.fr/INKSCAPE/MANUAL/html/AShortExample.html\n",
        "\n",
        "affinity designer\n",
        "を使っているが、どうもうまく行っていない。\n",
        "\n",
        "一通り動画チュートリアルを見たが、多分身についていないのだろう。使おうと思うと思い出せない。\n",
        "\n",
        "iPad の affinity designer にある help は字が小さくて読む気がしないので読んでいない。 ネット上にあるのはデスクトップ用であるが、iPad 用に読みかえながらこのノートブックにメモを取りながら読んでみよう。"
      ]
    },
    {
      "cell_type": "markdown",
      "metadata": {
        "id": "FXmoU4So_C7Y",
        "colab_type": "text"
      },
      "source": [
        "affinity designer の動画 tutorial をリストしてみる。動画チュートリアルは iPad 用がある。\n",
        "\n",
        "1. ジェスチャー\n",
        "1. レイヤースタジオ\n",
        "1. 画像の配置\n",
        "1. 順序付け\n",
        "1. グループ化\n",
        "1. 移動、サイズ変更、回転の操作\n",
        "1. 選択\n",
        "1. クイック書き出し\n",
        "1. 取り消し、やり直し、履歴\n",
        "1. コピー、ペースト、反復複製\n",
        "1. キャンバスのパン、ズーム、回転\n",
        "1. オープンとインポート\n",
        "1. 新規作成と保存\n",
        "1. UIの概要"
      ]
    },
    {
      "cell_type": "markdown",
      "metadata": {
        "id": "tZqG-jTd26xu",
        "colab_type": "text"
      },
      "source": [
        "# 画面とヘルプ\n",
        "\n",
        "起動時の画面の右上に、新規 `+`、ヘルプ `?`、設定 (歯車アイコン)、がある。\n",
        "\n",
        "このヘルプでテキストベースの膨大なヘルプが出てくる。検索があるので、調べることができる。\n",
        "\n",
        "このテキストベースのヘルプはオンライン上にはデスクトップ用しかおいていない。オンラインにあるものは各国語に対応しているので、たぶん iPad 用は翻訳が間に合っていないのだろう。\n",
        "\n",
        "このことも含め、デスクトップ版が正で、iPad 版は機能縮小版みたいなことを書く人がいるが、iPad 版の方がはるかに手軽に使えるので、affnity には頑張って欲しいものだと思う。\n",
        "\n",
        "ドキュメントビューに入ると右下にヘルプ `?` アイコンがあって、これを押している間、画面上のツールなどのアイコンの名称が出る。\n",
        "\n",
        "リストアップしてみよう。"
      ]
    },
    {
      "cell_type": "markdown",
      "metadata": {
        "id": "BCpjGly856SC",
        "colab_type": "text"
      },
      "source": [
        "# 画面とアイコン\n",
        "\n",
        "上部\n",
        "* Home (左矢印) ホーム\n",
        "* Document ドキュメント\n",
        "* Edit 編集\n",
        "* Designer デザイナーペルソナ\n",
        "* Pixel ピクセルペルソナ\n",
        "* Export 書き出しペルソナ\n",
        "\n",
        "左 ツールバー\n",
        "* Move 移動ツール\n",
        "* Node ノードツール\n",
        "* Point Transform ポイント変換ツール\n",
        "* Corner コーナーツール\n",
        "* Pencil 鉛筆ツール\n",
        "* Vector Brush ベクトルブラシツール\n",
        "* Pen ペンツール\n",
        "* Fill 塗りつぶしツール\n",
        "* Transparency 透明性ツール\n",
        "* Vector Crop ベクトル切り抜きツール\n",
        "* Rectangle 矩形ツール\n",
        "* Artistic Text アーティスティックテキストツール\n",
        "* Color Picker カラーピッカーツール\n",
        "\n",
        "選択関係\n",
        "* Deselect 選択解除\n",
        "* Snapping スナップ\n",
        "* Delete 削除\n",
        "\n",
        "右上\n",
        "* Hide UI メニューを隠す\n",
        "\n",
        "右 スタジオパネル\n",
        "* Color カラースタジオ\n",
        "* Stroke ストロークスタジオ\n",
        "* Brushes ブラシスタジオ\n",
        "* Layers レイヤースタジオ\n",
        "* Appearance 外観スタジオ\n",
        "* Assets アセットスタジオ\n",
        "* Stock ストック写真スタジオ\n",
        "* Symbols シンボルスタジオ\n",
        "* Layer レイヤーエフェクトスタジオ\n",
        "* Adjustments 調整スタジオ\n",
        "* Text テキストスタジオ\n",
        "* Transform 変換スタジオ\n",
        "* Navigator ナビゲータースタジオ\n",
        "* History 履歴スタジオ\n"
      ]
    },
    {
      "cell_type": "markdown",
      "metadata": {
        "id": "sm4ORdXQY-_9",
        "colab_type": "text"
      },
      "source": [
        "# Q and A\n",
        "\n",
        "* グリッドを表示させる。 => 左上のドキュメントアイコン => グリッド => Show Grid\n",
        "* グリッドの幅を変える。   => 左上のドキュメントアイコン => グリッド => Spacing => 数値入力\n",
        "* グリッドへのスナップをオンにする。 => 左上のドキュメントアイコン => Snapping => Enable Snapping => Snap to grid。画面左下の磁石アイコン(スナッピング)をオンにする。\n",
        "* 矩形、円、☆を描く。 => 左のツールからシェイプツールを選ぶ。\n",
        "* ドキュメントの解像度 (DPI) => 画面なら 144、印刷物なら 300。\n",
        "\n"
      ]
    },
    {
      "cell_type": "markdown",
      "metadata": {
        "id": "LNj5uKVJcEv1",
        "colab_type": "text"
      },
      "source": [
        "# アートボード Artboard\n",
        "\n",
        "アートボードは、同一ドキュメント内の任意の形状およびサイズから成る離散的なデザイン領域のこと。\n",
        "\n",
        "同じサイズの2つのアートボードで、ページの両側を表現できる。\n"
      ]
    },
    {
      "cell_type": "markdown",
      "metadata": {
        "id": "cx6XEF0d0uXM",
        "colab_type": "text"
      },
      "source": [
        "# jhlkjhlkj\n"
      ]
    },
    {
      "cell_type": "markdown",
      "metadata": {
        "id": "TeiTmlS70oke",
        "colab_type": "text"
      },
      "source": [
        "# うなじ\n"
      ]
    },
    {
      "cell_type": "markdown",
      "metadata": {
        "id": "MTBXCwlVxtE3",
        "colab_type": "text"
      },
      "source": [
        "# いまここ\n",
        "\n",
        "ｋｊｌｊｈｋ"
      ]
    }
  ]
}