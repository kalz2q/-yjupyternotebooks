{
  "nbformat": 4,
  "nbformat_minor": 0,
  "metadata": {
    "colab": {
      "name": "affinitydesigner.ipynb",
      "provenance": [],
      "authorship_tag": "ABX9TyP9HRo0Fo9ogQugIvcB6LWS",
      "include_colab_link": true
    },
    "kernelspec": {
      "name": "python3",
      "display_name": "Python 3"
    }
  },
  "cells": [
    {
      "cell_type": "markdown",
      "metadata": {
        "id": "view-in-github",
        "colab_type": "text"
      },
      "source": [
        "<a href=\"https://colab.research.google.com/github/kalz2q/mycolabnotebooks/blob/master/affinitydesigner.ipynb\" target=\"_parent\"><img src=\"https://colab.research.google.com/assets/colab-badge.svg\" alt=\"Open In Colab\"/></a>"
      ]
    },
    {
      "cell_type": "markdown",
      "metadata": {
        "id": "QbA6SE0R5vdd",
        "colab_type": "text"
      },
      "source": [
        "# メモ\n",
        "\n",
        "affinity designer\n",
        "を使っているが、どうもうまく行っていない。なぜならば inkscape のような tutorial がないからか。"
      ]
    },
    {
      "cell_type": "code",
      "metadata": {
        "id": "zKF9Q_tJ5uYW",
        "colab_type": "code",
        "colab": {}
      },
      "source": [
        ""
      ],
      "execution_count": null,
      "outputs": []
    }
  ]
}