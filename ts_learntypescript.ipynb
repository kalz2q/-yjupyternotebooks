{
  "nbformat": 4,
  "nbformat_minor": 0,
  "metadata": {
    "colab": {
      "name": "ts_learntypescript.ipynb",
      "provenance": [],
      "authorship_tag": "ABX9TyOxlxPKPI+1sFbJayxDG38o",
      "include_colab_link": true
    },
    "kernelspec": {
      "name": "python3",
      "display_name": "Python 3"
    },
    "language_info": {
      "name": "python"
    }
  },
  "cells": [
    {
      "cell_type": "markdown",
      "metadata": {
        "id": "view-in-github",
        "colab_type": "text"
      },
      "source": [
        "<a href=\"https://colab.research.google.com/github/kalz2q/mycolabnotebooks/blob/master/ts_learntypescript.ipynb\" target=\"_parent\"><img src=\"https://colab.research.google.com/assets/colab-badge.svg\" alt=\"Open In Colab\"/></a>"
      ]
    },
    {
      "cell_type": "markdown",
      "source": [
        "# メモ"
      ],
      "metadata": {
        "id": "BYA8ETFvWaIx"
      }
    },
    {
      "cell_type": "code",
      "source": [
        "# typescript をインストールする。4.8.2 が入る。node は 14.16.0 が既に入っている\n",
        "# !npm install --save-dev @types/node\n",
        "# !npm install --save lodash\n",
        "%%capture\n",
        "!npm install -g typescript"
      ],
      "metadata": {
        "id": "cvDmmwL1W8Wl"
      },
      "execution_count": 1,
      "outputs": []
    },
    {
      "cell_type": "code",
      "source": [
        "!tsc --version"
      ],
      "metadata": {
        "id": "tLQ2WzZtpWcw",
        "outputId": "3a2c2221-9aef-43a0-839f-b2498630b275",
        "colab": {
          "base_uri": "https://localhost:8080/"
        }
      },
      "execution_count": 2,
      "outputs": [
        {
          "output_type": "stream",
          "name": "stdout",
          "text": [
            "Version 4.8.2\n"
          ]
        }
      ]
    },
    {
      "cell_type": "markdown",
      "source": [
        "\n",
        "javascript を学んでいて行き詰まってしまったので、typescript 経由で学べないか。 google colaboratory を利用できないか。 ということでこのファイルを作った。\n",
        "\n",
        "* https://colab.research.google.com/github/kalz2q/mycolabnotebooks/blob/master/javascript_aizuonline01.ipynb 過去に作成したもの\n",
        "* https://colab.research.google.com/github/kalz2q/mycolabnotebooks/blob/master/functionaljavascript.ipynb 過去に作成したもの\n",
        "---\n",
        "* learnjavascript.ipynb をコピペした => これを typescript 化する。=> 終了\n",
        "* https://typescriptbook.jp/ サバイバル TypeScript 良く書けている。日本語\n",
        "* https://www.typescripttutorial.net/ => あまり良くないチュートリアルだと思う\n",
        "* mdm web docs javascript これはこれでいいのだが。英語\n",
        "* qiita AtCoder Beginners Selection 解答例【TypeScript】10問だしこれをやるか"
      ],
      "metadata": {
        "id": "DbSqJQo1j15z"
      }
    },
    {
      "cell_type": "code",
      "source": [
        "# とりあえず入出力\n",
        "# 拡張子 `.ts` のファイルを tsc でコンパイルすると `.js` ファイルが出来る\n",
        "# node で実行する\n",
        "%%writefile temp.ts\n",
        "const input : string = require('fs').readFileSync(\"/dev/stdin\", \"utf8\");\n",
        "console.log(input)"
      ],
      "metadata": {
        "id": "KruQn6rTcs4V",
        "outputId": "8199e20f-a065-4abb-de45-7c8d7dd4eb13",
        "colab": {
          "base_uri": "https://localhost:8080/"
        }
      },
      "execution_count": 4,
      "outputs": [
        {
          "output_type": "stream",
          "name": "stdout",
          "text": [
            "Writing temp.ts\n"
          ]
        }
      ]
    },
    {
      "cell_type": "code",
      "source": [
        "!tsc temp.ts; echo -e 'hello\\nworld' | node temp.js"
      ],
      "metadata": {
        "id": "D5uYgvndc8N1",
        "outputId": "8585c60d-10af-4c3a-a1d5-68594c7f12ae",
        "colab": {
          "base_uri": "https://localhost:8080/"
        }
      },
      "execution_count": 5,
      "outputs": [
        {
          "output_type": "stream",
          "name": "stdout",
          "text": [
            "hello\n",
            "world\n",
            "\n"
          ]
        }
      ]
    },
    {
      "cell_type": "code",
      "source": [
        "# args として受け取る方法\n",
        "%%writefile temp.ts\n",
        "const input : string = require('fs').readFileSync(\"/dev/stdin\", \"utf8\");\n",
        "let args : string[] = input.trim().split(/[\\n\\s,;.]+/)\n",
        "console.log(args)"
      ],
      "metadata": {
        "id": "Sos8UKrxYG7d",
        "outputId": "3d418039-f5f3-4ba6-fced-71b34db0dc4b",
        "colab": {
          "base_uri": "https://localhost:8080/"
        }
      },
      "execution_count": 6,
      "outputs": [
        {
          "output_type": "stream",
          "name": "stdout",
          "text": [
            "Overwriting temp.ts\n"
          ]
        }
      ]
    },
    {
      "cell_type": "code",
      "source": [
        "!tsc temp.ts; echo there are 3 books.   英語   日本語 | node temp.js"
      ],
      "metadata": {
        "id": "KMQ-v2w3YnRx",
        "outputId": "b4cf8c38-2279-444b-8885-7e51de89ece4",
        "colab": {
          "base_uri": "https://localhost:8080/"
        }
      },
      "execution_count": 7,
      "outputs": [
        {
          "output_type": "stream",
          "name": "stdout",
          "text": [
            "[ \u001b[32m'there'\u001b[39m, \u001b[32m'are'\u001b[39m, \u001b[32m'3'\u001b[39m, \u001b[32m'books'\u001b[39m, \u001b[32m'英語'\u001b[39m, \u001b[32m'日本語'\u001b[39m ]\n"
          ]
        }
      ]
    },
    {
      "cell_type": "code",
      "source": [
        "# 問題 A - Six Characters\n",
        "# 入力文字列を繰り返して、最初の 6 文字を返す\n",
        "%%writefile temp.ts\n",
        "const input : string = require('fs').readFileSync(\"/dev/stdin\", \"utf8\"); \n",
        "let args : string[] = input.trim().split(/[\\n\\s,;.]+/)\n",
        "let arg : string = args[0]\n",
        "console.log(arg.repeat(6).slice(0,6));"
      ],
      "metadata": {
        "id": "GT5a8voYofte",
        "outputId": "97c9f011-349f-473b-d8bd-3b7cf52a6a5a",
        "colab": {
          "base_uri": "https://localhost:8080/"
        }
      },
      "execution_count": 17,
      "outputs": [
        {
          "output_type": "stream",
          "name": "stdout",
          "text": [
            "Overwriting temp.ts\n"
          ]
        }
      ]
    },
    {
      "cell_type": "code",
      "source": [
        "!tsc temp.ts; echo abc | node temp.js #=> abcabc\n",
        "!tsc temp.ts; echo zz | node temp.js #=> zzzzzz"
      ],
      "metadata": {
        "id": "9ouy2h5Bofpk",
        "outputId": "46eeaaa6-f09a-4227-bcd8-8b536947a8c9",
        "colab": {
          "base_uri": "https://localhost:8080/"
        }
      },
      "execution_count": 18,
      "outputs": [
        {
          "output_type": "stream",
          "name": "stdout",
          "text": [
            "abcabc\n",
            "zzzzzz\n"
          ]
        }
      ]
    },
    {
      "cell_type": "code",
      "source": [
        "# コメントは // or /* */"
      ],
      "metadata": {
        "id": "egs0oRV_XpcH"
      },
      "execution_count": null,
      "outputs": []
    },
    {
      "cell_type": "code",
      "source": [
        "# 四則演算\n",
        "# 加算減算乗算除算は普通。10/3 も普通に float になる\n",
        "# python の `//` に当たるのは `Math.floor()` \n",
        "# 冪乗は `**` で Python と同じ\n",
        "%%writefile temp.ts\n",
        "console.log(10 / 3); //=> 3.3333333333333335\n",
        "console.log(10 % 3); //=> 1\n",
        "console.log(Math.floor(-10 / 3)); //=> -4\n",
        "console.log(\"晴れ\" + \"雨\"); //=> 晴れ雨\n",
        "console.log(\"晴れ\" == \"晴れ\"); //=> true\n",
        "console.log(10 ** 3); //=> 1000\n",
        "console.log(Math.pow(10, 3)); //=> 1000"
      ],
      "metadata": {
        "id": "9Uy5HzVoSCoG",
        "outputId": "ef21de1e-0367-4e27-987b-4a51ae75b3d6",
        "colab": {
          "base_uri": "https://localhost:8080/"
        }
      },
      "execution_count": null,
      "outputs": [
        {
          "output_type": "stream",
          "name": "stdout",
          "text": [
            "Overwriting temp.ts\n"
          ]
        }
      ]
    },
    {
      "cell_type": "code",
      "source": [
        "!tsc temp.ts; node temp.js "
      ],
      "metadata": {
        "id": "17QQAfLEzodJ",
        "outputId": "fef13260-433b-4698-f48d-50d4a2ddfa81",
        "colab": {
          "base_uri": "https://localhost:8080/"
        }
      },
      "execution_count": null,
      "outputs": [
        {
          "output_type": "stream",
          "name": "stdout",
          "text": [
            "\u001b[33m3.3333333333333335\u001b[39m\n",
            "\u001b[33m1\u001b[39m\n",
            "\u001b[33m-4\u001b[39m\n",
            "晴れ雨\n",
            "\u001b[33mtrue\u001b[39m\n",
            "\u001b[33m1000\u001b[39m\n",
            "\u001b[33m1000\u001b[39m\n"
          ]
        }
      ]
    },
    {
      "cell_type": "code",
      "source": [
        "# if (){} else {}\n",
        "%%writefile temp.ts\n",
        "function checkGuess(answer, guess) {\n",
        "    if (answer == guess) {\n",
        "        return \"hit!!!!\";\n",
        "    } else {\n",
        "        return \"wrong!!!!\";\n",
        "    }\n",
        "};\n",
        "console.log(checkGuess(3,4));"
      ],
      "metadata": {
        "id": "zhbUQ5NlKE66",
        "outputId": "94bf7108-ffcb-4e45-b0bf-3be349af5c1b",
        "colab": {
          "base_uri": "https://localhost:8080/"
        }
      },
      "execution_count": null,
      "outputs": [
        {
          "output_type": "stream",
          "name": "stdout",
          "text": [
            "Writing temp.ts\n"
          ]
        }
      ]
    },
    {
      "cell_type": "code",
      "source": [
        "!tsc temp.ts; node temp.js "
      ],
      "metadata": {
        "id": "rpCjE09i1bJg",
        "outputId": "5d78c0db-73e0-4645-b873-839a3850bf70",
        "colab": {
          "base_uri": "https://localhost:8080/"
        }
      },
      "execution_count": null,
      "outputs": [
        {
          "output_type": "stream",
          "name": "stdout",
          "text": [
            "wrong!!!!\n"
          ]
        }
      ]
    },
    {
      "cell_type": "code",
      "source": [
        "# 実験 どこまで省略できるか\n",
        "# if (){} else {}\n",
        "%%writefile temp.ts\n",
        "function checkGuess(answer, guess) {\n",
        "    if (true) return \"hit!!!!\";\n",
        "}\n",
        "console.log(checkGuess(3,4));"
      ],
      "metadata": {
        "colab": {
          "base_uri": "https://localhost:8080/"
        },
        "id": "gmUtaAKN6fBA",
        "outputId": "fae43c17-cc08-487d-97b6-d48348881afe"
      },
      "execution_count": null,
      "outputs": [
        {
          "output_type": "stream",
          "name": "stdout",
          "text": [
            "Overwriting temp.ts\n"
          ]
        }
      ]
    },
    {
      "cell_type": "code",
      "source": [
        "!tsc temp.ts; node temp.js "
      ],
      "metadata": {
        "colab": {
          "base_uri": "https://localhost:8080/"
        },
        "id": "OpKcoVdb6owE",
        "outputId": "64ebc132-3eed-411a-f4ef-753df980b07c"
      },
      "execution_count": null,
      "outputs": [
        {
          "output_type": "stream",
          "name": "stdout",
          "text": [
            "hit!!!!\n"
          ]
        }
      ]
    },
    {
      "cell_type": "code",
      "source": [
        "# 質問 関数定義を let で出来るか => アロー関数式で書く\n",
        "%%writefile temp.ts\n",
        "let checkGuess = (answer : number, guess : number) : string => {\n",
        "    if (answer == guess) {\n",
        "        return \"hit!!!!\";\n",
        "    } else {\n",
        "        return \"wrong!!!!\";\n",
        "    }\n",
        "};\n",
        "console.log(checkGuess(3,4));"
      ],
      "metadata": {
        "id": "oTWnx-Jw0iCt",
        "outputId": "ad28a8af-3e85-4250-d53a-54050760c216",
        "colab": {
          "base_uri": "https://localhost:8080/"
        }
      },
      "execution_count": null,
      "outputs": [
        {
          "output_type": "stream",
          "name": "stdout",
          "text": [
            "Overwriting temp.ts\n"
          ]
        }
      ]
    },
    {
      "cell_type": "code",
      "source": [
        "!tsc temp.ts; node temp.js "
      ],
      "metadata": {
        "id": "f2vFWuju0h1u",
        "outputId": "9fa04029-5bec-438a-c4bc-c9219a696774",
        "colab": {
          "base_uri": "https://localhost:8080/"
        }
      },
      "execution_count": null,
      "outputs": [
        {
          "output_type": "stream",
          "name": "stdout",
          "text": [
            "wrong!!!!\n"
          ]
        }
      ]
    },
    {
      "cell_type": "code",
      "metadata": {
        "id": "Q-MXCqgvHntd",
        "colab": {
          "base_uri": "https://localhost:8080/"
        },
        "outputId": "f9ffe3c9-8d70-4dce-de49-0bd367ef33e7"
      },
      "source": [
        "# 配列 array に型が混在できる\n",
        "%%writefile temp.ts\n",
        "let myNameArray = ['Chris', 'Bob', 'Jim', 37];\n",
        "console.log(myNameArray)\n",
        "console.log(myNameArray[0]);\n",
        "console.log(myNameArray[3]);"
      ],
      "execution_count": null,
      "outputs": [
        {
          "output_type": "stream",
          "name": "stdout",
          "text": [
            "Overwriting temp.ts\n"
          ]
        }
      ]
    },
    {
      "cell_type": "code",
      "source": [
        "!tsc temp.ts; node temp.js "
      ],
      "metadata": {
        "id": "A0wTpmAp3iUb",
        "outputId": "9034cf48-1407-4af6-d1a4-982ba248bf7f",
        "colab": {
          "base_uri": "https://localhost:8080/"
        }
      },
      "execution_count": null,
      "outputs": [
        {
          "output_type": "stream",
          "name": "stdout",
          "text": [
            "[ \u001b[32m'Chris'\u001b[39m, \u001b[32m'Bob'\u001b[39m, \u001b[32m'Jim'\u001b[39m, \u001b[33m37\u001b[39m ]\n",
            "Chris\n",
            "\u001b[33m37\u001b[39m\n"
          ]
        }
      ]
    },
    {
      "cell_type": "code",
      "metadata": {
        "id": "lkJakMjHJlfu",
        "colab": {
          "base_uri": "https://localhost:8080/"
        },
        "outputId": "b8921093-e215-4a74-8175-360141e55103"
      },
      "source": [
        "# splice の使い方\n",
        "%%writefile temp.ts\n",
        "const months = ['Jan', 'March', 'April', 'June'];\n",
        "months.splice(1, 0, 'Feb'); // inserts at index 1\n",
        "console.log(months); // expected output: Array [\"Jan\", \"Feb\", \"March\", \"April\", \"June\"]\n",
        "months.splice(4, 1, 'May'); // replaces 1 element at index 4\n",
        "console.log(months); // expected output: Array [\"Jan\", \"Feb\", \"March\", \"April\", \"May\"]"
      ],
      "execution_count": 8,
      "outputs": [
        {
          "output_type": "stream",
          "name": "stdout",
          "text": [
            "Overwriting temp.ts\n"
          ]
        }
      ]
    },
    {
      "cell_type": "code",
      "source": [
        "!tsc temp.ts; node temp.js "
      ],
      "metadata": {
        "id": "xfHR11pD3zJN",
        "outputId": "3ffbd5f4-275f-430b-dea6-82c630a1b46b",
        "colab": {
          "base_uri": "https://localhost:8080/"
        }
      },
      "execution_count": 9,
      "outputs": [
        {
          "output_type": "stream",
          "name": "stdout",
          "text": [
            "[ \u001b[32m'Jan'\u001b[39m, \u001b[32m'Feb'\u001b[39m, \u001b[32m'March'\u001b[39m, \u001b[32m'April'\u001b[39m, \u001b[32m'June'\u001b[39m ]\n",
            "[ \u001b[32m'Jan'\u001b[39m, \u001b[32m'Feb'\u001b[39m, \u001b[32m'March'\u001b[39m, \u001b[32m'April'\u001b[39m, \u001b[32m'May'\u001b[39m ]\n"
          ]
        }
      ]
    },
    {
      "cell_type": "code",
      "source": [
        "# 実験\n",
        "%%writefile temp.ts\n",
        "const months = ['Jan', 'March', 'April', 'June'];\n",
        "months.splice(5, 1, 'May'); //エラーになるか => ならない\n",
        "console.log(months) //=> [ 'Jan', 'March', 'April', 'June', 'May' ]\n",
        "months.splice(0);\n",
        "console.log(months)\n",
        "const word = \"hello world\";\n",
        "console.log(word)\n",
        "const word: string = \"hello typescript\"\n",
        "console.log(word)"
      ],
      "metadata": {
        "id": "DpiKwr4wV3jJ",
        "outputId": "4c0a5566-1e21-4297-f3e6-ed832bcd255c",
        "colab": {
          "base_uri": "https://localhost:8080/"
        }
      },
      "execution_count": 41,
      "outputs": [
        {
          "output_type": "stream",
          "name": "stdout",
          "text": [
            "Overwriting temp.ts\n"
          ]
        }
      ]
    },
    {
      "cell_type": "code",
      "source": [
        "!tsc temp.ts; node temp.js "
      ],
      "metadata": {
        "id": "K1i2EwRxWC9D",
        "outputId": "17be9399-81c4-4178-994c-158c629a88f9",
        "colab": {
          "base_uri": "https://localhost:8080/"
        }
      },
      "execution_count": 42,
      "outputs": [
        {
          "output_type": "stream",
          "name": "stdout",
          "text": [
            "\u001b[96mtemp.ts\u001b[0m:\u001b[93m6\u001b[0m:\u001b[93m7\u001b[0m - \u001b[91merror\u001b[0m\u001b[90m TS2451: \u001b[0mCannot redeclare block-scoped variable 'word'.\n",
            "\n",
            "\u001b[7m6\u001b[0m const word = \"hello world\";\n",
            "\u001b[7m \u001b[0m \u001b[91m      ~~~~\u001b[0m\n",
            "\n",
            "\u001b[96mtemp.ts\u001b[0m:\u001b[93m8\u001b[0m:\u001b[93m7\u001b[0m - \u001b[91merror\u001b[0m\u001b[90m TS2451: \u001b[0mCannot redeclare block-scoped variable 'word'.\n",
            "\n",
            "\u001b[7m8\u001b[0m const word: string = \"hello typescript\"\n",
            "\u001b[7m \u001b[0m \u001b[91m      ~~~~\u001b[0m\n",
            "\n",
            "\n",
            "Found 2 errors in the same file, starting at: temp.ts\u001b[90m:6\u001b[0m\n",
            "\n",
            "[ \u001b[32m'Jan'\u001b[39m, \u001b[32m'March'\u001b[39m, \u001b[32m'April'\u001b[39m, \u001b[32m'June'\u001b[39m, \u001b[32m'May'\u001b[39m ]\n",
            "[]\n",
            "hello world\n",
            "hello typescript\n"
          ]
        }
      ]
    },
    {
      "cell_type": "code",
      "metadata": {
        "id": "Gh_XIzVG-I3i",
        "colab": {
          "base_uri": "https://localhost:8080/"
        },
        "outputId": "3f8b6da4-f1c8-4012-968b-1d012c253626"
      },
      "source": [
        "# 多重配列\n",
        "%%writefile temp.ts\n",
        "let x = Array(3);\n",
        "for (let i = 0; i < x.length; i++) x[i] =  Array(2);\n",
        "for (let i = 0; i < x.length; i++) for (let j= 0; j < (x[i]).length; j++) x[i][j] = 0\n",
        "x.splice(1,0,\"error!!!\");\n",
        "console.log(x);"
      ],
      "execution_count": null,
      "outputs": [
        {
          "output_type": "stream",
          "name": "stdout",
          "text": [
            "Overwriting temp.ts\n"
          ]
        }
      ]
    },
    {
      "cell_type": "code",
      "source": [
        "!tsc temp.ts; node temp.js"
      ],
      "metadata": {
        "id": "goBAmBC44WWB",
        "outputId": "603f9632-caba-40f4-9df8-8e8d29a70d30",
        "colab": {
          "base_uri": "https://localhost:8080/"
        }
      },
      "execution_count": null,
      "outputs": [
        {
          "output_type": "stream",
          "name": "stdout",
          "text": [
            "[ [ \u001b[33m0\u001b[39m, \u001b[33m0\u001b[39m ], \u001b[32m'error!!!'\u001b[39m, [ \u001b[33m0\u001b[39m, \u001b[33m0\u001b[39m ], [ \u001b[33m0\u001b[39m, \u001b[33m0\u001b[39m ] ]\n"
          ]
        }
      ]
    },
    {
      "cell_type": "code",
      "metadata": {
        "id": "ju8-mzQDAOaw",
        "colab": {
          "base_uri": "https://localhost:8080/"
        },
        "outputId": "280d24f4-507d-4097-cd8c-dd0dae36afeb"
      },
      "source": [
        "# map 多重配列\n",
        "%%writefile temp.ts\n",
        "let a = Array(3).fill(0).map(x => Array(2).fill(0))  // Array(3) の後の fill(0) がないと空になってしまう\n",
        "console.log(a)\n",
        "let b = Array(3).map(x => Array(2).fill(0))  // Array(3) の後の fill(0) がないと空になってしまう\n",
        "console.log(b)"
      ],
      "execution_count": null,
      "outputs": [
        {
          "output_type": "stream",
          "name": "stdout",
          "text": [
            "Overwriting temp.ts\n"
          ]
        }
      ]
    },
    {
      "cell_type": "code",
      "source": [
        "!tsc temp.ts; node temp.js "
      ],
      "metadata": {
        "id": "2v3F4l4T6dHF",
        "outputId": "2d59d6bc-9065-49d7-defa-c4d3c251843d",
        "colab": {
          "base_uri": "https://localhost:8080/"
        }
      },
      "execution_count": null,
      "outputs": [
        {
          "output_type": "stream",
          "name": "stdout",
          "text": [
            "[ [ \u001b[33m0\u001b[39m, \u001b[33m0\u001b[39m ], [ \u001b[33m0\u001b[39m, \u001b[33m0\u001b[39m ], [ \u001b[33m0\u001b[39m, \u001b[33m0\u001b[39m ] ]\n",
            "[ \u001b[90m<3 empty items>\u001b[39m ]\n",
            "[ \u001b[90m<3 empty items>\u001b[39m ]\n"
          ]
        }
      ]
    },
    {
      "cell_type": "code",
      "source": [
        "# オブジェクト 連想配列のこと => 配列もオブジェクトだった\n",
        "# let dog = { name : 'ポチ', breed : 'ダルメシアン' };\n",
        "# `typeof()` というので型を調べられるらしいのでホントにオブジェクトというのか確認する\n",
        "# 配列とオブジェクトの違い、と言う質問が違うと言うことか\n",
        "%%writefile temp.ts\n",
        "let myNameArray = ['Chris', 'Bob', 'Jim', 37];\n",
        "let myNumberArray = [10, 15, 40];\n",
        "let myAge = myNameArray[3];\n",
        "let dog = { name: 'ポチ', breed: 'ダルメシアン' };\n",
        "console.log(typeof (myAge)); //=> number\n",
        "console.log(typeof (myNameArray)); //=> object\n",
        "console.log(typeof (dog)); //=> object\n",
        "console.log(Object.keys(myNameArray)); //=> [ '0', '1', '2', '3' ]\n",
        "console.log(Object.keys(dog)); //=> [ 'name', 'breed' ]"
      ],
      "metadata": {
        "id": "qaGaLLw7IXG6",
        "outputId": "5960790d-d0d7-4620-829f-dfcb5e02361c",
        "colab": {
          "base_uri": "https://localhost:8080/"
        }
      },
      "execution_count": null,
      "outputs": [
        {
          "output_type": "stream",
          "name": "stdout",
          "text": [
            "Writing temp.ts\n"
          ]
        }
      ]
    },
    {
      "cell_type": "code",
      "source": [
        "!tsc temp.ts; node temp.js "
      ],
      "metadata": {
        "id": "baDa8cKD7kb1",
        "outputId": "d0ee3995-9889-4979-c8df-7c7d18488ed9",
        "colab": {
          "base_uri": "https://localhost:8080/"
        }
      },
      "execution_count": null,
      "outputs": [
        {
          "output_type": "stream",
          "name": "stdout",
          "text": [
            "number\n",
            "object\n",
            "object\n",
            "[ \u001b[32m'0'\u001b[39m, \u001b[32m'1'\u001b[39m, \u001b[32m'2'\u001b[39m, \u001b[32m'3'\u001b[39m ]\n",
            "[ \u001b[32m'name'\u001b[39m, \u001b[32m'breed'\u001b[39m ]\n"
          ]
        }
      ]
    },
    {
      "cell_type": "code",
      "source": [
        "%%writefile temp.ts\n",
        "let player = {name: \"Ronaldo\", team:\"Juventus\"}\n",
        "// player.uniNumber = 7; //=> error!!!!\n",
        "player[\"nation\"] = \"Portugal\"; \n",
        "console.log(player) //=> { name: 'Ronaldo', team: 'Juventus', nation: 'Portugal' }\n",
        "let note = \"mvp\";\n",
        "let cnt = 5;\n",
        "player[note] = cnt;\n",
        "console.log(player) //=> { name: 'Ronaldo', team: 'Juventus', nation: 'Portugal', mvp: 5 }"
      ],
      "metadata": {
        "id": "QJ96VNhgTnJm",
        "outputId": "0e754e2e-5078-4dc3-e1de-59fd0b5b7057",
        "colab": {
          "base_uri": "https://localhost:8080/"
        }
      },
      "execution_count": null,
      "outputs": [
        {
          "output_type": "stream",
          "name": "stdout",
          "text": [
            "Overwriting temp.ts\n"
          ]
        }
      ]
    },
    {
      "cell_type": "code",
      "source": [
        "!tsc temp.ts; node temp.js "
      ],
      "metadata": {
        "id": "yWWp1-54T8xx",
        "outputId": "61b119c3-8c7a-444e-c71d-8804264d2208",
        "colab": {
          "base_uri": "https://localhost:8080/"
        }
      },
      "execution_count": null,
      "outputs": [
        {
          "output_type": "stream",
          "name": "stdout",
          "text": [
            "{ name: \u001b[32m'Ronaldo'\u001b[39m, team: \u001b[32m'Juventus'\u001b[39m, nation: \u001b[32m'Portugal'\u001b[39m }\n",
            "{ name: \u001b[32m'Ronaldo'\u001b[39m, team: \u001b[32m'Juventus'\u001b[39m, nation: \u001b[32m'Portugal'\u001b[39m, mvp: \u001b[33m5\u001b[39m }\n"
          ]
        }
      ]
    },
    {
      "cell_type": "code",
      "source": [
        "# 連想配列をループさせる\n",
        "%%writefile temp.ts\n",
        "let player = { name: 'Ronaldo', team: 'Juventus', nation: 'Portugal', mvp: 5 }\n",
        "for (var k in player) {\n",
        "  console.log(\"項目：\" + k);\n",
        "  console.log(\"内容：\" + player[k]);\n",
        "}"
      ],
      "metadata": {
        "id": "5tUPK92aVciK",
        "outputId": "d3bc2c68-27d5-491b-f178-3cd136b0153b",
        "colab": {
          "base_uri": "https://localhost:8080/"
        }
      },
      "execution_count": null,
      "outputs": [
        {
          "output_type": "stream",
          "name": "stdout",
          "text": [
            "Overwriting temp.ts\n"
          ]
        }
      ]
    },
    {
      "cell_type": "code",
      "source": [
        "!tsc temp.ts; node temp.js "
      ],
      "metadata": {
        "id": "G1-QBhkjVcYA",
        "outputId": "6995267e-f0f2-4ace-b353-2dfd835bc3d1",
        "colab": {
          "base_uri": "https://localhost:8080/"
        }
      },
      "execution_count": null,
      "outputs": [
        {
          "output_type": "stream",
          "name": "stdout",
          "text": [
            "項目：name\n",
            "内容：Ronaldo\n",
            "項目：team\n",
            "内容：Juventus\n",
            "項目：nation\n",
            "内容：Portugal\n",
            "項目：mvp\n",
            "内容：5\n"
          ]
        }
      ]
    },
    {
      "cell_type": "code",
      "source": [
        "# インクリメント・デクリメント\n",
        "%%writefile temp.ts\n",
        "let num = 3\n",
        "console.log(num); //=> 3\n",
        "console.log(num++); //=> 3\n",
        "console.log(num--); //=> 4\n",
        "console.log(num); //=> 3\n",
        "console.log(--num); //=> 2\n",
        "console.log(num); //=> 2"
      ],
      "metadata": {
        "id": "uwK9lmu8dKv_",
        "outputId": "74b71753-3ed1-4726-ca19-f7dfc08db5d2",
        "colab": {
          "base_uri": "https://localhost:8080/"
        }
      },
      "execution_count": null,
      "outputs": [
        {
          "output_type": "stream",
          "name": "stdout",
          "text": [
            "Overwriting temp.ts\n"
          ]
        }
      ]
    },
    {
      "cell_type": "code",
      "source": [
        "!tsc temp.ts; node temp.js "
      ],
      "metadata": {
        "id": "f4Hji-Yt8TYt",
        "outputId": "0167d7c7-e807-4be0-c60a-f3da955c9310",
        "colab": {
          "base_uri": "https://localhost:8080/"
        }
      },
      "execution_count": null,
      "outputs": [
        {
          "output_type": "stream",
          "name": "stdout",
          "text": [
            "\u001b[33m3\u001b[39m\n",
            "\u001b[33m3\u001b[39m\n",
            "\u001b[33m4\u001b[39m\n",
            "\u001b[33m3\u001b[39m\n",
            "\u001b[33m2\u001b[39m\n",
            "\u001b[33m2\u001b[39m\n"
          ]
        }
      ]
    },
    {
      "cell_type": "code",
      "source": [
        "# 文字列、数値変換\n",
        "# `Number()`、`String()`、`toString()`とか\n",
        "%%writefile temp.ts\n",
        "import * as fs from \"fs\";\n",
        "const inputs = fs.readFileSync(\"/dev/stdin\", \"utf8\");\n",
        "let line = inputs.split('\\n');\n",
        "let number = Number(line[0]);\n",
        "console.log(number ** 2) //=> 49\n",
        "let number2 = Number(\"what?\") // ここでエラーにはならない\n",
        "console.log(number2) //=>  NaN 数値ではない、と言う意味"
      ],
      "metadata": {
        "id": "poUWlVLIfxNt",
        "outputId": "f40e2bca-5cf6-4ff1-cca6-69b5861dfcf5",
        "colab": {
          "base_uri": "https://localhost:8080/"
        }
      },
      "execution_count": null,
      "outputs": [
        {
          "output_type": "stream",
          "name": "stdout",
          "text": [
            "Overwriting temp.ts\n"
          ]
        }
      ]
    },
    {
      "cell_type": "code",
      "source": [
        "!tsc temp.ts; echo 7 | node temp.js "
      ],
      "metadata": {
        "id": "yjT5sG7v_7ot",
        "outputId": "140a786c-9f5b-413b-b80c-7a8f06c821aa",
        "colab": {
          "base_uri": "https://localhost:8080/"
        }
      },
      "execution_count": null,
      "outputs": [
        {
          "output_type": "stream",
          "name": "stdout",
          "text": [
            "\u001b[33m49\u001b[39m\n",
            "\u001b[33mNaN\u001b[39m\n"
          ]
        }
      ]
    },
    {
      "cell_type": "code",
      "source": [
        "# 文字列の長さは length プロパティ\n",
        "%%writefile temp.ts\n",
        "const input : string = require('fs').readFileSync(\"/dev/stdin\", \"utf8\");\n",
        "let args : string[] = input.trim().split(/[\\n\\s,;.]+/)\n",
        "let str = args[0]\n",
        "console.log(\"長さは \" + str.length) \n",
        "console.log(\"最後の文字は \" + str[str.length - 1]) // str[-1] は使えない\n",
        "console.log(\"z の位置は \" + str.indexOf(\"z\")) // ない時に -1 になる。と言うことはそのままでは真偽値には使えない"
      ],
      "metadata": {
        "id": "HY9vGBSlTX2V",
        "outputId": "1f09848c-3d91-4e2b-cba6-471654b84c4d",
        "colab": {
          "base_uri": "https://localhost:8080/"
        }
      },
      "execution_count": null,
      "outputs": [
        {
          "output_type": "stream",
          "name": "stdout",
          "text": [
            "Overwriting temp.ts\n"
          ]
        }
      ]
    },
    {
      "cell_type": "code",
      "source": [
        "!tsc temp.ts; echo 日本語ja | node temp.js  #=> 5"
      ],
      "metadata": {
        "id": "GzO9ZzoZTePW",
        "outputId": "4a3f2c61-c85c-4363-b330-fa3d4ec15f05",
        "colab": {
          "base_uri": "https://localhost:8080/"
        }
      },
      "execution_count": null,
      "outputs": [
        {
          "output_type": "stream",
          "name": "stdout",
          "text": [
            "長さは 5\n",
            "最後の文字は a\n",
            "z の位置は -1\n"
          ]
        }
      ]
    },
    {
      "cell_type": "code",
      "source": [
        "# 文字列はクダブルクオート、シングルクオート、バックティックのどれを使うべきか\n",
        "# 基本的に \" ダブルクオートを使用する\n",
        "# 文字列の中に\"が含まれる場合は ' シングルクオートを使用する\n",
        "# 文字列展開する必要があるときは ` バックティック(バッククオート)を使用する"
      ],
      "metadata": {
        "id": "KebXDOANWqq3"
      },
      "execution_count": null,
      "outputs": []
    },
    {
      "cell_type": "code",
      "source": [
        "# 真偽値  \n",
        "# JavaScript は以下以外はすべて true;  \n",
        "\n",
        "# ・数値 0、NaN  \n",
        "# ・null  \n",
        "# ・undifined  \n",
        "# ・空文字列  \n",
        "\n",
        "# ということは、`[]`、`{}` は true。"
      ],
      "metadata": {
        "id": "1Oer_s5F_5Ml"
      },
      "execution_count": null,
      "outputs": []
    },
    {
      "cell_type": "code",
      "metadata": {
        "id": "eGIBg74tGV31",
        "colab": {
          "base_uri": "https://localhost:8080/"
        },
        "outputId": "4001e74b-5350-4185-be95-8eaa6f6ead27"
      },
      "source": [
        "# 問題 クリスマスカード\n",
        "# indexOf() を使って文字列 Christmas が入っている項だけを出力する\n",
        "%%writefile temp.ts\n",
        "let greetings = ['Happy Birthday!',\n",
        "    'Merry Christmas my love',\n",
        "    'A happy Christmas to all the family',\n",
        "    'You\\'re all I want for Christmas',\n",
        "    'Get well soon'];\n",
        "\n",
        "for (let i = 0; i < greetings.length; i++) {\n",
        "    let input = greetings[i];\n",
        "    if (greetings[i].indexOf(\"Christmas\") !== -1) {\n",
        "        console.log(input);\n",
        "    }\n",
        "}"
      ],
      "execution_count": null,
      "outputs": [
        {
          "output_type": "stream",
          "name": "stdout",
          "text": [
            "Overwriting temp.ts\n"
          ]
        }
      ]
    },
    {
      "cell_type": "code",
      "source": [
        "!tsc temp.ts; node temp.js"
      ],
      "metadata": {
        "id": "A6zJEZohXLLD",
        "outputId": "0ef94bf6-7de0-4fc6-b77d-9873664d7dda",
        "colab": {
          "base_uri": "https://localhost:8080/"
        }
      },
      "execution_count": null,
      "outputs": [
        {
          "output_type": "stream",
          "name": "stdout",
          "text": [
            "Merry Christmas my love\n",
            "A happy Christmas to all the family\n",
            "You're all I want for Christmas\n"
          ]
        }
      ]
    },
    {
      "cell_type": "code",
      "source": [
        "# heredocument ヒアドキュメント\n",
        "%%writefile temp.ts\n",
        "const heredoc = `秋の日の\n",
        "ヴィオロンの\n",
        "かりほの庵の`;\n",
        "console.log(heredoc)\n",
        "let args : string[] = heredoc.trim().split(/[\\n\\s,;.]+/)\n",
        "console.log(args)"
      ],
      "metadata": {
        "colab": {
          "base_uri": "https://localhost:8080/"
        },
        "id": "r60b0Pgmgp4y",
        "outputId": "4bd55a4f-e007-4a90-ac4b-643b021ad24e"
      },
      "execution_count": null,
      "outputs": [
        {
          "output_type": "stream",
          "name": "stdout",
          "text": [
            "Overwriting temp.ts\n"
          ]
        }
      ]
    },
    {
      "cell_type": "code",
      "source": [
        "!tsc temp.ts; node temp.js"
      ],
      "metadata": {
        "colab": {
          "base_uri": "https://localhost:8080/"
        },
        "id": "Z4KhEV_KhXGA",
        "outputId": "04074830-b119-4b87-9a54-3fba25723a8c"
      },
      "execution_count": null,
      "outputs": [
        {
          "output_type": "stream",
          "name": "stdout",
          "text": [
            "秋の日の\n",
            "ヴィオロンの\n",
            "かりほの庵の\n",
            "[ \u001b[32m'秋の日の'\u001b[39m, \u001b[32m'ヴィオロンの'\u001b[39m, \u001b[32m'かりほの庵の'\u001b[39m ]\n"
          ]
        }
      ]
    },
    {
      "cell_type": "code",
      "source": [
        "# 問題 A Product\n",
        "# AtCoder Beginners Selection\n",
        "# a, b の積が偶数なら Even 奇数なら Odd と出力する\n",
        "%%writefile temp.ts\n",
        "const input : string = require('fs').readFileSync(\"/dev/stdin\", \"utf8\");\n",
        "let args : string[] = input.trim().split(/[\\n\\s,;.]+/)\n",
        "const a : number = Number(args[0])\n",
        "const b : number = Number(args[1])\n",
        "\n",
        "if ((a * b) % 2 === 0) {\n",
        "    console.log('Even');\n",
        "} else {\n",
        "    console.log('Odd');\n",
        "}"
      ],
      "metadata": {
        "id": "Z1dr2uV-vVlB",
        "outputId": "5f02db1b-40ff-409c-9e08-4d98c8ccd77d",
        "colab": {
          "base_uri": "https://localhost:8080/"
        }
      },
      "execution_count": null,
      "outputs": [
        {
          "output_type": "stream",
          "name": "stdout",
          "text": [
            "Overwriting temp.ts\n"
          ]
        }
      ]
    },
    {
      "cell_type": "code",
      "source": [
        "!tsc temp.ts; echo 3 4 | node temp.js #=> Even\n",
        "!tsc temp.ts; echo 1 21 | node temp.js #=> Odd"
      ],
      "metadata": {
        "id": "oiCIDrrgvVe1",
        "outputId": "c61ff226-471a-460d-edc5-1bb01b62cd83",
        "colab": {
          "base_uri": "https://localhost:8080/"
        }
      },
      "execution_count": null,
      "outputs": [
        {
          "output_type": "stream",
          "name": "stdout",
          "text": [
            "Even\n",
            "Odd\n"
          ]
        }
      ]
    },
    {
      "cell_type": "code",
      "metadata": {
        "id": "tJI4HijtYLpt",
        "colab": {
          "base_uri": "https://localhost:8080/"
        },
        "outputId": "578828ce-670b-44aa-8854-6a72a05a8a8b"
      },
      "source": [
        "# 問題 都市名\n",
        "# 最初を大文字に、それ以降を小文字にする。\n",
        "%%writefile temp.ts\n",
        "let cities = ['lonDon', 'ManCHESTer', 'BiRmiNGHAM', 'liVERpoOL'];\n",
        "\n",
        "for (let i = 0; i < cities.length; i++) {\n",
        "  let input = cities[i];\n",
        "  input = input.toLowerCase();\n",
        "  let head = input[0]\n",
        "  input = input.replace(head, head.toUpperCase());\n",
        "  console.log(input)\n",
        "}"
      ],
      "execution_count": null,
      "outputs": [
        {
          "output_type": "stream",
          "name": "stdout",
          "text": [
            "Overwriting temp.ts\n"
          ]
        }
      ]
    },
    {
      "cell_type": "code",
      "source": [
        "!tsc temp.ts; node temp.js"
      ],
      "metadata": {
        "id": "bSoSBtpSYL3L",
        "outputId": "72750666-6ee9-4a06-be06-c8de52eae8b8",
        "colab": {
          "base_uri": "https://localhost:8080/"
        }
      },
      "execution_count": null,
      "outputs": [
        {
          "output_type": "stream",
          "name": "stdout",
          "text": [
            "London\n",
            "Manchester\n",
            "Birmingham\n",
            "Liverpool\n"
          ]
        }
      ]
    },
    {
      "cell_type": "code",
      "source": [
        "# 問題 都市名 別解\n",
        "# 最初を大文字に、それ以降を小文字にするのを関数化する\n",
        "%%writefile temp.ts\n",
        "const cities = ['lonDon', 'ManCHESTer', 'BiRmiNGHAM', 'liVERpoOL'];\n",
        "\n",
        "// どれでもオッケー\n",
        "\n",
        "let capitalize  = (city : string) : string => {\n",
        "    return city.toLowerCase().replace(city[0].toLowerCase(), city[0].toUpperCase())\n",
        "}\n",
        "\n",
        "/*\n",
        "let capitalize  = (city : string) : string => {\n",
        "    return city[0].toUpperCase() + city.slice(1).toLowerCase()\n",
        "} */\n",
        "\n",
        "/*\n",
        "function capitalize(city: string) : string {\n",
        "    return city[0].toUpperCase() + city.slice(1).toLowerCase()\n",
        "} */\n",
        "\n",
        "for (let i = 0; i < cities.length; i++) {\n",
        "    console.log(capitalize(cities[i]))\n",
        "}"
      ],
      "metadata": {
        "id": "v9vzYlGw3ibT",
        "outputId": "8737ebe3-c604-4de4-96c4-59fc81f6b629",
        "colab": {
          "base_uri": "https://localhost:8080/"
        }
      },
      "execution_count": null,
      "outputs": [
        {
          "output_type": "stream",
          "name": "stdout",
          "text": [
            "Overwriting temp.ts\n"
          ]
        }
      ]
    },
    {
      "cell_type": "code",
      "source": [
        "!tsc temp.ts; node temp.js"
      ],
      "metadata": {
        "id": "mziDNDzH3iXL",
        "outputId": "8adc8de5-a159-45a9-9bc3-50d47d0d9bb6",
        "colab": {
          "base_uri": "https://localhost:8080/"
        }
      },
      "execution_count": null,
      "outputs": [
        {
          "output_type": "stream",
          "name": "stdout",
          "text": [
            "London\n",
            "Manchester\n",
            "Birmingham\n",
            "Liverpool\n"
          ]
        }
      ]
    },
    {
      "cell_type": "code",
      "source": [
        "# 問題 駅コードの抽出\n",
        "# 最初の3文字アルファベットと、セミコロン以下をまとめて編集して出力。\n",
        "%%writefile temp.ts\n",
        "let stations = ['MAN675847583748sjt567654;Manchester Piccadilly',\n",
        "                'GNF576746573fhdg4737dh4;Greenfield',\n",
        "                'LIV5hg65hd737456236dch46dg4;Liverpool Lime Street',\n",
        "                'SYB4f65hf75f736463;Stalybridge',\n",
        "                'HUD5767ghtyfyr4536dh45dg45dg3;Huddersfield'];\n",
        "\n",
        "let stationCode = (station : string) : string => {\n",
        "    let head = station.slice(0,3)\n",
        "    let name = station.slice(station.indexOf(';') + 1,  station.length)\n",
        "    let result = head + \" : \" + name\n",
        "    return result\n",
        "}\n",
        "\n",
        "for (let i = 0; i < stations.length; i++) console.log(stationCode(stations[i]))"
      ],
      "metadata": {
        "id": "GcHmsXOlazeE",
        "colab": {
          "base_uri": "https://localhost:8080/"
        },
        "outputId": "c17e6958-23d8-48f3-9445-aa361c08ebb2"
      },
      "execution_count": null,
      "outputs": [
        {
          "output_type": "stream",
          "name": "stdout",
          "text": [
            "Writing temp.ts\n"
          ]
        }
      ]
    },
    {
      "cell_type": "code",
      "source": [
        "!tsc temp.ts; node temp.js"
      ],
      "metadata": {
        "colab": {
          "base_uri": "https://localhost:8080/"
        },
        "id": "Oih3CHE4A5FJ",
        "outputId": "dc3ed920-ac04-4de2-f63b-809cb27f1925"
      },
      "execution_count": null,
      "outputs": [
        {
          "output_type": "stream",
          "name": "stdout",
          "text": [
            "MAN : Manchester Piccadilly\n",
            "GNF : Greenfield\n",
            "LIV : Liverpool Lime Street\n",
            "SYB : Stalybridge\n",
            "HUD : Huddersfield\n"
          ]
        }
      ]
    },
    {
      "cell_type": "code",
      "metadata": {
        "id": "ieBRgfwnZVdl",
        "colab": {
          "base_uri": "https://localhost:8080/"
        },
        "outputId": "e0de1402-413e-4e2b-9896-979b7101da6c"
      },
      "source": [
        "# 三項演算子かな?\n",
        "%%writefile temp.ts\n",
        "let num1 = 1;\n",
        "let num2 = 2;\n",
        "let numsum = num1 + num2;\n",
        "let num3 = 19;\n",
        "let num4 = 3;\n",
        "let numsub = num3 - num4;\n",
        "let finalResult = numsum * numsub;\n",
        "let evenOddResult = finalResult % 2;\n",
        "\n",
        "let finalResultCheck = finalResult === 48 ? `Yes, well done!` : `No, it is ${ finalResult }`;\n",
        "let para1 = `Is the finalResult 48? ${ finalResultCheck }`;\n",
        "let evenOddResultCheck = evenOddResult === 0 ? 'The final result is even!' : 'The final result is odd. Hrm.'\n",
        "let para2 = evenOddResultCheck;\n",
        "\n",
        "console.log (para1);\n",
        "console.log (para2);"
      ],
      "execution_count": null,
      "outputs": [
        {
          "output_type": "stream",
          "name": "stdout",
          "text": [
            "Overwriting temp.ts\n"
          ]
        }
      ]
    },
    {
      "cell_type": "code",
      "source": [
        "!tsc temp.ts; node temp.js"
      ],
      "metadata": {
        "colab": {
          "base_uri": "https://localhost:8080/"
        },
        "id": "b-H1Xb-ZEE22",
        "outputId": "27051dd5-415b-42f6-9a9e-714b26cbc3c9"
      },
      "execution_count": null,
      "outputs": [
        {
          "output_type": "stream",
          "name": "stdout",
          "text": [
            "Is the finalResult 48? Yes, well done!\n",
            "The final result is even!\n"
          ]
        }
      ]
    },
    {
      "cell_type": "code",
      "metadata": {
        "id": "U2qDo_E_bwRz",
        "colab": {
          "base_uri": "https://localhost:8080/"
        },
        "outputId": "c591d7fd-aa89-414a-c32c-0938500187da"
      },
      "source": [
        "# 算数\n",
        "%%writefile temp.ts\n",
        "let result = (7 + 13) / (9 + 7);\n",
        "let result2 = 100 / (2 * 6);\n",
        "\n",
        "console.log (result); // 1.25\n",
        "console.log (result2); // 8.333333333333334\n",
        "\n",
        "result *= result2;\n",
        "console.log (result); // 10.416666666666668\n",
        "\n",
        "let finalResult = result.toFixed(2);\n",
        "console.log (finalResult); // 10.42\n",
        "console.log (typeof(finalResult)); // string\n",
        "let finalNumber = Number(finalResult);\n",
        "\n",
        "let para1 = `Your finalResult is ${ finalResult }`; // バックティックを使う\n",
        "let finalNumberCheck = isNaN(finalNumber) === false ? 'finalNumber is a number type. Well done!' : `Ooops! finalNumber is not a number.`;\n",
        "let para2 = finalNumberCheck;\n",
        "\n",
        "console.log (para1); // Your finalResult is 10.42\n",
        "console.log (para2); // finalNumber is a number type. Well done!"
      ],
      "execution_count": null,
      "outputs": [
        {
          "output_type": "stream",
          "name": "stdout",
          "text": [
            "Overwriting temp.ts\n"
          ]
        }
      ]
    },
    {
      "cell_type": "code",
      "source": [
        "!tsc temp.ts; node temp.js"
      ],
      "metadata": {
        "colab": {
          "base_uri": "https://localhost:8080/"
        },
        "id": "9H87Gbd0IO4Y",
        "outputId": "19f59bae-8e6a-4998-f617-d30c8faa16db"
      },
      "execution_count": null,
      "outputs": [
        {
          "output_type": "stream",
          "name": "stdout",
          "text": [
            "\u001b[33m1.25\u001b[39m\n",
            "\u001b[33m8.333333333333334\u001b[39m\n",
            "\u001b[33m10.416666666666668\u001b[39m\n",
            "10.42\n",
            "string\n",
            "Your finalResult is 10.42\n",
            "finalNumber is a number type. Well done!\n"
          ]
        }
      ]
    },
    {
      "cell_type": "code",
      "source": [
        "# 問題 算数 2\n",
        "%%writefile temp.ts\n",
        "\n",
        "// Statement 1: The elephant weights less than the mouse\n",
        "let eleWeight = 1000;\n",
        "let mouseWeight = 2;\n",
        "\n",
        "// Statement 2: The Ostrich is taller than the duck\n",
        "let ostrichHeight = 2;\n",
        "let duckHeight = 0.3;\n",
        "\n",
        "// Statement 3: The two passwords match\n",
        "let pwd1 = 'stromboli';\n",
        "let pwd2 = 'stROmBoLi'\n",
        "\n",
        "// Add your code here\n",
        "\n",
        "let weightComparison = eleWeight < mouseWeight;\n",
        "let heightComparison = ostrichHeight > duckHeight;\n",
        "let pwdMatch = pwd1 === pwd2\n",
        "\n",
        "console.log (weightComparison);\n",
        "console.log (heightComparison);\n",
        "console.log (pwdMatch);\n",
        "\n",
        "let weightTest = weightComparison ? 'True — elephants weight less than mice!?' : 'False — of course an elephant is heavier than a mouse!';\n",
        "let heightTest = heightComparison ? 'True — an ostrich is indeed taller than a duck!' : 'False — apparently a duck is taller than an ostrich!?';\n",
        "let pwdTest = pwdMatch ? 'True — the passwords match.' : 'False — the passwords do not match; please check them';\n",
        "\n",
        "console.log (weightTest);\n",
        "console.log (heightTest);\n",
        "console.log (pwdTest);\n",
        "    "
      ],
      "metadata": {
        "id": "hp950eaXgA6h",
        "colab": {
          "base_uri": "https://localhost:8080/"
        },
        "outputId": "6d9eb661-b2b1-40a4-c799-5afccfd1a39a"
      },
      "execution_count": null,
      "outputs": [
        {
          "output_type": "stream",
          "name": "stdout",
          "text": [
            "Overwriting temp.ts\n"
          ]
        }
      ]
    },
    {
      "cell_type": "code",
      "source": [
        "!tsc temp.ts; node temp.js"
      ],
      "metadata": {
        "colab": {
          "base_uri": "https://localhost:8080/"
        },
        "id": "xlqYoI-1I6wt",
        "outputId": "8121b25d-d173-496a-fa6a-8c1e7ffef599"
      },
      "execution_count": null,
      "outputs": [
        {
          "output_type": "stream",
          "name": "stdout",
          "text": [
            "\u001b[33mfalse\u001b[39m\n",
            "\u001b[33mtrue\u001b[39m\n",
            "\u001b[33mfalse\u001b[39m\n",
            "False — of course an elephant is heavier than a mouse!\n",
            "True — an ostrich is indeed taller than a duck!\n",
            "False — the passwords do not match; please check them\n"
          ]
        }
      ]
    },
    {
      "cell_type": "code",
      "source": [
        "# 配列 array JavaScript では配列 array というが実はリストのこと。\n",
        "%%writefile temp.ts\n",
        "\n",
        "let shopping = ['パン', '牛乳', 'チーズ', 'ハム', '麺'];\n",
        "console.log (shopping);\n",
        "console.log (shopping.toString());\n",
        "console.log (typeof(shopping));\n",
        "\n",
        "console.log (shopping[0]);\n",
        "\n",
        "shopping[0] = 'タヒーニ';\n",
        "console.log (shopping[0]);\n",
        "\n",
        "let sequence = [1, 1, 2, 3, 5, 8, 13];\n",
        "let random = ['tree', 795, [0, 1, 2]];\n",
        "\n",
        "console.log (random[2][2]);\n",
        "console.log (sequence.length);\n",
        "\n",
        "for (let i = 0; i < shopping.length; i++){\n",
        "    console.log (shopping[i]);\n",
        "}"
      ],
      "metadata": {
        "id": "sx_FSpdLnf0C",
        "outputId": "22d3a735-1945-4319-ca13-0434334ffc55",
        "colab": {
          "base_uri": "https://localhost:8080/"
        }
      },
      "execution_count": null,
      "outputs": [
        {
          "output_type": "stream",
          "name": "stdout",
          "text": [
            "Overwriting temp.ts\n"
          ]
        }
      ]
    },
    {
      "cell_type": "code",
      "source": [
        "!tsc temp.ts; node temp.js"
      ],
      "metadata": {
        "id": "VQDdGYatMCGY",
        "outputId": "03ae59f9-8cfd-4f02-fb27-f04f9d43ac51",
        "colab": {
          "base_uri": "https://localhost:8080/"
        }
      },
      "execution_count": null,
      "outputs": [
        {
          "output_type": "stream",
          "name": "stdout",
          "text": [
            "[ \u001b[32m'パン'\u001b[39m, \u001b[32m'牛乳'\u001b[39m, \u001b[32m'チーズ'\u001b[39m, \u001b[32m'ハム'\u001b[39m, \u001b[32m'麺'\u001b[39m ]\n",
            "パン,牛乳,チーズ,ハム,麺\n",
            "object\n",
            "パン\n",
            "タヒーニ\n",
            "\u001b[33m2\u001b[39m\n",
            "\u001b[33m7\u001b[39m\n",
            "タヒーニ\n",
            "牛乳\n",
            "チーズ\n",
            "ハム\n",
            "麺\n"
          ]
        }
      ]
    },
    {
      "cell_type": "code",
      "source": [
        "# 配列 push pop shift unshift removedItem\n",
        "%%writefile temp.ts\n",
        "let myData = '札幌,仙台,東京,名古屋,大阪,博多';\n",
        "let myArray = myData.split(',');\n",
        "console.log (myData); // 札幌,仙台,東京,名古屋,大阪,博多\n",
        "console.log (myArray); // [ '札幌', '仙台', '東京', '名古屋', '大阪', '博多' ]\n",
        "console.log (myArray[0]); // 札幌\n",
        "\n",
        "let myNewString = myArray.join (' -> ');\n",
        "console.log (myNewString); // 札幌 -> 仙台 -> 東京 -> 名古屋 -> 大阪 -> 博多\n",
        "\n",
        "myArray.push('横浜');\n",
        "myArray.pop()\n",
        "myArray.pop()\n",
        "myArray.pop()\n",
        "myArray.pop()\n",
        "console.log(myArray) // [ '札幌', '仙台', '東京' ]\n",
        "myArray.push('神戸', '広島');\n",
        "console.log (myArray); // [ '札幌', '仙台', '東京', '神戸', '広島' ]\n",
        "let newLength = myArray.push('京都');\n",
        "console.log (myArray); // [ '札幌', '仙台', '東京', '神戸', '広島', '京都' ]\n",
        "console.log (newLength); // 6\n",
        "let removedItem = myArray.pop();\n",
        "console.log (myArray); // [ '札幌', '仙台', '東京', '神戸', '広島' ]\n",
        "console.log (removedItem); // 京都\n",
        "myArray.unshift('奈良'); \n",
        "console.log (myArray); // [ '奈良', '札幌', '仙台', '東京', '神戸', '広島' ]\n",
        "removedItem = myArray.shift();\n",
        "console.log (myArray); // [ '札幌', '仙台', '東京', '神戸', '広島' ]\n",
        "console.log (removedItem); // 奈良"
      ],
      "metadata": {
        "id": "B8uTXQzHs6U1",
        "colab": {
          "base_uri": "https://localhost:8080/"
        },
        "outputId": "7a41c120-d7dc-4a1c-b98f-13d9cb0e74ce"
      },
      "execution_count": null,
      "outputs": [
        {
          "output_type": "stream",
          "name": "stdout",
          "text": [
            "Overwriting temp.ts\n"
          ]
        }
      ]
    },
    {
      "cell_type": "code",
      "source": [
        "!tsc temp.ts; node temp.js"
      ],
      "metadata": {
        "colab": {
          "base_uri": "https://localhost:8080/"
        },
        "id": "LFHvmkFOhIpM",
        "outputId": "1fc25b85-d08f-4f23-ca53-7b42fd7c5a15"
      },
      "execution_count": null,
      "outputs": [
        {
          "output_type": "stream",
          "name": "stdout",
          "text": [
            "札幌,仙台,東京,名古屋,大阪,博多\n",
            "[ \u001b[32m'札幌'\u001b[39m, \u001b[32m'仙台'\u001b[39m, \u001b[32m'東京'\u001b[39m, \u001b[32m'名古屋'\u001b[39m, \u001b[32m'大阪'\u001b[39m, \u001b[32m'博多'\u001b[39m ]\n",
            "札幌\n",
            "札幌 -> 仙台 -> 東京 -> 名古屋 -> 大阪 -> 博多\n",
            "[ \u001b[32m'札幌'\u001b[39m, \u001b[32m'仙台'\u001b[39m, \u001b[32m'東京'\u001b[39m ]\n",
            "[ \u001b[32m'札幌'\u001b[39m, \u001b[32m'仙台'\u001b[39m, \u001b[32m'東京'\u001b[39m, \u001b[32m'神戸'\u001b[39m, \u001b[32m'広島'\u001b[39m ]\n",
            "[ \u001b[32m'札幌'\u001b[39m, \u001b[32m'仙台'\u001b[39m, \u001b[32m'東京'\u001b[39m, \u001b[32m'神戸'\u001b[39m, \u001b[32m'広島'\u001b[39m, \u001b[32m'京都'\u001b[39m ]\n",
            "\u001b[33m6\u001b[39m\n",
            "[ \u001b[32m'札幌'\u001b[39m, \u001b[32m'仙台'\u001b[39m, \u001b[32m'東京'\u001b[39m, \u001b[32m'神戸'\u001b[39m, \u001b[32m'広島'\u001b[39m ]\n",
            "京都\n",
            "[ \u001b[32m'奈良'\u001b[39m, \u001b[32m'札幌'\u001b[39m, \u001b[32m'仙台'\u001b[39m, \u001b[32m'東京'\u001b[39m, \u001b[32m'神戸'\u001b[39m, \u001b[32m'広島'\u001b[39m ]\n",
            "[ \u001b[32m'札幌'\u001b[39m, \u001b[32m'仙台'\u001b[39m, \u001b[32m'東京'\u001b[39m, \u001b[32m'神戸'\u001b[39m, \u001b[32m'広島'\u001b[39m ]\n",
            "奈良\n"
          ]
        }
      ]
    },
    {
      "cell_type": "code",
      "source": [
        "# toString(), String()\n",
        "%%writefile temp.ts\n",
        "let dogNames = ['ポチ','ハチ','タロウ','モコ'];\n",
        "console.log(dogNames); // ['ポチ','ハチ','タロウ','モコ'];\n",
        "dogNames.toString(); \n",
        "console.log(dogNames); // ['ポチ','ハチ','タロウ','モコ']\n",
        "console.log(dogNames.toString()); // ポチ,ハチ,タロウ,モコ\n",
        "console.log(String(dogNames)); // ポチ,ハチ,タロウ,モコ\n",
        "console.log (typeof(String (dogNames))); // string"
      ],
      "metadata": {
        "colab": {
          "base_uri": "https://localhost:8080/"
        },
        "outputId": "69572308-04df-4ef8-b6d3-e094ef4db81f",
        "id": "_YKkeXG9LBmS"
      },
      "execution_count": null,
      "outputs": [
        {
          "output_type": "stream",
          "name": "stdout",
          "text": [
            "Overwriting temp.ts\n"
          ]
        }
      ]
    },
    {
      "cell_type": "code",
      "source": [
        "!tsc temp.ts; node temp.js"
      ],
      "metadata": {
        "colab": {
          "base_uri": "https://localhost:8080/"
        },
        "outputId": "d12c1deb-7b08-4904-dbac-778baa8ded39",
        "id": "RkE4DRJzLTcn"
      },
      "execution_count": null,
      "outputs": [
        {
          "output_type": "stream",
          "name": "stdout",
          "text": [
            "[ \u001b[32m'ポチ'\u001b[39m, \u001b[32m'ハチ'\u001b[39m, \u001b[32m'タロウ'\u001b[39m, \u001b[32m'モコ'\u001b[39m ]\n",
            "[ \u001b[32m'ポチ'\u001b[39m, \u001b[32m'ハチ'\u001b[39m, \u001b[32m'タロウ'\u001b[39m, \u001b[32m'モコ'\u001b[39m ]\n",
            "ポチ,ハチ,タロウ,モコ\n",
            "ポチ,ハチ,タロウ,モコ\n",
            "string\n"
          ]
        }
      ]
    },
    {
      "cell_type": "code",
      "source": [
        "# 実験split() \n",
        "%%writefile temp.ts\n",
        "let myData = '札幌,仙台,東京,,名古屋,大阪,博多';\n",
        "let myArray = myData.split(',');\n",
        "console.log(myArray)\n",
        "myArray = myData.split(/[\\n\\s,;.]+/);\n",
        "console.log(myArray)"
      ],
      "metadata": {
        "id": "3ulSUXUxSDTF",
        "outputId": "77623139-942a-422b-94b9-0ed5fcef20bb",
        "colab": {
          "base_uri": "https://localhost:8080/"
        }
      },
      "execution_count": null,
      "outputs": [
        {
          "output_type": "stream",
          "name": "stdout",
          "text": [
            "Overwriting temp.ts\n"
          ]
        }
      ]
    },
    {
      "cell_type": "code",
      "source": [
        "!tsc temp.ts; node temp.js"
      ],
      "metadata": {
        "id": "dkrr1fUuSFG1",
        "outputId": "fe31d6ed-36fc-432d-8550-cf56d597910b",
        "colab": {
          "base_uri": "https://localhost:8080/"
        }
      },
      "execution_count": null,
      "outputs": [
        {
          "output_type": "stream",
          "name": "stdout",
          "text": [
            "[\n",
            "  \u001b[32m'札幌'\u001b[39m,   \u001b[32m'仙台'\u001b[39m,\n",
            "  \u001b[32m'東京'\u001b[39m,   \u001b[32m''\u001b[39m,\n",
            "  \u001b[32m'名古屋'\u001b[39m, \u001b[32m'大阪'\u001b[39m,\n",
            "  \u001b[32m'博多'\u001b[39m\n",
            "]\n",
            "[ \u001b[32m'札幌'\u001b[39m, \u001b[32m'仙台'\u001b[39m, \u001b[32m'東京'\u001b[39m, \u001b[32m'名古屋'\u001b[39m, \u001b[32m'大阪'\u001b[39m, \u001b[32m'博多'\u001b[39m ]\n"
          ]
        }
      ]
    },
    {
      "cell_type": "code",
      "source": [
        "# 問題 商品の印字\n",
        "%%writefile temp.ts\n",
        "let total = 0;\n",
        "\n",
        "let products = [\n",
        "    'パンツ:6.99', \n",
        "    '靴下:5.99', \n",
        "    'T シャツ:14.99', \n",
        "    'ズボン:31.99', \n",
        "    '靴:23.99'\n",
        "]\n",
        "\n",
        "for (let i = 0; i < (products.length); i++) {\n",
        "    let product = products[i].split(':')[0];\n",
        "    let price = products[i].split(':')[1];\n",
        "    total += Number(price)\n",
        "    console.log (`${product} -- \\$${price}`)\n",
        "}\n",
        "console.log ('合計: $' + total.toFixed(2));\n"
      ],
      "metadata": {
        "id": "4f-XFOEHeEIB",
        "colab": {
          "base_uri": "https://localhost:8080/"
        },
        "outputId": "d3cea12c-70be-4c46-c137-bad838cbec58"
      },
      "execution_count": null,
      "outputs": [
        {
          "output_type": "stream",
          "name": "stdout",
          "text": [
            "Overwriting temp.ts\n"
          ]
        }
      ]
    },
    {
      "cell_type": "code",
      "source": [
        "!tsc temp.ts; node temp.js"
      ],
      "metadata": {
        "id": "ub2n78ohwf6i",
        "outputId": "81f94967-9255-4d3a-b529-b659e2ebc81e",
        "colab": {
          "base_uri": "https://localhost:8080/"
        }
      },
      "execution_count": null,
      "outputs": [
        {
          "output_type": "stream",
          "name": "stdout",
          "text": [
            "パンツ -- $6.99\n",
            "靴下 -- $5.99\n",
            "T シャツ -- $14.99\n",
            "ズボン -- $31.99\n",
            "靴 -- $23.99\n",
            "合計: $83.95\n"
          ]
        }
      ]
    },
    {
      "cell_type": "code",
      "source": [
        "# javascript では primitive にメソッドを作用させられる\n",
        "%%writefile temp.ts\n",
        "console.log(\"hello\".toUpperCase())"
      ],
      "metadata": {
        "id": "tAfOkcQYLDuD",
        "outputId": "70acf3de-633f-4fae-c90d-4eb89ed49159",
        "colab": {
          "base_uri": "https://localhost:8080/"
        }
      },
      "execution_count": null,
      "outputs": [
        {
          "output_type": "stream",
          "name": "stdout",
          "text": [
            "Overwriting temp.ts\n"
          ]
        }
      ]
    },
    {
      "cell_type": "code",
      "source": [
        "!tsc temp.ts; node temp.js"
      ],
      "metadata": {
        "id": "26DEPvrvLDpd",
        "outputId": "80909f6d-d2bc-4fb4-9a28-532d20255b76",
        "colab": {
          "base_uri": "https://localhost:8080/"
        }
      },
      "execution_count": null,
      "outputs": [
        {
          "output_type": "stream",
          "name": "stdout",
          "text": [
            "HELLO\n"
          ]
        }
      ]
    },
    {
      "cell_type": "code",
      "source": [
        "# undefined も null もプリミティブ型の値という点は共通していますが、\n",
        "# undefined は変数であり null はリテラルです。\n",
        "# null はリテラルなので null という名前の変数を作ることはできません。\n",
        "# 一方で undefined はリテラルではなく変数なので、undefined という変数を作ることはできます。\n",
        "%%writefile temp.ts\n",
        "console.log(typeof undefined); // \"undefined\"\n",
        "console.log(typeof null); // \"object\"\n",
        "console.log(JSON.stringify({ foo: undefined })); // {}\n",
        "console.log(JSON.stringify({ foo: null })); // {\"foo\": null}"
      ],
      "metadata": {
        "id": "-qxQf64mE7md",
        "colab": {
          "base_uri": "https://localhost:8080/"
        },
        "outputId": "4dd10564-5fbc-4f54-8102-259e9dd57efb"
      },
      "execution_count": null,
      "outputs": [
        {
          "output_type": "stream",
          "name": "stdout",
          "text": [
            "Overwriting temp.ts\n"
          ]
        }
      ]
    },
    {
      "cell_type": "code",
      "source": [
        "!tsc temp.ts; node temp.js"
      ],
      "metadata": {
        "id": "7tQeZ1KYE8g8",
        "colab": {
          "base_uri": "https://localhost:8080/"
        },
        "outputId": "d9e475ae-4e03-4084-ad2e-6b2836790c70"
      },
      "execution_count": null,
      "outputs": [
        {
          "output_type": "stream",
          "name": "stdout",
          "text": [
            "undefined\n",
            "object\n",
            "{}\n",
            "{\"foo\":null}\n"
          ]
        }
      ]
    },
    {
      "cell_type": "code",
      "source": [
        "# シンボル型\n",
        "# Ruby のシンボル的なことは、JavaScript や TypeScript では文字列を用いて解決する\n",
        "# 互換性のためにあるのであって、使わない\n",
        "%%writefile temp.ts\n",
        "const s1 = Symbol(\"foo\");\n",
        "const s2 = Symbol(\"foo\");\n",
        "console.log(s1 === s1); // true\n",
        "console.log(s1 === s2); // error This condition will always return 'false' since ..."
      ],
      "metadata": {
        "colab": {
          "base_uri": "https://localhost:8080/"
        },
        "id": "S1ewbRAmbpyG",
        "outputId": "a79fa666-e9b5-45af-bb37-6a315364d28f"
      },
      "execution_count": null,
      "outputs": [
        {
          "output_type": "stream",
          "name": "stdout",
          "text": [
            "Writing temp.ts\n"
          ]
        }
      ]
    },
    {
      "cell_type": "code",
      "source": [
        "!tsc temp.ts; node temp.js"
      ],
      "metadata": {
        "id": "QX7FuBDRbu67",
        "outputId": "19caaa8b-8dce-4fa7-d659-ae65519054ec",
        "colab": {
          "base_uri": "https://localhost:8080/"
        }
      },
      "execution_count": null,
      "outputs": [
        {
          "output_type": "stream",
          "name": "stdout",
          "text": [
            "\u001b[96mtemp.ts\u001b[0m:\u001b[93m4\u001b[0m:\u001b[93m13\u001b[0m - \u001b[91merror\u001b[0m\u001b[90m TS2367: \u001b[0mThis condition will always return 'false' since the types 'typeof s1' and 'typeof s2' have no overlap.\n",
            "\n",
            "\u001b[7m4\u001b[0m console.log(s1 === s2); // error This condition will always return 'false' since ...\n",
            "\u001b[7m \u001b[0m \u001b[91m            ~~~~~~~~~\u001b[0m\n",
            "\n",
            "\n",
            "Found 1 error in temp.ts\u001b[90m:4\u001b[0m\n",
            "\n",
            "\u001b[33mtrue\u001b[39m\n",
            "\u001b[33mfalse\u001b[39m\n"
          ]
        }
      ]
    },
    {
      "cell_type": "code",
      "source": [
        "# オブジェクトリテラル\n",
        "# 広く使われるデータシリアライズ形式に JSON がある\n",
        "# JSON は JavaScript Object Notation の略で、\n",
        "# JSON の由来は JavaScript のオブジェクトリテラル\n",
        "# JavaScript では JSON をそのままオブジェクトリテラルとして解釈できる\n",
        "# data = [{\"key\":\"value\",},]"
      ],
      "metadata": {
        "id": "kxGrtiujjBJi"
      },
      "execution_count": null,
      "outputs": []
    },
    {
      "cell_type": "code",
      "source": [
        "# 配列のコピー => 通常の代入ではダメでスプレッド構文 `...` を使う\n",
        "%%writefile temp.ts\n",
        "const arr = [1, 2, 3];\n",
        "const arr2 = arr;\n",
        "const arr3 = [...arr]\n",
        "arr.push(4)\n",
        "console.log(arr)\n",
        "console.log(arr2)\n",
        "console.log(arr3)\n",
        "console.log(...arr)"
      ],
      "metadata": {
        "id": "Wj-_OwqYloms",
        "outputId": "197e9e9c-f2af-4bd5-d2f8-1322333ecab8",
        "colab": {
          "base_uri": "https://localhost:8080/"
        }
      },
      "execution_count": null,
      "outputs": [
        {
          "output_type": "stream",
          "name": "stdout",
          "text": [
            "Writing temp.ts\n"
          ]
        }
      ]
    },
    {
      "cell_type": "code",
      "source": [
        "!tsc temp.ts; node temp.js"
      ],
      "metadata": {
        "id": "NcbvQTpAl09A",
        "outputId": "a588de76-3d96-4603-ac69-59594e6b889a",
        "colab": {
          "base_uri": "https://localhost:8080/"
        }
      },
      "execution_count": null,
      "outputs": [
        {
          "output_type": "stream",
          "name": "stdout",
          "text": [
            "[ \u001b[33m1\u001b[39m, \u001b[33m2\u001b[39m, \u001b[33m3\u001b[39m, \u001b[33m4\u001b[39m ]\n",
            "[ \u001b[33m1\u001b[39m, \u001b[33m2\u001b[39m, \u001b[33m3\u001b[39m, \u001b[33m4\u001b[39m ]\n",
            "[ \u001b[33m1\u001b[39m, \u001b[33m2\u001b[39m, \u001b[33m3\u001b[39m ]\n",
            "\u001b[33m1\u001b[39m \u001b[33m2\u001b[39m \u001b[33m3\u001b[39m \u001b[33m4\u001b[39m\n"
          ]
        }
      ]
    },
    {
      "cell_type": "code",
      "source": [
        "# 配列の連結・結合\n",
        "%%writefile temp.ts\n",
        "const arr = [1, 2, 3];\n",
        "const arr2 = [4, 5, 6];\n",
        "const concat = [...arr, ...arr2];\n",
        "// const cocat02 = arr + arr2 // エラーになる\n",
        "const concat03 = arr.concat(arr2)\n",
        "console.log(concat)\n",
        "console.log(concat03)"
      ],
      "metadata": {
        "id": "LMeAlARzmzbg",
        "outputId": "2faaf08f-bb9f-41a4-9262-7ec6eb529890",
        "colab": {
          "base_uri": "https://localhost:8080/"
        }
      },
      "execution_count": null,
      "outputs": [
        {
          "output_type": "stream",
          "name": "stdout",
          "text": [
            "Overwriting temp.ts\n"
          ]
        }
      ]
    },
    {
      "cell_type": "code",
      "source": [
        "!tsc temp.ts; node temp.js"
      ],
      "metadata": {
        "id": "-u3cNnGEnLzD",
        "outputId": "364d9046-e6d2-487a-eede-e5896b40c66b",
        "colab": {
          "base_uri": "https://localhost:8080/"
        }
      },
      "execution_count": null,
      "outputs": [
        {
          "output_type": "stream",
          "name": "stdout",
          "text": [
            "[ \u001b[33m1\u001b[39m, \u001b[33m2\u001b[39m, \u001b[33m3\u001b[39m, \u001b[33m4\u001b[39m, \u001b[33m5\u001b[39m, \u001b[33m6\u001b[39m ]\n",
            "[ \u001b[33m1\u001b[39m, \u001b[33m2\u001b[39m, \u001b[33m3\u001b[39m, \u001b[33m4\u001b[39m, \u001b[33m5\u001b[39m, \u001b[33m6\u001b[39m ]\n"
          ]
        }
      ]
    },
    {
      "cell_type": "code",
      "source": [
        "# JavaScript のオブジェクト指向はプロトタイプベースである"
      ],
      "metadata": {
        "id": "P_MuYagXnfIF"
      },
      "execution_count": null,
      "outputs": []
    },
    {
      "cell_type": "code",
      "source": [
        "# 配列の比較\n",
        "%%writefile temp.ts\n",
        "console.log(3 == 3) // true\n",
        "const a = [1,2,3]\n",
        "const b = [1,2,3]\n",
        "console.log(a == b) // false"
      ],
      "metadata": {
        "id": "TfojjhDHnfDp"
      },
      "execution_count": null,
      "outputs": []
    },
    {
      "cell_type": "code",
      "source": [
        "!tsc temp.ts; node temp.js"
      ],
      "metadata": {
        "id": "Mba5YCMsMPib",
        "outputId": "66aadf0f-f961-4df6-ccc5-255c2f3fb780",
        "colab": {
          "base_uri": "https://localhost:8080/"
        }
      },
      "execution_count": null,
      "outputs": [
        {
          "output_type": "stream",
          "name": "stdout",
          "text": [
            "\u001b[33mtrue\u001b[39m\n",
            "\u001b[33mfalse\u001b[39m\n"
          ]
        }
      ]
    },
    {
      "cell_type": "code",
      "source": [
        "# 配列の非破壊的メソッド\n",
        "%%html\n",
        "<style>\n",
        "    tr td:nth-child(1) {\n",
        "        color: red;\n",
        "        text-align: center;\n",
        "    }\n",
        "</style>\n",
        "<table border=\"1\">\n",
        "<thead>\n",
        "<tr><th>メソッド</th><th>操作</th></tr>\n",
        "</thead>\n",
        "<tbody>\n",
        "<tr><td>concat</td><td>2つ以上の配列を結合した配列を返す</td></tr>\n",
        "<tr><td>find</td><td>提供されたテスト関数を満たす配列内の最初の要素を返す</td></tr>\n",
        "<tr><td>findIndex</td><td>配列内の指定されたテスト関数を満たす最初の要素の位置を返す</td></tr>\n",
        "<tr><td>lastIndexOf</td><td>配列中で与えられた要素が見つかった最後のインデックスを返す</td></tr>\n",
        "<tr><td>slice</td><td>配列の一部を切り出して返す</td></tr>\n",
        "<tr><td>includes</td><td>配列に任意の要素が含まれているかをtrueかfalseで返す</td></tr>\n",
        "<tr><td>indexOf</td><td>引数に与えられた内容と同じ内容を持つ最初の配列要素のインデックスを返す</td></tr>\n",
        "<tr><td>join</td><td>全要素を連結した文字列を返す</td></tr>\n",
        "<tr><td>keys</td><td>配列のインデックスをArray Iteratorオブジェクトで返す</td></tr>\n",
        "<tr><td>entries</td><td>配列のインデックスと値のペアをArray Iteratorオブジェクトで返す</td></tr>\n",
        "<tr><td>values</td><td>配列の値をArray Iteratorオブジェクトで返す</td></tr>\n",
        "<tr><td>forEach</td><td>与えられた関数を、配列の各要素に対して一度ずつ実行する</td></tr>\n",
        "<tr><td>filter</td><td>与えられた関数によって実装されたテストに合格したすべての配列からなる新しい配列を返す</td></tr>\n",
        "<tr><td>flat</td><td>すべてのサブ配列の要素を指定した深さで再帰的に結合した新しい配列を返す</td></tr>\n",
        "<tr><td>flatMap</td><td>最初にマッピング関数を使用してそれぞれの要素をマップした後、結果を新しい配列内にフラット化する</td></tr>\n",
        "<tr><td>map</td><td>与えられた関数を配列のすべての要素に対して呼び出し、その結果からなる新しい配列を返す</td></tr>\n",
        "<tr><td>every</td><td>列内のすべての要素が指定された関数で実装されたテストに合格するかどうかをテストする</td></tr>\n",
        "<tr><td>some</td><td>配列の少なくともひとつの要素が、指定された関数で実装されたテストに合格するかどうかをテストする</td></tr>\n",
        "<tr><td>reduce</td><td>配列のそれぞれの要素に対してユーザーが提供した「縮小」コールバック関数を呼び出す</td></tr>\n",
        "<tr><td>reduceRight</td><td>アキュームレーターと配列のそれぞれの値に対して (右から左へ) 関数を適用して、単一の値にする</td></tr>\n",
        "</tbody>\n",
        "</table>"
      ],
      "metadata": {
        "id": "SXEooo1POPXe",
        "outputId": "f36192de-dd9a-4e65-a624-8f8d6121ae2f",
        "colab": {
          "base_uri": "https://localhost:8080/",
          "height": 503
        }
      },
      "execution_count": null,
      "outputs": [
        {
          "output_type": "display_data",
          "data": {
            "text/plain": [
              "<IPython.core.display.HTML object>"
            ],
            "text/html": [
              "<style>\n",
              "    tr td:nth-child(1) {\n",
              "        color: red;\n",
              "        text-align: center;\n",
              "    }\n",
              "</style>\n",
              "<table border=\"1\">\n",
              "<thead>\n",
              "<tr><th>メソッド</th><th>操作</th></tr>\n",
              "</thead>\n",
              "<tbody>\n",
              "<tr><td>concat</td><td>2つ以上の配列を結合した配列を返す</td></tr>\n",
              "<tr><td>find</td><td>提供されたテスト関数を満たす配列内の最初の要素を返す</td></tr>\n",
              "<tr><td>findIndex</td><td>配列内の指定されたテスト関数を満たす最初の要素の位置を返す</td></tr>\n",
              "<tr><td>lastIndexOf</td><td>配列中で与えられた要素が見つかった最後のインデックスを返す</td></tr>\n",
              "<tr><td>slice</td><td>配列の一部を切り出して返す</td></tr>\n",
              "<tr><td>includes</td><td>配列に任意の要素が含まれているかをtrueかfalseで返す</td></tr>\n",
              "<tr><td>indexOf</td><td>引数に与えられた内容と同じ内容を持つ最初の配列要素のインデックスを返す</td></tr>\n",
              "<tr><td>join</td><td>全要素を連結した文字列を返す</td></tr>\n",
              "<tr><td>keys</td><td>配列のインデックスをArray Iteratorオブジェクトで返す</td></tr>\n",
              "<tr><td>entries</td><td>配列のインデックスと値のペアをArray Iteratorオブジェクトで返す</td></tr>\n",
              "<tr><td>values</td><td>配列の値をArray Iteratorオブジェクトで返す</td></tr>\n",
              "<tr><td>forEach</td><td>与えられた関数を、配列の各要素に対して一度ずつ実行する</td></tr>\n",
              "<tr><td>filter</td><td>与えられた関数によって実装されたテストに合格したすべての配列からなる新しい配列を返す</td></tr>\n",
              "<tr><td>flat</td><td>すべてのサブ配列の要素を指定した深さで再帰的に結合した新しい配列を返す</td></tr>\n",
              "<tr><td>flatMap</td><td>最初にマッピング関数を使用してそれぞれの要素をマップした後、結果を新しい配列内にフラット化する</td></tr>\n",
              "<tr><td>map</td><td>与えられた関数を配列のすべての要素に対して呼び出し、その結果からなる新しい配列を返す</td></tr>\n",
              "<tr><td>every</td><td>列内のすべての要素が指定された関数で実装されたテストに合格するかどうかをテストする</td></tr>\n",
              "<tr><td>some</td><td>配列の少なくともひとつの要素が、指定された関数で実装されたテストに合格するかどうかをテストする</td></tr>\n",
              "<tr><td>reduce</td><td>配列のそれぞれの要素に対してユーザーが提供した「縮小」コールバック関数を呼び出す</td></tr>\n",
              "<tr><td>reduceRight</td><td>アキュームレーターと配列のそれぞれの値に対して (右から左へ) 関数を適用して、単一の値にする</td></tr>\n",
              "</tbody>\n",
              "</table>"
            ]
          },
          "metadata": {}
        }
      ]
    },
    {
      "cell_type": "code",
      "source": [
        "# 配列の破壊的メソッド\n",
        "%%html\n",
        "<style>\n",
        "    tr td:nth-child(1) {\n",
        "        color: red;\n",
        "        text-align: center;\n",
        "    }\n",
        "</style>\n",
        "<table border=\"1\">\n",
        "<thead>\n",
        "<tr><th>メソッド</th><th>操作</th></tr>\n",
        "</thead>\n",
        "<tbody>\n",
        "<tr><td>push</td><td>配列の末尾に要素を追加する</td></tr>\n",
        "<tr><td>unshift</td><td>配列の最初に要素を追加する</td></tr>\n",
        "<tr><td>pop</td><td>配列から最後の要素を取り除き、その要素を返す</td></tr>\n",
        "<tr><td>shift</td><td>配列から最初の要素を取り除き、その要素を返す</td></tr>\n",
        "<tr><td>splice</td><td>要素を取り除いたり、置き換えたり、新しい要素を追加する</td></tr>\n",
        "<tr><td>sort</td><td>配列の要素をソートする</td></tr>\n",
        "<tr><td>reverse</td><td>配列の要素を逆順に並び替える</td></tr>\n",
        "<tr><td>fill</td><td>開始インデックスから終了インデックスまでのすべての要素を、静的な値に変更した配列を返す</td></tr>\n",
        "<tr><td>copyWithin</td><td>サイズを変更せずに、配列の一部を同じ配列内の別の場所にシャローコピーして返す</td></tr>\n",
        "</tbody>\n",
        "</table>"
      ],
      "metadata": {
        "id": "_yDUzxJZMxDc",
        "outputId": "139fa69d-8078-4583-a531-8606ce71fb90",
        "colab": {
          "base_uri": "https://localhost:8080/",
          "height": 250
        }
      },
      "execution_count": null,
      "outputs": [
        {
          "output_type": "display_data",
          "data": {
            "text/plain": [
              "<IPython.core.display.HTML object>"
            ],
            "text/html": [
              "<style>\n",
              "    tr td:nth-child(1) {\n",
              "        color: red;\n",
              "        text-align: center;\n",
              "    }\n",
              "</style>\n",
              "<table border=\"1\">\n",
              "<thead>\n",
              "<tr><th>メソッド</th><th>操作</th></tr>\n",
              "</thead>\n",
              "<tbody>\n",
              "<tr><td>push</td><td>配列の末尾に要素を追加する</td></tr>\n",
              "<tr><td>unshift</td><td>配列の最初に要素を追加する</td></tr>\n",
              "<tr><td>pop</td><td>配列から最後の要素を取り除き、その要素を返す</td></tr>\n",
              "<tr><td>shift</td><td>配列から最初の要素を取り除き、その要素を返す</td></tr>\n",
              "<tr><td>splice</td><td>要素を取り除いたり、置き換えたり、新しい要素を追加する</td></tr>\n",
              "<tr><td>sort</td><td>配列の要素をソートする</td></tr>\n",
              "<tr><td>reverse</td><td>配列の要素を逆順に並び替える</td></tr>\n",
              "<tr><td>fill</td><td>開始インデックスから終了インデックスまでのすべての要素を、静的な値に変更した配列を返す</td></tr>\n",
              "<tr><td>copyWithin</td><td>サイズを変更せずに、配列の一部を同じ配列内の別の場所にシャローコピーして返す</td></tr>\n",
              "</tbody>\n",
              "</table>"
            ]
          },
          "metadata": {}
        }
      ]
    },
    {
      "cell_type": "code",
      "source": [
        "# 破壊的なメソッドを安全に使う方法 => コピーして使う\n",
        "%%writefile temp.ts\n",
        "const original = [1, 2, 3];\n",
        "const copy = [...original]; // コピーを作る\n",
        "copy.reverse();\n",
        "console.log(original); // 破壊的操作の影響がない [ 1, 2, 3 ]\n",
        "console.log(copy); // [ 3, 2, 1 ]"
      ],
      "metadata": {
        "id": "eW8FFoBFOPRG",
        "outputId": "6cd57477-ad03-4ef0-a500-b69156b3b26e",
        "colab": {
          "base_uri": "https://localhost:8080/"
        }
      },
      "execution_count": null,
      "outputs": [
        {
          "output_type": "stream",
          "name": "stdout",
          "text": [
            "Writing temp.ts\n"
          ]
        }
      ]
    },
    {
      "cell_type": "code",
      "source": [
        "!tsc temp.ts; node temp.js"
      ],
      "metadata": {
        "id": "pRtGKz_fNy-M",
        "outputId": "7c67333a-9657-4ab9-f231-e34f3f442b86",
        "colab": {
          "base_uri": "https://localhost:8080/"
        }
      },
      "execution_count": null,
      "outputs": [
        {
          "output_type": "stream",
          "name": "stdout",
          "text": [
            "[ \u001b[33m1\u001b[39m, \u001b[33m2\u001b[39m, \u001b[33m3\u001b[39m ]\n",
            "[ \u001b[33m3\u001b[39m, \u001b[33m2\u001b[39m, \u001b[33m1\u001b[39m ]\n"
          ]
        }
      ]
    },
    {
      "cell_type": "code",
      "source": [
        "# 破壊的なメソッドを安全に使う方法 => \n",
        "# 一行に書く\n",
        "%%writefile temp.ts\n",
        "const original = [1, 2, 3];\n",
        "const reversed = [...original].reverse();\n",
        "console.log(original); // 破壊的操作の影響がない [ 1, 2, 3 ]\n",
        "console.log(reversed); // [ 3, 2, 1 ]"
      ],
      "metadata": {
        "id": "wARzuuk_N-Za",
        "outputId": "26e2d085-74f7-45db-ad19-9b44b18905f1",
        "colab": {
          "base_uri": "https://localhost:8080/"
        }
      },
      "execution_count": null,
      "outputs": [
        {
          "output_type": "stream",
          "name": "stdout",
          "text": [
            "Overwriting temp.ts\n"
          ]
        }
      ]
    },
    {
      "cell_type": "code",
      "source": [
        "!tsc temp.ts; node temp.js"
      ],
      "metadata": {
        "id": "FekbavFEOOCt",
        "outputId": "dc6b7e33-42d3-4cae-bd57-ebeadd92c339",
        "colab": {
          "base_uri": "https://localhost:8080/"
        }
      },
      "execution_count": null,
      "outputs": [
        {
          "output_type": "stream",
          "name": "stdout",
          "text": [
            "[ \u001b[33m1\u001b[39m, \u001b[33m2\u001b[39m, \u001b[33m3\u001b[39m ]\n",
            "[ \u001b[33m3\u001b[39m, \u001b[33m2\u001b[39m, \u001b[33m1\u001b[39m ]\n"
          ]
        }
      ]
    },
    {
      "cell_type": "code",
      "source": [
        "# for-of 文\n",
        "%%writefile temp.ts\n",
        "const arr = [\"a\", \"b\", \"c\"];\n",
        "for (const value of arr) {\n",
        "  console.log(value); // a b cの順で出力される\n",
        "}"
      ],
      "metadata": {
        "id": "6KQ6kkruQZGW",
        "outputId": "2703a1f0-7748-4670-b217-61fc0ea90300",
        "colab": {
          "base_uri": "https://localhost:8080/"
        }
      },
      "execution_count": null,
      "outputs": [
        {
          "output_type": "stream",
          "name": "stdout",
          "text": [
            "Overwriting temp.ts\n"
          ]
        }
      ]
    },
    {
      "cell_type": "code",
      "source": [
        "!tsc temp.ts; node temp.js"
      ],
      "metadata": {
        "id": "sL9NNdvTQY9v",
        "outputId": "9007ae45-e7ad-477b-afa4-48d8f5b31cc5",
        "colab": {
          "base_uri": "https://localhost:8080/"
        }
      },
      "execution_count": null,
      "outputs": [
        {
          "output_type": "stream",
          "name": "stdout",
          "text": [
            "a\n",
            "b\n",
            "c\n"
          ]
        }
      ]
    },
    {
      "cell_type": "code",
      "source": [
        "# forEach \n",
        "%%writefile temp.ts\n",
        "const arr = [\"a\", \"b\", \"c\"];\n",
        "arr.forEach((value, i) => {\n",
        "  console.log(value, i);\n",
        "  // a 0\n",
        "  // b 1\n",
        "  // c 2 の順で出力される\n",
        "});"
      ],
      "metadata": {
        "id": "214wos1oQr0L",
        "outputId": "4c3947f1-9d9e-41f6-b864-f877de44584d",
        "colab": {
          "base_uri": "https://localhost:8080/"
        }
      },
      "execution_count": null,
      "outputs": [
        {
          "output_type": "stream",
          "name": "stdout",
          "text": [
            "Overwriting temp.ts\n"
          ]
        }
      ]
    },
    {
      "cell_type": "code",
      "source": [
        "!tsc temp.ts; node temp.js"
      ],
      "metadata": {
        "id": "wdiXj4hdQ_El",
        "outputId": "a4ff07cc-58b5-4f9a-abce-68039df3a6aa",
        "colab": {
          "base_uri": "https://localhost:8080/"
        }
      },
      "execution_count": null,
      "outputs": [
        {
          "output_type": "stream",
          "name": "stdout",
          "text": [
            "a \u001b[33m0\u001b[39m\n",
            "b \u001b[33m1\u001b[39m\n",
            "c \u001b[33m2\u001b[39m\n"
          ]
        }
      ]
    },
    {
      "cell_type": "code",
      "source": [
        "# map の使い方\n",
        "%%writefile temp.ts\n",
        "const arr = [\"a\", \"b\", \"c\"];\n",
        "const arr2 = arr.map((value) => value + value);\n",
        "console.log(arr2); // [ 'aa', 'bb', 'cc' ]"
      ],
      "metadata": {
        "id": "eGj9fOEkO9FX",
        "outputId": "bc693030-97d3-43a9-b0ba-b17e46ef62cc",
        "colab": {
          "base_uri": "https://localhost:8080/"
        }
      },
      "execution_count": null,
      "outputs": [
        {
          "output_type": "stream",
          "name": "stdout",
          "text": [
            "Overwriting temp.ts\n"
          ]
        }
      ]
    },
    {
      "cell_type": "code",
      "source": [
        "!tsc temp.ts; node temp.js"
      ],
      "metadata": {
        "id": "fBcty588O88-",
        "outputId": "66b70bdb-f8fb-40e9-af8e-282d26f78d5d",
        "colab": {
          "base_uri": "https://localhost:8080/"
        }
      },
      "execution_count": null,
      "outputs": [
        {
          "output_type": "stream",
          "name": "stdout",
          "text": [
            "[ \u001b[32m'aa'\u001b[39m, \u001b[32m'bb'\u001b[39m, \u001b[32m'cc'\u001b[39m ]\n"
          ]
        }
      ]
    },
    {
      "cell_type": "code",
      "source": [
        "# AtCoder Beginners Selection\n",
        "# 問題 B - Shift only \n",
        "# N 個の正の整数 A ついて\n",
        "# 整数がすべて偶数であるとき，次の操作を行うことができます\n",
        "# 整数すべてを，2 で割ったものに置き換える\n",
        "# 最大で何回操作を行うことができるか\n",
        "# 3 8 12 40 #=> 2\n",
        "# 4 5 6 8 10 #=> 0\n",
        "# 6 382253568 723152896 37802240 379425024 404894720 471526144 #=> 8\n",
        "%%writefile temp.ts\n",
        "let countShiftOnly = (a : number[]) : number => {\n",
        "    if (a.every((n:number) => n % 2 === 0)) return (1 + countShiftOnly(a.map((n : number) => n / 2)));\n",
        "    else return 0;\n",
        "}\n",
        "\n",
        "const input : string = require('fs').readFileSync(\"/dev/stdin\", \"utf8\");\n",
        "let args : string[] = input.trim().split(/[\\n\\s,;.]+/)\n",
        "const N : number = Number(args[0])\n",
        "let a : number[] = args.slice(1, N).map((n) => Number(n))\n",
        "\n",
        "console.log(countShiftOnly(a))"
      ],
      "metadata": {
        "id": "FBvwsDIbREPO",
        "outputId": "4e177bd2-0db8-4d18-b380-fe255da4af99",
        "colab": {
          "base_uri": "https://localhost:8080/"
        }
      },
      "execution_count": null,
      "outputs": [
        {
          "output_type": "stream",
          "name": "stdout",
          "text": [
            "Overwriting temp.ts\n"
          ]
        }
      ]
    },
    {
      "cell_type": "code",
      "source": [
        "!tsc temp.ts; echo 3 8 12 40 | node temp.js #=> 2\n",
        "!tsc temp.ts; echo 4 5 6 8 10 | node temp.js #=> 0\n",
        "!tsc temp.ts; echo 6 382253568 723152896 37802240 379425024 404894720 471526144 | node temp.js #=> 8"
      ],
      "metadata": {
        "id": "WI8cy28cLMRE",
        "outputId": "b8d7fe30-bafb-4cfb-d621-b85a020062ce",
        "colab": {
          "base_uri": "https://localhost:8080/"
        }
      },
      "execution_count": null,
      "outputs": [
        {
          "output_type": "stream",
          "name": "stdout",
          "text": [
            "\u001b[33m2\u001b[39m\n",
            "\u001b[33m0\u001b[39m\n",
            "\u001b[33m8\u001b[39m\n"
          ]
        }
      ]
    },
    {
      "cell_type": "code",
      "source": [
        "# ところでこの問題に ShiftOnly と言う名前がついている\n",
        "# 実験\n",
        "%%writefile temp.ts\n",
        "console.log(8 >> 1) //=> 4\n",
        "console.log(4 >> 1) //=> 2\n",
        "console.log(2 >> 1) //=> 1\n",
        "console.log(1 >> 1) //=> 0\n",
        "console.log(7 >> 1) //=> 3\n",
        "console.log(7 << 1) //=> 111 => 1110 = 14"
      ],
      "metadata": {
        "id": "TXQd4cpiIL3J",
        "outputId": "0a47b56c-ecc7-4419-8422-0147f1888a50",
        "colab": {
          "base_uri": "https://localhost:8080/"
        }
      },
      "execution_count": null,
      "outputs": [
        {
          "output_type": "stream",
          "name": "stdout",
          "text": [
            "Overwriting temp.ts\n"
          ]
        }
      ]
    },
    {
      "cell_type": "code",
      "source": [
        "!tsc temp.ts; node temp.js "
      ],
      "metadata": {
        "id": "fEYRxDNJILsh",
        "outputId": "8f299061-0a6c-4748-9b38-b1f596f03d04",
        "colab": {
          "base_uri": "https://localhost:8080/"
        }
      },
      "execution_count": null,
      "outputs": [
        {
          "output_type": "stream",
          "name": "stdout",
          "text": [
            "\u001b[33m4\u001b[39m\n",
            "\u001b[33m2\u001b[39m\n",
            "\u001b[33m1\u001b[39m\n",
            "\u001b[33m0\u001b[39m\n",
            "\u001b[33m3\u001b[39m\n",
            "\u001b[33m14\u001b[39m\n"
          ]
        }
      ]
    },
    {
      "cell_type": "code",
      "source": [
        "# 問題 A - Placing Marbles \n",
        "# AtCoder Beginners Selection\n",
        "# 3 つのマスからなるマス目。各マスには 0 か 1 が書かれている。\n",
        "# 1 の数を出力する\n",
        "%%writefile temp.ts\n",
        "const input : string = require('fs').readFileSync(\"/dev/stdin\", \"utf8\");\n",
        "let args : string[] = input.trim().split(/[\\n\\s,;.]+/)\n",
        "let arg = args[0].split('').map((n) => Number(n))\n",
        "\n",
        "// sum 合計を算出する\n",
        "console.log(arg.reduce(function(a, b) { return a + b; }, 0))"
      ],
      "metadata": {
        "outputId": "a4b5b12e-e2d5-4c37-91b6-4b16d8d72b43",
        "colab": {
          "base_uri": "https://localhost:8080/"
        },
        "id": "XXmkrTY1Rm8I"
      },
      "execution_count": null,
      "outputs": [
        {
          "output_type": "stream",
          "name": "stdout",
          "text": [
            "Overwriting temp.ts\n"
          ]
        }
      ]
    },
    {
      "cell_type": "code",
      "source": [
        "!tsc temp.ts; echo 101 | node temp.js #=> 2\n",
        "!tsc temp.ts; echo 000 | node temp.js #=> 0"
      ],
      "metadata": {
        "outputId": "1e7c91b3-505b-453b-c6b5-641a7162ef9a",
        "colab": {
          "base_uri": "https://localhost:8080/"
        },
        "id": "Uf0Z5eA4Rm8P"
      },
      "execution_count": null,
      "outputs": [
        {
          "output_type": "stream",
          "name": "stdout",
          "text": [
            "\u001b[33m2\u001b[39m\n",
            "\u001b[33m0\u001b[39m\n"
          ]
        }
      ]
    },
    {
      "cell_type": "code",
      "source": [
        "# 別解 問題 A - Placing Marbles \n",
        "# 文字列のまま '1' で split している\n",
        "%%writefile temp.ts\n",
        "const input : string = require('fs').readFileSync(\"/dev/stdin\", \"utf8\");\n",
        "let args : string[] = input.trim().split(/[\\n\\s,;.]+/)\n",
        "let arg = args[0].split('1')\n",
        "console.log(arg.length - 1)\n",
        "console.log(arg)"
      ],
      "metadata": {
        "id": "7mpnbUJbHGD5",
        "outputId": "9594df41-ecda-4b6a-87cb-3cc295e8e5c8",
        "colab": {
          "base_uri": "https://localhost:8080/"
        }
      },
      "execution_count": null,
      "outputs": [
        {
          "output_type": "stream",
          "name": "stdout",
          "text": [
            "Overwriting temp.ts\n"
          ]
        }
      ]
    },
    {
      "cell_type": "code",
      "source": [
        "!tsc temp.ts; echo 101 | node temp.js #=> 2\n",
        "!tsc temp.ts; echo 000 | node temp.js #=> 0\n",
        "!tsc temp.ts; echo 101010 | node temp.js #=> 3\n",
        "!tsc temp.ts; echo 0101010 | node temp.js #=> 3"
      ],
      "metadata": {
        "id": "2dk3rYUrHeP8",
        "outputId": "c8889429-c311-4288-df85-81a551975b88",
        "colab": {
          "base_uri": "https://localhost:8080/"
        }
      },
      "execution_count": null,
      "outputs": [
        {
          "output_type": "stream",
          "name": "stdout",
          "text": [
            "\u001b[33m2\u001b[39m\n",
            "[ \u001b[32m''\u001b[39m, \u001b[32m'0'\u001b[39m, \u001b[32m''\u001b[39m ]\n",
            "\u001b[33m0\u001b[39m\n",
            "[ \u001b[32m'000'\u001b[39m ]\n",
            "\u001b[33m3\u001b[39m\n",
            "[ \u001b[32m''\u001b[39m, \u001b[32m'0'\u001b[39m, \u001b[32m'0'\u001b[39m, \u001b[32m'0'\u001b[39m ]\n",
            "\u001b[33m3\u001b[39m\n",
            "[ \u001b[32m'0'\u001b[39m, \u001b[32m'0'\u001b[39m, \u001b[32m'0'\u001b[39m, \u001b[32m'0'\u001b[39m ]\n"
          ]
        }
      ]
    },
    {
      "cell_type": "markdown",
      "source": [
        "# いまここ"
      ],
      "metadata": {
        "id": "NVuv7NOd_0ZE"
      }
    },
    {
      "cell_type": "code",
      "source": [
        "# 問題 B - Coins\n",
        "# 500 円玉を A 枚、100 円玉を B 枚、50 円玉を C 枚\n",
        "# これらの硬貨の中から何枚かを選び、合計金額をちょうど X 円にする方法は何通りああるか\n",
        "# 例\n",
        "# 2 2 2 100 #=> 2\n",
        "# 5 1 0 150 #=> 0\n",
        "# 30 40 50 6000 #=> 213\n",
        "%%writefile temp.ts\n",
        "const input : string = require('fs').readFileSync(\"/dev/stdin\", \"utf8\");\n",
        "\n",
        "let args : number[] = input.trim().split(/[\\n\\s,;.]+/).map((n) => Number(n))\n",
        "const a: number = args[0];\n",
        "const b: number = args[1];\n",
        "const c: number = args[2];\n",
        "const x: number = args[3];\n",
        "\n",
        "let counter : number = 0;\n",
        "\n",
        "for (let i = 0; i <= a; i++) {\n",
        "    for (let j: number = 0; j <= b; j++) {\n",
        "        for (let k: number = 0; k <= c; k++) {\n",
        "            if (500 * i + 100 * j + 50 * k === x) counter++;\n",
        "        }\n",
        "    }\n",
        "}\n",
        "\n",
        "console.log(counter)"
      ],
      "metadata": {
        "id": "nlM0HcjvIEXT",
        "outputId": "93d1834e-dbfd-4c3c-ffb0-464bdf7f64f7",
        "colab": {
          "base_uri": "https://localhost:8080/"
        }
      },
      "execution_count": null,
      "outputs": [
        {
          "output_type": "stream",
          "name": "stdout",
          "text": [
            "Overwriting temp.ts\n"
          ]
        }
      ]
    },
    {
      "cell_type": "code",
      "source": [
        "!tsc temp.ts; echo 2 2 2 100 | node temp.js #=> 2\n",
        "!tsc temp.ts; echo 5 1 0 150 | node temp.js #=> 0\n",
        "!tsc temp.ts; echo 30 40 50 6000 | node temp.js #=> 213"
      ],
      "metadata": {
        "id": "_Fm6n_rhIES5",
        "outputId": "39730881-9182-4bc2-8bfe-9723fa8a7ae1",
        "colab": {
          "base_uri": "https://localhost:8080/"
        }
      },
      "execution_count": null,
      "outputs": [
        {
          "output_type": "stream",
          "name": "stdout",
          "text": [
            "\u001b[33m2\u001b[39m\n",
            "\u001b[33m0\u001b[39m\n",
            "\u001b[33m213\u001b[39m\n"
          ]
        }
      ]
    },
    {
      "cell_type": "code",
      "source": [
        "# 問題 B - Some Sums\n",
        "# 1 以上 N 以下の整数のうち、10 進法での各桁の和が A 以上 B 以下であるものの総和\n",
        "# 例\n",
        "# 20 2 5 #=> 84\n",
        "# 20 以下の整数のうち、各桁の和が 2 以上 5 以下なのは 2,3,4,5,11,12,13,14,20 です。これらの合計である 84 を出力します。\n",
        "# 10 1 2 #=> 13\n",
        "# 100 4 16 #=> 4554\n",
        "%%writefile temp.ts\n",
        "const input : string = require('fs').readFileSync(\"/dev/stdin\", \"utf8\");\n",
        "\n",
        "let args : number[] = input.trim().split(/[\\n\\s,;.]+/).map((n) => Number(n))\n",
        "const N : number = args[0];\n",
        "const A : number = args[1];\n",
        "const B : number = args[2];\n",
        "\n",
        "let addDigits = (num : number) : number => {\n",
        "    if (num == 0) return 0;\n",
        "    else return (num % 10) + addDigits(Math.floor(num / 10))\n",
        "}\n",
        "\n",
        "let total : number = 0;\n",
        "for (let i = 0; i <= N; i++) {\n",
        "    let sum: number = addDigits(i);\n",
        "    if (sum >= A && sum <= B) {\n",
        "      total += i;\n",
        "    }\n",
        "}\n",
        "\n",
        "console.log(total)"
      ],
      "metadata": {
        "id": "QB1n_TEmQlOs",
        "outputId": "192493bd-26e8-49e4-c03a-460a53fc2b45",
        "colab": {
          "base_uri": "https://localhost:8080/"
        }
      },
      "execution_count": null,
      "outputs": [
        {
          "output_type": "stream",
          "name": "stdout",
          "text": [
            "Overwriting temp.ts\n"
          ]
        }
      ]
    },
    {
      "cell_type": "code",
      "source": [
        "!tsc temp.ts; echo 20 2 5 | node temp.js #=> 84\n",
        "!tsc temp.ts; echo 10 1 2 | node temp.js #=> 13\n",
        "!tsc temp.ts; echo 100 4 16 | node temp.js #=> 4554"
      ],
      "metadata": {
        "id": "4mtcQUqdQlK_",
        "outputId": "f6770631-24aa-4365-c1fe-95493dae9704",
        "colab": {
          "base_uri": "https://localhost:8080/"
        }
      },
      "execution_count": null,
      "outputs": [
        {
          "output_type": "stream",
          "name": "stdout",
          "text": [
            "\u001b[33m84\u001b[39m\n",
            "\u001b[33m13\u001b[39m\n",
            "\u001b[33m4554\u001b[39m\n"
          ]
        }
      ]
    },
    {
      "cell_type": "code",
      "source": [
        "# 問題 B - Card Game for Two\n",
        "# N 枚のカードがあります. i 枚目のカードには, a_i という数が書かれています.\n",
        "# Alice と Bob は, これらのカードを使ってゲームを行います. ゲームでは, \n",
        "# Alice と Bob が交互に 1 枚ずつカードを取っていきます. Alice が先にカードを取ります.\n",
        "# 2 人がすべてのカードを取ったときゲームは終了し, 取ったカードの数の合計がその人の得点になります. \n",
        "# 2 人とも自分の得点を最大化するように最適な戦略を取った時, Alice は Bob より何点多く取るか求めてください.\n",
        "# 両者が最適な戦略を取った時, Alice は Bob より何点多く取るかを出力してください.\n",
        "# 例\n",
        "#  2 3 1  #=> 2\n",
        "#  3 2 7 4  #=> 5\n",
        "#  4 20 18 2 18  #=> 18\n",
        "%%writefile temp.ts\n",
        "const input : string = require('fs').readFileSync(\"/dev/stdin\", \"utf8\");\n",
        "let args : number[] = input.trim().split(/[\\n\\s,;.]+/).map((n) => Number(n))\n",
        "const N : number = args[0]\n",
        "const nums: number[] = args.slice(1).sort().reverse()\n",
        "\n",
        "let ans: number = 0;\n",
        "for (let i = 0; i < N; i++) {\n",
        "    if (i % 2 === 0) {\n",
        "        ans += nums[i];\n",
        "    } else {\n",
        "        ans -= nums[i];\n",
        "    }\n",
        "}\n",
        "console.log(ans)"
      ],
      "metadata": {
        "id": "ocx1RjUWWz1V",
        "outputId": "84ab2fb6-c0eb-42b4-e6d9-2dc64e6e1166",
        "colab": {
          "base_uri": "https://localhost:8080/"
        }
      },
      "execution_count": null,
      "outputs": [
        {
          "output_type": "stream",
          "name": "stdout",
          "text": [
            "Overwriting temp.ts\n"
          ]
        }
      ]
    },
    {
      "cell_type": "code",
      "source": [
        "!tsc temp.ts; echo 2 3 1 | node temp.js #=> 2\n",
        "!tsc temp.ts; echo 3 2 7 4 | node temp.js #=> 5\n",
        "!tsc temp.ts; echo 4 20 18 2 18 | node temp.js #=> 18"
      ],
      "metadata": {
        "id": "i7FmM2dRWzxA",
        "outputId": "b5291a15-c76b-4a6b-b000-c0541e42a3a8",
        "colab": {
          "base_uri": "https://localhost:8080/"
        }
      },
      "execution_count": null,
      "outputs": [
        {
          "output_type": "stream",
          "name": "stdout",
          "text": [
            "\u001b[33m2\u001b[39m\n",
            "\u001b[33m5\u001b[39m\n",
            "\u001b[33m18\u001b[39m\n"
          ]
        }
      ]
    },
    {
      "cell_type": "code",
      "source": [
        "# 問題\n",
        "# B - Kagami Mochi\n",
        "# X 段重ねの鏡餅は、X 枚の円形の餅を縦に積み重ねたものであって、どの餅もその真下の餅より直径が小さい\n",
        "# N 枚の餅の餅の直径がそれぞれ d_i である時、最大で何段重ねの鏡餅を作ることができるか\n",
        "# 例\n",
        "# 4 10 8 8 6 #=> 3\n",
        "# 3 15 15 15 #=> 1\n",
        "# 7 50 30 50 100 50 80 30 #=> 4\n",
        "%%writefile temp.ts\n",
        "const input : string = require('fs').readFileSync(\"/dev/stdin\", \"utf8\");\n",
        "let args : number[] = input.trim().split(/[\\n\\s,;.]+/).map((n) => Number(n))\n",
        "const N : number = args[0]\n",
        "// const nums: number[] = args.slice(1).sort().reverse()\n",
        "const nums: number[] = args.slice(1)\n",
        "console.log(Array.from(new Set(nums)).length)"
      ],
      "metadata": {
        "id": "h50onaTXbIX-",
        "outputId": "f8b024ef-46c2-4fb8-9aec-dca70f60e984",
        "colab": {
          "base_uri": "https://localhost:8080/"
        }
      },
      "execution_count": null,
      "outputs": [
        {
          "output_type": "stream",
          "name": "stdout",
          "text": [
            "Overwriting temp.ts\n"
          ]
        }
      ]
    },
    {
      "cell_type": "code",
      "source": [
        "!tsc temp.ts; echo 4 10 8 8 6 | node temp.js #=> 3\n",
        "!tsc temp.ts; echo 3 15 15 15 | node temp.js #=> 1\n",
        "!tsc temp.ts; echo 7 50 30 50 100 50 80 30 | node temp.js #=> 4"
      ],
      "metadata": {
        "id": "yIYHvCrebIUE",
        "outputId": "8f33f7b2-e66a-4342-fcd7-a2a00690c2a8",
        "colab": {
          "base_uri": "https://localhost:8080/"
        }
      },
      "execution_count": null,
      "outputs": [
        {
          "output_type": "stream",
          "name": "stdout",
          "text": [
            "\u001b[33m3\u001b[39m\n",
            "\u001b[33m1\u001b[39m\n",
            "\u001b[33m4\u001b[39m\n"
          ]
        }
      ]
    },
    {
      "cell_type": "code",
      "source": [
        "# 問題 C - Otoshidama \n",
        "# 10000 円札と、5000 円札と、1000 円札が合計で N 枚、Y 円のとき、\n",
        "# 枚数の組を 1 つ求める。 存在しない場合は -1 -1 -1 と出力する\n",
        "# 例\n",
        "# 9 45000 #=> 4 0 5 or 0 9 0\n",
        "# 20 196000 #=> -1 -1 -1\n",
        "# 1000 1234000 #=> 14 27 959 or many other solutions\n",
        "# 2000 20000000 3=> 2000 0 0 \n",
        "%%writefile temp.ts\n",
        "const input : string = require('fs').readFileSync(\"/dev/stdin\", \"utf8\");\n",
        "let args : number[] = input.trim().split(/[\\n\\s,;.]+/).map((n) => Number(n))\n",
        "const N : number = args[0]\n",
        "const Y : number = args[1]\n",
        "\n",
        "let ans: string = '-1 -1 -1';\n",
        "for (let i = 0; i <= N; i++) {\n",
        "    for (let j: number = 0; j <= N; j++) {\n",
        "        if (i + j > N) {\n",
        "        continue;\n",
        "        }\n",
        "        if (10000 * i + 5000 * j + 1000 * (N - i - j) === Y) {\n",
        "            ans = String(i) +\" \" + String(j) + \" \" + String(N - i - j)\n",
        "            break;\n",
        "        }\n",
        "    }\n",
        "}\n",
        "\n",
        "console.log(ans);"
      ],
      "metadata": {
        "id": "VFxg2W7sfCb2",
        "outputId": "8963e63f-d2ef-4b33-d8fe-338e8bf9a3c4",
        "colab": {
          "base_uri": "https://localhost:8080/"
        }
      },
      "execution_count": null,
      "outputs": [
        {
          "output_type": "stream",
          "name": "stdout",
          "text": [
            "Overwriting temp.ts\n"
          ]
        }
      ]
    },
    {
      "cell_type": "code",
      "source": [
        "!tsc temp.ts; echo 9 45000 | node temp.js #=> 4 0 5 or 0 9 0\n",
        "!tsc temp.ts; echo 20 196000  | node temp.js #=> -1 -1 -1\n",
        "!tsc temp.ts; echo 1000 1234000  | node temp.js #=> 14 27 959 or many other solutions\n",
        "!tsc temp.ts; echo 2000 20000000  | node temp.js #=> 2000 0 0 "
      ],
      "metadata": {
        "id": "sxzMToU8fCYx",
        "outputId": "1160b265-87b8-4a3c-91b3-127f93711fa7",
        "colab": {
          "base_uri": "https://localhost:8080/"
        }
      },
      "execution_count": null,
      "outputs": [
        {
          "output_type": "stream",
          "name": "stdout",
          "text": [
            "4 0 5\n",
            "-1 -1 -1\n",
            "26 0 974\n",
            "2000 0 0\n"
          ]
        }
      ]
    },
    {
      "cell_type": "code",
      "source": [
        "# 問題 C - Daydream 白昼夢\n",
        "# 英小文字からなる文字列 S が与えられます。\n",
        "# T が空文字列である状態から始めて、以下の操作を好きな回数繰り返す\n",
        "# ことで S = T とすることができるか判定してください。\n",
        "# T の末尾に \"dream\", \"dreamer\", \"erase\", \"eraser\" のいずれかを追加する。\n",
        "# 例\n",
        "# erasedream #=> YES\n",
        "# dreameraser #=> YES\n",
        "# dreamerer #=> NO\n",
        "%%writefile temp.ts\n",
        "const input : string = require('fs').readFileSync(\"/dev/stdin\", \"utf8\");\n",
        "let args : string[] = input.trim().split(/[\\n\\s,;.]+/)\n",
        "const S : string = args[0]\n",
        "let reverse = (s: string) : string => {\n",
        "    return s.split('').reverse().join('');\n",
        "};\n",
        "let str = reverse(S)\n",
        "const words: string[] = ['dream', 'dreamer', 'erase', 'eraser'].map((word: string) => reverse(word));\n",
        "\n",
        "let index: number = 0;\n",
        "while (true) {\n",
        "    let w: string | undefined = words.find((word: string) => str.startsWith(word, index));\n",
        "    if (!w) break;\n",
        "    index += w.length;\n",
        "}\n",
        "\n",
        "if (str.length == index) {\n",
        "    console.log('YES');\n",
        "} else {\n",
        "    console.log('NO');\n",
        "}"
      ],
      "metadata": {
        "id": "IszczPCDjnvH",
        "outputId": "b10a0faf-6a03-4697-c515-dbbe4fd11fb0",
        "colab": {
          "base_uri": "https://localhost:8080/"
        }
      },
      "execution_count": null,
      "outputs": [
        {
          "output_type": "stream",
          "name": "stdout",
          "text": [
            "Overwriting temp.ts\n"
          ]
        }
      ]
    },
    {
      "cell_type": "code",
      "source": [
        "!tsc temp.ts; echo erasedream | node temp.js #=> YES\n",
        "!tsc temp.ts; echo dreameraser | node temp.js #=> YES\n",
        "!tsc temp.ts; echo dreamerer | node temp.js #=> NO"
      ],
      "metadata": {
        "id": "oUuKZL_zjqE3",
        "outputId": "00eec312-3e01-4832-9600-7467f9a01336",
        "colab": {
          "base_uri": "https://localhost:8080/"
        }
      },
      "execution_count": null,
      "outputs": [
        {
          "output_type": "stream",
          "name": "stdout",
          "text": [
            "YES\n",
            "YES\n",
            "NO\n"
          ]
        }
      ]
    },
    {
      "cell_type": "code",
      "source": [
        "# 問題 C - Traveling\n",
        "# 時刻 0 に 点 (0, 0) を出発し、 1 以上 N 以下の各 i に対し、時刻 t_i に 点 (x_i, y_i) を訪れる予定です\n",
        "# 時刻 t に 点 (x, y) にいる時、 時刻 t+1 には 点 (x + 1, y), (x − 1, y), (x, y + 1), (x , y − 1) \n",
        "# のうちいずれかに存在することができます。 \n",
        "# この旅行プランが実行可能かどうか判定してください。\n",
        "# 例\n",
        "# 2\n",
        "# 3 1 2\n",
        "# 6 1 1\n",
        "# => Yes\n",
        "# 例えば、(0,0), (0,1), (1,1), (1,2), (1,1), (1,0), (1,1) と移動すればよい\n",
        "# 1 2 100 100 #=> No\n",
        "# 2 5 1 1 100 1 1 #=> No\n",
        "%%writefile temp.ts\n",
        "const input : string = require('fs').readFileSync(\"/dev/stdin\", \"utf8\");\n",
        "let args : number[] = input.trim().split(/[\\n\\s,;.]+/).map((n) => Number(n))\n",
        "const N = args[0]\n",
        "\n",
        "let list : number[][] = [[0,0,0]]\n",
        "for (let i = 0; i < N; i++) {\n",
        "    let t = args[3 * i +1]\n",
        "    let x = args[3 * i + 2]\n",
        "    let y = args[3 * i + 3]\n",
        "    list.push([t, x, y]);\n",
        "}\n",
        "\n",
        "let isPossible : boolean = true\n",
        "for (var i = 0; i < list.length - 1 ; i++) {\n",
        "    let dt = list[i + 1][0] - list[i][0];\n",
        "    let dx = Math.abs(list[i + 1][1] - list[i][1]);\n",
        "    let dy = Math.abs(list[i + 1][2] - list[i][2]);\n",
        "\n",
        "    let dis = dx + dy;\n",
        "    if (dis > dt || dt % 2 != dis % 2) {\n",
        "        console.log(\"No\");\n",
        "        isPossible = false\n",
        "        break;\n",
        "    } \n",
        "} \n",
        "if (isPossible) console.log(\"Yes\")"
      ],
      "metadata": {
        "id": "hRi3ynVADHJ1",
        "outputId": "98007f45-67bc-4f39-81e2-11f0c4b35ec7",
        "colab": {
          "base_uri": "https://localhost:8080/"
        }
      },
      "execution_count": null,
      "outputs": [
        {
          "output_type": "stream",
          "name": "stdout",
          "text": [
            "Overwriting temp.ts\n"
          ]
        }
      ]
    },
    {
      "cell_type": "code",
      "source": [
        "!tsc temp.ts; echo 2 3 1 2 6 1 1 | node temp.js #=> Yes\n",
        "!tsc temp.ts; echo 1 2 100 100 | node temp.js #=> No\n",
        "!tsc temp.ts; echo 2 5 1 1 100 1 1 | node temp.js #=> No"
      ],
      "metadata": {
        "id": "ROLBnVnaDHEZ",
        "outputId": "9ac15c3e-4c2e-4f91-a075-df7b38e82b40",
        "colab": {
          "base_uri": "https://localhost:8080/"
        }
      },
      "execution_count": null,
      "outputs": [
        {
          "output_type": "stream",
          "name": "stdout",
          "text": [
            "Yes\n",
            "No\n",
            "No\n"
          ]
        }
      ]
    },
    {
      "cell_type": "code",
      "source": [
        "# 問題 ITP1_1_D: Watch\n",
        "# 秒 s を $h:m:s:$ の形式に変換する\n",
        "# 例: 46979 => 13:2:59\n",
        "%%writefile temp.ts\n",
        "const input : string = require('fs').readFileSync(\"/dev/stdin\", \"utf8\");\n",
        "let args : number[] = input.trim().split(/[\\n\\s,;.]+/).map((n) => Number(n))\n",
        "let s =args[0]\n",
        "let h = Math.floor(s / 3600);\n",
        "s %= 3600\n",
        "let m = Math.floor(s / 60);\n",
        "s %= 60;\n",
        "console.log(\"%d:%d:%d\", h, m, s)"
      ],
      "metadata": {
        "id": "7WEEQyGZg_60",
        "colab": {
          "base_uri": "https://localhost:8080/"
        },
        "outputId": "8b03e347-264a-4572-e4c5-3a47d34f3c4f"
      },
      "execution_count": null,
      "outputs": [
        {
          "output_type": "stream",
          "name": "stdout",
          "text": [
            "Overwriting temp.ts\n"
          ]
        }
      ]
    },
    {
      "cell_type": "code",
      "source": [
        "!tsc temp.ts; echo 46979 | node temp.js #=> 13:2:59"
      ],
      "metadata": {
        "colab": {
          "base_uri": "https://localhost:8080/"
        },
        "id": "9glG727KUuWh",
        "outputId": "e7c3c2d7-4b43-4115-be9f-e19b446a608c"
      },
      "execution_count": null,
      "outputs": [
        {
          "output_type": "stream",
          "name": "stdout",
          "text": [
            "13:2:59\n"
          ]
        }
      ]
    },
    {
      "cell_type": "code",
      "source": [
        "# 問題 ITP1_2_A: Small, Large, or Equal\n",
        "# ２つの整数 a, b を読み込んで、a と b の大小関係を出力する\n",
        "# 例: 1 2 => a < b\n",
        "%%writefile temp.ts\n",
        "const input : string = require('fs').readFileSync(\"/dev/stdin\", \"utf8\");\n",
        "let args : number[] = input.trim().split(/[\\n\\s,;.]+/).map((n) => Number(n))\n",
        "let a = args[0]\n",
        "let b = args[1]\n",
        "let s : string = \"\"\n",
        "if (a < b) s = \"a < b\";\n",
        "else if (a > b) s = \"a > b\";\n",
        "else s = \"a == b\";\n",
        "console.log(s)"
      ],
      "metadata": {
        "id": "__duxO9RhD7e",
        "colab": {
          "base_uri": "https://localhost:8080/"
        },
        "outputId": "e677ffaf-d0cd-44f9-a3d8-13cdfda61c3e"
      },
      "execution_count": null,
      "outputs": [
        {
          "output_type": "stream",
          "name": "stdout",
          "text": [
            "Overwriting temp.ts\n"
          ]
        }
      ]
    },
    {
      "cell_type": "code",
      "source": [
        "!tsc temp.ts; echo 1 2 | node temp.js #=> a < b"
      ],
      "metadata": {
        "colab": {
          "base_uri": "https://localhost:8080/"
        },
        "id": "eN--aMtCV1Ef",
        "outputId": "c05a824f-4591-4610-b1f2-dba4a003a43a"
      },
      "execution_count": null,
      "outputs": [
        {
          "output_type": "stream",
          "name": "stdout",
          "text": [
            "a < b\n"
          ]
        }
      ]
    },
    {
      "cell_type": "code",
      "source": [
        "# 問題 ITP1_2_B: Range\n",
        "# 3 つの整数 a, b, c を読み込み、それらが a < b < c の条件を満たすならば \n",
        "# \"Yes\"を、満たさないならば\"No\"を出力する\n",
        "# 例: 1 3 8 => Yes\n",
        "%%writefile temp.ts\n",
        "const input : string = require('fs').readFileSync(\"/dev/stdin\", \"utf8\");\n",
        "let args : number[] = input.trim().split(/[\\n\\s,;.]+/).map((n) => Number(n))\n",
        "let a = args[0]\n",
        "let b = args[1]\n",
        "let c = args[2]\n",
        "let s : string = \"\"\n",
        "if ((a < b) && (b < c)) s = \"Yes\";\n",
        "else s = \"No\";\n",
        "console.log(s)"
      ],
      "metadata": {
        "id": "08AyIO3qx2Q9",
        "colab": {
          "base_uri": "https://localhost:8080/"
        },
        "outputId": "fec5e20b-a371-4849-e4a3-e8b6936b4f48"
      },
      "execution_count": null,
      "outputs": [
        {
          "output_type": "stream",
          "name": "stdout",
          "text": [
            "Overwriting temp.ts\n"
          ]
        }
      ]
    },
    {
      "cell_type": "code",
      "source": [
        "!tsc temp.ts; echo 2 3 8 | node temp.js #=> Yes"
      ],
      "metadata": {
        "colab": {
          "base_uri": "https://localhost:8080/"
        },
        "id": "5O2dN4sMWWJq",
        "outputId": "a20eb46d-49d5-4027-d1f2-c95d8429a9cd"
      },
      "execution_count": null,
      "outputs": [
        {
          "output_type": "stream",
          "name": "stdout",
          "text": [
            "Yes\n"
          ]
        }
      ]
    },
    {
      "cell_type": "code",
      "source": [
        "# 問題 ITP1_2_C: Sorting Three Numbers\n",
        "# ３つの整数を読み込み、それらを値が小さい順に並べて出力する。\n",
        "# 例: 3 1 8 => 1 3 8\n",
        "%%writefile temp.ts\n",
        "const input : string = require('fs').readFileSync(\"/dev/stdin\", \"utf8\");\n",
        "let args : number[] = input.trim().split(/[\\n\\s,;.]+/).map((n) => Number(n))\n",
        "args.sort()\n",
        "console.log(args[0], args[1], args[2])"
      ],
      "metadata": {
        "id": "iyoXo1SGx5l7",
        "outputId": "dd53954e-8f41-42c6-9b92-64a301b0fd06",
        "colab": {
          "base_uri": "https://localhost:8080/"
        }
      },
      "execution_count": null,
      "outputs": [
        {
          "output_type": "stream",
          "name": "stdout",
          "text": [
            "Overwriting temp.ts\n"
          ]
        }
      ]
    },
    {
      "cell_type": "code",
      "source": [
        "!tsc temp.ts; echo 3 1 8 | node temp.js #=> 1 3 8"
      ],
      "metadata": {
        "id": "eQ_R9WATa-tg",
        "outputId": "8e8c3db3-20f5-4e95-86b4-c84606954683",
        "colab": {
          "base_uri": "https://localhost:8080/"
        }
      },
      "execution_count": null,
      "outputs": [
        {
          "output_type": "stream",
          "name": "stdout",
          "text": [
            "\u001b[33m1\u001b[39m \u001b[33m3\u001b[39m \u001b[33m8\u001b[39m\n"
          ]
        }
      ]
    },
    {
      "cell_type": "code",
      "source": [
        "# 問題 ITP1_2_D: Circle in a Rectangle\n",
        "# 長方形の中に円が含まれるかを判定する。長方形は左下の頂点を原点とし、\n",
        "# 右上の頂点の座標 (W, H) が与えられ、円はその中心の座標 (x, y)と半径 r が与えられる。\n",
        "# 例: 5 4 2 2 1 => Yes\n",
        "%%writefile temp.ts\n",
        "const input : string = require('fs').readFileSync(\"/dev/stdin\", \"utf8\");\n",
        "let args : number[] = input.trim().split(/[\\n\\s,;.]+/).map((n) => Number(n))\n",
        "let w = args[0];\n",
        "let h = args[1];\n",
        "let x = args[2];\n",
        "let y = args[3];\n",
        "let r = args[4];\n",
        "let s : string;\n",
        "if ((x >= r) && ((w - x) >= r) && (y >= r) && ((h - y) >= r))\n",
        "    s = \"Yes\";\n",
        "else\n",
        "    s = \"No\";\n",
        "console.log(s)"
      ],
      "metadata": {
        "id": "UpNiAmlPx62S",
        "outputId": "eabc4ec9-2682-45ae-ee03-444035132d9a",
        "colab": {
          "base_uri": "https://localhost:8080/"
        }
      },
      "execution_count": null,
      "outputs": [
        {
          "output_type": "stream",
          "name": "stdout",
          "text": [
            "Overwriting temp.ts\n"
          ]
        }
      ]
    },
    {
      "cell_type": "code",
      "source": [
        "!tsc temp.ts; echo 5 4 2 2 1 | node temp.js #=> Yes"
      ],
      "metadata": {
        "id": "XfmOFuMhcAot",
        "outputId": "d449b6fe-2974-4639-f2bc-b259cfd87e9f",
        "colab": {
          "base_uri": "https://localhost:8080/"
        }
      },
      "execution_count": null,
      "outputs": [
        {
          "output_type": "stream",
          "name": "stdout",
          "text": [
            "Yes\n"
          ]
        }
      ]
    },
    {
      "cell_type": "code",
      "source": [
        "# 問題 ITP1_3_A: Print Many Hello World\n",
        "# 1000 個の \"Hello World\" を出力する。 おっと、Colab の環境で1000個出されても困るので10個にしよう。\n",
        "%%writefile temp.ts\n",
        "for (let i = 1; i < 10; i++){\n",
        "    console.log(\"Hello World\")\n",
        "}"
      ],
      "metadata": {
        "id": "lpLwTcGJx8Hi",
        "colab": {
          "base_uri": "https://localhost:8080/"
        },
        "outputId": "1fa079e2-8360-4fdf-ac30-e6c7d6c27b59"
      },
      "execution_count": null,
      "outputs": [
        {
          "output_type": "stream",
          "name": "stdout",
          "text": [
            "Overwriting temp.ts\n"
          ]
        }
      ]
    },
    {
      "cell_type": "code",
      "source": [
        "!tsc temp.ts; node temp.js"
      ],
      "metadata": {
        "id": "rOCPCL-Ufa1T"
      },
      "execution_count": null,
      "outputs": []
    },
    {
      "cell_type": "code",
      "source": [
        "# 問題 ITP1_3_B: Print Test Cases\n",
        "# テストケースを出力する。 1行につき、1つの整数 x を読み込み、それをそのまま出力する。\n",
        "# x が 0 のとき入力の終わりを示し、出力はない。\n",
        "# 例: 3 5 11 7 8 19 0 => # Case 1: 3  Case 2: 5  ...\n",
        "%%writefile temp.ts\n",
        "const input : string = require('fs').readFileSync(\"/dev/stdin\", \"utf8\");\n",
        "let args : number[] = input.trim().split(/[\\n\\s,;.]+/).map((n) => Number(n))\n",
        "for (let i = 0; i < args.length; i++) {\n",
        "    if (args[i] == 0) break;\n",
        "    console.log(\"Case %d: %d\", i + 1, args[i])\n",
        "}"
      ],
      "metadata": {
        "id": "42x5aLj6NMnw",
        "colab": {
          "base_uri": "https://localhost:8080/"
        },
        "outputId": "a19bca04-1ba5-4276-917f-d8a3400e6a3e"
      },
      "execution_count": null,
      "outputs": [
        {
          "output_type": "stream",
          "name": "stdout",
          "text": [
            "Overwriting temp.ts\n"
          ]
        }
      ]
    },
    {
      "cell_type": "code",
      "source": [
        "!tsc temp.ts; echo 3 5 11 7 8 19 0 | node temp.js"
      ],
      "metadata": {
        "colab": {
          "base_uri": "https://localhost:8080/"
        },
        "id": "oc21vnLQica2",
        "outputId": "8d46add6-9434-4d6d-a2cb-483a3083cdb6"
      },
      "execution_count": null,
      "outputs": [
        {
          "output_type": "stream",
          "name": "stdout",
          "text": [
            "Case 1: 3\n",
            "Case 2: 5\n",
            "Case 3: 11\n",
            "Case 4: 7\n",
            "Case 5: 8\n",
            "Case 6: 19\n"
          ]
        }
      ]
    },
    {
      "cell_type": "code",
      "source": [
        "# 問題 ITP1_3_C: Swapping Two Numbers\n",
        "# 1行につき、2つの整数 x, y を読み込み、それらを値が小さい順に出力する\n",
        "# x と y がともに 0 のとき入力の終わりで、出力はない。\n",
        "# 例: 3 2 2 2 5 3 0 0 => 2 3 ...\n",
        "%%writefile temp.ts\n",
        "const input : string = require('fs').readFileSync(\"/dev/stdin\", \"utf8\");\n",
        "let args : number[] = input.trim().split(/[\\n\\s,;.]+/).map((n) => Number(n))\n",
        "\n",
        "for (let i = 0; i < input.length; i++) {\n",
        "    if (i % 2 !== 0) continue;\n",
        "    let a = args[i]\n",
        "    let b = args[i + 1]\n",
        "    let s = \"\";\n",
        "    if (a == 0 && b == 0) break;\n",
        "    if (a < b) {\n",
        "        s = String(a) + \" \" + String(b);\n",
        "    } else {\n",
        "        s = String(b) + \" \" + String(a);\n",
        "    }\n",
        "    console.log(s);\n",
        "}"
      ],
      "metadata": {
        "id": "h0P_lhLix4BL",
        "colab": {
          "base_uri": "https://localhost:8080/"
        },
        "outputId": "9d0f7535-01ca-4d9b-8681-c2080df54d78"
      },
      "execution_count": null,
      "outputs": [
        {
          "output_type": "stream",
          "name": "stdout",
          "text": [
            "Overwriting temp.ts\n"
          ]
        }
      ]
    },
    {
      "cell_type": "code",
      "source": [
        "!tsc temp.ts; echo 3 5 11 7 8 19 0 0 | node temp.js"
      ],
      "metadata": {
        "colab": {
          "base_uri": "https://localhost:8080/"
        },
        "id": "HvP3J5bFuWCK",
        "outputId": "1ad597f3-a6fb-4cc5-efe0-b2ff446cd227"
      },
      "execution_count": null,
      "outputs": [
        {
          "output_type": "stream",
          "name": "stdout",
          "text": [
            "3 5\n",
            "7 11\n",
            "8 19\n"
          ]
        }
      ]
    },
    {
      "cell_type": "code",
      "source": [
        "# 問題 ITP1_3_D: How Many Divisors?\n",
        "# 3つの整数 a、b、c を読み込み、a から b までの整数の中に、c の約数がいくつあるかを求める。\n",
        "# 例: 5 14 80 => 3\n",
        "%%writefile temp.ts\n",
        "const input : string = require('fs').readFileSync(\"/dev/stdin\", \"utf8\");\n",
        "let args : number[] = input.trim().split(/[\\n\\s,;.]+/).map((n) => Number(n))\n",
        "const a = args[0]\n",
        "const b = args[1]\n",
        "const c = args[2]\n",
        "let f = 0;\n",
        "let arr = Array.from({length: (b - a + 1)}, (c, d) => d + a) // c は undefined だが関係ない d は 0 ...\n",
        "for (let i = 0; i < arr.length; i++) {\n",
        "    if (c % arr[i] == 0) f++;\n",
        "}\n",
        "console.log(f)"
      ],
      "metadata": {
        "id": "g14FT6YDSLcK",
        "colab": {
          "base_uri": "https://localhost:8080/"
        },
        "outputId": "84a6a647-c67b-4a0b-c4a2-91f44853abf4"
      },
      "execution_count": null,
      "outputs": [
        {
          "output_type": "stream",
          "name": "stdout",
          "text": [
            "Overwriting temp.ts\n"
          ]
        }
      ]
    },
    {
      "cell_type": "code",
      "source": [
        "!tsc temp.ts; echo 5 14 80 | node temp.js #=> 3"
      ],
      "metadata": {
        "colab": {
          "base_uri": "https://localhost:8080/"
        },
        "id": "uY6Dftc5u2U_",
        "outputId": "8b36506d-3cec-4a1c-e498-88883de03439"
      },
      "execution_count": null,
      "outputs": [
        {
          "output_type": "stream",
          "name": "stdout",
          "text": [
            "\u001b[33m3\u001b[39m\n"
          ]
        }
      ]
    },
    {
      "cell_type": "code",
      "source": [
        "# 問題 ITP1_4_A: A / B Problem\n",
        "# 割り算。2つの整数 a と b を読み込んで、以下の値を計算する。\n",
        "# - a ÷ b : d (整数)\n",
        "# - a ÷ b の余り r (整数)\n",
        "# - a ÷ b : f (浮動小数点数)\n",
        "# 例: 3 2 => 1 1 1.50000\n",
        "%%writefile temp.ts\n",
        "const input : string = require('fs').readFileSync(\"/dev/stdin\", \"utf8\");\n",
        "let args : number[] = input.trim().split(/[\\n\\s,;.]+/).map((n) => Number(n))\n",
        "\n",
        "const a = Number(args[0]);\n",
        "const b = Number(args[1]);\n",
        "\n",
        "const x = Math.floor(a / b);\n",
        "const y = a % b;\n",
        "const z = (a / b).toFixed(8);\n",
        "console.log(x + \" \" + y + \" \" + z);"
      ],
      "metadata": {
        "id": "iG1eyRf9SNQx",
        "colab": {
          "base_uri": "https://localhost:8080/"
        },
        "outputId": "b6a86122-d72f-456a-a999-94889fc1d744"
      },
      "execution_count": null,
      "outputs": [
        {
          "output_type": "stream",
          "name": "stdout",
          "text": [
            "Overwriting temp.ts\n"
          ]
        }
      ]
    },
    {
      "cell_type": "code",
      "source": [
        "!tsc temp.ts; echo 3 2 | node temp.js #=> 1 1 1.50000"
      ],
      "metadata": {
        "colab": {
          "base_uri": "https://localhost:8080/"
        },
        "id": "d2RuWBLR29HB",
        "outputId": "7516d9d4-72f4-4137-ff17-eb98ec7cc9d9"
      },
      "execution_count": null,
      "outputs": [
        {
          "output_type": "stream",
          "name": "stdout",
          "text": [
            "1 1 1.50000000\n"
          ]
        }
      ]
    },
    {
      "cell_type": "code",
      "source": [
        "# 問題 ITP1_4_B: Circle\n",
        "# 半径 r の円の面積と円周の長さを求める。\n",
        "# 例: 3 => 28.274334 18.849556\n",
        "%%writefile temp.ts\n",
        "const input : string = require('fs').readFileSync(\"/dev/stdin\", \"utf8\");\n",
        "let args : number[] = input.trim().split(/[\\n\\s,;.]+/).map((n) => Number(n))\n",
        "\n",
        "const r = args[0]\n",
        "const area = (Math.PI * r * r).toFixed(6);\n",
        "const circumference = (2 * Math.PI * r).toFixed(6);\n",
        "console.log(area + \" \" + circumference);"
      ],
      "metadata": {
        "id": "Pr9TrQWUSOdw",
        "colab": {
          "base_uri": "https://localhost:8080/"
        },
        "outputId": "a58b344b-a2b6-472b-9b70-6fcb1deeca1e"
      },
      "execution_count": null,
      "outputs": [
        {
          "output_type": "stream",
          "name": "stdout",
          "text": [
            "Overwriting temp.ts\n"
          ]
        }
      ]
    },
    {
      "cell_type": "code",
      "source": [
        "!tsc temp.ts; echo 3 | node temp.js #=> 28.274334 18.849556"
      ],
      "metadata": {
        "colab": {
          "base_uri": "https://localhost:8080/"
        },
        "id": "rI36ty3a3a4i",
        "outputId": "bf948262-5e09-42a4-c9d9-8d2535435aa4"
      },
      "execution_count": null,
      "outputs": [
        {
          "output_type": "stream",
          "name": "stdout",
          "text": [
            "28.274334 18.849556\n"
          ]
        }
      ]
    },
    {
      "cell_type": "code",
      "source": [
        "# 問題 ITP1_4_C: Simple Calculator\n",
        "# ２つの整数 a, b と１つの演算子 op を読み込んで、a op b を計算する。\n",
        "# 演算子 op は、\"+\"(和)、\"-\"(差)、\"*\"(積)、\"/\"(商)、のみとし、\n",
        "# 割り算で割り切れない場合は、小数点以下を切り捨てたものを計算結果とする。\n",
        "# op が '?' のとき 入力の終わり。\n",
        "# 例: 1 + 2 56 - 18 13 * 2 100 / 10 27 + 81 0 ? 0  => 3  38  26  10  108  \n",
        "%%writefile temp.ts\n",
        "const input : string = require('fs').readFileSync(\"/dev/stdin\", \"utf8\");\n",
        "let args : string[] = input.trim().split(/[\\n\\s,;.]+/)\n",
        "\n",
        "for (let i = 0; i < args.length; i++) {\n",
        "    if (i % 3 !== 0) continue;\n",
        "    let a = Number(args[i]);\n",
        "    let op = args[i + 1];\n",
        "    let b = Number(args[i + 2]);\n",
        "    if (op == \"?\") break;\n",
        "    if (op == '+') console.log(a + b);\n",
        "    else if (op == '-') console.log(a - b);\n",
        "    else if (op == '*') console.log(a * b);\n",
        "    else if (op == '/') console.log(Math.floor(a / b));\n",
        "    else console.log(\"error\");\n",
        "}"
      ],
      "metadata": {
        "id": "t09FxOa1SSaR",
        "colab": {
          "base_uri": "https://localhost:8080/"
        },
        "outputId": "052a6ea7-a0c2-499f-c707-76352f2cc72e"
      },
      "execution_count": null,
      "outputs": [
        {
          "output_type": "stream",
          "name": "stdout",
          "text": [
            "Overwriting temp.ts\n"
          ]
        }
      ]
    },
    {
      "cell_type": "code",
      "source": [
        "!tsc temp.ts; echo -e \"1 + 2 56 - 18 13 * 2 100 / 10 27 + 81 0 ? 0\" | node temp.js #=> 3  38  26  10  108  "
      ],
      "metadata": {
        "id": "t2I7YyTfH6pl",
        "outputId": "a9d38ba8-4eba-49bc-f511-68f9b3bceb10",
        "colab": {
          "base_uri": "https://localhost:8080/"
        }
      },
      "execution_count": null,
      "outputs": [
        {
          "output_type": "stream",
          "name": "stdout",
          "text": [
            "\u001b[33m3\u001b[39m\n",
            "\u001b[33m38\u001b[39m\n",
            "\u001b[33m26\u001b[39m\n",
            "\u001b[33m10\u001b[39m\n",
            "\u001b[33m108\u001b[39m\n"
          ]
        }
      ]
    },
    {
      "cell_type": "code",
      "source": [
        "!tsc temp.ts; echo -e \"1 + 2 1 * 2 1 - 2 1 / 2 0 ? 0 \" | node temp.js #=> 3 2 -1 0"
      ],
      "metadata": {
        "id": "rtcWt6fqIlIK",
        "outputId": "ae8bb095-288c-4f82-89c0-81ce3d1e635b",
        "colab": {
          "base_uri": "https://localhost:8080/"
        }
      },
      "execution_count": null,
      "outputs": [
        {
          "output_type": "stream",
          "name": "stdout",
          "text": [
            "\u001b[33m3\u001b[39m\n",
            "\u001b[33m2\u001b[39m\n",
            "\u001b[33m-1\u001b[39m\n",
            "\u001b[33m0\u001b[39m\n"
          ]
        }
      ]
    },
    {
      "cell_type": "code",
      "source": [
        "# 問題 ITP1_4_D: Min, Max and Sum\n",
        "# n 個の整数 a_i について、最大値、最小値、合計値を求める。 最初の値が個数を示す\n",
        "# 例: 5 10 1 5 4 17 => 1 17 37\n",
        "# reduce の使い方\n",
        "%%writefile temp.ts\n",
        "const input : string = require('fs').readFileSync(\"/dev/stdin\", \"utf8\");\n",
        "let args : number[] = input.trim().split(/[\\n\\s,;.]+/).map((n) => Number(n))\n",
        "\n",
        "args.splice(0,1)\n",
        "\n",
        "let minnum = args.reduce((a,b)=> Math.min(a,b));\n",
        "let maxnum = args.reduce((a,b)=> Math.max(a,b));\n",
        "let sum= args.reduce((a,b) => a + b);\n",
        "\n",
        "console.log( minnum + \" \" + maxnum + \" \" + sum)"
      ],
      "metadata": {
        "id": "xSXjkxUWSTov",
        "colab": {
          "base_uri": "https://localhost:8080/"
        },
        "outputId": "dcc2a7a7-2345-4b7c-ea7e-979de15e9e95"
      },
      "execution_count": null,
      "outputs": [
        {
          "output_type": "stream",
          "name": "stdout",
          "text": [
            "Overwriting temp.ts\n"
          ]
        }
      ]
    },
    {
      "cell_type": "code",
      "source": [
        "!tsc temp.ts; echo 5 10 1 5 4 17 | node temp.js #=> 1 17 37"
      ],
      "metadata": {
        "id": "CvrOJw4KJHKD",
        "outputId": "55a9b5bf-ea6c-4732-96ff-04815202b3f6",
        "colab": {
          "base_uri": "https://localhost:8080/"
        }
      },
      "execution_count": null,
      "outputs": [
        {
          "output_type": "stream",
          "name": "stdout",
          "text": [
            "1 17 37\n"
          ]
        }
      ]
    },
    {
      "cell_type": "code",
      "source": [
        "# 問題 ITP1_5_A: Print a Rectangle\n",
        "# たて H cm よこ W cm の長方形を描く。 '#'で表す。 0, 0 のとき入力の終わり。\n",
        "# 例: 3 4 5 6 2 2 0 0 =>  \n",
        "%%writefile temp.ts\n",
        "const input : string = require('fs').readFileSync(\"/dev/stdin\", \"utf8\");\n",
        "let args : number[] = input.trim().split(/[\\n\\s,;.]+/).map((n) => Number(n))\n",
        "\n",
        "let H = 0;\n",
        "let W = 0;\n",
        "let box = \"\";\n",
        "\n",
        "for (let i = 0; i < args.length; i++){\n",
        "    if (i%2 !== 0) continue;\n",
        "    H = args[i];\n",
        "    W = args[i+1];\n",
        "    if (H==0 && W==0) break;\n",
        "    box = (\"#\".repeat(W)+\"\\n\").repeat(H);\n",
        "    console.log(box)\n",
        "}"
      ],
      "metadata": {
        "id": "R32rAAK3d9o1",
        "colab": {
          "base_uri": "https://localhost:8080/"
        },
        "outputId": "4563191d-1fdd-4ee8-d4cd-e4fcd190abd9"
      },
      "execution_count": null,
      "outputs": [
        {
          "output_type": "stream",
          "name": "stdout",
          "text": [
            "Overwriting temp.ts\n"
          ]
        }
      ]
    },
    {
      "cell_type": "code",
      "source": [
        "!tsc temp.ts; echo 3 4 5 6 2 2 0 0 | node temp.js"
      ],
      "metadata": {
        "colab": {
          "base_uri": "https://localhost:8080/"
        },
        "id": "1V1qPpnRjdmR",
        "outputId": "4efe33a5-4c61-4b02-bc13-e38539c9fe20"
      },
      "execution_count": null,
      "outputs": [
        {
          "output_type": "stream",
          "name": "stdout",
          "text": [
            "####\n",
            "####\n",
            "####\n",
            "\n",
            "######\n",
            "######\n",
            "######\n",
            "######\n",
            "######\n",
            "\n",
            "##\n",
            "##\n",
            "\n"
          ]
        }
      ]
    },
    {
      "cell_type": "code",
      "source": [
        "# 問題 ITP1_5_B: Print a Frame\n",
        "# たて \"H\" cm よこ \"W\" cm の枠を描く。\n",
        "# \"H\", \"W\" がともに 0 のとき、入力の終わり。\n",
        "# 例: 3 4 5 6 3 3 0 0 =>  \n",
        "%%writefile temp.ts\n",
        "const input : string = require('fs').readFileSync(\"/dev/stdin\", \"utf8\");\n",
        "let args : number[] = input.trim().split(/[\\n\\s,;.]+/).map((n) => Number(n))\n",
        "\n",
        "let H = 0;\n",
        "let W = 0;\n",
        "let box = \"\";\n",
        "\n",
        "for (let i = 0; i < args.length; i++) {\n",
        "    if (i % 2 !== 0) continue;\n",
        "    H = args[i];\n",
        "    W = args[i + 1];\n",
        "    if (H == 0 && W == 0) break;\n",
        "    // box = (\"#\".repeat(W) + \"\\n\").repeat(H);\n",
        "\n",
        "    for (let i = 0; i < H; i++) {\n",
        "        if ((i == 0) || (i == H - 1)) {\n",
        "            box += \"#\".repeat(W) + \"\\n\";\n",
        "        }\n",
        "        else {\n",
        "            box += \"#\" + \".\".repeat(W - 2) + \"#\" + \"\\n\";\n",
        "        }\n",
        "    }\n",
        "    console.log(box);\n",
        "    box = \"\";\n",
        "}"
      ],
      "metadata": {
        "id": "MFuMIws1d_UU",
        "colab": {
          "base_uri": "https://localhost:8080/"
        },
        "outputId": "52f7b663-bc79-4eb0-958a-c6d2de4d901b"
      },
      "execution_count": null,
      "outputs": [
        {
          "output_type": "stream",
          "name": "stdout",
          "text": [
            "Overwriting temp.ts\n"
          ]
        }
      ]
    },
    {
      "cell_type": "code",
      "source": [
        "!tsc temp.ts; echo 3 4 5 6 3 3 0 0 | node temp.js"
      ],
      "metadata": {
        "colab": {
          "base_uri": "https://localhost:8080/"
        },
        "id": "EGbId8qAjzLu",
        "outputId": "46476e74-0f3c-43be-e259-a6156090a8e9"
      },
      "execution_count": null,
      "outputs": [
        {
          "output_type": "stream",
          "name": "stdout",
          "text": [
            "####\n",
            "#..#\n",
            "####\n",
            "\n",
            "######\n",
            "#....#\n",
            "#....#\n",
            "#....#\n",
            "######\n",
            "\n",
            "###\n",
            "#.#\n",
            "###\n",
            "\n"
          ]
        }
      ]
    },
    {
      "cell_type": "code",
      "source": [
        "# 問題 ITP1_5_C: Print a Chessboard\n",
        "# チェスボードの描画。\n",
        "# たて H cm よこ W cm のチェック柄の長方形を描く。 左上が \"#\"。H、W がともに 0 のとき、入力の終わり。\n",
        "# 例: 3 4 5 6 3 3 2 2 1 1 0 0 =>\n",
        "%%writefile temp.ts\n",
        "const input : string = require('fs').readFileSync(\"/dev/stdin\", \"utf8\");\n",
        "let args : number[] = input.trim().split(/[\\n\\s,;.]+/).map((n) => Number(n))\n",
        "\n",
        "let H = 0;\n",
        "let W = 0;\n",
        "let box = \"\";\n",
        "\n",
        "for (let i = 0; i < args.length; i++) {\n",
        "    if (i % 2 !== 0) continue;\n",
        "    H = args[i];\n",
        "    W = args[i + 1];\n",
        "    if (H == 0 && W == 0) break;\n",
        "    // box = (\"#\".repeat(W) + \"\\n\").repeat(H);\n",
        "\n",
        "    for (let i = 0; i < H; i++) {\n",
        "        for (let j = 0; j < W; j++){\n",
        "            if ((i + j) % 2 == 0) {\n",
        "                box += \"#\";\n",
        "            } else {\n",
        "                box += \".\";\n",
        "            }\n",
        "        }\n",
        "        box += \"\\n\";\n",
        "    }\n",
        "    console.log(box);\n",
        "    box = \"\";\n",
        "}"
      ],
      "metadata": {
        "id": "9N4Fbcu3eApD",
        "colab": {
          "base_uri": "https://localhost:8080/"
        },
        "outputId": "2e29b5b2-ff74-48c8-f81e-90cb783d740b"
      },
      "execution_count": null,
      "outputs": [
        {
          "output_type": "stream",
          "name": "stdout",
          "text": [
            "Overwriting temp.ts\n"
          ]
        }
      ]
    },
    {
      "cell_type": "code",
      "source": [
        "!tsc temp.ts; echo 3 4 5 6 3 3 2 2 1 1 0 0 | node temp.js"
      ],
      "metadata": {
        "id": "m3d7n-XpscQb",
        "outputId": "cb1eb24c-8d46-4eda-ec0b-31ee065d73f0",
        "colab": {
          "base_uri": "https://localhost:8080/"
        }
      },
      "execution_count": null,
      "outputs": [
        {
          "output_type": "stream",
          "name": "stdout",
          "text": [
            "#.#.\n",
            ".#.#\n",
            "#.#.\n",
            "\n",
            "#.#.#.\n",
            ".#.#.#\n",
            "#.#.#.\n",
            ".#.#.#\n",
            "#.#.#.\n",
            "\n",
            "#.#\n",
            ".#.\n",
            "#.#\n",
            "\n",
            "#.\n",
            ".#\n",
            "\n",
            "#\n",
            "\n"
          ]
        }
      ]
    },
    {
      "cell_type": "code",
      "source": [
        "# 問題 ITP1_5_D: Structured Programming\n",
        "# 整数 n 以下の3の倍数または3のつく数を出力する。先頭は空白。\n",
        "# 例: 30 => 3 6 9 12 13 15 18 21 23 24 27 30\n",
        "%%writefile temp.ts\n",
        "const input : string = require('fs').readFileSync(\"/dev/stdin\", \"utf8\");\n",
        "let args : number[] = input.trim().split(/[\\n\\s,;.]+/).map((n) => Number(n))\n",
        "\n",
        "const n =args[0]\n",
        "let arr = Array.from({ length: n }, (a, b) => b + 1);\n",
        "const has3 = num => String(num).indexOf('3');\n",
        "arr = arr.filter(num => ((has3(num) !== -1) || num % 3 === 0));\n",
        "let s = \"\";\n",
        "for (let i = 0; i < arr.length; i++) {\n",
        "    s += \" \" + String(arr[i]);\n",
        "}\n",
        "console.log(s)"
      ],
      "metadata": {
        "id": "5FNV97PxeD1T",
        "colab": {
          "base_uri": "https://localhost:8080/"
        },
        "outputId": "e01315d7-cc92-4579-91fc-ac9ab73373c0"
      },
      "execution_count": null,
      "outputs": [
        {
          "output_type": "stream",
          "name": "stdout",
          "text": [
            "Writing temp.ts\n"
          ]
        }
      ]
    },
    {
      "cell_type": "code",
      "source": [
        "!tsc temp.ts; echo 30 | node temp.js #=> 3 6 9 12 13 15 18 21 23 24 27 30"
      ],
      "metadata": {
        "id": "2QDI8y8As_CO",
        "outputId": "f6522065-30b5-4301-eb35-ea9796ed1246",
        "colab": {
          "base_uri": "https://localhost:8080/"
        }
      },
      "execution_count": null,
      "outputs": [
        {
          "output_type": "stream",
          "name": "stdout",
          "text": [
            " 3 6 9 12 13 15 18 21 23 24 27 30\n"
          ]
        }
      ]
    },
    {
      "cell_type": "code",
      "source": [
        "# 問題 ITP1_6_A: Reversing Numbers\n",
        "# 与えられた数列を逆順に出力する。\n",
        "# 例: 5 1 2 3 2 4  =>  4 3 2 1 5\n",
        "%%writefile temp.ts\n",
        "const input : string = require('fs').readFileSync(\"/dev/stdin\", \"utf8\");\n",
        "let args : number[] = input.trim().split(/[\\n\\s,;.]+/).map((n) => Number(n))\n",
        "console.log(args)\n",
        "console.log(...args.reverse()) // ... はスプレッド構文と言ってカッコを外す\n",
        "console.log(args) // reverse は破壊的関数\n",
        "let mySet = new Set(args) // set にするとダブりがなくなる\n",
        "console.log(...Array.from(mySet)) // カッコを取るには Array に戻す必要がある"
      ],
      "metadata": {
        "id": "9L0wG7bihNoT",
        "outputId": "301a5cf9-9a97-4d96-d360-d3eceec7e92e",
        "colab": {
          "base_uri": "https://localhost:8080/"
        }
      },
      "execution_count": null,
      "outputs": [
        {
          "output_type": "stream",
          "name": "stdout",
          "text": [
            "Overwriting temp.ts\n"
          ]
        }
      ]
    },
    {
      "cell_type": "code",
      "source": [
        "!tsc temp.ts; echo 5 1 2 3 2 4  | node temp.js #=> 4 2 3 2 1 5"
      ],
      "metadata": {
        "id": "RB7reHbDCkuz",
        "outputId": "b4b81fac-90d9-4ee3-b428-9ba8f0633b7d",
        "colab": {
          "base_uri": "https://localhost:8080/"
        }
      },
      "execution_count": null,
      "outputs": [
        {
          "output_type": "stream",
          "name": "stdout",
          "text": [
            "[ \u001b[33m5\u001b[39m, \u001b[33m1\u001b[39m, \u001b[33m2\u001b[39m, \u001b[33m3\u001b[39m, \u001b[33m2\u001b[39m, \u001b[33m4\u001b[39m ]\n",
            "\u001b[33m4\u001b[39m \u001b[33m2\u001b[39m \u001b[33m3\u001b[39m \u001b[33m2\u001b[39m \u001b[33m1\u001b[39m \u001b[33m5\u001b[39m\n",
            "[ \u001b[33m4\u001b[39m, \u001b[33m2\u001b[39m, \u001b[33m3\u001b[39m, \u001b[33m2\u001b[39m, \u001b[33m1\u001b[39m, \u001b[33m5\u001b[39m ]\n",
            "\u001b[33m4\u001b[39m \u001b[33m2\u001b[39m \u001b[33m3\u001b[39m \u001b[33m1\u001b[39m \u001b[33m5\u001b[39m\n"
          ]
        }
      ]
    },
    {
      "cell_type": "markdown",
      "metadata": {
        "id": "HX6cdlafwp0v"
      },
      "source": [
        "# いまここ"
      ]
    },
    {
      "cell_type": "code",
      "source": [
        "# 問題 ITP1_6_B: Finding Missing Cards\n",
        "# 不足しているカードの発見。 \n",
        "# 52枚あるはずのカードが n 枚のカードしかない。 n と手元のカードを入力として足りないカードを出力する。\n",
        "# 例: 47 S 10 S 11 S 12 S 13 H 1 H 2 S 6 S 7 S 8 S 9 H 6 H 8 H 9 H 10 H 11 H 4 H 5 \n",
        "# S 2 S 3 S 4 S 5 H 12 H 13 C 1 C 2 D 1 D 2 D 3 D 4 D 5 D 6 D 7 C 3 C 4 C 5 C 6 C 7 \n",
        "# C 8 C 9 C 10 C 11 C 13 D 9 D 10 D 11 D 12 D 13 =>  S 1 H 3  H 7  C 12 D 8  \n",
        "%%writefile temp.ts\n",
        "const heredoc : string = `\n",
        "47 S 10 S 11 S 12 S 13 H 1 H 2 S 6 S 7 S 8 S 9 H 6 H 8 H 9 H 10 H 11 H 4 H 5 \n",
        "S 2 S 3 S 4 S 5 H 12 H 13 C 1 C 2 D 1 D 2 D 3 D 4 D 5 D 6 D 7 C 3 C 4 C 5 C 6 C 7 \n",
        "C 8 C 9 C 10 C 11 C 13 D 9 D 10 D 11 D 12 D 13 =>  S 1 H 3  H 7  C 12 D 8  \n",
        "`\n",
        "let args : string[] = heredoc.trim().split(/[\\n\\s,;.]+/)\n",
        "args.splice(0,1)\n",
        "\n",
        "let cards = Array(4).fill(0).map(x => Array(13).fill(0))\n",
        "let n = 0;\n",
        "let rank = 0;\n",
        "let suit = \"\";\n",
        "\n",
        "for (let i = 0; i < args.length; i++) {\n",
        "    if (i % 2 !== 0) continue;\n",
        "    suit = args[i];\n",
        "    rank = Number(args[i + 1]);\n",
        "    if (suit === 'S') cards[0][rank-1] = 1;\n",
        "    if (suit === 'H') cards[1][rank-1] = 1;\n",
        "    if (suit === 'C') cards[2][rank-1] = 1;\n",
        "    if (suit === 'D') cards[3][rank-1] = 1;\n",
        "}\n",
        "\n",
        "for (let i = 0; i < cards.length; i++) {\n",
        "    for (let j = 0; j < (cards[i]).length ; j++) {\n",
        "        rank = j + 1;\n",
        "        if ((cards[i][j]) === 0) {\n",
        "            if (i === 0) suit = 'S';\n",
        "            if (i === 1) suit = 'H';\n",
        "            if (i === 2) suit = 'C';\n",
        "            if (i === 3) suit = 'D';\n",
        "            console.log(suit + \" \" + rank);\n",
        "        }\n",
        "    }\n",
        "}"
      ],
      "metadata": {
        "id": "qk8oT8IkeF-a",
        "outputId": "a2b7f4a0-beed-49ff-da0f-95c355df0be5",
        "colab": {
          "base_uri": "https://localhost:8080/"
        }
      },
      "execution_count": null,
      "outputs": [
        {
          "output_type": "stream",
          "name": "stdout",
          "text": [
            "Overwriting temp.ts\n"
          ]
        }
      ]
    },
    {
      "cell_type": "code",
      "source": [
        "!tsc temp.ts; echo  | node temp.js "
      ],
      "metadata": {
        "id": "mKwaxpW54kKi",
        "outputId": "e38fa380-bea5-4dfd-f853-9dc63c6d5194",
        "colab": {
          "base_uri": "https://localhost:8080/"
        }
      },
      "execution_count": null,
      "outputs": [
        {
          "output_type": "stream",
          "name": "stdout",
          "text": [
            "S 1\n",
            "H 3\n",
            "H 7\n",
            "C 12\n",
            "D 8\n"
          ]
        }
      ]
    },
    {
      "cell_type": "code",
      "source": [
        "# 問題 ITP1_6_C: Official House\n",
        "# 1 フロア 10 部屋、3 階建ての公舎 4 棟の入居・退去の情報を読み込み、各部屋の入居者数を出力する。\n",
        "# n 件の情報で、それぞれ b, f, r, vが与えられ、b 棟 f 階の r 番目の部屋に v 人が追加で入居したことを示す。\n",
        "# 例:  3 1 1 3 8 3 2 2 7 4 3 8 1 =>"
      ],
      "metadata": {
        "id": "gl6V6UdpeHlS"
      },
      "execution_count": null,
      "outputs": []
    },
    {
      "cell_type": "code",
      "metadata": {
        "id": "JWOYdTDcgUl4"
      },
      "source": [
        "%%html\n",
        "<span style=\"font-family: monospace\">\n",
        " 0 0 8 0 0 0 0 0 0 0<br>\n",
        " 0 0 0 0 0 0 0 0 0 0<br>\n",
        " 0 0 0 0 0 0 0 0 0 0<br>\n",
        "####################<br>\n",
        " 0 0 0 0 0 0 0 0 0 0<br>\n",
        " 0 0 0 0 0 0 0 0 0 0<br>\n",
        " 0 0 0 0 0 0 0 0 0 0<br>\n",
        "####################<br>\n",
        " 0 0 0 0 0 0 0 0 0 0<br>\n",
        " 0 7 0 0 0 0 0 0 0 0<br>\n",
        " 0 0 0 0 0 0 0 0 0 0<br>\n",
        "####################<br>\n",
        " 0 0 0 0 0 0 0 0 0 0<br>\n",
        " 0 0 0 0 0 0 0 0 0 0<br>\n",
        " 0 0 0 0 0 0 0 1 0 0</span>"
      ],
      "execution_count": null,
      "outputs": []
    },
    {
      "cell_type": "code",
      "source": [
        "%%writefile temp.ts\n",
        "const input : string = require('fs').readFileSync(\"/dev/stdin\", \"utf8\");\n",
        "let args : number[] = input.trim().split(/[\\n\\s,;.]+/).map((n) => Number(n))\n",
        "let n = args[0]\n",
        "args.splice(0,1)\n",
        "\n",
        "let rooms = Array(4).fill(0).map(x => Array(3).fill(0).map(x => Array(10).fill(0)));\n",
        "let building = 0;\n",
        "let floor = 0;\n",
        "let room = 0;\n",
        "let value = 0;\n",
        "let line = \"\";\n",
        "\n",
        "for (let i = 0; i < args.length; i++) {\n",
        "    if (i % 4 !== 0) continue;\n",
        "    building = args[i]-1;\n",
        "    floor = args[i + 1]-1;\n",
        "    room = args[i + 2]-1;\n",
        "    value = args[i + 3];\n",
        "    rooms[building][floor][room] += value\n",
        "}\n",
        "\n",
        "for (let i = 0; i < 4; i++) {\n",
        "    if (i > 0) console.log(\"####################\");\n",
        "    for (let j = 0; j < 3; j++) {\n",
        "        line = \"\";\n",
        "        for (let k =0; k < 10; k++){\n",
        "            line += \" \" + String(rooms[i][j][k]);\n",
        "        }\n",
        "        console.log(line);\n",
        "    }\n",
        "}\n"
      ],
      "metadata": {
        "id": "ewLCLF-bwCj8",
        "outputId": "e1b25e29-189e-4c52-dfce-5027576e56f0",
        "colab": {
          "base_uri": "https://localhost:8080/"
        }
      },
      "execution_count": null,
      "outputs": [
        {
          "output_type": "stream",
          "name": "stdout",
          "text": [
            "Overwriting temp.ts\n"
          ]
        }
      ]
    },
    {
      "cell_type": "code",
      "source": [
        "!tsc temp.ts; echo 3 1 1 3 8 3 2 2 7 4 3 8 1 | node temp.js "
      ],
      "metadata": {
        "id": "J2cTp2ylwi9v"
      },
      "execution_count": null,
      "outputs": []
    },
    {
      "cell_type": "code",
      "source": [
        "# 問題 ITP1_6_D: Matrix Vector Multiplication\n",
        "# n * m の行列 a と、m * 1 の列ベクトル b を読み込み、a と b の積を出力する。\n",
        "# 例: 3 4 1 2 0 1 0 3 0 1 4 1 1 0 1 2 3 0 => 5 6 9  \n",
        "%%writefile temp.ts\n",
        "const input : string = require('fs').readFileSync(\"/dev/stdin\", \"utf8\");\n",
        "let args : number[] = input.trim().split(/[\\n\\s,;.]+/).map((n) => Number(n))\n",
        "const n = args[0];\n",
        "const m = args[1];\n",
        "args.splice(0, 2);\n",
        "\n",
        "\n",
        "let mat = Array(n).fill(0).map(x => Array(m).fill(0));\n",
        "let vec = Array(m).fill(0)\n",
        "\n",
        "let i = 0;\n",
        "for (let j = 0; j < mat.length; j++) {\n",
        "    for (let k = 0; k < mat[j].length; k++) {\n",
        "        mat[j][k] = args[i];\n",
        "        i++;\n",
        "    }\n",
        "}\n",
        "for (let l = 0; l < mat.length; l++) {\n",
        "    vec[l] = args[i];\n",
        "    i++\n",
        "}\n",
        "\n",
        "let c= Array(n).fill(0);\n",
        "for (let i = 0; i < n; i++) {\n",
        "    for (let j = 0; j < m; j++) {\n",
        "        c[i] += mat[i][j] * vec[j];\n",
        "    }\n",
        "}\n",
        "\n",
        "for (let i = 0; i < n; i++){\n",
        "    console.log(c[i]);\n",
        "}"
      ],
      "metadata": {
        "id": "MoY5kTtheI2a",
        "outputId": "861b1bc3-12c2-4fb6-923c-181c36aa554b",
        "colab": {
          "base_uri": "https://localhost:8080/"
        }
      },
      "execution_count": null,
      "outputs": [
        {
          "output_type": "stream",
          "name": "stdout",
          "text": [
            "Overwriting temp.ts\n"
          ]
        }
      ]
    },
    {
      "cell_type": "code",
      "source": [
        "!tsc temp.ts; echo 3 4 1 2 0 1 0 3 0 1 4 1 1 0 1 2 3 0 | node temp.js #=> 5 6 9"
      ],
      "metadata": {
        "id": "A6XpdtG5yJSj"
      },
      "execution_count": null,
      "outputs": []
    },
    {
      "cell_type": "markdown",
      "metadata": {
        "id": "GwG1gMYiCiIh"
      },
      "source": [
        "# いまここ"
      ]
    },
    {
      "cell_type": "code",
      "source": [
        "# 問題 ITP1_7_A: Grading\n",
        "# 成績評価をする。 \n",
        "# テストの点数は m、f、r で、(m, f ≤ 50）、（r ≤ 100）。\n",
        "# 試験を受けていない場合の点数は -1。  \n",
        "# m、f、のいずれかを欠席した場合成績は F。  \n",
        "# m、f、の合計点数が 80 以上ならば成績は A 。  \n",
        "# m、f、の合計点数が 65 以上 80 未満ならば成績は B。  \n",
        "# m、f、の合計点数が 50 以上 65 未満ならば成績は C。  \n",
        "# m、f、の合計点数が 30 以上 50 未満ならば成績は D。 ただし、r の点数が 50 以上ならば成績は C。  \n",
        "# rの合計点数が 30 未満ならば成績は F。  \n",
        "# 例: 40 42 -1 20 30 -1 0 2 -1 -1 -1 -1 =>  A C F\n",
        "%%writefile temp.ts\n",
        "const input : string = require('fs').readFileSync(\"/dev/stdin\", \"utf8\");\n",
        "let args : number[] = input.trim().split(/[\\n\\s,;.]+/).map((n) => Number(n))\n",
        "\n",
        "let getGrade(int m, int f, int r) {\n",
        "    int sum = m + f;\n",
        "    char grade;\n",
        "    if (m == -1 || f == -1) {\n",
        "        grade = 'F';\n",
        "    } else if (80 <= sum) {\n",
        "        grade = 'A';\n",
        "    } else if (65 <= sum && sum < 80) {\n",
        "        grade = 'B';\n",
        "    } else if (50 <= sum && sum < 65) {\n",
        "        grade = 'C';\n",
        "    } else if (30 <= sum && sum < 50) {\n",
        "        if (50 <= r)\n",
        "            grade = 'C';\n",
        "        else\n",
        "            grade = 'D';\n",
        "    } else if (sum < 30) {\n",
        "        grade = 'F';\n",
        "    }\n",
        "    return grade;\n",
        "}\n",
        "\n",
        "int main() {\n",
        "    int m, f, r;\n",
        "    while (1) {\n",
        "        std::cin >> m >> f >> r;\n",
        "        if (m == -1 && f == -1 && r == -1) break;\n",
        "        std::cout << (char)getGrade(m, f, r) << \"\\n\";\n",
        "    }\n",
        "    return 0;\n",
        "}"
      ],
      "metadata": {
        "id": "GPZkGO9veKYa",
        "outputId": "e17b1a2f-c93a-4344-9011-f99762aca32b",
        "colab": {
          "base_uri": "https://localhost:8080/"
        }
      },
      "execution_count": null,
      "outputs": [
        {
          "output_type": "stream",
          "name": "stdout",
          "text": [
            "Overwriting temp.ts\n"
          ]
        }
      ]
    },
    {
      "cell_type": "code",
      "source": [
        "!tsc temp.ts; echo 40 42 -1 20 30 -1 0 2 -1 -1 -1 -1 | node temp.js #=> A C F"
      ],
      "metadata": {
        "id": "cMP2JJm8zHah"
      },
      "execution_count": null,
      "outputs": []
    },
    {
      "cell_type": "code",
      "metadata": {
        "id": "bsl-1ynNxq1Y",
        "colab": {
          "base_uri": "https://localhost:8080/"
        },
        "outputId": "63f97886-efe5-40c1-a5b4-2fff94aed7b9"
      },
      "source": [
        "%%writefile grading.cpp\n",
        "#include <iostream>\n",
        "\n",
        "int getGrade(int m, int f, int r) {\n",
        "    int sum = m + f;\n",
        "    char grade;\n",
        "    if (m == -1 || f == -1) {\n",
        "        grade = 'F';\n",
        "    } else if (80 <= sum) {\n",
        "        grade = 'A';\n",
        "    } else if (65 <= sum && sum < 80) {\n",
        "        grade = 'B';\n",
        "    } else if (50 <= sum && sum < 65) {\n",
        "        grade = 'C';\n",
        "    } else if (30 <= sum && sum < 50) {\n",
        "        if (50 <= r)\n",
        "            grade = 'C';\n",
        "        else\n",
        "            grade = 'D';\n",
        "    } else if (sum < 30) {\n",
        "        grade = 'F';\n",
        "    }\n",
        "    return grade;\n",
        "}\n",
        "\n",
        "int main() {\n",
        "    int m, f, r;\n",
        "    while (1) {\n",
        "        std::cin >> m >> f >> r;\n",
        "        if (m == -1 && f == -1 && r == -1) break;\n",
        "        std::cout << (char)getGrade(m, f, r) << \"\\n\";\n",
        "    }\n",
        "    return 0;\n",
        "}"
      ],
      "execution_count": null,
      "outputs": [
        {
          "output_type": "stream",
          "text": [
            "Overwriting grading.cpp\n"
          ],
          "name": "stdout"
        }
      ]
    },
    {
      "cell_type": "code",
      "metadata": {
        "id": "uxEpwakkXVJ3",
        "colab": {
          "base_uri": "https://localhost:8080/"
        },
        "outputId": "7a255ac9-5293-483f-dd19-b94d62ab5859"
      },
      "source": [
        "!g++ grading.cpp -o grading; echo 40 42 -1 20 30 -1 0 2 -1 -1 -1 -1 |./grading"
      ],
      "execution_count": null,
      "outputs": [
        {
          "output_type": "stream",
          "text": [
            "A\n",
            "C\n",
            "F\n"
          ],
          "name": "stdout"
        }
      ]
    },
    {
      "cell_type": "code",
      "source": [
        "# 問題 ITP1_7_B: How many ways?\n",
        "1 から n までの数の中から、重複無しで３つの数を選びそれらの合計が x となる組み合わせの数を求める。\n",
        "\n",
        "例えば、1 から 5 までの数から３つを選んでそれらの合計が 9 となる組み合わせは、\n",
        "\n",
        "* 1 + 3 + 5 = 9\n",
        "* 2 + 3 + 4 = 9\n",
        "\n",
        "の２通り。\n",
        "\n",
        "例: 5 9 0 0 => 2\n"
      ],
      "metadata": {
        "id": "33s4FHAneLdi"
      },
      "execution_count": null,
      "outputs": []
    },
    {
      "cell_type": "code",
      "metadata": {
        "id": "a6_VEdWNv5R_",
        "colab": {
          "base_uri": "https://localhost:8080/"
        },
        "outputId": "2ef592ff-fc29-4346-df98-ab6e0204f43f"
      },
      "source": [
        "%%writefile howmanyway.cpp\n",
        "#include <iostream>\n",
        "\n",
        "int count(int n, int x) {\n",
        "    int cnt = 0;\n",
        "    for (int i = 1; i <= n - 2; i++) {\n",
        "        for (int j = i + 1; j <= n - 1; j++) {\n",
        "            for (int k = j + 1; k <= n; k++) {\n",
        "                if (i + j + k == x) cnt++;\n",
        "            }\n",
        "        }\n",
        "    }\n",
        "    return cnt;\n",
        "}\n",
        "\n",
        "int main() {\n",
        "    int n, x;\n",
        "    while (1) {\n",
        "        std::cin >> n >> x;\n",
        "        if (n == 0 && x == 0) break;\n",
        "        std::cout << count(n, x) << \"\\n\";\n",
        "    }\n",
        "    return 0;\n",
        "}"
      ],
      "execution_count": null,
      "outputs": [
        {
          "output_type": "stream",
          "text": [
            "Writing howmanyway.cpp\n"
          ],
          "name": "stdout"
        }
      ]
    },
    {
      "cell_type": "code",
      "metadata": {
        "id": "uTG1hHh5ZFne",
        "colab": {
          "base_uri": "https://localhost:8080/"
        },
        "outputId": "530b66c8-be11-40c8-ec83-5b350bb43732"
      },
      "source": [
        "!g++ howmanyway.cpp -o howmanyway; echo 5 9 0 0 |./howmanyway"
      ],
      "execution_count": null,
      "outputs": [
        {
          "output_type": "stream",
          "text": [
            "2\n"
          ],
          "name": "stdout"
        }
      ]
    },
    {
      "cell_type": "code",
      "source": [
        "# 問題 ITP1_7_C: Spreadsheet\n",
        "行数 r と列数 c、$r \\times c$ の要素を持つ表を読み込んで、各行と列の合計を挿入した  $(r+1) \\times (c+1)$ の新しい表を出力する。\n",
        "\n",
        "例: 4 5 1 1 3 4 5 2 2 2 4 5 3 3 0 1 1 2 3 4 4 6 =>  \n",
        "1 1 3 4 5 14  \n",
        "2 2 2 4 5 15  \n",
        "3 3 0 1 1 8  \n",
        "2 3 4 4 6 19  \n",
        "8 9 9 13 17 56  \n"
      ],
      "metadata": {
        "id": "el6wucfdeMlK"
      },
      "execution_count": null,
      "outputs": []
    },
    {
      "cell_type": "code",
      "metadata": {
        "id": "K2YWIaeZFAzf",
        "colab": {
          "base_uri": "https://localhost:8080/"
        },
        "outputId": "216329be-9f1f-4309-e5a4-44ac9911079e"
      },
      "source": [
        "%%writefile spreadsheet.cpp\n",
        "#include <iostream>\n",
        "\n",
        "int main() {\n",
        "    int T[101][101], r, c;\n",
        "    std::cin >> r >> c;\n",
        "    for (int i = 0; i < r; i++)\n",
        "        for (int j = 0; j < c; j++) std::cin >> T[i][j];\n",
        "    for (int i = 0; i < r; i++) T[i][c] = 0;\n",
        "    for (int j = 0; j < c; j++) T[r][j] = 0;\n",
        "\n",
        "    for (int i = 0; i < r; i++) {\n",
        "        for (int j = 0; j < c; j++) {\n",
        "            T[i][c] += T[i][j];\n",
        "            T[r][j] += T[i][j];\n",
        "            T[r][c] += T[i][j];\n",
        "        }\n",
        "    }\n",
        "\n",
        "    for (int i = 0; i <= r; i++) {\n",
        "        for (int j = 0; j <= c; j++) {\n",
        "            if (j) std::cout << \" \";\n",
        "            std::cout << T[i][j];\n",
        "        }\n",
        "        std::cout << \"\\n\";\n",
        "    }\n",
        "\n",
        "    return 0;\n",
        "}"
      ],
      "execution_count": null,
      "outputs": [
        {
          "output_type": "stream",
          "text": [
            "Overwriting spreadsheet.cpp\n"
          ],
          "name": "stdout"
        }
      ]
    },
    {
      "cell_type": "code",
      "metadata": {
        "id": "-lAYLgjXZQZK",
        "colab": {
          "base_uri": "https://localhost:8080/"
        },
        "outputId": "f555a113-0736-4c29-a7c3-0bb89c210b04"
      },
      "source": [
        "!g++ spreadsheet.cpp -o spreadsheet; echo 4 5 1 1 3 4 5 2 2 2 4 5 3 3 0 1 1 2 3 4 4 6 |./spreadsheet"
      ],
      "execution_count": null,
      "outputs": [
        {
          "output_type": "stream",
          "text": [
            "1 1 3 4 5 14\n",
            "2 2 2 4 5 15\n",
            "3 3 0 1 1 8\n",
            "2 3 4 4 6 19\n",
            "8 9 9 13 17 56\n"
          ],
          "name": "stdout"
        }
      ]
    },
    {
      "cell_type": "code",
      "source": [
        "# 問題 ITP1_7_D: Matrix Multiplication\n",
        "$n \\times m$ の行列 a と $m \\times l$ の行列 b を入力し、それらの積である $n \\times l$ の行列 c を出力する。\n",
        "$$\n",
        "C_{ij} = \\sum_{k=1}^m a_{ik}b_{kj}\n",
        "$$\n",
        "最初の行で、n、m、l が空白区切りで与えられる。\n",
        "\n",
        "例: 3 2 3 1 2 0 3 4 5 1 2 1 0 3 2 =>  \n",
        "1 8 5  \n",
        "0 9 6  \n",
        "4 23 14  \n"
      ],
      "metadata": {
        "id": "D3nNxCEneNZB"
      },
      "execution_count": null,
      "outputs": []
    },
    {
      "cell_type": "code",
      "metadata": {
        "id": "N3pCUcBnph7Z",
        "colab": {
          "base_uri": "https://localhost:8080/",
          "height": 67
        },
        "outputId": "894643f5-96a5-45e3-e701-2d60a1ecd5e5"
      },
      "source": [
        "# 参考\n",
        "%%latex\n",
        "\\displaystyle\n",
        "\n",
        "C_{ij} = \\sum_{k=1}^m a_{ik}b_{kj}\n"
      ],
      "execution_count": null,
      "outputs": [
        {
          "output_type": "display_data",
          "data": {
            "text/latex": "\\displaystyle\n\nC_{ij} = \\sum_{k=1}^m a_{ik}b_{kj}",
            "text/plain": [
              "<IPython.core.display.Latex object>"
            ]
          },
          "metadata": {
            "tags": []
          }
        }
      ]
    },
    {
      "cell_type": "code",
      "metadata": {
        "id": "uvgLLFCAPD0B",
        "colab": {
          "base_uri": "https://localhost:8080/"
        },
        "outputId": "00bb3887-c4e9-4d15-deaf-05c3fc437013"
      },
      "source": [
        "%%writefile matrixmultiplication.cpp\n",
        "#include <iostream>\n",
        "\n",
        "int main() {\n",
        "    int n, m, l;\n",
        "    long long A[100][100], B[100][100], C[100][100];\n",
        "\n",
        "    std::cin >> n >> m >> l;\n",
        "    for (int i = 0; i < n; i++)\n",
        "        for (int j = 0; j < m; j++) std::cin >> A[i][j];\n",
        "    for (int i = 0; i < m; i++)\n",
        "        for (int j = 0; j < l; j++) std::cin >> B[i][j];\n",
        "\n",
        "    for (int i = 0; i < n; i++) {\n",
        "        for (int j = 0; j < l; j++) {\n",
        "            C[i][j] = 0;\n",
        "            for (int k = 0; k < m; k++) {\n",
        "                C[i][j] += A[i][k] * B[k][j];\n",
        "            }\n",
        "        }\n",
        "    }\n",
        "\n",
        "    for (int i = 0; i < n; i++) {\n",
        "        for (int j = 0; j < l; j++) {\n",
        "            if (j) std::cout << \" \";\n",
        "            std::cout << C[i][j];\n",
        "        }\n",
        "        std::cout << \"\\n\";\n",
        "    }\n",
        "\n",
        "    return 0;\n",
        "}"
      ],
      "execution_count": null,
      "outputs": [
        {
          "output_type": "stream",
          "text": [
            "Overwriting matrixmultiplication.cpp\n"
          ],
          "name": "stdout"
        }
      ]
    },
    {
      "cell_type": "code",
      "metadata": {
        "id": "Q7oQaqCub0R9",
        "colab": {
          "base_uri": "https://localhost:8080/"
        },
        "outputId": "56491bc6-0413-49dd-dd9f-36e1f734aaae"
      },
      "source": [
        "!g++ matrixmultiplication.cpp -o matrixmultiplication; echo 3 2 3 1 2 0 3 4 5 1 2 1 0 3 2 |./matrixmultiplication"
      ],
      "execution_count": null,
      "outputs": [
        {
          "output_type": "stream",
          "text": [
            "1 8 5\n",
            "0 9 6\n",
            "4 23 14\n"
          ],
          "name": "stdout"
        }
      ]
    },
    {
      "cell_type": "code",
      "source": [
        "# 問題 ITP1_8_A: Toggling Cases\n",
        "文字列の小文字と大文字を入れ替える。\n",
        "\n",
        "例: fAIR, LATER, OCCASIONALLY CLOUDY. => Fair, later, occasionally cloudy.\n"
      ],
      "metadata": {
        "id": "75e9hXNreOHp"
      },
      "execution_count": null,
      "outputs": []
    },
    {
      "cell_type": "code",
      "metadata": {
        "id": "5IsunIB5RqtH",
        "colab": {
          "base_uri": "https://localhost:8080/"
        },
        "outputId": "e79bcce9-b7d8-4427-e9be-f91f63706ea8"
      },
      "source": [
        "%%writefile togglecase.cpp\n",
        "#include <iostream>\n",
        "\n",
        "int main() {\n",
        "    std::string str;\n",
        "    getline(std::cin, str);\n",
        "\n",
        "    for (int i = 0; i < str.size(); i++) {\n",
        "        if (isalpha(str[i])) {\n",
        "            if (islower(str[i]))\n",
        "                str[i] = toupper(str[i]);\n",
        "            else\n",
        "                str[i] = tolower(str[i]);\n",
        "        }\n",
        "    }\n",
        "    std::cout << str << \"\\n\";\n",
        "    return 0;\n",
        "}"
      ],
      "execution_count": null,
      "outputs": [
        {
          "output_type": "stream",
          "text": [
            "Overwriting togglecase.cpp\n"
          ],
          "name": "stdout"
        }
      ]
    },
    {
      "cell_type": "code",
      "metadata": {
        "id": "MrkrP2uuRuL_",
        "colab": {
          "base_uri": "https://localhost:8080/"
        },
        "outputId": "11b77dd3-f07b-4e09-d8b3-143400caa619"
      },
      "source": [
        "!g++ togglecase.cpp -o togglecase; echo fAIR, LATER, OCCASIONALLY CLOUDY.  |./togglecase"
      ],
      "execution_count": null,
      "outputs": [
        {
          "output_type": "stream",
          "text": [
            "Fair, later, occasionally cloudy.\n"
          ],
          "name": "stdout"
        }
      ]
    },
    {
      "cell_type": "code",
      "source": [
        "# 問題 ITP1_8_B: Sum of Numbers\n",
        "与えられた数の各桁の和を計算する。\n"
      ],
      "metadata": {
        "id": "J5whLVdFePDp"
      },
      "execution_count": null,
      "outputs": []
    },
    {
      "cell_type": "markdown",
      "metadata": {
        "id": "2eSlB9qXhf-h"
      },
      "source": [
        "\n",
        "例: 123 55 1000 0 =>  \n",
        "6  \n",
        "10  \n",
        "1  "
      ]
    },
    {
      "cell_type": "code",
      "metadata": {
        "id": "Ca0OamlTgylf",
        "colab": {
          "base_uri": "https://localhost:8080/"
        },
        "outputId": "f6c8423b-615c-4b21-b16c-171f474791bf"
      },
      "source": [
        "%%writefile sumofnum01.cpp\n",
        "#include <iostream>\n",
        "\n",
        "int strtosum(std::string str) {\n",
        "    int sum = 0;\n",
        "    for (int i = 0; i < str.size(); i++) {\n",
        "        sum += (str[i] - '0');\n",
        "    }\n",
        "    return sum;\n",
        "}\n",
        "\n",
        "int main() {\n",
        "    std::string str;\n",
        "    while (1) {\n",
        "        std::cin >> str;\n",
        "        if (str[0] == '0') break;\n",
        "        std::cout << strtosum(str) << \"\\n\";\n",
        "    }\n",
        "    return 0;\n",
        "}\n"
      ],
      "execution_count": null,
      "outputs": [
        {
          "output_type": "stream",
          "text": [
            "Overwriting sumofnum01.cpp\n"
          ],
          "name": "stdout"
        }
      ]
    },
    {
      "cell_type": "code",
      "metadata": {
        "id": "IzPuokJUg6OQ",
        "colab": {
          "base_uri": "https://localhost:8080/"
        },
        "outputId": "59d1eed3-23db-4149-dcfd-204e014c1f55"
      },
      "source": [
        "!g++ sumofnum01.cpp -o sumofnum01; echo 123 55 1000 0  |./sumofnum01"
      ],
      "execution_count": null,
      "outputs": [
        {
          "output_type": "stream",
          "text": [
            "6\n",
            "10\n",
            "1\n"
          ],
          "name": "stdout"
        }
      ]
    },
    {
      "cell_type": "code",
      "source": [
        "# 問題 ITP1_8_C: Counting Characters\n",
        "与えられた英文に含まれる、各アルファベットの数を数える。 小文字と大文字は区別しない。\n",
        "\n",
        "例: This is a pen. =>   \n",
        "a : 1  \n",
        "b : 0  \n",
        "c : 0  \n",
        "d : 0  \n",
        "e : 1  \n",
        "f : 0  \n"
      ],
      "metadata": {
        "id": "NyNPaOkJePxB"
      },
      "execution_count": null,
      "outputs": []
    },
    {
      "cell_type": "code",
      "metadata": {
        "id": "xvA7k-jY82Yf",
        "colab": {
          "base_uri": "https://localhost:8080/"
        },
        "outputId": "be343927-57ec-4710-b5a7-56007528eb0d"
      },
      "source": [
        "%%writefile countcharacter.cpp\n",
        "#include <iostream>\n",
        "\n",
        "int main (){\n",
        "    char ch;\n",
        "    int cnt[26] = {};\n",
        "    while(std::cin >> ch){\n",
        "        ch = tolower(ch);\n",
        "        if (isalpha(ch)){\n",
        "            cnt[ch-'a']++;\n",
        "        }\n",
        "    }\n",
        "\n",
        "    for (int i = 0; i < 26; i++){\n",
        "        std::cout << char(i+'a') << \" \" << cnt[i] << \"\\n\";\n",
        "    }\n",
        "    return 0;\n",
        "}\n"
      ],
      "execution_count": null,
      "outputs": [
        {
          "output_type": "stream",
          "name": "stdout",
          "text": [
            "Writing countcharacter.cpp\n"
          ]
        }
      ]
    },
    {
      "cell_type": "code",
      "metadata": {
        "id": "YDJCURDO82oJ",
        "colab": {
          "base_uri": "https://localhost:8080/"
        },
        "outputId": "b86c70ca-6e66-47c7-c4e7-758b360b9f69"
      },
      "source": [
        "!g++ countcharacter.cpp -o countcharacter; echo This is a pen. |./countcharacter"
      ],
      "execution_count": null,
      "outputs": [
        {
          "output_type": "stream",
          "text": [
            "a 1\n",
            "b 0\n",
            "c 0\n",
            "d 0\n",
            "e 1\n",
            "f 0\n",
            "g 0\n",
            "h 1\n",
            "i 2\n",
            "j 0\n",
            "k 0\n",
            "l 0\n",
            "m 0\n",
            "n 1\n",
            "o 0\n",
            "p 1\n",
            "q 0\n",
            "r 0\n",
            "s 2\n",
            "t 1\n",
            "u 0\n",
            "v 0\n",
            "w 0\n",
            "x 0\n",
            "y 0\n",
            "z 0\n"
          ],
          "name": "stdout"
        }
      ]
    },
    {
      "cell_type": "code",
      "source": [
        "# 問題 ITP1_8_D: Ring\n",
        "リング状の文字列 s の任意の位置から、時計回りに文字列 p が作れるかを判定する。\n",
        "\n",
        "例: vanceknowledgetoad advance => Yes\n"
      ],
      "metadata": {
        "id": "ZumzW0lMeQdR"
      },
      "execution_count": null,
      "outputs": []
    },
    {
      "cell_type": "code",
      "metadata": {
        "id": "ksMyfhEL_oRY",
        "colab": {
          "base_uri": "https://localhost:8080/"
        },
        "outputId": "9be1f068-ecd5-4af9-df4a-64233df6ccd5"
      },
      "source": [
        "%%writefile ring01.cpp\n",
        "#include <iostream>\n",
        "\n",
        "int main(){\n",
        "    std::string s, t, p;\n",
        "    std::cin >> s >> p;\n",
        "    t = s + s;\n",
        "\n",
        "    if (t.find(p) != std::string::npos )  std::cout << \"Yes\" << \"\\n\";\n",
        "    else std::cout << \"No\" << \"\\n\";\n",
        "\n",
        "    return 0;\n",
        "\n",
        "}"
      ],
      "execution_count": null,
      "outputs": [
        {
          "output_type": "stream",
          "text": [
            "Overwriting ring01.cpp\n"
          ],
          "name": "stdout"
        }
      ]
    },
    {
      "cell_type": "code",
      "metadata": {
        "id": "5IWeRyEo_q4t",
        "colab": {
          "base_uri": "https://localhost:8080/"
        },
        "outputId": "6aca43fa-f24a-4ee4-906c-c7ee4ee5d408"
      },
      "source": [
        "!g++ ring01.cpp -o ring01; echo vanceknowledgetoad advance |./ring01"
      ],
      "execution_count": null,
      "outputs": [
        {
          "output_type": "stream",
          "text": [
            "Yes\n"
          ],
          "name": "stdout"
        }
      ]
    },
    {
      "cell_type": "code",
      "source": [
        "# 問題 ITP1_9_A: Finding a Word\n",
        "単語 W と文章 T で、T の中にある W の数を出力する。\n",
        "すべての単語 $T_i$ において単語 W と同じになるものを数える。\n",
        "大文字と小文字は区別しない。W に含まれる文字はすべてアルファベット小文字。\n",
        "T は、END_OF_TEXT という文字列が文章の終わりを示す。\n",
        "\n",
        "例: computer Nurtures computer scientists and highly-skilled computer engineers \n",
        "who will create and exploit $knowledge$ for the new era. Provides an outstanding computer environment. END_OF_TEXT\n",
        "=> \n",
        "3\n"
      ],
      "metadata": {
        "id": "P7WavdkReROB"
      },
      "execution_count": null,
      "outputs": []
    },
    {
      "cell_type": "code",
      "metadata": {
        "id": "x9FH1UhbfN5K",
        "colab": {
          "base_uri": "https://localhost:8080/"
        },
        "outputId": "9a3f2cf2-6e02-4dfb-f14b-df90d5705b14"
      },
      "source": [
        "%%writefile findword.cpp\n",
        "#include <iostream>\n",
        "\n",
        "std::string toUpper(std::string str) {\n",
        "    for (int i = 0; i < str.size(); i++) str[i] = toupper(str[i]);\n",
        "    return str;\n",
        "}\n",
        "\n",
        "int main() {\n",
        "    std::string target, source;\n",
        "    std::cin >> target;\n",
        "    target = toUpper(target);\n",
        "\n",
        "    int cnt = 0;\n",
        "\n",
        "    while (1) {\n",
        "        std::cin >> source;\n",
        "        if (source == \"END_OF_TEXT\") break;\n",
        "        source = toUpper(source);\n",
        "        if (target == source) cnt++;\n",
        "    }\n",
        "\n",
        "    std::cout << cnt << \"\\n\";\n",
        "\n",
        "    return 0;\n",
        "}\n",
        "\n",
        "\n",
        "\n"
      ],
      "execution_count": null,
      "outputs": [
        {
          "output_type": "stream",
          "text": [
            "Writing findword.cpp\n"
          ],
          "name": "stdout"
        }
      ]
    },
    {
      "cell_type": "code",
      "metadata": {
        "id": "AH1PcUKxfNmc",
        "colab": {
          "base_uri": "https://localhost:8080/"
        },
        "outputId": "837b2fb7-712a-4292-b398-06fd5739e632"
      },
      "source": [
        "!g++ findword.cpp -o findword; echo computer Nurtures computer scientists and highly-skilled computer engineers who will create and exploit  knowledge  for the new era. Provides an outstanding computer environment. END_OF_TEXT |./findword"
      ],
      "execution_count": null,
      "outputs": [
        {
          "output_type": "stream",
          "text": [
            "3\n"
          ],
          "name": "stdout"
        }
      ]
    },
    {
      "cell_type": "code",
      "source": [
        "# 問題 ITP1_9_B: Shuffle\n",
        "アルファベットの n 枚のカードの山をシャッフルする。 シャッフルでは、h 枚のカードをまとめて取り出し、それを残ったカードの山の上に積み上げる。例えば、abcdeefab を h が 4 でシャッフルすると、eefababcd になる。 このシャッフルを何回か繰り返す。\n",
        "\n",
        "カードの山の最初の並びと h の列を読み込み、最後の並びを出力する。 文字列が \"-\" のとき入力の終わりとする。\n",
        "\n",
        "\n",
        " 例: aabc 3 1 2 1 vwxyz 2 3 4 - =>   \n",
        " aabc  \n",
        " xyzvw  \n"
      ],
      "metadata": {
        "id": "FIfUnFWKeR6Z"
      },
      "execution_count": null,
      "outputs": []
    },
    {
      "cell_type": "code",
      "metadata": {
        "id": "oTCDJiYa8t-B",
        "colab": {
          "base_uri": "https://localhost:8080/"
        },
        "outputId": "a986af50-9675-4983-d723-b7166c7f2228"
      },
      "source": [
        "%%writefile shuffle01.cpp\n",
        "#include <iostream>\n",
        "\n",
        "std::string shuffle(std::string str, int h) {\n",
        "    std::string head = str.substr(0, h);\n",
        "    std::string tail = str.substr(h, str.size() - 1);\n",
        "    return tail + head;\n",
        "}\n",
        "\n",
        "int main() {\n",
        "    std::string cards;\n",
        "    int m, h;\n",
        "\n",
        "    while (1) {\n",
        "        std::cin >> cards;\n",
        "        if (cards == \"-\") break;\n",
        "        std::cin >> m;\n",
        "        for (int i = 0; i < m; i++) {\n",
        "            std::cin >> h;\n",
        "            cards = shuffle(cards, h);\n",
        "        }\n",
        "        std::cout << cards << \"\\n\";\n",
        "    }\n",
        "    return 0;\n",
        "}\n"
      ],
      "execution_count": null,
      "outputs": [
        {
          "output_type": "stream",
          "text": [
            "Overwriting shuffle01.cpp\n"
          ],
          "name": "stdout"
        }
      ]
    },
    {
      "cell_type": "code",
      "metadata": {
        "id": "Whs4PGcs8tzw",
        "colab": {
          "base_uri": "https://localhost:8080/"
        },
        "outputId": "b14da4fc-1f7e-44ad-a54b-f5e642eb6844"
      },
      "source": [
        "!g++ shuffle01.cpp -o shuffle01; echo aabc 3 1 2 1 vwxyz 2 3 4 - |./shuffle01"
      ],
      "execution_count": null,
      "outputs": [
        {
          "output_type": "stream",
          "text": [
            "aabc\n",
            "xyzvw\n"
          ],
          "name": "stdout"
        }
      ]
    },
    {
      "cell_type": "code",
      "source": [
        "# 問題 ITP1_9_C: Card Game\n",
        "このゲームでは、カードに動物の名前が書かれいて、辞書順で大きいものがそのターンの勝者となる。勝者には３ポイント、引き分けの場合にはそれぞれ１ポイントが加算される。ゲーム終了後のそれぞれの得点を出力する。\n",
        "\n",
        "例: 3 cat dog fish fish lion tiger =>  1 7\n"
      ],
      "metadata": {
        "id": "nLP0EvwueSsx"
      },
      "execution_count": null,
      "outputs": []
    },
    {
      "cell_type": "code",
      "metadata": {
        "id": "N7co78aNOZM9",
        "colab": {
          "base_uri": "https://localhost:8080/"
        },
        "outputId": "df3c60e3-9715-42d4-a053-e818ba782b02"
      },
      "source": [
        "%%writefile cardgame.cpp\n",
        "#include <iostream>\n",
        "\n",
        "int main() {\n",
        "    int n;\n",
        "    std::string s1, s2;\n",
        "    int a = 0, b = 0;\n",
        "    std::cin >> n;\n",
        "\n",
        "    for (int i = 0; i < n; i++) {\n",
        "        std::cin >> s1 >> s2;\n",
        "        if (s1 > s2)\n",
        "            a += 3;\n",
        "        else if (s1 < s2)\n",
        "            b += 3;\n",
        "        else {\n",
        "            a++;\n",
        "            b++;\n",
        "        }\n",
        "    }\n",
        "    std::cout << a << \" \" << b << \"\\n\";\n",
        "    return 0;\n",
        "}\n"
      ],
      "execution_count": null,
      "outputs": [
        {
          "output_type": "stream",
          "text": [
            "Overwriting cardgame.cpp\n"
          ],
          "name": "stdout"
        }
      ]
    },
    {
      "cell_type": "code",
      "metadata": {
        "id": "pz1Zj48sOZrp",
        "colab": {
          "base_uri": "https://localhost:8080/"
        },
        "outputId": "b61ee270-441a-4d3d-f694-5db153ef7e98"
      },
      "source": [
        "!g++ cardgame.cpp -o cardgame; echo 3 cat dog fish fish lion tiger |./cardgame"
      ],
      "execution_count": null,
      "outputs": [
        {
          "output_type": "stream",
          "text": [
            "1 7\n"
          ],
          "name": "stdout"
        }
      ]
    },
    {
      "cell_type": "code",
      "source": [
        "# 問題 ITP1_9_D: Transformation\n",
        "文字列 str に対して、与えられた命令の列を実行する。\n",
        "* print a b: str の a 文字目から b 文字目までを出力する。\n",
        "* reverse a b: str の a 文字目から b 文字目までを逆順にする。\n",
        "* replace a b p: str の a 文字目から b 文字目までを p に置き換える。\n",
        "文字列 str の最初の文字を 0 文字目とする。\n",
        "\n",
        "1 行目に文字列 str 、2 行目に命令の数 q 、続く q 行に各命令が上記の形式で与えられる。\n",
        "\n",
        "例: abcde 3 replace 1 3 xyz reverse 0 2 print 1 4 =>  xaze\n"
      ],
      "metadata": {
        "id": "Bog1bWnRhO97"
      },
      "execution_count": null,
      "outputs": []
    },
    {
      "cell_type": "code",
      "metadata": {
        "id": "uENuKTdjRcci",
        "colab": {
          "base_uri": "https://localhost:8080/"
        },
        "outputId": "4dd84186-1851-4ef0-a3de-c1d5365101eb"
      },
      "source": [
        "%%writefile transform.cpp\n",
        "\n",
        "#include <iostream>\n",
        "\n",
        "int main() {\n",
        "    std::string str, com, p;\n",
        "    int q, a, b;\n",
        "    std::cin >> str >> q;\n",
        "\n",
        "    for (int i = 0; i < q; i++) {\n",
        "        std::cin >> com >> a >> b;\n",
        "        if (com == \"print\")\n",
        "            std::cout << str.substr(a, b - a + 1);\n",
        "        else if (com == \"reverse\") {\n",
        "            std::string tmp = str.substr(a, b - a + 1);\n",
        "            int n = tmp.size();\n",
        "            for (int i = 0; i < n; i++) str[i + a] = tmp[n - i - 1];\n",
        "        } else if (com == \"replace\") {\n",
        "            std::cin >> p;\n",
        "            str = str.replace(a, b - a + 1, p);\n",
        "        }\n",
        "    }\n",
        "    return 0;\n",
        "}\n"
      ],
      "execution_count": null,
      "outputs": [
        {
          "output_type": "stream",
          "text": [
            "Overwriting transform.cpp\n"
          ],
          "name": "stdout"
        }
      ]
    },
    {
      "cell_type": "code",
      "metadata": {
        "id": "NMNGyfkXRc-O",
        "colab": {
          "base_uri": "https://localhost:8080/"
        },
        "outputId": "09b85ae6-9f68-4b9d-98a4-60ceb1352d16"
      },
      "source": [
        "!g++ transform.cpp -o transform; echo abcde 3 replace 1 3 xyz reverse 0 2 print 1 4 |./transform"
      ],
      "execution_count": null,
      "outputs": [
        {
          "output_type": "stream",
          "text": [
            "xaze"
          ],
          "name": "stdout"
        }
      ]
    },
    {
      "cell_type": "code",
      "source": [
        "# 問題 ITP1_10_A: Distance\n",
        "点 $P1(x1, y1)$, $P2(x2, y2)$ の距離を求める。\n",
        "\n",
        "例: 0 0 1 1 => 1.41421356\n"
      ],
      "metadata": {
        "id": "nzLLtKkheUhg"
      },
      "execution_count": null,
      "outputs": []
    },
    {
      "cell_type": "code",
      "metadata": {
        "colab": {
          "base_uri": "https://localhost:8080/"
        },
        "id": "0S2V-lI2vACx",
        "outputId": "8708324a-4f4c-4874-a637-119200439617"
      },
      "source": [
        "%%writefile distancepoint01.cpp\n",
        "\n",
        "#include <iostream>\n",
        "#include <iomanip>\n",
        "#include <cmath>\n",
        "\n",
        "int main() {\n",
        "    double x1, y1, x2, y2;\n",
        "    std::cin >> x1 >> y1 >> x2 >> y2;\n",
        "    double d = std::sqrt((x1 - x2) * (x1 - x2) + (y1 - y2) * (y1 - y2));\n",
        "    std::cout << std::fixed <<std::setprecision(8) << d << \"\\n\";\n",
        "    \n",
        "    return 0;\n",
        "}\n"
      ],
      "execution_count": null,
      "outputs": [
        {
          "output_type": "stream",
          "text": [
            "Overwriting distancepoint01.cpp\n"
          ],
          "name": "stdout"
        }
      ]
    },
    {
      "cell_type": "code",
      "metadata": {
        "colab": {
          "base_uri": "https://localhost:8080/"
        },
        "id": "EN0IO1sYu_ki",
        "outputId": "57819bec-00b6-4429-9e5f-6076a51cb945"
      },
      "source": [
        "!g++ distancepoint01.cpp -o distancepoint01; echo 0 0 1 1 |./distancepoint01"
      ],
      "execution_count": null,
      "outputs": [
        {
          "output_type": "stream",
          "text": [
            "1.41421356\n"
          ],
          "name": "stdout"
        }
      ]
    },
    {
      "cell_type": "code",
      "source": [
        "# 問題 ITP1_10_B: Triangle\n",
        "三角形の２辺 \"a\", \"b\" とその間の角 \"C\" から、その三角形の面積 \"S\"、周の長さ \"L\", \"a\" を底辺としたときの高さ \"h\" を求める。\n",
        "\n",
        "例: 4 3 90 =>   \n",
        "6.00000000  \n",
        "12.00000000  \n",
        "3.00000000  \n"
      ],
      "metadata": {
        "id": "pMeeTmvoeWNA"
      },
      "execution_count": null,
      "outputs": []
    },
    {
      "cell_type": "code",
      "metadata": {
        "colab": {
          "base_uri": "https://localhost:8080/"
        },
        "id": "QXxxdLhc03Wp",
        "outputId": "f3b9c3c5-11c5-4a16-f023-6dd918251978"
      },
      "source": [
        "%%writefile triangle01.cpp\n",
        "\n",
        "#include <cmath>\n",
        "#include <iomanip>\n",
        "#include <iostream>\n",
        "\n",
        "int main() {\n",
        "    int a, b, C;\n",
        "    double S, L, h, d;\n",
        "    std::cin >> a >> b >> C;\n",
        "\n",
        "    d = (acos(-1.0) * C) / 180.0;\n",
        "    S = a * b * sin(d) / 2.0;\n",
        "    L = a + b + sqrt(a * a + b * b - 2 * a * b * cos(d));\n",
        "    h = b * sin(d);\n",
        "\n",
        "    std::cout << std::fixed <<std::setprecision(8) << S << \"\\n\";\n",
        "    std::cout << std::fixed <<std::setprecision(8) << L << \"\\n\";\n",
        "    std::cout << std::fixed <<std::setprecision(8) << h << \"\\n\";\n",
        "\n",
        "\n",
        "    return 0;\n",
        "}\n"
      ],
      "execution_count": null,
      "outputs": [
        {
          "output_type": "stream",
          "text": [
            "Overwriting triangle01.cpp\n"
          ],
          "name": "stdout"
        }
      ]
    },
    {
      "cell_type": "code",
      "metadata": {
        "colab": {
          "base_uri": "https://localhost:8080/"
        },
        "id": "6xW8WDCF03sl",
        "outputId": "1805f2ca-b6b1-41dc-87df-83e237741ce3"
      },
      "source": [
        "!g++ triangle01.cpp -o triangle01; echo 4 3 90 |./triangle01"
      ],
      "execution_count": null,
      "outputs": [
        {
          "output_type": "stream",
          "text": [
            "6.00000000\n",
            "12.00000000\n",
            "3.00000000\n"
          ],
          "name": "stdout"
        }
      ]
    },
    {
      "cell_type": "code",
      "source": [
        "# 問題 ITP1_10_C: Standard Deviation\n",
        "n 人の学生の得点を$s_1, s_2 \\dots s_n$ としたときの、標準偏差を求める。\n",
        "\n",
        "分散 $\\alpha^2$ は次の式で求められる。\n",
        "$$\n",
        "\\alpha^2 = \\left( \\sum_{i=1}^n (s_i - m)^2\\right)/n\n",
        "$$\n",
        "\n",
        "ここで m は平均、$\\alpha$が標準偏差である。\n",
        "\n",
        "例: 5 70 80 100 90 20 3 80 80 80 0 =>  \n",
        "27.85677655  \n",
        "0.00000000  "
      ],
      "metadata": {
        "id": "WDreN0SVeXVw"
      },
      "execution_count": null,
      "outputs": []
    },
    {
      "cell_type": "code",
      "metadata": {
        "colab": {
          "base_uri": "https://localhost:8080/"
        },
        "id": "AGHplH9Q29dZ",
        "outputId": "c2b5fde0-31f1-4942-9576-03cdbcd04151"
      },
      "source": [
        "%%writefile standarddeviation.cpp\n",
        "\n",
        "#include <cmath>\n",
        "#include <iomanip>\n",
        "#include <iostream>\n",
        "\n",
        "int main() {\n",
        "    int n, A[1000];\n",
        "\n",
        "    while (1) {\n",
        "        std::cin >> n;\n",
        "        if (n == 0) break;\n",
        "\n",
        "        for (int i = 0; i < n; i++) std::cin >> A[i];\n",
        "        int sum = 0;\n",
        "        for (int i = 0; i < n; i++) sum += A[i];\n",
        "        double avg = 1.0*sum/n;\n",
        "        double dist = 0.0;\n",
        "        for (int i = 0; i < n; i++) {\n",
        "            dist += (avg - A[i]) * (avg - A[i]);\n",
        "        }\n",
        "\n",
        "        std::cout << std::fixed << std::setprecision(8) << sqrt(dist/n) << \"\\n\";\n",
        "\n",
        "    }\n",
        "    return 0;\n",
        "}\n"
      ],
      "execution_count": null,
      "outputs": [
        {
          "output_type": "stream",
          "text": [
            "Overwriting standarddeviation.cpp\n"
          ],
          "name": "stdout"
        }
      ]
    },
    {
      "cell_type": "code",
      "metadata": {
        "colab": {
          "base_uri": "https://localhost:8080/"
        },
        "id": "9CCdOA9r29Pr",
        "outputId": "28c89dd9-7434-4740-9503-3829a5696af3"
      },
      "source": [
        "!g++ standarddeviation.cpp -o standarddeviation; echo 5 70 80 100 90 20 3 80 80 80 0 |./standarddeviation"
      ],
      "execution_count": null,
      "outputs": [
        {
          "output_type": "stream",
          "text": [
            "27.85677655\n",
            "0.00000000\n"
          ],
          "name": "stdout"
        }
      ]
    },
    {
      "cell_type": "markdown",
      "metadata": {
        "id": "yBeatSvTQHp4"
      },
      "source": [
        "# いまここ"
      ]
    },
    {
      "cell_type": "code",
      "source": [
        "# 問題 ITP1_10_D: Distance II\n",
        "２つの n 次元ベクトル $x=\\{x_1,x_2, \\dots , x_n\\}$ と $y=\\{y_1,y_2, \\dots , y_n\\}$ の距離を計算する。\n",
        "\n",
        "ミンコフスキー距離(Minkowski's distance)は次の式で表される。\n",
        "\n",
        "$$\n",
        "D_{xy} = ( \\sum^n_{i=1}|x_i - y_i|^p )^{\\frac1p}\n",
        "$$\n",
        "\n",
        "$p=1$ のとき\n",
        "\n",
        "$$\n",
        "D_{xy} = |x_1 - y_1|+|x_2 - y_2|+ \\dots +|x_n - y_n|\n",
        "$$\n",
        "\n",
        "となり、マンハッタン距離と呼ばれる。\n",
        "\n",
        "$p=2$ のとき\n",
        "\n",
        "$$\n",
        "D_{xy} = \\sqrt {(|x_1 - y_1|)^2+(|x_2 - y_2|)^2+ \\dots +(|x_n - y_n|)^2}\n",
        "$$\n",
        "\n",
        "となり、これは一般的に使われるユークリッド距離になる。\n",
        "\n",
        "$p=\\infty$ のとき\n",
        "\n",
        "$$\n",
        "D_{xy} = max^n_{i=1}(|x_i - y_i|)\n",
        "$$\n",
        "\n",
        "となり、チェビシェフ距離と呼ばれる。\n",
        "\n",
        "p がそれぞれ 1、2、3、$\\infty$ のミンコフスキー距離を求める。\n",
        "\n",
        "例: 3 1 2 3 2 0 4 =>  \n",
        "4.000000  \n",
        "2.449490  \n",
        "2.154435  \n",
        "2.000000  \n",
        "\n",
        "\n"
      ],
      "metadata": {
        "id": "HwCRABjKhP9r"
      },
      "execution_count": null,
      "outputs": []
    },
    {
      "cell_type": "code",
      "metadata": {
        "id": "TZlVetaPl72q",
        "colab": {
          "base_uri": "https://localhost:8080/"
        },
        "outputId": "dae074bf-ef48-4c6d-f7c7-cdd2a1baa61a"
      },
      "source": [
        "%%writefile distanceminkowski.cpp\n",
        "#include <cmath>\n",
        "#include <iomanip>\n",
        "#include <iostream>\n",
        "\n",
        "int main() {\n",
        "    int n, x[100], y[100];\n",
        "    std::cin >> n;\n",
        "    for (int i = 0; i < n; i++) std::cin >> x[i];\n",
        "    for (int i = 0; i < n; i++) std::cin >> y[i];\n",
        "\n",
        "    double d[4];\n",
        "    for (int i = 0; i < 4; i++) d[i] = 0.0;\n",
        "\n",
        "    for (int p = 1; p <= 3; p++) {\n",
        "        for (int i = 0; i < n; i++) {\n",
        "            d[p] += pow(fabs(x[i] - y[i]), p);\n",
        "        }\n",
        "        d[p] = pow(d[p], 1.0 / p);\n",
        "    }\n",
        "\n",
        "    for (int i = 0; i < n; i++) {\n",
        "        d[0] = (d[0] < fabs(x[i] - y[i]) ? fabs(x[i] - y[i]) : d[0]);\n",
        "    }\n",
        "\n",
        "    std::cout << std::fixed << std::setprecision(8);\n",
        "\n",
        "    std::cout << d[1] << \"\\n\";\n",
        "    std::cout << d[2] << \"\\n\";\n",
        "    std::cout << d[3] << \"\\n\";\n",
        "    std::cout << d[0] << \"\\n\";\n",
        "\n",
        "    return 0;\n",
        "}\n"
      ],
      "execution_count": null,
      "outputs": [
        {
          "output_type": "stream",
          "text": [
            "Overwriting distanceminkowski.cpp\n"
          ],
          "name": "stdout"
        }
      ]
    },
    {
      "cell_type": "code",
      "metadata": {
        "id": "QAVXxB10l7pG",
        "colab": {
          "base_uri": "https://localhost:8080/"
        },
        "outputId": "62259f6f-1cca-42bc-e891-48b92c9b4db2"
      },
      "source": [
        "!g++ distanceminkowski.cpp -o distanceminkowski; echo 3 1 2 3 2 0 4 |./distanceminkowski"
      ],
      "execution_count": null,
      "outputs": [
        {
          "output_type": "stream",
          "text": [
            "4.00000000\n",
            "2.44948974\n",
            "2.15443469\n",
            "2.00000000\n"
          ],
          "name": "stdout"
        }
      ]
    },
    {
      "cell_type": "code",
      "source": [
        "# 問題 ITP1_11_A: Dice I\n",
        "サイコロを転がすシミュレーション。\n",
        "サイコロの各面には次のように1から6のラベルが割当てられている。\n"
      ],
      "metadata": {
        "id": "NoN0066LhR2i"
      },
      "execution_count": null,
      "outputs": []
    },
    {
      "cell_type": "code",
      "metadata": {
        "colab": {
          "base_uri": "https://localhost:8080/",
          "height": 67
        },
        "id": "73cp2OhUwZnG",
        "outputId": "842a384b-9e51-4504-d29f-6fb80836f5c2"
      },
      "source": [
        "%%html\n",
        "<span style=\"font-family: monospace\">.1..<br>4235<br>.6..</span>"
      ],
      "execution_count": null,
      "outputs": [
        {
          "output_type": "display_data",
          "data": {
            "text/html": [
              "<span style=\"font-family: monospace\">.1..<br>4235<br>.6..</span>"
            ],
            "text/plain": [
              "<IPython.core.display.HTML object>"
            ]
          },
          "metadata": {
            "tags": []
          }
        }
      ]
    },
    {
      "cell_type": "markdown",
      "metadata": {
        "id": "X76BSXyPwcO4"
      },
      "source": [
        "入力としてサイコロの各面のラベルに対応する整数と、転がす命令の列が与えられるので、サイコロの上面の整数を出力する。\n",
        "シミュレーションの初期状態は、上面が1、手前南S面が2、向かって右の東E面が3の位置でサイコロが置かれているものとする。\n",
        "\n",
        "入力される値は、6個の整数でそれぞれがサイコロのラベルに対応する。次にNSEWのような文字列で転がす方向が与えられる。命令が実行されたあとの上面の数値を出力する。\n",
        "\n",
        "例: 1 2 4 8 16 32 SE => 8  \n",
        "1 2 4 8 16 32 EESWN => 32  "
      ]
    },
    {
      "cell_type": "code",
      "metadata": {
        "id": "qh83zUHmp7o3",
        "colab": {
          "base_uri": "https://localhost:8080/"
        },
        "outputId": "9788297f-5e6e-48d1-dc39-0c7d1394fde3"
      },
      "source": [
        "%%writefile dice01.cpp\n",
        "#include <iostream>\n",
        "\n",
        "class Cube {\n",
        "   public:\n",
        "    int f[6];\n",
        "    Cube() {}\n",
        "    void roll_z() { roll(1, 2, 4, 3); }  //\n",
        "    void roll_y() { roll(0, 2, 5, 3); }  // to W\n",
        "    void roll_x() { roll(0, 1, 5, 4); }  // to N\n",
        "    void roll(int i, int j, int k, int l) {\n",
        "        int t = f[i];\n",
        "        f[i] = f[j];\n",
        "        f[j] = f[k];\n",
        "        f[k] = f[l];\n",
        "        f[l] = t;\n",
        "    }\n",
        "    void move(char ch) {\n",
        "        if (ch == 'E')\n",
        "            for (int i = 0; i < 3; i++) roll_y();\n",
        "        if (ch == 'W') roll_y();\n",
        "        if (ch == 'N') roll_x();\n",
        "        if (ch == 'S')\n",
        "            for (int i = 0; i < 3; i++) roll_x();\n",
        "    }\n",
        "};\n",
        "\n",
        "int main() {\n",
        "    Cube c;\n",
        "    std::string com;\n",
        "\n",
        "    for (int i = 0; i < 6; i++) std::cin >> c.f[i];\n",
        "    std::cin >> com;\n",
        "\n",
        "    for (int i = 0; i < com.size(); i++) c.move(com[i]);\n",
        "\n",
        "    std::cout << c.f[0] << \"\\n\";\n",
        "\n",
        "    return 0;\n",
        "}\n"
      ],
      "execution_count": null,
      "outputs": [
        {
          "output_type": "stream",
          "text": [
            "Overwriting dice01.cpp\n"
          ],
          "name": "stdout"
        }
      ]
    },
    {
      "cell_type": "code",
      "metadata": {
        "id": "oDRQoWWhp7c4",
        "colab": {
          "base_uri": "https://localhost:8080/"
        },
        "outputId": "e9e62ca6-b5c0-411b-9d19-7b4bfb671581"
      },
      "source": [
        "!g++ dice01.cpp -o dice01; echo 1 2 4 8 16 32 SE |./dice01\n",
        "!echo 1 2 4 8 16 32 EESWN |./dice01"
      ],
      "execution_count": null,
      "outputs": [
        {
          "output_type": "stream",
          "text": [
            "8\n",
            "32\n"
          ],
          "name": "stdout"
        }
      ]
    },
    {
      "cell_type": "code",
      "source": [
        "# 問題 ITP1_11_B: Dice II\n",
        "サイコロをの上面と前面の整数が質問として与えられるので、右側の面の整数を答える。\n",
        "\n",
        "入力の2行目は設問の数。\n",
        "\n",
        "例:  \n",
        "1 2 3 4 5 6  \n",
        "3  \n",
        "6 5  \n",
        "1 3  \n",
        "3 2  \n",
        "=>  \n",
        "3  \n",
        "5  \n",
        "6  \n",
        "\n",
        "\n"
      ],
      "metadata": {
        "id": "0X6q4Qh-eZF4"
      },
      "execution_count": null,
      "outputs": []
    },
    {
      "cell_type": "code",
      "metadata": {
        "id": "TPuRW7fE5qUt",
        "colab": {
          "base_uri": "https://localhost:8080/"
        },
        "outputId": "8d7279a6-73a5-4ffc-e115-253ba706268f"
      },
      "source": [
        "%%writefile dice02.cpp\n",
        "#include <iostream>\n",
        "\n",
        "class Cube {\n",
        "   public:\n",
        "    int f[6];\n",
        "    Cube() {}\n",
        "    void roll_z() { roll(1, 2, 4, 3); }  //\n",
        "    void roll_y() { roll(0, 2, 5, 3); }  // to W\n",
        "    void roll_x() { roll(0, 1, 5, 4); }  // to N\n",
        "    void roll(int i, int j, int k, int l) {\n",
        "        int t = f[i];\n",
        "        f[i] = f[j];\n",
        "        f[j] = f[k];\n",
        "        f[k] = f[l];\n",
        "        f[l] = t;\n",
        "    }\n",
        "    void move(char ch) {\n",
        "        if (ch == 'E')\n",
        "            for (int i = 0; i < 3; i++) roll_y();\n",
        "        if (ch == 'W') roll_y();\n",
        "        if (ch == 'N') roll_x();\n",
        "        if (ch == 'S')\n",
        "            for (int i = 0; i < 3; i++) roll_x();\n",
        "    }\n",
        "};\n",
        "\n",
        "int getRight(Cube c1, int f1, int f2) {\n",
        "    for (int i = 0; i, 6; i++) {\n",
        "        for (int j = 0; j < 4; j++) {\n",
        "            if (c1.f[0] == f1 && c1.f[1] == f2) return c1.f[2];\n",
        "            c1.roll_z();\n",
        "        }\n",
        "        if (i % 2 == 0) c1.roll_y();\n",
        "    }\n",
        "    return -1;\n",
        "}\n",
        "\n",
        "int main() {\n",
        "    Cube c;\n",
        "    int f1, f2;\n",
        "\n",
        "    for (int i = 0; i < 6; i++) std::cin >> c.f[i];\n",
        "    int q;\n",
        "    std::cin >> q;\n",
        "\n",
        "    for (int i = 0; i < q; i++) {\n",
        "        std::cin >> f1 >> f2;\n",
        "        std::cout << getRight(c, f1, f2) << \"\\n\";\n",
        "    }\n",
        "\n",
        "    return 0;\n",
        "}\n",
        "\n"
      ],
      "execution_count": null,
      "outputs": [
        {
          "output_type": "stream",
          "text": [
            "Writing dice02.cpp\n"
          ],
          "name": "stdout"
        }
      ]
    },
    {
      "cell_type": "code",
      "metadata": {
        "id": "bZzHu26I5rBs",
        "colab": {
          "base_uri": "https://localhost:8080/"
        },
        "outputId": "c538014d-cf92-4e3e-a5c0-b5c52af9b481"
      },
      "source": [
        "!g++ dice02.cpp -o dice02; echo 1 2 3 4 5 6 3 6 5 1 3 3 2 |./dice02"
      ],
      "execution_count": null,
      "outputs": [
        {
          "output_type": "stream",
          "text": [
            "3\n",
            "5\n",
            "6\n"
          ],
          "name": "stdout"
        }
      ]
    },
    {
      "cell_type": "code",
      "source": [
        "# 問題 ITP1_11_C: Dice III\n",
        "入力された整数から２つのサイコロをつくり、これらが同一のものか判定する。サイコロを回転させ、２つのサイコロのそれぞれの６方向から見た整数が全て一致するとき、同一のサイコロとみなす。\n",
        "\n",
        "例:  \n",
        "1 2 3 4 5 6  \n",
        "6 2 4 3 5 1  \n",
        "=>   \n",
        "Yes  "
      ],
      "metadata": {
        "id": "Z7ub_XCLeZzn"
      },
      "execution_count": null,
      "outputs": []
    },
    {
      "cell_type": "code",
      "metadata": {
        "id": "jJkzuhlb8hbL",
        "colab": {
          "base_uri": "https://localhost:8080/"
        },
        "outputId": "05f6fa7d-2e9d-4b2f-a521-cb529a15e4f5"
      },
      "source": [
        "%%writefile dice03.cpp\n",
        "#include <iostream>\n",
        "\n",
        "class Cube {\n",
        "   public:\n",
        "    int f[6];\n",
        "    Cube() {}\n",
        "    void roll_z() { roll(1, 2, 4, 3); }  //\n",
        "    void roll_y() { roll(0, 2, 5, 3); }  // to W\n",
        "    void roll_x() { roll(0, 1, 5, 4); }  // to N\n",
        "    void roll(int i, int j, int k, int l) {\n",
        "        int t = f[i];\n",
        "        f[i] = f[j];\n",
        "        f[j] = f[k];\n",
        "        f[k] = f[l];\n",
        "        f[l] = t;\n",
        "    }\n",
        "};\n",
        "\n",
        "bool eq(Cube c1, Cube c2) {\n",
        "    for (int i = 0; i < 6; i++)\n",
        "        if (c1.f[i] != c2.f[i]) return false;\n",
        "    return true;\n",
        "}\n",
        "\n",
        "bool equal(Cube c1, Cube c2) {\n",
        "    for (int i = 0; i < 6; i++) {\n",
        "        for (int i = 0; i < 4; i++) {\n",
        "            if (eq(c1, c2)) return true;\n",
        "            c1.roll_z();\n",
        "        }\n",
        "        if (i % 2 == 0)\n",
        "            c1.roll_y();\n",
        "        else\n",
        "            c1.roll_x();\n",
        "    }\n",
        "\n",
        "    return false;\n",
        "}\n",
        "\n",
        "int main() {\n",
        "    Cube c1, c2;\n",
        "\n",
        "    for (int i = 0; i < 6; i++) std::cin >> c1.f[i];\n",
        "    for (int i = 0; i < 6; i++) std::cin >> c2.f[i];\n",
        "\n",
        "    if (equal(c1, c2))\n",
        "        std::cout << \"Yes\"\n",
        "                  << \"\\n\";\n",
        "    else\n",
        "        std::cout << \"No\"\n",
        "                  << \"\\n\";\n",
        "\n",
        "    return 0;\n",
        "}\n",
        "\n"
      ],
      "execution_count": null,
      "outputs": [
        {
          "output_type": "stream",
          "text": [
            "Overwriting dice03.cpp\n"
          ],
          "name": "stdout"
        }
      ]
    },
    {
      "cell_type": "code",
      "metadata": {
        "id": "dMqzntg68hPO",
        "colab": {
          "base_uri": "https://localhost:8080/"
        },
        "outputId": "d50e18bd-f868-4ec3-ee62-641c290771e2"
      },
      "source": [
        "!g++ dice03.cpp -o dice03; echo 1 2 3 4 5 6 6 2 4 3 5 1 |./dice03"
      ],
      "execution_count": null,
      "outputs": [
        {
          "output_type": "stream",
          "text": [
            "Yes\n"
          ],
          "name": "stdout"
        }
      ]
    },
    {
      "cell_type": "code",
      "source": [
        "# 問題 ITP1_11_D: Dice IV\n",
        "入力された整数から n 個のサイコロをつくり、これらが同一のものか判定する。サイコロを回転させ、２つのサイコロのそれぞれの６方向から見た整数が全て一致するとき、同一のサイコロとみなす。\n",
        "\n",
        "例:  \n",
        "3  \n",
        "1 2 3 4 5 6  \n",
        "6 2 4 3 5 1  \n",
        "6 5 4 3 2 1  \n",
        "=>   \n",
        "No  \n",
        "  \n",
        "3  \n",
        "1 2 3 4 5 6  \n",
        "6 5 4 3 2 1  \n",
        "5 4 3 2 1 6  \n",
        "=>   \n",
        "Yes  \n"
      ],
      "metadata": {
        "id": "vsEVM-knhMRz"
      },
      "execution_count": null,
      "outputs": []
    },
    {
      "cell_type": "code",
      "metadata": {
        "id": "l_T1uiAdMRGH",
        "colab": {
          "base_uri": "https://localhost:8080/"
        },
        "outputId": "5591afc3-dd8c-48bb-9ed3-16c43d2482b9"
      },
      "source": [
        "%%writefile dice04.cpp\n",
        "#include <iostream>\n",
        "\n",
        "class Cube {\n",
        "   public:\n",
        "    int f[6];\n",
        "    Cube() {}\n",
        "    void roll_z() { roll(1, 2, 4, 3); }  //\n",
        "    void roll_y() { roll(0, 2, 5, 3); }  // to W\n",
        "    void roll_x() { roll(0, 1, 5, 4); }  // to N\n",
        "    void roll(int i, int j, int k, int l) {\n",
        "        int t = f[i];\n",
        "        f[i] = f[j];\n",
        "        f[j] = f[k];\n",
        "        f[k] = f[l];\n",
        "        f[l] = t;\n",
        "    }\n",
        "};\n",
        "\n",
        "bool eq(Cube c1, Cube c2) {\n",
        "    for (int i = 0; i < 6; i++)\n",
        "        if (c1.f[i] != c2.f[i]) return false;\n",
        "    return true;\n",
        "}\n",
        "\n",
        "bool equal(Cube c1, Cube c2) {\n",
        "    for (int i = 0; i < 6; i++) {\n",
        "        for (int i = 0; i < 4; i++) {\n",
        "            if (eq(c1, c2)) return true;\n",
        "            c1.roll_z();\n",
        "        }\n",
        "        if (i % 2 == 0)\n",
        "            c1.roll_y();\n",
        "        else\n",
        "            c1.roll_x();\n",
        "    }\n",
        "\n",
        "    return false;\n",
        "}\n",
        "\n",
        "Cube C[100];\n",
        "int n;\n",
        "\n",
        "bool check() {\n",
        "    for (int i = 0; i < n - 1; i++)\n",
        "        for (int j = i + 1; j < n; j++)\n",
        "            if (equal(C[i], C[j])) return false;\n",
        "    return true;\n",
        "}\n",
        "\n",
        "int main() {\n",
        "    std::cin >> n;\n",
        "\n",
        "    for (int j = 0; j < n; j++)\n",
        "        for (int i = 0; i < 6; i++) std::cin >> C[j].f[i];\n",
        "\n",
        "    if (check())\n",
        "        std::cout << \"Yes\"\n",
        "                  << \"\\n\";\n",
        "    else\n",
        "        std::cout << \"No\"\n",
        "                  << \"\\n\";\n",
        "\n",
        "    return 0;\n",
        "}\n"
      ],
      "execution_count": null,
      "outputs": [
        {
          "output_type": "stream",
          "text": [
            "Writing dice04.cpp\n"
          ],
          "name": "stdout"
        }
      ]
    },
    {
      "cell_type": "code",
      "metadata": {
        "id": "0M0oiTK4MRiU",
        "colab": {
          "base_uri": "https://localhost:8080/"
        },
        "outputId": "6f848c21-fb37-4a35-b9e8-617ba9d20dab"
      },
      "source": [
        "!g++ dice04.cpp -o dice04; echo 3 1 2 3 4 5 6 6 2 4 3 5 1 6 5 4 3 2 1 |./dice04\n",
        "!echo 3 1 2 3 4 5 6 6 5 4 3 2 1 5 4 3 2 1 6 |./dice04"
      ],
      "execution_count": null,
      "outputs": [
        {
          "output_type": "stream",
          "text": [
            "No\n",
            "Yes\n"
          ],
          "name": "stdout"
        }
      ]
    },
    {
      "cell_type": "code",
      "source": [
        "# ALDS1 Algorithms and Data Structures I アルゴリズムとデータ構造入門\n"
      ],
      "metadata": {
        "id": "M5jGhwlZedZz"
      },
      "execution_count": null,
      "outputs": []
    },
    {
      "cell_type": "code",
      "source": [
        "# 問題 ALDS1_1_A: Insertion Sort\n",
        "挿入ソートは次のようなアルゴリズムになる。\n",
        "\n",
        "1. insertionSort(A, N) // N個の要素を含む0-オリジンの配列A\n",
        "2.   for i が 1 から N-1 まで\n",
        "3.     v = A[i]\n",
        "4.     j = i - 1\n",
        "5.     while j >= 0 かつ A[j] > v\n",
        "6.       A[j+1] = A[j]\n",
        "7.       j--\n",
        "8.     A[j+1] = v\n",
        "\n",
        "例: 6 5 2 4 6 1 3 =>   \n",
        "5 2 4 6 1 3  \n",
        "2 5 4 6 1 3  \n",
        "2 4 5 6 1 3  \n",
        "2 4 5 6 1 3  \n",
        "1 2 4 5 6 3  \n",
        "1 2 3 4 5 6  \n"
      ],
      "metadata": {
        "id": "dgRpWMNM5f5B"
      },
      "execution_count": null,
      "outputs": []
    },
    {
      "cell_type": "code",
      "metadata": {
        "id": "wWIeY-3E7WG7",
        "colab": {
          "base_uri": "https://localhost:8080/"
        },
        "outputId": "9a4f719f-3d91-494d-9c39-0e79946d2d32"
      },
      "source": [
        "%%writefile insertionsort.cpp\n",
        "#include <iostream>\n",
        "#include <vector>\n",
        "\n",
        "int main() {\n",
        "    int N;\n",
        "    std::cin >> N;\n",
        "    std::vector<int> A(N);\n",
        "    for (int i = 0; i < N; i++) std::cin >> A.at(i);\n",
        "\n",
        "    // 挿入ソート\n",
        "    // i : 未ソートの部分列の先頭を示すループ変数\n",
        "    // v : A.at(i) の値を一時的に保存しておくための変数\n",
        "    // j : ソート済み部分列から v を挿入するための位置を探すループ変数\n",
        "    for (int i = 1; i < N; i++) {\n",
        "        int v = A.at(i);\n",
        "        int j = i - 1;\n",
        "        while (j >= 0 && A.at(j) > v) {\n",
        "            A.at(j + 1) = A.at(j);\n",
        "            j--;\n",
        "        }\n",
        "        A.at(j + 1) = v;\n",
        "\n",
        "        // 出力\n",
        "        for (int k = 0; k < N - 1; k++) std::cout << A.at(k) << \" \";\n",
        "        std::cout << A.at(N - 1) << \"\\n\";\n",
        "    }\n",
        "}"
      ],
      "execution_count": null,
      "outputs": [
        {
          "output_type": "stream",
          "text": [
            "Overwriting insertionsort.cpp\n"
          ],
          "name": "stdout"
        }
      ]
    },
    {
      "cell_type": "code",
      "metadata": {
        "id": "8MteZngA7V7u",
        "colab": {
          "base_uri": "https://localhost:8080/"
        },
        "outputId": "1f25b10c-c3de-4502-cf5c-3d27cee29796"
      },
      "source": [
        "!g++ insertionsort.cpp -o insertionsort; echo 6 5 2 4 6 1 3 |./insertionsort"
      ],
      "execution_count": null,
      "outputs": [
        {
          "output_type": "stream",
          "text": [
            "2 5 4 6 1 3\n",
            "2 4 5 6 1 3\n",
            "2 4 5 6 1 3\n",
            "1 2 4 5 6 3\n",
            "1 2 3 4 5 6\n"
          ],
          "name": "stdout"
        }
      ]
    },
    {
      "cell_type": "markdown",
      "metadata": {
        "id": "ypb4ONQvTs5D"
      },
      "source": [
        "# EOF\n"
      ]
    }
  ]
}