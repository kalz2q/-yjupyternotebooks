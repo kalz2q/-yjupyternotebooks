{
  "nbformat": 4,
  "nbformat_minor": 0,
  "metadata": {
    "colab": {
      "name": "ts_learntypescript.ipynb",
      "provenance": [],
      "toc_visible": true,
      "authorship_tag": "ABX9TyOHTfvQJ50YEcdbIQAosTV9",
      "include_colab_link": true
    },
    "kernelspec": {
      "name": "python3",
      "display_name": "Python 3"
    },
    "language_info": {
      "name": "python"
    }
  },
  "cells": [
    {
      "cell_type": "markdown",
      "metadata": {
        "id": "view-in-github",
        "colab_type": "text"
      },
      "source": [
        "<a href=\"https://colab.research.google.com/github/kalz2q/mycolabnotebooks/blob/master/ts_learntypescript.ipynb\" target=\"_parent\"><img src=\"https://colab.research.google.com/assets/colab-badge.svg\" alt=\"Open In Colab\"/></a>"
      ]
    },
    {
      "cell_type": "markdown",
      "source": [
        "# メモ\n",
        "javascript を学んでいて行き詰まってしまったので、typescript 経由で学べないか。 google colaboratory を利用できないか。 ということでこのファイルを作った。\n",
        "\n",
        "leartypescript.ipynb をコピペした。消すかもしれない。\n",
        "\n",
        "qiita AtCoder Beginners Selection 解答例【TypeScript】\n",
        "\n",
        "mdm web docs javascript\n",
        "\n",
        "https://www.typescripttutorial.net/"
      ],
      "metadata": {
        "id": "BYA8ETFvWaIx"
      }
    },
    {
      "cell_type": "code",
      "source": [
        "# typescript をインストールする。4.6.4 が入る。node は 14.16.0 が既に入っている。\n",
        "# 標準有力からの入力に 'fs' が必要なので @types/node とやらもインストール\n",
        "%%capture\n",
        "!npm install -g typescript\n",
        "!npm install --save-dev @types/node"
      ],
      "metadata": {
        "id": "cvDmmwL1W8Wl"
      },
      "execution_count": 117,
      "outputs": []
    },
    {
      "cell_type": "code",
      "source": [
        "# とりあえず入出力\n",
        "%%writefile temp.ts\n",
        "import * as fs from \"fs\";\n",
        "const inputs = fs.readFileSync(\"/dev/stdin\", \"utf8\");\n",
        "let line = inputs.split('\\n');\n",
        "let name = line[0];\n",
        "console.log(\"hello, \" + name)"
      ],
      "metadata": {
        "id": "Sos8UKrxYG7d",
        "outputId": "1ef38da8-3c93-4d67-85db-f2e28e9e32aa",
        "colab": {
          "base_uri": "https://localhost:8080/"
        }
      },
      "execution_count": null,
      "outputs": [
        {
          "output_type": "stream",
          "name": "stdout",
          "text": [
            "Overwriting temp.ts\n"
          ]
        }
      ]
    },
    {
      "cell_type": "code",
      "source": [
        "!tsc temp.ts; echo 女神さま!!!! | node temp.js"
      ],
      "metadata": {
        "id": "KMQ-v2w3YnRx",
        "outputId": "bc5b5e8e-a102-4f26-8f28-1eae53ba296f",
        "colab": {
          "base_uri": "https://localhost:8080/"
        }
      },
      "execution_count": null,
      "outputs": [
        {
          "output_type": "stream",
          "name": "stdout",
          "text": [
            "hello, 女神さま!!!!\n"
          ]
        }
      ]
    },
    {
      "cell_type": "code",
      "source": [
        "# 問題 A - Six Characters\n",
        "%%writefile temp.ts\n",
        "import * as fs from \"fs\";\n",
        "const inputs = fs.readFileSync(\"/dev/stdin\", \"utf8\");\n",
        "let input = inputs.split('\\n')[0];\n",
        "console.log(input.repeat(6).slice(0,6));"
      ],
      "metadata": {
        "id": "GT5a8voYofte",
        "outputId": "8141e0e5-9c8c-4060-9629-03e64e6ab395",
        "colab": {
          "base_uri": "https://localhost:8080/"
        }
      },
      "execution_count": null,
      "outputs": [
        {
          "output_type": "stream",
          "name": "stdout",
          "text": [
            "Overwriting temp.ts\n"
          ]
        }
      ]
    },
    {
      "cell_type": "code",
      "source": [
        "!tsc temp.ts; echo abc | node temp.js #=> abcabc\n",
        "!tsc temp.ts; echo zz | node temp.js #=> zzzzzz"
      ],
      "metadata": {
        "id": "9ouy2h5Bofpk",
        "outputId": "f1afb97f-2a29-4b11-866e-e00858ab3f40",
        "colab": {
          "base_uri": "https://localhost:8080/"
        }
      },
      "execution_count": null,
      "outputs": [
        {
          "output_type": "stream",
          "name": "stdout",
          "text": [
            "abcabc\n",
            "zzzzzz\n"
          ]
        }
      ]
    },
    {
      "cell_type": "code",
      "source": [
        "# 四則演算\n",
        "# 加算減算乗算除算は普通。10/3 も普通に float になる。\n",
        "# python の `//` に当たるのは `Math.floor()` かな。\n",
        "# 冪乗は `**` で Python と同じ!!!!\n",
        "%%writefile temp.ts\n",
        "console.log(10 / 3); //=> 3.3333333333333335\n",
        "console.log(10 % 3); //=> 1\n",
        "console.log(Math.floor(-10 / 3)); //=> -4\n",
        "console.log(\"晴れ\" + \"雨\"); //=> 晴れ雨\n",
        "console.log(\"晴れ\" == \"晴れ\"); //=> true\n",
        "console.log(10 ** 3); //=> 1000\n",
        "console.log(Math.pow(10, 3)); //=> 1000"
      ],
      "metadata": {
        "id": "9Uy5HzVoSCoG",
        "outputId": "44fddd23-c71e-4180-b408-eef9c7da1d49",
        "colab": {
          "base_uri": "https://localhost:8080/"
        }
      },
      "execution_count": null,
      "outputs": [
        {
          "output_type": "stream",
          "name": "stdout",
          "text": [
            "Overwriting temp.ts\n"
          ]
        }
      ]
    },
    {
      "cell_type": "code",
      "source": [
        "!tsc temp.ts; echo | node temp.js "
      ],
      "metadata": {
        "id": "17QQAfLEzodJ",
        "outputId": "ec312bc9-d54f-486d-9d75-b7f793471c6d",
        "colab": {
          "base_uri": "https://localhost:8080/"
        }
      },
      "execution_count": null,
      "outputs": [
        {
          "output_type": "stream",
          "name": "stdout",
          "text": [
            "\u001b[33m3.3333333333333335\u001b[39m\n",
            "\u001b[33m1\u001b[39m\n",
            "\u001b[33m-4\u001b[39m\n",
            "晴れ雨\n",
            "\u001b[33mtrue\u001b[39m\n",
            "\u001b[33m1000\u001b[39m\n",
            "\u001b[33m1000\u001b[39m\n"
          ]
        }
      ]
    },
    {
      "cell_type": "code",
      "source": [
        "# if (){} else {}\n",
        "%%writefile temp.ts\n",
        "function checkGuess(answer, guess) {\n",
        "    if (answer == guess) {\n",
        "        return \"hit!!!!\";\n",
        "    } else {\n",
        "        return \"wrong!!!!\";\n",
        "    }\n",
        "};\n",
        "console.log(checkGuess(3,4));"
      ],
      "metadata": {
        "id": "zhbUQ5NlKE66"
      },
      "execution_count": null,
      "outputs": []
    },
    {
      "cell_type": "code",
      "source": [
        "!tsc temp.ts; echo | node temp.js "
      ],
      "metadata": {
        "id": "rpCjE09i1bJg",
        "outputId": "2e2d67da-6eee-4c56-aaa5-997b7a5849f9",
        "colab": {
          "base_uri": "https://localhost:8080/"
        }
      },
      "execution_count": null,
      "outputs": [
        {
          "output_type": "stream",
          "name": "stdout",
          "text": [
            "wrong!!!!\n"
          ]
        }
      ]
    },
    {
      "cell_type": "code",
      "metadata": {
        "id": "Q-MXCqgvHntd",
        "colab": {
          "base_uri": "https://localhost:8080/"
        },
        "outputId": "40781da7-0404-444a-cb9e-e68a8e42a8e1"
      },
      "source": [
        "# 配列 array に型が混在できる\n",
        "%%writefile temp.ts\n",
        "let myNameArray = ['Chris', 'Bob', 'Jim', 37];\n",
        "console.log(myNameArray[0]);\n",
        "console.log(myNameArray[3]);"
      ],
      "execution_count": null,
      "outputs": [
        {
          "output_type": "stream",
          "name": "stdout",
          "text": [
            "Overwriting temp.ts\n"
          ]
        }
      ]
    },
    {
      "cell_type": "code",
      "source": [
        "!tsc temp.ts; echo | node temp.js "
      ],
      "metadata": {
        "id": "A0wTpmAp3iUb",
        "outputId": "80eeebe7-4dfd-41c7-e046-cba5b81b24b1",
        "colab": {
          "base_uri": "https://localhost:8080/"
        }
      },
      "execution_count": null,
      "outputs": [
        {
          "output_type": "stream",
          "name": "stdout",
          "text": [
            "Chris\n",
            "\u001b[33m37\u001b[39m\n"
          ]
        }
      ]
    },
    {
      "cell_type": "code",
      "metadata": {
        "id": "lkJakMjHJlfu",
        "colab": {
          "base_uri": "https://localhost:8080/"
        },
        "outputId": "cfdeabc1-df60-40aa-e2c9-6cf0883147ea"
      },
      "source": [
        "%%writefile temp.ts\n",
        "const months = ['Jan', 'March', 'April', 'June'];\n",
        "months.splice(1, 0, 'Feb'); // inserts at index 1\n",
        "console.log(months); // expected output: Array [\"Jan\", \"Feb\", \"March\", \"April\", \"June\"]\n",
        "months.splice(4, 1, 'May'); // replaces 1 element at index 4\n",
        "console.log(months); // expected output: Array [\"Jan\", \"Feb\", \"March\", \"April\", \"May\"]"
      ],
      "execution_count": null,
      "outputs": [
        {
          "output_type": "stream",
          "name": "stdout",
          "text": [
            "Overwriting temp.ts\n"
          ]
        }
      ]
    },
    {
      "cell_type": "code",
      "source": [
        "!tsc temp.ts; echo | node temp.js "
      ],
      "metadata": {
        "id": "xfHR11pD3zJN",
        "outputId": "e19a5fe4-5c4f-4e09-856f-ec214c272b42",
        "colab": {
          "base_uri": "https://localhost:8080/"
        }
      },
      "execution_count": null,
      "outputs": [
        {
          "output_type": "stream",
          "name": "stdout",
          "text": [
            "[ \u001b[32m'Jan'\u001b[39m, \u001b[32m'Feb'\u001b[39m, \u001b[32m'March'\u001b[39m, \u001b[32m'April'\u001b[39m, \u001b[32m'June'\u001b[39m ]\n",
            "[ \u001b[32m'Jan'\u001b[39m, \u001b[32m'Feb'\u001b[39m, \u001b[32m'March'\u001b[39m, \u001b[32m'April'\u001b[39m, \u001b[32m'May'\u001b[39m ]\n"
          ]
        }
      ]
    },
    {
      "cell_type": "code",
      "metadata": {
        "id": "Gh_XIzVG-I3i",
        "colab": {
          "base_uri": "https://localhost:8080/"
        },
        "outputId": "65856680-4c03-4e72-be4e-0447a216edeb"
      },
      "source": [
        "# 多重配列\n",
        "%%writefile temp.ts\n",
        "let x = Array(3);\n",
        "for (let i = 0; i < x.length; i++) x[i] =  Array(2);\n",
        "for (let i = 0; i < x.length; i++) for (let j= 0; j < (x[i]).length; j++) x[i][j] = 0\n",
        "x.splice(1,0,\"error!!!\");\n",
        "console.log(x);"
      ],
      "execution_count": null,
      "outputs": [
        {
          "output_type": "stream",
          "name": "stdout",
          "text": [
            "Overwriting temp.ts\n"
          ]
        }
      ]
    },
    {
      "cell_type": "code",
      "source": [
        "!tsc temp.ts; echo | node temp.js "
      ],
      "metadata": {
        "id": "goBAmBC44WWB",
        "outputId": "1e951887-fce9-4c72-ebd1-d11ca2b99108",
        "colab": {
          "base_uri": "https://localhost:8080/"
        }
      },
      "execution_count": null,
      "outputs": [
        {
          "output_type": "stream",
          "name": "stdout",
          "text": [
            "[ [ \u001b[33m0\u001b[39m, \u001b[33m0\u001b[39m ], \u001b[32m'error!!!'\u001b[39m, [ \u001b[33m0\u001b[39m, \u001b[33m0\u001b[39m ], [ \u001b[33m0\u001b[39m, \u001b[33m0\u001b[39m ] ]\n"
          ]
        }
      ]
    },
    {
      "cell_type": "code",
      "metadata": {
        "id": "ju8-mzQDAOaw",
        "colab": {
          "base_uri": "https://localhost:8080/"
        },
        "outputId": "6a0c2c95-0f79-4534-99e4-d1b88294e2df"
      },
      "source": [
        "# map 多重配列\n",
        "%%writefile temp.ts\n",
        "let a = Array(3).fill(0).map(x => Array(2).fill(0)) \n",
        "console.log(a)"
      ],
      "execution_count": null,
      "outputs": [
        {
          "output_type": "stream",
          "name": "stdout",
          "text": [
            "Overwriting temp.ts\n"
          ]
        }
      ]
    },
    {
      "cell_type": "code",
      "source": [
        "!tsc temp.ts; echo | node temp.js "
      ],
      "metadata": {
        "id": "2v3F4l4T6dHF",
        "outputId": "0601750f-7f30-4e46-ae29-987f936181e1",
        "colab": {
          "base_uri": "https://localhost:8080/"
        }
      },
      "execution_count": null,
      "outputs": [
        {
          "output_type": "stream",
          "name": "stdout",
          "text": [
            "[ [ \u001b[33m0\u001b[39m, \u001b[33m0\u001b[39m ], [ \u001b[33m0\u001b[39m, \u001b[33m0\u001b[39m ], [ \u001b[33m0\u001b[39m, \u001b[33m0\u001b[39m ] ]\n"
          ]
        }
      ]
    },
    {
      "cell_type": "code",
      "source": [
        "# オブジェクト 連想配列のこと\n",
        "# let dog = { name : 'ポチ', breed : 'ダルメシアン' };\n",
        "# `typeof()` というので型を調べられるらしいのでホントにオブジェクトというのか確認する。\n",
        "%%writefile temp.ts\n",
        "let myNameArray = ['Chris', 'Bob', 'Jim', 37];\n",
        "let myNumberArray = [10, 15, 40];\n",
        "let myAge = myNameArray[3];\n",
        "let dog = { name: 'ポチ', breed: 'ダルメシアン' };\n",
        "console.log(typeof (myAge)); //=> number\n",
        "console.log(typeof (myNameArray)); //=> object\n",
        "console.log(typeof (dog)); //=> object"
      ],
      "metadata": {
        "id": "qaGaLLw7IXG6",
        "outputId": "027096e8-779f-4c85-b5bd-5800432b8661",
        "colab": {
          "base_uri": "https://localhost:8080/"
        }
      },
      "execution_count": null,
      "outputs": [
        {
          "output_type": "stream",
          "name": "stdout",
          "text": [
            "Overwriting temp.ts\n"
          ]
        }
      ]
    },
    {
      "cell_type": "code",
      "source": [
        "!tsc temp.ts; echo | node temp.js "
      ],
      "metadata": {
        "id": "baDa8cKD7kb1",
        "outputId": "4cd340c4-75b2-4e51-f513-36a871e2a242",
        "colab": {
          "base_uri": "https://localhost:8080/"
        }
      },
      "execution_count": null,
      "outputs": [
        {
          "output_type": "stream",
          "name": "stdout",
          "text": [
            "number\n",
            "object\n",
            "object\n"
          ]
        }
      ]
    },
    {
      "cell_type": "code",
      "source": [
        "# インクリメント・デクリメント\n",
        "%%writefile temp.ts\n",
        "let num = 3\n",
        "\n",
        "console.log(num); //=> 3\n",
        "console.log(num++); //=> 3\n",
        "console.log(num--); //=> 4\n",
        "console.log(num); //=> 3\n",
        "console.log(--num); //=> 2\n",
        "console.log(num); //=> 2"
      ],
      "metadata": {
        "id": "uwK9lmu8dKv_",
        "outputId": "74b71753-3ed1-4726-ca19-f7dfc08db5d2",
        "colab": {
          "base_uri": "https://localhost:8080/"
        }
      },
      "execution_count": null,
      "outputs": [
        {
          "output_type": "stream",
          "name": "stdout",
          "text": [
            "Overwriting temp.ts\n"
          ]
        }
      ]
    },
    {
      "cell_type": "code",
      "source": [
        "!tsc temp.ts; echo | node temp.js "
      ],
      "metadata": {
        "id": "f4Hji-Yt8TYt",
        "outputId": "0167d7c7-e807-4be0-c60a-f3da955c9310",
        "colab": {
          "base_uri": "https://localhost:8080/"
        }
      },
      "execution_count": null,
      "outputs": [
        {
          "output_type": "stream",
          "name": "stdout",
          "text": [
            "\u001b[33m3\u001b[39m\n",
            "\u001b[33m3\u001b[39m\n",
            "\u001b[33m4\u001b[39m\n",
            "\u001b[33m3\u001b[39m\n",
            "\u001b[33m2\u001b[39m\n",
            "\u001b[33m2\u001b[39m\n"
          ]
        }
      ]
    },
    {
      "cell_type": "code",
      "source": [
        "# 文字列、数値変換\n",
        "# `Number()`、`String()`、`toString()`とか。\n",
        "%%writefile temp.ts\n",
        "import * as fs from \"fs\";\n",
        "const inputs = fs.readFileSync(\"/dev/stdin\", \"utf8\");\n",
        "let line = inputs.split('\\n');\n",
        "let number = Number(line[0]);\n",
        "console.log(number ** 2) //=> 49"
      ],
      "metadata": {
        "id": "poUWlVLIfxNt",
        "outputId": "9e1540a4-212a-4294-d37a-9a17f9f14c17",
        "colab": {
          "base_uri": "https://localhost:8080/"
        }
      },
      "execution_count": null,
      "outputs": [
        {
          "output_type": "stream",
          "name": "stdout",
          "text": [
            "Overwriting temp.ts\n"
          ]
        }
      ]
    },
    {
      "cell_type": "code",
      "source": [
        "!tsc temp.ts; echo 7 | node temp.js "
      ],
      "metadata": {
        "id": "yjT5sG7v_7ot",
        "outputId": "9e1c7d4e-331b-46d4-95fa-3118c72108a2",
        "colab": {
          "base_uri": "https://localhost:8080/"
        }
      },
      "execution_count": null,
      "outputs": [
        {
          "output_type": "stream",
          "name": "stdout",
          "text": [
            "\u001b[33m49\u001b[39m\n"
          ]
        }
      ]
    },
    {
      "cell_type": "code",
      "source": [
        "# 文字列の長さは length プロパティ\n",
        "%%writefile temp.ts\n",
        "import * as fs from \"fs\";\n",
        "const inputs = fs.readFileSync(\"/dev/stdin\", \"utf8\");\n",
        "let line = inputs.split('\\n');\n",
        "let str = line[0];\n",
        "console.log(\"長さは \" + str.length) \n",
        "console.log(\"最後の文字は \" + str[str.length - 1]) // str[-1] は使えない\n",
        "console.log(\"z の位置は \" + str.indexOf(\"z\")) // ない時に -1 になる。と言うことはそのままでは真偽値には使えない"
      ],
      "metadata": {
        "id": "HY9vGBSlTX2V",
        "outputId": "e594240b-3556-4dc0-8ae8-bdfe38c44fcd",
        "colab": {
          "base_uri": "https://localhost:8080/"
        }
      },
      "execution_count": 128,
      "outputs": [
        {
          "output_type": "stream",
          "name": "stdout",
          "text": [
            "Overwriting temp.ts\n"
          ]
        }
      ]
    },
    {
      "cell_type": "code",
      "source": [
        "!tsc temp.ts; echo 日本語ja | node temp.js  #=> 5"
      ],
      "metadata": {
        "id": "GzO9ZzoZTePW",
        "outputId": "8e17ab55-fd60-4a9f-efc5-1c45e1ebdcf6",
        "colab": {
          "base_uri": "https://localhost:8080/"
        }
      },
      "execution_count": 129,
      "outputs": [
        {
          "output_type": "stream",
          "name": "stdout",
          "text": [
            "長さは 5\n",
            "最後の文字は a\n",
            "z の位置は -1\n"
          ]
        }
      ]
    },
    {
      "cell_type": "markdown",
      "metadata": {
        "id": "1Oer_s5F_5Ml"
      },
      "source": [
        "真偽値  \n",
        "JavaScript は以下以外はすべて true;  \n",
        "\n",
        "・数値 0、NaN  \n",
        "・null  \n",
        "・undifined  \n",
        "・空文字列  \n",
        "\n",
        "ということは、`[]`、`{}` は true。"
      ]
    },
    {
      "cell_type": "code",
      "metadata": {
        "id": "eGIBg74tGV31",
        "colab": {
          "base_uri": "https://localhost:8080/"
        },
        "outputId": "4001e74b-5350-4185-be95-8eaa6f6ead27"
      },
      "source": [
        "# 問題 クリスマスカード\n",
        "%%writefile temp.ts\n",
        "let greetings = ['Happy Birthday!',\n",
        "    'Merry Christmas my love',\n",
        "    'A happy Christmas to all the family',\n",
        "    'You\\'re all I want for Christmas',\n",
        "    'Get well soon'];\n",
        "\n",
        "for (let i = 0; i < greetings.length; i++) {\n",
        "    let input = greetings[i];\n",
        "    if (greetings[i].indexOf(\"Christmas\") !== -1) {\n",
        "        console.log(input);\n",
        "    }\n",
        "}"
      ],
      "execution_count": 132,
      "outputs": [
        {
          "output_type": "stream",
          "name": "stdout",
          "text": [
            "Overwriting temp.ts\n"
          ]
        }
      ]
    },
    {
      "cell_type": "code",
      "source": [
        "!tsc temp.ts; echo | node temp.js"
      ],
      "metadata": {
        "id": "A6zJEZohXLLD",
        "outputId": "0ef94bf6-7de0-4fc6-b77d-9873664d7dda",
        "colab": {
          "base_uri": "https://localhost:8080/"
        }
      },
      "execution_count": 133,
      "outputs": [
        {
          "output_type": "stream",
          "name": "stdout",
          "text": [
            "Merry Christmas my love\n",
            "A happy Christmas to all the family\n",
            "You're all I want for Christmas\n"
          ]
        }
      ]
    },
    {
      "cell_type": "markdown",
      "metadata": {
        "id": "HX6cdlafwp0v"
      },
      "source": [
        "# いまここ"
      ]
    },
    {
      "cell_type": "code",
      "source": [
        "# 問題 A Product\n",
        "# a, b の積が偶数なら Even 奇数なら Odd と出力する\n",
        "%%writefile temp.ts\n",
        "import * as fs from \"fs\";\n",
        "const inputs : string = fs.readFileSync(\"/dev/stdin\", \"utf8\");\n",
        "const args : number [] = inputs\n",
        "   .split('\\n')[0]\n",
        "   .split(' ')\n",
        "   .map ((n) => Number(n));\n",
        "\n",
        "const a : number = args[0]\n",
        "const b : number = args[1]\n",
        "\n",
        "if ((a * b) % 2 === 0) {\n",
        "    console.log('Even');\n",
        "} else {\n",
        "    console.log('Odd');\n",
        "}"
      ],
      "metadata": {
        "id": "Z1dr2uV-vVlB",
        "outputId": "e7edb91d-c7d5-46f8-de52-20184bc20210",
        "colab": {
          "base_uri": "https://localhost:8080/"
        }
      },
      "execution_count": 135,
      "outputs": [
        {
          "output_type": "stream",
          "name": "stdout",
          "text": [
            "Overwriting temp.ts\n"
          ]
        }
      ]
    },
    {
      "cell_type": "code",
      "source": [
        "!tsc temp.ts; echo 3 4 | node temp.js #=> Even\n",
        "!tsc temp.ts; echo 1 21 | node temp.js #=> Odd"
      ],
      "metadata": {
        "id": "oiCIDrrgvVe1",
        "outputId": "4e3fde32-2e06-441b-e48c-67cb41f75c67",
        "colab": {
          "base_uri": "https://localhost:8080/"
        }
      },
      "execution_count": 136,
      "outputs": [
        {
          "output_type": "stream",
          "name": "stdout",
          "text": [
            "Even\n",
            "Odd\n"
          ]
        }
      ]
    },
    {
      "cell_type": "code",
      "source": [
        "# 問題 A - Placing Marbles \n",
        "# 3 つのマスからなるマス目。各マスには 0 か 1 が書かれている。\n",
        "# 1 の数を出力する\n",
        "\n",
        "%%writefile temp.ts\n",
        "import * as fs from \"fs\";\n",
        "const inputs : string = fs.readFileSync(\"/dev/stdin\", \"utf8\");\n",
        "const args : number [] = inputs\n",
        "   .split('\\n')[0]\n",
        "   .split('')\n",
        "   .map ((n) => Number(n));\n",
        "\n",
        "// sum 合計を算出する\n",
        "console.log(args.reduce(function(a, b) { return a + b; }, 0))"
      ],
      "metadata": {
        "id": "5gaBMkwyyd56",
        "outputId": "252844b0-db1a-49e5-a187-f07ed0905839",
        "colab": {
          "base_uri": "https://localhost:8080/"
        }
      },
      "execution_count": 141,
      "outputs": [
        {
          "output_type": "stream",
          "name": "stdout",
          "text": [
            "Overwriting temp.ts\n"
          ]
        }
      ]
    },
    {
      "cell_type": "code",
      "source": [
        "!tsc temp.ts; echo 101 | node temp.js #=> 2\n",
        "!tsc temp.ts; echo 000 | node temp.js #=> 0"
      ],
      "metadata": {
        "id": "t1MouOLAyd11",
        "outputId": "8aa3d90a-d9a9-4bae-cdba-ea4a59bd00a9",
        "colab": {
          "base_uri": "https://localhost:8080/"
        }
      },
      "execution_count": 142,
      "outputs": [
        {
          "output_type": "stream",
          "name": "stdout",
          "text": [
            "\u001b[33m2\u001b[39m\n",
            "\u001b[33m0\u001b[39m\n"
          ]
        }
      ]
    },
    {
      "cell_type": "code",
      "metadata": {
        "id": "tJI4HijtYLpt",
        "colab": {
          "base_uri": "https://localhost:8080/",
          "height": 86
        },
        "outputId": "c0280390-afbe-49ae-d00d-05c94f190d39"
      },
      "source": [
        "# 問題 都市名\n",
        "# 最初を大文字に、それ以降を小文字にする。\n",
        "%%writefile temp.ts\n",
        "/*\n",
        "const list = document.querySelector(\"#output-area\");\n",
        "list.innerHTML = '';\n",
        "document.body.style = \"white-space: pre;\";\n",
        "\n",
        "function print (str) {\n",
        "    let item = document.createElement('div');\n",
        "    item.textContent = str;\n",
        "    list.appendChild(item);\n",
        "};*/\n",
        "\n",
        "let cities = ['lonDon', 'ManCHESTer', 'BiRmiNGHAM', 'liVERpoOL'];\n",
        "\n",
        "for(var i = 0; i < cities.length; i++) {\n",
        "  var input = cities[i];\n",
        "//   この下にコードを書いて下さい\n",
        "  input = input.toLowerCase();\n",
        "  head = input[0]\n",
        "  input = input.replace(head, head.toUpperCase());\n",
        "\n",
        "  let result = input;\n",
        "\n",
        "  print(result);\n",
        "}"
      ],
      "execution_count": null,
      "outputs": [
        {
          "output_type": "display_data",
          "data": {
            "application/javascript": [
              "\n",
              "const list = document.querySelector(\"#output-area\");\n",
              "list.innerHTML = '';\n",
              "document.body.style = \"white-space: pre;\";\n",
              "\n",
              "function print (str) {\n",
              "    let item = document.createElement('div');\n",
              "    item.textContent = str;\n",
              "    list.appendChild(item);\n",
              "};\n",
              "\n",
              "let cities = ['lonDon', 'ManCHESTer', 'BiRmiNGHAM', 'liVERpoOL'];\n",
              "\n",
              "for(var i = 0; i < cities.length; i++) {\n",
              "  var input = cities[i];\n",
              "//   この下にコードを書いて下さい\n",
              "  input = input.toLowerCase();\n",
              "  head = input[0]\n",
              "  input = input.replace(head, head.toUpperCase());\n",
              "\n",
              "  let result = input;\n",
              "\n",
              "  print(result);\n",
              "}"
            ],
            "text/plain": [
              "<IPython.core.display.Javascript object>"
            ]
          },
          "metadata": {
            "tags": []
          }
        }
      ]
    },
    {
      "cell_type": "code",
      "source": [
        "!tsc temp.ts; echo | node temp.js"
      ],
      "metadata": {
        "id": "bSoSBtpSYL3L"
      },
      "execution_count": null,
      "outputs": []
    },
    {
      "cell_type": "markdown",
      "metadata": {
        "id": "GcHmsXOlazeE"
      },
      "source": [
        "### 問題 駅コードの抽出\n",
        "\n",
        "最初の3文字アルファベットと、セミコロン以下をまとめて編集して出力。\n"
      ]
    },
    {
      "cell_type": "code",
      "metadata": {
        "id": "gdxQvSeDa_YZ",
        "colab": {
          "base_uri": "https://localhost:8080/",
          "height": 102
        },
        "outputId": "3f47b03c-abca-4823-97da-a86c57dca20b"
      },
      "source": [
        "%%javascript\n",
        "\n",
        "const list = document.querySelector(\"#output-area\");\n",
        "list.innerHTML = '';\n",
        "document.body.style = \"white-space: pre;\";\n",
        "\n",
        "function print (str) {\n",
        "    let item = document.createElement('div');\n",
        "    item.textContent = str;\n",
        "    list.appendChild(item);\n",
        "};\n",
        "\n",
        "\n",
        "\n",
        "let stations = ['MAN675847583748sjt567654;Manchester Piccadilly',\n",
        "                'GNF576746573fhdg4737dh4;Greenfield',\n",
        "                'LIV5hg65hd737456236dch46dg4;Liverpool Lime Street',\n",
        "                'SYB4f65hf75f736463;Stalybridge',\n",
        "                'HUD5767ghtyfyr4536dh45dg45dg3;Huddersfield'];\n",
        "\n",
        "for (var i = 0; i < stations.length; i++) {\n",
        "  let input = stations[i];\n",
        "  // この下にコードを書いてください\n",
        "  head = input.slice(0,3);\n",
        "  name = input.slice(input.indexOf(';')+1 , input.length);\n",
        "  let result = head + \" : \" + name;\n",
        "\n",
        "  print (result);\n",
        "}"
      ],
      "execution_count": null,
      "outputs": [
        {
          "output_type": "display_data",
          "data": {
            "application/javascript": [
              "\n",
              "const list = document.querySelector(\"#output-area\");\n",
              "list.innerHTML = '';\n",
              "document.body.style = \"white-space: pre;\";\n",
              "\n",
              "function print (str) {\n",
              "    let item = document.createElement('div');\n",
              "    item.textContent = str;\n",
              "    list.appendChild(item);\n",
              "};\n",
              "\n",
              "\n",
              "\n",
              "let stations = ['MAN675847583748sjt567654;Manchester Piccadilly',\n",
              "                'GNF576746573fhdg4737dh4;Greenfield',\n",
              "                'LIV5hg65hd737456236dch46dg4;Liverpool Lime Street',\n",
              "                'SYB4f65hf75f736463;Stalybridge',\n",
              "                'HUD5767ghtyfyr4536dh45dg45dg3;Huddersfield'];\n",
              "\n",
              "for (var i = 0; i < stations.length; i++) {\n",
              "  let input = stations[i];\n",
              "  // この下にコードを書いてください\n",
              "  head = input.slice(0,3);\n",
              "  name = input.slice(input.indexOf(';')+1 , input.length);\n",
              "  let result = head + \" : \" + name;\n",
              "\n",
              "  print (result);\n",
              "}"
            ],
            "text/plain": [
              "<IPython.core.display.Javascript object>"
            ]
          },
          "metadata": {
            "tags": []
          }
        }
      ]
    },
    {
      "cell_type": "markdown",
      "metadata": {
        "id": "7jWwVKIdLUAe"
      },
      "source": [
        "### 問題 変数"
      ]
    },
    {
      "cell_type": "code",
      "metadata": {
        "id": "kvyGSxM1LEmh",
        "colab": {
          "base_uri": "https://localhost:8080/",
          "height": 69
        },
        "outputId": "5a32c2fb-8c23-4d92-cb70-55e5ed51ad01"
      },
      "source": [
        "%%javascript\n",
        "\n",
        "const list = document.querySelector(\"#output-area\");\n",
        "list.innerHTML = '';\n",
        "\n",
        "let myName = \"Taro\";\n",
        "let myAge = \"69\";\n",
        "\n",
        "let para1 = document.createElement('p');\n",
        "para1.textContent = myName;\n",
        "let para2 = document.createElement('p');\n",
        "para2.textContent = myAge;\n",
        "list.appendChild(para1);\n",
        "list.appendChild(para2);\n"
      ],
      "execution_count": null,
      "outputs": [
        {
          "output_type": "display_data",
          "data": {
            "application/javascript": [
              "\n",
              "const list = document.querySelector(\"#output-area\");\n",
              "list.innerHTML = '';\n",
              "\n",
              "let myName = \"Taro\";\n",
              "let myAge = \"69\";\n",
              "\n",
              "let para1 = document.createElement('p');\n",
              "para1.textContent = myName;\n",
              "let para2 = document.createElement('p');\n",
              "para2.textContent = myAge;\n",
              "list.appendChild(para1);\n",
              "list.appendChild(para2);"
            ],
            "text/plain": [
              "<IPython.core.display.Javascript object>"
            ]
          },
          "metadata": {
            "tags": []
          }
        }
      ]
    },
    {
      "cell_type": "markdown",
      "metadata": {
        "id": "pGkX7qcWNcg8"
      },
      "source": [
        "やはり `print()` を使った方がいいね!!!!"
      ]
    },
    {
      "cell_type": "code",
      "metadata": {
        "id": "6o7_t30NNcB8",
        "colab": {
          "base_uri": "https://localhost:8080/",
          "height": 51
        },
        "outputId": "c64e272c-78f5-4b6e-8afb-311605d6eaea"
      },
      "source": [
        "%%javascript\n",
        "\n",
        "const list = document.querySelector(\"#output-area\");\n",
        "list.innerHTML = '';\n",
        "document.body.style = \"white-space: pre;\";\n",
        "\n",
        "function print (str) {\n",
        "    let item = document.createElement('div');\n",
        "    item.textContent = str;\n",
        "    list.appendChild(item);\n",
        "};\n",
        "\n",
        "let myName = \"Taro\";\n",
        "let myAge = \"69\";\n",
        "\n",
        "print (myName);\n",
        "print (myAge);"
      ],
      "execution_count": null,
      "outputs": [
        {
          "output_type": "display_data",
          "data": {
            "application/javascript": [
              "\n",
              "const list = document.querySelector(\"#output-area\");\n",
              "list.innerHTML = '';\n",
              "document.body.style = \"white-space: pre;\";\n",
              "\n",
              "function print (str) {\n",
              "    let item = document.createElement('div');\n",
              "    item.textContent = str;\n",
              "    list.appendChild(item);\n",
              "};\n",
              "\n",
              "let myName = \"Taro\";\n",
              "let myAge = \"69\";\n",
              "\n",
              "print (myName);\n",
              "print (myAge);"
            ],
            "text/plain": [
              "<IPython.core.display.Javascript object>"
            ]
          },
          "metadata": {
            "tags": []
          }
        }
      ]
    },
    {
      "cell_type": "markdown",
      "metadata": {
        "id": "3WTA5soaN_qy"
      },
      "source": [
        "### 問題 定数\n"
      ]
    },
    {
      "cell_type": "code",
      "metadata": {
        "id": "lA8RJGziOCjs",
        "colab": {
          "base_uri": "https://localhost:8080/",
          "height": 68
        },
        "outputId": "f169d9c2-cd0b-4e20-8a26-3c1443dd84fe"
      },
      "source": [
        "%%javascript\n",
        "\n",
        "const list = document.querySelector(\"#output-area\");\n",
        "list.innerHTML = '';\n",
        "document.body.style = \"white-space: pre;\";\n",
        "\n",
        "function print (str) {\n",
        "    let item = document.createElement('div');\n",
        "    item.textContent = str;\n",
        "    list.appendChild(item);\n",
        "};\n",
        "\n",
        "const myName = 'Default';\n",
        "// myName = 'Chris'\n",
        "\n",
        "let myAge = '42';\n",
        "\n",
        "print (myName);\n",
        "print(`In 20 years, I will be ${myAge + 20}`);\n",
        "print('In 20 years, I will be ${myAge + 20}');\n",
        "\n"
      ],
      "execution_count": null,
      "outputs": [
        {
          "output_type": "display_data",
          "data": {
            "application/javascript": [
              "\n",
              "const list = document.querySelector(\"#output-area\");\n",
              "list.innerHTML = '';\n",
              "document.body.style = \"white-space: pre;\";\n",
              "\n",
              "function print (str) {\n",
              "    let item = document.createElement('div');\n",
              "    item.textContent = str;\n",
              "    list.appendChild(item);\n",
              "};\n",
              "\n",
              "const myName = 'Default';\n",
              "// myName = 'Chris'\n",
              "\n",
              "let myAge = '42';\n",
              "\n",
              "print (myName);\n",
              "print(`In 20 years, I will be ${myAge + 20}`);\n",
              "print('In 20 years, I will be ${myAge + 20}');\n"
            ],
            "text/plain": [
              "<IPython.core.display.Javascript object>"
            ]
          },
          "metadata": {
            "tags": []
          }
        }
      ]
    },
    {
      "cell_type": "markdown",
      "metadata": {
        "id": "A-EgnA0EZSIu"
      },
      "source": [
        "### 問題 算数 1"
      ]
    },
    {
      "cell_type": "code",
      "metadata": {
        "id": "ieBRgfwnZVdl",
        "colab": {
          "base_uri": "https://localhost:8080/",
          "height": 51
        },
        "outputId": "cc2567dd-6355-45ff-a0f9-c9dda5bbff52"
      },
      "source": [
        "%%javascript\n",
        "\n",
        "const list = document.querySelector(\"#output-area\");\n",
        "list.innerHTML = '';\n",
        "document.body.style = \"white-space: pre;\";\n",
        "\n",
        "function print (str) {\n",
        "    let item = document.createElement('div');\n",
        "    item.textContent = str;\n",
        "    list.appendChild(item);\n",
        "};\n",
        "\n",
        "\n",
        "let finalResult;\n",
        "\n",
        "let evenOddResult;\n",
        "\n",
        "let num1 = 1;\n",
        "let num2 = 2;\n",
        "let numsum = num1 + num2;\n",
        "let num3 = 19;\n",
        "let num4 = 3;\n",
        "let numsub = num3 - num4;\n",
        "finalResult = numsum * numsub;\n",
        "\n",
        "evenOddResult = finalResult % 2;\n",
        "\n",
        "let para1 = document.createElement('p');\n",
        "let finalResultCheck = finalResult === 48 ? `Yes, well done!` : `No, it is ${ finalResult }`;\n",
        "para1.textContent = `Is the finalResult 48? ${ finalResultCheck }`;\n",
        "let para2 = document.createElement('p');\n",
        "let evenOddResultCheck = evenOddResult === 0 ? 'The final result is even!' : 'The final result is odd. Hrm.'\n",
        "para2.textContent = evenOddResultCheck;\n",
        "\n",
        "print (para1.textContent);\n",
        "print (para2.textContent);"
      ],
      "execution_count": null,
      "outputs": [
        {
          "output_type": "display_data",
          "data": {
            "application/javascript": [
              "\n",
              "const list = document.querySelector(\"#output-area\");\n",
              "list.innerHTML = '';\n",
              "document.body.style = \"white-space: pre;\";\n",
              "\n",
              "function print (str) {\n",
              "    let item = document.createElement('div');\n",
              "    item.textContent = str;\n",
              "    list.appendChild(item);\n",
              "};\n",
              "\n",
              "\n",
              "let finalResult;\n",
              "\n",
              "let evenOddResult;\n",
              "\n",
              "// Add your code here\n",
              "let num1 = 1;\n",
              "let num2 = 2;\n",
              "let numsum = num1 + num2;\n",
              "let num3 = 19;\n",
              "let num4 = 3;\n",
              "let numsub = num3 - num4;\n",
              "finalResult = numsum * numsub;\n",
              "\n",
              "evenOddResult = finalResult % 2;\n",
              "\n",
              "// Don't edit the code below here!\n",
              "\n",
              "// section.innerHTML = ' ';\n",
              "let para1 = document.createElement('p');\n",
              "let finalResultCheck = finalResult === 48 ? `Yes, well done!` : `No, it is ${ finalResult }`;\n",
              "para1.textContent = `Is the finalResult 48? ${ finalResultCheck }`;\n",
              "let para2 = document.createElement('p');\n",
              "let evenOddResultCheck = evenOddResult === 0 ? 'The final result is even!' : 'The final result is odd. Hrm.'\n",
              "para2.textContent = evenOddResultCheck;\n",
              "\n",
              "// section.appendChild(para1);\n",
              "// section.appendChild(para2);\n",
              "print (para1.textContent);\n",
              "print (para2.textContent);"
            ],
            "text/plain": [
              "<IPython.core.display.Javascript object>"
            ]
          },
          "metadata": {
            "tags": []
          }
        }
      ]
    },
    {
      "cell_type": "markdown",
      "metadata": {
        "id": "bR3sm6y2bt3h"
      },
      "source": [
        "### 問題 算数 2"
      ]
    },
    {
      "cell_type": "code",
      "metadata": {
        "id": "U2qDo_E_bwRz",
        "colab": {
          "base_uri": "https://localhost:8080/",
          "height": 136
        },
        "outputId": "1c6bda31-8dba-4c65-b101-150121f3015a"
      },
      "source": [
        "%%javascript\n",
        "\n",
        "const list = document.querySelector(\"#output-area\");\n",
        "list.innerHTML = '';\n",
        "document.body.style = \"white-space: pre;\";\n",
        "\n",
        "function print (str) {\n",
        "    let item = document.createElement('div');\n",
        "    item.textContent = str;\n",
        "    list.appendChild(item);\n",
        "};\n",
        "\n",
        "\n",
        "// Final result should be 10.42\n",
        "// Add/update your code here\n",
        "\n",
        "let result = (7 + 13) / (9 + 7);\n",
        "let result2 = 100 / (2 * 6);\n",
        "\n",
        "print (result);\n",
        "print (result2);\n",
        "\n",
        "result *= result2;\n",
        "print (result);\n",
        "\n",
        "finalResult = result.toFixed(2);\n",
        "print (finalResult);\n",
        "print (typeof(finalResult));\n",
        "finalNumber = Number(finalResult);\n",
        "\n",
        "let para1 = document.createElement('p');\n",
        "para1.textContent = `Your finalResult is ${ finalResult }`;\n",
        "let para2 = document.createElement('p');\n",
        "let finalNumberCheck = isNaN(finalNumber) === false ? 'finalNumber is a number type. Well done!' : `Ooops! finalNumber is not a number.`;\n",
        "para2.textContent = finalNumberCheck;\n",
        "\n",
        "print (para1.textContent);\n",
        "print (para2.textContent);\n"
      ],
      "execution_count": null,
      "outputs": [
        {
          "output_type": "display_data",
          "data": {
            "application/javascript": [
              "\n",
              "const list = document.querySelector(\"#output-area\");\n",
              "list.innerHTML = '';\n",
              "document.body.style = \"white-space: pre;\";\n",
              "\n",
              "function print (str) {\n",
              "    let item = document.createElement('div');\n",
              "    item.textContent = str;\n",
              "    list.appendChild(item);\n",
              "};\n",
              "\n",
              "\n",
              "// Final result should be 10.42\n",
              "// Add/update your code here\n",
              "\n",
              "let result = (7 + 13) / (9 + 7);\n",
              "let result2 = 100 / (2 * 6);\n",
              "\n",
              "print (result);\n",
              "print (result2);\n",
              "\n",
              "result *= result2;\n",
              "print (result);\n",
              "\n",
              "finalResult = result.toFixed(2);\n",
              "print (finalResult);\n",
              "print (typeof(finalResult));\n",
              "finalNumber = Number(finalResult);\n",
              "\n",
              "let para1 = document.createElement('p');\n",
              "para1.textContent = `Your finalResult is ${ finalResult }`;\n",
              "let para2 = document.createElement('p');\n",
              "let finalNumberCheck = isNaN(finalNumber) === false ? 'finalNumber is a number type. Well done!' : `Ooops! finalNumber is not a number.`;\n",
              "para2.textContent = finalNumberCheck;\n",
              "\n",
              "print (para1.textContent);\n",
              "print (para2.textContent);"
            ],
            "text/plain": [
              "<IPython.core.display.Javascript object>"
            ]
          },
          "metadata": {
            "tags": []
          }
        }
      ]
    },
    {
      "cell_type": "markdown",
      "metadata": {
        "id": "hp950eaXgA6h"
      },
      "source": [
        "### 問題 算数 3"
      ]
    },
    {
      "cell_type": "code",
      "metadata": {
        "id": "LGj7B4IrgETU",
        "colab": {
          "base_uri": "https://localhost:8080/",
          "height": 119
        },
        "outputId": "10003346-d135-4946-8ee8-800fe93c58a6"
      },
      "source": [
        "%%javascript\n",
        "\n",
        "const list = document.querySelector(\"#output-area\");\n",
        "list.innerHTML = '';\n",
        "document.body.style = \"white-space: pre;\";\n",
        "\n",
        "function print (str) {\n",
        "    let item = document.createElement('div');\n",
        "    item.textContent = str;\n",
        "    list.appendChild(item);\n",
        "};\n",
        "\n",
        "\n",
        "\n",
        "// Statement 1: The elephant weights less than the mouse\n",
        "let eleWeight = 1000;\n",
        "let mouseWeight = 2;\n",
        "\n",
        "// Statement 2: The Ostrich is taller than the duck\n",
        "let ostrichHeight = 2;\n",
        "let duckHeight = 0.3;\n",
        "\n",
        "// Statement 3: The two passwords match\n",
        "let pwd1 = 'stromboli';\n",
        "let pwd2 = 'stROmBoLi'\n",
        "\n",
        "// Add your code here\n",
        "\n",
        "let weightComparison = eleWeight < mouseWeight;\n",
        "let heightComparison = ostrichHeight > duckHeight;\n",
        "let pwdMatch = pwd1 === pwd2\n",
        "\n",
        "print (weightComparison);\n",
        "print (heightComparison);\n",
        "print (pwdMatch);\n",
        "\n",
        "let para1 = document.createElement('p');\n",
        "let para2 = document.createElement('p');\n",
        "let para3 = document.createElement('p');\n",
        "\n",
        "let weightTest = weightComparison ? 'True — elephants weight less than mice!?' : 'False — of course an elephant is heavier than a mouse!';\n",
        "let heightTest = heightComparison ? 'True — an ostrich is indeed taller than a duck!' : 'False — apparently a duck is taller than an ostrich!?';\n",
        "let pwdTest = pwdMatch ? 'True — the passwords match.' : 'False — the passwords do not match; please check them';\n",
        "\n",
        "// para1.textContent = weightTest;\n",
        "// section.appendChild(para1);\n",
        "// para2.textContent = heightTest;\n",
        "// section.appendChild(para2);\n",
        "// para3.textContent = pwdTest;\n",
        "// section.appendChild(para3);\n",
        "\n",
        "print (weightTest);\n",
        "print (heightTest);\n",
        "print (pwdTest);\n",
        "    "
      ],
      "execution_count": null,
      "outputs": [
        {
          "output_type": "display_data",
          "data": {
            "application/javascript": [
              "\n",
              "const list = document.querySelector(\"#output-area\");\n",
              "list.innerHTML = '';\n",
              "document.body.style = \"white-space: pre;\";\n",
              "\n",
              "function print (str) {\n",
              "    let item = document.createElement('div');\n",
              "    item.textContent = str;\n",
              "    list.appendChild(item);\n",
              "};\n",
              "\n",
              "\n",
              "\n",
              "// Statement 1: The elephant weights less than the mouse\n",
              "let eleWeight = 1000;\n",
              "let mouseWeight = 2;\n",
              "\n",
              "// Statement 2: The Ostrich is taller than the duck\n",
              "let ostrichHeight = 2;\n",
              "let duckHeight = 0.3;\n",
              "\n",
              "// Statement 3: The two passwords match\n",
              "let pwd1 = 'stromboli';\n",
              "let pwd2 = 'stROmBoLi'\n",
              "\n",
              "// Add your code here\n",
              "\n",
              "let weightComparison = eleWeight < mouseWeight;\n",
              "let heightComparison = ostrichHeight > duckHeight;\n",
              "let pwdMatch = pwd1 === pwd2\n",
              "\n",
              "print (weightComparison);\n",
              "print (heightComparison);\n",
              "print (pwdMatch);\n",
              "\n",
              "let para1 = document.createElement('p');\n",
              "let para2 = document.createElement('p');\n",
              "let para3 = document.createElement('p');\n",
              "\n",
              "let weightTest = weightComparison ? 'True — elephants weight less than mice!?' : 'False — of course an elephant is heavier than a mouse!';\n",
              "let heightTest = heightComparison ? 'True — an ostrich is indeed taller than a duck!' : 'False — apparently a duck is taller than an ostrich!?';\n",
              "let pwdTest = pwdMatch ? 'True — the passwords match.' : 'False — the passwords do not match; please check them';\n",
              "\n",
              "// para1.textContent = weightTest;\n",
              "// section.appendChild(para1);\n",
              "// para2.textContent = heightTest;\n",
              "// section.appendChild(para2);\n",
              "// para3.textContent = pwdTest;\n",
              "// section.appendChild(para3);\n",
              "\n",
              "print (weightTest);\n",
              "print (heightTest);\n",
              "print (pwdTest);\n",
              "    "
            ],
            "text/plain": [
              "<IPython.core.display.Javascript object>"
            ]
          },
          "metadata": {
            "tags": []
          }
        }
      ]
    },
    {
      "cell_type": "markdown",
      "metadata": {
        "id": "sx_FSpdLnf0C"
      },
      "source": [
        "# 配列 array\n",
        "\n",
        "JavaScript では配列 array というが実はリストのこと。\n"
      ]
    },
    {
      "cell_type": "code",
      "metadata": {
        "id": "IAjhH9F2nykZ",
        "colab": {
          "base_uri": "https://localhost:8080/",
          "height": 204
        },
        "outputId": "9601ce7d-6a4b-4e5c-dfe9-bf2f8cc9434d"
      },
      "source": [
        "%%javascript\n",
        "\n",
        "const list = document.querySelector(\"#output-area\");\n",
        "list.innerHTML = '';\n",
        "document.body.style = \"white-space: pre;\";\n",
        "\n",
        "function print (str) {\n",
        "    let item = document.createElement('div');\n",
        "    item.textContent = str;\n",
        "    list.appendChild(item);\n",
        "};\n",
        "\n",
        "\n",
        "let shopping = ['パン', '牛乳', 'チーズ', 'ハム', '麺'];\n",
        "print (shopping);\n",
        "print (typeof(shopping));\n",
        "\n",
        "print (shopping[0]);\n",
        "\n",
        "shopping[0] = 'タヒーニ';\n",
        "print (shopping[0]);\n",
        "\n",
        "let sequence = [1, 1, 2, 3, 5, 8, 13];\n",
        "let random = ['tree', 795, [0, 1, 2]];\n",
        "\n",
        "print (random[2][2]);\n",
        "print (sequence.length);\n",
        "\n",
        "for (let i = 0; i < shopping.length; i++){\n",
        "    print (shopping[i]);\n",
        "}"
      ],
      "execution_count": null,
      "outputs": [
        {
          "output_type": "display_data",
          "data": {
            "application/javascript": [
              "\n",
              "const list = document.querySelector(\"#output-area\");\n",
              "list.innerHTML = '';\n",
              "document.body.style = \"white-space: pre;\";\n",
              "\n",
              "function print (str) {\n",
              "    let item = document.createElement('div');\n",
              "    item.textContent = str;\n",
              "    list.appendChild(item);\n",
              "};\n",
              "\n",
              "\n",
              "let shopping = ['パン', '牛乳', 'チーズ', 'ハム', '麺'];\n",
              "print (shopping);\n",
              "print (typeof(shopping));\n",
              "\n",
              "print (shopping[0]);\n",
              "\n",
              "shopping[0] = 'タヒーニ';\n",
              "print (shopping[0]);\n",
              "\n",
              "let sequence = [1, 1, 2, 3, 5, 8, 13];\n",
              "let random = ['tree', 795, [0, 1, 2]];\n",
              "\n",
              "print (random[2][2]);\n",
              "print (sequence.length);\n",
              "\n",
              "for (let i = 0; i < shopping.length; i++){\n",
              "    print (shopping[i]);\n",
              "}"
            ],
            "text/plain": [
              "<IPython.core.display.Javascript object>"
            ]
          },
          "metadata": {
            "tags": []
          }
        }
      ]
    },
    {
      "cell_type": "markdown",
      "metadata": {
        "id": "B8uTXQzHs6U1"
      },
      "source": [
        "### 配列と文字列 "
      ]
    },
    {
      "cell_type": "code",
      "metadata": {
        "id": "YBRFbk-ls91A",
        "colab": {
          "base_uri": "https://localhost:8080/",
          "height": 255
        },
        "outputId": "c9fb36dd-f734-482b-844b-92b814ca350d"
      },
      "source": [
        "%%javascript\n",
        "\n",
        "const list = document.querySelector(\"#output-area\");\n",
        "list.innerHTML = '';\n",
        "document.body.style = \"white-space: pre;\";\n",
        "\n",
        "function print (str) {\n",
        "    let item = document.createElement('div');\n",
        "    item.textContent = str;\n",
        "    list.appendChild(item);\n",
        "};\n",
        "\n",
        "let myData = '札幌,仙台,東京,名古屋,大阪,博多';\n",
        "let myArray = myData.split(',');\n",
        "print (myData);\n",
        "print (myArray);\n",
        "print (myArray[0]);\n",
        "\n",
        "let myNewString = myArray.join (' -> ');\n",
        "print (myNewString);\n",
        "\n",
        "let dogNames = ['ポチ','ハチ','タロウ','モコ'];\n",
        "dogNames.toString(); //ポチ,ハチ,タロウ,モコ\n",
        "print (typeof(String (dogNames)));\n",
        "myArray.push('横浜');\n",
        "print (myArray);\n",
        "myArray.push('神戸', '広島');\n",
        "print (myArray);\n",
        "let newLength = myArray.push('京都');\n",
        "print (myArray);\n",
        "print (newLength);\n",
        "let removedItem = myArray.pop();\n",
        "print (myArray);\n",
        "print (removedItem);\n",
        "myArray.unshift('奈良');\n",
        "print (myArray);\n",
        "removedItem = myArray.shift();\n",
        "print (myArray);\n",
        "print (removedItem);\n"
      ],
      "execution_count": null,
      "outputs": [
        {
          "output_type": "display_data",
          "data": {
            "application/javascript": [
              "\n",
              "const list = document.querySelector(\"#output-area\");\n",
              "list.innerHTML = '';\n",
              "document.body.style = \"white-space: pre;\";\n",
              "\n",
              "function print (str) {\n",
              "    let item = document.createElement('div');\n",
              "    item.textContent = str;\n",
              "    list.appendChild(item);\n",
              "};\n",
              "\n",
              "let myData = '札幌,仙台,東京,名古屋,大阪,博多';\n",
              "let myArray = myData.split(',');\n",
              "print (myData);\n",
              "print (myArray);\n",
              "print (myArray[0]);\n",
              "\n",
              "let myNewString = myArray.join (' -> ');\n",
              "print (myNewString);\n",
              "\n",
              "let dogNames = ['ポチ','ハチ','タロウ','モコ'];\n",
              "dogNames.toString(); //ポチ,ハチ,タロウ,モコ\n",
              "print (typeof(String (dogNames)));\n",
              "myArray.push('横浜');\n",
              "print (myArray);\n",
              "myArray.push('神戸', '広島');\n",
              "print (myArray);\n",
              "let newLength = myArray.push('京都');\n",
              "print (myArray);\n",
              "print (newLength);\n",
              "let removedItem = myArray.pop();\n",
              "print (myArray);\n",
              "print (removedItem);\n",
              "myArray.unshift('奈良');\n",
              "print (myArray);\n",
              "removedItem = myArray.shift();\n",
              "print (myArray);\n",
              "print (removedItem);"
            ],
            "text/plain": [
              "<IPython.core.display.Javascript object>"
            ]
          },
          "metadata": {
            "tags": []
          }
        }
      ]
    },
    {
      "cell_type": "markdown",
      "metadata": {
        "id": "4f-XFOEHeEIB"
      },
      "source": [
        "### 問題 商品の印字\n"
      ]
    },
    {
      "cell_type": "code",
      "metadata": {
        "id": "TFXU-5tAf4EA",
        "colab": {
          "base_uri": "https://localhost:8080/",
          "height": 119
        },
        "outputId": "0c7b2cac-32be-41b6-b474-320419e81051"
      },
      "source": [
        "%%javascript\n",
        "\n",
        "const list = document.querySelector(\"#output-area\");\n",
        "list.innerHTML = '';\n",
        "document.body.style = \"white-space: pre;\";\n",
        "\n",
        "function print (str) {\n",
        "    let item = document.createElement('div');\n",
        "    item.textContent = str;\n",
        "    list.appendChild(item);\n",
        "};\n",
        "\n",
        "function printList (str) {\n",
        "    let item = document.createElement('li');\n",
        "    item.textContent = str;\n",
        "    list.appendChild(item);\n",
        "};\n",
        "\n",
        "let total = 0;\n",
        "\n",
        "let products = [\n",
        "    'パンツ:6.99', \n",
        "    '靴下:5.99', \n",
        "    'T シャツ:14.99', \n",
        "    'ズボン:31.99', \n",
        "    '靴:23.99'\n",
        "]\n",
        "\n",
        "\n",
        "for (let i = 0; i <= (products.length-1); i++) {\n",
        "    total += Number(products[i].split(':')[1]);\n",
        "    product = products[i].split(':')[0];\n",
        "    price = products[i].split(':')[1];\n",
        "\n",
        "    printList (`${product} -- \\$ ${price}`)\n",
        "}\n",
        "print ('合計: $' + total.toFixed(2));\n"
      ],
      "execution_count": null,
      "outputs": [
        {
          "output_type": "display_data",
          "data": {
            "application/javascript": [
              "\n",
              "const list = document.querySelector(\"#output-area\");\n",
              "list.innerHTML = '';\n",
              "document.body.style = \"white-space: pre;\";\n",
              "\n",
              "function print (str) {\n",
              "    let item = document.createElement('div');\n",
              "    item.textContent = str;\n",
              "    list.appendChild(item);\n",
              "};\n",
              "\n",
              "function printList (str) {\n",
              "    let item = document.createElement('li');\n",
              "    item.textContent = str;\n",
              "    list.appendChild(item);\n",
              "};\n",
              "\n",
              "let total = 0;\n",
              "\n",
              "let products = [\n",
              "    'パンツ:6.99', \n",
              "    '靴下:5.99', \n",
              "    'T シャツ:14.99', \n",
              "    'ズボン:31.99', \n",
              "    '靴:23.99'\n",
              "]\n",
              "\n",
              "\n",
              "for (let i = 0; i <= (products.length-1); i++) {\n",
              "    total += Number(products[i].split(':')[1]);\n",
              "    product = products[i].split(':')[0];\n",
              "    price = products[i].split(':')[1];\n",
              "\n",
              "    printList (`${product} -- \\$ ${price}`)\n",
              "}\n",
              "print ('合計: $' + total.toFixed(2));"
            ],
            "text/plain": [
              "<IPython.core.display.Javascript object>"
            ]
          },
          "metadata": {
            "tags": []
          }
        }
      ]
    },
    {
      "cell_type": "markdown",
      "metadata": {
        "id": "YqzuSt6W1zJs"
      },
      "source": [
        "### 問題 上位5件の検索"
      ]
    },
    {
      "cell_type": "code",
      "metadata": {
        "id": "aYw7J7P114TA",
        "colab": {
          "base_uri": "https://localhost:8080/",
          "height": 17
        },
        "outputId": "c9a89ee7-51ce-4fb2-dec3-e9eef9fd55b0"
      },
      "source": [
        "%%javascript\n",
        "\n",
        "// const list = document.querySelector(\"#output-area\");\n",
        "// list.innerHTML = '';\n",
        "// document.body.style = \"white-space: pre;\";\n",
        "\n",
        "// function print (str) {\n",
        "//     let item = document.createElement('div');\n",
        "//     item.textContent = str;\n",
        "//     list.appendChild(item);\n",
        "// };\n",
        "\n",
        "\n",
        "// const list = document.querySelector('.output ul');\n",
        "// const searchInput = document.querySelector('.output input');\n",
        "// const searchBtn = document.querySelector('.output button');\n",
        "\n",
        "// // list.innerHTML = '';\n",
        "\n",
        "// let myHistory = [];\n",
        "\n",
        "// searchBtn.onclick = function() {\n",
        "//   // 検索ボックスが空ではない場合のみ検索語を受け付けるようにします\n",
        "//   if (searchInput.value !== '') {\n",
        "//     // No.1\n",
        "//     myHistory.unshift(searchInput.value);\n",
        "//     // 表示中の一覧を空にして、同じ項目が表示されないようにして、\n",
        "//     // 結果は検索語が入力される度に毎回作り直されます。\n",
        "//     list.innerHTML = '';\n",
        "\n",
        "//     // 配列をループして、リスト内の全ての検索語を表示します\n",
        "//     for (let i = 0; i < myHistory.length; i++) {\n",
        "//       itemText = myHistory[i];\n",
        "//       const listItem = document.createElement('li');\n",
        "//       listItem.textContent = itemText;\n",
        "//       list.appendChild(listItem);\n",
        "//     }\n",
        "\n",
        "//     // 配列の長さが 5以上になったら一番古い検索語を削除します\n",
        "//     if (myHistory.length >= 5) {\n",
        "//       // No.2\n",
        "//       myHistory.pop();\n",
        "//     }\n",
        "\n",
        "//     // 次の検索語を受け付けるため、検索ボックスを空にしてフォーカスします\n",
        "//     searchInput.value = '';\n",
        "//     searchInput.focus();\n",
        "//   }\n",
        "// }\n"
      ],
      "execution_count": null,
      "outputs": [
        {
          "output_type": "display_data",
          "data": {
            "application/javascript": [
              "\n",
              "// const list = document.querySelector(\"#output-area\");\n",
              "// list.innerHTML = '';\n",
              "// document.body.style = \"white-space: pre;\";\n",
              "\n",
              "// function print (str) {\n",
              "//     let item = document.createElement('div');\n",
              "//     item.textContent = str;\n",
              "//     list.appendChild(item);\n",
              "// };\n",
              "\n",
              "\n",
              "const list = document.querySelector('.output ul');\n",
              "const searchInput = document.querySelector('.output input');\n",
              "const searchBtn = document.querySelector('.output button');\n",
              "\n",
              "// list.innerHTML = '';\n",
              "\n",
              "let myHistory = [];\n",
              "\n",
              "searchBtn.onclick = function() {\n",
              "  // 検索ボックスが空ではない場合のみ検索語を受け付けるようにします\n",
              "  if (searchInput.value !== '') {\n",
              "    // No.1\n",
              "    myHistory.unshift(searchInput.value);\n",
              "    // 表示中の一覧を空にして、同じ項目が表示されないようにして、\n",
              "    // 結果は検索語が入力される度に毎回作り直されます。\n",
              "    list.innerHTML = '';\n",
              "\n",
              "    // 配列をループして、リスト内の全ての検索語を表示します\n",
              "    for (let i = 0; i < myHistory.length; i++) {\n",
              "      itemText = myHistory[i];\n",
              "      const listItem = document.createElement('li');\n",
              "      listItem.textContent = itemText;\n",
              "      list.appendChild(listItem);\n",
              "    }\n",
              "\n",
              "    // 配列の長さが 5以上になったら一番古い検索語を削除します\n",
              "    if (myHistory.length >= 5) {\n",
              "      // No.2\n",
              "      myHistory.pop();\n",
              "    }\n",
              "\n",
              "    // 次の検索語を受け付けるため、検索ボックスを空にしてフォーカスします\n",
              "    searchInput.value = '';\n",
              "    searchInput.focus();\n",
              "  }\n",
              "}"
            ],
            "text/plain": [
              "<IPython.core.display.Javascript object>"
            ]
          },
          "metadata": {
            "tags": []
          }
        }
      ]
    },
    {
      "cell_type": "code",
      "metadata": {
        "id": "qG8YOjcLuMTc",
        "colab": {
          "base_uri": "https://localhost:8080/",
          "height": 107
        },
        "outputId": "0f6155ea-8330-44ba-cdff-b62961b8755a"
      },
      "source": [
        "# %%writefile temp.ts\n",
        "\n",
        "# <body>\n",
        "# <p class=\"this\">this is p</p>\n",
        "# <script type=\"text/javascript\">\n",
        "# const list = document.querySelector(\".this\");\n",
        "# list.innerHTML = '';\n",
        "# document.body.style = \"white-space: pre;\";\n",
        "\n",
        "# function print (str) {\n",
        "#     let item = document.createElement('div');\n",
        "#     item.textContent = str;\n",
        "#     list.appendChild(item);\n",
        "# };\n",
        "# </script>\n",
        "# <script \n",
        "# </body>"
      ],
      "execution_count": null,
      "outputs": [
        {
          "output_type": "display_data",
          "data": {
            "text/html": [
              "\n",
              "<body>\n",
              "<p class=\"this\">this is p</p>\n",
              "<script type=\"text/javascript\">\n",
              "const list = document.querySelector(\".this\");\n",
              "list.innerHTML = '';\n",
              "document.body.style = \"white-space: pre;\";\n",
              "\n",
              "function print (str) {\n",
              "    let item = document.createElement('div');\n",
              "    item.textContent = str;\n",
              "    list.appendChild(item);\n",
              "};\n",
              "</script>\n",
              "<script \n",
              "</body>"
            ],
            "text/plain": [
              "<IPython.core.display.HTML object>"
            ]
          },
          "metadata": {
            "tags": []
          }
        }
      ]
    },
    {
      "cell_type": "markdown",
      "metadata": {
        "id": "mHWP31WGtmTc"
      },
      "source": [
        "\n",
        "# いまここ\n",
        "\n",
        "https://developer.mozilla.org/ja/docs/Learn/JavaScript/First_steps/Arrays\n",
        "\n",
        "https://wiki.developer.mozilla.org/ja/docs/Learn/JavaScript/First_steps/Test_your_skills:_Arrays"
      ]
    }
  ]
}