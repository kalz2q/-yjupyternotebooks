{
  "nbformat": 4,
  "nbformat_minor": 0,
  "metadata": {
    "colab": {
      "name": "ts_learntypescript.ipynb",
      "provenance": [],
      "toc_visible": true,
      "authorship_tag": "ABX9TyNBcidMiqlD2kMb6Cay6u7C",
      "include_colab_link": true
    },
    "kernelspec": {
      "name": "python3",
      "display_name": "Python 3"
    },
    "language_info": {
      "name": "python"
    }
  },
  "cells": [
    {
      "cell_type": "markdown",
      "metadata": {
        "id": "view-in-github",
        "colab_type": "text"
      },
      "source": [
        "<a href=\"https://colab.research.google.com/github/kalz2q/mycolabnotebooks/blob/master/ts_learntypescript.ipynb\" target=\"_parent\"><img src=\"https://colab.research.google.com/assets/colab-badge.svg\" alt=\"Open In Colab\"/></a>"
      ]
    },
    {
      "cell_type": "markdown",
      "source": [
        "# メモ"
      ],
      "metadata": {
        "id": "BYA8ETFvWaIx"
      }
    },
    {
      "cell_type": "code",
      "source": [
        "# typescript をインストールする。4.6.4 が入る。node は 14.16.0 が既に入っている\n",
        "%%capture\n",
        "!npm install -g typescript\n",
        "!npm install --save-dev @types/node\n",
        "!npm install --save lodash"
      ],
      "metadata": {
        "id": "cvDmmwL1W8Wl"
      },
      "execution_count": 41,
      "outputs": []
    },
    {
      "cell_type": "markdown",
      "source": [
        "\n",
        "javascript を学んでいて行き詰まってしまったので、typescript 経由で学べないか。 google colaboratory を利用できないか。 ということでこのファイルを作った。\n",
        "\n",
        "* qiita AtCoder Beginners Selection 解答例【TypeScript】10問だしこれをやるか\n",
        "* https://colab.research.google.com/github/kalz2q/mycolabnotebooks/blob/master/javascript_aizuonline01.ipynb 過去に作成したもの\n",
        "* https://colab.research.google.com/github/kalz2q/mycolabnotebooks/blob/master/functionaljavascript.ipynb 過去に作成したもの\n",
        "---\n",
        "* learnjavascript.ipynb をコピペした => これを typescript 化する。=> 終了\n",
        "* https://typescriptbook.jp/ サバイバル TypeScript 良く書けている。日本語\n",
        "* https://www.typescripttutorial.net/ => あまり良くないチュートリアルだと思う\n",
        "* mdm web docs javascript これはこれでいいのだが。英語"
      ],
      "metadata": {
        "id": "DbSqJQo1j15z"
      }
    },
    {
      "cell_type": "code",
      "source": [
        "# とりあえず入出力\n",
        "%%writefile temp.ts\n",
        "const input : string = require('fs').readFileSync(\"/dev/stdin\", \"utf8\");\n",
        "let args : string[] = input.trim().split(/[\\n\\s,;.]+/)\n",
        "console.log(args)"
      ],
      "metadata": {
        "id": "Sos8UKrxYG7d",
        "outputId": "238c9650-1fb1-4bb8-c286-5bbba148d176",
        "colab": {
          "base_uri": "https://localhost:8080/"
        }
      },
      "execution_count": 63,
      "outputs": [
        {
          "output_type": "stream",
          "name": "stdout",
          "text": [
            "Overwriting temp.ts\n"
          ]
        }
      ]
    },
    {
      "cell_type": "code",
      "source": [
        "!tsc temp.ts; echo there are 3 books.   英語   日本語 | node temp.js"
      ],
      "metadata": {
        "id": "KMQ-v2w3YnRx",
        "outputId": "8eda76ba-d905-4c34-ee5f-39d1565a85ae",
        "colab": {
          "base_uri": "https://localhost:8080/"
        }
      },
      "execution_count": 65,
      "outputs": [
        {
          "output_type": "stream",
          "name": "stdout",
          "text": [
            "[ \u001b[32m'there'\u001b[39m, \u001b[32m'are'\u001b[39m, \u001b[32m'3'\u001b[39m, \u001b[32m'books'\u001b[39m, \u001b[32m'英語'\u001b[39m, \u001b[32m'日本語'\u001b[39m ]\n"
          ]
        }
      ]
    },
    {
      "cell_type": "code",
      "source": [
        "# Hello、女神さま!\n",
        "%%writefile temp.ts\n",
        "const input : string = require('fs').readFileSync(\"/dev/stdin\", \"utf8\");\n",
        "let args : string[] = input.trim().split(/[\\n\\s,;.]+/)\n",
        "let arg00 : string = args[0]\n",
        "console.log(\"Hello, \" + arg00)"
      ],
      "metadata": {
        "id": "KruQn6rTcs4V",
        "outputId": "720a9d9d-62b9-492c-c2e6-50889c847806",
        "colab": {
          "base_uri": "https://localhost:8080/"
        }
      },
      "execution_count": 70,
      "outputs": [
        {
          "output_type": "stream",
          "name": "stdout",
          "text": [
            "Overwriting temp.ts\n"
          ]
        }
      ]
    },
    {
      "cell_type": "code",
      "source": [
        "!tsc temp.ts; echo 女神さま!!!! 仏さま!!! | node temp.js"
      ],
      "metadata": {
        "id": "D5uYgvndc8N1",
        "outputId": "2846b6a7-2389-4ec5-d0ef-56472343a585",
        "colab": {
          "base_uri": "https://localhost:8080/"
        }
      },
      "execution_count": 71,
      "outputs": [
        {
          "output_type": "stream",
          "name": "stdout",
          "text": [
            "Hello, 女神さま!!!!\n"
          ]
        }
      ]
    },
    {
      "cell_type": "code",
      "source": [
        "# 問題 A - Six Characters\n",
        "# 入力文字列を繰り返して、最初の 6 文字を返す\n",
        "%%writefile temp.ts\n",
        "const input : string = require('fs').readFileSync(\"/dev/stdin\", \"utf8\");\n",
        "let args : string[] = input.trim().split(/[\\n\\s,;.]+/)\n",
        "let arg : string = args[0]\n",
        "console.log(arg.repeat(6).slice(0,6));"
      ],
      "metadata": {
        "id": "GT5a8voYofte",
        "outputId": "3696c1e3-c5a5-4218-eba2-6ae7461170c0",
        "colab": {
          "base_uri": "https://localhost:8080/"
        }
      },
      "execution_count": 72,
      "outputs": [
        {
          "output_type": "stream",
          "name": "stdout",
          "text": [
            "Overwriting temp.ts\n"
          ]
        }
      ]
    },
    {
      "cell_type": "code",
      "source": [
        "!tsc temp.ts; echo abc | node temp.js #=> abcabc\n",
        "!tsc temp.ts; echo zz | node temp.js #=> zzzzzz"
      ],
      "metadata": {
        "id": "9ouy2h5Bofpk",
        "outputId": "babe4655-1a9c-41cc-fba3-7203dc893260",
        "colab": {
          "base_uri": "https://localhost:8080/"
        }
      },
      "execution_count": 73,
      "outputs": [
        {
          "output_type": "stream",
          "name": "stdout",
          "text": [
            "abcabc\n",
            "zzzzzz\n"
          ]
        }
      ]
    },
    {
      "cell_type": "code",
      "source": [
        "# 四則演算\n",
        "# 加算減算乗算除算は普通。10/3 も普通に float になる。\n",
        "# python の `//` に当たるのは `Math.floor()` かな。\n",
        "# 冪乗は `**` で Python と同じ!!!!\n",
        "%%writefile temp.ts\n",
        "console.log(10 / 3); //=> 3.3333333333333335\n",
        "console.log(10 % 3); //=> 1\n",
        "console.log(Math.floor(-10 / 3)); //=> -4\n",
        "console.log(\"晴れ\" + \"雨\"); //=> 晴れ雨\n",
        "console.log(\"晴れ\" == \"晴れ\"); //=> true\n",
        "console.log(10 ** 3); //=> 1000\n",
        "console.log(Math.pow(10, 3)); //=> 1000"
      ],
      "metadata": {
        "id": "9Uy5HzVoSCoG",
        "outputId": "44fddd23-c71e-4180-b408-eef9c7da1d49",
        "colab": {
          "base_uri": "https://localhost:8080/"
        }
      },
      "execution_count": null,
      "outputs": [
        {
          "output_type": "stream",
          "name": "stdout",
          "text": [
            "Overwriting temp.ts\n"
          ]
        }
      ]
    },
    {
      "cell_type": "code",
      "source": [
        "!tsc temp.ts; echo | node temp.js "
      ],
      "metadata": {
        "id": "17QQAfLEzodJ",
        "outputId": "ec312bc9-d54f-486d-9d75-b7f793471c6d",
        "colab": {
          "base_uri": "https://localhost:8080/"
        }
      },
      "execution_count": null,
      "outputs": [
        {
          "output_type": "stream",
          "name": "stdout",
          "text": [
            "\u001b[33m3.3333333333333335\u001b[39m\n",
            "\u001b[33m1\u001b[39m\n",
            "\u001b[33m-4\u001b[39m\n",
            "晴れ雨\n",
            "\u001b[33mtrue\u001b[39m\n",
            "\u001b[33m1000\u001b[39m\n",
            "\u001b[33m1000\u001b[39m\n"
          ]
        }
      ]
    },
    {
      "cell_type": "code",
      "source": [
        "# if (){} else {}\n",
        "%%writefile temp.ts\n",
        "function checkGuess(answer, guess) {\n",
        "    if (answer == guess) {\n",
        "        return \"hit!!!!\";\n",
        "    } else {\n",
        "        return \"wrong!!!!\";\n",
        "    }\n",
        "};\n",
        "console.log(checkGuess(3,4));"
      ],
      "metadata": {
        "id": "zhbUQ5NlKE66",
        "outputId": "f3652a31-08f0-4a50-f39e-26bb63482383",
        "colab": {
          "base_uri": "https://localhost:8080/"
        }
      },
      "execution_count": null,
      "outputs": [
        {
          "output_type": "stream",
          "name": "stdout",
          "text": [
            "Writing temp.ts\n"
          ]
        }
      ]
    },
    {
      "cell_type": "code",
      "source": [
        "!tsc temp.ts; echo | node temp.js "
      ],
      "metadata": {
        "id": "rpCjE09i1bJg",
        "outputId": "d2f1a40f-8458-484a-da60-6b62ad6054e6",
        "colab": {
          "base_uri": "https://localhost:8080/"
        }
      },
      "execution_count": null,
      "outputs": [
        {
          "output_type": "stream",
          "name": "stdout",
          "text": [
            "wrong!!!!\n"
          ]
        }
      ]
    },
    {
      "cell_type": "code",
      "source": [
        "# 質問 関数定義を let で出来るか。アロー関数式で書けばいいのか。\n",
        "%%writefile temp.ts\n",
        "let checkGuess = (answer : number, guess : number) : string => {\n",
        "    if (answer == guess) {\n",
        "        return \"hit!!!!\";\n",
        "    } else {\n",
        "        return \"wrong!!!!\";\n",
        "    }\n",
        "};\n",
        "console.log(checkGuess(3,4));"
      ],
      "metadata": {
        "id": "oTWnx-Jw0iCt",
        "outputId": "9da3b983-2e85-430b-8285-f4fed98e0071",
        "colab": {
          "base_uri": "https://localhost:8080/"
        }
      },
      "execution_count": null,
      "outputs": [
        {
          "output_type": "stream",
          "name": "stdout",
          "text": [
            "Overwriting temp.ts\n"
          ]
        }
      ]
    },
    {
      "cell_type": "code",
      "source": [
        "!tsc temp.ts; echo | node temp.js "
      ],
      "metadata": {
        "id": "f2vFWuju0h1u",
        "outputId": "98903823-7f0b-4cf1-c0d2-0cd4307b19b2",
        "colab": {
          "base_uri": "https://localhost:8080/"
        }
      },
      "execution_count": null,
      "outputs": [
        {
          "output_type": "stream",
          "name": "stdout",
          "text": [
            "wrong!!!!\n"
          ]
        }
      ]
    },
    {
      "cell_type": "markdown",
      "source": [
        "# いまここ"
      ],
      "metadata": {
        "id": "wACUtmbBfKUg"
      }
    },
    {
      "cell_type": "code",
      "metadata": {
        "id": "Q-MXCqgvHntd",
        "colab": {
          "base_uri": "https://localhost:8080/"
        },
        "outputId": "40781da7-0404-444a-cb9e-e68a8e42a8e1"
      },
      "source": [
        "# 配列 array に型が混在できる\n",
        "%%writefile temp.ts\n",
        "let myNameArray = ['Chris', 'Bob', 'Jim', 37];\n",
        "console.log(myNameArray[0]);\n",
        "console.log(myNameArray[3]);"
      ],
      "execution_count": null,
      "outputs": [
        {
          "output_type": "stream",
          "name": "stdout",
          "text": [
            "Overwriting temp.ts\n"
          ]
        }
      ]
    },
    {
      "cell_type": "code",
      "source": [
        "!tsc temp.ts; echo | node temp.js "
      ],
      "metadata": {
        "id": "A0wTpmAp3iUb",
        "outputId": "80eeebe7-4dfd-41c7-e046-cba5b81b24b1",
        "colab": {
          "base_uri": "https://localhost:8080/"
        }
      },
      "execution_count": null,
      "outputs": [
        {
          "output_type": "stream",
          "name": "stdout",
          "text": [
            "Chris\n",
            "\u001b[33m37\u001b[39m\n"
          ]
        }
      ]
    },
    {
      "cell_type": "code",
      "metadata": {
        "id": "lkJakMjHJlfu",
        "colab": {
          "base_uri": "https://localhost:8080/"
        },
        "outputId": "cfdeabc1-df60-40aa-e2c9-6cf0883147ea"
      },
      "source": [
        "%%writefile temp.ts\n",
        "const months = ['Jan', 'March', 'April', 'June'];\n",
        "months.splice(1, 0, 'Feb'); // inserts at index 1\n",
        "console.log(months); // expected output: Array [\"Jan\", \"Feb\", \"March\", \"April\", \"June\"]\n",
        "months.splice(4, 1, 'May'); // replaces 1 element at index 4\n",
        "console.log(months); // expected output: Array [\"Jan\", \"Feb\", \"March\", \"April\", \"May\"]"
      ],
      "execution_count": null,
      "outputs": [
        {
          "output_type": "stream",
          "name": "stdout",
          "text": [
            "Overwriting temp.ts\n"
          ]
        }
      ]
    },
    {
      "cell_type": "code",
      "source": [
        "!tsc temp.ts; echo | node temp.js "
      ],
      "metadata": {
        "id": "xfHR11pD3zJN",
        "outputId": "e19a5fe4-5c4f-4e09-856f-ec214c272b42",
        "colab": {
          "base_uri": "https://localhost:8080/"
        }
      },
      "execution_count": null,
      "outputs": [
        {
          "output_type": "stream",
          "name": "stdout",
          "text": [
            "[ \u001b[32m'Jan'\u001b[39m, \u001b[32m'Feb'\u001b[39m, \u001b[32m'March'\u001b[39m, \u001b[32m'April'\u001b[39m, \u001b[32m'June'\u001b[39m ]\n",
            "[ \u001b[32m'Jan'\u001b[39m, \u001b[32m'Feb'\u001b[39m, \u001b[32m'March'\u001b[39m, \u001b[32m'April'\u001b[39m, \u001b[32m'May'\u001b[39m ]\n"
          ]
        }
      ]
    },
    {
      "cell_type": "code",
      "metadata": {
        "id": "Gh_XIzVG-I3i",
        "colab": {
          "base_uri": "https://localhost:8080/"
        },
        "outputId": "65856680-4c03-4e72-be4e-0447a216edeb"
      },
      "source": [
        "# 多重配列\n",
        "%%writefile temp.ts\n",
        "let x = Array(3);\n",
        "for (let i = 0; i < x.length; i++) x[i] =  Array(2);\n",
        "for (let i = 0; i < x.length; i++) for (let j= 0; j < (x[i]).length; j++) x[i][j] = 0\n",
        "x.splice(1,0,\"error!!!\");\n",
        "console.log(x);"
      ],
      "execution_count": null,
      "outputs": [
        {
          "output_type": "stream",
          "name": "stdout",
          "text": [
            "Overwriting temp.ts\n"
          ]
        }
      ]
    },
    {
      "cell_type": "code",
      "source": [
        "!tsc temp.ts; echo | node temp.js "
      ],
      "metadata": {
        "id": "goBAmBC44WWB",
        "outputId": "1e951887-fce9-4c72-ebd1-d11ca2b99108",
        "colab": {
          "base_uri": "https://localhost:8080/"
        }
      },
      "execution_count": null,
      "outputs": [
        {
          "output_type": "stream",
          "name": "stdout",
          "text": [
            "[ [ \u001b[33m0\u001b[39m, \u001b[33m0\u001b[39m ], \u001b[32m'error!!!'\u001b[39m, [ \u001b[33m0\u001b[39m, \u001b[33m0\u001b[39m ], [ \u001b[33m0\u001b[39m, \u001b[33m0\u001b[39m ] ]\n"
          ]
        }
      ]
    },
    {
      "cell_type": "code",
      "metadata": {
        "id": "ju8-mzQDAOaw",
        "colab": {
          "base_uri": "https://localhost:8080/"
        },
        "outputId": "6a0c2c95-0f79-4534-99e4-d1b88294e2df"
      },
      "source": [
        "# map 多重配列\n",
        "%%writefile temp.ts\n",
        "let a = Array(3).fill(0).map(x => Array(2).fill(0)) \n",
        "console.log(a)"
      ],
      "execution_count": null,
      "outputs": [
        {
          "output_type": "stream",
          "name": "stdout",
          "text": [
            "Overwriting temp.ts\n"
          ]
        }
      ]
    },
    {
      "cell_type": "code",
      "source": [
        "!tsc temp.ts; echo | node temp.js "
      ],
      "metadata": {
        "id": "2v3F4l4T6dHF",
        "outputId": "0601750f-7f30-4e46-ae29-987f936181e1",
        "colab": {
          "base_uri": "https://localhost:8080/"
        }
      },
      "execution_count": null,
      "outputs": [
        {
          "output_type": "stream",
          "name": "stdout",
          "text": [
            "[ [ \u001b[33m0\u001b[39m, \u001b[33m0\u001b[39m ], [ \u001b[33m0\u001b[39m, \u001b[33m0\u001b[39m ], [ \u001b[33m0\u001b[39m, \u001b[33m0\u001b[39m ] ]\n"
          ]
        }
      ]
    },
    {
      "cell_type": "code",
      "source": [
        "# オブジェクト 連想配列のこと\n",
        "# let dog = { name : 'ポチ', breed : 'ダルメシアン' };\n",
        "# `typeof()` というので型を調べられるらしいのでホントにオブジェクトというのか確認する。\n",
        "%%writefile temp.ts\n",
        "let myNameArray = ['Chris', 'Bob', 'Jim', 37];\n",
        "let myNumberArray = [10, 15, 40];\n",
        "let myAge = myNameArray[3];\n",
        "let dog = { name: 'ポチ', breed: 'ダルメシアン' };\n",
        "console.log(typeof (myAge)); //=> number\n",
        "console.log(typeof (myNameArray)); //=> object\n",
        "console.log(typeof (dog)); //=> object"
      ],
      "metadata": {
        "id": "qaGaLLw7IXG6",
        "outputId": "027096e8-779f-4c85-b5bd-5800432b8661",
        "colab": {
          "base_uri": "https://localhost:8080/"
        }
      },
      "execution_count": null,
      "outputs": [
        {
          "output_type": "stream",
          "name": "stdout",
          "text": [
            "Overwriting temp.ts\n"
          ]
        }
      ]
    },
    {
      "cell_type": "code",
      "source": [
        "!tsc temp.ts; echo | node temp.js "
      ],
      "metadata": {
        "id": "baDa8cKD7kb1",
        "outputId": "4cd340c4-75b2-4e51-f513-36a871e2a242",
        "colab": {
          "base_uri": "https://localhost:8080/"
        }
      },
      "execution_count": null,
      "outputs": [
        {
          "output_type": "stream",
          "name": "stdout",
          "text": [
            "number\n",
            "object\n",
            "object\n"
          ]
        }
      ]
    },
    {
      "cell_type": "code",
      "source": [
        "# インクリメント・デクリメント\n",
        "%%writefile temp.ts\n",
        "let num = 3\n",
        "\n",
        "console.log(num); //=> 3\n",
        "console.log(num++); //=> 3\n",
        "console.log(num--); //=> 4\n",
        "console.log(num); //=> 3\n",
        "console.log(--num); //=> 2\n",
        "console.log(num); //=> 2"
      ],
      "metadata": {
        "id": "uwK9lmu8dKv_",
        "outputId": "74b71753-3ed1-4726-ca19-f7dfc08db5d2",
        "colab": {
          "base_uri": "https://localhost:8080/"
        }
      },
      "execution_count": null,
      "outputs": [
        {
          "output_type": "stream",
          "name": "stdout",
          "text": [
            "Overwriting temp.ts\n"
          ]
        }
      ]
    },
    {
      "cell_type": "code",
      "source": [
        "!tsc temp.ts; echo | node temp.js "
      ],
      "metadata": {
        "id": "f4Hji-Yt8TYt",
        "outputId": "0167d7c7-e807-4be0-c60a-f3da955c9310",
        "colab": {
          "base_uri": "https://localhost:8080/"
        }
      },
      "execution_count": null,
      "outputs": [
        {
          "output_type": "stream",
          "name": "stdout",
          "text": [
            "\u001b[33m3\u001b[39m\n",
            "\u001b[33m3\u001b[39m\n",
            "\u001b[33m4\u001b[39m\n",
            "\u001b[33m3\u001b[39m\n",
            "\u001b[33m2\u001b[39m\n",
            "\u001b[33m2\u001b[39m\n"
          ]
        }
      ]
    },
    {
      "cell_type": "code",
      "source": [
        "# 文字列、数値変換\n",
        "# `Number()`、`String()`、`toString()`とか。\n",
        "%%writefile temp.ts\n",
        "import * as fs from \"fs\";\n",
        "const inputs = fs.readFileSync(\"/dev/stdin\", \"utf8\");\n",
        "let line = inputs.split('\\n');\n",
        "let number = Number(line[0]);\n",
        "console.log(number ** 2) //=> 49"
      ],
      "metadata": {
        "id": "poUWlVLIfxNt",
        "outputId": "9e1540a4-212a-4294-d37a-9a17f9f14c17",
        "colab": {
          "base_uri": "https://localhost:8080/"
        }
      },
      "execution_count": null,
      "outputs": [
        {
          "output_type": "stream",
          "name": "stdout",
          "text": [
            "Overwriting temp.ts\n"
          ]
        }
      ]
    },
    {
      "cell_type": "code",
      "source": [
        "!tsc temp.ts; echo 7 | node temp.js "
      ],
      "metadata": {
        "id": "yjT5sG7v_7ot",
        "outputId": "9e1c7d4e-331b-46d4-95fa-3118c72108a2",
        "colab": {
          "base_uri": "https://localhost:8080/"
        }
      },
      "execution_count": null,
      "outputs": [
        {
          "output_type": "stream",
          "name": "stdout",
          "text": [
            "\u001b[33m49\u001b[39m\n"
          ]
        }
      ]
    },
    {
      "cell_type": "code",
      "source": [
        "# 文字列の長さは length プロパティ\n",
        "%%writefile temp.ts\n",
        "import * as fs from \"fs\";\n",
        "const inputs = fs.readFileSync(\"/dev/stdin\", \"utf8\");\n",
        "let line = inputs.split('\\n');\n",
        "let str = line[0];\n",
        "console.log(\"長さは \" + str.length) \n",
        "console.log(\"最後の文字は \" + str[str.length - 1]) // str[-1] は使えない\n",
        "console.log(\"z の位置は \" + str.indexOf(\"z\")) // ない時に -1 になる。と言うことはそのままでは真偽値には使えない"
      ],
      "metadata": {
        "id": "HY9vGBSlTX2V",
        "outputId": "e594240b-3556-4dc0-8ae8-bdfe38c44fcd",
        "colab": {
          "base_uri": "https://localhost:8080/"
        }
      },
      "execution_count": null,
      "outputs": [
        {
          "output_type": "stream",
          "name": "stdout",
          "text": [
            "Overwriting temp.ts\n"
          ]
        }
      ]
    },
    {
      "cell_type": "code",
      "source": [
        "!tsc temp.ts; echo 日本語ja | node temp.js  #=> 5"
      ],
      "metadata": {
        "id": "GzO9ZzoZTePW",
        "outputId": "8e17ab55-fd60-4a9f-efc5-1c45e1ebdcf6",
        "colab": {
          "base_uri": "https://localhost:8080/"
        }
      },
      "execution_count": null,
      "outputs": [
        {
          "output_type": "stream",
          "name": "stdout",
          "text": [
            "長さは 5\n",
            "最後の文字は a\n",
            "z の位置は -1\n"
          ]
        }
      ]
    },
    {
      "cell_type": "code",
      "source": [
        "# 文字列はクダブルクオート、シングルクオート、バックティックのどれを使うべきか\n",
        "# 基本的に \" ダブルクオートを使用する\n",
        "# 文字列の中に\"が含まれる場合は ' シングルクオートを使用する\n",
        "# 文字列展開する必要があるときは ` バックティック(バッククオート)を使用する"
      ],
      "metadata": {
        "id": "KebXDOANWqq3"
      },
      "execution_count": null,
      "outputs": []
    },
    {
      "cell_type": "markdown",
      "metadata": {
        "id": "1Oer_s5F_5Ml"
      },
      "source": [
        "真偽値  \n",
        "JavaScript は以下以外はすべて true;  \n",
        "\n",
        "・数値 0、NaN  \n",
        "・null  \n",
        "・undifined  \n",
        "・空文字列  \n",
        "\n",
        "ということは、`[]`、`{}` は true。"
      ]
    },
    {
      "cell_type": "code",
      "metadata": {
        "id": "eGIBg74tGV31",
        "colab": {
          "base_uri": "https://localhost:8080/"
        },
        "outputId": "4001e74b-5350-4185-be95-8eaa6f6ead27"
      },
      "source": [
        "# 問題 クリスマスカード\n",
        "%%writefile temp.ts\n",
        "let greetings = ['Happy Birthday!',\n",
        "    'Merry Christmas my love',\n",
        "    'A happy Christmas to all the family',\n",
        "    'You\\'re all I want for Christmas',\n",
        "    'Get well soon'];\n",
        "\n",
        "for (let i = 0; i < greetings.length; i++) {\n",
        "    let input = greetings[i];\n",
        "    if (greetings[i].indexOf(\"Christmas\") !== -1) {\n",
        "        console.log(input);\n",
        "    }\n",
        "}"
      ],
      "execution_count": null,
      "outputs": [
        {
          "output_type": "stream",
          "name": "stdout",
          "text": [
            "Overwriting temp.ts\n"
          ]
        }
      ]
    },
    {
      "cell_type": "code",
      "source": [
        "!tsc temp.ts; echo | node temp.js"
      ],
      "metadata": {
        "id": "A6zJEZohXLLD",
        "outputId": "0ef94bf6-7de0-4fc6-b77d-9873664d7dda",
        "colab": {
          "base_uri": "https://localhost:8080/"
        }
      },
      "execution_count": null,
      "outputs": [
        {
          "output_type": "stream",
          "name": "stdout",
          "text": [
            "Merry Christmas my love\n",
            "A happy Christmas to all the family\n",
            "You're all I want for Christmas\n"
          ]
        }
      ]
    },
    {
      "cell_type": "code",
      "source": [
        "# 問題 A Product\n",
        "# AtCoder Beginners Selection\n",
        "# a, b の積が偶数なら Even 奇数なら Odd と出力する\n",
        "%%writefile temp.ts\n",
        "import * as fs from \"fs\";\n",
        "const inputs : string = fs.readFileSync(\"/dev/stdin\", \"utf8\");\n",
        "const args : number [] = inputs\n",
        "   .split('\\n')[0]\n",
        "   .split(' ')\n",
        "   .map ((n) => Number(n));\n",
        "\n",
        "const a : number = args[0]\n",
        "const b : number = args[1]\n",
        "\n",
        "if ((a * b) % 2 === 0) {\n",
        "    console.log('Even');\n",
        "} else {\n",
        "    console.log('Odd');\n",
        "}"
      ],
      "metadata": {
        "id": "Z1dr2uV-vVlB",
        "outputId": "e7edb91d-c7d5-46f8-de52-20184bc20210",
        "colab": {
          "base_uri": "https://localhost:8080/"
        }
      },
      "execution_count": null,
      "outputs": [
        {
          "output_type": "stream",
          "name": "stdout",
          "text": [
            "Overwriting temp.ts\n"
          ]
        }
      ]
    },
    {
      "cell_type": "code",
      "source": [
        "!tsc temp.ts; echo 3 4 | node temp.js #=> Even\n",
        "!tsc temp.ts; echo 1 21 | node temp.js #=> Odd"
      ],
      "metadata": {
        "id": "oiCIDrrgvVe1",
        "outputId": "4e3fde32-2e06-441b-e48c-67cb41f75c67",
        "colab": {
          "base_uri": "https://localhost:8080/"
        }
      },
      "execution_count": null,
      "outputs": [
        {
          "output_type": "stream",
          "name": "stdout",
          "text": [
            "Even\n",
            "Odd\n"
          ]
        }
      ]
    },
    {
      "cell_type": "code",
      "source": [
        "# 問題 A - Placing Marbles \n",
        "# AtCoder Beginners Selection\n",
        "# 3 つのマスからなるマス目。各マスには 0 か 1 が書かれている。\n",
        "# 1 の数を出力する\n",
        "\n",
        "%%writefile temp.ts\n",
        "import * as fs from \"fs\";\n",
        "const inputs : string = fs.readFileSync(\"/dev/stdin\", \"utf8\");\n",
        "const args : number [] = inputs\n",
        "   .split('\\n')[0]\n",
        "   .split('')\n",
        "   .map ((n) => Number(n));\n",
        "\n",
        "// sum 合計を算出する\n",
        "console.log(args.reduce(function(a, b) { return a + b; }, 0))"
      ],
      "metadata": {
        "id": "5gaBMkwyyd56",
        "outputId": "252844b0-db1a-49e5-a187-f07ed0905839",
        "colab": {
          "base_uri": "https://localhost:8080/"
        }
      },
      "execution_count": null,
      "outputs": [
        {
          "output_type": "stream",
          "name": "stdout",
          "text": [
            "Overwriting temp.ts\n"
          ]
        }
      ]
    },
    {
      "cell_type": "code",
      "source": [
        "!tsc temp.ts; echo 101 | node temp.js #=> 2\n",
        "!tsc temp.ts; echo 000 | node temp.js #=> 0"
      ],
      "metadata": {
        "id": "t1MouOLAyd11",
        "outputId": "8aa3d90a-d9a9-4bae-cdba-ea4a59bd00a9",
        "colab": {
          "base_uri": "https://localhost:8080/"
        }
      },
      "execution_count": null,
      "outputs": [
        {
          "output_type": "stream",
          "name": "stdout",
          "text": [
            "\u001b[33m2\u001b[39m\n",
            "\u001b[33m0\u001b[39m\n"
          ]
        }
      ]
    },
    {
      "cell_type": "code",
      "metadata": {
        "id": "tJI4HijtYLpt",
        "colab": {
          "base_uri": "https://localhost:8080/"
        },
        "outputId": "64ab0a87-e364-4fc7-cbe4-edf432cea297"
      },
      "source": [
        "# 問題 都市名\n",
        "# 最初を大文字に、それ以降を小文字にする。\n",
        "%%writefile temp.ts\n",
        "let cities = ['lonDon', 'ManCHESTer', 'BiRmiNGHAM', 'liVERpoOL'];\n",
        "\n",
        "for (let i = 0; i < cities.length; i++) {\n",
        "  let input = cities[i];\n",
        "  input = input.toLowerCase();\n",
        "  let head = input[0]\n",
        "  input = input.replace(head, head.toUpperCase());\n",
        "  console.log(input)\n",
        "}"
      ],
      "execution_count": null,
      "outputs": [
        {
          "output_type": "stream",
          "name": "stdout",
          "text": [
            "Overwriting temp.ts\n"
          ]
        }
      ]
    },
    {
      "cell_type": "code",
      "source": [
        "!tsc temp.ts; echo | node temp.js"
      ],
      "metadata": {
        "id": "bSoSBtpSYL3L",
        "outputId": "bfde090c-d3cd-4042-b9cc-38d2f0ab0f1b",
        "colab": {
          "base_uri": "https://localhost:8080/"
        }
      },
      "execution_count": null,
      "outputs": [
        {
          "output_type": "stream",
          "name": "stdout",
          "text": [
            "London\n",
            "Manchester\n",
            "Birmingham\n",
            "Liverpool\n"
          ]
        }
      ]
    },
    {
      "cell_type": "code",
      "source": [
        "# 問題 都市名\n",
        "# 最初を大文字に、それ以降を小文字にするのを関数化する\n",
        "%%writefile temp.ts\n",
        "let cities = ['lonDon', 'ManCHESTer', 'BiRmiNGHAM', 'liVERpoOL'];\n",
        "\n",
        "let headCapElseLower = (city : string) : string => {\n",
        "    return city.toLowerCase().replace(city[0].toLowerCase(), city[0].toUpperCase())\n",
        "}\n",
        "\n",
        "for (let i = 0; i < cities.length; i++) {\n",
        "    console.log(headCapElseLower(cities[i]))\n",
        "}"
      ],
      "metadata": {
        "id": "v9vzYlGw3ibT",
        "outputId": "7333b2af-50fb-4209-b6a6-ad89e5f55197",
        "colab": {
          "base_uri": "https://localhost:8080/"
        }
      },
      "execution_count": null,
      "outputs": [
        {
          "output_type": "stream",
          "name": "stdout",
          "text": [
            "Overwriting temp.ts\n"
          ]
        }
      ]
    },
    {
      "cell_type": "code",
      "source": [
        "!tsc temp.ts; echo | node temp.js"
      ],
      "metadata": {
        "id": "mziDNDzH3iXL",
        "outputId": "6c3520d1-e54f-42e0-b2d5-ec4c1ea03eba",
        "colab": {
          "base_uri": "https://localhost:8080/"
        }
      },
      "execution_count": null,
      "outputs": [
        {
          "output_type": "stream",
          "name": "stdout",
          "text": [
            "London\n",
            "Manchester\n",
            "Birmingham\n",
            "Liverpool\n"
          ]
        }
      ]
    },
    {
      "cell_type": "code",
      "source": [
        "# 問題 駅コードの抽出\n",
        "# 最初の3文字アルファベットと、セミコロン以下をまとめて編集して出力。\n",
        "%%writefile temp.ts\n",
        "let stations = ['MAN675847583748sjt567654;Manchester Piccadilly',\n",
        "                'GNF576746573fhdg4737dh4;Greenfield',\n",
        "                'LIV5hg65hd737456236dch46dg4;Liverpool Lime Street',\n",
        "                'SYB4f65hf75f736463;Stalybridge',\n",
        "                'HUD5767ghtyfyr4536dh45dg45dg3;Huddersfield'];\n",
        "\n",
        "let stationCode = (station : string) : string => {\n",
        "    let head = station.slice(0,3)\n",
        "    let name = station.slice(station.indexOf(';') + 1,  station.length)\n",
        "    let result = head + \" : \" + name\n",
        "    return result\n",
        "}\n",
        "\n",
        "for (let i = 0; i < stations.length; i++) console.log(stationCode(stations[i]))"
      ],
      "metadata": {
        "id": "GcHmsXOlazeE",
        "colab": {
          "base_uri": "https://localhost:8080/"
        },
        "outputId": "720fd7c9-5072-4eaf-ee9e-c43418dc9b47"
      },
      "execution_count": null,
      "outputs": [
        {
          "output_type": "stream",
          "name": "stdout",
          "text": [
            "Overwriting temp.ts\n"
          ]
        }
      ]
    },
    {
      "cell_type": "code",
      "source": [
        "!tsc temp.ts; echo | node temp.js"
      ],
      "metadata": {
        "colab": {
          "base_uri": "https://localhost:8080/"
        },
        "id": "Oih3CHE4A5FJ",
        "outputId": "92d45a26-ac39-41de-8ff8-e5e3ada936dc"
      },
      "execution_count": null,
      "outputs": [
        {
          "output_type": "stream",
          "name": "stdout",
          "text": [
            "MAN : Manchester Piccadilly\n",
            "GNF : Greenfield\n",
            "LIV : Liverpool Lime Street\n",
            "SYB : Stalybridge\n",
            "HUD : Huddersfield\n"
          ]
        }
      ]
    },
    {
      "cell_type": "code",
      "metadata": {
        "id": "ieBRgfwnZVdl",
        "colab": {
          "base_uri": "https://localhost:8080/"
        },
        "outputId": "ae918dbb-edc8-4472-acc9-fc470c845e53"
      },
      "source": [
        "# 三項演算子かな?\n",
        "%%writefile temp.ts\n",
        "let num1 = 1;\n",
        "let num2 = 2;\n",
        "let numsum = num1 + num2;\n",
        "let num3 = 19;\n",
        "let num4 = 3;\n",
        "let numsub = num3 - num4;\n",
        "let finalResult = numsum * numsub;\n",
        "let evenOddResult = finalResult % 2;\n",
        "\n",
        "let finalResultCheck = finalResult === 48 ? `Yes, well done!` : `No, it is ${ finalResult }`;\n",
        "let para1 = `Is the finalResult 48? ${ finalResultCheck }`;\n",
        "let evenOddResultCheck = evenOddResult === 0 ? 'The final result is even!' : 'The final result is odd. Hrm.'\n",
        "let para2 = evenOddResultCheck;\n",
        "\n",
        "console.log (para1);\n",
        "console.log (para2);"
      ],
      "execution_count": null,
      "outputs": [
        {
          "output_type": "stream",
          "name": "stdout",
          "text": [
            "Overwriting temp.ts\n"
          ]
        }
      ]
    },
    {
      "cell_type": "code",
      "source": [
        "!tsc temp.ts; echo | node temp.js"
      ],
      "metadata": {
        "colab": {
          "base_uri": "https://localhost:8080/"
        },
        "id": "b-H1Xb-ZEE22",
        "outputId": "d89d5f9f-5fe7-472c-ba9e-6704e32a8e15"
      },
      "execution_count": null,
      "outputs": [
        {
          "output_type": "stream",
          "name": "stdout",
          "text": [
            "Is the finalResult 48? Yes, well done!\n",
            "The final result is even!\n"
          ]
        }
      ]
    },
    {
      "cell_type": "code",
      "metadata": {
        "id": "U2qDo_E_bwRz",
        "colab": {
          "base_uri": "https://localhost:8080/"
        },
        "outputId": "c591d7fd-aa89-414a-c32c-0938500187da"
      },
      "source": [
        "# 算数\n",
        "%%writefile temp.ts\n",
        "let result = (7 + 13) / (9 + 7);\n",
        "let result2 = 100 / (2 * 6);\n",
        "\n",
        "console.log (result); // 1.25\n",
        "console.log (result2); // 8.333333333333334\n",
        "\n",
        "result *= result2;\n",
        "console.log (result); // 10.416666666666668\n",
        "\n",
        "let finalResult = result.toFixed(2);\n",
        "console.log (finalResult); // 10.42\n",
        "console.log (typeof(finalResult)); // string\n",
        "let finalNumber = Number(finalResult);\n",
        "\n",
        "let para1 = `Your finalResult is ${ finalResult }`;\n",
        "let finalNumberCheck = isNaN(finalNumber) === false ? 'finalNumber is a number type. Well done!' : `Ooops! finalNumber is not a number.`;\n",
        "let para2 = finalNumberCheck;\n",
        "\n",
        "console.log (para1); // Your finalResult is 10.42\n",
        "console.log (para2); // finalNumber is a number type. Well done!"
      ],
      "execution_count": null,
      "outputs": [
        {
          "output_type": "stream",
          "name": "stdout",
          "text": [
            "Overwriting temp.ts\n"
          ]
        }
      ]
    },
    {
      "cell_type": "code",
      "source": [
        "!tsc temp.ts; echo | node temp.js"
      ],
      "metadata": {
        "colab": {
          "base_uri": "https://localhost:8080/"
        },
        "id": "9H87Gbd0IO4Y",
        "outputId": "19f59bae-8e6a-4998-f617-d30c8faa16db"
      },
      "execution_count": null,
      "outputs": [
        {
          "output_type": "stream",
          "name": "stdout",
          "text": [
            "\u001b[33m1.25\u001b[39m\n",
            "\u001b[33m8.333333333333334\u001b[39m\n",
            "\u001b[33m10.416666666666668\u001b[39m\n",
            "10.42\n",
            "string\n",
            "Your finalResult is 10.42\n",
            "finalNumber is a number type. Well done!\n"
          ]
        }
      ]
    },
    {
      "cell_type": "code",
      "source": [
        "# 問題 算数 3\n",
        "%%writefile temp.ts\n",
        "\n",
        "// Statement 1: The elephant weights less than the mouse\n",
        "let eleWeight = 1000;\n",
        "let mouseWeight = 2;\n",
        "\n",
        "// Statement 2: The Ostrich is taller than the duck\n",
        "let ostrichHeight = 2;\n",
        "let duckHeight = 0.3;\n",
        "\n",
        "// Statement 3: The two passwords match\n",
        "let pwd1 = 'stromboli';\n",
        "let pwd2 = 'stROmBoLi'\n",
        "\n",
        "// Add your code here\n",
        "\n",
        "let weightComparison = eleWeight < mouseWeight;\n",
        "let heightComparison = ostrichHeight > duckHeight;\n",
        "let pwdMatch = pwd1 === pwd2\n",
        "\n",
        "console.log (weightComparison);\n",
        "console.log (heightComparison);\n",
        "console.log (pwdMatch);\n",
        "\n",
        "let weightTest = weightComparison ? 'True — elephants weight less than mice!?' : 'False — of course an elephant is heavier than a mouse!';\n",
        "let heightTest = heightComparison ? 'True — an ostrich is indeed taller than a duck!' : 'False — apparently a duck is taller than an ostrich!?';\n",
        "let pwdTest = pwdMatch ? 'True — the passwords match.' : 'False — the passwords do not match; please check them';\n",
        "\n",
        "console.log (weightTest);\n",
        "console.log (heightTest);\n",
        "console.log (pwdTest);\n",
        "    "
      ],
      "metadata": {
        "id": "hp950eaXgA6h",
        "colab": {
          "base_uri": "https://localhost:8080/"
        },
        "outputId": "6d9eb661-b2b1-40a4-c799-5afccfd1a39a"
      },
      "execution_count": null,
      "outputs": [
        {
          "output_type": "stream",
          "name": "stdout",
          "text": [
            "Overwriting temp.ts\n"
          ]
        }
      ]
    },
    {
      "cell_type": "code",
      "source": [
        "!tsc temp.ts; echo | node temp.js"
      ],
      "metadata": {
        "colab": {
          "base_uri": "https://localhost:8080/"
        },
        "id": "xlqYoI-1I6wt",
        "outputId": "8121b25d-d173-496a-fa6a-8c1e7ffef599"
      },
      "execution_count": null,
      "outputs": [
        {
          "output_type": "stream",
          "name": "stdout",
          "text": [
            "\u001b[33mfalse\u001b[39m\n",
            "\u001b[33mtrue\u001b[39m\n",
            "\u001b[33mfalse\u001b[39m\n",
            "False — of course an elephant is heavier than a mouse!\n",
            "True — an ostrich is indeed taller than a duck!\n",
            "False — the passwords do not match; please check them\n"
          ]
        }
      ]
    },
    {
      "cell_type": "code",
      "source": [
        "# 配列 array JavaScript では配列 array というが実はリストのこと。\n",
        "%%writefile temp.ts\n",
        "\n",
        "let shopping = ['パン', '牛乳', 'チーズ', 'ハム', '麺'];\n",
        "console.log (shopping);\n",
        "console.log (typeof(shopping));\n",
        "\n",
        "console.log (shopping[0]);\n",
        "\n",
        "shopping[0] = 'タヒーニ';\n",
        "console.log (shopping[0]);\n",
        "\n",
        "let sequence = [1, 1, 2, 3, 5, 8, 13];\n",
        "let random = ['tree', 795, [0, 1, 2]];\n",
        "\n",
        "console.log (random[2][2]);\n",
        "console.log (sequence.length);\n",
        "\n",
        "for (let i = 0; i < shopping.length; i++){\n",
        "    console.log (shopping[i]);\n",
        "}"
      ],
      "metadata": {
        "id": "sx_FSpdLnf0C",
        "outputId": "69063683-da09-4af3-b547-276a59a438d2",
        "colab": {
          "base_uri": "https://localhost:8080/"
        }
      },
      "execution_count": null,
      "outputs": [
        {
          "output_type": "stream",
          "name": "stdout",
          "text": [
            "Overwriting temp.ts\n"
          ]
        }
      ]
    },
    {
      "cell_type": "code",
      "source": [
        "!tsc temp.ts; echo | node temp.js"
      ],
      "metadata": {
        "id": "VQDdGYatMCGY",
        "outputId": "c132603e-d2e1-4917-c737-b3bd59ab2706",
        "colab": {
          "base_uri": "https://localhost:8080/"
        }
      },
      "execution_count": null,
      "outputs": [
        {
          "output_type": "stream",
          "name": "stdout",
          "text": [
            "[ \u001b[32m'パン'\u001b[39m, \u001b[32m'牛乳'\u001b[39m, \u001b[32m'チーズ'\u001b[39m, \u001b[32m'ハム'\u001b[39m, \u001b[32m'麺'\u001b[39m ]\n",
            "object\n",
            "パン\n",
            "タヒーニ\n",
            "\u001b[33m2\u001b[39m\n",
            "\u001b[33m7\u001b[39m\n",
            "タヒーニ\n",
            "牛乳\n",
            "チーズ\n",
            "ハム\n",
            "麺\n"
          ]
        }
      ]
    },
    {
      "cell_type": "code",
      "source": [
        "# 配列 push pop shift unshift removedItem\n",
        "%%writefile temp.ts\n",
        "let myData = '札幌,仙台,東京,名古屋,大阪,博多';\n",
        "let myArray = myData.split(',');\n",
        "console.log (myData); // 札幌,仙台,東京,名古屋,大阪,博多\n",
        "console.log (myArray); // [ '札幌', '仙台', '東京', '名古屋', '大阪', '博多' ]\n",
        "console.log (myArray[0]); // 札幌\n",
        "\n",
        "let myNewString = myArray.join (' -> ');\n",
        "console.log (myNewString); // 札幌 -> 仙台 -> 東京 -> 名古屋 -> 大阪 -> 博多\n",
        "\n",
        "let dogNames = ['ポチ','ハチ','タロウ','モコ'];\n",
        "dogNames.toString(); \n",
        "console.log(dogNames.toString()); // ポチ,ハチ,タロウ,モコ\n",
        "console.log (typeof(String (dogNames))); // string\n",
        "\n",
        "myArray.push('横浜');\n",
        "myArray.pop()\n",
        "myArray.pop()\n",
        "myArray.pop()\n",
        "myArray.pop()\n",
        "console.log(myArray) // [ '札幌', '仙台', '東京' ]\n",
        "myArray.push('神戸', '広島');\n",
        "console.log (myArray); // [ '札幌', '仙台', '東京', '神戸', '広島' ]\n",
        "let newLength = myArray.push('京都');\n",
        "console.log (myArray); // [ '札幌', '仙台', '東京', '神戸', '広島', '京都' ]\n",
        "console.log (newLength); // 6\n",
        "let removedItem = myArray.pop();\n",
        "console.log (myArray); // [ '札幌', '仙台', '東京', '神戸', '広島' ]\n",
        "console.log (removedItem); // 京都\n",
        "myArray.unshift('奈良'); \n",
        "console.log (myArray); // [ '奈良', '札幌', '仙台', '東京', '神戸', '広島' ]\n",
        "removedItem = myArray.shift();\n",
        "console.log (myArray); // [ '札幌', '仙台', '東京', '神戸', '広島' ]\n",
        "console.log (removedItem); // 奈良"
      ],
      "metadata": {
        "id": "B8uTXQzHs6U1",
        "colab": {
          "base_uri": "https://localhost:8080/"
        },
        "outputId": "07cf4c0c-608d-4836-e8a9-37cced4dd4f0"
      },
      "execution_count": null,
      "outputs": [
        {
          "output_type": "stream",
          "name": "stdout",
          "text": [
            "Overwriting temp.ts\n"
          ]
        }
      ]
    },
    {
      "cell_type": "code",
      "source": [
        "!tsc temp.ts; echo | node temp.js"
      ],
      "metadata": {
        "colab": {
          "base_uri": "https://localhost:8080/"
        },
        "id": "LFHvmkFOhIpM",
        "outputId": "51e5c1e0-02cb-44ac-f427-25b23ad89cc4"
      },
      "execution_count": null,
      "outputs": [
        {
          "output_type": "stream",
          "name": "stdout",
          "text": [
            "札幌,仙台,東京,名古屋,大阪,博多\n",
            "[ \u001b[32m'札幌'\u001b[39m, \u001b[32m'仙台'\u001b[39m, \u001b[32m'東京'\u001b[39m, \u001b[32m'名古屋'\u001b[39m, \u001b[32m'大阪'\u001b[39m, \u001b[32m'博多'\u001b[39m ]\n",
            "札幌\n",
            "札幌 -> 仙台 -> 東京 -> 名古屋 -> 大阪 -> 博多\n",
            "ポチ,ハチ,タロウ,モコ\n",
            "string\n",
            "[ \u001b[32m'札幌'\u001b[39m, \u001b[32m'仙台'\u001b[39m, \u001b[32m'東京'\u001b[39m ]\n",
            "[ \u001b[32m'札幌'\u001b[39m, \u001b[32m'仙台'\u001b[39m, \u001b[32m'東京'\u001b[39m, \u001b[32m'神戸'\u001b[39m, \u001b[32m'広島'\u001b[39m ]\n",
            "[ \u001b[32m'札幌'\u001b[39m, \u001b[32m'仙台'\u001b[39m, \u001b[32m'東京'\u001b[39m, \u001b[32m'神戸'\u001b[39m, \u001b[32m'広島'\u001b[39m, \u001b[32m'京都'\u001b[39m ]\n",
            "\u001b[33m6\u001b[39m\n",
            "[ \u001b[32m'札幌'\u001b[39m, \u001b[32m'仙台'\u001b[39m, \u001b[32m'東京'\u001b[39m, \u001b[32m'神戸'\u001b[39m, \u001b[32m'広島'\u001b[39m ]\n",
            "京都\n",
            "[ \u001b[32m'奈良'\u001b[39m, \u001b[32m'札幌'\u001b[39m, \u001b[32m'仙台'\u001b[39m, \u001b[32m'東京'\u001b[39m, \u001b[32m'神戸'\u001b[39m, \u001b[32m'広島'\u001b[39m ]\n",
            "[ \u001b[32m'札幌'\u001b[39m, \u001b[32m'仙台'\u001b[39m, \u001b[32m'東京'\u001b[39m, \u001b[32m'神戸'\u001b[39m, \u001b[32m'広島'\u001b[39m ]\n",
            "奈良\n"
          ]
        }
      ]
    },
    {
      "cell_type": "code",
      "source": [
        "# 問題 商品の印字\n",
        "%%writefile temp.ts\n",
        "let total = 0;\n",
        "\n",
        "let products = [\n",
        "    'パンツ:6.99', \n",
        "    '靴下:5.99', \n",
        "    'T シャツ:14.99', \n",
        "    'ズボン:31.99', \n",
        "    '靴:23.99'\n",
        "]\n",
        "\n",
        "for (let i = 0; i < (products.length); i++) {\n",
        "    let product = products[i].split(':')[0];\n",
        "    let price = products[i].split(':')[1];\n",
        "    total += Number(price)\n",
        "    console.log (`${product} -- \\$${price}`)\n",
        "}\n",
        "console.log ('合計: $' + total.toFixed(2));\n"
      ],
      "metadata": {
        "id": "4f-XFOEHeEIB",
        "colab": {
          "base_uri": "https://localhost:8080/"
        },
        "outputId": "d3cea12c-70be-4c46-c137-bad838cbec58"
      },
      "execution_count": null,
      "outputs": [
        {
          "output_type": "stream",
          "name": "stdout",
          "text": [
            "Overwriting temp.ts\n"
          ]
        }
      ]
    },
    {
      "cell_type": "code",
      "source": [
        "!tsc temp.ts; echo | node temp.js"
      ],
      "metadata": {
        "id": "ub2n78ohwf6i",
        "outputId": "81f94967-9255-4d3a-b529-b659e2ebc81e",
        "colab": {
          "base_uri": "https://localhost:8080/"
        }
      },
      "execution_count": null,
      "outputs": [
        {
          "output_type": "stream",
          "name": "stdout",
          "text": [
            "パンツ -- $6.99\n",
            "靴下 -- $5.99\n",
            "T シャツ -- $14.99\n",
            "ズボン -- $31.99\n",
            "靴 -- $23.99\n",
            "合計: $83.95\n"
          ]
        }
      ]
    },
    {
      "cell_type": "code",
      "source": [
        "# javascript では primitive にメソッドを作用させられる\n",
        "%%writefile temp.ts\n",
        "console.log(\"hello\".toUpperCase())"
      ],
      "metadata": {
        "id": "tAfOkcQYLDuD",
        "outputId": "571c0c6e-5fa7-494f-e394-d0f5fbd754be",
        "colab": {
          "base_uri": "https://localhost:8080/"
        }
      },
      "execution_count": null,
      "outputs": [
        {
          "output_type": "stream",
          "name": "stdout",
          "text": [
            "Writing temp.ts\n"
          ]
        }
      ]
    },
    {
      "cell_type": "code",
      "source": [
        "!tsc temp.ts; echo | node temp.js"
      ],
      "metadata": {
        "id": "26DEPvrvLDpd",
        "outputId": "d1c74bc8-0909-4077-d8c0-615e09fde066",
        "colab": {
          "base_uri": "https://localhost:8080/"
        }
      },
      "execution_count": null,
      "outputs": [
        {
          "output_type": "stream",
          "name": "stdout",
          "text": [
            "HELO\n"
          ]
        }
      ]
    },
    {
      "cell_type": "code",
      "source": [
        "# undefined も null もプリミティブ型の値という点は共通していますが、\n",
        "# undefined は変数であり null はリテラルです。\n",
        "# null はリテラルなので null という名前の変数を作ることはできません。\n",
        "# 一方で undefined はリテラルではなく変数なので、undefined という変数を作ることはできます。\n",
        "%%writefile temp.ts\n",
        "console.log(typeof undefined); // \"undefined\"\n",
        "console.log(typeof null); // \"object\"\n",
        "console.log(JSON.stringify({ foo: undefined })); // {}\n",
        "console.log(JSON.stringify({ foo: null })); // {\"foo\": null}"
      ],
      "metadata": {
        "id": "-qxQf64mE7md",
        "colab": {
          "base_uri": "https://localhost:8080/"
        },
        "outputId": "152f6766-bcdf-4ea3-9b03-37cfa06b920a"
      },
      "execution_count": null,
      "outputs": [
        {
          "output_type": "stream",
          "name": "stdout",
          "text": [
            "Overwriting temp.ts\n"
          ]
        }
      ]
    },
    {
      "cell_type": "code",
      "source": [
        "!tsc temp.ts; echo | node temp.js"
      ],
      "metadata": {
        "id": "7tQeZ1KYE8g8",
        "colab": {
          "base_uri": "https://localhost:8080/"
        },
        "outputId": "cd53f2f0-3f04-4c6e-f020-0d8a6fab8b7c"
      },
      "execution_count": null,
      "outputs": [
        {
          "output_type": "stream",
          "name": "stdout",
          "text": [
            "undefined\n",
            "object\n",
            "{}\n",
            "{\"foo\":null}\n"
          ]
        }
      ]
    },
    {
      "cell_type": "code",
      "source": [
        "# シンボル型\n",
        "# Ruby のシンボル的なことは、JavaScript や TypeScript では文字列を用いて解決します\n",
        "# 互換性のためにあるのであって、使わない\n",
        "%%writefile temp.ts\n",
        "const s1 = Symbol(\"foo\");\n",
        "const s2 = Symbol(\"foo\");\n",
        "console.log(s1 === s1); // true\n",
        "console.log(s1 === s2); // error This condition will always return 'false' since ..."
      ],
      "metadata": {
        "colab": {
          "base_uri": "https://localhost:8080/"
        },
        "id": "S1ewbRAmbpyG",
        "outputId": "f4a397e7-373c-46c7-c9f7-c9343dfa0fef"
      },
      "execution_count": null,
      "outputs": [
        {
          "output_type": "stream",
          "name": "stdout",
          "text": [
            "Overwriting temp.ts\n"
          ]
        }
      ]
    },
    {
      "cell_type": "code",
      "source": [
        "!tsc temp.ts; echo | node temp.js"
      ],
      "metadata": {
        "id": "QX7FuBDRbu67"
      },
      "execution_count": null,
      "outputs": []
    },
    {
      "cell_type": "code",
      "source": [
        "# オブジェクトリテラル\n",
        "# 広く使われるデータシリアライズ形式に JSON があるのはご存知でしょう。\n",
        "# JSON は多くのプログラミング言語で用いられていますが、JSON は JavaScript Object Notation の略で、\n",
        "# JSON の由来は JavaScript のオブジェクトリテラルにあります。\n",
        "# そして、JavaScript では JSON をそのままオブジェクトリテラルとして解釈できます。"
      ],
      "metadata": {
        "id": "kxGrtiujjBJi"
      },
      "execution_count": null,
      "outputs": []
    },
    {
      "cell_type": "code",
      "source": [
        "# 配列のコピー => 通常の代入ではダメでスプレッド構文 `...` を使う\n",
        "%%writefile temp.ts\n",
        "const arr = [1, 2, 3];\n",
        "const arr2 = arr;\n",
        "const arr3 = [...arr]\n",
        "arr.push(4)\n",
        "console.log(arr)\n",
        "console.log(arr2)\n",
        "console.log(arr3)"
      ],
      "metadata": {
        "id": "Wj-_OwqYloms",
        "outputId": "cf250216-93db-4f8c-b753-631de62e61ae",
        "colab": {
          "base_uri": "https://localhost:8080/"
        }
      },
      "execution_count": null,
      "outputs": [
        {
          "output_type": "stream",
          "name": "stdout",
          "text": [
            "Overwriting temp.ts\n"
          ]
        }
      ]
    },
    {
      "cell_type": "code",
      "source": [
        "!tsc temp.ts; echo | node temp.js"
      ],
      "metadata": {
        "id": "NcbvQTpAl09A",
        "outputId": "4c4aea91-37e1-438d-fd27-0d8be25ca280",
        "colab": {
          "base_uri": "https://localhost:8080/"
        }
      },
      "execution_count": null,
      "outputs": [
        {
          "output_type": "stream",
          "name": "stdout",
          "text": [
            "[ \u001b[33m1\u001b[39m, \u001b[33m2\u001b[39m, \u001b[33m3\u001b[39m, \u001b[33m4\u001b[39m ]\n",
            "[ \u001b[33m1\u001b[39m, \u001b[33m2\u001b[39m, \u001b[33m3\u001b[39m, \u001b[33m4\u001b[39m ]\n",
            "[ \u001b[33m1\u001b[39m, \u001b[33m2\u001b[39m, \u001b[33m3\u001b[39m ]\n"
          ]
        }
      ]
    },
    {
      "cell_type": "code",
      "source": [
        "# 配列の連結\n",
        "%%writefile temp.ts\n",
        "const arr = [1, 2, 3];\n",
        "const arr2 = [4, 5, 6];\n",
        "const concat = [...arr, ...arr2];\n",
        "// const cocat02 = arr + arr2\n",
        "const concat03 = arr.concat(arr2)\n",
        "console.log(concat)\n",
        "// console.log(concat02)\n",
        "console.log(concat03)"
      ],
      "metadata": {
        "id": "LMeAlARzmzbg",
        "outputId": "309af79f-2e06-4670-f88d-e470ed5beebd",
        "colab": {
          "base_uri": "https://localhost:8080/"
        }
      },
      "execution_count": null,
      "outputs": [
        {
          "output_type": "stream",
          "name": "stdout",
          "text": [
            "Overwriting temp.ts\n"
          ]
        }
      ]
    },
    {
      "cell_type": "code",
      "source": [
        "!tsc temp.ts; echo | node temp.js"
      ],
      "metadata": {
        "id": "-u3cNnGEnLzD",
        "outputId": "88bed296-4560-4687-f0ba-3916216b7848",
        "colab": {
          "base_uri": "https://localhost:8080/"
        }
      },
      "execution_count": null,
      "outputs": [
        {
          "output_type": "stream",
          "name": "stdout",
          "text": [
            "[ \u001b[33m1\u001b[39m, \u001b[33m2\u001b[39m, \u001b[33m3\u001b[39m, \u001b[33m4\u001b[39m, \u001b[33m5\u001b[39m, \u001b[33m6\u001b[39m ]\n",
            "[ \u001b[33m1\u001b[39m, \u001b[33m2\u001b[39m, \u001b[33m3\u001b[39m, \u001b[33m4\u001b[39m, \u001b[33m5\u001b[39m, \u001b[33m6\u001b[39m ]\n"
          ]
        }
      ]
    },
    {
      "cell_type": "code",
      "source": [
        "# JavaScript のオブジェクト指向はプロトタイプベースである"
      ],
      "metadata": {
        "id": "P_MuYagXnfIF"
      },
      "execution_count": null,
      "outputs": []
    },
    {
      "cell_type": "code",
      "source": [
        "# 配列の比較\n",
        "%%writefile temp.ts\n",
        "console.log(3 ==3) // true\n",
        "const a = [1,2,3]\n",
        "const b = [1,2,3]\n",
        "console.log(a == b) // false"
      ],
      "metadata": {
        "id": "TfojjhDHnfDp",
        "outputId": "e0d2594f-51ef-4897-a60f-6423d2a79b3e",
        "colab": {
          "base_uri": "https://localhost:8080/"
        }
      },
      "execution_count": null,
      "outputs": [
        {
          "output_type": "stream",
          "name": "stdout",
          "text": [
            "Overwriting temp.ts\n"
          ]
        }
      ]
    },
    {
      "cell_type": "code",
      "source": [
        "!tsc temp.ts; echo | node temp.js"
      ],
      "metadata": {
        "id": "Mba5YCMsMPib"
      },
      "execution_count": null,
      "outputs": []
    },
    {
      "cell_type": "code",
      "source": [
        "# 配列の非破壊的メソッド\n",
        "%%html\n",
        "<style>\n",
        "    tr td:nth-child(1) {\n",
        "        color: red;\n",
        "        text-align: center;\n",
        "    }\n",
        "</style>\n",
        "<table border=\"1\">\n",
        "<thead>\n",
        "<tr><th>メソッド</th><th>操作</th></tr>\n",
        "</thead>\n",
        "<tbody>\n",
        "<tr><td>concat</td><td>2つ以上の配列を結合した配列を返す</td></tr>\n",
        "<tr><td>find</td><td>提供されたテスト関数を満たす配列内の最初の要素を返す</td></tr>\n",
        "<tr><td>findIndex</td><td>配列内の指定されたテスト関数を満たす最初の要素の位置を返す</td></tr>\n",
        "<tr><td>lastIndexOf</td><td>配列中で与えられた要素が見つかった最後のインデックスを返す</td></tr>\n",
        "<tr><td>slice</td><td>配列の一部を切り出して返す</td></tr>\n",
        "<tr><td>includes</td><td>配列に任意の要素が含まれているかをtrueかfalseで返す</td></tr>\n",
        "<tr><td>indexOf</td><td>引数に与えられた内容と同じ内容を持つ最初の配列要素のインデックスを返す</td></tr>\n",
        "<tr><td>join</td><td>全要素を連結した文字列を返す</td></tr>\n",
        "<tr><td>keys</td><td>配列のインデックスをArray Iteratorオブジェクトで返す</td></tr>\n",
        "<tr><td>entries</td><td>配列のインデックスと値のペアをArray Iteratorオブジェクトで返す</td></tr>\n",
        "<tr><td>values</td><td>配列の値をArray Iteratorオブジェクトで返す</td></tr>\n",
        "<tr><td>forEach</td><td>与えられた関数を、配列の各要素に対して一度ずつ実行する</td></tr>\n",
        "<tr><td>filter</td><td>与えられた関数によって実装されたテストに合格したすべての配列からなる新しい配列を返す</td></tr>\n",
        "<tr><td>flat</td><td>すべてのサブ配列の要素を指定した深さで再帰的に結合した新しい配列を返す</td></tr>\n",
        "<tr><td>flatMap</td><td>最初にマッピング関数を使用してそれぞれの要素をマップした後、結果を新しい配列内にフラット化する</td></tr>\n",
        "<tr><td>map</td><td>与えられた関数を配列のすべての要素に対して呼び出し、その結果からなる新しい配列を返す</td></tr>\n",
        "<tr><td>every</td><td>列内のすべての要素が指定された関数で実装されたテストに合格するかどうかをテストする</td></tr>\n",
        "<tr><td>some</td><td>配列の少なくともひとつの要素が、指定された関数で実装されたテストに合格するかどうかをテストする</td></tr>\n",
        "<tr><td>reduce</td><td>配列のそれぞれの要素に対してユーザーが提供した「縮小」コールバック関数を呼び出す</td></tr>\n",
        "<tr><td>reduceRight</td><td>アキュームレーターと配列のそれぞれの値に対して (右から左へ) 関数を適用して、単一の値にする</td></tr>\n",
        "</tbody>\n",
        "</table>"
      ],
      "metadata": {
        "id": "SXEooo1POPXe",
        "outputId": "f36192de-dd9a-4e65-a624-8f8d6121ae2f",
        "colab": {
          "base_uri": "https://localhost:8080/",
          "height": 503
        }
      },
      "execution_count": null,
      "outputs": [
        {
          "output_type": "display_data",
          "data": {
            "text/plain": [
              "<IPython.core.display.HTML object>"
            ],
            "text/html": [
              "<style>\n",
              "    tr td:nth-child(1) {\n",
              "        color: red;\n",
              "        text-align: center;\n",
              "    }\n",
              "</style>\n",
              "<table border=\"1\">\n",
              "<thead>\n",
              "<tr><th>メソッド</th><th>操作</th></tr>\n",
              "</thead>\n",
              "<tbody>\n",
              "<tr><td>concat</td><td>2つ以上の配列を結合した配列を返す</td></tr>\n",
              "<tr><td>find</td><td>提供されたテスト関数を満たす配列内の最初の要素を返す</td></tr>\n",
              "<tr><td>findIndex</td><td>配列内の指定されたテスト関数を満たす最初の要素の位置を返す</td></tr>\n",
              "<tr><td>lastIndexOf</td><td>配列中で与えられた要素が見つかった最後のインデックスを返す</td></tr>\n",
              "<tr><td>slice</td><td>配列の一部を切り出して返す</td></tr>\n",
              "<tr><td>includes</td><td>配列に任意の要素が含まれているかをtrueかfalseで返す</td></tr>\n",
              "<tr><td>indexOf</td><td>引数に与えられた内容と同じ内容を持つ最初の配列要素のインデックスを返す</td></tr>\n",
              "<tr><td>join</td><td>全要素を連結した文字列を返す</td></tr>\n",
              "<tr><td>keys</td><td>配列のインデックスをArray Iteratorオブジェクトで返す</td></tr>\n",
              "<tr><td>entries</td><td>配列のインデックスと値のペアをArray Iteratorオブジェクトで返す</td></tr>\n",
              "<tr><td>values</td><td>配列の値をArray Iteratorオブジェクトで返す</td></tr>\n",
              "<tr><td>forEach</td><td>与えられた関数を、配列の各要素に対して一度ずつ実行する</td></tr>\n",
              "<tr><td>filter</td><td>与えられた関数によって実装されたテストに合格したすべての配列からなる新しい配列を返す</td></tr>\n",
              "<tr><td>flat</td><td>すべてのサブ配列の要素を指定した深さで再帰的に結合した新しい配列を返す</td></tr>\n",
              "<tr><td>flatMap</td><td>最初にマッピング関数を使用してそれぞれの要素をマップした後、結果を新しい配列内にフラット化する</td></tr>\n",
              "<tr><td>map</td><td>与えられた関数を配列のすべての要素に対して呼び出し、その結果からなる新しい配列を返す</td></tr>\n",
              "<tr><td>every</td><td>列内のすべての要素が指定された関数で実装されたテストに合格するかどうかをテストする</td></tr>\n",
              "<tr><td>some</td><td>配列の少なくともひとつの要素が、指定された関数で実装されたテストに合格するかどうかをテストする</td></tr>\n",
              "<tr><td>reduce</td><td>配列のそれぞれの要素に対してユーザーが提供した「縮小」コールバック関数を呼び出す</td></tr>\n",
              "<tr><td>reduceRight</td><td>アキュームレーターと配列のそれぞれの値に対して (右から左へ) 関数を適用して、単一の値にする</td></tr>\n",
              "</tbody>\n",
              "</table>"
            ]
          },
          "metadata": {}
        }
      ]
    },
    {
      "cell_type": "code",
      "source": [
        "# 配列の破壊的メソッド\n",
        "%%html\n",
        "<style>\n",
        "    tr td:nth-child(1) {\n",
        "        color: red;\n",
        "        text-align: center;\n",
        "    }\n",
        "</style>\n",
        "<table border=\"1\">\n",
        "<thead>\n",
        "<tr><th>メソッド</th><th>操作</th></tr>\n",
        "</thead>\n",
        "<tbody>\n",
        "<tr><td>push</td><td>配列の末尾に要素を追加する</td></tr>\n",
        "<tr><td>unshift</td><td>配列の最初に要素を追加する</td></tr>\n",
        "<tr><td>pop</td><td>配列から最後の要素を取り除き、その要素を返す</td></tr>\n",
        "<tr><td>shift</td><td>配列から最初の要素を取り除き、その要素を返す</td></tr>\n",
        "<tr><td>splice</td><td>要素を取り除いたり、置き換えたり、新しい要素を追加する</td></tr>\n",
        "<tr><td>sort</td><td>配列の要素をソートする</td></tr>\n",
        "<tr><td>reverse</td><td>配列の要素を逆順に並び替える</td></tr>\n",
        "<tr><td>fill</td><td>開始インデックスから終了インデックスまでのすべての要素を、静的な値に変更した配列を返す</td></tr>\n",
        "<tr><td>copyWithin</td><td>サイズを変更せずに、配列の一部を同じ配列内の別の場所にシャローコピーして返す</td></tr>\n",
        "</tbody>\n",
        "</table>"
      ],
      "metadata": {
        "id": "_yDUzxJZMxDc",
        "outputId": "139fa69d-8078-4583-a531-8606ce71fb90",
        "colab": {
          "base_uri": "https://localhost:8080/",
          "height": 250
        }
      },
      "execution_count": null,
      "outputs": [
        {
          "output_type": "display_data",
          "data": {
            "text/plain": [
              "<IPython.core.display.HTML object>"
            ],
            "text/html": [
              "<style>\n",
              "    tr td:nth-child(1) {\n",
              "        color: red;\n",
              "        text-align: center;\n",
              "    }\n",
              "</style>\n",
              "<table border=\"1\">\n",
              "<thead>\n",
              "<tr><th>メソッド</th><th>操作</th></tr>\n",
              "</thead>\n",
              "<tbody>\n",
              "<tr><td>push</td><td>配列の末尾に要素を追加する</td></tr>\n",
              "<tr><td>unshift</td><td>配列の最初に要素を追加する</td></tr>\n",
              "<tr><td>pop</td><td>配列から最後の要素を取り除き、その要素を返す</td></tr>\n",
              "<tr><td>shift</td><td>配列から最初の要素を取り除き、その要素を返す</td></tr>\n",
              "<tr><td>splice</td><td>要素を取り除いたり、置き換えたり、新しい要素を追加する</td></tr>\n",
              "<tr><td>sort</td><td>配列の要素をソートする</td></tr>\n",
              "<tr><td>reverse</td><td>配列の要素を逆順に並び替える</td></tr>\n",
              "<tr><td>fill</td><td>開始インデックスから終了インデックスまでのすべての要素を、静的な値に変更した配列を返す</td></tr>\n",
              "<tr><td>copyWithin</td><td>サイズを変更せずに、配列の一部を同じ配列内の別の場所にシャローコピーして返す</td></tr>\n",
              "</tbody>\n",
              "</table>"
            ]
          },
          "metadata": {}
        }
      ]
    },
    {
      "cell_type": "code",
      "source": [
        "# 破壊的なメソッドを安全に使う方法 => コピーして使う\n",
        "%%writefile temp.ts\n",
        "const original = [1, 2, 3];\n",
        "const copy = [...original]; // コピーを作る\n",
        "copy.reverse();\n",
        "console.log(original); // 破壊的操作の影響がない [ 1, 2, 3 ]\n",
        "console.log(copy); // [ 3, 2, 1 ]"
      ],
      "metadata": {
        "id": "eW8FFoBFOPRG",
        "outputId": "6cd57477-ad03-4ef0-a500-b69156b3b26e",
        "colab": {
          "base_uri": "https://localhost:8080/"
        }
      },
      "execution_count": null,
      "outputs": [
        {
          "output_type": "stream",
          "name": "stdout",
          "text": [
            "Writing temp.ts\n"
          ]
        }
      ]
    },
    {
      "cell_type": "code",
      "source": [
        "!tsc temp.ts; echo | node temp.js"
      ],
      "metadata": {
        "id": "pRtGKz_fNy-M",
        "outputId": "7c67333a-9657-4ab9-f231-e34f3f442b86",
        "colab": {
          "base_uri": "https://localhost:8080/"
        }
      },
      "execution_count": null,
      "outputs": [
        {
          "output_type": "stream",
          "name": "stdout",
          "text": [
            "[ \u001b[33m1\u001b[39m, \u001b[33m2\u001b[39m, \u001b[33m3\u001b[39m ]\n",
            "[ \u001b[33m3\u001b[39m, \u001b[33m2\u001b[39m, \u001b[33m1\u001b[39m ]\n"
          ]
        }
      ]
    },
    {
      "cell_type": "code",
      "source": [
        "# 一行に書く\n",
        "%%writefile temp.ts\n",
        "const original = [1, 2, 3];\n",
        "const reversed = [...original].reverse();\n",
        "console.log(original); // 破壊的操作の影響がない [ 1, 2, 3 ]\n",
        "console.log(reversed); // [ 3, 2, 1 ]"
      ],
      "metadata": {
        "id": "wARzuuk_N-Za",
        "outputId": "26e2d085-74f7-45db-ad19-9b44b18905f1",
        "colab": {
          "base_uri": "https://localhost:8080/"
        }
      },
      "execution_count": null,
      "outputs": [
        {
          "output_type": "stream",
          "name": "stdout",
          "text": [
            "Overwriting temp.ts\n"
          ]
        }
      ]
    },
    {
      "cell_type": "code",
      "source": [
        "!tsc temp.ts; echo | node temp.js"
      ],
      "metadata": {
        "id": "FekbavFEOOCt",
        "outputId": "dc6b7e33-42d3-4cae-bd57-ebeadd92c339",
        "colab": {
          "base_uri": "https://localhost:8080/"
        }
      },
      "execution_count": null,
      "outputs": [
        {
          "output_type": "stream",
          "name": "stdout",
          "text": [
            "[ \u001b[33m1\u001b[39m, \u001b[33m2\u001b[39m, \u001b[33m3\u001b[39m ]\n",
            "[ \u001b[33m3\u001b[39m, \u001b[33m2\u001b[39m, \u001b[33m1\u001b[39m ]\n"
          ]
        }
      ]
    },
    {
      "cell_type": "code",
      "source": [
        "# for-of 文\n",
        "%%writefile temp.ts\n",
        "const arr = [\"a\", \"b\", \"c\"];\n",
        "for (const value of arr) {\n",
        "  console.log(value); // a b cの順で出力される\n",
        "}"
      ],
      "metadata": {
        "id": "6KQ6kkruQZGW",
        "outputId": "2703a1f0-7748-4670-b217-61fc0ea90300",
        "colab": {
          "base_uri": "https://localhost:8080/"
        }
      },
      "execution_count": null,
      "outputs": [
        {
          "output_type": "stream",
          "name": "stdout",
          "text": [
            "Overwriting temp.ts\n"
          ]
        }
      ]
    },
    {
      "cell_type": "code",
      "source": [
        "!tsc temp.ts; echo | node temp.js"
      ],
      "metadata": {
        "id": "sL9NNdvTQY9v",
        "outputId": "9007ae45-e7ad-477b-afa4-48d8f5b31cc5",
        "colab": {
          "base_uri": "https://localhost:8080/"
        }
      },
      "execution_count": null,
      "outputs": [
        {
          "output_type": "stream",
          "name": "stdout",
          "text": [
            "a\n",
            "b\n",
            "c\n"
          ]
        }
      ]
    },
    {
      "cell_type": "code",
      "source": [
        "# forEach \n",
        "%%writefile temp.ts\n",
        "const arr = [\"a\", \"b\", \"c\"];\n",
        "arr.forEach((value, i) => {\n",
        "  console.log(value, i);\n",
        "  // a 0\n",
        "  // b 1\n",
        "  // c 2 の順で出力される\n",
        "});"
      ],
      "metadata": {
        "id": "214wos1oQr0L",
        "outputId": "4c3947f1-9d9e-41f6-b864-f877de44584d",
        "colab": {
          "base_uri": "https://localhost:8080/"
        }
      },
      "execution_count": null,
      "outputs": [
        {
          "output_type": "stream",
          "name": "stdout",
          "text": [
            "Overwriting temp.ts\n"
          ]
        }
      ]
    },
    {
      "cell_type": "code",
      "source": [
        "!tsc temp.ts; echo | node temp.js"
      ],
      "metadata": {
        "id": "wdiXj4hdQ_El",
        "outputId": "a4ff07cc-58b5-4f9a-abce-68039df3a6aa",
        "colab": {
          "base_uri": "https://localhost:8080/"
        }
      },
      "execution_count": null,
      "outputs": [
        {
          "output_type": "stream",
          "name": "stdout",
          "text": [
            "a \u001b[33m0\u001b[39m\n",
            "b \u001b[33m1\u001b[39m\n",
            "c \u001b[33m2\u001b[39m\n"
          ]
        }
      ]
    },
    {
      "cell_type": "code",
      "source": [
        "# map の使い方\n",
        "%%writefile temp.ts\n",
        "const arr = [\"a\", \"b\", \"c\"];\n",
        "const arr2 = arr.map((value) => value + value);\n",
        "console.log(arr2); // [ 'aa', 'bb', 'cc' ]"
      ],
      "metadata": {
        "id": "eGj9fOEkO9FX",
        "outputId": "bc693030-97d3-43a9-b0ba-b17e46ef62cc",
        "colab": {
          "base_uri": "https://localhost:8080/"
        }
      },
      "execution_count": null,
      "outputs": [
        {
          "output_type": "stream",
          "name": "stdout",
          "text": [
            "Overwriting temp.ts\n"
          ]
        }
      ]
    },
    {
      "cell_type": "code",
      "source": [
        "!tsc temp.ts; echo | node temp.js"
      ],
      "metadata": {
        "id": "fBcty588O88-",
        "outputId": "66b70bdb-f8fb-40e9-af8e-282d26f78d5d",
        "colab": {
          "base_uri": "https://localhost:8080/"
        }
      },
      "execution_count": null,
      "outputs": [
        {
          "output_type": "stream",
          "name": "stdout",
          "text": [
            "[ \u001b[32m'aa'\u001b[39m, \u001b[32m'bb'\u001b[39m, \u001b[32m'cc'\u001b[39m ]\n"
          ]
        }
      ]
    },
    {
      "cell_type": "markdown",
      "metadata": {
        "id": "HX6cdlafwp0v"
      },
      "source": [
        "# いまここ"
      ]
    },
    {
      "cell_type": "code",
      "source": [
        "# AtCoder Beginners Selection\n",
        "# 問題 B - Shift only \n",
        "# 黒板に N 個の正の整数 A が書かれています．\n",
        "# 書かれている整数がすべて偶数であるとき，次の操作を行うことができます．\n",
        "# 黒板に書かれている整数すべてを，2 で割ったものに置き換える．\n",
        "# 最大で何回操作を行うことができるかを求めてください．\n",
        "# 3 8 12 40 #=> 2\n",
        "# 4 5 6 8 10 #=> 0\n",
        "# 6 382253568 723152896 37802240 379425024 404894720 471526144 #=> 8\n",
        "%%writefile temp.ts\n",
        "import * as fs from \"fs\";\n",
        "const inputs = fs.readFileSync(\"/dev/stdin\", \"utf8\");\n",
        "let args : string[] = inputs.split('\\n')[0].split(' ')[0];\n",
        "console.log(\"Hello, \" + name)\n",
        "\n",
        "/*\n",
        "function main(input: string) {\n",
        "  const args: string[] = input.split('\\n');\n",
        "  const n: number = parseInt(args[0], 10);\n",
        "  let a: number[] = args[1].split(' ').map((n) => parseInt(n, 10));\n",
        "\n",
        "  let ans: number = 0;\n",
        "  while (a.every((n: number) => n % 2 === 0)) {\n",
        "    a = a.map((n: number) => n / 2);\n",
        "    ans++;\n",
        "  }\n",
        "  console.log(ans);\n",
        "} */\n",
        "\n",
        "// main(require('fs').readFileSync('/dev/stdin', 'utf8'));"
      ],
      "metadata": {
        "id": "FBvwsDIbREPO"
      },
      "execution_count": null,
      "outputs": []
    },
    {
      "cell_type": "code",
      "source": [
        ""
      ],
      "metadata": {
        "id": "WI8cy28cLMRE"
      },
      "execution_count": null,
      "outputs": []
    },
    {
      "cell_type": "code",
      "source": [
        ""
      ],
      "metadata": {
        "id": "cAtMMcGuKorF"
      },
      "execution_count": null,
      "outputs": []
    },
    {
      "cell_type": "markdown",
      "metadata": {
        "id": "mHWP31WGtmTc"
      },
      "source": [
        "\n",
        "# いまここ\n"
      ]
    }
  ]
}