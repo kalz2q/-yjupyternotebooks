{
  "nbformat": 4,
  "nbformat_minor": 0,
  "metadata": {
    "colab": {
      "name": "haskell_gentle.ipynb",
      "provenance": [],
      "toc_visible": true,
      "authorship_tag": "ABX9TyNp+X2WJG7+0R0nZ2k0SBID",
      "include_colab_link": true
    },
    "kernelspec": {
      "name": "python3",
      "display_name": "Python 3"
    }
  },
  "cells": [
    {
      "cell_type": "markdown",
      "metadata": {
        "id": "view-in-github",
        "colab_type": "text"
      },
      "source": [
        "<a href=\"https://colab.research.google.com/github/kalz2q/mycolabnotebooks/blob/master/haskell_gentle.ipynb\" target=\"_parent\"><img src=\"https://colab.research.google.com/assets/colab-badge.svg\" alt=\"Open In Colab\"/></a>"
      ]
    },
    {
      "cell_type": "markdown",
      "metadata": {
        "id": "W3PkoT_HorRB"
      },
      "source": [
        "# メモ\r\n",
        "\r\n",
        "a gentle introduction to haskell  \r\n",
        "https://www.sampou.org/haskell/tutorial-j/  \r\n",
        "https://www.haskell.org/tutorial/  \r\n",
        "を読む。ノート。"
      ]
    },
    {
      "cell_type": "code",
      "metadata": {
        "id": "1uIL6O97ZUVj"
      },
      "source": [
        "%%capture\r\n",
        "!apt install haskell-platform"
      ],
      "execution_count": 2,
      "outputs": []
    },
    {
      "cell_type": "code",
      "metadata": {
        "colab": {
          "base_uri": "https://localhost:8080/"
        },
        "id": "4mGx09C_ZeXG",
        "outputId": "b0db2cca-7ab7-45c6-81dc-2b15a6059437"
      },
      "source": [
        "!ghc --version"
      ],
      "execution_count": 1,
      "outputs": [
        {
          "output_type": "stream",
          "text": [
            "/bin/bash: ghc: command not found\n"
          ],
          "name": "stdout"
        }
      ]
    },
    {
      "cell_type": "markdown",
      "metadata": {
        "id": "MiaxQpPVywsF"
      },
      "source": [
        "# 新しいセクション"
      ]
    },
    {
      "cell_type": "code",
      "metadata": {
        "id": "Sxl3u4P4ohJ3"
      },
      "source": [
        "# 型付け\r\n",
        "%%script false\r\n",
        "                         5  :: Integer\r\n",
        "                        'a' :: Char\r\n",
        "                        inc :: Integer -> Integer\r\n",
        "                    [1,2,3] :: [Integer]\r\n",
        "                    ('b',4) :: (Char,Integer)\r\n",
        "\r\n",
        "# :: はなになにの型はなになに \"has type\" と読むことができる\r\n"
      ],
      "execution_count": null,
      "outputs": []
    },
    {
      "cell_type": "code",
      "metadata": {
        "id": "rTYlGnFKrEVV"
      },
      "source": [
        "# 関数定義\r\n",
        "%%script false\r\n",
        "\r\n",
        "inc n          = n+1\r\n",
        "\r\n",
        "inc            :: Integer -> Integer\r\n",
        "\r\n"
      ],
      "execution_count": null,
      "outputs": []
    },
    {
      "cell_type": "code",
      "metadata": {
        "id": "YHINhqE_xkS7"
      },
      "source": [
        "# e1 が評価され e2 になることを\r\n",
        "# e1 => e2\r\n",
        "# と書く。\r\n",
        "\r\n",
        "# 例えば\r\n",
        "%%script false\r\n",
        "\r\n",
        "inc (inc 3) => 5\r\n",
        "\r\n"
      ],
      "execution_count": null,
      "outputs": []
    },
    {
      "cell_type": "code",
      "metadata": {
        "id": "z5RsjAx-x-4Y"
      },
      "source": [
        "# list とは\r\n",
        "%%script false\r\n",
        "\r\n",
        "length                  :: [a] -> Integer\r\n",
        "length []               =  0\r\n",
        "length (x:xs)           =  1 + length xs\r\n",
        "\r\n",
        "length [1,2,3]\t=>\t3\r\n",
        "length ['a','b','c']\t=>\t3\r\n",
        "length [[1],[2],[3]]\t=>\t3"
      ],
      "execution_count": null,
      "outputs": []
    },
    {
      "cell_type": "code",
      "metadata": {
        "id": "lLgRxRVLh2D9"
      },
      "source": [
        "# head と tail\r\n",
        "%%script false\r\n",
        "\r\n",
        "head                    :: [a] -> a\r\n",
        "head (x:xs)             =  x\r\n",
        "\r\n",
        "tail                    :: [a] -> [a]\r\n",
        "tail (x:xs)             =  xs\r\n",
        "\r\n",
        "#  head と tail はカラのリストではエラーになる\r\n"
      ],
      "execution_count": null,
      "outputs": []
    },
    {
      "cell_type": "code",
      "metadata": {
        "id": "WoimBfFbrRTh"
      },
      "source": [
        "# 型の定義\r\n",
        "%%script false\r\n",
        "\r\n",
        "data Bool               = False | True\r\n",
        "\r\n",
        "# Bool, False, True は引数を持たないコンストラクタ nullary constructor\r\n",
        "# Bool が型の名前、型コンストラクタで、False, True がデータコンストラクタ\r\n",
        "\r\n",
        "data Color              = Red | Green | Blue | Indigo | Violet\r\n",
        "\r\n",
        "# Bool, Color は列挙型 enumerated type\r\n"
      ],
      "execution_count": null,
      "outputs": []
    },
    {
      "cell_type": "code",
      "metadata": {
        "id": "0Q-fYTMN38JL"
      },
      "source": [
        "# 次のは 1つだけデータコンストラクタ(Pt a a)を持つ型\r\n",
        "\r\n",
        "data Point a            = Pt a a\r\n",
        "\r\n",
        "# Point のような型はタプル型と呼ばれる。 なぜなら本質的に他の型の直積(デカルト積)だから。\r\n",
        "# Bool, Color のような複数のデータコンストラクタを持つ型は直和型((disjoint) union or sum types)と呼ばれる。\r\n",
        "\r\n",
        "# Point は多相型なので、次のは正しい。\r\n",
        "\r\n",
        "Pt 2.0 3.0 :: Point Float\r\n",
        "Pt 'a' 'b' :: Point Char\r\n",
        "Pt True False :: Point Bool\r\n",
        "\r\n",
        "# 多相型の型コンストラクタとして、[] や -> がある。\r\n",
        "\r\n",
        "# データコンストラクタを適用して値を得ることと、型コンストラクタを適用して型を得ることを区別する。\r\n",
        "# 名前空間が違うので、同じ名前が使える。\r\n",
        "data Point a = Point a a"
      ],
      "execution_count": null,
      "outputs": []
    },
    {
      "cell_type": "code",
      "metadata": {
        "id": "Jyuv8v8a8ZUD"
      },
      "source": [
        "# 再帰型\r\n",
        "%%script false\r\n",
        "\r\n",
        "data Tree a = Leaf a | Branch (Tree a) (Tree a)\r\n",
        "\r\n",
        "# ここで Tree は型コンストラクタで Branch や Leaf はデータコンストラクタなので\r\n",
        "\r\n",
        "Branch :: Tree a -> Tree a -> Tree a\r\n",
        "Leaf :: a -> Tree a\r\n",
        "\r\n",
        "# ということになる。\r\n",
        "\r\n",
        "# fringeという、木を左から右へたどって「葉」にある要素のリストを返す関数を定義したいとする。\r\n",
        "# その定義は次のようになる\r\n",
        "\r\n",
        "fringe :: Tree a -> [a]\r\n",
        "fringe (Leaf x) = [x]\r\n",
        "fringe (Branch left right) = fringe left ++ fringe right\r\n"
      ],
      "execution_count": null,
      "outputs": []
    },
    {
      "cell_type": "code",
      "metadata": {
        "id": "1pmHUaAQUMx7"
      },
      "source": [
        "# type synonym 型の同義名、シノニム\r\n",
        "%%script false\r\n",
        "\r\n",
        "type String = [Char]\r\n",
        "type Person = (Name, Address)\r\n",
        "type Name = String\r\n",
        "data Address = None | Addr String\r\n",
        "\r\n",
        "type AssocList a b = [(a,b)]\r\n"
      ],
      "execution_count": null,
      "outputs": []
    },
    {
      "cell_type": "code",
      "metadata": {
        "id": "54rS1eZ8Uxs3"
      },
      "source": [
        "# Built-in 組み込みの型について\r\n",
        "# 例えば Char は\r\n",
        "%%script false\r\n",
        "data Char = \r\n",
        "    Ca | Cb | Cc | ...\r\n",
        "    | CA | CB | CC | ...\r\n",
        "    | C1 | C2 | C3 | ...\r\n",
        "    ...\r\n",
        "\r\n",
        "# 同様に\r\n",
        "\r\n",
        "data Int = -65532 | ... | -1 | 0 | 1 | ... | 65532\r\n",
        "\r\n",
        "data Integer = ... -2 | -1 | 0 | 1 | 2 ...\r\n",
        "\r\n",
        "# のように考えることができる。ここで、-65532と65532は、与えられた処理系における固定精度整数の最小値と最大値。\r\n",
        "\r\n",
        "# タプルもこのやりかたで定義できる。\r\n",
        "\r\n",
        "data (a,b) = (a,b)\r\n",
        "data (a,b,c) = (a,b,c)\r\n",
        "data (a,b,c,d) = (a,b,c,d)\r\n",
        "        . .\r\n",
        "        . .\r\n",
        "        . .\r\n",
        "\r\n",
        "# リストも同様に定義できる。リストの場合は再帰的になる。\r\n",
        "\r\n",
        "data [a] = [] | a : [a]\r\n",
        "\r\n",
        "# タプルとリストの違いから次のようなルールが明らかである。\r\n",
        "\r\n",
        "# (e1,e2,...,en), n>=2 に対して、もし、ti が ei の型であるとす るならば、タプルの型は (t1,t2,...,tn) \r\n",
        "# [e1,e2,...,en], n>=0 に対して各 ei が必ず同じ型 t であるなら、そのリストの 型は [t]\r\n",
        "\r\n"
      ],
      "execution_count": null,
      "outputs": []
    },
    {
      "cell_type": "code",
      "metadata": {
        "id": "T0-81qtasBS9"
      },
      "source": [
        "# リスト内包表記 List Comprehensions と 数列 Arithmetic Sequences\r\n",
        "%%script false\r\n",
        "\r\n",
        "[ f x | x <- xs ]\r\n",
        "\r\n",
        "[ (x,y) | x <- xs, y <- ys ]\r\n",
        "\r\n",
        "# xs = [1,2] 、ys = [3,4] ならば =>  [(1,3),(1,4),(2,3),(2,4)] となる。\r\n",
        "\r\n",
        "# ガード guard\r\n",
        "\r\n",
        "quicksort [] = []\r\n",
        "quicksort (x:xs) = quicksort [y | y <- xs, y<x ] ++ [x] ++ quicksort [y | y <- xs, y>=x]\r\n",
        "\r\n",
        "# 数列 Arithmetic Sequences\r\n",
        "\r\n",
        "[1..10] => [1,2,3,4,5,6,7,8,9,10] -- 10 も入ることに注意\r\n",
        "[1,3..10] => [1,3,5,7,9] -- 10 以下の奇数\r\n",
        "[1,3..] => [1,3,5,7,9, ...] -- 無限\r\n",
        "\r\n"
      ],
      "execution_count": null,
      "outputs": []
    },
    {
      "cell_type": "code",
      "metadata": {
        "id": "NXfjmS6J_sKc"
      },
      "source": [
        "# 文字列 String\r\n",
        "%%script false\r\n",
        "\r\n",
        "['h','e','l','l','o'] = \"hello\"\r\n",
        "\r\n",
        "type String = [Char]\r\n",
        "\r\n",
        "\"hello\" ++ \" world\" => \"hello world\"\r\n"
      ],
      "execution_count": null,
      "outputs": []
    },
    {
      "cell_type": "code",
      "metadata": {
        "id": "fzudYNjSSc1S"
      },
      "source": [
        "# 関数\r\n",
        "%%script false\r\n",
        "\r\n",
        "add :: Integer -> Integer -> Integer\r\n",
        "add x y = x + y\r\n",
        "\r\n",
        "# これは add (x,y) = x + y とは違う\r\n"
      ],
      "execution_count": null,
      "outputs": []
    },
    {
      "cell_type": "code",
      "metadata": {
        "id": "zzgGYrSuUqn-",
        "colab": {
          "base_uri": "https://localhost:8080/"
        },
        "outputId": "647a3f00-1349-4817-8ff4-96bcece5909c"
      },
      "source": [
        "# 実験\r\n",
        "!ghc -e $'let {add x y = x + y; inc = add 1} in print (inc 4) '\r\n",
        "!ghc -e $'let {add (x y) = x + y; inc = add 1} in print (inc 4) ' #=> Parse error\r\n",
        "!ghc -e $'let {add x y = x + y; inc = add 1} in print (add 4 5) '\r\n",
        "!ghc -e $'let {add (x, y) = x + y} in print (add (4, 5)) '"
      ],
      "execution_count": null,
      "outputs": [
        {
          "output_type": "stream",
          "text": [
            "5\n",
            "\n",
            "<interactive>:0:11: error: Parse error in pattern: x\n",
            "9\n",
            "9\n"
          ],
          "name": "stdout"
        }
      ]
    },
    {
      "cell_type": "code",
      "metadata": {
        "id": "HXzyrmrSUplh"
      },
      "source": [
        "# map 関数は関数を引数にとる\r\n",
        "%%script false\r\n",
        "\r\n",
        "map :: (a->b) -> [a] -> [b]\r\n",
        "map f [] = []\r\n",
        "map f (x:xs) = f x : map f xs\r\n",
        "\r\n",
        "map (add 1) [1,2,3] => [2,3,4]\r\n",
        "\r\n",
        "# この例は関数が第一級の対象 (first-class object) であることを示している。\r\n",
        "# このような使いかたをする関数は高階 (higher-order)関数とよばれる。\r\n"
      ],
      "execution_count": null,
      "outputs": []
    },
    {
      "cell_type": "code",
      "metadata": {
        "id": "UVud-SgCTuK-"
      },
      "source": [
        "# ラムダ抽象 (lambda abstraction) 無名関数\r\n",
        "# 例えば inc は  \\x -> x+1 と書く。\r\n",
        "# add は \\x -> \\y -> x + y と書く。\r\n",
        "# 簡略化して \\x y -> x + y と書く。\r\n",
        "%%script false\r\n",
        "\r\n",
        "inc x = x+1\r\n",
        "add x y = x+y\r\n",
        "\r\n",
        "# は次の等式と同等\r\n",
        "\r\n",
        "inc = \\x -> x+1\r\n",
        "add = \\x y -> x+y\r\n"
      ],
      "execution_count": null,
      "outputs": []
    },
    {
      "cell_type": "code",
      "metadata": {
        "id": "0vHy_7FYkFa5"
      },
      "source": [
        "# 中置演算子 infix operator\r\n",
        "# 中置演算子は関数なので、等式を使って定義\r\n",
        "%%script false\r\n",
        "\r\n",
        "# リストの連結演算子\r\n",
        "(++) :: [a] -> [a] -> [a]\r\n",
        "[] ++ ys = ys\r\n",
        "(x:xs) ++ ys = x : (xs++ys)\r\n",
        "\r\n",
        "# マイナス(-)は前置演算子にも、中置演算子にもなる。\r\n",
        "\r\n",
        "# 関数合成(function composition)演算子\r\n",
        "\r\n",
        "(.) :: (b->c) -> (a->b) -> (a->c)\r\n",
        "f . g = \\ x -> f (g x)\r\n",
        "\r\n",
        "# 中置演算子の部分適用は section と呼ばれる\r\n",
        "\r\n",
        "(x+) = \\y -> x+y\r\n",
        "(+y) = \\x -> x+y\r\n",
        "(+) = \\x y -> x+y\r\n"
      ],
      "execution_count": null,
      "outputs": []
    },
    {
      "cell_type": "code",
      "metadata": {
        "id": "rmHpY3dUdFXR",
        "colab": {
          "base_uri": "https://localhost:8080/"
        },
        "outputId": "4ad7e589-e0fe-4fc9-d6fa-a567117e302d"
      },
      "source": [
        "# 実験 中置演算子の部分適用が関数を返すことの確認\r\n",
        "# map (+) [1,2,3] は関数のリスト\r\n",
        "\r\n",
        "!ghc -e $'((map (+) [1,2,3])!!1) 5' #=> 7\r\n",
        "!ghc -e $'((map (/) [1,2,3])!!1) 5' #=> 0.4\r\n",
        "!ghc -e $'(map (5/) [1,2,3])!!1' #=> 2.5\r\n",
        "!echo\r\n",
        "!ghc -e $'map (/5) [1,2,3]'\r\n",
        "!ghc -e $'map (5/) [1,2,3]'\r\n",
        "!echo\r\n",
        "!ghc -e $'map (^2) [1,2,3]'\r\n",
        "!ghc -e $'map (2^) [1,2,3]'"
      ],
      "execution_count": null,
      "outputs": [
        {
          "output_type": "stream",
          "text": [
            "7\n",
            "0.4\n",
            "2.5\n",
            "\n",
            "[0.2,0.4,0.6]\n",
            "[5.0,2.5,1.6666666666666667]\n",
            "\n",
            "[1,4,9]\n",
            "[2,4,8]\n"
          ],
          "name": "stdout"
        }
      ]
    },
    {
      "cell_type": "code",
      "metadata": {
        "id": "eqqaVVQ9Tms2"
      },
      "source": [
        "# したがって\r\n",
        "%%script false\r\n",
        "\r\n",
        "inc = (+ 1)\r\n",
        "add = (+)\r\n",
        "\r\n",
        "# と書ける\r\n"
      ],
      "execution_count": null,
      "outputs": []
    },
    {
      "cell_type": "code",
      "metadata": {
        "id": "mMSn2u39e-I2"
      },
      "source": [
        "# 関数をバッククオートで括ると中置演算子になる\r\n",
        "%%script false\r\n",
        "\r\n",
        "x `elem` xs\r\n",
        "\r\n",
        "# は直感的に、x は xs の要素である (x is an element of xs)と読める。\r\n",
        "\r\n",
        "# (-) については特別なルールがある。\r\n"
      ],
      "execution_count": null,
      "outputs": []
    },
    {
      "cell_type": "code",
      "metadata": {
        "id": "lMib8a4fTi8f"
      },
      "source": [
        "# 結合度 fixity の優先順位\r\n",
        "# fixity declaration では 0 から 9 を指定する。 9 が最強。\r\n",
        "# 一般の関数は 10 と仮定されている。\r\n",
        "# infixr は右結合、 infixl は左結合\r\n",
        "%%script false\r\n",
        "\r\n",
        "infixr 5 ++\r\n",
        "infixr 9 .\r\n",
        "\r\n",
        "# デフォルトは infixl 9\r\n",
        "\r\n"
      ],
      "execution_count": null,
      "outputs": []
    },
    {
      "cell_type": "code",
      "metadata": {
        "id": "iwJlMBTTTfCA"
      },
      "source": [
        "# 関数は非正格 non-strict\r\n",
        "# bot が次のように定義されているとする。\r\n",
        "%%script false\r\n",
        "\r\n",
        "bot = bot\r\n",
        "\r\n",
        "# このような停止しない式の値を抽象的に _|_(ボトム)と表わす。\r\n",
        "# 1/0 もこの値を持ち、エラーは回復不可能で、プログラムはこれ以上継続することはできなくなる。\r\n",
        "# I/O のシステムのエラー(たとえば、EOFエラーなどの例外)は回復可能。\r\n",
        "\r\n",
        "# 関数 f が正格 strict であるとは、停止しない式に適用されれば、その適用式も停止しないこと。\r\n",
        "# ほとんどのプログラミング言語では、すべての関数が正格。Haskell では違う。\r\n",
        "\r\n",
        "const1 x = 1\r\n",
        "\r\n",
        "# のとき、const1 bot は 1 であり、引数は評価されない。 これを遅延評価と呼ぶ。\r\n",
        "\r\n",
        "const1 (1/0)\r\n",
        "\r\n",
        "# も 1 になる。\r\n",
        "\r\n",
        "# 遅延評価により、無限 infinite のデータ構造が扱える。\r\n",
        "\r\n",
        "# 別のやり方で説明すると、Haskell では代入 assignment ではなく、定義 definition を用いる。\r\n",
        "\r\n",
        "v = 1/0\r\n",
        "\r\n",
        "# は、v を 1/0と定義すると読む。vの値が必要になったときにのみゼロ除算エラーが発生する。\r\n"
      ],
      "execution_count": null,
      "outputs": []
    },
    {
      "cell_type": "code",
      "metadata": {
        "id": "q821gWlEjcxz"
      },
      "source": [
        "# 無限のデータ構造\r\n",
        "# データコンストラクタも非正格である。\r\n",
        "# リストのコンストラクタ、: も非正格。\r\n",
        "# 非正格の構築子で(概念的に)無限の infinite データ構造を 定義することができる。\r\n",
        "%%script false\r\n",
        "\r\n",
        "ones = 1 : ones\r\n",
        "\r\n",
        "numsFrom n = n : numsFrom (n+1)\r\n",
        "\r\n",
        "squares = map (^2) (numsFrom 0)\r\n"
      ],
      "execution_count": null,
      "outputs": []
    },
    {
      "cell_type": "code",
      "metadata": {
        "id": "-LRVZ6YQsonz",
        "colab": {
          "base_uri": "https://localhost:8080/"
        },
        "outputId": "dc1c4e49-091a-4f28-dde8-c8df7ed71b9c"
      },
      "source": [
        "# 実験 take 5 squares => [0,1,4,9,16]\r\n",
        "!ghc -e $'let{numsFrom n = n:numsFrom(n+1); squares = map (^2)(numsFrom 0)} in print (take 5 squares)'"
      ],
      "execution_count": null,
      "outputs": [
        {
          "output_type": "stream",
          "text": [
            "[0,1,4,9,16]\n"
          ],
          "name": "stdout"
        }
      ]
    },
    {
      "cell_type": "code",
      "metadata": {
        "id": "i9IDhIi8vPQ_",
        "colab": {
          "base_uri": "https://localhost:8080/"
        },
        "outputId": "741dcca6-f49b-413e-ac79-3a7b5c18d490"
      },
      "source": [
        "# 実験 ones は循環リスト circular list\r\n",
        "!ghc -e $'let{ones=1:ones} in print (take 5 ones)'"
      ],
      "execution_count": null,
      "outputs": [
        {
          "output_type": "stream",
          "text": [
            "[1,1,1,1,1]\n"
          ],
          "name": "stdout"
        }
      ]
    },
    {
      "cell_type": "code",
      "metadata": {
        "id": "WdBm8aZeTVcU"
      },
      "source": [
        "# フィボナッチ関数\r\n",
        "%%script false\r\n",
        "\r\n",
        "fib = 1 : 1 : [ a+b | (a,b) <- zip fib (tail fib) ]\r\n",
        "\r\n",
        "# ここで zip とは\r\n",
        "\r\n",
        "zip (x:xs) (y:ys) = (x,y) : zip xs ys\r\n",
        "zip xs ys = []\r\n",
        "\r\n",
        "# エラー関数 error\r\n",
        "\r\n",
        "error :: String-> a\r\n",
        "\r\n",
        "# 型からは返す値の型は多相の型で実際の型がわからない。\r\n",
        "# すべての型によって「共有」される値 _|_ bottom が存在する。\r\n",
        "# error の返す値は常にこの値。しかし、実装はチェックのための error の文字列引数を印字する。\r\n",
        "\r\n",
        "head (x:xs) = x\r\n",
        "head [] = error \"head{PreludeList}: head []\"\r\n"
      ],
      "execution_count": null,
      "outputs": []
    },
    {
      "cell_type": "code",
      "metadata": {
        "id": "kytnaqOUxmKi"
      },
      "source": [
        "# Case 式\r\n",
        "# パターンは入れ子にも使える。\r\n",
        "%%script false\r\n",
        "\r\n",
        "contrived :: ([a], Char, (Int, Float), String, Bool) -> Bool\r\n",
        "contrived ([], 'b', (1, 2.0), \"hi\", True) = False\r\n",
        "\r\n",
        "# 仮引数 (formal parameters) もパターンであり、値にかならず照合が成功する。\r\n",
        "# その副作用として、仮引数は照合が成功した値に束縛される。\r\n",
        "# なぜなら、ひとつの等式であれば、そのなかのパターンには、2つ以上の同じ仮引数が含まれてはいけないから。\r\n",
        "# これは、線型性 (linearity) と呼ばれる。\r\n",
        "# 仮引数のような必ず照合が成功するようなパターンのことを irrefutable パターンと呼び、\r\n",
        "# refutable パターンは照合が成功しない可能性があり contrived の例はこの refutable の例。\r\n",
        "# 不可反駁パターンに は 3つの種類がありそのうち 2つを紹介する。\r\n",
        "\r\n",
        "# アズパターン\r\n",
        "# たとえばリストの第一要素を複製する関数\r\n",
        "\r\n",
        "f (x:xs) = x:x:xs\r\n",
        "\r\n",
        "# 明日パターンを使うと次のようになる。\r\n",
        "\r\n",
        "f s@(x:xs) = x:s\r\n",
        "\r\n",
        "# アズパターンは照合に常に成功するが、サブパターン(この場合は、x:xs)はもちろん照合が成功しないこともある。\r\n",
        "\r\n",
        "# ワイルドカード\r\n",
        "# head 関数や tail 関数は次のように書き換えることができる。\r\n",
        "\r\n",
        "head (x:_) = x\r\n",
        "tail (_:xs) = xs\r\n",
        "\r\n",
        "# 仮引数の場合とちがい、ワイルドカードはひとつの等式のなかに 1つ以上あっても構わない。\r\n"
      ],
      "execution_count": null,
      "outputs": []
    },
    {
      "cell_type": "code",
      "metadata": {
        "id": "lDDePI7Mxz-Y"
      },
      "source": [
        "# パターン照合の意味論 semantics\r\n",
        "\r\n",
        "# パターン照合は、fail, succeed, diverge (発散) の場合がある。\r\n",
        "# 成功すると、パターンの中の仮引数が束縛される。\r\n",
        "# 発散 diverge はパターンが必要とした値がエラー(_|_ )を含んでいた場合。\r\n",
        "# すべての等式でパターン照合が失敗すると、その関数適用の値は _|_ になり、 実行時エラーとなる。\r\n",
        "#\r\n",
        "# たとえば、[1,2] を [0,bot] に照合させようとすると、0 と 1 がマッチしないので照合は失敗。\r\n",
        "# しかし、もし、[1,2] を [bot,0] にマッチさせようとすると、1 を botへ照合させる際に発散がおこる。\r\n",
        "\r\n",
        "# パターンがガード部を持つこともある。\r\n",
        "%%script false\r\n",
        "\r\n",
        "sign x |  x >  0        =   1\r\n",
        "       |  x == 0        =   0\r\n",
        "       |  x <  0        =  -1\r\n"
      ],
      "execution_count": null,
      "outputs": []
    },
    {
      "cell_type": "code",
      "metadata": {
        "id": "Ljcyvf8Wd4Ub"
      },
      "source": [
        "# パターン照合が関数の意味に微妙な影響を与える場合がある\r\n",
        "\r\n",
        "%%script false\r\n",
        "\r\n",
        "take 0 _ = []\r\n",
        "take _ [] = []\r\n",
        "take n (x:xs) = x : take (n-1) xs\r\n",
        "\r\n",
        "# と\r\n",
        "\r\n",
        "take1 _ [] = []\r\n",
        "take1 0 _ = []\r\n",
        "take1 n (x:xs) = x : take1\r\n",
        "(n-1) xs\r\n",
        "\r\n",
        "# 次の結果を見る。\r\n",
        "\r\n",
        "take 0 bot => []\r\n",
        "take1 0 bot => _|_\r\n",
        "take bot [] => _|_\r\n",
        "take1 bot [] => []\r\n",
        "\r\n",
        "# どちらがよいということでなく、違いがあるということを覚えておく。"
      ],
      "execution_count": null,
      "outputs": []
    },
    {
      "cell_type": "code",
      "metadata": {
        "id": "pOuFmZ5RuEUg"
      },
      "source": [
        "# Case 式\r\n",
        "# 関数定義のなかでのパターン照合の意味は、実は case 式のより単純なものと考えられる。\r\n",
        "%%script false\r\n",
        "\r\n",
        "# 次のような関数定義があったとする。\r\n",
        "f p11 ... p1k = e1\r\n",
        "...\r\n",
        "f pn1 ... pnk = en\r\n",
        "\r\n",
        "# これは以下と同等。\r\n",
        "\r\n",
        "f x1 x2 ... xk = case (x1, ..., xk) of\r\n",
        "    (p11, ..., p1k) -> e1\r\n",
        "    ...\r\n",
        "    (pn1, ..., pnk) -> en\r\n",
        "\r\n",
        "# take についても\r\n",
        "\r\n",
        "take m ys = case (m,ys) of\r\n",
        "    (0,_) -> []\r\n",
        "    (_,[]) -> []\r\n",
        "    (n,x:xs) -> x : take (n-1) xs\r\n",
        "\r\n",
        "# となる。\r\n",
        "# case 式の右辺はすべて同じ主型である。\r\n",
        "\r\n",
        "# if 式の\r\n",
        "\r\n",
        "if e1 then e2 else e3\r\n",
        "\r\n",
        "# は次の構文の簡略形である。\r\n",
        "\r\n",
        "case e1 of True -> e2\r\n",
        "        False -> e3\r\n",
        "\r\n",
        "# つまり、if_then_else_ を関数とみなせば\r\n",
        "\r\n",
        "Bool -> a -> a -> a \r\n",
        "\r\n",
        "# という型である。\r\n"
      ],
      "execution_count": null,
      "outputs": []
    },
    {
      "cell_type": "code",
      "metadata": {
        "id": "wvSLoKvxxxSl"
      },
      "source": [
        "# 遅延 lazy パターン\r\n",
        "# 遅延パターンは ~pat であらわされる。\r\n",
        "# 不可反駁 irrefutable で値 v の ~pat に 対する照合は常に成功する。\r\n",
        "# pat のなかの識別子が右辺で「利用」されるとすると、それは v が pat に\r\n",
        "# マッチすると仮定した場合の値に束縛されるか、_|_ となる。\r\n",
        "\r\n",
        "# 遅延パターンは無限のデータ構造が再帰的に定義されているような場合に便利。\r\n",
        "# 無限リストはシミュレーションプログラムを書くのに使いやすいデータ構造で、ストリームといいます。\r\n",
        "\r\n",
        "# server と client との間のやりとりの簡単なケースを考える。\r\n",
        "# client は一連の要求を server に送り、server は各々の要求に対して、応答を返す。\r\n",
        "# client は引数として初期メッセージもとることに注意。\r\n",
        "\r\n",
        "%%script false\r\n",
        "\r\n",
        "reqs = client init resps\r\n",
        "resps = server reqs\r\n",
        "\r\n",
        "# さらに、サーバとクライアントの構造を、以下のように仮定する。\r\n",
        "\r\n",
        "client init (resp:resps) = init : client (next resp) resps\r\n",
        "server (req:reqs) = process req : server reqs\r\n",
        "\r\n",
        "# next はサーバからの応答を与えられて、次の要求を決定する関数であり、\r\n",
        "# process はクライアントからの要求を与えられて、応答を返す関数であるとする。\r\n",
        "\r\n",
        "# 残念ながら、このプログラムには大きな問題がある。\r\n",
        "# 問題は、client が reqs と resps の再帰的な設定のなかで使われているので、\r\n",
        "# 最初の要求を送信する前に応答リストと照合を試みようとする。つまり、\r\n",
        "# パターン照合がおこなわれるのが「早すぎる」。\r\n",
        "# これを是正するひとつの方法は以下のように client を再定義する。\r\n",
        "\r\n",
        "client init resps = init : client (next (head resps)) (tail resps)\r\n",
        "\r\n",
        "# これで動作するようになるが、もっとよい解決法は遅延パターンを使う方法である。\r\n",
        "\r\n",
        "client init ~(resp:resps) = init : client (next resp) resps\r\n",
        "\r\n",
        "# 遅延パターンは不可反駁なので、照合はただちに成功し、最初の要求が発信され、\r\n",
        "# それから最初の応答が生成される。\r\n",
        "\r\n",
        "#  この例は、以下のように定義を加えれば、実際に動作する。\r\n",
        "\r\n",
        "init = 0\r\n",
        "next resp = resp\r\n",
        "process req = req+1\r\n",
        "\r\n",
        "# 実際に動作させてみると、\r\n",
        "\r\n",
        "take 10 reqs => [0,1,2,3,4,5,6,7,8,9]\r\n",
        "\r\n",
        "## 動作しない!!!!"
      ],
      "execution_count": null,
      "outputs": []
    },
    {
      "cell_type": "code",
      "metadata": {
        "id": "7M2XhHV2nkvE"
      },
      "source": [
        "# フィボナッチ関数 遅延評価版\r\n",
        "%%script false\r\n",
        "\r\n",
        "fib = 1 : 1 : [ a+b | (a,b) <- zip fib (tail fib) ]\r\n",
        "\r\n",
        "# これをアズパターンを使って次のように書き換える。\r\n",
        "\r\n",
        "fib@(1:tfib) = 1 : 1 : [ a+b | (a,b) <- zip fib tfib ]\r\n",
        "\r\n",
        "# この種の等式はパターン束縛(patternbinding )と呼ばれる。\r\n",
        "# 理由は、トップレベルにある等式で左辺全体がひとつのパターンになっているから。\r\n",
        "# すなわち、fib と tfibはともに宣言内で 束縛されているということです。\r\n",
        "# Haskellのパターン束縛は暗黙のう ちに ~ がパターンの前についているものとみなす。\r\n"
      ],
      "execution_count": null,
      "outputs": []
    },
    {
      "cell_type": "code",
      "metadata": {
        "id": "VZVXuJOTUkdk",
        "colab": {
          "base_uri": "https://localhost:8080/"
        },
        "outputId": "8112b31d-32d4-454c-b4db-f607b50a7761"
      },
      "source": [
        "# 実験\r\n",
        "!ghc -e $'let {fib = 1 : 1 : [ a+b | (a,b) <- zip fib (tail fib) ]} in print (take 5 fib)'\r\n",
        "!ghc -e $'let {fib@(1:tfib) = 1 : 1 : [ a+b | (a,b) <- zip fib tfib ]} in print (take 5 fib)'"
      ],
      "execution_count": null,
      "outputs": [
        {
          "output_type": "stream",
          "text": [
            "[1,1,2,3,5]\n",
            "[1,1,2,3,5]\n"
          ],
          "name": "stdout"
        }
      ]
    },
    {
      "cell_type": "code",
      "metadata": {
        "id": "McnhdUfSxslV"
      },
      "source": [
        "# 字句の有効範囲と入れ子形式 Lexical Scoping and Nested Forms\r\n",
        "# let 式\r\n",
        "%%script false\r\n",
        "\r\n",
        "let y   = a*b\r\n",
        "    f x = (x+y)/y\r\n",
        "in f c + f d\r\n",
        "\r\n",
        "# let 式 expression によってつくられる束縛は、相互再帰的 (mutually recursive)で、遅延パターンとして扱われる。\r\n",
        "# ~ が暗黙のうちについている。\r\n",
        "\r\n",
        "# where 節 clause\r\n",
        "# いくつかのガードをもつ等式にまたがる有効範囲束縛が便利なときには where 節を使う。\r\n",
        "\r\n",
        "f x y  |  y>z           =  ...\r\n",
        "       |  y==z          =  ...\r\n",
        "       |  y<z           =  ...\r\n",
        "     where z = x*x\r\n",
        "\r\n",
        "# where 節はそれが覆う式の上にしか有効範囲がない。\r\n",
        "# where 節は等式の集まりあるいは case 式のトップレベルでしか認められない。\r\n",
        "\r\n",
        "# let 式は式であり、where 節は式ではない。where 節は関数宣言および case 式の構文の一部である。\r\n",
        "\r\n"
      ],
      "execution_count": null,
      "outputs": []
    },
    {
      "cell_type": "code",
      "metadata": {
        "id": "hk3ujlpqxo8C"
      },
      "source": [
        "# レイアウト\r\n",
        "# Haskell はセミコロンあるいはそれにかわる終端記号を使わずにすんでいるのか。\r\n",
        "%%script false\r\n",
        "\r\n",
        "let y   = a*b\r\n",
        "    f x = (x+y)/y\r\n",
        "in f c + f d\r\n",
        "\r\n",
        "# 構文解析 parser はなぜ次のように解析したりしないのか。\r\n",
        "\r\n",
        "let y   = a*b f\r\n",
        "    x   = (x+y)/y\r\n",
        "in f c + f d\r\n",
        "\r\n",
        "# Haskell はレイアウト (layout) と呼ばれる、二次元構文を用いているから。\r\n",
        "# カラム位置に依存している。\r\n",
        "# 上の例は次のように解釈される。\r\n",
        "\r\n",
        "let { y   = a*b\r\n",
        "    ; f x = (x+y)/y\r\n",
        "    }\r\n",
        "in f c + f d\r\n",
        "\r\n",
        "# 1行に複数の式を書きたいときにはセミコロンが便利である。\r\n",
        "\r\n",
        "let y   = a*b;  z = a/b\r\n",
        "    f x = (x+y)/z\r\n",
        "in f c + f d\r\n"
      ],
      "execution_count": null,
      "outputs": []
    },
    {
      "cell_type": "code",
      "metadata": {
        "id": "mFLQHFq3f6-i"
      },
      "source": [
        "# 型クラスと多重定義 overloading\r\n",
        "# すでに述べてきた多相 polymorphism は、パラメータ多相 parametric polymorphism とよばれる。\r\n",
        "# アドホック多相は多重定義 overloading という呼びかたのほうが知られている。\r\n",
        "# たとえば\r\n",
        "# 1、2 などのリテラルは、固定長の整数と任意長の整数の両方で使われる。\r\n",
        "# + のような数値演算子は何種類もの数値上で定義される。\r\n",
        "# 同値演算子 (Haskell では ==)は数値とその他多くの型の上で動作する。\r\n",
        "# Haskell では、 型クラスによって多重定義を制御する。\r\n",
        "\r\n",
        "# elem 関数の定義を見てみよう。\r\n",
        "%%script false\r\n",
        "\r\n",
        "x `elem`  []            = False\r\n",
        "x `elem` (y:ys)         = x==y || (x `elem` ys)\r\n",
        "\r\n",
        "# ここで (==) を使っている。\r\n",
        "# 型クラス type class によって解決している。\r\n"
      ],
      "execution_count": null,
      "outputs": []
    },
    {
      "cell_type": "code",
      "metadata": {
        "id": "SZZwd9G5K_ve",
        "colab": {
          "base_uri": "https://localhost:8080/"
        },
        "outputId": "afcc5ae0-adac-4380-ef36-dc4c71519ab1"
      },
      "source": [
        "# 実験\r\n",
        "!ghc -e $':t elem'\r\n",
        "!ghc -e $':t (==)'"
      ],
      "execution_count": null,
      "outputs": [
        {
          "output_type": "stream",
          "text": [
            "elem :: (Eq a, Foldable t) => a -> t a -> Bool\n",
            "(==) :: Eq a => a -> a -> Bool\n"
          ],
          "name": "stdout"
        }
      ]
    },
    {
      "cell_type": "code",
      "metadata": {
        "id": "DO7LoCEkgTqj"
      },
      "source": [
        "# 同値演算子を含むクラスの定義をしてみよう。\r\n",
        "%%script false\r\n",
        "\r\n",
        "class Eq a where\r\n",
        "    (==) :: a -> a -> Bool\r\n",
        "\r\n",
        "# Eq は定義するクラスの名前である。\r\n",
        "# 型 a がクラス Eq のインスタンスでなければならない、という制約 constraint は、\r\n",
        "\r\n",
        "Eq a \r\n",
        "\r\n",
        "# のように書く。\r\n",
        "# Eq a は 式 expression ではなく、constraint を表しているので、文脈 context と呼ばれる。\r\n",
        "\r\n",
        "(==) :: (Eq a) => a -> a -> Bool\r\n",
        "\r\n",
        "# は、クラス Eq のインスタンスである型 a に対して、== は a->a->Boolという型をもつ、と読む。\r\n",
        "# したがって\r\n",
        "\r\n",
        "elem :: (Eq a) => a -> [a] -> Bool\r\n",
        "\r\n",
        "# となり、求めていたものに他ならない。\r\n"
      ],
      "execution_count": null,
      "outputs": []
    },
    {
      "cell_type": "code",
      "metadata": {
        "id": "xsgb9EIwL632",
        "colab": {
          "base_uri": "https://localhost:8080/"
        },
        "outputId": "104a1102-1ef8-4982-b966-b92eeb546c3b"
      },
      "source": [
        "# 実験\r\n",
        "!ghc -e $':k Eq'\r\n",
        "!ghc -e $':k Foldable'"
      ],
      "execution_count": null,
      "outputs": [
        {
          "output_type": "stream",
          "text": [
            "Eq :: * -> Constraint\n",
            "Foldable :: (* -> *) -> Constraint\n"
          ],
          "name": "stdout"
        }
      ]
    },
    {
      "cell_type": "code",
      "metadata": {
        "id": "IGrivSGZgROb"
      },
      "source": [
        "# どの型が Eq クラスのインスタンスになるかを指定し、その型に対する == の実際の振舞いがどうなるかは\r\n",
        "# インスタンス宣言 (instance declaration)で行う。\r\n",
        "%%script false\r\n",
        "\r\n",
        "instance Eq Integer where \r\n",
        "  x == y                =  x `integerEq` y\r\n",
        "\r\n",
        "# 同様に\r\n",
        "\r\n",
        "instance Eq Float where\r\n",
        "  x == y                =  x `floatEq` y\r\n",
        "\r\n",
        "instance (Eq a) => Eq (Tree a) where \r\n",
        "  Leaf a         == Leaf b          =  a == b\r\n",
        "  (Branch l1 r1) == (Branch l2 r2)  =  (l1==l2) && (r1==r2)\r\n",
        "  _              == _               =  False\r\n",
        "\r\n",
        "# 最初の行の Eq a という文脈は必須である。なぜなら、\r\n",
        "# 葉のもつ要素 (型は a)は 2番目の行の同値性を用いて比較する。\r\n",
        "\r\n",
        "# 実際の Eq の定義\r\n",
        "class  Eq a  where\r\n",
        "  (==), (/=)            :: a -> a -> Bool\r\n",
        "  x /= y                =  not (x == y)\r\n",
        "\r\n",
        "# :i で調べたら次のようだった。 同じと思われる。\r\n",
        "class Eq a where\r\n",
        "  (==) :: a -> a -> Bool\r\n",
        "  (/=) :: a -> a -> Bool\r\n"
      ],
      "execution_count": null,
      "outputs": []
    },
    {
      "cell_type": "code",
      "metadata": {
        "id": "6FktdMRtgPHU"
      },
      "source": [
        "# クラス拡張 (class extension) もサポートされている。\r\n",
        "# たとえば、Eq クラスからすべての操作を継承 (inherit)した Ord クラスを定義したいとする。\r\n",
        "# このクラスは Eq クラスから継承した操作のほかに、比較 操作子と min 関数および max 関数をもつものとする。\r\n",
        "%%script false\r\n",
        "\r\n",
        "class  (Eq a) => Ord a  where\r\n",
        "  (<), (<=), (>=), (>)  :: a -> a -> Bool\r\n",
        "  max, min              :: a -> a -> a\r\n",
        "\r\n",
        "# Eq は Ord のスーパークラス、 Ord は Eq のサブクラス(subclass )である。\r\n",
        "\r\n",
        "# Ord の宣言は、(<) に対応するデフォルトメソッドを含んでいる。\r\n",
        "\r\n",
        "x < y               =  x <= y && x /= y\r\n",
        "\r\n",
        "# quicksort の型は次のようになっている。\r\n",
        "\r\n",
        "quicksort :: (Ord a) => [a] -> [a]\r\n",
        "\r\n",
        "# 多重継承 (multiple inheritance) \r\n",
        "\r\n",
        "class (Eq a, Show a) => C a \r\n",
        "    where ...\r\n",
        "\r\n",
        "# C というクラスをつくっている、操作を Eq と Show の両方から継承している。\r\n",
        "\r\n",
        "# クラスメソッドはトップレベルの宣言として扱われる。\r\n",
        "\r\n",
        "# クラスメソッドには、制約を付加することができる。\r\n",
        "\r\n",
        "class C a where\r\n",
        "    m :: Show b => a -> b\r\n"
      ],
      "execution_count": null,
      "outputs": []
    },
    {
      "cell_type": "code",
      "metadata": {
        "id": "ymXtGyyLfj3p"
      },
      "source": [
        "# クラス宣言の中で、高階型 higher-order type を使う。\r\n",
        "# 以下のような Functor クラスを考えよう。\r\n",
        "%%script false\r\n",
        "\r\n",
        "class Functor f where\r\n",
        "    fmap :: (a -> b) -> f a -> f b\r\n",
        "\r\n",
        "# fmap 関数は以前に使った map 関数を一般化したもの。\r\n",
        "# 型変数 f は f a のなかで他の型に適用される。こ のように、型変数が\r\n",
        "# 型 Tree に対する Functor のインスタンス は、\r\n",
        "\r\n",
        "instance Functor Tree where\r\n",
        "  fmap f (Leaf x)       = Leaf   (f x)\r\n",
        "  fmap f (Branch t1 t2) = Branch (fmap f t1) (fmap f t2)\r\n",
        "\r\n",
        "# このインスタンス宣言は Tree a ではなく Tree が Functor のインスタンスであることを宣言している。\r\n",
        "# これは総称的「コンテナ」型を記述する能力のあることを示し、fmap のような、任意の木、\r\n",
        "# リストあるいは他の型の上で統一的に動作する関数を可能にする。\r\n",
        "\r\n",
        "# 型適用は関数適用とおなじやりかたで書ける。型 T a b は (T a) b　と構文解析される。\r\n",
        "# タプルのような特別な構文を使う型はカリー化可能な別のスタイルで書ける。\r\n",
        "# 関数については、(->) が型構築子である。f -> g と (->) f g とは同じである。\r\n",
        "# 同様に、[a] と [] aとは同じである。\r\n",
        "# タプルについては、型構築子は (,)、(,,) などとなる。\r\n"
      ],
      "execution_count": null,
      "outputs": []
    },
    {
      "cell_type": "code",
      "metadata": {
        "id": "h--_PPf7rvGj"
      },
      "source": [
        "# 型システムは式の中で型付けエラーを検出する。\r\n",
        "# 式 (+) 1 2 3 は型エラーになる。それは (+) は 2 つしか引数をとらないからである。\r\n",
        "# 同様に、 Tree Int Int は、エラーを起こす。それは Tree 型はひとつの引数しかとらないからである。\r\n",
        "# Haskellはどのようにして不正な型式を検出するのか。\r\n",
        "\r\n",
        "# その答は、型の正当性を確認する第2の型システムにある。\r\n",
        "# 型は類 (kind)と結びついている。\r\n"
      ],
      "execution_count": null,
      "outputs": []
    },
    {
      "cell_type": "code",
      "metadata": {
        "id": "SlIXAGJjtLt9",
        "colab": {
          "base_uri": "https://localhost:8080/"
        },
        "outputId": "479017d6-1746-45f9-8e4d-95ae310d1e7f"
      },
      "source": [
        "!ghc -e $':k Eq'\r\n",
        "!ghc -e $':k Integer'\r\n",
        "!ghc -e $':k Functor'\r\n",
        "!ghc -e $':k Num'\r\n",
        "!ghc -e $':k Foldable'\r\n",
        "!ghc -e $':k Ord'"
      ],
      "execution_count": null,
      "outputs": [
        {
          "output_type": "stream",
          "text": [
            "Eq :: * -> Constraint\n",
            "Integer :: *\n",
            "Functor :: (* -> *) -> Constraint\n",
            "Num :: * -> Constraint\n",
            "Foldable :: (* -> *) -> Constraint\n",
            "Ord :: * -> Constraint\n"
          ],
          "name": "stdout"
        }
      ]
    },
    {
      "cell_type": "code",
      "metadata": {
        "id": "_JMbT9o4tKBh"
      },
      "source": [
        "# 型はは次の 2つの形式をとる。\r\n",
        "\r\n",
        "# 記号 * は具体的なデータ対象に結びついた型の類をあらわす。\r\n",
        "# k1 と k2 とが類ならば、k1->k2 は k1 という類の型をとり、k2 という類の型を返す型の類である。\r\n",
        "\r\n",
        "# 型構築子 Tree の類は、 *->* であり、Tree Int の類は * である。\r\n",
        "# Functor クラスのメンバーはすべて、類 *->* でなければならず、\r\n",
        "# 類付けのエラーは、次のような宣言により引き起こされる。\r\n",
        "%%script false\r\n",
        "\r\n",
        "instance Functor Integer where ...\r\n",
        "\r\n",
        "# なぜなら、Integer の類は * だからである。\r\n",
        "# 類は Haskell のプログラムの直接あらわれることはない。\r\n",
        "# コンパイラが型検査の前に類を推論する。「類宣言」のようなものは必要ない。\r\n",
        "# 型シグネチャが類エラーをおこすとき以外は、類は Haskellのプログラムの後ろに隠れている。\r\n",
        "# 類は非常にシンプルなので、コンパイラは、類衝突がおこれば、その旨のエラーメッセージを表示する。\r\n"
      ],
      "execution_count": null,
      "outputs": []
    },
    {
      "cell_type": "code",
      "metadata": {
        "id": "U666LVobgIAO"
      },
      "source": [
        "# オブジェクト指向プログラミング OOP とのアナロジー\r\n",
        "# OOP におけるクラスを型クラスへ置き換え、オブジェクトを型へ置き換えれば、ほぼ Haskell の型クラスになる。\r\n",
        "\r\n",
        "# OOP と比べると、型はオブジェクトではないというのは明かで、\r\n",
        "# OOP 言語に対する利点は、Haskellのメソッドは完全に型安全である。\r\n",
        "# 必要なクラスのなかにはない型の値にメソッドを適用するとしているかどうかは、\r\n",
        "# コンパイル時に検出される。単純に高階関数として引き渡される。\r\n",
        "\r\n",
        "# パラメータ多相とアドホック多相 overloading との関係を考察すると別の見方をすることができる。\r\n",
        "# パラメータ多相がどれほど便利かということは既に示した。\r\n",
        "# しかしながら、ときには、このような包括的グルーピングでは広すぎることもある。\r\n",
        "# もっと小さい型の集合の上でコントロールをしたい場合がある。たとえば、比較同値性をもつような型の集合\r\n",
        "# の上で、という時、型クラスは、これを実現する構造的方法とみなすことができる。\r\n",
        "# パラメータ多相は一種の多重定義とみなすことができ、多重定義は暗黙にすべての型の上で起こり、\r\n",
        "# 限定された型の集合(つまり、型クラス)上で起こるのではない。\r\n",
        "\r\n",
        "# 他の言語との比較\r\n",
        "# Haskell で用いられるクラスは OOP で用いられるクラスに類似している。しかし、いくつかの重大な相違がある。\r\n",
        "\r\n",
        "# Haskell は、型の定義とその型に結びついているメソッドの定義を分離する。 \r\n",
        "# C++ や Java のクラスは、ふつう、データ構造(メンバー変数)とそのデータ構造と結びついた関数(メソッド)\r\n",
        "# の両方を定義する。Haskell ではこれらの定義は別々におこなう。\r\n",
        "\r\n",
        "# Haskell は、型の違う関数が共通の名前を共有するような C++ 流の多重定義 はサポートしていない。\r\n",
        "\r\n",
        "# Haskell のオブジェクトの型は暗黙の型変換を受けない。値が投入あるい\r\n",
        "# は投出される Object のようなすべての基になるようなクラスは ない。\r\n",
        "\r\n",
        "# C++ や Java ではオブジェクトの実行時表現に (VTable のような) 同定情報を付加する。\r\n",
        "# Haskellではこのような情報は、型システムを通じて物理的にではなく、論理的に、値に付加する。\r\n",
        "\r\n",
        "# Haskell のクラスシステムには、(publicあるいは private などといっ\r\n",
        "# たクラス構成要素のような) アクセスコントロールの機構は組込まれていない。\r\n"
      ],
      "execution_count": null,
      "outputs": []
    },
    {
      "cell_type": "markdown",
      "metadata": {
        "id": "i5B44NMHnSoM"
      },
      "source": [
        "# 再び、型について"
      ]
    },
    {
      "cell_type": "code",
      "metadata": {
        "id": "YwEfQHRekl0S"
      },
      "source": [
        "# 再び、型について\r\n",
        "\r\n",
        "# newtype 宣言\r\n",
        "# 表現が既存の型と同一だが，型システムの中では別の型として識別されるような型を定義する。\r\n",
        "# たとえば、Integer 型を次のような宣言で用いて、自然数を表現することができ る。\r\n",
        "%%script false\r\n",
        "\r\n",
        "newtype Natural = MakeNatural Integer\r\n",
        "\r\n",
        "# 完全に新しい型 Natural を生成し、その構築子はひとつ の Integerだけを引数にとる。\r\n",
        "# この構築子 MakeNatural は Natural と Integer との間の変換をおこなう。\r\n",
        "\r\n",
        "toNatural               :: Integer -> Natural\r\n",
        "toNatural x | x < 0     = error \"Can't create negative naturals!\" \r\n",
        "            | otherwise = MakeNatural x\r\n",
        "\r\n",
        "fromNatural             :: Natural -> Integer\r\n",
        "fromNatural (MakeNatural i) = i\r\n",
        "\r\n",
        "# 次のインスタンス宣言は Natural を Num クラスに所属させる。\r\n",
        "\r\n",
        "instance Num Natural where\r\n",
        "    fromInteger         = toNatural\r\n",
        "    x + y               = toNatural (fromNatural x + fromNatural y)\r\n",
        "    x - y               = let r = fromNatural x - fromNatural y in\r\n",
        "                            if r < 0 then error \"Unnatural subtraction\"\r\n",
        "                                     else toNatural r\r\n",
        "    x * y               = toNatural (fromNatural x * fromNatural y)\r\n",
        "\r\n",
        "# この宣言なしでは、Natural は Num には属することができない。\r\n",
        "# 元の型に対するインスタンス宣言内容が、新しい型に持ち越されることはない。\r\n",
        "# 実際、この型の目的は、別の Num のインスタンスを導入することな。\r\n",
        "# もし、Naturalが Integer の型シノニムとして宣言されていれば、これはできない。\r\n",
        "\r\n",
        "# これらはすべて、newtype 宣言ではなく data 宣言を用いて も機能する。\r\n",
        "# しかし、data宣言では、Natural の値の表現にオーバヘッドが生じる。\r\n",
        "# newtype を用いることで data 宣言によって間接参照のレベルが深くなる (これは遅延性の故) \r\n",
        "# のを避けることができる。\r\n",
        "\r\n",
        "# キーワードをのぞけば、newtype 宣言は、単一フィールドをもつ単一 構築子の data\r\n",
        "# 宣言と同じ構文を用いる。\r\n"
      ],
      "execution_count": null,
      "outputs": []
    },
    {
      "cell_type": "code",
      "metadata": {
        "id": "5YJzpJFCnasi"
      },
      "source": [
        "# フィールドラベル\r\n",
        "# Haskell のデータ型内のフィールドは、位置を手がかりにアクセスすることも、\r\n",
        "# フィールドラベルを用いて名前でアクセスすることもできる。\r\n",
        "# 2次元の点に対する型について考察する。\r\n",
        "%%script false\r\n",
        "\r\n",
        "data Point = Pt Float Float\r\n",
        "\r\n",
        "# Point の構成要素は、構築子 Pt の第一引数と第二引数である。 次のような関数が考えられる。\r\n",
        "\r\n",
        "pointx :: Point -> Float\r\n",
        "pointx (Pt x _) = x\r\n",
        "\r\n",
        "# data 宣言における構築子は、フィールド名付で (波括弧で括られて) 宣言することができる。\r\n",
        "# フィールド名は構築子の構成要素を位置によってではなく、名前で同定する。\r\n",
        "\r\n",
        "data Point = Pt {pointx, pointy :: Float}\r\n",
        "\r\n",
        "# このデータ型は Point と同一、構築子 Pt も同じ。\r\n",
        "# しかし、この宣言ではふたつのフィールド名、pointx と pointyとが定義されている。\r\n",
        "# これらのフィールド名は構造の中から構成要素を取り出すための選択関数 (selector function) として使うことができる。\r\n",
        "\r\n",
        "pointx :: Point -> Float\r\n",
        "pointy :: Point -> Float\r\n",
        "\r\n",
        "# この selector を使って次のような関数を作ることができる。\r\n",
        "\r\n",
        "absPoint :: Point -> Float\r\n",
        "absPoint p = sqrt (pointx p * pointx p + pointy p * pointy p)\r\n"
      ],
      "execution_count": null,
      "outputs": []
    },
    {
      "cell_type": "code",
      "metadata": {
        "id": "dGz4IRMa_gX2",
        "colab": {
          "base_uri": "https://localhost:8080/"
        },
        "outputId": "bde56a6a-b8b7-4a4e-dcd5-66e335c60a55"
      },
      "source": [
        "# 実験\r\n",
        "%%writefile point01.hs\r\n",
        "\r\n",
        "data Point = Pt {pointx, pointy :: Float}\r\n",
        "\r\n",
        "absPoint :: Point -> Float\r\n",
        "absPoint p = sqrt (pointx p * pointx p + pointy p * pointy p)\r\n",
        "\r\n",
        "somepoint = Pt 3.1 3.9\r\n",
        "\r\n",
        "main = print $ absPoint somepoint"
      ],
      "execution_count": null,
      "outputs": [
        {
          "output_type": "stream",
          "text": [
            "Overwriting point01.hs\n"
          ],
          "name": "stdout"
        }
      ]
    },
    {
      "cell_type": "code",
      "metadata": {
        "id": "LN1qcT8PARbm",
        "colab": {
          "base_uri": "https://localhost:8080/"
        },
        "outputId": "d49d695c-254b-4932-e80d-b10887022666"
      },
      "source": [
        "!runghc point01.hs"
      ],
      "execution_count": null,
      "outputs": [
        {
          "output_type": "stream",
          "text": [
            "4.9819674\n"
          ],
          "name": "stdout"
        }
      ]
    },
    {
      "cell_type": "code",
      "metadata": {
        "id": "Sva17Rgt_ePK"
      },
      "source": [
        "# フィールドラベルは新しい値を構築するときに使う。\r\n",
        "# 式 Pt {pointx=1, pointy=2} は式 Pt 1 2 と同一。\r\n",
        "# フィールド名を使って値を構築する場合、フィールドをいくつか省略することができる。\r\n",
        "# 省略されたフィールドは定義されない。\r\n",
        "# フィールド名を使ったパターンマッチングは構築子 Pt のときと同じような構文で使いる。\r\n",
        "%%script false\r\n",
        "\r\n",
        "absPoint (Pt {pointx = x, pointy = y}) = sqrt (x*x + y*y)\r\n",
        "\r\n",
        "# 既存の構造中のフィールド値を使って、新しい構造の構成要素を作る (update) ことができる。\r\n",
        "# p が Point ならば、 p {pointx=2} は p と同じ pointy をもつが、pointx は 2 に置き換る。\r\n",
        "# 破壊的更新ではなく、オブジェクトの新しいコピーを生成する。\r\n",
        "\r\n",
        "# フィールドラベルと併せて使用した波括弧はいくぶん特殊な使い方で、\r\n",
        "# 通常、波括弧はレイアウトルールを無視するのに使われるが、\r\n",
        "# フィールド名とむすびついた波括弧は明示的に書かなければならない。\r\n",
        "\r\n",
        "# フィールド名は単一構築子の型 (レコード型とよばれる) に限るものではない。\r\n",
        "# 複数の構築子をもつ型では、フィールド名を用いての選択や更新の操作は実行時エラーを引き起こす可能性がある。\r\n",
        "# これは、空リストにhead を適用したときと似ている。\r\n",
        "\r\n",
        "# フィールドラベルは一般の変数やクラスメソッドとトップレベルの名前空間を共有する。\r\n",
        "# スコープのなかで同じ名前のフィールド、一つ以上のデータ型で使うことはできない。\r\n",
        "# しかし、一つのデータ型の中でなら、型付けが同じあるかぎり、一つ以上の構築子のなかで、使うことができる。\r\n",
        "# たとえば、次のようなデータ型のなかで、\r\n",
        "\r\n",
        "data T = C1 {f :: Int, g :: Float} | C2 {f :: Int, h :: Bool}\r\n",
        "\r\n",
        "# フィールド名 f は型 T の両方の構築子に適用されている。\r\n",
        "# つまり、もし、x の型が T ならば、x {f=5} は T 内のどちらの構築子が生成した値に対しても機能する。\r\n",
        "\r\n",
        "# フィールド名が代数的データ型の基本性質を変えることはない。\r\n",
        "# フィールド名は、データ構造の構成要素にアクセスするのに位置を手がかりにするより、\r\n",
        "# 名前を手がかりにするために用意された、便宜的な構文にすぎない。この構文\r\n",
        "# のおかげで、多くの構成要素をもつ構築子の扱いが簡単になる。\r\n",
        "# フィールドは構築子へのそれぞれの参照を変更することなく追加したり削除したりすることができるからである。\r\n"
      ],
      "execution_count": null,
      "outputs": []
    },
    {
      "cell_type": "code",
      "metadata": {
        "id": "aI5RDS1jnYJU"
      },
      "source": [
        "# 正格データ構築子\r\n",
        "\r\n",
        "# Haskell ではデータ構造は一般的に遅延性をもつ。\r\n",
        "# 構成要素は必要になるまで評価されない。\r\n",
        "# この性質のおかげで、データ構造はもし評価されるとエラーあるいは停止できないような要素を含むことができる。\r\n",
        "# 遅延データ構造は Haskell の表現力を強化し、Haskellのプログラミングスタイルの要になる。\r\n",
        "\r\n",
        "# 内部的には、遅延データオブジェクトの各フィールドはサンク (thunk) とよくいわれる構造に包みこまれている。\r\n",
        "# サンクはフィールド値を定義した計算をカプセル化したもの。\r\n",
        "# 値が必要にならないかぎり、サンクの中へ入ることはない。\r\n",
        "# エラー (_|_ )を含むサンクがあってもデータ構造の他の要素には影響しない。\r\n",
        "# たとえば、タプル ('a',_|_) は完全に正しい Haskell の値である。\r\n",
        "# この 'a' はこのタプルのもう一方の要素にかまうことなく、使うことができる。\r\n",
        "# 他のプログラミング言語は遅延性ではなく正格性をもっている。\r\n",
        "# すなわち、データ構造のすべての要素はそのデータ構造に入れる前に値にまで簡約される。\r\n",
        "\r\n",
        "# サンクにはいろいろなオーバヘッドがついてまわる。\r\n",
        "# サンクを構成するにも、それを評価するにも時間がかかる。\r\n",
        "# ヒープの領域をとるし、そのサンクの評価のために必要な別の構造を確保するため、\r\n",
        "# ガーベッジコレクタを起動することもある。\r\n",
        "# こうしたオーバヘッドを回避するために、正格性フラグを data 宣言で使いる。\r\n",
        "# こうして、選択的に遅延性を抑制することで、指定した構築子のフィールドをただちに評価する。\r\n",
        "# data 宣言の中で、! でマークされたフィールドは、サンクに入れて遅延するのではなく、\r\n",
        "# 構造が生成される際に、直ちに評価される。この正格性フラグを用いるほうがよい状況はいくつかある。\r\n",
        "\r\n",
        "# * プログラム実行中に必ず評価されることが確定している構成要素\r\n",
        "# * 簡単に評価できて絶対にエラーを起こさないことが確定している構成要素\r\n",
        "# * 部分的に未定義の値であると意味のない型\r\n",
        "\r\n",
        "# たとえば、複素数のライブラリが定義している Complex 型は次のようになっている。\r\n",
        "%%script false\r\n",
        "\r\n",
        "data RealFloat a => Complex a = !a :+ !a\r\n",
        "\r\n",
        "# 構築子 :+ の中置定義に注意!\r\n",
        "# この定義では、ふたつの構成要素にマークがついている。\r\n",
        "# 複素数の実数部と虚数部は正格性をもつようにマークされている。\r\n",
        "# これは、複素数のよりコンパクトな表現だが、たとえば、1 :+ _|_ のように未定義の構成要素があっ\r\n",
        "# た場合、全体が未定義 (_|_)になってしまうという代償をはらっている。\r\n",
        "# しかし、部分的にしか定義されていない複素数が必要になることは実際にはありえないので、\r\n",
        "# 効率のよい表現を達成するために正格性フラグを使用するのは意味のあることである。\r\n",
        "\r\n",
        "# 正格性フラグはメモリリーク(もはや使うことはないのにガーベッジコレクタに\r\n",
        "# 回収されない構造)を解決するために使うこともできる。\r\n",
        "\r\n",
        "# 正格性フラグ ! は data 宣言のなかでのみ使われる。\r\n",
        "# そのほかの型シグネチャーや型定義では使えない。\r\n",
        "# 関数の引数に対して正格性をもつようにマークをつける方法はない。\r\n",
        "# しかし、 seq あるいは !$ という関数を使用することで同じ効果が得られる\r\n",
        " \r\n",
        "# 正格性フラグの使い方の正確なガイドラインを示すのは難しい。\r\n",
        "# 注意して使用しなければならない。\r\n",
        "# 遅延性は Haskell の基本的な特徴のひとつであって、\r\n",
        "# そこへ正格性フラグをつけ加えることは無限ループの発見を困難なものにし、ほかの予期せぬ結果をまねきかねない。\r\n"
      ],
      "execution_count": null,
      "outputs": []
    },
    {
      "cell_type": "code",
      "metadata": {
        "id": "K7nqmV_H5zjT"
      },
      "source": [
        "# 入出力\r\n",
        "# Haskell の I/O システムは純粋に関数的である。\r\n",
        "# 命令型の言語では、プログラムは環境を変更するアクションを通じて進行する。\r\n",
        "# 典型的なアクションには、グローバル変数を読むこと、設定すること、ファイルへの書き込み、\r\n",
        "# 入力の読み込み、ウィンドウのオープンなどがある。\r\n",
        "# このようなアクションは Haskell の言語のコアの部分からは、切離されている。\r\n",
        "\r\n",
        "# Haskell の I/O システムは数学のモナド (monad) を基礎として築かれている。\r\n",
        "# しかし、I/O システムを使う上で底流にあるモナドの理論を理解する必要はない。\r\n",
        "# モナドの理論は、I/O にたまたま適合した概念上の構造である。\r\n",
        "# 単純な算術演算を実行するのに群論を理解する必要がないのと同じで、\r\n",
        "# Haskell の I/O を実行するのにモナド理論を理解する必要はない。\r\n",
        "\r\n",
        "# I/O システムを構築しているモナド演算子は別の目的にも使用される。\r\n",
        "# ここでは、モナドという用語を使うのは避けて、I/O システムの使い方に集中する。\r\n",
        "# I/O モナドを単に抽象データ型だと考えておくのがいいだろう。\r\n",
        "\r\n",
        "# アクションは Haskell では呼出すのではなく定義するものである。\r\n",
        "# アクションの定義を評価することでは、実際のアクションは起こらない。\r\n",
        "# むしろ、アクションは、ここまで考えてきた式の評価というものの外側で起こることである。\r\n",
        "\r\n",
        "# アクションはシステムプリミティブとして定義されるようにアトミックなものであり、\r\n",
        "# また、一連のアクションの合成でもある。\r\n",
        "# I/O モナドは複合アクションを構成するためのプリミティブをふくみ、\r\n",
        "# 他の言語では ; (セミコロン) を使って、 文を一列にならべるのと同じように構成する。\r\n",
        "# このモナドの機構はプログラムのなかのアクションをくっつける糊のような役目をする。\r\n",
        "\r\n"
      ],
      "execution_count": null,
      "outputs": []
    },
    {
      "cell_type": "code",
      "metadata": {
        "id": "agn1k1GM_Vks"
      },
      "source": [
        "# I/O の基本演算\r\n",
        "# 各 I/O のアクションはそれぞれ値を返する。\r\n",
        "# 型システムにおいては、返り値 は、IO という「タグ」がつけられている。\r\n",
        "# これはアクションを他の 値と区別するためである。\r\n",
        "# たとえば、関数 getChar の型は、次のようなものである。\r\n",
        "%%script false\r\n",
        "\r\n",
        "getChar :: IO Char\r\n",
        "\r\n",
        "# この IO Char は getChar が呼出されたときに、文字を返すなんらかの動作をする、ということを示している。\r\n",
        "# 意味のある値を 返さないアクションにたいしてはユニット型 () を用いる。\r\n",
        "# たとえば、関数 putChar の型は、次のようなものである。\r\n",
        "\r\n",
        "putChar :: Char -> IO ()\r\n",
        "\r\n",
        "# この関数は引数として文字を取るが、特に意味のある値は返さない。\r\n"
      ],
      "execution_count": null,
      "outputs": []
    },
    {
      "cell_type": "code",
      "metadata": {
        "id": "5jZNjKizEwgZ"
      },
      "source": [
        "\r\n",
        "# アクションは、演算子 >>= (`bind`)を使って、順序付けをする。\r\n",
        "# この演算子を直接使わず、 do 記法という糖衣構文を使うこともできる。\r\n",
        "# この記法では、順序制御の演算子は構文の後に隠れるので、伝統的な言語に近くなる。\r\n",
        "# do 記法は簡単に >>= に展開することができる。\r\n",
        "\r\n",
        "# キーワード do により順に実行される文のならびが導入される。\r\n",
        "# 文はアクションであるとともに、<- を使ってアクションの結果に束縛されたパターンであり、\r\n",
        "# let を使った局所的な定義の集合でもある。\r\n",
        "# do 記法は let や where と同じく、レイアウトを使いる。\r\n",
        "# 適正なインデントをつかえば、波括弧とセミコロンを省略することができる。\r\n",
        "# 次のは一文字よみこみそれを印字する簡単なプログラムである。\r\n",
        "\r\n",
        "main :: IO ()\r\n",
        "main = do c <- getChar\r\n",
        "          putChar c\r\n",
        "\r\n",
        "# main の使い方は重要である。\r\n",
        "# main は (C の main 関数と同様に) Haskell のプログラムのエントリポイントとして定義されている。\r\n",
        "# main は IO 型でなければならない。ふつうは IO () である。\r\n",
        "# main は Main モジュールのなかだけで特別な意味をもつ。\r\n",
        "# 上のプログラムは順に 2 つのアクションを実行する。\r\n",
        "# 最初に、一文字に読み込み、その結果を変数 cへ束縛する。\r\n",
        "# それからその文字を印字する。\r\n",
        "# let 式とはちがい、<- で定義した変数は、そのあとに続く文のなかでのみ有効である。\r\n",
        "\r\n",
        "# do を用いて、アクションを起動し、その結果を知ることができるが、\r\n",
        "# 一連のアクションから結果を返すのはどうするか。\r\n",
        "# たとえば、一文字読み込んでその文字が 'y' であれば、True を返す ready という関数を考えてみよう。\r\n",
        "\r\n",
        "%%script false\r\n",
        "\r\n",
        "ready :: IO Bool\r\n",
        "ready = do c <- getChar\r\n",
        "            c == 'y' -- ダメ!!!\r\n",
        "\r\n",
        "# この関数は、do のなかの 2つめの文が、アクションではなく、単なる真理値なので、動作しない。\r\n",
        "# この真理値をとって、なにもしないが、結果としてこの真理値を返すアクションを生成しなければならない。\r\n",
        "# return 関数はまさにこれを行う。\r\n",
        "\r\n",
        "return :: a -> IO a\r\n",
        "\r\n",
        "# この return 関数はプリミティブの実行を完成させる。\r\n",
        "# ready の最後の行は、return (c == 'y') でなくてはならない。\r\n",
        "\r\n",
        "# では、もっと複雑な I/O 関数を見てみよう。\r\n",
        "# まず、getLine 関数である。\r\n",
        "\r\n",
        "getLine     :: IO String\r\n",
        "getLine     =  do c <- getChar\r\n",
        "                  if c == '\\n'\r\n",
        "                       then return \"\"\r\n",
        "                       else do l <- getLine\r\n",
        "                               return (c:l)\r\n",
        "\r\n",
        "# else 節にある、ふたつめの do に注目。\r\n",
        "# それぞれの do は一本の文の列を構成している。\r\n",
        "# if のように介入的な言語要素はその先のアクション列を導入するのに新たな doを使う必要がある。\r\n",
        "\r\n",
        "# return 関数は真理値などの一般の値を I/O アクションの領域に入れる。\r\n",
        "# その逆はどうか。\r\n",
        "# いくつかの I/O アクションをふつうの式のなかで起動できるか。\r\n",
        "# たとえば、x + print y を式のなかに入れて、y がその式の評価の結果として印字されるようにすることはできるか。\r\n",
        "# できない。\r\n",
        "# 純粋関数型のコードのなかで、こっそりと命令型の世界にしのび込むことはできない。\r\n",
        "# 命令型の世界に「影響される」値にはそれとわかるタグがついている必要がある。\r\n",
        "\r\n",
        "# 次のよう な関数\r\n",
        "\r\n",
        "f :: Int -> Int -> Int\r\n",
        "\r\n",
        "# は絶対に I/O を行うことはできない。\r\n",
        "# それは IO が返り値にあらわ れていないからである。\r\n",
        "# このことは、デバッグのときに文字通りコード全体にわたって\r\n",
        "# print 文を埋めこむことの多いプログラマにとっては悩みの種だろう。\r\n",
        "# 実際のところは、この問題に対処するために、いくつかの安全ではない関数が用意されている。\r\n",
        "# しかし、これらは、上級プログラマにとっておいた方がよいものである。\r\n",
        "# デバッグ用のパッケージ (Trace など) は往々にして「禁じ手」となっている関数を気前よく使っている。\r\n"
      ],
      "execution_count": null,
      "outputs": []
    },
    {
      "cell_type": "code",
      "metadata": {
        "id": "MsQOZjrw_b98"
      },
      "source": [
        "# アクションをつかったプログラミング\r\n",
        "# I/O アクションはふつうの Haskell の値である。\r\n",
        "# 関数にわたされることもあるだろうし、なかに入れることも、Haskell のほかの値とおなじようにできる。\r\n",
        "# 次にアクションのリストを考えてみよう。\r\n",
        "%%script false\r\n",
        "\r\n",
        "todoList :: [IO ()]\r\n",
        "\r\n",
        "todoList = [putChar 'a',\r\n",
        "            do putChar 'b'\r\n",
        "               putChar 'c',\r\n",
        "            do c <- getChar\r\n",
        "               putChar c]\r\n",
        "\r\n",
        "# このリストは実際にはアクションを起動することはない。\r\n",
        "# アクションを保持しているだけである。\r\n",
        "# これらのアクションを一つのアクションにまとめるのは、sequence_ のような関数が必要である。\r\n",
        "\r\n",
        "sequence_        :: [IO ()] -> IO ()\r\n",
        "sequence_ []     =  return ()\r\n",
        "sequence_ (a:as) =  do a\r\n",
        "                       sequence as\r\n",
        "\r\n",
        "# この関数は、なにもせずに、do x;y を x >> y へ展開する。\r\n",
        "\r\n",
        ":t (>>)\r\n",
        "(>>) :: Monad m => m a -> m b -> m b\r\n",
        "\r\n",
        ":i (>>)\r\n",
        "class Applicative m => Monad (m :: * -> *) where\r\n",
        "  (>>) :: m a -> m b -> m b\r\n",
        "        -- Defined in ‘GHC.Base’\r\n",
        "infixl 1 >>\r\n",
        "\r\n",
        "# このパターンの再帰は、foldr 関数でとらえることができる。\r\n",
        "# さらによい sequence_ の定義は以下のようなものである。\r\n",
        "\r\n",
        "sequence_        :: [IO ()] -> IO ()\r\n",
        "sequence_        =  foldr (>>) (return ())\r\n",
        "\r\n",
        "# この do 記法は便利なツールだが、この場合には、その底流にあるモナド演算子 >> を使うほうが適当である。\r\n",
        "# do の構築の基になる演算子を理解することは、Haskell プログラマにとって役にたつこと である。\r\n",
        "\r\n",
        "# sequence_ 関数は、putStr を putChar をつかって構築するときにも使える。\r\n",
        "\r\n",
        "putStr                  :: String -> IO ()\r\n",
        "putStr s                =  sequence_ (map putChar s)\r\n",
        "\r\n",
        "# Haskell と伝統的な命令型の言語との違いのひとつがこの putStr にみてとれる。\r\n",
        "# 命令型の言語では、命令型の putChar を文字列上でマッピングするだけで印字が可能である。\r\n",
        "# しかし、Haskell では map 関数はアクションを実行しない。\r\n",
        "# そのかわり、それぞれ、文字列の一文字に対応するアクションのリストを生成する。\r\n",
        "# sequence_ のなかの畳み込み演算は >>関数をつかって、それぞれの個別の演算をひとつの演算にまとめる。\r\n",
        "# ここでも return () は必要である。\r\n",
        "# foldr は一連のアクションの最後になにもしないアクションを必要とする。\r\n",
        "\r\n",
        "# プレリュードやライブラリには I/O アクションの順序付けに便利な関数がたくさんある。\r\n",
        "# これらの関数はだいたいのものが、任意のモナド用に汎用化されている。\r\n",
        "# Monad m => という文脈を含む関数はどれも IO 型で使える。\r\n"
      ],
      "execution_count": null,
      "outputs": []
    },
    {
      "cell_type": "code",
      "metadata": {
        "id": "7azDhnQ2Jvw2"
      },
      "source": [
        "# 例外処理 exception handling\r\n",
        "# ここまでは、I/O 演算中の例外の問題を避けてきた。\r\n",
        "# もし、getChar がファイルの最後にあたったら、どうなるか。\r\n",
        "# _|_ に対してはエラー error という用語を使う。\r\n",
        "# これは、停止しない、あるいは、パターンマッチが失敗した、というような回復不可能な場合に使う。\r\n",
        "# 一方、例外 exception は、I/O モナド内で捕捉可能および処理可能なものである。\r\n",
        "# I/O モナド中での、「file not found」などの例外的状況をあつかうには、standard ML\r\n",
        "# の入出力にある機能にあるような、ハンドリング機構を使いる。\r\n",
        "# 特別な構文や意味論を用いることはない。\r\n",
        "# 例外処理は、I/Oの順序付け演算子の定義の一部になっている。"
      ],
      "execution_count": null,
      "outputs": []
    },
    {
      "cell_type": "code",
      "metadata": {
        "id": "4THNFokY_Z1p"
      },
      "source": [
        "# 例外は特別なデータ型 IOError としてコード化されている。\r\n",
        "# この 型は I/O モナド中でおこりうるすべての例外を表わしている。\r\n",
        "# これは一種の 抽象型で、ユーザが利用可能な IOError の構築子はない。\r\n",
        "# IOError 型の値に対して使うことができる述語がいくつかある。\r\n",
        "\r\n",
        "%%script false\r\n",
        "\r\n",
        "isEOFError :: IOError -> Bool\r\n",
        "\r\n",
        "# という関数はエラーが、ファイル終端条件でひきおこされたものかどうかを判定する。\r\n",
        "# IOError を抽象型とすることで、明示的なデータ型の変更なしで、新しい種類のエラーをシステムに導入することができる。\r\n",
        "# この isEOFError 関数は IO ライブラリのなかで定義されているので、明示的にインポートする必要がある。\r\n",
        "\r\n",
        "# 例外ハンドラ は IOError -> IO a という型になる。\r\n",
        "# catch 関数は例外ハンドラをアクションあるいはアクションの集まりと関連づける。\r\n",
        "\r\n",
        "catch                     :: IO a -> (IOError -> IO a) -> IO a\r\n",
        "\r\n",
        "# catch の引数はアクションとハンドラである。\r\n",
        "# アクションが成功すれば、ハンドラを起動せずにその結果だけを返する。\r\n",
        "# エラーが起これば、IOError 型の値をハンドラに渡し、そのハンドラに関連づけられているアクションを起動する。\r\n",
        "# 例として、エラーにであうと改行を返す getChar をあげておこう。\r\n",
        "\r\n",
        "getChar'                :: IO Char\r\n",
        "getChar'                =  getChar `catch` (\\e -> return '\\n')\r\n",
        "\r\n",
        "# これは、すべてのエラーについて同じ処理をしているので、あまり洗練された実装ではない。\r\n",
        "# もし、ファイル終端になった場合だけをわけたい場合には、エラーの種類を確かめなければならない。\r\n",
        "\r\n",
        "getChar'                :: IO Char\r\n",
        "getChar'                =  getChar `catch` eofHandler where\r\n",
        "    eofHandler e = if isEofError e then return '\\n' else ioError e\r\n",
        "\r\n",
        "# ここで使われている ioError 関数は次の例外ハンドラに例外を投げる。\r\n",
        "# ioError の型は、\r\n",
        "\r\n",
        "ioError :: IOError -> IO a\r\n",
        "\r\n",
        "# である。\r\n",
        "# これは、つぎの I/O アクションを実行するかわりに、\r\n",
        "# 制御を例外ハンドラに移すという点をのぞけば、return と類似している。\r\n",
        "# catch の入れ子になった呼び出しも可能である。\r\n",
        "# 入れ子になった catch の呼び出しは、入れ子になった例外ハンドラを生成する。\r\n",
        "# この例を、getChar' を使って getLine を再定義することで示そう。\r\n",
        "\r\n",
        "getLine'        :: IO String\r\n",
        "getLine'        = catch getLine'' (\\err -> return (\"Error: \" ++ show err))\r\n",
        "        where\r\n",
        "                   getLine'' = do c <- getChar'\r\n",
        "                         if c == '\\n' then return \"\"\r\n",
        "                                            else do l <- getLine'\r\n",
        "                                                    return (c:l)\r\n",
        "\r\n",
        "\r\n",
        "# 入れ子になったエラーハンドラは getChar' がファイル終端を捕捉することを可能にしている。\r\n",
        "# 一方で、ほかのエラーがおこると \"Error: \" ではじまる文字列が、getLine' から戻る。\r\n",
        "\r\n",
        "# Haskell では利便性確保のために、プログラムの最上位レベルにプログラムを停止し、\r\n",
        "# 例外を印字する例外ハンドラが用意されている。\r\n"
      ],
      "execution_count": null,
      "outputs": []
    },
    {
      "cell_type": "code",
      "metadata": {
        "id": "sxwX91N1_Ptk"
      },
      "source": [
        "# ファイル、チャネル、ハンドル\r\n",
        "# I/O モナドや例外処理機構が提供するもののほか、\r\n",
        "# Haskell の I/O は、他の言語にあるものとほとんど同じ機構が備わっている。\r\n",
        "\r\n",
        "# ファイルをオープンするとハンドル (型は Handle) が生成されて、これを使って I/O のやりとりをする。\r\n",
        "# このハンドルをクローズすると、それに関連付けられているファイルがクローズする。\r\n",
        "%%script false\r\n",
        "\r\n",
        "type FilePath         =  String  -- path names in the file system\r\n",
        "openFile              :: FilePath -> IOMode -> IO Handle\r\n",
        "hClose                :: Handle -> IO () \r\n",
        "data IOMode           =  ReadMode | WriteMode | AppendMode | ReadWriteMode\r\n",
        "\r\n",
        "# ハンドルはチャネルにも関連付けられる。\r\n",
        "# チャネルはファイルとは直接結びつかないコミュニケーションポートである。\r\n",
        "# いくつかのチャネルハンドルは定義済になっている。\r\n",
        "# たとえば、stdin (標準入力)、 stdout (標準出力)、stderr (標準エラー) である。\r\n",
        "# hGetChar や hPutChar の文字単位の I/O演算は、引数のひ とつとして、ハンドルをとる。\r\n",
        "# さきほどの getChar 関数は次のように定義されている。\r\n",
        "\r\n",
        "getChar = hGetChar stdin\r\n",
        "\r\n",
        "# Haskellでは内容全体をひとつの文字列として返すファイルやチャネルが使える。\r\n",
        "\r\n",
        "getContents :: Handle -> IO String\r\n",
        "\r\n",
        "# 実行上、getContents はチャネルやファイルの全内容を一度にすべて\r\n",
        "# 読みこまなければならず、メモリや実行時間が足りなくなるということが起こりそうに見える。\r\n",
        "# しかし、それは間違いである。\r\n",
        "# 鍵となる要点は、 getContents は文字の「遅延」(すなわち非正格)リストを返すということである。\r\n",
        "# このリストの要素は、他のリストと同様に、「必要になってはじめて」読み込まれるのである。\r\n",
        "# この要求駆動の振舞いの実装は、計算側からの要求があるたびに、\r\n",
        "# 一度に一文字づつファイルから読みこむことで実現する。\r\n",
        "\r\n",
        "# 次の例はファイルをコピーする Haskell のプログラムである。\r\n",
        "\r\n",
        "main = do fromHandle <- getAndOpenFile \"Copy from: \" ReadMode\r\n",
        "          toHandle   <- getAndOpenFile \"Copy to: \" WriteMode \r\n",
        "          contents   <- hGetContents fromHandle\r\n",
        "          hPutStr toHandle contents\r\n",
        "          hClose toHandle\r\n",
        "          putStr \"Done.\"\r\n",
        "\r\n",
        "getAndOpenFile          :: String -> IOMode -> IO Handle\r\n",
        "getAndOpenFile prompt mode =\r\n",
        "    do putStr prompt\r\n",
        "       name <- getLine\r\n",
        "       catch (openFile name mode)\r\n",
        "             (\\_ -> do putStrLn (\"Cannot open \"++ name ++ \"\\n\")\r\n",
        "                       getAndOpenFile prompt mode)\r\n",
        "\r\n",
        "\r\n",
        "# 遅延性のある getContents 関数を使うと、ファイルの内容全部を一度にメモリへ読み込む必要がなくなる。\r\n",
        "# もし、hPutStr がバッファとして固定長の文字列を採用するなら、一度にメモリへ読み込むには、\r\n",
        "# 入力ファイル 1 ブロック分だけが必要である。\r\n",
        "# 入力ファイルは最後の文字が読み出されれば、暗黙のうちにクローズされる。\r\n"
      ],
      "execution_count": null,
      "outputs": []
    },
    {
      "cell_type": "code",
      "metadata": {
        "id": "UeqHjVcr_KIA"
      },
      "source": [
        "# Haskell と命令型 imperativeプログラミング\r\n",
        "# 最後に、I/O プログラミングは重大な問題を表面化したことについて考える。\r\n",
        "# このスタイルは従来の命令型のプログラミングとさしてかわらないではないということである。\r\n",
        "\r\n",
        "# たとえば、getLine 関数、\r\n",
        "%%script false\r\n",
        "\r\n",
        "getLine         = do c <- getChar\r\n",
        "                     if c == '\\n'\r\n",
        "                          then return \"\"\r\n",
        "                          else do l <- getLine\r\n",
        "                                  return (c:l)\r\n",
        "\r\n",
        "これは、つぎの命令型のコードと酷似している。\r\n",
        "\r\n",
        "function getLine() {\r\n",
        "  c := getChar();\r\n",
        "  if c == `\\n` then return \"\"\r\n",
        "               else {l := getLine();\r\n",
        "                     return c:l}}\r\n",
        "\r\n",
        "# ということは、結局、Haskell は単に命令型の車輪を再発明しただけなのか。\r\n",
        "\r\n",
        "# ある意味では、そのとおりである。\r\n",
        "# I/O モナドは Haskell のなかに小さな命令型のサブ言語を構成している。\r\n",
        "# それゆえ、プログラムの I/O の構成要素は従来の命令型のコードにそっくりになるのである。\r\n",
        "# しかし、ひとつ大きな違いがある。\r\n",
        "# これを扱うのに特別な意味論を必要としないということである。\r\n",
        "# 特に、 Haskell における等式論証の仕組みはなんら損われていない。\r\n",
        "# プログラム中のモナドのコードの命令型のフィーリングは\r\n",
        "# Haskell の関数的な側面をそこなうものではない。\r\n",
        "# 経験を積んだ関数プログラマはプログラム中の命令型の構成要素を最小限にし、\r\n",
        "# トップレベルで順序付けを最小にし、それについてだけ、I/O モナドを使用することができる。\r\n",
        "# モナドはプログラムの関数的な構成要素と命令的な構成要素を綺麗にわける。\r\n",
        "# 一方で、関数的なサブセットをもつ命令型の言語では純粋に関数的な世界と命令的な世界をへだて\r\n",
        "# るものがハッキリとは定義されていない。\r\n"
      ],
      "execution_count": null,
      "outputs": []
    },
    {
      "cell_type": "markdown",
      "metadata": {
        "id": "t5BIA5BL4Yh6"
      },
      "source": [
        "# 標準クラス"
      ]
    },
    {
      "cell_type": "code",
      "metadata": {
        "id": "zT25Yq303ztF"
      },
      "source": [
        "# 8 Haskell の標準クラス\r\n",
        "# このセクションでは、Haskellの定義済標準型クラスを紹介する。\r\n",
        "# 一部のクラスについては Haskell の標準ライブラリの一部になっている。\r\n",
        "\r\n",
        "# 同値クラスと順序クラス\r\n",
        "# Eq クラスと Ord クラスについては既に述べた。\r\n",
        "# プレリュードにある Ord クラスの定義は、以前に定義した単純なものよりも、複雑だ。\r\n",
        "# 特に、compare メソッドは、以下のようになっている。\r\n",
        "%%script false\r\n",
        "\r\n",
        "data Ordering           =  EQ | LT | GT \r\n",
        "compare                 :: Ord a => a -> a -> Ordering\r\n",
        "\r\n",
        "# compare メソッドがあれば、このクラスの他のすべてのメソッドは定義できる。\r\n",
        "# Ord のインスタンスを生成するにはこの方法が一番すぐれている。\r\n",
        "\r\n",
        "# 列挙クラス\r\n",
        "# Enum クラスには数列表現の糖衣構文の底流にある一連の演算がある。\r\n",
        "# たとえば、数列式 [1,3..] は enumFromThen 1 3 を表わしている。\r\n",
        "# これで、Enum のインスタンスの型であればどの型に対しても、\r\n",
        "# この数列式を用いてリストの生成ができることがわかる。\r\n",
        "# Enum のインスタンスにはほとんどの数値型が含まれているばかりではなく、\r\n",
        "# Char 型も含まれており、['a'..'z'] はアルファベット順にならべた、小文字のリストを表す。\r\n",
        "# さらに、Color のよ うな、ユーザ定義の列挙型を Enum のインスタンスとして宣言できる。\r\n",
        "# それは次のようになる。\r\n",
        "\r\n",
        "[Red .. Violet] => [Red, Green, Blue, Indigo, Violet]\r\n",
        "\r\n",
        "# ここで、注意すべきことは、このような列は、算術的であるということだ。\r\n",
        "# すなわち、各値の増分はそれが数値であろうとなかろうと、一定であるということだ。\r\n",
        "# Enum のほとんどのインスタンスは固定長の整数上に写像することが可能だ。\r\n",
        "# この目的のために、fromEnum や toEnum が用意されており、Int と Enum\r\n",
        "# のインスタンスの間での変換 をおこなう。\r\n",
        "\r\n"
      ],
      "execution_count": null,
      "outputs": []
    },
    {
      "cell_type": "code",
      "metadata": {
        "id": "Yablo8eK6LKJ"
      },
      "source": [
        "# Read クラスと Show クラス\r\n",
        "# Show クラスのインスタンスは文字列への変換 (典型的な目的はI/O) が可能な型だ。\r\n",
        "# Read クラスには、その値を表現する文字列を構文解析する演算が用意されている。\r\n",
        "# Show クラスの最も単純な関数は show だ。\r\n",
        "%%script false\r\n",
        "\r\n",
        "show :: (Show a) => a -> String\r\n",
        "\r\n",
        "# show は当然、対応する型のあらゆる値をとり、その表現として、文字列を返す。\r\n",
        "# たとえば、show (2+2) は \"4\" を返す。\r\n",
        "# このように正しく動作するものについてはいいが、それぞれの型のいろいろな値について、\r\n",
        "# 複雑な表現が必要になる。\r\n",
        "# たとえば、\r\n",
        "\r\n",
        "\r\n",
        "\"The sum of \" ++ show x ++ \" and \" ++ show y ++ \" is \" ++ show (x+y) ++ \".\"\r\n",
        "\r\n",
        "# のような場合、それぞれの文字列を連結しているのでは、能率的ではない。\r\n",
        "# ことに、二分木の文字列表現を考えてみよう。\r\n",
        "# 入れ子になった部分木を表示するために適当なマークをつけてたり、左の枝と右の枝をわける印をつけたりする。\r\n",
        "\r\n",
        "showTree                :: (Show a) => Tree a -> String\r\n",
        "showTree (Leaf x)       =  show x\r\n",
        "showTree (Branch l r)   =  \"<\" ++ showTree l ++ \"|\" ++ showTree r ++ \">\"\r\n",
        "\r\n",
        "# (++) は左側の引数の長さの線型で効く計算量をもつので、\r\n",
        "# showTree は木のサイズの 2 次で効く計算量になる。\r\n",
        "\r\n",
        "# 線型の複雑さを持つように、関数 shows を以下のように定義する。\r\n",
        "\r\n",
        "shows                   :: (Show a) => a -> String -> String\r\n",
        "\r\n",
        "# この shows は印字可能な値と文字列をとり、前の部分にその値の文字列表現を連結した文字列を返す。\r\n",
        "# ふたつめの引数は一種の文字列積算子になる。\r\n",
        "# show は shows にナル積算子をあたえたものとして定義することができる。\r\n",
        "# これは Show クラスの定義のなかの show のデフォルトの定義となる。\r\n",
        "\r\n",
        "show x = shows x \"\"\r\n",
        "\r\n",
        "# shows を使って、showTree のより効率のよい定義をすることができる。\r\n",
        "# このときも、文字列積算子引数をもたせる。\r\n",
        "\r\n",
        "showsTree               :: (Show a) => Tree a -> String -> String\r\n",
        "showsTree (Leaf x) s    =  shows x s\r\n",
        "showsTree (Branch l r) s=  '<' : showsTree l ('|' : showsTree r ('>' : s))\r\n",
        "\r\n",
        "# この定義により効率の問題は解決した。\r\n",
        "# (showsTree の計算量は 線型のオーダだ。) \r\n",
        "# しかし、この関数の表現をさらに改良することができる。\r\n",
        "# まず、型シノニムをつくってみよう。\r\n",
        "\r\n",
        "type ShowS = String -> String\r\n",
        "\r\n",
        "# この型は、なにかの文字列表現に積算子文字列を連ねた文字列を返す関数の型である。\r\n",
        "# つぎに、積算子をもちまわり、長い文字列の構築の右端での括弧の蓄積を\r\n",
        "# 回避するために、関数合成を使うことができる。\r\n",
        "\r\n",
        "showsTree               :: (Show a) => Tree a -> ShowS\r\n",
        "showsTree (Leaf x)      =  shows x\r\n",
        "showsTree (Branch l r)  =  ('<':) . showsTree l . ('|':) . showsTree r . ('>':)\r\n",
        "\r\n",
        "# コードを整理することよりもさらに重要なことが、このプログラム変換によってあきらかになった。\r\n",
        "# それは、オブジェクトレベルでの表現から関数レベルの表現への変換だ。\r\n",
        "# ここで、showsTree の型付 けは、tree から表示関数への写像ということができる。\r\n",
        "# ('<' :) あるいは (\"a string\" ++) のような関数はプリミティブな表示関数で、\r\n",
        "# 関数合成を用いて、より複雑な関数を構築することができる。\r\n"
      ],
      "execution_count": null,
      "outputs": []
    },
    {
      "cell_type": "markdown",
      "metadata": {
        "id": "3Afd1DAExM2I"
      },
      "source": [
        "# いまここ"
      ]
    },
    {
      "cell_type": "code",
      "metadata": {
        "id": "0AVRzQe69qAm"
      },
      "source": [
        "# さて、tree を文字列に換える話に戻ろう。\r\n",
        "# こんどは逆の問題を考える。\r\n",
        "# 基本のアイディアは、型 a に対する構文解析子だ。\r\n",
        "# 型 a の構文解析子は文字列を引数としてとり、 (a,String) のリストを返す関数だ。\r\n",
        "# Prelude にはこのような関数の型シノニムが備えられている。\r\n",
        "%%script false\r\n",
        "\r\n",
        "type ReadS a = String -> [(a,String)]\r\n",
        "\r\n",
        "ふつうの状況では、パーザは単一の要素を含むリストを返する。\r\n",
        "この要素は、 入力文字列から読み込んだ型 aの値と、そのあと構文解析される、残りの文字列の組だ。\r\n",
        "もし、構文解析が不可能であれば、結果は空リストだ。\r\n",
        "もし、2つ以上の構文解析が可能であるなら(この場合は曖昧な構文ということになる)、\r\n",
        "結果は、2 つ以上の組を含むリストになる。\r\n",
        "標準関数の reads は Read のあらゆるインスタンスに対応する構文解析子関数だ。\r\n",
        "\r\n",
        "reads :: (Read a) => ReadS a\r\n",
        "\r\n",
        "この関数を使って、showTree を使ってつくった、二分木の文字列表現を構文解析する関数を定義することができる。\r\n",
        "リストの内包表記はこのような構文解析関数を構築するのに便利なイディオムだ。\r\n",
        "(モナドや構文解析結合子を使ったもっとエレガントな方法もある。\r\n",
        "これらは、ほとんどの Haskellシステムとともに配布される標準の構文解析ライブラリの一部となっている。)\r\n",
        "\r\n",
        "readsTree :: (Read a) => ReadS\r\n",
        "(Tree a)\r\n",
        "readsTree ('<':s) = [(Branch l\r\n",
        "r, u) | (l, '|':t) <-\r\n",
        "readsTree s,\r\n",
        "(r, '>':u) <- readsTree t ]\r\n",
        "readsTree s = [(Leaf x, t) |\r\n",
        "(x,t) <- reads s]\r\n",
        "\r\n",
        "すこし、時間をかけてこの関数の定義を詳細にみていこう。\r\n",
        "考慮すべき状 況がふたつある。\r\n",
        "もし、構文解析の対象となる文字列の最初の文字が '<' の場合、これは、枝の表現にちがいあらない。\r\n",
        "そうでなかっ た場合、これは葉の表現だ。\r\n",
        "最初の場合は、開き三角括弧につづく入力文字列 の残りの部分を s とすると、\r\n",
        "可能な構文解析はなんであれ、 Branch l r となり、残りの文字列は、u となり、以下の条件に従う。\r\n",
        "\r\n",
        "木 l は文字列 s の最初から構文解析されたものとすることができる。\r\n",
        "( l の文字列表現に続く)残りの文字列は '|' で始まる。\r\n",
        "この文字列の先頭をのぞく部分を t とする。\r\n",
        "木 r は文字列 t の最初から構文解析されたものとすることができる。\r\n",
        "この構文解析の残りの文字列は '>' で始まる。\r\n",
        "この文字列の先 頭をのぞく部分は u である。\r\n",
        "リスト内包表記のパターンマッチングの組み合わせによる表現力に注目する。\r\n",
        "リスト内包表記されたメインの式であたえられている構文解析結果の形式は、\r\n",
        "まず、上にあげた 2 つの条件を最初の生成部 ((l,'|':t) は、s の構文解析結果のリストから引出されている。) \r\n",
        "によって表現されている。\r\n",
        "のこりの条件は、2 つめの生成部によって表現されている。\r\n",
        "上の 2つめの定義等式は葉の表現に対する構文解析は、この木の要素の表現を\r\n",
        "構文解析し、その結果に構築子 Leafを適用して、値をうる、という 意味だ。\r\n",
        "\r\n",
        "信仰上、とりあえず、(色々な型があるなかで) Integer の Read (および Show)\r\n",
        "インスタンスがあって、期待通りの振舞いをする reads が備わっていることを受容する。\r\n",
        "つまりは以 下のとおりだ。\r\n",
        "\r\n",
        "(reads \"5 golden rings\") :: [(Integer,String)] => [(5, \"golden rings\")]\r\n",
        "\r\n",
        "これが理解できれば、次の評価を確認できるはずだ。\r\n",
        "\r\n",
        "readsTree \"<1|<2|3>>\" =>\r\n",
        "[(Branch (Leaf 1) (Branch\r\n",
        "(Leaf 2) (Leaf 3)), \"\")]\r\n",
        "readsTree \"<1|2\" => []\r\n",
        "\r\n",
        "いま定義した readsTree には、2 つの欠点がある。\r\n",
        "ひとつは、この構文解析器はたいへん厳格にできていて、木の表現の文字列の要\r\n",
        "素の前や間に空白を許さないというもので、もうひとつは、区切の記号を構文解\r\n",
        "析する方法が葉の値の場合と部分木の場合ではすっかり違うということだ。\r\n",
        "この統一性のなさが、この関数の定義を読みづらいものにしている。\r\n",
        "この 2つの問題をプレリュードで定義されている字句解析器を使って解決することができる。\r\n",
        "\r\n",
        "lex :: ReadS String\r\n",
        "\r\n",
        "lex は通常は、文字列の組の単一要素のリストを返する。\r\n",
        "その組は、 入力の最初の字句と入力ののこりだ。\r\n",
        "ここでの字句のルールは、Haskell プログラムの字句のルールだ。\r\n",
        "lex は空白をスキップする。\r\n",
        "もし、入力文字列が空あるいは空白およびコメントしか含まなければ、lex は [(\"\",\"\")] を返する。\r\n",
        "もし、この意味で空ではなく、かつ、空白のつづく有効な字句ではじまっていない場合には、lex は[] を返す。\r\n",
        "\r\n",
        "この字句解析器を使うと、木の構文解析器はこんなふうになる。\r\n",
        "\r\n",
        "readsTree :: (Read a) => ReadS\r\n",
        "(Tree a)\r\n",
        "readsTree s = [(Branch l r, x)\r\n",
        "| (\"<\", t) <- lex s,\r\n",
        "(l, u) <- readsTree t,\r\n",
        "(\"|\", v) <- lex u,\r\n",
        "(r, w) <- readsTree v,\r\n",
        "(\">\", x) <- lex w ]\r\n",
        "++\r\n",
        "[(Leaf x, t) | (x, t) <- reads\r\n",
        "s ]\r\n",
        "\r\n",
        "\r\n",
        "さて、ここで、readsTree と showsTree\r\n",
        "を使って、 Read のインスタンス (Read a) =>\r\n",
        "Tree a と Show のインスタンス (Show a)\r\n",
        "=> Tree a を宣言 してみよう。\r\n",
        "こうすれば、木の構文解析と表示用にプレリュードにある総称\r\n",
        "的多重定義関数を利用することができる。\r\n",
        "さらに、構成要素に木を含むほかの\r\n",
        "多くの型の構文解析や表示ができるようになる。\r\n",
        "たとえば、 [Tree Integer] のようなものだ。\r\n",
        "ここでわかるように、 readsTree と\r\n",
        "showsTree はほぼ、Show および Read\r\n",
        "のメソッドの型を満している。\r\n",
        "showsPrec と readsPrec\r\n",
        "のメソッドは、shows と reads をパラ\r\n",
        "メータ化したものだ。\r\n",
        "追加されたパラメータは、優先レベルだ。\r\n",
        "これは、中\r\n",
        "置構築子が式に含まれている場合に正しく、括弧付けをおこなうために使用しま\r\n",
        "す。\r\n",
        "Tree のような型に対しては優先度は無視される。\r\n",
        "Show と Read のインスタンスとしての Tree\r\n",
        "は以 下のようになる。\r\n",
        "\r\n",
        "instance Show a => Show (Tree\r\n",
        "a) where\r\n",
        "showsPrec _ x = showsTree x\r\n",
        "\r\n",
        "instance Real a => Read (Tree\r\n",
        "a) where\r\n",
        "readsPrec _ s = readsTree s\r\n",
        "\r\n",
        "また、Show のインスタンスは showTree\r\n",
        "を使って、次のよ うに定義することもできる。\r\n",
        "\r\n",
        "instance Show a => Show (Tree\r\n",
        "a) where\r\n",
        "show t = showTree t\r\n",
        "\r\n",
        "しかし、これは、ShowS バージョンよりも効率の面で劣る。\r\n",
        "Show クラスでは showsPrec と show\r\n",
        "の両方につ\r\n",
        "いてデフォルトのメソッドを定義しており、ユーザはインスタンスひとつにつき、\r\n",
        "どちらかを定義すればいいようになっている。\r\n",
        "これらのデフォルトメソッドは\r\n",
        "相互再帰的になっていますので、インスタンス宣言のなかで、これらの関数のど\r\n",
        "ちらも定義しなかった場合、呼び出しの際にループを引き起こする。\r\n",
        "Num\r\n",
        "のようなクラスの場合でも、このような「相互ロック性のデフォ\r\n",
        "ルトメソッド」がある。\r\n",
        "\r\n",
        "(read . show)\r\n",
        "(これは恒等関数になるはず)をいくつかの 木に適用することで\r\n",
        "Read および Show のインスタンスをテストすることができる。\r\n",
        "ここで、read は reads を特殊化 したものだ。\r\n",
        "\r\n",
        "read :: (Read a) => String -> a\r\n",
        "\r\n",
        "入力に対して、構文解析結果が唯一でない場合、あるいは、\r\n",
        "入力が、a の型のひとつの値に対して 2つ以上の表現(あるいは、コメントや空白)を\r\n",
        "含むような場合には、この関数は失敗する。\r\n",
        "\r\n"
      ],
      "execution_count": null,
      "outputs": []
    },
    {
      "cell_type": "code",
      "metadata": {
        "id": "emzVH1SE6E7N"
      },
      "source": [
        "# 導出されたインスタンス\r\n",
        "5 節で紹介した木の Eq インスタンスについて思い出す。\r\n",
        "このような宣言をいち いち書くのは単純だが、面倒だ。\r\n",
        "葉の要素の型が同値型であることを要求し ているのだから、2つの葉は同値の要素をもつ場合、\r\n",
        "そして、その場合にかぎり同値であり、ふたつの枝は、その左の部分木と右の部分木がそれぞれ等しい場合、\r\n",
        "かつ、その場合にかぎり等しいわけで、それ以外の場合、ふたつの木は同値でない。\r\n",
        "\r\n",
        "instance (Eq a) => Eq (Tree a)\r\n",
        "where\r\n",
        "(Leaf x) == (Leaf y) = x == y\r\n",
        "(Branch l r) == (Branch l' r')\r\n",
        "= l == l' && r == r'\r\n",
        "_ == _ = False\r\n",
        "\r\n",
        "\r\n",
        "幸い、この面倒な作業を、新しい型の同値演算子が必要になるたびに繰り返す必要はない。\r\n",
        "Eq インスタンスは、データ宣言でそのように指定すれば、自動的に導出される。\r\n",
        "\r\n",
        "data Tree a = Leaf a | Branch\r\n",
        "(Tree a) (Tree a) deriving Eq\r\n",
        "\r\n",
        "deriving 節は暗黙のうちに、 5 節にあるように\r\n",
        "Eq インスタンス宣言を生成する。\r\n",
        "Ord、Enum、Ix、 Read、Show\r\n",
        "の各インスタンスも同様に deriving\r\n",
        "節を使って生成することができる。\r\n",
        "[ここでは 2 つ以上のクラス名を指定することができる。その場合にはクラス\r\n",
        "の名前リストは括弧でかこまれ、名前はそれぞれコンマで区切る必要がある。]\r\n",
        "\r\n",
        "Tree に対して導出された Ord インスタンスは Eq の場合にくらべていくぶん複雑だ。\r\n",
        "\r\n",
        "instance (Ord a) => Ord (Tree\r\n",
        "a) where\r\n",
        "(Leaf _) <= (Branch _) = True\r\n",
        "(Leaf x) <= (Leaf y) = x <= y\r\n",
        "(Branch _) <= (Leaf _) = False\r\n",
        "(Branch l r) <= (Branch l' r')\r\n",
        "= l == l' && r <= r' || l <=\r\n",
        "l'\r\n",
        "\r\n",
        "ここでは、辞書順 を指定している。\r\n",
        "構築子は、data 宣言\r\n",
        "中でその出現の順にならべられている。\r\n",
        "そして、構築子への引数は左から右へ と比較されていくる。\r\n",
        "組み込みのリスト型は意味論的には2つの構築子をもつ\r\n",
        "型と同じであることを思いだしてください。\r\n",
        "実際にこの完全な定義は\r\n",
        "\r\n",
        "data [a] = [] | a : [a]\r\n",
        "deriving (Eq, Ord) --\r\n",
        "pseudo-code\r\n",
        "\r\n",
        "だ。\r\n",
        "(リストは、Text\r\n",
        "インスタンスでもありますが、これは導出さ れない。\r\n",
        ") リストに対して導出された Eq および Ord の\r\n",
        "インスタンスはごくふつうのものだ。\r\n",
        "特に、文字のリストとしての文字列は、 その基になる Char\r\n",
        "型の順序によって、ならべられる。\r\n",
        "先頭部分文 字列はそれより長い文字列よりも小さいと判定する。\r\n",
        "たとえば、 \"cat\" < \"catalog\" だ。\r\n",
        "\r\n",
        "An intransitive (==)\r\n",
        "predicate, for example, could\r\n",
        "be disastrous, confusing\r\n",
        "readers of the program and\r\n",
        "confounding manual or\r\n",
        "automatic program\r\n",
        "transformations that rely on\r\n",
        "the (==) predicate's being an\r\n",
        "approximation to definitional\r\n",
        "equality.\r\n",
        "実際問題として、Eq および Ord\r\n",
        "のインスタンスは、ほとん\r\n",
        "どの場合、ユーザの定義ではなく、導出される。\r\n",
        "実際、すこしばかり、どきどきしますが、同値関係と全順序関係という代数的\r\n",
        "な性質を維持するように注意しながら、独自の同値述語や順序述語を定義しなけ\r\n",
        "ればならない。\r\n",
        "自動詞的な (==)\r\n",
        "述語は、たとえば、大変苦痛で、プログラムを読\r\n",
        "むものを困惑させ、手動あるいは自動的な、(==)\r\n",
        "述語が明白な同値性\r\n",
        "の近似であることに依存する、プログラム変換を困難なものにする。\r\n",
        "とはいうものの、導出されるものとはちがう Eq あるいは\r\n",
        "Ord のインスタンスが必要な場合もある。\r\n",
        "もっとも重要な例は、\r\n",
        "同じ抽象値をあらわす別の具体的な値となるような抽象型のインスタンスの例で\r\n",
        "す。\r\n",
        "\r\n",
        "列挙型は導出された Enum のインスタンスをもちる。\r\n",
        "ここで、この 型の順序は data\r\n",
        "宣言での構築子の出現順になる。\r\n",
        "たとえば、\r\n",
        "\r\n",
        "data Day = Sunday | Monday |\r\n",
        "Tuesday | Wednesday\r\n",
        "| Thursday | Friday | Saturday\r\n",
        "deriving (Enum)\r\n",
        "\r\n",
        "このとき、この型に対して導出されたインスタンスを用いた単純な例は次のよう\r\n",
        "なものになる。\r\n",
        "\r\n",
        "[Wednesday .. Friday] =>\r\n",
        "[Wednesday, Thursday, Friday]\r\n",
        "[Monday, Wednesday ..] =>\r\n",
        "[Monday, Wednesday, Friday]\r\n",
        "その構成要素が Read (Show)\r\n",
        "のインスタンスであるような 型なら、その型に対して Read\r\n",
        "(Show) のインスタンスであ\r\n",
        "ることを導出することが可能だ。\r\n",
        "(標準の型のほとんどについては、 Read および Show\r\n",
        "のインスタンスであることが、プレリュー\r\n",
        "ドのなかで示されている。\r\n",
        "関数の型である (->) のような型の いくつかは、Show\r\n",
        "インスタンスではありますが、それに対応した Read\r\n",
        "のインスタンスではあらない。\r\n",
        ") 導出された Show\r\n",
        "インスタンスで定義されるテキストでの表現は、対象となる型の\r\n",
        "Haskell での 定数式の見かけと整合性がある。\r\n",
        "例えば、型 Day について Show と Read をその\r\n",
        "deriving 節に加えると、\r\n",
        "\r\n",
        "show [Monday .. Wednesday] =>\r\n",
        "\"[Monday,Tuesday,Wednesday]\"\r\n",
        "\r\n",
        "を得ることができる。\r\n",
        "\r\n",
        "A Gentle Introduction to\r\n",
        "Haskell, Version 98\r\n",
        "back next top\r\n"
      ],
      "execution_count": null,
      "outputs": []
    }
  ]
}