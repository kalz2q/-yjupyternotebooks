{
  "nbformat": 4,
  "nbformat_minor": 0,
  "metadata": {
    "colab": {
      "name": "haskell_gentle.ipynb",
      "provenance": [],
      "toc_visible": true,
      "authorship_tag": "ABX9TyM2D+VSzkeCahelapAKi820",
      "include_colab_link": true
    },
    "kernelspec": {
      "name": "python3",
      "display_name": "Python 3"
    }
  },
  "cells": [
    {
      "cell_type": "markdown",
      "metadata": {
        "id": "view-in-github",
        "colab_type": "text"
      },
      "source": [
        "<a href=\"https://colab.research.google.com/github/kalz2q/mycolabnotebooks/blob/master/haskell_gentle.ipynb\" target=\"_parent\"><img src=\"https://colab.research.google.com/assets/colab-badge.svg\" alt=\"Open In Colab\"/></a>"
      ]
    },
    {
      "cell_type": "markdown",
      "metadata": {
        "id": "W3PkoT_HorRB"
      },
      "source": [
        "# メモ\r\n",
        "\r\n",
        "a gentle introduction to haskell  \r\n",
        "https://www.sampou.org/haskell/tutorial-j/  \r\n",
        "https://www.haskell.org/tutorial/  \r\n",
        "を読む。ノート。"
      ]
    },
    {
      "cell_type": "code",
      "metadata": {
        "id": "Sxl3u4P4ohJ3"
      },
      "source": [
        "# 型付け\r\n",
        "%%script false\r\n",
        "                         5  :: Integer\r\n",
        "                        'a' :: Char\r\n",
        "                        inc :: Integer -> Integer\r\n",
        "                    [1,2,3] :: [Integer]\r\n",
        "                    ('b',4) :: (Char,Integer)\r\n",
        "\r\n",
        "# :: はなになにの型はなになに \"has type\" と読むことができる\r\n"
      ],
      "execution_count": null,
      "outputs": []
    },
    {
      "cell_type": "code",
      "metadata": {
        "id": "rTYlGnFKrEVV"
      },
      "source": [
        "# 関数定義\r\n",
        "%%script false\r\n",
        "\r\n",
        "inc n          = n+1\r\n",
        "\r\n",
        "inc            :: Integer -> Integer\r\n",
        "\r\n"
      ],
      "execution_count": null,
      "outputs": []
    },
    {
      "cell_type": "code",
      "metadata": {
        "id": "YHINhqE_xkS7"
      },
      "source": [
        "# e1 が評価され e2 になることを\r\n",
        "# e1 => e2\r\n",
        "# と書く。\r\n",
        "\r\n",
        "# 例えば\r\n",
        "%%script false\r\n",
        "\r\n",
        "inc (inc 3) => 5\r\n",
        "\r\n"
      ],
      "execution_count": null,
      "outputs": []
    },
    {
      "cell_type": "code",
      "metadata": {
        "id": "z5RsjAx-x-4Y"
      },
      "source": [
        "# list とは\r\n",
        "%%script false\r\n",
        "\r\n",
        "length                  :: [a] -> Integer\r\n",
        "length []               =  0\r\n",
        "length (x:xs)           =  1 + length xs\r\n",
        "\r\n",
        "length [1,2,3]\t=>\t3\r\n",
        "length ['a','b','c']\t=>\t3\r\n",
        "length [[1],[2],[3]]\t=>\t3"
      ],
      "execution_count": null,
      "outputs": []
    },
    {
      "cell_type": "code",
      "metadata": {
        "id": "lLgRxRVLh2D9"
      },
      "source": [
        "# head と tail\r\n",
        "%%script false\r\n",
        "\r\n",
        "head                    :: [a] -> a\r\n",
        "head (x:xs)             =  x\r\n",
        "\r\n",
        "tail                    :: [a] -> [a]\r\n",
        "tail (x:xs)             =  xs\r\n",
        "\r\n",
        "#  head と tail はカラのリストではエラーになる\r\n"
      ],
      "execution_count": null,
      "outputs": []
    },
    {
      "cell_type": "code",
      "metadata": {
        "id": "WoimBfFbrRTh"
      },
      "source": [
        "# 型の定義\r\n",
        "%%script false\r\n",
        "\r\n",
        "data Bool               = False | True\r\n",
        "\r\n",
        "# Bool, False, True は引数を持たないコンストラクタ nullary constructor\r\n",
        "# Bool が型の名前、型コンストラクタで、False, True がデータコンストラクタ\r\n",
        "\r\n",
        "data Color              = Red | Green | Blue | Indigo | Violet\r\n",
        "\r\n",
        "# Bool, Color は列挙型 enumerated type\r\n"
      ],
      "execution_count": null,
      "outputs": []
    },
    {
      "cell_type": "code",
      "metadata": {
        "id": "0Q-fYTMN38JL"
      },
      "source": [
        "# 次のは 1つだけデータコンストラクタ(Pt a a)を持つ型\r\n",
        "\r\n",
        "data Point a            = Pt a a\r\n",
        "\r\n",
        "# Point のような型はタプル型と呼ばれる。 なぜなら本質的に他の型の直積(デカルト積)だから。\r\n",
        "# Bool, Color のような複数のデータコンストラクタを持つ型は直和型((disjoint) union or sum types)と呼ばれる。\r\n",
        "\r\n",
        "# Point は多相型なので、次のは正しい。\r\n",
        "\r\n",
        "Pt 2.0 3.0 :: Point Float\r\n",
        "Pt 'a' 'b' :: Point Char\r\n",
        "Pt True False :: Point Bool\r\n",
        "\r\n",
        "# 多相型の型コンストラクタとして、[] や -> がある。\r\n",
        "\r\n",
        "# データコンストラクタを適用して値を得ることと、型コンストラクタを適用して型を得ることを区別する。\r\n",
        "# 名前空間が違うので、同じ名前が使える。\r\n",
        "data Point a = Point a a"
      ],
      "execution_count": null,
      "outputs": []
    },
    {
      "cell_type": "code",
      "metadata": {
        "id": "Jyuv8v8a8ZUD"
      },
      "source": [
        "# 再帰型\r\n",
        "%%script false\r\n",
        "\r\n",
        "data Tree a = Leaf a | Branch (Tree a) (Tree a)\r\n",
        "\r\n",
        "# ここで Tree は型コンストラクタで Branch や Leaf はデータコンストラクタなので\r\n",
        "\r\n",
        "Branch :: Tree a -> Tree a -> Tree a\r\n",
        "Leaf :: a -> Tree a\r\n",
        "\r\n",
        "# ということになる。\r\n",
        "\r\n",
        "# fringeという、木を左から右へたどって「葉」にある要素のリストを返す関数を定義したいとする。\r\n",
        "# その定義は次のようになる\r\n",
        "\r\n",
        "fringe :: Tree a -> [a]\r\n",
        "fringe (Leaf x) = [x]\r\n",
        "fringe (Branch left right) = fringe left ++ fringe right\r\n"
      ],
      "execution_count": null,
      "outputs": []
    },
    {
      "cell_type": "code",
      "metadata": {
        "id": "1pmHUaAQUMx7"
      },
      "source": [
        "# type synonym 型の同義名、シノニム\r\n",
        "%%script false\r\n",
        "\r\n",
        "type String = [Char]\r\n",
        "type Person = (Name, Address)\r\n",
        "type Name = String\r\n",
        "data Address = None | Addr String\r\n",
        "\r\n",
        "type AssocList a b = [(a,b)]\r\n"
      ],
      "execution_count": null,
      "outputs": []
    },
    {
      "cell_type": "code",
      "metadata": {
        "id": "54rS1eZ8Uxs3"
      },
      "source": [
        "# Built-in 組み込みの型について\r\n",
        "# 例えば Char は\r\n",
        "%%script false\r\n",
        "data Char = \r\n",
        "    Ca | Cb | Cc | ...\r\n",
        "    | CA | CB | CC | ...\r\n",
        "    | C1 | C2 | C3 | ...\r\n",
        "    ...\r\n",
        "\r\n",
        "# 同様に\r\n",
        "\r\n",
        "data Int = -65532 | ... | -1 | 0 | 1 | ... | 65532\r\n",
        "\r\n",
        "data Integer = ... -2 | -1 | 0 | 1 | 2 ...\r\n",
        "\r\n",
        "# のように考えることができる。ここで、-65532と65532は、与えられた処理系における固定精度整数の最小値と最大値。\r\n",
        "\r\n",
        "# タプルもこのやりかたで定義できる。\r\n",
        "\r\n",
        "data (a,b) = (a,b)\r\n",
        "data (a,b,c) = (a,b,c)\r\n",
        "data (a,b,c,d) = (a,b,c,d)\r\n",
        "        . .\r\n",
        "        . .\r\n",
        "        . .\r\n",
        "\r\n",
        "# リストも同様に定義できる。リストの場合は再帰的になる。\r\n",
        "\r\n",
        "data [a] = [] | a : [a]\r\n",
        "\r\n",
        "# タプルとリストの違いから次のようなルールが明らかである。\r\n",
        "\r\n",
        "# (e1,e2,...,en), n>=2 に対して、もし、ti が ei の型であるとす るならば、タプルの型は (t1,t2,...,tn) \r\n",
        "# [e1,e2,...,en], n>=0 に対して各 ei が必ず同じ型 t であるなら、そのリストの 型は [t]\r\n",
        "\r\n"
      ],
      "execution_count": null,
      "outputs": []
    },
    {
      "cell_type": "code",
      "metadata": {
        "id": "T0-81qtasBS9"
      },
      "source": [
        "# リスト内包表記 List Comprehensions と 数列 Arithmetic Sequences\r\n",
        "%%script false\r\n",
        "\r\n",
        "[ f x | x <- xs ]\r\n",
        "\r\n",
        "[ (x,y) | x <- xs, y <- ys ]\r\n",
        "\r\n",
        "# xs = [1,2] 、ys = [3,4] ならば =>  [(1,3),(1,4),(2,3),(2,4)] となる。\r\n",
        "\r\n",
        "# ガード guard\r\n",
        "\r\n",
        "quicksort [] = []\r\n",
        "quicksort (x:xs) = quicksort [y | y <- xs, y<x ] ++ [x] ++ quicksort [y | y <- xs, y>=x]\r\n",
        "\r\n",
        "# 数列 Arithmetic Sequences\r\n",
        "\r\n",
        "[1..10] => [1,2,3,4,5,6,7,8,9,10] -- 10 も入ることに注意\r\n",
        "[1,3..10] => [1,3,5,7,9] -- 10 以下の奇数\r\n",
        "[1,3..] => [1,3,5,7,9, ...] -- 無限\r\n",
        "\r\n"
      ],
      "execution_count": null,
      "outputs": []
    },
    {
      "cell_type": "code",
      "metadata": {
        "id": "NXfjmS6J_sKc"
      },
      "source": [
        "# 文字列 String\r\n",
        "%%script false\r\n",
        "\r\n",
        "['h','e','l','l','o'] = \"hello\"\r\n",
        "\r\n",
        "type String = [Char]\r\n",
        "\r\n",
        "\"hello\" ++ \" world\" => \"hello world\"\r\n"
      ],
      "execution_count": null,
      "outputs": []
    },
    {
      "cell_type": "code",
      "metadata": {
        "id": "fzudYNjSSc1S"
      },
      "source": [
        "# 関数\r\n",
        "%%script false\r\n",
        "\r\n",
        "add :: Integer -> Integer -> Integer\r\n",
        "add x y = x + y\r\n",
        "\r\n",
        "# これは add (x,y) = x + y とは違う\r\n"
      ],
      "execution_count": null,
      "outputs": []
    },
    {
      "cell_type": "code",
      "metadata": {
        "id": "zzgGYrSuUqn-",
        "colab": {
          "base_uri": "https://localhost:8080/"
        },
        "outputId": "647a3f00-1349-4817-8ff4-96bcece5909c"
      },
      "source": [
        "# 実験\r\n",
        "!ghc -e $'let {add x y = x + y; inc = add 1} in print (inc 4) '\r\n",
        "!ghc -e $'let {add (x y) = x + y; inc = add 1} in print (inc 4) ' #=> Parse error\r\n",
        "!ghc -e $'let {add x y = x + y; inc = add 1} in print (add 4 5) '\r\n",
        "!ghc -e $'let {add (x, y) = x + y} in print (add (4, 5)) '"
      ],
      "execution_count": null,
      "outputs": [
        {
          "output_type": "stream",
          "text": [
            "5\n",
            "\n",
            "<interactive>:0:11: error: Parse error in pattern: x\n",
            "9\n",
            "9\n"
          ],
          "name": "stdout"
        }
      ]
    },
    {
      "cell_type": "code",
      "metadata": {
        "id": "HXzyrmrSUplh"
      },
      "source": [
        "# map 関数は関数を引数にとる\r\n",
        "%%script false\r\n",
        "\r\n",
        "map :: (a->b) -> [a] -> [b]\r\n",
        "map f [] = []\r\n",
        "map f (x:xs) = f x : map f xs\r\n",
        "\r\n",
        "map (add 1) [1,2,3] => [2,3,4]\r\n",
        "\r\n",
        "# この例は関数が第一級の対象 (first-class object) であることを示している。\r\n",
        "# このような使いかたをする関数は高階 (higher-order)関数とよばれる。\r\n"
      ],
      "execution_count": null,
      "outputs": []
    },
    {
      "cell_type": "code",
      "metadata": {
        "id": "UVud-SgCTuK-"
      },
      "source": [
        "# ラムダ抽象 (lambda abstraction) 無名関数\r\n",
        "# 例えば inc は  \\x -> x+1 と書く。\r\n",
        "# add は \\x -> \\y -> x + y と書く。\r\n",
        "# 簡略化して \\x y -> x + y と書く。\r\n",
        "%%script false\r\n",
        "\r\n",
        "inc x = x+1\r\n",
        "add x y = x+y\r\n",
        "\r\n",
        "# は次の等式と同等\r\n",
        "\r\n",
        "inc = \\x -> x+1\r\n",
        "add = \\x y -> x+y\r\n"
      ],
      "execution_count": null,
      "outputs": []
    },
    {
      "cell_type": "code",
      "metadata": {
        "id": "0vHy_7FYkFa5"
      },
      "source": [
        "# 中置演算子 infix operator\r\n",
        "# 中置演算子は関数なので、等式を使って定義\r\n",
        "%%script false\r\n",
        "\r\n",
        "# リストの連結演算子\r\n",
        "(++) :: [a] -> [a] -> [a]\r\n",
        "[] ++ ys = ys\r\n",
        "(x:xs) ++ ys = x : (xs++ys)\r\n",
        "\r\n",
        "# マイナス(-)は前置演算子にも、中置演算子にもなる。\r\n",
        "\r\n",
        "# 関数合成(function composition)演算子\r\n",
        "\r\n",
        "(.) :: (b->c) -> (a->b) -> (a->c)\r\n",
        "f . g = \\ x -> f (g x)\r\n",
        "\r\n",
        "# 中置演算子の部分適用は section と呼ばれる\r\n",
        "\r\n",
        "(x+) = \\y -> x+y\r\n",
        "(+y) = \\x -> x+y\r\n",
        "(+) = \\x y -> x+y\r\n"
      ],
      "execution_count": null,
      "outputs": []
    },
    {
      "cell_type": "code",
      "metadata": {
        "id": "rmHpY3dUdFXR",
        "outputId": "4ad7e589-e0fe-4fc9-d6fa-a567117e302d",
        "colab": {
          "base_uri": "https://localhost:8080/"
        }
      },
      "source": [
        "# 実験 中置演算子の部分適用が関数を返すことの確認\r\n",
        "# map (+) [1,2,3] は関数のリスト\r\n",
        "\r\n",
        "!ghc -e $'((map (+) [1,2,3])!!1) 5' #=> 7\r\n",
        "!ghc -e $'((map (/) [1,2,3])!!1) 5' #=> 0.4\r\n",
        "!ghc -e $'(map (5/) [1,2,3])!!1' #=> 2.5\r\n",
        "!echo\r\n",
        "!ghc -e $'map (/5) [1,2,3]'\r\n",
        "!ghc -e $'map (5/) [1,2,3]'\r\n",
        "!echo\r\n",
        "!ghc -e $'map (^2) [1,2,3]'\r\n",
        "!ghc -e $'map (2^) [1,2,3]'"
      ],
      "execution_count": 5,
      "outputs": [
        {
          "output_type": "stream",
          "text": [
            "7\n",
            "0.4\n",
            "2.5\n",
            "\n",
            "[0.2,0.4,0.6]\n",
            "[5.0,2.5,1.6666666666666667]\n",
            "\n",
            "[1,4,9]\n",
            "[2,4,8]\n"
          ],
          "name": "stdout"
        }
      ]
    },
    {
      "cell_type": "code",
      "metadata": {
        "id": "eqqaVVQ9Tms2"
      },
      "source": [
        "# したがって\r\n",
        "%%script false\r\n",
        "\r\n",
        "inc = (+ 1)\r\n",
        "add = (+)\r\n",
        "\r\n",
        "# と書ける\r\n"
      ],
      "execution_count": null,
      "outputs": []
    },
    {
      "cell_type": "code",
      "metadata": {
        "id": "mMSn2u39e-I2"
      },
      "source": [
        "# 関数をバッククオートで括ると中置演算子になる\r\n",
        "%%script false\r\n",
        "\r\n",
        "x `elem` xs\r\n",
        "\r\n",
        "# は直感的に、x は xs の要素である ( x is an element of xs ) と読める。\r\n",
        "\r\n",
        "# (-) については特別なルールがある。\r\n"
      ],
      "execution_count": null,
      "outputs": []
    },
    {
      "cell_type": "code",
      "metadata": {
        "id": "lMib8a4fTi8f"
      },
      "source": [
        "# 結合度 fixity の優先順位\r\n",
        "# fixity declaration では 0 から 9 を指定する。 9 が最強。\r\n",
        "# 一般の関数は 10 と仮定されている。\r\n",
        "# infixr は右結合、 infixl は左結合\r\n",
        "%%script false\r\n",
        "\r\n",
        "infixr 5 ++\r\n",
        "infixr 9 .\r\n",
        "\r\n",
        "# デフォルトは infixl 9\r\n",
        "\r\n"
      ],
      "execution_count": null,
      "outputs": []
    },
    {
      "cell_type": "markdown",
      "metadata": {
        "id": "9-lkROGPkKPJ"
      },
      "source": [
        "# いまここ"
      ]
    },
    {
      "cell_type": "code",
      "metadata": {
        "id": "iwJlMBTTTfCA"
      },
      "source": [
        "# 関数は非正格 non-strict\r\n",
        "# bot が次のように定義されているとする。\r\n",
        "%%script false\r\n",
        "\r\n",
        "bot = bot\r\n",
        "\r\n",
        "# このような停止しない式の値を抽象的に _|_(ボトム)と表わす。\r\n",
        "# 1/0 もこの値を持ち、エラーは回復不可能で、プログラムはこれ以上継続することはできなくなる。\r\n",
        "# I/O のシステムのエラー(たとえば、EOFエラーなどの例外)は回復可能。\r\n",
        "\r\n",
        "# 関数 f が正格 strict であるとは、停止しない式に適用されれば、その適用式も停止しないこと。\r\n",
        "# ほとんどのプログラミング言語では、すべての関数が正格。Haskell では違う。\r\n",
        "\r\n",
        "const1 x = 1\r\n",
        "\r\n",
        "# のとき、const1 bot は 1 であり、引数は評価されない。 これを遅延評価と呼ぶ。\r\n",
        "\r\n",
        "const1 (1/0)\r\n",
        "\r\n",
        "# も 1 になる。\r\n",
        "\r\n",
        "# 遅延評価により、無限 infinite のデータ構造が扱える。\r\n",
        "\r\n",
        "# 別のやり方で説明すると、Haskell では代入 assignment ではなく、定義 definition を用いる。\r\n",
        "\r\n",
        "v = 1/0\r\n",
        "\r\n",
        "# は、v を 1/0と定義すると読む。vの値が必要になったときにのみゼロ除算エラーが発生する。\r\n"
      ],
      "execution_count": null,
      "outputs": []
    },
    {
      "cell_type": "code",
      "metadata": {
        "id": "q821gWlEjcxz"
      },
      "source": [
        "# 無限のデータ構造\r\n",
        "# データコンストラクタも非正格である。\r\n",
        "# リストのコンストラクタ、: も非正格。\r\n",
        "# 非正格の構築子で(概念的に)無限の infinite データ構造を 定義することができる。\r\n",
        "%%script false\r\n",
        "\r\n",
        "ones = 1 : ones\r\n",
        "\r\n",
        "numsFrom n = n : numsFrom (n+1)\r\n",
        "\r\n",
        "squares = map (^2) (numsFrom 0)\r\n",
        "\r\n",
        "(ここで、セクションの使いかたに注目してください。^\r\n",
        "は中置の指数 演算子です。)\r\n",
        "\r\n",
        "当然のことながら、実際の計算では、そこから、有限の部分を取り出したいわけ\r\n",
        "です。Haskell\r\n",
        "ではこの用途で使える関数があらかじめたくさん定義されていま\r\n",
        "す。take、takeWhile、filter\r\n",
        "等々です。Haskell\r\n",
        "の定義には多くの組み込みの関数や型が含まれています。これらを「標準プレリュー\r\n",
        "ド( Standard Prelude\r\n",
        ")」と呼びます。標準プレリュード全体は、Haskell\r\n",
        "Report の付録 A\r\n",
        "にあります。リスト上の数多くの有用な関数が\r\n",
        "PreludeList\r\n",
        "の部分にありますので、参照してください。例をあげま\r\n",
        "しょう。take はリストから最初の n\r\n",
        "個の要素を取り出しま す。\r\n",
        "\r\n",
        "take 5 squares => [0,1,4,9,16]\r\n",
        "\r\n",
        "上にあげた、ones の定義は、循環リスト(\r\n",
        "circular list\r\n",
        ")の例です。ほとんどの場合、遅延性は効率の面で非常に重要です。表\r\n",
        "現が本当の循環リストとして実装されるので、空間が節約できます。\r\n"
      ],
      "execution_count": null,
      "outputs": []
    },
    {
      "cell_type": "code",
      "metadata": {
        "id": "WdBm8aZeTVcU"
      },
      "source": [
        "\r\n",
        "循環性を使用した別の例をみてみましょう。フィボナッチ数列はつぎのような循\r\n",
        "環数列をつかって効率よく計算することができます。\r\n",
        "\r\n",
        "fib = 1 : 1 : [ a+b | (a,b) <-\r\n",
        "zip fib (tail fib) ]\r\n",
        "\r\n",
        "ここで、zip\r\n",
        "は標準プレリュードにある関数で、引数のふたつのリス\r\n",
        "トの要素を互いにペアにしたリストを返す関数です。\r\n",
        "\r\n",
        "zip (x:xs) (y:ys) = (x,y) :\r\n",
        "zip xs ys\r\n",
        "zip xs ys = []\r\n",
        "\r\n",
        "無限リスト fib\r\n",
        "が自分自身をつかってどのように定義されているかに\r\n",
        "注目してください。「自分の尻尾をおいかける」ような定義になっていますね。\r\n",
        "実際、この計算を絵にえがくと図 1 のようになります。\r\n",
        "\r\n",
        "Fib Example\r\n",
        "図 1\r\n",
        "無限リストの応用のさらにもうひとつの例については 4.4\r\n",
        "節を参照のこと\r\n",
        "\r\n",
        "\r\n",
        "3.5 エラー関数\r\n",
        "Haskell には error\r\n",
        "という組み込みの関数があります。この関数の型 は\r\n",
        "String->a\r\n",
        "です。これはすこしばかり奇妙な関数です。型から\r\n",
        "すると、この関数の返す値の型は多相の型で実際の型がわかりません。この型の\r\n",
        "引数を受けとるわけではないからです。\r\n",
        "\r\n",
        "すべての型によって「共有」される値 _|_\r\n",
        "というのが存在します。 実際、意味論的には、error\r\n",
        "の返す値は常にこの値です(すべてのエラー の値は _|_\r\n",
        "であることを思い出してください)。しかし、実装はチェックのため\r\n",
        "の error\r\n",
        "の文字列引数を印字するというのが妥当なところでしょう。\r\n",
        "それで、この関数は、なにか「誤りがあった場合」、プログラムを停止させたい\r\n",
        "ときに便利です。たとえば、標準プレリュードでは、head\r\n",
        "の定義は以 下のようになっています。\r\n",
        "\r\n",
        "head (x:xs) = x\r\n",
        "head [] = error\r\n",
        "\"head{PreludeList}: head []\"\r\n"
      ],
      "execution_count": null,
      "outputs": []
    }
  ]
}