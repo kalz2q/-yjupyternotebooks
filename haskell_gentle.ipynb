{
  "nbformat": 4,
  "nbformat_minor": 0,
  "metadata": {
    "colab": {
      "name": "haskell_gentle.ipynb",
      "provenance": [],
      "toc_visible": true,
      "authorship_tag": "ABX9TyNC/HhMPr1QJUD5DUPoIM2a",
      "include_colab_link": true
    },
    "kernelspec": {
      "name": "python3",
      "display_name": "Python 3"
    }
  },
  "cells": [
    {
      "cell_type": "markdown",
      "metadata": {
        "id": "view-in-github",
        "colab_type": "text"
      },
      "source": [
        "<a href=\"https://colab.research.google.com/github/kalz2q/mycolabnotebooks/blob/master/haskell_gentle.ipynb\" target=\"_parent\"><img src=\"https://colab.research.google.com/assets/colab-badge.svg\" alt=\"Open In Colab\"/></a>"
      ]
    },
    {
      "cell_type": "markdown",
      "metadata": {
        "id": "W3PkoT_HorRB"
      },
      "source": [
        "# メモ\r\n",
        "\r\n",
        "a gentle introduction to haskell  \r\n",
        "https://www.sampou.org/haskell/tutorial-j/  \r\n",
        "https://www.haskell.org/tutorial/  \r\n",
        "を読む。ノート。"
      ]
    },
    {
      "cell_type": "code",
      "metadata": {
        "id": "1uIL6O97ZUVj"
      },
      "source": [
        "%%capture\r\n",
        "!apt install haskell-platform"
      ],
      "execution_count": 1,
      "outputs": []
    },
    {
      "cell_type": "code",
      "metadata": {
        "id": "4mGx09C_ZeXG",
        "outputId": "23de594f-9301-4eb9-ab4c-aba0b7a991c1",
        "colab": {
          "base_uri": "https://localhost:8080/"
        }
      },
      "source": [
        "!ghc --version"
      ],
      "execution_count": 2,
      "outputs": [
        {
          "output_type": "stream",
          "text": [
            "The Glorious Glasgow Haskell Compilation System, version 8.0.2\n"
          ],
          "name": "stdout"
        }
      ]
    },
    {
      "cell_type": "code",
      "metadata": {
        "id": "Sxl3u4P4ohJ3"
      },
      "source": [
        "# 型付け\r\n",
        "%%script false\r\n",
        "                         5  :: Integer\r\n",
        "                        'a' :: Char\r\n",
        "                        inc :: Integer -> Integer\r\n",
        "                    [1,2,3] :: [Integer]\r\n",
        "                    ('b',4) :: (Char,Integer)\r\n",
        "\r\n",
        "# :: はなになにの型はなになに \"has type\" と読むことができる\r\n"
      ],
      "execution_count": null,
      "outputs": []
    },
    {
      "cell_type": "code",
      "metadata": {
        "id": "rTYlGnFKrEVV"
      },
      "source": [
        "# 関数定義\r\n",
        "%%script false\r\n",
        "\r\n",
        "inc n          = n+1\r\n",
        "\r\n",
        "inc            :: Integer -> Integer\r\n",
        "\r\n"
      ],
      "execution_count": null,
      "outputs": []
    },
    {
      "cell_type": "code",
      "metadata": {
        "id": "YHINhqE_xkS7"
      },
      "source": [
        "# e1 が評価され e2 になることを\r\n",
        "# e1 => e2\r\n",
        "# と書く。\r\n",
        "\r\n",
        "# 例えば\r\n",
        "%%script false\r\n",
        "\r\n",
        "inc (inc 3) => 5\r\n",
        "\r\n"
      ],
      "execution_count": null,
      "outputs": []
    },
    {
      "cell_type": "code",
      "metadata": {
        "id": "z5RsjAx-x-4Y"
      },
      "source": [
        "# list とは\r\n",
        "%%script false\r\n",
        "\r\n",
        "length                  :: [a] -> Integer\r\n",
        "length []               =  0\r\n",
        "length (x:xs)           =  1 + length xs\r\n",
        "\r\n",
        "length [1,2,3]\t=>\t3\r\n",
        "length ['a','b','c']\t=>\t3\r\n",
        "length [[1],[2],[3]]\t=>\t3"
      ],
      "execution_count": null,
      "outputs": []
    },
    {
      "cell_type": "code",
      "metadata": {
        "id": "lLgRxRVLh2D9"
      },
      "source": [
        "# head と tail\r\n",
        "%%script false\r\n",
        "\r\n",
        "head                    :: [a] -> a\r\n",
        "head (x:xs)             =  x\r\n",
        "\r\n",
        "tail                    :: [a] -> [a]\r\n",
        "tail (x:xs)             =  xs\r\n",
        "\r\n",
        "#  head と tail はカラのリストではエラーになる\r\n"
      ],
      "execution_count": null,
      "outputs": []
    },
    {
      "cell_type": "code",
      "metadata": {
        "id": "WoimBfFbrRTh"
      },
      "source": [
        "# 型の定義\r\n",
        "%%script false\r\n",
        "\r\n",
        "data Bool               = False | True\r\n",
        "\r\n",
        "# Bool, False, True は引数を持たないコンストラクタ nullary constructor\r\n",
        "# Bool が型の名前、型コンストラクタで、False, True がデータコンストラクタ\r\n",
        "\r\n",
        "data Color              = Red | Green | Blue | Indigo | Violet\r\n",
        "\r\n",
        "# Bool, Color は列挙型 enumerated type\r\n"
      ],
      "execution_count": null,
      "outputs": []
    },
    {
      "cell_type": "code",
      "metadata": {
        "id": "0Q-fYTMN38JL"
      },
      "source": [
        "# 次のは 1つだけデータコンストラクタ(Pt a a)を持つ型\r\n",
        "\r\n",
        "data Point a            = Pt a a\r\n",
        "\r\n",
        "# Point のような型はタプル型と呼ばれる。 なぜなら本質的に他の型の直積(デカルト積)だから。\r\n",
        "# Bool, Color のような複数のデータコンストラクタを持つ型は直和型((disjoint) union or sum types)と呼ばれる。\r\n",
        "\r\n",
        "# Point は多相型なので、次のは正しい。\r\n",
        "\r\n",
        "Pt 2.0 3.0 :: Point Float\r\n",
        "Pt 'a' 'b' :: Point Char\r\n",
        "Pt True False :: Point Bool\r\n",
        "\r\n",
        "# 多相型の型コンストラクタとして、[] や -> がある。\r\n",
        "\r\n",
        "# データコンストラクタを適用して値を得ることと、型コンストラクタを適用して型を得ることを区別する。\r\n",
        "# 名前空間が違うので、同じ名前が使える。\r\n",
        "data Point a = Point a a"
      ],
      "execution_count": null,
      "outputs": []
    },
    {
      "cell_type": "code",
      "metadata": {
        "id": "Jyuv8v8a8ZUD"
      },
      "source": [
        "# 再帰型\r\n",
        "%%script false\r\n",
        "\r\n",
        "data Tree a = Leaf a | Branch (Tree a) (Tree a)\r\n",
        "\r\n",
        "# ここで Tree は型コンストラクタで Branch や Leaf はデータコンストラクタなので\r\n",
        "\r\n",
        "Branch :: Tree a -> Tree a -> Tree a\r\n",
        "Leaf :: a -> Tree a\r\n",
        "\r\n",
        "# ということになる。\r\n",
        "\r\n",
        "# fringeという、木を左から右へたどって「葉」にある要素のリストを返す関数を定義したいとする。\r\n",
        "# その定義は次のようになる\r\n",
        "\r\n",
        "fringe :: Tree a -> [a]\r\n",
        "fringe (Leaf x) = [x]\r\n",
        "fringe (Branch left right) = fringe left ++ fringe right\r\n"
      ],
      "execution_count": null,
      "outputs": []
    },
    {
      "cell_type": "code",
      "metadata": {
        "id": "1pmHUaAQUMx7"
      },
      "source": [
        "# type synonym 型の同義名、シノニム\r\n",
        "%%script false\r\n",
        "\r\n",
        "type String = [Char]\r\n",
        "type Person = (Name, Address)\r\n",
        "type Name = String\r\n",
        "data Address = None | Addr String\r\n",
        "\r\n",
        "type AssocList a b = [(a,b)]\r\n"
      ],
      "execution_count": null,
      "outputs": []
    },
    {
      "cell_type": "code",
      "metadata": {
        "id": "54rS1eZ8Uxs3"
      },
      "source": [
        "# Built-in 組み込みの型について\r\n",
        "# 例えば Char は\r\n",
        "%%script false\r\n",
        "data Char = \r\n",
        "    Ca | Cb | Cc | ...\r\n",
        "    | CA | CB | CC | ...\r\n",
        "    | C1 | C2 | C3 | ...\r\n",
        "    ...\r\n",
        "\r\n",
        "# 同様に\r\n",
        "\r\n",
        "data Int = -65532 | ... | -1 | 0 | 1 | ... | 65532\r\n",
        "\r\n",
        "data Integer = ... -2 | -1 | 0 | 1 | 2 ...\r\n",
        "\r\n",
        "# のように考えることができる。ここで、-65532と65532は、与えられた処理系における固定精度整数の最小値と最大値。\r\n",
        "\r\n",
        "# タプルもこのやりかたで定義できる。\r\n",
        "\r\n",
        "data (a,b) = (a,b)\r\n",
        "data (a,b,c) = (a,b,c)\r\n",
        "data (a,b,c,d) = (a,b,c,d)\r\n",
        "        . .\r\n",
        "        . .\r\n",
        "        . .\r\n",
        "\r\n",
        "# リストも同様に定義できる。リストの場合は再帰的になる。\r\n",
        "\r\n",
        "data [a] = [] | a : [a]\r\n",
        "\r\n",
        "# タプルとリストの違いから次のようなルールが明らかである。\r\n",
        "\r\n",
        "# (e1,e2,...,en), n>=2 に対して、もし、ti が ei の型であるとす るならば、タプルの型は (t1,t2,...,tn) \r\n",
        "# [e1,e2,...,en], n>=0 に対して各 ei が必ず同じ型 t であるなら、そのリストの 型は [t]\r\n",
        "\r\n"
      ],
      "execution_count": null,
      "outputs": []
    },
    {
      "cell_type": "code",
      "metadata": {
        "id": "T0-81qtasBS9"
      },
      "source": [
        "# リスト内包表記 List Comprehensions と 数列 Arithmetic Sequences\r\n",
        "%%script false\r\n",
        "\r\n",
        "[ f x | x <- xs ]\r\n",
        "\r\n",
        "[ (x,y) | x <- xs, y <- ys ]\r\n",
        "\r\n",
        "# xs = [1,2] 、ys = [3,4] ならば =>  [(1,3),(1,4),(2,3),(2,4)] となる。\r\n",
        "\r\n",
        "# ガード guard\r\n",
        "\r\n",
        "quicksort [] = []\r\n",
        "quicksort (x:xs) = quicksort [y | y <- xs, y<x ] ++ [x] ++ quicksort [y | y <- xs, y>=x]\r\n",
        "\r\n",
        "# 数列 Arithmetic Sequences\r\n",
        "\r\n",
        "[1..10] => [1,2,3,4,5,6,7,8,9,10] -- 10 も入ることに注意\r\n",
        "[1,3..10] => [1,3,5,7,9] -- 10 以下の奇数\r\n",
        "[1,3..] => [1,3,5,7,9, ...] -- 無限\r\n",
        "\r\n"
      ],
      "execution_count": null,
      "outputs": []
    },
    {
      "cell_type": "code",
      "metadata": {
        "id": "NXfjmS6J_sKc"
      },
      "source": [
        "# 文字列 String\r\n",
        "%%script false\r\n",
        "\r\n",
        "['h','e','l','l','o'] = \"hello\"\r\n",
        "\r\n",
        "type String = [Char]\r\n",
        "\r\n",
        "\"hello\" ++ \" world\" => \"hello world\"\r\n"
      ],
      "execution_count": null,
      "outputs": []
    },
    {
      "cell_type": "code",
      "metadata": {
        "id": "fzudYNjSSc1S"
      },
      "source": [
        "# 関数\r\n",
        "%%script false\r\n",
        "\r\n",
        "add :: Integer -> Integer -> Integer\r\n",
        "add x y = x + y\r\n",
        "\r\n",
        "# これは add (x,y) = x + y とは違う\r\n"
      ],
      "execution_count": null,
      "outputs": []
    },
    {
      "cell_type": "code",
      "metadata": {
        "id": "zzgGYrSuUqn-",
        "colab": {
          "base_uri": "https://localhost:8080/"
        },
        "outputId": "647a3f00-1349-4817-8ff4-96bcece5909c"
      },
      "source": [
        "# 実験\r\n",
        "!ghc -e $'let {add x y = x + y; inc = add 1} in print (inc 4) '\r\n",
        "!ghc -e $'let {add (x y) = x + y; inc = add 1} in print (inc 4) ' #=> Parse error\r\n",
        "!ghc -e $'let {add x y = x + y; inc = add 1} in print (add 4 5) '\r\n",
        "!ghc -e $'let {add (x, y) = x + y} in print (add (4, 5)) '"
      ],
      "execution_count": null,
      "outputs": [
        {
          "output_type": "stream",
          "text": [
            "5\n",
            "\n",
            "<interactive>:0:11: error: Parse error in pattern: x\n",
            "9\n",
            "9\n"
          ],
          "name": "stdout"
        }
      ]
    },
    {
      "cell_type": "code",
      "metadata": {
        "id": "HXzyrmrSUplh"
      },
      "source": [
        "# map 関数は関数を引数にとる\r\n",
        "%%script false\r\n",
        "\r\n",
        "map :: (a->b) -> [a] -> [b]\r\n",
        "map f [] = []\r\n",
        "map f (x:xs) = f x : map f xs\r\n",
        "\r\n",
        "map (add 1) [1,2,3] => [2,3,4]\r\n",
        "\r\n",
        "# この例は関数が第一級の対象 (first-class object) であることを示している。\r\n",
        "# このような使いかたをする関数は高階 (higher-order)関数とよばれる。\r\n"
      ],
      "execution_count": null,
      "outputs": []
    },
    {
      "cell_type": "code",
      "metadata": {
        "id": "UVud-SgCTuK-"
      },
      "source": [
        "# ラムダ抽象 (lambda abstraction) 無名関数\r\n",
        "# 例えば inc は  \\x -> x+1 と書く。\r\n",
        "# add は \\x -> \\y -> x + y と書く。\r\n",
        "# 簡略化して \\x y -> x + y と書く。\r\n",
        "%%script false\r\n",
        "\r\n",
        "inc x = x+1\r\n",
        "add x y = x+y\r\n",
        "\r\n",
        "# は次の等式と同等\r\n",
        "\r\n",
        "inc = \\x -> x+1\r\n",
        "add = \\x y -> x+y\r\n"
      ],
      "execution_count": null,
      "outputs": []
    },
    {
      "cell_type": "code",
      "metadata": {
        "id": "0vHy_7FYkFa5"
      },
      "source": [
        "# 中置演算子 infix operator\r\n",
        "# 中置演算子は関数なので、等式を使って定義\r\n",
        "%%script false\r\n",
        "\r\n",
        "# リストの連結演算子\r\n",
        "(++) :: [a] -> [a] -> [a]\r\n",
        "[] ++ ys = ys\r\n",
        "(x:xs) ++ ys = x : (xs++ys)\r\n",
        "\r\n",
        "# マイナス(-)は前置演算子にも、中置演算子にもなる。\r\n",
        "\r\n",
        "# 関数合成(function composition)演算子\r\n",
        "\r\n",
        "(.) :: (b->c) -> (a->b) -> (a->c)\r\n",
        "f . g = \\ x -> f (g x)\r\n",
        "\r\n",
        "# 中置演算子の部分適用は section と呼ばれる\r\n",
        "\r\n",
        "(x+) = \\y -> x+y\r\n",
        "(+y) = \\x -> x+y\r\n",
        "(+) = \\x y -> x+y\r\n"
      ],
      "execution_count": null,
      "outputs": []
    },
    {
      "cell_type": "code",
      "metadata": {
        "id": "rmHpY3dUdFXR",
        "colab": {
          "base_uri": "https://localhost:8080/"
        },
        "outputId": "4ad7e589-e0fe-4fc9-d6fa-a567117e302d"
      },
      "source": [
        "# 実験 中置演算子の部分適用が関数を返すことの確認\r\n",
        "# map (+) [1,2,3] は関数のリスト\r\n",
        "\r\n",
        "!ghc -e $'((map (+) [1,2,3])!!1) 5' #=> 7\r\n",
        "!ghc -e $'((map (/) [1,2,3])!!1) 5' #=> 0.4\r\n",
        "!ghc -e $'(map (5/) [1,2,3])!!1' #=> 2.5\r\n",
        "!echo\r\n",
        "!ghc -e $'map (/5) [1,2,3]'\r\n",
        "!ghc -e $'map (5/) [1,2,3]'\r\n",
        "!echo\r\n",
        "!ghc -e $'map (^2) [1,2,3]'\r\n",
        "!ghc -e $'map (2^) [1,2,3]'"
      ],
      "execution_count": null,
      "outputs": [
        {
          "output_type": "stream",
          "text": [
            "7\n",
            "0.4\n",
            "2.5\n",
            "\n",
            "[0.2,0.4,0.6]\n",
            "[5.0,2.5,1.6666666666666667]\n",
            "\n",
            "[1,4,9]\n",
            "[2,4,8]\n"
          ],
          "name": "stdout"
        }
      ]
    },
    {
      "cell_type": "code",
      "metadata": {
        "id": "eqqaVVQ9Tms2"
      },
      "source": [
        "# したがって\r\n",
        "%%script false\r\n",
        "\r\n",
        "inc = (+ 1)\r\n",
        "add = (+)\r\n",
        "\r\n",
        "# と書ける\r\n"
      ],
      "execution_count": null,
      "outputs": []
    },
    {
      "cell_type": "code",
      "metadata": {
        "id": "mMSn2u39e-I2"
      },
      "source": [
        "# 関数をバッククオートで括ると中置演算子になる\r\n",
        "%%script false\r\n",
        "\r\n",
        "x `elem` xs\r\n",
        "\r\n",
        "# は直感的に、x は xs の要素である ( x is an element of xs ) と読める。\r\n",
        "\r\n",
        "# (-) については特別なルールがある。\r\n"
      ],
      "execution_count": null,
      "outputs": []
    },
    {
      "cell_type": "code",
      "metadata": {
        "id": "lMib8a4fTi8f"
      },
      "source": [
        "# 結合度 fixity の優先順位\r\n",
        "# fixity declaration では 0 から 9 を指定する。 9 が最強。\r\n",
        "# 一般の関数は 10 と仮定されている。\r\n",
        "# infixr は右結合、 infixl は左結合\r\n",
        "%%script false\r\n",
        "\r\n",
        "infixr 5 ++\r\n",
        "infixr 9 .\r\n",
        "\r\n",
        "# デフォルトは infixl 9\r\n",
        "\r\n"
      ],
      "execution_count": null,
      "outputs": []
    },
    {
      "cell_type": "code",
      "metadata": {
        "id": "iwJlMBTTTfCA"
      },
      "source": [
        "# 関数は非正格 non-strict\r\n",
        "# bot が次のように定義されているとする。\r\n",
        "%%script false\r\n",
        "\r\n",
        "bot = bot\r\n",
        "\r\n",
        "# このような停止しない式の値を抽象的に _|_(ボトム)と表わす。\r\n",
        "# 1/0 もこの値を持ち、エラーは回復不可能で、プログラムはこれ以上継続することはできなくなる。\r\n",
        "# I/O のシステムのエラー(たとえば、EOFエラーなどの例外)は回復可能。\r\n",
        "\r\n",
        "# 関数 f が正格 strict であるとは、停止しない式に適用されれば、その適用式も停止しないこと。\r\n",
        "# ほとんどのプログラミング言語では、すべての関数が正格。Haskell では違う。\r\n",
        "\r\n",
        "const1 x = 1\r\n",
        "\r\n",
        "# のとき、const1 bot は 1 であり、引数は評価されない。 これを遅延評価と呼ぶ。\r\n",
        "\r\n",
        "const1 (1/0)\r\n",
        "\r\n",
        "# も 1 になる。\r\n",
        "\r\n",
        "# 遅延評価により、無限 infinite のデータ構造が扱える。\r\n",
        "\r\n",
        "# 別のやり方で説明すると、Haskell では代入 assignment ではなく、定義 definition を用いる。\r\n",
        "\r\n",
        "v = 1/0\r\n",
        "\r\n",
        "# は、v を 1/0と定義すると読む。vの値が必要になったときにのみゼロ除算エラーが発生する。\r\n"
      ],
      "execution_count": null,
      "outputs": []
    },
    {
      "cell_type": "code",
      "metadata": {
        "id": "q821gWlEjcxz"
      },
      "source": [
        "# 無限のデータ構造\r\n",
        "# データコンストラクタも非正格である。\r\n",
        "# リストのコンストラクタ、: も非正格。\r\n",
        "# 非正格の構築子で(概念的に)無限の infinite データ構造を 定義することができる。\r\n",
        "%%script false\r\n",
        "\r\n",
        "ones = 1 : ones\r\n",
        "\r\n",
        "numsFrom n = n : numsFrom (n+1)\r\n",
        "\r\n",
        "squares = map (^2) (numsFrom 0)\r\n"
      ],
      "execution_count": null,
      "outputs": []
    },
    {
      "cell_type": "code",
      "metadata": {
        "id": "-LRVZ6YQsonz",
        "colab": {
          "base_uri": "https://localhost:8080/"
        },
        "outputId": "dc1c4e49-091a-4f28-dde8-c8df7ed71b9c"
      },
      "source": [
        "# 実験 take 5 squares => [0,1,4,9,16]\r\n",
        "!ghc -e $'let{numsFrom n = n:numsFrom(n+1); squares = map (^2)(numsFrom 0)} in print (take 5 squares)'"
      ],
      "execution_count": null,
      "outputs": [
        {
          "output_type": "stream",
          "text": [
            "[0,1,4,9,16]\n"
          ],
          "name": "stdout"
        }
      ]
    },
    {
      "cell_type": "code",
      "metadata": {
        "id": "i9IDhIi8vPQ_",
        "colab": {
          "base_uri": "https://localhost:8080/"
        },
        "outputId": "741dcca6-f49b-413e-ac79-3a7b5c18d490"
      },
      "source": [
        "# 実験 ones は循環リスト circular list\r\n",
        "!ghc -e $'let{ones=1:ones} in print (take 5 ones)'"
      ],
      "execution_count": null,
      "outputs": [
        {
          "output_type": "stream",
          "text": [
            "[1,1,1,1,1]\n"
          ],
          "name": "stdout"
        }
      ]
    },
    {
      "cell_type": "code",
      "metadata": {
        "id": "WdBm8aZeTVcU"
      },
      "source": [
        "# フィボナッチ関数\r\n",
        "%%script false\r\n",
        "\r\n",
        "fib = 1 : 1 : [ a+b | (a,b) <- zip fib (tail fib) ]\r\n",
        "\r\n",
        "# ここで zip とは\r\n",
        "\r\n",
        "zip (x:xs) (y:ys) = (x,y) : zip xs ys\r\n",
        "zip xs ys = []\r\n",
        "\r\n",
        "# エラー関数 error\r\n",
        "\r\n",
        "error :: String-> a\r\n",
        "\r\n",
        "# 型からは返す値の型は多相の型で実際の型がわからない。\r\n",
        "# すべての型によって「共有」される値 _|_ bottom が存在する。\r\n",
        "# error の返す値は常にこの値。しかし、実装はチェックのための error の文字列引数を印字する。\r\n",
        "\r\n",
        "head (x:xs) = x\r\n",
        "head [] = error \"head{PreludeList}: head []\"\r\n"
      ],
      "execution_count": null,
      "outputs": []
    },
    {
      "cell_type": "code",
      "metadata": {
        "id": "kytnaqOUxmKi"
      },
      "source": [
        "# Case 式\r\n",
        "# パターンは入れ子にも使える。\r\n",
        "%%script false\r\n",
        "\r\n",
        "contrived :: ([a], Char, (Int, Float), String, Bool) -> Bool\r\n",
        "contrived ([], 'b', (1, 2.0), \"hi\", True) = False\r\n",
        "\r\n",
        "# 仮引数 (formal parameters) もパターンであり、値にかならず照合が成功する。\r\n",
        "# その副作用として、仮引数は照合が成功した値に束縛される。\r\n",
        "# なぜなら、ひとつの等式であれば、そのなかのパターンには、2つ以上の同じ仮引数が含まれてはいけないから。\r\n",
        "# これは、線型性 (linearity) と呼ばれる。\r\n",
        "# 仮引数のような必ず照合が成功するようなパターンのことを irrefutable パターンと呼び、\r\n",
        "# refutable パターンは照合が成功しない可能性があり contrived の例はこの refutable の例。\r\n",
        "# 不可反駁パターンに は 3つの種類がありそのうち 2つを紹介する。\r\n",
        "\r\n",
        "# アズパターン\r\n",
        "# たとえばリストの第一要素を複製する関数\r\n",
        "\r\n",
        "f (x:xs) = x:x:xs\r\n",
        "\r\n",
        "# 明日パターンを使うと次のようになる。\r\n",
        "\r\n",
        "f s@(x:xs) = x:s\r\n",
        "\r\n",
        "# アズパターンは照合に常に成功するが、サブパターン(この場合は、x:xs)はもちろん照合が成功しないこともある。\r\n",
        "\r\n",
        "# ワイルドカード\r\n",
        "# head 関数や tail 関数は次のように書き換えることができる。\r\n",
        "\r\n",
        "head (x:_) = x\r\n",
        "tail (_:xs) = xs\r\n",
        "\r\n",
        "# 仮引数の場合とちがい、ワイルドカードはひとつの等式のなかに 1つ以上あっても構わない。\r\n"
      ],
      "execution_count": null,
      "outputs": []
    },
    {
      "cell_type": "code",
      "metadata": {
        "id": "lDDePI7Mxz-Y"
      },
      "source": [
        "# パターン照合の意味論 semantics\r\n",
        "\r\n",
        "# パターン照合は、fail, succeed, diverge (発散) の場合がある。\r\n",
        "# 成功すると、パターンの中の仮引数が束縛される。\r\n",
        "# 発散 diverge はパターンが必要とした値がエラー( _|_ )を含んでいた場合。\r\n",
        "# すべての等式でパターン照合が失敗すると、その関数適用の値は _|_ になり、 実行時エラーとなる。\r\n",
        "#\r\n",
        "# たとえば、[1,2] を [0,bot] に照合させようとすると、0 と 1 がマッチしないので照合は失敗。\r\n",
        "# しかし、もし、[1,2] を [bot,0] にマッチさせようとすると、1 を botへ照合させる際に発散がおこる。\r\n",
        "\r\n",
        "# パターンがガード部を持つこともある。\r\n",
        "%%script false\r\n",
        "\r\n",
        "sign x |  x >  0        =   1\r\n",
        "       |  x == 0        =   0\r\n",
        "       |  x <  0        =  -1\r\n"
      ],
      "execution_count": null,
      "outputs": []
    },
    {
      "cell_type": "code",
      "metadata": {
        "id": "Ljcyvf8Wd4Ub"
      },
      "source": [
        "# パターン照合が関数の意味に微妙な影響を与える場合がある\r\n",
        "\r\n",
        "%%script false\r\n",
        "\r\n",
        "take 0 _ = []\r\n",
        "take _ [] = []\r\n",
        "take n (x:xs) = x : take (n-1) xs\r\n",
        "\r\n",
        "# と\r\n",
        "\r\n",
        "take1 _ [] = []\r\n",
        "take1 0 _ = []\r\n",
        "take1 n (x:xs) = x : take1\r\n",
        "(n-1) xs\r\n",
        "\r\n",
        "# 次の結果を見る。\r\n",
        "\r\n",
        "take 0 bot => []\r\n",
        "take1 0 bot => _|_\r\n",
        "take bot [] => _|_\r\n",
        "take1 bot [] => []\r\n",
        "\r\n",
        "# どちらがよいということでなく、違いがあるということを覚えておく。"
      ],
      "execution_count": null,
      "outputs": []
    },
    {
      "cell_type": "code",
      "metadata": {
        "id": "pOuFmZ5RuEUg"
      },
      "source": [
        "# Case 式\r\n",
        "# 関数定義のなかでのパターン照合の意味は、実は case 式のより単純なものと考えられる。\r\n",
        "%%script false\r\n",
        "\r\n",
        "# 次のような関数定義があったとする。\r\n",
        "f p11 ... p1k = e1\r\n",
        "...\r\n",
        "f pn1 ... pnk = en\r\n",
        "\r\n",
        "# これは以下と同等。\r\n",
        "\r\n",
        "f x1 x2 ... xk = case (x1, ..., xk) of\r\n",
        "    (p11, ..., p1k) -> e1\r\n",
        "    ...\r\n",
        "    (pn1, ..., pnk) -> en\r\n",
        "\r\n",
        "# take についても\r\n",
        "\r\n",
        "take m ys = case (m,ys) of\r\n",
        "    (0,_) -> []\r\n",
        "    (_,[]) -> []\r\n",
        "    (n,x:xs) -> x : take (n-1) xs\r\n",
        "\r\n",
        "# となる。\r\n",
        "# case 式の右辺はすべて同じ主型である。\r\n",
        "\r\n",
        "# if 式の\r\n",
        "\r\n",
        "if e1 then e2 else e3\r\n",
        "\r\n",
        "# は次の構文の簡略形である。\r\n",
        "\r\n",
        "case e1 of True -> e2\r\n",
        "        False -> e3\r\n",
        "\r\n",
        "# つまり、if_then_else_ を関数とみなせば\r\n",
        "\r\n",
        "Bool -> a -> a -> a \r\n",
        "\r\n",
        "# という型である。\r\n"
      ],
      "execution_count": null,
      "outputs": []
    },
    {
      "cell_type": "code",
      "metadata": {
        "id": "wvSLoKvxxxSl"
      },
      "source": [
        "# 遅延 lazy パターン\r\n",
        "# 遅延パターンは ~pat であらわされる。\r\n",
        "# 不可反駁 irrefutable で値 v の ~pat に 対する照合は常に成功する。\r\n",
        "# pat のなかの識別子が右辺で「利用」されるとすると、それは v が pat に\r\n",
        "# マッチすると仮定した場合の値に束縛されるか、_|_ となる。\r\n",
        "\r\n",
        "# 遅延パターンは無限のデータ構造が再帰的に定義されているような場合に便利。\r\n",
        "# 無限リストはシミュレーションプログラムを書くのに使いやすいデータ構造で、ストリームといいます。\r\n",
        "\r\n",
        "# server と client との間のやりとりの簡単なケースを考える。\r\n",
        "# client は一連の要求を server に送り、server は各々の要求に対して、応答を返す。\r\n",
        "# client は引数として初期メッセージもとることに注意。\r\n",
        "\r\n",
        "%%script false\r\n",
        "\r\n",
        "reqs = client init resps\r\n",
        "resps = server reqs\r\n",
        "\r\n",
        "# さらに、サーバとクライアントの構造を、以下のように仮定する。\r\n",
        "\r\n",
        "client init (resp:resps) = init : client (next resp) resps\r\n",
        "server (req:reqs) = process req : server reqs\r\n",
        "\r\n",
        "# next はサーバからの応答を与えられて、次の要求を決定する関数であり、\r\n",
        "# process はクライアントからの要求を与えられて、応答を返す関数であるとする。\r\n",
        "\r\n",
        "# 残念ながら、このプログラムには大きな問題がある。\r\n",
        "# 問題は、client が reqs と resps の再帰的な設定のなかで使われているので、\r\n",
        "# 最初の要求を送信する前に応答リストと照合を試みようとする。つまり、\r\n",
        "# パターン照合がおこなわれるのが「早すぎる」。\r\n",
        "# これを是正するひとつの方法は以下のように client を再定義する。\r\n",
        "\r\n",
        "client init resps = init : client (next (head resps)) (tail resps)\r\n",
        "\r\n",
        "# これで動作するようになるが、もっとよい解決法は遅延パターンを使う方法である。\r\n",
        "\r\n",
        "client init ~(resp:resps) = init : client (next resp) resps\r\n",
        "\r\n",
        "# 遅延パターンは不可反駁なので、照合はただちに成功し、最初の要求が発信され、\r\n",
        "# それから最初の応答が生成される。\r\n",
        "\r\n",
        "#  この例は、以下のように定義を加えれば、実際に動作する。\r\n",
        "\r\n",
        "init = 0\r\n",
        "next resp = resp\r\n",
        "process req = req+1\r\n",
        "\r\n",
        "# 実際に動作させてみると、\r\n",
        "\r\n",
        "take 10 reqs => [0,1,2,3,4,5,6,7,8,9]\r\n",
        "\r\n",
        "## 動作しない!!!!"
      ],
      "execution_count": null,
      "outputs": []
    },
    {
      "cell_type": "markdown",
      "metadata": {
        "id": "3Afd1DAExM2I"
      },
      "source": [
        "# いまここ"
      ]
    },
    {
      "cell_type": "code",
      "metadata": {
        "id": "7M2XhHV2nkvE"
      },
      "source": [
        "# フィボナッチ関数 遅延評価版\r\n",
        "%%script false\r\n",
        "\r\n",
        "fib = 1 : 1 : [ a+b | (a,b) <- zip fib (tail fib) ]\r\n",
        "\r\n",
        "# これをアズパターンを使って次のように書き換える。\r\n",
        "\r\n",
        "fib@(1:tfib) = 1 : 1 : [ a+b | (a,b) <- zip fib tfib ]\r\n",
        "\r\n",
        "このバージョンの fib の利点(小さいですが)は、左辺の\r\n",
        "tfib で展開した形式を使用できるので、 tail\r\n",
        "を右辺で使 わなくてよいということです。\r\n",
        "\r\n",
        "[この種の等式はパターン束縛( patternbinding )とよばれま\r\n",
        "す。その理由は、トップレベルにある等式で左辺全体がひとつのパターンになっ\r\n",
        "ているからです。すなわち、fib と tfibはともに宣言内で 束縛されているということです。]\r\n",
        "\r\n",
        "さて、以前と同じ論法でいうとこのプログラムはなんの出力もないということを\r\n",
        "導くことができそうです。しかし、奇妙なことにこのプログラムは出力が生\r\n",
        "成されます。その理由は簡単です。Haskell\r\n",
        "ではパターン束縛は暗黙のう ちに ~\r\n",
        "がパターンの前についているものとみなすからです。このことは、\r\n",
        "パターン束縛に期待される共通のふるまいのほとんどを反映しています。ある種\r\n",
        "の変則的な状況はこのチュートリアルの守備範囲を越えるので、ここでは説明し\r\n",
        "ません。このようにして、Haskell\r\n",
        "の遅延パターンは暗黙のうちに重要な役割を\r\n",
        "はたすことが理解できます。\r\n",
        "\r\n"
      ],
      "execution_count": null,
      "outputs": []
    },
    {
      "cell_type": "code",
      "metadata": {
        "id": "VZVXuJOTUkdk",
        "colab": {
          "base_uri": "https://localhost:8080/"
        },
        "outputId": "8112b31d-32d4-454c-b4db-f607b50a7761"
      },
      "source": [
        "# 実験\r\n",
        "!ghc -e $'let {fib = 1 : 1 : [ a+b | (a,b) <- zip fib (tail fib) ]} in print (take 5 fib)'\r\n",
        "!ghc -e $'let {fib@(1:tfib) = 1 : 1 : [ a+b | (a,b) <- zip fib tfib ]} in print (take 5 fib)'"
      ],
      "execution_count": 4,
      "outputs": [
        {
          "output_type": "stream",
          "text": [
            "[1,1,2,3,5]\n",
            "[1,1,2,3,5]\n"
          ],
          "name": "stdout"
        }
      ]
    },
    {
      "cell_type": "code",
      "metadata": {
        "id": "McnhdUfSxslV"
      },
      "source": [
        "\r\n",
        "4.5 字句の有効範囲と入れ子形式\r\n",
        "\r\n",
        "ひとつの式のなかで入れ子の有効範囲をつくりたいことがよくあります。これは、\r\n",
        "その部分だけの局所的な束縛をつくりたいときです。ある種の「ブロック構造」\r\n",
        "の形式が欲しくなります。Haskell\r\n",
        "ではこれを実現するのに 2 つの方法が用意 されています。\r\n",
        "\r\n",
        "let 式\r\n",
        "Haskell のlet 式( let expression\r\n",
        ")は入れ子になった束縛の\r\n",
        "集まりが必要なときに役に立ちます。簡単な例を考えてみましょう。\r\n",
        "\r\n",
        "let y = a*b\r\n",
        "f x = (x+y)/y\r\n",
        "in f c + f d\r\n",
        "\r\n",
        "let 式によってつくられる束縛の集りは、相互再帰的 (\r\n",
        "mutually recursive\r\n",
        ")で、パターン束縛は遅延パターンとして扱われ ます(\r\n",
        "~が暗黙のうちについているということです)。ここで許される\r\n",
        "宣言は、型シグネチャー、関数束縛、パターン束縛 のみです。\r\n",
        "\r\n",
        "where 節\r\n",
        "ときには、いくつかのガードをもつ等式にまたがる有効範囲束縛があれば便利な\r\n",
        "こともあります。そんなときには where 節( where\r\n",
        "clause ) が必要です。\r\n",
        "\r\n",
        "f x y | y>z = ...\r\n",
        "| y==z = ...\r\n",
        "| y<z = ...\r\n",
        "where z = x*x\r\n",
        "\r\n",
        "これは、let\r\n",
        "式と同じようには使えないことに注意してください。 where\r\n",
        "節はそれが覆う式の上にしか有効範囲がありません。 where\r\n",
        "節は等式の集まりあるいは case\r\n",
        "式のトップレベルでしか認め られていません。また、let\r\n",
        "式での束縛の性質と制約が where\r\n",
        "節の束縛にも適用されます。\r\n",
        "\r\n",
        "入れ子の有効範囲のこれら 2\r\n",
        "つの形式は非常によく似たものですが、 let\r\n",
        "式はひとつの式であり、一方、where 節は\r\n",
        "式ではないということを覚えてください。where 節は関数宣\r\n",
        "言および case 式の構文の一部です。\r\n",
        "\r\n"
      ],
      "execution_count": null,
      "outputs": []
    },
    {
      "cell_type": "code",
      "metadata": {
        "id": "hk3ujlpqxo8C"
      },
      "source": [
        "\r\n",
        "4.6 レイアウト\r\n",
        "読者のなかには、なぜ Haskell\r\n",
        "ではセミコロンあるいはそれにかわる終端記号\r\n",
        "を使わずにすんでいるのか不思議におもった方もいるでしょう。これらの記号は\r\n",
        "等式や宣言などの終端を示すものですが、それがなぜ必要ないのでしょうか。例\r\n",
        "をあげましょう。前の節の let 式を考えてみましょう。\r\n",
        "\r\n",
        "let y = a*b\r\n",
        "f x = (x+y)/y\r\n",
        "in f c + f d\r\n",
        "\r\n",
        "構文解析はなぜ次のように解析したりしないのでしょうか。\r\n",
        "\r\n",
        "let y = a*b f\r\n",
        "x = (x+y)/y\r\n",
        "in f c + f d\r\n",
        "\r\n",
        "\r\n",
        "答えは、Haskell はレイアウト( layout\r\n",
        ")と呼ばれる、二次元\r\n",
        "構文を用いているからです。レイアウトは「カラム位置にならべられた」宣言に\r\n",
        "依存しています。上の例で、y と f とは同一のカラム位置\r\n",
        "からはじまっていることに注目してください。レイアウトのルールの詳細は\r\n",
        "Haskell\r\n",
        "レポート(§1.5,§B.3)の方にまかせますが、\r\n",
        "実用上はこのレイアウトの使い方は直観的にわかります。ただ、覚えておいてほ\r\n",
        "しいことがふたつあります。\r\n",
        "\r\n",
        "まず第一は、キーワード where、let, あるいは of\r\n",
        "につづく次の文字は、それぞれ、where 節、let\r\n",
        "式、case 式のな\r\n",
        "かの宣言のはじまるカラム位置を決定するものであることです。(このルールは、\r\n",
        "クラス宣言やインスタンス宣言のなかの where\r\n",
        "にも適用されます。こ れについては 5 節を参照して\r\n",
        "ください。)\r\n",
        "これにより、宣言部はキーワードと同じ行でも、次の行ででもはじ\r\n",
        "めることができます。( do\r\n",
        "キーワード、これについては後で議論しま\r\n",
        "すが、これもレイアウトを使います。)\r\n",
        "\r\n",
        "ふたつめは、開始カラムは直接囲われている節の開始カラムよりも右になければ\r\n",
        "ならないということです。(そうしなければ、曖昧になってしまいます。)\r\n",
        "宣言\r\n",
        "の「終端」は束縛形式の開始カラムの位置あるいはそれよりも左側でなにかが開\r\n",
        "始されたときに起こります。( Haskell\r\n",
        "では慣習として、タブは 8 個のスペー\r\n",
        "スとして見なします。なので、エディタで 8\r\n",
        "カラムタブ以外の表示を使ってい る場合には注意が必要です。)\r\n",
        "\r\n",
        "レイアウトは実際には明示的なグルーピング機構の簡略表記です。あ\r\n",
        "る種の状況ではグルーピング機構は大変役に立つので、これについては言及する\r\n",
        "価値があります。上の let の例は以下のものと同等です。\r\n",
        "\r\n",
        "let { y = a*b\r\n",
        "; f x = (x+y)/y\r\n",
        "}\r\n",
        "in f c + f d\r\n",
        "\r\n",
        "明示的な波括弧とセミコロンに注目してください。この明示的な表記方が便利な\r\n",
        "のは、ふたつ以上の宣言を 1\r\n",
        "行におさめたいときです。たとえば、以下は正し い式です。\r\n",
        "\r\n",
        "let y = a*b; z = a/b\r\n",
        "f x = (x+y)/z\r\n",
        "in f c + f d\r\n",
        "\r\n",
        "もうひとつのレイアウトを明示的な区切り子に展開する例については\r\n",
        "§1.5 を参照してく ださい。\r\n",
        "\r\n",
        "レイアウトを利用すれば、宣言リストが構文的にごしゃごしゃするのが少なくな\r\n",
        "り、可読性がまします。使いかたを覚えるのは簡単ですので、どしどし使ってく\r\n",
        "ださい。\r\n",
        "\r\n",
        "A Gentle Introduction to\r\n",
        "Haskell, Version 98\r\n",
        "back next top\r\n"
      ],
      "execution_count": null,
      "outputs": []
    }
  ]
}