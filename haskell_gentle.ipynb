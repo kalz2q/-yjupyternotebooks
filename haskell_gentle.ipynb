{
  "nbformat": 4,
  "nbformat_minor": 0,
  "metadata": {
    "colab": {
      "name": "haskell_gentle.ipynb",
      "provenance": [],
      "toc_visible": true,
      "authorship_tag": "ABX9TyOYcLdeHw0ffs5/QXNHUQLi",
      "include_colab_link": true
    },
    "kernelspec": {
      "name": "python3",
      "display_name": "Python 3"
    }
  },
  "cells": [
    {
      "cell_type": "markdown",
      "metadata": {
        "id": "view-in-github",
        "colab_type": "text"
      },
      "source": [
        "<a href=\"https://colab.research.google.com/github/kalz2q/mycolabnotebooks/blob/master/haskell_gentle.ipynb\" target=\"_parent\"><img src=\"https://colab.research.google.com/assets/colab-badge.svg\" alt=\"Open In Colab\"/></a>"
      ]
    },
    {
      "cell_type": "markdown",
      "metadata": {
        "id": "W3PkoT_HorRB"
      },
      "source": [
        "# メモ\r\n",
        "\r\n",
        "a gentle introduction to haskell  \r\n",
        "https://www.sampou.org/haskell/tutorial-j/  \r\n",
        "https://www.haskell.org/tutorial/  \r\n",
        "を読む。ノート。"
      ]
    },
    {
      "cell_type": "code",
      "metadata": {
        "id": "1uIL6O97ZUVj"
      },
      "source": [
        "%%capture\r\n",
        "!apt install haskell-platform"
      ],
      "execution_count": 1,
      "outputs": []
    },
    {
      "cell_type": "code",
      "metadata": {
        "colab": {
          "base_uri": "https://localhost:8080/"
        },
        "id": "4mGx09C_ZeXG",
        "outputId": "23de594f-9301-4eb9-ab4c-aba0b7a991c1"
      },
      "source": [
        "!ghc --version"
      ],
      "execution_count": 2,
      "outputs": [
        {
          "output_type": "stream",
          "text": [
            "The Glorious Glasgow Haskell Compilation System, version 8.0.2\n"
          ],
          "name": "stdout"
        }
      ]
    },
    {
      "cell_type": "code",
      "metadata": {
        "id": "Sxl3u4P4ohJ3"
      },
      "source": [
        "# 型付け\r\n",
        "%%script false\r\n",
        "                         5  :: Integer\r\n",
        "                        'a' :: Char\r\n",
        "                        inc :: Integer -> Integer\r\n",
        "                    [1,2,3] :: [Integer]\r\n",
        "                    ('b',4) :: (Char,Integer)\r\n",
        "\r\n",
        "# :: はなになにの型はなになに \"has type\" と読むことができる\r\n"
      ],
      "execution_count": null,
      "outputs": []
    },
    {
      "cell_type": "code",
      "metadata": {
        "id": "rTYlGnFKrEVV"
      },
      "source": [
        "# 関数定義\r\n",
        "%%script false\r\n",
        "\r\n",
        "inc n          = n+1\r\n",
        "\r\n",
        "inc            :: Integer -> Integer\r\n",
        "\r\n"
      ],
      "execution_count": null,
      "outputs": []
    },
    {
      "cell_type": "code",
      "metadata": {
        "id": "YHINhqE_xkS7"
      },
      "source": [
        "# e1 が評価され e2 になることを\r\n",
        "# e1 => e2\r\n",
        "# と書く。\r\n",
        "\r\n",
        "# 例えば\r\n",
        "%%script false\r\n",
        "\r\n",
        "inc (inc 3) => 5\r\n",
        "\r\n"
      ],
      "execution_count": null,
      "outputs": []
    },
    {
      "cell_type": "code",
      "metadata": {
        "id": "z5RsjAx-x-4Y"
      },
      "source": [
        "# list とは\r\n",
        "%%script false\r\n",
        "\r\n",
        "length                  :: [a] -> Integer\r\n",
        "length []               =  0\r\n",
        "length (x:xs)           =  1 + length xs\r\n",
        "\r\n",
        "length [1,2,3]\t=>\t3\r\n",
        "length ['a','b','c']\t=>\t3\r\n",
        "length [[1],[2],[3]]\t=>\t3"
      ],
      "execution_count": null,
      "outputs": []
    },
    {
      "cell_type": "code",
      "metadata": {
        "id": "lLgRxRVLh2D9"
      },
      "source": [
        "# head と tail\r\n",
        "%%script false\r\n",
        "\r\n",
        "head                    :: [a] -> a\r\n",
        "head (x:xs)             =  x\r\n",
        "\r\n",
        "tail                    :: [a] -> [a]\r\n",
        "tail (x:xs)             =  xs\r\n",
        "\r\n",
        "#  head と tail はカラのリストではエラーになる\r\n"
      ],
      "execution_count": null,
      "outputs": []
    },
    {
      "cell_type": "code",
      "metadata": {
        "id": "WoimBfFbrRTh"
      },
      "source": [
        "# 型の定義\r\n",
        "%%script false\r\n",
        "\r\n",
        "data Bool               = False | True\r\n",
        "\r\n",
        "# Bool, False, True は引数を持たないコンストラクタ nullary constructor\r\n",
        "# Bool が型の名前、型コンストラクタで、False, True がデータコンストラクタ\r\n",
        "\r\n",
        "data Color              = Red | Green | Blue | Indigo | Violet\r\n",
        "\r\n",
        "# Bool, Color は列挙型 enumerated type\r\n"
      ],
      "execution_count": null,
      "outputs": []
    },
    {
      "cell_type": "code",
      "metadata": {
        "id": "0Q-fYTMN38JL"
      },
      "source": [
        "# 次のは 1つだけデータコンストラクタ(Pt a a)を持つ型\r\n",
        "\r\n",
        "data Point a            = Pt a a\r\n",
        "\r\n",
        "# Point のような型はタプル型と呼ばれる。 なぜなら本質的に他の型の直積(デカルト積)だから。\r\n",
        "# Bool, Color のような複数のデータコンストラクタを持つ型は直和型((disjoint) union or sum types)と呼ばれる。\r\n",
        "\r\n",
        "# Point は多相型なので、次のは正しい。\r\n",
        "\r\n",
        "Pt 2.0 3.0 :: Point Float\r\n",
        "Pt 'a' 'b' :: Point Char\r\n",
        "Pt True False :: Point Bool\r\n",
        "\r\n",
        "# 多相型の型コンストラクタとして、[] や -> がある。\r\n",
        "\r\n",
        "# データコンストラクタを適用して値を得ることと、型コンストラクタを適用して型を得ることを区別する。\r\n",
        "# 名前空間が違うので、同じ名前が使える。\r\n",
        "data Point a = Point a a"
      ],
      "execution_count": null,
      "outputs": []
    },
    {
      "cell_type": "code",
      "metadata": {
        "id": "Jyuv8v8a8ZUD"
      },
      "source": [
        "# 再帰型\r\n",
        "%%script false\r\n",
        "\r\n",
        "data Tree a = Leaf a | Branch (Tree a) (Tree a)\r\n",
        "\r\n",
        "# ここで Tree は型コンストラクタで Branch や Leaf はデータコンストラクタなので\r\n",
        "\r\n",
        "Branch :: Tree a -> Tree a -> Tree a\r\n",
        "Leaf :: a -> Tree a\r\n",
        "\r\n",
        "# ということになる。\r\n",
        "\r\n",
        "# fringeという、木を左から右へたどって「葉」にある要素のリストを返す関数を定義したいとする。\r\n",
        "# その定義は次のようになる\r\n",
        "\r\n",
        "fringe :: Tree a -> [a]\r\n",
        "fringe (Leaf x) = [x]\r\n",
        "fringe (Branch left right) = fringe left ++ fringe right\r\n"
      ],
      "execution_count": null,
      "outputs": []
    },
    {
      "cell_type": "code",
      "metadata": {
        "id": "1pmHUaAQUMx7"
      },
      "source": [
        "# type synonym 型の同義名、シノニム\r\n",
        "%%script false\r\n",
        "\r\n",
        "type String = [Char]\r\n",
        "type Person = (Name, Address)\r\n",
        "type Name = String\r\n",
        "data Address = None | Addr String\r\n",
        "\r\n",
        "type AssocList a b = [(a,b)]\r\n"
      ],
      "execution_count": null,
      "outputs": []
    },
    {
      "cell_type": "code",
      "metadata": {
        "id": "54rS1eZ8Uxs3"
      },
      "source": [
        "# Built-in 組み込みの型について\r\n",
        "# 例えば Char は\r\n",
        "%%script false\r\n",
        "data Char = \r\n",
        "    Ca | Cb | Cc | ...\r\n",
        "    | CA | CB | CC | ...\r\n",
        "    | C1 | C2 | C3 | ...\r\n",
        "    ...\r\n",
        "\r\n",
        "# 同様に\r\n",
        "\r\n",
        "data Int = -65532 | ... | -1 | 0 | 1 | ... | 65532\r\n",
        "\r\n",
        "data Integer = ... -2 | -1 | 0 | 1 | 2 ...\r\n",
        "\r\n",
        "# のように考えることができる。ここで、-65532と65532は、与えられた処理系における固定精度整数の最小値と最大値。\r\n",
        "\r\n",
        "# タプルもこのやりかたで定義できる。\r\n",
        "\r\n",
        "data (a,b) = (a,b)\r\n",
        "data (a,b,c) = (a,b,c)\r\n",
        "data (a,b,c,d) = (a,b,c,d)\r\n",
        "        . .\r\n",
        "        . .\r\n",
        "        . .\r\n",
        "\r\n",
        "# リストも同様に定義できる。リストの場合は再帰的になる。\r\n",
        "\r\n",
        "data [a] = [] | a : [a]\r\n",
        "\r\n",
        "# タプルとリストの違いから次のようなルールが明らかである。\r\n",
        "\r\n",
        "# (e1,e2,...,en), n>=2 に対して、もし、ti が ei の型であるとす るならば、タプルの型は (t1,t2,...,tn) \r\n",
        "# [e1,e2,...,en], n>=0 に対して各 ei が必ず同じ型 t であるなら、そのリストの 型は [t]\r\n",
        "\r\n"
      ],
      "execution_count": null,
      "outputs": []
    },
    {
      "cell_type": "code",
      "metadata": {
        "id": "T0-81qtasBS9"
      },
      "source": [
        "# リスト内包表記 List Comprehensions と 数列 Arithmetic Sequences\r\n",
        "%%script false\r\n",
        "\r\n",
        "[ f x | x <- xs ]\r\n",
        "\r\n",
        "[ (x,y) | x <- xs, y <- ys ]\r\n",
        "\r\n",
        "# xs = [1,2] 、ys = [3,4] ならば =>  [(1,3),(1,4),(2,3),(2,4)] となる。\r\n",
        "\r\n",
        "# ガード guard\r\n",
        "\r\n",
        "quicksort [] = []\r\n",
        "quicksort (x:xs) = quicksort [y | y <- xs, y<x ] ++ [x] ++ quicksort [y | y <- xs, y>=x]\r\n",
        "\r\n",
        "# 数列 Arithmetic Sequences\r\n",
        "\r\n",
        "[1..10] => [1,2,3,4,5,6,7,8,9,10] -- 10 も入ることに注意\r\n",
        "[1,3..10] => [1,3,5,7,9] -- 10 以下の奇数\r\n",
        "[1,3..] => [1,3,5,7,9, ...] -- 無限\r\n",
        "\r\n"
      ],
      "execution_count": null,
      "outputs": []
    },
    {
      "cell_type": "code",
      "metadata": {
        "id": "NXfjmS6J_sKc"
      },
      "source": [
        "# 文字列 String\r\n",
        "%%script false\r\n",
        "\r\n",
        "['h','e','l','l','o'] = \"hello\"\r\n",
        "\r\n",
        "type String = [Char]\r\n",
        "\r\n",
        "\"hello\" ++ \" world\" => \"hello world\"\r\n"
      ],
      "execution_count": null,
      "outputs": []
    },
    {
      "cell_type": "code",
      "metadata": {
        "id": "fzudYNjSSc1S"
      },
      "source": [
        "# 関数\r\n",
        "%%script false\r\n",
        "\r\n",
        "add :: Integer -> Integer -> Integer\r\n",
        "add x y = x + y\r\n",
        "\r\n",
        "# これは add (x,y) = x + y とは違う\r\n"
      ],
      "execution_count": null,
      "outputs": []
    },
    {
      "cell_type": "code",
      "metadata": {
        "id": "zzgGYrSuUqn-",
        "colab": {
          "base_uri": "https://localhost:8080/"
        },
        "outputId": "647a3f00-1349-4817-8ff4-96bcece5909c"
      },
      "source": [
        "# 実験\r\n",
        "!ghc -e $'let {add x y = x + y; inc = add 1} in print (inc 4) '\r\n",
        "!ghc -e $'let {add (x y) = x + y; inc = add 1} in print (inc 4) ' #=> Parse error\r\n",
        "!ghc -e $'let {add x y = x + y; inc = add 1} in print (add 4 5) '\r\n",
        "!ghc -e $'let {add (x, y) = x + y} in print (add (4, 5)) '"
      ],
      "execution_count": null,
      "outputs": [
        {
          "output_type": "stream",
          "text": [
            "5\n",
            "\n",
            "<interactive>:0:11: error: Parse error in pattern: x\n",
            "9\n",
            "9\n"
          ],
          "name": "stdout"
        }
      ]
    },
    {
      "cell_type": "code",
      "metadata": {
        "id": "HXzyrmrSUplh"
      },
      "source": [
        "# map 関数は関数を引数にとる\r\n",
        "%%script false\r\n",
        "\r\n",
        "map :: (a->b) -> [a] -> [b]\r\n",
        "map f [] = []\r\n",
        "map f (x:xs) = f x : map f xs\r\n",
        "\r\n",
        "map (add 1) [1,2,3] => [2,3,4]\r\n",
        "\r\n",
        "# この例は関数が第一級の対象 (first-class object) であることを示している。\r\n",
        "# このような使いかたをする関数は高階 (higher-order)関数とよばれる。\r\n"
      ],
      "execution_count": null,
      "outputs": []
    },
    {
      "cell_type": "code",
      "metadata": {
        "id": "UVud-SgCTuK-"
      },
      "source": [
        "# ラムダ抽象 (lambda abstraction) 無名関数\r\n",
        "# 例えば inc は  \\x -> x+1 と書く。\r\n",
        "# add は \\x -> \\y -> x + y と書く。\r\n",
        "# 簡略化して \\x y -> x + y と書く。\r\n",
        "%%script false\r\n",
        "\r\n",
        "inc x = x+1\r\n",
        "add x y = x+y\r\n",
        "\r\n",
        "# は次の等式と同等\r\n",
        "\r\n",
        "inc = \\x -> x+1\r\n",
        "add = \\x y -> x+y\r\n"
      ],
      "execution_count": null,
      "outputs": []
    },
    {
      "cell_type": "code",
      "metadata": {
        "id": "0vHy_7FYkFa5"
      },
      "source": [
        "# 中置演算子 infix operator\r\n",
        "# 中置演算子は関数なので、等式を使って定義\r\n",
        "%%script false\r\n",
        "\r\n",
        "# リストの連結演算子\r\n",
        "(++) :: [a] -> [a] -> [a]\r\n",
        "[] ++ ys = ys\r\n",
        "(x:xs) ++ ys = x : (xs++ys)\r\n",
        "\r\n",
        "# マイナス(-)は前置演算子にも、中置演算子にもなる。\r\n",
        "\r\n",
        "# 関数合成(function composition)演算子\r\n",
        "\r\n",
        "(.) :: (b->c) -> (a->b) -> (a->c)\r\n",
        "f . g = \\ x -> f (g x)\r\n",
        "\r\n",
        "# 中置演算子の部分適用は section と呼ばれる\r\n",
        "\r\n",
        "(x+) = \\y -> x+y\r\n",
        "(+y) = \\x -> x+y\r\n",
        "(+) = \\x y -> x+y\r\n"
      ],
      "execution_count": null,
      "outputs": []
    },
    {
      "cell_type": "code",
      "metadata": {
        "id": "rmHpY3dUdFXR",
        "colab": {
          "base_uri": "https://localhost:8080/"
        },
        "outputId": "4ad7e589-e0fe-4fc9-d6fa-a567117e302d"
      },
      "source": [
        "# 実験 中置演算子の部分適用が関数を返すことの確認\r\n",
        "# map (+) [1,2,3] は関数のリスト\r\n",
        "\r\n",
        "!ghc -e $'((map (+) [1,2,3])!!1) 5' #=> 7\r\n",
        "!ghc -e $'((map (/) [1,2,3])!!1) 5' #=> 0.4\r\n",
        "!ghc -e $'(map (5/) [1,2,3])!!1' #=> 2.5\r\n",
        "!echo\r\n",
        "!ghc -e $'map (/5) [1,2,3]'\r\n",
        "!ghc -e $'map (5/) [1,2,3]'\r\n",
        "!echo\r\n",
        "!ghc -e $'map (^2) [1,2,3]'\r\n",
        "!ghc -e $'map (2^) [1,2,3]'"
      ],
      "execution_count": null,
      "outputs": [
        {
          "output_type": "stream",
          "text": [
            "7\n",
            "0.4\n",
            "2.5\n",
            "\n",
            "[0.2,0.4,0.6]\n",
            "[5.0,2.5,1.6666666666666667]\n",
            "\n",
            "[1,4,9]\n",
            "[2,4,8]\n"
          ],
          "name": "stdout"
        }
      ]
    },
    {
      "cell_type": "code",
      "metadata": {
        "id": "eqqaVVQ9Tms2"
      },
      "source": [
        "# したがって\r\n",
        "%%script false\r\n",
        "\r\n",
        "inc = (+ 1)\r\n",
        "add = (+)\r\n",
        "\r\n",
        "# と書ける\r\n"
      ],
      "execution_count": null,
      "outputs": []
    },
    {
      "cell_type": "code",
      "metadata": {
        "id": "mMSn2u39e-I2"
      },
      "source": [
        "# 関数をバッククオートで括ると中置演算子になる\r\n",
        "%%script false\r\n",
        "\r\n",
        "x `elem` xs\r\n",
        "\r\n",
        "# は直感的に、x は xs の要素である ( x is an element of xs ) と読める。\r\n",
        "\r\n",
        "# (-) については特別なルールがある。\r\n"
      ],
      "execution_count": null,
      "outputs": []
    },
    {
      "cell_type": "code",
      "metadata": {
        "id": "lMib8a4fTi8f"
      },
      "source": [
        "# 結合度 fixity の優先順位\r\n",
        "# fixity declaration では 0 から 9 を指定する。 9 が最強。\r\n",
        "# 一般の関数は 10 と仮定されている。\r\n",
        "# infixr は右結合、 infixl は左結合\r\n",
        "%%script false\r\n",
        "\r\n",
        "infixr 5 ++\r\n",
        "infixr 9 .\r\n",
        "\r\n",
        "# デフォルトは infixl 9\r\n",
        "\r\n"
      ],
      "execution_count": null,
      "outputs": []
    },
    {
      "cell_type": "code",
      "metadata": {
        "id": "iwJlMBTTTfCA"
      },
      "source": [
        "# 関数は非正格 non-strict\r\n",
        "# bot が次のように定義されているとする。\r\n",
        "%%script false\r\n",
        "\r\n",
        "bot = bot\r\n",
        "\r\n",
        "# このような停止しない式の値を抽象的に _|_(ボトム)と表わす。\r\n",
        "# 1/0 もこの値を持ち、エラーは回復不可能で、プログラムはこれ以上継続することはできなくなる。\r\n",
        "# I/O のシステムのエラー(たとえば、EOFエラーなどの例外)は回復可能。\r\n",
        "\r\n",
        "# 関数 f が正格 strict であるとは、停止しない式に適用されれば、その適用式も停止しないこと。\r\n",
        "# ほとんどのプログラミング言語では、すべての関数が正格。Haskell では違う。\r\n",
        "\r\n",
        "const1 x = 1\r\n",
        "\r\n",
        "# のとき、const1 bot は 1 であり、引数は評価されない。 これを遅延評価と呼ぶ。\r\n",
        "\r\n",
        "const1 (1/0)\r\n",
        "\r\n",
        "# も 1 になる。\r\n",
        "\r\n",
        "# 遅延評価により、無限 infinite のデータ構造が扱える。\r\n",
        "\r\n",
        "# 別のやり方で説明すると、Haskell では代入 assignment ではなく、定義 definition を用いる。\r\n",
        "\r\n",
        "v = 1/0\r\n",
        "\r\n",
        "# は、v を 1/0と定義すると読む。vの値が必要になったときにのみゼロ除算エラーが発生する。\r\n"
      ],
      "execution_count": null,
      "outputs": []
    },
    {
      "cell_type": "code",
      "metadata": {
        "id": "q821gWlEjcxz"
      },
      "source": [
        "# 無限のデータ構造\r\n",
        "# データコンストラクタも非正格である。\r\n",
        "# リストのコンストラクタ、: も非正格。\r\n",
        "# 非正格の構築子で(概念的に)無限の infinite データ構造を 定義することができる。\r\n",
        "%%script false\r\n",
        "\r\n",
        "ones = 1 : ones\r\n",
        "\r\n",
        "numsFrom n = n : numsFrom (n+1)\r\n",
        "\r\n",
        "squares = map (^2) (numsFrom 0)\r\n"
      ],
      "execution_count": null,
      "outputs": []
    },
    {
      "cell_type": "code",
      "metadata": {
        "id": "-LRVZ6YQsonz",
        "colab": {
          "base_uri": "https://localhost:8080/"
        },
        "outputId": "dc1c4e49-091a-4f28-dde8-c8df7ed71b9c"
      },
      "source": [
        "# 実験 take 5 squares => [0,1,4,9,16]\r\n",
        "!ghc -e $'let{numsFrom n = n:numsFrom(n+1); squares = map (^2)(numsFrom 0)} in print (take 5 squares)'"
      ],
      "execution_count": null,
      "outputs": [
        {
          "output_type": "stream",
          "text": [
            "[0,1,4,9,16]\n"
          ],
          "name": "stdout"
        }
      ]
    },
    {
      "cell_type": "code",
      "metadata": {
        "id": "i9IDhIi8vPQ_",
        "colab": {
          "base_uri": "https://localhost:8080/"
        },
        "outputId": "741dcca6-f49b-413e-ac79-3a7b5c18d490"
      },
      "source": [
        "# 実験 ones は循環リスト circular list\r\n",
        "!ghc -e $'let{ones=1:ones} in print (take 5 ones)'"
      ],
      "execution_count": null,
      "outputs": [
        {
          "output_type": "stream",
          "text": [
            "[1,1,1,1,1]\n"
          ],
          "name": "stdout"
        }
      ]
    },
    {
      "cell_type": "code",
      "metadata": {
        "id": "WdBm8aZeTVcU"
      },
      "source": [
        "# フィボナッチ関数\r\n",
        "%%script false\r\n",
        "\r\n",
        "fib = 1 : 1 : [ a+b | (a,b) <- zip fib (tail fib) ]\r\n",
        "\r\n",
        "# ここで zip とは\r\n",
        "\r\n",
        "zip (x:xs) (y:ys) = (x,y) : zip xs ys\r\n",
        "zip xs ys = []\r\n",
        "\r\n",
        "# エラー関数 error\r\n",
        "\r\n",
        "error :: String-> a\r\n",
        "\r\n",
        "# 型からは返す値の型は多相の型で実際の型がわからない。\r\n",
        "# すべての型によって「共有」される値 _|_ bottom が存在する。\r\n",
        "# error の返す値は常にこの値。しかし、実装はチェックのための error の文字列引数を印字する。\r\n",
        "\r\n",
        "head (x:xs) = x\r\n",
        "head [] = error \"head{PreludeList}: head []\"\r\n"
      ],
      "execution_count": null,
      "outputs": []
    },
    {
      "cell_type": "code",
      "metadata": {
        "id": "kytnaqOUxmKi"
      },
      "source": [
        "# Case 式\r\n",
        "# パターンは入れ子にも使える。\r\n",
        "%%script false\r\n",
        "\r\n",
        "contrived :: ([a], Char, (Int, Float), String, Bool) -> Bool\r\n",
        "contrived ([], 'b', (1, 2.0), \"hi\", True) = False\r\n",
        "\r\n",
        "# 仮引数 (formal parameters) もパターンであり、値にかならず照合が成功する。\r\n",
        "# その副作用として、仮引数は照合が成功した値に束縛される。\r\n",
        "# なぜなら、ひとつの等式であれば、そのなかのパターンには、2つ以上の同じ仮引数が含まれてはいけないから。\r\n",
        "# これは、線型性 (linearity) と呼ばれる。\r\n",
        "# 仮引数のような必ず照合が成功するようなパターンのことを irrefutable パターンと呼び、\r\n",
        "# refutable パターンは照合が成功しない可能性があり contrived の例はこの refutable の例。\r\n",
        "# 不可反駁パターンに は 3つの種類がありそのうち 2つを紹介する。\r\n",
        "\r\n",
        "# アズパターン\r\n",
        "# たとえばリストの第一要素を複製する関数\r\n",
        "\r\n",
        "f (x:xs) = x:x:xs\r\n",
        "\r\n",
        "# 明日パターンを使うと次のようになる。\r\n",
        "\r\n",
        "f s@(x:xs) = x:s\r\n",
        "\r\n",
        "# アズパターンは照合に常に成功するが、サブパターン(この場合は、x:xs)はもちろん照合が成功しないこともある。\r\n",
        "\r\n",
        "# ワイルドカード\r\n",
        "# head 関数や tail 関数は次のように書き換えることができる。\r\n",
        "\r\n",
        "head (x:_) = x\r\n",
        "tail (_:xs) = xs\r\n",
        "\r\n",
        "# 仮引数の場合とちがい、ワイルドカードはひとつの等式のなかに 1つ以上あっても構わない。\r\n"
      ],
      "execution_count": null,
      "outputs": []
    },
    {
      "cell_type": "code",
      "metadata": {
        "id": "lDDePI7Mxz-Y"
      },
      "source": [
        "# パターン照合の意味論 semantics\r\n",
        "\r\n",
        "# パターン照合は、fail, succeed, diverge (発散) の場合がある。\r\n",
        "# 成功すると、パターンの中の仮引数が束縛される。\r\n",
        "# 発散 diverge はパターンが必要とした値がエラー( _|_ )を含んでいた場合。\r\n",
        "# すべての等式でパターン照合が失敗すると、その関数適用の値は _|_ になり、 実行時エラーとなる。\r\n",
        "#\r\n",
        "# たとえば、[1,2] を [0,bot] に照合させようとすると、0 と 1 がマッチしないので照合は失敗。\r\n",
        "# しかし、もし、[1,2] を [bot,0] にマッチさせようとすると、1 を botへ照合させる際に発散がおこる。\r\n",
        "\r\n",
        "# パターンがガード部を持つこともある。\r\n",
        "%%script false\r\n",
        "\r\n",
        "sign x |  x >  0        =   1\r\n",
        "       |  x == 0        =   0\r\n",
        "       |  x <  0        =  -1\r\n"
      ],
      "execution_count": null,
      "outputs": []
    },
    {
      "cell_type": "code",
      "metadata": {
        "id": "Ljcyvf8Wd4Ub"
      },
      "source": [
        "# パターン照合が関数の意味に微妙な影響を与える場合がある\r\n",
        "\r\n",
        "%%script false\r\n",
        "\r\n",
        "take 0 _ = []\r\n",
        "take _ [] = []\r\n",
        "take n (x:xs) = x : take (n-1) xs\r\n",
        "\r\n",
        "# と\r\n",
        "\r\n",
        "take1 _ [] = []\r\n",
        "take1 0 _ = []\r\n",
        "take1 n (x:xs) = x : take1\r\n",
        "(n-1) xs\r\n",
        "\r\n",
        "# 次の結果を見る。\r\n",
        "\r\n",
        "take 0 bot => []\r\n",
        "take1 0 bot => _|_\r\n",
        "take bot [] => _|_\r\n",
        "take1 bot [] => []\r\n",
        "\r\n",
        "# どちらがよいということでなく、違いがあるということを覚えておく。"
      ],
      "execution_count": null,
      "outputs": []
    },
    {
      "cell_type": "code",
      "metadata": {
        "id": "pOuFmZ5RuEUg"
      },
      "source": [
        "# Case 式\r\n",
        "# 関数定義のなかでのパターン照合の意味は、実は case 式のより単純なものと考えられる。\r\n",
        "%%script false\r\n",
        "\r\n",
        "# 次のような関数定義があったとする。\r\n",
        "f p11 ... p1k = e1\r\n",
        "...\r\n",
        "f pn1 ... pnk = en\r\n",
        "\r\n",
        "# これは以下と同等。\r\n",
        "\r\n",
        "f x1 x2 ... xk = case (x1, ..., xk) of\r\n",
        "    (p11, ..., p1k) -> e1\r\n",
        "    ...\r\n",
        "    (pn1, ..., pnk) -> en\r\n",
        "\r\n",
        "# take についても\r\n",
        "\r\n",
        "take m ys = case (m,ys) of\r\n",
        "    (0,_) -> []\r\n",
        "    (_,[]) -> []\r\n",
        "    (n,x:xs) -> x : take (n-1) xs\r\n",
        "\r\n",
        "# となる。\r\n",
        "# case 式の右辺はすべて同じ主型である。\r\n",
        "\r\n",
        "# if 式の\r\n",
        "\r\n",
        "if e1 then e2 else e3\r\n",
        "\r\n",
        "# は次の構文の簡略形である。\r\n",
        "\r\n",
        "case e1 of True -> e2\r\n",
        "        False -> e3\r\n",
        "\r\n",
        "# つまり、if_then_else_ を関数とみなせば\r\n",
        "\r\n",
        "Bool -> a -> a -> a \r\n",
        "\r\n",
        "# という型である。\r\n"
      ],
      "execution_count": null,
      "outputs": []
    },
    {
      "cell_type": "code",
      "metadata": {
        "id": "wvSLoKvxxxSl"
      },
      "source": [
        "# 遅延 lazy パターン\r\n",
        "# 遅延パターンは ~pat であらわされる。\r\n",
        "# 不可反駁 irrefutable で値 v の ~pat に 対する照合は常に成功する。\r\n",
        "# pat のなかの識別子が右辺で「利用」されるとすると、それは v が pat に\r\n",
        "# マッチすると仮定した場合の値に束縛されるか、_|_ となる。\r\n",
        "\r\n",
        "# 遅延パターンは無限のデータ構造が再帰的に定義されているような場合に便利。\r\n",
        "# 無限リストはシミュレーションプログラムを書くのに使いやすいデータ構造で、ストリームといいます。\r\n",
        "\r\n",
        "# server と client との間のやりとりの簡単なケースを考える。\r\n",
        "# client は一連の要求を server に送り、server は各々の要求に対して、応答を返す。\r\n",
        "# client は引数として初期メッセージもとることに注意。\r\n",
        "\r\n",
        "%%script false\r\n",
        "\r\n",
        "reqs = client init resps\r\n",
        "resps = server reqs\r\n",
        "\r\n",
        "# さらに、サーバとクライアントの構造を、以下のように仮定する。\r\n",
        "\r\n",
        "client init (resp:resps) = init : client (next resp) resps\r\n",
        "server (req:reqs) = process req : server reqs\r\n",
        "\r\n",
        "# next はサーバからの応答を与えられて、次の要求を決定する関数であり、\r\n",
        "# process はクライアントからの要求を与えられて、応答を返す関数であるとする。\r\n",
        "\r\n",
        "# 残念ながら、このプログラムには大きな問題がある。\r\n",
        "# 問題は、client が reqs と resps の再帰的な設定のなかで使われているので、\r\n",
        "# 最初の要求を送信する前に応答リストと照合を試みようとする。つまり、\r\n",
        "# パターン照合がおこなわれるのが「早すぎる」。\r\n",
        "# これを是正するひとつの方法は以下のように client を再定義する。\r\n",
        "\r\n",
        "client init resps = init : client (next (head resps)) (tail resps)\r\n",
        "\r\n",
        "# これで動作するようになるが、もっとよい解決法は遅延パターンを使う方法である。\r\n",
        "\r\n",
        "client init ~(resp:resps) = init : client (next resp) resps\r\n",
        "\r\n",
        "# 遅延パターンは不可反駁なので、照合はただちに成功し、最初の要求が発信され、\r\n",
        "# それから最初の応答が生成される。\r\n",
        "\r\n",
        "#  この例は、以下のように定義を加えれば、実際に動作する。\r\n",
        "\r\n",
        "init = 0\r\n",
        "next resp = resp\r\n",
        "process req = req+1\r\n",
        "\r\n",
        "# 実際に動作させてみると、\r\n",
        "\r\n",
        "take 10 reqs => [0,1,2,3,4,5,6,7,8,9]\r\n",
        "\r\n",
        "## 動作しない!!!!"
      ],
      "execution_count": null,
      "outputs": []
    },
    {
      "cell_type": "code",
      "metadata": {
        "id": "7M2XhHV2nkvE"
      },
      "source": [
        "# フィボナッチ関数 遅延評価版\r\n",
        "%%script false\r\n",
        "\r\n",
        "fib = 1 : 1 : [ a+b | (a,b) <- zip fib (tail fib) ]\r\n",
        "\r\n",
        "# これをアズパターンを使って次のように書き換える。\r\n",
        "\r\n",
        "fib@(1:tfib) = 1 : 1 : [ a+b | (a,b) <- zip fib tfib ]\r\n",
        "\r\n",
        "# この種の等式はパターン束縛( patternbinding )と呼ばれる。\r\n",
        "# 理由は、トップレベルにある等式で左辺全体がひとつのパターンになっているから。\r\n",
        "# すなわち、fib と tfibはともに宣言内で 束縛されているということです。\r\n",
        "# Haskellのパターン束縛は暗黙のう ちに ~ がパターンの前についているものとみなす。\r\n"
      ],
      "execution_count": null,
      "outputs": []
    },
    {
      "cell_type": "code",
      "metadata": {
        "id": "VZVXuJOTUkdk",
        "colab": {
          "base_uri": "https://localhost:8080/"
        },
        "outputId": "8112b31d-32d4-454c-b4db-f607b50a7761"
      },
      "source": [
        "# 実験\r\n",
        "!ghc -e $'let {fib = 1 : 1 : [ a+b | (a,b) <- zip fib (tail fib) ]} in print (take 5 fib)'\r\n",
        "!ghc -e $'let {fib@(1:tfib) = 1 : 1 : [ a+b | (a,b) <- zip fib tfib ]} in print (take 5 fib)'"
      ],
      "execution_count": 4,
      "outputs": [
        {
          "output_type": "stream",
          "text": [
            "[1,1,2,3,5]\n",
            "[1,1,2,3,5]\n"
          ],
          "name": "stdout"
        }
      ]
    },
    {
      "cell_type": "code",
      "metadata": {
        "id": "McnhdUfSxslV"
      },
      "source": [
        "# 字句の有効範囲と入れ子形式 Lexical Scoping and Nested Forms\r\n",
        "# let 式\r\n",
        "%%script false\r\n",
        "\r\n",
        "let y   = a*b\r\n",
        "    f x = (x+y)/y\r\n",
        "in f c + f d\r\n",
        "\r\n",
        "# let 式 expression によってつくられる束縛は、相互再帰的 (mutually recursive)で、遅延パターンとして扱われる。\r\n",
        "# ~ が暗黙のうちについている。\r\n",
        "\r\n",
        "# where 節 clause\r\n",
        "# いくつかのガードをもつ等式にまたがる有効範囲束縛が便利なときには where 節を使う。\r\n",
        "\r\n",
        "f x y  |  y>z           =  ...\r\n",
        "       |  y==z          =  ...\r\n",
        "       |  y<z           =  ...\r\n",
        "     where z = x*x\r\n",
        "\r\n",
        "# where 節はそれが覆う式の上にしか有効範囲がない。\r\n",
        "# where 節は等式の集まりあるいは case 式のトップレベルでしか認められない。\r\n",
        "\r\n",
        "# let 式は式であり、where 節は式ではない。where 節は関数宣言および case 式の構文の一部である。\r\n",
        "\r\n"
      ],
      "execution_count": null,
      "outputs": []
    },
    {
      "cell_type": "code",
      "metadata": {
        "id": "hk3ujlpqxo8C"
      },
      "source": [
        "# レイアウト\r\n",
        "# Haskell はセミコロンあるいはそれにかわる終端記号を使わずにすんでいるのか。\r\n",
        "%%script false\r\n",
        "\r\n",
        "let y   = a*b\r\n",
        "    f x = (x+y)/y\r\n",
        "in f c + f d\r\n",
        "\r\n",
        "# 構文解析 parser はなぜ次のように解析したりしないのか。\r\n",
        "\r\n",
        "let y   = a*b f\r\n",
        "    x   = (x+y)/y\r\n",
        "in f c + f d\r\n",
        "\r\n",
        "# Haskell はレイアウト (layout) と呼ばれる、二次元構文を用いているから。\r\n",
        "# カラム位置に依存している。\r\n",
        "# 上の例は次のように解釈される。\r\n",
        "\r\n",
        "let { y   = a*b\r\n",
        "    ; f x = (x+y)/y\r\n",
        "    }\r\n",
        "in f c + f d\r\n",
        "\r\n",
        "# 1行に複数の式を書きたいときにはセミコロンが便利である。\r\n",
        "\r\n",
        "let y   = a*b;  z = a/b\r\n",
        "    f x = (x+y)/z\r\n",
        "in f c + f d\r\n"
      ],
      "execution_count": null,
      "outputs": []
    },
    {
      "cell_type": "markdown",
      "metadata": {
        "id": "3Afd1DAExM2I"
      },
      "source": [
        "# いまここ"
      ]
    },
    {
      "cell_type": "code",
      "metadata": {
        "id": "mFLQHFq3f6-i"
      },
      "source": [
        "# 型クラスと多重定義 overloading\r\n",
        "# すでに述べてきた多相 polymorphism は、パラメータ多相 parametric polymorphism とよばれる。\r\n",
        "# アドホック多相は多重定義 overloading という呼びかたのほうが知られている。\r\n",
        "# たとえば\r\n",
        "\r\n",
        "1、2 などのリテラルは、固定長の整数と任意長の整数の両\r\n",
        "方でつかわれることが多い。\r\n",
        "\r\n",
        "+\r\n",
        "のような数値演算子は何種類もの数値上で定義されることが多い。\r\n",
        "\r\n",
        "同値演算子( Haskell では ==\r\n",
        ")はふつう数値とその他多く(すべてで\r\n",
        "はない)の型の上で動作することが多い。\r\n",
        "\r\n",
        "こうした多重定義されたものの振舞いはそれぞれの型によって違いがあるという\r\n",
        "ことに注意してください。(実際には、振舞いが定義されていないか、エラーに\r\n",
        "なる場合もある。)\r\n",
        "また、一方で、パラメータ多相では型そのものは重要で\r\n",
        "はないことに注意してください。(たとえば、fringe\r\n",
        "は木の葉の要素 の種類がなんであるかには関係あらない。)\r\n",
        "Haskell では、 型クラス( class type\r\n",
        ")によってアドホック多相あるいは多重\r\n",
        "定義を制御する方法が提供されている。\r\n",
        "単純だが、重要な例、同値性の例からはじめよう。同値性を定義したい型\r\n",
        "には多くの型がある。しかし、いくつかの型については同値性を定義したく\r\n",
        "ないこともある。たとえば、一般的にいって、関数が同値であるかどうかの\r\n",
        "判定は計算では処理が困難だ。その一方で、ふたつのリストが同じかどうかを比\r\n",
        "較したいことはよくあることだ。(ここで、同値性といっているのは、「値同値\r\n",
        "性」のことだ。対照的な概念としては、「ポインタ同値性」というのがありま\r\n",
        "す。たとえば、Java 言語の ==\r\n",
        "だ。ポインタ同値性は参照透明性を\r\n",
        "持ちない。それゆえに純粋な関数型言語とは相性がよくあらない。)\r\n",
        "このこ\r\n",
        "とをもっと明かにするために、リストの要素かどうかを検証する\r\n",
        "elem という関数の定義をみてみよう。\r\n",
        "\r\n",
        "x `elem` [] = False\r\n",
        "x `elem` (y:ys) = x==y || (x\r\n",
        "`elem` ys)\r\n",
        "\r\n",
        "[ 3.1 節で議論した構文的な理由に より、elem\r\n",
        "を定義するのに中置形式を選択する。== と ||\r\n",
        "は、それぞれ、同値演算子と論理和演算子だ。]\r\n",
        "\r\n",
        "直観的にいえば、elem の型は a->[a]->Bool\r\n",
        "「でな ければならない。」 しかし、そのためには ==\r\n",
        "の型は a->a->Bool\r\n",
        "でなければならない。さきほど、全ての型につい て ==\r\n",
        "を定義したいわけではないと言ったばかりにもかかわらずだ。\r\n"
      ],
      "execution_count": null,
      "outputs": []
    },
    {
      "cell_type": "code",
      "metadata": {
        "id": "DO7LoCEkgTqj"
      },
      "source": [
        "\r\n",
        "さらに、こんなことにも注目している。もし、 ==\r\n",
        "を全ての型の上\r\n",
        "で定義できたとしても、ふたつのリストを比較することと、ふたつの数を比較す\r\n",
        "ることは全然違うことだ。こういう意味で、これらいろいろな仕事をさせるた\r\n",
        "めに、== が多重定義できることを期待するわけだ。\r\n",
        "\r\n",
        "型クラス( type class\r\n",
        ")はこのふたつの問題を解決するのに都\r\n",
        "合のよい仕組だ。型クラスを使うと型をいずれかのクラスのインスタンスとし\r\n",
        "て定義できる。また、クラスに付随した多重定義された操作の定義\r\n",
        "をおこなうことができる。たとえば、同値演算子を含むクラスの定義をしてみ\r\n",
        "よう。\r\n",
        "\r\n",
        "class Eq a where\r\n",
        "(==) :: a -> a -> Bool\r\n",
        "\r\n",
        "ここでは、Eq は定義するクラスの名前だ。また == はこ\r\n",
        "のクラスでの唯一の操作だ。この宣言は、「型 a がクラス\r\n",
        "Eq のインスタンスであるのは、(多重定義された) ==\r\n",
        "が存\r\n",
        "在し、そのうえで定義された適切な型をもつ場合である」と読むことができる。\r\n",
        "(このとき、==\r\n",
        "は同じ型の対象の組の上でのみ定義されることに注意\r\n",
        "してください。)\r\n",
        "\r\n",
        "型 a がクラス Eq のインスタンスでなければならない、と\r\n",
        "いう制約は、 Eq a のように書くる。ということは、\r\n",
        "Eq a\r\n",
        "は型式ではなく、型に対する制約を表現していますので、 文脈(\r\n",
        "context )と呼ばれる。文脈は型式の前に置くる。\r\n",
        "たとえば、上のクラス宣言の効果は、次のような型を ==\r\n",
        "に割当るこ とになる。\r\n",
        "\r\n",
        "(==) :: (Eq a) => a -> a ->\r\n",
        "Bool\r\n",
        "\r\n",
        "これは、「クラス Eq のインスタンスであるような型 a の\r\n",
        "それぞれに対して、== は a->a->Bool\r\n",
        "という型をもつ」 と読むことができる。これは、まさに\r\n",
        "elem の例で使われている ==\r\n",
        "の型だ。実際にも、この文脈による制約が elem の主\r\n",
        "型に波及する。\r\n",
        "\r\n",
        "elem :: (Eq a) => a -> [a] ->\r\n",
        "Bool\r\n",
        "\r\n",
        "これは、「クラス Eq のインスタンスであるような型 a の\r\n",
        "それぞれに対して、elem は a->[a]->Bool\r\n",
        "という型\r\n",
        "をもつ」と読むべきだ。これこそ、求めていたものに他ならない。これは、\r\n",
        "elem\r\n",
        "がすべての型の上で定義されているわけではなく、その要素につ\r\n",
        "いて同値性の比較方法がわかっている型の上で定義されているということを示し\r\n",
        "ている。\r\n"
      ],
      "execution_count": null,
      "outputs": []
    },
    {
      "cell_type": "code",
      "metadata": {
        "id": "IGrivSGZgROb"
      },
      "source": [
        "\r\n",
        "ここまではいいだろう。しかし、どのようにして、どの型が\r\n",
        "Eq ク ラスのインスタンスになるかを指定し、その型に対する\r\n",
        "== の実際の\r\n",
        "振舞いを指定するのでしょうか。これは、インスタンス宣言 (\r\n",
        "instance declaration\r\n",
        ")でおこないる。たとえば、\r\n",
        "\r\n",
        "instance Eq Integer where\r\n",
        "x == y = x `integerEq` y\r\n",
        "\r\n",
        "のようにする。== の定義はメソッド( method )と\r\n",
        "呼びる。integerEq\r\n",
        "関数は、この場合、たまたま、整数の同値性を\r\n",
        "比較するプリミティブ関数だが、一般には、右辺では適正なものであれば、ど\r\n",
        "のような式でもよいことになっている。これは、一般の関数の定義と同じだ。\r\n",
        "この宣言全体は、「 Integer 型はクラス Eq\r\n",
        "のインスタン スで、ここに、操作 ==\r\n",
        "に対応するメソッドを定義する。」 と読むこ\r\n",
        "とができる。この宣言をすれば、任意倍長の整数の同値性を\r\n",
        "== を 用いて比較することができる。同様にして、\r\n",
        "\r\n",
        "instance Eq Float where\r\n",
        "x == y = x `floatEq` y\r\n",
        "\r\n",
        "により浮動小数の比較を ==\r\n",
        "を用いておこなうことができる。\r\n",
        "\r\n",
        "前に定義した Tree\r\n",
        "のような再帰的な型でも同じよう扱うことができ る。\r\n",
        "\r\n",
        "instance (Eq a) => Eq (Tree a)\r\n",
        "where\r\n",
        "Leaf a == Leaf b = a == b\r\n",
        "(Branch l1 r1) == (Branch l2\r\n",
        "r2) = (l1==l2) && (r1==r2)\r\n",
        "_ == _ = False\r\n",
        "\r\n",
        "最初の行の Eq a という文脈は必須だ。なぜなら、\r\n",
        "葉のもつ要素(型は a )は 2\r\n",
        "番目の行の同値性を用いて比較する。\r\n",
        "付加される制約は本質的には、a\r\n",
        "の木の同値性の比較は、すでにその やりかたが知れている a\r\n",
        "の同値性比較を用いて実現できるということ\r\n",
        "だ。もし、文脈をインスタンス宣言から取り除くと、静的型エラーが発生しま\r\n",
        "す。\r\n",
        "\r\n",
        "Haskell\r\n",
        "レポート、特にプレリュードには便利な型クラスの例が豊富に含まれて\r\n",
        "いる。実際には、Eq\r\n",
        "クラスの定義は前に定義したものよりは、もう\r\n",
        "すこし規模がおおきいものだ。\r\n",
        "\r\n",
        "class Eq a where\r\n",
        "(==), (/=) :: a -> a -> Bool\r\n",
        "x /= y = not (x == y)\r\n",
        "\r\n",
        "これは、ふたつの操作子をもつクラスの例だ。ひとつは同値性の操作子、もう\r\n",
        "ひとつは、非同値性の操作子だ。この例は、また、\r\n",
        "デフォルトメソッドの使い方の例示になっている。この場合は非同\r\n",
        "値性操作 /=\r\n",
        "がそれだ。ある特定の操作に対するメソッドがインス\r\n",
        "タンス宣言に含まれていないければ、そのクラス宣言中に定義されているデフォ\r\n",
        "ルトメソッドがあれば、それが使われる。たとえば、まえに定義した\r\n",
        "3 つの Eq\r\n",
        "クラスのインスタンスは上のクラス宣言で完全に動作する。この\r\n",
        "とき、望む非同値性の正しい定義(同値性の論理否定)がつくりだされている。\r\n"
      ],
      "execution_count": null,
      "outputs": []
    },
    {
      "cell_type": "code",
      "metadata": {
        "id": "6FktdMRtgPHU"
      },
      "source": [
        "\r\n",
        "Haskell ではクラス拡張( class\r\n",
        "extension )の記法もサポー\r\n",
        "トされている。たとえば、Eq クラスからすべての操作を\r\n",
        "継承( inherit )した Ord\r\n",
        "クラスを定義したいとし よう。このクラスは Eq\r\n",
        "クラスから継承した操作のほかに、比較 操作子と min\r\n",
        "関数および max 関数をもつものとする。\r\n",
        "\r\n",
        "class (Eq a) => Ord a where\r\n",
        "(<), (<=), (>=), (>) :: a -> a\r\n",
        "-> Bool\r\n",
        "max, min :: a -> a -> a\r\n",
        "\r\n",
        "このクラス宣言の文脈に注目してください。Eq は Ord の\r\n",
        "スーパークラス( super class\r\n",
        ")であるといいる。(反対に、 Ord は Eq\r\n",
        "のサブクラス( subclass )であ るといいる。)\r\n",
        "Ord のインスタンスである型はすべて Eq\r\n",
        "のインスタンスでなければならない。(次節では Ord\r\n",
        "の完全な定義 をプレリュードから抜きだし紹介する。)\r\n",
        "\r\n",
        "このようなクラスの包含の利点のひとつは、文脈の簡略化にある。\r\n",
        "Eq と Ord\r\n",
        "の両方のクラスの操作を使用する関数に対する型 式は文脈\r\n",
        "(Eq a, Ord a) ではなくて (Ord a)\r\n",
        "を利用することができる。それは、Ord が Eq\r\n",
        "を包含しているからだ。さらに重要なことは、サブクラスの操作\r\n",
        "に対するメソッドは、スーパークラスの操作に対するメソッドが存在することを\r\n",
        "仮定することができるということだ。たとえば、プレリュード中の\r\n",
        "Ord の宣言は、(<) に対応するデフォルトメソッドを含\r\n",
        "んでいる。\r\n",
        "\r\n",
        "x < y = x <= y && x /= y\r\n",
        "\r\n",
        "Ord の使用方法の一例として、2.4.1 節で定義した\r\n",
        "quicksort の主型の型付を見ると次のようになる。\r\n",
        "\r\n",
        "quicksort :: (Ord a) => [a] ->\r\n",
        "[a]\r\n",
        "\r\n",
        "いいかえれば、quicksort\r\n",
        "は順序付の型の値のリスト上でのみ操作で\r\n",
        "きるということだ。この quicksort\r\n",
        "に対する型付は定義のなかの比 較操作子< と >=\r\n",
        "の使い方から導かれる。\r\n",
        "\r\n",
        "Haskell では多重継承( multiple\r\n",
        "inheritance )も認められて\r\n",
        "いる。それはクラスは 2\r\n",
        "つ以上のスーパークラスを持つこともあるからだ。\r\n",
        "たとえば、次の宣言をみてみよう。\r\n",
        "\r\n",
        "class (Eq a, Show a) => C a\r\n",
        "where ...\r\n",
        "\r\n",
        "これは、C というクラスをつくっていますが、操作を Eq と\r\n",
        "Show の両方から継承している。\r\n",
        "\r\n",
        "Haskell\r\n",
        "ではクラスメソッドはトップレベルの宣言として扱われる。これらは、\r\n",
        "ふつうの変数と同様に同じ名前空間を共有する。名前はクラスメソッドと変数\r\n",
        "名あるいは別のクラスのメソッドとの両方を表示するのには使えない。\r\n",
        "\r\n",
        "文脈はデータ宣言のなかで使うことができる。これについては\r\n",
        "§4.2.1 を参照して ください。\r\n",
        "\r\n",
        "クラスメソッドには、あらゆる型変数(定義しようとしているものを除く)の上の\r\n",
        "制約を付加することができる。たとえば、\r\n",
        "\r\n",
        "class C a where\r\n",
        "m :: Show b => a -> b\r\n",
        "\r\n",
        "このようなクラスでは、メソッド m は型 b が Show\r\n",
        "クラスに属していることを要求する。しかしながら、メソッド\r\n",
        "m は型 a については、いかなるクラス制約も付加しない。\r\n",
        "これらは、クラス宣言のなかの文脈でおこなう必要がある。\r\n",
        "\r\n",
        "ここまで、「1階の」型を使ってくる。つまり、型構築子\r\n",
        "Tree\r\n",
        "はこれまで常にひとつの引数と組になっていた。たとえば、\r\n",
        "Tree Integer ( Integer\r\n",
        "型の値を含む木)、あるいは、 Tree a ( a\r\n",
        "型の値を含む木の族をあらわす)だ。し かし、Tree\r\n",
        "それ自身は型構築子であり、ひとつの型を引数としてとり、\r\n",
        "ひとつの型を返する。Haskell\r\n",
        "にはこの種の値はありないが、このような\r\n",
        "「高階の」型はクラス宣言のなかで使用することができる。\r\n"
      ],
      "execution_count": null,
      "outputs": []
    },
    {
      "cell_type": "code",
      "metadata": {
        "id": "Xp6GdMwJgMKr"
      },
      "source": [
        "\r\n",
        "まずはじめに、以下のような Functor クラス\r\n",
        "(これはプレリュードか らの引用) を考えよう。\r\n",
        "\r\n",
        "class Functor f where\r\n",
        "fmap :: (a -> b) -> f a -> f b\r\n",
        "\r\n",
        "fmap 関数は以前につかった map\r\n",
        "関数を一般化したものだ。 型変数 f は f a\r\n",
        "のなかで他の型に適用される。こ のように、型変数が\r\n",
        "Tree のような引数をとる型に束縛されることが\r\n",
        "期待される。型 Tree に対する Functor\r\n",
        "のインスタンス は、\r\n",
        "\r\n",
        "instance Functor Tree where\r\n",
        "fmap f (Leaf x) = Leaf (f x)\r\n",
        "fmap f (Branch t1 t2) = Branch\r\n",
        "(fmap f t1) (fmap f t2)\r\n",
        "\r\n",
        "となる。このインスタンス宣言は Tree a ではなく\r\n",
        "Tree が Functor\r\n",
        "のインスタンスであることを宣言していま\r\n",
        "す。こうした能力は大変便利なものだ。これは総称的「コンテナ」型を記述す\r\n",
        "る能力のあることを示し、fmap\r\n",
        "のような、任意の木、リストあるいは\r\n",
        "他の型の上で統一的に動作する関数を可能にする。\r\n",
        "\r\n",
        "[型適用は関数適用とおなじやりかたで書くる。型 T a b\r\n",
        "は (T a) b\r\n",
        "のように構文解析される。タプルのような特\r\n",
        "別な構文を使う型はカリー化可能な別のスタイルで書くる。関数については、\r\n",
        "(->) が型構築子だ。f -> g と (->) f g\r\n",
        "とは同じだ。同様に、[a] と [] a\r\n",
        "とは同じだ。タプルについては、型構築子(同時にデー\r\n",
        "タ構築子でもありますが)は (,)、(,,)\r\n",
        "などとなる。]\r\n",
        "\r\n",
        "すでにご存知のように、型システムは式の中で型付けエラーを検出する。しか\r\n",
        "し、不正な型式に起因するエラーについてはどうでしょうか。式\r\n",
        "(+) 1 2 3 は型エラーになる。それは、 (+)\r\n",
        "は 2 つしか引数をとらないからだ。同様に、 Tree\r\n",
        "Int Int は、ある種のエラーを起こすはずだ。それ\r\n",
        "は、Tree\r\n",
        "型はひとつの引数しかとらないからだ。では、Haskell\r\n",
        "は\r\n",
        "どのようにして不正な型式を検出するのでしょうか。その答は、型の正当性を確\r\n",
        "認する第 2 の型システムにある。それぞれの型は類 (\r\n",
        "kind\r\n",
        ")と結びついている。これはその型が正しく使用されることを\r\n",
        "確認するものだ。\r\n",
        "\r\n",
        "型式は別々の類に分類される。これは次の 2\r\n",
        "つの形式をとる。\r\n",
        "\r\n",
        "記号 *\r\n",
        "は具体的なデータ対象に結びついた型の類をあらわす。すなわち、\r\n",
        "もし、値 v の型が t であるなら、v の類は * で\r\n",
        "なければならない。\r\n",
        "\r\n",
        "もし、k1 と k2 とが類ならば、k1->k2 は k1\r\n",
        "という類の型をとり、k2 という類の型を返す型の類である。\r\n",
        "\r\n",
        "型構築子 Tree の類は、 *->* であり、Tree\r\n",
        "Int の類は * だ。Functor\r\n",
        "クラスのメンバーはすべて、類 *->* で\r\n",
        "なければならず、類付けのエラーは、次のような宣言により引き起こされる。\r\n",
        "\r\n",
        "instance Functor Integer where\r\n",
        "...\r\n",
        "\r\n",
        "なぜなら、Integer の類は * だからである。\r\n",
        "類は Haskell\r\n",
        "のプログラムの直接あらわれることはあらない。コンパイラが\r\n",
        "型検査の前に類を推論する。「類宣言」のようなものは必要あらない。型シ\r\n",
        "グネチャが類エラーをおこすとき以外は、類は Haskell\r\n",
        "のプログラムの後ろに\r\n",
        "隠れている。類は非常にシンプルなので、コンパイラは、類衝突がおこれば、\r\n",
        "その旨のエラーメッセージを表示することができなければならない。類に関す\r\n",
        "る詳細は §4.1.1 や §4.6 を参照してく ださい。\r\n"
      ],
      "execution_count": null,
      "outputs": []
    },
    {
      "cell_type": "code",
      "metadata": {
        "id": "U666LVobgIAO"
      },
      "source": [
        "\r\n",
        "別の見方\r\n",
        "型クラスの使い方のさらに進んだ例にいくまえに、Haskell\r\n",
        "の型クラスのふたつ\r\n",
        "の別の観点について言及してもいいかと思いる。第一は、オブジェクト指向プ\r\n",
        "ログラミング( OOP\r\n",
        ")とのアナロジーによる観点だ。OOP に関してよくある次\r\n",
        "のような謂は、単純にクラスを型クラスへ置き換え、オブジェクトを\r\n",
        "型へ置き換えれば、ほぼ Haskell\r\n",
        "の型クラス機構になる。\r\n",
        "\r\n",
        "「クラスは操作の共通集合を捕捉するものである。ある特定\r\n",
        "のオブジェクトはクラスのインスタンスであり、おのおのの操作に対\r\n",
        "応するメソッドをもつ。クラスは階層構造をもつことがあり、スー\r\n",
        "パークラスやサブクラスという概念があり、操作/メソッドの継\r\n",
        "承も許されている。デフォルトメソッドがある操作と結びつくことも\r\n",
        "ある。」\r\n",
        "\r\n",
        "OOP\r\n",
        "と対比すると、型はオブジェクトではないというのは明かで、特\r\n",
        "に、オブジェクトや型の可変の内部状態などという概念はあらない。いくつか\r\n",
        "の OOP 言語に対する利点は、Haskell\r\n",
        "のメソッドは完全に型安全であるという\r\n",
        "ことだ。必要なクラスのなかにはない型の値にメソッドを適用しようとしてい\r\n",
        "るかどうかは、実行時ではなくコンパイル時に検出される。つまり、メソッド\r\n",
        "が実行時に「検索」されるのではなく、単純に高階関数として引き渡されるだけ\r\n",
        "だ。\r\n",
        "\r\n",
        "パラメータ多相とアドホック多相と関係を考察すると別の見方をすることができ\r\n",
        "る。すべての型の上で全称修飾することで型の族を定義するさいに、パラメー\r\n",
        "タ多相がどれほど便利かということは既に示した。しかしながら、ときには、\r\n",
        "このような全称修飾では広すぎることもある。もっと小さい型の集合の上で\r\n",
        "限量修飾をしたい場合がある。たとえば、比較同値性をもつような型の集合\r\n",
        "の上で、ということだ。型クラスは、これを実現する構造的方法とみなすこと\r\n",
        "ができる。実際のところは、パラメータ多相は一種の多重定義とみなすことが\r\n",
        "できるのだ。まさに、多重定義は暗黙にすべての型の上で起こるのであって、\r\n",
        "限定された型の集合(つまり、型クラス)上で起こるのではあらない。\r\n",
        "\r\n",
        "他の言語との比較\r\n",
        "Haskell で用いられるクラスは C++ や Java\r\n",
        "のようなオブジェクト指向言語で\r\n",
        "用いられるクラスに類似している。しかし、いくつかの重大な相違がある。\r\n",
        "\r\n",
        "Haskell\r\n",
        "は、型の定義とその型に結びついているメソッドの定義を分離す\r\n",
        "る。 C++ や Java\r\n",
        "のクラスは、ふつう、データ構造(メンバー変数)とその\r\n",
        "データ構造と結びついた関数(メソッド)との両方を定義する。Haskell\r\n",
        "ではこれらの定義は別々におこなう。\r\n",
        "\r\n",
        "Haskell\r\n",
        "のクラスにより定義されたクラスメソッドは、C++\r\n",
        "のクラスにお\r\n",
        "ける仮想関数に対応している。クラスのインスタンスのそれぞれは、各メ\r\n",
        "ソッドについてそのインスタンス自身の定義を与える。デフォルトメソッ\r\n",
        "ドはベースクラスの仮想関数のデフォルト定義に対応している。\r\n",
        "\r\n",
        "Haskell のクラスは大筋では Java\r\n",
        "のインタフェースに類似している。 Java\r\n",
        "のインタフェース宣言とおなじように、Haskell\r\n",
        "のクラス宣言はオブ\r\n",
        "ジェクトそのものを定義するのではなく、オブジェクトを使う手順を定義\r\n",
        "している。\r\n",
        "\r\n",
        "Haskell は、型の違う関数が共通の名前を共有するような\r\n",
        "C++ 流の多重定義 はサポートしていない。\r\n",
        "\r\n",
        "Haskell\r\n",
        "のオブジェクトの型は暗黙の型変換を受けない。値が投入あるい\r\n",
        "は投出される Object\r\n",
        "のようなすべての基になるようなクラスは ない。\r\n",
        "\r\n",
        "C++ や Java ではオブジェクトの実行時表現に(\r\n",
        "VTable のような)同定情 報を付加する。Haskell\r\n",
        "ではこのような情報は、型システムを通じて物理\r\n",
        "的にではなく、論理的に、値に付加する。\r\n",
        "\r\n",
        "Haskell のクラスシステムには、( public\r\n",
        "あるいは private などといっ\r\n",
        "たクラス構成要素のような)アクセスコントロールの機構は組込まれていな\r\n",
        "い。\r\n",
        "\r\n",
        "A Gentle Introduction to\r\n",
        "Haskell, Version 98\r\n",
        "back next top\r\n"
      ],
      "execution_count": null,
      "outputs": []
    }
  ]
}