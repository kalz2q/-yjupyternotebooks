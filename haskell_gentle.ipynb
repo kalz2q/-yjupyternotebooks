{
  "nbformat": 4,
  "nbformat_minor": 0,
  "metadata": {
    "colab": {
      "name": "haskell_gentle.ipynb",
      "provenance": [],
      "toc_visible": true,
      "authorship_tag": "ABX9TyNHjK8HCU1CrejhN9WPHxFL",
      "include_colab_link": true
    },
    "kernelspec": {
      "name": "python3",
      "display_name": "Python 3"
    }
  },
  "cells": [
    {
      "cell_type": "markdown",
      "metadata": {
        "id": "view-in-github",
        "colab_type": "text"
      },
      "source": [
        "<a href=\"https://colab.research.google.com/github/kalz2q/mycolabnotebooks/blob/master/haskell_gentle.ipynb\" target=\"_parent\"><img src=\"https://colab.research.google.com/assets/colab-badge.svg\" alt=\"Open In Colab\"/></a>"
      ]
    },
    {
      "cell_type": "markdown",
      "metadata": {
        "id": "W3PkoT_HorRB"
      },
      "source": [
        "# メモ\r\n",
        "\r\n",
        "a gentle introduction to haskell  \r\n",
        "https://www.sampou.org/haskell/tutorial-j/  \r\n",
        "を読む。ノート。"
      ]
    },
    {
      "cell_type": "code",
      "metadata": {
        "id": "Sxl3u4P4ohJ3"
      },
      "source": [
        "# 型付け\r\n",
        "%%script false\r\n",
        "                         5  :: Integer\r\n",
        "                        'a' :: Char\r\n",
        "                        inc :: Integer -> Integer\r\n",
        "                    [1,2,3] :: [Integer]\r\n",
        "                    ('b',4) :: (Char,Integer)\r\n",
        "\r\n",
        "# :: はなになにの型はなになに \"has type\" と読むことができる\r\n"
      ],
      "execution_count": null,
      "outputs": []
    },
    {
      "cell_type": "code",
      "metadata": {
        "id": "rTYlGnFKrEVV"
      },
      "source": [
        "# 関数定義\r\n",
        "%%script false\r\n",
        "\r\n",
        "inc n          = n+1\r\n",
        "\r\n",
        "inc            :: Integer -> Integer\r\n",
        "\r\n"
      ],
      "execution_count": null,
      "outputs": []
    },
    {
      "cell_type": "code",
      "metadata": {
        "id": "YHINhqE_xkS7"
      },
      "source": [
        "# e1 が評価され e2 になることを\r\n",
        "# e1 => e2\r\n",
        "# と書く。\r\n",
        "\r\n",
        "# 例えば\r\n",
        "%%script false\r\n",
        "\r\n",
        "inc (inc 3) => 5\r\n",
        "\r\n"
      ],
      "execution_count": null,
      "outputs": []
    },
    {
      "cell_type": "code",
      "metadata": {
        "id": "z5RsjAx-x-4Y"
      },
      "source": [
        "# list とは\r\n",
        "%%script false\r\n",
        "\r\n",
        "length                  :: [a] -> Integer\r\n",
        "length []               =  0\r\n",
        "length (x:xs)           =  1 + length xs\r\n",
        "\r\n",
        "length [1,2,3]\t=>\t3\r\n",
        "length ['a','b','c']\t=>\t3\r\n",
        "length [[1],[2],[3]]\t=>\t3"
      ],
      "execution_count": null,
      "outputs": []
    },
    {
      "cell_type": "code",
      "metadata": {
        "id": "lLgRxRVLh2D9"
      },
      "source": [
        "# head と tail\r\n",
        "%%script false\r\n",
        "\r\n",
        "head                    :: [a] -> a\r\n",
        "head (x:xs)             =  x\r\n",
        "\r\n",
        "tail                    :: [a] -> [a]\r\n",
        "tail (x:xs)             =  xs\r\n",
        "\r\n",
        "#  head と tail はカラのリストではエラーになる\r\n"
      ],
      "execution_count": null,
      "outputs": []
    },
    {
      "cell_type": "code",
      "metadata": {
        "id": "WoimBfFbrRTh"
      },
      "source": [
        "# 型の定義\r\n",
        "%%script false\r\n",
        "\r\n",
        "data Bool               = False | True\r\n",
        "\r\n",
        "# Bool, False, True は引数を持たないコンストラクタ nullary constructor\r\n",
        "# Bool が型の名前、型コンストラクタで、False, True がデータコンストラクタ\r\n",
        "\r\n",
        "data Color              = Red | Green | Blue | Indigo | Violet\r\n",
        "\r\n",
        "# Bool, Color は列挙型 enumerated type\r\n"
      ],
      "execution_count": null,
      "outputs": []
    },
    {
      "cell_type": "code",
      "metadata": {
        "id": "0Q-fYTMN38JL"
      },
      "source": [
        "# 次のは 1つだけデータコンストラクタ(Pt a a)を持つ型\r\n",
        "\r\n",
        "data Point a            = Pt a a\r\n",
        "\r\n",
        "# Point のような型はタプル型と呼ばれる。 なぜなら本質的に他の型の直積(デカルト積)だから。\r\n",
        "# Bool, Color のような複数のデータコンストラクタを持つ型は直和型((disjoint) union or sum types)と呼ばれる。\r\n",
        "\r\n",
        "# Point は多相型なので、次のは正しい。\r\n",
        "\r\n",
        "Pt 2.0 3.0 :: Point Float\r\n",
        "Pt 'a' 'b' :: Point Char\r\n",
        "Pt True False :: Point Bool\r\n",
        "\r\n",
        "# 多相型の型コンストラクタとして、[] や -> がある。\r\n",
        "\r\n",
        "# データコンストラクタを適用して値を得ることと、型コンストラクタを適用して型を得ることを区別する。\r\n",
        "# 名前空間が違うので、同じ名前が使える。\r\n",
        "data Point a = Point a a"
      ],
      "execution_count": null,
      "outputs": []
    },
    {
      "cell_type": "code",
      "metadata": {
        "id": "Jyuv8v8a8ZUD"
      },
      "source": [
        "# 再帰型\r\n",
        "%%script false\r\n",
        "\r\n",
        "data Tree a = Leaf a | Branch (Tree a) (Tree a)\r\n",
        "\r\n",
        "# ここで Tree は型コンストラクタで Branch や Leaf はデータコンストラクタなので\r\n",
        "\r\n",
        "Branch :: Tree a -> Tree a -> Tree a\r\n",
        "Leaf :: a -> Tree a\r\n",
        "\r\n",
        "# ということになる。\r\n",
        "\r\n",
        "# fringeという、木を左から右へたどって「葉」にある要素のリストを返す関数を定義したいとする。\r\n",
        "# その定義は次のようになる\r\n",
        "\r\n",
        "fringe :: Tree a -> [a]\r\n",
        "fringe (Leaf x) = [x]\r\n",
        "fringe (Branch left right) = fringe left ++ fringe right\r\n"
      ],
      "execution_count": null,
      "outputs": []
    },
    {
      "cell_type": "code",
      "metadata": {
        "id": "1pmHUaAQUMx7"
      },
      "source": [
        "# type synonym 型の同義名、シノニム\r\n",
        "%%script false\r\n",
        "\r\n",
        "type String = [Char]\r\n",
        "type Person = (Name, Address)\r\n",
        "type Name = String\r\n",
        "data Address = None | Addr String\r\n",
        "\r\n",
        "type AssocList a b = [(a,b)]\r\n"
      ],
      "execution_count": null,
      "outputs": []
    },
    {
      "cell_type": "code",
      "metadata": {
        "id": "54rS1eZ8Uxs3"
      },
      "source": [
        "# Built-in 組み込みの型について\r\n",
        "# 例えば Char は\r\n",
        "%%script false\r\n",
        "data Char = \r\n",
        "    Ca | Cb | Cc | ...\r\n",
        "    | CA | CB | CC | ...\r\n",
        "    | C1 | C2 | C3 | ...\r\n",
        "    ...\r\n",
        "\r\n",
        "# 同様に\r\n",
        "\r\n",
        "data Int = -65532 | ... | -1 | 0 | 1 | ... | 65532\r\n",
        "\r\n",
        "data Integer = ... -2 | -1 | 0 | 1 | 2 ...\r\n",
        "\r\n",
        "# のように考えることができる。ここで、-65532と65532は、与えられた処理系における固定精度整数の最小値と最大値。\r\n",
        "\r\n",
        "# タプルもこのやりかたで定義できる。\r\n",
        "\r\n",
        "data (a,b) = (a,b)\r\n",
        "data (a,b,c) = (a,b,c)\r\n",
        "data (a,b,c,d) = (a,b,c,d)\r\n",
        "        . .\r\n",
        "        . .\r\n",
        "        . .\r\n",
        "\r\n",
        "# リストも同様に定義できる。リストの場合は再帰的になる。\r\n",
        "\r\n",
        "data [a] = [] | a : [a]\r\n",
        "\r\n",
        "# タプルとリストの違いから次のようなルールが明らかである。\r\n",
        "\r\n",
        "# (e1,e2,...,en), n>=2 に対して、もし、ti が ei の型であるとす るならば、タプルの型は (t1,t2,...,tn) \r\n",
        "# [e1,e2,...,en], n>=0 に対して各 ei が必ず同じ型 t であるなら、そのリストの 型は [t]\r\n",
        "\r\n"
      ],
      "execution_count": null,
      "outputs": []
    },
    {
      "cell_type": "code",
      "metadata": {
        "id": "T0-81qtasBS9"
      },
      "source": [
        "# リスト内包表記 List Comprehensions と 数列 Arithmetic Sequences\r\n",
        "%%script false\r\n",
        "\r\n",
        "[ f x | x <- xs ]\r\n",
        "\r\n",
        "[ (x,y) | x <- xs, y <- ys ]\r\n",
        "\r\n",
        "# xs = [1,2] 、ys = [3,4] ならば =>  [(1,3),(1,4),(2,3),(2,4)] となる。\r\n",
        "\r\n",
        "# ガード guard\r\n",
        "\r\n",
        "quicksort [] = []\r\n",
        "quicksort (x:xs) = quicksort [y | y <- xs, y<x ] ++ [x] ++ quicksort [y | y <- xs, y>=x]\r\n",
        "\r\n",
        "# 数列 Arithmetic Sequences\r\n",
        "\r\n",
        "[1..10] => [1,2,3,4,5,6,7,8,9,10] -- 10 も入ることに注意\r\n",
        "[1,3..10] => [1,3,5,7,9] -- 10 以下の奇数\r\n",
        "[1,3..] => [1,3,5,7,9, ...] -- 無限\r\n",
        "\r\n"
      ],
      "execution_count": null,
      "outputs": []
    },
    {
      "cell_type": "code",
      "metadata": {
        "id": "NXfjmS6J_sKc"
      },
      "source": [
        "# 文字列 String\r\n",
        "%%script false\r\n",
        "\r\n",
        "['h','e','l','l','o'] = \"hello\"\r\n",
        "\r\n",
        "type String = [Char]\r\n",
        "\r\n",
        "\"hello\" ++ \" world\" => \"hello world\"\r\n"
      ],
      "execution_count": null,
      "outputs": []
    },
    {
      "cell_type": "code",
      "metadata": {
        "id": "fzudYNjSSc1S"
      },
      "source": [
        "# 関数\r\n",
        "%%script false\r\n",
        "\r\n",
        "add :: Integer -> Integer -> Integer\r\n",
        "add x y = x + y\r\n",
        "\r\n",
        "# これは add (x,y) = x + y とは違う\r\n"
      ],
      "execution_count": null,
      "outputs": []
    },
    {
      "cell_type": "code",
      "metadata": {
        "id": "zzgGYrSuUqn-",
        "colab": {
          "base_uri": "https://localhost:8080/"
        },
        "outputId": "647a3f00-1349-4817-8ff4-96bcece5909c"
      },
      "source": [
        "# 実験\r\n",
        "!ghc -e $'let {add x y = x + y; inc = add 1} in print (inc 4) '\r\n",
        "!ghc -e $'let {add (x y) = x + y; inc = add 1} in print (inc 4) ' #=> Parse error\r\n",
        "!ghc -e $'let {add x y = x + y; inc = add 1} in print (add 4 5) '\r\n",
        "!ghc -e $'let {add (x, y) = x + y} in print (add (4, 5)) '"
      ],
      "execution_count": 22,
      "outputs": [
        {
          "output_type": "stream",
          "text": [
            "5\n",
            "\n",
            "<interactive>:0:11: error: Parse error in pattern: x\n",
            "9\n",
            "9\n"
          ],
          "name": "stdout"
        }
      ]
    },
    {
      "cell_type": "code",
      "metadata": {
        "id": "HXzyrmrSUplh"
      },
      "source": [
        "# map 関数は関数を引数にとる\r\n",
        "%%script false\r\n",
        "\r\n",
        "map :: (a->b) -> [a] -> [b]\r\n",
        "map f [] = []\r\n",
        "map f (x:xs) = f x : map f xs\r\n",
        "\r\n",
        "map (add 1) [1,2,3] => [2,3,4]\r\n",
        "\r\n",
        "# この例は関数が第一級の対象 (first-class object) であることを示している。\r\n",
        "# このような使いかたをする関数は高階 (higher-order)関数とよばれる。\r\n"
      ],
      "execution_count": null,
      "outputs": []
    },
    {
      "cell_type": "code",
      "metadata": {
        "id": "UVud-SgCTuK-"
      },
      "source": [
        "# ラムダ抽象 (lambda abstraction) 無名関数\r\n",
        "# 例えば inc は  \\x -> x+1 と書く。\r\n",
        "# add は \\x -> \\y -> x + y と書く。\r\n",
        "# 陥落かして \\x y -> x + y と書く。\r\n",
        "%%script false\r\n",
        "\r\n",
        "inc x = x+1\r\n",
        "add x y = x+y\r\n",
        "\r\n",
        "# は次の等式と同等\r\n",
        "\r\n",
        "inc = \\x -> x+1\r\n",
        "add = \\x y -> x+y\r\n"
      ],
      "execution_count": null,
      "outputs": []
    },
    {
      "cell_type": "markdown",
      "metadata": {
        "id": "9-lkROGPkKPJ"
      },
      "source": [
        "# いまここ"
      ]
    },
    {
      "cell_type": "code",
      "metadata": {
        "id": "0vHy_7FYkFa5"
      },
      "source": [
        "# 中置演算子 infix operator\r\n",
        "# 中置演算子は関数なので、等式を使って定義する。\r\n",
        "%%script false\r\n",
        "\r\n",
        "# リストの連結演算子\r\n",
        "(++) :: [a] -> [a] -> [a]\r\n",
        "[] ++ ys = ys\r\n",
        "(x:xs) ++ ys = x : (xs++ys)\r\n",
        "\r\n",
        "# マイナス(-)は前置演算子にも、中置演算子にもなる。\r\n",
        "\r\n",
        "# 関数合成(function composition)演算子\r\n",
        "\r\n",
        "(.) :: (b->c) -> (a->b) -> (a->c)\r\n",
        "f . g = \\ x -> f (g x)\r\n",
        "\r\n",
        "# 中置演算子の部分適用は section と呼ばれる\r\n",
        "\r\n",
        "(x+) = \\y -> x+y\r\n",
        "(+y) = \\x -> x+y\r\n",
        "(+) = \\x y -> x+y\r\n"
      ],
      "execution_count": null,
      "outputs": []
    },
    {
      "cell_type": "code",
      "metadata": {
        "id": "eqqaVVQ9Tms2"
      },
      "source": [
        "\r\n",
        "3.2.1 セクション\r\n",
        "中置演算子はまさに関数ですから、関数と同じように、部分適用が可能です。\r\n",
        "Haskell では中置演算子の部分適用のことをセクション\r\n",
        "( section )といいます。例を見ましょう。\r\n",
        "\r\n",
        "(x+) = \\y -> x+y\r\n",
        "(+y) = \\x -> x+y\r\n",
        "(+) = \\x y -> x+y\r\n",
        "[ここでの括弧は必須です。]\r\n",
        "\r\n",
        "上の例の最後のセクションの形式は中置演算子から同等の関数値へ変換する働き\r\n",
        "をします。この形式は中置演算子を関数の引数として渡すときに便利な方法です。\r\n",
        "たとえば、map (+) [1,2,3]\r\n",
        "のようにします。(読者の皆さ\r\n",
        "んはここで、関数のリストが返されていることを確かめてください。)\r\n",
        "関数の型 を与える際にも必要になります。これはすでに\r\n",
        "(++) および (.)\r\n",
        "の例で示しましたね。さて、これですでに定義した add が\r\n",
        "(+)、inc が (+1) で定義できることがわかり\r\n",
        "ます。実際これらの定義がすっきりします。\r\n",
        "\r\n",
        "inc = (+ 1)\r\n",
        "add = (+)\r\n",
        "\r\n",
        "\r\n",
        "中置演算子を関数値に変換できましたが、それでは、その逆は可能なのでしょう\r\n",
        "か。可能です。関数値をバッククウォートで括るだけです。たとえば、\r\n",
        "x `add` y は、add x y と同じです。\r\n",
        "(これは、add がバッククオート で括るのであって、文字の\r\n",
        "場合のアポストロフィ(あるいはシングルクウォート)で括る\r\n",
        "わけではありません。つまり、'f' は文字で、`f`\r\n",
        "は中置演 算子です。幸い、ほとんどの ASCII\r\n",
        "端末ではこのふたつを区別できるようになっ\r\n",
        "ています。(手で書くとそうはいかないようです。)\r\n",
        "関数によっては、中置演算\r\n",
        "子にしたほうが読みやすくなります。たとえば、リストの要素かどうかを調べる\r\n",
        "述語関数 elem がその例です。x `elem` xs\r\n",
        "は直 観的に「x が属しているのは xs である。( x\r\n",
        "is an element of xs )」と読めます。\r\n",
        "\r\n",
        "[前置/中置演算子 -\r\n",
        "のセクションについてはいくつかの特別なルール\r\n",
        "があります。(§3.5,§3.4)。]\r\n",
        "\r\n",
        "ここまでで、読者のみなさんは関数の定義のしかたにいろいろあって、混乱した\r\n",
        "かもしれません。これらの定義のメカニズムのサポートを決定するにあたっては、\r\n",
        "歴史的な慣習も部分的には反映されていますし、一貫性を確保したい(たとえば、\r\n",
        "中置演算子と普通の関数の取り扱いなど)という要望も反映されています。\r\n",
        "\r\n"
      ],
      "execution_count": null,
      "outputs": []
    },
    {
      "cell_type": "code",
      "metadata": {
        "id": "lMib8a4fTi8f"
      },
      "source": [
        "\r\n",
        "3.2.2 結合性宣言\r\n",
        "結合性宣言( fixity declaration )\r\n",
        "はすべての中置演算子と 中置構築子 ( `elem`\r\n",
        "のような一般の識別子に由来するものも含む)に\r\n",
        "対しておこなうことができます。この宣言では 0 から 9\r\n",
        "までの優先レベル( 9\r\n",
        "が最強です。一般の関数適用の優先レベルは 10\r\n",
        "と仮定されています。)と、右\r\n",
        "結合性、左結合性をもつ、あるいは結合性をもたない、という指定をします。例\r\n",
        "をあげると ++ と . の結合性宣言は、\r\n",
        "\r\n",
        "infixr 5 ++\r\n",
        "infixr 9 .\r\n",
        "\r\n",
        "です。両方とも右結合性が指定されています。++ は優先レベル\r\n",
        "5 で . は優先レベル 9 と指定されています。左結合性は\r\n",
        "infixl を使って指定し、結合性のないことは infix\r\n",
        "で指定 します。おなじ結合性宣言で 1\r\n",
        "つ以上の演算子の結合性について指定できます。\r\n",
        "もし、ある演算子に対して、結合性宣言をしない場合はデフォルトで\r\n",
        "infixl 9 が指定されたことになります。(\r\n",
        "結合性ルールの定義 の詳細については §5.6\r\n",
        "参照のこと。)\r\n",
        "\r\n"
      ],
      "execution_count": null,
      "outputs": []
    },
    {
      "cell_type": "code",
      "metadata": {
        "id": "iwJlMBTTTfCA"
      },
      "source": [
        "\r\n",
        "3.3 関数は非正格\r\n",
        "bot が次のように定義されているとしましょう。\r\n",
        "\r\n",
        "bot = bot\r\n",
        "\r\n",
        "bot は停止しない式です。このような停止しない式の値を抽\r\n",
        "象的に\r\n",
        "_|_(ボトムと読む)と表わします。ある種の実行時エラーになる式、たと\r\n",
        "えば、1/0\r\n",
        "のような式もこの値を持ちます。このようなエラーは回復\r\n",
        "不可能で、プログラムはこれ以上継続することはできなくなります。I/O\r\n",
        "システ ムのエラー(たとえば、EOF\r\n",
        "エラーなど)は回復可能で、べつの方法で取り扱い\r\n",
        "ます。(このような I/O\r\n",
        "エラーは、実はエラーではなく、例外です。例外につい\r\n",
        "ての詳細は 7 節でふれます。)\r\n",
        "\r\n",
        "関数 f が正格 ( strict )\r\n",
        "であるとは、停止しない\r\n",
        "式に適用されれば、その適用式も停止しないことをいいます。いいかえると、\r\n",
        "f bot が _|_ の時でかつその時にかぎり、f\r\n",
        "は正格で\r\n",
        "あるといいます。ほとんどのプログラミング言語では、すべての関数\r\n",
        "が正格です。ただ、 Haskell\r\n",
        "では違います。簡単な例、つねに 1 を返す関数 const1\r\n",
        "を考えましょう。定義は、\r\n",
        "\r\n",
        "const1 x = 1\r\n",
        "\r\n",
        "です。const1 bot の値は Haskell では 1\r\n",
        "です。操作 的な観点からいうと、const1\r\n",
        "はその引数の値を「必要」としないので、\r\n",
        "引数は決して評価されません。だから停止しない計算に陥いることがないのです。\r\n",
        "こういうわけで、非正格関数は「遅延関数 ( lazy\r\n",
        "function ) 」とも呼ばれ、\r\n",
        "その引数の評価については「遅延評価」とか「必要呼び評価」とかいわれていま\r\n",
        "す。\r\n",
        "\r\n",
        "Haskell\r\n",
        "では、エラーや停止しない値は、意味論的に同じものですから、上の引数\r\n",
        "にはエラーも含まれています。たとえば、 const1\r\n",
        "(1/0) もちゃ んと評価されて 1 になります。\r\n",
        "\r\n",
        "非正格関数は多くの場面で、たいへん役に立ちます。そのなかで、主要な利点は、\r\n",
        "プログラマが評価の順に気をくばらなくてもよい、ということです。計算上高価\r\n",
        "な値を、必要もないのに余分な計算をしなければならないかもしれない、などと\r\n",
        "心配せずに関数へ渡すことができます。重要な例のひとつは、無限の\r\n",
        "( infinite ) データ構造です。\r\n",
        "\r\n",
        "もうひとつ別のやりかたで非正格関数を説明しましょう。Haskell\r\n",
        "は伝統的な言 語のように代入 ( assignment )\r\n",
        "ではなく、定義 ( definition )\r\n",
        "を用いて計算をすすめます。たとえば、\r\n",
        "\r\n",
        "v = 1/0\r\n",
        "\r\n",
        "のような宣言は、「 v を 1/0\r\n",
        "と定義する」と読みます。こ れは、「 1/0\r\n",
        "を計算し、その結果を v へ格納する」とは読 みません。v\r\n",
        "の値(定義)が必要になったときにのみゼロ除算エラーが\r\n",
        "発生します。宣言それだけでは計算は起こりません。代入を必要とするプロ\r\n",
        "グラミングではその代入の順序に細心の注意をはらう必要があります。プログラ\r\n",
        "ムの意味は代入がおこる順序に依存します。一方、定義はずっと単純で、プログ\r\n",
        "ラムの意味には影響あたえず、どのような順で出現してもかまいません。\r\n",
        "\r\n",
        "\r\n",
        "3.4 「無限の」データ構造\r\n",
        "Haskell\r\n",
        "の非正格な性質の利点のひとつは、データコンストラクタもが非正格で\r\n",
        "あることです。このことはべつに驚くべきことではありません。コンストラクタ\r\n",
        "は特殊な関数にすぎません(ふつうの関数との違いは、パターンマッチで使われ\r\n",
        "るということです)。たとえば、リストの構築子、:\r\n",
        "は非正格です。\r\n",
        "\r\n",
        "非正格の構築子で(概念的に)無限の( infinite\r\n",
        ")データ構造を 定義することができます。これは、1\r\n",
        "の無限リストです。\r\n",
        "\r\n",
        "ones = 1 : ones\r\n",
        "\r\n",
        "さらに面白いのは、numsFrom 関数です。\r\n",
        "\r\n",
        "numsFrom n = n : numsFrom\r\n",
        "(n+1)\r\n",
        "\r\n",
        "numsFrom n は n\r\n",
        "から始まる無限の整数リストです。\r\n",
        "これを使って、平方数の無限リストを構成することができます。\r\n",
        "\r\n",
        "squares = map (^2) (numsFrom\r\n",
        "0)\r\n",
        "\r\n",
        "(ここで、セクションの使いかたに注目してください。^\r\n",
        "は中置の指数 演算子です。)\r\n",
        "\r\n",
        "当然のことながら、実際の計算では、そこから、有限の部分を取り出したいわけ\r\n",
        "です。Haskell\r\n",
        "ではこの用途で使える関数があらかじめたくさん定義されていま\r\n",
        "す。take、takeWhile、filter\r\n",
        "等々です。Haskell\r\n",
        "の定義には多くの組み込みの関数や型が含まれています。これらを「標準プレリュー\r\n",
        "ド( Standard Prelude\r\n",
        ")」と呼びます。標準プレリュード全体は、Haskell\r\n",
        "Report の付録 A\r\n",
        "にあります。リスト上の数多くの有用な関数が\r\n",
        "PreludeList\r\n",
        "の部分にありますので、参照してください。例をあげま\r\n",
        "しょう。take はリストから最初の n\r\n",
        "個の要素を取り出しま す。\r\n",
        "\r\n",
        "take 5 squares => [0,1,4,9,16]\r\n",
        "\r\n",
        "上にあげた、ones の定義は、循環リスト(\r\n",
        "circular list\r\n",
        ")の例です。ほとんどの場合、遅延性は効率の面で非常に重要です。表\r\n",
        "現が本当の循環リストとして実装されるので、空間が節約できます。\r\n"
      ],
      "execution_count": null,
      "outputs": []
    },
    {
      "cell_type": "code",
      "metadata": {
        "id": "WdBm8aZeTVcU"
      },
      "source": [
        "\r\n",
        "循環性を使用した別の例をみてみましょう。フィボナッチ数列はつぎのような循\r\n",
        "環数列をつかって効率よく計算することができます。\r\n",
        "\r\n",
        "fib = 1 : 1 : [ a+b | (a,b) <-\r\n",
        "zip fib (tail fib) ]\r\n",
        "\r\n",
        "ここで、zip\r\n",
        "は標準プレリュードにある関数で、引数のふたつのリス\r\n",
        "トの要素を互いにペアにしたリストを返す関数です。\r\n",
        "\r\n",
        "zip (x:xs) (y:ys) = (x,y) :\r\n",
        "zip xs ys\r\n",
        "zip xs ys = []\r\n",
        "\r\n",
        "無限リスト fib\r\n",
        "が自分自身をつかってどのように定義されているかに\r\n",
        "注目してください。「自分の尻尾をおいかける」ような定義になっていますね。\r\n",
        "実際、この計算を絵にえがくと図 1 のようになります。\r\n",
        "\r\n",
        "Fib Example\r\n",
        "図 1\r\n",
        "無限リストの応用のさらにもうひとつの例については 4.4\r\n",
        "節を参照のこと\r\n",
        "\r\n",
        "\r\n",
        "3.5 エラー関数\r\n",
        "Haskell には error\r\n",
        "という組み込みの関数があります。この関数の型 は\r\n",
        "String->a\r\n",
        "です。これはすこしばかり奇妙な関数です。型から\r\n",
        "すると、この関数の返す値の型は多相の型で実際の型がわかりません。この型の\r\n",
        "引数を受けとるわけではないからです。\r\n",
        "\r\n",
        "すべての型によって「共有」される値 _|_\r\n",
        "というのが存在します。 実際、意味論的には、error\r\n",
        "の返す値は常にこの値です(すべてのエラー の値は _|_\r\n",
        "であることを思い出してください)。しかし、実装はチェックのため\r\n",
        "の error\r\n",
        "の文字列引数を印字するというのが妥当なところでしょう。\r\n",
        "それで、この関数は、なにか「誤りがあった場合」、プログラムを停止させたい\r\n",
        "ときに便利です。たとえば、標準プレリュードでは、head\r\n",
        "の定義は以 下のようになっています。\r\n",
        "\r\n",
        "head (x:xs) = x\r\n",
        "head [] = error\r\n",
        "\"head{PreludeList}: head []\"\r\n"
      ],
      "execution_count": null,
      "outputs": []
    }
  ]
}