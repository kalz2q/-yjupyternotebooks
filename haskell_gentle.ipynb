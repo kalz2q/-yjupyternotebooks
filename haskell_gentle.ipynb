{
  "nbformat": 4,
  "nbformat_minor": 0,
  "metadata": {
    "colab": {
      "name": "haskell_gentle.ipynb",
      "provenance": [],
      "toc_visible": true,
      "authorship_tag": "ABX9TyPa92nDe3XzntsZ+yAH9McD",
      "include_colab_link": true
    },
    "kernelspec": {
      "name": "python3",
      "display_name": "Python 3"
    }
  },
  "cells": [
    {
      "cell_type": "markdown",
      "metadata": {
        "id": "view-in-github",
        "colab_type": "text"
      },
      "source": [
        "<a href=\"https://colab.research.google.com/github/kalz2q/mycolabnotebooks/blob/master/haskell_gentle.ipynb\" target=\"_parent\"><img src=\"https://colab.research.google.com/assets/colab-badge.svg\" alt=\"Open In Colab\"/></a>"
      ]
    },
    {
      "cell_type": "markdown",
      "metadata": {
        "id": "W3PkoT_HorRB"
      },
      "source": [
        "# メモ\r\n",
        "\r\n",
        "a gentle introduction to haskell  \r\n",
        "https://www.sampou.org/haskell/tutorial-j/  \r\n",
        "https://www.haskell.org/tutorial/  \r\n",
        "を読む。ノート。"
      ]
    },
    {
      "cell_type": "code",
      "metadata": {
        "id": "1uIL6O97ZUVj"
      },
      "source": [
        "%%capture\r\n",
        "!apt install haskell-platform"
      ],
      "execution_count": 2,
      "outputs": []
    },
    {
      "cell_type": "code",
      "metadata": {
        "colab": {
          "base_uri": "https://localhost:8080/"
        },
        "id": "4mGx09C_ZeXG",
        "outputId": "0ce75eb9-c2ef-435b-9380-c3beb731379a"
      },
      "source": [
        "!ghc --version"
      ],
      "execution_count": 3,
      "outputs": [
        {
          "output_type": "stream",
          "text": [
            "The Glorious Glasgow Haskell Compilation System, version 8.0.2\n"
          ],
          "name": "stdout"
        }
      ]
    },
    {
      "cell_type": "markdown",
      "metadata": {
        "id": "MiaxQpPVywsF"
      },
      "source": [
        "# 新しいセクション"
      ]
    },
    {
      "cell_type": "code",
      "metadata": {
        "id": "Sxl3u4P4ohJ3"
      },
      "source": [
        "# 型付け\r\n",
        "%%script false\r\n",
        "                         5  :: Integer\r\n",
        "                        'a' :: Char\r\n",
        "                        inc :: Integer -> Integer\r\n",
        "                    [1,2,3] :: [Integer]\r\n",
        "                    ('b',4) :: (Char,Integer)\r\n",
        "\r\n",
        "# :: はなになにの型はなになに \"has type\" と読むことができる\r\n"
      ],
      "execution_count": null,
      "outputs": []
    },
    {
      "cell_type": "code",
      "metadata": {
        "id": "rTYlGnFKrEVV"
      },
      "source": [
        "# 関数定義\r\n",
        "%%script false\r\n",
        "\r\n",
        "inc n          = n+1\r\n",
        "\r\n",
        "inc            :: Integer -> Integer\r\n",
        "\r\n"
      ],
      "execution_count": null,
      "outputs": []
    },
    {
      "cell_type": "code",
      "metadata": {
        "id": "YHINhqE_xkS7"
      },
      "source": [
        "# e1 が評価され e2 になることを\r\n",
        "# e1 => e2\r\n",
        "# と書く。\r\n",
        "\r\n",
        "# 例えば\r\n",
        "%%script false\r\n",
        "\r\n",
        "inc (inc 3) => 5\r\n",
        "\r\n"
      ],
      "execution_count": null,
      "outputs": []
    },
    {
      "cell_type": "code",
      "metadata": {
        "id": "z5RsjAx-x-4Y"
      },
      "source": [
        "# list とは\r\n",
        "%%script false\r\n",
        "\r\n",
        "length                  :: [a] -> Integer\r\n",
        "length []               =  0\r\n",
        "length (x:xs)           =  1 + length xs\r\n",
        "\r\n",
        "length [1,2,3]\t=>\t3\r\n",
        "length ['a','b','c']\t=>\t3\r\n",
        "length [[1],[2],[3]]\t=>\t3"
      ],
      "execution_count": null,
      "outputs": []
    },
    {
      "cell_type": "code",
      "metadata": {
        "id": "lLgRxRVLh2D9"
      },
      "source": [
        "# head と tail\r\n",
        "%%script false\r\n",
        "\r\n",
        "head                    :: [a] -> a\r\n",
        "head (x:xs)             =  x\r\n",
        "\r\n",
        "tail                    :: [a] -> [a]\r\n",
        "tail (x:xs)             =  xs\r\n",
        "\r\n",
        "#  head と tail はカラのリストではエラーになる\r\n"
      ],
      "execution_count": null,
      "outputs": []
    },
    {
      "cell_type": "code",
      "metadata": {
        "id": "WoimBfFbrRTh"
      },
      "source": [
        "# 型の定義\r\n",
        "%%script false\r\n",
        "\r\n",
        "data Bool               = False | True\r\n",
        "\r\n",
        "# Bool, False, True は引数を持たないコンストラクタ nullary constructor\r\n",
        "# Bool が型の名前、型コンストラクタで、False, True がデータコンストラクタ\r\n",
        "\r\n",
        "data Color              = Red | Green | Blue | Indigo | Violet\r\n",
        "\r\n",
        "# Bool, Color は列挙型 enumerated type\r\n"
      ],
      "execution_count": null,
      "outputs": []
    },
    {
      "cell_type": "code",
      "metadata": {
        "id": "0Q-fYTMN38JL"
      },
      "source": [
        "# 次のは 1つだけデータコンストラクタ(Pt a a)を持つ型\r\n",
        "\r\n",
        "data Point a            = Pt a a\r\n",
        "\r\n",
        "# Point のような型はタプル型と呼ばれる。 なぜなら本質的に他の型の直積(デカルト積)だから。\r\n",
        "# Bool, Color のような複数のデータコンストラクタを持つ型は直和型((disjoint) union or sum types)と呼ばれる。\r\n",
        "\r\n",
        "# Point は多相型なので、次のは正しい。\r\n",
        "\r\n",
        "Pt 2.0 3.0 :: Point Float\r\n",
        "Pt 'a' 'b' :: Point Char\r\n",
        "Pt True False :: Point Bool\r\n",
        "\r\n",
        "# 多相型の型コンストラクタとして、[] や -> がある。\r\n",
        "\r\n",
        "# データコンストラクタを適用して値を得ることと、型コンストラクタを適用して型を得ることを区別する。\r\n",
        "# 名前空間が違うので、同じ名前が使える。\r\n",
        "data Point a = Point a a"
      ],
      "execution_count": null,
      "outputs": []
    },
    {
      "cell_type": "code",
      "metadata": {
        "id": "Jyuv8v8a8ZUD"
      },
      "source": [
        "# 再帰型\r\n",
        "%%script false\r\n",
        "\r\n",
        "data Tree a = Leaf a | Branch (Tree a) (Tree a)\r\n",
        "\r\n",
        "# ここで Tree は型コンストラクタで Branch や Leaf はデータコンストラクタなので\r\n",
        "\r\n",
        "Branch :: Tree a -> Tree a -> Tree a\r\n",
        "Leaf :: a -> Tree a\r\n",
        "\r\n",
        "# ということになる。\r\n",
        "\r\n",
        "# fringeという、木を左から右へたどって「葉」にある要素のリストを返す関数を定義したいとする。\r\n",
        "# その定義は次のようになる\r\n",
        "\r\n",
        "fringe :: Tree a -> [a]\r\n",
        "fringe (Leaf x) = [x]\r\n",
        "fringe (Branch left right) = fringe left ++ fringe right\r\n"
      ],
      "execution_count": null,
      "outputs": []
    },
    {
      "cell_type": "code",
      "metadata": {
        "id": "1pmHUaAQUMx7"
      },
      "source": [
        "# type synonym 型の同義名、シノニム\r\n",
        "%%script false\r\n",
        "\r\n",
        "type String = [Char]\r\n",
        "type Person = (Name, Address)\r\n",
        "type Name = String\r\n",
        "data Address = None | Addr String\r\n",
        "\r\n",
        "type AssocList a b = [(a,b)]\r\n"
      ],
      "execution_count": null,
      "outputs": []
    },
    {
      "cell_type": "code",
      "metadata": {
        "id": "54rS1eZ8Uxs3"
      },
      "source": [
        "# Built-in 組み込みの型について\r\n",
        "# 例えば Char は\r\n",
        "%%script false\r\n",
        "data Char = \r\n",
        "    Ca | Cb | Cc | ...\r\n",
        "    | CA | CB | CC | ...\r\n",
        "    | C1 | C2 | C3 | ...\r\n",
        "    ...\r\n",
        "\r\n",
        "# 同様に\r\n",
        "\r\n",
        "data Int = -65532 | ... | -1 | 0 | 1 | ... | 65532\r\n",
        "\r\n",
        "data Integer = ... -2 | -1 | 0 | 1 | 2 ...\r\n",
        "\r\n",
        "# のように考えることができる。ここで、-65532と65532は、与えられた処理系における固定精度整数の最小値と最大値。\r\n",
        "\r\n",
        "# タプルもこのやりかたで定義できる。\r\n",
        "\r\n",
        "data (a,b) = (a,b)\r\n",
        "data (a,b,c) = (a,b,c)\r\n",
        "data (a,b,c,d) = (a,b,c,d)\r\n",
        "        . .\r\n",
        "        . .\r\n",
        "        . .\r\n",
        "\r\n",
        "# リストも同様に定義できる。リストの場合は再帰的になる。\r\n",
        "\r\n",
        "data [a] = [] | a : [a]\r\n",
        "\r\n",
        "# タプルとリストの違いから次のようなルールが明らかである。\r\n",
        "\r\n",
        "# (e1,e2,...,en), n>=2 に対して、もし、ti が ei の型であるとす るならば、タプルの型は (t1,t2,...,tn) \r\n",
        "# [e1,e2,...,en], n>=0 に対して各 ei が必ず同じ型 t であるなら、そのリストの 型は [t]\r\n",
        "\r\n"
      ],
      "execution_count": null,
      "outputs": []
    },
    {
      "cell_type": "code",
      "metadata": {
        "id": "T0-81qtasBS9"
      },
      "source": [
        "# リスト内包表記 List Comprehensions と 数列 Arithmetic Sequences\r\n",
        "%%script false\r\n",
        "\r\n",
        "[ f x | x <- xs ]\r\n",
        "\r\n",
        "[ (x,y) | x <- xs, y <- ys ]\r\n",
        "\r\n",
        "# xs = [1,2] 、ys = [3,4] ならば =>  [(1,3),(1,4),(2,3),(2,4)] となる。\r\n",
        "\r\n",
        "# ガード guard\r\n",
        "\r\n",
        "quicksort [] = []\r\n",
        "quicksort (x:xs) = quicksort [y | y <- xs, y<x ] ++ [x] ++ quicksort [y | y <- xs, y>=x]\r\n",
        "\r\n",
        "# 数列 Arithmetic Sequences\r\n",
        "\r\n",
        "[1..10] => [1,2,3,4,5,6,7,8,9,10] -- 10 も入ることに注意\r\n",
        "[1,3..10] => [1,3,5,7,9] -- 10 以下の奇数\r\n",
        "[1,3..] => [1,3,5,7,9, ...] -- 無限\r\n",
        "\r\n"
      ],
      "execution_count": null,
      "outputs": []
    },
    {
      "cell_type": "code",
      "metadata": {
        "id": "NXfjmS6J_sKc"
      },
      "source": [
        "# 文字列 String\r\n",
        "%%script false\r\n",
        "\r\n",
        "['h','e','l','l','o'] = \"hello\"\r\n",
        "\r\n",
        "type String = [Char]\r\n",
        "\r\n",
        "\"hello\" ++ \" world\" => \"hello world\"\r\n"
      ],
      "execution_count": null,
      "outputs": []
    },
    {
      "cell_type": "code",
      "metadata": {
        "id": "fzudYNjSSc1S"
      },
      "source": [
        "# 関数\r\n",
        "%%script false\r\n",
        "\r\n",
        "add :: Integer -> Integer -> Integer\r\n",
        "add x y = x + y\r\n",
        "\r\n",
        "# これは add (x,y) = x + y とは違う\r\n"
      ],
      "execution_count": null,
      "outputs": []
    },
    {
      "cell_type": "code",
      "metadata": {
        "id": "zzgGYrSuUqn-",
        "colab": {
          "base_uri": "https://localhost:8080/"
        },
        "outputId": "647a3f00-1349-4817-8ff4-96bcece5909c"
      },
      "source": [
        "# 実験\r\n",
        "!ghc -e $'let {add x y = x + y; inc = add 1} in print (inc 4) '\r\n",
        "!ghc -e $'let {add (x y) = x + y; inc = add 1} in print (inc 4) ' #=> Parse error\r\n",
        "!ghc -e $'let {add x y = x + y; inc = add 1} in print (add 4 5) '\r\n",
        "!ghc -e $'let {add (x, y) = x + y} in print (add (4, 5)) '"
      ],
      "execution_count": null,
      "outputs": [
        {
          "output_type": "stream",
          "text": [
            "5\n",
            "\n",
            "<interactive>:0:11: error: Parse error in pattern: x\n",
            "9\n",
            "9\n"
          ],
          "name": "stdout"
        }
      ]
    },
    {
      "cell_type": "code",
      "metadata": {
        "id": "HXzyrmrSUplh"
      },
      "source": [
        "# map 関数は関数を引数にとる\r\n",
        "%%script false\r\n",
        "\r\n",
        "map :: (a->b) -> [a] -> [b]\r\n",
        "map f [] = []\r\n",
        "map f (x:xs) = f x : map f xs\r\n",
        "\r\n",
        "map (add 1) [1,2,3] => [2,3,4]\r\n",
        "\r\n",
        "# この例は関数が第一級の対象 (first-class object) であることを示している。\r\n",
        "# このような使いかたをする関数は高階 (higher-order)関数とよばれる。\r\n"
      ],
      "execution_count": null,
      "outputs": []
    },
    {
      "cell_type": "code",
      "metadata": {
        "id": "UVud-SgCTuK-"
      },
      "source": [
        "# ラムダ抽象 (lambda abstraction) 無名関数\r\n",
        "# 例えば inc は  \\x -> x+1 と書く。\r\n",
        "# add は \\x -> \\y -> x + y と書く。\r\n",
        "# 簡略化して \\x y -> x + y と書く。\r\n",
        "%%script false\r\n",
        "\r\n",
        "inc x = x+1\r\n",
        "add x y = x+y\r\n",
        "\r\n",
        "# は次の等式と同等\r\n",
        "\r\n",
        "inc = \\x -> x+1\r\n",
        "add = \\x y -> x+y\r\n"
      ],
      "execution_count": null,
      "outputs": []
    },
    {
      "cell_type": "code",
      "metadata": {
        "id": "0vHy_7FYkFa5"
      },
      "source": [
        "# 中置演算子 infix operator\r\n",
        "# 中置演算子は関数なので、等式を使って定義\r\n",
        "%%script false\r\n",
        "\r\n",
        "# リストの連結演算子\r\n",
        "(++) :: [a] -> [a] -> [a]\r\n",
        "[] ++ ys = ys\r\n",
        "(x:xs) ++ ys = x : (xs++ys)\r\n",
        "\r\n",
        "# マイナス(-)は前置演算子にも、中置演算子にもなる。\r\n",
        "\r\n",
        "# 関数合成(function composition)演算子\r\n",
        "\r\n",
        "(.) :: (b->c) -> (a->b) -> (a->c)\r\n",
        "f . g = \\ x -> f (g x)\r\n",
        "\r\n",
        "# 中置演算子の部分適用は section と呼ばれる\r\n",
        "\r\n",
        "(x+) = \\y -> x+y\r\n",
        "(+y) = \\x -> x+y\r\n",
        "(+) = \\x y -> x+y\r\n"
      ],
      "execution_count": null,
      "outputs": []
    },
    {
      "cell_type": "code",
      "metadata": {
        "id": "rmHpY3dUdFXR",
        "colab": {
          "base_uri": "https://localhost:8080/"
        },
        "outputId": "4ad7e589-e0fe-4fc9-d6fa-a567117e302d"
      },
      "source": [
        "# 実験 中置演算子の部分適用が関数を返すことの確認\r\n",
        "# map (+) [1,2,3] は関数のリスト\r\n",
        "\r\n",
        "!ghc -e $'((map (+) [1,2,3])!!1) 5' #=> 7\r\n",
        "!ghc -e $'((map (/) [1,2,3])!!1) 5' #=> 0.4\r\n",
        "!ghc -e $'(map (5/) [1,2,3])!!1' #=> 2.5\r\n",
        "!echo\r\n",
        "!ghc -e $'map (/5) [1,2,3]'\r\n",
        "!ghc -e $'map (5/) [1,2,3]'\r\n",
        "!echo\r\n",
        "!ghc -e $'map (^2) [1,2,3]'\r\n",
        "!ghc -e $'map (2^) [1,2,3]'"
      ],
      "execution_count": null,
      "outputs": [
        {
          "output_type": "stream",
          "text": [
            "7\n",
            "0.4\n",
            "2.5\n",
            "\n",
            "[0.2,0.4,0.6]\n",
            "[5.0,2.5,1.6666666666666667]\n",
            "\n",
            "[1,4,9]\n",
            "[2,4,8]\n"
          ],
          "name": "stdout"
        }
      ]
    },
    {
      "cell_type": "code",
      "metadata": {
        "id": "eqqaVVQ9Tms2"
      },
      "source": [
        "# したがって\r\n",
        "%%script false\r\n",
        "\r\n",
        "inc = (+ 1)\r\n",
        "add = (+)\r\n",
        "\r\n",
        "# と書ける\r\n"
      ],
      "execution_count": null,
      "outputs": []
    },
    {
      "cell_type": "code",
      "metadata": {
        "id": "mMSn2u39e-I2"
      },
      "source": [
        "# 関数をバッククオートで括ると中置演算子になる\r\n",
        "%%script false\r\n",
        "\r\n",
        "x `elem` xs\r\n",
        "\r\n",
        "# は直感的に、x は xs の要素である (x is an element of xs)と読める。\r\n",
        "\r\n",
        "# (-) については特別なルールがある。\r\n"
      ],
      "execution_count": null,
      "outputs": []
    },
    {
      "cell_type": "code",
      "metadata": {
        "id": "lMib8a4fTi8f"
      },
      "source": [
        "# 結合度 fixity の優先順位\r\n",
        "# fixity declaration では 0 から 9 を指定する。 9 が最強。\r\n",
        "# 一般の関数は 10 と仮定されている。\r\n",
        "# infixr は右結合、 infixl は左結合\r\n",
        "%%script false\r\n",
        "\r\n",
        "infixr 5 ++\r\n",
        "infixr 9 .\r\n",
        "\r\n",
        "# デフォルトは infixl 9\r\n",
        "\r\n"
      ],
      "execution_count": null,
      "outputs": []
    },
    {
      "cell_type": "code",
      "metadata": {
        "id": "iwJlMBTTTfCA"
      },
      "source": [
        "# 関数は非正格 non-strict\r\n",
        "# bot が次のように定義されているとする。\r\n",
        "%%script false\r\n",
        "\r\n",
        "bot = bot\r\n",
        "\r\n",
        "# このような停止しない式の値を抽象的に _|_(ボトム)と表わす。\r\n",
        "# 1/0 もこの値を持ち、エラーは回復不可能で、プログラムはこれ以上継続することはできなくなる。\r\n",
        "# I/O のシステムのエラー(たとえば、EOFエラーなどの例外)は回復可能。\r\n",
        "\r\n",
        "# 関数 f が正格 strict であるとは、停止しない式に適用されれば、その適用式も停止しないこと。\r\n",
        "# ほとんどのプログラミング言語では、すべての関数が正格。Haskell では違う。\r\n",
        "\r\n",
        "const1 x = 1\r\n",
        "\r\n",
        "# のとき、const1 bot は 1 であり、引数は評価されない。 これを遅延評価と呼ぶ。\r\n",
        "\r\n",
        "const1 (1/0)\r\n",
        "\r\n",
        "# も 1 になる。\r\n",
        "\r\n",
        "# 遅延評価により、無限 infinite のデータ構造が扱える。\r\n",
        "\r\n",
        "# 別のやり方で説明すると、Haskell では代入 assignment ではなく、定義 definition を用いる。\r\n",
        "\r\n",
        "v = 1/0\r\n",
        "\r\n",
        "# は、v を 1/0と定義すると読む。vの値が必要になったときにのみゼロ除算エラーが発生する。\r\n"
      ],
      "execution_count": null,
      "outputs": []
    },
    {
      "cell_type": "code",
      "metadata": {
        "id": "q821gWlEjcxz"
      },
      "source": [
        "# 無限のデータ構造\r\n",
        "# データコンストラクタも非正格である。\r\n",
        "# リストのコンストラクタ、: も非正格。\r\n",
        "# 非正格の構築子で(概念的に)無限の infinite データ構造を 定義することができる。\r\n",
        "%%script false\r\n",
        "\r\n",
        "ones = 1 : ones\r\n",
        "\r\n",
        "numsFrom n = n : numsFrom (n+1)\r\n",
        "\r\n",
        "squares = map (^2) (numsFrom 0)\r\n"
      ],
      "execution_count": null,
      "outputs": []
    },
    {
      "cell_type": "code",
      "metadata": {
        "id": "-LRVZ6YQsonz",
        "colab": {
          "base_uri": "https://localhost:8080/"
        },
        "outputId": "dc1c4e49-091a-4f28-dde8-c8df7ed71b9c"
      },
      "source": [
        "# 実験 take 5 squares => [0,1,4,9,16]\r\n",
        "!ghc -e $'let{numsFrom n = n:numsFrom(n+1); squares = map (^2)(numsFrom 0)} in print (take 5 squares)'"
      ],
      "execution_count": null,
      "outputs": [
        {
          "output_type": "stream",
          "text": [
            "[0,1,4,9,16]\n"
          ],
          "name": "stdout"
        }
      ]
    },
    {
      "cell_type": "code",
      "metadata": {
        "id": "i9IDhIi8vPQ_",
        "colab": {
          "base_uri": "https://localhost:8080/"
        },
        "outputId": "741dcca6-f49b-413e-ac79-3a7b5c18d490"
      },
      "source": [
        "# 実験 ones は循環リスト circular list\r\n",
        "!ghc -e $'let{ones=1:ones} in print (take 5 ones)'"
      ],
      "execution_count": null,
      "outputs": [
        {
          "output_type": "stream",
          "text": [
            "[1,1,1,1,1]\n"
          ],
          "name": "stdout"
        }
      ]
    },
    {
      "cell_type": "code",
      "metadata": {
        "id": "WdBm8aZeTVcU"
      },
      "source": [
        "# フィボナッチ関数\r\n",
        "%%script false\r\n",
        "\r\n",
        "fib = 1 : 1 : [ a+b | (a,b) <- zip fib (tail fib) ]\r\n",
        "\r\n",
        "# ここで zip とは\r\n",
        "\r\n",
        "zip (x:xs) (y:ys) = (x,y) : zip xs ys\r\n",
        "zip xs ys = []\r\n",
        "\r\n",
        "# エラー関数 error\r\n",
        "\r\n",
        "error :: String-> a\r\n",
        "\r\n",
        "# 型からは返す値の型は多相の型で実際の型がわからない。\r\n",
        "# すべての型によって「共有」される値 _|_ bottom が存在する。\r\n",
        "# error の返す値は常にこの値。しかし、実装はチェックのための error の文字列引数を印字する。\r\n",
        "\r\n",
        "head (x:xs) = x\r\n",
        "head [] = error \"head{PreludeList}: head []\"\r\n"
      ],
      "execution_count": null,
      "outputs": []
    },
    {
      "cell_type": "code",
      "metadata": {
        "id": "kytnaqOUxmKi"
      },
      "source": [
        "# Case 式\r\n",
        "# パターンは入れ子にも使える。\r\n",
        "%%script false\r\n",
        "\r\n",
        "contrived :: ([a], Char, (Int, Float), String, Bool) -> Bool\r\n",
        "contrived ([], 'b', (1, 2.0), \"hi\", True) = False\r\n",
        "\r\n",
        "# 仮引数 (formal parameters) もパターンであり、値にかならず照合が成功する。\r\n",
        "# その副作用として、仮引数は照合が成功した値に束縛される。\r\n",
        "# なぜなら、ひとつの等式であれば、そのなかのパターンには、2つ以上の同じ仮引数が含まれてはいけないから。\r\n",
        "# これは、線型性 (linearity) と呼ばれる。\r\n",
        "# 仮引数のような必ず照合が成功するようなパターンのことを irrefutable パターンと呼び、\r\n",
        "# refutable パターンは照合が成功しない可能性があり contrived の例はこの refutable の例。\r\n",
        "# 不可反駁パターンに は 3つの種類がありそのうち 2つを紹介する。\r\n",
        "\r\n",
        "# アズパターン\r\n",
        "# たとえばリストの第一要素を複製する関数\r\n",
        "\r\n",
        "f (x:xs) = x:x:xs\r\n",
        "\r\n",
        "# 明日パターンを使うと次のようになる。\r\n",
        "\r\n",
        "f s@(x:xs) = x:s\r\n",
        "\r\n",
        "# アズパターンは照合に常に成功するが、サブパターン(この場合は、x:xs)はもちろん照合が成功しないこともある。\r\n",
        "\r\n",
        "# ワイルドカード\r\n",
        "# head 関数や tail 関数は次のように書き換えることができる。\r\n",
        "\r\n",
        "head (x:_) = x\r\n",
        "tail (_:xs) = xs\r\n",
        "\r\n",
        "# 仮引数の場合とちがい、ワイルドカードはひとつの等式のなかに 1つ以上あっても構わない。\r\n"
      ],
      "execution_count": null,
      "outputs": []
    },
    {
      "cell_type": "code",
      "metadata": {
        "id": "lDDePI7Mxz-Y"
      },
      "source": [
        "# パターン照合の意味論 semantics\r\n",
        "\r\n",
        "# パターン照合は、fail, succeed, diverge (発散) の場合がある。\r\n",
        "# 成功すると、パターンの中の仮引数が束縛される。\r\n",
        "# 発散 diverge はパターンが必要とした値がエラー(_|_ )を含んでいた場合。\r\n",
        "# すべての等式でパターン照合が失敗すると、その関数適用の値は _|_ になり、 実行時エラーとなる。\r\n",
        "#\r\n",
        "# たとえば、[1,2] を [0,bot] に照合させようとすると、0 と 1 がマッチしないので照合は失敗。\r\n",
        "# しかし、もし、[1,2] を [bot,0] にマッチさせようとすると、1 を botへ照合させる際に発散がおこる。\r\n",
        "\r\n",
        "# パターンがガード部を持つこともある。\r\n",
        "%%script false\r\n",
        "\r\n",
        "sign x |  x >  0        =   1\r\n",
        "       |  x == 0        =   0\r\n",
        "       |  x <  0        =  -1\r\n"
      ],
      "execution_count": null,
      "outputs": []
    },
    {
      "cell_type": "code",
      "metadata": {
        "id": "Ljcyvf8Wd4Ub"
      },
      "source": [
        "# パターン照合が関数の意味に微妙な影響を与える場合がある\r\n",
        "\r\n",
        "%%script false\r\n",
        "\r\n",
        "take 0 _ = []\r\n",
        "take _ [] = []\r\n",
        "take n (x:xs) = x : take (n-1) xs\r\n",
        "\r\n",
        "# と\r\n",
        "\r\n",
        "take1 _ [] = []\r\n",
        "take1 0 _ = []\r\n",
        "take1 n (x:xs) = x : take1\r\n",
        "(n-1) xs\r\n",
        "\r\n",
        "# 次の結果を見る。\r\n",
        "\r\n",
        "take 0 bot => []\r\n",
        "take1 0 bot => _|_\r\n",
        "take bot [] => _|_\r\n",
        "take1 bot [] => []\r\n",
        "\r\n",
        "# どちらがよいということでなく、違いがあるということを覚えておく。"
      ],
      "execution_count": null,
      "outputs": []
    },
    {
      "cell_type": "code",
      "metadata": {
        "id": "pOuFmZ5RuEUg"
      },
      "source": [
        "# Case 式\r\n",
        "# 関数定義のなかでのパターン照合の意味は、実は case 式のより単純なものと考えられる。\r\n",
        "%%script false\r\n",
        "\r\n",
        "# 次のような関数定義があったとする。\r\n",
        "f p11 ... p1k = e1\r\n",
        "...\r\n",
        "f pn1 ... pnk = en\r\n",
        "\r\n",
        "# これは以下と同等。\r\n",
        "\r\n",
        "f x1 x2 ... xk = case (x1, ..., xk) of\r\n",
        "    (p11, ..., p1k) -> e1\r\n",
        "    ...\r\n",
        "    (pn1, ..., pnk) -> en\r\n",
        "\r\n",
        "# take についても\r\n",
        "\r\n",
        "take m ys = case (m,ys) of\r\n",
        "    (0,_) -> []\r\n",
        "    (_,[]) -> []\r\n",
        "    (n,x:xs) -> x : take (n-1) xs\r\n",
        "\r\n",
        "# となる。\r\n",
        "# case 式の右辺はすべて同じ主型である。\r\n",
        "\r\n",
        "# if 式の\r\n",
        "\r\n",
        "if e1 then e2 else e3\r\n",
        "\r\n",
        "# は次の構文の簡略形である。\r\n",
        "\r\n",
        "case e1 of True -> e2\r\n",
        "        False -> e3\r\n",
        "\r\n",
        "# つまり、if_then_else_ を関数とみなせば\r\n",
        "\r\n",
        "Bool -> a -> a -> a \r\n",
        "\r\n",
        "# という型である。\r\n"
      ],
      "execution_count": null,
      "outputs": []
    },
    {
      "cell_type": "code",
      "metadata": {
        "id": "wvSLoKvxxxSl"
      },
      "source": [
        "# 遅延 lazy パターン\r\n",
        "# 遅延パターンは ~pat であらわされる。\r\n",
        "# 不可反駁 irrefutable で値 v の ~pat に 対する照合は常に成功する。\r\n",
        "# pat のなかの識別子が右辺で「利用」されるとすると、それは v が pat に\r\n",
        "# マッチすると仮定した場合の値に束縛されるか、_|_ となる。\r\n",
        "\r\n",
        "# 遅延パターンは無限のデータ構造が再帰的に定義されているような場合に便利。\r\n",
        "# 無限リストはシミュレーションプログラムを書くのに使いやすいデータ構造で、ストリームといいます。\r\n",
        "\r\n",
        "# server と client との間のやりとりの簡単なケースを考える。\r\n",
        "# client は一連の要求を server に送り、server は各々の要求に対して、応答を返す。\r\n",
        "# client は引数として初期メッセージもとることに注意。\r\n",
        "\r\n",
        "%%script false\r\n",
        "\r\n",
        "reqs = client init resps\r\n",
        "resps = server reqs\r\n",
        "\r\n",
        "# さらに、サーバとクライアントの構造を、以下のように仮定する。\r\n",
        "\r\n",
        "client init (resp:resps) = init : client (next resp) resps\r\n",
        "server (req:reqs) = process req : server reqs\r\n",
        "\r\n",
        "# next はサーバからの応答を与えられて、次の要求を決定する関数であり、\r\n",
        "# process はクライアントからの要求を与えられて、応答を返す関数であるとする。\r\n",
        "\r\n",
        "# 残念ながら、このプログラムには大きな問題がある。\r\n",
        "# 問題は、client が reqs と resps の再帰的な設定のなかで使われているので、\r\n",
        "# 最初の要求を送信する前に応答リストと照合を試みようとする。つまり、\r\n",
        "# パターン照合がおこなわれるのが「早すぎる」。\r\n",
        "# これを是正するひとつの方法は以下のように client を再定義する。\r\n",
        "\r\n",
        "client init resps = init : client (next (head resps)) (tail resps)\r\n",
        "\r\n",
        "# これで動作するようになるが、もっとよい解決法は遅延パターンを使う方法である。\r\n",
        "\r\n",
        "client init ~(resp:resps) = init : client (next resp) resps\r\n",
        "\r\n",
        "# 遅延パターンは不可反駁なので、照合はただちに成功し、最初の要求が発信され、\r\n",
        "# それから最初の応答が生成される。\r\n",
        "\r\n",
        "#  この例は、以下のように定義を加えれば、実際に動作する。\r\n",
        "\r\n",
        "init = 0\r\n",
        "next resp = resp\r\n",
        "process req = req+1\r\n",
        "\r\n",
        "# 実際に動作させてみると、\r\n",
        "\r\n",
        "take 10 reqs => [0,1,2,3,4,5,6,7,8,9]\r\n",
        "\r\n",
        "## 動作しない!!!!"
      ],
      "execution_count": null,
      "outputs": []
    },
    {
      "cell_type": "code",
      "metadata": {
        "id": "7M2XhHV2nkvE"
      },
      "source": [
        "# フィボナッチ関数 遅延評価版\r\n",
        "%%script false\r\n",
        "\r\n",
        "fib = 1 : 1 : [ a+b | (a,b) <- zip fib (tail fib) ]\r\n",
        "\r\n",
        "# これをアズパターンを使って次のように書き換える。\r\n",
        "\r\n",
        "fib@(1:tfib) = 1 : 1 : [ a+b | (a,b) <- zip fib tfib ]\r\n",
        "\r\n",
        "# この種の等式はパターン束縛(patternbinding )と呼ばれる。\r\n",
        "# 理由は、トップレベルにある等式で左辺全体がひとつのパターンになっているから。\r\n",
        "# すなわち、fib と tfibはともに宣言内で 束縛されているということです。\r\n",
        "# Haskellのパターン束縛は暗黙のう ちに ~ がパターンの前についているものとみなす。\r\n"
      ],
      "execution_count": null,
      "outputs": []
    },
    {
      "cell_type": "code",
      "metadata": {
        "id": "VZVXuJOTUkdk",
        "colab": {
          "base_uri": "https://localhost:8080/"
        },
        "outputId": "8112b31d-32d4-454c-b4db-f607b50a7761"
      },
      "source": [
        "# 実験\r\n",
        "!ghc -e $'let {fib = 1 : 1 : [ a+b | (a,b) <- zip fib (tail fib) ]} in print (take 5 fib)'\r\n",
        "!ghc -e $'let {fib@(1:tfib) = 1 : 1 : [ a+b | (a,b) <- zip fib tfib ]} in print (take 5 fib)'"
      ],
      "execution_count": null,
      "outputs": [
        {
          "output_type": "stream",
          "text": [
            "[1,1,2,3,5]\n",
            "[1,1,2,3,5]\n"
          ],
          "name": "stdout"
        }
      ]
    },
    {
      "cell_type": "code",
      "metadata": {
        "id": "McnhdUfSxslV"
      },
      "source": [
        "# 字句の有効範囲と入れ子形式 Lexical Scoping and Nested Forms\r\n",
        "# let 式\r\n",
        "%%script false\r\n",
        "\r\n",
        "let y   = a*b\r\n",
        "    f x = (x+y)/y\r\n",
        "in f c + f d\r\n",
        "\r\n",
        "# let 式 expression によってつくられる束縛は、相互再帰的 (mutually recursive)で、遅延パターンとして扱われる。\r\n",
        "# ~ が暗黙のうちについている。\r\n",
        "\r\n",
        "# where 節 clause\r\n",
        "# いくつかのガードをもつ等式にまたがる有効範囲束縛が便利なときには where 節を使う。\r\n",
        "\r\n",
        "f x y  |  y>z           =  ...\r\n",
        "       |  y==z          =  ...\r\n",
        "       |  y<z           =  ...\r\n",
        "     where z = x*x\r\n",
        "\r\n",
        "# where 節はそれが覆う式の上にしか有効範囲がない。\r\n",
        "# where 節は等式の集まりあるいは case 式のトップレベルでしか認められない。\r\n",
        "\r\n",
        "# let 式は式であり、where 節は式ではない。where 節は関数宣言および case 式の構文の一部である。\r\n",
        "\r\n"
      ],
      "execution_count": null,
      "outputs": []
    },
    {
      "cell_type": "code",
      "metadata": {
        "id": "hk3ujlpqxo8C"
      },
      "source": [
        "# レイアウト\r\n",
        "# Haskell はセミコロンあるいはそれにかわる終端記号を使わずにすんでいるのか。\r\n",
        "%%script false\r\n",
        "\r\n",
        "let y   = a*b\r\n",
        "    f x = (x+y)/y\r\n",
        "in f c + f d\r\n",
        "\r\n",
        "# 構文解析 parser はなぜ次のように解析したりしないのか。\r\n",
        "\r\n",
        "let y   = a*b f\r\n",
        "    x   = (x+y)/y\r\n",
        "in f c + f d\r\n",
        "\r\n",
        "# Haskell はレイアウト (layout) と呼ばれる、二次元構文を用いているから。\r\n",
        "# カラム位置に依存している。\r\n",
        "# 上の例は次のように解釈される。\r\n",
        "\r\n",
        "let { y   = a*b\r\n",
        "    ; f x = (x+y)/y\r\n",
        "    }\r\n",
        "in f c + f d\r\n",
        "\r\n",
        "# 1行に複数の式を書きたいときにはセミコロンが便利である。\r\n",
        "\r\n",
        "let y   = a*b;  z = a/b\r\n",
        "    f x = (x+y)/z\r\n",
        "in f c + f d\r\n"
      ],
      "execution_count": null,
      "outputs": []
    },
    {
      "cell_type": "code",
      "metadata": {
        "id": "mFLQHFq3f6-i"
      },
      "source": [
        "# 型クラスと多重定義 overloading\r\n",
        "# すでに述べてきた多相 polymorphism は、パラメータ多相 parametric polymorphism とよばれる。\r\n",
        "# アドホック多相は多重定義 overloading という呼びかたのほうが知られている。\r\n",
        "# たとえば\r\n",
        "# 1、2 などのリテラルは、固定長の整数と任意長の整数の両方で使われる。\r\n",
        "# + のような数値演算子は何種類もの数値上で定義される。\r\n",
        "# 同値演算子 (Haskell では ==)は数値とその他多くの型の上で動作する。\r\n",
        "# Haskell では、 型クラスによって多重定義を制御する。\r\n",
        "\r\n",
        "# elem 関数の定義を見てみよう。\r\n",
        "%%script false\r\n",
        "\r\n",
        "x `elem`  []            = False\r\n",
        "x `elem` (y:ys)         = x==y || (x `elem` ys)\r\n",
        "\r\n",
        "# ここで (==) を使っている。\r\n",
        "# 型クラス type class によって解決している。\r\n"
      ],
      "execution_count": null,
      "outputs": []
    },
    {
      "cell_type": "code",
      "metadata": {
        "id": "SZZwd9G5K_ve",
        "colab": {
          "base_uri": "https://localhost:8080/"
        },
        "outputId": "afcc5ae0-adac-4380-ef36-dc4c71519ab1"
      },
      "source": [
        "# 実験\r\n",
        "!ghc -e $':t elem'\r\n",
        "!ghc -e $':t (==)'"
      ],
      "execution_count": null,
      "outputs": [
        {
          "output_type": "stream",
          "text": [
            "elem :: (Eq a, Foldable t) => a -> t a -> Bool\n",
            "(==) :: Eq a => a -> a -> Bool\n"
          ],
          "name": "stdout"
        }
      ]
    },
    {
      "cell_type": "code",
      "metadata": {
        "id": "DO7LoCEkgTqj"
      },
      "source": [
        "# 同値演算子を含むクラスの定義をしてみよう。\r\n",
        "%%script false\r\n",
        "\r\n",
        "class Eq a where\r\n",
        "    (==) :: a -> a -> Bool\r\n",
        "\r\n",
        "# Eq は定義するクラスの名前である。\r\n",
        "# 型 a がクラス Eq のインスタンスでなければならない、という制約 constraint は、\r\n",
        "\r\n",
        "Eq a \r\n",
        "\r\n",
        "# のように書く。\r\n",
        "# Eq a は 式 expression ではなく、constraint を表しているので、文脈 context と呼ばれる。\r\n",
        "\r\n",
        "(==) :: (Eq a) => a -> a -> Bool\r\n",
        "\r\n",
        "# は、クラス Eq のインスタンスである型 a に対して、== は a->a->Boolという型をもつ、と読む。\r\n",
        "# したがって\r\n",
        "\r\n",
        "elem :: (Eq a) => a -> [a] -> Bool\r\n",
        "\r\n",
        "# となり、求めていたものに他ならない。\r\n"
      ],
      "execution_count": null,
      "outputs": []
    },
    {
      "cell_type": "code",
      "metadata": {
        "id": "xsgb9EIwL632",
        "colab": {
          "base_uri": "https://localhost:8080/"
        },
        "outputId": "104a1102-1ef8-4982-b966-b92eeb546c3b"
      },
      "source": [
        "# 実験\r\n",
        "!ghc -e $':k Eq'\r\n",
        "!ghc -e $':k Foldable'"
      ],
      "execution_count": null,
      "outputs": [
        {
          "output_type": "stream",
          "text": [
            "Eq :: * -> Constraint\n",
            "Foldable :: (* -> *) -> Constraint\n"
          ],
          "name": "stdout"
        }
      ]
    },
    {
      "cell_type": "code",
      "metadata": {
        "id": "IGrivSGZgROb"
      },
      "source": [
        "# どの型が Eq クラスのインスタンスになるかを指定し、その型に対する == の実際の振舞いがどうなるかは\r\n",
        "# インスタンス宣言 (instance declaration)で行う。\r\n",
        "%%script false\r\n",
        "\r\n",
        "instance Eq Integer where \r\n",
        "  x == y                =  x `integerEq` y\r\n",
        "\r\n",
        "# 同様に\r\n",
        "\r\n",
        "instance Eq Float where\r\n",
        "  x == y                =  x `floatEq` y\r\n",
        "\r\n",
        "instance (Eq a) => Eq (Tree a) where \r\n",
        "  Leaf a         == Leaf b          =  a == b\r\n",
        "  (Branch l1 r1) == (Branch l2 r2)  =  (l1==l2) && (r1==r2)\r\n",
        "  _              == _               =  False\r\n",
        "\r\n",
        "# 最初の行の Eq a という文脈は必須である。なぜなら、\r\n",
        "# 葉のもつ要素 (型は a)は 2番目の行の同値性を用いて比較する。\r\n",
        "\r\n",
        "# 実際の Eq の定義\r\n",
        "class  Eq a  where\r\n",
        "  (==), (/=)            :: a -> a -> Bool\r\n",
        "  x /= y                =  not (x == y)\r\n",
        "\r\n",
        "# :i で調べたら次のようだった。 同じと思われる。\r\n",
        "class Eq a where\r\n",
        "  (==) :: a -> a -> Bool\r\n",
        "  (/=) :: a -> a -> Bool\r\n"
      ],
      "execution_count": null,
      "outputs": []
    },
    {
      "cell_type": "code",
      "metadata": {
        "id": "6FktdMRtgPHU"
      },
      "source": [
        "# クラス拡張 (class extension) もサポートされている。\r\n",
        "# たとえば、Eq クラスからすべての操作を継承 (inherit)した Ord クラスを定義したいとしよう。\r\n",
        "# このクラスは Eq クラスから継承した操作のほかに、比較 操作子と min 関数および max 関数をもつものとする。\r\n",
        "%%script false\r\n",
        "\r\n",
        "class  (Eq a) => Ord a  where\r\n",
        "  (<), (<=), (>=), (>)  :: a -> a -> Bool\r\n",
        "  max, min              :: a -> a -> a\r\n",
        "\r\n",
        "# Eq は Ord のスーパークラス、 Ord は Eq のサブクラス(subclass )である。\r\n",
        "\r\n",
        "# Ord の宣言は、(<) に対応するデフォルトメソッドを含んでいる。\r\n",
        "\r\n",
        "x < y               =  x <= y && x /= y\r\n",
        "\r\n",
        "# quicksort の型は次のようになっている。\r\n",
        "\r\n",
        "quicksort :: (Ord a) => [a] -> [a]\r\n",
        "\r\n",
        "# 多重継承 (multiple inheritance) \r\n",
        "\r\n",
        "class (Eq a, Show a) => C a \r\n",
        "    where ...\r\n",
        "\r\n",
        "# C というクラスをつくっている、操作を Eq と Show の両方から継承している。\r\n",
        "\r\n",
        "# クラスメソッドはトップレベルの宣言として扱われる。\r\n",
        "\r\n",
        "# クラスメソッドには、制約を付加することができる。\r\n",
        "\r\n",
        "class C a where\r\n",
        "    m :: Show b => a -> b\r\n"
      ],
      "execution_count": null,
      "outputs": []
    },
    {
      "cell_type": "code",
      "metadata": {
        "id": "ymXtGyyLfj3p"
      },
      "source": [
        "# クラス宣言の中で、高階型 higher-order type を使う。\r\n",
        "# 以下のような Functor クラスを考えよう。\r\n",
        "%%script false\r\n",
        "\r\n",
        "class Functor f where\r\n",
        "    fmap :: (a -> b) -> f a -> f b\r\n",
        "\r\n",
        "# fmap 関数は以前に使った map 関数を一般化したもの。\r\n",
        "# 型変数 f は f a のなかで他の型に適用される。こ のように、型変数が\r\n",
        "# 型 Tree に対する Functor のインスタンス は、\r\n",
        "\r\n",
        "instance Functor Tree where\r\n",
        "  fmap f (Leaf x)       = Leaf   (f x)\r\n",
        "  fmap f (Branch t1 t2) = Branch (fmap f t1) (fmap f t2)\r\n",
        "\r\n",
        "# このインスタンス宣言は Tree a ではなく Tree が Functor のインスタンスであることを宣言している。\r\n",
        "# これは総称的「コンテナ」型を記述する能力のあることを示し、fmap のような、任意の木、\r\n",
        "# リストあるいは他の型の上で統一的に動作する関数を可能にする。\r\n",
        "\r\n",
        "# 型適用は関数適用とおなじやりかたで書ける。型 T a b は (T a) b　と構文解析される。\r\n",
        "# タプルのような特別な構文を使う型はカリー化可能な別のスタイルで書ける。\r\n",
        "# 関数については、(->) が型構築子だ。f -> g と (->) f g とは同じだ。\r\n",
        "# 同様に、[a] と [] aとは同じだ。\r\n",
        "# タプルについては、型構築子は (,)、(,,) などとなる。\r\n"
      ],
      "execution_count": null,
      "outputs": []
    },
    {
      "cell_type": "code",
      "metadata": {
        "id": "h--_PPf7rvGj"
      },
      "source": [
        "# 型システムは式の中で型付けエラーを検出する。\r\n",
        "# 式 (+) 1 2 3 は型エラーになる。それは (+) は 2 つしか引数をとらないからだ。\r\n",
        "# 同様に、 Tree Int Int は、エラーを起こす。それは Tree 型はひとつの引数しかとらないからだ。\r\n",
        "# Haskellはどのようにして不正な型式を検出するのか。\r\n",
        "\r\n",
        "# その答は、型の正当性を確認する第2の型システムにある。\r\n",
        "# 型は類 (kind)と結びついている。\r\n"
      ],
      "execution_count": null,
      "outputs": []
    },
    {
      "cell_type": "code",
      "metadata": {
        "id": "SlIXAGJjtLt9",
        "colab": {
          "base_uri": "https://localhost:8080/"
        },
        "outputId": "479017d6-1746-45f9-8e4d-95ae310d1e7f"
      },
      "source": [
        "!ghc -e $':k Eq'\r\n",
        "!ghc -e $':k Integer'\r\n",
        "!ghc -e $':k Functor'\r\n",
        "!ghc -e $':k Num'\r\n",
        "!ghc -e $':k Foldable'\r\n",
        "!ghc -e $':k Ord'"
      ],
      "execution_count": null,
      "outputs": [
        {
          "output_type": "stream",
          "text": [
            "Eq :: * -> Constraint\n",
            "Integer :: *\n",
            "Functor :: (* -> *) -> Constraint\n",
            "Num :: * -> Constraint\n",
            "Foldable :: (* -> *) -> Constraint\n",
            "Ord :: * -> Constraint\n"
          ],
          "name": "stdout"
        }
      ]
    },
    {
      "cell_type": "code",
      "metadata": {
        "id": "_JMbT9o4tKBh"
      },
      "source": [
        "# 型はは次の 2つの形式をとる。\r\n",
        "\r\n",
        "# 記号 * は具体的なデータ対象に結びついた型の類をあらわす。\r\n",
        "# k1 と k2 とが類ならば、k1->k2 は k1 という類の型をとり、k2 という類の型を返す型の類である。\r\n",
        "\r\n",
        "# 型構築子 Tree の類は、 *->* であり、Tree Int の類は * だ。\r\n",
        "# Functor クラスのメンバーはすべて、類 *->* でなければならず、\r\n",
        "# 類付けのエラーは、次のような宣言により引き起こされる。\r\n",
        "%%script false\r\n",
        "\r\n",
        "instance Functor Integer where ...\r\n",
        "\r\n",
        "# なぜなら、Integer の類は * だからである。\r\n",
        "# 類は Haskell のプログラムの直接あらわれることはない。\r\n",
        "# コンパイラが型検査の前に類を推論する。「類宣言」のようなものは必要ない。\r\n",
        "# 型シグネチャが類エラーをおこすとき以外は、類は Haskellのプログラムの後ろに隠れている。\r\n",
        "# 類は非常にシンプルなので、コンパイラは、類衝突がおこれば、その旨のエラーメッセージを表示する。\r\n"
      ],
      "execution_count": null,
      "outputs": []
    },
    {
      "cell_type": "code",
      "metadata": {
        "id": "U666LVobgIAO"
      },
      "source": [
        "# オブジェクト指向プログラミング OOP とのアナロジー\r\n",
        "# OOP におけるクラスを型クラスへ置き換え、オブジェクトを型へ置き換えれば、ほぼ Haskell の型クラスになる。\r\n",
        "\r\n",
        "# OOP と比べると、型はオブジェクトではないというのは明かで、\r\n",
        "# OOP 言語に対する利点は、Haskellのメソッドは完全に型安全である。\r\n",
        "# 必要なクラスのなかにはない型の値にメソッドを適用しようとしているかどうかは、\r\n",
        "# コンパイル時に検出される。単純に高階関数として引き渡される。\r\n",
        "\r\n",
        "# パラメータ多相とアドホック多相 overloading との関係を考察すると別の見方をすることができる。\r\n",
        "# パラメータ多相がどれほど便利かということは既に示した。\r\n",
        "# しかしながら、ときには、このような包括的グルーピングでは広すぎることもある。\r\n",
        "# もっと小さい型の集合の上でコントロールをしたい場合がある。たとえば、比較同値性をもつような型の集合\r\n",
        "# の上で、という時、型クラスは、これを実現する構造的方法とみなすことができる。\r\n",
        "# パラメータ多相は一種の多重定義とみなすことができ、多重定義は暗黙にすべての型の上で起こり、\r\n",
        "# 限定された型の集合(つまり、型クラス)上で起こるのではない。\r\n",
        "\r\n",
        "# 他の言語との比較\r\n",
        "# Haskell で用いられるクラスは OOP で用いられるクラスに類似している。しかし、いくつかの重大な相違がある。\r\n",
        "\r\n",
        "# Haskell は、型の定義とその型に結びついているメソッドの定義を分離する。 \r\n",
        "# C++ や Java のクラスは、ふつう、データ構造(メンバー変数)とそのデータ構造と結びついた関数(メソッド)\r\n",
        "# の両方を定義する。Haskell ではこれらの定義は別々におこなう。\r\n",
        "\r\n",
        "# Haskell は、型の違う関数が共通の名前を共有するような C++ 流の多重定義 はサポートしていない。\r\n",
        "\r\n",
        "# Haskell のオブジェクトの型は暗黙の型変換を受けない。値が投入あるい\r\n",
        "# は投出される Object のようなすべての基になるようなクラスは ない。\r\n",
        "\r\n",
        "# C++ や Java ではオブジェクトの実行時表現に (VTable のような) 同定情報を付加する。\r\n",
        "# Haskellではこのような情報は、型システムを通じて物理的にではなく、論理的に、値に付加する。\r\n",
        "\r\n",
        "# Haskell のクラスシステムには、(publicあるいは private などといっ\r\n",
        "# たクラス構成要素のような) アクセスコントロールの機構は組込まれていない。\r\n"
      ],
      "execution_count": null,
      "outputs": []
    },
    {
      "cell_type": "markdown",
      "metadata": {
        "id": "i5B44NMHnSoM"
      },
      "source": [
        "# 再び、型について"
      ]
    },
    {
      "cell_type": "code",
      "metadata": {
        "id": "YwEfQHRekl0S"
      },
      "source": [
        "# 再び、型について\r\n",
        "\r\n",
        "# newtype 宣言\r\n",
        "# 表現が既存の型と同一だが，型システムの中では別の型として識別されるような型を定義する。\r\n",
        "# たとえば、Integer 型を次のような宣言で用いて、自然数を表現することができ る。\r\n",
        "%%script false\r\n",
        "\r\n",
        "newtype Natural = MakeNatural Integer\r\n",
        "\r\n",
        "# 完全に新しい型 Natural を生成し、その構築子はひとつ の Integerだけを引数にとる。\r\n",
        "# この構築子 MakeNatural は Natural と Integer との間の変換をおこなう。\r\n",
        "\r\n",
        "toNatural               :: Integer -> Natural\r\n",
        "toNatural x | x < 0     = error \"Can't create negative naturals!\" \r\n",
        "            | otherwise = MakeNatural x\r\n",
        "\r\n",
        "fromNatural             :: Natural -> Integer\r\n",
        "fromNatural (MakeNatural i) = i\r\n",
        "\r\n",
        "# 次のインスタンス宣言は Natural を Num クラスに所属させる。\r\n",
        "\r\n",
        "instance Num Natural where\r\n",
        "    fromInteger         = toNatural\r\n",
        "    x + y               = toNatural (fromNatural x + fromNatural y)\r\n",
        "    x - y               = let r = fromNatural x - fromNatural y in\r\n",
        "                            if r < 0 then error \"Unnatural subtraction\"\r\n",
        "                                     else toNatural r\r\n",
        "    x * y               = toNatural (fromNatural x * fromNatural y)\r\n",
        "\r\n",
        "# この宣言なしでは、Natural は Num には属することができない。\r\n",
        "# 元の型に対するインスタンス宣言内容が、新しい型に持ち越されることはない。\r\n",
        "# 実際、この型の目的は、別の Num のインスタンスを導入することな。\r\n",
        "# もし、Naturalが Integer の型シノニムとして宣言されていれば、これはできない。\r\n",
        "\r\n",
        "# これらはすべて、newtype 宣言ではなく data 宣言を用いて も機能する。\r\n",
        "# しかし、data宣言では、Natural の値の表現にオーバヘッドが生じる。\r\n",
        "# newtype を用いることで data 宣言によって間接参照のレベルが深くなる (これは遅延性の故) \r\n",
        "# のを避けることができる。\r\n",
        "\r\n",
        "# キーワードをのぞけば、newtype 宣言は、単一フィールドをもつ単一 構築子の data\r\n",
        "# 宣言と同じ構文を用いる。\r\n"
      ],
      "execution_count": null,
      "outputs": []
    },
    {
      "cell_type": "code",
      "metadata": {
        "id": "5YJzpJFCnasi"
      },
      "source": [
        "# フィールドラベル\r\n",
        "# Haskell のデータ型内のフィールドは、位置を手がかりにアクセスすることも、\r\n",
        "# フィールドラベルを用いて名前でアクセスすることもできる。\r\n",
        "# 2次元の点に対する型について考察する。\r\n",
        "%%script false\r\n",
        "\r\n",
        "data Point = Pt Float Float\r\n",
        "\r\n",
        "# Point の構成要素は、構築子 Pt の第一引数と第二引数だ。 次のような関数が考えられる。\r\n",
        "\r\n",
        "pointx :: Point -> Float\r\n",
        "pointx (Pt x _) = x\r\n",
        "\r\n",
        "# data 宣言における構築子は、フィールド名付で (波括弧で括られて) 宣言することができる。\r\n",
        "# フィールド名は構築子の構成要素を位置によってではなく、名前で同定する。\r\n",
        "\r\n",
        "data Point = Pt {pointx, pointy :: Float}\r\n",
        "\r\n",
        "# このデータ型は Point と同一、構築子 Pt も同じ。\r\n",
        "# しかし、この宣言ではふたつのフィールド名、pointx と pointyとが定義されている。\r\n",
        "# これらのフィールド名は構造の中から構成要素を取り出すための選択関数 (selector function) として使うことができる。\r\n",
        "\r\n",
        "pointx :: Point -> Float\r\n",
        "pointy :: Point -> Float\r\n",
        "\r\n",
        "# この selector を使って次のような関数を作ることができる。\r\n",
        "\r\n",
        "absPoint :: Point -> Float\r\n",
        "absPoint p = sqrt (pointx p * pointx p + pointy p * pointy p)\r\n"
      ],
      "execution_count": null,
      "outputs": []
    },
    {
      "cell_type": "code",
      "metadata": {
        "id": "dGz4IRMa_gX2",
        "colab": {
          "base_uri": "https://localhost:8080/"
        },
        "outputId": "bde56a6a-b8b7-4a4e-dcd5-66e335c60a55"
      },
      "source": [
        "# 実験\r\n",
        "%%writefile point01.hs\r\n",
        "\r\n",
        "data Point = Pt {pointx, pointy :: Float}\r\n",
        "\r\n",
        "absPoint :: Point -> Float\r\n",
        "absPoint p = sqrt (pointx p * pointx p + pointy p * pointy p)\r\n",
        "\r\n",
        "somepoint = Pt 3.1 3.9\r\n",
        "\r\n",
        "main = print $ absPoint somepoint"
      ],
      "execution_count": null,
      "outputs": [
        {
          "output_type": "stream",
          "text": [
            "Overwriting point01.hs\n"
          ],
          "name": "stdout"
        }
      ]
    },
    {
      "cell_type": "code",
      "metadata": {
        "id": "LN1qcT8PARbm",
        "colab": {
          "base_uri": "https://localhost:8080/"
        },
        "outputId": "d49d695c-254b-4932-e80d-b10887022666"
      },
      "source": [
        "!runghc point01.hs"
      ],
      "execution_count": null,
      "outputs": [
        {
          "output_type": "stream",
          "text": [
            "4.9819674\n"
          ],
          "name": "stdout"
        }
      ]
    },
    {
      "cell_type": "code",
      "metadata": {
        "id": "Sva17Rgt_ePK"
      },
      "source": [
        "# フィールドラベルは新しい値を構築するときに使う。\r\n",
        "# 式 Pt {pointx=1, pointy=2} は式 Pt 1 2 と同一。\r\n",
        "# フィールド名を使って値を構築する場合、フィールドをいくつか省略することができる。\r\n",
        "# 省略されたフィールドは定義されない。\r\n",
        "# フィールド名を使ったパターンマッチングは構築子 Pt のときと同じような構文で使いる。\r\n",
        "%%script false\r\n",
        "\r\n",
        "absPoint (Pt {pointx = x, pointy = y}) = sqrt (x*x + y*y)\r\n",
        "\r\n",
        "# 既存の構造中のフィールド値を使って、新しい構造の構成要素を作る (update) ことができる。\r\n",
        "# p が Point ならば、 p {pointx=2} は p と同じ pointy をもつが、pointx は 2 に置き換る。\r\n",
        "# 破壊的更新ではなく、オブジェクトの新しいコピーを生成する。\r\n",
        "\r\n",
        "# フィールドラベルと併せて使用した波括弧はいくぶん特殊な使い方で、\r\n",
        "# 通常、波括弧はレイアウトルールを無視するのに使われるが、\r\n",
        "# フィールド名とむすびついた波括弧は明示的に書かなければならない。\r\n",
        "\r\n",
        "# フィールド名は単一構築子の型 (レコード型とよばれる) に限るものではない。\r\n",
        "# 複数の構築子をもつ型では、フィールド名を用いての選択や更新の操作は実行時エラーを引き起こす可能性がある。\r\n",
        "# これは、空リストにhead を適用したときと似ている。\r\n",
        "\r\n",
        "# フィールドラベルは一般の変数やクラスメソッドとトップレベルの名前空間を共有する。\r\n",
        "# スコープのなかで同じ名前のフィールド、一つ以上のデータ型で使うことはできない。\r\n",
        "# しかし、一つのデータ型の中でなら、型付けが同じあるかぎり、一つ以上の構築子のなかで、使うことができる。\r\n",
        "# たとえば、次のようなデータ型のなかで、\r\n",
        "\r\n",
        "data T = C1 {f :: Int, g :: Float} | C2 {f :: Int, h :: Bool}\r\n",
        "\r\n",
        "# フィールド名 f は型 T の両方の構築子に適用されている。\r\n",
        "# つまり、もし、x の型が T ならば、x {f=5} は T 内のどちらの構築子が生成した値に対しても機能する。\r\n",
        "\r\n",
        "# フィールド名が代数的データ型の基本性質を変えることはない。\r\n",
        "# フィールド名は、データ構造の構成要素にアクセスするのに位置を手がかりにするより、\r\n",
        "# 名前を手がかりにするために用意された、便宜的な構文にすぎない。この構文\r\n",
        "# のおかげで、多くの構成要素をもつ構築子の扱いが簡単になる。\r\n",
        "# フィールドは構築子へのそれぞれの参照を変更することなく追加したり削除したりすることができるからだ。\r\n"
      ],
      "execution_count": null,
      "outputs": []
    },
    {
      "cell_type": "code",
      "metadata": {
        "id": "aI5RDS1jnYJU"
      },
      "source": [
        "# 正格データ構築子\r\n",
        "\r\n",
        "# Haskell ではデータ構造は一般的に遅延性をもつ。\r\n",
        "# 構成要素は必要になるまで評価されない。\r\n",
        "# この性質のおかげで、データ構造はもし評価されるとエラーあるいは停止できないような要素を含むことができる。\r\n",
        "# 遅延データ構造は Haskell の表現力を強化し、Haskellのプログラミングスタイルの要になる。\r\n",
        "\r\n",
        "# 内部的には、遅延データオブジェクトの各フィールドはサンク (thunk) とよくいわれる構造に包みこまれている。\r\n",
        "# サンクはフィールド値を定義した計算をカプセル化したもの。\r\n",
        "# 値が必要にならないかぎり、サンクの中へ入ることはない。\r\n",
        "# エラー (_|_ )を含むサンクがあってもデータ構造の他の要素には影響しない。\r\n",
        "# たとえば、タプル ('a',_|_) は完全に正しい Haskell の値である。\r\n",
        "# この 'a' はこのタプルのもう一方の要素にかまうことなく、使うことができる。\r\n",
        "# 他のプログラミング言語は遅延性ではなく正格性をもっている。\r\n",
        "# すなわち、データ構造のすべての要素はそのデータ構造に入れる前に値にまで簡約される。\r\n",
        "\r\n",
        "# サンクにはいろいろなオーバヘッドがついてまわる。\r\n",
        "# サンクを構成するにも、それを評価するにも時間がかかる。\r\n",
        "# ヒープの領域をとるし、そのサンクの評価のために必要な別の構造を確保するため、\r\n",
        "# ガーベッジコレクタを起動することもある。\r\n",
        "# こうしたオーバヘッドを回避するために、正格性フラグを data 宣言で使いる。\r\n",
        "# こうして、選択的に遅延性を抑制することで、指定した構築子のフィールドをただちに評価する。\r\n",
        "# data 宣言の中で、! でマークされたフィールドは、サンクに入れて遅延するのではなく、\r\n",
        "# 構造が生成される際に、直ちに評価される。この正格性フラグを用いるほうがよい状況はいくつかある。\r\n",
        "\r\n",
        "# * プログラム実行中に必ず評価されることが確定している構成要素\r\n",
        "# * 簡単に評価できて絶対にエラーを起こさないことが確定している構成要素\r\n",
        "# * 部分的に未定義の値であると意味のない型\r\n",
        "\r\n",
        "# たとえば、複素数のライブラリが定義している Complex 型は次のようになっている。\r\n",
        "%%script false\r\n",
        "\r\n",
        "data RealFloat a => Complex a = !a :+ !a\r\n",
        "\r\n",
        "# 構築子 :+ の中置定義に注意!\r\n",
        "# この定義では、ふたつの構成要素にマークがついている。\r\n",
        "# 複素数の実数部と虚数部は正格性をもつようにマークされている。\r\n",
        "# これは、複素数のよりコンパクトな表現だが、たとえば、1 :+ _|_ のように未定義の構成要素があっ\r\n",
        "# た場合、全体が未定義 (_|_)になってしまうという代償をはらっている。\r\n",
        "# しかし、部分的にしか定義されていない複素数が必要になることは実際にはありえないので、\r\n",
        "# 効率のよい表現を達成するために正格性フラグを使用するのは意味のあることである。\r\n",
        "\r\n",
        "# 正格性フラグはメモリリーク(もはや使うことはないのにガーベッジコレクタに\r\n",
        "# 回収されない構造)を解決するために使うこともできる。\r\n",
        "\r\n",
        "# 正格性フラグ ! は data 宣言のなかでのみ使われる。\r\n",
        "# そのほかの型シグネチャーや型定義では使えない。\r\n",
        "# 関数の引数に対して正格性をもつようにマークをつける方法はない。\r\n",
        "# しかし、 seq あるいは !$ という関数を使用することで同じ効果が得られる\r\n",
        " \r\n",
        "# 正格性フラグの使い方の正確なガイドラインを示すのは難しい。\r\n",
        "# 注意して使用しなければならない。\r\n",
        "# 遅延性は Haskell の基本的な特徴のひとつであって、\r\n",
        "# そこへ正格性フラグをつけ加えることは無限ループの発見を困難なものにし、ほかの予期せぬ結果をまねきかねない。\r\n"
      ],
      "execution_count": null,
      "outputs": []
    },
    {
      "cell_type": "markdown",
      "metadata": {
        "id": "3Afd1DAExM2I"
      },
      "source": [
        "# いまここ"
      ]
    },
    {
      "cell_type": "code",
      "metadata": {
        "id": "K7nqmV_H5zjT"
      },
      "source": [
        "# 入出力\r\n",
        "# Haskell の I/O システムは純粋に関数的である。\r\n",
        "# 命令型の言語では、プログラムは環境を変更するアクションを通じて進行する。\r\n",
        "# 典型的なアクションには、グローバル変数を読むこと、設定すること、ファイルへの書き込み、\r\n",
        "# 入力の読み込み、ウィンドウのオープンなどがある。\r\n",
        "# このようなアクションは Haskell の言語のコアの部分からは、切離されている。\r\n",
        "\r\n",
        "# Haskell の I/O システムは数学のモナド (monad) を基礎として築かれている。\r\n",
        "# しかし、I/O システムを使う上で底流にあるモナドの理論を理解する必要はない。\r\n",
        "# モナドの理論は、I/O にたまたま適合した概念上の構造である。\r\n",
        "# 単純な算術演算を実行するのに群論を理解する必要がないのと同じで、\r\n",
        "# Haskell の I/O を実行するのにモナド理論を理解する必要はない。\r\n",
        "\r\n",
        "# I/O システムを構築しているモナド演算子は別の目的にも使用される。\r\n",
        "# ここでは、モナドという用語を使うのは避けて、I/O システムの使い方に集中しよう。\r\n",
        "# I/O モナドを単に抽象データ型だと考えておくのがいいだろう。\r\n",
        "\r\n",
        "# アクションは Haskell では呼出すのではなく定義するものである。\r\n",
        "# アクションの定義を評価することでは、実際のアクションは起こらない。\r\n",
        "# むしろ、アクションは、ここまで考えてきた式の評価というものの外側で起こることである。\r\n",
        "\r\n",
        "# アクションはシステムプリミティブとして定義されるようにアトミックなものであり、\r\n",
        "# また、一連のアクションの合成でもある。\r\n",
        "# I/O モナドは複合アクションを構成するためのプリミティブをふくみ、\r\n",
        "# 他の言語では ; (セミコロン) を使って、 文を一列にならべるのと同じように構成する。\r\n",
        "# このモナドの機構はプログラムのなかのアクションをくっつける糊のような役目をする。\r\n",
        "\r\n"
      ],
      "execution_count": null,
      "outputs": []
    },
    {
      "cell_type": "code",
      "metadata": {
        "id": "agn1k1GM_Vks"
      },
      "source": [
        "# I/O の基本演算\r\n",
        "# 各 I/O のアクションはそれぞれ値を返する。\r\n",
        "# 型システムにおいては、返り値 は、IO という「タグ」がつけられている。\r\n",
        "# これはアクションを他の 値と区別するためである。\r\n",
        "# たとえば、関数 getChar の型は、次のようなものである。\r\n",
        "%%script false\r\n",
        "\r\n",
        "getChar :: IO Char\r\n",
        "\r\n",
        "# この IO Char は getChar が呼出されたときに、文字を返すなんらかの動作をする、ということを示している。\r\n",
        "# 意味のある値を 返さないアクションにたいしてはユニット型 () を用いる。\r\n",
        "# たとえば、関数 putChar の型は、次のようなものである。\r\n",
        "\r\n",
        "putChar :: Char -> IO ()\r\n",
        "\r\n",
        "# この関数は引数として文字を取るが、特に意味のある値は返さない。\r\n",
        "\r\n",
        "# アクションは、演算子 >>= (`bind`)を使って、順序付けをする。\r\n",
        "# この演算子を直接使わず、 do 記法という糖衣構文を使うこともできる。\r\n",
        "# この記法では、順序制御の演算子は構文の後に隠れるので、伝統的な言語に近くなる。\r\n",
        "# do 記法は簡単に >>= に展開することができる。\r\n",
        "\r\n",
        "# キーワード do により順に実行される文のならびが導入される。\r\n",
        "# 文はアクションであるとともに、<- を使ってアクションの結果に束縛されたパターンであり、\r\n",
        "# let を使った局所的な定義の集合 でもある。\r\n",
        "# do 記法は let や where と同じく、レイアウトを使いる。\r\n",
        "# 適正なインデントをつかえば、波括弧とセミコロンを省略することができる。\r\n",
        "# 次のは一文字よみこみそれを印字する簡単なプログラムだ。\r\n",
        "\r\n",
        "main :: IO ()\r\n",
        "main = do c <- getChar\r\n",
        "          putChar c\r\n",
        "\r\n",
        "main の使い方は重要である。\r\n",
        "main は (C の main 関数と同様に)\r\n",
        "Haskell のプログラムのエントリポイントとして定義されている。\r\n",
        "main は IO 型でなければならない。ふつうは IO () だ。\r\n",
        "main は Main モジュールのなかだけで特別な意味をもつ。\r\n",
        "モジュールに関しては後ほど詳しくふれる。\r\n",
        ") 上のプログラムは順に 2 つのアクションを実行する。\r\n",
        "最初に、一文字に読み込み、その結果を変数 cへ束縛する。\r\n",
        "それからその文字を印字する。\r\n",
        "変数のスコープが定義全体にわたる let 式とはちがい、\r\n",
        "<- で定義した変数は、そのあとに続く文のなかでのみ有効だ。\r\n",
        "\r\n",
        "まだ、説明していないポイントがある。\r\n",
        "to を用いて、アクションを起動し、その結果を知ることができるが、\r\n",
        "一連のアクションから結果を返すのはどうするか。\r\n",
        "たとえば、一文字読み込んでその文字が 'y' であれば、True を返す ready という関数を考えてみよう。\r\n",
        "\r\n",
        "%%script false\r\n",
        "\r\n",
        "ready :: IO Bool\r\n",
        "ready = do c <- getChar\r\n",
        "            c == 'y' -- ダメ!!!\r\n",
        "\r\n",
        "この関数は、do のなかの 2つめの文が、アクションではなく、単なる真理値ですので、動作しない。\r\n",
        "この真理値をとって、なにもしないが、結果としてこの真理値を返すアクションを生成しなければならない。\r\n",
        "return 関数はまさにこれを行いる。\r\n",
        "\r\n",
        "return :: a -> IO a\r\n",
        "\r\n",
        "この return 関数はプリミティブの順序実行を完成させる。\r\n",
        "ready の最後の行は、return (c == 'y')\r\n",
        "でなくてはならない。\r\n",
        "\r\n",
        "では、もっと複雑な I/O 関数を見てみよう。\r\n",
        "まず、getLine 関数 だ。\r\n",
        "\r\n",
        "getLine :: IO String\r\n",
        "getLine = do c <- getChar\r\n",
        "if c == '\\n'\r\n",
        "then return \"\"\r\n",
        "else do l <- getLine\r\n",
        "return (c:l)\r\n",
        "\r\n",
        "else 節にある、ふたつめの do に注目。\r\n",
        "それぞれの do は一本の文の列を構成している。\r\n",
        "if のように介入的な言語要素はその先のアクション列を導入するのに新たな doを使う必 要がある。\r\n",
        "\r\n",
        "return 関数は真理値などの一般の値を I/O アクションの領域に入れる。\r\n",
        "その逆はどうだろう。\r\n",
        "いくつかの I/O アクションをふつうの式のなかで起動できるか。\r\n",
        "たとえば、x + print y を 式のなかに入れて、\r\n",
        "がその式の評価の結果として印字されるようにす\r\n",
        "ることはできるでしょうか。\r\n",
        "答は、「できない」だ。\r\n",
        "純粋関数型のコードのな\r\n",
        "かで、こっそりと命令型の世界にしのび込むことはできない。\r\n",
        "命令型の世界に\r\n",
        "「影響される」値にはそれとわかるタグがついている必要がある。\r\n",
        "次のよう な関数\r\n",
        "\r\n",
        "f :: Int -> Int -> Int\r\n",
        "\r\n",
        "は絶対に I/O を行うことはできない。\r\n",
        "それは IO が返り値にあらわ れていないからだ。\r\n",
        "このことは、デバッグのときに文字通りコード全体にわたっ て\r\n",
        "print\r\n",
        "文を埋めこむことの多いプログラマにとっては悩みの種だろう。\r\n",
        "実際のところは、この問題に対処するために、いくつかの安全ではない関数が用意されている。\r\n",
        "しかし、これらは、上級プログラマにとっておいた方がよいものだ。\r\n",
        "デバッグ用のパッケージ (Trace など) は往々にして、\r\n",
        "完全に安全な手法では「禁じ手」となっている関数を気前よく使っている。\r\n",
        "\r\n"
      ],
      "execution_count": null,
      "outputs": []
    },
    {
      "cell_type": "code",
      "metadata": {
        "id": "MsQOZjrw_b98"
      },
      "source": [
        "# 7.2 アクションをつかったプログラミング\r\n",
        "I/O アクションはふつうの Haskell の値である。\r\n",
        "関数にわたされることもあるだろうし、なかに入れることも、Haskell のほかの値とおなじようにできる。\r\n",
        "次にアクションのリストを考えてみよう。\r\n",
        "\r\n",
        "todoList :: [IO ()]\r\n",
        "\r\n",
        "todoList = [putChar 'a',\r\n",
        "do putChar 'b'\r\n",
        "putChar 'c',\r\n",
        "do c <- getChar\r\n",
        "putChar c]\r\n",
        "\r\n",
        "このリストは実際にはアクションを起動することはない。\r\n",
        "アクションを保持しているだけだ。\r\n",
        "これらのアクションを一つのアクションにまとめるのは、\r\n",
        "sequence_ のような関数が必要だ。\r\n",
        "\r\n",
        "sequence_ :: [IO ()] -> IO ()\r\n",
        "sequence_ [] = return ()\r\n",
        "sequence_ (a:as) = do a\r\n",
        "sequence as\r\n",
        "\r\n",
        "この関数は、なにもせずに、do x;y を x >> y\r\n",
        "へ展開する。\r\n",
        "(9.1 節を参照のこと。\r\n",
        ") このパターンの再帰は、foldr\r\n",
        "関数でとらえることができる。\r\n",
        "(foldr) の定義はプレリュードを参照のこと。\r\n",
        ") さらによい sequence_\r\n",
        "の定義は以下のようなものだ。\r\n",
        "\r\n",
        "sequence_ :: [IO ()] -> IO ()\r\n",
        "sequence_ = foldr (>>) (return\r\n",
        "())\r\n",
        "\r\n",
        "この do\r\n",
        "記法は便利なツールだが、この場合には、その底流にある\r\n",
        "モナド演算子 >> を使うほうが適当だ。\r\n",
        "do の構築\r\n",
        "の基になる演算子を理解することは、Haskell\r\n",
        "プログラマにとって役にたつこと だ。\r\n",
        "\r\n",
        "sequence_ 関数は、putStr を putChar\r\n",
        "をつかっ て構築するときにも使える。\r\n",
        "\r\n",
        "putStr :: String -> IO ()\r\n",
        "putStr s = sequence_ (map\r\n",
        "putChar s)\r\n",
        "\r\n",
        "Haskell と伝統的な命令型の言語との違いのひとつがこの\r\n",
        "putStr に みてとれる。\r\n",
        "命令型の言語では、命令型の putChar を文字列上でマッ\r\n",
        "ピングするだけで印字が可能だ。\r\n",
        "しかし、Haskell では map 関数は\r\n",
        "アクションを実行しない。\r\n",
        "そのかわり、それぞれ、文字列の一文字に対応する\r\n",
        "アクションのリストを生成する。\r\n",
        "sequence_ のなかの畳み込み演算は >>\r\n",
        "関数をつかって、それぞれの個別の演算をひとつの演算にま\r\n",
        "とめる。\r\n",
        "ここでも return () は必要だ。\r\n",
        "foldr は\r\n",
        "一連のアクションの最後になにもしないアクションを必要とする。\r\n",
        "(とくに文 字列が空の場合。\r\n",
        ")\r\n",
        "\r\n",
        "プレリュードやライブラリには I/O\r\n",
        "アクションの順序付けに便利な関数がたく さんある。\r\n",
        "これらの関数はだいたいのものが、任意のモナド用に汎用化され\r\n",
        "ている。\r\n",
        "Monad m => という文脈を含む関数はどれも IO\r\n",
        "型で使える。\r\n",
        "\r\n",
        "\r\n",
        "7.3 例外処理\r\n",
        "ここまでは、I/O 演算中の例外の問題を避けてくる。\r\n",
        "もし、 getChar\r\n",
        "がファイルの最後にあたったら、どうなるだろう。\r\n",
        "(_|_ に対しては error という用語をつかいる。\r\n",
        "これは、\r\n",
        "停止しない、あるいは、パターンマッチが失敗した、というような回復不可能な\r\n",
        "条件の場合につかいる。\r\n",
        "一方、例外は、I/O モナド内で捕捉可能および処理可\r\n",
        "能なものだ。\r\n",
        ") I/O モナド中での、「file not\r\n",
        "found」などの例外的状況をあ\r\n",
        "つかうには、standard ML\r\n",
        "の入出力にある機能にあるような、ハンドリング機構\r\n",
        "を使いる。\r\n",
        "特別な構文や意味論を用いることはない。\r\n",
        "例外処理は、I/O\r\n",
        "の順序付け演算子の定義の一部になっている。\r\n"
      ],
      "execution_count": null,
      "outputs": []
    },
    {
      "cell_type": "code",
      "metadata": {
        "id": "4THNFokY_Z1p"
      },
      "source": [
        "\r\n",
        "エラーは特別なデータ型 IOError\r\n",
        "としてコード化されている。\r\n",
        "この 型は I/O\r\n",
        "モナド中でおこりうるすべての例外を表わしている。\r\n",
        "これは一種の 抽象型で、ユーザが利用可能な IOError\r\n",
        "の構築子はない。\r\n",
        "述語 がいくつか IOError\r\n",
        "型の値にたいして使うことができる。\r\n",
        "たとえば、\r\n",
        "\r\n",
        "isEOFError :: IOError -> Bool\r\n",
        "\r\n",
        "という関数はエラーが、ファイル終端条件でひきおこされたものかどうかを判定\r\n",
        "する。\r\n",
        "IOError\r\n",
        "を抽象型とすることで、明示的なデータ型の変更な\r\n",
        "しで、新しい種類のエラーをシステムに導入することができる。\r\n",
        "この isEOFError 関数はプレリュードとは別の IO\r\n",
        "ライブラリの\r\n",
        "なかで定義されている、それゆえ、プログラム中に明示的にインポートする必\r\n",
        "要がある。\r\n",
        "\r\n",
        "例外ハンドラ は IOError -> IO a とい\r\n",
        "う型になる。\r\n",
        "catch 関数は例外ハンドラをアクションあるいはア\r\n",
        "クションの集まりと関連づける。\r\n",
        "\r\n",
        "catch :: IO a -> (IOError ->\r\n",
        "IO a) -> IO a\r\n",
        "\r\n",
        "catch の引数はアクションとハンドラだ。\r\n",
        "アクションが成功すれば、\r\n",
        "ハンドラを起動せずにその結果だけを返する。\r\n",
        "エラーが起これば、 IOError\r\n",
        "型の値をハンドラにわたし、そのハンドラに関連づけられて\r\n",
        "いるアクションを起動する。\r\n",
        "例として、エラーにであうと改行を返す getChar\r\n",
        "をあげておこう。\r\n",
        "\r\n",
        "getChar' :: IO Char\r\n",
        "getChar' = getChar `catch` (\\e\r\n",
        "-> return '\\n')\r\n",
        "\r\n",
        "これは、すべてのエラーについて同じ処理をしていますので、あまり洗練された\r\n",
        "実装ではない。\r\n",
        "もし、ファイル終端になった場合だけをわけたい場合には、\r\n",
        "エラーの種類を確かめなければならない。\r\n",
        "\r\n",
        "getChar' :: IO Char\r\n",
        "getChar' = getChar `catch`\r\n",
        "eofHandler where\r\n",
        "eofHandler e = if isEofError e\r\n",
        "then return '\\n' else ioError\r\n",
        "e\r\n",
        "\r\n",
        "ここで使われている ioError\r\n",
        "関数は次の例外ハンドラに例外を投げま す。\r\n",
        "ioError の型は、\r\n",
        "\r\n",
        "ioError :: IOError -> IO a\r\n",
        "\r\n",
        "だ。\r\n",
        "これは、つぎの I/O\r\n",
        "アクションを実行するかわりに、制御を例外ハンド\r\n",
        "ラに移すという点をのぞけば、return と類似している。\r\n",
        "catch の入れ子になった呼び出しも可能だ。\r\n",
        "入れ子になった catch\r\n",
        "の呼び出しは、入れ子になった例外ハンドラを生成する。\r\n",
        "こ の例を、getChar' を使って getLine\r\n",
        "を再定義することで示 しよう。\r\n",
        "\r\n",
        "getLine' :: IO String\r\n",
        "getLine' = catch getLine''\r\n",
        "(\\err -> return (\"Error: \" ++\r\n",
        "show err))\r\n",
        "where\r\n",
        "getLine'' = do c <- getChar'\r\n",
        "if c == '\\n' then return \"\"\r\n",
        "else do l <- getLine'\r\n",
        "return (c:l)\r\n",
        "\r\n",
        "\r\n",
        "入れ子になったエラーハンドラは getChar'\r\n",
        "がファイル終端を捕捉す ることを可能にしている。\r\n",
        "一方で、ほかのエラーがおこると \"Error: \"\r\n",
        "ではじまる文字列が、getLine' からもどり る。\r\n",
        "\r\n",
        "Haskell\r\n",
        "では利便性確保のために、プログラムの最上位レベルにプログラムを停\r\n",
        "止し、例外を印字する例外ハンドラが用意されている。\r\n",
        "\r\n"
      ],
      "execution_count": null,
      "outputs": []
    },
    {
      "cell_type": "code",
      "metadata": {
        "id": "sxwX91N1_Ptk"
      },
      "source": [
        "\r\n",
        "7.4 ファイル、チャネル、ハンドル\r\n",
        "I/O\r\n",
        "モナドや例外処理機構が提供するもののほか、Haskell の\r\n",
        "I/O は、他の言\r\n",
        "語にあるものとほとんど同じ機構が備わっている。\r\n",
        "これらの関数の多くは、プ レリュードではなくて、IO\r\n",
        "ライブラリにある。\r\n",
        "それゆえ、スコー\r\n",
        "プのなかへ明示的にインポートする必要がある。\r\n",
        "(モジュールとインポート にいついては 11\r\n",
        "節で議論する。\r\n",
        ")\r\n",
        "さらに、これらの関数の多くはメインのレポートではなく、ライブラリレポート\r\n",
        "の方で議論されている。\r\n",
        "\r\n",
        "ファイルをオープンするとハンドル (型は Handle )\r\n",
        "が生成 されて、これを使って I/O のやりとりをする。\r\n",
        "このハンドルをクローズする\r\n",
        "と、それに関連付けられているファイルがクローズする。\r\n",
        "\r\n",
        "type FilePath = String -- path\r\n",
        "names in the file system\r\n",
        "openFile :: FilePath -> IOMode\r\n",
        "-> IO Handle\r\n",
        "hClose :: Handle -> IO ()\r\n",
        "data IOMode = ReadMode |\r\n",
        "WriteMode | AppendMode |\r\n",
        "ReadWriteMode\r\n",
        "\r\n",
        "\r\n",
        "ハンドルはチャネルにも関連付けられる。\r\n",
        "チャネルはファイルとは\r\n",
        "直接結びつかないコミュニケーションポートだ。\r\n",
        "いくつかのチャネルハンドル は定義済になっている。\r\n",
        "たとえば、stdin (標準入力)、 stdout\r\n",
        "(標準出力)、stderr (標準エラー) だ。\r\n",
        "hGetChar や hPutChar の文字単位の I/O\r\n",
        "演算は、引数のひ とつとして、ハンドルをとる。\r\n",
        "さきほどの getChar 関数は次のよ\r\n",
        "うに定義されている。\r\n",
        "\r\n",
        "getChar = hGetChar stdin\r\n",
        "\r\n",
        "\r\n",
        "Haskell\r\n",
        "では内容全体をひとつの文字列として返すファイルやチャネルが使えま\r\n",
        "す。\r\n",
        "\r\n",
        "getContents :: Handle -> IO\r\n",
        "String\r\n",
        "\r\n",
        "実行上、getContents\r\n",
        "はチャネルやファイルの全内容を一度にすべて\r\n",
        "読みこまなければならず、メモリや実行時間が足りなくなるということが起こり\r\n",
        "そうに見える。\r\n",
        "しかし、それは違いる。\r\n",
        "鍵となる要点は、 getContents\r\n",
        "は文字の「遅延」(すなわち非正格)リストを返すという\r\n",
        "ことだ。\r\n",
        "(Haskell\r\n",
        "では文字列は単なる文字のリストであるということを思い\r\n",
        "出してください。\r\n",
        ") このリストの要素は、他のリストと同様に、「必要になって\r\n",
        "はじめて」読み込まれるのだ。\r\n",
        "この要求駆動の振舞いの実装は、計算側からの\r\n",
        "要求があるたびに、一度に一文字づつファイルから読みこむことで実現すること\r\n",
        "が期待されている。\r\n",
        "\r\n",
        "次の例はファイルをコピーする Haskell\r\n",
        "のプログラムだ。\r\n",
        "\r\n",
        "main = do fromHandle <-\r\n",
        "getAndOpenFile \"Copy from: \"\r\n",
        "ReadMode\r\n",
        "toHandle <- getAndOpenFile\r\n",
        "\"Copy to: \" WriteMode\r\n",
        "contents <- hGetContents\r\n",
        "fromHandle\r\n",
        "hPutStr toHandle contents\r\n",
        "hClose toHandle\r\n",
        "putStr \"Done.\"\r\n",
        "\r\n",
        "getAndOpenFile :: String ->\r\n",
        "IOMode -> IO Handle\r\n",
        "\r\n",
        "getAndOpenFile prompt mode =\r\n",
        "do putStr prompt\r\n",
        "name <- getLine\r\n",
        "catch (openFile name mode)\r\n",
        "(\\_ -> do putStrLn (\"Cannot\r\n",
        "open \"++ name ++ \"\\n\")\r\n",
        "getAndOpenFile prompt mode)\r\n",
        "\r\n",
        "\r\n",
        "遅延性のある getContents\r\n",
        "関数を使うと、ファイルの内容全部を\r\n",
        "一度にメモリへ読み込む必要がなくなる。\r\n",
        "もし、hPutStr がバッ\r\n",
        "ファとして固定長の文字列を採用するなら、一度にメモリへ読み込むには、入力\r\n",
        "ファイル 1 ブロック分だけが必要だ。\r\n",
        "入力ファイルは最後の文字が読み出さ\r\n",
        "れれば、暗黙のうちにクローズされる。\r\n",
        "\r\n"
      ],
      "execution_count": null,
      "outputs": []
    },
    {
      "cell_type": "code",
      "metadata": {
        "id": "UeqHjVcr_KIA"
      },
      "source": [
        "\r\n",
        "7.5 Haskell と命令型プログラミング\r\n",
        "最後に、I/O\r\n",
        "プログラミングは重大な問題を表面化したことについて考えましょ\r\n",
        "う。\r\n",
        "このスタイルは従来の命令型のプログラミングとさしてかわらないではない\r\n",
        "かということだ。\r\n",
        "たとえば、getLine 関数だが、\r\n",
        "\r\n",
        "getLine = do c <- getChar\r\n",
        "if c == '\\n'\r\n",
        "then return \"\"\r\n",
        "else do l <- getLine\r\n",
        "return (c:l)\r\n",
        "\r\n",
        "これは、つぎの命令型のコード(実際の言語のコードではない)と酷似して\r\n",
        "いる。\r\n",
        "\r\n",
        "\r\n",
        "function getLine() {\r\n",
        "c := getChar();\r\n",
        "if c == `\\n` then return \"\"\r\n",
        "else {l := getLine();\r\n",
        "return c:l}}\r\n",
        "\r\n",
        "ということは、結局、Haskell\r\n",
        "は単に命令型の車輪を再発明しただけなのでしょ うか。\r\n",
        "\r\n",
        "あるいみでは、そのとおりだ。\r\n",
        "I/O モナドは Haskell のなかに小さな命令型\r\n",
        "のサブ言語を構成している。\r\n",
        "それゆえ、プログラムの I/O の構成要素は従来\r\n",
        "の命令型のコードにそっくりになるのだ。\r\n",
        "しかし、ひとつ大きな違いがありま す。\r\n",
        "これを扱うのに特別な意味論を必要としないということだ。\r\n",
        "特に、 Haskell\r\n",
        "における等式論証の仕組はなんら損われていない。\r\n",
        "プログラム中のモ ナドのコードの命令型のフィーリングは\r\n",
        "Haskell の関数的な側面をそこなうも\r\n",
        "のではない。\r\n",
        "経験を積んだ関数プログラマはプログラム中の命令型の構成\r\n",
        "要素を最小限にし、トップレベルで順序付けを最小にし、それについてだけ、\r\n",
        "I/O モナドを使用することができるにちがいない。\r\n",
        "モナドはプログラムの\r\n",
        "関数的な構成要素と命令的な構成要素を綺麗にわける。\r\n",
        "一方で、関数的な\r\n",
        "サブセットをもつ命令型の言語では純粋に関数的な世界と命令的な世界をへだて\r\n",
        "るものがハッキリとは定義されていない。\r\n",
        "\r\n",
        "A Gentle Introduction to\r\n",
        "Haskell, Version 98\r\n",
        "back next top\r\n"
      ],
      "execution_count": null,
      "outputs": []
    }
  ]
}