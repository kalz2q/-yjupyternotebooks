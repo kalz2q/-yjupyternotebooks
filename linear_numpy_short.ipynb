{
  "nbformat": 4,
  "nbformat_minor": 0,
  "metadata": {
    "colab": {
      "name": "linear_numpy_short.ipynb",
      "provenance": [],
      "toc_visible": true,
      "authorship_tag": "ABX9TyMVwgxt/MPbrbRCSlFTOD1Q",
      "include_colab_link": true
    },
    "kernelspec": {
      "name": "python3",
      "display_name": "Python 3"
    },
    "language_info": {
      "name": "python"
    }
  },
  "cells": [
    {
      "cell_type": "markdown",
      "metadata": {
        "id": "view-in-github",
        "colab_type": "text"
      },
      "source": [
        "<a href=\"https://colab.research.google.com/github/kalz2q/mycolabnotebooks/blob/master/linear_numpy_short.ipynb\" target=\"_parent\"><img src=\"https://colab.research.google.com/assets/colab-badge.svg\" alt=\"Open In Colab\"/></a>"
      ]
    },
    {
      "cell_type": "markdown",
      "metadata": {
        "id": "h_T1InIcHoKs"
      },
      "source": [
        "# numpy と 線形代数\n",
        "\n",
        "線形代数を学ぶには numpy と sympy の両方が必要である。 \n",
        "\n",
        "numpy でないと機械学習なのど高速な計算ができないし、sympy でないと数式処理ができない。\n",
        "\n",
        "* 行列計算\n",
        "* 行列方程式を解く\n",
        "* 逆行列と行列式を計算する\n",
        "\n"
      ]
    },
    {
      "cell_type": "markdown",
      "metadata": {
        "id": "ciKsLyqgbn0C"
      },
      "source": [
        "# 行列計算\n",
        "\n",
        "次の例を考える\n",
        "\n",
        "$$\n",
        "A = \\begin{pmatrix}\n",
        "5 & 6 & 2\\\\\n",
        "4 & 7 & 19\\\\\n",
        "0 & 3 & 12\n",
        "\\end{pmatrix}\n",
        "$$\n",
        "\n",
        "$$\n",
        "B = \\begin{pmatrix}\n",
        "14 & -2 & 12\\\\\n",
        "4 & 4 & 5\\\\\n",
        "5 & 5 & 1\n",
        "\\end{pmatrix}\n",
        "$$\n"
      ]
    },
    {
      "cell_type": "markdown",
      "metadata": {
        "id": "uAjtjnH7b2UF"
      },
      "source": [
        "numpy を使うためには import する必要がある。"
      ]
    },
    {
      "cell_type": "code",
      "metadata": {
        "collapsed": true,
        "id": "b3rUpd1mHoKy",
        "colab": {
          "base_uri": "https://localhost:8080/"
        },
        "outputId": "3eb7f931-e631-4f34-a628-ea3b459ec557"
      },
      "source": [
        "import numpy as np\n",
        "A = np.matrix([[5, 6, 2],\n",
        "               [4, 7, 19],\n",
        "               [0, 3, 12]])\n",
        "B = np.matrix([[14, -2, 12],\n",
        "               [4, 4, 5],\n",
        "               [5, 5, 1]])\n",
        "print(A)\n",
        "print(B)"
      ],
      "execution_count": null,
      "outputs": [
        {
          "output_type": "stream",
          "text": [
            "[[ 5  6  2]\n",
            " [ 4  7 19]\n",
            " [ 0  3 12]]\n",
            "[[14 -2 12]\n",
            " [ 4  4  5]\n",
            " [ 5  5  1]]\n"
          ],
          "name": "stdout"
        }
      ]
    },
    {
      "cell_type": "markdown",
      "metadata": {
        "id": "lQB9DUt-dAno"
      },
      "source": [
        "同じことを sympy でやってみると次のようになる。"
      ]
    },
    {
      "cell_type": "code",
      "metadata": {
        "id": "QYkaSJIFcWIW",
        "colab": {
          "base_uri": "https://localhost:8080/",
          "height": 139
        },
        "outputId": "33133a12-b36f-40e0-bae1-1f85787bbbdc"
      },
      "source": [
        "# 同じことを sympy でやってみると\n",
        "from sympy import *\n",
        "A_sympy = Matrix([[5, 6, 2],\n",
        "               [4, 7, 19],\n",
        "               [0, 3, 12]])\n",
        "B_sympy = Matrix([[14, -2, 12],\n",
        "               [4, 4, 5],\n",
        "               [5, 5, 1]])\n",
        "display(A_sympy)\n",
        "display(B_sympy)"
      ],
      "execution_count": null,
      "outputs": [
        {
          "output_type": "display_data",
          "data": {
            "text/latex": "$\\displaystyle \\left[\\begin{matrix}5 & 6 & 2\\\\4 & 7 & 19\\\\0 & 3 & 12\\end{matrix}\\right]$",
            "text/plain": [
              "Matrix([\n",
              "[5, 6,  2],\n",
              "[4, 7, 19],\n",
              "[0, 3, 12]])"
            ]
          },
          "metadata": {
            "tags": []
          }
        },
        {
          "output_type": "display_data",
          "data": {
            "text/latex": "$\\displaystyle \\left[\\begin{matrix}14 & -2 & 12\\\\4 & 4 & 5\\\\5 & 5 & 1\\end{matrix}\\right]$",
            "text/plain": [
              "Matrix([\n",
              "[14, -2, 12],\n",
              "[ 4,  4,  5],\n",
              "[ 5,  5,  1]])"
            ]
          },
          "metadata": {
            "tags": []
          }
        }
      ]
    },
    {
      "cell_type": "markdown",
      "metadata": {
        "id": "jwCCQLYtHoK5"
      },
      "source": [
        "次の計算をする\n",
        "\n",
        "* $5A$\n",
        "* $A ^ 3$ \n",
        "* $A + B$;\n",
        "* $A - B$;\n",
        "* $AB$"
      ]
    },
    {
      "cell_type": "code",
      "metadata": {
        "id": "YtoSE6i8HoK6",
        "colab": {
          "base_uri": "https://localhost:8080/"
        },
        "outputId": "f3d62fc1-227e-4ee0-8fc5-7a460747f5c7"
      },
      "source": [
        "print(A)\n",
        "print(5 * A)\n",
        "print(A**2)\n",
        "print(A**3)\n",
        "print(A+B)\n",
        "print(A-B)\n",
        "print(A*B)\n"
      ],
      "execution_count": null,
      "outputs": [
        {
          "output_type": "stream",
          "text": [
            "[[ 5  6  2]\n",
            " [ 4  7 19]\n",
            " [ 0  3 12]]\n",
            "[[25 30 10]\n",
            " [20 35 95]\n",
            " [ 0 15 60]]\n",
            "[[ 49  78 148]\n",
            " [ 48 130 369]\n",
            " [ 12  57 201]]\n",
            "[[ 557 1284 3356]\n",
            " [ 760 2305 6994]\n",
            " [ 288 1074 3519]]\n",
            "[[19  4 14]\n",
            " [ 8 11 24]\n",
            " [ 5  8 13]]\n",
            "[[ -9   8 -10]\n",
            " [  0   3  14]\n",
            " [ -5  -2  11]]\n",
            "[[104  24  92]\n",
            " [179 115 102]\n",
            " [ 72  72  27]]\n"
          ],
          "name": "stdout"
        }
      ]
    },
    {
      "cell_type": "markdown",
      "metadata": {
        "id": "JP99May5QUS5"
      },
      "source": [
        "# いまここ"
      ]
    },
    {
      "cell_type": "markdown",
      "metadata": {
        "id": "OSFr-a3rHoK_"
      },
      "source": [
        "---\n",
        "練習問題 $\\quad$  Compute $A ^ 2 - 2 A + 3$ with:\n",
        "\n",
        "$$A = \n",
        "\\begin{pmatrix}\n",
        "1 & -1\\\\\n",
        "2 & 1\n",
        "\\end{pmatrix}\n",
        "$$\n",
        "\n",
        "---\n",
        "\n",
        "## Solving Matrix equations\n",
        "\n",
        "We can use Numpy to (efficiently) solve large systems of equations of the form:\n",
        "\n",
        "$$Ax=b$$\n",
        "\n",
        "Let us illustrate that with:\n",
        "\n",
        "$$\n",
        "A = \\begin{pmatrix}\n",
        "5 & 6 & 2\\\\\n",
        "4 & 7 & 19\\\\\n",
        "0 & 3 & 12\n",
        "\\end{pmatrix}\n",
        "$$\n",
        "\n",
        "$$\n",
        "b = \\begin{pmatrix}\n",
        "-1\\\\\n",
        "2\\\\\n",
        "1 \n",
        "\\end{pmatrix}\n",
        "$$"
      ]
    },
    {
      "cell_type": "code",
      "metadata": {
        "collapsed": true,
        "id": "2DBFzp5mHoLA"
      },
      "source": [
        "A = np.matrix([[5, 6, 2],\n",
        "               [4, 7, 19],\n",
        "               [0, 3, 12]])\n",
        "b = np.matrix([[-1], [2], [1]])"
      ],
      "execution_count": null,
      "outputs": []
    },
    {
      "cell_type": "markdown",
      "metadata": {
        "id": "SzEiL4s8HoLB"
      },
      "source": [
        "We use the `linalg.solve` command:"
      ]
    },
    {
      "cell_type": "code",
      "metadata": {
        "id": "N9LGciAuHoLB",
        "outputId": "cb0c1903-2a0a-4c38-cef6-30beae8e32a5"
      },
      "source": [
        "x = np.linalg.solve(A, b)\n",
        "x"
      ],
      "execution_count": null,
      "outputs": [
        {
          "output_type": "execute_result",
          "data": {
            "text/plain": [
              "matrix([[ 0.45736434],\n",
              "        [-0.62790698],\n",
              "        [ 0.24031008]])"
            ]
          },
          "metadata": {
            "tags": []
          },
          "execution_count": 33
        }
      ]
    },
    {
      "cell_type": "markdown",
      "metadata": {
        "id": "vbnQWWE9HoLC"
      },
      "source": [
        "We can verify our result:"
      ]
    },
    {
      "cell_type": "code",
      "metadata": {
        "id": "MGyIym8XHoLD",
        "outputId": "083180b5-7050-4f2d-ab04-77104a999d9b"
      },
      "source": [
        "A * x"
      ],
      "execution_count": null,
      "outputs": [
        {
          "output_type": "execute_result",
          "data": {
            "text/plain": [
              "matrix([[-1.],\n",
              "        [ 2.],\n",
              "        [ 1.]])"
            ]
          },
          "metadata": {
            "tags": []
          },
          "execution_count": 34
        }
      ]
    },
    {
      "cell_type": "markdown",
      "metadata": {
        "id": "zoGbPDDxHoLG"
      },
      "source": [
        "---\n",
        "練習問題 $\\quad$  行列方程式 $Bx=b$ を解く。\n",
        "\n"
      ]
    },
    {
      "cell_type": "markdown",
      "metadata": {
        "id": "piSftDcOOoPH"
      },
      "source": [
        "---\n",
        "# 逆行列と行列式を求める\n",
        "\n",
        "逆行列は次のようにして求められる。"
      ]
    },
    {
      "cell_type": "code",
      "metadata": {
        "id": "RVF97g2XHoLH",
        "outputId": "3d69f902-c10e-40e3-dbe7-fd51a848d8a6"
      },
      "source": [
        "# 逆行列は inv を使って求める\n",
        "Ainv = np.linalg.inv(A)\n",
        "Ainv"
      ],
      "execution_count": null,
      "outputs": [
        {
          "output_type": "execute_result",
          "data": {
            "text/plain": [
              "matrix([[-0.20930233,  0.51162791, -0.7751938 ],\n",
              "        [ 0.37209302, -0.46511628,  0.6744186 ],\n",
              "        [-0.09302326,  0.11627907, -0.08527132]])"
            ]
          },
          "metadata": {
            "tags": []
          },
          "execution_count": 35
        }
      ]
    },
    {
      "cell_type": "markdown",
      "metadata": {
        "id": "xV1mxf5ZHoLH"
      },
      "source": [
        "$A^{-1}A=\\mathbb{1}$ となることを確認する。"
      ]
    },
    {
      "cell_type": "code",
      "metadata": {
        "tags": [
          "nbval-ignore-output"
        ],
        "id": "eXzS6S9SHoLI",
        "outputId": "39c6a700-71de-47c5-dc8f-ff7db9e136dc"
      },
      "source": [
        "A * Ainv"
      ],
      "execution_count": null,
      "outputs": [
        {
          "output_type": "execute_result",
          "data": {
            "text/plain": [
              "matrix([[  1.00000000e+00,   2.77555756e-17,   3.05311332e-16],\n",
              "        [ -2.08166817e-16,   1.00000000e+00,  -2.08166817e-16],\n",
              "        [  5.55111512e-17,  -5.55111512e-17,   1.00000000e+00]])"
            ]
          },
          "metadata": {
            "tags": []
          },
          "execution_count": 36
        }
      ]
    },
    {
      "cell_type": "markdown",
      "metadata": {
        "id": "vi-yRIPaHoLI"
      },
      "source": [
        "若干見にくいが、[[1,0,0],[0,1,0],[0,0,1]] であることがわかる。\n"
      ]
    },
    {
      "cell_type": "markdown",
      "metadata": {
        "id": "ACXaIUNtHoLI"
      },
      "source": [
        "行列式は次のように求める。"
      ]
    },
    {
      "cell_type": "code",
      "metadata": {
        "tags": [
          "nbval-ignore-output"
        ],
        "id": "mlJrHXleHoLJ",
        "colab": {
          "base_uri": "https://localhost:8080/"
        },
        "outputId": "9d0a8f1d-c928-44ee-85f0-eda5833bf794"
      },
      "source": [
        "# 行列式\n",
        "np.linalg.det(A)"
      ],
      "execution_count": null,
      "outputs": [
        {
          "output_type": "execute_result",
          "data": {
            "text/plain": [
              "-129.00000000000009"
            ]
          },
          "metadata": {
            "tags": []
          },
          "execution_count": 9
        }
      ]
    },
    {
      "cell_type": "markdown",
      "metadata": {
        "id": "OvqzYu7sHoLJ"
      },
      "source": [
        "---\n",
        "\n",
        "練習問題 $\\quad$ 行列 $B$ の逆行列と行列式を求める。\n",
        "\n"
      ]
    },
    {
      "cell_type": "markdown",
      "metadata": {
        "id": "5411LOyyQIqY"
      },
      "source": [
        ""
      ]
    }
  ]
}