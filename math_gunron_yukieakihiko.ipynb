{
  "nbformat": 4,
  "nbformat_minor": 0,
  "metadata": {
    "colab": {
      "name": "math_gunron_yukieakihiko.ipynb",
      "provenance": [],
      "toc_visible": true,
      "authorship_tag": "ABX9TyM2epcyAtk9LMKF49vS2tqo",
      "include_colab_link": true
    },
    "kernelspec": {
      "name": "python3",
      "display_name": "Python 3"
    },
    "language_info": {
      "name": "python"
    }
  },
  "cells": [
    {
      "cell_type": "markdown",
      "metadata": {
        "id": "view-in-github",
        "colab_type": "text"
      },
      "source": [
        "<a href=\"https://colab.research.google.com/github/kalz2q/mycolabnotebooks/blob/master/math_gunron_yukieakihiko.ipynb\" target=\"_parent\"><img src=\"https://colab.research.google.com/assets/colab-badge.svg\" alt=\"Open In Colab\"/></a>"
      ]
    },
    {
      "cell_type": "markdown",
      "metadata": {
        "id": "972gqWX22_8I"
      },
      "source": [
        "# メモ\n",
        "\n",
        "代数学1群論入門\n",
        "\n",
        "雪江明彦\n",
        "\n",
        "を読む\n"
      ]
    },
    {
      "cell_type": "markdown",
      "metadata": {
        "id": "8Q5MyrJ72-qn"
      },
      "source": [
        "# 集合論"
      ]
    },
    {
      "cell_type": "markdown",
      "metadata": {
        "id": "W7wLbKHE3M-O"
      },
      "source": [
        "自然数 (0 を含む)、整数、有理数、実数、複素数\n",
        "\n",
        "$\\mathbb{N,Z,Q,R,C}$\n",
        "\n",
        "空集合 $\\emptyset$\n",
        "\n",
        "$A \\cup B, A \\cap B$ は和集合、共通集合\n",
        "\n",
        "$A \\backslash B$ は $A$ の元であって $B$ の元でないものの集合\n",
        "\n",
        "$A \\subset B$ は $A = B$ を含むとする。\n",
        "\n",
        "$A \\subsetneq B$"
      ]
    }
  ]
}