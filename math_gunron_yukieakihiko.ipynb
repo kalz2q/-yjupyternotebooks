{
  "nbformat": 4,
  "nbformat_minor": 0,
  "metadata": {
    "colab": {
      "name": "math_gunron_yukieakihiko.ipynb",
      "provenance": [],
      "toc_visible": true,
      "authorship_tag": "ABX9TyPkc6aiubCpRY+UwcgL/Wlm",
      "include_colab_link": true
    },
    "kernelspec": {
      "name": "python3",
      "display_name": "Python 3"
    },
    "language_info": {
      "name": "python"
    }
  },
  "cells": [
    {
      "cell_type": "markdown",
      "metadata": {
        "id": "view-in-github",
        "colab_type": "text"
      },
      "source": [
        "<a href=\"https://colab.research.google.com/github/kalz2q/mycolabnotebooks/blob/master/math_gunron_yukieakihiko.ipynb\" target=\"_parent\"><img src=\"https://colab.research.google.com/assets/colab-badge.svg\" alt=\"Open In Colab\"/></a>"
      ]
    },
    {
      "cell_type": "markdown",
      "metadata": {
        "id": "972gqWX22_8I"
      },
      "source": [
        "# メモ\n",
        "\n",
        "代数学 1 群論入門\n",
        "\n",
        "雪江明彦\n",
        "\n",
        "を読む\n"
      ]
    },
    {
      "cell_type": "markdown",
      "metadata": {
        "id": "8Q5MyrJ72-qn"
      },
      "source": [
        "# 集合論"
      ]
    },
    {
      "cell_type": "markdown",
      "metadata": {
        "id": "W7wLbKHE3M-O"
      },
      "source": [
        "自然数 (0 を含む)、整数、有理数、実数、複素数\n",
        "\n",
        "$\\mathbb{N,Z,Q,R,C}$\n",
        "\n",
        "空集合 $\\emptyset$\n",
        "\n",
        "$A \\cup B, A \\cap B$ は和集合、共通集合\n",
        "\n",
        "$A \\backslash B$ は $A$ の元であって $B$ の元でないものの集合\n",
        "\n",
        "$A \\subset B$ は $A = B$ を含むとする。\n",
        "\n",
        "$A \\subset B$ で $A \\neq B$ なら、$A$ は $B$ の真部分集合と言い、\n",
        "$A \\subsetneq B$ と書く。 流儀によっては $A \\subset B$ を真部分集合の意味にで使うこともあるので注意が必要である。\n",
        "\n",
        "&nbsp;\n",
        "\n"
      ]
    },
    {
      "cell_type": "markdown",
      "metadata": {
        "id": "g_kaTgQF92iv"
      },
      "source": [
        "$A \\not \\subset B$ は $A \\subset B$ の否定である。つまり、$A \\backslash B$ が空集合でないことを意味する。\n",
        "\n",
        "&nbsp;\n",
        "\n",
        "例えば $A \\cup B, A\\cap B, A \\backslash B$ は次のようになる。"
      ]
    },
    {
      "cell_type": "code",
      "metadata": {
        "colab": {
          "base_uri": "https://localhost:8080/"
        },
        "id": "9u_0ugMm-Y0e",
        "outputId": "769c9dab-63ad-4a38-dc86-a5ca097754d9"
      },
      "source": [
        "A = {1,2,3,4,5}\n",
        "B = {3,4,5,6,7}\n",
        "type (A)\n",
        "print (A)\n",
        "print (B)\n",
        "print (A.union(B))\n",
        "print (A.intersection(B))\n",
        "print (A.difference(B))"
      ],
      "execution_count": 7,
      "outputs": [
        {
          "output_type": "stream",
          "text": [
            "{1, 2, 3, 4, 5}\n",
            "{3, 4, 5, 6, 7}\n",
            "{1, 2, 3, 4, 5, 6, 7}\n",
            "{3, 4, 5}\n",
            "{1, 2}\n"
          ],
          "name": "stdout"
        }
      ]
    },
    {
      "cell_type": "markdown",
      "metadata": {
        "id": "FkmMBVKS_nIP"
      },
      "source": [
        "**直積** $\\quad A, B$ が集合のとき、"
      ]
    }
  ]
}