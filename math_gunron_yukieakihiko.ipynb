{
  "nbformat": 4,
  "nbformat_minor": 0,
  "metadata": {
    "colab": {
      "name": "math_gunron_yukieakihiko.ipynb",
      "provenance": [],
      "toc_visible": true,
      "authorship_tag": "ABX9TyPrI2eIeFsoc5TkVMHbxKpa",
      "include_colab_link": true
    },
    "kernelspec": {
      "name": "python3",
      "display_name": "Python 3"
    },
    "language_info": {
      "name": "python"
    }
  },
  "cells": [
    {
      "cell_type": "markdown",
      "metadata": {
        "id": "view-in-github",
        "colab_type": "text"
      },
      "source": [
        "<a href=\"https://colab.research.google.com/github/kalz2q/mycolabnotebooks/blob/master/math_gunron_yukieakihiko.ipynb\" target=\"_parent\"><img src=\"https://colab.research.google.com/assets/colab-badge.svg\" alt=\"Open In Colab\"/></a>"
      ]
    },
    {
      "cell_type": "markdown",
      "metadata": {
        "id": "972gqWX22_8I"
      },
      "source": [
        "# メモ\n",
        "\n",
        "代数学 1 群論入門\n",
        "\n",
        "雪江明彦\n",
        "\n",
        "を読む\n"
      ]
    },
    {
      "cell_type": "markdown",
      "metadata": {
        "id": "8Q5MyrJ72-qn"
      },
      "source": [
        "# 集合論"
      ]
    },
    {
      "cell_type": "markdown",
      "metadata": {
        "id": "W7wLbKHE3M-O"
      },
      "source": [
        "自然数 (0 を含む)、整数、有理数、実数、複素数\n",
        "\n",
        "$\\mathbb{N,Z,Q,R,C}$\n",
        "\n",
        "空集合 $\\emptyset$\n",
        "\n",
        "$A \\cup B, A \\cap B$ は和集合、共通集合\n",
        "\n",
        "$A \\backslash B$ は $A$ の元であって $B$ の元でないものの集合\n",
        "\n",
        "$A \\subset B$ は $A = B$ を含むとする。\n",
        "\n",
        "$A \\subset B$ で $A \\neq B$ なら、$A$ は $B$ の真部分集合と言い、\n",
        "$A \\subsetneq B$ と書く。 流儀によっては $A \\subset B$ を真部分集合の意味にで使うこともあるので注意が必要である。\n",
        "\n",
        "&nbsp;\n",
        "\n"
      ]
    },
    {
      "cell_type": "markdown",
      "metadata": {
        "id": "g_kaTgQF92iv"
      },
      "source": [
        "$A \\not \\subset B$ は $A \\subset B$ の否定である。つまり、$A \\backslash B$ が空集合でないことを意味する。\n",
        "\n",
        "&nbsp;\n",
        "\n",
        "例えば $A \\cup B, A\\cap B, A \\backslash B$ は次のようになる。"
      ]
    },
    {
      "cell_type": "code",
      "metadata": {
        "colab": {
          "base_uri": "https://localhost:8080/"
        },
        "id": "9u_0ugMm-Y0e",
        "outputId": "769c9dab-63ad-4a38-dc86-a5ca097754d9"
      },
      "source": [
        "A = {1,2,3,4,5}\n",
        "B = {3,4,5,6,7}\n",
        "type (A)\n",
        "print (A)\n",
        "print (B)\n",
        "print (A.union(B))\n",
        "print (A.intersection(B))\n",
        "print (A.difference(B))"
      ],
      "execution_count": 7,
      "outputs": [
        {
          "output_type": "stream",
          "text": [
            "{1, 2, 3, 4, 5}\n",
            "{3, 4, 5, 6, 7}\n",
            "{1, 2, 3, 4, 5, 6, 7}\n",
            "{3, 4, 5}\n",
            "{1, 2}\n"
          ],
          "name": "stdout"
        }
      ]
    },
    {
      "cell_type": "markdown",
      "metadata": {
        "id": "FkmMBVKS_nIP"
      },
      "source": [
        "**直積** $\\quad A, B$ が集合のとき、集合の直積 $A \\times B$とは、$(a,b) \\;\\; (a \\in A, \\;\\; b \\in B)$ という組からなる集合のことである。 この場合、$A,B$ のことを直積因子と言う。"
      ]
    },
    {
      "cell_type": "code",
      "metadata": {
        "id": "YB_wzNfIX6F5",
        "outputId": "cb1cd22f-9f96-4fea-b742-8df41a14cb36",
        "colab": {
          "base_uri": "https://localhost:8080/"
        }
      },
      "source": [
        "# python の set を使ってみる\n",
        "A = {1,2,3}\n",
        "print (type(A))\n",
        "print (A)"
      ],
      "execution_count": 18,
      "outputs": [
        {
          "output_type": "stream",
          "text": [
            "<class 'set'>\n",
            "{1, 2, 3}\n"
          ],
          "name": "stdout"
        }
      ]
    },
    {
      "cell_type": "code",
      "metadata": {
        "id": "sdrQPKU6VyyJ",
        "outputId": "bd043ac8-cb33-4b28-a12c-526dc629e32e",
        "colab": {
          "base_uri": "https://localhost:8080/"
        }
      },
      "source": [
        "# こういうことか? \n",
        "A = {1,2,3}\n",
        "B = {4,5,6}\n",
        "C = [(a,b) for a in A for b in B] # list comprehension 内包表記で書ける\n",
        "D = set(C)\n",
        "print (C)\n",
        "print (D)\n",
        "print (len(C))\n",
        "print (len(D))"
      ],
      "execution_count": 12,
      "outputs": [
        {
          "output_type": "stream",
          "text": [
            "[(1, 4), (1, 5), (1, 6), (2, 4), (2, 5), (2, 6), (3, 4), (3, 5), (3, 6)]\n",
            "{(2, 6), (1, 4), (1, 5), (1, 6), (3, 6), (2, 5), (3, 4), (2, 4), (3, 5)}\n",
            "9\n",
            "9\n"
          ],
          "name": "stdout"
        }
      ]
    },
    {
      "cell_type": "code",
      "metadata": {
        "id": "yPZjsYYMWx9-",
        "outputId": "a3e3ca07-98c8-459f-8796-b6b7ff9d8599",
        "colab": {
          "base_uri": "https://localhost:8080/"
        }
      },
      "source": [
        "#実験\n",
        "A = {1,2,3}\n",
        "B = {3,2,1}\n",
        "C = [(a,b) for a in A for b in B]\n",
        "D = set(C)\n",
        "print (C)\n",
        "print (D)\n",
        "print (len(C))\n",
        "print (len(D))"
      ],
      "execution_count": 19,
      "outputs": [
        {
          "output_type": "stream",
          "text": [
            "[(1, 1), (1, 2), (1, 3), (2, 1), (2, 2), (2, 3), (3, 1), (3, 2), (3, 3)]\n",
            "{(1, 2), (3, 2), (1, 3), (3, 3), (3, 1), (2, 1), (2, 3), (2, 2), (1, 1)}\n",
            "9\n",
            "9\n"
          ],
          "name": "stdout"
        }
      ]
    }
  ]
}