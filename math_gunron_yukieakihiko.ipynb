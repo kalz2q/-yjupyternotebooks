{
  "nbformat": 4,
  "nbformat_minor": 0,
  "metadata": {
    "colab": {
      "name": "math_gunron_yukieakihiko.ipynb",
      "provenance": [],
      "authorship_tag": "ABX9TyPNfxGzd+XjsT8FSnp5eqm1",
      "include_colab_link": true
    },
    "kernelspec": {
      "name": "python3",
      "display_name": "Python 3"
    },
    "language_info": {
      "name": "python"
    }
  },
  "cells": [
    {
      "cell_type": "markdown",
      "metadata": {
        "id": "view-in-github",
        "colab_type": "text"
      },
      "source": [
        "<a href=\"https://colab.research.google.com/github/kalz2q/mycolabnotebooks/blob/master/math_gunron_yukieakihiko.ipynb\" target=\"_parent\"><img src=\"https://colab.research.google.com/assets/colab-badge.svg\" alt=\"Open In Colab\"/></a>"
      ]
    },
    {
      "cell_type": "code",
      "metadata": {
        "id": "8Q5MyrJ72-qn"
      },
      "source": [
        ""
      ],
      "execution_count": null,
      "outputs": []
    },
    {
      "cell_type": "markdown",
      "metadata": {
        "id": "972gqWX22_8I"
      },
      "source": [
        "# メモ\n",
        "\n",
        "代数学1群論入門\n",
        "\n",
        "雪江明彦\n",
        "\n",
        "を読む\n"
      ]
    },
    {
      "cell_type": "code",
      "metadata": {
        "id": "W7wLbKHE3M-O"
      },
      "source": [
        ""
      ],
      "execution_count": null,
      "outputs": []
    }
  ]
}