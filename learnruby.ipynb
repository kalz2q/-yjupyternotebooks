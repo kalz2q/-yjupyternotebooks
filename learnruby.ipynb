{
  "nbformat": 4,
  "nbformat_minor": 0,
  "metadata": {
    "colab": {
      "name": "learnruby.ipynb",
      "provenance": [],
      "toc_visible": true,
      "authorship_tag": "ABX9TyMe/OvVdvLYy0KX8stR4DhK",
      "include_colab_link": true
    },
    "kernelspec": {
      "name": "python3",
      "display_name": "Python 3"
    }
  },
  "cells": [
    {
      "cell_type": "markdown",
      "metadata": {
        "id": "view-in-github",
        "colab_type": "text"
      },
      "source": [
        "<a href=\"https://colab.research.google.com/github/kalz2q/mycolabnotebooks/blob/master/learnruby.ipynb\" target=\"_parent\"><img src=\"https://colab.research.google.com/assets/colab-badge.svg\" alt=\"Open In Colab\"/></a>"
      ]
    },
    {
      "cell_type": "markdown",
      "metadata": {
        "id": "2WEEN5UxRoro"
      },
      "source": [
        "# メモ\n",
        "1. Colab の環境で ruby をインストールすると %%ruby というセルコマンドで ruby が使えるようになる。\n",
        "1. これを利用して Colab で ruby を学ぶ。\n",
        "1. 参考サイト  \n",
        "https://www.ruby-lang.org/ja/documentation/quickstart/"
      ]
    },
    {
      "cell_type": "code",
      "metadata": {
        "id": "o6fSwbNiRwg3"
      },
      "source": [
        "%%capture\n",
        "!apt install ruby"
      ],
      "execution_count": 7,
      "outputs": []
    },
    {
      "cell_type": "code",
      "metadata": {
        "colab": {
          "base_uri": "https://localhost:8080/"
        },
        "id": "f5rlScpXSFFX",
        "outputId": "18fe3da7-989f-4e6d-91db-aaa2e79b0c75"
      },
      "source": [
        "%%ruby\n",
        "puts \"hello ruby\""
      ],
      "execution_count": 9,
      "outputs": [
        {
          "output_type": "stream",
          "text": [
            "hello ruby\n"
          ],
          "name": "stdout"
        }
      ]
    },
    {
      "cell_type": "code",
      "metadata": {
        "id": "qx04Sk4hTVfg"
      },
      "source": [
        "%%ruby\n",
        "\"hello ruby2\""
      ],
      "execution_count": 10,
      "outputs": []
    },
    {
      "cell_type": "markdown",
      "metadata": {
        "id": "vZH5LbUHTcO2"
      },
      "source": [
        "ruby のインタラクティブ環境の irb では文字列や数値などのリテラルはそのまま返されるが、Colab では puts としないと出力されない。\n",
        "ruby の導入のテキストは irb を使っているものが多いので注意する。\n"
      ]
    },
    {
      "cell_type": "code",
      "metadata": {
        "colab": {
          "base_uri": "https://localhost:8080/"
        },
        "id": "WV_dNdFsUA92",
        "outputId": "1e632518-c171-4f06-d1df-c5081c5a151d"
      },
      "source": [
        "%%ruby\n",
        "puts 3+2"
      ],
      "execution_count": 12,
      "outputs": [
        {
          "output_type": "stream",
          "text": [
            "5\n"
          ],
          "name": "stdout"
        }
      ]
    },
    {
      "cell_type": "code",
      "metadata": {
        "colab": {
          "base_uri": "https://localhost:8080/"
        },
        "id": "SkI9v46CUFet",
        "outputId": "a6bf44e6-760d-4ca9-8490-0c8fa8bf5eca"
      },
      "source": [
        "# 実験\n",
        "%%ruby\n",
        "puts (3+2)\n",
        "puts \"呪術\"+\"廻戦\""
      ],
      "execution_count": 18,
      "outputs": [
        {
          "output_type": "stream",
          "text": [
            "5\n",
            "呪術廻戦\n"
          ],
          "name": "stdout"
        }
      ]
    },
    {
      "cell_type": "code",
      "metadata": {
        "colab": {
          "base_uri": "https://localhost:8080/"
        },
        "id": "T2yoIeoPUzii",
        "outputId": "d779dfc3-6878-4a02-d23e-c42b47750cb6"
      },
      "source": [
        "%%ruby\n",
        "puts 2**3\n",
        "puts 2.0**3\n",
        "puts Math.sqrt(256)\n",
        "puts 5/2\n",
        "puts 5%2 # コメントは python と同じシャープ"
      ],
      "execution_count": 27,
      "outputs": [
        {
          "output_type": "stream",
          "text": [
            "8\n",
            "8.0\n",
            "16.0\n",
            "2\n",
            "1\n"
          ],
          "name": "stdout"
        }
      ]
    },
    {
      "cell_type": "markdown",
      "metadata": {
        "id": "FsJBwFjFUjZm"
      },
      "source": [
        "括弧が使える。 文字列の連結に `+` が使える。"
      ]
    }
  ]
}