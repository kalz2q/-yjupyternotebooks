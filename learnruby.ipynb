{
  "nbformat": 4,
  "nbformat_minor": 0,
  "metadata": {
    "colab": {
      "name": "learnruby.ipynb",
      "provenance": [],
      "toc_visible": true,
      "authorship_tag": "ABX9TyN9QugpvuTRsYzuDN5p8DGd",
      "include_colab_link": true
    },
    "kernelspec": {
      "name": "python3",
      "display_name": "Python 3"
    }
  },
  "cells": [
    {
      "cell_type": "markdown",
      "metadata": {
        "id": "view-in-github",
        "colab_type": "text"
      },
      "source": [
        "<a href=\"https://colab.research.google.com/github/kalz2q/mycolabnotebooks/blob/master/learnruby.ipynb\" target=\"_parent\"><img src=\"https://colab.research.google.com/assets/colab-badge.svg\" alt=\"Open In Colab\"/></a>"
      ]
    },
    {
      "cell_type": "markdown",
      "metadata": {
        "id": "2WEEN5UxRoro"
      },
      "source": [
        "# メモ\n",
        "1. Colab の環境で ruby をインストールすると %%ruby というセルコマンドで ruby が使えるようになる。\n",
        "1. これを利用して Colab で ruby を学ぶ。\n",
        "1. 参考サイト  \n",
        "https://www.ruby-lang.org/ja/documentation/quickstart/"
      ]
    },
    {
      "cell_type": "code",
      "metadata": {
        "id": "o6fSwbNiRwg3"
      },
      "source": [
        "# ruby のインストール。 Could't find ruby というエラーになったら colab 環境がクリアサれているのでこのセルを実行する。 %%capture は出力の抑制。\n",
        "%%capture\n",
        "!apt install ruby"
      ],
      "execution_count": 3,
      "outputs": []
    },
    {
      "cell_type": "code",
      "metadata": {
        "colab": {
          "base_uri": "https://localhost:8080/"
        },
        "id": "f5rlScpXSFFX",
        "outputId": "3a288583-9c14-40f8-e875-9d674a749473"
      },
      "source": [
        "%%ruby\n",
        "puts \"hello ruby\""
      ],
      "execution_count": 1,
      "outputs": [
        {
          "output_type": "stream",
          "text": [
            "Couldn't find program: 'ruby'\n"
          ],
          "name": "stdout"
        }
      ]
    },
    {
      "cell_type": "code",
      "metadata": {
        "id": "qx04Sk4hTVfg"
      },
      "source": [
        "%%ruby\n",
        "\"hello ruby2\""
      ],
      "execution_count": null,
      "outputs": []
    },
    {
      "cell_type": "markdown",
      "metadata": {
        "id": "vZH5LbUHTcO2"
      },
      "source": [
        "ruby のインタラクティブ環境の irb では文字列や数値などのリテラルはそのまま返されるが、Colab では puts としないと出力されない。\n",
        "ruby の導入のテキストは irb を使っているものが多いので注意する。\n"
      ]
    },
    {
      "cell_type": "code",
      "metadata": {
        "colab": {
          "base_uri": "https://localhost:8080/"
        },
        "id": "WV_dNdFsUA92",
        "outputId": "1e632518-c171-4f06-d1df-c5081c5a151d"
      },
      "source": [
        "%%ruby\n",
        "puts 3+2"
      ],
      "execution_count": null,
      "outputs": [
        {
          "output_type": "stream",
          "text": [
            "5\n"
          ],
          "name": "stdout"
        }
      ]
    },
    {
      "cell_type": "code",
      "metadata": {
        "colab": {
          "base_uri": "https://localhost:8080/"
        },
        "id": "SkI9v46CUFet",
        "outputId": "a6bf44e6-760d-4ca9-8490-0c8fa8bf5eca"
      },
      "source": [
        "# 実験\n",
        "%%ruby\n",
        "puts (3+2)\n",
        "puts \"呪術\"+\"廻戦\""
      ],
      "execution_count": null,
      "outputs": [
        {
          "output_type": "stream",
          "text": [
            "5\n",
            "呪術廻戦\n"
          ],
          "name": "stdout"
        }
      ]
    },
    {
      "cell_type": "code",
      "metadata": {
        "colab": {
          "base_uri": "https://localhost:8080/"
        },
        "id": "T2yoIeoPUzii",
        "outputId": "d779dfc3-6878-4a02-d23e-c42b47750cb6"
      },
      "source": [
        "%%ruby\n",
        "puts 2**3\n",
        "puts 2.0**3\n",
        "puts Math.sqrt(256)\n",
        "puts 5/2\n",
        "puts 5%2 # コメントは python と同じシャープ"
      ],
      "execution_count": null,
      "outputs": [
        {
          "output_type": "stream",
          "text": [
            "8\n",
            "8.0\n",
            "16.0\n",
            "2\n",
            "1\n"
          ],
          "name": "stdout"
        }
      ]
    },
    {
      "cell_type": "markdown",
      "metadata": {
        "id": "FsJBwFjFUjZm"
      },
      "source": [
        "括弧が使える。 文字列の連結に `+` が使える。"
      ]
    },
    {
      "cell_type": "code",
      "metadata": {
        "colab": {
          "base_uri": "https://localhost:8080/"
        },
        "id": "F3THJGGRqVKP",
        "outputId": "9458724c-16f5-4e32-8260-c506d123deed"
      },
      "source": [
        "%%ruby\n",
        "a = 3**2\n",
        "b = 4**2\n",
        "puts Math.sqrt(a+b)"
      ],
      "execution_count": 4,
      "outputs": [
        {
          "output_type": "stream",
          "text": [
            "5.0\n"
          ],
          "name": "stdout"
        }
      ]
    },
    {
      "cell_type": "code",
      "metadata": {
        "colab": {
          "base_uri": "https://localhost:8080/"
        },
        "id": "MSjGMFxLrECQ",
        "outputId": "d959f8f3-88ed-4db2-cf04-8a3fcd117fb9"
      },
      "source": [
        "%%ruby\n",
        "def hi\n",
        "puts \"Hello again\"\n",
        "end\n",
        "hi"
      ],
      "execution_count": 8,
      "outputs": [
        {
          "output_type": "stream",
          "text": [
            "Hello again\n"
          ],
          "name": "stdout"
        }
      ]
    },
    {
      "cell_type": "code",
      "metadata": {
        "colab": {
          "base_uri": "https://localhost:8080/"
        },
        "id": "wO23S2AUrZkx",
        "outputId": "a8e7433a-abe5-4c83-8fda-1c08de717b02"
      },
      "source": [
        "# 実験 => エラーになる\n",
        "%%ruby\n",
        "hi"
      ],
      "execution_count": 9,
      "outputs": [
        {
          "output_type": "stream",
          "text": [
            "-:1:in `<main>': undefined local variable or method `hi' for main:Object (NameError)\n"
          ],
          "name": "stderr"
        }
      ]
    },
    {
      "cell_type": "code",
      "metadata": {
        "colab": {
          "base_uri": "https://localhost:8080/"
        },
        "id": "PpMeY9pzrt2z",
        "outputId": "40d3fb58-9730-43b6-e7c1-f5cd66d5b2d9"
      },
      "source": [
        "# 実験 括弧をつけてみる\n",
        "%%ruby\n",
        "def hi\n",
        "    puts \"Alone again\"\n",
        "end\n",
        "hi()"
      ],
      "execution_count": 11,
      "outputs": [
        {
          "output_type": "stream",
          "text": [
            "Alone again\n"
          ],
          "name": "stdout"
        }
      ]
    },
    {
      "cell_type": "code",
      "metadata": {
        "colab": {
          "base_uri": "https://localhost:8080/"
        },
        "id": "mNygMt5zsGI-",
        "outputId": "6369ca49-c018-4902-bb43-9b0d26e30332"
      },
      "source": [
        "%%ruby\n",
        "def hi(name)\n",
        "puts \"Hello #{name}!\"\n",
        "end\n",
        "hi(\"Matz\")"
      ],
      "execution_count": 12,
      "outputs": [
        {
          "output_type": "stream",
          "text": [
            "Hello Matz!\n"
          ],
          "name": "stdout"
        }
      ]
    },
    {
      "cell_type": "code",
      "metadata": {
        "colab": {
          "base_uri": "https://localhost:8080/"
        },
        "id": "BPecdHO3sW0K",
        "outputId": "7143b603-8753-48b2-d246-7434ee5b0631"
      },
      "source": [
        "# 実験  #{name} と同じ\n",
        "%%ruby\n",
        "def hi(name)\n",
        "puts \"Hello \" + name\n",
        "end\n",
        "hi(\"Matz\")"
      ],
      "execution_count": 16,
      "outputs": [
        {
          "output_type": "stream",
          "text": [
            "Hello Matz\n"
          ],
          "name": "stdout"
        }
      ]
    },
    {
      "cell_type": "code",
      "metadata": {
        "colab": {
          "base_uri": "https://localhost:8080/"
        },
        "id": "DhtN58HyuXTn",
        "outputId": "7b116d80-bd26-455d-8d25-6ca9d093b472"
      },
      "source": [
        "%%ruby\n",
        "def hi(name = \"World\")\n",
        "puts \"Hello #{name.capitalize}!\"\n",
        "end\n",
        "hi \"chris\"\n",
        "hi"
      ],
      "execution_count": 18,
      "outputs": [
        {
          "output_type": "stream",
          "text": [
            "Hello Chris!\n",
            "Hello World!\n"
          ],
          "name": "stdout"
        }
      ]
    },
    {
      "cell_type": "code",
      "metadata": {
        "colab": {
          "base_uri": "https://localhost:8080/"
        },
        "id": "Yv7P4gf-upjz",
        "outputId": "ed44f8b3-5b3e-4c4b-de43-46d0372acc60"
      },
      "source": [
        "# 実験\n",
        "%%ruby\n",
        "def shout(name = \"World\")\n",
        "puts \"Hello #{name}!!!!!\".upcase\n",
        "end\n",
        "shout \"chris\"\n",
        "shout"
      ],
      "execution_count": 23,
      "outputs": [
        {
          "output_type": "stream",
          "text": [
            "HELLO CHRIS!!!!!\n",
            "HELLO WORLD!!!!!\n"
          ],
          "name": "stdout"
        }
      ]
    },
    {
      "cell_type": "code",
      "metadata": {
        "colab": {
          "base_uri": "https://localhost:8080/"
        },
        "id": "dXOD3rIuvcuR",
        "outputId": "33c2a366-5c6e-4db5-dae8-75707c88d4b6"
      },
      "source": [
        "%%ruby\n",
        "class Greeter\n",
        "  def initialize(name = \"World\")\n",
        "    @name = name\n",
        "  end\n",
        "  def say_hi\n",
        "    puts \"Hi #{@name}!\"\n",
        "  end\n",
        "  def say_bye\n",
        "    puts \"Bye #{@name}, come back soon.\"\n",
        "  end\n",
        "end\n",
        "greeter = Greeter.new('Pat')\n",
        "greeter.say_hi\n",
        "greeter.say_bye"
      ],
      "execution_count": 26,
      "outputs": [
        {
          "output_type": "stream",
          "text": [
            "Hi Pat!\n",
            "Bye Pat, come back soon.\n"
          ],
          "name": "stdout"
        }
      ]
    },
    {
      "cell_type": "code",
      "metadata": {
        "colab": {
          "base_uri": "https://localhost:8080/"
        },
        "id": "bMxHoMuVwTS8",
        "outputId": "c23021cf-e799-4415-f6e7-afc34cd374ba"
      },
      "source": [
        "%%ruby\n",
        "class Greeter\n",
        "  def initialize(name = \"World\")\n",
        "    @name = name\n",
        "  end\n",
        "  def say_hi\n",
        "    puts \"Hi #{@name}!\"\n",
        "  end\n",
        "  def say_bye\n",
        "    puts \"Bye #{@name}, come back soon.\"\n",
        "  end\n",
        "end\n",
        "\n",
        "puts Greeter.instance_methods(false)"
      ],
      "execution_count": 28,
      "outputs": [
        {
          "output_type": "stream",
          "text": [
            "say_hi\n",
            "say_bye\n"
          ],
          "name": "stdout"
        }
      ]
    },
    {
      "cell_type": "code",
      "metadata": {
        "id": "fbW2VNp5Rh0O",
        "outputId": "b3616106-c3f8-4cff-cbcb-92ae127c19be",
        "colab": {
          "base_uri": "https://localhost:8080/"
        }
      },
      "source": [
        "%%ruby\n",
        "class Greeter\n",
        "  def initialize(name = \"World\")\n",
        "    @name = name\n",
        "  end\n",
        "  def say_hi\n",
        "    puts \"Hi #{@name}!\"\n",
        "  end\n",
        "  def say_bye\n",
        "    puts \"Bye #{@name}, come back soon.\"\n",
        "  end\n",
        "end\n",
        "greeter = Greeter.new()\n",
        "\n",
        "puts greeter.respond_to?(\"name\")\n",
        "puts greeter.respond_to?(\"say_hi\")\n",
        "puts greeter.respond_to?(\"to_s\")"
      ],
      "execution_count": 31,
      "outputs": [
        {
          "output_type": "stream",
          "text": [
            "false\n",
            "true\n",
            "true\n"
          ],
          "name": "stdout"
        }
      ]
    },
    {
      "cell_type": "markdown",
      "metadata": {
        "id": "UiiFp6pySCvG"
      },
      "source": [
        "# クラスは後から変更できる"
      ]
    },
    {
      "cell_type": "code",
      "metadata": {
        "id": "elDyk8ghSM-k",
        "outputId": "5b62334b-c721-4d75-aeae-f48614e96cd4",
        "colab": {
          "base_uri": "https://localhost:8080/"
        }
      },
      "source": [
        "%%ruby\n",
        "class Greeter\n",
        "  def initialize(name = \"World\")\n",
        "    @name = name\n",
        "  end\n",
        "  def say_hi\n",
        "    puts \"Hi #{@name}!\"\n",
        "  end\n",
        "  def say_bye\n",
        "    puts \"Bye #{@name}, come back soon.\"\n",
        "  end\n",
        "end\n",
        "greeter = Greeter.new()\n",
        "\n",
        "puts greeter.respond_to?(\"name\")\n",
        "puts greeter.respond_to?(\"say_hi\")\n",
        "puts greeter.respond_to?(\"to_s\")\n",
        "puts\n",
        "\n",
        "# クラスは後から変更できる\n",
        "class Greeter\n",
        "  attr_accessor :name\n",
        "end\n",
        "\n",
        "greeter = Greeter.new(\"Andy\")\n",
        "puts greeter.respond_to?(\"name\")\n",
        "puts greeter.respond_to?(\"name=\")\n",
        "puts greeter.say_hi\n",
        "puts greeter.name=\"Betty\"\n",
        "puts greeter.name\n",
        "puts greeter.say_hi\n"
      ],
      "execution_count": 35,
      "outputs": [
        {
          "output_type": "stream",
          "text": [
            "false\n",
            "true\n",
            "true\n",
            "\n",
            "true\n",
            "true\n",
            "Hi Andy!\n",
            "\n",
            "Betty\n",
            "Betty\n",
            "Hi Betty!\n",
            "\n"
          ],
          "name": "stdout"
        }
      ]
    },
    {
      "cell_type": "code",
      "metadata": {
        "id": "PHuEz7vfTlYT",
        "outputId": "ca6b2cab-42c7-4265-f322-2e0d438b4736",
        "colab": {
          "base_uri": "https://localhost:8080/"
        }
      },
      "source": [
        "# 実験 すでに作ったインスタンスはあとからクラスを変えて変わるか\n",
        "%%ruby\n",
        "class Greeter\n",
        "  def initialize(name = \"World\")\n",
        "    @name = name\n",
        "  end\n",
        "  def say_hi\n",
        "    puts \"Hi #{@name}!\"\n",
        "  end\n",
        "  def say_bye\n",
        "    puts \"Bye #{@name}, come back soon.\"\n",
        "  end\n",
        "end\n",
        "greeter = Greeter.new()\n",
        "\n",
        "puts greeter.respond_to?(\"name\")\n",
        "puts greeter.respond_to?(\"say_hi\")\n",
        "puts greeter.respond_to?(\"to_s\")\n",
        "puts\n",
        "\n",
        "# クラスは後から変更できる\n",
        "class Greeter\n",
        "  attr_accessor :name\n",
        "end\n",
        "\n",
        "puts greeter.respond_to?(\"name\")\n",
        "puts greeter.respond_to?(\"say_hi\")\n",
        "puts greeter.respond_to?(\"to_s\")\n",
        "\n",
        "puts greeter.name\n"
      ],
      "execution_count": 38,
      "outputs": [
        {
          "output_type": "stream",
          "text": [
            "false\n",
            "true\n",
            "true\n",
            "\n",
            "true\n",
            "true\n",
            "true\n",
            "World\n"
          ],
          "name": "stdout"
        }
      ]
    },
    {
      "cell_type": "markdown",
      "metadata": {
        "id": "ZhPmIycTUdDN"
      },
      "source": [
        "# ファイルにプログラムを書いて実行する"
      ]
    },
    {
      "cell_type": "code",
      "metadata": {
        "id": "5LLwSpwsUhOE",
        "outputId": "b914180a-050a-44eb-9b21-fbb5675908e3",
        "colab": {
          "base_uri": "https://localhost:8080/"
        }
      },
      "source": [
        "%%writefile ri20min.rb\n",
        "#!/usr/bin/env ruby\n",
        "\n",
        "class MegaGreeter\n",
        "  attr_accessor :names\n",
        "\n",
        "  # Create the object\n",
        "  def initialize(names = \"World\")\n",
        "    @names = names\n",
        "  end\n",
        "\n",
        "  # Say hi to everybody\n",
        "  def say_hi\n",
        "    if @names.nil?\n",
        "      puts \"...\"\n",
        "    elsif @names.respond_to?(\"each\")\n",
        "      # @names is a list of some kind, iterate!\n",
        "      @names.each do |name|\n",
        "        puts \"Hello #{name}!\"\n",
        "      end\n",
        "    else\n",
        "      puts \"Hello #{@names}!\"\n",
        "    end\n",
        "  end\n",
        "\n",
        "  # Say bye to everybody\n",
        "  def say_bye\n",
        "    if @names.nil?\n",
        "      puts \"...\"\n",
        "    elsif @names.respond_to?(\"join\")\n",
        "      # Join the list elements with commas\n",
        "      puts \"Goodbye #{@names.join(\", \")}.  Come back soon!\"\n",
        "    else\n",
        "      puts \"Goodbye #{@names}.  Come back soon!\"\n",
        "    end\n",
        "  end\n",
        "end\n",
        "\n",
        "\n",
        "if __FILE__ == $0\n",
        "  mg = MegaGreeter.new\n",
        "  mg.say_hi\n",
        "  mg.say_bye\n",
        "\n",
        "  # Change name to be \"Zeke\"\n",
        "  mg.names = \"Zeke\"\n",
        "  mg.say_hi\n",
        "  mg.say_bye\n",
        "\n",
        "  # Change the name to an array of names\n",
        "  mg.names = [\"Albert\", \"Brenda\", \"Charles\",\n",
        "              \"Dave\", \"Engelbert\"]\n",
        "  mg.say_hi\n",
        "  mg.say_bye\n",
        "\n",
        "  # Change to nil\n",
        "  mg.names = nil\n",
        "  mg.say_hi\n",
        "  mg.say_bye\n",
        "end"
      ],
      "execution_count": 39,
      "outputs": [
        {
          "output_type": "stream",
          "text": [
            "Writing ri20min.rb\n"
          ],
          "name": "stdout"
        }
      ]
    },
    {
      "cell_type": "code",
      "metadata": {
        "id": "zWja1ldxUoEs",
        "outputId": "f94cc2f4-0bbd-4ef5-b0db-ae02a11e3176",
        "colab": {
          "base_uri": "https://localhost:8080/"
        }
      },
      "source": [
        "!ruby ri20min.rb"
      ],
      "execution_count": 40,
      "outputs": [
        {
          "output_type": "stream",
          "text": [
            "Hello World!\n",
            "Goodbye World.  Come back soon!\n",
            "Hello Zeke!\n",
            "Goodbye Zeke.  Come back soon!\n",
            "Hello Albert!\n",
            "Hello Brenda!\n",
            "Hello Charles!\n",
            "Hello Dave!\n",
            "Hello Engelbert!\n",
            "Goodbye Albert, Brenda, Charles, Dave, Engelbert.  Come back soon!\n",
            "...\n",
            "...\n"
          ],
          "name": "stdout"
        }
      ]
    },
    {
      "cell_type": "markdown",
      "metadata": {
        "id": "33t-kTQ9ruNs"
      },
      "source": [
        "# いまここ\n",
        "https://www.ruby-lang.org/ja/documentation/quickstart/3/"
      ]
    }
  ]
}