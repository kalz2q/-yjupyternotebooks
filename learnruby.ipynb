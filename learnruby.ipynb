{
  "nbformat": 4,
  "nbformat_minor": 0,
  "metadata": {
    "colab": {
      "name": "learnruby.ipynb",
      "provenance": [],
      "toc_visible": true,
      "authorship_tag": "ABX9TyPUpl6chYIX0Jp3qugwHcYK",
      "include_colab_link": true
    },
    "kernelspec": {
      "name": "python3",
      "display_name": "Python 3"
    }
  },
  "cells": [
    {
      "cell_type": "markdown",
      "metadata": {
        "id": "view-in-github",
        "colab_type": "text"
      },
      "source": [
        "<a href=\"https://colab.research.google.com/github/kalz2q/mycolabnotebooks/blob/master/learnruby.ipynb\" target=\"_parent\"><img src=\"https://colab.research.google.com/assets/colab-badge.svg\" alt=\"Open In Colab\"/></a>"
      ]
    },
    {
      "cell_type": "markdown",
      "metadata": {
        "id": "2WEEN5UxRoro"
      },
      "source": [
        "# メモ\n",
        "1. Colab の環境で ruby をインストールすると %%ruby というセルコマンドで ruby が使えるようになる。\n",
        "1. これを利用して Colab で ruby を学ぶ。\n",
        "1. 参考サイト  \n",
        "https://www.ruby-lang.org/ja/documentation/quickstart/"
      ]
    },
    {
      "cell_type": "code",
      "metadata": {
        "id": "o6fSwbNiRwg3"
      },
      "source": [
        "# ruby のインストール。 Could't find ruby というエラーになったら colab 環境がクリアサれているのでこのセルを実行する。 %%capture は出力の抑制。\n",
        "%%capture\n",
        "!apt install ruby"
      ],
      "execution_count": 3,
      "outputs": []
    },
    {
      "cell_type": "code",
      "metadata": {
        "colab": {
          "base_uri": "https://localhost:8080/"
        },
        "id": "f5rlScpXSFFX",
        "outputId": "3a288583-9c14-40f8-e875-9d674a749473"
      },
      "source": [
        "%%ruby\n",
        "puts \"hello ruby\""
      ],
      "execution_count": 1,
      "outputs": [
        {
          "output_type": "stream",
          "text": [
            "Couldn't find program: 'ruby'\n"
          ],
          "name": "stdout"
        }
      ]
    },
    {
      "cell_type": "code",
      "metadata": {
        "id": "qx04Sk4hTVfg"
      },
      "source": [
        "%%ruby\n",
        "\"hello ruby2\""
      ],
      "execution_count": null,
      "outputs": []
    },
    {
      "cell_type": "markdown",
      "metadata": {
        "id": "vZH5LbUHTcO2"
      },
      "source": [
        "ruby のインタラクティブ環境の irb では文字列や数値などのリテラルはそのまま返されるが、Colab では puts としないと出力されない。\n",
        "ruby の導入のテキストは irb を使っているものが多いので注意する。\n"
      ]
    },
    {
      "cell_type": "code",
      "metadata": {
        "colab": {
          "base_uri": "https://localhost:8080/"
        },
        "id": "WV_dNdFsUA92",
        "outputId": "1e632518-c171-4f06-d1df-c5081c5a151d"
      },
      "source": [
        "%%ruby\n",
        "puts 3+2"
      ],
      "execution_count": null,
      "outputs": [
        {
          "output_type": "stream",
          "text": [
            "5\n"
          ],
          "name": "stdout"
        }
      ]
    },
    {
      "cell_type": "code",
      "metadata": {
        "colab": {
          "base_uri": "https://localhost:8080/"
        },
        "id": "SkI9v46CUFet",
        "outputId": "a6bf44e6-760d-4ca9-8490-0c8fa8bf5eca"
      },
      "source": [
        "# 実験\n",
        "%%ruby\n",
        "puts (3+2)\n",
        "puts \"呪術\"+\"廻戦\""
      ],
      "execution_count": null,
      "outputs": [
        {
          "output_type": "stream",
          "text": [
            "5\n",
            "呪術廻戦\n"
          ],
          "name": "stdout"
        }
      ]
    },
    {
      "cell_type": "code",
      "metadata": {
        "colab": {
          "base_uri": "https://localhost:8080/"
        },
        "id": "T2yoIeoPUzii",
        "outputId": "d779dfc3-6878-4a02-d23e-c42b47750cb6"
      },
      "source": [
        "%%ruby\n",
        "puts 2**3\n",
        "puts 2.0**3\n",
        "puts Math.sqrt(256)\n",
        "puts 5/2\n",
        "puts 5%2 # コメントは python と同じシャープ"
      ],
      "execution_count": null,
      "outputs": [
        {
          "output_type": "stream",
          "text": [
            "8\n",
            "8.0\n",
            "16.0\n",
            "2\n",
            "1\n"
          ],
          "name": "stdout"
        }
      ]
    },
    {
      "cell_type": "markdown",
      "metadata": {
        "id": "FsJBwFjFUjZm"
      },
      "source": [
        "括弧が使える。 文字列の連結に `+` が使える。"
      ]
    },
    {
      "cell_type": "code",
      "metadata": {
        "id": "F3THJGGRqVKP",
        "outputId": "9458724c-16f5-4e32-8260-c506d123deed",
        "colab": {
          "base_uri": "https://localhost:8080/"
        }
      },
      "source": [
        "%%ruby\n",
        "a = 3**2\n",
        "b = 4**2\n",
        "puts Math.sqrt(a+b)"
      ],
      "execution_count": 4,
      "outputs": [
        {
          "output_type": "stream",
          "text": [
            "5.0\n"
          ],
          "name": "stdout"
        }
      ]
    },
    {
      "cell_type": "code",
      "metadata": {
        "id": "MSjGMFxLrECQ",
        "outputId": "d959f8f3-88ed-4db2-cf04-8a3fcd117fb9",
        "colab": {
          "base_uri": "https://localhost:8080/"
        }
      },
      "source": [
        "%%ruby\n",
        "def hi\n",
        "puts \"Hello again\"\n",
        "end\n",
        "hi"
      ],
      "execution_count": 8,
      "outputs": [
        {
          "output_type": "stream",
          "text": [
            "Hello again\n"
          ],
          "name": "stdout"
        }
      ]
    },
    {
      "cell_type": "code",
      "metadata": {
        "id": "wO23S2AUrZkx",
        "outputId": "a8e7433a-abe5-4c83-8fda-1c08de717b02",
        "colab": {
          "base_uri": "https://localhost:8080/"
        }
      },
      "source": [
        "# 実験 => エラーになる\n",
        "%%ruby\n",
        "hi"
      ],
      "execution_count": 9,
      "outputs": [
        {
          "output_type": "stream",
          "text": [
            "-:1:in `<main>': undefined local variable or method `hi' for main:Object (NameError)\n"
          ],
          "name": "stderr"
        }
      ]
    },
    {
      "cell_type": "code",
      "metadata": {
        "id": "PpMeY9pzrt2z",
        "outputId": "40d3fb58-9730-43b6-e7c1-f5cd66d5b2d9",
        "colab": {
          "base_uri": "https://localhost:8080/"
        }
      },
      "source": [
        "# 実験 括弧をつけてみる\n",
        "%%ruby\n",
        "def hi\n",
        "    puts \"Alone again\"\n",
        "end\n",
        "hi()"
      ],
      "execution_count": 11,
      "outputs": [
        {
          "output_type": "stream",
          "text": [
            "Alone again\n"
          ],
          "name": "stdout"
        }
      ]
    },
    {
      "cell_type": "code",
      "metadata": {
        "id": "mNygMt5zsGI-",
        "outputId": "6369ca49-c018-4902-bb43-9b0d26e30332",
        "colab": {
          "base_uri": "https://localhost:8080/"
        }
      },
      "source": [
        "%%ruby\n",
        "def hi(name)\n",
        "puts \"Hello #{name}!\"\n",
        "end\n",
        "hi(\"Matz\")"
      ],
      "execution_count": 12,
      "outputs": [
        {
          "output_type": "stream",
          "text": [
            "Hello Matz!\n"
          ],
          "name": "stdout"
        }
      ]
    },
    {
      "cell_type": "code",
      "metadata": {
        "id": "BPecdHO3sW0K",
        "outputId": "7143b603-8753-48b2-d246-7434ee5b0631",
        "colab": {
          "base_uri": "https://localhost:8080/"
        }
      },
      "source": [
        "# 実験  #{name} と同じ\n",
        "%%ruby\n",
        "def hi(name)\n",
        "puts \"Hello \" + name\n",
        "end\n",
        "hi(\"Matz\")"
      ],
      "execution_count": 16,
      "outputs": [
        {
          "output_type": "stream",
          "text": [
            "Hello Matz\n"
          ],
          "name": "stdout"
        }
      ]
    },
    {
      "cell_type": "code",
      "metadata": {
        "id": "DhtN58HyuXTn",
        "outputId": "7b116d80-bd26-455d-8d25-6ca9d093b472",
        "colab": {
          "base_uri": "https://localhost:8080/"
        }
      },
      "source": [
        "%%ruby\n",
        "def hi(name = \"World\")\n",
        "puts \"Hello #{name.capitalize}!\"\n",
        "end\n",
        "hi \"chris\"\n",
        "hi"
      ],
      "execution_count": 18,
      "outputs": [
        {
          "output_type": "stream",
          "text": [
            "Hello Chris!\n",
            "Hello World!\n"
          ],
          "name": "stdout"
        }
      ]
    },
    {
      "cell_type": "code",
      "metadata": {
        "id": "Yv7P4gf-upjz",
        "outputId": "ed44f8b3-5b3e-4c4b-de43-46d0372acc60",
        "colab": {
          "base_uri": "https://localhost:8080/"
        }
      },
      "source": [
        "# 実験\n",
        "%%ruby\n",
        "def shout(name = \"World\")\n",
        "puts \"Hello #{name}!!!!!\".upcase\n",
        "end\n",
        "shout \"chris\"\n",
        "shout"
      ],
      "execution_count": 23,
      "outputs": [
        {
          "output_type": "stream",
          "text": [
            "HELLO CHRIS!!!!!\n",
            "HELLO WORLD!!!!!\n"
          ],
          "name": "stdout"
        }
      ]
    },
    {
      "cell_type": "code",
      "metadata": {
        "id": "dXOD3rIuvcuR",
        "outputId": "33c2a366-5c6e-4db5-dae8-75707c88d4b6",
        "colab": {
          "base_uri": "https://localhost:8080/"
        }
      },
      "source": [
        "%%ruby\n",
        "class Greeter\n",
        "  def initialize(name = \"World\")\n",
        "    @name = name\n",
        "  end\n",
        "  def say_hi\n",
        "    puts \"Hi #{@name}!\"\n",
        "  end\n",
        "  def say_bye\n",
        "    puts \"Bye #{@name}, come back soon.\"\n",
        "  end\n",
        "end\n",
        "greeter = Greeter.new('Pat')\n",
        "greeter.say_hi\n",
        "greeter.say_bye"
      ],
      "execution_count": 26,
      "outputs": [
        {
          "output_type": "stream",
          "text": [
            "Hi Pat!\n",
            "Bye Pat, come back soon.\n"
          ],
          "name": "stdout"
        }
      ]
    },
    {
      "cell_type": "code",
      "metadata": {
        "id": "bMxHoMuVwTS8",
        "outputId": "c23021cf-e799-4415-f6e7-afc34cd374ba",
        "colab": {
          "base_uri": "https://localhost:8080/"
        }
      },
      "source": [
        "%%ruby\n",
        "class Greeter\n",
        "  def initialize(name = \"World\")\n",
        "    @name = name\n",
        "  end\n",
        "  def say_hi\n",
        "    puts \"Hi #{@name}!\"\n",
        "  end\n",
        "  def say_bye\n",
        "    puts \"Bye #{@name}, come back soon.\"\n",
        "  end\n",
        "end\n",
        "\n",
        "puts Greeter.instance_methods(false)"
      ],
      "execution_count": 28,
      "outputs": [
        {
          "output_type": "stream",
          "text": [
            "say_hi\n",
            "say_bye\n"
          ],
          "name": "stdout"
        }
      ]
    },
    {
      "cell_type": "markdown",
      "metadata": {
        "id": "33t-kTQ9ruNs"
      },
      "source": [
        "# いまここ\n",
        "https://www.ruby-lang.org/ja/documentation/quickstart/3/"
      ]
    }
  ]
}