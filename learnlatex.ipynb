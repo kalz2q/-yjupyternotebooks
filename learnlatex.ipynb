{
  "nbformat": 4,
  "nbformat_minor": 0,
  "metadata": {
    "kernelspec": {
      "display_name": "Python 3",
      "language": "python",
      "name": "python3"
    },
    "language_info": {
      "codemirror_mode": {
        "name": "ipython",
        "version": 3
      },
      "file_extension": ".py",
      "mimetype": "text/x-python",
      "name": "python",
      "nbconvert_exporter": "python",
      "pygments_lexer": "ipython3",
      "version": "3.6.6"
    },
    "toc": {
      "base_numbering": 1,
      "nav_menu": {},
      "number_sections": true,
      "sideBar": true,
      "skip_h1_title": false,
      "title_cell": "Table of Contents",
      "title_sidebar": "Contents",
      "toc_cell": false,
      "toc_position": {
        "height": "calc(100% - 180px)",
        "left": "10px",
        "top": "150px",
        "width": "336.903px"
      },
      "toc_section_display": true,
      "toc_window_display": true
    },
    "colab": {
      "name": "learnlatex.ipynb",
      "provenance": [],
      "toc_visible": true,
      "include_colab_link": true
    }
  },
  "cells": [
    {
      "cell_type": "markdown",
      "metadata": {
        "id": "view-in-github",
        "colab_type": "text"
      },
      "source": [
        "<a href=\"https://colab.research.google.com/github/kalz2q/mycolabnotebooks/blob/master/learnlatex.ipynb\" target=\"_parent\"><img src=\"https://colab.research.google.com/assets/colab-badge.svg\" alt=\"Open In Colab\"/></a>"
      ]
    },
    {
      "cell_type": "markdown",
      "metadata": {
        "id": "X4JZJvQLY_rw"
      },
      "source": [
        "# メモ\n",
        "\n",
        "1. colab は latex のサブセットをサポートしていて、数式は latex を使って書ける。\n",
        "1. 参考サイトを読みながら latex を勉強する。  \n",
        "TeX入門 ( http://www.comp.tmu.ac.jp/tsakai/lectures/intro_tex.html )  \n",
        "TeX入門Wiki ( https://texwiki.texjp.org/)  \n",
        "Learn LaTeX in 30 minutes ( https://www.overleaf.com/learn/latex/ \n",
        "Learn_LaTeX_in_30_minutes )  \n",
        "MathJax ( https://docs.mathjax.org/en/v2.5-latest/tex.html )"
      ]
    },
    {
      "cell_type": "markdown",
      "metadata": {
        "id": "i_Cod0PRbZRu"
      },
      "source": [
        "# 数式記号一覧\n",
        "\n",
        "The Comprehensive LaTeX Symbol List - The CTAN archive ( http://tug.ctan.org/info/symbols/comprehensive/symbols-a4.pdf )\n",
        "\n",
        "Short Math Guide for LaTeX ( https://ftp.yz.yamagata-u.ac.jp/pub/CTAN/info/short-math-guide/short-math-guide.pdf )\n",
        "\n",
        "ギリシャ文字, ドイツ文字, 花文字, 筆記体の TeX 表記をまとめておいた ( https://phasetr.com/blog/2013/04/14/ギリシャ文字-ドイツ文字-筆記体の-tex-表記を/ )"
      ]
    },
    {
      "cell_type": "markdown",
      "metadata": {
        "id": "dlP5VSVvbsxB"
      },
      "source": [
        "# はじめに\n",
        "\n",
        "実験学習。\n",
        "\n",
        "$$\n",
        "x = 3\n",
        "$$\n",
        "\n",
        "これをセルマジックの`%%latex`で書くとつぎのようになる。"
      ]
    },
    {
      "cell_type": "code",
      "metadata": {
        "id": "b5fjp5twb95X",
        "colab": {
          "base_uri": "https://localhost:8080/",
          "height": 38
        },
        "outputId": "8508546c-89bf-4762-b2fb-c3b026706073"
      },
      "source": [
        "%%latex\n",
        "x = 3"
      ],
      "execution_count": 40,
      "outputs": [
        {
          "output_type": "display_data",
          "data": {
            "text/latex": "x = 3",
            "text/plain": [
              "<IPython.core.display.Latex object>"
            ]
          },
          "metadata": {
            "tags": []
          }
        }
      ]
    },
    {
      "cell_type": "markdown",
      "metadata": {
        "id": "kVRica7_toLs"
      },
      "source": [
        "sympy を使って書くこともできる。"
      ]
    },
    {
      "cell_type": "code",
      "metadata": {
        "id": "WLbawHy6vgvz",
        "colab": {
          "base_uri": "https://localhost:8080/",
          "height": 39
        },
        "outputId": "90bfd5ea-6dca-4233-e846-d7b5eea0f59d"
      },
      "source": [
        "from sympy import *\r\n",
        "init_printing()\r\n",
        "x = symbols('x')\r\n",
        "display(Eq(x, 3))"
      ],
      "execution_count": null,
      "outputs": [
        {
          "output_type": "display_data",
          "data": {
            "image/png": "[encoded data removed]",
            "text/latex": "$$x = 3$$",
            "text/plain": [
              "x = 3"
            ]
          },
          "metadata": {
            "tags": []
          }
        }
      ]
    },
    {
      "cell_type": "markdown",
      "metadata": {
        "id": "gS-20EZ4B0lL"
      },
      "source": [
        "# 簡単な数式"
      ]
    },
    {
      "cell_type": "markdown",
      "metadata": {
        "id": "l9i9JMhU2VXE"
      },
      "source": [
        "$$\n",
        "E = mc^2\n",
        "$$"
      ]
    },
    {
      "cell_type": "code",
      "metadata": {
        "id": "NXhBtJwreRGG",
        "colab": {
          "base_uri": "https://localhost:8080/",
          "height": 38
        },
        "outputId": "a2015e68-babe-459a-cab4-8c842093f566"
      },
      "source": [
        "%%latex\n",
        "E = mc^2"
      ],
      "execution_count": null,
      "outputs": [
        {
          "output_type": "display_data",
          "data": {
            "text/latex": "E = mc^2",
            "text/plain": [
              "<IPython.core.display.Latex object>"
            ]
          },
          "metadata": {
            "tags": []
          }
        }
      ]
    },
    {
      "cell_type": "markdown",
      "metadata": {
        "id": "VQ5cdQKxB0lO"
      },
      "source": [
        "ここで $c$ は光速をあらわし、値は次の通り。\n",
        "$$\n",
        "c = 299{,}792{,}458 \\, \\mathrm{m/s}\n",
        "$$"
      ]
    },
    {
      "cell_type": "markdown",
      "metadata": {
        "id": "swQB6FIQwLWT"
      },
      "source": [
        "# いまここ"
      ]
    },
    {
      "cell_type": "code",
      "metadata": {
        "id": "XaZ9k2NuebYv",
        "colab": {
          "base_uri": "https://localhost:8080/",
          "height": 38
        },
        "outputId": "2559b15c-c1b0-4f79-d199-faf2b129b413"
      },
      "source": [
        "%%latex\n",
        "c = 299{,}792{,}458 \\, \\mathrm{m/s}"
      ],
      "execution_count": null,
      "outputs": [
        {
          "output_type": "display_data",
          "data": {
            "text/latex": "c = 299{,}792{,}458 \\, \\mathrm{m/s}",
            "text/plain": [
              "<IPython.core.display.Latex object>"
            ]
          },
          "metadata": {
            "tags": []
          }
        }
      ]
    },
    {
      "cell_type": "markdown",
      "metadata": {
        "id": "7JZQs8Ize_jf"
      },
      "source": [
        "数字のカンマは `{,}` として入れる。\n"
      ]
    },
    {
      "cell_type": "markdown",
      "metadata": {
        "id": "JJRGMDwVF90w"
      },
      "source": [
        "### 数字の前のドル`$`マーク\n",
        "\n",
        "テキストセルで、この本は\\$35.50です、というような時はドルマーク `$` の前にバックスラッシュでエスケープするか、バッククオートで囲む。\n",
        "\n",
        "%%latex の中ではエスケープしないでよい。\n"
      ]
    },
    {
      "cell_type": "code",
      "metadata": {
        "id": "AbyrchbOJqBH",
        "outputId": "6985ef65-aab5-4ade-ec5f-067fed7f3a76",
        "colab": {
          "base_uri": "https://localhost:8080/",
          "height": 85
        }
      },
      "source": [
        "%%latex\r\n",
        "この本は$35.50です。 \\\\\r\n",
        "ドルマークエスケープする必要はない。\\\\\r\n",
        "\\$ バックスラッシュをつけるとこうなる。\\\\\r\n",
        "`$` バッククオートで書くとこうなる。"
      ],
      "execution_count": 45,
      "outputs": [
        {
          "output_type": "display_data",
          "data": {
            "text/latex": "この本は$35.50です。 \\\\\nドルマークエスケープする必要はない。\\\\\n\\$ バックスラッシュをつけるとこうなる。\\\\\n`$` バッククオートで書くとこうなる。",
            "text/plain": [
              "<IPython.core.display.Latex object>"
            ]
          },
          "metadata": {
            "tags": []
          }
        }
      ]
    },
    {
      "cell_type": "markdown",
      "metadata": {
        "id": "c8tGCBDJFPRg"
      },
      "source": [
        "### フォントの実験"
      ]
    },
    {
      "cell_type": "markdown",
      "metadata": {
        "id": "1pTzPWuLFOP5"
      },
      "source": [
        "\n",
        "フォントは実験してみよう。\n",
        "$$\n",
        "%%latex\n",
        "\\mathrm{a b c d e f A B C }\\\\\n",
        "\\mathcal {abcdefABCDEF}\\\\\n",
        "\\mathfrak {abcdefABCDEF}\\\\\n",
        "\\mathit {abcdefABCDEF}\\\\\n",
        "$$"
      ]
    },
    {
      "cell_type": "code",
      "metadata": {
        "id": "205xo7fYfLLI",
        "colab": {
          "base_uri": "https://localhost:8080/",
          "height": 102
        },
        "outputId": "191d7a26-5305-4fc0-af32-3d45a547112c"
      },
      "source": [
        "%%latex\n",
        "\\mathrm{a b c d e f A B C }\\\\\n",
        "\\mathcal {abcdefABCDEF}\\\\\n",
        "\\mathfrak {abcdefABCDEF}\\\\\n",
        "\\mathit {abcdefABCDEF}\\\\"
      ],
      "execution_count": null,
      "outputs": [
        {
          "output_type": "display_data",
          "data": {
            "text/latex": "\\mathrm{a b c d e f A B C }\\\\\n\\mathcal {abcdefABCDEF}\\\\\n\\mathfrak {abcdefABCDEF}\\\\\n\\mathit {abcdefABCDEF}\\\\",
            "text/plain": [
              "<IPython.core.display.Latex object>"
            ]
          },
          "metadata": {
            "tags": []
          }
        }
      ]
    },
    {
      "cell_type": "markdown",
      "metadata": {
        "id": "L872XDCqfsyM"
      },
      "source": [
        "### 改行とスペース\n",
        "\n",
        "改行の入れ方がわからない。  => `latex`の中ではバックスラッシュ2個。\n",
        "\n",
        "スペースの入れ方はとりあえず、`\\` プラスカンマとかスペース。\n",
        "\n",
        "$$\n",
        "こ\\ ん\\ な\\ か\\ ん \\ じ\n",
        "$$\n",
        "\n",
        "\n",
        "ちなみにバックスラッシュはマックでは`option+¥`。\n"
      ]
    },
    {
      "cell_type": "code",
      "metadata": {
        "id": "_4EjnRLlKG9Z",
        "outputId": "53cfb06a-e020-4161-b057-1e5cd4eea75e",
        "colab": {
          "base_uri": "https://localhost:8080/",
          "height": 80
        }
      },
      "source": [
        "%%latex\r\n",
        "latex \\ の中での改行は\\  \\backslash \\ を行末に2個入れる。 \\\\\r\n",
        "その他の特殊記号は\\  \\backslash \\ でエスケープ。\\\\\r\n",
        "\\\\\r\n",
        "空白行と\\ tilde \\ と\\  circumflex \\ がエスケープできない。 なにか方法があるのだろうか。"
      ],
      "execution_count": 52,
      "outputs": [
        {
          "output_type": "display_data",
          "data": {
            "text/latex": "latex \\ の中での改行は\\  \\backslash \\ を行末に2個入れる。 \\\\\nその他の特殊記号は\\  \\backslash \\ でエスケープ。\\\\\n\\\\\n空白行と\\ tilde \\ と\\  circumflex \\ がエスケープできない。 なにか方法があるのだろうか。",
            "text/plain": [
              "<IPython.core.display.Latex object>"
            ]
          },
          "metadata": {
            "tags": []
          }
        }
      ]
    },
    {
      "cell_type": "markdown",
      "metadata": {
        "id": "A3Z0alVOPf75"
      },
      "source": [
        "\n",
        "### インテグラル\n",
        "$$\n",
        "\\frac{\\pi}{2} =\n",
        "\\left( \\int_{0}^{\\infty} \\frac{\\sin x}{\\sqrt{x}} dx \\right)^2 =\n",
        "\\sum_{k=0}^{\\infty} \\frac{(2k)!}{2^{2k}(k!)^2} \\frac{1}{2k+1} =\n",
        "\\prod_{k=1}^{\\infty} \\frac{4k^2}{4k^2 - 1}\n",
        "$$"
      ]
    },
    {
      "cell_type": "code",
      "metadata": {
        "id": "z_hJqC1ggHRw",
        "colab": {
          "base_uri": "https://localhost:8080/",
          "height": 67
        },
        "outputId": "a7ddd1da-39b5-4ca8-9fe3-62a1151dd295"
      },
      "source": [
        "%%latex\n",
        "\\displaystyle\n",
        "\n",
        "\\frac{\\pi}{2} =\n",
        "\\left( \\int_{0}^{\\infty} \\frac{\\sin x}{\\sqrt{x}} dx \\right)^2 =\n",
        "\\sum_{k=0}^{\\infty} \\frac{(2k)!}{2^{2k}(k!)^2} \\frac{1}{2k+1} =\n",
        "\\prod_{k=1}^{\\infty} \\frac{4k^2}{4k^2 - 1}\n"
      ],
      "execution_count": null,
      "outputs": [
        {
          "output_type": "display_data",
          "data": {
            "text/latex": "\\displaystyle\n\\frac{\\pi}{2} =\n\\left( \\int_{0}^{\\infty} \\frac{\\sin x}{\\sqrt{x}} dx \\right)^2 =\n\\sum_{k=0}^{\\infty} \\frac{(2k)!}{2^{2k}(k!)^2} \\frac{1}{2k+1} =\n\\prod_{k=1}^{\\infty} \\frac{4k^2}{4k^2 - 1}",
            "text/plain": [
              "<IPython.core.display.Latex object>"
            ]
          },
          "metadata": {
            "tags": []
          }
        }
      ]
    },
    {
      "cell_type": "markdown",
      "metadata": {
        "id": "ufdfBaWyw9Te"
      },
      "source": [
        "`\\displaystyle`としないと、インラインスタイルでフォントが小さくなってしまう。\n",
        "\n"
      ]
    },
    {
      "cell_type": "markdown",
      "metadata": {
        "id": "JbP2dlWhWjgc"
      },
      "source": [
        "# カッコ\n"
      ]
    },
    {
      "cell_type": "markdown",
      "metadata": {
        "id": "izyrEmSv6mIS"
      },
      "source": [
        "### 行列\n",
        "$$\n",
        "A =\\begin{pmatrix}\n",
        "        a_{11} & \\ldots & a_{1n} \\\\\n",
        "        \\vdots & \\ddots & \\vdots \\\\\n",
        "        a_{m1} & \\ldots & a_{mn}\n",
        "    \\end{pmatrix}\n",
        "$$"
      ]
    },
    {
      "cell_type": "code",
      "metadata": {
        "id": "FbVx5XVeB0lT",
        "colab": {
          "base_uri": "https://localhost:8080/",
          "height": 89
        },
        "outputId": "6814d879-6193-468d-bc18-959443a88072"
      },
      "source": [
        "%%latex\n",
        "\n",
        "A =\\begin{pmatrix}\n",
        "        a_{11} & \\ldots & a_{1n} \\\\\n",
        "        \\vdots & \\ddots & \\vdots \\\\\n",
        "        a_{m1} & \\ldots & a_{mn}\n",
        "    \\end{pmatrix}"
      ],
      "execution_count": null,
      "outputs": [
        {
          "output_type": "display_data",
          "data": {
            "text/latex": "\nA =\\begin{pmatrix}\n        a_{11} & \\ldots & a_{1n} \\\\\n        \\vdots & \\ddots & \\vdots \\\\\n        a_{m1} & \\ldots & a_{mn}\n    \\end{pmatrix}",
            "text/plain": [
              "<IPython.core.display.Latex object>"
            ]
          },
          "metadata": {
            "tags": []
          }
        }
      ]
    },
    {
      "cell_type": "markdown",
      "metadata": {
        "id": "l0WOCX6ZbsFA"
      },
      "source": [
        "### 直交行列\n",
        "\n",
        "実対称行列 $A$ は直交行列 $P$ によって\n",
        "$$\n",
        "D = P^{-1} A P\n",
        "$$\n",
        "と対角行列 $D$ に対角化される。\n"
      ]
    },
    {
      "cell_type": "code",
      "metadata": {
        "id": "hGPGMKjC5tUm",
        "colab": {
          "base_uri": "https://localhost:8080/",
          "height": 38
        },
        "outputId": "eadb0edb-a788-48dd-b6aa-863d2c8af2e7"
      },
      "source": [
        "%%latex\n",
        "D = P^{-1} A P"
      ],
      "execution_count": null,
      "outputs": [
        {
          "output_type": "display_data",
          "data": {
            "text/latex": "D = P^{-1} A P",
            "text/plain": [
              "<IPython.core.display.Latex object>"
            ]
          },
          "metadata": {
            "tags": []
          }
        }
      ]
    },
    {
      "cell_type": "markdown",
      "metadata": {
        "id": "dhROzMML5hQI"
      },
      "source": [
        "### シグマ\n",
        "$$\n",
        "\\sin x = \\sum_{n=0}^{\\infty} \\frac{(-1)^n}{(2n+1)!} x^{2n+1}\n",
        "$$"
      ]
    },
    {
      "cell_type": "code",
      "metadata": {
        "id": "qXRmBXE2PuHC",
        "colab": {
          "base_uri": "https://localhost:8080/",
          "height": 67
        },
        "outputId": "fbb71df2-d72c-498e-e16d-1f90f35d46aa"
      },
      "source": [
        "%%latex\n",
        "\\displaystyle\n",
        "\\sin x = \\sum_{n=0}^{\\infty} \\frac{(-1)^n}{(2n+1)!} x^{2n+1}"
      ],
      "execution_count": null,
      "outputs": [
        {
          "output_type": "display_data",
          "data": {
            "text/latex": "\\displaystyle\n\\sin x = \\sum_{n=0}^{\\infty} \\frac{(-1)^n}{(2n+1)!} x^{2n+1}",
            "text/plain": [
              "<IPython.core.display.Latex object>"
            ]
          },
          "metadata": {
            "tags": []
          }
        }
      ]
    },
    {
      "cell_type": "markdown",
      "metadata": {
        "id": "2KntNwKI62-c"
      },
      "source": [
        "### インテグラル\n",
        "\n",
        "$$\n",
        "\\int_{0}^{1} \\log x \\,dx\n",
        "= \\lim_{\\epsilon \\to +0} \\int_{\\epsilon}^{1} \\log x \\,dx\n",
        "= \\lim_{\\epsilon \\to +0} [x \\log x - x]_{\\epsilon}^{1}\n",
        "= -1\n",
        "$$"
      ]
    },
    {
      "cell_type": "code",
      "metadata": {
        "id": "BwuoDXTSQKR7",
        "colab": {
          "base_uri": "https://localhost:8080/",
          "height": 59
        },
        "outputId": "b172847f-0eee-4d79-d471-eee9a70bb364"
      },
      "source": [
        "%%latex\n",
        "\\displaystyle\n",
        "\n",
        "\\int_{0}^{1} \\log x \\,dx\n",
        "= \\lim_{\\epsilon \\to +0} \\int_{\\epsilon}^{1} \\log x \\,dx\n",
        "= \\lim_{\\epsilon \\to +0} [x \\log x - x]_{\\epsilon}^{1}\n",
        "= -1"
      ],
      "execution_count": null,
      "outputs": [
        {
          "output_type": "display_data",
          "data": {
            "text/latex": "\\displaystyle\n\n\\int_{0}^{1} \\log x \\,dx\n= \\lim_{\\epsilon \\to +0} \\int_{\\epsilon}^{1} \\log x \\,dx\n= \\lim_{\\epsilon \\to +0} [x \\log x - x]_{\\epsilon}^{1}\n= -1",
            "text/plain": [
              "<IPython.core.display.Latex object>"
            ]
          },
          "metadata": {
            "tags": []
          }
        }
      ]
    },
    {
      "cell_type": "markdown",
      "metadata": {
        "id": "rnTvi6nVHDuc"
      },
      "source": [
        "### `%%latex`の中では`eqnarray`は使えない\n",
        "\n",
        "$$\n",
        "\\begin{eqnarray}\n",
        "\\int_{0}^{1} \\log x dx\n",
        "&=& \\lim_{\\epsilon \\to +0} \\int_{\\epsilon}^{1} \\log x dx \\\\\n",
        "&=& \\lim_{\\epsilon \\to +0} [x \\log x - x]_{\\epsilon}^{1} \\\\\n",
        "&=& -1\n",
        "\\end{eqnarray}\n",
        "$$\n",
        "</br>\n",
        "</br>\n",
        "`eqnarray`は使えないが`array`で代用できる。  \n",
        "`lim`の下の文字が横になってしまっているのを直せないか。"
      ]
    },
    {
      "cell_type": "code",
      "metadata": {
        "id": "SqHt58ANQ-Nb",
        "colab": {
          "base_uri": "https://localhost:8080/",
          "height": 100
        },
        "outputId": "5c66f70b-db81-4fd6-d9c2-e75e07122ca8"
      },
      "source": [
        "%%latex\n",
        "\\displaystyle\n",
        "\n",
        "\\begin{array}{lcl}\n",
        "\\int_{0}^{1} \\log x dx\n",
        "&=& \\lim_{\\epsilon \\to +0} \\int_{\\epsilon}^{1} \\log x dx \\\\\n",
        "&=& \\lim_{\\epsilon \\to +0} [x \\log x - x]_{\\epsilon}^{1} \\\\\n",
        "&=& -1\n",
        "\\end{array}"
      ],
      "execution_count": null,
      "outputs": [
        {
          "output_type": "display_data",
          "data": {
            "text/latex": "\n\n\\begin{array}{lcl}\n\\displaystyle\n\\int_{0}^{1} \\log x dx\n&=& \\lim_{\\epsilon \\to +0} \\int_{\\epsilon}^{1} \\log x dx \\\\\n&=& \\lim_{\\epsilon \\to +0} [x \\log x - x]_{\\epsilon}^{1} \\\\\n&=& -1\n\\end{array}",
            "text/plain": [
              "<IPython.core.display.Latex object>"
            ]
          },
          "metadata": {
            "tags": []
          }
        }
      ]
    },
    {
      "cell_type": "markdown",
      "metadata": {
        "id": "ZGBMM_-F7WSs"
      },
      "source": [
        "$$\n",
        "\\begin{align}\n",
        "\\sin(\\alpha \\pm \\beta) &= \\sin \\alpha \\cos \\beta \\pm \\cos \\alpha \\sin \\beta \\\\\n",
        "\\cos(\\alpha \\pm \\beta) &= \\cos \\alpha \\cos \\beta \\mp \\sin \\alpha \\sin \\beta \\\\\n",
        "\\tan(\\alpha \\pm \\beta) &= \\frac{\\tan \\alpha \\pm \\tan \\beta}{1 \\mp \\tan \\alpha \\tan \\beta}\n",
        "\\end{align}\n",
        "$$"
      ]
    },
    {
      "cell_type": "code",
      "metadata": {
        "id": "Jb03yr1JSOma",
        "colab": {
          "base_uri": "https://localhost:8080/",
          "height": 82
        },
        "outputId": "0fbdb4ac-ac7f-40c4-e6e5-f918ac60469e"
      },
      "source": [
        "%%latex\n",
        "\\displaystyle\n",
        "\n",
        "\\begin{array}{ll}\n",
        "\\sin(\\alpha \\pm \\beta) &= \\sin \\alpha \\cos \\beta \\pm \\cos \\alpha \\sin \\beta \\\\\n",
        "\\cos(\\alpha \\pm \\beta) &= \\cos \\alpha \\cos \\beta \\mp \\sin \\alpha \\sin \\beta \\\\\n",
        "\\tan(\\alpha \\pm \\beta) &= \\frac{\\tan \\alpha \\pm \\tan \\beta}{1 \\mp \\tan \\alpha \\tan \\beta}\n",
        "\\end{array}"
      ],
      "execution_count": null,
      "outputs": [
        {
          "output_type": "display_data",
          "data": {
            "text/latex": "\\displaystyle\n\n\\begin{array}{ll}\n\\sin(\\alpha \\pm \\beta) &= \\sin \\alpha \\cos \\beta \\pm \\cos \\alpha \\sin \\beta \\\\\n\\cos(\\alpha \\pm \\beta) &= \\cos \\alpha \\cos \\beta \\mp \\sin \\alpha \\sin \\beta \\\\\n\\tan(\\alpha \\pm \\beta) &= \\frac{\\tan \\alpha \\pm \\tan \\beta}{1 \\mp \\tan \\alpha \\tan \\beta}\n\\end{array}",
            "text/plain": [
              "<IPython.core.display.Latex object>"
            ]
          },
          "metadata": {
            "tags": []
          }
        }
      ]
    },
    {
      "cell_type": "markdown",
      "metadata": {
        "id": "xXNNoAc0Sz8A"
      },
      "source": [
        "### カッコのいろいろ\n",
        "$$\n",
        "[ (x) ] \\\\\n",
        "\\{ x \\}\\\\\n",
        "\\| x \\| \\\\\n",
        "\\langle x \\rangle\n",
        "$$\n",
        "\n"
      ]
    },
    {
      "cell_type": "code",
      "metadata": {
        "id": "GV3TDo_bTfD9",
        "colab": {
          "base_uri": "https://localhost:8080/",
          "height": 105
        },
        "outputId": "359bd5af-74be-49a8-cd67-fcb161b712b3"
      },
      "source": [
        "%%latex\n",
        "\n",
        "[ (x) ] \\\\\n",
        "\\{ x \\}\\\\\n",
        "\\| x \\| \\\\\n",
        "\\langle x \\rangle"
      ],
      "execution_count": null,
      "outputs": [
        {
          "output_type": "display_data",
          "data": {
            "text/latex": "\n[ (x) ] \\\\\n\\{ x \\}\\\\\n\\| x \\| \\\\\n\\langle x \\rangle",
            "text/plain": [
              "<IPython.core.display.Latex object>"
            ]
          },
          "metadata": {
            "tags": []
          }
        }
      ]
    },
    {
      "cell_type": "markdown",
      "metadata": {
        "id": "WDpAvDmh7mms"
      },
      "source": [
        "$$\n",
        "\\Bigg( \\bigg[ \\Big\\{ \\big\\| \\langle x \\rangle \\big\\| \\Big\\} \\bigg] \\Bigg)\n",
        "$$"
      ]
    },
    {
      "cell_type": "code",
      "metadata": {
        "id": "xKyM3qnxWuEC",
        "colab": {
          "base_uri": "https://localhost:8080/",
          "height": 68
        },
        "outputId": "48d51192-993c-4623-b488-978d0f8a13a6"
      },
      "source": [
        "%%latex\n",
        "\n",
        "\\Bigg( \\bigg[ \\Big\\{ \\big\\| \\langle x \\rangle \\big\\| \\Big\\} \\bigg] \\Bigg)"
      ],
      "execution_count": null,
      "outputs": [
        {
          "output_type": "display_data",
          "data": {
            "text/latex": "\n\\Bigg( \\bigg[ \\Big\\{ \\big\\| \\langle x \\rangle \\big\\| \\Big\\} \\bigg] \\Bigg)",
            "text/plain": [
              "<IPython.core.display.Latex object>"
            ]
          },
          "metadata": {
            "tags": []
          }
        }
      ]
    },
    {
      "cell_type": "markdown",
      "metadata": {
        "id": "wW5eQSHD7sLL"
      },
      "source": [
        "$$\n",
        "\\left( \\frac{a}{b} \\right)\n",
        "$$\n",
        "\n",
        "</br>\n",
        "</br>\n",
        "</br>\n",
        "</br>"
      ]
    },
    {
      "cell_type": "markdown",
      "metadata": {
        "id": "suZGBpjg72MT"
      },
      "source": [
        "\n",
        "左右のカッコに`\\left`、`\\right`をつけると自動で可変になる。\n",
        "\n",
        "`\\left`、`\\right`はかならずペアで、片方だけ使うときはピリオド `.` をつける。"
      ]
    },
    {
      "cell_type": "code",
      "metadata": {
        "id": "Ka0qoGgeXAey",
        "colab": {
          "base_uri": "https://localhost:8080/",
          "height": 48
        },
        "outputId": "a2c8d2d1-bc5b-4fc0-9556-7b32caea11f0"
      },
      "source": [
        "%%latex\n",
        "\\displaystyle\n",
        "\n",
        "\\left( \\frac{a}{b} \\right)"
      ],
      "execution_count": null,
      "outputs": [
        {
          "output_type": "display_data",
          "data": {
            "text/latex": "\\displaystyle\n\n\\left( \\frac{a}{b} \\right)",
            "text/plain": [
              "<IPython.core.display.Latex object>"
            ]
          },
          "metadata": {
            "tags": []
          }
        }
      ]
    },
    {
      "cell_type": "code",
      "metadata": {
        "id": "UgkUWCtbabhj",
        "colab": {
          "base_uri": "https://localhost:8080/",
          "height": 49
        },
        "outputId": "8463a8b8-d2bc-4eb6-f4ff-6a19a3d97331"
      },
      "source": [
        "%%latex\n",
        "\\displaystyle\n",
        "\n",
        "\\left\\{ \\frac{a}{b} \\right.\n",
        "\n"
      ],
      "execution_count": null,
      "outputs": [
        {
          "output_type": "display_data",
          "data": {
            "text/latex": "\\displaystyle\n\n\\left\\{ \\frac{a}{b} \\right.\n",
            "text/plain": [
              "<IPython.core.display.Latex object>"
            ]
          },
          "metadata": {
            "tags": []
          }
        }
      ]
    },
    {
      "cell_type": "markdown",
      "metadata": {
        "id": "9333Vy-YhjAk"
      },
      "source": [
        "# 行列"
      ]
    },
    {
      "cell_type": "code",
      "metadata": {
        "id": "yBKZWWP0hlDW",
        "colab": {
          "base_uri": "https://localhost:8080/",
          "height": 78
        },
        "outputId": "1336ade5-184a-4933-baad-3f1dcf8b7b9c"
      },
      "source": [
        "%%latex\n",
        "\n",
        "\\begin{array}{lcr}\n",
        "111 & 222 & 333 \\\\\n",
        "44  & 55  & 66 \\\\\n",
        "7   & 8   & 9\n",
        "\\end{array}"
      ],
      "execution_count": null,
      "outputs": [
        {
          "output_type": "display_data",
          "data": {
            "text/latex": "\n\\begin{array}{lcr}\n111 & 222 & 333 \\\\\n44  & 55  & 66 \\\\\n7   & 8   & 9\n\\end{array}",
            "text/plain": [
              "<IPython.core.display.Latex object>"
            ]
          },
          "metadata": {
            "tags": []
          }
        }
      ]
    },
    {
      "cell_type": "code",
      "metadata": {
        "id": "drq4hK7fmryu",
        "colab": {
          "base_uri": "https://localhost:8080/",
          "height": 78
        },
        "outputId": "27e50c00-1e8a-4c91-ebc5-707cb0df663e"
      },
      "source": [
        "%%latex\n",
        "\n",
        "\\begin{pmatrix}\n",
        "111 & 222 & 333 \\\\\n",
        "44  & 55  & 66 \\\\\n",
        "7   & 8   & 9\n",
        "\\end{pmatrix}"
      ],
      "execution_count": null,
      "outputs": [
        {
          "output_type": "display_data",
          "data": {
            "text/latex": "\n\\begin{pmatrix}\n111 & 222 & 333 \\\\\n44  & 55  & 66 \\\\\n7   & 8   & 9\n\\end{pmatrix}",
            "text/plain": [
              "<IPython.core.display.Latex object>"
            ]
          },
          "metadata": {
            "tags": []
          }
        }
      ]
    },
    {
      "cell_type": "markdown",
      "metadata": {
        "id": "oPVkkflvRC-M"
      },
      "source": [
        "### 行列をカッコで囲む\n",
        "$$\n",
        "\\left(\n",
        "\\begin{array}{cc}\n",
        "a & b \\\\\n",
        "c & d\n",
        "\\end{array}\n",
        "\\right)\n",
        "$$"
      ]
    },
    {
      "cell_type": "code",
      "metadata": {
        "id": "AzzGRXcJRLVn",
        "colab": {
          "base_uri": "https://localhost:8080/",
          "height": 58
        },
        "outputId": "d27d882b-e539-40ab-f79a-c7284d766997"
      },
      "source": [
        "%%latex\n",
        "\\displaystyle\n",
        "\n",
        "\\left(\n",
        "\\begin{array}{cc}\n",
        "a & b \\\\\n",
        "c & d\n",
        "\\end{array}\n",
        "\\right)"
      ],
      "execution_count": null,
      "outputs": [
        {
          "output_type": "display_data",
          "data": {
            "text/latex": "\\displaystyle\n\n\\left(\n\\begin{array}{cc}\na & b \\\\\nc & d\n\\end{array}\n\\right)",
            "text/plain": [
              "<IPython.core.display.Latex object>"
            ]
          },
          "metadata": {
            "tags": []
          }
        }
      ]
    },
    {
      "cell_type": "markdown",
      "metadata": {
        "id": "tqISIHLwpP_P"
      },
      "source": [
        "# 練習問題"
      ]
    },
    {
      "cell_type": "markdown",
      "metadata": {
        "id": "0O1SWSw4SMjp"
      },
      "source": [
        "### 複素関数\n",
        "\n",
        "複素関数 $f(z) = f(x + i y ) = u (x, y) + iv(x, y)$ が点 $z_0 = x_0 + iy_0$において正則であるための必要十分条件は、$z_0$ のある $\\varepsilon$ 近傍 $\\Delta (z_0, \\varepsilon)$ においてコーシー・リーマン方程式\n",
        "\n",
        "$$\n",
        "\\begin {eqnarray}\n",
        "\\frac{\\partial u}{\\partial x} &=& \\frac{\\partial v}{\\partial y} \\\\\n",
        "\\frac{\\partial u}{\\partial y} &=& - \\frac{\\partial v}{\\partial x}\n",
        "\\end {eqnarray}\n",
        "$$\n",
        "\n",
        "を満たすことである。"
      ]
    },
    {
      "cell_type": "code",
      "metadata": {
        "id": "jEwDgPrKU07h",
        "colab": {
          "base_uri": "https://localhost:8080/",
          "height": 63
        },
        "outputId": "0d2e9513-fa87-47df-9d58-bdb42b670bb0"
      },
      "source": [
        "%%latex\n",
        "\\displaystyle\n",
        "\n",
        "\\begin {array}{ccc}\n",
        "\\frac{\\partial u}{\\partial x} &=& \\frac{\\partial v}{\\partial y} \\\\\n",
        "\\frac{\\partial u}{\\partial y} &=& - \\frac{\\partial v}{\\partial x}\n",
        "\\end {array}"
      ],
      "execution_count": null,
      "outputs": [
        {
          "output_type": "display_data",
          "data": {
            "text/latex": "\\displaystyle\n\n\\begin {array}{ccc}\n\\frac{\\partial u}{\\partial x} &=& \\frac{\\partial v}{\\partial y} \\\\\n\\frac{\\partial u}{\\partial y} &=& - \\frac{\\partial v}{\\partial x}\n\\end {array}",
            "text/plain": [
              "<IPython.core.display.Latex object>"
            ]
          },
          "metadata": {
            "tags": []
          }
        }
      ]
    },
    {
      "cell_type": "markdown",
      "metadata": {
        "id": "JCnkFEK7n0GD"
      },
      "source": [
        "### 空間曲線\n",
        "$c(t) = (x (t), y(t), z(t))$ によって与えられる空間曲線 $c$ の $c(0)$ を始点として $c(t)$ までの弧長を $s(t)$ とすると\n",
        "</br></br>\n",
        "$$\n",
        "s(t) = \\int_0^t \\sqrt { (\\frac {dx}{dt})^2 + (\\frac {dy}{dt})^2 + (\\frac {dz}{dt})^2}\n",
        "$$\n",
        "</br>\n",
        "と表される"
      ]
    },
    {
      "cell_type": "code",
      "metadata": {
        "id": "zBzYoUr9o6CI",
        "colab": {
          "base_uri": "https://localhost:8080/",
          "height": 62
        },
        "outputId": "eb3a26f1-e0b6-43d1-e6db-efa0d47aba98"
      },
      "source": [
        "%%latex\n",
        "\\displaystyle\n",
        "\n",
        "s(t) = \\int_0^t \\sqrt { (\\frac {dx}{dt})^2 + (\\frac {dy}{dt})^2 + (\\frac {dz}{dt})^2}"
      ],
      "execution_count": null,
      "outputs": [
        {
          "output_type": "display_data",
          "data": {
            "text/latex": "\\displaystyle\n\ns(t) = \\int_0^t \\sqrt { (\\frac {dx}{dt})^2 + (\\frac {dy}{dt})^2 + (\\frac {dz}{dt})^2}",
            "text/plain": [
              "<IPython.core.display.Latex object>"
            ]
          },
          "metadata": {
            "tags": []
          }
        }
      ]
    },
    {
      "cell_type": "markdown",
      "metadata": {
        "id": "v9f0D-eFpCl3"
      },
      "source": [
        "### 微分可能\n",
        "\n",
        "関数 $f$ が開区間 $I$ 上で $n$ 回微分可能であるとする。 このとき、$a, b \\in I$ に対し、\n",
        "</br></br></br>\n",
        "$$\n",
        "f(b) = f(a)+ \\frac{f'(a)}{1!} (b - a) + \\frac{f''(a)}{2!} (b - a)^2 + \\cdots + \\frac{f^{(n - 1)}(a)}{(n - 1)!} (b - a)^{(n - 1)} + R_n(c)\n",
        "$$\n",
        "</br>\n",
        "を満たす $c$ が $a$ と $b$ の間に存在する。"
      ]
    },
    {
      "cell_type": "code",
      "metadata": {
        "id": "hoLm8yHerEru",
        "colab": {
          "base_uri": "https://localhost:8080/",
          "height": 59
        },
        "outputId": "a667a25d-f680-4e24-ec73-bccea308474f"
      },
      "source": [
        "%%latex\n",
        "\\displaystyle\n",
        "\n",
        "f(b) = f(a)+ \\frac{f'(a)}{1!} (b - a) + \\frac{f''(a)}{2!} (b - a)^2 + \\cdots + \\frac{f^{(n - 1)}(a)}{(n - 1)!} (b - a)^{(n - 1)} + R_n(c)\n"
      ],
      "execution_count": null,
      "outputs": [
        {
          "output_type": "display_data",
          "data": {
            "text/latex": "\\displaystyle\n\nf(b) = f(a)+ \\frac{f'(a)}{1!} (b - a) + \\frac{f''(a)}{2!} (b - a)^2 + \\cdots + \\frac{f^{(n - 1)}(a)}{(n - 1)!} (b - a)^{(n - 1)} + R_n(c)",
            "text/plain": [
              "<IPython.core.display.Latex object>"
            ]
          },
          "metadata": {
            "tags": []
          }
        }
      ]
    },
    {
      "cell_type": "markdown",
      "metadata": {
        "id": "R-e13l9GrQ43"
      },
      "source": [
        "### $n$ 次正方行列\n",
        "</br>\n",
        "$$\n",
        "J (\\alpha, m) = \\begin {bmatrix}\n",
        "                    \\alpha & 1 & 0 & \\ldots & 0 \\\\\n",
        "                    0 & \\alpha & 1 & \\ddots & \\vdots \\\\\n",
        "                    \\vdots & \\ddots & \\ddots & \\ddots & 0 \\\\\n",
        "                    \\vdots &  & \\ddots & \\ddots & 1 \\\\\n",
        "                    0 & \\ldots & \\ldots & 0 & \\alpha\n",
        "                \\end {bmatrix}\n",
        "$$\n",
        "</br>\n",
        "を Jordan 細胞と呼ぶ。 正方行列 $A$ が正則行列 $P$ によって\n",
        "</br></br>\n",
        "$$\n",
        "\\begin {array} {lcl}\n",
        "P^{-1} A P &=& J(\\alpha_1, m_1) \\oplus J(\\alpha_2, m_2) \\oplus \\cdots \\oplus J(\\alpha_k, m_k)  \\\\\n",
        "&=& \\begin {bmatrix}\n",
        "        J(\\alpha_1, m_1) & & & \\\\\n",
        "        & J(\\alpha_2, m_2) & & \\\\\n",
        "        & & \\ddots & \\\\\n",
        "        & & & j(\\alpha_k, m_k)\n",
        "    \\end {bmatrix}\n",
        "\\end {array}\n",
        "$$\n",
        "</br>\n",
        "と Jordan 細胞の直和になるとき、これを $A$ の Jordan 標準形と呼ぶ。\n",
        "\n"
      ]
    },
    {
      "cell_type": "code",
      "metadata": {
        "id": "PtaIIJSRwUfX",
        "colab": {
          "base_uri": "https://localhost:8080/",
          "height": 152
        },
        "outputId": "4da73b25-1a57-40a0-d78f-12f75fe77643"
      },
      "source": [
        "%%latex\n",
        "\\displaystyle\n",
        "\n",
        "J (\\alpha, m) = \\begin {bmatrix}\n",
        "                    \\alpha & 1 & 0 & \\ldots & 0 \\\\\n",
        "                    0 & \\alpha & 1 & \\ddots & \\vdots \\\\\n",
        "                    \\vdots & \\ddots & \\ddots & \\ddots & 0 \\\\\n",
        "                    \\vdots &  & \\ddots & \\ddots & 1 \\\\\n",
        "                    0 & \\ldots & \\ldots & 0 & \\alpha\n",
        "                \\end {bmatrix}"
      ],
      "execution_count": null,
      "outputs": [
        {
          "output_type": "display_data",
          "data": {
            "text/latex": "\\displaystyle\n\nJ (\\alpha, m) = \\begin {bmatrix}\n                    \\alpha & 1 & 0 & \\ldots & 0 \\\\\n                    0 & \\alpha & 1 & \\ddots & \\vdots \\\\\n                    \\vdots & \\ddots & \\ddots & \\ddots & 0 \\\\\n                    \\vdots &  & \\ddots & \\ddots & 1 \\\\\n                    0 & \\ldots & \\ldots & 0 & \\alpha\n                \\end {bmatrix}",
            "text/plain": [
              "<IPython.core.display.Latex object>"
            ]
          },
          "metadata": {
            "tags": []
          }
        }
      ]
    },
    {
      "cell_type": "code",
      "metadata": {
        "id": "bdvtu7fYwI1W",
        "colab": {
          "base_uri": "https://localhost:8080/",
          "height": 119
        },
        "outputId": "76ca7ca8-0a9e-491a-ccfa-432df38e7dd0"
      },
      "source": [
        "%%latex\n",
        "\\displaystyle\n",
        "\n",
        "\\begin {array} {lcl}\n",
        "P^{-1} A P &=& J(\\alpha_1, m_1) \\oplus J(\\alpha_2, m_2) \\oplus \\cdots \\oplus J(\\alpha_k, m_k)  \\\\\n",
        "&=& \\begin {bmatrix}\n",
        "        J(\\alpha_1, m_1) & & & \\\\\n",
        "        & J(\\alpha_2, m_2) & & \\\\\n",
        "        & & \\ddots & \\\\\n",
        "        & & & j(\\alpha_k, m_k)\n",
        "    \\end {bmatrix}\n",
        "\\end {array}\n"
      ],
      "execution_count": null,
      "outputs": [
        {
          "output_type": "display_data",
          "data": {
            "text/latex": "\\displaystyle\n\n\\begin {array} {lcl}\nP^{-1} A P &=& J(\\alpha_1, m_1) \\oplus J(\\alpha_2, m_2) \\oplus \\cdots \\oplus J(\\alpha_k, m_k)  \\\\\n&=& \\begin {bmatrix}\n        J(\\alpha_1, m_1) & & & \\\\\n        & J(\\alpha_2, m_2) & & \\\\\n        & & \\ddots & \\\\\n        & & & j(\\alpha_k, m_k)\n    \\end {bmatrix}\n\\end {array}",
            "text/plain": [
              "<IPython.core.display.Latex object>"
            ]
          },
          "metadata": {
            "tags": []
          }
        }
      ]
    },
    {
      "cell_type": "markdown",
      "metadata": {
        "id": "wdOsVm25xi6O"
      },
      "source": [
        "### 二項関係\n",
        "\n",
        "**定義 1** 集合 $X$ 上の二項関係 $\\rho$ について、次の性質を考える。\n",
        "\n",
        "1. すべての $x \\in X$ について、$x \\rho x$ が成り立つ。(反射律)\n",
        "\n",
        "1. $x, y \\in X$ について、$x \\rho y$ ならば $y \\rho x$ が成り立つ。(対称律)\n",
        "\n",
        "1. $x, y, z \\in X$ について、$x \\rho y$ かつ $y \\rho z$ ならば $x \\rho z$ が成り立つ。(推移律)\n",
        "\n",
        "1. $x, y \\in X$ について、$x \\rho y$ かつ $y \\rho x$ ならば $x = y$ が成り立つ。(反対称律)\n",
        "\n",
        "性質 $\\it{1, 2, 3}$ を満たす二項関係を**同値関係**と呼び、性質 $\\it{1, 3, 4}$ を満たす二項関係を**順序関係**と呼ぶ。"
      ]
    },
    {
      "cell_type": "markdown",
      "metadata": {
        "id": "AhnMk_wTnkZU"
      },
      "source": [
        "# 集合の内包表記 set comprehension"
      ]
    },
    {
      "cell_type": "code",
      "metadata": {
        "id": "FPRji7FKkpWg",
        "colab": {
          "base_uri": "https://localhost:8080/",
          "height": 38
        },
        "outputId": "08ba266e-e30e-4696-d47b-1d2fbfbef25d"
      },
      "source": [
        "# 参考 集合で習う集合の内包表記は数式で次の様に書く。\n",
        "%%latex\n",
        "\n",
        "S= \\{2 \\cdot x \\mid x \\in  \\mathbb{N}, \\ x \\leq 10 \\}\n"
      ],
      "execution_count": null,
      "outputs": [
        {
          "output_type": "display_data",
          "data": {
            "text/latex": "\nS= \\{2 \\cdot x \\mid x \\in  \\mathbb{N}, \\ x \\leq 10 \\}",
            "text/plain": [
              "<IPython.core.display.Latex object>"
            ]
          },
          "metadata": {
            "tags": []
          }
        }
      ]
    }
  ]
}