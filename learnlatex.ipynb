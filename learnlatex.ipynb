{
  "nbformat": 4,
  "nbformat_minor": 0,
  "metadata": {
    "kernelspec": {
      "display_name": "Python 3",
      "language": "python",
      "name": "python3"
    },
    "language_info": {
      "codemirror_mode": {
        "name": "ipython",
        "version": 3
      },
      "file_extension": ".py",
      "mimetype": "text/x-python",
      "name": "python",
      "nbconvert_exporter": "python",
      "pygments_lexer": "ipython3",
      "version": "3.6.6"
    },
    "toc": {
      "base_numbering": 1,
      "nav_menu": {},
      "number_sections": true,
      "sideBar": true,
      "skip_h1_title": false,
      "title_cell": "Table of Contents",
      "title_sidebar": "Contents",
      "toc_cell": false,
      "toc_position": {
        "height": "calc(100% - 180px)",
        "left": "10px",
        "top": "150px",
        "width": "336.903px"
      },
      "toc_section_display": true,
      "toc_window_display": true
    },
    "colab": {
      "name": "learnlatex.ipynb",
      "provenance": [],
      "toc_visible": true,
      "include_colab_link": true
    }
  },
  "cells": [
    {
      "cell_type": "markdown",
      "metadata": {
        "id": "view-in-github",
        "colab_type": "text"
      },
      "source": [
        "<a href=\"https://colab.research.google.com/github/kalz2q/mycolabnotebooks/blob/master/learnlatex.ipynb\" target=\"_parent\"><img src=\"https://colab.research.google.com/assets/colab-badge.svg\" alt=\"Open In Colab\"/></a>"
      ]
    },
    {
      "cell_type": "markdown",
      "metadata": {
        "id": "X4JZJvQLY_rw",
        "colab_type": "text"
      },
      "source": [
        "# メモ\n",
        "\n",
        "古いノートブックに$\\LaTeX$を勉強したあとがあったので`Colab`で開いたところ。\n",
        "\n",
        "1. 昔は、というか環境づくりがたいへんだったのだが、いまも本を書こうとしたら環境づくりが必要なのだろうが、目的的に本を書くのではなく学習生産性を上げるのが目的なので、`Colab`が最適。\n",
        "1. 別途、`Colab`で数学、というアプローチを取っているので、`LaTeX`だけをとりあげて学習する意味はないような気がするが。\n",
        "1. 参考サイトを読むときに実験しながら進める。\n",
        "1. TeX入門 ( http://www.comp.tmu.ac.jp/tsakai/lectures/intro_tex.html )\n",
        "1. TeX入門Wiki ( https://texwiki.texjp.org/?LaTeX%E5%85%A5%E9%96%80%2F%E6%9C%80%E5%88%9D%E3%81%AE%E4%BE%8B )\n",
        "1. Learn LaTeX in 30 minutes ( https://www.overleaf.com/learn/latex/Learn_LaTeX_in_30_minutes )"
      ]
    },
    {
      "cell_type": "markdown",
      "metadata": {
        "colab_type": "text",
        "id": "i_Cod0PRbZRu"
      },
      "source": [
        "# 数式記号一覧\n",
        "\n",
        "The Comprehensive LaTeX Symbol List - The CTAN archive ( http://tug.ctan.org/info/symbols/comprehensive/symbols-a4.pdf )\n",
        "\n",
        "Short Math Guide for LaTeX ( https://ftp.yz.yamagata-u.ac.jp/pub/CTAN/info/short-math-guide/short-math-guide.pdf )\n",
        "\n",
        "ギリシャ文字, ドイツ文字, 花文字, 筆記体の TeX 表記をまとめておいた ( https://phasetr.com/blog/2013/04/14/ギリシャ文字-ドイツ文字-筆記体の-tex-表記を/ )"
      ]
    },
    {
      "cell_type": "markdown",
      "metadata": {
        "id": "dlP5VSVvbsxB",
        "colab_type": "text"
      },
      "source": [
        "# はじめに\n",
        "\n",
        "最初は少し例を上げていくのがいいだろう。  \n",
        "実験学習。\n",
        "\n",
        "ところで`%%latex`ってセルマジックがあったがあれはなにか。"
      ]
    },
    {
      "cell_type": "code",
      "metadata": {
        "id": "b5fjp5twb95X",
        "colab_type": "code",
        "colab": {
          "base_uri": "https://localhost:8080/",
          "height": 39
        },
        "outputId": "4b0f7f53-28bd-4900-a439-40064fd8103b"
      },
      "source": [
        "%%latex\n",
        "x = 3"
      ],
      "execution_count": null,
      "outputs": [
        {
          "output_type": "display_data",
          "data": {
            "text/latex": "x = 3",
            "text/plain": [
              "<IPython.core.display.Latex object>"
            ]
          },
          "metadata": {
            "tags": []
          }
        }
      ]
    },
    {
      "cell_type": "markdown",
      "metadata": {
        "id": "PiS-edkxcP_E",
        "colab_type": "text"
      },
      "source": [
        "これをテキストセルで書くと、\n",
        "$$\n",
        "x = 3\n",
        "$$\n",
        "\n",
        "> x = 3\n",
        "\n"
      ]
    },
    {
      "cell_type": "markdown",
      "metadata": {
        "id": "cUEt1ITqcfp3",
        "colab_type": "text"
      },
      "source": [
        "なるほど、もとのと結果を並べる手間が省けるのでいいかもしれない。\n",
        "\n",
        "使おう。"
      ]
    },
    {
      "cell_type": "markdown",
      "metadata": {
        "id": "gS-20EZ4B0lL",
        "colab_type": "text"
      },
      "source": [
        "# 簡単な数式"
      ]
    },
    {
      "cell_type": "code",
      "metadata": {
        "id": "NXhBtJwreRGG",
        "colab_type": "code",
        "colab": {
          "base_uri": "https://localhost:8080/",
          "height": 38
        },
        "outputId": "a2015e68-babe-459a-cab4-8c842093f566"
      },
      "source": [
        "%%latex\n",
        "E = mc^2"
      ],
      "execution_count": null,
      "outputs": [
        {
          "output_type": "display_data",
          "data": {
            "text/latex": "E = mc^2",
            "text/plain": [
              "<IPython.core.display.Latex object>"
            ]
          },
          "metadata": {
            "tags": []
          }
        }
      ]
    },
    {
      "cell_type": "markdown",
      "metadata": {
        "id": "VQ5cdQKxB0lO",
        "colab_type": "text"
      },
      "source": [
        "ここに $c$ は光速で"
      ]
    },
    {
      "cell_type": "code",
      "metadata": {
        "id": "XaZ9k2NuebYv",
        "colab_type": "code",
        "colab": {
          "base_uri": "https://localhost:8080/",
          "height": 38
        },
        "outputId": "2559b15c-c1b0-4f79-d199-faf2b129b413"
      },
      "source": [
        "%%latex\n",
        "c = 299{,}792{,}458 \\, \\mathrm{m/s}"
      ],
      "execution_count": null,
      "outputs": [
        {
          "output_type": "display_data",
          "data": {
            "text/latex": "c = 299{,}792{,}458 \\, \\mathrm{m/s}",
            "text/plain": [
              "<IPython.core.display.Latex object>"
            ]
          },
          "metadata": {
            "tags": []
          }
        }
      ]
    },
    {
      "cell_type": "markdown",
      "metadata": {
        "id": "7JZQs8Ize_jf",
        "colab_type": "text"
      },
      "source": [
        "数字のカンマはこうやって入れるのか。\n",
        "\n",
        "フォントは実験してみよう。"
      ]
    },
    {
      "cell_type": "code",
      "metadata": {
        "id": "205xo7fYfLLI",
        "colab_type": "code",
        "colab": {
          "base_uri": "https://localhost:8080/",
          "height": 102
        },
        "outputId": "191d7a26-5305-4fc0-af32-3d45a547112c"
      },
      "source": [
        "%%latex\n",
        "\\mathrm{a b c d e f A B C }\\\\\n",
        "\\mathcal {abcdefABCDEF}\\\\\n",
        "\\mathfrak {abcdefABCDEF}\\\\\n",
        "\\mathit {abcdefABCDEF}\\\\"
      ],
      "execution_count": null,
      "outputs": [
        {
          "output_type": "display_data",
          "data": {
            "text/latex": "\\mathrm{a b c d e f A B C }\\\\\n\\mathcal {abcdefABCDEF}\\\\\n\\mathfrak {abcdefABCDEF}\\\\\n\\mathit {abcdefABCDEF}\\\\",
            "text/plain": [
              "<IPython.core.display.Latex object>"
            ]
          },
          "metadata": {
            "tags": []
          }
        }
      ]
    },
    {
      "cell_type": "markdown",
      "metadata": {
        "id": "L872XDCqfsyM",
        "colab_type": "text"
      },
      "source": [
        "改行の入れ方がわからない。  => `%%latex`の中ではバックスラッシュ2個。テキストセルの中では改行2つ、またはスペース2つ。  \n",
        "\n",
        "スペースの入れ方はとりあえず、`\\` プラスカンマとかスペース。"
      ]
    },
    {
      "cell_type": "code",
      "metadata": {
        "id": "z_hJqC1ggHRw",
        "colab_type": "code",
        "colab": {
          "base_uri": "https://localhost:8080/",
          "height": 67
        },
        "outputId": "a7ddd1da-39b5-4ca8-9fe3-62a1151dd295"
      },
      "source": [
        "%%latex\n",
        "\\displaystyle\n",
        "\n",
        "\\frac{\\pi}{2} =\n",
        "\\left( \\int_{0}^{\\infty} \\frac{\\sin x}{\\sqrt{x}} dx \\right)^2 =\n",
        "\\sum_{k=0}^{\\infty} \\frac{(2k)!}{2^{2k}(k!)^2} \\frac{1}{2k+1} =\n",
        "\\prod_{k=1}^{\\infty} \\frac{4k^2}{4k^2 - 1}\n"
      ],
      "execution_count": null,
      "outputs": [
        {
          "output_type": "display_data",
          "data": {
            "text/latex": "\\displaystyle\n\\frac{\\pi}{2} =\n\\left( \\int_{0}^{\\infty} \\frac{\\sin x}{\\sqrt{x}} dx \\right)^2 =\n\\sum_{k=0}^{\\infty} \\frac{(2k)!}{2^{2k}(k!)^2} \\frac{1}{2k+1} =\n\\prod_{k=1}^{\\infty} \\frac{4k^2}{4k^2 - 1}",
            "text/plain": [
              "<IPython.core.display.Latex object>"
            ]
          },
          "metadata": {
            "tags": []
          }
        }
      ]
    },
    {
      "cell_type": "markdown",
      "metadata": {
        "id": "ufdfBaWyw9Te",
        "colab_type": "text"
      },
      "source": [
        "`\\displaystyle`としないと、インラインスタイルでフォントが小さくなってしまう。\n",
        "\n",
        "ちなみにバックスラッシュはマックでは`option+¥`。"
      ]
    },
    {
      "cell_type": "code",
      "metadata": {
        "id": "FbVx5XVeB0lT",
        "colab_type": "code",
        "colab": {
          "base_uri": "https://localhost:8080/",
          "height": 89
        },
        "outputId": "6814d879-6193-468d-bc18-959443a88072"
      },
      "source": [
        "%%latex\n",
        "\n",
        "A =\\begin{pmatrix}\n",
        "        a_{11} & \\ldots & a_{1n} \\\\\n",
        "        \\vdots & \\ddots & \\vdots \\\\\n",
        "        a_{m1} & \\ldots & a_{mn}\n",
        "    \\end{pmatrix}"
      ],
      "execution_count": null,
      "outputs": [
        {
          "output_type": "display_data",
          "data": {
            "text/latex": "\nA =\\begin{pmatrix}\n        a_{11} & \\ldots & a_{1n} \\\\\n        \\vdots & \\ddots & \\vdots \\\\\n        a_{m1} & \\ldots & a_{mn}\n    \\end{pmatrix}",
            "text/plain": [
              "<IPython.core.display.Latex object>"
            ]
          },
          "metadata": {
            "tags": []
          }
        }
      ]
    },
    {
      "cell_type": "markdown",
      "metadata": {
        "id": "l0WOCX6ZbsFA",
        "colab_type": "text"
      },
      "source": [
        "文章の中に数式が入るのは、`%%latex`でやるより、マークダウンで書いた方がよさそう。\n",
        "\n",
        "実対称行列 $A$ は直交行列 $P$ によって\n",
        "$$\n",
        "D = P^{-1} A P\n",
        "$$\n",
        "と対角行列 $D$ に対角化される。"
      ]
    },
    {
      "cell_type": "code",
      "metadata": {
        "id": "yIK3j_X-ApgN",
        "colab_type": "code",
        "colab": {
          "base_uri": "https://localhost:8080/",
          "height": 83
        },
        "outputId": "27967ae9-391f-4515-a2fc-6fb4ddfb1e72"
      },
      "source": [
        "%%latex\n",
        "\n",
        "実対称行列\\ A \\ は直交行列 \\ P \\ によって  \\\\\n",
        "D = P^{-1} A P  \\\\\n",
        "と対角行列\\ D \\ に対角化される。"
      ],
      "execution_count": null,
      "outputs": [
        {
          "output_type": "display_data",
          "data": {
            "text/latex": "\n実対称行列\\ A \\ は直交行列 \\ P \\ によって  \\\\\nD = P^{-1} A P  \\\\\nと対角行列\\ D \\ に対角化される。",
            "text/plain": [
              "<IPython.core.display.Latex object>"
            ]
          },
          "metadata": {
            "tags": []
          }
        }
      ]
    },
    {
      "cell_type": "markdown",
      "metadata": {
        "id": "w-cRW9IRB0lV",
        "colab_type": "text"
      },
      "source": [
        "なぜなら、`%%latex`ではいまの私の知識では、\n",
        "\n",
        "1. 数式をセンタリングできない。\n",
        "1. 改行が `\\\\` で、手間がかかる。\n",
        "1. 日本語のフォントが明朝体に変わってしまうのが美しくない。\n",
        "\n",
        "とか。\n",
        "\n",
        "&nbsp;\n",
        "\n",
        "&NewLine;\n",
        "\n",
        "&nbsp;\n",
        "\n",
        "細かくコードセルとテキストセルを交えながら書くのがいいかもしれない。\n",
        "\n",
        "<h1>thsi is written in html</h1>\n",
        "\n",
        "\n",
        "えー!!!! html書けるじゃん。書けないってどこかに書いてあったのに!!!!\n"
      ]
    },
    {
      "cell_type": "markdown",
      "metadata": {
        "id": "DJQHMpG-5nBI",
        "colab_type": "text"
      },
      "source": [
        "実対称行列 $A$ は直交行列 $P$ によって\n"
      ]
    },
    {
      "cell_type": "code",
      "metadata": {
        "id": "hGPGMKjC5tUm",
        "colab_type": "code",
        "colab": {
          "base_uri": "https://localhost:8080/",
          "height": 38
        },
        "outputId": "eadb0edb-a788-48dd-b6aa-863d2c8af2e7"
      },
      "source": [
        "%%latex\n",
        "D = P^{-1} A P"
      ],
      "execution_count": 2,
      "outputs": [
        {
          "output_type": "display_data",
          "data": {
            "text/latex": "D = P^{-1} A P",
            "text/plain": [
              "<IPython.core.display.Latex object>"
            ]
          },
          "metadata": {
            "tags": []
          }
        }
      ]
    },
    {
      "cell_type": "markdown",
      "metadata": {
        "id": "-cGhYRjs54M4",
        "colab_type": "text"
      },
      "source": [
        "と対角行列 $D$ に対角化される。"
      ]
    },
    {
      "cell_type": "markdown",
      "metadata": {
        "id": "AhlKfTE8B0lV",
        "colab_type": "text"
      },
      "source": [
        "# いまここ"
      ]
    }
  ]
}