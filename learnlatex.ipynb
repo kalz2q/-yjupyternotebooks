{
  "nbformat": 4,
  "nbformat_minor": 0,
  "metadata": {
    "kernelspec": {
      "display_name": "Python 3",
      "language": "python",
      "name": "python3"
    },
    "language_info": {
      "codemirror_mode": {
        "name": "ipython",
        "version": 3
      },
      "file_extension": ".py",
      "mimetype": "text/x-python",
      "name": "python",
      "nbconvert_exporter": "python",
      "pygments_lexer": "ipython3",
      "version": "3.6.6"
    },
    "toc": {
      "base_numbering": 1,
      "nav_menu": {},
      "number_sections": true,
      "sideBar": true,
      "skip_h1_title": false,
      "title_cell": "Table of Contents",
      "title_sidebar": "Contents",
      "toc_cell": false,
      "toc_position": {
        "height": "calc(100% - 180px)",
        "left": "10px",
        "top": "150px",
        "width": "336.903px"
      },
      "toc_section_display": true,
      "toc_window_display": true
    },
    "colab": {
      "name": "learnlatex.ipynb",
      "provenance": [],
      "toc_visible": true,
      "include_colab_link": true
    }
  },
  "cells": [
    {
      "cell_type": "markdown",
      "metadata": {
        "id": "view-in-github",
        "colab_type": "text"
      },
      "source": [
        "<a href=\"https://colab.research.google.com/github/kalz2q/mycolabnotebooks/blob/master/learnlatex.ipynb\" target=\"_parent\"><img src=\"https://colab.research.google.com/assets/colab-badge.svg\" alt=\"Open In Colab\"/></a>"
      ]
    },
    {
      "cell_type": "markdown",
      "metadata": {
        "id": "X4JZJvQLY_rw"
      },
      "source": [
        "# メモ\n",
        "\n",
        "1. colab は latex のサブセットをサポートしていて、数式は latex を使って書ける。\n",
        "1. 参考サイトを読みながら latex を勉強する。  \n",
        "TeX入門 ( http://www.comp.tmu.ac.jp/tsakai/lectures/intro_tex.html )  \n",
        "TeX入門Wiki ( https://texwiki.texjp.org/)  \n",
        "Learn LaTeX in 30 minutes ( https://www.overleaf.com/learn/latex/ \n",
        "Learn_LaTeX_in_30_minutes )  \n",
        "MathJax ( https://docs.mathjax.org/en/v2.5-latest/tex.html )"
      ]
    },
    {
      "cell_type": "markdown",
      "metadata": {
        "id": "i_Cod0PRbZRu"
      },
      "source": [
        "# 数式記号一覧\n",
        "\n",
        "The Comprehensive LaTeX Symbol List - The CTAN archive ( http://tug.ctan.org/info/symbols/comprehensive/symbols-a4.pdf )\n",
        "\n",
        "Short Math Guide for LaTeX ( https://ftp.yz.yamagata-u.ac.jp/pub/CTAN/info/short-math-guide/short-math-guide.pdf )\n",
        "\n",
        "ギリシャ文字, ドイツ文字, 花文字, 筆記体の TeX 表記をまとめておいた ( https://phasetr.com/blog/2013/04/14/ギリシャ文字-ドイツ文字-筆記体の-tex-表記を/ )"
      ]
    },
    {
      "cell_type": "markdown",
      "metadata": {
        "id": "dlP5VSVvbsxB"
      },
      "source": [
        "# はじめに\n",
        "\n",
        "実験学習。 マークダウンでテキストの中に latex を入れることができる。\n",
        "\n",
        "$$\n",
        "x = 3\n",
        "$$\n",
        "\n",
        "これをセルマジックの `%%latex` で書くとつぎのようになる。"
      ]
    },
    {
      "cell_type": "code",
      "metadata": {
        "id": "b5fjp5twb95X",
        "colab": {
          "base_uri": "https://localhost:8080/",
          "height": 39
        },
        "outputId": "75f4095a-f1dd-4cec-8dbc-35512981db7c"
      },
      "source": [
        "%%latex\n",
        "x = 3"
      ],
      "execution_count": null,
      "outputs": [
        {
          "output_type": "display_data",
          "data": {
            "text/latex": "x = 3",
            "text/plain": [
              "<IPython.core.display.Latex object>"
            ]
          },
          "metadata": {
            "tags": []
          }
        }
      ]
    },
    {
      "cell_type": "markdown",
      "metadata": {
        "id": "kVRica7_toLs"
      },
      "source": [
        "sympy を使って書くこともできる。"
      ]
    },
    {
      "cell_type": "code",
      "metadata": {
        "id": "WLbawHy6vgvz",
        "colab": {
          "base_uri": "https://localhost:8080/",
          "height": 39
        },
        "outputId": "b083abc1-eab9-44eb-9581-04a92d6c4c25"
      },
      "source": [
        "from sympy import *\r\n",
        "init_printing()\r\n",
        "x = symbols('x')\r\n",
        "display(Eq(x, 3))"
      ],
      "execution_count": null,
      "outputs": [
        {
          "output_type": "display_data",
          "data": {
            "image/png": "[encoded data removed]",
            "text/latex": "$\\displaystyle x = 3$",
            "text/plain": [
              "x = 3"
            ]
          },
          "metadata": {
            "tags": []
          }
        }
      ]
    },
    {
      "cell_type": "markdown",
      "metadata": {
        "id": "gS-20EZ4B0lL"
      },
      "source": [
        "# 簡単な数式"
      ]
    },
    {
      "cell_type": "code",
      "metadata": {
        "id": "NXhBtJwreRGG",
        "colab": {
          "base_uri": "https://localhost:8080/",
          "height": 39
        },
        "outputId": "688764cf-4f69-4264-c715-3f0d49e28f0b"
      },
      "source": [
        "%%latex\n",
        "E = mc^2"
      ],
      "execution_count": null,
      "outputs": [
        {
          "output_type": "display_data",
          "data": {
            "text/latex": "E = mc^2",
            "text/plain": [
              "<IPython.core.display.Latex object>"
            ]
          },
          "metadata": {
            "tags": []
          }
        }
      ]
    },
    {
      "cell_type": "markdown",
      "metadata": {
        "id": "VQ5cdQKxB0lO"
      },
      "source": [
        "ここで $c$ は光速をあらわし、値は次の通り。"
      ]
    },
    {
      "cell_type": "code",
      "metadata": {
        "id": "XaZ9k2NuebYv",
        "colab": {
          "base_uri": "https://localhost:8080/",
          "height": 39
        },
        "outputId": "dc8f8032-c86c-4214-b08e-94ae75937b19"
      },
      "source": [
        "%%latex\n",
        "c = 299{,}792{,}458 \\, \\mathrm{m/s}"
      ],
      "execution_count": null,
      "outputs": [
        {
          "output_type": "display_data",
          "data": {
            "text/latex": "c = 299{,}792{,}458 \\, \\mathrm{m/s}",
            "text/plain": [
              "<IPython.core.display.Latex object>"
            ]
          },
          "metadata": {
            "tags": []
          }
        }
      ]
    },
    {
      "cell_type": "markdown",
      "metadata": {
        "id": "7JZQs8Ize_jf"
      },
      "source": [
        "数字のカンマは `{,}` として入れる。\n"
      ]
    },
    {
      "cell_type": "markdown",
      "metadata": {
        "id": "JJRGMDwVF90w"
      },
      "source": [
        "### 数字の前のドル`$`マーク\n",
        "\n",
        "テキストセルで、この本は\\$35.50です、というような時はドルマーク `$` の前にバックスラッシュでエスケープするか、バッククオートで囲む。\n",
        "\n",
        "%%latex の中ではエスケープしないでよい。\n"
      ]
    },
    {
      "cell_type": "code",
      "metadata": {
        "id": "AbyrchbOJqBH",
        "colab": {
          "base_uri": "https://localhost:8080/",
          "height": 87
        },
        "outputId": "418fd3e2-635d-4281-e9f7-4f3e6e4185cd"
      },
      "source": [
        "%%latex\r\n",
        "この本は\\,$35.50\\,です。 \\\\\r\n",
        "ドルマークエスケープする必要はない。\\\\\r\n",
        "\\$ バックスラッシュをつけるとこうなる。\\\\\r\n",
        "`$` バッククオートで書くとこうなる。"
      ],
      "execution_count": null,
      "outputs": [
        {
          "output_type": "display_data",
          "data": {
            "text/latex": "この本は\\,$35.50\\,です。 \\\\\nドルマークエスケープする必要はない。\\\\\n\\$ バックスラッシュをつけるとこうなる。\\\\\n`$` バッククオートで書くとこうなる。",
            "text/plain": [
              "<IPython.core.display.Latex object>"
            ]
          },
          "metadata": {
            "tags": []
          }
        }
      ]
    },
    {
      "cell_type": "markdown",
      "metadata": {
        "id": "c8tGCBDJFPRg"
      },
      "source": [
        "### フォントの実験"
      ]
    },
    {
      "cell_type": "code",
      "metadata": {
        "id": "205xo7fYfLLI",
        "colab": {
          "base_uri": "https://localhost:8080/",
          "height": 124
        },
        "outputId": "39bb604c-8a44-4406-87f7-8a9e0f2ebdb6"
      },
      "source": [
        "%%latex\n",
        "\\mathrm{a b c d e f A B C }\\\\\n",
        "\\mathbb{a b c d e f A B C }\\\\\n",
        "\\mathcal {abcdefABCDEF}\\\\\n",
        "\\mathfrak {abcdefABCDEF}\\\\\n",
        "\\mathit {abcdefABCDEF}\\\\"
      ],
      "execution_count": null,
      "outputs": [
        {
          "output_type": "display_data",
          "data": {
            "text/latex": "\\mathrm{a b c d e f A B C }\\\\\n\\mathbb{a b c d e f A B C }\\\\\n\\mathcal {abcdefABCDEF}\\\\\n\\mathfrak {abcdefABCDEF}\\\\\n\\mathit {abcdefABCDEF}\\\\",
            "text/plain": [
              "<IPython.core.display.Latex object>"
            ]
          },
          "metadata": {
            "tags": []
          }
        }
      ]
    },
    {
      "cell_type": "markdown",
      "metadata": {
        "id": "L872XDCqfsyM"
      },
      "source": [
        "### 改行とスペース\n",
        "\n",
        "改行の入れ方がわからない。  => %%latex の中ではバックスラッシュ2個。\n",
        "\n",
        "スペースの入れ方はとりあえず、`\\` プラスカンマとかスペース。`\\quad` というのもある。\n",
        "\n",
        "ちなみにバックスラッシュはマックでは `option+¥`。\n"
      ]
    },
    {
      "cell_type": "code",
      "metadata": {
        "id": "_4EjnRLlKG9Z",
        "colab": {
          "base_uri": "https://localhost:8080/",
          "height": 81
        },
        "outputId": "543520d0-1591-4076-ef61-f6142cb0a883"
      },
      "source": [
        "%%latex\r\n",
        "latex \\ の中での改行は\\  \\backslash \\ を行末に2個入れる。 \\\\\r\n",
        "その他の特殊記号は\\  \\backslash \\ でエスケープ。\\\\\r\n",
        "\\\\\r\n",
        "空白行と\\ tilde \\ と\\  circumflex \\ がエスケープできない。 なにか方法があるのだろうか。"
      ],
      "execution_count": null,
      "outputs": [
        {
          "output_type": "display_data",
          "data": {
            "text/latex": "latex \\ の中での改行は\\  \\backslash \\ を行末に2個入れる。 \\\\\nその他の特殊記号は\\  \\backslash \\ でエスケープ。\\\\\n\\\\\n空白行と\\ tilde \\ と\\  circumflex \\ がエスケープできない。 なにか方法があるのだろうか。",
            "text/plain": [
              "<IPython.core.display.Latex object>"
            ]
          },
          "metadata": {
            "tags": []
          }
        }
      ]
    },
    {
      "cell_type": "markdown",
      "metadata": {
        "id": "VI-JuDWMuQ-F"
      },
      "source": [
        "いまの考え。 普通の文章はテキストセルでマークダウンで書く。\r\n",
        "\r\n",
        "数式はコードセルで %%latex というマジックコマンドを入れて書いて、実行する。 こうすることで latex のソースを明示的に見ることができる。\r\n",
        "\r\n",
        "sympy は数式処理も行えて便利だが、数式の形式を自由には選べないので、応用して使う。"
      ]
    },
    {
      "cell_type": "markdown",
      "metadata": {
        "id": "A3Z0alVOPf75"
      },
      "source": [
        "\n",
        "### インテグラル\n",
        "$$\n",
        "\\frac{\\pi}{2} =\n",
        "\\left( \\int_{0}^{\\infty} \\frac{\\sin x}{\\sqrt{x}} dx \\right)^2 =\n",
        "\\sum_{k=0}^{\\infty} \\frac{(2k)!}{2^{2k}(k!)^2} \\frac{1}{2k+1} =\n",
        "\\prod_{k=1}^{\\infty} \\frac{4k^2}{4k^2 - 1}\n",
        "$$"
      ]
    },
    {
      "cell_type": "code",
      "metadata": {
        "id": "z_hJqC1ggHRw",
        "colab": {
          "base_uri": "https://localhost:8080/",
          "height": 67
        },
        "outputId": "4a73fe8c-19d9-46ec-aa77-0d9cba9a7072"
      },
      "source": [
        "# インテグラル 積分記号\n",
        "# latex では \\int , sympy では Integral\n",
        "%%latex\n",
        "\\displaystyle\n",
        "\\frac{\\pi}{2}\n",
        "=\n",
        "\\left( \\int_{0}^{\\infty} \\frac{\\sin x}{\\sqrt{x}} dx \\right)^2\n",
        "=\n",
        "\\sum_{k=0}^{\\infty} \\frac{(2k)!}{2^{2k}(k!)^2} \\frac{1}{2k+1}\n",
        "=\n",
        "\\prod_{k=1}^{\\infty} \\frac{4k^2}{4k^2 - 1}"
      ],
      "execution_count": null,
      "outputs": [
        {
          "output_type": "display_data",
          "data": {
            "text/latex": "\\displaystyle\n\\frac{\\pi}{2}\n=\n\\left( \\int_{0}^{\\infty} \\frac{\\sin x}{\\sqrt{x}} dx \\right)^2\n=\n\\sum_{k=0}^{\\infty} \\frac{(2k)!}{2^{2k}(k!)^2} \\frac{1}{2k+1}\n=\n\\prod_{k=1}^{\\infty} \\frac{4k^2}{4k^2 - 1}",
            "text/plain": [
              "<IPython.core.display.Latex object>"
            ]
          },
          "metadata": {
            "tags": []
          }
        }
      ]
    },
    {
      "cell_type": "markdown",
      "metadata": {
        "id": "ufdfBaWyw9Te"
      },
      "source": [
        "`\\displaystyle`としないと、インラインスタイルでフォントが小さくなってしまう。\n",
        "\n"
      ]
    },
    {
      "cell_type": "code",
      "metadata": {
        "id": "2L5wOq-9vUJu",
        "colab": {
          "base_uri": "https://localhost:8080/",
          "height": 193
        },
        "outputId": "ae773b4d-67d7-40b8-af8e-e19af93e1018"
      },
      "source": [
        "%%latex\r\n",
        "\\displaystyle\r\n",
        "\r\n",
        "\\frac{\\pi}{2} \\\\\r\n",
        "= \\left( \\int_{0}^{\\infty} \\frac{\\sin x}{\\sqrt{x}} dx \\right)^2 \\\\\r\n",
        "= \\sum_{k=0}^{\\infty} \\frac{(2k)!}{2^{2k}(k!)^2} \\frac{1}{2k+1} \\\\\r\n",
        "= \\prod_{k=1}^{\\infty} \\frac{4k^2}{4k^2 - 1}\r\n"
      ],
      "execution_count": null,
      "outputs": [
        {
          "output_type": "display_data",
          "data": {
            "text/latex": "\\displaystyle\n\n\\frac{\\pi}{2} \\\\\n= \\left( \\int_{0}^{\\infty} \\frac{\\sin x}{\\sqrt{x}} dx \\right)^2 \\\\\n= \\sum_{k=0}^{\\infty} \\frac{(2k)!}{2^{2k}(k!)^2} \\frac{1}{2k+1} \\\\\n= \\prod_{k=1}^{\\infty} \\frac{4k^2}{4k^2 - 1}",
            "text/plain": [
              "<IPython.core.display.Latex object>"
            ]
          },
          "metadata": {
            "tags": []
          }
        }
      ]
    },
    {
      "cell_type": "markdown",
      "metadata": {
        "id": "JbP2dlWhWjgc"
      },
      "source": [
        "# 括弧\n"
      ]
    },
    {
      "cell_type": "markdown",
      "metadata": {
        "id": "izyrEmSv6mIS"
      },
      "source": [
        "# 行列 matrix"
      ]
    },
    {
      "cell_type": "code",
      "metadata": {
        "id": "FbVx5XVeB0lT",
        "colab": {
          "base_uri": "https://localhost:8080/",
          "height": 89
        },
        "outputId": "e4f63aa0-d636-470b-941e-c49cbda3fb14"
      },
      "source": [
        "%%latex\n",
        "\\displaystyle\n",
        "A =\\begin{pmatrix}\n",
        "    a_{11} & \\ldots & a_{1n} \\\\\n",
        "    \\vdots & \\ddots & \\vdots \\\\\n",
        "    a_{m1} & \\ldots & a_{mn}\n",
        "\\end{pmatrix}"
      ],
      "execution_count": null,
      "outputs": [
        {
          "output_type": "display_data",
          "data": {
            "text/latex": "\\displaystyle\nA =\\begin{pmatrix}\n    a_{11} & \\ldots & a_{1n} \\\\\n    \\vdots & \\ddots & \\vdots \\\\\n    a_{m1} & \\ldots & a_{mn}\n\\end{pmatrix}",
            "text/plain": [
              "<IPython.core.display.Latex object>"
            ]
          },
          "metadata": {
            "tags": []
          }
        }
      ]
    },
    {
      "cell_type": "code",
      "metadata": {
        "id": "9tZ1VC3OYWcA",
        "colab": {
          "base_uri": "https://localhost:8080/",
          "height": 89
        },
        "outputId": "45749101-db34-480a-d3bc-5f9dea5be309"
      },
      "source": [
        "%%latex\r\n",
        "\\displaystyle\r\n",
        "A =\\begin{bmatrix}\r\n",
        "    a_{11} & \\ldots & a_{1n} \\\\\r\n",
        "    \\vdots & \\ddots & \\vdots \\\\\r\n",
        "    a_{m1} & \\ldots & a_{mn}\r\n",
        "\\end{bmatrix}"
      ],
      "execution_count": null,
      "outputs": [
        {
          "output_type": "display_data",
          "data": {
            "text/latex": "\\displaystyle\nA =\\begin{bmatrix}\n    a_{11} & \\ldots & a_{1n} \\\\\n    \\vdots & \\ddots & \\vdots \\\\\n    a_{m1} & \\ldots & a_{mn}\n\\end{bmatrix}",
            "text/plain": [
              "<IPython.core.display.Latex object>"
            ]
          },
          "metadata": {
            "tags": []
          }
        }
      ]
    },
    {
      "cell_type": "markdown",
      "metadata": {
        "id": "l0WOCX6ZbsFA"
      },
      "source": [
        "直交行列\n",
        "実対称行列 $A$ は直交行列 $P$ によって  \n",
        "D = P^{-1} A P  \n",
        "と対角行列 $D$ に対角化される。  \n"
      ]
    },
    {
      "cell_type": "code",
      "metadata": {
        "id": "hGPGMKjC5tUm",
        "colab": {
          "base_uri": "https://localhost:8080/",
          "height": 39
        },
        "outputId": "0d4dc288-423c-421e-8b11-4c8216eed643"
      },
      "source": [
        "# 直交行列\n",
        "# 実対称行列 $A$ は直交行列 $P$ によって  \n",
        "# D = P^{-1} A P  \n",
        "# と対角行列 $D$ に対角化される。  \n",
        "%%latex\n",
        "D = P^{-1} A P"
      ],
      "execution_count": null,
      "outputs": [
        {
          "output_type": "display_data",
          "data": {
            "text/latex": "D = P^{-1} A P",
            "text/plain": [
              "<IPython.core.display.Latex object>"
            ]
          },
          "metadata": {
            "tags": []
          }
        }
      ]
    },
    {
      "cell_type": "code",
      "metadata": {
        "id": "qXRmBXE2PuHC",
        "colab": {
          "base_uri": "https://localhost:8080/",
          "height": 67
        },
        "outputId": "89e8d027-d4f9-40f3-899f-42e326164381"
      },
      "source": [
        "# Sigma , Sum, \n",
        "%%latex\n",
        "\\displaystyle\n",
        "\\sin x = \\sum_{n=0}^{\\infty} \\frac{(-1)^n}{(2n+1)!} x^{2n+1}"
      ],
      "execution_count": null,
      "outputs": [
        {
          "output_type": "display_data",
          "data": {
            "text/latex": "\\displaystyle\n\\sin x = \\sum_{n=0}^{\\infty} \\frac{(-1)^n}{(2n+1)!} x^{2n+1}",
            "text/plain": [
              "<IPython.core.display.Latex object>"
            ]
          },
          "metadata": {
            "tags": []
          }
        }
      ]
    },
    {
      "cell_type": "code",
      "metadata": {
        "id": "BwuoDXTSQKR7",
        "colab": {
          "base_uri": "https://localhost:8080/",
          "height": 59
        },
        "outputId": "9d638d0e-1b16-449e-d7b3-8ec36dcc034f"
      },
      "source": [
        "# \\int, Integral, \\lim, \n",
        "%%latex\n",
        "\\displaystyle\n",
        "\\int_{0}^{1} \\log x \\,dx\n",
        "= \\lim_{\\epsilon \\to +0} \\int_{\\epsilon}^{1} \\log x \\,dx\n",
        "= \\lim_{\\epsilon \\to +0} [x \\log x - x]_{\\epsilon}^{1}\n",
        "= -1"
      ],
      "execution_count": null,
      "outputs": [
        {
          "output_type": "display_data",
          "data": {
            "text/latex": "\\displaystyle\n\\int_{0}^{1} \\log x \\,dx\n= \\lim_{\\epsilon \\to +0} \\int_{\\epsilon}^{1} \\log x \\,dx\n= \\lim_{\\epsilon \\to +0} [x \\log x - x]_{\\epsilon}^{1}\n= -1",
            "text/plain": [
              "<IPython.core.display.Latex object>"
            ]
          },
          "metadata": {
            "tags": []
          }
        }
      ]
    },
    {
      "cell_type": "code",
      "metadata": {
        "id": "SqHt58ANQ-Nb",
        "colab": {
          "base_uri": "https://localhost:8080/",
          "height": 107
        },
        "outputId": "a4fe1880-6cc3-49f0-c235-7fb76bfc3274"
      },
      "source": [
        "# `%%latex`の中では`eqnarray`は使えない\n",
        "# `eqnarray`は使えないが`array`で代用できる。  \n",
        "# 数式を正しく表示するには \\displaystyle をちりばめる必要があるみたい。\n",
        "%%latex\n",
        "\\begin{array}{lcl}\n",
        "    \\displaystyle \n",
        "    \\int_{0}^{1} \\log x dx\n",
        "     & = & \\displaystyle \\lim_{\\epsilon \\to +0} \\int_{\\epsilon}^{1} \\log x dx \\\\\n",
        "     & = & \\displaystyle \\lim_{\\epsilon \\to +0} [x \\log x - x]_{\\epsilon}^{1} \\\\\n",
        "     & = & -1\n",
        "\\end{array}"
      ],
      "execution_count": null,
      "outputs": [
        {
          "output_type": "display_data",
          "data": {
            "text/latex": "\\begin{array}{lcl}\n    \\displaystyle \n    \\int_{0}^{1} \\log x dx\n     & = & \\displaystyle \\lim_{\\epsilon \\to +0} \\int_{\\epsilon}^{1} \\log x dx \\\\\n     & = & \\displaystyle \\lim_{\\epsilon \\to +0} [x \\log x - x]_{\\epsilon}^{1} \\\\\n     & = & -1\n\\end{array}",
            "text/plain": [
              "<IPython.core.display.Latex object>"
            ]
          },
          "metadata": {
            "tags": []
          }
        }
      ]
    },
    {
      "cell_type": "code",
      "metadata": {
        "id": "koHc7A_oKAVw",
        "colab": {
          "base_uri": "https://localhost:8080/",
          "height": 58
        },
        "outputId": "78e50c45-c5c7-466b-fc7b-c1f3e3397c50"
      },
      "source": [
        "# \\begin{array} の使い方。 \r\n",
        "# array の間に ampersand `&` が入る。\r\n",
        "# \\begin と {array} の間にスペースが入るとlatexindent で format されない。\r\n",
        "# イコールで揃えたい時は次のようにやる。\r\n",
        "%%latex\r\n",
        "\\displaystyle\r\n",
        "\\begin{array}\r\n",
        "    lkj;lkj & = & jk          \\\\\r\n",
        "            & = & kj;ljk;jk;j\r\n",
        "\\end{array}"
      ],
      "execution_count": null,
      "outputs": [
        {
          "output_type": "display_data",
          "data": {
            "text/latex": "\\displaystyle\n\\begin {array}\nlkj;lkj & = & jk  \\\\\n&=&  kj;ljk;jk;j\n\\end {array}",
            "text/plain": [
              "<IPython.core.display.Latex object>"
            ]
          },
          "metadata": {
            "tags": []
          }
        }
      ]
    },
    {
      "cell_type": "code",
      "metadata": {
        "id": "Jb03yr1JSOma",
        "colab": {
          "base_uri": "https://localhost:8080/",
          "height": 101
        },
        "outputId": "a3e78787-618d-457e-e4c9-25eee5c0b339"
      },
      "source": [
        "# 行間がきついときには \\\\ のあとに [0.3em] とか入れる\n",
        "%%latex\n",
        "\\displaystyle\n",
        "\\begin{array}{lcl}\n",
        "    \\sin(\\alpha \\pm \\beta) & = & \\sin \\alpha \\cos \\beta \\pm \\cos \\alpha \\sin \\beta               \\\\\n",
        "    \\cos(\\alpha \\pm \\beta) & = & \\cos \\alpha \\cos \\beta \\mp \\sin \\alpha \\sin \\beta               \\\\[0.3em]\n",
        "    \\tan(\\alpha \\pm \\beta) & = & \\displaystyle \\frac{\\tan \\alpha \\pm \\tan \\beta}{1 \\mp \\tan \\alpha \\tan \\beta}\n",
        "\\end{array}"
      ],
      "execution_count": null,
      "outputs": [
        {
          "output_type": "display_data",
          "data": {
            "text/latex": "\\displaystyle\n\\begin{array}{lcl}\n    \\sin(\\alpha \\pm \\beta) & = & \\sin \\alpha \\cos \\beta \\pm \\cos \\alpha \\sin \\beta               \\\\\n    \\cos(\\alpha \\pm \\beta) & = & \\cos \\alpha \\cos \\beta \\mp \\sin \\alpha \\sin \\beta               \\\\[0.3em]\n    \\tan(\\alpha \\pm \\beta) & = & \\displaystyle \\frac{\\tan \\alpha \\pm \\tan \\beta}{1 \\mp \\tan \\alpha \\tan \\beta}\n\\end{array}",
            "text/plain": [
              "<IPython.core.display.Latex object>"
            ]
          },
          "metadata": {
            "tags": []
          }
        }
      ]
    },
    {
      "cell_type": "code",
      "metadata": {
        "id": "GV3TDo_bTfD9",
        "colab": {
          "base_uri": "https://localhost:8080/",
          "height": 124
        },
        "outputId": "7fc4f72c-14e8-4263-8b0f-37b4cd548d1d"
      },
      "source": [
        "# 括弧のいろいろ\n",
        "%%latex\n",
        "[ (x) ] \\\\\n",
        "\\{ x \\}\\\\\n",
        "\\| x \\| \\\\\n",
        "| x | \\\\\n",
        "\\langle x \\rangle"
      ],
      "execution_count": null,
      "outputs": [
        {
          "output_type": "display_data",
          "data": {
            "text/latex": "[ (x) ] \\\\\n\\{ x \\}\\\\\n\\| x \\| \\\\\n| x | \\\\\n\\langle x \\rangle",
            "text/plain": [
              "<IPython.core.display.Latex object>"
            ]
          },
          "metadata": {
            "tags": []
          }
        }
      ]
    },
    {
      "cell_type": "code",
      "metadata": {
        "id": "xKyM3qnxWuEC",
        "colab": {
          "base_uri": "https://localhost:8080/",
          "height": 68
        },
        "outputId": "cfc15c51-b219-4c57-9a17-8d2991382cba"
      },
      "source": [
        "%%latex\n",
        "\\displaystyle\n",
        "\\Bigg( \\bigg[ \\Big\\{ \\big\\| \\langle x \\rangle \\big\\| \\Big\\} \\bigg] \\Bigg)"
      ],
      "execution_count": null,
      "outputs": [
        {
          "output_type": "display_data",
          "data": {
            "text/latex": "\\displaystyle\n\\displaystyle \\Bigg( \\bigg[ \\Big\\{ \\big\\| \\langle x \\rangle \\big\\| \\Big\\} \\bigg] \\Bigg)",
            "text/plain": [
              "<IPython.core.display.Latex object>"
            ]
          },
          "metadata": {
            "tags": []
          }
        }
      ]
    },
    {
      "cell_type": "code",
      "metadata": {
        "id": "Ka0qoGgeXAey",
        "colab": {
          "base_uri": "https://localhost:8080/",
          "height": 57
        },
        "outputId": "d0ec112c-d120-4908-b154-d77542a0acb3"
      },
      "source": [
        "# 左右の括弧に`\\left`、`\\right`をつけると自動で可変になる。 大きくなる。\n",
        "# `\\left`、`\\right`はかならずペアで、片方だけ使うときはピリオド `.` をつける。\n",
        "%%latex\n",
        "\\displaystyle \n",
        "\\left( \\frac{a}{b} \\right)\n",
        "\\left( \\int_a^\\infty x \\, dx \\right)"
      ],
      "execution_count": null,
      "outputs": [
        {
          "output_type": "display_data",
          "data": {
            "text/latex": "\\displaystyle \n\\left( \\frac{a}{b} \\right)\n\\left( \\int_a^\\infty x \\, dx \\right)",
            "text/plain": [
              "<IPython.core.display.Latex object>"
            ]
          },
          "metadata": {
            "tags": []
          }
        }
      ]
    },
    {
      "cell_type": "code",
      "metadata": {
        "id": "UgkUWCtbabhj",
        "colab": {
          "base_uri": "https://localhost:8080/",
          "height": 48
        },
        "outputId": "9e9e60f8-3f39-4999-c2fb-64368d3dfa58"
      },
      "source": [
        "# 括弧を片方だけつかってみる\n",
        "%%latex\n",
        "\\displaystyle\n",
        "\\left\\{ \\frac{a}{b} \\right."
      ],
      "execution_count": null,
      "outputs": [
        {
          "output_type": "display_data",
          "data": {
            "text/latex": "\\displaystyle\n\\left\\{ \\frac{a}{b} \\right.",
            "text/plain": [
              "<IPython.core.display.Latex object>"
            ]
          },
          "metadata": {
            "tags": []
          }
        }
      ]
    },
    {
      "cell_type": "code",
      "metadata": {
        "colab": {
          "base_uri": "https://localhost:8080/",
          "height": 101
        },
        "id": "1ba_unNA85vz",
        "outputId": "fab53737-5e60-4c1c-8845-1998238c46c6"
      },
      "source": [
        "# 括弧を片方だけつかってみる\r\n",
        "%%latex\r\n",
        "\\displaystyle\r\n",
        "\\left\\{\r\n",
        "\\begin{array}{lcl}\r\n",
        "    \\sin(\\alpha \\pm \\beta) & = & \\sin \\alpha \\cos \\beta \\pm \\cos \\alpha \\sin \\beta               \\\\\r\n",
        "    \\cos(\\alpha \\pm \\beta) & = & \\cos \\alpha \\cos \\beta \\mp \\sin \\alpha \\sin \\beta               \\\\[0.3em]\r\n",
        "    \\tan(\\alpha \\pm \\beta) & = & \\displaystyle \\frac{\\tan \\alpha \\pm \\tan \\beta}{1 \\mp \\tan \\alpha \\tan \\beta}\r\n",
        "\\end{array}\r\n",
        "\\right."
      ],
      "execution_count": null,
      "outputs": [
        {
          "output_type": "display_data",
          "data": {
            "text/latex": "\\displaystyle\n\\left\\{\n\\begin{array}{lcl}\n    \\sin(\\alpha \\pm \\beta) & = & \\sin \\alpha \\cos \\beta \\pm \\cos \\alpha \\sin \\beta               \\\\\n    \\cos(\\alpha \\pm \\beta) & = & \\cos \\alpha \\cos \\beta \\mp \\sin \\alpha \\sin \\beta               \\\\[0.3em]\n    \\tan(\\alpha \\pm \\beta) & = & \\displaystyle \\frac{\\tan \\alpha \\pm \\tan \\beta}{1 \\mp \\tan \\alpha \\tan \\beta}\n\\end{array}\n\\right.",
            "text/plain": [
              "<IPython.core.display.Latex object>"
            ]
          },
          "metadata": {
            "tags": []
          }
        }
      ]
    },
    {
      "cell_type": "code",
      "metadata": {
        "id": "yBKZWWP0hlDW",
        "colab": {
          "base_uri": "https://localhost:8080/",
          "height": 78
        },
        "outputId": "c9467a28-3cf7-43f8-afcc-fa46ffe6c1be"
      },
      "source": [
        "%%latex\n",
        "\n",
        "\\begin{array}{lcr}\n",
        "111 & 222 & 333 \\\\\n",
        "44  & 55  & 66 \\\\\n",
        "7   & 8   & 9\n",
        "\\end{array}"
      ],
      "execution_count": null,
      "outputs": [
        {
          "output_type": "display_data",
          "data": {
            "text/latex": "\n\\begin{array}{lcr}\n111 & 222 & 333 \\\\\n44  & 55  & 66 \\\\\n7   & 8   & 9\n\\end{array}",
            "text/plain": [
              "<IPython.core.display.Latex object>"
            ]
          },
          "metadata": {
            "tags": []
          }
        }
      ]
    },
    {
      "cell_type": "code",
      "metadata": {
        "id": "drq4hK7fmryu",
        "colab": {
          "base_uri": "https://localhost:8080/",
          "height": 139
        },
        "outputId": "2fac997c-58d1-4908-f770-97e5e6ed2dbd"
      },
      "source": [
        "# 行列を括弧で囲むには array ではなく pmatrix を使う。\n",
        "# \\left(,\\right) を使うこともできる\n",
        "%%latex\n",
        "\\begin{pmatrix}\n",
        "    111 & 222 & 333 \\\\\n",
        "    44  & 55  & 66  \\\\\n",
        "    7   & 8   & 9\n",
        "\\end{pmatrix}\n",
        "{}\\\\\n",
        "\\left(\n",
        "\\begin{array}{rrr}\n",
        "    111 & 222 & 333 \\\\\n",
        "    44  & 55  & 66  \\\\\n",
        "    7   & 8   & 9\n",
        "\\end{array}\n",
        "\\right)"
      ],
      "execution_count": null,
      "outputs": [
        {
          "output_type": "display_data",
          "data": {
            "text/latex": "\\begin{pmatrix}\n    111 & 222 & 333 \\\\\n    44  & 55  & 66  \\\\\n    7   & 8   & 9\n\\end{pmatrix}\n{}\\\\\n\\left(\n\\begin{array}{rrr}\n    111 & 222 & 333 \\\\\n    44  & 55  & 66  \\\\\n    7   & 8   & 9\n\\end{array}\n\\right)",
            "text/plain": [
              "<IPython.core.display.Latex object>"
            ]
          },
          "metadata": {
            "tags": []
          }
        }
      ]
    },
    {
      "cell_type": "code",
      "metadata": {
        "id": "AzzGRXcJRLVn",
        "colab": {
          "base_uri": "https://localhost:8080/",
          "height": 58
        },
        "outputId": "b55af895-dd8c-417c-efc8-c90a1ccabf2c"
      },
      "source": [
        "# pmatrix は array のように item の位置を指定することはできないみたい\n",
        "%%latex\n",
        "\\displaystyle\n",
        "\\begin{pmatrix}\n",
        "a & longitem \\\\\n",
        "128 & 3.1419\n",
        "\\end{pmatrix}"
      ],
      "execution_count": null,
      "outputs": [
        {
          "output_type": "display_data",
          "data": {
            "text/latex": "\\displaystyle\n\\begin{pmatrix}\na & longitem \\\\\n128 & 3.1419\n\\end{pmatrix}",
            "text/plain": [
              "<IPython.core.display.Latex object>"
            ]
          },
          "metadata": {
            "tags": []
          }
        }
      ]
    },
    {
      "cell_type": "markdown",
      "metadata": {
        "id": "0O1SWSw4SMjp"
      },
      "source": [
        "# 複素関数\n"
      ]
    },
    {
      "cell_type": "code",
      "metadata": {
        "id": "jEwDgPrKU07h",
        "colab": {
          "base_uri": "https://localhost:8080/",
          "height": 279
        },
        "outputId": "65853420-5d73-421e-d516-6c9ad228d9ba"
      },
      "source": [
        "%%latex\n",
        "複素関数   \\\\\n",
        "f(z) = f(x + i y ) = u (x, y) + iv(x, y) \\\\\n",
        "が点 \\\\\n",
        "z_0 = x_0 + iy_0 \\\\\n",
        "において正則であるための必要十分条件は、 \\\\\n",
        "z_0 \n",
        "のある \n",
        "\\varepsilon \n",
        "近傍 \\\\\n",
        "\\Delta (z_0, \\varepsilon) \\\\\n",
        "においてコーシー・リーマン方程式 \\\\\n",
        "\n",
        "\\begin {array}{ccc}\n",
        "    \\displaystyle \\frac{\\partial u}{\\partial x} &=& \\displaystyle \\frac{\\partial v}{\\partial y} \\\\\n",
        "    \\displaystyle \\frac{\\partial u}{\\partial y} &=& \\displaystyle - \\frac{\\partial v}{\\partial x}\n",
        "\\end {array}\n",
        "\\\\\n",
        "を満たすことである。"
      ],
      "execution_count": null,
      "outputs": [
        {
          "output_type": "display_data",
          "data": {
            "text/latex": "複素関数   \\\\\nf(z) = f(x + i y ) = u (x, y) + iv(x, y) \\\\\nが点 \\\\\nz_0 = x_0 + iy_0 \\\\\nにおいて正則であるための必要十分条件は、 \\\\\nz_0 \nのある \n\\varepsilon \n近傍 \\\\\n\\Delta (z_0, \\varepsilon) \\\\\nにおいてコーシー・リーマン方程式 \\\\\n\n\\begin {array}{ccc}\n    \\displaystyle \\frac{\\partial u}{\\partial x} &=& \\displaystyle \\frac{\\partial v}{\\partial y} \\\\\n    \\displaystyle \\frac{\\partial u}{\\partial y} &=& \\displaystyle - \\frac{\\partial v}{\\partial x}\n\\end {array}\n\\\\\nを満たすことである。",
            "text/plain": [
              "<IPython.core.display.Latex object>"
            ]
          },
          "metadata": {
            "tags": []
          }
        }
      ]
    },
    {
      "cell_type": "markdown",
      "metadata": {
        "id": "JCnkFEK7n0GD"
      },
      "source": [
        "# 空間曲線\n"
      ]
    },
    {
      "cell_type": "code",
      "metadata": {
        "id": "zBzYoUr9o6CI",
        "colab": {
          "base_uri": "https://localhost:8080/",
          "height": 145
        },
        "outputId": "c1c9e928-e3ba-472c-e6d1-90dda08b8ebe"
      },
      "source": [
        "%%latex\n",
        "c(t) = (x (t), y(t), z(t)) \\\\\n",
        "によって与えられる空間曲線 c の \\\\\n",
        "c(0) を始点として c(t) までの弧長を s(t) とすると \\\\\n",
        "\n",
        "s(t) = \\displaystyle \\int_0^t \\sqrt { (\\frac {dx}{dt})^2 \n",
        "       + (\\frac {dy}{dt})^2 + (\\frac {dz}{dt})^2}\n",
        "\\\\\n",
        "と表される。"
      ],
      "execution_count": null,
      "outputs": [
        {
          "output_type": "display_data",
          "data": {
            "text/latex": "c(t) = (x (t), y(t), z(t)) \\\\\nによって与えられる空間曲線 c の \\\\\nc(0) を始点として c(t) までの弧長を s(t) とすると \\\\\n\ns(t) = \\displaystyle \\int_0^t \\sqrt { (\\frac {dx}{dt})^2 \n       + (\\frac {dy}{dt})^2 + (\\frac {dz}{dt})^2}\n\\\\\nと表される。",
            "text/plain": [
              "<IPython.core.display.Latex object>"
            ]
          },
          "metadata": {
            "tags": []
          }
        }
      ]
    },
    {
      "cell_type": "markdown",
      "metadata": {
        "id": "v9f0D-eFpCl3"
      },
      "source": [
        "# 微分可能\n"
      ]
    },
    {
      "cell_type": "code",
      "metadata": {
        "id": "hoLm8yHerEru",
        "colab": {
          "base_uri": "https://localhost:8080/",
          "height": 124
        },
        "outputId": "d26eb9d5-f334-46fe-c1ec-281aa3301da4"
      },
      "source": [
        "# 微分可能\n",
        "%%latex\n",
        "関数 f が開区間 I 上で n 回微分可能であるとする。 \\\\\n",
        "このとき、a, b \\in I に対し、\\\\\n",
        "\n",
        "f(b) = \\displaystyle f(a)+ \\frac{f'(a)}{1!} (b - a) \n",
        "    + \\frac{f''(a)}{2!} (b - a)^2 + \\cdots \n",
        "    + \\frac{f^{(n - 1)}(a)}{(n - 1)!} (b - a)^{(n - 1)} + R_n(c)\n",
        "\\\\\n",
        "を満たす c が a と b の間に存在する。\n"
      ],
      "execution_count": null,
      "outputs": [
        {
          "output_type": "display_data",
          "data": {
            "text/latex": "\n関数 f が開区間 I 上で n 回微分可能であるとする。 \\\\\nこのとき、a, b \\in I に対し、\\\\\n\nf(b) = \\displaystyle f(a)+ \\frac{f'(a)}{1!} (b - a) \n    + \\frac{f''(a)}{2!} (b - a)^2 + \\cdots \n    + \\frac{f^{(n - 1)}(a)}{(n - 1)!} (b - a)^{(n - 1)} + R_n(c)\n\\\\\nを満たす c が a と b の間に存在する。",
            "text/plain": [
              "<IPython.core.display.Latex object>"
            ]
          },
          "metadata": {
            "tags": []
          }
        }
      ]
    },
    {
      "cell_type": "markdown",
      "metadata": {
        "id": "R-e13l9GrQ43"
      },
      "source": [
        "# n次正方行列\n"
      ]
    },
    {
      "cell_type": "code",
      "metadata": {
        "id": "PtaIIJSRwUfX",
        "colab": {
          "base_uri": "https://localhost:8080/",
          "height": 297
        },
        "outputId": "c7549507-b480-4c84-a4db-8f99be8681d1"
      },
      "source": [
        "# n次正方行列\n",
        "%%latex\n",
        "J (\\alpha, m) = \\begin {bmatrix}\n",
        "                    \\alpha & 1 & 0 & \\ldots & 0 \\\\\n",
        "                    0 & \\alpha & 1 & \\ddots & \\vdots \\\\\n",
        "                    \\vdots & \\ddots & \\ddots & \\ddots & 0 \\\\\n",
        "                    \\vdots &  & \\ddots & \\ddots & 1 \\\\\n",
        "                    0 & \\ldots & \\ldots & 0 & \\alpha\n",
        "                \\end {bmatrix} \\\\\n",
        "を Jordan 細胞と呼ぶ。 正方行列 A が正則行列 P によって \\\\\n",
        "\\begin {array} {lcl}\n",
        "P^{-1} A P &=& J(\\alpha_1, m_1) \\oplus J(\\alpha_2, m_2) \\oplus \\cdots \\oplus J(\\alpha_k, m_k)  \\\\\n",
        "&=& \\begin {bmatrix}\n",
        "        J(\\alpha_1, m_1) & & & \\\\\n",
        "        & J(\\alpha_2, m_2) & & \\\\\n",
        "        & & \\ddots & \\\\\n",
        "        & & & j(\\alpha_k, m_k)\n",
        "    \\end {bmatrix}\n",
        "\\end {array} \\\\\n",
        "と Jordan 細胞の直和になるとき、これを A の Jordan 標準形と呼ぶ。\n"
      ],
      "execution_count": null,
      "outputs": [
        {
          "output_type": "display_data",
          "data": {
            "text/latex": "J (\\alpha, m) = \\begin {bmatrix}\n                    \\alpha & 1 & 0 & \\ldots & 0 \\\\\n                    0 & \\alpha & 1 & \\ddots & \\vdots \\\\\n                    \\vdots & \\ddots & \\ddots & \\ddots & 0 \\\\\n                    \\vdots &  & \\ddots & \\ddots & 1 \\\\\n                    0 & \\ldots & \\ldots & 0 & \\alpha\n                \\end {bmatrix} \\\\\nを Jordan 細胞と呼ぶ。 正方行列 A が正則行列 P によって \\\\\n\\begin {array} {lcl}\nP^{-1} A P &=& J(\\alpha_1, m_1) \\oplus J(\\alpha_2, m_2) \\oplus \\cdots \\oplus J(\\alpha_k, m_k)  \\\\\n&=& \\begin {bmatrix}\n        J(\\alpha_1, m_1) & & & \\\\\n        & J(\\alpha_2, m_2) & & \\\\\n        & & \\ddots & \\\\\n        & & & j(\\alpha_k, m_k)\n    \\end {bmatrix}\n\\end {array} \\\\\nと Jordan 細胞の直和になるとき、これを A の Jordan 標準形と呼ぶ。",
            "text/plain": [
              "<IPython.core.display.Latex object>"
            ]
          },
          "metadata": {
            "tags": []
          }
        }
      ]
    },
    {
      "cell_type": "markdown",
      "metadata": {
        "id": "wdOsVm25xi6O"
      },
      "source": [
        "# 二項関係\n"
      ]
    },
    {
      "cell_type": "markdown",
      "metadata": {
        "id": "De-N0TDcq1YN"
      },
      "source": [
        "# いまここ"
      ]
    },
    {
      "cell_type": "markdown",
      "metadata": {
        "id": "kyKAHNQ0qTLo"
      },
      "source": [
        "\n",
        "\n",
        "**定義 1** 集合 $X$ 上の二項関係 $\\rho$ について、次の性質を考える。\n",
        "\n",
        "1. すべての $x \\in X$ について、$x \\rho x$ が成り立つ。(反射律)\n",
        "\n",
        "1. $x, y \\in X$ について、$x \\rho y$ ならば $y \\rho x$ が成り立つ。(対称律)\n",
        "\n",
        "1. $x, y, z \\in X$ について、$x \\rho y$ かつ $y \\rho z$ ならば $x \\rho z$ が成り立つ。(推移律)\n",
        "\n",
        "1. $x, y \\in X$ について、$x \\rho y$ かつ $y \\rho x$ ならば $x = y$ が成り立つ。(反対称律)\n",
        "\n",
        "性質 $\\it{1, 2, 3}$ を満たす二項関係を**同値関係**と呼び、性質 $\\it{1, 3, 4}$ を満たす二項関係を**順序関係**と呼ぶ。"
      ]
    },
    {
      "cell_type": "code",
      "metadata": {
        "id": "vPJ7sqxYSIxz"
      },
      "source": [
        "%%latex\r\n",
        "**定義 1** 集合 $X$ 上の二項関係 $\\rho$ について、次の性質を考える。\r\n",
        "\r\n",
        "1. すべての $x \\in X$ について、$x \\rho x$ が成り立つ。(反射律)\r\n",
        "\r\n",
        "1. $x, y \\in X$ について、$x \\rho y$ ならば $y \\rho x$ が成り立つ。(対称律)\r\n",
        "\r\n",
        "1. $x, y, z \\in X$ について、$x \\rho y$ かつ $y \\rho z$ ならば $x \\rho z$ が成り立つ。(推移律)\r\n",
        "\r\n",
        "1. $x, y \\in X$ について、$x \\rho y$ かつ $y \\rho x$ ならば $x = y$ が成り立つ。(反対称律)\r\n",
        "\r\n",
        "性質 $\\it{1, 2, 3}$ を満たす二項関係を**同値関係**と呼び、性質 $\\it{1, 3, 4}$ を満たす二項関係を**順序関係**と呼ぶ。"
      ],
      "execution_count": null,
      "outputs": []
    },
    {
      "cell_type": "markdown",
      "metadata": {
        "id": "AhnMk_wTnkZU"
      },
      "source": [
        "# 集合の内包表記 set comprehension"
      ]
    },
    {
      "cell_type": "code",
      "metadata": {
        "id": "FPRji7FKkpWg",
        "colab": {
          "base_uri": "https://localhost:8080/",
          "height": 39
        },
        "outputId": "0f7167ce-f5c3-438f-ec89-f3a592fafa77"
      },
      "source": [
        "# 参考 集合で習う集合の内包表記は数式で次の様に書く。\n",
        "%%latex\n",
        "\n",
        "S= \\{2 \\cdot x \\mid x \\in  \\mathbb{N}, \\ x \\leq 10 \\}\n"
      ],
      "execution_count": null,
      "outputs": [
        {
          "output_type": "display_data",
          "data": {
            "text/latex": "\nS= \\{2 \\cdot x \\mid x \\in  \\mathbb{N}, \\ x \\leq 10 \\}",
            "text/plain": [
              "<IPython.core.display.Latex object>"
            ]
          },
          "metadata": {
            "tags": []
          }
        }
      ]
    }
  ]
}