{
  "nbformat": 4,
  "nbformat_minor": 0,
  "metadata": {
    "kernelspec": {
      "display_name": "Python 3",
      "language": "python",
      "name": "python3"
    },
    "language_info": {
      "codemirror_mode": {
        "name": "ipython",
        "version": 3
      },
      "file_extension": ".py",
      "mimetype": "text/x-python",
      "name": "python",
      "nbconvert_exporter": "python",
      "pygments_lexer": "ipython3",
      "version": "3.6.6"
    },
    "toc": {
      "base_numbering": 1,
      "nav_menu": {},
      "number_sections": true,
      "sideBar": true,
      "skip_h1_title": false,
      "title_cell": "Table of Contents",
      "title_sidebar": "Contents",
      "toc_cell": false,
      "toc_position": {
        "height": "calc(100% - 180px)",
        "left": "10px",
        "top": "150px",
        "width": "336.903px"
      },
      "toc_section_display": true,
      "toc_window_display": true
    },
    "colab": {
      "name": "learnlatex.ipynb",
      "provenance": [],
      "toc_visible": true,
      "include_colab_link": true
    }
  },
  "cells": [
    {
      "cell_type": "markdown",
      "metadata": {
        "id": "view-in-github",
        "colab_type": "text"
      },
      "source": [
        "<a href=\"https://colab.research.google.com/github/kalz2q/mycolabnotebooks/blob/master/learnlatex.ipynb\" target=\"_parent\"><img src=\"https://colab.research.google.com/assets/colab-badge.svg\" alt=\"Open In Colab\"/></a>"
      ]
    },
    {
      "cell_type": "markdown",
      "metadata": {
        "id": "n4AlkFTthXEu"
      },
      "source": [
        "# マークダウンとマークダウン中の latex と %%latex が混乱している!!!!"
      ]
    },
    {
      "cell_type": "markdown",
      "metadata": {
        "id": "M_IYHSO3fN5l"
      },
      "source": [
        "# メモ\n",
        "colab で latex を勉強する。\n",
        "\n",
        "colabで latex を書くには 3 通りある。\n",
        "\n",
        "1. テキストセル内でマークダウンで &dollar; マークを使って書く\n",
        "2. コードセル内で `%%latex` マジックを使って書く\n",
        "3. コードセル内で IPython.display.Markdown で書く\n",
        "\n",
        "マークダウンで書くのが基本。  \n",
        "\n",
        "colab の latex は完全な latex ではない。 mathjax ベースのサブセットである。 数式を書くのに便利。\n",
        "\n",
        "sympy と IPython を使うのはプログラムがメインのときなので、このノートブックでは課題の解答の中に説明を加えたいときなどに使う。\n"
      ]
    },
    {
      "cell_type": "markdown",
      "metadata": {
        "id": "X4JZJvQLY_rw"
      },
      "source": [
        "# 参考サイト\n",
        "\n",
        "1. 参考サイトを読みながら latex を勉強する。  \n",
        "TeX入門 ( http://www.comp.tmu.ac.jp/tsakai/lectures/intro_tex.html )  \n",
        "TeX入門Wiki ( https://texwiki.texjp.org/)  \n",
        "Learn LaTeX in 30 minutes ( https://www.overleaf.com/learn/latex/ \n",
        "Learn_LaTeX_in_30_minutes )  \n",
        "MathJax ( https://docs.mathjax.org/en/v2.5-latest/tex.html )  \n",
        "MathJaxの使い方(\n",
        "http://www.eng.niigata-u.ac.jp/~nomoto/download/mathjax.pdf)"
      ]
    },
    {
      "cell_type": "markdown",
      "metadata": {
        "id": "i_Cod0PRbZRu"
      },
      "source": [
        "# 数式記号一覧\n",
        "\n",
        "The Comprehensive LaTeX Symbol List - The CTAN archive ( http://tug.ctan.org/info/symbols/comprehensive/symbols-a4.pdf )\n",
        "\n",
        "Short Math Guide for LaTeX ( https://ftp.yz.yamagata-u.ac.jp/pub/CTAN/info/short-math-guide/short-math-guide.pdf )\n",
        "\n",
        "ギリシャ文字, ドイツ文字, 花文字, 筆記体の TeX 表記をまとめておいた ( https://phasetr.com/blog/2013/04/14/ギリシャ文字-ドイツ文字-筆記体の-tex-表記を/ )"
      ]
    },
    {
      "cell_type": "markdown",
      "metadata": {
        "id": "dlP5VSVvbsxB"
      },
      "source": [
        "# はじめに ～ 実験学習\n"
      ]
    },
    {
      "cell_type": "markdown",
      "metadata": {
        "id": "4iJm4gvVNuCc"
      },
      "source": [
        "マークダウンでテキストの中に latex を入れることができる。  \n",
        "インラインで入れることもできるし $x = 3$ とか。\n",
        "\n",
        "$$\n",
        "x = 3\n",
        "$$\n",
        "\n",
        "とか。\n"
      ]
    },
    {
      "cell_type": "markdown",
      "metadata": {
        "id": "ENrYHoYLWZmG"
      },
      "source": [
        "テキストセルでは数式を &dollar; マークで囲むとインライン、&dollar;&dollar; で囲むと段落を変えて表示する。\n",
        "\n",
        "表示された数式の latex での表記はセルを編集モードにすると見ることができる。\n",
        "\n",
        "編集モードにするにはセルを選択してダブルクリックするか Enter キーを押す。\n",
        "\n"
      ]
    },
    {
      "cell_type": "code",
      "metadata": {
        "id": "wOsNxaXaXPUy",
        "outputId": "d33a343f-27a7-4d39-a676-95d84d30f2cd",
        "colab": {
          "base_uri": "https://localhost:8080/",
          "height": 38
        }
      },
      "source": [
        "# コードセルで %%latex で表示する\n",
        "# 編集モードにしなくても latex 表記ができるので latex の学習には便利\n",
        "# コードセルを実行しないと数式表記にならない。\n",
        "# コードセルの実行はセルの左の実行ボタン(右向き三角)を押すか、Ctrl+Enter を押す。\n",
        "%%latex\n",
        "x = 3"
      ],
      "execution_count": 5,
      "outputs": [
        {
          "output_type": "display_data",
          "data": {
            "text/latex": "x = 3",
            "text/plain": [
              "<IPython.core.display.Latex object>"
            ]
          },
          "metadata": {
            "tags": []
          }
        }
      ]
    },
    {
      "cell_type": "code",
      "metadata": {
        "colab": {
          "base_uri": "https://localhost:8080/",
          "height": 71
        },
        "id": "ztMpC1OwjeeE",
        "outputId": "66922116-5978-4ac1-c3fe-d0d76f9c4d0d"
      },
      "source": [
        "# 実験 python プログラムで表示する\n",
        "from sympy import *\n",
        "from IPython.display import Markdown\n",
        "display(Markdown(\"実験学習 $x = 3$ と書く\"))\n",
        "x = symbols('x')\n",
        "display(Eq(x,3))"
      ],
      "execution_count": null,
      "outputs": [
        {
          "output_type": "display_data",
          "data": {
            "text/markdown": "実験学習 $x = 3$ と書く",
            "text/plain": [
              "<IPython.core.display.Markdown object>"
            ]
          },
          "metadata": {
            "tags": []
          }
        },
        {
          "output_type": "display_data",
          "data": {
            "text/latex": "$\\displaystyle x = 3$",
            "text/plain": [
              "Eq(x, 3)"
            ]
          },
          "metadata": {
            "tags": []
          }
        }
      ]
    },
    {
      "cell_type": "markdown",
      "metadata": {
        "id": "6u5e3oI2nCzx"
      },
      "source": [
        "# いまここ"
      ]
    },
    {
      "cell_type": "markdown",
      "metadata": {
        "id": "RLjJ7URGdV1Z"
      },
      "source": [
        "# マークダウンと %%latex の違い\n",
        "1. コードセルに %%latex と書くとその行以降 mathjax のルールが適用される。\n",
        "1. %%latex以降にバックスラッシュ \\ でエスケープされていない \\$ マークがあると latex で解釈せずに入力のまま出力する。 \n",
        "1. % 記号はコメント記号なので文法上は許されるが、% 記号以降が出力されないのでバックスラッシュ \\ でエスケープする必要がある。\n",
        "1. バックスラッシュ \\ 自体は \\backslash と書く。 波記号 チルダ tilde ~ は \\tilde{}、キャレット、ハット記号、サーカムフレックス、circumflex ^ は \\hat{} になる。\n",
        "1. 地の文、テキストも数式として解釈されるので、英文字はフォントが変わる。普通の文字にしたい場合は \\text{} で括る。\n",
        "1. 改行はマークダウンではスペース 2 個だが、%%latex では バックスラッシュ \\ を2個 \\\\\\\\ になる。\n",
        "1. その他マークダウン上の便利な機能。箇条書きの自動ナンバリングなどは使えない。\n"
      ]
    },
    {
      "cell_type": "code",
      "metadata": {
        "colab": {
          "base_uri": "https://localhost:8080/",
          "height": 185
        },
        "id": "Osz4ublTk27V",
        "outputId": "6c3e0ee5-621b-4c2e-a6e1-7f7799bdda6d"
      },
      "source": [
        "# 実験\n",
        "%%latex\n",
        "this is a pen. \\\\\n",
        "\\text{this is a pen} \\\\\n",
        "\\backslash \\\\\n",
        "\\tilde{x}\\\\\n",
        "\\tilde{} \\quad x\\\\\n",
        "\\hat{x} \\\\\n",
        "\\hat{} \\quad  x \\\\\n",
        "x^3 \\\\"
      ],
      "execution_count": null,
      "outputs": [
        {
          "output_type": "display_data",
          "data": {
            "text/latex": "this is a pen. \\\\\n\\text{this is a pen} \\\\\n\\backslash \\\\\n\\tilde{x}\\\\\n\\tilde{} \\quad x\\\\\n\\hat{x} \\\\\n\\hat{} \\quad  x \\\\\nx^3 \\\\",
            "text/plain": [
              "<IPython.core.display.Latex object>"
            ]
          },
          "metadata": {
            "tags": []
          }
        }
      ]
    },
    {
      "cell_type": "markdown",
      "metadata": {
        "id": "ug4l1dHmOnvE"
      },
      "source": [
        "同じことをマークダウンでやってみる。\n",
        "\n",
        "$this is a pen.$  \n",
        "$\\text{this is a pen}$  \n",
        "$\\backslash$  \n",
        "$\\tilde{x}$  \n",
        "$\\tilde{} \\quad x$  \n",
        "$\\hat{x} $  \n",
        "$\\hat{} \\quad  x $  \n",
        "$x^3 $  "
      ]
    },
    {
      "cell_type": "markdown",
      "metadata": {
        "id": "gS-20EZ4B0lL"
      },
      "source": [
        "# 簡単な数式"
      ]
    },
    {
      "cell_type": "code",
      "metadata": {
        "id": "NXhBtJwreRGG",
        "colab": {
          "base_uri": "https://localhost:8080/",
          "height": 39
        },
        "outputId": "688764cf-4f69-4264-c715-3f0d49e28f0b"
      },
      "source": [
        "%%latex\n",
        "E = mc^2"
      ],
      "execution_count": null,
      "outputs": [
        {
          "output_type": "display_data",
          "data": {
            "text/latex": "E = mc^2",
            "text/plain": [
              "<IPython.core.display.Latex object>"
            ]
          },
          "metadata": {
            "tags": []
          }
        }
      ]
    },
    {
      "cell_type": "markdown",
      "metadata": {
        "id": "VQ5cdQKxB0lO"
      },
      "source": [
        "マークダウンでドルマークで囲むと latex(mathjax) になる。 2 個のドルマークで囲むと行替えされ、センタリングされた数式になる。\n",
        "\n",
        "$$ E=mc^2$$\n",
        "\n",
        "ここで $c$ は光速を表し、値は次の通り。  \n",
        "\n",
        "$$ c = 299{,}792{,}458 \\, \\mathrm{m/s} $$\n",
        "\n",
        "いわゆる光速は 30 万キロ/秒というやつね!!!!\n",
        "\n",
        "地球 7 周り半。\n"
      ]
    },
    {
      "cell_type": "code",
      "metadata": {
        "id": "XaZ9k2NuebYv",
        "colab": {
          "base_uri": "https://localhost:8080/",
          "height": 73
        },
        "outputId": "0856bee5-b239-4fda-f5a3-44a73ae948d9"
      },
      "source": [
        "%%latex\n",
        "E =mc^2 \\\\[0.8em]\n",
        "c = 299{,}792{,}458 \\, \\mathrm{m/s}"
      ],
      "execution_count": null,
      "outputs": [
        {
          "output_type": "display_data",
          "data": {
            "text/latex": "E =mc^2 \\\\[0.8em]\nc = 299{,}792{,}458 \\, \\mathrm{m/s}",
            "text/plain": [
              "<IPython.core.display.Latex object>"
            ]
          },
          "metadata": {
            "tags": []
          }
        }
      ]
    },
    {
      "cell_type": "markdown",
      "metadata": {
        "id": "7JZQs8Ize_jf"
      },
      "source": [
        "数字のカンマは `{,}` として入れる。 波括弧 brace で囲む。\n"
      ]
    },
    {
      "cell_type": "markdown",
      "metadata": {
        "id": "75x1IdwRPUV2"
      },
      "source": [
        "いまの考え\n",
        "\n",
        "マークダウンでインラインでなく、数式として入れた場合、同じ数式を次のコードセルで %%latex として入れる。\n",
        "\n",
        "そうすることにより、数式の latex 表記が明示的になり学習に貢献する。"
      ]
    },
    {
      "cell_type": "markdown",
      "metadata": {
        "id": "JJRGMDwVF90w"
      },
      "source": [
        "# ドル`$`マーク ドルサインをエスケープするには\n",
        "\n",
        "この本は\\$35.40。とか。\n",
        "\n",
        "ドルサインは latex (mathjax) 対応のマークダウンでは mathjax の begin, end の記号なので、エスケープする必要がある。\n",
        "\n",
        "colab 環境ではバックスラッシュ `\\` でエスケープできるが、それでは他の環境との互換性がなくなる。\n",
        "\n",
        "つまり、`$`サインは dallar sign は互換性のある方法でエスケープするのはむずかしい!!!!\n",
        "\n",
        "ドルサイン自体をコードで書いておくのが現状ではいちばん互換性があると思う。\n",
        "\n",
        "&#36;\n",
        "\n",
        "&#x24;\n",
        "\n",
        "&dollar;\n",
        "\n",
        "HTML文字参照と言うらしい。 \n"
      ]
    },
    {
      "cell_type": "markdown",
      "metadata": {
        "id": "5Bj1HdA_dkGx"
      },
      "source": [
        "同一セル内でペアになっていないと表示される。\n",
        "\n",
        "$\n",
        "\n",
        "$$"
      ]
    },
    {
      "cell_type": "markdown",
      "metadata": {
        "id": "ji3YyhsGKjpV"
      },
      "source": [
        "# 水平方向の空白"
      ]
    },
    {
      "cell_type": "code",
      "metadata": {
        "id": "s98H-qzjKkTo",
        "colab": {
          "base_uri": "https://localhost:8080/",
          "height": 146
        },
        "outputId": "97c0747e-d6cc-479f-e2ea-f1143372852e"
      },
      "source": [
        "# 水平方向の空白の実験\n",
        "# \\+セミコロン、スペース、チルダが標準的な 1 文字スペースのようである\n",
        "# とりあえずセミコロンがわかりやすいので \\; とする\n",
        "%%latex\n",
        "a\\;b\\;c\\;d\\;e\\;f\\;g\\; セミコロン\\\\\n",
        "a\\ b\\ c\\ d\\ e\\ f\\ g\\  スペース\\\\\n",
        "a~b~c~d~e~f~g~ tilde\\\\\n",
        "a\\,b\\,c\\,d\\,e\\,f\\,g\\, カンマ\\\\\n",
        "a~~b~~c~~d~~e~~f~~g~~ tilde2\\\\\n",
        "a\\quad b\\quad c\\quad d\\quad e\\quad f\\quad g\\quad  quad\\\\"
      ],
      "execution_count": 8,
      "outputs": [
        {
          "output_type": "display_data",
          "data": {
            "text/latex": "a\\;b\\;c\\;d\\;;e\\;f\\;g\\; セミコロン\\\\\na\\ b\\ c\\ d\\ e\\ f\\ g\\  スペース\\\\\na~b~c~d~e~f~g~ tilde\\\\\na\\,b\\,c\\,d\\,e\\,f\\,g\\, カンマ\\\\\na~~b~~c~~d~~e~~f~~g~~ tilde2\\\\\na\\quad b\\quad c\\quad d\\quad e\\quad f\\quad g\\quad  quad\\\\",
            "text/plain": [
              "<IPython.core.display.Latex object>"
            ]
          },
          "metadata": {
            "tags": []
          }
        }
      ]
    },
    {
      "cell_type": "markdown",
      "metadata": {
        "id": "L872XDCqfsyM"
      },
      "source": [
        "# 改行と空行\n"
      ]
    },
    {
      "cell_type": "markdown",
      "metadata": {
        "id": "D07ckSl95vvl"
      },
      "source": [
        "latex の中での改行は改行 2 回で改行される。\n",
        "\n",
        "改行なしの文は結合されて、1 つの文になる。\n",
        "\n",
        "文の中の改行 `<br>` 相等は `\\` を行末に2個入れる。  \n",
        "\n",
        "行間をあける (空白行を入れる) のを互換性のある方法で入れるのはけっこうむずかしい。\n",
        "\n",
        "たとえば \\\\ のあとに {1em} とか書く。  {3em}\n",
        "\n",
        "\\{\\}+\\\\ で対応することもできる。\n",
        "\n",
        "`{}\\\\`\n",
        "\n",
        "とか。\n",
        "\n",
        "&nbsp;\n",
        "\n",
        "とか"
      ]
    },
    {
      "cell_type": "code",
      "metadata": {
        "id": "_4EjnRLlKG9Z",
        "colab": {
          "base_uri": "https://localhost:8080/",
          "height": 135
        },
        "outputId": "69b3a72d-e9c8-4ae6-91df-705144495f50"
      },
      "source": [
        "%%latex\n",
        "latex の中での改行は\\backslash を行末に2個入れる。\\\\[1em]\n",
        "空白行は\\backslash\\backslashのあとに[\\text{1em}]とか書く。\\\\{3em}  \n",
        "\\{\\}+\\backslash\\backslashで対応することもできる。\\\\\n",
        "{}\\\\\n",
        "とか。\n",
        "&nbsp;\n",
        "とか"
      ],
      "execution_count": 10,
      "outputs": [
        {
          "output_type": "display_data",
          "data": {
            "text/latex": "latex の中での改行は\\backslash を行末に2個入れる。\\\\[1em]\n空白行は\\backslash\\backslashのあとに[\\text{1em}]とか書く。\\\\{3em}\n\\{\\}+\\backslash\\backslashで対応することもできる。\\\\\n{}\\\\\nとか。\n&nbsp;\nとか",
            "text/plain": [
              "<IPython.core.display.Latex object>"
            ]
          },
          "metadata": {
            "tags": []
          }
        }
      ]
    },
    {
      "cell_type": "markdown",
      "metadata": {
        "id": "A3Z0alVOPf75"
      },
      "source": [
        "#インテグラル 積分\n",
        "$$\n",
        "\\frac{\\pi}{2} =\n",
        "\\left( \\int_{0}^{\\infty} \\frac{\\sin x}{\\sqrt{x}} dx \\right)^2 =\n",
        "\\sum_{k=0}^{\\infty} \\frac{(2k)!}{2^{2k}(k!)^2} \\frac{1}{2k+1} =\n",
        "\\prod_{k=1}^{\\infty} \\frac{4k^2}{4k^2 - 1}\n",
        "$$"
      ]
    },
    {
      "cell_type": "code",
      "metadata": {
        "id": "z_hJqC1ggHRw",
        "colab": {
          "base_uri": "https://localhost:8080/",
          "height": 67
        },
        "outputId": "4a73fe8c-19d9-46ec-aa77-0d9cba9a7072"
      },
      "source": [
        "# インテグラル 積分記号\n",
        "# latex では \\int , sympy では Integral\n",
        "%%latex\n",
        "\\displaystyle\n",
        "\\frac{\\pi}{2}\n",
        "=\n",
        "\\left( \\int_{0}^{\\infty} \\frac{\\sin x}{\\sqrt{x}} dx \\right)^2\n",
        "=\n",
        "\\sum_{k=0}^{\\infty} \\frac{(2k)!}{2^{2k}(k!)^2} \\frac{1}{2k+1}\n",
        "=\n",
        "\\prod_{k=1}^{\\infty} \\frac{4k^2}{4k^2 - 1}"
      ],
      "execution_count": null,
      "outputs": [
        {
          "output_type": "display_data",
          "data": {
            "text/latex": "\\displaystyle\n\\frac{\\pi}{2}\n=\n\\left( \\int_{0}^{\\infty} \\frac{\\sin x}{\\sqrt{x}} dx \\right)^2\n=\n\\sum_{k=0}^{\\infty} \\frac{(2k)!}{2^{2k}(k!)^2} \\frac{1}{2k+1}\n=\n\\prod_{k=1}^{\\infty} \\frac{4k^2}{4k^2 - 1}",
            "text/plain": [
              "<IPython.core.display.Latex object>"
            ]
          },
          "metadata": {
            "tags": []
          }
        }
      ]
    },
    {
      "cell_type": "markdown",
      "metadata": {
        "id": "ufdfBaWyw9Te"
      },
      "source": [
        "`\\displaystyle`としないと、インラインスタイルでフォントが小さくなってしまう。\n",
        "\n"
      ]
    },
    {
      "cell_type": "code",
      "metadata": {
        "id": "2L5wOq-9vUJu",
        "colab": {
          "base_uri": "https://localhost:8080/",
          "height": 193
        },
        "outputId": "ae773b4d-67d7-40b8-af8e-e19af93e1018"
      },
      "source": [
        "%%latex\n",
        "\\displaystyle\n",
        "\n",
        "\\frac{\\pi}{2} \\\\\n",
        "= \\left( \\int_{0}^{\\infty} \\frac{\\sin x}{\\sqrt{x}} dx \\right)^2 \\\\\n",
        "= \\sum_{k=0}^{\\infty} \\frac{(2k)!}{2^{2k}(k!)^2} \\frac{1}{2k+1} \\\\\n",
        "= \\prod_{k=1}^{\\infty} \\frac{4k^2}{4k^2 - 1}\n"
      ],
      "execution_count": null,
      "outputs": [
        {
          "output_type": "display_data",
          "data": {
            "text/latex": "\\displaystyle\n\n\\frac{\\pi}{2} \\\\\n= \\left( \\int_{0}^{\\infty} \\frac{\\sin x}{\\sqrt{x}} dx \\right)^2 \\\\\n= \\sum_{k=0}^{\\infty} \\frac{(2k)!}{2^{2k}(k!)^2} \\frac{1}{2k+1} \\\\\n= \\prod_{k=1}^{\\infty} \\frac{4k^2}{4k^2 - 1}",
            "text/plain": [
              "<IPython.core.display.Latex object>"
            ]
          },
          "metadata": {
            "tags": []
          }
        }
      ]
    },
    {
      "cell_type": "markdown",
      "metadata": {
        "id": "JbP2dlWhWjgc"
      },
      "source": [
        "# 括弧\n"
      ]
    },
    {
      "cell_type": "markdown",
      "metadata": {
        "id": "NgmgaN0pnnAY"
      },
      "source": [
        "# フォントの実験"
      ]
    },
    {
      "cell_type": "markdown",
      "metadata": {
        "id": "ohnAEa3ppMIq"
      },
      "source": [
        "マークダウンで英文字は   \n",
        "abcdefABC  \n",
        "となるが、ドルマークで囲って latex にすると、数学用のフォントになる。  \n",
        "$This is math standard font abcdefABC$  \n",
        "この latex のなかで text とすると数学フォントではなくなる。  \n",
        "$\\text{This is a text}$  \n",
        "これを mathit とすると数学用のフォントになる。  \n",
        "$\\mathit{\\text{This is math italian abcdefABC}}$  \n",
        "スペースも機能するのでいいかもしれない。\n",
        "\n",
        "$\\mathrm{\\text{This is mathrm -> abcABC}}$  \n",
        "$\\mathit{\\text{This is mathit -> abcABC}}$  \n",
        "\n",
        "数学のテキストでのアルファベットの使い分けは通常はイタリックで、座標とかはセリフ付きのローマン体の大文字が使われている。 ベクトルを小文字で表すときに上矢印をつけずにボールド体を使うことがある。\n",
        "\n",
        "手書きで部分白抜きを真似た mathbb というのもあって、これで書かれたテキストもある。\n",
        "\n",
        "$\\mathbf{\\text{This is mathbf -> abcABC}}$  \n",
        "$\\mathbb{\\text{This is mathbb -> abcABC}}$  \n",
        "$\\mathcal{\\text{This is mathcal -> abcABC}}$  \n",
        "$\\mathfrak{\\text{This is mathfrak -> abcABC}}$  "
      ]
    },
    {
      "cell_type": "code",
      "metadata": {
        "id": "iWBQ3wdyhf7X",
        "colab": {
          "base_uri": "https://localhost:8080/",
          "height": 246
        },
        "outputId": "bb3289b8-d850-4388-f834-8dd8e6d14178"
      },
      "source": [
        "%%latex\n",
        "abcdefABC\\\\\n",
        "\\mathrm{a b c d e f A B C}\\\\\n",
        "\\mathbf{a b c d e f A B C} \\\\ %%ベクトルに使う。NZRC に使う\n",
        "\\pmb{a b c d e f A B C} \\\\ %%ベクトルに使う poor man's bold\n",
        "\\bm{a b c d e f A B C }\\\\ %% \n",
        "\\text{a b c d e f A B C }\\\\\n",
        "\\mathbb{a b c d e f A B C }\\\\ %%ベクトルに使う。NZRC に使う。board bold 黒板太字\n",
        "% \\mathbbm{a b c d e f A B C }\\\\\n",
        "\\mathcal {abcdefABCDEF}\\\\\n",
        "\\mathfrak {abcdefABCDEF}\\\\\n",
        "\\mathit {abcdefABCDEF}\\\\\n",
        "\\mathrm{\\text{this is a pen.}}"
      ],
      "execution_count": null,
      "outputs": [
        {
          "output_type": "display_data",
          "data": {
            "text/latex": "abcdefABC\\\\\n\\mathrm{a b c d e f A B C}\\\\\n\\mathbf{a b c d e f A B C} \\\\ %%ベクトルに使う\n\\pmb{a b c d e f A B C} \\\\ %%ベクトルに使う\n\\bm{a b c d e f A B C }\\\\ %% \n\\text{a b c d e f A B C }\\\\\n\\mathbb{a b c d e f A B C }\\\\\n% \\mathbbm{a b c d e f A B C }\\\\\n\\mathcal {abcdefABCDEF}\\\\\n\\mathfrak {abcdefABCDEF}\\\\\n\\mathit {abcdefABCDEF}\\\\\n\\mathrm{\\text{this is a pen.}}",
            "text/plain": [
              "<IPython.core.display.Latex object>"
            ]
          },
          "metadata": {
            "tags": []
          }
        }
      ]
    },
    {
      "cell_type": "markdown",
      "metadata": {
        "id": "izyrEmSv6mIS"
      },
      "source": [
        "# 行列 matrix"
      ]
    },
    {
      "cell_type": "markdown",
      "metadata": {
        "id": "3-QF3ROg3LXj"
      },
      "source": [
        "$\n",
        "A =\\begin{pmatrix}\n",
        "    a_{11} & \\ldots & a_{1n} \\\\\n",
        "    \\vdots & \\ddots & \\vdots \\\\\n",
        "    a_{m1} & \\ldots & a_{mn}\n",
        "\\end{pmatrix}$"
      ]
    },
    {
      "cell_type": "code",
      "metadata": {
        "id": "FbVx5XVeB0lT",
        "colab": {
          "base_uri": "https://localhost:8080/",
          "height": 89
        },
        "outputId": "e4f63aa0-d636-470b-941e-c49cbda3fb14"
      },
      "source": [
        "%%latex\n",
        "\\displaystyle\n",
        "A =\\begin{pmatrix}\n",
        "    a_{11} & \\ldots & a_{1n} \\\\\n",
        "    \\vdots & \\ddots & \\vdots \\\\\n",
        "    a_{m1} & \\ldots & a_{mn}\n",
        "\\end{pmatrix}"
      ],
      "execution_count": null,
      "outputs": [
        {
          "output_type": "display_data",
          "data": {
            "text/latex": "\\displaystyle\nA =\\begin{pmatrix}\n    a_{11} & \\ldots & a_{1n} \\\\\n    \\vdots & \\ddots & \\vdots \\\\\n    a_{m1} & \\ldots & a_{mn}\n\\end{pmatrix}",
            "text/plain": [
              "<IPython.core.display.Latex object>"
            ]
          },
          "metadata": {
            "tags": []
          }
        }
      ]
    },
    {
      "cell_type": "markdown",
      "metadata": {
        "id": "mAcesE3QV7_j"
      },
      "source": [
        "# いまここ"
      ]
    },
    {
      "cell_type": "code",
      "metadata": {
        "id": "9tZ1VC3OYWcA",
        "colab": {
          "base_uri": "https://localhost:8080/",
          "height": 89
        },
        "outputId": "45749101-db34-480a-d3bc-5f9dea5be309"
      },
      "source": [
        "%%latex\n",
        "\\displaystyle\n",
        "A =\\begin{bmatrix}\n",
        "    a_{11} & \\ldots & a_{1n} \\\\\n",
        "    \\vdots & \\ddots & \\vdots \\\\\n",
        "    a_{m1} & \\ldots & a_{mn}\n",
        "\\end{bmatrix}"
      ],
      "execution_count": null,
      "outputs": [
        {
          "output_type": "display_data",
          "data": {
            "text/latex": "\\displaystyle\nA =\\begin{bmatrix}\n    a_{11} & \\ldots & a_{1n} \\\\\n    \\vdots & \\ddots & \\vdots \\\\\n    a_{m1} & \\ldots & a_{mn}\n\\end{bmatrix}",
            "text/plain": [
              "<IPython.core.display.Latex object>"
            ]
          },
          "metadata": {
            "tags": []
          }
        }
      ]
    },
    {
      "cell_type": "markdown",
      "metadata": {
        "id": "l0WOCX6ZbsFA"
      },
      "source": [
        "直交行列\n",
        "実対称行列 $A$ は直交行列 $P$ によって  \n",
        "$D = P^{-1} A P$  \n",
        "と対角行列 $D$ に対角化される。  \n"
      ]
    },
    {
      "cell_type": "code",
      "metadata": {
        "id": "hGPGMKjC5tUm",
        "colab": {
          "base_uri": "https://localhost:8080/",
          "height": 39
        },
        "outputId": "0d4dc288-423c-421e-8b11-4c8216eed643"
      },
      "source": [
        "# 直交行列\n",
        "# 実対称行列 $A$ は直交行列 $P$ によって  \n",
        "# D = P^{-1} A P  \n",
        "# と対角行列 $D$ に対角化される。  \n",
        "%%latex\n",
        "D = P^{-1} A P"
      ],
      "execution_count": null,
      "outputs": [
        {
          "output_type": "display_data",
          "data": {
            "text/latex": "D = P^{-1} A P",
            "text/plain": [
              "<IPython.core.display.Latex object>"
            ]
          },
          "metadata": {
            "tags": []
          }
        }
      ]
    },
    {
      "cell_type": "code",
      "metadata": {
        "id": "qXRmBXE2PuHC",
        "colab": {
          "base_uri": "https://localhost:8080/",
          "height": 67
        },
        "outputId": "89e8d027-d4f9-40f3-899f-42e326164381"
      },
      "source": [
        "# Sigma , Sum, \n",
        "%%latex\n",
        "\\displaystyle\n",
        "\\sin x = \\sum_{n=0}^{\\infty} \\frac{(-1)^n}{(2n+1)!} x^{2n+1}"
      ],
      "execution_count": null,
      "outputs": [
        {
          "output_type": "display_data",
          "data": {
            "text/latex": "\\displaystyle\n\\sin x = \\sum_{n=0}^{\\infty} \\frac{(-1)^n}{(2n+1)!} x^{2n+1}",
            "text/plain": [
              "<IPython.core.display.Latex object>"
            ]
          },
          "metadata": {
            "tags": []
          }
        }
      ]
    },
    {
      "cell_type": "code",
      "metadata": {
        "id": "BwuoDXTSQKR7",
        "colab": {
          "base_uri": "https://localhost:8080/",
          "height": 59
        },
        "outputId": "9d638d0e-1b16-449e-d7b3-8ec36dcc034f"
      },
      "source": [
        "# \\int, Integral, \\lim, \n",
        "%%latex\n",
        "\\displaystyle\n",
        "\\int_{0}^{1} \\log x \\,dx\n",
        "= \\lim_{\\epsilon \\to +0} \\int_{\\epsilon}^{1} \\log x \\,dx\n",
        "= \\lim_{\\epsilon \\to +0} [x \\log x - x]_{\\epsilon}^{1}\n",
        "= -1"
      ],
      "execution_count": null,
      "outputs": [
        {
          "output_type": "display_data",
          "data": {
            "text/latex": "\\displaystyle\n\\int_{0}^{1} \\log x \\,dx\n= \\lim_{\\epsilon \\to +0} \\int_{\\epsilon}^{1} \\log x \\,dx\n= \\lim_{\\epsilon \\to +0} [x \\log x - x]_{\\epsilon}^{1}\n= -1",
            "text/plain": [
              "<IPython.core.display.Latex object>"
            ]
          },
          "metadata": {
            "tags": []
          }
        }
      ]
    },
    {
      "cell_type": "code",
      "metadata": {
        "id": "SqHt58ANQ-Nb",
        "colab": {
          "base_uri": "https://localhost:8080/",
          "height": 107
        },
        "outputId": "a4fe1880-6cc3-49f0-c235-7fb76bfc3274"
      },
      "source": [
        "# `%%latex`の中では`eqnarray`は使えない\n",
        "# `eqnarray`は使えないが`array`で代用できる。  \n",
        "# 数式を正しく表示するには \\displaystyle をちりばめる必要があるみたい。\n",
        "%%latex\n",
        "\\begin{array}{lcl}\n",
        "    \\displaystyle \n",
        "    \\int_{0}^{1} \\log x dx\n",
        "     & = & \\displaystyle \\lim_{\\epsilon \\to +0} \\int_{\\epsilon}^{1} \\log x dx \\\\\n",
        "     & = & \\displaystyle \\lim_{\\epsilon \\to +0} [x \\log x - x]_{\\epsilon}^{1} \\\\\n",
        "     & = & -1\n",
        "\\end{array}"
      ],
      "execution_count": null,
      "outputs": [
        {
          "output_type": "display_data",
          "data": {
            "text/latex": "\\begin{array}{lcl}\n    \\displaystyle \n    \\int_{0}^{1} \\log x dx\n     & = & \\displaystyle \\lim_{\\epsilon \\to +0} \\int_{\\epsilon}^{1} \\log x dx \\\\\n     & = & \\displaystyle \\lim_{\\epsilon \\to +0} [x \\log x - x]_{\\epsilon}^{1} \\\\\n     & = & -1\n\\end{array}",
            "text/plain": [
              "<IPython.core.display.Latex object>"
            ]
          },
          "metadata": {
            "tags": []
          }
        }
      ]
    },
    {
      "cell_type": "code",
      "metadata": {
        "id": "koHc7A_oKAVw",
        "colab": {
          "base_uri": "https://localhost:8080/",
          "height": 58
        },
        "outputId": "78e50c45-c5c7-466b-fc7b-c1f3e3397c50"
      },
      "source": [
        "# \\begin{array} の使い方。 \n",
        "# array の間に ampersand `&` が入る。\n",
        "# \\begin と {array} の間にスペースが入るとlatexindent で format されない。\n",
        "# イコールで揃えたい時は次のようにやる。\n",
        "%%latex\n",
        "\\displaystyle\n",
        "\\begin{array}\n",
        "    lkj;lkj & = & jk          \\\\\n",
        "            & = & kj;ljk;jk;j\n",
        "\\end{array}"
      ],
      "execution_count": null,
      "outputs": [
        {
          "output_type": "display_data",
          "data": {
            "text/latex": "\\displaystyle\n\\begin {array}\nlkj;lkj & = & jk  \\\\\n&=&  kj;ljk;jk;j\n\\end {array}",
            "text/plain": [
              "<IPython.core.display.Latex object>"
            ]
          },
          "metadata": {
            "tags": []
          }
        }
      ]
    },
    {
      "cell_type": "code",
      "metadata": {
        "id": "Jb03yr1JSOma",
        "colab": {
          "base_uri": "https://localhost:8080/",
          "height": 101
        },
        "outputId": "a3e78787-618d-457e-e4c9-25eee5c0b339"
      },
      "source": [
        "# 行間がきついときには \\\\ のあとに [0.3em] とか入れる\n",
        "%%latex\n",
        "\\displaystyle\n",
        "\\begin{array}{lcl}\n",
        "    \\sin(\\alpha \\pm \\beta) & = & \\sin \\alpha \\cos \\beta \\pm \\cos \\alpha \\sin \\beta               \\\\\n",
        "    \\cos(\\alpha \\pm \\beta) & = & \\cos \\alpha \\cos \\beta \\mp \\sin \\alpha \\sin \\beta               \\\\[0.3em]\n",
        "    \\tan(\\alpha \\pm \\beta) & = & \\displaystyle \\frac{\\tan \\alpha \\pm \\tan \\beta}{1 \\mp \\tan \\alpha \\tan \\beta}\n",
        "\\end{array}"
      ],
      "execution_count": null,
      "outputs": [
        {
          "output_type": "display_data",
          "data": {
            "text/latex": "\\displaystyle\n\\begin{array}{lcl}\n    \\sin(\\alpha \\pm \\beta) & = & \\sin \\alpha \\cos \\beta \\pm \\cos \\alpha \\sin \\beta               \\\\\n    \\cos(\\alpha \\pm \\beta) & = & \\cos \\alpha \\cos \\beta \\mp \\sin \\alpha \\sin \\beta               \\\\[0.3em]\n    \\tan(\\alpha \\pm \\beta) & = & \\displaystyle \\frac{\\tan \\alpha \\pm \\tan \\beta}{1 \\mp \\tan \\alpha \\tan \\beta}\n\\end{array}",
            "text/plain": [
              "<IPython.core.display.Latex object>"
            ]
          },
          "metadata": {
            "tags": []
          }
        }
      ]
    },
    {
      "cell_type": "code",
      "metadata": {
        "id": "GV3TDo_bTfD9",
        "colab": {
          "base_uri": "https://localhost:8080/",
          "height": 124
        },
        "outputId": "7fc4f72c-14e8-4263-8b0f-37b4cd548d1d"
      },
      "source": [
        "# 括弧のいろいろ\n",
        "%%latex\n",
        "[ (x) ] \\\\\n",
        "\\{ x \\}\\\\\n",
        "\\| x \\| \\\\\n",
        "| x | \\\\\n",
        "\\langle x \\rangle"
      ],
      "execution_count": null,
      "outputs": [
        {
          "output_type": "display_data",
          "data": {
            "text/latex": "[ (x) ] \\\\\n\\{ x \\}\\\\\n\\| x \\| \\\\\n| x | \\\\\n\\langle x \\rangle",
            "text/plain": [
              "<IPython.core.display.Latex object>"
            ]
          },
          "metadata": {
            "tags": []
          }
        }
      ]
    },
    {
      "cell_type": "code",
      "metadata": {
        "id": "xKyM3qnxWuEC",
        "colab": {
          "base_uri": "https://localhost:8080/",
          "height": 68
        },
        "outputId": "cfc15c51-b219-4c57-9a17-8d2991382cba"
      },
      "source": [
        "%%latex\n",
        "\\displaystyle\n",
        "\\Bigg( \\bigg[ \\Big\\{ \\big\\| \\langle x \\rangle \\big\\| \\Big\\} \\bigg] \\Bigg)"
      ],
      "execution_count": null,
      "outputs": [
        {
          "output_type": "display_data",
          "data": {
            "text/latex": "\\displaystyle\n\\displaystyle \\Bigg( \\bigg[ \\Big\\{ \\big\\| \\langle x \\rangle \\big\\| \\Big\\} \\bigg] \\Bigg)",
            "text/plain": [
              "<IPython.core.display.Latex object>"
            ]
          },
          "metadata": {
            "tags": []
          }
        }
      ]
    },
    {
      "cell_type": "code",
      "metadata": {
        "id": "Ka0qoGgeXAey",
        "colab": {
          "base_uri": "https://localhost:8080/",
          "height": 57
        },
        "outputId": "d0ec112c-d120-4908-b154-d77542a0acb3"
      },
      "source": [
        "# 左右の括弧に`\\left`、`\\right`をつけると自動で可変になる。 大きくなる。\n",
        "# `\\left`、`\\right`はかならずペアで、片方だけ使うときはピリオド `.` をつける。\n",
        "%%latex\n",
        "\\displaystyle \n",
        "\\left( \\frac{a}{b} \\right)\n",
        "\\left( \\int_a^\\infty x \\, dx \\right)"
      ],
      "execution_count": null,
      "outputs": [
        {
          "output_type": "display_data",
          "data": {
            "text/latex": "\\displaystyle \n\\left( \\frac{a}{b} \\right)\n\\left( \\int_a^\\infty x \\, dx \\right)",
            "text/plain": [
              "<IPython.core.display.Latex object>"
            ]
          },
          "metadata": {
            "tags": []
          }
        }
      ]
    },
    {
      "cell_type": "code",
      "metadata": {
        "id": "UgkUWCtbabhj",
        "colab": {
          "base_uri": "https://localhost:8080/",
          "height": 48
        },
        "outputId": "9e9e60f8-3f39-4999-c2fb-64368d3dfa58"
      },
      "source": [
        "# 括弧を片方だけつかってみる\n",
        "%%latex\n",
        "\\displaystyle\n",
        "\\left\\{ \\frac{a}{b} \\right."
      ],
      "execution_count": null,
      "outputs": [
        {
          "output_type": "display_data",
          "data": {
            "text/latex": "\\displaystyle\n\\left\\{ \\frac{a}{b} \\right.",
            "text/plain": [
              "<IPython.core.display.Latex object>"
            ]
          },
          "metadata": {
            "tags": []
          }
        }
      ]
    },
    {
      "cell_type": "code",
      "metadata": {
        "colab": {
          "base_uri": "https://localhost:8080/",
          "height": 101
        },
        "id": "1ba_unNA85vz",
        "outputId": "fab53737-5e60-4c1c-8845-1998238c46c6"
      },
      "source": [
        "# 括弧を片方だけつかってみる\n",
        "%%latex\n",
        "\\displaystyle\n",
        "\\left\\{\n",
        "\\begin{array}{lcl}\n",
        "    \\sin(\\alpha \\pm \\beta) & = & \\sin \\alpha \\cos \\beta \\pm \\cos \\alpha \\sin \\beta               \\\\\n",
        "    \\cos(\\alpha \\pm \\beta) & = & \\cos \\alpha \\cos \\beta \\mp \\sin \\alpha \\sin \\beta               \\\\[0.3em]\n",
        "    \\tan(\\alpha \\pm \\beta) & = & \\displaystyle \\frac{\\tan \\alpha \\pm \\tan \\beta}{1 \\mp \\tan \\alpha \\tan \\beta}\n",
        "\\end{array}\n",
        "\\right."
      ],
      "execution_count": null,
      "outputs": [
        {
          "output_type": "display_data",
          "data": {
            "text/latex": "\\displaystyle\n\\left\\{\n\\begin{array}{lcl}\n    \\sin(\\alpha \\pm \\beta) & = & \\sin \\alpha \\cos \\beta \\pm \\cos \\alpha \\sin \\beta               \\\\\n    \\cos(\\alpha \\pm \\beta) & = & \\cos \\alpha \\cos \\beta \\mp \\sin \\alpha \\sin \\beta               \\\\[0.3em]\n    \\tan(\\alpha \\pm \\beta) & = & \\displaystyle \\frac{\\tan \\alpha \\pm \\tan \\beta}{1 \\mp \\tan \\alpha \\tan \\beta}\n\\end{array}\n\\right.",
            "text/plain": [
              "<IPython.core.display.Latex object>"
            ]
          },
          "metadata": {
            "tags": []
          }
        }
      ]
    },
    {
      "cell_type": "code",
      "metadata": {
        "id": "yBKZWWP0hlDW",
        "colab": {
          "base_uri": "https://localhost:8080/",
          "height": 78
        },
        "outputId": "c9467a28-3cf7-43f8-afcc-fa46ffe6c1be"
      },
      "source": [
        "%%latex\n",
        "\n",
        "\\begin{array}{lcr}\n",
        "111 & 222 & 333 \\\\\n",
        "44  & 55  & 66 \\\\\n",
        "7   & 8   & 9\n",
        "\\end{array}"
      ],
      "execution_count": null,
      "outputs": [
        {
          "output_type": "display_data",
          "data": {
            "text/latex": "\n\\begin{array}{lcr}\n111 & 222 & 333 \\\\\n44  & 55  & 66 \\\\\n7   & 8   & 9\n\\end{array}",
            "text/plain": [
              "<IPython.core.display.Latex object>"
            ]
          },
          "metadata": {
            "tags": []
          }
        }
      ]
    },
    {
      "cell_type": "code",
      "metadata": {
        "id": "drq4hK7fmryu",
        "colab": {
          "base_uri": "https://localhost:8080/",
          "height": 139
        },
        "outputId": "2fac997c-58d1-4908-f770-97e5e6ed2dbd"
      },
      "source": [
        "# 行列を括弧で囲むには array ではなく pmatrix を使う。\n",
        "# \\left(,\\right) を使うこともできる\n",
        "%%latex\n",
        "\\begin{pmatrix}\n",
        "    111 & 222 & 333 \\\\\n",
        "    44  & 55  & 66  \\\\\n",
        "    7   & 8   & 9\n",
        "\\end{pmatrix}\n",
        "{}\\\\\n",
        "\\left(\n",
        "\\begin{array}{rrr}\n",
        "    111 & 222 & 333 \\\\\n",
        "    44  & 55  & 66  \\\\\n",
        "    7   & 8   & 9\n",
        "\\end{array}\n",
        "\\right)"
      ],
      "execution_count": null,
      "outputs": [
        {
          "output_type": "display_data",
          "data": {
            "text/latex": "\\begin{pmatrix}\n    111 & 222 & 333 \\\\\n    44  & 55  & 66  \\\\\n    7   & 8   & 9\n\\end{pmatrix}\n{}\\\\\n\\left(\n\\begin{array}{rrr}\n    111 & 222 & 333 \\\\\n    44  & 55  & 66  \\\\\n    7   & 8   & 9\n\\end{array}\n\\right)",
            "text/plain": [
              "<IPython.core.display.Latex object>"
            ]
          },
          "metadata": {
            "tags": []
          }
        }
      ]
    },
    {
      "cell_type": "code",
      "metadata": {
        "id": "AzzGRXcJRLVn",
        "colab": {
          "base_uri": "https://localhost:8080/",
          "height": 58
        },
        "outputId": "b55af895-dd8c-417c-efc8-c90a1ccabf2c"
      },
      "source": [
        "# pmatrix は array のように item の位置を指定することはできないみたい\n",
        "%%latex\n",
        "\\displaystyle\n",
        "\\begin{pmatrix}\n",
        "a & longitem \\\\\n",
        "128 & 3.1419\n",
        "\\end{pmatrix}"
      ],
      "execution_count": null,
      "outputs": [
        {
          "output_type": "display_data",
          "data": {
            "text/latex": "\\displaystyle\n\\begin{pmatrix}\na & longitem \\\\\n128 & 3.1419\n\\end{pmatrix}",
            "text/plain": [
              "<IPython.core.display.Latex object>"
            ]
          },
          "metadata": {
            "tags": []
          }
        }
      ]
    },
    {
      "cell_type": "markdown",
      "metadata": {
        "id": "0O1SWSw4SMjp"
      },
      "source": [
        "# 複素関数\n"
      ]
    },
    {
      "cell_type": "code",
      "metadata": {
        "id": "jEwDgPrKU07h",
        "colab": {
          "base_uri": "https://localhost:8080/",
          "height": 279
        },
        "outputId": "65853420-5d73-421e-d516-6c9ad228d9ba"
      },
      "source": [
        "%%latex\n",
        "複素関数   \\\\\n",
        "f(z) = f(x + i y ) = u (x, y) + iv(x, y) \\\\\n",
        "が点 \\\\\n",
        "z_0 = x_0 + iy_0 \\\\\n",
        "において正則であるための必要十分条件は、 \\\\\n",
        "z_0 \n",
        "のある \n",
        "\\varepsilon \n",
        "近傍 \\\\\n",
        "\\Delta (z_0, \\varepsilon) \\\\\n",
        "においてコーシー・リーマン方程式 \\\\\n",
        "\n",
        "\\begin {array}{ccc}\n",
        "    \\displaystyle \\frac{\\partial u}{\\partial x} &=& \\displaystyle \\frac{\\partial v}{\\partial y} \\\\\n",
        "    \\displaystyle \\frac{\\partial u}{\\partial y} &=& \\displaystyle - \\frac{\\partial v}{\\partial x}\n",
        "\\end {array}\n",
        "\\\\\n",
        "を満たすことである。"
      ],
      "execution_count": null,
      "outputs": [
        {
          "output_type": "display_data",
          "data": {
            "text/latex": "複素関数   \\\\\nf(z) = f(x + i y ) = u (x, y) + iv(x, y) \\\\\nが点 \\\\\nz_0 = x_0 + iy_0 \\\\\nにおいて正則であるための必要十分条件は、 \\\\\nz_0 \nのある \n\\varepsilon \n近傍 \\\\\n\\Delta (z_0, \\varepsilon) \\\\\nにおいてコーシー・リーマン方程式 \\\\\n\n\\begin {array}{ccc}\n    \\displaystyle \\frac{\\partial u}{\\partial x} &=& \\displaystyle \\frac{\\partial v}{\\partial y} \\\\\n    \\displaystyle \\frac{\\partial u}{\\partial y} &=& \\displaystyle - \\frac{\\partial v}{\\partial x}\n\\end {array}\n\\\\\nを満たすことである。",
            "text/plain": [
              "<IPython.core.display.Latex object>"
            ]
          },
          "metadata": {
            "tags": []
          }
        }
      ]
    },
    {
      "cell_type": "markdown",
      "metadata": {
        "id": "JCnkFEK7n0GD"
      },
      "source": [
        "# 空間曲線\n"
      ]
    },
    {
      "cell_type": "code",
      "metadata": {
        "id": "zBzYoUr9o6CI",
        "colab": {
          "base_uri": "https://localhost:8080/",
          "height": 145
        },
        "outputId": "c1c9e928-e3ba-472c-e6d1-90dda08b8ebe"
      },
      "source": [
        "%%latex\n",
        "c(t) = (x (t), y(t), z(t)) \\\\\n",
        "によって与えられる空間曲線 c の \\\\\n",
        "c(0) を始点として c(t) までの弧長を s(t) とすると \\\\\n",
        "\n",
        "s(t) = \\displaystyle \\int_0^t \\sqrt { (\\frac {dx}{dt})^2 \n",
        "       + (\\frac {dy}{dt})^2 + (\\frac {dz}{dt})^2}\n",
        "\\\\\n",
        "と表される。"
      ],
      "execution_count": null,
      "outputs": [
        {
          "output_type": "display_data",
          "data": {
            "text/latex": "c(t) = (x (t), y(t), z(t)) \\\\\nによって与えられる空間曲線 c の \\\\\nc(0) を始点として c(t) までの弧長を s(t) とすると \\\\\n\ns(t) = \\displaystyle \\int_0^t \\sqrt { (\\frac {dx}{dt})^2 \n       + (\\frac {dy}{dt})^2 + (\\frac {dz}{dt})^2}\n\\\\\nと表される。",
            "text/plain": [
              "<IPython.core.display.Latex object>"
            ]
          },
          "metadata": {
            "tags": []
          }
        }
      ]
    },
    {
      "cell_type": "markdown",
      "metadata": {
        "id": "v9f0D-eFpCl3"
      },
      "source": [
        "# 微分可能\n"
      ]
    },
    {
      "cell_type": "code",
      "metadata": {
        "id": "hoLm8yHerEru",
        "colab": {
          "base_uri": "https://localhost:8080/",
          "height": 124
        },
        "outputId": "d26eb9d5-f334-46fe-c1ec-281aa3301da4"
      },
      "source": [
        "# 微分可能\n",
        "%%latex\n",
        "関数 f が開区間 I 上で n 回微分可能であるとする。 \\\\\n",
        "このとき、a, b \\in I に対し、\\\\\n",
        "\n",
        "f(b) = \\displaystyle f(a)+ \\frac{f'(a)}{1!} (b - a) \n",
        "    + \\frac{f''(a)}{2!} (b - a)^2 + \\cdots \n",
        "    + \\frac{f^{(n - 1)}(a)}{(n - 1)!} (b - a)^{(n - 1)} + R_n(c)\n",
        "\\\\\n",
        "を満たす c が a と b の間に存在する。\n"
      ],
      "execution_count": null,
      "outputs": [
        {
          "output_type": "display_data",
          "data": {
            "text/latex": "\n関数 f が開区間 I 上で n 回微分可能であるとする。 \\\\\nこのとき、a, b \\in I に対し、\\\\\n\nf(b) = \\displaystyle f(a)+ \\frac{f'(a)}{1!} (b - a) \n    + \\frac{f''(a)}{2!} (b - a)^2 + \\cdots \n    + \\frac{f^{(n - 1)}(a)}{(n - 1)!} (b - a)^{(n - 1)} + R_n(c)\n\\\\\nを満たす c が a と b の間に存在する。",
            "text/plain": [
              "<IPython.core.display.Latex object>"
            ]
          },
          "metadata": {
            "tags": []
          }
        }
      ]
    },
    {
      "cell_type": "markdown",
      "metadata": {
        "id": "R-e13l9GrQ43"
      },
      "source": [
        "# n次正方行列\n"
      ]
    },
    {
      "cell_type": "code",
      "metadata": {
        "id": "PtaIIJSRwUfX",
        "colab": {
          "base_uri": "https://localhost:8080/",
          "height": 297
        },
        "outputId": "c7549507-b480-4c84-a4db-8f99be8681d1"
      },
      "source": [
        "# n次正方行列\n",
        "%%latex\n",
        "J (\\alpha, m) = \\begin {bmatrix}\n",
        "                    \\alpha & 1 & 0 & \\ldots & 0 \\\\\n",
        "                    0 & \\alpha & 1 & \\ddots & \\vdots \\\\\n",
        "                    \\vdots & \\ddots & \\ddots & \\ddots & 0 \\\\\n",
        "                    \\vdots &  & \\ddots & \\ddots & 1 \\\\\n",
        "                    0 & \\ldots & \\ldots & 0 & \\alpha\n",
        "                \\end {bmatrix} \\\\\n",
        "を Jordan 細胞と呼ぶ。 正方行列 A が正則行列 P によって \\\\\n",
        "\\begin {array} {lcl}\n",
        "P^{-1} A P &=& J(\\alpha_1, m_1) \\oplus J(\\alpha_2, m_2) \\oplus \\cdots \\oplus J(\\alpha_k, m_k)  \\\\\n",
        "&=& \\begin {bmatrix}\n",
        "        J(\\alpha_1, m_1) & & & \\\\\n",
        "        & J(\\alpha_2, m_2) & & \\\\\n",
        "        & & \\ddots & \\\\\n",
        "        & & & j(\\alpha_k, m_k)\n",
        "    \\end {bmatrix}\n",
        "\\end {array} \\\\\n",
        "と Jordan 細胞の直和になるとき、これを A の Jordan 標準形と呼ぶ。\n"
      ],
      "execution_count": null,
      "outputs": [
        {
          "output_type": "display_data",
          "data": {
            "text/latex": "J (\\alpha, m) = \\begin {bmatrix}\n                    \\alpha & 1 & 0 & \\ldots & 0 \\\\\n                    0 & \\alpha & 1 & \\ddots & \\vdots \\\\\n                    \\vdots & \\ddots & \\ddots & \\ddots & 0 \\\\\n                    \\vdots &  & \\ddots & \\ddots & 1 \\\\\n                    0 & \\ldots & \\ldots & 0 & \\alpha\n                \\end {bmatrix} \\\\\nを Jordan 細胞と呼ぶ。 正方行列 A が正則行列 P によって \\\\\n\\begin {array} {lcl}\nP^{-1} A P &=& J(\\alpha_1, m_1) \\oplus J(\\alpha_2, m_2) \\oplus \\cdots \\oplus J(\\alpha_k, m_k)  \\\\\n&=& \\begin {bmatrix}\n        J(\\alpha_1, m_1) & & & \\\\\n        & J(\\alpha_2, m_2) & & \\\\\n        & & \\ddots & \\\\\n        & & & j(\\alpha_k, m_k)\n    \\end {bmatrix}\n\\end {array} \\\\\nと Jordan 細胞の直和になるとき、これを A の Jordan 標準形と呼ぶ。",
            "text/plain": [
              "<IPython.core.display.Latex object>"
            ]
          },
          "metadata": {
            "tags": []
          }
        }
      ]
    },
    {
      "cell_type": "markdown",
      "metadata": {
        "id": "wdOsVm25xi6O"
      },
      "source": [
        "# 二項関係\n"
      ]
    },
    {
      "cell_type": "markdown",
      "metadata": {
        "id": "kyKAHNQ0qTLo"
      },
      "source": [
        "\n",
        "\n",
        "**定義 1** 集合 $X$ 上の二項関係 $\\rho$ について、次の性質を考える。\n",
        "\n",
        "1. すべての $x \\in X$ について、$x \\rho x$ が成り立つ。(反射律)\n",
        "\n",
        "1. $x, y \\in X$ について、$x \\rho y$ ならば $y \\rho x$ が成り立つ。(対称律)\n",
        "\n",
        "1. $x, y, z \\in X$ について、$x \\rho y$ かつ $y \\rho z$ ならば $x \\rho z$ が成り立つ。(推移律)\n",
        "\n",
        "1. $x, y \\in X$ について、$x \\rho y$ かつ $y \\rho x$ ならば $x = y$ が成り立つ。(反対称律)\n",
        "\n",
        "性質 $\\it{1, 2, 3}$ を満たす二項関係を**同値関係**と呼び、性質 $\\it{1, 3, 4}$ を満たす二項関係を**順序関係**と呼ぶ。"
      ]
    },
    {
      "cell_type": "code",
      "metadata": {
        "colab": {
          "base_uri": "https://localhost:8080/",
          "height": 148
        },
        "id": "vPJ7sqxYSIxz",
        "outputId": "2e41d040-8a66-441a-bd03-38da19ed2f4c"
      },
      "source": [
        "%%latex\n",
        "定義 1 集合 X 上の二項関係 \\rho について、次の性質を考える。\\\\\n",
        "\n",
        "1. すべての x \\in X について、x \\rho x が成り立つ。(反射律) \\\\\n",
        "2. x, y \\in X について、x \\rho y ならば y \\rho x が成り立つ。(対称律) \\\\\n",
        "3. x, y, z \\in X について、x \\rho y かつ y \\rho z ならば x \\rho z が成り立つ。(推移律) \\\\\n",
        "4. x, y \\in X について、x \\rho y かつ y \\rho x ならば x = y が成り立つ。(反対称律) \\\\\n",
        "性質 \\it{1, 2, 3} を満たす二項関係を同値関係と呼び、性質 \\it{1, 3, 4} を満たす二項関係を順序関係と呼ぶ。 \\\\"
      ],
      "execution_count": null,
      "outputs": [
        {
          "output_type": "display_data",
          "data": {
            "text/latex": "定義 1 集合 X 上の二項関係 \\rho について、次の性質を考える。\\\\\n\n1. すべての x \\in X について、x \\rho x が成り立つ。(反射律) \\\\\n2. x, y \\in X について、x \\rho y ならば y \\rho x が成り立つ。(対称律) \\\\\n3. x, y, z \\in X について、x \\rho y かつ y \\rho z ならば x \\rho z が成り立つ。(推移律) \\\\\n4. x, y \\in X について、x \\rho y かつ y \\rho x ならば x = y が成り立つ。(反対称律) \\\\\n性質 \\it{1, 2, 3} を満たす二項関係を同値関係と呼び、性質 \\it{1, 3, 4} を満たす二項関係を順序関係と呼ぶ。 \\\\",
            "text/plain": [
              "<IPython.core.display.Latex object>"
            ]
          },
          "metadata": {
            "tags": []
          }
        }
      ]
    },
    {
      "cell_type": "code",
      "metadata": {
        "id": "K2I0rXsZ013w",
        "colab": {
          "base_uri": "https://localhost:8080/",
          "height": 148
        },
        "outputId": "14d6357b-1a17-46a4-e3e5-fe3c00ed761a"
      },
      "source": [
        "# 数式と文がくっついて読みにくいので\\,を入れてみる\n",
        "# 出力は読みやすくなるが、コードセルが読みにくくなるのでボツ\n",
        "%%latex\n",
        "定義\\,1\\,集合\\,X\\,上の二項関係\\,\\rho\\,について、次の性質を考える。\\\\\n",
        "\n",
        "1.\\,すべての\\,x\\,\\in\\,X\\,について、x\\,\\rho\\,x\\,が成り立つ。(反射律)\\,\\\\\n",
        "2.\\,x,\\,y\\,\\in\\,X\\,について、x\\,\\rho\\,y\\,ならば\\,y\\,\\rho\\,x\\,が成り立つ。(対称律)\\,\\\\\n",
        "3.\\,x,\\,y,\\,z\\,\\in\\,X\\,について、x\\,\\rho\\,y\\,かつ\\,y\\,\\rho\\,z\\,ならば\\,x\\,\\rho\\,z\\,が成り立つ。(推移律)\\,\\\\\n",
        "4.\\,x,\\,y\\,\\in\\,X\\,について、x\\,\\rho\\,y\\,かつ\\,y\\,\\rho\\,x\\,ならば\\,x\\,=\\,y\\,が成り立つ。(反対称律)\\,\\\\\n",
        "性質\\,\\it{1,\\,2,\\,3}\\,を満たす二項関係を同値関係と呼び、性質\\,\\it{1,\\,3,\\,4}\\,を満たす二項関係を順序関係と呼ぶ。\\,\\\\"
      ],
      "execution_count": null,
      "outputs": [
        {
          "output_type": "display_data",
          "data": {
            "text/latex": "定義\\,1\\,集合\\,X\\,上の二項関係\\,\\rho\\,について、次の性質を考える。\\\\\n\n1.\\,すべての\\,x\\,\\in\\,X\\,について、x\\,\\rho\\,x\\,が成り立つ。(反射律)\\,\\\\\n2.\\,x,\\,y\\,\\in\\,X\\,について、x\\,\\rho\\,y\\,ならば\\,y\\,\\rho\\,x\\,が成り立つ。(対称律)\\,\\\\\n3.\\,x,\\,y,\\,z\\,\\in\\,X\\,について、x\\,\\rho\\,y\\,かつ\\,y\\,\\rho\\,z\\,ならば\\,x\\,\\rho\\,z\\,が成り立つ。(推移律)\\,\\\\\n4.\\,x,\\,y\\,\\in\\,X\\,について、x\\,\\rho\\,y\\,かつ\\,y\\,\\rho\\,x\\,ならば\\,x\\,=\\,y\\,が成り立つ。(反対称律)\\,\\\\\n性質\\,\\it{1,\\,2,\\,3}\\,を満たす二項関係を同値関係と呼び、性質\\,\\it{1,\\,3,\\,4}\\,を満たす二項関係を順序関係と呼ぶ。\\,\\\\",
            "text/plain": [
              "<IPython.core.display.Latex object>"
            ]
          },
          "metadata": {
            "tags": []
          }
        }
      ]
    },
    {
      "cell_type": "markdown",
      "metadata": {
        "id": "AhnMk_wTnkZU"
      },
      "source": [
        "# 集合の内包表記 set comprehension"
      ]
    },
    {
      "cell_type": "code",
      "metadata": {
        "id": "FPRji7FKkpWg",
        "colab": {
          "base_uri": "https://localhost:8080/",
          "height": 39
        },
        "outputId": "0f7167ce-f5c3-438f-ec89-f3a592fafa77"
      },
      "source": [
        "# 参考 集合で習う集合の内包表記は数式で次の様に書く。\n",
        "%%latex\n",
        "\n",
        "S= \\{2 \\cdot x \\mid x \\in  \\mathbb{N}, \\ x \\leq 10 \\}\n"
      ],
      "execution_count": null,
      "outputs": [
        {
          "output_type": "display_data",
          "data": {
            "text/latex": "\nS= \\{2 \\cdot x \\mid x \\in  \\mathbb{N}, \\ x \\leq 10 \\}",
            "text/plain": [
              "<IPython.core.display.Latex object>"
            ]
          },
          "metadata": {
            "tags": []
          }
        }
      ]
    }
  ]
}