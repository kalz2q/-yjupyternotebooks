{
  "nbformat": 4,
  "nbformat_minor": 0,
  "metadata": {
    "kernelspec": {
      "display_name": "Python 3",
      "language": "python",
      "name": "python3"
    },
    "language_info": {
      "codemirror_mode": {
        "name": "ipython",
        "version": 3
      },
      "file_extension": ".py",
      "mimetype": "text/x-python",
      "name": "python",
      "nbconvert_exporter": "python",
      "pygments_lexer": "ipython3",
      "version": "3.6.6"
    },
    "toc": {
      "base_numbering": 1,
      "nav_menu": {},
      "number_sections": true,
      "sideBar": true,
      "skip_h1_title": false,
      "title_cell": "Table of Contents",
      "title_sidebar": "Contents",
      "toc_cell": false,
      "toc_position": {
        "height": "calc(100% - 180px)",
        "left": "10px",
        "top": "150px",
        "width": "336.903px"
      },
      "toc_section_display": true,
      "toc_window_display": true
    },
    "colab": {
      "name": "learnlatex.ipynb",
      "provenance": [],
      "toc_visible": true,
      "include_colab_link": true
    }
  },
  "cells": [
    {
      "cell_type": "markdown",
      "metadata": {
        "id": "view-in-github",
        "colab_type": "text"
      },
      "source": [
        "<a href=\"https://colab.research.google.com/github/kalz2q/mycolabnotebooks/blob/master/learnlatex.ipynb\" target=\"_parent\"><img src=\"https://colab.research.google.com/assets/colab-badge.svg\" alt=\"Open In Colab\"/></a>"
      ]
    },
    {
      "cell_type": "markdown",
      "metadata": {
        "id": "X4JZJvQLY_rw",
        "colab_type": "text"
      },
      "source": [
        "# メモ\n",
        "\n",
        "古いノートブックに$\\LaTeX$を勉強したあとがあったので`Colab`で開いたところ。\n",
        "\n",
        "1. 昔は、というか環境づくりがたいへんだったのだが、いまも本を書こうとしたら環境づくりが必要なのだろうが、目的的に本を書くのではなく学習生産性を上げるのが目的なので、`Colab`が最適。\n",
        "1. 別途、`Colab`で数学、というアプローチを取っているので、`LaTeX`だけをとりあげて学習する意味はないような気がするが。\n",
        "1. 参考サイトを読むときに実験しながら進める。\n",
        "1. TeX入門 ( http://www.comp.tmu.ac.jp/tsakai/lectures/intro_tex.html )\n",
        "1. TeX入門Wiki ( https://texwiki.texjp.org/?LaTeX%E5%85%A5%E9%96%80%2F%E6%9C%80%E5%88%9D%E3%81%AE%E4%BE%8B )\n",
        "1. Learn LaTeX in 30 minutes ( https://www.overleaf.com/learn/latex/Learn_LaTeX_in_30_minutes )"
      ]
    },
    {
      "cell_type": "markdown",
      "metadata": {
        "id": "dlP5VSVvbsxB",
        "colab_type": "text"
      },
      "source": [
        "# はじめに\n",
        "\n",
        "最初は少し例を上げていくのがいいでしょう。\n",
        "\n",
        "ところで`%%latex`ってセルマジックがあったがあれはなにか。"
      ]
    },
    {
      "cell_type": "code",
      "metadata": {
        "id": "b5fjp5twb95X",
        "colab_type": "code",
        "colab": {
          "base_uri": "https://localhost:8080/",
          "height": 38
        },
        "outputId": "d9878cb6-e674-4d57-ac85-559f1af7e764"
      },
      "source": [
        "%%latex\n",
        "x = 3"
      ],
      "execution_count": 2,
      "outputs": [
        {
          "output_type": "display_data",
          "data": {
            "text/latex": "x = 3",
            "text/plain": [
              "<IPython.core.display.Latex object>"
            ]
          },
          "metadata": {
            "tags": []
          }
        }
      ]
    },
    {
      "cell_type": "markdown",
      "metadata": {
        "id": "PiS-edkxcP_E",
        "colab_type": "text"
      },
      "source": [
        "これをテキストセルで書くと、\n",
        "$$\n",
        "x = 3\n",
        "$$\n",
        "```\n",
        "x = 3\n",
        "```\n"
      ]
    },
    {
      "cell_type": "markdown",
      "metadata": {
        "id": "cUEt1ITqcfp3",
        "colab_type": "text"
      },
      "source": [
        "なるほど、もとのと結果を並べる手間が省けるのでいいかもしれない。\n",
        "\n",
        "使ってみよう。"
      ]
    },
    {
      "cell_type": "code",
      "metadata": {
        "id": "JB9zlH3xdAbV",
        "colab_type": "code",
        "colab": {
          "base_uri": "https://localhost:8080/",
          "height": 67
        },
        "outputId": "48df92b3-a2e2-4e7d-f02b-ed8381908150"
      },
      "source": [
        "%%latex\n",
        "\\begin{equation}\n",
        "  E = mc^{2}\n",
        "\\end{equation}"
      ],
      "execution_count": 5,
      "outputs": [
        {
          "output_type": "display_data",
          "data": {
            "text/latex": "\\begin{equation}\n  E = mc^{2}\n\\end{equation}",
            "text/plain": [
              "<IPython.core.display.Latex object>"
            ]
          },
          "metadata": {
            "tags": []
          }
        }
      ]
    },
    {
      "cell_type": "markdown",
      "metadata": {
        "id": "Ute0fCR8dgXh",
        "colab_type": "text"
      },
      "source": [
        "おっとこういう使い方ではない。\n",
        "\n",
        "マークダウンのなかだと\n",
        "```\n",
        "\\begin{equation}\n",
        "  E = mc^{2}\n",
        "\\end{equation}\n",
        "```\n",
        "と書けば、レンダリングされる。\n",
        "\n",
        "\\begin{equation}\n",
        "  E = mc^{2}\n",
        "\\end{equation}\n",
        "\n",
        "`$`で囲むが自動化されるが、`$$`で囲むのはというか、センタリングなのかな？\n",
        "\n",
        "まあ使っていけばわかるかも。\n",
        "\n"
      ]
    },
    {
      "cell_type": "markdown",
      "metadata": {
        "id": "gS-20EZ4B0lL",
        "colab_type": "text"
      },
      "source": [
        "# 簡単な数式"
      ]
    },
    {
      "cell_type": "code",
      "metadata": {
        "id": "NXhBtJwreRGG",
        "colab_type": "code",
        "colab": {
          "base_uri": "https://localhost:8080/",
          "height": 38
        },
        "outputId": "a2015e68-babe-459a-cab4-8c842093f566"
      },
      "source": [
        "%%latex\n",
        "E = mc^2"
      ],
      "execution_count": 6,
      "outputs": [
        {
          "output_type": "display_data",
          "data": {
            "text/latex": "E = mc^2",
            "text/plain": [
              "<IPython.core.display.Latex object>"
            ]
          },
          "metadata": {
            "tags": []
          }
        }
      ]
    },
    {
      "cell_type": "markdown",
      "metadata": {
        "id": "VQ5cdQKxB0lO",
        "colab_type": "text"
      },
      "source": [
        "ここに $c$ は光速で"
      ]
    },
    {
      "cell_type": "code",
      "metadata": {
        "id": "XaZ9k2NuebYv",
        "colab_type": "code",
        "colab": {
          "base_uri": "https://localhost:8080/",
          "height": 38
        },
        "outputId": "2559b15c-c1b0-4f79-d199-faf2b129b413"
      },
      "source": [
        "%%latex\n",
        "c = 299{,}792{,}458 \\, \\mathrm{m/s}"
      ],
      "execution_count": 7,
      "outputs": [
        {
          "output_type": "display_data",
          "data": {
            "text/latex": "c = 299{,}792{,}458 \\, \\mathrm{m/s}",
            "text/plain": [
              "<IPython.core.display.Latex object>"
            ]
          },
          "metadata": {
            "tags": []
          }
        }
      ]
    },
    {
      "cell_type": "markdown",
      "metadata": {
        "id": "7JZQs8Ize_jf",
        "colab_type": "text"
      },
      "source": [
        "数字のカンマはこうやって入れるのですね。\n",
        "\n",
        "フォントは実験してみよう。"
      ]
    },
    {
      "cell_type": "code",
      "metadata": {
        "id": "205xo7fYfLLI",
        "colab_type": "code",
        "colab": {
          "base_uri": "https://localhost:8080/",
          "height": 38
        },
        "outputId": "e382281c-282e-403b-e278-bcab938d56ba"
      },
      "source": [
        "%%latex\n",
        "\\mathrm{a b c d e f A B C } \n",
        "\\mathcal {abcdefABCDEF}\n",
        "\\mathfrak {abcdefABCDEF}\n",
        "\\mathit {abcdefABCDEF}"
      ],
      "execution_count": 12,
      "outputs": [
        {
          "output_type": "display_data",
          "data": {
            "text/latex": "\\mathrm{a b c d e f A B C } \n\\mathcal {abcdefABCDEF}\n\\mathfrak {abcdefABCDEF}\n\\mathit {abcdefABCDEF}",
            "text/plain": [
              "<IPython.core.display.Latex object>"
            ]
          },
          "metadata": {
            "tags": []
          }
        }
      ]
    },
    {
      "cell_type": "markdown",
      "metadata": {
        "id": "L872XDCqfsyM",
        "colab_type": "text"
      },
      "source": [
        "改行の入れ方がわからない。  \n",
        "あとで直す。\n",
        "スペースのいれかたもわからない。"
      ]
    },
    {
      "cell_type": "code",
      "metadata": {
        "id": "z_hJqC1ggHRw",
        "colab_type": "code",
        "colab": {
          "base_uri": "https://localhost:8080/",
          "height": 67
        },
        "outputId": "a7ddd1da-39b5-4ca8-9fe3-62a1151dd295"
      },
      "source": [
        "%%latex\n",
        "\\displaystyle\n",
        "\n",
        "\\frac{\\pi}{2} =\n",
        "\\left( \\int_{0}^{\\infty} \\frac{\\sin x}{\\sqrt{x}} dx \\right)^2 =\n",
        "\\sum_{k=0}^{\\infty} \\frac{(2k)!}{2^{2k}(k!)^2} \\frac{1}{2k+1} =\n",
        "\\prod_{k=1}^{\\infty} \\frac{4k^2}{4k^2 - 1}\n"
      ],
      "execution_count": 14,
      "outputs": [
        {
          "output_type": "display_data",
          "data": {
            "text/latex": "\\displaystyle\n\\frac{\\pi}{2} =\n\\left( \\int_{0}^{\\infty} \\frac{\\sin x}{\\sqrt{x}} dx \\right)^2 =\n\\sum_{k=0}^{\\infty} \\frac{(2k)!}{2^{2k}(k!)^2} \\frac{1}{2k+1} =\n\\prod_{k=1}^{\\infty} \\frac{4k^2}{4k^2 - 1}",
            "text/plain": [
              "<IPython.core.display.Latex object>"
            ]
          },
          "metadata": {
            "tags": []
          }
        }
      ]
    },
    {
      "cell_type": "markdown",
      "metadata": {
        "id": "xdjnP7eTB0lR",
        "colab_type": "text"
      },
      "source": [
        "```\n",
        "$$\n",
        "  \\frac{\\pi}{2} =\n",
        "  \\left( \\int_{0}^{\\infty} \\frac{\\sin x}{\\sqrt{x}} dx \\right)^2 =\n",
        "  \\sum_{k=0}^{\\infty} \\frac{(2k)!}{2^{2k}(k!)^2} \\frac{1}{2k+1} =\n",
        "  \\prod_{k=1}^{\\infty} \\frac{4k^2}{4k^2 - 1}\n",
        "$$```"
      ]
    },
    {
      "cell_type": "markdown",
      "metadata": {
        "id": "bAmzFwYWB0lS",
        "colab_type": "text"
      },
      "source": [
        "$$\n",
        "  \\frac{\\pi}{2} =\n",
        "  \\left( \\int_{0}^{\\infty} \\frac{\\sin x}{\\sqrt{x}} dx \\right)^2 =\n",
        "  \\sum_{k=0}^{\\infty} \\frac{(2k)!}{2^{2k}(k!)^2} \\frac{1}{2k+1} =\n",
        "  \\prod_{k=1}^{\\infty} \\frac{4k^2}{4k^2 - 1}\n",
        "$$"
      ]
    },
    {
      "cell_type": "markdown",
      "metadata": {
        "id": "fqM_iuIfB0lS",
        "colab_type": "text"
      },
      "source": [
        "\\usepackage{multicol}\n",
        "\\begin{multicols}{3}\n",
        "ここは三段組み。\n",
        "でも三段組みにするためにはもっと長い例文が必要なので，意味も無いことをここにだらだら書き連ねています。\n",
        "このくらい書けば三段に分かれて組み上げられるでしょうか？\n",
        "\\end{multicols}\n",
        "\n",
        "パッケージはつかえないみたい。"
      ]
    },
    {
      "cell_type": "markdown",
      "metadata": {
        "id": "FbVx5XVeB0lT",
        "colab_type": "text"
      },
      "source": [
        "```\n",
        "\\begin{equation*}\n",
        "  A = \\begin{pmatrix}\n",
        "        a_{11} & \\ldots & a_{1n} \\\\\n",
        "        \\vdots & \\ddots & \\vdots \\\\\n",
        "        a_{m1} & \\ldots & a_{mn}\n",
        "      \\end{pmatrix}\n",
        "\\end{equation*}```"
      ]
    },
    {
      "cell_type": "markdown",
      "metadata": {
        "id": "ISRr4u7WB0lT",
        "colab_type": "text"
      },
      "source": [
        "\\begin{equation*}\n",
        "  A = \\begin{pmatrix}\n",
        "        a_{11} & \\ldots & a_{1n} \\\\\n",
        "        \\vdots & \\ddots & \\vdots \\\\\n",
        "        a_{m1} & \\ldots & a_{mn}\n",
        "      \\end{pmatrix}\n",
        "\\end{equation*}"
      ]
    },
    {
      "cell_type": "markdown",
      "metadata": {
        "id": "z-64YVjBB0lU",
        "colab_type": "text"
      },
      "source": [
        "## 数式記号一覧\n",
        "複雑な数式記号の一覧を表にしたものを PDF 形式でリンクしておきます。  \n",
        "\n",
        "数式記号一覧 (PDF, 120K) [CTAN の symbols.tex を日本語にしたものです]  \n",
        "もっと実例が豊富な解説をリンクしておきます（ただし英語）。  \n",
        "\n",
        "AMS-LaTeX (American Mathematical Society) : 特にこの中の Short Math Guide for LaTeX  \n",
        "Higher Mathematics (LaTeX Companion の第8章; PDF 631K)  \n",
        "Herbert Voss's Math mode (LaTeX や AMSmath の数式モード解説のほか，Part III には数式組版にかかわる TeX のプリミティブ小事典があります。)  \n",
        "また，数式中でよく用いられるギリシャ文字・ドイツ文字・花文字・筆記体の出力法が以下にまとめられています。  \n",
        "\n",
        "ギリシャ文字, ドイツ文字, 花文字, 筆記体の TeX 表記をまとめておいた  "
      ]
    },
    {
      "cell_type": "markdown",
      "metadata": {
        "id": "w-cRW9IRB0lV",
        "colab_type": "text"
      },
      "source": [
        ""
      ]
    },
    {
      "cell_type": "markdown",
      "metadata": {
        "id": "AhlKfTE8B0lV",
        "colab_type": "text"
      },
      "source": [
        "# とりあえずここまで"
      ]
    },
    {
      "cell_type": "markdown",
      "metadata": {
        "id": "Js94s7TEB0lW",
        "colab_type": "text"
      },
      "source": [
        ""
      ]
    },
    {
      "cell_type": "markdown",
      "metadata": {
        "id": "TYQHM1ooB0lW",
        "colab_type": "text"
      },
      "source": [
        ""
      ]
    },
    {
      "cell_type": "markdown",
      "metadata": {
        "id": "4toDP7eNB0lX",
        "colab_type": "text"
      },
      "source": [
        ""
      ]
    },
    {
      "cell_type": "markdown",
      "metadata": {
        "id": "oO7GQdXcB0lX",
        "colab_type": "text"
      },
      "source": [
        ""
      ]
    },
    {
      "cell_type": "markdown",
      "metadata": {
        "id": "OZPoXHAuB0lY",
        "colab_type": "text"
      },
      "source": [
        ""
      ]
    },
    {
      "cell_type": "markdown",
      "metadata": {
        "id": "r4liDNw_B0lY",
        "colab_type": "text"
      },
      "source": [
        ""
      ]
    },
    {
      "cell_type": "markdown",
      "metadata": {
        "id": "kJu9YIY_B0lZ",
        "colab_type": "text"
      },
      "source": [
        ""
      ]
    },
    {
      "cell_type": "markdown",
      "metadata": {
        "id": "z6PutoucB0lZ",
        "colab_type": "text"
      },
      "source": [
        ""
      ]
    },
    {
      "cell_type": "markdown",
      "metadata": {
        "id": "Rp6blNK3B0lc",
        "colab_type": "text"
      },
      "source": [
        ""
      ]
    }
  ]
}