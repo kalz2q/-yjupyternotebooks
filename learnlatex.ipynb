{
  "nbformat": 4,
  "nbformat_minor": 0,
  "metadata": {
    "kernelspec": {
      "display_name": "Python 3",
      "language": "python",
      "name": "python3"
    },
    "language_info": {
      "codemirror_mode": {
        "name": "ipython",
        "version": 3
      },
      "file_extension": ".py",
      "mimetype": "text/x-python",
      "name": "python",
      "nbconvert_exporter": "python",
      "pygments_lexer": "ipython3",
      "version": "3.6.6"
    },
    "toc": {
      "base_numbering": 1,
      "nav_menu": {},
      "number_sections": true,
      "sideBar": true,
      "skip_h1_title": false,
      "title_cell": "Table of Contents",
      "title_sidebar": "Contents",
      "toc_cell": false,
      "toc_position": {
        "height": "calc(100% - 180px)",
        "left": "10px",
        "top": "150px",
        "width": "336.903px"
      },
      "toc_section_display": true,
      "toc_window_display": true
    },
    "colab": {
      "name": "learnlatex.ipynb",
      "provenance": [],
      "toc_visible": true,
      "include_colab_link": true
    }
  },
  "cells": [
    {
      "cell_type": "markdown",
      "metadata": {
        "id": "view-in-github",
        "colab_type": "text"
      },
      "source": [
        "<a href=\"https://colab.research.google.com/github/kalz2q/mycolabnotebooks/blob/master/learnlatex.ipynb\" target=\"_parent\"><img src=\"https://colab.research.google.com/assets/colab-badge.svg\" alt=\"Open In Colab\"/></a>"
      ]
    },
    {
      "cell_type": "markdown",
      "metadata": {
        "id": "M_IYHSO3fN5l"
      },
      "source": [
        "# メモ\n",
        "latex を勉強する。  \n",
        "colab でテキストセル内で &dollar; マークを使うと数式を latex で処理して美しく表示できる。\n",
        "$$ \\int f(x)dx $$\n",
        "これは\n",
        "```$$ \\int f(x)dx $$``` と書いたもの。\n"
      ]
    },
    {
      "cell_type": "code",
      "metadata": {
        "colab": {
          "base_uri": "https://localhost:8080/",
          "height": 55
        },
        "id": "StwWQ1xuncNF",
        "outputId": "27bedd98-99b1-4cb8-a06f-f3f1983da5ba"
      },
      "source": [
        "# 学習のために、明示的にコードセルで `%%latex` マジックを使って書く\n",
        "%%latex\n",
        "\\displaystyle\n",
        "\\int f(x)dx"
      ],
      "execution_count": null,
      "outputs": [
        {
          "output_type": "display_data",
          "data": {
            "text/plain": [
              "<IPython.core.display.Latex object>"
            ],
            "text/latex": "\\displaystyle\n\\int f(x)dx"
          },
          "metadata": {}
        }
      ]
    },
    {
      "cell_type": "markdown",
      "metadata": {
        "id": "X4JZJvQLY_rw"
      },
      "source": [
        "# 参考サイト\n",
        " \n",
        "TeX入門 ( http://www.comp.tmu.ac.jp/tsakai/lectures/intro_tex.html )  \n",
        "TeX入門Wiki ( https://texwiki.texjp.org/)  \n",
        "Learn LaTeX in 30 minutes ( https://www.overleaf.com/learn/latex/ \n",
        "Learn_LaTeX_in_30_minutes )  \n",
        "MathJax ( https://docs.mathjax.org/en/v2.5-latest/tex.html )  \n",
        "MathJaxの使い方(\n",
        "http://www.eng.niigata-u.ac.jp/~nomoto/download/mathjax.pdf)"
      ]
    },
    {
      "cell_type": "markdown",
      "metadata": {
        "id": "i_Cod0PRbZRu"
      },
      "source": [
        "---\n",
        "数式記号一覧\n",
        "\n",
        "The Comprehensive LaTeX Symbol List - The CTAN archive ( http://tug.ctan.org/info/symbols/comprehensive/symbols-a4.pdf )\n",
        "\n",
        "Short Math Guide for LaTeX ( https://ftp.yz.yamagata-u.ac.jp/pub/CTAN/info/short-math-guide/short-math-guide.pdf )\n",
        "\n",
        "ギリシャ文字, ドイツ文字, 花文字, 筆記体の TeX 表記をまとめておいた ( https://phasetr.com/blog/2013/04/14/ギリシャ文字-ドイツ文字-筆記体の-tex-表記を/ )"
      ]
    },
    {
      "cell_type": "code",
      "metadata": {
        "colab": {
          "base_uri": "https://localhost:8080/",
          "height": 38
        },
        "id": "wOsNxaXaXPUy",
        "outputId": "45ca7d34-e2e0-4bb0-c467-5b8f38d73e29"
      },
      "source": [
        "# コードセルで %%latex で表示する\n",
        "# 編集モードにしなくても latex 表記ができるので latex の学習には便利\n",
        "# コードセルの実行はセルの左の実行ボタン(右向き三角)を押すか、Ctrl+Enter を押す。\n",
        "%%latex\n",
        "x = 3"
      ],
      "execution_count": null,
      "outputs": [
        {
          "output_type": "display_data",
          "data": {
            "text/latex": "x = 3",
            "text/plain": [
              "<IPython.core.display.Latex object>"
            ]
          },
          "metadata": {
            "tags": []
          }
        }
      ]
    },
    {
      "cell_type": "code",
      "metadata": {
        "colab": {
          "base_uri": "https://localhost:8080/",
          "height": 72
        },
        "id": "ztMpC1OwjeeE",
        "outputId": "4ae94a0d-08ef-4b6d-d13f-e593e5008281"
      },
      "source": [
        "# 実験 python プログラムで表示することもできる。このノートブックでは学習対象としない\n",
        "# 別途 sympy で学習する\n",
        "from sympy import *\n",
        "from IPython.display import Markdown\n",
        "display(Markdown(\"実験学習 $x = 3$ と書く\"))\n",
        "x = symbols('x')\n",
        "display(Eq(x,3))"
      ],
      "execution_count": null,
      "outputs": [
        {
          "output_type": "display_data",
          "data": {
            "text/markdown": "実験学習 $x = 3$ と書く",
            "text/plain": [
              "<IPython.core.display.Markdown object>"
            ]
          },
          "metadata": {
            "tags": []
          }
        },
        {
          "output_type": "display_data",
          "data": {
            "text/latex": "$\\displaystyle x = 3$",
            "text/plain": [
              "Eq(x, 3)"
            ]
          },
          "metadata": {
            "tags": []
          }
        }
      ]
    },
    {
      "cell_type": "code",
      "source": [
        "# マークダウンと %%latex の違い (参考)\n",
        "# コードセルに %%latex と書くとその行以降 mathjax のルールが適用される\n",
        "# $ マークはそのまま出力する\n",
        "# % 記号はコメント記号\n",
        "# バックスラッシュ \\ 自体は \\backslash と書く\n",
        "# 波記号 チルダ tilde ~ は \\tilde{}、キャレット、ハット記号、サーカムフレックス、circumflex ^ は \\hat{} になる\n",
        "# 地の文、テキストも数式として解釈されるので、英文字はフォントが変わる。普通の文字にしたい場合は \\text{} で括る\n",
        "# 改行はマークダウンではスペース 2 個だが、%%latex では バックスラッシュ \\ を2個 \\\\\n",
        "# その他マークダウン上の便利な機能。箇条書きの自動ナンバリングなどは使えない"
      ],
      "metadata": {
        "id": "RLjJ7URGdV1Z"
      },
      "execution_count": null,
      "outputs": []
    },
    {
      "cell_type": "code",
      "metadata": {
        "id": "Osz4ublTk27V",
        "outputId": "6f2293f5-cd24-4e8c-8c8a-2e938f8a7817",
        "colab": {
          "base_uri": "https://localhost:8080/",
          "height": 208
        }
      },
      "source": [
        "# 実験\n",
        "%%latex\n",
        "this is a pen. \\\\ % スペースは無視される \n",
        "this\\ is\\ a\\ pen. \\\\ % スペースはエスケープする \n",
        "\\text{this is a pen} \\\\ % \\text{} を使うとイタリックでなくなる\n",
        "% これは latex のコメント記号。これ以降が表示されない \\\\\n",
        "\\% はこうやって表示。普通に \\backslash でエスケープする \\\\\n",
        "\\tilde{x}\\\\\n",
        "this is  \\tilde a pen \\\\ % \\tilde は 後続の 1 文字に作用する\n",
        "\\hat{x} \\\\ % \\hat は 後続の 1 文字に作用する\n",
        "x^3 \\\\\\ % hat 自体は上付きの意味\n",
        "_1^2 x ^3_4 \\\\ % 下付きはアンダーバー"
      ],
      "execution_count": null,
      "outputs": [
        {
          "output_type": "display_data",
          "data": {
            "text/plain": [
              "<IPython.core.display.Latex object>"
            ],
            "text/latex": "this is a pen. \\\\ % スペースは無視される \nthis\\ is\\ a\\ pen. \\\\ % スペースはエスケープする \n\\text{this is a pen} \\\\ % \\text{} を使うとイタリックでなくなる\n% これは latex のコメント記号。これ以降が表示されない \\\\\n\\% はこうやって表示。普通に \\backslash でエスケープする \\\\\n\\tilde{x}\\\\\nthis is  \\tilde a pen \\\\ % \\tilde は 後続の 1 文字に作用する\n\\hat{x} \\\\ % \\hat は 後続の 1 文字に作用する\nx^3 \\\\\\ % hat 自体は上付きの意味\n_1^2 x ^3_4 \\\\ % 下付きはアンダーバー"
          },
          "metadata": {}
        }
      ]
    },
    {
      "cell_type": "code",
      "metadata": {
        "id": "NXhBtJwreRGG",
        "colab": {
          "base_uri": "https://localhost:8080/",
          "height": 74
        },
        "outputId": "b4209dce-6dd4-4656-b7bd-40b0bd43470d"
      },
      "source": [
        "%%latex\n",
        "E = mc^2  \\\\[0.8em] % 行間を広げる\n",
        "c = 299{,}792{,}458 \\, \\mathrm{m/s} "
      ],
      "execution_count": null,
      "outputs": [
        {
          "output_type": "display_data",
          "data": {
            "text/plain": [
              "<IPython.core.display.Latex object>"
            ],
            "text/latex": "E = mc^2  \\\\[0.8em]\nc = 299{,}792{,}458 \\, \\mathrm{m/s} "
          },
          "metadata": {}
        }
      ]
    },
    {
      "cell_type": "code",
      "source": [
        "# E=mc^2\n",
        "# ここで c は光速を表し、値は次の通り。  \n",
        "# c = 299{,}792{,}458 \\, \\mathrm{m/s} \n",
        "# いわゆる光速は 30 万キロ/秒というやつね!!!!\n",
        "# 地球 7 周り半\n",
        "# 数字のカンマは `{,}` として入れる。 波括弧 brace で囲む"
      ],
      "metadata": {
        "id": "VQ5cdQKxB0lO"
      },
      "execution_count": null,
      "outputs": []
    },
    {
      "cell_type": "code",
      "source": [
        "# マークダウンでドル`$`マーク ドルサインをエスケープする\n",
        "# マークダウンでは mathjax の begin, end の記号なので、バックスラッシュ `\\` でエスケープする必要がある\n",
        "# この本は\\$35.40\n",
        "# ドルサイン自体を HTML文字参照で書く、という方法もある\n",
        "# `&#36; `\n",
        "# `&#x24;`\n",
        "# `&dollar;`\n",
        "# HTML文字参照は latex の中では使えない\n",
        "# マークダウンで同一セル内でペアになっていないと表示される"
      ],
      "metadata": {
        "id": "JJRGMDwVF90w"
      },
      "execution_count": null,
      "outputs": []
    },
    {
      "cell_type": "code",
      "metadata": {
        "id": "s98H-qzjKkTo",
        "colab": {
          "base_uri": "https://localhost:8080/",
          "height": 146
        },
        "outputId": "d4be56d3-2acf-4b1a-a5c2-8f0369ee2ccc"
      },
      "source": [
        "# 水平方向の空白の実験\n",
        "# \\+セミコロン、スペース、チルダが標準的な 1 文字スペースのようである\n",
        "# とりあえずセミコロンがわかりやすいので \\; とするが\n",
        "%%latex\n",
        "a\\;b\\;c\\;d\\;e\\;f\\;g\\; セミコロン\\\\\n",
        "a\\ b\\ c\\ d\\ e\\ f\\ g\\  スペース\\\\\n",
        "a~b~c~d~e~f~g~ tilde\\\\\n",
        "a\\,b\\,c\\,d\\,e\\,f\\,g\\, カンマ\\\\\n",
        "a~~b~~c~~d~~e~~f~~g~~ tilde2\\\\\n",
        "a\\quad b\\quad c\\quad d\\quad e\\quad f\\quad g\\quad  quad\\\\"
      ],
      "execution_count": null,
      "outputs": [
        {
          "output_type": "display_data",
          "data": {
            "text/latex": "a\\;b\\;c\\;d\\;e\\;f\\;g\\; セミコロン\\\\\na\\ b\\ c\\ d\\ e\\ f\\ g\\  スペース\\\\\na~b~c~d~e~f~g~ tilde\\\\\na\\,b\\,c\\,d\\,e\\,f\\,g\\, カンマ\\\\\na~~b~~c~~d~~e~~f~~g~~ tilde2\\\\\na\\quad b\\quad c\\quad d\\quad e\\quad f\\quad g\\quad  quad\\\\",
            "text/plain": [
              "<IPython.core.display.Latex object>"
            ]
          },
          "metadata": {
            "tags": []
          }
        }
      ]
    },
    {
      "cell_type": "code",
      "source": [
        "# %%latex 中で空行を入れる方法\n",
        "%%latex\n",
        "x = 3 \\\\\n",
        "{}\\\\ \n",
        "y \\\\[0.5em] % 行間を指定する方法\n",
        "z"
      ],
      "metadata": {
        "colab": {
          "base_uri": "https://localhost:8080/",
          "height": 112
        },
        "id": "k2WcoDQ6TnZM",
        "outputId": "50254a16-b599-4def-a8b4-9bae706c6be9"
      },
      "execution_count": null,
      "outputs": [
        {
          "output_type": "display_data",
          "data": {
            "text/plain": [
              "<IPython.core.display.Latex object>"
            ],
            "text/latex": "x = 3 \\\\\n{}\\\\ \ny \\\\[0.5em] % 行間を指定しする方法\nz"
          },
          "metadata": {}
        }
      ]
    },
    {
      "cell_type": "markdown",
      "metadata": {
        "id": "A3Z0alVOPf75"
      },
      "source": [
        "---\n",
        "インテグラル 積分\n",
        "$$\n",
        "\\frac{\\pi}{2} =\n",
        "\\left( \\int_{0}^{\\infty} \\frac{\\sin x}{\\sqrt{x}} dx \\right)^2 =\n",
        "\\sum_{k=0}^{\\infty} \\frac{(2k)!}{2^{2k}(k!)^2} \\frac{1}{2k+1} =\n",
        "\\prod_{k=1}^{\\infty} \\frac{4k^2}{4k^2 - 1}\n",
        "$$"
      ]
    },
    {
      "cell_type": "code",
      "metadata": {
        "id": "z_hJqC1ggHRw",
        "colab": {
          "base_uri": "https://localhost:8080/",
          "height": 67
        },
        "outputId": "1368cd2b-0fb4-41f8-df68-2582d29102ab"
      },
      "source": [
        "# インテグラル 積分記号\n",
        "# latex では \\int , sympy では Integral\n",
        "%%latex\n",
        "\\displaystyle % インラインスタイルでフォントが小さくなってしまう\n",
        "\\frac{\\pi}{2}\n",
        "=\n",
        "\\left( \\int_{0}^{\\infty} \\frac{\\sin x}{\\sqrt{x}} dx \\right)^2\n",
        "=\n",
        "\\sum_{k=0}^{\\infty} \\frac{(2k)!}{2^{2k}(k!)^2} \\frac{1}{2k+1}\n",
        "=\n",
        "\\prod_{k=1}^{\\infty} \\frac{4k^2}{4k^2 - 1}"
      ],
      "execution_count": null,
      "outputs": [
        {
          "output_type": "display_data",
          "data": {
            "text/plain": [
              "<IPython.core.display.Latex object>"
            ],
            "text/latex": "\\displaystyle % インラインスタイルでフォントが小さくなってしまう\n\\frac{\\pi}{2}\n=\n\\left( \\int_{0}^{\\infty} \\frac{\\sin x}{\\sqrt{x}} dx \\right)^2\n=\n\\sum_{k=0}^{\\infty} \\frac{(2k)!}{2^{2k}(k!)^2} \\frac{1}{2k+1}\n=\n\\prod_{k=1}^{\\infty} \\frac{4k^2}{4k^2 - 1}"
          },
          "metadata": {}
        }
      ]
    },
    {
      "cell_type": "code",
      "source": [
        "# フォントの実験\n",
        "%%latex\n",
        "abcdefABC  \\\\ % 数学用のフォントになる 数式書体と呼ぶらしい\n",
        "\\text{This is a text} \\\\\n",
        "\\mathrm{abcdefABC} \\\\ % 座標など\n",
        "\\boldsymbol{abcdefABC} \\\\ % ベクトルなど\n",
        "\\mathbf{NZRC} \\\\ % 自然数、整数、有理数、複素数\n",
        "\\mathbb{NZRC} \\\\\n",
        "\\mathcal{abcdefABC} \\\\ % 筆記体\n",
        "\\mathfrak{abcdefABC} \\\\ % ドイツ文字\n",
        "\\mathscr{abcdefABC} \\\\ % 花文字"
      ],
      "metadata": {
        "id": "NgmgaN0pnnAY",
        "colab": {
          "base_uri": "https://localhost:8080/",
          "height": 208
        },
        "outputId": "05a8e6a2-094b-4b31-c004-afca02c1b8c2"
      },
      "execution_count": null,
      "outputs": [
        {
          "output_type": "display_data",
          "data": {
            "text/plain": [
              "<IPython.core.display.Latex object>"
            ],
            "text/latex": "abcdefABC  \\\\ % 数学用のフォントになる 数式書体と呼ぶらしい\n\\text{This is a text} \\\\\n\\mathrm{abcdefABC} \\\\ % 座標など\n\\boldsymbol{abcdefABC} \\\\ % ベクトルなど\n\\mathbf{NZRC} \\\\ % 自然数、整数、有理数、複素数\n\\mathbb{NZRC} \\\\\n\\mathcal{abcdefABC} \\\\ % 筆記体\n\\mathfrak{abcdefABC} \\\\ % ドイツ文字\n\\mathscr{abcdefABC} \\\\ % 花文字"
          },
          "metadata": {}
        }
      ]
    },
    {
      "cell_type": "code",
      "source": [
        "# 行列 matrix\n",
        "%%latex\n",
        "\\displaystyle\n",
        "A =\\begin{pmatrix}\n",
        "    a_{11} & \\ldots & a_{1n} \\\\\n",
        "    \\vdots & \\ddots & \\vdots \\\\\n",
        "    a_{m1} & \\ldots & a_{mn}\n",
        "\\end{pmatrix} \\quad\n",
        "A =\\begin{bmatrix}\n",
        "    a_{11} & \\ldots & a_{1n} \\\\\n",
        "    \\vdots & \\ddots & \\vdots \\\\\n",
        "    a_{m1} & \\ldots & a_{mn}\n",
        "\\end{bmatrix}"
      ],
      "metadata": {
        "id": "izyrEmSv6mIS"
      },
      "execution_count": null,
      "outputs": []
    },
    {
      "cell_type": "code",
      "source": [
        "# 直交行列\n",
        "# 実対称行列 A は直交行列 P によって  \n",
        "# D = P^{-1} A P  \n",
        "# と対角行列 D に対角化される。  "
      ],
      "metadata": {
        "id": "l0WOCX6ZbsFA"
      },
      "execution_count": null,
      "outputs": []
    },
    {
      "cell_type": "code",
      "metadata": {
        "id": "hGPGMKjC5tUm",
        "colab": {
          "base_uri": "https://localhost:8080/",
          "height": 38
        },
        "outputId": "51797684-bb8a-4f5d-97a8-40944676c941"
      },
      "source": [
        "# 直交行列\n",
        "%%latex\n",
        "D = P^{-1} A P"
      ],
      "execution_count": null,
      "outputs": [
        {
          "output_type": "display_data",
          "data": {
            "text/latex": "D = P^{-1} A P",
            "text/plain": [
              "<IPython.core.display.Latex object>"
            ]
          },
          "metadata": {
            "tags": []
          }
        }
      ]
    },
    {
      "cell_type": "code",
      "metadata": {
        "id": "qXRmBXE2PuHC",
        "colab": {
          "base_uri": "https://localhost:8080/",
          "height": 66
        },
        "outputId": "3d936ad4-9139-4511-d3f3-5b4b9fc1d71e"
      },
      "source": [
        "# 数列の合計シグマ、無限、階乗\n",
        "%%latex\n",
        "\\displaystyle\n",
        "\\sin x = \\sum_{n=0}^{\\infty} \\frac{(-1)^n}{(2n+1)!} x^{2n+1}"
      ],
      "execution_count": null,
      "outputs": [
        {
          "output_type": "display_data",
          "data": {
            "text/latex": "\\displaystyle\n\\sin x = \\sum_{n=0}^{\\infty} \\frac{(-1)^n}{(2n+1)!} x^{2n+1}",
            "text/plain": [
              "<IPython.core.display.Latex object>"
            ]
          },
          "metadata": {
            "tags": []
          }
        }
      ]
    },
    {
      "cell_type": "code",
      "metadata": {
        "id": "BwuoDXTSQKR7",
        "colab": {
          "base_uri": "https://localhost:8080/",
          "height": 59
        },
        "outputId": "c8d5d23b-8c85-41c8-8199-8830315ceec5"
      },
      "source": [
        "# 積分記号、イプシロン、極限\\int, Integral, \\lim, \n",
        "%%latex\n",
        "\\displaystyle\n",
        "\\int_{0}^{1} \\log x \\,dx\n",
        "= \\lim_{\\epsilon \\to +0} \\int_{\\epsilon}^{1} \\log x \\,dx\n",
        "= \\lim_{\\epsilon \\to +0} [x \\log x - x]_{\\epsilon}^{1}\n",
        "= -1"
      ],
      "execution_count": null,
      "outputs": [
        {
          "output_type": "display_data",
          "data": {
            "text/latex": "\\displaystyle\n\\int_{0}^{1} \\log x \\,dx\n= \\lim_{\\epsilon \\to +0} \\int_{\\epsilon}^{1} \\log x \\,dx\n= \\lim_{\\epsilon \\to +0} [x \\log x - x]_{\\epsilon}^{1}\n= -1",
            "text/plain": [
              "<IPython.core.display.Latex object>"
            ]
          },
          "metadata": {
            "tags": []
          }
        }
      ]
    },
    {
      "cell_type": "code",
      "metadata": {
        "id": "SqHt58ANQ-Nb",
        "colab": {
          "base_uri": "https://localhost:8080/",
          "height": 107
        },
        "outputId": "60015dd3-738c-4c1f-d359-a00ba37be4df"
      },
      "source": [
        "# 数式を揃える array, eqnarray, align, cases\n",
        "%%latex\n",
        "\\begin{array}{lcl}\n",
        "    \\displaystyle \n",
        "    \\int_{0}^{1} \\log x dx\n",
        "     & = & \\displaystyle \\lim_{\\epsilon \\to +0} \\int_{\\epsilon}^{1} \\log x dx \\\\\n",
        "     & = & \\displaystyle \\lim_{\\epsilon \\to +0} [x \\log x - x]_{\\epsilon}^{1} \\\\\n",
        "     & = & -1\n",
        "\\end{array}"
      ],
      "execution_count": null,
      "outputs": [
        {
          "output_type": "display_data",
          "data": {
            "text/latex": "\\begin{array}{lcl}\n    \\displaystyle \n    \\int_{0}^{1} \\log x dx\n     & = & \\displaystyle \\lim_{\\epsilon \\to +0} \\int_{\\epsilon}^{1} \\log x dx \\\\\n     & = & \\displaystyle \\lim_{\\epsilon \\to +0} [x \\log x - x]_{\\epsilon}^{1} \\\\\n     & = & -1\n\\end{array}",
            "text/plain": [
              "<IPython.core.display.Latex object>"
            ]
          },
          "metadata": {
            "tags": []
          }
        }
      ]
    },
    {
      "cell_type": "code",
      "metadata": {
        "id": "GV3TDo_bTfD9",
        "colab": {
          "base_uri": "https://localhost:8080/",
          "height": 177
        },
        "outputId": "1e77dda9-bbc3-45cf-b4f5-02181e27280e"
      },
      "source": [
        "# 括弧のいろいろ 丸括弧 波括弧 角括弧 絶対値\n",
        "%%latex\n",
        "[ (x) ] \\\\\n",
        "\\{ x \\}\\\\\n",
        "\\| x \\| \\\\\n",
        "| x | \\\\\n",
        "\\langle x \\rangle \\\\\n",
        "\\displaystyle\n",
        "\\Bigg( \\bigg[ \\Big\\{ \\big\\| \\langle x \\rangle \\big\\| \\Big\\} \\bigg] \\Bigg)"
      ],
      "execution_count": null,
      "outputs": [
        {
          "output_type": "display_data",
          "data": {
            "text/plain": [
              "<IPython.core.display.Latex object>"
            ],
            "text/latex": "[ (x) ] \\\\\n\\{ x \\}\\\\\n\\| x \\| \\\\\n| x | \\\\\n\\langle x \\rangle \\\\\n\\displaystyle\n\\Bigg( \\bigg[ \\Big\\{ \\big\\| \\langle x \\rangle \\big\\| \\Big\\} \\bigg] \\Bigg)"
          },
          "metadata": {}
        }
      ]
    },
    {
      "cell_type": "code",
      "source": [
        "# 左右の括弧に`\\left`、`\\right`をつけると自動で可変になる。 大きくなる。\n",
        "# \\left`、`\\right`はかならずペアで、片方だけ使うときはピリオド `.` をつける。\n",
        "%%latex\n",
        "\\displaystyle \n",
        "\\left( \\frac{a}{b} \\right)\n",
        "\\left( \\int_a^\\infty x \\, dx \\right)\n",
        "\\\\[0.8em]\n",
        "\\left( x = 3 \\right."
      ],
      "metadata": {
        "id": "AsGPAw9E_ReN",
        "colab": {
          "base_uri": "https://localhost:8080/",
          "height": 93
        },
        "outputId": "db8dd040-b294-434e-dece-dcca6b0eea16"
      },
      "execution_count": null,
      "outputs": [
        {
          "output_type": "display_data",
          "data": {
            "text/plain": [
              "<IPython.core.display.Latex object>"
            ],
            "text/latex": "\\displaystyle \n\\left( \\frac{a}{b} \\right)\n\\left( \\int_a^\\infty x \\, dx \\right)\n\\\\[0.8em]\n\\left( x = 3 \\right."
          },
          "metadata": {}
        }
      ]
    },
    {
      "cell_type": "code",
      "metadata": {
        "id": "yBKZWWP0hlDW",
        "colab": {
          "base_uri": "https://localhost:8080/",
          "height": 78
        },
        "outputId": "347808cf-5924-4b23-ea37-ca198644981f"
      },
      "source": [
        "# 左寄せ、センタリング、右寄せ\n",
        "%%latex\n",
        "\\begin{array}{lcr}\n",
        "111 & 222 & 333 \\\\\n",
        "44  & 55  & 66 \\\\\n",
        "7   & 8   & 9\n",
        "\\end{array}"
      ],
      "execution_count": null,
      "outputs": [
        {
          "output_type": "display_data",
          "data": {
            "text/latex": "\n\\begin{array}{lcr}\n111 & 222 & 333 \\\\\n44  & 55  & 66 \\\\\n7   & 8   & 9\n\\end{array}",
            "text/plain": [
              "<IPython.core.display.Latex object>"
            ]
          },
          "metadata": {
            "tags": []
          }
        }
      ]
    },
    {
      "cell_type": "code",
      "metadata": {
        "colab": {
          "base_uri": "https://localhost:8080/",
          "height": 101
        },
        "id": "1ba_unNA85vz",
        "outputId": "1f42e49a-e3b7-4653-e429-e78afee8431a"
      },
      "source": [
        "# 片括弧\n",
        "%%latex\n",
        "\\displaystyle\n",
        "\\left\\{\n",
        "\\begin{array}{lcl}\n",
        "    \\sin(\\alpha \\pm \\beta) & = & \\sin \\alpha \\cos \\beta \\pm \\cos \\alpha \\sin \\beta               \\\\\n",
        "    \\cos(\\alpha \\pm \\beta) & = & \\cos \\alpha \\cos \\beta \\mp \\sin \\alpha \\sin \\beta               \\\\[0.3em]\n",
        "    \\tan(\\alpha \\pm \\beta) & = & \\displaystyle \\frac{\\tan \\alpha \\pm \\tan \\beta}{1 \\mp \\tan \\alpha \\tan \\beta}\n",
        "\\end{array}\n",
        "\\right."
      ],
      "execution_count": null,
      "outputs": [
        {
          "output_type": "display_data",
          "data": {
            "text/latex": "\\displaystyle\n\\left\\{\n\\begin{array}{lcl}\n    \\sin(\\alpha \\pm \\beta) & = & \\sin \\alpha \\cos \\beta \\pm \\cos \\alpha \\sin \\beta               \\\\\n    \\cos(\\alpha \\pm \\beta) & = & \\cos \\alpha \\cos \\beta \\mp \\sin \\alpha \\sin \\beta               \\\\[0.3em]\n    \\tan(\\alpha \\pm \\beta) & = & \\displaystyle \\frac{\\tan \\alpha \\pm \\tan \\beta}{1 \\mp \\tan \\alpha \\tan \\beta}\n\\end{array}\n\\right.",
            "text/plain": [
              "<IPython.core.display.Latex object>"
            ]
          },
          "metadata": {
            "tags": []
          }
        }
      ]
    },
    {
      "cell_type": "code",
      "metadata": {
        "id": "drq4hK7fmryu",
        "colab": {
          "base_uri": "https://localhost:8080/",
          "height": 139
        },
        "outputId": "b2968aee-424e-45a0-ed33-ae9ad2e36599"
      },
      "source": [
        "# 行列を括弧で囲むには array ではなく pmatrix を使う。\n",
        "# \\left(,\\right) を使うこともできる\n",
        "%%latex\n",
        "\\begin{pmatrix}\n",
        "    111 & 222 & 333 \\\\\n",
        "    44  & 55  & 66  \\\\\n",
        "    7   & 8   & 9\n",
        "\\end{pmatrix}\n",
        "{}\\\\\n",
        "\\left(\n",
        "\\begin{array}{rrr}\n",
        "    111 & 222 & 333 \\\\\n",
        "    44  & 55  & 66  \\\\\n",
        "    7   & 8   & 9\n",
        "\\end{array}\n",
        "\\right)"
      ],
      "execution_count": null,
      "outputs": [
        {
          "output_type": "display_data",
          "data": {
            "text/latex": "\\begin{pmatrix}\n    111 & 222 & 333 \\\\\n    44  & 55  & 66  \\\\\n    7   & 8   & 9\n\\end{pmatrix}\n{}\\\\\n\\left(\n\\begin{array}{rrr}\n    111 & 222 & 333 \\\\\n    44  & 55  & 66  \\\\\n    7   & 8   & 9\n\\end{array}\n\\right)",
            "text/plain": [
              "<IPython.core.display.Latex object>"
            ]
          },
          "metadata": {
            "tags": []
          }
        }
      ]
    },
    {
      "cell_type": "code",
      "metadata": {
        "id": "AzzGRXcJRLVn",
        "colab": {
          "base_uri": "https://localhost:8080/",
          "height": 58
        },
        "outputId": "9da9435b-8b86-4414-cfbf-a1407199b3f8"
      },
      "source": [
        "# pmatrix は array のように item の位置を指定することはできないみたい\n",
        "%%latex\n",
        "\\displaystyle\n",
        "\\begin{pmatrix}\n",
        "a & longitem \\\\\n",
        "128 & 3.1419\n",
        "\\end{pmatrix}"
      ],
      "execution_count": null,
      "outputs": [
        {
          "output_type": "display_data",
          "data": {
            "text/latex": "\\displaystyle\n\\begin{pmatrix}\na & longitem \\\\\n128 & 3.1419\n\\end{pmatrix}",
            "text/plain": [
              "<IPython.core.display.Latex object>"
            ]
          },
          "metadata": {
            "tags": []
          }
        }
      ]
    },
    {
      "cell_type": "code",
      "source": [
        "# 複素関数\n",
        "# f(z) = f(x + i y ) = u (x, y) + iv(x, y) \\\\\n",
        "# が点 \\\\\n",
        "# z_0 = x_0 + iy_0 \\\\\n",
        "# において正則であるための必要十分条件は、z_0 のある \\varepsilon \n",
        "# 近傍 \\Delta (z_0, \\varepsilon) においてコーシー・リーマン方程式 \n",
        "# \\begin {array}{ccc}\n",
        "#     \\displaystyle \\frac{\\partial u}{\\partial x} &=& \\displaystyle \\frac{\\partial v}{\\partial y} \\\\\n",
        "#     \\displaystyle \\frac{\\partial u}{\\partial y} &=& \\displaystyle - \\frac{\\partial v}{\\partial x}\n",
        "# \\end {array}\n",
        "# を満たすことである。"
      ],
      "metadata": {
        "id": "l21ix0zmy6JM"
      },
      "execution_count": null,
      "outputs": []
    },
    {
      "cell_type": "code",
      "metadata": {
        "id": "jEwDgPrKU07h",
        "colab": {
          "base_uri": "https://localhost:8080/",
          "height": 154
        },
        "outputId": "52dbeb4f-6cca-465c-d6d9-446a2b12b387"
      },
      "source": [
        "%%latex\n",
        "f(z) = f(x + i y ) = u (x, y) + iv(x, y) \\\\\n",
        "\\Delta (z_0, \\varepsilon) \\\\[1.0em]\n",
        "\\begin {array}{ccc}\n",
        "    \\displaystyle \\frac{\\partial u}{\\partial x} &=& \\displaystyle \\frac{\\partial v}{\\partial y} \\\\\n",
        "    \\displaystyle \\frac{\\partial u}{\\partial y} &=& \\displaystyle - \\frac{\\partial v}{\\partial x}\n",
        "\\end {array}"
      ],
      "execution_count": null,
      "outputs": [
        {
          "output_type": "display_data",
          "data": {
            "text/plain": [
              "<IPython.core.display.Latex object>"
            ],
            "text/latex": "f(z) = f(x + i y ) = u (x, y) + iv(x, y) \\\\\n\\Delta (z_0, \\varepsilon) \\\\[1.0em]\n\\begin {array}{ccc}\n    \\displaystyle \\frac{\\partial u}{\\partial x} &=& \\displaystyle \\frac{\\partial v}{\\partial y} \\\\\n    \\displaystyle \\frac{\\partial u}{\\partial y} &=& \\displaystyle - \\frac{\\partial v}{\\partial x}\n\\end {array}"
          },
          "metadata": {}
        }
      ]
    },
    {
      "cell_type": "code",
      "source": [
        "# 空間曲線\n",
        "# c(t) = (x (t), y(t), z(t)) \n",
        "# によって与えられる空間曲線 c の \n",
        "# c(0) を始点として c(t) までの弧長を s(t) とすると \n",
        "# s(t) = \\displaystyle \\int_0^t \\sqrt { (\\frac {dx}{dt})^2 \n",
        "#        + (\\frac {dy}{dt})^2 + (\\frac {dz}{dt})^2}\n",
        "# と表される。"
      ],
      "metadata": {
        "id": "Ezf230dDz1mK"
      },
      "execution_count": null,
      "outputs": []
    },
    {
      "cell_type": "code",
      "metadata": {
        "id": "zBzYoUr9o6CI",
        "colab": {
          "base_uri": "https://localhost:8080/",
          "height": 146
        },
        "outputId": "39bf8026-c585-40f8-8002-ff2f0e2447e9"
      },
      "source": [
        "# 空間曲線\n",
        "%%latex\n",
        "c(t) = (x (t), y(t), z(t)) \\\\[1.0em]\n",
        "s(t) = \\displaystyle \\int_0^t \\sqrt { (\\frac {dx}{dt})^2 \n",
        "       + (\\frac {dy}{dt})^2 + (\\frac {dz}{dt})^2}"
      ],
      "execution_count": null,
      "outputs": [
        {
          "output_type": "display_data",
          "data": {
            "text/latex": "c(t) = (x (t), y(t), z(t)) \\\\\nによって与えられる空間曲線 c の \\\\\nc(0) を始点として c(t) までの弧長を s(t) とすると \\\\\n\ns(t) = \\displaystyle \\int_0^t \\sqrt { (\\frac {dx}{dt})^2 \n       + (\\frac {dy}{dt})^2 + (\\frac {dz}{dt})^2}\n\\\\\nと表される。",
            "text/plain": [
              "<IPython.core.display.Latex object>"
            ]
          },
          "metadata": {
            "tags": []
          }
        }
      ]
    },
    {
      "cell_type": "code",
      "source": [
        "# 微分可能\n",
        "# 関数 f が開区間 I 上で n 回微分可能であるとする。  \n",
        "# このとき、a, b \\in I に対し、\n",
        "# f(b) = \\displaystyle f(a)+ \\frac{f'(a)}{1!} (b - a) \n",
        "#     + \\frac{f''(a)}{2!} (b - a)^2 + \\cdots \n",
        "#     + \\frac{f^{(n - 1)}(a)}{(n - 1)!} (b - a)^{(n - 1)} + R_n(c)\n",
        "# を満たす c が a と b の間に存在する。"
      ],
      "metadata": {
        "id": "MYL3utjT0SYf"
      },
      "execution_count": null,
      "outputs": []
    },
    {
      "cell_type": "code",
      "metadata": {
        "id": "hoLm8yHerEru",
        "colab": {
          "base_uri": "https://localhost:8080/",
          "height": 59
        },
        "outputId": "2a288906-f708-4618-9638-d57c85639515"
      },
      "source": [
        "# 微分可能\n",
        "%%latex\n",
        "f(b) = \\displaystyle f(a)+ \\frac{f'(a)}{1!} (b - a) \n",
        "    + \\frac{f''(a)}{2!} (b - a)^2 + \\cdots \n",
        "    + \\frac{f^{(n - 1)}(a)}{(n - 1)!} (b - a)^{(n - 1)} + R_n(c)"
      ],
      "execution_count": null,
      "outputs": [
        {
          "output_type": "display_data",
          "data": {
            "text/plain": [
              "<IPython.core.display.Latex object>"
            ],
            "text/latex": "f(b) = \\displaystyle f(a)+ \\frac{f'(a)}{1!} (b - a) \n    + \\frac{f''(a)}{2!} (b - a)^2 + \\cdots \n    + \\frac{f^{(n - 1)}(a)}{(n - 1)!} (b - a)^{(n - 1)} + R_n(c)"
          },
          "metadata": {}
        }
      ]
    },
    {
      "cell_type": "code",
      "source": [
        "# n 次正方行列\n",
        "# J (\\alpha, m) = \\begin {bmatrix}\n",
        "#                     \\alpha & 1 & 0 & \\ldots & 0 \\\\\n",
        "#                     0 & \\alpha & 1 & \\ddots & \\vdots \\\\\n",
        "#                     \\vdots & \\ddots & \\ddots & \\ddots & 0 \\\\\n",
        "#                     \\vdots &  & \\ddots & \\ddots & 1 \\\\\n",
        "#                     0 & \\ldots & \\ldots & 0 & \\alpha\n",
        "#                 \\end {bmatrix}\n",
        "# を Jordan 細胞と呼ぶ。 正方行列 A が正則行列 P によって\n",
        "# \\begin {array} {lcl}\n",
        "# P^{-1} A P &=& J(\\alpha_1, m_1) \\oplus J(\\alpha_2, m_2) \\oplus \\cdots \\oplus J(\\alpha_k, m_k)  \\\\\n",
        "# &=& \\begin {bmatrix}\n",
        "#         J(\\alpha_1, m_1) & & & \\\\\n",
        "#         & J(\\alpha_2, m_2) & & \\\\\n",
        "#         & & \\ddots & \\\\\n",
        "#         & & & j(\\alpha_k, m_k)\n",
        "#     \\end {bmatrix}\n",
        "# \\end {array} \\\\\n",
        "# と Jordan 細胞の直和になるとき、これを A の Jordan 標準形と呼ぶ。"
      ],
      "metadata": {
        "id": "sMjuMGuvTEVk"
      },
      "execution_count": null,
      "outputs": []
    },
    {
      "cell_type": "code",
      "metadata": {
        "id": "PtaIIJSRwUfX",
        "colab": {
          "base_uri": "https://localhost:8080/",
          "height": 271
        },
        "outputId": "eba77763-a351-4388-dade-20feccc7ce4a"
      },
      "source": [
        "# n 次正方行列\n",
        "%%latex\n",
        "J (\\alpha, m) = \\begin {bmatrix}\n",
        "                    \\alpha & 1 & 0 & \\ldots & 0 \\\\\n",
        "                    0 & \\alpha & 1 & \\ddots & \\vdots \\\\\n",
        "                    \\vdots & \\ddots & \\ddots & \\ddots & 0 \\\\\n",
        "                    \\vdots &  & \\ddots & \\ddots & 1 \\\\\n",
        "                    0 & \\ldots & \\ldots & 0 & \\alpha\n",
        "                \\end {bmatrix} \\\\[1.0em]\n",
        "\\begin {array} {lcl}\n",
        "P^{-1} A P &=& J(\\alpha_1, m_1) \\oplus J(\\alpha_2, m_2) \\oplus \\cdots \\oplus J(\\alpha_k, m_k)  \\\\\n",
        "&=& \\begin {bmatrix}\n",
        "        J(\\alpha_1, m_1) & & & \\\\\n",
        "        & J(\\alpha_2, m_2) & & \\\\\n",
        "        & & \\ddots & \\\\\n",
        "        & & & j(\\alpha_k, m_k)\n",
        "    \\end {bmatrix}\n",
        "\\end {array} \\\\"
      ],
      "execution_count": null,
      "outputs": [
        {
          "output_type": "display_data",
          "data": {
            "text/plain": [
              "<IPython.core.display.Latex object>"
            ],
            "text/latex": "J (\\alpha, m) = \\begin {bmatrix}\n                    \\alpha & 1 & 0 & \\ldots & 0 \\\\\n                    0 & \\alpha & 1 & \\ddots & \\vdots \\\\\n                    \\vdots & \\ddots & \\ddots & \\ddots & 0 \\\\\n                    \\vdots &  & \\ddots & \\ddots & 1 \\\\\n                    0 & \\ldots & \\ldots & 0 & \\alpha\n                \\end {bmatrix} \\\\[1.0em]\n\\begin {array} {lcl}\nP^{-1} A P &=& J(\\alpha_1, m_1) \\oplus J(\\alpha_2, m_2) \\oplus \\cdots \\oplus J(\\alpha_k, m_k)  \\\\\n&=& \\begin {bmatrix}\n        J(\\alpha_1, m_1) & & & \\\\\n        & J(\\alpha_2, m_2) & & \\\\\n        & & \\ddots & \\\\\n        & & & j(\\alpha_k, m_k)\n    \\end {bmatrix}\n\\end {array} \\\\"
          },
          "metadata": {}
        }
      ]
    },
    {
      "cell_type": "code",
      "source": [
        "# 二項関係\n",
        "# 定義 集合 X 上の二項関係 \\rho について、次の性質を考える。\n",
        "# 1. すべての x \\in X について、x \\rho x が成り立つ。(反射律 reflexive law)\n",
        "# 2. x, y \\in X について、x \\rho y ならば y \\rho x が成り立つ。(対称律 transitive law)\n",
        "# 3. x, y, z \\in X について、x \\rho y かつ y \\rho z ならば x \\rho z が成り立つ。(推移律 symmetric law)\n",
        "# 4. x, y \\in X について、x \\rho y かつ y \\rho x ならば x = y が成り立つ。(反対称律 antisymmetric law)\n",
        "# 性質 \\it{1, 2, 3} を満たす二項関係を同値関係と呼び、性質 \\it{1, 3, 4} を満たす二項関係を順序関係と呼ぶ。"
      ],
      "metadata": {
        "id": "wdOsVm25xi6O"
      },
      "execution_count": null,
      "outputs": []
    },
    {
      "cell_type": "code",
      "metadata": {
        "colab": {
          "base_uri": "https://localhost:8080/",
          "height": 104
        },
        "id": "vPJ7sqxYSIxz",
        "outputId": "3b292d79-b15d-4417-9584-2bd89f715f48"
      },
      "source": [
        "%%latex\n",
        "\\rho \\\\\n",
        "x \\in X \\\\\n",
        "x \\rho x \\\\\n",
        " \\it{1, 2, 3} \\\\"
      ],
      "execution_count": null,
      "outputs": [
        {
          "output_type": "display_data",
          "data": {
            "text/plain": [
              "<IPython.core.display.Latex object>"
            ],
            "text/latex": "\\rho \\\\\nx \\in X \\\\\nx \\rho x \\\\\n \\it{1, 2, 3} \\\\"
          },
          "metadata": {}
        }
      ]
    },
    {
      "cell_type": "code",
      "metadata": {
        "id": "FPRji7FKkpWg",
        "colab": {
          "base_uri": "https://localhost:8080/",
          "height": 38
        },
        "outputId": "ab706d6d-8b04-4c67-a653-e47d36ccc43a"
      },
      "source": [
        "# 集合の内包表記 set comprehension, list comprehension\n",
        "# 参考 集合で習う集合の内包表記は数式で次の様に書く\n",
        "%%latex\n",
        "S= \\{2x \\mid x \\in  \\mathbb{N}, \\ x \\leq 10 \\}"
      ],
      "execution_count": null,
      "outputs": [
        {
          "output_type": "display_data",
          "data": {
            "text/latex": "\nS= \\{2x \\mid x \\in  \\mathbb{N}, \\ x \\leq 10 \\}",
            "text/plain": [
              "<IPython.core.display.Latex object>"
            ]
          },
          "metadata": {
            "tags": []
          }
        }
      ]
    },
    {
      "cell_type": "code",
      "source": [
        "# 2 次方程式\n",
        "# ax^{2}+bx+c=0  \n",
        "# の解は\n",
        "# x = \\frac{-b\\pm\\sqrt{b^{2}-4ac}}{2a} \\tag{1}\n",
        "# である"
      ],
      "metadata": {
        "id": "OjewVaDU7a0u"
      },
      "execution_count": null,
      "outputs": []
    },
    {
      "cell_type": "code",
      "source": [
        "# 2 次方程式の解\n",
        "%%latex\n",
        "\\displaystyle\n",
        "ax^{2}+bx+c=0 \\\\\n",
        "x = \\frac{-b\\pm\\sqrt{b^{2}-4ac}}{2a}"
      ],
      "metadata": {
        "colab": {
          "base_uri": "https://localhost:8080/",
          "height": 77
        },
        "id": "oN2FcRIYY7iI",
        "outputId": "6673a67b-a783-44b5-839a-0ca0c351f1a5"
      },
      "execution_count": null,
      "outputs": [
        {
          "output_type": "display_data",
          "data": {
            "text/plain": [
              "<IPython.core.display.Latex object>"
            ],
            "text/latex": "\\displaystyle\nax^{2}+bx+c=0 \\\\\nx = \\frac{-b\\pm\\sqrt{b^{2}-4ac}}{2a}"
          },
          "metadata": {}
        }
      ]
    },
    {
      "cell_type": "code",
      "source": [
        "# 総和記号 シグマ Sigma sum\n",
        "%%latex\n",
        "\\displaystyle\n",
        "\\sum_{k=1}^{n} a_{k} = a_{1} + a_{2} + \\dots + a_{n}"
      ],
      "metadata": {
        "id": "x9LkU-cj76aw",
        "outputId": "bd0333b8-e508-467d-9c13-71b3486a23b3",
        "colab": {
          "base_uri": "https://localhost:8080/",
          "height": 67
        }
      },
      "execution_count": null,
      "outputs": [
        {
          "output_type": "display_data",
          "data": {
            "text/plain": [
              "<IPython.core.display.Latex object>"
            ],
            "text/latex": "\\displaystyle\n\\sum_{k=1}^{n} a_{k} = a_{1} + a_{2} + \\dots + a_{n}"
          },
          "metadata": {}
        }
      ]
    },
    {
      "cell_type": "code",
      "source": [
        "# ガウス積分\n",
        "%%latex\n",
        "\\displaystyle\n",
        "\\int_{-\\infty}^{\\infty} e^{-x^{2}} \\, dx = \\sqrt{\\pi}"
      ],
      "metadata": {
        "id": "RM1GASC4gUmQ",
        "outputId": "8cf9a0d3-606d-4ced-e29e-3ca3c7c40e56",
        "colab": {
          "base_uri": "https://localhost:8080/",
          "height": 57
        }
      },
      "execution_count": null,
      "outputs": [
        {
          "output_type": "display_data",
          "data": {
            "text/plain": [
              "<IPython.core.display.Latex object>"
            ],
            "text/latex": "\\displaystyle\n\\int_{-\\infty}^{\\infty} e^{-x^{2}} \\, dx = \\sqrt{\\pi}"
          },
          "metadata": {}
        }
      ]
    },
    {
      "cell_type": "code",
      "source": [
        "# 関数 $f(x)$ の導関数は\n",
        "# f’(x) = \\lim_{\\varDelta x \\to 0} \\frac{ f(x+\\varDelta x) - f(x) }{\\varDelta x}\n",
        "# である"
      ],
      "metadata": {
        "id": "Naejv7f18izy"
      },
      "execution_count": null,
      "outputs": []
    },
    {
      "cell_type": "code",
      "source": [
        "# 関数 $f(x)$ の導関数は\n",
        "%%latex\n",
        "\\displaystyle\n",
        "f’(x) = \\lim_{\\varDelta x \\to 0} \\frac{ f(x+\\varDelta x) - f(x) }{\\varDelta x}"
      ],
      "metadata": {
        "id": "HXzjX_gyg2fJ",
        "outputId": "90099d0a-8cec-47cf-83b5-c59a5df541ae",
        "colab": {
          "base_uri": "https://localhost:8080/",
          "height": 54
        }
      },
      "execution_count": null,
      "outputs": [
        {
          "output_type": "display_data",
          "data": {
            "text/plain": [
              "<IPython.core.display.Latex object>"
            ],
            "text/latex": "\\displaystyle\nf’(x) = \\lim_{\\varDelta x \\to 0} \\frac{ f(x+\\varDelta x) - f(x) }{\\varDelta x}"
          },
          "metadata": {}
        }
      ]
    },
    {
      "cell_type": "code",
      "source": [
        "# 三角関数の積分\n",
        "%%latex\n",
        "\\displaystyle\n",
        "\\int \\tan\\theta \\, d\\theta = \\int \\frac{\\sin\\theta}{\\cos\\theta} \\, d\\theta= -\\log |\\cos\\theta| + C"
      ],
      "metadata": {
        "id": "zxOq4jQm80yi",
        "outputId": "35777625-1b3e-4dde-db62-f53df60417ba",
        "colab": {
          "base_uri": "https://localhost:8080/",
          "height": 55
        }
      },
      "execution_count": null,
      "outputs": [
        {
          "output_type": "display_data",
          "data": {
            "text/plain": [
              "<IPython.core.display.Latex object>"
            ],
            "text/latex": "\\displaystyle\n\\int \\tan\\theta \\, d\\theta = \\int \\frac{\\sin\\theta}{\\cos\\theta} \\, d\\theta= -\\log |\\cos\\theta| + C"
          },
          "metadata": {}
        }
      ]
    },
    {
      "cell_type": "code",
      "source": [
        "# 式の変形 align が使えないので array でやる\n",
        "%%latex\n",
        "\\begin{array}{rcl}\n",
        "    \\cos 2 \\theta &=& \\cos^{2} \\theta - \\sin^{2} \\theta \\\\\n",
        "        &=& 2 \\cos^{2} \\theta - 1 \\\\\n",
        "        &=& 1 - 2\\sin^{2} \\theta \\\\\n",
        "\\end{array}"
      ],
      "metadata": {
        "id": "CZnsrL8d9JfQ",
        "outputId": "7a3c67e2-3774-427b-cab7-b7e3ab5bcab8",
        "colab": {
          "base_uri": "https://localhost:8080/",
          "height": 79
        }
      },
      "execution_count": null,
      "outputs": [
        {
          "output_type": "display_data",
          "data": {
            "text/plain": [
              "<IPython.core.display.Latex object>"
            ],
            "text/latex": "\\begin{array}{rcl}\n    \\cos 2 \\theta &=& \\cos^{2} \\theta - \\sin^{2} \\theta \\\\\n        &=& 2 \\cos^{2} \\theta - 1 \\\\\n        &=& 1 - 2\\sin^{2} \\theta \\\\\n\\end{array}"
          },
          "metadata": {}
        }
      ]
    },
    {
      "cell_type": "code",
      "source": [
        "# 片括弧、大括弧、大波括弧\n",
        "# cases が使えない\n",
        "# 絶対値 abs || の定義\n",
        "%%latex\n",
        "|x| = \\left\\{\n",
        "\\begin{array}{ll}\n",
        "x  & x \\geqq 0のとき \\\\\n",
        "-x & x \\lt 0のとき\n",
        "\\end{array} \n",
        "\\right."
      ],
      "metadata": {
        "id": "rQtOs73i9bor",
        "outputId": "1d2b2633-7b21-41f9-f842-4c137830bf18",
        "colab": {
          "base_uri": "https://localhost:8080/",
          "height": 58
        }
      },
      "execution_count": null,
      "outputs": [
        {
          "output_type": "display_data",
          "data": {
            "text/plain": [
              "<IPython.core.display.Latex object>"
            ],
            "text/latex": "|x| = \\left\\{\n\\begin{array}{ll}\nx  & x \\geqq 0のとき \\\\\n-x & x \\lt 0のとき\n\\end{array} \n\\right."
          },
          "metadata": {}
        }
      ]
    },
    {
      "cell_type": "code",
      "source": [
        "# 行列 n \\times n 行列が逆行列 A^{-1} をもつための必要十分条件は、 \\det A \\neq 0  である。\n",
        "%%latex\n",
        "A =\\begin{pmatrix}\n",
        "a_{11} & a_{12} & \\ldots & a_{1n} \\\\\n",
        "a_{21} & a_{22} & \\ldots & a_{2n} \\\\\n",
        "\\vdots & \\vdots & \\ddots & \\vdots \\\\\n",
        "a_{n1} & a_{n2} & \\ldots & a_{nn}\n",
        "\\end{pmatrix} \n",
        "\\\\[1.0em]\n",
        "n \\times n \\\\\n",
        "A^{-1} \\\\\n",
        "\\det A \\neq 0"
      ],
      "metadata": {
        "id": "wxpJ6Uc5-F_0",
        "outputId": "f3e90ac3-4a5f-4228-8090-2f48d265bd4d",
        "colab": {
          "base_uri": "https://localhost:8080/",
          "height": 192
        }
      },
      "execution_count": null,
      "outputs": [
        {
          "output_type": "display_data",
          "data": {
            "text/plain": [
              "<IPython.core.display.Latex object>"
            ],
            "text/latex": "A =\\begin{pmatrix}\na_{11} & a_{12} & \\ldots & a_{1n} \\\\\na_{21} & a_{22} & \\ldots & a_{2n} \\\\\n\\vdots & \\vdots & \\ddots & \\vdots \\\\\na_{n1} & a_{n2} & \\ldots & a_{nn}\n\\end{pmatrix} \n\\\\[1.0em]\nn \\times n \\\\\nA^{-1} \\\\\n\\det A \\neq 0"
          },
          "metadata": {}
        }
      ]
    },
    {
      "cell_type": "code",
      "source": [
        "# 行列を囲む括弧のいろいろ\n",
        "# 丸括弧、角括弧、波括弧、縦棒、 二重の縦棒括弧なし\n",
        "%%latex\n",
        "\\displaystyle\n",
        "\\begin{pmatrix}\n",
        "a & b \\\\\n",
        "c & d\n",
        "\\end{pmatrix},\\;\n",
        "\\begin{bmatrix}\n",
        "a & b \\\\\n",
        "c & d\n",
        "\\end{bmatrix},\\;\n",
        "\\begin{Bmatrix}\n",
        "a & b \\\\\n",
        "c & d\n",
        "\\end{Bmatrix},\\;\n",
        "\\begin{vmatrix}\n",
        "a & b \\\\\n",
        "c & d\n",
        "\\end{vmatrix},\\;\n",
        "\\begin{Vmatrix}\n",
        "a & b \\\\\n",
        "c & d\n",
        "\\end{Vmatrix},\\;\n",
        "\\begin{matrix}\n",
        "a & b \\\\\n",
        "c & d\n",
        "\\end{matrix}"
      ],
      "metadata": {
        "id": "S93wTZ1M-xs5",
        "outputId": "b36ee42f-cbe6-4681-deec-05a5e92b6d47",
        "colab": {
          "base_uri": "https://localhost:8080/",
          "height": 58
        }
      },
      "execution_count": null,
      "outputs": [
        {
          "output_type": "display_data",
          "data": {
            "text/plain": [
              "<IPython.core.display.Latex object>"
            ],
            "text/latex": "\\displaystyle\n\\begin{pmatrix}\na & b \\\\\nc & d\n\\end{pmatrix},\\;\n\\begin{bmatrix}\na & b \\\\\nc & d\n\\end{bmatrix},\\;\n\\begin{Bmatrix}\na & b \\\\\nc & d\n\\end{Bmatrix},\\;\n\\begin{vmatrix}\na & b \\\\\nc & d\n\\end{vmatrix},\\;\n\\begin{Vmatrix}\na & b \\\\\nc & d\n\\end{Vmatrix},\\;\n\\begin{matrix}\na & b \\\\\nc & d\n\\end{matrix}"
          },
          "metadata": {}
        }
      ]
    },
    {
      "cell_type": "code",
      "source": [
        "# マクロの定義\n",
        "%%latex\n",
        "\\def\\bol#1{{\\bf #1}}\n",
        "\\bol {crazy\\;rich\\;tycoon}\\\\\n",
        "\\def \\x {\\times}\n",
        "3 \\x 3 = 9\\\\\n",
        "\\def\\dd#1#2{\\frac{\\partial #1}{\\partial #2}}\n",
        "\\displaystyle\n",
        "\\dd{x}{y}"
      ],
      "metadata": {
        "id": "8v77Lobj24tk",
        "outputId": "6ac1fe11-f7c1-4136-9a82-d40cb14a8d34",
        "colab": {
          "base_uri": "https://localhost:8080/",
          "height": 96
        }
      },
      "execution_count": null,
      "outputs": [
        {
          "output_type": "display_data",
          "data": {
            "text/plain": [
              "<IPython.core.display.Latex object>"
            ],
            "text/latex": "\\def\\bol#1{{\\bf #1}}\n\\bol {crazy\\;rich\\;tycoon}\\\\\n\\def \\x {\\times}\n3 \\x 3 = 9\\\\\n\\def\\dd#1#2{\\frac{\\partial #1}{\\partial #2}}\n\\displaystyle\n\\dd{x}{y}"
          },
          "metadata": {}
        }
      ]
    },
    {
      "cell_type": "code",
      "metadata": {
        "colab": {
          "base_uri": "https://localhost:8080/",
          "height": 101
        },
        "id": "O08Otvp-4xTe",
        "outputId": "a39f4f92-0bd5-4f33-e955-b57f02ebf1c0"
      },
      "source": [
        "%%latex\n",
        "\\def\\RR{{\\mathbb R}}\n",
        "\\def\\bol#1{{\\bf #1}}\n",
        "\\RR \\\\\n",
        "\\bol {crazy\\;rich\\;tycoon}\\\\\n",
        "\\def \\x {\\times}\n",
        "3 \\x 3 = 9\\\\\n",
        "\\def\\dd#1#2{\\frac{\\partial #1}{\\partial #2}}\n",
        "\\dd{x}{y}"
      ],
      "execution_count": null,
      "outputs": [
        {
          "output_type": "display_data",
          "data": {
            "text/latex": "\\def\\RR{{\\mathbb R}}\n\\def\\bol#1{{\\bf #1}}\n\\RR \\\\\n\\bol {crazy\\;rich\\;tycoon}\\\\\n\\def \\x {\\times}\n3 \\x 3 = 9\\\\\n\\def\\dd#1#2{\\frac{\\partial #1}{\\partial #2}}\n\\dd{x}{y}",
            "text/plain": [
              "<IPython.core.display.Latex object>"
            ]
          },
          "metadata": {
            "tags": []
          }
        }
      ]
    },
    {
      "cell_type": "code",
      "source": [
        "# ベクトルポテンシャル\n",
        "# ベクトル場 \\boldsymbol B (x,y,z) が\n",
        "# \\boldsymbol B = \\nabla \\x \\times A \n",
        "# という形に書ける時、その発散\n",
        "# \\def\\dd#1#2{\\frac{\\partial #1}{\\partial #2}}\n",
        "# \\nabla \\cdot\\boldsymbol{B} = \\dd{B_{x}}{x} + \\dd{B_{y}}{y} + \\dd{B_{z}}{z}\n",
        "# は 0 になる。 \\boldsymbol{A,B} をベクトルポテンシャルと言う"
      ],
      "metadata": {
        "id": "i1JHh7jU9DWs"
      },
      "execution_count": null,
      "outputs": []
    },
    {
      "cell_type": "code",
      "source": [
        "# ベクトルポテンシャル\n",
        "%%latex\n",
        "\\boldsymbol B (x,y,z) \\\\\n",
        "\\boldsymbol B = \\nabla \\times A \\\\[1.0em]\n",
        "\\def\\dd#1#2{\\frac{\\partial #1}{\\partial #2}}\n",
        "\\displaystyle\n",
        "\\nabla \\cdot \\boldsymbol{B} = \\dd{B_{x}}{x} + \\dd{B_{y}}{y} + \\dd{B_{z}}{z} \\\\"
      ],
      "metadata": {
        "id": "99klnJ3gOjhT",
        "outputId": "fea8eebb-2d27-4f04-a994-d1f2a0b0ed96",
        "colab": {
          "base_uri": "https://localhost:8080/",
          "height": 137
        }
      },
      "execution_count": null,
      "outputs": [
        {
          "output_type": "display_data",
          "data": {
            "text/plain": [
              "<IPython.core.display.Latex object>"
            ],
            "text/latex": "\\boldsymbol B (x,y,z) \\\\\n\\boldsymbol B = \\nabla \\times A \\\\[1.0em]\n\\def\\dd#1#2{\\frac{\\partial #1}{\\partial #2}}\n\\displaystyle\n\\nabla \\cdot \\boldsymbol{B} = \\dd{B_{x}}{x} + \\dd{B_{y}}{y} + \\dd{B_{z}}{z} \\\\\n\\boldsymbol{A,B} "
          },
          "metadata": {}
        }
      ]
    },
    {
      "cell_type": "code",
      "source": [
        "# オイラーの公式\n",
        "%%latex\n",
        "e^{i\\theta}=\\cos \\theta + i \\sin \\theta"
      ],
      "metadata": {
        "id": "_qZAgjXWBsIQ",
        "outputId": "cc3ae549-12bb-464e-857f-7eda31be086a",
        "colab": {
          "base_uri": "https://localhost:8080/",
          "height": 39
        }
      },
      "execution_count": null,
      "outputs": [
        {
          "output_type": "display_data",
          "data": {
            "text/plain": [
              "<IPython.core.display.Latex object>"
            ],
            "text/latex": "e^{i\\theta}=\\cos \\theta + i \\sin \\theta"
          },
          "metadata": {}
        }
      ]
    },
    {
      "cell_type": "code",
      "source": [
        "# テイラー展開\n",
        "%%latex\n",
        "\\displaystyle\n",
        "f(x) = \\sum^\\infty_{n=0}\\frac{f^{(n)}(a)}{n !} (x-a)^n"
      ],
      "metadata": {
        "id": "LGnsooTrD4ce",
        "outputId": "69b78287-b112-40c9-c912-983d51b71d9b",
        "colab": {
          "base_uri": "https://localhost:8080/",
          "height": 66
        }
      },
      "execution_count": 16,
      "outputs": [
        {
          "output_type": "display_data",
          "data": {
            "text/plain": [
              "<IPython.core.display.Latex object>"
            ],
            "text/latex": "\\displaystyle\nf(x) = \\sum^\\infty_{n=0}\\frac{f^{(n)}(a)}{n !} (x-a)^n"
          },
          "metadata": {}
        }
      ]
    },
    {
      "cell_type": "code",
      "source": [
        "# 正規分布\n",
        "%%latex\n",
        "\\displaystyle\n",
        "f(x)=\\frac 1 {\\sqrt{2\\pi \\sigma^2}}\\exp\\left (-\\frac{(x-\\mu)^2}{2\\sigma^2}\\right)"
      ],
      "metadata": {
        "id": "A213i1e-ETtW",
        "outputId": "7cb14b29-ec00-4b77-9880-798cb582ce9d",
        "colab": {
          "base_uri": "https://localhost:8080/",
          "height": 58
        }
      },
      "execution_count": 17,
      "outputs": [
        {
          "output_type": "display_data",
          "data": {
            "text/plain": [
              "<IPython.core.display.Latex object>"
            ],
            "text/latex": "\\displaystyle\nf(x)=\\frac 1 {\\sqrt{2\\pi \\sigma^2}}\\exp\\left (-\\frac{(x-\\mu)^2}{2\\sigma^2}\\right)"
          },
          "metadata": {}
        }
      ]
    },
    {
      "cell_type": "code",
      "source": [
        "# ニュートンの運動方程式\n",
        "%%latex\n",
        "\\displaystyle\n",
        "m \\frac{d^2 \\overrightarrow r}{d t^2}=\\overrightarrow F"
      ],
      "metadata": {
        "id": "P8X97epME1KG",
        "outputId": "623b4d27-9f27-43b8-bf0c-ca02dfc0e7bd",
        "colab": {
          "base_uri": "https://localhost:8080/",
          "height": 56
        }
      },
      "execution_count": 18,
      "outputs": [
        {
          "output_type": "display_data",
          "data": {
            "text/plain": [
              "<IPython.core.display.Latex object>"
            ],
            "text/latex": "\\displaystyle\nm \\frac{d^2 \\overrightarrow r}{d t^2}=\\overrightarrow F"
          },
          "metadata": {}
        }
      ]
    },
    {
      "cell_type": "code",
      "source": [
        "# ラグランジュの運動方程式\n",
        "%%latex\n",
        "\\displaystyle\n",
        "\\frac d {dt}\\left(\\frac{\\partial \\mathcal L}{\\partial \\dot q} \\right) - \\frac{\\partial \\mathcal L}{\\partial q} = 0"
      ],
      "metadata": {
        "id": "nRGuh4uhFk26",
        "outputId": "eb84d7f7-6c34-4a8d-89c8-358950600370",
        "colab": {
          "base_uri": "https://localhost:8080/",
          "height": 58
        }
      },
      "execution_count": 19,
      "outputs": [
        {
          "output_type": "display_data",
          "data": {
            "text/plain": [
              "<IPython.core.display.Latex object>"
            ],
            "text/latex": "\\displaystyle\n\\frac d {dt}\\left(\\frac{\\partial \\mathcal L}{\\partial \\dot q} \\right) - \\frac{\\partial \\mathcal L}{\\partial q} = 0"
          },
          "metadata": {}
        }
      ]
    },
    {
      "cell_type": "code",
      "source": [
        "# フーリエ変換\n",
        "%%latex\n",
        "\\displaystyle\n",
        "\\hat f (\\xi) = \\int_{\\mathbb R ^n} f(x) e ^{-2 \\pi i x \\cdot \\xi} dx"
      ],
      "metadata": {
        "id": "ZqHc-lbcG6TN",
        "outputId": "e0d9dbed-1b80-415c-869c-1a20e9a5f46d",
        "colab": {
          "base_uri": "https://localhost:8080/",
          "height": 55
        }
      },
      "execution_count": 20,
      "outputs": [
        {
          "output_type": "display_data",
          "data": {
            "text/plain": [
              "<IPython.core.display.Latex object>"
            ],
            "text/latex": "\\displaystyle\n\\hat f (\\xi) = \\int_{\\mathbb R ^n} f(x) e ^{-2 \\pi i x \\cdot \\xi} dx"
          },
          "metadata": {}
        }
      ]
    },
    {
      "cell_type": "markdown",
      "source": [
        "# いまここ"
      ],
      "metadata": {
        "id": "oIRgtf-1rN28"
      }
    },
    {
      "cell_type": "markdown",
      "metadata": {
        "id": "eWP7JAJTN3NS"
      },
      "source": [
        "---\n",
        "コーシーの積分方程式\n",
        "\n",
        "$$\n",
        "f(\\alpha)=\\frac 1 {2\\pi i} \\oint_C \\frac{f(z)}{z - \\alpha} d z\n",
        "$$\n"
      ]
    },
    {
      "cell_type": "markdown",
      "metadata": {
        "id": "JmCqkH7bPyoP"
      },
      "source": [
        "---\n",
        "ガウスの定理\n",
        "\n",
        "$$\n",
        "\\iiint_V \\nabla \\cdot\\boldsymbol A \\; dV = \\iint_{\\partial V}\\boldsymbol A \\cdot\\boldsymbol n \\; dS\n",
        "$$"
      ]
    },
    {
      "cell_type": "markdown",
      "metadata": {
        "id": "ZcC6f0L8QCdI"
      },
      "source": [
        "---\n",
        "シュレーディンガー方程式\n",
        "\n",
        "$$\n",
        "i \\hbar \\frac \\partial {\\partial t} \\psi (r,t) = \\left (-\\frac{\\hbar}{2m}\\nabla^2+V(r,t) \\right)\\psi(r,t)\n",
        "$$\n",
        "\n"
      ]
    },
    {
      "cell_type": "markdown",
      "metadata": {
        "id": "jwDYJZcxSuNg"
      },
      "source": [
        "---\n",
        "熱化学方程式\n",
        "\n",
        "$$\n",
        "\\mathrm{H_2(g) + {1 \\over 2} O_2(g) \\rightarrow H_2O(l)} \\quad \\varDelta H^\\circ = -286\\mathrm{kJ}\n",
        "$$\n"
      ]
    },
    {
      "cell_type": "markdown",
      "metadata": {
        "id": "zpfjUgFEUg3W"
      },
      "source": [
        "集合記号・内包表記 list comprehension\n",
        "\n",
        "$$\n",
        "A \\cap B = \\{x \\;|\\; x \\in A \\land x \\in B\\}\n",
        "$$\n",
        "\n"
      ]
    },
    {
      "cell_type": "markdown",
      "metadata": {
        "id": "vsFTu0dCXMIw"
      },
      "source": [
        "---\n",
        "メモ \n",
        "* \\\\{ , \\\\}： $\\{$, $\\}$ 波括弧だけでは表示されない\n",
        "* \\cap, \\cup, \\wedge, \\land, \\lor, \\vee：$\\cap, \\cup, \\wedge, \\land, \\lor, \\vee$\n",
        "* \\in, \\ni, \\notin, \\subset, \\supset：$\\in, \\ni, \\notin, \\subset, \\supset$\n",
        "* \\emptyset, \\forall, \\exists, \\neg：$\\emptyset, \\forall, \\exists, \\neg$"
      ]
    },
    {
      "cell_type": "markdown",
      "metadata": {
        "id": "ziufWRbrXPXM"
      },
      "source": [
        "---\n",
        "二項係数\n",
        "\n",
        "$$\n",
        "{}_n C_r = \\binom n r = \\frac{n!}{r! (n-r)!}\n",
        "$$"
      ]
    },
    {
      "cell_type": "markdown",
      "metadata": {
        "id": "0976DB5hXkPU"
      },
      "source": [
        "---\n",
        "マクスウェル方程式\n",
        "\n",
        "$$\n",
        "\\begin{array}{ll}\n",
        "\\displaystyle\n",
        "\\nabla \\cdot E = \\frac \\rho {\\varepsilon_0},\n",
        "&\\qquad\n",
        "\\displaystyle\n",
        "\\nabla \\cdot E = - \\frac {\\partial B}{\\partial t}\\\\\n",
        "\\nabla \\cdot B = 0,\n",
        "&\\qquad\n",
        "\\nabla \\cdot B = \\mu_0 i + \\displaystyle \\frac 1 {c^2} \\frac {\\partial E}{\\partial t}\n",
        "\\end{array}\n",
        "$$"
      ]
    }
  ]
}