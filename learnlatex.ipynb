{
  "nbformat": 4,
  "nbformat_minor": 0,
  "metadata": {
    "kernelspec": {
      "display_name": "Python 3",
      "language": "python",
      "name": "python3"
    },
    "language_info": {
      "codemirror_mode": {
        "name": "ipython",
        "version": 3
      },
      "file_extension": ".py",
      "mimetype": "text/x-python",
      "name": "python",
      "nbconvert_exporter": "python",
      "pygments_lexer": "ipython3",
      "version": "3.6.6"
    },
    "toc": {
      "base_numbering": 1,
      "nav_menu": {},
      "number_sections": true,
      "sideBar": true,
      "skip_h1_title": false,
      "title_cell": "Table of Contents",
      "title_sidebar": "Contents",
      "toc_cell": false,
      "toc_position": {
        "height": "calc(100% - 180px)",
        "left": "10px",
        "top": "150px",
        "width": "336.903px"
      },
      "toc_section_display": true,
      "toc_window_display": true
    },
    "colab": {
      "name": "learnlatex.ipynb",
      "provenance": [],
      "include_colab_link": true
    }
  },
  "cells": [
    {
      "cell_type": "markdown",
      "metadata": {
        "id": "view-in-github",
        "colab_type": "text"
      },
      "source": [
        "<a href=\"https://colab.research.google.com/github/kalz2q/mycolabnotebooks/blob/master/learnlatex.ipynb\" target=\"_parent\"><img src=\"https://colab.research.google.com/assets/colab-badge.svg\" alt=\"Open In Colab\"/></a>"
      ]
    },
    {
      "cell_type": "markdown",
      "metadata": {
        "id": "M_IYHSO3fN5l"
      },
      "source": [
        "# メモ\n",
        "colab で latex を勉強するためのノートブックです。\n",
        "\n",
        "colab で開いてください。\n",
        "\n",
        "https://colab.research.google.com/github/kalz2q/mycolabnotebooks/blob/master/learnlatex.ipynb\n",
        "\n",
        "colab でテキストセル内で &dollar; マークを使うと数式を latex で処理して美しく表示できる。\n",
        "$$ \\int f(x)dx $$\n",
        "\n",
        "これを latex でどう書いているかは、セルをダブルクリックするかセルを選択して Ctrl+Enter を押して、編集モードにすることで見ることができる。\n"
      ]
    },
    {
      "cell_type": "markdown",
      "metadata": {
        "id": "5FDxKNL9mZED"
      },
      "source": [
        "もっと明示的にコードセルで `%%latex` マジックを使って書くことができる。\n",
        "\n",
        "この場合はコードセルをセルの左側の丸に右向き三角の実行ボタンを押すか、Ctrl+Enter で実行して出力としてレンダリングされた表示を見ることになる。\n",
        "\n",
        "colab の latex は完全な latex ではない。 mathjax ベースのサブセットである。 数式を書くのに便利。\n",
        "\n",
        "このノートブックではテキストセルで表示して同じことを、コードセルで実行できるようにすることで、いちいち編集モードに入らずに読み進められるようにしたい。\n"
      ]
    },
    {
      "cell_type": "code",
      "metadata": {
        "colab": {
          "base_uri": "https://localhost:8080/",
          "height": 38
        },
        "id": "StwWQ1xuncNF",
        "outputId": "71647680-3ee0-44d6-9237-833e54a837e4"
      },
      "source": [
        "%%latex\n",
        "\\int f(x)dx"
      ],
      "execution_count": 1,
      "outputs": [
        {
          "output_type": "display_data",
          "data": {
            "text/latex": "\\int f(x)dx",
            "text/plain": [
              "<IPython.core.display.Latex object>"
            ]
          },
          "metadata": {
            "tags": []
          }
        }
      ]
    },
    {
      "cell_type": "markdown",
      "metadata": {
        "id": "X4JZJvQLY_rw"
      },
      "source": [
        "# 参考サイト\n",
        " \n",
        "TeX入門 ( http://www.comp.tmu.ac.jp/tsakai/lectures/intro_tex.html )  \n",
        "TeX入門Wiki ( https://texwiki.texjp.org/)  \n",
        "Learn LaTeX in 30 minutes ( https://www.overleaf.com/learn/latex/ \n",
        "Learn_LaTeX_in_30_minutes )  \n",
        "MathJax ( https://docs.mathjax.org/en/v2.5-latest/tex.html )  \n",
        "MathJaxの使い方(\n",
        "http://www.eng.niigata-u.ac.jp/~nomoto/download/mathjax.pdf)"
      ]
    },
    {
      "cell_type": "markdown",
      "metadata": {
        "id": "i_Cod0PRbZRu"
      },
      "source": [
        "# 数式記号一覧\n",
        "\n",
        "The Comprehensive LaTeX Symbol List - The CTAN archive ( http://tug.ctan.org/info/symbols/comprehensive/symbols-a4.pdf )\n",
        "\n",
        "Short Math Guide for LaTeX ( https://ftp.yz.yamagata-u.ac.jp/pub/CTAN/info/short-math-guide/short-math-guide.pdf )\n",
        "\n",
        "ギリシャ文字, ドイツ文字, 花文字, 筆記体の TeX 表記をまとめておいた ( https://phasetr.com/blog/2013/04/14/ギリシャ文字-ドイツ文字-筆記体の-tex-表記を/ )"
      ]
    },
    {
      "cell_type": "markdown",
      "metadata": {
        "id": "dlP5VSVvbsxB"
      },
      "source": [
        "# はじめに ～ 実験学習\n"
      ]
    },
    {
      "cell_type": "markdown",
      "metadata": {
        "id": "4iJm4gvVNuCc"
      },
      "source": [
        "マークダウンでテキストの中に latex を入れることができる。  \n",
        "インラインで入れることもできるし $x = 3$ とか。\n",
        "\n",
        "$$\n",
        "x = 3\n",
        "$$\n",
        "\n",
        "とか。\n"
      ]
    },
    {
      "cell_type": "markdown",
      "metadata": {
        "id": "ENrYHoYLWZmG"
      },
      "source": [
        "テキストセルでは数式を &dollar; マークで囲むとインライン、&dollar;&dollar; で囲むと段落を変えて表示する。\n",
        "\n",
        "表示された数式の latex での表記はセルを編集モードにすると見ることができる。\n",
        "\n",
        "編集モードにするにはセルを選択してダブルクリックするか Enter キーを押す。\n",
        "\n"
      ]
    },
    {
      "cell_type": "code",
      "metadata": {
        "colab": {
          "base_uri": "https://localhost:8080/",
          "height": 38
        },
        "id": "wOsNxaXaXPUy",
        "outputId": "0e436456-ba77-4d33-9775-e1c8e8973882"
      },
      "source": [
        "# コードセルで %%latex で表示する\n",
        "# 編集モードにしなくても latex 表記ができるので latex の学習には便利\n",
        "# コードセルを実行しないと数式表記にならない。\n",
        "# コードセルの実行はセルの左の実行ボタン(右向き三角)を押すか、Ctrl+Enter を押す。\n",
        "# x = 3 の数字を変えて実行してみよう\n",
        "%%latex\n",
        "x = 7"
      ],
      "execution_count": 2,
      "outputs": [
        {
          "output_type": "display_data",
          "data": {
            "text/latex": "x = 7",
            "text/plain": [
              "<IPython.core.display.Latex object>"
            ]
          },
          "metadata": {
            "tags": []
          }
        }
      ]
    },
    {
      "cell_type": "code",
      "metadata": {
        "colab": {
          "base_uri": "https://localhost:8080/",
          "height": 72
        },
        "id": "ztMpC1OwjeeE",
        "outputId": "4ae94a0d-08ef-4b6d-d13f-e593e5008281"
      },
      "source": [
        "# 実験 python プログラムで表示することもできる。このノートブックでは学習対象としない。\n",
        "from sympy import *\n",
        "from IPython.display import Markdown\n",
        "display(Markdown(\"実験学習 $x = 3$ と書く\"))\n",
        "x = symbols('x')\n",
        "display(Eq(x,3))"
      ],
      "execution_count": 3,
      "outputs": [
        {
          "output_type": "display_data",
          "data": {
            "text/markdown": "実験学習 $x = 3$ と書く",
            "text/plain": [
              "<IPython.core.display.Markdown object>"
            ]
          },
          "metadata": {
            "tags": []
          }
        },
        {
          "output_type": "display_data",
          "data": {
            "text/latex": "$\\displaystyle x = 3$",
            "text/plain": [
              "Eq(x, 3)"
            ]
          },
          "metadata": {
            "tags": []
          }
        }
      ]
    },
    {
      "cell_type": "markdown",
      "metadata": {
        "id": "RLjJ7URGdV1Z"
      },
      "source": [
        "# マークダウンと %%latex の違い (参考)\n",
        "1. コードセルに %%latex と書くとその行以降 mathjax のルールが適用される。\n",
        "1. %%latex以降にバックスラッシュ \\ でエスケープされていない \\$ マークがあると latex で解釈せずに入力のまま出力する。 \n",
        "1. % 記号はコメント記号なので文法上は許されるが、% 記号以降が出力されないのでバックスラッシュ \\ でエスケープする必要がある。\n",
        "1. バックスラッシュ \\ 自体は \\backslash と書く。 波記号 チルダ tilde ~ は \\tilde{}、キャレット、ハット記号、サーカムフレックス、circumflex ^ は \\hat{} になる。\n",
        "1. 地の文、テキストも数式として解釈されるので、英文字はフォントが変わる。普通の文字にしたい場合は \\text{} で括る。\n",
        "1. 改行はマークダウンではスペース 2 個だが、%%latex では バックスラッシュ \\ を2個 \\\\\\\\ になる。\n",
        "1. その他マークダウン上の便利な機能。箇条書きの自動ナンバリングなどは使えない。\n"
      ]
    },
    {
      "cell_type": "code",
      "metadata": {
        "colab": {
          "base_uri": "https://localhost:8080/",
          "height": 183
        },
        "id": "Osz4ublTk27V",
        "outputId": "13ee6b85-0b16-4336-95ed-ac19aeac6050"
      },
      "source": [
        "# 実験\n",
        "%%latex\n",
        "this is a pen. \\\\\n",
        "\\text{this is a pen} \\\\\n",
        "\\backslash \\\\\n",
        "\\tilde{x}\\\\\n",
        "\\tilde{} \\quad x\\\\\n",
        "\\hat{x} \\\\\n",
        "\\hat{} \\quad  x \\\\\n",
        "x^3 \\\\"
      ],
      "execution_count": 4,
      "outputs": [
        {
          "output_type": "display_data",
          "data": {
            "text/latex": "this is a pen. \\\\\n\\text{this is a pen} \\\\\n\\backslash \\\\\n\\tilde{x}\\\\\n\\tilde{} \\quad x\\\\\n\\hat{x} \\\\\n\\hat{} \\quad  x \\\\\nx^3 \\\\",
            "text/plain": [
              "<IPython.core.display.Latex object>"
            ]
          },
          "metadata": {
            "tags": []
          }
        }
      ]
    },
    {
      "cell_type": "markdown",
      "metadata": {
        "id": "ug4l1dHmOnvE"
      },
      "source": [
        "同じことをマークダウンでやってみる。\n",
        "\n",
        "$this is a pen.$  \n",
        "$\\text{this is a pen}$  \n",
        "$\\backslash$  \n",
        "$\\tilde{x}$  \n",
        "$\\tilde{} \\quad x$  \n",
        "$\\hat{x} $  \n",
        "$\\hat{} \\quad  x $  \n",
        "$x^3 $  "
      ]
    },
    {
      "cell_type": "markdown",
      "metadata": {
        "id": "gS-20EZ4B0lL"
      },
      "source": [
        "# 簡単な数式"
      ]
    },
    {
      "cell_type": "code",
      "metadata": {
        "id": "NXhBtJwreRGG",
        "colab": {
          "base_uri": "https://localhost:8080/",
          "height": 38
        },
        "outputId": "55b28ffd-22e1-4656-b3e8-c3b5f790891d"
      },
      "source": [
        "%%latex\n",
        "E = mc^2"
      ],
      "execution_count": 5,
      "outputs": [
        {
          "output_type": "display_data",
          "data": {
            "text/latex": "E = mc^2",
            "text/plain": [
              "<IPython.core.display.Latex object>"
            ]
          },
          "metadata": {
            "tags": []
          }
        }
      ]
    },
    {
      "cell_type": "markdown",
      "metadata": {
        "id": "VQ5cdQKxB0lO"
      },
      "source": [
        "マークダウンでドルサインで囲むと latex(mathjax) になる。 2 個のドルサインで囲むと行替えされ、センタリングされた数式になる。\n",
        "\n",
        "$$ E=mc^2$$\n",
        "\n",
        "ここで $c$ は光速を表し、値は次の通り。  \n",
        "\n",
        "$$ c = 299{,}792{,}458 \\, \\mathrm{m/s} $$\n",
        "\n",
        "いわゆる光速は 30 万キロ/秒というやつね!!!!\n",
        "\n",
        "地球 7 周り半。\n"
      ]
    },
    {
      "cell_type": "code",
      "metadata": {
        "id": "XaZ9k2NuebYv",
        "colab": {
          "base_uri": "https://localhost:8080/",
          "height": 74
        },
        "outputId": "638d2ff0-b2ae-4e1a-99d2-c2f469159d56"
      },
      "source": [
        "%%latex\n",
        "E =mc^2 \\\\[0.8em]\n",
        "c = 299{,}792{,}458 \\, \\mathrm{m/s}"
      ],
      "execution_count": 6,
      "outputs": [
        {
          "output_type": "display_data",
          "data": {
            "text/latex": "E =mc^2 \\\\[0.8em]\nc = 299{,}792{,}458 \\, \\mathrm{m/s}",
            "text/plain": [
              "<IPython.core.display.Latex object>"
            ]
          },
          "metadata": {
            "tags": []
          }
        }
      ]
    },
    {
      "cell_type": "markdown",
      "metadata": {
        "id": "7JZQs8Ize_jf"
      },
      "source": [
        "数字のカンマは `{,}` として入れる。 波括弧 brace で囲む。\n"
      ]
    },
    {
      "cell_type": "markdown",
      "metadata": {
        "id": "JJRGMDwVF90w"
      },
      "source": [
        "# ドル`$`マーク ドルサインをエスケープするには\n",
        "\n",
        "この本は\\$35.40。これはマークダウン。\n",
        "\n",
        "この本は $\\$35.40$ 。これは latex。\n",
        "\n",
        "ドルサインは latex (mathjax) 対応のマークダウンでは mathjax の begin, end の記号なので、エスケープする必要がある。\n",
        "\n",
        "colab 環境ではバックスラッシュ `\\` でエスケープできる。\n",
        "\n",
        "ドルサイン自体を HTML文字参照で書く、という方法もある。\n",
        "\n",
        "`&#36; `\n",
        "`&#x24;`\n",
        "`&dollar;`\n",
        "\n",
        "HTML文字参照は latex の中では使えない。\n"
      ]
    },
    {
      "cell_type": "markdown",
      "metadata": {
        "id": "5Bj1HdA_dkGx"
      },
      "source": [
        "同一セル内でペアになっていないと表示される。\n",
        "\n",
        "$\n",
        "\n",
        "$$"
      ]
    },
    {
      "cell_type": "markdown",
      "metadata": {
        "id": "ji3YyhsGKjpV"
      },
      "source": [
        "# 水平方向の空白"
      ]
    },
    {
      "cell_type": "code",
      "metadata": {
        "id": "s98H-qzjKkTo",
        "colab": {
          "base_uri": "https://localhost:8080/",
          "height": 146
        },
        "outputId": "d4be56d3-2acf-4b1a-a5c2-8f0369ee2ccc"
      },
      "source": [
        "# 水平方向の空白の実験\n",
        "# \\+セミコロン、スペース、チルダが標準的な 1 文字スペースのようである\n",
        "# とりあえずセミコロンがわかりやすいので \\; とする\n",
        "%%latex\n",
        "a\\;b\\;c\\;d\\;e\\;f\\;g\\; セミコロン\\\\\n",
        "a\\ b\\ c\\ d\\ e\\ f\\ g\\  スペース\\\\\n",
        "a~b~c~d~e~f~g~ tilde\\\\\n",
        "a\\,b\\,c\\,d\\,e\\,f\\,g\\, カンマ\\\\\n",
        "a~~b~~c~~d~~e~~f~~g~~ tilde2\\\\\n",
        "a\\quad b\\quad c\\quad d\\quad e\\quad f\\quad g\\quad  quad\\\\"
      ],
      "execution_count": 7,
      "outputs": [
        {
          "output_type": "display_data",
          "data": {
            "text/latex": "a\\;b\\;c\\;d\\;e\\;f\\;g\\; セミコロン\\\\\na\\ b\\ c\\ d\\ e\\ f\\ g\\  スペース\\\\\na~b~c~d~e~f~g~ tilde\\\\\na\\,b\\,c\\,d\\,e\\,f\\,g\\, カンマ\\\\\na~~b~~c~~d~~e~~f~~g~~ tilde2\\\\\na\\quad b\\quad c\\quad d\\quad e\\quad f\\quad g\\quad  quad\\\\",
            "text/plain": [
              "<IPython.core.display.Latex object>"
            ]
          },
          "metadata": {
            "tags": []
          }
        }
      ]
    },
    {
      "cell_type": "markdown",
      "metadata": {
        "id": "L872XDCqfsyM"
      },
      "source": [
        "# 改行と空行\n"
      ]
    },
    {
      "cell_type": "markdown",
      "metadata": {
        "id": "D07ckSl95vvl"
      },
      "source": [
        "マークダウン中の latex の中での改行は無視される。\n",
        "\n",
        "\n",
        "結合されて、1 つの文になる。\n",
        "\n",
        "改行は `\\` を行末に2個入れる。  \n",
        "\n",
        "行間をあける (空白行を入れる) のはけっこうむずかしい。\n",
        "\n",
        "\\{\\}+\\\\\\\\  \n",
        "`{}\\\\`\n",
        "\n",
        "とか。\n",
        "\n"
      ]
    },
    {
      "cell_type": "markdown",
      "metadata": {
        "id": "A3Z0alVOPf75"
      },
      "source": [
        "#インテグラル 積分\n",
        "$$\n",
        "\\frac{\\pi}{2} =\n",
        "\\left( \\int_{0}^{\\infty} \\frac{\\sin x}{\\sqrt{x}} dx \\right)^2 =\n",
        "\\sum_{k=0}^{\\infty} \\frac{(2k)!}{2^{2k}(k!)^2} \\frac{1}{2k+1} =\n",
        "\\prod_{k=1}^{\\infty} \\frac{4k^2}{4k^2 - 1}\n",
        "$$"
      ]
    },
    {
      "cell_type": "code",
      "metadata": {
        "id": "z_hJqC1ggHRw",
        "colab": {
          "base_uri": "https://localhost:8080/",
          "height": 67
        },
        "outputId": "c809418a-f158-4738-d931-1cc7aa950f82"
      },
      "source": [
        "# インテグラル 積分記号\n",
        "# latex では \\int , sympy では Integral\n",
        "%%latex\n",
        "\\displaystyle\n",
        "\\frac{\\pi}{2}\n",
        "=\n",
        "\\left( \\int_{0}^{\\infty} \\frac{\\sin x}{\\sqrt{x}} dx \\right)^2\n",
        "=\n",
        "\\sum_{k=0}^{\\infty} \\frac{(2k)!}{2^{2k}(k!)^2} \\frac{1}{2k+1}\n",
        "=\n",
        "\\prod_{k=1}^{\\infty} \\frac{4k^2}{4k^2 - 1}"
      ],
      "execution_count": 8,
      "outputs": [
        {
          "output_type": "display_data",
          "data": {
            "text/latex": "\\displaystyle\n\\frac{\\pi}{2}\n=\n\\left( \\int_{0}^{\\infty} \\frac{\\sin x}{\\sqrt{x}} dx \\right)^2\n=\n\\sum_{k=0}^{\\infty} \\frac{(2k)!}{2^{2k}(k!)^2} \\frac{1}{2k+1}\n=\n\\prod_{k=1}^{\\infty} \\frac{4k^2}{4k^2 - 1}",
            "text/plain": [
              "<IPython.core.display.Latex object>"
            ]
          },
          "metadata": {
            "tags": []
          }
        }
      ]
    },
    {
      "cell_type": "markdown",
      "metadata": {
        "id": "ufdfBaWyw9Te"
      },
      "source": [
        "`\\displaystyle`としないと、インラインスタイルでフォントが小さくなってしまう。\n",
        "\n"
      ]
    },
    {
      "cell_type": "markdown",
      "metadata": {
        "id": "NgmgaN0pnnAY"
      },
      "source": [
        "# フォントの実験"
      ]
    },
    {
      "cell_type": "markdown",
      "metadata": {
        "id": "ohnAEa3ppMIq"
      },
      "source": [
        "マークダウンで英文字は   \n",
        "abcdefABC  \n",
        "となるが、ドルサインで囲って latex にすると、数学用のフォントになる。  \n",
        "$abcdefABC$  \n",
        "この latex のなかで text とすると数学フォントではなくなる。  \n",
        "$\\text{This is a text}$  \n",
        "\n",
        "* latex -> $abcdefABC$ $\\quad$ 通常の数式書体\n",
        "* \\mathrm -> $\\mathrm{abcdefABC}$   $\\quad$ sin, cos など数式\n",
        "*\\boldsymbol -> $\\boldsymbol{abcdefABC}$ $\\quad$ ベクトルに使う\n",
        "* \\mathbf -> $\\mathbf{abcdefABC}$ $\\quad$ $\\mathbf{NZRC}$\n",
        "* \\mathbb -> $\\mathbb{abcdefABC}$ $\\quad$ $\\mathbb{NZRC}$\n",
        "* \\mathcal -> $\\mathcal{abcdefABC}$   $\\quad$ \n",
        "* \\mathfrak -> $\\mathfrak{abcdefABC}$   $\\quad$ \n",
        "\n",
        "数学のテキストでのアルファベットの使い分けは通常はイタリックで、座標とかはセリフ付きのローマン体の大文字が使われている。 ベクトルを小文字で表すときに上矢印をつけずにボールド体を使うことがある。\n",
        "\n",
        "手書きで部分白抜きを真似た mathbb というのもあって、これで書かれたテキストもある。\n",
        "\n",
        "&nbsp;"
      ]
    },
    {
      "cell_type": "markdown",
      "metadata": {
        "id": "izyrEmSv6mIS"
      },
      "source": [
        "# 行列 matrix"
      ]
    },
    {
      "cell_type": "markdown",
      "metadata": {
        "id": "3-QF3ROg3LXj"
      },
      "source": [
        "$\n",
        "A =\\begin{pmatrix}\n",
        "    a_{11} & \\ldots & a_{1n} \\\\\n",
        "    \\vdots & \\ddots & \\vdots \\\\\n",
        "    a_{m1} & \\ldots & a_{mn}\n",
        "\\end{pmatrix}$"
      ]
    },
    {
      "cell_type": "code",
      "metadata": {
        "id": "FbVx5XVeB0lT",
        "colab": {
          "base_uri": "https://localhost:8080/",
          "height": 90
        },
        "outputId": "2ef4ece8-73c6-4791-c613-1103031a8ad3"
      },
      "source": [
        "%%latex\n",
        "\\displaystyle\n",
        "A =\\begin{pmatrix}\n",
        "    a_{11} & \\ldots & a_{1n} \\\\\n",
        "    \\vdots & \\ddots & \\vdots \\\\\n",
        "    a_{m1} & \\ldots & a_{mn}\n",
        "\\end{pmatrix} \\quad\n",
        "A =\\begin{bmatrix}\n",
        "    a_{11} & \\ldots & a_{1n} \\\\\n",
        "    \\vdots & \\ddots & \\vdots \\\\\n",
        "    a_{m1} & \\ldots & a_{mn}\n",
        "\\end{bmatrix}"
      ],
      "execution_count": 9,
      "outputs": [
        {
          "output_type": "display_data",
          "data": {
            "text/latex": "\\displaystyle\nA =\\begin{pmatrix}\n    a_{11} & \\ldots & a_{1n} \\\\\n    \\vdots & \\ddots & \\vdots \\\\\n    a_{m1} & \\ldots & a_{mn}\n\\end{pmatrix} \\quad\nA =\\begin{bmatrix}\n    a_{11} & \\ldots & a_{1n} \\\\\n    \\vdots & \\ddots & \\vdots \\\\\n    a_{m1} & \\ldots & a_{mn}\n\\end{bmatrix}",
            "text/plain": [
              "<IPython.core.display.Latex object>"
            ]
          },
          "metadata": {
            "tags": []
          }
        }
      ]
    },
    {
      "cell_type": "markdown",
      "metadata": {
        "id": "l0WOCX6ZbsFA"
      },
      "source": [
        "直交行列\n",
        "実対称行列 $A$ は直交行列 $P$ によって  \n",
        "$D = P^{-1} A P$  \n",
        "と対角行列 $D$ に対角化される。  \n"
      ]
    },
    {
      "cell_type": "code",
      "metadata": {
        "id": "hGPGMKjC5tUm",
        "colab": {
          "base_uri": "https://localhost:8080/",
          "height": 38
        },
        "outputId": "51797684-bb8a-4f5d-97a8-40944676c941"
      },
      "source": [
        "# 直交行列\n",
        "%%latex\n",
        "D = P^{-1} A P"
      ],
      "execution_count": 10,
      "outputs": [
        {
          "output_type": "display_data",
          "data": {
            "text/latex": "D = P^{-1} A P",
            "text/plain": [
              "<IPython.core.display.Latex object>"
            ]
          },
          "metadata": {
            "tags": []
          }
        }
      ]
    },
    {
      "cell_type": "markdown",
      "metadata": {
        "id": "dY6bVGzBps3v"
      },
      "source": [
        "数列の合計シグマ、無限、階乗\n",
        "$$\n",
        "\\sin x = \\sum_{n=0}^{\\infty} \\frac{(-1)^n}{(2n+1)!} x^{2n+1}\n",
        "$$"
      ]
    },
    {
      "cell_type": "code",
      "metadata": {
        "id": "qXRmBXE2PuHC",
        "colab": {
          "base_uri": "https://localhost:8080/",
          "height": 66
        },
        "outputId": "3d936ad4-9139-4511-d3f3-5b4b9fc1d71e"
      },
      "source": [
        "%%latex\n",
        "\\displaystyle\n",
        "\\sin x = \\sum_{n=0}^{\\infty} \\frac{(-1)^n}{(2n+1)!} x^{2n+1}"
      ],
      "execution_count": 11,
      "outputs": [
        {
          "output_type": "display_data",
          "data": {
            "text/latex": "\\displaystyle\n\\sin x = \\sum_{n=0}^{\\infty} \\frac{(-1)^n}{(2n+1)!} x^{2n+1}",
            "text/plain": [
              "<IPython.core.display.Latex object>"
            ]
          },
          "metadata": {
            "tags": []
          }
        }
      ]
    },
    {
      "cell_type": "markdown",
      "metadata": {
        "id": "bLZ6VPGFqARq"
      },
      "source": [
        "# 積分記号、イプシロン、極限\n",
        "$$\n",
        "\\int_{0}^{1} \\log x \\,dx\n",
        "= \\lim_{\\epsilon \\to +0} \\int_{\\epsilon}^{1} \\log x \\,dx\n",
        "= \\lim_{\\epsilon \\to +0} [x \\log x - x]_{\\epsilon}^{1}\n",
        "= -1\n",
        "$$"
      ]
    },
    {
      "cell_type": "code",
      "metadata": {
        "id": "BwuoDXTSQKR7",
        "colab": {
          "base_uri": "https://localhost:8080/",
          "height": 59
        },
        "outputId": "c8d5d23b-8c85-41c8-8199-8830315ceec5"
      },
      "source": [
        "# \\int, Integral, \\lim, \n",
        "%%latex\n",
        "\\displaystyle\n",
        "\\int_{0}^{1} \\log x \\,dx\n",
        "= \\lim_{\\epsilon \\to +0} \\int_{\\epsilon}^{1} \\log x \\,dx\n",
        "= \\lim_{\\epsilon \\to +0} [x \\log x - x]_{\\epsilon}^{1}\n",
        "= -1"
      ],
      "execution_count": 12,
      "outputs": [
        {
          "output_type": "display_data",
          "data": {
            "text/latex": "\\displaystyle\n\\int_{0}^{1} \\log x \\,dx\n= \\lim_{\\epsilon \\to +0} \\int_{\\epsilon}^{1} \\log x \\,dx\n= \\lim_{\\epsilon \\to +0} [x \\log x - x]_{\\epsilon}^{1}\n= -1",
            "text/plain": [
              "<IPython.core.display.Latex object>"
            ]
          },
          "metadata": {
            "tags": []
          }
        }
      ]
    },
    {
      "cell_type": "markdown",
      "metadata": {
        "id": "jZ4nUZbeqf2I"
      },
      "source": [
        "# array, eqnarray, align, cases\n",
        "それぞれ違いがあるが、汎用的なのは array だろう。\n",
        "$$\n",
        "\\begin{array}{lcl}\n",
        "    \\displaystyle \\int_{0}^{1} \\log x dx\n",
        "     & = \\quad & \\displaystyle  \\lim_{\\epsilon \\to +0} \\int_{\\epsilon}^{1} \\log x dx \\\\\n",
        "     & = & \\displaystyle \\lim_{\\epsilon \\to +0} [x \\log x - x]_{\\epsilon}^{1} \\\\\n",
        "     & = & -1\n",
        "\\end{array}\n",
        "$$\n",
        "\n",
        "&nbsp;\n",
        "$$\n",
        "\\begin{eqnarray}\n",
        "    \\int_{0}^{1} \\log x dx\n",
        "     & = & \\displaystyle \\lim_{\\epsilon \\to +0} \\int_{\\epsilon}^{1} \\log x dx \\\\\n",
        "     & = & \\displaystyle \\lim_{\\epsilon \\to +0} [x \\log x - x]_{\\epsilon}^{1} \\\\\n",
        "     & = & -1\n",
        "\\end{eqnarray}\n",
        "$$\n",
        "\n",
        "&nbsp;\n",
        "\n",
        "$$\n",
        "\\begin{align}\n",
        "    \\int_{0}^{1} \\log x dx\n",
        "     & = & \\displaystyle \\lim_{\\epsilon \\to +0} \\int_{\\epsilon}^{1} \\log x dx \\\\\n",
        "     & = & \\displaystyle \\lim_{\\epsilon \\to +0} [x \\log x - x]_{\\epsilon}^{1} \\\\\n",
        "     & = & -1\n",
        "\\end{align}\n",
        "$$\n",
        "\n",
        "&nbsp;\n",
        "\n",
        "\n",
        "$$\n",
        "\\begin{align}\n",
        "\\int_1^x \\{ye^{-t^2}\\}'dt &=&\\int_1^x e^{-t^2}tdt \\\\\n",
        "\\left[ye^{-t^2}\\right]_1^x &=& \\left[-{1\\over 2}e^{-t^2}\\right]_1^x \\\\\n",
        "ye^{-x^2}-2e^{-1} &=& -{1\\over 2}e^{-x^2}+{1\\over 2}e^{-1} \\\\\n",
        "ye^{-x^2} &=& -{1\\over 2}e^{-x^2}+{5\\over 2}e^{-1}\n",
        "\\end{align}\n",
        "$$"
      ]
    },
    {
      "cell_type": "code",
      "metadata": {
        "id": "SqHt58ANQ-Nb",
        "colab": {
          "base_uri": "https://localhost:8080/",
          "height": 107
        },
        "outputId": "60015dd3-738c-4c1f-d359-a00ba37be4df"
      },
      "source": [
        "%%latex\n",
        "\\begin{array}{lcl}\n",
        "    \\displaystyle \n",
        "    \\int_{0}^{1} \\log x dx\n",
        "     & = & \\displaystyle \\lim_{\\epsilon \\to +0} \\int_{\\epsilon}^{1} \\log x dx \\\\\n",
        "     & = & \\displaystyle \\lim_{\\epsilon \\to +0} [x \\log x - x]_{\\epsilon}^{1} \\\\\n",
        "     & = & -1\n",
        "\\end{array}"
      ],
      "execution_count": 13,
      "outputs": [
        {
          "output_type": "display_data",
          "data": {
            "text/latex": "\\begin{array}{lcl}\n    \\displaystyle \n    \\int_{0}^{1} \\log x dx\n     & = & \\displaystyle \\lim_{\\epsilon \\to +0} \\int_{\\epsilon}^{1} \\log x dx \\\\\n     & = & \\displaystyle \\lim_{\\epsilon \\to +0} [x \\log x - x]_{\\epsilon}^{1} \\\\\n     & = & -1\n\\end{array}",
            "text/plain": [
              "<IPython.core.display.Latex object>"
            ]
          },
          "metadata": {
            "tags": []
          }
        }
      ]
    },
    {
      "cell_type": "code",
      "metadata": {
        "id": "koHc7A_oKAVw",
        "colab": {
          "base_uri": "https://localhost:8080/",
          "height": 58
        },
        "outputId": "d1907b6d-d97c-411d-a54e-7a85d09254cf"
      },
      "source": [
        "# \\begin{array} の使い方。 \n",
        "%%latex\n",
        "\\displaystyle\n",
        "\\begin{array}\n",
        "    lkj;lkj & = & jk          \\\\\n",
        "            & = & kj;ljk;jk;j\n",
        "\\end{array}"
      ],
      "execution_count": 14,
      "outputs": [
        {
          "output_type": "display_data",
          "data": {
            "text/latex": "\\displaystyle\n\\begin{array}\n    lkj;lkj & = & jk          \\\\\n            & = & kj;ljk;jk;j\n\\end{array}",
            "text/plain": [
              "<IPython.core.display.Latex object>"
            ]
          },
          "metadata": {
            "tags": []
          }
        }
      ]
    },
    {
      "cell_type": "markdown",
      "metadata": {
        "id": "FaFeoc9X-be2"
      },
      "source": [
        "# array で行間が狭いとき\n",
        "array で行間が狭いときには \\\\ のあとに [0.3em] とか入れる\n",
        "\n",
        "$$\n",
        "\\displaystyle\n",
        "\\begin{array}{lcl}\n",
        "    \\sin(\\alpha \\pm \\beta) & = & \\sin \\alpha \\cos \\beta \\pm \\cos \\alpha \\sin \\beta               \\\\\n",
        "    \\cos(\\alpha \\pm \\beta) & = & \\cos \\alpha \\cos \\beta \\mp \\sin \\alpha \\sin \\beta               \\\\[0.5em]\n",
        "    \\tan(\\alpha \\pm \\beta) & = & \\displaystyle \\frac{\\tan \\alpha \\pm \\tan \\beta}{1 \\mp \\tan \\alpha \\tan \\beta}\n",
        "\\end{array}\n",
        "$$"
      ]
    },
    {
      "cell_type": "code",
      "metadata": {
        "id": "Jb03yr1JSOma",
        "colab": {
          "base_uri": "https://localhost:8080/",
          "height": 101
        },
        "outputId": "3584ae50-e229-4c41-edf6-0dcd8584404e"
      },
      "source": [
        "# 行間がきついときには \\\\ のあとに [0.3em] とか入れる\n",
        "%%latex\n",
        "\\displaystyle\n",
        "\\begin{array}{lcl}\n",
        "    \\sin(\\alpha \\pm \\beta) & = & \\sin \\alpha \\cos \\beta \\pm \\cos \\alpha \\sin \\beta               \\\\\n",
        "    \\cos(\\alpha \\pm \\beta) & = & \\cos \\alpha \\cos \\beta \\mp \\sin \\alpha \\sin \\beta               \\\\[0.3em]\n",
        "    \\tan(\\alpha \\pm \\beta) & = & \\displaystyle \\frac{\\tan \\alpha \\pm \\tan \\beta}{1 \\mp \\tan \\alpha \\tan \\beta}\n",
        "\\end{array}"
      ],
      "execution_count": 15,
      "outputs": [
        {
          "output_type": "display_data",
          "data": {
            "text/latex": "\\displaystyle\n\\begin{array}{lcl}\n    \\sin(\\alpha \\pm \\beta) & = & \\sin \\alpha \\cos \\beta \\pm \\cos \\alpha \\sin \\beta               \\\\\n    \\cos(\\alpha \\pm \\beta) & = & \\cos \\alpha \\cos \\beta \\mp \\sin \\alpha \\sin \\beta               \\\\[0.3em]\n    \\tan(\\alpha \\pm \\beta) & = & \\displaystyle \\frac{\\tan \\alpha \\pm \\tan \\beta}{1 \\mp \\tan \\alpha \\tan \\beta}\n\\end{array}",
            "text/plain": [
              "<IPython.core.display.Latex object>"
            ]
          },
          "metadata": {
            "tags": []
          }
        }
      ]
    },
    {
      "cell_type": "code",
      "metadata": {
        "id": "GV3TDo_bTfD9",
        "colab": {
          "base_uri": "https://localhost:8080/",
          "height": 125
        },
        "outputId": "7a44b67c-bfca-4ca1-d39b-68d5a0323396"
      },
      "source": [
        "# 括弧のいろいろ 丸括弧 波括弧 角括弧 絶対値\n",
        "%%latex\n",
        "[ (x) ] \\\\\n",
        "\\{ x \\}\\\\\n",
        "\\| x \\| \\\\\n",
        "| x | \\\\\n",
        "\\langle x \\rangle"
      ],
      "execution_count": 16,
      "outputs": [
        {
          "output_type": "display_data",
          "data": {
            "text/latex": "[ (x) ] \\\\\n\\{ x \\}\\\\\n\\| x \\| \\\\\n| x | \\\\\n\\langle x \\rangle",
            "text/plain": [
              "<IPython.core.display.Latex object>"
            ]
          },
          "metadata": {
            "tags": []
          }
        }
      ]
    },
    {
      "cell_type": "code",
      "metadata": {
        "id": "xKyM3qnxWuEC",
        "colab": {
          "base_uri": "https://localhost:8080/",
          "height": 68
        },
        "outputId": "cf2a362f-a3b1-4e36-ee70-1df90ff45eb5"
      },
      "source": [
        "%%latex \n",
        "\\displaystyle\n",
        "\\Bigg( \\bigg[ \\Big\\{ \\big\\| \\langle x \\rangle \\big\\| \\Big\\} \\bigg] \\Bigg)"
      ],
      "execution_count": 17,
      "outputs": [
        {
          "output_type": "display_data",
          "data": {
            "text/latex": "\\displaystyle\n\\Bigg( \\bigg[ \\Big\\{ \\big\\| \\langle x \\rangle \\big\\| \\Big\\} \\bigg] \\Bigg)",
            "text/plain": [
              "<IPython.core.display.Latex object>"
            ]
          },
          "metadata": {
            "tags": []
          }
        }
      ]
    },
    {
      "cell_type": "markdown",
      "metadata": {
        "id": "AsGPAw9E_ReN"
      },
      "source": [
        "左右の括弧に`\\left`、`\\right`をつけると自動で可変になる。 大きくなる。\n",
        "\\left`、`\\right`はかならずペアで、片方だけ使うときはピリオド `.` をつける。\n",
        "$$\n",
        "\\displaystyle \n",
        "\\left( \\frac{a}{b} \\right)\n",
        "\\left( \\int_a^\\infty x \\, dx \\right)\n",
        "$$"
      ]
    },
    {
      "cell_type": "markdown",
      "metadata": {
        "id": "iDYN1YVkwUwS"
      },
      "source": [
        "左寄せ、センタリング、右寄せ\n",
        "\n",
        "$$\n",
        "\\begin{array}{lcr}\n",
        "111 & 222 & 333 \\\\\n",
        "44  & 55  & 66 \\\\\n",
        "7   & 8   & 9\n",
        "\\end{array}\n",
        "$$"
      ]
    },
    {
      "cell_type": "code",
      "metadata": {
        "id": "yBKZWWP0hlDW",
        "colab": {
          "base_uri": "https://localhost:8080/",
          "height": 78
        },
        "outputId": "347808cf-5924-4b23-ea37-ca198644981f"
      },
      "source": [
        "%%latex\n",
        "\n",
        "\\begin{array}{lcr}\n",
        "111 & 222 & 333 \\\\\n",
        "44  & 55  & 66 \\\\\n",
        "7   & 8   & 9\n",
        "\\end{array}"
      ],
      "execution_count": 18,
      "outputs": [
        {
          "output_type": "display_data",
          "data": {
            "text/latex": "\n\\begin{array}{lcr}\n111 & 222 & 333 \\\\\n44  & 55  & 66 \\\\\n7   & 8   & 9\n\\end{array}",
            "text/plain": [
              "<IPython.core.display.Latex object>"
            ]
          },
          "metadata": {
            "tags": []
          }
        }
      ]
    },
    {
      "cell_type": "markdown",
      "metadata": {
        "id": "cZWWCTqp-3uT"
      },
      "source": [
        "# 括弧のいろいろ 丸括弧 波括弧 角括弧 絶対値 大括弧 可変括弧 片括弧\n",
        "$$\n",
        "[ (x) ] \\\\\n",
        "\\{ x \\}\\\\\n",
        "\\| x \\| \\\\\n",
        "| x | \\\\\n",
        "\\langle x \\rangle\n",
        "$$"
      ]
    },
    {
      "cell_type": "markdown",
      "metadata": {
        "id": "OO4PbbU01aAD"
      },
      "source": [
        "左右の括弧に`\\left`、`\\right`をつけると自動で可変になる。 大きくなる。\n",
        "`\\left`、`\\right`はかならずペアで、片方だけ使うときはピリオド `.` をつける。\n",
        "\n",
        "$$\n",
        "\\left( \\frac{a}{b} \\right)\n",
        "\\left( \\int_a^\\infty x \\, dx \\right)\n",
        "$$"
      ]
    },
    {
      "cell_type": "code",
      "metadata": {
        "id": "Ka0qoGgeXAey",
        "colab": {
          "base_uri": "https://localhost:8080/",
          "height": 58
        },
        "outputId": "5e422c84-5516-42ea-9d29-7d4751adca3b"
      },
      "source": [
        "# 左右の括弧に`\\left`、`\\right`をつけると自動で可変になる。 大きくなる。\n",
        "# `\\left`、`\\right`はかならずペアで、片方だけ使うときはピリオド `.` をつける。\n",
        "%%latex\n",
        "\\displaystyle \n",
        "\\left( \\frac{a}{b} \\right)\n",
        "\\left( \\int_a^\\infty x \\, dx \\right)"
      ],
      "execution_count": 19,
      "outputs": [
        {
          "output_type": "display_data",
          "data": {
            "text/latex": "\\displaystyle \n\\left( \\frac{a}{b} \\right)\n\\left( \\int_a^\\infty x \\, dx \\right)",
            "text/plain": [
              "<IPython.core.display.Latex object>"
            ]
          },
          "metadata": {
            "tags": []
          }
        }
      ]
    },
    {
      "cell_type": "markdown",
      "metadata": {
        "id": "baZf-hqz1k7I"
      },
      "source": [
        "# 片括弧\n",
        "$$\n",
        "\\displaystyle\n",
        "\\left\\{ \\frac{a}{b} \\right.\n",
        "$$\n",
        "\n",
        "$$\n",
        "\\left\\{\n",
        "\\begin{array}{lcl}\n",
        "    \\sin(\\alpha \\pm \\beta) & = & \\sin \\alpha \\cos \\beta \\pm \\cos \\alpha \\sin \\beta               \\\\\n",
        "    \\cos(\\alpha \\pm \\beta) & = & \\cos \\alpha \\cos \\beta \\mp \\sin \\alpha \\sin \\beta               \\\\[0.3em]\n",
        "    \\tan(\\alpha \\pm \\beta) & = & \\displaystyle \\frac{\\tan \\alpha \\pm \\tan \\beta}{1 \\mp \\tan \\alpha \\tan \\beta}\n",
        "\\end{array}\n",
        "\\right.\n",
        "$$"
      ]
    },
    {
      "cell_type": "code",
      "metadata": {
        "id": "UgkUWCtbabhj",
        "colab": {
          "base_uri": "https://localhost:8080/",
          "height": 49
        },
        "outputId": "f1e10ec6-e0db-49c8-d117-cc2d8ac2c296"
      },
      "source": [
        "# 括弧を片方だけつかってみる\n",
        "%%latex\n",
        "\\displaystyle\n",
        "\\left\\{ \\frac{a}{b} \\right."
      ],
      "execution_count": 20,
      "outputs": [
        {
          "output_type": "display_data",
          "data": {
            "text/latex": "\\displaystyle\n\\left\\{ \\frac{a}{b} \\right.",
            "text/plain": [
              "<IPython.core.display.Latex object>"
            ]
          },
          "metadata": {
            "tags": []
          }
        }
      ]
    },
    {
      "cell_type": "code",
      "metadata": {
        "colab": {
          "base_uri": "https://localhost:8080/",
          "height": 101
        },
        "id": "1ba_unNA85vz",
        "outputId": "1f42e49a-e3b7-4653-e429-e78afee8431a"
      },
      "source": [
        "# 括弧を片方だけつかってみる\n",
        "%%latex\n",
        "\\displaystyle\n",
        "\\left\\{\n",
        "\\begin{array}{lcl}\n",
        "    \\sin(\\alpha \\pm \\beta) & = & \\sin \\alpha \\cos \\beta \\pm \\cos \\alpha \\sin \\beta               \\\\\n",
        "    \\cos(\\alpha \\pm \\beta) & = & \\cos \\alpha \\cos \\beta \\mp \\sin \\alpha \\sin \\beta               \\\\[0.3em]\n",
        "    \\tan(\\alpha \\pm \\beta) & = & \\displaystyle \\frac{\\tan \\alpha \\pm \\tan \\beta}{1 \\mp \\tan \\alpha \\tan \\beta}\n",
        "\\end{array}\n",
        "\\right."
      ],
      "execution_count": 21,
      "outputs": [
        {
          "output_type": "display_data",
          "data": {
            "text/latex": "\\displaystyle\n\\left\\{\n\\begin{array}{lcl}\n    \\sin(\\alpha \\pm \\beta) & = & \\sin \\alpha \\cos \\beta \\pm \\cos \\alpha \\sin \\beta               \\\\\n    \\cos(\\alpha \\pm \\beta) & = & \\cos \\alpha \\cos \\beta \\mp \\sin \\alpha \\sin \\beta               \\\\[0.3em]\n    \\tan(\\alpha \\pm \\beta) & = & \\displaystyle \\frac{\\tan \\alpha \\pm \\tan \\beta}{1 \\mp \\tan \\alpha \\tan \\beta}\n\\end{array}\n\\right.",
            "text/plain": [
              "<IPython.core.display.Latex object>"
            ]
          },
          "metadata": {
            "tags": []
          }
        }
      ]
    },
    {
      "cell_type": "markdown",
      "metadata": {
        "id": "Sv4ZXkhuyXDm"
      },
      "source": [
        "行列を括弧で囲むには array ではなく pmatrix を使う。\n",
        "\\left(,\\right) を使うこともできる\n",
        "$$\n",
        "%%latex\n",
        "\\begin{pmatrix}\n",
        "    111 & 222 & 333 \\\\\n",
        "    44  & 55  & 66  \\\\\n",
        "    7   & 8   & 9\n",
        "\\end{pmatrix}\n",
        "$$  \n",
        "$$\n",
        "\\left(\n",
        "\\begin{array}{rrr}\n",
        "    111 & 222 & 333 \\\\\n",
        "    44  & 55  & 66  \\\\\n",
        "    7   & 8   & 9\n",
        "\\end{array}\n",
        "\\right)\n",
        "$$"
      ]
    },
    {
      "cell_type": "code",
      "metadata": {
        "id": "drq4hK7fmryu",
        "colab": {
          "base_uri": "https://localhost:8080/",
          "height": 139
        },
        "outputId": "b2968aee-424e-45a0-ed33-ae9ad2e36599"
      },
      "source": [
        "# 行列を括弧で囲むには array ではなく pmatrix を使う。\n",
        "# \\left(,\\right) を使うこともできる\n",
        "%%latex\n",
        "\\begin{pmatrix}\n",
        "    111 & 222 & 333 \\\\\n",
        "    44  & 55  & 66  \\\\\n",
        "    7   & 8   & 9\n",
        "\\end{pmatrix}\n",
        "{}\\\\\n",
        "\\left(\n",
        "\\begin{array}{rrr}\n",
        "    111 & 222 & 333 \\\\\n",
        "    44  & 55  & 66  \\\\\n",
        "    7   & 8   & 9\n",
        "\\end{array}\n",
        "\\right)"
      ],
      "execution_count": 22,
      "outputs": [
        {
          "output_type": "display_data",
          "data": {
            "text/latex": "\\begin{pmatrix}\n    111 & 222 & 333 \\\\\n    44  & 55  & 66  \\\\\n    7   & 8   & 9\n\\end{pmatrix}\n{}\\\\\n\\left(\n\\begin{array}{rrr}\n    111 & 222 & 333 \\\\\n    44  & 55  & 66  \\\\\n    7   & 8   & 9\n\\end{array}\n\\right)",
            "text/plain": [
              "<IPython.core.display.Latex object>"
            ]
          },
          "metadata": {
            "tags": []
          }
        }
      ]
    },
    {
      "cell_type": "markdown",
      "metadata": {
        "id": "PvCuS9Tcyr5F"
      },
      "source": [
        "pmatrix は array のように item の位置指定ができない。\n",
        "\n",
        "$$\n",
        "\\begin{pmatrix}\n",
        "a & longitem \\\\\n",
        "128 & 3.1419\n",
        "\\end{pmatrix}\n",
        "$$"
      ]
    },
    {
      "cell_type": "code",
      "metadata": {
        "id": "AzzGRXcJRLVn",
        "colab": {
          "base_uri": "https://localhost:8080/",
          "height": 58
        },
        "outputId": "9da9435b-8b86-4414-cfbf-a1407199b3f8"
      },
      "source": [
        "# pmatrix は array のように item の位置を指定することはできないみたい\n",
        "%%latex\n",
        "\\displaystyle\n",
        "\\begin{pmatrix}\n",
        "a & longitem \\\\\n",
        "128 & 3.1419\n",
        "\\end{pmatrix}"
      ],
      "execution_count": 23,
      "outputs": [
        {
          "output_type": "display_data",
          "data": {
            "text/latex": "\\displaystyle\n\\begin{pmatrix}\na & longitem \\\\\n128 & 3.1419\n\\end{pmatrix}",
            "text/plain": [
              "<IPython.core.display.Latex object>"
            ]
          },
          "metadata": {
            "tags": []
          }
        }
      ]
    },
    {
      "cell_type": "markdown",
      "metadata": {
        "id": "0O1SWSw4SMjp"
      },
      "source": [
        "# 複素関数\n"
      ]
    },
    {
      "cell_type": "markdown",
      "metadata": {
        "id": "l21ix0zmy6JM"
      },
      "source": [
        "**複素関数**\n",
        "$$\n",
        "f(z) = f(x + i y ) = u (x, y) + iv(x, y) \\\\\n",
        "$$\n",
        "が点 \\\\\n",
        "$$\n",
        "z_0 = x_0 + iy_0 \n",
        "$$\n",
        "\n",
        "において正則であるための必要十分条件は、 \n",
        "$ z_0 $\n",
        "のある \n",
        "$ \\varepsilon $\n",
        "近傍 \n",
        "$\\Delta (z_0, \\varepsilon) $\n",
        "においてコーシー・リーマン方程式 \n",
        "\n",
        "$$\n",
        "\\begin {array}{ccc}\n",
        "    \\displaystyle \\frac{\\partial u}{\\partial x} &=& \\displaystyle \\frac{\\partial v}{\\partial y} \\\\\n",
        "    \\displaystyle \\frac{\\partial u}{\\partial y} &=& \\displaystyle - \\frac{\\partial v}{\\partial x}\n",
        "\\end {array}\n",
        "$$\n",
        "\n",
        "を満たすことである。"
      ]
    },
    {
      "cell_type": "code",
      "metadata": {
        "id": "jEwDgPrKU07h",
        "colab": {
          "base_uri": "https://localhost:8080/",
          "height": 280
        },
        "outputId": "20ebb8ce-9a6e-4656-a8c9-077e54d58d03"
      },
      "source": [
        "%%latex\n",
        "複素関数   \\\\\n",
        "f(z) = f(x + i y ) = u (x, y) + iv(x, y) \\\\\n",
        "が点 \\\\\n",
        "z_0 = x_0 + iy_0 \\\\\n",
        "において正則であるための必要十分条件は、 \\\\\n",
        "z_0 \n",
        "のある \n",
        "\\varepsilon \n",
        "近傍 \\\\\n",
        "\\Delta (z_0, \\varepsilon) \\\\\n",
        "においてコーシー・リーマン方程式 \\\\\n",
        "\n",
        "\\begin {array}{ccc}\n",
        "    \\displaystyle \\frac{\\partial u}{\\partial x} &=& \\displaystyle \\frac{\\partial v}{\\partial y} \\\\\n",
        "    \\displaystyle \\frac{\\partial u}{\\partial y} &=& \\displaystyle - \\frac{\\partial v}{\\partial x}\n",
        "\\end {array}\n",
        "\\\\\n",
        "を満たすことである。"
      ],
      "execution_count": 24,
      "outputs": [
        {
          "output_type": "display_data",
          "data": {
            "text/latex": "複素関数   \\\\\nf(z) = f(x + i y ) = u (x, y) + iv(x, y) \\\\\nが点 \\\\\nz_0 = x_0 + iy_0 \\\\\nにおいて正則であるための必要十分条件は、 \\\\\nz_0 \nのある \n\\varepsilon \n近傍 \\\\\n\\Delta (z_0, \\varepsilon) \\\\\nにおいてコーシー・リーマン方程式 \\\\\n\n\\begin {array}{ccc}\n    \\displaystyle \\frac{\\partial u}{\\partial x} &=& \\displaystyle \\frac{\\partial v}{\\partial y} \\\\\n    \\displaystyle \\frac{\\partial u}{\\partial y} &=& \\displaystyle - \\frac{\\partial v}{\\partial x}\n\\end {array}\n\\\\\nを満たすことである。",
            "text/plain": [
              "<IPython.core.display.Latex object>"
            ]
          },
          "metadata": {
            "tags": []
          }
        }
      ]
    },
    {
      "cell_type": "markdown",
      "metadata": {
        "id": "JCnkFEK7n0GD"
      },
      "source": [
        "# 空間曲線\n"
      ]
    },
    {
      "cell_type": "markdown",
      "metadata": {
        "id": "Ezf230dDz1mK"
      },
      "source": [
        "**空間曲線**\n",
        "$$\n",
        "c(t) = (x (t), y(t), z(t)) $$\n",
        "\n",
        "によって与えられる空間曲線 c の $\n",
        "c(0)$ を始点として $c(t)$ までの弧長を $s(t)$ とすると \n",
        "\n",
        "$$\n",
        "s(t) = \\displaystyle \\int_0^t \\sqrt { (\\frac {dx}{dt})^2 \n",
        "       + (\\frac {dy}{dt})^2 + (\\frac {dz}{dt})^2}\n",
        "$$\n",
        "と表される。"
      ]
    },
    {
      "cell_type": "code",
      "metadata": {
        "id": "zBzYoUr9o6CI",
        "colab": {
          "base_uri": "https://localhost:8080/",
          "height": 146
        },
        "outputId": "39bf8026-c585-40f8-8002-ff2f0e2447e9"
      },
      "source": [
        "%%latex\n",
        "c(t) = (x (t), y(t), z(t)) \\\\\n",
        "によって与えられる空間曲線 c の \\\\\n",
        "c(0) を始点として c(t) までの弧長を s(t) とすると \\\\\n",
        "\n",
        "s(t) = \\displaystyle \\int_0^t \\sqrt { (\\frac {dx}{dt})^2 \n",
        "       + (\\frac {dy}{dt})^2 + (\\frac {dz}{dt})^2}\n",
        "\\\\\n",
        "と表される。"
      ],
      "execution_count": 25,
      "outputs": [
        {
          "output_type": "display_data",
          "data": {
            "text/latex": "c(t) = (x (t), y(t), z(t)) \\\\\nによって与えられる空間曲線 c の \\\\\nc(0) を始点として c(t) までの弧長を s(t) とすると \\\\\n\ns(t) = \\displaystyle \\int_0^t \\sqrt { (\\frac {dx}{dt})^2 \n       + (\\frac {dy}{dt})^2 + (\\frac {dz}{dt})^2}\n\\\\\nと表される。",
            "text/plain": [
              "<IPython.core.display.Latex object>"
            ]
          },
          "metadata": {
            "tags": []
          }
        }
      ]
    },
    {
      "cell_type": "markdown",
      "metadata": {
        "id": "v9f0D-eFpCl3"
      },
      "source": [
        "# 微分可能\n"
      ]
    },
    {
      "cell_type": "markdown",
      "metadata": {
        "id": "MYL3utjT0SYf"
      },
      "source": [
        "**微分可能**\n",
        "\n",
        "関数 $f$ が開区間 $I$ 上で $n$ 回微分可能であるとする。  \n",
        "このとき、$a, b \\in I$ に対し、\n",
        "\n",
        "$$\n",
        "f(b) = \\displaystyle f(a)+ \\frac{f'(a)}{1!} (b - a) \n",
        "    + \\frac{f''(a)}{2!} (b - a)^2 + \\cdots \n",
        "    + \\frac{f^{(n - 1)}(a)}{(n - 1)!} (b - a)^{(n - 1)} + R_n(c)\n",
        "$$\n",
        "\n",
        "を満たす $c$ が $a$ と $b$ の間に存在する。"
      ]
    },
    {
      "cell_type": "code",
      "metadata": {
        "id": "hoLm8yHerEru",
        "colab": {
          "base_uri": "https://localhost:8080/",
          "height": 124
        },
        "outputId": "b7696a49-0b56-4c4c-df4f-10d76fbb930b"
      },
      "source": [
        "# 微分可能\n",
        "%%latex\n",
        "関数 f が開区間 I 上で n 回微分可能であるとする。 \\\\\n",
        "このとき、a, b \\in I に対し、\\\\\n",
        "\n",
        "f(b) = \\displaystyle f(a)+ \\frac{f'(a)}{1!} (b - a) \n",
        "    + \\frac{f''(a)}{2!} (b - a)^2 + \\cdots \n",
        "    + \\frac{f^{(n - 1)}(a)}{(n - 1)!} (b - a)^{(n - 1)} + R_n(c)\n",
        "\\\\\n",
        "を満たす c が a と b の間に存在する。\n"
      ],
      "execution_count": 26,
      "outputs": [
        {
          "output_type": "display_data",
          "data": {
            "text/latex": "関数 f が開区間 I 上で n 回微分可能であるとする。 \\\\\nこのとき、a, b \\in I に対し、\\\\\n\nf(b) = \\displaystyle f(a)+ \\frac{f'(a)}{1!} (b - a) \n    + \\frac{f''(a)}{2!} (b - a)^2 + \\cdots \n    + \\frac{f^{(n - 1)}(a)}{(n - 1)!} (b - a)^{(n - 1)} + R_n(c)\n\\\\\nを満たす c が a と b の間に存在する。",
            "text/plain": [
              "<IPython.core.display.Latex object>"
            ]
          },
          "metadata": {
            "tags": []
          }
        }
      ]
    },
    {
      "cell_type": "markdown",
      "metadata": {
        "id": "R-e13l9GrQ43"
      },
      "source": [
        "# $n$ 次正方行列\n"
      ]
    },
    {
      "cell_type": "markdown",
      "metadata": {
        "id": "sMjuMGuvTEVk"
      },
      "source": [
        "**$n$ 次正方行列**\n",
        "$$\n",
        "J (\\alpha, m) = \\begin {bmatrix}\n",
        "                    \\alpha & 1 & 0 & \\ldots & 0 \\\\\n",
        "                    0 & \\alpha & 1 & \\ddots & \\vdots \\\\\n",
        "                    \\vdots & \\ddots & \\ddots & \\ddots & 0 \\\\\n",
        "                    \\vdots &  & \\ddots & \\ddots & 1 \\\\\n",
        "                    0 & \\ldots & \\ldots & 0 & \\alpha\n",
        "                \\end {bmatrix}\n",
        "$$\n",
        "\n",
        "を Jordan 細胞と呼ぶ。 正方行列 $A$ が正則行列 $P$ によって\n",
        "\n",
        "$$\n",
        "\\begin {array} {lcl}\n",
        "P^{-1} A P &=& J(\\alpha_1, m_1) \\oplus J(\\alpha_2, m_2) \\oplus \\cdots \\oplus J(\\alpha_k, m_k)  \\\\\n",
        "&=& \\begin {bmatrix}\n",
        "        J(\\alpha_1, m_1) & & & \\\\\n",
        "        & J(\\alpha_2, m_2) & & \\\\\n",
        "        & & \\ddots & \\\\\n",
        "        & & & j(\\alpha_k, m_k)\n",
        "    \\end {bmatrix}\n",
        "\\end {array} \\\\\n",
        "$$\n",
        "\n",
        "と Jordan 細胞の直和になるとき、これを $A$ の Jordan 標準形と呼ぶ。\n"
      ]
    },
    {
      "cell_type": "code",
      "metadata": {
        "id": "PtaIIJSRwUfX",
        "colab": {
          "base_uri": "https://localhost:8080/",
          "height": 298
        },
        "outputId": "631abe5f-9c8b-4a1f-d609-f46be5c79bad"
      },
      "source": [
        "# n次正方行列\n",
        "%%latex\n",
        "J (\\alpha, m) = \\begin {bmatrix}\n",
        "                    \\alpha & 1 & 0 & \\ldots & 0 \\\\\n",
        "                    0 & \\alpha & 1 & \\ddots & \\vdots \\\\\n",
        "                    \\vdots & \\ddots & \\ddots & \\ddots & 0 \\\\\n",
        "                    \\vdots &  & \\ddots & \\ddots & 1 \\\\\n",
        "                    0 & \\ldots & \\ldots & 0 & \\alpha\n",
        "                \\end {bmatrix} \\\\\n",
        "を Jordan 細胞と呼ぶ。 正方行列 A が正則行列 P によって \\\\\n",
        "\\begin {array} {lcl}\n",
        "P^{-1} A P &=& J(\\alpha_1, m_1) \\oplus J(\\alpha_2, m_2) \\oplus \\cdots \\oplus J(\\alpha_k, m_k)  \\\\\n",
        "&=& \\begin {bmatrix}\n",
        "        J(\\alpha_1, m_1) & & & \\\\\n",
        "        & J(\\alpha_2, m_2) & & \\\\\n",
        "        & & \\ddots & \\\\\n",
        "        & & & j(\\alpha_k, m_k)\n",
        "    \\end {bmatrix}\n",
        "\\end {array} \\\\\n",
        "と Jordan 細胞の直和になるとき、これを A の Jordan 標準形と呼ぶ。\n"
      ],
      "execution_count": 27,
      "outputs": [
        {
          "output_type": "display_data",
          "data": {
            "text/latex": "J (\\alpha, m) = \\begin {bmatrix}\n                    \\alpha & 1 & 0 & \\ldots & 0 \\\\\n                    0 & \\alpha & 1 & \\ddots & \\vdots \\\\\n                    \\vdots & \\ddots & \\ddots & \\ddots & 0 \\\\\n                    \\vdots &  & \\ddots & \\ddots & 1 \\\\\n                    0 & \\ldots & \\ldots & 0 & \\alpha\n                \\end {bmatrix} \\\\\nを Jordan 細胞と呼ぶ。 正方行列 A が正則行列 P によって \\\\\n\\begin {array} {lcl}\nP^{-1} A P &=& J(\\alpha_1, m_1) \\oplus J(\\alpha_2, m_2) \\oplus \\cdots \\oplus J(\\alpha_k, m_k)  \\\\\n&=& \\begin {bmatrix}\n        J(\\alpha_1, m_1) & & & \\\\\n        & J(\\alpha_2, m_2) & & \\\\\n        & & \\ddots & \\\\\n        & & & j(\\alpha_k, m_k)\n    \\end {bmatrix}\n\\end {array} \\\\\nと Jordan 細胞の直和になるとき、これを A の Jordan 標準形と呼ぶ。",
            "text/plain": [
              "<IPython.core.display.Latex object>"
            ]
          },
          "metadata": {
            "tags": []
          }
        }
      ]
    },
    {
      "cell_type": "markdown",
      "metadata": {
        "id": "wdOsVm25xi6O"
      },
      "source": [
        "# 二項関係\n"
      ]
    },
    {
      "cell_type": "markdown",
      "metadata": {
        "id": "kyKAHNQ0qTLo"
      },
      "source": [
        "\n",
        "\n",
        "**定義 1** 集合 $X$ 上の二項関係 $\\rho$ について、次の性質を考える。\n",
        "\n",
        "1. すべての $x \\in X$ について、$x \\;\\rho\\; x$ が成り立つ。(反射律)\n",
        "\n",
        "1. $x, y \\in X$ について、$x \\;\\rho\\; y$ ならば $y \\;\\rho\\; x$ が成り立つ。(対称律)\n",
        "\n",
        "1. $x, y, z \\in X$ について、$x \\;\\rho\\; y$ かつ $y \\;\\rho\\; z$ ならば $x \\;\\rho\\; z$ が成り立つ。(推移律)\n",
        "\n",
        "1. $x, y \\in X$ について、$x \\;\\rho\\; y$ かつ $y \\;\\rho\\; x$ ならば $x = y$ が成り立つ。(反対称律)\n",
        "\n",
        "性質 $\\it{1, 2, 3}$ を満たす二項関係を**同値関係**と呼び、性質 $\\it{1, 3, 4}$ を満たす二項関係を**順序関係**と呼ぶ。"
      ]
    },
    {
      "cell_type": "code",
      "metadata": {
        "colab": {
          "base_uri": "https://localhost:8080/",
          "height": 146
        },
        "id": "vPJ7sqxYSIxz",
        "outputId": "b865a903-e038-41fb-c5c1-a81064553138"
      },
      "source": [
        "%%latex\n",
        "定義 1 集合 X 上の二項関係 \\;\\rho\\; について、次の性質を考える。\\\\\n",
        "\n",
        "1. すべての x \\in X について、x \\;\\rho\\; x が成り立つ。(反射律) \\\\\n",
        "2. x, y \\in X について、x \\;\\rho\\; y ならば y \\;\\rho\\; x が成り立つ。(対称律) \\\\\n",
        "3. x, y, z \\in X について、x \\;\\rho\\; y かつ y \\;\\rho\\; z ならば x \\;\\rho\\; z が成り立つ。(推移律) \\\\\n",
        "4. x, y \\in X について、x \\;\\rho\\; y かつ y \\;\\rho\\; x ならば x = y が成り立つ。(反対称律) \\\\\n",
        "性質 \\it{1, 2, 3} を満たす二項関係を同値関係と呼び、性質 \\it{1, 3, 4} を満たす二項関係を順序関係と呼ぶ。 \\\\"
      ],
      "execution_count": 28,
      "outputs": [
        {
          "output_type": "display_data",
          "data": {
            "text/latex": "定義 1 集合 X 上の二項関係 \\;\\rho\\; について、次の性質を考える。\\\\\n\n1. すべての x \\in X について、x \\;\\rho\\; x が成り立つ。(反射律) \\\\\n2. x, y \\in X について、x \\;\\rho\\; y ならば y \\;\\rho\\; x が成り立つ。(対称律) \\\\\n3. x, y, z \\in X について、x \\;\\rho\\; y かつ y \\;\\rho\\; z ならば x \\;\\rho\\; z が成り立つ。(推移律) \\\\\n4. x, y \\in X について、x \\;\\rho\\; y かつ y \\;\\rho\\; x ならば x = y が成り立つ。(反対称律) \\\\\n性質 \\it{1, 2, 3} を満たす二項関係を同値関係と呼び、性質 \\it{1, 3, 4} を満たす二項関係を順序関係と呼ぶ。 \\\\",
            "text/plain": [
              "<IPython.core.display.Latex object>"
            ]
          },
          "metadata": {
            "tags": []
          }
        }
      ]
    },
    {
      "cell_type": "markdown",
      "metadata": {
        "id": "AhnMk_wTnkZU"
      },
      "source": [
        "# 集合の内包表記 set comprehension"
      ]
    },
    {
      "cell_type": "markdown",
      "metadata": {
        "id": "xfp5HeQy57fH"
      },
      "source": [
        "参考 集合で習う集合の内包表記は数式で次の様に書く。\n",
        "\n",
        "$\n",
        "S= \\{2x \\mid x \\in  \\mathbb{N}, \\ x \\leq 10 \\}\n",
        "$\n",
        "\n",
        "プログラミングでは list comprehension と言うと思うが。\n"
      ]
    },
    {
      "cell_type": "code",
      "metadata": {
        "id": "FPRji7FKkpWg",
        "colab": {
          "base_uri": "https://localhost:8080/",
          "height": 38
        },
        "outputId": "ab706d6d-8b04-4c67-a653-e47d36ccc43a"
      },
      "source": [
        "# 参考 集合で習う集合の内包表記は数式で次の様に書く。\n",
        "%%latex\n",
        "\n",
        "S= \\{2x \\mid x \\in  \\mathbb{N}, \\ x \\leq 10 \\}\n"
      ],
      "execution_count": 29,
      "outputs": [
        {
          "output_type": "display_data",
          "data": {
            "text/latex": "\nS= \\{2x \\mid x \\in  \\mathbb{N}, \\ x \\leq 10 \\}",
            "text/plain": [
              "<IPython.core.display.Latex object>"
            ]
          },
          "metadata": {
            "tags": []
          }
        }
      ]
    },
    {
      "cell_type": "markdown",
      "metadata": {
        "id": "4shZRzUt7YUh"
      },
      "source": [
        "# 練習問題"
      ]
    },
    {
      "cell_type": "markdown",
      "metadata": {
        "id": "OjewVaDU7a0u"
      },
      "source": [
        "---\n",
        "2 次方程式\n",
        "$$ ax^{2}+bx+c=0 $$ \n",
        "の解は\n",
        "$$ x = \\frac{-b\\pm\\sqrt{b^{2}-4ac}}{2a} \\tag{1}$$\n",
        "である。"
      ]
    },
    {
      "cell_type": "markdown",
      "metadata": {
        "id": "x9LkU-cj76aw"
      },
      "source": [
        "---\n",
        "総和記号 シグマ はこんな感じ。\n",
        "\n",
        "$$\\sum_{k=1}^{n} a_{k} = a_{1} + a_{2} + \\dots + a_{n}$$"
      ]
    },
    {
      "cell_type": "markdown",
      "metadata": {
        "id": "iyzcwrXD8SUc"
      },
      "source": [
        "---\n",
        "ガウス積分\n",
        "\n",
        "$$\n",
        "\\int_{-\\infty}^{\\infty} e^{-x^{2}} \\, dx = \\sqrt{\\pi}\n",
        "$$"
      ]
    },
    {
      "cell_type": "markdown",
      "metadata": {
        "id": "Naejv7f18izy"
      },
      "source": [
        "---\n",
        "関数 $f(x)$ の導関数は\n",
        "$$\n",
        "f’(x) = \\lim_{\\varDelta x \\to 0} \\frac{ f(x+\\varDelta x) - f(x) }{\\varDelta x}$$\n",
        "である。"
      ]
    },
    {
      "cell_type": "markdown",
      "metadata": {
        "id": "zxOq4jQm80yi"
      },
      "source": [
        "---\n",
        "三角関数の積分\n",
        "\n",
        "$$\\int \\tan\\theta \\, d\\theta = \\int \\frac{\\sin\\theta}{\\cos\\theta} \\, d\\theta= -\\log |\\cos\\theta| + C$$"
      ]
    },
    {
      "cell_type": "markdown",
      "metadata": {
        "id": "CZnsrL8d9JfQ"
      },
      "source": [
        "---\n",
        "式の変形\n",
        "$$\n",
        "\\begin{align}\\cos 2\\theta &= \\cos^{2} \\theta - \\sin^{2} \\theta \\\\&= 2\\cos^{2} \\theta - 1 \\\\&= 1 - 2\\sin^{2} \\theta\\end{align}\n",
        "$$"
      ]
    },
    {
      "cell_type": "markdown",
      "metadata": {
        "id": "rQtOs73i9bor"
      },
      "source": [
        "---\n",
        "片括弧、大括弧、大波括弧、cases\n",
        "\n",
        "$$\n",
        "|x| = \n",
        "\\begin{cases}\n",
        "fx  & x \\ge 0のとき\\\\\n",
        "-x & x \\lt 0のとき\n",
        "\\end{cases}\\\n",
        "$$"
      ]
    },
    {
      "cell_type": "markdown",
      "metadata": {
        "id": "wxpJ6Uc5-F_0"
      },
      "source": [
        "---\n",
        "行列 $n \\times n$ 行列\n",
        "\n",
        "$$A =\\begin{pmatrix}\n",
        "a_{11} & a_{12} & \\ldots & a_{1n} \\\\\n",
        "a_{21} & a_{22} & \\ldots & a_{2n} \\\\\n",
        "\\vdots & \\vdots & \\ddots & \\vdots \\\\\n",
        "a_{n1} & a_{n2} & \\ldots & a_{nn}\n",
        "\\end{pmatrix} $$\n",
        "\n",
        "が逆行列 $A^{-1}$ をもつための必要十分条件は、$ \\det A \\neq 0 $ である。"
      ]
    },
    {
      "cell_type": "markdown",
      "metadata": {
        "id": "S93wTZ1M-xs5"
      },
      "source": [
        "---\n",
        "行列を囲む括弧のいろいろ\n",
        "\n",
        "丸括弧、角括弧、波括弧、縦棒、 二重の縦棒括弧なし\n",
        "\n",
        "$$\n",
        "\\begin{pmatrix}\n",
        "a & b \\\\\n",
        "c & d\n",
        "\\end{pmatrix},\\;\n",
        "\\begin{bmatrix}\n",
        "a & b \\\\\n",
        "c & d\n",
        "\\end{bmatrix},\\;\n",
        "\\begin{Bmatrix}\n",
        "a & b \\\\\n",
        "c & d\n",
        "\\end{Bmatrix},\\;\n",
        "\\begin{vmatrix}\n",
        "a & b \\\\\n",
        "c & d\n",
        "\\end{vmatrix},\\;\n",
        "\\begin{Vmatrix}\n",
        "a & b \\\\\n",
        "c & d\n",
        "\\end{Vmatrix},\\;\n",
        "\\begin{matrix}\n",
        "a & b \\\\\n",
        "c & d\n",
        "\\end{matrix}\n",
        "$$\n",
        "\n",
        "\n",
        "\n"
      ]
    },
    {
      "cell_type": "markdown",
      "metadata": {
        "id": "-tyh02f43Ae7"
      },
      "source": [
        "---\n",
        "$$"
      ]
    },
    {
      "cell_type": "markdown",
      "metadata": {
        "id": "8v77Lobj24tk"
      },
      "source": [
        "# マクロの定義\n",
        "$$\n",
        "\\def\\RR{{\\mathbb R}}\n",
        "\\def\\bol#1{{\\bf #1}}\n",
        "\\RR \\\\\n",
        "\\bol {crazy\\;rich\\;tycoon}\\\\\n",
        "\\def \\x {\\times}\n",
        "3 \\x 3 = 9\\\\\n",
        "\\def\\dd#1#2{\\frac{\\partial #1}{\\partial #2}}\n",
        "\\dd{x}{y}\n",
        "$$"
      ]
    },
    {
      "cell_type": "code",
      "metadata": {
        "colab": {
          "base_uri": "https://localhost:8080/",
          "height": 101
        },
        "id": "O08Otvp-4xTe",
        "outputId": "a39f4f92-0bd5-4f33-e955-b57f02ebf1c0"
      },
      "source": [
        "%%latex\n",
        "\\def\\RR{{\\mathbb R}}\n",
        "\\def\\bol#1{{\\bf #1}}\n",
        "\\RR \\\\\n",
        "\\bol {crazy\\;rich\\;tycoon}\\\\\n",
        "\\def \\x {\\times}\n",
        "3 \\x 3 = 9\\\\\n",
        "\\def\\dd#1#2{\\frac{\\partial #1}{\\partial #2}}\n",
        "\\dd{x}{y}"
      ],
      "execution_count": 31,
      "outputs": [
        {
          "output_type": "display_data",
          "data": {
            "text/latex": "\\def\\RR{{\\mathbb R}}\n\\def\\bol#1{{\\bf #1}}\n\\RR \\\\\n\\bol {crazy\\;rich\\;tycoon}\\\\\n\\def \\x {\\times}\n3 \\x 3 = 9\\\\\n\\def\\dd#1#2{\\frac{\\partial #1}{\\partial #2}}\n\\dd{x}{y}",
            "text/plain": [
              "<IPython.core.display.Latex object>"
            ]
          },
          "metadata": {
            "tags": []
          }
        }
      ]
    },
    {
      "cell_type": "markdown",
      "metadata": {
        "id": "i1JHh7jU9DWs"
      },
      "source": [
        "---\n",
        "ベクトル場 $\\boldsymbol B (x,y,z)$ が\n",
        "\n",
        "$$\n",
        "\\def \\x {\\times}\n",
        "\\boldsymbol B = \\nabla \\x\\boldsymbol A \\tag{1.1}\n",
        "$$\n",
        "\n",
        "という形に書ける時、その発散\n",
        "\n",
        "$$\n",
        "\\def\\dd#1#2{\\frac{\\partial #1}{\\partial #2}}\n",
        "\\nabla \\cdot\\boldsymbol{B} = \\dd{B_{x}}{x} + \\dd{B_{y}}{y} + \\dd{B_{z}}{z} \\tag{1.2}\n",
        "$$\n",
        "\n",
        "は $0$ になる。 式 (1.1) に現れる $\\boldsymbol{A,B}$ をベクトルポテンシャルと言う。"
      ]
    },
    {
      "cell_type": "markdown",
      "metadata": {
        "id": "eTuJPZyhBovE"
      },
      "source": [
        "# 演習問題"
      ]
    },
    {
      "cell_type": "markdown",
      "metadata": {
        "id": "_qZAgjXWBsIQ"
      },
      "source": [
        "---\n",
        "オイラーの公式\n",
        "\n",
        "$$\n",
        "e^{i\\theta}=\\cos \\theta + i \\sin \\theta\n",
        "$$"
      ]
    },
    {
      "cell_type": "markdown",
      "metadata": {
        "id": "LGnsooTrD4ce"
      },
      "source": [
        "---\n",
        "テイラー展開\n",
        "\n",
        "$$\n",
        "f(x) = \\sum^\\infty_{n=0}\\frac{f^{(n)}(a)}{n !} (x-a)^n\n",
        "$$"
      ]
    },
    {
      "cell_type": "markdown",
      "metadata": {
        "id": "A213i1e-ETtW"
      },
      "source": [
        "---\n",
        "正規分布\n",
        "\n",
        "$$\n",
        "f(x)=\\frac 1 {\\sqrt{2\\pi \\sigma^2}}\\exp\\left (-\\frac{(x-\\mu)^2}{2\\sigma^2}\\right)\n",
        "$$"
      ]
    },
    {
      "cell_type": "markdown",
      "metadata": {
        "id": "P8X97epME1KG"
      },
      "source": [
        "---\n",
        "ニュートンの運動方程式\n",
        "\n",
        "$$\n",
        "m \\frac{d^2 \\overrightarrow r}{d t^2}=\\overrightarrow F\n",
        "$$"
      ]
    },
    {
      "cell_type": "markdown",
      "metadata": {
        "id": "nRGuh4uhFk26"
      },
      "source": [
        "---\n",
        "ラグランジュの運動方程式\n",
        "\n",
        "$$\n",
        "\\frac d {dt}\\left(\\frac{\\partial \\mathcal L}{\\partial \\dot q} \\right) - \\frac{\\partial \\mathcal L}{\\partial q} = 0\n",
        "$$"
      ]
    },
    {
      "cell_type": "markdown",
      "metadata": {
        "id": "ZqHc-lbcG6TN"
      },
      "source": [
        "---\n",
        "フーリエ変換\n",
        "\n",
        "$$\n",
        "\\hat f (\\xi) = \\int_{\\mathbb R ^n} f(x) e ^{-2 \\pi i x \\cdot \\xi} dx\n",
        "$$\n"
      ]
    },
    {
      "cell_type": "markdown",
      "metadata": {
        "id": "eWP7JAJTN3NS"
      },
      "source": [
        "---\n",
        "コーシーの積分方程式\n",
        "\n",
        "$$\n",
        "f(\\alpha)=\\frac 1 {2\\pi i} \\oint_C \\frac{f(z)}{z - \\alpha} d z\n",
        "$$\n"
      ]
    },
    {
      "cell_type": "markdown",
      "metadata": {
        "id": "JmCqkH7bPyoP"
      },
      "source": [
        "---\n",
        "ガウスの定理\n",
        "\n",
        "$$\n",
        "\\iiint_V \\nabla \\cdot\\boldsymbol A \\; dV = \\iint_{\\partial V}\\boldsymbol A \\cdot\\boldsymbol n \\; dS\n",
        "$$"
      ]
    },
    {
      "cell_type": "markdown",
      "metadata": {
        "id": "ZcC6f0L8QCdI"
      },
      "source": [
        "---\n",
        "シュレーディンガー方程式\n",
        "\n",
        "$$\n",
        "i \\hbar \\frac \\partial {\\partial t} \\psi (r,t) = \\left (-\\frac{\\hbar}{2m}\\nabla^2+V(r,t) \\right)\\psi(r,t)\n",
        "$$\n",
        "\n"
      ]
    },
    {
      "cell_type": "markdown",
      "metadata": {
        "id": "OnAjq5rtSoeJ"
      },
      "source": [
        "---\n",
        "メモ $\\quad$ 上記では `\\left (, \\right )` を使ったが、\n",
        "* \\bigl,\\Bigl,\\biggl,\\Biggl\n",
        "* \\bigr,\\Bigr,\\biggr,\\Biggr\n",
        "* \\bigm,\\Bigm,\\biggm,\\Biggm \\\\\n",
        "という体系もある。\n"
      ]
    },
    {
      "cell_type": "markdown",
      "metadata": {
        "id": "jwDYJZcxSuNg"
      },
      "source": [
        "---\n",
        "熱化学方程式\n",
        "\n",
        "$$\n",
        "\\mathrm{H_2(g) + {1 \\over 2} O_2(g) \\rightarrow H_2O(l)} \\quad \\varDelta H^\\circ = -286\\mathrm{kJ}\n",
        "$$\n"
      ]
    },
    {
      "cell_type": "markdown",
      "metadata": {
        "id": "zpfjUgFEUg3W"
      },
      "source": [
        "集合記号・内包表記 list comprehension\n",
        "\n",
        "$$\n",
        "A \\cap B = \\{x \\;|\\; x \\in A \\land x \\in B\\}\n",
        "$$\n",
        "\n"
      ]
    },
    {
      "cell_type": "markdown",
      "metadata": {
        "id": "vsFTu0dCXMIw"
      },
      "source": [
        "---\n",
        "メモ \n",
        "* \\\\{ , \\\\}： $\\{$, $\\}$ 波括弧だけでは表示されない\n",
        "* \\cap, \\cup, \\wedge, \\land, \\lor, \\vee：$\\cap, \\cup, \\wedge, \\land, \\lor, \\vee$\n",
        "* \\in, \\ni, \\notin, \\subset, \\supset：$\\in, \\ni, \\notin, \\subset, \\supset$\n",
        "* \\emptyset, \\forall, \\exists, \\neg：$\\emptyset, \\forall, \\exists, \\neg$"
      ]
    },
    {
      "cell_type": "markdown",
      "metadata": {
        "id": "ziufWRbrXPXM"
      },
      "source": [
        "---\n",
        "二項係数\n",
        "\n",
        "$$\n",
        "{}_n C_r = \\binom n r = \\frac{n!}{r! (n-r)!}\n",
        "$$"
      ]
    },
    {
      "cell_type": "markdown",
      "metadata": {
        "id": "0976DB5hXkPU"
      },
      "source": [
        "---\n",
        "マクスウェル方程式\n",
        "\n",
        "$$\n",
        "\\begin{array}{ll}\n",
        "\\displaystyle\n",
        "\\nabla \\cdot E = \\frac \\rho {\\varepsilon_0},\n",
        "&\\qquad\n",
        "\\displaystyle\n",
        "\\nabla \\cdot E = - \\frac {\\partial B}{\\partial t}\\\\\n",
        "\\nabla \\cdot B = 0,\n",
        "&\\qquad\n",
        "\\nabla \\cdot B = \\mu_0 i + \\displaystyle \\frac 1 {c^2} \\frac {\\partial E}{\\partial t}\n",
        "\\end{array}\n",
        "$$"
      ]
    }
  ]
}