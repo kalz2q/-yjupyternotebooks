{
  "nbformat": 4,
  "nbformat_minor": 0,
  "metadata": {
    "kernelspec": {
      "display_name": "Python 3",
      "language": "python",
      "name": "python3"
    },
    "language_info": {
      "codemirror_mode": {
        "name": "ipython",
        "version": 3
      },
      "file_extension": ".py",
      "mimetype": "text/x-python",
      "name": "python",
      "nbconvert_exporter": "python",
      "pygments_lexer": "ipython3",
      "version": "3.6.6"
    },
    "toc": {
      "base_numbering": 1,
      "nav_menu": {},
      "number_sections": true,
      "sideBar": true,
      "skip_h1_title": false,
      "title_cell": "Table of Contents",
      "title_sidebar": "Contents",
      "toc_cell": false,
      "toc_position": {
        "height": "calc(100% - 180px)",
        "left": "10px",
        "top": "150px",
        "width": "336.903px"
      },
      "toc_section_display": true,
      "toc_window_display": true
    },
    "colab": {
      "name": "learnlatex.ipynb",
      "provenance": [],
      "include_colab_link": true
    }
  },
  "cells": [
    {
      "cell_type": "markdown",
      "metadata": {
        "id": "view-in-github",
        "colab_type": "text"
      },
      "source": [
        "<a href=\"https://colab.research.google.com/github/kalz2q/mycolabnotebooks/blob/master/learnlatex.ipynb\" target=\"_parent\"><img src=\"https://colab.research.google.com/assets/colab-badge.svg\" alt=\"Open In Colab\"/></a>"
      ]
    },
    {
      "cell_type": "markdown",
      "metadata": {
        "id": "xo3SY1AXB0lJ",
        "colab_type": "text"
      },
      "source": [
        "# $\\LaTeX$\n",
        "なんちゃって。20190129にtexのことを調べようとしたらこんなノートがあったので開いてみているところ。\n",
        "\n",
        "なにかテキストがあるのだろうがどうだろう。"
      ]
    },
    {
      "cell_type": "markdown",
      "metadata": {
        "id": "qu7tG18PB0lL",
        "colab_type": "text"
      },
      "source": [
        "# jupyter notebookでlatexの勉強\n",
        "最初の例  \n",
        "簡単な数式 (1)  \n",
        "簡単な数式 (2)  \n",
        "各種パッケージの利用  \n",
        "レポート  \n",
        "HTML と LaTeX の比較  \n",
        "複雑な数式  \n",
        "図表  \n",
        "図表の配置  \n",
        "相互参照とリンク  \n",
        "文献引用  \n",
        "索引作成  \n",
        "LaTeX マクロの作成  \n",
        "スライドの作り方（jsarticle 編）  \n",
        "応用的な使い方  \n",
        "発展編：最近の LaTeX の動向  "
      ]
    },
    {
      "cell_type": "markdown",
      "metadata": {
        "id": "gS-20EZ4B0lL",
        "colab_type": "text"
      },
      "source": [
        "# 簡単な数式"
      ]
    },
    {
      "cell_type": "markdown",
      "metadata": {
        "id": "sDmwNKt9B0lM",
        "colab_type": "text"
      },
      "source": [
        "```\n",
        "\\begin{equation}\n",
        "  E = mc^{2}\n",
        "\\end{equation}\n",
        "```"
      ]
    },
    {
      "cell_type": "markdown",
      "metadata": {
        "id": "qyfSRFraB0lN",
        "colab_type": "text"
      },
      "source": [
        "\\begin{equation}\n",
        "  E = mc^{2}\n",
        "\\end{equation}"
      ]
    },
    {
      "cell_type": "markdown",
      "metadata": {
        "id": "VQ5cdQKxB0lO",
        "colab_type": "text"
      },
      "source": [
        "ここに $c$ は光速で"
      ]
    },
    {
      "cell_type": "markdown",
      "metadata": {
        "id": "WzahWXU4B0lO",
        "colab_type": "text"
      },
      "source": [
        "```\n",
        "\\begin{equation}\n",
        "  c = 299{,}792{,}458 \\, \\mathrm{m/s}\n",
        "\\end{equation}```"
      ]
    },
    {
      "cell_type": "markdown",
      "metadata": {
        "id": "p4LWWXE5B0lP",
        "colab_type": "text"
      },
      "source": [
        "\\begin{equation}\n",
        "  c = 299{,}792{,}458 \\, \\mathrm{m/s}\n",
        "\\end{equation}"
      ]
    },
    {
      "cell_type": "markdown",
      "metadata": {
        "id": "CI1UTOY3B0lP",
        "colab_type": "text"
      },
      "source": [
        "### 質問 数式のカンマは自動ではいらないか。\n",
        "### `\\mathrm, \\mathcal, \\mathfrak, \\mathit`\n",
        "### jupyter notebookのセルを自動でMarkdownにできないか。\n",
        "### \\begin{equation}のequationはなにか。\n",
        "### スペースの長さのコントロールはどうするか。"
      ]
    },
    {
      "cell_type": "markdown",
      "metadata": {
        "id": "iWEqU5iJB0lQ",
        "colab_type": "text"
      },
      "source": [
        "これをもっと簡単にいれられないか。"
      ]
    },
    {
      "cell_type": "markdown",
      "metadata": {
        "id": "xdjnP7eTB0lR",
        "colab_type": "text"
      },
      "source": [
        "```\n",
        "$$\n",
        "  \\frac{\\pi}{2} =\n",
        "  \\left( \\int_{0}^{\\infty} \\frac{\\sin x}{\\sqrt{x}} dx \\right)^2 =\n",
        "  \\sum_{k=0}^{\\infty} \\frac{(2k)!}{2^{2k}(k!)^2} \\frac{1}{2k+1} =\n",
        "  \\prod_{k=1}^{\\infty} \\frac{4k^2}{4k^2 - 1}\n",
        "$$```"
      ]
    },
    {
      "cell_type": "markdown",
      "metadata": {
        "id": "bAmzFwYWB0lS",
        "colab_type": "text"
      },
      "source": [
        "$$\n",
        "  \\frac{\\pi}{2} =\n",
        "  \\left( \\int_{0}^{\\infty} \\frac{\\sin x}{\\sqrt{x}} dx \\right)^2 =\n",
        "  \\sum_{k=0}^{\\infty} \\frac{(2k)!}{2^{2k}(k!)^2} \\frac{1}{2k+1} =\n",
        "  \\prod_{k=1}^{\\infty} \\frac{4k^2}{4k^2 - 1}\n",
        "$$"
      ]
    },
    {
      "cell_type": "markdown",
      "metadata": {
        "id": "fqM_iuIfB0lS",
        "colab_type": "text"
      },
      "source": [
        "\\usepackage{multicol}\n",
        "\\begin{multicols}{3}\n",
        "ここは三段組み。\n",
        "でも三段組みにするためにはもっと長い例文が必要なので，意味も無いことをここにだらだら書き連ねています。\n",
        "このくらい書けば三段に分かれて組み上げられるでしょうか？\n",
        "\\end{multicols}\n",
        "\n",
        "パッケージはつかえないみたい。"
      ]
    },
    {
      "cell_type": "markdown",
      "metadata": {
        "id": "FbVx5XVeB0lT",
        "colab_type": "text"
      },
      "source": [
        "```\n",
        "\\begin{equation*}\n",
        "  A = \\begin{pmatrix}\n",
        "        a_{11} & \\ldots & a_{1n} \\\\\n",
        "        \\vdots & \\ddots & \\vdots \\\\\n",
        "        a_{m1} & \\ldots & a_{mn}\n",
        "      \\end{pmatrix}\n",
        "\\end{equation*}```"
      ]
    },
    {
      "cell_type": "markdown",
      "metadata": {
        "id": "ISRr4u7WB0lT",
        "colab_type": "text"
      },
      "source": [
        "\\begin{equation*}\n",
        "  A = \\begin{pmatrix}\n",
        "        a_{11} & \\ldots & a_{1n} \\\\\n",
        "        \\vdots & \\ddots & \\vdots \\\\\n",
        "        a_{m1} & \\ldots & a_{mn}\n",
        "      \\end{pmatrix}\n",
        "\\end{equation*}"
      ]
    },
    {
      "cell_type": "markdown",
      "metadata": {
        "id": "z-64YVjBB0lU",
        "colab_type": "text"
      },
      "source": [
        "## 数式記号一覧\n",
        "複雑な数式記号の一覧を表にしたものを PDF 形式でリンクしておきます。  \n",
        "\n",
        "数式記号一覧 (PDF, 120K) [CTAN の symbols.tex を日本語にしたものです]  \n",
        "もっと実例が豊富な解説をリンクしておきます（ただし英語）。  \n",
        "\n",
        "AMS-LaTeX (American Mathematical Society) : 特にこの中の Short Math Guide for LaTeX  \n",
        "Higher Mathematics (LaTeX Companion の第8章; PDF 631K)  \n",
        "Herbert Voss's Math mode (LaTeX や AMSmath の数式モード解説のほか，Part III には数式組版にかかわる TeX のプリミティブ小事典があります。)  \n",
        "また，数式中でよく用いられるギリシャ文字・ドイツ文字・花文字・筆記体の出力法が以下にまとめられています。  \n",
        "\n",
        "ギリシャ文字, ドイツ文字, 花文字, 筆記体の TeX 表記をまとめておいた  "
      ]
    },
    {
      "cell_type": "markdown",
      "metadata": {
        "id": "w-cRW9IRB0lV",
        "colab_type": "text"
      },
      "source": [
        ""
      ]
    },
    {
      "cell_type": "markdown",
      "metadata": {
        "id": "AhlKfTE8B0lV",
        "colab_type": "text"
      },
      "source": [
        "# とりあえずここまで"
      ]
    },
    {
      "cell_type": "markdown",
      "metadata": {
        "id": "Js94s7TEB0lW",
        "colab_type": "text"
      },
      "source": [
        ""
      ]
    },
    {
      "cell_type": "markdown",
      "metadata": {
        "id": "TYQHM1ooB0lW",
        "colab_type": "text"
      },
      "source": [
        ""
      ]
    },
    {
      "cell_type": "markdown",
      "metadata": {
        "id": "4toDP7eNB0lX",
        "colab_type": "text"
      },
      "source": [
        ""
      ]
    },
    {
      "cell_type": "markdown",
      "metadata": {
        "id": "oO7GQdXcB0lX",
        "colab_type": "text"
      },
      "source": [
        ""
      ]
    },
    {
      "cell_type": "markdown",
      "metadata": {
        "id": "OZPoXHAuB0lY",
        "colab_type": "text"
      },
      "source": [
        ""
      ]
    },
    {
      "cell_type": "markdown",
      "metadata": {
        "id": "r4liDNw_B0lY",
        "colab_type": "text"
      },
      "source": [
        ""
      ]
    },
    {
      "cell_type": "markdown",
      "metadata": {
        "id": "kJu9YIY_B0lZ",
        "colab_type": "text"
      },
      "source": [
        ""
      ]
    },
    {
      "cell_type": "markdown",
      "metadata": {
        "id": "z6PutoucB0lZ",
        "colab_type": "text"
      },
      "source": [
        ""
      ]
    },
    {
      "cell_type": "markdown",
      "metadata": {
        "id": "Rp6blNK3B0lc",
        "colab_type": "text"
      },
      "source": [
        ""
      ]
    }
  ]
}