{
  "nbformat": 4,
  "nbformat_minor": 0,
  "metadata": {
    "colab": {
      "name": "020kagglepythonfunction001.ipynb",
      "provenance": [],
      "toc_visible": true,
      "authorship_tag": "ABX9TyNqJCkGu6VEtmTe2R6YBNEy",
      "include_colab_link": true
    },
    "kernelspec": {
      "name": "python3",
      "display_name": "Python 3"
    }
  },
  "cells": [
    {
      "cell_type": "markdown",
      "metadata": {
        "id": "view-in-github",
        "colab_type": "text"
      },
      "source": [
        "<a href=\"https://colab.research.google.com/github/kalz2q/myjupyternotebooks/blob/master/020kagglepythonfunction001.ipynb\" target=\"_parent\"><img src=\"https://colab.research.google.com/assets/colab-badge.svg\" alt=\"Open In Colab\"/></a>"
      ]
    },
    {
      "cell_type": "markdown",
      "metadata": {
        "id": "NQwRTni4u7L9",
        "colab_type": "text"
      },
      "source": [
        "# 関数の使い方と作り方\n",
        "\n",
        "cf. https://www.kaggle.com/colinmorris/functions-and-getting-help\n",
        "\n",
        "これから関数について、学びますが、もし忘れたらどうしますか？\n",
        "\n",
        "関数 help()というとても便利な関数があるのでまずこれから覚えましょう。\n",
        "\n"
      ]
    },
    {
      "cell_type": "code",
      "metadata": {
        "id": "hh_shkHFwDEB",
        "colab_type": "code",
        "colab": {
          "base_uri": "https://localhost:8080/",
          "height": 168
        },
        "outputId": "5f3f937b-b240-44a3-f4ae-97ad94449db1"
      },
      "source": [
        "help(round)"
      ],
      "execution_count": null,
      "outputs": [
        {
          "output_type": "stream",
          "text": [
            "Help on built-in function round in module builtins:\n",
            "\n",
            "round(...)\n",
            "    round(number[, ndigits]) -> number\n",
            "    \n",
            "    Round a number to a given precision in decimal digits (default 0 digits).\n",
            "    This returns an int when called with one argument, otherwise the\n",
            "    same type as the number. ndigits may be negative.\n",
            "\n"
          ],
          "name": "stdout"
        }
      ]
    },
    {
      "cell_type": "markdown",
      "metadata": {
        "id": "YJQ0unk4wBLj",
        "colab_type": "text"
      },
      "source": [
        "## help(round)の結果についての説明\n",
        "\n",
        "round(number[, ndigits]). \n",
        "\n",
        "最初に示されるこの意味は、関数round()は引数としてnumberを取り、必要に応じてndigitsを取る、ということです。\n",
        "\n",
        "あと英語による簡単な説明があってその中で引数について言及があります。関数round()の場合、\n",
        "\n",
        ">>\n",
        "与えられた精度でnumberを四捨五入する。精度の桁数はデフォルトは0なので、引数が1つのとき、整数intが返される。それ以外の場合は返される数字の型は引数と同じ型になる。ndigitsはマイナスも可能である。\n",
        ">>\n",
        "\n",
        "というような説明があります。\n",
        "\n",
        "次のコードを実行してみて下さい。\n",
        "\n",
        "* help(round(-2.01))\n",
        "\n",
        "* round(3.12345455, -2)\n",
        "* round(1234567, 3)\n",
        "* round(1234567, -3)\n",
        "\n",
        "他の関数についてもhelp()を実行してみましょう\n",
        "\n",
        "* help(abs()\n"
      ]
    },
    {
      "cell_type": "code",
      "metadata": {
        "id": "iih6tuCv-ttI",
        "colab_type": "code",
        "colab": {}
      },
      "source": [
        "help(round(-2.01))"
      ],
      "execution_count": null,
      "outputs": []
    },
    {
      "cell_type": "markdown",
      "metadata": {
        "id": "oElBQcyFvTEa",
        "colab_type": "text"
      },
      "source": [
        "round()は単純で説明の短い関数でした。\n",
        "\n",
        "関数print()の場合、print()が複雑でいろんな使い方ができるので、help()の結果も長くなります。いまの段階では出力がわからなくても気にしないで下さい。なにかわかること、役に立つことがあるかどうか見る、というのがいいでしょう。\n"
      ]
    },
    {
      "cell_type": "code",
      "metadata": {
        "id": "t9Yi6mx1DEl0",
        "colab_type": "code",
        "colab": {
          "base_uri": "https://localhost:8080/",
          "height": 225
        },
        "outputId": "91761007-965a-499a-d8c1-fd2f9f7cb24f"
      },
      "source": [
        "help(print)"
      ],
      "execution_count": null,
      "outputs": [
        {
          "output_type": "stream",
          "text": [
            "Help on built-in function print in module builtins:\n",
            "\n",
            "print(...)\n",
            "    print(value, ..., sep=' ', end='\\n', file=sys.stdout, flush=False)\n",
            "    \n",
            "    Prints the values to a stream, or to sys.stdout by default.\n",
            "    Optional keyword arguments:\n",
            "    file:  a file-like object (stream); defaults to the current sys.stdout.\n",
            "    sep:   string inserted between values, default a space.\n",
            "    end:   string appended after the last value, default a newline.\n",
            "    flush: whether to forcibly flush the stream.\n",
            "\n"
          ],
          "name": "stdout"
        }
      ]
    },
    {
      "cell_type": "markdown",
      "metadata": {
        "id": "G9Y6EMsCDDOH",
        "colab_type": "text"
      },
      "source": [
        "例えば、print()はsepという名前の引数を取り、出力と出力のの間にsepの値が挿入されることがわかります。\n"
      ]
    },
    {
      "cell_type": "markdown",
      "metadata": {
        "id": "Bp-NDXZZDkII",
        "colab_type": "text"
      },
      "source": [
        "# 関数を定義する\n",
        "ビルトイン関数だけはできることが限られますので、関数を定義できるようになっています。\n",
        "\n",
        "次の例を見てみましょう。"
      ]
    },
    {
      "cell_type": "code",
      "metadata": {
        "id": "ZW7E53HqEX05",
        "colab_type": "code",
        "colab": {
          "base_uri": "https://localhost:8080/",
          "height": 35
        },
        "outputId": "8a29089f-9f8a-4296-adc5-20570797f95e"
      },
      "source": [
        "def least_difference(a, b, c):\n",
        "    \"\"\"Return the smallest difference between any two numbers among a, b and c.\n",
        "    >>> least_difference(1, 5, -5)\n",
        "    4\n",
        "    \"\"\"\n",
        "    diff1 = abs(a - b)\n",
        "    diff2 = abs(b - c)\n",
        "    diff3 = abs(a - c)\n",
        "    return min(diff1, diff2, diff3)\n",
        "\n",
        "least_difference(10, 3, 5)"
      ],
      "execution_count": null,
      "outputs": [
        {
          "output_type": "execute_result",
          "data": {
            "text/plain": [
              "2"
            ]
          },
          "metadata": {
            "tags": []
          },
          "execution_count": 17
        }
      ]
    },
    {
      "cell_type": "markdown",
      "metadata": {
        "id": "Z0nAug7PERV9",
        "colab_type": "text"
      },
      "source": [
        "ここではleast_difference()という関数が作られています。3つの引数a, b, cを取ります。\n",
        "\n",
        "関数の定義は`def`というキーワードで始まります。`:`のあとのインデントブロックが関数定義の本体です。\n",
        "\n",
        "Pythonはキーワード`return`で関数を抜け、`return`のあとにある値を返り値として関数を呼び出したプログラムに戻ります。\n",
        "\n",
        "次の例ｗ実行して見て下さい\n"
      ]
    },
    {
      "cell_type": "code",
      "metadata": {
        "id": "cHi7tu7GF7Mf",
        "colab_type": "code",
        "colab": {
          "base_uri": "https://localhost:8080/",
          "height": 35
        },
        "outputId": "a9070a69-fdeb-44eb-a7f1-8b44e461162f"
      },
      "source": [
        "print(\n",
        "    least_difference(1, 10, 100),\n",
        "    least_difference(1, 10, 10),\n",
        "    least_difference(5, 6, 7), # Pythonは引数の最後にカンマがついていても大丈夫です。いいでしょう？\n",
        ")"
      ],
      "execution_count": null,
      "outputs": [
        {
          "output_type": "stream",
          "text": [
            "9 0 1\n"
          ],
          "name": "stdout"
        }
      ]
    },
    {
      "cell_type": "code",
      "metadata": {
        "id": "F9b1CkQ6EqCT",
        "colab_type": "code",
        "colab": {
          "base_uri": "https://localhost:8080/",
          "height": 138
        },
        "outputId": "59622ae7-13e0-4eda-a17e-e8902916e794"
      },
      "source": [
        "help(least_difference)"
      ],
      "execution_count": null,
      "outputs": [
        {
          "output_type": "stream",
          "text": [
            "Help on function least_difference in module __main__:\n",
            "\n",
            "least_difference(a, b, c)\n",
            "    Return the smallest difference between any two numbers among a, b and c.\n",
            "    >>> least_difference(1, 5, -5)\n",
            "    4\n",
            "\n"
          ],
          "name": "stdout"
        }
      ]
    },
    {
      "cell_type": "markdown",
      "metadata": {
        "id": "YM5UgIDOxd5t",
        "colab_type": "text"
      },
      "source": [
        "### Docstrings\n",
        "`docstring`は関数を定義する時にヘッダーの直後に書かれる3クウォートで囲まれた数行にわたる部分です。定義された関数のhelp()でこのdocstringが出力されます。\n",
        "\n",
        ">>\n",
        "補足: 関数の呼び出し例について。docstringの最後の2行は関数の呼び出しと返り値の例になっています。`>>>`はPythonの対話型環境のプロンプトを表しています。実際にPythonが実行しているわけではなく、あくまで読者にわかりやすくするためのものです。関数の呼び出し例を入れるのは必ずしも普遍的とは言えませんが、関数を理解するためのおおきな補助となります。numpyの関数np.eyeのdocstringが参考になります。\n",
        ">>\n",
        "\n",
        "関数を作るようになったら、自分のためにもdocstringを書く習慣をいまから始めるのがいいでしょう。\n",
        "\n"
      ]
    },
    {
      "cell_type": "code",
      "metadata": {
        "id": "QoAQqdIvdAcZ",
        "colab_type": "code",
        "colab": {
          "base_uri": "https://localhost:8080/",
          "height": 817
        },
        "outputId": "4a52999f-cd44-46a4-a568-a58af8ae5f82"
      },
      "source": [
        "import numpy as np\n",
        "help (np.eye)"
      ],
      "execution_count": 21,
      "outputs": [
        {
          "output_type": "stream",
          "text": [
            "Help on function eye in module numpy:\n",
            "\n",
            "eye(N, M=None, k=0, dtype=<class 'float'>, order='C')\n",
            "    Return a 2-D array with ones on the diagonal and zeros elsewhere.\n",
            "    \n",
            "    Parameters\n",
            "    ----------\n",
            "    N : int\n",
            "      Number of rows in the output.\n",
            "    M : int, optional\n",
            "      Number of columns in the output. If None, defaults to `N`.\n",
            "    k : int, optional\n",
            "      Index of the diagonal: 0 (the default) refers to the main diagonal,\n",
            "      a positive value refers to an upper diagonal, and a negative value\n",
            "      to a lower diagonal.\n",
            "    dtype : data-type, optional\n",
            "      Data-type of the returned array.\n",
            "    order : {'C', 'F'}, optional\n",
            "        Whether the output should be stored in row-major (C-style) or\n",
            "        column-major (Fortran-style) order in memory.\n",
            "    \n",
            "        .. versionadded:: 1.14.0\n",
            "    \n",
            "    Returns\n",
            "    -------\n",
            "    I : ndarray of shape (N,M)\n",
            "      An array where all elements are equal to zero, except for the `k`-th\n",
            "      diagonal, whose values are equal to one.\n",
            "    \n",
            "    See Also\n",
            "    --------\n",
            "    identity : (almost) equivalent function\n",
            "    diag : diagonal 2-D array from a 1-D array specified by the user.\n",
            "    \n",
            "    Examples\n",
            "    --------\n",
            "    >>> np.eye(2, dtype=int)\n",
            "    array([[1, 0],\n",
            "           [0, 1]])\n",
            "    >>> np.eye(3, k=1)\n",
            "    array([[0.,  1.,  0.],\n",
            "           [0.,  0.,  1.],\n",
            "           [0.,  0.,  0.]])\n",
            "\n"
          ],
          "name": "stdout"
        }
      ]
    },
    {
      "cell_type": "markdown",
      "metadata": {
        "id": "JD5iDtHadbiD",
        "colab_type": "text"
      },
      "source": [
        "# いまここ"
      ]
    },
    {
      "cell_type": "markdown",
      "metadata": {
        "id": "WnZMoEjfH6w-",
        "colab_type": "text"
      },
      "source": [
        "## 返り値のない関数\n",
        "Functions that don't return\n",
        "What would happen if we didn't include the return keyword in our function?\n",
        "\n",
        "def least_difference(a, b, c):\n",
        "    \"\"\"Return the smallest difference between any two numbers\n",
        "    among a, b and c.\n",
        "    \"\"\"\n",
        "    diff1 = abs(a - b)\n",
        "    diff2 = abs(b - c)\n",
        "    diff3 = abs(a - c)\n",
        "    min(diff1, diff2, diff3)\n",
        "    \n",
        "print(\n",
        "    least_difference(1, 10, 100),\n",
        "    least_difference(1, 10, 10),\n",
        "    least_difference(5, 6, 7),\n",
        ")\n",
        "None None None\n",
        "Python allows us to define such functions. The result of calling them is the special value None. (This is similar to the concept of \"null\" in other languages.)\n"
      ]
    },
    {
      "cell_type": "markdown",
      "metadata": {
        "id": "qOkniEamxg6a",
        "colab_type": "text"
      },
      "source": [
        "\n",
        "Without a return statement, least_difference is completely pointless, but a function with side effects may do something useful without returning anything. We've already seen two examples of this: print() and help() don't return anything. We only call them for their side effects (putting some text on the screen). Other examples of useful side effects include writing to a file, or modifying an input.\n",
        "\n",
        "mystery = print()\n",
        "print(mystery)\n",
        "None\n",
        "Default arguments\n",
        "When we called help(print), we saw that the print function has several optional arguments. For example, we can specify a value for sep to put some special string in between our printed arguments:\n",
        "\n",
        "print(1, 2, 3, sep=' < ')\n",
        "1 < 2 < 3\n",
        "But if we don't specify a value, sep is treated as having a default value of ' ' (a single space).\n",
        "\n",
        "print(1, 2, 3)\n",
        "1 2 3\n",
        "Adding optional arguments with default values to the functions we define turns out to be pretty easy:\n",
        "\n",
        "def greet(who=\"Colin\"):\n",
        "    print(\"Hello,\", who)\n",
        "    \n",
        "greet()\n",
        "greet(who=\"Kaggle\")\n"
      ]
    },
    {
      "cell_type": "markdown",
      "metadata": {
        "id": "0IssDb5mbbwZ",
        "colab_type": "text"
      },
      "source": [
        "\n",
        "# (In this case, we don't need to specify the name of the argument, because it's unambiguous.)\n",
        "greet(\"world\")\n",
        "Hello, Colin\n",
        "Hello, Kaggle\n",
        "Hello, world\n",
        "Functions Applied to Functions\n",
        "Here's something that's powerful, though it can feel very abstract at first. You can supply functions as arguments to other functions. Some example may make this clearer:\n",
        "\n",
        "def mult_by_five(x):\n",
        "    return 5 * x\n",
        "\n",
        "def call(fn, arg):\n",
        "    \"\"\"Call fn on arg\"\"\"\n",
        "    return fn(arg)\n",
        "\n",
        "def squared_call(fn, arg):\n",
        "    \"\"\"Call fn on the result of calling fn on arg\"\"\"\n",
        "    return fn(fn(arg))\n",
        "\n",
        "print(\n",
        "    call(mult_by_five, 1),\n",
        "    squared_call(mult_by_five, 1), \n",
        "    sep='\\n', # '\\n' is the newline character - it starts a new line\n",
        ")\n",
        "5\n",
        "25\n",
        "Functions that operate on other functions are called \"Higher order functions.\" You probably won't write your own for a little while. But there are higher order functions built into Python that you might find useful to call.\n",
        "\n",
        "Here's an interesting example using the max function.\n",
        "\n",
        "By default, max returns the largest of its arguments. But if we pass in a function using the optional key argument, it returns the argument x that maximizes key(x) (aka the 'argmax').\n",
        "\n",
        "def mod_5(x):\n",
        "    \"\"\"Return the remainder of x after dividing by 5\"\"\"\n",
        "    return x % 5\n",
        "\n",
        "print(\n",
        "    'Which number is biggest?',\n",
        "    max(100, 51, 14),\n",
        "    'Which number is the biggest modulo 5?',\n",
        "    max(100, 51, 14, key=mod_5),\n",
        "    sep='\\n',\n",
        ")\n",
        "Which number is biggest?\n",
        "100\n",
        "Which number is the biggest modulo 5?\n",
        "14\n",
        "Your Turn\n",
        "Functions open up a whole new world in Python programming. Try using them yourself\n",
        "\n",
        "Python Home Page\n",
        "\n",
        "Have questions or comments? Visit the Learn Discussion forum to chat with other Learners."
      ]
    }
  ]
}