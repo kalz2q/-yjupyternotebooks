{
  "nbformat": 4,
  "nbformat_minor": 0,
  "metadata": {
    "colab": {
      "name": "020kagglepythonfunction001.ipynb",
      "provenance": [],
      "toc_visible": true,
      "authorship_tag": "ABX9TyOHiEivzae4Qzntt39c6mUs",
      "include_colab_link": true
    },
    "kernelspec": {
      "name": "python3",
      "display_name": "Python 3"
    }
  },
  "cells": [
    {
      "cell_type": "markdown",
      "metadata": {
        "id": "view-in-github",
        "colab_type": "text"
      },
      "source": [
        "<a href=\"https://colab.research.google.com/github/kalz2q/myjupyternotebooks/blob/master/020kagglepythonfunction001.ipynb\" target=\"_parent\"><img src=\"https://colab.research.google.com/assets/colab-badge.svg\" alt=\"Open In Colab\"/></a>"
      ]
    },
    {
      "cell_type": "markdown",
      "metadata": {
        "id": "NQwRTni4u7L9",
        "colab_type": "text"
      },
      "source": [
        "# 関数の使い方と作り方\n",
        "\n",
        "cf. https://www.kaggle.com/colinmorris/functions-and-getting-help\n",
        "\n",
        "これから関数について、学びますが、もし忘れたらどうしますか？\n",
        "\n",
        "関数 help()というとても便利な関数があるのでまずこれから覚えましょう。\n",
        "\n"
      ]
    },
    {
      "cell_type": "code",
      "metadata": {
        "id": "hh_shkHFwDEB",
        "colab_type": "code",
        "colab": {
          "base_uri": "https://localhost:8080/",
          "height": 168
        },
        "outputId": "5f3f937b-b240-44a3-f4ae-97ad94449db1"
      },
      "source": [
        "help(round)"
      ],
      "execution_count": null,
      "outputs": [
        {
          "output_type": "stream",
          "text": [
            "Help on built-in function round in module builtins:\n",
            "\n",
            "round(...)\n",
            "    round(number[, ndigits]) -> number\n",
            "    \n",
            "    Round a number to a given precision in decimal digits (default 0 digits).\n",
            "    This returns an int when called with one argument, otherwise the\n",
            "    same type as the number. ndigits may be negative.\n",
            "\n"
          ],
          "name": "stdout"
        }
      ]
    },
    {
      "cell_type": "markdown",
      "metadata": {
        "id": "YJQ0unk4wBLj",
        "colab_type": "text"
      },
      "source": [
        "## help(round)の結果についての説明\n",
        "\n",
        "round(number[, ndigits]). \n",
        "\n",
        "最初に示されるこの意味は、関数round()は引数としてnumberを取り、オプションとして引数ndigitsを取る、ということです。\n",
        "\n",
        "あと英語による簡単な説明があってその中で引数について言及があります。関数round()の場合、\n",
        "\n",
        ">>\n",
        "与えられた精度でnumberを四捨五入する。精度の桁数はデフォルトは0なので、引数が1つのとき、整数intが返される。それ以外の場合は返される数字の型は引数と同じ型になる。ndigitsはマイナスも可能である。\n",
        ">>\n",
        "\n",
        "というような説明があります。\n",
        "\n",
        "次のコードを実行してみて下さい。\n",
        "\n",
        "* help(round(-2.01))\n",
        "\n",
        "* round(3.12345455, -2)\n",
        "* round(1234567, 3)\n",
        "* round(1234567, -3)\n",
        "\n",
        "他の関数についてもhelp()を実行してみましょう\n",
        "\n",
        "* help(abs()\n"
      ]
    },
    {
      "cell_type": "code",
      "metadata": {
        "id": "iih6tuCv-ttI",
        "colab_type": "code",
        "colab": {}
      },
      "source": [
        "help(round(-2.01))"
      ],
      "execution_count": null,
      "outputs": []
    },
    {
      "cell_type": "markdown",
      "metadata": {
        "id": "oElBQcyFvTEa",
        "colab_type": "text"
      },
      "source": [
        "round()は単純で説明の短い関数でした。\n",
        "\n",
        "関数print()の場合、print()が複雑でいろんな使い方ができるので、help()の結果も長くなります。いまの段階では出力がわからなくても気にしないで下さい。なにかわかること、役に立つことがあるかどうか見る、というのがいいでしょう。\n"
      ]
    },
    {
      "cell_type": "code",
      "metadata": {
        "id": "t9Yi6mx1DEl0",
        "colab_type": "code",
        "colab": {
          "base_uri": "https://localhost:8080/",
          "height": 225
        },
        "outputId": "91761007-965a-499a-d8c1-fd2f9f7cb24f"
      },
      "source": [
        "help(print)"
      ],
      "execution_count": null,
      "outputs": [
        {
          "output_type": "stream",
          "text": [
            "Help on built-in function print in module builtins:\n",
            "\n",
            "print(...)\n",
            "    print(value, ..., sep=' ', end='\\n', file=sys.stdout, flush=False)\n",
            "    \n",
            "    Prints the values to a stream, or to sys.stdout by default.\n",
            "    Optional keyword arguments:\n",
            "    file:  a file-like object (stream); defaults to the current sys.stdout.\n",
            "    sep:   string inserted between values, default a space.\n",
            "    end:   string appended after the last value, default a newline.\n",
            "    flush: whether to forcibly flush the stream.\n",
            "\n"
          ],
          "name": "stdout"
        }
      ]
    },
    {
      "cell_type": "markdown",
      "metadata": {
        "id": "G9Y6EMsCDDOH",
        "colab_type": "text"
      },
      "source": [
        "例えば、print()はオプションとしてsepという名前の引数を取り、出力と出力の間にsepの値が挿入されることがわかります。\n"
      ]
    },
    {
      "cell_type": "markdown",
      "metadata": {
        "id": "Bp-NDXZZDkII",
        "colab_type": "text"
      },
      "source": [
        "# 関数を定義する\n",
        "ビルトイン関数だけはできることが限られますので、関数を定義できるようになっています。\n",
        "\n",
        "次の例を見てみましょう。"
      ]
    },
    {
      "cell_type": "code",
      "metadata": {
        "id": "ZW7E53HqEX05",
        "colab_type": "code",
        "colab": {
          "base_uri": "https://localhost:8080/",
          "height": 35
        },
        "outputId": "8a29089f-9f8a-4296-adc5-20570797f95e"
      },
      "source": [
        "def least_difference(a, b, c):\n",
        "    \"\"\"Return the smallest difference between any two numbers among a, b and c.\n",
        "    >>> least_difference(1, 5, -5)\n",
        "    4\n",
        "    \"\"\"\n",
        "    diff1 = abs(a - b)\n",
        "    diff2 = abs(b - c)\n",
        "    diff3 = abs(a - c)\n",
        "    return min(diff1, diff2, diff3)\n",
        "\n",
        "least_difference(10, 3, 5)"
      ],
      "execution_count": null,
      "outputs": [
        {
          "output_type": "execute_result",
          "data": {
            "text/plain": [
              "2"
            ]
          },
          "metadata": {
            "tags": []
          },
          "execution_count": 17
        }
      ]
    },
    {
      "cell_type": "markdown",
      "metadata": {
        "id": "Z0nAug7PERV9",
        "colab_type": "text"
      },
      "source": [
        "ここではleast_difference()という関数が作られています。3つの引数a, b, cを取ります。\n",
        "\n",
        "関数の定義は`def`というキーワードで始まります。`:`のあとのインデントブロックが関数定義の本体です。\n",
        "\n",
        "Pythonはキーワード`return`で関数を抜け、`return`のあとにある値を返り値として関数を呼び出したプログラムに戻ります。\n",
        "\n",
        "次の例ｗ実行して見て下さい\n"
      ]
    },
    {
      "cell_type": "code",
      "metadata": {
        "id": "cHi7tu7GF7Mf",
        "colab_type": "code",
        "colab": {
          "base_uri": "https://localhost:8080/",
          "height": 35
        },
        "outputId": "a9070a69-fdeb-44eb-a7f1-8b44e461162f"
      },
      "source": [
        "print(\n",
        "    least_difference(1, 10, 100),\n",
        "    least_difference(1, 10, 10),\n",
        "    least_difference(5, 6, 7), # Pythonは引数の最後にカンマがついていても大丈夫です。いいでしょう？\n",
        ")"
      ],
      "execution_count": null,
      "outputs": [
        {
          "output_type": "stream",
          "text": [
            "9 0 1\n"
          ],
          "name": "stdout"
        }
      ]
    },
    {
      "cell_type": "code",
      "metadata": {
        "id": "F9b1CkQ6EqCT",
        "colab_type": "code",
        "colab": {
          "base_uri": "https://localhost:8080/",
          "height": 138
        },
        "outputId": "59622ae7-13e0-4eda-a17e-e8902916e794"
      },
      "source": [
        "help(least_difference)"
      ],
      "execution_count": null,
      "outputs": [
        {
          "output_type": "stream",
          "text": [
            "Help on function least_difference in module __main__:\n",
            "\n",
            "least_difference(a, b, c)\n",
            "    Return the smallest difference between any two numbers among a, b and c.\n",
            "    >>> least_difference(1, 5, -5)\n",
            "    4\n",
            "\n"
          ],
          "name": "stdout"
        }
      ]
    },
    {
      "cell_type": "markdown",
      "metadata": {
        "id": "YM5UgIDOxd5t",
        "colab_type": "text"
      },
      "source": [
        "### Docstrings\n",
        "`docstring`は関数を定義する時にヘッダーの直後に書かれる3クウォートで囲まれた数行にわたる部分です。定義された関数のhelp()でこのdocstringが出力されます。\n",
        "\n",
        ">>\n",
        "補足: 関数の呼び出し例について。docstringの最後の2行は関数の呼び出しと返り値の例になっています。`>>>`はPythonの対話型環境のプロンプトを表しています。実際にPythonが実行しているわけではなく、あくまで読者にわかりやすくするためのものです。関数の呼び出し例を入れるのは必ずしも普遍的とは言えませんが、関数を理解するためのおおきな補助となります。numpyの関数np.eyeのdocstringが参考になります。\n",
        ">>\n",
        "\n",
        "関数を作るようになったら、自分のためにもdocstringを書く習慣をいまから始めるのがいいでしょう。\n",
        "\n"
      ]
    },
    {
      "cell_type": "code",
      "metadata": {
        "id": "QoAQqdIvdAcZ",
        "colab_type": "code",
        "colab": {
          "base_uri": "https://localhost:8080/",
          "height": 817
        },
        "outputId": "4a52999f-cd44-46a4-a568-a58af8ae5f82"
      },
      "source": [
        "import numpy as np\n",
        "help (np.eye)"
      ],
      "execution_count": null,
      "outputs": [
        {
          "output_type": "stream",
          "text": [
            "Help on function eye in module numpy:\n",
            "\n",
            "eye(N, M=None, k=0, dtype=<class 'float'>, order='C')\n",
            "    Return a 2-D array with ones on the diagonal and zeros elsewhere.\n",
            "    \n",
            "    Parameters\n",
            "    ----------\n",
            "    N : int\n",
            "      Number of rows in the output.\n",
            "    M : int, optional\n",
            "      Number of columns in the output. If None, defaults to `N`.\n",
            "    k : int, optional\n",
            "      Index of the diagonal: 0 (the default) refers to the main diagonal,\n",
            "      a positive value refers to an upper diagonal, and a negative value\n",
            "      to a lower diagonal.\n",
            "    dtype : data-type, optional\n",
            "      Data-type of the returned array.\n",
            "    order : {'C', 'F'}, optional\n",
            "        Whether the output should be stored in row-major (C-style) or\n",
            "        column-major (Fortran-style) order in memory.\n",
            "    \n",
            "        .. versionadded:: 1.14.0\n",
            "    \n",
            "    Returns\n",
            "    -------\n",
            "    I : ndarray of shape (N,M)\n",
            "      An array where all elements are equal to zero, except for the `k`-th\n",
            "      diagonal, whose values are equal to one.\n",
            "    \n",
            "    See Also\n",
            "    --------\n",
            "    identity : (almost) equivalent function\n",
            "    diag : diagonal 2-D array from a 1-D array specified by the user.\n",
            "    \n",
            "    Examples\n",
            "    --------\n",
            "    >>> np.eye(2, dtype=int)\n",
            "    array([[1, 0],\n",
            "           [0, 1]])\n",
            "    >>> np.eye(3, k=1)\n",
            "    array([[0.,  1.,  0.],\n",
            "           [0.,  0.,  1.],\n",
            "           [0.,  0.,  0.]])\n",
            "\n"
          ],
          "name": "stdout"
        }
      ]
    },
    {
      "cell_type": "markdown",
      "metadata": {
        "id": "JD5iDtHadbiD",
        "colab_type": "text"
      },
      "source": [
        "# いまここ"
      ]
    },
    {
      "cell_type": "markdown",
      "metadata": {
        "id": "WnZMoEjfH6w-",
        "colab_type": "text"
      },
      "source": [
        "## 返り値のない関数\n",
        "キーワード`return`を含まない関数を作ったらどうなるでしょうか。\n",
        "\n",
        "What would happen if we didn't include the return keyword in our function?\n"
      ]
    },
    {
      "cell_type": "code",
      "metadata": {
        "id": "CvXrHj1Qbn9L",
        "colab_type": "code",
        "colab": {
          "base_uri": "https://localhost:8080/",
          "height": 35
        },
        "outputId": "e352be36-0b44-4789-a829-72cffe61fe16"
      },
      "source": [
        "def least_difference(a, b, c):\n",
        "    \"\"\"Return the smallest difference between any two numbers\n",
        "    among a, b and c.\n",
        "    \"\"\"\n",
        "    diff1 = abs(a - b)\n",
        "    diff2 = abs(b - c)\n",
        "    diff3 = abs(a - c)\n",
        "    min(diff1, diff2, diff3)\n",
        "    \n",
        "print(\n",
        "    least_difference(1, 10, 100),\n",
        "    least_difference(1, 10, 10),\n",
        "    least_difference(5, 6, 7),\n",
        ")"
      ],
      "execution_count": 1,
      "outputs": [
        {
          "output_type": "stream",
          "text": [
            "None None None\n"
          ],
          "name": "stdout"
        }
      ]
    },
    {
      "cell_type": "markdown",
      "metadata": {
        "id": "IMxUzxeVbl16",
        "colab_type": "text"
      },
      "source": [
        "Pythonはこのような関数を作ることを許容しています。返り値のない関数の結果は特殊な値の`None`になります。Pythonの`None`は他の言語でいう`null`に相当する概念です。"
      ]
    },
    {
      "cell_type": "code",
      "metadata": {
        "id": "PnN8zwiWcH54",
        "colab_type": "code",
        "colab": {
          "base_uri": "https://localhost:8080/",
          "height": 35
        },
        "outputId": "c85476e4-708f-4249-8d8a-68a643c26311"
      },
      "source": [
        "type(None)"
      ],
      "execution_count": 2,
      "outputs": [
        {
          "output_type": "execute_result",
          "data": {
            "text/plain": [
              "NoneType"
            ]
          },
          "metadata": {
            "tags": []
          },
          "execution_count": 2
        }
      ]
    },
    {
      "cell_type": "markdown",
      "metadata": {
        "id": "qOkniEamxg6a",
        "colab_type": "text"
      },
      "source": [
        "`return`文(ステートメント)のない関数least_differenceは関数としては意味をなしません。しかし副作用(side effect)のある関数は返り値がなくても役に立つことがあります。そのような例をすでに2つ見てきています。`print()`と`help()`です。\n",
        "`print()`と`help()`は返り値ではなく画面へ出力を出すという副作用のために呼び出されます。他にもファイルへの書き出しや入力を変更する関数などがこれに当たります。\n",
        "\n"
      ]
    },
    {
      "cell_type": "code",
      "metadata": {
        "id": "tf-BRZgHeJzT",
        "colab_type": "code",
        "colab": {
          "base_uri": "https://localhost:8080/",
          "height": 54
        },
        "outputId": "296ff685-43ff-4382-9027-204c81c09917"
      },
      "source": [
        "mystery = print()\n",
        "print(mystery)"
      ],
      "execution_count": 3,
      "outputs": [
        {
          "output_type": "stream",
          "text": [
            "\n",
            "None\n"
          ],
          "name": "stdout"
        }
      ]
    },
    {
      "cell_type": "markdown",
      "metadata": {
        "id": "IQxs1ULPeIGg",
        "colab_type": "text"
      },
      "source": [
        "## 引数のデフォルト値\n",
        "`help(print)`の説明のところで、関数`print`がオプションとしていくつかの引数を取るのを見ました。たとえば出力の項目の間に入れる文字列を指定するには`sep`という変数に値を入れます。\n"
      ]
    },
    {
      "cell_type": "code",
      "metadata": {
        "id": "7Xdr3PCSgr3K",
        "colab_type": "code",
        "colab": {
          "base_uri": "https://localhost:8080/",
          "height": 35
        },
        "outputId": "8e5f409a-f89d-43a3-e9df-94ae554bdcd5"
      },
      "source": [
        "print(1, 2, 3, sep=' < ')"
      ],
      "execution_count": 4,
      "outputs": [
        {
          "output_type": "stream",
          "text": [
            "1 < 2 < 3\n"
          ],
          "name": "stdout"
        }
      ]
    },
    {
      "cell_type": "markdown",
      "metadata": {
        "id": "ZxHtaVfmgmsx",
        "colab_type": "text"
      },
      "source": [
        "しかし、値を指定しない場合、`sep`にはデフォルトの値である\" \"(スペース1個)が入ります。\n"
      ]
    },
    {
      "cell_type": "code",
      "metadata": {
        "id": "9hjL8YC1hwEW",
        "colab_type": "code",
        "colab": {
          "base_uri": "https://localhost:8080/",
          "height": 35
        },
        "outputId": "0031cf08-2dfe-48b0-b55b-b7726decef3e"
      },
      "source": [
        "print(1, 2, 3)"
      ],
      "execution_count": 5,
      "outputs": [
        {
          "output_type": "stream",
          "text": [
            "1 2 3\n"
          ],
          "name": "stdout"
        }
      ]
    },
    {
      "cell_type": "markdown",
      "metadata": {
        "id": "OSw17y6ThrIm",
        "colab_type": "text"
      },
      "source": [
        "関数の定義の時にデフォルト値を指定するには、次のようにします。"
      ]
    },
    {
      "cell_type": "code",
      "metadata": {
        "id": "8vQaBy2Dh5nX",
        "colab_type": "code",
        "colab": {
          "base_uri": "https://localhost:8080/",
          "height": 72
        },
        "outputId": "11921f60-d506-4832-e5c5-4ab347c59540"
      },
      "source": [
        "def greet(who=\"Colin\"):\n",
        "    print(\"Hello,\", who)\n",
        "    \n",
        "greet()\n",
        "greet(who=\"Kaggle\")\n",
        "\n",
        "# 明確で誤解が生じる余地のない場合、引数の名前を省略できます。\n",
        "greet(\"world\")"
      ],
      "execution_count": 7,
      "outputs": [
        {
          "output_type": "stream",
          "text": [
            "Hello, Colin\n",
            "Hello, Kaggle\n",
            "Hello, world\n"
          ],
          "name": "stdout"
        }
      ]
    },
    {
      "cell_type": "markdown",
      "metadata": {
        "id": "N9oQ55u5i4G_",
        "colab_type": "text"
      },
      "source": [
        "# いまここ\n"
      ]
    },
    {
      "cell_type": "markdown",
      "metadata": {
        "id": "0IssDb5mbbwZ",
        "colab_type": "text"
      },
      "source": [
        "# 関数から関数を呼び出す\n",
        ">>\n",
        "Here's something that's powerful, though it can feel very abstract at first. You can supply functions as arguments to other functions. Some example may make this clearer:\n",
        "```\n",
        "def mult_by_five(x):\n",
        "    return 5 * x\n",
        "\n",
        "def call(fn, arg):\n",
        "    \"\"\"Call fn on arg\"\"\"\n",
        "    return fn(arg)\n",
        "\n",
        "def squared_call(fn, arg):\n",
        "    \"\"\"Call fn on the result of calling fn on arg\"\"\"\n",
        "    return fn(fn(arg))\n",
        "\n",
        "print(\n",
        "    call(mult_by_five, 1),\n",
        "    squared_call(mult_by_five, 1), \n",
        "    sep='\\n', # '\\n' is the newline character - it starts a new line\n",
        ")\n",
        "5\n",
        "25\n"
      ]
    },
    {
      "cell_type": "code",
      "metadata": {
        "id": "p_Z2QYAbjUIU",
        "colab_type": "code",
        "colab": {
          "base_uri": "https://localhost:8080/",
          "height": 54
        },
        "outputId": "d927c62b-3bfd-4271-cf8d-49f929b72766"
      },
      "source": [
        "def mult_by_five(x):\n",
        "    return 5 * x\n",
        "\n",
        "def call(fn, arg):\n",
        "    \"\"\"Call fn on arg\"\"\"\n",
        "    return fn(arg)\n",
        "\n",
        "def squared_call(fn, arg):\n",
        "    \"\"\"Call fn on the result of calling fn on arg\"\"\"\n",
        "    return fn(fn(arg))\n",
        "\n",
        "print(\n",
        "    call(mult_by_five, 1),\n",
        "    squared_call(mult_by_five, 1), \n",
        "    sep='\\n', # '\\n' is the newline character - it starts a new line\n",
        ")"
      ],
      "execution_count": 8,
      "outputs": [
        {
          "output_type": "stream",
          "text": [
            "5\n",
            "25\n"
          ],
          "name": "stdout"
        }
      ]
    },
    {
      "cell_type": "markdown",
      "metadata": {
        "id": "Uvd9mi8gjSCh",
        "colab_type": "text"
      },
      "source": [
        ">>\n",
        "Functions that operate on other functions are called \"Higher order functions.\" You probably won't write your own for a little while. But there are higher order functions built into Python that you might find useful to call.\n",
        "\n",
        "Here's an interesting example using the max function.\n",
        "\n",
        "By default, max returns the largest of its arguments. But if we pass in a function using the optional key argument, it returns the argument x that maximizes key(x) (aka the 'argmax').\n",
        "```\n",
        "def mod_5(x):\n",
        "    \"\"\"Return the remainder of x after dividing by 5\"\"\"\n",
        "    return x % 5\n",
        "```\n",
        "print(\n",
        "    'Which number is biggest?',\n",
        "    max(100, 51, 14),\n",
        "    'Which number is the biggest modulo 5?',\n",
        "    max(100, 51, 14, key=mod_5),\n",
        "    sep='\\n',\n",
        ")\n",
        "```\n",
        "Which number is biggest?\n",
        "100\n",
        "Which number is the biggest modulo 5?\n",
        "14\n",
        "Your Turn\n",
        "Functions open up a whole new world in Python programming. Try using them yourself\n"
      ]
    },
    {
      "cell_type": "markdown",
      "metadata": {
        "id": "HnWrYUivksHg",
        "colab_type": "text"
      },
      "source": [
        "# 練習問題\n"
      ]
    },
    {
      "cell_type": "markdown",
      "metadata": {
        "id": "M_5a-M3Xkv3d",
        "colab_type": "text"
      },
      "source": [
        "**[Python Home Page](https://www.kaggle.com/learn/python)**\n",
        "\n",
        "---\n",
        "\n",
        "\n",
        "# Try It Yourself\n",
        "\n",
        "Functions are powerful. Try writing some yourself.\n",
        "\n",
        "As before, don't forget to run the setup code below before jumping into question 1.\n",
        "\n",
        "# SETUP. You don't need to worry for now about what this code does or how it works.\n",
        "from learntools.core import binder; binder.bind(globals())\n",
        "from learntools.python.ex2 import *\n",
        "print('Setup complete.')\n",
        "\n",
        "# Exercises\n",
        "\n",
        "## 1.\n",
        "\n",
        "Complete the body of the following function according to its docstring.\n",
        "\n",
        "HINT: Python has a built-in function `round`.\n",
        "\n",
        "def round_to_two_places(num):\n",
        "    \"\"\"Return the given number rounded to two decimal places. \n",
        "    \n",
        "    >>> round_to_two_places(3.14159)\n",
        "    3.14\n",
        "    \"\"\"\n",
        "    # Replace this body with your own code.\n",
        "    # (\"pass\" is a keyword that does literally nothing. We used it as a placeholder\n",
        "    # because after we begin a code block, Python requires at least one line of code)\n",
        "    pass\n",
        "\n",
        "# Check your answer\n",
        "q1.check()\n",
        "\n",
        "# Uncomment the following for a hint\n",
        "#q1.hint()\n",
        "# Or uncomment the following to peek at the solution\n",
        "#q1.solution()\n",
        "\n",
        "## 2.\n",
        "The help for `round` says that `ndigits` (the second argument) may be negative.\n",
        "What do you think will happen when it is? Try some examples in the following cell?\n",
        "\n",
        "Can you think of a case where this would be useful?\n",
        "\n",
        "# Put your test code here\n",
        "\n",
        "# Check your answer (Run this code cell to receive credit!)\n",
        "q2.solution()\n",
        "\n",
        "## 3.\n",
        "\n",
        "In a previous programming problem, the candy-sharing friends Alice, Bob and Carol tried to split candies evenly. For the sake of their friendship, any candies left over would be smashed. For example, if they collectively bring home 91 candies, they'll take 30 each and smash 1.\n",
        "\n",
        "Below is a simple function that will calculate the number of candies to smash for *any* number of total candies.\n",
        "\n",
        "Modify it so that it optionally takes a second argument representing the number of friends the candies are being split between. If no second argument is provided, it should assume 3 friends, as before.\n",
        "\n",
        "Update the docstring to reflect this new behaviour.\n",
        "\n",
        "def to_smash(total_candies):\n",
        "    \"\"\"Return the number of leftover candies that must be smashed after distributing\n",
        "    the given number of candies evenly between 3 friends.\n",
        "    \n",
        "    >>> to_smash(91)\n",
        "    1\n",
        "    \"\"\"\n",
        "    return total_candies % 3\n",
        "\n",
        "# Check your answer\n",
        "q3.check()\n",
        "\n",
        "#q3.hint()\n",
        "\n",
        "#q3.solution()\n",
        "\n",
        "## 4. (Optional)\n",
        "\n",
        "It may not be fun, but reading and understanding error messages will be an important part of your Python career.\n",
        "\n",
        "Each code cell below contains some commented-out buggy code. For each cell...\n",
        "\n",
        "1. Read the code and predict what you think will happen when it's run.\n",
        "2. Then uncomment the code and run it to see what happens. (**Tip**: In the kernel editor, you can highlight several lines and press `ctrl`+`/` to toggle commenting.)\n",
        "3. Fix the code (so that it accomplishes its intended purpose without throwing an exception)\n",
        "\n",
        "<!-- TODO: should this be autochecked? Delta is probably pretty small. -->\n",
        "\n",
        "# ruound_to_two_places(9.9999)\n",
        "\n",
        "# x = -10\n",
        "# y = 5\n",
        "# # Which of the two variables above has the smallest absolute value?\n",
        "# smallest_abs = min(abs(x, y))\n",
        "\n",
        "# def f(x):\n",
        "#     y = abs(x)\n",
        "# return y\n",
        "\n",
        "# print(f(5))\n",
        "\n",
        "# Keep Going\n",
        "\n",
        "Nice job with the code. Next up, you'll learn about *conditionals*, which you'll need to write interesting programs. Keep going **[here](https://www.kaggle.com/colinmorris/booleans-and-conditionals)**\n",
        "\n",
        "---\n",
        "**[Python Home Page](https://www.kaggle.com/learn/python)**\n",
        "\n",
        "\n",
        "\n",
        "\n",
        "\n",
        "*Have questions or comments? Visit the [Learn Discussion forum](https://www.kaggle.com/learn-forum/161283) to chat with other Learners.*"
      ]
    }
  ]
}