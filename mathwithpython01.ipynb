{
  "nbformat": 4,
  "nbformat_minor": 0,
  "metadata": {
    "kernelspec": {
      "display_name": "Python 3",
      "language": "python",
      "name": "python3"
    },
    "language_info": {
      "codemirror_mode": {
        "name": "ipython",
        "version": 3
      },
      "file_extension": ".py",
      "mimetype": "text/x-python",
      "name": "python",
      "nbconvert_exporter": "python",
      "pygments_lexer": "ipython3",
      "version": "3.7.2"
    },
    "toc": {
      "base_numbering": 1,
      "nav_menu": {},
      "number_sections": true,
      "sideBar": true,
      "skip_h1_title": false,
      "title_cell": "Table of Contents",
      "title_sidebar": "Contents",
      "toc_cell": false,
      "toc_position": {},
      "toc_section_display": true,
      "toc_window_display": true
    },
    "colab": {
      "name": "mathwithpython01.ipynb",
      "provenance": [],
      "toc_visible": true,
      "include_colab_link": true
    }
  },
  "cells": [
    {
      "cell_type": "markdown",
      "metadata": {
        "id": "view-in-github",
        "colab_type": "text"
      },
      "source": [
        "<a href=\"https://colab.research.google.com/github/kalz2q/mycolabnotebooks/blob/master/mathwithpython01.ipynb\" target=\"_parent\"><img src=\"https://colab.research.google.com/assets/colab-badge.svg\" alt=\"Open In Colab\"/></a>"
      ]
    },
    {
      "cell_type": "markdown",
      "metadata": {
        "id": "-nVUdpY1KLjn"
      },
      "source": [
        "# メモ\n",
        "\n",
        "1. python の sympy という数式処理のシステムを勉強する。\n",
        "1. sympy で狙っているのは、数式レベルでシンボルを使った計算だが、数学の世界は広く、アプローチもさまざまなのでなんでもできるわけではない。\n",
        "1. 一方、latex はどんな数式でも書ける。 latex を併用する。\n",
        "1. 本家 SymPy Tutorial  (https://docs.sympy.org/latest/tutorial/index.html#tutorial)\n",
        "1. 入力例で学ぶPython(SymPy)の使い方(入門) (https://pianofisica.hatenablog.com/entry/2019/04/04/183712)\n",
        "1. Doing Math With Python PDF ( http://index-of.es/Varios-2/Doing%20Math%20with%20Python.pdf)\n",
        "1. Doing Math With Python site (http://www.nostarch.com/doingmathwithpython/ )"
      ]
    },
    {
      "cell_type": "markdown",
      "metadata": {
        "id": "7Qlur3MgJS2m"
      },
      "source": [
        "# はじめに\n",
        "\n",
        "数学と言っても広い話で、調べながらいろんな話題に進んでしまうとは思うものの、とりあえず思いついたことを書いておくと、興味の対象がわかっていいと思うので書いておく。\n",
        "\n",
        "1. 数式。数学において数式を数学の世界で普通なように書くことは大事だと思う。$x^2$を `x**2` と書くとき、何が違うかというとフォントが違う、記号が違う。いまは$ \\LaTeX$ で書いた。\n",
        "1. 数式演算。$x$ に数を代入することはプログラミングでできて、手続き的にいろいろ複雑な計算もできるが、数式を数式自体で操作して、概念を抽象化して考えることが数学の本質の一部である。\n",
        "1. sympy と別に python には numpy モジュールがあって計算に便利に使われる。 必要に応じて使う。\n",
        "1. 図は matplotlib を使う。\n",
        "\n"
      ]
    },
    {
      "cell_type": "markdown",
      "metadata": {
        "id": "Lvf27h-JNAR3"
      },
      "source": [
        "# 数列の合計 シグマ $\\Sigma$"
      ]
    },
    {
      "cell_type": "code",
      "metadata": {
        "id": "oUJ6Cs7e4-Pa",
        "colab": {
          "base_uri": "https://localhost:8080/"
        },
        "outputId": "99c17dd9-de86-4693-a0d9-c2d7ea490fb3"
      },
      "source": [
        "# python で数の合計は次のように書く \r\n",
        "sum ([12,34])"
      ],
      "execution_count": null,
      "outputs": [
        {
          "output_type": "execute_result",
          "data": {
            "text/plain": [
              "46"
            ]
          },
          "metadata": {
            "tags": []
          },
          "execution_count": 10
        }
      ]
    },
    {
      "cell_type": "code",
      "metadata": {
        "id": "HPgTb_iBzXJm",
        "colab": {
          "base_uri": "https://localhost:8080/",
          "height": 67
        },
        "outputId": "6fe800c4-8383-43e8-843c-76dbe299d174"
      },
      "source": [
        "# sympy に数の合計の記号シグマがある\r\n",
        "from sympy import *\r\n",
        "from sympy.abc import *\r\n",
        "Sum(k, (k, 1, m))"
      ],
      "execution_count": null,
      "outputs": [
        {
          "output_type": "execute_result",
          "data": {
            "text/latex": "$\\displaystyle \\sum_{k=1}^{m} k$",
            "text/plain": [
              "Sum(k, (k, 1, m))"
            ]
          },
          "metadata": {
            "tags": []
          },
          "execution_count": 11
        }
      ]
    },
    {
      "cell_type": "code",
      "metadata": {
        "id": "ezoSL6DqzoeU",
        "colab": {
          "base_uri": "https://localhost:8080/",
          "height": 55
        },
        "outputId": "6f973841-387a-4e75-e182-b9b19eefc4a3"
      },
      "source": [
        "Sum(k, (k, 1, m)).doit()"
      ],
      "execution_count": null,
      "outputs": [
        {
          "output_type": "execute_result",
          "data": {
            "text/latex": "$\\displaystyle \\frac{m^{2}}{2} + \\frac{m}{2}$",
            "text/plain": [
              "m**2/2 + m/2"
            ]
          },
          "metadata": {
            "tags": []
          },
          "execution_count": 2
        }
      ]
    },
    {
      "cell_type": "code",
      "metadata": {
        "id": "_dmVmMdY0M6z",
        "colab": {
          "base_uri": "https://localhost:8080/",
          "height": 54
        },
        "outputId": "345493cf-d4f4-4b43-9910-f1d80c40bc4c"
      },
      "source": [
        "# 上記の出力を因数分解して次のようにしたい\r\n",
        "# cf. factoring, expand, simplify\r\n",
        "%%latex\r\n",
        "\\displaystyle\r\n",
        "\\frac{m(m+1)}{2}"
      ],
      "execution_count": null,
      "outputs": [
        {
          "output_type": "display_data",
          "data": {
            "text/latex": "\\displaystyle\n\n\\frac{m(m+1)}{2}",
            "text/plain": [
              "<IPython.core.display.Latex object>"
            ]
          },
          "metadata": {
            "tags": []
          }
        }
      ]
    },
    {
      "cell_type": "code",
      "metadata": {
        "colab": {
          "base_uri": "https://localhost:8080/",
          "height": 54
        },
        "id": "hfTfDjOOL255",
        "outputId": "af3b684b-c12b-4cc1-bf4c-55e21b9309e6"
      },
      "source": [
        "# 因数分解は factor を使う\r\n",
        "factor(Sum(k, (k, 1, m)).doit())"
      ],
      "execution_count": null,
      "outputs": [
        {
          "output_type": "execute_result",
          "data": {
            "image/png": "[encoded data removed]",
            "text/latex": "$\\displaystyle \\frac{m \\left(m + 1\\right)}{2}$",
            "text/plain": [
              "m⋅(m + 1)\n",
              "─────────\n",
              "    2    "
            ]
          },
          "metadata": {
            "tags": []
          },
          "execution_count": 18
        }
      ]
    },
    {
      "cell_type": "code",
      "metadata": {
        "colab": {
          "base_uri": "https://localhost:8080/",
          "height": 67
        },
        "id": "S_ousbwOMshw",
        "outputId": "fb8fd632-43d9-41de-accd-22ed0c268929"
      },
      "source": [
        "# 完成品\r\n",
        "Eq(Sum(k, (k, 1, m)), factor(Sum(k, (k, 1, m)).doit()))"
      ],
      "execution_count": null,
      "outputs": [
        {
          "output_type": "execute_result",
          "data": {
            "image/png": "[encoded data removed]",
            "text/latex": "$\\displaystyle \\sum_{k=1}^{m} k = \\frac{m \\left(m + 1\\right)}{2}$",
            "text/plain": [
              "  m                \n",
              " ___               \n",
              " ╲                 \n",
              "  ╲       m⋅(m + 1)\n",
              "  ╱   k = ─────────\n",
              " ╱            2    \n",
              " ‾‾‾               \n",
              "k = 1              "
            ]
          },
          "metadata": {
            "tags": []
          },
          "execution_count": 19
        }
      ]
    },
    {
      "cell_type": "markdown",
      "metadata": {
        "id": "-UFYNQjKVauB"
      },
      "source": [
        "# SymPy の歩き方\r\n",
        "\r\n",
        "例えば、数列の合計シグマ $\\Sigma$ を sympy でどう書くか、そもそも書けるのか、名前はなんというのか, Sigma なのか Sum なのか、関数として使えるのかただの記号なのか、というとき。\r\n",
        "\r\n",
        "`from sympy import *` して、 dir() を出力する。  \r\n",
        "出力をエディターにコピペして、それらしき命令を探す。  \r\n",
        "Sum というのがあった。\r\n",
        "コードセルで Sum を実行すると `sympy.concrete.summations.Sum` と出力される。 これを google で検索するとドキュメントが見られる。  \r\n",
        "help(Sum) で help が見られる。\r\n",
        "\r\n",
        "python の関数やメソッドは小文字 lower caracter で始まるのが原則なので、大文字で始まるのは sympy の出力のからんだ命令である。\r\n",
        "\r\n",
        "あとは実験学習\r\n"
      ]
    },
    {
      "cell_type": "code",
      "metadata": {
        "id": "6xsIWlvzTef8",
        "colab": {
          "base_uri": "https://localhost:8080/"
        },
        "outputId": "a3caebe6-8baa-4628-9554-9d0099491792"
      },
      "source": [
        "Sum"
      ],
      "execution_count": null,
      "outputs": [
        {
          "output_type": "execute_result",
          "data": {
            "text/plain": [
              "sympy.concrete.summations.Sum"
            ]
          },
          "metadata": {
            "tags": []
          },
          "execution_count": 11
        }
      ]
    },
    {
      "cell_type": "markdown",
      "metadata": {
        "id": "d-fe24g3a21Y"
      },
      "source": [
        "# Abs を例に実験"
      ]
    },
    {
      "cell_type": "code",
      "metadata": {
        "id": "nEuVJkHeYWO-",
        "colab": {
          "base_uri": "https://localhost:8080/",
          "height": 99
        },
        "outputId": "9961b65b-7d6d-4fef-b3ff-ea17e6e8d772"
      },
      "source": [
        "# Abs について実験\r\n",
        "# sympy でシンボルに値が入っている場合、Abs は関数として働き、引数がシンボルの場合、数式処理システムとして働く\r\n",
        "from sympy import *\r\n",
        "from sympy.abc import *\r\n",
        "display(Abs(x))\r\n",
        "x = -3\r\n",
        "display(Abs(x))\r\n",
        "x = symbols('x')\r\n",
        "display(Abs(x))\r\n",
        "display(latex(Abs(x)))"
      ],
      "execution_count": null,
      "outputs": [
        {
          "output_type": "display_data",
          "data": {
            "image/png": "[encoded data removed]",
            "text/latex": "$\\displaystyle \\left|{x}\\right|$",
            "text/plain": [
              "│x│"
            ]
          },
          "metadata": {
            "tags": []
          }
        },
        {
          "output_type": "display_data",
          "data": {
            "image/png": "[encoded data removed]",
            "text/latex": "$\\displaystyle 3$",
            "text/plain": [
              "3"
            ]
          },
          "metadata": {
            "tags": []
          }
        },
        {
          "output_type": "display_data",
          "data": {
            "image/png": "[encoded data removed]",
            "text/latex": "$\\displaystyle \\left|{x}\\right|$",
            "text/plain": [
              "│x│"
            ]
          },
          "metadata": {
            "tags": []
          }
        },
        {
          "output_type": "display_data",
          "data": {
            "application/vnd.google.colaboratory.intrinsic+json": {
              "type": "string"
            },
            "text/plain": [
              "'\\\\left|{x}\\\\right|'"
            ]
          },
          "metadata": {
            "tags": []
          }
        }
      ]
    },
    {
      "cell_type": "code",
      "metadata": {
        "id": "gDIBGpKQan3L",
        "colab": {
          "base_uri": "https://localhost:8080/",
          "height": 39
        },
        "outputId": "d8b4d28c-a62f-43b3-c9be-c85c8eda37b7"
      },
      "source": [
        "%%latex\r\n",
        "\\left|{x}\\right|"
      ],
      "execution_count": null,
      "outputs": [
        {
          "output_type": "display_data",
          "data": {
            "text/latex": "\\left|{x}\\right|",
            "text/plain": [
              "<IPython.core.display.Latex object>"
            ]
          },
          "metadata": {
            "tags": []
          }
        }
      ]
    },
    {
      "cell_type": "code",
      "metadata": {
        "colab": {
          "base_uri": "https://localhost:8080/",
          "height": 39
        },
        "id": "xJdqIo9Mtor2",
        "outputId": "4ee57533-2a97-4616-8076-8082d73f3f6e"
      },
      "source": [
        "# help(abs) によると、Abs がある場合、通常の組み込み関数 abs は Abs になる、とのことなので実験\r\n",
        "abs(x) # => \\left|{x}\\right|"
      ],
      "execution_count": null,
      "outputs": [
        {
          "output_type": "execute_result",
          "data": {
            "image/png": "[encoded data removed]",
            "text/latex": "$\\displaystyle \\left|{x}\\right|$",
            "text/plain": [
              "│x│"
            ]
          },
          "metadata": {
            "tags": []
          },
          "execution_count": 25
        }
      ]
    },
    {
      "cell_type": "markdown",
      "metadata": {
        "id": "eyXnwcAeNzUg"
      },
      "source": [
        "# 積分記号 Integral と微分記号 Derivative\r\n",
        "\r\n",
        "積分するは integrate 微分するは diff\r\n"
      ]
    },
    {
      "cell_type": "code",
      "metadata": {
        "id": "j0gnEo0Vb89c",
        "colab": {
          "base_uri": "https://localhost:8080/",
          "height": 56
        },
        "outputId": "ee92ad3b-e214-4639-edc8-9ba63e2c601e"
      },
      "source": [
        "from sympy import *\n",
        "init_printing()\n",
        "\n",
        "x = symbols ('x')\n",
        "a = Integral (cos(x) *  exp(x), x)\n",
        "Eq (a, a.doit())"
      ],
      "execution_count": null,
      "outputs": [
        {
          "output_type": "execute_result",
          "data": {
            "image/png": "[encoded data removed]",
            "text/latex": "$\\displaystyle \\int e^{x} \\cos{\\left(x \\right)}\\, dx = \\frac{e^{x} \\sin{\\left(x \\right)}}{2} + \\frac{e^{x} \\cos{\\left(x \\right)}}{2}$",
            "text/plain": [
              "⌠                 x           x       \n",
              "⎮  x             ℯ ⋅sin(x)   ℯ ⋅cos(x)\n",
              "⎮ ℯ ⋅cos(x) dx = ───────── + ─────────\n",
              "⌡                    2           2    "
            ]
          },
          "metadata": {
            "tags": []
          },
          "execution_count": 4
        }
      ]
    },
    {
      "cell_type": "markdown",
      "metadata": {
        "id": "tZ8lsdofOlZ_"
      },
      "source": [
        "今までの例からわかったこと。\n",
        "\n",
        "1. `from sympy import *` でこれ以降なにもことわらずに四則演算をふくめ数学記号が sympy の演算子になっている。\n",
        "1. `x = symbols('x')` は、python と共存するので、なんらかの宣言が必要なのはわかる。`x = 3`と入れたらそれ以降は `x` は 3 になって、また `x = symbols('x')` としたら `x` に戻った。 `from sympy.abc import *` という便利な道具もある。\n",
        "3. 式で項の順序は維持されない。` Integral (cos(x) *  exp(x), x)` の `cos(x)`と`exp(x)`は数式表現になったときに順序が逆になっている。\n",
        "4. `doit()`は数式レベルの計算というか、評価をするが、いま `((x + 2) * (x - 2)).doit()` としたら展開しなかった。メソッド `factor()`、`expand()` などを使う。\n"
      ]
    },
    {
      "cell_type": "code",
      "metadata": {
        "id": "zc901KaX_DPz",
        "colab": {
          "base_uri": "https://localhost:8080/",
          "height": 39
        },
        "outputId": "0bc9a96c-34da-499e-b168-8a5e320ffa63"
      },
      "source": [
        "from sympy import *\n",
        "init_printing()\n",
        "\n",
        "x = symbols ('x')\n",
        "((x + 2) * (x - 2)).expand()"
      ],
      "execution_count": null,
      "outputs": [
        {
          "output_type": "execute_result",
          "data": {
            "image/png": "[encoded data removed]",
            "text/latex": "$\\displaystyle x^{2} - 4$",
            "text/plain": [
              " 2    \n",
              "x  - 4"
            ]
          },
          "metadata": {
            "tags": []
          },
          "execution_count": 4
        }
      ]
    },
    {
      "cell_type": "code",
      "metadata": {
        "id": "dow8gu5rMT_l",
        "colab": {
          "base_uri": "https://localhost:8080/",
          "height": 39
        },
        "outputId": "dd86dec7-33ed-41d3-e619-449110a2fbdb"
      },
      "source": [
        "((x + 2) * (x - 2))"
      ],
      "execution_count": null,
      "outputs": [
        {
          "output_type": "execute_result",
          "data": {
            "image/png": "[encoded data removed]",
            "text/latex": "$\\displaystyle \\left(x - 2\\right) \\left(x + 2\\right)$",
            "text/plain": [
              "(x - 2)⋅(x + 2)"
            ]
          },
          "metadata": {
            "tags": []
          },
          "execution_count": 5
        }
      ]
    },
    {
      "cell_type": "code",
      "metadata": {
        "id": "JMCs785z_RdX",
        "colab": {
          "base_uri": "https://localhost:8080/",
          "height": 39
        },
        "outputId": "7304e8ca-b151-4e99-adfd-3360b9d1bd97"
      },
      "source": [
        "expand((x + 2) * (x - 2))"
      ],
      "execution_count": null,
      "outputs": [
        {
          "output_type": "execute_result",
          "data": {
            "image/png": "[encoded data removed]",
            "text/latex": "$\\displaystyle x^{2} - 4$",
            "text/plain": [
              " 2    \n",
              "x  - 4"
            ]
          },
          "metadata": {
            "tags": []
          },
          "execution_count": 6
        }
      ]
    },
    {
      "cell_type": "code",
      "metadata": {
        "id": "RLIECAn2szAY",
        "colab": {
          "base_uri": "https://localhost:8080/",
          "height": 39
        },
        "outputId": "59df3437-81f3-4358-cb1a-fb5b823338fd"
      },
      "source": [
        "from sympy import *\r\n",
        "init_printing()\r\n",
        "x = symbols ('x')\r\n",
        "factor(x**2 - 4)"
      ],
      "execution_count": null,
      "outputs": [
        {
          "output_type": "execute_result",
          "data": {
            "image/png": "[encoded data removed]",
            "text/latex": "$\\displaystyle \\left(x - 2\\right) \\left(x + 2\\right)$",
            "text/plain": [
              "(x - 2)⋅(x + 2)"
            ]
          },
          "metadata": {
            "tags": []
          },
          "execution_count": 7
        }
      ]
    },
    {
      "cell_type": "code",
      "metadata": {
        "id": "irOz8rjL-mpH",
        "colab": {
          "base_uri": "https://localhost:8080/",
          "height": 54
        },
        "outputId": "b0ea1779-1b22-4478-e48b-bb21f0a37167"
      },
      "source": [
        "integrate (cos(x) *  exp(x), x)"
      ],
      "execution_count": null,
      "outputs": [
        {
          "output_type": "execute_result",
          "data": {
            "image/png": "[encoded data removed]",
            "text/latex": "$\\displaystyle \\frac{e^{x} \\sin{\\left(x \\right)}}{2} + \\frac{e^{x} \\cos{\\left(x \\right)}}{2}$",
            "text/plain": [
              " x           x       \n",
              "ℯ ⋅sin(x)   ℯ ⋅cos(x)\n",
              "───────── + ─────────\n",
              "    2           2    "
            ]
          },
          "metadata": {
            "tags": []
          },
          "execution_count": 8
        }
      ]
    },
    {
      "cell_type": "markdown",
      "metadata": {
        "id": "G-Uk6dOSsKxX"
      },
      "source": [
        "# sympy の出力は必ずしも理想的ではないので、latex で整形する\r\n"
      ]
    },
    {
      "cell_type": "code",
      "metadata": {
        "colab": {
          "base_uri": "https://localhost:8080/",
          "height": 75
        },
        "id": "QS4asujirA7o",
        "outputId": "a51ae462-0ce8-4696-cd2b-7bf8290bffed"
      },
      "source": [
        "from sympy import *\r\n",
        "init_printing()\r\n",
        "x = symbols ('x')\r\n",
        "a = Integral (cos(x) *  exp(x), x)\r\n",
        "display(Eq (a, a.doit()))\r\n",
        "latex(Eq (a, factor(a.doit())))"
      ],
      "execution_count": null,
      "outputs": [
        {
          "output_type": "display_data",
          "data": {
            "image/png": "[encoded data removed]",
            "text/latex": "$\\displaystyle \\int e^{x} \\cos{\\left(x \\right)}\\, dx = \\frac{e^{x} \\sin{\\left(x \\right)}}{2} + \\frac{e^{x} \\cos{\\left(x \\right)}}{2}$",
            "text/plain": [
              "⌠                 x           x       \n",
              "⎮  x             ℯ ⋅sin(x)   ℯ ⋅cos(x)\n",
              "⎮ ℯ ⋅cos(x) dx = ───────── + ─────────\n",
              "⌡                    2           2    "
            ]
          },
          "metadata": {
            "tags": []
          }
        },
        {
          "output_type": "execute_result",
          "data": {
            "application/vnd.google.colaboratory.intrinsic+json": {
              "type": "string"
            },
            "text/plain": [
              "'\\\\int e^{x} \\\\cos{\\\\left(x \\\\right)}\\\\, dx = \\\\frac{\\\\left(\\\\sin{\\\\left(x \\\\right)} + \\\\cos{\\\\left(x \\\\right)}\\\\right) e^{x}}{2}'"
            ]
          },
          "metadata": {
            "tags": []
          },
          "execution_count": 18
        }
      ]
    },
    {
      "cell_type": "code",
      "metadata": {
        "id": "SIts4hqaqxBv",
        "colab": {
          "base_uri": "https://localhost:8080/",
          "height": 171
        },
        "outputId": "aff8e6d4-b55e-4cb7-dbfc-90963670517a"
      },
      "source": [
        "%%latex\n",
        "\\displaystyle\n",
        "\\int e^{x} \\cos{\\left(x \\right)}\\, dx = \\frac{e^{x} \\sin{\\left(x \\right)}}{2} + \\frac{e^{x} \\cos{\\left(x \\right)}}{2}  \\\\\n",
        "\\int{e^x \\cos (x)}dx = \\frac{e^x}{2} \\sin(x) +  \\frac{e^x}{2} \\cos(x) \\\\\n",
        "\\int e^{x} \\cos{\\left(x \\right)}\\, dx = \\frac{\\left(\\sin{\\left(x \\right)} + \\cos{\\left(x \\right)}\\right) e^{x}}{2} \\\\\n",
        "\\int e^{x} \\cos{\\left(x \\right)}\\, dx = \\frac{e^{x}}{2}\\left(\\sin{\\left(x \\right)} + \\cos{\\left(x \\right)}\\right) "
      ],
      "execution_count": null,
      "outputs": [
        {
          "output_type": "display_data",
          "data": {
            "text/latex": "\\displaystyle\n\\int e^{x} \\cos{\\left(x \\right)}\\, dx = \\frac{e^{x} \\sin{\\left(x \\right)}}{2} + \\frac{e^{x} \\cos{\\left(x \\right)}}{2}  \\\\\n\\int{e^x \\cos (x)}dx = \\frac{e^x}{2} \\sin(x) +  \\frac{e^x}{2} \\cos(x) \\\\\n\\int e^{x} \\cos{\\left(x \\right)}\\, dx = \\frac{\\left(\\sin{\\left(x \\right)} + \\cos{\\left(x \\right)}\\right) e^{x}}{2} \\\\\n\\int e^{x} \\cos{\\left(x \\right)}\\, dx = \\frac{e^{x}}{2}\\left(\\sin{\\left(x \\right)} + \\cos{\\left(x \\right)}\\right) ",
            "text/plain": [
              "<IPython.core.display.Latex object>"
            ]
          },
          "metadata": {
            "tags": []
          }
        }
      ]
    },
    {
      "cell_type": "markdown",
      "metadata": {
        "id": "dXfDPTB0c09d"
      },
      "source": [
        "`doit()`のヘルプを読んで見る。"
      ]
    },
    {
      "cell_type": "code",
      "metadata": {
        "id": "xPcoqsiEp6S1"
      },
      "source": [
        "# `doit()`のヘルプを読んで見る。\n",
        "from sympy import *\n",
        "x = symbols('x')\n",
        "help(x.doit)"
      ],
      "execution_count": null,
      "outputs": []
    },
    {
      "cell_type": "code",
      "metadata": {
        "id": "fnoevC_NrkQD",
        "colab": {
          "base_uri": "https://localhost:8080/",
          "height": 151
        },
        "outputId": "eb5852d1-dabd-4124-9a64-5963da618664"
      },
      "source": [
        "# doit() の使い方。 doit(a) ではダメ。doit(deep=False) とかに使う。\n",
        "from sympy import *\n",
        "init_printing()\n",
        "x = symbols ('x')\n",
        "a = 2 * Integral (x, x)\n",
        "display(a)\n",
        "print()\n",
        "display(a.doit())\n",
        "print()\n",
        "display(Eq(a, a.doit()))"
      ],
      "execution_count": null,
      "outputs": [
        {
          "output_type": "display_data",
          "data": {
            "image/png": "[encoded data removed]",
            "text/latex": "$\\displaystyle 2 \\int x\\, dx$",
            "text/plain": [
              "  ⌠     \n",
              "2⋅⎮ x dx\n",
              "  ⌡     "
            ]
          },
          "metadata": {
            "tags": []
          }
        },
        {
          "output_type": "stream",
          "text": [
            "\n"
          ],
          "name": "stdout"
        },
        {
          "output_type": "display_data",
          "data": {
            "image/png": "[encoded data removed]",
            "text/latex": "$\\displaystyle x^{2}$",
            "text/plain": [
              " 2\n",
              "x "
            ]
          },
          "metadata": {
            "tags": []
          }
        },
        {
          "output_type": "stream",
          "text": [
            "\n"
          ],
          "name": "stdout"
        },
        {
          "output_type": "display_data",
          "data": {
            "image/png": "[encoded data removed]",
            "text/latex": "$\\displaystyle 2 \\int x\\, dx = x^{2}$",
            "text/plain": [
              "  ⌠         2\n",
              "2⋅⎮ x dx = x \n",
              "  ⌡          "
            ]
          },
          "metadata": {
            "tags": []
          }
        }
      ]
    },
    {
      "cell_type": "markdown",
      "metadata": {
        "id": "-iAPhnOzd2A8"
      },
      "source": [
        "`init_printing()`とすると、アウトプットが数式表示になる。"
      ]
    },
    {
      "cell_type": "markdown",
      "metadata": {
        "id": "lDPGzEiHvten"
      },
      "source": [
        "# 微分"
      ]
    },
    {
      "cell_type": "markdown",
      "metadata": {
        "id": "P-JIRKRRe7X1"
      },
      "source": [
        "微分の実験\n",
        "\n"
      ]
    },
    {
      "cell_type": "code",
      "metadata": {
        "id": "qlnv4KbHfRro",
        "colab": {
          "base_uri": "https://localhost:8080/",
          "height": 160
        },
        "outputId": "cea26921-9a0b-44b0-a005-3d1fbde76bd3"
      },
      "source": [
        "# Derivative 微分の実験\r\n",
        "from sympy import *\r\n",
        "from sympy.abc import *\r\n",
        "init_printing()\r\n",
        "expr = x**2\r\n",
        "display(Eq(Derivative(expr), expr.diff()))\r\n",
        "print()\r\n",
        "display(Eq(Derivative(expr), diff(expr)))\r\n",
        "print()\r\n",
        "display(Eq(Derivative(expr), (Derivative(expr)).doit()))"
      ],
      "execution_count": null,
      "outputs": [
        {
          "output_type": "display_data",
          "data": {
            "image/png": "[encoded data removed]",
            "text/latex": "$\\displaystyle \\frac{d}{d x} x^{2} = 2 x$",
            "text/plain": [
              "d ⎛ 2⎞      \n",
              "──⎝x ⎠ = 2⋅x\n",
              "dx          "
            ]
          },
          "metadata": {
            "tags": []
          }
        },
        {
          "output_type": "stream",
          "text": [
            "\n"
          ],
          "name": "stdout"
        },
        {
          "output_type": "display_data",
          "data": {
            "image/png": "[encoded data removed]",
            "text/latex": "$\\displaystyle \\frac{d}{d x} x^{2} = 2 x$",
            "text/plain": [
              "d ⎛ 2⎞      \n",
              "──⎝x ⎠ = 2⋅x\n",
              "dx          "
            ]
          },
          "metadata": {
            "tags": []
          }
        },
        {
          "output_type": "stream",
          "text": [
            "\n"
          ],
          "name": "stdout"
        },
        {
          "output_type": "display_data",
          "data": {
            "image/png": "[encoded data removed]",
            "text/latex": "$\\displaystyle \\frac{d}{d x} x^{2} = 2 x$",
            "text/plain": [
              "d ⎛ 2⎞      \n",
              "──⎝x ⎠ = 2⋅x\n",
              "dx          "
            ]
          },
          "metadata": {
            "tags": []
          }
        }
      ]
    },
    {
      "cell_type": "code",
      "metadata": {
        "id": "oYxZ9YT59cqv",
        "colab": {
          "base_uri": "https://localhost:8080/",
          "height": 53
        },
        "outputId": "fb834a3c-c0ca-4c73-a7cb-d42080a91be6"
      },
      "source": [
        "Eq(Derivative(exp(x)), diff(exp(x)))"
      ],
      "execution_count": null,
      "outputs": [
        {
          "output_type": "execute_result",
          "data": {
            "image/png": "[encoded data removed]",
            "text/latex": "$\\displaystyle \\frac{d}{d x} e^{x} = e^{x}$",
            "text/plain": [
              "d ⎛ x⎞    x\n",
              "──⎝ℯ ⎠ = ℯ \n",
              "dx         "
            ]
          },
          "metadata": {
            "tags": []
          },
          "execution_count": 45
        }
      ]
    },
    {
      "cell_type": "markdown",
      "metadata": {
        "id": "DQMYoS-QfdlK"
      },
      "source": [
        "# 因数分解と式の展開\n",
        "\n",
        "`factor()` と `expand()` を使ってみる。"
      ]
    },
    {
      "cell_type": "code",
      "metadata": {
        "id": "uIssI0lTWUe4",
        "colab": {
          "base_uri": "https://localhost:8080/",
          "height": 99
        },
        "outputId": "5d9d6afd-18b3-4421-b6ef-0c07a17fc0fc"
      },
      "source": [
        "from sympy import *\n",
        "from sympy.abc import *\n",
        "init_printing()\n",
        "a = (x + 2) * (x - 2)\n",
        "b = (x**2 - 4)\n",
        "c = (x**2 - 4) / (x - 2)\n",
        "display(a, b, c)"
      ],
      "execution_count": null,
      "outputs": [
        {
          "output_type": "display_data",
          "data": {
            "image/png": "[encoded data removed]",
            "text/latex": "$\\displaystyle \\left(x - 2\\right) \\left(x + 2\\right)$",
            "text/plain": [
              "(x - 2)⋅(x + 2)"
            ]
          },
          "metadata": {
            "tags": []
          }
        },
        {
          "output_type": "display_data",
          "data": {
            "image/png": "[encoded data removed]",
            "text/latex": "$\\displaystyle x^{2} - 4$",
            "text/plain": [
              " 2    \n",
              "x  - 4"
            ]
          },
          "metadata": {
            "tags": []
          }
        },
        {
          "output_type": "display_data",
          "data": {
            "image/png": "[encoded data removed]",
            "text/latex": "$\\displaystyle \\frac{x^{2} - 4}{x - 2}$",
            "text/plain": [
              " 2    \n",
              "x  - 4\n",
              "──────\n",
              "x - 2 "
            ]
          },
          "metadata": {
            "tags": []
          }
        }
      ]
    },
    {
      "cell_type": "code",
      "metadata": {
        "colab": {
          "base_uri": "https://localhost:8080/",
          "height": 39
        },
        "id": "urbjf0frMUid",
        "outputId": "82d52f22-848a-4c9e-8f37-9e68f8be42a1"
      },
      "source": [
        "factor((x**2 - 4))"
      ],
      "execution_count": null,
      "outputs": [
        {
          "output_type": "execute_result",
          "data": {
            "image/png": "[encoded data removed]",
            "text/latex": "$\\displaystyle \\left(x - 2\\right) \\left(x + 2\\right)$",
            "text/plain": [
              "(x - 2)⋅(x + 2)"
            ]
          },
          "metadata": {
            "tags": []
          },
          "execution_count": 16
        }
      ]
    },
    {
      "cell_type": "code",
      "metadata": {
        "id": "kwl0v339wofH",
        "colab": {
          "base_uri": "https://localhost:8080/"
        },
        "outputId": "baddf306-bb1b-48e9-985e-c45909e673f8"
      },
      "source": [
        "display(factor (b))\n",
        "display(factor (c))"
      ],
      "execution_count": null,
      "outputs": [
        {
          "output_type": "display_data",
          "data": {
            "image/png": "[encoded data removed]",
            "text/latex": "$\\displaystyle \\left(x - 2\\right) \\left(x + 2\\right)$",
            "text/plain": [
              "(x - 2)⋅(x + 2)"
            ]
          },
          "metadata": {
            "tags": []
          }
        },
        {
          "output_type": "display_data",
          "data": {
            "image/png": "[encoded data removed]",
            "text/latex": "$\\displaystyle x + 2$",
            "text/plain": [
              "x + 2"
            ]
          },
          "metadata": {
            "tags": []
          }
        }
      ]
    },
    {
      "cell_type": "code",
      "metadata": {
        "id": "EvzO8hrpw0v2",
        "colab": {
          "base_uri": "https://localhost:8080/",
          "height": 99
        },
        "outputId": "aa7f9aaf-30c9-4c64-dd16-1f90f907a9eb"
      },
      "source": [
        "display(expand (a))\n",
        "display(expand (b))\n",
        "display(expand (c))"
      ],
      "execution_count": null,
      "outputs": [
        {
          "output_type": "display_data",
          "data": {
            "image/png": "[encoded data removed]",
            "text/latex": "$\\displaystyle x^{2} - 4$",
            "text/plain": [
              " 2    \n",
              "x  - 4"
            ]
          },
          "metadata": {
            "tags": []
          }
        },
        {
          "output_type": "display_data",
          "data": {
            "image/png": "[encoded data removed]",
            "text/latex": "$\\displaystyle x^{2} - 4$",
            "text/plain": [
              " 2    \n",
              "x  - 4"
            ]
          },
          "metadata": {
            "tags": []
          }
        },
        {
          "output_type": "display_data",
          "data": {
            "image/png": "[encoded data removed]",
            "text/latex": "$\\displaystyle \\frac{x^{2}}{x - 2} - \\frac{4}{x - 2}$",
            "text/plain": [
              "   2         \n",
              "  x       4  \n",
              "───── - ─────\n",
              "x - 2   x - 2"
            ]
          },
          "metadata": {
            "tags": []
          }
        }
      ]
    },
    {
      "cell_type": "code",
      "metadata": {
        "id": "aOV1HIRpgia7",
        "colab": {
          "base_uri": "https://localhost:8080/"
        },
        "outputId": "9d9bc8e5-388a-4f02-bd88-d895a5d37e29"
      },
      "source": [
        "d = (x - 2)\n",
        "b / d"
      ],
      "execution_count": null,
      "outputs": [
        {
          "output_type": "execute_result",
          "data": {
            "image/png": "[encoded data removed]",
            "text/latex": "$\\displaystyle x + 2$",
            "text/plain": [
              "x + 2"
            ]
          },
          "metadata": {
            "tags": []
          },
          "execution_count": 20
        }
      ]
    },
    {
      "cell_type": "markdown",
      "metadata": {
        "id": "JweaIFFAg0bA"
      },
      "source": [
        "式の因数分解や展開が全部自動化できるわけではない。\n",
        "\n",
        "あたりまえだね。"
      ]
    },
    {
      "cell_type": "code",
      "metadata": {
        "id": "1kXZEyqI-dzq",
        "colab": {
          "base_uri": "https://localhost:8080/",
          "height": 105
        },
        "outputId": "bbbbb9be-b6d5-48da-bd95-0766f717e3cb"
      },
      "source": [
        "# 多項式はそれなりに並べ替えたり整理はしてくれる\r\n",
        "display(x**2 + y**3 + x + x**3 + x**2 + y**4)\r\n",
        "display(x * (x+1) ** 2 + y**3 *(y + 1))\r\n",
        "display(expand(x * (x+1) ** 2 + y**3 *(y + 1)))\r\n"
      ],
      "execution_count": null,
      "outputs": [
        {
          "output_type": "display_data",
          "data": {
            "image/png": "[encoded data removed]",
            "text/latex": "$\\displaystyle x^{3} + 2 x^{2} + x + y^{4} + y^{3}$",
            "text/plain": [
              " 3      2        4    3\n",
              "x  + 2⋅x  + x + y  + y "
            ]
          },
          "metadata": {
            "tags": []
          }
        },
        {
          "output_type": "display_data",
          "data": {
            "image/png": "[encoded data removed]",
            "text/latex": "$\\displaystyle x \\left(x + 1\\right)^{2} + y^{3} \\left(y + 1\\right)$",
            "text/plain": [
              "         2    3        \n",
              "x⋅(x + 1)  + y ⋅(y + 1)"
            ]
          },
          "metadata": {
            "tags": []
          }
        },
        {
          "output_type": "display_data",
          "data": {
            "image/png": "[encoded data removed]",
            "text/latex": "$\\displaystyle x^{3} + 2 x^{2} + x + y^{4} + y^{3}$",
            "text/plain": [
              " 3      2        4    3\n",
              "x  + 2⋅x  + x + y  + y "
            ]
          },
          "metadata": {
            "tags": []
          }
        },
        {
          "output_type": "display_data",
          "data": {
            "image/png": "[encoded data removed]",
            "text/latex": "$\\displaystyle x^{3} + 2 x^{2} + x + y^{4} + y^{3}$",
            "text/plain": [
              " 3      2        4    3\n",
              "x  + 2⋅x  + x + y  + y "
            ]
          },
          "metadata": {
            "tags": []
          }
        }
      ]
    },
    {
      "cell_type": "markdown",
      "metadata": {
        "id": "M2glS_M8hLfC"
      },
      "source": [
        "Rational() とか"
      ]
    },
    {
      "cell_type": "code",
      "metadata": {
        "id": "wUTnTPTdPTU9",
        "colab": {
          "base_uri": "https://localhost:8080/"
        },
        "outputId": "28ecd351-ec49-4d26-d59c-0abeaf73e5c1"
      },
      "source": [
        "# Rational() とか\n",
        "from sympy import *\n",
        "Rational (3, 2)"
      ],
      "execution_count": null,
      "outputs": [
        {
          "output_type": "execute_result",
          "data": {
            "image/png": "[encoded data removed]",
            "text/latex": "$\\displaystyle \\frac{3}{2}$",
            "text/plain": [
              "3/2"
            ]
          },
          "metadata": {
            "tags": []
          },
          "execution_count": 21
        }
      ]
    },
    {
      "cell_type": "code",
      "metadata": {
        "id": "MzcOLVAqca9B",
        "colab": {
          "base_uri": "https://localhost:8080/"
        },
        "outputId": "b200eb56-8c21-4539-ec3a-92fe850b6b45"
      },
      "source": [
        "Rational(8, 4)"
      ],
      "execution_count": null,
      "outputs": [
        {
          "output_type": "execute_result",
          "data": {
            "image/png": "[encoded data removed]",
            "text/latex": "$\\displaystyle 2$",
            "text/plain": [
              "2"
            ]
          },
          "metadata": {
            "tags": []
          },
          "execution_count": 22
        }
      ]
    },
    {
      "cell_type": "code",
      "metadata": {
        "id": "3iacy_ivdDTz",
        "colab": {
          "base_uri": "https://localhost:8080/"
        },
        "outputId": "da274ba5-df84-4e1a-cb52-53d4a465fd80"
      },
      "source": [
        "sqrt(8)"
      ],
      "execution_count": null,
      "outputs": [
        {
          "output_type": "execute_result",
          "data": {
            "image/png": "[encoded data removed]",
            "text/latex": "$\\displaystyle 2 \\sqrt{2}$",
            "text/plain": [
              "2⋅√2"
            ]
          },
          "metadata": {
            "tags": []
          },
          "execution_count": 23
        }
      ]
    },
    {
      "cell_type": "markdown",
      "metadata": {
        "id": "BT5-RAguPgJO"
      },
      "source": [
        "数式のシンボルを事前に宣言する場合。\n"
      ]
    },
    {
      "cell_type": "code",
      "metadata": {
        "id": "uhfcY3IdScpR"
      },
      "source": [
        "# シンボルについて考察、実験\n",
        "from sympy import *\n",
        "x, y, z = symbols(\"x y z\")\n",
        "k, m, n = symbols(\"k m n\", integer=True)\n",
        "f, g, h = symbols('f g h', cls=Function)"
      ],
      "execution_count": null,
      "outputs": []
    },
    {
      "cell_type": "markdown",
      "metadata": {
        "id": "a-LAq0SpSe8p"
      },
      "source": [
        "\n",
        "意味は多分、`x, y, z` は任意の変数、`f, m, n` は整数、`f, g, h` は関数ということだと思うが、`i, j`がない。"
      ]
    },
    {
      "cell_type": "code",
      "metadata": {
        "id": "XEL_2lf2_211"
      },
      "source": [
        "from sympy import *\r\n",
        "from sympy.abc import *\r\n",
        "init_printing()\r\n",
        "display(alpha, beta, chi, delta, epsilon, eta, gamma, iota, kappa, lamda, mu, nu, omega, omicron, phi, pi, psi, rho, sigma, tau, theta, upsilon, xi, zeta)"
      ],
      "execution_count": null,
      "outputs": []
    },
    {
      "cell_type": "markdown",
      "metadata": {
        "id": "LVgEUUAJKEy8"
      },
      "source": [
        "Rational()の中で変数は使えなかった"
      ]
    },
    {
      "cell_type": "code",
      "metadata": {
        "id": "cqG38Oy6F6vX",
        "colab": {
          "base_uri": "https://localhost:8080/",
          "height": 51
        },
        "outputId": "5fc44c92-cbdc-4006-de48-77f1271c741e"
      },
      "source": [
        "# Rational(x, y) # => TypeError\r\n",
        "display(x / y)"
      ],
      "execution_count": null,
      "outputs": [
        {
          "output_type": "display_data",
          "data": {
            "image/png": "[encoded data removed]",
            "text/latex": "$\\displaystyle \\frac{x}{y}$",
            "text/plain": [
              "x\n",
              "─\n",
              "y"
            ]
          },
          "metadata": {
            "tags": []
          }
        }
      ]
    },
    {
      "cell_type": "markdown",
      "metadata": {
        "id": "do4v0KjgKEzA"
      },
      "source": [
        "数式の割り算とか"
      ]
    },
    {
      "cell_type": "code",
      "metadata": {
        "id": "_Wh5eRApKEzB",
        "colab": {
          "base_uri": "https://localhost:8080/"
        },
        "outputId": "cd759b36-5684-4d46-bc3f-7695a0b1498b"
      },
      "source": [
        "(x**2 - 2 * x + 1) / (x - 1)"
      ],
      "execution_count": null,
      "outputs": [
        {
          "output_type": "execute_result",
          "data": {
            "image/png": "[encoded data removed]",
            "text/latex": "$\\displaystyle \\frac{x^{2} - 2 x + 1}{x - 1}$",
            "text/plain": [
              " 2          \n",
              "x  - 2⋅x + 1\n",
              "────────────\n",
              "   x - 1    "
            ]
          },
          "metadata": {
            "tags": []
          },
          "execution_count": 35
        }
      ]
    },
    {
      "cell_type": "code",
      "metadata": {
        "id": "WdebLm4_ArEp",
        "colab": {
          "base_uri": "https://localhost:8080/"
        },
        "outputId": "4a2fc833-2709-495f-8b05-75b73e6fd8bf"
      },
      "source": [
        "factor((x**2 - 2 * x + 1) / (x - 1))"
      ],
      "execution_count": null,
      "outputs": [
        {
          "output_type": "execute_result",
          "data": {
            "image/png": "[encoded data removed]",
            "text/latex": "$\\displaystyle x - 1$",
            "text/plain": [
              "x - 1"
            ]
          },
          "metadata": {
            "tags": []
          },
          "execution_count": 36
        }
      ]
    },
    {
      "cell_type": "code",
      "metadata": {
        "id": "ty1uyZ18Ahba",
        "colab": {
          "base_uri": "https://localhost:8080/"
        },
        "outputId": "c2557db2-ba8a-4b16-b9d1-8aead778fbaf"
      },
      "source": [
        "factor ((x**2 - 2*x + 1)) / (x - 1)"
      ],
      "execution_count": null,
      "outputs": [
        {
          "output_type": "execute_result",
          "data": {
            "image/png": "[encoded data removed]",
            "text/latex": "$\\displaystyle x - 1$",
            "text/plain": [
              "x - 1"
            ]
          },
          "metadata": {
            "tags": []
          },
          "execution_count": 37
        }
      ]
    },
    {
      "cell_type": "code",
      "metadata": {
        "id": "Mbx4oTQiDSiw",
        "colab": {
          "base_uri": "https://localhost:8080/",
          "height": 83
        },
        "outputId": "f7a5dda0-3494-4c65-8ac8-d9a93c38cb4f"
      },
      "source": [
        "display(pi, i, e)"
      ],
      "execution_count": null,
      "outputs": [
        {
          "output_type": "display_data",
          "data": {
            "image/png": "[encoded data removed]",
            "text/latex": "$\\displaystyle \\pi$",
            "text/plain": [
              "π"
            ]
          },
          "metadata": {
            "tags": []
          }
        },
        {
          "output_type": "display_data",
          "data": {
            "image/png": "[encoded data removed]",
            "text/latex": "$\\displaystyle i$",
            "text/plain": [
              "i"
            ]
          },
          "metadata": {
            "tags": []
          }
        },
        {
          "output_type": "display_data",
          "data": {
            "image/png": "[encoded data removed]",
            "text/latex": "$\\displaystyle e$",
            "text/plain": [
              "e"
            ]
          },
          "metadata": {
            "tags": []
          }
        }
      ]
    },
    {
      "cell_type": "code",
      "metadata": {
        "id": "9sD_aj6CKEzF",
        "colab": {
          "base_uri": "https://localhost:8080/"
        },
        "outputId": "b7c3702e-3562-4837-f935-b20a5ebe10b0"
      },
      "source": [
        "pi.evalf()"
      ],
      "execution_count": null,
      "outputs": [
        {
          "output_type": "execute_result",
          "data": {
            "image/png": "[encoded data removed]",
            "text/latex": "$\\displaystyle 3.14159265358979$",
            "text/plain": [
              "3.14159265358979"
            ]
          },
          "metadata": {
            "tags": []
          },
          "execution_count": 39
        }
      ]
    },
    {
      "cell_type": "code",
      "metadata": {
        "id": "GuDuVoawBM3C",
        "colab": {
          "base_uri": "https://localhost:8080/"
        },
        "outputId": "d4dc595a-2165-497c-a017-1743dacd9830"
      },
      "source": [
        "exp(1).evalf()"
      ],
      "execution_count": null,
      "outputs": [
        {
          "output_type": "execute_result",
          "data": {
            "image/png": "[encoded data removed]",
            "text/latex": "$\\displaystyle 2.71828182845905$",
            "text/plain": [
              "2.71828182845905"
            ]
          },
          "metadata": {
            "tags": []
          },
          "execution_count": 41
        }
      ]
    },
    {
      "cell_type": "markdown",
      "metadata": {
        "id": "9VlCDm3MDWef"
      },
      "source": [
        "# ヘルプの求め方\n",
        "\n",
        "`evalf()`の例では`evalf?`とか`evalf??`とかが簡単でよい。\n",
        "\n",
        "`help(evalf)`もある。`help(x.evalf)`もある。"
      ]
    },
    {
      "cell_type": "code",
      "metadata": {
        "id": "JrMwBhcmKEzI"
      },
      "source": [
        "evalf?\n",
        "# Adaptive numerical evaluation of SymPy expressions, using mpmath\n",
        "# for mathematical functions."
      ],
      "execution_count": 39,
      "outputs": []
    },
    {
      "cell_type": "code",
      "metadata": {
        "id": "KrNbm3L_RQOd"
      },
      "source": [
        "evalf??"
      ],
      "execution_count": 38,
      "outputs": []
    },
    {
      "cell_type": "code",
      "metadata": {
        "id": "3oXhpTixKEzP",
        "colab": {
          "base_uri": "https://localhost:8080/",
          "height": 37
        },
        "outputId": "5e965d71-8193-4c20-e5c0-0ff1b31e15b2"
      },
      "source": [
        "exp(1).evalf()"
      ],
      "execution_count": 40,
      "outputs": [
        {
          "output_type": "execute_result",
          "data": {
            "image/png": "[encoded data removed]",
            "text/latex": "$\\displaystyle 2.71828182845905$",
            "text/plain": [
              "2.71828182845905"
            ]
          },
          "metadata": {
            "tags": []
          },
          "execution_count": 40
        }
      ]
    },
    {
      "cell_type": "code",
      "metadata": {
        "id": "AUNzk8D3KEzX",
        "colab": {
          "base_uri": "https://localhost:8080/",
          "height": 37
        },
        "outputId": "31c0b75a-7c67-45f2-aa24-0fd219381814"
      },
      "source": [
        "-oo.evalf()"
      ],
      "execution_count": 42,
      "outputs": [
        {
          "output_type": "execute_result",
          "data": {
            "image/png": "[encoded data removed]",
            "text/latex": "$\\displaystyle -\\infty$",
            "text/plain": [
              "-∞"
            ]
          },
          "metadata": {
            "tags": []
          },
          "execution_count": 42
        }
      ]
    },
    {
      "cell_type": "code",
      "metadata": {
        "id": "_8Gm7ex6TWOW",
        "colab": {
          "base_uri": "https://localhost:8080/",
          "height": 37
        },
        "outputId": "31836cb4-3f35-4ca0-ca1b-b354ee68ad05"
      },
      "source": [
        "-oo"
      ],
      "execution_count": 43,
      "outputs": [
        {
          "output_type": "execute_result",
          "data": {
            "image/png": "[encoded data removed]",
            "text/latex": "$\\displaystyle -\\infty$",
            "text/plain": [
              "-∞"
            ]
          },
          "metadata": {
            "tags": []
          },
          "execution_count": 43
        }
      ]
    },
    {
      "cell_type": "markdown",
      "metadata": {
        "id": "znIgM64DFs1D"
      },
      "source": [
        "# 式の簡素化\n",
        "\n",
        "`simplification`というのか。自動でやられるのはごく単純な場合だけ。\n"
      ]
    },
    {
      "cell_type": "markdown",
      "metadata": {
        "id": "zbiRWIWZTZ6K"
      },
      "source": [
        "# いまここ"
      ]
    },
    {
      "cell_type": "code",
      "metadata": {
        "id": "Qw6eL_b6Kmg8",
        "colab": {
          "base_uri": "https://localhost:8080/",
          "height": 39
        },
        "outputId": "cf413120-8ede-42d8-9c18-f664d68d6671"
      },
      "source": [
        "from sympy import *\n",
        "init_printing(use_unicode=True)\n",
        "x, y = symbols('x y')\n",
        "expr = x + 2 * y\n",
        "expand(x * expr)\n",
        "factor (expand (x * expr))"
      ],
      "execution_count": null,
      "outputs": [
        {
          "output_type": "execute_result",
          "data": {
            "image/png": "[encoded data removed]",
            "text/latex": "$\\displaystyle x \\left(x + 2 y\\right)$",
            "text/plain": [
              "x⋅(x + 2⋅y)"
            ]
          },
          "metadata": {
            "tags": []
          },
          "execution_count": 51
        }
      ]
    },
    {
      "cell_type": "code",
      "metadata": {
        "id": "ZMMsM-OhLrUw",
        "colab": {
          "base_uri": "https://localhost:8080/",
          "height": 39
        },
        "outputId": "76c79ecd-0d8d-44f8-a03b-ff4bba42e309"
      },
      "source": [
        "init_printing(use_unicode=True)\n",
        "expr = (x ** 2 - 4) / (x - 2)\n",
        "factor (expr)"
      ],
      "execution_count": null,
      "outputs": [
        {
          "output_type": "execute_result",
          "data": {
            "image/png": "[encoded data removed]",
            "text/latex": "$\\displaystyle x + 2$",
            "text/plain": [
              "x + 2"
            ]
          },
          "metadata": {
            "tags": []
          },
          "execution_count": 52
        }
      ]
    },
    {
      "cell_type": "code",
      "metadata": {
        "id": "lIhZzXskMO82",
        "colab": {
          "base_uri": "https://localhost:8080/",
          "height": 39
        },
        "outputId": "c70390f8-ba40-4dc7-e2b2-f672f478e41e"
      },
      "source": [
        "from sympy import *\n",
        "init_printing(use_unicode=True)\n",
        "x, t, z, nu = symbols ('x t z nu')\n",
        "\n",
        "expr = sin (x) * exp(x)\n",
        "expr"
      ],
      "execution_count": null,
      "outputs": [
        {
          "output_type": "execute_result",
          "data": {
            "image/png": "[encoded data removed]",
            "text/latex": "$\\displaystyle e^{x} \\sin{\\left(x \\right)}$",
            "text/plain": [
              " x       \n",
              "ℯ ⋅sin(x)"
            ]
          },
          "metadata": {
            "tags": []
          },
          "execution_count": 53
        }
      ]
    },
    {
      "cell_type": "code",
      "metadata": {
        "id": "SpYt38qjMyAJ",
        "colab": {
          "base_uri": "https://localhost:8080/",
          "height": 39
        },
        "outputId": "42c91c1d-b4cb-4828-c0cf-d7b77a39be65"
      },
      "source": [
        "diff(expr, x)"
      ],
      "execution_count": null,
      "outputs": [
        {
          "output_type": "execute_result",
          "data": {
            "image/png": "[encoded data removed]",
            "text/latex": "$\\displaystyle e^{x} \\sin{\\left(x \\right)} + e^{x} \\cos{\\left(x \\right)}$",
            "text/plain": [
              " x           x       \n",
              "ℯ ⋅sin(x) + ℯ ⋅cos(x)"
            ]
          },
          "metadata": {
            "tags": []
          },
          "execution_count": 54
        }
      ]
    },
    {
      "cell_type": "code",
      "metadata": {
        "id": "BejD_4pWM4Kv",
        "colab": {
          "base_uri": "https://localhost:8080/",
          "height": 39
        },
        "outputId": "7c524c36-cfc0-4354-bb6f-e2cbc15d7620"
      },
      "source": [
        "integrate (exp(x)*sin(x) + exp(x)*cos(x))"
      ],
      "execution_count": null,
      "outputs": [
        {
          "output_type": "execute_result",
          "data": {
            "image/png": "[encoded data removed]",
            "text/latex": "$\\displaystyle e^{x} \\sin{\\left(x \\right)}$",
            "text/plain": [
              " x       \n",
              "ℯ ⋅sin(x)"
            ]
          },
          "metadata": {
            "tags": []
          },
          "execution_count": 55
        }
      ]
    },
    {
      "cell_type": "code",
      "metadata": {
        "id": "1_Y5u_WDNV1T",
        "colab": {
          "base_uri": "https://localhost:8080/",
          "height": 39
        },
        "outputId": "19a7d487-9c1f-40fb-dcda-8e927fbc4738"
      },
      "source": [
        "integrate (exp(x)*(sin(x) + cos(x)))"
      ],
      "execution_count": null,
      "outputs": [
        {
          "output_type": "execute_result",
          "data": {
            "image/png": "[encoded data removed]",
            "text/latex": "$\\displaystyle e^{x} \\sin{\\left(x \\right)}$",
            "text/plain": [
              " x       \n",
              "ℯ ⋅sin(x)"
            ]
          },
          "metadata": {
            "tags": []
          },
          "execution_count": 56
        }
      ]
    },
    {
      "cell_type": "code",
      "metadata": {
        "id": "OWMFe2XINlVG",
        "colab": {
          "base_uri": "https://localhost:8080/",
          "height": 56
        },
        "outputId": "776930c3-543a-4d61-aa3e-ef22cedbbc0f"
      },
      "source": [
        "integrate(sin(x**2), (x, -oo, oo))"
      ],
      "execution_count": null,
      "outputs": [
        {
          "output_type": "execute_result",
          "data": {
            "image/png": "[encoded data removed]",
            "text/latex": "$\\displaystyle \\frac{\\sqrt{2} \\sqrt{\\pi}}{2}$",
            "text/plain": [
              "√2⋅√π\n",
              "─────\n",
              "  2  "
            ]
          },
          "metadata": {
            "tags": []
          },
          "execution_count": 57
        }
      ]
    },
    {
      "cell_type": "code",
      "metadata": {
        "id": "Ao4RLINTOETh",
        "colab": {
          "base_uri": "https://localhost:8080/",
          "height": 37
        },
        "outputId": "f0c78f21-264a-4191-d9b0-a29f929e95fd"
      },
      "source": [
        "limit (sin(x)/x, x, 0)"
      ],
      "execution_count": null,
      "outputs": [
        {
          "output_type": "execute_result",
          "data": {
            "image/png": "[encoded data removed]",
            "text/latex": "$\\displaystyle 1$",
            "text/plain": [
              "1"
            ]
          },
          "metadata": {
            "tags": []
          },
          "execution_count": 58
        }
      ]
    },
    {
      "cell_type": "markdown",
      "metadata": {
        "id": "crfzDBICKEza"
      },
      "source": [
        "###### $ \\sqrt 2 $ を100桁まで計算しましょう\n",
        "って、これまでの知識でできるか？  \n",
        "こういう問題を出すのって教科書が悪いよね。  \n",
        "本文で説明できていないことを練習問題で細くしたい、という気持ちはわかるが独習者を無視している。  \n",
        "ひょっとするとevalf(100)とかか？  \n",
        "とりあえず、$ \\sqrt 2 $ を式にしよう。"
      ]
    },
    {
      "cell_type": "code",
      "metadata": {
        "id": "bq7SWLBMKEzb",
        "colab": {
          "base_uri": "https://localhost:8080/",
          "height": 37
        },
        "outputId": "c07ce62b-2f3f-40c6-ec2a-dbfdb5329983"
      },
      "source": [
        "pi.evalf(100)"
      ],
      "execution_count": null,
      "outputs": [
        {
          "output_type": "execute_result",
          "data": {
            "image/png": "[encoded data removed]",
            "text/latex": "$\\displaystyle 3.141592653589793238462643383279502884197169399375105820974944592307816406286208998628034825342117068$",
            "text/plain": [
              "3.1415926535897932384626433832795028841971693993751058209749445923078164062862\n",
              "08998628034825342117068"
            ]
          },
          "metadata": {
            "tags": []
          },
          "execution_count": 59
        }
      ]
    },
    {
      "cell_type": "code",
      "metadata": {
        "id": "4VLLtLtEKEze",
        "colab": {
          "base_uri": "https://localhost:8080/",
          "height": 37
        },
        "outputId": "95c2ad0c-89e6-4c79-a3e9-e09bc3de6fc5"
      },
      "source": [
        "2**(1/2)"
      ],
      "execution_count": null,
      "outputs": [
        {
          "output_type": "execute_result",
          "data": {
            "image/png": "[encoded data removed]",
            "text/latex": "$\\displaystyle 1.4142135623731$",
            "text/plain": [
              "1.4142135623730951"
            ]
          },
          "metadata": {
            "tags": []
          },
          "execution_count": 60
        }
      ]
    },
    {
      "cell_type": "code",
      "metadata": {
        "id": "mRwF3gLmJNQF",
        "colab": {
          "base_uri": "https://localhost:8080/",
          "height": 37
        },
        "outputId": "71f60a7d-eba8-469e-923a-3af3db7d927a"
      },
      "source": [
        "sqrt(2).evalf(100)"
      ],
      "execution_count": null,
      "outputs": [
        {
          "output_type": "execute_result",
          "data": {
            "image/png": "[encoded data removed]",
            "text/latex": "$\\displaystyle 1.414213562373095048801688724209698078569671875376948073176679737990732478462107038850387534327641573$",
            "text/plain": [
              "1.4142135623730950488016887242096980785696718753769480731766797379907324784621\n",
              "07038850387534327641573"
            ]
          },
          "metadata": {
            "tags": []
          },
          "execution_count": 61
        }
      ]
    },
    {
      "cell_type": "code",
      "metadata": {
        "id": "LIeJpJlHKEzk",
        "colab": {
          "base_uri": "https://localhost:8080/"
        },
        "outputId": "7ac3c314-a2b8-4fdb-8f0c-b40f2fbaa0ab"
      },
      "source": [
        "val = 2**(1/2)\n",
        "print(\"{0:.100f}\".format(val))"
      ],
      "execution_count": null,
      "outputs": [
        {
          "output_type": "stream",
          "text": [
            "1.4142135623730951454746218587388284504413604736328125000000000000000000000000000000000000000000000000\n"
          ],
          "name": "stdout"
        }
      ]
    },
    {
      "cell_type": "code",
      "metadata": {
        "id": "0rdLN--MJ0hx"
      },
      "source": [
        "# これはエラーになる\n",
        "# val = sqrt(2)\n",
        "# print(\"{0:.100f}\".format(val))"
      ],
      "execution_count": null,
      "outputs": []
    },
    {
      "cell_type": "code",
      "metadata": {
        "id": "FeruX50yOFXO"
      },
      "source": [
        "val = 2**(1/2)"
      ],
      "execution_count": null,
      "outputs": []
    },
    {
      "cell_type": "code",
      "metadata": {
        "id": "pivXMEb3KEzn",
        "colab": {
          "base_uri": "https://localhost:8080/",
          "height": 37
        },
        "outputId": "ee9fd42f-301f-4961-a11e-fa2d6705f467"
      },
      "source": [
        "# 2**(1/2)はfloatなのでevalf()が使えない。exp表示にする必要がある\n",
        "exp(ln(2) / 2).evalf(100)"
      ],
      "execution_count": null,
      "outputs": [
        {
          "output_type": "execute_result",
          "data": {
            "image/png": "[encoded data removed]",
            "text/latex": "$\\displaystyle 1.414213562373095048801688724209698078569671875376948073176679737990732478462107038850387534327641573$",
            "text/plain": [
              "1.4142135623730950488016887242096980785696718753769480731766797379907324784621\n",
              "07038850387534327641573"
            ]
          },
          "metadata": {
            "tags": []
          },
          "execution_count": 65
        }
      ]
    },
    {
      "cell_type": "code",
      "metadata": {
        "id": "jrEG__KAKEzq",
        "colab": {
          "base_uri": "https://localhost:8080/",
          "height": 52
        },
        "outputId": "e182dd14-c942-4b65-fa60-0a751fbfc46f"
      },
      "source": [
        "###### 1/2+1/3を有理数として計算する\n",
        "Rational(1,2)+Rational(1,3)"
      ],
      "execution_count": null,
      "outputs": [
        {
          "output_type": "execute_result",
          "data": {
            "image/png": "[encoded data removed]",
            "text/latex": "$\\displaystyle \\frac{5}{6}$",
            "text/plain": [
              "5/6"
            ]
          },
          "metadata": {
            "tags": []
          },
          "execution_count": 66
        }
      ]
    },
    {
      "cell_type": "code",
      "metadata": {
        "id": "K2ePM3rrKEzu",
        "colab": {
          "base_uri": "https://localhost:8080/",
          "height": 39
        },
        "outputId": "e9c2b8ea-4743-43b9-d97b-011a04f2f8d9"
      },
      "source": [
        "x + x + y + x"
      ],
      "execution_count": null,
      "outputs": [
        {
          "output_type": "execute_result",
          "data": {
            "image/png": "[encoded data removed]",
            "text/latex": "$\\displaystyle 3 x + y$",
            "text/plain": [
              "3⋅x + y"
            ]
          },
          "metadata": {
            "tags": []
          },
          "execution_count": 67
        }
      ]
    },
    {
      "cell_type": "markdown",
      "metadata": {
        "id": "zqQLWhDgKEzw"
      },
      "source": [
        "###### init_printingについて、テキストによっていろんな初期化をしている\n",
        "sympy.init_printing(use_unicode=False, wrap_line=True)  \n",
        "とか  \n",
        "init_printing()  \n",
        "とか  \n",
        "from sympy.interactive import printing  \n",
        "printing.init_printing(use_latex='mathjax')  \n",
        "とか  \n",
        "init_printing(use_latex=True)  \n",
        "とか  "
      ]
    },
    {
      "cell_type": "code",
      "metadata": {
        "id": "BHfMmgi7KEzx",
        "colab": {
          "base_uri": "https://localhost:8080/",
          "height": 39
        },
        "outputId": "fdb43f3a-433a-43bd-a8ad-5a1f23599076"
      },
      "source": [
        "expand((x+y)**5)"
      ],
      "execution_count": null,
      "outputs": [
        {
          "output_type": "execute_result",
          "data": {
            "image/png": "[encoded data removed]",
            "text/latex": "$\\displaystyle x^{5} + 5 x^{4} y + 10 x^{3} y^{2} + 10 x^{2} y^{3} + 5 x y^{4} + y^{5}$",
            "text/plain": [
              " 5      4         3  2       2  3        4    5\n",
              "x  + 5⋅x ⋅y + 10⋅x ⋅y  + 10⋅x ⋅y  + 5⋅x⋅y  + y "
            ]
          },
          "metadata": {
            "tags": []
          },
          "execution_count": 68
        }
      ]
    },
    {
      "cell_type": "markdown",
      "metadata": {
        "id": "J31N-WjtKEzz"
      },
      "source": [
        "###### 変数入りの数式はベキが大きいのから小さいのに並べられるのはエラい"
      ]
    },
    {
      "cell_type": "code",
      "metadata": {
        "id": "HufAsAR6KEz0",
        "colab": {
          "base_uri": "https://localhost:8080/",
          "height": 39
        },
        "outputId": "0d28c50f-f08a-490f-d219-c6bd1c4cb28f"
      },
      "source": [
        "3*x*y**2 + 3*y*x**2 + x**3 + y**3"
      ],
      "execution_count": null,
      "outputs": [
        {
          "output_type": "execute_result",
          "data": {
            "image/png": "[encoded data removed]",
            "text/latex": "$\\displaystyle x^{3} + 3 x^{2} y + 3 x y^{2} + y^{3}$",
            "text/plain": [
              " 3      2          2    3\n",
              "x  + 3⋅x ⋅y + 3⋅x⋅y  + y "
            ]
          },
          "metadata": {
            "tags": []
          },
          "execution_count": 69
        }
      ]
    },
    {
      "cell_type": "code",
      "metadata": {
        "id": "dkQskuU5KEz2",
        "colab": {
          "base_uri": "https://localhost:8080/",
          "height": 39
        },
        "outputId": "32096613-1cfa-49b0-d364-de23bd9e6c76"
      },
      "source": [
        "expand(x + y, complex = True)"
      ],
      "execution_count": null,
      "outputs": [
        {
          "output_type": "execute_result",
          "data": {
            "image/png": "[encoded data removed]",
            "text/latex": "$\\displaystyle \\operatorname{re}{\\left(x\\right)} + \\operatorname{re}{\\left(y\\right)} + i \\operatorname{im}{\\left(x\\right)} + i \\operatorname{im}{\\left(y\\right)}$",
            "text/plain": [
              "re(x) + re(y) + ⅈ⋅im(x) + ⅈ⋅im(y)"
            ]
          },
          "metadata": {
            "tags": []
          },
          "execution_count": 70
        }
      ]
    },
    {
      "cell_type": "markdown",
      "metadata": {
        "id": "wFXb_1zBKEz5"
      },
      "source": [
        "###### 上のは複素数表記でドイツ文字の$ R $と$ I $を使っている\n",
        "フラクトゥールというらしい\n",
        "$$\n",
        "\\mathfrak R (x) + \\mathfrak R (y) + i \\mathfrak I x + \\mathfrak I y\n",
        "$$\n",
        "だいたい合っているかな。"
      ]
    },
    {
      "cell_type": "code",
      "metadata": {
        "id": "mswSXXdGKEz6"
      },
      "source": [
        "%%script false\n",
        "'''\n",
        "Unit converter: Miles and Kilometers\n",
        "'''\n",
        "def print_menu():\n",
        "  print('1. Kilometers to Miles')\n",
        "  print('2. Miles to Kilometers')\n",
        "\n",
        "def km_miles():\n",
        "  km = float(input('Enter distance in kilometers: '))\n",
        "  miles = km / 1.609\n",
        "\n",
        "  print('Distance in miles: {0}'.format(miles))\n",
        "\n",
        "def miles_km():\n",
        "  miles = float(input('Enter distance in miles: '))\n",
        "  km = miles * 1.609\n",
        "  print('Distance in kilometers: {0}'.format(km))\n",
        "\n",
        "if __name__ == '__main__':\n",
        "  print_menu()\n",
        "  choice = input('Which conversion would you like to do?: ')\n",
        "if choice == '1':\n",
        "  km_miles()\n",
        "if choice == '2':\n",
        "  miles_km()"
      ],
      "execution_count": null,
      "outputs": []
    },
    {
      "cell_type": "markdown",
      "metadata": {
        "id": "0Ix5QPpfKEz8"
      },
      "source": [
        "### if __name__ == '__main__':\n",
        "はノートブックにそぐわないみたい。  \n",
        "取ってしまった方がいいみたい。  \n",
        "\n",
        "そんなことを言えば、input()もノートブックにそぐわないみたい。  \n",
        "input()があると評価がそのセルで止まってしまう。  \n",
        "なるほど。"
      ]
    },
    {
      "cell_type": "code",
      "metadata": {
        "id": "JWlWZmnbKEz9",
        "colab": {
          "base_uri": "https://localhost:8080/"
        },
        "outputId": "fdbbaebd-b94f-41c2-da67-361657491f90"
      },
      "source": [
        "'''\n",
        "Quadratic equation root calculator\n",
        "'''\n",
        "def roots(a, b, c):\n",
        "  D = (b*b - 4*a*c)**0.5\n",
        "  x_1 = (-b + D)/(2*a)\n",
        "  x_2 = (-b - D)/(2*a)\n",
        "  print('x1: {0}'.format(x_1))\n",
        "  print('x2: {0}'.format(x_2))\n",
        "\n",
        "a, b, c = 1, 2, 1\n",
        "roots(float(a), float(b), float(c))"
      ],
      "execution_count": null,
      "outputs": [
        {
          "output_type": "stream",
          "text": [
            "x1: -1.0\n",
            "x2: -1.0\n"
          ],
          "name": "stdout"
        }
      ]
    },
    {
      "cell_type": "markdown",
      "metadata": {
        "id": "YynWzFR4KE0A"
      },
      "source": [
        "###### (x+y)6 の展開形を計算する。"
      ]
    },
    {
      "cell_type": "code",
      "metadata": {
        "id": "gDKspbLKKE0B",
        "colab": {
          "base_uri": "https://localhost:8080/",
          "height": 39
        },
        "outputId": "e987a954-bf18-4b40-dac5-47d3c7a7e6d2"
      },
      "source": [
        "from sympy import *\n",
        "init_printing()\n",
        "x, y = symbols(\"x,y\")\n",
        "\n",
        "expand((x + y)**6)"
      ],
      "execution_count": null,
      "outputs": [
        {
          "output_type": "execute_result",
          "data": {
            "image/png": "[encoded data removed]",
            "text/latex": "$\\displaystyle x^{6} + 6 x^{5} y + 15 x^{4} y^{2} + 20 x^{3} y^{3} + 15 x^{2} y^{4} + 6 x y^{5} + y^{6}$",
            "text/plain": [
              " 6      5         4  2       3  3       2  4        5    6\n",
              "x  + 6⋅x ⋅y + 15⋅x ⋅y  + 20⋅x ⋅y  + 15⋅x ⋅y  + 6⋅x⋅y  + y "
            ]
          },
          "metadata": {
            "tags": []
          },
          "execution_count": 75
        }
      ]
    },
    {
      "cell_type": "code",
      "metadata": {
        "id": "-cETau_SKE0E",
        "colab": {
          "base_uri": "https://localhost:8080/",
          "height": 39
        },
        "outputId": "3af31039-9d76-48b8-b7d3-680443f15828"
      },
      "source": [
        "simplify(x**6 + 6*x**5*y)"
      ],
      "execution_count": null,
      "outputs": [
        {
          "output_type": "execute_result",
          "data": {
            "image/png": "[encoded data removed]",
            "text/latex": "$\\displaystyle x^{5} \\left(x + 6 y\\right)$",
            "text/plain": [
              " 5          \n",
              "x ⋅(x + 6⋅y)"
            ]
          },
          "metadata": {
            "tags": []
          },
          "execution_count": 76
        }
      ]
    },
    {
      "cell_type": "markdown",
      "metadata": {
        "id": "o0viq2OPKE0H"
      },
      "source": [
        "###### python表記に戻す init_printing()にはどうしたらよいか\n",
        "アイデアは   \n",
        "init_printing(use_pythonformat: True)  \n",
        "x**2  \n",
        "とか\n",
        "\n",
        "init_printing(pretty_print=False)\n",
        "\n",
        "でした。"
      ]
    },
    {
      "cell_type": "code",
      "metadata": {
        "id": "mfENrFXVKE0H",
        "colab": {
          "base_uri": "https://localhost:8080/"
        },
        "outputId": "a8878a8f-a62b-4387-d1d8-1ae097a33a09"
      },
      "source": [
        "init_printing(pretty_print=False)\n",
        "x**2"
      ],
      "execution_count": null,
      "outputs": [
        {
          "output_type": "execute_result",
          "data": {
            "text/plain": [
              "x**2"
            ]
          },
          "metadata": {
            "tags": []
          },
          "execution_count": 77
        }
      ]
    },
    {
      "cell_type": "code",
      "metadata": {
        "id": "mlv3VAvQKE0K",
        "colab": {
          "base_uri": "https://localhost:8080/"
        },
        "outputId": "a77bc34d-d024-4975-9a92-74d22603df09"
      },
      "source": [
        "expand((x + y)**6)"
      ],
      "execution_count": null,
      "outputs": [
        {
          "output_type": "execute_result",
          "data": {
            "text/plain": [
              "x**6 + 6*x**5*y + 15*x**4*y**2 + 20*x**3*y**3 + 15*x**2*y**4 + 6*x*y**5 + y**6"
            ]
          },
          "metadata": {
            "tags": []
          },
          "execution_count": 78
        }
      ]
    },
    {
      "cell_type": "code",
      "metadata": {
        "id": "mOijm_IwKE0N",
        "colab": {
          "base_uri": "https://localhost:8080/",
          "height": 39
        },
        "outputId": "67f5b02f-5936-4ffd-d75a-0ae411a91bc1"
      },
      "source": [
        "# sin(x)/cos(x)を簡単化する\n",
        "from sympy import *\n",
        "init_printing()\n",
        "x = symbols('x')\n",
        "simplify(sin(x)/cos(x))"
      ],
      "execution_count": null,
      "outputs": [
        {
          "output_type": "execute_result",
          "data": {
            "image/png": "[encoded data removed]",
            "text/latex": "$\\displaystyle \\tan{\\left(x \\right)}$",
            "text/plain": [
              "tan(x)"
            ]
          },
          "metadata": {
            "tags": []
          },
          "execution_count": 79
        }
      ]
    },
    {
      "cell_type": "markdown",
      "metadata": {
        "id": "4dpqB-dgKE0Q"
      },
      "source": [
        "### simplifyの代替\n",
        "\n",
        "簡単化とはいくぶん曖昧な用語のため、より目的を明確にした simplify の代替が存在する: powsimp (指数の簡単化), trigsimp (三角関数を含む数式), logcombine, radsimp, togeter."
      ]
    },
    {
      "cell_type": "code",
      "metadata": {
        "id": "ot4MYMonKE0R",
        "colab": {
          "base_uri": "https://localhost:8080/",
          "height": 40
        },
        "outputId": "a0d21af9-98f6-420d-def5-7ae9bd60aa6f"
      },
      "source": [
        "factor(x**2 + 2*x + 1)"
      ],
      "execution_count": null,
      "outputs": [
        {
          "output_type": "execute_result",
          "data": {
            "image/png": "[encoded data removed]",
            "text/latex": "$\\displaystyle \\left(x + 1\\right)^{2}$",
            "text/plain": [
              "       2\n",
              "(x + 1) "
            ]
          },
          "metadata": {
            "tags": []
          },
          "execution_count": 80
        }
      ]
    },
    {
      "cell_type": "code",
      "metadata": {
        "id": "CaT7vWfTKE0T",
        "colab": {
          "base_uri": "https://localhost:8080/",
          "height": 39
        },
        "outputId": "07efeedf-8c5d-4b3a-bdb7-017e66265d23"
      },
      "source": [
        "simplify(x**2 + 2*x + 2)"
      ],
      "execution_count": null,
      "outputs": [
        {
          "output_type": "execute_result",
          "data": {
            "image/png": "[encoded data removed]",
            "text/latex": "$\\displaystyle x^{2} + 2 x + 2$",
            "text/plain": [
              " 2          \n",
              "x  + 2⋅x + 2"
            ]
          },
          "metadata": {
            "tags": []
          },
          "execution_count": 81
        }
      ]
    },
    {
      "cell_type": "code",
      "metadata": {
        "id": "z3GOWiX6KE0W",
        "colab": {
          "base_uri": "https://localhost:8080/",
          "height": 54
        },
        "outputId": "c1ee6a5d-2340-494b-90c9-0e0b27778bb3"
      },
      "source": [
        "trigsimp(sin(x)**4 - 2*cos(x)**2*sin(x)**2 + cos(x)**4)"
      ],
      "execution_count": null,
      "outputs": [
        {
          "output_type": "execute_result",
          "data": {
            "image/png": "[encoded data removed]",
            "text/latex": "$\\displaystyle \\frac{\\cos{\\left(4 x \\right)}}{2} + \\frac{1}{2}$",
            "text/plain": [
              "cos(4⋅x)   1\n",
              "──────── + ─\n",
              "   2       2"
            ]
          },
          "metadata": {
            "tags": []
          },
          "execution_count": 82
        }
      ]
    },
    {
      "cell_type": "code",
      "metadata": {
        "id": "XQQrYFx3KE0Z",
        "colab": {
          "base_uri": "https://localhost:8080/",
          "height": 39
        },
        "outputId": "c8336536-bbe3-4dc2-dfdc-a113d21ae684"
      },
      "source": [
        "expand_trig(sin(x+y))"
      ],
      "execution_count": null,
      "outputs": [
        {
          "output_type": "execute_result",
          "data": {
            "image/png": "[encoded data removed]",
            "text/latex": "$\\displaystyle \\sin{\\left(x \\right)} \\cos{\\left(y \\right)} + \\sin{\\left(y \\right)} \\cos{\\left(x \\right)}$",
            "text/plain": [
              "sin(x)⋅cos(y) + sin(y)⋅cos(x)"
            ]
          },
          "metadata": {
            "tags": []
          },
          "execution_count": 83
        }
      ]
    },
    {
      "cell_type": "code",
      "metadata": {
        "id": "J7FbJ_S_KE0b",
        "colab": {
          "base_uri": "https://localhost:8080/",
          "height": 39
        },
        "outputId": "07c04064-ffd7-4d2b-ddb7-5d4bb1e50bc9"
      },
      "source": [
        "trigsimp(sin(x)*cos(y)+sin(y)*cos(x))"
      ],
      "execution_count": null,
      "outputs": [
        {
          "output_type": "execute_result",
          "data": {
            "image/png": "[encoded data removed]",
            "text/latex": "$\\displaystyle \\sin{\\left(x + y \\right)}$",
            "text/plain": [
              "sin(x + y)"
            ]
          },
          "metadata": {
            "tags": []
          },
          "execution_count": 84
        }
      ]
    },
    {
      "cell_type": "code",
      "metadata": {
        "id": "Z8Yp0uUoKE0e",
        "colab": {
          "base_uri": "https://localhost:8080/",
          "height": 58
        },
        "outputId": "8cc97821-145c-4588-ebe8-d2d1087aa825"
      },
      "source": [
        "expand_trig(tan(2*x))"
      ],
      "execution_count": null,
      "outputs": [
        {
          "output_type": "execute_result",
          "data": {
            "image/png": "[encoded data removed]",
            "text/latex": "$\\displaystyle \\frac{2 \\tan{\\left(x \\right)}}{1 - \\tan^{2}{\\left(x \\right)}}$",
            "text/plain": [
              "  2⋅tan(x) \n",
              "───────────\n",
              "       2   \n",
              "1 - tan (x)"
            ]
          },
          "metadata": {
            "tags": []
          },
          "execution_count": 85
        }
      ]
    },
    {
      "cell_type": "code",
      "metadata": {
        "id": "39TjPHU-KE0h",
        "colab": {
          "base_uri": "https://localhost:8080/",
          "height": 37
        },
        "outputId": "f8bc4b58-2f8c-4501-d31d-8a46eb4e69e3"
      },
      "source": [
        "sqrt(x*y)"
      ],
      "execution_count": null,
      "outputs": [
        {
          "output_type": "execute_result",
          "data": {
            "image/png": "[encoded data removed]",
            "text/latex": "$\\displaystyle \\sqrt{x y}$",
            "text/plain": [
              "  _____\n",
              "╲╱ x⋅y "
            ]
          },
          "metadata": {
            "tags": []
          },
          "execution_count": 86
        }
      ]
    },
    {
      "cell_type": "code",
      "metadata": {
        "id": "kLKJvuAAKE0k",
        "colab": {
          "base_uri": "https://localhost:8080/",
          "height": 39
        },
        "outputId": "e6060862-b73b-4aae-a270-461e8dd9bcd0"
      },
      "source": [
        "ln(x)"
      ],
      "execution_count": null,
      "outputs": [
        {
          "output_type": "execute_result",
          "data": {
            "image/png": "[encoded data removed]",
            "text/latex": "$\\displaystyle \\log{\\left(x \\right)}$",
            "text/plain": [
              "log(x)"
            ]
          },
          "metadata": {
            "tags": []
          },
          "execution_count": 87
        }
      ]
    },
    {
      "cell_type": "code",
      "metadata": {
        "id": "rzsx5PKUKE0n",
        "colab": {
          "base_uri": "https://localhost:8080/",
          "height": 39
        },
        "outputId": "270cffd4-719c-4578-c6ca-2c9fa7d75af0"
      },
      "source": [
        "x, y = symbols('x y')\n",
        "expand_log(log(x*y))"
      ],
      "execution_count": null,
      "outputs": [
        {
          "output_type": "execute_result",
          "data": {
            "image/png": "[encoded data removed]",
            "text/latex": "$\\displaystyle \\log{\\left(x y \\right)}$",
            "text/plain": [
              "log(x⋅y)"
            ]
          },
          "metadata": {
            "tags": []
          },
          "execution_count": 88
        }
      ]
    },
    {
      "cell_type": "code",
      "metadata": {
        "id": "eA6rda_WKE0q",
        "colab": {
          "base_uri": "https://localhost:8080/",
          "height": 39
        },
        "outputId": "813588bf-8d27-44bb-8658-04e14fb29de9"
      },
      "source": [
        "x, y = symbols('x y', positive=True)\n",
        "expand_log(log(x*y))"
      ],
      "execution_count": null,
      "outputs": [
        {
          "output_type": "execute_result",
          "data": {
            "image/png": "[encoded data removed]",
            "text/latex": "$\\displaystyle \\log{\\left(x \\right)} + \\log{\\left(y \\right)}$",
            "text/plain": [
              "log(x) + log(y)"
            ]
          },
          "metadata": {
            "tags": []
          },
          "execution_count": 89
        }
      ]
    },
    {
      "cell_type": "code",
      "metadata": {
        "id": "_Y17TO8VKE0u",
        "colab": {
          "base_uri": "https://localhost:8080/",
          "height": 39
        },
        "outputId": "c364e679-be79-42a3-b752-e95899b3ad1a"
      },
      "source": [
        "x, y = symbols('x y')\n",
        "expand_log(log(x*y), force=True)"
      ],
      "execution_count": null,
      "outputs": [
        {
          "output_type": "execute_result",
          "data": {
            "image/png": "[encoded data removed]",
            "text/latex": "$\\displaystyle \\log{\\left(x \\right)} + \\log{\\left(y \\right)}$",
            "text/plain": [
              "log(x) + log(y)"
            ]
          },
          "metadata": {
            "tags": []
          },
          "execution_count": 90
        }
      ]
    },
    {
      "cell_type": "code",
      "metadata": {
        "id": "54Xag_EBKE0x",
        "colab": {
          "base_uri": "https://localhost:8080/",
          "height": 39
        },
        "outputId": "77034586-c580-4e5a-916f-40824b0a9c62"
      },
      "source": [
        "logcombine(log(x) + log(y), force=True)"
      ],
      "execution_count": null,
      "outputs": [
        {
          "output_type": "execute_result",
          "data": {
            "image/png": "[encoded data removed]",
            "text/latex": "$\\displaystyle \\log{\\left(x y \\right)}$",
            "text/plain": [
              "log(x⋅y)"
            ]
          },
          "metadata": {
            "tags": []
          },
          "execution_count": 91
        }
      ]
    },
    {
      "cell_type": "code",
      "metadata": {
        "id": "Tw0qSNyCKE00",
        "colab": {
          "base_uri": "https://localhost:8080/",
          "height": 39
        },
        "outputId": "7e09e39f-9bea-4418-e39a-f9afa9c36cdf"
      },
      "source": [
        "n=symbols('n')\n",
        "logcombine(n*ln(x),force=True)"
      ],
      "execution_count": null,
      "outputs": [
        {
          "output_type": "execute_result",
          "data": {
            "image/png": "[encoded data removed]",
            "text/latex": "$\\displaystyle \\log{\\left(x^{n} \\right)}$",
            "text/plain": [
              "   ⎛ n⎞\n",
              "log⎝x ⎠"
            ]
          },
          "metadata": {
            "tags": []
          },
          "execution_count": 92
        }
      ]
    },
    {
      "cell_type": "code",
      "metadata": {
        "id": "29mi2c1cKE04",
        "colab": {
          "base_uri": "https://localhost:8080/",
          "height": 39
        },
        "outputId": "3368d9ec-88a1-4c14-ee0a-66be2962b89c"
      },
      "source": [
        "x,y,z=symbols('x y z')\n",
        "k, m, n = symbols('k m n')\n",
        "factorial(n)"
      ],
      "execution_count": null,
      "outputs": [
        {
          "output_type": "execute_result",
          "data": {
            "image/png": "[encoded data removed]",
            "text/latex": "$\\displaystyle n!$",
            "text/plain": [
              "n!"
            ]
          },
          "metadata": {
            "tags": []
          },
          "execution_count": 93
        }
      ]
    },
    {
      "cell_type": "code",
      "metadata": {
        "id": "DANnxqjNKE07",
        "colab": {
          "base_uri": "https://localhost:8080/",
          "height": 57
        },
        "outputId": "fcc8ef5f-5c19-4d96-b1ca-fbb67ab651d9"
      },
      "source": [
        "binomial(n,k)"
      ],
      "execution_count": null,
      "outputs": [
        {
          "output_type": "execute_result",
          "data": {
            "image/png": "[encoded data removed]",
            "text/latex": "$\\displaystyle {\\binom{n}{k}}$",
            "text/plain": [
              "⎛n⎞\n",
              "⎜ ⎟\n",
              "⎝k⎠"
            ]
          },
          "metadata": {
            "tags": []
          },
          "execution_count": 94
        }
      ]
    },
    {
      "cell_type": "code",
      "metadata": {
        "id": "RirxFMjsKE0-",
        "colab": {
          "base_uri": "https://localhost:8080/",
          "height": 37
        },
        "outputId": "233ea064-8c37-4342-bc75-9f04e34d153a"
      },
      "source": [
        "binomial(5,3)"
      ],
      "execution_count": null,
      "outputs": [
        {
          "output_type": "execute_result",
          "data": {
            "image/png": "[encoded data removed]",
            "text/latex": "$\\displaystyle 10$",
            "text/plain": [
              "10"
            ]
          },
          "metadata": {
            "tags": []
          },
          "execution_count": 95
        }
      ]
    },
    {
      "cell_type": "code",
      "metadata": {
        "id": "gU9nJHhQKE1A",
        "colab": {
          "base_uri": "https://localhost:8080/",
          "height": 39
        },
        "outputId": "5d544968-cc81-42a5-c2ca-7b9ebba4c4f5"
      },
      "source": [
        "gamma(z)"
      ],
      "execution_count": null,
      "outputs": [
        {
          "output_type": "execute_result",
          "data": {
            "image/png": "[encoded data removed]",
            "text/latex": "$\\displaystyle \\Gamma\\left(z\\right)$",
            "text/plain": [
              "Γ(z)"
            ]
          },
          "metadata": {
            "tags": []
          },
          "execution_count": 96
        }
      ]
    },
    {
      "cell_type": "code",
      "metadata": {
        "id": "K5WptoyjKE1C",
        "colab": {
          "base_uri": "https://localhost:8080/",
          "height": 37
        },
        "outputId": "ab81cdcc-dc7c-406c-c295-9f77bd1feb87"
      },
      "source": [
        "gamma(10)"
      ],
      "execution_count": null,
      "outputs": [
        {
          "output_type": "execute_result",
          "data": {
            "image/png": "[encoded data removed]",
            "text/latex": "$\\displaystyle 362880$",
            "text/plain": [
              "362880"
            ]
          },
          "metadata": {
            "tags": []
          },
          "execution_count": 97
        }
      ]
    },
    {
      "cell_type": "code",
      "metadata": {
        "id": "KK3SaIusKE1E",
        "colab": {
          "base_uri": "https://localhost:8080/",
          "height": 37
        },
        "outputId": "ea9b2bb4-c78e-4d71-a882-ec59f8bbd75d"
      },
      "source": [
        "factorial(9)"
      ],
      "execution_count": null,
      "outputs": [
        {
          "output_type": "execute_result",
          "data": {
            "image/png": "[encoded data removed]",
            "text/latex": "$\\displaystyle 362880$",
            "text/plain": [
              "362880"
            ]
          },
          "metadata": {
            "tags": []
          },
          "execution_count": 98
        }
      ]
    },
    {
      "cell_type": "markdown",
      "metadata": {
        "id": "lcXMFe_FKE1I"
      },
      "source": [
        "これは`LaTeX`\n",
        "</br></br>\n",
        "\n",
        "$$\n",
        "\\Gamma(z) = \\int_0^\\infty t^{z - 1}e^{-t}\\,dt\n",
        "$$\n"
      ]
    },
    {
      "cell_type": "code",
      "metadata": {
        "id": "3CJN0TmeXMIA",
        "colab": {
          "base_uri": "https://localhost:8080/",
          "height": 56
        },
        "outputId": "3118ed44-b0fa-4e52-a118-710eb13e4c04"
      },
      "source": [
        "%%latex\n",
        "\\displaystyle\n",
        "\n",
        "\\Gamma(z) = \\int_0^\\infty t^{z - 1}e^{-t},dt"
      ],
      "execution_count": null,
      "outputs": [
        {
          "output_type": "display_data",
          "data": {
            "text/latex": "\\displaystyle\n\n\\Gamma(z) = \\int_0^\\infty t^{z - 1}e^{-t},dt",
            "text/plain": [
              "<IPython.core.display.Latex object>"
            ]
          },
          "metadata": {
            "tags": []
          }
        }
      ]
    },
    {
      "cell_type": "code",
      "metadata": {
        "id": "sGBIR_pTKE1I",
        "colab": {
          "base_uri": "https://localhost:8080/",
          "height": 59
        },
        "outputId": "f765e695-417d-496f-f4a7-687624797909"
      },
      "source": [
        "# hyper([a_1, ..., a_p], [b_1, ..., b_q], z)\n",
        "# hypergeometric function\n",
        "hyper([1,2],[3],z)"
      ],
      "execution_count": null,
      "outputs": [
        {
          "output_type": "execute_result",
          "data": {
            "text/latex": "$\\displaystyle {{}_{2}F_{1}\\left(\\begin{matrix} 1, 2 \\\\ 3 \\end{matrix}\\middle| {z} \\right)}$",
            "text/plain": [
              " ┌─  ⎛1, 2 │  ⎞\n",
              " ├─  ⎜     │ z⎟\n",
              "2╵ 1 ⎝ 3   │  ⎠"
            ]
          },
          "metadata": {
            "tags": []
          },
          "execution_count": 100
        }
      ]
    },
    {
      "cell_type": "code",
      "metadata": {
        "id": "P3oFztLKKE1K",
        "colab": {
          "base_uri": "https://localhost:8080/",
          "height": 59
        },
        "outputId": "0ee8062b-d4cf-45dc-e906-7835743b7735"
      },
      "source": [
        "# rewrite\n",
        "tan(x).rewrite(sin)"
      ],
      "execution_count": null,
      "outputs": [
        {
          "output_type": "execute_result",
          "data": {
            "image/png": "[encoded data removed]",
            "text/latex": "$\\displaystyle \\frac{2 \\sin^{2}{\\left(x \\right)}}{\\sin{\\left(2 x \\right)}}$",
            "text/plain": [
              "     2   \n",
              "2⋅sin (x)\n",
              "─────────\n",
              " sin(2⋅x)"
            ]
          },
          "metadata": {
            "tags": []
          },
          "execution_count": 101
        }
      ]
    },
    {
      "cell_type": "code",
      "metadata": {
        "id": "H7S0Gv_wKE1P",
        "colab": {
          "base_uri": "https://localhost:8080/",
          "height": 39
        },
        "outputId": "60f21c33-66e1-4541-9cb8-c83d4b5e9f55"
      },
      "source": [
        "factorial(x).rewrite(gamma)\n",
        "# For some tips on applying more targeted rewriting, see the Advanced Expression Manipulation section"
      ],
      "execution_count": null,
      "outputs": [
        {
          "output_type": "execute_result",
          "data": {
            "image/png": "[encoded data removed]",
            "text/latex": "$\\displaystyle \\Gamma\\left(x + 1\\right)$",
            "text/plain": [
              "Γ(x + 1)"
            ]
          },
          "metadata": {
            "tags": []
          },
          "execution_count": 102
        }
      ]
    },
    {
      "cell_type": "code",
      "metadata": {
        "id": "ONtTIhR5KE1R",
        "colab": {
          "base_uri": "https://localhost:8080/",
          "height": 39
        },
        "outputId": "41f56b32-ee95-4552-d58a-9cce0b179769"
      },
      "source": [
        "expand_func(gamma(x + 3))"
      ],
      "execution_count": null,
      "outputs": [
        {
          "output_type": "execute_result",
          "data": {
            "image/png": "[encoded data removed]",
            "text/latex": "$\\displaystyle x \\left(x + 1\\right) \\left(x + 2\\right) \\Gamma\\left(x\\right)$",
            "text/plain": [
              "x⋅(x + 1)⋅(x + 2)⋅Γ(x)"
            ]
          },
          "metadata": {
            "tags": []
          },
          "execution_count": 103
        }
      ]
    },
    {
      "cell_type": "code",
      "metadata": {
        "id": "2D4t0AOoKE1V",
        "colab": {
          "base_uri": "https://localhost:8080/",
          "height": 54
        },
        "outputId": "9399f7cd-4249-4075-a086-b5c37014552d"
      },
      "source": [
        "hyperexpand(hyper([1,1],[2],z))"
      ],
      "execution_count": null,
      "outputs": [
        {
          "output_type": "execute_result",
          "data": {
            "image/png": "[encoded data removed]",
            "text/latex": "$\\displaystyle - \\frac{\\log{\\left(1 - z \\right)}}{z}$",
            "text/plain": [
              "-log(1 - z) \n",
              "────────────\n",
              "     z      "
            ]
          },
          "metadata": {
            "tags": []
          },
          "execution_count": 104
        }
      ]
    },
    {
      "cell_type": "code",
      "metadata": {
        "id": "kXSjmujDKE1X",
        "colab": {
          "base_uri": "https://localhost:8080/",
          "height": 59
        },
        "outputId": "d973e9f4-fbcc-4511-c2e1-61d4bf531a62"
      },
      "source": [
        "expr = meijerg([[1],[1]], [[1],[]],-z)\n",
        "expr"
      ],
      "execution_count": null,
      "outputs": [
        {
          "output_type": "execute_result",
          "data": {
            "text/latex": "$\\displaystyle {G_{2, 1}^{1, 1}\\left(\\begin{matrix} 1 & 1 \\\\1 &  \\end{matrix} \\middle| {- z} \\right)}$",
            "text/plain": [
              "╭─╮1, 1 ⎛1  1 │   ⎞\n",
              "│╶┐     ⎜     │ -z⎟\n",
              "╰─╯2, 1 ⎝1    │   ⎠"
            ]
          },
          "metadata": {
            "tags": []
          },
          "execution_count": 105
        }
      ]
    },
    {
      "cell_type": "code",
      "metadata": {
        "id": "hBiu035BKE1Z",
        "colab": {
          "base_uri": "https://localhost:8080/",
          "height": 41
        },
        "outputId": "770f9238-920f-4274-f953-30f099bea3a4"
      },
      "source": [
        "hyperexpand(expr)"
      ],
      "execution_count": null,
      "outputs": [
        {
          "output_type": "execute_result",
          "data": {
            "image/png": "[encoded data removed]",
            "text/latex": "$\\displaystyle e^{\\frac{1}{z}}$",
            "text/plain": [
              " 1\n",
              " ─\n",
              " z\n",
              "ℯ "
            ]
          },
          "metadata": {
            "tags": []
          },
          "execution_count": 106
        }
      ]
    },
    {
      "cell_type": "code",
      "metadata": {
        "id": "OC2rBPfvKE1d",
        "colab": {
          "base_uri": "https://localhost:8080/",
          "height": 39
        },
        "outputId": "f4660250-83c2-424c-f5c8-fc7c226ffe6a"
      },
      "source": [
        "n , k = symbols('n k', integer=True)\n",
        "combsimp(factorial(n)/factorial(n - 3))"
      ],
      "execution_count": null,
      "outputs": [
        {
          "output_type": "execute_result",
          "data": {
            "image/png": "[encoded data removed]",
            "text/latex": "$\\displaystyle n \\left(n - 2\\right) \\left(n - 1\\right)$",
            "text/plain": [
              "n⋅(n - 2)⋅(n - 1)"
            ]
          },
          "metadata": {
            "tags": []
          },
          "execution_count": 107
        }
      ]
    },
    {
      "cell_type": "code",
      "metadata": {
        "id": "hutrKUikKE1f",
        "colab": {
          "base_uri": "https://localhost:8080/",
          "height": 53
        },
        "outputId": "37a81ffb-3eda-48e6-f373-ddecc299af5e"
      },
      "source": [
        "combsimp(binomial(n+1, k+1)/binomial(n, k))"
      ],
      "execution_count": null,
      "outputs": [
        {
          "output_type": "execute_result",
          "data": {
            "image/png": "[encoded data removed]",
            "text/latex": "$\\displaystyle \\frac{n + 1}{k + 1}$",
            "text/plain": [
              "n + 1\n",
              "─────\n",
              "k + 1"
            ]
          },
          "metadata": {
            "tags": []
          },
          "execution_count": 108
        }
      ]
    },
    {
      "cell_type": "code",
      "metadata": {
        "id": "zsHHlp1oKE1i",
        "colab": {
          "base_uri": "https://localhost:8080/",
          "height": 52
        },
        "outputId": "8e54cbdc-5ef4-4765-c91f-c06dc5551322"
      },
      "source": [
        "gammasimp(gamma(x)*gamma(1 - x))"
      ],
      "execution_count": null,
      "outputs": [
        {
          "output_type": "execute_result",
          "data": {
            "image/png": "[encoded data removed]",
            "text/latex": "$\\displaystyle \\frac{\\pi}{\\sin{\\left(\\pi x \\right)}}$",
            "text/plain": [
              "   π    \n",
              "────────\n",
              "sin(π⋅x)"
            ]
          },
          "metadata": {
            "tags": []
          },
          "execution_count": 109
        }
      ]
    },
    {
      "cell_type": "markdown",
      "metadata": {
        "id": "J4L-d6j8KE1k"
      },
      "source": [
        "### sympyのtutorial"
      ]
    },
    {
      "cell_type": "code",
      "metadata": {
        "id": "APWmi3QyKE1m",
        "colab": {
          "base_uri": "https://localhost:8080/",
          "height": 56
        },
        "outputId": "1df8c495-c81a-4247-c910-b56fc50decc3"
      },
      "source": [
        "from sympy import *\n",
        "init_printing()\n",
        "x = symbols('x')\n",
        "a = Integral(cos(x)*exp(x),x)\n",
        "Eq(a, a.doit())"
      ],
      "execution_count": null,
      "outputs": [
        {
          "output_type": "execute_result",
          "data": {
            "image/png": "[encoded data removed]",
            "text/latex": "$\\displaystyle \\int e^{x} \\cos{\\left(x \\right)}\\, dx = \\frac{e^{x} \\sin{\\left(x \\right)}}{2} + \\frac{e^{x} \\cos{\\left(x \\right)}}{2}$",
            "text/plain": [
              "⌠                 x           x       \n",
              "⎮  x             ℯ ⋅sin(x)   ℯ ⋅cos(x)\n",
              "⎮ ℯ ⋅cos(x) dx = ───────── + ─────────\n",
              "⌡                    2           2    "
            ]
          },
          "metadata": {
            "tags": []
          },
          "execution_count": 110
        }
      ]
    },
    {
      "cell_type": "code",
      "metadata": {
        "id": "2Jsvko-2KE1p",
        "colab": {
          "base_uri": "https://localhost:8080/",
          "height": 54
        },
        "outputId": "b37330e5-3461-458f-9bf4-5547b7fb7637"
      },
      "source": [
        "a.doit()"
      ],
      "execution_count": null,
      "outputs": [
        {
          "output_type": "execute_result",
          "data": {
            "image/png": "[encoded data removed]",
            "text/latex": "$\\displaystyle \\frac{e^{x} \\sin{\\left(x \\right)}}{2} + \\frac{e^{x} \\cos{\\left(x \\right)}}{2}$",
            "text/plain": [
              " x           x       \n",
              "ℯ ⋅sin(x)   ℯ ⋅cos(x)\n",
              "───────── + ─────────\n",
              "    2           2    "
            ]
          },
          "metadata": {
            "tags": []
          },
          "execution_count": 111
        }
      ]
    },
    {
      "cell_type": "code",
      "metadata": {
        "id": "ysaCX_uzKE1r",
        "colab": {
          "base_uri": "https://localhost:8080/",
          "height": 57
        },
        "outputId": "b9646a1a-29a8-43b7-e33b-888d50419efc"
      },
      "source": [
        "b = Integral(x**3)\n",
        "Eq(b, b.doit())"
      ],
      "execution_count": null,
      "outputs": [
        {
          "output_type": "execute_result",
          "data": {
            "image/png": "[encoded data removed]",
            "text/latex": "$\\displaystyle \\int x^{3}\\, dx = \\frac{x^{4}}{4}$",
            "text/plain": [
              "⌠          4\n",
              "⎮  3      x \n",
              "⎮ x  dx = ──\n",
              "⌡         4 "
            ]
          },
          "metadata": {
            "tags": []
          },
          "execution_count": 112
        }
      ]
    },
    {
      "cell_type": "markdown",
      "metadata": {
        "id": "VZa65s2jKE1u"
      },
      "source": [
        "### Sympy Tutorialに移りました"
      ]
    },
    {
      "cell_type": "code",
      "metadata": {
        "id": "jsBcROKEKE1u",
        "colab": {
          "base_uri": "https://localhost:8080/",
          "height": 39
        },
        "outputId": "cc8362de-a8ce-4730-fdba-a608d974c87b"
      },
      "source": [
        "from sympy import *\n",
        "init_printing()\n",
        "x, t, z, nu, y = symbols('x t z nu y')\n",
        "\n",
        "diff(sin('x')*exp(x),x)"
      ],
      "execution_count": null,
      "outputs": [
        {
          "output_type": "execute_result",
          "data": {
            "image/png": "[encoded data removed]",
            "text/latex": "$\\displaystyle e^{x} \\sin{\\left(x \\right)} + e^{x} \\cos{\\left(x \\right)}$",
            "text/plain": [
              " x           x       \n",
              "ℯ ⋅sin(x) + ℯ ⋅cos(x)"
            ]
          },
          "metadata": {
            "tags": []
          },
          "execution_count": 113
        }
      ]
    },
    {
      "cell_type": "code",
      "metadata": {
        "id": "G8OpmQU5KE1x",
        "colab": {
          "base_uri": "https://localhost:8080/",
          "height": 39
        },
        "outputId": "6ac126ce-262a-4b8c-f105-b15e2970202c"
      },
      "source": [
        "diff(x**2)"
      ],
      "execution_count": null,
      "outputs": [
        {
          "output_type": "execute_result",
          "data": {
            "image/png": "[encoded data removed]",
            "text/latex": "$\\displaystyle 2 x$",
            "text/plain": [
              "2⋅x"
            ]
          },
          "metadata": {
            "tags": []
          },
          "execution_count": 114
        }
      ]
    },
    {
      "cell_type": "code",
      "metadata": {
        "id": "vxE2RlZfKE1y",
        "colab": {
          "base_uri": "https://localhost:8080/",
          "height": 39
        },
        "outputId": "5aaa0e96-567c-49ec-9351-469e7ae81a9a"
      },
      "source": [
        "diff(sin('x')*exp(x))"
      ],
      "execution_count": null,
      "outputs": [
        {
          "output_type": "execute_result",
          "data": {
            "image/png": "[encoded data removed]",
            "text/latex": "$\\displaystyle e^{x} \\sin{\\left(x \\right)} + e^{x} \\cos{\\left(x \\right)}$",
            "text/plain": [
              " x           x       \n",
              "ℯ ⋅sin(x) + ℯ ⋅cos(x)"
            ]
          },
          "metadata": {
            "tags": []
          },
          "execution_count": 115
        }
      ]
    },
    {
      "cell_type": "code",
      "metadata": {
        "id": "yWH0krexKE10",
        "colab": {
          "base_uri": "https://localhost:8080/",
          "height": 39
        },
        "outputId": "a429e0b4-10e5-44dd-bd1e-fe5c8d292c26"
      },
      "source": [
        "exp(x)"
      ],
      "execution_count": null,
      "outputs": [
        {
          "output_type": "execute_result",
          "data": {
            "image/png": "[encoded data removed]",
            "text/latex": "$\\displaystyle e^{x}$",
            "text/plain": [
              " x\n",
              "ℯ "
            ]
          },
          "metadata": {
            "tags": []
          },
          "execution_count": 116
        }
      ]
    },
    {
      "cell_type": "code",
      "metadata": {
        "id": "6TIaYy0zKE12",
        "colab": {
          "base_uri": "https://localhost:8080/",
          "height": 39
        },
        "outputId": "15c46097-aba6-4157-9fc4-13d9e2bc7ddb"
      },
      "source": [
        "exp(1)"
      ],
      "execution_count": null,
      "outputs": [
        {
          "output_type": "execute_result",
          "data": {
            "image/png": "[encoded data removed]",
            "text/latex": "$\\displaystyle e$",
            "text/plain": [
              "ℯ"
            ]
          },
          "metadata": {
            "tags": []
          },
          "execution_count": 117
        }
      ]
    },
    {
      "cell_type": "code",
      "metadata": {
        "id": "1B7VAXx1KE14",
        "colab": {
          "base_uri": "https://localhost:8080/",
          "height": 39
        },
        "outputId": "39e22165-a4fd-4143-af08-6221dae3e11e"
      },
      "source": [
        "diff(exp(x))"
      ],
      "execution_count": null,
      "outputs": [
        {
          "output_type": "execute_result",
          "data": {
            "image/png": "[encoded data removed]",
            "text/latex": "$\\displaystyle e^{x}$",
            "text/plain": [
              " x\n",
              "ℯ "
            ]
          },
          "metadata": {
            "tags": []
          },
          "execution_count": 118
        }
      ]
    },
    {
      "cell_type": "code",
      "metadata": {
        "id": "yupx_lw-KE17",
        "colab": {
          "base_uri": "https://localhost:8080/",
          "height": 37
        },
        "outputId": "5890e552-3bc2-4cce-fa30-4928a722486e"
      },
      "source": [
        "exp(1).evalf()"
      ],
      "execution_count": null,
      "outputs": [
        {
          "output_type": "execute_result",
          "data": {
            "image/png": "[encoded data removed]",
            "text/latex": "$\\displaystyle 2.71828182845905$",
            "text/plain": [
              "2.71828182845905"
            ]
          },
          "metadata": {
            "tags": []
          },
          "execution_count": 119
        }
      ]
    },
    {
      "cell_type": "code",
      "metadata": {
        "id": "BYZBYc_0KE19",
        "colab": {
          "base_uri": "https://localhost:8080/",
          "height": 39
        },
        "outputId": "cbc89f2b-7891-4840-fa61-d1cf3f0afedc"
      },
      "source": [
        "expand_trig(sin(x + y))"
      ],
      "execution_count": null,
      "outputs": [
        {
          "output_type": "execute_result",
          "data": {
            "image/png": "[encoded data removed]",
            "text/latex": "$\\displaystyle \\sin{\\left(x \\right)} \\cos{\\left(y \\right)} + \\sin{\\left(y \\right)} \\cos{\\left(x \\right)}$",
            "text/plain": [
              "sin(x)⋅cos(y) + sin(y)⋅cos(x)"
            ]
          },
          "metadata": {
            "tags": []
          },
          "execution_count": 120
        }
      ]
    },
    {
      "cell_type": "code",
      "metadata": {
        "id": "pMCTf3CCKE1_",
        "colab": {
          "base_uri": "https://localhost:8080/",
          "height": 39
        },
        "outputId": "4ba449d3-9fe4-472b-da53-209a66a95717"
      },
      "source": [
        "expand_trig(sin(2*x))"
      ],
      "execution_count": null,
      "outputs": [
        {
          "output_type": "execute_result",
          "data": {
            "image/png": "[encoded data removed]",
            "text/latex": "$\\displaystyle 2 \\sin{\\left(x \\right)} \\cos{\\left(x \\right)}$",
            "text/plain": [
              "2⋅sin(x)⋅cos(x)"
            ]
          },
          "metadata": {
            "tags": []
          },
          "execution_count": 121
        }
      ]
    },
    {
      "cell_type": "code",
      "metadata": {
        "id": "ZR1v3YnRKE2B",
        "colab": {
          "base_uri": "https://localhost:8080/",
          "height": 39
        },
        "outputId": "bc6224c2-2de3-467f-e36e-18db4ed27601"
      },
      "source": [
        "expand_trig(cos(x + y))"
      ],
      "execution_count": null,
      "outputs": [
        {
          "output_type": "execute_result",
          "data": {
            "image/png": "[encoded data removed]",
            "text/latex": "$\\displaystyle - \\sin{\\left(x \\right)} \\sin{\\left(y \\right)} + \\cos{\\left(x \\right)} \\cos{\\left(y \\right)}$",
            "text/plain": [
              "-sin(x)⋅sin(y) + cos(x)⋅cos(y)"
            ]
          },
          "metadata": {
            "tags": []
          },
          "execution_count": 122
        }
      ]
    },
    {
      "cell_type": "code",
      "metadata": {
        "scrolled": true,
        "id": "SUZ_Bel6KE2D",
        "colab": {
          "base_uri": "https://localhost:8080/",
          "height": 39
        },
        "outputId": "3dd6ba12-d3d6-42fb-b84a-cbd8276882b1"
      },
      "source": [
        "expand_trig(cos(2*x))"
      ],
      "execution_count": null,
      "outputs": [
        {
          "output_type": "execute_result",
          "data": {
            "image/png": "[encoded data removed]",
            "text/latex": "$\\displaystyle 2 \\cos^{2}{\\left(x \\right)} - 1$",
            "text/plain": [
              "     2       \n",
              "2⋅cos (x) - 1"
            ]
          },
          "metadata": {
            "tags": []
          },
          "execution_count": 123
        }
      ]
    },
    {
      "cell_type": "code",
      "metadata": {
        "id": "Lc0Ek4iSKE2F",
        "colab": {
          "base_uri": "https://localhost:8080/",
          "height": 39
        },
        "outputId": "20f37c47-0613-4838-aa19-1c6d51cb79e2"
      },
      "source": [
        "expand_trig(sin(3*x))"
      ],
      "execution_count": null,
      "outputs": [
        {
          "output_type": "execute_result",
          "data": {
            "image/png": "[encoded data removed]",
            "text/latex": "$\\displaystyle - 4 \\sin^{3}{\\left(x \\right)} + 3 \\sin{\\left(x \\right)}$",
            "text/plain": [
              "       3              \n",
              "- 4⋅sin (x) + 3⋅sin(x)"
            ]
          },
          "metadata": {
            "tags": []
          },
          "execution_count": 124
        }
      ]
    },
    {
      "cell_type": "code",
      "metadata": {
        "id": "7BApO4boKE2G",
        "colab": {
          "base_uri": "https://localhost:8080/",
          "height": 39
        },
        "outputId": "75f69e71-b960-4b9e-a923-e5a50501e914"
      },
      "source": [
        "integrate(exp(x)*sin(x) + exp(x)*cos(x))"
      ],
      "execution_count": null,
      "outputs": [
        {
          "output_type": "execute_result",
          "data": {
            "image/png": "[encoded data removed]",
            "text/latex": "$\\displaystyle e^{x} \\sin{\\left(x \\right)}$",
            "text/plain": [
              " x       \n",
              "ℯ ⋅sin(x)"
            ]
          },
          "metadata": {
            "tags": []
          },
          "execution_count": 125
        }
      ]
    },
    {
      "cell_type": "code",
      "metadata": {
        "id": "IeuhyBZhKE2I",
        "colab": {
          "base_uri": "https://localhost:8080/",
          "height": 56
        },
        "outputId": "d8af1e45-5a7c-4532-c738-86fa7634d735"
      },
      "source": [
        "integrate(sin(x**2),(x,-oo, oo))"
      ],
      "execution_count": null,
      "outputs": [
        {
          "output_type": "execute_result",
          "data": {
            "image/png": "[encoded data removed]",
            "text/latex": "$\\displaystyle \\frac{\\sqrt{2} \\sqrt{\\pi}}{2}$",
            "text/plain": [
              "√2⋅√π\n",
              "─────\n",
              "  2  "
            ]
          },
          "metadata": {
            "tags": []
          },
          "execution_count": 126
        }
      ]
    },
    {
      "cell_type": "code",
      "metadata": {
        "id": "8F-ZLoVMKE2K",
        "colab": {
          "base_uri": "https://localhost:8080/",
          "height": 37
        },
        "outputId": "b928868a-1e14-466a-8fd2-957c26e3d37d"
      },
      "source": [
        "limit(sin(x)/x, x, 0)"
      ],
      "execution_count": null,
      "outputs": [
        {
          "output_type": "execute_result",
          "data": {
            "image/png": "[encoded data removed]",
            "text/latex": "$\\displaystyle 1$",
            "text/plain": [
              "1"
            ]
          },
          "metadata": {
            "tags": []
          },
          "execution_count": 127
        }
      ]
    },
    {
      "cell_type": "code",
      "metadata": {
        "id": "BUkE3GqxKE2M",
        "colab": {
          "base_uri": "https://localhost:8080/",
          "height": 61
        },
        "outputId": "cf577585-190e-453b-c618-b1e7029b2e06"
      },
      "source": [
        "from sympy import *\n",
        "init_printing()\n",
        "x = symbols('x')\n",
        "display(factor(x**2 - 4))\n",
        "display(factor(x**2 - 2))"
      ],
      "execution_count": null,
      "outputs": [
        {
          "output_type": "display_data",
          "data": {
            "image/png": "[encoded data removed]",
            "text/latex": "$\\displaystyle \\left(x - 2\\right) \\left(x + 2\\right)$",
            "text/plain": [
              "(x - 2)⋅(x + 2)"
            ]
          },
          "metadata": {
            "tags": []
          }
        },
        {
          "output_type": "display_data",
          "data": {
            "image/png": "[encoded data removed]",
            "text/latex": "$\\displaystyle x^{2} - 2$",
            "text/plain": [
              " 2    \n",
              "x  - 2"
            ]
          },
          "metadata": {
            "tags": []
          }
        }
      ]
    },
    {
      "cell_type": "code",
      "metadata": {
        "id": "nUkG0ZGtKE2O",
        "colab": {
          "base_uri": "https://localhost:8080/",
          "height": 47
        },
        "outputId": "5264d9ed-e18d-4275-9612-7074ffc2888b"
      },
      "source": [
        "solve(x**2 - 2, x)"
      ],
      "execution_count": null,
      "outputs": [
        {
          "output_type": "execute_result",
          "data": {
            "image/png": "[encoded data removed]",
            "text/latex": "$\\displaystyle \\left[ - \\sqrt{2}, \\  \\sqrt{2}\\right]$",
            "text/plain": [
              "[-√2, √2]"
            ]
          },
          "metadata": {
            "tags": []
          },
          "execution_count": 129
        }
      ]
    },
    {
      "cell_type": "code",
      "metadata": {
        "id": "NWxOhZUMKE2Q",
        "colab": {
          "base_uri": "https://localhost:8080/",
          "height": 57
        },
        "outputId": "0d903b62-794a-48b0-9c70-fb97604fbc5c"
      },
      "source": [
        "# solve the differential equation y'' - y = e^t\n",
        "from sympy import *\n",
        "init_printing()\n",
        "x, y ,z, t = symbols('x y z t')\n",
        "y = Function('y')\n",
        "dsolve(Eq(y(t).diff(t, t) - y(t), exp(t)), y(t))"
      ],
      "execution_count": null,
      "outputs": [
        {
          "output_type": "execute_result",
          "data": {
            "image/png": "[encoded data removed]",
            "text/latex": "$\\displaystyle y{\\left(t \\right)} = C_{2} e^{- t} + \\left(C_{1} + \\frac{t}{2}\\right) e^{t}$",
            "text/plain": [
              "           -t   ⎛     t⎞  t\n",
              "y(t) = C₂⋅ℯ   + ⎜C₁ + ─⎟⋅ℯ \n",
              "                ⎝     2⎠   "
            ]
          },
          "metadata": {
            "tags": []
          },
          "execution_count": 130
        }
      ]
    },
    {
      "cell_type": "code",
      "metadata": {
        "id": "SCKqHIU0gHDV",
        "colab": {
          "base_uri": "https://localhost:8080/",
          "height": 55
        },
        "outputId": "9f9c6a1d-2040-4532-d884-4855554255b2"
      },
      "source": [
        "y(t).diff(t,t)"
      ],
      "execution_count": null,
      "outputs": [
        {
          "output_type": "execute_result",
          "data": {
            "image/png": "[encoded data removed]",
            "text/latex": "$\\displaystyle \\frac{d^{2}}{d t^{2}} y{\\left(t \\right)}$",
            "text/plain": [
              "  2      \n",
              " d       \n",
              "───(y(t))\n",
              "  2      \n",
              "dt       "
            ]
          },
          "metadata": {
            "tags": []
          },
          "execution_count": 131
        }
      ]
    },
    {
      "cell_type": "markdown",
      "metadata": {
        "id": "4FGQBH2KgWzk"
      },
      "source": [
        "### eigenvals()"
      ]
    },
    {
      "cell_type": "code",
      "metadata": {
        "id": "thpBv72wKE2T",
        "colab": {
          "base_uri": "https://localhost:8080/",
          "height": 68
        },
        "outputId": "ed322308-9536-44ec-d8fb-60d8b809b236"
      },
      "source": [
        "Matrix([[1,2],[2,2]]).eigenvals()"
      ],
      "execution_count": null,
      "outputs": [
        {
          "output_type": "execute_result",
          "data": {
            "image/png": "[encoded data removed]",
            "text/latex": "$\\displaystyle \\left\\{ \\frac{3}{2} - \\frac{\\sqrt{17}}{2} : 1, \\  \\frac{3}{2} + \\frac{\\sqrt{17}}{2} : 1\\right\\}$",
            "text/plain": [
              "⎧3   √17     3   √17   ⎫\n",
              "⎨─ - ───: 1, ─ + ───: 1⎬\n",
              "⎩2    2      2    2    ⎭"
            ]
          },
          "metadata": {
            "tags": []
          },
          "execution_count": 132
        }
      ]
    },
    {
      "cell_type": "code",
      "metadata": {
        "id": "CVaYO-8TKE2V",
        "colab": {
          "base_uri": "https://localhost:8080/",
          "height": 63
        },
        "outputId": "dc33c405-daac-421a-bc0c-0ddafb7c3db4"
      },
      "source": [
        "from sympy import *\n",
        "init_printing()\n",
        "x, y ,z, nu, t = symbols('x y z nu t')\n",
        "\n",
        "besselj(nu,z).rewrite(jn)"
      ],
      "execution_count": null,
      "outputs": [
        {
          "output_type": "execute_result",
          "data": {
            "image/png": "[encoded data removed]",
            "text/latex": "$\\displaystyle \\frac{\\sqrt{2} \\sqrt{z} j_{\\nu - \\frac{1}{2}}\\left(z\\right)}{\\sqrt{\\pi}}$",
            "text/plain": [
              "√2⋅√z⋅jn(ν - 1/2, z)\n",
              "────────────────────\n",
              "         √π         "
            ]
          },
          "metadata": {
            "tags": []
          },
          "execution_count": 133
        }
      ]
    },
    {
      "cell_type": "code",
      "metadata": {
        "id": "r1-J5jchgft2",
        "colab": {
          "base_uri": "https://localhost:8080/",
          "height": 39
        },
        "outputId": "e36be26a-d0ed-4ec0-91ca-e439bd39eeb7"
      },
      "source": [
        "besselj(nu, z)"
      ],
      "execution_count": null,
      "outputs": [
        {
          "output_type": "execute_result",
          "data": {
            "image/png": "[encoded data removed]",
            "text/latex": "$\\displaystyle J_{\\nu}\\left(z\\right)$",
            "text/plain": [
              "besselj(ν, z)"
            ]
          },
          "metadata": {
            "tags": []
          },
          "execution_count": 134
        }
      ]
    },
    {
      "cell_type": "code",
      "metadata": {
        "id": "B9SqSC6_KE2X",
        "colab": {
          "base_uri": "https://localhost:8080/",
          "height": 77
        },
        "outputId": "f921084a-ead7-4568-d28c-16b1c4a24298"
      },
      "source": [
        "Integral(cos(x)**2,(x,0,pi))"
      ],
      "execution_count": null,
      "outputs": [
        {
          "output_type": "execute_result",
          "data": {
            "image/png": "[encoded data removed]",
            "text/latex": "$\\displaystyle \\int\\limits_{0}^{\\pi} \\cos^{2}{\\left(x \\right)}\\, dx$",
            "text/plain": [
              "π           \n",
              "⌠           \n",
              "⎮    2      \n",
              "⎮ cos (x) dx\n",
              "⌡           \n",
              "0           "
            ]
          },
          "metadata": {
            "tags": []
          },
          "execution_count": 135
        }
      ]
    },
    {
      "cell_type": "code",
      "metadata": {
        "id": "GDJUcx1_KE2Z",
        "colab": {
          "base_uri": "https://localhost:8080/",
          "height": 48
        },
        "outputId": "e9046f10-f0cc-4c8a-bf0e-583c2e634e4c"
      },
      "source": [
        "integrate(cos(x)**2,(x,0,pi))"
      ],
      "execution_count": null,
      "outputs": [
        {
          "output_type": "execute_result",
          "data": {
            "image/png": "[encoded data removed]",
            "text/latex": "$\\displaystyle \\frac{\\pi}{2}$",
            "text/plain": [
              "π\n",
              "─\n",
              "2"
            ]
          },
          "metadata": {
            "tags": []
          },
          "execution_count": 136
        }
      ]
    },
    {
      "cell_type": "code",
      "metadata": {
        "id": "70WJCV6KKE2b",
        "colab": {
          "base_uri": "https://localhost:8080/",
          "height": 37
        },
        "outputId": "7683515e-3052-4ac4-e6c4-e8d1a5f44558"
      },
      "source": [
        "from sympy import*\n",
        "init_printing()\n",
        "x = symbols('x')\n",
        "expr = x + 1\n",
        "expr.subs(x,2)"
      ],
      "execution_count": null,
      "outputs": [
        {
          "output_type": "execute_result",
          "data": {
            "image/png": "[encoded data removed]",
            "text/latex": "$\\displaystyle 3$",
            "text/plain": [
              "3"
            ]
          },
          "metadata": {
            "tags": []
          },
          "execution_count": 137
        }
      ]
    },
    {
      "cell_type": "code",
      "metadata": {
        "id": "KZuFvPEug4JZ",
        "colab": {
          "base_uri": "https://localhost:8080/",
          "height": 39
        },
        "outputId": "5739673b-5397-4dfd-a7a6-5ec29d6426fe"
      },
      "source": [
        "x"
      ],
      "execution_count": null,
      "outputs": [
        {
          "output_type": "execute_result",
          "data": {
            "image/png": "[encoded data removed]",
            "text/latex": "$\\displaystyle x$",
            "text/plain": [
              "x"
            ]
          },
          "metadata": {
            "tags": []
          },
          "execution_count": 138
        }
      ]
    },
    {
      "cell_type": "code",
      "metadata": {
        "id": "MBdWiMVfKE2d",
        "colab": {
          "base_uri": "https://localhost:8080/",
          "height": 40
        },
        "outputId": "105296d2-53db-4b6f-b982-bf4336412439"
      },
      "source": [
        "Eq((x + 1)**2, x**2 + 2*x + 1)"
      ],
      "execution_count": null,
      "outputs": [
        {
          "output_type": "execute_result",
          "data": {
            "image/png": "[encoded data removed]",
            "text/latex": "$\\displaystyle \\left(x + 1\\right)^{2} = x^{2} + 2 x + 1$",
            "text/plain": [
              "       2    2          \n",
              "(x + 1)  = x  + 2⋅x + 1"
            ]
          },
          "metadata": {
            "tags": []
          },
          "execution_count": 139
        }
      ]
    },
    {
      "cell_type": "code",
      "metadata": {
        "id": "TKrsy0yag-Cm",
        "colab": {
          "base_uri": "https://localhost:8080/",
          "height": 39
        },
        "outputId": "881e9d48-d39f-4702-d3f6-02326f9af972"
      },
      "source": [
        "solve(Eq((x + 1)**2, 2*x))"
      ],
      "execution_count": null,
      "outputs": [
        {
          "output_type": "execute_result",
          "data": {
            "image/png": "[encoded data removed]",
            "text/latex": "$\\displaystyle \\left[ - i, \\  i\\right]$",
            "text/plain": [
              "[-ⅈ, ⅈ]"
            ]
          },
          "metadata": {
            "tags": []
          },
          "execution_count": 140
        }
      ]
    },
    {
      "cell_type": "code",
      "metadata": {
        "id": "UdSMSq-cKE2e",
        "colab": {
          "base_uri": "https://localhost:8080/"
        },
        "outputId": "5800a15b-4847-4151-9425-f9f7a3f5b283"
      },
      "source": [
        "(x + 1)**2 == (x**2 + 2*x + 1)"
      ],
      "execution_count": null,
      "outputs": [
        {
          "output_type": "execute_result",
          "data": {
            "text/plain": [
              "False"
            ]
          },
          "metadata": {
            "tags": []
          },
          "execution_count": 141
        }
      ]
    },
    {
      "cell_type": "code",
      "metadata": {
        "id": "XKWPi0bsiYwZ",
        "colab": {
          "base_uri": "https://localhost:8080/"
        },
        "outputId": "494bdf3e-ce99-47fe-86ac-66893aaffd6d"
      },
      "source": [
        "expand((x + 1)**2) == (x**2 + 2*x + 1)"
      ],
      "execution_count": null,
      "outputs": [
        {
          "output_type": "execute_result",
          "data": {
            "text/plain": [
              "True"
            ]
          },
          "metadata": {
            "tags": []
          },
          "execution_count": 142
        }
      ]
    },
    {
      "cell_type": "code",
      "metadata": {
        "id": "SGhEMHz9KE2g",
        "colab": {
          "base_uri": "https://localhost:8080/",
          "height": 40
        },
        "outputId": "8a9321c8-b968-4ad9-ffac-b6c0b060d2c8"
      },
      "source": [
        "a = (x + 1)**2\n",
        "b = x**2 + 2*x + 1\n",
        "a"
      ],
      "execution_count": null,
      "outputs": [
        {
          "output_type": "execute_result",
          "data": {
            "image/png": "[encoded data removed]",
            "text/latex": "$\\displaystyle \\left(x + 1\\right)^{2}$",
            "text/plain": [
              "       2\n",
              "(x + 1) "
            ]
          },
          "metadata": {
            "tags": []
          },
          "execution_count": 143
        }
      ]
    },
    {
      "cell_type": "code",
      "metadata": {
        "id": "Onyo_fqzKE2i",
        "colab": {
          "base_uri": "https://localhost:8080/",
          "height": 40
        },
        "outputId": "72d33e09-c669-400f-9001-2215f8a122b9"
      },
      "source": [
        "a - b"
      ],
      "execution_count": null,
      "outputs": [
        {
          "output_type": "execute_result",
          "data": {
            "image/png": "[encoded data removed]",
            "text/latex": "$\\displaystyle - x^{2} - 2 x + \\left(x + 1\\right)^{2} - 1$",
            "text/plain": [
              "   2                2    \n",
              "- x  - 2⋅x + (x + 1)  - 1"
            ]
          },
          "metadata": {
            "tags": []
          },
          "execution_count": 144
        }
      ]
    },
    {
      "cell_type": "code",
      "metadata": {
        "id": "5sO7zDhLKE2j",
        "colab": {
          "base_uri": "https://localhost:8080/",
          "height": 37
        },
        "outputId": "358d8eb5-ff2b-494f-aaed-04aa74e32db1"
      },
      "source": [
        "simplify(a - b)"
      ],
      "execution_count": null,
      "outputs": [
        {
          "output_type": "execute_result",
          "data": {
            "image/png": "[encoded data removed]",
            "text/latex": "$\\displaystyle 0$",
            "text/plain": [
              "0"
            ]
          },
          "metadata": {
            "tags": []
          },
          "execution_count": 145
        }
      ]
    },
    {
      "cell_type": "code",
      "metadata": {
        "id": "pbmXqVJ5KE2n",
        "colab": {
          "base_uri": "https://localhost:8080/"
        },
        "outputId": "b85734cf-1db8-4eff-bc03-5e881b4a3739"
      },
      "source": [
        "if simplify(a - b) == 0:\n",
        "    print (\"right\")\n",
        "else:\n",
        "    print (\"no\")"
      ],
      "execution_count": null,
      "outputs": [
        {
          "output_type": "stream",
          "text": [
            "right\n"
          ],
          "name": "stdout"
        }
      ]
    },
    {
      "cell_type": "code",
      "metadata": {
        "id": "LQQ-vDbwKE2o",
        "colab": {
          "base_uri": "https://localhost:8080/"
        },
        "outputId": "01a8d8fa-9cd5-40f3-8562-c09e1e12f427"
      },
      "source": [
        "a.equals(b)"
      ],
      "execution_count": null,
      "outputs": [
        {
          "output_type": "execute_result",
          "data": {
            "text/plain": [
              "True"
            ]
          },
          "metadata": {
            "tags": []
          },
          "execution_count": 147
        }
      ]
    },
    {
      "cell_type": "code",
      "metadata": {
        "id": "9A83Ll0GKE2q",
        "colab": {
          "base_uri": "https://localhost:8080/"
        },
        "outputId": "32c9b94b-c06c-4402-82b6-4fa12885fbe4"
      },
      "source": [
        "a = cos(x)**2 - sin(x)**2\n",
        "b = cos(2*x)\n",
        "a.equals(b)"
      ],
      "execution_count": null,
      "outputs": [
        {
          "output_type": "execute_result",
          "data": {
            "text/plain": [
              "True"
            ]
          },
          "metadata": {
            "tags": []
          },
          "execution_count": 148
        }
      ]
    },
    {
      "cell_type": "code",
      "metadata": {
        "id": "TLMsavYSKE2r",
        "colab": {
          "base_uri": "https://localhost:8080/",
          "height": 39
        },
        "outputId": "3659e4dc-efca-4a51-a349-2843ada39cf5"
      },
      "source": [
        "x^y"
      ],
      "execution_count": null,
      "outputs": [
        {
          "output_type": "execute_result",
          "data": {
            "image/png": "[encoded data removed]",
            "text/latex": "$\\displaystyle x \\veebar y$",
            "text/plain": [
              "x ⊻ y"
            ]
          },
          "metadata": {
            "tags": []
          },
          "execution_count": 149
        }
      ]
    },
    {
      "cell_type": "code",
      "metadata": {
        "id": "YZkwfBNiKE2t",
        "colab": {
          "base_uri": "https://localhost:8080/"
        },
        "outputId": "deb18f3d-b49c-4300-8d29-555ec85f72b3"
      },
      "source": [
        "type(Integer(1) + 1)"
      ],
      "execution_count": null,
      "outputs": [
        {
          "output_type": "execute_result",
          "data": {
            "text/plain": [
              "sympy.core.numbers.Integer"
            ]
          },
          "metadata": {
            "tags": []
          },
          "execution_count": 150
        }
      ]
    },
    {
      "cell_type": "code",
      "metadata": {
        "id": "kLdv6VNNjdZq",
        "colab": {
          "base_uri": "https://localhost:8080/",
          "height": 37
        },
        "outputId": "a4552869-fe87-4e62-b71c-b96a1a4ed4b5"
      },
      "source": [
        "Integer(3)"
      ],
      "execution_count": null,
      "outputs": [
        {
          "output_type": "execute_result",
          "data": {
            "image/png": "[encoded data removed]",
            "text/latex": "$\\displaystyle 3$",
            "text/plain": [
              "3"
            ]
          },
          "metadata": {
            "tags": []
          },
          "execution_count": 151
        }
      ]
    },
    {
      "cell_type": "code",
      "metadata": {
        "id": "lEOQ1QAPKE2x",
        "colab": {
          "base_uri": "https://localhost:8080/"
        },
        "outputId": "e6b96f9c-ac95-4575-c50b-4b1c921e81e3"
      },
      "source": [
        "type(1 +  1)"
      ],
      "execution_count": null,
      "outputs": [
        {
          "output_type": "execute_result",
          "data": {
            "text/plain": [
              "int"
            ]
          },
          "metadata": {
            "tags": []
          },
          "execution_count": 152
        }
      ]
    },
    {
      "cell_type": "code",
      "metadata": {
        "id": "WPkuDseBKE2z",
        "colab": {
          "base_uri": "https://localhost:8080/",
          "height": 52
        },
        "outputId": "bd76daed-0b1a-436c-9493-7cd64d12f41a"
      },
      "source": [
        "Integer(3) / Integer(2)"
      ],
      "execution_count": null,
      "outputs": [
        {
          "output_type": "execute_result",
          "data": {
            "image/png": "[encoded data removed]",
            "text/latex": "$\\displaystyle \\frac{3}{2}$",
            "text/plain": [
              "3/2"
            ]
          },
          "metadata": {
            "tags": []
          },
          "execution_count": 153
        }
      ]
    },
    {
      "cell_type": "code",
      "metadata": {
        "id": "3FYtpaDYKE21",
        "colab": {
          "base_uri": "https://localhost:8080/",
          "height": 37
        },
        "outputId": "185c9d65-4eac-441b-b74b-cf17d2fe0d28"
      },
      "source": [
        "3/2"
      ],
      "execution_count": null,
      "outputs": [
        {
          "output_type": "execute_result",
          "data": {
            "image/png": "[encoded data removed]",
            "text/latex": "$\\displaystyle 1.5$",
            "text/plain": [
              "1.5"
            ]
          },
          "metadata": {
            "tags": []
          },
          "execution_count": 154
        }
      ]
    },
    {
      "cell_type": "code",
      "metadata": {
        "id": "xdrKapphKE22",
        "colab": {
          "base_uri": "https://localhost:8080/",
          "height": 37
        },
        "outputId": "0a06706d-2347-4ebe-dcfd-923e699b0490"
      },
      "source": [
        "# from __future__ import division\n",
        "1/2"
      ],
      "execution_count": null,
      "outputs": [
        {
          "output_type": "execute_result",
          "data": {
            "image/png": "[encoded data removed]",
            "text/latex": "$\\displaystyle 0.5$",
            "text/plain": [
              "0.5"
            ]
          },
          "metadata": {
            "tags": []
          },
          "execution_count": 155
        }
      ]
    },
    {
      "cell_type": "code",
      "metadata": {
        "id": "a_SgUAMEKE24",
        "colab": {
          "base_uri": "https://localhost:8080/",
          "height": 52
        },
        "outputId": "5abfbaf2-5e46-4aaf-dbc8-3e5ef7ab223f"
      },
      "source": [
        "Rational(1,2)"
      ],
      "execution_count": null,
      "outputs": [
        {
          "output_type": "execute_result",
          "data": {
            "image/png": "[encoded data removed]",
            "text/latex": "$\\displaystyle \\frac{1}{2}$",
            "text/plain": [
              "1/2"
            ]
          },
          "metadata": {
            "tags": []
          },
          "execution_count": 156
        }
      ]
    },
    {
      "cell_type": "code",
      "metadata": {
        "id": "a8MayKG5KE25",
        "colab": {
          "base_uri": "https://localhost:8080/",
          "height": 39
        },
        "outputId": "77d3e51b-c8cb-48bf-d851-4e4158e82d6d"
      },
      "source": [
        "x  + 1/2"
      ],
      "execution_count": null,
      "outputs": [
        {
          "output_type": "execute_result",
          "data": {
            "image/png": "[encoded data removed]",
            "text/latex": "$\\displaystyle x + 0.5$",
            "text/plain": [
              "x + 0.5"
            ]
          },
          "metadata": {
            "tags": []
          },
          "execution_count": 157
        }
      ]
    },
    {
      "cell_type": "markdown",
      "metadata": {
        "id": "LvSybQBWjypD"
      },
      "source": [
        "### 代入"
      ]
    },
    {
      "cell_type": "code",
      "metadata": {
        "id": "qEjif4QDKE27",
        "colab": {
          "base_uri": "https://localhost:8080/",
          "height": 39
        },
        "outputId": "2051aedd-c41b-4bd9-b429-4d6d0a7c58b1"
      },
      "source": [
        "from sympy import *\n",
        "x, y, z = symbols('x y z')\n",
        "expr = cos(x) + 1\n",
        "expr.subs(x, y)"
      ],
      "execution_count": null,
      "outputs": [
        {
          "output_type": "execute_result",
          "data": {
            "image/png": "[encoded data removed]",
            "text/latex": "$\\displaystyle \\cos{\\left(y \\right)} + 1$",
            "text/plain": [
              "cos(y) + 1"
            ]
          },
          "metadata": {
            "tags": []
          },
          "execution_count": 158
        }
      ]
    },
    {
      "cell_type": "code",
      "metadata": {
        "id": "KGXbX9LAKE28",
        "colab": {
          "base_uri": "https://localhost:8080/",
          "height": 37
        },
        "outputId": "7d5223e0-59a4-4973-e0df-88e2f5774cd5"
      },
      "source": [
        "expr.subs(x, 0)"
      ],
      "execution_count": null,
      "outputs": [
        {
          "output_type": "execute_result",
          "data": {
            "image/png": "[encoded data removed]",
            "text/latex": "$\\displaystyle 2$",
            "text/plain": [
              "2"
            ]
          },
          "metadata": {
            "tags": []
          },
          "execution_count": 159
        }
      ]
    },
    {
      "cell_type": "code",
      "metadata": {
        "id": "lTiHVS6jKE2-",
        "colab": {
          "base_uri": "https://localhost:8080/",
          "height": 39
        },
        "outputId": "b3b1bb6a-8ad4-4d9e-c914-068739acf8a2"
      },
      "source": [
        "expr = x ** y\n",
        "expr"
      ],
      "execution_count": null,
      "outputs": [
        {
          "output_type": "execute_result",
          "data": {
            "image/png": "[encoded data removed]",
            "text/latex": "$\\displaystyle x^{y}$",
            "text/plain": [
              " y\n",
              "x "
            ]
          },
          "metadata": {
            "tags": []
          },
          "execution_count": 160
        }
      ]
    },
    {
      "cell_type": "code",
      "metadata": {
        "id": "2qoLc6cFKE3A",
        "colab": {
          "base_uri": "https://localhost:8080/",
          "height": 39
        },
        "outputId": "d0b8556a-e528-4c0c-dac6-33ce8288c0ff"
      },
      "source": [
        "expr = expr.subs(y, x**y)\n",
        "expr\n"
      ],
      "execution_count": null,
      "outputs": [
        {
          "output_type": "execute_result",
          "data": {
            "image/png": "[encoded data removed]",
            "text/latex": "$\\displaystyle x^{x^{y}}$",
            "text/plain": [
              " ⎛ y⎞\n",
              " ⎝x ⎠\n",
              "x    "
            ]
          },
          "metadata": {
            "tags": []
          },
          "execution_count": 161
        }
      ]
    },
    {
      "cell_type": "code",
      "metadata": {
        "id": "fHxhuvFnKE3B",
        "colab": {
          "base_uri": "https://localhost:8080/",
          "height": 39
        },
        "outputId": "bbd9de74-d68c-4f9c-b087-c010de80c96a"
      },
      "source": [
        "expr = sin(2*x) + cos(2*x)\n",
        "expand_trig(expr)"
      ],
      "execution_count": null,
      "outputs": [
        {
          "output_type": "execute_result",
          "data": {
            "image/png": "[encoded data removed]",
            "text/latex": "$\\displaystyle 2 \\sin{\\left(x \\right)} \\cos{\\left(x \\right)} + 2 \\cos^{2}{\\left(x \\right)} - 1$",
            "text/plain": [
              "                       2       \n",
              "2⋅sin(x)⋅cos(x) + 2⋅cos (x) - 1"
            ]
          },
          "metadata": {
            "tags": []
          },
          "execution_count": 162
        }
      ]
    },
    {
      "cell_type": "code",
      "metadata": {
        "id": "1EiwK8FZKE3D",
        "colab": {
          "base_uri": "https://localhost:8080/",
          "height": 39
        },
        "outputId": "38120066-6d86-4223-8ce3-6548e450c1d1"
      },
      "source": [
        "expr.subs(sin(2*x), 2*sin(x)*cos(x))"
      ],
      "execution_count": null,
      "outputs": [
        {
          "output_type": "execute_result",
          "data": {
            "image/png": "[encoded data removed]",
            "text/latex": "$\\displaystyle 2 \\sin{\\left(x \\right)} \\cos{\\left(x \\right)} + \\cos{\\left(2 x \\right)}$",
            "text/plain": [
              "2⋅sin(x)⋅cos(x) + cos(2⋅x)"
            ]
          },
          "metadata": {
            "tags": []
          },
          "execution_count": 163
        }
      ]
    },
    {
      "cell_type": "markdown",
      "metadata": {
        "id": "wlY6w4X-KE3G"
      },
      "source": [
        "### 多重代入"
      ]
    },
    {
      "cell_type": "code",
      "metadata": {
        "id": "zH7awyIbKE3G",
        "colab": {
          "base_uri": "https://localhost:8080/",
          "height": 37
        },
        "outputId": "eeb86c7a-f5d0-4bbe-ce0c-e18e69ffabaa"
      },
      "source": [
        "from sympy import*\n",
        "init_printing()\n",
        "x,y,z,t = symbols('x y z t')\n",
        "expr = x**3 + 4*x*y - z\n",
        "expr.subs([(x,2),(y,4),(z,0)])"
      ],
      "execution_count": null,
      "outputs": [
        {
          "output_type": "execute_result",
          "data": {
            "image/png": "[encoded data removed]",
            "text/latex": "$\\displaystyle 40$",
            "text/plain": [
              "40"
            ]
          },
          "metadata": {
            "tags": []
          },
          "execution_count": 164
        }
      ]
    },
    {
      "cell_type": "code",
      "metadata": {
        "id": "HM8OPcBIKE3H",
        "colab": {
          "base_uri": "https://localhost:8080/",
          "height": 39
        },
        "outputId": "25af7e5d-f9b7-4c42-e4b2-0dff1ee7cbe5"
      },
      "source": [
        "expr = x**4 - 4*x**3 + 4*x**2 - 2*x + 3\n",
        "expr"
      ],
      "execution_count": null,
      "outputs": [
        {
          "output_type": "execute_result",
          "data": {
            "image/png": "[encoded data removed]",
            "text/latex": "$\\displaystyle x^{4} - 4 x^{3} + 4 x^{2} - 2 x + 3$",
            "text/plain": [
              " 4      3      2          \n",
              "x  - 4⋅x  + 4⋅x  - 2⋅x + 3"
            ]
          },
          "metadata": {
            "tags": []
          },
          "execution_count": 165
        }
      ]
    },
    {
      "cell_type": "code",
      "metadata": {
        "id": "XUyCusFjk46a",
        "colab": {
          "base_uri": "https://localhost:8080/",
          "height": 57
        },
        "outputId": "a1b0d46b-58f4-435e-ce83-ab3cdf525939"
      },
      "source": [
        "replacements = [(x**i, y**i) for i in range(5) if i % 2 ==0]\n",
        "print (replacements)\n",
        "display(expr.subs(replacements))"
      ],
      "execution_count": null,
      "outputs": [
        {
          "output_type": "stream",
          "text": [
            "[(1, 1), (x**2, y**2), (x**4, y**4)]\n"
          ],
          "name": "stdout"
        },
        {
          "output_type": "display_data",
          "data": {
            "image/png": "[encoded data removed]",
            "text/latex": "$\\displaystyle - 4 x^{3} - 2 x + y^{4} + 4 y^{2} + 3$",
            "text/plain": [
              "     3          4      2    \n",
              "- 4⋅x  - 2⋅x + y  + 4⋅y  + 3"
            ]
          },
          "metadata": {
            "tags": []
          }
        }
      ]
    },
    {
      "cell_type": "markdown",
      "metadata": {
        "id": "GbqFvKDaKE3K"
      },
      "source": [
        "### sympify"
      ]
    },
    {
      "cell_type": "code",
      "metadata": {
        "id": "6oFzfwLpKE3M",
        "colab": {
          "base_uri": "https://localhost:8080/",
          "height": 52
        },
        "outputId": "63b78b86-c5de-49dc-9a9c-56991e6a7094"
      },
      "source": [
        "str_expr = \"x**2+ 3*x - 1/2\"\n",
        "expr = sympify(str_expr)\n",
        "expr"
      ],
      "execution_count": null,
      "outputs": [
        {
          "output_type": "execute_result",
          "data": {
            "image/png": "[encoded data removed]",
            "text/latex": "$\\displaystyle x^{2} + 3 x - \\frac{1}{2}$",
            "text/plain": [
              " 2         1\n",
              "x  + 3⋅x - ─\n",
              "           2"
            ]
          },
          "metadata": {
            "tags": []
          },
          "execution_count": 167
        }
      ]
    },
    {
      "cell_type": "code",
      "metadata": {
        "id": "GB3k_NVeKE3O",
        "colab": {
          "base_uri": "https://localhost:8080/",
          "height": 52
        },
        "outputId": "9054466f-d754-4a05-8c32-21d5b08e14a1"
      },
      "source": [
        "expr.subs(x,2)"
      ],
      "execution_count": null,
      "outputs": [
        {
          "output_type": "execute_result",
          "data": {
            "image/png": "[encoded data removed]",
            "text/latex": "$\\displaystyle \\frac{19}{2}$",
            "text/plain": [
              "19/2"
            ]
          },
          "metadata": {
            "tags": []
          },
          "execution_count": 168
        }
      ]
    },
    {
      "cell_type": "markdown",
      "metadata": {
        "id": "GiA24U9CKE3P"
      },
      "source": [
        "### evalf"
      ]
    },
    {
      "cell_type": "code",
      "metadata": {
        "id": "szxTxnFfKE3P",
        "colab": {
          "base_uri": "https://localhost:8080/",
          "height": 37
        },
        "outputId": "848dd12d-a442-45a5-d4da-fdbd928df121"
      },
      "source": [
        "sqrt(8).evalf()"
      ],
      "execution_count": null,
      "outputs": [
        {
          "output_type": "execute_result",
          "data": {
            "image/png": "[encoded data removed]",
            "text/latex": "$\\displaystyle 2.82842712474619$",
            "text/plain": [
              "2.82842712474619"
            ]
          },
          "metadata": {
            "tags": []
          },
          "execution_count": 169
        }
      ]
    },
    {
      "cell_type": "code",
      "metadata": {
        "id": "itqK1YyjKE3R",
        "colab": {
          "base_uri": "https://localhost:8080/",
          "height": 37
        },
        "outputId": "479a37f0-e277-462a-e95f-99e86c4d41b8"
      },
      "source": [
        "E.evalf()"
      ],
      "execution_count": null,
      "outputs": [
        {
          "output_type": "execute_result",
          "data": {
            "image/png": "[encoded data removed]",
            "text/latex": "$\\displaystyle 2.71828182845905$",
            "text/plain": [
              "2.71828182845905"
            ]
          },
          "metadata": {
            "tags": []
          },
          "execution_count": 170
        }
      ]
    },
    {
      "cell_type": "code",
      "metadata": {
        "id": "sbKsHSyzKE3S",
        "colab": {
          "base_uri": "https://localhost:8080/",
          "height": 57
        },
        "outputId": "b5647339-a9d4-4b00-a8ad-9460f7f676f7"
      },
      "source": [
        "pi.evalf(100)"
      ],
      "execution_count": null,
      "outputs": [
        {
          "output_type": "execute_result",
          "data": {
            "image/png": "[encoded data removed]",
            "text/latex": "$\\displaystyle 3.141592653589793238462643383279502884197169399375105820974944592307816406286208998628034825342117068$",
            "text/plain": [
              "3.1415926535897932384626433832795028841971693993751058209749445923078164062862\n",
              "08998628034825342117068"
            ]
          },
          "metadata": {
            "tags": []
          },
          "execution_count": 171
        }
      ]
    },
    {
      "cell_type": "code",
      "metadata": {
        "id": "q5Vqenm5KE3T",
        "colab": {
          "base_uri": "https://localhost:8080/",
          "height": 37
        },
        "outputId": "0a2369c8-3096-464f-e246-2f12886b3abc"
      },
      "source": [
        "expr = cos(2*x)\n",
        "expr.evalf(subs={x: 2.4})"
      ],
      "execution_count": null,
      "outputs": [
        {
          "output_type": "execute_result",
          "data": {
            "image/png": "[encoded data removed]",
            "text/latex": "$\\displaystyle 0.0874989834394464$",
            "text/plain": [
              "0.0874989834394464"
            ]
          },
          "metadata": {
            "tags": []
          },
          "execution_count": 172
        }
      ]
    },
    {
      "cell_type": "code",
      "metadata": {
        "id": "Rbwo_bdSKE3V",
        "colab": {
          "base_uri": "https://localhost:8080/",
          "height": 37
        },
        "outputId": "7a23543b-0063-41d1-ab73-58cad09d778e"
      },
      "source": [
        "expr.subs(x,2.4).evalf()"
      ],
      "execution_count": null,
      "outputs": [
        {
          "output_type": "execute_result",
          "data": {
            "image/png": "[encoded data removed]",
            "text/latex": "$\\displaystyle 0.0874989834394464$",
            "text/plain": [
              "0.0874989834394464"
            ]
          },
          "metadata": {
            "tags": []
          },
          "execution_count": 173
        }
      ]
    },
    {
      "cell_type": "code",
      "metadata": {
        "id": "rAfUpSZBKE3Y",
        "colab": {
          "base_uri": "https://localhost:8080/",
          "height": 37
        },
        "outputId": "f0cf86bf-c7a8-44c9-cf38-43555b3157b5"
      },
      "source": [
        "one = cos(1)**2 + sin(1)**2\n",
        "(one - 1).evalf(chop=True)"
      ],
      "execution_count": null,
      "outputs": [
        {
          "output_type": "execute_result",
          "data": {
            "image/png": "[encoded data removed]",
            "text/latex": "$\\displaystyle 0$",
            "text/plain": [
              "0"
            ]
          },
          "metadata": {
            "tags": []
          },
          "execution_count": 174
        }
      ]
    },
    {
      "cell_type": "code",
      "metadata": {
        "id": "_L9NxhhgmT5i",
        "colab": {
          "base_uri": "https://localhost:8080/",
          "height": 37
        },
        "outputId": "e4a8f51b-b255-4028-ee7a-af6e8a228cd1"
      },
      "source": [
        "one = cos(1)**2 + sin(1)**2\n",
        "(one - 1).evalf()"
      ],
      "execution_count": null,
      "outputs": [
        {
          "output_type": "execute_result",
          "data": {
            "image/png": "[encoded data removed]",
            "text/latex": "$\\displaystyle -4.0 \\cdot 10^{-124}$",
            "text/plain": [
              "-0.e-124"
            ]
          },
          "metadata": {
            "tags": []
          },
          "execution_count": 175
        }
      ]
    },
    {
      "cell_type": "markdown",
      "metadata": {
        "id": "vBx-h8LMKE3Z"
      },
      "source": [
        "###  lambdify\n",
        "`lambdify` どんなときに役にたつのだろうか。\n",
        "\n",
        "まあいいか。進もう。"
      ]
    },
    {
      "cell_type": "code",
      "metadata": {
        "id": "4C6P4cdTKE3Z",
        "colab": {
          "base_uri": "https://localhost:8080/"
        },
        "outputId": "0c06b61a-5a60-4239-9a33-315b3f03848d"
      },
      "source": [
        "import numpy\n",
        "a = numpy.arange(10)\n",
        "a"
      ],
      "execution_count": null,
      "outputs": [
        {
          "output_type": "execute_result",
          "data": {
            "text/plain": [
              "array([0, 1, 2, 3, 4, 5, 6, 7, 8, 9])"
            ]
          },
          "metadata": {
            "tags": []
          },
          "execution_count": 176
        }
      ]
    },
    {
      "cell_type": "code",
      "metadata": {
        "id": "uYH99-JsmvOf",
        "colab": {
          "base_uri": "https://localhost:8080/"
        },
        "outputId": "d8303293-6b10-4ee7-d379-71ee3af38e96"
      },
      "source": [
        "range (10)"
      ],
      "execution_count": null,
      "outputs": [
        {
          "output_type": "execute_result",
          "data": {
            "text/plain": [
              "range(0, 10)"
            ]
          },
          "metadata": {
            "tags": []
          },
          "execution_count": 177
        }
      ]
    },
    {
      "cell_type": "code",
      "metadata": {
        "id": "vKZtLgVr-D8w",
        "colab": {
          "base_uri": "https://localhost:8080/",
          "height": 37
        },
        "outputId": "fead2a5d-01ab-4ca2-a3f6-d7c40b3ef147"
      },
      "source": [
        "range(0, 10)[3]"
      ],
      "execution_count": null,
      "outputs": [
        {
          "output_type": "execute_result",
          "data": {
            "image/png": "[encoded data removed]",
            "text/latex": "$\\displaystyle 3$",
            "text/plain": [
              "3"
            ]
          },
          "metadata": {
            "tags": []
          },
          "execution_count": 178
        }
      ]
    },
    {
      "cell_type": "code",
      "metadata": {
        "id": "qvM8YcaVKE3b",
        "colab": {
          "base_uri": "https://localhost:8080/"
        },
        "outputId": "c30686e0-df39-4dda-c07e-ed1d1e238f58"
      },
      "source": [
        "a[3]"
      ],
      "execution_count": null,
      "outputs": [
        {
          "output_type": "execute_result",
          "data": {
            "text/plain": [
              "3"
            ]
          },
          "metadata": {
            "tags": []
          },
          "execution_count": 179
        }
      ]
    },
    {
      "cell_type": "code",
      "metadata": {
        "id": "oRE-FGc7-PpY",
        "colab": {
          "base_uri": "https://localhost:8080/"
        },
        "outputId": "4231c9cb-3e02-48f9-b65c-d6b1ae4c6350"
      },
      "source": [
        "list(a)"
      ],
      "execution_count": null,
      "outputs": [
        {
          "output_type": "execute_result",
          "data": {
            "text/plain": [
              "[0, 1, 2, 3, 4, 5, 6, 7, 8, 9]"
            ]
          },
          "metadata": {
            "tags": []
          },
          "execution_count": 180
        }
      ]
    },
    {
      "cell_type": "code",
      "metadata": {
        "id": "yvRWjzBW-Wzv",
        "colab": {
          "base_uri": "https://localhost:8080/",
          "height": 37
        },
        "outputId": "a52f481e-245c-461a-b700-63081c312c1a"
      },
      "source": [
        "list(range(0, 10))"
      ],
      "execution_count": null,
      "outputs": [
        {
          "output_type": "execute_result",
          "data": {
            "image/png": "[encoded data removed]",
            "text/latex": "$\\displaystyle \\left[ 0, \\  1, \\  2, \\  3, \\  4, \\  5, \\  6, \\  7, \\  8, \\  9\\right]$",
            "text/plain": [
              "[0, 1, 2, 3, 4, 5, 6, 7, 8, 9]"
            ]
          },
          "metadata": {
            "tags": []
          },
          "execution_count": 181
        }
      ]
    },
    {
      "cell_type": "code",
      "metadata": {
        "id": "hPdPWvbaKE3c",
        "colab": {
          "base_uri": "https://localhost:8080/"
        },
        "outputId": "1ee4fbb5-db8f-4691-9040-fa3fc9372f4f"
      },
      "source": [
        "expr = sin(x)\n",
        "f = lambdify(x, expr, \"numpy\")\n",
        "f(a)"
      ],
      "execution_count": null,
      "outputs": [
        {
          "output_type": "execute_result",
          "data": {
            "text/plain": [
              "array([ 0.        ,  0.84147098,  0.90929743,  0.14112001, -0.7568025 ,\n",
              "       -0.95892427, -0.2794155 ,  0.6569866 ,  0.98935825,  0.41211849])"
            ]
          },
          "metadata": {
            "tags": []
          },
          "execution_count": 182
        }
      ]
    },
    {
      "cell_type": "code",
      "metadata": {
        "id": "CeDqreiqKE3d",
        "colab": {
          "base_uri": "https://localhost:8080/",
          "height": 37
        },
        "outputId": "d9e5acb2-6225-4afe-c247-5ee0ad58a69f"
      },
      "source": [
        "f = lambdify(x, expr, \"math\")\n",
        "f(0.1)"
      ],
      "execution_count": null,
      "outputs": [
        {
          "output_type": "execute_result",
          "data": {
            "image/png": "[encoded data removed]",
            "text/latex": "$\\displaystyle 0.0998334166468282$",
            "text/plain": [
              "0.09983341664682815"
            ]
          },
          "metadata": {
            "tags": []
          },
          "execution_count": 183
        }
      ]
    },
    {
      "cell_type": "code",
      "metadata": {
        "id": "rfixqWaW-lWr"
      },
      "source": [
        "lambdify?"
      ],
      "execution_count": null,
      "outputs": []
    },
    {
      "cell_type": "markdown",
      "metadata": {
        "id": "xbC9WZanKE3f"
      },
      "source": [
        "### sympy_name:numerical_function pairs"
      ]
    },
    {
      "cell_type": "code",
      "metadata": {
        "id": "QWCCK83UKE3f",
        "colab": {
          "base_uri": "https://localhost:8080/",
          "height": 37
        },
        "outputId": "9ef8be7e-d190-4a7d-aa2f-883f875d9fdb"
      },
      "source": [
        "def mysin(x):\n",
        "    \"\"\"\n",
        "    My sine. Note that this is only accurate for small x.\n",
        "    \"\"\"\n",
        "    return x\n",
        "f = lambdify(x, expr, {\"sin\":mysin})\n",
        "f(0.1)"
      ],
      "execution_count": null,
      "outputs": [
        {
          "output_type": "execute_result",
          "data": {
            "image/png": "[encoded data removed]",
            "text/latex": "$\\displaystyle 0.1$",
            "text/plain": [
              "0.1"
            ]
          },
          "metadata": {
            "tags": []
          },
          "execution_count": 185
        }
      ]
    },
    {
      "cell_type": "markdown",
      "metadata": {
        "id": "4LAMjb0IKE3h"
      },
      "source": [
        "### printing\n",
        "\n",
        "str, srepr, ASCII pretty printer, Unicode pretty printer, LaTeX, MathML, Dot\n",
        "\n",
        "init_session() works\n",
        "1. frm sympy import *\n",
        "2. init_printing()\n",
        "3. common symbols\n"
      ]
    },
    {
      "cell_type": "code",
      "metadata": {
        "id": "FCQxYGD-KE3i",
        "colab": {
          "base_uri": "https://localhost:8080/"
        },
        "outputId": "743aa2d6-a96d-4192-8f7e-05d621fccb69"
      },
      "source": [
        "from sympy import *\n",
        "init_session()"
      ],
      "execution_count": null,
      "outputs": [
        {
          "output_type": "stream",
          "text": [
            "IPython console for SymPy 1.7.1 (Python 3.7.10-64-bit) (ground types: python)\n",
            "\n",
            "These commands were executed:\n",
            ">>> from __future__ import division\n",
            ">>> from sympy import *\n",
            ">>> x, y, z, t = symbols('x y z t')\n",
            ">>> k, m, n = symbols('k m n', integer=True)\n",
            ">>> f, g, h = symbols('f g h', cls=Function)\n",
            ">>> init_printing()\n",
            "\n",
            "Documentation can be found at https://docs.sympy.org/1.7.1/\n",
            "\n"
          ],
          "name": "stdout"
        }
      ]
    },
    {
      "cell_type": "markdown",
      "metadata": {
        "id": "keItiTyBKE3j"
      },
      "source": [
        "### continued fractions\n"
      ]
    },
    {
      "cell_type": "code",
      "metadata": {
        "scrolled": true,
        "id": "QPyhp8qGKE3j",
        "colab": {
          "base_uri": "https://localhost:8080/",
          "height": 58
        },
        "outputId": "f4175757-fc8c-4459-e8c2-f0281e42ffb9"
      },
      "source": [
        "from sympy import *\n",
        "init_printing()\n",
        "x,y,z = symbols('x y z')\n",
        "\n",
        "def list_to_frac(l):\n",
        "    expr = Integer(0)\n",
        "    for i in reversed(l[1:]):\n",
        "        expr += i\n",
        "        expr = 1 / expr\n",
        "    return l[0] + expr\n",
        "frac = list_to_frac([x,y,z])\n",
        "frac"
      ],
      "execution_count": null,
      "outputs": [
        {
          "output_type": "execute_result",
          "data": {
            "image/png": "[encoded data removed]",
            "text/latex": "$\\displaystyle x + \\frac{1}{y + \\frac{1}{z}}$",
            "text/plain": [
              "      1  \n",
              "x + ─────\n",
              "        1\n",
              "    y + ─\n",
              "        z"
            ]
          },
          "metadata": {
            "tags": []
          },
          "execution_count": 187
        }
      ]
    },
    {
      "cell_type": "code",
      "metadata": {
        "id": "DdHklhRKKE3l",
        "colab": {
          "base_uri": "https://localhost:8080/",
          "height": 52
        },
        "outputId": "754baf8d-7175-4e5a-f383-2d4b025c5f15"
      },
      "source": [
        "list_to_frac([1,2,3,4])"
      ],
      "execution_count": null,
      "outputs": [
        {
          "output_type": "execute_result",
          "data": {
            "image/png": "[encoded data removed]",
            "text/latex": "$\\displaystyle \\frac{43}{30}$",
            "text/plain": [
              "43\n",
              "──\n",
              "30"
            ]
          },
          "metadata": {
            "tags": []
          },
          "execution_count": 188
        }
      ]
    },
    {
      "cell_type": "code",
      "metadata": {
        "id": "2m8O9YhYKE3m",
        "colab": {
          "base_uri": "https://localhost:8080/",
          "height": 39
        },
        "outputId": "8d899cf8-f014-4f6a-9137-266c14e2c47d"
      },
      "source": [
        "syms = symbols('a0:5')\n",
        "syms"
      ],
      "execution_count": null,
      "outputs": [
        {
          "output_type": "execute_result",
          "data": {
            "image/png": "[encoded data removed]",
            "text/latex": "$\\displaystyle \\left( a_{0}, \\  a_{1}, \\  a_{2}, \\  a_{3}, \\  a_{4}\\right)$",
            "text/plain": [
              "(a₀, a₁, a₂, a₃, a₄)"
            ]
          },
          "metadata": {
            "tags": []
          },
          "execution_count": 189
        }
      ]
    },
    {
      "cell_type": "code",
      "metadata": {
        "id": "3osy6Pf8KE3o",
        "colab": {
          "base_uri": "https://localhost:8080/",
          "height": 73
        },
        "outputId": "8a417a52-8d7e-4c02-a7e7-b9140b69d920"
      },
      "source": [
        "a0, a1, a2, a3, a4 = syms\n",
        "\n",
        "frac = list_to_frac(syms)\n",
        "frac"
      ],
      "execution_count": null,
      "outputs": [
        {
          "output_type": "execute_result",
          "data": {
            "image/png": "[encoded data removed]",
            "text/latex": "$\\displaystyle a_{0} + \\frac{1}{a_{1} + \\frac{1}{a_{2} + \\frac{1}{a_{3} + \\frac{1}{a_{4}}}}}$",
            "text/plain": [
              "             1        \n",
              "a₀ + ─────────────────\n",
              "               1      \n",
              "     a₁ + ────────────\n",
              "                  1   \n",
              "          a₂ + ───────\n",
              "                    1 \n",
              "               a₃ + ──\n",
              "                    a₄"
            ]
          },
          "metadata": {
            "tags": []
          },
          "execution_count": 190
        }
      ]
    },
    {
      "cell_type": "code",
      "metadata": {
        "colab": {
          "base_uri": "https://localhost:8080/",
          "height": 61
        },
        "id": "yDLLwmNPTDtL",
        "outputId": "252461ee-6573-4c95-a517-5165afba119d"
      },
      "source": [
        "# 実験\r\n",
        "from sympy import *\r\n",
        "init_printing()\r\n",
        "a11 = symbols('a11')\r\n",
        "display (a11)\r\n",
        "display(symbols('a_11'))"
      ],
      "execution_count": null,
      "outputs": [
        {
          "output_type": "display_data",
          "data": {
            "image/png": "[encoded data removed]",
            "text/latex": "$\\displaystyle a_{11}$",
            "text/plain": [
              "a₁₁"
            ]
          },
          "metadata": {
            "tags": []
          }
        },
        {
          "output_type": "display_data",
          "data": {
            "image/png": "[encoded data removed]",
            "text/latex": "$\\displaystyle a_{11}$",
            "text/plain": [
              "a₁₁"
            ]
          },
          "metadata": {
            "tags": []
          }
        }
      ]
    },
    {
      "cell_type": "code",
      "metadata": {
        "colab": {
          "base_uri": "https://localhost:8080/",
          "height": 70
        },
        "id": "rGu7FzJ2VK2O",
        "outputId": "c67acb72-dd66-4891-c1c4-b702bb5df035"
      },
      "source": [
        "# 実験\r\n",
        "from sympy import *\r\n",
        "init_printing()\r\n",
        "a_seq = [-1, 3, 23, 8]\r\n",
        "n, r = symbols('n, r')\r\n",
        "a_n = Function('a')(n)\r\n",
        "terms = 4\r\n",
        "short_expr = Sum(a_n * r**n, (n, 0, terms - 1))\r\n",
        "display(short_expr)\r\n",
        "# coeffed_short_expr = short_expr.doit().subs(\r\n",
        "#     (a_n.subs(n, i), a_seq[i]) for i in range(terms)) # 8*r**3 + 23*r**2 + 3*r - 1\r\n",
        "# func_short_expr = lambdify(r, coeffed_short_expr, 'numpy')"
      ],
      "execution_count": null,
      "outputs": [
        {
          "output_type": "display_data",
          "data": {
            "image/png": "[encoded data removed]",
            "text/latex": "$\\displaystyle \\sum_{n=0}^{3} r^{n} a{\\left(n \\right)}$",
            "text/plain": [
              "  3          \n",
              " ___         \n",
              " ╲           \n",
              "  ╲    n     \n",
              "  ╱   r ⋅a(n)\n",
              " ╱           \n",
              " ‾‾‾         \n",
              "n = 0        "
            ]
          },
          "metadata": {
            "tags": []
          }
        }
      ]
    },
    {
      "cell_type": "code",
      "metadata": {
        "colab": {
          "base_uri": "https://localhost:8080/",
          "height": 39
        },
        "id": "ttIggJV-UNMy",
        "outputId": "0a2252fd-c609-4799-b02f-9ef816bbda6b"
      },
      "source": [
        "# 実験\r\n",
        "from sympy import *\r\n",
        "init_printing()\r\n",
        "a = symbols('a', shape=(3,3))\r\n",
        "display(a)"
      ],
      "execution_count": null,
      "outputs": [
        {
          "output_type": "display_data",
          "data": {
            "image/png": "[encoded data removed]",
            "text/latex": "$\\displaystyle a$",
            "text/plain": [
              "a"
            ]
          },
          "metadata": {
            "tags": []
          }
        }
      ]
    },
    {
      "cell_type": "markdown",
      "metadata": {
        "id": "bVa2IA16KE3p"
      },
      "source": [
        "### cancel"
      ]
    },
    {
      "cell_type": "code",
      "metadata": {
        "id": "DDFuxFmSKE3p",
        "colab": {
          "base_uri": "https://localhost:8080/"
        },
        "outputId": "35f4c14e-64be-462f-c940-2fdb624b0274"
      },
      "source": [
        "frac=cancel(frac)\n",
        "frac"
      ],
      "execution_count": null,
      "outputs": [
        {
          "output_type": "execute_result",
          "data": {
            "text/plain": [
              "frac"
            ]
          },
          "metadata": {
            "tags": []
          },
          "execution_count": 194
        }
      ]
    },
    {
      "cell_type": "code",
      "metadata": {
        "id": "UurOf2e6KE3s"
      },
      "source": [
        "%%script false\n",
        "l=[]\n",
        "frac = apart(frac, a0)\n",
        "frac"
      ],
      "execution_count": null,
      "outputs": []
    },
    {
      "cell_type": "code",
      "metadata": {
        "id": "Qi7fR870KE3u"
      },
      "source": [
        "%%script false\n",
        "l.append(a0)\n",
        "frac = 1/(frac - a0)\n",
        "frac"
      ],
      "execution_count": null,
      "outputs": []
    },
    {
      "cell_type": "code",
      "metadata": {
        "id": "deRQL-7EKE3w"
      },
      "source": [
        "%%script false\n",
        "frac = apart(frac, a1)\n",
        "frac"
      ],
      "execution_count": null,
      "outputs": []
    },
    {
      "cell_type": "code",
      "metadata": {
        "id": "IIZhWDglKE3x"
      },
      "source": [
        "%%script false\n",
        "l.append(a1)\n",
        "frac = 1/(frac - a1)\n",
        "frac = apart(frac, a2)\n",
        "frac"
      ],
      "execution_count": null,
      "outputs": []
    },
    {
      "cell_type": "code",
      "metadata": {
        "id": "JWALUHkdKE3z"
      },
      "source": [
        "%%script false\n",
        "l.append(a2)\n",
        "frac = 1/(frac - a2)\n",
        "frac = apart(frac, a3)\n",
        "frac"
      ],
      "execution_count": null,
      "outputs": []
    },
    {
      "cell_type": "code",
      "metadata": {
        "id": "6b6hFSavKE30"
      },
      "source": [
        "%%script false\n",
        "l.append(a3)\n",
        "frac = 1/(frac - a3)\n",
        "frac = apart(frac, a4)\n",
        "frac"
      ],
      "execution_count": null,
      "outputs": []
    },
    {
      "cell_type": "code",
      "metadata": {
        "id": "xEa7uig9KE33"
      },
      "source": [
        "%%script false\n",
        "l.append(a4)\n",
        "list_to_frac(l)"
      ],
      "execution_count": null,
      "outputs": []
    },
    {
      "cell_type": "code",
      "metadata": {
        "id": "r4LOFLMjKE34"
      },
      "source": [
        "%%script false\r\n",
        "l"
      ],
      "execution_count": null,
      "outputs": []
    },
    {
      "cell_type": "markdown",
      "metadata": {
        "id": "ea9iFqGwKE35"
      },
      "source": [
        "###  random"
      ]
    },
    {
      "cell_type": "code",
      "metadata": {
        "id": "sfv7Qm2QKE36"
      },
      "source": [
        "import random\n",
        "l = list(symbols('a0:5'))\n",
        "random.shuffle(l)\n",
        "orig_frac = frac = cancel(list_to_frac(l))\n",
        "del l"
      ],
      "execution_count": null,
      "outputs": []
    },
    {
      "cell_type": "code",
      "metadata": {
        "id": "Tppi2cXiKE37",
        "colab": {
          "base_uri": "https://localhost:8080/",
          "height": 53
        },
        "outputId": "8d6090d1-65bb-44ee-8994-ff65f9007061"
      },
      "source": [
        "frac"
      ],
      "execution_count": null,
      "outputs": [
        {
          "output_type": "execute_result",
          "data": {
            "image/png": "[encoded data removed]",
            "text/latex": "$\\displaystyle \\frac{a_{0} a_{1} a_{2} a_{3} a_{4} + a_{0} a_{1} a_{2} + a_{0} a_{1} a_{4} + a_{0} a_{3} a_{4} + a_{0} + a_{1} a_{2} a_{3} + a_{1} + a_{3}}{a_{1} a_{2} a_{3} a_{4} + a_{1} a_{2} + a_{1} a_{4} + a_{3} a_{4} + 1}$",
            "text/plain": [
              "a₀⋅a₁⋅a₂⋅a₃⋅a₄ + a₀⋅a₁⋅a₂ + a₀⋅a₁⋅a₄ + a₀⋅a₃⋅a₄ + a₀ + a₁⋅a₂⋅a₃ + a₁ + a₃\n",
              "─────────────────────────────────────────────────────────────────────────\n",
              "                 a₁⋅a₂⋅a₃⋅a₄ + a₁⋅a₂ + a₁⋅a₄ + a₃⋅a₄ + 1                 "
            ]
          },
          "metadata": {
            "tags": []
          },
          "execution_count": 209
        }
      ]
    },
    {
      "cell_type": "code",
      "metadata": {
        "id": "lS3I3hrbKE39",
        "colab": {
          "base_uri": "https://localhost:8080/",
          "height": 55
        },
        "outputId": "436c7365-f844-499c-e47d-386b0f7dbae0"
      },
      "source": [
        "l=[]\n",
        "frac = apart(frac, a1)\n",
        "frac"
      ],
      "execution_count": null,
      "outputs": [
        {
          "output_type": "execute_result",
          "data": {
            "image/png": "[encoded data removed]",
            "text/latex": "$\\displaystyle \\frac{a_{0} a_{2} a_{3} a_{4} + a_{0} a_{2} + a_{0} a_{4} + a_{2} a_{3} + 1}{a_{2} a_{3} a_{4} + a_{2} + a_{4}} - \\frac{1}{\\left(a_{2} a_{3} a_{4} + a_{2} + a_{4}\\right) \\left(a_{1} a_{2} a_{3} a_{4} + a_{1} a_{2} + a_{1} a_{4} + a_{3} a_{4} + 1\\right)}$",
            "text/plain": [
              "a₀⋅a₂⋅a₃⋅a₄ + a₀⋅a₂ + a₀⋅a₄ + a₂⋅a₃ + 1                                 1     \n",
              "─────────────────────────────────────── - ────────────────────────────────────\n",
              "           a₂⋅a₃⋅a₄ + a₂ + a₄             (a₂⋅a₃⋅a₄ + a₂ + a₄)⋅(a₁⋅a₂⋅a₃⋅a₄ + \n",
              "\n",
              "                          \n",
              "──────────────────────────\n",
              "a₁⋅a₂ + a₁⋅a₄ + a₃⋅a₄ + 1)"
            ]
          },
          "metadata": {
            "tags": []
          },
          "execution_count": 210
        }
      ]
    },
    {
      "cell_type": "code",
      "metadata": {
        "id": "TDlZI6ztKE3_",
        "colab": {
          "base_uri": "https://localhost:8080/",
          "height": 62
        },
        "outputId": "2f0d6c65-84f6-4df0-c927-12098c2e0f65"
      },
      "source": [
        "l.append(a1)\n",
        "frac = 1/(frac - a1)\n",
        "frac"
      ],
      "execution_count": null,
      "outputs": [
        {
          "output_type": "execute_result",
          "data": {
            "image/png": "[encoded data removed]",
            "text/latex": "$\\displaystyle \\frac{1}{- a_{1} + \\frac{a_{0} a_{2} a_{3} a_{4} + a_{0} a_{2} + a_{0} a_{4} + a_{2} a_{3} + 1}{a_{2} a_{3} a_{4} + a_{2} + a_{4}} - \\frac{1}{\\left(a_{2} a_{3} a_{4} + a_{2} + a_{4}\\right) \\left(a_{1} a_{2} a_{3} a_{4} + a_{1} a_{2} + a_{1} a_{4} + a_{3} a_{4} + 1\\right)}}$",
            "text/plain": [
              "                                                      1                       \n",
              "──────────────────────────────────────────────────────────────────────────────\n",
              "      a₀⋅a₂⋅a₃⋅a₄ + a₀⋅a₂ + a₀⋅a₄ + a₂⋅a₃ + 1                                 \n",
              "-a₁ + ─────────────────────────────────────── - ──────────────────────────────\n",
              "                 a₂⋅a₃⋅a₄ + a₂ + a₄             (a₂⋅a₃⋅a₄ + a₂ + a₄)⋅(a₁⋅a₂⋅a₃\n",
              "\n",
              "                                \n",
              "────────────────────────────────\n",
              "1                               \n",
              "────────────────────────────────\n",
              "⋅a₄ + a₁⋅a₂ + a₁⋅a₄ + a₃⋅a₄ + 1)"
            ]
          },
          "metadata": {
            "tags": []
          },
          "execution_count": 211
        }
      ]
    },
    {
      "cell_type": "code",
      "metadata": {
        "id": "1JCsnSR7KE4A",
        "colab": {
          "base_uri": "https://localhost:8080/",
          "height": 110
        },
        "outputId": "dc0e8abf-0630-4cc4-aff1-2dc70d31e798"
      },
      "source": [
        "frac = apart(frac, a3)\n",
        "frac"
      ],
      "execution_count": null,
      "outputs": [
        {
          "output_type": "execute_result",
          "data": {
            "image/png": "[encoded data removed]",
            "text/latex": "$\\displaystyle \\frac{a_{4}}{a_{0} a_{4} - a_{1} a_{4} + 1} + \\frac{a_{1} a_{2} + 1}{\\left(a_{0} a_{4} - a_{1} a_{4} + 1\\right) \\left(a_{0} a_{1} a_{2} a_{3} a_{4} + a_{0} a_{1} a_{2} + a_{0} a_{1} a_{4} + a_{0} a_{3} a_{4} + a_{0} - a_{1}^{2} a_{2} a_{3} a_{4} - a_{1}^{2} a_{2} - a_{1}^{2} a_{4} + a_{1} a_{2} a_{3} - a_{1} a_{3} a_{4} + a_{3}\\right)}$",
            "text/plain": [
              "        a₄                                                                    \n",
              "───────────────── + ──────────────────────────────────────────────────────────\n",
              "a₀⋅a₄ - a₁⋅a₄ + 1                       ⎛                                     \n",
              "                    (a₀⋅a₄ - a₁⋅a₄ + 1)⋅⎝a₀⋅a₁⋅a₂⋅a₃⋅a₄ + a₀⋅a₁⋅a₂ + a₀⋅a₁⋅a₄ \n",
              "\n",
              "    a₁⋅a₂ + 1                                                               \n",
              "────────────────────────────────────────────────────────────────────────────\n",
              "                    2              2        2                              ⎞\n",
              "+ a₀⋅a₃⋅a₄ + a₀ - a₁ ⋅a₂⋅a₃⋅a₄ - a₁ ⋅a₂ - a₁ ⋅a₄ + a₁⋅a₂⋅a₃ - a₁⋅a₃⋅a₄ + a₃⎠"
            ]
          },
          "metadata": {
            "tags": []
          },
          "execution_count": 212
        }
      ]
    },
    {
      "cell_type": "code",
      "metadata": {
        "id": "lw5qrH9kKE4C",
        "colab": {
          "base_uri": "https://localhost:8080/",
          "height": 86
        },
        "outputId": "1f52aba4-85a9-4857-9e07-c80bcf912491"
      },
      "source": [
        "l.append(a3)\n",
        "frac = 1/(frac - a3)\n",
        "frac"
      ],
      "execution_count": null,
      "outputs": [
        {
          "output_type": "execute_result",
          "data": {
            "image/png": "[encoded data removed]",
            "text/latex": "$\\displaystyle \\frac{1}{- a_{3} + \\frac{a_{4}}{a_{0} a_{4} - a_{1} a_{4} + 1} + \\frac{a_{1} a_{2} + 1}{\\left(a_{0} a_{4} - a_{1} a_{4} + 1\\right) \\left(a_{0} a_{1} a_{2} a_{3} a_{4} + a_{0} a_{1} a_{2} + a_{0} a_{1} a_{4} + a_{0} a_{3} a_{4} + a_{0} - a_{1}^{2} a_{2} a_{3} a_{4} - a_{1}^{2} a_{2} - a_{1}^{2} a_{4} + a_{1} a_{2} a_{3} - a_{1} a_{3} a_{4} + a_{3}\\right)}}$",
            "text/plain": [
              "                                                                              \n",
              "──────────────────────────────────────────────────────────────────────────────\n",
              "              a₄                                                              \n",
              "-a₃ + ───────────────── + ────────────────────────────────────────────────────\n",
              "      a₀⋅a₄ - a₁⋅a₄ + 1                       ⎛                               \n",
              "                          (a₀⋅a₄ - a₁⋅a₄ + 1)⋅⎝a₀⋅a₁⋅a₂⋅a₃⋅a₄ + a₀⋅a₁⋅a₂ + a₀⋅\n",
              "\n",
              " 1                                                                            \n",
              "──────────────────────────────────────────────────────────────────────────────\n",
              "          a₁⋅a₂ + 1                                                           \n",
              "──────────────────────────────────────────────────────────────────────────────\n",
              "                          2              2        2                           \n",
              "a₁⋅a₄ + a₀⋅a₃⋅a₄ + a₀ - a₁ ⋅a₂⋅a₃⋅a₄ - a₁ ⋅a₂ - a₁ ⋅a₄ + a₁⋅a₂⋅a₃ - a₁⋅a₃⋅a₄ +\n",
              "\n",
              "    \n",
              "────\n",
              "    \n",
              "────\n",
              "   ⎞\n",
              " a₃⎠"
            ]
          },
          "metadata": {
            "tags": []
          },
          "execution_count": 213
        }
      ]
    },
    {
      "cell_type": "code",
      "metadata": {
        "id": "5tqM03WRKE4E",
        "colab": {
          "base_uri": "https://localhost:8080/",
          "height": 114
        },
        "outputId": "1a1898f8-ede8-44c5-f291-3807eca92518"
      },
      "source": [
        "frac = apart(frac, a0)\n",
        "frac"
      ],
      "execution_count": null,
      "outputs": [
        {
          "output_type": "execute_result",
          "data": {
            "image/png": "[encoded data removed]",
            "text/latex": "$\\displaystyle - \\frac{a_{1} a_{2} a_{3} a_{4} + a_{1} a_{2} + a_{1} a_{4} + a_{3} a_{4} + 1}{a_{3} \\left(a_{0} a_{1} a_{2} a_{3}^{2} a_{4} + a_{0} a_{1} a_{2} a_{3} + a_{0} a_{1} a_{3} a_{4} + a_{0} a_{3}^{2} a_{4} + a_{0} a_{3} - a_{1}^{2} a_{2} a_{3}^{2} a_{4} - a_{1}^{2} a_{2} a_{3} - a_{1}^{2} a_{3} a_{4} + a_{1} a_{2} a_{3}^{2} - a_{1} a_{2} a_{3} a_{4} - a_{1} a_{2} - a_{1} a_{3}^{2} a_{4} - a_{1} a_{4} + a_{3}^{2} - a_{3} a_{4} - 1\\right)} - \\frac{1}{a_{3}}$",
            "text/plain": [
              "                                                                        a₁⋅a₂⋅\n",
              "- ────────────────────────────────────────────────────────────────────────────\n",
              "     ⎛           2                                       2                2   \n",
              "  a₃⋅⎝a₀⋅a₁⋅a₂⋅a₃ ⋅a₄ + a₀⋅a₁⋅a₂⋅a₃ + a₀⋅a₁⋅a₃⋅a₄ + a₀⋅a₃ ⋅a₄ + a₀⋅a₃ - a₁ ⋅a₂\n",
              "\n",
              "a₃⋅a₄ + a₁⋅a₂ + a₁⋅a₄ + a₃⋅a₄ + 1                                             \n",
              "──────────────────────────────────────────────────────────────────────────────\n",
              "   2        2           2                 2                              2    \n",
              "⋅a₃ ⋅a₄ - a₁ ⋅a₂⋅a₃ - a₁ ⋅a₃⋅a₄ + a₁⋅a₂⋅a₃  - a₁⋅a₂⋅a₃⋅a₄ - a₁⋅a₂ - a₁⋅a₃ ⋅a₄ \n",
              "\n",
              "                             1 \n",
              "────────────────────────── - ──\n",
              "            2            ⎞   a₃\n",
              "- a₁⋅a₄ + a₃  - a₃⋅a₄ - 1⎠     "
            ]
          },
          "metadata": {
            "tags": []
          },
          "execution_count": 214
        }
      ]
    },
    {
      "cell_type": "code",
      "metadata": {
        "id": "04zCziP-KE4G",
        "colab": {
          "base_uri": "https://localhost:8080/",
          "height": 86
        },
        "outputId": "ae88f6e5-fe17-4fa8-abd4-d7a79c872060"
      },
      "source": [
        "l.append(a0)\n",
        "frac = 1/(frac - a0)\n",
        "frac"
      ],
      "execution_count": null,
      "outputs": [
        {
          "output_type": "execute_result",
          "data": {
            "image/png": "[encoded data removed]",
            "text/latex": "$\\displaystyle \\frac{1}{- a_{0} - \\frac{a_{1} a_{2} a_{3} a_{4} + a_{1} a_{2} + a_{1} a_{4} + a_{3} a_{4} + 1}{a_{3} \\left(a_{0} a_{1} a_{2} a_{3}^{2} a_{4} + a_{0} a_{1} a_{2} a_{3} + a_{0} a_{1} a_{3} a_{4} + a_{0} a_{3}^{2} a_{4} + a_{0} a_{3} - a_{1}^{2} a_{2} a_{3}^{2} a_{4} - a_{1}^{2} a_{2} a_{3} - a_{1}^{2} a_{3} a_{4} + a_{1} a_{2} a_{3}^{2} - a_{1} a_{2} a_{3} a_{4} - a_{1} a_{2} - a_{1} a_{3}^{2} a_{4} - a_{1} a_{4} + a_{3}^{2} - a_{3} a_{4} - 1\\right)} - \\frac{1}{a_{3}}}$",
            "text/plain": [
              "                                                                              \n",
              "──────────────────────────────────────────────────────────────────────────────\n",
              "                                                                            a₁\n",
              "-a₀ - ────────────────────────────────────────────────────────────────────────\n",
              "         ⎛           2                                       2                \n",
              "      a₃⋅⎝a₀⋅a₁⋅a₂⋅a₃ ⋅a₄ + a₀⋅a₁⋅a₂⋅a₃ + a₀⋅a₁⋅a₃⋅a₄ + a₀⋅a₃ ⋅a₄ + a₀⋅a₃ - a₁\n",
              "\n",
              "                 1                                                            \n",
              "──────────────────────────────────────────────────────────────────────────────\n",
              "⋅a₂⋅a₃⋅a₄ + a₁⋅a₂ + a₁⋅a₄ + a₃⋅a₄ + 1                                         \n",
              "──────────────────────────────────────────────────────────────────────────────\n",
              "2      2        2           2                 2                              2\n",
              " ⋅a₂⋅a₃ ⋅a₄ - a₁ ⋅a₂⋅a₃ - a₁ ⋅a₃⋅a₄ + a₁⋅a₂⋅a₃  - a₁⋅a₂⋅a₃⋅a₄ - a₁⋅a₂ - a₁⋅a₃ \n",
              "\n",
              "                                   \n",
              "───────────────────────────────────\n",
              "                                 1 \n",
              "────────────────────────────── - ──\n",
              "                2            ⎞   a₃\n",
              "⋅a₄ - a₁⋅a₄ + a₃  - a₃⋅a₄ - 1⎠     "
            ]
          },
          "metadata": {
            "tags": []
          },
          "execution_count": 215
        }
      ]
    },
    {
      "cell_type": "code",
      "metadata": {
        "id": "CxGrriijKE4L",
        "colab": {
          "base_uri": "https://localhost:8080/",
          "height": 115
        },
        "outputId": "8ee87a5f-34a8-4740-810c-07d6ad732abf"
      },
      "source": [
        "frac = apart(frac, a2)\n",
        "frac"
      ],
      "execution_count": null,
      "outputs": [
        {
          "output_type": "execute_result",
          "data": {
            "image/png": "[encoded data removed]",
            "text/latex": "$\\displaystyle - \\frac{a_{1}}{\\left(a_{0}^{2} a_{3}^{2} a_{4} + a_{0}^{2} a_{3} - a_{0} a_{1} a_{3}^{2} a_{4} - a_{0} a_{1} a_{3} + a_{0} a_{3}^{2} - a_{1} a_{3} a_{4} - a_{1} + a_{3}\\right) \\left(a_{0}^{2} a_{1} a_{2} a_{3}^{2} a_{4} + a_{0}^{2} a_{1} a_{2} a_{3} + a_{0}^{2} a_{1} a_{3} a_{4} + a_{0}^{2} a_{3}^{2} a_{4} + a_{0}^{2} a_{3} - a_{0} a_{1}^{2} a_{2} a_{3}^{2} a_{4} - a_{0} a_{1}^{2} a_{2} a_{3} - a_{0} a_{1}^{2} a_{3} a_{4} + a_{0} a_{1} a_{2} a_{3}^{2} - a_{0} a_{1} a_{3}^{2} a_{4} + a_{0} a_{3}^{2} - a_{1}^{2} a_{2} a_{3} a_{4} - a_{1}^{2} a_{2} - a_{1}^{2} a_{4} + a_{1} a_{2} a_{3} - a_{1} a_{3} a_{4} + a_{3}\\right)} - \\frac{a_{0} a_{3}^{2} a_{4} + a_{0} a_{3} - a_{1} a_{3}^{2} a_{4} - a_{1} a_{3} + a_{3}^{2} - a_{3} a_{4} - 1}{a_{0}^{2} a_{3}^{2} a_{4} + a_{0}^{2} a_{3} - a_{0} a_{1} a_{3}^{2} a_{4} - a_{0} a_{1} a_{3} + a_{0} a_{3}^{2} - a_{1} a_{3} a_{4} - a_{1} + a_{3}}$",
            "text/plain": [
              "                                                                              \n",
              "                                                                              \n",
              "- ────────────────────────────────────────────────────────────────────────────\n",
              "  ⎛  2   2        2              2                      2                     \n",
              "  ⎝a₀ ⋅a₃ ⋅a₄ + a₀ ⋅a₃ - a₀⋅a₁⋅a₃ ⋅a₄ - a₀⋅a₁⋅a₃ + a₀⋅a₃  - a₁⋅a₃⋅a₄ - a₁ + a₃\n",
              "\n",
              "                                                                              \n",
              "                                                                       a₁     \n",
              "──────────────────────────────────────────────────────────────────────────────\n",
              "⎞ ⎛  2         2        2              2              2   2        2          \n",
              "⎠⋅⎝a₀ ⋅a₁⋅a₂⋅a₃ ⋅a₄ + a₀ ⋅a₁⋅a₂⋅a₃ + a₀ ⋅a₁⋅a₃⋅a₄ + a₀ ⋅a₃ ⋅a₄ + a₀ ⋅a₃ - a₀⋅a\n",
              "\n",
              "                                                                              \n",
              "                                                                              \n",
              "──────────────────────────────────────────────────────────────────────────────\n",
              " 2      2           2              2                    2           2         \n",
              "₁ ⋅a₂⋅a₃ ⋅a₄ - a₀⋅a₁ ⋅a₂⋅a₃ - a₀⋅a₁ ⋅a₃⋅a₄ + a₀⋅a₁⋅a₂⋅a₃  - a₀⋅a₁⋅a₃ ⋅a₄ + a₀⋅\n",
              "\n",
              "                                                                              \n",
              "                                                                             a\n",
              "──────────────────────────────────────────────────────────────── - ───────────\n",
              "  2     2              2        2                              ⎞     2   2    \n",
              "a₃  - a₁ ⋅a₂⋅a₃⋅a₄ - a₁ ⋅a₂ - a₁ ⋅a₄ + a₁⋅a₂⋅a₃ - a₁⋅a₃⋅a₄ + a₃⎠   a₀ ⋅a₃ ⋅a₄ \n",
              "\n",
              "    2                   2                2                      \n",
              "₀⋅a₃ ⋅a₄ + a₀⋅a₃ - a₁⋅a₃ ⋅a₄ - a₁⋅a₃ + a₃  - a₃⋅a₄ - 1          \n",
              "────────────────────────────────────────────────────────────────\n",
              "    2              2                      2                     \n",
              "+ a₀ ⋅a₃ - a₀⋅a₁⋅a₃ ⋅a₄ - a₀⋅a₁⋅a₃ + a₀⋅a₃  - a₁⋅a₃⋅a₄ - a₁ + a₃"
            ]
          },
          "metadata": {
            "tags": []
          },
          "execution_count": 216
        }
      ]
    },
    {
      "cell_type": "code",
      "metadata": {
        "id": "GFQZKtNDKE4N",
        "colab": {
          "base_uri": "https://localhost:8080/",
          "height": 90
        },
        "outputId": "fece52b6-001d-4163-8570-d307303d4d23"
      },
      "source": [
        "l.append(a2)\n",
        "frac = 1/(frac - a2)\n",
        "frac"
      ],
      "execution_count": null,
      "outputs": [
        {
          "output_type": "execute_result",
          "data": {
            "image/png": "[encoded data removed]",
            "text/latex": "$\\displaystyle \\frac{1}{- \\frac{a_{1}}{\\left(a_{0}^{2} a_{3}^{2} a_{4} + a_{0}^{2} a_{3} - a_{0} a_{1} a_{3}^{2} a_{4} - a_{0} a_{1} a_{3} + a_{0} a_{3}^{2} - a_{1} a_{3} a_{4} - a_{1} + a_{3}\\right) \\left(a_{0}^{2} a_{1} a_{2} a_{3}^{2} a_{4} + a_{0}^{2} a_{1} a_{2} a_{3} + a_{0}^{2} a_{1} a_{3} a_{4} + a_{0}^{2} a_{3}^{2} a_{4} + a_{0}^{2} a_{3} - a_{0} a_{1}^{2} a_{2} a_{3}^{2} a_{4} - a_{0} a_{1}^{2} a_{2} a_{3} - a_{0} a_{1}^{2} a_{3} a_{4} + a_{0} a_{1} a_{2} a_{3}^{2} - a_{0} a_{1} a_{3}^{2} a_{4} + a_{0} a_{3}^{2} - a_{1}^{2} a_{2} a_{3} a_{4} - a_{1}^{2} a_{2} - a_{1}^{2} a_{4} + a_{1} a_{2} a_{3} - a_{1} a_{3} a_{4} + a_{3}\\right)} - a_{2} - \\frac{a_{0} a_{3}^{2} a_{4} + a_{0} a_{3} - a_{1} a_{3}^{2} a_{4} - a_{1} a_{3} + a_{3}^{2} - a_{3} a_{4} - 1}{a_{0}^{2} a_{3}^{2} a_{4} + a_{0}^{2} a_{3} - a_{0} a_{1} a_{3}^{2} a_{4} - a_{0} a_{1} a_{3} + a_{0} a_{3}^{2} - a_{1} a_{3} a_{4} - a_{1} + a_{3}}}$",
            "text/plain": [
              "                                                                              \n",
              "──────────────────────────────────────────────────────────────────────────────\n",
              "                                                                              \n",
              "                                                                              \n",
              "- ────────────────────────────────────────────────────────────────────────────\n",
              "  ⎛  2   2        2              2                      2                     \n",
              "  ⎝a₀ ⋅a₃ ⋅a₄ + a₀ ⋅a₃ - a₀⋅a₁⋅a₃ ⋅a₄ - a₀⋅a₁⋅a₃ + a₀⋅a₃  - a₁⋅a₃⋅a₄ - a₁ + a₃\n",
              "\n",
              "                                                                              \n",
              "──────────────────────────────────────────────────────────────────────────────\n",
              "                                                                              \n",
              "                                                                       a₁     \n",
              "──────────────────────────────────────────────────────────────────────────────\n",
              "⎞ ⎛  2         2        2              2              2   2        2          \n",
              "⎠⋅⎝a₀ ⋅a₁⋅a₂⋅a₃ ⋅a₄ + a₀ ⋅a₁⋅a₂⋅a₃ + a₀ ⋅a₁⋅a₃⋅a₄ + a₀ ⋅a₃ ⋅a₄ + a₀ ⋅a₃ - a₀⋅a\n",
              "\n",
              "                                  1                                           \n",
              "──────────────────────────────────────────────────────────────────────────────\n",
              "                                                                              \n",
              "                                                                              \n",
              "──────────────────────────────────────────────────────────────────────────────\n",
              " 2      2           2              2                    2           2         \n",
              "₁ ⋅a₂⋅a₃ ⋅a₄ - a₀⋅a₁ ⋅a₂⋅a₃ - a₀⋅a₁ ⋅a₃⋅a₄ + a₀⋅a₁⋅a₂⋅a₃  - a₀⋅a₁⋅a₃ ⋅a₄ + a₀⋅\n",
              "\n",
              "                                                                              \n",
              "──────────────────────────────────────────────────────────────────────────────\n",
              "                                                                              \n",
              "                                                                              \n",
              "──────────────────────────────────────────────────────────────── - a₂ - ──────\n",
              "  2     2              2        2                              ⎞          2   \n",
              "a₃  - a₁ ⋅a₂⋅a₃⋅a₄ - a₁ ⋅a₂ - a₁ ⋅a₄ + a₁⋅a₂⋅a₃ - a₁⋅a₃⋅a₄ + a₃⎠        a₀ ⋅a₃\n",
              "\n",
              "                                                                     \n",
              "─────────────────────────────────────────────────────────────────────\n",
              "         2                   2                2                      \n",
              "    a₀⋅a₃ ⋅a₄ + a₀⋅a₃ - a₁⋅a₃ ⋅a₄ - a₁⋅a₃ + a₃  - a₃⋅a₄ - 1          \n",
              "─────────────────────────────────────────────────────────────────────\n",
              "2        2              2                      2                     \n",
              " ⋅a₄ + a₀ ⋅a₃ - a₀⋅a₁⋅a₃ ⋅a₄ - a₀⋅a₁⋅a₃ + a₀⋅a₃  - a₁⋅a₃⋅a₄ - a₁ + a₃"
            ]
          },
          "metadata": {
            "tags": []
          },
          "execution_count": 217
        }
      ]
    },
    {
      "cell_type": "code",
      "metadata": {
        "id": "8pVvMxbNKE4P",
        "colab": {
          "base_uri": "https://localhost:8080/",
          "height": 116
        },
        "outputId": "d3efd64b-f9d7-4059-bfaa-91a1f14f4a02"
      },
      "source": [
        "frac = apart(frac, a4)\n",
        "frac"
      ],
      "execution_count": null,
      "outputs": [
        {
          "output_type": "execute_result",
          "data": {
            "image/png": "[encoded data removed]",
            "text/latex": "$\\displaystyle - \\frac{a_{0}^{2} a_{3} - a_{0} a_{1} a_{3} - a_{1}}{a_{0}^{2} a_{2} a_{3} - a_{0} a_{1} a_{2} a_{3} + a_{0} a_{3} - a_{1} a_{2} - a_{1} a_{3} - 1} + \\frac{a_{1} a_{2} a_{3} + a_{1} + a_{3}}{\\left(a_{0}^{2} a_{2} a_{3} - a_{0} a_{1} a_{2} a_{3} + a_{0} a_{3} - a_{1} a_{2} - a_{1} a_{3} - 1\\right) \\left(a_{0}^{2} a_{1} a_{2}^{2} a_{3}^{2} a_{4} + a_{0}^{2} a_{1} a_{2}^{2} a_{3} + a_{0}^{2} a_{1} a_{2} a_{3} a_{4} + a_{0}^{2} a_{2} a_{3}^{2} a_{4} + a_{0}^{2} a_{2} a_{3} - a_{0} a_{1}^{2} a_{2}^{2} a_{3}^{2} a_{4} - a_{0} a_{1}^{2} a_{2}^{2} a_{3} - a_{0} a_{1}^{2} a_{2} a_{3} a_{4} + a_{0} a_{1} a_{2}^{2} a_{3}^{2} + a_{0} a_{1} a_{2} a_{3} + a_{0} a_{1} a_{3} a_{4} + a_{0} a_{2} a_{3}^{2} + a_{0} a_{3}^{2} a_{4} + a_{0} a_{3} - a_{1}^{2} a_{2}^{2} a_{3} a_{4} - a_{1}^{2} a_{2}^{2} - a_{1}^{2} a_{2} a_{3}^{2} a_{4} - a_{1}^{2} a_{2} a_{3} - a_{1}^{2} a_{2} a_{4} - a_{1}^{2} a_{3} a_{4} + a_{1} a_{2}^{2} a_{3} + a_{1} a_{2} a_{3}^{2} - 2 a_{1} a_{2} a_{3} a_{4} - a_{1} a_{2} - a_{1} a_{3}^{2} a_{4} - a_{1} a_{4} + a_{2} a_{3} + a_{3}^{2} - a_{3} a_{4} - 1\\right)}$",
            "text/plain": [
              "                   2                                                          \n",
              "                 a₀ ⋅a₃ - a₀⋅a₁⋅a₃ - a₁                                       \n",
              "- ─────────────────────────────────────────────────── + ──────────────────────\n",
              "    2                                                   ⎛  2                  \n",
              "  a₀ ⋅a₂⋅a₃ - a₀⋅a₁⋅a₂⋅a₃ + a₀⋅a₃ - a₁⋅a₂ - a₁⋅a₃ - 1   ⎝a₀ ⋅a₂⋅a₃ - a₀⋅a₁⋅a₂⋅\n",
              "\n",
              "                                                                              \n",
              "                                                                              \n",
              "──────────────────────────────────────────────────────────────────────────────\n",
              "                              ⎞ ⎛  2      2   2        2      2        2      \n",
              "a₃ + a₀⋅a₃ - a₁⋅a₂ - a₁⋅a₃ - 1⎠⋅⎝a₀ ⋅a₁⋅a₂ ⋅a₃ ⋅a₄ + a₀ ⋅a₁⋅a₂ ⋅a₃ + a₀ ⋅a₁⋅a₂\n",
              "\n",
              "                                                                              \n",
              "                                                                              \n",
              "──────────────────────────────────────────────────────────────────────────────\n",
              "           2      2        2              2   2   2           2   2           \n",
              "⋅a₃⋅a₄ + a₀ ⋅a₂⋅a₃ ⋅a₄ + a₀ ⋅a₂⋅a₃ - a₀⋅a₁ ⋅a₂ ⋅a₃ ⋅a₄ - a₀⋅a₁ ⋅a₂ ⋅a₃ - a₀⋅a₁\n",
              "\n",
              "                                                                              \n",
              "                                a₁⋅a₂⋅a₃ + a₁ + a₃                            \n",
              "──────────────────────────────────────────────────────────────────────────────\n",
              "2                    2   2                                       2        2   \n",
              " ⋅a₂⋅a₃⋅a₄ + a₀⋅a₁⋅a₂ ⋅a₃  + a₀⋅a₁⋅a₂⋅a₃ + a₀⋅a₁⋅a₃⋅a₄ + a₀⋅a₂⋅a₃  + a₀⋅a₃ ⋅a₄\n",
              "\n",
              "                                                                              \n",
              "                                                                              \n",
              "──────────────────────────────────────────────────────────────────────────────\n",
              "             2   2           2   2     2      2        2           2          \n",
              " + a₀⋅a₃ - a₁ ⋅a₂ ⋅a₃⋅a₄ - a₁ ⋅a₂  - a₁ ⋅a₂⋅a₃ ⋅a₄ - a₁ ⋅a₂⋅a₃ - a₁ ⋅a₂⋅a₄ - a\n",
              "\n",
              "                                                                              \n",
              "                                                                              \n",
              "──────────────────────────────────────────────────────────────────────────────\n",
              " 2              2              2                                2             \n",
              "₁ ⋅a₃⋅a₄ + a₁⋅a₂ ⋅a₃ + a₁⋅a₂⋅a₃  - 2⋅a₁⋅a₂⋅a₃⋅a₄ - a₁⋅a₂ - a₁⋅a₃ ⋅a₄ - a₁⋅a₄ +\n",
              "\n",
              "                         \n",
              "                         \n",
              "─────────────────────────\n",
              "           2            ⎞\n",
              " a₂⋅a₃ + a₃  - a₃⋅a₄ - 1⎠"
            ]
          },
          "metadata": {
            "tags": []
          },
          "execution_count": 218
        }
      ]
    },
    {
      "cell_type": "code",
      "metadata": {
        "id": "7YD4ciz6KE4R",
        "colab": {
          "base_uri": "https://localhost:8080/",
          "height": 73
        },
        "outputId": "b7dd3168-6445-475f-c4ff-623fb8391493"
      },
      "source": [
        "l.append(a4)\n",
        "list_to_frac(l)"
      ],
      "execution_count": null,
      "outputs": [
        {
          "output_type": "execute_result",
          "data": {
            "image/png": "[encoded data removed]",
            "text/latex": "$\\displaystyle a_{1} + \\frac{1}{a_{3} + \\frac{1}{a_{0} + \\frac{1}{a_{2} + \\frac{1}{a_{4}}}}}$",
            "text/plain": [
              "             1        \n",
              "a₁ + ─────────────────\n",
              "               1      \n",
              "     a₃ + ────────────\n",
              "                  1   \n",
              "          a₀ + ───────\n",
              "                    1 \n",
              "               a₂ + ──\n",
              "                    a₄"
            ]
          },
          "metadata": {
            "tags": []
          },
          "execution_count": 219
        }
      ]
    },
    {
      "cell_type": "code",
      "metadata": {
        "id": "bOXxefPLKE4T",
        "colab": {
          "base_uri": "https://localhost:8080/",
          "height": 39
        },
        "outputId": "35ae7e2a-726b-4a6b-ed7d-638930553cef"
      },
      "source": [
        "l"
      ],
      "execution_count": null,
      "outputs": [
        {
          "output_type": "execute_result",
          "data": {
            "image/png": "[encoded data removed]",
            "text/latex": "$\\displaystyle \\left[ a_{1}, \\  a_{3}, \\  a_{0}, \\  a_{2}, \\  a_{4}\\right]$",
            "text/plain": [
              "[a₁, a₃, a₀, a₂, a₄]"
            ]
          },
          "metadata": {
            "tags": []
          },
          "execution_count": 220
        }
      ]
    },
    {
      "cell_type": "code",
      "metadata": {
        "id": "6VGLvicYKE4U",
        "colab": {
          "base_uri": "https://localhost:8080/",
          "height": 53
        },
        "outputId": "01b5bcfd-a36d-4211-b265-b41ed293721f"
      },
      "source": [
        "orig_frac"
      ],
      "execution_count": null,
      "outputs": [
        {
          "output_type": "execute_result",
          "data": {
            "image/png": "[encoded data removed]",
            "text/latex": "$\\displaystyle \\frac{a_{0} a_{1} a_{2} a_{3} a_{4} + a_{0} a_{1} a_{2} + a_{0} a_{1} a_{4} + a_{0} a_{3} a_{4} + a_{0} + a_{1} a_{2} a_{3} + a_{1} + a_{3}}{a_{1} a_{2} a_{3} a_{4} + a_{1} a_{2} + a_{1} a_{4} + a_{3} a_{4} + 1}$",
            "text/plain": [
              "a₀⋅a₁⋅a₂⋅a₃⋅a₄ + a₀⋅a₁⋅a₂ + a₀⋅a₁⋅a₄ + a₀⋅a₃⋅a₄ + a₀ + a₁⋅a₂⋅a₃ + a₁ + a₃\n",
              "─────────────────────────────────────────────────────────────────────────\n",
              "                 a₁⋅a₂⋅a₃⋅a₄ + a₁⋅a₂ + a₁⋅a₄ + a₃⋅a₄ + 1                 "
            ]
          },
          "metadata": {
            "tags": []
          },
          "execution_count": 221
        }
      ]
    },
    {
      "cell_type": "code",
      "metadata": {
        "id": "xIOvdE6mKE4W",
        "colab": {
          "base_uri": "https://localhost:8080/",
          "height": 53
        },
        "outputId": "8002c2b1-d6ec-4191-a746-63b94f984d5d"
      },
      "source": [
        "cancel(list_to_frac(l))"
      ],
      "execution_count": null,
      "outputs": [
        {
          "output_type": "execute_result",
          "data": {
            "image/png": "[encoded data removed]",
            "text/latex": "$\\displaystyle \\frac{a_{0} a_{1} a_{2} a_{3} a_{4} + a_{0} a_{1} a_{3} + a_{0} a_{2} a_{4} + a_{0} + a_{1} a_{2} a_{4} + a_{1} a_{3} a_{4} + a_{1} + a_{4}}{a_{0} a_{2} a_{3} a_{4} + a_{0} a_{3} + a_{2} a_{4} + a_{3} a_{4} + 1}$",
            "text/plain": [
              "a₀⋅a₁⋅a₂⋅a₃⋅a₄ + a₀⋅a₁⋅a₃ + a₀⋅a₂⋅a₄ + a₀ + a₁⋅a₂⋅a₄ + a₁⋅a₃⋅a₄ + a₁ + a₄\n",
              "─────────────────────────────────────────────────────────────────────────\n",
              "                 a₀⋅a₂⋅a₃⋅a₄ + a₀⋅a₃ + a₂⋅a₄ + a₃⋅a₄ + 1                 "
            ]
          },
          "metadata": {
            "tags": []
          },
          "execution_count": 222
        }
      ]
    }
  ]
}