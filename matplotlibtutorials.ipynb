{
  "nbformat": 4,
  "nbformat_minor": 0,
  "metadata": {
    "colab": {
      "name": "matplotlibtutorials.ipynb",
      "provenance": [],
      "toc_visible": true,
      "authorship_tag": "ABX9TyNCoLs1XMr4BVIfs6u2M/GW",
      "include_colab_link": true
    },
    "kernelspec": {
      "name": "python3",
      "display_name": "Python 3"
    }
  },
  "cells": [
    {
      "cell_type": "markdown",
      "metadata": {
        "id": "view-in-github",
        "colab_type": "text"
      },
      "source": [
        "<a href=\"https://colab.research.google.com/github/kalz2q/mycolabnotebooks/blob/master/matplotlibtutorials.ipynb\" target=\"_parent\"><img src=\"https://colab.research.google.com/assets/colab-badge.svg\" alt=\"Open In Colab\"/></a>"
      ]
    },
    {
      "cell_type": "markdown",
      "metadata": {
        "id": "dKiUJxWzx1To"
      },
      "source": [
        "# スタイルシート\n",
        "\n",
        "Jupyter の matplotlib で スタイルシートがあるとか。  \n",
        "機能しているかどうかわからない。\n"
      ]
    },
    {
      "cell_type": "code",
      "metadata": {
        "id": "2RKngh4Rx1Tq"
      },
      "source": [
        "import numpy as np\n",
        "import matplotlib.pyplot as plt\n",
        "import matplotlib as mpl\n",
        "from cycler import cycler\n",
        "plt.style.use('ggplot')\n",
        "data = np.random.randn(50)"
      ],
      "execution_count": 5,
      "outputs": []
    },
    {
      "cell_type": "code",
      "metadata": {
        "id": "9IOC3FvPydFD",
        "outputId": "4abfe881-3fac-4bb0-d979-ca03856860d6",
        "colab": {
          "base_uri": "https://localhost:8080/",
          "height": 173
        }
      },
      "source": [
        "print(data)"
      ],
      "execution_count": 6,
      "outputs": [
        {
          "output_type": "stream",
          "text": [
            "[-0.38635968 -0.84324452 -0.57112566  0.45087841 -2.3077155   0.17463284\n",
            "  0.43363163 -0.67534173  0.31403108  2.20791511  2.67172775  0.06536771\n",
            " -0.81625822 -0.14039304 -0.26475552  0.00430059 -0.13451063 -0.25696335\n",
            " -2.29657897 -0.10735377  0.91687986 -2.28586374  0.50419355  1.12980693\n",
            "  0.19060285  0.94831691  0.49635772 -0.10341698  0.56763681  1.31771097\n",
            "  0.53466392 -0.03821143 -0.46535898 -2.00164562  1.87780272 -0.14975254\n",
            "  1.49494873 -0.82965143  1.18429398 -1.78470255  0.26385902 -1.04014123\n",
            "  1.17986949 -0.09999528 -0.80014124 -0.96344309 -1.18274393 -1.44487324\n",
            " -1.23480796 -0.85353649]\n"
          ],
          "name": "stdout"
        }
      ]
    },
    {
      "cell_type": "code",
      "metadata": {
        "id": "e1SLYsF50kgh",
        "outputId": "289e6e24-bb67-4bff-ae72-6998c2e70efa",
        "colab": {
          "base_uri": "https://localhost:8080/",
          "height": 265
        }
      },
      "source": [
        "plt.plot(data)\n",
        "plt.show()"
      ],
      "execution_count": 7,
      "outputs": [
        {
          "output_type": "display_data",
          "data": {
            "image/png": "[encoded data removed]",
            "text/plain": [
              "<Figure size 432x288 with 1 Axes>"
            ]
          },
          "metadata": {
            "tags": []
          }
        }
      ]
    },
    {
      "cell_type": "markdown",
      "metadata": {
        "id": "l5vGaMk_x1Tv"
      },
      "source": [
        "To list all available styles, use:\n",
        "\n"
      ]
    },
    {
      "cell_type": "code",
      "metadata": {
        "id": "JTFsu2bdx1Tw",
        "outputId": "f911148e-8b8c-4569-85ab-af5484122cd9",
        "colab": {
          "base_uri": "https://localhost:8080/",
          "height": 55
        }
      },
      "source": [
        "print(plt.style.available)"
      ],
      "execution_count": 2,
      "outputs": [
        {
          "output_type": "stream",
          "text": [
            "['Solarize_Light2', '_classic_test_patch', 'bmh', 'classic', 'dark_background', 'fast', 'fivethirtyeight', 'ggplot', 'grayscale', 'seaborn', 'seaborn-bright', 'seaborn-colorblind', 'seaborn-dark', 'seaborn-dark-palette', 'seaborn-darkgrid', 'seaborn-deep', 'seaborn-muted', 'seaborn-notebook', 'seaborn-paper', 'seaborn-pastel', 'seaborn-poster', 'seaborn-talk', 'seaborn-ticks', 'seaborn-white', 'seaborn-whitegrid', 'tableau-colorblind10']\n"
          ],
          "name": "stdout"
        }
      ]
    },
    {
      "cell_type": "code",
      "metadata": {
        "id": "I3xE2Sb6x1T2"
      },
      "source": [
        "with plt.style.context('dark_background'):\n",
        "    plt.plot(np.sin(np.linspace(0, 2 * np.pi)), 'r-o')\n",
        "plt.show()"
      ],
      "execution_count": 11,
      "outputs": []
    },
    {
      "cell_type": "code",
      "metadata": {
        "id": "-5RbHh8zx1T7"
      },
      "source": [
        "mpl.rcParams['lines.linewidth'] = 2\n",
        "mpl.rcParams['lines.linestyle'] = '--'\n",
        "plt.plot(data)\n",
        "plt.show()"
      ],
      "execution_count": 13,
      "outputs": []
    },
    {
      "cell_type": "markdown",
      "metadata": {
        "id": "51Ql07K_x1UB"
      },
      "source": [
        "Note, that in order to change the usual `~.Axes.plot` color you have to\n",
        "change the *prop_cycle* property of *axes*:\n",
        "\n"
      ]
    },
    {
      "cell_type": "code",
      "metadata": {
        "id": "vm8Qphusx1UC"
      },
      "source": [
        "mpl.rcParams['axes.prop_cycle'] = cycler(color=['r', 'g', 'b', 'y'])\n",
        "plt.plot(data)  # first color is red\n",
        "plt.show()"
      ],
      "execution_count": 15,
      "outputs": []
    },
    {
      "cell_type": "markdown",
      "metadata": {
        "id": "b5YdylDzx1UG"
      },
      "source": [
        "Matplotlib also provides a couple of convenience functions for modifying rc\n",
        "settings. `matplotlib.rc` can be used to modify multiple\n",
        "settings in a single group at once, using keyword arguments:\n",
        "\n"
      ]
    },
    {
      "cell_type": "code",
      "metadata": {
        "id": "CSD2hvRCx1UH"
      },
      "source": [
        "mpl.rc('lines', linewidth=4, linestyle='-.')\n",
        "plt.plot(data)"
      ],
      "execution_count": null,
      "outputs": []
    },
    {
      "cell_type": "markdown",
      "metadata": {
        "id": "r5J5lALwx1UM"
      },
      "source": [
        "`matplotlib.rcdefaults` will restore the standard Matplotlib\n",
        "default settings.\n",
        "\n",
        "There is some degree of validation when setting the values of rcParams, see\n",
        ":mod:`matplotlib.rcsetup` for details.\n",
        "\n",
        "\n",
        "The :file:`matplotlibrc` file\n",
        "-----------------------------\n",
        "\n",
        "Matplotlib uses :file:`matplotlibrc` configuration files to customize all\n",
        "kinds of properties, which we call 'rc settings' or 'rc parameters'. You can\n",
        "control the defaults of almost every property in Matplotlib: figure size and\n",
        "DPI, line width, color and style, axes, axis and grid properties, text and\n",
        "font properties and so on. When a URL or path is not specified with a call to\n",
        "``style.use('<path>/<style-name>.mplstyle')``, Matplotlib looks for\n",
        ":file:`matplotlibrc` in four locations, in the following order:\n",
        "\n",
        "1. :file:`matplotlibrc` in the current working directory, usually used for\n",
        "   specific customizations that you do not want to apply elsewhere.\n",
        "\n",
        "2. :file:`$MATPLOTLIBRC` if it is a file, else\n",
        "   :file:`$MATPLOTLIBRC/matplotlibrc`.\n",
        "\n",
        "3. It next looks in a user-specific place, depending on your platform:\n",
        "\n",
        "   - On Linux and FreeBSD, it looks in\n",
        "     :file:`.config/matplotlib/matplotlibrc` (or\n",
        "     :file:`$XDG_CONFIG_HOME/matplotlib/matplotlibrc`) if you've customized\n",
        "     your environment.\n",
        "\n",
        "   - On other platforms, it looks in :file:`.matplotlib/matplotlibrc`.\n",
        "\n",
        "   See `locating-matplotlib-config-dir`.\n",
        "\n",
        "4. :file:`{INSTALL}/matplotlib/mpl-data/matplotlibrc`, where\n",
        "   :file:`{INSTALL}` is something like\n",
        "   :file:`/usr/lib/python3.7/site-packages` on Linux, and maybe\n",
        "   :file:`C:\\\\Python37\\\\Lib\\\\site-packages` on Windows. Every time you\n",
        "   install matplotlib, this file will be overwritten, so if you want\n",
        "   your customizations to be saved, please move this file to your\n",
        "   user-specific matplotlib directory.\n",
        "\n",
        "Once a :file:`matplotlibrc` file has been found, it will *not* search any of\n",
        "the other paths.\n",
        "\n",
        "To display where the currently active :file:`matplotlibrc` file was\n",
        "loaded from, one can do the following::\n",
        "\n",
        "  >>> import matplotlib\n",
        "  >>> matplotlib.matplotlib_fname()\n",
        "  '/home/foo/.config/matplotlib/matplotlibrc'\n",
        "\n",
        "See below for a sample `matplotlibrc file<matplotlibrc-sample>`.\n",
        "\n",
        "\n",
        "A sample matplotlibrc file\n",
        "~~~~~~~~~~~~~~~~~~~~~~~~~~\n",
        "\n",
        ".. literalinclude:: ../../../matplotlibrc.template\n",
        "\n",
        "\n",
        "\n"
      ]
    },
    {
      "cell_type": "code",
      "metadata": {
        "id": "m5ql-P_9xoyK"
      },
      "source": [
        ""
      ],
      "execution_count": null,
      "outputs": []
    }
  ]
}