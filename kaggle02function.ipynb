{
  "nbformat": 4,
  "nbformat_minor": 0,
  "metadata": {
    "colab": {
      "name": "kaggle02function.ipynb",
      "provenance": [],
      "toc_visible": true,
      "authorship_tag": "ABX9TyOV9FGNfMtbQz6K1e5aQfYK",
      "include_colab_link": true
    },
    "kernelspec": {
      "name": "python3",
      "display_name": "Python 3"
    }
  },
  "cells": [
    {
      "cell_type": "markdown",
      "metadata": {
        "id": "view-in-github",
        "colab_type": "text"
      },
      "source": [
        "<a href=\"https://colab.research.google.com/github/kalz2q/mycolabnotebooks/blob/master/kaggle02function.ipynb\" target=\"_parent\"><img src=\"https://colab.research.google.com/assets/colab-badge.svg\" alt=\"Open In Colab\"/></a>"
      ]
    },
    {
      "cell_type": "markdown",
      "metadata": {
        "id": "NQwRTni4u7L9",
        "colab_type": "text"
      },
      "source": [
        "# 関数の使い方と作り方\n",
        "\n",
        "cf. https://www.kaggle.com/colinmorris/functions-and-getting-help\n",
        "\n",
        "これから関数について、学びますが、もし忘れたらどうしますか？\n",
        "\n",
        "関数 help()というとても便利な関数があるのでまずこれから覚えましょう。\n",
        "\n"
      ]
    },
    {
      "cell_type": "code",
      "metadata": {
        "id": "hh_shkHFwDEB",
        "colab_type": "code",
        "colab": {
          "base_uri": "https://localhost:8080/",
          "height": 168
        },
        "outputId": "5f3f937b-b240-44a3-f4ae-97ad94449db1"
      },
      "source": [
        "help(round)"
      ],
      "execution_count": null,
      "outputs": [
        {
          "output_type": "stream",
          "text": [
            "Help on built-in function round in module builtins:\n",
            "\n",
            "round(...)\n",
            "    round(number[, ndigits]) -> number\n",
            "    \n",
            "    Round a number to a given precision in decimal digits (default 0 digits).\n",
            "    This returns an int when called with one argument, otherwise the\n",
            "    same type as the number. ndigits may be negative.\n",
            "\n"
          ],
          "name": "stdout"
        }
      ]
    },
    {
      "cell_type": "markdown",
      "metadata": {
        "id": "YJQ0unk4wBLj",
        "colab_type": "text"
      },
      "source": [
        "## help(round)の結果についての説明\n",
        "\n",
        "round(number[, ndigits]). \n",
        "\n",
        "最初に示されるこの意味は、関数round()は引数としてnumberを取り、オプションとして引数ndigitsを取る、ということです。\n",
        "\n",
        "あと英語による簡単な説明があってその中で引数について言及があります。関数round()の場合、\n",
        "\n",
        ">>\n",
        "与えられた精度でnumberを四捨五入する。精度の桁数はデフォルトは0なので、引数が1つのとき、整数intが返される。それ以外の場合は返される数字の型は引数と同じ型になる。ndigitsはマイナスも可能である。\n",
        ">>\n",
        "\n",
        "というような説明があります。\n",
        "\n",
        "次のコードを実行してみて下さい。\n",
        "\n",
        "* help(round(-2.01))\n",
        "\n",
        "* round(3.12345455, -2)\n",
        "* round(1234567, 3)\n",
        "* round(1234567, -3)\n",
        "\n",
        "他の関数についてもhelp()を実行してみましょう\n",
        "\n",
        "* help(abs()\n"
      ]
    },
    {
      "cell_type": "code",
      "metadata": {
        "id": "iih6tuCv-ttI",
        "colab_type": "code",
        "colab": {}
      },
      "source": [
        "help(round(-2.01))"
      ],
      "execution_count": null,
      "outputs": []
    },
    {
      "cell_type": "markdown",
      "metadata": {
        "id": "oElBQcyFvTEa",
        "colab_type": "text"
      },
      "source": [
        "round()は単純で説明の短い関数でした。\n",
        "\n",
        "関数print()の場合、print()が複雑でいろんな使い方ができるので、help()の結果も長くなります。いまの段階では出力がわからなくても気にしないで下さい。なにかわかること、役に立つことがあるかどうか見る、というのがいいでしょう。\n"
      ]
    },
    {
      "cell_type": "code",
      "metadata": {
        "id": "t9Yi6mx1DEl0",
        "colab_type": "code",
        "colab": {
          "base_uri": "https://localhost:8080/",
          "height": 225
        },
        "outputId": "91761007-965a-499a-d8c1-fd2f9f7cb24f"
      },
      "source": [
        "help(print)"
      ],
      "execution_count": null,
      "outputs": [
        {
          "output_type": "stream",
          "text": [
            "Help on built-in function print in module builtins:\n",
            "\n",
            "print(...)\n",
            "    print(value, ..., sep=' ', end='\\n', file=sys.stdout, flush=False)\n",
            "    \n",
            "    Prints the values to a stream, or to sys.stdout by default.\n",
            "    Optional keyword arguments:\n",
            "    file:  a file-like object (stream); defaults to the current sys.stdout.\n",
            "    sep:   string inserted between values, default a space.\n",
            "    end:   string appended after the last value, default a newline.\n",
            "    flush: whether to forcibly flush the stream.\n",
            "\n"
          ],
          "name": "stdout"
        }
      ]
    },
    {
      "cell_type": "markdown",
      "metadata": {
        "id": "G9Y6EMsCDDOH",
        "colab_type": "text"
      },
      "source": [
        "例えば、print()はオプションとしてsepという名前の引数を取り、出力と出力の間にsepの値が挿入されることがわかります。\n"
      ]
    },
    {
      "cell_type": "markdown",
      "metadata": {
        "id": "Bp-NDXZZDkII",
        "colab_type": "text"
      },
      "source": [
        "# 関数を定義する\n",
        "ビルトイン関数だけはできることが限られますので、関数を定義できるようになっています。\n",
        "\n",
        "次の例を見てみましょう。"
      ]
    },
    {
      "cell_type": "code",
      "metadata": {
        "id": "ZW7E53HqEX05",
        "colab_type": "code",
        "colab": {
          "base_uri": "https://localhost:8080/",
          "height": 35
        },
        "outputId": "8a29089f-9f8a-4296-adc5-20570797f95e"
      },
      "source": [
        "def least_difference(a, b, c):\n",
        "    \"\"\"Return the smallest difference between any two numbers among a, b and c.\n",
        "    >>> least_difference(1, 5, -5)\n",
        "    4\n",
        "    \"\"\"\n",
        "    diff1 = abs(a - b)\n",
        "    diff2 = abs(b - c)\n",
        "    diff3 = abs(a - c)\n",
        "    return min(diff1, diff2, diff3)\n",
        "\n",
        "least_difference(10, 3, 5)"
      ],
      "execution_count": null,
      "outputs": [
        {
          "output_type": "execute_result",
          "data": {
            "text/plain": [
              "2"
            ]
          },
          "metadata": {
            "tags": []
          },
          "execution_count": 17
        }
      ]
    },
    {
      "cell_type": "markdown",
      "metadata": {
        "id": "Z0nAug7PERV9",
        "colab_type": "text"
      },
      "source": [
        "ここではleast_difference()という関数が作られています。3つの引数a, b, cを取ります。\n",
        "\n",
        "関数の定義は`def`というキーワードで始まります。`:`のあとのインデントブロックが関数定義の本体です。\n",
        "\n",
        "Pythonはキーワード`return`で関数を抜け、`return`のあとにある値を返り値として関数を呼び出したプログラムに戻ります。\n",
        "\n",
        "次の例ｗ実行して見て下さい\n"
      ]
    },
    {
      "cell_type": "code",
      "metadata": {
        "id": "cHi7tu7GF7Mf",
        "colab_type": "code",
        "colab": {
          "base_uri": "https://localhost:8080/",
          "height": 35
        },
        "outputId": "a9070a69-fdeb-44eb-a7f1-8b44e461162f"
      },
      "source": [
        "print(\n",
        "    least_difference(1, 10, 100),\n",
        "    least_difference(1, 10, 10),\n",
        "    least_difference(5, 6, 7), # Pythonは引数の最後にカンマがついていても大丈夫です。いいでしょう？\n",
        ")"
      ],
      "execution_count": null,
      "outputs": [
        {
          "output_type": "stream",
          "text": [
            "9 0 1\n"
          ],
          "name": "stdout"
        }
      ]
    },
    {
      "cell_type": "code",
      "metadata": {
        "id": "F9b1CkQ6EqCT",
        "colab_type": "code",
        "colab": {
          "base_uri": "https://localhost:8080/",
          "height": 138
        },
        "outputId": "59622ae7-13e0-4eda-a17e-e8902916e794"
      },
      "source": [
        "help(least_difference)"
      ],
      "execution_count": null,
      "outputs": [
        {
          "output_type": "stream",
          "text": [
            "Help on function least_difference in module __main__:\n",
            "\n",
            "least_difference(a, b, c)\n",
            "    Return the smallest difference between any two numbers among a, b and c.\n",
            "    >>> least_difference(1, 5, -5)\n",
            "    4\n",
            "\n"
          ],
          "name": "stdout"
        }
      ]
    },
    {
      "cell_type": "markdown",
      "metadata": {
        "id": "YM5UgIDOxd5t",
        "colab_type": "text"
      },
      "source": [
        "### Docstrings\n",
        "`docstring`は関数を定義する時にヘッダーの直後に書かれる3クウォートで囲まれた数行にわたる部分です。定義された関数のhelp()でこのdocstringが出力されます。\n",
        "\n",
        ">>\n",
        "補足: 関数の呼び出し例について。docstringの最後の2行は関数の呼び出しと返り値の例になっています。`>>>`はPythonの対話型環境のプロンプトを表しています。実際にPythonが実行しているわけではなく、あくまで読者にわかりやすくするためのものです。関数の呼び出し例を入れるのは必ずしも普遍的とは言えませんが、関数を理解するためのおおきな補助となります。numpyの関数np.eyeのdocstringが参考になります。\n",
        ">>\n",
        "\n",
        "関数を作るようになったら、自分のためにもdocstringを書く習慣をいまから始めるのがいいでしょう。\n",
        "\n"
      ]
    },
    {
      "cell_type": "code",
      "metadata": {
        "id": "QoAQqdIvdAcZ",
        "colab_type": "code",
        "colab": {
          "base_uri": "https://localhost:8080/",
          "height": 817
        },
        "outputId": "4a52999f-cd44-46a4-a568-a58af8ae5f82"
      },
      "source": [
        "import numpy as np\n",
        "help (np.eye)"
      ],
      "execution_count": null,
      "outputs": [
        {
          "output_type": "stream",
          "text": [
            "Help on function eye in module numpy:\n",
            "\n",
            "eye(N, M=None, k=0, dtype=<class 'float'>, order='C')\n",
            "    Return a 2-D array with ones on the diagonal and zeros elsewhere.\n",
            "    \n",
            "    Parameters\n",
            "    ----------\n",
            "    N : int\n",
            "      Number of rows in the output.\n",
            "    M : int, optional\n",
            "      Number of columns in the output. If None, defaults to `N`.\n",
            "    k : int, optional\n",
            "      Index of the diagonal: 0 (the default) refers to the main diagonal,\n",
            "      a positive value refers to an upper diagonal, and a negative value\n",
            "      to a lower diagonal.\n",
            "    dtype : data-type, optional\n",
            "      Data-type of the returned array.\n",
            "    order : {'C', 'F'}, optional\n",
            "        Whether the output should be stored in row-major (C-style) or\n",
            "        column-major (Fortran-style) order in memory.\n",
            "    \n",
            "        .. versionadded:: 1.14.0\n",
            "    \n",
            "    Returns\n",
            "    -------\n",
            "    I : ndarray of shape (N,M)\n",
            "      An array where all elements are equal to zero, except for the `k`-th\n",
            "      diagonal, whose values are equal to one.\n",
            "    \n",
            "    See Also\n",
            "    --------\n",
            "    identity : (almost) equivalent function\n",
            "    diag : diagonal 2-D array from a 1-D array specified by the user.\n",
            "    \n",
            "    Examples\n",
            "    --------\n",
            "    >>> np.eye(2, dtype=int)\n",
            "    array([[1, 0],\n",
            "           [0, 1]])\n",
            "    >>> np.eye(3, k=1)\n",
            "    array([[0.,  1.,  0.],\n",
            "           [0.,  0.,  1.],\n",
            "           [0.,  0.,  0.]])\n",
            "\n"
          ],
          "name": "stdout"
        }
      ]
    },
    {
      "cell_type": "markdown",
      "metadata": {
        "id": "WnZMoEjfH6w-",
        "colab_type": "text"
      },
      "source": [
        "## 返り値のない関数\n",
        "キーワード`return`を含まない関数を作ったらどうなるでしょうか。\n",
        "\n",
        "What would happen if we didn't include the return keyword in our function?\n"
      ]
    },
    {
      "cell_type": "code",
      "metadata": {
        "id": "CvXrHj1Qbn9L",
        "colab_type": "code",
        "colab": {
          "base_uri": "https://localhost:8080/",
          "height": 35
        },
        "outputId": "e352be36-0b44-4789-a829-72cffe61fe16"
      },
      "source": [
        "def least_difference(a, b, c):\n",
        "    \"\"\"Return the smallest difference between any two numbers\n",
        "    among a, b and c.\n",
        "    \"\"\"\n",
        "    diff1 = abs(a - b)\n",
        "    diff2 = abs(b - c)\n",
        "    diff3 = abs(a - c)\n",
        "    min(diff1, diff2, diff3)\n",
        "    \n",
        "print(\n",
        "    least_difference(1, 10, 100),\n",
        "    least_difference(1, 10, 10),\n",
        "    least_difference(5, 6, 7),\n",
        ")"
      ],
      "execution_count": null,
      "outputs": [
        {
          "output_type": "stream",
          "text": [
            "None None None\n"
          ],
          "name": "stdout"
        }
      ]
    },
    {
      "cell_type": "markdown",
      "metadata": {
        "id": "IMxUzxeVbl16",
        "colab_type": "text"
      },
      "source": [
        "Pythonはこのような関数を作ることを許容しています。返り値のない関数の結果は特殊な値の`None`になります。Pythonの`None`は他の言語でいう`null`に相当する概念です。"
      ]
    },
    {
      "cell_type": "code",
      "metadata": {
        "id": "PnN8zwiWcH54",
        "colab_type": "code",
        "colab": {
          "base_uri": "https://localhost:8080/",
          "height": 35
        },
        "outputId": "c85476e4-708f-4249-8d8a-68a643c26311"
      },
      "source": [
        "type(None)"
      ],
      "execution_count": null,
      "outputs": [
        {
          "output_type": "execute_result",
          "data": {
            "text/plain": [
              "NoneType"
            ]
          },
          "metadata": {
            "tags": []
          },
          "execution_count": 2
        }
      ]
    },
    {
      "cell_type": "markdown",
      "metadata": {
        "id": "qOkniEamxg6a",
        "colab_type": "text"
      },
      "source": [
        "`return`文(ステートメント)のない関数least_differenceは関数としては意味をなしません。しかし副作用(side effect)のある関数は返り値がなくても役に立つことがあります。そのような例をすでに2つ見てきています。`print()`と`help()`です。\n",
        "`print()`と`help()`は返り値ではなく画面へ出力を出すという副作用のために呼び出されます。他にもファイルへの書き出しや入力を変更する関数などがこれに当たります。\n",
        "\n"
      ]
    },
    {
      "cell_type": "code",
      "metadata": {
        "id": "tf-BRZgHeJzT",
        "colab_type": "code",
        "colab": {
          "base_uri": "https://localhost:8080/",
          "height": 54
        },
        "outputId": "296ff685-43ff-4382-9027-204c81c09917"
      },
      "source": [
        "mystery = print()\n",
        "print(mystery)"
      ],
      "execution_count": null,
      "outputs": [
        {
          "output_type": "stream",
          "text": [
            "\n",
            "None\n"
          ],
          "name": "stdout"
        }
      ]
    },
    {
      "cell_type": "markdown",
      "metadata": {
        "id": "IQxs1ULPeIGg",
        "colab_type": "text"
      },
      "source": [
        "## 引数のデフォルト値\n",
        "`help(print)`の説明のところで、関数`print`がオプションとしていくつかの引数を取るのを見ました。たとえば出力の項目の間に入れる文字列を指定するには`sep`という変数に値を入れます。\n"
      ]
    },
    {
      "cell_type": "code",
      "metadata": {
        "id": "7Xdr3PCSgr3K",
        "colab_type": "code",
        "colab": {
          "base_uri": "https://localhost:8080/",
          "height": 35
        },
        "outputId": "8e5f409a-f89d-43a3-e9df-94ae554bdcd5"
      },
      "source": [
        "print(1, 2, 3, sep=' < ')"
      ],
      "execution_count": null,
      "outputs": [
        {
          "output_type": "stream",
          "text": [
            "1 < 2 < 3\n"
          ],
          "name": "stdout"
        }
      ]
    },
    {
      "cell_type": "markdown",
      "metadata": {
        "id": "ZxHtaVfmgmsx",
        "colab_type": "text"
      },
      "source": [
        "しかし、値を指定しない場合、`sep`にはデフォルトの値である\" \"(スペース1個)が入ります。\n"
      ]
    },
    {
      "cell_type": "code",
      "metadata": {
        "id": "9hjL8YC1hwEW",
        "colab_type": "code",
        "colab": {
          "base_uri": "https://localhost:8080/",
          "height": 35
        },
        "outputId": "0031cf08-2dfe-48b0-b55b-b7726decef3e"
      },
      "source": [
        "print(1, 2, 3)"
      ],
      "execution_count": null,
      "outputs": [
        {
          "output_type": "stream",
          "text": [
            "1 2 3\n"
          ],
          "name": "stdout"
        }
      ]
    },
    {
      "cell_type": "markdown",
      "metadata": {
        "id": "OSw17y6ThrIm",
        "colab_type": "text"
      },
      "source": [
        "関数の定義の時にデフォルト値を指定するには、次のようにします。"
      ]
    },
    {
      "cell_type": "code",
      "metadata": {
        "id": "8vQaBy2Dh5nX",
        "colab_type": "code",
        "colab": {
          "base_uri": "https://localhost:8080/",
          "height": 72
        },
        "outputId": "11921f60-d506-4832-e5c5-4ab347c59540"
      },
      "source": [
        "def greet(who=\"Colin\"):\n",
        "    print(\"Hello,\", who)\n",
        "    \n",
        "greet()\n",
        "greet(who=\"Kaggle\")\n",
        "\n",
        "# 明確で誤解が生じる余地のない場合、引数の名前を省略できます。\n",
        "greet(\"world\")"
      ],
      "execution_count": null,
      "outputs": [
        {
          "output_type": "stream",
          "text": [
            "Hello, Colin\n",
            "Hello, Kaggle\n",
            "Hello, world\n"
          ],
          "name": "stdout"
        }
      ]
    },
    {
      "cell_type": "markdown",
      "metadata": {
        "id": "0IssDb5mbbwZ",
        "colab_type": "text"
      },
      "source": [
        "# 関数から関数を呼び出す\n",
        "関数から関数を呼び出す、関数の引数として関数を使う、ということができますが、HaskellやSchemeのような関数型プログラムほど抽象的なことができるわけではないので、注意が必要です。\n",
        "\n",
        "とりあえず例を示します。"
      ]
    },
    {
      "cell_type": "code",
      "metadata": {
        "id": "p_Z2QYAbjUIU",
        "colab_type": "code",
        "colab": {
          "base_uri": "https://localhost:8080/",
          "height": 72
        },
        "outputId": "dc18d0ad-3cf7-4b0e-cc89-a60d9b29bd9c"
      },
      "source": [
        "def mult_by_five(x):\n",
        "    \"\"\"x is multiplied by five\"\"\"\n",
        "    return 5 * x\n",
        "\n",
        "def call(fn, arg):\n",
        "    \"\"\"Call fn on arg\"\"\"\n",
        "    return fn(arg)\n",
        "\n",
        "def squared_call(fn, arg):\n",
        "    \"\"\"Call fn on the result of calling fn on arg\"\"\"\n",
        "    return fn(fn(arg))\n",
        "\n",
        "def cubed_call(fn, arg):\n",
        "    \"\"\"Call fn on the result of fn calling fn on arg\"\"\"\n",
        "    return fn(fn(fn(arg)))\n",
        "\n",
        "print(\n",
        "    call(mult_by_five, 1),\n",
        "    squared_call(mult_by_five, 1), \n",
        "    cubed_call(mult_by_five,1),\n",
        "    sep='\\n', # '\\n' is the newline character - it starts a new line\n",
        ")"
      ],
      "execution_count": null,
      "outputs": [
        {
          "output_type": "stream",
          "text": [
            "5\n",
            "25\n",
            "125\n"
          ],
          "name": "stdout"
        }
      ]
    },
    {
      "cell_type": "markdown",
      "metadata": {
        "id": "Uvd9mi8gjSCh",
        "colab_type": "text"
      },
      "source": [
        "関数に作用する関数は高階関数\"Higher order functions\"と呼ばれます。\n",
        "\n",
        "Pythonの`max`は複数の引数の中で最大のものを返しますが、オプションとして`key`に関数を指定すると`key(x)`が最大なxを返します。\n"
      ]
    },
    {
      "cell_type": "code",
      "metadata": {
        "id": "ZLpHTzdew0hC",
        "colab_type": "code",
        "colab": {
          "base_uri": "https://localhost:8080/",
          "height": 90
        },
        "outputId": "5cb640d7-7011-4831-e761-6490f238ce42"
      },
      "source": [
        "def mod_5(x):\n",
        "    \"\"\"Return the remainder of x after dividing by 5\"\"\"\n",
        "    return x % 5\n",
        "\n",
        "print(\n",
        "    'Which number is biggest?',\n",
        "    max(100, 51, 14),\n",
        "    'Which number is the biggest modulo 5?',\n",
        "    max(100, 51, 14, key=mod_5),\n",
        "    sep='\\n',\n",
        ")"
      ],
      "execution_count": null,
      "outputs": [
        {
          "output_type": "stream",
          "text": [
            "Which number is biggest?\n",
            "100\n",
            "Which number is the biggest modulo 5?\n",
            "14\n"
          ],
          "name": "stdout"
        }
      ]
    },
    {
      "cell_type": "markdown",
      "metadata": {
        "id": "HnWrYUivksHg",
        "colab_type": "text"
      },
      "source": [
        "# 練習問題\n"
      ]
    },
    {
      "cell_type": "markdown",
      "metadata": {
        "id": "M_5a-M3Xkv3d",
        "colab_type": "text"
      },
      "source": [
        "## 問題 1. `docstring`に基づいて関数を完成させる\n",
        "ヒント: `round`はPythonのビルトイン関数です。\n"
      ]
    },
    {
      "cell_type": "code",
      "metadata": {
        "id": "BaJBiSLROA0f",
        "colab_type": "code",
        "colab": {}
      },
      "source": [
        "def round_to_three_places(num):\n",
        "    \"\"\"Return the given number rounded to three decimal places. \n",
        "    \n",
        "    >>> round_to_two_places(3.14159)\n",
        "    3.141\n",
        "    \"\"\"\n",
        "    # Replace this body with your own code.\n",
        "    # (\"pass\" is a keyword that does literally nothing. We used it as a placeholder\n",
        "    # because after we begin a code block, Python requires at least one line of code)\n",
        "    pass\n",
        "\n",
        "round_to_three_places(3.14159)"
      ],
      "execution_count": null,
      "outputs": []
    },
    {
      "cell_type": "code",
      "metadata": {
        "id": "gL2W6EF0PaCy",
        "colab_type": "code",
        "colab": {
          "base_uri": "https://localhost:8080/",
          "height": 34
        },
        "outputId": "a076be50-b04b-453e-cba0-1461d658f4a4"
      },
      "source": [
        "def round_to_three_places(num):\n",
        "    \"\"\"Return the given number rounded to three decimal places. \n",
        "    \n",
        "    >>> round_to_two_places(3.14159)\n",
        "    3.142\n",
        "    \"\"\"\n",
        "    return round(num, 3)\n",
        "\n",
        "round_to_three_places(3.14159)"
      ],
      "execution_count": null,
      "outputs": [
        {
          "output_type": "execute_result",
          "data": {
            "text/plain": [
              "3.142"
            ]
          },
          "metadata": {
            "tags": []
          },
          "execution_count": 4
        }
      ]
    },
    {
      "cell_type": "markdown",
      "metadata": {
        "id": "Mm1Yw-0jx_nn",
        "colab_type": "text"
      },
      "source": [
        "## 問題 2. `round`の`ndigits`\n",
        "`round`の2番目の引数`ndigits`は負の数でもかまわないとhelp()は言っています。\n",
        "\n",
        "次のコードセルで実験して見て下さい。\n",
        "\n",
        "どんなときに役に立ちますか？"
      ]
    },
    {
      "cell_type": "code",
      "metadata": {
        "id": "N5SVD_-kiLUt",
        "colab_type": "code",
        "colab": {
          "base_uri": "https://localhost:8080/",
          "height": 34
        },
        "outputId": "157e0a98-629d-40ab-fba5-be3bea0e21cf"
      },
      "source": [
        "round(12345678, -6)"
      ],
      "execution_count": null,
      "outputs": [
        {
          "output_type": "execute_result",
          "data": {
            "text/plain": [
              "12000000"
            ]
          },
          "metadata": {
            "tags": []
          },
          "execution_count": 7
        }
      ]
    },
    {
      "cell_type": "code",
      "metadata": {
        "id": "GSlrkf4niwIw",
        "colab_type": "code",
        "colab": {}
      },
      "source": [
        "# floor()とかceiling()の関数はあるか実験 -> ない\n",
        "# floor(3.14159)\n",
        "# ceiling(3.14159)"
      ],
      "execution_count": null,
      "outputs": []
    },
    {
      "cell_type": "markdown",
      "metadata": {
        "id": "87kxY31hjarr",
        "colab_type": "text"
      },
      "source": [
        "## 問題 3. キャンディを分配した余りを算出する関数\n",
        "\n",
        "アリスとボブとキャロルはキャンディを平等に分けて余りを潰してすてることにしました。91個ならば30個ずつとって、1個捨てます。\n",
        "\n",
        "まずキャンディの数を引数として、捨てる余りの数を算出する簡単な関数をつくりました。\n",
        "\n",
        "これを修正して、3人でなく他の人数で分配して余りを算出プログラムにする。もし、2つ目の引数がなければ、3が使われる。\n",
        "\n",
        "`docstring`のアップデートも忘れないように。\n",
        "\n"
      ]
    },
    {
      "cell_type": "code",
      "metadata": {
        "id": "Qv1AXu28krMM",
        "colab_type": "code",
        "colab": {
          "base_uri": "https://localhost:8080/",
          "height": 34
        },
        "outputId": "0573c9d4-9f95-4afb-aa04-265f55faacc1"
      },
      "source": [
        "def to_smash(total_candies):\n",
        "    \"\"\"Return the number of leftover candies that must be smashed after distributing\n",
        "    the given number of candies evenly between 3 friends.\n",
        "    \n",
        "    >>> to_smash(91)\n",
        "    1\n",
        "    \"\"\"\n",
        "    return total_candies % 3\n",
        "\n",
        "to_smash(91)"
      ],
      "execution_count": null,
      "outputs": [
        {
          "output_type": "execute_result",
          "data": {
            "text/plain": [
              "1"
            ]
          },
          "metadata": {
            "tags": []
          },
          "execution_count": 10
        }
      ]
    },
    {
      "cell_type": "code",
      "metadata": {
        "id": "aOGLPl0Bk8GX",
        "colab_type": "code",
        "colab": {
          "base_uri": "https://localhost:8080/",
          "height": 70
        },
        "outputId": "3ce539db-6a83-4588-e9fd-1abbddf43d9b"
      },
      "source": [
        "def to_smash(total_candies, friends=3):\n",
        "    \"\"\"Return the number of leftover candies that must be smashed after distributing\n",
        "    the given number of candies evenly between number of friends which is default to 3.\n",
        "    \n",
        "    >>> to_smash(91, 4)\n",
        "    3\n",
        "    \"\"\"\n",
        "    return total_candies % friends\n",
        "\n",
        "print(to_smash(91,4))\n",
        "print(to_smash(91))\n",
        "print(to_smash(91,7))"
      ],
      "execution_count": null,
      "outputs": [
        {
          "output_type": "stream",
          "text": [
            "3\n",
            "1\n",
            "0\n"
          ],
          "name": "stdout"
        }
      ]
    },
    {
      "cell_type": "markdown",
      "metadata": {
        "id": "zCybS9yMk0Cv",
        "colab_type": "text"
      },
      "source": [
        "## 問題 4. エラーメッセージを読む\n",
        "エラーメッセージを読むことは、Pythonの勉強になりますので、エラーがでたときは落ち込まずに逆にチャンスだと思ってがんばりましょう。\n",
        "\n",
        "以下のコードセルでは始めにコメントとして書いてあるバギーなコードを、アンコメントし、実行することを繰り返しながらコードを完成させて下さい。\n",
        "\n",
        "ちなみに、`ctrl`+`/`で選択した行を交互にコメントアウト、アンコメントできます。\n"
      ]
    },
    {
      "cell_type": "code",
      "metadata": {
        "id": "UZuX1G4em4Rc",
        "colab_type": "code",
        "colab": {
          "base_uri": "https://localhost:8080/",
          "height": 35
        },
        "outputId": "e1cf95f4-7e2e-4f1b-8d0a-8ec392a20a28"
      },
      "source": [
        "# round_to_one_place(9.9999)\n",
        "\n",
        "def round_to_one_place(number):\n",
        "  return round(number, 1)\n",
        "\n",
        "round_to_one_place(9.9999)"
      ],
      "execution_count": null,
      "outputs": [
        {
          "output_type": "execute_result",
          "data": {
            "text/plain": [
              "10.0"
            ]
          },
          "metadata": {
            "tags": []
          },
          "execution_count": 5
        }
      ]
    },
    {
      "cell_type": "code",
      "metadata": {
        "id": "Z1HHE58Drje4",
        "colab_type": "code",
        "colab": {
          "base_uri": "https://localhost:8080/",
          "height": 35
        },
        "outputId": "db5d8951-62b7-4634-cd59-ac924dddb6d6"
      },
      "source": [
        "x = -10\n",
        "y = 5\n",
        "# Which of the two variables above has the smallest absolute value?\n",
        "# smallest_abs = min(abs(x, y))\n",
        "\n",
        "smallest_abs = min(abs(x), abs(y))\n",
        "print(smallest_abs)"
      ],
      "execution_count": null,
      "outputs": [
        {
          "output_type": "stream",
          "text": [
            "5\n"
          ],
          "name": "stdout"
        }
      ]
    },
    {
      "cell_type": "code",
      "metadata": {
        "id": "yTl62ktsss3B",
        "colab_type": "code",
        "colab": {
          "base_uri": "https://localhost:8080/",
          "height": 35
        },
        "outputId": "e7037c03-6ed9-4e0f-e198-afb06d0af6d3"
      },
      "source": [
        "# def f(x):\n",
        "#     y = abs(x)\n",
        "# return y\n",
        "\n",
        "# print(f(5))\n",
        "\n",
        "def f(x):\n",
        "    y = abs(x)\n",
        "    return y\n",
        "\n",
        "print(f(5))"
      ],
      "execution_count": null,
      "outputs": [
        {
          "output_type": "stream",
          "text": [
            "5\n"
          ],
          "name": "stdout"
        }
      ]
    }
  ]
}