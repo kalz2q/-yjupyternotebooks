{
  "nbformat": 4,
  "nbformat_minor": 0,
  "metadata": {
    "colab": {
      "name": "haskell_honma_ruichi_ousaka.ipynb",
      "provenance": [],
      "toc_visible": true,
      "authorship_tag": "ABX9TyMfrnA2/ptIqH/SKJEUglg9",
      "include_colab_link": true
    },
    "kernelspec": {
      "name": "python3",
      "display_name": "Python 3"
    }
  },
  "cells": [
    {
      "cell_type": "markdown",
      "metadata": {
        "id": "view-in-github",
        "colab_type": "text"
      },
      "source": [
        "<a href=\"https://colab.research.google.com/github/kalz2q/mycolabnotebooks/blob/master/haskell_honma_ruichi_ousaka.ipynb\" target=\"_parent\"><img src=\"https://colab.research.google.com/assets/colab-badge.svg\" alt=\"Open In Colab\"/></a>"
      ]
    },
    {
      "cell_type": "markdown",
      "metadata": {
        "id": "bcZTrfj_mS2w"
      },
      "source": [
        "# メモ\r\n",
        "\r\n",
        "本間雅洋 ほんままさひろ 類地孝介 るいちこうすけ 逢坂時響 おうさかときお  \r\n",
        "Haskell 入門 技術評論社  \r\n",
        "を読むノート。\r\n",
        "\r\n",
        "実験学習です。\r\n",
        "\r\n",
        "サポートページ https://gihyo.jp/book/2017/978-4-7741-9237-6/support"
      ]
    },
    {
      "cell_type": "code",
      "metadata": {
        "id": "qjJR8oRUmvF-"
      },
      "source": [
        "%%capture\r\n",
        "!apt install haskell-platform"
      ],
      "execution_count": null,
      "outputs": []
    },
    {
      "cell_type": "code",
      "metadata": {
        "id": "n51i0CbJns8w",
        "colab": {
          "base_uri": "https://localhost:8080/"
        },
        "outputId": "499b1138-9345-4e7a-ace2-bc0e6d640c6a"
      },
      "source": [
        "!ghc -e '1'\r\n",
        "!ghc -e '1::Int'\r\n",
        "!ghc -e '1::Double'\r\n",
        "!ghc -e '1.0'\r\n",
        "# 次のはエラーになった。\r\n",
        "!ghc -e '1.0::Int'"
      ],
      "execution_count": null,
      "outputs": [
        {
          "output_type": "stream",
          "text": [
            "1\n",
            "1\n",
            "1.0\n",
            "1.0\n",
            "\n",
            "<interactive>:0:1: error:\n",
            "    • No instance for (Fractional Int) arising from the literal ‘1.0’\n",
            "    • In the expression: 1.0 :: Int\n",
            "      In an equation for ‘it’: it = 1.0 :: Int\n"
          ],
          "name": "stdout"
        }
      ]
    },
    {
      "cell_type": "code",
      "metadata": {
        "id": "QsbrWWhDoTbZ",
        "colab": {
          "base_uri": "https://localhost:8080/"
        },
        "outputId": "971089fb-2389-46cb-c553-0bf5083c9aa6"
      },
      "source": [
        "!ghc -e 'minBound::Int'\r\n",
        "# :t でタイプを調べることができる。\r\n",
        "!ghc -e ':t minBound'\r\n",
        "!ghc -e 'minBound'\r\n",
        "# Integer, Double, Float とかでエラーになった。\r\n",
        "!ghc -e 'minBound::Float'"
      ],
      "execution_count": null,
      "outputs": [
        {
          "output_type": "stream",
          "text": [
            "-9223372036854775808\n",
            "minBound :: Bounded a => a\n",
            "()\n",
            "\n",
            "<interactive>:0:1: error:\n",
            "    • No instance for (Bounded Float) arising from a use of ‘minBound’\n",
            "    • In the expression: minBound :: Float\n",
            "      In an equation for ‘it’: it = minBound :: Float\n"
          ],
          "name": "stdout"
        }
      ]
    },
    {
      "cell_type": "code",
      "metadata": {
        "colab": {
          "base_uri": "https://localhost:8080/"
        },
        "id": "xxVupjUpqgkQ",
        "outputId": "a0d7e47b-8837-4b41-ce12-e4ec722a6028"
      },
      "source": [
        "!ghc -e ':t 1'\r\n",
        "!ghc -e ':t 1.0'\r\n",
        "# :k で型クラス、タイプクラスを調べることができる。\r\n",
        "!ghc -e ':k Num'\r\n",
        "!ghc -e ':k Fractional'"
      ],
      "execution_count": null,
      "outputs": [
        {
          "output_type": "stream",
          "text": [
            "1 :: Num t => t\n",
            "1.0 :: Fractional t => t\n",
            "Num :: * -> Constraint\n",
            "Fractional :: * -> Constraint\n"
          ],
          "name": "stdout"
        }
      ]
    },
    {
      "cell_type": "code",
      "metadata": {
        "colab": {
          "base_uri": "https://localhost:8080/"
        },
        "id": "m6yihen6pW1S",
        "outputId": "74c9a38d-d872-4e96-8feb-6abbb78ef0a0"
      },
      "source": [
        "!ghc -e '0xff' # 16進数\r\n",
        "!ghc -e '0o77' # 8進数\r\n",
        "!ghc -e ':t 0xff'\r\n",
        "!ghc -e ':t 1234e100'\r\n",
        "!ghc -e ':t 1234e100::Float'"
      ],
      "execution_count": null,
      "outputs": [
        {
          "output_type": "stream",
          "text": [
            "255\n",
            "63\n",
            "0xff :: Num t => t\n",
            "1234e100 :: Fractional t => t\n",
            "1234e100::Float :: Float\n"
          ],
          "name": "stdout"
        }
      ]
    },
    {
      "cell_type": "code",
      "metadata": {
        "id": "XqJ_b0VCCNAX",
        "colab": {
          "base_uri": "https://localhost:8080/"
        },
        "outputId": "7408bca8-c39b-4458-f82a-fe032c5a5542"
      },
      "source": [
        "# pi は始めから Double で入っている\r\n",
        "!ghc -e 'pi'\r\n",
        "!ghc -e ':t pi'\r\n",
        "\r\n",
        "!ghc -e 'pi::Double'\r\n",
        "!ghc -e 'pi::Float'\r\n",
        "!ghc -e 'pi*1e+38::Float'\r\n",
        "!ghc -e '3.141592653589793e+38::Float'\r\n",
        "!ghc -e '3.141592653589793e+100::Float' #=> Infinity\r\n"
      ],
      "execution_count": null,
      "outputs": [
        {
          "output_type": "stream",
          "text": [
            "3.141592653589793\n",
            "pi :: Floating a => a\n",
            "3.141592653589793\n",
            "3.1415927\n",
            "3.1415927e38\n",
            "3.1415927e38\n",
            "Infinity\n"
          ],
          "name": "stdout"
        }
      ]
    },
    {
      "cell_type": "code",
      "metadata": {
        "id": "-HMsFEQPG4LS",
        "colab": {
          "base_uri": "https://localhost:8080/"
        },
        "outputId": "8312c4f0-fda6-4a2c-bdc4-64c987e6450f"
      },
      "source": [
        "# e はどうか\r\n",
        "!ghc -e 'exp(1)'"
      ],
      "execution_count": null,
      "outputs": [
        {
          "output_type": "stream",
          "text": [
            "2.718281828459045\n"
          ],
          "name": "stdout"
        }
      ]
    },
    {
      "cell_type": "code",
      "metadata": {
        "id": "KnthLtHpHBfw",
        "colab": {
          "base_uri": "https://localhost:8080/"
        },
        "outputId": "f3c9a8fe-089f-42ac-e926-719c76dda337"
      },
      "source": [
        "!ghc -e ':t isInfinite'\r\n",
        "!ghc -e ':t isNaN'"
      ],
      "execution_count": null,
      "outputs": [
        {
          "output_type": "stream",
          "text": [
            "isInfinite :: RealFloat a => a -> Bool\n",
            "isNaN :: RealFloat a => a -> Bool\n"
          ],
          "name": "stdout"
        }
      ]
    },
    {
      "cell_type": "code",
      "metadata": {
        "colab": {
          "base_uri": "https://localhost:8080/"
        },
        "id": "ZFWg7MMekyIG",
        "outputId": "a50cca1f-0d9b-4b65-b57c-f9a5974b1e04"
      },
      "source": [
        "!ghc -e '0/0' #=> NaN\r\n",
        "!ghc -e 'isNaN (0/0)' #=> True"
      ],
      "execution_count": null,
      "outputs": [
        {
          "output_type": "stream",
          "text": [
            "NaN\n",
            "True\n"
          ],
          "name": "stdout"
        }
      ]
    },
    {
      "cell_type": "code",
      "metadata": {
        "id": "qojvTTT-lKSU",
        "colab": {
          "base_uri": "https://localhost:8080/"
        },
        "outputId": "24d356f1-0b89-4a1b-b75d-9f971e9245a7"
      },
      "source": [
        "# 整数割り算\r\n",
        "!ghc -e '17 `div` 3' #=> 5\r\n",
        "!ghc -e '17 `mod` 3' #=> 2\r\n",
        "!ghc -e ':t (%)' #=> error not in scope\r\n",
        "!ghc -e ':t mod' #=> mod :: Integral a => a -> a -> a\r\n",
        "!ghc -e '12/3' #=> 4.0\r\n",
        "!ghc -e '12/3::Int' #=> error No instance for (Fractional Int) arising from a use of ‘/’"
      ],
      "execution_count": null,
      "outputs": [
        {
          "output_type": "stream",
          "text": [
            "5\n",
            "2\n",
            "\n",
            "<interactive>:1:1: error: Variable not in scope: %\n",
            "mod :: Integral a => a -> a -> a\n",
            "4.0\n",
            "\n",
            "<interactive>:0:1: error:\n",
            "    • No instance for (Fractional Int) arising from a use of ‘/’\n",
            "    • In the expression: 12 / 3 :: Int\n",
            "      In an equation for ‘it’: it = 12 / 3 :: Int\n"
          ],
          "name": "stdout"
        }
      ]
    },
    {
      "cell_type": "code",
      "metadata": {
        "id": "UAYqD3CJ-_Zh",
        "colab": {
          "base_uri": "https://localhost:8080/"
        },
        "outputId": "58ad3619-f2b8-49f4-ea7a-4a36183e2440"
      },
      "source": [
        "# Int8 とか\r\n",
        "!ghc -e 'minBound::Data.Int.Int8' #=> -128\r\n",
        "!ghc -e 'minBound::Data.Int.Int16' \r\n",
        "!ghc -e 'minBound::Data.Int.Int32' \r\n",
        "!ghc -e 'minBound::Data.Int.Int64' \r\n",
        "!ghc -e '1234::Word' \r\n",
        "!ghc -e 'minBound::Data.Word.Word8'\r\n",
        "!ghc -e 'maxBound::Data.Word.Word8'\r\n",
        "!ghc -e 'maxBound::Data.Word.Word16'\r\n",
        "!ghc -e 'maxBound::Data.Word.Word32'\r\n",
        "!ghc -e 'maxBound::Data.Word.Word64'"
      ],
      "execution_count": null,
      "outputs": [
        {
          "output_type": "stream",
          "text": [
            "-128\n",
            "-32768\n",
            "-2147483648\n",
            "-9223372036854775808\n",
            "1234\n",
            "0\n",
            "255\n",
            "65535\n",
            "4294967295\n",
            "18446744073709551615\n"
          ],
          "name": "stdout"
        }
      ]
    },
    {
      "cell_type": "code",
      "metadata": {
        "id": "qBd2bBg0AYV1",
        "colab": {
          "base_uri": "https://localhost:8080/"
        },
        "outputId": "497ce0bd-d1d0-4fa2-d6ee-3d7032d7c3a7"
      },
      "source": [
        "# Bool\r\n",
        "!ghc -e 'True::Bool'\r\n",
        "!ghc -e 'not False'\r\n",
        "!ghc -e 'False && True'\r\n",
        "!ghc -e 'False || True'\r\n",
        "!ghc -e '1 /= 1'\r\n",
        "!ghc -e '(1::Int) == (1::Word)' #=> error Couldn't match expected type ‘Int’ with actual type ‘Word’"
      ],
      "execution_count": null,
      "outputs": [
        {
          "output_type": "stream",
          "text": [
            "True\n",
            "True\n",
            "False\n",
            "True\n",
            "False\n",
            "\n",
            "<interactive>:0:14: error:\n",
            "    • Couldn't match expected type ‘Int’ with actual type ‘Word’\n",
            "    • In the second argument of ‘(==)’, namely ‘(1 :: Word)’\n",
            "      In the expression: (1 :: Int) == (1 :: Word)\n",
            "      In an equation for ‘it’: it = (1 :: Int) == (1 :: Word)\n"
          ],
          "name": "stdout"
        }
      ]
    },
    {
      "cell_type": "code",
      "metadata": {
        "id": "4vkVka9TDXdC",
        "colab": {
          "base_uri": "https://localhost:8080/"
        },
        "outputId": "9d3105be-2b48-4b13-d9fa-ce0a454807e6"
      },
      "source": [
        "# Char と 2バイト文字\r\n",
        "!ghc -e \"' '::Char\" #=> ' '\r\n",
        "!ghc -e \"'\\32'::Char\" #=> ' '\r\n",
        "!ghc -e \"'あ'::Char\" #=> '\\12354'\r\n",
        "!ghc -e \"'\\n'::Char\" #=> '\\n'\r\n",
        "!ghc -e \"'\\98'::Char\" #=> 'b'\r\n",
        "!ghc -e \"'\\x41'::Char\" #=> 'A'\r\n",
        "!ghc -e \"'\\65'::Char\" #=> 'A'\r\n",
        "!ghc -e \"'\\^['::Char\" #=> '\\ESC'\r\n",
        "!ghc -e \"'\\ESC'::Char\" #=> '\\ESC'"
      ],
      "execution_count": null,
      "outputs": [
        {
          "output_type": "stream",
          "text": [
            "' '\n",
            "' '\n",
            "'\\12354'\n",
            "'\\n'\n",
            "'b'\n",
            "'A'\n",
            "'A'\n",
            "'\\ESC'\n",
            "'\\ESC'\n"
          ],
          "name": "stdout"
        }
      ]
    },
    {
      "cell_type": "code",
      "metadata": {
        "id": "wdOdF6rdGMYY",
        "colab": {
          "base_uri": "https://localhost:8080/"
        },
        "outputId": "b7a8510d-4382-4d0d-e8af-41e366eec800"
      },
      "source": [
        "# 文字列\r\n",
        "!ghc -e '\"あいうえお\"' #=> \"\\12354\\12356\\12358\\12360\\12362\"\r\n",
        "!ghc -e '\"あいうえお\"::String' #=> \"\\12354\\12356\\12358\\12360\\12362\"\r\n",
        "!ghc -e '\"a\\98c\"::String' #=> \"abc\""
      ],
      "execution_count": null,
      "outputs": [
        {
          "output_type": "stream",
          "text": [
            "\"\\12354\\12356\\12358\\12360\\12362\"\n",
            "\"\\12354\\12356\\12358\\12360\\12362\"\n",
            "\"abc\"\n"
          ],
          "name": "stdout"
        }
      ]
    },
    {
      "cell_type": "code",
      "metadata": {
        "colab": {
          "base_uri": "https://localhost:8080/"
        },
        "id": "4nEEJqe6Gv8S",
        "outputId": "fc0653de-4f7a-4524-81a2-3b59ec803571"
      },
      "source": [
        "# クオートとダブルクオート\r\n",
        "!ghc -e \":t 'a'\" #=> 'a' :: Char\r\n",
        "!ghc -e ':t \"a\"' #=> 'a' :: [Char]\r\n",
        "!ghc -e $':t \\'a\\'' #=> 'a' :: Char\r\n",
        "!ghc -e ':t \"a\"' #=> 'a' :: [Char]"
      ],
      "execution_count": null,
      "outputs": [
        {
          "output_type": "stream",
          "text": [
            "'a' :: Char\n",
            "\"a\" :: [Char]\n",
            "'a' :: Char\n",
            "\"a\" :: [Char]\n"
          ],
          "name": "stdout"
        }
      ]
    },
    {
      "cell_type": "code",
      "metadata": {
        "colab": {
          "base_uri": "https://localhost:8080/"
        },
        "id": "48WxFCBhL3HO",
        "outputId": "082fa024-f1db-48d2-f596-01be8cd3127e"
      },
      "source": [
        "# リスト用の関数が使えるが効率がよくないので、ByteStringやTextを使う必要がるとか\r\n",
        "!ghc -e 'head \"ABC\"' #=> 'A'\r\n",
        "!ghc -e 'head \"あいう\"' #=> '\\12354'\r\n",
        "!ghc -e 'length \"ABC\"' #=> 3\r\n",
        "!ghc -e 'map fromEnum \"ABC\"' #=> [65,66,67]\r\n",
        "!ghc -e $'fromEnum \\'A\\'' #=> 65\r\n",
        "!ghc -e \"fromEnum 'A'\" #=> 65\r\n",
        "!ghc -e \"fromEnum 'あ'\" #=> 12354\r\n",
        "!ghc -e \"fromEnum ' '\" #=> 32"
      ],
      "execution_count": null,
      "outputs": [
        {
          "output_type": "stream",
          "text": [
            "'A'\n",
            "'\\12354'\n",
            "3\n",
            "[65,66,67]\n",
            "65\n",
            "65\n",
            "12354\n",
            "32\n"
          ],
          "name": "stdout"
        }
      ]
    },
    {
      "cell_type": "code",
      "metadata": {
        "colab": {
          "base_uri": "https://localhost:8080/"
        },
        "id": "vjiOEdFkNagK",
        "outputId": "4a848167-d32b-45a3-e280-366c31501c4c"
      },
      "source": [
        "# show でできること\r\n",
        "!ghc -e 'show 32' #=> \"32\"\r\n",
        "!ghc -e 'show \"あ\"' #=> \"\\\"\\\\12354\\\"\"\r\n",
        "!ghc -e 'show \"abc\"' #=> \"\\\"abc\\\"\"\r\n",
        "!ghc -e 'show [1,2,3]' #=> \"[1,2,3]\"\r\n",
        "!ghc -e 'show (1e5::Double)' #=> \"100000.0\"\r\n",
        "!ghc -e 'show NaN' #=> error: Data constructor not in scope: NaN :: ()\r\n",
        "!ghc -e 'show (0/0)' #=> \"NaN\"\r\n",
        "!ghc -e 'show (3.141592653589793e+100::Float)' #=> \"Infinity\""
      ],
      "execution_count": null,
      "outputs": [
        {
          "output_type": "stream",
          "text": [
            "\"32\"\n",
            "\"\\\"\\\\12354\\\"\"\n",
            "\"\\\"abc\\\"\"\n",
            "\"[1,2,3]\"\n",
            "\"100000.0\"\n",
            "\n",
            "<interactive>:0:6: error: Data constructor not in scope: NaN :: ()\n",
            "\"NaN\"\n",
            "\"Infinity\"\n"
          ],
          "name": "stdout"
        }
      ]
    },
    {
      "cell_type": "code",
      "metadata": {
        "id": "NOPdhGCJVnaG",
        "colab": {
          "base_uri": "https://localhost:8080/"
        },
        "outputId": "57ae0b29-da8e-458a-ef28-4b88a3a63764"
      },
      "source": [
        "# \\& 文字の切れ目\r\n",
        "!ghc -e '\"a\\x62c\"' #=> \\x62 と c の間に切れ目が必要\r\n",
        "!ghc -e '\"a\\x62\\&c\"' #=> \\& は 空文字列 \"\" を表す\r\n",
        "!ghc -e '\"\\&\"' #=> \"\"\r\n",
        "!ghc -e \"'\\x62'\" #=> 'b'\r\n",
        "!ghc -e \"'\\&'\" #=> error: lexical error in string/character literal at character '&'"
      ],
      "execution_count": null,
      "outputs": [
        {
          "output_type": "stream",
          "text": [
            "\"a\\1580\"\n",
            "\"abc\"\n",
            "\"\"\n",
            "'b'\n",
            "\n",
            "<interactive>:0:3: error:\n",
            "    lexical error in string/character literal at character '&'\n"
          ],
          "name": "stdout"
        }
      ]
    },
    {
      "cell_type": "code",
      "metadata": {
        "id": "16ZvO9aDOpbb",
        "colab": {
          "base_uri": "https://localhost:8080/"
        },
        "outputId": "177e0197-85dd-484e-a9f2-3789e902635b"
      },
      "source": [
        "# 1個以上の改行や空白文字を \\ で囲むと、空文字列 \"\" として扱われる。\r\n",
        "# これを利用して長い文字列を複数行に分けて入れられる、とか。\r\n",
        "# しかし、これは ghci 上の話だね!!!!\r\n",
        "# ターミナルのコマンドライン上で echo などで長い文字列を扱う方法はあるか。\r\n",
        "!ghc -e '\"a\\   \\b\\   \\c\"' #=> \"abc\""
      ],
      "execution_count": null,
      "outputs": [
        {
          "output_type": "stream",
          "text": [
            "\"abc\"\n"
          ],
          "name": "stdout"
        }
      ]
    },
    {
      "cell_type": "code",
      "metadata": {
        "id": "_V9TBNsCQXSU"
      },
      "source": [
        "# 実験 ターミナルのコマンドライン上での改行\r\n",
        "# echo \"one\r\n",
        "# two\"\r\n",
        "# と本来は書ける。入力も出力も複数行になる。colabのコードセルではダメ。なるほど。"
      ],
      "execution_count": null,
      "outputs": []
    },
    {
      "cell_type": "code",
      "metadata": {
        "colab": {
          "base_uri": "https://localhost:8080/"
        },
        "id": "Nt_xpLlPSfQ9",
        "outputId": "d23db79e-ee72-4d67-da80-ba1eea2ee3bd"
      },
      "source": [
        "# ユニット型\r\n",
        "!ghc -e '()'\r\n",
        "!ghc -e '()::()'\r\n",
        "!ghc -e ':t ()'\r\n",
        "!ghc -e 'isNaN (()::())' #=> error\r\n",
        "!ghc -e 'isNaN (0/0)'\r\n",
        "!ghc -e ':t isNaN'\r\n",
        "!ghc -e ':t putStrLn'\r\n",
        "!ghc -e 'putStrLn \"Hello\" :: IO ()'"
      ],
      "execution_count": null,
      "outputs": [
        {
          "output_type": "stream",
          "text": [
            "()\n",
            "()\n",
            "() :: ()\n",
            "\n",
            "<interactive>:0:1: error:\n",
            "    • No instance for (RealFloat ()) arising from a use of ‘isNaN’\n",
            "    • In the expression: isNaN (() :: ())\n",
            "      In an equation for ‘it’: it = isNaN (() :: ())\n",
            "True\n",
            "isNaN :: RealFloat a => a -> Bool\n",
            "putStrLn :: String -> IO ()\n",
            "Hello\n"
          ],
          "name": "stdout"
        }
      ]
    },
    {
      "cell_type": "code",
      "metadata": {
        "id": "s5Qu-7RNYXZ1",
        "colab": {
          "base_uri": "https://localhost:8080/"
        },
        "outputId": "e335b42d-77f3-4792-d58c-dc3307d99724"
      },
      "source": [
        "# return は IO アクションを生成する\r\n",
        "!ghc -e ':t return' #=> return :: Monad m => a -> m a\r\n",
        "!ghc -e 'return 1 :: IO Int'\r\n",
        "!ghc -e 'return () :: IO ()'\r\n",
        "!ghc -e 'return \"hello\" :: IO String'\r\n",
        "!ghc -e 'return \"はい\" :: IO String'"
      ],
      "execution_count": null,
      "outputs": [
        {
          "output_type": "stream",
          "text": [
            "return :: Monad m => a -> m a\n",
            "1\n",
            "\"hello\"\n",
            "\"\\12399\\12356\"\n"
          ],
          "name": "stdout"
        }
      ]
    },
    {
      "cell_type": "code",
      "metadata": {
        "id": "GhIzn1z0ZQyr",
        "colab": {
          "base_uri": "https://localhost:8080/"
        },
        "outputId": "32046eff-9834-4a19-fcf3-e387c9c35cee"
      },
      "source": [
        "# ボトム _|_ \r\n",
        "# undefined, error がボトムで x=x (無限) もボトム\r\n",
        "!ghc -e ':t undefined'\r\n",
        "!ghc -e ':t error'\r\n",
        "!ghc -e ':t error \"some error\"'\r\n",
        "!ghc -e ':t (let x=x in x)'\r\n",
        "!echo\r\n",
        "!ghc -e ':t undefined::Int'\r\n",
        "!ghc -e ':t (error \"some error\")::Int'\r\n",
        "!ghc -e ':t (let x=x in x)::Int'"
      ],
      "execution_count": null,
      "outputs": [
        {
          "output_type": "stream",
          "text": [
            "undefined :: a\n",
            "error :: [Char] -> a\n",
            "error \"some error\" :: a\n",
            "(let x=x in x) :: t\n",
            "\n",
            "undefined::Int :: Int\n",
            "(error \"some error\")::Int :: Int\n",
            "(let x=x in x)::Int :: Int\n"
          ],
          "name": "stdout"
        }
      ]
    },
    {
      "cell_type": "code",
      "metadata": {
        "id": "hnJnnnaebM6n",
        "colab": {
          "base_uri": "https://localhost:8080/"
        },
        "outputId": "b8c04bf6-f57f-4ba8-d923-105e1778a3c1"
      },
      "source": [
        "# ボトムを評価するとエラーになる\r\n",
        "!ghc -e 'undefined::Int'"
      ],
      "execution_count": null,
      "outputs": [
        {
          "output_type": "stream",
          "text": [
            "<interactive>: Prelude.undefined\n",
            "CallStack (from HasCallStack):\n",
            "  error, called at libraries/base/GHC/Err.hs:79:14 in base:GHC.Err\n",
            "  undefined, called at <interactive>:0:1 in interactive:Ghci1\n"
          ],
          "name": "stdout"
        }
      ]
    },
    {
      "cell_type": "code",
      "metadata": {
        "id": "IE8vBD3Obdq6",
        "colab": {
          "base_uri": "https://localhost:8080/"
        },
        "outputId": "44ed495c-3bd3-4513-c86c-b921afd3c62f"
      },
      "source": [
        "!ghc -e 'error \"some error\"'"
      ],
      "execution_count": null,
      "outputs": [
        {
          "output_type": "stream",
          "text": [
            "<interactive>: some error\n",
            "CallStack (from HasCallStack):\n",
            "  error, called at <interactive>:0:1 in interactive:Ghci1\n"
          ],
          "name": "stdout"
        }
      ]
    },
    {
      "cell_type": "code",
      "metadata": {
        "id": "qEFVFTa8i5Hc"
      },
      "source": [
        "# ボトムの使いどころ\r\n",
        "# 型だけ決めておいて、実装をあとで行いたい場合\r\n",
        "# checkTypes :: Term -> Type -> Bool\r\n",
        "# checkTypes = undefined\r\n",
        "# python の def : pass, class : pass に相当か\r\n",
        "# もう一つは error を吐きたいとき\r\n",
        "# if else error \"BUG!!!! y waz 0\"\r\n",
        "# とか。"
      ],
      "execution_count": null,
      "outputs": []
    },
    {
      "cell_type": "code",
      "metadata": {
        "id": "bcdHwTRHjKk7"
      },
      "source": [
        "!ghc -e 'let checkTypes = undefined'"
      ],
      "execution_count": null,
      "outputs": []
    },
    {
      "cell_type": "code",
      "metadata": {
        "id": "jK9kKx8skMpB",
        "colab": {
          "base_uri": "https://localhost:8080/"
        },
        "outputId": "f3c07abe-9fae-4391-b785-b7d004f9f943"
      },
      "source": [
        "# main の中で裸の変数を使えるか => 使えない。let が必要。\r\n",
        "# 逆に main の外で let は使えない。\r\n",
        "# where の中でも let は使えず、変数は裸で使う。\r\n",
        "%%writefile test.hs\r\n",
        "main = do\r\n",
        "   let x = 20\r\n",
        "   let y = 30\r\n",
        "   print (x+y)"
      ],
      "execution_count": null,
      "outputs": [
        {
          "output_type": "stream",
          "text": [
            "Writing test.hs\n"
          ],
          "name": "stdout"
        }
      ]
    },
    {
      "cell_type": "code",
      "metadata": {
        "id": "lkYRoUGrkbz4",
        "colab": {
          "base_uri": "https://localhost:8080/"
        },
        "outputId": "54850c33-d464-4f84-875f-9bf846e7c2b7"
      },
      "source": [
        "!runghc test.hs"
      ],
      "execution_count": null,
      "outputs": [
        {
          "output_type": "stream",
          "text": [
            "50\n"
          ],
          "name": "stdout"
        }
      ]
    },
    {
      "cell_type": "code",
      "metadata": {
        "id": "V6Q47jlplUrU",
        "colab": {
          "base_uri": "https://localhost:8080/"
        },
        "outputId": "1554623c-18d5-4fd7-cb5f-b186bb314fc2"
      },
      "source": [
        "# ということは do なしで\r\n",
        "!ghc -e 'let {x=20; y=30;} in print (x+y)'\r\n",
        "# とするのが正しいのかも"
      ],
      "execution_count": null,
      "outputs": [
        {
          "output_type": "stream",
          "text": [
            "50\n"
          ],
          "name": "stdout"
        }
      ]
    },
    {
      "cell_type": "code",
      "metadata": {
        "id": "WdOKGSR4l62-",
        "colab": {
          "base_uri": "https://localhost:8080/"
        },
        "outputId": "48fd25e9-61a2-4333-b562-d5aa10dc6679"
      },
      "source": [
        "# where は使えるか\r\n",
        "!ghc -e 'print (x+y) where {x=10;y=20})' #=> error: parse error on input ‘where’\r\n",
        "!echo\r\n",
        "# 次の例では使えている\r\n",
        "!echo $'85 1.90' | ghc -e $'getContents >>= let{bmiTell::(RealFloat a)=>a->a->String; bmiTell weight height |weight/height^2<=18.5=\"Emo!\"|weight/height^2<=25.0=\"Normal!\"|weight/height^2<=30.0=\"Fat!\"| otherwise = \"A whale\" where bmi = weight / height ^ 2 ;} in print.(\\[x, y] -> bmiTell x y).map (read::String->Float).words.concat.lines'\r\n",
        "!echo $'100 1.10' | ghc -e $'getContents >>= let{bmiTell::(RealFloat a)=>a->a->String; bmiTell weight height |weight/height^2<=18.5=\"Emo!\"|weight/height^2<=25.0=\"Normal!\"|weight/height^2<=30.0=\"Fat!\"| otherwise = \"A whale\" where bmi = weight / height ^ 2 ;} in print.(\\[x, y] -> bmiTell x y).map (read::String->Float).words.concat.lines'\r\n",
        "!echo $'50 1.70' | ghc -e $'getContents >>= let{bmiTell::(RealFloat a)=>a->a->String; bmiTell weight height |weight/height^2<=18.5=\"Emo!\"|weight/height^2<=25.0=\"Normal!\"|weight/height^2<=30.0=\"Fat!\"| otherwise = \"A whale\" where bmi = weight / height ^ 2 ;} in print.(\\[x, y] -> bmiTell x y).map (read::String->Float).words.concat.lines'\r\n",
        "!echo\r\n",
        "# 単純化する\r\n",
        "!ghc -e 'let {sayOk = sayOk02 where {sayOk02 = \"Ok\"}} in sayOk' \r\n",
        "# 今の理解。where は関数ではなく syntactic sugar なのでそれを理解して使う。 \r\n",
        "# 使えるところしか使えない。 使えるところでは便利。 \r\n",
        "# まずは let で書いて、let の中で使うのがいいのではないか。\r\n",
        "# do とか。 パターンマッチングによる関数定義、とか。も便利だがそれなりの理解が大切と思う。"
      ],
      "execution_count": null,
      "outputs": [
        {
          "output_type": "stream",
          "text": [
            "\n",
            "<interactive>:0:13: error: parse error on input ‘where’\n",
            "\n",
            "\"Normal!\"\n",
            "\"A whale\"\n",
            "\"Emo!\"\n",
            "\n",
            "\"Ok\"\n"
          ],
          "name": "stdout"
        }
      ]
    },
    {
      "cell_type": "code",
      "metadata": {
        "id": "65TUegL9FdkC",
        "colab": {
          "base_uri": "https://localhost:8080/"
        },
        "outputId": "5456101d-9385-4a94-acf2-0c8dd989bb7e"
      },
      "source": [
        "# let\r\n",
        "!ghci -e 'let {x=10;y=20} in x+y' #=> 30\r\n",
        "!ghci -e '(let {x=10;y=20} in x+y) + (let x = 100 in x)' #=> 130\r\n",
        "!ghci -e 'let x = 10 in let y = 20 in x + y' #=> 30\r\n",
        "!ghci -e 'let {z=x+y;x=10;y=30} in z' #=> 40\r\n",
        "!ghci -e 'let {z=x+y where {x=10;y=40}} in z' #=> 50"
      ],
      "execution_count": null,
      "outputs": [
        {
          "output_type": "stream",
          "text": [
            "30\n",
            "130\n",
            "30\n",
            "40\n",
            "50\n"
          ],
          "name": "stdout"
        }
      ]
    },
    {
      "cell_type": "code",
      "metadata": {
        "id": "1Zq1uIEuunlj",
        "colab": {
          "base_uri": "https://localhost:8080/"
        },
        "outputId": "d02a98b8-441b-46b9-ebfa-29248f7d72db"
      },
      "source": [
        "# 関数の定義\r\n",
        "!ghc -e 'let {incr n = n+1::Int} in incr 1'\r\n",
        "!ghc -e 'let {incr n = (n+1::Int)} in incr 2'\r\n",
        "!ghc -e 'let {incr n = (n+1::Int)} in incr (3)'\r\n",
        "!ghc -e 'let {incr n = (n+1::Int)} in incr' # incr の型は Int -> Int ということがエラーメッセージでわかる\r\n",
        "!ghc -e 'let {add x y  = (x + y :: Int)} in add' # add の型は Int -> Int -> Int\r\n",
        "!ghc -e ':t (+)' #=> (+) :: Num a => a -> a -> a"
      ],
      "execution_count": null,
      "outputs": [
        {
          "output_type": "stream",
          "text": [
            "2\n",
            "3\n",
            "4\n",
            "\n",
            "<interactive>:0:1: error:\n",
            "    • No instance for (Show (Int -> Int)) arising from a use of ‘print’\n",
            "        (maybe you haven't applied a function to enough arguments?)\n",
            "    • In a stmt of an interactive GHCi command: print it\n",
            "\n",
            "<interactive>:0:1: error:\n",
            "    • No instance for (Show (Int -> Int -> Int))\n",
            "        arising from a use of ‘print’\n",
            "        (maybe you haven't applied a function to enough arguments?)\n",
            "    • In a stmt of an interactive GHCi command: print it\n",
            "(+) :: Num a => a -> a -> a\n"
          ],
          "name": "stdout"
        }
      ]
    },
    {
      "cell_type": "code",
      "metadata": {
        "id": "aDhl_x6BzzP0",
        "colab": {
          "base_uri": "https://localhost:8080/"
        },
        "outputId": "f967d062-7a42-4c41-eeb1-bf8888a27180"
      },
      "source": [
        "# ラムダ式 無名関数 は \\ と -> を使う\r\n",
        "!ghc -e '(\\n -> n + 1 :: Int ) 10' #=> 11\r\n",
        "!ghc -e ':t \\n -> n + 1 :: Int' #=> \\n -> n + 1 :: Int :: Int -> Int\r\n",
        "!ghc -e 'let{incr = \\n -> n + 1 :: Int} in incr 12' #=> 13\r\n",
        "!ghc -e 'let{add = \\m n -> m + n :: Int} in add 3 4' #=> 7\r\n",
        "# カリー化\r\n",
        "!ghc -e 'let{add = \\m -> \\n ->  m + n :: Int} in add 3 4' #=> 7"
      ],
      "execution_count": null,
      "outputs": [
        {
          "output_type": "stream",
          "text": [
            "11\n",
            "\\n -> n + 1 :: Int :: Int -> Int\n",
            "13\n",
            "7\n",
            "7\n"
          ],
          "name": "stdout"
        }
      ]
    },
    {
      "cell_type": "code",
      "metadata": {
        "colab": {
          "base_uri": "https://localhost:8080/"
        },
        "id": "8ZM5kbTHzh3d",
        "outputId": "05abaf38-408a-4250-a3a7-8cf786870c49"
      },
      "source": [
        "# break\r\n",
        "!ghc -e ':t break' #=> break :: (a -> Bool) -> [a] -> ([a], [a])\r\n",
        "!ghc -e $'break (\\\\n -> n == \\'c\\') \"abcdef\"' #=> (\"ab\", \"cdef\")"
      ],
      "execution_count": null,
      "outputs": [
        {
          "output_type": "stream",
          "text": [
            "break :: (a -> Bool) -> [a] -> ([a], [a])\n",
            "(\"ab\",\"cdef\")\n"
          ],
          "name": "stdout"
        }
      ]
    },
    {
      "cell_type": "code",
      "metadata": {
        "colab": {
          "base_uri": "https://localhost:8080/"
        },
        "id": "l29cN68I0e4e",
        "outputId": "c3f0df65-d241-4c28-92be-70c108d12eb2"
      },
      "source": [
        "# 合成関数\r\n",
        "!ghc -e ':t (.)' #=> (.) :: (b -> c) -> (a -> b) -> a -> c\r\n",
        "!ghc -e 'let {f x = x^2; g x = x+1} in (f . g) 3' #=> 16\r\n",
        "!ghc -e 'let {f x = x^2; g x = x+1; twofunc = f.g} in twofunc 3' #=> 16"
      ],
      "execution_count": null,
      "outputs": [
        {
          "output_type": "stream",
          "text": [
            "(.) :: (b -> c) -> (a -> b) -> a -> c\n",
            "16\n",
            "16\n"
          ],
          "name": "stdout"
        }
      ]
    },
    {
      "cell_type": "code",
      "metadata": {
        "colab": {
          "base_uri": "https://localhost:8080/"
        },
        "id": "W8aPrcoF1hZy",
        "outputId": "9fa39647-151f-4cd6-841d-9ef006eeefa5"
      },
      "source": [
        "# 冪乗\r\n",
        "!ghc -e '(** 5.5) 2' #=> 45.254833995939045\r\n",
        "!ghc -e ':t (**)' #=> (**) :: Floating a => a -> a -> a\r\n",
        "!ghc -e ':t (^)' #=> (^) :: (Num a, Integral b) => a -> b -> a\r\n",
        "!ghc -e 'let {h = (+2).(**4)} in h 2' #=> 18.0\r\n",
        "# 関数合成による定義はポイント(変数)を使わないという意味でポイントフリースタイルと呼びます。\r\n",
        "# A common misconception is that the 'points' of pointfree style are \r\n",
        "# the (.) operator (function composition, as an ASCII symbol), \r\n",
        "# which uses the same identifier as the decimal point. This is wrong. \r\n",
        "# The term originated in topology, a branch of mathematics which works with spaces composed of points, \r\n",
        "# and functions between those spaces. So a 'points-free' definition of a function is \r\n",
        "# one which does not explicitly mention the points (values) of the space on which the function acts.\r\n",
        "# In Haskell, our 'space' is some type, and 'points' are values. \r\n",
        "# https://wiki.haskell.org/Pointfree#But_pointfree_has_more_points.21"
      ],
      "execution_count": null,
      "outputs": [
        {
          "output_type": "stream",
          "text": [
            "45.254833995939045\n",
            "(**) :: Floating a => a -> a -> a\n",
            "(^) :: (Num a, Integral b) => a -> b -> a\n",
            "18.0\n"
          ],
          "name": "stdout"
        }
      ]
    },
    {
      "cell_type": "code",
      "metadata": {
        "id": "9ZoImaW59S0J",
        "colab": {
          "base_uri": "https://localhost:8080/"
        },
        "outputId": "85c2241d-f41c-47f4-982a-c125a35e59c5"
      },
      "source": [
        "# 実験\r\n",
        "!ghc -e '(\\x y -> (x + 2) * (y + 3)) 3 4' #=> 35\r\n",
        "!ghc -e '((. (3 +)) . (*) . (2 + )) 3 4' #=> 35\r\n",
        "# これはポイントフリーを多用するとわかりにくくなる、という例 p.44 だが、変数 2つを同時に処理できるのか!!!!\r\n",
        "# まるで APL の fork みたいではないか。 絶対使いみちある、と思う。"
      ],
      "execution_count": null,
      "outputs": [
        {
          "output_type": "stream",
          "text": [
            "35\n",
            "35\n"
          ],
          "name": "stdout"
        }
      ]
    },
    {
      "cell_type": "code",
      "metadata": {
        "id": "s9BVHumdCQud",
        "colab": {
          "base_uri": "https://localhost:8080/"
        },
        "outputId": "c9ca07d7-f935-4d98-be84-d620c5d52811"
      },
      "source": [
        "# 実験\r\n",
        "!ghc -e '((+) 1) 2' #= 3\r\n",
        "!ghc -e '((+) 1) (let {x=10;y=20} in x+y)' #=> 31\r\n",
        "# 上の文で $ が使えるか => 使えた\r\n",
        "!ghc -e '((+) 1) $ let {x=10;y=20} in x+y' #=> 31\r\n",
        "# 次のはどうか => 使えた\r\n",
        "!ghc -e $'flip break \"abcdef\" $ \\\\n -> n==\\'c\\'' #=> (\"ab\", \"cdef\")"
      ],
      "execution_count": null,
      "outputs": [
        {
          "output_type": "stream",
          "text": [
            "3\n",
            "31\n",
            "31\n",
            "(\"ab\",\"cdef\")\n"
          ],
          "name": "stdout"
        }
      ]
    },
    {
      "cell_type": "code",
      "metadata": {
        "id": "uXXsxeBzDzgq",
        "colab": {
          "base_uri": "https://localhost:8080/"
        },
        "outputId": "edcee1f9-b303-4e85-8f77-c6c12e1c03b3"
      },
      "source": [
        "# $ の連結と合成関数\r\n",
        "!ghc -e '(+) 1 $ (+) 2 $ (+) 3 $ 4' #=> 10\r\n",
        "!ghc -e '((+) 1). ((+) 2) . ((+) 3) $ 4' #=> 10\r\n",
        "# 私には後者、ポイントフリースタイルの方がわかりやすいが、この例ではあまり差がないし、両方すなおにわかるのがよい。"
      ],
      "execution_count": null,
      "outputs": [
        {
          "output_type": "stream",
          "text": [
            "10\n",
            "10\n"
          ],
          "name": "stdout"
        }
      ]
    },
    {
      "cell_type": "code",
      "metadata": {
        "colab": {
          "base_uri": "https://localhost:8080/"
        },
        "id": "lViha4wQ0ZLg",
        "outputId": "94af7f3d-87e9-4233-e156-77257df00708"
      },
      "source": [
        "# 遅延評価と if 文の選ばれなかった方が評価されないことは違うと思うのだが\r\n",
        "# テキストには次の例が載っている\r\n",
        "!ghc -e 'let{hf::Int->Int;hf x =1}in print (hf (0 `div` 0))' #=> 1\r\n",
        "!ghc -e 'fst (1, undefined)' #=> 1"
      ],
      "execution_count": null,
      "outputs": [
        {
          "output_type": "stream",
          "text": [
            "1\n",
            "1\n"
          ],
          "name": "stdout"
        }
      ]
    },
    {
      "cell_type": "code",
      "metadata": {
        "colab": {
          "base_uri": "https://localhost:8080/"
        },
        "id": "uQvzsg24HS2d",
        "outputId": "d68309c8-7201-44c6-f526-c242584f6def"
      },
      "source": [
        "# seq を使う\r\n",
        "!ghc -e 'let{hf::Int->Int;hf x = seq x 1} in print (hf(0 `div` 0))' #=> <interactive>: divide by zero\r\n",
        "# ! を使う\r\n",
        "!ghc -e 'let{hf::Int->Int;hf x =1}in print (hf $! (0 `div` 0))' #=>  <interactive>: divide by zero"
      ],
      "execution_count": null,
      "outputs": [
        {
          "output_type": "stream",
          "text": [
            "<interactive>: divide by zero\n",
            "<interactive>: divide by zero\n"
          ],
          "name": "stdout"
        }
      ]
    },
    {
      "cell_type": "code",
      "metadata": {
        "colab": {
          "base_uri": "https://localhost:8080/"
        },
        "id": "q1CkHaf8IwXU",
        "outputId": "1422dba3-3424-4036-dd33-799e96d8a33a"
      },
      "source": [
        "# :set -XBangPatterns -- BangPattern を有効にする\r\n",
        "# というような拡張機能はどうやって使うのか\r\n",
        "# 実験\r\n",
        "!ghc -XBangPatterns -e 'let { hf !x =  1} in print (hf (0 `div` 0))' #=> <interactive>: divide by zero\r\n",
        "# -XStrict では全部先行評価になって、~ をつけた変数だけ遅延評価になる\r\n",
        "!ghc -XStrict -e 'let { f x =  1; g ~x = 1} in print (f $ (0 `div` 0))' #=> <interactive>: divide by zero\r\n",
        "!ghc -XStrict -e 'let { f x =  1; g ~x = 1} in print (g $ (0 `div` 0))' #=> 1"
      ],
      "execution_count": null,
      "outputs": [
        {
          "output_type": "stream",
          "text": [
            "<interactive>: divide by zero\n",
            "<interactive>: divide by zero\n",
            "1\n"
          ],
          "name": "stdout"
        }
      ]
    },
    {
      "cell_type": "code",
      "metadata": {
        "colab": {
          "base_uri": "https://localhost:8080/"
        },
        "id": "IEKuhXKQYiKU",
        "outputId": "919b8a03-f058-4d6e-a68d-d5a272a9c833"
      },
      "source": [
        "# 中置演算子 infix operator\r\n",
        "!ghc -e '\"has\" `Data.List.isPrefixOf` \"haskell\"' #=> True"
      ],
      "execution_count": null,
      "outputs": [
        {
          "output_type": "stream",
          "text": [
            "True\n"
          ],
          "name": "stdout"
        }
      ]
    },
    {
      "cell_type": "code",
      "metadata": {
        "colab": {
          "base_uri": "https://localhost:8080/"
        },
        "id": "sTPVAY02Y8N0",
        "outputId": "5b70c581-242f-4060-e730-c770f2193240"
      },
      "source": [
        "# セクション 中置演算子の使い方\r\n",
        "!ghc -e '(2 ^) 10' #=> 1024\r\n",
        "!ghc -e '(^ 2) 10' #=> 100\r\n",
        "!ghc -e '(2 -) 10' #=> -8\r\n",
        "!ghc -e '(subtract 2) 10' #=> 8 \r\n",
        "# subtract a b = b - a で定義されている"
      ],
      "execution_count": null,
      "outputs": [
        {
          "output_type": "stream",
          "text": [
            "1024\n",
            "100\n",
            "-8\n",
            "8\n"
          ],
          "name": "stdout"
        }
      ]
    },
    {
      "cell_type": "code",
      "metadata": {
        "colab": {
          "base_uri": "https://localhost:8080/"
        },
        "id": "NGtv20dWaGpm",
        "outputId": "6f82344d-b256-43a1-921a-f35bd6a170f3"
      },
      "source": [
        "# 実験\r\n",
        "!ghc -e '(`Data.List.isPrefixOf` \"haskell\") \"has\"' #=> True"
      ],
      "execution_count": null,
      "outputs": [
        {
          "output_type": "stream",
          "text": [
            "True\n"
          ],
          "name": "stdout"
        }
      ]
    },
    {
      "cell_type": "code",
      "metadata": {
        "colab": {
          "base_uri": "https://localhost:8080/"
        },
        "id": "MBlLu3VqbSUK",
        "outputId": "0c44f1c5-2c05-41fb-d4d9-2021f9dd05a5"
      },
      "source": [
        "# main と do 式\r\n",
        "# 標準入力から太郎と入れて、太郎さん、こんにちは!!!!と標準出力に出す\r\n",
        "%%writefile test.hs\r\n",
        "main = getContents >>= putStrLn . (\\n -> n ++ \"さん、こんにちは!!!!\") . head . words"
      ],
      "execution_count": null,
      "outputs": [
        {
          "output_type": "stream",
          "text": [
            "Overwriting test.hs\n"
          ],
          "name": "stdout"
        }
      ]
    },
    {
      "cell_type": "code",
      "metadata": {
        "colab": {
          "base_uri": "https://localhost:8080/"
        },
        "id": "DI69-uopcB24",
        "outputId": "cea56b69-6583-406c-a1f5-00c2d0121549"
      },
      "source": [
        "!echo \"太郎\" |runghc test.hs"
      ],
      "execution_count": null,
      "outputs": [
        {
          "output_type": "stream",
          "text": [
            "太郎さん、こんにちは!!!!\n"
          ],
          "name": "stdout"
        }
      ]
    },
    {
      "cell_type": "code",
      "metadata": {
        "colab": {
          "base_uri": "https://localhost:8080/"
        },
        "id": "EuxufZmTci6b",
        "outputId": "4f4166c3-4f42-4251-eb0c-2faa483f2516"
      },
      "source": [
        "# main と do 式\r\n",
        "# 標準入力から太郎と入れて、太郎さん、こんにちは!!!!と標準出力に出す\r\n",
        "%%writefile test.hs\r\n",
        "main = do\r\n",
        "    text <- getContents\r\n",
        "    let text2 = head(words(text))\r\n",
        "    let text3 = text2 ++ \"さん、こんばんは!\"\r\n",
        "    putStrLn text3"
      ],
      "execution_count": null,
      "outputs": [
        {
          "output_type": "stream",
          "text": [
            "Overwriting test.hs\n"
          ],
          "name": "stdout"
        }
      ]
    },
    {
      "cell_type": "code",
      "metadata": {
        "colab": {
          "base_uri": "https://localhost:8080/"
        },
        "id": "jfd4b4uwc3X6",
        "outputId": "81e3a056-87da-4b6d-b2af-e24290fffc41"
      },
      "source": [
        "!echo \"太郎\" |runghc test.hs"
      ],
      "execution_count": null,
      "outputs": [
        {
          "output_type": "stream",
          "text": [
            "太郎さん、こんばんは!\n"
          ],
          "name": "stdout"
        }
      ]
    },
    {
      "cell_type": "code",
      "metadata": {
        "colab": {
          "base_uri": "https://localhost:8080/"
        },
        "id": "I1x6BJbwdXO-",
        "outputId": "d49c9157-85e9-493a-ac72-e44faa78993b"
      },
      "source": [
        "# main と do 式\r\n",
        "# 標準入力から太郎と入れて、太郎さん、こんにちは!!!!と標準出力に出す\r\n",
        "%%writefile test.hs\r\n",
        "main = do\r\n",
        "    text <- getContents\r\n",
        "    putStrLn $ head(words(text)) ++ \"さん、おはよう!\""
      ],
      "execution_count": null,
      "outputs": [
        {
          "output_type": "stream",
          "text": [
            "Overwriting test.hs\n"
          ],
          "name": "stdout"
        }
      ]
    },
    {
      "cell_type": "code",
      "metadata": {
        "colab": {
          "base_uri": "https://localhost:8080/"
        },
        "id": "4qaTQOnFdU9n",
        "outputId": "f194ec16-872c-4947-c689-6631710bd1de"
      },
      "source": [
        "!echo \"太郎\" |runghc test.hs"
      ],
      "execution_count": null,
      "outputs": [
        {
          "output_type": "stream",
          "text": [
            "太郎さん、おはよう!\n"
          ],
          "name": "stdout"
        }
      ]
    },
    {
      "cell_type": "code",
      "metadata": {
        "id": "bkRIU0b9e8i4",
        "colab": {
          "base_uri": "https://localhost:8080/"
        },
        "outputId": "f3ad5407-2efd-4a69-e2a7-ee9c13831c5b"
      },
      "source": [
        "# System.Environment\r\n",
        "%%writefile test.hs\r\n",
        "import System.Environment\r\n",
        "\r\n",
        "main = do\r\n",
        "    let title = \"Current Python: \"\r\n",
        "    envname <- getEnv \"CLOUDSDK_PYTHON\"\r\n",
        "    putStr title\r\n",
        "    putStrLn envname"
      ],
      "execution_count": null,
      "outputs": [
        {
          "output_type": "stream",
          "text": [
            "Overwriting test.hs\n"
          ],
          "name": "stdout"
        }
      ]
    },
    {
      "cell_type": "code",
      "metadata": {
        "colab": {
          "base_uri": "https://localhost:8080/"
        },
        "id": "lUFyFuItfbP_",
        "outputId": "22f84452-90c2-45c0-8590-3d1e97270da4"
      },
      "source": [
        "!runghc test.hs"
      ],
      "execution_count": null,
      "outputs": [
        {
          "output_type": "stream",
          "text": [
            "Current Python: python3\n"
          ],
          "name": "stdout"
        }
      ]
    },
    {
      "cell_type": "code",
      "metadata": {
        "id": "u5Qs3h6Sfmn9",
        "colab": {
          "base_uri": "https://localhost:8080/"
        },
        "outputId": "95829f05-8000-439e-eac9-0e2bcd96e0dd"
      },
      "source": [
        "# 環境変数をリストする => printenv, env, set\r\n",
        "!printenv"
      ],
      "execution_count": null,
      "outputs": [
        {
          "output_type": "stream",
          "text": [
            "CUDNN_VERSION=7.6.5.32\n",
            "LD_LIBRARY_PATH=/usr/local/nvidia/lib:/usr/local/nvidia/lib64\n",
            "CLOUDSDK_PYTHON=python3\n",
            "LANG=en_US.UTF-8\n",
            "HOSTNAME=34103df085ef\n",
            "OLDPWD=/\n",
            "CLOUDSDK_CONFIG=/content/.config\n",
            "NVIDIA_VISIBLE_DEVICES=all\n",
            "DATALAB_SETTINGS_OVERRIDES={\"kernelManagerProxyPort\":6000,\"kernelManagerProxyHost\":\"172.28.0.3\",\"jupyterArgs\":[\"--ip=\\\"172.28.0.2\\\"\"],\"debugAdapterMultiplexerPath\":\"/usr/local/bin/dap_multiplexer\"}\n",
            "ENV=/root/.bashrc\n",
            "PAGER=cat\n",
            "NCCL_VERSION=2.8.3\n",
            "TF_FORCE_GPU_ALLOW_GROWTH=true\n",
            "JPY_PARENT_PID=47\n",
            "NO_GCE_CHECK=True\n",
            "PWD=/content\n",
            "HOME=/root\n",
            "LAST_FORCED_REBUILD=202102019\n",
            "CLICOLOR=1\n",
            "DEBIAN_FRONTEND=noninteractive\n",
            "LIBRARY_PATH=/usr/local/cuda/lib64/stubs\n",
            "GCE_METADATA_TIMEOUT=0\n",
            "GLIBCPP_FORCE_NEW=1\n",
            "TBE_CREDS_ADDR=172.28.0.1:8008\n",
            "TERM=xterm-color\n",
            "SHELL=/bin/bash\n",
            "GCS_READ_CACHE_BLOCK_SIZE_MB=16\n",
            "PYTHONWARNINGS=ignore:::pip._internal.cli.base_command\n",
            "MPLBACKEND=module://ipykernel.pylab.backend_inline\n",
            "CUDA_PKG_VERSION=10-1=10.1.243-1\n",
            "CUDA_VERSION=10.1.243\n",
            "NVIDIA_DRIVER_CAPABILITIES=compute,utility\n",
            "SHLVL=1\n",
            "PYTHONPATH=/env/python\n",
            "NVIDIA_REQUIRE_CUDA=cuda>=10.1 brand=tesla,driver>=396,driver<397 brand=tesla,driver>=410,driver<411 brand=tesla,driver>=418,driver<419\n",
            "COLAB_GPU=0\n",
            "GLIBCXX_FORCE_NEW=1\n",
            "PATH=/usr/local/nvidia/bin:/usr/local/cuda/bin:/usr/local/sbin:/usr/local/bin:/usr/sbin:/usr/bin:/sbin:/bin:/tools/node/bin:/tools/google-cloud-sdk/bin:/opt/bin\n",
            "LD_PRELOAD=/usr/lib/x86_64-linux-gnu/libtcmalloc.so.4\n",
            "GIT_PAGER=cat\n",
            "_=/usr/bin/printenv\n"
          ],
          "name": "stdout"
        }
      ]
    },
    {
      "cell_type": "code",
      "metadata": {
        "id": "ZJ2QKZZ3jEGG",
        "colab": {
          "base_uri": "https://localhost:8080/"
        },
        "outputId": "94fee21c-7a89-45c4-c44d-091464f16ccb"
      },
      "source": [
        "# p.54 の例\r\n",
        "# 正直悪い例だと思う。 というか do が特殊なので本の全体の始めの段階で込み入った例を出すのはよくない。\r\n",
        "# putY が出力がないのは IO ではなく、評価がされていないからではないのか。\r\n",
        "# main へ紐付ける、とは何を言いたいのか。 評価されて IO が云々。\r\n",
        "%%writefile test.hs\r\n",
        "import Control.Monad\r\n",
        "putW, putX :: IO ()\r\n",
        "putW = putStrLn \"W\"\r\n",
        "putX = putStrLn \"X\"\r\n",
        "\r\n",
        "makePutY, makePutZ :: IO (IO ())\r\n",
        "makePutY = return $ putStrLn \"Y\"\r\n",
        "makePutZ = return $ putStrLn \"Z\"\r\n",
        "\r\n",
        "main :: IO ()\r\n",
        "main = do\r\n",
        "  let w = putW\r\n",
        "      x = putX\r\n",
        "\r\n",
        "  w -- Wが表示される。\r\n",
        "\r\n",
        "  putY <- makePutY -- 生成したYを表示するI/OアクションputYをmainへ紐付けていないので、Yは表示されない\r\n",
        "  \r\n",
        "  putZ <- makePutZ\r\n",
        "  putZ -- 生成したI/OアクションputZをmainへ紐付けると、Zが表示される\r\n",
        "  \r\n",
        "  Control.Monad.join makePutY -- Control.Monad.join :: Monad m => m (m a) -> m a"
      ],
      "execution_count": null,
      "outputs": [
        {
          "output_type": "stream",
          "text": [
            "Overwriting test.hs\n"
          ],
          "name": "stdout"
        }
      ]
    },
    {
      "cell_type": "code",
      "metadata": {
        "id": "dax-ErVXl_cA",
        "colab": {
          "base_uri": "https://localhost:8080/"
        },
        "outputId": "798db3af-9916-4149-9b12-aa5c3ea0119a"
      },
      "source": [
        "!runghc test.hs"
      ],
      "execution_count": null,
      "outputs": [
        {
          "output_type": "stream",
          "text": [
            "W\n",
            "Z\n",
            "Y\n"
          ],
          "name": "stdout"
        }
      ]
    },
    {
      "cell_type": "code",
      "metadata": {
        "id": "GxzdQR34q6_t",
        "colab": {
          "base_uri": "https://localhost:8080/"
        },
        "outputId": "1e7333ae-9f33-4f7f-c443-b549a92e2b17"
      },
      "source": [
        "!ghc -e ':t Control.Monad.join'"
      ],
      "execution_count": null,
      "outputs": [
        {
          "output_type": "stream",
          "text": [
            "Control.Monad.join :: Monad m => m (m a) -> m a\n"
          ],
          "name": "stdout"
        }
      ]
    },
    {
      "cell_type": "code",
      "metadata": {
        "id": "cDjrMN_9KIBO",
        "colab": {
          "base_uri": "https://localhost:8080/"
        },
        "outputId": "97a7de13-6625-4605-f968-aa3a04a4cae9"
      },
      "source": [
        "# Debug.Trace\r\n",
        "!ghc -e 'const (Debug.Trace.trace \"Evaluate 1\" 1) (Debug.Trace.trace \"Evaluate 2\" 2)'\r\n",
        "!ghc -e ':t const'\r\n",
        "!ghc -e 'const 1 2'"
      ],
      "execution_count": null,
      "outputs": [
        {
          "output_type": "stream",
          "text": [
            "Evaluate 1\n",
            "1\n",
            "const :: a -> b -> a\n",
            "1\n"
          ],
          "name": "stdout"
        }
      ]
    },
    {
      "cell_type": "code",
      "metadata": {
        "id": "bvcTJwgQLHDD",
        "colab": {
          "base_uri": "https://localhost:8080/"
        },
        "outputId": "d3ee7ac4-4c8e-48dd-985d-0c9eaa3adbe8"
      },
      "source": [
        "# p.56\r\n",
        "# Haskell のプログラムでは if 式よりもパターンマッチやガードが多用されます、\r\n",
        "# とあるが、むしろ if や case を多用したい。なぜなら、関数だから。\r\n",
        "# わかりやすい方を選ぼう。\r\n",
        "!ghc -e 'let checkAgen n = if n < 30 then \"Young\" else \"Adult\" in checkAgen 30'\r\n",
        "# echo で標準入力から年齢を入力し、Young か Adult を出力する\r\n",
        "!echo '20' |ghc -e 'getContents >>= print.(read::String->Int).concat.words'\r\n",
        "!echo '20' |ghc -e 'getContents >>= putStrLn.(\\n -> if n < 30 then \"Young\" else \"Adult\").(read::String->Int).concat.words'\r\n",
        "!echo '50' |ghc -e 'getContents >>= putStrLn.(\\n -> if n < 30 then \"Young\" else \"Adult\").(read::String->Int).concat.words'"
      ],
      "execution_count": null,
      "outputs": [
        {
          "output_type": "stream",
          "text": [
            "\"Adult\"\n",
            "20\n",
            "Young\n",
            "Adult\n"
          ],
          "name": "stdout"
        }
      ]
    },
    {
      "cell_type": "code",
      "metadata": {
        "id": "Bq0LMBelN8JU",
        "colab": {
          "base_uri": "https://localhost:8080/"
        },
        "outputId": "a31a3161-ecc2-496d-8daf-91973f789456"
      },
      "source": [
        "# パターンマッチ\r\n",
        "!ghc -e 'let {x=False::Bool} in case x of {True -> \"x is True\"; False -> \"x is False\"}'"
      ],
      "execution_count": null,
      "outputs": [
        {
          "output_type": "stream",
          "text": [
            "\"x is False\"\n"
          ],
          "name": "stdout"
        }
      ]
    },
    {
      "cell_type": "code",
      "metadata": {
        "id": "DRtDBjJnbgJw",
        "colab": {
          "base_uri": "https://localhost:8080/"
        },
        "outputId": "e7134fc4-5276-4003-a155-0729119eee05"
      },
      "source": [
        "# 変数パターン\r\n",
        "!ghc -e $'let {x=4} in case x of {1 -> \"1st\"; 2->\"2nd\";3->\"3rd\";x\\'-> show x\\' ++ \"th\"}'"
      ],
      "execution_count": null,
      "outputs": [
        {
          "output_type": "stream",
          "text": [
            "\"4th\"\n"
          ],
          "name": "stdout"
        }
      ]
    },
    {
      "cell_type": "code",
      "metadata": {
        "id": "a3XJ2f8LnaHC",
        "colab": {
          "base_uri": "https://localhost:8080/"
        },
        "outputId": "e8e48512-cbe3-46ab-c226-9b3bc17e51c4"
      },
      "source": [
        "# ワイルドカードパターン\r\n",
        "%%writefile test.hs\r\n",
        "main =\r\n",
        "  getContents\r\n",
        "    >>= print\r\n",
        "      . (\\[x, y] -> f x y)\r\n",
        "      . map (read :: String -> Bool)\r\n",
        "      . words\r\n",
        "\r\n",
        "f x y = case (x, y) of\r\n",
        "  (True, False) -> False\r\n",
        "  (_, _) -> True"
      ],
      "execution_count": null,
      "outputs": [
        {
          "output_type": "stream",
          "text": [
            "Overwriting test.hs\n"
          ],
          "name": "stdout"
        }
      ]
    },
    {
      "cell_type": "code",
      "metadata": {
        "id": "IsJz5ktBb9b3",
        "colab": {
          "base_uri": "https://localhost:8080/"
        },
        "outputId": "525db893-ca3f-4fc1-b65e-ef78a1e1ed89"
      },
      "source": [
        "# 変数パターンを標準入力対応のプログラムに書き換える\r\n",
        "%%writefile test.hs\r\n",
        "main = getContents >>= putStrLn . ordinal . (read :: String -> Int) . concat . words\r\n",
        "\r\n",
        "ordinal x = case x of\r\n",
        "  1 -> \"1st\"\r\n",
        "  2 -> \"2nd\"\r\n",
        "  3 -> \"3rd\"\r\n",
        "  x' -> show x' ++ \"th\"\r\n"
      ],
      "execution_count": null,
      "outputs": [
        {
          "output_type": "stream",
          "text": [
            "Overwriting test.hs\n"
          ],
          "name": "stdout"
        }
      ]
    },
    {
      "cell_type": "code",
      "metadata": {
        "id": "SpX97PPbdD2g",
        "colab": {
          "base_uri": "https://localhost:8080/"
        },
        "outputId": "435fd63b-593f-43b4-bd19-f2e7debe5f02"
      },
      "source": [
        "!echo '1' | runghc test.hs\r\n",
        "!echo '2' | runghc test.hs\r\n",
        "!echo '3' | runghc test.hs\r\n",
        "!echo '4' | runghc test.hs"
      ],
      "execution_count": null,
      "outputs": [
        {
          "output_type": "stream",
          "text": [
            "1st\n",
            "2nd\n",
            "3rd\n",
            "4th\n"
          ],
          "name": "stdout"
        }
      ]
    },
    {
      "cell_type": "code",
      "metadata": {
        "id": "enzyQv94d5ui",
        "colab": {
          "base_uri": "https://localhost:8080/"
        },
        "outputId": "243e22a9-8eed-403e-a6b3-a6f45a77c06b"
      },
      "source": [
        "# ワイルドカードパターン\r\n",
        "%%writefile test.hs\r\n",
        "main = getContents >>= print . myDiv . (\\[x, y] -> (x, y)) . map (read::String->Int) . words\r\n",
        "\r\n",
        "myDiv x = case x of (0, 0) -> 1 :: Int\r\n",
        "                    (_, 0) -> maxBound\r\n",
        "                    (n, m) -> n `div` m"
      ],
      "execution_count": null,
      "outputs": [
        {
          "output_type": "stream",
          "text": [
            "Overwriting test.hs\n"
          ],
          "name": "stdout"
        }
      ]
    },
    {
      "cell_type": "code",
      "metadata": {
        "id": "HwJXvjXHmIPk",
        "colab": {
          "base_uri": "https://localhost:8080/"
        },
        "outputId": "0742ef8a-096d-418c-ce43-c9f08cb0ba36"
      },
      "source": [
        "!echo \"100 10\" |runghc test.hs\r\n",
        "!echo \"100 0\" |runghc test.hs\r\n",
        "!echo \"0 0\" |runghc test.hs"
      ],
      "execution_count": null,
      "outputs": [
        {
          "output_type": "stream",
          "text": [
            "10\n",
            "9223372036854775807\n",
            "1\n"
          ],
          "name": "stdout"
        }
      ]
    },
    {
      "cell_type": "code",
      "metadata": {
        "id": "GXdG3qSVnbO7",
        "colab": {
          "base_uri": "https://localhost:8080/"
        },
        "outputId": "f253b48d-5e43-4d2a-e810-f91b1b1ca077"
      },
      "source": [
        "!echo \"True True\" |runghc test.hs\r\n",
        "!echo \"False True\" |runghc test.hs\r\n",
        "!echo \"True False\" |runghc test.hs"
      ],
      "execution_count": null,
      "outputs": [
        {
          "output_type": "stream",
          "text": [
            "test.hs: Prelude.read: no parse\n",
            "test.hs: Prelude.read: no parse\n",
            "test.hs: Prelude.read: no parse\n"
          ],
          "name": "stdout"
        }
      ]
    },
    {
      "cell_type": "code",
      "metadata": {
        "colab": {
          "base_uri": "https://localhost:8080/"
        },
        "id": "M4foZJYWDWLR",
        "outputId": "6cfcc626-1ec9-40da-c4a1-c44952073a80"
      },
      "source": [
        "# アズパターン @\r\n",
        "# p.58\r\n",
        "# input を Int Int Bool としよう。それをまず (x, y) Bool に変える\r\n",
        "%%writefile test.hs\r\n",
        "main =\r\n",
        "  getContents\r\n",
        "    >>= print\r\n",
        "      . (\\[x, y, z] -> (((read::String->Int) x , (read::String->Int)y), (read::String->Bool) z))\r\n",
        "      . words"
      ],
      "execution_count": null,
      "outputs": [
        {
          "output_type": "stream",
          "text": [
            "Overwriting test.hs\n"
          ],
          "name": "stdout"
        }
      ]
    },
    {
      "cell_type": "code",
      "metadata": {
        "colab": {
          "base_uri": "https://localhost:8080/"
        },
        "id": "YqUstIHUERuZ",
        "outputId": "214bf56f-afbc-4864-d221-e95da58247f1"
      },
      "source": [
        "!echo '5 2 False'|runghc test.hs"
      ],
      "execution_count": null,
      "outputs": [
        {
          "output_type": "stream",
          "text": [
            "((5,2),False)\n"
          ],
          "name": "stdout"
        }
      ]
    },
    {
      "cell_type": "code",
      "metadata": {
        "colab": {
          "base_uri": "https://localhost:8080/"
        },
        "id": "t7LGZ-NGGUct",
        "outputId": "bb77e8c6-854d-409c-9ad0-fdcde6a2b181"
      },
      "source": [
        "# アズパターン @\r\n",
        "# p.58\r\n",
        "# 次に divOrMyDivで処理する\r\n",
        "%%writefile test.hs\r\n",
        "main =\r\n",
        "  getContents\r\n",
        "    >>= print\r\n",
        "      . divOrMyDiv\r\n",
        "      . (\\[x, y, z] -> (((read :: String -> Int) x, (read :: String -> Int) y), (read :: String -> Bool) z))\r\n",
        "      . words\r\n",
        "\r\n",
        "divOrMyDiv x =\r\n",
        "  case x of\r\n",
        "    (x0@(_, 0), True) -> myDiv x0\r\n",
        "    ((n, m), _)       -> n `div` m\r\n",
        "\r\n",
        "myDiv x = case x of\r\n",
        "  (0, 0) -> 1 :: Int\r\n",
        "  (_, 0) -> maxBound\r\n",
        "  (n, m) -> n `div` m"
      ],
      "execution_count": null,
      "outputs": [
        {
          "output_type": "stream",
          "text": [
            "Overwriting test.hs\n"
          ],
          "name": "stdout"
        }
      ]
    },
    {
      "cell_type": "code",
      "metadata": {
        "colab": {
          "base_uri": "https://localhost:8080/"
        },
        "id": "VnN3vbdjIGKK",
        "outputId": "4de64208-a449-4107-be3e-9b048c9aeab2"
      },
      "source": [
        "!echo '5 2 False'|runghc test.hs\r\n",
        "!echo '0 0  False'|runghc test.hs\r\n",
        "!echo '0 0 True'|runghc test.hs"
      ],
      "execution_count": null,
      "outputs": [
        {
          "output_type": "stream",
          "text": [
            "2\n",
            "test.hs: divide by zero\n",
            "1\n"
          ],
          "name": "stdout"
        }
      ]
    },
    {
      "cell_type": "code",
      "metadata": {
        "colab": {
          "base_uri": "https://localhost:8080/"
        },
        "id": "HhgC_LGUIrgA",
        "outputId": "4f748def-5048-4427-f44a-398488701c95"
      },
      "source": [
        "# 反駁不可能パターン irrefutable pattern, lazy pattern\r\n",
        "# よくわからない\r\n",
        "!ghc -e 'case undefined of (_,_) -> True' #=> error\r\n",
        "!ghc -e 'case undefined of ~(_,_) -> True' #=> True パターンマッチしていない?"
      ],
      "execution_count": null,
      "outputs": [
        {
          "output_type": "stream",
          "text": [
            "<interactive>: Prelude.undefined\n",
            "CallStack (from HasCallStack):\n",
            "  error, called at libraries/base/GHC/Err.hs:79:14 in base:GHC.Err\n",
            "  undefined, called at <interactive>:0:1 in interactive:Ghci1\n",
            "True\n"
          ],
          "name": "stdout"
        }
      ]
    },
    {
      "cell_type": "code",
      "metadata": {
        "colab": {
          "base_uri": "https://localhost:8080/"
        },
        "id": "KGqj0VxpJ_bc",
        "outputId": "69efc897-4817-4b4d-ec1b-ceab3b0ce12f"
      },
      "source": [
        "# 反駁不可能パターン 次の例もよくわからない\r\n",
        "# p.59\r\n",
        "%%writefile test.hs\r\n",
        "main =\r\n",
        "  getContents\r\n",
        "    >>= print\r\n",
        "      . h\r\n",
        "      . (\\[x, y] -> ((read :: String -> Int) x, (read :: String -> Int) y))\r\n",
        "      . words\r\n",
        "\r\n",
        "h x =\r\n",
        "  case x of\r\n",
        "    ~(x, 0) -> x\r\n",
        "    (_, y)  -> y"
      ],
      "execution_count": null,
      "outputs": [
        {
          "output_type": "stream",
          "text": [
            "Overwriting test.hs\n"
          ],
          "name": "stdout"
        }
      ]
    },
    {
      "cell_type": "code",
      "metadata": {
        "colab": {
          "base_uri": "https://localhost:8080/"
        },
        "id": "A9To22WIKiTT",
        "outputId": "7e8dde30-d89d-4434-cc62-9fddef56bf2e"
      },
      "source": [
        "!echo '1 0' |runghc test.hs\r\n",
        "!echo '1 1' |runghc test.hs"
      ],
      "execution_count": null,
      "outputs": [
        {
          "output_type": "stream",
          "text": [
            "\n",
            "test.hs:11:5: warning: [-Woverlapping-patterns]\n",
            "    Pattern match is redundant\n",
            "    In a case alternative: (_, y) -> ...\n",
            "1\n",
            "\n",
            "test.hs:11:5: warning: [-Woverlapping-patterns]\n",
            "    Pattern match is redundant\n",
            "    In a case alternative: (_, y) -> ...\n",
            "test.hs: test.hs:(9,3)-(11,16): Irrefutable pattern failed for pattern (x, 0)\n",
            "\n"
          ],
          "name": "stdout"
        }
      ]
    },
    {
      "cell_type": "code",
      "metadata": {
        "id": "AWZjEs9yLhbY"
      },
      "source": [
        "# 反駁不可能パターンはマッチすることがわかっている値について評価を遅らせるのに使える\r\n",
        "# p.59\r\n",
        "# 次の式で heavyPred 関数が結果を返すまでにかなりの時間がかかるとする\r\n",
        "# f n = if heavyPred n then Just n else Nothing\r\n",
        "# heavyPred 10000 が True であることが確実ならば直接 Just n にマッチさせる\r\n",
        "# case f 10000 of Just n -> n #=> 10000\r\n",
        "# しかしこれでは n をあとから使わない場合でも処理に時間がかかる\r\n",
        "# ここで反駁不可能パターンを使うと即座に結果が表示される\r\n",
        "# case f 10000 of ~(Just n) -> 0 #=> 0\r\n",
        "# やってみたいが適当な時間のかかる heavyPread n がどこかでみつかったらやってみる"
      ],
      "execution_count": null,
      "outputs": []
    },
    {
      "cell_type": "code",
      "metadata": {
        "colab": {
          "base_uri": "https://localhost:8080/"
        },
        "id": "Lkv7GmyFNRYT",
        "outputId": "cdc621d4-2c06-44ab-88f4-5bc6ebc81c20"
      },
      "source": [
        "# コンストラクトパターン\r\n",
        "# パターンマッチにはデータ型からここの値を取り出すフィールドへのアクセサーとしての側面もある\r\n",
        "!ghc -e 'let {x = (1,\"one\")} in case x of (x1, x2) -> print x2' #=> \"one\"\r\n",
        "!ghc -e 'let {y = (1,10)} in case y of (y1, y2) -> (y1+y2)' #=> 11"
      ],
      "execution_count": null,
      "outputs": [
        {
          "output_type": "stream",
          "text": [
            "\"one\"\n",
            "11\n"
          ],
          "name": "stdout"
        }
      ]
    },
    {
      "cell_type": "code",
      "metadata": {
        "id": "tByNpMHjVuSG",
        "colab": {
          "base_uri": "https://localhost:8080/"
        },
        "outputId": "971d75f2-a197-48df-9850-acd867517d96"
      },
      "source": [
        "# ガード節\r\n",
        "# p.61\r\n",
        "%%writefile test.hs\r\n",
        "main =\r\n",
        "  getContents\r\n",
        "    >>= f\r\n",
        "      . (read::String -> Int)\r\n",
        "      . concat\r\n",
        "      . words\r\n",
        "\r\n",
        "f x = case x of n | n `mod` 2 == 0 -> putStrLn \"even\"\r\n",
        "                  | otherwise -> putStrLn \"odd\""
      ],
      "execution_count": null,
      "outputs": [
        {
          "output_type": "stream",
          "text": [
            "Overwriting test.hs\n"
          ],
          "name": "stdout"
        }
      ]
    },
    {
      "cell_type": "code",
      "metadata": {
        "id": "3GKiaFm6V_rO",
        "colab": {
          "base_uri": "https://localhost:8080/"
        },
        "outputId": "675a596a-61ad-4f55-c300-d0403a9c6e7a"
      },
      "source": [
        "!echo '10' | runghc test.hs\r\n",
        "!echo '11' | runghc test.hs"
      ],
      "execution_count": null,
      "outputs": [
        {
          "output_type": "stream",
          "text": [
            "even\n",
            "odd\n"
          ],
          "name": "stdout"
        }
      ]
    },
    {
      "cell_type": "code",
      "metadata": {
        "id": "txP6Q9CvYgI4",
        "colab": {
          "base_uri": "https://localhost:8080/"
        },
        "outputId": "19a357b1-7e50-48ab-b1d5-5e75da5e58a6"
      },
      "source": [
        "# 上を書き直せるか\r\n",
        "# ガードを使わない => if または case にする\r\n",
        "%%writefile test.hs\r\n",
        "main =\r\n",
        "  getContents\r\n",
        "    >>= putStrLn\r\n",
        "      . f\r\n",
        "      . (read :: String -> Int)\r\n",
        "      . concat\r\n",
        "      . words\r\n",
        "\r\n",
        "-- f x = if x `mod` 2 == 0 then \"even\" else \"odd\"\r\n",
        "f x = case (x `mod` 2 == 0) of\r\n",
        "  True -> \"even\"\r\n",
        "  _ -> \"odd\""
      ],
      "execution_count": null,
      "outputs": [
        {
          "output_type": "stream",
          "text": [
            "Overwriting test.hs\n"
          ],
          "name": "stdout"
        }
      ]
    },
    {
      "cell_type": "code",
      "metadata": {
        "id": "yqBcAIrCYg9Q",
        "colab": {
          "base_uri": "https://localhost:8080/"
        },
        "outputId": "fe1b9694-b4a0-49c9-9fa5-a14fc5499356"
      },
      "source": [
        "!echo '10' | runghc test.hs\r\n",
        "!echo '11' | runghc test.hs"
      ],
      "execution_count": null,
      "outputs": [
        {
          "output_type": "stream",
          "text": [
            "even\n",
            "odd\n"
          ],
          "name": "stdout"
        }
      ]
    },
    {
      "cell_type": "code",
      "metadata": {
        "colab": {
          "base_uri": "https://localhost:8080/"
        },
        "id": "PFXxnFrOOSoJ",
        "outputId": "739321c3-0673-48ab-a5c0-507e2df7f746"
      },
      "source": [
        "# p.61 2つめの例\r\n",
        "%%writefile test.hs\r\n",
        "main =\r\n",
        "  getContents\r\n",
        "    >>= print\r\n",
        "      . f\r\n",
        "      . (\\[x, y] -> ((read::String->Int) x, (read::String->Bool) y))\r\n",
        "      . words\r\n",
        "\r\n",
        "f x = case x of (x1, True) | x1 `mod` 2 == 0 -> x1 `div` 2\r\n",
        "                (x1, _)    | x1 `mod` 2 == 0 -> x1\r\n",
        "                           | otherwise       -> x1 - 1"
      ],
      "execution_count": null,
      "outputs": [
        {
          "output_type": "stream",
          "text": [
            "Overwriting test.hs\n"
          ],
          "name": "stdout"
        }
      ]
    },
    {
      "cell_type": "code",
      "metadata": {
        "colab": {
          "base_uri": "https://localhost:8080/"
        },
        "id": "AOZJcFh2UqkU",
        "outputId": "79fe66f1-89b7-4619-cf76-3ea818d2aed0"
      },
      "source": [
        "!echo '10 True' |runghc test.hs\r\n",
        "!echo '11 True' |runghc test.hs\r\n",
        "!echo '10 False' |runghc test.hs"
      ],
      "execution_count": null,
      "outputs": [
        {
          "output_type": "stream",
          "text": [
            "5\n",
            "10\n",
            "10\n"
          ],
          "name": "stdout"
        }
      ]
    },
    {
      "cell_type": "code",
      "metadata": {
        "colab": {
          "base_uri": "https://localhost:8080/"
        },
        "id": "tjub-OWuVggC",
        "outputId": "a51a5242-ffdd-40d7-cfa6-3bce7200c6cd"
      },
      "source": [
        "# p.61 3つめの例 ガードの中で <- を使う\r\n",
        "# divMod という標準関数を使っている\r\n",
        "%%writefile test.hs\r\n",
        "main =\r\n",
        "  getContents\r\n",
        "    >>= print\r\n",
        "      . f\r\n",
        "      . (\\[x, y] -> ((read :: String -> Int) x, (read :: String -> Bool) y))\r\n",
        "      . words\r\n",
        "\r\n",
        "f x = case x of\r\n",
        "  (x1, True) | (q, 0) <- x1 `divMod` 2 -> q\r\n",
        "  (x1, _)                           -> x1"
      ],
      "execution_count": null,
      "outputs": [
        {
          "output_type": "stream",
          "text": [
            "Overwriting test.hs\n"
          ],
          "name": "stdout"
        }
      ]
    },
    {
      "cell_type": "code",
      "metadata": {
        "colab": {
          "base_uri": "https://localhost:8080/"
        },
        "id": "wWdHpun5V_eF",
        "outputId": "cfc86d1e-8ebd-43b8-ed5e-3f20834fa6b6"
      },
      "source": [
        "!echo '10 True' |runghc test.hs\r\n",
        "!echo '11 True' |runghc test.hs\r\n",
        "!echo '10 False' |runghc test.hs"
      ],
      "execution_count": null,
      "outputs": [
        {
          "output_type": "stream",
          "text": [
            "5\n",
            "11\n",
            "10\n"
          ],
          "name": "stdout"
        }
      ]
    },
    {
      "cell_type": "code",
      "metadata": {
        "colab": {
          "base_uri": "https://localhost:8080/"
        },
        "id": "kmg5OI5thZny",
        "outputId": "ad0f7177-e423-4914-b155-36d83a2b2af9"
      },
      "source": [
        "# 関数定義におけるパターンマッチ\r\n",
        "# p. 62\r\n",
        "%%writefile test.hs\r\n",
        "main =\r\n",
        "  getContents\r\n",
        "    >>= print\r\n",
        "      . f\r\n",
        "      . (\\[x, y] -> ((read :: String -> Int) x, (read :: String -> Bool) y))\r\n",
        "      . words\r\n",
        "\r\n",
        "f (x1, True) | (q, 0) <- x1 `divMod` 2 = q\r\n",
        "f (x1, _)    = x1"
      ],
      "execution_count": null,
      "outputs": [
        {
          "output_type": "stream",
          "text": [
            "Overwriting test.hs\n"
          ],
          "name": "stdout"
        }
      ]
    },
    {
      "cell_type": "code",
      "metadata": {
        "colab": {
          "base_uri": "https://localhost:8080/"
        },
        "id": "vrllwuujhkG0",
        "outputId": "b5d85e94-512f-4dd0-a121-6f52af6e6513"
      },
      "source": [
        "!echo '11 True' |runghc test.hs"
      ],
      "execution_count": null,
      "outputs": [
        {
          "output_type": "stream",
          "text": [
            "11\n"
          ],
          "name": "stdout"
        }
      ]
    },
    {
      "cell_type": "code",
      "metadata": {
        "colab": {
          "base_uri": "https://localhost:8080/"
        },
        "id": "IisLC-RLiqru",
        "outputId": "d3b60004-d667-4827-9187-ef899af152cf"
      },
      "source": [
        "# p.62 2つめの例\r\n",
        "%%writefile test.hs\r\n",
        "main =\r\n",
        "  getContents\r\n",
        "    >>= putStrLn\r\n",
        "      . f\r\n",
        "      . (read :: String -> Int)\r\n",
        "      . concat\r\n",
        "      . words\r\n",
        "\r\n",
        "f n | n `mod` 2 == 0 = \"even\"\r\n",
        "    | otherwise =  \"odd\""
      ],
      "execution_count": null,
      "outputs": [
        {
          "output_type": "stream",
          "text": [
            "Overwriting test.hs\n"
          ],
          "name": "stdout"
        }
      ]
    },
    {
      "cell_type": "code",
      "metadata": {
        "colab": {
          "base_uri": "https://localhost:8080/"
        },
        "id": "GKhdFkIli84o",
        "outputId": "6c945816-e1d8-4cbc-8bcc-3b3f93827352"
      },
      "source": [
        "!echo '19' | runghc test.hs"
      ],
      "execution_count": null,
      "outputs": [
        {
          "output_type": "stream",
          "text": [
            "odd\n"
          ],
          "name": "stdout"
        }
      ]
    },
    {
      "cell_type": "code",
      "metadata": {
        "id": "fORMcTV7vP8m",
        "colab": {
          "base_uri": "https://localhost:8080/"
        },
        "outputId": "12c44eff-b08f-4b9a-b6b6-e7842da3a1b0"
      },
      "source": [
        "# ラムダ式にパターンマッチを使う\r\n",
        "%%writefile test.hs\r\n",
        "main =\r\n",
        "  getContents\r\n",
        "    >>= print\r\n",
        "      . (\\[x, y, z] -> ( f (((read::String->Int) x), ((read::String->Int) y)) ((read::String->Int) z)))\r\n",
        "      . words\r\n",
        "\r\n",
        "f = \\(x, y) z -> x + y + z"
      ],
      "execution_count": null,
      "outputs": [
        {
          "output_type": "stream",
          "text": [
            "Overwriting test.hs\n"
          ],
          "name": "stdout"
        }
      ]
    },
    {
      "cell_type": "code",
      "metadata": {
        "id": "PLvCs_nQva2f",
        "colab": {
          "base_uri": "https://localhost:8080/"
        },
        "outputId": "5f9a79e5-f170-418f-a38e-2661dcc29ed1"
      },
      "source": [
        "!echo '1 2 3' | runghc test.hs"
      ],
      "execution_count": null,
      "outputs": [
        {
          "output_type": "stream",
          "text": [
            "6\n"
          ],
          "name": "stdout"
        }
      ]
    },
    {
      "cell_type": "code",
      "metadata": {
        "id": "A-Jx2WTC2j8C",
        "colab": {
          "base_uri": "https://localhost:8080/"
        },
        "outputId": "34a3aec4-d183-4b57-c8b4-35cf12d61d95"
      },
      "source": [
        "# 変数定義におけるパターンマッチ\r\n",
        "!ghc -e 'let{(x, y) = 22 `divMod` 5} in print (x, y)' #=> (4,2)"
      ],
      "execution_count": null,
      "outputs": [
        {
          "output_type": "stream",
          "text": [
            "(4,2)\n"
          ],
          "name": "stdout"
        }
      ]
    },
    {
      "cell_type": "code",
      "metadata": {
        "id": "oufQqUMr3GuI",
        "colab": {
          "base_uri": "https://localhost:8080/"
        },
        "outputId": "30098a4b-cf74-4762-b79d-6c3e9f888326"
      },
      "source": [
        "# 変数定義におけるパターンマッチは反駁不可能パターンで変数が利用されるまで行われない、とか。\r\n",
        "!ghc -e 'let (x, y) = undefined in 1' #=> 1\r\n",
        "!ghc -e 'let f (x, y) = 1 in f undefined' #=> error\r\n",
        "!ghc -e 'let f ~(x, y) = 1 in f undefined' #=> 1"
      ],
      "execution_count": null,
      "outputs": [
        {
          "output_type": "stream",
          "text": [
            "1\n",
            "<interactive>: Prelude.undefined\n",
            "CallStack (from HasCallStack):\n",
            "  error, called at libraries/base/GHC/Err.hs:79:14 in base:GHC.Err\n",
            "  undefined, called at <interactive>:0:23 in interactive:Ghci1\n",
            "1\n"
          ],
          "name": "stdout"
        }
      ]
    },
    {
      "cell_type": "markdown",
      "metadata": {
        "id": "3zVWAQykPOtC"
      },
      "source": [
        "# しおり p.242 Vector"
      ]
    },
    {
      "cell_type": "code",
      "metadata": {
        "id": "1rW3Jyx_P5ye",
        "colab": {
          "base_uri": "https://localhost:8080/"
        },
        "outputId": "d081d7ab-7903-483b-d1c8-b7bfbce06f91"
      },
      "source": [
        "# 7.4 p.242 Vector\r\n",
        "# list は遅くて vector が速いとか。 ちょっと先を見てみる。\r\n",
        "%%writefile test.hs\r\n",
        "import qualified Data.Vector as V\r\n",
        "\r\n",
        "main = do\r\n",
        "  let animals = V.fromList [\"Dog\", \"Pig\", \"Cat\", \"Fox\", \"Mouse\", \"Cow\", \"Horse\"]\r\n",
        "  print (animals V.! 3)\r\n",
        "  -- print (animals V.! 999) => error\r\n",
        "  print (animals V.!? 5)\r\n",
        "  print (animals V.!? 999)"
      ],
      "execution_count": null,
      "outputs": [
        {
          "output_type": "stream",
          "text": [
            "Overwriting test.hs\n"
          ],
          "name": "stdout"
        }
      ]
    },
    {
      "cell_type": "code",
      "metadata": {
        "id": "yFFk2PtVQJnA",
        "colab": {
          "base_uri": "https://localhost:8080/"
        },
        "outputId": "3872bca8-7413-4fac-f353-ddc573397cf2"
      },
      "source": [
        "!runghc test.hs"
      ],
      "execution_count": null,
      "outputs": [
        {
          "output_type": "stream",
          "text": [
            "\"Fox\"\n",
            "Just \"Cow\"\n",
            "Nothing\n"
          ],
          "name": "stdout"
        }
      ]
    },
    {
      "cell_type": "code",
      "metadata": {
        "id": "8DhyBwyyuhOl",
        "colab": {
          "base_uri": "https://localhost:8080/"
        },
        "outputId": "64b84722-1315-4420-ca18-ae1abc2f854a"
      },
      "source": [
        "# Vectpr p.243\r\n",
        "%%writefile test.hs\r\n",
        "import qualified Data.Vector as V\r\n",
        "\r\n",
        "main = do\r\n",
        "  let animals = V.fromList [\"Dog\", \"Pig\", \"Cat\", \"Fox\", \"Mouse\", \"Cow\", \"Horse\"]\r\n",
        "  print . V.sum . V.map length $ animals"
      ],
      "execution_count": null,
      "outputs": [
        {
          "output_type": "stream",
          "text": [
            "Overwriting test.hs\n"
          ],
          "name": "stdout"
        }
      ]
    },
    {
      "cell_type": "code",
      "metadata": {
        "id": "J7zsVUHPuvmU",
        "colab": {
          "base_uri": "https://localhost:8080/"
        },
        "outputId": "6ac9f5a0-2212-4a81-b12d-44b0eca2a917"
      },
      "source": [
        "!runghc test.hs"
      ],
      "execution_count": null,
      "outputs": [
        {
          "output_type": "stream",
          "text": [
            "25\n"
          ],
          "name": "stdout"
        }
      ]
    },
    {
      "cell_type": "code",
      "metadata": {
        "id": "0gFXekj7WLyg",
        "colab": {
          "base_uri": "https://localhost:8080/"
        },
        "outputId": "7b1635bc-2736-42ac-84d8-b052bca08b4d"
      },
      "source": [
        "# p.64 リスト\r\n",
        "!ghc -e '[1..10]'\r\n",
        "!ghc -e '[1,3..10]'"
      ],
      "execution_count": null,
      "outputs": [
        {
          "output_type": "stream",
          "text": [
            "[1,2,3,4,5,6,7,8,9,10]\n",
            "[1,3,5,7,9]\n"
          ],
          "name": "stdout"
        }
      ]
    },
    {
      "cell_type": "code",
      "metadata": {
        "id": "JUu6wreeWacn",
        "colab": {
          "base_uri": "https://localhost:8080/"
        },
        "outputId": "284d0d07-87a5-4e4f-a741-133a37d63728"
      },
      "source": [
        "!ghc -e '[1,3..]!!10000' #=> 20001\r\n",
        "!ghc -e 'Data.Vector.fromList [1,3..30000] Data.Vector.! 10000' #=> 20001\r\n",
        "!ghc -e 'Data.Vector.fromList [1,3..30000] Data.Vector.!? 10000' #=> Just 20001"
      ],
      "execution_count": null,
      "outputs": [
        {
          "output_type": "stream",
          "text": [
            "20001\n",
            "20001\n",
            "Just 20001\n"
          ],
          "name": "stdout"
        }
      ]
    },
    {
      "cell_type": "code",
      "metadata": {
        "id": "L9zJpEj9X4N0",
        "colab": {
          "base_uri": "https://localhost:8080/"
        },
        "outputId": "693a6419-6830-47a3-83af-d7723a799651"
      },
      "source": [
        "!ghc -e '1:2:3:[]' #=> [1,2,3]\r\n",
        "!ghc -e 'let {x:xs=[1,2,3]} in x' #=> 1\r\n",
        "!ghc -e 'head [1,2,3]' #=> 1\r\n",
        "!ghc -e 'head []' #=> <interactive>: Prelude.head: empty list\r\n",
        "!ghc -e 'tail []' #=> <interactive>: Prelude.head: empty list"
      ],
      "execution_count": null,
      "outputs": [
        {
          "output_type": "stream",
          "text": [
            "[1,2,3]\n",
            "1\n",
            "1\n",
            "<interactive>: Prelude.head: empty list\n",
            "<interactive>: Prelude.tail: empty list\n"
          ],
          "name": "stdout"
        }
      ]
    },
    {
      "cell_type": "code",
      "metadata": {
        "id": "3BgEoUU5Y4vC",
        "colab": {
          "base_uri": "https://localhost:8080/"
        },
        "outputId": "ab8fc120-9013-4bbd-b54d-9beab80c252a"
      },
      "source": [
        "!ghc -e 'map (2 *) [1,2,3]' #=> [2,4,6]\r\n",
        "!ghc -e 'filter (\\n -> n `mod` 3 == 0) [1..10]' #=> [3,6,9]"
      ],
      "execution_count": null,
      "outputs": [
        {
          "output_type": "stream",
          "text": [
            "[2,4,6]\n",
            "[3,6,9]\n"
          ],
          "name": "stdout"
        }
      ]
    },
    {
      "cell_type": "code",
      "metadata": {
        "id": "c85aciehZkOq",
        "colab": {
          "base_uri": "https://localhost:8080/"
        },
        "outputId": "16ab4b3c-c0c0-4fb1-b971-6739f5edb324"
      },
      "source": [
        "# foldr, foldl\r\n",
        "!ghc -e 'foldr (-) 0 [1..10]' #=> -5\r\n",
        "!ghc -e 'foldl (-) 0 [1..10]' #=> -55\r\n",
        "!echo\r\n",
        "!ghc -e 'foldr (-) 0 [1]' #=> 1\r\n",
        "!ghc -e 'foldr (-) 0 [1,2]' #=> -1\r\n",
        "!ghc -e 'foldr (-) 0 [1,2,3]' #=> 2\r\n",
        "!ghc -e 'foldr (-) 0 [1,2,3,4]' #=> -2\r\n",
        "!ghc -e 'foldr (-) 0 [1,2,3,4,5]' #=> 3\r\n",
        "!ghc -e 'foldr (-) 0 [1,2,3,4,5,6]' #=> -3\r\n",
        "!ghc -e 'foldr (-) 0 [1,2,3,4,5,6,7]' #=> 4\r\n",
        "!ghc -e '(1-(2-(3-(4-(5-(6-(7-0)))))))' #=> 4"
      ],
      "execution_count": null,
      "outputs": [
        {
          "output_type": "stream",
          "text": [
            "-5\n",
            "-55\n",
            "\n",
            "1\n",
            "-1\n",
            "2\n",
            "-2\n",
            "3\n",
            "-3\n",
            "4\n",
            "4\n"
          ],
          "name": "stdout"
        }
      ]
    },
    {
      "cell_type": "code",
      "metadata": {
        "id": "1w0DEuqOkWK7",
        "colab": {
          "base_uri": "https://localhost:8080/"
        },
        "outputId": "19e53267-efad-4e70-dc60-cf116fe76b30"
      },
      "source": [
        "# Data.Char.toUpper\r\n",
        "!ghc -e 'map Data.Char.toUpper \"this is a Pen\"'"
      ],
      "execution_count": null,
      "outputs": [
        {
          "output_type": "stream",
          "text": [
            "\"THIS IS A PEN\"\n"
          ],
          "name": "stdout"
        }
      ]
    },
    {
      "cell_type": "code",
      "metadata": {
        "id": "ciHBE8xCkoK9",
        "colab": {
          "base_uri": "https://localhost:8080/"
        },
        "outputId": "ad4d1b81-2ba6-4694-f21a-02a4559b0893"
      },
      "source": [
        "# (++)\r\n",
        "!ghc -e '\"The list contains \" ++ show [1,2,3] ++\".\"'\r\n",
        "# concat\r\n",
        "!ghc -e 'concat [\"The list contains \",show [1,2,3], \".\"]'"
      ],
      "execution_count": null,
      "outputs": [
        {
          "output_type": "stream",
          "text": [
            "\"The list contains [1,2,3].\"\n",
            "\"The list contains [1,2,3].\"\n"
          ],
          "name": "stdout"
        }
      ]
    },
    {
      "cell_type": "code",
      "metadata": {
        "id": "9Up9PfZClLrw",
        "colab": {
          "base_uri": "https://localhost:8080/"
        },
        "outputId": "e4e48569-ff3d-4f90-8aa6-6dec1198e672"
      },
      "source": [
        "# タプル\r\n",
        "!ghc -e '(True, [1,2,3])::(Bool, [Int])'\r\n",
        "!ghc -e 'let x=(True, [1,2,3])::(Bool, [Int]) in fst x'\r\n",
        "!ghc -e 'let x=(True, [1,2,3])::(Bool, [Int]) in snd x'"
      ],
      "execution_count": null,
      "outputs": [
        {
          "output_type": "stream",
          "text": [
            "(True,[1,2,3])\n",
            "True\n",
            "[1,2,3]\n"
          ],
          "name": "stdout"
        }
      ]
    },
    {
      "cell_type": "code",
      "metadata": {
        "id": "WxuV_ZMAlpSQ",
        "colab": {
          "base_uri": "https://localhost:8080/"
        },
        "outputId": "588ff468-9f7b-44d0-f59c-941f4b6b9c9f"
      },
      "source": [
        "# fst, snd 以上の時\r\n",
        "!ghc -e 'let {x=(1,2,3); (_,_,n)=x} in n' #=> 3"
      ],
      "execution_count": null,
      "outputs": [
        {
          "output_type": "stream",
          "text": [
            "3\n"
          ],
          "name": "stdout"
        }
      ]
    },
    {
      "cell_type": "code",
      "metadata": {
        "id": "oMpZYV68mCMe",
        "colab": {
          "base_uri": "https://localhost:8080/"
        },
        "outputId": "27850c11-ee7b-41ba-9072-b0a385d31e1a"
      },
      "source": [
        "# Maybe\r\n",
        "!ghc -e 'let {percentage k n  | n==0 = Nothing :: Maybe Double | otherwise = Just (100.0 * k / n)} in percentage 20 50'\r\n",
        "!ghc -e 'let {percentage k n  | n==0 = Nothing :: Maybe Double | otherwise = Just (100.0 * k / n)} in percentage 20 0'"
      ],
      "execution_count": null,
      "outputs": [
        {
          "output_type": "stream",
          "text": [
            "Just 40.0\n",
            "Nothing\n"
          ],
          "name": "stdout"
        }
      ]
    },
    {
      "cell_type": "code",
      "metadata": {
        "id": "CrYPq4fjUrM-",
        "colab": {
          "base_uri": "https://localhost:8080/"
        },
        "outputId": "a971ebfa-0080-406a-b12f-ce5822b50c30"
      },
      "source": [
        "# Maybe\r\n",
        "!ghc -e 'let {percentage k n|n==0=Nothing|otherwise=Just(100.0 * k/n)} in case percentage 20 50 of Nothing -> \"UNKNOWN\";Just x -> show x'\r\n",
        "!ghc -e 'let {percentage k n|n==0=Nothing|otherwise=Just(100.0 * k/n)} in case percentage 20 0 of Nothing -> \"UNKNOWN\";Just x -> show x'\r\n"
      ],
      "execution_count": null,
      "outputs": [
        {
          "output_type": "stream",
          "text": [
            "\"40.0\"\n",
            "\"UNKNOWN\"\n"
          ],
          "name": "stdout"
        }
      ]
    },
    {
      "cell_type": "code",
      "metadata": {
        "colab": {
          "base_uri": "https://localhost:8080/"
        },
        "id": "lnPwSj4zsbk5",
        "outputId": "f54ca813-3e31-4098-e273-6ffdc5c0c017"
      },
      "source": [
        "# パターンマッチを使わなくても Data.Maybe モジュールにいろいろある。isNothing, fromJust とか。\r\n",
        "!ghc -e 'let {percentage k n|n==0=Nothing|otherwise=Just(100.0 * k/n)} in if Data.Maybe.isNothing(percentage 20 50) then \"UNKNOWN\" else show(Data.Maybe.fromJust(percentage 20 50))'\r\n",
        "!ghc -e 'let {percentage k n|n==0=Nothing|otherwise=Just(100.0 * k/n)} in if Data.Maybe.isNothing(percentage 20 0) then \"UNKNOWN\" else show(Data.Maybe.fromJust(percentage 20 0))'"
      ],
      "execution_count": null,
      "outputs": [
        {
          "output_type": "stream",
          "text": [
            "\"40.0\"\n",
            "\"UNKNOWN\"\n"
          ],
          "name": "stdout"
        }
      ]
    },
    {
      "cell_type": "code",
      "metadata": {
        "colab": {
          "base_uri": "https://localhost:8080/"
        },
        "id": "H_aG1FpYuHgZ",
        "outputId": "1f36e4a8-6c4b-4f42-fc9e-36c57bbee5db"
      },
      "source": [
        "# パターンマッチを使わなくても Data.Maybe モジュールにいろいろある。isNothing, fromJust とか。\r\n",
        "!ghc -e 'let {percentage k n|n==0=Nothing|otherwise=Just(100.0 * k/n); x = percentage 20 50} in if Data.Maybe.isNothing(x) then \"UNKNOWN\" else show(Data.Maybe.fromJust(x))'\r\n",
        "!ghc -e 'let {percentage k n|n==0=Nothing|otherwise=Just(100.0 * k/n); x = percentage 20 0} in if Data.Maybe.isNothing(x) then \"UNKNOWN\" else show(Data.Maybe.fromJust(x))'"
      ],
      "execution_count": null,
      "outputs": [
        {
          "output_type": "stream",
          "text": [
            "\"40.0\"\n",
            "\"UNKNOWN\"\n"
          ],
          "name": "stdout"
        }
      ]
    },
    {
      "cell_type": "code",
      "metadata": {
        "id": "VL0DsdukEe0s",
        "colab": {
          "base_uri": "https://localhost:8080/"
        },
        "outputId": "2f89538f-e40e-47f7-f0c9-91e2b22d1214"
      },
      "source": [
        "# 複雑になってきたのでファイル形式にする\r\n",
        "%%writefile test.hs\r\n",
        "import Data.Maybe\r\n",
        "\r\n",
        "percentage k n\r\n",
        "  | n == 0 = Nothing\r\n",
        "  | otherwise = Just (100.0 * k / n)\r\n",
        "\r\n",
        "main =\r\n",
        "  getContents\r\n",
        "    >>= putStrLn\r\n",
        "      . (\\[x, y] -> let p = percentage x y in if isNothing p then \"UNKNOWN\" else show $ fromJust p)\r\n",
        "      . map read\r\n",
        "      . words\r\n"
      ],
      "execution_count": null,
      "outputs": [
        {
          "output_type": "stream",
          "text": [
            "Overwriting test.hs\n"
          ],
          "name": "stdout"
        }
      ]
    },
    {
      "cell_type": "code",
      "metadata": {
        "id": "jiyhvcvZEowv",
        "colab": {
          "base_uri": "https://localhost:8080/"
        },
        "outputId": "bec22f8b-4f22-4be8-88fc-1132cf3ea708"
      },
      "source": [
        "!echo '20 50' |runghc test.hs\r\n",
        "!echo '20 0' |runghc test.hs"
      ],
      "execution_count": null,
      "outputs": [
        {
          "output_type": "stream",
          "text": [
            "40.0\n",
            "UNKNOWN\n"
          ],
          "name": "stdout"
        }
      ]
    },
    {
      "cell_type": "code",
      "metadata": {
        "colab": {
          "base_uri": "https://localhost:8080/"
        },
        "id": "NlhaXMcz4-Ra",
        "outputId": "38f3f0f6-b1b6-4955-f5df-75632baf89c3"
      },
      "source": [
        "# fromJust は危険なので maybe を使う\r\n",
        "%%writefile test.hs\r\n",
        "import Data.Maybe\r\n",
        "\r\n",
        "percentage k n\r\n",
        "  | n == 0 = Nothing\r\n",
        "  | otherwise = Just (100.0 * k / n)\r\n",
        "\r\n",
        "main =\r\n",
        "  getContents\r\n",
        "    >>= putStrLn\r\n",
        "      . (\\[x, y] -> let p = percentage x y in maybe \"UNKNOWN\" show p)\r\n",
        "      . map read\r\n",
        "      . words\r\n"
      ],
      "execution_count": null,
      "outputs": [
        {
          "output_type": "stream",
          "text": [
            "Overwriting test.hs\n"
          ],
          "name": "stdout"
        }
      ]
    },
    {
      "cell_type": "code",
      "metadata": {
        "colab": {
          "base_uri": "https://localhost:8080/"
        },
        "id": "Fa4eclfv5QIi",
        "outputId": "e503185a-ac19-4285-d6d8-bd27fe5efcb8"
      },
      "source": [
        "!echo '20 50' |runghc test.hs\r\n",
        "!echo '20 0' |runghc test.hs"
      ],
      "execution_count": null,
      "outputs": [
        {
          "output_type": "stream",
          "text": [
            "40.0\n",
            "UNKNOWN\n"
          ],
          "name": "stdout"
        }
      ]
    },
    {
      "cell_type": "code",
      "metadata": {
        "colab": {
          "base_uri": "https://localhost:8080/"
        },
        "id": "7V-UUHON519L",
        "outputId": "ac18cd09-04b9-497c-f92d-23d774cc4cf8"
      },
      "source": [
        "!ghc -e ':t Data.Maybe.maybe'"
      ],
      "execution_count": null,
      "outputs": [
        {
          "output_type": "stream",
          "text": [
            "Data.Maybe.maybe :: b -> (a -> b) -> Maybe a -> b\n"
          ],
          "name": "stdout"
        }
      ]
    },
    {
      "cell_type": "code",
      "metadata": {
        "colab": {
          "base_uri": "https://localhost:8080/"
        },
        "id": "u5HMXTjT5k74",
        "outputId": "8ca07c53-7e82-47b1-9f75-33f4d3c62547"
      },
      "source": [
        "# Data.Maybe.maybe :: b -> (a -> b) -> Maybe a -> b\r\n",
        "# これは便利\r\n",
        "%%writefile test.hs\r\n",
        "import Data.Maybe\r\n",
        "\r\n",
        "percentage k n\r\n",
        "  | n == 0 = Nothing\r\n",
        "  | otherwise = Just (100.0 * k / n)\r\n",
        "\r\n",
        "main =\r\n",
        "  getContents\r\n",
        "    >>= putStrLn\r\n",
        "      . (\\[x, y] -> maybe \"UNKNOWN\" show (percentage x y))\r\n",
        "      . map read\r\n",
        "      . words"
      ],
      "execution_count": null,
      "outputs": [
        {
          "output_type": "stream",
          "text": [
            "Overwriting test.hs\n"
          ],
          "name": "stdout"
        }
      ]
    },
    {
      "cell_type": "code",
      "metadata": {
        "colab": {
          "base_uri": "https://localhost:8080/"
        },
        "id": "itU9jZXe5u6T",
        "outputId": "59571f3e-67b9-43a0-e062-eb6488082e4b"
      },
      "source": [
        "!echo '20 50' |runghc test.hs\r\n",
        "!echo '20 0' |runghc test.hs"
      ],
      "execution_count": null,
      "outputs": [
        {
          "output_type": "stream",
          "text": [
            "40.0\n",
            "UNKNOWN\n"
          ],
          "name": "stdout"
        }
      ]
    },
    {
      "cell_type": "code",
      "metadata": {
        "colab": {
          "base_uri": "https://localhost:8080/"
        },
        "id": "nmYBjXrI6W5t",
        "outputId": "6cb55858-0bec-48dd-9a29-b0f13d8c9073"
      },
      "source": [
        "# 同じことを Data.Either.either でできる\r\n",
        "# Data.Either.either :: (a -> c) -> (b -> c) -> Either a b -> c\r\n",
        "%%writefile test.hs\r\n",
        "import Data.Either\r\n",
        "\r\n",
        "percentage k n\r\n",
        "  | n == 0 = Left \"Illegal division by zero\"\r\n",
        "  | otherwise = Right (100.0 * k / n) :: Either String Double\r\n",
        "\r\n",
        "main =\r\n",
        "  getContents\r\n",
        "    >>= putStrLn\r\n",
        "      . (\\[x, y] -> either id show (percentage x y))\r\n",
        "      . map read\r\n",
        "      . words"
      ],
      "execution_count": null,
      "outputs": [
        {
          "output_type": "stream",
          "text": [
            "Overwriting test.hs\n"
          ],
          "name": "stdout"
        }
      ]
    },
    {
      "cell_type": "code",
      "metadata": {
        "colab": {
          "base_uri": "https://localhost:8080/"
        },
        "id": "r4obj0QP6eTc",
        "outputId": "706fff58-5b60-4837-8103-1d6105f7e171"
      },
      "source": [
        "!echo '20 50' |runghc test.hs\r\n",
        "!echo '20 0' |runghc test.hs"
      ],
      "execution_count": null,
      "outputs": [
        {
          "output_type": "stream",
          "text": [
            "40.0\n",
            "Illegal division by zero\n"
          ],
          "name": "stdout"
        }
      ]
    },
    {
      "cell_type": "code",
      "metadata": {
        "colab": {
          "base_uri": "https://localhost:8080/"
        },
        "id": "uPWyApuW8Z7l",
        "outputId": "bce92ff4-6d36-4d43-d5b3-cb8768314ff2"
      },
      "source": [
        "# either の部分を case を使って書き直せるか\r\n",
        "# case percentage 20 50 of Left err -> err; Right x -> show x\r\n",
        "%%writefile test.hs\r\n",
        "import Data.Either\r\n",
        "\r\n",
        "percentage k n\r\n",
        "  | n == 0 = Left \"Illegal division by zero\"\r\n",
        "  | otherwise = Right (100.0 * k / n) :: Either String Double\r\n",
        "\r\n",
        "main =\r\n",
        "  getContents\r\n",
        "    >>= putStrLn\r\n",
        "      . (\\[x, y] -> case percentage x y of Left err -> err; Right ans -> show ans)\r\n",
        "      . map read\r\n",
        "      . words"
      ],
      "execution_count": null,
      "outputs": [
        {
          "output_type": "stream",
          "text": [
            "Overwriting test.hs\n"
          ],
          "name": "stdout"
        }
      ]
    },
    {
      "cell_type": "code",
      "metadata": {
        "colab": {
          "base_uri": "https://localhost:8080/"
        },
        "id": "pc4vvEZl8ikn",
        "outputId": "f99bcee5-ed0d-4a19-c33b-e5a4d78e8951"
      },
      "source": [
        "!echo '20 50' |runghc test.hs\r\n",
        "!echo '20 0' |runghc test.hs"
      ],
      "execution_count": null,
      "outputs": [
        {
          "output_type": "stream",
          "text": [
            "40.0\n",
            "Illegal division by zero\n"
          ],
          "name": "stdout"
        }
      ]
    },
    {
      "cell_type": "code",
      "metadata": {
        "id": "eZt_5Anp9x3W",
        "colab": {
          "base_uri": "https://localhost:8080/"
        },
        "outputId": "cc8d4235-a194-464b-fe52-bb999121fb6f"
      },
      "source": [
        "# for , while のようなループのための構文は存在しない\r\n",
        "%%writefile test.hs\r\n",
        "fact n | n <= 1 = n\r\n",
        "       | otherwise = n * fact (n - 1)\r\n",
        "\r\n",
        "main = print $ fact 10"
      ],
      "execution_count": null,
      "outputs": [
        {
          "output_type": "stream",
          "text": [
            "Overwriting test.hs\n"
          ],
          "name": "stdout"
        }
      ]
    },
    {
      "cell_type": "code",
      "metadata": {
        "id": "cKf6KtxHKMOF",
        "colab": {
          "base_uri": "https://localhost:8080/"
        },
        "outputId": "3009455f-d725-414b-8915-63b2ae3d7dc8"
      },
      "source": [
        "!runghc test.hs"
      ],
      "execution_count": null,
      "outputs": [
        {
          "output_type": "stream",
          "text": [
            "3628800\n"
          ],
          "name": "stdout"
        }
      ]
    },
    {
      "cell_type": "code",
      "metadata": {
        "id": "PQ7YTaeaLN8O",
        "colab": {
          "base_uri": "https://localhost:8080/"
        },
        "outputId": "8eb64410-d7a3-4402-877e-0fe02da0ccbd"
      },
      "source": [
        "# 上のプログラムを case 式で書き直す\r\n",
        "%%writefile test.hs\r\n",
        "fact n | n <= 1 = n\r\n",
        "       | otherwise = n * fact (n - 1)\r\n",
        "\r\n",
        "fact n = case (n <= 1) of True -> n; _ -> n * fact (n - 1)\r\n",
        "\r\n",
        "main = print $ fact 10\r\n"
      ],
      "execution_count": null,
      "outputs": [
        {
          "output_type": "stream",
          "text": [
            "Overwriting test.hs\n"
          ],
          "name": "stdout"
        }
      ]
    },
    {
      "cell_type": "code",
      "metadata": {
        "id": "fvq2xKEqNB4R"
      },
      "source": [
        "!runghc test.hs"
      ],
      "execution_count": null,
      "outputs": []
    },
    {
      "cell_type": "code",
      "metadata": {
        "id": "xGUyN9piNzHv",
        "colab": {
          "base_uri": "https://localhost:8080/"
        },
        "outputId": "56d293a1-a094-4ccf-cb11-71a6253fdfc5"
      },
      "source": [
        "# fizz-buzz\r\n",
        "%%writefile test.hs\r\n",
        "import Control.Monad (when)\r\n",
        "\r\n",
        "main = loop 0\r\n",
        "  where\r\n",
        "    loop n\r\n",
        "      | n <= 20 = do\r\n",
        "        when (mod n 3 /= 0 && mod n 5 /= 0) (putStr $ show n)\r\n",
        "        when (mod n 3 == 0) (putStr \"Fizz\")\r\n",
        "        when (mod n 5 == 0) (putStr \"Buzz\")\r\n",
        "        putStrLn \"\"\r\n",
        "        loop (n + 1)\r\n",
        "      | otherwise = return ()"
      ],
      "execution_count": null,
      "outputs": [
        {
          "output_type": "stream",
          "text": [
            "Overwriting test.hs\n"
          ],
          "name": "stdout"
        }
      ]
    },
    {
      "cell_type": "code",
      "metadata": {
        "id": "_DmRON1ZOm-T"
      },
      "source": [
        "!runghc test.hs"
      ],
      "execution_count": null,
      "outputs": []
    },
    {
      "cell_type": "code",
      "metadata": {
        "id": "ixuq8S0MQsE-",
        "colab": {
          "base_uri": "https://localhost:8080/"
        },
        "outputId": "be174426-0fa5-4451-a6fa-b2490061a31c"
      },
      "source": [
        "# 上のプログラムは loop を使っているのであまり haskell 的でない\r\n",
        "# ネットに次のようなのがあった <= https://itchyny.hatenablog.com/entry/2015/12/27/150000\r\n",
        "%%writefile test.hs\r\n",
        "import Control.Monad (guard)\r\n",
        "import Data.Maybe (fromMaybe)\r\n",
        "import Data.Monoid ((<>))\r\n",
        "\r\n",
        "main :: IO ()\r\n",
        "main = mapM_ (putStrLn . fizzbuzz) [1 .. 20]\r\n",
        "\r\n",
        "fizzbuzz :: Integer -> String\r\n",
        "fizzbuzz =\r\n",
        "  let (d ~> s) n = s <$ guard (n `mod` d == 0)\r\n",
        "   in fromMaybe . show <*> 3 ~> \"Fizz\" <> 5 ~> \"Buzz\""
      ],
      "execution_count": null,
      "outputs": [
        {
          "output_type": "stream",
          "text": [
            "Overwriting test.hs\n"
          ],
          "name": "stdout"
        }
      ]
    },
    {
      "cell_type": "code",
      "metadata": {
        "id": "OXVVqdfzQ7XT",
        "colab": {
          "base_uri": "https://localhost:8080/"
        },
        "outputId": "4b95c2b9-f71d-401b-ce91-21749b988b8c"
      },
      "source": [
        "!runghc test.hs"
      ],
      "execution_count": null,
      "outputs": [
        {
          "output_type": "stream",
          "text": [
            "1\n",
            "2\n",
            "Fizz\n",
            "4\n",
            "Buzz\n",
            "Fizz\n",
            "7\n",
            "8\n",
            "Fizz\n",
            "Buzz\n",
            "11\n",
            "Fizz\n",
            "13\n",
            "14\n",
            "FizzBuzz\n",
            "16\n",
            "17\n",
            "Fizz\n",
            "19\n",
            "Buzz\n"
          ],
          "name": "stdout"
        }
      ]
    },
    {
      "cell_type": "code",
      "metadata": {
        "id": "Tc6eRrjhRLjL"
      },
      "source": [
        "# 上のプログラムは全然わからない。\r\n",
        "# 解析する。\r\n",
        "# (~>) という演算子は初めて見た、と思ったら\r\n",
        "# (d ~> s) n = s <$ guard (n `mod` d == 0)\r\n",
        "# で定義しているのだね。 ここで使っている guard は\r\n",
        "# Control.Monad.guard :: GHC.Base.Alternative f => Bool -> f ()\r\n",
        "# (<$) はファンクターで、\r\n",
        "# (<$) :: Functor f => a -> f b -> f a\r\n",
        "# ざっくり読むと、(d ~> s) n という関数を定義するよ。 n と を使って、条件式でファンクターを返すよ。\r\n",
        "# そのファンクターで s を返すよ。という感じかな。s もファンクターでこの場合は Maybe。\r\n",
        "!ghc -e 'let (d ~> s) n = s <$ Control.Monad.guard (n `mod` d == 0) in (3 ~> \"Fizz\") 1 :: Maybe String'\r\n",
        "!ghc -e 'let (d ~> s) n = s <$ Control.Monad.guard (n `mod` d == 0) in (3 ~> \"Fizz\") 3 :: Maybe String'\r\n",
        "!ghc -e 'let (d ~> s) n = s <$ Control.Monad.guard (n `mod` d == 0) in (3 ~> \"Fizz\") 5 :: Maybe String'\r\n",
        "!ghc -e 'let (d ~> s) n = s <$ Control.Monad.guard (n `mod` d == 0) in (3 ~> \"Buzz\") 15 :: Maybe String'"
      ],
      "execution_count": null,
      "outputs": []
    },
    {
      "cell_type": "code",
      "metadata": {
        "id": "dXEfc41HTt5P",
        "colab": {
          "base_uri": "https://localhost:8080/"
        },
        "outputId": "06bcb9c9-5273-41c8-be1f-1f55a7c1c00a"
      },
      "source": [
        "# さて次は (<>) と <*> \r\n",
        "# !ghc -e ':t Data.Monoid.(<>)' # (<>) :: Semigroup a => a -> a -> a\r\n",
        "# !ghc -e ':t (<*>)' # (<*>) :: Applicative f => f (a -> b) -> f a -> f b\r\n",
        "%%writefile test.hs\r\n",
        "import Control.Monad (guard)\r\n",
        "import Data.Maybe (fromMaybe)\r\n",
        "import Data.Monoid ((<>))\r\n",
        "\r\n",
        "main :: IO ()\r\n",
        "main = print $ map f [1 .. 20]\r\n",
        "\r\n",
        "-- fizzbuzz :: Integer -> String\r\n",
        "-- fizzbuzz =\r\n",
        "--   let (d ~> s) n = s <$ guard (n `mod` d == 0)\r\n",
        "--    in fromMaybe . show <*> 3 ~> \"Fizz\" <> 5 ~> \"Buzz\"\r\n",
        "   \r\n",
        "f::Integer -> Maybe String\r\n",
        "f = \r\n",
        "  let (d ~> s) n = s <$ guard (n `mod` d == 0)\r\n",
        "    in (3 ~> \"Fizz\") <> (5 ~> \"Buzz\")\r\n"
      ],
      "execution_count": null,
      "outputs": [
        {
          "output_type": "stream",
          "text": [
            "Overwriting test.hs\n"
          ],
          "name": "stdout"
        }
      ]
    },
    {
      "cell_type": "code",
      "metadata": {
        "id": "8Zs1_Z9siITb",
        "colab": {
          "base_uri": "https://localhost:8080/"
        },
        "outputId": "55fcbd0d-1c1e-456b-c1df-08e0ebe16c57"
      },
      "source": [
        "!runghc test.hs"
      ],
      "execution_count": null,
      "outputs": [
        {
          "output_type": "stream",
          "text": [
            "[Nothing,Nothing,Just \"Fizz\",Nothing,Just \"Buzz\",Just \"Fizz\",Nothing,Nothing,Just \"Fizz\",Just \"Buzz\",Nothing,Just \"Fizz\",Nothing,Nothing,Just \"FizzBuzz\",Nothing,Nothing,Just \"Fizz\",Nothing,Just \"Buzz\"]\n"
          ],
          "name": "stdout"
        }
      ]
    },
    {
      "cell_type": "code",
      "metadata": {
        "id": "kFvE-_o4mUPi",
        "colab": {
          "base_uri": "https://localhost:8080/"
        },
        "outputId": "209b1254-3bb0-4bbe-ebde-fcf47472de76"
      },
      "source": [
        "%%writefile test.hs\r\n",
        "import Control.Monad (guard)\r\n",
        "import Data.Maybe (fromMaybe)\r\n",
        "import Data.Monoid ((<>))\r\n",
        "\r\n",
        "main :: IO ()\r\n",
        "main = mapM_ (putStrLn . g) [1 .. 20]\r\n",
        "\r\n",
        "-- fizzbuzz :: Integer -> String\r\n",
        "-- fizzbuzz =\r\n",
        "--   let (d ~> s) n = s <$ guard (n `mod` d == 0)\r\n",
        "--    in fromMaybe . show <*> 3 ~> \"Fizz\" <> 5 ~> \"Buzz\"\r\n",
        "\r\n",
        "-- f :: Integer -> Maybe String\r\n",
        "-- f =\r\n",
        "--   let (d ~> s) n = s <$ guard (n `mod` d == 0)\r\n",
        "--    in 3 ~> \"Fizz\" <> 5 ~> \"Buzz\"\r\n",
        "\r\n",
        "g :: Integer -> String\r\n",
        "g =\r\n",
        "  let (d ~> s) n = s <$ guard (n `mod` d == 0)\r\n",
        "   in fromMaybe . show <*> 3 ~> \"Fizz\" <> 5 ~> \"Buzz\""
      ],
      "execution_count": null,
      "outputs": [
        {
          "output_type": "stream",
          "text": [
            "Overwriting test.hs\n"
          ],
          "name": "stdout"
        }
      ]
    },
    {
      "cell_type": "code",
      "metadata": {
        "id": "nAHdaHl6qSPd"
      },
      "source": [
        "!runghc test.hs"
      ],
      "execution_count": null,
      "outputs": []
    },
    {
      "cell_type": "markdown",
      "metadata": {
        "id": "ReP8lwA84lcA"
      },
      "source": [
        "# FizzBuzz\r\n",
        "上のコードはちょっと難しかったので、もっとやさしいのを探す、"
      ]
    },
    {
      "cell_type": "code",
      "metadata": {
        "id": "q_rMAPeI4lKX",
        "colab": {
          "base_uri": "https://localhost:8080/"
        },
        "outputId": "a3bae3cc-6697-4056-b3e9-e4606a8837b7"
      },
      "source": [
        "# qiita の自称初心者のコード\r\n",
        "# https://qiita.com/KNaito/items/0831496d4bef45e10e94\r\n",
        "%%writefile test.hs\r\n",
        "\r\n",
        "import Control.Monad\r\n",
        "\r\n",
        "main = fizzBuzz 20\r\n",
        "\r\n",
        "fizzBuzz :: Integer -> IO()\r\n",
        "fizzBuzz num = mapM_ (putStrLn . makeMessage) [1..num] \r\n",
        "\r\n",
        "makeMessage :: Integer -> String\r\n",
        "makeMessage num \r\n",
        "  | isFizz && isBuzz = \"FizzBuzz\"\r\n",
        "  | isFizz = \"Fizz\"\r\n",
        "  | isBuzz = \"Buzz\"\r\n",
        "  | otherwise = show num\r\n",
        "  where \r\n",
        "    isFizz = num `mod` 3 == 0\r\n",
        "    isBuzz = num `mod` 5 == 0"
      ],
      "execution_count": null,
      "outputs": [
        {
          "output_type": "stream",
          "text": [
            "Overwriting test.hs\n"
          ],
          "name": "stdout"
        }
      ]
    },
    {
      "cell_type": "code",
      "metadata": {
        "id": "J8ZAWWM-4zFp"
      },
      "source": [
        "!runghc test.hs"
      ],
      "execution_count": null,
      "outputs": []
    },
    {
      "cell_type": "code",
      "metadata": {
        "id": "C0O8OEOk5hbP",
        "colab": {
          "base_uri": "https://localhost:8080/"
        },
        "outputId": "c862c937-dfc7-45d1-c3be-385cf236f739"
      },
      "source": [
        "# すこし書き換える\r\n",
        "# ついでに 20 とかの入力を標準入力にしよう\r\n",
        "%%writefile test.hs\r\n",
        "import Control.Monad\r\n",
        "\r\n",
        "main = \r\n",
        "    getContents >>=\r\n",
        "     mapM_ (putStrLn . fizzBuzz)\r\n",
        "    .(\\num -> [1..num])\r\n",
        "    . read\r\n",
        "    . head\r\n",
        "    . words\r\n",
        "\r\n",
        "fizzBuzz :: Integer -> String\r\n",
        "fizzBuzz num \r\n",
        "  | isFizz && isBuzz = \"FizzBuzz\"\r\n",
        "  | isFizz = \"Fizz\"\r\n",
        "  | isBuzz = \"Buzz\"\r\n",
        "  | otherwise = show num\r\n",
        "  where \r\n",
        "    isFizz = num `mod` 3 == 0\r\n",
        "    isBuzz = num `mod` 5 == 0"
      ],
      "execution_count": null,
      "outputs": [
        {
          "output_type": "stream",
          "text": [
            "Overwriting test.hs\n"
          ],
          "name": "stdout"
        }
      ]
    },
    {
      "cell_type": "code",
      "metadata": {
        "id": "puEZJn4W7iu_"
      },
      "source": [
        "!echo 20 | runghc test.hs"
      ],
      "execution_count": null,
      "outputs": []
    },
    {
      "cell_type": "code",
      "metadata": {
        "id": "P12ZrBZL72TD",
        "colab": {
          "base_uri": "https://localhost:8080/"
        },
        "outputId": "9b75ea90-9408-46a5-f2c3-521014532927"
      },
      "source": [
        "# where を使わずに let に書き換える\r\n",
        "# うまく行かないので外出しにしたのと、if 式にしたらガードにしろと Hlint に叱られた。\r\n",
        "%%writefile test.hs\r\n",
        "import Control.Monad\r\n",
        "\r\n",
        "main =\r\n",
        "  getContents\r\n",
        "    >>= mapM_ (putStrLn . fizzBuzz)\r\n",
        "      . (\\num -> [1 .. num])\r\n",
        "      . read\r\n",
        "      . head\r\n",
        "      . words\r\n",
        "\r\n",
        "fizzBuzz :: Integer -> String\r\n",
        "fizzBuzz num =\r\n",
        "  if isFizz  num && isBuzz num \r\n",
        "    then \"FizzBuzz\"\r\n",
        "    else\r\n",
        "      if isFizz num \r\n",
        "        then \"Fizz\"\r\n",
        "        else\r\n",
        "          if isBuzz num \r\n",
        "            then \"Buzz\"\r\n",
        "            else show num\r\n",
        "\r\n",
        "isFizz num = num `mod` 3 == 0\r\n",
        "\r\n",
        "isBuzz num = num `mod` 5 == 0"
      ],
      "execution_count": null,
      "outputs": [
        {
          "output_type": "stream",
          "text": [
            "Overwriting test.hs\n"
          ],
          "name": "stdout"
        }
      ]
    },
    {
      "cell_type": "code",
      "metadata": {
        "id": "lnezpbv4-4Id"
      },
      "source": [
        "!echo 20 | runghc test.hs"
      ],
      "execution_count": null,
      "outputs": []
    },
    {
      "cell_type": "code",
      "metadata": {
        "id": "6Ori2GgUB_n-",
        "colab": {
          "base_uri": "https://localhost:8080/"
        },
        "outputId": "87d2d05b-03d0-4d1d-c2e0-df0cad9a7a8b"
      },
      "source": [
        "# case を使ってみる\r\n",
        "%%writefile test.hs\r\n",
        "import Control.Monad\r\n",
        "\r\n",
        "main =\r\n",
        "  getContents\r\n",
        "    >>= mapM_ (putStrLn . fizzBuzz)\r\n",
        "      . (\\num -> [1 .. num])\r\n",
        "      . read\r\n",
        "      . head\r\n",
        "      . words\r\n",
        "\r\n",
        "fizzBuzz :: Integer -> String\r\n",
        "fizzBuzz num = case num of\r\n",
        "  x\r\n",
        "    | isFizz x && isBuzz x -> \"FizzBuzz\"\r\n",
        "    | isFizz x -> \"Fizz\"\r\n",
        "    | isBuzz x -> \"Buzz\"\r\n",
        "    | otherwise -> show num\r\n",
        "\r\n",
        "isFizz num = num `mod` 3 == 0\r\n",
        "\r\n",
        "isBuzz num = num `mod` 5 == 0"
      ],
      "execution_count": null,
      "outputs": [
        {
          "output_type": "stream",
          "text": [
            "Overwriting test.hs\n"
          ],
          "name": "stdout"
        }
      ]
    },
    {
      "cell_type": "code",
      "metadata": {
        "id": "94fb4AB6CH5w"
      },
      "source": [
        "!echo 20 | runghc test.hs"
      ],
      "execution_count": null,
      "outputs": []
    },
    {
      "cell_type": "code",
      "metadata": {
        "id": "dJ2jxaSNNdbi",
        "outputId": "be127596-115d-484b-d401-729e4b3fd6a6",
        "colab": {
          "base_uri": "https://localhost:8080/"
        }
      },
      "source": [
        "# p.70 の例\r\n",
        "%%writefile test.hs\r\n",
        "import Control.Monad\r\n",
        "\r\n",
        "main =\r\n",
        "  foldr f (return ())\r\n",
        "      $ map fizzBuzz [1..20]\r\n",
        "\r\n",
        "\r\n",
        "fizzBuzz :: Integer -> String\r\n",
        "fizzBuzz num \r\n",
        "    | mod num 15 == 0 = \"FizzBuzz\"\r\n",
        "    | mod num 3 == 0 = \"Fizz\"\r\n",
        "    | mod num 5 == 0 = \"Buzz\"\r\n",
        "    | otherwise = show num\r\n",
        "\r\n",
        "f str act = do putStrLn str \r\n",
        "               act"
      ],
      "execution_count": 117,
      "outputs": [
        {
          "output_type": "stream",
          "text": [
            "Overwriting test.hs\n"
          ],
          "name": "stdout"
        }
      ]
    },
    {
      "cell_type": "code",
      "metadata": {
        "id": "o8VDyEdKPVfo"
      },
      "source": [
        "!runghc test.hs"
      ],
      "execution_count": null,
      "outputs": []
    },
    {
      "cell_type": "code",
      "metadata": {
        "id": "5Wt_mDnsP8cm",
        "outputId": "78f20357-7e1f-426d-943d-698a1bed6ff8",
        "colab": {
          "base_uri": "https://localhost:8080/"
        }
      },
      "source": [
        "# forM_\r\n",
        "%%writefile test.hs\r\n",
        "import Control.Monad (forM_)\r\n",
        "\r\n",
        "main = do\r\n",
        "  forM_ [1..20] $ \\i -> do\r\n",
        "    putStrLn (fizzBuzz i)\r\n",
        "\r\n",
        "fizzBuzz :: Integer -> String\r\n",
        "fizzBuzz num \r\n",
        "    | mod num 15 == 0 = \"FizzBuzz\"\r\n",
        "    | mod num 3 == 0 = \"Fizz\"\r\n",
        "    | mod num 5 == 0 = \"Buzz\"\r\n",
        "    | otherwise = show num"
      ],
      "execution_count": 125,
      "outputs": [
        {
          "output_type": "stream",
          "text": [
            "Overwriting test.hs\n"
          ],
          "name": "stdout"
        }
      ]
    },
    {
      "cell_type": "code",
      "metadata": {
        "id": "KIdzSDYaQWaQ"
      },
      "source": [
        "!runghc test.hs"
      ],
      "execution_count": null,
      "outputs": []
    },
    {
      "cell_type": "markdown",
      "metadata": {
        "id": "zfyteKrTRRDQ"
      },
      "source": [
        "# モジュール\r\n",
        "p.71 からのモジュールの部分は飛ばす。\r\n",
        "\r\n"
      ]
    },
    {
      "cell_type": "code",
      "metadata": {
        "id": "02uvoODA9KAU"
      },
      "source": [
        "# いまここ\r\n",
        "# p.82"
      ],
      "execution_count": null,
      "outputs": []
    },
    {
      "cell_type": "markdown",
      "metadata": {
        "id": "vhqdCkeArwwy"
      },
      "source": [
        "\r\n",
        "# いまここ"
      ]
    }
  ]
}