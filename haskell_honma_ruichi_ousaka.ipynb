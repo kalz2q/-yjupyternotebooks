{
  "nbformat": 4,
  "nbformat_minor": 0,
  "metadata": {
    "colab": {
      "name": "haskell_honma_ruichi_ousaka.ipynb",
      "provenance": [],
      "toc_visible": true,
      "authorship_tag": "ABX9TyM2z5AHA7LrKkMj608mYsYT",
      "include_colab_link": true
    },
    "kernelspec": {
      "name": "python3",
      "display_name": "Python 3"
    }
  },
  "cells": [
    {
      "cell_type": "markdown",
      "metadata": {
        "id": "view-in-github",
        "colab_type": "text"
      },
      "source": [
        "<a href=\"https://colab.research.google.com/github/kalz2q/mycolabnotebooks/blob/master/haskell_honma_ruichi_ousaka.ipynb\" target=\"_parent\"><img src=\"https://colab.research.google.com/assets/colab-badge.svg\" alt=\"Open In Colab\"/></a>"
      ]
    },
    {
      "cell_type": "markdown",
      "metadata": {
        "id": "bcZTrfj_mS2w"
      },
      "source": [
        "# メモ\r\n",
        "\r\n",
        "本間雅洋 ほんままさひろ 類地孝介 るいちこうすけ 逢坂時響 おうさかときお  \r\n",
        "Haskell 入門 技術評論社  \r\n",
        "を読むノート。\r\n",
        "\r\n",
        "実験学習です。\r\n",
        "\r\n"
      ]
    },
    {
      "cell_type": "code",
      "metadata": {
        "id": "qjJR8oRUmvF-"
      },
      "source": [
        "%%capture\r\n",
        "!apt install haskell-platform"
      ],
      "execution_count": 3,
      "outputs": []
    },
    {
      "cell_type": "code",
      "metadata": {
        "id": "n51i0CbJns8w"
      },
      "source": [
        "!ghc -e '1'\r\n",
        "!ghc -e '1::Int'\r\n",
        "!ghc -e '1::Double'\r\n",
        "!ghc -e '1.0'\r\n",
        "# 次のはエラーになった。\r\n",
        "!ghc -e '1.0::Int'"
      ],
      "execution_count": null,
      "outputs": []
    },
    {
      "cell_type": "code",
      "metadata": {
        "id": "QsbrWWhDoTbZ"
      },
      "source": [
        "!ghc -e 'minBound::Int'\r\n",
        "# :t でタイプを調べることができる。\r\n",
        "!ghc -e ':t minBound'\r\n",
        "!ghc -e 'minBound'\r\n",
        "# Integer, Double, Float とかでエラーになった。\r\n",
        "!ghc -e 'minBound::Float'"
      ],
      "execution_count": null,
      "outputs": []
    },
    {
      "cell_type": "code",
      "metadata": {
        "colab": {
          "base_uri": "https://localhost:8080/"
        },
        "id": "xxVupjUpqgkQ",
        "outputId": "30fe8fae-e644-4a40-d0a5-8ed34092e236"
      },
      "source": [
        "!ghc -e ':t 1'\r\n",
        "!ghc -e ':t 1.0'\r\n",
        "# :k で型クラス、タイプクラスを調べることができる。\r\n",
        "!ghc -e ':k Num'\r\n",
        "!ghc -e ':k Fractional'"
      ],
      "execution_count": null,
      "outputs": [
        {
          "output_type": "stream",
          "text": [
            "1 :: Num t => t\n",
            "1.0 :: Fractional t => t\n",
            "Num :: * -> Constraint\n",
            "Fractional :: * -> Constraint\n"
          ],
          "name": "stdout"
        }
      ]
    },
    {
      "cell_type": "code",
      "metadata": {
        "colab": {
          "base_uri": "https://localhost:8080/"
        },
        "id": "m6yihen6pW1S",
        "outputId": "33c7da30-2110-4910-880b-3fff066baf3f"
      },
      "source": [
        "!ghc -e '0xff' # 16進数\r\n",
        "!ghc -e '0o77' # 8進数\r\n",
        "!ghc -e ':t 0xff'\r\n",
        "!ghc -e ':t 1234e100'\r\n",
        "!ghc -e ':t 1234e100::Float'"
      ],
      "execution_count": null,
      "outputs": [
        {
          "output_type": "stream",
          "text": [
            "255\n",
            "63\n",
            "0xff :: Num t => t\n",
            "1234e100 :: Fractional t => t\n",
            "1234e100::Float :: Float\n"
          ],
          "name": "stdout"
        }
      ]
    },
    {
      "cell_type": "code",
      "metadata": {
        "id": "XqJ_b0VCCNAX"
      },
      "source": [
        "# pi は始めから Float で入っている\r\n",
        "!ghc -e 'pi'\r\n",
        "!ghc -e ':t pi'\r\n",
        "\r\n",
        "!ghc -e 'pi::Double'\r\n",
        "!ghc -e 'pi::Float'\r\n",
        "!ghc -e 'pi*1e+38::Float'\r\n",
        "!ghc -e '3.141592653589793e+38::Float'\r\n",
        "!ghc -e '3.141592653589793e+100::Float' #=> Infinity\r\n"
      ],
      "execution_count": null,
      "outputs": []
    },
    {
      "cell_type": "code",
      "metadata": {
        "id": "-HMsFEQPG4LS",
        "outputId": "f97e216f-1344-491f-a522-a6b9f5490aa2",
        "colab": {
          "base_uri": "https://localhost:8080/"
        }
      },
      "source": [
        "# e はどうか\r\n",
        "!ghc -e 'exp(1)'"
      ],
      "execution_count": 15,
      "outputs": [
        {
          "output_type": "stream",
          "text": [
            "2.718281828459045\n"
          ],
          "name": "stdout"
        }
      ]
    },
    {
      "cell_type": "code",
      "metadata": {
        "id": "KnthLtHpHBfw",
        "outputId": "d466b2fa-3a9f-4967-cd51-7ecdb202bc87",
        "colab": {
          "base_uri": "https://localhost:8080/"
        }
      },
      "source": [
        "!ghc -e ':t isInfinite'\r\n",
        "!ghc -e ':t isNaN'"
      ],
      "execution_count": 18,
      "outputs": [
        {
          "output_type": "stream",
          "text": [
            "isInfinite :: RealFloat a => a -> Bool\n",
            "isNaN :: RealFloat a => a -> Bool\n"
          ],
          "name": "stdout"
        }
      ]
    },
    {
      "cell_type": "markdown",
      "metadata": {
        "id": "vhqdCkeArwwy"
      },
      "source": [
        "# いまここ\r\n",
        "p. 25"
      ]
    }
  ]
}