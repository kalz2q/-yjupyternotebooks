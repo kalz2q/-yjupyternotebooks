{
  "nbformat": 4,
  "nbformat_minor": 0,
  "metadata": {
    "colab": {
      "name": "haskell_honma_ruichi_ousaka.ipynb",
      "provenance": [],
      "toc_visible": true,
      "authorship_tag": "ABX9TyM/+dhvWVI/70YmkA5LTtna",
      "include_colab_link": true
    },
    "kernelspec": {
      "name": "python3",
      "display_name": "Python 3"
    }
  },
  "cells": [
    {
      "cell_type": "markdown",
      "metadata": {
        "id": "view-in-github",
        "colab_type": "text"
      },
      "source": [
        "<a href=\"https://colab.research.google.com/github/kalz2q/mycolabnotebooks/blob/master/haskell_honma_ruichi_ousaka.ipynb\" target=\"_parent\"><img src=\"https://colab.research.google.com/assets/colab-badge.svg\" alt=\"Open In Colab\"/></a>"
      ]
    },
    {
      "cell_type": "markdown",
      "metadata": {
        "id": "bcZTrfj_mS2w"
      },
      "source": [
        "# メモ\r\n",
        "\r\n",
        "本間雅洋 ほんままさひろ 類地孝介 るいちこうすけ 逢坂時響 おうさかときお  \r\n",
        "Haskell 入門 技術評論社  \r\n",
        "を読むノート。\r\n",
        "\r\n",
        "実験学習です。\r\n",
        "\r\n",
        "サポートページ https://gihyo.jp/book/2017/978-4-7741-9237-6/support"
      ]
    },
    {
      "cell_type": "code",
      "metadata": {
        "id": "qjJR8oRUmvF-"
      },
      "source": [
        "%%capture\r\n",
        "!apt install haskell-platform"
      ],
      "execution_count": 102,
      "outputs": []
    },
    {
      "cell_type": "code",
      "metadata": {
        "id": "n51i0CbJns8w"
      },
      "source": [
        "!ghc -e '1'\r\n",
        "!ghc -e '1::Int'\r\n",
        "!ghc -e '1::Double'\r\n",
        "!ghc -e '1.0'\r\n",
        "# 次のはエラーになった。\r\n",
        "!ghc -e '1.0::Int'"
      ],
      "execution_count": null,
      "outputs": []
    },
    {
      "cell_type": "code",
      "metadata": {
        "id": "QsbrWWhDoTbZ"
      },
      "source": [
        "!ghc -e 'minBound::Int'\r\n",
        "# :t でタイプを調べることができる。\r\n",
        "!ghc -e ':t minBound'\r\n",
        "!ghc -e 'minBound'\r\n",
        "# Integer, Double, Float とかでエラーになった。\r\n",
        "!ghc -e 'minBound::Float'"
      ],
      "execution_count": null,
      "outputs": []
    },
    {
      "cell_type": "code",
      "metadata": {
        "colab": {
          "base_uri": "https://localhost:8080/"
        },
        "id": "xxVupjUpqgkQ",
        "outputId": "30fe8fae-e644-4a40-d0a5-8ed34092e236"
      },
      "source": [
        "!ghc -e ':t 1'\r\n",
        "!ghc -e ':t 1.0'\r\n",
        "# :k で型クラス、タイプクラスを調べることができる。\r\n",
        "!ghc -e ':k Num'\r\n",
        "!ghc -e ':k Fractional'"
      ],
      "execution_count": null,
      "outputs": [
        {
          "output_type": "stream",
          "text": [
            "1 :: Num t => t\n",
            "1.0 :: Fractional t => t\n",
            "Num :: * -> Constraint\n",
            "Fractional :: * -> Constraint\n"
          ],
          "name": "stdout"
        }
      ]
    },
    {
      "cell_type": "code",
      "metadata": {
        "colab": {
          "base_uri": "https://localhost:8080/"
        },
        "id": "m6yihen6pW1S",
        "outputId": "33c7da30-2110-4910-880b-3fff066baf3f"
      },
      "source": [
        "!ghc -e '0xff' # 16進数\r\n",
        "!ghc -e '0o77' # 8進数\r\n",
        "!ghc -e ':t 0xff'\r\n",
        "!ghc -e ':t 1234e100'\r\n",
        "!ghc -e ':t 1234e100::Float'"
      ],
      "execution_count": null,
      "outputs": [
        {
          "output_type": "stream",
          "text": [
            "255\n",
            "63\n",
            "0xff :: Num t => t\n",
            "1234e100 :: Fractional t => t\n",
            "1234e100::Float :: Float\n"
          ],
          "name": "stdout"
        }
      ]
    },
    {
      "cell_type": "code",
      "metadata": {
        "id": "XqJ_b0VCCNAX"
      },
      "source": [
        "# pi は始めから Double で入っている\r\n",
        "!ghc -e 'pi'\r\n",
        "!ghc -e ':t pi'\r\n",
        "\r\n",
        "!ghc -e 'pi::Double'\r\n",
        "!ghc -e 'pi::Float'\r\n",
        "!ghc -e 'pi*1e+38::Float'\r\n",
        "!ghc -e '3.141592653589793e+38::Float'\r\n",
        "!ghc -e '3.141592653589793e+100::Float' #=> Infinity\r\n"
      ],
      "execution_count": null,
      "outputs": []
    },
    {
      "cell_type": "code",
      "metadata": {
        "id": "-HMsFEQPG4LS",
        "colab": {
          "base_uri": "https://localhost:8080/"
        },
        "outputId": "f97e216f-1344-491f-a522-a6b9f5490aa2"
      },
      "source": [
        "# e はどうか\r\n",
        "!ghc -e 'exp(1)'"
      ],
      "execution_count": null,
      "outputs": [
        {
          "output_type": "stream",
          "text": [
            "2.718281828459045\n"
          ],
          "name": "stdout"
        }
      ]
    },
    {
      "cell_type": "code",
      "metadata": {
        "id": "KnthLtHpHBfw",
        "colab": {
          "base_uri": "https://localhost:8080/"
        },
        "outputId": "d466b2fa-3a9f-4967-cd51-7ecdb202bc87"
      },
      "source": [
        "!ghc -e ':t isInfinite'\r\n",
        "!ghc -e ':t isNaN'"
      ],
      "execution_count": null,
      "outputs": [
        {
          "output_type": "stream",
          "text": [
            "isInfinite :: RealFloat a => a -> Bool\n",
            "isNaN :: RealFloat a => a -> Bool\n"
          ],
          "name": "stdout"
        }
      ]
    },
    {
      "cell_type": "code",
      "metadata": {
        "colab": {
          "base_uri": "https://localhost:8080/"
        },
        "id": "ZFWg7MMekyIG",
        "outputId": "3a643481-194e-4522-991d-af4bf5d90377"
      },
      "source": [
        "!ghc -e '0/0' #=> NaN\r\n",
        "!ghc -e 'isNaN (0/0)' #=> True"
      ],
      "execution_count": null,
      "outputs": [
        {
          "output_type": "stream",
          "text": [
            "NaN\n",
            "True\n",
            "1.0 :: Fractional t => t\n",
            "\n",
            "<interactive>:1:1: error:\n",
            "    • Data constructor not in scope: Infinite\n",
            "    • Perhaps you meant variable ‘isInfinite’ (imported from Prelude)\n"
          ],
          "name": "stdout"
        }
      ]
    },
    {
      "cell_type": "code",
      "metadata": {
        "id": "qojvTTT-lKSU"
      },
      "source": [
        "# 整数割り算\r\n",
        "!ghc -e '17 `div` 3' #=> 5\r\n",
        "!ghc -e '17 `mod` 3' #=> 2\r\n",
        "!ghc -e ':t (%)' #=> error not in scope\r\n",
        "!ghc -e ':t mod' #=> mod :: Integral a => a -> a -> a\r\n",
        "!ghc -e '12/3' #=> 4.0\r\n",
        "!ghc -e '12/3::Int' #=> error No instance for (Fractional Int) arising from a use of ‘/’"
      ],
      "execution_count": null,
      "outputs": []
    },
    {
      "cell_type": "code",
      "metadata": {
        "id": "UAYqD3CJ-_Zh"
      },
      "source": [
        "# Int8 とか\r\n",
        "!ghc -e 'minBound::Data.Int.Int8' #=> -128\r\n",
        "!ghc -e 'minBound::Data.Int.Int16' \r\n",
        "!ghc -e 'minBound::Data.Int.Int32' \r\n",
        "!ghc -e 'minBound::Data.Int.Int64' \r\n",
        "!ghc -e '1234::Word' \r\n",
        "!ghc -e 'minBound::Data.Word.Word8'\r\n",
        "!ghc -e 'maxBound::Data.Word.Word8'\r\n",
        "!ghc -e 'maxBound::Data.Word.Word16'\r\n",
        "!ghc -e 'maxBound::Data.Word.Word32'\r\n",
        "!ghc -e 'maxBound::Data.Word.Word64'"
      ],
      "execution_count": null,
      "outputs": []
    },
    {
      "cell_type": "code",
      "metadata": {
        "id": "qBd2bBg0AYV1"
      },
      "source": [
        "# Bool\r\n",
        "!ghc -e 'True::Bool'\r\n",
        "!ghc -e 'not False'\r\n",
        "!ghc -e 'False && True'\r\n",
        "!ghc -e 'False || True'\r\n",
        "!ghc -e '1 /= 1'\r\n",
        "!ghc -e '(1::Int) == (1::Word)' #=> error Couldn't match expected type ‘Int’ with actual type ‘Word’"
      ],
      "execution_count": null,
      "outputs": []
    },
    {
      "cell_type": "code",
      "metadata": {
        "id": "4vkVka9TDXdC"
      },
      "source": [
        "# Char と 2バイト文字\r\n",
        "!ghc -e \"' '::Char\" #=> ' '\r\n",
        "!ghc -e \"'\\32'::Char\" #=> ' '\r\n",
        "!ghc -e \"'あ'::Char\" #=> '\\12354'\r\n",
        "!ghc -e \"'\\n'::Char\" #=> '\\n'\r\n",
        "!ghc -e \"'\\98'::Char\" #=> 'b'\r\n",
        "!ghc -e \"'\\x41'::Char\" #=> 'A'\r\n",
        "!ghc -e \"'\\65'::Char\" #=> 'A'\r\n",
        "!ghc -e \"'\\^['::Char\" #=> '\\ESC'\r\n",
        "!ghc -e \"'\\ESC'::Char\" #=> '\\ESC'"
      ],
      "execution_count": null,
      "outputs": []
    },
    {
      "cell_type": "code",
      "metadata": {
        "id": "wdOdF6rdGMYY"
      },
      "source": [
        "# 文字列\r\n",
        "!ghc -e '\"あいうえお\"' #=> \"\\12354\\12356\\12358\\12360\\12362\"\r\n",
        "!ghc -e '\"あいうえお\"::String' #=> \"\\12354\\12356\\12358\\12360\\12362\"\r\n",
        "!ghc -e '\"a\\98c\"::String' #=> \"abc\""
      ],
      "execution_count": null,
      "outputs": []
    },
    {
      "cell_type": "code",
      "metadata": {
        "colab": {
          "base_uri": "https://localhost:8080/"
        },
        "id": "4nEEJqe6Gv8S",
        "outputId": "f39f1fba-e191-40f2-9f37-3cefdac3fb6e"
      },
      "source": [
        "# クオートとダブルクオート\r\n",
        "!ghc -e \":t 'a'\" #=> 'a' :: Char\r\n",
        "!ghc -e ':t \"a\"' #=> 'a' :: [Char]\r\n",
        "!ghc -e $':t \\'a\\'' #=> 'a' :: Char\r\n",
        "!ghc -e ':t \"a\"' #=> 'a' :: [Char]"
      ],
      "execution_count": null,
      "outputs": [
        {
          "output_type": "stream",
          "text": [
            "'a' :: Char\n",
            "\"a\" :: [Char]\n",
            "'a' :: Char\n",
            "\"a\" :: [Char]\n"
          ],
          "name": "stdout"
        }
      ]
    },
    {
      "cell_type": "code",
      "metadata": {
        "colab": {
          "base_uri": "https://localhost:8080/"
        },
        "id": "48WxFCBhL3HO",
        "outputId": "3cf058dc-67eb-4f13-e63a-fb6305be3d55"
      },
      "source": [
        "# リスト用の関数が使えるが効率がよくないので、ByteStringやTextを使う必要がるとか\r\n",
        "!ghc -e 'head \"ABC\"' #=> 'A'\r\n",
        "!ghc -e 'head \"あいう\"' #=> '\\12354'\r\n",
        "!ghc -e 'length \"ABC\"' #=> 3\r\n",
        "!ghc -e 'map fromEnum \"ABC\"' #=> [65,66,67]\r\n",
        "!ghc -e $'fromEnum \\'A\\'' #=> 65\r\n",
        "!ghc -e \"fromEnum 'A'\" #=> 65\r\n",
        "!ghc -e \"fromEnum 'あ'\" #=> 12354\r\n",
        "!ghc -e \"fromEnum ' '\" #=> 32"
      ],
      "execution_count": null,
      "outputs": [
        {
          "output_type": "stream",
          "text": [
            "'A'\n",
            "'\\12354'\n",
            "3\n",
            "[65,66,67]\n",
            "65\n",
            "65\n",
            "12354\n",
            "32\n"
          ],
          "name": "stdout"
        }
      ]
    },
    {
      "cell_type": "code",
      "metadata": {
        "colab": {
          "base_uri": "https://localhost:8080/"
        },
        "id": "vjiOEdFkNagK",
        "outputId": "73c8224d-80b1-49ce-fa7f-3d6398f52eea"
      },
      "source": [
        "# show でできること\r\n",
        "!ghc -e 'show 32' #=> \"32\"\r\n",
        "!ghc -e 'show \"あ\"' #=> \"\\\"\\\\12354\\\"\"\r\n",
        "!ghc -e 'show \"abc\"' #=> \"\\\"abc\\\"\"\r\n",
        "!ghc -e 'show [1,2,3]' #=> \"[1,2,3]\"\r\n",
        "!ghc -e 'show (1e5::Double)' #=> \"100000.0\"\r\n",
        "!ghc -e 'show NaN' #=> error: Data constructor not in scope: NaN :: ()\r\n",
        "!ghc -e 'show (0/0)' #=> \"NaN\"\r\n",
        "!ghc -e 'show (3.141592653589793e+100::Float)' #=> \"Infinity\""
      ],
      "execution_count": null,
      "outputs": [
        {
          "output_type": "stream",
          "text": [
            "\"32\"\n",
            "\"\\\"\\\\12354\\\"\"\n",
            "\"\\\"abc\\\"\"\n",
            "\"[1,2,3]\"\n",
            "\"100000.0\"\n",
            "\n",
            "<interactive>:0:6: error: Data constructor not in scope: NaN :: ()\n",
            "\"NaN\"\n",
            "\"Infinity\"\n"
          ],
          "name": "stdout"
        }
      ]
    },
    {
      "cell_type": "code",
      "metadata": {
        "id": "NOPdhGCJVnaG"
      },
      "source": [
        "# \\& 文字の切れ目\r\n",
        "!ghc -e '\"a\\x62c\"' #=> \\x62 と c の間に切れ目が必要\r\n",
        "!ghc -e '\"a\\x62\\&c\"' #=> \\& は 空文字列 \"\" を表す\r\n",
        "!ghc -e '\"\\&\"' #=> \"\"\r\n",
        "!ghc -e \"'\\x62'\" #=> 'b'\r\n",
        "!ghc -e \"'\\&'\" #=> error: lexical error in string/character literal at character '&'"
      ],
      "execution_count": null,
      "outputs": []
    },
    {
      "cell_type": "code",
      "metadata": {
        "id": "16ZvO9aDOpbb"
      },
      "source": [
        "# 1個以上の改行や空白文字を \\ で囲むと、空文字列 \"\" として扱われる。\r\n",
        "# これを利用して長い文字列を複数行に分けて入れられる、とか。\r\n",
        "# しかし、これは ghci 上の話だね!!!!\r\n",
        "# ターミナルのコマンドライン上で echo などで長い文字列を扱う方法はあるか。\r\n",
        "!ghc -e '\"a\\   \\b\\   \\c\"' #=> \"abc\""
      ],
      "execution_count": null,
      "outputs": []
    },
    {
      "cell_type": "code",
      "metadata": {
        "id": "_V9TBNsCQXSU"
      },
      "source": [
        "# 実験 ターミナルのコマンドライン上での改行\r\n",
        "# echo \"one\r\n",
        "# two\"\r\n",
        "# と本来は書ける。入力も出力も複数行になる。colabのコードセルではダメ。なるほど。"
      ],
      "execution_count": null,
      "outputs": []
    },
    {
      "cell_type": "code",
      "metadata": {
        "colab": {
          "base_uri": "https://localhost:8080/"
        },
        "id": "Nt_xpLlPSfQ9",
        "outputId": "a4b38b43-37ea-4080-9234-f93772623a94"
      },
      "source": [
        "# ユニット型\r\n",
        "!ghc -e '()'\r\n",
        "!ghc -e '()::()'\r\n",
        "!ghc -e ':t ()'\r\n",
        "!ghc -e 'isNaN (()::())' #=> error\r\n",
        "!ghc -e 'isNaN (0/0)'\r\n",
        "!ghc -e ':t isNaN'\r\n",
        "!ghc -e ':t putStrLn'\r\n",
        "!ghc -e 'putStrLn \"Hello\" :: IO ()'"
      ],
      "execution_count": null,
      "outputs": [
        {
          "output_type": "stream",
          "text": [
            "()\n",
            "()\n",
            "() :: ()\n",
            "\n",
            "<interactive>:0:1: error:\n",
            "    • No instance for (RealFloat ()) arising from a use of ‘isNaN’\n",
            "    • In the expression: isNaN (() :: ())\n",
            "      In an equation for ‘it’: it = isNaN (() :: ())\n",
            "True\n",
            "isNaN :: RealFloat a => a -> Bool\n",
            "putStrLn :: String -> IO ()\n",
            "Hello\n"
          ],
          "name": "stdout"
        }
      ]
    },
    {
      "cell_type": "code",
      "metadata": {
        "id": "s5Qu-7RNYXZ1",
        "colab": {
          "base_uri": "https://localhost:8080/"
        },
        "outputId": "4bcd504a-e104-4018-a0c9-4bceee470201"
      },
      "source": [
        "# return は IO アクションを生成する\r\n",
        "!ghc -e ':t return' #=> return :: Monad m => a -> m a\r\n",
        "!ghc -e 'return 1 :: IO Int'\r\n",
        "!ghc -e 'return () :: IO ()'\r\n",
        "!ghc -e 'return \"hello\" :: IO String'\r\n",
        "!ghc -e 'return \"はい\" :: IO String'"
      ],
      "execution_count": null,
      "outputs": [
        {
          "output_type": "stream",
          "text": [
            "return :: Monad m => a -> m a\n",
            "1\n",
            "\"hello\"\n",
            "\"\\12399\\12356\"\n"
          ],
          "name": "stdout"
        }
      ]
    },
    {
      "cell_type": "code",
      "metadata": {
        "id": "GhIzn1z0ZQyr",
        "colab": {
          "base_uri": "https://localhost:8080/"
        },
        "outputId": "9ace3c04-f21b-48d1-f71f-686d91f23a3e"
      },
      "source": [
        "# ボトム _|_ \r\n",
        "# undefined, error がボトムで x=x (無限) もボトム\r\n",
        "!ghc -e ':t undefined'\r\n",
        "!ghc -e ':t error'\r\n",
        "!ghc -e ':t error \"some error\"'\r\n",
        "!ghc -e ':t (let x=x in x)'\r\n",
        "!echo\r\n",
        "!ghc -e ':t undefined::Int'\r\n",
        "!ghc -e ':t (error \"some error\")::Int'\r\n",
        "!ghc -e ':t (let x=x in x)::Int'"
      ],
      "execution_count": null,
      "outputs": [
        {
          "output_type": "stream",
          "text": [
            "undefined :: a\n",
            "error :: [Char] -> a\n",
            "error \"some error\" :: a\n",
            "(let x=x in x) :: t\n",
            "\n",
            "undefined::Int :: Int\n",
            "(error \"some error\")::Int :: Int\n",
            "(let x=x in x)::Int :: Int\n"
          ],
          "name": "stdout"
        }
      ]
    },
    {
      "cell_type": "code",
      "metadata": {
        "id": "hnJnnnaebM6n",
        "colab": {
          "base_uri": "https://localhost:8080/"
        },
        "outputId": "765201b4-8bbe-4461-d275-2f597dd4aca0"
      },
      "source": [
        "# ボトムを評価するとエラーになる\r\n",
        "!ghc -e 'undefined::Int'"
      ],
      "execution_count": null,
      "outputs": [
        {
          "output_type": "stream",
          "text": [
            "<interactive>: Prelude.undefined\n",
            "CallStack (from HasCallStack):\n",
            "  error, called at libraries/base/GHC/Err.hs:79:14 in base:GHC.Err\n",
            "  undefined, called at <interactive>:0:1 in interactive:Ghci1\n"
          ],
          "name": "stdout"
        }
      ]
    },
    {
      "cell_type": "code",
      "metadata": {
        "id": "IE8vBD3Obdq6"
      },
      "source": [
        "!ghc -e 'error \"some error\"'"
      ],
      "execution_count": null,
      "outputs": []
    },
    {
      "cell_type": "code",
      "metadata": {
        "id": "qEFVFTa8i5Hc"
      },
      "source": [
        "# ボトムの使いどころ\r\n",
        "# 型だけ決めておいて、実装をあとで行いたい場合\r\n",
        "# checkTypes :: Term -> Type -> Bool\r\n",
        "# checkTypes = undefined\r\n",
        "# python の def : pass, class : pass に相当か\r\n",
        "# もう一つは error を吐きたいとき\r\n",
        "# if else error \"BUG!!!! y waz 0\"\r\n",
        "# とか。"
      ],
      "execution_count": null,
      "outputs": []
    },
    {
      "cell_type": "code",
      "metadata": {
        "id": "bcdHwTRHjKk7"
      },
      "source": [
        "!ghc -e 'let checkTypes = undefined'"
      ],
      "execution_count": null,
      "outputs": []
    },
    {
      "cell_type": "code",
      "metadata": {
        "id": "jK9kKx8skMpB",
        "colab": {
          "base_uri": "https://localhost:8080/"
        },
        "outputId": "dacc643e-6f93-4b97-9ff9-d850197f4e50"
      },
      "source": [
        "# main の中で裸の変数を使えるか => 使えない。let が必要。\r\n",
        "# 逆に main の外で let は使えない。\r\n",
        "# where の中でも let は使えず、変数は裸で使う。\r\n",
        "%%writefile test.hs\r\n",
        "main = do\r\n",
        "   let x = 20\r\n",
        "   let y = 30\r\n",
        "   print (x+y)"
      ],
      "execution_count": null,
      "outputs": [
        {
          "output_type": "stream",
          "text": [
            "Overwriting test.hs\n"
          ],
          "name": "stdout"
        }
      ]
    },
    {
      "cell_type": "code",
      "metadata": {
        "id": "lkYRoUGrkbz4",
        "colab": {
          "base_uri": "https://localhost:8080/"
        },
        "outputId": "39b9ad86-641c-4af2-db3c-63b779f3addd"
      },
      "source": [
        "!runghc test.hs"
      ],
      "execution_count": null,
      "outputs": [
        {
          "output_type": "stream",
          "text": [
            "50\n"
          ],
          "name": "stdout"
        }
      ]
    },
    {
      "cell_type": "code",
      "metadata": {
        "id": "V6Q47jlplUrU",
        "colab": {
          "base_uri": "https://localhost:8080/"
        },
        "outputId": "2bb12c5f-ab39-41e1-f358-3e555d18fd54"
      },
      "source": [
        "# ということは do なしで\r\n",
        "!ghc -e 'let {x=20; y=30;} in print (x+y)'\r\n",
        "# とするのが正しいのかも"
      ],
      "execution_count": null,
      "outputs": [
        {
          "output_type": "stream",
          "text": [
            "50\n"
          ],
          "name": "stdout"
        }
      ]
    },
    {
      "cell_type": "code",
      "metadata": {
        "id": "WdOKGSR4l62-"
      },
      "source": [
        "# where は使えるか\r\n",
        "!ghc -e 'print (x+y) where {x=10;y=20})' #=> error: parse error on input ‘where’\r\n",
        "!echo\r\n",
        "# 次の例では使えている\r\n",
        "!echo $'85 1.90' | ghc -e $'getContents >>= let{bmiTell::(RealFloat a)=>a->a->String; bmiTell weight height |weight/height^2<=18.5=\"Emo!\"|weight/height^2<=25.0=\"Normal!\"|weight/height^2<=30.0=\"Fat!\"| otherwise = \"A whale\" where bmi = weight / height ^ 2 ;} in print.(\\[x, y] -> bmiTell x y).map (read::String->Float).words.concat.lines'\r\n",
        "!echo $'100 1.10' | ghc -e $'getContents >>= let{bmiTell::(RealFloat a)=>a->a->String; bmiTell weight height |weight/height^2<=18.5=\"Emo!\"|weight/height^2<=25.0=\"Normal!\"|weight/height^2<=30.0=\"Fat!\"| otherwise = \"A whale\" where bmi = weight / height ^ 2 ;} in print.(\\[x, y] -> bmiTell x y).map (read::String->Float).words.concat.lines'\r\n",
        "!echo $'50 1.70' | ghc -e $'getContents >>= let{bmiTell::(RealFloat a)=>a->a->String; bmiTell weight height |weight/height^2<=18.5=\"Emo!\"|weight/height^2<=25.0=\"Normal!\"|weight/height^2<=30.0=\"Fat!\"| otherwise = \"A whale\" where bmi = weight / height ^ 2 ;} in print.(\\[x, y] -> bmiTell x y).map (read::String->Float).words.concat.lines'\r\n",
        "!echo\r\n",
        "# 単純化する\r\n",
        "!ghc -e 'let {sayOk = sayOk02 where {sayOk02 = \"Ok\"}} in sayOk' \r\n",
        "# 今の理解。where は関数ではなく syntactic sugar なのでそれを理解して使う。 \r\n",
        "# 使えるところしか使えない。 使えるところでは便利。 \r\n",
        "# まずは let で書いて、let の中で使うのがいいのではないか。\r\n",
        "# do とか。 パターンマッチングによる関数定義、とか。も便利だがそれなりの理解が大切と思う。"
      ],
      "execution_count": null,
      "outputs": []
    },
    {
      "cell_type": "code",
      "metadata": {
        "id": "65TUegL9FdkC",
        "colab": {
          "base_uri": "https://localhost:8080/"
        },
        "outputId": "f7734343-ae98-4500-de92-69ec43c95d96"
      },
      "source": [
        "# let\r\n",
        "!ghci -e 'let {x=10;y=20} in x+y' #=> 30\r\n",
        "!ghci -e '(let {x=10;y=20} in x+y) + (let x = 100 in x)' #=> 130\r\n",
        "!ghci -e 'let x = 10 in let y = 20 in x + y' #=> 30\r\n",
        "!ghci -e 'let {z=x+y;x=10;y=30} in z' #=> 40\r\n",
        "!ghci -e 'let {z=x+y where {x=10;y=40}} in z' #=> 50"
      ],
      "execution_count": null,
      "outputs": [
        {
          "output_type": "stream",
          "text": [
            "30\n",
            "130\n",
            "30\n",
            "40\n",
            "50\n"
          ],
          "name": "stdout"
        }
      ]
    },
    {
      "cell_type": "code",
      "metadata": {
        "id": "1Zq1uIEuunlj"
      },
      "source": [
        "# 関数の定義\r\n",
        "!ghc -e 'let {incr n = n+1::Int} in incr 1'\r\n",
        "!ghc -e 'let {incr n = (n+1::Int)} in incr 2'\r\n",
        "!ghc -e 'let {incr n = (n+1::Int)} in incr (3)'\r\n",
        "!ghc -e 'let {incr n = (n+1::Int)} in incr' # incr の型は Int -> Int ということがエラーメッセージでわかる\r\n",
        "!ghc -e 'let {add x y  = (x + y :: Int)} in add' # add の型は Int -> Int -> Int\r\n",
        "!ghc -e ':t (+)' #=> (+) :: Num a => a -> a -> a"
      ],
      "execution_count": null,
      "outputs": []
    },
    {
      "cell_type": "code",
      "metadata": {
        "id": "aDhl_x6BzzP0",
        "colab": {
          "base_uri": "https://localhost:8080/"
        },
        "outputId": "d92e03d2-deb6-4f53-edfa-3cb702994fce"
      },
      "source": [
        "# ラムダ式 無名関数 は \\ と -> を使う\r\n",
        "!ghc -e '(\\n -> n + 1 :: Int ) 10' #=> 11\r\n",
        "!ghc -e ':t \\n -> n + 1 :: Int' #=> \\n -> n + 1 :: Int :: Int -> Int\r\n",
        "!ghc -e 'let{incr = \\n -> n + 1 :: Int} in incr 12' #=> 13\r\n",
        "!ghc -e 'let{add = \\m n -> m + n :: Int} in add 3 4' #=> 7\r\n",
        "# カリー化\r\n",
        "!ghc -e 'let{add = \\m -> \\n ->  m + n :: Int} in add 3 4' #=> 7"
      ],
      "execution_count": null,
      "outputs": [
        {
          "output_type": "stream",
          "text": [
            "11\n",
            "\\n -> n + 1 :: Int :: Int -> Int\n",
            "13\n",
            "7\n",
            "7\n"
          ],
          "name": "stdout"
        }
      ]
    },
    {
      "cell_type": "code",
      "metadata": {
        "colab": {
          "base_uri": "https://localhost:8080/"
        },
        "id": "8ZM5kbTHzh3d",
        "outputId": "9ba9fb47-569d-42cb-d5a0-9dfed4bf9df9"
      },
      "source": [
        "# break\r\n",
        "!ghc -e ':t break' #=> break :: (a -> Bool) -> [a] -> ([a], [a])\r\n",
        "!ghc -e $'break (\\\\n -> n == \\'c\\') \"abcdef\"' #=> (\"ab\", \"cdef\")"
      ],
      "execution_count": null,
      "outputs": [
        {
          "output_type": "stream",
          "text": [
            "break :: (a -> Bool) -> [a] -> ([a], [a])\n",
            "(\"ab\",\"cdef\")\n"
          ],
          "name": "stdout"
        }
      ]
    },
    {
      "cell_type": "code",
      "metadata": {
        "colab": {
          "base_uri": "https://localhost:8080/"
        },
        "id": "l29cN68I0e4e",
        "outputId": "00003f96-9d40-4edc-be5b-0de8da112c08"
      },
      "source": [
        "# 合成関数\r\n",
        "!ghc -e ':t (.)' #=> (.) :: (b -> c) -> (a -> b) -> a -> c\r\n",
        "!ghc -e 'let {f x = x^2; g x = x+1} in (f . g) 3' #=> 16\r\n",
        "!ghc -e 'let {f x = x^2; g x = x+1; twofunc = f.g} in twofunc 3' #=> 16"
      ],
      "execution_count": null,
      "outputs": [
        {
          "output_type": "stream",
          "text": [
            "(.) :: (b -> c) -> (a -> b) -> a -> c\n",
            "16\n",
            "16\n"
          ],
          "name": "stdout"
        }
      ]
    },
    {
      "cell_type": "code",
      "metadata": {
        "colab": {
          "base_uri": "https://localhost:8080/"
        },
        "id": "W8aPrcoF1hZy",
        "outputId": "22edaba2-567b-441d-9c9b-d1b389ba73c8"
      },
      "source": [
        "# 冪乗\r\n",
        "!ghc -e '(** 5.5) 2' #=> 45.254833995939045\r\n",
        "!ghc -e ':t (**)' #=> (**) :: Floating a => a -> a -> a\r\n",
        "!ghc -e ':t (^)' #=> (^) :: (Num a, Integral b) => a -> b -> a\r\n",
        "!ghc -e 'let {h = (+2).(**4)} in h 2' #=> 18.0\r\n",
        "# 関数合成による定義はポイント(変数)を使わないという意味でポイントフリースタイルと呼びます。\r\n",
        "# A common misconception is that the 'points' of pointfree style are \r\n",
        "# the (.) operator (function composition, as an ASCII symbol), \r\n",
        "# which uses the same identifier as the decimal point. This is wrong. \r\n",
        "# The term originated in topology, a branch of mathematics which works with spaces composed of points, \r\n",
        "# and functions between those spaces. So a 'points-free' definition of a function is \r\n",
        "# one which does not explicitly mention the points (values) of the space on which the function acts.\r\n",
        "# In Haskell, our 'space' is some type, and 'points' are values. \r\n",
        "# https://wiki.haskell.org/Pointfree#But_pointfree_has_more_points.21"
      ],
      "execution_count": null,
      "outputs": [
        {
          "output_type": "stream",
          "text": [
            "45.254833995939045\n",
            "(**) :: Floating a => a -> a -> a\n",
            "(^) :: (Num a, Integral b) => a -> b -> a\n",
            "18.0\n"
          ],
          "name": "stdout"
        }
      ]
    },
    {
      "cell_type": "code",
      "metadata": {
        "id": "9ZoImaW59S0J",
        "colab": {
          "base_uri": "https://localhost:8080/"
        },
        "outputId": "17907bd4-e31b-4dc1-f141-a3e7c8f1e822"
      },
      "source": [
        "# 実験\r\n",
        "!ghc -e '(\\x y -> (x + 2) * (y + 3)) 3 4' #=> 35\r\n",
        "!ghc -e '((. (3 +)) . (*) . (2 + )) 3 4' #=> 35\r\n",
        "# これはポイントフリーを多用するとわかりにくくなる、という例 p.44 だが、変数 2つを同時に処理できるのか!!!!\r\n",
        "# まるで APL の fork みたいではないか。 絶対使いみちある、と思う。"
      ],
      "execution_count": null,
      "outputs": [
        {
          "output_type": "stream",
          "text": [
            "35\n",
            "35\n"
          ],
          "name": "stdout"
        }
      ]
    },
    {
      "cell_type": "code",
      "metadata": {
        "id": "s9BVHumdCQud",
        "colab": {
          "base_uri": "https://localhost:8080/"
        },
        "outputId": "ebc94385-8ae1-45c1-9a5e-e2e557090323"
      },
      "source": [
        "# 実験\r\n",
        "!ghc -e '((+) 1) 2' #= 3\r\n",
        "!ghc -e '((+) 1) (let {x=10;y=20} in x+y)' #=> 31\r\n",
        "# 上の文で $ が使えるか => 使えた\r\n",
        "!ghc -e '((+) 1) $ let {x=10;y=20} in x+y' #=> 31\r\n",
        "# 次のはどうか => 使えた\r\n",
        "!ghc -e $'flip break \"abcdef\" $ \\\\n -> n==\\'c\\'' #=> (\"ab\", \"cdef\")"
      ],
      "execution_count": null,
      "outputs": [
        {
          "output_type": "stream",
          "text": [
            "3\n",
            "31\n",
            "31\n",
            "(\"ab\",\"cdef\")\n"
          ],
          "name": "stdout"
        }
      ]
    },
    {
      "cell_type": "code",
      "metadata": {
        "id": "uXXsxeBzDzgq",
        "colab": {
          "base_uri": "https://localhost:8080/"
        },
        "outputId": "8ff22ec2-eeb4-441d-f68d-78829e9bc0f5"
      },
      "source": [
        "# $ の連結と合成関数\r\n",
        "!ghc -e '(+) 1 $ (+) 2 $ (+) 3 $ 4' #=> 10\r\n",
        "!ghc -e '((+) 1). ((+) 2) . ((+) 3) $ 4' #=> 10\r\n",
        "# 私には後者、ポイントフリースタイルの方がわかりやすいが、この例ではあまり差がないし、両方すなおにわかるのがよい。"
      ],
      "execution_count": null,
      "outputs": [
        {
          "output_type": "stream",
          "text": [
            "10\n",
            "10\n"
          ],
          "name": "stdout"
        }
      ]
    },
    {
      "cell_type": "code",
      "metadata": {
        "colab": {
          "base_uri": "https://localhost:8080/"
        },
        "id": "lViha4wQ0ZLg",
        "outputId": "76d77de4-2680-4ab9-e262-ea3d3e55ff8c"
      },
      "source": [
        "# 遅延評価と if 文の選ばれなかった方が評価されないことは違うと思うのだが\r\n",
        "# テキストには次の例が載っている\r\n",
        "!ghc -e 'let{hf::Int->Int;hf x =1}in print (hf (0 `div` 0))' #=> 1\r\n",
        "!ghc -e 'fst (1, undefined)' #=> 1"
      ],
      "execution_count": null,
      "outputs": [
        {
          "output_type": "stream",
          "text": [
            "1\n",
            "1\n"
          ],
          "name": "stdout"
        }
      ]
    },
    {
      "cell_type": "code",
      "metadata": {
        "colab": {
          "base_uri": "https://localhost:8080/"
        },
        "id": "uQvzsg24HS2d",
        "outputId": "cbf5e4e9-290f-4b90-8afb-1ede2414baff"
      },
      "source": [
        "# seq を使う\r\n",
        "!ghc -e 'let{hf::Int->Int;hf x = seq x 1} in print (hf(0 `div` 0))' #=> <interactive>: divide by zero\r\n",
        "# ! を使う\r\n",
        "!ghc -e 'let{hf::Int->Int;hf x =1}in print (hf $! (0 `div` 0))' #=>  <interactive>: divide by zero"
      ],
      "execution_count": null,
      "outputs": [
        {
          "output_type": "stream",
          "text": [
            "<interactive>: divide by zero\n",
            "<interactive>: divide by zero\n",
            "<interactive>: <command line>: Some flags have not been recognized: {let{hf::Int->Int;hf, !x, =1}in, print, (hf, (0, `div`, 0))}\n"
          ],
          "name": "stdout"
        }
      ]
    },
    {
      "cell_type": "code",
      "metadata": {
        "colab": {
          "base_uri": "https://localhost:8080/"
        },
        "id": "q1CkHaf8IwXU",
        "outputId": "02035501-68da-416c-efde-0836cfcd3c97"
      },
      "source": [
        "# :set -XBangPatterns -- BangPattern を有効にする\r\n",
        "# というような拡張機能はどうやって使うのか\r\n",
        "# 実験\r\n",
        "!ghc -XBangPatterns -e 'let { hf !x =  1} in print (hf (0 `div` 0))' #=> <interactive>: divide by zero\r\n",
        "# -XStrict では全部先行評価になって、~ をつけた変数だけ遅延評価になる\r\n",
        "!ghc -XStrict -e 'let { f x =  1; g ~x = 1} in print (f $ (0 `div` 0))' #=> <interactive>: divide by zero\r\n",
        "!ghc -XStrict -e 'let { f x =  1; g ~x = 1} in print (g $ (0 `div` 0))' #=> 1"
      ],
      "execution_count": null,
      "outputs": [
        {
          "output_type": "stream",
          "text": [
            "<interactive>: divide by zero\n",
            "<interactive>: divide by zero\n",
            "1\n"
          ],
          "name": "stdout"
        }
      ]
    },
    {
      "cell_type": "code",
      "metadata": {
        "colab": {
          "base_uri": "https://localhost:8080/"
        },
        "id": "IEKuhXKQYiKU",
        "outputId": "b00a66e4-a958-4138-ac9b-b51b408a8990"
      },
      "source": [
        "# 中置演算子 infix operator\r\n",
        "!ghc -e '\"has\" `Data.List.isPrefixOf` \"haskell\"' #=> True"
      ],
      "execution_count": null,
      "outputs": [
        {
          "output_type": "stream",
          "text": [
            "True\n"
          ],
          "name": "stdout"
        }
      ]
    },
    {
      "cell_type": "code",
      "metadata": {
        "colab": {
          "base_uri": "https://localhost:8080/"
        },
        "id": "sTPVAY02Y8N0",
        "outputId": "790c3600-ff83-4f98-bad3-4b9b291945f8"
      },
      "source": [
        "# セクション 中置演算子の使い方\r\n",
        "!ghc -e '(2 ^) 10' #=> 1024\r\n",
        "!ghc -e '(^ 2) 10' #=> 100\r\n",
        "!ghc -e '(2 -) 10' #=> -8\r\n",
        "!ghc -e '(subtract 2) 10' #=> 8 \r\n",
        "# subtract a b = b - a で定義されている"
      ],
      "execution_count": null,
      "outputs": [
        {
          "output_type": "stream",
          "text": [
            "1024\n",
            "100\n",
            "-8\n",
            "8\n"
          ],
          "name": "stdout"
        }
      ]
    },
    {
      "cell_type": "code",
      "metadata": {
        "colab": {
          "base_uri": "https://localhost:8080/"
        },
        "id": "NGtv20dWaGpm",
        "outputId": "1cbaf20e-eb18-48fd-c8f8-b188125b170a"
      },
      "source": [
        "# 実験\r\n",
        "!ghc -e '(`Data.List.isPrefixOf` \"haskell\") \"has\"' #=> True"
      ],
      "execution_count": null,
      "outputs": [
        {
          "output_type": "stream",
          "text": [
            "True\n"
          ],
          "name": "stdout"
        }
      ]
    },
    {
      "cell_type": "code",
      "metadata": {
        "colab": {
          "base_uri": "https://localhost:8080/"
        },
        "id": "MBlLu3VqbSUK",
        "outputId": "b0309f1b-6c5a-4604-f999-53f469915354"
      },
      "source": [
        "# main と do 式\r\n",
        "# 標準入力から太郎と入れて、太郎さん、こんにちは!!!!と標準出力に出す\r\n",
        "%%writefile test01.hs\r\n",
        "main = getContents >>= putStrLn . (\\n -> n ++ \"さん、こんにちは!!!!\") . head . words"
      ],
      "execution_count": null,
      "outputs": [
        {
          "output_type": "stream",
          "text": [
            "Overwriting test01.hs\n"
          ],
          "name": "stdout"
        }
      ]
    },
    {
      "cell_type": "code",
      "metadata": {
        "colab": {
          "base_uri": "https://localhost:8080/"
        },
        "id": "DI69-uopcB24",
        "outputId": "dbc95659-20ff-4b61-e1e5-8192def7f313"
      },
      "source": [
        "!echo \"太郎\" |runghc test01.hs"
      ],
      "execution_count": null,
      "outputs": [
        {
          "output_type": "stream",
          "text": [
            "太郎さん、こんにちは!!!!\n"
          ],
          "name": "stdout"
        }
      ]
    },
    {
      "cell_type": "code",
      "metadata": {
        "colab": {
          "base_uri": "https://localhost:8080/"
        },
        "id": "EuxufZmTci6b",
        "outputId": "1af9071f-fd0f-430e-dfc8-4616efdad7c6"
      },
      "source": [
        "# main と do 式\r\n",
        "# 標準入力から太郎と入れて、太郎さん、こんにちは!!!!と標準出力に出す\r\n",
        "%%writefile test01.hs\r\n",
        "main = do\r\n",
        "    text <- getContents\r\n",
        "    let text2 = head(words(text))\r\n",
        "    let text3 = text2 ++ \"さん、こんばんは!\"\r\n",
        "    putStrLn text3"
      ],
      "execution_count": null,
      "outputs": [
        {
          "output_type": "stream",
          "text": [
            "Overwriting test01.hs\n"
          ],
          "name": "stdout"
        }
      ]
    },
    {
      "cell_type": "code",
      "metadata": {
        "colab": {
          "base_uri": "https://localhost:8080/"
        },
        "id": "jfd4b4uwc3X6",
        "outputId": "9db7a832-2407-449a-af22-185b25907639"
      },
      "source": [
        "!echo \"太郎\" |runghc test01.hs"
      ],
      "execution_count": null,
      "outputs": [
        {
          "output_type": "stream",
          "text": [
            "太郎さん、こんばんは!\n"
          ],
          "name": "stdout"
        }
      ]
    },
    {
      "cell_type": "code",
      "metadata": {
        "colab": {
          "base_uri": "https://localhost:8080/"
        },
        "id": "I1x6BJbwdXO-",
        "outputId": "5a1d5520-0cfd-40bf-de7a-e8aea8039c31"
      },
      "source": [
        "# main と do 式\r\n",
        "# 標準入力から太郎と入れて、太郎さん、こんにちは!!!!と標準出力に出す\r\n",
        "%%writefile test01.hs\r\n",
        "main = do\r\n",
        "    text <- getContents\r\n",
        "    putStrLn $ head(words(text)) ++ \"さん、おはよう!\""
      ],
      "execution_count": null,
      "outputs": [
        {
          "output_type": "stream",
          "text": [
            "Overwriting test01.hs\n"
          ],
          "name": "stdout"
        }
      ]
    },
    {
      "cell_type": "code",
      "metadata": {
        "colab": {
          "base_uri": "https://localhost:8080/"
        },
        "id": "4qaTQOnFdU9n",
        "outputId": "4d5ecf72-5c2e-4af9-b907-c0cad18d5b4e"
      },
      "source": [
        "!echo \"太郎\" |runghc test01.hs"
      ],
      "execution_count": null,
      "outputs": [
        {
          "output_type": "stream",
          "text": [
            "太郎さん、おはよう!\n"
          ],
          "name": "stdout"
        }
      ]
    },
    {
      "cell_type": "code",
      "metadata": {
        "id": "bkRIU0b9e8i4",
        "colab": {
          "base_uri": "https://localhost:8080/"
        },
        "outputId": "827a03a8-f119-47df-fad5-44417d86c5c2"
      },
      "source": [
        "# System.Environment\r\n",
        "%%writefile test01.hs\r\n",
        "import System.Environment\r\n",
        "\r\n",
        "main = do\r\n",
        "    let title = \"Current Python: \"\r\n",
        "    envname <- getEnv \"CLOUDSDK_PYTHON\"\r\n",
        "    putStr title\r\n",
        "    putStrLn envname"
      ],
      "execution_count": null,
      "outputs": [
        {
          "output_type": "stream",
          "text": [
            "Overwriting test01.hs\n"
          ],
          "name": "stdout"
        }
      ]
    },
    {
      "cell_type": "code",
      "metadata": {
        "colab": {
          "base_uri": "https://localhost:8080/"
        },
        "id": "lUFyFuItfbP_",
        "outputId": "715870ef-846c-4551-e233-a439729f5741"
      },
      "source": [
        "!runghc test01.hs"
      ],
      "execution_count": null,
      "outputs": [
        {
          "output_type": "stream",
          "text": [
            "Current Python: python3\n"
          ],
          "name": "stdout"
        }
      ]
    },
    {
      "cell_type": "code",
      "metadata": {
        "id": "u5Qs3h6Sfmn9"
      },
      "source": [
        "# 環境変数をリストする => printenv, env, set\r\n",
        "!printenv"
      ],
      "execution_count": null,
      "outputs": []
    },
    {
      "cell_type": "code",
      "metadata": {
        "id": "ZJ2QKZZ3jEGG",
        "colab": {
          "base_uri": "https://localhost:8080/"
        },
        "outputId": "50975222-9441-4634-c578-50b840ec773b"
      },
      "source": [
        "# p.54 の例\r\n",
        "# 正直悪い例だと思う。 というか do が特殊なので本の全体の始めの段階で込み入った例を出すのはよくない。\r\n",
        "# putY が出力がないのは IO ではなく、評価がされていないからではないのか。\r\n",
        "# main へ紐付ける、とは何を言いたいのか。 評価されて IO が云々。\r\n",
        "%%writefile test01.hs\r\n",
        "import Control.Monad\r\n",
        "putW, putX :: IO ()\r\n",
        "putW = putStrLn \"W\"\r\n",
        "putX = putStrLn \"X\"\r\n",
        "\r\n",
        "makePutY, makePutZ :: IO (IO ())\r\n",
        "makePutY = return $ putStrLn \"Y\"\r\n",
        "makePutZ = return $ putStrLn \"Z\"\r\n",
        "\r\n",
        "main :: IO ()\r\n",
        "main = do\r\n",
        "  let w = putW\r\n",
        "      x = putX\r\n",
        "\r\n",
        "  w -- Wが表示される。\r\n",
        "\r\n",
        "  putY <- makePutY -- 生成したYを表示するI/OアクションputYをmainへ紐付けていないので、Yは表示されない\r\n",
        "  \r\n",
        "  putZ <- makePutZ\r\n",
        "  putZ -- 生成したI/OアクションputZをmainへ紐付けると、Zが表示される\r\n",
        "  \r\n",
        "  Control.Monad.join makePutY -- Control.Monad.join :: Monad m => m (m a) -> m a"
      ],
      "execution_count": 113,
      "outputs": [
        {
          "output_type": "stream",
          "text": [
            "Overwriting test01.hs\n"
          ],
          "name": "stdout"
        }
      ]
    },
    {
      "cell_type": "code",
      "metadata": {
        "id": "dax-ErVXl_cA",
        "colab": {
          "base_uri": "https://localhost:8080/"
        },
        "outputId": "bd642af8-d787-4493-bdf3-1a0cd858c8a5"
      },
      "source": [
        "!runghc test01.hs"
      ],
      "execution_count": 114,
      "outputs": [
        {
          "output_type": "stream",
          "text": [
            "W\n",
            "Z\n",
            "Y\n"
          ],
          "name": "stdout"
        }
      ]
    },
    {
      "cell_type": "code",
      "metadata": {
        "id": "GxzdQR34q6_t",
        "colab": {
          "base_uri": "https://localhost:8080/"
        },
        "outputId": "eda07ead-5488-4bbe-8603-a1a4994ffa57"
      },
      "source": [
        "!ghc -e ':t Control.Monad.join'"
      ],
      "execution_count": 103,
      "outputs": [
        {
          "output_type": "stream",
          "text": [
            "Control.Monad.join :: Monad m => m (m a) -> m a\n"
          ],
          "name": "stdout"
        }
      ]
    },
    {
      "cell_type": "code",
      "metadata": {
        "id": "cDjrMN_9KIBO",
        "outputId": "a29e4f95-d92f-45af-94c9-8d5a96789169",
        "colab": {
          "base_uri": "https://localhost:8080/"
        }
      },
      "source": [
        "# Debug.Trace\r\n",
        "!ghc -e 'const (Debug.Trace.trace \"Evaluate 1\" 1) (Debug.Trace.trace \"Evaluate 2\" 2)'\r\n",
        "!ghc -e ':t const'\r\n",
        "!ghc -e 'const 1 2'"
      ],
      "execution_count": 118,
      "outputs": [
        {
          "output_type": "stream",
          "text": [
            "Evaluate 1\n",
            "1\n",
            "const :: a -> b -> a\n",
            "1\n"
          ],
          "name": "stdout"
        }
      ]
    },
    {
      "cell_type": "code",
      "metadata": {
        "id": "bvcTJwgQLHDD",
        "outputId": "542a3672-e89b-49f0-e02b-61859f8afafa",
        "colab": {
          "base_uri": "https://localhost:8080/"
        }
      },
      "source": [
        "# p. 56\r\n",
        "# Haskell のプログラムでは if 式よりもパターンマッチやガードが多用されます\r\n",
        "# とあるが、むしろ if や case を多用したい。なぜなら、関数だから。\r\n",
        "!ghc -e 'let checkAgen n = if n < 30 then \"Young\" else \"Adult\" in checkAgen 30'\r\n",
        "# echo で標準入力から年齢を入力し、Young か Adult を出力する\r\n",
        "!echo '20' |ghc -e 'getContents >>= print.(read::String->Int).concat.words'\r\n",
        "!echo '20' |ghc -e 'getContents >>= putStrLn.(\\n -> if n < 30 then \"Young\" else \"Adult\").(read::String->Int).concat.words'\r\n",
        "!echo '50' |ghc -e 'getContents >>= putStrLn.(\\n -> if n < 30 then \"Young\" else \"Adult\").(read::String->Int).concat.words'"
      ],
      "execution_count": 129,
      "outputs": [
        {
          "output_type": "stream",
          "text": [
            "\"Adult\"\n",
            "20\n",
            "Young\n",
            "Adult\n"
          ],
          "name": "stdout"
        }
      ]
    },
    {
      "cell_type": "code",
      "metadata": {
        "id": "Bq0LMBelN8JU",
        "outputId": "1380c94a-6fde-4ee9-9f2b-cb0f97ebd3db",
        "colab": {
          "base_uri": "https://localhost:8080/"
        }
      },
      "source": [
        "# パターンマッチ\r\n",
        "!ghc -e 'let {x=False::Bool} in case x of {True -> \"x is True\"; False -> \"x is False\"}'"
      ],
      "execution_count": 132,
      "outputs": [
        {
          "output_type": "stream",
          "text": [
            "\"x is False\"\n"
          ],
          "name": "stdout"
        }
      ]
    },
    {
      "cell_type": "markdown",
      "metadata": {
        "id": "vhqdCkeArwwy"
      },
      "source": [
        "\r\n",
        "# いまここ"
      ]
    },
    {
      "cell_type": "code",
      "metadata": {
        "id": "02uvoODA9KAU"
      },
      "source": [
        "# いまここ\r\n",
        "# p. 57"
      ],
      "execution_count": null,
      "outputs": []
    }
  ]
}