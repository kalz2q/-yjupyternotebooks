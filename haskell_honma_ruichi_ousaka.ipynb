{
  "nbformat": 4,
  "nbformat_minor": 0,
  "metadata": {
    "colab": {
      "name": "haskell_honma_ruichi_ousaka.ipynb",
      "provenance": [],
      "toc_visible": true,
      "authorship_tag": "ABX9TyMe+SUaKAEfOMfqvnCqOm4z",
      "include_colab_link": true
    },
    "kernelspec": {
      "name": "python3",
      "display_name": "Python 3"
    }
  },
  "cells": [
    {
      "cell_type": "markdown",
      "metadata": {
        "id": "view-in-github",
        "colab_type": "text"
      },
      "source": [
        "<a href=\"https://colab.research.google.com/github/kalz2q/mycolabnotebooks/blob/master/haskell_honma_ruichi_ousaka.ipynb\" target=\"_parent\"><img src=\"https://colab.research.google.com/assets/colab-badge.svg\" alt=\"Open In Colab\"/></a>"
      ]
    },
    {
      "cell_type": "markdown",
      "metadata": {
        "id": "bcZTrfj_mS2w"
      },
      "source": [
        "# メモ\r\n",
        "\r\n",
        "本間雅洋 ほんままさひろ 類地孝介 るいちこうすけ 逢坂時響 おうさかときお  \r\n",
        "Haskell 入門 技術評論社  \r\n",
        "を読むノート。\r\n",
        "\r\n",
        "実験学習です。\r\n",
        "\r\n"
      ]
    },
    {
      "cell_type": "code",
      "metadata": {
        "id": "qjJR8oRUmvF-"
      },
      "source": [
        "%%capture\r\n",
        "!apt install haskell-platform"
      ],
      "execution_count": 1,
      "outputs": []
    },
    {
      "cell_type": "code",
      "metadata": {
        "id": "n51i0CbJns8w"
      },
      "source": [
        "!ghc -e '1'\r\n",
        "!ghc -e '1::Int'\r\n",
        "!ghc -e '1::Double'\r\n",
        "!ghc -e '1.0'\r\n",
        "# 次のはエラーになった。\r\n",
        "!ghc -e '1.0::Int'"
      ],
      "execution_count": null,
      "outputs": []
    },
    {
      "cell_type": "code",
      "metadata": {
        "id": "QsbrWWhDoTbZ"
      },
      "source": [
        "!ghc -e 'minBound::Int'\r\n",
        "# :t でタイプを調べることができる。\r\n",
        "!ghc -e ':t minBound'\r\n",
        "!ghc -e 'minBound'\r\n",
        "# Integer, Double, Float とかでエラーになった。\r\n",
        "!ghc -e 'minBound::Float'"
      ],
      "execution_count": null,
      "outputs": []
    },
    {
      "cell_type": "code",
      "metadata": {
        "colab": {
          "base_uri": "https://localhost:8080/"
        },
        "id": "xxVupjUpqgkQ",
        "outputId": "30fe8fae-e644-4a40-d0a5-8ed34092e236"
      },
      "source": [
        "!ghc -e ':t 1'\r\n",
        "!ghc -e ':t 1.0'\r\n",
        "# :k で型クラス、タイプクラスを調べることができる。\r\n",
        "!ghc -e ':k Num'\r\n",
        "!ghc -e ':k Fractional'"
      ],
      "execution_count": null,
      "outputs": [
        {
          "output_type": "stream",
          "text": [
            "1 :: Num t => t\n",
            "1.0 :: Fractional t => t\n",
            "Num :: * -> Constraint\n",
            "Fractional :: * -> Constraint\n"
          ],
          "name": "stdout"
        }
      ]
    },
    {
      "cell_type": "code",
      "metadata": {
        "colab": {
          "base_uri": "https://localhost:8080/"
        },
        "id": "m6yihen6pW1S",
        "outputId": "33c7da30-2110-4910-880b-3fff066baf3f"
      },
      "source": [
        "!ghc -e '0xff' # 16進数\r\n",
        "!ghc -e '0o77' # 8進数\r\n",
        "!ghc -e ':t 0xff'\r\n",
        "!ghc -e ':t 1234e100'\r\n",
        "!ghc -e ':t 1234e100::Float'"
      ],
      "execution_count": null,
      "outputs": [
        {
          "output_type": "stream",
          "text": [
            "255\n",
            "63\n",
            "0xff :: Num t => t\n",
            "1234e100 :: Fractional t => t\n",
            "1234e100::Float :: Float\n"
          ],
          "name": "stdout"
        }
      ]
    },
    {
      "cell_type": "code",
      "metadata": {
        "id": "XqJ_b0VCCNAX"
      },
      "source": [
        "# pi は始めから Double で入っている\r\n",
        "!ghc -e 'pi'\r\n",
        "!ghc -e ':t pi'\r\n",
        "\r\n",
        "!ghc -e 'pi::Double'\r\n",
        "!ghc -e 'pi::Float'\r\n",
        "!ghc -e 'pi*1e+38::Float'\r\n",
        "!ghc -e '3.141592653589793e+38::Float'\r\n",
        "!ghc -e '3.141592653589793e+100::Float' #=> Infinity\r\n"
      ],
      "execution_count": null,
      "outputs": []
    },
    {
      "cell_type": "code",
      "metadata": {
        "id": "-HMsFEQPG4LS",
        "colab": {
          "base_uri": "https://localhost:8080/"
        },
        "outputId": "f97e216f-1344-491f-a522-a6b9f5490aa2"
      },
      "source": [
        "# e はどうか\r\n",
        "!ghc -e 'exp(1)'"
      ],
      "execution_count": null,
      "outputs": [
        {
          "output_type": "stream",
          "text": [
            "2.718281828459045\n"
          ],
          "name": "stdout"
        }
      ]
    },
    {
      "cell_type": "code",
      "metadata": {
        "id": "KnthLtHpHBfw",
        "colab": {
          "base_uri": "https://localhost:8080/"
        },
        "outputId": "d466b2fa-3a9f-4967-cd51-7ecdb202bc87"
      },
      "source": [
        "!ghc -e ':t isInfinite'\r\n",
        "!ghc -e ':t isNaN'"
      ],
      "execution_count": null,
      "outputs": [
        {
          "output_type": "stream",
          "text": [
            "isInfinite :: RealFloat a => a -> Bool\n",
            "isNaN :: RealFloat a => a -> Bool\n"
          ],
          "name": "stdout"
        }
      ]
    },
    {
      "cell_type": "code",
      "metadata": {
        "colab": {
          "base_uri": "https://localhost:8080/"
        },
        "id": "ZFWg7MMekyIG",
        "outputId": "3a643481-194e-4522-991d-af4bf5d90377"
      },
      "source": [
        "!ghc -e '0/0' #=> NaN\r\n",
        "!ghc -e 'isNaN (0/0)' #=> True"
      ],
      "execution_count": null,
      "outputs": [
        {
          "output_type": "stream",
          "text": [
            "NaN\n",
            "True\n",
            "1.0 :: Fractional t => t\n",
            "\n",
            "<interactive>:1:1: error:\n",
            "    • Data constructor not in scope: Infinite\n",
            "    • Perhaps you meant variable ‘isInfinite’ (imported from Prelude)\n"
          ],
          "name": "stdout"
        }
      ]
    },
    {
      "cell_type": "code",
      "metadata": {
        "id": "qojvTTT-lKSU"
      },
      "source": [
        "# 整数割り算\r\n",
        "!ghc -e '17 `div` 3' #=> 5\r\n",
        "!ghc -e '17 `mod` 3' #=> 2\r\n",
        "!ghc -e ':t (%)' #=> error not in scope\r\n",
        "!ghc -e ':t mod' #=> mod :: Integral a => a -> a -> a\r\n",
        "!ghc -e '12/3' #=> 4.0\r\n",
        "!ghc -e '12/3::Int' #=> error No instance for (Fractional Int) arising from a use of ‘/’"
      ],
      "execution_count": null,
      "outputs": []
    },
    {
      "cell_type": "code",
      "metadata": {
        "id": "UAYqD3CJ-_Zh"
      },
      "source": [
        "# Int8 とか\r\n",
        "!ghc -e 'minBound::Data.Int.Int8' #=> -128\r\n",
        "!ghc -e 'minBound::Data.Int.Int16' \r\n",
        "!ghc -e 'minBound::Data.Int.Int32' \r\n",
        "!ghc -e 'minBound::Data.Int.Int64' \r\n",
        "!ghc -e '1234::Word' \r\n",
        "!ghc -e 'minBound::Data.Word.Word8'\r\n",
        "!ghc -e 'maxBound::Data.Word.Word8'\r\n",
        "!ghc -e 'maxBound::Data.Word.Word16'\r\n",
        "!ghc -e 'maxBound::Data.Word.Word32'\r\n",
        "!ghc -e 'maxBound::Data.Word.Word64'"
      ],
      "execution_count": null,
      "outputs": []
    },
    {
      "cell_type": "code",
      "metadata": {
        "id": "qBd2bBg0AYV1"
      },
      "source": [
        "# Bool\r\n",
        "!ghc -e 'True::Bool'\r\n",
        "!ghc -e 'not False'\r\n",
        "!ghc -e 'False && True'\r\n",
        "!ghc -e 'False || True'\r\n",
        "!ghc -e '1 /= 1'\r\n",
        "!ghc -e '(1::Int) == (1::Word)' #=> error Couldn't match expected type ‘Int’ with actual type ‘Word’"
      ],
      "execution_count": null,
      "outputs": []
    },
    {
      "cell_type": "code",
      "metadata": {
        "id": "4vkVka9TDXdC"
      },
      "source": [
        "# Char と 2バイト文字\r\n",
        "!ghc -e \"' '::Char\" #=> ' '\r\n",
        "!ghc -e \"'\\32'::Char\" #=> ' '\r\n",
        "!ghc -e \"'あ'::Char\" #=> '\\12354'\r\n",
        "!ghc -e \"'\\n'::Char\" #=> '\\n'\r\n",
        "!ghc -e \"'\\98'::Char\" #=> 'b'\r\n",
        "!ghc -e \"'\\x41'::Char\" #=> 'A'\r\n",
        "!ghc -e \"'\\65'::Char\" #=> 'A'\r\n",
        "!ghc -e \"'\\^['::Char\" #=> '\\ESC'\r\n",
        "!ghc -e \"'\\ESC'::Char\" #=> '\\ESC'"
      ],
      "execution_count": null,
      "outputs": []
    },
    {
      "cell_type": "code",
      "metadata": {
        "id": "wdOdF6rdGMYY"
      },
      "source": [
        "# 文字列\r\n",
        "!ghc -e '\"あいうえお\"' #=> \"\\12354\\12356\\12358\\12360\\12362\"\r\n",
        "!ghc -e '\"あいうえお\"::String' #=> \"\\12354\\12356\\12358\\12360\\12362\"\r\n",
        "!ghc -e '\"a\\98c\"::String' #=> \"abc\""
      ],
      "execution_count": null,
      "outputs": []
    },
    {
      "cell_type": "code",
      "metadata": {
        "colab": {
          "base_uri": "https://localhost:8080/"
        },
        "id": "4nEEJqe6Gv8S",
        "outputId": "f39f1fba-e191-40f2-9f37-3cefdac3fb6e"
      },
      "source": [
        "# クオートとダブルクオート\r\n",
        "!ghc -e \":t 'a'\" #=> 'a' :: Char\r\n",
        "!ghc -e ':t \"a\"' #=> 'a' :: [Char]\r\n",
        "!ghc -e $':t \\'a\\'' #=> 'a' :: Char\r\n",
        "!ghc -e ':t \"a\"' #=> 'a' :: [Char]"
      ],
      "execution_count": null,
      "outputs": [
        {
          "output_type": "stream",
          "text": [
            "'a' :: Char\n",
            "\"a\" :: [Char]\n",
            "'a' :: Char\n",
            "\"a\" :: [Char]\n"
          ],
          "name": "stdout"
        }
      ]
    },
    {
      "cell_type": "code",
      "metadata": {
        "colab": {
          "base_uri": "https://localhost:8080/"
        },
        "id": "48WxFCBhL3HO",
        "outputId": "3cf058dc-67eb-4f13-e63a-fb6305be3d55"
      },
      "source": [
        "# リスト用の関数が使えるが効率がよくないので、ByteStringやTextを使う必要がるとか\r\n",
        "!ghc -e 'head \"ABC\"' #=> 'A'\r\n",
        "!ghc -e 'head \"あいう\"' #=> '\\12354'\r\n",
        "!ghc -e 'length \"ABC\"' #=> 3\r\n",
        "!ghc -e 'map fromEnum \"ABC\"' #=> [65,66,67]\r\n",
        "!ghc -e $'fromEnum \\'A\\'' #=> 65\r\n",
        "!ghc -e \"fromEnum 'A'\" #=> 65\r\n",
        "!ghc -e \"fromEnum 'あ'\" #=> 12354\r\n",
        "!ghc -e \"fromEnum ' '\" #=> 32"
      ],
      "execution_count": null,
      "outputs": [
        {
          "output_type": "stream",
          "text": [
            "'A'\n",
            "'\\12354'\n",
            "3\n",
            "[65,66,67]\n",
            "65\n",
            "65\n",
            "12354\n",
            "32\n"
          ],
          "name": "stdout"
        }
      ]
    },
    {
      "cell_type": "code",
      "metadata": {
        "colab": {
          "base_uri": "https://localhost:8080/"
        },
        "id": "vjiOEdFkNagK",
        "outputId": "73c8224d-80b1-49ce-fa7f-3d6398f52eea"
      },
      "source": [
        "# show でできること\r\n",
        "!ghc -e 'show 32' #=> \"32\"\r\n",
        "!ghc -e 'show \"あ\"' #=> \"\\\"\\\\12354\\\"\"\r\n",
        "!ghc -e 'show \"abc\"' #=> \"\\\"abc\\\"\"\r\n",
        "!ghc -e 'show [1,2,3]' #=> \"[1,2,3]\"\r\n",
        "!ghc -e 'show (1e5::Double)' #=> \"100000.0\"\r\n",
        "!ghc -e 'show NaN' #=> error: Data constructor not in scope: NaN :: ()\r\n",
        "!ghc -e 'show (0/0)' #=> \"NaN\"\r\n",
        "!ghc -e 'show (3.141592653589793e+100::Float)' #=> \"Infinity\""
      ],
      "execution_count": null,
      "outputs": [
        {
          "output_type": "stream",
          "text": [
            "\"32\"\n",
            "\"\\\"\\\\12354\\\"\"\n",
            "\"\\\"abc\\\"\"\n",
            "\"[1,2,3]\"\n",
            "\"100000.0\"\n",
            "\n",
            "<interactive>:0:6: error: Data constructor not in scope: NaN :: ()\n",
            "\"NaN\"\n",
            "\"Infinity\"\n"
          ],
          "name": "stdout"
        }
      ]
    },
    {
      "cell_type": "code",
      "metadata": {
        "id": "NOPdhGCJVnaG"
      },
      "source": [
        "# \\& 文字の切れ目\r\n",
        "!ghc -e '\"a\\x62c\"' #=> \\x62 と c の間に切れ目が必要\r\n",
        "!ghc -e '\"a\\x62\\&c\"' #=> \\& は 空文字列 \"\" を表す\r\n",
        "!ghc -e '\"\\&\"' #=> \"\"\r\n",
        "!ghc -e \"'\\x62'\" #=> 'b'\r\n",
        "!ghc -e \"'\\&'\" #=> error: lexical error in string/character literal at character '&'"
      ],
      "execution_count": null,
      "outputs": []
    },
    {
      "cell_type": "code",
      "metadata": {
        "id": "16ZvO9aDOpbb"
      },
      "source": [
        "# 1個以上の改行や空白文字を \\ で囲むと、空文字列 \"\" として扱われる。\r\n",
        "# これを利用して長い文字列を複数行に分けて入れられる、とか。\r\n",
        "# しかし、これは ghci 上の話だね!!!!\r\n",
        "# ターミナルのコマンドライン上で echo などで長い文字列を扱う方法はあるか。\r\n",
        "!ghc -e '\"a\\   \\b\\   \\c\"' #=> \"abc\""
      ],
      "execution_count": null,
      "outputs": []
    },
    {
      "cell_type": "code",
      "metadata": {
        "id": "_V9TBNsCQXSU"
      },
      "source": [
        "# 実験 ターミナルのコマンドライン上での改行\r\n",
        "# echo \"one\r\n",
        "# two\"\r\n",
        "# と本来は書ける。入力も出力も複数行になる。colabのコードセルではダメ。なるほど。"
      ],
      "execution_count": null,
      "outputs": []
    },
    {
      "cell_type": "code",
      "metadata": {
        "colab": {
          "base_uri": "https://localhost:8080/"
        },
        "id": "Nt_xpLlPSfQ9",
        "outputId": "a4b38b43-37ea-4080-9234-f93772623a94"
      },
      "source": [
        "# ユニット型\r\n",
        "!ghc -e '()'\r\n",
        "!ghc -e '()::()'\r\n",
        "!ghc -e ':t ()'\r\n",
        "!ghc -e 'isNaN (()::())' #=> error\r\n",
        "!ghc -e 'isNaN (0/0)'\r\n",
        "!ghc -e ':t isNaN'\r\n",
        "!ghc -e ':t putStrLn'\r\n",
        "!ghc -e 'putStrLn \"Hello\" :: IO ()'"
      ],
      "execution_count": null,
      "outputs": [
        {
          "output_type": "stream",
          "text": [
            "()\n",
            "()\n",
            "() :: ()\n",
            "\n",
            "<interactive>:0:1: error:\n",
            "    • No instance for (RealFloat ()) arising from a use of ‘isNaN’\n",
            "    • In the expression: isNaN (() :: ())\n",
            "      In an equation for ‘it’: it = isNaN (() :: ())\n",
            "True\n",
            "isNaN :: RealFloat a => a -> Bool\n",
            "putStrLn :: String -> IO ()\n",
            "Hello\n"
          ],
          "name": "stdout"
        }
      ]
    },
    {
      "cell_type": "code",
      "metadata": {
        "id": "s5Qu-7RNYXZ1",
        "colab": {
          "base_uri": "https://localhost:8080/"
        },
        "outputId": "4bcd504a-e104-4018-a0c9-4bceee470201"
      },
      "source": [
        "# return は IO アクションを生成する\r\n",
        "!ghc -e ':t return' #=> return :: Monad m => a -> m a\r\n",
        "!ghc -e 'return 1 :: IO Int'\r\n",
        "!ghc -e 'return () :: IO ()'\r\n",
        "!ghc -e 'return \"hello\" :: IO String'\r\n",
        "!ghc -e 'return \"はい\" :: IO String'"
      ],
      "execution_count": null,
      "outputs": [
        {
          "output_type": "stream",
          "text": [
            "return :: Monad m => a -> m a\n",
            "1\n",
            "\"hello\"\n",
            "\"\\12399\\12356\"\n"
          ],
          "name": "stdout"
        }
      ]
    },
    {
      "cell_type": "code",
      "metadata": {
        "id": "GhIzn1z0ZQyr",
        "colab": {
          "base_uri": "https://localhost:8080/"
        },
        "outputId": "9ace3c04-f21b-48d1-f71f-686d91f23a3e"
      },
      "source": [
        "# ボトム _|_ \r\n",
        "# undefined, error がボトムで x=x (無限) もボトム\r\n",
        "!ghc -e ':t undefined'\r\n",
        "!ghc -e ':t error'\r\n",
        "!ghc -e ':t error \"some error\"'\r\n",
        "!ghc -e ':t (let x=x in x)'\r\n",
        "!echo\r\n",
        "!ghc -e ':t undefined::Int'\r\n",
        "!ghc -e ':t (error \"some error\")::Int'\r\n",
        "!ghc -e ':t (let x=x in x)::Int'"
      ],
      "execution_count": null,
      "outputs": [
        {
          "output_type": "stream",
          "text": [
            "undefined :: a\n",
            "error :: [Char] -> a\n",
            "error \"some error\" :: a\n",
            "(let x=x in x) :: t\n",
            "\n",
            "undefined::Int :: Int\n",
            "(error \"some error\")::Int :: Int\n",
            "(let x=x in x)::Int :: Int\n"
          ],
          "name": "stdout"
        }
      ]
    },
    {
      "cell_type": "code",
      "metadata": {
        "id": "hnJnnnaebM6n",
        "colab": {
          "base_uri": "https://localhost:8080/"
        },
        "outputId": "765201b4-8bbe-4461-d275-2f597dd4aca0"
      },
      "source": [
        "# ボトムを評価するとエラーになる\r\n",
        "!ghc -e 'undefined::Int'"
      ],
      "execution_count": null,
      "outputs": [
        {
          "output_type": "stream",
          "text": [
            "<interactive>: Prelude.undefined\n",
            "CallStack (from HasCallStack):\n",
            "  error, called at libraries/base/GHC/Err.hs:79:14 in base:GHC.Err\n",
            "  undefined, called at <interactive>:0:1 in interactive:Ghci1\n"
          ],
          "name": "stdout"
        }
      ]
    },
    {
      "cell_type": "code",
      "metadata": {
        "id": "IE8vBD3Obdq6"
      },
      "source": [
        "!ghc -e 'error \"some error\"'"
      ],
      "execution_count": null,
      "outputs": []
    },
    {
      "cell_type": "code",
      "metadata": {
        "id": "qEFVFTa8i5Hc"
      },
      "source": [
        "# ボトムの使いどころ\r\n",
        "# 型だけ決めておいて、実装をあとで行いたい場合\r\n",
        "# checkTypes :: Term -> Type -> Bool\r\n",
        "# checkTypes = undefined\r\n",
        "# python の def : pass, class : pass に相当か\r\n",
        "# もう一つは error を吐きたいとき\r\n",
        "# if else error \"BUG!!!! y waz 0\"\r\n",
        "# とか。"
      ],
      "execution_count": null,
      "outputs": []
    },
    {
      "cell_type": "code",
      "metadata": {
        "id": "bcdHwTRHjKk7"
      },
      "source": [
        "!ghc -e 'let checkTypes = undefined'"
      ],
      "execution_count": null,
      "outputs": []
    },
    {
      "cell_type": "code",
      "metadata": {
        "id": "jK9kKx8skMpB",
        "colab": {
          "base_uri": "https://localhost:8080/"
        },
        "outputId": "dacc643e-6f93-4b97-9ff9-d850197f4e50"
      },
      "source": [
        "# main の中で裸の変数を使えるか => 使えない。let が必要。\r\n",
        "# 逆に main の外で let は使えない。\r\n",
        "# where の中でも let は使えず、変数は裸で使う。\r\n",
        "%%writefile test.hs\r\n",
        "main = do\r\n",
        "   let x = 20\r\n",
        "   let y = 30\r\n",
        "   print (x+y)"
      ],
      "execution_count": null,
      "outputs": [
        {
          "output_type": "stream",
          "text": [
            "Overwriting test.hs\n"
          ],
          "name": "stdout"
        }
      ]
    },
    {
      "cell_type": "code",
      "metadata": {
        "id": "lkYRoUGrkbz4",
        "colab": {
          "base_uri": "https://localhost:8080/"
        },
        "outputId": "39b9ad86-641c-4af2-db3c-63b779f3addd"
      },
      "source": [
        "!runghc test.hs"
      ],
      "execution_count": null,
      "outputs": [
        {
          "output_type": "stream",
          "text": [
            "50\n"
          ],
          "name": "stdout"
        }
      ]
    },
    {
      "cell_type": "code",
      "metadata": {
        "id": "V6Q47jlplUrU",
        "colab": {
          "base_uri": "https://localhost:8080/"
        },
        "outputId": "2bb12c5f-ab39-41e1-f358-3e555d18fd54"
      },
      "source": [
        "# ということは do なしで\r\n",
        "!ghc -e 'let {x=20; y=30;} in print (x+y)'\r\n",
        "# とするのが正しいのかも"
      ],
      "execution_count": null,
      "outputs": [
        {
          "output_type": "stream",
          "text": [
            "50\n"
          ],
          "name": "stdout"
        }
      ]
    },
    {
      "cell_type": "code",
      "metadata": {
        "id": "WdOKGSR4l62-"
      },
      "source": [
        "# where は使えるか\r\n",
        "!ghc -e 'print (x+y) where {x=10;y=20})' #=> error: parse error on input ‘where’\r\n",
        "!echo\r\n",
        "# 次の例では使えている\r\n",
        "!echo $'85 1.90' | ghc -e $'getContents >>= let{bmiTell::(RealFloat a)=>a->a->String; bmiTell weight height |weight/height^2<=18.5=\"Emo!\"|weight/height^2<=25.0=\"Normal!\"|weight/height^2<=30.0=\"Fat!\"| otherwise = \"A whale\" where bmi = weight / height ^ 2 ;} in print.(\\[x, y] -> bmiTell x y).map (read::String->Float).words.concat.lines'\r\n",
        "!echo $'100 1.10' | ghc -e $'getContents >>= let{bmiTell::(RealFloat a)=>a->a->String; bmiTell weight height |weight/height^2<=18.5=\"Emo!\"|weight/height^2<=25.0=\"Normal!\"|weight/height^2<=30.0=\"Fat!\"| otherwise = \"A whale\" where bmi = weight / height ^ 2 ;} in print.(\\[x, y] -> bmiTell x y).map (read::String->Float).words.concat.lines'\r\n",
        "!echo $'50 1.70' | ghc -e $'getContents >>= let{bmiTell::(RealFloat a)=>a->a->String; bmiTell weight height |weight/height^2<=18.5=\"Emo!\"|weight/height^2<=25.0=\"Normal!\"|weight/height^2<=30.0=\"Fat!\"| otherwise = \"A whale\" where bmi = weight / height ^ 2 ;} in print.(\\[x, y] -> bmiTell x y).map (read::String->Float).words.concat.lines'\r\n",
        "!echo\r\n",
        "# 単純化する\r\n",
        "!ghc -e 'let {sayOk = sayOk02 where {sayOk02 = \"Ok\"}} in sayOk' \r\n",
        "# 今の理解。where は関数ではなく syntactic sugar なのでそれを理解して使う。 \r\n",
        "# 使えるところしか使えない。 使えるところでは便利。 \r\n",
        "# まずは let で書いて、let の中で使うのがいいのではないか。\r\n",
        "# do とか。 パターンマッチングによる関数定義、とか。も便利だがそれなりの理解が大切と思う。"
      ],
      "execution_count": null,
      "outputs": []
    },
    {
      "cell_type": "code",
      "metadata": {
        "id": "65TUegL9FdkC",
        "colab": {
          "base_uri": "https://localhost:8080/"
        },
        "outputId": "f7734343-ae98-4500-de92-69ec43c95d96"
      },
      "source": [
        "# let\r\n",
        "!ghci -e 'let {x=10;y=20} in x+y' #=> 30\r\n",
        "!ghci -e '(let {x=10;y=20} in x+y) + (let x = 100 in x)' #=> 130\r\n",
        "!ghci -e 'let x = 10 in let y = 20 in x + y' #=> 30\r\n",
        "!ghci -e 'let {z=x+y;x=10;y=30} in z' #=> 40\r\n",
        "!ghci -e 'let {z=x+y where {x=10;y=40}} in z' #=> 50"
      ],
      "execution_count": null,
      "outputs": [
        {
          "output_type": "stream",
          "text": [
            "30\n",
            "130\n",
            "30\n",
            "40\n",
            "50\n"
          ],
          "name": "stdout"
        }
      ]
    },
    {
      "cell_type": "code",
      "metadata": {
        "id": "1Zq1uIEuunlj"
      },
      "source": [
        "# 関数の定義\r\n",
        "!ghc -e 'let {incr n = n+1::Int} in incr 1'\r\n",
        "!ghc -e 'let {incr n = (n+1::Int)} in incr 2'\r\n",
        "!ghc -e 'let {incr n = (n+1::Int)} in incr (3)'\r\n",
        "!ghc -e 'let {incr n = (n+1::Int)} in incr' # incr の型は Int -> Int ということがエラーメッセージでわかる\r\n",
        "!ghc -e 'let {add x y  = (x + y :: Int)} in add' # add の型は Int -> Int -> Int\r\n",
        "!ghc -e ':t (+)' #=> (+) :: Num a => a -> a -> a"
      ],
      "execution_count": null,
      "outputs": []
    },
    {
      "cell_type": "code",
      "metadata": {
        "id": "aDhl_x6BzzP0",
        "outputId": "d92e03d2-deb6-4f53-edfa-3cb702994fce",
        "colab": {
          "base_uri": "https://localhost:8080/"
        }
      },
      "source": [
        "# ラムダ式 無名関数 は \\ と -> を使う\r\n",
        "!ghc -e '(\\n -> n + 1 :: Int ) 10' #=> 11\r\n",
        "!ghc -e ':t \\n -> n + 1 :: Int' #=> \\n -> n + 1 :: Int :: Int -> Int\r\n",
        "!ghc -e 'let{incr = \\n -> n + 1 :: Int} in incr 12' #=> 13\r\n",
        "!ghc -e 'let{add = \\m n -> m + n :: Int} in add 3 4' #=> 7\r\n",
        "# カリー化\r\n",
        "!ghc -e 'let{add = \\m -> \\n ->  m + n :: Int} in add 3 4' #=> 7"
      ],
      "execution_count": 12,
      "outputs": [
        {
          "output_type": "stream",
          "text": [
            "11\n",
            "\\n -> n + 1 :: Int :: Int -> Int\n",
            "13\n",
            "7\n",
            "7\n"
          ],
          "name": "stdout"
        }
      ]
    },
    {
      "cell_type": "markdown",
      "metadata": {
        "id": "vhqdCkeArwwy"
      },
      "source": [
        "# いまここ\r\n",
        "p. 42"
      ]
    }
  ]
}