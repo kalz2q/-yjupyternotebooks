{
  "nbformat": 4,
  "nbformat_minor": 0,
  "metadata": {
    "colab": {
      "name": "python_graphtheory.ipynb",
      "provenance": [],
      "toc_visible": true,
      "authorship_tag": "ABX9TyNtBKJrGKMWsTb0Vd1RBB4+",
      "include_colab_link": true
    },
    "kernelspec": {
      "name": "python3",
      "display_name": "Python 3"
    },
    "language_info": {
      "name": "python"
    }
  },
  "cells": [
    {
      "cell_type": "markdown",
      "metadata": {
        "id": "view-in-github",
        "colab_type": "text"
      },
      "source": [
        "<a href=\"https://colab.research.google.com/github/kalz2q/mycolabnotebooks/blob/master/python_graphtheory.ipynb\" target=\"_parent\"><img src=\"https://colab.research.google.com/assets/colab-badge.svg\" alt=\"Open In Colab\"/></a>"
      ]
    },
    {
      "cell_type": "markdown",
      "metadata": {
        "id": "c6wfzHWj8naa"
      },
      "source": [
        "# メモ\n",
        "\n",
        "python で graph theory のグラフをどう描くか、試行錯誤。 実験\n",
        "\n",
        "参考\n",
        "1. sagemath での描き方 sage: g=graphs.GrotzschGraph()\n",
        "1. networkx\n",
        "1. matplotlib\n",
        "1. PyGraphviz\n",
        "1. https://qiita.com/kzm4269/items/081ff2fdb8a6b0a6112f <=qiita\n",
        "\n",
        "1. https://www.analyticsvidhya.com/blog/2018/09/introduction-graph-theory-applications-python/\n",
        "1. https://www.python-course.eu/networkx.php\n",
        "1. https://igraph.org/python/doc/tutorial/tutorial.html igraph tutorial\n",
        "1. plotly, pypi\n",
        "\n"
      ]
    },
    {
      "cell_type": "markdown",
      "metadata": {
        "id": "xnkpbYYfJHVI"
      },
      "source": [
        "python で描くということの他に、colab (jupyter) の環境での問題があるみたい。\n",
        "\n",
        "display() しただけでは描けない。 svg にすると描ける。 これは将来変わるかもしれない。\n",
        "\n",
        "networkx の仕様が、G.add_cycle(data_array) とかから nx.add_cycle(G, data_array) という風に変わったみたいで、いろんな記事の例がそのままでは動かない\n",
        "\n",
        "pygraphviz の方がきれいに描けるみたいだが、import に手間がかかるのでとりあえず使わない。\n",
        "\n",
        "plt.show() で描けた。"
      ]
    },
    {
      "cell_type": "code",
      "metadata": {
        "colab": {
          "base_uri": "https://localhost:8080/",
          "height": 35
        },
        "id": "wXajddBi-arr",
        "outputId": "18133fe5-e29d-4495-fe5a-d8058725081f"
      },
      "source": [
        "import networkx as nx\n",
        "nx.__version__"
      ],
      "execution_count": 5,
      "outputs": [
        {
          "output_type": "execute_result",
          "data": {
            "application/vnd.google.colaboratory.intrinsic+json": {
              "type": "string"
            },
            "text/plain": [
              "'2.5'"
            ]
          },
          "metadata": {
            "tags": []
          },
          "execution_count": 5
        }
      ]
    },
    {
      "cell_type": "code",
      "metadata": {
        "id": "VsfX9ecTAzho"
      },
      "source": [
        "# pygraphviz を使いたい場合次のようにすれば colab (jupyter) で描ける\n",
        "# !apt install libgraphviz-dev\n",
        "# !pip install pygraphviz\n",
        "#\n",
        "# としておいて別のコードセルで\n",
        "#\n",
        "# import pygraphviz\n",
        "# import networkx as nx\n",
        "# from IPython.display import Image\n",
        "# G = nx.DiGraph()\n",
        "# data_array = [1,2,3,4,5,6,7,8]\n",
        "# nx.add_cycle(G, data_array)\n",
        "# Image(nx.nx_agraph.view_pygraphviz(G, prog='fdp')[0])\n",
        "#\n",
        "# nx.nx_agraph.view_pygraphviz(G, prog='fdp') の結果が (png, object) のタプルなので [0] で png を取り出している\n",
        "# png の表示方法に IPython.display のt Image を使ったがもっと一般的な方法があるかもしれない"
      ],
      "execution_count": null,
      "outputs": []
    },
    {
      "cell_type": "markdown",
      "metadata": {
        "id": "gLIvPd0iQTj6"
      },
      "source": [
        "# 有向グラフ DiGraph"
      ]
    },
    {
      "cell_type": "code",
      "metadata": {
        "colab": {
          "base_uri": "https://localhost:8080/",
          "height": 248
        },
        "id": "9pDrjpwJHAxZ",
        "outputId": "8d62cf78-2999-4042-be4d-9c88e9e9bb45"
      },
      "source": [
        "import networkx as nx\n",
        "import matplotlib.pyplot as plt\n",
        "from IPython.display import SVG\n",
        "\n",
        "G = nx.DiGraph()  # 有向グラフ (Directed Graph)\n",
        "data_array = [1,2,3,4,5,6,7,8]\n",
        "\n",
        "nx.add_cycle(G, data_array)\n",
        "\n",
        "nx.draw_networkx(G)\n",
        "plt.show (G)\n",
        "# display(SVG(nx.nx_agraph.to_agraph(G).draw(prog='fdp', format='svg')))"
      ],
      "execution_count": 10,
      "outputs": [
        {
          "output_type": "display_data",
          "data": {
            "image/png": "[encoded data removed]",
            "text/plain": [
              "<Figure size 432x288 with 1 Axes>"
            ]
          },
          "metadata": {
            "tags": []
          }
        }
      ]
    },
    {
      "cell_type": "code",
      "metadata": {
        "id": "QL4oTTE7ROnv"
      },
      "source": [
        "nx.nx_agraph?"
      ],
      "execution_count": 59,
      "outputs": []
    },
    {
      "cell_type": "code",
      "metadata": {
        "id": "VhQYFJja9Ilk",
        "colab": {
          "base_uri": "https://localhost:8080/",
          "height": 229
        },
        "outputId": "02975f8e-9549-40c4-d4eb-29a4875b8dff"
      },
      "source": [
        "import networkx as nx\n",
        "\n",
        "G = nx.DiGraph()  # 有向グラフ (Directed Graph)\n",
        "\n",
        "# 頂点の追加\n",
        "G.add_node(1)                \n",
        "G.add_nodes_from([3, 4, 5])\n",
        "\n",
        "# 辺の追加 (頂点も必要に応じて追加されます)\n",
        "G.add_edge(1, 2)                                    \n",
        "G.add_edges_from([(1, 3), (2, 5), (3, 4), (4, 5)])\n",
        "\n",
        "# 辺の削除\n",
        "G.remove_edge(3, 4)                    \n",
        "G.remove_edges_from([(1, 3), (2, 5)])\n",
        "\n",
        "# 頂点の削除 (削除された頂点に接続されている辺も削除されます)\n",
        "G.remove_node(5)\n",
        "G.remove_nodes_from([3, 4])\n",
        "\n",
        "# 指定したパス上の頂点と辺を追加\n",
        "nx.add_path(G, [1, 2, 3, 4, 5])  # 1 → 2 → 3 → 4 → 5\n",
        "\n",
        "# 指定した閉路上の頂点と辺を追加\n",
        "nx.add_cycle(G, [1, 2, 3, 4, 5])  # 1 → 2 → 3 → 4 → 5 → 1\n",
        "\n",
        "# 放射状に頂点と辺を追加\n",
        "nx.add_star(G, [1, 2, 3, 4, 5])  # 1 → 2, 1 → 3, 1 → 4, 1 → 5\n",
        "\n",
        "svg = SVG(nx.nx_agraph.to_agraph(G).draw(prog='fdp', format='svg'))\n",
        "display(svg)"
      ],
      "execution_count": 2,
      "outputs": [
        {
          "output_type": "error",
          "ename": "NameError",
          "evalue": "ignored",
          "traceback": [
            "\u001b[0;31m---------------------------------------------------------------------------\u001b[0m",
            "\u001b[0;31mNameError\u001b[0m                                 Traceback (most recent call last)",
            "\u001b[0;32m<ipython-input-2-cc1ab79bb761>\u001b[0m in \u001b[0;36m<module>\u001b[0;34m()\u001b[0m\n\u001b[1;32m     28\u001b[0m \u001b[0mnx\u001b[0m\u001b[0;34m.\u001b[0m\u001b[0madd_star\u001b[0m\u001b[0;34m(\u001b[0m\u001b[0mG\u001b[0m\u001b[0;34m,\u001b[0m \u001b[0;34m[\u001b[0m\u001b[0;36m1\u001b[0m\u001b[0;34m,\u001b[0m \u001b[0;36m2\u001b[0m\u001b[0;34m,\u001b[0m \u001b[0;36m3\u001b[0m\u001b[0;34m,\u001b[0m \u001b[0;36m4\u001b[0m\u001b[0;34m,\u001b[0m \u001b[0;36m5\u001b[0m\u001b[0;34m]\u001b[0m\u001b[0;34m)\u001b[0m  \u001b[0;31m# 1 → 2, 1 → 3, 1 → 4, 1 → 5\u001b[0m\u001b[0;34m\u001b[0m\u001b[0;34m\u001b[0m\u001b[0m\n\u001b[1;32m     29\u001b[0m \u001b[0;34m\u001b[0m\u001b[0m\n\u001b[0;32m---> 30\u001b[0;31m \u001b[0msvg\u001b[0m \u001b[0;34m=\u001b[0m \u001b[0mSVG\u001b[0m\u001b[0;34m(\u001b[0m\u001b[0mnx\u001b[0m\u001b[0;34m.\u001b[0m\u001b[0mnx_agraph\u001b[0m\u001b[0;34m.\u001b[0m\u001b[0mto_agraph\u001b[0m\u001b[0;34m(\u001b[0m\u001b[0mG\u001b[0m\u001b[0;34m)\u001b[0m\u001b[0;34m.\u001b[0m\u001b[0mdraw\u001b[0m\u001b[0;34m(\u001b[0m\u001b[0mprog\u001b[0m\u001b[0;34m=\u001b[0m\u001b[0;34m'fdp'\u001b[0m\u001b[0;34m,\u001b[0m \u001b[0mformat\u001b[0m\u001b[0;34m=\u001b[0m\u001b[0;34m'svg'\u001b[0m\u001b[0;34m)\u001b[0m\u001b[0;34m)\u001b[0m\u001b[0;34m\u001b[0m\u001b[0;34m\u001b[0m\u001b[0m\n\u001b[0m\u001b[1;32m     31\u001b[0m \u001b[0mdisplay\u001b[0m\u001b[0;34m(\u001b[0m\u001b[0msvg\u001b[0m\u001b[0;34m)\u001b[0m\u001b[0;34m\u001b[0m\u001b[0;34m\u001b[0m\u001b[0m\n",
            "\u001b[0;31mNameError\u001b[0m: name 'SVG' is not defined"
          ]
        }
      ]
    },
    {
      "cell_type": "code",
      "metadata": {
        "colab": {
          "base_uri": "https://localhost:8080/",
          "height": 248
        },
        "id": "CTaRZEJw_0R9",
        "outputId": "ee5718e7-e7f3-4d34-845e-f906b44bc3fb"
      },
      "source": [
        "import matplotlib.pyplot as plt\n",
        "import networkx as nx\n",
        "\n",
        "G = nx.DiGraph()\n",
        "nx.add_path(G, [3, 5, 4, 1, 0, 2, 7, 8, 9, 6])\n",
        "nx.add_path(G, [3, 0, 6, 4, 2, 7, 1, 9, 8, 5])\n",
        "\n",
        "nx.draw_networkx(G)\n",
        "plt.show()"
      ],
      "execution_count": 3,
      "outputs": [
        {
          "output_type": "display_data",
          "data": {
            "image/png": "[encoded data removed]",
            "text/plain": [
              "<Figure size 432x288 with 1 Axes>"
            ]
          },
          "metadata": {
            "tags": []
          }
        }
      ]
    },
    {
      "cell_type": "code",
      "metadata": {
        "colab": {
          "base_uri": "https://localhost:8080/",
          "height": 54
        },
        "id": "V_A6QrBdBeJo",
        "outputId": "66713da4-8c75-43d4-bc05-066e5a79d1be"
      },
      "source": [
        "import networkx as nx\n",
        "\n",
        "G = nx.DiGraph()\n",
        "nx.add_path(G, [3, 5, 4, 1, 0, 2, 7, 8, 9, 6])\n",
        "nx.add_path(G, [3, 0, 6, 4, 2, 7, 1, 9, 8, 5])\n",
        "\n",
        "nx.nx_agraph.view_pygraphviz(G, prog='fdp')  # pygraphvizが必要\n",
        "display(nx.nx_agraph.view_pygraphviz(G, prog='fdp')) # 表示されない"
      ],
      "execution_count": 23,
      "outputs": [
        {
          "output_type": "display_data",
          "data": {
            "text/plain": [
              "('/tmp/tmpiqaho7yc.png',\n",
              " <AGraph <Swig Object of type 'Agraph_t *' at 0x7f51bf0ceea0>>)"
            ]
          },
          "metadata": {
            "tags": []
          }
        }
      ]
    },
    {
      "cell_type": "code",
      "metadata": {
        "colab": {
          "base_uri": "https://localhost:8080/"
        },
        "id": "w7qosnbuCI9M",
        "outputId": "d3601030-670b-4c18-8f2a-546486a63d74"
      },
      "source": [
        "nx.nx_agraph.to_agraph(G).draw(prog='fdp')"
      ],
      "execution_count": 29,
      "outputs": [
        {
          "output_type": "execute_result",
          "data": {
            "text/plain": [
              "b'strict digraph \"\" {\\n\\tgraph [bb=\"0,0,275,230\"];\\n\\tnode [label=\"\\\\N\"];\\n\\t3\\t [height=0.5,\\n\\t\\tpos=\"62.161,212.05\",\\n\\t\\twidth=0.75];\\n\\t5\\t [height=0.5,\\n\\t\\tpos=\"171.7,209.96\",\\n\\t\\twidth=0.75];\\n\\t3 -> 5\\t [pos=\"e,144.56,210.48 89.239,211.53 102.8,211.27 119.44,210.96 134.2,210.67\"];\\n\\t0\\t [height=0.5,\\n\\t\\tpos=\"27.373,105.41\",\\n\\t\\twidth=0.75];\\n\\t3 -> 0\\t [pos=\"e,33.126,123.05 56.417,194.44 50.928,177.62 42.575,152.01 36.233,132.57\"];\\n\\t4\\t [height=0.5,\\n\\t\\tpos=\"153.61,108.42\",\\n\\t\\twidth=0.75];\\n\\t5 -> 4\\t [pos=\"e,156.81,126.41 168.47,191.8 165.74,176.5 161.79,154.33 158.65,136.7\"];\\n\\t2\\t [height=0.5,\\n\\t\\tpos=\"71.99,165.51\",\\n\\t\\twidth=0.75];\\n\\t0 -> 2\\t [pos=\"e,59.813,149.11 39.565,121.83 43.893,127.66 48.866,134.36 53.596,140.73\"];\\n\\t6\\t [height=0.5,\\n\\t\\tpos=\"97.152,18.247\",\\n\\t\\twidth=0.75];\\n\\t0 -> 6\\t [pos=\"e,84.435,34.133 40.172,89.426 50.795,76.156 66.06,57.087 78.116,42.026\"];\\n\\t1\\t [height=0.5,\\n\\t\\tpos=\"109.3,64.253\",\\n\\t\\twidth=0.75];\\n\\t4 -> 1\\t [pos=\"e,124.56,79.467 138.11,92.969 136.05,90.917 133.91,88.781 131.76,86.641\"];\\n\\t4 -> 2\\t [pos=\"e,90.817,152.34 134.68,121.66 124.17,129.01 110.92,138.28 99.303,146.4\"];\\n\\t1 -> 0\\t [pos=\"e,49.103,94.496 87.341,75.284 78.362,79.795 67.817,85.093 58.095,89.978\"];\\n\\t9\\t [height=0.5,\\n\\t\\tpos=\"202.09,31.928\",\\n\\t\\twidth=0.75];\\n\\t1 -> 9\\t [pos=\"e,177.87,40.364 133.68,55.76 144.23,52.085 156.75,47.722 168.19,43.739\"];\\n\\t7\\t [height=0.5,\\n\\t\\tpos=\"163.04,156.36\",\\n\\t\\twidth=0.75];\\n\\t2 -> 7\\t [pos=\"e,136.09,159.06 98.814,162.81 107.35,161.95 116.95,160.99 126.07,160.07\"];\\n\\t9 -> 6\\t [pos=\"e,123.86,21.728 175.34,28.44 162.76,26.8 147.56,24.818 133.91,23.039\"];\\n\\t8\\t [height=0.5,\\n\\t\\tpos=\"248.33,128.48\",\\n\\t\\twidth=0.75];\\n\\t9 -> 8\\t [pos=\"e,234.88,112.87 205.07,50.102 210.49,65.396 220.64,87.34 229.88,104.14\"];\\n\\t6 -> 4\\t [pos=\"e,143.04,91.531 107.77,35.207 116.21,48.683 128.14,67.74 137.71,83.033\"];\\n\\t7 -> 1\\t [pos=\"e,119.09,81.039 153.18,139.46 145.07,125.57 133.46,105.67 124.21,89.822\"];\\n\\t7 -> 8\\t [pos=\"e,224.01,136.43 187.71,148.29 196,145.58 205.4,142.51 214.29,139.61\"];\\n\\t8 -> 5\\t [pos=\"e,186.05,194.7 233.92,143.8 222.36,156.1 205.97,173.53 192.91,187.41\"];\\n\\t8 -> 9\\t [pos=\"e,215.54,47.538 245.35,110.3 239.93,95.011 229.78,73.066 220.54,56.267\"];\\n}\\n'"
            ]
          },
          "metadata": {
            "tags": []
          },
          "execution_count": 29
        }
      ]
    },
    {
      "cell_type": "code",
      "metadata": {
        "colab": {
          "base_uri": "https://localhost:8080/",
          "height": 339
        },
        "id": "eRKYH-AUABnU",
        "outputId": "02e99f3b-f056-40a4-9bc0-ce6666be9491"
      },
      "source": [
        "import networkx as nx\n",
        "from IPython.display import SVG, display\n",
        "\n",
        "G = nx.DiGraph()\n",
        "nx.add_path(G, [3, 5, 4, 1, 0, 2, 7, 8, 9, 6])\n",
        "nx.add_path(G, [3, 0, 6, 4, 2, 7, 1, 9, 8, 5])\n",
        "\n",
        "svg = SVG(nx.nx_agraph.to_agraph(G).draw(prog='fdp', format='svg'))\n",
        "display(svg)"
      ],
      "execution_count": 19,
      "outputs": [
        {
          "output_type": "display_data",
          "data": {
            "text/plain": [
              "<IPython.core.display.SVG object>"
            ],
            "image/svg+xml": "<svg height=\"238pt\" viewBox=\"0.00 0.00 283.00 238.00\" width=\"283pt\" xmlns=\"http://www.w3.org/2000/svg\" xmlns:xlink=\"http://www.w3.org/1999/xlink\">\n<g class=\"graph\" id=\"graph0\" transform=\"scale(1 1) rotate(0) translate(4 234)\">\n<polygon fill=\"#ffffff\" points=\"-4,4 -4,-234 279,-234 279,4 -4,4\" stroke=\"transparent\"/>\n<!-- 3 -->\n<g class=\"node\" id=\"node1\">\n<title>3</title>\n<ellipse cx=\"62.1613\" cy=\"-212.0494\" fill=\"none\" rx=\"27\" ry=\"18\" stroke=\"#000000\"/>\n<text fill=\"#000000\" font-family=\"Times,serif\" font-size=\"14.00\" text-anchor=\"middle\" x=\"62.1613\" y=\"-208.3494\">3</text>\n</g>\n<!-- 5 -->\n<g class=\"node\" id=\"node2\">\n<title>5</title>\n<ellipse cx=\"171.7033\" cy=\"-209.9588\" fill=\"none\" rx=\"27\" ry=\"18\" stroke=\"#000000\"/>\n<text fill=\"#000000\" font-family=\"Times,serif\" font-size=\"14.00\" text-anchor=\"middle\" x=\"171.7033\" y=\"-206.2588\">5</text>\n</g>\n<!-- 3&#45;&gt;5 -->\n<g class=\"edge\" id=\"edge1\">\n<title>3-&gt;5</title>\n<path d=\"M89.2391,-211.5326C102.8004,-211.2738 119.4354,-210.9563 134.204,-210.6744\" fill=\"none\" stroke=\"#000000\"/>\n<polygon fill=\"#000000\" points=\"134.626,-214.1671 144.5574,-210.4769 134.4924,-207.1684 134.626,-214.1671\" stroke=\"#000000\"/>\n</g>\n<!-- 0 -->\n<g class=\"node\" id=\"node3\">\n<title>0</title>\n<ellipse cx=\"27.3731\" cy=\"-105.4142\" fill=\"none\" rx=\"27\" ry=\"18\" stroke=\"#000000\"/>\n<text fill=\"#000000\" font-family=\"Times,serif\" font-size=\"14.00\" text-anchor=\"middle\" x=\"27.3731\" y=\"-101.7142\">0</text>\n</g>\n<!-- 3&#45;&gt;0 -->\n<g class=\"edge\" id=\"edge2\">\n<title>3-&gt;0</title>\n<path d=\"M56.4167,-194.4407C50.9278,-177.6157 42.5746,-152.0107 36.2332,-132.5726\" fill=\"none\" stroke=\"#000000\"/>\n<polygon fill=\"#000000\" points=\"39.5552,-131.4703 33.1262,-123.049 32.9004,-133.6414 39.5552,-131.4703\" stroke=\"#000000\"/>\n</g>\n<!-- 4 -->\n<g class=\"node\" id=\"node4\">\n<title>4</title>\n<ellipse cx=\"153.6061\" cy=\"-108.415\" fill=\"none\" rx=\"27\" ry=\"18\" stroke=\"#000000\"/>\n<text fill=\"#000000\" font-family=\"Times,serif\" font-size=\"14.00\" text-anchor=\"middle\" x=\"153.6061\" y=\"-104.715\">4</text>\n</g>\n<!-- 5&#45;&gt;4 -->\n<g class=\"edge\" id=\"edge3\">\n<title>5-&gt;4</title>\n<path d=\"M168.4679,-191.8048C165.74,-176.4986 161.7898,-154.3338 158.6475,-136.7023\" fill=\"none\" stroke=\"#000000\"/>\n<polygon fill=\"#000000\" points=\"162.0139,-135.6426 156.8135,-126.4118 155.1224,-136.8708 162.0139,-135.6426\" stroke=\"#000000\"/>\n</g>\n<!-- 2 -->\n<g class=\"node\" id=\"node6\">\n<title>2</title>\n<ellipse cx=\"71.9898\" cy=\"-165.5063\" fill=\"none\" rx=\"27\" ry=\"18\" stroke=\"#000000\"/>\n<text fill=\"#000000\" font-family=\"Times,serif\" font-size=\"14.00\" text-anchor=\"middle\" x=\"71.9898\" y=\"-161.8063\">2</text>\n</g>\n<!-- 0&#45;&gt;2 -->\n<g class=\"edge\" id=\"edge8\">\n<title>0-&gt;2</title>\n<path d=\"M39.5648,-121.8346C43.893,-127.664 48.8657,-134.3615 53.596,-140.7325\" fill=\"none\" stroke=\"#000000\"/>\n<polygon fill=\"#000000\" points=\"51.0414,-143.1632 59.8128,-149.1057 56.6617,-138.9903 51.0414,-143.1632\" stroke=\"#000000\"/>\n</g>\n<!-- 6 -->\n<g class=\"node\" id=\"node8\">\n<title>6</title>\n<ellipse cx=\"97.1522\" cy=\"-18.2468\" fill=\"none\" rx=\"27\" ry=\"18\" stroke=\"#000000\"/>\n<text fill=\"#000000\" font-family=\"Times,serif\" font-size=\"14.00\" text-anchor=\"middle\" x=\"97.1522\" y=\"-14.5468\">6</text>\n</g>\n<!-- 0&#45;&gt;6 -->\n<g class=\"edge\" id=\"edge9\">\n<title>0-&gt;6</title>\n<path d=\"M40.1717,-89.4263C50.7948,-76.156 66.0597,-57.0873 78.1165,-42.026\" fill=\"none\" stroke=\"#000000\"/>\n<polygon fill=\"#000000\" points=\"80.9177,-44.1273 84.4348,-34.1333 75.453,-39.7527 80.9177,-44.1273\" stroke=\"#000000\"/>\n</g>\n<!-- 1 -->\n<g class=\"node\" id=\"node5\">\n<title>1</title>\n<ellipse cx=\"109.295\" cy=\"-64.2533\" fill=\"none\" rx=\"27\" ry=\"18\" stroke=\"#000000\"/>\n<text fill=\"#000000\" font-family=\"Times,serif\" font-size=\"14.00\" text-anchor=\"middle\" x=\"109.295\" y=\"-60.5533\">1</text>\n</g>\n<!-- 4&#45;&gt;1 -->\n<g class=\"edge\" id=\"edge4\">\n<title>4-&gt;1</title>\n<path d=\"M138.1082,-92.9694C136.0493,-90.9174 133.9058,-88.7811 131.7584,-86.6409\" fill=\"none\" stroke=\"#000000\"/>\n<polygon fill=\"#000000\" points=\"134.1136,-84.0468 124.5599,-79.4667 129.1722,-89.0049 134.1136,-84.0468\" stroke=\"#000000\"/>\n</g>\n<!-- 4&#45;&gt;2 -->\n<g class=\"edge\" id=\"edge5\">\n<title>4-&gt;2</title>\n<path d=\"M134.6765,-121.6564C124.1695,-129.0062 110.9151,-138.2777 99.3034,-146.4002\" fill=\"none\" stroke=\"#000000\"/>\n<polygon fill=\"#000000\" points=\"97.0048,-143.7367 90.8167,-152.3367 101.0171,-149.4727 97.0048,-143.7367\" stroke=\"#000000\"/>\n</g>\n<!-- 1&#45;&gt;0 -->\n<g class=\"edge\" id=\"edge6\">\n<title>1-&gt;0</title>\n<path d=\"M87.3415,-75.2836C78.3623,-79.7951 67.8174,-85.0933 58.0949,-89.9783\" fill=\"none\" stroke=\"#000000\"/>\n<polygon fill=\"#000000\" points=\"56.4674,-86.879 49.1032,-94.4961 59.6101,-93.1339 56.4674,-86.879\" stroke=\"#000000\"/>\n</g>\n<!-- 9 -->\n<g class=\"node\" id=\"node7\">\n<title>9</title>\n<ellipse cx=\"202.0921\" cy=\"-31.9275\" fill=\"none\" rx=\"27\" ry=\"18\" stroke=\"#000000\"/>\n<text fill=\"#000000\" font-family=\"Times,serif\" font-size=\"14.00\" text-anchor=\"middle\" x=\"202.0921\" y=\"-28.2275\">9</text>\n</g>\n<!-- 1&#45;&gt;9 -->\n<g class=\"edge\" id=\"edge7\">\n<title>1-&gt;9</title>\n<path d=\"M133.6764,-55.7601C144.2258,-52.0852 156.7521,-47.7217 168.185,-43.739\" fill=\"none\" stroke=\"#000000\"/>\n<polygon fill=\"#000000\" points=\"169.5815,-46.9589 177.8736,-40.364 167.2788,-40.3485 169.5815,-46.9589\" stroke=\"#000000\"/>\n</g>\n<!-- 7 -->\n<g class=\"node\" id=\"node9\">\n<title>7</title>\n<ellipse cx=\"163.0365\" cy=\"-156.3568\" fill=\"none\" rx=\"27\" ry=\"18\" stroke=\"#000000\"/>\n<text fill=\"#000000\" font-family=\"Times,serif\" font-size=\"14.00\" text-anchor=\"middle\" x=\"163.0365\" y=\"-152.6568\">7</text>\n</g>\n<!-- 2&#45;&gt;7 -->\n<g class=\"edge\" id=\"edge10\">\n<title>2-&gt;7</title>\n<path d=\"M98.8144,-162.8106C107.3513,-161.9527 116.9501,-160.9881 126.073,-160.0713\" fill=\"none\" stroke=\"#000000\"/>\n<polygon fill=\"#000000\" points=\"126.4891,-163.5472 136.089,-159.0648 125.7892,-156.5823 126.4891,-163.5472\" stroke=\"#000000\"/>\n</g>\n<!-- 9&#45;&gt;6 -->\n<g class=\"edge\" id=\"edge16\">\n<title>9-&gt;6</title>\n<path d=\"M175.3398,-28.4399C162.7584,-26.7997 147.5561,-24.8178 133.9142,-23.0393\" fill=\"none\" stroke=\"#000000\"/>\n<polygon fill=\"#000000\" points=\"134.2242,-19.5502 123.8556,-21.728 133.3193,-26.4915 134.2242,-19.5502\" stroke=\"#000000\"/>\n</g>\n<!-- 8 -->\n<g class=\"node\" id=\"node10\">\n<title>8</title>\n<ellipse cx=\"248.3303\" cy=\"-128.4789\" fill=\"none\" rx=\"27\" ry=\"18\" stroke=\"#000000\"/>\n<text fill=\"#000000\" font-family=\"Times,serif\" font-size=\"14.00\" text-anchor=\"middle\" x=\"248.3303\" y=\"-124.7789\">8</text>\n</g>\n<!-- 9&#45;&gt;8 -->\n<g class=\"edge\" id=\"edge15\">\n<title>9-&gt;8</title>\n<path d=\"M205.0678,-50.1025C210.4882,-65.3959 220.6415,-87.3402 229.8786,-104.1396\" fill=\"none\" stroke=\"#000000\"/>\n<polygon fill=\"#000000\" points=\"226.8717,-105.9319 234.8802,-112.8684 232.9453,-102.4517 226.8717,-105.9319\" stroke=\"#000000\"/>\n</g>\n<!-- 6&#45;&gt;4 -->\n<g class=\"edge\" id=\"edge17\">\n<title>6-&gt;4</title>\n<path d=\"M107.7708,-35.2067C116.2079,-48.6826 128.1397,-67.7401 137.7144,-83.0327\" fill=\"none\" stroke=\"#000000\"/>\n<polygon fill=\"#000000\" points=\"134.7619,-84.9126 143.0352,-91.5311 140.695,-81.1979 134.7619,-84.9126\" stroke=\"#000000\"/>\n</g>\n<!-- 7&#45;&gt;1 -->\n<g class=\"edge\" id=\"edge11\">\n<title>7-&gt;1</title>\n<path d=\"M153.1795,-139.4636C145.0737,-125.5716 133.4589,-105.6658 124.2143,-89.8222\" fill=\"none\" stroke=\"#000000\"/>\n<polygon fill=\"#000000\" points=\"127.1524,-87.9127 119.0896,-81.0394 121.1063,-91.4405 127.1524,-87.9127\" stroke=\"#000000\"/>\n</g>\n<!-- 7&#45;&gt;8 -->\n<g class=\"edge\" id=\"edge12\">\n<title>7-&gt;8</title>\n<path d=\"M187.707,-148.2933C196.0003,-145.5827 205.4038,-142.5092 214.2875,-139.6056\" fill=\"none\" stroke=\"#000000\"/>\n<polygon fill=\"#000000\" points=\"215.592,-142.8615 224.0098,-136.4279 213.4172,-136.2079 215.592,-142.8615\" stroke=\"#000000\"/>\n</g>\n<!-- 8&#45;&gt;5 -->\n<g class=\"edge\" id=\"edge13\">\n<title>8-&gt;5</title>\n<path d=\"M233.9173,-143.8046C222.3582,-156.0958 205.9666,-173.5255 192.9102,-187.4088\" fill=\"none\" stroke=\"#000000\"/>\n<polygon fill=\"#000000\" points=\"190.3528,-185.0193 186.0516,-194.7018 195.4521,-189.8149 190.3528,-185.0193\" stroke=\"#000000\"/>\n</g>\n<!-- 8&#45;&gt;9 -->\n<g class=\"edge\" id=\"edge14\">\n<title>8-&gt;9</title>\n<path d=\"M245.3546,-110.3039C239.9342,-95.0105 229.7809,-73.0662 220.5438,-56.2668\" fill=\"none\" stroke=\"#000000\"/>\n<polygon fill=\"#000000\" points=\"223.5507,-54.4745 215.5422,-47.5381 217.4771,-57.9547 223.5507,-54.4745\" stroke=\"#000000\"/>\n</g>\n</g>\n</svg>"
          },
          "metadata": {
            "tags": []
          }
        }
      ]
    },
    {
      "cell_type": "code",
      "metadata": {
        "colab": {
          "base_uri": "https://localhost:8080/"
        },
        "id": "WLy0DcS3DQSv",
        "outputId": "ab8dbe0c-1f20-420e-b7e5-fe378f084dfa"
      },
      "source": [
        "import matplotlib.pyplot as plt\n",
        "import networkx as nx\n",
        "\n",
        "G = nx.DiGraph()\n",
        "G.add_edges_from([(1, 2), (1, 3), (2, 3)])\n",
        "\n",
        "# G.nodes[頂点][属性キー] = 属性値\n",
        "G.nodes[1]['a'] = 'Alice'\n",
        "\n",
        "# G.edges[辺][属性キー] = 属性値\n",
        "G.edges[1, 2]['b'] = 'Bob'\n",
        "\n",
        "# G.succ[始点][終点][属性キー] = 属性値\n",
        "G.succ[2][3]['c'] = 'Carol'\n",
        "\n",
        "# G.pred[終点][始点][属性キー] = 属性値\n",
        "G.pred[3][1]['d'] = 'Dave'\n",
        "\n",
        "print(dict(G.nodes))\n",
        "# {1: {'a': 'Alice'}, 2: {}, 3: {}}\n",
        "\n",
        "print(dict(G.edges))\n",
        "# {(1, 2): {'b': 'Bob'}, (1, 3): {'d': 'Dave'}, (2, 3): {'c': 'Carol'}}\n",
        "\n",
        "print(G.succ)\n",
        "# {1: {2: {'b': 'Bob'}, 3: {'d': 'Dave'}}, 2: {3: {'c': 'Carol'}}, 3: {}}\n",
        "\n",
        "print(G.pred)\n",
        "# {1: {2: {'b': 'Bob'}, 3: {'d': 'Dave'}}, 2: {3: {'c': 'Carol'}}, 3: {}}"
      ],
      "execution_count": 32,
      "outputs": [
        {
          "output_type": "stream",
          "text": [
            "{1: {'a': 'Alice'}, 2: {}, 3: {}}\n",
            "{(1, 2): {'b': 'Bob'}, (1, 3): {'d': 'Dave'}, (2, 3): {'c': 'Carol'}}\n",
            "{1: {2: {'b': 'Bob'}, 3: {'d': 'Dave'}}, 2: {3: {'c': 'Carol'}}, 3: {}}\n",
            "{1: {}, 2: {1: {'b': 'Bob'}}, 3: {1: {'d': 'Dave'}, 2: {'c': 'Carol'}}}\n"
          ],
          "name": "stdout"
        }
      ]
    }
  ]
}