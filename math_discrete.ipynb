{
  "nbformat": 4,
  "nbformat_minor": 0,
  "metadata": {
    "colab": {
      "name": "math_discrete.ipynb",
      "provenance": [],
      "toc_visible": true,
      "authorship_tag": "ABX9TyMBnfcMVJlR0KeNr69zJP5c",
      "include_colab_link": true
    },
    "kernelspec": {
      "name": "python3",
      "display_name": "Python 3"
    },
    "language_info": {
      "name": "python"
    }
  },
  "cells": [
    {
      "cell_type": "markdown",
      "metadata": {
        "id": "view-in-github",
        "colab_type": "text"
      },
      "source": [
        "<a href=\"https://colab.research.google.com/github/kalz2q/mycolabnotebooks/blob/master/math_discrete.ipynb\" target=\"_parent\"><img src=\"https://colab.research.google.com/assets/colab-badge.svg\" alt=\"Open In Colab\"/></a>"
      ]
    },
    {
      "cell_type": "markdown",
      "metadata": {
        "id": "0-1mVjx4wd2V"
      },
      "source": [
        "# メモ\n",
        "やさしく学べる離散数学  \n",
        "石村園子\n",
        "\n",
        "離散数学「ものを分ける理論」問題解決のアルゴリズムをつくる（ブルーバックス）  \n",
        "徳田雄洋"
      ]
    },
    {
      "cell_type": "code",
      "metadata": {
        "id": "WF2WXQgMxTCU"
      },
      "source": [
        ""
      ],
      "execution_count": null,
      "outputs": []
    },
    {
      "cell_type": "markdown",
      "metadata": {
        "id": "srVAQYT9xl0D"
      },
      "source": [
        "石村園子のは\n",
        "1. 集合と論理\n",
        "1. 関係と写像 => 有向グラフ、関係行列\n",
        "1. 代数系 => 2項演算、半群と群、環と体\n",
        "1. 重所集合と束\n",
        "1. グラフ => ツリー、オイラーグラフ、ハミルトングラフ、有限オートマトン\n",
        "\n",
        "ブルーバックス 徳田雄洋たけひろ のは\n",
        "\n",
        "ようかん、トリミング、くだもの、最大化、三角形の建物定理、家賃問題、赤道の気温定理、結婚式のケーキカット、料理問題、人数増加法、絶対的優位法、存在定理\n",
        "\n"
      ]
    },
    {
      "cell_type": "markdown",
      "metadata": {
        "id": "p_dZvR-SU4p-"
      },
      "source": [
        "離散数学のすすめ 伊藤大雄いとうひろお、宇野裕之のは\n",
        "\n",
        "基礎理論編、ゲーム・パズル編、発展理論編、応用編。であまりグラフ理論ではなさそう。\n",
        "\n",
        "離散数学入門 守屋悦郎 は\n",
        "\n",
        "基本的な数学概念、帰納法と再帰、関係、グラフ、論理、アルゴリズムの解析\n",
        "\n",
        "と教科書風で、コンピューターを意識している。\n",
        "\n",
        "情報系のための離散数学 猪股俊光 南野謙一 は\n",
        "\n",
        "命題論理、集合の基礎、帰納と証明、数え上げ、関係、関数、グラフ、木と探索、ネットワークと各種グラフ問題\n",
        "\n",
        "とこれも教科書風だが、幅広く対応しているみたい。 いいかも。"
      ]
    },
    {
      "cell_type": "markdown",
      "metadata": {
        "id": "GpvZFvpLyqoj"
      },
      "source": [
        "# 集合\n",
        "\n",
        "要素または元\n",
        "\n",
        "$a \\in A$ または $A \\owns a$\n",
        "\n",
        "\n",
        "$a \\notin A$ または $A \\not \\owns a$\n",
        "\n",
        "$ \\not =$\n",
        "\n",
        "$\\not \\; \\not$\n",
        "\n",
        "$\\not \\pm$"
      ]
    },
    {
      "cell_type": "markdown",
      "metadata": {
        "id": "EWeviDXmgI3I"
      },
      "source": [
        "# 命題と真理値"
      ]
    },
    {
      "cell_type": "markdown",
      "metadata": {
        "id": "St8GS0pxXZJ4"
      },
      "source": [
        "真偽が明確に定まる式や文を命題 proposition と言う。\n",
        "\n",
        "$x+1=2$ のように変数 $x$ が含まれている場合、命題にはならない。 $x$ に要素を代入したときに真理値が定まるものを, $x$ についての述語 predicate あるいは条件 condition と言い、$c(x),p(x)$ などと表す。\n",
        "\n"
      ]
    },
    {
      "cell_type": "markdown",
      "metadata": {
        "id": "8eivwV_tg2GC"
      },
      "source": [
        "**合成命題**\n",
        "\n",
        "compound proposition\n",
        "\n",
        "George Bool 1815-1864 イギリスの数学者\n",
        "\n",
        "**構成規則**\n",
        "\n",
        "でない、かつ、または、ならば =>  論理結合子 logical connective =>  \n",
        "$\\lnot , \\land, \\lor, \\Rightarrow $\n",
        "\n",
        "これらの文字や記号が構成規則に従って組合されてできた揮毫列を論理式 formula と言う。\n",
        "\n",
        "1. 命題を表す文字は論理式である。\n",
        "1. $p$ と $q$ が論旨sh機ならば、$(\\lnot p), (p \\land q), (p \\lor q), (p \\Rightarrow q), (p \\Leftrightarrow q)$ は論理式である。\n",
        "\n",
        "$r,s$ を命題とするとき、構成規則により、次の論理式が得られる。\n",
        "\n",
        "$\\quad r, (\\lnot r), (r \\land s), ((\\lnot r) \\land s), ((r \\land s) \\lor (\\lnot r)), (s \\Rightarrow (\\lnot r)) $\n"
      ]
    },
    {
      "cell_type": "markdown",
      "metadata": {
        "id": "JVukD0H5jLV0"
      },
      "source": [
        "# sympy の logic\n",
        "\n",
        "https://docs.sympy.org/latest/modules/logic.html"
      ]
    },
    {
      "cell_type": "code",
      "metadata": {
        "colab": {
          "base_uri": "https://localhost:8080/",
          "height": 82
        },
        "id": "vPfWMhaDkWr8",
        "outputId": "45fd0b5c-0e8c-4f67-d724-5d80a4f7179c"
      },
      "source": [
        "from sympy.abc import *\n",
        "from sympy import *\n",
        "display( y | (x & y))\n",
        "display(x | y)\n",
        "display(~x)"
      ],
      "execution_count": null,
      "outputs": [
        {
          "output_type": "display_data",
          "data": {
            "text/latex": "$\\displaystyle y \\vee \\left(x \\wedge y\\right)$",
            "text/plain": [
              "y | (x & y)"
            ]
          },
          "metadata": {
            "tags": []
          }
        },
        {
          "output_type": "display_data",
          "data": {
            "text/latex": "$\\displaystyle x \\vee y$",
            "text/plain": [
              "x | y"
            ]
          },
          "metadata": {
            "tags": []
          }
        },
        {
          "output_type": "display_data",
          "data": {
            "text/latex": "$\\displaystyle \\neg x$",
            "text/plain": [
              "~x"
            ]
          },
          "metadata": {
            "tags": []
          }
        }
      ]
    },
    {
      "cell_type": "code",
      "metadata": {
        "colab": {
          "base_uri": "https://localhost:8080/",
          "height": 103
        },
        "id": "T7lGEzxMk28Z",
        "outputId": "61bd0d4c-49f2-488f-b2e9-1db58f137b36"
      },
      "source": [
        "from sympy.abc import *\n",
        "from sympy import *\n",
        "display(x  >> y)\n",
        "display(Implies(x, y))\n",
        "display(x << y)\n",
        "display(Implies(y,x))"
      ],
      "execution_count": null,
      "outputs": [
        {
          "output_type": "display_data",
          "data": {
            "text/latex": "$\\displaystyle x \\Rightarrow y$",
            "text/plain": [
              "Implies(x, y)"
            ]
          },
          "metadata": {
            "tags": []
          }
        },
        {
          "output_type": "display_data",
          "data": {
            "text/latex": "$\\displaystyle x \\Rightarrow y$",
            "text/plain": [
              "Implies(x, y)"
            ]
          },
          "metadata": {
            "tags": []
          }
        },
        {
          "output_type": "display_data",
          "data": {
            "text/latex": "$\\displaystyle y \\Rightarrow x$",
            "text/plain": [
              "Implies(y, x)"
            ]
          },
          "metadata": {
            "tags": []
          }
        },
        {
          "output_type": "display_data",
          "data": {
            "text/latex": "$\\displaystyle y \\Rightarrow x$",
            "text/plain": [
              "Implies(y, x)"
            ]
          },
          "metadata": {
            "tags": []
          }
        }
      ]
    },
    {
      "cell_type": "code",
      "metadata": {
        "colab": {
          "base_uri": "https://localhost:8080/",
          "height": 37
        },
        "id": "ewLaY0vJlQFE",
        "outputId": "6f7e1a61-3908-4220-ed62-c56e86683190"
      },
      "source": [
        "(y & x).subs({x: True, y: True})"
      ],
      "execution_count": null,
      "outputs": [
        {
          "output_type": "execute_result",
          "data": {
            "text/latex": "$\\displaystyle \\text{True}$",
            "text/plain": [
              "True"
            ]
          },
          "metadata": {
            "tags": []
          },
          "execution_count": 8
        }
      ]
    },
    {
      "cell_type": "code",
      "metadata": {
        "colab": {
          "base_uri": "https://localhost:8080/"
        },
        "id": "IJqKESC4lbam",
        "outputId": "74fa09a8-d657-4b70-de53-f75d3fe99470"
      },
      "source": [
        "(x | y).atoms()"
      ],
      "execution_count": null,
      "outputs": [
        {
          "output_type": "execute_result",
          "data": {
            "text/plain": [
              "{x, y}"
            ]
          },
          "metadata": {
            "tags": []
          },
          "execution_count": 10
        }
      ]
    },
    {
      "cell_type": "code",
      "metadata": {
        "colab": {
          "base_uri": "https://localhost:8080/",
          "height": 38
        },
        "id": "9O5ReoMhnCmg",
        "outputId": "b8870469-8f54-49be-f9ee-36149dbf2298"
      },
      "source": [
        "# SOPform\n",
        "minterms = [[0, 0, 0, 1], [0, 0, 1, 1],\n",
        "            [0, 1, 1, 1], [1, 0, 1, 1], [1, 1, 1, 1]]\n",
        "dontcares = [[0, 0, 0, 0], [0, 0, 1, 0], [0, 1, 0, 1]]\n",
        "SOPform([w, x, y, z], minterms, dontcares)"
      ],
      "execution_count": null,
      "outputs": [
        {
          "output_type": "execute_result",
          "data": {
            "text/latex": "$\\displaystyle \\left(y \\wedge z\\right) \\vee \\left(z \\wedge \\neg w\\right)$",
            "text/plain": [
              "(y & z) | (z & ~w)"
            ]
          },
          "metadata": {
            "tags": []
          },
          "execution_count": 11
        }
      ]
    },
    {
      "cell_type": "code",
      "metadata": {
        "colab": {
          "base_uri": "https://localhost:8080/",
          "height": 38
        },
        "id": "UvjgsCSOnlf8",
        "outputId": "b74fba91-fe15-47db-b4e8-7ba32b0aedfc"
      },
      "source": [
        "# 整数で示すことができる\n",
        "minterms = [1,3,7,11,15]\n",
        "dontcares = {0,2,5}\n",
        "SOPform([w, x, y, z], minterms, dontcares)"
      ],
      "execution_count": null,
      "outputs": [
        {
          "output_type": "execute_result",
          "data": {
            "text/latex": "$\\displaystyle \\left(y \\wedge z\\right) \\vee \\left(z \\wedge \\neg w\\right)$",
            "text/plain": [
              "(y & z) | (z & ~w)"
            ]
          },
          "metadata": {
            "tags": []
          },
          "execution_count": 12
        }
      ]
    },
    {
      "cell_type": "code",
      "metadata": {
        "id": "j_n7x40o-KTA",
        "colab": {
          "base_uri": "https://localhost:8080/",
          "height": 38
        },
        "outputId": "6b6385ff-442a-451a-a45b-40547a3792b3"
      },
      "source": [
        "# 辞書で示すことができる\n",
        "minterms = [{w:0,x:1},{y:1,z:1,x:0}]\n",
        "SOPform([w, x, y, z], minterms)"
      ],
      "execution_count": null,
      "outputs": [
        {
          "output_type": "execute_result",
          "data": {
            "text/latex": "$\\displaystyle \\left(x \\wedge \\neg w\\right) \\vee \\left(y \\wedge z \\wedge \\neg x\\right)$",
            "text/plain": [
              "(x & ~w) | (y & z & ~x)"
            ]
          },
          "metadata": {
            "tags": []
          },
          "execution_count": 13
        }
      ]
    },
    {
      "cell_type": "code",
      "metadata": {
        "id": "7RBJfqFI-maA",
        "colab": {
          "base_uri": "https://localhost:8080/",
          "height": 38
        },
        "outputId": "1b503129-28cf-47af-c92f-930749517a94"
      },
      "source": [
        "# 混ぜて使うこともできる\n",
        "minterms = [4,7,11,[1,1,1,1]]\n",
        "dontcares =[{w:0,x:0,y:0},5]\n",
        "SOPform([w,x,y,z],minterms,dontcares)"
      ],
      "execution_count": null,
      "outputs": [
        {
          "output_type": "execute_result",
          "data": {
            "text/latex": "$\\displaystyle \\left(\\neg w \\wedge \\neg y\\right) \\vee \\left(w \\wedge y \\wedge z\\right) \\vee \\left(x \\wedge y \\wedge z\\right)$",
            "text/plain": [
              "(w & y & z) | (x & y & z) | (~w & ~y)"
            ]
          },
          "metadata": {
            "tags": []
          },
          "execution_count": 14
        }
      ]
    },
    {
      "cell_type": "code",
      "metadata": {
        "id": "lFIV36cCA1sp",
        "colab": {
          "base_uri": "https://localhost:8080/",
          "height": 38
        },
        "outputId": "5bbc0968-06dc-45b6-e96b-32b700769846"
      },
      "source": [
        "# POSform\n",
        "minterms = [[0, 0, 0, 1], [0, 0, 1, 1],\n",
        "            [0, 1, 1, 1], [1, 0, 1, 1], [1, 1, 1, 1]]\n",
        "dontcares = [[0, 0, 0, 0], [0, 0, 1, 0], [0, 1, 0, 1]]\n",
        "POSform([w, x, y, z], minterms, dontcares)"
      ],
      "execution_count": null,
      "outputs": [
        {
          "output_type": "execute_result",
          "data": {
            "text/latex": "$\\displaystyle z \\wedge \\left(y \\vee \\neg w\\right)$",
            "text/plain": [
              "z & (y | ~w)"
            ]
          },
          "metadata": {
            "tags": []
          },
          "execution_count": 16
        }
      ]
    },
    {
      "cell_type": "code",
      "metadata": {
        "id": "fmnp1rxrBALG",
        "colab": {
          "base_uri": "https://localhost:8080/",
          "height": 38
        },
        "outputId": "b95a1617-018c-4026-b9cb-efed1e844068"
      },
      "source": [
        "# 整数で示すことができる\n",
        "minterms = [1,3,7,11,15]\n",
        "dontcares = {0,2,5}\n",
        "POSform([w, x, y, z], minterms, dontcares)"
      ],
      "execution_count": null,
      "outputs": [
        {
          "output_type": "execute_result",
          "data": {
            "text/latex": "$\\displaystyle z \\wedge \\left(y \\vee \\neg w\\right)$",
            "text/plain": [
              "z & (y | ~w)"
            ]
          },
          "metadata": {
            "tags": []
          },
          "execution_count": 17
        }
      ]
    },
    {
      "cell_type": "code",
      "metadata": {
        "id": "K2GcZwUVBI2Q",
        "colab": {
          "base_uri": "https://localhost:8080/",
          "height": 38
        },
        "outputId": "3d558190-162e-436d-b407-fb35914bcc25"
      },
      "source": [
        "# 辞書で示すことができる\n",
        "minterms = [{w:0,x:1},{y:1,z:1,x:0}]\n",
        "POSform([w, x, y, z], minterms)"
      ],
      "execution_count": null,
      "outputs": [
        {
          "output_type": "execute_result",
          "data": {
            "text/latex": "$\\displaystyle \\left(x \\vee y\\right) \\wedge \\left(x \\vee z\\right) \\wedge \\left(\\neg w \\vee \\neg x\\right)$",
            "text/plain": [
              "(x | y) & (x | z) & (~w | ~x)"
            ]
          },
          "metadata": {
            "tags": []
          },
          "execution_count": 18
        }
      ]
    },
    {
      "cell_type": "code",
      "metadata": {
        "id": "uZE1wegvBQhz",
        "colab": {
          "base_uri": "https://localhost:8080/",
          "height": 38
        },
        "outputId": "b2f8acfe-10d4-4f31-e046-26d251128966"
      },
      "source": [
        "# 混ぜて使うこともできる\n",
        "minterms = [4,7,11,[1,1,1,1]]\n",
        "dontcares =[{w:0,x:0,y:0},5]\n",
        "POSform([w,x,y,z],minterms,dontcares)"
      ],
      "execution_count": null,
      "outputs": [
        {
          "output_type": "execute_result",
          "data": {
            "text/latex": "$\\displaystyle \\left(w \\vee x\\right) \\wedge \\left(y \\vee \\neg w\\right) \\wedge \\left(z \\vee \\neg y\\right)$",
            "text/plain": [
              "(w | x) & (y | ~w) & (z | ~y)"
            ]
          },
          "metadata": {
            "tags": []
          },
          "execution_count": 20
        }
      ]
    },
    {
      "cell_type": "code",
      "metadata": {
        "id": "l2DYPgBICIme",
        "colab": {
          "base_uri": "https://localhost:8080/",
          "height": 110
        },
        "outputId": "76becc5f-9ddf-4c5d-cbaf-35e54f995a7a"
      },
      "source": [
        "from sympy import sympify, true, false, Or\n",
        "display(sympify(True))\n",
        "display((_ is True, _ is true))\n",
        "display(Or(true,false))\n",
        "display(_ is true)\n",
        "display((true >> true, True >> True))"
      ],
      "execution_count": null,
      "outputs": [
        {
          "output_type": "display_data",
          "data": {
            "text/latex": "$\\displaystyle \\text{True}$",
            "text/plain": [
              "True"
            ]
          },
          "metadata": {
            "tags": []
          }
        },
        {
          "output_type": "display_data",
          "data": {
            "text/plain": [
              "(False, False)"
            ]
          },
          "metadata": {
            "tags": []
          }
        },
        {
          "output_type": "display_data",
          "data": {
            "text/latex": "$\\displaystyle \\text{True}$",
            "text/plain": [
              "True"
            ]
          },
          "metadata": {
            "tags": []
          }
        },
        {
          "output_type": "display_data",
          "data": {
            "text/plain": [
              "False"
            ]
          },
          "metadata": {
            "tags": []
          }
        },
        {
          "output_type": "display_data",
          "data": {
            "text/plain": [
              "(True, 0)"
            ]
          },
          "metadata": {
            "tags": []
          }
        }
      ]
    },
    {
      "cell_type": "code",
      "metadata": {
        "id": "E21s9cJ9DDZx",
        "colab": {
          "base_uri": "https://localhost:8080/",
          "height": 38
        },
        "outputId": "23595739-12d1-4566-b0b2-288b03aa3c35"
      },
      "source": [
        "display(true.as_set()) #=> U, UniversalSet"
      ],
      "execution_count": null,
      "outputs": [
        {
          "output_type": "display_data",
          "data": {
            "text/latex": "$\\displaystyle \\mathbb{U}$",
            "text/plain": [
              "UniversalSet"
            ]
          },
          "metadata": {
            "tags": []
          }
        }
      ]
    },
    {
      "cell_type": "code",
      "metadata": {
        "id": "vNVwH1f9DNA4",
        "colab": {
          "base_uri": "https://localhost:8080/",
          "height": 127
        },
        "outputId": "b449d2ec-c149-4745-ede5-ad72a5600ab6"
      },
      "source": [
        "from sympy import sympify, true, false, Or\n",
        "display(sympify(False))\n",
        "display((_ is False, _ is false))\n",
        "display(Or(true,false))\n",
        "display(_ is true)\n",
        "display((~false, ~False))\n",
        "display((false >> false, False >> False))"
      ],
      "execution_count": null,
      "outputs": [
        {
          "output_type": "display_data",
          "data": {
            "text/latex": "$\\displaystyle \\text{False}$",
            "text/plain": [
              "False"
            ]
          },
          "metadata": {
            "tags": []
          }
        },
        {
          "output_type": "display_data",
          "data": {
            "text/plain": [
              "(False, False)"
            ]
          },
          "metadata": {
            "tags": []
          }
        },
        {
          "output_type": "display_data",
          "data": {
            "text/latex": "$\\displaystyle \\text{True}$",
            "text/plain": [
              "True"
            ]
          },
          "metadata": {
            "tags": []
          }
        },
        {
          "output_type": "display_data",
          "data": {
            "text/plain": [
              "False"
            ]
          },
          "metadata": {
            "tags": []
          }
        },
        {
          "output_type": "display_data",
          "data": {
            "text/plain": [
              "(True, -1)"
            ]
          },
          "metadata": {
            "tags": []
          }
        },
        {
          "output_type": "display_data",
          "data": {
            "text/plain": [
              "(True, 0)"
            ]
          },
          "metadata": {
            "tags": []
          }
        }
      ]
    },
    {
      "cell_type": "code",
      "metadata": {
        "id": "-iA4DJVqEJGc",
        "colab": {
          "base_uri": "https://localhost:8080/",
          "height": 37
        },
        "outputId": "d405745e-6349-4d79-ae18-2f7cb0466c2a"
      },
      "source": [
        "false.as_set() #=> EmptySet"
      ],
      "execution_count": null,
      "outputs": [
        {
          "output_type": "execute_result",
          "data": {
            "text/latex": "$\\displaystyle \\emptyset$",
            "text/plain": [
              "EmptySet"
            ]
          },
          "metadata": {
            "tags": []
          },
          "execution_count": 40
        }
      ]
    },
    {
      "cell_type": "code",
      "metadata": {
        "id": "ZpG14g_gEShR",
        "colab": {
          "base_uri": "https://localhost:8080/",
          "height": 226
        },
        "outputId": "a6a270b0-941f-493d-aea5-90cda7d11dbb"
      },
      "source": [
        "display(x & y)\n",
        "display(And(x,y).subs(x,1))\n",
        "display(x | y)\n",
        "display(Or(x,y).subs(x,0))\n",
        "display(Not(True))\n",
        "display(Not(False))\n",
        "display(And(True,False))\n",
        "display(Or(True,False))\n",
        "display(Not(And(And(True,x), Or(x,False))))\n",
        "display(Not(And(Or(A,B), Or(Not(A), Not(B)))))\n",
        "\n"
      ],
      "execution_count": null,
      "outputs": [
        {
          "output_type": "display_data",
          "data": {
            "text/latex": "$\\displaystyle x \\wedge y$",
            "text/plain": [
              "x & y"
            ]
          },
          "metadata": {
            "tags": []
          }
        },
        {
          "output_type": "display_data",
          "data": {
            "text/latex": "$\\displaystyle y$",
            "text/plain": [
              "y"
            ]
          },
          "metadata": {
            "tags": []
          }
        },
        {
          "output_type": "display_data",
          "data": {
            "text/latex": "$\\displaystyle x \\vee y$",
            "text/plain": [
              "x | y"
            ]
          },
          "metadata": {
            "tags": []
          }
        },
        {
          "output_type": "display_data",
          "data": {
            "text/latex": "$\\displaystyle y$",
            "text/plain": [
              "y"
            ]
          },
          "metadata": {
            "tags": []
          }
        },
        {
          "output_type": "display_data",
          "data": {
            "text/latex": "$\\displaystyle \\text{False}$",
            "text/plain": [
              "False"
            ]
          },
          "metadata": {
            "tags": []
          }
        },
        {
          "output_type": "display_data",
          "data": {
            "text/latex": "$\\displaystyle \\text{True}$",
            "text/plain": [
              "True"
            ]
          },
          "metadata": {
            "tags": []
          }
        },
        {
          "output_type": "display_data",
          "data": {
            "text/latex": "$\\displaystyle \\text{False}$",
            "text/plain": [
              "False"
            ]
          },
          "metadata": {
            "tags": []
          }
        },
        {
          "output_type": "display_data",
          "data": {
            "text/latex": "$\\displaystyle \\text{True}$",
            "text/plain": [
              "True"
            ]
          },
          "metadata": {
            "tags": []
          }
        },
        {
          "output_type": "display_data",
          "data": {
            "text/latex": "$\\displaystyle \\neg x$",
            "text/plain": [
              "~x"
            ]
          },
          "metadata": {
            "tags": []
          }
        },
        {
          "output_type": "display_data",
          "data": {
            "text/latex": "$\\displaystyle \\neg \\left(\\left(A \\vee B\\right) \\wedge \\left(\\neg A \\vee \\neg B\\right)\\right)$",
            "text/plain": [
              "~((A | B) & (~A | ~B))"
            ]
          },
          "metadata": {
            "tags": []
          }
        }
      ]
    },
    {
      "cell_type": "code",
      "metadata": {
        "id": "RkLkm8UdFkM7",
        "colab": {
          "base_uri": "https://localhost:8080/",
          "height": 54
        },
        "outputId": "832865d6-d535-4769-d81b-bae33c77487e"
      },
      "source": [
        "display(~True)\n",
        "display(~true)"
      ],
      "execution_count": null,
      "outputs": [
        {
          "output_type": "display_data",
          "data": {
            "text/plain": [
              "-2"
            ]
          },
          "metadata": {
            "tags": []
          }
        },
        {
          "output_type": "display_data",
          "data": {
            "text/latex": "$\\displaystyle \\text{False}$",
            "text/plain": [
              "False"
            ]
          },
          "metadata": {
            "tags": []
          }
        }
      ]
    },
    {
      "cell_type": "code",
      "metadata": {
        "id": "VSuaBehbFsF-",
        "colab": {
          "base_uri": "https://localhost:8080/",
          "height": 118
        },
        "outputId": "c5f1f368-ccf1-4836-eb7b-f2a035df3e6e"
      },
      "source": [
        "display(Xor(True,False))\n",
        "display(Xor(True,True))\n",
        "display(Xor(True,False,True,True,False)) #=> True の数が奇数だと Truelay(Xor(True,False))\n",
        "display(Xor(True,True))\n",
        "display(Xor(True,False,True,True,False)) #=> True の数が奇数だと True\n",
        "display(Xor(True,False,True,False))\n",
        "display(x ^ y)"
      ],
      "execution_count": null,
      "outputs": [
        {
          "output_type": "display_data",
          "data": {
            "text/latex": "$\\displaystyle \\text{True}$",
            "text/plain": [
              "True"
            ]
          },
          "metadata": {
            "tags": []
          }
        },
        {
          "output_type": "display_data",
          "data": {
            "text/latex": "$\\displaystyle \\text{False}$",
            "text/plain": [
              "False"
            ]
          },
          "metadata": {
            "tags": []
          }
        },
        {
          "output_type": "display_data",
          "data": {
            "text/latex": "$\\displaystyle \\text{True}$",
            "text/plain": [
              "True"
            ]
          },
          "metadata": {
            "tags": []
          }
        },
        {
          "output_type": "display_data",
          "data": {
            "text/latex": "$\\displaystyle \\text{False}$",
            "text/plain": [
              "False"
            ]
          },
          "metadata": {
            "tags": []
          }
        },
        {
          "output_type": "display_data",
          "data": {
            "text/latex": "$\\displaystyle x \\veebar y$",
            "text/plain": [
              "x ^ y"
            ]
          },
          "metadata": {
            "tags": []
          }
        }
      ]
    },
    {
      "cell_type": "code",
      "metadata": {
        "id": "sraw-Z0oGsGV",
        "colab": {
          "base_uri": "https://localhost:8080/",
          "height": 38
        },
        "outputId": "6bdb35cf-982f-4c08-e943-5465630a28bb"
      },
      "source": [
        "Xor(x,y).subs(y,0)"
      ],
      "execution_count": null,
      "outputs": [
        {
          "output_type": "execute_result",
          "data": {
            "text/latex": "$\\displaystyle x$",
            "text/plain": [
              "x"
            ]
          },
          "metadata": {
            "tags": []
          },
          "execution_count": 54
        }
      ]
    },
    {
      "cell_type": "code",
      "metadata": {
        "id": "XACklUBRGycu",
        "colab": {
          "base_uri": "https://localhost:8080/",
          "height": 78
        },
        "outputId": "d7b36874-93ad-4883-bf93-7a1643a06c6a"
      },
      "source": [
        "# Nand は頭から評価していって、False があれば即座に True、最後までFalseがなければ False\n",
        "# その結果、False がひとつでもあれば True, なければ False になる\n",
        "display(Nand(False,True))\n",
        "display(Nand(True,True))\n",
        "display(Nand(x,y))"
      ],
      "execution_count": null,
      "outputs": [
        {
          "output_type": "display_data",
          "data": {
            "text/latex": "$\\displaystyle \\text{True}$",
            "text/plain": [
              "True"
            ]
          },
          "metadata": {
            "tags": []
          }
        },
        {
          "output_type": "display_data",
          "data": {
            "text/latex": "$\\displaystyle \\text{False}$",
            "text/plain": [
              "False"
            ]
          },
          "metadata": {
            "tags": []
          }
        },
        {
          "output_type": "display_data",
          "data": {
            "text/latex": "$\\displaystyle \\neg \\left(x \\wedge y\\right)$",
            "text/plain": [
              "~(x & y)"
            ]
          },
          "metadata": {
            "tags": []
          }
        }
      ]
    },
    {
      "cell_type": "code",
      "metadata": {
        "id": "Vtj1zwKpHze5",
        "colab": {
          "base_uri": "https://localhost:8080/",
          "height": 98
        },
        "outputId": "9d393e16-84f1-4d14-ccd6-796bfc6ecb3a"
      },
      "source": [
        "# Nor は頭から評価していって、True があれば即座に False、最後までTrueなければ True\n",
        "# その結果、True がひとつでもあれば Fale, なければ True になる\n",
        "display(Nor(False,True))\n",
        "display(Nor(True,True))\n",
        "display(Nor(False,False))\n",
        "display(Nor(x,y))"
      ],
      "execution_count": null,
      "outputs": [
        {
          "output_type": "display_data",
          "data": {
            "text/latex": "$\\displaystyle \\text{False}$",
            "text/plain": [
              "False"
            ]
          },
          "metadata": {
            "tags": []
          }
        },
        {
          "output_type": "display_data",
          "data": {
            "text/latex": "$\\displaystyle \\text{False}$",
            "text/plain": [
              "False"
            ]
          },
          "metadata": {
            "tags": []
          }
        },
        {
          "output_type": "display_data",
          "data": {
            "text/latex": "$\\displaystyle \\text{True}$",
            "text/plain": [
              "True"
            ]
          },
          "metadata": {
            "tags": []
          }
        },
        {
          "output_type": "display_data",
          "data": {
            "text/latex": "$\\displaystyle \\neg \\left(x \\vee y\\right)$",
            "text/plain": [
              "~(x | y)"
            ]
          },
          "metadata": {
            "tags": []
          }
        }
      ]
    },
    {
      "cell_type": "code",
      "metadata": {
        "id": "gUX6hdi-Li_y",
        "outputId": "b5ea5d25-6233-4677-fd0c-972b0c33ce96",
        "colab": {
          "base_uri": "https://localhost:8080/",
          "height": 141
        }
      },
      "source": [
        "# Implies は A が True で B が False のときのみ False を返し、それ以外では True である\n",
        "from sympy.abc import *\n",
        "from sympy import *\n",
        "display(Implies(True, False))\n",
        "display(Implies(False, False))\n",
        "display(Implies(True, True))\n",
        "display(Implies(False, True))\n",
        "display(x >> y)\n",
        "display(y << x)\n"
      ],
      "execution_count": 3,
      "outputs": [
        {
          "output_type": "display_data",
          "data": {
            "text/latex": "$\\displaystyle \\text{False}$",
            "text/plain": [
              "False"
            ]
          },
          "metadata": {
            "tags": []
          }
        },
        {
          "output_type": "display_data",
          "data": {
            "text/latex": "$\\displaystyle \\text{True}$",
            "text/plain": [
              "True"
            ]
          },
          "metadata": {
            "tags": []
          }
        },
        {
          "output_type": "display_data",
          "data": {
            "text/latex": "$\\displaystyle \\text{True}$",
            "text/plain": [
              "True"
            ]
          },
          "metadata": {
            "tags": []
          }
        },
        {
          "output_type": "display_data",
          "data": {
            "text/latex": "$\\displaystyle \\text{True}$",
            "text/plain": [
              "True"
            ]
          },
          "metadata": {
            "tags": []
          }
        },
        {
          "output_type": "display_data",
          "data": {
            "text/latex": "$\\displaystyle x \\Rightarrow y$",
            "text/plain": [
              "Implies(x, y)"
            ]
          },
          "metadata": {
            "tags": []
          }
        },
        {
          "output_type": "display_data",
          "data": {
            "text/latex": "$\\displaystyle x \\Rightarrow y$",
            "text/plain": [
              "Implies(x, y)"
            ]
          },
          "metadata": {
            "tags": []
          }
        }
      ]
    },
    {
      "cell_type": "code",
      "metadata": {
        "id": "7g0OcHwsiS1O",
        "outputId": "1d63383a-05f6-47a8-fcf9-256ae34ad1cd",
        "colab": {
          "base_uri": "https://localhost:8080/",
          "height": 55
        }
      },
      "source": [
        "display(True >> False)\n",
        "display(true >> false)\n"
      ],
      "execution_count": 4,
      "outputs": [
        {
          "output_type": "display_data",
          "data": {
            "text/plain": [
              "1"
            ]
          },
          "metadata": {
            "tags": []
          }
        },
        {
          "output_type": "display_data",
          "data": {
            "text/latex": "$\\displaystyle \\text{False}$",
            "text/plain": [
              "False"
            ]
          },
          "metadata": {
            "tags": []
          }
        }
      ]
    },
    {
      "cell_type": "code",
      "metadata": {
        "id": "LhX12eNoidvK"
      },
      "source": [
        "# Equivalent は A と B の両方が True または False のときに True\n",
        "# Equivalent is True iff A and B are both True or both False\n",
        "Equivalent (False, False, False)\n"
      ],
      "execution_count": null,
      "outputs": []
    },
    {
      "cell_type": "markdown",
      "metadata": {
        "id": "S9Czx4ixgRJw"
      },
      "source": [
        "# いまここ"
      ]
    },
    {
      "cell_type": "markdown",
      "metadata": {
        "id": "7NP_9jLpgTiq"
      },
      "source": [
        "# 最後"
      ]
    }
  ]
}