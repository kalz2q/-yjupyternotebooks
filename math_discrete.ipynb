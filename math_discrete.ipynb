{
  "nbformat": 4,
  "nbformat_minor": 0,
  "metadata": {
    "colab": {
      "name": "math_discrete.ipynb",
      "provenance": [],
      "toc_visible": true,
      "authorship_tag": "ABX9TyNWRRFu+w0SFlPEI5VKYP5Y",
      "include_colab_link": true
    },
    "kernelspec": {
      "name": "python3",
      "display_name": "Python 3"
    },
    "language_info": {
      "name": "python"
    }
  },
  "cells": [
    {
      "cell_type": "markdown",
      "metadata": {
        "id": "view-in-github",
        "colab_type": "text"
      },
      "source": [
        "<a href=\"https://colab.research.google.com/github/kalz2q/mycolabnotebooks/blob/master/math_discrete.ipynb\" target=\"_parent\"><img src=\"https://colab.research.google.com/assets/colab-badge.svg\" alt=\"Open In Colab\"/></a>"
      ]
    },
    {
      "cell_type": "markdown",
      "metadata": {
        "id": "0-1mVjx4wd2V"
      },
      "source": [
        "# メモ\n",
        "やさしく学べる離散数学  \n",
        "石村園子\n",
        "\n",
        "離散数学「ものを分ける理論」問題解決のアルゴリズムをつくる（ブルーバックス）  \n",
        "徳田雄洋"
      ]
    },
    {
      "cell_type": "code",
      "metadata": {
        "id": "WF2WXQgMxTCU"
      },
      "source": [
        ""
      ],
      "execution_count": null,
      "outputs": []
    },
    {
      "cell_type": "markdown",
      "metadata": {
        "id": "srVAQYT9xl0D"
      },
      "source": [
        "石村園子のは\n",
        "1. 集合と論理\n",
        "1. 関係と写像 => 有向グラフ、関係行列\n",
        "1. 代数系 => 2項演算、半群と群、環と体\n",
        "1. 重所集合と束\n",
        "1. グラフ => ツリー、オイラーグラフ、ハミルトングラフ、有限オートマトン\n",
        "\n",
        "ブルーバックス 徳田雄洋たけひろ のは\n",
        "\n",
        "ようかん、トリミング、くだもの、最大化、三角形の建物定理、家賃問題、赤道の気温定理、結婚式のケーキカット、料理問題、人数増加法、絶対的優位法、存在定理\n",
        "\n"
      ]
    },
    {
      "cell_type": "markdown",
      "metadata": {
        "id": "p_dZvR-SU4p-"
      },
      "source": [
        "離散数学のすすめ 伊藤大雄いとうひろお、宇野裕之のは\n",
        "\n",
        "基礎理論編、ゲーム・パズル編、発展理論編、応用編。であまりグラフ理論ではなさそう。\n",
        "\n",
        "離散数学入門 守屋悦郎 は\n",
        "\n",
        "基本的な数学概念、帰納法と再帰、関係、グラフ、論理、アルゴリズムの解析\n",
        "\n",
        "と教科書風で、コンピューターを意識している。\n",
        "\n",
        "情報系のための離散数学 猪股俊光 南野謙一 は\n",
        "\n",
        "命題論理、集合の基礎、帰納と証明、数え上げ、関係、関数、グラフ、木と探索、ネットワークと各種グラフ問題\n",
        "\n",
        "とこれも教科書風だが、幅広く対応しているみたい。 いいかも。"
      ]
    },
    {
      "cell_type": "markdown",
      "metadata": {
        "id": "GpvZFvpLyqoj"
      },
      "source": [
        "# 集合\n",
        "\n",
        "要素または元\n",
        "\n",
        "$a \\in A$ または $A \\owns a$\n",
        "\n",
        "\n",
        "$a \\notin A$ または $A \\not \\owns a$\n",
        "\n",
        "$ \\not =$\n",
        "\n",
        "$\\not \\; \\not$\n",
        "\n",
        "$\\not \\pm$"
      ]
    },
    {
      "cell_type": "markdown",
      "metadata": {
        "id": "EWeviDXmgI3I"
      },
      "source": [
        "# 命題と真理値"
      ]
    },
    {
      "cell_type": "markdown",
      "metadata": {
        "id": "St8GS0pxXZJ4"
      },
      "source": [
        "真偽が明確に定まる式や文を命題 proposition と言う。\n",
        "\n",
        "$x+1=2$ のように変数 $x$ が含まれている場合、命題にはならない。 $x$ に要素を代入したときに真理値が定まるものを, $x$ についての述語 predicate あるいは条件 condition と言い、$c(x),p(x)$ などと表す。\n",
        "\n"
      ]
    },
    {
      "cell_type": "markdown",
      "metadata": {
        "id": "8eivwV_tg2GC"
      },
      "source": [
        "**合成命題**\n",
        "\n",
        "compound proposition\n",
        "\n",
        "George Bool 1815-1864 イギリスの数学者\n",
        "\n",
        "**構成規則**\n",
        "\n",
        "でない、かつ、または、ならば =>  論理結合子 logical connective =>  \n",
        "$\\lnot , \\land, \\lor, \\Rightarrow $\n",
        "\n",
        "これらの文字や記号が構成規則に従って組合されてできた揮毫列を論理式 formula と言う。\n",
        "\n",
        "1. 命題を表す文字は論理式である。\n",
        "1. $p$ と $q$ が論旨sh機ならば、$(\\lnot p), (p \\land q), (p \\lor q), (p \\Rightarrow q), (p \\Leftrightarrow q)$ は論理式である。\n",
        "\n",
        "$r,s$ を命題とするとき、構成規則により、次の論理式が得られる。\n",
        "\n",
        "$\\quad r, (\\lnot r), (r \\land s), ((\\lnot r) \\land s), ((r \\land s) \\lor (\\lnot r)), (s \\Rightarrow (\\lnot r)) $\n"
      ]
    },
    {
      "cell_type": "markdown",
      "metadata": {
        "id": "JVukD0H5jLV0"
      },
      "source": [
        "# sympy の logic\n",
        "\n",
        "https://docs.sympy.org/latest/modules/logic.html"
      ]
    },
    {
      "cell_type": "code",
      "metadata": {
        "id": "vPfWMhaDkWr8",
        "outputId": "45fd0b5c-0e8c-4f67-d724-5d80a4f7179c",
        "colab": {
          "base_uri": "https://localhost:8080/",
          "height": 82
        }
      },
      "source": [
        "from sympy.abc import *\n",
        "from sympy import *\n",
        "display( y | (x & y))\n",
        "display(x | y)\n",
        "display(~x)"
      ],
      "execution_count": 3,
      "outputs": [
        {
          "output_type": "display_data",
          "data": {
            "text/latex": "$\\displaystyle y \\vee \\left(x \\wedge y\\right)$",
            "text/plain": [
              "y | (x & y)"
            ]
          },
          "metadata": {
            "tags": []
          }
        },
        {
          "output_type": "display_data",
          "data": {
            "text/latex": "$\\displaystyle x \\vee y$",
            "text/plain": [
              "x | y"
            ]
          },
          "metadata": {
            "tags": []
          }
        },
        {
          "output_type": "display_data",
          "data": {
            "text/latex": "$\\displaystyle \\neg x$",
            "text/plain": [
              "~x"
            ]
          },
          "metadata": {
            "tags": []
          }
        }
      ]
    },
    {
      "cell_type": "code",
      "metadata": {
        "id": "T7lGEzxMk28Z",
        "outputId": "61bd0d4c-49f2-488f-b2e9-1db58f137b36",
        "colab": {
          "base_uri": "https://localhost:8080/",
          "height": 103
        }
      },
      "source": [
        "from sympy.abc import *\n",
        "from sympy import *\n",
        "display(x  >> y)\n",
        "display(Implies(x, y))\n",
        "display(x << y)\n",
        "display(Implies(y,x))"
      ],
      "execution_count": 7,
      "outputs": [
        {
          "output_type": "display_data",
          "data": {
            "text/latex": "$\\displaystyle x \\Rightarrow y$",
            "text/plain": [
              "Implies(x, y)"
            ]
          },
          "metadata": {
            "tags": []
          }
        },
        {
          "output_type": "display_data",
          "data": {
            "text/latex": "$\\displaystyle x \\Rightarrow y$",
            "text/plain": [
              "Implies(x, y)"
            ]
          },
          "metadata": {
            "tags": []
          }
        },
        {
          "output_type": "display_data",
          "data": {
            "text/latex": "$\\displaystyle y \\Rightarrow x$",
            "text/plain": [
              "Implies(y, x)"
            ]
          },
          "metadata": {
            "tags": []
          }
        },
        {
          "output_type": "display_data",
          "data": {
            "text/latex": "$\\displaystyle y \\Rightarrow x$",
            "text/plain": [
              "Implies(y, x)"
            ]
          },
          "metadata": {
            "tags": []
          }
        }
      ]
    },
    {
      "cell_type": "code",
      "metadata": {
        "id": "ewLaY0vJlQFE",
        "outputId": "6f7e1a61-3908-4220-ed62-c56e86683190",
        "colab": {
          "base_uri": "https://localhost:8080/",
          "height": 37
        }
      },
      "source": [
        "(y & x).subs({x: True, y: True})"
      ],
      "execution_count": 8,
      "outputs": [
        {
          "output_type": "execute_result",
          "data": {
            "text/latex": "$\\displaystyle \\text{True}$",
            "text/plain": [
              "True"
            ]
          },
          "metadata": {
            "tags": []
          },
          "execution_count": 8
        }
      ]
    },
    {
      "cell_type": "code",
      "metadata": {
        "id": "IJqKESC4lbam",
        "outputId": "74fa09a8-d657-4b70-de53-f75d3fe99470",
        "colab": {
          "base_uri": "https://localhost:8080/"
        }
      },
      "source": [
        "(x | y).atoms()"
      ],
      "execution_count": 10,
      "outputs": [
        {
          "output_type": "execute_result",
          "data": {
            "text/plain": [
              "{x, y}"
            ]
          },
          "metadata": {
            "tags": []
          },
          "execution_count": 10
        }
      ]
    },
    {
      "cell_type": "code",
      "metadata": {
        "id": "9O5ReoMhnCmg",
        "outputId": "b8870469-8f54-49be-f9ee-36149dbf2298",
        "colab": {
          "base_uri": "https://localhost:8080/",
          "height": 38
        }
      },
      "source": [
        "# SOPform\n",
        "minterms = [[0, 0, 0, 1], [0, 0, 1, 1],\n",
        "            [0, 1, 1, 1], [1, 0, 1, 1], [1, 1, 1, 1]]\n",
        "dontcares = [[0, 0, 0, 0], [0, 0, 1, 0], [0, 1, 0, 1]]\n",
        "SOPform([w, x, y, z], minterms, dontcares)"
      ],
      "execution_count": 11,
      "outputs": [
        {
          "output_type": "execute_result",
          "data": {
            "text/latex": "$\\displaystyle \\left(y \\wedge z\\right) \\vee \\left(z \\wedge \\neg w\\right)$",
            "text/plain": [
              "(y & z) | (z & ~w)"
            ]
          },
          "metadata": {
            "tags": []
          },
          "execution_count": 11
        }
      ]
    },
    {
      "cell_type": "code",
      "metadata": {
        "id": "UvjgsCSOnlf8",
        "outputId": "b74fba91-fe15-47db-b4e8-7ba32b0aedfc",
        "colab": {
          "base_uri": "https://localhost:8080/",
          "height": 38
        }
      },
      "source": [
        "minterms = [1,3,7,11,15]\n",
        "dontcares = {0,2,5}\n",
        "SOPform([w, x, y, z], minterms, dontcares)"
      ],
      "execution_count": 12,
      "outputs": [
        {
          "output_type": "execute_result",
          "data": {
            "text/latex": "$\\displaystyle \\left(y \\wedge z\\right) \\vee \\left(z \\wedge \\neg w\\right)$",
            "text/plain": [
              "(y & z) | (z & ~w)"
            ]
          },
          "metadata": {
            "tags": []
          },
          "execution_count": 12
        }
      ]
    }
  ]
}