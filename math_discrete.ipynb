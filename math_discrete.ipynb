{
  "nbformat": 4,
  "nbformat_minor": 0,
  "metadata": {
    "colab": {
      "name": "math_discrete.ipynb",
      "provenance": [],
      "toc_visible": true,
      "authorship_tag": "ABX9TyNrlvbB9PpWZzq4Qj6YD7kW",
      "include_colab_link": true
    },
    "kernelspec": {
      "name": "python3",
      "display_name": "Python 3"
    },
    "language_info": {
      "name": "python"
    }
  },
  "cells": [
    {
      "cell_type": "markdown",
      "metadata": {
        "id": "view-in-github",
        "colab_type": "text"
      },
      "source": [
        "<a href=\"https://colab.research.google.com/github/kalz2q/mycolabnotebooks/blob/master/math_discrete.ipynb\" target=\"_parent\"><img src=\"https://colab.research.google.com/assets/colab-badge.svg\" alt=\"Open In Colab\"/></a>"
      ]
    },
    {
      "cell_type": "markdown",
      "metadata": {
        "id": "0-1mVjx4wd2V"
      },
      "source": [
        "# メモ\n",
        "やさしく学べる離散数学  \n",
        "石村園子\n",
        "\n",
        "を読む。\n",
        "&nbsp;\n"
      ]
    },
    {
      "cell_type": "markdown",
      "metadata": {
        "id": "KBtzB0Jgy21S"
      },
      "source": [
        "# Colab 云々\n"
      ]
    },
    {
      "cell_type": "markdown",
      "metadata": {
        "id": "srVAQYT9xl0D"
      },
      "source": [
        "目次\n",
        "1. 集合と論理\n",
        "1. 関係と写像 => 有向グラフ、関係行列\n",
        "1. 代数系 => 2項演算、半群と群、環と体\n",
        "1. 重所集合と束\n",
        "1. グラフ => ツリー、オイラーグラフ、ハミルトングラフ、有限オートマトン\n",
        "\n",
        "\n",
        "\n"
      ]
    },
    {
      "cell_type": "markdown",
      "metadata": {
        "id": "GpvZFvpLyqoj"
      },
      "source": [
        "# 集合\n",
        "\n",
        "要素または元\n",
        "\n",
        "$a \\in A$ または $A \\owns a$\n",
        "\n",
        "\n",
        "$a \\notin A$ または $A \\not \\owns a$\n",
        "\n",
        "メモ $\\quad$ latex の `\\not \\owns` で $\\not \\owns$ になった。 $\\neq$ は `\\neq` と $\\not =$ `\\not =` のどちらでもオッケー。\n",
        "\n",
        "&nbsp; \n",
        "\n",
        "集合は普通 `{}`で表す。 latex の中では波括弧は `\\` でエスケープしないと消えてしまうので注意。\n",
        "\n",
        "$A=\\{1,2,3,4,5\\}$\n",
        "\n",
        "$A=\\{n \\ |\\  1 \\leq n \\leq5,\\  n は自然数\\}$\n",
        "\n",
        "&nbsp;  \n",
        "\n",
        "数の集合の表記 $N$ 自然数、$Z$ 整数、$Q$ 有理数、$R$ 実数、$C$ 複素数。\n",
        "\n",
        "なのだが、$\\mathbf {N Z Q R C}$ としないと普通の変数 $A,B,C$ と区別がつかない。 テキストではボールドで斜体になっているが、latex ではむずかしいので `\\mathbf` でボールドにすることにする。\n",
        "\n",
        "&nbsp;\n"
      ]
    },
    {
      "cell_type": "markdown",
      "metadata": {
        "id": "flz03bu-tlSd"
      },
      "source": [
        "**全体集合** $\\quad U$\n",
        "\n",
        "**空集合** $\\quad \\emptyset$ $\\phi$ $\\varnothing \\quad$ `\\emptyset$ $\\phi$ $\\varnothing`\n",
        "\n",
        "集合 $A$ の要素が $B$ の要素であるとき、$A$ は $B$ の部分集合である、と言い、\n",
        "\n",
        "$A \\subseteq B$ または $B \\supseteq A$ \n",
        "\n",
        "で表す。\n",
        "\n",
        "$\\quad \\subseteq \\quad$ `\\subseteq`\n",
        "\n",
        "$\\quad \\supseteq \\quad$ `\\supseteq`\n",
        "\n",
        "\n",
        "$A \\subseteq B \\overset{\\text{def}}{\\Longleftrightarrow}$\n",
        "\n",
        "&nbsp;"
      ]
    },
    {
      "cell_type": "markdown",
      "metadata": {
        "id": "EWeviDXmgI3I"
      },
      "source": [
        "# 命題と真理値"
      ]
    },
    {
      "cell_type": "markdown",
      "metadata": {
        "id": "St8GS0pxXZJ4"
      },
      "source": [
        "真偽が明確に定まる式や文を命題 proposition と言う。\n",
        "\n",
        "$x+1=2$ のように変数 $x$ が含まれている場合、命題にはならない。 $x$ に要素を代入したときに真理値が定まるものを, $x$ についての述語 predicate あるいは条件 condition と言い、$c(x),p(x)$ などと表す。\n",
        "\n"
      ]
    },
    {
      "cell_type": "markdown",
      "metadata": {
        "id": "8eivwV_tg2GC"
      },
      "source": [
        "**合成命題**\n",
        "\n",
        "compound proposition\n",
        "\n",
        "George Bool 1815-1864 イギリスの数学者\n",
        "\n",
        "**構成規則**\n",
        "\n",
        "でない、かつ、または、ならば =>  論理結合子 logical connective =>  \n",
        "$\\lnot , \\land, \\lor, \\Rightarrow $\n",
        "\n",
        "これらの文字や記号が構成規則に従って組合されてできた揮毫列を論理式 formula と言う。\n",
        "\n",
        "1. 命題を表す文字は論理式である。\n",
        "1. $p$ と $q$ が論旨式ならば、$(\\lnot p), (p \\land q), (p \\lor q), (p \\Rightarrow q), (p \\Leftrightarrow q)$ は論理式である。\n",
        "\n",
        "$r,s$ を命題とするとき、構成規則により、次の論理式が得られる。\n",
        "\n",
        "$\\quad r, (\\lnot r), (r \\land s), ((\\lnot r) \\land s), ((r \\land s) \\lor (\\lnot r)), (s \\Rightarrow (\\lnot r)) $\n"
      ]
    },
    {
      "cell_type": "markdown",
      "metadata": {
        "id": "JVukD0H5jLV0"
      },
      "source": [
        "# sympy の logic\n",
        "\n",
        "https://docs.sympy.org/latest/modules/logic.html"
      ]
    },
    {
      "cell_type": "code",
      "metadata": {
        "colab": {
          "base_uri": "https://localhost:8080/",
          "height": 82
        },
        "id": "vPfWMhaDkWr8",
        "outputId": "45fd0b5c-0e8c-4f67-d724-5d80a4f7179c"
      },
      "source": [
        "from sympy.abc import *\n",
        "from sympy import *\n",
        "display( y | (x & y))\n",
        "display(x | y)\n",
        "display(~x)"
      ],
      "execution_count": null,
      "outputs": [
        {
          "output_type": "display_data",
          "data": {
            "text/latex": "$\\displaystyle y \\vee \\left(x \\wedge y\\right)$",
            "text/plain": [
              "y | (x & y)"
            ]
          },
          "metadata": {
            "tags": []
          }
        },
        {
          "output_type": "display_data",
          "data": {
            "text/latex": "$\\displaystyle x \\vee y$",
            "text/plain": [
              "x | y"
            ]
          },
          "metadata": {
            "tags": []
          }
        },
        {
          "output_type": "display_data",
          "data": {
            "text/latex": "$\\displaystyle \\neg x$",
            "text/plain": [
              "~x"
            ]
          },
          "metadata": {
            "tags": []
          }
        }
      ]
    },
    {
      "cell_type": "code",
      "metadata": {
        "colab": {
          "base_uri": "https://localhost:8080/",
          "height": 103
        },
        "id": "T7lGEzxMk28Z",
        "outputId": "61bd0d4c-49f2-488f-b2e9-1db58f137b36"
      },
      "source": [
        "from sympy.abc import *\n",
        "from sympy import *\n",
        "display(x  >> y)\n",
        "display(Implies(x, y))\n",
        "display(x << y)\n",
        "display(Implies(y,x))"
      ],
      "execution_count": null,
      "outputs": [
        {
          "output_type": "display_data",
          "data": {
            "text/latex": "$\\displaystyle x \\Rightarrow y$",
            "text/plain": [
              "Implies(x, y)"
            ]
          },
          "metadata": {
            "tags": []
          }
        },
        {
          "output_type": "display_data",
          "data": {
            "text/latex": "$\\displaystyle x \\Rightarrow y$",
            "text/plain": [
              "Implies(x, y)"
            ]
          },
          "metadata": {
            "tags": []
          }
        },
        {
          "output_type": "display_data",
          "data": {
            "text/latex": "$\\displaystyle y \\Rightarrow x$",
            "text/plain": [
              "Implies(y, x)"
            ]
          },
          "metadata": {
            "tags": []
          }
        },
        {
          "output_type": "display_data",
          "data": {
            "text/latex": "$\\displaystyle y \\Rightarrow x$",
            "text/plain": [
              "Implies(y, x)"
            ]
          },
          "metadata": {
            "tags": []
          }
        }
      ]
    },
    {
      "cell_type": "code",
      "metadata": {
        "colab": {
          "base_uri": "https://localhost:8080/",
          "height": 37
        },
        "id": "ewLaY0vJlQFE",
        "outputId": "6f7e1a61-3908-4220-ed62-c56e86683190"
      },
      "source": [
        "(y & x).subs({x: True, y: True})"
      ],
      "execution_count": null,
      "outputs": [
        {
          "output_type": "execute_result",
          "data": {
            "text/latex": "$\\displaystyle \\text{True}$",
            "text/plain": [
              "True"
            ]
          },
          "metadata": {
            "tags": []
          },
          "execution_count": 8
        }
      ]
    },
    {
      "cell_type": "code",
      "metadata": {
        "colab": {
          "base_uri": "https://localhost:8080/"
        },
        "id": "IJqKESC4lbam",
        "outputId": "74fa09a8-d657-4b70-de53-f75d3fe99470"
      },
      "source": [
        "(x | y).atoms()"
      ],
      "execution_count": null,
      "outputs": [
        {
          "output_type": "execute_result",
          "data": {
            "text/plain": [
              "{x, y}"
            ]
          },
          "metadata": {
            "tags": []
          },
          "execution_count": 10
        }
      ]
    },
    {
      "cell_type": "code",
      "metadata": {
        "colab": {
          "base_uri": "https://localhost:8080/",
          "height": 38
        },
        "id": "9O5ReoMhnCmg",
        "outputId": "b8870469-8f54-49be-f9ee-36149dbf2298"
      },
      "source": [
        "# SOPform\n",
        "minterms = [[0, 0, 0, 1], [0, 0, 1, 1],\n",
        "            [0, 1, 1, 1], [1, 0, 1, 1], [1, 1, 1, 1]]\n",
        "dontcares = [[0, 0, 0, 0], [0, 0, 1, 0], [0, 1, 0, 1]]\n",
        "SOPform([w, x, y, z], minterms, dontcares)"
      ],
      "execution_count": null,
      "outputs": [
        {
          "output_type": "execute_result",
          "data": {
            "text/latex": "$\\displaystyle \\left(y \\wedge z\\right) \\vee \\left(z \\wedge \\neg w\\right)$",
            "text/plain": [
              "(y & z) | (z & ~w)"
            ]
          },
          "metadata": {
            "tags": []
          },
          "execution_count": 11
        }
      ]
    },
    {
      "cell_type": "code",
      "metadata": {
        "colab": {
          "base_uri": "https://localhost:8080/",
          "height": 38
        },
        "id": "UvjgsCSOnlf8",
        "outputId": "b74fba91-fe15-47db-b4e8-7ba32b0aedfc"
      },
      "source": [
        "# 整数で示すことができる\n",
        "minterms = [1,3,7,11,15]\n",
        "dontcares = {0,2,5}\n",
        "SOPform([w, x, y, z], minterms, dontcares)"
      ],
      "execution_count": null,
      "outputs": [
        {
          "output_type": "execute_result",
          "data": {
            "text/latex": "$\\displaystyle \\left(y \\wedge z\\right) \\vee \\left(z \\wedge \\neg w\\right)$",
            "text/plain": [
              "(y & z) | (z & ~w)"
            ]
          },
          "metadata": {
            "tags": []
          },
          "execution_count": 12
        }
      ]
    },
    {
      "cell_type": "code",
      "metadata": {
        "id": "j_n7x40o-KTA",
        "colab": {
          "base_uri": "https://localhost:8080/",
          "height": 38
        },
        "outputId": "6b6385ff-442a-451a-a45b-40547a3792b3"
      },
      "source": [
        "# 辞書で示すことができる\n",
        "minterms = [{w:0,x:1},{y:1,z:1,x:0}]\n",
        "SOPform([w, x, y, z], minterms)"
      ],
      "execution_count": null,
      "outputs": [
        {
          "output_type": "execute_result",
          "data": {
            "text/latex": "$\\displaystyle \\left(x \\wedge \\neg w\\right) \\vee \\left(y \\wedge z \\wedge \\neg x\\right)$",
            "text/plain": [
              "(x & ~w) | (y & z & ~x)"
            ]
          },
          "metadata": {
            "tags": []
          },
          "execution_count": 13
        }
      ]
    },
    {
      "cell_type": "code",
      "metadata": {
        "id": "7RBJfqFI-maA",
        "colab": {
          "base_uri": "https://localhost:8080/",
          "height": 38
        },
        "outputId": "1b503129-28cf-47af-c92f-930749517a94"
      },
      "source": [
        "# 混ぜて使うこともできる\n",
        "minterms = [4,7,11,[1,1,1,1]]\n",
        "dontcares =[{w:0,x:0,y:0},5]\n",
        "SOPform([w,x,y,z],minterms,dontcares)"
      ],
      "execution_count": null,
      "outputs": [
        {
          "output_type": "execute_result",
          "data": {
            "text/latex": "$\\displaystyle \\left(\\neg w \\wedge \\neg y\\right) \\vee \\left(w \\wedge y \\wedge z\\right) \\vee \\left(x \\wedge y \\wedge z\\right)$",
            "text/plain": [
              "(w & y & z) | (x & y & z) | (~w & ~y)"
            ]
          },
          "metadata": {
            "tags": []
          },
          "execution_count": 14
        }
      ]
    },
    {
      "cell_type": "code",
      "metadata": {
        "id": "lFIV36cCA1sp",
        "colab": {
          "base_uri": "https://localhost:8080/",
          "height": 38
        },
        "outputId": "5bbc0968-06dc-45b6-e96b-32b700769846"
      },
      "source": [
        "# POSform\n",
        "minterms = [[0, 0, 0, 1], [0, 0, 1, 1],\n",
        "            [0, 1, 1, 1], [1, 0, 1, 1], [1, 1, 1, 1]]\n",
        "dontcares = [[0, 0, 0, 0], [0, 0, 1, 0], [0, 1, 0, 1]]\n",
        "POSform([w, x, y, z], minterms, dontcares)"
      ],
      "execution_count": null,
      "outputs": [
        {
          "output_type": "execute_result",
          "data": {
            "text/latex": "$\\displaystyle z \\wedge \\left(y \\vee \\neg w\\right)$",
            "text/plain": [
              "z & (y | ~w)"
            ]
          },
          "metadata": {
            "tags": []
          },
          "execution_count": 16
        }
      ]
    },
    {
      "cell_type": "code",
      "metadata": {
        "id": "fmnp1rxrBALG",
        "colab": {
          "base_uri": "https://localhost:8080/",
          "height": 38
        },
        "outputId": "b95a1617-018c-4026-b9cb-efed1e844068"
      },
      "source": [
        "# 整数で示すことができる\n",
        "minterms = [1,3,7,11,15]\n",
        "dontcares = {0,2,5}\n",
        "POSform([w, x, y, z], minterms, dontcares)"
      ],
      "execution_count": null,
      "outputs": [
        {
          "output_type": "execute_result",
          "data": {
            "text/latex": "$\\displaystyle z \\wedge \\left(y \\vee \\neg w\\right)$",
            "text/plain": [
              "z & (y | ~w)"
            ]
          },
          "metadata": {
            "tags": []
          },
          "execution_count": 17
        }
      ]
    },
    {
      "cell_type": "code",
      "metadata": {
        "id": "K2GcZwUVBI2Q",
        "colab": {
          "base_uri": "https://localhost:8080/",
          "height": 38
        },
        "outputId": "3d558190-162e-436d-b407-fb35914bcc25"
      },
      "source": [
        "# 辞書で示すことができる\n",
        "minterms = [{w:0,x:1},{y:1,z:1,x:0}]\n",
        "POSform([w, x, y, z], minterms)"
      ],
      "execution_count": null,
      "outputs": [
        {
          "output_type": "execute_result",
          "data": {
            "text/latex": "$\\displaystyle \\left(x \\vee y\\right) \\wedge \\left(x \\vee z\\right) \\wedge \\left(\\neg w \\vee \\neg x\\right)$",
            "text/plain": [
              "(x | y) & (x | z) & (~w | ~x)"
            ]
          },
          "metadata": {
            "tags": []
          },
          "execution_count": 18
        }
      ]
    },
    {
      "cell_type": "code",
      "metadata": {
        "id": "uZE1wegvBQhz",
        "colab": {
          "base_uri": "https://localhost:8080/",
          "height": 38
        },
        "outputId": "b2f8acfe-10d4-4f31-e046-26d251128966"
      },
      "source": [
        "# 混ぜて使うこともできる\n",
        "minterms = [4,7,11,[1,1,1,1]]\n",
        "dontcares =[{w:0,x:0,y:0},5]\n",
        "POSform([w,x,y,z],minterms,dontcares)"
      ],
      "execution_count": null,
      "outputs": [
        {
          "output_type": "execute_result",
          "data": {
            "text/latex": "$\\displaystyle \\left(w \\vee x\\right) \\wedge \\left(y \\vee \\neg w\\right) \\wedge \\left(z \\vee \\neg y\\right)$",
            "text/plain": [
              "(w | x) & (y | ~w) & (z | ~y)"
            ]
          },
          "metadata": {
            "tags": []
          },
          "execution_count": 20
        }
      ]
    },
    {
      "cell_type": "code",
      "metadata": {
        "id": "l2DYPgBICIme",
        "colab": {
          "base_uri": "https://localhost:8080/",
          "height": 110
        },
        "outputId": "76becc5f-9ddf-4c5d-cbaf-35e54f995a7a"
      },
      "source": [
        "from sympy import sympify, true, false, Or\n",
        "display(sympify(True))\n",
        "display((_ is True, _ is true))\n",
        "display(Or(true,false))\n",
        "display(_ is true)\n",
        "display((true >> true, True >> True))"
      ],
      "execution_count": null,
      "outputs": [
        {
          "output_type": "display_data",
          "data": {
            "text/latex": "$\\displaystyle \\text{True}$",
            "text/plain": [
              "True"
            ]
          },
          "metadata": {
            "tags": []
          }
        },
        {
          "output_type": "display_data",
          "data": {
            "text/plain": [
              "(False, False)"
            ]
          },
          "metadata": {
            "tags": []
          }
        },
        {
          "output_type": "display_data",
          "data": {
            "text/latex": "$\\displaystyle \\text{True}$",
            "text/plain": [
              "True"
            ]
          },
          "metadata": {
            "tags": []
          }
        },
        {
          "output_type": "display_data",
          "data": {
            "text/plain": [
              "False"
            ]
          },
          "metadata": {
            "tags": []
          }
        },
        {
          "output_type": "display_data",
          "data": {
            "text/plain": [
              "(True, 0)"
            ]
          },
          "metadata": {
            "tags": []
          }
        }
      ]
    },
    {
      "cell_type": "code",
      "metadata": {
        "id": "E21s9cJ9DDZx",
        "colab": {
          "base_uri": "https://localhost:8080/",
          "height": 38
        },
        "outputId": "23595739-12d1-4566-b0b2-288b03aa3c35"
      },
      "source": [
        "display(true.as_set()) #=> U, UniversalSet"
      ],
      "execution_count": null,
      "outputs": [
        {
          "output_type": "display_data",
          "data": {
            "text/latex": "$\\displaystyle \\mathbb{U}$",
            "text/plain": [
              "UniversalSet"
            ]
          },
          "metadata": {
            "tags": []
          }
        }
      ]
    },
    {
      "cell_type": "code",
      "metadata": {
        "id": "vNVwH1f9DNA4",
        "colab": {
          "base_uri": "https://localhost:8080/",
          "height": 127
        },
        "outputId": "b449d2ec-c149-4745-ede5-ad72a5600ab6"
      },
      "source": [
        "from sympy import sympify, true, false, Or\n",
        "display(sympify(False))\n",
        "display((_ is False, _ is false))\n",
        "display(Or(true,false))\n",
        "display(_ is true)\n",
        "display((~false, ~False))\n",
        "display((false >> false, False >> False))"
      ],
      "execution_count": null,
      "outputs": [
        {
          "output_type": "display_data",
          "data": {
            "text/latex": "$\\displaystyle \\text{False}$",
            "text/plain": [
              "False"
            ]
          },
          "metadata": {
            "tags": []
          }
        },
        {
          "output_type": "display_data",
          "data": {
            "text/plain": [
              "(False, False)"
            ]
          },
          "metadata": {
            "tags": []
          }
        },
        {
          "output_type": "display_data",
          "data": {
            "text/latex": "$\\displaystyle \\text{True}$",
            "text/plain": [
              "True"
            ]
          },
          "metadata": {
            "tags": []
          }
        },
        {
          "output_type": "display_data",
          "data": {
            "text/plain": [
              "False"
            ]
          },
          "metadata": {
            "tags": []
          }
        },
        {
          "output_type": "display_data",
          "data": {
            "text/plain": [
              "(True, -1)"
            ]
          },
          "metadata": {
            "tags": []
          }
        },
        {
          "output_type": "display_data",
          "data": {
            "text/plain": [
              "(True, 0)"
            ]
          },
          "metadata": {
            "tags": []
          }
        }
      ]
    },
    {
      "cell_type": "code",
      "metadata": {
        "id": "-iA4DJVqEJGc",
        "colab": {
          "base_uri": "https://localhost:8080/",
          "height": 37
        },
        "outputId": "d405745e-6349-4d79-ae18-2f7cb0466c2a"
      },
      "source": [
        "false.as_set() #=> EmptySet"
      ],
      "execution_count": null,
      "outputs": [
        {
          "output_type": "execute_result",
          "data": {
            "text/latex": "$\\displaystyle \\emptyset$",
            "text/plain": [
              "EmptySet"
            ]
          },
          "metadata": {
            "tags": []
          },
          "execution_count": 40
        }
      ]
    },
    {
      "cell_type": "code",
      "metadata": {
        "id": "ZpG14g_gEShR",
        "colab": {
          "base_uri": "https://localhost:8080/",
          "height": 226
        },
        "outputId": "a6a270b0-941f-493d-aea5-90cda7d11dbb"
      },
      "source": [
        "display(x & y)\n",
        "display(And(x,y).subs(x,1))\n",
        "display(x | y)\n",
        "display(Or(x,y).subs(x,0))\n",
        "display(Not(True))\n",
        "display(Not(False))\n",
        "display(And(True,False))\n",
        "display(Or(True,False))\n",
        "display(Not(And(And(True,x), Or(x,False))))\n",
        "display(Not(And(Or(A,B), Or(Not(A), Not(B)))))\n",
        "\n"
      ],
      "execution_count": null,
      "outputs": [
        {
          "output_type": "display_data",
          "data": {
            "text/latex": "$\\displaystyle x \\wedge y$",
            "text/plain": [
              "x & y"
            ]
          },
          "metadata": {
            "tags": []
          }
        },
        {
          "output_type": "display_data",
          "data": {
            "text/latex": "$\\displaystyle y$",
            "text/plain": [
              "y"
            ]
          },
          "metadata": {
            "tags": []
          }
        },
        {
          "output_type": "display_data",
          "data": {
            "text/latex": "$\\displaystyle x \\vee y$",
            "text/plain": [
              "x | y"
            ]
          },
          "metadata": {
            "tags": []
          }
        },
        {
          "output_type": "display_data",
          "data": {
            "text/latex": "$\\displaystyle y$",
            "text/plain": [
              "y"
            ]
          },
          "metadata": {
            "tags": []
          }
        },
        {
          "output_type": "display_data",
          "data": {
            "text/latex": "$\\displaystyle \\text{False}$",
            "text/plain": [
              "False"
            ]
          },
          "metadata": {
            "tags": []
          }
        },
        {
          "output_type": "display_data",
          "data": {
            "text/latex": "$\\displaystyle \\text{True}$",
            "text/plain": [
              "True"
            ]
          },
          "metadata": {
            "tags": []
          }
        },
        {
          "output_type": "display_data",
          "data": {
            "text/latex": "$\\displaystyle \\text{False}$",
            "text/plain": [
              "False"
            ]
          },
          "metadata": {
            "tags": []
          }
        },
        {
          "output_type": "display_data",
          "data": {
            "text/latex": "$\\displaystyle \\text{True}$",
            "text/plain": [
              "True"
            ]
          },
          "metadata": {
            "tags": []
          }
        },
        {
          "output_type": "display_data",
          "data": {
            "text/latex": "$\\displaystyle \\neg x$",
            "text/plain": [
              "~x"
            ]
          },
          "metadata": {
            "tags": []
          }
        },
        {
          "output_type": "display_data",
          "data": {
            "text/latex": "$\\displaystyle \\neg \\left(\\left(A \\vee B\\right) \\wedge \\left(\\neg A \\vee \\neg B\\right)\\right)$",
            "text/plain": [
              "~((A | B) & (~A | ~B))"
            ]
          },
          "metadata": {
            "tags": []
          }
        }
      ]
    },
    {
      "cell_type": "code",
      "metadata": {
        "id": "RkLkm8UdFkM7",
        "colab": {
          "base_uri": "https://localhost:8080/",
          "height": 54
        },
        "outputId": "832865d6-d535-4769-d81b-bae33c77487e"
      },
      "source": [
        "display(~True)\n",
        "display(~true)"
      ],
      "execution_count": null,
      "outputs": [
        {
          "output_type": "display_data",
          "data": {
            "text/plain": [
              "-2"
            ]
          },
          "metadata": {
            "tags": []
          }
        },
        {
          "output_type": "display_data",
          "data": {
            "text/latex": "$\\displaystyle \\text{False}$",
            "text/plain": [
              "False"
            ]
          },
          "metadata": {
            "tags": []
          }
        }
      ]
    },
    {
      "cell_type": "code",
      "metadata": {
        "id": "VSuaBehbFsF-",
        "colab": {
          "base_uri": "https://localhost:8080/",
          "height": 118
        },
        "outputId": "c5f1f368-ccf1-4836-eb7b-f2a035df3e6e"
      },
      "source": [
        "display(Xor(True,False))\n",
        "display(Xor(True,True))\n",
        "display(Xor(True,False,True,True,False)) #=> True の数が奇数だと Truelay(Xor(True,False))\n",
        "display(Xor(True,True))\n",
        "display(Xor(True,False,True,True,False)) #=> True の数が奇数だと True\n",
        "display(Xor(True,False,True,False))\n",
        "display(x ^ y)"
      ],
      "execution_count": null,
      "outputs": [
        {
          "output_type": "display_data",
          "data": {
            "text/latex": "$\\displaystyle \\text{True}$",
            "text/plain": [
              "True"
            ]
          },
          "metadata": {
            "tags": []
          }
        },
        {
          "output_type": "display_data",
          "data": {
            "text/latex": "$\\displaystyle \\text{False}$",
            "text/plain": [
              "False"
            ]
          },
          "metadata": {
            "tags": []
          }
        },
        {
          "output_type": "display_data",
          "data": {
            "text/latex": "$\\displaystyle \\text{True}$",
            "text/plain": [
              "True"
            ]
          },
          "metadata": {
            "tags": []
          }
        },
        {
          "output_type": "display_data",
          "data": {
            "text/latex": "$\\displaystyle \\text{False}$",
            "text/plain": [
              "False"
            ]
          },
          "metadata": {
            "tags": []
          }
        },
        {
          "output_type": "display_data",
          "data": {
            "text/latex": "$\\displaystyle x \\veebar y$",
            "text/plain": [
              "x ^ y"
            ]
          },
          "metadata": {
            "tags": []
          }
        }
      ]
    },
    {
      "cell_type": "code",
      "metadata": {
        "id": "sraw-Z0oGsGV",
        "colab": {
          "base_uri": "https://localhost:8080/",
          "height": 38
        },
        "outputId": "6bdb35cf-982f-4c08-e943-5465630a28bb"
      },
      "source": [
        "Xor(x,y).subs(y,0)"
      ],
      "execution_count": null,
      "outputs": [
        {
          "output_type": "execute_result",
          "data": {
            "text/latex": "$\\displaystyle x$",
            "text/plain": [
              "x"
            ]
          },
          "metadata": {
            "tags": []
          },
          "execution_count": 54
        }
      ]
    },
    {
      "cell_type": "code",
      "metadata": {
        "id": "XACklUBRGycu",
        "colab": {
          "base_uri": "https://localhost:8080/",
          "height": 78
        },
        "outputId": "d7b36874-93ad-4883-bf93-7a1643a06c6a"
      },
      "source": [
        "# Nand は頭から評価していって、False があれば即座に True、最後までFalseがなければ False\n",
        "# その結果、False がひとつでもあれば True, なければ False になる\n",
        "display(Nand(False,True))\n",
        "display(Nand(True,True))\n",
        "display(Nand(x,y))"
      ],
      "execution_count": null,
      "outputs": [
        {
          "output_type": "display_data",
          "data": {
            "text/latex": "$\\displaystyle \\text{True}$",
            "text/plain": [
              "True"
            ]
          },
          "metadata": {
            "tags": []
          }
        },
        {
          "output_type": "display_data",
          "data": {
            "text/latex": "$\\displaystyle \\text{False}$",
            "text/plain": [
              "False"
            ]
          },
          "metadata": {
            "tags": []
          }
        },
        {
          "output_type": "display_data",
          "data": {
            "text/latex": "$\\displaystyle \\neg \\left(x \\wedge y\\right)$",
            "text/plain": [
              "~(x & y)"
            ]
          },
          "metadata": {
            "tags": []
          }
        }
      ]
    },
    {
      "cell_type": "code",
      "metadata": {
        "id": "Vtj1zwKpHze5",
        "colab": {
          "base_uri": "https://localhost:8080/",
          "height": 98
        },
        "outputId": "9d393e16-84f1-4d14-ccd6-796bfc6ecb3a"
      },
      "source": [
        "# Nor は頭から評価していって、True があれば即座に False、最後までTrueなければ True\n",
        "# その結果、True がひとつでもあれば Fale, なければ True になる\n",
        "display(Nor(False,True))\n",
        "display(Nor(True,True))\n",
        "display(Nor(False,False))\n",
        "display(Nor(x,y))"
      ],
      "execution_count": null,
      "outputs": [
        {
          "output_type": "display_data",
          "data": {
            "text/latex": "$\\displaystyle \\text{False}$",
            "text/plain": [
              "False"
            ]
          },
          "metadata": {
            "tags": []
          }
        },
        {
          "output_type": "display_data",
          "data": {
            "text/latex": "$\\displaystyle \\text{False}$",
            "text/plain": [
              "False"
            ]
          },
          "metadata": {
            "tags": []
          }
        },
        {
          "output_type": "display_data",
          "data": {
            "text/latex": "$\\displaystyle \\text{True}$",
            "text/plain": [
              "True"
            ]
          },
          "metadata": {
            "tags": []
          }
        },
        {
          "output_type": "display_data",
          "data": {
            "text/latex": "$\\displaystyle \\neg \\left(x \\vee y\\right)$",
            "text/plain": [
              "~(x | y)"
            ]
          },
          "metadata": {
            "tags": []
          }
        }
      ]
    },
    {
      "cell_type": "code",
      "metadata": {
        "id": "gUX6hdi-Li_y",
        "colab": {
          "base_uri": "https://localhost:8080/",
          "height": 141
        },
        "outputId": "b5ea5d25-6233-4677-fd0c-972b0c33ce96"
      },
      "source": [
        "# Implies は A が True で B が False のときのみ False を返し、それ以外では True である\n",
        "from sympy.abc import *\n",
        "from sympy import *\n",
        "display(Implies(True, False))\n",
        "display(Implies(False, False))\n",
        "display(Implies(True, True))\n",
        "display(Implies(False, True))\n",
        "display(x >> y)\n",
        "display(y << x)\n"
      ],
      "execution_count": null,
      "outputs": [
        {
          "output_type": "display_data",
          "data": {
            "text/latex": "$\\displaystyle \\text{False}$",
            "text/plain": [
              "False"
            ]
          },
          "metadata": {
            "tags": []
          }
        },
        {
          "output_type": "display_data",
          "data": {
            "text/latex": "$\\displaystyle \\text{True}$",
            "text/plain": [
              "True"
            ]
          },
          "metadata": {
            "tags": []
          }
        },
        {
          "output_type": "display_data",
          "data": {
            "text/latex": "$\\displaystyle \\text{True}$",
            "text/plain": [
              "True"
            ]
          },
          "metadata": {
            "tags": []
          }
        },
        {
          "output_type": "display_data",
          "data": {
            "text/latex": "$\\displaystyle \\text{True}$",
            "text/plain": [
              "True"
            ]
          },
          "metadata": {
            "tags": []
          }
        },
        {
          "output_type": "display_data",
          "data": {
            "text/latex": "$\\displaystyle x \\Rightarrow y$",
            "text/plain": [
              "Implies(x, y)"
            ]
          },
          "metadata": {
            "tags": []
          }
        },
        {
          "output_type": "display_data",
          "data": {
            "text/latex": "$\\displaystyle x \\Rightarrow y$",
            "text/plain": [
              "Implies(x, y)"
            ]
          },
          "metadata": {
            "tags": []
          }
        }
      ]
    },
    {
      "cell_type": "code",
      "metadata": {
        "colab": {
          "base_uri": "https://localhost:8080/",
          "height": 55
        },
        "id": "7g0OcHwsiS1O",
        "outputId": "1d63383a-05f6-47a8-fcf9-256ae34ad1cd"
      },
      "source": [
        "display(True >> False)\n",
        "display(true >> false)\n"
      ],
      "execution_count": null,
      "outputs": [
        {
          "output_type": "display_data",
          "data": {
            "text/plain": [
              "1"
            ]
          },
          "metadata": {
            "tags": []
          }
        },
        {
          "output_type": "display_data",
          "data": {
            "text/latex": "$\\displaystyle \\text{False}$",
            "text/plain": [
              "False"
            ]
          },
          "metadata": {
            "tags": []
          }
        }
      ]
    },
    {
      "cell_type": "code",
      "metadata": {
        "colab": {
          "base_uri": "https://localhost:8080/",
          "height": 37
        },
        "id": "LhX12eNoidvK",
        "outputId": "a32a5606-e3a3-40ac-f14c-ec60b0cafd6e"
      },
      "source": [
        "# Equivalent は A と B の両方が True または False のときに True\n",
        "# Equivalent is True iff A and B are both True or both False\n",
        "from sympy.abc import *\n",
        "from sympy import *\n",
        "Equivalent (False, False, False)\n",
        "Equivalent (True, False, False)\n",
        "Equivalent (x, And(x, True)) #=> なるほど!!!!"
      ],
      "execution_count": null,
      "outputs": [
        {
          "output_type": "execute_result",
          "data": {
            "text/latex": "$\\displaystyle \\text{True}$",
            "text/plain": [
              "True"
            ]
          },
          "metadata": {
            "tags": []
          },
          "execution_count": 1
        }
      ]
    },
    {
      "cell_type": "code",
      "metadata": {
        "id": "JlEtVVRI-Dxb",
        "colab": {
          "base_uri": "https://localhost:8080/",
          "height": 145
        },
        "outputId": "93e47ee7-bddc-4e75-a6aa-6d56849ae8f5"
      },
      "source": [
        "# ITE if then else clause\n",
        "# A が真なら B の結果、偽なら C の結果を返す\n",
        "display(ITE(True, False, True))\n",
        "display(ITE(Or(True,False),And(True,True),Xor(True,True)))\n",
        "display(ITE(x,y,z))\n",
        "display(ITE(True, x, y))\n",
        "display(ITE(False, x, y))\n",
        "display(ITE(x,y,y))\n"
      ],
      "execution_count": null,
      "outputs": [
        {
          "output_type": "display_data",
          "data": {
            "text/latex": "$\\displaystyle \\text{False}$",
            "text/plain": [
              "False"
            ]
          },
          "metadata": {
            "tags": []
          }
        },
        {
          "output_type": "display_data",
          "data": {
            "text/latex": "$\\displaystyle \\text{True}$",
            "text/plain": [
              "True"
            ]
          },
          "metadata": {
            "tags": []
          }
        },
        {
          "output_type": "display_data",
          "data": {
            "text/latex": "$\\displaystyle ITE\\left(x, y, z\\right)$",
            "text/plain": [
              "ITE(x, y, z)"
            ]
          },
          "metadata": {
            "tags": []
          }
        },
        {
          "output_type": "display_data",
          "data": {
            "text/latex": "$\\displaystyle x$",
            "text/plain": [
              "x"
            ]
          },
          "metadata": {
            "tags": []
          }
        },
        {
          "output_type": "display_data",
          "data": {
            "text/latex": "$\\displaystyle y$",
            "text/plain": [
              "y"
            ]
          },
          "metadata": {
            "tags": []
          }
        },
        {
          "output_type": "display_data",
          "data": {
            "text/latex": "$\\displaystyle y$",
            "text/plain": [
              "y"
            ]
          },
          "metadata": {
            "tags": []
          }
        }
      ]
    },
    {
      "cell_type": "code",
      "metadata": {
        "id": "BoNoHoeN_MLq"
      },
      "source": [
        "# ITE は if then else と言っても引数に bool 値以外はエラー\n",
        "# display(ITE(True, [],())) #=> TypeError"
      ],
      "execution_count": null,
      "outputs": []
    },
    {
      "cell_type": "code",
      "metadata": {
        "id": "uDLTnrkp_wJR",
        "colab": {
          "base_uri": "https://localhost:8080/",
          "height": 83
        },
        "outputId": "3bcf9706-ad19-481a-9b8c-4aa0c284958d"
      },
      "source": [
        "# to_cnf(expr, simplify=False, force=False)\n",
        "# Convert a propositional logical sentence s to \n",
        "# conjunctive normal form: ((A | ~B | …) & (B | C | …) & …). \n",
        "from sympy.abc import *\n",
        "from sympy import *\n",
        "display(to_cnf(~(A|B)|D))\n",
        "display(to_cnf((A|B)&(A|~A)))\n",
        "display(to_cnf((A|B)&(A|~A),True))\n"
      ],
      "execution_count": null,
      "outputs": [
        {
          "output_type": "display_data",
          "data": {
            "text/latex": "$\\displaystyle \\left(D \\vee \\neg A\\right) \\wedge \\left(D \\vee \\neg B\\right)$",
            "text/plain": [
              "(D | ~A) & (D | ~B)"
            ]
          },
          "metadata": {
            "tags": []
          }
        },
        {
          "output_type": "display_data",
          "data": {
            "text/latex": "$\\displaystyle \\left(A \\vee B\\right) \\wedge \\left(A \\vee \\neg A\\right)$",
            "text/plain": [
              "(A | B) & (A | ~A)"
            ]
          },
          "metadata": {
            "tags": []
          }
        },
        {
          "output_type": "display_data",
          "data": {
            "text/latex": "$\\displaystyle A \\vee B$",
            "text/plain": [
              "A | B"
            ]
          },
          "metadata": {
            "tags": []
          }
        }
      ]
    },
    {
      "cell_type": "code",
      "metadata": {
        "id": "DJSwbA8wPgNL",
        "colab": {
          "base_uri": "https://localhost:8080/",
          "height": 83
        },
        "outputId": "16685291-2d20-4c23-88fe-9dcd0ce88050"
      },
      "source": [
        "# to_dnf(expr, simplify=False, force=False)\n",
        "# Convert a propositional logical sentence s to \n",
        "# disjunctive normal form: ((A & ~B & …) | (B & C & …) | …).\n",
        "from sympy.abc import *\n",
        "from sympy import *\n",
        "from sympy.abc import C\n",
        "display(to_dnf(B & (A | C)))\n",
        "display(to_dnf((A&B)|(A&~B)|(B&C)|(~B&C)))\n",
        "display(to_dnf((A&B)|(A&~B)|(B&C)|(~B&C),True))"
      ],
      "execution_count": null,
      "outputs": [
        {
          "output_type": "display_data",
          "data": {
            "text/latex": "$\\displaystyle \\left(A \\wedge B\\right) \\vee \\left(B \\wedge C\\right)$",
            "text/plain": [
              "(A & B) | (B & C)"
            ]
          },
          "metadata": {
            "tags": []
          }
        },
        {
          "output_type": "display_data",
          "data": {
            "text/latex": "$\\displaystyle \\left(A \\wedge B\\right) \\vee \\left(A \\wedge \\neg B\\right) \\vee \\left(B \\wedge C\\right) \\vee \\left(C \\wedge \\neg B\\right)$",
            "text/plain": [
              "(A & B) | (B & C) | (A & ~B) | (C & ~B)"
            ]
          },
          "metadata": {
            "tags": []
          }
        },
        {
          "output_type": "display_data",
          "data": {
            "text/latex": "$\\displaystyle A \\vee C$",
            "text/plain": [
              "A | C"
            ]
          },
          "metadata": {
            "tags": []
          }
        }
      ]
    },
    {
      "cell_type": "code",
      "metadata": {
        "id": "aL0wL4x4SvHF",
        "colab": {
          "base_uri": "https://localhost:8080/",
          "height": 72
        },
        "outputId": "a6e0e173-0d22-4a44-8abb-583181248c59"
      },
      "source": [
        "from sympy.abc import *\n",
        "from sympy import *\n",
        "from sympy.abc import C\n",
        "from sympy.logic.boolalg import is_cnf\n",
        "display(is_cnf(A|B|C))\n",
        "display(is_cnf(A&B&C))\n",
        "display(is_cnf((A&B)|C))"
      ],
      "execution_count": null,
      "outputs": [
        {
          "output_type": "display_data",
          "data": {
            "text/plain": [
              "True"
            ]
          },
          "metadata": {
            "tags": []
          }
        },
        {
          "output_type": "display_data",
          "data": {
            "text/plain": [
              "True"
            ]
          },
          "metadata": {
            "tags": []
          }
        },
        {
          "output_type": "display_data",
          "data": {
            "text/plain": [
              "False"
            ]
          },
          "metadata": {
            "tags": []
          }
        }
      ]
    },
    {
      "cell_type": "code",
      "metadata": {
        "id": "BACLXUDBUlyi",
        "colab": {
          "base_uri": "https://localhost:8080/",
          "height": 90
        },
        "outputId": "b2b39918-01bf-421e-ad02-12996dee9715"
      },
      "source": [
        "from sympy.abc import *\n",
        "from sympy import *\n",
        "from sympy.abc import C\n",
        "from sympy.logic.boolalg import is_dnf\n",
        "display(is_dnf(A|B|C))\n",
        "display(is_dnf(A&B&C))\n",
        "display(is_dnf((A&B)|C))\n",
        "display(is_dnf(A&(B|C)))"
      ],
      "execution_count": null,
      "outputs": [
        {
          "output_type": "display_data",
          "data": {
            "text/plain": [
              "True"
            ]
          },
          "metadata": {
            "tags": []
          }
        },
        {
          "output_type": "display_data",
          "data": {
            "text/plain": [
              "True"
            ]
          },
          "metadata": {
            "tags": []
          }
        },
        {
          "output_type": "display_data",
          "data": {
            "text/plain": [
              "True"
            ]
          },
          "metadata": {
            "tags": []
          }
        },
        {
          "output_type": "display_data",
          "data": {
            "text/plain": [
              "False"
            ]
          },
          "metadata": {
            "tags": []
          }
        }
      ]
    },
    {
      "cell_type": "code",
      "metadata": {
        "id": "60gLJt8iU1RW",
        "colab": {
          "base_uri": "https://localhost:8080/",
          "height": 126
        },
        "outputId": "f09d1857-b0a8-45e3-8aee-84754c5e53a7"
      },
      "source": [
        "# simplify_logic(expr,form=None,deep=True,force=False)\n",
        "from sympy.abc import *\n",
        "from sympy import *\n",
        "b=(~x&~y&~z) | (~x&~y& z)\n",
        "display(b)\n",
        "display(simplify_logic(b))\n",
        "display(S(b)) #=> SingletonRegistry\n",
        "display(simplify_logic(S(b)))"
      ],
      "execution_count": null,
      "outputs": [
        {
          "output_type": "display_data",
          "data": {
            "text/latex": "$\\displaystyle \\left(z \\wedge \\neg x \\wedge \\neg y\\right) \\vee \\left(\\neg x \\wedge \\neg y \\wedge \\neg z\\right)$",
            "text/plain": [
              "(z & ~x & ~y) | (~x & ~y & ~z)"
            ]
          },
          "metadata": {
            "tags": []
          }
        },
        {
          "output_type": "display_data",
          "data": {
            "text/latex": "$\\displaystyle \\neg x \\wedge \\neg y$",
            "text/plain": [
              "~x & ~y"
            ]
          },
          "metadata": {
            "tags": []
          }
        },
        {
          "output_type": "display_data",
          "data": {
            "text/latex": "$\\displaystyle \\left(z \\wedge \\neg x \\wedge \\neg y\\right) \\vee \\left(\\neg x \\wedge \\neg y \\wedge \\neg z\\right)$",
            "text/plain": [
              "(z & ~x & ~y) | (~x & ~y & ~z)"
            ]
          },
          "metadata": {
            "tags": []
          }
        },
        {
          "output_type": "display_data",
          "data": {
            "text/latex": "$\\displaystyle \\neg x \\wedge \\neg y$",
            "text/plain": [
              "~x & ~y"
            ]
          },
          "metadata": {
            "tags": []
          }
        },
        {
          "output_type": "display_data",
          "data": {
            "text/latex": "$\\displaystyle B \\wedge \\left(A \\vee C\\right)$",
            "text/plain": [
              "B & (A | C)"
            ]
          },
          "metadata": {
            "tags": []
          }
        }
      ]
    },
    {
      "cell_type": "code",
      "metadata": {
        "id": "r6Zzz-J3WHYY",
        "colab": {
          "base_uri": "https://localhost:8080/",
          "height": 35
        },
        "outputId": "3bd71445-871b-4940-d551-0f9a9d98b91e"
      },
      "source": [
        "# bool_map(bool1, bool2)\n",
        "from sympy.abc import *\n",
        "from sympy import *\n",
        "function1 = SOPform([x, z, y],[[1, 0, 1], [0, 0, 1]])\n",
        "function2 = SOPform([a, b, c],[[1, 0, 1], [1, 0, 0]])\n",
        "display(bool_map(function1, function2))"
      ],
      "execution_count": null,
      "outputs": [
        {
          "output_type": "display_data",
          "data": {
            "text/plain": [
              "(y & ~z, {y: a, z: b})"
            ]
          },
          "metadata": {
            "tags": []
          }
        }
      ]
    },
    {
      "cell_type": "code",
      "metadata": {
        "id": "zbvqQhBCXQ05",
        "colab": {
          "base_uri": "https://localhost:8080/",
          "height": 54
        },
        "outputId": "ee0177f1-aaaf-428a-c3d1-acd9a2b33b2d"
      },
      "source": [
        "eq =  Or(And(Not(y), w), And(Not(y), z), And(x, y))\n",
        "eq2 = Or(And(Not(c), a), And(Not(c), d), And(b, c))\n",
        "display(bool_map(eq, eq2))\n",
        "eq = And(Xor(a, b), c, And(c,d))\n",
        "display(bool_map(eq, eq.subs(c, x)))"
      ],
      "execution_count": null,
      "outputs": [
        {
          "output_type": "display_data",
          "data": {
            "text/plain": [
              "((x & y) | (w & ~y) | (z & ~y), {w: a, x: b, y: c, z: d})"
            ]
          },
          "metadata": {
            "tags": []
          }
        },
        {
          "output_type": "display_data",
          "data": {
            "text/plain": [
              "(c & d & (a | b) & (~a | ~b), {a: a, b: b, c: d, d: x})"
            ]
          },
          "metadata": {
            "tags": []
          }
        }
      ]
    },
    {
      "cell_type": "code",
      "metadata": {
        "id": "ZqxjxvilX6dO",
        "colab": {
          "base_uri": "https://localhost:8080/",
          "height": 72
        },
        "outputId": "1a8ed506-6fea-4e90-d9d2-4bcfcfe8a1c8"
      },
      "source": [
        "# inference, satisfiable\n",
        "from sympy.abc import *\n",
        "from sympy import *\n",
        "display(satisfiable(x & ~x))\n",
        "display(satisfiable((x|y)&(x|~y)&(~x|y)))\n",
        "display(satisfiable(x))"
      ],
      "execution_count": null,
      "outputs": [
        {
          "output_type": "display_data",
          "data": {
            "text/plain": [
              "False"
            ]
          },
          "metadata": {
            "tags": []
          }
        },
        {
          "output_type": "display_data",
          "data": {
            "text/plain": [
              "{x: True, y: True}"
            ]
          },
          "metadata": {
            "tags": []
          }
        },
        {
          "output_type": "display_data",
          "data": {
            "text/plain": [
              "{x: True}"
            ]
          },
          "metadata": {
            "tags": []
          }
        }
      ]
    },
    {
      "cell_type": "code",
      "metadata": {
        "id": "xfsn2RcnYzSb",
        "colab": {
          "base_uri": "https://localhost:8080/",
          "height": 35
        },
        "outputId": "2b2265db-2096-4f08-fe20-a5b9cb3f8714"
      },
      "source": [
        "display(satisfiable(True))"
      ],
      "execution_count": null,
      "outputs": [
        {
          "output_type": "display_data",
          "data": {
            "text/plain": [
              "{True: True}"
            ]
          },
          "metadata": {
            "tags": []
          }
        }
      ]
    },
    {
      "cell_type": "code",
      "metadata": {
        "id": "Mf1SAFsIY6Jq",
        "colab": {
          "base_uri": "https://localhost:8080/",
          "height": 90
        },
        "outputId": "e8b9818f-5bf4-4169-b50d-afd1ef92dd82"
      },
      "source": [
        "display(next(satisfiable(A & ~A, all_models=True)))\n",
        "models=satisfiable((A >> B)&B, all_models=True)\n",
        "display(next(models))\n",
        "def use_models(models):\n",
        "    for model in models:\n",
        "        if model:\n",
        "            # do something with the model\n",
        "            print(model)\n",
        "        else:\n",
        "            # Given expr is unsatisfiable\n",
        "            print(\"UNSAT\")\n",
        "use_models(satisfiable(A>>~A,all_models=True))\n",
        "use_models(satisfiable(A^A,all_models=True))"
      ],
      "execution_count": null,
      "outputs": [
        {
          "output_type": "display_data",
          "data": {
            "text/plain": [
              "False"
            ]
          },
          "metadata": {
            "tags": []
          }
        },
        {
          "output_type": "display_data",
          "data": {
            "text/plain": [
              "{A: False, B: True}"
            ]
          },
          "metadata": {
            "tags": []
          }
        },
        {
          "output_type": "stream",
          "text": [
            "{A: False}\n",
            "UNSAT\n"
          ],
          "name": "stdout"
        }
      ]
    },
    {
      "cell_type": "markdown",
      "metadata": {
        "id": "2f4kSJFHypB_"
      },
      "source": [
        "# 逆"
      ]
    },
    {
      "cell_type": "code",
      "metadata": {
        "id": "3f_0FHsH08kZ"
      },
      "source": [
        ""
      ],
      "execution_count": null,
      "outputs": []
    },
    {
      "cell_type": "markdown",
      "metadata": {
        "id": "dfUvvbiJyq8x"
      },
      "source": [
        "論理式 $p \\Rightarrow q$ において、$p$ を仮定 hypothesis または前提 antecedent, premise 、 $q$ を結論 conclusion, consequent と言う。\n",
        "\n",
        "仮定と結論を入れ替えた $q \\Rightarrow p$ を $p \\Rightarrow q$ の逆 converse と言う。\n",
        "\n",
        "反例 counter example\n",
        "\n"
      ]
    },
    {
      "cell_type": "markdown",
      "metadata": {
        "id": "wgCUPY7Kzcxu"
      },
      "source": [
        "# 必要十分条件\n",
        "\n"
      ]
    },
    {
      "cell_type": "markdown",
      "metadata": {
        "id": "d7CQfOswVJEP"
      },
      "source": [
        "論理式 $p \\Rightarrow q$ が成り立つとき\n",
        "\n",
        "$q$ を $p$ (が成り立つため) の必要条件 necessary conclusion と言う。\n",
        "\n",
        "$p$ を $q$ (が成り立つため) の十分条件 sufficient conclusion と言う。\n"
      ]
    },
    {
      "cell_type": "markdown",
      "metadata": {
        "id": "lGUEYlLp0Tlx"
      },
      "source": [
        "恒真 トートロジー tautology\n",
        "\n",
        "恒偽 contradiction\n"
      ]
    },
    {
      "cell_type": "markdown",
      "metadata": {
        "id": "7skez3pX7m6f"
      },
      "source": [
        "# 充足可能性問題 satisfiable problem SAT\n",
        "\n",
        "ある論理式が真となるための各命題への真理値の割り当て方(組合せ)が少なくとも 1通りあるとき、すなわち恒真でない論理式を充足可能 sastifiable と言う。\n"
      ]
    },
    {
      "cell_type": "markdown",
      "metadata": {
        "id": "S9Czx4ixgRJw"
      },
      "source": [
        "# いまここ"
      ]
    },
    {
      "cell_type": "markdown",
      "metadata": {
        "id": "7NP_9jLpgTiq"
      },
      "source": [
        "# 最後"
      ]
    }
  ]
}