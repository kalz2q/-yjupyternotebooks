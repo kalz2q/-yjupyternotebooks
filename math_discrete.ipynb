{
  "nbformat": 4,
  "nbformat_minor": 0,
  "metadata": {
    "colab": {
      "name": "math_discrete.ipynb",
      "provenance": [],
      "authorship_tag": "ABX9TyOCkOOB7cj6wuLOnwP1jXn1",
      "include_colab_link": true
    },
    "kernelspec": {
      "name": "python3",
      "display_name": "Python 3"
    },
    "language_info": {
      "name": "python"
    }
  },
  "cells": [
    {
      "cell_type": "markdown",
      "metadata": {
        "id": "view-in-github",
        "colab_type": "text"
      },
      "source": [
        "<a href=\"https://colab.research.google.com/github/kalz2q/mycolabnotebooks/blob/master/math_discrete.ipynb\" target=\"_parent\"><img src=\"https://colab.research.google.com/assets/colab-badge.svg\" alt=\"Open In Colab\"/></a>"
      ]
    },
    {
      "cell_type": "markdown",
      "metadata": {
        "id": "0-1mVjx4wd2V"
      },
      "source": [
        "# メモ\n",
        "やさしく学べる離散数学  \n",
        "石村園子\n",
        "\n",
        "離散数学「ものを分ける理論」問題解決のアルゴリズムをつくる（ブルーバックス）  \n",
        "徳田雄洋"
      ]
    },
    {
      "cell_type": "code",
      "metadata": {
        "id": "WF2WXQgMxTCU"
      },
      "source": [
        ""
      ],
      "execution_count": null,
      "outputs": []
    },
    {
      "cell_type": "markdown",
      "metadata": {
        "id": "srVAQYT9xl0D"
      },
      "source": [
        "石村園子のは\n",
        "1. 集合と論理\n",
        "1. 関係と写像 => 有向グラフ、関係行列\n",
        "1. 代数系 => 2項演算、半群と群、環と体\n",
        "1. 重所集合と束\n",
        "1. グラフ => ツリー、オイラーグラフ、ハミルトングラフ、有限オートマトン\n",
        "\n",
        "ブルーバックス 徳田雄洋たけひろ のは\n",
        "\n",
        "ようかん、トリミング、くだもの、最大化、三角形の建物定理、家賃問題、赤道の気温定理、結婚式のケーキカット、料理問題、人数増加法、絶対的優位法、存在定理\n",
        "\n"
      ]
    },
    {
      "cell_type": "markdown",
      "metadata": {
        "id": "p_dZvR-SU4p-"
      },
      "source": [
        "離散数学のすすめ 伊藤大雄いとうひろお、宇野裕之のは\n",
        "\n",
        "基礎理論編、ゲーム・パズル編、発展理論編、応用編。であまりグラフ理論ではなさそう。\n",
        "\n",
        "離散数学入門 守屋悦郎 は\n",
        "\n",
        "基本的な数学概念、帰納法と再帰、関係、グラフ、論理、アルゴリズムの解析\n",
        "\n",
        "と教科書風で、コンピューターを意識している。\n",
        "\n",
        "情報系のための離散数学 猪股俊光 南野謙一 は\n",
        "\n",
        "命題論理、集合の基礎、帰納と証明、数え上げ、関係、関数、グラフ、木と探索、ネットワークと各種グラフ問題\n",
        "\n",
        "とこれも教科書風だが、幅広く対応しているみたい。 いいかも。"
      ]
    },
    {
      "cell_type": "markdown",
      "metadata": {
        "id": "GpvZFvpLyqoj"
      },
      "source": [
        "# 集合\n",
        "\n",
        "要素または元\n",
        "\n",
        "$a \\in A$ または $A \\owns a$\n",
        "\n",
        "\n",
        "$a \\notin A$ または $A \\not \\owns a$\n",
        "\n",
        "$ \\not =$\n",
        "\n",
        "$\\not \\; \\not$\n",
        "\n",
        "$\\not \\pm$"
      ]
    },
    {
      "cell_type": "markdown",
      "metadata": {
        "id": "St8GS0pxXZJ4"
      },
      "source": [
        "真偽が明確に定まる式や文を命題 proposition と言う。\n",
        "\n"
      ]
    }
  ]
}