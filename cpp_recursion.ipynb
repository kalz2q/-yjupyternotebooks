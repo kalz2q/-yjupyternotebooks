{
  "nbformat": 4,
  "nbformat_minor": 0,
  "metadata": {
    "colab": {
      "name": "cpp_recursion.ipynb",
      "provenance": [],
      "authorship_tag": "ABX9TyN3DosdNtoPRMH8kRtT76sS",
      "include_colab_link": true
    },
    "kernelspec": {
      "name": "python3",
      "display_name": "Python 3"
    },
    "language_info": {
      "name": "python"
    }
  },
  "cells": [
    {
      "cell_type": "markdown",
      "metadata": {
        "id": "view-in-github",
        "colab_type": "text"
      },
      "source": [
        "<a href=\"https://colab.research.google.com/github/kalz2q/mycolabnotebooks/blob/master/cpp_recursion.ipynb\" target=\"_parent\"><img src=\"https://colab.research.google.com/assets/colab-badge.svg\" alt=\"Open In Colab\"/></a>"
      ]
    },
    {
      "cell_type": "markdown",
      "source": [
        "# メモ\n",
        "再帰は簡単かと思っていたら云々。\n",
        "1. ややこしい問題、atcoder の問題を解くのに再帰を使うにはコツがありそう\n",
        "1. すぐに stack overflow になるので再帰ができたらすぐに末尾再帰 tail recursion に書き直す\n",
        "\n",
        "recursion pdf\n",
        "chrome-extension://oemmndcbldboiebfnladdacbdfmadadm/https://www.albany.edu/faculty/dsaha/teach/2017Spring_CEN360/slides/lec09.pdf\n",
        "chrome-extension://oemmndcbldboiebfnladdacbdfmadadm/https://www.cs.upc.edu/~jordicf/Teaching/programming/pdf/IP07_Recursion.pdf\n",
        "chrome-extension://oemmndcbldboiebfnladdacbdfmadadm/https://www.tutorialspoint.com/cprogramming/pdf/c_recursion.pdf\n",
        "Introduction to Recursive Programming\n",
        "https://www.pdfdrive.com/introduction-to-recursive-programming-d176192325.html\n",
        "chrome-extension://oemmndcbldboiebfnladdacbdfmadadm/https://tildesites.bowdoin.edu/~ltoma/teaching/cs210/spring09/Slides/210-recursion.pdf"
      ],
      "metadata": {
        "id": "NfdPtiqwM4Iq"
      }
    },
    {
      "cell_type": "code",
      "execution_count": null,
      "metadata": {
        "id": "OdDqE1SuM04m"
      },
      "outputs": [],
      "source": [
        "# sum with recursion\n",
        "# factorial with recursion\n",
        "# fibonacci with recursion"
      ]
    }
  ]
}