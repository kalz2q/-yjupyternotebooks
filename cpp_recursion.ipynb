{
  "nbformat": 4,
  "nbformat_minor": 0,
  "metadata": {
    "colab": {
      "name": "cpp_recursion.ipynb",
      "provenance": [],
      "toc_visible": true,
      "authorship_tag": "ABX9TyNDHjRXYfBJbkW/tAAB738o",
      "include_colab_link": true
    },
    "kernelspec": {
      "name": "python3",
      "display_name": "Python 3"
    },
    "language_info": {
      "name": "python"
    }
  },
  "cells": [
    {
      "cell_type": "markdown",
      "metadata": {
        "id": "view-in-github",
        "colab_type": "text"
      },
      "source": [
        "<a href=\"https://colab.research.google.com/github/kalz2q/mycolabnotebooks/blob/master/cpp_recursion.ipynb\" target=\"_parent\"><img src=\"https://colab.research.google.com/assets/colab-badge.svg\" alt=\"Open In Colab\"/></a>"
      ]
    },
    {
      "cell_type": "markdown",
      "source": [
        "# メモ\n",
        "再帰は簡単かと思っていたら云々。\n",
        "1. ややこしい問題、atcoder の問題を解くのに再帰を使うにはコツがありそう\n",
        "1. すぐに stack overflow になるので再帰ができたらすぐに末尾再帰 tail recursion に書き直す\n",
        "\n",
        "recursion pdf\n",
        "* chrome-extension://oemmndcbldboiebfnladdacbdfmadadm/https://www.albany.edu/\n",
        "faculty/dsaha/teach/2017Spring_CEN360/slides/lec09.pdf\n",
        "* chrome-extension://oemmndcbldboiebfnladdacbdfmadadm/https://www.cs.upc.edu/~jordicf/Teaching/programming/pdf/IP07_Recursion.pdf\n",
        "* chrome-extension://oemmndcbldboiebfnladdacbdfmadadm/https://www.tutorialspoint.com/cprogramming/pdf/c_recursion.pdf\n",
        "* Introduction to Recursive Programming\n",
        "* https://www.pdfdrive.com/introduction-to-recursive-programming-d176192325.html\n",
        "* chrome-extension://oemmndcbldboiebfnladdacbdfmadadm/https://tildesites.bowdoin.edu/~ltoma/teaching/cs210/spring09/Slides/210-recursion.pdf\n",
        "* thinking recursively by eric s. roberts\n",
        "* Introduction to Recursive Programming"
      ],
      "metadata": {
        "id": "NfdPtiqwM4Iq"
      }
    },
    {
      "cell_type": "code",
      "source": [
        "# apg4b a programmer's guide for beginers"
      ],
      "metadata": {
        "id": "xiVCNQRtgEdz"
      },
      "execution_count": null,
      "outputs": []
    },
    {
      "cell_type": "code",
      "execution_count": null,
      "metadata": {
        "id": "OdDqE1SuM04m"
      },
      "outputs": [],
      "source": [
        "# sum with recursion\n",
        "# factorial with recursion\n",
        "# fibonacci with recursion"
      ]
    },
    {
      "cell_type": "code",
      "source": [
        "# sum with recursion\n",
        "# 0 から 与えられた数宇までの合計を算出する\n",
        "%%writefile temp.cpp\n",
        "#include <bits/stdc++.h>\n",
        "using namespace std;\n",
        "\n",
        "int sum (int n){\n",
        "    if (n == 1) return 1;\n",
        "    else return (n + sum(n-1));\n",
        "}\n",
        " \n",
        "int main() {\n",
        "    int n; cin >> n;\n",
        "    cout << sum(n) << endl;\n",
        "}"
      ],
      "metadata": {
        "colab": {
          "base_uri": "https://localhost:8080/"
        },
        "id": "1DO_dqnag_Lb",
        "outputId": "b22d25eb-b557-41ca-e684-de838bd2b25e"
      },
      "execution_count": null,
      "outputs": [
        {
          "output_type": "stream",
          "name": "stdout",
          "text": [
            "Overwriting temp.cpp\n"
          ]
        }
      ]
    },
    {
      "cell_type": "code",
      "source": [
        "!g++ temp.cpp; echo 10 |./a.out\n",
        "!g++ temp.cpp; echo 1000 |./a.out #=> ちょっと大きい数字でエラーになる"
      ],
      "metadata": {
        "colab": {
          "base_uri": "https://localhost:8080/"
        },
        "id": "OMRH1i7jhyVN",
        "outputId": "ac417605-4a3e-4027-a5cc-1fbf544a1982"
      },
      "execution_count": null,
      "outputs": [
        {
          "output_type": "stream",
          "name": "stdout",
          "text": [
            "55\n",
            "5050\n"
          ]
        }
      ]
    },
    {
      "cell_type": "code",
      "source": [
        "# factorial with recursion\n",
        "# 与えられた数宇の階乗を計算する\n",
        "%%writefile temp.cpp\n",
        "#include <bits/stdc++.h>\n",
        "using namespace std;\n",
        "\n",
        "unsigned long long factorial (int n){\n",
        "    if (n == 1) return 1;\n",
        "    else return (n * factorial(n-1));\n",
        "}\n",
        " \n",
        "int main() {\n",
        "    int n; cin >> n;\n",
        "    cout << factorial(n) << endl;\n",
        "}"
      ],
      "metadata": {
        "id": "ejpTGvRWoKZv",
        "outputId": "b1cd77fc-dc1f-41c2-ecb8-cfbba6198275",
        "colab": {
          "base_uri": "https://localhost:8080/"
        }
      },
      "execution_count": null,
      "outputs": [
        {
          "output_type": "stream",
          "name": "stdout",
          "text": [
            "Overwriting temp.cpp\n"
          ]
        }
      ]
    },
    {
      "cell_type": "code",
      "source": [
        "!g++ temp.cpp; echo 5 |./a.out\n",
        "!g++ temp.cpp; echo 10 |./a.out\n",
        "!g++ temp.cpp; echo 50 |./a.out"
      ],
      "metadata": {
        "id": "DyAIG4P9oZ3b",
        "outputId": "e19da857-8132-4d48-ee94-d2f496368daf",
        "colab": {
          "base_uri": "https://localhost:8080/"
        }
      },
      "execution_count": null,
      "outputs": [
        {
          "output_type": "stream",
          "name": "stdout",
          "text": [
            "120\n",
            "3628800\n",
            "15188249005818642432\n"
          ]
        }
      ]
    },
    {
      "cell_type": "code",
      "source": [
        "# 大きな数を扱うネットにあった例\n",
        "# 入力に 250 を使っていた\n",
        "# そのままでは動かなかったので書き直してみる\n",
        "%%writefile temp.cpp\n",
        "#include <bits/stdc++.h>\n",
        "using namespace std;\n",
        "\n",
        "int main() {\n",
        "  long k = 1; cin >> k;\n",
        "\n",
        "  if (k <= 33) {\n",
        "    unsigned long long fact = 1;\n",
        "    fact = 1;\n",
        "    for (int b = k; b >= 1; b--) {\n",
        "      fact = fact * b;\n",
        "    }\n",
        "    cout << \"\\nThe factorial of \" << k << \" is \" << fact << endl;\n",
        "    return 0;\n",
        "  }\n",
        "  else {\n",
        "    int numArr[10000];\n",
        "    int total, rem = 0, count;\n",
        "    register int i; //int i;\n",
        "    for (i = 0; i < 10000; i++) numArr[i] = 0;\n",
        "    numArr[10000] = 1;\n",
        "    for (count = 2;count <= k;count++) {\n",
        "      while (i > 0) {\n",
        "        total = numArr[i] * count + rem;\n",
        "        rem = 0;\n",
        "        if (total > 9) {\n",
        "          numArr[i] = total % 10;\n",
        "          rem = total / 10;\n",
        "        }\n",
        "        else {\n",
        "          numArr[i] = total;\n",
        "        }\n",
        "        i--;\n",
        "      }\n",
        "      rem = 0;\n",
        "      total = 0;\n",
        "      i = 10000;\n",
        "    }\n",
        "    cout << \"The factorial of \" << k << \" is \" << endl;\n",
        "    for (i = 0;i < 10000;i++) {\n",
        "      if (numArr[i] != 0 || count == 1) {\n",
        "        cout << numArr[i];\n",
        "        count = 1;\n",
        "      }\n",
        "    }\n",
        "    cout << endl;\n",
        "  }\n",
        "  cout << endl;\n",
        "}"
      ],
      "metadata": {
        "id": "0qEm786zqf9X",
        "outputId": "6a384d0c-a5e7-4565-a47b-591ebb871d30",
        "colab": {
          "base_uri": "https://localhost:8080/"
        }
      },
      "execution_count": 4,
      "outputs": [
        {
          "output_type": "stream",
          "name": "stdout",
          "text": [
            "Overwriting temp.cpp\n"
          ]
        }
      ]
    },
    {
      "cell_type": "code",
      "source": [
        "!g++ temp.cpp; echo 50 |./a.out\n",
        "!g++ temp.cpp; echo 250 |./a.out"
      ],
      "metadata": {
        "id": "g3IvbjwurMRm",
        "outputId": "a1c390a0-4087-48bb-8a8d-b6039b791af8",
        "colab": {
          "base_uri": "https://localhost:8080/"
        }
      },
      "execution_count": 5,
      "outputs": [
        {
          "output_type": "stream",
          "name": "stdout",
          "text": [
            "The factorial of 50 is \n",
            "3041409320171337804361260816606476884437764156896051200000000000\n",
            "\n",
            "The factorial of 250 is \n",
            "323285626090910773232081455202436847099484371767378066674794242711282374755511120948881791537102819945092850735318943292673093171280899082279103027907128192167652724018926473321804118626100683292536513367893908956993571353017504051317876007724793306540233900616482555224881943657258605739922264125483298220484913772177665064127685880715312897877767295191399084437747870258917297325515028324178732065818848206247858265980884882554880000000000000000000000000000000000000000000000000000000000000\n",
            "\n"
          ]
        }
      ]
    },
    {
      "cell_type": "markdown",
      "source": [
        ""
      ],
      "metadata": {
        "id": "uJgD2B4NkRgc"
      }
    }
  ]
}