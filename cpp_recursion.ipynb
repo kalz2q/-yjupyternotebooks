{
  "nbformat": 4,
  "nbformat_minor": 0,
  "metadata": {
    "colab": {
      "name": "cpp_recursion.ipynb",
      "provenance": [],
      "toc_visible": true,
      "authorship_tag": "ABX9TyOqF+Veox6SbYGaUei6QiNT",
      "include_colab_link": true
    },
    "kernelspec": {
      "name": "python3",
      "display_name": "Python 3"
    },
    "language_info": {
      "name": "python"
    }
  },
  "cells": [
    {
      "cell_type": "markdown",
      "metadata": {
        "id": "view-in-github",
        "colab_type": "text"
      },
      "source": [
        "<a href=\"https://colab.research.google.com/github/kalz2q/mycolabnotebooks/blob/master/cpp_recursion.ipynb\" target=\"_parent\"><img src=\"https://colab.research.google.com/assets/colab-badge.svg\" alt=\"Open In Colab\"/></a>"
      ]
    },
    {
      "cell_type": "markdown",
      "source": [
        "# メモ\n",
        "再帰は簡単かと思っていたら云々。\n",
        "1. ややこしい問題、atcoder の問題を解くのに再帰を使うにはコツがありそう\n",
        "1. すぐに stack overflow になるので再帰ができたらすぐに末尾再帰 tail recursion に書き直す\n",
        "\n",
        "recursion pdf\n",
        "* thinking recursively by eric s. roberts\n",
        "* Introduction to Recursive Programming"
      ],
      "metadata": {
        "id": "NfdPtiqwM4Iq"
      }
    },
    {
      "cell_type": "code",
      "source": [
        "# apg4b a programmer's guide for beginers"
      ],
      "metadata": {
        "id": "xiVCNQRtgEdz"
      },
      "execution_count": null,
      "outputs": []
    },
    {
      "cell_type": "code",
      "source": [
        "# sum with recursion\n",
        "# 0 から 与えられた数宇までの合計を算出する\n",
        "%%writefile temp.cpp\n",
        "#include <bits/stdc++.h>\n",
        "using namespace std;\n",
        "\n",
        "int sum (int n){\n",
        "    if (n == 1) return 1;\n",
        "    else return (n + sum(n-1));\n",
        "}\n",
        " \n",
        "int main() {\n",
        "    int n; cin >> n;\n",
        "    cout << sum(n) << endl;\n",
        "}"
      ],
      "metadata": {
        "colab": {
          "base_uri": "https://localhost:8080/"
        },
        "id": "1DO_dqnag_Lb",
        "outputId": "b22d25eb-b557-41ca-e684-de838bd2b25e"
      },
      "execution_count": null,
      "outputs": [
        {
          "output_type": "stream",
          "name": "stdout",
          "text": [
            "Overwriting temp.cpp\n"
          ]
        }
      ]
    },
    {
      "cell_type": "code",
      "source": [
        "!g++ temp.cpp; echo 10 |./a.out\n",
        "!g++ temp.cpp; echo 1000 |./a.out #=> ちょっと大きい数字でエラーになる"
      ],
      "metadata": {
        "colab": {
          "base_uri": "https://localhost:8080/"
        },
        "id": "OMRH1i7jhyVN",
        "outputId": "ac417605-4a3e-4027-a5cc-1fbf544a1982"
      },
      "execution_count": null,
      "outputs": [
        {
          "output_type": "stream",
          "name": "stdout",
          "text": [
            "55\n",
            "5050\n"
          ]
        }
      ]
    },
    {
      "cell_type": "code",
      "source": [
        "# factorial with recursion\n",
        "# 与えられた数宇の階乗を計算する\n",
        "%%writefile temp.cpp\n",
        "#include <bits/stdc++.h>\n",
        "using namespace std;\n",
        "\n",
        "unsigned long long factorial (int n){\n",
        "    if (n == 1) return 1;\n",
        "    else return (n * factorial(n-1));\n",
        "}\n",
        " \n",
        "int main() {\n",
        "    int n; cin >> n;\n",
        "    cout << factorial(n) << endl;\n",
        "}"
      ],
      "metadata": {
        "id": "ejpTGvRWoKZv",
        "outputId": "b1cd77fc-dc1f-41c2-ecb8-cfbba6198275",
        "colab": {
          "base_uri": "https://localhost:8080/"
        }
      },
      "execution_count": null,
      "outputs": [
        {
          "output_type": "stream",
          "name": "stdout",
          "text": [
            "Overwriting temp.cpp\n"
          ]
        }
      ]
    },
    {
      "cell_type": "code",
      "source": [
        "!g++ temp.cpp; echo 5 |./a.out\n",
        "!g++ temp.cpp; echo 10 |./a.out\n",
        "!g++ temp.cpp; echo 50 |./a.out"
      ],
      "metadata": {
        "id": "DyAIG4P9oZ3b",
        "outputId": "e19da857-8132-4d48-ee94-d2f496368daf",
        "colab": {
          "base_uri": "https://localhost:8080/"
        }
      },
      "execution_count": null,
      "outputs": [
        {
          "output_type": "stream",
          "name": "stdout",
          "text": [
            "120\n",
            "3628800\n",
            "15188249005818642432\n"
          ]
        }
      ]
    },
    {
      "cell_type": "code",
      "source": [
        "# 大きな数を扱うネットにあった例\n",
        "# 入力に 250 を使っていた\n",
        "# 出力は 500桁近い\n",
        "# そのままでは動かなかったので書き直してみる\n",
        "%%writefile temp.cpp\n",
        "#include <bits/stdc++.h>\n",
        "using namespace std;\n",
        "\n",
        "int main() {\n",
        "  long k = 1; cin >> k;\n",
        "\n",
        "  if (k <= 33) {\n",
        "    unsigned long long fact = 1;\n",
        "    fact = 1;\n",
        "    for (int b = k; b >= 1; b--) {\n",
        "      fact = fact * b;\n",
        "    }\n",
        "    cout << \"\\nThe factorial of \" << k << \" is \" << fact << endl;\n",
        "  }\n",
        "  else {\n",
        "    int numArr[10000];\n",
        "    int total, rem = 0, count;\n",
        "    register int i; //int i;\n",
        "    for (i = 0; i < 10000; i++) numArr[i] = 0;\n",
        "    numArr[10000] = 1;\n",
        "    for (count = 2; count <= k; count++) {\n",
        "      while (i > 0) {\n",
        "        total = numArr[i] * count + rem;\n",
        "        rem = 0;\n",
        "        if (total > 9) {\n",
        "          numArr[i] = total % 10;\n",
        "          rem = total / 10;\n",
        "        }\n",
        "        else {\n",
        "          numArr[i] = total;\n",
        "        }\n",
        "        i--;\n",
        "      }\n",
        "      rem = 0;\n",
        "      total = 0;\n",
        "      i = 10000;\n",
        "    }\n",
        "    cout << \"The factorial of \" << k << \" is \" << endl;\n",
        "    for (i = 0;i < 10000;i++) {\n",
        "      if (numArr[i] != 0 || count == 1) {\n",
        "        cout << numArr[i];\n",
        "        count = 1;\n",
        "      }\n",
        "    }\n",
        "    cout << endl;\n",
        "  }\n",
        "  cout << endl;\n",
        "}"
      ],
      "metadata": {
        "id": "0qEm786zqf9X",
        "outputId": "6fd50b6b-ccd5-4764-971c-5470141783d0",
        "colab": {
          "base_uri": "https://localhost:8080/"
        }
      },
      "execution_count": null,
      "outputs": [
        {
          "output_type": "stream",
          "name": "stdout",
          "text": [
            "Overwriting temp.cpp\n"
          ]
        }
      ]
    },
    {
      "cell_type": "code",
      "source": [
        "# 動くようになった\n",
        "!g++ temp.cpp; echo 10 |./a.out\n",
        "!g++ temp.cpp; echo 50 |./a.out\n",
        "!g++ temp.cpp; echo 250 |./a.out"
      ],
      "metadata": {
        "id": "g3IvbjwurMRm",
        "outputId": "5f13edc2-4abd-4965-e9aa-12e3b292f4c4",
        "colab": {
          "base_uri": "https://localhost:8080/"
        }
      },
      "execution_count": null,
      "outputs": [
        {
          "output_type": "stream",
          "name": "stdout",
          "text": [
            "\n",
            "The factorial of 10 is 3628800\n",
            "\n",
            "The factorial of 50 is \n",
            "3041409320171337804361260816606476884437764156896051200000000000\n",
            "\n",
            "The factorial of 250 is \n",
            "323285626090910773232081455202436847099484371767378066674794242711282374755511120948881791537102819945092850735318943292673093171280899082279103027907128192167652724018926473321804118626100683292536513367893908956993571353017504051317876007724793306540233900616482555224881943657258605739922264125483298220484913772177665064127685880715312897877767295191399084437747870258917297325515028324178732065818848206247858265980884882554880000000000000000000000000000000000000000000000000000000000000\n",
            "\n"
          ]
        }
      ]
    },
    {
      "cell_type": "code",
      "source": [
        "# haskell で計算した結果 10 50 250\n",
        "# 合っている\n",
        "# 3628800\n",
        "# 30414093201713378043612608166064768844377641568960512000000000000\n",
        "# 3232856260909107732320814552024368470994843717673780666747942427112823747555111209488817915371028199450928507353189432926730931712808990822791030279071281921676527240189264733218041186261006832925365133678939089569935713530175040513178760077247933065402339006164825552248819436572586057399222641254832982204849137721776650641276858807153128978777672951913990844377478702589172973255150283241787320658188482062478582659808848825548800000000000000000000000000000000000000000000000000000000000000\n"
      ],
      "metadata": {
        "id": "5X-ZlkAlWY3N"
      },
      "execution_count": null,
      "outputs": []
    },
    {
      "cell_type": "code",
      "source": [
        "# フィボナッチ数を計算する\n",
        "%%writefile temp.cpp\n",
        "#include <bits/stdc++.h>\n",
        "using namespace std;\n",
        "\n",
        "unsigned long long fibonacci (int n){\n",
        "    if (n == 0) return 0;\n",
        "    else if (n == 1) return 1;\n",
        "    else return (fibonacci(n-1) + fibonacci(n-2));\n",
        "}\n",
        " \n",
        "int main() {\n",
        "    int n; cin >> n;\n",
        "    cout << fibonacci(n) << endl;\n",
        "}"
      ],
      "metadata": {
        "id": "kNLZ3SwBYa-I",
        "outputId": "c848faf5-d26c-4ad6-adc1-1a6e0a067811",
        "colab": {
          "base_uri": "https://localhost:8080/"
        }
      },
      "execution_count": null,
      "outputs": [
        {
          "output_type": "stream",
          "name": "stdout",
          "text": [
            "Overwriting temp.cpp\n"
          ]
        }
      ]
    },
    {
      "cell_type": "code",
      "source": [
        "!g++ temp.cpp; echo 1 |./a.out\n",
        "!g++ temp.cpp; echo 2 |./a.out\n",
        "!g++ temp.cpp; echo 3 |./a.out\n",
        "!g++ temp.cpp; echo 4 |./a.out\n",
        "!g++ temp.cpp; echo 5 |./a.out\n",
        "!g++ temp.cpp; echo 6 |./a.out"
      ],
      "metadata": {
        "id": "CH2oyUmPZOeU",
        "outputId": "0d939218-c076-494c-b5aa-275d5ff2f4fc",
        "colab": {
          "base_uri": "https://localhost:8080/"
        }
      },
      "execution_count": null,
      "outputs": [
        {
          "output_type": "stream",
          "name": "stdout",
          "text": [
            "1\n",
            "1\n",
            "2\n",
            "3\n",
            "5\n",
            "8\n"
          ]
        }
      ]
    },
    {
      "cell_type": "code",
      "source": [
        "# Write the binary representation\n",
        "%%writefile temp.cpp\n",
        "#include <bits/stdc++.h>\n",
        "using namespace std;\n",
        "\n",
        "void base2(int n){\n",
        "    if (n==1) cout << n;\n",
        "    else {\n",
        "        base2(n/2);\n",
        "        cout << n%2;\n",
        "    }\n",
        "}\n",
        "\n",
        "int main() {\n",
        "    int n; cin >> n;\n",
        "    base2(n);\n",
        "    cout << endl; \n",
        "}"
      ],
      "metadata": {
        "id": "zbfn0OVEcExV",
        "outputId": "7c9177d6-326d-4bcc-e39a-89e17fad1b5d",
        "colab": {
          "base_uri": "https://localhost:8080/"
        }
      },
      "execution_count": null,
      "outputs": [
        {
          "output_type": "stream",
          "name": "stdout",
          "text": [
            "Overwriting temp.cpp\n"
          ]
        }
      ]
    },
    {
      "cell_type": "code",
      "source": [
        "!g++ temp.cpp; echo 1 |./a.out\n",
        "!g++ temp.cpp; echo 2 |./a.out\n",
        "!g++ temp.cpp; echo 3 |./a.out\n",
        "!g++ temp.cpp; echo 4 |./a.out\n",
        "!g++ temp.cpp; echo 5 |./a.out\n",
        "!g++ temp.cpp; echo 6 |./a.out"
      ],
      "metadata": {
        "id": "NxIri44jcEtQ",
        "outputId": "0139d8fb-42b7-4b4e-b5e1-ab43df88ec6c",
        "colab": {
          "base_uri": "https://localhost:8080/"
        }
      },
      "execution_count": null,
      "outputs": [
        {
          "output_type": "stream",
          "name": "stdout",
          "text": [
            "1\n",
            "10\n",
            "11\n",
            "100\n",
            "101\n",
            "110\n"
          ]
        }
      ]
    },
    {
      "cell_type": "code",
      "source": [
        ""
      ],
      "metadata": {
        "id": "GNTa5bON0a84"
      },
      "execution_count": null,
      "outputs": []
    },
    {
      "cell_type": "code",
      "source": [
        ""
      ],
      "metadata": {
        "id": "uTqwRFFT0a1R"
      },
      "execution_count": null,
      "outputs": []
    },
    {
      "cell_type": "markdown",
      "source": [
        "# いまここ"
      ],
      "metadata": {
        "id": "uJgD2B4NkRgc"
      }
    }
  ]
}