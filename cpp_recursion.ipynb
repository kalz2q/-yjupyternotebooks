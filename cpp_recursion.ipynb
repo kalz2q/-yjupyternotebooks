{
  "nbformat": 4,
  "nbformat_minor": 0,
  "metadata": {
    "colab": {
      "name": "cpp_recursion.ipynb",
      "provenance": [],
      "authorship_tag": "ABX9TyNvCsweQl5tpBP6tvAcdrTa",
      "include_colab_link": true
    },
    "kernelspec": {
      "name": "python3",
      "display_name": "Python 3"
    },
    "language_info": {
      "name": "python"
    }
  },
  "cells": [
    {
      "cell_type": "markdown",
      "metadata": {
        "id": "view-in-github",
        "colab_type": "text"
      },
      "source": [
        "<a href=\"https://colab.research.google.com/github/kalz2q/mycolabnotebooks/blob/master/cpp_recursion.ipynb\" target=\"_parent\"><img src=\"https://colab.research.google.com/assets/colab-badge.svg\" alt=\"Open In Colab\"/></a>"
      ]
    },
    {
      "cell_type": "markdown",
      "source": [
        "# メモ\n",
        "再帰は簡単かと思っていたら云々。\n",
        "1. ややこしい問題、atcoder の問題を解くのに再帰を使うにはコツがありそう\n",
        "1. すぐに stack overflow になるので再帰ができたらすぐに末尾再帰 tail recursion に書き直す\n",
        "\n",
        "recursion pdf\n",
        "* chrome-extension://oemmndcbldboiebfnladdacbdfmadadm/https://www.albany.edu/\n",
        "faculty/dsaha/teach/2017Spring_CEN360/slides/lec09.pdf\n",
        "* chrome-extension://oemmndcbldboiebfnladdacbdfmadadm/https://www.cs.upc.edu/~jordicf/Teaching/programming/pdf/IP07_Recursion.pdf\n",
        "* chrome-extension://oemmndcbldboiebfnladdacbdfmadadm/https://www.tutorialspoint.com/cprogramming/pdf/c_recursion.pdf\n",
        "* Introduction to Recursive Programming\n",
        "* https://www.pdfdrive.com/introduction-to-recursive-programming-d176192325.html\n",
        "* chrome-extension://oemmndcbldboiebfnladdacbdfmadadm/https://tildesites.bowdoin.edu/~ltoma/teaching/cs210/spring09/Slides/210-recursion.pdf\n",
        "* thinking recursively by eric s. roberts\n",
        "* Introduction to Recursive Programming"
      ],
      "metadata": {
        "id": "NfdPtiqwM4Iq"
      }
    },
    {
      "cell_type": "code",
      "source": [
        "# apg4b a programmer's guide for beginers"
      ],
      "metadata": {
        "id": "xiVCNQRtgEdz"
      },
      "execution_count": null,
      "outputs": []
    },
    {
      "cell_type": "code",
      "execution_count": null,
      "metadata": {
        "id": "OdDqE1SuM04m"
      },
      "outputs": [],
      "source": [
        "# sum with recursion\n",
        "# factorial with recursion\n",
        "# fibonacci with recursion"
      ]
    },
    {
      "cell_type": "code",
      "source": [
        "# sum with recursion\n",
        "# 0 から 与えられた数宇までの合計を算出する\n",
        "%%writefile temp.cpp\n",
        "#include <bits/stdc++.h>\n",
        "using namespace std;\n",
        "\n",
        "int sum (int n){\n",
        "    if (n == 0) return 0;\n",
        "    else if (n == 1) return 1;\n",
        "    else return (n + sum(n-1));\n",
        "}\n",
        " \n",
        "int main() {\n",
        "    int n; cin >> n;\n",
        "    cout << sum(n) << endl;\n",
        "}"
      ],
      "metadata": {
        "id": "1DO_dqnag_Lb",
        "outputId": "d97783ba-f430-4c37-8a66-9fba8fecbfc4",
        "colab": {
          "base_uri": "https://localhost:8080/"
        }
      },
      "execution_count": 27,
      "outputs": [
        {
          "output_type": "stream",
          "name": "stdout",
          "text": [
            "Overwriting temp.cpp\n"
          ]
        }
      ]
    },
    {
      "cell_type": "code",
      "source": [
        "!g++ temp.cpp; echo 10 |./a.out\n",
        "!g++ temp.cpp; echo 100 |./a.out #=> ちょっと大きい数字でエラーになる"
      ],
      "metadata": {
        "id": "OMRH1i7jhyVN",
        "outputId": "bc808492-f2a5-4819-8d06-dae7c77b8c43",
        "colab": {
          "base_uri": "https://localhost:8080/"
        }
      },
      "execution_count": 31,
      "outputs": [
        {
          "output_type": "stream",
          "name": "stdout",
          "text": [
            "55\n",
            "5050\n"
          ]
        }
      ]
    },
    {
      "cell_type": "markdown",
      "source": [
        ""
      ],
      "metadata": {
        "id": "uJgD2B4NkRgc"
      }
    }
  ]
}