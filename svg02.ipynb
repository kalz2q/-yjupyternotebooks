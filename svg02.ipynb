{
  "nbformat": 4,
  "nbformat_minor": 0,
  "metadata": {
    "colab": {
      "name": "svg02.ipynb",
      "provenance": [],
      "authorship_tag": "ABX9TyMaBHFyQXQqIH6jWPTJXlxI",
      "include_colab_link": true
    },
    "kernelspec": {
      "name": "python3",
      "display_name": "Python 3"
    }
  },
  "cells": [
    {
      "cell_type": "markdown",
      "metadata": {
        "id": "view-in-github",
        "colab_type": "text"
      },
      "source": [
        "<a href=\"https://colab.research.google.com/github/kalz2q/mycolabnotebooks/blob/master/svg02.ipynb\" target=\"_parent\"><img src=\"https://colab.research.google.com/assets/colab-badge.svg\" alt=\"Open In Colab\"/></a>"
      ]
    },
    {
      "cell_type": "markdown",
      "metadata": {
        "id": "q9TifDyIOEbn",
        "colab_type": "text"
      },
      "source": [
        "メモ\n",
        "\n",
        "1. このノートブックはsvg02.ipynb。svgの勉強をしている。\n",
        "1. 前のノートブックではw3schoolのtutorialをコピペした。アニメーションも含みすべて問題なく動いた。\n",
        "1. マジックコマンドは%%htmlを使う。\n",
        "1. learn inkscape https://inkscape.org/learn/ を中心にやろうかと思っている。\n",
        "1. あと、ドットインストール\n"
      ]
    }
  ]
}