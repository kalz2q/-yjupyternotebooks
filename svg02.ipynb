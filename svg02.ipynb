{
  "nbformat": 4,
  "nbformat_minor": 0,
  "metadata": {
    "colab": {
      "name": "svg02.ipynb",
      "provenance": [],
      "toc_visible": true,
      "authorship_tag": "ABX9TyMTi+CpuQugZonPkz4UFWna",
      "include_colab_link": true
    },
    "kernelspec": {
      "name": "python3",
      "display_name": "Python 3"
    }
  },
  "cells": [
    {
      "cell_type": "markdown",
      "metadata": {
        "id": "view-in-github",
        "colab_type": "text"
      },
      "source": [
        "<a href=\"https://colab.research.google.com/github/kalz2q/mycolabnotebooks/blob/master/svg02.ipynb\" target=\"_parent\"><img src=\"https://colab.research.google.com/assets/colab-badge.svg\" alt=\"Open In Colab\"/></a>"
      ]
    },
    {
      "cell_type": "markdown",
      "metadata": {
        "id": "q9TifDyIOEbn",
        "colab_type": "text"
      },
      "source": [
        "メモ\n",
        "\n",
        "1. このノートブックはsvg02.ipynb。svgの勉強をしている。\n",
        "1. 前のノートブックではw3schoolのtutorialをコピペした。アニメーションも含みすべて問題なく動いた。\n",
        "1. マジックコマンドは%%htmlを使う。\n",
        "1. ドットインストールをやる。\n",
        "1. learn inkscape https://inkscape.org/learn/ をやる。\n"
      ]
    },
    {
      "cell_type": "markdown",
      "metadata": {
        "id": "HOlMBvWupYpE",
        "colab_type": "text"
      },
      "source": [
        "# 矩形\n",
        "\n",
        "矩形は左上の点を x, y で指定して、width , height を指定する。"
      ]
    },
    {
      "cell_type": "code",
      "metadata": {
        "id": "eKCVJii1pAUI",
        "colab_type": "code",
        "colab": {
          "base_uri": "https://localhost:8080/",
          "height": 180
        },
        "outputId": "712ae89d-f870-4186-e955-91be4186a6f9"
      },
      "source": [
        "%%html\n",
        "\n",
        "<svg width=\"160\" height=\"160\">\n",
        "    <rect x=\"0\" y=\"0\" width=\"160\" height=\"160\" fill=\"skyblue\" />\n",
        "    <rect x=\"40\" y=\"40\" width=\"80\" height=\"80\" fill=\"tomato\" />\n",
        "</svg>"
      ],
      "execution_count": 2,
      "outputs": [
        {
          "output_type": "display_data",
          "data": {
            "text/html": [
              "\n",
              "<svg width=\"160\" height=\"160\">\n",
              "    <rect x=\"0\" y=\"0\" width=\"160\" height=\"160\" fill=\"skyblue\" />\n",
              "    <rect x=\"40\" y=\"40\" width=\"80\" height=\"80\" fill=\"tomato\" />\n",
              "</svg>"
            ],
            "text/plain": [
              "<IPython.core.display.HTML object>"
            ]
          },
          "metadata": {
            "tags": []
          }
        }
      ]
    },
    {
      "cell_type": "markdown",
      "metadata": {
        "id": "w0JsqW4Zp6Df",
        "colab_type": "text"
      },
      "source": [
        "# viewBox とは何か\n",
        "\n",
        "svg の width と height はウェブ上のエリアの広さ。viewBox は対象の座標のどこからどこをウェブで確保したエリアに治めるかを指定する。\n",
        "\n",
        "その結果、次のようになる。"
      ]
    },
    {
      "cell_type": "code",
      "metadata": {
        "id": "XPp5w-frpy23",
        "colab_type": "code",
        "colab": {
          "base_uri": "https://localhost:8080/",
          "height": 180
        },
        "outputId": "1206314b-aea1-4ee2-8e3a-7989f4a62d41"
      },
      "source": [
        "%%html\n",
        "\n",
        "<svg width=\"160\" height=\"160\">\n",
        "    <rect x=\"0\" y=\"0\" width=\"160\" height=\"160\" fill=\"skyblue\" />\n",
        "    <rect x=\"40\" y=\"40\" width=\"80\" height=\"80\" fill=\"tomato\" />\n",
        "</svg>\n",
        "<svg width=\"160\" height=\"160\" viewBox=\"0 0 320 320\">\n",
        "    <rect x=\"0\" y=\"0\" width=\"160\" height=\"160\" fill=\"skyblue\" />\n",
        "    <rect x=\"40\" y=\"40\" width=\"80\" height=\"80\" fill=\"tomato\" />\n",
        "</svg>\n",
        "<svg width=\"160\" height=\"160\" viewBox=\"40 40 80 80\">\n",
        "    <rect x=\"0\" y=\"0\" width=\"160\" height=\"160\" fill=\"skyblue\" />\n",
        "    <rect x=\"40\" y=\"40\" width=\"80\" height=\"80\" fill=\"tomato\" />\n",
        "</svg>"
      ],
      "execution_count": 3,
      "outputs": [
        {
          "output_type": "display_data",
          "data": {
            "text/html": [
              "\n",
              "<svg width=\"160\" height=\"160\">\n",
              "    <rect x=\"0\" y=\"0\" width=\"160\" height=\"160\" fill=\"skyblue\" />\n",
              "    <rect x=\"40\" y=\"40\" width=\"80\" height=\"80\" fill=\"tomato\" />\n",
              "</svg>\n",
              "<svg width=\"160\" height=\"160\" viewBox=\"0 0 320 320\">\n",
              "    <rect x=\"0\" y=\"0\" width=\"160\" height=\"160\" fill=\"skyblue\" />\n",
              "    <rect x=\"40\" y=\"40\" width=\"80\" height=\"80\" fill=\"tomato\" />\n",
              "</svg>\n",
              "<svg width=\"160\" height=\"160\" viewBox=\"40 40 80 80\">\n",
              "    <rect x=\"0\" y=\"0\" width=\"160\" height=\"160\" fill=\"skyblue\" />\n",
              "    <rect x=\"40\" y=\"40\" width=\"80\" height=\"80\" fill=\"tomato\" />\n",
              "</svg>"
            ],
            "text/plain": [
              "<IPython.core.display.HTML object>"
            ]
          },
          "metadata": {
            "tags": []
          }
        }
      ]
    },
    {
      "cell_type": "markdown",
      "metadata": {
        "id": "fj0JE2yuq_vL",
        "colab_type": "text"
      },
      "source": [
        "# ストローク "
      ]
    },
    {
      "cell_type": "code",
      "metadata": {
        "id": "4ZrIDjoOqzRp",
        "colab_type": "code",
        "colab": {
          "base_uri": "https://localhost:8080/",
          "height": 180
        },
        "outputId": "56cfecca-971e-41ac-fdcb-6c0bd386f634"
      },
      "source": [
        "%%html\n",
        "\n",
        "<svg width=\"160\" height=\"160\">\n",
        "    <rect x=\"0\" y=\"0\" width=\"160\" height=\"160\" fill=\"skyblue\" />\n",
        "    <rect x=\"20\" y=\"20\" width=\"30\" height=\"30\" fill=\"#08c\" />\n",
        "    <rect x=\"65\" y=\"20\" width=\"30\" height=\"30\" fill=\"rgba(255, 0, 0, .4)\" />\n",
        "    <rect x=\"110\" y=\"20\" width=\"30\" height=\"30\" fill=\"hsla(120, 40%, 40%, .4)\" />\n",
        "    <rect x=\"20\" y=\"65\" width=\"30\" height=\"30\" fill=\"none\" stroke=\"olive\" stroke-width=\"2\" />\n",
        "    <rect x=\"65\" y=\"65\" width=\"30\" height=\"30\" fill=\"none\" stroke=\"olive\" stroke-width=\"2\" stroke-dasharray=\"10\" />\n",
        "    <rect x=\"110\" y=\"65\" width=\"30\" height=\"30\" fill=\"none\" stroke=\"olive\" stroke-width=\"2\" stroke-dasharray=\"10, 2\" />\n",
        "</svg>"
      ],
      "execution_count": 4,
      "outputs": [
        {
          "output_type": "display_data",
          "data": {
            "text/html": [
              "\n",
              "<svg width=\"160\" height=\"160\">\n",
              "    <rect x=\"0\" y=\"0\" width=\"160\" height=\"160\" fill=\"skyblue\" />\n",
              "    <rect x=\"20\" y=\"20\" width=\"30\" height=\"30\" fill=\"#08c\" />\n",
              "    <rect x=\"65\" y=\"20\" width=\"30\" height=\"30\" fill=\"rgba(255, 0, 0, .4)\" />\n",
              "    <rect x=\"110\" y=\"20\" width=\"30\" height=\"30\" fill=\"hsla(120, 40%, 40%, .4)\" />\n",
              "    <rect x=\"20\" y=\"65\" width=\"30\" height=\"30\" fill=\"none\" stroke=\"olive\" stroke-width=\"2\" />\n",
              "    <rect x=\"65\" y=\"65\" width=\"30\" height=\"30\" fill=\"none\" stroke=\"olive\" stroke-width=\"2\" stroke-dasharray=\"10\" />\n",
              "    <rect x=\"110\" y=\"65\" width=\"30\" height=\"30\" fill=\"none\" stroke=\"olive\" stroke-width=\"2\" stroke-dasharray=\"10, 2\" />\n",
              "</svg>"
            ],
            "text/plain": [
              "<IPython.core.display.HTML object>"
            ]
          },
          "metadata": {
            "tags": []
          }
        }
      ]
    },
    {
      "cell_type": "markdown",
      "metadata": {
        "id": "VBobpHtOr06S",
        "colab_type": "text"
      },
      "source": [
        "# スタイル\n",
        "\n",
        "svg のスタイルは、まとめて書くやりかたがあるのと、別途 css のように style タグで指定するやり方がある。\n",
        "\n",
        "次の例では、cursor を pointer にするのと、:hover で形を変えている。"
      ]
    },
    {
      "cell_type": "code",
      "metadata": {
        "id": "jbP1UbOUrilC",
        "colab_type": "code",
        "colab": {
          "base_uri": "https://localhost:8080/",
          "height": 180
        },
        "outputId": "3d7bfdce-dee1-46e7-b56c-34d7d910848a"
      },
      "source": [
        "%%html\n",
        "\n",
        "<svg width=\"160\" height=\"160\">\n",
        "    <defs>\n",
        "        <style>\n",
        "            .my-box {\n",
        "                fill: pink;\n",
        "                cursor: pointer;\n",
        "                transition: .3s;\n",
        "            }\n",
        "\n",
        "            .my-box:hover {\n",
        "                width: 60px;\n",
        "                height: 60px;\n",
        "            }\n",
        "        </style>\n",
        "    </defs>\n",
        "    <rect x=\"0\" y=\"0\" width=\"160\" height=\"160\" fill=\"skyblue\" />\n",
        "    <rect x=\"20\" y=\"20\" width=\"30\" height=\"30\" style=\"fill:#08c; stroke:#eee; stroke-width:3;\" />\n",
        "    <rect x=\"65\" y=\"20\" width=\"30\" height=\"30\" class=\"my-box\" />\n",
        "</svg>"
      ],
      "execution_count": 5,
      "outputs": [
        {
          "output_type": "display_data",
          "data": {
            "text/html": [
              "\n",
              "<svg width=\"160\" height=\"160\">\n",
              "    <defs>\n",
              "        <style>\n",
              "            .my-box {\n",
              "                fill: pink;\n",
              "                cursor: pointer;\n",
              "                transition: .3s;\n",
              "            }\n",
              "\n",
              "            .my-box:hover {\n",
              "                width: 60px;\n",
              "                height: 60px;\n",
              "            }\n",
              "        </style>\n",
              "    </defs>\n",
              "    <rect x=\"0\" y=\"0\" width=\"160\" height=\"160\" fill=\"skyblue\" />\n",
              "    <rect x=\"20\" y=\"20\" width=\"30\" height=\"30\" style=\"fill:#08c; stroke:#eee; stroke-width:3;\" />\n",
              "    <rect x=\"65\" y=\"20\" width=\"30\" height=\"30\" class=\"my-box\" />\n",
              "</svg>"
            ],
            "text/plain": [
              "<IPython.core.display.HTML object>"
            ]
          },
          "metadata": {
            "tags": []
          }
        }
      ]
    },
    {
      "cell_type": "markdown",
      "metadata": {
        "id": "w1Tbvc4gssrn",
        "colab_type": "text"
      },
      "source": [
        "次のように, style 部分を外に出しても結果は同じ。css ファイルに書いてもよい、ということになる。"
      ]
    },
    {
      "cell_type": "code",
      "metadata": {
        "colab_type": "code",
        "id": "1aZfXWq4sU3H",
        "colab": {
          "base_uri": "https://localhost:8080/",
          "height": 180
        },
        "outputId": "a3e214eb-11fd-4c3a-be15-5789f4403646"
      },
      "source": [
        "%%html\n",
        "\n",
        "<style>\n",
        "    .my-box {\n",
        "        fill: pink;\n",
        "        cursor: pointer;\n",
        "        transition: .3s;\n",
        "    }\n",
        "\n",
        "    .my-box:hover {\n",
        "        width: 60px;\n",
        "        height: 60px;\n",
        "    }\n",
        "</style>\n",
        "<svg width=\"160\" height=\"160\">\n",
        "    <rect x=\"0\" y=\"0\" width=\"160\" height=\"160\" fill=\"skyblue\" />\n",
        "    <rect x=\"20\" y=\"20\" width=\"30\" height=\"30\" style=\"fill:#08c; stroke:#eee; stroke-width:3;\" />\n",
        "    <rect x=\"65\" y=\"20\" width=\"30\" height=\"30\" class=\"my-box\" />\n",
        "</svg>"
      ],
      "execution_count": 8,
      "outputs": [
        {
          "output_type": "display_data",
          "data": {
            "text/html": [
              "\n",
              "<style>\n",
              "    .my-box {\n",
              "        fill: pink;\n",
              "        cursor: pointer;\n",
              "        transition: .3s;\n",
              "    }\n",
              "\n",
              "    .my-box:hover {\n",
              "        width: 60px;\n",
              "        height: 60px;\n",
              "    }\n",
              "</style>\n",
              "<svg width=\"160\" height=\"160\">\n",
              "    <rect x=\"0\" y=\"0\" width=\"160\" height=\"160\" fill=\"skyblue\" />\n",
              "    <rect x=\"20\" y=\"20\" width=\"30\" height=\"30\" style=\"fill:#08c; stroke:#eee; stroke-width:3;\" />\n",
              "    <rect x=\"65\" y=\"20\" width=\"30\" height=\"30\" class=\"my-box\" />\n",
              "</svg>"
            ],
            "text/plain": [
              "<IPython.core.display.HTML object>"
            ]
          },
          "metadata": {
            "tags": []
          }
        }
      ]
    },
    {
      "cell_type": "markdown",
      "metadata": {
        "id": "fYVKjFUFtCuc",
        "colab_type": "text"
      },
      "source": [
        "# ロボット\n",
        "\n",
        "次からロボットを描いていく。"
      ]
    },
    {
      "cell_type": "code",
      "metadata": {
        "id": "kYcLsiHttHtX",
        "colab_type": "code",
        "colab": {
          "base_uri": "https://localhost:8080/",
          "height": 180
        },
        "outputId": "4bf3f267-f532-4012-bc24-daeeb083b9b2"
      },
      "source": [
        "%%html\n",
        "\n",
        "<svg width=\"160\" height=\"160\">\n",
        "    <rect x=\"0\" y=\"0\" width=\"160\" height=\"160\" fill=\"skyblue\" />\n",
        "    <circle cx=\"80\" cy=\"80\" r=\"40\" fill=\"gold\" />\n",
        "    <circle cx=\"65\" cy=\"75\" r=\"5\" fill=\"black\" />\n",
        "    <circle cx=\"95\" cy=\"75\" r=\"5\" fill=\"black\" />\n",
        "    <line x1=\"65\" y1=\"95\" x2=\"95\" y2=\"95\" stroke=\"black\" stroke-width=\"5\" stroke-linecap=\"round\" />\n",
        "</svg>"
      ],
      "execution_count": 9,
      "outputs": [
        {
          "output_type": "display_data",
          "data": {
            "text/html": [
              "\n",
              "<svg width=\"160\" height=\"160\">\n",
              "    <rect x=\"0\" y=\"0\" width=\"160\" height=\"160\" fill=\"skyblue\" />\n",
              "    <circle cx=\"80\" cy=\"80\" r=\"40\" fill=\"gold\" />\n",
              "    <circle cx=\"65\" cy=\"75\" r=\"5\" fill=\"black\" />\n",
              "    <circle cx=\"95\" cy=\"75\" r=\"5\" fill=\"black\" />\n",
              "    <line x1=\"65\" y1=\"95\" x2=\"95\" y2=\"95\" stroke=\"black\" stroke-width=\"5\" stroke-linecap=\"round\" />\n",
              "</svg>"
            ],
            "text/plain": [
              "<IPython.core.display.HTML object>"
            ]
          },
          "metadata": {
            "tags": []
          }
        }
      ]
    }
  ]
}