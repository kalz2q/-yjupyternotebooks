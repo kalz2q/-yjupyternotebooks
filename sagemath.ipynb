{
  "nbformat": 4,
  "nbformat_minor": 0,
  "metadata": {
    "colab": {
      "name": "sagemath.ipynb",
      "provenance": [],
      "authorship_tag": "ABX9TyNx1VmCro2T0SAgf8KNYjYY",
      "include_colab_link": true
    },
    "kernelspec": {
      "name": "python3",
      "display_name": "Python 3"
    }
  },
  "cells": [
    {
      "cell_type": "markdown",
      "metadata": {
        "id": "view-in-github",
        "colab_type": "text"
      },
      "source": [
        "<a href=\"https://colab.research.google.com/github/kalz2q/mycolabnotebooks/blob/master/sagemath.ipynb\" target=\"_parent\"><img src=\"https://colab.research.google.com/assets/colab-badge.svg\" alt=\"Open In Colab\"/></a>"
      ]
    },
    {
      "cell_type": "code",
      "metadata": {
        "id": "cJzuuKijBL-Y"
      },
      "source": [
        "# その昔 SageMath というのがあった\r\n"
      ],
      "execution_count": null,
      "outputs": []
    },
    {
      "cell_type": "markdown",
      "metadata": {
        "id": "LdBSjKgSBSxj"
      },
      "source": [
        "# 実行を中断 Ctrl+MI で入力待ちから抜ける"
      ]
    }
  ]
}