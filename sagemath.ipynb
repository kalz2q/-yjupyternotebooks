{
  "nbformat": 4,
  "nbformat_minor": 0,
  "metadata": {
    "colab": {
      "name": "sagemath.ipynb",
      "provenance": [],
      "authorship_tag": "ABX9TyOVc0OpgJpT/apNiSSQHU5I",
      "include_colab_link": true
    },
    "kernelspec": {
      "name": "python3",
      "display_name": "Python 3"
    }
  },
  "cells": [
    {
      "cell_type": "markdown",
      "metadata": {
        "id": "view-in-github",
        "colab_type": "text"
      },
      "source": [
        "<a href=\"https://colab.research.google.com/github/kalz2q/mycolabnotebooks/blob/master/sagemath.ipynb\" target=\"_parent\"><img src=\"https://colab.research.google.com/assets/colab-badge.svg\" alt=\"Open In Colab\"/></a>"
      ]
    },
    {
      "cell_type": "markdown",
      "metadata": {
        "id": "LdBSjKgSBSxj"
      },
      "source": [
        "# その昔 SageMath というのがあった\r\n",
        "\r\n",
        "freeのソフトを使って mathematica の代用となることを目指していた。\r\n",
        "\r\n",
        "アメリカの数学教育の予算がついていたので成果物があるはずで、それを jupyter または google colab に云々。\r\n",
        "\r\n",
        "要は、インタラクティブな形でネット上で成果物を読むことができないか、と考えている。\r\n",
        "\r\n",
        "日本語のチュートリアル  \r\n",
        "https://doc.sagemath.org/html/ja/tutorial/introduction.html\r\n",
        "\r\n",
        "\r\n",
        "https://ja.wikipedia.org/wiki/SageMath\r\n",
        "\r\n",
        "https://www.sagemath.org/\r\n",
        "\r\n",
        "sagemath.github.io\r\n",
        "\r\n",
        "https://icu-hsuzuki.github.io/science/computer/education/sage-j.html\r\n",
        "\r\n",
        "\r\n"
      ]
    },
    {
      "cell_type": "code",
      "metadata": {
        "id": "-06CvD_YD5Tq",
        "outputId": "9ecffda2-d1eb-44a7-b7fa-28f7931e83e1",
        "colab": {
          "base_uri": "https://localhost:8080/"
        }
      },
      "source": [
        "2 + 2"
      ],
      "execution_count": 1,
      "outputs": [
        {
          "output_type": "execute_result",
          "data": {
            "text/plain": [
              "4"
            ]
          },
          "metadata": {
            "tags": []
          },
          "execution_count": 1
        }
      ]
    },
    {
      "cell_type": "code",
      "metadata": {
        "id": "82UnoUwWEawL",
        "outputId": "3a0b8696-9f59-45b6-9b8d-b837db9d72df",
        "colab": {
          "base_uri": "https://localhost:8080/",
          "height": 70
        }
      },
      "source": [
        "# factor (-2007) # エラーになる\r\n",
        "# -2007を因数分解したい、ということなので\r\n",
        "from sympy import *\r\n",
        "display(factor(-2007))\r\n",
        "display(factorint(-2007))\r\n",
        "display(-1*3**2*223)"
      ],
      "execution_count": 12,
      "outputs": [
        {
          "output_type": "display_data",
          "data": {
            "text/plain": [
              "-2007"
            ]
          },
          "metadata": {
            "tags": []
          }
        },
        {
          "output_type": "display_data",
          "data": {
            "text/plain": [
              "{-1: 1, 3: 2, 223: 1}"
            ]
          },
          "metadata": {
            "tags": []
          }
        },
        {
          "output_type": "display_data",
          "data": {
            "text/plain": [
              "-2007"
            ]
          },
          "metadata": {
            "tags": []
          }
        }
      ]
    },
    {
      "cell_type": "markdown",
      "metadata": {
        "id": "Ru9eknT_EOss"
      },
      "source": [
        "# いまここ\r\n",
        "\r\n",
        "https://doc.sagemath.org/html/ja/tutorial/introduction.html"
      ]
    }
  ]
}