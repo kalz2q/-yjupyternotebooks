{
  "nbformat": 4,
  "nbformat_minor": 0,
  "metadata": {
    "colab": {
      "name": "sagemath.ipynb",
      "provenance": [],
      "authorship_tag": "ABX9TyOSo/llX4RZCQgEJV8oNR54",
      "include_colab_link": true
    },
    "kernelspec": {
      "name": "python3",
      "display_name": "Python 3"
    }
  },
  "cells": [
    {
      "cell_type": "markdown",
      "metadata": {
        "id": "view-in-github",
        "colab_type": "text"
      },
      "source": [
        "<a href=\"https://colab.research.google.com/github/kalz2q/mycolabnotebooks/blob/master/sagemath.ipynb\" target=\"_parent\"><img src=\"https://colab.research.google.com/assets/colab-badge.svg\" alt=\"Open In Colab\"/></a>"
      ]
    },
    {
      "cell_type": "markdown",
      "metadata": {
        "id": "LdBSjKgSBSxj"
      },
      "source": [
        "# その昔 SageMath というのがあった\r\n",
        "\r\n",
        "freeのソフトを使って mathematica の代用となることを目指していた。\r\n",
        "\r\n",
        "アメリカの数学教育の予算がついていたので成果物があるはずで、それを jupyter または google colab に云々。\r\n",
        "\r\n",
        "要は、インタラクティブな形でネット上で成果物を読むことができないか、と考えている。\r\n",
        "\r\n",
        "日本語のチュートリアル  \r\n",
        "https://doc.sagemath.org/html/ja/tutorial/introduction.html\r\n",
        "\r\n",
        "\r\n",
        "https://ja.wikipedia.org/wiki/SageMath\r\n",
        "\r\n",
        "https://www.sagemath.org/\r\n",
        "\r\n",
        "sagemath.github.io\r\n",
        "\r\n",
        "https://icu-hsuzuki.github.io/science/computer/education/sage-j.html\r\n",
        "\r\n",
        "\r\n"
      ]
    },
    {
      "cell_type": "code",
      "metadata": {
        "colab": {
          "base_uri": "https://localhost:8080/"
        },
        "id": "-06CvD_YD5Tq",
        "outputId": "e52fde14-cf68-4f49-b474-9d26cf9005f7"
      },
      "source": [
        "# sage: 2 + 2\r\n",
        "2 + 2"
      ],
      "execution_count": 13,
      "outputs": [
        {
          "output_type": "execute_result",
          "data": {
            "text/plain": [
              "4"
            ]
          },
          "metadata": {
            "tags": []
          },
          "execution_count": 13
        }
      ]
    },
    {
      "cell_type": "code",
      "metadata": {
        "colab": {
          "base_uri": "https://localhost:8080/",
          "height": 70
        },
        "id": "82UnoUwWEawL",
        "outputId": "3a0b8696-9f59-45b6-9b8d-b837db9d72df"
      },
      "source": [
        "# sage: factor(-2007)\r\n",
        "# factor (-2007) # エラーになる\r\n",
        "# -2007を因数分解したい、ということなので\r\n",
        "from sympy import *\r\n",
        "display(factor(-2007))\r\n",
        "display(factorint(-2007))\r\n",
        "display(-1*3**2*223)"
      ],
      "execution_count": 12,
      "outputs": [
        {
          "output_type": "display_data",
          "data": {
            "text/plain": [
              "-2007"
            ]
          },
          "metadata": {
            "tags": []
          }
        },
        {
          "output_type": "display_data",
          "data": {
            "text/plain": [
              "{-1: 1, 3: 2, 223: 1}"
            ]
          },
          "metadata": {
            "tags": []
          }
        },
        {
          "output_type": "display_data",
          "data": {
            "text/plain": [
              "-2007"
            ]
          },
          "metadata": {
            "tags": []
          }
        }
      ]
    },
    {
      "cell_type": "code",
      "metadata": {
        "id": "Fx6ZduflMnty",
        "outputId": "5c11186a-938f-481b-ce5b-153baea5c0ac",
        "colab": {
          "base_uri": "https://localhost:8080/",
          "height": 206
        }
      },
      "source": [
        "# sage: A = matrix(4,4, range(16)); A\r\n",
        "from sympy import *\r\n",
        "Matrix([0,1,2,3],[4,5,6,7],[8,9,10,11],[12,13,14,15])"
      ],
      "execution_count": 18,
      "outputs": [
        {
          "output_type": "error",
          "ename": "NameError",
          "evalue": "ignored",
          "traceback": [
            "\u001b[0;31m---------------------------------------------------------------------------\u001b[0m",
            "\u001b[0;31mNameError\u001b[0m                                 Traceback (most recent call last)",
            "\u001b[0;32m<ipython-input-18-5709830f2731>\u001b[0m in \u001b[0;36m<module>\u001b[0;34m()\u001b[0m\n\u001b[1;32m      1\u001b[0m \u001b[0;31m# sage: A = matrix(4,4, range(16)); A\u001b[0m\u001b[0;34m\u001b[0m\u001b[0;34m\u001b[0m\u001b[0;34m\u001b[0m\u001b[0m\n\u001b[1;32m      2\u001b[0m \u001b[0;32mfrom\u001b[0m \u001b[0msympy\u001b[0m \u001b[0;32mimport\u001b[0m \u001b[0;34m*\u001b[0m\u001b[0;34m\u001b[0m\u001b[0;34m\u001b[0m\u001b[0m\n\u001b[0;32m----> 3\u001b[0;31m \u001b[0mMatrixint\u001b[0m\u001b[0;34m(\u001b[0m\u001b[0;34m[\u001b[0m\u001b[0;36m0\u001b[0m\u001b[0;34m,\u001b[0m\u001b[0;36m1\u001b[0m\u001b[0;34m,\u001b[0m\u001b[0;36m2\u001b[0m\u001b[0;34m,\u001b[0m\u001b[0;36m3\u001b[0m\u001b[0;34m]\u001b[0m\u001b[0;34m,\u001b[0m\u001b[0;34m[\u001b[0m\u001b[0;36m4\u001b[0m\u001b[0;34m,\u001b[0m\u001b[0;36m5\u001b[0m\u001b[0;34m,\u001b[0m\u001b[0;36m6\u001b[0m\u001b[0;34m,\u001b[0m\u001b[0;36m7\u001b[0m\u001b[0;34m]\u001b[0m\u001b[0;34m,\u001b[0m\u001b[0;34m[\u001b[0m\u001b[0;36m8\u001b[0m\u001b[0;34m,\u001b[0m\u001b[0;36m9\u001b[0m\u001b[0;34m,\u001b[0m\u001b[0;36m10\u001b[0m\u001b[0;34m,\u001b[0m\u001b[0;36m11\u001b[0m\u001b[0;34m]\u001b[0m\u001b[0;34m,\u001b[0m\u001b[0;34m[\u001b[0m\u001b[0;36m12\u001b[0m\u001b[0;34m,\u001b[0m\u001b[0;36m13\u001b[0m\u001b[0;34m,\u001b[0m\u001b[0;36m14\u001b[0m\u001b[0;34m,\u001b[0m\u001b[0;36m15\u001b[0m\u001b[0;34m]\u001b[0m\u001b[0;34m)\u001b[0m\u001b[0;34m\u001b[0m\u001b[0;34m\u001b[0m\u001b[0m\n\u001b[0m",
            "\u001b[0;31mNameError\u001b[0m: name 'Matrixint' is not defined"
          ]
        }
      ]
    },
    {
      "cell_type": "markdown",
      "metadata": {
        "id": "Ru9eknT_EOss"
      },
      "source": [
        "# いまここ\r\n",
        "\r\n",
        "https://doc.sagemath.org/html/ja/tutorial/introduction.html"
      ]
    }
  ]
}