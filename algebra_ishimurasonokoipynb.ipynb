{
  "nbformat": 4,
  "nbformat_minor": 0,
  "metadata": {
    "colab": {
      "name": "algebra_ishimurasonokoipynb",
      "provenance": [],
      "authorship_tag": "ABX9TyPCwzN/zsGnqWO5yV6c40rk",
      "include_colab_link": true
    },
    "kernelspec": {
      "name": "python3",
      "display_name": "Python 3"
    },
    "language_info": {
      "name": "python"
    }
  },
  "cells": [
    {
      "cell_type": "markdown",
      "metadata": {
        "id": "view-in-github",
        "colab_type": "text"
      },
      "source": [
        "<a href=\"https://colab.research.google.com/github/kalz2q/mycolabnotebooks/blob/master/algebra_ishimurasonokoipynb.ipynb\" target=\"_parent\"><img src=\"https://colab.research.google.com/assets/colab-badge.svg\" alt=\"Open In Colab\"/></a>"
      ]
    },
    {
      "cell_type": "code",
      "metadata": {
        "id": "zVhG8XLqBt9d"
      },
      "source": [
        ""
      ],
      "execution_count": null,
      "outputs": []
    },
    {
      "cell_type": "markdown",
      "metadata": {
        "id": "IuHHB1-CBxjL"
      },
      "source": [
        "メモ\n",
        "\n",
        "すぐわかる代数\n",
        "\n",
        "石村園子\n",
        "\n",
        "を読む\n",
        "\n"
      ]
    },
    {
      "cell_type": "markdown",
      "metadata": {
        "id": "H0Cuy0CwB2KY"
      },
      "source": [
        "目次\n",
        "* 集合と写像\n",
        "* 同値関係と類別\n",
        "* 群\n"
      ]
    },
    {
      "cell_type": "markdown",
      "metadata": {
        "id": "MIpNtf4oCMCw"
      },
      "source": [
        "集合はアルファベットの大文字\n",
        "\n",
        "$A,B,C,\\cdots, X,Y,Z$\n",
        "\n",
        "自然数、整数、有理数、実数、複素数\n",
        "\n",
        "$\\boldsymbol N, \\boldsymbol Z, \\boldsymbol Q, \\boldsymbol R, \\boldsymbol C$\n",
        "\n",
        "この本は `boldsymbol` で `mathbb` 黒板ボールド $\\mathbb N$ ではない\n",
        "\n",
        "$0 \\not \\in \\boldsymbol N$ 自然数に 0 を含まないとする。 雪江明彦 代数学 群論入門は自然数に 0 を含むがどちらがいいのだろうか。\n",
        "\n",
        "英語の wikipedia を読むと、普通の言語で natural number と言えば 0 は含まないが、数学の世界では含む、みたいな感じ。 なるほどね。 日本では高校数学までは 0 を含まない、大学では含む、という感じかな。 石村園子は高校生向けか!!!!\n",
        "\n",
        "$a \\in A \\quad a$ は $A$ の要素 (element, 元) である。\n",
        "\n",
        "$a \\not \\in A \\quad a$ は $A$ の要素 (element, 元) でない。"
      ]
    },
    {
      "cell_type": "markdown",
      "metadata": {
        "id": "HHzQgWuCFyJ3"
      },
      "source": [
        "---\n",
        "p. 5 例題\n",
        "\n"
      ]
    }
  ]
}