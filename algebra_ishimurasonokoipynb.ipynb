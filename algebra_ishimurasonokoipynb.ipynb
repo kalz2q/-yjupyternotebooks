{
  "nbformat": 4,
  "nbformat_minor": 0,
  "metadata": {
    "colab": {
      "name": "algebra_ishimurasonokoipynb",
      "provenance": [],
      "authorship_tag": "ABX9TyNdhoSpFWLBcFBhhAznbrF6",
      "include_colab_link": true
    },
    "kernelspec": {
      "name": "python3",
      "display_name": "Python 3"
    },
    "language_info": {
      "name": "python"
    }
  },
  "cells": [
    {
      "cell_type": "markdown",
      "metadata": {
        "id": "view-in-github",
        "colab_type": "text"
      },
      "source": [
        "<a href=\"https://colab.research.google.com/github/kalz2q/mycolabnotebooks/blob/master/algebra_ishimurasonokoipynb.ipynb\" target=\"_parent\"><img src=\"https://colab.research.google.com/assets/colab-badge.svg\" alt=\"Open In Colab\"/></a>"
      ]
    },
    {
      "cell_type": "markdown",
      "metadata": {
        "id": "IuHHB1-CBxjL"
      },
      "source": [
        "# メモ\n",
        "\n",
        "すぐわかる代数\n",
        "\n",
        "石村園子\n",
        "\n",
        "を読む\n",
        "\n"
      ]
    },
    {
      "cell_type": "markdown",
      "metadata": {
        "id": "H0Cuy0CwB2KY"
      },
      "source": [
        "目次\n",
        "* 集合と写像\n",
        "* 同値関係と類別\n",
        "* 群\n"
      ]
    },
    {
      "cell_type": "markdown",
      "metadata": {
        "id": "MIpNtf4oCMCw"
      },
      "source": [
        "集合はアルファベットの大文字\n",
        "\n",
        "$A,B,C,\\cdots, X,Y,Z$\n",
        "\n",
        "自然数、整数、有理数、実数、複素数\n",
        "\n",
        "$\\boldsymbol N, \\boldsymbol Z, \\boldsymbol Q, \\boldsymbol R, \\boldsymbol C$\n",
        "\n",
        "この本は `boldsymbol` で `mathbb` 黒板ボールド $\\mathbb N$ ではない\n",
        "\n",
        "$0 \\not \\in \\boldsymbol N$ 自然数に 0 を含まないとする。 雪江明彦 代数学 群論入門は自然数に 0 を含むがどちらがいいのだろうか。\n",
        "\n",
        "英語の wikipedia を読むと、普通の言語で natural number と言えば 0 は含まないが、数学の世界では含む、みたいな感じ。 なるほどね。 日本では高校数学までは 0 を含まない、大学では含む、という感じかな。 石村園子は高校生向けか!!!!\n",
        "\n",
        "$a \\in A \\quad a$ は $A$ の要素 (element, 元) である。\n",
        "\n",
        "$a \\not \\in A \\quad a$ は $A$ の要素 (element, 元) でない。"
      ]
    },
    {
      "cell_type": "markdown",
      "metadata": {
        "id": "HHzQgWuCFyJ3"
      },
      "source": [
        "---\n",
        "p. 5 例題\n",
        "\n",
        "論理式に直せ。\n",
        "\n",
        "$x$ は集合 $X$ の元である。  \n",
        "\n",
        "$x \\in X$\n",
        "\n",
        "$y$ は集合 $Y$ に属していない。\n",
        "\n",
        "$y \\not \\in Y$\n",
        "\n",
        "100 は自然数である。\n",
        "\n",
        "$100 \\in \\boldsymbol N$\n",
        "\n",
        "円周率 $\\pi$ は実数であるが、有理数ではない。\n",
        "\n",
        "$\\pi \\in \\boldsymbol Z \\land \\pi \\not \\in \\boldsymbol Q$\n",
        "\n",
        "\n"
      ]
    },
    {
      "cell_type": "markdown",
      "metadata": {
        "id": "m2ROVBP4G9o8"
      },
      "source": [
        "---\n",
        "$x$ は集合 $A$ の元であるが、集合 $B$ の元ではない。\n",
        "\n",
        "$x \\in A \\land x \\not \\in B$\n",
        "\n",
        "$z$ は集合 $X$ に属していないが、集合 $Z$ には属している。\n",
        "\n",
        "$z \\not \\in X \\land z \\in Z$\n",
        "\n",
        "自然対数の底 $e$ は有理数ではない。\n",
        "\n",
        "$ e \\not \\in \\boldsymbol Q$\n",
        "\n",
        "1 は自然数であるが、複素数でもある。\n",
        "\n",
        "$1 \\in \\boldsymbol N \\land 1 \\in \\boldsymbol C$"
      ]
    },
    {
      "cell_type": "markdown",
      "metadata": {
        "id": "-DOh6-k9SKHr"
      },
      "source": [
        "カントール 1845-1918 集合論の創始者\n",
        "\n",
        "偶数の定義は次のでもよいか。\n",
        "\n",
        "$\\{2n \\;|\\; n \\in \\boldsymbol Z \\}$\n",
        "\n",
        "奇数\n",
        "\n",
        "$\\{2n - 1 \\;|\\; n \\in \\boldsymbol Z \\}$\n",
        "\n",
        "有理数\n",
        "\n",
        "$\\{x \\;|\\; x = \\displaystyle \\frac m n \\land m \\in \\boldsymbol Z \\land n \\in \\boldsymbol Z \\land m \\neq 0\\}$\n",
        "\n",
        "複素数\n",
        "\n",
        "$\\{z \\;|\\; z = x+yi \\land x \\in \\boldsymbol R \\land y \\in \\boldsymbol R\\}$\n",
        "\n"
      ]
    },
    {
      "cell_type": "markdown",
      "metadata": {
        "id": "wrAMQrB0UXpx"
      },
      "source": [
        "p. 8 例題 1.1.3\n",
        "\n",
        "5 で割り切れる自然数全体の集合 $A$\n",
        "\n",
        "$A = \\{n \\;|\\; n=5m \\land m \\in \\boldsymbol N\\}$\n",
        "\n",
        "不等式 $x^2+x-2\\leq 0$ を満たす整数全体の集合 $B$\n",
        "\n",
        "$B = \\{x \\;|\\; x^2+x-2\\leq 0 \\land x \\in Z\\}$\n",
        "\n",
        "不等式 $x^2+x-2\\leq 0$ を満たす実数全体の集合 $C$\n",
        "\n",
        "$C = \\{x \\;|\\; x^2+x-2\\leq 0 \\land x \\in R\\}$\n",
        "\n",
        "行列式の値が 1 であるような実数成分をもつ 2 次の正方行列全体 $M$\n",
        "\n",
        "$M = \\left \\{ A \\;|\\; A = \\begin{bmatrix} a & b \\\\ c & d \\end{bmatrix} \\land (a \\in R \\land b \\in R \\land c \\in R \\land d \\in R) \\land |A| = 1 \\right \\}$\n",
        "\n",
        "$M = \\left \\{ A \\;|\\; A = \\begin{bmatrix} a & b \\\\ c & d \\end{bmatrix} \\land (a,b,c,d \\in R) \\land ad - bc = 1 \\right \\}$\n",
        "\n",
        "$M = \\left \\{ A \\;|\\; A = \\begin{bmatrix} a & b \\\\ c & d \\end{bmatrix} \\land (a,b,c,d \\in R) \\land \\det A = 1 \\right \\}$"
      ]
    },
    {
      "cell_type": "markdown",
      "metadata": {
        "id": "PnuAS_JZoQv4"
      },
      "source": [
        "---\n",
        "3 で割ると余りが 1 である自然数全体の集合 $A$\n",
        "\n",
        "$A = \\{n \\;|\\; (n=(3 (m-1)+1)) \\land m \\in \\boldsymbol N\\}$\n",
        "\n",
        "$A = \\{n \\;|\\; n=3m+1 \\land (m = 0,1,2,\\cdots)\\}$\n",
        "\n",
        "$A = \\{n \\;|\\; n=3m+1 \\land (m \\in \\boldsymbol N \\lor m = 0)\\}$\n",
        "\n",
        "不等式 $x^2+2x-1\\leq 0$ を満たす整数全体の集合 $B$\n",
        "\n",
        "$B = \\{x \\;|\\; x^2+2x-1\\leq 0 \\land x \\in Z\\}$\n",
        "\n",
        "不等式 $x^2+2x-1\\gt 0$ を満たす実数全体の集合 $C$\n",
        "\n",
        "$C = \\{x \\;|\\; x^2+2x-1\\gt 0 \\land x \\in R\\}$\n",
        "\n",
        "実数成分をもつ 2 次の正方行列の中で、逆行列が存在するもの全体 $M$\n",
        "\n",
        "$M = \\left \\{ A \\;|\\; A = \\begin{bmatrix} a & b \\\\ c & d \\end{bmatrix} \\land (a \\in R \\land b \\in R \\land c \\in R \\land d \\in R) \\land |A| \\neq 0 \\right \\}$\n",
        "\n",
        "$M = \\left \\{ A \\;|\\; A = \\begin{bmatrix} a & b \\\\ c & d \\end{bmatrix} \\land (a,b,c,d \\in R) \\land ad - bc \\neq 0 \\right \\}$\n",
        "\n",
        "$M = \\left \\{ A \\;|\\; A = \\begin{bmatrix} a & b \\\\ c & d \\end{bmatrix} \\land (a,b,c,d \\in R) \\land A^{-1}A = 1 \\right \\}$\n",
        "\n",
        "\n"
      ]
    },
    {
      "cell_type": "code",
      "metadata": {
        "id": "ftT04-Dwsv4J",
        "outputId": "6ebf66d1-326f-43dc-ff71-36b2fbe36199",
        "colab": {
          "base_uri": "https://localhost:8080/",
          "height": 57
        }
      },
      "source": [
        "%%latex\n",
        "\\forall \\\\\n",
        "\\exists"
      ],
      "execution_count": 1,
      "outputs": [
        {
          "output_type": "display_data",
          "data": {
            "text/latex": "\n\\forall \\\\\n\\exists",
            "text/plain": [
              "<IPython.core.display.Latex object>"
            ]
          },
          "metadata": {
            "tags": []
          }
        }
      ]
    },
    {
      "cell_type": "markdown",
      "metadata": {
        "id": "FOstPDDzs5Zl"
      },
      "source": [
        "---\n",
        "$\\forall x \\in \\boldsymbol R ,\\quad x^2 \\geq 0$\n",
        "\n",
        "すべての実数は 2 乗すると正または 0 である。\n",
        "\n",
        "メモ $\\quad$ この論理式のカンマは $\\land$ には書き換えられない。 カンマの意味が不明なので\n",
        "\n",
        "$\\forall x \\in \\boldsymbol R \\quad [x^2 \\geq 0]$\n",
        "\n",
        "もしくは\n",
        "\n",
        "$\\forall x \\in \\boldsymbol R \\quad x^2 \\geq 0$\n",
        "\n",
        "とすべきなのではないか。\n"
      ]
    },
    {
      "cell_type": "code",
      "metadata": {
        "id": "UlCFBKtZt-Xi"
      },
      "source": [
        ""
      ],
      "execution_count": null,
      "outputs": []
    }
  ]
}