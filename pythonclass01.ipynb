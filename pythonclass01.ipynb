{
  "nbformat": 4,
  "nbformat_minor": 0,
  "metadata": {
    "colab": {
      "name": "pythonclass01.ipynb",
      "provenance": [],
      "toc_visible": true,
      "authorship_tag": "ABX9TyNVEZGjnw07rnoTwInaaRit",
      "include_colab_link": true
    },
    "kernelspec": {
      "name": "python3",
      "display_name": "Python 3"
    }
  },
  "cells": [
    {
      "cell_type": "markdown",
      "metadata": {
        "id": "view-in-github",
        "colab_type": "text"
      },
      "source": [
        "<a href=\"https://colab.research.google.com/github/kalz2q/mycolabnotebooks/blob/master/pythonclass01.ipynb\" target=\"_parent\"><img src=\"https://colab.research.google.com/assets/colab-badge.svg\" alt=\"Open In Colab\"/></a>"
      ]
    },
    {
      "cell_type": "markdown",
      "metadata": {
        "id": "h0xl79xSo4P8"
      },
      "source": [
        "# メモ\n",
        "\n",
        "python の class のところの tutorial を読んでいる。\n",
        "\n",
        "https://docs.python.org/3/tutorial/classes.html\n",
        "\n",
        "説明が何を言っているのかわからないので、とりあえずサンプルを順次実行して読んでいく。\n",
        "\n"
      ]
    },
    {
      "cell_type": "markdown",
      "metadata": {
        "id": "yrJddglkkd8c"
      },
      "source": [
        "# クラス"
      ]
    },
    {
      "cell_type": "code",
      "metadata": {
        "id": "90dv5FimpCWY",
        "outputId": "d2c65f3c-6024-4e66-d4e5-a287b94ddc4a",
        "colab": {
          "base_uri": "https://localhost:8080/",
          "height": 86
        }
      },
      "source": [
        "def scope_test():\n",
        "    def do_local():\n",
        "        spam = \"local spam\"\n",
        "\n",
        "    def do_nonlocal():\n",
        "        nonlocal spam\n",
        "        spam = \"nonlocal spam\"\n",
        "\n",
        "    def do_global():\n",
        "        global spam\n",
        "        spam = \"global spam\"\n",
        "\n",
        "    spam = \"test spam\"\n",
        "    do_local()\n",
        "    print(\"After local assignment:\", spam)\n",
        "    do_nonlocal()\n",
        "    print(\"After nonlocal assignment:\", spam)\n",
        "    do_global()\n",
        "    print(\"After global assignment:\", spam)\n",
        "\n",
        "scope_test()\n",
        "print(\"In global scope:\", spam)"
      ],
      "execution_count": null,
      "outputs": [
        {
          "output_type": "stream",
          "text": [
            "After local assignment: test spam\n",
            "After nonlocal assignment: nonlocal spam\n",
            "After global assignment: nonlocal spam\n",
            "In global scope: global spam\n"
          ],
          "name": "stdout"
        }
      ]
    },
    {
      "cell_type": "markdown",
      "metadata": {
        "id": "pcDKrzhPqfZ_"
      },
      "source": [
        "普通、global な変数は local の外、global な場所で代入すると思うのだが、この例を見ると、scope_test() の中で global な変数に代入ができて、しかも、scope の中の変数を上書きしていない。 まあ、話はわかるが、あらためて下らない言語だと思う。 まあいいか。\n",
        "\n"
      ]
    },
    {
      "cell_type": "markdown",
      "metadata": {
        "id": "SqfyDPv1rR8G"
      },
      "source": [
        "class は大文字で始まる。 次のように定義する。\n"
      ]
    },
    {
      "cell_type": "code",
      "metadata": {
        "id": "Zd-FsuisoYFK"
      },
      "source": [
        "class ClassName:\n",
        "    '''\n",
        "    <statement-1>\n",
        "    ...\n",
        "    <statement-N>'''\n",
        "    pass"
      ],
      "execution_count": null,
      "outputs": []
    },
    {
      "cell_type": "markdown",
      "metadata": {
        "id": "FFzbwM95rx1J"
      },
      "source": [
        "次のようにクラスを作ると、属性参照でクラス内の変数や関数を扱うことになる。"
      ]
    },
    {
      "cell_type": "code",
      "metadata": {
        "id": "nftIQJwWsCeC",
        "outputId": "7f2ca8ee-c727-4e5c-cd6b-8cb33e01d07c",
        "colab": {
          "base_uri": "https://localhost:8080/",
          "height": 84
        }
      },
      "source": [
        "class MyClass:\n",
        "    \"\"\"A simple example class\"\"\"\n",
        "    i = 12345\n",
        "\n",
        "    def f(self):\n",
        "        return 'hello world'\n",
        "\n",
        "print(MyClass.i)\n",
        "x = MyClass()\n",
        "print(x)\n",
        "print(x.f())\n",
        "print(x.i)"
      ],
      "execution_count": 5,
      "outputs": [
        {
          "output_type": "stream",
          "text": [
            "12345\n",
            "<__main__.MyClass object at 0x7f9eeeba5c18>\n",
            "hello world\n",
            "12345\n"
          ],
          "name": "stdout"
        }
      ]
    },
    {
      "cell_type": "markdown",
      "metadata": {
        "id": "4PooaZqbtfbj"
      },
      "source": [
        "インスタンスの作成は x = MyClass() のように行うが、定義に次のようにしておくと、生成時の状態を作ることができる。\n",
        "\n",
        "```python\n",
        "def __int__(self):\n",
        "  self.darta=[]\n",
        "```\n"
      ]
    },
    {
      "cell_type": "markdown",
      "metadata": {
        "id": "jBgVKMZzvFG_"
      },
      "source": [
        "引数の受渡しができる。"
      ]
    },
    {
      "cell_type": "code",
      "metadata": {
        "id": "XeSEKyR2uaRb",
        "outputId": "9856e731-cc0a-4445-e441-6cf74fc02fb2",
        "colab": {
          "base_uri": "https://localhost:8080/",
          "height": 34
        }
      },
      "source": [
        "class Complex:\n",
        "    def __init__(self, realpart, imagpart):\n",
        "        self.r = realpart\n",
        "        self.i = imagpart\n",
        "\n",
        "x = Complex(3.0, -4.5)\n",
        "\n",
        "print(x.r, x.i)\n"
      ],
      "execution_count": null,
      "outputs": [
        {
          "output_type": "stream",
          "text": [
            "3.0 -4.5\n"
          ],
          "name": "stdout"
        }
      ]
    },
    {
      "cell_type": "code",
      "metadata": {
        "id": "UCg0PAoCurf3",
        "outputId": "e982704f-d786-41b5-e176-82127d70cbea",
        "colab": {
          "base_uri": "https://localhost:8080/",
          "height": 67
        }
      },
      "source": [
        "# 実験\n",
        "\n",
        "print(3+5j)\n",
        "print(complex(5,8))\n",
        "print(Complex(7,9))"
      ],
      "execution_count": null,
      "outputs": [
        {
          "output_type": "stream",
          "text": [
            "(3+5j)\n",
            "(5+8j)\n",
            "<__main__.Complex object at 0x7f0402abb860>\n"
          ],
          "name": "stdout"
        }
      ]
    },
    {
      "cell_type": "markdown",
      "metadata": {
        "id": "_eWsgCi8BStN"
      },
      "source": [
        "インスタンスの変数は自動的に作られる。"
      ]
    },
    {
      "cell_type": "code",
      "metadata": {
        "id": "7CUVLRikBZV5",
        "outputId": "29af4983-6250-47dd-b010-b3d95d9a356b",
        "colab": {
          "base_uri": "https://localhost:8080/",
          "height": 34
        }
      },
      "source": [
        "class MyClass:\n",
        "    pass\n",
        "\n",
        "x = MyClass\n",
        "x.counter=1\n",
        "while x.counter<10:\n",
        "    x.counter=x.counter*2\n",
        "print(x.counter)\n",
        "del x.counter"
      ],
      "execution_count": null,
      "outputs": [
        {
          "output_type": "stream",
          "text": [
            "16\n"
          ],
          "name": "stdout"
        }
      ]
    },
    {
      "cell_type": "markdown",
      "metadata": {
        "id": "nJx5gK_rhhFO"
      },
      "source": [
        "むむむぅ。こんなことができることがいいことなのか。 まあいいか。"
      ]
    },
    {
      "cell_type": "code",
      "metadata": {
        "id": "6GE6XfFOjfF5",
        "outputId": "bd4f81a4-e734-4c64-83e5-e0f1a9b53b29",
        "colab": {
          "base_uri": "https://localhost:8080/",
          "height": 134
        }
      },
      "source": [
        "class MyClass:\n",
        "    \"\"\"A simple example class\"\"\"\n",
        "    i = 12345\n",
        "\n",
        "    def f(self):\n",
        "        return 'hello world'\n",
        "\n",
        "print(MyClass.i)\n",
        "x = MyClass()\n",
        "print(x)\n",
        "print(x.f())\n",
        "print(x.i)\n",
        "print(MyClass.f(MyClass())) # x.f is not same as MyClass.f\n",
        "xf = x.f\n",
        "print(xf)\n",
        "print(x.f())"
      ],
      "execution_count": 7,
      "outputs": [
        {
          "output_type": "stream",
          "text": [
            "12345\n",
            "<__main__.MyClass object at 0x7f9eeeba5a90>\n",
            "hello world\n",
            "12345\n",
            "hello world\n",
            "<bound method MyClass.f of <__main__.MyClass object at 0x7f9eeeba5a90>>\n",
            "hello world\n"
          ],
          "name": "stdout"
        }
      ]
    },
    {
      "cell_type": "markdown",
      "metadata": {
        "id": "ypV6vGPikDiq"
      },
      "source": [
        "## クラス変数とインスタンス変数"
      ]
    },
    {
      "cell_type": "code",
      "metadata": {
        "id": "R_yqez5Mkifp",
        "outputId": "0dbbaab5-ab28-4615-b8bb-60fa1cd26393",
        "colab": {
          "base_uri": "https://localhost:8080/",
          "height": 84
        }
      },
      "source": [
        "class Dog:\n",
        "\n",
        "    kind = 'canine'         # class variable shared by all instances\n",
        "\n",
        "    def __init__(self, name):\n",
        "        self.name = name    # instance variable unique to each instance\n",
        "\n",
        "d = Dog('Fido')\n",
        "e = Dog('Buddy')\n",
        "print(d.kind)                  # shared by all dogs\n",
        "print(e.kind)                  # shared by all dogs\n",
        "print(d.name)                  # unique to d\n",
        "print(e.name)                  # unique to e"
      ],
      "execution_count": 8,
      "outputs": [
        {
          "output_type": "stream",
          "text": [
            "canine\n",
            "canine\n",
            "Fido\n",
            "Buddy\n"
          ],
          "name": "stdout"
        }
      ]
    }
  ]
}