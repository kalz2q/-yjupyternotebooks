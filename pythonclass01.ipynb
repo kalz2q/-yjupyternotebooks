{
  "nbformat": 4,
  "nbformat_minor": 0,
  "metadata": {
    "colab": {
      "name": "pythonclass01.ipynb",
      "provenance": [],
      "toc_visible": true,
      "authorship_tag": "ABX9TyPqBnfLYHMAvcd0nI4Jckkj",
      "include_colab_link": true
    },
    "kernelspec": {
      "name": "python3",
      "display_name": "Python 3"
    }
  },
  "cells": [
    {
      "cell_type": "markdown",
      "metadata": {
        "id": "view-in-github",
        "colab_type": "text"
      },
      "source": [
        "<a href=\"https://colab.research.google.com/github/kalz2q/mycolabnotebooks/blob/master/pythonclass01.ipynb\" target=\"_parent\"><img src=\"https://colab.research.google.com/assets/colab-badge.svg\" alt=\"Open In Colab\"/></a>"
      ]
    },
    {
      "cell_type": "markdown",
      "metadata": {
        "id": "h0xl79xSo4P8"
      },
      "source": [
        "# メモ\n",
        "\n",
        "python の class のところの tutorial を読んでいる。\n",
        "\n",
        "https://docs.python.org/3/tutorial/classes.html\n",
        "\n",
        "説明が何を言っているのかわからないので、とりあえずサンプルを順次実行して実験しながら読んでいく。\n"
      ]
    },
    {
      "cell_type": "markdown",
      "metadata": {
        "id": "yrJddglkkd8c"
      },
      "source": [
        "# 変数のスコープ"
      ]
    },
    {
      "cell_type": "code",
      "metadata": {
        "id": "90dv5FimpCWY",
        "colab": {
          "base_uri": "https://localhost:8080/"
        },
        "outputId": "d7d6cafd-bf6a-4616-aace-730b6ccfcea5"
      },
      "source": [
        "# 変数のスコープ\n",
        "def scope_test():\n",
        "    def do_local():\n",
        "        spam = \"local spam\"\n",
        "\n",
        "    def do_nonlocal():\n",
        "        nonlocal spam\n",
        "        spam = \"nonlocal spam\"\n",
        "\n",
        "    def do_global():\n",
        "        global spam\n",
        "        spam = \"global spam\"\n",
        "\n",
        "    spam = \"test spam\"\n",
        "    do_local()\n",
        "    print(\"After local assignment:\", spam) #=> test spam\n",
        "    do_nonlocal()\n",
        "    print(\"After nonlocal assignment:\", spam) #=> nonlocal spam\n",
        "    do_global()\n",
        "    print(\"After global assignment:\", spam) #=> nonlocal spam\n",
        "\n",
        "scope_test()\n",
        "print(\"In global scope:\", spam) #=> global spam"
      ],
      "execution_count": 5,
      "outputs": [
        {
          "output_type": "stream",
          "text": [
            "After local assignment: test spam\n",
            "After global assignment: test spam\n",
            "In global scope: global spam\n"
          ],
          "name": "stdout"
        }
      ]
    },
    {
      "cell_type": "code",
      "metadata": {
        "colab": {
          "base_uri": "https://localhost:8080/"
        },
        "id": "B58862nDRm2V",
        "outputId": "3b584a26-607c-4113-9881-c89467c411b4"
      },
      "source": [
        "# 実験 変数のスコープ\r\n",
        "spam = \"global spam\"\r\n",
        "def scope_test():\r\n",
        "    def do_global():\r\n",
        "        global spam\r\n",
        "        print(\"in do_global:\", spam) #=> global spam\r\n",
        "        spam = \"global spam 2\"\r\n",
        "        print(\"in do_global:\", spam) #=> global spam\r\n",
        "\r\n",
        "    spam = \"test spam\"\r\n",
        "    do_global()\r\n",
        "    print(\"After global assignment:\", spam) #=> test spam\r\n",
        "\r\n",
        "scope_test()\r\n",
        "print(\"In global scope:\", spam) #=> global spam"
      ],
      "execution_count": 8,
      "outputs": [
        {
          "output_type": "stream",
          "text": [
            "in do_global: global spam\n",
            "in do_global: global spam 2\n",
            "After global assignment: test spam\n",
            "In global scope: global spam 2\n"
          ],
          "name": "stdout"
        }
      ]
    },
    {
      "cell_type": "code",
      "metadata": {
        "id": "kEcLHckAj4kt"
      },
      "source": [
        "# 普通に local は local で global は global なのだと思うがまあいいか。"
      ],
      "execution_count": null,
      "outputs": []
    },
    {
      "cell_type": "markdown",
      "metadata": {
        "id": "A6doIybOTIEz"
      },
      "source": [
        "# クラス"
      ]
    },
    {
      "cell_type": "markdown",
      "metadata": {
        "id": "SqfyDPv1rR8G"
      },
      "source": [
        "class は大文字で始まる。 次のように定義する。\n"
      ]
    },
    {
      "cell_type": "code",
      "metadata": {
        "id": "Zd-FsuisoYFK"
      },
      "source": [
        "%%script false\n",
        "\n",
        "class ClassName:\n",
        "    <statement-1>\n",
        "    .\n",
        "    .\n",
        "    .\n",
        "    <statement-N>\n"
      ],
      "execution_count": null,
      "outputs": []
    },
    {
      "cell_type": "markdown",
      "metadata": {
        "id": "FFzbwM95rx1J"
      },
      "source": [
        "次のようにクラスを作ると、属性参照でクラス内の変数や関数を扱うことになる。"
      ]
    },
    {
      "cell_type": "code",
      "metadata": {
        "id": "nftIQJwWsCeC",
        "colab": {
          "base_uri": "https://localhost:8080/"
        },
        "outputId": "51f0305c-094e-4fc6-c3b4-76ca6096997b"
      },
      "source": [
        "class MyClass:\n",
        "    \"\"\"A simple example class\"\"\"\n",
        "    i = 12345\n",
        "\n",
        "    def f(self):\n",
        "        return 'hello world'\n",
        "\n",
        "print(MyClass.i) #=> 12345\n",
        "x = MyClass()\n",
        "print(x) #=> <__main__.MyClass object at 0x7fd942f5edd0>\n",
        "print(x.f()) #=> hello world\n",
        "print(x.i) #=> 12345"
      ],
      "execution_count": null,
      "outputs": [
        {
          "output_type": "stream",
          "text": [
            "12345\n",
            "<__main__.MyClass object at 0x7fd9409314d0>\n",
            "hello world\n",
            "12345\n"
          ],
          "name": "stdout"
        }
      ]
    },
    {
      "cell_type": "markdown",
      "metadata": {
        "id": "4PooaZqbtfbj"
      },
      "source": [
        "インスタンスの作成は x = MyClass() のように行うが、定義に次のようにしておくと、生成時の状態を作ることができる。\n",
        "\n",
        "```python\n",
        "def __int__(self):\n",
        "  self.data=[]\n",
        "```\n"
      ]
    },
    {
      "cell_type": "markdown",
      "metadata": {
        "id": "jBgVKMZzvFG_"
      },
      "source": [
        "引数の受渡しができる。"
      ]
    },
    {
      "cell_type": "code",
      "metadata": {
        "id": "XeSEKyR2uaRb",
        "colab": {
          "base_uri": "https://localhost:8080/",
          "height": 34
        },
        "outputId": "9856e731-cc0a-4445-e441-6cf74fc02fb2"
      },
      "source": [
        "class Complex:\n",
        "    def __init__(self, realpart, imagpart):\n",
        "        self.r = realpart\n",
        "        self.i = imagpart\n",
        "\n",
        "x = Complex(3.0, -4.5)\n",
        "\n",
        "print(x.r, x.i)\n"
      ],
      "execution_count": null,
      "outputs": [
        {
          "output_type": "stream",
          "text": [
            "3.0 -4.5\n"
          ],
          "name": "stdout"
        }
      ]
    },
    {
      "cell_type": "code",
      "metadata": {
        "id": "UCg0PAoCurf3",
        "colab": {
          "base_uri": "https://localhost:8080/",
          "height": 67
        },
        "outputId": "e982704f-d786-41b5-e176-82127d70cbea"
      },
      "source": [
        "# 実験\n",
        "\n",
        "print(3+5j)\n",
        "print(complex(5,8))\n",
        "print(Complex(7,9))"
      ],
      "execution_count": null,
      "outputs": [
        {
          "output_type": "stream",
          "text": [
            "(3+5j)\n",
            "(5+8j)\n",
            "<__main__.Complex object at 0x7f0402abb860>\n"
          ],
          "name": "stdout"
        }
      ]
    },
    {
      "cell_type": "markdown",
      "metadata": {
        "id": "_eWsgCi8BStN"
      },
      "source": [
        "インスタンスの変数は自動的に作られる。"
      ]
    },
    {
      "cell_type": "markdown",
      "metadata": {
        "id": "lU3M9KWOkNuL"
      },
      "source": [
        "# いまここ"
      ]
    },
    {
      "cell_type": "code",
      "metadata": {
        "id": "7CUVLRikBZV5",
        "colab": {
          "base_uri": "https://localhost:8080/",
          "height": 34
        },
        "outputId": "29af4983-6250-47dd-b010-b3d95d9a356b"
      },
      "source": [
        "class MyClass:\n",
        "    pass\n",
        "\n",
        "x = MyClass\n",
        "x.counter=1\n",
        "while x.counter<10:\n",
        "    x.counter=x.counter*2\n",
        "print(x.counter)\n",
        "del x.counter"
      ],
      "execution_count": null,
      "outputs": [
        {
          "output_type": "stream",
          "text": [
            "16\n"
          ],
          "name": "stdout"
        }
      ]
    },
    {
      "cell_type": "markdown",
      "metadata": {
        "id": "nJx5gK_rhhFO"
      },
      "source": [
        "むむむぅ。こんなことができることがいいことなのか。 まあいいか。"
      ]
    },
    {
      "cell_type": "code",
      "metadata": {
        "id": "6GE6XfFOjfF5",
        "colab": {
          "base_uri": "https://localhost:8080/",
          "height": 134
        },
        "outputId": "bd4f81a4-e734-4c64-83e5-e0f1a9b53b29"
      },
      "source": [
        "class MyClass:\n",
        "    \"\"\"A simple example class\"\"\"\n",
        "    i = 12345\n",
        "\n",
        "    def f(self):\n",
        "        return 'hello world'\n",
        "\n",
        "print(MyClass.i)\n",
        "x = MyClass()\n",
        "print(x)\n",
        "print(x.f())\n",
        "print(x.i)\n",
        "print(MyClass.f(MyClass())) # x.f is not same as MyClass.f\n",
        "xf = x.f\n",
        "print(xf)\n",
        "print(x.f())"
      ],
      "execution_count": null,
      "outputs": [
        {
          "output_type": "stream",
          "text": [
            "12345\n",
            "<__main__.MyClass object at 0x7f9eeeba5a90>\n",
            "hello world\n",
            "12345\n",
            "hello world\n",
            "<bound method MyClass.f of <__main__.MyClass object at 0x7f9eeeba5a90>>\n",
            "hello world\n"
          ],
          "name": "stdout"
        }
      ]
    },
    {
      "cell_type": "markdown",
      "metadata": {
        "id": "ypV6vGPikDiq"
      },
      "source": [
        "## クラス変数とインスタンス変数"
      ]
    },
    {
      "cell_type": "code",
      "metadata": {
        "id": "R_yqez5Mkifp",
        "colab": {
          "base_uri": "https://localhost:8080/",
          "height": 84
        },
        "outputId": "0dbbaab5-ab28-4615-b8bb-60fa1cd26393"
      },
      "source": [
        "class Dog:\n",
        "\n",
        "    kind = 'canine'         # class variable shared by all instances\n",
        "\n",
        "    def __init__(self, name):\n",
        "        self.name = name    # instance variable unique to each instance\n",
        "\n",
        "d = Dog('Fido')\n",
        "e = Dog('Buddy')\n",
        "print(d.kind)                  # shared by all dogs\n",
        "print(e.kind)                  # shared by all dogs\n",
        "print(d.name)                  # unique to d\n",
        "print(e.name)                  # unique to e"
      ],
      "execution_count": null,
      "outputs": [
        {
          "output_type": "stream",
          "text": [
            "canine\n",
            "canine\n",
            "Fido\n",
            "Buddy\n"
          ],
          "name": "stdout"
        }
      ]
    },
    {
      "cell_type": "markdown",
      "metadata": {
        "id": "HdUBdUE88BS5"
      },
      "source": [
        "次のようなことはやっちゃいけない、とか。"
      ]
    },
    {
      "cell_type": "code",
      "metadata": {
        "id": "f3YLwG7D8EXl",
        "colab": {
          "base_uri": "https://localhost:8080/",
          "height": 35
        },
        "outputId": "1e70b860-49d5-4325-ffc7-b956c1191fc4"
      },
      "source": [
        "class Dog:\n",
        "\n",
        "    tricks = []             # mistaken use of a class variable\n",
        "\n",
        "    def __init__(self, name):\n",
        "        self.name = name\n",
        "\n",
        "    def add_trick(self, trick):\n",
        "        self.tricks.append(trick)\n",
        "\n",
        "d = Dog('Fido')\n",
        "e = Dog('Buddy')\n",
        "d.add_trick('roll over')\n",
        "e.add_trick('play dead')\n",
        "d.tricks                # unexpectedly shared by all dogs\n"
      ],
      "execution_count": null,
      "outputs": [
        {
          "output_type": "execute_result",
          "data": {
            "text/plain": [
              "['roll over', 'play dead']"
            ]
          },
          "metadata": {
            "tags": []
          },
          "execution_count": 1
        }
      ]
    },
    {
      "cell_type": "markdown",
      "metadata": {
        "id": "_tRhp-TL8vnj"
      },
      "source": [
        "正しくは次のようにやる。"
      ]
    },
    {
      "cell_type": "code",
      "metadata": {
        "id": "AeiYHMVI8zKg",
        "colab": {
          "base_uri": "https://localhost:8080/",
          "height": 52
        },
        "outputId": "0f3579f3-ae12-4f60-de7d-f7b6d0d2fce4"
      },
      "source": [
        "class Dog:\n",
        "\n",
        "    def __init__(self, name):\n",
        "        self.name = name\n",
        "        self.tricks = []    # creates a new empty list for each dog\n",
        "\n",
        "    def add_trick(self, trick):\n",
        "        self.tricks.append(trick)\n",
        "\n",
        "d = Dog('Fido')\n",
        "e = Dog('Buddy')\n",
        "d.add_trick('roll over')\n",
        "e.add_trick('play dead')\n",
        "print(d.tricks)\n",
        "['roll over']\n",
        "print(e.tricks)"
      ],
      "execution_count": null,
      "outputs": [
        {
          "output_type": "stream",
          "text": [
            "['roll over']\n",
            "['play dead']\n"
          ],
          "name": "stdout"
        }
      ]
    },
    {
      "cell_type": "markdown",
      "metadata": {
        "id": "7owhnMForYjV"
      },
      "source": [
        "# その他\n"
      ]
    },
    {
      "cell_type": "markdown",
      "metadata": {
        "id": "1dy4igPSrnX0"
      },
      "source": [
        "#### クラス変数とインスタンス変数の優先順序\n"
      ]
    },
    {
      "cell_type": "code",
      "metadata": {
        "id": "9a3v_eOmrvj4",
        "colab": {
          "base_uri": "https://localhost:8080/",
          "height": 50
        },
        "outputId": "600791b5-b1b1-4700-c57b-38a4418f81ac"
      },
      "source": [
        "class Warehouse:\n",
        "    purpose = 'storage'\n",
        "    region = 'west'\n",
        "w1 = Warehouse()\n",
        "print(w1.purpose, w1.region)\n",
        "w2 = Warehouse()\n",
        "w2.region = 'east'\n",
        "print(w2.purpose, w2.region)\n"
      ],
      "execution_count": null,
      "outputs": [
        {
          "output_type": "stream",
          "text": [
            "storage west\n",
            "storage east\n"
          ],
          "name": "stdout"
        }
      ]
    },
    {
      "cell_type": "markdown",
      "metadata": {
        "id": "ZeUaFlaZPjhz"
      },
      "source": [
        "# self と適用範囲\n",
        "\n",
        "次のようなことはできるがわかりにくくなる。"
      ]
    },
    {
      "cell_type": "code",
      "metadata": {
        "id": "zb3T_tA2sVAD",
        "colab": {
          "base_uri": "https://localhost:8080/",
          "height": 101
        },
        "outputId": "28eac8c8-6567-4eb0-fb2f-6299cdbdbde1"
      },
      "source": [
        "# Function defined outside the class\n",
        "def f1(self, x, y):\n",
        "    return min(x, x+y)\n",
        "\n",
        "class C:\n",
        "    f = f1\n",
        "\n",
        "    def g(self):\n",
        "        return 'hello world'\n",
        "\n",
        "    h = g\n",
        "\n",
        "# 実験\n",
        "\n",
        "x = C()\n",
        "print(f1((),3,2))\n",
        "print(x.f(3, 4))\n",
        "print(x.f(-3,4))\n",
        "print(x.g())\n",
        "print(x.h())\n"
      ],
      "execution_count": null,
      "outputs": [
        {
          "output_type": "stream",
          "text": [
            "3\n",
            "3\n",
            "-3\n",
            "hello world\n",
            "hello world\n"
          ],
          "name": "stdout"
        }
      ]
    },
    {
      "cell_type": "code",
      "metadata": {
        "id": "hDAjhK5dsbyi",
        "colab": {
          "base_uri": "https://localhost:8080/",
          "height": 34
        },
        "outputId": "0b094d8d-866a-45d0-c223-5e0b62e5b940"
      },
      "source": [
        "class Bag:\n",
        "    def __init__(self):\n",
        "        self.data = []\n",
        "\n",
        "    def add(self, x):\n",
        "        self.data.append(x)\n",
        "\n",
        "    def addtwice(self, x):\n",
        "        self.add(x)\n",
        "        self.add(x)\n",
        "\n",
        "x = Bag()\n",
        "x.add(3)\n",
        "x.addtwice(5)\n",
        "print(x.data)"
      ],
      "execution_count": null,
      "outputs": [
        {
          "output_type": "stream",
          "text": [
            "[3, 5, 5]\n"
          ],
          "name": "stdout"
        }
      ]
    },
    {
      "cell_type": "code",
      "metadata": {
        "id": "9Q1kOPN2RKJP",
        "colab": {
          "base_uri": "https://localhost:8080/",
          "height": 34
        },
        "outputId": "0b6ce703-c420-4785-e109-09afa202be28"
      },
      "source": [
        "# 実験\n",
        "\n",
        "class Bag:\n",
        "    def __init__(self):\n",
        "        self.data = []\n",
        "\n",
        "    def add(x):\n",
        "        data.append(x)\n",
        "\n",
        "    def addtwice(self, x):\n",
        "        self.add(x)\n",
        "        self.add(x)\n",
        "\n",
        "x = Bag()\n",
        "# x.add(3) #=> TypeError: add() takes 1 positional argument but 2 were given\n",
        "# x.addtwice(5) #=> TypeError: add() takes 1 positional argument but 2 were given\n",
        "print(x.data)"
      ],
      "execution_count": null,
      "outputs": [
        {
          "output_type": "stream",
          "text": [
            "[]\n"
          ],
          "name": "stdout"
        }
      ]
    },
    {
      "cell_type": "markdown",
      "metadata": {
        "id": "QPFXMdrBsihA"
      },
      "source": [
        "# 継承 inheritance"
      ]
    },
    {
      "cell_type": "markdown",
      "metadata": {
        "id": "LI8l3hhJsm8B"
      },
      "source": [
        "継承はつぎのように行う。"
      ]
    },
    {
      "cell_type": "code",
      "metadata": {
        "id": "Z8GTV811spYv"
      },
      "source": [
        "%%script false\n",
        "\n",
        "class DerivedClassName(BaseClassName):\n",
        "    <statement-1>\n",
        "    .\n",
        "    .\n",
        "    .\n",
        "    <statement-N>"
      ],
      "execution_count": null,
      "outputs": []
    },
    {
      "cell_type": "markdown",
      "metadata": {
        "id": "JPGsqlsMs4se"
      },
      "source": [
        "#### 多重継承 multiple inheritance\n"
      ]
    },
    {
      "cell_type": "code",
      "metadata": {
        "id": "kQlWpiE0s6iT"
      },
      "source": [
        "%%script false\n",
        "\n",
        "class DerivedClassName(Base1, Base2, Base3):\n",
        "    <statement-1>\n",
        "    .\n",
        "    .\n",
        "    .\n",
        "    <statement-N>"
      ],
      "execution_count": null,
      "outputs": []
    },
    {
      "cell_type": "code",
      "metadata": {
        "id": "woSSItzQtLE0"
      },
      "source": [
        "class Mapping:\n",
        "    def __init__(self, iterable):\n",
        "        self.items_list = []\n",
        "        self.__update(iterable)\n",
        "\n",
        "    def update(self, iterable):\n",
        "        for item in iterable:\n",
        "            self.items_list.append(item)\n",
        "\n",
        "    __update = update   # private copy of original update() method\n",
        "\n",
        "class MappingSubclass(Mapping):\n",
        "\n",
        "    def update(self, keys, values):\n",
        "        # provides new signature for update()\n",
        "        # but does not break __init__()\n",
        "        for item in zip(keys, values):\n",
        "            self.items_list.append(item)"
      ],
      "execution_count": null,
      "outputs": []
    },
    {
      "cell_type": "markdown",
      "metadata": {
        "id": "AQbEqzIdtQ41"
      },
      "source": [
        "### ガラクタ Odds and Ends¶\n",
        "\n"
      ]
    },
    {
      "cell_type": "markdown",
      "metadata": {
        "id": "6jo2O8xfuFTX"
      },
      "source": [
        "クラスを使って、Pascal の record や C の struct のようなことがでできる。\n"
      ]
    },
    {
      "cell_type": "code",
      "metadata": {
        "id": "EQkT3XcHtUFA"
      },
      "source": [
        "class Employee:\n",
        "    pass\n",
        "\n",
        "john = Employee()  # Create an empty employee record\n",
        "\n",
        "# Fill the fields of the record\n",
        "john.name = 'John Doe'\n",
        "john.dept = 'computer lab'\n",
        "john.salary = 1000"
      ],
      "execution_count": null,
      "outputs": []
    },
    {
      "cell_type": "markdown",
      "metadata": {
        "id": "U7SbhWIYtZWE"
      },
      "source": [
        "## イテレーター\n"
      ]
    },
    {
      "cell_type": "code",
      "metadata": {
        "id": "IJCaRFQGtqMQ",
        "colab": {
          "base_uri": "https://localhost:8080/"
        },
        "outputId": "f9a73bc3-9b5b-44fb-d2a5-0d5a1e541d80"
      },
      "source": [
        "for element in [1, 2, 3]:\n",
        "    print(element)\n",
        "for element in (1, 2, 3):\n",
        "    print(element)\n",
        "for key in {'one':1, 'two':2}:\n",
        "    print(key)\n",
        "for char in \"123\":\n",
        "    print(char)\n",
        "# for line in open(\"myfile.txt\"):\n",
        "#     print(line, end='')"
      ],
      "execution_count": null,
      "outputs": [
        {
          "output_type": "stream",
          "text": [
            "1\n",
            "2\n",
            "3\n",
            "1\n",
            "2\n",
            "3\n",
            "one\n",
            "two\n",
            "1\n",
            "2\n",
            "3\n"
          ],
          "name": "stdout"
        }
      ]
    },
    {
      "cell_type": "markdown",
      "metadata": {
        "id": "OHCbQDrLtrDI"
      },
      "source": [
        "イテレーター for の裏では iter() という関数が呼ばれて、イテレーターオブジェクトが作られる。 イテレーターオブジェクトでは __next__() メソッドで1つずつ処理される。\n",
        "\n"
      ]
    },
    {
      "cell_type": "code",
      "metadata": {
        "id": "4dVnvfGsttQg",
        "colab": {
          "base_uri": "https://localhost:8080/"
        },
        "outputId": "8a726c40-692a-48ac-f677-807ce18f911f"
      },
      "source": [
        "s = 'abc'\n",
        "it = iter(s)\n",
        "print(it) #=> <iterator object at 0x00A1DB50>\n",
        "print(next(it)) #=> 'a'\n",
        "print(next(it)) #=> 'b'\n",
        "print(next(it)) #=> 'c'\n",
        "# print(next(it)) #=> StopIteration\n"
      ],
      "execution_count": null,
      "outputs": [
        {
          "output_type": "stream",
          "text": [
            "<str_iterator object at 0x7effdfc95588>\n",
            "a\n",
            "b\n",
            "c\n"
          ],
          "name": "stdout"
        }
      ]
    },
    {
      "cell_type": "markdown",
      "metadata": {
        "id": "CzDMR8cltyCA"
      },
      "source": [
        "イテレーターの仕組みがわかったので、自分が作ったクラスにイテレーター動作をさせることができる。\n",
        "\n",
        "`__iter__()` メソッドと、`__next__()` メソッドをつくる。 `__iter__()` メソッドは self を返すだけでよい。\n"
      ]
    },
    {
      "cell_type": "code",
      "metadata": {
        "id": "YmuNcOoHt0Kl",
        "colab": {
          "base_uri": "https://localhost:8080/"
        },
        "outputId": "30e86586-18dd-4ed5-9bdc-4dc729107879"
      },
      "source": [
        "class Reverse:\n",
        "    \"\"\"Iterator for looping over a sequence backwards.\"\"\"\n",
        "    def __init__(self, data):\n",
        "        self.data = data\n",
        "        self.index = len(data)\n",
        "\n",
        "    def __iter__(self):\n",
        "        return self\n",
        "\n",
        "    def __next__(self):\n",
        "        if self.index == 0:\n",
        "            raise StopIteration\n",
        "        self.index = self.index - 1\n",
        "        return self.data[self.index]\n",
        "\n",
        "rev = Reverse('spam')\n",
        "print(rev)\n",
        "print(iter(rev))\n",
        "\n",
        "for char in rev:\n",
        "    print(char)\n",
        "\n",
        "# 実験\n",
        "print([char for char in 'a23'])\n",
        "print([char for char in rev])\n"
      ],
      "execution_count": null,
      "outputs": [
        {
          "output_type": "stream",
          "text": [
            "<__main__.Reverse object at 0x7f9609309c50>\n",
            "<__main__.Reverse object at 0x7f9609309c50>\n",
            "m\n",
            "a\n",
            "p\n",
            "s\n",
            "['a', '2', '3']\n",
            "[]\n"
          ],
          "name": "stdout"
        }
      ]
    },
    {
      "cell_type": "markdown",
      "metadata": {
        "id": "AvqI2j47t3yX"
      },
      "source": [
        "## ジェネレーター generator\n",
        "\n",
        "ジェネレーターはイテレーターを作るのに簡単で強力なツールである。\n",
        "\n",
        "ジェネレーターは通常の関数と同じ形をしているが、返り値として yield を使う。 next() が呼ばれると、ジェネレーターは前回終了時の状態を覚えていて、そこから動作が始まる。\n"
      ]
    },
    {
      "cell_type": "code",
      "metadata": {
        "id": "IPA2k908uHDJ",
        "colab": {
          "base_uri": "https://localhost:8080/"
        },
        "outputId": "29b4f7d9-ed96-43be-e2ce-1a82b4a22e1d"
      },
      "source": [
        "def reverse(data):\n",
        "    for index in range(len(data)-1, -1, -1):\n",
        "        yield data[index]\n",
        "\n",
        "for char in reverse('golf'):\n",
        "    print(char)\n",
        "\n",
        "# 実験\n",
        "\n",
        "[char for char in reverse('golf')]"
      ],
      "execution_count": null,
      "outputs": [
        {
          "output_type": "stream",
          "text": [
            "f\n",
            "l\n",
            "o\n",
            "g\n"
          ],
          "name": "stdout"
        },
        {
          "output_type": "execute_result",
          "data": {
            "text/plain": [
              "['f', 'l', 'o', 'g']"
            ]
          },
          "metadata": {
            "tags": []
          },
          "execution_count": 14
        }
      ]
    },
    {
      "cell_type": "code",
      "metadata": {
        "id": "ubEgOJIM_2QL",
        "colab": {
          "base_uri": "https://localhost:8080/"
        },
        "outputId": "3e0aa73d-0657-43a8-9835-4104ed748966"
      },
      "source": [
        "# 実験\n",
        "\n",
        "[x for x in range(10, -5, -1)]"
      ],
      "execution_count": null,
      "outputs": [
        {
          "output_type": "execute_result",
          "data": {
            "text/plain": [
              "[10, 9, 8, 7, 6, 5, 4, 3, 2, 1, 0, -1, -2, -3, -4]"
            ]
          },
          "metadata": {
            "tags": []
          },
          "execution_count": 17
        }
      ]
    },
    {
      "cell_type": "markdown",
      "metadata": {
        "id": "4AFdimHLuLyJ"
      },
      "source": [
        "## ジェネレーター式\n",
        "\n",
        "ジェネレーター式は、内包表記 list comprehension と似た文法で、かぎかっこ brackets の代わりに丸括弧 parenthesis を使った表記法である。\n"
      ]
    },
    {
      "cell_type": "code",
      "metadata": {
        "id": "sMDMdCezBIgs",
        "colab": {
          "base_uri": "https://localhost:8080/"
        },
        "outputId": "acc86fd2-c5b7-4c37-bffe-59a16eea1c39"
      },
      "source": [
        "# 実験\n",
        "\n",
        "print(sum([1,2,3]))\n",
        "print(sum(x for x in range(4)))\n",
        "print(sum([x for x in range(4)]))\n",
        "\n",
        "xvec=[10,20,30]\n",
        "yvec=[7,5,3]\n",
        "print(sum(x*y for x, y in zip(xvec,yvec)))\n",
        "\n"
      ],
      "execution_count": null,
      "outputs": [
        {
          "output_type": "stream",
          "text": [
            "6\n",
            "6\n",
            "6\n",
            "260\n"
          ],
          "name": "stdout"
        }
      ]
    },
    {
      "cell_type": "code",
      "metadata": {
        "id": "R3hbS8ZA_cyU"
      },
      "source": [
        "# 実験\n",
        "\n",
        "page='''this is a pen.  that is a ball.\n",
        "that is a book.\n",
        "the ball is round.'''\n",
        "\n",
        "unique_words = set(word for line in page.split('\\n')  for word in line.replace('.','').split())\n",
        "\n",
        "print(sorted(unique_words))\n"
      ],
      "execution_count": null,
      "outputs": []
    },
    {
      "cell_type": "code",
      "metadata": {
        "id": "lU0nnclAAPzQ",
        "colab": {
          "base_uri": "https://localhost:8080/"
        },
        "outputId": "490c9831-7dea-4eec-a3b0-d44130be5d2f"
      },
      "source": [
        "# 実験\n",
        "\n",
        "class Student:\n",
        "    pass\n",
        "\n",
        "john = Student()  \n",
        "sally = Student()\n",
        "bob = Student()\n",
        "\n",
        "john.name = 'John Doe'\n",
        "john.gpa = 300\n",
        "sally.name = 'Sally White'\n",
        "sally.gpa = 80\n",
        "bob.name = 'Bob Kennedy'\n",
        "bob.gpa = 290\n",
        "\n",
        "graduates = [john, sally, bob]\n",
        "\n",
        "valedictorian = max((student.gpa, student.name) for student in graduates)\n",
        "\n",
        "print(valedictorian)"
      ],
      "execution_count": null,
      "outputs": [
        {
          "output_type": "stream",
          "text": [
            "(300, 'John Doe')\n"
          ],
          "name": "stdout"
        }
      ]
    },
    {
      "cell_type": "code",
      "metadata": {
        "id": "Zhe5TEPMuPwX",
        "colab": {
          "base_uri": "https://localhost:8080/"
        },
        "outputId": "65f8aed9-c5b9-4920-8138-4eaa603b4dae"
      },
      "source": [
        "data = 'golf'\n",
        "list(data[i] for i in range(len(data)-1, -1, -1))\n"
      ],
      "execution_count": null,
      "outputs": [
        {
          "output_type": "execute_result",
          "data": {
            "text/plain": [
              "['f', 'l', 'o', 'g']"
            ]
          },
          "metadata": {
            "tags": []
          },
          "execution_count": 12
        }
      ]
    },
    {
      "cell_type": "markdown",
      "metadata": {
        "id": "kcQ1My3wC872"
      },
      "source": [
        "# 課題 from 100_numpy_exercises\n",
        "\n",
        "以上で python の class の tutorial を終わるが、そもそも読み始めたのは、100_numpy_exercises の解答で class を作る際に `__new__()` と `__array_finalize__()` というのを使っていてこれが class を作る時の特別なメソッドかと思ったのだがそれらについての記述はなかった。\n",
        "\n",
        "今のわたしの理解。 `__new__()` は `__init__()` と似ているが、少し違う。 その関係もあって、`__array_finalize__()` が必要。\n",
        "\n",
        "いずれにしても課題は、name 属性を持つ配列クラスを作る、ということなので、下記の解答の最後の\n",
        "\n",
        "``` python\n",
        "print(Z.name)\n",
        "```\n",
        "\n",
        "ではインスタンスの name 属性を調べているだけなので、\n",
        "\n",
        "``` python\n",
        "print(Z.__class__.name)\n",
        "```\n",
        "\n",
        "とする必要がある、と思う。"
      ]
    },
    {
      "cell_type": "code",
      "metadata": {
        "id": "7Xl-6yLgDS5g"
      },
      "source": [
        "class NamedArray(np.ndarray):\n",
        "    def __new__(cls, array, name=\"no name\"):\n",
        "        obj = np.asarray(array).view(cls)\n",
        "        obj.name = name\n",
        "        return obj\n",
        "    def __array_finalize__(self, obj):\n",
        "        if obj is None: return\n",
        "        self.info = getattr(obj, 'name', \"no name\")\n",
        "\n",
        "Z = NamedArray(np.arange(10), \"range_10\")\n",
        "print (Z.name)"
      ],
      "execution_count": null,
      "outputs": []
    }
  ]
}