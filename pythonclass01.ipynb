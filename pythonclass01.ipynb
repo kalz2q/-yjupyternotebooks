{
  "nbformat": 4,
  "nbformat_minor": 0,
  "metadata": {
    "colab": {
      "name": "pythonclass01.ipynb",
      "provenance": [],
      "authorship_tag": "ABX9TyMdvUqWuo8lf4nqKojsNXJb",
      "include_colab_link": true
    },
    "kernelspec": {
      "name": "python3",
      "display_name": "Python 3"
    }
  },
  "cells": [
    {
      "cell_type": "markdown",
      "metadata": {
        "id": "view-in-github",
        "colab_type": "text"
      },
      "source": [
        "<a href=\"https://colab.research.google.com/github/kalz2q/mycolabnotebooks/blob/master/pythonclass01.ipynb\" target=\"_parent\"><img src=\"https://colab.research.google.com/assets/colab-badge.svg\" alt=\"Open In Colab\"/></a>"
      ]
    },
    {
      "cell_type": "code",
      "metadata": {
        "id": "-ewCJYtCo2vv"
      },
      "source": [
        ""
      ],
      "execution_count": null,
      "outputs": []
    },
    {
      "cell_type": "markdown",
      "metadata": {
        "id": "h0xl79xSo4P8"
      },
      "source": [
        "# メモ\n",
        "\n",
        "python の class のところの tutorial を読んでいる。\n",
        "\n",
        "https://docs.python.org/3/tutorial/classes.html\n",
        "\n",
        "説明が何を言っているのかわからないので、とりあえずサンプルを順次実行して読んでいく。\n",
        "\n"
      ]
    },
    {
      "cell_type": "code",
      "metadata": {
        "id": "90dv5FimpCWY",
        "outputId": "d2c65f3c-6024-4e66-d4e5-a287b94ddc4a",
        "colab": {
          "base_uri": "https://localhost:8080/",
          "height": 86
        }
      },
      "source": [
        "def scope_test():\n",
        "    def do_local():\n",
        "        spam = \"local spam\"\n",
        "\n",
        "    def do_nonlocal():\n",
        "        nonlocal spam\n",
        "        spam = \"nonlocal spam\"\n",
        "\n",
        "    def do_global():\n",
        "        global spam\n",
        "        spam = \"global spam\"\n",
        "\n",
        "    spam = \"test spam\"\n",
        "    do_local()\n",
        "    print(\"After local assignment:\", spam)\n",
        "    do_nonlocal()\n",
        "    print(\"After nonlocal assignment:\", spam)\n",
        "    do_global()\n",
        "    print(\"After global assignment:\", spam)\n",
        "\n",
        "scope_test()\n",
        "print(\"In global scope:\", spam)"
      ],
      "execution_count": 1,
      "outputs": [
        {
          "output_type": "stream",
          "text": [
            "After local assignment: test spam\n",
            "After nonlocal assignment: nonlocal spam\n",
            "After global assignment: nonlocal spam\n",
            "In global scope: global spam\n"
          ],
          "name": "stdout"
        }
      ]
    },
    {
      "cell_type": "markdown",
      "metadata": {
        "id": "pcDKrzhPqfZ_"
      },
      "source": [
        "普通、global な変数は local の外、global な場所で代入すると思うのだが、この例を見ると、scope_test() の中で global な変数に代入ができて、しかも、scope の中の変数を上書きしていない。 まあ、話はわかるが、あらためて下らない言語だと思う。 まあいいか。\n",
        "\n"
      ]
    },
    {
      "cell_type": "markdown",
      "metadata": {
        "id": "SqfyDPv1rR8G"
      },
      "source": [
        "class は大文字で始まる。 次のように定義する。\n"
      ]
    },
    {
      "cell_type": "code",
      "metadata": {
        "id": "fy1gd5mKrGHp"
      },
      "source": [
        "class ClassName:\n",
        "    # <statement-1>\n",
        "    # <statement-N>\n",
        "    pass"
      ],
      "execution_count": 4,
      "outputs": []
    },
    {
      "cell_type": "markdown",
      "metadata": {
        "id": "Dr-7zih_sVvw"
      },
      "source": [
        "クラスオブジェクトは属性参照とインスタンス生成をサポートする。\n",
        "\n"
      ]
    }
  ]
}