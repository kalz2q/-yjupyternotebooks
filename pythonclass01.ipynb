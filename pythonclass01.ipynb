{
  "nbformat": 4,
  "nbformat_minor": 0,
  "metadata": {
    "colab": {
      "name": "pythonclass01.ipynb",
      "provenance": [],
      "toc_visible": true,
      "authorship_tag": "ABX9TyOfrwNSaMW5lzDYeVxHBsMi",
      "include_colab_link": true
    },
    "kernelspec": {
      "name": "python3",
      "display_name": "Python 3"
    }
  },
  "cells": [
    {
      "cell_type": "markdown",
      "metadata": {
        "id": "view-in-github",
        "colab_type": "text"
      },
      "source": [
        "<a href=\"https://colab.research.google.com/github/kalz2q/mycolabnotebooks/blob/master/pythonclass01.ipynb\" target=\"_parent\"><img src=\"https://colab.research.google.com/assets/colab-badge.svg\" alt=\"Open In Colab\"/></a>"
      ]
    },
    {
      "cell_type": "markdown",
      "metadata": {
        "id": "h0xl79xSo4P8"
      },
      "source": [
        "# メモ\n",
        "\n",
        "python の class のところの tutorial を読んでいる。\n",
        "\n",
        "https://docs.python.org/3/tutorial/classes.html\n",
        "\n",
        "説明が何を言っているのかわからないので、とりあえずサンプルを順次実行して実験しながら読んでいく。\n"
      ]
    },
    {
      "cell_type": "markdown",
      "metadata": {
        "id": "yrJddglkkd8c"
      },
      "source": [
        "# クラス"
      ]
    },
    {
      "cell_type": "code",
      "metadata": {
        "id": "90dv5FimpCWY",
        "outputId": "d2c65f3c-6024-4e66-d4e5-a287b94ddc4a",
        "colab": {
          "base_uri": "https://localhost:8080/",
          "height": 86
        }
      },
      "source": [
        "def scope_test():\n",
        "    def do_local():\n",
        "        spam = \"local spam\"\n",
        "\n",
        "    def do_nonlocal():\n",
        "        nonlocal spam\n",
        "        spam = \"nonlocal spam\"\n",
        "\n",
        "    def do_global():\n",
        "        global spam\n",
        "        spam = \"global spam\"\n",
        "\n",
        "    spam = \"test spam\"\n",
        "    do_local()\n",
        "    print(\"After local assignment:\", spam)\n",
        "    do_nonlocal()\n",
        "    print(\"After nonlocal assignment:\", spam)\n",
        "    do_global()\n",
        "    print(\"After global assignment:\", spam)\n",
        "\n",
        "scope_test()\n",
        "print(\"In global scope:\", spam)"
      ],
      "execution_count": null,
      "outputs": [
        {
          "output_type": "stream",
          "text": [
            "After local assignment: test spam\n",
            "After nonlocal assignment: nonlocal spam\n",
            "After global assignment: nonlocal spam\n",
            "In global scope: global spam\n"
          ],
          "name": "stdout"
        }
      ]
    },
    {
      "cell_type": "markdown",
      "metadata": {
        "id": "pcDKrzhPqfZ_"
      },
      "source": [
        "普通、global な変数は local の外、global な場所で代入すると思うのだが、この例を見ると、scope_test() の中で global な変数に代入ができて、しかも、scope の中の変数を上書きしていない。 まあ、話はわかるが、あらためて下らない言語だと思う。 まあいいか。\n",
        "\n"
      ]
    },
    {
      "cell_type": "markdown",
      "metadata": {
        "id": "SqfyDPv1rR8G"
      },
      "source": [
        "class は大文字で始まる。 次のように定義する。\n"
      ]
    },
    {
      "cell_type": "code",
      "metadata": {
        "id": "Zd-FsuisoYFK"
      },
      "source": [
        "class ClassName:\n",
        "    '''\n",
        "    <statement-1>\n",
        "    ...\n",
        "    <statement-N>'''\n",
        "    pass"
      ],
      "execution_count": null,
      "outputs": []
    },
    {
      "cell_type": "markdown",
      "metadata": {
        "id": "FFzbwM95rx1J"
      },
      "source": [
        "次のようにクラスを作ると、属性参照でクラス内の変数や関数を扱うことになる。"
      ]
    },
    {
      "cell_type": "code",
      "metadata": {
        "id": "nftIQJwWsCeC",
        "outputId": "7f2ca8ee-c727-4e5c-cd6b-8cb33e01d07c",
        "colab": {
          "base_uri": "https://localhost:8080/",
          "height": 84
        }
      },
      "source": [
        "class MyClass:\n",
        "    \"\"\"A simple example class\"\"\"\n",
        "    i = 12345\n",
        "\n",
        "    def f(self):\n",
        "        return 'hello world'\n",
        "\n",
        "print(MyClass.i)\n",
        "x = MyClass()\n",
        "print(x)\n",
        "print(x.f())\n",
        "print(x.i)"
      ],
      "execution_count": null,
      "outputs": [
        {
          "output_type": "stream",
          "text": [
            "12345\n",
            "<__main__.MyClass object at 0x7f9eeeba5c18>\n",
            "hello world\n",
            "12345\n"
          ],
          "name": "stdout"
        }
      ]
    },
    {
      "cell_type": "markdown",
      "metadata": {
        "id": "4PooaZqbtfbj"
      },
      "source": [
        "インスタンスの作成は x = MyClass() のように行うが、定義に次のようにしておくと、生成時の状態を作ることができる。\n",
        "\n",
        "```python\n",
        "def __int__(self):\n",
        "  self.darta=[]\n",
        "```\n"
      ]
    },
    {
      "cell_type": "markdown",
      "metadata": {
        "id": "jBgVKMZzvFG_"
      },
      "source": [
        "引数の受渡しができる。"
      ]
    },
    {
      "cell_type": "code",
      "metadata": {
        "id": "XeSEKyR2uaRb",
        "outputId": "9856e731-cc0a-4445-e441-6cf74fc02fb2",
        "colab": {
          "base_uri": "https://localhost:8080/",
          "height": 34
        }
      },
      "source": [
        "class Complex:\n",
        "    def __init__(self, realpart, imagpart):\n",
        "        self.r = realpart\n",
        "        self.i = imagpart\n",
        "\n",
        "x = Complex(3.0, -4.5)\n",
        "\n",
        "print(x.r, x.i)\n"
      ],
      "execution_count": null,
      "outputs": [
        {
          "output_type": "stream",
          "text": [
            "3.0 -4.5\n"
          ],
          "name": "stdout"
        }
      ]
    },
    {
      "cell_type": "code",
      "metadata": {
        "id": "UCg0PAoCurf3",
        "outputId": "e982704f-d786-41b5-e176-82127d70cbea",
        "colab": {
          "base_uri": "https://localhost:8080/",
          "height": 67
        }
      },
      "source": [
        "# 実験\n",
        "\n",
        "print(3+5j)\n",
        "print(complex(5,8))\n",
        "print(Complex(7,9))"
      ],
      "execution_count": null,
      "outputs": [
        {
          "output_type": "stream",
          "text": [
            "(3+5j)\n",
            "(5+8j)\n",
            "<__main__.Complex object at 0x7f0402abb860>\n"
          ],
          "name": "stdout"
        }
      ]
    },
    {
      "cell_type": "markdown",
      "metadata": {
        "id": "_eWsgCi8BStN"
      },
      "source": [
        "インスタンスの変数は自動的に作られる。"
      ]
    },
    {
      "cell_type": "code",
      "metadata": {
        "id": "7CUVLRikBZV5",
        "outputId": "29af4983-6250-47dd-b010-b3d95d9a356b",
        "colab": {
          "base_uri": "https://localhost:8080/",
          "height": 34
        }
      },
      "source": [
        "class MyClass:\n",
        "    pass\n",
        "\n",
        "x = MyClass\n",
        "x.counter=1\n",
        "while x.counter<10:\n",
        "    x.counter=x.counter*2\n",
        "print(x.counter)\n",
        "del x.counter"
      ],
      "execution_count": null,
      "outputs": [
        {
          "output_type": "stream",
          "text": [
            "16\n"
          ],
          "name": "stdout"
        }
      ]
    },
    {
      "cell_type": "markdown",
      "metadata": {
        "id": "nJx5gK_rhhFO"
      },
      "source": [
        "むむむぅ。こんなことができることがいいことなのか。 まあいいか。"
      ]
    },
    {
      "cell_type": "code",
      "metadata": {
        "id": "6GE6XfFOjfF5",
        "outputId": "bd4f81a4-e734-4c64-83e5-e0f1a9b53b29",
        "colab": {
          "base_uri": "https://localhost:8080/",
          "height": 134
        }
      },
      "source": [
        "class MyClass:\n",
        "    \"\"\"A simple example class\"\"\"\n",
        "    i = 12345\n",
        "\n",
        "    def f(self):\n",
        "        return 'hello world'\n",
        "\n",
        "print(MyClass.i)\n",
        "x = MyClass()\n",
        "print(x)\n",
        "print(x.f())\n",
        "print(x.i)\n",
        "print(MyClass.f(MyClass())) # x.f is not same as MyClass.f\n",
        "xf = x.f\n",
        "print(xf)\n",
        "print(x.f())"
      ],
      "execution_count": null,
      "outputs": [
        {
          "output_type": "stream",
          "text": [
            "12345\n",
            "<__main__.MyClass object at 0x7f9eeeba5a90>\n",
            "hello world\n",
            "12345\n",
            "hello world\n",
            "<bound method MyClass.f of <__main__.MyClass object at 0x7f9eeeba5a90>>\n",
            "hello world\n"
          ],
          "name": "stdout"
        }
      ]
    },
    {
      "cell_type": "markdown",
      "metadata": {
        "id": "ypV6vGPikDiq"
      },
      "source": [
        "## クラス変数とインスタンス変数"
      ]
    },
    {
      "cell_type": "code",
      "metadata": {
        "id": "R_yqez5Mkifp",
        "outputId": "0dbbaab5-ab28-4615-b8bb-60fa1cd26393",
        "colab": {
          "base_uri": "https://localhost:8080/",
          "height": 84
        }
      },
      "source": [
        "class Dog:\n",
        "\n",
        "    kind = 'canine'         # class variable shared by all instances\n",
        "\n",
        "    def __init__(self, name):\n",
        "        self.name = name    # instance variable unique to each instance\n",
        "\n",
        "d = Dog('Fido')\n",
        "e = Dog('Buddy')\n",
        "print(d.kind)                  # shared by all dogs\n",
        "print(e.kind)                  # shared by all dogs\n",
        "print(d.name)                  # unique to d\n",
        "print(e.name)                  # unique to e"
      ],
      "execution_count": null,
      "outputs": [
        {
          "output_type": "stream",
          "text": [
            "canine\n",
            "canine\n",
            "Fido\n",
            "Buddy\n"
          ],
          "name": "stdout"
        }
      ]
    },
    {
      "cell_type": "markdown",
      "metadata": {
        "id": "HdUBdUE88BS5"
      },
      "source": [
        "次のようなことはやっちゃいけない、とか。"
      ]
    },
    {
      "cell_type": "code",
      "metadata": {
        "id": "f3YLwG7D8EXl",
        "outputId": "1e70b860-49d5-4325-ffc7-b956c1191fc4",
        "colab": {
          "base_uri": "https://localhost:8080/",
          "height": 35
        }
      },
      "source": [
        "class Dog:\n",
        "\n",
        "    tricks = []             # mistaken use of a class variable\n",
        "\n",
        "    def __init__(self, name):\n",
        "        self.name = name\n",
        "\n",
        "    def add_trick(self, trick):\n",
        "        self.tricks.append(trick)\n",
        "\n",
        "d = Dog('Fido')\n",
        "e = Dog('Buddy')\n",
        "d.add_trick('roll over')\n",
        "e.add_trick('play dead')\n",
        "d.tricks                # unexpectedly shared by all dogs\n"
      ],
      "execution_count": null,
      "outputs": [
        {
          "output_type": "execute_result",
          "data": {
            "text/plain": [
              "['roll over', 'play dead']"
            ]
          },
          "metadata": {
            "tags": []
          },
          "execution_count": 1
        }
      ]
    },
    {
      "cell_type": "markdown",
      "metadata": {
        "id": "_tRhp-TL8vnj"
      },
      "source": [
        "正しくは次のようにやる。"
      ]
    },
    {
      "cell_type": "code",
      "metadata": {
        "id": "AeiYHMVI8zKg",
        "outputId": "0f3579f3-ae12-4f60-de7d-f7b6d0d2fce4",
        "colab": {
          "base_uri": "https://localhost:8080/",
          "height": 52
        }
      },
      "source": [
        "class Dog:\n",
        "\n",
        "    def __init__(self, name):\n",
        "        self.name = name\n",
        "        self.tricks = []    # creates a new empty list for each dog\n",
        "\n",
        "    def add_trick(self, trick):\n",
        "        self.tricks.append(trick)\n",
        "\n",
        "d = Dog('Fido')\n",
        "e = Dog('Buddy')\n",
        "d.add_trick('roll over')\n",
        "e.add_trick('play dead')\n",
        "print(d.tricks)\n",
        "['roll over']\n",
        "print(e.tricks)"
      ],
      "execution_count": null,
      "outputs": [
        {
          "output_type": "stream",
          "text": [
            "['roll over']\n",
            "['play dead']\n"
          ],
          "name": "stdout"
        }
      ]
    },
    {
      "cell_type": "markdown",
      "metadata": {
        "id": "7owhnMForYjV"
      },
      "source": [
        "# その他\n"
      ]
    },
    {
      "cell_type": "markdown",
      "metadata": {
        "id": "1dy4igPSrnX0"
      },
      "source": [
        "#### クラス変数とインスタンス変数の優先順序\n"
      ]
    },
    {
      "cell_type": "code",
      "metadata": {
        "id": "9a3v_eOmrvj4",
        "outputId": "600791b5-b1b1-4700-c57b-38a4418f81ac",
        "colab": {
          "base_uri": "https://localhost:8080/",
          "height": 50
        }
      },
      "source": [
        "class Warehouse:\n",
        "    purpose = 'storage'\n",
        "    region = 'west'\n",
        "w1 = Warehouse()\n",
        "print(w1.purpose, w1.region)\n",
        "w2 = Warehouse()\n",
        "w2.region = 'east'\n",
        "print(w2.purpose, w2.region)\n"
      ],
      "execution_count": 1,
      "outputs": [
        {
          "output_type": "stream",
          "text": [
            "storage west\n",
            "storage east\n"
          ],
          "name": "stdout"
        }
      ]
    },
    {
      "cell_type": "markdown",
      "metadata": {
        "id": "Uldkps6EuV7A"
      },
      "source": [
        "# いまここ"
      ]
    },
    {
      "cell_type": "markdown",
      "metadata": {
        "id": "Cj8Sq61vsOLP"
      },
      "source": [
        "Data attributes may be referenced by methods as well as by ordinary users (“clients”) of an object. In other words, classes are not usable to implement pure abstract data types. In fact, nothing in Python makes it possible to enforce data hiding — it is all based upon convention. (On the other hand, the Python implementation, written in C, can completely hide implementation details and control access to an object if necessary; this can be used by extensions to Python written in C.)\n",
        "\n",
        "Clients should use data attributes with care — clients may mess up invariants maintained by the methods by stamping on their data attributes. Note that clients may add data attributes of their own to an instance object without affecting the validity of the methods, as long as name conflicts are avoided — again, a naming convention can save a lot of headaches here.\n",
        "\n",
        "There is no shorthand for referencing data attributes (or other methods!) from within methods. I find that this actually increases the readability of methods: there is no chance of confusing local variables and instance variables when glancing through a method.\n",
        "\n",
        "Often, the first argument of a method is called self. This is nothing more than a convention: the name self has absolutely no special meaning to Python. Note, however, that by not following the convention your code may be less readable to other Python programmers, and it is also conceivable that a class browser program might be written that relies upon such a convention.\n",
        "\n",
        "Any function object that is a class attribute defines a method for instances of that class. It is not necessary that the function definition is textually enclosed in the class definition: assigning a function object to a local variable in the class is also ok. For example:"
      ]
    },
    {
      "cell_type": "code",
      "metadata": {
        "id": "zb3T_tA2sVAD"
      },
      "source": [
        "# Function defined outside the class\n",
        "def f1(self, x, y):\n",
        "    return min(x, x+y)\n",
        "\n",
        "class C:\n",
        "    f = f1\n",
        "\n",
        "    def g(self):\n",
        "        return 'hello world'\n",
        "\n",
        "    h = g"
      ],
      "execution_count": null,
      "outputs": []
    },
    {
      "cell_type": "markdown",
      "metadata": {
        "id": "8Bybqc7JsY6D"
      },
      "source": [
        "Now f, g and h are all attributes of class C that refer to function objects, and consequently they are all methods of instances of C — h being exactly equivalent to g. Note that this practice usually only serves to confuse the reader of a program.\n",
        "\n",
        "Methods may call other methods by using method attributes of the self argument:"
      ]
    },
    {
      "cell_type": "code",
      "metadata": {
        "id": "hDAjhK5dsbyi"
      },
      "source": [
        "class Bag:\n",
        "    def __init__(self):\n",
        "        self.data = []\n",
        "\n",
        "    def add(self, x):\n",
        "        self.data.append(x)\n",
        "\n",
        "    def addtwice(self, x):\n",
        "        self.add(x)\n",
        "        self.add(x)"
      ],
      "execution_count": null,
      "outputs": []
    },
    {
      "cell_type": "markdown",
      "metadata": {
        "id": "Qd2RqDWksfsj"
      },
      "source": [
        "Methods may reference global names in the same way as ordinary functions. The global scope associated with a method is the module containing its definition. (A class is never used as a global scope.) While one rarely encounters a good reason for using global data in a method, there are many legitimate uses of the global scope: for one thing, functions and modules imported into the global scope can be used by methods, as well as functions and classes defined in it. Usually, the class containing the method is itself defined in this global scope, and in the next section we’ll find some good reasons why a method would want to reference its own class.\n",
        "\n",
        "Each value is an object, and therefore has a class (also called its type). It is stored as object.__class__."
      ]
    },
    {
      "cell_type": "markdown",
      "metadata": {
        "id": "QPFXMdrBsihA"
      },
      "source": [
        "# 継承 inheritance"
      ]
    },
    {
      "cell_type": "markdown",
      "metadata": {
        "id": "LI8l3hhJsm8B"
      },
      "source": [
        "Of course, a language feature would not be worthy of the name “class” without supporting inheritance. The syntax for a derived class definition looks like this:"
      ]
    },
    {
      "cell_type": "code",
      "metadata": {
        "id": "Z8GTV811spYv"
      },
      "source": [
        "class DerivedClassName(BaseClassName):\n",
        "    <statement-1>\n",
        "    .\n",
        "    .\n",
        "    .\n",
        "    <statement-N>"
      ],
      "execution_count": null,
      "outputs": []
    },
    {
      "cell_type": "markdown",
      "metadata": {
        "id": "Au7yfUxzstac"
      },
      "source": [
        "The name BaseClassName must be defined in a scope containing the derived class definition. In place of a base class name, other arbitrary expressions are also allowed. This can be useful, for example, when the base class is defined in another module:"
      ]
    },
    {
      "cell_type": "code",
      "metadata": {
        "id": "CnM1J_6VsvnF"
      },
      "source": [
        "class DerivedClassName(modname.BaseClassName):"
      ],
      "execution_count": null,
      "outputs": []
    },
    {
      "cell_type": "markdown",
      "metadata": {
        "id": "dqqo_RsCsx68"
      },
      "source": [
        "Execution of a derived class definition proceeds the same as for a base class. When the class object is constructed, the base class is remembered. This is used for resolving attribute references: if a requested attribute is not found in the class, the search proceeds to look in the base class. This rule is applied recursively if the base class itself is derived from some other class.\n",
        "\n",
        "There’s nothing special about instantiation of derived classes: DerivedClassName() creates a new instance of the class. Method references are resolved as follows: the corresponding class attribute is searched, descending down the chain of base classes if necessary, and the method reference is valid if this yields a function object.\n",
        "\n",
        "Derived classes may override methods of their base classes. Because methods have no special privileges when calling other methods of the same object, a method of a base class that calls another method defined in the same base class may end up calling a method of a derived class that overrides it. (For C++ programmers: all methods in Python are effectively virtual.)\n",
        "\n",
        "An overriding method in a derived class may in fact want to extend rather than simply replace the base class method of the same name. There is a simple way to call the base class method directly: just call BaseClassName.methodname(self, arguments). This is occasionally useful to clients as well. (Note that this only works if the base class is accessible as BaseClassName in the global scope.)\n",
        "\n",
        "Python has two built-in functions that work with inheritance:\n",
        "\n",
        "Use isinstance() to check an instance’s type: isinstance(obj, int) will be True only if obj.__class__ is int or some class derived from int.\n",
        "\n",
        "Use issubclass() to check class inheritance: issubclass(bool, int) is True since bool is a subclass of int. However, issubclass(float, int) is False since float is not a subclass of int."
      ]
    },
    {
      "cell_type": "code",
      "metadata": {
        "id": "WMGkMYaZs1fd"
      },
      "source": [
        ""
      ],
      "execution_count": null,
      "outputs": []
    },
    {
      "cell_type": "markdown",
      "metadata": {
        "id": "JPGsqlsMs4se"
      },
      "source": [
        "9.5.1. Multiple Inheritance\n",
        "\n",
        "\n",
        "Python supports a form of multiple inheritance as well. A class definition with multiple base classes looks like this:"
      ]
    },
    {
      "cell_type": "code",
      "metadata": {
        "id": "kQlWpiE0s6iT"
      },
      "source": [
        "class DerivedClassName(Base1, Base2, Base3):\n",
        "    <statement-1>\n",
        "    .\n",
        "    .\n",
        "    .\n",
        "    <statement-N>"
      ],
      "execution_count": null,
      "outputs": []
    },
    {
      "cell_type": "markdown",
      "metadata": {
        "id": "s3VoDp7ns91L"
      },
      "source": [
        "For most purposes, in the simplest cases, you can think of the search for attributes inherited from a parent class as depth-first, left-to-right, not searching twice in the same class where there is an overlap in the hierarchy. Thus, if an attribute is not found in DerivedClassName, it is searched for in Base1, then (recursively) in the base classes of Base1, and if it was not found there, it was searched for in Base2, and so on.\n",
        "\n",
        "In fact, it is slightly more complex than that; the method resolution order changes dynamically to support cooperative calls to super(). This approach is known in some other multiple-inheritance languages as call-next-method and is more powerful than the super call found in single-inheritance languages.\n",
        "\n",
        "Dynamic ordering is necessary because all cases of multiple inheritance exhibit one or more diamond relationships (where at least one of the parent classes can be accessed through multiple paths from the bottommost class). For example, all classes inherit from object, so any case of multiple inheritance provides more than one path to reach object. To keep the base classes from being accessed more than once, the dynamic algorithm linearizes the search order in a way that preserves the left-to-right ordering specified in each class, that calls each parent only once, and that is monotonic (meaning that a class can be subclassed without affecting the precedence order of its parents). Taken together, these properties make it possible to design reliable and extensible classes with multiple inheritance. For more detail, see https://www.python.org/download/releases/2.3/mro/."
      ]
    },
    {
      "cell_type": "markdown",
      "metadata": {
        "id": "-GHw7OPitCJY"
      },
      "source": [
        "9.6. Private Variables¶\n",
        "“Private” instance variables that cannot be accessed except from inside an object don’t exist in Python. However, there is a convention that is followed by most Python code: a name prefixed with an underscore (e.g. _spam) should be treated as a non-public part of the API (whether it is a function, a method or a data member). It should be considered an implementation detail and subject to change without notice.\n",
        "\n",
        "Since there is a valid use-case for class-private members (namely to avoid name clashes of names with names defined by subclasses), there is limited support for such a mechanism, called name mangling. Any identifier of the form __spam (at least two leading underscores, at most one trailing underscore) is textually replaced with _classname__spam, where classname is the current class name with leading underscore(s) stripped. This mangling is done without regard to the syntactic position of the identifier, as long as it occurs within the definition of a class.\n",
        "\n",
        "Name mangling is helpful for letting subclasses override methods without breaking intraclass method calls. For example:"
      ]
    },
    {
      "cell_type": "code",
      "metadata": {
        "id": "woSSItzQtLE0"
      },
      "source": [
        "class Mapping:\n",
        "    def __init__(self, iterable):\n",
        "        self.items_list = []\n",
        "        self.__update(iterable)\n",
        "\n",
        "    def update(self, iterable):\n",
        "        for item in iterable:\n",
        "            self.items_list.append(item)\n",
        "\n",
        "    __update = update   # private copy of original update() method\n",
        "\n",
        "class MappingSubclass(Mapping):\n",
        "\n",
        "    def update(self, keys, values):\n",
        "        # provides new signature for update()\n",
        "        # but does not break __init__()\n",
        "        for item in zip(keys, values):\n",
        "            self.items_list.append(item)"
      ],
      "execution_count": null,
      "outputs": []
    },
    {
      "cell_type": "markdown",
      "metadata": {
        "id": "jIGehKEutHmo"
      },
      "source": [
        "The above example would work even if MappingSubclass were to introduce a __update identifier since it is replaced with _Mapping__update in the Mapping class and _MappingSubclass__update in the MappingSubclass class respectively.\n",
        "\n",
        "Note that the mangling rules are designed mostly to avoid accidents; it still is possible to access or modify a variable that is considered private. This can even be useful in special circumstances, such as in the debugger.\n",
        "\n",
        "Notice that code passed to exec() or eval() does not consider the classname of the invoking class to be the current class; this is similar to the effect of the global statement, the effect of which is likewise restricted to code that is byte-compiled together. The same restriction applies to getattr(), setattr() and delattr(), as well as when referencing __dict__ directly."
      ]
    },
    {
      "cell_type": "markdown",
      "metadata": {
        "id": "AQbEqzIdtQ41"
      },
      "source": [
        "9.7. Odds and Ends¶\n",
        "\n",
        "\n",
        "Sometimes it is useful to have a data type similar to the Pascal “record” or C “struct”, bundling together a few named data items. An empty class definition will do nicely:"
      ]
    },
    {
      "cell_type": "code",
      "metadata": {
        "id": "EQkT3XcHtUFA"
      },
      "source": [
        "class Employee:\n",
        "    pass\n",
        "\n",
        "john = Employee()  # Create an empty employee record\n",
        "\n",
        "# Fill the fields of the record\n",
        "john.name = 'John Doe'\n",
        "john.dept = 'computer lab'\n",
        "john.salary = 1000"
      ],
      "execution_count": null,
      "outputs": []
    },
    {
      "cell_type": "markdown",
      "metadata": {
        "id": "WQhm_kg1tWQG"
      },
      "source": [
        "A piece of Python code that expects a particular abstract data type can often be passed a class that emulates the methods of that data type instead. For instance, if you have a function that formats some data from a file object, you can define a class with methods read() and readline() that get the data from a string buffer instead, and pass it as an argument.\n",
        "\n",
        "Instance method objects have attributes, too: m.__self__ is the instance object with the method m(), and m.__func__ is the function object corresponding to the method."
      ]
    },
    {
      "cell_type": "markdown",
      "metadata": {
        "id": "U7SbhWIYtZWE"
      },
      "source": [
        "# 9.8. Iterators\n",
        "\n",
        "By now you have probably noticed that most container objects can be looped over using a for statement:"
      ]
    },
    {
      "cell_type": "markdown",
      "metadata": {
        "id": "utCxhG8ttndg"
      },
      "source": [
        ""
      ]
    },
    {
      "cell_type": "code",
      "metadata": {
        "id": "IJCaRFQGtqMQ"
      },
      "source": [
        "for element in [1, 2, 3]:\n",
        "    print(element)\n",
        "for element in (1, 2, 3):\n",
        "    print(element)\n",
        "for key in {'one':1, 'two':2}:\n",
        "    print(key)\n",
        "for char in \"123\":\n",
        "    print(char)\n",
        "for line in open(\"myfile.txt\"):\n",
        "    print(line, end='')"
      ],
      "execution_count": null,
      "outputs": []
    },
    {
      "cell_type": "markdown",
      "metadata": {
        "id": "OHCbQDrLtrDI"
      },
      "source": [
        "This style of access is clear, concise, and convenient. The use of iterators pervades and unifies Python. Behind the scenes, the for statement calls iter() on the container object. The function returns an iterator object that defines the method __next__() which accesses elements in the container one at a time. When there are no more elements, __next__() raises a StopIteration exception which tells the for loop to terminate. You can call the __next__() method using the next() built-in function; this example shows how it all works:"
      ]
    },
    {
      "cell_type": "code",
      "metadata": {
        "id": "4dVnvfGsttQg"
      },
      "source": [
        ">>> s = 'abc'\n",
        ">>> it = iter(s)\n",
        ">>> it\n",
        "<iterator object at 0x00A1DB50>\n",
        ">>> next(it)\n",
        "'a'\n",
        ">>> next(it)\n",
        "'b'\n",
        ">>> next(it)\n",
        "'c'\n",
        ">>> next(it)\n",
        "Traceback (most recent call last):\n",
        "  File \"<stdin>\", line 1, in <module>\n",
        "    next(it)\n",
        "StopIteration"
      ],
      "execution_count": null,
      "outputs": []
    },
    {
      "cell_type": "markdown",
      "metadata": {
        "id": "CzDMR8cltyCA"
      },
      "source": [
        "Having seen the mechanics behind the iterator protocol, it is easy to add iterator behavior to your classes. Define an __iter__() method which returns an object with a __next__() method. If the class defines __next__(), then __iter__() can just return self:"
      ]
    },
    {
      "cell_type": "code",
      "metadata": {
        "id": "YmuNcOoHt0Kl"
      },
      "source": [
        "class Reverse:\n",
        "    \"\"\"Iterator for looping over a sequence backwards.\"\"\"\n",
        "    def __init__(self, data):\n",
        "        self.data = data\n",
        "        self.index = len(data)\n",
        "\n",
        "    def __iter__(self):\n",
        "        return self\n",
        "\n",
        "    def __next__(self):\n",
        "        if self.index == 0:\n",
        "            raise StopIteration\n",
        "        self.index = self.index - 1\n",
        "        return self.data[self.index]\n",
        ">>>\n",
        ">>> rev = Reverse('spam')\n",
        ">>> iter(rev)\n",
        "<__main__.Reverse object at 0x00A1DB50>\n",
        ">>> for char in rev:\n",
        "...     print(char)\n",
        "...\n",
        "m\n",
        "a\n",
        "p\n",
        "s"
      ],
      "execution_count": null,
      "outputs": []
    },
    {
      "cell_type": "markdown",
      "metadata": {
        "id": "AvqI2j47t3yX"
      },
      "source": [
        "# 9.9. Generators\n",
        "\n",
        "Generators are a simple and powerful tool for creating iterators. They are written like regular functions but use the yield statement whenever they want to return data. Each time next() is called on it, the generator resumes where it left off (it remembers all the data values and which statement was last executed). An example shows that generators can be trivially easy to create:"
      ]
    },
    {
      "cell_type": "code",
      "metadata": {
        "id": "IPA2k908uHDJ"
      },
      "source": [
        "def reverse(data):\n",
        "    for index in range(len(data)-1, -1, -1):\n",
        "        yield data[index]\n",
        ">>>\n",
        ">>> for char in reverse('golf'):\n",
        "...     print(char)\n",
        "...\n",
        "f\n",
        "l\n",
        "o\n",
        "g"
      ],
      "execution_count": null,
      "outputs": []
    },
    {
      "cell_type": "markdown",
      "metadata": {
        "id": "x_Al9DL1uIqR"
      },
      "source": [
        "Anything that can be done with generators can also be done with class-based iterators as described in the previous section. What makes generators so compact is that the __iter__() and __next__() methods are created automatically.\n",
        "\n",
        "Another key feature is that the local variables and execution state are automatically saved between calls. This made the function easier to write and much more clear than an approach using instance variables like self.index and self.data.\n",
        "\n",
        "In addition to automatic method creation and saving program state, when generators terminate, they automatically raise StopIteration. In combination, these features make it easy to create iterators with no more effort than writing a regular function."
      ]
    },
    {
      "cell_type": "markdown",
      "metadata": {
        "id": "4AFdimHLuLyJ"
      },
      "source": [
        "# 9.10. Generator Expressions¶\n",
        "Some simple generators can be coded succinctly as expressions using a syntax similar to list comprehensions but with parentheses instead of square brackets. These expressions are designed for situations where the generator is used right away by an enclosing function. Generator expressions are more compact but less versatile than full generator definitions and tend to be more memory friendly than equivalent list comprehensions.\n",
        "\n",
        "Examples:"
      ]
    },
    {
      "cell_type": "code",
      "metadata": {
        "id": "Zhe5TEPMuPwX"
      },
      "source": [
        ">>> sum(i*i for i in range(10))                 # sum of squares\n",
        "285\n",
        "\n",
        ">>> xvec = [10, 20, 30]\n",
        ">>> yvec = [7, 5, 3]\n",
        ">>> sum(x*y for x,y in zip(xvec, yvec))         # dot product\n",
        "260\n",
        "\n",
        ">>> unique_words = set(word for line in page  for word in line.split())\n",
        "\n",
        ">>> valedictorian = max((student.gpa, student.name) for student in graduates)\n",
        "\n",
        ">>> data = 'golf'\n",
        ">>> list(data[i] for i in range(len(data)-1, -1, -1))\n",
        "['f', 'l', 'o', 'g']"
      ],
      "execution_count": null,
      "outputs": []
    }
  ]
}