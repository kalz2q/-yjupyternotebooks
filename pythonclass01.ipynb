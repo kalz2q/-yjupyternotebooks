{
  "nbformat": 4,
  "nbformat_minor": 0,
  "metadata": {
    "colab": {
      "name": "pythonclass01.ipynb",
      "provenance": [],
      "toc_visible": true,
      "authorship_tag": "ABX9TyNcaNhDDPBF7cNceaX21Pkx",
      "include_colab_link": true
    },
    "kernelspec": {
      "name": "python3",
      "display_name": "Python 3"
    }
  },
  "cells": [
    {
      "cell_type": "markdown",
      "metadata": {
        "id": "view-in-github",
        "colab_type": "text"
      },
      "source": [
        "<a href=\"https://colab.research.google.com/github/kalz2q/mycolabnotebooks/blob/master/pythonclass01.ipynb\" target=\"_parent\"><img src=\"https://colab.research.google.com/assets/colab-badge.svg\" alt=\"Open In Colab\"/></a>"
      ]
    },
    {
      "cell_type": "markdown",
      "metadata": {
        "id": "h0xl79xSo4P8"
      },
      "source": [
        "# メモ\n",
        "\n",
        "python の class のところの tutorial を読んでいる。\n",
        "\n",
        "https://docs.python.org/3/tutorial/classes.html\n",
        "\n",
        "説明が何を言っているのかわからないので、とりあえずサンプルを順次実行して実験しながら読んでいく。\n"
      ]
    },
    {
      "cell_type": "markdown",
      "metadata": {
        "id": "yrJddglkkd8c"
      },
      "source": [
        "# クラス"
      ]
    },
    {
      "cell_type": "code",
      "metadata": {
        "id": "90dv5FimpCWY",
        "outputId": "d2c65f3c-6024-4e66-d4e5-a287b94ddc4a",
        "colab": {
          "base_uri": "https://localhost:8080/",
          "height": 86
        }
      },
      "source": [
        "def scope_test():\n",
        "    def do_local():\n",
        "        spam = \"local spam\"\n",
        "\n",
        "    def do_nonlocal():\n",
        "        nonlocal spam\n",
        "        spam = \"nonlocal spam\"\n",
        "\n",
        "    def do_global():\n",
        "        global spam\n",
        "        spam = \"global spam\"\n",
        "\n",
        "    spam = \"test spam\"\n",
        "    do_local()\n",
        "    print(\"After local assignment:\", spam)\n",
        "    do_nonlocal()\n",
        "    print(\"After nonlocal assignment:\", spam)\n",
        "    do_global()\n",
        "    print(\"After global assignment:\", spam)\n",
        "\n",
        "scope_test()\n",
        "print(\"In global scope:\", spam)"
      ],
      "execution_count": null,
      "outputs": [
        {
          "output_type": "stream",
          "text": [
            "After local assignment: test spam\n",
            "After nonlocal assignment: nonlocal spam\n",
            "After global assignment: nonlocal spam\n",
            "In global scope: global spam\n"
          ],
          "name": "stdout"
        }
      ]
    },
    {
      "cell_type": "markdown",
      "metadata": {
        "id": "pcDKrzhPqfZ_"
      },
      "source": [
        "普通、global な変数は local の外、global な場所で代入すると思うのだが、この例を見ると、scope_test() の中で global な変数に代入ができて、しかも、scope の中の変数を上書きしていない。 まあ、話はわかるが、あらためて下らない言語だと思う。 まあいいか。\n",
        "\n"
      ]
    },
    {
      "cell_type": "markdown",
      "metadata": {
        "id": "SqfyDPv1rR8G"
      },
      "source": [
        "class は大文字で始まる。 次のように定義する。\n"
      ]
    },
    {
      "cell_type": "code",
      "metadata": {
        "id": "Zd-FsuisoYFK"
      },
      "source": [
        "class ClassName:\n",
        "    '''\n",
        "    <statement-1>\n",
        "    ...\n",
        "    <statement-N>'''\n",
        "    pass"
      ],
      "execution_count": null,
      "outputs": []
    },
    {
      "cell_type": "markdown",
      "metadata": {
        "id": "FFzbwM95rx1J"
      },
      "source": [
        "次のようにクラスを作ると、属性参照でクラス内の変数や関数を扱うことになる。"
      ]
    },
    {
      "cell_type": "code",
      "metadata": {
        "id": "nftIQJwWsCeC",
        "outputId": "7f2ca8ee-c727-4e5c-cd6b-8cb33e01d07c",
        "colab": {
          "base_uri": "https://localhost:8080/",
          "height": 84
        }
      },
      "source": [
        "class MyClass:\n",
        "    \"\"\"A simple example class\"\"\"\n",
        "    i = 12345\n",
        "\n",
        "    def f(self):\n",
        "        return 'hello world'\n",
        "\n",
        "print(MyClass.i)\n",
        "x = MyClass()\n",
        "print(x)\n",
        "print(x.f())\n",
        "print(x.i)"
      ],
      "execution_count": null,
      "outputs": [
        {
          "output_type": "stream",
          "text": [
            "12345\n",
            "<__main__.MyClass object at 0x7f9eeeba5c18>\n",
            "hello world\n",
            "12345\n"
          ],
          "name": "stdout"
        }
      ]
    },
    {
      "cell_type": "markdown",
      "metadata": {
        "id": "4PooaZqbtfbj"
      },
      "source": [
        "インスタンスの作成は x = MyClass() のように行うが、定義に次のようにしておくと、生成時の状態を作ることができる。\n",
        "\n",
        "```python\n",
        "def __int__(self):\n",
        "  self.darta=[]\n",
        "```\n"
      ]
    },
    {
      "cell_type": "markdown",
      "metadata": {
        "id": "jBgVKMZzvFG_"
      },
      "source": [
        "引数の受渡しができる。"
      ]
    },
    {
      "cell_type": "code",
      "metadata": {
        "id": "XeSEKyR2uaRb",
        "outputId": "9856e731-cc0a-4445-e441-6cf74fc02fb2",
        "colab": {
          "base_uri": "https://localhost:8080/",
          "height": 34
        }
      },
      "source": [
        "class Complex:\n",
        "    def __init__(self, realpart, imagpart):\n",
        "        self.r = realpart\n",
        "        self.i = imagpart\n",
        "\n",
        "x = Complex(3.0, -4.5)\n",
        "\n",
        "print(x.r, x.i)\n"
      ],
      "execution_count": null,
      "outputs": [
        {
          "output_type": "stream",
          "text": [
            "3.0 -4.5\n"
          ],
          "name": "stdout"
        }
      ]
    },
    {
      "cell_type": "code",
      "metadata": {
        "id": "UCg0PAoCurf3",
        "outputId": "e982704f-d786-41b5-e176-82127d70cbea",
        "colab": {
          "base_uri": "https://localhost:8080/",
          "height": 67
        }
      },
      "source": [
        "# 実験\n",
        "\n",
        "print(3+5j)\n",
        "print(complex(5,8))\n",
        "print(Complex(7,9))"
      ],
      "execution_count": null,
      "outputs": [
        {
          "output_type": "stream",
          "text": [
            "(3+5j)\n",
            "(5+8j)\n",
            "<__main__.Complex object at 0x7f0402abb860>\n"
          ],
          "name": "stdout"
        }
      ]
    },
    {
      "cell_type": "markdown",
      "metadata": {
        "id": "_eWsgCi8BStN"
      },
      "source": [
        "インスタンスの変数は自動的に作られる。"
      ]
    },
    {
      "cell_type": "code",
      "metadata": {
        "id": "7CUVLRikBZV5",
        "outputId": "29af4983-6250-47dd-b010-b3d95d9a356b",
        "colab": {
          "base_uri": "https://localhost:8080/",
          "height": 34
        }
      },
      "source": [
        "class MyClass:\n",
        "    pass\n",
        "\n",
        "x = MyClass\n",
        "x.counter=1\n",
        "while x.counter<10:\n",
        "    x.counter=x.counter*2\n",
        "print(x.counter)\n",
        "del x.counter"
      ],
      "execution_count": null,
      "outputs": [
        {
          "output_type": "stream",
          "text": [
            "16\n"
          ],
          "name": "stdout"
        }
      ]
    },
    {
      "cell_type": "markdown",
      "metadata": {
        "id": "nJx5gK_rhhFO"
      },
      "source": [
        "むむむぅ。こんなことができることがいいことなのか。 まあいいか。"
      ]
    },
    {
      "cell_type": "code",
      "metadata": {
        "id": "6GE6XfFOjfF5",
        "outputId": "bd4f81a4-e734-4c64-83e5-e0f1a9b53b29",
        "colab": {
          "base_uri": "https://localhost:8080/",
          "height": 134
        }
      },
      "source": [
        "class MyClass:\n",
        "    \"\"\"A simple example class\"\"\"\n",
        "    i = 12345\n",
        "\n",
        "    def f(self):\n",
        "        return 'hello world'\n",
        "\n",
        "print(MyClass.i)\n",
        "x = MyClass()\n",
        "print(x)\n",
        "print(x.f())\n",
        "print(x.i)\n",
        "print(MyClass.f(MyClass())) # x.f is not same as MyClass.f\n",
        "xf = x.f\n",
        "print(xf)\n",
        "print(x.f())"
      ],
      "execution_count": null,
      "outputs": [
        {
          "output_type": "stream",
          "text": [
            "12345\n",
            "<__main__.MyClass object at 0x7f9eeeba5a90>\n",
            "hello world\n",
            "12345\n",
            "hello world\n",
            "<bound method MyClass.f of <__main__.MyClass object at 0x7f9eeeba5a90>>\n",
            "hello world\n"
          ],
          "name": "stdout"
        }
      ]
    },
    {
      "cell_type": "markdown",
      "metadata": {
        "id": "ypV6vGPikDiq"
      },
      "source": [
        "## クラス変数とインスタンス変数"
      ]
    },
    {
      "cell_type": "code",
      "metadata": {
        "id": "R_yqez5Mkifp",
        "outputId": "0dbbaab5-ab28-4615-b8bb-60fa1cd26393",
        "colab": {
          "base_uri": "https://localhost:8080/",
          "height": 84
        }
      },
      "source": [
        "class Dog:\n",
        "\n",
        "    kind = 'canine'         # class variable shared by all instances\n",
        "\n",
        "    def __init__(self, name):\n",
        "        self.name = name    # instance variable unique to each instance\n",
        "\n",
        "d = Dog('Fido')\n",
        "e = Dog('Buddy')\n",
        "print(d.kind)                  # shared by all dogs\n",
        "print(e.kind)                  # shared by all dogs\n",
        "print(d.name)                  # unique to d\n",
        "print(e.name)                  # unique to e"
      ],
      "execution_count": null,
      "outputs": [
        {
          "output_type": "stream",
          "text": [
            "canine\n",
            "canine\n",
            "Fido\n",
            "Buddy\n"
          ],
          "name": "stdout"
        }
      ]
    },
    {
      "cell_type": "markdown",
      "metadata": {
        "id": "HdUBdUE88BS5"
      },
      "source": [
        "次のようなことはやっちゃいけない、とか。"
      ]
    },
    {
      "cell_type": "code",
      "metadata": {
        "id": "f3YLwG7D8EXl",
        "outputId": "1e70b860-49d5-4325-ffc7-b956c1191fc4",
        "colab": {
          "base_uri": "https://localhost:8080/",
          "height": 35
        }
      },
      "source": [
        "class Dog:\n",
        "\n",
        "    tricks = []             # mistaken use of a class variable\n",
        "\n",
        "    def __init__(self, name):\n",
        "        self.name = name\n",
        "\n",
        "    def add_trick(self, trick):\n",
        "        self.tricks.append(trick)\n",
        "\n",
        "d = Dog('Fido')\n",
        "e = Dog('Buddy')\n",
        "d.add_trick('roll over')\n",
        "e.add_trick('play dead')\n",
        "d.tricks                # unexpectedly shared by all dogs\n"
      ],
      "execution_count": null,
      "outputs": [
        {
          "output_type": "execute_result",
          "data": {
            "text/plain": [
              "['roll over', 'play dead']"
            ]
          },
          "metadata": {
            "tags": []
          },
          "execution_count": 1
        }
      ]
    },
    {
      "cell_type": "markdown",
      "metadata": {
        "id": "_tRhp-TL8vnj"
      },
      "source": [
        "正しくは次のようにやる。"
      ]
    },
    {
      "cell_type": "code",
      "metadata": {
        "id": "AeiYHMVI8zKg",
        "outputId": "0f3579f3-ae12-4f60-de7d-f7b6d0d2fce4",
        "colab": {
          "base_uri": "https://localhost:8080/",
          "height": 52
        }
      },
      "source": [
        "class Dog:\n",
        "\n",
        "    def __init__(self, name):\n",
        "        self.name = name\n",
        "        self.tricks = []    # creates a new empty list for each dog\n",
        "\n",
        "    def add_trick(self, trick):\n",
        "        self.tricks.append(trick)\n",
        "\n",
        "d = Dog('Fido')\n",
        "e = Dog('Buddy')\n",
        "d.add_trick('roll over')\n",
        "e.add_trick('play dead')\n",
        "print(d.tricks)\n",
        "['roll over']\n",
        "print(e.tricks)"
      ],
      "execution_count": null,
      "outputs": [
        {
          "output_type": "stream",
          "text": [
            "['roll over']\n",
            "['play dead']\n"
          ],
          "name": "stdout"
        }
      ]
    },
    {
      "cell_type": "markdown",
      "metadata": {
        "id": "7owhnMForYjV"
      },
      "source": [
        "# その他\n"
      ]
    },
    {
      "cell_type": "markdown",
      "metadata": {
        "id": "1dy4igPSrnX0"
      },
      "source": [
        "#### クラス変数とインスタンス変数の優先順序\n"
      ]
    },
    {
      "cell_type": "code",
      "metadata": {
        "id": "9a3v_eOmrvj4",
        "outputId": "600791b5-b1b1-4700-c57b-38a4418f81ac",
        "colab": {
          "base_uri": "https://localhost:8080/",
          "height": 50
        }
      },
      "source": [
        "class Warehouse:\n",
        "    purpose = 'storage'\n",
        "    region = 'west'\n",
        "w1 = Warehouse()\n",
        "print(w1.purpose, w1.region)\n",
        "w2 = Warehouse()\n",
        "w2.region = 'east'\n",
        "print(w2.purpose, w2.region)\n"
      ],
      "execution_count": null,
      "outputs": [
        {
          "output_type": "stream",
          "text": [
            "storage west\n",
            "storage east\n"
          ],
          "name": "stdout"
        }
      ]
    },
    {
      "cell_type": "markdown",
      "metadata": {
        "id": "ZeUaFlaZPjhz"
      },
      "source": [
        "# self と適用範囲\n",
        "\n",
        "次のようなことはできるがわかりにくくなる。"
      ]
    },
    {
      "cell_type": "code",
      "metadata": {
        "id": "zb3T_tA2sVAD",
        "outputId": "28eac8c8-6567-4eb0-fb2f-6299cdbdbde1",
        "colab": {
          "base_uri": "https://localhost:8080/",
          "height": 101
        }
      },
      "source": [
        "# Function defined outside the class\n",
        "def f1(self, x, y):\n",
        "    return min(x, x+y)\n",
        "\n",
        "class C:\n",
        "    f = f1\n",
        "\n",
        "    def g(self):\n",
        "        return 'hello world'\n",
        "\n",
        "    h = g\n",
        "\n",
        "# 実験\n",
        "\n",
        "x = C()\n",
        "print(f1((),3,2))\n",
        "print(x.f(3, 4))\n",
        "print(x.f(-3,4))\n",
        "print(x.g())\n",
        "print(x.h())\n"
      ],
      "execution_count": null,
      "outputs": [
        {
          "output_type": "stream",
          "text": [
            "3\n",
            "3\n",
            "-3\n",
            "hello world\n",
            "hello world\n"
          ],
          "name": "stdout"
        }
      ]
    },
    {
      "cell_type": "code",
      "metadata": {
        "id": "hDAjhK5dsbyi",
        "outputId": "0b094d8d-866a-45d0-c223-5e0b62e5b940",
        "colab": {
          "base_uri": "https://localhost:8080/",
          "height": 34
        }
      },
      "source": [
        "class Bag:\n",
        "    def __init__(self):\n",
        "        self.data = []\n",
        "\n",
        "    def add(self, x):\n",
        "        self.data.append(x)\n",
        "\n",
        "    def addtwice(self, x):\n",
        "        self.add(x)\n",
        "        self.add(x)\n",
        "\n",
        "x = Bag()\n",
        "x.add(3)\n",
        "x.addtwice(5)\n",
        "print(x.data)"
      ],
      "execution_count": null,
      "outputs": [
        {
          "output_type": "stream",
          "text": [
            "[3, 5, 5]\n"
          ],
          "name": "stdout"
        }
      ]
    },
    {
      "cell_type": "code",
      "metadata": {
        "id": "9Q1kOPN2RKJP",
        "outputId": "0b6ce703-c420-4785-e109-09afa202be28",
        "colab": {
          "base_uri": "https://localhost:8080/",
          "height": 34
        }
      },
      "source": [
        "# 実験\n",
        "\n",
        "class Bag:\n",
        "    def __init__(self):\n",
        "        self.data = []\n",
        "\n",
        "    def add(x):\n",
        "        data.append(x)\n",
        "\n",
        "    def addtwice(self, x):\n",
        "        self.add(x)\n",
        "        self.add(x)\n",
        "\n",
        "x = Bag()\n",
        "# x.add(3) #=> TypeError: add() takes 1 positional argument but 2 were given\n",
        "# x.addtwice(5) #=> TypeError: add() takes 1 positional argument but 2 were given\n",
        "print(x.data)"
      ],
      "execution_count": null,
      "outputs": [
        {
          "output_type": "stream",
          "text": [
            "[]\n"
          ],
          "name": "stdout"
        }
      ]
    },
    {
      "cell_type": "markdown",
      "metadata": {
        "id": "QPFXMdrBsihA"
      },
      "source": [
        "# 継承 inheritance"
      ]
    },
    {
      "cell_type": "markdown",
      "metadata": {
        "id": "LI8l3hhJsm8B"
      },
      "source": [
        "継承はつぎのように行う。"
      ]
    },
    {
      "cell_type": "code",
      "metadata": {
        "id": "Z8GTV811spYv"
      },
      "source": [
        "%%script false\n",
        "\n",
        "class DerivedClassName(BaseClassName):\n",
        "    <statement-1>\n",
        "    .\n",
        "    .\n",
        "    .\n",
        "    <statement-N>"
      ],
      "execution_count": null,
      "outputs": []
    },
    {
      "cell_type": "markdown",
      "metadata": {
        "id": "JPGsqlsMs4se"
      },
      "source": [
        "#### 多重継承 multiple inheritance\n"
      ]
    },
    {
      "cell_type": "code",
      "metadata": {
        "id": "kQlWpiE0s6iT"
      },
      "source": [
        "%%script false\n",
        "\n",
        "class DerivedClassName(Base1, Base2, Base3):\n",
        "    <statement-1>\n",
        "    .\n",
        "    .\n",
        "    .\n",
        "    <statement-N>"
      ],
      "execution_count": 1,
      "outputs": []
    },
    {
      "cell_type": "markdown",
      "metadata": {
        "id": "JUyFTsdoLkkC"
      },
      "source": [
        "# いまここ"
      ]
    },
    {
      "cell_type": "markdown",
      "metadata": {
        "id": "IF-Y_2F7Kfgs"
      },
      "source": [
        "\n",
        "Since there is a valid use-case for class-private members (namely to avoid name clashes of names with names defined by subclasses), there is limited support for such a mechanism, called name mangling. Any identifier of the form __spam (at least two leading underscores, at most one trailing underscore) is textually replaced with _classname__spam, where classname is the current class name with leading underscore(s) stripped. This mangling is done without regard to the syntactic position of the identifier, as long as it occurs within the definition of a class.\n",
        "\n",
        "Name mangling is helpful for letting subclasses override methods without breaking intraclass method calls. For example:"
      ]
    },
    {
      "cell_type": "code",
      "metadata": {
        "id": "woSSItzQtLE0"
      },
      "source": [
        "class Mapping:\n",
        "    def __init__(self, iterable):\n",
        "        self.items_list = []\n",
        "        self.__update(iterable)\n",
        "\n",
        "    def update(self, iterable):\n",
        "        for item in iterable:\n",
        "            self.items_list.append(item)\n",
        "\n",
        "    __update = update   # private copy of original update() method\n",
        "\n",
        "class MappingSubclass(Mapping):\n",
        "\n",
        "    def update(self, keys, values):\n",
        "        # provides new signature for update()\n",
        "        # but does not break __init__()\n",
        "        for item in zip(keys, values):\n",
        "            self.items_list.append(item)"
      ],
      "execution_count": null,
      "outputs": []
    },
    {
      "cell_type": "markdown",
      "metadata": {
        "id": "jIGehKEutHmo"
      },
      "source": [
        "The above example would work even if MappingSubclass were to introduce a __update identifier since it is replaced with _Mapping__update in the Mapping class and _MappingSubclass__update in the MappingSubclass class respectively.\n",
        "\n",
        "Note that the mangling rules are designed mostly to avoid accidents; it still is possible to access or modify a variable that is considered private. This can even be useful in special circumstances, such as in the debugger.\n",
        "\n",
        "Notice that code passed to exec() or eval() does not consider the classname of the invoking class to be the current class; this is similar to the effect of the global statement, the effect of which is likewise restricted to code that is byte-compiled together. The same restriction applies to getattr(), setattr() and delattr(), as well as when referencing __dict__ directly."
      ]
    },
    {
      "cell_type": "markdown",
      "metadata": {
        "id": "AQbEqzIdtQ41"
      },
      "source": [
        "9.7. Odds and Ends¶\n",
        "\n",
        "\n",
        "Sometimes it is useful to have a data type similar to the Pascal “record” or C “struct”, bundling together a few named data items. An empty class definition will do nicely:"
      ]
    },
    {
      "cell_type": "code",
      "metadata": {
        "id": "EQkT3XcHtUFA"
      },
      "source": [
        "class Employee:\n",
        "    pass\n",
        "\n",
        "john = Employee()  # Create an empty employee record\n",
        "\n",
        "# Fill the fields of the record\n",
        "john.name = 'John Doe'\n",
        "john.dept = 'computer lab'\n",
        "john.salary = 1000"
      ],
      "execution_count": null,
      "outputs": []
    },
    {
      "cell_type": "markdown",
      "metadata": {
        "id": "WQhm_kg1tWQG"
      },
      "source": [
        "A piece of Python code that expects a particular abstract data type can often be passed a class that emulates the methods of that data type instead. For instance, if you have a function that formats some data from a file object, you can define a class with methods read() and readline() that get the data from a string buffer instead, and pass it as an argument.\n",
        "\n",
        "Instance method objects have attributes, too: m.__self__ is the instance object with the method m(), and m.__func__ is the function object corresponding to the method."
      ]
    },
    {
      "cell_type": "markdown",
      "metadata": {
        "id": "U7SbhWIYtZWE"
      },
      "source": [
        "# 9.8. Iterators\n",
        "\n",
        "By now you have probably noticed that most container objects can be looped over using a for statement:"
      ]
    },
    {
      "cell_type": "markdown",
      "metadata": {
        "id": "utCxhG8ttndg"
      },
      "source": [
        ""
      ]
    },
    {
      "cell_type": "code",
      "metadata": {
        "id": "IJCaRFQGtqMQ"
      },
      "source": [
        "for element in [1, 2, 3]:\n",
        "    print(element)\n",
        "for element in (1, 2, 3):\n",
        "    print(element)\n",
        "for key in {'one':1, 'two':2}:\n",
        "    print(key)\n",
        "for char in \"123\":\n",
        "    print(char)\n",
        "for line in open(\"myfile.txt\"):\n",
        "    print(line, end='')"
      ],
      "execution_count": null,
      "outputs": []
    },
    {
      "cell_type": "markdown",
      "metadata": {
        "id": "OHCbQDrLtrDI"
      },
      "source": [
        "This style of access is clear, concise, and convenient. The use of iterators pervades and unifies Python. Behind the scenes, the for statement calls iter() on the container object. The function returns an iterator object that defines the method __next__() which accesses elements in the container one at a time. When there are no more elements, __next__() raises a StopIteration exception which tells the for loop to terminate. You can call the __next__() method using the next() built-in function; this example shows how it all works:"
      ]
    },
    {
      "cell_type": "code",
      "metadata": {
        "id": "4dVnvfGsttQg"
      },
      "source": [
        ">>> s = 'abc'\n",
        ">>> it = iter(s)\n",
        ">>> it\n",
        "<iterator object at 0x00A1DB50>\n",
        ">>> next(it)\n",
        "'a'\n",
        ">>> next(it)\n",
        "'b'\n",
        ">>> next(it)\n",
        "'c'\n",
        ">>> next(it)\n",
        "Traceback (most recent call last):\n",
        "  File \"<stdin>\", line 1, in <module>\n",
        "    next(it)\n",
        "StopIteration"
      ],
      "execution_count": null,
      "outputs": []
    },
    {
      "cell_type": "markdown",
      "metadata": {
        "id": "CzDMR8cltyCA"
      },
      "source": [
        "Having seen the mechanics behind the iterator protocol, it is easy to add iterator behavior to your classes. Define an __iter__() method which returns an object with a __next__() method. If the class defines __next__(), then __iter__() can just return self:"
      ]
    },
    {
      "cell_type": "code",
      "metadata": {
        "id": "YmuNcOoHt0Kl"
      },
      "source": [
        "class Reverse:\n",
        "    \"\"\"Iterator for looping over a sequence backwards.\"\"\"\n",
        "    def __init__(self, data):\n",
        "        self.data = data\n",
        "        self.index = len(data)\n",
        "\n",
        "    def __iter__(self):\n",
        "        return self\n",
        "\n",
        "    def __next__(self):\n",
        "        if self.index == 0:\n",
        "            raise StopIteration\n",
        "        self.index = self.index - 1\n",
        "        return self.data[self.index]\n",
        ">>>\n",
        ">>> rev = Reverse('spam')\n",
        ">>> iter(rev)\n",
        "<__main__.Reverse object at 0x00A1DB50>\n",
        ">>> for char in rev:\n",
        "...     print(char)\n",
        "...\n",
        "m\n",
        "a\n",
        "p\n",
        "s"
      ],
      "execution_count": null,
      "outputs": []
    },
    {
      "cell_type": "markdown",
      "metadata": {
        "id": "AvqI2j47t3yX"
      },
      "source": [
        "# 9.9. Generators\n",
        "\n",
        "Generators are a simple and powerful tool for creating iterators. They are written like regular functions but use the yield statement whenever they want to return data. Each time next() is called on it, the generator resumes where it left off (it remembers all the data values and which statement was last executed). An example shows that generators can be trivially easy to create:"
      ]
    },
    {
      "cell_type": "code",
      "metadata": {
        "id": "IPA2k908uHDJ"
      },
      "source": [
        "def reverse(data):\n",
        "    for index in range(len(data)-1, -1, -1):\n",
        "        yield data[index]\n",
        ">>>\n",
        ">>> for char in reverse('golf'):\n",
        "...     print(char)\n",
        "...\n",
        "f\n",
        "l\n",
        "o\n",
        "g"
      ],
      "execution_count": null,
      "outputs": []
    },
    {
      "cell_type": "markdown",
      "metadata": {
        "id": "x_Al9DL1uIqR"
      },
      "source": [
        "Anything that can be done with generators can also be done with class-based iterators as described in the previous section. What makes generators so compact is that the __iter__() and __next__() methods are created automatically.\n",
        "\n",
        "Another key feature is that the local variables and execution state are automatically saved between calls. This made the function easier to write and much more clear than an approach using instance variables like self.index and self.data.\n",
        "\n",
        "In addition to automatic method creation and saving program state, when generators terminate, they automatically raise StopIteration. In combination, these features make it easy to create iterators with no more effort than writing a regular function."
      ]
    },
    {
      "cell_type": "markdown",
      "metadata": {
        "id": "4AFdimHLuLyJ"
      },
      "source": [
        "# 9.10. Generator Expressions¶\n",
        "Some simple generators can be coded succinctly as expressions using a syntax similar to list comprehensions but with parentheses instead of square brackets. These expressions are designed for situations where the generator is used right away by an enclosing function. Generator expressions are more compact but less versatile than full generator definitions and tend to be more memory friendly than equivalent list comprehensions.\n",
        "\n",
        "Examples:"
      ]
    },
    {
      "cell_type": "code",
      "metadata": {
        "id": "Zhe5TEPMuPwX"
      },
      "source": [
        ">>> sum(i*i for i in range(10))                 # sum of squares\n",
        "285\n",
        "\n",
        ">>> xvec = [10, 20, 30]\n",
        ">>> yvec = [7, 5, 3]\n",
        ">>> sum(x*y for x,y in zip(xvec, yvec))         # dot product\n",
        "260\n",
        "\n",
        ">>> unique_words = set(word for line in page  for word in line.split())\n",
        "\n",
        ">>> valedictorian = max((student.gpa, student.name) for student in graduates)\n",
        "\n",
        ">>> data = 'golf'\n",
        ">>> list(data[i] for i in range(len(data)-1, -1, -1))\n",
        "['f', 'l', 'o', 'g']"
      ],
      "execution_count": null,
      "outputs": []
    }
  ]
}