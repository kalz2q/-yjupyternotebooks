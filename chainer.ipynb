{
  "nbformat": 4,
  "nbformat_minor": 0,
  "metadata": {
    "colab": {
      "name": "chainer.ipynb",
      "provenance": [],
      "toc_visible": true,
      "authorship_tag": "ABX9TyN3i+VjFNXC9Y3Lnas7KkaK",
      "include_colab_link": true
    },
    "kernelspec": {
      "name": "python3",
      "display_name": "Python 3"
    },
    "language_info": {
      "name": "python"
    }
  },
  "cells": [
    {
      "cell_type": "markdown",
      "metadata": {
        "id": "view-in-github",
        "colab_type": "text"
      },
      "source": [
        "<a href=\"https://colab.research.google.com/github/kalz2q/mycolabnotebooks/blob/master/chainer.ipynb\" target=\"_parent\"><img src=\"https://colab.research.google.com/assets/colab-badge.svg\" alt=\"Open In Colab\"/></a>"
      ]
    },
    {
      "cell_type": "markdown",
      "metadata": {
        "id": "UhyWMT5V_qeF"
      },
      "source": [
        "# メモ\n",
        "\n",
        "Chainer のチュートリアルサイトが Open in Colab ボタンのあるサイトだったのでそこから拾い読み\n",
        "\n",
        "https://colab.research.google.com/github/chainer/tutorials/"
      ]
    },
    {
      "cell_type": "markdown",
      "metadata": {
        "id": "copNjjCcBPjs"
      },
      "source": [
        "オンライン学習資料\n",
        "\n",
        "- 数学の知識\n",
        "- Python を用いたコーディングの基本\n",
        "- 機械学習・ディープラーニングの基礎的な理論\n",
        "- 画像認識や自然言語処理などに機械学習を応用する方法\n",
        "\n",
        "1. `Open in Colab` から Colab へ移動\n",
        "2. 自分のドライブへノートブックをコピーする\n",
        "3. コードを実行しながら読んでいく\n",
        "\n",
        "と言う手順が、本チュートリアルサイトのおすすめの利用方法"
      ]
    },
    {
      "cell_type": "markdown",
      "metadata": {
        "id": "lYLEBxPnBPj2"
      },
      "source": [
        "# Colab の便利なショートカット\n",
        "\n",
        "| 説明                 | コマンド      |\n",
        "| -------------------- | ------------- |\n",
        "| Markdownモードへ変更 | Ctrl + M → M |\n",
        "| Codeモードへ変更     | Ctrl + M → Y |\n",
        "| セルの実行           | Shift + Enter |\n",
        "| セルを上に追加       | Ctrl + M → A |\n",
        "| セルを下に追加       | Ctrl + M → B |\n",
        "| セルのコピー         | Ctrl + M → C |\n",
        "| セルの貼り付け       | Ctrl + M → V |\n",
        "| セルの消去           | Ctrl + M → D |\n",
        "| コメントアウト       | Ctrl + /      |\n"
      ]
    },
    {
      "cell_type": "markdown",
      "metadata": {
        "id": "D3QflLv0qdiy"
      },
      "source": [
        "# Python 入門\n"
      ]
    },
    {
      "cell_type": "markdown",
      "metadata": {
        "id": "jZNTuBQ54BSu"
      },
      "source": [
        "- 変数\n",
        "- 制御構文\n",
        "- 関数\n",
        "- クラス"
      ]
    },
    {
      "cell_type": "code",
      "metadata": {
        "id": "FChuhC8Jv9aa"
      },
      "source": [
        "a = 1"
      ],
      "execution_count": null,
      "outputs": []
    },
    {
      "cell_type": "code",
      "metadata": {
        "id": "qCdjuQqNv9ac"
      },
      "source": [
        "b = 1.2"
      ],
      "execution_count": null,
      "outputs": []
    },
    {
      "cell_type": "code",
      "metadata": {
        "id": "VLMovMgnv9ae"
      },
      "source": [
        "c = 'Chainer'"
      ],
      "execution_count": null,
      "outputs": []
    },
    {
      "cell_type": "code",
      "metadata": {
        "id": "RUflpSu6v9ag",
        "colab": {
          "base_uri": "https://localhost:8080/"
        },
        "outputId": "eb6128fb-d6d9-4e95-ce98-1f8620c12abc"
      },
      "source": [
        "type(a)"
      ],
      "execution_count": null,
      "outputs": [
        {
          "output_type": "execute_result",
          "data": {
            "text/plain": [
              "int"
            ]
          },
          "metadata": {
            "tags": []
          },
          "execution_count": 4
        }
      ]
    },
    {
      "cell_type": "code",
      "metadata": {
        "id": "YBtHAigUv9aj",
        "colab": {
          "base_uri": "https://localhost:8080/"
        },
        "outputId": "b1e7050a-429a-40e8-e873-df729e118552"
      },
      "source": [
        "type(b)"
      ],
      "execution_count": null,
      "outputs": [
        {
          "output_type": "execute_result",
          "data": {
            "text/plain": [
              "float"
            ]
          },
          "metadata": {
            "tags": []
          },
          "execution_count": 5
        }
      ]
    },
    {
      "cell_type": "code",
      "metadata": {
        "id": "6PaQmlMCv9an",
        "colab": {
          "base_uri": "https://localhost:8080/"
        },
        "outputId": "213ebb24-d0b9-442a-9219-9df5620c50f3"
      },
      "source": [
        "type(c)"
      ],
      "execution_count": null,
      "outputs": [
        {
          "output_type": "execute_result",
          "data": {
            "text/plain": [
              "str"
            ]
          },
          "metadata": {
            "tags": []
          },
          "execution_count": 6
        }
      ]
    },
    {
      "cell_type": "markdown",
      "metadata": {
        "id": "Chdmx6HGIfEV"
      },
      "source": [
        "Python では、`.` を含まない連続した数字を `int`、直前・直後も含め `.` が含まれる連続した数字を `float` だと自動的に解釈する。\n",
        "例えば、`7` や `365` は `int` だが、`2.718`、`.25`、`10.` などは `float` になる。\n",
        "\n",
        "実数の `0` は `0.0` とも `.0` とも `0.` とも書くことができる。"
      ]
    },
    {
      "cell_type": "code",
      "metadata": {
        "id": "sUKUmRgwIfEY",
        "colab": {
          "base_uri": "https://localhost:8080/"
        },
        "outputId": "ee38f281-88c4-48b8-d7da-ad34e73fa029"
      },
      "source": [
        "type(0)"
      ],
      "execution_count": null,
      "outputs": [
        {
          "output_type": "execute_result",
          "data": {
            "text/plain": [
              "int"
            ]
          },
          "metadata": {
            "tags": []
          },
          "execution_count": 7
        }
      ]
    },
    {
      "cell_type": "code",
      "metadata": {
        "id": "VOiscn8OIfEc",
        "colab": {
          "base_uri": "https://localhost:8080/"
        },
        "outputId": "e9d1c92c-003f-431b-9c2e-c8c95d321015"
      },
      "source": [
        "type(0.)"
      ],
      "execution_count": null,
      "outputs": [
        {
          "output_type": "execute_result",
          "data": {
            "text/plain": [
              "float"
            ]
          },
          "metadata": {
            "tags": []
          },
          "execution_count": 8
        }
      ]
    },
    {
      "cell_type": "code",
      "metadata": {
        "id": "442-_TpmIfEf",
        "colab": {
          "base_uri": "https://localhost:8080/"
        },
        "outputId": "6237e9af-c741-4d86-bed8-048f89e1f795"
      },
      "source": [
        "type(.0)"
      ],
      "execution_count": null,
      "outputs": [
        {
          "output_type": "execute_result",
          "data": {
            "text/plain": [
              "float"
            ]
          },
          "metadata": {
            "tags": []
          },
          "execution_count": 9
        }
      ]
    },
    {
      "cell_type": "markdown",
      "metadata": {
        "id": "TDJRJR5vIfFe"
      },
      "source": [
        "Python 3 では、 `/` 記号を用いて除算を行う場合、除数（割る数）と被除数（割られる数）が整数であっても、計算結果として実数が返る。\n",
        "計算結果として実数を返す除算のことを特に、**真の除算 (true division)** と言う。\n",
        "一方、商（整数部分）を返すような除算演算子として、 `//` 記号が用意されている。 `/` 記号を 2 回、間を空けずに繰り返す。計算結果として商を返す除算のことを、 **切り捨て除算 (floor division)** と呼ぶ。\n"
      ]
    },
    {
      "cell_type": "code",
      "metadata": {
        "id": "PFwX_4_pBbY0",
        "colab": {
          "base_uri": "https://localhost:8080/"
        },
        "outputId": "edcfb731-2660-428a-9efe-947b699b3cb6"
      },
      "source": [
        "# 整数と整数で切り捨て除算 -> 結果は整数\n",
        "3 // 2"
      ],
      "execution_count": null,
      "outputs": [
        {
          "output_type": "execute_result",
          "data": {
            "text/plain": [
              "1"
            ]
          },
          "metadata": {
            "tags": []
          },
          "execution_count": 10
        }
      ]
    },
    {
      "cell_type": "code",
      "metadata": {
        "id": "nCyFpJHKv9bh",
        "colab": {
          "base_uri": "https://localhost:8080/"
        },
        "outputId": "a405323a-584d-45fb-f181-8ab9f0f14003"
      },
      "source": [
        "# 整数と整数で切り捨て除算 -> 結果は整数\n",
        "4 // 2"
      ],
      "execution_count": null,
      "outputs": [
        {
          "output_type": "execute_result",
          "data": {
            "text/plain": [
              "2"
            ]
          },
          "metadata": {
            "tags": []
          },
          "execution_count": 11
        }
      ]
    },
    {
      "cell_type": "markdown",
      "metadata": {
        "id": "Mywi7srHv9bj"
      },
      "source": [
        "整数や実数と文字列の演算は基本的にエラーになる。"
      ]
    },
    {
      "cell_type": "code",
      "metadata": {
        "id": "ia8mAAr5v9bj"
      },
      "source": [
        "# a + c #=> TypeError: unsupported operand type(s) for +: 'int' and 'str'"
      ],
      "execution_count": null,
      "outputs": []
    },
    {
      "cell_type": "code",
      "metadata": {
        "id": "oKJmWQKcv9bl",
        "colab": {
          "base_uri": "https://localhost:8080/",
          "height": 35
        },
        "outputId": "ab1b25ae-f84d-4573-dfe3-a44b990593c4"
      },
      "source": [
        "# str と int で乗算\n",
        "c = 'Chainer'\n",
        "c * 3"
      ],
      "execution_count": null,
      "outputs": [
        {
          "output_type": "execute_result",
          "data": {
            "application/vnd.google.colaboratory.intrinsic+json": {
              "type": "string"
            },
            "text/plain": [
              "'ChainerChainerChainer'"
            ]
          },
          "metadata": {
            "tags": []
          },
          "execution_count": 13
        }
      ]
    },
    {
      "cell_type": "markdown",
      "metadata": {
        "id": "xPX4dcGUv9bm"
      },
      "source": [
        "上のコードは、`c` と言う文字列を `3` 回繰り返す、と言う意味になる。"
      ]
    },
    {
      "cell_type": "markdown",
      "metadata": {
        "id": "mmlvVMcIv9bm"
      },
      "source": [
        "`str` 同士は足し算を行うことができる。"
      ]
    },
    {
      "cell_type": "code",
      "metadata": {
        "id": "DOK7H8LJv9bn",
        "colab": {
          "base_uri": "https://localhost:8080/",
          "height": 35
        },
        "outputId": "c02d0ce9-d24a-4e0c-8db7-5b7f904eb199"
      },
      "source": [
        "name1 = 'Chainer'\n",
        "name2 = 'チュートリアル'\n",
        "\n",
        "name1 + name2"
      ],
      "execution_count": null,
      "outputs": [
        {
          "output_type": "execute_result",
          "data": {
            "application/vnd.google.colaboratory.intrinsic+json": {
              "type": "string"
            },
            "text/plain": [
              "'Chainerチュートリアル'"
            ]
          },
          "metadata": {
            "tags": []
          },
          "execution_count": 14
        }
      ]
    },
    {
      "cell_type": "markdown",
      "metadata": {
        "id": "QoCq87hkv9bq"
      },
      "source": [
        "整数と文字列を連結したいこともある。  \n",
        "例えば、`1` と言う整数に、 `'番目'` と言う文字列を足して `'1番目'` と言う文字列を作りたいような場合には、型を変換する**キャスト (cast)** と言う操作をする必要がある。\n",
        "\n",
        "何かを `int` にキャストしたい場合は `int()` と言う組み込み関数を使い、`str` にキャストしたい場合は `str()` と言う組み込み関数を使う。"
      ]
    },
    {
      "cell_type": "code",
      "metadata": {
        "id": "JxGEBOZzv9bw",
        "colab": {
          "base_uri": "https://localhost:8080/"
        },
        "outputId": "7c5d6616-83ca-4489-8d8d-98d355d9350d"
      },
      "source": [
        "type(str(1))"
      ],
      "execution_count": null,
      "outputs": [
        {
          "output_type": "execute_result",
          "data": {
            "text/plain": [
              "str"
            ]
          },
          "metadata": {
            "tags": []
          },
          "execution_count": 15
        }
      ]
    },
    {
      "cell_type": "code",
      "metadata": {
        "id": "2boojYfbv9by",
        "colab": {
          "base_uri": "https://localhost:8080/",
          "height": 35
        },
        "outputId": "84325a63-f000-490f-caf6-6111c1545975"
      },
      "source": [
        "str(1) + '番目'"
      ],
      "execution_count": null,
      "outputs": [
        {
          "output_type": "execute_result",
          "data": {
            "application/vnd.google.colaboratory.intrinsic+json": {
              "type": "string"
            },
            "text/plain": [
              "'1番目'"
            ]
          },
          "metadata": {
            "tags": []
          },
          "execution_count": 16
        }
      ]
    },
    {
      "cell_type": "markdown",
      "metadata": {
        "id": "36GMdun-IfFn"
      },
      "source": [
        "Python には、他にも幾つかの算術演算子が用意されている。\n",
        "\n",
        "| 演算 | 記号 |\n",
        "|------|------|\n",
        "| 累乗 | `**` |\n",
        "|  剰余　 | `%` |\n"
      ]
    },
    {
      "cell_type": "code",
      "metadata": {
        "id": "cK6zHxguIfFo",
        "colab": {
          "base_uri": "https://localhost:8080/"
        },
        "outputId": "e49f2932-4542-407f-c346-d4e3236b0fee"
      },
      "source": [
        "# 累乗\n",
        "2 ** 3"
      ],
      "execution_count": null,
      "outputs": [
        {
          "output_type": "execute_result",
          "data": {
            "text/plain": [
              "8"
            ]
          },
          "metadata": {
            "tags": []
          },
          "execution_count": 17
        }
      ]
    },
    {
      "cell_type": "markdown",
      "metadata": {
        "id": "g8RG0jTDv9b6"
      },
      "source": [
        "`%` を使って、`9` を `2` で割った余りを計算してみる。"
      ]
    },
    {
      "cell_type": "code",
      "metadata": {
        "id": "CbsiwPcev9b6",
        "colab": {
          "base_uri": "https://localhost:8080/"
        },
        "outputId": "7bfef9d8-9f07-435b-ecc9-63e466638093"
      },
      "source": [
        "# 剰余\n",
        "9 % 2"
      ],
      "execution_count": null,
      "outputs": [
        {
          "output_type": "execute_result",
          "data": {
            "text/plain": [
              "1"
            ]
          },
          "metadata": {
            "tags": []
          },
          "execution_count": 18
        }
      ]
    },
    {
      "cell_type": "markdown",
      "metadata": {
        "id": "Z62QzE-4Bc4a"
      },
      "source": [
        "比較演算子は、2 つの値の比較を行うための演算子である。\n",
        "\n",
        "| 演算 | 記号 |\n",
        "|------|------|\n",
        "| 小なり | `<` |\n",
        "| 大なり | `>` |\n",
        "| 以下 | `<=` |\n",
        "| 以上 | `>=` |\n",
        "| 等しい | `==` |\n",
        "| 等しくない | `!=` |\n"
      ]
    },
    {
      "cell_type": "markdown",
      "metadata": {
        "id": "2kAX065UJFle"
      },
      "source": [
        "エスケープシーケンス"
      ]
    },
    {
      "cell_type": "code",
      "metadata": {
        "id": "m3CBKEsrC4L-",
        "colab": {
          "base_uri": "https://localhost:8080/"
        },
        "outputId": "ae697d93-c645-4d3f-fea4-38c5e885e6ea"
      },
      "source": [
        "print('Hello\\nWorld')"
      ],
      "execution_count": null,
      "outputs": [
        {
          "output_type": "stream",
          "text": [
            "Hello\n",
            "World\n"
          ],
          "name": "stdout"
        }
      ]
    },
    {
      "cell_type": "code",
      "metadata": {
        "id": "FosQ7-tzC_45",
        "colab": {
          "base_uri": "https://localhost:8080/"
        },
        "outputId": "90ef3f79-340c-4733-e42d-a8e39b8b183e"
      },
      "source": [
        "print('Hello\\tWorld')"
      ],
      "execution_count": null,
      "outputs": [
        {
          "output_type": "stream",
          "text": [
            "Hello\tWorld\n"
          ],
          "name": "stdout"
        }
      ]
    },
    {
      "cell_type": "markdown",
      "metadata": {
        "id": "Udw0u53Lv9cO"
      },
      "source": [
        "**文字列メソッド**\n",
        "\n",
        "`str` 型の変数には、いくつか便利な機能がついている。\n",
        "\n",
        "例えば、その変数が持つ全ての文字を小文字や大文字に変換する `lower()` や `upper()` といった機能がある。\n",
        "\n",
        "型が持っている関数を**メソッド (method)** と呼ぶ。\n"
      ]
    },
    {
      "cell_type": "code",
      "metadata": {
        "id": "tDhIrHvev9cP",
        "colab": {
          "base_uri": "https://localhost:8080/",
          "height": 35
        },
        "outputId": "66d8022c-1865-4b0d-865a-7d05da385be0"
      },
      "source": [
        "name = 'Chainer'\n",
        "name"
      ],
      "execution_count": null,
      "outputs": [
        {
          "output_type": "execute_result",
          "data": {
            "application/vnd.google.colaboratory.intrinsic+json": {
              "type": "string"
            },
            "text/plain": [
              "'Chainer'"
            ]
          },
          "metadata": {
            "tags": []
          },
          "execution_count": 21
        }
      ]
    },
    {
      "cell_type": "code",
      "metadata": {
        "id": "pUb1lrhzv9cQ",
        "colab": {
          "base_uri": "https://localhost:8080/",
          "height": 35
        },
        "outputId": "42dd0659-e73d-4a23-dd9c-f71de0ed340b"
      },
      "source": [
        "# すべてを小文字に変換\n",
        "name.lower()"
      ],
      "execution_count": null,
      "outputs": [
        {
          "output_type": "execute_result",
          "data": {
            "application/vnd.google.colaboratory.intrinsic+json": {
              "type": "string"
            },
            "text/plain": [
              "'chainer'"
            ]
          },
          "metadata": {
            "tags": []
          },
          "execution_count": 22
        }
      ]
    },
    {
      "cell_type": "code",
      "metadata": {
        "id": "Ma-TiLUsv9cS",
        "colab": {
          "base_uri": "https://localhost:8080/",
          "height": 35
        },
        "outputId": "fe32c3ca-f639-4757-c75e-ae1bbb6e8e0e"
      },
      "source": [
        "# すべてを大文字に変換\n",
        "name.upper()"
      ],
      "execution_count": null,
      "outputs": [
        {
          "output_type": "execute_result",
          "data": {
            "application/vnd.google.colaboratory.intrinsic+json": {
              "type": "string"
            },
            "text/plain": [
              "'CHAINER'"
            ]
          },
          "metadata": {
            "tags": []
          },
          "execution_count": 23
        }
      ]
    },
    {
      "cell_type": "markdown",
      "metadata": {
        "id": "qvpJWVYkv9cT"
      },
      "source": [
        "文字列メソッドの一つに、 `format()` がある。\n",
        "\n",
        "これは、ある文字列の一部分に、あとから別な文字列を埋め込むために使用する。\n",
        "\n",
        "対象の文字列には `{}` で予め値を埋め込みたい場所を指定しておく。"
      ]
    },
    {
      "cell_type": "code",
      "metadata": {
        "id": "UBDe56zvv9cT",
        "colab": {
          "base_uri": "https://localhost:8080/",
          "height": 35
        },
        "outputId": "4b5f292b-1174-4abf-ecf8-db0a77f7c8fa"
      },
      "source": [
        "name = 'Chainer'\n",
        "\n",
        "'{} チュートリアルへようこそ'.format(name)"
      ],
      "execution_count": null,
      "outputs": [
        {
          "output_type": "execute_result",
          "data": {
            "application/vnd.google.colaboratory.intrinsic+json": {
              "type": "string"
            },
            "text/plain": [
              "'Chainer チュートリアルへようこそ'"
            ]
          },
          "metadata": {
            "tags": []
          },
          "execution_count": 24
        }
      ]
    },
    {
      "cell_type": "code",
      "metadata": {
        "id": "mN4n4NYMv9cV",
        "colab": {
          "base_uri": "https://localhost:8080/",
          "height": 35
        },
        "outputId": "eccbc6ed-695f-45dd-8300-506f1829988f"
      },
      "source": [
        "name1 = 'Chainer'\n",
        "name2 = 'チュートリアル'\n",
        "\n",
        "'{} {}へようこそ'.format(name1, name2)"
      ],
      "execution_count": null,
      "outputs": [
        {
          "output_type": "execute_result",
          "data": {
            "application/vnd.google.colaboratory.intrinsic+json": {
              "type": "string"
            },
            "text/plain": [
              "'Chainer チュートリアルへようこそ'"
            ]
          },
          "metadata": {
            "tags": []
          },
          "execution_count": 25
        }
      ]
    },
    {
      "cell_type": "markdown",
      "metadata": {
        "id": "G_LHyH7Uv9cW"
      },
      "source": [
        "`format()` メソッドを用いると `int` 型 や `float` 型の変数を、`str` 型へ明示的にキャストすることなく文字列に埋め込むことができる。"
      ]
    },
    {
      "cell_type": "code",
      "metadata": {
        "id": "hnNv40_Pv9cX",
        "colab": {
          "base_uri": "https://localhost:8080/",
          "height": 35
        },
        "outputId": "32e27eaa-7117-48f5-81dc-5d5c37414b03"
      },
      "source": [
        "version = 3.7\n",
        "\n",
        "'Python {}'.format(version)"
      ],
      "execution_count": null,
      "outputs": [
        {
          "output_type": "execute_result",
          "data": {
            "application/vnd.google.colaboratory.intrinsic+json": {
              "type": "string"
            },
            "text/plain": [
              "'Python 3.7'"
            ]
          },
          "metadata": {
            "tags": []
          },
          "execution_count": 26
        }
      ]
    },
    {
      "cell_type": "markdown",
      "metadata": {
        "id": "Pm4cvrnQv9cY"
      },
      "source": [
        "**浮動小数点数がもつメソッド**\n",
        "\n",
        "`int` 型の変数や、`float` 型の変数にも、その型の特徴に合わせた機能が、メソッドとして提供されている。\n",
        "\n",
        "例えば、`float` 型の変数には、`as_integer_ratio()` と言うメソッドがあり、比がその浮動小数点数の値となるような整数の組を返す。\n",
        "\n",
        "例えば、0.5 と言う値は、分数で表すと $\\frac{1}{2}$ である。\n",
        "これは、以下のようにして調べることができる。"
      ]
    },
    {
      "cell_type": "code",
      "metadata": {
        "id": "pFPtOpz-v9cY",
        "colab": {
          "base_uri": "https://localhost:8080/"
        },
        "outputId": "90fcd822-0a7d-4081-e3ec-ac8d8938d030"
      },
      "source": [
        "0.5.as_integer_ratio()"
      ],
      "execution_count": null,
      "outputs": [
        {
          "output_type": "execute_result",
          "data": {
            "text/plain": [
              "(1, 2)"
            ]
          },
          "metadata": {
            "tags": []
          },
          "execution_count": 27
        }
      ]
    },
    {
      "cell_type": "markdown",
      "metadata": {
        "id": "EZNdyQZLv9cZ"
      },
      "source": [
        "0.25 であれば、$\\frac{1}{4}$ となる。"
      ]
    },
    {
      "cell_type": "code",
      "metadata": {
        "id": "OuwnCcupv9cZ",
        "colab": {
          "base_uri": "https://localhost:8080/"
        },
        "outputId": "817d2a44-d8e2-4547-e0ea-97267e26c4d9"
      },
      "source": [
        "0.25.as_integer_ratio()"
      ],
      "execution_count": null,
      "outputs": [
        {
          "output_type": "execute_result",
          "data": {
            "text/plain": [
              "(1, 4)"
            ]
          },
          "metadata": {
            "tags": []
          },
          "execution_count": 28
        }
      ]
    },
    {
      "cell_type": "code",
      "metadata": {
        "id": "DoT2xU16nJkT",
        "colab": {
          "base_uri": "https://localhost:8080/"
        },
        "outputId": "2698307b-f988-4699-f8a8-f7f3cc544739"
      },
      "source": [
        "type(0.25.as_integer_ratio())"
      ],
      "execution_count": null,
      "outputs": [
        {
          "output_type": "execute_result",
          "data": {
            "text/plain": [
              "tuple"
            ]
          },
          "metadata": {
            "tags": []
          },
          "execution_count": 1
        }
      ]
    },
    {
      "cell_type": "markdown",
      "metadata": {
        "id": "VsBRE0Wyv9ca"
      },
      "source": [
        "**複合データ型**\n",
        "\n",
        "以下の 3つの複合データ型がある。\n",
        "\n",
        "- リスト (list)\n",
        "- タプル (tuple)\n",
        "- 辞書 (dictionary)"
      ]
    },
    {
      "cell_type": "markdown",
      "metadata": {
        "id": "S1TLaajMDtmr"
      },
      "source": [
        "**リスト**\n",
        "\n",
        "複数の変数を `,` （カンマ）区切りで並べ、それらの全体を `[ ]` で囲んだものを **リスト (list)** と言う。\n",
        "リストに含まれる値を**要素**と呼び、整数の**インデックス** （要素番号）を使ってアクセスする。"
      ]
    },
    {
      "cell_type": "code",
      "metadata": {
        "id": "MJ7ZYj82D-a1",
        "colab": {
          "base_uri": "https://localhost:8080/"
        },
        "outputId": "60bb3513-181b-498d-c074-5dc8b55f74b1"
      },
      "source": [
        "# リスト型の変数を定義\n",
        "numbers = [4, 5, 6, 7]\n",
        "\n",
        "# 値の確認\n",
        "print(numbers)"
      ],
      "execution_count": null,
      "outputs": [
        {
          "output_type": "stream",
          "text": [
            "[4, 5, 6, 7]\n"
          ],
          "name": "stdout"
        }
      ]
    },
    {
      "cell_type": "code",
      "metadata": {
        "id": "HH3NT-y4EC4Z",
        "colab": {
          "base_uri": "https://localhost:8080/"
        },
        "outputId": "90bc723a-e26e-43de-f8bb-37dc077aee02"
      },
      "source": [
        "# 型の確認\n",
        "type(numbers)"
      ],
      "execution_count": null,
      "outputs": [
        {
          "output_type": "execute_result",
          "data": {
            "text/plain": [
              "list"
            ]
          },
          "metadata": {
            "tags": []
          },
          "execution_count": 30
        }
      ]
    },
    {
      "cell_type": "markdown",
      "metadata": {
        "id": "Rk_jY_TTIfGY"
      },
      "source": [
        "`numbers` には 4 つの数値が入っており、**要素数** は 4 である。\n",
        "リストの要素数は、リストの**長さ (length)** とも呼ばれ、組み込み関数の `len()` を用いて取得することができる。\n",
        "\n",
        "\n"
      ]
    },
    {
      "cell_type": "code",
      "metadata": {
        "id": "DK6aH0AaoELi",
        "colab": {
          "base_uri": "https://localhost:8080/"
        },
        "outputId": "4b4e9c2d-9845-4fb3-e743-5ecd91f4662e"
      },
      "source": [
        "# 要素数の確認\n",
        "numbers = [4, 5, 6, 7]\n",
        "print(len(numbers))\n",
        "numbers.append(3)\n",
        "print(len(numbers))"
      ],
      "execution_count": null,
      "outputs": [
        {
          "output_type": "stream",
          "text": [
            "4\n",
            "5\n"
          ],
          "name": "stdout"
        }
      ]
    },
    {
      "cell_type": "markdown",
      "metadata": {
        "id": "jzXvSyLT2-HH"
      },
      "source": [
        "上のコードで len() と append() の使い方が違う。 len は組み込み関数で、append は list のメソッドだとよく説明されるが、言葉の使い方がなんとなく変じゃないか。 それでは len が関数で append が関数ではないように読めてしまう。 メソッドは型(クラス)が持っている関数で、関数と言う意味では同じである。\n",
        "\n",
        "`dir(numbers)`\n",
        "\n",
        "とするとリストの持っているメソッド(関数)がわかってその中に `__len__` と言うのがあるので、次のように使ってみると使える。  \n",
        "\n",
        "歴史的な判断かもしれない。\n"
      ]
    },
    {
      "cell_type": "code",
      "metadata": {
        "id": "A8IYCloV3tyZ",
        "colab": {
          "base_uri": "https://localhost:8080/"
        },
        "outputId": "e9c4098a-9197-407b-f426-f264a675bc74"
      },
      "source": [
        "numbers.__len__()"
      ],
      "execution_count": null,
      "outputs": [
        {
          "output_type": "execute_result",
          "data": {
            "text/plain": [
              "5"
            ]
          },
          "metadata": {
            "tags": []
          },
          "execution_count": 32
        }
      ]
    },
    {
      "cell_type": "markdown",
      "metadata": {
        "id": "XlILYof5GKPM"
      },
      "source": [
        "`dir()` とすると出てくる一覧に `__builtin__` と言うのがあるので調べてみる。"
      ]
    },
    {
      "cell_type": "code",
      "metadata": {
        "id": "Vcz8tX7d4r_g"
      },
      "source": [
        "# dir(__builtin__) #=? 結構な数の組み込み関数があるのがわかる"
      ],
      "execution_count": null,
      "outputs": []
    },
    {
      "cell_type": "code",
      "metadata": {
        "colab": {
          "base_uri": "https://localhost:8080/"
        },
        "id": "e74_gj0VjvcO",
        "outputId": "d7be56f3-d717-4fd8-e57f-aba3a05a794f"
      },
      "source": [
        "# 実験\n",
        "print(abs(-5))\n",
        "print((-5).__abs__())"
      ],
      "execution_count": null,
      "outputs": [
        {
          "output_type": "stream",
          "text": [
            "5\n",
            "5\n"
          ],
          "name": "stdout"
        }
      ]
    },
    {
      "cell_type": "markdown",
      "metadata": {
        "id": "RiJeRUdrEEUq"
      },
      "source": [
        "リストの各要素へアクセスする方法はいくつかある。\n",
        "最も簡単な方法は bracket `[]` を使ってアクセスしたい要素番号を指定して、リストから値を取り出したり、その位置の値を書き換えたりする方法である。\n",
        "\n",
        "先頭の要素のインデックス番号は `0` である。\n"
      ]
    },
    {
      "cell_type": "code",
      "metadata": {
        "id": "DeCsf_L1Em29",
        "colab": {
          "base_uri": "https://localhost:8080/"
        },
        "outputId": "1643a8fe-7d65-438b-daa0-a78b5c50cd22"
      },
      "source": [
        "# 先頭の要素にアクセス\n",
        "numbers[0]"
      ],
      "execution_count": null,
      "outputs": [
        {
          "output_type": "execute_result",
          "data": {
            "text/plain": [
              "4"
            ]
          },
          "metadata": {
            "tags": []
          },
          "execution_count": 35
        }
      ]
    },
    {
      "cell_type": "code",
      "metadata": {
        "id": "ox-Ma4yv5xqO",
        "colab": {
          "base_uri": "https://localhost:8080/"
        },
        "outputId": "dddbea64-f330-44c9-dea9-e64a23d108c9"
      },
      "source": [
        "# 先頭から3番目の要素にアクセス\n",
        "numbers[2]"
      ],
      "execution_count": null,
      "outputs": [
        {
          "output_type": "execute_result",
          "data": {
            "text/plain": [
              "6"
            ]
          },
          "metadata": {
            "tags": []
          },
          "execution_count": 36
        }
      ]
    },
    {
      "cell_type": "code",
      "metadata": {
        "id": "ve-ETFIrv9cg"
      },
      "source": [
        "# 2 番目の要素を書き換え\n",
        "numbers[1] = 10"
      ],
      "execution_count": null,
      "outputs": []
    },
    {
      "cell_type": "code",
      "metadata": {
        "id": "AXpG-tqNv9cg",
        "colab": {
          "base_uri": "https://localhost:8080/"
        },
        "outputId": "8d48bc8f-73bc-4fd4-8393-4f5fbdbfd00a"
      },
      "source": [
        "# 値の確認\n",
        "numbers"
      ],
      "execution_count": null,
      "outputs": [
        {
          "output_type": "execute_result",
          "data": {
            "text/plain": [
              "[4, 10, 6, 7, 3]"
            ]
          },
          "metadata": {
            "tags": []
          },
          "execution_count": 38
        }
      ]
    },
    {
      "cell_type": "markdown",
      "metadata": {
        "id": "kOVYiVOwIfGW"
      },
      "source": [
        "また、インデックスに負の値を指定すると、末尾からの位置となる。\n",
        "要素番号 `-1` で最後の要素を参照することができる。"
      ]
    },
    {
      "cell_type": "code",
      "metadata": {
        "id": "WSaIdvb4IfGX",
        "colab": {
          "base_uri": "https://localhost:8080/"
        },
        "outputId": "7c091071-bbb5-487b-918e-b9a4995a6594"
      },
      "source": [
        "# 末尾の要素にアクセス\n",
        "numbers[-1]"
      ],
      "execution_count": null,
      "outputs": [
        {
          "output_type": "execute_result",
          "data": {
            "text/plain": [
              "3"
            ]
          },
          "metadata": {
            "tags": []
          },
          "execution_count": 39
        }
      ]
    },
    {
      "cell_type": "code",
      "metadata": {
        "id": "jP5fkl3V54WL",
        "colab": {
          "base_uri": "https://localhost:8080/"
        },
        "outputId": "437c6a1c-a38d-4923-b2de-a115346f0277"
      },
      "source": [
        "# 末尾から3番目の要素にアクセス\n",
        "numbers[-3]"
      ],
      "execution_count": null,
      "outputs": [
        {
          "output_type": "execute_result",
          "data": {
            "text/plain": [
              "6"
            ]
          },
          "metadata": {
            "tags": []
          },
          "execution_count": 40
        }
      ]
    },
    {
      "cell_type": "markdown",
      "metadata": {
        "id": "DLzLjTQ8EoG9"
      },
      "source": [
        "次に、リストから一度に複数の要素を取り出す操作である**スライス (slice)** を紹介する。\n",
        "`開始位置:終了位置` のようにコロン `:` を用いてインデックスを範囲指定し、複数の部分要素にアクセスする。\n",
        "このスライスの処理は、この後の章でも多用するため、慣れておく。\n",
        "\n",
        "例えば、先頭から 2 つの要素を取り出したい場合、以下のように指定する。"
      ]
    },
    {
      "cell_type": "code",
      "metadata": {
        "id": "MPI2H38DEy2N",
        "colab": {
          "base_uri": "https://localhost:8080/"
        },
        "outputId": "f0e476c1-57e5-491d-cbfb-72c79138afb2"
      },
      "source": [
        "numbers[0:2]"
      ],
      "execution_count": null,
      "outputs": [
        {
          "output_type": "execute_result",
          "data": {
            "text/plain": [
              "[4, 10]"
            ]
          },
          "metadata": {
            "tags": []
          },
          "execution_count": 41
        }
      ]
    },
    {
      "cell_type": "code",
      "metadata": {
        "id": "MZVbaUgjJztn",
        "colab": {
          "base_uri": "https://localhost:8080/"
        },
        "outputId": "3bdad51c-b21b-43b5-88fe-10f497fe572d"
      },
      "source": [
        "numbers"
      ],
      "execution_count": null,
      "outputs": [
        {
          "output_type": "execute_result",
          "data": {
            "text/plain": [
              "[4, 10, 6, 7, 3]"
            ]
          },
          "metadata": {
            "tags": []
          },
          "execution_count": 42
        }
      ]
    },
    {
      "cell_type": "code",
      "metadata": {
        "id": "urNpvh3RJk1l",
        "colab": {
          "base_uri": "https://localhost:8080/"
        },
        "outputId": "c50e3217-b742-4a11-cb4c-459caf1de9c9"
      },
      "source": [
        "slice(0,2)"
      ],
      "execution_count": null,
      "outputs": [
        {
          "output_type": "execute_result",
          "data": {
            "text/plain": [
              "slice(0, 2, None)"
            ]
          },
          "metadata": {
            "tags": []
          },
          "execution_count": 43
        }
      ]
    },
    {
      "cell_type": "code",
      "metadata": {
        "id": "utaEdITbIQF-",
        "colab": {
          "base_uri": "https://localhost:8080/"
        },
        "outputId": "1c2a0f4a-6322-41cc-bc89-1dea411a07b9"
      },
      "source": [
        "numbers[slice(0,2)]"
      ],
      "execution_count": null,
      "outputs": [
        {
          "output_type": "execute_result",
          "data": {
            "text/plain": [
              "[4, 10]"
            ]
          },
          "metadata": {
            "tags": []
          },
          "execution_count": 44
        }
      ]
    },
    {
      "cell_type": "markdown",
      "metadata": {
        "id": "gK6_JXXTE2AY"
      },
      "source": [
        "`開始位置:終了位置` と指定することで、開始位置から**終了位置のひとつ手前**までの要素を抽出する。 \n",
        "終了位置に指定したインデックスの値は含まれないことに注意する。\n",
        "\n",
        "また、指定する開始番号が `0` である場合、以下のような略記がよく用いられる。"
      ]
    },
    {
      "cell_type": "code",
      "metadata": {
        "id": "hBo2_C5aFPHR",
        "colab": {
          "base_uri": "https://localhost:8080/"
        },
        "outputId": "cc239931-b7ea-4ebf-c344-d3a36a494ccc"
      },
      "source": [
        "numbers[:2]"
      ],
      "execution_count": null,
      "outputs": [
        {
          "output_type": "execute_result",
          "data": {
            "text/plain": [
              "[4, 10]"
            ]
          },
          "metadata": {
            "tags": []
          },
          "execution_count": 45
        }
      ]
    },
    {
      "cell_type": "markdown",
      "metadata": {
        "id": "Qqem8sujFQVP"
      },
      "source": [
        "このように、先頭のインデックスは省略することができる。\n",
        "このような記法を使う場合は、終了位置を示す数字を**取り出したい要素の個数**と捉えて、**先頭から 2 つを取り出す**操作だと考えると分かりやすくなる。\n",
        "\n",
        "同様に、ある位置からリストの末尾までを取り出す場合も、終了位置のインデックスを省略することができる。\n",
        "例えば、2 個目の要素から最後までを取り出すには以下のようにする。"
      ]
    },
    {
      "cell_type": "code",
      "metadata": {
        "id": "gItFJqoUFYzX",
        "colab": {
          "base_uri": "https://localhost:8080/"
        },
        "outputId": "92655936-a8bc-47cb-8f4a-fa1fbd17df1a"
      },
      "source": [
        "numbers[1:]"
      ],
      "execution_count": null,
      "outputs": [
        {
          "output_type": "execute_result",
          "data": {
            "text/plain": [
              "[10, 6, 7, 3]"
            ]
          },
          "metadata": {
            "tags": []
          },
          "execution_count": 46
        }
      ]
    },
    {
      "cell_type": "markdown",
      "metadata": {
        "id": "RRlf3vqOv9cq"
      },
      "source": [
        "この場合は、取り出される要素の個数は `len(numbers) - 1` 個となることに注意する。\n",
        "\n",
        "以上から、`numbers[:2]` と `numbers[2:]` は、ちょうど 2 個目の要素を境に `numbers` の要素を 2 分割した前半部分と後半部分になっている。\n",
        "ここで、インデックスが 2 の要素自体は**後半部に含まれる**と言うことに注意する。\n",
        "\n",
        "また、開始位置も終了位置も省略した場合は、すべての要素が選択される。"
      ]
    },
    {
      "cell_type": "code",
      "metadata": {
        "id": "nav8WoxNv9cq",
        "colab": {
          "base_uri": "https://localhost:8080/"
        },
        "outputId": "196ab186-49c1-4828-8763-a17e602aaabf"
      },
      "source": [
        "numbers[:]"
      ],
      "execution_count": null,
      "outputs": [
        {
          "output_type": "execute_result",
          "data": {
            "text/plain": [
              "[4, 10, 6, 7, 3]"
            ]
          },
          "metadata": {
            "tags": []
          },
          "execution_count": 47
        }
      ]
    },
    {
      "cell_type": "markdown",
      "metadata": {
        "id": "9qPrP6sYv9cs"
      },
      "source": [
        "現状では、`numbers[:]` と `numbers` の結果が同じであるため、どのように使用するか疑問に思われるかも知れない。\n",
        "しかし、後の章では NumPy と言うライブラリを用いてリストの中にリストが入ったような**多次元配列 (multidimensional array)** を扱っていく。\n",
        "\n",
        "そして多次元配列を用いて行列を表す場合には、`0 列目のすべての値`を抽出するために `[:, 0]` のような記法を用いるケースが登場する。\n",
        "これは Python 標準の機能ではないが、Python 標準のスライス表記を拡張したものになっている。"
      ]
    },
    {
      "cell_type": "code",
      "metadata": {
        "id": "miinlVTDLPcD",
        "colab": {
          "base_uri": "https://localhost:8080/"
        },
        "outputId": "51bba5a9-c934-4865-8be7-57031444c210"
      },
      "source": [
        "x = [[1,2],[3,4]]\n",
        "x[:][0]"
      ],
      "execution_count": null,
      "outputs": [
        {
          "output_type": "execute_result",
          "data": {
            "text/plain": [
              "[1, 2]"
            ]
          },
          "metadata": {
            "tags": []
          },
          "execution_count": 48
        }
      ]
    },
    {
      "cell_type": "markdown",
      "metadata": {
        "id": "AyoiOU5OFfET"
      },
      "source": [
        "リストは数値以外に、文字列を扱うこともでき、また複数の型を同一のリスト内に混在させることもできる。"
      ]
    },
    {
      "cell_type": "code",
      "metadata": {
        "id": "9JglgRiWFyo8",
        "colab": {
          "base_uri": "https://localhost:8080/"
        },
        "outputId": "87749c78-eb8b-4948-9c6e-2aeca15de69d"
      },
      "source": [
        "# 文字列を格納したリスト\n",
        "array = ['hello', 'world']\n",
        "array"
      ],
      "execution_count": null,
      "outputs": [
        {
          "output_type": "execute_result",
          "data": {
            "text/plain": [
              "['hello', 'world']"
            ]
          },
          "metadata": {
            "tags": []
          },
          "execution_count": 49
        }
      ]
    },
    {
      "cell_type": "code",
      "metadata": {
        "id": "Q6UvldPtL1Mh",
        "colab": {
          "base_uri": "https://localhost:8080/"
        },
        "outputId": "bd942986-0ba6-4d63-d121-641c42e0d65a"
      },
      "source": [
        "len('hello')"
      ],
      "execution_count": null,
      "outputs": [
        {
          "output_type": "execute_result",
          "data": {
            "text/plain": [
              "5"
            ]
          },
          "metadata": {
            "tags": []
          },
          "execution_count": 50
        }
      ]
    },
    {
      "cell_type": "code",
      "metadata": {
        "id": "Kcf8MyrBv9cu",
        "colab": {
          "base_uri": "https://localhost:8080/"
        },
        "outputId": "87794bbc-78ff-412c-be1d-511e7d6288f4"
      },
      "source": [
        "# 複数の型が混在したリスト\n",
        "array = [1, 1.2, 'Chainer']\n",
        "array"
      ],
      "execution_count": null,
      "outputs": [
        {
          "output_type": "execute_result",
          "data": {
            "text/plain": [
              "[1, 1.2, 'Chainer']"
            ]
          },
          "metadata": {
            "tags": []
          },
          "execution_count": 51
        }
      ]
    },
    {
      "cell_type": "markdown",
      "metadata": {
        "id": "9fKT2sjNv9cu"
      },
      "source": [
        "リストにリストを代入することもできる。\n",
        "また、Python 標準のリストでは入れ子になったリスト内の要素数がばらばらでも問題ない。"
      ]
    },
    {
      "cell_type": "code",
      "metadata": {
        "id": "Q8JxfHS8v9cv",
        "colab": {
          "base_uri": "https://localhost:8080/"
        },
        "outputId": "f0b03409-97d2-4a0e-aed7-e98a3d8ad6c5"
      },
      "source": [
        "array = [[1, 1.2, 'Chainer', True], [3.2, 'Tutorial']]\n",
        "array"
      ],
      "execution_count": null,
      "outputs": [
        {
          "output_type": "execute_result",
          "data": {
            "text/plain": [
              "[[1, 1.2, 'Chainer', True], [3.2, 'Tutorial']]"
            ]
          },
          "metadata": {
            "tags": []
          },
          "execution_count": 52
        }
      ]
    },
    {
      "cell_type": "markdown",
      "metadata": {
        "id": "5lYy-LP6F3wP"
      },
      "source": [
        "リストを使う際に頻出する操作として、**リストへの値の追加**がある。\n",
        "リスト型には `append()` と言うメソッドが定義されており、これを用いてリストの末尾に新しい値を追加することができる。\n",
        "\n",
        "上記の `array` に値を追加してみる。"
      ]
    },
    {
      "cell_type": "code",
      "metadata": {
        "id": "RmgtEN8Lv9cw"
      },
      "source": [
        "# 末尾に 2.5 を追加\n",
        "array.append(2.5)"
      ],
      "execution_count": null,
      "outputs": []
    },
    {
      "cell_type": "code",
      "metadata": {
        "id": "2E8q5y94v9cx",
        "colab": {
          "base_uri": "https://localhost:8080/"
        },
        "outputId": "8da9724a-831b-43d7-edc1-171ae7f7222b"
      },
      "source": [
        "# 値の確認\n",
        "array"
      ],
      "execution_count": null,
      "outputs": [
        {
          "output_type": "execute_result",
          "data": {
            "text/plain": [
              "[[1, 1.2, 'Chainer', True], [3.2, 'Tutorial'], 2.5]"
            ]
          },
          "metadata": {
            "tags": []
          },
          "execution_count": 54
        }
      ]
    },
    {
      "cell_type": "markdown",
      "metadata": {
        "id": "y5dQJA57v9cz"
      },
      "source": [
        "また、今後頻出する処理として、**空のリスト**を定義しておき、そこに後段の処理の中で適宜新たな要素を追加していくと言う使い方がある。"
      ]
    },
    {
      "cell_type": "code",
      "metadata": {
        "id": "00AEmnpxGPky",
        "colab": {
          "base_uri": "https://localhost:8080/"
        },
        "outputId": "7d02694d-1098-4230-bf88-b1635d923330"
      },
      "source": [
        "# 空のリストを定義\n",
        "array = []\n",
        "\n",
        "# 空のリストに要素を追加\n",
        "array.append('Chainer')\n",
        "array.append('チュートリアル')\n",
        "\n",
        "array"
      ],
      "execution_count": null,
      "outputs": [
        {
          "output_type": "execute_result",
          "data": {
            "text/plain": [
              "['Chainer', 'チュートリアル']"
            ]
          },
          "metadata": {
            "tags": []
          },
          "execution_count": 55
        }
      ]
    },
    {
      "cell_type": "markdown",
      "metadata": {
        "id": "CV1072C3M7Qy"
      },
      "source": [
        "# タプル\n",
        "\n",
        "**タプル (tuple)** はリストと同様に複数の要素をまとめた型だが、リストとは異なる点として、定義した後に**中の要素を変更できない**と言う性質を持つ。\n",
        "\n",
        "タプルの定義には丸括弧 parenthesis `( )`を用いる。"
      ]
    },
    {
      "cell_type": "code",
      "metadata": {
        "id": "mo4lGZN6NGAI",
        "colab": {
          "base_uri": "https://localhost:8080/"
        },
        "outputId": "614d3b1c-0643-4991-cfd5-0b880c0fefb2"
      },
      "source": [
        "# タプルを定義\n",
        "array = (4, 5, 6, 7)\n",
        "array"
      ],
      "execution_count": null,
      "outputs": [
        {
          "output_type": "execute_result",
          "data": {
            "text/plain": [
              "(4, 5, 6, 7)"
            ]
          },
          "metadata": {
            "tags": []
          },
          "execution_count": 56
        }
      ]
    },
    {
      "cell_type": "code",
      "metadata": {
        "id": "LEUgknZov9c3",
        "colab": {
          "base_uri": "https://localhost:8080/"
        },
        "outputId": "014f9ea3-87b1-4a37-b49d-722fc67342df"
      },
      "source": [
        "# 型の確認\n",
        "type(array)"
      ],
      "execution_count": null,
      "outputs": [
        {
          "output_type": "execute_result",
          "data": {
            "text/plain": [
              "tuple"
            ]
          },
          "metadata": {
            "tags": []
          },
          "execution_count": 57
        }
      ]
    },
    {
      "cell_type": "markdown",
      "metadata": {
        "id": "9w2M0A02v9c3"
      },
      "source": [
        "タプルの定義する際に `( )` を使用したため、要素へのアクセスも `( )` を使うように感じるかもしれないが、実際にはリストと同様 `[ ]` を使用する。"
      ]
    },
    {
      "cell_type": "code",
      "metadata": {
        "id": "Fq7zIHMfNIXG",
        "colab": {
          "base_uri": "https://localhost:8080/"
        },
        "outputId": "49c9a599-c5b0-4e3e-becc-95138510da6f"
      },
      "source": [
        "# 先頭の要素へアクセス\n",
        "array[0]"
      ],
      "execution_count": null,
      "outputs": [
        {
          "output_type": "execute_result",
          "data": {
            "text/plain": [
              "4"
            ]
          },
          "metadata": {
            "tags": []
          },
          "execution_count": 58
        }
      ]
    },
    {
      "cell_type": "code",
      "metadata": {
        "id": "3XdB2S5pv9c4",
        "colab": {
          "base_uri": "https://localhost:8080/"
        },
        "outputId": "761646ba-db9d-40d7-e90c-6084d8bb77b2"
      },
      "source": [
        "# リストと同様、スライスも使用可能\n",
        "array[:3]"
      ],
      "execution_count": null,
      "outputs": [
        {
          "output_type": "execute_result",
          "data": {
            "text/plain": [
              "(4, 5, 6)"
            ]
          },
          "metadata": {
            "tags": []
          },
          "execution_count": 59
        }
      ]
    },
    {
      "cell_type": "markdown",
      "metadata": {
        "id": "KjdkYtSmNSl3"
      },
      "source": [
        "先述の通り、タプルは各要素の値を変更することができない。\n",
        "この性質は、定数項などプログラムの途中で書き換わってしまうことが望ましくないものをまとめて扱うのに便利である。\n",
        "\n",
        "実際に、タプルの要素に値の書き換えを行うとエラーが発生する。"
      ]
    },
    {
      "cell_type": "code",
      "metadata": {
        "id": "DRoToOjUNI51"
      },
      "source": [
        "# array[0] = 10 #=> TypeError: 'tuple' object does not support item assignment"
      ],
      "execution_count": null,
      "outputs": []
    },
    {
      "cell_type": "markdown",
      "metadata": {
        "id": "6aq_3yNZv9c6"
      },
      "source": [
        "`tuple` のように中身が変更できない性質のことを**イミュータブル (immutable)**であると言う。反対に、`list` のように中身が変更できる性質のことを**ミュータブル (mutable)**であると言う\n",
        "\n",
        "タプルも Chainer でデータセットを扱うときなどに頻出する型である。その性質と取り扱い方を覚えておく。"
      ]
    },
    {
      "cell_type": "markdown",
      "metadata": {
        "id": "nV8Lp5jLNO66"
      },
      "source": [
        "# 辞書\n",
        "\n",
        "リストやタプルでは、複数の値をまとめて扱うことができた。\n",
        "\n",
        "定期テストの結果をまとめることを考えてみる。\n",
        "\n",
        "例えば、数学 90 点、理科 75 点、英語 80 点だったと言う結果を `scores = [90, 75, 80]` とリストで表してみる。\n",
        "しかし、これでは**何番目がどの教科の点数に対応するか**、一見して分かりにくい。\n",
        "\n",
        "Python の `dict` 型は、**キー (key)** とそれに対応する**値 (value)** をセットにして格納することができる型であり、このようなときに便利である。\n",
        "\n",
        "リストやタプルでは、各要素にアクセスする際に整数のインデックスを用いていたが、辞書ではキーでインデックス化されているため、整数や文字列など、色々なものを使って要素を指定することができる。\n",
        "\n",
        "辞書は brace `{}` を用いて定義し、要素にアクセスする際には、リストやタプルと同様に `[ ]` を使用し、`[ ]` の中にキーを指定して対応する値を取り出す。"
      ]
    },
    {
      "cell_type": "code",
      "metadata": {
        "id": "NyxphI5fNMO8",
        "colab": {
          "base_uri": "https://localhost:8080/"
        },
        "outputId": "b4965eac-57ee-49da-9228-e1cc29fb9143"
      },
      "source": [
        "# 辞書を定義\n",
        "scores = {'Math': 90, 'Science': 75, 'English': 80 }\n",
        "scores"
      ],
      "execution_count": null,
      "outputs": [
        {
          "output_type": "execute_result",
          "data": {
            "text/plain": [
              "{'English': 80, 'Math': 90, 'Science': 75}"
            ]
          },
          "metadata": {
            "tags": []
          },
          "execution_count": 61
        }
      ]
    },
    {
      "cell_type": "code",
      "metadata": {
        "id": "M-V2XOEdNu2a",
        "colab": {
          "base_uri": "https://localhost:8080/"
        },
        "outputId": "452bc892-8161-4414-dc2e-2515bea4cf5e"
      },
      "source": [
        "# key が Math の value にアクセス\n",
        "scores['Math'] "
      ],
      "execution_count": null,
      "outputs": [
        {
          "output_type": "execute_result",
          "data": {
            "text/plain": [
              "90"
            ]
          },
          "metadata": {
            "tags": []
          },
          "execution_count": 62
        }
      ]
    },
    {
      "cell_type": "code",
      "metadata": {
        "id": "TA5V7SUBv9c8",
        "colab": {
          "base_uri": "https://localhost:8080/"
        },
        "outputId": "a1866335-8da0-46c8-80c3-0b2face94861"
      },
      "source": [
        "# key に日本語を使用することも可能\n",
        "scores = {'数学': 90, '理科': 75, '英語': 80}\n",
        "scores"
      ],
      "execution_count": null,
      "outputs": [
        {
          "output_type": "execute_result",
          "data": {
            "text/plain": [
              "{'数学': 90, '理科': 75, '英語': 80}"
            ]
          },
          "metadata": {
            "tags": []
          },
          "execution_count": 63
        }
      ]
    },
    {
      "cell_type": "code",
      "metadata": {
        "id": "IL2y81t-v9c9",
        "colab": {
          "base_uri": "https://localhost:8080/"
        },
        "outputId": "f9df0544-a25e-4ab8-f1df-f6301ba590cf"
      },
      "source": [
        "scores['数学']"
      ],
      "execution_count": null,
      "outputs": [
        {
          "output_type": "execute_result",
          "data": {
            "text/plain": [
              "90"
            ]
          },
          "metadata": {
            "tags": []
          },
          "execution_count": 64
        }
      ]
    },
    {
      "cell_type": "markdown",
      "metadata": {
        "id": "Jd_XpPMqfrSL"
      },
      "source": [
        "他の人が定義した辞書に、**どのようなキーが存在するのか**を調べたいときがある。\n",
        "辞書には、そのような場合に使える便利なメソッドがいくつか存在する。\n",
        "\n",
        "- `keys()`: キーのリストを取得。`dict_keys` と言うリストと性質が似た型が返る\n",
        "- `values()`: 値のリストを取得。`dict_values` と言うリストと性質が似た型が返る\n",
        "- `items()`: 各要素の `(key, value)` のタプルが並んだリストを取得。`dict_items` と言うリストと性質が似た型が返る"
      ]
    },
    {
      "cell_type": "code",
      "metadata": {
        "id": "FkJjSlbShKjK",
        "colab": {
          "base_uri": "https://localhost:8080/"
        },
        "outputId": "fefa4ace-7768-4043-f2c5-91a76dc5a3c3"
      },
      "source": [
        "# キーのリスト\n",
        "scores.keys()"
      ],
      "execution_count": null,
      "outputs": [
        {
          "output_type": "execute_result",
          "data": {
            "text/plain": [
              "dict_keys(['数学', '理科', '英語'])"
            ]
          },
          "metadata": {
            "tags": []
          },
          "execution_count": 65
        }
      ]
    },
    {
      "cell_type": "code",
      "metadata": {
        "id": "YOAOTDtUhNBz",
        "colab": {
          "base_uri": "https://localhost:8080/"
        },
        "outputId": "14b72d7b-c87e-4e69-f016-901b0cab945f"
      },
      "source": [
        "# 値のリスト\n",
        "scores.values()"
      ],
      "execution_count": null,
      "outputs": [
        {
          "output_type": "execute_result",
          "data": {
            "text/plain": [
              "dict_values([90, 75, 80])"
            ]
          },
          "metadata": {
            "tags": []
          },
          "execution_count": 66
        }
      ]
    },
    {
      "cell_type": "code",
      "metadata": {
        "id": "mWA7opwAhVEa",
        "colab": {
          "base_uri": "https://localhost:8080/"
        },
        "outputId": "81d91f89-3ed0-4a0f-b6fc-c2d640f08a3c"
      },
      "source": [
        "# (キー, 値)と言うタプルを要素とするリスト\n",
        "scores.items()"
      ],
      "execution_count": null,
      "outputs": [
        {
          "output_type": "execute_result",
          "data": {
            "text/plain": [
              "dict_items([('数学', 90), ('理科', 75), ('英語', 80)])"
            ]
          },
          "metadata": {
            "tags": []
          },
          "execution_count": 67
        }
      ]
    },
    {
      "cell_type": "markdown",
      "metadata": {
        "id": "I9WEXgSZv9dC"
      },
      "source": [
        "`dict_keys`, `dict_values`, `dict_items` と新しい型が登場したが、これは辞書型特有の型であり厳密には標準のリストとは異なるが、リストと性質の似た型であると言う程度の認識で問題ない。"
      ]
    },
    {
      "cell_type": "markdown",
      "metadata": {
        "id": "qpoTmSY8bTDw"
      },
      "source": [
        "辞書に要素を追加する場合は、新しいキーを指定して値を代入する。"
      ]
    },
    {
      "cell_type": "code",
      "metadata": {
        "id": "nDZ4RRcjnERu"
      },
      "source": [
        "scores['国語'] = 85"
      ],
      "execution_count": null,
      "outputs": []
    },
    {
      "cell_type": "code",
      "metadata": {
        "id": "P0HJVZJSnKal",
        "colab": {
          "base_uri": "https://localhost:8080/"
        },
        "outputId": "0b36b8a2-2833-46f2-ba8b-5ebec1b9d4e1"
      },
      "source": [
        "scores"
      ],
      "execution_count": null,
      "outputs": [
        {
          "output_type": "execute_result",
          "data": {
            "text/plain": [
              "{'国語': 85, '数学': 90, '理科': 75, '英語': 80}"
            ]
          },
          "metadata": {
            "tags": []
          },
          "execution_count": 69
        }
      ]
    },
    {
      "cell_type": "markdown",
      "metadata": {
        "id": "NIC2fwAknPf9"
      },
      "source": [
        "また、既に存在するキーを指定した場合には、値が上書きされる。"
      ]
    },
    {
      "cell_type": "code",
      "metadata": {
        "id": "teLZbAHQnUfN"
      },
      "source": [
        "scores['数学'] = 95"
      ],
      "execution_count": null,
      "outputs": []
    },
    {
      "cell_type": "code",
      "metadata": {
        "id": "kQESKoXgnYRN",
        "colab": {
          "base_uri": "https://localhost:8080/"
        },
        "outputId": "4da5b930-ed2b-4d73-cd32-5ae8cc569dca"
      },
      "source": [
        "scores"
      ],
      "execution_count": null,
      "outputs": [
        {
          "output_type": "execute_result",
          "data": {
            "text/plain": [
              "{'国語': 85, '数学': 95, '理科': 75, '英語': 80}"
            ]
          },
          "metadata": {
            "tags": []
          },
          "execution_count": 71
        }
      ]
    },
    {
      "cell_type": "markdown",
      "metadata": {
        "id": "zTYLayT3qEzA"
      },
      "source": [
        "# 制御構文 control structure, control flow\n",
        "\n",
        "複雑なプログラムを記述しようとすると、繰り返しの処理や、条件によって動作を変える処理が必要となる。\n",
        "これらは**制御構文**を用いて記述する。\n",
        "\n",
        "ここでは最も基本的な制御構文を 2 つ紹介する。\n",
        "\n",
        "- 繰り返し (`for`, `while`)\n",
        "- 条件分岐 (`if`)\n",
        "\n",
        "Python の制御構文は、**ヘッダ (header)** と **ブロック (block)** と呼ばれる 2 つの部分で構成されている。\n",
        "これらを合わせて **複合文 (compound statement)** と呼ぶ。\n",
        "\n",
        "\n",
        "```\n",
        "if 条件: # コロンが必要。 ヘッダー\n",
        "    処理ブロック # インデントが必要。半角スペース4つ\n",
        "```\n"
      ]
    },
    {
      "cell_type": "markdown",
      "metadata": {
        "id": "ciZc5_PCv9dJ"
      },
      "source": [
        "上図に示すように、制御構文ではヘッダ行に `for` 文や `if-else` 句を記述し、行末に `:` 記号を書く。次に、ヘッダ行の条件で実行したい一連の処理文を、ブロックとしてその次の行以降に記述していく。その際、 **インデント (indent)** と呼ばれる空白文字を先頭に挿入することで、ブロックを表現する。同じ数の空白でインデントされた文がブロックとみなされる。\n",
        "\n",
        "Python では、インデントとして**スペース 4 つ**を用いることが推奨されている。\n",
        "\n",
        "&nbsp;"
      ]
    },
    {
      "cell_type": "markdown",
      "metadata": {
        "id": "oELnTpERNwCQ"
      },
      "source": [
        "**繰り返し（for 文）**\n",
        "\n",
        "同じ内容のメールを宛名だけ個別に変えて、1000 人に一斉送信したい場合など、繰り返す処理を記述する制御構文である `for` を使う。\n",
        "\n",
        "```\n",
        "for 変数名 in イテラブルオブジェクト: ヘッダー\n",
        "    ブロック処理\n",
        "```"
      ]
    },
    {
      "cell_type": "markdown",
      "metadata": {
        "id": "_-50XwKOv9dJ"
      },
      "source": [
        "**イテラブルオブジェクト (iterable object)** とは、反復可能オブジェクトのことであり、要素を一度に 1 つずつ返せるオブジェクトのことを指す。\n",
        "`range()` と言う組み込み関数を使うと、引数に与えた整数の回数だけ順番に整数を返すイテラブルオブジェクトを作ることができる。\n",
        "`range(5)` と書くと、0, 1, 2, 3, 4 と言う整数 5 つを順番に返すイテラブルオブジェクトになる。\n",
        "\n",
        "このイテラブルオブジェクトとして、リストやタプルも指定することができる。"
      ]
    },
    {
      "cell_type": "code",
      "metadata": {
        "id": "f7Y4APgkON_7",
        "colab": {
          "base_uri": "https://localhost:8080/"
        },
        "outputId": "8cc0681f-1fcd-48f1-9deb-9aac8b1e272e"
      },
      "source": [
        "# 5回繰り返す\n",
        "for i in range(5):\n",
        "    print(i)"
      ],
      "execution_count": null,
      "outputs": [
        {
          "output_type": "stream",
          "text": [
            "0\n",
            "1\n",
            "2\n",
            "3\n",
            "4\n"
          ],
          "name": "stdout"
        }
      ]
    },
    {
      "cell_type": "markdown",
      "metadata": {
        "id": "oLpTgIv4OPnt"
      },
      "source": [
        "上記の例では、イテラブルオブジェクトが1 つずつ返す値を変数 `i` で受け取っている。\n",
        "\n",
        "最初は `i = 0` から始まっている。\n",
        "\n",
        "最後の値も、`5` ではなく `4` となっている。\n",
        "\n",
        "このように、`range()` に 1 つの整数を与えた場合は、その整数 - 1 まで 0 から 1 つずつ増えていく整数を順番に返す。"
      ]
    },
    {
      "cell_type": "code",
      "metadata": {
        "id": "SUTjSLuKv9dK",
        "colab": {
          "base_uri": "https://localhost:8080/"
        },
        "outputId": "fe3a3be7-3c97-4542-92eb-43c7e41d0206"
      },
      "source": [
        "# 繰り返し処理が終わった後の値の確認 => 今回の場合 4\n",
        "i"
      ],
      "execution_count": null,
      "outputs": [
        {
          "output_type": "execute_result",
          "data": {
            "text/plain": [
              "4"
            ]
          },
          "metadata": {
            "tags": []
          },
          "execution_count": 73
        }
      ]
    },
    {
      "cell_type": "markdown",
      "metadata": {
        "id": "4sMmj2Ewv9dL"
      },
      "source": [
        "Jupyter Notebook では変数名をコードセルの最後の行に書いて実行するとその変数に代入されている値を確認できたが、for 文の中のブロックでは明示的に `print()` を使う必要がある。\n",
        "`print()` を用いないと、以下のように何も表示されない。"
      ]
    },
    {
      "cell_type": "code",
      "metadata": {
        "id": "2SlR9vcGv9dL"
      },
      "source": [
        "# 変数の値は表示されない\n",
        "for i in range(5):\n",
        "    i"
      ],
      "execution_count": null,
      "outputs": []
    },
    {
      "cell_type": "markdown",
      "metadata": {
        "id": "tEczQdb9v9dM"
      },
      "source": [
        "for 文を使って、0 から始まって 1 ずつ大きくなっていく整数順番に取得し、これをリストのインデックスに利用すれば、リストの各要素に順番にアクセスすることができる。"
      ]
    },
    {
      "cell_type": "code",
      "metadata": {
        "id": "b6XXuQ_gOnxk",
        "colab": {
          "base_uri": "https://localhost:8080/"
        },
        "outputId": "101b8dc9-5def-41be-e4ec-0d2f179805b3"
      },
      "source": [
        "names = ['佐藤', '鈴木', '高橋']\n",
        "\n",
        "for i in range(3):\n",
        "    print(names[i])"
      ],
      "execution_count": null,
      "outputs": [
        {
          "output_type": "stream",
          "text": [
            "佐藤\n",
            "鈴木\n",
            "高橋\n"
          ],
          "name": "stdout"
        }
      ]
    },
    {
      "cell_type": "markdown",
      "metadata": {
        "id": "ci6hVBb-v9dN"
      },
      "source": [
        "少し応用して、自動的に敬称をつけて表示してみる。"
      ]
    },
    {
      "cell_type": "code",
      "metadata": {
        "id": "B24Fyoe9v9dN",
        "colab": {
          "base_uri": "https://localhost:8080/"
        },
        "outputId": "ea7ab1e7-ab95-494e-f425-a3e2c08c3da2"
      },
      "source": [
        "for i in range(3):\n",
        "    print('{}さん'.format(names[i]))"
      ],
      "execution_count": null,
      "outputs": [
        {
          "output_type": "stream",
          "text": [
            "佐藤さん\n",
            "鈴木さん\n",
            "高橋さん\n"
          ],
          "name": "stdout"
        }
      ]
    },
    {
      "cell_type": "markdown",
      "metadata": {
        "id": "msGhS1ISv9dN"
      },
      "source": [
        "上記のコードに関して、汎用性が低い点として、`range(3)` のように `3` と言う値を直接記述していることが挙げられる。\n",
        "\n",
        "この `3` はリストの要素の数を意味しているが、リストの要素の数が変わると、このプログラムも書き換える必要があり、手間がかかったり、ミスが発生する原因となったりする。\n",
        "\n",
        "リスト内の要素の数は、組み込み関数である `len()` を用いて取得できるため、これを使用した汎用性の高いプログラムに書き換える。\n",
        "\n",
        "&nbsp;"
      ]
    },
    {
      "cell_type": "code",
      "metadata": {
        "id": "e4gbC4CIOzve",
        "colab": {
          "base_uri": "https://localhost:8080/"
        },
        "outputId": "8b026e98-a41f-4d9b-af4c-dfe5c8bbde2f"
      },
      "source": [
        "len(names)"
      ],
      "execution_count": null,
      "outputs": [
        {
          "output_type": "execute_result",
          "data": {
            "text/plain": [
              "3"
            ]
          },
          "metadata": {
            "tags": []
          },
          "execution_count": 77
        }
      ]
    },
    {
      "cell_type": "code",
      "metadata": {
        "id": "4i21QYMwPB1C",
        "colab": {
          "base_uri": "https://localhost:8080/"
        },
        "outputId": "89dc4f0a-4610-4393-8a50-e68845ac248d"
      },
      "source": [
        "for i in range(len(names)):\n",
        "    print('{}さん'.format(names[i]))"
      ],
      "execution_count": null,
      "outputs": [
        {
          "output_type": "stream",
          "text": [
            "佐藤さん\n",
            "鈴木さん\n",
            "高橋さん\n"
          ],
          "name": "stdout"
        }
      ]
    },
    {
      "cell_type": "markdown",
      "metadata": {
        "id": "9wx-qJovPEC0"
      },
      "source": [
        "これでリストの要素数に依存しないプログラムにすることができた。"
      ]
    },
    {
      "cell_type": "markdown",
      "metadata": {
        "id": "KIO9gkUnv9dR"
      },
      "source": [
        "また、リスト自体をイテラブルオブジェクトとして指定することにより、リスト要素数の取得も `[]` でのインデックス番号の指定もせずに、より可読性の高いプログラムを書くことができる。"
      ]
    },
    {
      "cell_type": "code",
      "metadata": {
        "id": "EDqeGWucv9dR",
        "colab": {
          "base_uri": "https://localhost:8080/"
        },
        "outputId": "7a025bb2-f27b-4c84-a1fc-6d4bdd500cc6"
      },
      "source": [
        "# リストをイテラブルオブジェクトに指定\n",
        "for name in names:\n",
        "    print('{}さん'.format(name))"
      ],
      "execution_count": null,
      "outputs": [
        {
          "output_type": "stream",
          "text": [
            "佐藤さん\n",
            "鈴木さん\n",
            "高橋さん\n"
          ],
          "name": "stdout"
        }
      ]
    },
    {
      "cell_type": "markdown",
      "metadata": {
        "id": "eeTHJ3hzPW7U"
      },
      "source": [
        "リストをイテラブルオブジェクトとして指定した場合、要素番号を取得できないが、状況によっては要素番号を使用したいことがある。\n",
        "\n",
        "そのような場合は、`enumerate()` と言う組み込み関数を使う。\n",
        "これにイテラブルオブジェクトを渡すと、`(要素番号, 要素)` と言うタプルを 1 つずつ返すイテラブルオブジェクトになる。"
      ]
    },
    {
      "cell_type": "code",
      "metadata": {
        "id": "8dT-qUhGv9dT"
      },
      "source": [
        "# enumerate の使い方\n",
        "for i, name in enumerate(names):\n",
        "    message = '{}番目: {}さん'.format(i, name)\n",
        "    print(message)"
      ],
      "execution_count": null,
      "outputs": []
    },
    {
      "cell_type": "code",
      "metadata": {
        "id": "E2uESzXk7fUf",
        "colab": {
          "base_uri": "https://localhost:8080/"
        },
        "outputId": "f2b309fe-5ef1-48e2-d6a7-47aa8ac3114b"
      },
      "source": [
        "# 実験\n",
        "print(list(enumerate(names)))"
      ],
      "execution_count": null,
      "outputs": [
        {
          "output_type": "stream",
          "text": [
            "[(0, '佐藤'), (1, '鈴木'), (2, '高橋')]\n"
          ],
          "name": "stdout"
        }
      ]
    },
    {
      "cell_type": "markdown",
      "metadata": {
        "id": "wGwCa9wmP2r4"
      },
      "source": [
        "`enumerate()` と同様、`for` 文と合わせてよく使う組み込み関数に `zip()` がある。\n",
        "\n",
        "`zip()` は、複数のイテラブルオブジェクトを受け取り、その要素のペアを順番に返すイテラブルオブジェクトを作る。\n",
        "このイテラブルオブジェクトは、渡されたイテラブルオブジェクトそれぞれの先頭の要素から順番に、タプルに束ねて返す。\n",
        "このイテラブルオブジェクトの長さは、渡されたイテラブルオブジェクトのうち最も短い長さと一致する。"
      ]
    },
    {
      "cell_type": "code",
      "metadata": {
        "id": "5w8huhHcQR8F",
        "colab": {
          "base_uri": "https://localhost:8080/"
        },
        "outputId": "92bfbe23-8387-45dc-fcfa-b0ec10506a00"
      },
      "source": [
        "# zip の使い方\n",
        "names = ['Python', 'Chainer']\n",
        "versions = ['3.7', '5.3.0']\n",
        "suffixes = ['!!', '!!', '?']\n",
        "\n",
        "for name, version, suffix in zip(names, versions, suffixes):\n",
        "    print('{} {} {}'.format(name, version, suffix))\n",
        "\n",
        "#実験\n",
        "print(list(zip(names, versions, suffixes)))"
      ],
      "execution_count": null,
      "outputs": [
        {
          "output_type": "stream",
          "text": [
            "Python 3.7 !!\n",
            "Chainer 5.3.0 !!\n",
            "[('Python', '3.7', '!!'), ('Chainer', '5.3.0', '!!')]\n"
          ],
          "name": "stdout"
        }
      ]
    },
    {
      "cell_type": "markdown",
      "metadata": {
        "id": "IeQCA00UQYDq"
      },
      "source": [
        "`suffixes` の要素数は 3 だが、より短いイテラブルオブジェクトと共に `zip` に渡されたため、先頭から 2 つ目までしか値が取り出されていない。"
      ]
    },
    {
      "cell_type": "markdown",
      "metadata": {
        "id": "WguFiYgqQnQT"
      },
      "source": [
        "**条件分岐（if 文）**\n",
        "\n",
        "`if` は、指定した条件が `True` か `False` かによって、処理を変えるための制御構文である。\n",
        "```\n",
        "if 条件: # 条件が True であればブロック処理を実行。ヘッダー\n",
        "    処理ブロック\n",
        "elif 条件: # if の条件が False で追加の条件分岐(任意)。ヘッダー\n",
        "    処理ブロック\n",
        "else: # すべてが False の場合の条件分岐(任意)。ヘッダー\n",
        "    処理ブロック\n",
        "```\n",
        "\n",
        "**python の if は文であって、式ではない。**\n",
        "\n",
        "&nbsp;"
      ]
    },
    {
      "cell_type": "markdown",
      "metadata": {
        "id": "J-Z8g-Klv9dV"
      },
      "source": [
        "`elif` と `else` は任意であり、`elif` は 1 つだけでなく複数連ねることができる。\n",
        "\n",
        "例えば、0 より大きいことを条件とした処理を書いてみる。"
      ]
    },
    {
      "cell_type": "code",
      "metadata": {
        "id": "E-x_6gXwSsm7",
        "colab": {
          "base_uri": "https://localhost:8080/"
        },
        "outputId": "16127dfd-db5c-40ef-d75a-0da96def75a8"
      },
      "source": [
        "# if の条件を満たす場合\n",
        "a = 1\n",
        "\n",
        "if a > 0:\n",
        "    print('0より大きい')\n",
        "else:\n",
        "    print('0以下')"
      ],
      "execution_count": null,
      "outputs": [
        {
          "output_type": "stream",
          "text": [
            "0より大きい\n"
          ],
          "name": "stdout"
        }
      ]
    },
    {
      "cell_type": "code",
      "metadata": {
        "id": "BmcHf-w5v9dV",
        "colab": {
          "base_uri": "https://localhost:8080/"
        },
        "outputId": "0fe00ec6-c7e1-4ce9-f841-d757d20d7fcf"
      },
      "source": [
        "# if の条件を満たさない場合\n",
        "a = -1\n",
        "\n",
        "if a > 0:\n",
        "    print('0より大きい')\n",
        "else:\n",
        "    print('0以下')"
      ],
      "execution_count": null,
      "outputs": [
        {
          "output_type": "stream",
          "text": [
            "0以下\n"
          ],
          "name": "stdout"
        }
      ]
    },
    {
      "cell_type": "markdown",
      "metadata": {
        "id": "u0F8tX6FStcQ"
      },
      "source": [
        "また、`if` に対する条件以外の条件分岐を追加する場合は、下記のように `elif` を使う。"
      ]
    },
    {
      "cell_type": "code",
      "metadata": {
        "id": "6li0UyjpStjg",
        "colab": {
          "base_uri": "https://localhost:8080/"
        },
        "outputId": "ae76da9f-d935-4720-95db-6eb57b568357"
      },
      "source": [
        "a = 0\n",
        "\n",
        "if a > 0:    \n",
        "    print('0より大きい')\n",
        "elif a == 0:\n",
        "    print('０')\n",
        "else:\n",
        "    print('0より小さい')"
      ],
      "execution_count": null,
      "outputs": [
        {
          "output_type": "stream",
          "text": [
            "０\n"
          ],
          "name": "stdout"
        }
      ]
    },
    {
      "cell_type": "markdown",
      "metadata": {
        "id": "tZ15Hv9Gv9dY"
      },
      "source": [
        "**繰り返し（while 文）**\n",
        "\n",
        "繰り返し処理は、`for` 以外にも `while` を用いて記述することもできる。\n",
        "`while` 文では、以下のように**ループを継続する条件**を指定する。\n",
        "指定された条件文が `True` である限り、ブロックの部分に記述された処理が繰り返し実行される。\n",
        "\n",
        "```\n",
        "while 条件: # True であればブロック処理を実行。ヘッダー\n",
        "    ブロック処理\n",
        "```\n"
      ]
    },
    {
      "cell_type": "markdown",
      "metadata": {
        "id": "Zjv8d3Rmv9dZ"
      },
      "source": [
        "`while` 文を使用した 3 回繰り返すプログラムは下記のとおりである。"
      ]
    },
    {
      "cell_type": "code",
      "metadata": {
        "id": "aFhfzaDFv9dZ",
        "colab": {
          "base_uri": "https://localhost:8080/"
        },
        "outputId": "98c0c7b5-8663-4382-8a21-e864054a860e"
      },
      "source": [
        "count = 0\n",
        "\n",
        "while count < 3:\n",
        "    print(count)\n",
        "    count += 1"
      ],
      "execution_count": null,
      "outputs": [
        {
          "output_type": "stream",
          "text": [
            "0\n",
            "1\n",
            "2\n"
          ],
          "name": "stdout"
        }
      ]
    },
    {
      "cell_type": "markdown",
      "metadata": {
        "id": "1Q3QReThv9da"
      },
      "source": [
        "ここで使われている `count` と言う変数は、ループの中身が何回実行されたかを数えるために使われている。\n",
        "まず `0` で初期化し、ループ内の処理が一度行われるたびに `count` の値に 1 を足している。\n",
        "この `count` を使った条件式を `while` 文に与えることで、ループを回したい回数を指定している。\n",
        "\n",
        "一方、`while True` と指定すると、`True` は変数ではなく値なので、変更されることはなく、ループは無限に回り続ける。\n",
        "`while` 文自体は無限ループの状態にしておき、ループの中で `if` 文を使って、ある条件が満たされた場合はループを中断する、と言う使い方ができる。\n",
        "これには `break` 文が用いられる。\n",
        "\n",
        "以下は、`break` 文を使って上のコードと同様に 3 回ループを回すコードである。"
      ]
    },
    {
      "cell_type": "code",
      "metadata": {
        "id": "wj65vycFv9da",
        "colab": {
          "base_uri": "https://localhost:8080/"
        },
        "outputId": "c6d1d255-3e9a-45f0-96f7-921204a756a0"
      },
      "source": [
        "count = 0\n",
        "\n",
        "while True:\n",
        "    print(count)\n",
        "    count += 1\n",
        "    \n",
        "    if count == 3:\n",
        "        break"
      ],
      "execution_count": null,
      "outputs": [
        {
          "output_type": "stream",
          "text": [
            "0\n",
            "1\n",
            "2\n"
          ],
          "name": "stdout"
        }
      ]
    },
    {
      "cell_type": "markdown",
      "metadata": {
        "id": "AQFnBfgEv9da"
      },
      "source": [
        "`count` の値が 3 と等しいかどうかが毎回チェックされ、等しくなっていれば `break` 文が実行されて `while` ループが終了する。"
      ]
    },
    {
      "cell_type": "markdown",
      "metadata": {
        "id": "2rtEn2APv9db"
      },
      "source": [
        "`while` 文を使って、指定された条件を満たして**いない**間ループを繰り返すと言う処理も書くことができる。`while` 文自体の使い方は同じだが、条件を反転して与えることで、与えた条件が `False` である間繰り返されるようにすることができる。\n",
        "\n",
        "これには、ブール値を反転する `not` を用いる。\n",
        "`not True` は `False` を返し、`not False` は `True` を返す。"
      ]
    },
    {
      "cell_type": "code",
      "metadata": {
        "id": "0PucNNA0v9db",
        "colab": {
          "base_uri": "https://localhost:8080/"
        },
        "outputId": "50c3c02a-f750-4e24-d218-62aeef2e66c6"
      },
      "source": [
        "not True"
      ],
      "execution_count": null,
      "outputs": [
        {
          "output_type": "execute_result",
          "data": {
            "text/plain": [
              "False"
            ]
          },
          "metadata": {
            "tags": []
          },
          "execution_count": 88
        }
      ]
    },
    {
      "cell_type": "code",
      "metadata": {
        "id": "9iX7JkEOv9db",
        "colab": {
          "base_uri": "https://localhost:8080/"
        },
        "outputId": "221d5778-6bfe-4fa1-d631-c41202faee07"
      },
      "source": [
        "not False"
      ],
      "execution_count": null,
      "outputs": [
        {
          "output_type": "execute_result",
          "data": {
            "text/plain": [
              "True"
            ]
          },
          "metadata": {
            "tags": []
          },
          "execution_count": 89
        }
      ]
    },
    {
      "cell_type": "code",
      "metadata": {
        "id": "TkSUZ1iZv9dc",
        "colab": {
          "base_uri": "https://localhost:8080/"
        },
        "outputId": "f01377f4-4d49-4993-f495-01961c9c8c69"
      },
      "source": [
        "not 1 == 2"
      ],
      "execution_count": null,
      "outputs": [
        {
          "output_type": "execute_result",
          "data": {
            "text/plain": [
              "True"
            ]
          },
          "metadata": {
            "tags": []
          },
          "execution_count": 90
        }
      ]
    },
    {
      "cell_type": "markdown",
      "metadata": {
        "id": "0aM2yZ7qv9dd"
      },
      "source": [
        "このように、`not` はあとに続くブール値を反転する。\n",
        "これを用いて、`count` が 3 **ではない**限りループを繰り返すと言うコードを `while` 文を使って書いてみる。"
      ]
    },
    {
      "cell_type": "code",
      "metadata": {
        "id": "vhvBNYCXv9dd",
        "colab": {
          "base_uri": "https://localhost:8080/"
        },
        "outputId": "d3aba008-648d-49f0-f0bf-f5f53afa21a4"
      },
      "source": [
        "count = 0\n",
        "\n",
        "while not count == 3:\n",
        "    print(count)\n",
        "    count += 1"
      ],
      "execution_count": null,
      "outputs": [
        {
          "output_type": "stream",
          "text": [
            "0\n",
            "1\n",
            "2\n"
          ],
          "name": "stdout"
        }
      ]
    },
    {
      "cell_type": "markdown",
      "metadata": {
        "id": "e96zsBv7IfDn"
      },
      "source": [
        "**関数**\n",
        "\n",
        "何かひとまとまりの処理を書いた際には、その処理のためのコードをまとめて、プログラム全体の色々な箇所から再利用できるようにしておくと、便利な場合がある。\n",
        "ここでは、処理をひとまとめにする方法の一つとして**関数 (function)** を定義する方法を紹介する。"
      ]
    },
    {
      "cell_type": "markdown",
      "metadata": {
        "id": "RCB98_8xv9df"
      },
      "source": [
        "**関数を定義する**\n",
        "\n",
        "\n",
        "\n",
        "```\n",
        "def 関数名 (引数1,2,...): ヘッダー\n",
        "    処理ブロック\n",
        "```\n",
        "\n",
        "例えば、**受け取った値を 2 倍して表示する関数**を作ってみる。\n",
        "\n",
        "関数を定義するには、まず名前を決める必要がある。\n",
        "今回は `double()` と言う名前の関数を定義してみる。\n",
        "\n",
        "関数も制御構文と同じく**ヘッダー**と**ブロック**を持っている。"
      ]
    },
    {
      "cell_type": "code",
      "metadata": {
        "id": "iDh3Mpi_IfDp"
      },
      "source": [
        "# 関数 double() の定義\n",
        "def double(x):\n",
        "    print(2 * x)"
      ],
      "execution_count": null,
      "outputs": []
    },
    {
      "cell_type": "code",
      "metadata": {
        "id": "PKUJjAqMlQeY",
        "colab": {
          "base_uri": "https://localhost:8080/"
        },
        "outputId": "4e69ee8d-b96f-4be7-f594-990cb28e4105"
      },
      "source": [
        "# 実験 1 行に書けるか => 書ける\n",
        "def double(x): print (2*x)\n",
        "\n",
        "double (3)"
      ],
      "execution_count": null,
      "outputs": [
        {
          "output_type": "stream",
          "text": [
            "6\n"
          ],
          "name": "stdout"
        }
      ]
    },
    {
      "cell_type": "code",
      "metadata": {
        "id": "S1ng7wyXl07f",
        "colab": {
          "base_uri": "https://localhost:8080/"
        },
        "outputId": "56743e23-7304-4ff0-9781-1f14c140f068"
      },
      "source": [
        "# 実験 無名関数 lambda => 定義と同じ構文\n",
        "(lambda x: print (2*x))(3)"
      ],
      "execution_count": null,
      "outputs": [
        {
          "output_type": "stream",
          "text": [
            "6\n"
          ],
          "name": "stdout"
        }
      ]
    },
    {
      "cell_type": "code",
      "metadata": {
        "id": "ABVOAUsBmQZ2",
        "colab": {
          "base_uri": "https://localhost:8080/"
        },
        "outputId": "705fb33c-e9ef-4bc0-eee1-8fa835ce2d61"
      },
      "source": [
        "# 実験 無名関数 lambda => 定義と同じ構文\n",
        "(lambda x: \n",
        "     print (2*x))\n",
        "(3)"
      ],
      "execution_count": null,
      "outputs": [
        {
          "output_type": "execute_result",
          "data": {
            "text/plain": [
              "3"
            ]
          },
          "metadata": {
            "tags": []
          },
          "execution_count": 9
        }
      ]
    },
    {
      "cell_type": "markdown",
      "metadata": {
        "id": "yG-qN405v9dg"
      },
      "source": [
        "**関数は定義されただけでは実行されない。**\n",
        "定義した関数を使用するためには、定義を行うコードとは別に、実行を行うコードが必要である。"
      ]
    },
    {
      "cell_type": "code",
      "metadata": {
        "id": "6QUecRiUv9dg",
        "colab": {
          "base_uri": "https://localhost:8080/"
        },
        "outputId": "db09bcd0-79e5-4169-9679-f0ce268584e8"
      },
      "source": [
        "# 関数 double() の定義\n",
        "def double(x):\n",
        "    print(2 * x)\n",
        "# 関数の実行\n",
        "double(3)"
      ],
      "execution_count": null,
      "outputs": [
        {
          "output_type": "stream",
          "text": [
            "6\n"
          ],
          "name": "stdout"
        }
      ]
    },
    {
      "cell_type": "code",
      "metadata": {
        "id": "dR7DqN2fv9dh",
        "colab": {
          "base_uri": "https://localhost:8080/"
        },
        "outputId": "88a2cb69-394b-4bd3-83d7-9f9564189053"
      },
      "source": [
        "double(5)"
      ],
      "execution_count": null,
      "outputs": [
        {
          "output_type": "stream",
          "text": [
            "10\n"
          ],
          "name": "stdout"
        }
      ]
    },
    {
      "cell_type": "code",
      "metadata": {
        "id": "wjStuxcBv9di",
        "colab": {
          "base_uri": "https://localhost:8080/"
        },
        "outputId": "d6cdac97-6f35-429e-90ec-40f35de197f8"
      },
      "source": [
        "double(1.5)"
      ],
      "execution_count": null,
      "outputs": [
        {
          "output_type": "stream",
          "text": [
            "3.0\n"
          ],
          "name": "stdout"
        }
      ]
    },
    {
      "cell_type": "markdown",
      "metadata": {
        "id": "CRggp-QcIfDs"
      },
      "source": [
        "`double(x)` における `x` のように、関数に渡される変数や値のことを**引数 (argument, ひきすう)** と言う。\n",
        "上の例は、名前が `double` で、1つの引数 `x` をとり、`2 * x` と言う計算を行い、その結果を表示している。"
      ]
    },
    {
      "cell_type": "markdown",
      "metadata": {
        "id": "VDqeEdX5v9dj"
      },
      "source": [
        "**複数の引数をとる関数**\n",
        "\n",
        "複数の引数をとる関数を定義する場合は、関数名に続く `()` の中に、カンマ `,` 区切りで引数名を並べる。\n",
        "\n",
        "例えば、引数を 2 つとり、足し算を行う関数 `add()` を作ってみる。"
      ]
    },
    {
      "cell_type": "code",
      "metadata": {
        "id": "ARE2LU8Qv9dl"
      },
      "source": [
        "# 関数の定義\n",
        "def add(a, b):\n",
        "    print(a + b)"
      ],
      "execution_count": null,
      "outputs": []
    },
    {
      "cell_type": "code",
      "metadata": {
        "id": "Zte-_M1-v9dl",
        "colab": {
          "base_uri": "https://localhost:8080/"
        },
        "outputId": "fd929771-1ec9-4d0d-e41d-e9417ad7f122"
      },
      "source": [
        "# 関数の実行\n",
        "add(1, 2)"
      ],
      "execution_count": null,
      "outputs": [
        {
          "output_type": "stream",
          "text": [
            "3\n"
          ],
          "name": "stdout"
        }
      ]
    },
    {
      "cell_type": "code",
      "metadata": {
        "id": "7HUAVoGhv9dm",
        "colab": {
          "base_uri": "https://localhost:8080/"
        },
        "outputId": "93469eab-e2f8-49c9-b344-96fa97b46c73"
      },
      "source": [
        "add(3, 2.5)"
      ],
      "execution_count": null,
      "outputs": [
        {
          "output_type": "stream",
          "text": [
            "5.5\n"
          ],
          "name": "stdout"
        }
      ]
    },
    {
      "cell_type": "code",
      "metadata": {
        "id": "IjMBFjvmv9dm",
        "colab": {
          "base_uri": "https://localhost:8080/"
        },
        "outputId": "cb6a3c06-21f8-46c6-a3ba-477de1542c52"
      },
      "source": [
        "add(1, -5)"
      ],
      "execution_count": null,
      "outputs": [
        {
          "output_type": "stream",
          "text": [
            "-4\n"
          ],
          "name": "stdout"
        }
      ]
    },
    {
      "cell_type": "markdown",
      "metadata": {
        "id": "mwZ-T1CTv9dn"
      },
      "source": [
        "今回の `double()` や `add()` は定義を行い自作した関数だが、Python には予め多くの関数が定義されている。\n",
        "そのような関数を**組み込み関数 (built-in function)** と呼ぶ。\n",
        "すでに使用している `print()` や `len()`, `range()` などが、これに該当する。\n",
        "組み込み関数の一覧は[こちら](https://docs.python.org/ja/3/library/functions.html)で確認することができる。\n"
      ]
    },
    {
      "cell_type": "markdown",
      "metadata": {
        "id": "jqrVT9suWCCe"
      },
      "source": [
        "colab 環境で `dir(__builtin__)` でも確認できる\n",
        "\n"
      ]
    },
    {
      "cell_type": "markdown",
      "metadata": {
        "id": "A8XpuE_av9dn"
      },
      "source": [
        "**引数をとらない関数**\n",
        "\n",
        "引数をとらない関数を定義する場合でも、関数名の後に `()` を加える必要がある。\n",
        "\n",
        "例えば、実行するとメッセージを表示する関数を定義して、実行してみる。"
      ]
    },
    {
      "cell_type": "code",
      "metadata": {
        "id": "z2Xej00Bv9dn"
      },
      "source": [
        "# 引数のない関数の定義\n",
        "def hello():\n",
        "    print('Chainerチュートリアルにようこそ')"
      ],
      "execution_count": null,
      "outputs": []
    },
    {
      "cell_type": "code",
      "metadata": {
        "id": "peShhHg2v9dn",
        "colab": {
          "base_uri": "https://localhost:8080/"
        },
        "outputId": "f0cf19a1-81cf-461f-c4e5-68661dd010db"
      },
      "source": [
        "# 引数のない関数の実行\n",
        "hello()"
      ],
      "execution_count": null,
      "outputs": [
        {
          "output_type": "stream",
          "text": [
            "Chainerチュートリアルにようこそ\n"
          ],
          "name": "stdout"
        }
      ]
    },
    {
      "cell_type": "markdown",
      "metadata": {
        "id": "BZGSKTbcv9do"
      },
      "source": [
        "**引数のデフォルト値**\n",
        "\n",
        "引数には、あらかじめ値を与えておくことができる。\n",
        "\n",
        "これは、引数をとる関数を定義する際に、何も引数に値が渡されなかったときにどのような値がその引数に渡されたことにするかをあらかじめ決めておける機能で、その値のことを**デフォルト値**と呼ぶ。\n",
        "\n",
        "例えば、上の `hello()` と言う関数に、`message` と言う引数をもたせ、そこにデフォルト値を設定しておく。"
      ]
    },
    {
      "cell_type": "code",
      "metadata": {
        "id": "uw2d8qDov9do"
      },
      "source": [
        "def hello(message='Chainerチュートリアルにようこそ'):\n",
        "    print(message)"
      ],
      "execution_count": null,
      "outputs": []
    },
    {
      "cell_type": "markdown",
      "metadata": {
        "id": "7i8TQcfzv9do"
      },
      "source": [
        "この関数は引数に何も与えずに呼び出すと、「Chainerチュートリアルにようこそ」と言うメッセージを表示し、引数に別な値が渡されると、その値を表示する。"
      ]
    },
    {
      "cell_type": "code",
      "metadata": {
        "id": "Fh4VEHmMv9dp",
        "colab": {
          "base_uri": "https://localhost:8080/"
        },
        "outputId": "c5a6764a-1cb2-4eee-9924-9fdaeeda5ace"
      },
      "source": [
        "hello()"
      ],
      "execution_count": null,
      "outputs": [
        {
          "output_type": "stream",
          "text": [
            "Chainerチュートリアルにようこそ\n"
          ],
          "name": "stdout"
        }
      ]
    },
    {
      "cell_type": "code",
      "metadata": {
        "id": "p2g-ULOWv9dp",
        "colab": {
          "base_uri": "https://localhost:8080/"
        },
        "outputId": "8c3941cd-0054-4400-ff5f-b2ab87f7ebcf"
      },
      "source": [
        "hello('Welcome to Chainer tutorial')"
      ],
      "execution_count": null,
      "outputs": [
        {
          "output_type": "stream",
          "text": [
            "Welcome to Chainer tutorial\n"
          ],
          "name": "stdout"
        }
      ]
    },
    {
      "cell_type": "markdown",
      "metadata": {
        "id": "GWhAbt3ov9dq"
      },
      "source": [
        "デフォルト値が与えられていない引数は、関数呼び出しの際に必ず何らかの値が渡される必要があるが、デフォルト値を持つ場合は、何も指定しなくても関数を呼び出すことができるようになる。"
      ]
    },
    {
      "cell_type": "markdown",
      "metadata": {
        "id": "DpwRYy4ov9dq"
      },
      "source": [
        "**返り値のある関数**\n",
        "\n",
        "上で定義した足し算を行う関数 `add()` では、計算結果を表示するだけで、計算結果を呼び出し元に戻していない。\n",
        "そのため、このままでは計算結果を関数の外から利用することができない。\n",
        "\n",
        "そこで、`add()` 関数の末尾に `return` 文を追加して、計算結果を呼び出し元に返すように変更してみる。"
      ]
    },
    {
      "cell_type": "code",
      "metadata": {
        "id": "ZCtzpxG1v9dq"
      },
      "source": [
        "# 返り値のある関数の定義\n",
        "def add(a, b):\n",
        "    return a + b"
      ],
      "execution_count": null,
      "outputs": []
    },
    {
      "cell_type": "markdown",
      "metadata": {
        "id": "M9c1_e-sv9dr"
      },
      "source": [
        "このように、呼び出し元に返したい値を `return` に続いて書くと、その値が `add()` 関数を呼び出したところへ戻される。\n",
        "`return` で返される値のことを**返り値 (return value)** と言う。\n",
        "\n",
        "以下に、計算結果を `result` と言う変数に格納し、表示する例を示す。"
      ]
    },
    {
      "cell_type": "code",
      "metadata": {
        "id": "RPJnjuL5v9dr",
        "colab": {
          "base_uri": "https://localhost:8080/"
        },
        "outputId": "fc7071d9-cde4-42af-c764-e5f91daf45cb"
      },
      "source": [
        "result = add(1, 3)\n",
        "\n",
        "result"
      ],
      "execution_count": null,
      "outputs": [
        {
          "output_type": "execute_result",
          "data": {
            "text/plain": [
              "4"
            ]
          },
          "metadata": {
            "tags": []
          },
          "execution_count": 106
        }
      ]
    },
    {
      "cell_type": "markdown",
      "metadata": {
        "id": "tagr61vUv9ds"
      },
      "source": [
        "計算結果が `result` に格納されているので、この結果を用いてさらに別の処理を行うことができる。"
      ]
    },
    {
      "cell_type": "code",
      "metadata": {
        "id": "Qe8Enb6Ev9ds",
        "colab": {
          "base_uri": "https://localhost:8080/"
        },
        "outputId": "85865de3-2985-4ea3-f3f4-06af237a4356"
      },
      "source": [
        "result = add(1, 3)\n",
        "\n",
        "result_doubled = result * 2\n",
        "\n",
        "result_doubled"
      ],
      "execution_count": null,
      "outputs": [
        {
          "output_type": "execute_result",
          "data": {
            "text/plain": [
              "8"
            ]
          },
          "metadata": {
            "tags": []
          },
          "execution_count": 107
        }
      ]
    },
    {
      "cell_type": "markdown",
      "metadata": {
        "id": "fP4OdcI-v9ds"
      },
      "source": [
        "また、返り値は「呼び出し元」に返されると書いた。\n",
        "この「呼び出し元」と言うのは、関数を呼び出す部分のことで、上のコードは `add(1, 3)` の部分が `4` と言う結果の値になり、それが左辺の `result` に代入されている。\n",
        "\n",
        "これを用いると、例えば「2 と 3 を足した結果と、1 と 3 を足した結果を、掛け合わせる」と言う計算が、以下のように書ける。"
      ]
    },
    {
      "cell_type": "code",
      "metadata": {
        "id": "gs0hBjg6v9ds",
        "colab": {
          "base_uri": "https://localhost:8080/"
        },
        "outputId": "acd85401-1265-435b-baf5-a450d872dd86"
      },
      "source": [
        "add(2, 3) * add(1, 3)"
      ],
      "execution_count": null,
      "outputs": [
        {
          "output_type": "execute_result",
          "data": {
            "text/plain": [
              "20"
            ]
          },
          "metadata": {
            "tags": []
          },
          "execution_count": 108
        }
      ]
    },
    {
      "cell_type": "markdown",
      "metadata": {
        "id": "BJnkcc_Qv9dt"
      },
      "source": [
        "**変数のスコープ**\n",
        "\n",
        "関数の中で定義した変数は基本的には関数の外では利用できない。\n",
        "例えば、以下の例を見てみる。"
      ]
    },
    {
      "cell_type": "code",
      "metadata": {
        "id": "L8vtxEV7v9dt",
        "colab": {
          "base_uri": "https://localhost:8080/"
        },
        "outputId": "025665c1-89ec-46ff-ddc7-3d0f0bcfcca3"
      },
      "source": [
        "a = 1\n",
        "\n",
        "# 関数の内部で a に 2 を代入\n",
        "def change():\n",
        "    a = 2\n",
        "    \n",
        "change()\n",
        "\n",
        "a"
      ],
      "execution_count": null,
      "outputs": [
        {
          "output_type": "execute_result",
          "data": {
            "text/plain": [
              "1"
            ]
          },
          "metadata": {
            "tags": []
          },
          "execution_count": 109
        }
      ]
    },
    {
      "cell_type": "markdown",
      "metadata": {
        "id": "Z9slKEKXv9du"
      },
      "source": [
        "関数の外で `a = 1` と初期化した変数と同じ名前の変数に対して、`change()` 関数の内部で `a = 2` と言う代入を行っているにもかかわらず、`change()` 関数の実行後にも関数の外側では `a` の値は 1 のままになっている。\n",
        "**関数の外側で定義された変数** `a` **に、関数内部での処理が影響していないことがわかる。**\n",
        "\n",
        "なぜこうなるかと言うと、関数の中で変数に値が代入されるとき、その変数はその関数の**スコープ (scope)** でだけ有効な**ローカル変数**になり、関数の外にある同じ名前の変数とは別のものを指すようになるためである。\n",
        "スコープとは、その変数が参照可能な範囲のことである。\n",
        "上の例では、`a = 2` の代入を行った時点で`change()` 関数のスコープに `a` と言う変数が作られ、`change()` 関数の中からは `a` といえばこれを指すようになる。関数から抜けると、`a` は 1 を値に持つ外側の変数を指すようになる。\n",
        "\n",
        "ただし、代入を行わずに、参照するだけであれば、関数の内側から外側で定義された変数を利用することができる。"
      ]
    },
    {
      "cell_type": "code",
      "metadata": {
        "id": "XgGcEUSQv9du",
        "colab": {
          "base_uri": "https://localhost:8080/"
        },
        "outputId": "a73b768c-c19e-460f-c749-52377f9bbf66"
      },
      "source": [
        "a = 1\n",
        "\n",
        "def change():\n",
        "    print('From inside:', a)\n",
        "    \n",
        "change()\n",
        "\n",
        "print('From outside:', a)"
      ],
      "execution_count": null,
      "outputs": [
        {
          "output_type": "stream",
          "text": [
            "From inside: 1\n",
            "From outside: 1\n"
          ],
          "name": "stdout"
        }
      ]
    },
    {
      "cell_type": "markdown",
      "metadata": {
        "id": "vAHe5xDGv9dv"
      },
      "source": [
        "この場合は、`change()` 関数のスコープには `a` と言う変数は作られないので、関数の中で `a` といえば外側で定義された変数を指す。\n",
        "\n",
        "関数の外で定義された変数は**グローバル変数**と呼ばれる。\n",
        "グローバル変数は、特に特別な記述を要せず参照することはできるが、関数の中で**代入**を行う場合は、`global` 文を使って、代入先をグローバル変数とする宣言を行う必要がある。"
      ]
    },
    {
      "cell_type": "code",
      "metadata": {
        "id": "D1uNClamv9dv",
        "colab": {
          "base_uri": "https://localhost:8080/"
        },
        "outputId": "a7b2fd8e-30b4-4887-ccb1-4517fa025ac1"
      },
      "source": [
        "a = 1\n",
        "\n",
        "def change():\n",
        "    global a  # a をグローバル変数である宣言\n",
        "    a = 2       # グローバル変数への代入\n",
        "\n",
        "# 関数の実行\n",
        "change()\n",
        "\n",
        "# 結果の確認 <- a の値が上書きされている\n",
        "a"
      ],
      "execution_count": null,
      "outputs": [
        {
          "output_type": "execute_result",
          "data": {
            "text/plain": [
              "2"
            ]
          },
          "metadata": {
            "tags": []
          },
          "execution_count": 111
        }
      ]
    },
    {
      "cell_type": "markdown",
      "metadata": {
        "id": "MSTyBWulv9dv"
      },
      "source": [
        "`global a` と言う行を `change()` 関数内で `a` と言う変数を使用する前に追加すると、その行以降は `a` と言う変数への代入も関数の外側で定義されたグローバル変数の `a` に対して行われる。"
      ]
    },
    {
      "cell_type": "markdown",
      "metadata": {
        "id": "FBe0bEnnVoE5"
      },
      "source": [
        "# クラス\n",
        "\n",
        "**オブジェクト指向プログラミング (object-oriented programming)** の特徴の一つである**クラス (class)** は、**オブジェクト (object)** を生成するための設計図にあたるものである。\n",
        "\n",
        "クラスから作成された実体のことを**インスタンス (instance)** または**オブジェクト (object)** とも呼び、**クラスから実体を作成する**と言う操作のことを**インスタンス化 (instantiation)** と呼ぶ。"
      ]
    },
    {
      "cell_type": "markdown",
      "metadata": {
        "id": "M1XEvf6Kv9dw"
      },
      "source": [
        "**クラスの定義**\n",
        "\n",
        "それでは、家の設計図を表す `House` と言うクラスを定義してみる。\n",
        "\n",
        "`House` クラスには、インスタンス化されたあとに、各インスタンス、すなわち誰か特定の人の家ごとに異なる値を持つ、`name_plate` と言う変数を持たせてみる。\n",
        "\n",
        "`name_plate` と言う変数には、個別の家の表札に表示するための文字列が与えられるが、クラスを定義する際には「`name_plate` と言う変数を持つことができる」ようにしておくだけでよく、**実際にその変数に何か具体的な値を与える必要はない。**\n",
        "\n",
        "クラスは、**設計図**であればよく、具体的な値を持たせなくてもよいためである。\n",
        "\n",
        "具体的な値は、個別の家を作成するとき、すなわちインスタンス化の際に与え、各インスタンスが `name_plate` と言う値に自分の家の表札の名前を保持するようにする。\n",
        "\n",
        "このような、インスタンスに属している変数を**属性 (attribute)** と呼ぶ。同様に、インスタンスから呼び出すことができる関数のことを**メソッド (method)** と呼ぶ。\n",
        "\n",
        "クラスは、以下のような構文を使って定義する。\n",
        "\n",
        "具体的には、以下のようになる。\n",
        "```\n",
        "class クラス名: ヘッダー\n",
        "    def メソッド名(引数1, ...): ヘッダー\n",
        "        ブロック処理\n",
        "```"
      ]
    },
    {
      "cell_type": "code",
      "metadata": {
        "id": "9ZrUz4kHv9dw"
      },
      "source": [
        "# クラスの定義\n",
        "class House:\n",
        "    # __init__() メソッドの定義\n",
        "    def __init__(self, name):\n",
        "        self.name_plate = name"
      ],
      "execution_count": null,
      "outputs": []
    },
    {
      "cell_type": "markdown",
      "metadata": {
        "id": "151zWM4Dv9dw"
      },
      "source": [
        "ここで、`__init__()` と言う名前のメソッドが `House` クラスの中に定義されている。\n",
        "メソッドの名前は自由に名付けることができるが、いくつか特別な意味を持つメソッド名が予め決められている。\n",
        "`__init__()` はそういったメソッドの一つで、**インスタンス化する際に自動的に呼ばれるメソッド**である。\n",
        "\n",
        "`House` クラスの `__init__()` は、`name` と言う引数をとり、これを `self.name_plate` と言う変数に代入している。\n",
        "この `self` と言うのは、クラスがインスタンス化されたあと、作成されたインスタンス自身を参照するのに用いられる。\n",
        "これを使って、`self.name_plate = name` とすることで、作成された個別のインスタンスに属する変数 `self.name_plate` へ、引数に渡された `name` が持つ値を代入することができる。\n",
        "`self` が指すものは、各インスタンスから見た「自分自身」なので、各インスタンスごとに異なる。\n",
        "これによって、`self.name_plate` は各インスタンスに紐付いた別々の値を持つものとなる。\n",
        "\n",
        "メソッドは、インスタンスから呼び出されるとき自動的に第一引数にそのインスタンスへの参照を渡す。\n",
        "そのため、メソッドの第一引数は `self` とし、渡されてくる自分自身への参照を受け取るようにしている。\n",
        "ただし、呼び出す際には**そのインスタンスを引数に指定する必要はない。**\n",
        "以下に具体例を示し、再度このことを確認する。\n",
        "\n",
        "それでは、上で定義した `House` クラスのインスタンスを作成してみる。\n",
        "クラスのインスタンス化には、クラス名のあとに `()` を追加して、クラスを呼び出すような記法を使う。\n",
        "この際、関数を呼び出すときと同様にして、`()` に引数を渡すことができる。\n",
        "その引数は、`__init__()` メソッドに渡される。"
      ]
    },
    {
      "cell_type": "code",
      "metadata": {
        "id": "PE3dT2ytv9dx"
      },
      "source": [
        "my_house = House('Chainer')"
      ],
      "execution_count": null,
      "outputs": []
    },
    {
      "cell_type": "markdown",
      "metadata": {
        "id": "9xHHa6rwv9dx"
      },
      "source": [
        "`House` と言うクラスの `__init__()` メソッドに、`'Chainer'` と言う文字列を渡している。\n",
        "`my_house` が、`House` クラスから作成されたインスタンスである。\n",
        "ここで、クラス定義では `__init__()` メソッドは `self` と `name` と言う 2 つの引数をとっていたが、呼び出しの際には `'Chainer'` と言う一つの引数しか与えていない。\n",
        "この `'Chainer'` と言う文字列は、1 つ目の引数であるにも関わらず、`__init__()` メソッドの定義では 2 つ目の引数であった `name` に渡される。\n",
        "前述のように、**メソッドは、インスタンスから呼び出されるとき自動的に第一引数にそのインスタンスへの参照を渡す**ためである。\n",
        "この自動的に渡される自身への参照は、呼び出しの際には明示的に指定しない。\n",
        "また、かならず 1 つ目の引数に自動的に渡されるため、呼び出し時に明示的に与えられた引数は 2 つ目以降の引数に渡されたものとして取り扱われる。\n",
        "\n",
        "それでは次に、このクラスに `hello()` と言うメソッドを追加し、呼び出すと誰の家であるかを表示すると言う機能を実装してみる。"
      ]
    },
    {
      "cell_type": "code",
      "metadata": {
        "id": "k2Zcvs1xv9dx"
      },
      "source": [
        "# クラスの定義\n",
        "class House:\n",
        "\n",
        "    # __init__() の定義\n",
        "    def __init__(self, name):\n",
        "        self.name_plate = name\n",
        "\n",
        "    # メソッドの定義\n",
        "    def hello(self):\n",
        "        print('{}の家である。'.format(self.name_plate))"
      ],
      "execution_count": null,
      "outputs": []
    },
    {
      "cell_type": "markdown",
      "metadata": {
        "id": "oTQagqYdv9dz"
      },
      "source": [
        "それでは、2 つのインスタンスを作成して、それぞれから `hello()` メソッドを呼び出してみる。"
      ]
    },
    {
      "cell_type": "code",
      "metadata": {
        "id": "MP8iXQM0v9dz",
        "colab": {
          "base_uri": "https://localhost:8080/"
        },
        "outputId": "53a7fbb2-4124-4c98-e37f-561542d1c82d"
      },
      "source": [
        "sato = House('佐藤')\n",
        "suzuki = House('スズキ')\n",
        "\n",
        "sato.hello()   # 実行の際には hello() の引数にある self は無視\n",
        "suzuki.hello() # 実行の際には hello() の引数にある self は無視"
      ],
      "execution_count": null,
      "outputs": [
        {
          "output_type": "stream",
          "text": [
            "佐藤の家である。\n",
            "スズキの家である。\n"
          ],
          "name": "stdout"
        }
      ]
    },
    {
      "cell_type": "markdown",
      "metadata": {
        "id": "_vI_Dqjdv9d0"
      },
      "source": [
        "`sato` と言うインスタンスの `name_plate` 属性には、`'佐藤'` と言う文字列が格納されている。  \n",
        "`suzuki` と言うインスタンスの `name_plate` 属性には、`'スズキ'` と言う文字列が格納されている。  \n",
        "それぞれのインスタンスから呼び出された `hello()` メソッドは、`self.name_plate` に格納された別々の値を `print()` を用いて表示している。\n",
        "\n",
        "このように、同じ機能を持つが、インスタンスによって保持するデータが異なったり、一部の動作が異なったりするようなケースを扱うのにクラスを利用する。\n",
        "Python の `int` 型、`float` 型、`str` 型…などは、実際には `int` クラス、`float` クラス、`str` クラスであり、それらの中では個別の変数（インスタンス）がどのような値になるかには関係なく、同じ型であれば共通して持っている機能が定義されている。\n",
        "`5` や `0.3` や `'Chainer'` などは、それぞれ `int` クラスのインスタンス、`float` クラスのインスタンス、`str` クラスのインスタンスである。\n",
        "\n",
        "以上から、クラスを定義すると言うのは、**新しい型を作る**と言うことでもあると分かる。"
      ]
    },
    {
      "cell_type": "markdown",
      "metadata": {
        "id": "0M1dmJSacA7g"
      },
      "source": [
        "# 継承\n",
        "\n",
        "あるクラスを定義したら、その一部の機能を変更したり、新しい機能を付け足したりしたくなることがある。\n",
        "これを実現する機能が**継承 (inheritance)** である。\n",
        "例えば、`Link` と言うクラスを定義し、そのクラスを継承した `Chain` と言う新しいクラスを作ってみる。\n",
        "まず、`Link` クラスを定義する。"
      ]
    },
    {
      "cell_type": "code",
      "metadata": {
        "id": "wn9XJxjpv9d0"
      },
      "source": [
        "class Link:\n",
        "\n",
        "    def __init__(self):\n",
        "        self.a = 1\n",
        "        self.b = 2"
      ],
      "execution_count": null,
      "outputs": []
    },
    {
      "cell_type": "markdown",
      "metadata": {
        "id": "Qn0fSwvyv9d1"
      },
      "source": [
        "この `Link` と言うクラスは、インスタンス化を行う際には 1 つも引数をとらないが、属性として `a` と `b` の 2 つの変数を保持し、それぞれには `__init__()` メソッドで 1 と 2 と言う値が代入される。\n",
        "このクラスのインスタンスを作成してみる。"
      ]
    },
    {
      "cell_type": "code",
      "metadata": {
        "id": "BsfYK88qv9d1",
        "colab": {
          "base_uri": "https://localhost:8080/"
        },
        "outputId": "6cbd18c0-d8da-4d3e-cafa-a28dfd482a5b"
      },
      "source": [
        "l = Link()\n",
        "\n",
        "l.a"
      ],
      "execution_count": null,
      "outputs": [
        {
          "output_type": "execute_result",
          "data": {
            "text/plain": [
              "1"
            ]
          },
          "metadata": {
            "tags": []
          },
          "execution_count": 117
        }
      ]
    },
    {
      "cell_type": "code",
      "metadata": {
        "id": "JA6sXOrvv9d2",
        "colab": {
          "base_uri": "https://localhost:8080/"
        },
        "outputId": "c0498302-30c2-458a-ce6b-0c778f506315"
      },
      "source": [
        "l.b"
      ],
      "execution_count": null,
      "outputs": [
        {
          "output_type": "execute_result",
          "data": {
            "text/plain": [
              "2"
            ]
          },
          "metadata": {
            "tags": []
          },
          "execution_count": 118
        }
      ]
    },
    {
      "cell_type": "markdown",
      "metadata": {
        "id": "DxipToKmv9d2"
      },
      "source": [
        "`l` と言う `Link` クラスのインスタンスが持つ 2 つの属性を表示している。\n",
        "インスタンス化を行った際に `__init__()` メソッドの中で代入していた値が、表示されている。\n",
        "\n",
        "次に、このクラスを**継承**する、`Chain` と言うクラスを定義してみる。\n",
        "継承を行う場合は、クラス定義の際にクラス名に続けて `()` を書き、その中にベースにしたいクラスの名前を書く。\n",
        "`()` の中に書かれたクラスのことを、定義されるクラスの**親クラス**と言う。\n",
        "それに対し、`()` の中に書かれたクラスからみると、定義されるクラスは**子クラス**と呼ばれる。\n",
        "親から子へ機能が受け継がれるためである。"
      ]
    },
    {
      "cell_type": "code",
      "metadata": {
        "id": "A4eTa6jZv9d3"
      },
      "source": [
        "class Chain(Link):\n",
        "    \n",
        "    def sum(self):\n",
        "        return self.a + self.b"
      ],
      "execution_count": null,
      "outputs": []
    },
    {
      "cell_type": "markdown",
      "metadata": {
        "id": "dhxR4J0mv9d3"
      },
      "source": [
        "`Chain` クラスは `__init__()` メソッドの定義を持ちない。\n",
        "`__init__()` メソッドが定義されていない場合、親クラスの `__init__()`  メソッドが自動的に呼び出される。\n",
        "そのため、`Chain` クラスでは一見何も属性を定義していないように見えるが、インスタンス化を行うと親クラスである `Link` の `__init__()`  メソッドが自動的に実行され、`a`、`b` と言う属性が定義される。\n",
        "以下のコードで確認してみる。"
      ]
    },
    {
      "cell_type": "code",
      "metadata": {
        "id": "ipmqPwsKv9d3",
        "colab": {
          "base_uri": "https://localhost:8080/"
        },
        "outputId": "91699999-c46c-406c-ea47-9483875d4d86"
      },
      "source": [
        "# Chain クラスをインスタンス化\n",
        "c = Chain()\n",
        "\n",
        "c.a"
      ],
      "execution_count": null,
      "outputs": [
        {
          "output_type": "execute_result",
          "data": {
            "text/plain": [
              "1"
            ]
          },
          "metadata": {
            "tags": []
          },
          "execution_count": 120
        }
      ]
    },
    {
      "cell_type": "code",
      "metadata": {
        "id": "lWL0VTMOv9d4",
        "colab": {
          "base_uri": "https://localhost:8080/"
        },
        "outputId": "683674c2-86a0-4e16-adfa-0495c67c7aa1"
      },
      "source": [
        "c.b"
      ],
      "execution_count": null,
      "outputs": [
        {
          "output_type": "execute_result",
          "data": {
            "text/plain": [
              "2"
            ]
          },
          "metadata": {
            "tags": []
          },
          "execution_count": 121
        }
      ]
    },
    {
      "cell_type": "markdown",
      "metadata": {
        "id": "nVjBNK1Cv9d4"
      },
      "source": [
        "`Chain` クラスの `sum()` メソッドでは、この親クラスの `__init__()`  メソッドで定義されている 2 つの属性を足し合わせて返している。\n",
        "今作成したインスタンスから、この `sum()` メソッドを呼び出してみる。"
      ]
    },
    {
      "cell_type": "code",
      "metadata": {
        "id": "pEf10A44v9d5",
        "colab": {
          "base_uri": "https://localhost:8080/"
        },
        "outputId": "5e4bc4fc-1fd3-4fcc-e434-05be186fb6bd"
      },
      "source": [
        "# sum メソッドを実行\n",
        "c.sum()"
      ],
      "execution_count": null,
      "outputs": [
        {
          "output_type": "execute_result",
          "data": {
            "text/plain": [
              "3"
            ]
          },
          "metadata": {
            "tags": []
          },
          "execution_count": 122
        }
      ]
    },
    {
      "cell_type": "markdown",
      "metadata": {
        "id": "QI1v_Ib0v9d5"
      },
      "source": [
        "このように、**親クラスを継承し、親クラスに無かった新しい機能が追加された、新しいクラスを定義することができる。**\n",
        "\n",
        "それでは、この `Chain` と言うクラスにも `__init__()`  メソッドを定義して、新しい属性 `c` を定義し、`sum()` メソッドでは親クラスの `a`、`b` と言う属性とこの新たな `c` と言う属性の 3 つの和を返すように変更してみる。"
      ]
    },
    {
      "cell_type": "code",
      "metadata": {
        "id": "ds9A6Xfpv9d5"
      },
      "source": [
        "class Chain(Link):\n",
        "\n",
        "    def __init__(self):\n",
        "        self.c = 5  # self.c を新たに追加\n",
        "    \n",
        "    def sum(self):\n",
        "        return self.a + self.b + self.c\n",
        "\n",
        "# インスタンス化\n",
        "C = Chain()"
      ],
      "execution_count": null,
      "outputs": []
    },
    {
      "cell_type": "code",
      "metadata": {
        "id": "_2_7avSHv9d6"
      },
      "source": [
        "# error\n",
        "# C.sum()"
      ],
      "execution_count": null,
      "outputs": []
    },
    {
      "cell_type": "markdown",
      "metadata": {
        "id": "ZfTe1NMUv9d6"
      },
      "source": [
        "エラーが出た。\n",
        "\n",
        "**エラーメッセージを読む。**\n",
        "\n",
        "> AttributeError: 'Chain' object has no attribute 'a'\n",
        "\n",
        "`'Chain'` と言うオブジェクトは、`'a'` と言う名前の属性を持っていない、と言われている。\n",
        "`a` と言う属性は、`Chain` の親クラスである `Link` の `__init__()`  メソッドで定義されている。\n",
        "そのため、`Chain` クラスをインスタンス化する際に、親クラスである `Link` の `__init__()`  メソッドが呼ばれているのであれば、このエラーは起こらないはずである。\n",
        "なぜエラーとなってしまったのだろうか。\n",
        "\n",
        "それは、`Chain` クラスにも `__init__()` メソッドを定義したため、親クラスである `Link` の `__init__()`  メソッドが上書きされてしまい、実行されなかったためである。\n",
        "しかし、親クラスの `__init__()`  メソッドを明示的に呼ぶことで、これは解決できる。\n",
        "\n",
        "それには、`super()` と言う組み込み関数を用いる。\n",
        "これを用いると、子クラスから親クラスを参照することができる。"
      ]
    },
    {
      "cell_type": "code",
      "metadata": {
        "id": "_NcT6aN7v9d6"
      },
      "source": [
        "class Chain(Link):\n",
        "\n",
        "    def __init__(self):\n",
        "        # 親クラスの `__init__()` メソッドを呼び出す\n",
        "        super().__init__()\n",
        "        \n",
        "        # self.c を新たに追加\n",
        "        self.c = 5\n",
        "    \n",
        "    def sum(self):\n",
        "        return self.a + self.b + self.c\n",
        "\n",
        "# インスタンス化\n",
        "c = Chain()"
      ],
      "execution_count": null,
      "outputs": []
    },
    {
      "cell_type": "code",
      "metadata": {
        "id": "FW__tTtGv9d7",
        "colab": {
          "base_uri": "https://localhost:8080/"
        },
        "outputId": "ad12f762-600f-49af-9877-0c8bec06bc37"
      },
      "source": [
        "c.sum()"
      ],
      "execution_count": null,
      "outputs": [
        {
          "output_type": "execute_result",
          "data": {
            "text/plain": [
              "8"
            ]
          },
          "metadata": {
            "tags": []
          },
          "execution_count": 128
        }
      ]
    },
    {
      "cell_type": "markdown",
      "metadata": {
        "id": "HcDciFKRv9d7"
      },
      "source": [
        "今回はエラーが起きない。\n",
        "`Link` クラスの `__init__()`  メソッドの冒頭で、まず親クラスの `__init__()`  メソッドを実行し、`a`、`b` と言う属性を定義しているためである。\n",
        "\n",
        "あるクラスを継承して作られたクラスを、さらに継承して別のクラスを定義することもできる。"
      ]
    },
    {
      "cell_type": "code",
      "metadata": {
        "id": "RmL3FvD-v9d7"
      },
      "source": [
        "class MyNetwork(Chain):\n",
        "    \n",
        "    def mul(self):\n",
        "        return self.a * self.b * self.c"
      ],
      "execution_count": null,
      "outputs": []
    },
    {
      "cell_type": "markdown",
      "metadata": {
        "id": "21eb0EOKv9d8"
      },
      "source": [
        "`MyNetwork` クラスは、`Link` クラスを継承した `Chain` クラスをさらに継承したクラスで、`a`、`b`、`c` と言う 3 つの属性を掛け合わせた結果を返す `mul()` と言うメソッドを持つ。\n",
        "\n",
        "このクラスのインスタンスを作成し、`mul()` を実行してみる。"
      ]
    },
    {
      "cell_type": "code",
      "metadata": {
        "id": "Cq4lJIm3v9d8",
        "colab": {
          "base_uri": "https://localhost:8080/"
        },
        "outputId": "badf180c-a24a-4429-82e4-5b524d8fa39c"
      },
      "source": [
        "net = MyNetwork()\n",
        "\n",
        "net.mul()"
      ],
      "execution_count": null,
      "outputs": [
        {
          "output_type": "execute_result",
          "data": {
            "text/plain": [
              "10"
            ]
          },
          "metadata": {
            "tags": []
          },
          "execution_count": 130
        }
      ]
    },
    {
      "cell_type": "markdown",
      "metadata": {
        "id": "VujV1nqfv9d8"
      },
      "source": [
        "$1 \\times 2 \\times 5 = 10$ が返ってきた。"
      ]
    },
    {
      "cell_type": "markdown",
      "metadata": {
        "id": "mIPsXEy0v9d9"
      },
      "source": [
        "以上で、Python の基本についての解説を終了する。\n",
        "Python には他にもここでは紹介されていない多くの特徴や機能がある。\n",
        "さらに詳しく学びたい方は、[Pythonチュートリアル](https://docs.python.org/ja/3/tutorial/index.html) などを参照する。"
      ]
    },
    {
      "cell_type": "markdown",
      "metadata": {
        "id": "2tJWtn_RGK96"
      },
      "source": [
        "# 機械学習に使われる数学"
      ]
    },
    {
      "cell_type": "markdown",
      "metadata": {
        "id": "CE_CacxQ7q7t"
      },
      "source": [
        "次章より 3 つの章にわたって、ディープラーニングを含む機械学習に必要な数学のうち、基礎的なものとして「微分」「線形代数」「確率統計」の 3 つについて、要点を絞り、簡潔に紹介していく。\n",
        "\n",
        "その前に、本章では**機械学習 (machine learning)** の考え方について大枠を掴み、どの部分でそれぞれの項目が登場するかを把握しておく。"
      ]
    },
    {
      "cell_type": "markdown",
      "metadata": {
        "id": "yfsQqK7V7q7v"
      },
      "source": [
        "**機械学習とは**\n",
        "\n",
        "機械学習は、与えられたデータから、未知のデータに対しても当てはまる規則やパターンを抽出したり、それらを元に未知のデータを分類したり、予測したりする手法を研究する学術領域である。\n",
        "機械学習は様々な技術に応用されており、例えば画像認識、音声認識、文書分類、医療診断、迷惑メール検知、商品推薦など、幅広い分野で重要な役割を果たしている。\n"
      ]
    },
    {
      "cell_type": "markdown",
      "metadata": {
        "id": "jmDfiui5JIq7"
      },
      "source": [
        "**教師あり学習の考え方**\n",
        "\n",
        "機械学習の代表的な問題設定として、**教師あり学習 (supervised learning)** と言うものがある。\n",
        "これは、問題に対して予め答えを用意しておき、予想された答えと実際の答えの違いが小さくなるように訓練を行う方法である。\n",
        "\n",
        "もう少し具体的に教師あり学習の考え方を説明してみる。\n",
        "例えば、以下の図のような赤い点の集まりがあったとする。\n",
        "\n",
        "**図表**\n",
        "\n",
        "![data points](https://github.com/chainer/tutorials/blob/master/ja/images/01/01_data_points.png?raw=1)\n",
        "\n",
        "この図は、横軸が $x$ 軸、縦軸が $t$ 軸となっている。\n",
        "この赤い点の 1 つ 1 つは、$x$ と $t$ の値の組を表している。\n",
        "図から、$x = 0$ 付近では $t$ も $0$ 付近の値をとることが多いようだ。\n",
        "また、$x = 200$ 付近では、$t$ は $40$ 前後の値をとっているように見える。\n",
        "それでは、$x = -200$ のとき、$t$ はどのような値をとるだろうか。\n",
        "\n",
        "このように、与えられたデータから関係性を予想し、未知のデータに対しても筋のよい見通しを立てることが、教師あり学習の代表的な目標の 1 つである。\n"
      ]
    },
    {
      "cell_type": "markdown",
      "metadata": {
        "id": "04JGYNqhJMmG"
      },
      "source": [
        "**直線による近似**\n",
        "\n",
        "次に、以下のような直線の方程式を考えてみる。\n",
        "\n",
        "$$\n",
        "f(x) = wx + b\n",
        "\\tag{2.1}\n",
        "\\label{line}\n",
        "$$\n",
        "\n",
        "**図表**\n",
        "\n",
        "![line](https://github.com/chainer/tutorials/blob/master/ja/images/01/01_line.png?raw=1)\n",
        "\n",
        "これは、1 つの入力 $x$ を与えると 1 つの出力を返す関数 $f$ を表していて、この関数は傾き $w$ と切片 $b$ の **2 つのパラメータで特徴づけられている。**\n",
        "上の図は、$w = 0.5$、$b = 50$ の場合を表している。\n",
        "ここで、初めの図にあった赤い点の集まりに見られる $x$ と $t$ の関係を、うまく式 $\\eqref{line}$ の直線によって近似することを考えてみる。\n",
        "\n",
        "この直線をそのまま赤い点の集まりの上におくと、以下のようになる。\n",
        "\n",
        "**図表**\n",
        "\n",
        "![line and data points](https://github.com/chainer/tutorials/blob/master/ja/images/01/01_line_and_data_points.png?raw=1)\n",
        "\n",
        "あまりうまく $x$ と $t$ の関係を表しているようには見えない。\n",
        "\n",
        "式 $\\eqref{line}$ で表される直線は、$w$ と $b$ が決まると、どのような直線になるかが決定される。\n",
        "つまり、この $w$ と $b$ の値をうまく決定して、赤い点の集まりにできるだけ沿うような直線を見つけることができれば、新しい $x$ が与えられたときに、$t$ の値がどのような値になりそうかを予測することができそうである。\n",
        "このとき、未知のデータに対しても精度良く予測が行えることを**汎化性能 (generalizability)** が高いと言う。\n",
        "\n",
        "また、パラメータ $w$ と $b$ によって特徴づけられた直線の式  $\\eqref{line}$ のような、パラメータを使って何らかの計算を行うことで、与えられたデータの特徴や関係性を表すものを、以降簡単に**モデル (model)** と呼ぶことにする（[注釈1](#note1)）。\n",
        "\n",
        "それでは、$x$ と $t$ の関係をよく表すモデルのパラメータ $w$ と $b$ は、どうやって決定すればよいのだろうか。\n",
        "先程のように、人が赤い点の集まりを目で見て $x$ と $t$ の関係に当たりをつけ、最適な $w$ と $b$ の値を人手で探り当てるのは、赤い点がもし 3 次元空間や、4 次元、5 次元…といった人間には想像することが難しい高次元空間に散らばっていたら、目で見ることもできないため、困難になる。\n",
        "そこで、コンピュータにこれらの赤い点のデータを与えて、自動的に最適な $w$ と $b$ を探させようと言うのが、機械学習で行われる代表的な処理のひとつである。\n",
        "\n"
      ]
    },
    {
      "cell_type": "markdown",
      "metadata": {
        "id": "8aGBVpOlTTk0"
      },
      "source": [
        "**目的関数**\n",
        "\n",
        "コンピュータによいパラメータを自動的に見つけてもらうためには、**何がよいパラメータなのか**と言う指標を定義する必要がある。\n",
        "そのような指標を表す関数を**目的関数 (objective function)** と呼ぶ。\n",
        "\n",
        "ここで、上の直線の例に戻って考えてみる。\n",
        "まず、式 $\\eqref{line}$ にある $x$ を与えると、$w$ と $b$ を使って $wx + b$ と言う計算が行われる。\n",
        "その結果を $y$ と表すことにする。\n",
        "ここで、$x$ を**入力変数 (input variable)**、$y$ を**出力変数 (output variable)** と呼ぶ。\n",
        "今、上図の赤い点の集まりから 1 点を選び出し、その $x$ 座標の値を式 $\\eqref{line}$ に与えたとする。\n",
        "このとき、式 $\\eqref{line}$ に与えられた具体的な $x$ の値を、**入力値 (input value)** と呼ぶ。\n",
        "そして、パラメータ $w$ と $b$ を用いて計算を行った結果得られる具体的な $y$ の値を、**予測値 (predicted value)** と呼ぶ。\n",
        "このとき、直線の式ではなく、実際の赤い点の持つ $t$ の値は、この式が予測したい目標の値なので、**目標値 (target value)** と呼ぶ。\n",
        "\n",
        "目的関数は多くの場合、モデルの予測値と目標値を受け取って、その間の差異を測って返すような関数である。\n",
        "差異は小さければ小さいほどモデルの予測が当たっていることを意味するため、この場合は目的関数の値を最小にするパラメータを見つけ出すのが目的になる。\n",
        "\n"
      ]
    },
    {
      "cell_type": "markdown",
      "metadata": {
        "id": "04P95-vKTe7C"
      },
      "source": [
        "**二乗誤差関数**\n",
        "\n",
        "目的関数の具体例を挙げる。\n",
        "例えば、適当に赤い点を 1 つ選び、その $x$ 座標が $100$ で、 $t$ 座標が $40$ だったとする。\n",
        "この値を、$x_1 = 100, t_1 = 40$ のようにおいてみる。\n",
        "そして、別な点も取り出してきて、同じように座標値 $(x, t)$ を $(x_2, t_2)$ と書くことにする。\n",
        "同様にして、200 個赤い点を取り出してきたとすると、200 個の $x$ の値 $x_1, x_2, \\dots, x_{200}$ と $t_1, t_2, \\dots, t_{200}$ が得られる。  \n",
        "\n",
        "この $x_1, x_2, \\dots, x_{200}$ から $t_1, t_2, \\dots, t_{200}$ を予測するのが目標だった。  \n",
        "つまり、$x_1, x_2, \\dots, x_{200}$ が入力値、$t_1, t_2, \\dots, t_{200}$ が目標値である。\n",
        "\n",
        "そして、この 200 個の $x$ の値全てに対して、式 $\\eqref{line}$ による予測値 $y$ を計算した結果、$y_1, y_2, \\dots, y_{200}$ が得られたとする。\n",
        "\n",
        "このとき、これらの予測値の正確さを、対応する目標値との間の**差の二乗**によって測るのが、**二乗誤差関数 (squared error function)** と呼ばれるものである。\n",
        "\n",
        "具体的には、$n$ 個目の予測値を $y_n$、目標値を $t_n$ とすると、以下のような関数である。\n",
        "\n",
        "$$\n",
        "\\mathcal{l} = (t_n - y_n)^2\n",
        "$$\n",
        "\n",
        "これは、$n$ 個目のデータに対する予測値と目標値の差異を表している。\n",
        "しかし、ある 1 つのデータに対してだけ予測がうまくいっていたとしても、それ以外のデータに対して全くうまく予測できないのであれば、そのモデルが新しい値に対して正確な予測を行うことは困難であると考えられる。\n",
        "そこで、200 個のデータ全てに渡って、この二乗誤差を足し合わせ、データ数の 200 で割って平均をとったものを考える。\n",
        "\n",
        "$$\n",
        "L = \\frac{1}{200} \\sum_{n=1}^{200} (t_n - y_n)^2\n",
        "$$\n",
        "\n",
        "$\\sum$ と言う記号は、**総和**を表す。\n",
        "上の式は、$(t_n - y_n)^2$ の値を、$n = 1$ から順番に $n = 2, n = 3, \\dots, n = 200$ まで計算していき、全てを足し合わせ、$200$ で割る、と言うことを意味する。\n",
        "\n",
        "これは、**平均二乗誤差 (mean squared error)** と呼ばれ、連続値を予測する回帰問題などでよく用いられる代表的な目的関数の 1 つである。\n",
        "この関数は、予測値と目標値がすべての $n$ において完全に一致するときだけ $0$ になり、それ以外では必ず正の値をとる。\n",
        "よって、この目的関数の値を最小にする $w$ と $b$ が、求めたい最適なパラメータである。\n",
        "「よいパラメータとは何か」が定量的に定義できたので、次はコンピュータに解を探索させる方法を考える。\n",
        "\n"
      ]
    },
    {
      "cell_type": "markdown",
      "metadata": {
        "id": "uWq6zD6KSmKM"
      },
      "source": [
        "**目的関数の最適化**\n",
        "\n",
        "ある関数を最小にする入力変数の値を求めることを最適化と言う。この最適化をコンピュータで自動的に行うには、どうすればよいのだろうか。\n",
        "例えば、以下のような関数があるとする。\n",
        "横軸が入力の値、縦軸が出力の値である。\n",
        "\n",
        "**図表**\n",
        "\n",
        "![quadric](https://github.com/chainer/tutorials/blob/master/ja/images/01/01_quadric.png?raw=1)\n",
        "\n",
        "このとき、関数に適当な値をまず入力してみて、得られた値を使ってその値が小さくなりそうな方向に入力を少し動かす、と言うことを繰り返し行って、関数が最小値をとる入力値を探索する、と言う方法がある。\n"
      ]
    },
    {
      "cell_type": "markdown",
      "metadata": {
        "id": "v_yQhU9lSz8W"
      },
      "source": [
        "\n",
        "**機械学習で使われる数学**\n",
        "\n",
        "このような最適化を行うのに必要になるのが**微分 (differential)** の知識である。\n",
        "なぜなら、「入力をどちらに動かせば出力が小さな値になりそうか」と言うことを知るためには、対象の関数を微分する必要があるからである。詳細は次章で説明する。\n",
        "\n",
        "また、初めにあげた赤い点の集まりに最もよく沿うような直線を求める問題では、1 つの値を入力して 1 つの値が出力される関数を考えていたが、複数の値を同時に扱いたいときに必要になるのが、**線形代数 (linear algebra)** の知識である。\n",
        "\n",
        "さらに、赤い点がもし本当は直線上にぴったり沿うようなデータであったのに、観測時に何らかの理由でノイズが乗ってしまったがために直線の周辺にばらついて出てきているのだとしたら、そのノイズがどの程度の範囲で値のズレを発生させるものなのか、見当をつけておきたくなるかも知れない。\n",
        "そういったときに必要になるのが、**確率(probability)・統計 (statistics)** の知識である。\n",
        "\n",
        "この 3 つについて、機械学習の学習に必要となる最低限の知識に絞って以降の 3 章で解説を行う。\n",
        "\n",
        "それでは、次章はまず微分についてである。\n",
        "\n",
        "<hr />\n"
      ]
    },
    {
      "cell_type": "markdown",
      "metadata": {
        "id": "rFYfTgfiUmDb"
      },
      "source": [
        "# いまここ"
      ]
    },
    {
      "cell_type": "markdown",
      "metadata": {
        "id": "FxGE-MEa7q7x"
      },
      "source": [
        "# 微分の基礎\n",
        "\n"
      ]
    },
    {
      "cell_type": "markdown",
      "metadata": {
        "id": "mOn3RV9EUy4q"
      },
      "source": [
        "**微分と関数最小化の関係**\n",
        "\n",
        "前章で微分が目的関数の最小化に役立つと紹介した。本節ではまず具体例を用いてそのことを直感的に理解する。\n",
        "例として、下図のような下向きにくぼんだ形をした関数がどこで最小値をとるかを探す問題を考える。\n",
        "\n",
        "**図表**\n",
        "\n",
        "![微分1](https://github.com/chainer/tutorials/blob/master/ja/images/03/03_02.png?raw=1)\n",
        "\n",
        "適当な点 $\\theta_{1}$ でこの関数のグラフに接する直線（**接線**）を考える（[注釈1](#note1)）。\n",
        "仮にこの接線の傾きが $+3$ 、すなわち正の値であったとする。この時、接線は右に進むほど高さが上がり，逆に左に進むほど高さが下がる。\n",
        "$\\theta_{1}$ の周辺では、関数のグラフと接線は非常に近く、両者はほとんど見分けることができない。\n",
        "すると、関数も接線と同じように $\\theta_{1}$ 右に進むと増加し，左に進むと減少していることがわかる。\n",
        "\n",
        "![微分2](https://github.com/chainer/tutorials/blob/master/ja/images/03/03_03.png?raw=1)\n",
        "\n",
        "次に、グラフ上の別の点 $\\theta_{2}$ においてこのグラフに接する接線を考える。\n",
        "今度は接線の傾きが $-1$ であるとする。傾きが負のため、接線は右肩下がりの直線である。\n",
        "グラフは接線と非常に近いため、グラフも $\\theta_{2}$ の周辺では、同じように右肩下がりであるとわかる。\n",
        "\n",
        "![微分3](https://github.com/chainer/tutorials/blob/master/ja/images/03/03_03_02.png?raw=1)\n",
        "\n",
        "最後にちょうどグラフの谷となっている点 $\\theta_{3}$ を考える。\n",
        "図を見て分かる通り、関数はこの点で最小値を取る。\n",
        "一方、点 $\\theta_{3}$ でグラフに接する接線は水平、すなわち**傾きが0**である。\n",
        "\n",
        "これまでの観察をまとめると、接線の傾きと関数の振る舞いには次の関係があることがわかる。\n",
        "\n",
        "- ある点で接する接線の傾きが正ならば、その点の近くでグラフは右肩上がり（= 左に進むと高さが下がる）\n",
        "- ある点で接する接線の傾きが負ならば、その点の近くでグラフは右肩下がり（= 右に進むと高さが下がる）\n",
        "- 関数が最小値をとる点に接する接線の傾きは $0$ である\n",
        "\n",
        "つまり、関数の最小値をとる点を求める問題では、接線の傾きが $0$ となる点が答えの候補（[注釈2](#note2)）となることがわかる。\n",
        "本章で説明するように、**微分を用いると接線の傾きを計算することができる**。\n",
        "このことから、微分が関数の最小化問題に有用なツールであることがわかる。\n",
        "\n",
        "以降では、微分の定義と微分に関する公式を紹介する。さらに、入力が多変数の関数での微分（偏微分）についても解説する。"
      ]
    },
    {
      "cell_type": "markdown",
      "metadata": {
        "id": "1blOPTbc7q7y"
      },
      "source": [
        "## 2 点間を通る直線の傾き\n",
        "\n",
        "接線の傾きと微分の関係を調べるため、まずは2点を通る直線の傾きを求める問題を考える。\n",
        "\n",
        "**図表**\n",
        "\n",
        "![2点間を通る直線](https://github.com/chainer/tutorials/blob/master/ja/images/03/03_04.png?raw=1)\n",
        "\n",
        "直線の傾きは 「$y$ （縦方向）の増加量 / $x$ （横方向）の増加量」で計算できるので、上図の直線の傾き $a$ は、\n",
        "\n",
        "$$\n",
        "a = \\dfrac{f(x_{2}) - f(x_{1})}{x_{2}-x_{1}}\n",
        "$$\n",
        "\n",
        "で求められる。"
      ]
    },
    {
      "cell_type": "markdown",
      "metadata": {
        "id": "3Th2z7b-7q7z"
      },
      "source": [
        "## 接線の傾き\n",
        "\n",
        "上図での点 $x_1$ における接線の傾きを求めるために、もう一方の点 $x_2$ を $x_1$ に近づけていく。ただし、 $x_1$ と $x_2$ が完全に同じになってしまうと、$x$ 方向、 $y$ 方向の増加量がどちらも $0$ になってしまうため、傾きは $0/0$ で計算することができない。\n",
        "そこで 2 点は異なる点でありつつ、 $x_2$ を限りなく $x_1$ に近づけていった時、直線の傾きがどのように振る舞うかを見る必要がある。これを数式的に表現するには、**極限**の考えが必要になる。\n",
        "\n",
        "極限では、変数がある値に限りなく近づくとき、その変数によって記述される関数がどのような値に近づくかを考える。\n",
        "関数 $f$ に対し、$h$ と言う変数を $a$ に近づけていったときの $f(h)$ が近づく値を $\\lim$ と言う記号を用いて\n",
        "\n",
        "$$\n",
        "\\displaystyle \\lim _{h\\rightarrow a} f(h)\n",
        "$$\n",
        "\n",
        "と書く。例えば、 $h$ を限りなく $0$ に近づけた時に、 $3h$ も限りなく $0$ に近づいていく。\n",
        "従って\n",
        "\n",
        "$$\n",
        "\\displaystyle \\lim _{h\\rightarrow 0} 3h=0\n",
        "$$\n",
        "\n",
        "である。もっと一般に $n$ を自然数、 $c$ を定数として、\n",
        "\n",
        "$$\n",
        "\\displaystyle \\lim _{h\\rightarrow a} c h^n=c a^n\n",
        "$$\n",
        "\n",
        "が成立する。これだけ見ると単に関数 $\\lim _{h\\rightarrow a} f(h)$ は $h$ に $a$ を代入した値 $f(a)$ のように思えるかも知れません。しかし、今考えている直線の傾きの場合、そのような代入操作を行うと先程のように $0/0$ の形が現れてしまうため、単純な代入では極限を求めることはできない。\n",
        "極限の計算方法は後ほど詳しく解説する。\n",
        "\n",
        "それでは、下図のある点 $x$ における接線の傾き $a$ を求めていこう。\n",
        "\n",
        "**図表**\n",
        "\n",
        "![1点での接線](https://github.com/chainer/tutorials/blob/master/ja/images/03/03_05.png?raw=1)\n",
        "\n",
        "2点を通る直線の傾きの式と極限を組み合わせて、接線の傾きを求めることができる。\n",
        "\n",
        "![1点での接線2](https://github.com/chainer/tutorials/blob/master/ja/images/03/03_06.png?raw=1)\n",
        "\n",
        "はじめに、 $x$ から $h$ だけ離れた点 $x + h$ を考え、2点を通る直線の傾きを求めてみる。\n",
        "次に $h$ を $0$ に限りなく近づけていけば、1点 $x$ で接する接線を考えることができる。\n",
        "これを式でみると\n",
        "\n",
        "$$\n",
        "\\begin{aligned}\n",
        "a\n",
        "&= \\lim_{h \\rightarrow 0} \\frac{f(x + h) - f(x)}{(x + h) - x} \\\\\n",
        "&= \\lim_{h \\rightarrow 0} \\frac{f(x + h) - f(x)}{h} \\\\\n",
        "\\end{aligned}\n",
        "$$\n",
        "\n",
        "となる。よく見るとこの式は $x$ を決めるごとにある1つの値を定めている、すなわちこの式は $x$ の関数である（$h$ は $h\\to 0$ の極限を取っているので $h$ の関数にはなっていないことに注意する）。\n",
        "この式を $f$ の **導関数 (derivative)**と呼び、 $f'(x)$ と書く。すなわち、\n",
        "\n",
        "$$\n",
        "f'(x)= \\lim_{h \\rightarrow 0} \\frac{f(x + h) - f(x)}{h}\n",
        "$$\n",
        "\n",
        "である。導関数を求めることを**微分(differentiation)**すると言う。\n",
        "記号の使い方として、 $f'(x)$ を\n",
        "\n",
        "$$\n",
        "\\frac{d}{dx}f (x)\n",
        "$$\n",
        "または\n",
        "$$\n",
        "\\frac{df}{dx} (x)\n",
        "$$\n",
        "\n",
        "と書いても構いません。\n",
        "この $d$ と言う記号は増分をとる操作を表しており、例えば $dx$ は $x$ の変化量を表す。\n",
        "この記法は煩雑であるが、$x, y$ など変数が複数ある場合、 どの変数で微分しているかが明確になるため、表現を正確にすることができる。"
      ]
    },
    {
      "cell_type": "markdown",
      "metadata": {
        "id": "qh166PcP7q70"
      },
      "source": [
        "## 微分の公式\n",
        "\n",
        "ある関数の導関数を計算するには、導関数の定義通りに計算するのが最も愚直な方法である．\n",
        "しかし、これから紹介する種々の公式を組み合わせることで、わざわざ定義に戻らなくても、複雑な関数の導関数を計算できる。\n",
        "以下では、 $c$ は定数、 $x$ は変数を表す。\n",
        "\n",
        "まずはじめに、以下の 3 つの公式を紹介する。\n",
        "\n",
        "$$\n",
        "\\begin{align}\n",
        "\\left( c\\right)^{'} &= 0 \\\\\n",
        "\\left( x\\right)^{'} &= 1\\\\\n",
        "\\left( x^{2}\\right)^{'} &= 2x\n",
        "\\end{align}\n",
        "$$\n",
        "\n",
        "1つ目の左辺は定数関数 $f(x) = c$ を $x$ で微分した導関数を表している。\n",
        "定数関数のグラフを書くと $x$ 軸に平行になるため、どの点で接線を引いてもその傾きは $0$である（グラフと接線は同一の直線となる）。これは導関数は 0 であることを意味する。これが 1 つ目の式の図形的な理解である。\n",
        "同様に2つ目の公式は 「$y=x$ のグラフではどの点で接線を引いても傾きが1」であることを意味する（この場合もグラフと接線は同一の直線である）。\n",
        "極限の扱いに慣れるために、3番目の公式を証明する。導関数の定義から左辺は\n",
        "\n",
        "$$\n",
        "\\displaystyle \\lim _{h\\to 0} \\frac{(x+h)^2 - x^2}{(x+h) - x}\n",
        "$$\n",
        "である。これは\n",
        "\n",
        "$$\n",
        "\\begin{align}\n",
        "\\lim _{h\\to 0} \\frac{(x+h)^2 - x^2}{(x+h) - x} = \\lim _{h\\to 0} \\frac{2xh + h^2}{h} = \\lim _{h\\to 0} (2x + h)\n",
        "\\end{align}\n",
        "$$\n",
        "\n",
        "と計算できる。ここで $h\\to 0$ 、すなわち $h$ を限りなく $0$ に近づけると、 $2x + h$ は $2x$ に限りなく近づいていく。従って、 $\\left( x^{2}\\right)^{'} = 2x$ が導かれた。\n",
        "\n",
        "以下の公式も頻繁に利用する。\n",
        "\n",
        "$$\n",
        "\\begin{align}\n",
        "\\left( x^{n} \\right)^{'} &= nx^{n-1} \\\\\n",
        "\\left( e^{ax} \\right)^{'} &= ae^{ax}\n",
        "\\end{align}\n",
        "$$\n",
        "\n",
        "ここで、$a$ は定数、 $e$ は**自然対数の底**、もしくは **ネイピア数** と呼ばれる特別な定数で、およそ $2.71828\\cdots$ である。 $1$ つ目の公式で $n=1, 2$とすると、本節の最初に紹介した $x$, $x^2$ の微分の公式に帰着されることに注意する。\n",
        "$e^{ax}$ は $\\exp(ax)$ のように表記されることがよくある。その表記を用いると最後の公式は\n",
        "\n",
        "$$\n",
        "\\bigl( \\exp(ax) \\bigr)^{'} = a\\exp(ax)\n",
        "$$\n",
        "\n",
        "とも書ける。"
      ]
    },
    {
      "cell_type": "markdown",
      "metadata": {
        "id": "_oHi7iTTyaCT"
      },
      "source": [
        "## 線形性\n",
        "\n",
        "微分は**線形性**と言う性質を持っている。\n",
        "それがどのような性質なのか、具体例を挙げて見ていこう。\n",
        "微分には線形性と言う性質によって、\n",
        "\n",
        "$$\n",
        "(3x)' = 3 \\times (x)'\n",
        "$$\n",
        "\n",
        "のように定数項を微分の演算の外側に出すことができる。\n",
        "また、\n",
        "\n",
        "$$\n",
        "\\left( 3x^{2} + 4x - 5 \\right)' = \\left( 3x^{2} \\right)' + \\left( 4x \\right)' - \\left( 5 \\right)' \n",
        "$$\n",
        "\n",
        "のように、加算や減算はそれぞれ項ごとに独立に微分の演算を行うことができる。\n",
        "この 2 つの特性を合わせて線形性と呼ぶ。\n",
        "\n",
        "もう少し微分の計算を練習してみる。\n",
        "\n",
        "$$\n",
        "\\begin{aligned}\n",
        "\\left( 3x^{2} + 4x + 5 \\right)' &= \\left( 3x^{2} \\right)' + \\left( 4x \\right)' - \\left( 5 \\right)' \\\\ \n",
        "&= 3 \\times \\left( x^{2} \\right)' + 4 \\times \\left( x \\right)' - 5 \\times \\left( 1 \\right)' \\\\ \n",
        "&= 3 \\times 2x + 4 \\times 1 - 5 \\times 0  \\\\ \n",
        "&= 6x + 4 \n",
        "\\end{aligned}\n",
        "$$\n",
        "\n",
        "この線形性に関しては、下記のように公式としてまとめることができる。\n",
        "\n",
        "$$\n",
        "\\begin{align}\n",
        "\\left( cf(x) \\right)^{'} &= c f'(x) \\\\\n",
        "\\left( f(x) + g(x) \\right)^{'} &= f^{'}(x) + g^{'}(x) \\\\\n",
        "\\end{align}\n",
        "$$\n",
        "\n",
        "\n",
        "2 つの関数の積の形で書かれている関数に関しては次の公式が成り立つ。\n",
        "\n",
        "$$\n",
        "\\bigl( f(x) g(x) \\bigr)^{'} = f^{'}(x)g(x) + f(x)g^{'}(x)\n",
        "$$\n",
        "\n",
        "関数 $f$ の導関数と関数 $g$ の導関数がわかれば、関数 $fg$ を計算できることがわかる。"
      ]
    },
    {
      "cell_type": "markdown",
      "metadata": {
        "id": "0WB8DMII7q72"
      },
      "source": [
        "## 合成関数の微分\n",
        "\n",
        "関数 $y = f(x)$ と $z = g(y)$ の**合成**とは $f$ を適用したあとに $g$ を適用する関数、すなわち $z  = g(f(x))$ のことを指す。\n",
        "ディープラーニングで用いるニューラルネットワークは、層を何層も重ねて複雑な関数を表現する。各々の層を 1 つの関数とみなすと、ニューラルネットワークは多くの関数（層）を合成した**合成関数**と見ることができる。\n",
        "合成関数の微分を考える時には次に紹介する公式（合成関数の微分の公式）が有用である。\n",
        "この公式は**連鎖律 (chain rule)** とも呼ばれている。\n",
        "連鎖律は合成関数を微分を簡単に計算するための公式と言うだけではなく、ニューラルネットワークの訓練方法である誤差逆伝播法を理解する上で本質的な役割を果たす。\n",
        "\n",
        "簡単な例として、\n",
        "\n",
        "$$\n",
        "\\left\\{ (3x + 4)^{2} \\right\\}'\n",
        "$$\n",
        "\n",
        "を計算することを考える。\n",
        "この式は、 $3x+4$ と言う内側の部分と $(\\cdot)^{2}$ と言う外側の部分で構成されている。\n",
        "この式を $(9x^2 + 24x + 16)'$ のように展開してから微分を計算してもよいのだが、3乗や4乗とべき数が増えると式を展開するのが大変になる。\n",
        "ここで役に立つ考え方が合成関数の微分である。\n",
        "合成関数の微分は、内側の微分と外側の微分をそれぞれ行い、その結果をかけ合わせることで求めることができる。\n",
        "外側の微分の際には関数の引数を入力とみなし、その入力についての微分を計算する。\n",
        "\n",
        "それでは、具体的にこの $(3x+4)^2$ と言う関数の微分を考えてみる。\n",
        "まず内側の関数を $u = (3x+4)$ とおいて、\n",
        "\n",
        "$$\n",
        "\\left\\{ (3x + 4)^{2} \\right\\}' = (u^{2})'\n",
        "$$\n",
        "\n",
        "と見る。ここで、 $(\\cdot)'$ をもう少し厳密に考える必要が出てくる。\n",
        "今変数は $x$, $u$ の2つあるため、 $(\\cdot)'$ と言う表記では、 $x$ で微分しているのか $u$ で微分しているのかの区別がつかない。\n",
        "そこで、多少複雑に見えるが、先程紹介した $d$ を使った記法を用いて微分する変数を明示する。\n",
        "\n",
        "合成関数の微分を公式としてまとめると次のようになる。\n",
        "\n",
        "$$\n",
        "\\frac{d}{dx} f(g(x)) = \\frac{df(u)}{du}\\frac{du}{dx}\n",
        "$$\n",
        "\n",
        "ここで $u = g(x)$ である。\n",
        "\n",
        "公式を見るよりも実際の適用例を見た方が理解しやすいかも知れません。\n",
        "合成関数の微分の公式を用いて、先程の $(3x+4)^2$ の微分を計算すると次のようになる。\n",
        "2行目で合成関数の微分の公式を利用していることに注目する。\n",
        "\n",
        "$$\n",
        "\\begin{aligned}\n",
        "\\left\\{ (3x + 4)^{2} \\right\\}' &= \\frac{d}{dx} \\left\\{ (3x + 4)^{2} \\right\\} \\\\\n",
        "&= \\frac{du}{dx} \\frac{d}{du} (u^2) \\\\\n",
        "&= \\frac{d}{dx} (3x + 4) \\cdot \\frac{d}{du} (u^{2}) \\\\ \n",
        "&= 3 \\cdot 2u   \\\\ \n",
        "&= 6u = 6(3x + 4) = 18x + 24 \\\\ \n",
        "\\end{aligned}\n",
        "$$\n",
        "\n",
        "気になる人は、 $(3x + 4)^2$ を展開してから各項を微分した場合と結果が一致していることを確かめてみる。"
      ]
    },
    {
      "cell_type": "markdown",
      "metadata": {
        "id": "sZJDW8537q73"
      },
      "source": [
        "## 偏微分\n",
        "\n",
        "機械学習では、1つの入力変数 $x$ から出力変数 $y$ を予測するケースは稀であり、多くの場合、複数の入力変数 $x_1, x_2, \\dots, x_M$ を用いて $y$ を予測する**多変数関数**が扱われる。\n",
        "例えば、家賃を予測する場合、部屋の広さだけではなく、駅からの距離や周辺の犯罪発生率なども同時に考慮した方がより正確に予測ができると期待される。\n",
        "複数の入力 $x_1, x_2, \\dots, x_M$ をとる関数 $f(x_1, x_2, \\dots, x_M)$ を多変数関数と呼ぶ。\n",
        "この多変数関数において、ある入力 $x_m$ にのみ注目して微分することを **偏微分** とよび、\n",
        "\n",
        "$$\n",
        "\\frac{\\partial}{\\partial x_{m}} f(x_1, x_2, \\dots, x_M)\n",
        "$$\n",
        "\n",
        "と表す。微分を意味する記号が、 $d$ から $\\partial$ に変わっている。こうすると、 $\\frac{\\partial}{\\partial x_m}$ は $x_m$ 以外を定数と考え、 $x_m$ にのみ着目して微分を行うと言う意味となる（[注釈3](#note3)）。\n",
        "\n",
        "以下の例で具体的な計算の流れを確認する。\n",
        "\n",
        "$$\n",
        "\\begin{aligned}\n",
        "\\frac{\\partial}{\\partial x_1}\n",
        "\\left( 3x_1+4x_2 \\right)\n",
        "&= \\frac{\\partial}{\\partial x_1}\n",
        "\\left( 3x_1 \\right) + \\frac{\\partial}{\\partial x_1} \\left( 4x_2 \\right) \\\\\n",
        "&= 3 \\times \\frac{\\partial}{\\partial x_1} \\left( x_1 \\right) + 4 \\times \\frac{\\partial}{\\partial x_1} x_2 \\\\\n",
        "&= 3 \\times 1 + 4 \\times 0 \\\\\n",
        "&= 3\n",
        "\\end{aligned}\n",
        "$$\n",
        "\n",
        "偏微分でも微分と同じ公式を適用できる。今回のケースでは、 $x_1$ にだけ着目しており、 $x_2$ は定数として扱かっている。そのため、上式の 2 行目から 3 行目で $x_2$ を $x_1$ で偏微分した値を $0$ としている（定数の微分は $0$ であったことを思い出す）。"
      ]
    },
    {
      "cell_type": "markdown",
      "metadata": {
        "id": "YipLgSdzyaCW"
      },
      "source": [
        "<hr />\n",
        "\n",
        "<div class=\"alert alert-info\">\n",
        "**注釈 1**\n",
        "\n",
        "ここで考えている関数のグラフでは、グラフ上のどの点を取ってもその点で接する接線がただ1本だけ引ける状況を考えている。例えば関数のグラフが谷の部分で「尖った」形をしていると，谷の底で複数の接線が引けてしまう。ここではそのようなケースは考えず、関数のグラフは図のような「滑らか」なカーブになっている場合をイメージする。 \n",
        "\n",
        "[▲上へ戻る](#ref_note1)\n",
        "</div>\n",
        "\n",
        "<div class=\"alert alert-info\">\n",
        "**注釈 2**\n",
        "\n",
        "今は関数のグラフの「谷」を考えたが、「山」でも同様に接線の傾きが $0$ となるため、ある点での接線の傾きが $0$ だからと言って、必ずしも関数がその点で最小値をとるとは限りません。\n",
        "\n",
        "[▲上へ戻る](#ref_note2)\n",
        "</div>\n",
        "\n",
        "<div class=\"alert alert-info\">\n",
        "**注釈 3**\n",
        "\n",
        "入力変数が他の入力変数と独立でない場合は定数と考えることはできない。しかし本資料ではそのようなケースは出てこない。\n",
        "\n",
        "[▲上へ戻る](#ref_note3)\n",
        "</div>"
      ]
    },
    {
      "cell_type": "code",
      "metadata": {
        "id": "vz-LgbHyUA34"
      },
      "source": [
        ""
      ],
      "execution_count": null,
      "outputs": []
    },
    {
      "cell_type": "markdown",
      "metadata": {
        "id": "R3ZBMghgRask"
      },
      "source": [
        ""
      ]
    },
    {
      "cell_type": "markdown",
      "metadata": {
        "id": "Lja-H3pv7q74"
      },
      "source": [
        "# 線形代数の基礎"
      ]
    },
    {
      "cell_type": "markdown",
      "metadata": {
        "id": "KiD1JHDa7q75"
      },
      "source": [
        "機械学習の理論では線形代数で用いられる概念が多く登場する。\n",
        "これらの概念を利用することで、複数の値や変数をまとめて扱うことができるようになり、数式を簡潔に表現できるようになる。\n",
        "本章では、特に以下の概念を順番に紹介する\n",
        "\n",
        "- スカラ・ベクトル・行列・テンソル\n",
        "- ベクトル・行列の演算（加減算・スカラ倍・内積・行列積）\n",
        "- 特別な行列（単位行列・逆行列）\n",
        "- 多変数関数（線形結合，二次形式）とその微分"
      ]
    },
    {
      "cell_type": "markdown",
      "metadata": {
        "id": "VSsvisJf7q76"
      },
      "source": [
        "## スカラ・ベクトル・行列・テンソル\n",
        "\n",
        "始めに、スカラ、ベクトル、行列、テンソルと言う 4 つの言葉を解説する。\n",
        "\n",
        "**スカラ (scalar)** は、2.5、-1、$\\sqrt{2}$、$\\pi$といった 1 つの値もしくは変数のことを指す。スカラは温度や身長といった単一の数量を表す。スカラ変数を表すには\n",
        "\n",
        "$$\n",
        "x, \\ y,\\  M,\\  N\n",
        "$$\n",
        "\n",
        "のような文字を利用するのが一般的である。\n",
        "\n",
        "$2.4+3.2i$のような複素数でも、値が 1 つならばスカラ（複素数のスカラ）と呼ぶが、本資料では特に明示しなければ実数のスカラを扱う。後述するベクトル、行列、テンソルについても同様である。\n",
        "\n",
        "$x$が実数のスカラであることをしばしば「$x\\in \\mathbb{R}$」と書く。\n",
        "$\\mathbb{R}$ は実数のスカラからなる集合を表し、「$A\\in B$」は「$A$ は $B$ に属する」と言う意味である。従って、$x\\in \\mathbb{R}$ で「$x$ は実数のスカラからなる集合に属する」、すなわち「$x$ は実数のスカラである」と解釈できる。\n",
        "\n",
        "\n",
        "**ベクトル (vector)** は、スカラを 1 方向に並べたものである。例えば、\n",
        "\n",
        "$$\n",
        "{\\bf x}=\\begin{bmatrix}\n",
        "x_{1} \\\\\n",
        "x_{2} \\\\\n",
        "x_{3}\n",
        "\\end{bmatrix}, \\\n",
        "{\\bf y}=\\begin{bmatrix}\n",
        "y_{1} \\\\\n",
        "y_{2} \\\\\n",
        "\\vdots \\\\\n",
        "y_{N}\n",
        "\\end{bmatrix}\n",
        "$$\n",
        "\n",
        "のように表す。ベクトルを構成するスカラ達（$x_1$ や $y_2$ など）のことを**要素**や**成分**と呼ぶ。\n",
        "ベクトルを表すのに用いられる文字は、スカラと区別しやすいよう太字とするのが一般的である。\n",
        "上の 2 つの例のように、その要素を**縦方向に並べたものは列ベクトル**と呼ぶ。\n",
        "一方、\n",
        "\n",
        "$$\n",
        "{\\bf z}=\\begin{bmatrix}\n",
        "z_{1} & z_{2} & z_{3}\n",
        "\\end{bmatrix}\n",
        "$$\n",
        "\n",
        "のように、要素を**横方向に並べたものは行ベクトル**と呼ぶ。\n",
        "本資料では、特に明示しない限り、単にベクトルと表現した場合には列ベクトルを指すものとする。\n",
        "ベクトルに含まれるスカラの数のことを、そのベクトルの**次元**と呼ぶ。\n",
        "例えば、${\\bf x}$は3次元の列ベクトル、${\\bf z}$ は3次元の行ベクトルである。\n",
        "スカラの場合と同様に、ベクトル ${\\bf x}$ が$N$次元のベクトルで、ベクトルを構成するスカラが実数であることを、数式を用いて「${\\bf x}\\in \\mathbb{R}^N$」とも書く。\n",
        "\n",
        "**行列 (matrix)** は同じサイズのベクトルを複数個並べたものである。例えば、\n",
        "\n",
        "$$\n",
        "{\\bf X} =\n",
        "\\begin{bmatrix}\n",
        "x_{11} & x_{12} \\\\\n",
        "x_{21} & x_{22} \\\\\n",
        "x_{31} & x_{32}\n",
        "\\end{bmatrix}\n",
        "$$\n",
        "\n",
        "は行列の一例である。行列は大文字、または大文字の太文字で表記することでスカラやベクトルと区別する。\n",
        "行列の形（サイズ）は行数と列数で表現する。\n",
        "例えば、上に挙げた ${\\bf X}$ は行ベクトルが 3 つ並んだものと見ることができる。\n",
        "そのため、 ${\\bf X}$ の行数は 3 である。\n",
        "一方、見方を変えると ${\\bf X}$ は列ベクトルが 2 つ並んだものと見ることもできるので、 ${\\bf X}$ の列数は 2 である。\n",
        "そこで、 ${\\bf X}$ を「 3 行 2 列の行列」と呼ぶ。\n",
        "「サイズが $(3, 2)$ である行列」や「サイズが $3\\times 2$ の行列」と呼んでも構いません。\n",
        "$N$ 次元の列ベクトルはサイズが $(N, 1)$ の行列、 $N$ 次元の行ベクトルはサイズが $(1, N)$ の行列と見ることができる。\n",
        "スカラ、ベクトルの場合と並行して、行列 ${\\bf X}$ のサイズが $(N, M)$ であり、各要素が実数であることを、「${\\bf X} \\in \\mathbb{R}^{N \\times M}$」 とも書く。例えば、先程の ${\\bf X}$ については ${\\bf X}\\in \\mathbb{R}^{3\\times 2}$ である。\n",
        "\n",
        "\n",
        "**テンソル (tensor)** はベクトルや行列を一般化した概念である。\n",
        "例えば、ベクトルは 1 方向に、行列は 2 方向にスカラが並んでいる。これは「ベクトルは 1 階のテンソルで、行列は 2 階のテンソルである」であることを意味する。\n",
        "この考え方をさらに進めて、下図のように行列を奥行き方向にさらに並べたものを3階のテンソルと呼ぶ。例えば、カラー画像をデジタル表現する場合、1 枚の画像は RGB (Red Green Blue) の3枚のレイヤー（チャンネルと呼ぶ）を持つのが一般的である。\n",
        "各チャンネルは行列として表され、その行列がチャンネル方向に複数積み重なっているため、画像は 3 階テンソルとみなすことができる。\n",
        "3 階のテンソルは、特定の要素を指定するのに「上から 3 番目、左から 2 番目、手前から 5 番目」のように整数（インデックス）を3個必要とする。\n",
        "\n",
        "同様に、4 次元以上の場合でも、$N$ 次元にスカラを並べたもの（つまり、要素を指定するのに $N$ 個のインデックスが必要なもの）を $N$ 階のテンソルと言う。例えば、多くのディープラーニングフレームワークでは、複数枚の画像の集まりを「画像のインデックス1つ」+「各画像のインデックス 3 つ（幅、高さ、チャンネル）」の 4 階テンソルとして表現する。\n",
        "前述のようにベクトルや行列はテンソルの一種とみなすことができるが、本資料では単に「テンソル」と言った場合は3階以上のテンソルを指す。\n",
        "\n",
        "**図表**\n",
        "\n",
        "![テンソル](https://tutorials.chainer.org/ja/_images/05_tensor.png)\n",
        "\n",
        "\n",
        "### 変数の形と字体の関係\n",
        "\n",
        "多くの教科書（特に線形代数の教科書）では、変数を一目見てその型が何かがわかるように、特定の形（ベクトル、行列など）の変数には特定の字体を用いると言う工夫がされている。\n",
        "本資料に限らず、数式を追う時には変数の字体を見て、その変数の形を意識するのがおすすめである。\n",
        "変数の形と字体の対応関係は教科書によって流派があるが、以下にその一例を紹介する（本資料もこの規約に従う）。\n",
        "\n",
        "|  字体  | 小文字         | 大文字         |\n",
        "|:------:|:--------------:|:--------------:|\n",
        "| 細字   | スカラの変数 ($a, b$ など) | スカラの定数 ($A, B$ など) |\n",
        "| 太字   | ベクトル (${\\bf x}, {\\bf y}$ など)       | 行列、テンソル (${\\bf A}, {\\bf B}$ など) |"
      ]
    },
    {
      "cell_type": "markdown",
      "metadata": {
        "id": "WQ0tHkac7q77"
      },
      "source": [
        "### 加算・減算・スカラ倍\n",
        "\n",
        "次に、ベクトル、行列、テンソルの演算について解説する。\n",
        "**加算（足し算）**及び**減算（引き算）**は同じサイズのベクトル同士、行列同士、テンソル同士の間だけで成立する。\n",
        "以下に、行列およびベクトル同士の加算を具体例で示す。\n",
        "\n",
        "**ベクトル同士の加算**\n",
        "$$\n",
        "\\begin{bmatrix}\n",
        "1 \\\\\n",
        "2 \\\\\n",
        "3\n",
        "\\end{bmatrix}+\\begin{bmatrix}\n",
        "4 \\\\\n",
        "5 \\\\\n",
        "6\n",
        "\\end{bmatrix}=\\begin{bmatrix}\n",
        "1 + 4 \\\\\n",
        "2 + 5 \\\\\n",
        "3 + 6\n",
        "\\end{bmatrix}=\\begin{bmatrix}\n",
        "5 \\\\\n",
        "7 \\\\\n",
        "9\n",
        "\\end{bmatrix}\n",
        "$$\n",
        "\n",
        "**行列同士の加算**\n",
        "$$\n",
        "\\begin{bmatrix}\n",
        "1 & 2 & 3 \\\\\n",
        "4 & 5 & 6\n",
        "\\end{bmatrix}+\\begin{bmatrix}\n",
        "7 & 8 & 9 \\\\\n",
        "10 & 11 & 12 \n",
        "\\end{bmatrix}=\\begin{bmatrix}\n",
        "1+7 & 2+8 & 3+9 \\\\\n",
        "4+10 & 5+11 & 6+12\n",
        "\\end{bmatrix}=\\begin{bmatrix}\n",
        "8 & 10 & 12 \\\\\n",
        "14 & 16 & 18\n",
        "\\end{bmatrix}\n",
        "$$\n",
        "\n",
        "このように、加算、減算ではベクトル（行列/テンソル）の同じ位置にある要素同士に演算を行う。\n",
        "このような計算は、**要素ごとの (element-wise)** 計算とも呼ばれている。\n",
        "ベクトル（行列/テンソル）のサイズが異なる場合、計算が定義できないことに注意する。\n",
        "\n",
        "**スカラ倍**とはベクトル、行列、テンソルにスカラを掛ける演算である。\n",
        "例えば、スカラ $k$ に対し、「ベクトル ${\\bf x}$ の $k$ 倍」とは、ベクトルの各要素に$k$を掛ける操作である。\n",
        "行列やテンソルの場合も同様に要素ごとに同じスカラ$k$を掛けます。\n",
        "言葉で説明するよりも以下の具体例を見る方がわかりやすいかもしれません。\n",
        "\n",
        "\n",
        "**ベクトルのスカラ倍**\n",
        "$$\n",
        "10\n",
        "\\begin{bmatrix}\n",
        "1 \\\\\n",
        "2 \\\\\n",
        "3\n",
        "\\end{bmatrix}=\\begin{bmatrix}\n",
        "10 * 1 \\\\\n",
        "10 * 2 \\\\\n",
        "10 * 3\n",
        "\\end{bmatrix}=\\begin{bmatrix}\n",
        "10 \\\\\n",
        "20 \\\\\n",
        "30\n",
        "\\end{bmatrix}\n",
        "$$\n",
        "\n",
        "**行列のスカラ倍**\n",
        "$$\n",
        "10\n",
        "\\begin{bmatrix}\n",
        "1 & 2 & 3 \\\\\n",
        "4 & 5 & 6\n",
        "\\end{bmatrix}=\\begin{bmatrix}\n",
        "10 * 1 & 10 * 2 & 10 * 3 \\\\\n",
        "10 * 4 & 10 * 5 & 10 * 6\n",
        "\\end{bmatrix}=\\begin{bmatrix}\n",
        "10 & 20 & 30 \\\\\n",
        "40 & 50 & 60\n",
        "\\end{bmatrix}\n",
        "$$\n",
        "\n",
        "スカラ倍を行う前後でベクトル（行列/テンソル）のサイズは変化しないことに注意する。"
      ]
    },
    {
      "cell_type": "markdown",
      "metadata": {
        "id": "YAj8RCXV7q78"
      },
      "source": [
        "### 内積\n",
        "\n",
        "同じサイズの2つのベクトルには、**内積 (inner product)** と言う演算が定義できる。\n",
        "これは、それぞれのベクトルの同じ位置に対応する要素同士を掛け、それらを足し合わせる計算である。\n",
        "${\\bf x}$ と ${\\bf y}$ の内積は ${\\bf x}\\cdot {\\bf y}$ で表されます。\n",
        "例えば、以下の例では 3 次元のベクトルの内積を計算している。\n",
        "\n",
        "$$\n",
        "\\begin{aligned}& \\begin{bmatrix}\n",
        "1 & 2 & 3\n",
        "\\end{bmatrix} \\cdot \\begin{bmatrix}\n",
        "4 \\\\ \n",
        "5 \\\\ \n",
        "6\n",
        " \\end{bmatrix} = 1 \\times 4 + 2 \\times 5  + 3 \\times 6 = 32 \\end{aligned}\n",
        "$$\n",
        "\n",
        "2 つのベクトルの内積はスカラになることに注意する。\n",
        "上の例で示しているように、内積を考える時には 1 つ目のベクトルを行ベクトル（つまり、スカラを横に並べたベクトル）と思うと都合がよい。これは次に説明する行列積に関連する。このように書いた場合には内積を表す $\\cdot$ は省略できる。"
      ]
    },
    {
      "cell_type": "markdown",
      "metadata": {
        "id": "T5znTS-c7q79"
      },
      "source": [
        "### 行列積\n",
        "\n",
        "行列の乗算には、**行列積**、**外積**、**要素積（アダマール積）**など複数の方法がある。\n",
        "ここではそのうち、線形代数や機械学習の多くの問題で登場する**行列積**について説明する。\n",
        "以降では明示しない限り、「行列の掛け算」と言ったときには行列積を指すこととする。\n",
        "\n",
        "行列 ${\\bf A}$ と行列 ${\\bf B}$ の行列積は ${\\bf AB}$ と書き 、${\\bf A}$ の各行と ${\\bf B}$ の各列の内積を並べたものとして定義されます。\n",
        "例えば、行列 ${\\bf A}$ の 1 行目の行ベクトルと、行列 ${\\bf B}$ の 1 列目の列ベクトルの内積の結果は、${\\bf A}$ と ${\\bf B}$ の行列積の結果を表す行列 ${\\bf C}$ の 1 行 1 列目に対応する。\n",
        "\n",
        "**図表**\n",
        "\n",
        "![行列積](https://github.com/kalz2q/mycolabnotebooks/blob/master/images/05/05_matrix_product.png?raw=1)"
      ]
    },
    {
      "cell_type": "markdown",
      "metadata": {
        "id": "6QacSs6hy-K0"
      },
      "source": [
        "内積が定義される条件はベクトルのサイズが等しくなければなりませんでした。ここでもそれが成り立たなければなりません。具体的には、${\\bf A} \\in \\mathbb{R}^{N \\times M}$, ${\\bf B} \\in \\mathbb{R}^{O \\times  P}$ の時、${\\bf A} {\\bf B}={\\bf C}$ の行列積を定義するためには、${\\bf  A}$ の**列数** $M$ と ${\\bf B}$ の**行数**  $O$ が一致する必要がある（[注釈1](#note1)）。\n",
        "つまり、\n",
        "\n",
        "$$\n",
        "M = O\n",
        "$$\n",
        "\n",
        "でなければなりません。\n",
        "そして、結果の行列 ${\\bf C}$ の行数と列数は ${\\bf A}$ の行数 $N$ と ${\\bf B}$ の列数 $P$ とそれぞれ等しくなる。\n",
        "すなわち、${\\bf C} \\in \\mathbb{R}^{N \\times P}$ である。\n",
        "\n",
        "2 つの $N$ 次元ベクトル ${\\bf x}, {\\bf y}$ の内積は、 ${\\bf x}$ をサイズ $(1, N)$ の行列（すなわち行ベクトル），${\\bf y}$ をサイズ $(N, 1)$ の行列（すなわち列ベクトル）とみなして行列積を行うことと考えることができる。\n",
        "2 つのベクトルの行列積はサイズが $(1, 1)$ の行列、すなわちスカラとなる。これは 2 つのベクトルの内積の結果がスカラとなることと一致している。\n",
        "\n",
        "**図表**\n",
        "\n",
        "![matrix product](https://github.com/kalz2q/mycolabnotebooks/blob/master/images/05/05_shape_after_matrix_product.png?raw=1)\n",
        "\n",
        "行列積は${\\bf AB}$ と ${\\bf BA}$ が等しいとは限らないと言う点でスカラの掛け算と大きく異なる。例えば、\n",
        "\n",
        "$$\n",
        "{\\bf A} = \\begin{bmatrix}\n",
        "1 & 2 \\\\\n",
        "3 & 4 \n",
        "\\end{bmatrix}, \n",
        "{\\bf B} = \\begin{bmatrix}\n",
        "5 & 6 \\\\\n",
        "7 & 8 \n",
        "\\end{bmatrix}\n",
        "$$\n",
        "\n",
        "とすると，\n",
        "\n",
        "$$\n",
        "{\\bf AB} = \\begin{bmatrix}\n",
        "1 & 2 \\\\\n",
        "3 & 4 \n",
        "\\end{bmatrix}\n",
        "\\begin{bmatrix}\n",
        "5 & 6 \\\\\n",
        "7 & 8 \n",
        "\\end{bmatrix} = \n",
        "\\begin{bmatrix}\n",
        "1 * 5 + 2 * 7 & 1 * 6 + 2 * 8 \\\\\n",
        "3 * 5 + 4 * 7 & 3 * 6 + 4 * 8\n",
        "\\end{bmatrix} = \n",
        "\\begin{bmatrix}\n",
        "19 & 22 \\\\\n",
        "43 & 50\n",
        "\\end{bmatrix}\n",
        "$$\n",
        "\n",
        "$$\n",
        "{\\bf BA} = \\begin{bmatrix}\n",
        "5 & 6 \\\\\n",
        "7 & 8 \n",
        "\\end{bmatrix}\n",
        "\\begin{bmatrix}\n",
        "1 & 2 \\\\\n",
        "3 & 4 \n",
        "\\end{bmatrix} = \n",
        "\\begin{bmatrix}\n",
        "5 * 1 + 6 * 3 & 5 * 2 + 6 * 4 \\\\\n",
        "7 * 1 + 8 * 3 & 7 * 2 + 8 * 4\n",
        "\\end{bmatrix} = \n",
        "\\begin{bmatrix}\n",
        "23 & 34 \\\\\n",
        "31 & 46\n",
        "\\end{bmatrix}\n",
        "$$\n",
        "\n",
        "となり、 ${\\bf AB} \\not = {\\bf BA}$ である。\n",
        "掛け算の順序の違いを明示的に表現する場合、行列 ${\\bf A}$ に行列 ${\\bf B}$ を左から掛けること（ ${\\bf BA}$ の計算）を行列 ${\\bf B}$ を行列 ${\\bf A}$ に**左乗**すると言い、右から掛ける場合は**右乗**すると言う。\n",
        "\n",
        "${\\bf A}$ と ${\\bf B}$ の選び方によっては ${\\bf AB}$ と ${\\bf BA}$ が等しくなる場合もある。\n",
        "例えば、\n",
        "\n",
        "$$\n",
        "{\\bf A} = \\begin{bmatrix}\n",
        "1 & 2 \\\\\n",
        "3 & 4 \n",
        "\\end{bmatrix}, \n",
        "{\\bf B} = \\begin{bmatrix}\n",
        "3 & 0 \\\\\n",
        "0 & 3\n",
        "\\end{bmatrix}\n",
        "$$\n",
        "\n",
        "とすると、\n",
        "\n",
        "$$\n",
        "\\begin{bmatrix}\n",
        "1 & 2 \\\\\n",
        "3 & 4 \n",
        "\\end{bmatrix}\n",
        "\\begin{bmatrix}\n",
        "3 & 0 \\\\\n",
        "0 & 3\n",
        "\\end{bmatrix} =\n",
        "\\begin{bmatrix}\n",
        "3 & 0 \\\\\n",
        "0 & 3\n",
        "\\end{bmatrix}\n",
        "\\begin{bmatrix}\n",
        "1 & 2 \\\\\n",
        "3 & 4 \n",
        "\\end{bmatrix} =\n",
        "\\begin{bmatrix}\n",
        "3 & 6 \\\\\n",
        "9 & 12\n",
        "\\end{bmatrix}\n",
        "$$\n",
        "\n",
        "となり、 ${\\bf AB}$ と ${\\bf BA}$ は一致する。ここで述べている注意は 「**どんな** ${\\bf A}, {\\bf B}$ でも${\\bf AB} = {\\bf BA}$ が成立する」と言う主張は正しくないことを意味している。"
      ]
    },
    {
      "cell_type": "markdown",
      "metadata": {
        "id": "JP9phJSLy-K1"
      },
      "source": [
        "それでは、行列の計算条件も確認しながら、下記の 3 つの練習問題の計算を行う。\n",
        "\n",
        "$$\n",
        "\\begin{aligned}\n",
        "&\\left( 1\\right) \n",
        "\\begin{bmatrix}\n",
        "1 & 2\n",
        "\\end{bmatrix}\n",
        "\\begin{bmatrix}\n",
        "3 \\\\ \n",
        "4\n",
        "\\end{bmatrix}\\\\ \n",
        "&\\left( 2\\right) \n",
        "\\begin{bmatrix}\n",
        "1 & 2 \\\\ \n",
        "3 & 4 \n",
        "\\end{bmatrix}\\begin{bmatrix}\n",
        "5 \\\\ \n",
        "6 \n",
        "\\end{bmatrix}\\\\ \n",
        "&\\left( 3\\right) \n",
        "\\begin{bmatrix} \n",
        "1 & 2 \n",
        "\\end{bmatrix}\\begin{bmatrix} \n",
        "3 & 4 \\\\ \n",
        "5 & 6 \n",
        "\\end{bmatrix}\\begin{bmatrix} \n",
        "3 \\\\ \n",
        "1\n",
        "\\end{bmatrix} \n",
        "\\end{aligned} \n",
        "$$ \n",
        "\n",
        "こちらが解答である。\n",
        "\n",
        "$$\n",
        "\\begin{aligned} \n",
        "&\\left( 1\\right) \n",
        "\\begin{bmatrix} \n",
        "1 & 2 \n",
        "\\end{bmatrix}\\begin{bmatrix} \n",
        "3 \\\\ \n",
        "4 \n",
        "\\end{bmatrix} = 1\\times 3 + 2 \\times 4 = 11\\\\ \n",
        "&\\left( 2\\right) \n",
        "\\begin{bmatrix} \n",
        "1 & 2 \\\\ \n",
        "3 & 4\n",
        "\\end{bmatrix}\\begin{bmatrix} \n",
        "5 \\\\ \n",
        "6\n",
        "\\end{bmatrix} = \\begin{bmatrix} \n",
        "1 \\times 5 + 2 \\times 6 \\\\ \n",
        "3 \\times 5 + 4 \\times 6 \n",
        "\\end{bmatrix} = \\begin{bmatrix} \n",
        "17 \\\\ \n",
        "39 \n",
        "\\end{bmatrix}\\\\ \n",
        "&\\left( 3\\right) \n",
        "\\begin{bmatrix} \n",
        "1 & 2 \n",
        "\\end{bmatrix}\\begin{bmatrix} \n",
        "3 & 4 \\\\ \n",
        "5 & 6 \n",
        "\\end{bmatrix}\\begin{bmatrix} \n",
        "3 \\\\ \n",
        "1 \n",
        "\\end{bmatrix} \n",
        "=\\begin{bmatrix} \n",
        "1 & 2 \n",
        "\\end{bmatrix}\\begin{bmatrix} \n",
        "3 \\times 3 + 4 \\times 1 \\\\ \n",
        "5 \\times 3 + 6 \\times 1 \n",
        "\\end{bmatrix} = \\begin{bmatrix} \n",
        "1 & 2 \n",
        "\\end{bmatrix}\\begin{bmatrix} \n",
        "13 \\\\ \n",
        "21 \n",
        "\\end{bmatrix}\n",
        "= 1 \\times 13 + 2 \\times 21 \n",
        "=55\n",
        "\\end{aligned} \n",
        "$$\n",
        "\n",
        "このような計算は、機械学習の基礎を学習していく過程でよく登場する。行列積では、演算前と後の行数・列数の変化に注意する。"
      ]
    },
    {
      "cell_type": "markdown",
      "metadata": {
        "id": "ukRIBXJL7q7_"
      },
      "source": [
        "### 行列積によるベクトル・行列のサイズ変化\n",
        "\n",
        "行列の前後では行列の形が変化する。\n",
        "具体的にはサイズが $(L, M)$ と $(M, N)$ の行列の行列積の結果はサイズが $(L, N)$ の行列となる。\n",
        "先ほどの 3 つの練習問題では、行列やベクトルの形・サイズがどのように変化していたかを確認してみる。\n",
        "\n",
        "**図表**\n",
        "\n",
        "![演算後の行列](https://github.com/kalz2q/mycolabnotebooks/blob/master/images/05/05_shape_after_calculation.png?raw=1)\n",
        "\n",
        "特に (3) では、一番左端のベクトルと、真ん中の行列の乗算結果が、行ベクトルであるため、サイズの変化が (1) と同じケースに帰着することに注意する。\n",
        "\n",
        "また、例えば $(3, 1)$ の行列のようにある次元のサイズが 1 となった場合、その次元を削除する場合がある。例えば (2)の計算結果はサイズが $(2, 1)$ の行列であるが、これは2次元のベクトルとして扱えます。同様に、 (1), (3) の答えはサイズ $(1, 1)$ の行列であるが、スカラとみなすことができる。このようにサイズが 1 になった次元をつぶす操作をしばしば `squeeze` と呼ぶ。"
      ]
    },
    {
      "cell_type": "markdown",
      "metadata": {
        "id": "mFA54KR47q7-"
      },
      "source": [
        "### 転置\n",
        "\n",
        "ベクトルは縦方向に要素が並んだ列ベクトルを基本としていましたが、横方向に要素が並んだ行ベクトルを使いたい場合もある。そこで列ベクトルを行ベクトルに、行ベクトルを列ベクトルに変換する操作を**転置 (transpose)** と呼ぶ。転置はベクトルの右肩に ${\\rm T}$ と書くことで表す。例えば、 ${\\bf x}$ が 3 次元のベクトルならば、\n",
        "\n",
        "$$\n",
        "{\\bf x}\n",
        "=\\begin{bmatrix}\n",
        "1 \\\\\n",
        "2 \\\\\n",
        "3\n",
        "\\end{bmatrix}, \\ \n",
        "{\\bf x}^{\\rm T} = \\begin{bmatrix} 1 & 2 & 3 \\end{bmatrix}\n",
        "$$\n",
        "\n",
        "である。\n",
        "転置は行列に対しても定義できる。例えば、\n",
        "\n",
        "$$\n",
        "{\\bf X}\n",
        "=\\begin{bmatrix}\n",
        "1 & 4 \\\\\n",
        "2 & 5 \\\\\n",
        "3 & 6\n",
        "\\end{bmatrix}, \\\n",
        "{\\bf X}^{\\rm T}=\\begin{bmatrix}\n",
        "1 & 2 & 3 \\\\\n",
        "4 & 5 & 6\n",
        "\\end{bmatrix}\n",
        "$$\n",
        "\n",
        "である。行列に対する転置では、行と列が入れ替わるため、サイズが $(N, M)$ だった行列は、転置するとサイズが $(M, N)$ の行列となる。つまり、 $i$ 行 $j$ 列目の値が転置後には $j$ 行 $i$ 列目の値になる。転置の公式として次を覚えておく。\n",
        "\n",
        "$$\n",
        "\\begin{aligned}\n",
        "&\\left( 1\\right) \\ \\left( {\\bf A}^{\\rm T} \\right)^{\\rm T} = {\\bf A} \\\\\n",
        "&\\left( 2\\right) \\ \\left( {\\bf A}{\\bf B} \\right)^{\\rm T} = {\\bf B}^{\\rm T}{\\bf A}^{\\rm T}\\\\\n",
        "&\\left( 3\\right) \\ \\left( {\\bf A}{\\bf B}{\\bf C} \\right)^{\\rm T} = {\\bf C}^{\\rm T}{\\bf B}^{\\rm T}{\\bf A}^{\\rm T}\n",
        "\\end{aligned}\n",
        "$$\n",
        "\n",
        "\n",
        "転置を用いると、 2 つの列ベクトル ${\\bf x}$, ${\\bf y}$ の内積 ${\\bf x}\\cdot {\\bf y}$ は、行列積を用いて ${\\bf x^{\\rm T} y}$ と書けることに注意する。"
      ]
    },
    {
      "cell_type": "markdown",
      "metadata": {
        "id": "PGh56iiO7q8A"
      },
      "source": [
        "### 単位行列\n",
        "\n",
        "スカラ値の $1$ は、 $10 \\times 1 = 10$ のように、任意の数を $1$ に乗じても値が変化しないと言う性質を持ちます。行列の演算において、これと同様の働きをする行列が**単位行列 (identity matrix, unit matrix)** である（[注釈2](#note2)）。\n",
        "単位行列は\n",
        "\n",
        "$$\n",
        "{\\bf I} =\n",
        "\\begin{bmatrix}\n",
        "1 & 0 & \\cdots  & 0 \\\\\n",
        "0 & 1 & \\cdots  & 0 \\\\\n",
        "\\vdots & \\vdots & \\ddots & \\vdots  \\\\\n",
        "0 & 0 & \\cdots  & 1\n",
        "\\end{bmatrix}\n",
        "$$\n",
        "\n",
        "と言う形をしており、記号 ${\\bf I}$ で表すのが一般的である。行列の斜めの要素を**対角要素**とよび、それ以外の要素を非対角要素とよびます。単位行列は、対角要素が全て $1$ で、非対角要素が全て $0$ であるような **正方行列**（行数と列数が等しい行列）である。例えば、$2 \\times 2$ の単位行列は、\n",
        "\n",
        "$$\n",
        "{\\bf I} =\n",
        "\\begin{bmatrix}\n",
        "1 & 0 \\\\\n",
        "0 & 1\n",
        "\\end{bmatrix}\n",
        "$$\n",
        "\n",
        "であり、$3 \\times 3$の単位行列は、\n",
        "\n",
        "$$\n",
        "{\\bf I} =\n",
        "\\begin{bmatrix}\n",
        "1 & 0 & 0 \\\\\n",
        "0 & 1 & 0 \\\\\n",
        "0 & 0 & 1\n",
        "\\end{bmatrix}\n",
        "$$\n",
        "\n",
        "である。行列のサイズを明示したい場合には、 $I_n$ （ $n \\times n$ の単位行列の意味）と添字でサイズを表記することがある。\n",
        "\n",
        "単位行列はサイズが等しい任意の正方行列 ${\\bf A}$ に対して以下の計算が成立する。\n",
        "\n",
        "$$\n",
        "\\begin{aligned}\n",
        "{\\bf A}{\\bf I} &= {\\bf A} \\\\\n",
        "{\\bf I}{\\bf A} &= {\\bf A}\n",
        "\\end{aligned}\n",
        "$$\n",
        "\n",
        "適当な行列で、単位行列を掛けても元の行列と値が変わらないことを確認してみる。\n",
        "\n",
        "$$\n",
        "\\begin{aligned}\n",
        "\\begin{bmatrix}\n",
        "1 & 2 \\\\\n",
        "3 & 4\n",
        "\\end{bmatrix}\n",
        "\\begin{bmatrix}\n",
        "1 & 0 \\\\\n",
        "0 & 1\n",
        "\\end{bmatrix}\n",
        "&=\n",
        "\\begin{bmatrix}\n",
        "1 \\times 1 + 2 \\times 0 & 1 \\times 0 + 2 \\times 1 \\\\\n",
        "3 \\times 1 + 4 \\times 0 & 3 \\times 0 + 4 \\times 1\n",
        "\\end{bmatrix} \\\\\n",
        "&=\n",
        "\\begin{bmatrix}\n",
        "1 & 2 \\\\\n",
        "3 & 4\n",
        "\\end{bmatrix}\n",
        "\\end{aligned}\n",
        "$$\n",
        "\n",
        "計算結果から分かる通り、元の行列と全ての要素が一致しました。\n",
        "${\\bf I}$ を左から掛けても同様の結果となることを確かめてみる。"
      ]
    },
    {
      "cell_type": "markdown",
      "metadata": {
        "id": "truuSeTL7q8G"
      },
      "source": [
        "### 逆行列\n",
        "\n",
        "$0$ でないスカラ $x$ には、 逆数 $x^{-1}$ を考えることができる。\n",
        "行列で逆数に対応するものが **逆行列 (inverse matrix)** である。\n",
        "\n",
        "厳密な定義は次の通りである。行列 ${\\bf A}$ に対し、 ${\\bf AB} = {\\bf I}$ , ${\\bf BA} = {\\bf I}$ を満たす行列 ${\\bf B}$ のことを ${\\bf A}$ の逆行列 と言う。\n",
        "このような条件を満たす行列 ${\\bf B}$ は 行列 ${\\bf A}$ によって存在したり存在しなかったりする。\n",
        "しかし、もし ${\\bf A}$ に対しこの条件を満たす行列が存在するならば、そのような行列はただ 1 つであることが知られている。\n",
        "そこで、行列 ${\\bf A}$ の逆行列を ${\\bf A}^{-1}$ と書く。\n",
        "\n",
        "逆行列の定義から、\n",
        "\n",
        "$$\n",
        "\\begin{aligned}\n",
        "{\\bf AA}^{-1} = {\\bf I} \\\\\n",
        "{\\bf A}^{-1}{\\bf A} = {\\bf I}\n",
        "\\end{aligned}\n",
        "$$\n",
        "\n",
        "が成立することに注意する。ここで、 ${\\bf I}$ は単位行列である。\n",
        "\n",
        "逆行列が存在するような行列のことを**正則行列**と呼ぶ。\n",
        "正則行列となるには少なくとも行列積 ${\\bf AA^{-1}}$ と ${\\bf A^{-1}A}$ の両方が定義されていなければなりません。\n",
        "これは ${\\bf A}$ は正方行列（つまり、行数と列数が同じ行列）であることを意味する （なぜか考えてみる）。\n",
        "しかし、 ${\\bf A}$ の行数と列数が同じであるからと言って、常に ${\\bf A}$ が正則行列とは限りません。\n",
        "行列が正則であるための条件に関する詳細な説明はここでは省略する。\n",
        "\n",
        "サイズが $2 \\times 2$ や $3 \\times 3$ といった小さな行列の場合には、手計算でも可能な逆行列計算の方法が知られているが、機械学習ではより大きなサイズの行列（ $1000 \\times 1000$ など）を扱うことがあり、そういった大きな行列の逆行列を効率的または近似的にコンピュータを使って計算する手法が研究されている。"
      ]
    },
    {
      "cell_type": "markdown",
      "metadata": {
        "id": "29LkWUqa7q8K"
      },
      "source": [
        "### 線形結合と二次形式\n",
        "\n",
        "機械学習の数式で頻出する形式として、 ${\\bf b}^{\\rm T}{\\bf x}$ と ${\\bf x}^{\\rm T}{\\bf A}{\\bf x}$ の 2 つがある。\n",
        "前者は**線形結合**もしくは**一次結合**、後者は**二次形式**と呼ばれている。\n",
        "スカラの一次式 ($ax + b$) や二次式 ($ax^2 + bx + c$) をベクトルに拡張したものと捉えるとよいでしょう。\n",
        "\n",
        "線形結合の計算を要素ごとに見てみると、\n",
        "\n",
        "$$\n",
        "\\begin{aligned}\n",
        "{\\bf b}\n",
        "&=\n",
        "\\begin{bmatrix}\n",
        "1 \\\\\n",
        "2\n",
        "\\end{bmatrix},\\ \n",
        "{\\bf x} =\n",
        "\\begin{bmatrix}\n",
        "x_{1} \\\\\n",
        "x_{2}\n",
        "\\end{bmatrix}\\\\\n",
        "{\\bf b}^{\\rm T}{\\bf x}\n",
        "&=\n",
        "\\begin{bmatrix}\n",
        "1 & 2\n",
        "\\end{bmatrix}\n",
        "\\begin{bmatrix}\n",
        "x_1 \\\\\n",
        "x_2\n",
        "\\end{bmatrix}\n",
        "= x_1 + 2x_2\n",
        "\\end{aligned}\n",
        "$$\n",
        "\n",
        "のように ${\\bf x}$ の要素である $x_1$ および $x_2$ に関して一次式となっている。\n",
        "\n",
        "また、二次形式も同様に要素ごとに確認してみると、\n",
        "\n",
        "$$\n",
        "\\begin{aligned}\n",
        "{\\bf A} &=\n",
        "\\begin{bmatrix}\n",
        "1 & 2 \\\\\n",
        "3 & 4\n",
        "\\end{bmatrix},\\ \n",
        "{\\bf x} =\n",
        "\\begin{bmatrix}\n",
        "x_{1} \\\\\n",
        "x_{2}\n",
        "\\end{bmatrix}\\\\\n",
        "{\\bf x}^{\\rm T}{\\bf A}{\\bf x}\n",
        "&=\n",
        "\\begin{bmatrix}\n",
        "x_1 & x_2\n",
        "\\end{bmatrix}\n",
        "\\begin{bmatrix}\n",
        "1 & 2 \\\\\n",
        "3 & 4\n",
        "\\end{bmatrix}\n",
        "\\begin{bmatrix}\n",
        "x_1 \\\\\n",
        "x_2\n",
        "\\end{bmatrix} \\\\\n",
        "&=\n",
        "\\begin{bmatrix}\n",
        "x_1 & x_2\n",
        "\\end{bmatrix}\n",
        "\\begin{bmatrix}\n",
        "x_1 + 2x_2 \\\\\n",
        "3x_1 + 4x_2\n",
        "\\end{bmatrix} \\\\\n",
        "&=\n",
        "x_1 \\left( x_1 + 2x_2 \\right) + x_2 \\left( 3x_1 + 4x_2 \\right) \\\\\n",
        "&=\n",
        "x^2_1 + 5x_1 x_2 + 4x_2^2\n",
        "\\end{aligned}\n",
        "$$\n",
        "\n",
        "となり、各要素に関して二次式となっている。\n",
        "一般に、$x_1, \\ldots, x_N$ に関する二次関数は、\n",
        "\n",
        "$$\n",
        "{\\bf x} = \\begin{bmatrix}\n",
        "x_1 \\\\\n",
        "\\vdots \\\\\n",
        "x_n \\\\\n",
        "\\end{bmatrix}\n",
        "$$\n",
        "\n",
        "として、\n",
        "\n",
        "$$\n",
        "{\\bf x}^{\\rm T}{\\bf A}{\\bf x} + {\\bf b}^{\\rm T}{\\bf x} + c\n",
        "$$\n",
        "\n",
        "と表記できる。ここで、 ${\\bf A}$ は 2次の項の係数を表すサイズ $(n, n)$ の 行列、 ${\\bf b}$ は1次の項の係数を表す $n$ 次元のベクトル、 $c$ はスカラの定数項である。"
      ]
    },
    {
      "cell_type": "markdown",
      "metadata": {
        "id": "a1hytPfx7q8M"
      },
      "source": [
        "### ベクトルによる微分と勾配\n",
        "\n",
        "微分は入力が変化した場合の関数値の変化量から求められました。\n",
        "これは関数の入力がベクトルである場合も同様である。\n",
        "ベクトルを入力にとる関数の微分を考えてみる。\n",
        "入力ベクトルの要素毎に出力に対する偏微分を計算し、それらを並べてベクトルにしたものが**勾配 (gradient)** である。\n",
        "\n",
        "まず勾配に関する計算の具体例を見てみる。\n",
        "\n",
        "$$\n",
        "\\begin{aligned}\n",
        "{\\bf b}\n",
        "&=\\begin{bmatrix}\n",
        "3 \\\\\n",
        "4\n",
        "\\end{bmatrix}, \\ \n",
        "{\\bf x} =\n",
        "\\begin{bmatrix}\n",
        "x_{1} \\\\\n",
        "x_{2}\n",
        "\\end{bmatrix}\\\\\n",
        "{\\bf b}^{\\rm T}{\\bf x} &=\n",
        "\\begin{bmatrix}\n",
        "3 & 4\n",
        "\\end{bmatrix}\n",
        "\\begin{bmatrix}\n",
        "x_1 \\\\\n",
        "x_2\n",
        "\\end{bmatrix}\n",
        "= 3x_1 + 4x_2\n",
        "\\end{aligned}\n",
        "$$\n",
        "\n",
        "この ${\\bf b}^{\\rm T}{\\bf x}$ をベクトル ${\\bf x}$ で微分したものを、\n",
        "\n",
        "$$\n",
        "\\frac{\\partial}{\\partial {\\bf x}} \\left( {\\bf b}^{\\rm T}{\\bf x} \\right)\n",
        "$$\n",
        "\n",
        "と表す。\n",
        "「ベクトルで微分」とは、ベクトルのそれぞれの要素で対象を微分し、その結果を要素に対応する位置に並べてベクトルを作ることである。\n",
        "前述の例では、以下のように計算を行う。\n",
        "\n",
        "$$\n",
        "\\begin{aligned}\n",
        "\\frac{\\partial}{\\partial {\\bf x}} \\left( {\\bf b}^{\\rm T} {\\bf x} \\right)\n",
        "&= \\frac{\\partial}{\\partial {\\bf x}} \\left( 3x_1 + 4x_2 \\right) \\\\\n",
        "&=\n",
        "\\begin{bmatrix}\n",
        "\\frac{\\partial}{\\partial x_1} \\left( 3x_1 + 4x_2 \\right) & \\frac{\\partial}{\\partial x_2} \\left( 3x_1 + 4x_2 \\right)\n",
        "\\end{bmatrix}\n",
        "\\end{aligned}\n",
        "$$\n",
        "\n",
        "各要素の計算を進めると、以下のようになる。本チュートリアルでは、ベクトルは原則として列ベクトルを用いるルールを採用しているが、ここでは微分した結果を行ベクトルで表していることに注意する。これは、後で登場するベクトル値関数（ベクトルを出力とする関数）の微分を考えた場合との整合性をとるためである。\n",
        "\n",
        "$$\n",
        "\\begin{aligned}\n",
        "\\frac{\\partial}{\\partial x_1} \\left( 3x_1 + 4x_2 \\right)\n",
        "&= \\frac{\\partial}{\\partial x_1} \\left( 3x_1 \\right)\n",
        "+ \\frac{\\partial}{\\partial x_1} \\left( 4x_2 \\right) \\\\\n",
        "&= 3 \\times \\frac{\\partial}{\\partial x_1} \\left( x_1 \\right)\n",
        "+ 4x_{2} \\times \\frac{\\partial}{\\partial x_1} (1) \\\\\n",
        "&= 3 \\times 1 + 4x_{2} \\times 0 \\\\\n",
        "&= 3\n",
        "\\end{aligned}\n",
        "$$\n",
        "\n",
        "$$\n",
        "\\begin{aligned}\n",
        "\\frac{\\partial}{\\partial x_2} \\left( 3x_1 + 4x_2 \\right)\n",
        "&= \\frac{\\partial}{\\partial x_2} \\left( 3x_1 \\right)\n",
        "+ \\frac{\\partial}{\\partial x_2} \\left( 4x_2 \\right) \\\\\n",
        "&= 3x_{1} \\times \\frac{\\partial}{\\partial x_2} (1)\n",
        "+ 4 \\times \\frac{\\partial}{\\partial ax_2} (x_{2}) \\\\\n",
        "&= 3x_{1} \\times 0 + 4 \\times 1 \\\\\n",
        "&= 4\n",
        "\\end{aligned}\n",
        "$$\n",
        "\n",
        "従って、計算結果を整理すると、以下のようになる。\n",
        "\n",
        "$$\n",
        "\\begin{aligned}\n",
        "\\frac{\\partial}{\\partial {\\bf x}} \\left( {\\bf b}^{\\rm T}{\\bf x} \\right)\n",
        "&=\n",
        "\\begin{bmatrix}\n",
        "\\frac{\\partial}{\\partial x_1} \\left( 3x_1 + 4x_2 \\right) & \\frac{\\partial}{\\partial x_2} \\left( 3x_1 + 4x_2\\right) \n",
        "\\end{bmatrix}\n",
        "=\n",
        "\\begin{bmatrix}\n",
        "3 & 4\n",
        "\\end{bmatrix}\n",
        "=\n",
        "{\\bf b}^{\\rm T}\n",
        "\\end{aligned}\n",
        "$$\n",
        "\n",
        "もう一つ別の例を考えてみる。今度は定数スカラーをベクトルで微分する。\n",
        "\n",
        "$$\n",
        "\\begin{aligned}\n",
        "c\n",
        "&=\n",
        "3 ,\n",
        "{\\bf x}\n",
        "=\n",
        "\\begin{bmatrix}\n",
        "x_{1} \\\\\n",
        "x_{2}\n",
        "\\end{bmatrix} \\\\\n",
        "\\frac{\\partial}{\\partial {\\bf x}} \\left( c \\right)\n",
        "&=\n",
        "\\begin{bmatrix}\n",
        "\\frac{\\partial}{\\partial x_1} \\left( 3 \\right) & \\frac{\\partial}{\\partial x_2} \\left( 3 \\right)\n",
        "\\end{bmatrix}\n",
        "=\n",
        "\\begin{bmatrix}\n",
        "0 & 0\n",
        "\\end{bmatrix}\n",
        "=\n",
        "{\\bf 0}\n",
        "\\end{aligned}\n",
        "$$\n",
        "\n",
        "偏微分を行う対象に変数が含まれていない場合、その偏微分は $0$ となる。要素が $0$ のみで構成されたベクトルを**ゼロベクトル**と言い、数字の $0$ を太字にした ${\\bf 0}$ で表す。\n",
        "\n",
        "これらを踏まえて、機械学習で頻出する計算結果をまとめて覚えておく。\n",
        "\n",
        "$$\n",
        "\\begin{aligned}\n",
        "&\\left( 1 \\right) \\ \\frac{\\partial}{\\partial {\\bf x}} \\left( c \\right) = {\\bf 0} \\\\\n",
        "&\\left( 2 \\right) \\ \\frac{\\partial}{\\partial {\\bf x}} \\left( {\\bf b}^{\\rm T}{\\bf x} \\right) = {\\bf b}^{\\rm T} \\\\\n",
        "&\\left( 3 \\right) \\ \\frac{\\partial}{\\partial {\\bf x}} \\left( {\\bf x}^{\\rm T}{\\bf A}{\\bf x} \\right) = {\\bf x}^{\\rm T} \\left( {\\bf A} + {\\bf A}^{\\rm T} \\right)\n",
        "\\end{aligned}\n",
        "$$\n",
        "\n",
        "ここで、(1) と (2) はすでに導出済みである。(3) は導出が少し複雑なので省略するが、数値を代入して確認してみる。"
      ]
    },
    {
      "cell_type": "markdown",
      "metadata": {
        "id": "PYTMKZHTSFvu"
      },
      "source": [
        "## ベクトルを入力とする関数\n",
        "\n",
        "前節で考えた ${\\bf b^T x}$ や ${\\bf x^T A x}$ は  ベクトル ${\\bf x}$ を受け取って、スカラ ${\\bf b^T x}$, ${\\bf x^T A x}$ を出力する関数と考えることができる。 ${\\bf x}$ を成分表示して\n",
        "\n",
        "$$\n",
        "{\\bf x} = \\begin{bmatrix} x_1 \\\\ x_2 \\end{bmatrix}\n",
        "$$\n",
        "\n",
        "と書くと、この関数は 2 つのスカラ変数 $x_1$, $x_2$ を入力とする多変数関数である。\n",
        "同様に、入力が $M$ 個のスカラ変数の関数は、 $M$ 次元のベクトル 1 個を入力とする関数とも解釈することができる。\n",
        "多変数関数 $f(x_1, \\ldots, x_M)$ は、入力をまとめて\n",
        "\n",
        "$$\n",
        "{\\bf x} = \\begin{bmatrix} x_1 \\\\ \\vdots \\\\ x_M \\end{bmatrix}\n",
        "$$\n",
        "\n",
        "と書き、 $f({\\bf x})$ と表記しても構いません。 $f({\\bf x})$ の微分は、前章で説明した偏微分を各変数 $x_1, \\ldots, x_M$ に対して行い\n",
        "\n",
        "$$\n",
        "\\frac{\\partial}{\\partial {\\bf x}} f({\\bf x}) =\n",
        "\\begin{bmatrix}\n",
        "    \\frac{\\partial}{\\partial x_1} f({\\bf x})  & \\dots & \\frac{\\partial}{\\partial x_M} f({\\bf x}) \\\\\n",
        "\\end{bmatrix}\n",
        "$$\n",
        "\n",
        "と計算する。"
      ]
    },
    {
      "cell_type": "markdown",
      "metadata": {
        "id": "9P1n5yxKSFvu"
      },
      "source": [
        "## ベクトル値関数\n",
        "\n",
        "次に入力ではなく出力が多変数の関数を考えます。\n",
        "まず、1 つのスカラ変数 $x$ を入力とし、 $N$ 個のスカラ（つまり、 $N$ 次元のベクトルを 1 個）を出力する関数 ${\\bf f}(x)$ を考えます。\n",
        "ベクトル変数は ${\\bf y}$ などの太字で書いていました。それと同様に、この関数も出力がベクトルであることを強調して ${\\bf f}$ と太字で表す。\n",
        "${\\bf f}$ のように出力がベクトルである関数を **ベクトル値関数 (vector-valued function)** と呼ぶ。それに対し、出力がスカラである関数を（そのことを強調したい場合には） **スカラ値関数 (scalar-valued function)** と呼ぶ。\n",
        "\n",
        "${\\bf f}$ の出力の各成分に注目すると、 ${\\bf f}$ は $N$ 個のスカラ値関数の集まりと考えることができる。\n",
        "つまり、 $x$ を受け取り、 ${\\bf f}$ の 第 $n$ 成分を出力する関数を $f_n$ と書くと、\n",
        "\n",
        "$$\n",
        "{\\bf f}(x) = \\begin{bmatrix}f_1(x) \\\\ \\vdots \\\\ f_N(x)\\end{bmatrix}\n",
        "$$\n",
        "\n",
        "である。\n",
        "入力が多変数でも同様に成分表示することができる。すなわち、入力変数が $M$ 次元ベクトル、出力変数が $N$ 次元ベクトルである関数 ${\\bf g}$ は\n",
        "\n",
        "$$\n",
        "{\\bf g}({\\bf x}) = \n",
        "\\begin{bmatrix}g_1({\\bf x}) \\\\ \\vdots \\\\ g_N({\\bf x})\\end{bmatrix} = \n",
        "\\begin{bmatrix}g_1(x_1, \\ldots, x_M) \\\\ \\vdots \\\\ g_N(x_1, \\ldots, x_M)\\end{bmatrix}\n",
        "$$\n",
        "\n",
        "と成分表示できる。誤解が生じないならば、一番右の表式のように入力変数 ${\\bf x}$ を成分表示しても構いません。"
      ]
    },
    {
      "cell_type": "markdown",
      "metadata": {
        "id": "pKUOCyN_SFvv"
      },
      "source": [
        "## ベクトル値関数の微分\n",
        "\n",
        "ベクトル値関数の微分を行うには、各成分ごとにスカラ値関数と同様の方法で微分する。例えば前節の ${\\bf f}$ の微分は\n",
        "\n",
        "$$\n",
        "{\\bf f}'(x) = \\begin{bmatrix} f'_1(x) \\\\ \\vdots \\\\ f'_N(x) \\end{bmatrix}\n",
        "$$\n",
        "\n",
        "である。出力がベクトルであることに対応して、微分もベクトルであることに注意する。\n",
        "微小量を表す $d$ を用いて\n",
        "\n",
        "$$\n",
        "\\frac{d}{dx} {\\bf f} (x) = \\begin{bmatrix} \\frac{d}{dx}f_1(x) \\\\ \\vdots \\\\ \\frac{d}{dx}f_N(x) \\end{bmatrix}\n",
        "$$\n",
        "\n",
        "と書いても構いません。\n",
        "\n",
        "入出力が共に多変数である関数を微分する場合も、出力の成分ごとに微分する。\n",
        "ただし、今度は入力も多変数であるため、入力の成分ごとに偏微分を行わなければなりません。\n",
        "例えば、前節の ${\\bf g}$ を微分すると、前節の成分表示を用いて\n",
        "\n",
        "$$\n",
        "\\frac{\\partial {\\bf g}}{\\partial {\\bf x}}({\\bf x}) = \n",
        "\\begin{bmatrix}\n",
        "    \\frac{\\partial g_{1}}{\\partial {x_1}}({\\bf x}) & \\cdots & \\frac{\\partial g_{1}}{\\partial {x_M}}({\\bf x}) \\\\\n",
        "    \\vdots & \\ddots & \\vdots \\\\\n",
        "    \\frac{\\partial g_{N}}{\\partial {x_1}}({\\bf x}) & \\cdots & \\frac{\\partial g_{N}}{\\partial {x_M}}({\\bf x})\n",
        "\\end{bmatrix}\n",
        "$$\n",
        "\n",
        "となる。 $M$ 個の入力変数と $N$ 個の出力変数の組み合わせを考える必要があるので、微分はサイズ $(N, M)$ の行列となることに注意する。この、すべての偏微分の組み合わせをまとめて作った行列のことを **ヤコビ行列** と呼ぶ。"
      ]
    },
    {
      "cell_type": "markdown",
      "metadata": {
        "id": "t2xxVwqsSFvv"
      },
      "source": [
        "## 合成関数の微分（多変数バージョン）\n",
        "\n",
        "先程 1 変数入力、1 変数出力の合成関数の微分（連鎖律）を説明しました。\n",
        "類似の定理が多変数入力、多変数出力の場合にも成立する。\n",
        "本節では多変数バージョンの合成関数の微分の公式を紹介する。\n",
        "\n",
        "${\\bf g}$ を $M$ 変数入力 $N$ 変数出力、${\\bf f}$ を $N$ 変数入力 $L$ 変数出力の関数とする。\n",
        "これらの関数の合成 ${\\bf h} = {\\bf f}({\\bf g} ({\\bf x}))$ は $M$ 変数入力 $L$ 変数出力の関数であることに注意する。\n",
        "これを $x$ で微分する。\n",
        "以下の式が多変数関数バージョンの合成関数の微分の公式である。\n",
        "\n",
        "$$\n",
        "\\frac{\\partial {\\bf h}}{\\partial {\\bf x}}({\\bf x})  = \\frac{\\partial {\\bf f}}{\\partial {\\bf u}}({\\bf u}) \\frac{\\partial {\\bf g}}{\\partial {\\bf x}}({\\bf x}).\n",
        "$$\n",
        "\n",
        "ここで、 ${\\bf u} = {\\bf g}({\\bf x})$である。\n",
        "\n",
        "1 変数入力、1変数出力の場合の合成関数の微分の公式と見比べると細字だった変数や関数が太字となり $d$ であった所が偏微分を表す $\\partial$ に置き換えられている。すなわち、 1 変数の場合との最も大きな違いは\n",
        "\n",
        "$$\n",
        "\\frac{\\partial {\\bf h}}{\\partial {\\bf x}}({\\bf x}), \n",
        "\\frac{\\partial {\\bf f}}{\\partial {\\bf u}}({\\bf u}), \n",
        "\\frac{\\partial {\\bf g}}{\\partial {\\bf x}}({\\bf x})\n",
        "$$\n",
        "\n",
        "が行列であることである。行列のサイズはそれぞれ $(L, M)$, $(L, N)$, $(N, M)$ である。\n",
        "それに伴い、公式の右辺の掛け算は行列積である。サイズが $(L, N)$ と $(N, M)$ なので、行列積がきちんと定義できることに注意する。\n",
        "また、行列の積は交換可能ではないので、右辺を交換して $\\frac{\\partial {\\bf g}}{\\partial {\\bf x}}({\\bf x}) \\frac{\\partial {\\bf f}}{\\partial {\\bf u}}({\\bf u})$ とすると別の意味になってしまう（そもそも定義することができないかもしれない）ことにも注意する。\n",
        "\n",
        "$M = N = L = 1$ とすると、前節の合成関数の微分と全く同じ公式である。\n",
        "その意味で多変数関数の合成関数の微分は 1 変数の場合を一般化した公式である。\n",
        "逆に、1 変数の公式は多変数の公式の特別な場合と言うこともできる。\n",
        "\n",
        "\n",
        "### 計算例1\n",
        "\n",
        "合成関数の微分を使って、多変数関数の微分を具体的に計算してみる。\n",
        "\n",
        "$$\n",
        "{\\bf x} = \\begin{bmatrix} x_1 \\\\ x_2 \\end{bmatrix}, \n",
        "{\\bf u} = \\begin{bmatrix} u_1 \\\\ u_2 \\\\ u_3 \\\\ u_4 \\end{bmatrix}\n",
        "$$\n",
        "\n",
        "として、\n",
        "\n",
        "$$\n",
        "{\\bf g}({\\bf x}) =\n",
        "\\begin{bmatrix}\n",
        "    3x_1 + 1 \\\\\n",
        "    2x_2 + 4 \\\\\n",
        "    x_1 x_2 \\\\\n",
        "    5\n",
        "\\end{bmatrix},\n",
        "{\\bf f}({\\bf u}) =\n",
        "\\begin{bmatrix}\n",
        "    2 u_1 + 1 \\\\\n",
        "    u_2^2 + u_3^2 \\\\\n",
        "    u_3 u_4\n",
        "\\end{bmatrix}\n",
        "$$\n",
        "\n",
        "とする。\n",
        "つまり、${\\bf g}$ は 2 入力 4 出力、${\\bf f}$ は 4 入力 3 出力である。\n",
        "\n",
        "これらについて $\\frac{\\partial {\\bf f}({\\bf g}({\\bf x}))}{\\partial {\\bf x}}$ を計算する。\n",
        "偏微分を定義どおり計算すると\n",
        "\n",
        "$$\n",
        "\\begin{align*}\n",
        "\\frac{\\partial {\\bf g}}{\\partial {\\bf x}} ({\\bf x})&=\n",
        "\\begin{bmatrix}\n",
        "    \\frac{\\partial g_1}{\\partial x_1} & \\frac{\\partial g_1}{\\partial x_2} \\\\\n",
        "    \\frac{\\partial g_2}{\\partial x_1} & \\frac{\\partial g_2}{\\partial x_2} \\\\\n",
        "    \\frac{\\partial g_3}{\\partial x_1} & \\frac{\\partial g_3}{\\partial x_2} \\\\\n",
        "    \\frac{\\partial g_4}{\\partial x_1} & \\frac{\\partial g_4}{\\partial x_2} \n",
        "\\end{bmatrix} =\n",
        "\\begin{bmatrix}\n",
        "    3 & 0 \\\\\n",
        "    0 & 2 \\\\\n",
        "    x_2 & x_1 \\\\\n",
        "    0 & 0\n",
        "\\end{bmatrix}\\\\\n",
        "\\frac{\\partial {\\bf f}}{\\partial {\\bf u}} ({\\bf u})&=\n",
        "\\begin{bmatrix}\n",
        "    \\frac{\\partial f_1}{\\partial u_1} & \\frac{\\partial f_1}{\\partial u_2} & \\frac{\\partial f_1}{\\partial u_3} & \\frac{\\partial f_1}{\\partial u_4}\\\\\n",
        "    \\frac{\\partial f_2}{\\partial u_1} & \\frac{\\partial f_2}{\\partial u_2} & \\frac{\\partial f_2}{\\partial u_3} & \\frac{\\partial f_2}{\\partial u_4}\\\\\n",
        "    \\frac{\\partial f_3}{\\partial u_1} & \\frac{\\partial f_3}{\\partial u_2} & \\frac{\\partial f_3}{\\partial u_3} & \\frac{\\partial f_3}{\\partial u_4}\\\\\n",
        "\\end{bmatrix} =\n",
        "\\begin{bmatrix}\n",
        "    2 & 0 & 0 & 0\\\\\n",
        "    0 & 2u_2 & 2u_3 & 0 \\\\\n",
        "    0 & 0 & u_4 & u_3 \n",
        "\\end{bmatrix}\n",
        "\\end{align*}\n",
        "$$\n",
        "\n",
        "となる（行列中の $\\frac{\\partial g_1}{\\partial x_1}$ などは本来は $\\frac{\\partial g_1}{\\partial x_1}({\\bf x})$ などと書くべきであるが、式が煩雑になるため省略しました）。\n",
        "よって、合成関数の微分の公式より、 \n",
        "\n",
        "$$\n",
        "\\begin{align*}\n",
        "\\frac{\\partial {\\bf f}({\\bf g}({\\bf x}))}{\\partial {\\bf x}}\n",
        "&=\n",
        "\\begin{bmatrix}\n",
        "    2 & 0 & 0 & 0\\\\\n",
        "    0 & 2u_2 & 2u_3 & 0 \\\\\n",
        "    0 & 0 & u_4 & u_3 \n",
        "\\end{bmatrix}\n",
        "\\begin{bmatrix}\n",
        "    3 & 0 \\\\\n",
        "    0 & 2 \\\\\n",
        "    x_2 & x_1 \\\\\n",
        "    0 & 0\n",
        "\\end{bmatrix} \\\\ \n",
        "&=\n",
        "\\begin{bmatrix}\n",
        "    6 & 0 \\\\\n",
        "    2u_3x_2 & 4u_2 + 2u_3x_1 \\\\\n",
        "    u_4x_2 & u_4x_1 \n",
        "\\end{bmatrix} \\\\\n",
        "&=\n",
        "\\begin{bmatrix}\n",
        "    6 & 0 \\\\\n",
        "    2x_1x_2^2 & 2x_1^2x_2 + 8x_2 + 16 \\\\\n",
        "    5x_2 & 5x_1\n",
        "\\end{bmatrix}\n",
        "\\end{align*}\n",
        "$$\n",
        "\n",
        "となる。公式を適用する際に ${\\bf u} = {\\bf g}(\\bf x)$ 、すなわち\n",
        "\n",
        "$$\n",
        "\\begin{bmatrix}\n",
        "    u_1 \\\\\n",
        "    u_2 \\\\\n",
        "    u_3 \\\\\n",
        "    u_4\n",
        "\\end{bmatrix} = \n",
        "\\begin{bmatrix}\n",
        "    3x_1 + 1 \\\\\n",
        "    2x_2 + 4 \\\\\n",
        "    x_1 x_2 \\\\\n",
        "    5\n",
        "\\end{bmatrix}\n",
        "$$\n",
        "\n",
        "を用いました。\n",
        "\n",
        "\n",
        "### 計算例2\n",
        "\n",
        "もう1つの例として、合成した関数の入出力が 1 変数となる場合、つまり、$M = 1, L = 1$ の場合を考えてみる。\n",
        "式を簡単にするために、 $N = 2$ とする。\n",
        "1 変数であることを強調して、 ${\\bf u} = {\\bf g}(x)$, $y = f({\\bf u})$ とスカラーとなる変数には小文字を用いることにする。\n",
        "$f$ と ${\\bf g}$ を合成した関数を $h(x) = f({\\bf g}(x))$ とする。 \n",
        "$h$ は 入出力が共に 1 変数なので、その微分を簡便に $h'(x)$ と書くことにすると、合成関数の微分の公式は\n",
        "\n",
        "$$\n",
        "\\begin{align*}\n",
        "h'(x) &= \n",
        "\\frac{\\partial f}{\\partial {\\bf u}} ({\\bf u}) \\frac{d {\\bf g}}{d x} (x)\\\\\n",
        "&= \\begin{bmatrix}\n",
        "    \\frac{\\partial f}{\\partial u_1} ({\\bf u}) & \\frac{\\partial f}{\\partial u_2} ({\\bf u})\n",
        "\\end{bmatrix} \n",
        "\\begin{bmatrix}\n",
        "    \\frac{d g_1}{d x} (x) \\\\\n",
        "    \\frac{d g_2}{d x} (x)\n",
        "\\end{bmatrix} \\\\\n",
        "&= \n",
        "\\frac{\\partial f}{\\partial u_1} ({\\bf u})\\frac{d g_1}{d x}(x) + \n",
        "\\frac{\\partial f}{\\partial u_2} ({\\bf u})\\frac{d g_2}{d x}(x)\n",
        "\\end{align*}\n",
        "$$\n",
        "\n",
        "と書き下すことができる（微分する変数が 1 つしかない場合は偏微分記号 $\\partial$ ではなく 1 変数微分 $d$ を用いて書きました）。"
      ]
    },
    {
      "cell_type": "markdown",
      "metadata": {
        "id": "e36gHyt2SFvv"
      },
      "source": [
        "本資料で紹介した合成関数の微分の公式の他にも行列やベクトルの計算で用いられる公式はたくさんある。\n",
        "それらの公式は [The Matrix Cookbook](https://www.math.uwaterloo.ca/~hwolkowi/matrixcookbook.pdf) などにまとまっているので、論文等を読む際などにも必要に応じてこれらを参照するとよいでしょう。\n",
        "また、ヤコビ行列の計算方法は [The Matrix Calculus You Need For Deep Learning](https://arxiv.org/abs/1802.01528)などにまとまっている。"
      ]
    },
    {
      "cell_type": "markdown",
      "metadata": {
        "id": "vxdfnMWay-K4"
      },
      "source": [
        "<hr />\n",
        "\n",
        "<div class=\"alert alert-info\">\n",
        "**注釈 1**\n",
        "\n",
        "$N \\times M$ 行列、などと言われたときに、$N$ と $M$ のどちらが行で、どちらが列だろう？と迷ったときは、「行列」と言う言葉を再度思い浮かべて、「行→列」つまり先にくる $N$ が行数で、$M$ が列数だ、と思い出すのがおすすめである。\n",
        "\n",
        "[▲上へ戻る](#ref_note1)\n",
        "</div>\n",
        "\n",
        "<div class=\"alert alert-info\">\n",
        "**注釈 2**\n",
        "\n",
        "文献によっては単位行列ではなく、すべての成分が1の行列のことをunit matrixと呼ぶこともある。\n",
        "\n",
        "[▲上へ戻る](#ref_note2)\n",
        "</div>"
      ]
    },
    {
      "cell_type": "markdown",
      "metadata": {
        "id": "512GDxKQSxOJ"
      },
      "source": [
        ""
      ]
    },
    {
      "cell_type": "markdown",
      "metadata": {
        "id": "m1Ky8C_M7q8N"
      },
      "source": [
        "# 確率・統計の基礎"
      ]
    },
    {
      "cell_type": "markdown",
      "metadata": {
        "id": "6ePOq9mw7q8O"
      },
      "source": [
        "本節では機械学習で用いる確率論、統計学の概念や用語を解説する。\n",
        "\n",
        "世の中には「ランダム」に起こる出来事、もしくは背景のメカニズムがわからないため「ランダム」として扱わざるを得ない出来事が存在する。そのようなランダムな出来事を理論的に扱うには、出来事そのものや、ある出来事と別の出来事の関連を数学的に記述できなければなりません。確率論ではランダムな出来事のことを**事象 (event)**と呼ぶ（厳密な定義は本資料では省略する）。\n",
        "\n",
        "本節では、まず事象を記述する道具として確率分布を導入し、それに関連する概念（周辺確率、条件付き確率、確率変数の独立）を解説する。さらにこれらの概念を用いてベイズの定理を説明する。ベイズの定理により、ある出来事が観測された時に、その原因となる出来事が起こった確率の計算ができるようになる。\n",
        "次に、確率分布の中から観測データに適合した最適な確率分布を選択する方法である、最尤推定と事後分布最大化推定（MAP 推定）を紹介する。\n",
        "機械学習の文脈では、これらは訓練モデルの「最適な」パラメータを決定することに対応する。\n",
        "最後に、機械学習で頻繁に利用される統計学の用語（平均、分散、標準偏差、相関係数など）を解説する。\n",
        "\n",
        "\n",
        "## 確率・統計と機械学習の関係\n",
        "\n",
        "機械学習システムが学習に用いるのは限られた数の観測データであるが、多くの機械学習タスクでやりたいことは、与えられた観測データの背後にある普遍性や法則を捉え、将来の出来事に対し予測を行えることである。機械学習ではそれを達成するために統計学の考え方を利用する。\n",
        "\n",
        "統計学では、ある集団すべてについて調査ができない時、集団からランダムサンプリングを行い元の集団の性質を推定する。手元にある観測データが、何らかの法則に従って得られる確率的なサンプルであると考えることで、機械学習と統計学がつながる。\n",
        "統計学を利用することで、あるデータが未知のデータ源から発生しやすいか、データが外れ値かどうか、どういった方法でモデルを学習させればよいか、といった問題を客観的に判断することができるようになる。また、学習させたモデルの性能に対して理論的な保証を与えることも統計学により可能となる。\n",
        "このような、機械学習の統計学としての側面を強調する場合、機械学習を特に「統計的機械学習」と呼ぶ。"
      ]
    },
    {
      "cell_type": "markdown",
      "metadata": {
        "id": "Op9IZ6pz7q8P"
      },
      "source": [
        "## 確率変数と確率分布\n",
        "\n",
        "現代数学で広く利用されている「確率」の概念を定式化するには様々な準備が必要になるため、この資料では「確率」と言う言葉を数学的に厳密には定義しません。代わりに次のように考えます。ある対象としている現象の中で、様々な事象があり得るとき、それぞれの事象ごとに、それが「どの程度起きそうか」と言う度合いを考えます。確率とはその度合いのこととする。そして、その確率に従って、色々な値をとりうる**確率変数（random variable）**を考えます。確率変数は、名前に「変数」とついているが、**「事象」を「数値」に変換する関数**と考えると理解しやすくなる。例えば、「コインを投げて表が出る」と言う「事象」を、「1」と言う「数値」に変換し、「コインを投げて裏が出る」と言う「事象」を、「0」と言う「数値」に変換する関数を考えると、これは「1」か「0」と言う値のどちらかをとりうる確率変数だ（[注釈1](#note1)）と言うことになる。\n",
        "\n",
        "それでは、確率的現象の具体例を考えてみる。ある歪んだサイコロがあり、「サイコロを投げて $x$ と言う目が出た」と言う事象（[注釈2](#note2)）を、$x$ と言う数値に対応させる確率変数 $X$ があるとする。そして、この確率変数がとりうる全ての値が、それぞれどのような確率で出現するかを表した以下のような表がある。\n",
        "\n",
        "| 確率変数 $X$ の値 | その値をとる確率 |\n",
        "|:-----------------:|:----------------:|\n",
        "| 1                 | $0.3$            |\n",
        "| 2                 | $0.1$            |\n",
        "| 3                 | $0.1$            |\n",
        "| 4                 | $0.2$            |\n",
        "| 5                 | $0.1$            |\n",
        "| 6                 | $0.2$            |\n",
        "\n",
        "このような表を**確率分布 (probability distribution)** と呼ぶ。確率分布には重要な制約があり、「確率変数がとりうるあらゆる値の確率をすべて足すと和が必ず $1$ になること」及び「全ての確率は $0$ 以上の値であること」の両者を常に満たす。上の表の左の列に並ぶ数値を**実現値**と呼び、小文字の $x$ で表す。そして、右の列に並ぶそれぞれの $x$ に対応する確率を $p(x)$ と書くことにする。すなわち上の表から $p(1) = 0.3$ , $p(2) = 0.1$ , $\\ldots$ である。この表記を用いると、確率分布が持つ2つの制約は、以下のように表せます。\n",
        "\n",
        "$$\n",
        "\\begin{align}\n",
        "\\sum_x p(x) &= 1 \\\\\n",
        "\\forall x, \\ p(x) & \\geq  0\n",
        "\\end{align}\n",
        "$$\n",
        "\n",
        "ここで、 $\\sum_x$ は全てのありうる $x$ の値にわたる和を表し、例えば上のサイコロの例では、 $\\sum_{x=1}^6$ と同じことを意味する。 $\\forall x$ は、あり得る $x$ の値すべてにおいて、右の条件（ $p(x) \\geq 0$ ）が成り立つ、と言うことを意味している。\n",
        "\n",
        "$p(1) = 0.3$ と言うのは、確率変数 $X$ が $1$ と言う値をとる確率と言うことであるが、これを $p(X = 1) = 0.3$ とも書く。前述の $p(x)$ は、確率変数 $X$ の存在を暗に仮定し、 $p(X = x)$ を簡単に表記したもの、すなわち $X$ と言う確率変数がある値 $x$ をとる確率と考えることができる。一方、 $p(X)$ と確率変数だけを引数にとる場合、これは上の表のような確率分布を意味する。"
      ]
    },
    {
      "cell_type": "markdown",
      "metadata": {
        "id": "BLiWD0sm7q8R"
      },
      "source": [
        "## 同時分布・周辺確率\n",
        "\n",
        "前節では、1 つの確率変数について、その分布（確率分布のこと）とは何かと、分布が持つ制約について説明しました。この節では、複数の確率変数が登場する場合について考えます。\n",
        "\n",
        "まず具体例を用いて考えてみる。ここに 2 つのサイコロがあり、それぞれのサイコロの出目を 2 つの確率変数 $X, Y$ で表す。この 2 つのサイコロを同時に振って、1 つ目のサイコロが $x$ と言う値をとり、2 つ目のサイコロが $y$ と言う値をとったと言う事象の確率は、以下のように書き表す。\n",
        "\n",
        "$$\n",
        "p(X = x, Y = y)\n",
        "$$\n",
        "\n",
        " $x, y$ はいずれも $1, 2, 3, 4, 5, 6$ の6つの数字のどれかである。例えば、「3」と「5」の目が出る、と言う事象が起こる確率は\n",
        "\n",
        "$$\n",
        "p(X = 3, Y = 5)\n",
        "$$\n",
        "\n",
        "と表されます。このように、 $X = 3$ となる**かつ** $Y = 5$ となる、といった複数の条件を指定したときに、それらが全て同時に成り立つ確率のことを、**同時確率（joint probability）**と呼ぶ。\n",
        "\n",
        "では次に、この 2 つのサイコロを別々に見てみる。例えば、「1 つ目のサイコロが $3$ の目を出した」と言う事象が起こる確率 $p(X = 3)$ は、1つ目のサイコロが $3$ **かつ** 2 つ目のサイコロが $1$ のとき／ $2$ のとき／ $3$ のとき／…／ $6$ のとき、の6つのパターンが発生する確率を全て足したものになる。つまり、\n",
        "\n",
        "$$\n",
        "p(X = 3) = \\sum_y p(X = 3, Y = y)\n",
        "$$\n",
        "\n",
        "と書けます。このとき、 $\\sum_y$ は「 $Y$ のとり得るあらゆる値 $y$ についての和」と言う意味である。これを、「（2 つ目のサイコロの目がなんであれ） 1 つ目のサイコロの目が $x$ である確率」と一般化すると、以下のようになる。\n",
        "\n",
        "$$\n",
        "p(X = x) = \\sum_y p(X = x, Y = y)\n",
        "$$\n",
        "\n",
        "同様に、「（1つ目のサイコロの目がなんであれ）2 つ目のサイコロの目が $y$ である確率」は、1つ目のサイコロについてあり得る値すべての確率の和を取ればよいので、\n",
        "\n",
        "$$\n",
        "p(Y = y) = \\sum_x p(X = x, Y = y)\n",
        "$$\n",
        "\n",
        "となる。このように、同時確率が与えられたとき、着目していない方の確率変数がとり得る全ての値について同時確率を計算しその和をとることを**周辺化 (marginalization)** と呼び、結果として得られる確率を**周辺確率 (marginal probability)** と呼ぶ。\n",
        "また、周辺確率をその着目している確率変数がとり得る全ての値について並べて一覧にしたものが**周辺確率分布 (marginal probability distribution)** である。\n",
        "さらに、上の例のように2つの確率変数の同時確率を考えるとき、とり得る全ての組み合わせの確率を一覧にしたものが、**同時分布 (joint distribution)** である。\n",
        "\n",
        "ここで、2 つのサイコロの同時分布の表は大きくなってしまうので、より簡単な例として、表が出る確率と裏が出る確率が異なる 2 つのコインを考えてみる。この 2 つのコインを同時に投げたときの表裏の組み合わせについての同時分布が、以下のようになったとする。\n",
        "\n",
        "\n",
        "| $\\ $   | Y = 表 | Y = 裏 |\n",
        "|:------:|:------:|:------:|\n",
        "| X = 表 | 1 / 5  | 2 / 5  |\n",
        "| X = 裏 | 1 / 5  | 1 / 5  |\n",
        "\n",
        "ここで、1 つ目のコインの表裏を表す確率変数を $X$ 、2 つ目のコインの表裏を表す確率変数を $Y$ としている。表の中身がどう言う意味を持っているか確認する。2 つのコインが両方表になる確率は $p(X = 表, Y = 表) = 1 / 5$ となっている。他のマスに書かれている同時確率の値の意味も確認する。\n",
        "\n",
        "では、この表の中の数字を、行ごとに合計してみる。1 行目は、\n",
        "\n",
        "$$\n",
        "p(X = 表, Y = 表) + p(X = 表, Y = 裏) = 1 / 5 + 2 / 5 = 3 / 5\n",
        "$$\n",
        "\n",
        "である。\n",
        "これは、 $\\sum_y p(X = 表, Y = y)$ （[注釈3](#note3)）を計算していることになるので、**周辺化によって** $p(X = 表)$ **と言う周辺確率を求めていることに相当する。**\n",
        "\n",
        "同様に、1 列目の値を合計してみると、今度は $\\sum_x p(X = x, Y = 表)$ （[注釈4](#note4)） を計算することに相当し、これは周辺化によって $P(Y = 表)$ と言う周辺確率を計算していることになる。\n",
        "\n",
        "こうして計算される周辺確率を、上の同時分布の表に書き入れてみる。\n",
        "\n",
        "| $\\ $   | Y = 表 | Y = 裏 | p(X)  |\n",
        "|:------:|:------:|:------:|:-----:|\n",
        "| X = 表 | 1 / 5  | 2 / 5  | 3 / 5 |\n",
        "| X = 裏 | 1 / 5  | 1 / 5  | 2 / 5 |\n",
        "| p(Y)   | 2 / 5  | 3 / 5  |       |\n",
        "\n",
        "このように、周辺確率はしばしば同時分布表の周辺に記述されます。"
      ]
    },
    {
      "cell_type": "markdown",
      "metadata": {
        "id": "JxM3Xjpl7q8S"
      },
      "source": [
        "## 条件付き確率\n",
        "\n",
        "前節では、複数の確率変数を同時に考える方法として、同時確率および同時分布と言う概念と、同時確率と一つ一つの確率変数のみに着目した際の確率（周辺確率）の間の関係を、周辺化と言う計算で説明しました。\n",
        "本節では、「とある条件下での着目事象の確率」を考える**条件付き確率 (conditional probability)** と言う概念を説明する。\n",
        "これまでの節で扱っていた確率では、まず対象とする現象について、考えうる全ての事象を考え、そのうち対象とする事象が起きる確率はいくらか、を考えていました。\n",
        "一方、条件付き確率は、それらの考えうる事象のうち、特定の条件を満たした事象のみをまず抜き出し、その中で、さらに着目する特定の事象が起きる確率を考えるためのものである。\n",
        "\n",
        "例えば、あるお店にやってきた人（以下、客）が傘を持っているときに $1$ 、持っていなかったときに $0$ をとる確率変数 $X$ を考えます。\n",
        "また、ある客がやってきたときに外で雨が降っていたときに $1$ 、降っていなかったときに $0$ をとる確率変数 $Y$ を考えます。\n",
        "客が傘を持っていたかと、その瞬間に雨が降っていたかどうか、と言う 2 つの情報が組となったデータが 16 個あるとする。\n",
        "16 人の客を観測してデータを集めた、と言うことである。\n",
        "それは以下の様なものでした。\n",
        "\n",
        "| 傘 ( $X$ ) | 雨 ( $Y$ ) |\n",
        "|:--------:|:-------:|\n",
        "| 1 | 1 |\n",
        "| 1 | 1 |\n",
        "| 1 | 1 |\n",
        "| 1 | 1 |\n",
        "| 1 | 1 |\n",
        "| 1 | 1 |\n",
        "| 0 | 1 |\n",
        "| 0 | 1 |\n",
        "| 0 | 1 |\n",
        "| 1 | 0 |\n",
        "| 0 | 0 |\n",
        "| 0 | 0 |\n",
        "| 0 | 0 |\n",
        "| 0 | 0 |\n",
        "| 0 | 0 |\n",
        "| 0 | 0 |\n",
        "\n",
        "これらのデータから、確率変数 $X, Y$ の同時分布表を作成すると、以下のようになる。この表の作り方は、例えば表の左上のマスは $X = 0$ かつ $Y = 0$ となっているデータが　16 個中何個あるかを数えて、その割合を記入すればよく、他のマスについても同様となる。\n",
        "\n",
        "| $\\ $  | Y = 0  | Y = 1  |\n",
        "|:-----:|:------:|:------:|\n",
        "| X = 0 | 6 / 16 | 3 / 16 |\n",
        "| X = 1 | 1 / 16 | 6 / 16 |\n",
        "\n",
        "では、「客が傘を持っていた（ $X = 1$ ）」と言う**条件の下で**、「そのとき雨が降っていなかった（ $Y = 0$ ）」と言う確率は、どのようになるでしょうか？\n",
        "\n",
        "まず、「客が傘を持っていた（ $X = 1$ ）」と言う状況下のデータだけを、上の同時分布表から抜き出しておく。\n",
        "\n",
        "| 傘 ($X$) | 雨 ($Y$) |\n",
        "|:--------:|:-------:|\n",
        "| 1 | 1 |\n",
        "| 1 | 1 |\n",
        "| 1 | 1 |\n",
        "| 1 | 1 |\n",
        "| 1 | 1 |\n",
        "| 1 | 1 |\n",
        "| 1 | 0 |\n",
        "\n",
        "全部で 7 個のデータがあり、この中で「雨が降っていなかった（ $Y = 0$ ）」となっているデータは 1 個である。すなわち、「客が傘を持っていたと言う**条件の下で**、そのとき雨が降っていなかった確率」は $1 / 7$ となる。これを、以下のように書く。\n",
        "\n",
        "$$\n",
        "p(Y = 0 | X = 1) = \\frac{1}{7}\n",
        "$$\n",
        "\n",
        "これが**条件付き確率**と呼ばれるもので、条件となる事象を縦棒 $|$ の後に書き、その条件下で注目している事象を縦棒 $|$ の前に書く。同様に、「客が傘を持っていたと言う**条件の下で**、そのとき雨が降っていた確率」は、上の表から $6 / 7$ なので、以下が成り立ちます。\n",
        "\n",
        "$$\n",
        "p(Y = 1 | X = 1) = \\frac{6}{7}\n",
        "$$\n",
        "\n",
        "これらの 2 つの確率が、それぞれ $p(Y = 0, X = 1) = 1 / 16$ , $p(Y = 1, X = 1) = 6 / 16$ と言う同時確率とは異なっていることを、上の同時分布表と見比べて確認してみる。\n",
        "「客が傘を持っていて**かつ**外で雨が降っている」と言う同時確率は $6 / 16$ となっているが、「客が傘を持っていると言う**条件の下で**外で雨が降っている」と言う条件付き確率は $6 / 7$ でした。\n",
        "前者は「客が傘を持っておらず外で雨が降っていた」「客が傘を持っておらず外で雨が降っていなかった」「客が傘を持っていたが外で雨が降っていなかった」を含むあり得る全ての事象を考えた上で、その中で対象としている事象「客が傘を持っていて外で雨が降っている」が起こる確率を意味している。一方で、後者の条件付き確率は、今条件となっている事象「客が傘を持っている」が成り立っている事象だけをまず対象とし、その中で着目している事象「外で雨が降っている」が起こる確率を考えます。それぞれの確率の値を計算する際の分母が異なっていることに注目する。\n",
        "\n",
        "また、上記の 2 つの条件付き確率を足すと、 $1$ になる。「ある条件下で」と言う制約された世界で、対象とする確率変数がとり得る値全ての確率を並べて一覧したものは**条件付き分布（conditional distribution）**と呼ばれ、それらの確率を全て足すと必ず $1$ になる。上の例では、以下の計算で確かめられます。\n",
        "\n",
        "$$\n",
        "p(Y = 0 | X = 1) + p(Y = 1 | X = 1) = \\frac{1}{7} + \\frac{6}{7} = 1\n",
        "$$\n",
        "\n",
        "ここで、確率変数 $X$ がとりうる実際の値のうちいずれかを表す文字として $x$ を、確率変数 $Y$ がとりうる実際の値のうちいずれかを表す文字として $y$ を用いると、一般的に、条件付き確率は以下のように定義されます。\n",
        "\n",
        "$$\n",
        "p(Y = y | X = x)\n",
        "= \\frac{p(X = x, Y = y)}{p(X = x)}\n",
        "$$\n",
        "\n",
        "このとき、条件付き分布が満たす条件は以下のように表せます。\n",
        "\n",
        "$$\n",
        "\\sum_y p(Y = y | X = x) = 1\n",
        "$$\n",
        "\n",
        "ここで、 $\\sum_x P(Y = y | X = x)$ は必ずしも1にならないと言うことに注意する。\n",
        "\n",
        "では、上の条件付き確率の定義を用いて、同時確率と周辺確率から条件付き確率を、再度計算してみる。\n",
        "\n",
        "$$\n",
        "\\begin{align}\n",
        "p(Y = 0 | X = 1)\n",
        "&= \\frac{p(X = 1, Y = 0)}{p(X = 1)} \\\\\n",
        "&= \\frac{\\frac{1}{16}}{\\frac{7}{16}} \\\\\n",
        "&= \\frac{1}{7}\n",
        "\\end{align}\n",
        "$$\n",
        "\n",
        "確かに、上で別の方法で求めた条件付き確率と一致しました。\n",
        "\n",
        "さて、上で触れた、同時確率と条件付き確率の関係について再度考えてみる。前述の「条件付き確率の定義」の式を変形すると、以下のようになる。以降では、簡単のために、確率変数の記述を省き、 $p(X = x)$ を $p(x)$ と表記する。確率変数 $X$ によって $x$ と言う値に対応付けられている事象が生じる確率、と言う意味である。同様に、 $p(Y = y)$ を $p(y)$ と表記する。\n",
        "\n",
        "$$\n",
        "p(x, y) = p(y | x) p(x)\n",
        "$$\n",
        "\n",
        "同時確率は、条件付き確率に、その条件となっている事象が生じる確率（周辺確率）を掛け合わせることで得られることが分かる。\n",
        "\n",
        "今回の例では、「雨が降っているかどうか」によって「客が傘を持っていたかどうか」は影響を受けるため、2つの確率変数 $Y, X$ は**従属 (dependent)**、と言う。一方、例えば「客が来たとき雨が降っていたかどうか」と「私が今お腹が空いているかどうか」が全く関係していないとする。後者について、お腹が空いていると言う事象を $1$ に、お腹が空いていないと言う事象を $0$ に対応付ける確率変数 $Z$ を導入すると、$Y$ と $Z$ が今**独立 (independent)**であると言う状況である。このとき、$Z$ の実現値を $z$ として、条件付き確率 $p(y | z)$ は、$Y$ がどうなるかが $Z$ がどうなるかに全く関係がないことから、 $p(y)$ と等しくなる。条件付けたとしても、条件付けなかったとしても、結果が変わらないためである。これを用いると、 $y$ と $z$ の同時確率は以下のように変形できる。\n",
        "\n",
        "$$\n",
        "\\begin{align}\n",
        "p(y, z) &= p(y | z) p(z) \\\\\n",
        "p(y, z) &= p(y) p(z)\n",
        "\\end{align}\n",
        "$$\n",
        "\n",
        " $Y$ と $Z$ が独立であることから、 $p(y | z) = p(y)$ となることを用いました。この式から、**2つの確率変数が独立であるとき、同時確率はそれぞれの周辺確率の積で書ける**と言うことが言えます。"
      ]
    },
    {
      "cell_type": "markdown",
      "metadata": {
        "id": "Uv8wbpBs7q8T"
      },
      "source": [
        "## ベイズの定理\n",
        "\n",
        "前節で説明した条件付き確率は、ある前提が成り立っている状況下で着目する事象が生じる確率を記述するためのものでした。これは、「ある\"原因\"が生じたと言う条件の下で、ある\"結果\"が生じる確率」を考えていると捉えることができる。では、逆に**「ある\"結果\"が観測されたと言うとき、ある事象が\"原因\"である確率」**を考えるにはどうしたらよいでしょうか。今、原因となり得る事象が確率変数 $X$ で表され、結果となり得る事象が確率変数 $Y$ で表されるとする。このとき、原因として実際に $x$ が観測されたもとで結果が $y$ となる確率が条件付き確率\n",
        "\n",
        "$$\n",
        "p(Y = y | X = x)\n",
        "$$\n",
        "\n",
        "で表されました。前節の定義から、これに原因 $x$ がそもそも発生する確率 $p(X = x)$ を掛け合わせると、同時確率 $p(Y = y, X = x)$ になる。すなわち、\n",
        "\n",
        "$$\n",
        "p(Y = y | X = x) p(X = x) = p(Y = y, X = x) \\hspace{2em} \\cdots (1)\n",
        "$$\n",
        "\n",
        "である。では、結果が $y$ であったと言う観測の下で、原因が $x$ である確率はどのように表されるでしょうか。これは上の「条件の事象」と「着目する事象」を入れ替えた条件付き確率として、\n",
        "\n",
        "$$\n",
        "p(X = x | Y = y)\n",
        "$$\n",
        "\n",
        "と書くことができる。 $y$ と言う結果が観測されたもとで、原因が $x$ であった確率と言う意味である。これに結果 $y$ がそもそも発生する確率 $p(Y = y)$ をかけ合わせると、条件付き確率の定義から\n",
        "\n",
        "$$\n",
        "p(X = x| Y = y) p(Y = y) = p(X = x, Y = y) \\hspace{2em} \\cdots (2)\n",
        "$$\n",
        "\n",
        "が導かれます。ここで、式(1)と式(2)の右辺が同じになっていることに着目する。すると、式(1)と式(2)の左辺同士を等号で結ぶことができ、\n",
        "\n",
        "$$\n",
        "p(Y = y | X = x) p(X = x) = p(X = x | Y = y) p(Y = y)\n",
        "$$\n",
        "\n",
        "が成り立つことが分かる。この式を変形して、求めたい「結果 $y$ が生じたと言う**条件の下で**原因が $x$ である確率」を左辺に残すと、\n",
        "\n",
        "$$\n",
        "p(X = x | Y = y) = \\frac{p(Y = y | X = x) p(X = x)}{p(Y = y)}\n",
        "$$\n",
        "\n",
        "が導かれます。これを**ベイズの定理（Bayes' theorem）**と言う。これによって、ある結果が観測されたときに、ある事象が原因である確率を、\n",
        "\n",
        "- 原因として考えている事象が（結果と関係なく）そもそも生じる確率（ $p(X = x)$ ）\n",
        "- 結果として観測した事象が（原因に関係なく）そもそも生じる確率（ $p(Y = y)$ ）\n",
        "- 考えている原因が実際に生じたと言う下で観測された結果が生じる確率（ $p(Y = y | X = x)$ ）\n",
        "\n",
        "の3つから、求めることができる。ベイズの定理に登場する左辺の条件付き確率と右辺の分子にある周辺確率には、特別な呼び方がある。まず右辺の分子にある周辺確率（上式では $p(X = x)$ ）は、「結果」が観測する前（事前）に、原因 $x$ がそもそも生じる確率を表すので、**事前確率（prior probability)**と呼ばれます。一方、左辺の条件付き確率（上式では $p(X = x | Y = y)$ ）は、ある「結果 $y$」が観測されたと言う条件の下で（事後に）、原因 $x$ が生じていたと言う確率を表すので、**事後確率（posterior probability）**と呼ばれます。\n",
        "\n",
        "ベイズの定理の応用事例として、スパムメールフィルターがある。まず、 $N$ 個の着目する単語 $w_i (i=1, \\dots, N)$ を決めます（\"sale\", \"buy\", \"free\", ...など）。そして、メールにある単語 $w_i$ が含まれるとき $1$ となり、含まれないとき $0$ となる確率変数を $W_i$ とし、「メールにある単語 $w_i$ が含まれる確率」を $p(W_i = 1)$ とする。 次に、メールがスパムメールであるとき $1$ となり、スパムメールでないとき $0$ となる確率変数を $Y$ とし、「スパムメールの存在確率」を $p(Y = 1)$ とする。このとき、「あるメールがスパムメールであったと言う**状況の下で**単語 $w_i$ が含まれていた」と言う確率は $p(W_i = 1 | Y = 1)$ となる。すると、例えば $w_i$ と $w_j$ が両方含まれていた場合は、同時確率 $p(W_i = 1, W_j = 1 | Y = 1)$ を考えることになるが、各単語が独立に現れると仮定すると、これは $p(W_i = 1 | Y = 1) p(W_j = 1 | Y = 1)$ と分解できる。ここで、世の中にある大量のメールを集めて、各単語がどのくらいの確率で現れるかを調べると、 $p(W_i = 1) \\ (i=1,\\dots,N)$ が求まる。また、集めたメールからスパムメールだけを抜き出す。すると、メールがスパムメールである確率 $p(Y = 1)$ が求まる。さらに、それらのスパムメール中に含まれる単語を調べ、どの単語がどう言う確率で出現しているかを、着目している全単語について求めると、 $p(W_i = 1 | Y = 1) \\ (i=1, \\dots, N)$ が全て求まる。これらを用いると、「あるメールに単語 $w_i, w_j, w_k, \\dots$ らが含まれているとき、そのメールがスパムメールである確率」を以下のように計算できる。\n",
        "\n",
        "$$\n",
        "p(Y = 1 | W_i = 1, W_j = 1, W_k = 1, \\dots ) = \\frac{p(W_i = 1, W_j = 1, W_k = 1, \\dots | Y = 1) p(Y = 1)}{p(W_i = 1, W_j = 1, W_k = 1, \\dots )}\n",
        "$$"
      ]
    },
    {
      "cell_type": "markdown",
      "metadata": {
        "id": "N_ri8geU7q8U"
      },
      "source": [
        "## 尤度と最尤推定\n",
        "\n",
        "これまでの節では、「**確率変数がとりうる様々な値に確率を対応させる**」確率分布は、表の形で表されていました。ここで、確率変数 $X$ が $x$ と言う値をとる確率 $p(X = x)$ を、表の代わりに、あるパラメータ $\\theta$ で特徴づけられた関数 $f(x; \\theta)$ によって表してみる。この関数は、「**確率変数** $X$ **がとりうる様々な値** $x$ **に確率を対応させる**」ので、 $X$ の確率分布を表している。このような関数は**確率モデル（probabilistic model）**とも呼ばれ、特にパラメータによって形状が決定される関数を用いる場合は**パラメトリックモデル（parametric model）**と呼ばれます。\n",
        "\n",
        "このような確率モデルのパラメータをうまく決定することで、データの分布を表現できれば、未知のデータに対してもそれがどのくらいの確率で発生するのかといった予測が可能となったり、便利である。推定方法には様々なものがあり、どうやって推定するかは推定する人の自由であるが、本節では最も一般的な方法の一つである最尤推定を説明する。最尤推定は確率論から正当化できると言う長所がある。\n",
        "\n",
        "さて、確率モデルがどのくらい実際の観測データに即しているかを**尤度（ゆうど）（likelihood）**と言い、観測されたデータをモデルに入力し、その出力をかけ合わせたもので定義されます。\n",
        "\n",
        "例えば、 $N$ 個のデータ $x_i \\ (i=1,\\dots,N)$ が独立に観測されたとき、この観測データの下での確率モデル $f(x; \\theta)$ の**尤度**は\n",
        "\n",
        "$$\n",
        "L(\\theta) = \\prod_{i=1}^N f(x_i; \\theta)\n",
        "$$\n",
        "\n",
        "と計算されます。与えられたデータから、「どのようなデータがどのくらいよく観測されるか」を表す確率分布を推定（[注釈5](#note5)）するために、予め用意した確率モデルのパラメータを、それらの観測データの下での**尤度が最大**になるように決定する方法を、**最尤（さいゆう）推定（maximum likelihood estimation）**と言う。\n",
        "\n",
        "上式の $\\prod$ と言う記号は、 $\\sum$ の掛け算版で、全ての値を掛け合わせると言う意味である。複数データに対する尤度は、 $1$ より小さな値の積となるため、結果は非常に小さな数になり、コンピュータでこの計算を行う際にはアンダーフローと言う問題が発生しやすくなる。また尤度を最大化したい場合、積の形の式の最大化は難しいことが知られている。そこで尤度の対数をとった**対数尤度（log likelihood）**を考えます。 $y = \\log(x)$ は単調増加であるため、対数をとる前後で大小関係は変わりません。そのため対数尤度を最大にするときの $\\theta$ は、元の尤度も最大にする。\n",
        "\n",
        "$$\n",
        "\\log L(\\theta) = \\sum_{i=1}^N \\log f(x_i; \\theta)\n",
        "$$\n",
        "\n",
        "よって、この対数尤度を最大化するパラメータ $\\theta$ を求めることができれば、その値が観測データ $x_i (i=1,\\dots,N)$ の分布を最もよく表現する確率モデルのパラメータとなる。\n",
        "\n",
        "### 例：コイントスのパラメータ推定\n",
        "\n",
        "ここで、具体例として、コインの表・裏が出る確率を推定する問題を考えてみる。コインを投げて「表が出る」事象を $1$ に、「裏が出る」事象を $0$ に対応付ける確率変数を $X$ とする。このとき、 $p(X)$ をシンプルな確率モデル\n",
        "\n",
        "$$\n",
        "f(x; \\theta) = \\theta^x (1 - \\theta)^{1 - x}\n",
        "$$\n",
        "\n",
        "で表現することにする（[注釈6](#note6)）。これは $x = 1$ のとき、すなわちコインが表であるとき $\\theta$ をそのまま返し、 $x = 0$ のとき、すなわちコインが裏であるとき $1 - \\theta$ を返すような関数となっている。ただし、 $0 \\leq \\theta \\leq 1$ を満たすこととする。今、コインを $10$ 回投げ、以下の観測結果が得られたとする。\n",
        "\n",
        "| $\\ $ | 1回目 | 2回目 | 3回目 | 4回目 | 5回目 | 6回目 | 7回目 | 8回目 | 9回目 | 10回目 |\n",
        "|:----:|:----:|:----:|:----:|:----:|:----:|:----:|:----:|:----:|:----:|:----:|\n",
        "| X | 1 | 0 | 1 | 1 | 1 | 0 | 0 | 1 | 0 | 0 |\n",
        "\n",
        "これらの観測データの下での確率モデルの尤度は\n",
        "\n",
        "$$\n",
        "\\begin{aligned}\n",
        "L(\\theta) &=\n",
        "\\theta \\cdot\n",
        "(1 - \\theta) \\cdot\n",
        "\\theta \\cdot\n",
        "\\theta \\cdot\n",
        "\\theta \\cdot\n",
        "(1 - \\theta) \\cdot\n",
        "(1 - \\theta) \\cdot\n",
        "\\theta \\cdot\n",
        "(1 - \\theta) \\cdot\n",
        "(1 - \\theta) \\\\\n",
        "&= \\theta^{5} \\cdot (1 - \\theta)^{5}\n",
        "\\end{aligned}\n",
        "$$\n",
        "\n",
        "である。対数尤度は、\n",
        "\n",
        "$$\n",
        "\\log L(\\theta) = 5 \\log \\theta + 5 \\log \\left( 1 - \\theta \\right)\n",
        "$$\n",
        "\n",
        "となる。これが最大となるときの $\\theta$ は、この式を $\\theta$ で微分した式を $0$ とおいて解析的に解けばよく、\n",
        "\n",
        "$$\n",
        "\\begin{align}\n",
        "\\frac{5}{\\theta} - \\frac{5}{\\left( 1 - \\theta \\right)} &= 0 \\\\\n",
        "\\therefore \\theta = \\frac{1}{2}\n",
        "\\end{align}\n",
        "$$\n",
        "\n",
        "と決定する。これが最尤推定である。"
      ]
    },
    {
      "cell_type": "markdown",
      "metadata": {
        "id": "OubCzWBb7q8U"
      },
      "source": [
        "## 事後確率最大化推定（MAP推定）\n",
        "\n",
        "前節で解説した最尤推定は、多くの場合で有用であるが、求めるパラメータに何らかの**事前知識**があっても、それを活かすことができません。そのため、サンプルサイズが小さい場合に、実際にはほとんどあり得ない結果が求まることがある。具体例を見てみる。\n",
        "\n",
        "再び、コインの表・裏が出る確率を推定する例を考えます。コインを $5$ 回投げたところ、**たまたま** ${\\bf 5}$ **回とも表が出た**とする。この場合、前節と同じ確率モデルを用いて尤度を計算し、最尤推定でモデルのパラメータを決定すると、 $0 \\leq \\theta \\leq 1$ を満たしながら、今回の観測データの下での尤度 $\\theta^5$ を最大にする $\\theta$ は $1$ となる。これは「表が出る確率が $1$ 」すなわち**「裏面が出る確率は** $0$**」**と言う推定結果が得られてしまったことを意味する。もし「裏が出る確率も $0$ よりは大きいだろう」と言う事前知識を持っておりそれを活用できれば、今回のような場合でもよりよい推定ができそうである。\n",
        "\n",
        "事前知識も考慮しながら、観測データに基づいて確率モデルのパラメータを推定する方法には、**事後確率最大化（maximum a posteriori, 以降 MAP）推定**がある。MAP 推定でも、対象のデータの確率分布を表す確率モデルのパラメータを、データを利用して決定するが、データだけでなく**パラメータも確率変数だと考える**点が最尤推定とは異なっている。パラメータを確率変数 $\\Theta$ とすると、このパラメータがどのような値をとるかを表す分布 $p(\\Theta)$ が導入できる。これを**事前分布（prior distribution）**と呼び、ここに「求めたいパラメータに対する事前知識」を反映させることができる。ここで、 $\\Theta = \\theta$ となる確率 $p(\\Theta = \\theta)$（以降は $p(\\theta)$ と略記）をデータの確率モデル $f(x; \\theta)$ とは別の確率モデル $g(\\theta; \\beta)$ で表せば、 $\\beta$ を人為的に与えるか、なんらかの方法で決定しておくことで、「どのような $\\theta$ が起こりやすいか」と言う事前知識を表現することができる。\n",
        "\n",
        "MAP 推定では、観測データ $x_i \\ (i=1,\\dots,N)$ が観測されたと言う**条件の下で**最も確率が大きくなる $\\theta$ を求めます。すなわち、 $p(\\theta | x_1, \\dots, x_N)$ を最大とする $\\theta$ を求めます。これは「 $x_i \\ (i=1,\\dots,N)$ が観測された」と言う**結果**のもとで「データの確率分布を表すモデルのパラメータが $\\theta$ であったことが**原因**である」確率を意味するので、**事後確率**である。ベイズの定理から、事後確率は\n",
        "\n",
        "$$\n",
        "p(\\theta | x_1,\\dots,x_N) = \\frac{p(x_1,\\dots,x_N | \\theta) p(\\theta)}{p(x_1,\\dots,x_N)}\n",
        "$$\n",
        "\n",
        "と書けました。右辺に着目する。分子にある $p(x_1,\\dots,x_N | \\theta)$ を、確率モデル $f(x; \\theta)$ を用いて $\\prod_{i=1}^N f(x_i; \\theta)$ と表すと、これは観測データ $x_i \\ (i=1,\\dots,N)$ の下での確率モデル $f(x; \\theta)$ の**尤度**である。また、その右の $p(\\theta)$ は、パラメータが $\\theta$ と言う値になる**事前確率**でした。これが $g(\\theta; \\beta)$ と言う確率モデルで表されるとする。\n",
        "\n",
        "今、事後確率を最大にするパラメータ $\\theta$ を求めるために、右辺を最大化する $\\theta$ を考えます。このとき、パラメータと無関係に決まる $p(x_1,\\dots,x_N)$ を無視し\n",
        "\n",
        "$$\n",
        "p(x_1,\\dots,x_N | \\theta) p(\\theta)\n",
        "$$\n",
        "\n",
        "だけに注目してこれを最大化するようにパラメータ $\\theta$ を決定すると、その $\\theta$ は求めたい左辺の事後確率を最大にする $\\theta$ に一致する。上式は、尤度と事前分布の積になっている。このことから、**事後分布は尤度と事前分布の積に比例する**と言うことが分かる。\n",
        "\n",
        "### 例：コイントスでのパラメータ推定\n",
        "\n",
        "前節の最尤推定で用いたコイントスの例を再び考えます。\n",
        "今度は MAP 推定を用いてパラメータを推定してみる。用いるデータは先程と同様の $10$ 回のコイントス結果である。\n",
        "また、確率モデル $f(x; \\theta)$ も同様に最尤推定の場合と同様のものを用いる。\n",
        "MAP 推定では確率モデル $f(x;\\theta)$ の他に、事前分布 $p(\\theta)$ を設計する必要がある。\n",
        "$p(\\theta)$ の決め方は推定を行う人がどのような事前知識（もしくは信念）を持っているかによって自由に選択することができるが、ここでは事前分布を\n",
        "\n",
        "$$\n",
        "p(\\theta) = 12\\theta (1-\\theta)^2\n",
        "$$\n",
        "\n",
        "と設定する（[注釈7](#note7)）。 グラフを書くと $p(\\theta)$ は $\\theta = 1/3$ で最大値をとることがわかる。これは「コイントスが行われる前には、実験者は $\\theta=1/3$ が最もあり得る可能性である」すなわち、「このコインは表よりも裏の方が出やすい」と信じている（事前知識を持っている）と解釈することができる。\n",
        "\n",
        "事後分布は $\\theta$ の関数として $p(x_1, \\ldots, x_N | \\theta) p(\\theta)$ に比例するのでした。\n",
        "これを具体的に計算すると\n",
        "\n",
        "$$\n",
        "p(x_1, \\ldots, x_N | \\theta) p(\\theta) = \\theta^5 (1-\\theta)^5 \\times 12 \\theta (1-\\theta)^2 = 12 \\theta^6 (1-\\theta)^7\n",
        "$$\n",
        "\n",
        "となる。これを $\\theta$ の関数として最大化する。\n",
        "最尤推定の時と同様に、この値そのものではなく、対数を取った値を最大とする $\\theta$ を求めます。\n",
        "\n",
        "$$\n",
        "\\log p(x_1, \\ldots, x_N | \\theta) p(\\theta) = 6\\log \\theta + 7 \\log (1-\\theta) + const.\n",
        "$$\n",
        "\n",
        "ここで， $const.$ は $\\theta$ に依存しない定数（具体的には $\\log 12$ ）で、値を最大にする $\\theta$ を決定するのに影響を及ぼしません。\n",
        "これを $\\theta$ で微分したものが $0$ に等しいと言う方程式を立てると、\n",
        "\n",
        "$$\n",
        "\\begin{align}\n",
        "\\frac{6}{\\theta} - \\frac{7}{1-\\theta} = 0 \\\\\n",
        "\\therefore \\theta = \\frac{6}{13}\n",
        "\\end{align}\n",
        "$$\n",
        "\n",
        "と解くことができる．これが MAP 推定で得られた推定値である。\n",
        "\n",
        "最尤推定で得られた推定値は $\\theta = 1/2$ だったので、MAP 推定は最尤推定よりも低めに $\\theta$ を推定していることがわかる。\n",
        "これは事前分布 $p(\\theta)$ により $\\theta$ は $1/2$ より小さい値が出やすいと言う事前知識を入れていたことを反映している。逆に事前分布で大きい $\\theta$ が出やすいと言う事前知識を入れれば、MAP 推定の値を最尤推定よりも大きくすることができる。\n",
        "\n",
        "この例からも分かる通り、MAP 推定は事前分布の設定により得られる推定値が変化する。\n",
        "この事は、MAP 推定の方が事前知識により柔軟なモデリングができる半面、誤った事前知識に基づいて事前分布を設計すると、推定値が実際のデータと乖離する可能性を持つことを意味する。"
      ]
    },
    {
      "cell_type": "markdown",
      "metadata": {
        "id": "b7V7PCEx7q8V"
      },
      "source": [
        "## 統計量\n",
        "\n",
        "本節では、いくつかよく用いられる統計量を説明する。統計量とは、**観測されたデータの特徴を要約する数値**のことを指す。代表的な統計量として平均、分散、標準偏差を紹介する。\n",
        "\n",
        "### 平均\n",
        "\n",
        "**平均 (mean)** は、観測された数値を合計し、その数値の個数で割ったもののことを言う。たとえば、300 円、400 円、500 円の平均は、\n",
        "\n",
        "$$\n",
        "\\frac{300 + 400 + 500}{3} = 400\n",
        "$$\n",
        "\n",
        "である。一般に、 $N$ 個のデータ $x_i \\ (i=1,\\dots,N)$ が観測されたとき、その平均は\n",
        "\n",
        "$$\n",
        "\\begin{aligned}\n",
        "\\overline{x}\n",
        "= \\frac{x_1 + x_2 + \\dots + x_N}{N}\n",
        "= \\frac{1}{N} \\sum^{N}_{n=1} x_{n}\n",
        "\\end{aligned}\n",
        "$$\n",
        "\n",
        "と定義されます。\n",
        "平均を表す記号として、 $\\bar{x}$ や $\\mu$ がよく用いられます。\n",
        "データの分布において、平均はその重心に相当する値である。\n",
        "\n",
        "### 分散\n",
        "\n",
        "次に、**分散 (variance)** を紹介する。分散はよく $\\sigma^2$ と表され、\n",
        "\n",
        "$$\n",
        "\\sigma^2 = \\frac{1}{N} \\sum_{n=1}^N \\left( x_n - \\overline{x} \\right)^2\n",
        "$$\n",
        "\n",
        "と定義されます。各データ点 $x_i \\ (i=1,\\dots,N)$ の値から、それらの平均 $\\bar{x}$ を引き二乗した値（ $(x_i - \\bar{x})^2 \\ (i=1,\\dots,N)$ ）の平均を計算している。これは、「データが自らの平均より平均的にどのくらいばらついているか」を表す。平均が同じデータでも、全てのデータが平均付近にある場合は分散は小さく、平均よりも極めて大きなデータ点や小さなデータ点が多数ある場合、分散は大きくなる。分散にはもう一種類ある。以下のようなものである。\n",
        "\n",
        "$$\n",
        "\\begin{aligned}\n",
        "s^2 = \\frac{1}{N - 1} \\sum_{n=1}^N \\left( x_n - \\overline{x} \\right)^2\n",
        "\\end{aligned}\n",
        "$$\n",
        "\n",
        "始めに登場した $\\sigma^2$ の定義では $\\frac{1}{N}$ となっていた部分が $\\frac{1}{N - 1}$ に変わっている。\n",
        "前者は**標本分散 (sample variance)** といい、後者は**不偏分散 (unbiased variance)** と言う。\n",
        "これらの式の導出は他の文献に譲るとして、ここではその使い分けについて説明する。\n",
        "\n",
        "**図表**\n",
        "\n",
        "![母集団と標本集団](https://github.com/kalz2q/mycolabnotebooks/blob/master/images/03/03_10.png?raw=1)\n",
        "\n",
        "例えば、全国の小学生の身長と体重の分散を調べたいとする。このとき、全国の小学生を一人の抜け漏れもなく調べたなら、集まったデータは**母集団 (population)** と呼ばれます。\n",
        "一方、各都道府県の小学生を100人ずつ調べた場合、そのデータは**標本集団 (sample population)** と言う。\n",
        "すなわち、母集団とは解析を行いたいデータ全ての集合を指し、標本集団とは母集団から抽出された一部のデータの集合を指す。一般に、標本集団のデータ数が少ないとき、標本分散は母集団の分散よりも小さくなることが知られている。不偏分散は、その差を補正することで、母集団の分散をより正確に推定するために用いる。不偏分散は抽出すデータの数（$N$）を増やせば、いずれ母集団の分散に一致する。また、$N$ が大きいと標本分散と不偏分散はほぼ一致するので、たくさんのデータ数をとることができる状況では、両者に大きな違いが生じないことも多々ある。\n",
        "\n",
        "分散を利用すると、データのばらつきを定量評価することができるようになる。例えば、同じ現象を複数回観測する実験を行った際、結果のばらつきが大きければ、その観測方法には問題がある可能性がある。もしくは、同じだと思っていた現象は、実は観測のたびに異なる現象であった可能性がある。このように、多数の試行の結果がある値に集まっていることが望ましいような状況において、ばらつきの度合いを定量し評価することは重要である。\n",
        "\n",
        "### 標準偏差\n",
        "\n",
        "次に**標準偏差 (standard deviation)** を紹介する。\n",
        "分散はデータの平均からの差の**二乗**の平均でした。そのため単位は元の単位を二乗したものになる。例えばデータの単位が ${\\rm kg}$ であれば、分散の単位は ${\\rm kg}^2$ になる。そこで、分散 $\\sigma^2$ の平方根 $\\sigma$ を計算することで、データと単位が等しくなり、解釈が容易になる。この $\\sigma$ を標準偏差と呼ぶ。\n",
        "\n",
        "練習問題で具体的な計算手順の確認を行う。以下の①と②のデータに対して、平均、分散、標準偏差を求める。ただし、今回は標本分散を使用することとする。\n",
        "\n",
        "**図表**\n",
        "\n",
        "![練習問題](https://github.com/kalz2q/mycolabnotebooks/blob/master/images/03/03_11.png?raw=1)\n",
        "\n",
        "①の解答は以下の通りである。\n",
        "\n",
        "$$\n",
        "\\begin{aligned}\n",
        "\\bar{x} &= \\frac{1}{5} \\left( -2 -1 + 0 + 1 + 2 \\right) = 0 \\\\\n",
        "\\sigma^{2} &= \\frac{1}{5} \\left\\{ \\left( -2 -0 \\right)^{2} + \\left( -1 -0 \\right)^{2} + (0 - 0)^{2} + (1 - 0)^{2} + (2 - 0)^{2} \\right \\} \\\\\n",
        "&= \\frac{1}{5} \\times 10 = 2 \\\\\n",
        "\\sigma &= \\sqrt{2}\n",
        "\\end{aligned}\n",
        "$$\n",
        "\n",
        "②の解答は以下の通りである。\n",
        "\n",
        "$$\n",
        "\\begin{aligned}\n",
        "\\overline{x} &= \\frac{1}{5} ( -4 -2 + 0 + 2 + 4 ) = 0 \\\\\n",
        "\\sigma^2 &= \\frac{1}{5}\n",
        "\\left\\{ (-4 -0)^2 + (-2 -0)^2 + (0 - 0)^2 + (2 - 0)^2 + (4 - 0)^2 \\right\\} \\\\\n",
        "&= \\frac{1}{5} \\times 40 = 8 \\\\\n",
        "\\sigma &= \\sqrt{8} = 2 \\sqrt{2}\n",
        "\\end{aligned}\n",
        "$$\n",
        "\n",
        "これより、②のケースの方が分散が大きく、データのばらつきが大きいことがわかる。"
      ]
    },
    {
      "cell_type": "markdown",
      "metadata": {
        "id": "2-NPhY9V708Q"
      },
      "source": [
        "### 相関係数\n",
        "\n",
        "最後に**相関係数 (correlation coefficient)** を紹介する。\n",
        "\n",
        "2 種類のデータが得られている状況では、両者の関係性の解析がしばしば重要となる。\n",
        "相関係数は両者の関連の度合いを定量的に測るのに用いる。\n",
        "\n",
        "2 種類のデータ点がスカラー値で $N$ 個ずつある状況を考えます。それぞれを $x_n, y_n  \\ (n=1,\\dots,N)$ とした場合、相関係数の中でも良く用いられるピアソンの相関係数は以下のように定義されます。\n",
        "\n",
        "$$\n",
        "r = \\frac{\\sum_{n=1}^{N} (x_{n}-\\bar{x})(y_{n}-\\bar{y}) }{\\sqrt{\\left( \\displaystyle \\sum_{n=1}^N(x_{n}-\\bar{x})^2 \\right) \\left( \\displaystyle \\sum_{n=1}^N(y_{n}-\\bar{y})^2 \\right) }}\n",
        "$$\n",
        "\n",
        "上式のように相関係数を表す記号は $r$ を用いるのが一般的である。\n",
        "相関係数 $r$ は常に $-1 \\leq r \\leq 1$ になり、相関が認められるとき、 $r$の値が正の場合は**正の相関**があるといい、逆に負の値のときは**負の相関**があると言う。\n",
        "\n",
        "2 種類のデータ間の相関が強いほど $r$ の絶対値は大きくなる。\n",
        "しかし、「$r$ がいくつ以上ならば相関があると思って問題ない」と言う閾値はタスクごとに異なり、例えば $r=0.2$ から相関ありと判断してよいかは一概には言えません。本資料では説明を省略するが、無相関検定などの手法を利用することで客観的な判断を行うことができる。"
      ]
    },
    {
      "cell_type": "markdown",
      "metadata": {
        "id": "TAaTfed8y_tm"
      },
      "source": [
        "<hr />\n",
        "\n",
        "<div class=\"alert alert-info\">\n",
        "**注釈 1**\n",
        "\n",
        "ここでは概念の説明を簡単にするため、この例のように離散的な値をとる確率変数を考え、特に明示しない限り連続値の確率変数は考えないことにする。\n",
        "\n",
        "[▲上へ戻る](#ref_note1)\n",
        "</div>\n",
        "\n",
        "<div class=\"alert alert-info\">\n",
        "**注釈 2**\n",
        "\n",
        "$x$ は $1, 2, 3, 4, 5, 6$ のいずれか。すなわち $x \\in \\{1, 2, 3, 4, 5, 6\\}$ である。\n",
        "\n",
        "[▲上へ戻る](#ref_note2)\n",
        "</div>\n",
        "\n",
        "<div class=\"alert alert-info\">\n",
        "**注釈 3**\n",
        "\n",
        "$y$ は 2 つ目のコインがとりうる状態で、この場合、「表」と「裏」と言う値のいずれか。\n",
        "\n",
        "[▲上へ戻る](#ref_note3)\n",
        "</div>\n",
        "\n",
        "<div class=\"alert alert-info\">\n",
        "**注釈 4**\n",
        "\n",
        "$x$ は 1 つ目のコインがとりうる状態で、この場合、「表」と「裏」と言う値のいずれか。\n",
        "\n",
        "[▲上へ戻る](#ref_note4)\n",
        "</div>\n",
        "\n",
        "<div class=\"alert alert-info\">\n",
        "**注釈 5**\n",
        "\n",
        "以降、このことを「データの分布を推定する」と言うことがある。また、観測されたデータのみから各データの発生確率（頻度とも捉えられる）を求めたものは**経験分布（empirical distribution）**とも呼ばれ、本節で説明しているのは正確にはこの経験分布を確率モデルで近似する方法である。\n",
        "\n",
        "[▲上へ戻る](#ref_note5)\n",
        "</div>\n",
        "\n",
        "<div class=\"alert alert-info\">\n",
        "**注釈 6**\n",
        "\n",
        "この関数には、ベルヌーイ分布と言う名前がついている。\n",
        "\n",
        "[▲上へ戻る](#ref_note6)\n",
        "</div>\n",
        "\n",
        "<div class=\"alert alert-info\">\n",
        "**注釈 7**\n",
        "\n",
        "先頭の $12$ は $p(\\theta)$ $0$ から $1$ まで積分した値が $1$ となるように決めている。これにより、$p(\\theta)$ が $0 \\leq \\theta \\leq 1$ の上の確率分布となる。\n",
        "\n",
        "[▲上へ戻る](#ref_note7)\n",
        "</div>"
      ]
    },
    {
      "cell_type": "markdown",
      "metadata": {
        "id": "kRNwoAX-TLaq"
      },
      "source": [
        ""
      ]
    },
    {
      "cell_type": "markdown",
      "metadata": {
        "id": "5h31v0sGTMFQ"
      },
      "source": [
        "# Step 1 の演習問題\n",
        "\n",
        "本章では Step 1 で扱ったテーマについて演習問題を記する。\n",
        "本章の演習問題には Step 1 で扱った知識だけで解けるものもあれば、外部の資料を調べる必要があるものもある。\n"
      ]
    },
    {
      "cell_type": "markdown",
      "metadata": {
        "id": "o0lNtLs5TDh7"
      },
      "source": [
        "## \"2. Python 入門\" の演習問題\n",
        "\n",
        "### 問2.1 (組み込み関数)\n",
        "\n",
        "Python には2章で紹介した以外にも数多くの組み込み関数が定義されている。組み込み関数を適切に使うことでコードを簡潔に記せます。`a=[4, 8, 3, 4, 1]` と言うリストに対して以下の操作を行う組み込み関数を[公式ドキュメント](https://docs.python.org/ja/3/library/functions.html)からそれぞれ探し、適用して下さい。すなわち、以下のコードセル中の `FUNC` の部分を適切な組み込み関数に置き換える。\n",
        "\n",
        "- リスト `a` の長さを求める。\n",
        "- リスト `a` に含まれる値の最大値を求める。\n",
        "- リスト `a` に含まれる値の最小値を求める。\n",
        "- リスト `a` に含まれる値の合計値を求める。\n",
        "- リスト `a` をソートして、`[1, 3, 4, 4, 8]` と言うリストを返す。"
      ]
    },
    {
      "cell_type": "code",
      "metadata": {
        "id": "zmAEPorYTDh7"
      },
      "source": [
        "# 以下の FUNC と言う部分を組み込み関数に置き換える\n",
        "\n",
        "a = [4, 8, 3, 4, 1]\n",
        "res = FUNC(a)\n",
        "print(res)"
      ],
      "execution_count": null,
      "outputs": []
    },
    {
      "cell_type": "markdown",
      "metadata": {
        "id": "UHJjBb_qTDh8"
      },
      "source": [
        "### 問2.2 (演算)\n",
        "\n",
        "以下の演算や関数をそれぞれ評価したとき、結果の値と型が何になるか予想する。実際にコードを実行して、結果が予想と合うか確かめる。型の確認には `type()` 関数を使用する。\n",
        "\n",
        "- `1.2 + 3.8`\n",
        "- `10 // 100`\n",
        "- `1 >= 0`\n",
        "- `'Hello World' == 'Hello World'`\n",
        "- `not 'Chainer' != 'Tutorial'`\n",
        "- `all([True, True, False])`  (`all` の定義は[公式ドキュメントを参照](https://docs.python.org/ja/3/library/functions.html#all))\n",
        "- `any([True, True, False])`  (`any` の定義は[公式ドキュメントを参照](https://docs.python.org/ja/3/library/functions.html#any))\n",
        "- `abs(-3)`  (`abs` の定義は[公式ドキュメントを参照](https://docs.python.org/ja/3/library/functions.html#abs))\n",
        "- `2 // 0`"
      ]
    },
    {
      "cell_type": "code",
      "metadata": {
        "id": "ohBQvbmxTDh8"
      },
      "source": [
        "# ここにコードを書く\n"
      ],
      "execution_count": null,
      "outputs": []
    },
    {
      "cell_type": "markdown",
      "metadata": {
        "id": "M8aC46X0TDh9"
      },
      "source": [
        "### 問2.3 (リストの基本操作)\n",
        "\n",
        "機械学習では大量のデータを扱うことが多いため、リストの扱いに慣れておくと便利なことが多い。\n",
        "`a=[4, 8, 3, 4, 1]` と言うリストに対して以下の操作を行うコードを書いて下さい。\n",
        "\n",
        "- リスト `a` の先頭の要素を取り除いて、`[8, 3, 4, 1]` となるようにして下さい。\n",
        "- リスト `a` の末尾の要素を取り除いて、`[4, 8, 3, 4]` となるようにして下さい。\n",
        "- リスト `a` の末尾に `100` と言う値を追加して、`[4, 8, 3, 4, 1, 100]` となるようにして下さい。"
      ]
    },
    {
      "cell_type": "code",
      "metadata": {
        "id": "reYk9RGRTDh9"
      },
      "source": [
        "# ここにコードを書く\n"
      ],
      "execution_count": null,
      "outputs": []
    },
    {
      "cell_type": "markdown",
      "metadata": {
        "id": "MQNhGj_CTDh9"
      },
      "source": [
        "### 問2.4 (リスト内包表記)\n",
        "\n",
        "**リスト内包表記**はリストを生成するための簡潔な手段である。例えば、平方数のリスト `[0, 1, 4, 9, 16, ...]` を構成したいとき、\n",
        "```python\n",
        "squares = []\n",
        "for x in range(10):\n",
        "    squares.append(x ** 2)\n",
        "```\n",
        "と書く代わりに、\n",
        "```python\n",
        "squares = [x ** 2 for x in range(10)]\n",
        "```\n",
        "と書くことができる。リスト内包表記は一般に `[(式) for (変数) in (iterableオブジェクト)]` と言う構文を取る。リスト内包表記の一般的な説明は[公式ドキュメント](https://docs.python.org/ja/3/tutorial/datastructures.html#list-comprehensions)を参照して下さい。リスト内包表記で `in` の後に続く iterable オブジェクトは `range` である必要はなく、例えばリストを指定できる。\n",
        "\n",
        "```python\n",
        "a = [4, 8, 3, 4, 1]\n",
        "squares = [x ** 2 for x in a]\n",
        "print(squares)  # => [16, 64, 9, 16, 1]\n",
        "```\n",
        "\n",
        "以下の問いに答えて下さい。\n",
        "\n",
        "(1) `a=[4, 8, 3, 4, 1]` と言うリストに対し、要素が偶数なら `0`, 奇数なら `1` に変換するコードをリスト内包表記を用いて書いて下さい。この結果、このリストは `[0, 0, 1, 0, 1]` に変換されるべきである。\n",
        "\n",
        "(2) (1) で書いたコードと組み込み関数を組み合わせて、リスト `a` に含まれる奇数の個数を数えるコードを書いて下さい。\n",
        "\n",
        "(3) リスト内包表記では、`if` 文を用いることで条件を満たす要素だけをリストに残すことができる。例えば\n",
        "```python\n",
        "b = [x for x in range(10) if x > 5]\n",
        "```\n",
        "と記すと、`b` は要素が `5` より大きいもののみが残り `[6, 7, 8, 9]` となる。\n",
        "\n",
        "リスト内包表記を使ってリスト `a` から奇数の要素だけを残すコードを書いて下さい。"
      ]
    },
    {
      "cell_type": "code",
      "metadata": {
        "id": "AKeKTfnnTDh-"
      },
      "source": [
        "# ここにコードを書く\n"
      ],
      "execution_count": null,
      "outputs": []
    },
    {
      "cell_type": "markdown",
      "metadata": {
        "id": "OUDcRkPATDh-"
      },
      "source": [
        "### 問2.5 (文字列)\n",
        "\n",
        "Python では文字列型に対して便利な組み込み関数が多数定義されている([公式のドキュメント](https://docs.python.org/ja/3/library/stdtypes.html#text-sequence-type-str))。組み込み関数を使って以下の処理を行って下さい。\n",
        "\n",
        "(1) [str.join()](https://docs.python.org/ja/3/library/stdtypes.html#str.join) を使って、`0` から `99` までの数をスペース区切りで並べた文字列 `\"0 1 2 3 4 ... 99\"` を構成して下さい。\n",
        "\n",
        "(2) [str.format()](https://docs.python.org/ja/3/library/stdtypes.html#str.format) を使って `float` の値 `(1.0 / 7.0)` の小数点以下9桁までを表示して下さい。"
      ]
    },
    {
      "cell_type": "code",
      "metadata": {
        "id": "gdK3TmQNTDh-"
      },
      "source": [
        "# ここにコードを書く\n"
      ],
      "execution_count": null,
      "outputs": []
    },
    {
      "cell_type": "markdown",
      "metadata": {
        "id": "JmURfIIFTDh-"
      },
      "source": [
        "### 問2.6 (クラス)\n",
        "\n",
        "クラスを実装する練習として、データを管理するクラスを実装してみる。\n",
        "次のメソッドを全て持つクラス `DataManager` を記述して下さい。\n",
        "\n",
        "* `__init__(self, x, y, z)`: 3つの数 `x`, `y`, `z` をコンストラクタで受け取り、インスタンスの属性でそれぞれの値を記憶する。\n",
        "* `add_x(self, delta)`: `x` に `delta` だけ足して、値を更新する。\n",
        "* `add_y(self, delta)`: `y` に `delta` だけ足して、値を更新する。\n",
        "* `add_z(self, delta)`: `z` に `delta` だけ足して、値を更新する。\n",
        "* `sum(self)`: `x`, `y`, `z` の3つの数の合計値を返す。\n",
        "\n",
        "このクラスを使って以下のようなコードが書けるものとする。\n",
        "\n",
        "```python\n",
        "data_manager = DataManager(2, 3, 5)\n",
        "print(data_manager.sum())  # => 10\n",
        "data_manager.add_x(4)      # => data_manager.x の値が 2 から 6 に更新される\n",
        "print(data_manager.sum())  # => 14\n",
        "data_manager.add_y(0)      # => data_manager.y の値が 3 から 3 に更新される\n",
        "print(data_manager.sum())  # => 14\n",
        "data_manager.add_z(-9)     # => data_manager.z の値が 5 から -4 に更新される\n",
        "print(data_manager.sum())  # => 5\n",
        "```"
      ]
    },
    {
      "cell_type": "code",
      "metadata": {
        "id": "Ny1XkJ6iTDh_"
      },
      "source": [
        "# ここにコードを書く\n"
      ],
      "execution_count": null,
      "outputs": []
    },
    {
      "cell_type": "markdown",
      "metadata": {
        "id": "EOYLPbIjTDh_"
      },
      "source": [
        "### 問2.7 (関数呼び出し)\n",
        "以下で定義される関数 `f`, `g` があるとする。\n",
        "\n",
        "```python\n",
        "def f(a):\n",
        "    a = [6, 7, 8]\n",
        "    \n",
        "def g(a):\n",
        "    a.append(1)\n",
        "```\n",
        "\n",
        "これらに対し、次のコードの実行結果がどうなるか予想して下さい。実際にコードを実行して予想と一致しているか確認し、なぜそのような結果になったのか説明して下さい。\n",
        "\n",
        "```python\n",
        "def somefunction():\n",
        "    a0 = [1, 2, 3]\n",
        "    f(a0)\n",
        "    print(a0)\n",
        "\n",
        "    a1 = [1, 2, 3]\n",
        "    g(a1)\n",
        "    print(a1)\n",
        "    \n",
        "somefunction()\n",
        "```"
      ]
    },
    {
      "cell_type": "code",
      "metadata": {
        "id": "uoNolIJ9TDh_"
      },
      "source": [
        "# ここにコードを書く\n"
      ],
      "execution_count": null,
      "outputs": []
    },
    {
      "cell_type": "markdown",
      "metadata": {
        "id": "vj6yshMgTDiA"
      },
      "source": [
        "### 問2.8 (制御構文)\n",
        "\n",
        "2以上の整数 `p` が素数であるとは、「どんな `2` 以上 `p-1` 以下の整数 `k` に対しても `p` は `k` で割り切れない」が成り立つことを指す。素数を小さい順から列挙すると、`2`, `3`, `5`, `7`, `11`, `13`, `17`, ... となる。\n",
        "チュートリアルで学んだ制御構文である `if` や `for` を用いて、`2` から `100` からまでに含まれる素数を列挙して下さい。"
      ]
    },
    {
      "cell_type": "code",
      "metadata": {
        "id": "nzgc84-jTDiA"
      },
      "source": [
        "# ここにコードを書く\n"
      ],
      "execution_count": null,
      "outputs": []
    },
    {
      "cell_type": "markdown",
      "metadata": {
        "id": "0hA7Pd_lTDiA"
      },
      "source": [
        "## \"4. 微分の基礎\" の演習問題\n",
        "\n",
        "ここからは、紙と鉛筆を用意する。\n",
        "\n",
        "### 問4.1 (導関数)\n",
        "導関数の定義 $f'(x) = \\lim_{h \\rightarrow 0} \\frac{f(x+h)-f(x)}{h}$ を用いて以下の関数 $f_1(x), f_2(x)$ の導関数 $f^{'}_1(x), f^{'}_2(x)$ をそれぞれ求めて下さい。\n",
        "\n",
        "* $f_1(x) = x^3$.\n",
        "* $f_2(x) = \\sqrt{x}$. (ヒント: 分母と分子に $(\\sqrt{x+h}+\\sqrt{x})$ を掛けて式を整理してみて下さい)"
      ]
    },
    {
      "cell_type": "markdown",
      "metadata": {
        "id": "fTwWt2mtTDiC"
      },
      "source": [
        "### 問4.2 (線形性)\n",
        "微分の線形性 $\\left( cf(x) \\right)^{'} = c f'(x)$, $\\left( f(x) + g(x) \\right)^{'} = f^{'}(x) + g^{'}(x)$ を用いて、以下の関数の導関数を求めて下さい。\n",
        "\n",
        "* $f_1(x) = 2x^2-5x+1$\n",
        "* $f_2(x) = \\sum_{k=1}^{123} (k^2+1)x^k$"
      ]
    },
    {
      "cell_type": "markdown",
      "metadata": {
        "id": "m34t-8dtTDiC"
      },
      "source": [
        "### 問4.3 (積の微分)\n",
        "積の微分 $\\bigl( f(x) \\cdot g(x) \\bigr)^{'} = f^{'}(x)g(x) + f(x)g^{'}(x)$ を使って以下の関数を微分して下さい。\n",
        "\n",
        "* $f_1(x) = x \\cdot x$.\n",
        "* $f_2(x) = x \\cdot x^2$.\n",
        "* $f_3(x) = x \\cdot x^3$.\n",
        "\n",
        "これを繰り返していくと、$g(x) = x^{100}$ に対して $g^{'}(x) = 100x^{99}$ などが成り立つことを確かめて下さい。"
      ]
    },
    {
      "cell_type": "markdown",
      "metadata": {
        "id": "KqzzCMswTDiC"
      },
      "source": [
        "### 問4.4 (合成関数の微分)\n",
        "合成関数の微分則 $\\frac{d}{dx} f(g(x)) = \\frac{df(u)}{du}\\frac{du}{dx}$ ($u=g(x)$) を使って以下の関数を微分して下さい。\n",
        "\n",
        "* $f_1(x) = (x+1)^3$.\n",
        "* $f_2(x) = (4x)^3$.\n",
        "* $f_3(x) = \\exp(2x-1)$.\n",
        "* $f_4(x) = \\exp(-x^2)$.\n",
        "* $f_5(x) = 2^x$.  (ヒント: $2^x = \\exp(\\log(2) x)$ を利用する)"
      ]
    },
    {
      "cell_type": "markdown",
      "metadata": {
        "id": "kcgIpVpETDiD"
      },
      "source": [
        "### 問4.5 (合成関数の微分)\n",
        "$f(x) = x^2 + 1$, $g(x) = f(f(x))$ とする。\n",
        "\n",
        "(1) $g(x) = x^4 + 2x^2 + 2$ となることを確認して下さい。また、これより $g'(x) = 4x^3 + 4x$ となることを確認して下さい。\n",
        "\n",
        "(2) 一方で、合成関数の微分則によって $g'(x)$ を計算し、(1) で求めた導関数と一致することを確認して下さい。\n",
        "\n",
        "(3) $h(x) = f(f(f(x)))$ とする。合成関数の微分によって $h'(x)$ を計算して下さい。(ヒント: $h(x)=f(g(x))$ であることを利用する)"
      ]
    },
    {
      "cell_type": "markdown",
      "metadata": {
        "id": "PiOe8zE8TDiD"
      },
      "source": [
        "### 問4.6 (指数関数・対数関数)\n",
        "指数関数 $\\exp(x)$ と対数関数 $\\log(x)$ の導関数は以下で定まる。\n",
        "\n",
        "$$\n",
        "\\begin{align}\n",
        "\\exp^{'}(x) &= \\exp(x). \\\\\n",
        "\\log^{'}(x) &= \\frac{1}{x}. \\\\\n",
        "\\end{align}\n",
        "$$\n",
        "\n",
        "このことをプログラムを用いた実験によって確認してみる。\n",
        "**数値微分**は導関数を近似的に計算する手法である。導関数の定義\n",
        "\n",
        "$$f^{'}(x) = \\lim_{h \\rightarrow 0} \\frac{f(x+h)-f(x)}{h}$$\n",
        "\n",
        "において、極限を取る代わりにある微小な値 $\\Delta h$ を $h$ に代入し、\n",
        "\n",
        "$$\n",
        "f'(x) \\approx \\frac{f(x+\\Delta h)-f(x)}{\\Delta h}\n",
        "$$\n",
        "\n",
        "として計算することによって導関数の値を近似する方法が数値微分である。具体的な $x$ の値に対する $\\exp(x)$ の微分を数値微分によって計算するコードは以下のようになる。\n",
        "\n",
        "```python\n",
        "import math  # exp を呼び出すために math モジュールをインポート\n",
        "\n",
        "def f(x):\n",
        "    return math.exp(x)\n",
        "\n",
        "def dfdx_approx(x):\n",
        "    dh = 0.0001\n",
        "    return (f(x + dh) - f(x)) / dh\n",
        "```\n",
        "\n",
        "(1) `x=-3,-2,-1,0,1,2,3` に対して数値微分の関数 `dfdx_approx` を呼び出し、その結果得られた値と正確な微分の値($\\exp^{'}(-3),\\ldots,\\exp^{'}(3)$)とを比較して下さい。\n",
        "\n",
        "(2) 対数関数 $\\log(x)$ についても同様の実験を行い、`x=0.25,0.5,1,2,4,8` に対して比較して下さい。Python から対数関数を呼び出す場合、`math.log` を使用する。"
      ]
    },
    {
      "cell_type": "code",
      "metadata": {
        "id": "ts1dwKomTDiD"
      },
      "source": [
        "# ここにコードを書く\n"
      ],
      "execution_count": null,
      "outputs": []
    },
    {
      "cell_type": "markdown",
      "metadata": {
        "id": "Djg0mOrvTDiD"
      },
      "source": [
        "### 問4.7 (ニューラルネットワークの関数の微分)\n",
        "ニューラルネットワークのモデルでよく扱われる関数の導関数を計算してみる。\n",
        "\n",
        "* $\\mathrm{ReLU}(x) = \\max(x, 0)$.\n",
        "* $\\tanh(x) = \\frac{e^x - e^{-x}}{e^x + e^{-x}}$.  (注意: 商の微分則 $\\bigl(\\frac{f(x)}{g(x)}\\bigr)^{'}=\\frac{f^{'}(x)g(x)-f(x)g^{'}(x)}{g(x)^2}$ を用いる)\n",
        "* $\\mathrm{Sigmoid}(x) = \\frac{1}{1 + e^{-x}}$.\n",
        "* $\\mathrm{Softplus}(x) = \\log(1+e^x)$."
      ]
    },
    {
      "cell_type": "markdown",
      "metadata": {
        "id": "3jhg7w1NTDiE"
      },
      "source": [
        "### 問4.8 (偏微分)\n",
        "(1) 2変数関数 $f(x, y) = |x| + |y|$ に対して偏微分 $\\frac{\\partial}{\\partial x}f(x,y)$, $\\frac{\\partial}{\\partial y}f(x,y)$ を求めて下さい。\n",
        "\n",
        "(2) 2変数関数 $f(x, y) = |x + y|$ に対して偏微分 $\\frac{\\partial}{\\partial x}f(x,y)$, $\\frac{\\partial}{\\partial y}f(x,y)$ を求めて下さい。"
      ]
    },
    {
      "cell_type": "markdown",
      "metadata": {
        "id": "cGFGjgdTTDiE"
      },
      "source": [
        "## \"5. 線形代数の基礎\" の演習問題\n",
        "\n",
        "### 問5.1 (プログラムにおけるベクトル・行列の計算)\n",
        "\n",
        "Python コード上でベクトルや行列に関する演算を行うことを考えてみる。ベクトルは `float` のリスト、行列は `float` のリストのリストによって表すことができる。例えば、\n",
        "\n",
        "$$\n",
        "{\\bf x}=\\begin{bmatrix}\n",
        "3 \\\\\n",
        "7 \\\\\n",
        "2\n",
        "\\end{bmatrix}, \\\n",
        "{\\bf A}=\\begin{bmatrix}\n",
        "1 & 2 & 3 \\\\\n",
        "4 & 5 & 6\n",
        "\\end{bmatrix}\n",
        "$$\n",
        "\n",
        "と言うベクトルと行列はそれぞれ `[3, 7, 2]` と `[[1, 2, 3], [4, 5, 6]]` と Python コード上で表すことができる。\n",
        "\n",
        "(1) 2つのベクトル ${\\bf x}$, ${\\bf y}$ を受け取り、その和 ${\\bf x} + {\\bf y}$ を返す関数を書いて下さい。コードは例えば以下のようになる。\n",
        "\n",
        "```python\n",
        "def vector_sum(x, y):\n",
        "    # ...\n",
        "\n",
        "x = [1, 2, 3]\n",
        "y = [8, 1, 2]\n",
        "answer = vector_sum(x, y)\n",
        "print(answer)  # => [9, 3, 5]\n",
        "```\n",
        "\n",
        "(2) 2つの行列 ${\\bf X}$, ${\\bf Y}$ を受け取り、その和 ${\\bf X} + {\\bf Y}$ を返す関数を書いて下さい。コードは例えば以下のようになる。\n",
        "\n",
        "```python\n",
        "def matrix_sum(X, Y):\n",
        "    # ...\n",
        "\n",
        "X = [[1, 2, 3],\n",
        "     [4, 5, 6]]\n",
        "Y = [[8, 1, 2],\n",
        "     [-1, 0, -2]]\n",
        "answer = matrix_sum(X, Y)\n",
        "print(answer)  # => [[9, 3, 5], [3, 5, 4]]\n",
        "```\n",
        "\n",
        "(3) 行列 ${\\bf X}$ とベクトル ${\\bf y}$ を受け取り、その積 ${\\bf X}{\\bf y}$ を返す関数を書いて下さい。\n",
        "\n",
        "```python\n",
        "def matrix_vector_product(X, y):\n",
        "    # ...\n",
        "\n",
        "X = [[1, 2, 3],\n",
        "     [4, 5, 6]]\n",
        "y = [8, 1, 2]\n",
        "answer = matrix_vector_product(X, y)\n",
        "print(answer)  # => [16, 49]\n",
        "```\n",
        "\n",
        "(4) 2つの行列 ${\\bf X}$, ${\\bf Y}$ を受け取り、その積 ${\\bf X}{\\bf Y}$ を返す関数を書いて下さい。\n",
        "\n",
        "```python\n",
        "def matrix_product(X, Y):\n",
        "    # ...\n",
        "\n",
        "X = [[1, 2, 3],\n",
        "     [4, 5, 6]]\n",
        "Y = [[8, 1],\n",
        "     [-1, 0],\n",
        "     [0, 1]]\n",
        "answer = matrix_product(X, Y)\n",
        "print(answer)  # => [[6, 4], [27, 10]]\n",
        "```\n",
        "\n",
        "(5) 行列 ${\\bf X}$ を受け取り、その転置 ${\\bf X}^{\\rm T}$ を返す関数を書いて下さい。\n",
        "\n",
        "```python\n",
        "def matrix_transpose(X):\n",
        "    # ...\n",
        "\n",
        "X = [[1, 2, 3],\n",
        "     [4, 5, 6]]\n",
        "answer = matrix_transpose(X)\n",
        "print(answer)  # => [[1, 4], [2, 5], [3, 6]]\n",
        "```"
      ]
    },
    {
      "cell_type": "code",
      "metadata": {
        "id": "12AFOjTXTDiE"
      },
      "source": [
        "# ここにコードを書く\n"
      ],
      "execution_count": null,
      "outputs": []
    },
    {
      "cell_type": "markdown",
      "metadata": {
        "id": "NiN75BMTTDiE"
      },
      "source": [
        "### 問5.2 (ベクトルの微分)\n",
        "${\\bf x}$ を次元数 $n$ のベクトル、${\\bf A}$ を $n \\times n$ の正方行列とする。\n",
        "\n",
        "$$\n",
        "{\\bf x}=\\begin{bmatrix}\n",
        "x_{1} \\\\\n",
        "\\vdots \\\\\n",
        "x_{n}\n",
        "\\end{bmatrix}, \\\n",
        "{\\bf A}=\\begin{bmatrix}\n",
        "a_{11} & \\ldots & a_{1n} \\\\\n",
        "\\vdots &        & \\vdots \\\\\n",
        "a_{n1} & \\ldots & a_{nn}\n",
        "\\end{bmatrix}\n",
        "$$\n",
        "\n",
        "\n",
        "二次形式に関する微分 $\\frac{\\partial}{\\partial {\\bf x}} \\left( {\\bf x}^{\\rm T}{\\bf A}{\\bf x} \\right) = {\\bf x}^{\\rm T} \\left( {\\bf A} + {\\bf A}^{\\rm T} \\right)$ を証明してみる。\n",
        "\n",
        "(1) ${\\bf x}^{\\rm T}{\\bf A}{\\bf x} = \\sum_{i=1}^n \\sum_{j=1}^n a_{ij} x_i x_j$ であることを示して下さい。さらに、これより以下を示して下さい。\n",
        "$$\n",
        "{\\bf x}^{\\rm T}{\\bf A}{\\bf x} = a_{11} x_1^2 + \\left( \\sum_{i=2}^n (a_{1i} + a_{i1}) x_i \\right) x_1 + \\sum_{i=2}^n \\sum_{j=2}^n x_i x_j a_{ij}.\n",
        "$$\n",
        "\n",
        "(2) 偏微分 $\\frac{\\partial}{\\partial x_1} \\left( {\\bf x}^{\\rm T}{\\bf A}{\\bf x} \\right)$ を計算し、$\\sum_{i=1}^n (a_{1i} x_i + a_{i1} x_i)$ となることを示して下さい。\n",
        "\n",
        "(3) 一般に、$k=1,\\ldots,n$ に対して $\\frac{\\partial}{\\partial x_k} \\left( {\\bf x}^{\\rm T}{\\bf A}{\\bf x} \\right) = \\sum_{i=1}^n (a_{ki} x_i + a_{ik} x_i)$ となることを示して下さい。これによって $\\frac{\\partial}{\\partial {\\bf x}} \\left( {\\bf x}^{\\rm T}{\\bf A}{\\bf x} \\right) = {\\bf x}^{\\rm T} \\left( {\\bf A} + {\\bf A}^{\\rm T} \\right)$ が成り立つことを確かめて下さい。"
      ]
    },
    {
      "cell_type": "markdown",
      "metadata": {
        "id": "X8T6HtXOTDiF"
      },
      "source": [
        "### 問5.3 (ベクトルを入力とする関数の微分)\n",
        "\n",
        "$f, g$ をベクトルを入力とする実数値関数とする。\n",
        "微分について以下の性質が成り立つことを示して下さい。\n",
        "\n",
        "* $\\frac{\\partial}{\\partial {\\bf x}}(f({\\bf x}) + g({\\bf x})) = \\frac{\\partial}{\\partial {\\bf x}}f({\\bf x}) + \\frac{\\partial}{\\partial {\\bf x}}g({\\bf x})$.\n",
        "* $c$ を任意の実数とするとき、$\\frac{\\partial}{\\partial {\\bf x}}(cf({\\bf x})) = c\\frac{\\partial}{\\partial {\\bf x}}f({\\bf x})$.\n",
        "* $c$ を任意の実数、${\\bf b}$ を任意のベクトルとするとき、$\\frac{\\partial}{\\partial {\\bf x}}f(c{\\bf x} + {\\bf b}) = c\\frac{\\partial}{\\partial {\\bf y}}{\\bf f}({\\bf y})$. (ここで ${\\bf y}=c{\\bf x}+{\\bf a}$ とする。)"
      ]
    },
    {
      "cell_type": "markdown",
      "metadata": {
        "id": "JmuCCy90TDiF"
      },
      "source": [
        "### 問5.4 (ベクトルを入力とする関数の微分)\n",
        "\n",
        "${\\bf x}$ を $n$ 次元ベクトルとする。\n",
        "以下の関数 $f$ に対するベクトルの微分 $\\frac{\\partial}{\\partial {\\bf x}}f({\\bf x})$ を計算して下さい。\n",
        "\n",
        "* $f({\\bf x}) = \\max(x_1, x_2, \\ldots, x_n)$.\n",
        "\n",
        "* $f({\\bf x}) = \\sqrt{x_1^2 + x_2^2 + \\ldots + x_n^2}$.\n",
        "\n",
        "* $f({\\bf x}) = |x_1 + x_2 + \\ldots + x_n|$."
      ]
    },
    {
      "cell_type": "markdown",
      "metadata": {
        "id": "QWjIrZRnTDiF"
      },
      "source": [
        "### 問5.5 (多変数関数の合成関数の微分)\n",
        "\n",
        "3次元ベクトルに対するベクトル値関数 ${\\bf f}$ を以下によって定義する。\n",
        "$$\n",
        "{\\bf f}(\\begin{bmatrix}\n",
        "x_{1} \\\\\n",
        "x_{2} \\\\\n",
        "x_{3}\n",
        "\\end{bmatrix}) = \\begin{bmatrix}\n",
        "x_{2}^2 \\\\\n",
        "x_{3}^2 \\\\\n",
        "x_{1}^2\n",
        "\\end{bmatrix}.\n",
        "$$\n",
        "\n",
        "(1) ${\\bf f}({\\bf x})$ のヤコビ行列 $\\frac{\\partial}{\\partial {\\bf x}}{\\bf f}({\\bf x})$ を計算して下さい。\n",
        "\n",
        "(2) ${\\bf f}({\\bf f}({\\bf x}))$ を計算して下さい。\n",
        "\n",
        "(3) ${\\bf f}({\\bf f}({\\bf x}))$ のヤコビ行列 $\\frac{\\partial}{\\partial {\\bf x}}{\\bf f}({\\bf f}({\\bf x}))$ を、(1) の結果を用いて計算して下さい。\n",
        "\n",
        "(4) $\\frac{\\partial}{\\partial {\\bf x}}{\\bf f}({\\bf f}({\\bf x}))$ を合成関数の微分則 $\\frac{\\partial}{\\partial {\\bf x}} {\\bf f}( {\\bf g}({\\bf x}))  = \\frac{\\partial {\\bf f}}{\\partial {\\bf u}}({\\bf u}) \\frac{\\partial {\\bf g}}{\\partial {\\bf x}}({\\bf x})$ (${\\bf u}={\\bf g}({\\bf x})$) によって計算し、結果が (3) と一致することを確認して下さい。"
      ]
    },
    {
      "cell_type": "markdown",
      "metadata": {
        "id": "Ea4efzuKTDiF"
      },
      "source": [
        "### 問5.6 (多変数関数の合成関数の微分)\n",
        "${\\bf A}$, ${\\bf B}$ を $n \\times n$ 行列とする。$n$ 次元ベクトル ${\\bf x}$ に対して ${\\bf f}({\\bf x})={\\bf A}{\\bf x}$, ${\\bf g}({\\bf x})={\\bf B}{\\bf x}$ とする。\n",
        "\n",
        "合成関数の微分則を用いて $\\frac{\\partial}{\\partial {\\bf x}}{\\bf g}({\\bf f}({\\bf x})) = {\\bf B}{\\bf A}$ を示して下さい。"
      ]
    },
    {
      "cell_type": "markdown",
      "metadata": {
        "id": "PITf1fx8TDiG"
      },
      "source": [
        "### 問5.7 (多変数関数の合成関数の微分)\n",
        "\n",
        "(1) $f(y, z) = 2y-3z$ とする。このとき、1変数関数 $g(x)$ と $h(x)$ に対して\n",
        "\n",
        "$$\n",
        "\\frac{d}{dx}f(g(x), h(x)) = 2g^{'}(x)-3h^{'}(x)\n",
        "$$\n",
        "\n",
        "であることを確認して下さい。\n",
        "\n",
        "(2) $f(y, z) = yz$ とする。このとき $\\frac{d}{dx}f(g(x), h(x)) = g^{'}(x)h(x) + g(x)h^{'}(x)$ であることを確認して下さい。\n",
        "\n",
        "(3) 2変数実数値関数 $f(y, z)$ と1変数関数 $g(x), h(x)$ に対し以下が成り立つことを合成関数の微分則 $\\frac{\\partial}{\\partial {\\bf x}} {\\bf f}( {\\bf g}({\\bf x}))  = \\frac{\\partial {\\bf f}}{\\partial {\\bf u}}({\\bf u}) \\frac{\\partial {\\bf g}}{\\partial {\\bf x}}({\\bf x})$ (${\\bf u}={\\bf g}({\\bf x})$) を用いて示して下さい。\n",
        "\n",
        "$$\n",
        "\\frac{d}{dx}f(g(x), h(x)) = \\frac{\\partial f}{\\partial y}(y, z) \\cdot g^{'}(x) + \\frac{\\partial f}{\\partial z}(y, z) \\cdot h^{'}(x)\n",
        "$$\n",
        "\n",
        "ここで、$y=g(x)$, $z=h(x)$ とする。この結果が (1) と (2) の式の一般化になっていることを確かめて下さい。\n",
        "\n",
        "(4) 平面上を移動する点があり、時刻 $t$ の点の座標 $(x(t), y(t))$ は $x(t)=t^2+t+1, y(t)=t^2-t+1$ であるとする。座標 $(x,y)$ にいるとき、点は $E(x,y)=\\exp(\\frac{1}{\\sqrt{x^2+y^2}})$ のエネルギーを持っているとする。エネルギーの時間に関する微分 $\\frac{\\partial}{\\partial t}E(x(t),y(t))$ を (3) の結果を用いて求めて下さい。"
      ]
    },
    {
      "cell_type": "markdown",
      "metadata": {
        "id": "pwmWLMAITDiG"
      },
      "source": [
        "### 問5.8 (多変数関数の合成関数の微分)\n",
        "ベクトル値関数 ${\\bf f}$ を以下で定義する。\n",
        "\n",
        "$$\n",
        "{\\bf f}(\\begin{bmatrix}\n",
        "z \\\\\n",
        "w\n",
        "\\end{bmatrix}) = \\begin{bmatrix}\n",
        "\\frac{e^z}{e^{z+w}} \\\\\n",
        "\\frac{e^w}{e^{z+w}}\n",
        "\\end{bmatrix}.\n",
        "$$\n",
        "\n",
        "${\\bf X}$ を $2 \\times N$ 行列、${\\bf y}$ を $N$ 次元ベクトルとする。\n",
        "偏微分 $\\frac{\\partial}{\\partial x_{ij}}{\\bf f}({\\bf X}{\\bf y})$ を計算して下さい。ここで、$x_{ij}$ は ${\\bf X}$ の $(i,j)$ 成分とする。"
      ]
    },
    {
      "cell_type": "markdown",
      "metadata": {
        "id": "OAqW1dbATDiG"
      },
      "source": [
        "## \"6. 確率・統計の基礎\" の演習問題\n",
        "\n",
        "### 問6.1 (同時分布・周辺確率)\n",
        "\n",
        "偏りのあるコイン ${\\rm A}$ と ${\\rm B}$ がある。\n",
        "コイン ${\\rm A}$ を振ったときに表が出る確率は1/4、裏が出る確率は3/4である。コイン ${\\rm B}$ を振ったときに表が出る確率は2/3、裏が出る確率は1/3である。\n",
        "\n",
        "この二つのコインのうちどちらか一つを等しい確率でランダムに選び、選んだ方のコインを振ると言う試行を考えます。\n",
        "選んだコインが ${\\rm A}$ と ${\\rm B}$ どちらだったかを表す確率変数を $X$、コインを振った結果(表裏)を表す確率変数を $Y$ とする。\n",
        "\n",
        "(1) 同時確率 $p(X={\\rm A}, Y=表)$, $p(X={\\rm A}, Y=裏)$, $p(X={\\rm B}, Y=表)$, $p(X={\\rm B}, Y=裏)$ をそれぞれ計算して下さい。\n",
        "\n",
        "(2) 同時確率を周辺化して、確率 $p(Y=表)$ と $p(Y=裏)$ を計算して下さい。"
      ]
    },
    {
      "cell_type": "markdown",
      "metadata": {
        "id": "B37MWC0fTDiG"
      },
      "source": [
        "### 問6.2 (条件付き確率)\n",
        "\n",
        "問6.1 の試行で条件付き確率 $p(Y=表 \\mid X={\\rm A})$ を計算して下さい。"
      ]
    },
    {
      "cell_type": "markdown",
      "metadata": {
        "id": "lHEn7F4zTDiG"
      },
      "source": [
        "### 問6.3 (ベイズの定理)\n",
        "\n",
        "(1) 問6.1 の試行で事後確率 $p(X={\\rm A} \\mid Y=表)$, $p(X={\\rm B} \\mid Y=表)$, $p(X={\\rm A} \\mid Y=裏)$, $p(X={\\rm B} \\mid Y=裏)$ をそれぞれ計算して下さい。\n",
        "\n",
        "(2) 問6.1 の試行を行った後、コインは表が出たとする。この後さらに同じコインを振ったときに再び表が出る確率を計算して下さい。"
      ]
    },
    {
      "cell_type": "markdown",
      "metadata": {
        "id": "qRSYs5ypTDiH"
      },
      "source": [
        "### 問6.4 (ベイズの定理)\n",
        "\n",
        "一様な確率で1から6までの数が出るサイコロがある。\n",
        "サイコロを何回か連続で振る試行を考えます。サイコロを振った後、直前に出た数より大きい数が出たときに「ラッキーである」と呼ぶことにする。\n",
        "例えばサイコロを5回振って 2,5,3,4,4 と順に出た場合、2回目と4回目はラッキーであるが、それ以外はラッキーではありません。\n",
        "\n",
        "いま、サイコロを 10 回振って一度もラッキーではなかったとする。このとき、次にサイコロを振ってラッキーになる確率はいくらになるでしょうか。プログラムを使って分析してみて下さい。"
      ]
    },
    {
      "cell_type": "code",
      "metadata": {
        "id": "mgzhKdV4TDiH"
      },
      "source": [
        "# ここにコードを書く\n"
      ],
      "execution_count": null,
      "outputs": []
    },
    {
      "cell_type": "markdown",
      "metadata": {
        "id": "jBUTwzz1TDiH"
      },
      "source": [
        "### 問6.5 (尤度と最尤推定)\n",
        "\n",
        "偏りのあるサイコロの出る目の確率を推定する問題を考えます。サイコロを振ったときに出る数を表す確率変数を $X$ とする。確率モデルのパラメータを $\\theta=(\\theta_1, \\theta_2, \\theta_3, \\theta_4, \\theta_5, \\theta_6)$ として、確率 $p(X=x)$ を\n",
        "\n",
        "$$\n",
        "f(x; \\theta) = \\theta_x\n",
        "$$\n",
        "\n",
        "によってモデル化する。ここで、パラメータは $\\theta_1, \\ldots, \\theta_6 \\ge 0$ かつ $\\theta_1+\\ldots+\\theta_6=1$ を満たさなくてはならないとする。\n",
        "\n",
        "いま、サイコロを60回振って、1の目が30回、それ以外の目が6回出たとする。\n",
        "\n",
        "(1) 観測データに対する対数尤度を求めて下さい。\n",
        "\n",
        "(2) プログラムを用いて、$\\theta=(\\theta_1, \\ldots, \\theta_6)$ に様々な値を入れた場合に対数尤度がどのようになるかを観測して下さい。$\\theta$ がどのようなときに対数尤度が大きくなるか予想する。"
      ]
    },
    {
      "cell_type": "code",
      "metadata": {
        "id": "vpiL3JjhTDiH"
      },
      "source": [
        "# ここにコードを書く\n"
      ],
      "execution_count": null,
      "outputs": []
    },
    {
      "cell_type": "markdown",
      "metadata": {
        "id": "OyP7gBU5TDiH"
      },
      "source": [
        "### 問6.6 (尤度と最尤推定)\n",
        "\n",
        "ポアソン分布は正の実数 $\\lambda>0$ をパラメータとして持つ分布である。$0$ 以上の整数値を取る確率変数 $X$ が以下の確率値に従うとき、$X$ はポアソン分布に従うと言う。\n",
        "\n",
        "$$p(X=k)=\\frac{\\lambda^k e^{-\\lambda}}{k!} \\; \\; \\; (k=0,1,2,\\ldots).$$\n",
        "\n",
        "いま、ある交差点で特定の時間帯に存在する歩行者の人数のをポアソン分布でモデル化することを考えます。\n",
        "$X$ を特定の時間帯に存在する歩行者の人数を表す確率変数とする。確率 $p(X=k)$ は上記のポアソン分布に従うとする。\n",
        "\n",
        "20日間の観測結果によると、$i$ 日目には $10+i$ 人の歩行者を観測したことが分かっているとする。($i=1,2,\\ldots,20$)\n",
        "\n",
        "(1) 観測データに対する対数尤度を求めて下さい。\n",
        "\n",
        "(2) 対数尤度を最大にする $\\lambda$ の値を求めて下さい。\n",
        "\n",
        "(3) (2) で求めた $\\lambda$ をパラメータとして用いたとき、$k=0,1,\\ldots,50$ に対して $p(X=k)$ をプログラムを用いて計算して下さい。なお、累乗 $\\lambda^k$ の計算には組み込み関数の `pow` を、階乗 $k!$ の計算には `math` モジュールにある `math.factorial` を用いると便利である。"
      ]
    },
    {
      "cell_type": "code",
      "metadata": {
        "id": "2sJenVbfTDiH"
      },
      "source": [
        "# ここにコードを書く\n"
      ],
      "execution_count": null,
      "outputs": []
    },
    {
      "cell_type": "markdown",
      "metadata": {
        "id": "5mJx1QQ7TDiI"
      },
      "source": [
        "### 問6.7 (事後確率最大化推定(MAP推定))\n",
        "\n",
        "6章の例6.7.1 にあるコイントスの試行で、事前確率 $p(\\theta)$ を以下のように変更した場合にどうなるかを考えてみる。\n",
        "\n",
        "$$\n",
        "p(\\theta)=\\begin{cases}\n",
        "3 & (1/3 \\le \\theta \\le 3/2) \\\\\n",
        "0 & (\\text{otherwise})\n",
        "\\end{cases}\n",
        "$$\n",
        "\n",
        "コインを10回振って9回表が出て1回裏が出たとき、MAP 推定によってパラメータ $\\theta$ を推定して下さい。"
      ]
    },
    {
      "cell_type": "markdown",
      "metadata": {
        "id": "ZawBGsUGTDiI"
      },
      "source": [
        "### 問6.8 (統計量)\n",
        "\n",
        "生徒が100人いる学校で期末試験をした結果、科目Aと科目Bの点数は以下のような結果になりました。\n",
        "\n",
        "* 科目A: 20点の生徒が50人、80点の生徒が50人\n",
        "* 科目B: 0点の生徒が1人、1点の生徒が1人、2点の生徒が1人、…、99点の生徒が1人\n",
        "\n",
        "この二つの科目について、生徒の点数の平均と標準偏差をそれぞれ計算して下さい。プログラムを用いてもよい。\n",
        "\n",
        "この例から分かるように、データのばらつきが非常に異なる性質をもっていても平均や標準偏差が近い値になることがある。"
      ]
    },
    {
      "cell_type": "code",
      "metadata": {
        "id": "4_0DPi_DTDiI"
      },
      "source": [
        "# プログラムを用いる場合はここにコードを書く\n"
      ],
      "execution_count": null,
      "outputs": []
    }
  ]
}