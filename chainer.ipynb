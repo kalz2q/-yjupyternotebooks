{
  "nbformat": 4,
  "nbformat_minor": 0,
  "metadata": {
    "colab": {
      "name": "chainer.ipynb",
      "provenance": [],
      "toc_visible": true,
      "authorship_tag": "ABX9TyO1h1A4jFdmn/nwkcn9FIW1",
      "include_colab_link": true
    },
    "kernelspec": {
      "name": "python3",
      "display_name": "Python 3"
    },
    "language_info": {
      "name": "python"
    }
  },
  "cells": [
    {
      "cell_type": "markdown",
      "metadata": {
        "id": "view-in-github",
        "colab_type": "text"
      },
      "source": [
        "<a href=\"https://colab.research.google.com/github/kalz2q/mycolabnotebooks/blob/master/chainer.ipynb\" target=\"_parent\"><img src=\"https://colab.research.google.com/assets/colab-badge.svg\" alt=\"Open In Colab\"/></a>"
      ]
    },
    {
      "cell_type": "markdown",
      "metadata": {
        "id": "UhyWMT5V_qeF"
      },
      "source": [
        "# メモ\n",
        "\n",
        "Chainer のチュートリアルサイトが Open in Colab ボタンのあるサイトだったのでそこから拾い読み\n",
        "\n",
        "https://tutorials.chainer.org/ja/01_Welcome_to_Chainer_Tutorial.html\n"
      ]
    },
    {
      "cell_type": "markdown",
      "metadata": {
        "id": "copNjjCcBPjs"
      },
      "source": [
        "オンライン学習資料\n",
        "\n",
        "- 数学の知識\n",
        "- Python を用いたコーディングの基本\n",
        "- 機械学習・ディープラーニングの基礎的な理論\n",
        "- 画像認識や自然言語処理などに機械学習を応用する方法\n",
        "\n",
        "1. `Open in Colab` から Colab へ移動\n",
        "2. 自分のドライブへノートブックをコピーする\n",
        "3. コードを実行しながら解説を読んでいく\n",
        "\n",
        "という手順が、本チュートリアルサイトのおすすめの利用方法"
      ]
    },
    {
      "cell_type": "markdown",
      "metadata": {
        "id": "lYLEBxPnBPj2"
      },
      "source": [
        "### Colab の便利なショートカット\n",
        "\n",
        "Colab を使用中に、セルのタイプの変更やセルの複製・追加などの操作をする場合は、メニューから該当する項目を選ぶ方法以外に、キーボードショートカットを利用する方法もあります。\n",
        "\n",
        "下記によく使う**ショートカットキー**をまとめておきます。\n",
        "多くのショートカットキーは**二段階**になっており、まず `Ctrl + M` を押してから、それぞれの機能によって異なるコマンドを入力する形になっています。\n",
        "\n",
        "| 説明                 | コマンド      |\n",
        "| -------------------- | ------------- |\n",
        "| Markdownモードへ変更 | Ctrl + M → M |\n",
        "| Codeモードへ変更     | Ctrl + M → Y |\n",
        "| セルの実行           | Shift + Enter |\n",
        "| セルを上に追加       | Ctrl + M → A |\n",
        "| セルを下に追加       | Ctrl + M → B |\n",
        "| セルのコピー         | Ctrl + M → C |\n",
        "| セルの貼り付け       | Ctrl + M → V |\n",
        "| セルの消去           | Ctrl + M → D |\n",
        "| コメントアウト       | Ctrl + /      |\n",
        "\n",
        "コメントアウトとは、コード中で実行時に無視したい行やコメントを選択した状態で行う操作です。\n",
        "Python では、`#` の後に続く文字列は全て、コメントとして無視され、実行時に評価されることはありません。"
      ]
    },
    {
      "cell_type": "markdown",
      "metadata": {
        "id": "wGXRnHPXBPj2"
      },
      "source": [
        "###  GPU を使用する\n",
        "\n",
        "Colab では GPU を無料で使用することができます。\n",
        "初期設定では GPU を使用しない設定となっているため、GPU を使用する場合は設定を変更する必要があります。\n",
        "\n",
        "GPU を使用する場合は、画面上部のタブの中の 「Runtime」 (または「ランタイム」) をクリックし、「Change runtime type」 (または「ランタイムのタイプを変更」)を選択します。  \n",
        "\n",
        "そして、下記の画像の様に 「Hardware accelerator」  (または「ハードウェアアクセラレータ」)を GPU に変更します。  \n",
        "\n",
        "![GPUの設定](https://github.com/chainer/tutorials/blob/master/ja/images/01/01_08.png?raw=1)\n",
        "\n",
        "これで Colab 上で GPU を使用できるようになりました。\n",
        "\n"
      ]
    },
    {
      "cell_type": "markdown",
      "metadata": {
        "id": "gUQe5hH1BPj2"
      },
      "source": [
        "これで、チュートリアルの本編に入っていく準備が完了しました。次の章では、Python というプログラミング言語の基本について解説します。"
      ]
    },
    {
      "cell_type": "markdown",
      "metadata": {
        "id": "1wAQCl9iBPj2"
      },
      "source": [
        "<hr />\n",
        "<div class=\"alert alert-info\">\n",
        "**注釈 1**\n",
        "\n",
        "`ls` はシェルコマンドの 1 つです。\n",
        " \n",
        "[▲上へ戻る](#ref_note1)\n",
        "</div>\n"
      ]
    },
    {
      "cell_type": "code",
      "metadata": {
        "id": "_h3bjR8EAHdd"
      },
      "source": [
        ""
      ],
      "execution_count": null,
      "outputs": []
    }
  ]
}