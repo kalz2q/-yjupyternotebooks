{
  "nbformat": 4,
  "nbformat_minor": 0,
  "metadata": {
    "colab": {
      "name": "chainer.ipynb",
      "provenance": [],
      "toc_visible": true,
      "authorship_tag": "ABX9TyM0bGY1nykhqzTBSkvwPfk+",
      "include_colab_link": true
    },
    "kernelspec": {
      "name": "python3",
      "display_name": "Python 3"
    },
    "language_info": {
      "name": "python"
    }
  },
  "cells": [
    {
      "cell_type": "markdown",
      "metadata": {
        "id": "view-in-github",
        "colab_type": "text"
      },
      "source": [
        "<a href=\"https://colab.research.google.com/github/kalz2q/mycolabnotebooks/blob/master/chainer.ipynb\" target=\"_parent\"><img src=\"https://colab.research.google.com/assets/colab-badge.svg\" alt=\"Open In Colab\"/></a>"
      ]
    },
    {
      "cell_type": "markdown",
      "metadata": {
        "id": "UhyWMT5V_qeF"
      },
      "source": [
        "# メモ\n",
        "\n",
        "Chainer のチュートリアルサイトが Open in Colab ボタンのあるサイトだったのでそこから拾い読み\n",
        "\n",
        "https://tutorials.chainer.org/ja/01_Welcome_to_Chainer_Tutorial.html\n"
      ]
    },
    {
      "cell_type": "markdown",
      "metadata": {
        "id": "copNjjCcBPjs"
      },
      "source": [
        "オンライン学習資料\n",
        "\n",
        "- 数学の知識\n",
        "- Python を用いたコーディングの基本\n",
        "- 機械学習・ディープラーニングの基礎的な理論\n",
        "- 画像認識や自然言語処理などに機械学習を応用する方法\n",
        "\n",
        "1. `Open in Colab` から Colab へ移動\n",
        "2. 自分のドライブへノートブックをコピーする\n",
        "3. コードを実行しながら解説を読んでいく\n",
        "\n",
        "という手順が、本チュートリアルサイトのおすすめの利用方法"
      ]
    },
    {
      "cell_type": "markdown",
      "metadata": {
        "id": "p2HPtVm9BPj0"
      },
      "source": [
        "### Colab から Google Drive を使う\n",
        "\n",
        "Google Drive というオンラインストレージサービスを Colab で開いたノートブックから利用することができます。\n",
        "ノートブック中でコードを実行して作成したファイルなどを保存したり、逆に Google Drive 上に保存されているデータを読み込んだりすることができます。\n",
        "\n",
        "Colab 上のノートブックから Google Drive を使うには、Colab 専用のツールを使って、`/content/drive` というパスに現在ログイン中の Google アカウントが持っている Google Drive のスペースをマウントします。"
      ]
    },
    {
      "cell_type": "code",
      "metadata": {
        "id": "xpVpDGI9BPj0"
      },
      "source": [
        "from google.colab import drive\n",
        "drive.mount('/content/drive')"
      ],
      "execution_count": null,
      "outputs": []
    },
    {
      "cell_type": "code",
      "metadata": {
        "id": "Wa6xFXjBIq94",
        "outputId": "73a28190-063b-4a77-da97-8bfadce10171",
        "colab": {
          "base_uri": "https://localhost:8080/"
        }
      },
      "source": [
        "!ls"
      ],
      "execution_count": 5,
      "outputs": [
        {
          "output_type": "stream",
          "text": [
            "sample_data\n"
          ],
          "name": "stdout"
        }
      ]
    },
    {
      "cell_type": "markdown",
      "metadata": {
        "id": "H4BysrrmBPj1"
      },
      "source": [
        "このノートブックを Colab で開いてから初めて上のコードセルを実行した場合は、以下のようなメッセージが表示されます。\n",
        "\n",
        "![please authorize](https://github.com/chainer/tutorials/blob/master/ja/images/01/01_05.png?raw=1)\n",
        "\n",
        "指示に従って表示されているURLへアクセスしてください。\n",
        "すると、「アカウントの選択」と書かれたページに飛び、すでにログイン済みの場合はログイン中の Google アカウントのアイコンやメールアドレスが表示されています。\n",
        "利用したいアカウントをクリックして、次に進んで下さい。\n",
        "すると次に、`Google Drive File Stream が Google アカウントへのアクセスをリクエストしています` と書かれたページに飛びます。\n",
        "\n",
        "![access request](https://github.com/chainer/tutorials/blob/master/ja/images/01/01_06.png?raw=1)\n",
        "\n",
        "右下に「許可」と書かれたボタンが見えます。\n",
        "こちらをクリックしてください。\n",
        "すると以下のように認証コードが記載されたページへ移動します。\n",
        "\n",
        "![access code](https://github.com/chainer/tutorials/blob/master/ja/images/01/01_07.png?raw=1)\n",
        "\n",
        "（この画像では認証コード部分をぼかしています）\n",
        "このコードを選択してコピーするか、右側にあるアイコンをクリックしてコピーしてください。\n",
        "\n",
        "元のノートブックへ戻り、`Enter your authorization code:` というメッセージの下にある空欄に、先程コピーした認証コードを貼り付けて、Enter キーを押してください。\n",
        "\n",
        "**Mounted at /content/drive** と表示されたら、準備は完了です。\n",
        "\n",
        "以下のセルを実行して、自分の Google Drive が Colab からアクセス可能になっていることを確認してください。"
      ]
    },
    {
      "cell_type": "code",
      "metadata": {
        "colab": {
          "base_uri": "https://localhost:8080/",
          "height": 35
        },
        "id": "6Kty-j1iBPj1",
        "outputId": "e244c570-af51-4af8-a9f1-5a68da0fa41b"
      },
      "source": [
        "# 'My Drive'の表記が出ていればマウントがうまく行われています。\n",
        "!ls 'drive/'"
      ],
      "execution_count": null,
      "outputs": [
        {
          "output_type": "stream",
          "text": [
            "'My Drive'\n"
          ],
          "name": "stdout"
        }
      ]
    },
    {
      "cell_type": "markdown",
      "metadata": {
        "id": "ToxoCClqBPj1"
      },
      "source": [
        "上のセルで実行しているのは Python のコードではありません。\n",
        "Jupyter Notebook では、コードセル中で `!` が先頭に付いている行は特別に解釈されます。`!ls` は、次に続くディレクトリの中にあるファイルまたはディレクトリの一覧を表示せよ、という意味です（[注釈1](#note1)）。"
      ]
    },
    {
      "cell_type": "markdown",
      "metadata": {
        "id": "lYLEBxPnBPj2"
      },
      "source": [
        "### Colab の便利なショートカット\n",
        "\n",
        "Colab を使用中に、セルのタイプの変更やセルの複製・追加などの操作をする場合は、メニューから該当する項目を選ぶ方法以外に、キーボードショートカットを利用する方法もあります。\n",
        "\n",
        "下記によく使う**ショートカットキー**をまとめておきます。\n",
        "多くのショートカットキーは**二段階**になっており、まず `Ctrl + M` を押してから、それぞれの機能によって異なるコマンドを入力する形になっています。\n",
        "\n",
        "| 説明                 | コマンド      |\n",
        "| -------------------- | ------------- |\n",
        "| Markdownモードへ変更 | Ctrl + M → M |\n",
        "| Codeモードへ変更     | Ctrl + M → Y |\n",
        "| セルの実行           | Shift + Enter |\n",
        "| セルを上に追加       | Ctrl + M → A |\n",
        "| セルを下に追加       | Ctrl + M → B |\n",
        "| セルのコピー         | Ctrl + M → C |\n",
        "| セルの貼り付け       | Ctrl + M → V |\n",
        "| セルの消去           | Ctrl + M → D |\n",
        "| コメントアウト       | Ctrl + /      |\n",
        "\n",
        "コメントアウトとは、コード中で実行時に無視したい行やコメントを選択した状態で行う操作です。\n",
        "Python では、`#` の後に続く文字列は全て、コメントとして無視され、実行時に評価されることはありません。"
      ]
    },
    {
      "cell_type": "markdown",
      "metadata": {
        "id": "wGXRnHPXBPj2"
      },
      "source": [
        "###  GPU を使用する\n",
        "\n",
        "Colab では GPU を無料で使用することができます。\n",
        "初期設定では GPU を使用しない設定となっているため、GPU を使用する場合は設定を変更する必要があります。\n",
        "\n",
        "GPU を使用する場合は、画面上部のタブの中の 「Runtime」 (または「ランタイム」) をクリックし、「Change runtime type」 (または「ランタイムのタイプを変更」)を選択します。  \n",
        "\n",
        "そして、下記の画像の様に 「Hardware accelerator」  (または「ハードウェアアクセラレータ」)を GPU に変更します。  \n",
        "\n",
        "![GPUの設定](https://github.com/chainer/tutorials/blob/master/ja/images/01/01_08.png?raw=1)\n",
        "\n",
        "これで Colab 上で GPU を使用できるようになりました。\n",
        "\n"
      ]
    },
    {
      "cell_type": "markdown",
      "metadata": {
        "id": "gUQe5hH1BPj2"
      },
      "source": [
        "これで、チュートリアルの本編に入っていく準備が完了しました。次の章では、Python というプログラミング言語の基本について解説します。"
      ]
    },
    {
      "cell_type": "markdown",
      "metadata": {
        "id": "1wAQCl9iBPj2"
      },
      "source": [
        "<hr />\n",
        "<div class=\"alert alert-info\">\n",
        "**注釈 1**\n",
        "\n",
        "`ls` はシェルコマンドの 1 つです。\n",
        " \n",
        "[▲上へ戻る](#ref_note1)\n",
        "</div>\n"
      ]
    },
    {
      "cell_type": "code",
      "metadata": {
        "id": "_h3bjR8EAHdd"
      },
      "source": [
        ""
      ],
      "execution_count": null,
      "outputs": []
    }
  ]
}