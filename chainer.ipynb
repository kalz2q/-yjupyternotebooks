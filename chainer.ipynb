{
  "nbformat": 4,
  "nbformat_minor": 0,
  "metadata": {
    "colab": {
      "name": "chainer.ipynb",
      "provenance": [],
      "toc_visible": true,
      "authorship_tag": "ABX9TyONB3Y/lkLcbqdEKvl7MuDb",
      "include_colab_link": true
    },
    "kernelspec": {
      "name": "python3",
      "display_name": "Python 3"
    },
    "language_info": {
      "name": "python"
    }
  },
  "cells": [
    {
      "cell_type": "markdown",
      "metadata": {
        "id": "view-in-github",
        "colab_type": "text"
      },
      "source": [
        "<a href=\"https://colab.research.google.com/github/kalz2q/mycolabnotebooks/blob/master/chainer.ipynb\" target=\"_parent\"><img src=\"https://colab.research.google.com/assets/colab-badge.svg\" alt=\"Open In Colab\"/></a>"
      ]
    },
    {
      "cell_type": "markdown",
      "metadata": {
        "id": "UhyWMT5V_qeF"
      },
      "source": [
        "# メモ\n",
        "\n",
        "Chainer のチュートリアルサイトが Open in Colab ボタンのあるサイトだったのでそこから拾い読み\n",
        "\n",
        "https://colab.research.google.com/github/chainer/tutorials/"
      ]
    },
    {
      "cell_type": "markdown",
      "metadata": {
        "id": "copNjjCcBPjs"
      },
      "source": [
        "オンライン学習資料\n",
        "\n",
        "- 数学の知識\n",
        "- Python を用いたコーディングの基本\n",
        "- 機械学習・ディープラーニングの基礎的な理論\n",
        "- 画像認識や自然言語処理などに機械学習を応用する方法\n",
        "\n",
        "1. `Open in Colab` から Colab へ移動\n",
        "2. 自分のドライブへノートブックをコピーする\n",
        "3. コードを実行しながら読んでいく\n",
        "\n",
        "と言う手順が、本チュートリアルサイトのおすすめの利用方法"
      ]
    },
    {
      "cell_type": "markdown",
      "metadata": {
        "id": "lYLEBxPnBPj2"
      },
      "source": [
        "# Colab の便利なショートカット\n",
        "\n",
        "| 説明                 | コマンド      |\n",
        "| -------------------- | ------------- |\n",
        "| Markdownモードへ変更 | Ctrl + M → M |\n",
        "| Codeモードへ変更     | Ctrl + M → Y |\n",
        "| セルの実行           | Shift + Enter |\n",
        "| セルを上に追加       | Ctrl + M → A |\n",
        "| セルを下に追加       | Ctrl + M → B |\n",
        "| セルのコピー         | Ctrl + M → C |\n",
        "| セルの貼り付け       | Ctrl + M → V |\n",
        "| セルの消去           | Ctrl + M → D |\n",
        "| コメントアウト       | Ctrl + /      |\n"
      ]
    },
    {
      "cell_type": "markdown",
      "metadata": {
        "id": "D3QflLv0qdiy"
      },
      "source": [
        "# Python 入門\n"
      ]
    },
    {
      "cell_type": "markdown",
      "metadata": {
        "id": "jZNTuBQ54BSu"
      },
      "source": [
        "- 変数\n",
        "- 制御構文\n",
        "- 関数\n",
        "- クラス"
      ]
    },
    {
      "cell_type": "code",
      "metadata": {
        "id": "FChuhC8Jv9aa"
      },
      "source": [
        "a = 1"
      ],
      "execution_count": null,
      "outputs": []
    },
    {
      "cell_type": "code",
      "metadata": {
        "id": "qCdjuQqNv9ac"
      },
      "source": [
        "b = 1.2"
      ],
      "execution_count": null,
      "outputs": []
    },
    {
      "cell_type": "code",
      "metadata": {
        "id": "VLMovMgnv9ae"
      },
      "source": [
        "c = 'Chainer'"
      ],
      "execution_count": null,
      "outputs": []
    },
    {
      "cell_type": "code",
      "metadata": {
        "id": "RUflpSu6v9ag",
        "colab": {
          "base_uri": "https://localhost:8080/"
        },
        "outputId": "eb6128fb-d6d9-4e95-ce98-1f8620c12abc"
      },
      "source": [
        "type(a)"
      ],
      "execution_count": null,
      "outputs": [
        {
          "output_type": "execute_result",
          "data": {
            "text/plain": [
              "int"
            ]
          },
          "metadata": {
            "tags": []
          },
          "execution_count": 4
        }
      ]
    },
    {
      "cell_type": "code",
      "metadata": {
        "id": "YBtHAigUv9aj",
        "colab": {
          "base_uri": "https://localhost:8080/"
        },
        "outputId": "b1e7050a-429a-40e8-e873-df729e118552"
      },
      "source": [
        "type(b)"
      ],
      "execution_count": null,
      "outputs": [
        {
          "output_type": "execute_result",
          "data": {
            "text/plain": [
              "float"
            ]
          },
          "metadata": {
            "tags": []
          },
          "execution_count": 5
        }
      ]
    },
    {
      "cell_type": "code",
      "metadata": {
        "id": "6PaQmlMCv9an",
        "colab": {
          "base_uri": "https://localhost:8080/"
        },
        "outputId": "213ebb24-d0b9-442a-9219-9df5620c50f3"
      },
      "source": [
        "type(c)"
      ],
      "execution_count": null,
      "outputs": [
        {
          "output_type": "execute_result",
          "data": {
            "text/plain": [
              "str"
            ]
          },
          "metadata": {
            "tags": []
          },
          "execution_count": 6
        }
      ]
    },
    {
      "cell_type": "markdown",
      "metadata": {
        "id": "Chdmx6HGIfEV"
      },
      "source": [
        "Python では、`.` を含まない連続した数字を `int`、直前・直後も含め `.` が含まれる連続した数字を `float` だと自動的に解釈する。\n",
        "例えば、`7` や `365` は `int` だが、`2.718`、`.25`、`10.` などは `float` になる。\n",
        "\n",
        "実数の `0` は `0.0` とも `.0` とも `0.` とも書くことができる。"
      ]
    },
    {
      "cell_type": "code",
      "metadata": {
        "id": "sUKUmRgwIfEY",
        "colab": {
          "base_uri": "https://localhost:8080/"
        },
        "outputId": "ee38f281-88c4-48b8-d7da-ad34e73fa029"
      },
      "source": [
        "type(0)"
      ],
      "execution_count": null,
      "outputs": [
        {
          "output_type": "execute_result",
          "data": {
            "text/plain": [
              "int"
            ]
          },
          "metadata": {
            "tags": []
          },
          "execution_count": 7
        }
      ]
    },
    {
      "cell_type": "code",
      "metadata": {
        "id": "VOiscn8OIfEc",
        "colab": {
          "base_uri": "https://localhost:8080/"
        },
        "outputId": "e9d1c92c-003f-431b-9c2e-c8c95d321015"
      },
      "source": [
        "type(0.)"
      ],
      "execution_count": null,
      "outputs": [
        {
          "output_type": "execute_result",
          "data": {
            "text/plain": [
              "float"
            ]
          },
          "metadata": {
            "tags": []
          },
          "execution_count": 8
        }
      ]
    },
    {
      "cell_type": "code",
      "metadata": {
        "id": "442-_TpmIfEf",
        "colab": {
          "base_uri": "https://localhost:8080/"
        },
        "outputId": "6237e9af-c741-4d86-bed8-048f89e1f795"
      },
      "source": [
        "type(.0)"
      ],
      "execution_count": null,
      "outputs": [
        {
          "output_type": "execute_result",
          "data": {
            "text/plain": [
              "float"
            ]
          },
          "metadata": {
            "tags": []
          },
          "execution_count": 9
        }
      ]
    },
    {
      "cell_type": "markdown",
      "metadata": {
        "id": "TDJRJR5vIfFe"
      },
      "source": [
        "Python 3 では、 `/` 記号を用いて除算を行う場合、除数（割る数）と被除数（割られる数）が整数であっても、計算結果として実数が返る。\n",
        "計算結果として実数を返す除算のことを特に、**真の除算 (true division)** と言う。\n",
        "一方、商（整数部分）を返すような除算演算子として、 `//` 記号が用意されている。 `/` 記号を 2 回、間を空けずに繰り返す。計算結果として商を返す除算のことを、 **切り捨て除算 (floor division)** と呼ぶ。\n"
      ]
    },
    {
      "cell_type": "code",
      "metadata": {
        "id": "PFwX_4_pBbY0",
        "colab": {
          "base_uri": "https://localhost:8080/"
        },
        "outputId": "edcfb731-2660-428a-9efe-947b699b3cb6"
      },
      "source": [
        "# 整数と整数で切り捨て除算 -> 結果は整数\n",
        "3 // 2"
      ],
      "execution_count": null,
      "outputs": [
        {
          "output_type": "execute_result",
          "data": {
            "text/plain": [
              "1"
            ]
          },
          "metadata": {
            "tags": []
          },
          "execution_count": 10
        }
      ]
    },
    {
      "cell_type": "code",
      "metadata": {
        "id": "nCyFpJHKv9bh",
        "colab": {
          "base_uri": "https://localhost:8080/"
        },
        "outputId": "a405323a-584d-45fb-f181-8ab9f0f14003"
      },
      "source": [
        "# 整数と整数で切り捨て除算 -> 結果は整数\n",
        "4 // 2"
      ],
      "execution_count": null,
      "outputs": [
        {
          "output_type": "execute_result",
          "data": {
            "text/plain": [
              "2"
            ]
          },
          "metadata": {
            "tags": []
          },
          "execution_count": 11
        }
      ]
    },
    {
      "cell_type": "markdown",
      "metadata": {
        "id": "Mywi7srHv9bj"
      },
      "source": [
        "整数や実数と文字列の演算は基本的にエラーになる。"
      ]
    },
    {
      "cell_type": "code",
      "metadata": {
        "id": "ia8mAAr5v9bj"
      },
      "source": [
        "# a + c #=> TypeError: unsupported operand type(s) for +: 'int' and 'str'"
      ],
      "execution_count": null,
      "outputs": []
    },
    {
      "cell_type": "code",
      "metadata": {
        "id": "oKJmWQKcv9bl",
        "colab": {
          "base_uri": "https://localhost:8080/",
          "height": 35
        },
        "outputId": "ab1b25ae-f84d-4573-dfe3-a44b990593c4"
      },
      "source": [
        "# str と int で乗算\n",
        "c = 'Chainer'\n",
        "c * 3"
      ],
      "execution_count": null,
      "outputs": [
        {
          "output_type": "execute_result",
          "data": {
            "application/vnd.google.colaboratory.intrinsic+json": {
              "type": "string"
            },
            "text/plain": [
              "'ChainerChainerChainer'"
            ]
          },
          "metadata": {
            "tags": []
          },
          "execution_count": 13
        }
      ]
    },
    {
      "cell_type": "markdown",
      "metadata": {
        "id": "xPX4dcGUv9bm"
      },
      "source": [
        "上のコードは、`c` と言う文字列を `3` 回繰り返す、と言う意味になる。"
      ]
    },
    {
      "cell_type": "markdown",
      "metadata": {
        "id": "mmlvVMcIv9bm"
      },
      "source": [
        "`str` 同士は足し算を行うことができる。"
      ]
    },
    {
      "cell_type": "code",
      "metadata": {
        "id": "DOK7H8LJv9bn",
        "colab": {
          "base_uri": "https://localhost:8080/",
          "height": 35
        },
        "outputId": "c02d0ce9-d24a-4e0c-8db7-5b7f904eb199"
      },
      "source": [
        "name1 = 'Chainer'\n",
        "name2 = 'チュートリアル'\n",
        "\n",
        "name1 + name2"
      ],
      "execution_count": null,
      "outputs": [
        {
          "output_type": "execute_result",
          "data": {
            "application/vnd.google.colaboratory.intrinsic+json": {
              "type": "string"
            },
            "text/plain": [
              "'Chainerチュートリアル'"
            ]
          },
          "metadata": {
            "tags": []
          },
          "execution_count": 14
        }
      ]
    },
    {
      "cell_type": "markdown",
      "metadata": {
        "id": "QoCq87hkv9bq"
      },
      "source": [
        "整数と文字列を連結したいこともある。  \n",
        "例えば、`1` と言う整数に、 `'番目'` と言う文字列を足して `'1番目'` と言う文字列を作りたいような場合には、型を変換する**キャスト (cast)** と言う操作をする必要がある。\n",
        "\n",
        "何かを `int` にキャストしたい場合は `int()` と言う組み込み関数を使い、`str` にキャストしたい場合は `str()` と言う組み込み関数を使う。"
      ]
    },
    {
      "cell_type": "code",
      "metadata": {
        "id": "JxGEBOZzv9bw",
        "colab": {
          "base_uri": "https://localhost:8080/"
        },
        "outputId": "7c5d6616-83ca-4489-8d8d-98d355d9350d"
      },
      "source": [
        "type(str(1))"
      ],
      "execution_count": null,
      "outputs": [
        {
          "output_type": "execute_result",
          "data": {
            "text/plain": [
              "str"
            ]
          },
          "metadata": {
            "tags": []
          },
          "execution_count": 15
        }
      ]
    },
    {
      "cell_type": "code",
      "metadata": {
        "id": "2boojYfbv9by",
        "colab": {
          "base_uri": "https://localhost:8080/",
          "height": 35
        },
        "outputId": "84325a63-f000-490f-caf6-6111c1545975"
      },
      "source": [
        "str(1) + '番目'"
      ],
      "execution_count": null,
      "outputs": [
        {
          "output_type": "execute_result",
          "data": {
            "application/vnd.google.colaboratory.intrinsic+json": {
              "type": "string"
            },
            "text/plain": [
              "'1番目'"
            ]
          },
          "metadata": {
            "tags": []
          },
          "execution_count": 16
        }
      ]
    },
    {
      "cell_type": "markdown",
      "metadata": {
        "id": "36GMdun-IfFn"
      },
      "source": [
        "Python には、他にも幾つかの算術演算子が用意されている。\n",
        "\n",
        "| 演算 | 記号 |\n",
        "|------|------|\n",
        "| 累乗 | `**` |\n",
        "|  剰余　 | `%` |\n"
      ]
    },
    {
      "cell_type": "code",
      "metadata": {
        "id": "cK6zHxguIfFo",
        "colab": {
          "base_uri": "https://localhost:8080/"
        },
        "outputId": "e49f2932-4542-407f-c346-d4e3236b0fee"
      },
      "source": [
        "# 累乗\n",
        "2 ** 3"
      ],
      "execution_count": null,
      "outputs": [
        {
          "output_type": "execute_result",
          "data": {
            "text/plain": [
              "8"
            ]
          },
          "metadata": {
            "tags": []
          },
          "execution_count": 17
        }
      ]
    },
    {
      "cell_type": "markdown",
      "metadata": {
        "id": "g8RG0jTDv9b6"
      },
      "source": [
        "`%` を使って、`9` を `2` で割った余りを計算してみる。"
      ]
    },
    {
      "cell_type": "code",
      "metadata": {
        "id": "CbsiwPcev9b6",
        "colab": {
          "base_uri": "https://localhost:8080/"
        },
        "outputId": "7bfef9d8-9f07-435b-ecc9-63e466638093"
      },
      "source": [
        "# 剰余\n",
        "9 % 2"
      ],
      "execution_count": null,
      "outputs": [
        {
          "output_type": "execute_result",
          "data": {
            "text/plain": [
              "1"
            ]
          },
          "metadata": {
            "tags": []
          },
          "execution_count": 18
        }
      ]
    },
    {
      "cell_type": "markdown",
      "metadata": {
        "id": "Z62QzE-4Bc4a"
      },
      "source": [
        "比較演算子は、2 つの値の比較を行うための演算子である。\n",
        "\n",
        "| 演算 | 記号 |\n",
        "|------|------|\n",
        "| 小なり | `<` |\n",
        "| 大なり | `>` |\n",
        "| 以下 | `<=` |\n",
        "| 以上 | `>=` |\n",
        "| 等しい | `==` |\n",
        "| 等しくない | `!=` |\n"
      ]
    },
    {
      "cell_type": "markdown",
      "metadata": {
        "id": "2kAX065UJFle"
      },
      "source": [
        "エスケープシーケンス"
      ]
    },
    {
      "cell_type": "code",
      "metadata": {
        "id": "m3CBKEsrC4L-",
        "colab": {
          "base_uri": "https://localhost:8080/"
        },
        "outputId": "ae697d93-c645-4d3f-fea4-38c5e885e6ea"
      },
      "source": [
        "print('Hello\\nWorld')"
      ],
      "execution_count": null,
      "outputs": [
        {
          "output_type": "stream",
          "text": [
            "Hello\n",
            "World\n"
          ],
          "name": "stdout"
        }
      ]
    },
    {
      "cell_type": "code",
      "metadata": {
        "id": "FosQ7-tzC_45",
        "colab": {
          "base_uri": "https://localhost:8080/"
        },
        "outputId": "90ef3f79-340c-4733-e42d-a8e39b8b183e"
      },
      "source": [
        "print('Hello\\tWorld')"
      ],
      "execution_count": null,
      "outputs": [
        {
          "output_type": "stream",
          "text": [
            "Hello\tWorld\n"
          ],
          "name": "stdout"
        }
      ]
    },
    {
      "cell_type": "markdown",
      "metadata": {
        "id": "Udw0u53Lv9cO"
      },
      "source": [
        "**文字列メソッド**\n",
        "\n",
        "`str` 型の変数には、いくつか便利な機能がついている。\n",
        "\n",
        "例えば、その変数が持つ全ての文字を小文字や大文字に変換する `lower()` や `upper()` といった機能がある。\n",
        "\n",
        "型が持っている関数を**メソッド (method)** と呼ぶ。\n"
      ]
    },
    {
      "cell_type": "code",
      "metadata": {
        "id": "tDhIrHvev9cP",
        "colab": {
          "base_uri": "https://localhost:8080/",
          "height": 35
        },
        "outputId": "66d8022c-1865-4b0d-865a-7d05da385be0"
      },
      "source": [
        "name = 'Chainer'\n",
        "name"
      ],
      "execution_count": null,
      "outputs": [
        {
          "output_type": "execute_result",
          "data": {
            "application/vnd.google.colaboratory.intrinsic+json": {
              "type": "string"
            },
            "text/plain": [
              "'Chainer'"
            ]
          },
          "metadata": {
            "tags": []
          },
          "execution_count": 21
        }
      ]
    },
    {
      "cell_type": "code",
      "metadata": {
        "id": "pUb1lrhzv9cQ",
        "colab": {
          "base_uri": "https://localhost:8080/",
          "height": 35
        },
        "outputId": "42dd0659-e73d-4a23-dd9c-f71de0ed340b"
      },
      "source": [
        "# すべてを小文字に変換\n",
        "name.lower()"
      ],
      "execution_count": null,
      "outputs": [
        {
          "output_type": "execute_result",
          "data": {
            "application/vnd.google.colaboratory.intrinsic+json": {
              "type": "string"
            },
            "text/plain": [
              "'chainer'"
            ]
          },
          "metadata": {
            "tags": []
          },
          "execution_count": 22
        }
      ]
    },
    {
      "cell_type": "code",
      "metadata": {
        "id": "Ma-TiLUsv9cS",
        "colab": {
          "base_uri": "https://localhost:8080/",
          "height": 35
        },
        "outputId": "fe32c3ca-f639-4757-c75e-ae1bbb6e8e0e"
      },
      "source": [
        "# すべてを大文字に変換\n",
        "name.upper()"
      ],
      "execution_count": null,
      "outputs": [
        {
          "output_type": "execute_result",
          "data": {
            "application/vnd.google.colaboratory.intrinsic+json": {
              "type": "string"
            },
            "text/plain": [
              "'CHAINER'"
            ]
          },
          "metadata": {
            "tags": []
          },
          "execution_count": 23
        }
      ]
    },
    {
      "cell_type": "markdown",
      "metadata": {
        "id": "qvpJWVYkv9cT"
      },
      "source": [
        "文字列メソッドの一つに、 `format()` がある。\n",
        "\n",
        "これは、ある文字列の一部分に、あとから別な文字列を埋め込むために使用する。\n",
        "\n",
        "対象の文字列には `{}` で予め値を埋め込みたい場所を指定しておく。"
      ]
    },
    {
      "cell_type": "code",
      "metadata": {
        "id": "UBDe56zvv9cT",
        "colab": {
          "base_uri": "https://localhost:8080/",
          "height": 35
        },
        "outputId": "4b5f292b-1174-4abf-ecf8-db0a77f7c8fa"
      },
      "source": [
        "name = 'Chainer'\n",
        "\n",
        "'{} チュートリアルへようこそ'.format(name)"
      ],
      "execution_count": null,
      "outputs": [
        {
          "output_type": "execute_result",
          "data": {
            "application/vnd.google.colaboratory.intrinsic+json": {
              "type": "string"
            },
            "text/plain": [
              "'Chainer チュートリアルへようこそ'"
            ]
          },
          "metadata": {
            "tags": []
          },
          "execution_count": 24
        }
      ]
    },
    {
      "cell_type": "code",
      "metadata": {
        "id": "mN4n4NYMv9cV",
        "colab": {
          "base_uri": "https://localhost:8080/",
          "height": 35
        },
        "outputId": "eccbc6ed-695f-45dd-8300-506f1829988f"
      },
      "source": [
        "name1 = 'Chainer'\n",
        "name2 = 'チュートリアル'\n",
        "\n",
        "'{} {}へようこそ'.format(name1, name2)"
      ],
      "execution_count": null,
      "outputs": [
        {
          "output_type": "execute_result",
          "data": {
            "application/vnd.google.colaboratory.intrinsic+json": {
              "type": "string"
            },
            "text/plain": [
              "'Chainer チュートリアルへようこそ'"
            ]
          },
          "metadata": {
            "tags": []
          },
          "execution_count": 25
        }
      ]
    },
    {
      "cell_type": "markdown",
      "metadata": {
        "id": "G_LHyH7Uv9cW"
      },
      "source": [
        "`format()` メソッドを用いると `int` 型 や `float` 型の変数を、`str` 型へ明示的にキャストすることなく文字列に埋め込むことができる。"
      ]
    },
    {
      "cell_type": "code",
      "metadata": {
        "id": "hnNv40_Pv9cX",
        "colab": {
          "base_uri": "https://localhost:8080/",
          "height": 35
        },
        "outputId": "32e27eaa-7117-48f5-81dc-5d5c37414b03"
      },
      "source": [
        "version = 3.7\n",
        "\n",
        "'Python {}'.format(version)"
      ],
      "execution_count": null,
      "outputs": [
        {
          "output_type": "execute_result",
          "data": {
            "application/vnd.google.colaboratory.intrinsic+json": {
              "type": "string"
            },
            "text/plain": [
              "'Python 3.7'"
            ]
          },
          "metadata": {
            "tags": []
          },
          "execution_count": 26
        }
      ]
    },
    {
      "cell_type": "markdown",
      "metadata": {
        "id": "Pm4cvrnQv9cY"
      },
      "source": [
        "**浮動小数点数がもつメソッド**\n",
        "\n",
        "`int` 型の変数や、`float` 型の変数にも、その型の特徴に合わせた機能が、メソッドとして提供されている。\n",
        "\n",
        "例えば、`float` 型の変数には、`as_integer_ratio()` と言うメソッドがあり、比がその浮動小数点数の値となるような整数の組を返す。\n",
        "\n",
        "例えば、0.5 と言う値は、分数で表すと $\\frac{1}{2}$ である。\n",
        "これは、以下のようにして調べることができる。"
      ]
    },
    {
      "cell_type": "code",
      "metadata": {
        "id": "pFPtOpz-v9cY",
        "colab": {
          "base_uri": "https://localhost:8080/"
        },
        "outputId": "90fcd822-0a7d-4081-e3ec-ac8d8938d030"
      },
      "source": [
        "0.5.as_integer_ratio()"
      ],
      "execution_count": null,
      "outputs": [
        {
          "output_type": "execute_result",
          "data": {
            "text/plain": [
              "(1, 2)"
            ]
          },
          "metadata": {
            "tags": []
          },
          "execution_count": 27
        }
      ]
    },
    {
      "cell_type": "markdown",
      "metadata": {
        "id": "EZNdyQZLv9cZ"
      },
      "source": [
        "0.25 であれば、$\\frac{1}{4}$ となる。"
      ]
    },
    {
      "cell_type": "code",
      "metadata": {
        "id": "OuwnCcupv9cZ",
        "colab": {
          "base_uri": "https://localhost:8080/"
        },
        "outputId": "817d2a44-d8e2-4547-e0ea-97267e26c4d9"
      },
      "source": [
        "0.25.as_integer_ratio()"
      ],
      "execution_count": null,
      "outputs": [
        {
          "output_type": "execute_result",
          "data": {
            "text/plain": [
              "(1, 4)"
            ]
          },
          "metadata": {
            "tags": []
          },
          "execution_count": 28
        }
      ]
    },
    {
      "cell_type": "code",
      "metadata": {
        "id": "DoT2xU16nJkT",
        "colab": {
          "base_uri": "https://localhost:8080/"
        },
        "outputId": "2698307b-f988-4699-f8a8-f7f3cc544739"
      },
      "source": [
        "type(0.25.as_integer_ratio())"
      ],
      "execution_count": null,
      "outputs": [
        {
          "output_type": "execute_result",
          "data": {
            "text/plain": [
              "tuple"
            ]
          },
          "metadata": {
            "tags": []
          },
          "execution_count": 1
        }
      ]
    },
    {
      "cell_type": "markdown",
      "metadata": {
        "id": "VsBRE0Wyv9ca"
      },
      "source": [
        "**複合データ型**\n",
        "\n",
        "以下の 3つの複合データ型がある。\n",
        "\n",
        "- リスト (list)\n",
        "- タプル (tuple)\n",
        "- 辞書 (dictionary)"
      ]
    },
    {
      "cell_type": "markdown",
      "metadata": {
        "id": "S1TLaajMDtmr"
      },
      "source": [
        "**リスト**\n",
        "\n",
        "複数の変数を `,` （カンマ）区切りで並べ、それらの全体を `[ ]` で囲んだものを **リスト (list)** と言う。\n",
        "リストに含まれる値を**要素**と呼び、整数の**インデックス** （要素番号）を使ってアクセスする。"
      ]
    },
    {
      "cell_type": "code",
      "metadata": {
        "id": "MJ7ZYj82D-a1",
        "colab": {
          "base_uri": "https://localhost:8080/"
        },
        "outputId": "60bb3513-181b-498d-c074-5dc8b55f74b1"
      },
      "source": [
        "# リスト型の変数を定義\n",
        "numbers = [4, 5, 6, 7]\n",
        "\n",
        "# 値の確認\n",
        "print(numbers)"
      ],
      "execution_count": null,
      "outputs": [
        {
          "output_type": "stream",
          "text": [
            "[4, 5, 6, 7]\n"
          ],
          "name": "stdout"
        }
      ]
    },
    {
      "cell_type": "code",
      "metadata": {
        "id": "HH3NT-y4EC4Z",
        "colab": {
          "base_uri": "https://localhost:8080/"
        },
        "outputId": "90bc723a-e26e-43de-f8bb-37dc077aee02"
      },
      "source": [
        "# 型の確認\n",
        "type(numbers)"
      ],
      "execution_count": null,
      "outputs": [
        {
          "output_type": "execute_result",
          "data": {
            "text/plain": [
              "list"
            ]
          },
          "metadata": {
            "tags": []
          },
          "execution_count": 30
        }
      ]
    },
    {
      "cell_type": "markdown",
      "metadata": {
        "id": "Rk_jY_TTIfGY"
      },
      "source": [
        "`numbers` には 4 つの数値が入っており、**要素数** は 4 である。\n",
        "リストの要素数は、リストの**長さ (length)** とも呼ばれ、組み込み関数の `len()` を用いて取得することができる。\n",
        "\n",
        "\n"
      ]
    },
    {
      "cell_type": "code",
      "metadata": {
        "id": "DK6aH0AaoELi",
        "colab": {
          "base_uri": "https://localhost:8080/"
        },
        "outputId": "4b4e9c2d-9845-4fb3-e743-5ecd91f4662e"
      },
      "source": [
        "# 要素数の確認\n",
        "numbers = [4, 5, 6, 7]\n",
        "print(len(numbers))\n",
        "numbers.append(3)\n",
        "print(len(numbers))"
      ],
      "execution_count": null,
      "outputs": [
        {
          "output_type": "stream",
          "text": [
            "4\n",
            "5\n"
          ],
          "name": "stdout"
        }
      ]
    },
    {
      "cell_type": "markdown",
      "metadata": {
        "id": "jzXvSyLT2-HH"
      },
      "source": [
        "上のコードで len() と append() の使い方が違う。 len は組み込み関数で、append は list のメソッドだとよく説明されるが、言葉の使い方がなんとなく変じゃないか。 それでは len が関数で append が関数ではないように読めてしまう。 メソッドは型(クラス)が持っている関数で、関数と言う意味では同じである。\n",
        "\n",
        "`dir(numbers)`\n",
        "\n",
        "とするとリストの持っているメソッド(関数)がわかってその中に `__len__` と言うのがあるので、次のように使ってみると使える。  \n",
        "\n",
        "歴史的な判断かもしれない。\n"
      ]
    },
    {
      "cell_type": "code",
      "metadata": {
        "id": "A8IYCloV3tyZ",
        "colab": {
          "base_uri": "https://localhost:8080/"
        },
        "outputId": "e9c4098a-9197-407b-f426-f264a675bc74"
      },
      "source": [
        "numbers.__len__()"
      ],
      "execution_count": null,
      "outputs": [
        {
          "output_type": "execute_result",
          "data": {
            "text/plain": [
              "5"
            ]
          },
          "metadata": {
            "tags": []
          },
          "execution_count": 32
        }
      ]
    },
    {
      "cell_type": "markdown",
      "metadata": {
        "id": "XlILYof5GKPM"
      },
      "source": [
        "`dir()` とすると出てくる一覧に `__builtin__` と言うのがあるので調べてみる。"
      ]
    },
    {
      "cell_type": "code",
      "metadata": {
        "id": "Vcz8tX7d4r_g"
      },
      "source": [
        "# dir(__builtin__) #=? 結構な数の組み込み関数があるのがわかる"
      ],
      "execution_count": null,
      "outputs": []
    },
    {
      "cell_type": "code",
      "metadata": {
        "colab": {
          "base_uri": "https://localhost:8080/"
        },
        "id": "e74_gj0VjvcO",
        "outputId": "d7be56f3-d717-4fd8-e57f-aba3a05a794f"
      },
      "source": [
        "# 実験\n",
        "print(abs(-5))\n",
        "print((-5).__abs__())"
      ],
      "execution_count": null,
      "outputs": [
        {
          "output_type": "stream",
          "text": [
            "5\n",
            "5\n"
          ],
          "name": "stdout"
        }
      ]
    },
    {
      "cell_type": "markdown",
      "metadata": {
        "id": "RiJeRUdrEEUq"
      },
      "source": [
        "リストの各要素へアクセスする方法はいくつかある。\n",
        "最も簡単な方法は bracket `[]` を使ってアクセスしたい要素番号を指定して、リストから値を取り出したり、その位置の値を書き換えたりする方法である。\n",
        "\n",
        "先頭の要素のインデックス番号は `0` である。\n"
      ]
    },
    {
      "cell_type": "code",
      "metadata": {
        "id": "DeCsf_L1Em29",
        "colab": {
          "base_uri": "https://localhost:8080/"
        },
        "outputId": "1643a8fe-7d65-438b-daa0-a78b5c50cd22"
      },
      "source": [
        "# 先頭の要素にアクセス\n",
        "numbers[0]"
      ],
      "execution_count": null,
      "outputs": [
        {
          "output_type": "execute_result",
          "data": {
            "text/plain": [
              "4"
            ]
          },
          "metadata": {
            "tags": []
          },
          "execution_count": 35
        }
      ]
    },
    {
      "cell_type": "code",
      "metadata": {
        "id": "ox-Ma4yv5xqO",
        "colab": {
          "base_uri": "https://localhost:8080/"
        },
        "outputId": "dddbea64-f330-44c9-dea9-e64a23d108c9"
      },
      "source": [
        "# 先頭から3番目の要素にアクセス\n",
        "numbers[2]"
      ],
      "execution_count": null,
      "outputs": [
        {
          "output_type": "execute_result",
          "data": {
            "text/plain": [
              "6"
            ]
          },
          "metadata": {
            "tags": []
          },
          "execution_count": 36
        }
      ]
    },
    {
      "cell_type": "code",
      "metadata": {
        "id": "ve-ETFIrv9cg"
      },
      "source": [
        "# 2 番目の要素を書き換え\n",
        "numbers[1] = 10"
      ],
      "execution_count": null,
      "outputs": []
    },
    {
      "cell_type": "code",
      "metadata": {
        "id": "AXpG-tqNv9cg",
        "colab": {
          "base_uri": "https://localhost:8080/"
        },
        "outputId": "8d48bc8f-73bc-4fd4-8393-4f5fbdbfd00a"
      },
      "source": [
        "# 値の確認\n",
        "numbers"
      ],
      "execution_count": null,
      "outputs": [
        {
          "output_type": "execute_result",
          "data": {
            "text/plain": [
              "[4, 10, 6, 7, 3]"
            ]
          },
          "metadata": {
            "tags": []
          },
          "execution_count": 38
        }
      ]
    },
    {
      "cell_type": "markdown",
      "metadata": {
        "id": "kOVYiVOwIfGW"
      },
      "source": [
        "また、インデックスに負の値を指定すると、末尾からの位置となる。\n",
        "要素番号 `-1` で最後の要素を参照することができる。"
      ]
    },
    {
      "cell_type": "code",
      "metadata": {
        "id": "WSaIdvb4IfGX",
        "colab": {
          "base_uri": "https://localhost:8080/"
        },
        "outputId": "7c091071-bbb5-487b-918e-b9a4995a6594"
      },
      "source": [
        "# 末尾の要素にアクセス\n",
        "numbers[-1]"
      ],
      "execution_count": null,
      "outputs": [
        {
          "output_type": "execute_result",
          "data": {
            "text/plain": [
              "3"
            ]
          },
          "metadata": {
            "tags": []
          },
          "execution_count": 39
        }
      ]
    },
    {
      "cell_type": "code",
      "metadata": {
        "id": "jP5fkl3V54WL",
        "colab": {
          "base_uri": "https://localhost:8080/"
        },
        "outputId": "437c6a1c-a38d-4923-b2de-a115346f0277"
      },
      "source": [
        "# 末尾から3番目の要素にアクセス\n",
        "numbers[-3]"
      ],
      "execution_count": null,
      "outputs": [
        {
          "output_type": "execute_result",
          "data": {
            "text/plain": [
              "6"
            ]
          },
          "metadata": {
            "tags": []
          },
          "execution_count": 40
        }
      ]
    },
    {
      "cell_type": "markdown",
      "metadata": {
        "id": "DLzLjTQ8EoG9"
      },
      "source": [
        "次に、リストから一度に複数の要素を取り出す操作である**スライス (slice)** を紹介する。\n",
        "`開始位置:終了位置` のようにコロン `:` を用いてインデックスを範囲指定し、複数の部分要素にアクセスする。\n",
        "このスライスの処理は、この後の章でも多用するため、慣れておく。\n",
        "\n",
        "例えば、先頭から 2 つの要素を取り出したい場合、以下のように指定する。"
      ]
    },
    {
      "cell_type": "code",
      "metadata": {
        "id": "MPI2H38DEy2N",
        "colab": {
          "base_uri": "https://localhost:8080/"
        },
        "outputId": "f0e476c1-57e5-491d-cbfb-72c79138afb2"
      },
      "source": [
        "numbers[0:2]"
      ],
      "execution_count": null,
      "outputs": [
        {
          "output_type": "execute_result",
          "data": {
            "text/plain": [
              "[4, 10]"
            ]
          },
          "metadata": {
            "tags": []
          },
          "execution_count": 41
        }
      ]
    },
    {
      "cell_type": "code",
      "metadata": {
        "id": "MZVbaUgjJztn",
        "colab": {
          "base_uri": "https://localhost:8080/"
        },
        "outputId": "3bdad51c-b21b-43b5-88fe-10f497fe572d"
      },
      "source": [
        "numbers"
      ],
      "execution_count": null,
      "outputs": [
        {
          "output_type": "execute_result",
          "data": {
            "text/plain": [
              "[4, 10, 6, 7, 3]"
            ]
          },
          "metadata": {
            "tags": []
          },
          "execution_count": 42
        }
      ]
    },
    {
      "cell_type": "code",
      "metadata": {
        "id": "urNpvh3RJk1l",
        "colab": {
          "base_uri": "https://localhost:8080/"
        },
        "outputId": "c50e3217-b742-4a11-cb4c-459caf1de9c9"
      },
      "source": [
        "slice(0,2)"
      ],
      "execution_count": null,
      "outputs": [
        {
          "output_type": "execute_result",
          "data": {
            "text/plain": [
              "slice(0, 2, None)"
            ]
          },
          "metadata": {
            "tags": []
          },
          "execution_count": 43
        }
      ]
    },
    {
      "cell_type": "code",
      "metadata": {
        "id": "utaEdITbIQF-",
        "colab": {
          "base_uri": "https://localhost:8080/"
        },
        "outputId": "1c2a0f4a-6322-41cc-bc89-1dea411a07b9"
      },
      "source": [
        "numbers[slice(0,2)]"
      ],
      "execution_count": null,
      "outputs": [
        {
          "output_type": "execute_result",
          "data": {
            "text/plain": [
              "[4, 10]"
            ]
          },
          "metadata": {
            "tags": []
          },
          "execution_count": 44
        }
      ]
    },
    {
      "cell_type": "markdown",
      "metadata": {
        "id": "gK6_JXXTE2AY"
      },
      "source": [
        "`開始位置:終了位置` と指定することで、開始位置から**終了位置のひとつ手前**までの要素を抽出する。 \n",
        "終了位置に指定したインデックスの値は含まれないことに注意する。\n",
        "\n",
        "また、指定する開始番号が `0` である場合、以下のような略記がよく用いられる。"
      ]
    },
    {
      "cell_type": "code",
      "metadata": {
        "id": "hBo2_C5aFPHR",
        "colab": {
          "base_uri": "https://localhost:8080/"
        },
        "outputId": "cc239931-b7ea-4ebf-c344-d3a36a494ccc"
      },
      "source": [
        "numbers[:2]"
      ],
      "execution_count": null,
      "outputs": [
        {
          "output_type": "execute_result",
          "data": {
            "text/plain": [
              "[4, 10]"
            ]
          },
          "metadata": {
            "tags": []
          },
          "execution_count": 45
        }
      ]
    },
    {
      "cell_type": "markdown",
      "metadata": {
        "id": "Qqem8sujFQVP"
      },
      "source": [
        "このように、先頭のインデックスは省略することができる。\n",
        "このような記法を使う場合は、終了位置を示す数字を**取り出したい要素の個数**と捉えて、**先頭から 2 つを取り出す**操作だと考えると分かりやすくなる。\n",
        "\n",
        "同様に、ある位置からリストの末尾までを取り出す場合も、終了位置のインデックスを省略することができる。\n",
        "例えば、2 個目の要素から最後までを取り出すには以下のようにする。"
      ]
    },
    {
      "cell_type": "code",
      "metadata": {
        "id": "gItFJqoUFYzX",
        "colab": {
          "base_uri": "https://localhost:8080/"
        },
        "outputId": "92655936-a8bc-47cb-8f4a-fa1fbd17df1a"
      },
      "source": [
        "numbers[1:]"
      ],
      "execution_count": null,
      "outputs": [
        {
          "output_type": "execute_result",
          "data": {
            "text/plain": [
              "[10, 6, 7, 3]"
            ]
          },
          "metadata": {
            "tags": []
          },
          "execution_count": 46
        }
      ]
    },
    {
      "cell_type": "markdown",
      "metadata": {
        "id": "RRlf3vqOv9cq"
      },
      "source": [
        "この場合は、取り出される要素の個数は `len(numbers) - 1` 個となることに注意する。\n",
        "\n",
        "以上から、`numbers[:2]` と `numbers[2:]` は、ちょうど 2 個目の要素を境に `numbers` の要素を 2 分割した前半部分と後半部分になっている。\n",
        "ここで、インデックスが 2 の要素自体は**後半部に含まれる**と言うことに注意する。\n",
        "\n",
        "また、開始位置も終了位置も省略した場合は、すべての要素が選択される。"
      ]
    },
    {
      "cell_type": "code",
      "metadata": {
        "id": "nav8WoxNv9cq",
        "colab": {
          "base_uri": "https://localhost:8080/"
        },
        "outputId": "196ab186-49c1-4828-8763-a17e602aaabf"
      },
      "source": [
        "numbers[:]"
      ],
      "execution_count": null,
      "outputs": [
        {
          "output_type": "execute_result",
          "data": {
            "text/plain": [
              "[4, 10, 6, 7, 3]"
            ]
          },
          "metadata": {
            "tags": []
          },
          "execution_count": 47
        }
      ]
    },
    {
      "cell_type": "markdown",
      "metadata": {
        "id": "9qPrP6sYv9cs"
      },
      "source": [
        "現状では、`numbers[:]` と `numbers` の結果が同じであるため、どのように使用するか疑問に思われるかも知れない。\n",
        "しかし、後の章では NumPy と言うライブラリを用いてリストの中にリストが入ったような**多次元配列 (multidimensional array)** を扱っていく。\n",
        "\n",
        "そして多次元配列を用いて行列を表す場合には、`0 列目のすべての値`を抽出するために `[:, 0]` のような記法を用いるケースが登場する。\n",
        "これは Python 標準の機能ではないが、Python 標準のスライス表記を拡張したものになっている。"
      ]
    },
    {
      "cell_type": "code",
      "metadata": {
        "id": "miinlVTDLPcD",
        "colab": {
          "base_uri": "https://localhost:8080/"
        },
        "outputId": "51bba5a9-c934-4865-8be7-57031444c210"
      },
      "source": [
        "x = [[1,2],[3,4]]\n",
        "x[:][0]"
      ],
      "execution_count": null,
      "outputs": [
        {
          "output_type": "execute_result",
          "data": {
            "text/plain": [
              "[1, 2]"
            ]
          },
          "metadata": {
            "tags": []
          },
          "execution_count": 48
        }
      ]
    },
    {
      "cell_type": "markdown",
      "metadata": {
        "id": "AyoiOU5OFfET"
      },
      "source": [
        "リストは数値以外に、文字列を扱うこともでき、また複数の型を同一のリスト内に混在させることもできる。"
      ]
    },
    {
      "cell_type": "code",
      "metadata": {
        "id": "9JglgRiWFyo8",
        "colab": {
          "base_uri": "https://localhost:8080/"
        },
        "outputId": "87749c78-eb8b-4948-9c6e-2aeca15de69d"
      },
      "source": [
        "# 文字列を格納したリスト\n",
        "array = ['hello', 'world']\n",
        "array"
      ],
      "execution_count": null,
      "outputs": [
        {
          "output_type": "execute_result",
          "data": {
            "text/plain": [
              "['hello', 'world']"
            ]
          },
          "metadata": {
            "tags": []
          },
          "execution_count": 49
        }
      ]
    },
    {
      "cell_type": "code",
      "metadata": {
        "id": "Q6UvldPtL1Mh",
        "colab": {
          "base_uri": "https://localhost:8080/"
        },
        "outputId": "bd942986-0ba6-4d63-d121-641c42e0d65a"
      },
      "source": [
        "len('hello')"
      ],
      "execution_count": null,
      "outputs": [
        {
          "output_type": "execute_result",
          "data": {
            "text/plain": [
              "5"
            ]
          },
          "metadata": {
            "tags": []
          },
          "execution_count": 50
        }
      ]
    },
    {
      "cell_type": "code",
      "metadata": {
        "id": "Kcf8MyrBv9cu",
        "colab": {
          "base_uri": "https://localhost:8080/"
        },
        "outputId": "87794bbc-78ff-412c-be1d-511e7d6288f4"
      },
      "source": [
        "# 複数の型が混在したリスト\n",
        "array = [1, 1.2, 'Chainer']\n",
        "array"
      ],
      "execution_count": null,
      "outputs": [
        {
          "output_type": "execute_result",
          "data": {
            "text/plain": [
              "[1, 1.2, 'Chainer']"
            ]
          },
          "metadata": {
            "tags": []
          },
          "execution_count": 51
        }
      ]
    },
    {
      "cell_type": "markdown",
      "metadata": {
        "id": "9fKT2sjNv9cu"
      },
      "source": [
        "リストにリストを代入することもできる。\n",
        "また、Python 標準のリストでは入れ子になったリスト内の要素数がばらばらでも問題ない。"
      ]
    },
    {
      "cell_type": "code",
      "metadata": {
        "id": "Q8JxfHS8v9cv",
        "colab": {
          "base_uri": "https://localhost:8080/"
        },
        "outputId": "f0b03409-97d2-4a0e-aed7-e98a3d8ad6c5"
      },
      "source": [
        "array = [[1, 1.2, 'Chainer', True], [3.2, 'Tutorial']]\n",
        "array"
      ],
      "execution_count": null,
      "outputs": [
        {
          "output_type": "execute_result",
          "data": {
            "text/plain": [
              "[[1, 1.2, 'Chainer', True], [3.2, 'Tutorial']]"
            ]
          },
          "metadata": {
            "tags": []
          },
          "execution_count": 52
        }
      ]
    },
    {
      "cell_type": "markdown",
      "metadata": {
        "id": "5lYy-LP6F3wP"
      },
      "source": [
        "リストを使う際に頻出する操作として、**リストへの値の追加**がある。\n",
        "リスト型には `append()` と言うメソッドが定義されており、これを用いてリストの末尾に新しい値を追加することができる。\n",
        "\n",
        "上記の `array` に値を追加してみる。"
      ]
    },
    {
      "cell_type": "code",
      "metadata": {
        "id": "RmgtEN8Lv9cw"
      },
      "source": [
        "# 末尾に 2.5 を追加\n",
        "array.append(2.5)"
      ],
      "execution_count": null,
      "outputs": []
    },
    {
      "cell_type": "code",
      "metadata": {
        "id": "2E8q5y94v9cx",
        "colab": {
          "base_uri": "https://localhost:8080/"
        },
        "outputId": "8da9724a-831b-43d7-edc1-171ae7f7222b"
      },
      "source": [
        "# 値の確認\n",
        "array"
      ],
      "execution_count": null,
      "outputs": [
        {
          "output_type": "execute_result",
          "data": {
            "text/plain": [
              "[[1, 1.2, 'Chainer', True], [3.2, 'Tutorial'], 2.5]"
            ]
          },
          "metadata": {
            "tags": []
          },
          "execution_count": 54
        }
      ]
    },
    {
      "cell_type": "markdown",
      "metadata": {
        "id": "y5dQJA57v9cz"
      },
      "source": [
        "また、今後頻出する処理として、**空のリスト**を定義しておき、そこに後段の処理の中で適宜新たな要素を追加していくと言う使い方がある。"
      ]
    },
    {
      "cell_type": "code",
      "metadata": {
        "id": "00AEmnpxGPky",
        "colab": {
          "base_uri": "https://localhost:8080/"
        },
        "outputId": "7d02694d-1098-4230-bf88-b1635d923330"
      },
      "source": [
        "# 空のリストを定義\n",
        "array = []\n",
        "\n",
        "# 空のリストに要素を追加\n",
        "array.append('Chainer')\n",
        "array.append('チュートリアル')\n",
        "\n",
        "array"
      ],
      "execution_count": null,
      "outputs": [
        {
          "output_type": "execute_result",
          "data": {
            "text/plain": [
              "['Chainer', 'チュートリアル']"
            ]
          },
          "metadata": {
            "tags": []
          },
          "execution_count": 55
        }
      ]
    },
    {
      "cell_type": "markdown",
      "metadata": {
        "id": "CV1072C3M7Qy"
      },
      "source": [
        "# タプル\n",
        "\n",
        "**タプル (tuple)** はリストと同様に複数の要素をまとめた型だが、リストとは異なる点として、定義した後に**中の要素を変更できない**と言う性質を持つ。\n",
        "\n",
        "タプルの定義には丸括弧 parenthesis `( )`を用いる。"
      ]
    },
    {
      "cell_type": "code",
      "metadata": {
        "id": "mo4lGZN6NGAI",
        "colab": {
          "base_uri": "https://localhost:8080/"
        },
        "outputId": "614d3b1c-0643-4991-cfd5-0b880c0fefb2"
      },
      "source": [
        "# タプルを定義\n",
        "array = (4, 5, 6, 7)\n",
        "array"
      ],
      "execution_count": null,
      "outputs": [
        {
          "output_type": "execute_result",
          "data": {
            "text/plain": [
              "(4, 5, 6, 7)"
            ]
          },
          "metadata": {
            "tags": []
          },
          "execution_count": 56
        }
      ]
    },
    {
      "cell_type": "code",
      "metadata": {
        "id": "LEUgknZov9c3",
        "colab": {
          "base_uri": "https://localhost:8080/"
        },
        "outputId": "014f9ea3-87b1-4a37-b49d-722fc67342df"
      },
      "source": [
        "# 型の確認\n",
        "type(array)"
      ],
      "execution_count": null,
      "outputs": [
        {
          "output_type": "execute_result",
          "data": {
            "text/plain": [
              "tuple"
            ]
          },
          "metadata": {
            "tags": []
          },
          "execution_count": 57
        }
      ]
    },
    {
      "cell_type": "markdown",
      "metadata": {
        "id": "9w2M0A02v9c3"
      },
      "source": [
        "タプルの定義する際に `( )` を使用したため、要素へのアクセスも `( )` を使うように感じるかもしれないが、実際にはリストと同様 `[ ]` を使用する。"
      ]
    },
    {
      "cell_type": "code",
      "metadata": {
        "id": "Fq7zIHMfNIXG",
        "colab": {
          "base_uri": "https://localhost:8080/"
        },
        "outputId": "49c9a599-c5b0-4e3e-becc-95138510da6f"
      },
      "source": [
        "# 先頭の要素へアクセス\n",
        "array[0]"
      ],
      "execution_count": null,
      "outputs": [
        {
          "output_type": "execute_result",
          "data": {
            "text/plain": [
              "4"
            ]
          },
          "metadata": {
            "tags": []
          },
          "execution_count": 58
        }
      ]
    },
    {
      "cell_type": "code",
      "metadata": {
        "id": "3XdB2S5pv9c4",
        "colab": {
          "base_uri": "https://localhost:8080/"
        },
        "outputId": "761646ba-db9d-40d7-e90c-6084d8bb77b2"
      },
      "source": [
        "# リストと同様、スライスも使用可能\n",
        "array[:3]"
      ],
      "execution_count": null,
      "outputs": [
        {
          "output_type": "execute_result",
          "data": {
            "text/plain": [
              "(4, 5, 6)"
            ]
          },
          "metadata": {
            "tags": []
          },
          "execution_count": 59
        }
      ]
    },
    {
      "cell_type": "markdown",
      "metadata": {
        "id": "KjdkYtSmNSl3"
      },
      "source": [
        "先述の通り、タプルは各要素の値を変更することができない。\n",
        "この性質は、定数項などプログラムの途中で書き換わってしまうことが望ましくないものをまとめて扱うのに便利である。\n",
        "\n",
        "実際に、タプルの要素に値の書き換えを行うとエラーが発生する。"
      ]
    },
    {
      "cell_type": "code",
      "metadata": {
        "id": "DRoToOjUNI51"
      },
      "source": [
        "# array[0] = 10 #=> TypeError: 'tuple' object does not support item assignment"
      ],
      "execution_count": null,
      "outputs": []
    },
    {
      "cell_type": "markdown",
      "metadata": {
        "id": "6aq_3yNZv9c6"
      },
      "source": [
        "`tuple` のように中身が変更できない性質のことを**イミュータブル (immutable)**であると言う。反対に、`list` のように中身が変更できる性質のことを**ミュータブル (mutable)**であると言う\n",
        "\n",
        "タプルも Chainer でデータセットを扱うときなどに頻出する型である。その性質と取り扱い方を覚えておく。"
      ]
    },
    {
      "cell_type": "markdown",
      "metadata": {
        "id": "nV8Lp5jLNO66"
      },
      "source": [
        "# 辞書\n",
        "\n",
        "リストやタプルでは、複数の値をまとめて扱うことができた。\n",
        "\n",
        "定期テストの結果をまとめることを考えてみよう。\n",
        "\n",
        "例えば、数学 90 点、理科 75 点、英語 80 点だったと言う結果を `scores = [90, 75, 80]` とリストで表してみる。\n",
        "しかし、これでは**何番目がどの教科の点数に対応するか**、一見して分かりにくい。\n",
        "\n",
        "Python の `dict` 型は、**キー (key)** とそれに対応する**値 (value)** をセットにして格納することができる型であり、このようなときに便利である。\n",
        "\n",
        "リストやタプルでは、各要素にアクセスする際に整数のインデックスを用いていたが、辞書ではキーでインデックス化されているため、整数や文字列など、色々なものを使って要素を指定することができる。\n",
        "\n",
        "辞書は brace `{}` を用いて定義し、要素にアクセスする際には、リストやタプルと同様に `[ ]` を使用し、`[ ]` の中にキーを指定して対応する値を取り出す。"
      ]
    },
    {
      "cell_type": "code",
      "metadata": {
        "id": "NyxphI5fNMO8",
        "colab": {
          "base_uri": "https://localhost:8080/"
        },
        "outputId": "b4965eac-57ee-49da-9228-e1cc29fb9143"
      },
      "source": [
        "# 辞書を定義\n",
        "scores = {'Math': 90, 'Science': 75, 'English': 80 }\n",
        "scores"
      ],
      "execution_count": null,
      "outputs": [
        {
          "output_type": "execute_result",
          "data": {
            "text/plain": [
              "{'English': 80, 'Math': 90, 'Science': 75}"
            ]
          },
          "metadata": {
            "tags": []
          },
          "execution_count": 61
        }
      ]
    },
    {
      "cell_type": "code",
      "metadata": {
        "id": "M-V2XOEdNu2a",
        "colab": {
          "base_uri": "https://localhost:8080/"
        },
        "outputId": "452bc892-8161-4414-dc2e-2515bea4cf5e"
      },
      "source": [
        "# key が Math の value にアクセス\n",
        "scores['Math'] "
      ],
      "execution_count": null,
      "outputs": [
        {
          "output_type": "execute_result",
          "data": {
            "text/plain": [
              "90"
            ]
          },
          "metadata": {
            "tags": []
          },
          "execution_count": 62
        }
      ]
    },
    {
      "cell_type": "code",
      "metadata": {
        "id": "TA5V7SUBv9c8",
        "colab": {
          "base_uri": "https://localhost:8080/"
        },
        "outputId": "a1866335-8da0-46c8-80c3-0b2face94861"
      },
      "source": [
        "# key に日本語を使用することも可能\n",
        "scores = {'数学': 90, '理科': 75, '英語': 80}\n",
        "scores"
      ],
      "execution_count": null,
      "outputs": [
        {
          "output_type": "execute_result",
          "data": {
            "text/plain": [
              "{'数学': 90, '理科': 75, '英語': 80}"
            ]
          },
          "metadata": {
            "tags": []
          },
          "execution_count": 63
        }
      ]
    },
    {
      "cell_type": "code",
      "metadata": {
        "id": "IL2y81t-v9c9",
        "colab": {
          "base_uri": "https://localhost:8080/"
        },
        "outputId": "f9df0544-a25e-4ab8-f1df-f6301ba590cf"
      },
      "source": [
        "scores['数学']"
      ],
      "execution_count": null,
      "outputs": [
        {
          "output_type": "execute_result",
          "data": {
            "text/plain": [
              "90"
            ]
          },
          "metadata": {
            "tags": []
          },
          "execution_count": 64
        }
      ]
    },
    {
      "cell_type": "markdown",
      "metadata": {
        "id": "Jd_XpPMqfrSL"
      },
      "source": [
        "他の人が定義した辞書に、**どのようなキーが存在するのか**を調べたいときがある。\n",
        "辞書には、そのような場合に使える便利なメソッドがいくつか存在する。\n",
        "\n",
        "- `keys()`: キーのリストを取得。`dict_keys` と言うリストと性質が似た型が返る\n",
        "- `values()`: 値のリストを取得。`dict_values` と言うリストと性質が似た型が返る\n",
        "- `items()`: 各要素の `(key, value)` のタプルが並んだリストを取得。`dict_items` と言うリストと性質が似た型が返る"
      ]
    },
    {
      "cell_type": "code",
      "metadata": {
        "id": "FkJjSlbShKjK",
        "colab": {
          "base_uri": "https://localhost:8080/"
        },
        "outputId": "fefa4ace-7768-4043-f2c5-91a76dc5a3c3"
      },
      "source": [
        "# キーのリスト\n",
        "scores.keys()"
      ],
      "execution_count": null,
      "outputs": [
        {
          "output_type": "execute_result",
          "data": {
            "text/plain": [
              "dict_keys(['数学', '理科', '英語'])"
            ]
          },
          "metadata": {
            "tags": []
          },
          "execution_count": 65
        }
      ]
    },
    {
      "cell_type": "code",
      "metadata": {
        "id": "YOAOTDtUhNBz",
        "colab": {
          "base_uri": "https://localhost:8080/"
        },
        "outputId": "14b72d7b-c87e-4e69-f016-901b0cab945f"
      },
      "source": [
        "# 値のリスト\n",
        "scores.values()"
      ],
      "execution_count": null,
      "outputs": [
        {
          "output_type": "execute_result",
          "data": {
            "text/plain": [
              "dict_values([90, 75, 80])"
            ]
          },
          "metadata": {
            "tags": []
          },
          "execution_count": 66
        }
      ]
    },
    {
      "cell_type": "code",
      "metadata": {
        "id": "mWA7opwAhVEa",
        "colab": {
          "base_uri": "https://localhost:8080/"
        },
        "outputId": "81d91f89-3ed0-4a0f-b6fc-c2d640f08a3c"
      },
      "source": [
        "# (キー, 値)と言うタプルを要素とするリスト\n",
        "scores.items()"
      ],
      "execution_count": null,
      "outputs": [
        {
          "output_type": "execute_result",
          "data": {
            "text/plain": [
              "dict_items([('数学', 90), ('理科', 75), ('英語', 80)])"
            ]
          },
          "metadata": {
            "tags": []
          },
          "execution_count": 67
        }
      ]
    },
    {
      "cell_type": "markdown",
      "metadata": {
        "id": "I9WEXgSZv9dC"
      },
      "source": [
        "`dict_keys`, `dict_values`, `dict_items` と新しい型が登場したが、これは辞書型特有の型であり厳密には標準のリストとは異なるが、リストと性質の似た型であると言う程度の認識で問題ない。"
      ]
    },
    {
      "cell_type": "markdown",
      "metadata": {
        "id": "qpoTmSY8bTDw"
      },
      "source": [
        "辞書に要素を追加する場合は、新しいキーを指定して値を代入する。"
      ]
    },
    {
      "cell_type": "code",
      "metadata": {
        "id": "nDZ4RRcjnERu"
      },
      "source": [
        "scores['国語'] = 85"
      ],
      "execution_count": null,
      "outputs": []
    },
    {
      "cell_type": "code",
      "metadata": {
        "id": "P0HJVZJSnKal",
        "colab": {
          "base_uri": "https://localhost:8080/"
        },
        "outputId": "0b36b8a2-2833-46f2-ba8b-5ebec1b9d4e1"
      },
      "source": [
        "scores"
      ],
      "execution_count": null,
      "outputs": [
        {
          "output_type": "execute_result",
          "data": {
            "text/plain": [
              "{'国語': 85, '数学': 90, '理科': 75, '英語': 80}"
            ]
          },
          "metadata": {
            "tags": []
          },
          "execution_count": 69
        }
      ]
    },
    {
      "cell_type": "markdown",
      "metadata": {
        "id": "NIC2fwAknPf9"
      },
      "source": [
        "また、既に存在するキーを指定した場合には、値が上書きされる。"
      ]
    },
    {
      "cell_type": "code",
      "metadata": {
        "id": "teLZbAHQnUfN"
      },
      "source": [
        "scores['数学'] = 95"
      ],
      "execution_count": null,
      "outputs": []
    },
    {
      "cell_type": "code",
      "metadata": {
        "id": "kQESKoXgnYRN",
        "colab": {
          "base_uri": "https://localhost:8080/"
        },
        "outputId": "4da5b930-ed2b-4d73-cd32-5ae8cc569dca"
      },
      "source": [
        "scores"
      ],
      "execution_count": null,
      "outputs": [
        {
          "output_type": "execute_result",
          "data": {
            "text/plain": [
              "{'国語': 85, '数学': 95, '理科': 75, '英語': 80}"
            ]
          },
          "metadata": {
            "tags": []
          },
          "execution_count": 71
        }
      ]
    },
    {
      "cell_type": "markdown",
      "metadata": {
        "id": "fjqDv7w5WHY7"
      },
      "source": [
        "# いまここ"
      ]
    },
    {
      "cell_type": "markdown",
      "metadata": {
        "id": "zTYLayT3qEzA"
      },
      "source": [
        "# 制御構文 control structure, control flow\n",
        "\n",
        "複雑なプログラムを記述しようとすると、繰り返しの処理や、条件によって動作を変える処理が必要となる。\n",
        "これらは**制御構文**を用いて記述する。\n",
        "\n",
        "ここでは最も基本的な制御構文を 2 つ紹介する。\n",
        "\n",
        "- 繰り返し (`for`, `while`)\n",
        "- 条件分岐 (`if`)\n",
        "\n",
        "Python の制御構文は、**ヘッダ (header)** と **ブロック (block)** と呼ばれる 2 つの部分で構成されている。\n",
        "これらを合わせて **複合文 (compound statement)** と呼ぶ。\n",
        "\n",
        "\n",
        "```\n",
        "if 条件: # コロンが必要。 ヘッダー\n",
        "    処理ブロック # インデントが必要。半角スペース4つ\n",
        "```\n"
      ]
    },
    {
      "cell_type": "markdown",
      "metadata": {
        "id": "ciZc5_PCv9dJ"
      },
      "source": [
        "上図に示すように、制御構文ではヘッダ行に `for` 文や `if-else` 句を記述し、行末に `:` 記号を書く。次に、ヘッダ行の条件で実行したい一連の処理文を、ブロックとしてその次の行以降に記述していく。その際、 **インデント (indent)** と呼ばれる空白文字を先頭に挿入することで、ブロックを表現する。同じ数の空白でインデントされた文がブロックとみなされる。\n",
        "\n",
        "Python では、インデントとして**スペース 4 つ**を用いることが推奨されている。\n",
        "\n",
        "&nbsp;"
      ]
    },
    {
      "cell_type": "markdown",
      "metadata": {
        "id": "oELnTpERNwCQ"
      },
      "source": [
        "**繰り返し（for 文）**\n",
        "\n",
        "同じ内容のメールを宛名だけ個別に変えて、1000 人に一斉送信したい場合など、繰り返す処理を記述する制御構文である `for` を使う。\n",
        "\n",
        "```\n",
        "for 変数名 in イテラブルオブジェクト: ヘッダー\n",
        "    ブロック処理\n",
        "```"
      ]
    },
    {
      "cell_type": "markdown",
      "metadata": {
        "id": "_-50XwKOv9dJ"
      },
      "source": [
        "**イテラブルオブジェクト (iterable object)** とは、反復可能オブジェクトのことであり、要素を一度に 1 つずつ返せるオブジェクトのことを指す。\n",
        "`range()` と言う組み込み関数を使うと、引数に与えた整数の回数だけ順番に整数を返すイテラブルオブジェクトを作ることができる。\n",
        "`range(5)` と書くと、0, 1, 2, 3, 4 と言う整数 5 つを順番に返すイテラブルオブジェクトになる。\n",
        "\n",
        "このイテラブルオブジェクトとして、リストやタプルも指定することができる。"
      ]
    },
    {
      "cell_type": "code",
      "metadata": {
        "id": "f7Y4APgkON_7",
        "colab": {
          "base_uri": "https://localhost:8080/"
        },
        "outputId": "8cc0681f-1fcd-48f1-9deb-9aac8b1e272e"
      },
      "source": [
        "# 5回繰り返す\n",
        "for i in range(5):\n",
        "    print(i)"
      ],
      "execution_count": null,
      "outputs": [
        {
          "output_type": "stream",
          "text": [
            "0\n",
            "1\n",
            "2\n",
            "3\n",
            "4\n"
          ],
          "name": "stdout"
        }
      ]
    },
    {
      "cell_type": "markdown",
      "metadata": {
        "id": "oLpTgIv4OPnt"
      },
      "source": [
        "上記の例では、イテラブルオブジェクトが1 つずつ返す値を変数 `i` で受け取っている。\n",
        "\n",
        "最初は `i = 0` から始まっている。\n",
        "\n",
        "最後の値も、`5` ではなく `4` となっている。\n",
        "\n",
        "このように、`range()` に 1 つの整数を与えた場合は、その整数 - 1 まで 0 から 1 つずつ増えていく整数を順番に返す。"
      ]
    },
    {
      "cell_type": "code",
      "metadata": {
        "id": "SUTjSLuKv9dK",
        "colab": {
          "base_uri": "https://localhost:8080/"
        },
        "outputId": "fe3a3be7-3c97-4542-92eb-43c7e41d0206"
      },
      "source": [
        "# 繰り返し処理が終わった後の値の確認 => 今回の場合 4\n",
        "i"
      ],
      "execution_count": null,
      "outputs": [
        {
          "output_type": "execute_result",
          "data": {
            "text/plain": [
              "4"
            ]
          },
          "metadata": {
            "tags": []
          },
          "execution_count": 73
        }
      ]
    },
    {
      "cell_type": "markdown",
      "metadata": {
        "id": "4sMmj2Ewv9dL"
      },
      "source": [
        "Jupyter Notebook では変数名をコードセルの最後の行に書いて実行するとその変数に代入されている値を確認できたが、for 文の中のブロックでは明示的に `print()` を使う必要がある。\n",
        "`print()` を用いないと、以下のように何も表示されない。"
      ]
    },
    {
      "cell_type": "code",
      "metadata": {
        "id": "2SlR9vcGv9dL"
      },
      "source": [
        "# 変数の値は表示されない\n",
        "for i in range(5):\n",
        "    i"
      ],
      "execution_count": null,
      "outputs": []
    },
    {
      "cell_type": "markdown",
      "metadata": {
        "id": "tEczQdb9v9dM"
      },
      "source": [
        "for 文を使って、0 から始まって 1 ずつ大きくなっていく整数順番に取得し、これをリストのインデックスに利用すれば、リストの各要素に順番にアクセスすることができる。"
      ]
    },
    {
      "cell_type": "code",
      "metadata": {
        "id": "b6XXuQ_gOnxk",
        "colab": {
          "base_uri": "https://localhost:8080/"
        },
        "outputId": "101b8dc9-5def-41be-e4ec-0d2f179805b3"
      },
      "source": [
        "names = ['佐藤', '鈴木', '高橋']\n",
        "\n",
        "for i in range(3):\n",
        "    print(names[i])"
      ],
      "execution_count": null,
      "outputs": [
        {
          "output_type": "stream",
          "text": [
            "佐藤\n",
            "鈴木\n",
            "高橋\n"
          ],
          "name": "stdout"
        }
      ]
    },
    {
      "cell_type": "markdown",
      "metadata": {
        "id": "ci6hVBb-v9dN"
      },
      "source": [
        "少し応用して、自動的に敬称をつけて表示してみる。"
      ]
    },
    {
      "cell_type": "code",
      "metadata": {
        "id": "B24Fyoe9v9dN",
        "colab": {
          "base_uri": "https://localhost:8080/"
        },
        "outputId": "ea7ab1e7-ab95-494e-f425-a3e2c08c3da2"
      },
      "source": [
        "for i in range(3):\n",
        "    print('{}さん'.format(names[i]))"
      ],
      "execution_count": null,
      "outputs": [
        {
          "output_type": "stream",
          "text": [
            "佐藤さん\n",
            "鈴木さん\n",
            "高橋さん\n"
          ],
          "name": "stdout"
        }
      ]
    },
    {
      "cell_type": "markdown",
      "metadata": {
        "id": "msGhS1ISv9dN"
      },
      "source": [
        "上記のコードに関して、汎用性が低い点として、`range(3)` のように `3` と言う値を直接記述していることが挙げられる。\n",
        "\n",
        "この `3` はリストの要素の数を意味しているが、リストの要素の数が変わると、このプログラムも書き換える必要があり、手間がかかったり、ミスが発生する原因となったりする。\n",
        "\n",
        "リスト内の要素の数は、組み込み関数である `len()` を用いて取得できるため、これを使用した汎用性の高いプログラムに書き換えよう。\n",
        "\n",
        "&nbsp;"
      ]
    },
    {
      "cell_type": "code",
      "metadata": {
        "id": "e4gbC4CIOzve",
        "colab": {
          "base_uri": "https://localhost:8080/"
        },
        "outputId": "8b026e98-a41f-4d9b-af4c-dfe5c8bbde2f"
      },
      "source": [
        "len(names)"
      ],
      "execution_count": null,
      "outputs": [
        {
          "output_type": "execute_result",
          "data": {
            "text/plain": [
              "3"
            ]
          },
          "metadata": {
            "tags": []
          },
          "execution_count": 77
        }
      ]
    },
    {
      "cell_type": "code",
      "metadata": {
        "id": "4i21QYMwPB1C",
        "colab": {
          "base_uri": "https://localhost:8080/"
        },
        "outputId": "89dc4f0a-4610-4393-8a50-e68845ac248d"
      },
      "source": [
        "for i in range(len(names)):\n",
        "    print('{}さん'.format(names[i]))"
      ],
      "execution_count": null,
      "outputs": [
        {
          "output_type": "stream",
          "text": [
            "佐藤さん\n",
            "鈴木さん\n",
            "高橋さん\n"
          ],
          "name": "stdout"
        }
      ]
    },
    {
      "cell_type": "markdown",
      "metadata": {
        "id": "9wx-qJovPEC0"
      },
      "source": [
        "これでリストの要素数に依存しないプログラムにすることができた。"
      ]
    },
    {
      "cell_type": "markdown",
      "metadata": {
        "id": "KIO9gkUnv9dR"
      },
      "source": [
        "また、リスト自体をイテラブルオブジェクトとして指定することにより、リスト要素数の取得も `[]` でのインデックス番号の指定もせずに、より可読性の高いプログラムを書くことができる。"
      ]
    },
    {
      "cell_type": "code",
      "metadata": {
        "id": "EDqeGWucv9dR",
        "colab": {
          "base_uri": "https://localhost:8080/"
        },
        "outputId": "7a025bb2-f27b-4c84-a1fc-6d4bdd500cc6"
      },
      "source": [
        "# リストをイテラブルオブジェクトに指定\n",
        "for name in names:\n",
        "    print('{}さん'.format(name))"
      ],
      "execution_count": null,
      "outputs": [
        {
          "output_type": "stream",
          "text": [
            "佐藤さん\n",
            "鈴木さん\n",
            "高橋さん\n"
          ],
          "name": "stdout"
        }
      ]
    },
    {
      "cell_type": "markdown",
      "metadata": {
        "id": "eeTHJ3hzPW7U"
      },
      "source": [
        "リストをイテラブルオブジェクトとして指定した場合、要素番号を取得できないが、状況によっては要素番号を使用したいことがある。\n",
        "\n",
        "そのような場合は、`enumerate()` と言う組み込み関数を使う。\n",
        "これにイテラブルオブジェクトを渡すと、`(要素番号, 要素)` と言うタプルを 1 つずつ返すイテラブルオブジェクトになる。"
      ]
    },
    {
      "cell_type": "code",
      "metadata": {
        "id": "8dT-qUhGv9dT"
      },
      "source": [
        "# enumerate の使い方\n",
        "for i, name in enumerate(names):\n",
        "    message = '{}番目: {}さん'.format(i, name)\n",
        "    print(message)"
      ],
      "execution_count": null,
      "outputs": []
    },
    {
      "cell_type": "code",
      "metadata": {
        "id": "E2uESzXk7fUf",
        "colab": {
          "base_uri": "https://localhost:8080/"
        },
        "outputId": "f2b309fe-5ef1-48e2-d6a7-47aa8ac3114b"
      },
      "source": [
        "# 実験\n",
        "print(list(enumerate(names)))"
      ],
      "execution_count": null,
      "outputs": [
        {
          "output_type": "stream",
          "text": [
            "[(0, '佐藤'), (1, '鈴木'), (2, '高橋')]\n"
          ],
          "name": "stdout"
        }
      ]
    },
    {
      "cell_type": "markdown",
      "metadata": {
        "id": "wGwCa9wmP2r4"
      },
      "source": [
        "`enumerate()` と同様、`for` 文と合わせてよく使う組み込み関数に `zip()` がある。\n",
        "\n",
        "`zip()` は、複数のイテラブルオブジェクトを受け取り、その要素のペアを順番に返すイテラブルオブジェクトを作る。\n",
        "このイテラブルオブジェクトは、渡されたイテラブルオブジェクトそれぞれの先頭の要素から順番に、タプルに束ねて返す。\n",
        "このイテラブルオブジェクトの長さは、渡されたイテラブルオブジェクトのうち最も短い長さと一致する。"
      ]
    },
    {
      "cell_type": "code",
      "metadata": {
        "id": "5w8huhHcQR8F",
        "colab": {
          "base_uri": "https://localhost:8080/"
        },
        "outputId": "92bfbe23-8387-45dc-fcfa-b0ec10506a00"
      },
      "source": [
        "names = ['Python', 'Chainer']\n",
        "versions = ['3.7', '5.3.0']\n",
        "suffixes = ['!!', '!!', '?']\n",
        "\n",
        "for name, version, suffix in zip(names, versions, suffixes):\n",
        "    print('{} {} {}'.format(name, version, suffix))\n",
        "\n",
        "#実験\n",
        "print(list(zip(names, versions, suffixes)))"
      ],
      "execution_count": null,
      "outputs": [
        {
          "output_type": "stream",
          "text": [
            "Python 3.7 !!\n",
            "Chainer 5.3.0 !!\n",
            "[('Python', '3.7', '!!'), ('Chainer', '5.3.0', '!!')]\n"
          ],
          "name": "stdout"
        }
      ]
    },
    {
      "cell_type": "markdown",
      "metadata": {
        "id": "IeQCA00UQYDq"
      },
      "source": [
        "`suffixes` の要素数は 3 だが、より短いイテラブルオブジェクトと共に `zip` に渡されたため、先頭から 2 つ目までしか値が取り出されていない。"
      ]
    },
    {
      "cell_type": "markdown",
      "metadata": {
        "id": "WguFiYgqQnQT"
      },
      "source": [
        "**条件分岐（if 文）**\n",
        "\n",
        "`if` は、指定した条件が `True` か `False` かによって、処理を変えるための制御構文である。\n",
        "```\n",
        "if 条件: # 条件が True であればブロック処理を実行。ヘッダー\n",
        "    処理ブロック\n",
        "elif 条件: # if の条件が False で追加の条件分岐(任意)。ヘッダー\n",
        "    処理ブロック\n",
        "else: # すべてが False の場合の条件分岐(任意)。ヘッダー\n",
        "    処理ブロック\n",
        "```\n",
        "\n",
        "python の if は文であって、式ではない。"
      ]
    },
    {
      "cell_type": "markdown",
      "metadata": {
        "id": "J-Z8g-Klv9dV"
      },
      "source": [
        "`elif` と `else` は任意であり、`elif` は 1 つだけでなく複数連ねることができる。\n",
        "\n",
        "例えば、0 より大きいことを条件とした処理を書いてみる。"
      ]
    },
    {
      "cell_type": "code",
      "metadata": {
        "id": "E-x_6gXwSsm7",
        "colab": {
          "base_uri": "https://localhost:8080/"
        },
        "outputId": "16127dfd-db5c-40ef-d75a-0da96def75a8"
      },
      "source": [
        "# if の条件を満たす場合\n",
        "a = 1\n",
        "\n",
        "if a > 0:\n",
        "    print('0より大きい')\n",
        "else:\n",
        "    print('0以下')"
      ],
      "execution_count": null,
      "outputs": [
        {
          "output_type": "stream",
          "text": [
            "0より大きい\n"
          ],
          "name": "stdout"
        }
      ]
    },
    {
      "cell_type": "code",
      "metadata": {
        "id": "BmcHf-w5v9dV",
        "colab": {
          "base_uri": "https://localhost:8080/"
        },
        "outputId": "0fe00ec6-c7e1-4ce9-f841-d757d20d7fcf"
      },
      "source": [
        "# if の条件を満たさない場合\n",
        "a = -1\n",
        "\n",
        "if a > 0:\n",
        "    print('0より大きい')\n",
        "else:\n",
        "    print('0以下')"
      ],
      "execution_count": null,
      "outputs": [
        {
          "output_type": "stream",
          "text": [
            "0以下\n"
          ],
          "name": "stdout"
        }
      ]
    },
    {
      "cell_type": "markdown",
      "metadata": {
        "id": "u0F8tX6FStcQ"
      },
      "source": [
        "また、`if` に対する条件以外の条件分岐を追加する場合は、下記のように `elif` を使う。"
      ]
    },
    {
      "cell_type": "code",
      "metadata": {
        "id": "6li0UyjpStjg",
        "colab": {
          "base_uri": "https://localhost:8080/"
        },
        "outputId": "ae76da9f-d935-4720-95db-6eb57b568357"
      },
      "source": [
        "a = 0\n",
        "\n",
        "if a > 0:    \n",
        "    print('0より大きい')\n",
        "elif a == 0:\n",
        "    print('０')\n",
        "else:\n",
        "    print('0より小さい')"
      ],
      "execution_count": null,
      "outputs": [
        {
          "output_type": "stream",
          "text": [
            "０\n"
          ],
          "name": "stdout"
        }
      ]
    },
    {
      "cell_type": "markdown",
      "metadata": {
        "id": "tZ15Hv9Gv9dY"
      },
      "source": [
        "**繰り返し（while 文）**\n",
        "\n",
        "繰り返し処理は、`for` 以外にも `while` を用いて記述することもできる。\n",
        "`while` 文では、以下のように**ループを継続する条件**を指定する。\n",
        "指定された条件文が `True` である限り、ブロックの部分に記述された処理が繰り返し実行される。\n",
        "\n",
        "```\n",
        "while 条件: # True であればブロック処理を実行。ヘッダー\n",
        "    ブロック処理\n",
        "```\n"
      ]
    },
    {
      "cell_type": "markdown",
      "metadata": {
        "id": "Zjv8d3Rmv9dZ"
      },
      "source": [
        "`while` 文を使用した 3 回繰り返すプログラムは下記のとおりである。"
      ]
    },
    {
      "cell_type": "code",
      "metadata": {
        "id": "aFhfzaDFv9dZ",
        "colab": {
          "base_uri": "https://localhost:8080/"
        },
        "outputId": "98c0c7b5-8663-4382-8a21-e864054a860e"
      },
      "source": [
        "count = 0\n",
        "\n",
        "while count < 3:\n",
        "    print(count)\n",
        "    count += 1"
      ],
      "execution_count": null,
      "outputs": [
        {
          "output_type": "stream",
          "text": [
            "0\n",
            "1\n",
            "2\n"
          ],
          "name": "stdout"
        }
      ]
    },
    {
      "cell_type": "markdown",
      "metadata": {
        "id": "1Q3QReThv9da"
      },
      "source": [
        "ここで使われている `count` と言う変数は、ループの中身が何回実行されたかを数えるために使われている。\n",
        "まず `0` で初期化し、ループ内の処理が一度行われるたびに `count` の値に 1 を足している。\n",
        "この `count` を使った条件式を `while` 文に与えることで、ループを回したい回数を指定している。\n",
        "\n",
        "一方、`while True` と指定すると、`True` は変数ではなく値なので、変更されることはなく、ループは無限に回り続ける。\n",
        "`while` 文自体は無限ループの状態にしておき、ループの中で `if` 文を使って、ある条件が満たされた場合はループを中断する、と言う使い方ができる。\n",
        "これには `break` 文が用いられる。\n",
        "\n",
        "以下は、`break` 文を使って上のコードと同様に 3 回ループを回すコードである。"
      ]
    },
    {
      "cell_type": "code",
      "metadata": {
        "id": "wj65vycFv9da",
        "colab": {
          "base_uri": "https://localhost:8080/"
        },
        "outputId": "c6d1d255-3e9a-45f0-96f7-921204a756a0"
      },
      "source": [
        "count = 0\n",
        "\n",
        "while True:\n",
        "    print(count)\n",
        "    count += 1\n",
        "    \n",
        "    if count == 3:\n",
        "        break"
      ],
      "execution_count": null,
      "outputs": [
        {
          "output_type": "stream",
          "text": [
            "0\n",
            "1\n",
            "2\n"
          ],
          "name": "stdout"
        }
      ]
    },
    {
      "cell_type": "markdown",
      "metadata": {
        "id": "AQFnBfgEv9da"
      },
      "source": [
        "`count` の値が 3 と等しいかどうかが毎回チェックされ、等しくなっていれば `break` 文が実行されて `while` ループが終了する。"
      ]
    },
    {
      "cell_type": "markdown",
      "metadata": {
        "id": "2rtEn2APv9db"
      },
      "source": [
        "`while` 文を使って、指定された条件を満たして**いない**間ループを繰り返すと言う処理も書くことができる。`while` 文自体の使い方は同じだが、条件を反転して与えることで、与えた条件が `False` である間繰り返されるようにすることができる。\n",
        "\n",
        "これには、ブール値を反転する `not` を用いる。\n",
        "`not True` は `False` を返し、`not False` は `True` を返す。"
      ]
    },
    {
      "cell_type": "code",
      "metadata": {
        "id": "0PucNNA0v9db",
        "colab": {
          "base_uri": "https://localhost:8080/"
        },
        "outputId": "50c3c02a-f750-4e24-d218-62aeef2e66c6"
      },
      "source": [
        "not True"
      ],
      "execution_count": null,
      "outputs": [
        {
          "output_type": "execute_result",
          "data": {
            "text/plain": [
              "False"
            ]
          },
          "metadata": {
            "tags": []
          },
          "execution_count": 88
        }
      ]
    },
    {
      "cell_type": "code",
      "metadata": {
        "id": "9iX7JkEOv9db",
        "colab": {
          "base_uri": "https://localhost:8080/"
        },
        "outputId": "221d5778-6bfe-4fa1-d631-c41202faee07"
      },
      "source": [
        "not False"
      ],
      "execution_count": null,
      "outputs": [
        {
          "output_type": "execute_result",
          "data": {
            "text/plain": [
              "True"
            ]
          },
          "metadata": {
            "tags": []
          },
          "execution_count": 89
        }
      ]
    },
    {
      "cell_type": "code",
      "metadata": {
        "id": "TkSUZ1iZv9dc",
        "colab": {
          "base_uri": "https://localhost:8080/"
        },
        "outputId": "f01377f4-4d49-4993-f495-01961c9c8c69"
      },
      "source": [
        "not 1 == 2"
      ],
      "execution_count": null,
      "outputs": [
        {
          "output_type": "execute_result",
          "data": {
            "text/plain": [
              "True"
            ]
          },
          "metadata": {
            "tags": []
          },
          "execution_count": 90
        }
      ]
    },
    {
      "cell_type": "markdown",
      "metadata": {
        "id": "0aM2yZ7qv9dd"
      },
      "source": [
        "このように、`not` はあとに続くブール値を反転する。\n",
        "これを用いて、`count` が 3 **ではない**限りループを繰り返すと言うコードを `while` 文を使って書いてみよう。"
      ]
    },
    {
      "cell_type": "code",
      "metadata": {
        "id": "vhvBNYCXv9dd",
        "colab": {
          "base_uri": "https://localhost:8080/"
        },
        "outputId": "d3aba008-648d-49f0-f0bf-f5f53afa21a4"
      },
      "source": [
        "count = 0\n",
        "\n",
        "while not count == 3:\n",
        "    print(count)\n",
        "    count += 1"
      ],
      "execution_count": null,
      "outputs": [
        {
          "output_type": "stream",
          "text": [
            "0\n",
            "1\n",
            "2\n"
          ],
          "name": "stdout"
        }
      ]
    },
    {
      "cell_type": "markdown",
      "metadata": {
        "id": "e96zsBv7IfDn"
      },
      "source": [
        "**関数**\n",
        "\n",
        "何かひとまとまりの処理を書いた際には、その処理のためのコードをまとめて、プログラム全体の色々な箇所から再利用できるようにしておくと、便利な場合がある。\n",
        "ここでは、処理をひとまとめにする方法の一つとして**関数 (function)** を定義する方法を紹介する。"
      ]
    },
    {
      "cell_type": "markdown",
      "metadata": {
        "id": "RCB98_8xv9df"
      },
      "source": [
        "**関数を定義する**\n",
        "\n",
        "\n",
        "\n",
        "```\n",
        "def 関数名 (引数1,2,...): ヘッダー\n",
        "    処理ブロック\n",
        "```\n",
        "\n",
        "例えば、**受け取った値を 2 倍して表示する関数**を作ってみよう。\n",
        "\n",
        "関数を定義するには、まず名前を決める必要がある。\n",
        "今回は `double()` と言う名前の関数を定義してみる。\n",
        "\n",
        "関数も制御構文と同じく**ヘッダー**と**ブロック**を持っている。"
      ]
    },
    {
      "cell_type": "code",
      "metadata": {
        "id": "iDh3Mpi_IfDp"
      },
      "source": [
        "# 関数 double() の定義\n",
        "def double(x):\n",
        "    print(2 * x)"
      ],
      "execution_count": null,
      "outputs": []
    },
    {
      "cell_type": "markdown",
      "metadata": {
        "id": "yG-qN405v9dg"
      },
      "source": [
        "**関数は定義されただけでは実行されない。**\n",
        "定義した関数を使用するためには、定義を行うコードとは別に、実行を行うコードが必要である。"
      ]
    },
    {
      "cell_type": "code",
      "metadata": {
        "id": "6QUecRiUv9dg",
        "colab": {
          "base_uri": "https://localhost:8080/"
        },
        "outputId": "db09bcd0-79e5-4169-9679-f0ce268584e8"
      },
      "source": [
        "# 関数 double() の定義\n",
        "def double(x):\n",
        "    print(2 * x)\n",
        "# 関数の実行\n",
        "double(3)"
      ],
      "execution_count": null,
      "outputs": [
        {
          "output_type": "stream",
          "text": [
            "6\n"
          ],
          "name": "stdout"
        }
      ]
    },
    {
      "cell_type": "code",
      "metadata": {
        "id": "dR7DqN2fv9dh",
        "colab": {
          "base_uri": "https://localhost:8080/"
        },
        "outputId": "88a2cb69-394b-4bd3-83d7-9f9564189053"
      },
      "source": [
        "double(5)"
      ],
      "execution_count": null,
      "outputs": [
        {
          "output_type": "stream",
          "text": [
            "10\n"
          ],
          "name": "stdout"
        }
      ]
    },
    {
      "cell_type": "code",
      "metadata": {
        "id": "wjStuxcBv9di",
        "colab": {
          "base_uri": "https://localhost:8080/"
        },
        "outputId": "d6cdac97-6f35-429e-90ec-40f35de197f8"
      },
      "source": [
        "double(1.5)"
      ],
      "execution_count": null,
      "outputs": [
        {
          "output_type": "stream",
          "text": [
            "3.0\n"
          ],
          "name": "stdout"
        }
      ]
    },
    {
      "cell_type": "markdown",
      "metadata": {
        "id": "CRggp-QcIfDs"
      },
      "source": [
        "`double(x)` における `x` のように、関数に渡される変数や値のことを**引数 (argument, ひきすう)** と言う。\n",
        "上の例は、名前が `double` で、1つの引数 `x` をとり、`2 * x` と言う計算を行い、その結果を表示している。"
      ]
    },
    {
      "cell_type": "markdown",
      "metadata": {
        "id": "VDqeEdX5v9dj"
      },
      "source": [
        "**複数の引数をとる関数**\n",
        "\n",
        "複数の引数をとる関数を定義する場合は、関数名に続く `()` の中に、カンマ `,` 区切りで引数名を並べる。\n",
        "\n",
        "例えば、引数を 2 つとり、足し算を行う関数 `add()` を作ってみよう。"
      ]
    },
    {
      "cell_type": "code",
      "metadata": {
        "id": "ARE2LU8Qv9dl"
      },
      "source": [
        "# 関数の定義\n",
        "def add(a, b):\n",
        "    print(a + b)"
      ],
      "execution_count": null,
      "outputs": []
    },
    {
      "cell_type": "code",
      "metadata": {
        "id": "Zte-_M1-v9dl",
        "colab": {
          "base_uri": "https://localhost:8080/"
        },
        "outputId": "fd929771-1ec9-4d0d-e41d-e9417ad7f122"
      },
      "source": [
        "# 関数の実行\n",
        "add(1, 2)"
      ],
      "execution_count": null,
      "outputs": [
        {
          "output_type": "stream",
          "text": [
            "3\n"
          ],
          "name": "stdout"
        }
      ]
    },
    {
      "cell_type": "code",
      "metadata": {
        "id": "7HUAVoGhv9dm",
        "colab": {
          "base_uri": "https://localhost:8080/"
        },
        "outputId": "93469eab-e2f8-49c9-b344-96fa97b46c73"
      },
      "source": [
        "add(3, 2.5)"
      ],
      "execution_count": null,
      "outputs": [
        {
          "output_type": "stream",
          "text": [
            "5.5\n"
          ],
          "name": "stdout"
        }
      ]
    },
    {
      "cell_type": "code",
      "metadata": {
        "id": "IjMBFjvmv9dm",
        "colab": {
          "base_uri": "https://localhost:8080/"
        },
        "outputId": "cb6a3c06-21f8-46c6-a3ba-477de1542c52"
      },
      "source": [
        "add(1, -5)"
      ],
      "execution_count": null,
      "outputs": [
        {
          "output_type": "stream",
          "text": [
            "-4\n"
          ],
          "name": "stdout"
        }
      ]
    },
    {
      "cell_type": "markdown",
      "metadata": {
        "id": "mwZ-T1CTv9dn"
      },
      "source": [
        "今回の `double()` や `add()` は定義を行い自作した関数だが、Python には予め多くの関数が定義されている。\n",
        "そのような関数を**組み込み関数 (built-in function)** と呼ぶ。\n",
        "すでに使用している `print()` や `len()`, `range()` などが、これに該当する。\n",
        "組み込み関数の一覧は[こちら](https://docs.python.org/ja/3/library/functions.html)で確認することができる。\n"
      ]
    },
    {
      "cell_type": "markdown",
      "metadata": {
        "id": "jqrVT9suWCCe"
      },
      "source": [
        "colab 環境で `dir(__builtin__)` でも確認できる\n",
        "\n"
      ]
    },
    {
      "cell_type": "markdown",
      "metadata": {
        "id": "A8XpuE_av9dn"
      },
      "source": [
        "**引数をとらない関数**\n",
        "\n",
        "引数をとらない関数を定義する場合でも、関数名の後に `()` を加える必要がある。\n",
        "\n",
        "例えば、実行するとメッセージを表示する関数を定義して、実行してみる。"
      ]
    },
    {
      "cell_type": "code",
      "metadata": {
        "id": "z2Xej00Bv9dn"
      },
      "source": [
        "# 引数のない関数の定義\n",
        "def hello():\n",
        "    print('Chainerチュートリアルにようこそ')"
      ],
      "execution_count": null,
      "outputs": []
    },
    {
      "cell_type": "code",
      "metadata": {
        "id": "peShhHg2v9dn",
        "colab": {
          "base_uri": "https://localhost:8080/"
        },
        "outputId": "f0cf19a1-81cf-461f-c4e5-68661dd010db"
      },
      "source": [
        "# 引数のない関数の実行\n",
        "hello()"
      ],
      "execution_count": null,
      "outputs": [
        {
          "output_type": "stream",
          "text": [
            "Chainerチュートリアルにようこそ\n"
          ],
          "name": "stdout"
        }
      ]
    },
    {
      "cell_type": "markdown",
      "metadata": {
        "id": "BZGSKTbcv9do"
      },
      "source": [
        "**引数のデフォルト値**\n",
        "\n",
        "引数には、あらかじめ値を与えておくことができる。\n",
        "\n",
        "これは、引数をとる関数を定義する際に、何も引数に値が渡されなかったときにどのような値がその引数に渡されたことにするかをあらかじめ決めておける機能で、その値のことを**デフォルト値**と呼ぶ。\n",
        "\n",
        "例えば、上の `hello()` と言う関数に、`message` と言う引数をもたせ、そこにデフォルト値を設定しておく。"
      ]
    },
    {
      "cell_type": "code",
      "metadata": {
        "id": "uw2d8qDov9do"
      },
      "source": [
        "def hello(message='Chainerチュートリアルにようこそ'):\n",
        "    print(message)"
      ],
      "execution_count": null,
      "outputs": []
    },
    {
      "cell_type": "markdown",
      "metadata": {
        "id": "7i8TQcfzv9do"
      },
      "source": [
        "この関数は引数に何も与えずに呼び出すと、「Chainerチュートリアルにようこそ」と言うメッセージを表示し、引数に別な値が渡されると、その値を表示する。"
      ]
    },
    {
      "cell_type": "code",
      "metadata": {
        "id": "Fh4VEHmMv9dp",
        "colab": {
          "base_uri": "https://localhost:8080/"
        },
        "outputId": "c5a6764a-1cb2-4eee-9924-9fdaeeda5ace"
      },
      "source": [
        "hello()"
      ],
      "execution_count": null,
      "outputs": [
        {
          "output_type": "stream",
          "text": [
            "Chainerチュートリアルにようこそ\n"
          ],
          "name": "stdout"
        }
      ]
    },
    {
      "cell_type": "code",
      "metadata": {
        "id": "p2g-ULOWv9dp",
        "colab": {
          "base_uri": "https://localhost:8080/"
        },
        "outputId": "8c3941cd-0054-4400-ff5f-b2ab87f7ebcf"
      },
      "source": [
        "hello('Welcome to Chainer tutorial')"
      ],
      "execution_count": null,
      "outputs": [
        {
          "output_type": "stream",
          "text": [
            "Welcome to Chainer tutorial\n"
          ],
          "name": "stdout"
        }
      ]
    },
    {
      "cell_type": "markdown",
      "metadata": {
        "id": "GWhAbt3ov9dq"
      },
      "source": [
        "デフォルト値が与えられていない引数は、関数呼び出しの際に必ず何らかの値が渡される必要があるが、デフォルト値を持つ場合は、何も指定しなくても関数を呼び出すことができるようになる。"
      ]
    },
    {
      "cell_type": "markdown",
      "metadata": {
        "id": "DpwRYy4ov9dq"
      },
      "source": [
        "**返り値のある関数**\n",
        "\n",
        "上で定義した足し算を行う関数 `add()` では、計算結果を表示するだけで、計算結果を呼び出し元に戻していない。\n",
        "そのため、このままでは計算結果を関数の外から利用することができない。\n",
        "\n",
        "そこで、`add()` 関数の末尾に `return` 文を追加して、計算結果を呼び出し元に返すように変更してみる。"
      ]
    },
    {
      "cell_type": "code",
      "metadata": {
        "id": "ZCtzpxG1v9dq"
      },
      "source": [
        "# 返り値のある関数の定義\n",
        "def add(a, b):\n",
        "    return a + b"
      ],
      "execution_count": null,
      "outputs": []
    },
    {
      "cell_type": "markdown",
      "metadata": {
        "id": "M9c1_e-sv9dr"
      },
      "source": [
        "このように、呼び出し元に返したい値を `return` に続いて書くと、その値が `add()` 関数を呼び出したところへ戻される。\n",
        "`return` で返される値のことを**返り値 (return value)** と言う。\n",
        "\n",
        "以下に、計算結果を `result` と言う変数に格納し、表示する例を示す。"
      ]
    },
    {
      "cell_type": "code",
      "metadata": {
        "id": "RPJnjuL5v9dr",
        "colab": {
          "base_uri": "https://localhost:8080/"
        },
        "outputId": "fc7071d9-cde4-42af-c764-e5f91daf45cb"
      },
      "source": [
        "result = add(1, 3)\n",
        "\n",
        "result"
      ],
      "execution_count": null,
      "outputs": [
        {
          "output_type": "execute_result",
          "data": {
            "text/plain": [
              "4"
            ]
          },
          "metadata": {
            "tags": []
          },
          "execution_count": 106
        }
      ]
    },
    {
      "cell_type": "markdown",
      "metadata": {
        "id": "tagr61vUv9ds"
      },
      "source": [
        "計算結果が `result` に格納されているので、この結果を用いてさらに別の処理を行うことができる。"
      ]
    },
    {
      "cell_type": "code",
      "metadata": {
        "id": "Qe8Enb6Ev9ds",
        "colab": {
          "base_uri": "https://localhost:8080/"
        },
        "outputId": "85865de3-2985-4ea3-f3f4-06af237a4356"
      },
      "source": [
        "result = add(1, 3)\n",
        "\n",
        "result_doubled = result * 2\n",
        "\n",
        "result_doubled"
      ],
      "execution_count": null,
      "outputs": [
        {
          "output_type": "execute_result",
          "data": {
            "text/plain": [
              "8"
            ]
          },
          "metadata": {
            "tags": []
          },
          "execution_count": 107
        }
      ]
    },
    {
      "cell_type": "markdown",
      "metadata": {
        "id": "fP4OdcI-v9ds"
      },
      "source": [
        "また、返り値は「呼び出し元」に返されると書いた。\n",
        "この「呼び出し元」と言うのは、関数を呼び出す部分のことで、上のコードは `add(1, 3)` の部分が `4` と言う結果の値になり、それが左辺の `result` に代入されている。\n",
        "\n",
        "これを用いると、例えば「2 と 3 を足した結果と、1 と 3 を足した結果を、掛け合わせる」と言う計算が、以下のように書ける。"
      ]
    },
    {
      "cell_type": "code",
      "metadata": {
        "id": "gs0hBjg6v9ds",
        "colab": {
          "base_uri": "https://localhost:8080/"
        },
        "outputId": "acd85401-1265-435b-baf5-a450d872dd86"
      },
      "source": [
        "add(2, 3) * add(1, 3)"
      ],
      "execution_count": null,
      "outputs": [
        {
          "output_type": "execute_result",
          "data": {
            "text/plain": [
              "20"
            ]
          },
          "metadata": {
            "tags": []
          },
          "execution_count": 108
        }
      ]
    },
    {
      "cell_type": "markdown",
      "metadata": {
        "id": "BJnkcc_Qv9dt"
      },
      "source": [
        "**変数のスコープ**\n",
        "\n",
        "関数の中で定義した変数は基本的には関数の外では利用できない。\n",
        "例えば、以下の例を見てみよう。"
      ]
    },
    {
      "cell_type": "code",
      "metadata": {
        "id": "L8vtxEV7v9dt",
        "colab": {
          "base_uri": "https://localhost:8080/"
        },
        "outputId": "025665c1-89ec-46ff-ddc7-3d0f0bcfcca3"
      },
      "source": [
        "a = 1\n",
        "\n",
        "# 関数の内部で a に 2 を代入\n",
        "def change():\n",
        "    a = 2\n",
        "    \n",
        "change()\n",
        "\n",
        "a"
      ],
      "execution_count": null,
      "outputs": [
        {
          "output_type": "execute_result",
          "data": {
            "text/plain": [
              "1"
            ]
          },
          "metadata": {
            "tags": []
          },
          "execution_count": 109
        }
      ]
    },
    {
      "cell_type": "markdown",
      "metadata": {
        "id": "Z9slKEKXv9du"
      },
      "source": [
        "関数の外で `a = 1` と初期化した変数と同じ名前の変数に対して、`change()` 関数の内部で `a = 2` と言う代入を行っているにもかかわらず、`change()` 関数の実行後にも関数の外側では `a` の値は 1 のままになっている。\n",
        "**関数の外側で定義された変数** `a` **に、関数内部での処理が影響していないことがわかる。**\n",
        "\n",
        "なぜこうなるかと言うと、関数の中で変数に値が代入されるとき、その変数はその関数の**スコープ (scope)** でだけ有効な**ローカル変数**になり、関数の外にある同じ名前の変数とは別のものを指すようになるためである。\n",
        "スコープとは、その変数が参照可能な範囲のことである。\n",
        "上の例では、`a = 2` の代入を行った時点で`change()` 関数のスコープに `a` と言う変数が作られ、`change()` 関数の中からは `a` といえばこれを指すようになる。関数から抜けると、`a` は 1 を値に持つ外側の変数を指すようになる。\n",
        "\n",
        "ただし、代入を行わずに、参照するだけであれば、関数の内側から外側で定義された変数を利用することができる。"
      ]
    },
    {
      "cell_type": "code",
      "metadata": {
        "id": "XgGcEUSQv9du",
        "colab": {
          "base_uri": "https://localhost:8080/"
        },
        "outputId": "a73b768c-c19e-460f-c749-52377f9bbf66"
      },
      "source": [
        "a = 1\n",
        "\n",
        "def change():\n",
        "    print('From inside:', a)\n",
        "    \n",
        "change()\n",
        "\n",
        "print('From outside:', a)"
      ],
      "execution_count": null,
      "outputs": [
        {
          "output_type": "stream",
          "text": [
            "From inside: 1\n",
            "From outside: 1\n"
          ],
          "name": "stdout"
        }
      ]
    },
    {
      "cell_type": "markdown",
      "metadata": {
        "id": "vAHe5xDGv9dv"
      },
      "source": [
        "この場合は、`change()` 関数のスコープには `a` と言う変数は作られないので、関数の中で `a` といえば外側で定義された変数を指す。\n",
        "\n",
        "関数の外で定義された変数は**グローバル変数**と呼ばれる。\n",
        "グローバル変数は、特に特別な記述を要せず参照することはできるが、関数の中で**代入**を行う場合は、`global` 文を使って、代入先をグローバル変数とする宣言を行う必要がある。"
      ]
    },
    {
      "cell_type": "code",
      "metadata": {
        "id": "D1uNClamv9dv",
        "colab": {
          "base_uri": "https://localhost:8080/"
        },
        "outputId": "a7b2fd8e-30b4-4887-ccb1-4517fa025ac1"
      },
      "source": [
        "a = 1\n",
        "\n",
        "def change():\n",
        "    global a  # a をグローバル変数である宣言\n",
        "    a = 2       # グローバル変数への代入\n",
        "\n",
        "# 関数の実行\n",
        "change()\n",
        "\n",
        "# 結果の確認 <- a の値が上書きされている\n",
        "a"
      ],
      "execution_count": null,
      "outputs": [
        {
          "output_type": "execute_result",
          "data": {
            "text/plain": [
              "2"
            ]
          },
          "metadata": {
            "tags": []
          },
          "execution_count": 111
        }
      ]
    },
    {
      "cell_type": "markdown",
      "metadata": {
        "id": "MSTyBWulv9dv"
      },
      "source": [
        "`global a` と言う行を `change()` 関数内で `a` と言う変数を使用する前に追加すると、その行以降は `a` と言う変数への代入も関数の外側で定義されたグローバル変数の `a` に対して行われる。"
      ]
    },
    {
      "cell_type": "markdown",
      "metadata": {
        "id": "FBe0bEnnVoE5"
      },
      "source": [
        "# クラス\n",
        "\n",
        "**オブジェクト指向プログラミング (object-oriented programming)** の特徴の一つである**クラス (class)** は、**オブジェクト (object)** を生成するための設計図にあたるものである。\n",
        "\n",
        "クラスから作成された実体のことを**インスタンス (instance)** または**オブジェクト (object)** とも呼び、**クラスから実体を作成する**と言う操作のことを**インスタンス化 (instantiation)** と呼ぶ。"
      ]
    },
    {
      "cell_type": "markdown",
      "metadata": {
        "id": "M1XEvf6Kv9dw"
      },
      "source": [
        "**クラスの定義**\n",
        "\n",
        "それでは、家の設計図を表す `House` と言うクラスを定義してみる。\n",
        "\n",
        "`House` クラスには、インスタンス化されたあとに、各インスタンス、すなわち誰か特定の人の家ごとに異なる値を持つ、`name_plate` と言う変数を持たせてみる。\n",
        "\n",
        "`name_plate` と言う変数には、個別の家の表札に表示するための文字列が与えられるが、クラスを定義する際には「`name_plate` と言う変数を持つことができる」ようにしておくだけでよく、**実際にその変数に何か具体的な値を与える必要はない。**\n",
        "\n",
        "クラスは、**設計図**であればよく、具体的な値を持たせなくてもよいためである。\n",
        "\n",
        "具体的な値は、個別の家を作成するとき、すなわちインスタンス化の際に与え、各インスタンスが `name_plate` と言う値に自分の家の表札の名前を保持するようにする。\n",
        "\n",
        "このような、インスタンスに属している変数を**属性 (attribute)** と呼ぶ。同様に、インスタンスから呼び出すことができる関数のことを**メソッド (method)** と呼ぶ。\n",
        "\n",
        "クラスは、以下のような構文を使って定義する。\n",
        "\n",
        "具体的には、以下のようになる。\n",
        "```\n",
        "class クラス名: ヘッダー\n",
        "    def メソッド名(引数1, ...): ヘッダー\n",
        "        ブロック処理\n",
        "```"
      ]
    },
    {
      "cell_type": "code",
      "metadata": {
        "id": "9ZrUz4kHv9dw"
      },
      "source": [
        "# クラスの定義\n",
        "class House:\n",
        "    # __init__() メソッドの定義\n",
        "    def __init__(self, name):\n",
        "        self.name_plate = name"
      ],
      "execution_count": null,
      "outputs": []
    },
    {
      "cell_type": "markdown",
      "metadata": {
        "id": "151zWM4Dv9dw"
      },
      "source": [
        "ここで、`__init__()` と言う名前のメソッドが `House` クラスの中に定義されている。\n",
        "メソッドの名前は自由に名付けることができるが、いくつか特別な意味を持つメソッド名が予め決められている。\n",
        "`__init__()` はそういったメソッドの一つで、**インスタンス化する際に自動的に呼ばれるメソッド**である。\n",
        "\n",
        "`House` クラスの `__init__()` は、`name` と言う引数をとり、これを `self.name_plate` と言う変数に代入している。\n",
        "この `self` と言うのは、クラスがインスタンス化されたあと、作成されたインスタンス自身を参照するのに用いられる。\n",
        "これを使って、`self.name_plate = name` とすることで、作成された個別のインスタンスに属する変数 `self.name_plate` へ、引数に渡された `name` が持つ値を代入することができる。\n",
        "`self` が指すものは、各インスタンスから見た「自分自身」なので、各インスタンスごとに異なる。\n",
        "これによって、`self.name_plate` は各インスタンスに紐付いた別々の値を持つものとなる。\n",
        "\n",
        "メソッドは、インスタンスから呼び出されるとき自動的に第一引数にそのインスタンスへの参照を渡す。\n",
        "そのため、メソッドの第一引数は `self` とし、渡されてくる自分自身への参照を受け取るようにしている。\n",
        "ただし、呼び出す際には**そのインスタンスを引数に指定する必要はない。**\n",
        "以下に具体例を示し、再度このことを確認する。\n",
        "\n",
        "それでは、上で定義した `House` クラスのインスタンスを作成してみる。\n",
        "クラスのインスタンス化には、クラス名のあとに `()` を追加して、クラスを呼び出すような記法を使う。\n",
        "この際、関数を呼び出すときと同様にして、`()` に引数を渡すことができる。\n",
        "その引数は、`__init__()` メソッドに渡される。"
      ]
    },
    {
      "cell_type": "code",
      "metadata": {
        "id": "PE3dT2ytv9dx"
      },
      "source": [
        "my_house = House('Chainer')"
      ],
      "execution_count": null,
      "outputs": []
    },
    {
      "cell_type": "markdown",
      "metadata": {
        "id": "9xHHa6rwv9dx"
      },
      "source": [
        "`House` と言うクラスの `__init__()` メソッドに、`'Chainer'` と言う文字列を渡している。\n",
        "`my_house` が、`House` クラスから作成されたインスタンスである。\n",
        "ここで、クラス定義では `__init__()` メソッドは `self` と `name` と言う 2 つの引数をとっていたが、呼び出しの際には `'Chainer'` と言う一つの引数しか与えていない。\n",
        "この `'Chainer'` と言う文字列は、1 つ目の引数であるにも関わらず、`__init__()` メソッドの定義では 2 つ目の引数であった `name` に渡される。\n",
        "前述のように、**メソッドは、インスタンスから呼び出されるとき自動的に第一引数にそのインスタンスへの参照を渡す**ためである。\n",
        "この自動的に渡される自身への参照は、呼び出しの際には明示的に指定しない。\n",
        "また、かならず 1 つ目の引数に自動的に渡されるため、呼び出し時に明示的に与えられた引数は 2 つ目以降の引数に渡されたものとして取り扱われる。\n",
        "\n",
        "それでは次に、このクラスに `hello()` と言うメソッドを追加し、呼び出すと誰の家であるかを表示すると言う機能を実装してみる。"
      ]
    },
    {
      "cell_type": "code",
      "metadata": {
        "id": "k2Zcvs1xv9dx"
      },
      "source": [
        "# クラスの定義\n",
        "class House:\n",
        "\n",
        "    # __init__() の定義\n",
        "    def __init__(self, name):\n",
        "        self.name_plate = name\n",
        "\n",
        "    # メソッドの定義\n",
        "    def hello(self):\n",
        "        print('{}の家である。'.format(self.name_plate))"
      ],
      "execution_count": null,
      "outputs": []
    },
    {
      "cell_type": "markdown",
      "metadata": {
        "id": "oTQagqYdv9dz"
      },
      "source": [
        "それでは、2 つのインスタンスを作成して、それぞれから `hello()` メソッドを呼び出してみる。"
      ]
    },
    {
      "cell_type": "code",
      "metadata": {
        "id": "MP8iXQM0v9dz",
        "colab": {
          "base_uri": "https://localhost:8080/"
        },
        "outputId": "53a7fbb2-4124-4c98-e37f-561542d1c82d"
      },
      "source": [
        "sato = House('佐藤')\n",
        "suzuki = House('スズキ')\n",
        "\n",
        "sato.hello()   # 実行の際には hello() の引数にある self は無視\n",
        "suzuki.hello() # 実行の際には hello() の引数にある self は無視"
      ],
      "execution_count": null,
      "outputs": [
        {
          "output_type": "stream",
          "text": [
            "佐藤の家である。\n",
            "スズキの家である。\n"
          ],
          "name": "stdout"
        }
      ]
    },
    {
      "cell_type": "markdown",
      "metadata": {
        "id": "_vI_Dqjdv9d0"
      },
      "source": [
        "`sato` と言うインスタンスの `name_plate` 属性には、`'佐藤'` と言う文字列が格納されている。  \n",
        "`suzuki` と言うインスタンスの `name_plate` 属性には、`'スズキ'` と言う文字列が格納されている。  \n",
        "それぞれのインスタンスから呼び出された `hello()` メソッドは、`self.name_plate` に格納された別々の値を `print()` を用いて表示している。\n",
        "\n",
        "このように、同じ機能を持つが、インスタンスによって保持するデータが異なったり、一部の動作が異なったりするようなケースを扱うのにクラスを利用する。\n",
        "Python の `int` 型、`float` 型、`str` 型…などは、実際には `int` クラス、`float` クラス、`str` クラスであり、それらの中では個別の変数（インスタンス）がどのような値になるかには関係なく、同じ型であれば共通して持っている機能が定義されている。\n",
        "`5` や `0.3` や `'Chainer'` などは、それぞれ `int` クラスのインスタンス、`float` クラスのインスタンス、`str` クラスのインスタンスである。\n",
        "\n",
        "以上から、クラスを定義すると言うのは、**新しい型を作る**と言うことでもあると分かる。"
      ]
    },
    {
      "cell_type": "markdown",
      "metadata": {
        "id": "0M1dmJSacA7g"
      },
      "source": [
        "# 継承\n",
        "\n",
        "あるクラスを定義したら、その一部の機能を変更したり、新しい機能を付け足したりしたくなることがある。\n",
        "これを実現する機能が**継承 (inheritance)** である。\n",
        "例えば、`Link` と言うクラスを定義し、そのクラスを継承した `Chain` と言う新しいクラスを作ってみよう。\n",
        "まず、`Link` クラスを定義する。"
      ]
    },
    {
      "cell_type": "code",
      "metadata": {
        "id": "wn9XJxjpv9d0"
      },
      "source": [
        "class Link:\n",
        "\n",
        "    def __init__(self):\n",
        "        self.a = 1\n",
        "        self.b = 2"
      ],
      "execution_count": null,
      "outputs": []
    },
    {
      "cell_type": "markdown",
      "metadata": {
        "id": "Qn0fSwvyv9d1"
      },
      "source": [
        "この `Link` と言うクラスは、インスタンス化を行う際には 1 つも引数をとらないが、属性として `a` と `b` の 2 つの変数を保持し、それぞれには `__init__()` メソッドで 1 と 2 と言う値が代入される。\n",
        "このクラスのインスタンスを作成してみる。"
      ]
    },
    {
      "cell_type": "code",
      "metadata": {
        "id": "BsfYK88qv9d1",
        "colab": {
          "base_uri": "https://localhost:8080/"
        },
        "outputId": "6cbd18c0-d8da-4d3e-cafa-a28dfd482a5b"
      },
      "source": [
        "l = Link()\n",
        "\n",
        "l.a"
      ],
      "execution_count": null,
      "outputs": [
        {
          "output_type": "execute_result",
          "data": {
            "text/plain": [
              "1"
            ]
          },
          "metadata": {
            "tags": []
          },
          "execution_count": 117
        }
      ]
    },
    {
      "cell_type": "code",
      "metadata": {
        "id": "JA6sXOrvv9d2",
        "colab": {
          "base_uri": "https://localhost:8080/"
        },
        "outputId": "c0498302-30c2-458a-ce6b-0c778f506315"
      },
      "source": [
        "l.b"
      ],
      "execution_count": null,
      "outputs": [
        {
          "output_type": "execute_result",
          "data": {
            "text/plain": [
              "2"
            ]
          },
          "metadata": {
            "tags": []
          },
          "execution_count": 118
        }
      ]
    },
    {
      "cell_type": "markdown",
      "metadata": {
        "id": "DxipToKmv9d2"
      },
      "source": [
        "`l` と言う `Link` クラスのインスタンスが持つ 2 つの属性を表示している。\n",
        "インスタンス化を行った際に `__init__()` メソッドの中で代入していた値が、表示されている。\n",
        "\n",
        "次に、このクラスを**継承**する、`Chain` と言うクラスを定義してみる。\n",
        "継承を行う場合は、クラス定義の際にクラス名に続けて `()` を書き、その中にベースにしたいクラスの名前を書く。\n",
        "`()` の中に書かれたクラスのことを、定義されるクラスの**親クラス**と言う。\n",
        "それに対し、`()` の中に書かれたクラスからみると、定義されるクラスは**子クラス**と呼ばれる。\n",
        "親から子へ機能が受け継がれるためである。"
      ]
    },
    {
      "cell_type": "code",
      "metadata": {
        "id": "A4eTa6jZv9d3"
      },
      "source": [
        "class Chain(Link):\n",
        "    \n",
        "    def sum(self):\n",
        "        return self.a + self.b"
      ],
      "execution_count": null,
      "outputs": []
    },
    {
      "cell_type": "markdown",
      "metadata": {
        "id": "dhxR4J0mv9d3"
      },
      "source": [
        "`Chain` クラスは `__init__()` メソッドの定義を持ちない。\n",
        "`__init__()` メソッドが定義されていない場合、親クラスの `__init__()`  メソッドが自動的に呼び出される。\n",
        "そのため、`Chain` クラスでは一見何も属性を定義していないように見えるが、インスタンス化を行うと親クラスである `Link` の `__init__()`  メソッドが自動的に実行され、`a`、`b` と言う属性が定義される。\n",
        "以下のコードで確認してみる。"
      ]
    },
    {
      "cell_type": "code",
      "metadata": {
        "id": "ipmqPwsKv9d3",
        "colab": {
          "base_uri": "https://localhost:8080/"
        },
        "outputId": "91699999-c46c-406c-ea47-9483875d4d86"
      },
      "source": [
        "# Chain クラスをインスタンス化\n",
        "c = Chain()\n",
        "\n",
        "c.a"
      ],
      "execution_count": null,
      "outputs": [
        {
          "output_type": "execute_result",
          "data": {
            "text/plain": [
              "1"
            ]
          },
          "metadata": {
            "tags": []
          },
          "execution_count": 120
        }
      ]
    },
    {
      "cell_type": "code",
      "metadata": {
        "id": "lWL0VTMOv9d4",
        "colab": {
          "base_uri": "https://localhost:8080/"
        },
        "outputId": "683674c2-86a0-4e16-adfa-0495c67c7aa1"
      },
      "source": [
        "c.b"
      ],
      "execution_count": null,
      "outputs": [
        {
          "output_type": "execute_result",
          "data": {
            "text/plain": [
              "2"
            ]
          },
          "metadata": {
            "tags": []
          },
          "execution_count": 121
        }
      ]
    },
    {
      "cell_type": "markdown",
      "metadata": {
        "id": "nVjBNK1Cv9d4"
      },
      "source": [
        "`Chain` クラスの `sum()` メソッドでは、この親クラスの `__init__()`  メソッドで定義されている 2 つの属性を足し合わせて返している。\n",
        "今作成したインスタンスから、この `sum()` メソッドを呼び出してみる。"
      ]
    },
    {
      "cell_type": "code",
      "metadata": {
        "id": "pEf10A44v9d5",
        "colab": {
          "base_uri": "https://localhost:8080/"
        },
        "outputId": "5e4bc4fc-1fd3-4fcc-e434-05be186fb6bd"
      },
      "source": [
        "# sum メソッドを実行\n",
        "c.sum()"
      ],
      "execution_count": null,
      "outputs": [
        {
          "output_type": "execute_result",
          "data": {
            "text/plain": [
              "3"
            ]
          },
          "metadata": {
            "tags": []
          },
          "execution_count": 122
        }
      ]
    },
    {
      "cell_type": "markdown",
      "metadata": {
        "id": "QI1v_Ib0v9d5"
      },
      "source": [
        "このように、**親クラスを継承し、親クラスに無かった新しい機能が追加された、新しいクラスを定義することができる。**\n",
        "\n",
        "それでは、この `Chain` と言うクラスにも `__init__()`  メソッドを定義して、新しい属性 `c` を定義し、`sum()` メソッドでは親クラスの `a`、`b` と言う属性とこの新たな `c` と言う属性の 3 つの和を返すように変更してみる。"
      ]
    },
    {
      "cell_type": "code",
      "metadata": {
        "id": "ds9A6Xfpv9d5"
      },
      "source": [
        "class Chain(Link):\n",
        "\n",
        "    def __init__(self):\n",
        "        self.c = 5  # self.c を新たに追加\n",
        "    \n",
        "    def sum(self):\n",
        "        return self.a + self.b + self.c\n",
        "\n",
        "# インスタンス化\n",
        "C = Chain()"
      ],
      "execution_count": null,
      "outputs": []
    },
    {
      "cell_type": "code",
      "metadata": {
        "id": "_2_7avSHv9d6"
      },
      "source": [
        "# error\n",
        "# C.sum()"
      ],
      "execution_count": null,
      "outputs": []
    },
    {
      "cell_type": "markdown",
      "metadata": {
        "id": "ZfTe1NMUv9d6"
      },
      "source": [
        "エラーが出た。\n",
        "\n",
        "**エラーメッセージを読む。**\n",
        "\n",
        "> AttributeError: 'Chain' object has no attribute 'a'\n",
        "\n",
        "`'Chain'` と言うオブジェクトは、`'a'` と言う名前の属性を持っていない、と言われている。\n",
        "`a` と言う属性は、`Chain` の親クラスである `Link` の `__init__()`  メソッドで定義されている。\n",
        "そのため、`Chain` クラスをインスタンス化する際に、親クラスである `Link` の `__init__()`  メソッドが呼ばれているのであれば、このエラーは起こらないはずである。\n",
        "なぜエラーとなってしまったのだろうか。\n",
        "\n",
        "それは、`Chain` クラスにも `__init__()` メソッドを定義したため、親クラスである `Link` の `__init__()`  メソッドが上書きされてしまい、実行されなかったためである。\n",
        "しかし、親クラスの `__init__()`  メソッドを明示的に呼ぶことで、これは解決できる。\n",
        "\n",
        "それには、`super()` と言う組み込み関数を用いる。\n",
        "これを用いると、子クラスから親クラスを参照することができる。"
      ]
    },
    {
      "cell_type": "code",
      "metadata": {
        "id": "_NcT6aN7v9d6"
      },
      "source": [
        "class Chain(Link):\n",
        "\n",
        "    def __init__(self):\n",
        "        # 親クラスの `__init__()` メソッドを呼び出す\n",
        "        super().__init__()\n",
        "        \n",
        "        # self.c を新たに追加\n",
        "        self.c = 5\n",
        "    \n",
        "    def sum(self):\n",
        "        return self.a + self.b + self.c\n",
        "\n",
        "# インスタンス化\n",
        "c = Chain()"
      ],
      "execution_count": null,
      "outputs": []
    },
    {
      "cell_type": "code",
      "metadata": {
        "id": "FW__tTtGv9d7",
        "colab": {
          "base_uri": "https://localhost:8080/"
        },
        "outputId": "ad12f762-600f-49af-9877-0c8bec06bc37"
      },
      "source": [
        "c.sum()"
      ],
      "execution_count": null,
      "outputs": [
        {
          "output_type": "execute_result",
          "data": {
            "text/plain": [
              "8"
            ]
          },
          "metadata": {
            "tags": []
          },
          "execution_count": 128
        }
      ]
    },
    {
      "cell_type": "markdown",
      "metadata": {
        "id": "HcDciFKRv9d7"
      },
      "source": [
        "今回はエラーが起きない。\n",
        "`Link` クラスの `__init__()`  メソッドの冒頭で、まず親クラスの `__init__()`  メソッドを実行し、`a`、`b` と言う属性を定義しているためである。\n",
        "\n",
        "あるクラスを継承して作られたクラスを、さらに継承して別のクラスを定義することもできる。"
      ]
    },
    {
      "cell_type": "code",
      "metadata": {
        "id": "RmL3FvD-v9d7"
      },
      "source": [
        "class MyNetwork(Chain):\n",
        "    \n",
        "    def mul(self):\n",
        "        return self.a * self.b * self.c"
      ],
      "execution_count": null,
      "outputs": []
    },
    {
      "cell_type": "markdown",
      "metadata": {
        "id": "21eb0EOKv9d8"
      },
      "source": [
        "`MyNetwork` クラスは、`Link` クラスを継承した `Chain` クラスをさらに継承したクラスで、`a`、`b`、`c` と言う 3 つの属性を掛け合わせた結果を返す `mul()` と言うメソッドを持つ。\n",
        "\n",
        "このクラスのインスタンスを作成し、`mul()` を実行してみる。"
      ]
    },
    {
      "cell_type": "code",
      "metadata": {
        "id": "Cq4lJIm3v9d8",
        "colab": {
          "base_uri": "https://localhost:8080/"
        },
        "outputId": "badf180c-a24a-4429-82e4-5b524d8fa39c"
      },
      "source": [
        "net = MyNetwork()\n",
        "\n",
        "net.mul()"
      ],
      "execution_count": null,
      "outputs": [
        {
          "output_type": "execute_result",
          "data": {
            "text/plain": [
              "10"
            ]
          },
          "metadata": {
            "tags": []
          },
          "execution_count": 130
        }
      ]
    },
    {
      "cell_type": "markdown",
      "metadata": {
        "id": "VujV1nqfv9d8"
      },
      "source": [
        "$1 \\times 2 \\times 5 = 10$ が返ってきた。"
      ]
    },
    {
      "cell_type": "markdown",
      "metadata": {
        "id": "mIPsXEy0v9d9"
      },
      "source": [
        "以上で、Python の基本についての解説を終了する。\n",
        "Python には他にもここでは紹介されていない多くの特徴や機能がある。\n",
        "さらに詳しく学びたい方は、[Pythonチュートリアル](https://docs.python.org/ja/3/tutorial/index.html) などを参照する。"
      ]
    },
    {
      "cell_type": "markdown",
      "metadata": {
        "id": "2tJWtn_RGK96"
      },
      "source": [
        "# 機械学習に使われる数学"
      ]
    },
    {
      "cell_type": "markdown",
      "metadata": {
        "id": "CE_CacxQ7q7t"
      },
      "source": [
        "次章より 3 つの章にわたって、ディープラーニングを含む機械学習に必要な数学のうち、基礎的なものとして「微分」「線形代数」「確率統計」の 3 つについて、要点を絞り、簡潔に紹介していく。\n",
        "\n",
        "その前に、本章では**機械学習 (machine learning)** の考え方について大枠を掴み、どの部分でそれぞれの項目が登場するかを把握しておく。"
      ]
    },
    {
      "cell_type": "markdown",
      "metadata": {
        "id": "yfsQqK7V7q7v"
      },
      "source": [
        "**機械学習とは**\n",
        "\n",
        "機械学習は、与えられたデータから、未知のデータに対しても当てはまる規則やパターンを抽出したり、それらを元に未知のデータを分類したり、予測したりする手法を研究する学術領域である。\n",
        "機械学習は様々な技術に応用されており、例えば画像認識、音声認識、文書分類、医療診断、迷惑メール検知、商品推薦など、幅広い分野で重要な役割を果たしている。\n"
      ]
    },
    {
      "cell_type": "markdown",
      "metadata": {
        "id": "jmDfiui5JIq7"
      },
      "source": [
        "**教師あり学習の考え方**\n",
        "\n",
        "機械学習の代表的な問題設定として、**教師あり学習 (supervised learning)** というものがある。\n",
        "これは、問題に対して予め答えを用意しておき、予想された答えと実際の答えの違いが小さくなるように訓練を行う方法である。\n",
        "\n",
        "もう少し具体的に教師あり学習の考え方を説明してみる。\n",
        "例えば、以下の図のような赤い点の集まりがあったとする。\n",
        "\n",
        "![data points](https://github.com/chainer/tutorials/blob/master/ja/images/01/01_data_points.png?raw=1)\n",
        "\n",
        "この図は、横軸が $x$ 軸、縦軸が $t$ 軸となっている。\n",
        "この赤い点の 1 つ 1 つは、$x$ と $t$ の値の組を表している。\n",
        "図から、$x = 0$ 付近では $t$ も $0$ 付近の値をとることが多いようだ。\n",
        "また、$x = 200$ 付近では、$t$ は $40$ 前後の値をとっているように見える。\n",
        "それでは、$x = -200$ のとき、$t$ はどのような値をとるだろうか。\n",
        "\n",
        "このように、与えられたデータから関係性を予想し、未知のデータに対しても筋の良い見通しを立てることが、教師あり学習の代表的な目標の 1 つである。\n"
      ]
    },
    {
      "cell_type": "markdown",
      "metadata": {
        "id": "04JGYNqhJMmG"
      },
      "source": [
        "**直線による近似**\n",
        "\n",
        "次に、以下のような直線の方程式を考えてみる。\n",
        "\n",
        "$$\n",
        "f(x) = wx + b\n",
        "\\tag{2.1}\n",
        "\\label{line}\n",
        "$$\n",
        "\n",
        "![line](https://github.com/chainer/tutorials/blob/master/ja/images/01/01_line.png?raw=1)\n",
        "\n",
        "これは、1 つの入力 $x$ を与えると 1 つの出力を返す関数 $f$ を表していて、この関数は傾き $w$ と切片 $b$ の **2 つのパラメータで特徴づけられている。**\n",
        "上の図は、$w = 0.5$、$b = 50$ の場合を表している。\n",
        "ここで、初めの図にあった赤い点の集まりに見られる $x$ と $t$ の関係を、うまく式 $\\eqref{line}$ の直線によって近似することを考えてみる。\n",
        "\n",
        "この直線をそのまま赤い点の集まりの上におくと、以下のようになる。\n",
        "\n",
        "![line and data points](https://github.com/chainer/tutorials/blob/master/ja/images/01/01_line_and_data_points.png?raw=1)\n",
        "\n",
        "あまりうまく $x$ と $t$ の関係を表しているようには見えない。\n",
        "\n",
        "式 $\\eqref{line}$ で表される直線は、$w$ と $b$ が決まると、どのような直線になるかが決定される。\n",
        "つまり、この $w$ と $b$ の値をうまく決定して、赤い点の集まりにできるだけ沿うような直線を見つけることができれば、新しい $x$ が与えられたときに、$t$ の値がどのような値になりそうかを予測することができそうである。\n",
        "このとき、未知のデータに対しても精度良く予測が行えることを**汎化性能 (generalizability)** が高いと言う。\n",
        "\n",
        "また、パラメータ $w$ と $b$ によって特徴づけられた直線の式  $\\eqref{line}$ のような、パラメータを使って何らかの計算を行うことで、与えられたデータの特徴や関係性を表すものを、以降簡単に**モデル (model)** と呼ぶことにする（[注釈1](#note1)）。\n",
        "\n",
        "それでは、$x$ と $t$ の関係をよく表すモデルのパラメータ $w$ と $b$ は、どうやって決定すればよいのだろうか。\n",
        "先程のように、人が赤い点の集まりを目で見て $x$ と $t$ の関係に当たりをつけ、最適な $w$ と $b$ の値を人手で探り当てるのは、赤い点がもし 3 次元空間や、4 次元、5 次元…といった人間には想像することが難しい高次元空間に散らばっていたら、目で見ることもできないため、困難になる。\n",
        "そこで、コンピュータにこれらの赤い点のデータを与えて、自動的に最適な $w$ と $b$ を探させようというのが、機械学習で行われる代表的な処理のひとつである。\n",
        "\n"
      ]
    },
    {
      "cell_type": "markdown",
      "metadata": {
        "id": "8aGBVpOlTTk0"
      },
      "source": [
        "**目的関数**\n",
        "\n",
        "コンピュータに良いパラメータを自動的に見つけてもらうためには、**何が良いパラメータなのか**という指標を定義する必要がある。\n",
        "そのような指標を表す関数を**目的関数 (objective function)** と呼ぶ。\n",
        "\n",
        "ここで、上の直線の例に戻って考えてみる。\n",
        "まず、式 $\\eqref{line}$ にある $x$ を与えると、$w$ と $b$ を使って $wx + b$ という計算が行われる。\n",
        "その結果を $y$ と表すことにする。\n",
        "ここで、$x$ を**入力変数 (input variable)**、$y$ を**出力変数 (output variable)** と呼ぶ。\n",
        "今、上図の赤い点の集まりから 1 点を選び出し、その $x$ 座標の値を式 $\\eqref{line}$ に与えたとする。\n",
        "このとき、式 $\\eqref{line}$ に与えられた具体的な $x$ の値を、**入力値 (input value)** と呼ぶ。\n",
        "そして、パラメータ $w$ と $b$ を用いて計算を行った結果得られる具体的な $y$ の値を、**予測値 (predicted value)** と呼ぶ。\n",
        "このとき、直線の式ではなく、実際の赤い点の持つ $t$ の値は、この式が予測したい目標の値なので、**目標値 (target value)** と呼ぶ。\n",
        "\n",
        "目的関数は多くの場合、モデルの予測値と目標値を受け取って、その間の差異を測って返すような関数である。\n",
        "差異は小さければ小さいほどモデルの予測が当たっていることを意味するため、この場合は目的関数の値を最小にするパラメータを見つけ出すのが目的になる。\n",
        "\n"
      ]
    },
    {
      "cell_type": "markdown",
      "metadata": {
        "id": "04P95-vKTe7C"
      },
      "source": [
        "**二乗誤差関数**\n",
        "\n",
        "目的関数の具体例を挙げる。\n",
        "例えば、適当に赤い点を 1 つ選び、その $x$ 座標が $100$ で、 $t$ 座標が $40$ だったとする。\n",
        "この値を、$x_1 = 100, t_1 = 40$ のようにおいてみる。\n",
        "そして、別な点も取り出してきて、同じように座標値 $(x, t)$ を $(x_2, t_2)$ と書くことにする。\n",
        "同様にして、200 個赤い点を取り出してきたとすると、200 個の $x$ の値 $x_1, x_2, \\dots, x_{200}$ と $t_1, t_2, \\dots, t_{200}$ が得られる。  \n",
        "\n",
        "この $x_1, x_2, \\dots, x_{200}$ から $t_1, t_2, \\dots, t_{200}$ を予測するのが目標だった。  \n",
        "つまり、$x_1, x_2, \\dots, x_{200}$ が入力値、$t_1, t_2, \\dots, t_{200}$ が目標値である。\n",
        "\n",
        "そして、この 200 個の $x$ の値全てに対して、式 $\\eqref{line}$ による予測値 $y$ を計算した結果、$y_1, y_2, \\dots, y_{200}$ が得られたとする。\n",
        "\n",
        "このとき、これらの予測値の正確さを、対応する目標値との間の**差の二乗**によって測るのが、**二乗誤差関数 (squared error function)** と呼ばれるものである。\n",
        "\n",
        "具体的には、$n$ 個目の予測値を $y_n$、目標値を $t_n$ とすると、以下のような関数である。\n",
        "\n",
        "$$\n",
        "\\mathcal{l} = (t_n - y_n)^2\n",
        "$$\n",
        "\n",
        "これは、$n$ 個目のデータに対する予測値と目標値の差異を表している。\n",
        "しかし、ある 1 つのデータに対してだけ予測がうまくいっていたとしても、それ以外のデータに対して全くうまく予測できないのであれば、そのモデルが新しい値に対して正確な予測を行うことは困難であると考えられる。\n",
        "そこで、200 個のデータ全てに渡って、この二乗誤差を足し合わせ、データ数の 200 で割って平均をとったものを考える。\n",
        "\n",
        "$$\n",
        "L = \\frac{1}{200} \\sum_{n=1}^{200} (t_n - y_n)^2\n",
        "$$\n",
        "\n",
        "$\\sum$ という記号は、**総和**を表す。\n",
        "上の式は、$(t_n - y_n)^2$ の値を、$n = 1$ から順番に $n = 2, n = 3, \\dots, n = 200$ まで計算していき、全てを足し合わせ、$200$ で割る、ということを意味する。\n",
        "\n",
        "これは、**平均二乗誤差 (mean squared error)** と呼ばれ、連続値を予測する回帰問題などでよく用いられる代表的な目的関数の 1 つである。\n",
        "この関数は、予測値と目標値がすべての $n$ において完全に一致するときだけ $0$ になり、それ以外では必ず正の値をとる。\n",
        "よって、この目的関数の値を最小にする $w$ と $b$ が、求めたい最適なパラメータである。\n",
        "「良いパラメータとは何か」が定量的に定義できたので、次はコンピュータに解を探索させる方法を考える。\n",
        "\n"
      ]
    },
    {
      "cell_type": "markdown",
      "metadata": {
        "id": "uWq6zD6KSmKM"
      },
      "source": [
        "**目的関数の最適化**\n",
        "\n",
        "ある関数を最小にする入力変数の値を求めることを最適化と言う。この最適化をコンピュータで自動的に行うには、どうすれば良いのだろうか。\n",
        "例えば、以下のような関数があるとする。\n",
        "横軸が入力の値、縦軸が出力の値である。\n",
        "\n",
        "![quadric](https://github.com/chainer/tutorials/blob/master/ja/images/01/01_quadric.png?raw=1)\n",
        "\n",
        "このとき、関数に適当な値をまず入力してみて、得られた値を使ってその値が小さくなりそうな方向に入力を少し動かす、ということを繰り返し行って、関数が最小値をとる入力値を探索する、という方法がある。\n"
      ]
    },
    {
      "cell_type": "markdown",
      "metadata": {
        "id": "v_yQhU9lSz8W"
      },
      "source": [
        "\n",
        "**機械学習で使われる数学**\n",
        "\n",
        "このような最適化を行うのに必要になるのが**微分 (differential)** の知識である。\n",
        "なぜなら、「入力をどちらに動かせば出力が小さな値になりそうか」ということを知るためには、対象の関数を微分する必要があるからである。詳細は次章で説明する。\n",
        "\n",
        "また、初めにあげた赤い点の集まりに最もよく沿うような直線を求める問題では、1 つの値を入力して 1 つの値が出力される関数を考えていたが、複数の値を同時に扱いたいときに必要になるのが、**線形代数 (linear algebra)** の知識である。\n",
        "\n",
        "さらに、赤い点がもし本当は直線上にぴったり沿うようなデータであったのに、観測時に何らかの理由でノイズが乗ってしまったがために直線の周辺にばらついて出てきているのだとしたら、そのノイズがどの程度の範囲で値のズレを発生させるものなのか、見当をつけておきたくなるかも知れない。\n",
        "そういったときに必要になるのが、**確率(probability)・統計 (statistics)** の知識である。\n",
        "\n",
        "この 3 つについて、機械学習の学習に必要となる最低限の知識に絞って以降の 3 章で解説を行う。\n",
        "\n",
        "それでは、次章はまず微分についてである。\n",
        "\n",
        "<hr />\n"
      ]
    },
    {
      "cell_type": "markdown",
      "metadata": {
        "id": "rFYfTgfiUmDb"
      },
      "source": [
        "# いまここ"
      ]
    },
    {
      "cell_type": "markdown",
      "metadata": {
        "id": "FxGE-MEa7q7x"
      },
      "source": [
        "# 微分の基礎\n",
        "\n"
      ]
    },
    {
      "cell_type": "markdown",
      "metadata": {
        "id": "mOn3RV9EUy4q"
      },
      "source": [
        "**微分と関数最小化の関係**\n",
        "\n",
        "前章で微分が目的関数の最小化に役立つと紹介した。本節ではまず具体例を用いてそのことを直感的に理解する。\n",
        "例として、下図のような下向きにくぼんだ形をした関数がどこで最小値をとるかを探す問題を考える。\n",
        "\n",
        "\n",
        "![微分1](https://github.com/chainer/tutorials/blob/master/ja/images/03/03_02.png?raw=1)\n",
        "\n",
        "適当な点 $\\theta_{1}$ でこの関数のグラフに接する直線（**接線**）を考える（[注釈1](#note1)）。\n",
        "仮にこの接線の傾きが $+3$ 、すなわち正の値であったとしよう。この時、接線は右に進むほど高さが上がり，逆に左に進むほど高さが下がる。\n",
        "$\\theta_{1}$ の周辺では、関数のグラフと接線は非常に近く、両者はほとんど見分けることができない。\n",
        "すると、関数も接線と同じように $\\theta_{1}$ 右に進むと増加し，左に進むと減少していることがわかる。\n",
        "\n",
        "![微分2](https://github.com/chainer/tutorials/blob/master/ja/images/03/03_03.png?raw=1)\n",
        "\n",
        "次に、グラフ上の別の点 $\\theta_{2}$ においてこのグラフに接する接線を考える。\n",
        "今度は接線の傾きが $-1$ であるとする。傾きが負のため、接線は右肩下がりの直線である。\n",
        "グラフは接線と非常に近いため、グラフも $\\theta_{2}$ の周辺では、同じように右肩下がりであるとわかる。\n",
        "\n",
        "![微分3](https://github.com/chainer/tutorials/blob/master/ja/images/03/03_03_02.png?raw=1)\n",
        "\n",
        "最後にちょうどグラフの谷となっている点 $\\theta_{3}$ を考える。\n",
        "図を見て分かる通り、関数はこの点で最小値を取る。\n",
        "一方、点 $\\theta_{3}$ でグラフに接する接線は水平、すなわち**傾きが0**である。\n",
        "\n",
        "これまでの観察をまとめると、接線の傾きと関数の振る舞いには次の関係があることがわかる。\n",
        "\n",
        "- ある点で接する接線の傾きが正ならば、その点の近くでグラフは右肩上がり（= 左に進むと高さが下がる）\n",
        "- ある点で接する接線の傾きが負ならば、その点の近くでグラフは右肩下がり（= 右に進むと高さが下がる）\n",
        "- 関数が最小値をとる点に接する接線の傾きは $0$ である\n",
        "\n",
        "つまり、関数の最小値をとる点を求める問題では、接線の傾きが $0$ となる点が答えの候補（[注釈2](#note2)）となることがわかる。\n",
        "本章で説明するように、**微分を用いると接線の傾きを計算することができる**。\n",
        "このことから、微分が関数の最小化問題に有用なツールであることがわかる。\n",
        "\n",
        "以降では、微分の定義と微分に関する公式を紹介する。さらに、入力が多変数の関数での微分（偏微分）についても解説する。"
      ]
    },
    {
      "cell_type": "markdown",
      "metadata": {
        "id": "1blOPTbc7q7y"
      },
      "source": [
        "## 2 点間を通る直線の傾き\n",
        "\n",
        "接線の傾きと微分の関係を調べるため、まずは2点を通る直線の傾きを求める問題を考える。\n",
        "\n",
        "![2点間を通る直線](https://github.com/chainer/tutorials/blob/master/ja/images/03/03_04.png?raw=1)\n",
        "\n",
        "直線の傾きは 「$y$ （縦方向）の増加量 / $x$ （横方向）の増加量」で計算できるので、上図の直線の傾き $a$ は、\n",
        "\n",
        "$$\n",
        "a = \\dfrac{f(x_{2}) - f(x_{1})}{x_{2}-x_{1}}\n",
        "$$\n",
        "\n",
        "で求められる。"
      ]
    },
    {
      "cell_type": "markdown",
      "metadata": {
        "id": "3Th2z7b-7q7z"
      },
      "source": [
        "## 接線の傾き\n",
        "\n",
        "上図での点 $x_1$ における接線の傾きを求めるために、もう一方の点 $x_2$ を $x_1$ に近づけていく。ただし、 $x_1$ と $x_2$ が完全に同じになってしまうと、$x$ 方向、 $y$ 方向の増加量がどちらも $0$ になってしまうため、傾きは $0/0$ で計算することができない。\n",
        "そこで 2 点は異なる点でありつつ、 $x_2$ を限りなく $x_1$ に近づけていった時、直線の傾きがどのように振る舞うかを見る必要がある。これを数式的に表現するには、**極限**の考えが必要になる。\n",
        "\n",
        "極限では、変数がある値に限りなく近づくとき、その変数によって記述される関数がどのような値に近づくかを考える。\n",
        "関数 $f$ に対し、$h$ という変数を $a$ に近づけていったときの $f(h)$ が近づく値を $\\lim$ という記号を用いて\n",
        "\n",
        "$$\n",
        "\\displaystyle \\lim _{h\\rightarrow a} f(h)\n",
        "$$\n",
        "\n",
        "と書く。例えば、 $h$ を限りなく $0$ に近づけた時に、 $3h$ も限りなく $0$ に近づいていく。\n",
        "従って\n",
        "\n",
        "$$\n",
        "\\displaystyle \\lim _{h\\rightarrow 0} 3h=0\n",
        "$$\n",
        "\n",
        "である。もっと一般に $n$ を自然数、 $c$ を定数として、\n",
        "\n",
        "$$\n",
        "\\displaystyle \\lim _{h\\rightarrow a} c h^n=c a^n\n",
        "$$\n",
        "\n",
        "が成立する。これだけ見ると単に関数 $\\lim _{h\\rightarrow a} f(h)$ は $h$ に $a$ を代入した値 $f(a)$ のように思えるかも知れません。しかし、今考えている直線の傾きの場合、そのような代入操作を行うと先程のように $0/0$ の形が現れてしまうため、単純な代入では極限を求めることはできない。\n",
        "極限の計算方法は後ほど詳しく解説する。\n",
        "\n",
        "それでは、下図のある点 $x$ における接線の傾き $a$ を求めていこう。\n",
        "\n",
        "![1点での接線](https://github.com/chainer/tutorials/blob/master/ja/images/03/03_05.png?raw=1)\n",
        "\n",
        "2点を通る直線の傾きの式と極限を組み合わせて、接線の傾きを求めることができる。\n",
        "\n",
        "![1点での接線2](https://github.com/chainer/tutorials/blob/master/ja/images/03/03_06.png?raw=1)\n",
        "\n",
        "はじめに、 $x$ から $h$ だけ離れた点 $x + h$ を考え、2点を通る直線の傾きを求めてみる。\n",
        "次に $h$ を $0$ に限りなく近づけていけば、1点 $x$ で接する接線を考えることができる。\n",
        "これを式でみると\n",
        "\n",
        "$$\n",
        "\\begin{aligned}\n",
        "a\n",
        "&= \\lim_{h \\rightarrow 0} \\frac{f(x + h) - f(x)}{(x + h) - x} \\\\\n",
        "&= \\lim_{h \\rightarrow 0} \\frac{f(x + h) - f(x)}{h} \\\\\n",
        "\\end{aligned}\n",
        "$$\n",
        "\n",
        "となる。よく見るとこの式は $x$ を決めるごとにある1つの値を定めている、すなわちこの式は $x$ の関数である（$h$ は $h\\to 0$ の極限を取っているので $h$ の関数にはなっていないことに注意する）。\n",
        "この式を $f$ の **導関数 (derivative)**と呼び、 $f'(x)$ と書く。すなわち、\n",
        "\n",
        "$$\n",
        "f'(x)= \\lim_{h \\rightarrow 0} \\frac{f(x + h) - f(x)}{h}\n",
        "$$\n",
        "\n",
        "である。導関数を求めることを**微分(differentiation)**すると言う。\n",
        "記号の使い方として、 $f'(x)$ を\n",
        "\n",
        "$$\n",
        "\\frac{d}{dx}f (x)\n",
        "$$\n",
        "または\n",
        "$$\n",
        "\\frac{df}{dx} (x)\n",
        "$$\n",
        "\n",
        "と書いても構いません。\n",
        "この $d$ という記号は増分をとる操作を表しており、例えば $dx$ は $x$ の変化量を表す。\n",
        "この記法は煩雑であるが、$x, y$ など変数が複数ある場合、 どの変数で微分しているかが明確になるため、表現を正確にすることができる。"
      ]
    },
    {
      "cell_type": "markdown",
      "metadata": {
        "id": "qh166PcP7q70"
      },
      "source": [
        "## 微分の公式\n",
        "\n",
        "ある関数の導関数を計算するには、導関数の定義通りに計算するのが最も愚直な方法である．\n",
        "しかし、これから紹介する種々の公式を組み合わせることで、わざわざ定義に戻らなくても、複雑な関数の導関数を計算できる。\n",
        "以下では、 $c$ は定数、 $x$ は変数を表す。\n",
        "\n",
        "まずはじめに、以下の 3 つの公式を紹介する。\n",
        "\n",
        "$$\n",
        "\\begin{align}\n",
        "\\left( c\\right)^{'} &= 0 \\\\\n",
        "\\left( x\\right)^{'} &= 1\\\\\n",
        "\\left( x^{2}\\right)^{'} &= 2x\n",
        "\\end{align}\n",
        "$$\n",
        "\n",
        "1つ目の左辺は定数関数 $f(x) = c$ を $x$ で微分した導関数を表している。\n",
        "定数関数のグラフを書くと $x$ 軸に平行になるため、どの点で接線を引いてもその傾きは $0$である（グラフと接線は同一の直線となる）。これは導関数は 0 であることを意味する。これが 1 つ目の式の図形的な理解である。\n",
        "同様に2つ目の公式は 「$y=x$ のグラフではどの点で接線を引いても傾きが1」であることを意味する（この場合もグラフと接線は同一の直線である）。\n",
        "極限の扱いに慣れるために、3番目の公式を証明しよう。導関数の定義から左辺は\n",
        "\n",
        "$$\n",
        "\\displaystyle \\lim _{h\\to 0} \\frac{(x+h)^2 - x^2}{(x+h) - x}\n",
        "$$\n",
        "である。これは\n",
        "\n",
        "$$\n",
        "\\begin{align}\n",
        "\\lim _{h\\to 0} \\frac{(x+h)^2 - x^2}{(x+h) - x} = \\lim _{h\\to 0} \\frac{2xh + h^2}{h} = \\lim _{h\\to 0} (2x + h)\n",
        "\\end{align}\n",
        "$$\n",
        "\n",
        "と計算できる。ここで $h\\to 0$ 、すなわち $h$ を限りなく $0$ に近づけると、 $2x + h$ は $2x$ に限りなく近づいていく。従って、 $\\left( x^{2}\\right)^{'} = 2x$ が導かれた。\n",
        "\n",
        "以下の公式も頻繁に利用する。\n",
        "\n",
        "$$\n",
        "\\begin{align}\n",
        "\\left( x^{n} \\right)^{'} &= nx^{n-1} \\\\\n",
        "\\left( e^{ax} \\right)^{'} &= ae^{ax}\n",
        "\\end{align}\n",
        "$$\n",
        "\n",
        "ここで、$a$ は定数、 $e$ は**自然対数の底**、もしくは **ネイピア数** と呼ばれる特別な定数で、およそ $2.71828\\cdots$ である。 $1$ つ目の公式で $n=1, 2$とすると、本節の最初に紹介した $x$, $x^2$ の微分の公式に帰着されることに注意する。\n",
        "$e^{ax}$ は $\\exp(ax)$ のように表記されることがよくある。その表記を用いると最後の公式は\n",
        "\n",
        "$$\n",
        "\\bigl( \\exp(ax) \\bigr)^{'} = a\\exp(ax)\n",
        "$$\n",
        "\n",
        "とも書ける。"
      ]
    },
    {
      "cell_type": "markdown",
      "metadata": {
        "id": "_oHi7iTTyaCT"
      },
      "source": [
        "## 線形性\n",
        "\n",
        "微分は**線形性**という性質を持っている。\n",
        "それがどのような性質なのか、具体例を挙げて見ていこう。\n",
        "微分には線形性という性質によって、\n",
        "\n",
        "$$\n",
        "(3x)' = 3 \\times (x)'\n",
        "$$\n",
        "\n",
        "のように定数項を微分の演算の外側に出すことができる。\n",
        "また、\n",
        "\n",
        "$$\n",
        "\\left( 3x^{2} + 4x - 5 \\right)' = \\left( 3x^{2} \\right)' + \\left( 4x \\right)' - \\left( 5 \\right)' \n",
        "$$\n",
        "\n",
        "のように、加算や減算はそれぞれ項ごとに独立に微分の演算を行うことができる。\n",
        "この 2 つの特性を合わせて線形性と呼ぶ。\n",
        "\n",
        "もう少し微分の計算を練習してみよう。\n",
        "\n",
        "$$\n",
        "\\begin{aligned}\n",
        "\\left( 3x^{2} + 4x + 5 \\right)' &= \\left( 3x^{2} \\right)' + \\left( 4x \\right)' - \\left( 5 \\right)' \\\\ \n",
        "&= 3 \\times \\left( x^{2} \\right)' + 4 \\times \\left( x \\right)' - 5 \\times \\left( 1 \\right)' \\\\ \n",
        "&= 3 \\times 2x + 4 \\times 1 - 5 \\times 0  \\\\ \n",
        "&= 6x + 4 \n",
        "\\end{aligned}\n",
        "$$\n",
        "\n",
        "この線形性に関しては、下記のように公式としてまとめることができる。\n",
        "\n",
        "$$\n",
        "\\begin{align}\n",
        "\\left( cf(x) \\right)^{'} &= c f'(x) \\\\\n",
        "\\left( f(x) + g(x) \\right)^{'} &= f^{'}(x) + g^{'}(x) \\\\\n",
        "\\end{align}\n",
        "$$\n",
        "\n",
        "\n",
        "2 つの関数の積の形で書かれている関数に関しては次の公式が成り立つ。\n",
        "\n",
        "$$\n",
        "\\bigl( f(x) g(x) \\bigr)^{'} = f^{'}(x)g(x) + f(x)g^{'}(x)\n",
        "$$\n",
        "\n",
        "関数 $f$ の導関数と関数 $g$ の導関数がわかれば、関数 $fg$ を計算できることがわかる。"
      ]
    },
    {
      "cell_type": "markdown",
      "metadata": {
        "id": "0WB8DMII7q72"
      },
      "source": [
        "## 合成関数の微分\n",
        "\n",
        "関数 $y = f(x)$ と $z = g(y)$ の**合成**とは $f$ を適用したあとに $g$ を適用する関数、すなわち $z  = g(f(x))$ のことを指す。\n",
        "ディープラーニングで用いるニューラルネットワークは、層を何層も重ねて複雑な関数を表現する。各々の層を 1 つの関数とみなすと、ニューラルネットワークは多くの関数（層）を合成した**合成関数**と見ることができる。\n",
        "合成関数の微分を考える時には次に紹介する公式（合成関数の微分の公式）が有用である。\n",
        "この公式は**連鎖律 (chain rule)** とも呼ばれている。\n",
        "連鎖律は合成関数を微分を簡単に計算するための公式というだけではなく、ニューラルネットワークの訓練方法である誤差逆伝播法を理解する上で本質的な役割を果たす。\n",
        "\n",
        "簡単な例として、\n",
        "\n",
        "$$\n",
        "\\left\\{ (3x + 4)^{2} \\right\\}'\n",
        "$$\n",
        "\n",
        "を計算することを考える。\n",
        "この式は、 $3x+4$ という内側の部分と $(\\cdot)^{2}$ という外側の部分で構成されている。\n",
        "この式を $(9x^2 + 24x + 16)'$ のように展開してから微分を計算しても良いのだが、3乗や4乗とべき数が増えると式を展開するのが大変になる。\n",
        "ここで役に立つ考え方が合成関数の微分である。\n",
        "合成関数の微分は、内側の微分と外側の微分をそれぞれ行い、その結果をかけ合わせることで求めることができる。\n",
        "外側の微分の際には関数の引数を入力とみなし、その入力についての微分を計算する。\n",
        "\n",
        "それでは、具体的にこの $(3x+4)^2$ という関数の微分を考えてみる。\n",
        "まず内側の関数を $u = (3x+4)$ とおいて、\n",
        "\n",
        "$$\n",
        "\\left\\{ (3x + 4)^{2} \\right\\}' = (u^{2})'\n",
        "$$\n",
        "\n",
        "と見る。ここで、 $(\\cdot)'$ をもう少し厳密に考える必要が出てくる。\n",
        "今変数は $x$, $u$ の2つあるため、 $(\\cdot)'$ という表記では、 $x$ で微分しているのか $u$ で微分しているのかの区別がつかない。\n",
        "そこで、多少複雑に見えるが、先程紹介した $d$ を使った記法を用いて微分する変数を明示する。\n",
        "\n",
        "合成関数の微分を公式としてまとめると次のようになる。\n",
        "\n",
        "$$\n",
        "\\frac{d}{dx} f(g(x)) = \\frac{df(u)}{du}\\frac{du}{dx}\n",
        "$$\n",
        "\n",
        "ここで $u = g(x)$ である。\n",
        "\n",
        "公式を見るよりも実際の適用例を見た方が理解しやすいかも知れません。\n",
        "合成関数の微分の公式を用いて、先程の $(3x+4)^2$ の微分を計算すると次のようになる。\n",
        "2行目で合成関数の微分の公式を利用していることに注目する。\n",
        "\n",
        "$$\n",
        "\\begin{aligned}\n",
        "\\left\\{ (3x + 4)^{2} \\right\\}' &= \\frac{d}{dx} \\left\\{ (3x + 4)^{2} \\right\\} \\\\\n",
        "&= \\frac{du}{dx} \\frac{d}{du} (u^2) \\\\\n",
        "&= \\frac{d}{dx} (3x + 4) \\cdot \\frac{d}{du} (u^{2}) \\\\ \n",
        "&= 3 \\cdot 2u   \\\\ \n",
        "&= 6u = 6(3x + 4) = 18x + 24 \\\\ \n",
        "\\end{aligned}\n",
        "$$\n",
        "\n",
        "気になる人は、 $(3x + 4)^2$ を展開してから各項を微分した場合と結果が一致していることを確かめてみる。"
      ]
    },
    {
      "cell_type": "markdown",
      "metadata": {
        "id": "sZJDW8537q73"
      },
      "source": [
        "## 偏微分\n",
        "\n",
        "機械学習では、1つの入力変数 $x$ から出力変数 $y$ を予測するケースは稀であり、多くの場合、複数の入力変数 $x_1, x_2, \\dots, x_M$ を用いて $y$ を予測する**多変数関数**が扱われる。\n",
        "例えば、家賃を予測する場合、部屋の広さだけではなく、駅からの距離や周辺の犯罪発生率なども同時に考慮した方がより正確に予測ができると期待される。\n",
        "複数の入力 $x_1, x_2, \\dots, x_M$ をとる関数 $f(x_1, x_2, \\dots, x_M)$ を多変数関数と呼ぶ。\n",
        "この多変数関数において、ある入力 $x_m$ にのみ注目して微分することを **偏微分** とよび、\n",
        "\n",
        "$$\n",
        "\\frac{\\partial}{\\partial x_{m}} f(x_1, x_2, \\dots, x_M)\n",
        "$$\n",
        "\n",
        "と表す。微分を意味する記号が、 $d$ から $\\partial$ に変わっている。こうすると、 $\\frac{\\partial}{\\partial x_m}$ は $x_m$ 以外を定数と考え、 $x_m$ にのみ着目して微分を行うという意味となる（[注釈3](#note3)）。\n",
        "\n",
        "以下の例で具体的な計算の流れを確認しよう。\n",
        "\n",
        "$$\n",
        "\\begin{aligned}\n",
        "\\frac{\\partial}{\\partial x_1}\n",
        "\\left( 3x_1+4x_2 \\right)\n",
        "&= \\frac{\\partial}{\\partial x_1}\n",
        "\\left( 3x_1 \\right) + \\frac{\\partial}{\\partial x_1} \\left( 4x_2 \\right) \\\\\n",
        "&= 3 \\times \\frac{\\partial}{\\partial x_1} \\left( x_1 \\right) + 4 \\times \\frac{\\partial}{\\partial x_1} x_2 \\\\\n",
        "&= 3 \\times 1 + 4 \\times 0 \\\\\n",
        "&= 3\n",
        "\\end{aligned}\n",
        "$$\n",
        "\n",
        "偏微分でも微分と同じ公式を適用できる。今回のケースでは、 $x_1$ にだけ着目しており、 $x_2$ は定数として扱かっている。そのため、上式の 2 行目から 3 行目で $x_2$ を $x_1$ で偏微分した値を $0$ としている（定数の微分は $0$ であったことを思い出す）。"
      ]
    },
    {
      "cell_type": "markdown",
      "metadata": {
        "id": "YipLgSdzyaCW"
      },
      "source": [
        "<hr />\n",
        "\n",
        "<div class=\"alert alert-info\">\n",
        "**注釈 1**\n",
        "\n",
        "ここで考えている関数のグラフでは、グラフ上のどの点を取ってもその点で接する接線がただ1本だけ引ける状況を考えている。例えば関数のグラフが谷の部分で「尖った」形をしていると，谷の底で複数の接線が引けてしまう。ここではそのようなケースは考えず、関数のグラフは図のような「滑らか」なカーブになっている場合をイメージする。 \n",
        "\n",
        "[▲上へ戻る](#ref_note1)\n",
        "</div>\n",
        "\n",
        "<div class=\"alert alert-info\">\n",
        "**注釈 2**\n",
        "\n",
        "今は関数のグラフの「谷」を考えたが、「山」でも同様に接線の傾きが $0$ となるため、ある点での接線の傾きが $0$ だからと言って、必ずしも関数がその点で最小値をとるとは限りません。\n",
        "\n",
        "[▲上へ戻る](#ref_note2)\n",
        "</div>\n",
        "\n",
        "<div class=\"alert alert-info\">\n",
        "**注釈 3**\n",
        "\n",
        "入力変数が他の入力変数と独立でない場合は定数と考えることはできない。しかし本資料ではそのようなケースは出てこない。\n",
        "\n",
        "[▲上へ戻る](#ref_note3)\n",
        "</div>"
      ]
    },
    {
      "cell_type": "code",
      "metadata": {
        "id": "vz-LgbHyUA34"
      },
      "source": [
        ""
      ],
      "execution_count": null,
      "outputs": []
    }
  ]
}