{
  "nbformat": 4,
  "nbformat_minor": 0,
  "metadata": {
    "colab": {
      "name": "chainer.ipynb",
      "provenance": [],
      "authorship_tag": "ABX9TyPKGGct+zF+kFeLky3A4xCO",
      "include_colab_link": true
    },
    "kernelspec": {
      "name": "python3",
      "display_name": "Python 3"
    },
    "language_info": {
      "name": "python"
    }
  },
  "cells": [
    {
      "cell_type": "markdown",
      "metadata": {
        "id": "view-in-github",
        "colab_type": "text"
      },
      "source": [
        "<a href=\"https://colab.research.google.com/github/kalz2q/mycolabnotebooks/blob/master/chainer.ipynb\" target=\"_parent\"><img src=\"https://colab.research.google.com/assets/colab-badge.svg\" alt=\"Open In Colab\"/></a>"
      ]
    },
    {
      "cell_type": "markdown",
      "metadata": {
        "id": "UhyWMT5V_qeF"
      },
      "source": [
        "# メモ\n",
        "\n",
        "Chainer のチュートリアルサイトが Open in Colab ボタンのあるサイトだったのでそこから拾い読み\n",
        "\n",
        "https://tutorials.chainer.org/ja/01_Welcome_to_Chainer_Tutorial.html\n"
      ]
    },
    {
      "cell_type": "markdown",
      "metadata": {
        "id": "copNjjCcBPjs"
      },
      "source": [
        "オンライン学習資料\n",
        "\n",
        "- 数学の知識\n",
        "- Python を用いたコーディングの基本\n",
        "- 機械学習・ディープラーニングの基礎的な理論\n",
        "- 画像認識や自然言語処理などに機械学習を応用する方法\n",
        "\n",
        "1. `Open in Colab` から Colab へ移動\n",
        "2. 自分のドライブへノートブックをコピーする\n",
        "3. コードを実行しながら解説を読んでいく\n",
        "\n",
        "という手順が、本チュートリアルサイトのおすすめの利用方法"
      ]
    },
    {
      "cell_type": "markdown",
      "metadata": {
        "id": "lYLEBxPnBPj2"
      },
      "source": [
        "# Colab の便利なショートカット\n",
        "\n",
        "| 説明                 | コマンド      |\n",
        "| -------------------- | ------------- |\n",
        "| Markdownモードへ変更 | Ctrl + M → M |\n",
        "| Codeモードへ変更     | Ctrl + M → Y |\n",
        "| セルの実行           | Shift + Enter |\n",
        "| セルを上に追加       | Ctrl + M → A |\n",
        "| セルを下に追加       | Ctrl + M → B |\n",
        "| セルのコピー         | Ctrl + M → C |\n",
        "| セルの貼り付け       | Ctrl + M → V |\n",
        "| セルの消去           | Ctrl + M → D |\n",
        "| コメントアウト       | Ctrl + /      |\n"
      ]
    },
    {
      "cell_type": "markdown",
      "metadata": {
        "id": "D3QflLv0qdiy"
      },
      "source": [
        "# Python 入門\n"
      ]
    },
    {
      "cell_type": "markdown",
      "metadata": {
        "id": "jZNTuBQ54BSu"
      },
      "source": [
        "- 変数\n",
        "- 制御構文\n",
        "- 関数\n",
        "- クラス"
      ]
    },
    {
      "cell_type": "code",
      "metadata": {
        "id": "FChuhC8Jv9aa"
      },
      "source": [
        "a = 1"
      ],
      "execution_count": null,
      "outputs": []
    },
    {
      "cell_type": "code",
      "metadata": {
        "id": "qCdjuQqNv9ac"
      },
      "source": [
        "b = 1.2"
      ],
      "execution_count": null,
      "outputs": []
    },
    {
      "cell_type": "code",
      "metadata": {
        "id": "VLMovMgnv9ae"
      },
      "source": [
        "c = 'Chainer'"
      ],
      "execution_count": null,
      "outputs": []
    },
    {
      "cell_type": "code",
      "metadata": {
        "id": "RUflpSu6v9ag",
        "colab": {
          "base_uri": "https://localhost:8080/",
          "height": 35
        },
        "outputId": "3219c3be-c030-478f-ef28-b2da097fc8f4"
      },
      "source": [
        "type(a)"
      ],
      "execution_count": null,
      "outputs": [
        {
          "output_type": "execute_result",
          "data": {
            "text/plain": [
              "int"
            ]
          },
          "metadata": {
            "tags": []
          },
          "execution_count": 8
        }
      ]
    },
    {
      "cell_type": "code",
      "metadata": {
        "id": "YBtHAigUv9aj",
        "colab": {
          "base_uri": "https://localhost:8080/",
          "height": 35
        },
        "outputId": "36b7795d-d590-4b51-c02e-b3aa656d6bd5"
      },
      "source": [
        "type(b)"
      ],
      "execution_count": null,
      "outputs": [
        {
          "output_type": "execute_result",
          "data": {
            "text/plain": [
              "float"
            ]
          },
          "metadata": {
            "tags": []
          },
          "execution_count": 9
        }
      ]
    },
    {
      "cell_type": "code",
      "metadata": {
        "id": "6PaQmlMCv9an",
        "colab": {
          "base_uri": "https://localhost:8080/",
          "height": 35
        },
        "outputId": "a0b6ebc3-0871-47f6-b8e1-46937b23d623"
      },
      "source": [
        "type(c)"
      ],
      "execution_count": null,
      "outputs": [
        {
          "output_type": "execute_result",
          "data": {
            "text/plain": [
              "str"
            ]
          },
          "metadata": {
            "tags": []
          },
          "execution_count": 10
        }
      ]
    },
    {
      "cell_type": "markdown",
      "metadata": {
        "id": "Chdmx6HGIfEV"
      },
      "source": [
        "Python では、`.` を含まない連続した数字を `int`、直前・直後も含め `.` が含まれる連続した数字を `float` だと自動的に解釈する。\n",
        "例えば、`7` や `365` は `int` だが、`2.718`、`.25`、`10.` などは `float` になる。\n",
        "\n",
        "実数の `0` は `0.0` とも `.0` とも `0.` とも書くことができる。"
      ]
    },
    {
      "cell_type": "code",
      "metadata": {
        "id": "sUKUmRgwIfEY",
        "colab": {
          "base_uri": "https://localhost:8080/",
          "height": 35
        },
        "outputId": "797e97a5-ea05-4a08-ac99-d6b7cbd39f49"
      },
      "source": [
        "type(0)"
      ],
      "execution_count": null,
      "outputs": [
        {
          "output_type": "execute_result",
          "data": {
            "text/plain": [
              "int"
            ]
          },
          "metadata": {
            "tags": []
          },
          "execution_count": 11
        }
      ]
    },
    {
      "cell_type": "code",
      "metadata": {
        "id": "VOiscn8OIfEc",
        "colab": {
          "base_uri": "https://localhost:8080/",
          "height": 35
        },
        "outputId": "f84135ab-0652-4a21-cfad-f93518575455"
      },
      "source": [
        "type(0.)"
      ],
      "execution_count": null,
      "outputs": [
        {
          "output_type": "execute_result",
          "data": {
            "text/plain": [
              "float"
            ]
          },
          "metadata": {
            "tags": []
          },
          "execution_count": 12
        }
      ]
    },
    {
      "cell_type": "code",
      "metadata": {
        "id": "442-_TpmIfEf",
        "colab": {
          "base_uri": "https://localhost:8080/",
          "height": 35
        },
        "outputId": "3516a8d3-02b6-4b2d-b366-aec051d785e5"
      },
      "source": [
        "type(.0)"
      ],
      "execution_count": null,
      "outputs": [
        {
          "output_type": "execute_result",
          "data": {
            "text/plain": [
              "float"
            ]
          },
          "metadata": {
            "tags": []
          },
          "execution_count": 13
        }
      ]
    },
    {
      "cell_type": "markdown",
      "metadata": {
        "id": "TDJRJR5vIfFe"
      },
      "source": [
        "Python 3 では、 `/` 記号を用いて除算を行う場合、除数（割る数）と被除数（割られる数）が整数であっても、計算結果として実数が返る。\n",
        "計算結果として実数を返す除算のことを特に、**真の除算 (true division)** と言う。\n",
        "一方、商（整数部分）を返すような除算演算子として、 `//` 記号が用意されている。 `/` 記号を 2 回、間を空けずに繰り返す。計算結果として商を返す除算のことを、 **切り捨て除算 (floor division)** と呼ぶ。\n"
      ]
    },
    {
      "cell_type": "code",
      "metadata": {
        "id": "PFwX_4_pBbY0",
        "colab": {
          "base_uri": "https://localhost:8080/",
          "height": 35
        },
        "outputId": "260dd494-deb0-49c6-edb6-19d1662137e7"
      },
      "source": [
        "# 整数と整数で切り捨て除算 -> 結果は整数\n",
        "3 // 2"
      ],
      "execution_count": null,
      "outputs": [
        {
          "output_type": "execute_result",
          "data": {
            "text/plain": [
              "1"
            ]
          },
          "metadata": {
            "tags": []
          },
          "execution_count": 30
        }
      ]
    },
    {
      "cell_type": "code",
      "metadata": {
        "id": "nCyFpJHKv9bh",
        "colab": {
          "base_uri": "https://localhost:8080/",
          "height": 35
        },
        "outputId": "32099b02-2f65-46c5-89d9-343396552ed9"
      },
      "source": [
        "# 整数と整数で切り捨て除算 -> 結果は整数\n",
        "4 // 2"
      ],
      "execution_count": null,
      "outputs": [
        {
          "output_type": "execute_result",
          "data": {
            "text/plain": [
              "2"
            ]
          },
          "metadata": {
            "tags": []
          },
          "execution_count": 31
        }
      ]
    },
    {
      "cell_type": "markdown",
      "metadata": {
        "id": "Mywi7srHv9bj"
      },
      "source": [
        "整数や実数と文字列の演算は基本的にエラーになる。"
      ]
    },
    {
      "cell_type": "code",
      "metadata": {
        "id": "ia8mAAr5v9bj"
      },
      "source": [
        "# a + c #=> TypeError: unsupported operand type(s) for +: 'int' and 'str'"
      ],
      "execution_count": null,
      "outputs": []
    },
    {
      "cell_type": "code",
      "metadata": {
        "id": "oKJmWQKcv9bl",
        "colab": {
          "base_uri": "https://localhost:8080/",
          "height": 35
        },
        "outputId": "e4ef2dd3-870c-40d4-8c8f-e2dbb2089ed9"
      },
      "source": [
        "# str と int で乗算\n",
        "c = 'Chainer'\n",
        "c * 3"
      ],
      "execution_count": 2,
      "outputs": [
        {
          "output_type": "execute_result",
          "data": {
            "application/vnd.google.colaboratory.intrinsic+json": {
              "type": "string"
            },
            "text/plain": [
              "'ChainerChainerChainer'"
            ]
          },
          "metadata": {
            "tags": []
          },
          "execution_count": 2
        }
      ]
    },
    {
      "cell_type": "markdown",
      "metadata": {
        "id": "xPX4dcGUv9bm"
      },
      "source": [
        "上のコードは、`c` という文字列を `3` 回繰り返す、という意味になる。"
      ]
    },
    {
      "cell_type": "markdown",
      "metadata": {
        "id": "mmlvVMcIv9bm"
      },
      "source": [
        "`str` 同士は足し算を行うことができる。"
      ]
    },
    {
      "cell_type": "code",
      "metadata": {
        "id": "DOK7H8LJv9bn",
        "colab": {
          "base_uri": "https://localhost:8080/",
          "height": 35
        },
        "outputId": "5654572a-9d44-423a-9ada-da324b5f7dfa"
      },
      "source": [
        "name1 = 'Chainer'\n",
        "name2 = 'チュートリアル'\n",
        "\n",
        "name1 + name2"
      ],
      "execution_count": null,
      "outputs": [
        {
          "output_type": "execute_result",
          "data": {
            "text/plain": [
              "'Chainerチュートリアル'"
            ]
          },
          "metadata": {
            "tags": []
          },
          "execution_count": 34
        }
      ]
    },
    {
      "cell_type": "markdown",
      "metadata": {
        "id": "QoCq87hkv9bq"
      },
      "source": [
        "整数と文字列を連結したいこともある。  \n",
        "例えば、`1` という整数に、 `'番目'` という文字列を足して `'1番目'` という文字列を作りたいような場合には、型を変換する**キャスト (cast)** という操作をする必要がある。\n",
        "\n",
        "何かを `int` にキャストしたい場合は `int()` という組み込み関数を使い、`str` にキャストしたい場合は `str()` という組み込み関数を使う。"
      ]
    },
    {
      "cell_type": "code",
      "metadata": {
        "id": "JxGEBOZzv9bw",
        "colab": {
          "base_uri": "https://localhost:8080/",
          "height": 35
        },
        "outputId": "cca1f61a-82c9-4f12-9921-97068ab3a6d0"
      },
      "source": [
        "type(str(1))"
      ],
      "execution_count": null,
      "outputs": [
        {
          "output_type": "execute_result",
          "data": {
            "text/plain": [
              "str"
            ]
          },
          "metadata": {
            "tags": []
          },
          "execution_count": 38
        }
      ]
    },
    {
      "cell_type": "code",
      "metadata": {
        "id": "2boojYfbv9by",
        "colab": {
          "base_uri": "https://localhost:8080/",
          "height": 35
        },
        "outputId": "9ac453cd-d210-4f5c-fcac-1502f0b69482"
      },
      "source": [
        "str(1) + '番目'"
      ],
      "execution_count": null,
      "outputs": [
        {
          "output_type": "execute_result",
          "data": {
            "text/plain": [
              "'1番目'"
            ]
          },
          "metadata": {
            "tags": []
          },
          "execution_count": 39
        }
      ]
    },
    {
      "cell_type": "markdown",
      "metadata": {
        "id": "36GMdun-IfFn"
      },
      "source": [
        "Python には、他にも幾つかの算術演算子が用意されている。\n",
        "\n",
        "| 演算 | 記号 |\n",
        "|------|------|\n",
        "| 累乗 | `**` |\n",
        "|  剰余　 | `%` |\n"
      ]
    },
    {
      "cell_type": "code",
      "metadata": {
        "id": "cK6zHxguIfFo",
        "colab": {
          "base_uri": "https://localhost:8080/",
          "height": 35
        },
        "outputId": "eb9bdd74-8294-49f5-aae4-a9566f3d7ddf"
      },
      "source": [
        "# 累乗\n",
        "2 ** 3"
      ],
      "execution_count": null,
      "outputs": [
        {
          "output_type": "execute_result",
          "data": {
            "text/plain": [
              "8"
            ]
          },
          "metadata": {
            "tags": []
          },
          "execution_count": 42
        }
      ]
    },
    {
      "cell_type": "markdown",
      "metadata": {
        "id": "g8RG0jTDv9b6"
      },
      "source": [
        "`%` を使って、`9` を `2` で割った余りを計算してみる。"
      ]
    },
    {
      "cell_type": "code",
      "metadata": {
        "id": "CbsiwPcev9b6",
        "colab": {
          "base_uri": "https://localhost:8080/",
          "height": 35
        },
        "outputId": "27688f90-fef0-4d2d-8633-960ea0e8b128"
      },
      "source": [
        "# 剰余\n",
        "9 % 2"
      ],
      "execution_count": null,
      "outputs": [
        {
          "output_type": "execute_result",
          "data": {
            "text/plain": [
              "1"
            ]
          },
          "metadata": {
            "tags": []
          },
          "execution_count": 43
        }
      ]
    },
    {
      "cell_type": "markdown",
      "metadata": {
        "id": "Z62QzE-4Bc4a"
      },
      "source": [
        "比較演算子は、2 つの値の比較を行うための演算子である。\n",
        "\n",
        "| 演算 | 記号 |\n",
        "|------|------|\n",
        "| 小なり | `<` |\n",
        "| 大なり | `>` |\n",
        "| 以下 | `<=` |\n",
        "| 以上 | `>=` |\n",
        "| 等しい | `==` |\n",
        "| 等しくない | `!=` |\n"
      ]
    },
    {
      "cell_type": "markdown",
      "metadata": {
        "id": "2kAX065UJFle"
      },
      "source": [
        "エスケープシーケンス"
      ]
    },
    {
      "cell_type": "code",
      "metadata": {
        "id": "m3CBKEsrC4L-",
        "colab": {
          "base_uri": "https://localhost:8080/",
          "height": 53
        },
        "outputId": "a3f2481b-b0d5-4b2b-f9b8-e30d9ad65422"
      },
      "source": [
        "print('Hello\\nWorld')"
      ],
      "execution_count": null,
      "outputs": [
        {
          "output_type": "stream",
          "text": [
            "Hello\n",
            "World\n"
          ],
          "name": "stdout"
        }
      ]
    },
    {
      "cell_type": "code",
      "metadata": {
        "id": "FosQ7-tzC_45",
        "colab": {
          "base_uri": "https://localhost:8080/",
          "height": 35
        },
        "outputId": "c1e2bf56-0067-4983-fc0b-359561451085"
      },
      "source": [
        "print('Hello\\tWorld')"
      ],
      "execution_count": null,
      "outputs": [
        {
          "output_type": "stream",
          "text": [
            "Hello\tWorld\n"
          ],
          "name": "stdout"
        }
      ]
    },
    {
      "cell_type": "markdown",
      "metadata": {
        "id": "zN8m5ftBXrcA"
      },
      "source": [
        "# いまここ"
      ]
    },
    {
      "cell_type": "markdown",
      "metadata": {
        "id": "Udw0u53Lv9cO"
      },
      "source": [
        "## 文字列メソッド\n",
        "\n",
        "`str` 型の変数には、いくつか便利な機能がついている。\n",
        "例えば、その変数が持つ全ての文字を小文字や大文字に変換する `lower()` や `upper()` といった機能がある。\n",
        "このような型が持っている関数を**メソッド (method)** と呼ぶ。\n"
      ]
    },
    {
      "cell_type": "code",
      "metadata": {
        "id": "tDhIrHvev9cP",
        "colab": {
          "base_uri": "https://localhost:8080/",
          "height": 35
        },
        "outputId": "0209e82b-f9fd-4868-b6c8-fc2b9e414d3f"
      },
      "source": [
        "name = 'Chainer'\n",
        "\n",
        "name"
      ],
      "execution_count": null,
      "outputs": [
        {
          "output_type": "execute_result",
          "data": {
            "text/plain": [
              "'Chainer'"
            ]
          },
          "metadata": {
            "tags": []
          },
          "execution_count": 55
        }
      ]
    },
    {
      "cell_type": "code",
      "metadata": {
        "id": "pUb1lrhzv9cQ",
        "colab": {
          "base_uri": "https://localhost:8080/",
          "height": 35
        },
        "outputId": "56044dec-afe5-4577-e8b9-db46b16c8617"
      },
      "source": [
        "# すべてを小文字に変換\n",
        "name.lower()"
      ],
      "execution_count": null,
      "outputs": [
        {
          "output_type": "execute_result",
          "data": {
            "text/plain": [
              "'chainer'"
            ]
          },
          "metadata": {
            "tags": []
          },
          "execution_count": 56
        }
      ]
    },
    {
      "cell_type": "code",
      "metadata": {
        "id": "Ma-TiLUsv9cS",
        "colab": {
          "base_uri": "https://localhost:8080/",
          "height": 35
        },
        "outputId": "0e35604e-7314-442c-ebab-6d6bf4a296ec"
      },
      "source": [
        "# すべてを大文字に変換\n",
        "name.upper()"
      ],
      "execution_count": null,
      "outputs": [
        {
          "output_type": "execute_result",
          "data": {
            "text/plain": [
              "'CHAINER'"
            ]
          },
          "metadata": {
            "tags": []
          },
          "execution_count": 57
        }
      ]
    },
    {
      "cell_type": "markdown",
      "metadata": {
        "id": "qvpJWVYkv9cT"
      },
      "source": [
        "よく使う文字列メソッドの一つに、 `format()` がある。\n",
        "これは、ある文字列の一部分に、あとから別な文字列を埋め込むために使用する。\n",
        "対象の文字列には `{}` で予め値を埋め込みたい場所を指定しておく。"
      ]
    },
    {
      "cell_type": "code",
      "metadata": {
        "id": "UBDe56zvv9cT",
        "colab": {
          "base_uri": "https://localhost:8080/",
          "height": 35
        },
        "outputId": "e3324141-b48b-4668-841d-442abe5a6ffc"
      },
      "source": [
        "name = 'Chainer'\n",
        "\n",
        "'{} チュートリアルへようこそ'.format(name)"
      ],
      "execution_count": null,
      "outputs": [
        {
          "output_type": "execute_result",
          "data": {
            "text/plain": [
              "'Chainer チュートリアルへようこそ'"
            ]
          },
          "metadata": {
            "tags": []
          },
          "execution_count": 58
        }
      ]
    },
    {
      "cell_type": "code",
      "metadata": {
        "id": "mN4n4NYMv9cV",
        "colab": {
          "base_uri": "https://localhost:8080/",
          "height": 35
        },
        "outputId": "64f48915-fb3b-49f1-f00d-0dd55cf302b9"
      },
      "source": [
        "name1 = 'Chainer'\n",
        "name2 = 'チュートリアル'\n",
        "\n",
        "'{} {}へようこそ'.format(name1, name2)"
      ],
      "execution_count": null,
      "outputs": [
        {
          "output_type": "execute_result",
          "data": {
            "text/plain": [
              "'Chainer チュートリアルへようこそ'"
            ]
          },
          "metadata": {
            "tags": []
          },
          "execution_count": 59
        }
      ]
    },
    {
      "cell_type": "markdown",
      "metadata": {
        "id": "G_LHyH7Uv9cW"
      },
      "source": [
        "`format()` メソッドを用いると `int` 型 や `float` 型の変数を、`str` 型へ明示的にキャストすることなく文字列に埋め込むことができる。"
      ]
    },
    {
      "cell_type": "code",
      "metadata": {
        "id": "hnNv40_Pv9cX",
        "colab": {
          "base_uri": "https://localhost:8080/",
          "height": 35
        },
        "outputId": "0d06d60c-4a0b-4af3-a660-ff7ebbe3dad2"
      },
      "source": [
        "version = 3.7\n",
        "\n",
        "'Python {}'.format(version)"
      ],
      "execution_count": null,
      "outputs": [
        {
          "output_type": "execute_result",
          "data": {
            "text/plain": [
              "'Python 3.7'"
            ]
          },
          "metadata": {
            "tags": []
          },
          "execution_count": 60
        }
      ]
    },
    {
      "cell_type": "markdown",
      "metadata": {
        "id": "Pm4cvrnQv9cY"
      },
      "source": [
        "## 浮動小数点数がもつメソッド\n",
        "\n",
        "「メソッド」は `str` 型の変数だけが持つものではありません。\n",
        "`int` 型の変数や、`float` 型の変数にも、その型の特徴に合わせた機能が、メソッドとして提供されている。\n",
        "\n",
        "例えば、`float` 型の変数には、`as_integer_ratio()` というメソッドがあり、比がその浮動小数点数の値となるような整数の組を返す。\n",
        "\n",
        "例えば、0.5 という値は、分数で表すと $\\frac{1}{2}$ である。\n",
        "これは、以下のようにして調べることができる。"
      ]
    },
    {
      "cell_type": "code",
      "metadata": {
        "id": "pFPtOpz-v9cY",
        "colab": {
          "base_uri": "https://localhost:8080/",
          "height": 35
        },
        "outputId": "0b615cbf-b97a-413e-edcb-8116b0dcbe90"
      },
      "source": [
        "0.5.as_integer_ratio()"
      ],
      "execution_count": null,
      "outputs": [
        {
          "output_type": "execute_result",
          "data": {
            "text/plain": [
              "(1, 2)"
            ]
          },
          "metadata": {
            "tags": []
          },
          "execution_count": 61
        }
      ]
    },
    {
      "cell_type": "markdown",
      "metadata": {
        "id": "EZNdyQZLv9cZ"
      },
      "source": [
        "0.25 であれば、$\\frac{1}{4}$ となる。"
      ]
    },
    {
      "cell_type": "code",
      "metadata": {
        "id": "OuwnCcupv9cZ",
        "colab": {
          "base_uri": "https://localhost:8080/",
          "height": 35
        },
        "outputId": "c987b2ef-bec9-4e0b-ab90-27bffc0e88a0"
      },
      "source": [
        "0.25.as_integer_ratio()"
      ],
      "execution_count": null,
      "outputs": [
        {
          "output_type": "execute_result",
          "data": {
            "text/plain": [
              "(1, 4)"
            ]
          },
          "metadata": {
            "tags": []
          },
          "execution_count": 62
        }
      ]
    },
    {
      "cell_type": "markdown",
      "metadata": {
        "id": "P1-Ak83pv9ca"
      },
      "source": [
        "このような、型に紐付いたメソッドなどについては、この章の最後にある「クラス」という概念の説明の際にもう少し詳しく解説する。"
      ]
    },
    {
      "cell_type": "markdown",
      "metadata": {
        "id": "VsBRE0Wyv9ca"
      },
      "source": [
        "## 複合データ型\n",
        "\n",
        "これまでは `a = 1` のように 1 つの変数に 1 つの値を代入する場合を扱ってきましたが、複数の値をまとめて取り扱いたい場面もある。\n",
        "Python では複数の変数や値をまとめて扱うのに便利な、以下の 3 つの複合データ型がある。\n",
        "\n",
        "- リスト (list)\n",
        "- タプル (tuple)\n",
        "- 辞書 (dictionary)"
      ]
    },
    {
      "cell_type": "markdown",
      "metadata": {
        "id": "S1TLaajMDtmr"
      },
      "source": [
        "### リスト\n",
        "\n",
        "複数の変数を `,` （カンマ）区切りで並べ、それらの全体を `[ ]` で囲んだものを **リスト (list)** と言う。\n",
        "リストに含まれる値を**要素**と呼び、整数の**インデックス** （要素番号）を使ってアクセスする。"
      ]
    },
    {
      "cell_type": "code",
      "metadata": {
        "id": "MJ7ZYj82D-a1",
        "colab": {
          "base_uri": "https://localhost:8080/",
          "height": 35
        },
        "outputId": "970de678-1f56-4078-8f10-c7042c0fb8e5"
      },
      "source": [
        "# リスト型の変数を定義\n",
        "numbers = [4, 5, 6, 7]\n",
        "\n",
        "# 値の確認\n",
        "print(numbers)"
      ],
      "execution_count": null,
      "outputs": [
        {
          "output_type": "stream",
          "text": [
            "[4, 5, 6, 7]\n"
          ],
          "name": "stdout"
        }
      ]
    },
    {
      "cell_type": "code",
      "metadata": {
        "id": "HH3NT-y4EC4Z",
        "colab": {
          "base_uri": "https://localhost:8080/",
          "height": 35
        },
        "outputId": "cbcc163e-040f-4878-d3f5-65b6659bffa3"
      },
      "source": [
        "# 型の確認\n",
        "type(numbers)"
      ],
      "execution_count": null,
      "outputs": [
        {
          "output_type": "execute_result",
          "data": {
            "text/plain": [
              "list"
            ]
          },
          "metadata": {
            "tags": []
          },
          "execution_count": 64
        }
      ]
    },
    {
      "cell_type": "markdown",
      "metadata": {
        "id": "Rk_jY_TTIfGY"
      },
      "source": [
        "`numbers` には 4 つの数値が入っており、**要素数** は 4 である。\n",
        "リストの要素数は、リストの**長さ (length)** とも呼ばれ、組み込み関数の `len()` を用いて取得することができる。\n",
        "`len()` はよく使う関数であるため、覚えておきましょう。"
      ]
    },
    {
      "cell_type": "code",
      "metadata": {
        "id": "DK6aH0AaoELi",
        "colab": {
          "base_uri": "https://localhost:8080/",
          "height": 35
        },
        "outputId": "76d0dab8-bd1b-4c86-95b8-e25d6cca02c5"
      },
      "source": [
        "# 要素数の確認\n",
        "len(numbers)"
      ],
      "execution_count": null,
      "outputs": [
        {
          "output_type": "execute_result",
          "data": {
            "text/plain": [
              "4"
            ]
          },
          "metadata": {
            "tags": []
          },
          "execution_count": 65
        }
      ]
    },
    {
      "cell_type": "markdown",
      "metadata": {
        "id": "RiJeRUdrEEUq"
      },
      "source": [
        "リストの各要素へアクセスする方法はいくつかある。\n",
        "最も簡単な方法は `[]` を使ってアクセスしたい要素番号を指定して、リストから値を取り出したり、その位置の値を書き換えたりする方法である。\n",
        "ここで、注意が必要な点として、Python では先頭の要素のインデックス番号が `0` である点がある。\n",
        "インデックス番号 `1` は 2 番目の要素を指す。"
      ]
    },
    {
      "cell_type": "code",
      "metadata": {
        "id": "DeCsf_L1Em29",
        "colab": {
          "base_uri": "https://localhost:8080/",
          "height": 35
        },
        "outputId": "4cfc90bc-62e4-466d-ab0d-0a29877decef"
      },
      "source": [
        "# 先頭の要素にアクセス\n",
        "numbers[0]"
      ],
      "execution_count": null,
      "outputs": [
        {
          "output_type": "execute_result",
          "data": {
            "text/plain": [
              "4"
            ]
          },
          "metadata": {
            "tags": []
          },
          "execution_count": 66
        }
      ]
    },
    {
      "cell_type": "code",
      "metadata": {
        "id": "ox-Ma4yv5xqO",
        "colab": {
          "base_uri": "https://localhost:8080/",
          "height": 35
        },
        "outputId": "7c6ee95d-c6cd-472d-9ea5-c4a44e8d9f0f"
      },
      "source": [
        "# 先頭から3番目の要素にアクセス\n",
        "numbers[2]"
      ],
      "execution_count": null,
      "outputs": [
        {
          "output_type": "execute_result",
          "data": {
            "text/plain": [
              "6"
            ]
          },
          "metadata": {
            "tags": []
          },
          "execution_count": 67
        }
      ]
    },
    {
      "cell_type": "code",
      "metadata": {
        "id": "ve-ETFIrv9cg"
      },
      "source": [
        "# 2 番目の要素を書き換え\n",
        "numbers[1] = 10"
      ],
      "execution_count": null,
      "outputs": []
    },
    {
      "cell_type": "code",
      "metadata": {
        "id": "AXpG-tqNv9cg",
        "colab": {
          "base_uri": "https://localhost:8080/",
          "height": 35
        },
        "outputId": "1fa368f6-7164-4896-89fd-981d033adaa3"
      },
      "source": [
        "# 値の確認\n",
        "numbers"
      ],
      "execution_count": null,
      "outputs": [
        {
          "output_type": "execute_result",
          "data": {
            "text/plain": [
              "[4, 10, 6, 7]"
            ]
          },
          "metadata": {
            "tags": []
          },
          "execution_count": 69
        }
      ]
    },
    {
      "cell_type": "markdown",
      "metadata": {
        "id": "kOVYiVOwIfGW"
      },
      "source": [
        "また、インデックスに負の値を指定すると、末尾からの位置となる。\n",
        "要素番号 `-1` で最後の要素を参照することができる。"
      ]
    },
    {
      "cell_type": "code",
      "metadata": {
        "id": "WSaIdvb4IfGX",
        "colab": {
          "base_uri": "https://localhost:8080/",
          "height": 35
        },
        "outputId": "5bbb1cee-081d-4a68-a918-ad275b3b1172"
      },
      "source": [
        "# 末尾の要素にアクセス\n",
        "numbers[-1]"
      ],
      "execution_count": null,
      "outputs": [
        {
          "output_type": "execute_result",
          "data": {
            "text/plain": [
              "7"
            ]
          },
          "metadata": {
            "tags": []
          },
          "execution_count": 70
        }
      ]
    },
    {
      "cell_type": "code",
      "metadata": {
        "id": "jP5fkl3V54WL",
        "colab": {
          "base_uri": "https://localhost:8080/",
          "height": 35
        },
        "outputId": "aaf2ac71-f21a-4c41-aab4-337e25f54331"
      },
      "source": [
        "# 末尾から3番目の要素にアクセス\n",
        "numbers[-3]"
      ],
      "execution_count": null,
      "outputs": [
        {
          "output_type": "execute_result",
          "data": {
            "text/plain": [
              "10"
            ]
          },
          "metadata": {
            "tags": []
          },
          "execution_count": 71
        }
      ]
    },
    {
      "cell_type": "markdown",
      "metadata": {
        "id": "DLzLjTQ8EoG9"
      },
      "source": [
        "次に、リストから一度に複数の要素を取り出す操作である**スライス (slice)** を紹介する。\n",
        "`開始位置:終了位置` のようにコロン `:` を用いてインデックスを範囲指定し、複数の部分要素にアクセスする。\n",
        "このスライスの処理は、この後の章でも多用するため、慣れておきましょう。\n",
        "\n",
        "例えば、先頭から 2 つの要素を取り出したい場合、以下のように指定する。"
      ]
    },
    {
      "cell_type": "code",
      "metadata": {
        "id": "MPI2H38DEy2N",
        "colab": {
          "base_uri": "https://localhost:8080/",
          "height": 35
        },
        "outputId": "623cb4f8-54fc-4f34-924c-7da10dacdeef"
      },
      "source": [
        "numbers[0:2]"
      ],
      "execution_count": null,
      "outputs": [
        {
          "output_type": "execute_result",
          "data": {
            "text/plain": [
              "[4, 10]"
            ]
          },
          "metadata": {
            "tags": []
          },
          "execution_count": 72
        }
      ]
    },
    {
      "cell_type": "markdown",
      "metadata": {
        "id": "gK6_JXXTE2AY"
      },
      "source": [
        "`開始位置:終了位置` と指定することで、開始位置から**終了位置のひとつ手前**までの要素を抽出する。 \n",
        "終了位置に指定したインデックスの値は含まれないことに注意してください。\n",
        "\n",
        "また、指定する開始番号が `0` である場合、以下のような略記がよく用いられます。"
      ]
    },
    {
      "cell_type": "code",
      "metadata": {
        "id": "hBo2_C5aFPHR",
        "colab": {
          "base_uri": "https://localhost:8080/",
          "height": 35
        },
        "outputId": "1b249507-b615-4adf-dd4b-3c399799ba88"
      },
      "source": [
        "numbers[:2]"
      ],
      "execution_count": null,
      "outputs": [
        {
          "output_type": "execute_result",
          "data": {
            "text/plain": [
              "[4, 10]"
            ]
          },
          "metadata": {
            "tags": []
          },
          "execution_count": 73
        }
      ]
    },
    {
      "cell_type": "markdown",
      "metadata": {
        "id": "Qqem8sujFQVP"
      },
      "source": [
        "このように、先頭のインデックスは省略することができる。\n",
        "このような記法を使う場合は、終了位置を示す数字を**取り出したい要素の個数**と捉えて、**先頭から 2 つを取り出す**操作だと考えると分かりやすくなる。\n",
        "\n",
        "同様に、ある位置からリストの末尾までを取り出す場合も、終了位置のインデックスを省略することができる。\n",
        "例えば、2 個目の要素から最後までを取り出すには以下のようにする。"
      ]
    },
    {
      "cell_type": "code",
      "metadata": {
        "id": "gItFJqoUFYzX",
        "colab": {
          "base_uri": "https://localhost:8080/",
          "height": 35
        },
        "outputId": "2bc2f7e8-b6cb-4bbb-8245-ec8835e87447"
      },
      "source": [
        "numbers[1:]"
      ],
      "execution_count": null,
      "outputs": [
        {
          "output_type": "execute_result",
          "data": {
            "text/plain": [
              "[10, 6, 7]"
            ]
          },
          "metadata": {
            "tags": []
          },
          "execution_count": 74
        }
      ]
    },
    {
      "cell_type": "markdown",
      "metadata": {
        "id": "RRlf3vqOv9cq"
      },
      "source": [
        "この場合は、取り出される要素の個数は `len(numbers) - 1` 個となることに注意してください。\n",
        "\n",
        "以上から、`numbers[:2]` と `numbers[2:]` は、ちょうど 2 個目の要素を境に `numbers` の要素を 2 分割した前半部分と後半部分になっている。\n",
        "ここで、インデックスが 2 の要素自体は**後半部に含まれる**ということに注意してください。\n",
        "\n",
        "また、開始位置も終了位置も省略した場合は、すべての要素が選択される。"
      ]
    },
    {
      "cell_type": "code",
      "metadata": {
        "id": "nav8WoxNv9cq",
        "colab": {
          "base_uri": "https://localhost:8080/",
          "height": 35
        },
        "outputId": "b35c3b9d-f123-42a4-9d5b-505a31be278e"
      },
      "source": [
        "numbers[:]"
      ],
      "execution_count": null,
      "outputs": [
        {
          "output_type": "execute_result",
          "data": {
            "text/plain": [
              "[4, 10, 6, 7]"
            ]
          },
          "metadata": {
            "tags": []
          },
          "execution_count": 75
        }
      ]
    },
    {
      "cell_type": "markdown",
      "metadata": {
        "id": "9qPrP6sYv9cs"
      },
      "source": [
        "現状では、`numbers[:]` と `numbers` の結果が同じであるため、どのように使用するか疑問に思われるかも知れません。\n",
        "しかし、後の章では NumPy というライブラリを用いてリストの中にリストが入ったような**多次元配列 (multidimensional array)** を扱っていきます。\n",
        "そして多次元配列を用いて行列を表す場合には、`0 列目のすべての値`を抽出するために `[:, 0]` のような記法を用いるケースが登場する。\n",
        "これは Python 標準の機能ではありませんが、Python 標準のスライス表記を拡張したものになっている。"
      ]
    },
    {
      "cell_type": "markdown",
      "metadata": {
        "id": "AyoiOU5OFfET"
      },
      "source": [
        "リストは数値以外に、文字列を扱うこともでき、また複数の型を同一のリスト内に混在させることもできる。"
      ]
    },
    {
      "cell_type": "code",
      "metadata": {
        "id": "9JglgRiWFyo8",
        "colab": {
          "base_uri": "https://localhost:8080/",
          "height": 35
        },
        "outputId": "f8700d40-519f-4e92-db32-60fcadc145c0"
      },
      "source": [
        "# 文字列を格納したリスト\n",
        "array = ['hello', 'world']\n",
        "array"
      ],
      "execution_count": null,
      "outputs": [
        {
          "output_type": "execute_result",
          "data": {
            "text/plain": [
              "['hello', 'world']"
            ]
          },
          "metadata": {
            "tags": []
          },
          "execution_count": 76
        }
      ]
    },
    {
      "cell_type": "code",
      "metadata": {
        "id": "Kcf8MyrBv9cu",
        "colab": {
          "base_uri": "https://localhost:8080/",
          "height": 35
        },
        "outputId": "c5f989f4-138a-4a1c-ac4a-60760f318618"
      },
      "source": [
        "# 複数の型が混在したリスト\n",
        "array = [1, 1.2, 'Chainer']\n",
        "array"
      ],
      "execution_count": null,
      "outputs": [
        {
          "output_type": "execute_result",
          "data": {
            "text/plain": [
              "[1, 1.2, 'Chainer']"
            ]
          },
          "metadata": {
            "tags": []
          },
          "execution_count": 77
        }
      ]
    },
    {
      "cell_type": "markdown",
      "metadata": {
        "id": "9fKT2sjNv9cu"
      },
      "source": [
        "リストにリストを代入することもできる。\n",
        "また、Python 標準のリストでは入れ子になったリスト内の要素数がばらばらでも問題ありません。"
      ]
    },
    {
      "cell_type": "code",
      "metadata": {
        "id": "Q8JxfHS8v9cv",
        "colab": {
          "base_uri": "https://localhost:8080/",
          "height": 35
        },
        "outputId": "572e4d48-aae1-46e9-cf6a-f2fbf1d68ac4"
      },
      "source": [
        "array = [[1, 1.2, 'Chainer', True], [3.2, 'Tutorial']]\n",
        "array"
      ],
      "execution_count": null,
      "outputs": [
        {
          "output_type": "execute_result",
          "data": {
            "text/plain": [
              "[[1, 1.2, 'Chainer', True], [3.2, 'Tutorial']]"
            ]
          },
          "metadata": {
            "tags": []
          },
          "execution_count": 78
        }
      ]
    },
    {
      "cell_type": "markdown",
      "metadata": {
        "id": "5lYy-LP6F3wP"
      },
      "source": [
        "リストを使う際に頻出する操作として、**リストへの値の追加**がある。\n",
        "リスト型には `append()` というメソッドが定義されており、これを用いてリストの末尾に新しい値を追加することができる。\n",
        "\n",
        "上記の `array` に値を追加してみる。"
      ]
    },
    {
      "cell_type": "code",
      "metadata": {
        "id": "RmgtEN8Lv9cw"
      },
      "source": [
        "# 末尾に 2.5 を追加\n",
        "array.append(2.5)"
      ],
      "execution_count": null,
      "outputs": []
    },
    {
      "cell_type": "code",
      "metadata": {
        "id": "2E8q5y94v9cx",
        "colab": {
          "base_uri": "https://localhost:8080/",
          "height": 35
        },
        "outputId": "c2993fd6-a0f4-4786-b61a-f5462cae0817"
      },
      "source": [
        "# 値の確認\n",
        "array"
      ],
      "execution_count": null,
      "outputs": [
        {
          "output_type": "execute_result",
          "data": {
            "text/plain": [
              "[[1, 1.2, 'Chainer', True], [3.2, 'Tutorial'], 2.5]"
            ]
          },
          "metadata": {
            "tags": []
          },
          "execution_count": 80
        }
      ]
    },
    {
      "cell_type": "markdown",
      "metadata": {
        "id": "y5dQJA57v9cz"
      },
      "source": [
        "また、今後頻出する処理として、**空のリスト**を定義しておき、そこに後段の処理の中で適宜新たな要素を追加していくという使い方がある。"
      ]
    },
    {
      "cell_type": "code",
      "metadata": {
        "id": "00AEmnpxGPky",
        "colab": {
          "base_uri": "https://localhost:8080/",
          "height": 35
        },
        "outputId": "7f95e646-3264-4f63-cb58-98fc6bd42e73"
      },
      "source": [
        "# 空のリストを定義\n",
        "array = []\n",
        "\n",
        "# 空のリストに要素を追加\n",
        "array.append('Chainer')\n",
        "array.append('チュートリアル')\n",
        "\n",
        "array"
      ],
      "execution_count": null,
      "outputs": [
        {
          "output_type": "execute_result",
          "data": {
            "text/plain": [
              "['Chainer', 'チュートリアル']"
            ]
          },
          "metadata": {
            "tags": []
          },
          "execution_count": 81
        }
      ]
    },
    {
      "cell_type": "markdown",
      "metadata": {
        "id": "CV1072C3M7Qy"
      },
      "source": [
        "### タプル\n",
        "\n",
        "**タプル (tuple)** はリストと同様に複数の要素をまとめた型だが、リストとは異なる点として、定義した後に**中の要素を変更できない**という性質を持ちます。\n",
        "\n",
        "タプルの定義には `( )`を用います。"
      ]
    },
    {
      "cell_type": "code",
      "metadata": {
        "id": "mo4lGZN6NGAI",
        "colab": {
          "base_uri": "https://localhost:8080/",
          "height": 35
        },
        "outputId": "8234b24e-fd6d-4e77-f409-0681ad27c406"
      },
      "source": [
        "# タプルを定義\n",
        "array = (4, 5, 6, 7)\n",
        "array"
      ],
      "execution_count": null,
      "outputs": [
        {
          "output_type": "execute_result",
          "data": {
            "text/plain": [
              "(4, 5, 6, 7)"
            ]
          },
          "metadata": {
            "tags": []
          },
          "execution_count": 82
        }
      ]
    },
    {
      "cell_type": "code",
      "metadata": {
        "id": "LEUgknZov9c3",
        "colab": {
          "base_uri": "https://localhost:8080/",
          "height": 35
        },
        "outputId": "96b964b2-97ef-4312-d552-ee24b5d47238"
      },
      "source": [
        "# 型の確認\n",
        "type(array)"
      ],
      "execution_count": null,
      "outputs": [
        {
          "output_type": "execute_result",
          "data": {
            "text/plain": [
              "tuple"
            ]
          },
          "metadata": {
            "tags": []
          },
          "execution_count": 83
        }
      ]
    },
    {
      "cell_type": "markdown",
      "metadata": {
        "id": "9w2M0A02v9c3"
      },
      "source": [
        "タプルの定義する際に `( )` を使用したため、要素へのアクセスも `( )` を使うように感じるかもしれませんが、実際にはリストと同様 `[ ]` を使用する。"
      ]
    },
    {
      "cell_type": "code",
      "metadata": {
        "id": "Fq7zIHMfNIXG",
        "colab": {
          "base_uri": "https://localhost:8080/",
          "height": 35
        },
        "outputId": "8cc0dcde-bfc6-4d74-cb73-6a716394bb98"
      },
      "source": [
        "# 先頭の要素へアクセス\n",
        "array[0]"
      ],
      "execution_count": null,
      "outputs": [
        {
          "output_type": "execute_result",
          "data": {
            "text/plain": [
              "4"
            ]
          },
          "metadata": {
            "tags": []
          },
          "execution_count": 84
        }
      ]
    },
    {
      "cell_type": "code",
      "metadata": {
        "id": "3XdB2S5pv9c4",
        "colab": {
          "base_uri": "https://localhost:8080/",
          "height": 35
        },
        "outputId": "c270d121-31e8-4b38-f1c7-0f15b49f4b1e"
      },
      "source": [
        "# リストと同様、スライスも使用可能\n",
        "array[:3]"
      ],
      "execution_count": null,
      "outputs": [
        {
          "output_type": "execute_result",
          "data": {
            "text/plain": [
              "(4, 5, 6)"
            ]
          },
          "metadata": {
            "tags": []
          },
          "execution_count": 85
        }
      ]
    },
    {
      "cell_type": "markdown",
      "metadata": {
        "id": "KjdkYtSmNSl3"
      },
      "source": [
        "先述の通り、タプルは各要素の値を変更することができません。\n",
        "この性質は、定数項などプログラムの途中で書き換わってしまうことが望ましくないものをまとめて扱うのに便利である。\n",
        "\n",
        "実際に、タプルの要素に値の書き換えを行うとエラーが発生する。"
      ]
    },
    {
      "cell_type": "code",
      "metadata": {
        "id": "DRoToOjUNI51",
        "colab": {
          "base_uri": "https://localhost:8080/",
          "height": 172
        },
        "outputId": "3db3cb2f-673f-4463-dbe3-82ced4e09830"
      },
      "source": [
        "# error\n",
        "array[0] = 10"
      ],
      "execution_count": null,
      "outputs": [
        {
          "output_type": "error",
          "ename": "TypeError",
          "evalue": "ignored",
          "traceback": [
            "\u001b[0;31m---------------------------------------------------------------------------\u001b[0m",
            "\u001b[0;31mTypeError\u001b[0m                                 Traceback (most recent call last)",
            "\u001b[0;32m<ipython-input-86-a7859ae56fbe>\u001b[0m in \u001b[0;36m<module>\u001b[0;34m()\u001b[0m\n\u001b[0;32m----> 1\u001b[0;31m \u001b[0marray\u001b[0m\u001b[0;34m[\u001b[0m\u001b[0;36m0\u001b[0m\u001b[0;34m]\u001b[0m \u001b[0;34m=\u001b[0m \u001b[0;36m10\u001b[0m\u001b[0;34m\u001b[0m\u001b[0;34m\u001b[0m\u001b[0m\n\u001b[0m",
            "\u001b[0;31mTypeError\u001b[0m: 'tuple' object does not support item assignment"
          ]
        }
      ]
    },
    {
      "cell_type": "markdown",
      "metadata": {
        "id": "6aq_3yNZv9c6"
      },
      "source": [
        "`tuple` のように中身が変更できない性質のことを**イミュータブル (immutable)**であると言う。反対に、`list` のように中身が変更できる性質のことを**ミュータブル (mutable)**であると言う\n",
        "\n",
        "タプルも Chainer でデータセットを扱うときなどに頻出する型である。その性質と取り扱い方を覚えておきましょう。"
      ]
    },
    {
      "cell_type": "markdown",
      "metadata": {
        "id": "nV8Lp5jLNO66"
      },
      "source": [
        "### 辞書\n",
        "\n",
        "リストやタプルでは、複数の値をまとめて扱うことができました。\n",
        "そこで、定期テストの結果をまとめることを考えてみよう。\n",
        "\n",
        "例えば、数学 90 点、理科 75 点、英語 80 点だったという結果を `scores = [90, 75, 80]` とリストで表して見る。\n",
        "しかし、これでは**何番目がどの教科の点数に対応するか**、一見して分かりにくいと思われます。\n",
        "\n",
        "Python の `dict` 型は、**キー (key)** とそれに対応する**値 (value)** をセットにして格納することができる型であり、このようなときに便利である。\n",
        "\n",
        "リストやタプルでは、各要素にアクセスする際に整数のインデックスを用いていましたが、辞書ではキーでインデックス化されているため、整数や文字列など、色々なものを使って要素を指定することができる。\n",
        "\n",
        "辞書は `{}` を用いて定義し、要素にアクセスする際には、リストやタプルと同様に `[ ]` を使用し、`[ ]` の中にキーを指定して対応する値を取り出す。"
      ]
    },
    {
      "cell_type": "code",
      "metadata": {
        "id": "NyxphI5fNMO8",
        "colab": {
          "base_uri": "https://localhost:8080/",
          "height": 35
        },
        "outputId": "c4d9a198-171f-4c0e-ec96-de8cdc161c0d"
      },
      "source": [
        "# 辞書を定義\n",
        "scores = {'Math': 90, 'Science': 75, 'English': 80 }\n",
        "scores"
      ],
      "execution_count": null,
      "outputs": [
        {
          "output_type": "execute_result",
          "data": {
            "text/plain": [
              "{'English': 80, 'Math': 90, 'Science': 75}"
            ]
          },
          "metadata": {
            "tags": []
          },
          "execution_count": 87
        }
      ]
    },
    {
      "cell_type": "code",
      "metadata": {
        "id": "M-V2XOEdNu2a",
        "colab": {
          "base_uri": "https://localhost:8080/",
          "height": 35
        },
        "outputId": "ee4bdf90-c4e5-4a92-a6d0-d79e3bcf2b1c"
      },
      "source": [
        "# key が Math の value にアクセス\n",
        "scores['Math'] "
      ],
      "execution_count": null,
      "outputs": [
        {
          "output_type": "execute_result",
          "data": {
            "text/plain": [
              "90"
            ]
          },
          "metadata": {
            "tags": []
          },
          "execution_count": 88
        }
      ]
    },
    {
      "cell_type": "code",
      "metadata": {
        "id": "TA5V7SUBv9c8",
        "colab": {
          "base_uri": "https://localhost:8080/",
          "height": 35
        },
        "outputId": "90c16e6d-1de9-4931-efbe-b2164e075b6b"
      },
      "source": [
        "# key に日本語を使用することも可能\n",
        "scores = {'数学': 90, '理科': 75, '英語': 80}\n",
        "scores"
      ],
      "execution_count": null,
      "outputs": [
        {
          "output_type": "execute_result",
          "data": {
            "text/plain": [
              "{'数学': 90, '理科': 75, '英語': 80}"
            ]
          },
          "metadata": {
            "tags": []
          },
          "execution_count": 89
        }
      ]
    },
    {
      "cell_type": "code",
      "metadata": {
        "id": "IL2y81t-v9c9",
        "colab": {
          "base_uri": "https://localhost:8080/",
          "height": 35
        },
        "outputId": "7ea8f85a-c3d2-4ad2-cda5-74bd524868f3"
      },
      "source": [
        "scores['数学']"
      ],
      "execution_count": null,
      "outputs": [
        {
          "output_type": "execute_result",
          "data": {
            "text/plain": [
              "90"
            ]
          },
          "metadata": {
            "tags": []
          },
          "execution_count": 90
        }
      ]
    },
    {
      "cell_type": "markdown",
      "metadata": {
        "id": "Jd_XpPMqfrSL"
      },
      "source": [
        "他の人が定義した辞書に、**どのようなキーが存在するのか**を調べたいときがある。\n",
        "辞書には、そのような場合に使える便利なメソッドがいくつか存在する。\n",
        "\n",
        "- `keys()`: キーのリストを取得。`dict_keys` というリストと性質が似た型が返る\n",
        "- `values()`: 値のリストを取得。`dict_values` というリストと性質が似た型が返る\n",
        "- `items()`: 各要素の `(key, value)` のタプルが並んだリストを取得。`dict_items` というリストと性質が似た型が返る"
      ]
    },
    {
      "cell_type": "code",
      "metadata": {
        "id": "FkJjSlbShKjK",
        "colab": {
          "base_uri": "https://localhost:8080/",
          "height": 35
        },
        "outputId": "93597067-1c5e-4ab0-ab5f-3301524f6bff"
      },
      "source": [
        "# キーのリスト\n",
        "scores.keys()"
      ],
      "execution_count": null,
      "outputs": [
        {
          "output_type": "execute_result",
          "data": {
            "text/plain": [
              "dict_keys(['数学', '理科', '英語'])"
            ]
          },
          "metadata": {
            "tags": []
          },
          "execution_count": 91
        }
      ]
    },
    {
      "cell_type": "code",
      "metadata": {
        "id": "YOAOTDtUhNBz",
        "colab": {
          "base_uri": "https://localhost:8080/",
          "height": 35
        },
        "outputId": "ad624c25-5b59-4544-dde2-94ec3adde7ea"
      },
      "source": [
        "# 値のリスト\n",
        "scores.values()"
      ],
      "execution_count": null,
      "outputs": [
        {
          "output_type": "execute_result",
          "data": {
            "text/plain": [
              "dict_values([90, 75, 80])"
            ]
          },
          "metadata": {
            "tags": []
          },
          "execution_count": 92
        }
      ]
    },
    {
      "cell_type": "code",
      "metadata": {
        "id": "mWA7opwAhVEa",
        "colab": {
          "base_uri": "https://localhost:8080/",
          "height": 35
        },
        "outputId": "26ee1d21-3011-49df-f1ff-e6188e698b1c"
      },
      "source": [
        "# (キー, 値)というタプルを要素とするリスト\n",
        "scores.items()"
      ],
      "execution_count": null,
      "outputs": [
        {
          "output_type": "execute_result",
          "data": {
            "text/plain": [
              "dict_items([('数学', 90), ('理科', 75), ('英語', 80)])"
            ]
          },
          "metadata": {
            "tags": []
          },
          "execution_count": 93
        }
      ]
    },
    {
      "cell_type": "markdown",
      "metadata": {
        "id": "I9WEXgSZv9dC"
      },
      "source": [
        "`dict_keys`, `dict_values`, `dict_items` と新しい型が登場しましたが、これは辞書型特有の型であり厳密には標準のリストとは異なるが、リストと性質の似た型であるという程度の認識で問題ありません。"
      ]
    },
    {
      "cell_type": "markdown",
      "metadata": {
        "id": "qpoTmSY8bTDw"
      },
      "source": [
        "辞書に要素を追加する場合は、新しいキーを指定して値を代入する。"
      ]
    },
    {
      "cell_type": "code",
      "metadata": {
        "id": "nDZ4RRcjnERu"
      },
      "source": [
        "scores['国語'] = 85"
      ],
      "execution_count": null,
      "outputs": []
    },
    {
      "cell_type": "code",
      "metadata": {
        "id": "P0HJVZJSnKal",
        "colab": {
          "base_uri": "https://localhost:8080/",
          "height": 35
        },
        "outputId": "700a1c1a-d175-40c9-c008-56dca29eb5f8"
      },
      "source": [
        "scores"
      ],
      "execution_count": null,
      "outputs": [
        {
          "output_type": "execute_result",
          "data": {
            "text/plain": [
              "{'国語': 85, '数学': 90, '理科': 75, '英語': 80}"
            ]
          },
          "metadata": {
            "tags": []
          },
          "execution_count": 95
        }
      ]
    },
    {
      "cell_type": "markdown",
      "metadata": {
        "id": "NIC2fwAknPf9"
      },
      "source": [
        "また、既に存在するキーを指定した場合には、値が上書きされる。"
      ]
    },
    {
      "cell_type": "code",
      "metadata": {
        "id": "teLZbAHQnUfN"
      },
      "source": [
        "scores['数学'] = 95"
      ],
      "execution_count": null,
      "outputs": []
    },
    {
      "cell_type": "code",
      "metadata": {
        "id": "kQESKoXgnYRN",
        "colab": {
          "base_uri": "https://localhost:8080/",
          "height": 35
        },
        "outputId": "1b2e3718-26d7-4d5e-fa90-e7fc4850795a"
      },
      "source": [
        "scores"
      ],
      "execution_count": null,
      "outputs": [
        {
          "output_type": "execute_result",
          "data": {
            "text/plain": [
              "{'国語': 85, '数学': 95, '理科': 75, '英語': 80}"
            ]
          },
          "metadata": {
            "tags": []
          },
          "execution_count": 97
        }
      ]
    },
    {
      "cell_type": "markdown",
      "metadata": {
        "id": "zTYLayT3qEzA"
      },
      "source": [
        "## 制御構文\n",
        "\n",
        "複雑なプログラムを記述しようとすると、繰り返しの処理や、条件によって動作を変える処理が必要となる。\n",
        "これらは**制御構文**を用いて記述する。\n",
        "\n",
        "ここでは最も基本的な制御構文を 2 つ紹介する。\n",
        "\n",
        "- 繰り返し (`for`, `while`)\n",
        "- 条件分岐 (`if`)\n",
        "\n",
        "Python の制御構文は、**ヘッダ (header)** と **ブロック (block)** と呼ばれる 2 つの部分で構成されている。\n",
        "これらを合わせて **複合文 (compound statement)** と呼ぶ。\n",
        "\n",
        "![ヘッダーとブロック](https://github.com/chainer/tutorials/blob/master/ja/images/02/02_05.png?raw=1)"
      ]
    },
    {
      "cell_type": "markdown",
      "metadata": {
        "id": "ciZc5_PCv9dJ"
      },
      "source": [
        "上図に示すように、制御構文ではヘッダ行に `for` 文や `if-else` 句を記述し、行末に `:` 記号を書きます。次に、ヘッダ行の条件で実行したい一連の処理文を、ブロックとしてその次の行以降に記述していきます。その際、 **インデント (indent)** と呼ばれる空白文字を先頭に挿入することで、ブロックを表現する。同じ数の空白でインデントされた文がブロックとみなされる。\n",
        "Python では、インデントとして**スペース 4 つ**を用いることが推奨されている。"
      ]
    },
    {
      "cell_type": "markdown",
      "metadata": {
        "id": "oELnTpERNwCQ"
      },
      "source": [
        "### 繰り返し（for 文）\n",
        "\n",
        "同じ内容のメールを宛名だけ個別に変えて、1000 人に一斉送信したい場合など、繰り返す処理を記述する制御構文である `for` を使います。\n",
        "\n",
        "![for文](https://github.com/chainer/tutorials/blob/master/ja/images/02/02_06.png?raw=1)"
      ]
    },
    {
      "cell_type": "markdown",
      "metadata": {
        "id": "_-50XwKOv9dJ"
      },
      "source": [
        "`for` 文の文法は上図のとおりである。\n",
        "\n",
        "**イテラブルオブジェクト (iterable object)** とは、反復可能オブジェクトのことであり、要素を一度に 1 つずつ返せるオブジェクトのことを指す。\n",
        "`range()` という組み込み関数を使うと、引数に与えた整数の回数だけ順番に整数を返すイテラブルオブジェクトを作ることができる。\n",
        "`range(5)` と書くと、0, 1, 2, 3, 4 という整数 5 つを順番に返すイテラブルオブジェクトになる。\n",
        "\n",
        "後述するが、このイテラブルオブジェクトとして、リストやタプルも指定することができる。"
      ]
    },
    {
      "cell_type": "code",
      "metadata": {
        "id": "f7Y4APgkON_7",
        "colab": {
          "base_uri": "https://localhost:8080/",
          "height": 106
        },
        "outputId": "8d3fedd9-b0af-4cf4-ec66-bffb78ce9569"
      },
      "source": [
        "# 5回繰り返す\n",
        "for i in range(5):\n",
        "    print(i)"
      ],
      "execution_count": null,
      "outputs": [
        {
          "output_type": "stream",
          "text": [
            "0\n",
            "1\n",
            "2\n",
            "3\n",
            "4\n"
          ],
          "name": "stdout"
        }
      ]
    },
    {
      "cell_type": "markdown",
      "metadata": {
        "id": "oLpTgIv4OPnt"
      },
      "source": [
        "上記の例では、イテラブルオブジェクトが1 つずつ返す値を変数 `i` で受け取っている。\n",
        "最初は `i = 0` から始まっていることに注意してください。\n",
        "最後の値も、`5` ではなく `4` となっている。\n",
        "このように、`range()` に 1 つの整数を与えた場合は、その整数 - 1 まで 0 から 1 つずつ増えていく整数を順番に返す。"
      ]
    },
    {
      "cell_type": "code",
      "metadata": {
        "id": "SUTjSLuKv9dK",
        "colab": {
          "base_uri": "https://localhost:8080/",
          "height": 35
        },
        "outputId": "be21ab95-21c5-4a56-8e73-35f157f13954"
      },
      "source": [
        "# 繰り返し処理が終わった後の値の確認\n",
        "i"
      ],
      "execution_count": null,
      "outputs": [
        {
          "output_type": "execute_result",
          "data": {
            "text/plain": [
              "4"
            ]
          },
          "metadata": {
            "tags": []
          },
          "execution_count": 99
        }
      ]
    },
    {
      "cell_type": "markdown",
      "metadata": {
        "id": "4sMmj2Ewv9dL"
      },
      "source": [
        "Jupyter Notebook では変数名をコードセルの最後の行に書いて実行するとその変数に代入されている値を確認できましたが、for 文の中のブロックでは明示的に `print()` を使う必要がある。\n",
        "`print()` を用いないと、以下のように何も表示されません。"
      ]
    },
    {
      "cell_type": "code",
      "metadata": {
        "id": "2SlR9vcGv9dL"
      },
      "source": [
        "# 変数の値は表示されない\n",
        "for i in range(5):\n",
        "    i"
      ],
      "execution_count": null,
      "outputs": []
    },
    {
      "cell_type": "markdown",
      "metadata": {
        "id": "tEczQdb9v9dM"
      },
      "source": [
        "for 文を使って、0 から始まって 1 ずつ大きくなっていく整数順番に取得し、これをリストのインデックスに利用すれば、リストの各要素に順番にアクセスすることができる。"
      ]
    },
    {
      "cell_type": "code",
      "metadata": {
        "id": "b6XXuQ_gOnxk",
        "colab": {
          "base_uri": "https://localhost:8080/",
          "height": 70
        },
        "outputId": "ad85251e-4bcf-4b1f-c9d0-0aead91f025e"
      },
      "source": [
        "names = ['佐藤', '鈴木', '高橋']\n",
        "\n",
        "for i in range(3):\n",
        "    print(names[i])"
      ],
      "execution_count": null,
      "outputs": [
        {
          "output_type": "stream",
          "text": [
            "佐藤\n",
            "鈴木\n",
            "高橋\n"
          ],
          "name": "stdout"
        }
      ]
    },
    {
      "cell_type": "markdown",
      "metadata": {
        "id": "ci6hVBb-v9dN"
      },
      "source": [
        "少し応用して、自動的に敬称をつけて表示してみる。"
      ]
    },
    {
      "cell_type": "code",
      "metadata": {
        "id": "B24Fyoe9v9dN",
        "colab": {
          "base_uri": "https://localhost:8080/",
          "height": 70
        },
        "outputId": "2157b8d3-b75a-4f19-c7c4-46c4a18bf4fa"
      },
      "source": [
        "for i in range(3):\n",
        "    print('{}さん'.format(names[i]))"
      ],
      "execution_count": null,
      "outputs": [
        {
          "output_type": "stream",
          "text": [
            "佐藤さん\n",
            "鈴木さん\n",
            "高橋さん\n"
          ],
          "name": "stdout"
        }
      ]
    },
    {
      "cell_type": "markdown",
      "metadata": {
        "id": "msGhS1ISv9dN"
      },
      "source": [
        "つぎに、さらに汎用性の高いプログラムを目指す。\n",
        "\n",
        "上記のコードに関して、汎用性が低い点として、`range(3)` のように `3` という値を直接記述していることが挙げられます。\n",
        "この `3` はリストの要素の数を意味しているが、リストの要素の数が変わると、このプログラムも書き換える必要があり、手間がかかったり、ミスが発生する原因となったりする。\n",
        "\n",
        "リスト内の要素の数は、組み込み関数である `len()` を用いて取得できるため、これを使用した汎用性の高いプログラムに書き換えましょう。"
      ]
    },
    {
      "cell_type": "code",
      "metadata": {
        "id": "e4gbC4CIOzve",
        "colab": {
          "base_uri": "https://localhost:8080/",
          "height": 35
        },
        "outputId": "b5472139-d75b-46ac-de43-4ab365a4d14c"
      },
      "source": [
        "len(names)"
      ],
      "execution_count": null,
      "outputs": [
        {
          "output_type": "execute_result",
          "data": {
            "text/plain": [
              "3"
            ]
          },
          "metadata": {
            "tags": []
          },
          "execution_count": 103
        }
      ]
    },
    {
      "cell_type": "code",
      "metadata": {
        "id": "4i21QYMwPB1C",
        "colab": {
          "base_uri": "https://localhost:8080/",
          "height": 70
        },
        "outputId": "0dffef88-45d8-4025-c5bd-75a333a70e0c"
      },
      "source": [
        "for i in range(len(names)):\n",
        "    print('{}さん'.format(names[i]))"
      ],
      "execution_count": null,
      "outputs": [
        {
          "output_type": "stream",
          "text": [
            "佐藤さん\n",
            "鈴木さん\n",
            "高橋さん\n"
          ],
          "name": "stdout"
        }
      ]
    },
    {
      "cell_type": "markdown",
      "metadata": {
        "id": "9wx-qJovPEC0"
      },
      "source": [
        "これでリストの要素数に依存しないプログラムにすることができました。"
      ]
    },
    {
      "cell_type": "markdown",
      "metadata": {
        "id": "KIO9gkUnv9dR"
      },
      "source": [
        "また、リスト自体をイテラブルオブジェクトとして指定することにより、リスト要素数の取得も `[]` でのインデックス番号の指定もせずに、より可読性の高いプログラムを書くことができる。"
      ]
    },
    {
      "cell_type": "code",
      "metadata": {
        "id": "EDqeGWucv9dR",
        "colab": {
          "base_uri": "https://localhost:8080/",
          "height": 70
        },
        "outputId": "261c1319-2e24-474f-f283-0d3352e24a27"
      },
      "source": [
        "# リストをイテラブルオブジェクトに指定\n",
        "for name in names:\n",
        "    print('{}さん'.format(name))"
      ],
      "execution_count": null,
      "outputs": [
        {
          "output_type": "stream",
          "text": [
            "佐藤さん\n",
            "鈴木さん\n",
            "高橋さん\n"
          ],
          "name": "stdout"
        }
      ]
    },
    {
      "cell_type": "markdown",
      "metadata": {
        "id": "iWEhrw_9v9dS"
      },
      "source": [
        "最初のケースと比べていかがでしょうか。\n",
        "動作としては変わりがありませんが、可読性という観点も重要である。"
      ]
    },
    {
      "cell_type": "markdown",
      "metadata": {
        "id": "eeTHJ3hzPW7U"
      },
      "source": [
        "リストをイテラブルオブジェクトとして指定した場合、要素番号を取得できませんが、状況によっては要素番号を使用したいことがある。\n",
        "\n",
        "そのような場合は、`enumerate()` という組み込み関数を使います。\n",
        "これにイテラブルオブジェクトを渡すと、`(要素番号, 要素)` というタプルを 1 つずつ返すイテラブルオブジェクトになる。"
      ]
    },
    {
      "cell_type": "code",
      "metadata": {
        "id": "8dT-qUhGv9dT",
        "colab": {
          "base_uri": "https://localhost:8080/",
          "height": 70
        },
        "outputId": "6cdbe801-9f59-49c4-96e6-6d3c54da2e04"
      },
      "source": [
        "for i, name in enumerate(names):\n",
        "    message = '{}番目: {}さん'.format(i, name)\n",
        "    print(message)"
      ],
      "execution_count": null,
      "outputs": [
        {
          "output_type": "stream",
          "text": [
            "0番目: 佐藤さん\n",
            "1番目: 鈴木さん\n",
            "2番目: 高橋さん\n"
          ],
          "name": "stdout"
        }
      ]
    },
    {
      "cell_type": "markdown",
      "metadata": {
        "id": "wGwCa9wmP2r4"
      },
      "source": [
        "`enumerate()` と同様、`for` 文と合わせてよく使う組み込み関数に `zip()` がある。\n",
        "\n",
        "`zip()` は、複数のイテラブルオブジェクトを受け取り、その要素のペアを順番に返すイテラブルオブジェクトを作る。\n",
        "このイテラブルオブジェクトは、渡されたイテラブルオブジェクトそれぞれの先頭の要素から順番に、タプルに束ねて返す。\n",
        "このイテラブルオブジェクトの長さは、渡されたイテラブルオブジェクトのうち最も短い長さと一致する。"
      ]
    },
    {
      "cell_type": "code",
      "metadata": {
        "id": "5w8huhHcQR8F",
        "colab": {
          "base_uri": "https://localhost:8080/",
          "height": 53
        },
        "outputId": "528f66f9-c589-481b-f82e-4bf4dfb9982d"
      },
      "source": [
        "names = ['Python', 'Chainer']\n",
        "versions = ['3.7', '5.3.0']\n",
        "suffixes = ['!!', '!!', '?']\n",
        "\n",
        "for name, version, suffix in zip(names, versions, suffixes):\n",
        "    print('{} {} {}'.format(name, version, suffix))"
      ],
      "execution_count": null,
      "outputs": [
        {
          "output_type": "stream",
          "text": [
            "Python 3.7 !!\n",
            "Chainer 5.3.0 !!\n"
          ],
          "name": "stdout"
        }
      ]
    },
    {
      "cell_type": "markdown",
      "metadata": {
        "id": "IeQCA00UQYDq"
      },
      "source": [
        "`suffixes` の要素数は 3 だが、より短いイテラブルオブジェクトと共に `zip` に渡されたため、先頭から 2 つ目までしか値が取り出されていません。"
      ]
    },
    {
      "cell_type": "markdown",
      "metadata": {
        "id": "WguFiYgqQnQT"
      },
      "source": [
        "### 条件分岐（if 文）\n",
        "\n",
        "`if` は、指定した条件が `True` か `False` かによって、処理を変えるための制御構文である。\n",
        "\n",
        "![if文](https://github.com/chainer/tutorials/blob/master/ja/images/02/02_08.png?raw=1)"
      ]
    },
    {
      "cell_type": "markdown",
      "metadata": {
        "id": "J-Z8g-Klv9dV"
      },
      "source": [
        "`elif` と `else` は任意であり、`elif` は 1 つだけでなく複数連ねることができる。\n",
        "\n",
        "例えば、0 より大きいことを条件とした処理を書いて見る。"
      ]
    },
    {
      "cell_type": "code",
      "metadata": {
        "id": "E-x_6gXwSsm7",
        "colab": {
          "base_uri": "https://localhost:8080/",
          "height": 35
        },
        "outputId": "86d289f1-92f1-4ada-ff3e-017e71f7c4b4"
      },
      "source": [
        "# if の条件を満たす場合\n",
        "a = 1\n",
        "\n",
        "if a > 0:\n",
        "    print('0より大きい')\n",
        "else:\n",
        "    print('0以下')"
      ],
      "execution_count": null,
      "outputs": [
        {
          "output_type": "stream",
          "text": [
            "0より大きいです\n"
          ],
          "name": "stdout"
        }
      ]
    },
    {
      "cell_type": "code",
      "metadata": {
        "id": "BmcHf-w5v9dV",
        "colab": {
          "base_uri": "https://localhost:8080/",
          "height": 35
        },
        "outputId": "134ddbe4-5605-4286-945e-a128ad6abc23"
      },
      "source": [
        "# if の条件を満たさない場合\n",
        "a = -1\n",
        "\n",
        "if a > 0:\n",
        "    print('0より大きい')\n",
        "else:\n",
        "    print('0以下')"
      ],
      "execution_count": null,
      "outputs": [
        {
          "output_type": "stream",
          "text": [
            "0以下です\n"
          ],
          "name": "stdout"
        }
      ]
    },
    {
      "cell_type": "markdown",
      "metadata": {
        "id": "u0F8tX6FStcQ"
      },
      "source": [
        "また、`if` に対する条件以外の条件分岐を追加する場合は、下記のように `elif` を使います。"
      ]
    },
    {
      "cell_type": "code",
      "metadata": {
        "id": "6li0UyjpStjg",
        "colab": {
          "base_uri": "https://localhost:8080/",
          "height": 35
        },
        "outputId": "8e0cecde-fce4-4db6-8d1c-0dbeb80e36b0"
      },
      "source": [
        "a = 0\n",
        "\n",
        "if a > 0:    \n",
        "    print('0より大きい')\n",
        "elif a == 0:\n",
        "    print('０')\n",
        "else:\n",
        "    print('0より小さい')"
      ],
      "execution_count": null,
      "outputs": [
        {
          "output_type": "stream",
          "text": [
            "０です\n"
          ],
          "name": "stdout"
        }
      ]
    },
    {
      "cell_type": "markdown",
      "metadata": {
        "id": "tZ15Hv9Gv9dY"
      },
      "source": [
        "### 繰り返し（while 文）\n",
        "\n",
        "繰り返し処理は、`for` 以外にも `while` を用いて記述することもできる。\n",
        "`while` 文では、以下のように**ループを継続する条件**を指定する。\n",
        "指定された条件文が `True` である限り、ブロックの部分に記述された処理が繰り返し実行される。\n",
        "\n",
        "![while文](https://github.com/chainer/tutorials/blob/master/ja/images/02/02_09.png?raw=1)"
      ]
    },
    {
      "cell_type": "markdown",
      "metadata": {
        "id": "Zjv8d3Rmv9dZ"
      },
      "source": [
        "`while` 文を使用した 3 回繰り返すプログラムは下記のとおりである。"
      ]
    },
    {
      "cell_type": "code",
      "metadata": {
        "id": "aFhfzaDFv9dZ",
        "colab": {
          "base_uri": "https://localhost:8080/",
          "height": 70
        },
        "outputId": "075646ab-8c87-41ea-fd6e-d7ee37334441"
      },
      "source": [
        "count = 0\n",
        "\n",
        "while count < 3:\n",
        "    print(count)\n",
        "    count += 1"
      ],
      "execution_count": null,
      "outputs": [
        {
          "output_type": "stream",
          "text": [
            "0\n",
            "1\n",
            "2\n"
          ],
          "name": "stdout"
        }
      ]
    },
    {
      "cell_type": "markdown",
      "metadata": {
        "id": "1Q3QReThv9da"
      },
      "source": [
        "ここで使われている `count` という変数は、ループの中身が何回実行されたかを数えるために使われている。\n",
        "まず `0` で初期化し、ループ内の処理が一度行われるたびに `count` の値に 1 を足している。\n",
        "この `count` を使った条件式を `while` 文に与えることで、ループを回したい回数を指定している。\n",
        "\n",
        "一方、`while True` と指定すると、`True` は変数ではなく値なので、変更されることはなく、ループは無限に回り続けます。\n",
        "`while` 文自体は無限ループの状態にしておき、ループの中で `if` 文を使って、ある条件が満たされた場合はループを中断する、という使い方ができる。\n",
        "これには `break` 文が用いられます。\n",
        "\n",
        "以下は、`break` 文を使って上のコードと同様に 3 回ループを回すコードである。"
      ]
    },
    {
      "cell_type": "code",
      "metadata": {
        "id": "wj65vycFv9da",
        "colab": {
          "base_uri": "https://localhost:8080/",
          "height": 70
        },
        "outputId": "14670424-de4d-4493-bf64-2339416c69db"
      },
      "source": [
        "count = 0\n",
        "\n",
        "while True:\n",
        "    print(count)\n",
        "    count += 1\n",
        "    \n",
        "    if count == 3:\n",
        "        break"
      ],
      "execution_count": null,
      "outputs": [
        {
          "output_type": "stream",
          "text": [
            "0\n",
            "1\n",
            "2\n"
          ],
          "name": "stdout"
        }
      ]
    },
    {
      "cell_type": "markdown",
      "metadata": {
        "id": "AQFnBfgEv9da"
      },
      "source": [
        "`count` の値が 3 と等しいかどうかが毎回チェックされ、等しくなっていれば `break` 文が実行されて `while` ループが終了する。"
      ]
    },
    {
      "cell_type": "markdown",
      "metadata": {
        "id": "2rtEn2APv9db"
      },
      "source": [
        "`while` 文を使って、指定された条件を満たして**いない**間ループを繰り返すという処理も書くことができる。`while` 文自体の使い方は同じだが、条件を反転して与えることで、与えた条件が `False` である間繰り返されるようにすることができる。\n",
        "\n",
        "これには、ブール値を反転する `not` を用います。\n",
        "`not True` は `False` を返し、`not False` は `True` を返す。"
      ]
    },
    {
      "cell_type": "code",
      "metadata": {
        "id": "0PucNNA0v9db",
        "colab": {
          "base_uri": "https://localhost:8080/",
          "height": 35
        },
        "outputId": "dc0151bc-a617-48c1-c63b-5826c8ed201c"
      },
      "source": [
        "not True"
      ],
      "execution_count": null,
      "outputs": [
        {
          "output_type": "execute_result",
          "data": {
            "text/plain": [
              "False"
            ]
          },
          "metadata": {
            "tags": []
          },
          "execution_count": 113
        }
      ]
    },
    {
      "cell_type": "code",
      "metadata": {
        "id": "9iX7JkEOv9db",
        "colab": {
          "base_uri": "https://localhost:8080/",
          "height": 35
        },
        "outputId": "3d72981a-bde9-46e1-de00-4fad8b237fda"
      },
      "source": [
        "not False"
      ],
      "execution_count": null,
      "outputs": [
        {
          "output_type": "execute_result",
          "data": {
            "text/plain": [
              "True"
            ]
          },
          "metadata": {
            "tags": []
          },
          "execution_count": 114
        }
      ]
    },
    {
      "cell_type": "code",
      "metadata": {
        "id": "TkSUZ1iZv9dc",
        "colab": {
          "base_uri": "https://localhost:8080/",
          "height": 35
        },
        "outputId": "5577f165-0fa0-4ffa-af45-ac847a311049"
      },
      "source": [
        "not 1 == 2"
      ],
      "execution_count": null,
      "outputs": [
        {
          "output_type": "execute_result",
          "data": {
            "text/plain": [
              "True"
            ]
          },
          "metadata": {
            "tags": []
          },
          "execution_count": 115
        }
      ]
    },
    {
      "cell_type": "markdown",
      "metadata": {
        "id": "0aM2yZ7qv9dd"
      },
      "source": [
        "このように、`not` はあとに続くブール値を反転する。\n",
        "これを用いて、`count` が 3 **ではない**限りループを繰り返すというコードを `while` 文を使って書いてみよう。"
      ]
    },
    {
      "cell_type": "code",
      "metadata": {
        "id": "vhvBNYCXv9dd",
        "colab": {
          "base_uri": "https://localhost:8080/",
          "height": 70
        },
        "outputId": "c7651cd7-4f86-47ad-b8a6-c505dd996de5"
      },
      "source": [
        "count = 0\n",
        "\n",
        "while not count == 3:\n",
        "    print(count)\n",
        "    count += 1"
      ],
      "execution_count": null,
      "outputs": [
        {
          "output_type": "stream",
          "text": [
            "0\n",
            "1\n",
            "2\n"
          ],
          "name": "stdout"
        }
      ]
    },
    {
      "cell_type": "markdown",
      "metadata": {
        "id": "e96zsBv7IfDn"
      },
      "source": [
        "## 関数\n",
        "\n",
        "何かひとまとまりの処理を書いた際には、その処理のためのコードをまとめて、プログラム全体の色々な箇所から再利用できるようにしておくと、便利な場合がある。\n",
        "ここでは、処理をひとまとめにする方法の一つとして**関数 (function)** を定義する方法を紹介する。"
      ]
    },
    {
      "cell_type": "markdown",
      "metadata": {
        "id": "RCB98_8xv9df"
      },
      "source": [
        "### 関数を定義する\n",
        "\n",
        "![関数の定義](https://github.com/chainer/tutorials/blob/master/ja/images/02/02_10.png?raw=1)\n",
        "\n",
        "例えば、**受け取った値を 2 倍して表示する関数**を作ってみよう。\n",
        "\n",
        "関数を定義するには、まず名前を決める必要がある。\n",
        "今回は `double()` という名前の関数を定義して見る。\n",
        "\n",
        "関数も制御構文と同じく**ヘッダー**と**ブロック**を持っている。"
      ]
    },
    {
      "cell_type": "code",
      "metadata": {
        "id": "iDh3Mpi_IfDp"
      },
      "source": [
        "# 関数 double() の定義\n",
        "def double(x):\n",
        "    print(2 * x)"
      ],
      "execution_count": null,
      "outputs": []
    },
    {
      "cell_type": "markdown",
      "metadata": {
        "id": "yG-qN405v9dg"
      },
      "source": [
        "**関数は定義されただけでは実行されません。**\n",
        "定義した関数を使用するためには、定義を行うコードとは別に、実行を行うコードが必要である。"
      ]
    },
    {
      "cell_type": "code",
      "metadata": {
        "id": "6QUecRiUv9dg",
        "colab": {
          "base_uri": "https://localhost:8080/",
          "height": 35
        },
        "outputId": "7241aa8c-2a9c-4c95-8d63-ebe27a2a6fd8"
      },
      "source": [
        "# 関数の実行\n",
        "double(3)"
      ],
      "execution_count": null,
      "outputs": [
        {
          "output_type": "stream",
          "text": [
            "6\n"
          ],
          "name": "stdout"
        }
      ]
    },
    {
      "cell_type": "code",
      "metadata": {
        "id": "dR7DqN2fv9dh",
        "colab": {
          "base_uri": "https://localhost:8080/",
          "height": 35
        },
        "outputId": "89bb6598-567d-4247-8e0e-2d15072322df"
      },
      "source": [
        "double(5)"
      ],
      "execution_count": null,
      "outputs": [
        {
          "output_type": "stream",
          "text": [
            "10\n"
          ],
          "name": "stdout"
        }
      ]
    },
    {
      "cell_type": "code",
      "metadata": {
        "id": "wjStuxcBv9di",
        "colab": {
          "base_uri": "https://localhost:8080/",
          "height": 35
        },
        "outputId": "138a4607-ebf9-48f3-e4f5-96863b9eec0f"
      },
      "source": [
        "double(1.5)"
      ],
      "execution_count": null,
      "outputs": [
        {
          "output_type": "stream",
          "text": [
            "3.0\n"
          ],
          "name": "stdout"
        }
      ]
    },
    {
      "cell_type": "markdown",
      "metadata": {
        "id": "CRggp-QcIfDs"
      },
      "source": [
        "`double(x)` における `x` のように、関数に渡される変数や値のことを**引数 (argument)** と言う。\n",
        "上の例は、名前が `double` で、1つの引数 `x` をとり、`2 * x` という計算を行い、その結果を表示している。"
      ]
    },
    {
      "cell_type": "markdown",
      "metadata": {
        "id": "VDqeEdX5v9dj"
      },
      "source": [
        "### 複数の引数をとる関数\n",
        "\n",
        "複数の引数をとる関数を定義する場合は、関数名に続く `()` の中に、カンマ `,` 区切りで引数名を並べます。\n",
        "\n",
        "例えば、引数を 2 つとり、足し算を行う関数 `add()` を作ってみよう。"
      ]
    },
    {
      "cell_type": "code",
      "metadata": {
        "id": "ARE2LU8Qv9dl"
      },
      "source": [
        "# 関数の定義\n",
        "def add(a, b):\n",
        "    print(a + b)"
      ],
      "execution_count": null,
      "outputs": []
    },
    {
      "cell_type": "code",
      "metadata": {
        "id": "Zte-_M1-v9dl",
        "colab": {
          "base_uri": "https://localhost:8080/",
          "height": 35
        },
        "outputId": "cf78e6e7-522c-4551-b876-8f7f4f582d92"
      },
      "source": [
        "# 関数の実行\n",
        "add(1, 2)"
      ],
      "execution_count": null,
      "outputs": [
        {
          "output_type": "stream",
          "text": [
            "3\n"
          ],
          "name": "stdout"
        }
      ]
    },
    {
      "cell_type": "code",
      "metadata": {
        "id": "7HUAVoGhv9dm",
        "colab": {
          "base_uri": "https://localhost:8080/",
          "height": 35
        },
        "outputId": "8e0d0ec9-9774-42b6-ef79-52b20cf88b8a"
      },
      "source": [
        "add(3, 2.5)"
      ],
      "execution_count": null,
      "outputs": [
        {
          "output_type": "stream",
          "text": [
            "5.5\n"
          ],
          "name": "stdout"
        }
      ]
    },
    {
      "cell_type": "code",
      "metadata": {
        "id": "IjMBFjvmv9dm",
        "colab": {
          "base_uri": "https://localhost:8080/",
          "height": 35
        },
        "outputId": "75da673b-d203-460c-f054-205cbe9ace97"
      },
      "source": [
        "add(1, -5)"
      ],
      "execution_count": null,
      "outputs": [
        {
          "output_type": "stream",
          "text": [
            "-4\n"
          ],
          "name": "stdout"
        }
      ]
    },
    {
      "cell_type": "markdown",
      "metadata": {
        "id": "mwZ-T1CTv9dn"
      },
      "source": [
        "今回の `double()` や `add()` は定義を行い自作した関数だが、Python には予め多くの関数が定義されている。\n",
        "そのような関数を**組み込み関数 (built-in function)** と呼ぶ。\n",
        "すでに使用している `print()` や `len()`, `range()` などが、これに該当する。\n",
        "組み込み関数の一覧は[こちら](https://docs.python.org/ja/3/library/functions.html)で確認することができる。\n"
      ]
    },
    {
      "cell_type": "markdown",
      "metadata": {
        "id": "A8XpuE_av9dn"
      },
      "source": [
        "### 引数をとらない関数\n",
        "\n",
        "引数をとらない関数を定義する場合でも、関数名の後に `()` を加える必要がある。\n",
        "\n",
        "例えば、実行するとメッセージを表示する関数を定義して、実行してみる。"
      ]
    },
    {
      "cell_type": "code",
      "metadata": {
        "id": "z2Xej00Bv9dn"
      },
      "source": [
        "# 引数のない関数の定義\n",
        "def hello():\n",
        "    print('Chainerチュートリアルにようこそ')"
      ],
      "execution_count": null,
      "outputs": []
    },
    {
      "cell_type": "code",
      "metadata": {
        "id": "peShhHg2v9dn",
        "colab": {
          "base_uri": "https://localhost:8080/",
          "height": 35
        },
        "outputId": "b437e0f9-1c01-4d93-a13c-2d50cf8202f9"
      },
      "source": [
        "# 引数のない関数の実行\n",
        "hello()"
      ],
      "execution_count": null,
      "outputs": [
        {
          "output_type": "stream",
          "text": [
            "Chainerチュートリアルにようこそ\n"
          ],
          "name": "stdout"
        }
      ]
    },
    {
      "cell_type": "markdown",
      "metadata": {
        "id": "BZGSKTbcv9do"
      },
      "source": [
        "### 引数のデフォルト値\n",
        "\n",
        "引数には、あらかじめ値を与えておくことができる。\n",
        "これは、引数をとる関数を定義する際に、何も引数に値が渡されなかったときにどのような値がその引数に渡されたことにするかをあらかじめ決めておける機能で、その値のことを**デフォルト値**と呼ぶ。\n",
        "\n",
        "例えば、上の `hello()` という関数に、`message` という引数をもたせ、そこにデフォルト値を設定しておく。"
      ]
    },
    {
      "cell_type": "code",
      "metadata": {
        "id": "uw2d8qDov9do"
      },
      "source": [
        "def hello(message='Chainerチュートリアルにようこそ'):\n",
        "    print(message)"
      ],
      "execution_count": null,
      "outputs": []
    },
    {
      "cell_type": "markdown",
      "metadata": {
        "id": "7i8TQcfzv9do"
      },
      "source": [
        "この関数は引数に何も与えずに呼び出すと、「Chainerチュートリアルにようこそ」というメッセージを表示し、引数に別な値が渡されると、その値を表示する。"
      ]
    },
    {
      "cell_type": "code",
      "metadata": {
        "id": "Fh4VEHmMv9dp",
        "colab": {
          "base_uri": "https://localhost:8080/",
          "height": 35
        },
        "outputId": "d284fd9b-4a96-4039-f585-a01804e360e9"
      },
      "source": [
        "hello()"
      ],
      "execution_count": null,
      "outputs": [
        {
          "output_type": "stream",
          "text": [
            "Chainerチュートリアルにようこそ\n"
          ],
          "name": "stdout"
        }
      ]
    },
    {
      "cell_type": "code",
      "metadata": {
        "id": "p2g-ULOWv9dp",
        "colab": {
          "base_uri": "https://localhost:8080/",
          "height": 35
        },
        "outputId": "9dd78b5c-4185-4f40-a40f-9d1bdfe3309a"
      },
      "source": [
        "hello('Welcome to Chainer tutorial')"
      ],
      "execution_count": null,
      "outputs": [
        {
          "output_type": "stream",
          "text": [
            "Welcome to Chainer tutorial\n"
          ],
          "name": "stdout"
        }
      ]
    },
    {
      "cell_type": "markdown",
      "metadata": {
        "id": "GWhAbt3ov9dq"
      },
      "source": [
        "デフォルト値が与えられていない引数は、関数呼び出しの際に必ず何らかの値が渡される必要があるが、デフォルト値を持つ場合は、何も指定しなくても関数を呼び出すことができるようになる。"
      ]
    },
    {
      "cell_type": "markdown",
      "metadata": {
        "id": "DpwRYy4ov9dq"
      },
      "source": [
        "### 返り値のある関数\n",
        "\n",
        "上で定義した足し算を行う関数 `add()` では、計算結果を表示するだけで、計算結果を呼び出し元に戻していませんでした。\n",
        "そのため、このままでは計算結果を関数の外から利用することができません。\n",
        "\n",
        "そこで、`add()` 関数の末尾に `return` 文を追加して、計算結果を呼び出し元に返すように変更してみる。"
      ]
    },
    {
      "cell_type": "code",
      "metadata": {
        "id": "ZCtzpxG1v9dq"
      },
      "source": [
        "# 返り値のある関数の定義\n",
        "def add(a, b):\n",
        "    return a + b"
      ],
      "execution_count": null,
      "outputs": []
    },
    {
      "cell_type": "markdown",
      "metadata": {
        "id": "M9c1_e-sv9dr"
      },
      "source": [
        "このように、呼び出し元に返したい値を `return` に続いて書くと、その値が `add()` 関数を呼び出したところへ戻される。\n",
        "`return` で返される値のことを**返り値 (return value)** と言う。\n",
        "\n",
        "以下に、計算結果を `result` という変数に格納し、表示する例を示す。"
      ]
    },
    {
      "cell_type": "code",
      "metadata": {
        "id": "RPJnjuL5v9dr",
        "colab": {
          "base_uri": "https://localhost:8080/",
          "height": 35
        },
        "outputId": "48546d3e-a444-4109-ddf0-7df7b14b9236"
      },
      "source": [
        "result = add(1, 3)\n",
        "\n",
        "result"
      ],
      "execution_count": null,
      "outputs": [
        {
          "output_type": "execute_result",
          "data": {
            "text/plain": [
              "4"
            ]
          },
          "metadata": {
            "tags": []
          },
          "execution_count": 131
        }
      ]
    },
    {
      "cell_type": "markdown",
      "metadata": {
        "id": "tagr61vUv9ds"
      },
      "source": [
        "計算結果が `result` に格納されているので、この結果を用いてさらに別の処理を行うことができる。"
      ]
    },
    {
      "cell_type": "code",
      "metadata": {
        "id": "Qe8Enb6Ev9ds",
        "colab": {
          "base_uri": "https://localhost:8080/",
          "height": 35
        },
        "outputId": "99526b92-37c3-4832-caef-f17aa45701d9"
      },
      "source": [
        "result = add(1, 3)\n",
        "\n",
        "result_doubled = result * 2\n",
        "\n",
        "result_doubled"
      ],
      "execution_count": null,
      "outputs": [
        {
          "output_type": "execute_result",
          "data": {
            "text/plain": [
              "8"
            ]
          },
          "metadata": {
            "tags": []
          },
          "execution_count": 132
        }
      ]
    },
    {
      "cell_type": "markdown",
      "metadata": {
        "id": "fP4OdcI-v9ds"
      },
      "source": [
        "また、返り値は「呼び出し元」に返されると書きました。\n",
        "この「呼び出し元」というのは、関数を呼び出す部分のことで、上のコードは `add(1, 3)` の部分が `4` という結果の値になり、それが左辺の `result` に代入されている。\n",
        "\n",
        "これを用いると、例えば「2 と 3 を足した結果と、1 と 3 を足した結果を、掛け合わせる」という計算が、以下のように書けます。"
      ]
    },
    {
      "cell_type": "code",
      "metadata": {
        "id": "gs0hBjg6v9ds",
        "colab": {
          "base_uri": "https://localhost:8080/",
          "height": 35
        },
        "outputId": "4c76fe15-686d-4aed-f87c-ec55d177728c"
      },
      "source": [
        "add(2, 3) * add(1, 3)"
      ],
      "execution_count": null,
      "outputs": [
        {
          "output_type": "execute_result",
          "data": {
            "text/plain": [
              "20"
            ]
          },
          "metadata": {
            "tags": []
          },
          "execution_count": 133
        }
      ]
    },
    {
      "cell_type": "markdown",
      "metadata": {
        "id": "BJnkcc_Qv9dt"
      },
      "source": [
        "### 変数のスコープ\n",
        "\n",
        "関数の中で定義した変数は基本的には関数の外では利用できません。\n",
        "例えば、以下の例を見てみよう。"
      ]
    },
    {
      "cell_type": "code",
      "metadata": {
        "id": "L8vtxEV7v9dt",
        "colab": {
          "base_uri": "https://localhost:8080/",
          "height": 35
        },
        "outputId": "509fbb4d-0b47-4f37-d38c-51018e6f19b2"
      },
      "source": [
        "a = 1\n",
        "\n",
        "# 関数の内部で a に 2 を代入\n",
        "def change():\n",
        "    a = 2\n",
        "    \n",
        "change()\n",
        "\n",
        "a"
      ],
      "execution_count": null,
      "outputs": [
        {
          "output_type": "execute_result",
          "data": {
            "text/plain": [
              "1"
            ]
          },
          "metadata": {
            "tags": []
          },
          "execution_count": 134
        }
      ]
    },
    {
      "cell_type": "markdown",
      "metadata": {
        "id": "Z9slKEKXv9du"
      },
      "source": [
        "関数の外で `a = 1` と初期化した変数と同じ名前の変数に対して、`change()` 関数の内部で `a = 2` という代入を行っているにもかかわらず、`change()` 関数の実行後にも関数の外側では `a` の値は 1 のままになっている。\n",
        "**関数の外側で定義された変数** `a` **に、関数内部での処理が影響していないことがわかる。**\n",
        "\n",
        "なぜこうなるかというと、関数の中で変数に値が代入されるとき、その変数はその関数の**スコープ (scope)** でだけ有効な**ローカル変数**になり、関数の外にある同じ名前の変数とは別のものを指すようになるためである。\n",
        "スコープとは、その変数が参照可能な範囲のことである。\n",
        "上の例では、`a = 2` の代入を行った時点で`change()` 関数のスコープに `a` という変数が作られ、`change()` 関数の中からは `a` といえばこれを指すようになる。関数から抜けると、`a` は 1 を値に持つ外側の変数を指すようになる。\n",
        "\n",
        "ただし、代入を行わずに、参照するだけであれば、関数の内側から外側で定義された変数を利用することができる。"
      ]
    },
    {
      "cell_type": "code",
      "metadata": {
        "id": "XgGcEUSQv9du",
        "colab": {
          "base_uri": "https://localhost:8080/",
          "height": 53
        },
        "outputId": "0871b4ef-d71a-4f3f-c556-fc6429e0ee94"
      },
      "source": [
        "a = 1\n",
        "\n",
        "def change():\n",
        "    print('From inside:', a)\n",
        "    \n",
        "change()\n",
        "\n",
        "print('From outside:', a)"
      ],
      "execution_count": null,
      "outputs": [
        {
          "output_type": "stream",
          "text": [
            "From inside: 1\n",
            "From outside: 1\n"
          ],
          "name": "stdout"
        }
      ]
    },
    {
      "cell_type": "markdown",
      "metadata": {
        "id": "vAHe5xDGv9dv"
      },
      "source": [
        "この場合は、`change()` 関数のスコープには `a` という変数は作られないので、関数の中で `a` といえば外側で定義された変数を指す。\n",
        "\n",
        "関数の外で定義された変数は**グローバル変数**と呼ばれます。\n",
        "グローバル変数は、特に特別な記述を要せず参照することはできるが、関数の中で**代入**を行う場合は、`global` 文を使って、代入先をグローバル変数とする宣言を行う必要がある。"
      ]
    },
    {
      "cell_type": "code",
      "metadata": {
        "id": "D1uNClamv9dv",
        "colab": {
          "base_uri": "https://localhost:8080/",
          "height": 35
        },
        "outputId": "d44e9ee4-8250-4236-9476-0cc610cb9572"
      },
      "source": [
        "a = 1\n",
        "\n",
        "def change():\n",
        "    global a  # a をグローバル変数である宣言\n",
        "    a = 2       # グローバル変数への代入\n",
        "\n",
        "# 関数の実行\n",
        "change()\n",
        "\n",
        "# 結果の確認 <- a の値が上書きされている\n",
        "a"
      ],
      "execution_count": null,
      "outputs": [
        {
          "output_type": "execute_result",
          "data": {
            "text/plain": [
              "2"
            ]
          },
          "metadata": {
            "tags": []
          },
          "execution_count": 136
        }
      ]
    },
    {
      "cell_type": "markdown",
      "metadata": {
        "id": "MSTyBWulv9dv"
      },
      "source": [
        "`global a` という行を `change()` 関数内で `a` という変数を使用する前に追加すると、その行以降は `a` という変数への代入も関数の外側で定義されたグローバル変数の `a` に対して行われます。"
      ]
    },
    {
      "cell_type": "markdown",
      "metadata": {
        "id": "FBe0bEnnVoE5"
      },
      "source": [
        "## クラス\n",
        "\n",
        "**オブジェクト指向プログラミング (object-oriented programming)** の特徴の一つである**クラス (class)** は、**オブジェクト (object)** を生成するための設計図にあたるものである。\n",
        "まず、クラスとは何か、オブジェクトとは何かについて説明する。\n",
        "\n",
        "ここで、唐突に感じられるかもしれませんが、家を何軒も建てるときのことを考えましょう。\n",
        "それぞれの家の形や大きさ、構造は同じだが、表札に書かれている名前は異なっているとする。\n",
        "この場合、家の設計図は同じだが、表札に何と書くか、において多少の変更がそれぞれの家ごとに必要となる。\n",
        "この**全ての家に共通した設計図の役割を果たすのがクラス**である。\n",
        "そして、設計図は、家として現実に存在しているわけではありませんが、個別の家は、現実に家としての**実体**を持って存在している。\n",
        "よって、**設計図に基づいて個別の家を建てる**ということを抽象的に言うと、**クラスから実体を作成する**、となる。\n",
        "クラスから作成された実体のことを**インスタンス (instance)** または**オブジェクト (object)** とも呼び、**クラスから実体を作成する**という操作のことを**インスタンス化 (instantiation)** と呼ぶ。"
      ]
    },
    {
      "cell_type": "markdown",
      "metadata": {
        "id": "M1XEvf6Kv9dw"
      },
      "source": [
        "### クラスの定義\n",
        "\n",
        "それでは、家の設計図を表す `House` というクラスを定義してみる。\n",
        "`House` クラスには、インスタンス化されたあとに、各インスタンス、すなわち誰か特定の人の家ごとに異なる値を持つ、`name_plate` という変数を持たせて見る。\n",
        "\n",
        "`name_plate` という変数には、個別の家の表札に表示するための文字列が与えられますが、クラスを定義する際には「`name_plate` という変数を持つことができる」ようにしておくだけでよく、**実際にその変数に何か具体的な値を与える必要はありません。**\n",
        "クラスは、**設計図**であればよく、具体的な値を持たせなくてもよいためである。\n",
        "具体的な値は、個別の家を作成するとき、すなわちインスタンス化の際に与え、各インスタンスが `name_plate` という値に自分の家の表札の名前を保持するようにする。\n",
        "\n",
        "このような、インスタンスに属している変数を**属性 (attribute)** と呼ぶ。同様に、インスタンスから呼び出すことができる関数のことを**メソッド (method)** と呼ぶ。\n",
        "\n",
        "クラスは、以下のような構文を使って定義する。\n",
        "\n",
        "![クラス](https://github.com/chainer/tutorials/blob/master/ja/images/02/02_11.png?raw=1)\n",
        "\n",
        "具体的には、以下のようになる。"
      ]
    },
    {
      "cell_type": "code",
      "metadata": {
        "id": "9ZrUz4kHv9dw"
      },
      "source": [
        "# クラスの定義\n",
        "class House:\n",
        "\n",
        "    # __init__() メソッドの定義\n",
        "    def __init__(self, name):\n",
        "        self.name_plate = name"
      ],
      "execution_count": null,
      "outputs": []
    },
    {
      "cell_type": "markdown",
      "metadata": {
        "id": "151zWM4Dv9dw"
      },
      "source": [
        "ここで、`__init__()` という名前のメソッドが `House` クラスの中に定義されている。\n",
        "メソッドの名前は自由に名付けることができるが、いくつか特別な意味を持つメソッド名が予め決められている。\n",
        "`__init__()` はそういったメソッドの一つで、**インスタンス化する際に自動的に呼ばれるメソッド**である。\n",
        "\n",
        "`House` クラスの `__init__()` は、`name` という引数をとり、これを `self.name_plate` という変数に代入している。\n",
        "この `self` というのは、クラスがインスタンス化されたあと、作成されたインスタンス自身を参照するのに用いられます。\n",
        "これを使って、`self.name_plate = name` とすることで、作成された個別のインスタンスに属する変数 `self.name_plate` へ、引数に渡された `name` が持つ値を代入することができる。\n",
        "`self` が指すものは、各インスタンスから見た「自分自身」なので、各インスタンスごとに異なる。\n",
        "これによって、`self.name_plate` は各インスタンスに紐付いた別々の値を持つものとなる。\n",
        "\n",
        "メソッドは、インスタンスから呼び出されるとき自動的に第一引数にそのインスタンスへの参照を渡す。\n",
        "そのため、メソッドの第一引数は `self` とし、渡されてくる自分自身への参照を受け取るようにしている。\n",
        "ただし、呼び出す際には**そのインスタンスを引数に指定する必要はありません。**\n",
        "以下に具体例を示し、再度このことを確認する。\n",
        "\n",
        "それでは、上で定義した `House` クラスのインスタンスを作成して見る。\n",
        "クラスのインスタンス化には、クラス名のあとに `()` を追加して、クラスを呼び出すような記法を使います。\n",
        "この際、関数を呼び出すときと同様にして、`()` に引数を渡すことができる。\n",
        "その引数は、`__init__()` メソッドに渡される。"
      ]
    },
    {
      "cell_type": "code",
      "metadata": {
        "id": "PE3dT2ytv9dx"
      },
      "source": [
        "my_house = House('Chainer')"
      ],
      "execution_count": null,
      "outputs": []
    },
    {
      "cell_type": "markdown",
      "metadata": {
        "id": "9xHHa6rwv9dx"
      },
      "source": [
        "`House` というクラスの `__init__()` メソッドに、`'Chainer'` という文字列を渡している。\n",
        "`my_house` が、`House` クラスから作成されたインスタンスである。\n",
        "ここで、クラス定義では `__init__()` メソッドは `self` と `name` という 2 つの引数をとっていましたが、呼び出しの際には `'Chainer'` という一つの引数しか与えていませんでした。\n",
        "この `'Chainer'` という文字列は、1 つ目の引数であるにも関わらず、`__init__()` メソッドの定義では 2 つ目の引数であった `name` に渡される。\n",
        "前述のように、**メソッドは、インスタンスから呼び出されるとき自動的に第一引数にそのインスタンスへの参照を渡す**ためである。\n",
        "この自動的に渡される自身への参照は、呼び出しの際には明示的に指定しません。\n",
        "また、かならず 1 つ目の引数に自動的に渡されるため、呼び出し時に明示的に与えられた引数は 2 つ目以降の引数に渡されたものとして取り扱われます。\n",
        "\n",
        "それでは次に、このクラスに `hello()` というメソッドを追加し、呼び出すと誰の家であるかを表示するという機能を実装して見る。"
      ]
    },
    {
      "cell_type": "code",
      "metadata": {
        "id": "k2Zcvs1xv9dx"
      },
      "source": [
        "# クラスの定義\n",
        "class House:\n",
        "\n",
        "    # __init__() の定義\n",
        "    def __init__(self, name):\n",
        "        self.name_plate = name\n",
        "\n",
        "    # メソッドの定義\n",
        "    def hello(self):\n",
        "        print('{}の家である。'.format(self.name_plate))"
      ],
      "execution_count": null,
      "outputs": []
    },
    {
      "cell_type": "markdown",
      "metadata": {
        "id": "oTQagqYdv9dz"
      },
      "source": [
        "それでは、2 つのインスタンスを作成して、それぞれから `hello()` メソッドを呼び出して見る。"
      ]
    },
    {
      "cell_type": "code",
      "metadata": {
        "id": "MP8iXQM0v9dz",
        "colab": {
          "base_uri": "https://localhost:8080/",
          "height": 53
        },
        "outputId": "74495bc8-073e-4d46-addf-ee02f45ed8b8"
      },
      "source": [
        "sato = House('佐藤')\n",
        "suzuki = House('スズキ')\n",
        "\n",
        "sato.hello()   # 実行の際には hello() の引数にある self は無視\n",
        "suzuki.hello() # 実行の際には hello() の引数にある self は無視"
      ],
      "execution_count": null,
      "outputs": [
        {
          "output_type": "stream",
          "text": [
            "佐藤の家です。\n",
            "スズキの家です。\n"
          ],
          "name": "stdout"
        }
      ]
    },
    {
      "cell_type": "markdown",
      "metadata": {
        "id": "_vI_Dqjdv9d0"
      },
      "source": [
        "`sato` というインスタンスの `name_plate` 属性には、`'佐藤'` という文字列が格納されている。  \n",
        "`suzuki` というインスタンスの `name_plate` 属性には、`'スズキ'` という文字列が格納されている。  \n",
        "それぞれのインスタンスから呼び出された `hello()` メソッドは、`self.name_plate` に格納された別々の値を `print()` を用いて表示している。\n",
        "\n",
        "このように、同じ機能を持つが、インスタンスによって保持するデータが異なったり、一部の動作が異なったりするようなケースを扱うのにクラスを利用する。\n",
        "Python の `int` 型、`float` 型、`str` 型…などは、実際には `int` クラス、`float` クラス、`str` クラスであり、それらの中では個別の変数（インスタンス）がどのような値になるかには関係なく、同じ型であれば共通して持っている機能が定義されている。\n",
        "`5` や `0.3` や `'Chainer'` などは、それぞれ `int` クラスのインスタンス、`float` クラスのインスタンス、`str` クラスのインスタンスである。\n",
        "\n",
        "以上から、クラスを定義するというのは、**新しい型を作る**ということでもあると分かる。"
      ]
    },
    {
      "cell_type": "markdown",
      "metadata": {
        "id": "0M1dmJSacA7g"
      },
      "source": [
        "### 継承\n",
        "\n",
        "あるクラスを定義したら、その一部の機能を変更したり、新しい機能を付け足したりしたくなることがある。\n",
        "これを実現する機能が**継承 (inheritance)** である。\n",
        "例えば、`Link` というクラスを定義し、そのクラスを継承した `Chain` という新しいクラスを作ってみよう。\n",
        "まず、`Link` クラスを定義する。"
      ]
    },
    {
      "cell_type": "code",
      "metadata": {
        "id": "wn9XJxjpv9d0"
      },
      "source": [
        "class Link:\n",
        "\n",
        "    def __init__(self):\n",
        "        self.a = 1\n",
        "        self.b = 2"
      ],
      "execution_count": null,
      "outputs": []
    },
    {
      "cell_type": "markdown",
      "metadata": {
        "id": "Qn0fSwvyv9d1"
      },
      "source": [
        "この `Link` というクラスは、インスタンス化を行う際には 1 つも引数をとりませんが、属性として `a` と `b` の 2 つの変数を保持し、それぞれには `__init__()` メソッドで 1 と 2 という値が代入される。\n",
        "このクラスのインスタンスを作成して見る。"
      ]
    },
    {
      "cell_type": "code",
      "metadata": {
        "id": "BsfYK88qv9d1",
        "colab": {
          "base_uri": "https://localhost:8080/",
          "height": 35
        },
        "outputId": "fe561266-04ce-4e67-9c08-79027499b92f"
      },
      "source": [
        "l = Link()\n",
        "\n",
        "l.a"
      ],
      "execution_count": null,
      "outputs": [
        {
          "output_type": "execute_result",
          "data": {
            "text/plain": [
              "1"
            ]
          },
          "metadata": {
            "tags": []
          },
          "execution_count": 142
        }
      ]
    },
    {
      "cell_type": "code",
      "metadata": {
        "id": "JA6sXOrvv9d2",
        "colab": {
          "base_uri": "https://localhost:8080/",
          "height": 35
        },
        "outputId": "e58234d5-268a-4668-e946-e9fe18ef7c23"
      },
      "source": [
        "l.b"
      ],
      "execution_count": null,
      "outputs": [
        {
          "output_type": "execute_result",
          "data": {
            "text/plain": [
              "2"
            ]
          },
          "metadata": {
            "tags": []
          },
          "execution_count": 143
        }
      ]
    },
    {
      "cell_type": "markdown",
      "metadata": {
        "id": "DxipToKmv9d2"
      },
      "source": [
        "`l` という `Link` クラスのインスタンスが持つ 2 つの属性を表示している。\n",
        "インスタンス化を行った際に `__init__()` メソッドの中で代入していた値が、表示されている。\n",
        "\n",
        "次に、このクラスを**継承**する、`Chain` というクラスを定義して見る。\n",
        "継承を行う場合は、クラス定義の際にクラス名に続けて `()` を書き、その中にベースにしたいクラスの名前を書きます。\n",
        "`()` の中に書かれたクラスのことを、定義されるクラスの**親クラス**と言う。\n",
        "それに対し、`()` の中に書かれたクラスからみると、定義されるクラスは**子クラス**と呼ばれます。\n",
        "親から子へ機能が受け継がれるためである。"
      ]
    },
    {
      "cell_type": "code",
      "metadata": {
        "id": "A4eTa6jZv9d3"
      },
      "source": [
        "class Chain(Link):\n",
        "    \n",
        "    def sum(self):\n",
        "        return self.a + self.b"
      ],
      "execution_count": null,
      "outputs": []
    },
    {
      "cell_type": "markdown",
      "metadata": {
        "id": "dhxR4J0mv9d3"
      },
      "source": [
        "`Chain` クラスは `__init__()` メソッドの定義を持ちません。\n",
        "`__init__()` メソッドが定義されていない場合、親クラスの `__init__()`  メソッドが自動的に呼び出される。\n",
        "そのため、`Chain` クラスでは一見何も属性を定義していないように見えますが、インスタンス化を行うと親クラスである `Link` の `__init__()`  メソッドが自動的に実行され、`a`、`b` という属性が定義される。\n",
        "以下のコードで確認してみる。"
      ]
    },
    {
      "cell_type": "code",
      "metadata": {
        "id": "ipmqPwsKv9d3",
        "colab": {
          "base_uri": "https://localhost:8080/",
          "height": 35
        },
        "outputId": "2c340a24-3414-4c84-da5f-48f911366135"
      },
      "source": [
        "# Chain クラスをインスタンス化\n",
        "c = Chain()\n",
        "\n",
        "c.a"
      ],
      "execution_count": null,
      "outputs": [
        {
          "output_type": "execute_result",
          "data": {
            "text/plain": [
              "1"
            ]
          },
          "metadata": {
            "tags": []
          },
          "execution_count": 145
        }
      ]
    },
    {
      "cell_type": "code",
      "metadata": {
        "id": "lWL0VTMOv9d4",
        "colab": {
          "base_uri": "https://localhost:8080/",
          "height": 35
        },
        "outputId": "0342c542-8a1a-4793-f54e-496f31a8a5ba"
      },
      "source": [
        "c.b"
      ],
      "execution_count": null,
      "outputs": [
        {
          "output_type": "execute_result",
          "data": {
            "text/plain": [
              "2"
            ]
          },
          "metadata": {
            "tags": []
          },
          "execution_count": 146
        }
      ]
    },
    {
      "cell_type": "markdown",
      "metadata": {
        "id": "nVjBNK1Cv9d4"
      },
      "source": [
        "`Chain` クラスの `sum()` メソッドでは、この親クラスの `__init__()`  メソッドで定義されている 2 つの属性を足し合わせて返している。\n",
        "今作成したインスタンスから、この `sum()` メソッドを呼び出して見る。"
      ]
    },
    {
      "cell_type": "code",
      "metadata": {
        "id": "pEf10A44v9d5",
        "colab": {
          "base_uri": "https://localhost:8080/",
          "height": 35
        },
        "outputId": "18759ed5-2255-473c-d7c5-ab922b8d1491"
      },
      "source": [
        "# sum メソッドを実行\n",
        "c.sum()"
      ],
      "execution_count": null,
      "outputs": [
        {
          "output_type": "execute_result",
          "data": {
            "text/plain": [
              "3"
            ]
          },
          "metadata": {
            "tags": []
          },
          "execution_count": 147
        }
      ]
    },
    {
      "cell_type": "markdown",
      "metadata": {
        "id": "QI1v_Ib0v9d5"
      },
      "source": [
        "このように、**親クラスを継承し、親クラスに無かった新しい機能が追加された、新しいクラスを定義することができる。**\n",
        "\n",
        "それでは、この `Chain` というクラスにも `__init__()`  メソッドを定義して、新しい属性 `c` を定義し、`sum()` メソッドでは親クラスの `a`、`b` という属性とこの新たな `c` という属性の 3 つの和を返すように変更して見る。"
      ]
    },
    {
      "cell_type": "code",
      "metadata": {
        "id": "ds9A6Xfpv9d5"
      },
      "source": [
        "class Chain(Link):\n",
        "\n",
        "    def __init__(self):\n",
        "        self.c = 5  # self.c を新たに追加\n",
        "    \n",
        "    def sum(self):\n",
        "        return self.a + self.b + self.c\n",
        "\n",
        "# インスタンス化\n",
        "C = Chain()"
      ],
      "execution_count": null,
      "outputs": []
    },
    {
      "cell_type": "code",
      "metadata": {
        "id": "_2_7avSHv9d6",
        "colab": {
          "base_uri": "https://localhost:8080/",
          "height": 296
        },
        "outputId": "c80707d3-ae9d-4b24-a0c9-ee6c492ed6c7"
      },
      "source": [
        "# error\n",
        "C.sum()"
      ],
      "execution_count": null,
      "outputs": [
        {
          "output_type": "error",
          "ename": "AttributeError",
          "evalue": "ignored",
          "traceback": [
            "\u001b[0;31m---------------------------------------------------------------------------\u001b[0m",
            "\u001b[0;31mAttributeError\u001b[0m                            Traceback (most recent call last)",
            "\u001b[0;32m<ipython-input-149-5d0c7cc9b080>\u001b[0m in \u001b[0;36m<module>\u001b[0;34m()\u001b[0m\n\u001b[0;32m----> 1\u001b[0;31m \u001b[0mC\u001b[0m\u001b[0;34m.\u001b[0m\u001b[0msum\u001b[0m\u001b[0;34m(\u001b[0m\u001b[0;34m)\u001b[0m\u001b[0;34m\u001b[0m\u001b[0;34m\u001b[0m\u001b[0m\n\u001b[0m",
            "\u001b[0;32m<ipython-input-148-1e932a4aed85>\u001b[0m in \u001b[0;36msum\u001b[0;34m(self)\u001b[0m\n\u001b[1;32m      5\u001b[0m \u001b[0;34m\u001b[0m\u001b[0m\n\u001b[1;32m      6\u001b[0m     \u001b[0;32mdef\u001b[0m \u001b[0msum\u001b[0m\u001b[0;34m(\u001b[0m\u001b[0mself\u001b[0m\u001b[0;34m)\u001b[0m\u001b[0;34m:\u001b[0m\u001b[0;34m\u001b[0m\u001b[0;34m\u001b[0m\u001b[0m\n\u001b[0;32m----> 7\u001b[0;31m         \u001b[0;32mreturn\u001b[0m \u001b[0mself\u001b[0m\u001b[0;34m.\u001b[0m\u001b[0ma\u001b[0m \u001b[0;34m+\u001b[0m \u001b[0mself\u001b[0m\u001b[0;34m.\u001b[0m\u001b[0mb\u001b[0m \u001b[0;34m+\u001b[0m \u001b[0mself\u001b[0m\u001b[0;34m.\u001b[0m\u001b[0mc\u001b[0m\u001b[0;34m\u001b[0m\u001b[0;34m\u001b[0m\u001b[0m\n\u001b[0m\u001b[1;32m      8\u001b[0m \u001b[0;34m\u001b[0m\u001b[0m\n\u001b[1;32m      9\u001b[0m \u001b[0;31m# インスタンス化\u001b[0m\u001b[0;34m\u001b[0m\u001b[0;34m\u001b[0m\u001b[0;34m\u001b[0m\u001b[0m\n",
            "\u001b[0;31mAttributeError\u001b[0m: 'Chain' object has no attribute 'a'"
          ]
        }
      ]
    },
    {
      "cell_type": "markdown",
      "metadata": {
        "id": "ZfTe1NMUv9d6"
      },
      "source": [
        "エラーが出ました。\n",
        "\n",
        "**エラーメッセージを読む。**\n",
        "\n",
        "> AttributeError: 'Chain' object has no attribute 'a'\n",
        "\n",
        "`'Chain'` というオブジェクトは、`'a'` という名前の属性を持っていない、と言われている。\n",
        "`a` という属性は、`Chain` の親クラスである `Link` の `__init__()`  メソッドで定義されている。\n",
        "そのため、`Chain` クラスをインスタンス化する際に、親クラスである `Link` の `__init__()`  メソッドが呼ばれているのであれば、このエラーは起こらないはずである。\n",
        "なぜエラーとなってしまったのでしょうか。\n",
        "\n",
        "それは、`Chain` クラスにも `__init__()` メソッドを定義したため、親クラスである `Link` の `__init__()`  メソッドが上書きされてしまい、実行されなかったためである。\n",
        "しかし、親クラスの `__init__()`  メソッドを明示的に呼ぶことで、これは解決できる。\n",
        "\n",
        "それには、`super()` という組み込み関数を用います。\n",
        "これを用いると、子クラスから親クラスを参照することができる。"
      ]
    },
    {
      "cell_type": "code",
      "metadata": {
        "id": "_NcT6aN7v9d6"
      },
      "source": [
        "class Chain(Link):\n",
        "\n",
        "    def __init__(self):\n",
        "        # 親クラスの `__init__()` メソッドを呼び出す\n",
        "        super().__init__()\n",
        "        \n",
        "        # self.c を新たに追加\n",
        "        self.c = 5\n",
        "    \n",
        "    def sum(self):\n",
        "        return self.a + self.b + self.c\n",
        "\n",
        "# インスタンス化\n",
        "c = Chain()"
      ],
      "execution_count": null,
      "outputs": []
    },
    {
      "cell_type": "code",
      "metadata": {
        "id": "FW__tTtGv9d7",
        "colab": {
          "base_uri": "https://localhost:8080/",
          "height": 35
        },
        "outputId": "4fab420e-d2af-4d1f-9c3a-f3e5a1fe5820"
      },
      "source": [
        "c.sum()"
      ],
      "execution_count": null,
      "outputs": [
        {
          "output_type": "execute_result",
          "data": {
            "text/plain": [
              "8"
            ]
          },
          "metadata": {
            "tags": []
          },
          "execution_count": 151
        }
      ]
    },
    {
      "cell_type": "markdown",
      "metadata": {
        "id": "HcDciFKRv9d7"
      },
      "source": [
        "今回はエラーが起きませんでした。\n",
        "`Link` クラスの `__init__()`  メソッドの冒頭で、まず親クラスの `__init__()`  メソッドを実行し、`a`、`b` という属性を定義しているためである。\n",
        "\n",
        "あるクラスを継承して作られたクラスを、さらに継承して別のクラスを定義することもできる。"
      ]
    },
    {
      "cell_type": "code",
      "metadata": {
        "id": "RmL3FvD-v9d7"
      },
      "source": [
        "class MyNetwork(Chain):\n",
        "    \n",
        "    def mul(self):\n",
        "        return self.a * self.b * self.c"
      ],
      "execution_count": null,
      "outputs": []
    },
    {
      "cell_type": "markdown",
      "metadata": {
        "id": "21eb0EOKv9d8"
      },
      "source": [
        "`MyNetwork` クラスは、`Link` クラスを継承した `Chain` クラスをさらに継承したクラスで、`a`、`b`、`c` という 3 つの属性を掛け合わせた結果を返す `mul()` というメソッドを持ちます。\n",
        "\n",
        "このクラスのインスタンスを作成し、`mul()` を実行してみる。"
      ]
    },
    {
      "cell_type": "code",
      "metadata": {
        "id": "Cq4lJIm3v9d8",
        "colab": {
          "base_uri": "https://localhost:8080/",
          "height": 35
        },
        "outputId": "afcc0ba0-f917-41ca-d06a-64b42e1e2456"
      },
      "source": [
        "net = MyNetwork()\n",
        "\n",
        "net.mul()"
      ],
      "execution_count": null,
      "outputs": [
        {
          "output_type": "execute_result",
          "data": {
            "text/plain": [
              "10"
            ]
          },
          "metadata": {
            "tags": []
          },
          "execution_count": 153
        }
      ]
    },
    {
      "cell_type": "markdown",
      "metadata": {
        "id": "VujV1nqfv9d8"
      },
      "source": [
        "$1 \\times 2 \\times 5 = 10$ が返ってきました。"
      ]
    },
    {
      "cell_type": "markdown",
      "metadata": {
        "id": "mIPsXEy0v9d9"
      },
      "source": [
        "以上で、Python の基本についての解説を終了する。\n",
        "Python には他にもここでは紹介されていない多くの特徴や機能がある。\n",
        "さらに詳しく学びたい方は、[Pythonチュートリアル](https://docs.python.org/ja/3/tutorial/index.html) などを参照してください。"
      ]
    }
  ]
}