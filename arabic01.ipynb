{
  "nbformat": 4,
  "nbformat_minor": 0,
  "metadata": {
    "colab": {
      "name": "arabic01.ipynb",
      "provenance": [],
      "toc_visible": true,
      "authorship_tag": "ABX9TyO0u0ojCMgFozqeKXNUBhgA",
      "include_colab_link": true
    },
    "kernelspec": {
      "name": "python3",
      "display_name": "Python 3"
    }
  },
  "cells": [
    {
      "cell_type": "markdown",
      "metadata": {
        "id": "view-in-github",
        "colab_type": "text"
      },
      "source": [
        "<a href=\"https://colab.research.google.com/github/kalz2q/mycolabnotebooks/blob/master/arabic01.ipynb\" target=\"_parent\"><img src=\"https://colab.research.google.com/assets/colab-badge.svg\" alt=\"Open In Colab\"/></a>"
      ]
    },
    {
      "cell_type": "markdown",
      "metadata": {
        "id": "5A_Gfj4amBG1"
      },
      "source": [
        "# メモ\n",
        "\n",
        "アイデアは Colab というか Jupyter の環境のテキストはマークダウンなので基本的に文字に色をつけたり、大きくしたりができない。 \n",
        "\n",
        "だけど、コードセルでは %%html とすると、html が書けるので云々。\n",
        "\n",
        "\n"
      ]
    },
    {
      "cell_type": "code",
      "metadata": {
        "id": "6uj6H4Tilj4J",
        "outputId": "fddbeb04-a4a2-4c51-9b26-1b31c0a254ca",
        "colab": {
          "base_uri": "https://localhost:8080/",
          "height": 69
        }
      },
      "source": [
        "%%html\n",
        "<span style=\"font-size: 300%; color: red;\">اَلسَّلَامُ</span>"
      ],
      "execution_count": 1,
      "outputs": [
        {
          "output_type": "display_data",
          "data": {
            "text/html": [
              "<span style=\"font-size: 300%; color: red;\">اَلسَّلَامُ</span>"
            ],
            "text/plain": [
              "<IPython.core.display.HTML object>"
            ]
          },
          "metadata": {
            "tags": []
          }
        }
      ]
    },
    {
      "cell_type": "markdown",
      "metadata": {
        "id": "ax0JckdYoIsD"
      },
      "source": [
        "# Alphabet 1"
      ]
    },
    {
      "cell_type": "code",
      "metadata": {
        "id": "gUDF4o4ZoOfN",
        "outputId": "34e9cfb2-a1c6-4a80-8ee0-e0465c7f32de",
        "colab": {
          "base_uri": "https://localhost:8080/",
          "height": 236
        }
      },
      "source": [
        "%%html\n",
        "<!-- <table border=\"1\" width=\"500\" cellspacing=\"0\" cellpadding=\"5\" bordercolor=\"#333333\"> -->\n",
        "<table  cellpadding=\"5\" >\n",
        "<tr>\n",
        "<th bgcolor=\"#EE0000\"><font color=\"#FFFFFF\">English letters</font></th>\n",
        "<th bgcolor=\"#EE0000\"><font color=\"#FFFFFF\">Japanese letters</font></th>\n",
        "<th bgcolor=\"#EE0000\" width=\"150\"><font color=\"#FFFFFF\">Arabic ltters</font></th>\n",
        "</tr>\n",
        "<tr>\n",
        "<td width=\"150\">d</td>\n",
        "<td width=\"150\">ド</td>\n",
        "<td width=\"150\"><span style=\"font-size: 300%; color: red;\">د</span></td>\n",
        "</tr>\n",
        "<tr>\n",
        "<td width=\"150\">aa</td>\n",
        "<td width=\"150\">アー</td>\n",
        "<td width=\"150\"><span style=\"font-size: 300%; color: red;\">ا</span></td>\n",
        "</tr>\n",
        "<tr>\n",
        "<td width=\"150\">daa</td>\n",
        "<td width=\"150\">ダー</td>\n",
        "<td width=\"150\"><span style=\"font-size: 300%; color: red;\">دا</span></td>\n",
        "</tr>\n",
        "</table>"
      ],
      "execution_count": 21,
      "outputs": [
        {
          "output_type": "display_data",
          "data": {
            "text/html": [
              "<!-- <table border=\"1\" width=\"500\" cellspacing=\"0\" cellpadding=\"5\" bordercolor=\"#333333\"> -->\n",
              "<table  cellpadding=\"5\" >\n",
              "<tr>\n",
              "<th bgcolor=\"#EE0000\"><font color=\"#FFFFFF\">English letters</font></th>\n",
              "<th bgcolor=\"#EE0000\"><font color=\"#FFFFFF\">Japanese letters</font></th>\n",
              "<th bgcolor=\"#EE0000\" width=\"150\"><font color=\"#FFFFFF\">Arabic ltters</font></th>\n",
              "</tr>\n",
              "<tr>\n",
              "<td width=\"150\">d</td>\n",
              "<td width=\"150\">ド</td>\n",
              "<td width=\"150\"><span style=\"font-size: 300%; color: red;\">د</span></td>\n",
              "</tr>\n",
              "<tr>\n",
              "<td width=\"150\">aa</td>\n",
              "<td width=\"150\">アー</td>\n",
              "<td width=\"150\"><span style=\"font-size: 300%; color: red;\">ا</span></td>\n",
              "</tr>\n",
              "<tr>\n",
              "<td width=\"150\">daa</td>\n",
              "<td width=\"150\">ダー</td>\n",
              "<td width=\"150\"><span style=\"font-size: 300%; color: red;\">دا</span></td>\n",
              "</tr>\n",
              "</table>"
            ],
            "text/plain": [
              "<IPython.core.display.HTML object>"
            ]
          },
          "metadata": {
            "tags": []
          }
        }
      ]
    }
  ]
}