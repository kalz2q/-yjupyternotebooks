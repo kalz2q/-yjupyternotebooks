{
  "nbformat": 4,
  "nbformat_minor": 0,
  "metadata": {
    "colab": {
      "name": "arabic01.ipynb",
      "provenance": [],
      "toc_visible": true,
      "authorship_tag": "ABX9TyP+aEWOINyCz+eF+/Cd7AOw",
      "include_colab_link": true
    },
    "kernelspec": {
      "name": "python3",
      "display_name": "Python 3"
    }
  },
  "cells": [
    {
      "cell_type": "markdown",
      "metadata": {
        "id": "view-in-github",
        "colab_type": "text"
      },
      "source": [
        "<a href=\"https://colab.research.google.com/github/kalz2q/mycolabnotebooks/blob/master/arabic01.ipynb\" target=\"_parent\"><img src=\"https://colab.research.google.com/assets/colab-badge.svg\" alt=\"Open In Colab\"/></a>"
      ]
    },
    {
      "cell_type": "markdown",
      "metadata": {
        "id": "5A_Gfj4amBG1"
      },
      "source": [
        "# メモ\n",
        "\n",
        "アイデアは Colab というか Jupyter の環境のテキストはマークダウンなので基本的に文字に色をつけたり、大きくしたりができない。 \n",
        "\n",
        "だけど、コードセルでは %%html とすると、html が書ける。\n",
        "\n",
        "\n"
      ]
    },
    {
      "cell_type": "code",
      "metadata": {
        "id": "6uj6H4Tilj4J",
        "colab": {
          "base_uri": "https://localhost:8080/",
          "height": 69
        },
        "cellView": "form",
        "outputId": "eae7a27b-8de6-475e-d01f-f8c51299fcc1"
      },
      "source": [
        "#@title\n",
        "%%html\n",
        "<span style=\"font-size: 300%; color: red;\">اَلسَّلَامُ</span>"
      ],
      "execution_count": 1,
      "outputs": [
        {
          "output_type": "display_data",
          "data": {
            "text/html": [
              "<span style=\"font-size: 300%; color: red;\">اَلسَّلَامُ</span>"
            ],
            "text/plain": [
              "<IPython.core.display.HTML object>"
            ]
          },
          "metadata": {
            "tags": []
          }
        }
      ]
    },
    {
      "cell_type": "markdown",
      "metadata": {
        "id": "q9kMf95tgT3V"
      },
      "source": [
        "これを利用して、アラビア語の勉強をする。\r\n",
        "\r\n",
        "とりあえずduokingoのtipsを読み直そうという計画。"
      ]
    },
    {
      "cell_type": "markdown",
      "metadata": {
        "id": "lepyekDyhB3j"
      },
      "source": [
        "duolingo では english letters , arabic letters, meaning という構成になっているが、これを多少変形して、 latin , kana, arabic, meaning という json データベースにする。"
      ]
    },
    {
      "cell_type": "code",
      "metadata": {
        "cellView": "form",
        "id": "PbzJ1luohhK1",
        "outputId": "4dcd238c-2ace-41c4-94f4-07a65af17353",
        "colab": {
          "base_uri": "https://localhost:8080/",
          "height": 272
        }
      },
      "source": [
        "#@title\n",
        "%%html\n",
        "<style>\n",
        "    table {\n",
        "        border-collapse: collapse;\n",
        "        border: 2px solid rgb(200, 200, 200);\n",
        "        letter-spacing: 1px;\n",
        "        margin: auto;\n",
        "    }\n",
        "\n",
        "    td,\n",
        "    th {\n",
        "        border: 1px solid rgb(190, 190, 190);\n",
        "        padding: 10px 20px;\n",
        "    }\n",
        "\n",
        "    tr:nth-child(even) td {\n",
        "        background-color: rgb(250, 250, 250);\n",
        "    }\n",
        "\n",
        "    tr:nth-child(odd) td {\n",
        "        background-color: rgb(245, 245, 245);\n",
        "    }\n",
        "\n",
        "    tr td:nth-child(3) {\n",
        "        color: red;\n",
        "        font-size: 300%;\n",
        "    }\n",
        "</style>\n",
        "\n",
        "<div id=\"maintable\"></div>\n",
        "\n",
        "<script>\n",
        "    var json = [\n",
        "        {\n",
        "            latin: \"a-s-salaamu\",\n",
        "            kana: \"アッサラーム\",\n",
        "            arabic: \"اَلسَّلَامُ\",\n",
        "            meaning: \"peace\",\n",
        "        },\n",
        "        {\n",
        "            latin: \"2alaykum\",\n",
        "            kana: \"アライクム\",\n",
        "            arabic: \"عَلَيْكُمْ\",\n",
        "            meaning: \"on you\",\n",
        "        },\n",
        "        {\n",
        "            latin: \"SabaaH\",\n",
        "            kana: \"すぁバーふ\",\n",
        "            arabic: \"صَبَاح\",\n",
        "            meaning: \"morning\",\n",
        "        }\n",
        "    ];\n",
        "    var table = document.createElement(\"table\");\n",
        "    // table header\n",
        "    var tr = document.createElement(\"tr\");\n",
        "    for (key in json[0]) {\n",
        "        var th = document.createElement(\"th\");\n",
        "        th.textContent = key;\n",
        "        tr.appendChild(th);\n",
        "    }\n",
        "    table.appendChild(tr);\n",
        "\n",
        "    // table content\n",
        "    for (var i = 0; i < json.length; i++) {\n",
        "        var tr = document.createElement(\"tr\");\n",
        "        for (key in json[0]) {\n",
        "            var td = document.createElement(\"td\");\n",
        "            td.textContent = json[i][key];\n",
        "            tr.appendChild(td);\n",
        "        }\n",
        "        table.appendChild(tr);\n",
        "    }\n",
        "    // add table to maintable\n",
        "    document.getElementById(\"maintable\").appendChild(table);\n",
        "</script>"
      ],
      "execution_count": 2,
      "outputs": [
        {
          "output_type": "display_data",
          "data": {
            "text/html": [
              "<style>\n",
              "    table {\n",
              "        border-collapse: collapse;\n",
              "        border: 2px solid rgb(200, 200, 200);\n",
              "        letter-spacing: 1px;\n",
              "        margin: auto;\n",
              "    }\n",
              "\n",
              "    td,\n",
              "    th {\n",
              "        border: 1px solid rgb(190, 190, 190);\n",
              "        padding: 10px 20px;\n",
              "    }\n",
              "\n",
              "    tr:nth-child(even) td {\n",
              "        background-color: rgb(250, 250, 250);\n",
              "    }\n",
              "\n",
              "    tr:nth-child(odd) td {\n",
              "        background-color: rgb(245, 245, 245);\n",
              "    }\n",
              "\n",
              "    tr td:nth-child(3) {\n",
              "        color: red;\n",
              "        font-size: 300%;\n",
              "    }\n",
              "</style>\n",
              "\n",
              "<div id=\"maintable\"></div>\n",
              "\n",
              "<script>\n",
              "    var json = [\n",
              "        {\n",
              "            latin: \"a-s-salaamu\",\n",
              "            kana: \"アッサラーム\",\n",
              "            arabic: \"اَلسَّلَامُ\",\n",
              "            meaning: \"peace\",\n",
              "        },\n",
              "        {\n",
              "            latin: \"2alaykum\",\n",
              "            kana: \"アライクム\",\n",
              "            arabic: \"عَلَيْكُمْ\",\n",
              "            meaning: \"on you\",\n",
              "        },\n",
              "        {\n",
              "            latin: \"SabaaH\",\n",
              "            kana: \"すぁバーふ\",\n",
              "            arabic: \"صَبَاح\",\n",
              "            meaning: \"morning\",\n",
              "        }\n",
              "    ];\n",
              "    var table = document.createElement(\"table\");\n",
              "    // table header\n",
              "    var tr = document.createElement(\"tr\");\n",
              "    for (key in json[0]) {\n",
              "        var th = document.createElement(\"th\");\n",
              "        th.textContent = key;\n",
              "        tr.appendChild(th);\n",
              "    }\n",
              "    table.appendChild(tr);\n",
              "\n",
              "    // table content\n",
              "    for (var i = 0; i < json.length; i++) {\n",
              "        var tr = document.createElement(\"tr\");\n",
              "        for (key in json[0]) {\n",
              "            var td = document.createElement(\"td\");\n",
              "            td.textContent = json[i][key];\n",
              "            tr.appendChild(td);\n",
              "        }\n",
              "        table.appendChild(tr);\n",
              "    }\n",
              "    // add table to maintable\n",
              "    document.getElementById(\"maintable\").appendChild(table);\n",
              "</script>"
            ],
            "text/plain": [
              "<IPython.core.display.HTML object>"
            ]
          },
          "metadata": {
            "tags": []
          }
        }
      ]
    },
    {
      "cell_type": "markdown",
      "metadata": {
        "id": "HybkTTSijLip"
      },
      "source": [
        ""
      ]
    },
    {
      "cell_type": "markdown",
      "metadata": {
        "id": "ax0JckdYoIsD"
      },
      "source": [
        "# Alphabet 1"
      ]
    },
    {
      "cell_type": "code",
      "metadata": {
        "id": "gUDF4o4ZoOfN",
        "colab": {
          "base_uri": "https://localhost:8080/",
          "height": 236
        },
        "outputId": "34e9cfb2-a1c6-4a80-8ee0-e0465c7f32de"
      },
      "source": [
        "%%html\n",
        "<!-- <table border=\"1\" width=\"500\" cellspacing=\"0\" cellpadding=\"5\" bordercolor=\"#333333\"> -->\n",
        "<table  cellpadding=\"5\" >\n",
        "<tr>\n",
        "<th bgcolor=\"#EE0000\"><font color=\"#FFFFFF\">English letters</font></th>\n",
        "<th bgcolor=\"#EE0000\"><font color=\"#FFFFFF\">Japanese letters</font></th>\n",
        "<th bgcolor=\"#EE0000\" width=\"150\"><font color=\"#FFFFFF\">Arabic ltters</font></th>\n",
        "</tr>\n",
        "<tr>\n",
        "<td width=\"150\">d</td>\n",
        "<td width=\"150\">ド</td>\n",
        "<td width=\"150\"><span style=\"font-size: 300%; color: red;\">د</span></td>\n",
        "</tr>\n",
        "<tr>\n",
        "<td width=\"150\">aa</td>\n",
        "<td width=\"150\">アー</td>\n",
        "<td width=\"150\"><span style=\"font-size: 300%; color: red;\">ا</span></td>\n",
        "</tr>\n",
        "<tr>\n",
        "<td width=\"150\">daa</td>\n",
        "<td width=\"150\">ダー</td>\n",
        "<td width=\"150\"><span style=\"font-size: 300%; color: red;\">دا</span></td>\n",
        "</tr>\n",
        "</table>"
      ],
      "execution_count": null,
      "outputs": [
        {
          "output_type": "display_data",
          "data": {
            "text/html": [
              "<!-- <table border=\"1\" width=\"500\" cellspacing=\"0\" cellpadding=\"5\" bordercolor=\"#333333\"> -->\n",
              "<table  cellpadding=\"5\" >\n",
              "<tr>\n",
              "<th bgcolor=\"#EE0000\"><font color=\"#FFFFFF\">English letters</font></th>\n",
              "<th bgcolor=\"#EE0000\"><font color=\"#FFFFFF\">Japanese letters</font></th>\n",
              "<th bgcolor=\"#EE0000\" width=\"150\"><font color=\"#FFFFFF\">Arabic ltters</font></th>\n",
              "</tr>\n",
              "<tr>\n",
              "<td width=\"150\">d</td>\n",
              "<td width=\"150\">ド</td>\n",
              "<td width=\"150\"><span style=\"font-size: 300%; color: red;\">د</span></td>\n",
              "</tr>\n",
              "<tr>\n",
              "<td width=\"150\">aa</td>\n",
              "<td width=\"150\">アー</td>\n",
              "<td width=\"150\"><span style=\"font-size: 300%; color: red;\">ا</span></td>\n",
              "</tr>\n",
              "<tr>\n",
              "<td width=\"150\">daa</td>\n",
              "<td width=\"150\">ダー</td>\n",
              "<td width=\"150\"><span style=\"font-size: 300%; color: red;\">دا</span></td>\n",
              "</tr>\n",
              "</table>"
            ],
            "text/plain": [
              "<IPython.core.display.HTML object>"
            ]
          },
          "metadata": {
            "tags": []
          }
        }
      ]
    },
    {
      "cell_type": "code",
      "metadata": {
        "id": "4d3OQo8jjkIT"
      },
      "source": [
        "%%html\r\n",
        "<style>\r\n",
        "    table {\r\n",
        "        border-collapse: collapse;\r\n",
        "        border: 2px solid rgb(200, 200, 200);\r\n",
        "        letter-spacing: 1px;\r\n",
        "        margin: auto;\r\n",
        "    }\r\n",
        "\r\n",
        "    td,\r\n",
        "    th {\r\n",
        "        border: 1px solid rgb(190, 190, 190);\r\n",
        "        padding: 10px 20px;\r\n",
        "    }\r\n",
        "\r\n",
        "    tr:nth-child(even) td {\r\n",
        "        background-color: rgb(250, 250, 250);\r\n",
        "    }\r\n",
        "\r\n",
        "    tr:nth-child(odd) td {\r\n",
        "        background-color: rgb(245, 245, 245);\r\n",
        "    }\r\n",
        "\r\n",
        "    tr td:nth-child(3) {\r\n",
        "        color: red;\r\n",
        "        font-size: 300%;\r\n",
        "    }\r\n",
        "</style>\r\n",
        "\r\n",
        "<div id=\"maintable\"></div>\r\n",
        "\r\n",
        "<script>\r\n",
        "    var json = [\r\n",
        "        {\r\n",
        "            latin: \"a-s-salaamu\",\r\n",
        "            kana: \"アッサラーム\",\r\n",
        "            arabic: \"اَلسَّلَامُ\",\r\n",
        "            meaning: \"日本語のド\",\r\n",
        "        },\r\n",
        "        {\r\n",
        "            latin: \"2alaykum\",\r\n",
        "            kana: \"アライクム\",\r\n",
        "            arabic: \"عَلَيْكُمْ\",\r\n",
        "            meaning: \"on you\",\r\n",
        "        },\r\n",
        "        {\r\n",
        "            latin: \"SabaaH\",\r\n",
        "            kana: \"すぁバーふ\",\r\n",
        "            arabic: \"صَبَاح\",\r\n",
        "            meaning: \"morning\",\r\n",
        "        }\r\n",
        "    ];\r\n",
        "    var table = document.createElement(\"table\");\r\n",
        "    // table header\r\n",
        "    var tr = document.createElement(\"tr\");\r\n",
        "    for (key in json[0]) {\r\n",
        "        var th = document.createElement(\"th\");\r\n",
        "        th.textContent = key;\r\n",
        "        tr.appendChild(th);\r\n",
        "    }\r\n",
        "    table.appendChild(tr);\r\n",
        "\r\n",
        "    // table content\r\n",
        "    for (var i = 0; i < json.length; i++) {\r\n",
        "        var tr = document.createElement(\"tr\");\r\n",
        "        for (key in json[0]) {\r\n",
        "            var td = document.createElement(\"td\");\r\n",
        "            td.textContent = json[i][key];\r\n",
        "            tr.appendChild(td);\r\n",
        "        }\r\n",
        "        table.appendChild(tr);\r\n",
        "    }\r\n",
        "    // add table to maintable\r\n",
        "    document.getElementById(\"maintable\").appendChild(table);\r\n",
        "</script>"
      ],
      "execution_count": null,
      "outputs": []
    },
    {
      "cell_type": "markdown",
      "metadata": {
        "id": "ofOb7m6aultu"
      },
      "source": [
        "表のcssはもっとうまい方法を考えよう。"
      ]
    },
    {
      "cell_type": "markdown",
      "metadata": {
        "id": "rArqQuCOsevy"
      },
      "source": [
        "アラビア語は右から左に書く。\r\n",
        "\r\n",
        "母音は3つしかないが、長音と単音がある。\r\n",
        "\r\n",
        "<span style=\"font-size: 300%;\">دا</span>"
      ]
    },
    {
      "cell_type": "code",
      "metadata": {
        "id": "en6cHPzMusoV"
      },
      "source": [
        "%%html\r\n"
      ],
      "execution_count": null,
      "outputs": []
    },
    {
      "cell_type": "markdown",
      "metadata": {
        "id": "b3O3A-M_scCi"
      },
      "source": [
        "# いまここ"
      ]
    }
  ]
}