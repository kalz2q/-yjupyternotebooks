{
  "nbformat": 4,
  "nbformat_minor": 0,
  "metadata": {
    "colab": {
      "name": "arabic01.ipynb",
      "provenance": [],
      "toc_visible": true,
      "authorship_tag": "ABX9TyOCDmE2FKgLyH/cEotkWXsf",
      "include_colab_link": true
    },
    "kernelspec": {
      "name": "python3",
      "display_name": "Python 3"
    }
  },
  "cells": [
    {
      "cell_type": "markdown",
      "metadata": {
        "id": "view-in-github",
        "colab_type": "text"
      },
      "source": [
        "<a href=\"https://colab.research.google.com/github/kalz2q/mycolabnotebooks/blob/master/arabic01.ipynb\" target=\"_parent\"><img src=\"https://colab.research.google.com/assets/colab-badge.svg\" alt=\"Open In Colab\"/></a>"
      ]
    },
    {
      "cell_type": "markdown",
      "metadata": {
        "id": "5A_Gfj4amBG1"
      },
      "source": [
        "# メモ\n",
        "\n",
        "このノートブックは Colab で開いて読んでください。 \n",
        "\n",
        "アイデアは Colab というか Jupyter の環境のテキストはマークダウンなので基本的に文字に色をつけたり、大きくしたりができない。 \n",
        "\n",
        "だけど、コードセルでは %%html とすると、html が書けるのでそれを利用する。\n",
        "\n",
        "\n"
      ]
    },
    {
      "cell_type": "code",
      "metadata": {
        "id": "6uj6H4Tilj4J",
        "colab": {
          "base_uri": "https://localhost:8080/",
          "height": 69
        },
        "cellView": "form",
        "outputId": "eae7a27b-8de6-475e-d01f-f8c51299fcc1"
      },
      "source": [
        "#@title\n",
        "%%html\n",
        "<span style=\"font-size: 300%; color: red;\">اَلسَّلَامُ</span>"
      ],
      "execution_count": null,
      "outputs": [
        {
          "output_type": "display_data",
          "data": {
            "text/html": [
              "<span style=\"font-size: 300%; color: red;\">اَلسَّلَامُ</span>"
            ],
            "text/plain": [
              "<IPython.core.display.HTML object>"
            ]
          },
          "metadata": {
            "tags": []
          }
        }
      ]
    },
    {
      "cell_type": "markdown",
      "metadata": {
        "id": "q9kMf95tgT3V"
      },
      "source": [
        "これを利用して、アラビア語の勉強をする。\r\n",
        "\r\n",
        "とりあえずduokingoのtipsを読み直そうという計画。"
      ]
    },
    {
      "cell_type": "markdown",
      "metadata": {
        "id": "lepyekDyhB3j"
      },
      "source": [
        "duolingo では english letters , arabic letters, meaning という構成になっているが、これを多少変形して、 latin , kana, arabic, meaning という json データベースにする。\r\n",
        "\r\n",
        "次のような感じ。"
      ]
    },
    {
      "cell_type": "code",
      "metadata": {
        "colab": {
          "base_uri": "https://localhost:8080/",
          "height": 277
        },
        "cellView": "form",
        "id": "PbzJ1luohhK1",
        "outputId": "d4aefbe5-5ae0-4d3d-ecc9-3e2dc7379a6e"
      },
      "source": [
        "#@title\n",
        "%%html\n",
        "<style>\n",
        "    table {\n",
        "        border-collapse: collapse;\n",
        "        border: 2px solid rgb(200, 200, 200);\n",
        "        letter-spacing: 1px;\n",
        "        margin: auto;\n",
        "    }\n",
        "\n",
        "    td,\n",
        "    th {\n",
        "        border: 1px solid rgb(190, 190, 190);\n",
        "        padding: 10px 20px;\n",
        "    }\n",
        "\n",
        "    tr:nth-child(even) td {\n",
        "        background-color: rgb(250, 250, 250);\n",
        "    }\n",
        "\n",
        "    tr:nth-child(odd) td {\n",
        "        background-color: rgb(245, 245, 245);\n",
        "    }\n",
        "\n",
        "    tr td:nth-child(3) {\n",
        "        color: red;\n",
        "        font-size: 300%;\n",
        "    }\n",
        "</style>\n",
        "\n",
        "<div id=\"maintable\"></div>\n",
        "\n",
        "<script>\n",
        "    var json = [\n",
        "        {\n",
        "            latin: \"a-s-salaamu\",\n",
        "            kana: \"アッサラーム\",\n",
        "            arabic: \"اَلسَّلَامُ\",\n",
        "            meaning: \"peace\",\n",
        "        },\n",
        "        {\n",
        "            latin: \"2alaykum\",\n",
        "            kana: \"アライクム\",\n",
        "            arabic: \"عَلَيْكُمْ\",\n",
        "            meaning: \"on you\",\n",
        "        },\n",
        "        {\n",
        "            latin: \"SabaaH\",\n",
        "            kana: \"すぁバーふ\",\n",
        "            arabic: \"صَبَاح\",\n",
        "            meaning: \"morning\",\n",
        "        }\n",
        "    ];\n",
        "    var table = document.createElement(\"table\");\n",
        "    // table header\n",
        "    var tr = document.createElement(\"tr\");\n",
        "    for (key in json[0]) {\n",
        "        var th = document.createElement(\"th\");\n",
        "        th.textContent = key;\n",
        "        tr.appendChild(th);\n",
        "    }\n",
        "    table.appendChild(tr);\n",
        "\n",
        "    // table content\n",
        "    for (var i = 0; i < json.length; i++) {\n",
        "        var tr = document.createElement(\"tr\");\n",
        "        for (key in json[0]) {\n",
        "            var td = document.createElement(\"td\");\n",
        "            td.textContent = json[i][key];\n",
        "            tr.appendChild(td);\n",
        "        }\n",
        "        table.appendChild(tr);\n",
        "    }\n",
        "    // add table to maintable\n",
        "    document.getElementById(\"maintable\").appendChild(table);\n",
        "</script>"
      ],
      "execution_count": null,
      "outputs": [
        {
          "output_type": "display_data",
          "data": {
            "text/html": [
              "<style>\n",
              "    table {\n",
              "        border-collapse: collapse;\n",
              "        border: 2px solid rgb(200, 200, 200);\n",
              "        letter-spacing: 1px;\n",
              "        margin: auto;\n",
              "    }\n",
              "\n",
              "    td,\n",
              "    th {\n",
              "        border: 1px solid rgb(190, 190, 190);\n",
              "        padding: 10px 20px;\n",
              "    }\n",
              "\n",
              "    tr:nth-child(even) td {\n",
              "        background-color: rgb(250, 250, 250);\n",
              "    }\n",
              "\n",
              "    tr:nth-child(odd) td {\n",
              "        background-color: rgb(245, 245, 245);\n",
              "    }\n",
              "\n",
              "    tr td:nth-child(3) {\n",
              "        color: red;\n",
              "        font-size: 300%;\n",
              "    }\n",
              "</style>\n",
              "\n",
              "<div id=\"maintable\"></div>\n",
              "\n",
              "<script>\n",
              "    var json = [\n",
              "        {\n",
              "            latin: \"a-s-salaamu\",\n",
              "            kana: \"アッサラーム\",\n",
              "            arabic: \"اَلسَّلَامُ\",\n",
              "            meaning: \"peace\",\n",
              "        },\n",
              "        {\n",
              "            latin: \"2alaykum\",\n",
              "            kana: \"アライクム\",\n",
              "            arabic: \"عَلَيْكُمْ\",\n",
              "            meaning: \"on you\",\n",
              "        },\n",
              "        {\n",
              "            latin: \"SabaaH\",\n",
              "            kana: \"すぁバーふ\",\n",
              "            arabic: \"صَبَاح\",\n",
              "            meaning: \"morning\",\n",
              "        }\n",
              "    ];\n",
              "    var table = document.createElement(\"table\");\n",
              "    // table header\n",
              "    var tr = document.createElement(\"tr\");\n",
              "    for (key in json[0]) {\n",
              "        var th = document.createElement(\"th\");\n",
              "        th.textContent = key;\n",
              "        tr.appendChild(th);\n",
              "    }\n",
              "    table.appendChild(tr);\n",
              "\n",
              "    // table content\n",
              "    for (var i = 0; i < json.length; i++) {\n",
              "        var tr = document.createElement(\"tr\");\n",
              "        for (key in json[0]) {\n",
              "            var td = document.createElement(\"td\");\n",
              "            td.textContent = json[i][key];\n",
              "            tr.appendChild(td);\n",
              "        }\n",
              "        table.appendChild(tr);\n",
              "    }\n",
              "    // add table to maintable\n",
              "    document.getElementById(\"maintable\").appendChild(table);\n",
              "</script>"
            ],
            "text/plain": [
              "<IPython.core.display.HTML object>"
            ]
          },
          "metadata": {
            "tags": []
          }
        }
      ]
    },
    {
      "cell_type": "markdown",
      "metadata": {
        "id": "ax0JckdYoIsD"
      },
      "source": [
        "# Alphabet 1"
      ]
    },
    {
      "cell_type": "markdown",
      "metadata": {
        "id": "nXwN70cilVv1"
      },
      "source": [
        "初めのうちはアルファベットの話。"
      ]
    },
    {
      "cell_type": "code",
      "metadata": {
        "colab": {
          "base_uri": "https://localhost:8080/",
          "height": 277
        },
        "cellView": "form",
        "id": "4d3OQo8jjkIT",
        "outputId": "23ba95be-654f-4275-e627-3fbd8f6ec2d5"
      },
      "source": [
        "#@title\n",
        "%%html\n",
        "<style>\n",
        "    table {\n",
        "        border-collapse: collapse;\n",
        "        border: 2px solid rgb(200, 200, 200);\n",
        "        letter-spacing: 1px;\n",
        "        margin: auto;\n",
        "    }\n",
        "\n",
        "    td,\n",
        "    th {\n",
        "        border: 1px solid rgb(190, 190, 190);\n",
        "        padding: 10px 20px;\n",
        "    }\n",
        "\n",
        "    tr:nth-child(even) td {\n",
        "        background-color: rgb(250, 250, 250);\n",
        "    }\n",
        "\n",
        "    tr:nth-child(odd) td {\n",
        "        background-color: rgb(245, 245, 245);\n",
        "    }\n",
        "\n",
        "    tr td:nth-child(3) {\n",
        "        color: red;\n",
        "        font-size: 300%;\n",
        "    }\n",
        "</style>\n",
        "\n",
        "<div id=\"maintable\"></div>\n",
        "\n",
        "<script>\n",
        "    var json = [\n",
        "        {\n",
        "            latin: \"d\",\n",
        "            kana: \"ド\",\n",
        "            arabic: \"د\",\n",
        "            meaning: \"日本語のドと同じ\",\n",
        "        },\n",
        "        {\n",
        "            latin: \"aa\",\n",
        "            kana: \"アー\",\n",
        "            arabic: \"ا\",\n",
        "            meaning: \"日本語のアーと同じ\",\n",
        "        },\n",
        "        {\n",
        "            latin: \"daa\",\n",
        "            kana: \"ダー\",\n",
        "            arabic: \"دا\",\n",
        "            meaning: \"日本語のダーと同じ\",\n",
        "        }\n",
        "    ];\n",
        "    var table = document.createElement(\"table\");\n",
        "    // table header\n",
        "    var tr = document.createElement(\"tr\");\n",
        "    for (key in json[0]) {\n",
        "        var th = document.createElement(\"th\");\n",
        "        th.textContent = key;\n",
        "        tr.appendChild(th);\n",
        "    }\n",
        "    table.appendChild(tr);\n",
        "\n",
        "    // table content\n",
        "    for (var i = 0; i < json.length; i++) {\n",
        "        var tr = document.createElement(\"tr\");\n",
        "        for (key in json[0]) {\n",
        "            var td = document.createElement(\"td\");\n",
        "            td.textContent = json[i][key];\n",
        "            tr.appendChild(td);\n",
        "        }\n",
        "        table.appendChild(tr);\n",
        "    }\n",
        "    // add table to maintable\n",
        "    document.getElementById(\"maintable\").appendChild(table);\n",
        "</script>"
      ],
      "execution_count": null,
      "outputs": [
        {
          "output_type": "display_data",
          "data": {
            "text/html": [
              "<style>\n",
              "    table {\n",
              "        border-collapse: collapse;\n",
              "        border: 2px solid rgb(200, 200, 200);\n",
              "        letter-spacing: 1px;\n",
              "        margin: auto;\n",
              "    }\n",
              "\n",
              "    td,\n",
              "    th {\n",
              "        border: 1px solid rgb(190, 190, 190);\n",
              "        padding: 10px 20px;\n",
              "    }\n",
              "\n",
              "    tr:nth-child(even) td {\n",
              "        background-color: rgb(250, 250, 250);\n",
              "    }\n",
              "\n",
              "    tr:nth-child(odd) td {\n",
              "        background-color: rgb(245, 245, 245);\n",
              "    }\n",
              "\n",
              "    tr td:nth-child(3) {\n",
              "        color: red;\n",
              "        font-size: 300%;\n",
              "    }\n",
              "</style>\n",
              "\n",
              "<div id=\"maintable\"></div>\n",
              "\n",
              "<script>\n",
              "    var json = [\n",
              "        {\n",
              "            latin: \"d\",\n",
              "            kana: \"ド\",\n",
              "            arabic: \"د\",\n",
              "            meaning: \"日本語のドと同じ\",\n",
              "        },\n",
              "        {\n",
              "            latin: \"aa\",\n",
              "            kana: \"アー\",\n",
              "            arabic: \"ا\",\n",
              "            meaning: \"日本語のアーと同じ\",\n",
              "        },\n",
              "        {\n",
              "            latin: \"daa\",\n",
              "            kana: \"ダー\",\n",
              "            arabic: \"دا\",\n",
              "            meaning: \"日本語のダーと同じ\",\n",
              "        }\n",
              "    ];\n",
              "    var table = document.createElement(\"table\");\n",
              "    // table header\n",
              "    var tr = document.createElement(\"tr\");\n",
              "    for (key in json[0]) {\n",
              "        var th = document.createElement(\"th\");\n",
              "        th.textContent = key;\n",
              "        tr.appendChild(th);\n",
              "    }\n",
              "    table.appendChild(tr);\n",
              "\n",
              "    // table content\n",
              "    for (var i = 0; i < json.length; i++) {\n",
              "        var tr = document.createElement(\"tr\");\n",
              "        for (key in json[0]) {\n",
              "            var td = document.createElement(\"td\");\n",
              "            td.textContent = json[i][key];\n",
              "            tr.appendChild(td);\n",
              "        }\n",
              "        table.appendChild(tr);\n",
              "    }\n",
              "    // add table to maintable\n",
              "    document.getElementById(\"maintable\").appendChild(table);\n",
              "</script>"
            ],
            "text/plain": [
              "<IPython.core.display.HTML object>"
            ]
          },
          "metadata": {
            "tags": []
          }
        }
      ]
    },
    {
      "cell_type": "markdown",
      "metadata": {
        "id": "XMD360u7mDmy"
      },
      "source": [
        "母音と子音の関係は次の表で学ぶ。"
      ]
    },
    {
      "cell_type": "code",
      "metadata": {
        "cellView": "form",
        "id": "vGAECW0_mOCC",
        "colab": {
          "base_uri": "https://localhost:8080/",
          "height": 277
        },
        "outputId": "cafb8d6a-cf71-4eb7-dcbc-20fa30d258a4"
      },
      "source": [
        "#@title\n",
        "%%html\n",
        "<style>\n",
        "    table {\n",
        "        border-collapse: collapse;\n",
        "        border: 2px solid rgb(200, 200, 200);\n",
        "        letter-spacing: 1px;\n",
        "        margin: auto;\n",
        "    }\n",
        "\n",
        "    td,\n",
        "    th {\n",
        "        border: 1px solid rgb(190, 190, 190);\n",
        "        padding: 10px 20px;\n",
        "    }\n",
        "\n",
        "    tr:nth-child(even) td {\n",
        "        background-color: rgb(250, 250, 250);\n",
        "    }\n",
        "\n",
        "    tr:nth-child(odd) td {\n",
        "        background-color: rgb(245, 245, 245);\n",
        "    }\n",
        "\n",
        "    tr td:nth-child(3) {\n",
        "        color: red;\n",
        "        font-size: 300%;\n",
        "    }\n",
        "</style>\n",
        "\n",
        "<div id=\"maintable\"></div>\n",
        "\n",
        "<script>\n",
        "    var json = [\n",
        "        {\n",
        "            \"latin\": \"daa\",\n",
        "            \"kana\": \"ダー\",\n",
        "            \"arabic\": \"دا\",\n",
        "            \"meaning\": \"\"\n",
        "        },\n",
        "        {\n",
        "            \"latin\": \"duu\"\n",
        "            , \"kana\": \"ドゥー\"\n",
        "            , \"arabic\": \"دو\"\n",
        "            , \"meaning\": \"\"\n",
        "        },\n",
        "        {\n",
        "            \"latin\": \"dii\"\n",
        "            , \"kana\": \"ディー\"\n",
        "            , \"arabic\": \"دي\"\n",
        "            , \"meaning\": \"\"\n",
        "        },\n",
        "    ];\n",
        "    var table = document.createElement(\"table\");\n",
        "    // table header\n",
        "    var tr = document.createElement(\"tr\");\n",
        "    for (key in json[0]) {\n",
        "        var th = document.createElement(\"th\");\n",
        "        th.textContent = key;\n",
        "        tr.appendChild(th);\n",
        "    }\n",
        "    table.appendChild(tr);\n",
        "\n",
        "    // table content\n",
        "    for (var i = 0; i < json.length; i++) {\n",
        "        var tr = document.createElement(\"tr\");\n",
        "        for (key in json[0]) {\n",
        "            var td = document.createElement(\"td\");\n",
        "            td.textContent = json[i][key];\n",
        "            tr.appendChild(td);\n",
        "        }\n",
        "        table.appendChild(tr);\n",
        "    }\n",
        "    // add table to maintable\n",
        "    document.getElementById(\"maintable\").appendChild(table);\n",
        "</script>"
      ],
      "execution_count": null,
      "outputs": [
        {
          "output_type": "display_data",
          "data": {
            "text/html": [
              "<style>\n",
              "    table {\n",
              "        border-collapse: collapse;\n",
              "        border: 2px solid rgb(200, 200, 200);\n",
              "        letter-spacing: 1px;\n",
              "        margin: auto;\n",
              "    }\n",
              "\n",
              "    td,\n",
              "    th {\n",
              "        border: 1px solid rgb(190, 190, 190);\n",
              "        padding: 10px 20px;\n",
              "    }\n",
              "\n",
              "    tr:nth-child(even) td {\n",
              "        background-color: rgb(250, 250, 250);\n",
              "    }\n",
              "\n",
              "    tr:nth-child(odd) td {\n",
              "        background-color: rgb(245, 245, 245);\n",
              "    }\n",
              "\n",
              "    tr td:nth-child(3) {\n",
              "        color: red;\n",
              "        font-size: 300%;\n",
              "    }\n",
              "</style>\n",
              "\n",
              "<div id=\"maintable\"></div>\n",
              "\n",
              "<script>\n",
              "    var json = [\n",
              "        {\n",
              "            \"latin\": \"daa\",\n",
              "            \"kana\": \"ダー\",\n",
              "            \"arabic\": \"دا\",\n",
              "            \"meaning\": \"\"\n",
              "        },\n",
              "        {\n",
              "            \"latin\": \"duu\"\n",
              "            , \"kana\": \"ドゥー\"\n",
              "            , \"arabic\": \"دو\"\n",
              "            , \"meaning\": \"\"\n",
              "        },\n",
              "        {\n",
              "            \"latin\": \"dii\"\n",
              "            , \"kana\": \"ディー\"\n",
              "            , \"arabic\": \"دي\"\n",
              "            , \"meaning\": \"\"\n",
              "        },\n",
              "    ];\n",
              "    var table = document.createElement(\"table\");\n",
              "    // table header\n",
              "    var tr = document.createElement(\"tr\");\n",
              "    for (key in json[0]) {\n",
              "        var th = document.createElement(\"th\");\n",
              "        th.textContent = key;\n",
              "        tr.appendChild(th);\n",
              "    }\n",
              "    table.appendChild(tr);\n",
              "\n",
              "    // table content\n",
              "    for (var i = 0; i < json.length; i++) {\n",
              "        var tr = document.createElement(\"tr\");\n",
              "        for (key in json[0]) {\n",
              "            var td = document.createElement(\"td\");\n",
              "            td.textContent = json[i][key];\n",
              "            tr.appendChild(td);\n",
              "        }\n",
              "        table.appendChild(tr);\n",
              "    }\n",
              "    // add table to maintable\n",
              "    document.getElementById(\"maintable\").appendChild(table);\n",
              "</script>"
            ],
            "text/plain": [
              "<IPython.core.display.HTML object>"
            ]
          },
          "metadata": {
            "tags": []
          }
        }
      ]
    },
    {
      "cell_type": "markdown",
      "metadata": {
        "id": "b3O3A-M_scCi"
      },
      "source": [
        "# いまここ"
      ]
    }
  ]
}