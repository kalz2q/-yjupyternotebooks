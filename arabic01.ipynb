{
  "nbformat": 4,
  "nbformat_minor": 0,
  "metadata": {
    "colab": {
      "name": "arabic01.ipynb",
      "provenance": [],
      "authorship_tag": "ABX9TyPrs/O8ZWMYwWJU92fN5NZf",
      "include_colab_link": true
    },
    "kernelspec": {
      "name": "python3",
      "display_name": "Python 3"
    }
  },
  "cells": [
    {
      "cell_type": "markdown",
      "metadata": {
        "id": "view-in-github",
        "colab_type": "text"
      },
      "source": [
        "<a href=\"https://colab.research.google.com/github/kalz2q/mycolabnotebooks/blob/master/arabic01.ipynb\" target=\"_parent\"><img src=\"https://colab.research.google.com/assets/colab-badge.svg\" alt=\"Open In Colab\"/></a>"
      ]
    },
    {
      "cell_type": "markdown",
      "metadata": {
        "id": "5A_Gfj4amBG1"
      },
      "source": [
        "# メモ\n",
        "\n",
        "アイデアは Colab というか Jupyter の環境のテキストはマークダウンなので基本的に文字に色をつけたり、大きくしたりができない。 だけど、コードセルでは %%html とすると、html が書けるので云々。\n",
        "\n",
        "\n"
      ]
    },
    {
      "cell_type": "code",
      "metadata": {
        "id": "6uj6H4Tilj4J",
        "outputId": "fc03783d-bdd7-4f7b-b4e5-e5bff4d1395b",
        "colab": {
          "base_uri": "https://localhost:8080/",
          "height": 51
        }
      },
      "source": [
        "%%html\n",
        "<span style=\"font-size: 200%; color: red;\">اَلسَّلَامُ</span>"
      ],
      "execution_count": null,
      "outputs": [
        {
          "output_type": "display_data",
          "data": {
            "text/html": [
              "\n",
              "<span style=\"font-size: 200%; color: red;\">اَلسَّلَامُ</span>"
            ],
            "text/plain": [
              "<IPython.core.display.HTML object>"
            ]
          },
          "metadata": {
            "tags": []
          }
        }
      ]
    }
  ]
}