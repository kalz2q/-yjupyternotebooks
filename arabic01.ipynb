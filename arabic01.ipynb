{
  "nbformat": 4,
  "nbformat_minor": 0,
  "metadata": {
    "colab": {
      "name": "arabic01.ipynb",
      "provenance": [],
      "authorship_tag": "ABX9TyOo5AJqyC7eYIaBdsPv6Gfa",
      "include_colab_link": true
    },
    "kernelspec": {
      "name": "python3",
      "display_name": "Python 3"
    }
  },
  "cells": [
    {
      "cell_type": "markdown",
      "metadata": {
        "id": "view-in-github",
        "colab_type": "text"
      },
      "source": [
        "<a href=\"https://colab.research.google.com/github/kalz2q/mycolabnotebooks/blob/master/arabic01.ipynb\" target=\"_parent\"><img src=\"https://colab.research.google.com/assets/colab-badge.svg\" alt=\"Open In Colab\"/></a>"
      ]
    },
    {
      "cell_type": "markdown",
      "metadata": {
        "id": "5A_Gfj4amBG1"
      },
      "source": [
        "# メモ\n",
        "\n",
        "アイデアは Colab というか Jupyter の環境のテキストはマークダウンなので基本的に文字に色をつけたり、大きくしたりができない。 \n",
        "\n",
        "だけど、コードセルでは %%html とすると、html が書ける。\n",
        "\n",
        "\n"
      ]
    },
    {
      "cell_type": "code",
      "metadata": {
        "id": "6uj6H4Tilj4J",
        "colab": {
          "base_uri": "https://localhost:8080/",
          "height": 150
        },
        "outputId": "38980ade-0413-43c0-c4e7-d17b772c3e79"
      },
      "source": [
        "%%html\n",
        "<p>\n",
        "    アイデアは Colab というか Jupyter の環境のテキストはマークダウンなので基本的に文字に色をつけたり、大きくしたりができない。\n",
        "</p><p>\n",
        "だけど、コードセルでは %%html とすると、html が書ける。\n",
        "</p>\n",
        "<span style=\"font-size: 300%; color: red;\">اَلسَّلَامُ</span>\n",
        "<p>アッサラーム。スィーンの前のエルの音は消えて促音になる。</p>"
      ],
      "execution_count": 4,
      "outputs": [
        {
          "output_type": "display_data",
          "data": {
            "text/html": [
              "<p>\n",
              "    アイデアは Colab というか Jupyter の環境のテキストはマークダウンなので基本的に文字に色をつけたり、大きくしたりができない。\n",
              "</p><p>\n",
              "だけど、コードセルでは %%html とすると、html が書ける。\n",
              "</p>\n",
              "<span style=\"font-size: 300%; color: red;\">اَلسَّلَامُ</span>\n",
              "<p>アッサラーム。スィーンの前のエルの音は消えて促音になる。</p>"
            ],
            "text/plain": [
              "<IPython.core.display.HTML object>"
            ]
          },
          "metadata": {
            "tags": []
          }
        }
      ]
    },
    {
      "cell_type": "markdown",
      "metadata": {
        "id": "ax0JckdYoIsD"
      },
      "source": [
        "# Alphabet 1"
      ]
    },
    {
      "cell_type": "code",
      "metadata": {
        "id": "gUDF4o4ZoOfN",
        "colab": {
          "base_uri": "https://localhost:8080/",
          "height": 236
        },
        "outputId": "34e9cfb2-a1c6-4a80-8ee0-e0465c7f32de"
      },
      "source": [
        "%%html\n",
        "<!-- <table border=\"1\" width=\"500\" cellspacing=\"0\" cellpadding=\"5\" bordercolor=\"#333333\"> -->\n",
        "<table  cellpadding=\"5\" >\n",
        "<tr>\n",
        "<th bgcolor=\"#EE0000\"><font color=\"#FFFFFF\">English letters</font></th>\n",
        "<th bgcolor=\"#EE0000\"><font color=\"#FFFFFF\">Japanese letters</font></th>\n",
        "<th bgcolor=\"#EE0000\" width=\"150\"><font color=\"#FFFFFF\">Arabic ltters</font></th>\n",
        "</tr>\n",
        "<tr>\n",
        "<td width=\"150\">d</td>\n",
        "<td width=\"150\">ド</td>\n",
        "<td width=\"150\"><span style=\"font-size: 300%; color: red;\">د</span></td>\n",
        "</tr>\n",
        "<tr>\n",
        "<td width=\"150\">aa</td>\n",
        "<td width=\"150\">アー</td>\n",
        "<td width=\"150\"><span style=\"font-size: 300%; color: red;\">ا</span></td>\n",
        "</tr>\n",
        "<tr>\n",
        "<td width=\"150\">daa</td>\n",
        "<td width=\"150\">ダー</td>\n",
        "<td width=\"150\"><span style=\"font-size: 300%; color: red;\">دا</span></td>\n",
        "</tr>\n",
        "</table>"
      ],
      "execution_count": null,
      "outputs": [
        {
          "output_type": "display_data",
          "data": {
            "text/html": [
              "<!-- <table border=\"1\" width=\"500\" cellspacing=\"0\" cellpadding=\"5\" bordercolor=\"#333333\"> -->\n",
              "<table  cellpadding=\"5\" >\n",
              "<tr>\n",
              "<th bgcolor=\"#EE0000\"><font color=\"#FFFFFF\">English letters</font></th>\n",
              "<th bgcolor=\"#EE0000\"><font color=\"#FFFFFF\">Japanese letters</font></th>\n",
              "<th bgcolor=\"#EE0000\" width=\"150\"><font color=\"#FFFFFF\">Arabic ltters</font></th>\n",
              "</tr>\n",
              "<tr>\n",
              "<td width=\"150\">d</td>\n",
              "<td width=\"150\">ド</td>\n",
              "<td width=\"150\"><span style=\"font-size: 300%; color: red;\">د</span></td>\n",
              "</tr>\n",
              "<tr>\n",
              "<td width=\"150\">aa</td>\n",
              "<td width=\"150\">アー</td>\n",
              "<td width=\"150\"><span style=\"font-size: 300%; color: red;\">ا</span></td>\n",
              "</tr>\n",
              "<tr>\n",
              "<td width=\"150\">daa</td>\n",
              "<td width=\"150\">ダー</td>\n",
              "<td width=\"150\"><span style=\"font-size: 300%; color: red;\">دا</span></td>\n",
              "</tr>\n",
              "</table>"
            ],
            "text/plain": [
              "<IPython.core.display.HTML object>"
            ]
          },
          "metadata": {
            "tags": []
          }
        }
      ]
    },
    {
      "cell_type": "markdown",
      "metadata": {
        "id": "ofOb7m6aultu"
      },
      "source": [
        "表のcssはもっとうまい方法を考えよう。"
      ]
    },
    {
      "cell_type": "markdown",
      "metadata": {
        "id": "rArqQuCOsevy"
      },
      "source": [
        "アラビア語は右から左に書く。\r\n",
        "\r\n",
        "母音は3つしかないが、長音と単音がある。\r\n",
        "\r\n",
        "<span style=\"font-size: 300%;\">دا</span>"
      ]
    },
    {
      "cell_type": "code",
      "metadata": {
        "id": "en6cHPzMusoV"
      },
      "source": [
        "%%html\r\n"
      ],
      "execution_count": null,
      "outputs": []
    },
    {
      "cell_type": "markdown",
      "metadata": {
        "id": "b3O3A-M_scCi"
      },
      "source": [
        "# いまここ"
      ]
    }
  ]
}