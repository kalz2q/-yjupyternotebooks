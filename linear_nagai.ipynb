{
  "nbformat": 4,
  "nbformat_minor": 0,
  "metadata": {
    "colab": {
      "name": "linear_nagai.ipynb",
      "provenance": [],
      "authorship_tag": "ABX9TyOhXXbeNhVU4Tu9btQd4X9m",
      "include_colab_link": true
    },
    "kernelspec": {
      "name": "python3",
      "display_name": "Python 3"
    }
  },
  "cells": [
    {
      "cell_type": "markdown",
      "metadata": {
        "id": "view-in-github",
        "colab_type": "text"
      },
      "source": [
        "<a href=\"https://colab.research.google.com/github/kalz2q/mycolabnotebooks/blob/master/linear_nagai.ipynb\" target=\"_parent\"><img src=\"https://colab.research.google.com/assets/colab-badge.svg\" alt=\"Open In Colab\"/></a>"
      ]
    },
    {
      "cell_type": "markdown",
      "metadata": {
        "id": "2xHMKrDpNW_1"
      },
      "source": [
        "# メモ\r\n",
        "\r\n",
        "理工系の数理 線形代数 永井敏隆 永井敦 裳華房\r\n",
        "\r\n",
        "を読む。"
      ]
    },
    {
      "cell_type": "code",
      "metadata": {
        "colab": {
          "base_uri": "https://localhost:8080/",
          "height": 245
        },
        "id": "YLK1mbz_OBnx",
        "outputId": "a6927f59-2ab6-4011-b7b5-7f73a4731bd6"
      },
      "source": [
        "# ベクトルの基本演算\r\n",
        "%%latex\r\n",
        "\\bm{a} = \\begin{pmatrix}\r\n",
        "    a_1 \\\\\r\n",
        "    \\vdots \\\\\r\n",
        "    a_n\r\n",
        "\\end{pmatrix}, \\quad\r\n",
        "\\bm{b} = \\begin{pmatrix}\r\n",
        "    b_1 \\\\\r\n",
        "    \\vdots \\\\\r\n",
        "    b_n\r\n",
        "\\end{pmatrix}\r\n",
        "\\in \\mathrm{R}^n , \\quad p \\in \\mathrm{R} \\ \r\n",
        "に対して、\\\\\r\n",
        "\\\\\r\n",
        "和 \\quad \\bm{a} + \\bm{b} = \r\n",
        "\\begin{pmatrix}\r\n",
        "    a_1 + b_1 \\\\\r\n",
        "    \\vdots \\\\\r\n",
        "    a_n + b_n\r\n",
        "\\end{pmatrix}, \\quad \r\n",
        "スカラー倍 \\quad p\\bm{a}= \r\n",
        "\\begin{pmatrix}\r\n",
        "    pa_1\\\\\r\n",
        "    \\vdots \\\\\r\n",
        "    pa_n\r\n",
        "\\end{pmatrix}, \\quad \\\\\r\n",
        "\\\\\r\n",
        "内積 \\quad (\\bm{a}, \\  \\bm{b}) = a_1 b_1 + \\dots + a_n b_n , \\quad\r\n",
        "大きさ \\quad ||\\bm{a}|| = \\sqrt {a_1^2 +\\dots + a_n^2 } \\\\\r\n",
        "\\\\\r\n",
        "(n=3 のとき) \\ 外積 \\quad \\bm{a} \\times \\bm{b} = \r\n",
        "\\begin{pmatrix}\r\n",
        "    a_2 b_3 - a_3 b_2 \\\\\r\n",
        "    a_3 b_1 - a_1 b_3 \\\\\r\n",
        "    a_1 b_2 - a_2 b_1\r\n",
        "\\end{pmatrix}"
      ],
      "execution_count": null,
      "outputs": [
        {
          "output_type": "display_data",
          "data": {
            "text/latex": "\\bm{a} = \\begin{pmatrix}\n    a_1 \\\\\n    \\vdots \\\\\n    a_n\n\\end{pmatrix}, \\quad\n\\bm{b} = \\begin{pmatrix}\n    b_1 \\\\\n    \\vdots \\\\\n    b_n\n\\end{pmatrix}\n\\in \\mathrm{R}^n , \\quad p \\in \\mathrm{R} \\ \nに対して、\\\\\n\\\\\n和 \\quad \\bm{a} + \\bm{b} = \n\\begin{pmatrix}\n    a_1 + b_1 \\\\\n    \\vdots \\\\\n    a_n + b_n\n\\end{pmatrix}, \\quad \nスカラー倍 \\quad p\\bm{a}= \n\\begin{pmatrix}\n    pa_1\\\\\n    \\vdots \\\\\n    pa_n\n\\end{pmatrix}, \\quad \\\\\n\\\\\n内積 \\quad (\\bm{a}, \\  \\bm{b}) = a_1 b_1 + \\dots + a_n b_n , \\quad\n大きさ \\quad ||\\bm{a}|| = \\sqrt {a_1^2 +\\dots + a_n^2 } \\\\\n\\\\\n(n=3 のとき) \\ 外積 \\quad \\bm{a} \\times \\bm{b} = \n\\begin{pmatrix}\n    a_2 b_3 - a_3 b_2 \\\\\n    a_3 b_1 - a_1 b_3 \\\\\n    a_1 b_2 - a_2 b_1\n\\end{pmatrix}",
            "text/plain": [
              "<IPython.core.display.Latex object>"
            ]
          },
          "metadata": {
            "tags": []
          }
        }
      ]
    },
    {
      "cell_type": "code",
      "metadata": {
        "id": "luo9Rsf7PLAD",
        "colab": {
          "base_uri": "https://localhost:8080/",
          "height": 375
        },
        "outputId": "fcf14f10-c400-4886-f3d4-5c0086ad3250"
      },
      "source": [
        "# ベクトルの基本演算\r\n",
        "from sympy import *\r\n",
        "a, a_1, a_2, a_3 = symbols ('a, a_1, a_2, a_3')\r\n",
        "a = Matrix([a_1, a_2, a_3])\r\n",
        "b, b_1, b_2, b_3 = symbols ('b, b_1, b_2, b_3')\r\n",
        "b = Matrix([b_1, b_2, b_3])\r\n",
        "p = symbols('p')\r\n",
        "display (a)\r\n",
        "display (b)\r\n",
        "display(a+b)\r\n",
        "display(p*a)\r\n",
        "display(a.dot(b))\r\n",
        "display(a.norm())\r\n",
        "display(a.cross(b))\r\n"
      ],
      "execution_count": null,
      "outputs": [
        {
          "output_type": "display_data",
          "data": {
            "text/latex": "$\\displaystyle \\left[\\begin{matrix}a_{1}\\\\a_{2}\\\\a_{3}\\end{matrix}\\right]$",
            "text/plain": [
              "Matrix([\n",
              "[a_1],\n",
              "[a_2],\n",
              "[a_3]])"
            ]
          },
          "metadata": {
            "tags": []
          }
        },
        {
          "output_type": "display_data",
          "data": {
            "text/latex": "$\\displaystyle \\left[\\begin{matrix}b_{1}\\\\b_{2}\\\\b_{3}\\end{matrix}\\right]$",
            "text/plain": [
              "Matrix([\n",
              "[b_1],\n",
              "[b_2],\n",
              "[b_3]])"
            ]
          },
          "metadata": {
            "tags": []
          }
        },
        {
          "output_type": "display_data",
          "data": {
            "text/latex": "$\\displaystyle \\left[\\begin{matrix}a_{1} + b_{1}\\\\a_{2} + b_{2}\\\\a_{3} + b_{3}\\end{matrix}\\right]$",
            "text/plain": [
              "Matrix([\n",
              "[a_1 + b_1],\n",
              "[a_2 + b_2],\n",
              "[a_3 + b_3]])"
            ]
          },
          "metadata": {
            "tags": []
          }
        },
        {
          "output_type": "display_data",
          "data": {
            "text/latex": "$\\displaystyle \\left[\\begin{matrix}a_{1} p\\\\a_{2} p\\\\a_{3} p\\end{matrix}\\right]$",
            "text/plain": [
              "Matrix([\n",
              "[a_1*p],\n",
              "[a_2*p],\n",
              "[a_3*p]])"
            ]
          },
          "metadata": {
            "tags": []
          }
        },
        {
          "output_type": "display_data",
          "data": {
            "text/latex": "$\\displaystyle a_{1} b_{1} + a_{2} b_{2} + a_{3} b_{3}$",
            "text/plain": [
              "a_1*b_1 + a_2*b_2 + a_3*b_3"
            ]
          },
          "metadata": {
            "tags": []
          }
        },
        {
          "output_type": "display_data",
          "data": {
            "text/latex": "$\\displaystyle \\sqrt{\\left|{a_{1}}\\right|^{2} + \\left|{a_{2}}\\right|^{2} + \\left|{a_{3}}\\right|^{2}}$",
            "text/plain": [
              "sqrt(Abs(a_1)**2 + Abs(a_2)**2 + Abs(a_3)**2)"
            ]
          },
          "metadata": {
            "tags": []
          }
        },
        {
          "output_type": "display_data",
          "data": {
            "text/latex": "$\\displaystyle \\left[\\begin{matrix}a_{2} b_{3} - a_{3} b_{2}\\\\- a_{1} b_{3} + a_{3} b_{1}\\\\a_{1} b_{2} - a_{2} b_{1}\\end{matrix}\\right]$",
            "text/plain": [
              "Matrix([\n",
              "[ a_2*b_3 - a_3*b_2],\n",
              "[-a_1*b_3 + a_3*b_1],\n",
              "[ a_1*b_2 - a_2*b_1]])"
            ]
          },
          "metadata": {
            "tags": []
          }
        }
      ]
    },
    {
      "cell_type": "code",
      "metadata": {
        "id": "_eJOOBJBuUHk",
        "colab": {
          "base_uri": "https://localhost:8080/",
          "height": 168
        },
        "outputId": "f52ff42d-0557-4d72-e911-8d43fefd43d3"
      },
      "source": [
        "# 行列の基本演算\r\n",
        "%%latex\r\n",
        "\\displaystyle\r\n",
        "A = (a_{ij}),\\quad B= (b_{ij}) \\quad (1 \\leq i, j \\leq n) \\ に対して、\\\\\r\n",
        "\\\\\r\n",
        "AB = (a_{ij})(b_{ij}) = (c_{ij}), \\quad c_ij=\\sum_{k=1}^{n}a_{ik}b_{kj} \\\\\r\n",
        "\\\\\r\n",
        "転置行列 \\quad {}^t\\!A (a_{ij}) \\quad (行と列の入れ替え) \\\\\r\n",
        "\\\\\r\n",
        "A が対称 (反対称) 行列 \\quad \\overset{定義}{\\Longleftrightarrow} \\quad {}^t\\!A = A \\quad (-A)\\\\\r\n",
        "\\\\\r\n",
        "A が直交行列 \\quad \\overset{定義}{\\Longleftrightarrow} \\quad {}^t\\!AA = E\r\n"
      ],
      "execution_count": null,
      "outputs": [
        {
          "output_type": "display_data",
          "data": {
            "text/latex": "\\displaystyle\nA = (a_{ij}),\\quad B= (b_{ij}) \\quad (1 \\leq i, j \\leq n) \\ に対して、\\\\\n\\\\\nAB = (a_{ij})(b_{ij}) = (c_{ij}), \\quad c_ij=\\sum_{k=1}^{n}a_{ik}b_{kj} \\\\\n\\\\\n転置行列 \\quad {}^t\\!A (a_{ij}) \\quad (行と列の入れ替え) \\\\\n\\\\\nA が対称 (反対称) 行列 \\quad \\overset{定義}{\\Longleftrightarrow} \\quad {}^t\\!A = A \\quad (-A)\\\\\n\\\\\nA が直交行列 \\quad \\overset{定義}{\\Longleftrightarrow} \\quad {}^t\\!AA = E",
            "text/plain": [
              "<IPython.core.display.Latex object>"
            ]
          },
          "metadata": {
            "tags": []
          }
        }
      ]
    },
    {
      "cell_type": "code",
      "metadata": {
        "id": "nR5BFLbUbvLm",
        "outputId": "385af512-5f3c-499b-9e37-73263c1174ad",
        "colab": {
          "base_uri": "https://localhost:8080/",
          "height": 218
        }
      },
      "source": [
        "from sympy import *\r\n",
        "a_ij,b_ij,c_ij=symbols('a_ij,b_ij,c_ij')\r\n",
        "A,B,i,j = symbols('A,B,i,j')\r\n",
        "A= MatrixSymbol('A',3,3)\r\n",
        "display(Eq(A, (a_ij)))\r\n",
        "display(Eq(B, (b_ij)))\r\n",
        "display(1 <= i)\r\n",
        "display(j<= n)\r\n",
        "display(A*B)\r\n",
        "display(Eq(a_ij * b_ij, c_ij))\r\n",
        "display(Eq(c_ij, Sum(a_ij * b_ij, (k, 1, n))))\r\n",
        "display(A.T*A)"
      ],
      "execution_count": 40,
      "outputs": [
        {
          "output_type": "display_data",
          "data": {
            "text/latex": "$\\displaystyle \\text{False}$",
            "text/plain": [
              "False"
            ]
          },
          "metadata": {
            "tags": []
          }
        },
        {
          "output_type": "display_data",
          "data": {
            "text/latex": "$\\displaystyle B = b_{ij}$",
            "text/plain": [
              "Eq(B, b_ij)"
            ]
          },
          "metadata": {
            "tags": []
          }
        },
        {
          "output_type": "display_data",
          "data": {
            "text/latex": "$\\displaystyle i \\geq 1$",
            "text/plain": [
              "i >= 1"
            ]
          },
          "metadata": {
            "tags": []
          }
        },
        {
          "output_type": "display_data",
          "data": {
            "text/latex": "$\\displaystyle j \\leq n$",
            "text/plain": [
              "j <= n"
            ]
          },
          "metadata": {
            "tags": []
          }
        },
        {
          "output_type": "display_data",
          "data": {
            "text/latex": "$\\displaystyle B A$",
            "text/plain": [
              "B*A"
            ]
          },
          "metadata": {
            "tags": []
          }
        },
        {
          "output_type": "display_data",
          "data": {
            "text/latex": "$\\displaystyle a_{ij} b_{ij} = c_{ij}$",
            "text/plain": [
              "Eq(a_ij*b_ij, c_ij)"
            ]
          },
          "metadata": {
            "tags": []
          }
        },
        {
          "output_type": "display_data",
          "data": {
            "text/latex": "$\\displaystyle c_{ij} = \\sum_{k=1}^{n} a_{ij} b_{ij}$",
            "text/plain": [
              "Eq(c_ij, Sum(a_ij*b_ij, (k, 1, n)))"
            ]
          },
          "metadata": {
            "tags": []
          }
        },
        {
          "output_type": "display_data",
          "data": {
            "text/latex": "$\\displaystyle A^{T} A$",
            "text/plain": [
              "A.T*A"
            ]
          },
          "metadata": {
            "tags": []
          }
        }
      ]
    },
    {
      "cell_type": "markdown",
      "metadata": {
        "id": "cTEAvoIg5dmy"
      },
      "source": [
        "# いまここ"
      ]
    }
  ]
}