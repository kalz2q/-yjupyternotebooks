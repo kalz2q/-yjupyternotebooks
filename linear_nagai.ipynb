{
  "nbformat": 4,
  "nbformat_minor": 0,
  "metadata": {
    "colab": {
      "name": "linear_nagai.ipynb",
      "provenance": [],
      "authorship_tag": "ABX9TyMfEVR7EbzLBO92sfFmZk6x",
      "include_colab_link": true
    },
    "kernelspec": {
      "name": "python3",
      "display_name": "Python 3"
    }
  },
  "cells": [
    {
      "cell_type": "markdown",
      "metadata": {
        "id": "view-in-github",
        "colab_type": "text"
      },
      "source": [
        "<a href=\"https://colab.research.google.com/github/kalz2q/mycolabnotebooks/blob/master/linear_nagai.ipynb\" target=\"_parent\"><img src=\"https://colab.research.google.com/assets/colab-badge.svg\" alt=\"Open In Colab\"/></a>"
      ]
    },
    {
      "cell_type": "markdown",
      "metadata": {
        "id": "2xHMKrDpNW_1"
      },
      "source": [
        "# メモ\r\n",
        "\r\n",
        "理工系の数理 線形代数 永井敏隆 永井敦 裳華房\r\n",
        "\r\n",
        "を読む。"
      ]
    },
    {
      "cell_type": "code",
      "metadata": {
        "colab": {
          "base_uri": "https://localhost:8080/",
          "height": 111
        },
        "id": "YLK1mbz_OBnx",
        "outputId": "34ef1640-f7e4-4872-c0d1-da5d8dade661"
      },
      "source": [
        "# ベクトルの基本演算\r\n",
        "%%latex\r\n",
        "a = \\begin{pmatrix}\r\n",
        "    a_1 \\\\\r\n",
        "    \\vdots \\\\\r\n",
        "    a_n\r\n",
        "\\end{pmatrix}, \\quad\r\n",
        "b = \\begin{pmatrix}\r\n",
        "    b_1 \\\\\r\n",
        "    \\vdots \\\\\r\n",
        "    b_n\r\n",
        "\\end{pmatrix}\r\n",
        "\\in \\mathrm{R}^n , \\quad p \\in \\mathrm{R} \\quad\r\n",
        "に対して、\\\\\r\n",
        "\\\\\r\n",
        "和 \\quad a + b = \r\n"
      ],
      "execution_count": 30,
      "outputs": [
        {
          "output_type": "display_data",
          "data": {
            "text/latex": "a = \\begin{pmatrix}\n    a_1 \\\\\n    \\vdots \\\\\n    a_n\n\\end{pmatrix}, \\quad\nb = \\begin{pmatrix}\n    b_1 \\\\\n    \\vdots \\\\\n    b_n\n\\end{pmatrix}\n\\in \\mathrm{R}^n , \\quad p \\in \\mathrm{R} \\quad\nに対して、\\\\\n\\\\\n和 \\quad a + b = ",
            "text/plain": [
              "<IPython.core.display.Latex object>"
            ]
          },
          "metadata": {
            "tags": []
          }
        }
      ]
    },
    {
      "cell_type": "code",
      "metadata": {
        "id": "luo9Rsf7PLAD"
      },
      "source": [
        ""
      ],
      "execution_count": null,
      "outputs": []
    }
  ]
}