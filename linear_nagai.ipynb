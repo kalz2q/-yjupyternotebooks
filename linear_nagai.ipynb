{
  "nbformat": 4,
  "nbformat_minor": 0,
  "metadata": {
    "colab": {
      "name": "linear_nagai.ipynb",
      "provenance": [],
      "authorship_tag": "ABX9TyNCRn7hVZ00hum7MjTKTMVn",
      "include_colab_link": true
    },
    "kernelspec": {
      "name": "python3",
      "display_name": "Python 3"
    }
  },
  "cells": [
    {
      "cell_type": "markdown",
      "metadata": {
        "id": "view-in-github",
        "colab_type": "text"
      },
      "source": [
        "<a href=\"https://colab.research.google.com/github/kalz2q/mycolabnotebooks/blob/master/linear_nagai.ipynb\" target=\"_parent\"><img src=\"https://colab.research.google.com/assets/colab-badge.svg\" alt=\"Open In Colab\"/></a>"
      ]
    },
    {
      "cell_type": "markdown",
      "metadata": {
        "id": "2xHMKrDpNW_1"
      },
      "source": [
        "# メモ\r\n",
        "\r\n",
        "理工系の数理 線形代数 永井敏隆 永井敦 裳華房\r\n",
        "\r\n",
        "を読む。"
      ]
    },
    {
      "cell_type": "code",
      "metadata": {
        "colab": {
          "base_uri": "https://localhost:8080/",
          "height": 245
        },
        "id": "YLK1mbz_OBnx",
        "outputId": "5cdc1763-d9b1-4d6f-d98b-037c65d016d7"
      },
      "source": [
        "# ベクトルの基本演算\r\n",
        "%%latex\r\n",
        "a = \\begin{pmatrix}\r\n",
        "    a_1 \\\\\r\n",
        "    \\vdots \\\\\r\n",
        "    a_n\r\n",
        "\\end{pmatrix}, \\quad\r\n",
        "b = \\begin{pmatrix}\r\n",
        "    b_1 \\\\\r\n",
        "    \\vdots \\\\\r\n",
        "    b_n\r\n",
        "\\end{pmatrix}\r\n",
        "\\in \\mathrm{R}^n , \\quad p \\in \\mathrm{R} \\quad\r\n",
        "に対して、\\\\\r\n",
        "\\\\\r\n",
        "和 \\quad a + b = \r\n",
        "\\begin{pmatrix}\r\n",
        "    a_1 + b_1 \\\\\r\n",
        "    \\vdots \\\\\r\n",
        "    a_n + b_n\r\n",
        "\\end{pmatrix}, \\quad \r\n",
        "スカラー倍 pa= \r\n",
        "\\begin{pmatrix}\r\n",
        "    pa_1\\\\\r\n",
        "    \\vdots \\\\\r\n",
        "    pa_n\r\n",
        "\\end{pmatrix}, \\quad \\\\\r\n",
        "\\\\\r\n",
        "内積 \\quad (a, \\  b) = a_1 b_1 + \\dots + a_n b_n , \\quad\r\n",
        "大きさ \\quad ||a|| = \\sqrt {a_1^2 +\\dots + a_n^2 } \\\\\r\n",
        "\\\\\r\n",
        "(n=3 のとき) 外戚 a \\times b = \r\n",
        "\\begin{pmatrix}\r\n",
        "    a_2 b_3 - a_3 b_2 \\\\\r\n",
        "    a_3 b_1 - a_1 b_3 \\\\\r\n",
        "    a_1 b_2 - a_2 b_1\r\n",
        "\\end{pmatrix}"
      ],
      "execution_count": 7,
      "outputs": [
        {
          "output_type": "display_data",
          "data": {
            "text/latex": "a = \\begin{pmatrix}\n    a_1 \\\\\n    \\vdots \\\\\n    a_n\n\\end{pmatrix}, \\quad\nb = \\begin{pmatrix}\n    b_1 \\\\\n    \\vdots \\\\\n    b_n\n\\end{pmatrix}\n\\in \\mathrm{R}^n , \\quad p \\in \\mathrm{R} \\quad\nに対して、\\\\\n\\\\\n和 \\quad a + b = \n\\begin{pmatrix}\n    a_1 + b_1 \\\\\n    \\vdots \\\\\n    a_n + b_n\n\\end{pmatrix}, \\quad \nスカラー倍 pa= \n\\begin{pmatrix}\n    pa_1\\\\\n    \\vdots \\\\\n    pa_n\n\\end{pmatrix}, \\quad \\\\\n\\\\\n内積 \\quad (a, \\  b) = a_1 b_1 + \\dots + a_n b_n , \\quad\n大きさ \\quad ||a|| = \\sqrt {a_1^2 +\\dots + a_n^2 } \\\\\n\\\\\n(n=3 のとき) 外戚 a \\times b = \n\\begin{pmatrix}\n    a_2 b_3 - a_3 b_2 \\\\\n    a_3 b_1 - a_1 b_3 \\\\\n    a_1 b_2 - a_2 b_1\n\\end{pmatrix}",
            "text/plain": [
              "<IPython.core.display.Latex object>"
            ]
          },
          "metadata": {
            "tags": []
          }
        }
      ]
    },
    {
      "cell_type": "code",
      "metadata": {
        "id": "luo9Rsf7PLAD",
        "outputId": "288d1225-0722-4443-b79e-8b901822c7fe",
        "colab": {
          "base_uri": "https://localhost:8080/",
          "height": 78
        }
      },
      "source": [
        "from sympy import *\r\n",
        "a, a_1, a_2, a_3 = symbols ('a, a_1, a_2, a_3')\r\n",
        "a = Matrix([a_1, a_2, a_3])\r\n",
        "display (a)"
      ],
      "execution_count": 8,
      "outputs": [
        {
          "output_type": "display_data",
          "data": {
            "text/latex": "$\\displaystyle \\left[\\begin{matrix}a_{1}\\\\a_{2}\\\\a_{3}\\end{matrix}\\right]$",
            "text/plain": [
              "Matrix([\n",
              "[a_1],\n",
              "[a_2],\n",
              "[a_3]])"
            ]
          },
          "metadata": {
            "tags": []
          }
        }
      ]
    }
  ]
}