{
  "nbformat": 4,
  "nbformat_minor": 0,
  "metadata": {
    "colab": {
      "name": "linear_nagai.ipynb",
      "provenance": [],
      "authorship_tag": "ABX9TyM5iD43zlXuauenOHO7uZGc",
      "include_colab_link": true
    },
    "kernelspec": {
      "name": "python3",
      "display_name": "Python 3"
    }
  },
  "cells": [
    {
      "cell_type": "markdown",
      "metadata": {
        "id": "view-in-github",
        "colab_type": "text"
      },
      "source": [
        "<a href=\"https://colab.research.google.com/github/kalz2q/mycolabnotebooks/blob/master/linear_nagai.ipynb\" target=\"_parent\"><img src=\"https://colab.research.google.com/assets/colab-badge.svg\" alt=\"Open In Colab\"/></a>"
      ]
    },
    {
      "cell_type": "markdown",
      "metadata": {
        "id": "2xHMKrDpNW_1"
      },
      "source": [
        "# メモ\r\n",
        "\r\n",
        "理工系の数理 線形代数 永井敏隆 永井敦 裳華房\r\n",
        "\r\n",
        "を読む。"
      ]
    },
    {
      "cell_type": "code",
      "metadata": {
        "colab": {
          "base_uri": "https://localhost:8080/",
          "height": 39
        },
        "id": "YLK1mbz_OBnx",
        "outputId": "09cbb015-57f7-443a-d734-9dcd005afc69"
      },
      "source": [
        "# ベクトルの基本演算\r\n",
        "%%latex\r\n",
        "\\alpha = \\left()"
      ],
      "execution_count": 1,
      "outputs": [
        {
          "output_type": "display_data",
          "data": {
            "text/latex": "\\alpha =",
            "text/plain": [
              "<IPython.core.display.Latex object>"
            ]
          },
          "metadata": {
            "tags": []
          }
        }
      ]
    }
  ]
}