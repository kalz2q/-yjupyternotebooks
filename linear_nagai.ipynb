{
  "nbformat": 4,
  "nbformat_minor": 0,
  "metadata": {
    "colab": {
      "name": "linear_nagai.ipynb",
      "provenance": [],
      "authorship_tag": "ABX9TyMvbs9Z7nE1SddxP53VZHbS",
      "include_colab_link": true
    },
    "kernelspec": {
      "name": "python3",
      "display_name": "Python 3"
    }
  },
  "cells": [
    {
      "cell_type": "markdown",
      "metadata": {
        "id": "view-in-github",
        "colab_type": "text"
      },
      "source": [
        "<a href=\"https://colab.research.google.com/github/kalz2q/mycolabnotebooks/blob/master/linear_nagai.ipynb\" target=\"_parent\"><img src=\"https://colab.research.google.com/assets/colab-badge.svg\" alt=\"Open In Colab\"/></a>"
      ]
    },
    {
      "cell_type": "markdown",
      "metadata": {
        "id": "2xHMKrDpNW_1"
      },
      "source": [
        "# メモ\r\n",
        "\r\n",
        "理工系の数理 線形代数 永井敏隆 永井敦 裳華房\r\n",
        "\r\n",
        "を読む。"
      ]
    },
    {
      "cell_type": "code",
      "metadata": {
        "colab": {
          "base_uri": "https://localhost:8080/",
          "height": 245
        },
        "id": "YLK1mbz_OBnx",
        "outputId": "a6927f59-2ab6-4011-b7b5-7f73a4731bd6"
      },
      "source": [
        "# ベクトルの基本演算\r\n",
        "%%latex\r\n",
        "\\bm{a} = \\begin{pmatrix}\r\n",
        "    a_1 \\\\\r\n",
        "    \\vdots \\\\\r\n",
        "    a_n\r\n",
        "\\end{pmatrix}, \\quad\r\n",
        "\\bm{b} = \\begin{pmatrix}\r\n",
        "    b_1 \\\\\r\n",
        "    \\vdots \\\\\r\n",
        "    b_n\r\n",
        "\\end{pmatrix}\r\n",
        "\\in \\mathrm{R}^n , \\quad p \\in \\mathrm{R} \\ \r\n",
        "に対して、\\\\\r\n",
        "\\\\\r\n",
        "和 \\quad \\bm{a} + \\bm{b} = \r\n",
        "\\begin{pmatrix}\r\n",
        "    a_1 + b_1 \\\\\r\n",
        "    \\vdots \\\\\r\n",
        "    a_n + b_n\r\n",
        "\\end{pmatrix}, \\quad \r\n",
        "スカラー倍 \\quad p\\bm{a}= \r\n",
        "\\begin{pmatrix}\r\n",
        "    pa_1\\\\\r\n",
        "    \\vdots \\\\\r\n",
        "    pa_n\r\n",
        "\\end{pmatrix}, \\quad \\\\\r\n",
        "\\\\\r\n",
        "内積 \\quad (\\bm{a}, \\  \\bm{b}) = a_1 b_1 + \\dots + a_n b_n , \\quad\r\n",
        "大きさ \\quad ||\\bm{a}|| = \\sqrt {a_1^2 +\\dots + a_n^2 } \\\\\r\n",
        "\\\\\r\n",
        "(n=3 のとき) \\ 外積 \\quad \\bm{a} \\times \\bm{b} = \r\n",
        "\\begin{pmatrix}\r\n",
        "    a_2 b_3 - a_3 b_2 \\\\\r\n",
        "    a_3 b_1 - a_1 b_3 \\\\\r\n",
        "    a_1 b_2 - a_2 b_1\r\n",
        "\\end{pmatrix}"
      ],
      "execution_count": 15,
      "outputs": [
        {
          "output_type": "display_data",
          "data": {
            "text/latex": "\\bm{a} = \\begin{pmatrix}\n    a_1 \\\\\n    \\vdots \\\\\n    a_n\n\\end{pmatrix}, \\quad\n\\bm{b} = \\begin{pmatrix}\n    b_1 \\\\\n    \\vdots \\\\\n    b_n\n\\end{pmatrix}\n\\in \\mathrm{R}^n , \\quad p \\in \\mathrm{R} \\ \nに対して、\\\\\n\\\\\n和 \\quad \\bm{a} + \\bm{b} = \n\\begin{pmatrix}\n    a_1 + b_1 \\\\\n    \\vdots \\\\\n    a_n + b_n\n\\end{pmatrix}, \\quad \nスカラー倍 \\quad p\\bm{a}= \n\\begin{pmatrix}\n    pa_1\\\\\n    \\vdots \\\\\n    pa_n\n\\end{pmatrix}, \\quad \\\\\n\\\\\n内積 \\quad (\\bm{a}, \\  \\bm{b}) = a_1 b_1 + \\dots + a_n b_n , \\quad\n大きさ \\quad ||\\bm{a}|| = \\sqrt {a_1^2 +\\dots + a_n^2 } \\\\\n\\\\\n(n=3 のとき) \\ 外積 \\quad \\bm{a} \\times \\bm{b} = \n\\begin{pmatrix}\n    a_2 b_3 - a_3 b_2 \\\\\n    a_3 b_1 - a_1 b_3 \\\\\n    a_1 b_2 - a_2 b_1\n\\end{pmatrix}",
            "text/plain": [
              "<IPython.core.display.Latex object>"
            ]
          },
          "metadata": {
            "tags": []
          }
        }
      ]
    },
    {
      "cell_type": "code",
      "metadata": {
        "id": "luo9Rsf7PLAD",
        "colab": {
          "base_uri": "https://localhost:8080/",
          "height": 375
        },
        "outputId": "fcf14f10-c400-4886-f3d4-5c0086ad3250"
      },
      "source": [
        "from sympy import *\r\n",
        "a, a_1, a_2, a_3 = symbols ('a, a_1, a_2, a_3')\r\n",
        "a = Matrix([a_1, a_2, a_3])\r\n",
        "b, b_1, b_2, b_3 = symbols ('b, b_1, b_2, b_3')\r\n",
        "b = Matrix([b_1, b_2, b_3])\r\n",
        "p = symbols('p')\r\n",
        "display (a)\r\n",
        "display (b)\r\n",
        "display(a+b)\r\n",
        "display(p*a)\r\n",
        "display(a.dot(b))\r\n",
        "display(a.norm())\r\n",
        "display(a.cross(b))\r\n"
      ],
      "execution_count": 31,
      "outputs": [
        {
          "output_type": "display_data",
          "data": {
            "text/latex": "$\\displaystyle \\left[\\begin{matrix}a_{1}\\\\a_{2}\\\\a_{3}\\end{matrix}\\right]$",
            "text/plain": [
              "Matrix([\n",
              "[a_1],\n",
              "[a_2],\n",
              "[a_3]])"
            ]
          },
          "metadata": {
            "tags": []
          }
        },
        {
          "output_type": "display_data",
          "data": {
            "text/latex": "$\\displaystyle \\left[\\begin{matrix}b_{1}\\\\b_{2}\\\\b_{3}\\end{matrix}\\right]$",
            "text/plain": [
              "Matrix([\n",
              "[b_1],\n",
              "[b_2],\n",
              "[b_3]])"
            ]
          },
          "metadata": {
            "tags": []
          }
        },
        {
          "output_type": "display_data",
          "data": {
            "text/latex": "$\\displaystyle \\left[\\begin{matrix}a_{1} + b_{1}\\\\a_{2} + b_{2}\\\\a_{3} + b_{3}\\end{matrix}\\right]$",
            "text/plain": [
              "Matrix([\n",
              "[a_1 + b_1],\n",
              "[a_2 + b_2],\n",
              "[a_3 + b_3]])"
            ]
          },
          "metadata": {
            "tags": []
          }
        },
        {
          "output_type": "display_data",
          "data": {
            "text/latex": "$\\displaystyle \\left[\\begin{matrix}a_{1} p\\\\a_{2} p\\\\a_{3} p\\end{matrix}\\right]$",
            "text/plain": [
              "Matrix([\n",
              "[a_1*p],\n",
              "[a_2*p],\n",
              "[a_3*p]])"
            ]
          },
          "metadata": {
            "tags": []
          }
        },
        {
          "output_type": "display_data",
          "data": {
            "text/latex": "$\\displaystyle a_{1} b_{1} + a_{2} b_{2} + a_{3} b_{3}$",
            "text/plain": [
              "a_1*b_1 + a_2*b_2 + a_3*b_3"
            ]
          },
          "metadata": {
            "tags": []
          }
        },
        {
          "output_type": "display_data",
          "data": {
            "text/latex": "$\\displaystyle \\sqrt{\\left|{a_{1}}\\right|^{2} + \\left|{a_{2}}\\right|^{2} + \\left|{a_{3}}\\right|^{2}}$",
            "text/plain": [
              "sqrt(Abs(a_1)**2 + Abs(a_2)**2 + Abs(a_3)**2)"
            ]
          },
          "metadata": {
            "tags": []
          }
        },
        {
          "output_type": "display_data",
          "data": {
            "text/latex": "$\\displaystyle \\left[\\begin{matrix}a_{2} b_{3} - a_{3} b_{2}\\\\- a_{1} b_{3} + a_{3} b_{1}\\\\a_{1} b_{2} - a_{2} b_{1}\\end{matrix}\\right]$",
            "text/plain": [
              "Matrix([\n",
              "[ a_2*b_3 - a_3*b_2],\n",
              "[-a_1*b_3 + a_3*b_1],\n",
              "[ a_1*b_2 - a_2*b_1]])"
            ]
          },
          "metadata": {
            "tags": []
          }
        }
      ]
    },
    {
      "cell_type": "code",
      "metadata": {
        "id": "_eJOOBJBuUHk",
        "outputId": "6c39d709-a6c3-4a69-b891-cd5aa8cf0bd0",
        "colab": {
          "base_uri": "https://localhost:8080/",
          "height": 39
        }
      },
      "source": [
        "# 行列の基本演算\r\n",
        "%%latex\r\n",
        "A = (a_{ij}),\\quad B= (b_{ij}) \\quad (1 \\leq i, )"
      ],
      "execution_count": 33,
      "outputs": [
        {
          "output_type": "display_data",
          "data": {
            "text/latex": "A = (a_{ij}),\\quad B= (b_{ij}) \\quad (1 \\leq i, )",
            "text/plain": [
              "<IPython.core.display.Latex object>"
            ]
          },
          "metadata": {
            "tags": []
          }
        }
      ]
    }
  ]
}