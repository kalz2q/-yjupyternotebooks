{
  "nbformat": 4,
  "nbformat_minor": 0,
  "metadata": {
    "colab": {
      "name": "sympy_kasaimasumi.ipynb",
      "provenance": [],
      "toc_visible": true,
      "authorship_tag": "ABX9TyMB9WMEoW815WT+XecTtJGx",
      "include_colab_link": true
    },
    "kernelspec": {
      "name": "python3",
      "display_name": "Python 3"
    },
    "language_info": {
      "name": "python"
    }
  },
  "cells": [
    {
      "cell_type": "markdown",
      "metadata": {
        "id": "view-in-github",
        "colab_type": "text"
      },
      "source": [
        "<a href=\"https://colab.research.google.com/github/kalz2q/mycolabnotebooks/blob/master/sympy_kasaimasumi.ipynb\" target=\"_parent\"><img src=\"https://colab.research.google.com/assets/colab-badge.svg\" alt=\"Open In Colab\"/></a>"
      ]
    },
    {
      "cell_type": "markdown",
      "metadata": {
        "id": "AKSVBTMRy89u"
      },
      "source": [
        "# メモ\n",
        "\n",
        "SymPy による数式処理とグラフ作成  \n",
        "葛西真寿  \n",
        "https://home.hirosaki-u.ac.jp/jupyter/sympy/\n",
        "\n",
        "を読む。"
      ]
    },
    {
      "cell_type": "markdown",
      "metadata": {
        "id": "WQXz1cmUly_n"
      },
      "source": [
        "# 新しいセクション"
      ]
    },
    {
      "cell_type": "markdown",
      "metadata": {
        "id": "EX3Z3XRGz4w3"
      },
      "source": [
        "Jupyterの起動から始まっている。 いまならこれが colab へサインインかもしれないね。\n",
        "\n",
        "教材で使うためかもしれないが、変数宣言をはぶくために sympy.abc を使っている。\n"
      ]
    },
    {
      "cell_type": "code",
      "metadata": {
        "id": "-jBnb6Raz4eo"
      },
      "source": [
        "from sympy import *\n",
        "from sympy.abc import *\n",
        "init_printing()"
      ],
      "execution_count": null,
      "outputs": []
    },
    {
      "cell_type": "markdown",
      "metadata": {
        "id": "p1ETawdYBVDq"
      },
      "source": [
        "最初の例がいきなり積分。 それ以降は普通の四則演算。"
      ]
    },
    {
      "cell_type": "code",
      "metadata": {
        "colab": {
          "base_uri": "https://localhost:8080/",
          "height": 38
        },
        "id": "jrAHtdu-0K5_",
        "outputId": "4bb806df-376d-4b62-86d0-b24dedd83728"
      },
      "source": [
        "integrate(3*x**2, x)"
      ],
      "execution_count": null,
      "outputs": [
        {
          "output_type": "execute_result",
          "data": {
            "image/png": "[encoded data removed]",
            "text/latex": "$\\displaystyle x^{3}$",
            "text/plain": [
              " 3\n",
              "x "
            ]
          },
          "metadata": {
            "tags": []
          },
          "execution_count": 2
        }
      ]
    },
    {
      "cell_type": "code",
      "metadata": {
        "colab": {
          "base_uri": "https://localhost:8080/",
          "height": 38
        },
        "id": "eSdI5o6Z0XJ8",
        "outputId": "f843bb47-93fc-4bee-cfcd-54dc7a7aed06"
      },
      "source": [
        "eq = x**2 + 3*x + 2\n",
        "factor(eq)"
      ],
      "execution_count": null,
      "outputs": [
        {
          "output_type": "execute_result",
          "data": {
            "image/png": "[encoded data removed]",
            "text/latex": "$\\displaystyle \\left(x + 1\\right) \\left(x + 2\\right)$",
            "text/plain": [
              "(x + 1)⋅(x + 2)"
            ]
          },
          "metadata": {
            "tags": []
          },
          "execution_count": 3
        }
      ]
    },
    {
      "cell_type": "markdown",
      "metadata": {
        "id": "SpQWCiqtBedb"
      },
      "source": [
        "# 関数の定義\n",
        "\n",
        "比較的早めに関数の定義とか出てくる。 "
      ]
    },
    {
      "cell_type": "code",
      "metadata": {
        "colab": {
          "base_uri": "https://localhost:8080/",
          "height": 38
        },
        "id": "aafNrs9O0lLN",
        "outputId": "c68f423c-ec1b-43d8-9166-1ddd4de749cb"
      },
      "source": [
        "# 関数の定義\n",
        "def f(x):\n",
        "    return x**2\n",
        "f(x)"
      ],
      "execution_count": null,
      "outputs": [
        {
          "output_type": "execute_result",
          "data": {
            "image/png": "[encoded data removed]",
            "text/latex": "$\\displaystyle x^{2}$",
            "text/plain": [
              " 2\n",
              "x "
            ]
          },
          "metadata": {
            "tags": []
          },
          "execution_count": 11
        }
      ]
    },
    {
      "cell_type": "code",
      "metadata": {
        "colab": {
          "base_uri": "https://localhost:8080/",
          "height": 38
        },
        "id": "2OTZLtrW0oRd",
        "outputId": "5694b5a2-8804-4b11-f9ef-4c7c4add45c7"
      },
      "source": [
        "f(3*sqrt(A))"
      ],
      "execution_count": null,
      "outputs": [
        {
          "output_type": "execute_result",
          "data": {
            "image/png": "[encoded data removed]",
            "text/latex": "$\\displaystyle 9 A$",
            "text/plain": [
              "9⋅A"
            ]
          },
          "metadata": {
            "tags": []
          },
          "execution_count": 4
        }
      ]
    },
    {
      "cell_type": "markdown",
      "metadata": {
        "id": "NxGXVbyuB6ZA"
      },
      "source": [
        "上のは $3\\sqrt{A}$ の二乗なので $3\\sqrt{A} \\times 3\\sqrt{A} = 9 \\times (\\sqrt{A})^2 = 9A$"
      ]
    },
    {
      "cell_type": "code",
      "metadata": {
        "colab": {
          "base_uri": "https://localhost:8080/",
          "height": 38
        },
        "id": "iav361Be03Ny",
        "outputId": "e2792e4a-0f5b-4d71-c9f1-38c96d782bef"
      },
      "source": [
        "expand(f(x+a))"
      ],
      "execution_count": null,
      "outputs": [
        {
          "output_type": "execute_result",
          "data": {
            "image/png": "[encoded data removed]",
            "text/latex": "$\\displaystyle a^{2} + 2 a x + x^{2}$",
            "text/plain": [
              " 2            2\n",
              "a  + 2⋅a⋅x + x "
            ]
          },
          "metadata": {
            "tags": []
          },
          "execution_count": 6
        }
      ]
    },
    {
      "cell_type": "markdown",
      "metadata": {
        "id": "KTeE43O9DEXx"
      },
      "source": [
        "# 直前の出力結果は _ で参照できる"
      ]
    },
    {
      "cell_type": "code",
      "metadata": {
        "id": "5y4YH-VJ1t0s",
        "colab": {
          "base_uri": "https://localhost:8080/",
          "height": 39
        },
        "outputId": "735222a2-4de6-4c45-9264-340c8f4cc726"
      },
      "source": [
        "# 直前の出力結果は _ で参照できる\n",
        "factor(_)"
      ],
      "execution_count": null,
      "outputs": [
        {
          "output_type": "execute_result",
          "data": {
            "image/png": "[encoded data removed]",
            "text/latex": "$\\displaystyle \\left(a + x\\right)^{2}$",
            "text/plain": [
              "       2\n",
              "(a + x) "
            ]
          },
          "metadata": {
            "tags": []
          },
          "execution_count": 7
        }
      ]
    },
    {
      "cell_type": "code",
      "metadata": {
        "id": "BPhjbFKZ1oJD",
        "colab": {
          "base_uri": "https://localhost:8080/",
          "height": 38
        },
        "outputId": "f222c650-5e8c-4f70-d3f4-613d7c261183"
      },
      "source": [
        "expand((x - 2)**4)"
      ],
      "execution_count": null,
      "outputs": [
        {
          "output_type": "execute_result",
          "data": {
            "image/png": "[encoded data removed]",
            "text/latex": "$\\displaystyle x^{4} - 8 x^{3} + 24 x^{2} - 32 x + 16$",
            "text/plain": [
              " 4      3       2            \n",
              "x  - 8⋅x  + 24⋅x  - 32⋅x + 16"
            ]
          },
          "metadata": {
            "tags": []
          },
          "execution_count": 12
        }
      ]
    },
    {
      "cell_type": "code",
      "metadata": {
        "id": "6NUbtfwkC9A0",
        "colab": {
          "base_uri": "https://localhost:8080/",
          "height": 39
        },
        "outputId": "b9b054e4-57c2-416b-e56b-8b079f43643c"
      },
      "source": [
        "factor(_)"
      ],
      "execution_count": null,
      "outputs": [
        {
          "output_type": "execute_result",
          "data": {
            "image/png": "[encoded data removed]",
            "text/latex": "$\\displaystyle \\left(x - 2\\right)^{4}$",
            "text/plain": [
              "       4\n",
              "(x - 2) "
            ]
          },
          "metadata": {
            "tags": []
          },
          "execution_count": 13
        }
      ]
    },
    {
      "cell_type": "code",
      "metadata": {
        "id": "EE7d7nyYDBtr",
        "colab": {
          "base_uri": "https://localhost:8080/",
          "height": 38
        },
        "outputId": "674df27e-59b6-4656-a639-9a78b9a5a6c0"
      },
      "source": [
        "expand(_)"
      ],
      "execution_count": null,
      "outputs": [
        {
          "output_type": "execute_result",
          "data": {
            "image/png": "[encoded data removed]",
            "text/latex": "$\\displaystyle x^{4} - 8 x^{3} + 24 x^{2} - 32 x + 16$",
            "text/plain": [
              " 4      3       2            \n",
              "x  - 8⋅x  + 24⋅x  - 32⋅x + 16"
            ]
          },
          "metadata": {
            "tags": []
          },
          "execution_count": 14
        }
      ]
    },
    {
      "cell_type": "markdown",
      "metadata": {
        "id": "I4g_JEHzKpNT"
      },
      "source": [
        "# 代入"
      ]
    },
    {
      "cell_type": "code",
      "metadata": {
        "id": "ex2ASJQJKr17",
        "colab": {
          "base_uri": "https://localhost:8080/",
          "height": 120
        },
        "outputId": "097f619e-3f91-4e06-a551-d0340e634b11"
      },
      "source": [
        "from sympy import *\n",
        "from sympy.abc import *\n",
        "init_printing()\n",
        "c = 3*x\n",
        "display(c)\n",
        "display(c.subs(x,3))\n",
        "display(c)\n",
        "x = 3\n",
        "display(c)\n",
        "display(x)"
      ],
      "execution_count": null,
      "outputs": [
        {
          "output_type": "display_data",
          "data": {
            "image/png": "[encoded data removed]",
            "text/latex": "$\\displaystyle 3 x$",
            "text/plain": [
              "3⋅x"
            ]
          },
          "metadata": {
            "tags": []
          }
        },
        {
          "output_type": "display_data",
          "data": {
            "image/png": "[encoded data removed]",
            "text/latex": "$\\displaystyle 9$",
            "text/plain": [
              "9"
            ]
          },
          "metadata": {
            "tags": []
          }
        },
        {
          "output_type": "display_data",
          "data": {
            "image/png": "[encoded data removed]",
            "text/latex": "$\\displaystyle 3 x$",
            "text/plain": [
              "3⋅x"
            ]
          },
          "metadata": {
            "tags": []
          }
        },
        {
          "output_type": "display_data",
          "data": {
            "image/png": "[encoded data removed]",
            "text/latex": "$\\displaystyle 3 x$",
            "text/plain": [
              "3⋅x"
            ]
          },
          "metadata": {
            "tags": []
          }
        },
        {
          "output_type": "display_data",
          "data": {
            "image/png": "[encoded data removed]",
            "text/latex": "$\\displaystyle 3$",
            "text/plain": [
              "3"
            ]
          },
          "metadata": {
            "tags": []
          }
        }
      ]
    },
    {
      "cell_type": "code",
      "metadata": {
        "id": "sXd-6X7_Sjon",
        "colab": {
          "base_uri": "https://localhost:8080/",
          "height": 99
        },
        "outputId": "0f1bc5eb-83ab-420e-fe51-991cad8c1935"
      },
      "source": [
        "# f(g(x)) について考える\n",
        "from sympy import *\n",
        "from sympy.abc import *\n",
        "init_printing()\n",
        "# 実験\n",
        "def g(x) : return x**2\n",
        "\n",
        "display(g(x))\n",
        "display(g(3))\n",
        "\n",
        "def f(x1) : return (g(x)).subs(x,x1)\n",
        "\n",
        "display(f(y))\n",
        "display(f(3))"
      ],
      "execution_count": null,
      "outputs": [
        {
          "output_type": "display_data",
          "data": {
            "image/png": "[encoded data removed]",
            "text/latex": "$\\displaystyle x^{2}$",
            "text/plain": [
              " 2\n",
              "x "
            ]
          },
          "metadata": {
            "tags": []
          }
        },
        {
          "output_type": "display_data",
          "data": {
            "image/png": "[encoded data removed]",
            "text/latex": "$\\displaystyle 9$",
            "text/plain": [
              "9"
            ]
          },
          "metadata": {
            "tags": []
          }
        },
        {
          "output_type": "display_data",
          "data": {
            "image/png": "[encoded data removed]",
            "text/latex": "$\\displaystyle y^{2}$",
            "text/plain": [
              " 2\n",
              "y "
            ]
          },
          "metadata": {
            "tags": []
          }
        },
        {
          "output_type": "display_data",
          "data": {
            "image/png": "[encoded data removed]",
            "text/latex": "$\\displaystyle 9$",
            "text/plain": [
              "9"
            ]
          },
          "metadata": {
            "tags": []
          }
        }
      ]
    },
    {
      "cell_type": "code",
      "metadata": {
        "id": "fKC-Sf1rURQ7",
        "colab": {
          "base_uri": "https://localhost:8080/",
          "height": 79
        },
        "outputId": "129e1964-c29b-4014-97d5-ead04f8010fa"
      },
      "source": [
        "def g(x):\n",
        "    return diff(x*cos(x), x)\n",
        "\n",
        "display(g(x))\n",
        "# display(g(1)) #=> エラーになる\n",
        "\n",
        "def g(x1):\n",
        "    return diff(x*cos(x), x).subs(x,x1)\n",
        "\n",
        "display(g(x))\n",
        "display(g(1))"
      ],
      "execution_count": null,
      "outputs": [
        {
          "output_type": "display_data",
          "data": {
            "image/png": "[encoded data removed]",
            "text/latex": "$\\displaystyle - x \\sin{\\left(x \\right)} + \\cos{\\left(x \\right)}$",
            "text/plain": [
              "-x⋅sin(x) + cos(x)"
            ]
          },
          "metadata": {
            "tags": []
          }
        },
        {
          "output_type": "display_data",
          "data": {
            "image/png": "[encoded data removed]",
            "text/latex": "$\\displaystyle - x \\sin{\\left(x \\right)} + \\cos{\\left(x \\right)}$",
            "text/plain": [
              "-x⋅sin(x) + cos(x)"
            ]
          },
          "metadata": {
            "tags": []
          }
        },
        {
          "output_type": "display_data",
          "data": {
            "image/png": "[encoded data removed]",
            "text/latex": "$\\displaystyle - \\sin{\\left(1 \\right)} + \\cos{\\left(1 \\right)}$",
            "text/plain": [
              "-sin(1) + cos(1)"
            ]
          },
          "metadata": {
            "tags": []
          }
        }
      ]
    },
    {
      "cell_type": "code",
      "metadata": {
        "id": "DSGDloQOVHWN",
        "colab": {
          "base_uri": "https://localhost:8080/",
          "height": 223
        },
        "outputId": "48d6de26-bb0e-4dd9-ebba-eeae447ee235"
      },
      "source": [
        "from sympy import *\n",
        "from sympy.abc import *\n",
        "init_printing()\n",
        "def f(x):\n",
        "    return x*cos(x)\n",
        "\n",
        "def df(x1):\n",
        "    return diff(f(x), x).subs(x,x1)\n",
        "display(f(x))\n",
        "display(df(x))\n",
        "display(integrate(df(x), x) == f(x))\n",
        "display(Derivative(f(x)))\n",
        "display(Integral(df(x)))\n",
        "display(Eq(Derivative(f(x)),df(x)))\n",
        "display(Eq(Integral(df(x)),f(x)))\n"
      ],
      "execution_count": 50,
      "outputs": [
        {
          "output_type": "display_data",
          "data": {
            "image/png": "[encoded data removed]",
            "text/latex": "$\\displaystyle x \\cos{\\left(x \\right)}$",
            "text/plain": [
              "x⋅cos(x)"
            ]
          },
          "metadata": {
            "tags": []
          }
        },
        {
          "output_type": "display_data",
          "data": {
            "image/png": "[encoded data removed]",
            "text/latex": "$\\displaystyle - x \\sin{\\left(x \\right)} + \\cos{\\left(x \\right)}$",
            "text/plain": [
              "-x⋅sin(x) + cos(x)"
            ]
          },
          "metadata": {
            "tags": []
          }
        },
        {
          "output_type": "display_data",
          "data": {
            "text/plain": [
              "True"
            ]
          },
          "metadata": {
            "tags": []
          }
        },
        {
          "output_type": "display_data",
          "data": {
            "image/png": "[encoded data removed]",
            "text/latex": "$\\displaystyle \\frac{d}{d x} x \\cos{\\left(x \\right)}$",
            "text/plain": [
              "d           \n",
              "──(x⋅cos(x))\n",
              "dx          "
            ]
          },
          "metadata": {
            "tags": []
          }
        },
        {
          "output_type": "display_data",
          "data": {
            "image/png": "[encoded data removed]",
            "text/latex": "$\\displaystyle \\int \\left(- x \\sin{\\left(x \\right)} + \\cos{\\left(x \\right)}\\right)\\, dx$",
            "text/plain": [
              "⌠                        \n",
              "⎮ (-x⋅sin(x) + cos(x)) dx\n",
              "⌡                        "
            ]
          },
          "metadata": {
            "tags": []
          }
        },
        {
          "output_type": "display_data",
          "data": {
            "image/png": "[encoded data removed]",
            "text/latex": "$\\displaystyle \\frac{d}{d x} x \\cos{\\left(x \\right)} = - x \\sin{\\left(x \\right)} + \\cos{\\left(x \\right)}$",
            "text/plain": [
              "d                                \n",
              "──(x⋅cos(x)) = -x⋅sin(x) + cos(x)\n",
              "dx                               "
            ]
          },
          "metadata": {
            "tags": []
          }
        },
        {
          "output_type": "display_data",
          "data": {
            "image/png": "[encoded data removed]",
            "text/latex": "$\\displaystyle \\int \\left(- x \\sin{\\left(x \\right)} + \\cos{\\left(x \\right)}\\right)\\, dx = x \\cos{\\left(x \\right)}$",
            "text/plain": [
              "⌠                                   \n",
              "⎮ (-x⋅sin(x) + cos(x)) dx = x⋅cos(x)\n",
              "⌡                                   "
            ]
          },
          "metadata": {
            "tags": []
          }
        }
      ]
    },
    {
      "cell_type": "markdown",
      "metadata": {
        "id": "8Ex1OgD3xvUN"
      },
      "source": [
        "# 実行結果の表示・非表示"
      ]
    },
    {
      "cell_type": "code",
      "metadata": {
        "id": "dzkMRItAVI2x"
      },
      "source": [
        ""
      ],
      "execution_count": null,
      "outputs": []
    },
    {
      "cell_type": "markdown",
      "metadata": {
        "id": "SRzTBfbqzn1F"
      },
      "source": [
        "# いまここ"
      ]
    }
  ]
}