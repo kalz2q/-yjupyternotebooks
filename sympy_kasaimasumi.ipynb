{
  "nbformat": 4,
  "nbformat_minor": 0,
  "metadata": {
    "colab": {
      "name": "sympy_kasaimasumi.ipynb",
      "provenance": [],
      "toc_visible": true,
      "authorship_tag": "ABX9TyPzyrmFUJ+ow5Jhj3oNPtWz",
      "include_colab_link": true
    },
    "kernelspec": {
      "name": "python3",
      "display_name": "Python 3"
    },
    "language_info": {
      "name": "python"
    }
  },
  "cells": [
    {
      "cell_type": "markdown",
      "metadata": {
        "id": "view-in-github",
        "colab_type": "text"
      },
      "source": [
        "<a href=\"https://colab.research.google.com/github/kalz2q/mycolabnotebooks/blob/master/sympy_kasaimasumi.ipynb\" target=\"_parent\"><img src=\"https://colab.research.google.com/assets/colab-badge.svg\" alt=\"Open In Colab\"/></a>"
      ]
    },
    {
      "cell_type": "markdown",
      "metadata": {
        "id": "AKSVBTMRy89u"
      },
      "source": [
        "# メモ\n",
        "\n",
        "SymPy による数式処理とグラフ作成  \n",
        "葛西真寿  \n",
        "https://home.hirosaki-u.ac.jp/jupyter/sympy/\n",
        "\n",
        "を読む。"
      ]
    },
    {
      "cell_type": "markdown",
      "metadata": {
        "id": "WQXz1cmUly_n"
      },
      "source": [
        "# 新しいセクション"
      ]
    },
    {
      "cell_type": "markdown",
      "metadata": {
        "id": "EX3Z3XRGz4w3"
      },
      "source": [
        "Jupyterの起動から始まっている。 いまならこれが colab へサインインかもしれないね。\n",
        "\n",
        "教材で使うためかもしれないが、変数宣言をはぶくために sympy.abc を使っている。\n"
      ]
    },
    {
      "cell_type": "code",
      "metadata": {
        "id": "-jBnb6Raz4eo"
      },
      "source": [
        "from sympy.abc import *\n",
        "from sympy import *\n",
        "init_printing()"
      ],
      "execution_count": null,
      "outputs": []
    },
    {
      "cell_type": "markdown",
      "metadata": {
        "id": "p1ETawdYBVDq"
      },
      "source": [
        "最初の例がいきなり積分。 それ以降は普通の四則演算。"
      ]
    },
    {
      "cell_type": "code",
      "metadata": {
        "colab": {
          "base_uri": "https://localhost:8080/",
          "height": 38
        },
        "id": "jrAHtdu-0K5_",
        "outputId": "4bb806df-376d-4b62-86d0-b24dedd83728"
      },
      "source": [
        "integrate(3*x**2, x)"
      ],
      "execution_count": null,
      "outputs": [
        {
          "output_type": "execute_result",
          "data": {
            "image/png": "[encoded data removed]",
            "text/latex": "$\\displaystyle x^{3}$",
            "text/plain": [
              " 3\n",
              "x "
            ]
          },
          "metadata": {
            "tags": []
          },
          "execution_count": 2
        }
      ]
    },
    {
      "cell_type": "code",
      "metadata": {
        "colab": {
          "base_uri": "https://localhost:8080/",
          "height": 38
        },
        "id": "eSdI5o6Z0XJ8",
        "outputId": "f843bb47-93fc-4bee-cfcd-54dc7a7aed06"
      },
      "source": [
        "eq = x**2 + 3*x + 2\n",
        "factor(eq)"
      ],
      "execution_count": null,
      "outputs": [
        {
          "output_type": "execute_result",
          "data": {
            "image/png": "[encoded data removed]",
            "text/latex": "$\\displaystyle \\left(x + 1\\right) \\left(x + 2\\right)$",
            "text/plain": [
              "(x + 1)⋅(x + 2)"
            ]
          },
          "metadata": {
            "tags": []
          },
          "execution_count": 3
        }
      ]
    },
    {
      "cell_type": "markdown",
      "metadata": {
        "id": "SpQWCiqtBedb"
      },
      "source": [
        "# 関数の定義\n",
        "\n",
        "比較的早めに関数の定義とか出てくる。 "
      ]
    },
    {
      "cell_type": "code",
      "metadata": {
        "colab": {
          "base_uri": "https://localhost:8080/",
          "height": 38
        },
        "id": "aafNrs9O0lLN",
        "outputId": "c68f423c-ec1b-43d8-9166-1ddd4de749cb"
      },
      "source": [
        "# 関数の定義\n",
        "def f(x):\n",
        "    return x**2\n",
        "f(x)"
      ],
      "execution_count": null,
      "outputs": [
        {
          "output_type": "execute_result",
          "data": {
            "image/png": "[encoded data removed]",
            "text/latex": "$\\displaystyle x^{2}$",
            "text/plain": [
              " 2\n",
              "x "
            ]
          },
          "metadata": {
            "tags": []
          },
          "execution_count": 11
        }
      ]
    },
    {
      "cell_type": "code",
      "metadata": {
        "colab": {
          "base_uri": "https://localhost:8080/",
          "height": 38
        },
        "id": "2OTZLtrW0oRd",
        "outputId": "5694b5a2-8804-4b11-f9ef-4c7c4add45c7"
      },
      "source": [
        "f(3*sqrt(A))"
      ],
      "execution_count": null,
      "outputs": [
        {
          "output_type": "execute_result",
          "data": {
            "image/png": "[encoded data removed]",
            "text/latex": "$\\displaystyle 9 A$",
            "text/plain": [
              "9⋅A"
            ]
          },
          "metadata": {
            "tags": []
          },
          "execution_count": 4
        }
      ]
    },
    {
      "cell_type": "markdown",
      "metadata": {
        "id": "NxGXVbyuB6ZA"
      },
      "source": [
        "上のは $3\\sqrt{A}$ の二乗なので $3\\sqrt{A} \\times 3\\sqrt{A} = 9 \\times (\\sqrt{A})^2 = 9A$"
      ]
    },
    {
      "cell_type": "code",
      "metadata": {
        "colab": {
          "base_uri": "https://localhost:8080/",
          "height": 38
        },
        "id": "iav361Be03Ny",
        "outputId": "e2792e4a-0f5b-4d71-c9f1-38c96d782bef"
      },
      "source": [
        "expand(f(x+a))"
      ],
      "execution_count": null,
      "outputs": [
        {
          "output_type": "execute_result",
          "data": {
            "image/png": "[encoded data removed]",
            "text/latex": "$\\displaystyle a^{2} + 2 a x + x^{2}$",
            "text/plain": [
              " 2            2\n",
              "a  + 2⋅a⋅x + x "
            ]
          },
          "metadata": {
            "tags": []
          },
          "execution_count": 6
        }
      ]
    },
    {
      "cell_type": "markdown",
      "metadata": {
        "id": "KTeE43O9DEXx"
      },
      "source": [
        "# 直前の出力結果は _ で参照できる"
      ]
    },
    {
      "cell_type": "code",
      "metadata": {
        "id": "5y4YH-VJ1t0s",
        "colab": {
          "base_uri": "https://localhost:8080/",
          "height": 39
        },
        "outputId": "735222a2-4de6-4c45-9264-340c8f4cc726"
      },
      "source": [
        "# 直前の出力結果は _ で参照できる\n",
        "factor(_)"
      ],
      "execution_count": null,
      "outputs": [
        {
          "output_type": "execute_result",
          "data": {
            "image/png": "[encoded data removed]",
            "text/latex": "$\\displaystyle \\left(a + x\\right)^{2}$",
            "text/plain": [
              "       2\n",
              "(a + x) "
            ]
          },
          "metadata": {
            "tags": []
          },
          "execution_count": 7
        }
      ]
    },
    {
      "cell_type": "code",
      "metadata": {
        "id": "BPhjbFKZ1oJD",
        "colab": {
          "base_uri": "https://localhost:8080/",
          "height": 38
        },
        "outputId": "f222c650-5e8c-4f70-d3f4-613d7c261183"
      },
      "source": [
        "expand((x - 2)**4)"
      ],
      "execution_count": null,
      "outputs": [
        {
          "output_type": "execute_result",
          "data": {
            "image/png": "[encoded data removed]",
            "text/latex": "$\\displaystyle x^{4} - 8 x^{3} + 24 x^{2} - 32 x + 16$",
            "text/plain": [
              " 4      3       2            \n",
              "x  - 8⋅x  + 24⋅x  - 32⋅x + 16"
            ]
          },
          "metadata": {
            "tags": []
          },
          "execution_count": 12
        }
      ]
    },
    {
      "cell_type": "code",
      "metadata": {
        "id": "6NUbtfwkC9A0",
        "colab": {
          "base_uri": "https://localhost:8080/",
          "height": 39
        },
        "outputId": "b9b054e4-57c2-416b-e56b-8b079f43643c"
      },
      "source": [
        "factor(_)"
      ],
      "execution_count": null,
      "outputs": [
        {
          "output_type": "execute_result",
          "data": {
            "image/png": "[encoded data removed]",
            "text/latex": "$\\displaystyle \\left(x - 2\\right)^{4}$",
            "text/plain": [
              "       4\n",
              "(x - 2) "
            ]
          },
          "metadata": {
            "tags": []
          },
          "execution_count": 13
        }
      ]
    },
    {
      "cell_type": "code",
      "metadata": {
        "id": "EE7d7nyYDBtr",
        "colab": {
          "base_uri": "https://localhost:8080/",
          "height": 38
        },
        "outputId": "674df27e-59b6-4656-a639-9a78b9a5a6c0"
      },
      "source": [
        "expand(_)"
      ],
      "execution_count": null,
      "outputs": [
        {
          "output_type": "execute_result",
          "data": {
            "image/png": "[encoded data removed]",
            "text/latex": "$\\displaystyle x^{4} - 8 x^{3} + 24 x^{2} - 32 x + 16$",
            "text/plain": [
              " 4      3       2            \n",
              "x  - 8⋅x  + 24⋅x  - 32⋅x + 16"
            ]
          },
          "metadata": {
            "tags": []
          },
          "execution_count": 14
        }
      ]
    },
    {
      "cell_type": "markdown",
      "metadata": {
        "id": "I4g_JEHzKpNT"
      },
      "source": [
        "# 代入"
      ]
    },
    {
      "cell_type": "code",
      "metadata": {
        "id": "ex2ASJQJKr17",
        "colab": {
          "base_uri": "https://localhost:8080/",
          "height": 120
        },
        "outputId": "097f619e-3f91-4e06-a551-d0340e634b11"
      },
      "source": [
        "from sympy.abc import *\n",
        "from sympy import *\n",
        "init_printing()\n",
        "c = 3*x\n",
        "display(c)\n",
        "display(c.subs(x,3))\n",
        "display(c)\n",
        "x = 3\n",
        "display(c)\n",
        "display(x)"
      ],
      "execution_count": null,
      "outputs": [
        {
          "output_type": "display_data",
          "data": {
            "image/png": "[encoded data removed]",
            "text/latex": "$\\displaystyle 3 x$",
            "text/plain": [
              "3⋅x"
            ]
          },
          "metadata": {
            "tags": []
          }
        },
        {
          "output_type": "display_data",
          "data": {
            "image/png": "[encoded data removed]",
            "text/latex": "$\\displaystyle 9$",
            "text/plain": [
              "9"
            ]
          },
          "metadata": {
            "tags": []
          }
        },
        {
          "output_type": "display_data",
          "data": {
            "image/png": "[encoded data removed]",
            "text/latex": "$\\displaystyle 3 x$",
            "text/plain": [
              "3⋅x"
            ]
          },
          "metadata": {
            "tags": []
          }
        },
        {
          "output_type": "display_data",
          "data": {
            "image/png": "[encoded data removed]",
            "text/latex": "$\\displaystyle 3 x$",
            "text/plain": [
              "3⋅x"
            ]
          },
          "metadata": {
            "tags": []
          }
        },
        {
          "output_type": "display_data",
          "data": {
            "image/png": "[encoded data removed]",
            "text/latex": "$\\displaystyle 3$",
            "text/plain": [
              "3"
            ]
          },
          "metadata": {
            "tags": []
          }
        }
      ]
    },
    {
      "cell_type": "code",
      "metadata": {
        "id": "sXd-6X7_Sjon",
        "colab": {
          "base_uri": "https://localhost:8080/",
          "height": 99
        },
        "outputId": "0f1bc5eb-83ab-420e-fe51-991cad8c1935"
      },
      "source": [
        "# f(g(x)) について考える\n",
        "from sympy.abc import *\n",
        "from sympy import *\n",
        "init_printing()\n",
        "# 実験\n",
        "def g(x) : return x**2\n",
        "\n",
        "display(g(x))\n",
        "display(g(3))\n",
        "\n",
        "def f(x1) : return (g(x)).subs(x,x1)\n",
        "\n",
        "display(f(y))\n",
        "display(f(3))"
      ],
      "execution_count": null,
      "outputs": [
        {
          "output_type": "display_data",
          "data": {
            "image/png": "[encoded data removed]",
            "text/latex": "$\\displaystyle x^{2}$",
            "text/plain": [
              " 2\n",
              "x "
            ]
          },
          "metadata": {
            "tags": []
          }
        },
        {
          "output_type": "display_data",
          "data": {
            "image/png": "[encoded data removed]",
            "text/latex": "$\\displaystyle 9$",
            "text/plain": [
              "9"
            ]
          },
          "metadata": {
            "tags": []
          }
        },
        {
          "output_type": "display_data",
          "data": {
            "image/png": "[encoded data removed]",
            "text/latex": "$\\displaystyle y^{2}$",
            "text/plain": [
              " 2\n",
              "y "
            ]
          },
          "metadata": {
            "tags": []
          }
        },
        {
          "output_type": "display_data",
          "data": {
            "image/png": "[encoded data removed]",
            "text/latex": "$\\displaystyle 9$",
            "text/plain": [
              "9"
            ]
          },
          "metadata": {
            "tags": []
          }
        }
      ]
    },
    {
      "cell_type": "code",
      "metadata": {
        "id": "fKC-Sf1rURQ7",
        "colab": {
          "base_uri": "https://localhost:8080/",
          "height": 79
        },
        "outputId": "129e1964-c29b-4014-97d5-ead04f8010fa"
      },
      "source": [
        "def g(x):\n",
        "    return diff(x*cos(x), x)\n",
        "\n",
        "display(g(x))\n",
        "# display(g(1)) #=> エラーになる\n",
        "\n",
        "def g(x1):\n",
        "    return diff(x*cos(x), x).subs(x,x1)\n",
        "\n",
        "display(g(x))\n",
        "display(g(1))"
      ],
      "execution_count": null,
      "outputs": [
        {
          "output_type": "display_data",
          "data": {
            "image/png": "[encoded data removed]",
            "text/latex": "$\\displaystyle - x \\sin{\\left(x \\right)} + \\cos{\\left(x \\right)}$",
            "text/plain": [
              "-x⋅sin(x) + cos(x)"
            ]
          },
          "metadata": {
            "tags": []
          }
        },
        {
          "output_type": "display_data",
          "data": {
            "image/png": "[encoded data removed]",
            "text/latex": "$\\displaystyle - x \\sin{\\left(x \\right)} + \\cos{\\left(x \\right)}$",
            "text/plain": [
              "-x⋅sin(x) + cos(x)"
            ]
          },
          "metadata": {
            "tags": []
          }
        },
        {
          "output_type": "display_data",
          "data": {
            "image/png": "[encoded data removed]",
            "text/latex": "$\\displaystyle - \\sin{\\left(1 \\right)} + \\cos{\\left(1 \\right)}$",
            "text/plain": [
              "-sin(1) + cos(1)"
            ]
          },
          "metadata": {
            "tags": []
          }
        }
      ]
    },
    {
      "cell_type": "code",
      "metadata": {
        "id": "DSGDloQOVHWN",
        "colab": {
          "base_uri": "https://localhost:8080/",
          "height": 223
        },
        "outputId": "48d6de26-bb0e-4dd9-ebba-eeae447ee235"
      },
      "source": [
        "from sympy.abc import *\n",
        "from sympy import *\n",
        "init_printing()\n",
        "def f(x):\n",
        "    return x*cos(x)\n",
        "\n",
        "def df(x1):\n",
        "    return diff(f(x), x).subs(x,x1)\n",
        "display(f(x))\n",
        "display(df(x))\n",
        "display(integrate(df(x), x) == f(x))\n",
        "display(Derivative(f(x)))\n",
        "display(Integral(df(x)))\n",
        "display(Eq(Derivative(f(x)),df(x)))\n",
        "display(Eq(Integral(df(x)),f(x)))\n"
      ],
      "execution_count": null,
      "outputs": [
        {
          "output_type": "display_data",
          "data": {
            "image/png": "[encoded data removed]",
            "text/latex": "$\\displaystyle x \\cos{\\left(x \\right)}$",
            "text/plain": [
              "x⋅cos(x)"
            ]
          },
          "metadata": {
            "tags": []
          }
        },
        {
          "output_type": "display_data",
          "data": {
            "image/png": "[encoded data removed]",
            "text/latex": "$\\displaystyle - x \\sin{\\left(x \\right)} + \\cos{\\left(x \\right)}$",
            "text/plain": [
              "-x⋅sin(x) + cos(x)"
            ]
          },
          "metadata": {
            "tags": []
          }
        },
        {
          "output_type": "display_data",
          "data": {
            "text/plain": [
              "True"
            ]
          },
          "metadata": {
            "tags": []
          }
        },
        {
          "output_type": "display_data",
          "data": {
            "image/png": "[encoded data removed]",
            "text/latex": "$\\displaystyle \\frac{d}{d x} x \\cos{\\left(x \\right)}$",
            "text/plain": [
              "d           \n",
              "──(x⋅cos(x))\n",
              "dx          "
            ]
          },
          "metadata": {
            "tags": []
          }
        },
        {
          "output_type": "display_data",
          "data": {
            "image/png": "[encoded data removed]",
            "text/latex": "$\\displaystyle \\int \\left(- x \\sin{\\left(x \\right)} + \\cos{\\left(x \\right)}\\right)\\, dx$",
            "text/plain": [
              "⌠                        \n",
              "⎮ (-x⋅sin(x) + cos(x)) dx\n",
              "⌡                        "
            ]
          },
          "metadata": {
            "tags": []
          }
        },
        {
          "output_type": "display_data",
          "data": {
            "image/png": "[encoded data removed]",
            "text/latex": "$\\displaystyle \\frac{d}{d x} x \\cos{\\left(x \\right)} = - x \\sin{\\left(x \\right)} + \\cos{\\left(x \\right)}$",
            "text/plain": [
              "d                                \n",
              "──(x⋅cos(x)) = -x⋅sin(x) + cos(x)\n",
              "dx                               "
            ]
          },
          "metadata": {
            "tags": []
          }
        },
        {
          "output_type": "display_data",
          "data": {
            "image/png": "[encoded data removed]",
            "text/latex": "$\\displaystyle \\int \\left(- x \\sin{\\left(x \\right)} + \\cos{\\left(x \\right)}\\right)\\, dx = x \\cos{\\left(x \\right)}$",
            "text/plain": [
              "⌠                                   \n",
              "⎮ (-x⋅sin(x) + cos(x)) dx = x⋅cos(x)\n",
              "⌡                                   "
            ]
          },
          "metadata": {
            "tags": []
          }
        }
      ]
    },
    {
      "cell_type": "code",
      "metadata": {
        "id": "dzkMRItAVI2x",
        "colab": {
          "base_uri": "https://localhost:8080/",
          "height": 220
        },
        "outputId": "403e2ca2-54aa-4024-a924-5246553ae4e5"
      },
      "source": [
        "display([1,2,3,4,5,6,7,8,9])\n",
        "display(sum([1,2,3,4,5,6,7,8,9]))\n",
        "display((n*(n-1)/2))\n",
        "display((n*(n-1)/2).subs(n, 10))\n",
        "display(Sum(k,(k,1,m)))\n",
        "display((Sum(k,(k,1,m)).doit()))\n",
        "display((Sum(k,(k,1,m)).doit()).subs(m,9))"
      ],
      "execution_count": null,
      "outputs": [
        {
          "output_type": "display_data",
          "data": {
            "image/png": "[encoded data removed]",
            "text/latex": "$\\displaystyle \\left[ 1, \\  2, \\  3, \\  4, \\  5, \\  6, \\  7, \\  8, \\  9\\right]$",
            "text/plain": [
              "[1, 2, 3, 4, 5, 6, 7, 8, 9]"
            ]
          },
          "metadata": {
            "tags": []
          }
        },
        {
          "output_type": "display_data",
          "data": {
            "image/png": "[encoded data removed]",
            "text/latex": "$\\displaystyle 45$",
            "text/plain": [
              "45"
            ]
          },
          "metadata": {
            "tags": []
          }
        },
        {
          "output_type": "display_data",
          "data": {
            "image/png": "[encoded data removed]",
            "text/latex": "$\\displaystyle \\frac{n \\left(n - 1\\right)}{2}$",
            "text/plain": [
              "n⋅(n - 1)\n",
              "─────────\n",
              "    2    "
            ]
          },
          "metadata": {
            "tags": []
          }
        },
        {
          "output_type": "display_data",
          "data": {
            "image/png": "[encoded data removed]",
            "text/latex": "$\\displaystyle 45$",
            "text/plain": [
              "45"
            ]
          },
          "metadata": {
            "tags": []
          }
        },
        {
          "output_type": "display_data",
          "data": {
            "image/png": "[encoded data removed]",
            "text/latex": "$\\displaystyle \\sum_{k=1}^{m} k$",
            "text/plain": [
              "  m    \n",
              " ___   \n",
              " ╲     \n",
              "  ╲    \n",
              "  ╱   k\n",
              " ╱     \n",
              " ‾‾‾   \n",
              "k = 1  "
            ]
          },
          "metadata": {
            "tags": []
          }
        },
        {
          "output_type": "display_data",
          "data": {
            "image/png": "[encoded data removed]",
            "text/latex": "$\\displaystyle \\frac{m^{2}}{2} + \\frac{m}{2}$",
            "text/plain": [
              " 2    \n",
              "m    m\n",
              "── + ─\n",
              "2    2"
            ]
          },
          "metadata": {
            "tags": []
          }
        },
        {
          "output_type": "display_data",
          "data": {
            "image/png": "[encoded data removed]",
            "text/latex": "$\\displaystyle 45$",
            "text/plain": [
              "45"
            ]
          },
          "metadata": {
            "tags": []
          }
        }
      ]
    },
    {
      "cell_type": "code",
      "metadata": {
        "id": "tDBRZ3Qv7H1S",
        "colab": {
          "base_uri": "https://localhost:8080/",
          "height": 54
        },
        "outputId": "2369e116-b7d6-46ed-c715-2fd059d508f6"
      },
      "source": [
        "display(range(10))\n",
        "display(list(range(10)))"
      ],
      "execution_count": null,
      "outputs": [
        {
          "output_type": "display_data",
          "data": {
            "text/plain": [
              "range(0, 10)"
            ]
          },
          "metadata": {
            "tags": []
          }
        },
        {
          "output_type": "display_data",
          "data": {
            "image/png": "[encoded data removed]",
            "text/latex": "$\\displaystyle \\left[ 0, \\  1, \\  2, \\  3, \\  4, \\  5, \\  6, \\  7, \\  8, \\  9\\right]$",
            "text/plain": [
              "[0, 1, 2, 3, 4, 5, 6, 7, 8, 9]"
            ]
          },
          "metadata": {
            "tags": []
          }
        }
      ]
    },
    {
      "cell_type": "code",
      "metadata": {
        "id": "CvRczqFg7iyg",
        "colab": {
          "base_uri": "https://localhost:8080/",
          "height": 96
        },
        "outputId": "8e803aef-8739-4b2b-de9d-1ddadc8da921"
      },
      "source": [
        "# 階乗 ! は factorial()\n",
        "display(factorial(4))\n",
        "# 階乗 ! factorial(x) を数式で表す方法がわからない\n",
        "# 階乗のいろいろ \n",
        "display(factorial2(5))\n",
        "display(factorial2(6))\n",
        "factorial(factorial(3))"
      ],
      "execution_count": null,
      "outputs": [
        {
          "output_type": "display_data",
          "data": {
            "image/png": "[encoded data removed]",
            "text/latex": "$\\displaystyle 24$",
            "text/plain": [
              "24"
            ]
          },
          "metadata": {
            "tags": []
          }
        },
        {
          "output_type": "display_data",
          "data": {
            "image/png": "[encoded data removed]",
            "text/latex": "$\\displaystyle 15$",
            "text/plain": [
              "15"
            ]
          },
          "metadata": {
            "tags": []
          }
        },
        {
          "output_type": "display_data",
          "data": {
            "image/png": "[encoded data removed]",
            "text/latex": "$\\displaystyle 48$",
            "text/plain": [
              "48"
            ]
          },
          "metadata": {
            "tags": []
          }
        },
        {
          "output_type": "execute_result",
          "data": {
            "image/png": "[encoded data removed]",
            "text/latex": "$\\displaystyle 720$",
            "text/plain": [
              "720"
            ]
          },
          "metadata": {
            "tags": []
          },
          "execution_count": 78
        }
      ]
    },
    {
      "cell_type": "markdown",
      "metadata": {
        "id": "blPMx_Hs882_"
      },
      "source": [
        "**問題**\n",
        "\n",
        "$3,2,1$ で作る最大の数を求める。 階乗や冪乗をつかってもよい。"
      ]
    },
    {
      "cell_type": "code",
      "metadata": {
        "id": "iia4nzfV87w3",
        "colab": {
          "base_uri": "https://localhost:8080/"
        },
        "outputId": "882d26a3-a787-48dd-bb6e-19c0051d7425"
      },
      "source": [
        "a = factorial(321)\n",
        "b = 21**3\n",
        "c = 31**2\n",
        "d = 2**31\n",
        "e = 3**21\n",
        "print((e > b) & (e > c) &(e > d))\n",
        "print(a > e)"
      ],
      "execution_count": null,
      "outputs": [
        {
          "output_type": "stream",
          "text": [
            "True\n",
            "True\n"
          ],
          "name": "stdout"
        }
      ]
    },
    {
      "cell_type": "code",
      "metadata": {
        "id": "n0_n2Gqz-wIl",
        "colab": {
          "base_uri": "https://localhost:8080/",
          "height": 331
        },
        "outputId": "b802359c-411f-442f-841f-ece0a31b89b6"
      },
      "source": [
        "from sympy import *\n",
        "from sympy.abc import *\n",
        "# print(float(pi)) #=> エラー。 sympy のあとに sympy.abc を import するとエラーになる"
      ],
      "execution_count": null,
      "outputs": [
        {
          "output_type": "error",
          "ename": "TypeError",
          "evalue": "ignored",
          "traceback": [
            "\u001b[0;31m---------------------------------------------------------------------------\u001b[0m",
            "\u001b[0;31mTypeError\u001b[0m                                 Traceback (most recent call last)",
            "\u001b[0;32m<ipython-input-15-80c06deedb21>\u001b[0m in \u001b[0;36m<module>\u001b[0;34m()\u001b[0m\n\u001b[1;32m      1\u001b[0m \u001b[0;32mfrom\u001b[0m \u001b[0msympy\u001b[0m \u001b[0;32mimport\u001b[0m \u001b[0;34m*\u001b[0m\u001b[0;34m\u001b[0m\u001b[0;34m\u001b[0m\u001b[0m\n\u001b[1;32m      2\u001b[0m \u001b[0;32mfrom\u001b[0m \u001b[0msympy\u001b[0m\u001b[0;34m.\u001b[0m\u001b[0mabc\u001b[0m \u001b[0;32mimport\u001b[0m \u001b[0;34m*\u001b[0m\u001b[0;34m\u001b[0m\u001b[0;34m\u001b[0m\u001b[0m\n\u001b[0;32m----> 3\u001b[0;31m \u001b[0mprint\u001b[0m\u001b[0;34m(\u001b[0m\u001b[0mfloat\u001b[0m\u001b[0;34m(\u001b[0m\u001b[0mpi\u001b[0m\u001b[0;34m)\u001b[0m\u001b[0;34m)\u001b[0m\u001b[0;34m\u001b[0m\u001b[0;34m\u001b[0m\u001b[0m\n\u001b[0m",
            "\u001b[0;32m/usr/local/lib/python3.7/dist-packages/sympy/core/expr.py\u001b[0m in \u001b[0;36m__float__\u001b[0;34m(self)\u001b[0m\n\u001b[1;32m    348\u001b[0m         \u001b[0;32mif\u001b[0m \u001b[0mresult\u001b[0m\u001b[0;34m.\u001b[0m\u001b[0mis_number\u001b[0m \u001b[0;32mand\u001b[0m \u001b[0mresult\u001b[0m\u001b[0;34m.\u001b[0m\u001b[0mas_real_imag\u001b[0m\u001b[0;34m(\u001b[0m\u001b[0;34m)\u001b[0m\u001b[0;34m[\u001b[0m\u001b[0;36m1\u001b[0m\u001b[0;34m]\u001b[0m\u001b[0;34m:\u001b[0m\u001b[0;34m\u001b[0m\u001b[0;34m\u001b[0m\u001b[0m\n\u001b[1;32m    349\u001b[0m             \u001b[0;32mraise\u001b[0m \u001b[0mTypeError\u001b[0m\u001b[0;34m(\u001b[0m\u001b[0;34m\"can't convert complex to float\"\u001b[0m\u001b[0;34m)\u001b[0m\u001b[0;34m\u001b[0m\u001b[0;34m\u001b[0m\u001b[0m\n\u001b[0;32m--> 350\u001b[0;31m         \u001b[0;32mraise\u001b[0m \u001b[0mTypeError\u001b[0m\u001b[0;34m(\u001b[0m\u001b[0;34m\"can't convert expression to float\"\u001b[0m\u001b[0;34m)\u001b[0m\u001b[0;34m\u001b[0m\u001b[0;34m\u001b[0m\u001b[0m\n\u001b[0m\u001b[1;32m    351\u001b[0m \u001b[0;34m\u001b[0m\u001b[0m\n\u001b[1;32m    352\u001b[0m     \u001b[0;32mdef\u001b[0m \u001b[0m__complex__\u001b[0m\u001b[0;34m(\u001b[0m\u001b[0mself\u001b[0m\u001b[0;34m)\u001b[0m\u001b[0;34m:\u001b[0m\u001b[0;34m\u001b[0m\u001b[0;34m\u001b[0m\u001b[0m\n",
            "\u001b[0;31mTypeError\u001b[0m: can't convert expression to float"
          ]
        }
      ]
    },
    {
      "cell_type": "code",
      "metadata": {
        "id": "D3NQRBKSTixX",
        "colab": {
          "base_uri": "https://localhost:8080/",
          "height": 216
        },
        "outputId": "a7cc7327-c11c-4a99-89df-994a22d63d88"
      },
      "source": [
        "import sympy.abc\n",
        "print(len(dir(sympy.abc)))\n",
        "import sympy\n",
        "print(len(dir(sympy)))\n",
        "from sympy import *\n",
        "display(pi,oo,E,I)\n",
        "display(exp(1), i, e)"
      ],
      "execution_count": null,
      "outputs": [
        {
          "output_type": "stream",
          "text": [
            "97\n",
            "916\n"
          ],
          "name": "stdout"
        },
        {
          "output_type": "display_data",
          "data": {
            "text/latex": "$\\displaystyle \\pi$",
            "text/plain": [
              "pi"
            ]
          },
          "metadata": {
            "tags": []
          }
        },
        {
          "output_type": "display_data",
          "data": {
            "text/latex": "$\\displaystyle \\infty$",
            "text/plain": [
              "oo"
            ]
          },
          "metadata": {
            "tags": []
          }
        },
        {
          "output_type": "display_data",
          "data": {
            "text/latex": "$\\displaystyle e$",
            "text/plain": [
              "E"
            ]
          },
          "metadata": {
            "tags": []
          }
        },
        {
          "output_type": "display_data",
          "data": {
            "text/latex": "$\\displaystyle i$",
            "text/plain": [
              "I"
            ]
          },
          "metadata": {
            "tags": []
          }
        },
        {
          "output_type": "display_data",
          "data": {
            "text/latex": "$\\displaystyle e$",
            "text/plain": [
              "E"
            ]
          },
          "metadata": {
            "tags": []
          }
        },
        {
          "output_type": "display_data",
          "data": {
            "text/latex": "$\\displaystyle i$",
            "text/plain": [
              "i"
            ]
          },
          "metadata": {
            "tags": []
          }
        },
        {
          "output_type": "display_data",
          "data": {
            "text/latex": "$\\displaystyle e$",
            "text/plain": [
              "e"
            ]
          },
          "metadata": {
            "tags": []
          }
        },
        {
          "output_type": "stream",
          "text": [
            "i**2\n"
          ],
          "name": "stdout"
        }
      ]
    },
    {
      "cell_type": "code",
      "metadata": {
        "id": "neUsGRHOWsU-",
        "colab": {
          "base_uri": "https://localhost:8080/",
          "height": 58
        },
        "outputId": "c5641244-4bb0-461d-e90e-347242050be7"
      },
      "source": [
        "# オイラーの等式\n",
        "display(e**(i*pi))\n",
        "display(Eq(e**(i*pi), -1))"
      ],
      "execution_count": null,
      "outputs": [
        {
          "output_type": "display_data",
          "data": {
            "text/latex": "$\\displaystyle e^{\\pi i}$",
            "text/plain": [
              "e**(pi*i)"
            ]
          },
          "metadata": {
            "tags": []
          }
        },
        {
          "output_type": "display_data",
          "data": {
            "text/latex": "$\\displaystyle e^{\\pi i} = -1$",
            "text/plain": [
              "Eq(e**(pi*i), -1)"
            ]
          },
          "metadata": {
            "tags": []
          }
        }
      ]
    },
    {
      "cell_type": "code",
      "metadata": {
        "id": "G7vhnHC4XOV1",
        "colab": {
          "base_uri": "https://localhost:8080/",
          "height": 37
        },
        "outputId": "1e138adc-a090-4f53-af90-fc653f310978"
      },
      "source": [
        "x = symbols('x', real=True)\n",
        "sqrt(x**2)"
      ],
      "execution_count": null,
      "outputs": [
        {
          "output_type": "execute_result",
          "data": {
            "text/latex": "$\\displaystyle \\left|{x}\\right|$",
            "text/plain": [
              "Abs(x)"
            ]
          },
          "metadata": {
            "tags": []
          },
          "execution_count": 33
        }
      ]
    },
    {
      "cell_type": "code",
      "metadata": {
        "id": "GH-Rhu7_Xbcr",
        "colab": {
          "base_uri": "https://localhost:8080/",
          "height": 38
        },
        "outputId": "48e4a351-2c9e-4d7e-b4b2-d8537feac006"
      },
      "source": [
        "sqrt(y**2)"
      ],
      "execution_count": null,
      "outputs": [
        {
          "output_type": "execute_result",
          "data": {
            "text/latex": "$\\displaystyle \\sqrt{y^{2}}$",
            "text/plain": [
              "sqrt(y**2)"
            ]
          },
          "metadata": {
            "tags": []
          },
          "execution_count": 34
        }
      ]
    },
    {
      "cell_type": "code",
      "metadata": {
        "id": "gRqeoZ3rXfk4",
        "colab": {
          "base_uri": "https://localhost:8080/"
        },
        "outputId": "759a67f0-5f8e-42d3-e22c-6be335a95bce"
      },
      "source": [
        "solve(sqrt(y**2-1),y)"
      ],
      "execution_count": null,
      "outputs": [
        {
          "output_type": "execute_result",
          "data": {
            "text/plain": [
              "[-1, 1]"
            ]
          },
          "metadata": {
            "tags": []
          },
          "execution_count": 37
        }
      ]
    },
    {
      "cell_type": "code",
      "metadata": {
        "id": "16UY3KKOXxqu",
        "colab": {
          "base_uri": "https://localhost:8080/",
          "height": 36
        },
        "outputId": "6ec23b11-74a1-4e63-d93a-791876efc8c1"
      },
      "source": [
        "sqrt(3**2 + 4**2)"
      ],
      "execution_count": null,
      "outputs": [
        {
          "output_type": "execute_result",
          "data": {
            "text/latex": "$\\displaystyle 5$",
            "text/plain": [
              "5"
            ]
          },
          "metadata": {
            "tags": []
          },
          "execution_count": 38
        }
      ]
    },
    {
      "cell_type": "code",
      "metadata": {
        "id": "y6Z8Z5ZKX4_y",
        "colab": {
          "base_uri": "https://localhost:8080/",
          "height": 36
        },
        "outputId": "4b9e8675-2e86-45d3-8ddb-97a1c1f6acd9"
      },
      "source": [
        "# exp(1) = e^1 = e = E\n",
        "exp(1) - E"
      ],
      "execution_count": null,
      "outputs": [
        {
          "output_type": "execute_result",
          "data": {
            "text/latex": "$\\displaystyle 0$",
            "text/plain": [
              "0"
            ]
          },
          "metadata": {
            "tags": []
          },
          "execution_count": 39
        }
      ]
    },
    {
      "cell_type": "code",
      "metadata": {
        "id": "MdLlCCibYGEi",
        "colab": {
          "base_uri": "https://localhost:8080/",
          "height": 37
        },
        "outputId": "a4f40ad6-11dd-4b4b-f891-d80aa077dd65"
      },
      "source": [
        "# e^{ln a} = a\n",
        "a = symbols('a')\n",
        "exp(log(a))"
      ],
      "execution_count": null,
      "outputs": [
        {
          "output_type": "execute_result",
          "data": {
            "text/latex": "$\\displaystyle a$",
            "text/plain": [
              "a"
            ]
          },
          "metadata": {
            "tags": []
          },
          "execution_count": 40
        }
      ]
    },
    {
      "cell_type": "code",
      "metadata": {
        "id": "D8SSMVoYYUi-",
        "colab": {
          "base_uri": "https://localhost:8080/",
          "height": 36
        },
        "outputId": "785e7020-fbb5-4573-a76c-c9f36d5891df"
      },
      "source": [
        "log(E**2)"
      ],
      "execution_count": null,
      "outputs": [
        {
          "output_type": "execute_result",
          "data": {
            "text/latex": "$\\displaystyle 2$",
            "text/plain": [
              "2"
            ]
          },
          "metadata": {
            "tags": []
          },
          "execution_count": 41
        }
      ]
    },
    {
      "cell_type": "markdown",
      "metadata": {
        "id": "mlM1ZezCYa0m"
      },
      "source": [
        "**練習** ピタゴラス数\n",
        "\n",
        "$a^2+b^2=c^2$ を満たす正の整数の組をピタゴラス数という。\n",
        "\n",
        "ピタゴラス数は 2つの任意の正の整数 $m,n$ から以下のようにして何組でもつくることができる。\n",
        "\n",
        "$\\quad a=|m^2-n^2|,\\quad b=2mn,\\quad c=\\sqrt{a^2+b^2}$\n",
        "\n",
        "このとき、$c$ は (平方根をとるにもかかわらず) 必ず整数になることを示す。\n",
        "\n"
      ]
    },
    {
      "cell_type": "code",
      "metadata": {
        "id": "RNtwvPazYY8E",
        "outputId": "a527384f-1835-48fe-f508-f6171ef9434a",
        "colab": {
          "base_uri": "https://localhost:8080/",
          "height": 151
        }
      },
      "source": [
        "# 実験\n",
        "from sympy.abc import *\n",
        "from sympy import *\n",
        "import random\n",
        "init_printing()\n",
        "m,n = symbols('m,n')\n",
        "a = abs(m**2-n**2)\n",
        "b = 2*m*n\n",
        "c = sqrt(a**2+b**2)\n",
        "display (a)\n",
        "display (b)\n",
        "display (c)\n",
        "\n",
        "display(c.subs([(m,random.randint(1,100)), (n,random.randint(1,100))]))\n",
        "display(c.subs([(m,random.randint(1,100)), (n,random.randint(1,100))]))\n",
        "display(c.subs([(m,random.randint(1,100)), (n,random.randint(1,100))]))\n"
      ],
      "execution_count": 10,
      "outputs": [
        {
          "output_type": "display_data",
          "data": {
            "image/png": "[encoded data removed]",
            "text/latex": "$\\displaystyle \\left|{m^{2} - n^{2}}\\right|$",
            "text/plain": [
              "│ 2    2│\n",
              "│m  - n │"
            ]
          },
          "metadata": {
            "tags": []
          }
        },
        {
          "output_type": "display_data",
          "data": {
            "image/png": "[encoded data removed]",
            "text/latex": "$\\displaystyle 2 m n$",
            "text/plain": [
              "2⋅m⋅n"
            ]
          },
          "metadata": {
            "tags": []
          }
        },
        {
          "output_type": "display_data",
          "data": {
            "image/png": "[encoded data removed]",
            "text/latex": "$\\displaystyle \\sqrt{4 m^{2} n^{2} + \\left|{m^{2} - n^{2}}\\right|^{2}}$",
            "text/plain": [
              "    ______________________\n",
              "   ╱                    2 \n",
              "  ╱     2  2   │ 2    2│  \n",
              "╲╱   4⋅m ⋅n  + │m  - n │  "
            ]
          },
          "metadata": {
            "tags": []
          }
        },
        {
          "output_type": "display_data",
          "data": {
            "image/png": "[encoded data removed]",
            "text/latex": "$\\displaystyle 2644$",
            "text/plain": [
              "2644"
            ]
          },
          "metadata": {
            "tags": []
          }
        },
        {
          "output_type": "display_data",
          "data": {
            "image/png": "[encoded data removed]",
            "text/latex": "$\\displaystyle 11826$",
            "text/plain": [
              "11826"
            ]
          },
          "metadata": {
            "tags": []
          }
        },
        {
          "output_type": "display_data",
          "data": {
            "image/png": "[encoded data removed]",
            "text/latex": "$\\displaystyle 7474$",
            "text/plain": [
              "7474"
            ]
          },
          "metadata": {
            "tags": []
          }
        }
      ]
    },
    {
      "cell_type": "code",
      "metadata": {
        "id": "1W1YK6YdIgBG",
        "outputId": "ee7debb5-d4b6-4626-d481-54ebbec2c4fd",
        "colab": {
          "base_uri": "https://localhost:8080/"
        }
      },
      "source": [
        "2*5*3"
      ],
      "execution_count": 2,
      "outputs": [
        {
          "output_type": "execute_result",
          "data": {
            "text/plain": [
              "30"
            ]
          },
          "metadata": {
            "tags": []
          },
          "execution_count": 2
        }
      ]
    },
    {
      "cell_type": "code",
      "metadata": {
        "id": "gwneGySAIlwr",
        "outputId": "e01b47e8-25e5-46e1-e624-cf8bf07dad9c",
        "colab": {
          "base_uri": "https://localhost:8080/",
          "height": 36
        }
      },
      "source": [
        "from sympy import *\n",
        "sqrt(16**2 + 30**2)"
      ],
      "execution_count": 6,
      "outputs": [
        {
          "output_type": "execute_result",
          "data": {
            "text/latex": "$\\displaystyle 34$",
            "text/plain": [
              "34"
            ]
          },
          "metadata": {
            "tags": []
          },
          "execution_count": 6
        }
      ]
    },
    {
      "cell_type": "code",
      "metadata": {
        "id": "xAQudEB-Lfsj",
        "outputId": "c103d666-aed2-4b3d-ce35-dbbfabe362cf",
        "colab": {
          "base_uri": "https://localhost:8080/",
          "height": 112
        }
      },
      "source": [
        "# 証明\n",
        "display (Eq(a**2,(m**4 -2*m**2*n**2+n**4)))\n",
        "display (Eq((a**2+b**2) ,(m**4+2*m**2*n**2+n**4)))\n",
        "display (Eq((m**4+2*m**2*n**2+n**4), (m**2+n**2)**2))\n",
        "display (Eq(sqrt(m**4+2*m**2*n**2+n**4), (m**2+n**2)))\n"
      ],
      "execution_count": 22,
      "outputs": [
        {
          "output_type": "display_data",
          "data": {
            "image/png": "[encoded data removed]",
            "text/latex": "$\\displaystyle \\left|{m^{2} - n^{2}}\\right|^{2} = m^{4} - 2 m^{2} n^{2} + n^{4}$",
            "text/plain": [
              "         2                    \n",
              "│ 2    2│     4      2  2    4\n",
              "│m  - n │  = m  - 2⋅m ⋅n  + n "
            ]
          },
          "metadata": {
            "tags": []
          }
        },
        {
          "output_type": "display_data",
          "data": {
            "image/png": "[encoded data removed]",
            "text/latex": "$\\displaystyle 4 m^{2} n^{2} + \\left|{m^{2} - n^{2}}\\right|^{2} = m^{4} + 2 m^{2} n^{2} + n^{4}$",
            "text/plain": [
              "                   2                    \n",
              "   2  2   │ 2    2│     4      2  2    4\n",
              "4⋅m ⋅n  + │m  - n │  = m  + 2⋅m ⋅n  + n "
            ]
          },
          "metadata": {
            "tags": []
          }
        },
        {
          "output_type": "display_data",
          "data": {
            "image/png": "[encoded data removed]",
            "text/latex": "$\\displaystyle m^{4} + 2 m^{2} n^{2} + n^{4} = \\left(m^{2} + n^{2}\\right)^{2}$",
            "text/plain": [
              "                             2\n",
              " 4      2  2    4   ⎛ 2    2⎞ \n",
              "m  + 2⋅m ⋅n  + n  = ⎝m  + n ⎠ "
            ]
          },
          "metadata": {
            "tags": []
          }
        },
        {
          "output_type": "display_data",
          "data": {
            "image/png": "[encoded data removed]",
            "text/latex": "$\\displaystyle \\sqrt{m^{4} + 2 m^{2} n^{2} + n^{4}} = m^{2} + n^{2}$",
            "text/plain": [
              "   ___________________          \n",
              "  ╱  4      2  2    4     2    2\n",
              "╲╱  m  + 2⋅m ⋅n  + n   = m  + n "
            ]
          },
          "metadata": {
            "tags": []
          }
        }
      ]
    },
    {
      "cell_type": "code",
      "metadata": {
        "id": "ibU1wf2ZNZzH",
        "outputId": "bfeb9e51-a786-42ad-c9b8-eacd8188ee36",
        "colab": {
          "base_uri": "https://localhost:8080/",
          "height": 36
        }
      },
      "source": [
        "random.random()"
      ],
      "execution_count": 25,
      "outputs": [
        {
          "output_type": "execute_result",
          "data": {
            "image/png": "[encoded data removed]",
            "text/latex": "$\\displaystyle 0.313871968270211$",
            "text/plain": [
              "0.313871968270211"
            ]
          },
          "metadata": {
            "tags": []
          },
          "execution_count": 25
        }
      ]
    },
    {
      "cell_type": "markdown",
      "metadata": {
        "id": "6-5Fw-EYNhpp"
      },
      "source": [
        "**練習** 星の明るさと等級\n",
        "\n",
        "夜空に見える星の見かけの明るさ $L$ は等級 $m$ で表され、以下のような関係がある。\n",
        "\n",
        "$\\quad m = -2.5 \\log_{10} L + 定数$\n",
        "\n",
        "1等星と 6等星ではどちらの方が何倍明るいか"
      ]
    },
    {
      "cell_type": "markdown",
      "metadata": {
        "id": "Row-Ce8DOL3n"
      },
      "source": [
        "**(ヒント)**\n",
        "\n",
        "1等星と 6等星の見かけの明るさをそれぞれ、$L_1, L_6$ とする"
      ]
    },
    {
      "cell_type": "markdown",
      "metadata": {
        "id": "SRzTBfbqzn1F"
      },
      "source": [
        "# いまここ"
      ]
    }
  ]
}