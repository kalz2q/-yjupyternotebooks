{
  "nbformat": 4,
  "nbformat_minor": 0,
  "metadata": {
    "colab": {
      "name": "sympy_kasaimasumi.ipynb",
      "provenance": [],
      "toc_visible": true,
      "authorship_tag": "ABX9TyOiXUkVJeMKgoefQjUqi89Q",
      "include_colab_link": true
    },
    "kernelspec": {
      "name": "python3",
      "display_name": "Python 3"
    },
    "language_info": {
      "name": "python"
    }
  },
  "cells": [
    {
      "cell_type": "markdown",
      "metadata": {
        "id": "view-in-github",
        "colab_type": "text"
      },
      "source": [
        "<a href=\"https://colab.research.google.com/github/kalz2q/mycolabnotebooks/blob/master/sympy_kasaimasumi.ipynb\" target=\"_parent\"><img src=\"https://colab.research.google.com/assets/colab-badge.svg\" alt=\"Open In Colab\"/></a>"
      ]
    },
    {
      "cell_type": "markdown",
      "metadata": {
        "id": "AKSVBTMRy89u"
      },
      "source": [
        "# メモ\n",
        "\n",
        "SymPy による数式処理とグラフ作成  \n",
        "葛西真寿  \n",
        "https://home.hirosaki-u.ac.jp/jupyter/sympy/\n",
        "\n",
        "を読む。"
      ]
    },
    {
      "cell_type": "markdown",
      "metadata": {
        "id": "WQXz1cmUly_n"
      },
      "source": [
        "# 新しいセクション"
      ]
    },
    {
      "cell_type": "markdown",
      "metadata": {
        "id": "EX3Z3XRGz4w3"
      },
      "source": [
        "Jupyterの起動から始まっている。 いまならこれが colab へサインインかもしれないね。\n",
        "\n",
        "教材で使うためかもしれないが、変数宣言をはぶくために sympy.abc を使っている。\n"
      ]
    },
    {
      "cell_type": "code",
      "metadata": {
        "id": "-jBnb6Raz4eo"
      },
      "source": [
        "from sympy.abc import *\n",
        "from sympy import *\n",
        "init_printing()"
      ],
      "execution_count": null,
      "outputs": []
    },
    {
      "cell_type": "markdown",
      "metadata": {
        "id": "p1ETawdYBVDq"
      },
      "source": [
        "最初の例がいきなり積分。 それ以降は普通の四則演算。"
      ]
    },
    {
      "cell_type": "code",
      "metadata": {
        "colab": {
          "base_uri": "https://localhost:8080/",
          "height": 38
        },
        "id": "jrAHtdu-0K5_",
        "outputId": "4bb806df-376d-4b62-86d0-b24dedd83728"
      },
      "source": [
        "integrate(3*x**2, x)"
      ],
      "execution_count": null,
      "outputs": [
        {
          "output_type": "execute_result",
          "data": {
            "image/png": "[encoded data removed]",
            "text/latex": "$\\displaystyle x^{3}$",
            "text/plain": [
              " 3\n",
              "x "
            ]
          },
          "metadata": {
            "tags": []
          },
          "execution_count": 2
        }
      ]
    },
    {
      "cell_type": "code",
      "metadata": {
        "colab": {
          "base_uri": "https://localhost:8080/",
          "height": 38
        },
        "id": "eSdI5o6Z0XJ8",
        "outputId": "f843bb47-93fc-4bee-cfcd-54dc7a7aed06"
      },
      "source": [
        "eq = x**2 + 3*x + 2\n",
        "factor(eq)"
      ],
      "execution_count": null,
      "outputs": [
        {
          "output_type": "execute_result",
          "data": {
            "image/png": "[encoded data removed]",
            "text/latex": "$\\displaystyle \\left(x + 1\\right) \\left(x + 2\\right)$",
            "text/plain": [
              "(x + 1)⋅(x + 2)"
            ]
          },
          "metadata": {
            "tags": []
          },
          "execution_count": 3
        }
      ]
    },
    {
      "cell_type": "markdown",
      "metadata": {
        "id": "SpQWCiqtBedb"
      },
      "source": [
        "# 関数の定義\n",
        "\n",
        "比較的早めに関数の定義とか出てくる。 "
      ]
    },
    {
      "cell_type": "code",
      "metadata": {
        "colab": {
          "base_uri": "https://localhost:8080/",
          "height": 38
        },
        "id": "aafNrs9O0lLN",
        "outputId": "c68f423c-ec1b-43d8-9166-1ddd4de749cb"
      },
      "source": [
        "# 関数の定義\n",
        "def f(x):\n",
        "    return x**2\n",
        "f(x)"
      ],
      "execution_count": null,
      "outputs": [
        {
          "output_type": "execute_result",
          "data": {
            "image/png": "[encoded data removed]",
            "text/latex": "$\\displaystyle x^{2}$",
            "text/plain": [
              " 2\n",
              "x "
            ]
          },
          "metadata": {
            "tags": []
          },
          "execution_count": 11
        }
      ]
    },
    {
      "cell_type": "code",
      "metadata": {
        "colab": {
          "base_uri": "https://localhost:8080/",
          "height": 38
        },
        "id": "2OTZLtrW0oRd",
        "outputId": "5694b5a2-8804-4b11-f9ef-4c7c4add45c7"
      },
      "source": [
        "f(3*sqrt(A))"
      ],
      "execution_count": null,
      "outputs": [
        {
          "output_type": "execute_result",
          "data": {
            "image/png": "[encoded data removed]",
            "text/latex": "$\\displaystyle 9 A$",
            "text/plain": [
              "9⋅A"
            ]
          },
          "metadata": {
            "tags": []
          },
          "execution_count": 4
        }
      ]
    },
    {
      "cell_type": "markdown",
      "metadata": {
        "id": "NxGXVbyuB6ZA"
      },
      "source": [
        "上のは $3\\sqrt{A}$ の二乗なので $3\\sqrt{A} \\times 3\\sqrt{A} = 9 \\times (\\sqrt{A})^2 = 9A$"
      ]
    },
    {
      "cell_type": "code",
      "metadata": {
        "colab": {
          "base_uri": "https://localhost:8080/",
          "height": 38
        },
        "id": "iav361Be03Ny",
        "outputId": "e2792e4a-0f5b-4d71-c9f1-38c96d782bef"
      },
      "source": [
        "expand(f(x+a))"
      ],
      "execution_count": null,
      "outputs": [
        {
          "output_type": "execute_result",
          "data": {
            "image/png": "[encoded data removed]",
            "text/latex": "$\\displaystyle a^{2} + 2 a x + x^{2}$",
            "text/plain": [
              " 2            2\n",
              "a  + 2⋅a⋅x + x "
            ]
          },
          "metadata": {
            "tags": []
          },
          "execution_count": 6
        }
      ]
    },
    {
      "cell_type": "markdown",
      "metadata": {
        "id": "KTeE43O9DEXx"
      },
      "source": [
        "# 直前の出力結果は _ で参照できる"
      ]
    },
    {
      "cell_type": "code",
      "metadata": {
        "id": "5y4YH-VJ1t0s",
        "colab": {
          "base_uri": "https://localhost:8080/",
          "height": 39
        },
        "outputId": "735222a2-4de6-4c45-9264-340c8f4cc726"
      },
      "source": [
        "# 直前の出力結果は _ で参照できる\n",
        "factor(_)"
      ],
      "execution_count": null,
      "outputs": [
        {
          "output_type": "execute_result",
          "data": {
            "image/png": "[encoded data removed]",
            "text/latex": "$\\displaystyle \\left(a + x\\right)^{2}$",
            "text/plain": [
              "       2\n",
              "(a + x) "
            ]
          },
          "metadata": {
            "tags": []
          },
          "execution_count": 7
        }
      ]
    },
    {
      "cell_type": "code",
      "metadata": {
        "id": "BPhjbFKZ1oJD",
        "colab": {
          "base_uri": "https://localhost:8080/",
          "height": 38
        },
        "outputId": "f222c650-5e8c-4f70-d3f4-613d7c261183"
      },
      "source": [
        "expand((x - 2)**4)"
      ],
      "execution_count": null,
      "outputs": [
        {
          "output_type": "execute_result",
          "data": {
            "image/png": "[encoded data removed]",
            "text/latex": "$\\displaystyle x^{4} - 8 x^{3} + 24 x^{2} - 32 x + 16$",
            "text/plain": [
              " 4      3       2            \n",
              "x  - 8⋅x  + 24⋅x  - 32⋅x + 16"
            ]
          },
          "metadata": {
            "tags": []
          },
          "execution_count": 12
        }
      ]
    },
    {
      "cell_type": "code",
      "metadata": {
        "id": "6NUbtfwkC9A0",
        "colab": {
          "base_uri": "https://localhost:8080/",
          "height": 39
        },
        "outputId": "b9b054e4-57c2-416b-e56b-8b079f43643c"
      },
      "source": [
        "factor(_)"
      ],
      "execution_count": null,
      "outputs": [
        {
          "output_type": "execute_result",
          "data": {
            "image/png": "[encoded data removed]",
            "text/latex": "$\\displaystyle \\left(x - 2\\right)^{4}$",
            "text/plain": [
              "       4\n",
              "(x - 2) "
            ]
          },
          "metadata": {
            "tags": []
          },
          "execution_count": 13
        }
      ]
    },
    {
      "cell_type": "code",
      "metadata": {
        "id": "EE7d7nyYDBtr",
        "colab": {
          "base_uri": "https://localhost:8080/",
          "height": 38
        },
        "outputId": "674df27e-59b6-4656-a639-9a78b9a5a6c0"
      },
      "source": [
        "expand(_)"
      ],
      "execution_count": null,
      "outputs": [
        {
          "output_type": "execute_result",
          "data": {
            "image/png": "[encoded data removed]",
            "text/latex": "$\\displaystyle x^{4} - 8 x^{3} + 24 x^{2} - 32 x + 16$",
            "text/plain": [
              " 4      3       2            \n",
              "x  - 8⋅x  + 24⋅x  - 32⋅x + 16"
            ]
          },
          "metadata": {
            "tags": []
          },
          "execution_count": 14
        }
      ]
    },
    {
      "cell_type": "markdown",
      "metadata": {
        "id": "I4g_JEHzKpNT"
      },
      "source": [
        "# 代入"
      ]
    },
    {
      "cell_type": "code",
      "metadata": {
        "id": "ex2ASJQJKr17",
        "colab": {
          "base_uri": "https://localhost:8080/",
          "height": 120
        },
        "outputId": "097f619e-3f91-4e06-a551-d0340e634b11"
      },
      "source": [
        "from sympy.abc import *\n",
        "from sympy import *\n",
        "init_printing()\n",
        "c = 3*x\n",
        "display(c)\n",
        "display(c.subs(x,3))\n",
        "display(c)\n",
        "x = 3\n",
        "display(c)\n",
        "display(x)"
      ],
      "execution_count": null,
      "outputs": [
        {
          "output_type": "display_data",
          "data": {
            "image/png": "[encoded data removed]",
            "text/latex": "$\\displaystyle 3 x$",
            "text/plain": [
              "3⋅x"
            ]
          },
          "metadata": {
            "tags": []
          }
        },
        {
          "output_type": "display_data",
          "data": {
            "image/png": "[encoded data removed]",
            "text/latex": "$\\displaystyle 9$",
            "text/plain": [
              "9"
            ]
          },
          "metadata": {
            "tags": []
          }
        },
        {
          "output_type": "display_data",
          "data": {
            "image/png": "[encoded data removed]",
            "text/latex": "$\\displaystyle 3 x$",
            "text/plain": [
              "3⋅x"
            ]
          },
          "metadata": {
            "tags": []
          }
        },
        {
          "output_type": "display_data",
          "data": {
            "image/png": "[encoded data removed]",
            "text/latex": "$\\displaystyle 3 x$",
            "text/plain": [
              "3⋅x"
            ]
          },
          "metadata": {
            "tags": []
          }
        },
        {
          "output_type": "display_data",
          "data": {
            "image/png": "[encoded data removed]",
            "text/latex": "$\\displaystyle 3$",
            "text/plain": [
              "3"
            ]
          },
          "metadata": {
            "tags": []
          }
        }
      ]
    },
    {
      "cell_type": "code",
      "metadata": {
        "id": "sXd-6X7_Sjon",
        "colab": {
          "base_uri": "https://localhost:8080/",
          "height": 99
        },
        "outputId": "0f1bc5eb-83ab-420e-fe51-991cad8c1935"
      },
      "source": [
        "# f(g(x)) について考える\n",
        "from sympy.abc import *\n",
        "from sympy import *\n",
        "init_printing()\n",
        "# 実験\n",
        "def g(x) : return x**2\n",
        "\n",
        "display(g(x))\n",
        "display(g(3))\n",
        "\n",
        "def f(x1) : return (g(x)).subs(x,x1)\n",
        "\n",
        "display(f(y))\n",
        "display(f(3))"
      ],
      "execution_count": null,
      "outputs": [
        {
          "output_type": "display_data",
          "data": {
            "image/png": "[encoded data removed]",
            "text/latex": "$\\displaystyle x^{2}$",
            "text/plain": [
              " 2\n",
              "x "
            ]
          },
          "metadata": {
            "tags": []
          }
        },
        {
          "output_type": "display_data",
          "data": {
            "image/png": "[encoded data removed]",
            "text/latex": "$\\displaystyle 9$",
            "text/plain": [
              "9"
            ]
          },
          "metadata": {
            "tags": []
          }
        },
        {
          "output_type": "display_data",
          "data": {
            "image/png": "[encoded data removed]",
            "text/latex": "$\\displaystyle y^{2}$",
            "text/plain": [
              " 2\n",
              "y "
            ]
          },
          "metadata": {
            "tags": []
          }
        },
        {
          "output_type": "display_data",
          "data": {
            "image/png": "[encoded data removed]",
            "text/latex": "$\\displaystyle 9$",
            "text/plain": [
              "9"
            ]
          },
          "metadata": {
            "tags": []
          }
        }
      ]
    },
    {
      "cell_type": "code",
      "metadata": {
        "id": "fKC-Sf1rURQ7",
        "colab": {
          "base_uri": "https://localhost:8080/",
          "height": 79
        },
        "outputId": "129e1964-c29b-4014-97d5-ead04f8010fa"
      },
      "source": [
        "def g(x):\n",
        "    return diff(x*cos(x), x)\n",
        "\n",
        "display(g(x))\n",
        "# display(g(1)) #=> エラーになる\n",
        "\n",
        "def g(x1):\n",
        "    return diff(x*cos(x), x).subs(x,x1)\n",
        "\n",
        "display(g(x))\n",
        "display(g(1))"
      ],
      "execution_count": null,
      "outputs": [
        {
          "output_type": "display_data",
          "data": {
            "image/png": "[encoded data removed]",
            "text/latex": "$\\displaystyle - x \\sin{\\left(x \\right)} + \\cos{\\left(x \\right)}$",
            "text/plain": [
              "-x⋅sin(x) + cos(x)"
            ]
          },
          "metadata": {
            "tags": []
          }
        },
        {
          "output_type": "display_data",
          "data": {
            "image/png": "[encoded data removed]",
            "text/latex": "$\\displaystyle - x \\sin{\\left(x \\right)} + \\cos{\\left(x \\right)}$",
            "text/plain": [
              "-x⋅sin(x) + cos(x)"
            ]
          },
          "metadata": {
            "tags": []
          }
        },
        {
          "output_type": "display_data",
          "data": {
            "image/png": "[encoded data removed]",
            "text/latex": "$\\displaystyle - \\sin{\\left(1 \\right)} + \\cos{\\left(1 \\right)}$",
            "text/plain": [
              "-sin(1) + cos(1)"
            ]
          },
          "metadata": {
            "tags": []
          }
        }
      ]
    },
    {
      "cell_type": "code",
      "metadata": {
        "id": "DSGDloQOVHWN",
        "colab": {
          "base_uri": "https://localhost:8080/",
          "height": 223
        },
        "outputId": "48d6de26-bb0e-4dd9-ebba-eeae447ee235"
      },
      "source": [
        "from sympy.abc import *\n",
        "from sympy import *\n",
        "init_printing()\n",
        "def f(x):\n",
        "    return x*cos(x)\n",
        "\n",
        "def df(x1):\n",
        "    return diff(f(x), x).subs(x,x1)\n",
        "display(f(x))\n",
        "display(df(x))\n",
        "display(integrate(df(x), x) == f(x))\n",
        "display(Derivative(f(x)))\n",
        "display(Integral(df(x)))\n",
        "display(Eq(Derivative(f(x)),df(x)))\n",
        "display(Eq(Integral(df(x)),f(x)))\n"
      ],
      "execution_count": null,
      "outputs": [
        {
          "output_type": "display_data",
          "data": {
            "image/png": "[encoded data removed]",
            "text/latex": "$\\displaystyle x \\cos{\\left(x \\right)}$",
            "text/plain": [
              "x⋅cos(x)"
            ]
          },
          "metadata": {
            "tags": []
          }
        },
        {
          "output_type": "display_data",
          "data": {
            "image/png": "[encoded data removed]",
            "text/latex": "$\\displaystyle - x \\sin{\\left(x \\right)} + \\cos{\\left(x \\right)}$",
            "text/plain": [
              "-x⋅sin(x) + cos(x)"
            ]
          },
          "metadata": {
            "tags": []
          }
        },
        {
          "output_type": "display_data",
          "data": {
            "text/plain": [
              "True"
            ]
          },
          "metadata": {
            "tags": []
          }
        },
        {
          "output_type": "display_data",
          "data": {
            "image/png": "[encoded data removed]",
            "text/latex": "$\\displaystyle \\frac{d}{d x} x \\cos{\\left(x \\right)}$",
            "text/plain": [
              "d           \n",
              "──(x⋅cos(x))\n",
              "dx          "
            ]
          },
          "metadata": {
            "tags": []
          }
        },
        {
          "output_type": "display_data",
          "data": {
            "image/png": "[encoded data removed]",
            "text/latex": "$\\displaystyle \\int \\left(- x \\sin{\\left(x \\right)} + \\cos{\\left(x \\right)}\\right)\\, dx$",
            "text/plain": [
              "⌠                        \n",
              "⎮ (-x⋅sin(x) + cos(x)) dx\n",
              "⌡                        "
            ]
          },
          "metadata": {
            "tags": []
          }
        },
        {
          "output_type": "display_data",
          "data": {
            "image/png": "[encoded data removed]",
            "text/latex": "$\\displaystyle \\frac{d}{d x} x \\cos{\\left(x \\right)} = - x \\sin{\\left(x \\right)} + \\cos{\\left(x \\right)}$",
            "text/plain": [
              "d                                \n",
              "──(x⋅cos(x)) = -x⋅sin(x) + cos(x)\n",
              "dx                               "
            ]
          },
          "metadata": {
            "tags": []
          }
        },
        {
          "output_type": "display_data",
          "data": {
            "image/png": "[encoded data removed]",
            "text/latex": "$\\displaystyle \\int \\left(- x \\sin{\\left(x \\right)} + \\cos{\\left(x \\right)}\\right)\\, dx = x \\cos{\\left(x \\right)}$",
            "text/plain": [
              "⌠                                   \n",
              "⎮ (-x⋅sin(x) + cos(x)) dx = x⋅cos(x)\n",
              "⌡                                   "
            ]
          },
          "metadata": {
            "tags": []
          }
        }
      ]
    },
    {
      "cell_type": "code",
      "metadata": {
        "id": "dzkMRItAVI2x",
        "colab": {
          "base_uri": "https://localhost:8080/",
          "height": 220
        },
        "outputId": "403e2ca2-54aa-4024-a924-5246553ae4e5"
      },
      "source": [
        "display([1,2,3,4,5,6,7,8,9])\n",
        "display(sum([1,2,3,4,5,6,7,8,9]))\n",
        "display((n*(n-1)/2))\n",
        "display((n*(n-1)/2).subs(n, 10))\n",
        "display(Sum(k,(k,1,m)))\n",
        "display((Sum(k,(k,1,m)).doit()))\n",
        "display((Sum(k,(k,1,m)).doit()).subs(m,9))"
      ],
      "execution_count": null,
      "outputs": [
        {
          "output_type": "display_data",
          "data": {
            "image/png": "[encoded data removed]",
            "text/latex": "$\\displaystyle \\left[ 1, \\  2, \\  3, \\  4, \\  5, \\  6, \\  7, \\  8, \\  9\\right]$",
            "text/plain": [
              "[1, 2, 3, 4, 5, 6, 7, 8, 9]"
            ]
          },
          "metadata": {
            "tags": []
          }
        },
        {
          "output_type": "display_data",
          "data": {
            "image/png": "[encoded data removed]",
            "text/latex": "$\\displaystyle 45$",
            "text/plain": [
              "45"
            ]
          },
          "metadata": {
            "tags": []
          }
        },
        {
          "output_type": "display_data",
          "data": {
            "image/png": "[encoded data removed]",
            "text/latex": "$\\displaystyle \\frac{n \\left(n - 1\\right)}{2}$",
            "text/plain": [
              "n⋅(n - 1)\n",
              "─────────\n",
              "    2    "
            ]
          },
          "metadata": {
            "tags": []
          }
        },
        {
          "output_type": "display_data",
          "data": {
            "image/png": "[encoded data removed]",
            "text/latex": "$\\displaystyle 45$",
            "text/plain": [
              "45"
            ]
          },
          "metadata": {
            "tags": []
          }
        },
        {
          "output_type": "display_data",
          "data": {
            "image/png": "[encoded data removed]",
            "text/latex": "$\\displaystyle \\sum_{k=1}^{m} k$",
            "text/plain": [
              "  m    \n",
              " ___   \n",
              " ╲     \n",
              "  ╲    \n",
              "  ╱   k\n",
              " ╱     \n",
              " ‾‾‾   \n",
              "k = 1  "
            ]
          },
          "metadata": {
            "tags": []
          }
        },
        {
          "output_type": "display_data",
          "data": {
            "image/png": "[encoded data removed]",
            "text/latex": "$\\displaystyle \\frac{m^{2}}{2} + \\frac{m}{2}$",
            "text/plain": [
              " 2    \n",
              "m    m\n",
              "── + ─\n",
              "2    2"
            ]
          },
          "metadata": {
            "tags": []
          }
        },
        {
          "output_type": "display_data",
          "data": {
            "image/png": "[encoded data removed]",
            "text/latex": "$\\displaystyle 45$",
            "text/plain": [
              "45"
            ]
          },
          "metadata": {
            "tags": []
          }
        }
      ]
    },
    {
      "cell_type": "code",
      "metadata": {
        "id": "tDBRZ3Qv7H1S",
        "colab": {
          "base_uri": "https://localhost:8080/",
          "height": 54
        },
        "outputId": "2369e116-b7d6-46ed-c715-2fd059d508f6"
      },
      "source": [
        "display(range(10))\n",
        "display(list(range(10)))"
      ],
      "execution_count": null,
      "outputs": [
        {
          "output_type": "display_data",
          "data": {
            "text/plain": [
              "range(0, 10)"
            ]
          },
          "metadata": {
            "tags": []
          }
        },
        {
          "output_type": "display_data",
          "data": {
            "image/png": "[encoded data removed]",
            "text/latex": "$\\displaystyle \\left[ 0, \\  1, \\  2, \\  3, \\  4, \\  5, \\  6, \\  7, \\  8, \\  9\\right]$",
            "text/plain": [
              "[0, 1, 2, 3, 4, 5, 6, 7, 8, 9]"
            ]
          },
          "metadata": {
            "tags": []
          }
        }
      ]
    },
    {
      "cell_type": "code",
      "metadata": {
        "id": "CvRczqFg7iyg",
        "colab": {
          "base_uri": "https://localhost:8080/",
          "height": 96
        },
        "outputId": "8e803aef-8739-4b2b-de9d-1ddadc8da921"
      },
      "source": [
        "# 階乗 ! は factorial()\n",
        "display(factorial(4))\n",
        "# 階乗 ! factorial(x) を数式で表す方法がわからない\n",
        "# 階乗のいろいろ \n",
        "display(factorial2(5))\n",
        "display(factorial2(6))\n",
        "factorial(factorial(3))"
      ],
      "execution_count": null,
      "outputs": [
        {
          "output_type": "display_data",
          "data": {
            "image/png": "[encoded data removed]",
            "text/latex": "$\\displaystyle 24$",
            "text/plain": [
              "24"
            ]
          },
          "metadata": {
            "tags": []
          }
        },
        {
          "output_type": "display_data",
          "data": {
            "image/png": "[encoded data removed]",
            "text/latex": "$\\displaystyle 15$",
            "text/plain": [
              "15"
            ]
          },
          "metadata": {
            "tags": []
          }
        },
        {
          "output_type": "display_data",
          "data": {
            "image/png": "[encoded data removed]",
            "text/latex": "$\\displaystyle 48$",
            "text/plain": [
              "48"
            ]
          },
          "metadata": {
            "tags": []
          }
        },
        {
          "output_type": "execute_result",
          "data": {
            "image/png": "[encoded data removed]",
            "text/latex": "$\\displaystyle 720$",
            "text/plain": [
              "720"
            ]
          },
          "metadata": {
            "tags": []
          },
          "execution_count": 78
        }
      ]
    },
    {
      "cell_type": "markdown",
      "metadata": {
        "id": "blPMx_Hs882_"
      },
      "source": [
        "**問題**\n",
        "\n",
        "$3,2,1$ で作る最大の数を求める。 階乗や冪乗をつかってもよい。"
      ]
    },
    {
      "cell_type": "code",
      "metadata": {
        "id": "iia4nzfV87w3",
        "colab": {
          "base_uri": "https://localhost:8080/"
        },
        "outputId": "882d26a3-a787-48dd-bb6e-19c0051d7425"
      },
      "source": [
        "a = factorial(321)\n",
        "b = 21**3\n",
        "c = 31**2\n",
        "d = 2**31\n",
        "e = 3**21\n",
        "print((e > b) & (e > c) &(e > d))\n",
        "print(a > e)"
      ],
      "execution_count": null,
      "outputs": [
        {
          "output_type": "stream",
          "text": [
            "True\n",
            "True\n"
          ],
          "name": "stdout"
        }
      ]
    },
    {
      "cell_type": "code",
      "metadata": {
        "id": "n0_n2Gqz-wIl",
        "colab": {
          "base_uri": "https://localhost:8080/",
          "height": 331
        },
        "outputId": "b802359c-411f-442f-841f-ece0a31b89b6"
      },
      "source": [
        "from sympy import *\n",
        "from sympy.abc import *\n",
        "# print(float(pi)) #=> エラー。 sympy のあとに sympy.abc を import するとエラーになる"
      ],
      "execution_count": null,
      "outputs": [
        {
          "output_type": "error",
          "ename": "TypeError",
          "evalue": "ignored",
          "traceback": [
            "\u001b[0;31m---------------------------------------------------------------------------\u001b[0m",
            "\u001b[0;31mTypeError\u001b[0m                                 Traceback (most recent call last)",
            "\u001b[0;32m<ipython-input-15-80c06deedb21>\u001b[0m in \u001b[0;36m<module>\u001b[0;34m()\u001b[0m\n\u001b[1;32m      1\u001b[0m \u001b[0;32mfrom\u001b[0m \u001b[0msympy\u001b[0m \u001b[0;32mimport\u001b[0m \u001b[0;34m*\u001b[0m\u001b[0;34m\u001b[0m\u001b[0;34m\u001b[0m\u001b[0m\n\u001b[1;32m      2\u001b[0m \u001b[0;32mfrom\u001b[0m \u001b[0msympy\u001b[0m\u001b[0;34m.\u001b[0m\u001b[0mabc\u001b[0m \u001b[0;32mimport\u001b[0m \u001b[0;34m*\u001b[0m\u001b[0;34m\u001b[0m\u001b[0;34m\u001b[0m\u001b[0m\n\u001b[0;32m----> 3\u001b[0;31m \u001b[0mprint\u001b[0m\u001b[0;34m(\u001b[0m\u001b[0mfloat\u001b[0m\u001b[0;34m(\u001b[0m\u001b[0mpi\u001b[0m\u001b[0;34m)\u001b[0m\u001b[0;34m)\u001b[0m\u001b[0;34m\u001b[0m\u001b[0;34m\u001b[0m\u001b[0m\n\u001b[0m",
            "\u001b[0;32m/usr/local/lib/python3.7/dist-packages/sympy/core/expr.py\u001b[0m in \u001b[0;36m__float__\u001b[0;34m(self)\u001b[0m\n\u001b[1;32m    348\u001b[0m         \u001b[0;32mif\u001b[0m \u001b[0mresult\u001b[0m\u001b[0;34m.\u001b[0m\u001b[0mis_number\u001b[0m \u001b[0;32mand\u001b[0m \u001b[0mresult\u001b[0m\u001b[0;34m.\u001b[0m\u001b[0mas_real_imag\u001b[0m\u001b[0;34m(\u001b[0m\u001b[0;34m)\u001b[0m\u001b[0;34m[\u001b[0m\u001b[0;36m1\u001b[0m\u001b[0;34m]\u001b[0m\u001b[0;34m:\u001b[0m\u001b[0;34m\u001b[0m\u001b[0;34m\u001b[0m\u001b[0m\n\u001b[1;32m    349\u001b[0m             \u001b[0;32mraise\u001b[0m \u001b[0mTypeError\u001b[0m\u001b[0;34m(\u001b[0m\u001b[0;34m\"can't convert complex to float\"\u001b[0m\u001b[0;34m)\u001b[0m\u001b[0;34m\u001b[0m\u001b[0;34m\u001b[0m\u001b[0m\n\u001b[0;32m--> 350\u001b[0;31m         \u001b[0;32mraise\u001b[0m \u001b[0mTypeError\u001b[0m\u001b[0;34m(\u001b[0m\u001b[0;34m\"can't convert expression to float\"\u001b[0m\u001b[0;34m)\u001b[0m\u001b[0;34m\u001b[0m\u001b[0;34m\u001b[0m\u001b[0m\n\u001b[0m\u001b[1;32m    351\u001b[0m \u001b[0;34m\u001b[0m\u001b[0m\n\u001b[1;32m    352\u001b[0m     \u001b[0;32mdef\u001b[0m \u001b[0m__complex__\u001b[0m\u001b[0;34m(\u001b[0m\u001b[0mself\u001b[0m\u001b[0;34m)\u001b[0m\u001b[0;34m:\u001b[0m\u001b[0;34m\u001b[0m\u001b[0;34m\u001b[0m\u001b[0m\n",
            "\u001b[0;31mTypeError\u001b[0m: can't convert expression to float"
          ]
        }
      ]
    },
    {
      "cell_type": "code",
      "metadata": {
        "id": "D3NQRBKSTixX",
        "colab": {
          "base_uri": "https://localhost:8080/",
          "height": 216
        },
        "outputId": "a7cc7327-c11c-4a99-89df-994a22d63d88"
      },
      "source": [
        "import sympy.abc\n",
        "print(len(dir(sympy.abc)))\n",
        "import sympy\n",
        "print(len(dir(sympy)))\n",
        "from sympy import *\n",
        "display(pi,oo,E,I)\n",
        "display(exp(1), i, e)"
      ],
      "execution_count": null,
      "outputs": [
        {
          "output_type": "stream",
          "text": [
            "97\n",
            "916\n"
          ],
          "name": "stdout"
        },
        {
          "output_type": "display_data",
          "data": {
            "text/latex": "$\\displaystyle \\pi$",
            "text/plain": [
              "pi"
            ]
          },
          "metadata": {
            "tags": []
          }
        },
        {
          "output_type": "display_data",
          "data": {
            "text/latex": "$\\displaystyle \\infty$",
            "text/plain": [
              "oo"
            ]
          },
          "metadata": {
            "tags": []
          }
        },
        {
          "output_type": "display_data",
          "data": {
            "text/latex": "$\\displaystyle e$",
            "text/plain": [
              "E"
            ]
          },
          "metadata": {
            "tags": []
          }
        },
        {
          "output_type": "display_data",
          "data": {
            "text/latex": "$\\displaystyle i$",
            "text/plain": [
              "I"
            ]
          },
          "metadata": {
            "tags": []
          }
        },
        {
          "output_type": "display_data",
          "data": {
            "text/latex": "$\\displaystyle e$",
            "text/plain": [
              "E"
            ]
          },
          "metadata": {
            "tags": []
          }
        },
        {
          "output_type": "display_data",
          "data": {
            "text/latex": "$\\displaystyle i$",
            "text/plain": [
              "i"
            ]
          },
          "metadata": {
            "tags": []
          }
        },
        {
          "output_type": "display_data",
          "data": {
            "text/latex": "$\\displaystyle e$",
            "text/plain": [
              "e"
            ]
          },
          "metadata": {
            "tags": []
          }
        },
        {
          "output_type": "stream",
          "text": [
            "i**2\n"
          ],
          "name": "stdout"
        }
      ]
    },
    {
      "cell_type": "code",
      "metadata": {
        "id": "neUsGRHOWsU-",
        "colab": {
          "base_uri": "https://localhost:8080/",
          "height": 58
        },
        "outputId": "c5641244-4bb0-461d-e90e-347242050be7"
      },
      "source": [
        "# オイラーの等式\n",
        "display(e**(i*pi))\n",
        "display(Eq(e**(i*pi), -1))"
      ],
      "execution_count": null,
      "outputs": [
        {
          "output_type": "display_data",
          "data": {
            "text/latex": "$\\displaystyle e^{\\pi i}$",
            "text/plain": [
              "e**(pi*i)"
            ]
          },
          "metadata": {
            "tags": []
          }
        },
        {
          "output_type": "display_data",
          "data": {
            "text/latex": "$\\displaystyle e^{\\pi i} = -1$",
            "text/plain": [
              "Eq(e**(pi*i), -1)"
            ]
          },
          "metadata": {
            "tags": []
          }
        }
      ]
    },
    {
      "cell_type": "code",
      "metadata": {
        "id": "G7vhnHC4XOV1",
        "colab": {
          "base_uri": "https://localhost:8080/",
          "height": 37
        },
        "outputId": "1e138adc-a090-4f53-af90-fc653f310978"
      },
      "source": [
        "x = symbols('x', real=True)\n",
        "sqrt(x**2)"
      ],
      "execution_count": null,
      "outputs": [
        {
          "output_type": "execute_result",
          "data": {
            "text/latex": "$\\displaystyle \\left|{x}\\right|$",
            "text/plain": [
              "Abs(x)"
            ]
          },
          "metadata": {
            "tags": []
          },
          "execution_count": 33
        }
      ]
    },
    {
      "cell_type": "code",
      "metadata": {
        "id": "GH-Rhu7_Xbcr",
        "colab": {
          "base_uri": "https://localhost:8080/",
          "height": 38
        },
        "outputId": "48e4a351-2c9e-4d7e-b4b2-d8537feac006"
      },
      "source": [
        "sqrt(y**2)"
      ],
      "execution_count": null,
      "outputs": [
        {
          "output_type": "execute_result",
          "data": {
            "text/latex": "$\\displaystyle \\sqrt{y^{2}}$",
            "text/plain": [
              "sqrt(y**2)"
            ]
          },
          "metadata": {
            "tags": []
          },
          "execution_count": 34
        }
      ]
    },
    {
      "cell_type": "code",
      "metadata": {
        "id": "gRqeoZ3rXfk4",
        "colab": {
          "base_uri": "https://localhost:8080/"
        },
        "outputId": "759a67f0-5f8e-42d3-e22c-6be335a95bce"
      },
      "source": [
        "solve(sqrt(y**2-1),y)"
      ],
      "execution_count": null,
      "outputs": [
        {
          "output_type": "execute_result",
          "data": {
            "text/plain": [
              "[-1, 1]"
            ]
          },
          "metadata": {
            "tags": []
          },
          "execution_count": 37
        }
      ]
    },
    {
      "cell_type": "code",
      "metadata": {
        "id": "16UY3KKOXxqu",
        "colab": {
          "base_uri": "https://localhost:8080/",
          "height": 36
        },
        "outputId": "6ec23b11-74a1-4e63-d93a-791876efc8c1"
      },
      "source": [
        "sqrt(3**2 + 4**2)"
      ],
      "execution_count": null,
      "outputs": [
        {
          "output_type": "execute_result",
          "data": {
            "text/latex": "$\\displaystyle 5$",
            "text/plain": [
              "5"
            ]
          },
          "metadata": {
            "tags": []
          },
          "execution_count": 38
        }
      ]
    },
    {
      "cell_type": "code",
      "metadata": {
        "id": "y6Z8Z5ZKX4_y",
        "colab": {
          "base_uri": "https://localhost:8080/",
          "height": 36
        },
        "outputId": "4b9e8675-2e86-45d3-8ddb-97a1c1f6acd9"
      },
      "source": [
        "# exp(1) = e^1 = e = E\n",
        "exp(1) - E"
      ],
      "execution_count": null,
      "outputs": [
        {
          "output_type": "execute_result",
          "data": {
            "text/latex": "$\\displaystyle 0$",
            "text/plain": [
              "0"
            ]
          },
          "metadata": {
            "tags": []
          },
          "execution_count": 39
        }
      ]
    },
    {
      "cell_type": "code",
      "metadata": {
        "id": "MdLlCCibYGEi",
        "colab": {
          "base_uri": "https://localhost:8080/",
          "height": 37
        },
        "outputId": "a4f40ad6-11dd-4b4b-f891-d80aa077dd65"
      },
      "source": [
        "# e^{ln a} = a\n",
        "a = symbols('a')\n",
        "exp(log(a))"
      ],
      "execution_count": null,
      "outputs": [
        {
          "output_type": "execute_result",
          "data": {
            "text/latex": "$\\displaystyle a$",
            "text/plain": [
              "a"
            ]
          },
          "metadata": {
            "tags": []
          },
          "execution_count": 40
        }
      ]
    },
    {
      "cell_type": "code",
      "metadata": {
        "id": "D8SSMVoYYUi-",
        "colab": {
          "base_uri": "https://localhost:8080/",
          "height": 36
        },
        "outputId": "785e7020-fbb5-4573-a76c-c9f36d5891df"
      },
      "source": [
        "log(E**2)"
      ],
      "execution_count": null,
      "outputs": [
        {
          "output_type": "execute_result",
          "data": {
            "text/latex": "$\\displaystyle 2$",
            "text/plain": [
              "2"
            ]
          },
          "metadata": {
            "tags": []
          },
          "execution_count": 41
        }
      ]
    },
    {
      "cell_type": "markdown",
      "metadata": {
        "id": "mlM1ZezCYa0m"
      },
      "source": [
        "**練習** ピタゴラス数\n",
        "\n",
        "$a^2+b^2=c^2$ を満たす正の整数の組をピタゴラス数という。\n",
        "\n",
        "ピタゴラス数は 2つの任意の正の整数 $m,n$ から以下のようにして何組でもつくることができる。\n",
        "\n",
        "$\\quad a=|m^2-n^2|,\\quad b=2mn,\\quad c=\\sqrt{a^2+b^2}$\n",
        "\n",
        "このとき、$c$ は (平方根をとるにもかかわらず) 必ず整数になることを示す。\n",
        "\n"
      ]
    },
    {
      "cell_type": "code",
      "metadata": {
        "id": "RNtwvPazYY8E",
        "colab": {
          "base_uri": "https://localhost:8080/",
          "height": 151
        },
        "outputId": "a527384f-1835-48fe-f508-f6171ef9434a"
      },
      "source": [
        "# 実験\n",
        "from sympy.abc import *\n",
        "from sympy import *\n",
        "import random\n",
        "init_printing()\n",
        "m,n = symbols('m,n')\n",
        "a = abs(m**2-n**2)\n",
        "b = 2*m*n\n",
        "c = sqrt(a**2+b**2)\n",
        "display (a)\n",
        "display (b)\n",
        "display (c)\n",
        "\n",
        "display(c.subs([(m,random.randint(1,100)), (n,random.randint(1,100))]))\n",
        "display(c.subs([(m,random.randint(1,100)), (n,random.randint(1,100))]))\n",
        "display(c.subs([(m,random.randint(1,100)), (n,random.randint(1,100))]))\n"
      ],
      "execution_count": null,
      "outputs": [
        {
          "output_type": "display_data",
          "data": {
            "image/png": "[encoded data removed]",
            "text/latex": "$\\displaystyle \\left|{m^{2} - n^{2}}\\right|$",
            "text/plain": [
              "│ 2    2│\n",
              "│m  - n │"
            ]
          },
          "metadata": {
            "tags": []
          }
        },
        {
          "output_type": "display_data",
          "data": {
            "image/png": "[encoded data removed]",
            "text/latex": "$\\displaystyle 2 m n$",
            "text/plain": [
              "2⋅m⋅n"
            ]
          },
          "metadata": {
            "tags": []
          }
        },
        {
          "output_type": "display_data",
          "data": {
            "image/png": "[encoded data removed]",
            "text/latex": "$\\displaystyle \\sqrt{4 m^{2} n^{2} + \\left|{m^{2} - n^{2}}\\right|^{2}}$",
            "text/plain": [
              "    ______________________\n",
              "   ╱                    2 \n",
              "  ╱     2  2   │ 2    2│  \n",
              "╲╱   4⋅m ⋅n  + │m  - n │  "
            ]
          },
          "metadata": {
            "tags": []
          }
        },
        {
          "output_type": "display_data",
          "data": {
            "image/png": "[encoded data removed]",
            "text/latex": "$\\displaystyle 2644$",
            "text/plain": [
              "2644"
            ]
          },
          "metadata": {
            "tags": []
          }
        },
        {
          "output_type": "display_data",
          "data": {
            "image/png": "[encoded data removed]",
            "text/latex": "$\\displaystyle 11826$",
            "text/plain": [
              "11826"
            ]
          },
          "metadata": {
            "tags": []
          }
        },
        {
          "output_type": "display_data",
          "data": {
            "image/png": "[encoded data removed]",
            "text/latex": "$\\displaystyle 7474$",
            "text/plain": [
              "7474"
            ]
          },
          "metadata": {
            "tags": []
          }
        }
      ]
    },
    {
      "cell_type": "code",
      "metadata": {
        "id": "1W1YK6YdIgBG",
        "colab": {
          "base_uri": "https://localhost:8080/"
        },
        "outputId": "ee7debb5-d4b6-4626-d481-54ebbec2c4fd"
      },
      "source": [
        "2*5*3"
      ],
      "execution_count": null,
      "outputs": [
        {
          "output_type": "execute_result",
          "data": {
            "text/plain": [
              "30"
            ]
          },
          "metadata": {
            "tags": []
          },
          "execution_count": 2
        }
      ]
    },
    {
      "cell_type": "code",
      "metadata": {
        "id": "gwneGySAIlwr",
        "colab": {
          "base_uri": "https://localhost:8080/",
          "height": 36
        },
        "outputId": "e01b47e8-25e5-46e1-e624-cf8bf07dad9c"
      },
      "source": [
        "from sympy import *\n",
        "sqrt(16**2 + 30**2)"
      ],
      "execution_count": null,
      "outputs": [
        {
          "output_type": "execute_result",
          "data": {
            "text/latex": "$\\displaystyle 34$",
            "text/plain": [
              "34"
            ]
          },
          "metadata": {
            "tags": []
          },
          "execution_count": 6
        }
      ]
    },
    {
      "cell_type": "code",
      "metadata": {
        "id": "xAQudEB-Lfsj",
        "colab": {
          "base_uri": "https://localhost:8080/",
          "height": 112
        },
        "outputId": "c103d666-aed2-4b3d-ce35-dbbfabe362cf"
      },
      "source": [
        "# 証明\n",
        "display (Eq(a**2,(m**4 -2*m**2*n**2+n**4)))\n",
        "display (Eq((a**2+b**2) ,(m**4+2*m**2*n**2+n**4)))\n",
        "display (Eq((m**4+2*m**2*n**2+n**4), (m**2+n**2)**2))\n",
        "display (Eq(sqrt(m**4+2*m**2*n**2+n**4), (m**2+n**2)))\n"
      ],
      "execution_count": null,
      "outputs": [
        {
          "output_type": "display_data",
          "data": {
            "image/png": "[encoded data removed]",
            "text/latex": "$\\displaystyle \\left|{m^{2} - n^{2}}\\right|^{2} = m^{4} - 2 m^{2} n^{2} + n^{4}$",
            "text/plain": [
              "         2                    \n",
              "│ 2    2│     4      2  2    4\n",
              "│m  - n │  = m  - 2⋅m ⋅n  + n "
            ]
          },
          "metadata": {
            "tags": []
          }
        },
        {
          "output_type": "display_data",
          "data": {
            "image/png": "[encoded data removed]",
            "text/latex": "$\\displaystyle 4 m^{2} n^{2} + \\left|{m^{2} - n^{2}}\\right|^{2} = m^{4} + 2 m^{2} n^{2} + n^{4}$",
            "text/plain": [
              "                   2                    \n",
              "   2  2   │ 2    2│     4      2  2    4\n",
              "4⋅m ⋅n  + │m  - n │  = m  + 2⋅m ⋅n  + n "
            ]
          },
          "metadata": {
            "tags": []
          }
        },
        {
          "output_type": "display_data",
          "data": {
            "image/png": "[encoded data removed]",
            "text/latex": "$\\displaystyle m^{4} + 2 m^{2} n^{2} + n^{4} = \\left(m^{2} + n^{2}\\right)^{2}$",
            "text/plain": [
              "                             2\n",
              " 4      2  2    4   ⎛ 2    2⎞ \n",
              "m  + 2⋅m ⋅n  + n  = ⎝m  + n ⎠ "
            ]
          },
          "metadata": {
            "tags": []
          }
        },
        {
          "output_type": "display_data",
          "data": {
            "image/png": "[encoded data removed]",
            "text/latex": "$\\displaystyle \\sqrt{m^{4} + 2 m^{2} n^{2} + n^{4}} = m^{2} + n^{2}$",
            "text/plain": [
              "   ___________________          \n",
              "  ╱  4      2  2    4     2    2\n",
              "╲╱  m  + 2⋅m ⋅n  + n   = m  + n "
            ]
          },
          "metadata": {
            "tags": []
          }
        }
      ]
    },
    {
      "cell_type": "code",
      "metadata": {
        "id": "ibU1wf2ZNZzH",
        "colab": {
          "base_uri": "https://localhost:8080/",
          "height": 36
        },
        "outputId": "bfeb9e51-a786-42ad-c9b8-eacd8188ee36"
      },
      "source": [
        "random.random()"
      ],
      "execution_count": null,
      "outputs": [
        {
          "output_type": "execute_result",
          "data": {
            "image/png": "[encoded data removed]",
            "text/latex": "$\\displaystyle 0.313871968270211$",
            "text/plain": [
              "0.313871968270211"
            ]
          },
          "metadata": {
            "tags": []
          },
          "execution_count": 25
        }
      ]
    },
    {
      "cell_type": "markdown",
      "metadata": {
        "id": "6-5Fw-EYNhpp"
      },
      "source": [
        "**練習** 星の明るさと等級\n",
        "\n",
        "夜空に見える星の見かけの明るさ $L$ は等級 $m$ で表され、以下のような関係がある。\n",
        "\n",
        "$\\quad m = -2.5 \\log_{10} L + 定数$\n",
        "\n",
        "1等星と 6等星ではどちらの方が何倍明るいか"
      ]
    },
    {
      "cell_type": "markdown",
      "metadata": {
        "id": "Row-Ce8DOL3n"
      },
      "source": [
        "**(ヒント)**\n",
        "\n",
        "1等星と 6等星の見かけの明るさをそれぞれ、$L_1, L_6$ とすると\n",
        "\n",
        "$1=-2.5 \\log_{10} L_1 + 定数, \\quad$\n",
        "$6=-2.5 \\log_{10} L_6 + 定数$\n",
        "\n",
        "両辺を引くと、\n",
        "\n",
        "$1-6 = -2.5(\\log_{10}L_1-\\log_{10}L_6)$\n",
        "\n",
        "$\\displaystyle log_{10} \\frac{L_1}{L_6}=\\frac{-5}{-2.5}=2$"
      ]
    },
    {
      "cell_type": "code",
      "metadata": {
        "colab": {
          "base_uri": "https://localhost:8080/",
          "height": 36
        },
        "id": "R1_aoojrE3Rn",
        "outputId": "f6c39753-5b1e-439a-b981-e1c7d418cb8d"
      },
      "source": [
        "from sympy.abc import *\n",
        "from sympy import *\n",
        "from sympy.codegen.cfunctions import log10\n",
        "log10(100)"
      ],
      "execution_count": null,
      "outputs": [
        {
          "output_type": "execute_result",
          "data": {
            "text/latex": "$\\displaystyle 2$",
            "text/plain": [
              "2"
            ]
          },
          "metadata": {
            "tags": []
          },
          "execution_count": 3
        }
      ]
    },
    {
      "cell_type": "markdown",
      "metadata": {
        "id": "3HqnCQXfFQi0"
      },
      "source": [
        "**解答**\n",
        "\n",
        "1 等星の方が 6等星の100倍明るい。"
      ]
    },
    {
      "cell_type": "markdown",
      "metadata": {
        "id": "fNnOHeL_b9pj"
      },
      "source": [
        "# 三角関数の値"
      ]
    },
    {
      "cell_type": "code",
      "metadata": {
        "colab": {
          "base_uri": "https://localhost:8080/",
          "height": 162
        },
        "id": "k0cxDmtBcA7P",
        "outputId": "8376ff4c-04b1-4c32-fb39-efa2a016762f"
      },
      "source": [
        "from sympy.abc import *\n",
        "from sympy import *\n",
        "display(sin(pi/3))\n",
        "display(pi/3)\n",
        "display(float(sin(pi/3)))\n",
        "Pi=float(pi)\n",
        "display(sin(Pi/3))\n",
        "display(sin(Rational(60,180)*pi))\n"
      ],
      "execution_count": null,
      "outputs": [
        {
          "output_type": "display_data",
          "data": {
            "text/latex": "$\\displaystyle \\frac{\\sqrt{3}}{2}$",
            "text/plain": [
              "sqrt(3)/2"
            ]
          },
          "metadata": {
            "tags": []
          }
        },
        {
          "output_type": "display_data",
          "data": {
            "text/latex": "$\\displaystyle \\frac{\\pi}{3}$",
            "text/plain": [
              "pi/3"
            ]
          },
          "metadata": {
            "tags": []
          }
        },
        {
          "output_type": "display_data",
          "data": {
            "text/plain": [
              "0.8660254037844386"
            ]
          },
          "metadata": {
            "tags": []
          }
        },
        {
          "output_type": "display_data",
          "data": {
            "text/latex": "$\\displaystyle 0.866025403784439$",
            "text/plain": [
              "0.866025403784439"
            ]
          },
          "metadata": {
            "tags": []
          }
        },
        {
          "output_type": "display_data",
          "data": {
            "text/latex": "$\\displaystyle \\frac{\\sqrt{3}}{2}$",
            "text/plain": [
              "sqrt(3)/2"
            ]
          },
          "metadata": {
            "tags": []
          }
        }
      ]
    },
    {
      "cell_type": "markdown",
      "metadata": {
        "id": "oWZ7SFOZdwlu"
      },
      "source": [
        "質問\n",
        "\n",
        "sin(pi/3) を $\\displaystyle \\frac{\\sqrt3}{2}$ でなく、$\\displaystyle \\sin{\\frac{\\pi}{3}}$ と表示したいときはどうするか。"
      ]
    },
    {
      "cell_type": "markdown",
      "metadata": {
        "id": "QeRtnNvucO1L"
      },
      "source": [
        "**練習** 屋根勾配\n",
        "\n",
        "家の屋根の勾配は角度ではなく，伝統的に 3寸勾配，4寸勾配のように水平方向に1尺（10寸）に対して垂直方向に何寸立ち上がるかで示す。 これを寸勾配、矩勾配 (かねこうばい) と呼ぶ。\n",
        "\n",
        "8寸勾配は、傾斜角度にすると何度か？\n"
      ]
    },
    {
      "cell_type": "code",
      "metadata": {
        "colab": {
          "base_uri": "https://localhost:8080/",
          "height": 594
        },
        "id": "EWs0N97L2LCZ",
        "outputId": "fa0173aa-4c88-43b6-ccdd-40dba7f46268"
      },
      "source": [
        "from sympy.abc import *\n",
        "from sympy import *\n",
        "def raddeg(x) :\n",
        "    return float(x * 180/pi)\n",
        "\n",
        "# 1寸勾配\n",
        "x = 0.1\n",
        "display(x,Float(atan(x), 3), Float(raddeg(atan(x)),5))\n",
        "# 2寸勾配 ～\n",
        "x = 0.2\n",
        "display(x,Float(atan(x), 3), Float(raddeg(atan(x)),5))\n",
        "x=0.3\n",
        "display(x,Float(atan(x), 3), Float(raddeg(atan(x)),5))\n",
        "x=0.4\n",
        "display(x,Float(atan(x), 3), Float(raddeg(atan(x)),5))\n",
        "x=0.5\n",
        "display(x,Float(atan(x), 3), Float(raddeg(atan(x)),5))\n",
        "x=0.6\n",
        "display(x,Float(atan(x), 3), Float(raddeg(atan(x)),5))\n",
        "x=0.7\n",
        "display(x,Float(atan(x), 3), Float(raddeg(atan(x)),5))\n",
        "x=0.8\n",
        "display(x,Float(atan(x), 3), Float(raddeg(atan(x)),5))\n",
        "x=0.9\n",
        "display(x,Float(atan(x), 3), Float(raddeg(atan(x)),5))\n",
        "x=1.0\n",
        "display(x,Float(atan(x), 3), Float(raddeg(atan(x)),5))\n"
      ],
      "execution_count": null,
      "outputs": [
        {
          "output_type": "display_data",
          "data": {
            "text/plain": [
              "0.1"
            ]
          },
          "metadata": {
            "tags": []
          }
        },
        {
          "output_type": "display_data",
          "data": {
            "text/latex": "$\\displaystyle 0.0997$",
            "text/plain": [
              "0.0997"
            ]
          },
          "metadata": {
            "tags": []
          }
        },
        {
          "output_type": "display_data",
          "data": {
            "text/latex": "$\\displaystyle 5.7106$",
            "text/plain": [
              "5.7106"
            ]
          },
          "metadata": {
            "tags": []
          }
        },
        {
          "output_type": "display_data",
          "data": {
            "text/plain": [
              "0.2"
            ]
          },
          "metadata": {
            "tags": []
          }
        },
        {
          "output_type": "display_data",
          "data": {
            "text/latex": "$\\displaystyle 0.197$",
            "text/plain": [
              "0.197"
            ]
          },
          "metadata": {
            "tags": []
          }
        },
        {
          "output_type": "display_data",
          "data": {
            "text/latex": "$\\displaystyle 11.31$",
            "text/plain": [
              "11.310"
            ]
          },
          "metadata": {
            "tags": []
          }
        },
        {
          "output_type": "display_data",
          "data": {
            "text/plain": [
              "0.3"
            ]
          },
          "metadata": {
            "tags": []
          }
        },
        {
          "output_type": "display_data",
          "data": {
            "text/latex": "$\\displaystyle 0.291$",
            "text/plain": [
              "0.291"
            ]
          },
          "metadata": {
            "tags": []
          }
        },
        {
          "output_type": "display_data",
          "data": {
            "text/latex": "$\\displaystyle 16.699$",
            "text/plain": [
              "16.699"
            ]
          },
          "metadata": {
            "tags": []
          }
        },
        {
          "output_type": "display_data",
          "data": {
            "text/plain": [
              "0.4"
            ]
          },
          "metadata": {
            "tags": []
          }
        },
        {
          "output_type": "display_data",
          "data": {
            "text/latex": "$\\displaystyle 0.38$",
            "text/plain": [
              "0.380"
            ]
          },
          "metadata": {
            "tags": []
          }
        },
        {
          "output_type": "display_data",
          "data": {
            "text/latex": "$\\displaystyle 21.801$",
            "text/plain": [
              "21.801"
            ]
          },
          "metadata": {
            "tags": []
          }
        },
        {
          "output_type": "display_data",
          "data": {
            "text/plain": [
              "0.5"
            ]
          },
          "metadata": {
            "tags": []
          }
        },
        {
          "output_type": "display_data",
          "data": {
            "text/latex": "$\\displaystyle 0.464$",
            "text/plain": [
              "0.464"
            ]
          },
          "metadata": {
            "tags": []
          }
        },
        {
          "output_type": "display_data",
          "data": {
            "text/latex": "$\\displaystyle 26.565$",
            "text/plain": [
              "26.565"
            ]
          },
          "metadata": {
            "tags": []
          }
        },
        {
          "output_type": "display_data",
          "data": {
            "text/plain": [
              "0.6"
            ]
          },
          "metadata": {
            "tags": []
          }
        },
        {
          "output_type": "display_data",
          "data": {
            "text/latex": "$\\displaystyle 0.54$",
            "text/plain": [
              "0.540"
            ]
          },
          "metadata": {
            "tags": []
          }
        },
        {
          "output_type": "display_data",
          "data": {
            "text/latex": "$\\displaystyle 30.964$",
            "text/plain": [
              "30.964"
            ]
          },
          "metadata": {
            "tags": []
          }
        },
        {
          "output_type": "display_data",
          "data": {
            "text/plain": [
              "0.7"
            ]
          },
          "metadata": {
            "tags": []
          }
        },
        {
          "output_type": "display_data",
          "data": {
            "text/latex": "$\\displaystyle 0.611$",
            "text/plain": [
              "0.611"
            ]
          },
          "metadata": {
            "tags": []
          }
        },
        {
          "output_type": "display_data",
          "data": {
            "text/latex": "$\\displaystyle 34.992$",
            "text/plain": [
              "34.992"
            ]
          },
          "metadata": {
            "tags": []
          }
        },
        {
          "output_type": "display_data",
          "data": {
            "text/plain": [
              "0.8"
            ]
          },
          "metadata": {
            "tags": []
          }
        },
        {
          "output_type": "display_data",
          "data": {
            "text/latex": "$\\displaystyle 0.675$",
            "text/plain": [
              "0.675"
            ]
          },
          "metadata": {
            "tags": []
          }
        },
        {
          "output_type": "display_data",
          "data": {
            "text/latex": "$\\displaystyle 38.66$",
            "text/plain": [
              "38.660"
            ]
          },
          "metadata": {
            "tags": []
          }
        },
        {
          "output_type": "display_data",
          "data": {
            "text/plain": [
              "0.9"
            ]
          },
          "metadata": {
            "tags": []
          }
        },
        {
          "output_type": "display_data",
          "data": {
            "text/latex": "$\\displaystyle 0.733$",
            "text/plain": [
              "0.733"
            ]
          },
          "metadata": {
            "tags": []
          }
        },
        {
          "output_type": "display_data",
          "data": {
            "text/latex": "$\\displaystyle 41.987$",
            "text/plain": [
              "41.987"
            ]
          },
          "metadata": {
            "tags": []
          }
        },
        {
          "output_type": "display_data",
          "data": {
            "text/plain": [
              "1.0"
            ]
          },
          "metadata": {
            "tags": []
          }
        },
        {
          "output_type": "display_data",
          "data": {
            "text/latex": "$\\displaystyle 0.785$",
            "text/plain": [
              "0.785"
            ]
          },
          "metadata": {
            "tags": []
          }
        },
        {
          "output_type": "display_data",
          "data": {
            "text/latex": "$\\displaystyle 45.0$",
            "text/plain": [
              "45.000"
            ]
          },
          "metadata": {
            "tags": []
          }
        }
      ]
    },
    {
      "cell_type": "markdown",
      "metadata": {
        "id": "MuXlIs8eHILN"
      },
      "source": [
        "# 数列の和\n",
        "\n",
        "summation (一般項 a_i, (i, 初めの i, 最後の i) で\n",
        "\n",
        "$\\displaystyle \\sum_{i=1}^{10} i^2$ \n",
        "\n",
        "の計算をする\n",
        "\n"
      ]
    },
    {
      "cell_type": "code",
      "metadata": {
        "id": "PEhtfh5RRm45",
        "colab": {
          "base_uri": "https://localhost:8080/",
          "height": 37
        },
        "outputId": "69b80702-a60a-4a64-920c-2349e98e7eef"
      },
      "source": [
        "summation (i**2, (i,1,10))"
      ],
      "execution_count": null,
      "outputs": [
        {
          "output_type": "execute_result",
          "data": {
            "text/latex": "$\\displaystyle 385$",
            "text/plain": [
              "385"
            ]
          },
          "metadata": {
            "tags": []
          },
          "execution_count": 5
        }
      ]
    },
    {
      "cell_type": "code",
      "metadata": {
        "id": "sBiMH5VrRvq5",
        "colab": {
          "base_uri": "https://localhost:8080/",
          "height": 37
        },
        "outputId": "5d18c9be-a1b6-439f-a09d-decfe2914a34"
      },
      "source": [
        "summation(i,(i,1,10))"
      ],
      "execution_count": null,
      "outputs": [
        {
          "output_type": "execute_result",
          "data": {
            "text/latex": "$\\displaystyle 55$",
            "text/plain": [
              "55"
            ]
          },
          "metadata": {
            "tags": []
          },
          "execution_count": 7
        }
      ]
    },
    {
      "cell_type": "code",
      "metadata": {
        "id": "pu3n18R8SBoc",
        "colab": {
          "base_uri": "https://localhost:8080/",
          "height": 90
        },
        "outputId": "17adf008-25d6-402d-b492-914175c536f9"
      },
      "source": [
        "from sympy.abc import *\n",
        "from sympy import *\n",
        "init_printing()\n",
        "N=symbols('N')\n",
        "display(summation(i**2, (i, 1, N)))\n",
        "display(factor(summation(i**2, (i, 1, N))))\n"
      ],
      "execution_count": null,
      "outputs": [
        {
          "output_type": "display_data",
          "data": {
            "image/png": "[encoded data removed]",
            "text/latex": "$\\displaystyle \\frac{N^{3}}{3} + \\frac{N^{2}}{2} + \\frac{N}{6}$",
            "text/plain": [
              " 3    2    \n",
              "N    N    N\n",
              "── + ── + ─\n",
              "3    2    6"
            ]
          },
          "metadata": {
            "tags": []
          }
        },
        {
          "output_type": "display_data",
          "data": {
            "image/png": "[encoded data removed]",
            "text/latex": "$\\displaystyle \\frac{N \\left(N + 1\\right) \\left(2 N + 1\\right)}{6}$",
            "text/plain": [
              "N⋅(N + 1)⋅(2⋅N + 1)\n",
              "───────────────────\n",
              "         6         "
            ]
          },
          "metadata": {
            "tags": []
          }
        }
      ]
    },
    {
      "cell_type": "markdown",
      "metadata": {
        "id": "dr0GCTluTfSL"
      },
      "source": [
        "**練習**\n",
        "\n",
        "**数列の和**\n",
        "\n",
        "等差数列 arithmetic sequence\n",
        "等比数列 geometric sequence\n",
        "\n",
        "1. 初項 $a_1$, 交差 $d$ の等差数列の第1項から第$n$項までの和を求める。\n",
        "1. 初項が 3、公比が 2 の等比数列について、第10項までの和を求める\n",
        "1. $\\sum_{i=1}^n b_1 r^{i-1}$ を求める。 また無限等比擦れつの和 $n \\rightarrow \\infty$ を求める。 ただし $0<r<1$。\n",
        "\n",
        "**ヒント**"
      ]
    },
    {
      "cell_type": "code",
      "metadata": {
        "id": "FFaWeVInQ6O4",
        "colab": {
          "base_uri": "https://localhost:8080/",
          "height": 115
        },
        "outputId": "855cbf28-0f04-4967-c879-26d8975dd32a"
      },
      "source": [
        "# 第1問は次のような計算\n",
        "from sympy import *\n",
        "init_printing()\n",
        "a1,i,d,n = symbols('a1,i,d,n')\n",
        "display(summation(a1+(i-1)*d, (i,1,n)))\n",
        "display(expand(summation(a1+(i-1)*d, (i,1,n))))\n",
        "a1=1\n",
        "d=1\n",
        "n=10\n",
        "display(summation(a1+(i-1)*d, (i,1,n)))\n"
      ],
      "execution_count": null,
      "outputs": [
        {
          "output_type": "display_data",
          "data": {
            "image/png": "[encoded data removed]",
            "text/latex": "$\\displaystyle d \\left(\\frac{n^{2}}{2} + \\frac{n}{2}\\right) + n \\left(a_{1} - d\\right)$",
            "text/plain": [
              "  ⎛ 2    ⎞             \n",
              "  ⎜n    n⎟             \n",
              "d⋅⎜── + ─⎟ + n⋅(a₁ - d)\n",
              "  ⎝2    2⎠             "
            ]
          },
          "metadata": {
            "tags": []
          }
        },
        {
          "output_type": "display_data",
          "data": {
            "image/png": "[encoded data removed]",
            "text/latex": "$\\displaystyle a_{1} n + \\frac{d n^{2}}{2} - \\frac{d n}{2}$",
            "text/plain": [
              "          2      \n",
              "       d⋅n    d⋅n\n",
              "a₁⋅n + ──── - ───\n",
              "        2      2 "
            ]
          },
          "metadata": {
            "tags": []
          }
        },
        {
          "output_type": "display_data",
          "data": {
            "image/png": "[encoded data removed]",
            "text/latex": "$\\displaystyle 55$",
            "text/plain": [
              "55"
            ]
          },
          "metadata": {
            "tags": []
          }
        }
      ]
    },
    {
      "cell_type": "code",
      "metadata": {
        "id": "0CZBDzEUdp7q",
        "colab": {
          "base_uri": "https://localhost:8080/",
          "height": 226
        },
        "outputId": "d506348d-3ed9-4d38-ee2b-f874a19f0375"
      },
      "source": [
        "# 第2問 , 第3問\n",
        "from sympy import *\n",
        "init_printing()\n",
        "b1,i,r,n = symbols('b1,i,r,n')\n",
        "display(summation(b1*r**(i-1), (i,1,n)))\n",
        "b1=3\n",
        "r=2\n",
        "n=10\n",
        "display(summation(b1*r**(i-1), (i,1,n)))\n",
        "r=0.5\n",
        "n=10\n",
        "display(summation(b1*r**(i-1), (i,1,n)))\n",
        "b1,i,r,n = symbols('b1,i,r,n')\n",
        "r=0.1\n",
        "display(Limit((r-r**(n+1))/(1-r), n, oo).doit()/r)\n",
        "r=0.3\n",
        "display(Limit((r-r**(n+1))/(1-r), n, oo).doit()/r)\n",
        "r=0.5\n",
        "display(Limit((r-r**(n+1))/(1-r), n, oo).doit()/r)\n",
        "r=0.7\n",
        "display(Limit((r-r**(n+1))/(1-r), n, oo).doit()/r)\n",
        "r=0.9\n",
        "display(Limit((r-r**(n+1))/(1-r), n, oo).doit()/r)"
      ],
      "execution_count": null,
      "outputs": [
        {
          "output_type": "display_data",
          "data": {
            "text/latex": "$\\displaystyle \\frac{b_{1} \\left(\\begin{cases} n & \\text{for}\\: r = 1 \\\\\\frac{r - r^{n + 1}}{1 - r} & \\text{otherwise} \\end{cases}\\right)}{r}$",
            "text/plain": [
              "   ⎛⎧    n       for r = 1⎞\n",
              "   ⎜⎪                     ⎟\n",
              "   ⎜⎪     n + 1           ⎟\n",
              "b₁⋅⎜⎨r - r                ⎟\n",
              "   ⎜⎪──────────  otherwise⎟\n",
              "   ⎜⎪  1 - r              ⎟\n",
              "   ⎝⎩                     ⎠\n",
              "───────────────────────────\n",
              "             r             "
            ]
          },
          "metadata": {
            "tags": []
          }
        },
        {
          "output_type": "display_data",
          "data": {
            "image/png": "[encoded data removed]",
            "text/latex": "$\\displaystyle 3069$",
            "text/plain": [
              "3069"
            ]
          },
          "metadata": {
            "tags": []
          }
        },
        {
          "output_type": "display_data",
          "data": {
            "image/png": "[encoded data removed]",
            "text/latex": "$\\displaystyle 5.994140625$",
            "text/plain": [
              "5.99414062500000"
            ]
          },
          "metadata": {
            "tags": []
          }
        },
        {
          "output_type": "display_data",
          "data": {
            "image/png": "[encoded data removed]",
            "text/latex": "$\\displaystyle 1.11111111111111$",
            "text/plain": [
              "1.11111111111111"
            ]
          },
          "metadata": {
            "tags": []
          }
        },
        {
          "output_type": "display_data",
          "data": {
            "image/png": "[encoded data removed]",
            "text/latex": "$\\displaystyle 1.42857142857143$",
            "text/plain": [
              "1.42857142857143"
            ]
          },
          "metadata": {
            "tags": []
          }
        },
        {
          "output_type": "display_data",
          "data": {
            "image/png": "[encoded data removed]",
            "text/latex": "$\\displaystyle 2.0$",
            "text/plain": [
              "2.00000000000000"
            ]
          },
          "metadata": {
            "tags": []
          }
        },
        {
          "output_type": "display_data",
          "data": {
            "image/png": "[encoded data removed]",
            "text/latex": "$\\displaystyle 3.33333333333333$",
            "text/plain": [
              "3.33333333333333"
            ]
          },
          "metadata": {
            "tags": []
          }
        },
        {
          "output_type": "display_data",
          "data": {
            "image/png": "[encoded data removed]",
            "text/latex": "$\\displaystyle 10.0$",
            "text/plain": [
              "10.0000000000000"
            ]
          },
          "metadata": {
            "tags": []
          }
        }
      ]
    },
    {
      "cell_type": "markdown",
      "metadata": {
        "id": "yCxU8zSTiabe"
      },
      "source": [
        "# 関数のテイラー展開"
      ]
    },
    {
      "cell_type": "markdown",
      "metadata": {
        "id": "YDh0M4VPiemO"
      },
      "source": [
        "$\\sin x$ を $x=0$ のまわりで $x^5$ の項までテイラー展開する。\n",
        "\n",
        "$x^5$ は $x^0$ から数えて 6番目。"
      ]
    },
    {
      "cell_type": "code",
      "metadata": {
        "id": "7e70mSYHizcJ",
        "colab": {
          "base_uri": "https://localhost:8080/",
          "height": 54
        },
        "outputId": "652ef8ad-c8d8-4cfe-9179-2338221af3ce"
      },
      "source": [
        "x = symbols('x', real=True)\n",
        "series(sin(x), x, 0, 6)"
      ],
      "execution_count": null,
      "outputs": [
        {
          "output_type": "execute_result",
          "data": {
            "image/png": "[encoded data removed]",
            "text/latex": "$\\displaystyle x - \\frac{x^{3}}{6} + \\frac{x^{5}}{120} + O\\left(x^{6}\\right)$",
            "text/plain": [
              "     3     5        \n",
              "    x     x     ⎛ 6⎞\n",
              "x - ── + ─── + O⎝x ⎠\n",
              "    6    120        "
            ]
          },
          "metadata": {
            "tags": []
          },
          "execution_count": 45
        }
      ]
    },
    {
      "cell_type": "code",
      "metadata": {
        "id": "5lcxxJUXjXXE",
        "colab": {
          "base_uri": "https://localhost:8080/",
          "height": 54
        },
        "outputId": "93eeb424-3cfc-4b4f-9b9f-2f838d46fed4"
      },
      "source": [
        "# e^{ix} のテイラー展開\n",
        "series(exp(I*x), x, 0, 6)"
      ],
      "execution_count": null,
      "outputs": [
        {
          "output_type": "execute_result",
          "data": {
            "image/png": "[encoded data removed]",
            "text/latex": "$\\displaystyle 1 + i x - \\frac{x^{2}}{2} - \\frac{i x^{3}}{6} + \\frac{x^{4}}{24} + \\frac{i x^{5}}{120} + O\\left(x^{6}\\right)$",
            "text/plain": [
              "           2      3    4      5        \n",
              "          x    ⅈ⋅x    x    ⅈ⋅x     ⎛ 6⎞\n",
              "1 + ⅈ⋅x - ── - ──── + ── + ──── + O⎝x ⎠\n",
              "          2     6     24   120         "
            ]
          },
          "metadata": {
            "tags": []
          },
          "execution_count": 46
        }
      ]
    },
    {
      "cell_type": "code",
      "metadata": {
        "id": "YSDxwJ1njjSP",
        "colab": {
          "base_uri": "https://localhost:8080/",
          "height": 54
        },
        "outputId": "ecd42339-b0fe-4d44-c42a-94dd494b5391"
      },
      "source": [
        "# 虚部は im でとれる\n",
        "im(series(exp(I*x), x, 0, 6))"
      ],
      "execution_count": null,
      "outputs": [
        {
          "output_type": "execute_result",
          "data": {
            "image/png": "[encoded data removed]",
            "text/latex": "$\\displaystyle \\frac{x^{5}}{120} - \\frac{x^{3}}{6} + x + \\operatorname{im}{\\left(O\\left(x^{6}\\right)\\right)}$",
            "text/plain": [
              "  5    3                \n",
              " x    x          ⎛ ⎛ 6⎞⎞\n",
              "─── - ── + x + im⎝O⎝x ⎠⎠\n",
              "120   6                 "
            ]
          },
          "metadata": {
            "tags": []
          },
          "execution_count": 47
        }
      ]
    },
    {
      "cell_type": "code",
      "metadata": {
        "id": "gnmXLykWjs64",
        "colab": {
          "base_uri": "https://localhost:8080/",
          "height": 54
        },
        "outputId": "c73c273b-a3ec-43b2-f820-0a2b463d3029"
      },
      "source": [
        "# cos x\n",
        "x = symbols('x', real=True)\n",
        "series(cos(x), x, 0, 6)"
      ],
      "execution_count": null,
      "outputs": [
        {
          "output_type": "execute_result",
          "data": {
            "image/png": "[encoded data removed]",
            "text/latex": "$\\displaystyle 1 - \\frac{x^{2}}{2} + \\frac{x^{4}}{24} + O\\left(x^{6}\\right)$",
            "text/plain": [
              "     2    4        \n",
              "    x    x     ⎛ 6⎞\n",
              "1 - ── + ── + O⎝x ⎠\n",
              "    2    24        "
            ]
          },
          "metadata": {
            "tags": []
          },
          "execution_count": 48
        }
      ]
    },
    {
      "cell_type": "code",
      "metadata": {
        "id": "If-UyL3Jjwf2",
        "colab": {
          "base_uri": "https://localhost:8080/",
          "height": 54
        },
        "outputId": "303f0810-3cfc-455d-c309-c39ebd045d3a"
      },
      "source": [
        "# tan x\n",
        "x = symbols('x', real=True)\n",
        "series(tan(x), x, 0, 6)"
      ],
      "execution_count": null,
      "outputs": [
        {
          "output_type": "execute_result",
          "data": {
            "image/png": "[encoded data removed]",
            "text/latex": "$\\displaystyle x + \\frac{x^{3}}{3} + \\frac{2 x^{5}}{15} + O\\left(x^{6}\\right)$",
            "text/plain": [
              "     3      5        \n",
              "    x    2⋅x     ⎛ 6⎞\n",
              "x + ── + ──── + O⎝x ⎠\n",
              "    3     15         "
            ]
          },
          "metadata": {
            "tags": []
          },
          "execution_count": 49
        }
      ]
    },
    {
      "cell_type": "markdown",
      "metadata": {
        "id": "E1x8eMhHj81J"
      },
      "source": [
        "# 式の整理、展開、因数分解、簡単化"
      ]
    },
    {
      "cell_type": "code",
      "metadata": {
        "id": "8t7KxnunkDRe",
        "colab": {
          "base_uri": "https://localhost:8080/",
          "height": 37
        },
        "outputId": "06fd6b80-ed93-4197-ad7e-12c65a2e11c6"
      },
      "source": [
        "expand((x + 1)**2)"
      ],
      "execution_count": null,
      "outputs": [
        {
          "output_type": "execute_result",
          "data": {
            "image/png": "[encoded data removed]",
            "text/latex": "$\\displaystyle x^{2} + 2 x + 1$",
            "text/plain": [
              " 2          \n",
              "x  + 2⋅x + 1"
            ]
          },
          "metadata": {
            "tags": []
          },
          "execution_count": 50
        }
      ]
    },
    {
      "cell_type": "code",
      "metadata": {
        "id": "NcfsScZUkHu3",
        "colab": {
          "base_uri": "https://localhost:8080/",
          "height": 38
        },
        "outputId": "e07d6dda-084f-4ece-f0cb-a085d7b23e81"
      },
      "source": [
        "factor(x**3 - 1)"
      ],
      "execution_count": null,
      "outputs": [
        {
          "output_type": "execute_result",
          "data": {
            "image/png": "[encoded data removed]",
            "text/latex": "$\\displaystyle \\left(x - 1\\right) \\left(x^{2} + x + 1\\right)$",
            "text/plain": [
              "        ⎛ 2        ⎞\n",
              "(x - 1)⋅⎝x  + x + 1⎠"
            ]
          },
          "metadata": {
            "tags": []
          },
          "execution_count": 51
        }
      ]
    },
    {
      "cell_type": "code",
      "metadata": {
        "id": "HWia1TO-kMez",
        "colab": {
          "base_uri": "https://localhost:8080/",
          "height": 91
        },
        "outputId": "1c25fe6e-ddcf-4e6f-a55c-8e89e7328169"
      },
      "source": [
        "# 部分分数への展開\n",
        "display(apart(3/(x**3 - 1)))\n",
        "display(apart(3/(x**2 - 1)))\n"
      ],
      "execution_count": null,
      "outputs": [
        {
          "output_type": "display_data",
          "data": {
            "image/png": "[encoded data removed]",
            "text/latex": "$\\displaystyle - \\frac{x + 2}{x^{2} + x + 1} + \\frac{1}{x - 1}$",
            "text/plain": [
              "    x + 2        1  \n",
              "- ────────── + ─────\n",
              "   2           x - 1\n",
              "  x  + x + 1        "
            ]
          },
          "metadata": {
            "tags": []
          }
        },
        {
          "output_type": "display_data",
          "data": {
            "image/png": "[encoded data removed]",
            "text/latex": "$\\displaystyle - \\frac{3}{2 \\left(x + 1\\right)} + \\frac{3}{2 \\left(x - 1\\right)}$",
            "text/plain": [
              "      3           3    \n",
              "- ───────── + ─────────\n",
              "  2⋅(x + 1)   2⋅(x - 1)"
            ]
          },
          "metadata": {
            "tags": []
          }
        }
      ]
    },
    {
      "cell_type": "code",
      "metadata": {
        "id": "tw0u0mUdkjp8",
        "colab": {
          "base_uri": "https://localhost:8080/",
          "height": 110
        },
        "outputId": "029349c1-1bcd-4500-a7ca-25a936f476b2"
      },
      "source": [
        "display(ratsimp(1/(x-1)-(x+2)/(x**2+x+1)))\n",
        "display(simplify(1/(x-1)-(x+2)/(x**2+x+1)))"
      ],
      "execution_count": null,
      "outputs": [
        {
          "output_type": "display_data",
          "data": {
            "image/png": "[encoded data removed]",
            "text/latex": "$\\displaystyle x^{3} - 1$",
            "text/plain": [
              " 3    \n",
              "x  - 1"
            ]
          },
          "metadata": {
            "tags": []
          }
        },
        {
          "output_type": "display_data",
          "data": {
            "image/png": "[encoded data removed]",
            "text/latex": "$\\displaystyle \\frac{3}{x^{3} - 1}$",
            "text/plain": [
              "  3   \n",
              "──────\n",
              " 3    \n",
              "x  - 1"
            ]
          },
          "metadata": {
            "tags": []
          }
        },
        {
          "output_type": "display_data",
          "data": {
            "image/png": "[encoded data removed]",
            "text/latex": "$\\displaystyle \\frac{3}{x^{3} - 1}$",
            "text/plain": [
              "  3   \n",
              "──────\n",
              " 3    \n",
              "x  - 1"
            ]
          },
          "metadata": {
            "tags": []
          }
        }
      ]
    },
    {
      "cell_type": "code",
      "metadata": {
        "id": "wjfUkCVZkwuI",
        "colab": {
          "base_uri": "https://localhost:8080/",
          "height": 37
        },
        "outputId": "41154f64-ce23-4718-e596-d4d6d767fa9c"
      },
      "source": [
        "ratsimp((x-1)*(x**2+x+1))\n"
      ],
      "execution_count": null,
      "outputs": [
        {
          "output_type": "execute_result",
          "data": {
            "image/png": "[encoded data removed]",
            "text/latex": "$\\displaystyle x^{3} - 1$",
            "text/plain": [
              " 3    \n",
              "x  - 1"
            ]
          },
          "metadata": {
            "tags": []
          },
          "execution_count": 56
        }
      ]
    },
    {
      "cell_type": "markdown",
      "metadata": {
        "id": "WcsHhg_YlH8-"
      },
      "source": [
        "# 三角関数の式の簡単化"
      ]
    },
    {
      "cell_type": "code",
      "metadata": {
        "id": "d8tpC6m5lQL5",
        "colab": {
          "base_uri": "https://localhost:8080/",
          "height": 100
        },
        "outputId": "5a90dcf4-14a5-4b5e-aa2e-56e3d403962c"
      },
      "source": [
        "# 三角関数については expand(expr,trig=True) と trigsimp (またはsimplify) を使う\n",
        "display(trigsimp(cos(x)**2 - sin(x)**2))\n",
        "display(simplify(cos(x)**2 - sin(x)**2))\n",
        "display(trigsimp(cos(x)**2 + sin(x)**2))\n",
        "expand(cos(2*x),trig=True)"
      ],
      "execution_count": null,
      "outputs": [
        {
          "output_type": "display_data",
          "data": {
            "image/png": "[encoded data removed]",
            "text/latex": "$\\displaystyle \\cos{\\left(2 x \\right)}$",
            "text/plain": [
              "cos(2⋅x)"
            ]
          },
          "metadata": {
            "tags": []
          }
        },
        {
          "output_type": "display_data",
          "data": {
            "image/png": "[encoded data removed]",
            "text/latex": "$\\displaystyle \\cos{\\left(2 x \\right)}$",
            "text/plain": [
              "cos(2⋅x)"
            ]
          },
          "metadata": {
            "tags": []
          }
        },
        {
          "output_type": "display_data",
          "data": {
            "image/png": "[encoded data removed]",
            "text/latex": "$\\displaystyle 1$",
            "text/plain": [
              "1"
            ]
          },
          "metadata": {
            "tags": []
          }
        },
        {
          "output_type": "execute_result",
          "data": {
            "image/png": "[encoded data removed]",
            "text/latex": "$\\displaystyle 2 \\cos^{2}{\\left(x \\right)} - 1$",
            "text/plain": [
              "     2       \n",
              "2⋅cos (x) - 1"
            ]
          },
          "metadata": {
            "tags": []
          },
          "execution_count": 67
        }
      ]
    },
    {
      "cell_type": "code",
      "metadata": {
        "id": "o0smAx1pmAbf",
        "colab": {
          "base_uri": "https://localhost:8080/",
          "height": 56
        },
        "outputId": "015f5b10-cec7-4fd6-a551-9fe9dd273da1"
      },
      "source": [
        "display(trigsimp(cosh(x)**2 - sinh(x)**2))\n",
        "display(simplify(cosh(x)**2 - sinh(x)**2))"
      ],
      "execution_count": null,
      "outputs": [
        {
          "output_type": "display_data",
          "data": {
            "image/png": "[encoded data removed]",
            "text/latex": "$\\displaystyle 1$",
            "text/plain": [
              "1"
            ]
          },
          "metadata": {
            "tags": []
          }
        },
        {
          "output_type": "display_data",
          "data": {
            "image/png": "[encoded data removed]",
            "text/latex": "$\\displaystyle 1$",
            "text/plain": [
              "1"
            ]
          },
          "metadata": {
            "tags": []
          }
        }
      ]
    },
    {
      "cell_type": "code",
      "metadata": {
        "id": "26G8_ZnGmaog",
        "colab": {
          "base_uri": "https://localhost:8080/",
          "height": 58
        },
        "outputId": "cfb31a2a-1804-4d66-f76d-cd49ad5b97f0"
      },
      "source": [
        "display(expand(cos(3*x), trig=True))\n",
        "display(simplify(4*cos(x)**3-3*cos(x)))"
      ],
      "execution_count": null,
      "outputs": [
        {
          "output_type": "display_data",
          "data": {
            "image/png": "[encoded data removed]",
            "text/latex": "$\\displaystyle 4 \\cos^{3}{\\left(x \\right)} - 3 \\cos{\\left(x \\right)}$",
            "text/plain": [
              "     3              \n",
              "4⋅cos (x) - 3⋅cos(x)"
            ]
          },
          "metadata": {
            "tags": []
          }
        },
        {
          "output_type": "display_data",
          "data": {
            "image/png": "[encoded data removed]",
            "text/latex": "$\\displaystyle \\cos{\\left(3 x \\right)}$",
            "text/plain": [
              "cos(3⋅x)"
            ]
          },
          "metadata": {
            "tags": []
          }
        }
      ]
    },
    {
      "cell_type": "markdown",
      "metadata": {
        "id": "kP7AQ-D_mrV4"
      },
      "source": [
        "**練習**\n",
        "\n",
        "加法定理・三倍角の公式\n",
        "\n",
        "1. 三角関数および双曲線関数の加法定理を確認する。\n",
        "1. $\\sin 3x$ を $\\sin x$ だけを使って表す。 また $\\tan x$ を $\\tan x$ だけを使って表す。\n",
        "\n",
        "**ヒント**\n",
        "\n",
        "trg=True をつけて expand する。\n",
        "\n"
      ]
    },
    {
      "cell_type": "code",
      "metadata": {
        "id": "K8AjBUcJw3tU",
        "colab": {
          "base_uri": "https://localhost:8080/",
          "height": 38
        },
        "outputId": "df0dad6e-a3d5-4814-d214-b8da7726595b"
      },
      "source": [
        "from sympy import *\n",
        "init_printing()\n",
        "x,y=symbols('x,y')\n",
        "expand(sin(x + y), trig=True)"
      ],
      "execution_count": null,
      "outputs": [
        {
          "output_type": "execute_result",
          "data": {
            "image/png": "[encoded data removed]",
            "text/latex": "$\\displaystyle \\sin{\\left(x \\right)} \\cos{\\left(y \\right)} + \\sin{\\left(y \\right)} \\cos{\\left(x \\right)}$",
            "text/plain": [
              "sin(x)⋅cos(y) + sin(y)⋅cos(x)"
            ]
          },
          "metadata": {
            "tags": []
          },
          "execution_count": 73
        }
      ]
    },
    {
      "cell_type": "code",
      "metadata": {
        "id": "mCUmg4SBxMAc",
        "colab": {
          "base_uri": "https://localhost:8080/",
          "height": 38
        },
        "outputId": "18661259-6c43-4158-b8f4-6e8103cb9ae3"
      },
      "source": [
        "expand(sinh(x+y),trig=True)"
      ],
      "execution_count": null,
      "outputs": [
        {
          "output_type": "execute_result",
          "data": {
            "image/png": "[encoded data removed]",
            "text/latex": "$\\displaystyle \\sinh{\\left(x \\right)} \\cosh{\\left(y \\right)} + \\sinh{\\left(y \\right)} \\cosh{\\left(x \\right)}$",
            "text/plain": [
              "sinh(x)⋅cosh(y) + sinh(y)⋅cosh(x)"
            ]
          },
          "metadata": {
            "tags": []
          },
          "execution_count": 75
        }
      ]
    },
    {
      "cell_type": "code",
      "metadata": {
        "id": "l2KbfRCoztny",
        "colab": {
          "base_uri": "https://localhost:8080/",
          "height": 164
        },
        "outputId": "965b5b17-610b-4448-928e-b15c695d1b6a"
      },
      "source": [
        "x=symbols('x')\n",
        "display(expand(sin(3*x),trig=True))\n",
        "display(expand(tan(3*x),trig=True))\n",
        "display(simplify(expand(tan(3*x),trig=True)))\n",
        "display(ratsimp(expand(tan(3*x),trig=True)))"
      ],
      "execution_count": null,
      "outputs": [
        {
          "output_type": "display_data",
          "data": {
            "image/png": "[encoded data removed]",
            "text/latex": "$\\displaystyle - 4 \\sin^{3}{\\left(x \\right)} + 3 \\sin{\\left(x \\right)}$",
            "text/plain": [
              "       3              \n",
              "- 4⋅sin (x) + 3⋅sin(x)"
            ]
          },
          "metadata": {
            "tags": []
          }
        },
        {
          "output_type": "display_data",
          "data": {
            "image/png": "[encoded data removed]",
            "text/latex": "$\\displaystyle - \\frac{\\tan^{3}{\\left(x \\right)}}{1 - 3 \\tan^{2}{\\left(x \\right)}} + \\frac{3 \\tan{\\left(x \\right)}}{1 - 3 \\tan^{2}{\\left(x \\right)}}$",
            "text/plain": [
              "        3                      \n",
              "     tan (x)         3⋅tan(x)  \n",
              "- ───────────── + ─────────────\n",
              "           2               2   \n",
              "  1 - 3⋅tan (x)   1 - 3⋅tan (x)"
            ]
          },
          "metadata": {
            "tags": []
          }
        },
        {
          "output_type": "display_data",
          "data": {
            "image/png": "[encoded data removed]",
            "text/latex": "$\\displaystyle \\frac{\\left(\\tan^{2}{\\left(x \\right)} - 3\\right) \\tan{\\left(x \\right)}}{3 \\tan^{2}{\\left(x \\right)} - 1}$",
            "text/plain": [
              "⎛   2       ⎞       \n",
              "⎝tan (x) - 3⎠⋅tan(x)\n",
              "────────────────────\n",
              "        2           \n",
              "   3⋅tan (x) - 1    "
            ]
          },
          "metadata": {
            "tags": []
          }
        },
        {
          "output_type": "display_data",
          "data": {
            "image/png": "[encoded data removed]",
            "text/latex": "$\\displaystyle \\frac{\\tan{\\left(x \\right)}}{3} - \\frac{8 \\tan{\\left(x \\right)}}{9 \\tan^{2}{\\left(x \\right)} - 3}$",
            "text/plain": [
              "tan(x)      8⋅tan(x)  \n",
              "────── - ─────────────\n",
              "  3           2       \n",
              "         9⋅tan (x) - 3"
            ]
          },
          "metadata": {
            "tags": []
          }
        }
      ]
    },
    {
      "cell_type": "markdown",
      "metadata": {
        "id": "ICnGzfrb0mB9"
      },
      "source": [
        "# 微分・積分・数値積分\n",
        "\n",
        "操作 |表記例 \n",
        "--:|---\n",
        "微分  |diff(f,x)  \n",
        "n 階微分  |diff(f,x,n) \n",
        "不定積分  |integrate(f,x)\n",
        "定積分  |integrate(f,(x,a,b))  \n",
        "\n",
        "$x^3+5x+2$ を $x$ で微分する\n",
        "\n",
        "$\\frac{d}{dx}(x^3+5x+2)$"
      ]
    },
    {
      "cell_type": "code",
      "metadata": {
        "id": "qfNaEktQqj1D",
        "colab": {
          "base_uri": "https://localhost:8080/",
          "height": 52
        },
        "outputId": "3cb51614-a8cf-497f-af04-e014df66785b"
      },
      "source": [
        "from sympy.abc import *\n",
        "from sympy import *\n",
        "init_printing()\n",
        "display(Eq(Derivative(x**3+5*x+2,x),diff(x**3+5*x+2,x)))"
      ],
      "execution_count": null,
      "outputs": [
        {
          "output_type": "display_data",
          "data": {
            "image/png": "[encoded data removed]",
            "text/latex": "$\\displaystyle \\frac{d}{d x} \\left(x^{3} + 5 x + 2\\right) = 3 x^{2} + 5$",
            "text/plain": [
              "d ⎛ 3          ⎞      2    \n",
              "──⎝x  + 5⋅x + 2⎠ = 3⋅x  + 5\n",
              "dx                         "
            ]
          },
          "metadata": {
            "tags": []
          }
        }
      ]
    },
    {
      "cell_type": "code",
      "metadata": {
        "id": "MqtaIeUTrNgw",
        "colab": {
          "base_uri": "https://localhost:8080/",
          "height": 91
        },
        "outputId": "f3539f2a-0d92-4ba1-c518-c19549936ea0"
      },
      "source": [
        "# 2階微分する -- 入れ子にしてもできるが、x,2とするのが簡単\n",
        "from sympy.abc import *\n",
        "from sympy import *\n",
        "init_printing()\n",
        "display(Eq((Derivative(x**3+5*x+2,x,2)),diff(x**3+5*x+2,x,2)))"
      ],
      "execution_count": null,
      "outputs": [
        {
          "output_type": "display_data",
          "data": {
            "image/png": "[encoded data removed]",
            "text/latex": "$\\displaystyle \\frac{d^{2}}{d x^{2}} \\left(x^{3} + 5 x + 2\\right) = 6 x$",
            "text/plain": [
              "  2                    \n",
              " d ⎛ 3          ⎞      \n",
              "───⎝x  + 5⋅x + 2⎠ = 6⋅x\n",
              "  2                    \n",
              "dx                     "
            ]
          },
          "metadata": {
            "tags": []
          }
        },
        {
          "output_type": "display_data",
          "data": {
            "image/png": "[encoded data removed]",
            "text/latex": "$\\displaystyle \\frac{d^{2}}{d x^{2}} \\left(x^{3} + 5 x + 2\\right) = 6 x$",
            "text/plain": [
              "  2                    \n",
              " d ⎛ 3          ⎞      \n",
              "───⎝x  + 5⋅x + 2⎠ = 6⋅x\n",
              "  2                    \n",
              "dx                     "
            ]
          },
          "metadata": {
            "tags": []
          }
        }
      ]
    },
    {
      "cell_type": "markdown",
      "metadata": {
        "id": "UHy6Hp6W1SXD"
      },
      "source": [
        "# 積分\n",
        "\n",
        "$\\displaystyle \n",
        "\\int \\left(x^{2} \\cos x + 2 x \\sin x\\right)\\, dx = x^{2} \\sin x\n",
        "$\n",
        "\n"
      ]
    },
    {
      "cell_type": "code",
      "metadata": {
        "id": "3e4omWzz1WrC",
        "colab": {
          "base_uri": "https://localhost:8080/",
          "height": 91
        },
        "outputId": "efb32aec-f318-438f-9e8a-f5769a8d10ca"
      },
      "source": [
        "# 積分\n",
        "from sympy.abc import *\n",
        "from sympy import *\n",
        "init_printing()\n",
        "expr = x**2*cos(x)+2*x*sin(x)\n",
        "\n",
        "display(Eq(Integral(expr),integrate(expr)))"
      ],
      "execution_count": null,
      "outputs": [
        {
          "output_type": "display_data",
          "data": {
            "image/png": "[encoded data removed]",
            "text/latex": "$\\displaystyle \\int \\left(x^{2} \\cos{\\left(x \\right)} + 2 x \\sin{\\left(x \\right)}\\right)\\, dx = x^{2} \\sin{\\left(x \\right)}$",
            "text/plain": [
              "⌠                                        \n",
              "⎮ ⎛ 2                    ⎞       2       \n",
              "⎮ ⎝x ⋅cos(x) + 2⋅x⋅sin(x)⎠ dx = x ⋅sin(x)\n",
              "⌡                                        "
            ]
          },
          "metadata": {
            "tags": []
          }
        },
        {
          "output_type": "execute_result",
          "data": {
            "application/vnd.google.colaboratory.intrinsic+json": {
              "type": "string"
            },
            "text/plain": [
              "'\\\\int \\\\left(x^{2} \\\\cos{\\\\left(x \\\\right)} + 2 x \\\\sin{\\\\left(x \\\\right)}\\\\right)\\\\, dx = x^{2} \\\\sin{\\\\left(x \\\\right)}'"
            ]
          },
          "metadata": {
            "tags": []
          },
          "execution_count": 18
        }
      ]
    },
    {
      "cell_type": "code",
      "metadata": {
        "colab": {
          "base_uri": "https://localhost:8080/",
          "height": 38
        },
        "id": "rVK10iTTRkHz",
        "outputId": "eb14183a-b45e-4609-9a4e-66d61681ed2a"
      },
      "source": [
        "# 実験\n",
        "# sin^2x, cos^2x の sympy での表現\n",
        "from sympy.abc import *\n",
        "from sympy import *\n",
        "init_printing()\n",
        "expr = sin(x)**2+cos(x)**2\n",
        "display(expr)"
      ],
      "execution_count": null,
      "outputs": [
        {
          "output_type": "display_data",
          "data": {
            "image/png": "[encoded data removed]",
            "text/latex": "$\\displaystyle \\sin^{2}{\\left(x \\right)} + \\cos^{2}{\\left(x \\right)}$",
            "text/plain": [
              "   2         2   \n",
              "sin (x) + cos (x)"
            ]
          },
          "metadata": {
            "tags": []
          }
        }
      ]
    },
    {
      "cell_type": "markdown",
      "metadata": {
        "id": "_npNjzC0UC2a"
      },
      "source": [
        "# 定積分"
      ]
    },
    {
      "cell_type": "code",
      "metadata": {
        "colab": {
          "base_uri": "https://localhost:8080/",
          "height": 190
        },
        "id": "KKNktqonUSm1",
        "outputId": "6d059848-a266-4fd7-830f-7c734ceda390"
      },
      "source": [
        "# 定積分\n",
        "display(sin(x))\n",
        "display(integrate(sin(x),(x,0,pi/2)))\n",
        "display(Integral(sin(x),(x,0,pi/2)))\n",
        "display(Eq(Integral(sin(x),(x,0,pi/2)),integrate(sin(x),(x,0,pi/2))))"
      ],
      "execution_count": null,
      "outputs": [
        {
          "output_type": "display_data",
          "data": {
            "image/png": "[encoded data removed]",
            "text/latex": "$\\displaystyle \\sin{\\left(x \\right)}$",
            "text/plain": [
              "sin(x)"
            ]
          },
          "metadata": {
            "tags": []
          }
        },
        {
          "output_type": "display_data",
          "data": {
            "image/png": "[encoded data removed]",
            "text/latex": "$\\displaystyle 1$",
            "text/plain": [
              "1"
            ]
          },
          "metadata": {
            "tags": []
          }
        },
        {
          "output_type": "display_data",
          "data": {
            "image/png": "[encoded data removed]",
            "text/latex": "$\\displaystyle \\int\\limits_{0}^{\\frac{\\pi}{2}} \\sin{\\left(x \\right)}\\, dx$",
            "text/plain": [
              "π          \n",
              "─          \n",
              "2          \n",
              "⌠          \n",
              "⎮ sin(x) dx\n",
              "⌡          \n",
              "0          "
            ]
          },
          "metadata": {
            "tags": []
          }
        },
        {
          "output_type": "display_data",
          "data": {
            "image/png": "[encoded data removed]",
            "text/latex": "$\\displaystyle \\int\\limits_{0}^{\\frac{\\pi}{2}} \\sin{\\left(x \\right)}\\, dx = 1$",
            "text/plain": [
              "π              \n",
              "─              \n",
              "2              \n",
              "⌠              \n",
              "⎮ sin(x) dx = 1\n",
              "⌡              \n",
              "0              "
            ]
          },
          "metadata": {
            "tags": []
          }
        }
      ]
    },
    {
      "cell_type": "markdown",
      "metadata": {
        "id": "J467W63cVS5C"
      },
      "source": [
        "**練習**\n",
        "\n",
        "$\\displaystyle y=\\frac{2x-1}{x+1}$ が $x \\neq -1$ で増加関数であることを示す。\n",
        "\n",
        "解答\n",
        "\n",
        "下記により、$y$ の微分が $\\displaystyle \\frac{3}{(x+1)^2}$ でこれは $x \\neq -1$ のとき、常に正の値なので、増加関数である。"
      ]
    },
    {
      "cell_type": "code",
      "metadata": {
        "colab": {
          "base_uri": "https://localhost:8080/",
          "height": 134
        },
        "id": "YJ9qzSDHX3sN",
        "outputId": "e3dbf66a-24a1-4c1f-9d87-a65fff55b084"
      },
      "source": [
        "y = (2*x-1)/(x+1)\n",
        "display(y)\n",
        "display(diff(y))\n",
        "display(simplify(diff(y,x)))"
      ],
      "execution_count": null,
      "outputs": [
        {
          "output_type": "display_data",
          "data": {
            "image/png": "[encoded data removed]",
            "text/latex": "$\\displaystyle \\frac{2 x - 1}{x + 1}$",
            "text/plain": [
              "2⋅x - 1\n",
              "───────\n",
              " x + 1 "
            ]
          },
          "metadata": {
            "tags": []
          }
        },
        {
          "output_type": "display_data",
          "data": {
            "image/png": "[encoded data removed]",
            "text/latex": "$\\displaystyle \\frac{2}{x + 1} - \\frac{2 x - 1}{\\left(x + 1\\right)^{2}}$",
            "text/plain": [
              "  2     2⋅x - 1 \n",
              "───── - ────────\n",
              "x + 1          2\n",
              "        (x + 1) "
            ]
          },
          "metadata": {
            "tags": []
          }
        },
        {
          "output_type": "display_data",
          "data": {
            "image/png": "[encoded data removed]",
            "text/latex": "$\\displaystyle \\frac{3}{\\left(x + 1\\right)^{2}}$",
            "text/plain": [
              "   3    \n",
              "────────\n",
              "       2\n",
              "(x + 1) "
            ]
          },
          "metadata": {
            "tags": []
          }
        }
      ]
    },
    {
      "cell_type": "code",
      "metadata": {
        "colab": {
          "base_uri": "https://localhost:8080/",
          "height": 114
        },
        "id": "8BtZs4ZVZE2c",
        "outputId": "b517888c-aca5-4099-ca82-a58f37ccf81c"
      },
      "source": [
        "# 練習 次の積分を計算する\n",
        "expr = (E**x)*sin(x)\n",
        "display(expr)\n",
        "display(integrate(expr,x))\n",
        "display(Eq(Integral(expr),integrate(expr,x)))\n"
      ],
      "execution_count": null,
      "outputs": [
        {
          "output_type": "display_data",
          "data": {
            "image/png": "[encoded data removed]",
            "text/latex": "$\\displaystyle e^{x} \\sin{\\left(x \\right)}$",
            "text/plain": [
              " x       \n",
              "ℯ ⋅sin(x)"
            ]
          },
          "metadata": {
            "tags": []
          }
        },
        {
          "output_type": "display_data",
          "data": {
            "image/png": "[encoded data removed]",
            "text/latex": "$\\displaystyle \\frac{e^{x} \\sin{\\left(x \\right)}}{2} - \\frac{e^{x} \\cos{\\left(x \\right)}}{2}$",
            "text/plain": [
              " x           x       \n",
              "ℯ ⋅sin(x)   ℯ ⋅cos(x)\n",
              "───────── - ─────────\n",
              "    2           2    "
            ]
          },
          "metadata": {
            "tags": []
          }
        },
        {
          "output_type": "display_data",
          "data": {
            "image/png": "[encoded data removed]",
            "text/latex": "$\\displaystyle \\int e^{x} \\sin{\\left(x \\right)}\\, dx = \\frac{e^{x} \\sin{\\left(x \\right)}}{2} - \\frac{e^{x} \\cos{\\left(x \\right)}}{2}$",
            "text/plain": [
              "⌠                 x           x       \n",
              "⎮  x             ℯ ⋅sin(x)   ℯ ⋅cos(x)\n",
              "⎮ ℯ ⋅sin(x) dx = ───────── - ─────────\n",
              "⌡                    2           2    "
            ]
          },
          "metadata": {
            "tags": []
          }
        }
      ]
    },
    {
      "cell_type": "code",
      "metadata": {
        "colab": {
          "base_uri": "https://localhost:8080/",
          "height": 118
        },
        "id": "rh0hv361Z9YK",
        "outputId": "69911bc3-e98f-4efb-87c1-410a61c68977"
      },
      "source": [
        "# 練習 次の積分を計算する\n",
        "expr = (x**2-2*x-2)/(x**3-1)\n",
        "display(expr)\n",
        "display(integrate(expr,x))\n",
        "display(Eq(Integral(expr),integrate(expr,x)))"
      ],
      "execution_count": null,
      "outputs": [
        {
          "output_type": "display_data",
          "data": {
            "image/png": "[encoded data removed]",
            "text/latex": "$\\displaystyle \\frac{x^{2} - 2 x - 2}{x^{3} - 1}$",
            "text/plain": [
              " 2          \n",
              "x  - 2⋅x - 2\n",
              "────────────\n",
              "    3       \n",
              "   x  - 1   "
            ]
          },
          "metadata": {
            "tags": []
          }
        },
        {
          "output_type": "display_data",
          "data": {
            "image/png": "[encoded data removed]",
            "text/latex": "$\\displaystyle - \\log{\\left(x - 1 \\right)} + \\log{\\left(x^{2} + x + 1 \\right)}$",
            "text/plain": [
              "                 ⎛ 2        ⎞\n",
              "-log(x - 1) + log⎝x  + x + 1⎠"
            ]
          },
          "metadata": {
            "tags": []
          }
        },
        {
          "output_type": "display_data",
          "data": {
            "image/png": "[encoded data removed]",
            "text/latex": "$\\displaystyle \\int \\frac{x^{2} - 2 x - 2}{x^{3} - 1}\\, dx = - \\log{\\left(x - 1 \\right)} + \\log{\\left(x^{2} + x + 1 \\right)}$",
            "text/plain": [
              "⌠                                                \n",
              "⎮  2                                             \n",
              "⎮ x  - 2⋅x - 2                       ⎛ 2        ⎞\n",
              "⎮ ──────────── dx = -log(x - 1) + log⎝x  + x + 1⎠\n",
              "⎮     3                                          \n",
              "⎮    x  - 1                                      \n",
              "⌡                                                "
            ]
          },
          "metadata": {
            "tags": []
          }
        }
      ]
    },
    {
      "cell_type": "markdown",
      "metadata": {
        "id": "2ni53cALaKjq"
      },
      "source": [
        "# 数値積分\n",
        "\n",
        "解析的に積分できない場合は、数値積分によって近似値を求めることができる場合がある"
      ]
    },
    {
      "cell_type": "code",
      "metadata": {
        "colab": {
          "base_uri": "https://localhost:8080/",
          "height": 119
        },
        "id": "ZxTXo8HLaWss",
        "outputId": "b058cafa-585d-4552-c6f8-cad45e514afc"
      },
      "source": [
        "# integrate sin(sin(x)),(x,0,pi)) は解析的には解けない => evalf() する\n",
        "expr = sin(sin(x))\n",
        "display(expr)\n",
        "display(integrate(expr,(x,0,pi)))\n",
        "display(integrate(expr,(x,0,pi)).evalf())"
      ],
      "execution_count": null,
      "outputs": [
        {
          "output_type": "display_data",
          "data": {
            "image/png": "[encoded data removed]",
            "text/latex": "$\\displaystyle \\sin{\\left(\\sin{\\left(x \\right)} \\right)}$",
            "text/plain": [
              "sin(sin(x))"
            ]
          },
          "metadata": {
            "tags": []
          }
        },
        {
          "output_type": "display_data",
          "data": {
            "image/png": "[encoded data removed]",
            "text/latex": "$\\displaystyle \\int\\limits_{0}^{\\pi} \\sin{\\left(\\sin{\\left(x \\right)} \\right)}\\, dx$",
            "text/plain": [
              "π               \n",
              "⌠               \n",
              "⎮ sin(sin(x)) dx\n",
              "⌡               \n",
              "0               "
            ]
          },
          "metadata": {
            "tags": []
          }
        },
        {
          "output_type": "display_data",
          "data": {
            "image/png": "[encoded data removed]",
            "text/latex": "$\\displaystyle 1.78648748195005$",
            "text/plain": [
              "1.78648748195005"
            ]
          },
          "metadata": {
            "tags": []
          }
        }
      ]
    },
    {
      "cell_type": "code",
      "metadata": {
        "colab": {
          "base_uri": "https://localhost:8080/",
          "height": 98
        },
        "id": "FVE-9CvKa_re",
        "outputId": "cad08a94-dca6-4de1-ea26-fc8179f7fed5"
      },
      "source": [
        "# erf() はガウスの誤差関数\n",
        "expr = E**(-x**2)\n",
        "display(expr)\n",
        "display(integrate(expr,(x,0,1)))\n",
        "display(integrate(expr,(x,0,1)).evalf())"
      ],
      "execution_count": null,
      "outputs": [
        {
          "output_type": "display_data",
          "data": {
            "image/png": "[encoded data removed]",
            "text/latex": "$\\displaystyle e^{- x^{2}}$",
            "text/plain": [
              "   2\n",
              " -x \n",
              "ℯ   "
            ]
          },
          "metadata": {
            "tags": []
          }
        },
        {
          "output_type": "display_data",
          "data": {
            "image/png": "[encoded data removed]",
            "text/latex": "$\\displaystyle \\frac{\\sqrt{\\pi} \\operatorname{erf}{\\left(1 \\right)}}{2}$",
            "text/plain": [
              "√π⋅erf(1)\n",
              "─────────\n",
              "    2    "
            ]
          },
          "metadata": {
            "tags": []
          }
        },
        {
          "output_type": "display_data",
          "data": {
            "image/png": "[encoded data removed]",
            "text/latex": "$\\displaystyle 0.746824132812427$",
            "text/plain": [
              "0.746824132812427"
            ]
          },
          "metadata": {
            "tags": []
          }
        }
      ]
    },
    {
      "cell_type": "code",
      "metadata": {
        "colab": {
          "base_uri": "https://localhost:8080/",
          "height": 198
        },
        "id": "wnfSUZCeblKA",
        "outputId": "b3bac32c-d5e9-425c-8f40-cfc9941ad22f"
      },
      "source": [
        "# ガウス積分\n",
        "expr = exp(-x**2)\n",
        "display(expr)\n",
        "display(integrate(expr,(x,0,oo)))\n",
        "display(Eq(Integral(expr, (x, 0, oo)),integrate(expr, (x, 0, oo))))\n",
        "display(Eq(Integral(expr, (x, 0, oo)), Integral(expr, (x, 0, oo)).doit())) # 上と同じ"
      ],
      "execution_count": null,
      "outputs": [
        {
          "output_type": "display_data",
          "data": {
            "image/png": "[encoded data removed]",
            "text/latex": "$\\displaystyle e^{- x^{2}}$",
            "text/plain": [
              "   2\n",
              " -x \n",
              "ℯ   "
            ]
          },
          "metadata": {
            "tags": []
          }
        },
        {
          "output_type": "display_data",
          "data": {
            "image/png": "[encoded data removed]",
            "text/latex": "$\\displaystyle \\frac{\\sqrt{\\pi}}{2}$",
            "text/plain": [
              "√π\n",
              "──\n",
              "2 "
            ]
          },
          "metadata": {
            "tags": []
          }
        },
        {
          "output_type": "display_data",
          "data": {
            "image/png": "[encoded data removed]",
            "text/latex": "$\\displaystyle \\int\\limits_{0}^{\\infty} e^{- x^{2}}\\, dx = \\frac{\\sqrt{\\pi}}{2}$",
            "text/plain": [
              "∞             \n",
              "⌠             \n",
              "⎮    2        \n",
              "⎮  -x       √π\n",
              "⎮ ℯ    dx = ──\n",
              "⌡           2 \n",
              "0             "
            ]
          },
          "metadata": {
            "tags": []
          }
        },
        {
          "output_type": "display_data",
          "data": {
            "image/png": "[encoded data removed]",
            "text/latex": "$\\displaystyle \\int\\limits_{0}^{\\infty} e^{- x^{2}}\\, dx = \\frac{\\sqrt{\\pi}}{2}$",
            "text/plain": [
              "∞             \n",
              "⌠             \n",
              "⎮    2        \n",
              "⎮  -x       √π\n",
              "⎮ ℯ    dx = ──\n",
              "⌡           2 \n",
              "0             "
            ]
          },
          "metadata": {
            "tags": []
          }
        }
      ]
    },
    {
      "cell_type": "markdown",
      "metadata": {
        "id": "gKyB6TjGeRkF"
      },
      "source": [
        "# メモ: 公式の証明\n",
        "三角関数の公式の証明はあとで一通りやっておきたい。\n",
        "\n",
        "参考 https://mathwords.net/sinnijosekibun\n",
        "\n",
        "いまの考え。 マークダウンで書き、sympyで検証する。 マークダウンで書く際の latex 文を作るサポートに sympy で補助する (sympy の latex コマンド)。"
      ]
    },
    {
      "cell_type": "markdown",
      "metadata": {
        "id": "0Hm7DrOydV07"
      },
      "source": [
        "# 方程式"
      ]
    },
    {
      "cell_type": "code",
      "metadata": {
        "colab": {
          "base_uri": "https://localhost:8080/",
          "height": 69
        },
        "id": "kTbqwyape-Ld",
        "outputId": "70846956-cb69-4abc-8e55-76efaaa09a8d"
      },
      "source": [
        "# solve の使い方\n",
        "from sympy.abc import *\n",
        "from sympy import *\n",
        "init_printing()\n",
        "expr = x**2 + 2*x -2\n",
        "display(Eq(expr,0))\n",
        "display(solve(expr, x))"
      ],
      "execution_count": null,
      "outputs": [
        {
          "output_type": "display_data",
          "data": {
            "image/png": "[encoded data removed]",
            "text/latex": "$\\displaystyle x^{2} + 2 x - 2 = 0$",
            "text/plain": [
              " 2              \n",
              "x  + 2⋅x - 2 = 0"
            ]
          },
          "metadata": {
            "tags": []
          }
        },
        {
          "output_type": "display_data",
          "data": {
            "image/png": "[encoded data removed]",
            "text/latex": "$\\displaystyle \\left[ -1 + \\sqrt{3}, \\  - \\sqrt{3} - 1\\right]$",
            "text/plain": [
              "[-1 + √3, -√3 - 1]"
            ]
          },
          "metadata": {
            "tags": []
          }
        }
      ]
    },
    {
      "cell_type": "code",
      "metadata": {
        "colab": {
          "base_uri": "https://localhost:8080/",
          "height": 37
        },
        "id": "CmBEGv_vfu5F",
        "outputId": "9a196a54-62f6-4239-a91a-fd226132bf20"
      },
      "source": [
        "# solve の使い方\n",
        "from sympy.abc import *\n",
        "from sympy import *\n",
        "init_printing()\n",
        "expr = x**2 + y**2 -5\n",
        "expr2 = x + y - 1\n",
        "\n",
        "display(solve([expr,expr2], [x,y]))"
      ],
      "execution_count": null,
      "outputs": [
        {
          "output_type": "display_data",
          "data": {
            "image/png": "[encoded data removed]",
            "text/latex": "$\\displaystyle \\left[ \\left( -1, \\  2\\right), \\  \\left( 2, \\  -1\\right)\\right]$",
            "text/plain": [
              "[(-1, 2), (2, -1)]"
            ]
          },
          "metadata": {
            "tags": []
          }
        }
      ]
    },
    {
      "cell_type": "code",
      "metadata": {
        "colab": {
          "base_uri": "https://localhost:8080/",
          "height": 90
        },
        "id": "RNXWZRz2gJpd",
        "outputId": "d69cada3-8db4-4d5e-8ce3-11cfe0c6179e"
      },
      "source": [
        "# solve の使い方\n",
        "from sympy.abc import *\n",
        "from sympy import *\n",
        "init_printing()\n",
        "expr = x**3-8\n",
        "display(solve(expr))\n",
        "expr2 = -1 + sqrt(3)*I\n",
        "display(expr2)\n",
        "display(simplify(expr2**3))"
      ],
      "execution_count": null,
      "outputs": [
        {
          "output_type": "display_data",
          "data": {
            "image/png": "[encoded data removed]",
            "text/latex": "$\\displaystyle \\left[ 2, \\  -1 - \\sqrt{3} i, \\  -1 + \\sqrt{3} i\\right]$",
            "text/plain": [
              "[2, -1 - √3⋅ⅈ, -1 + √3⋅ⅈ]"
            ]
          },
          "metadata": {
            "tags": []
          }
        },
        {
          "output_type": "display_data",
          "data": {
            "image/png": "[encoded data removed]",
            "text/latex": "$\\displaystyle -1 + \\sqrt{3} i$",
            "text/plain": [
              "-1 + √3⋅ⅈ"
            ]
          },
          "metadata": {
            "tags": []
          }
        },
        {
          "output_type": "display_data",
          "data": {
            "image/png": "[encoded data removed]",
            "text/latex": "$\\displaystyle 8$",
            "text/plain": [
              "8"
            ]
          },
          "metadata": {
            "tags": []
          }
        }
      ]
    },
    {
      "cell_type": "code",
      "metadata": {
        "colab": {
          "base_uri": "https://localhost:8080/",
          "height": 57
        },
        "id": "wVbR8yOBgzhD",
        "outputId": "135399a3-82ba-4a51-d3c2-b3e32b9488e9"
      },
      "source": [
        "# 実数解のみを求める場合 solve ではなく real_roots 、もしくは \"x\", real=True とする\n",
        "expr = x**3-8\n",
        "display(real_roots(expr))\n",
        "x = symbols('x', real=True)\n",
        "expr = x**3-8\n",
        "display(solve(expr))"
      ],
      "execution_count": null,
      "outputs": [
        {
          "output_type": "display_data",
          "data": {
            "image/png": "[encoded data removed]",
            "text/latex": "$\\displaystyle \\left[ 2\\right]$",
            "text/plain": [
              "[2]"
            ]
          },
          "metadata": {
            "tags": []
          }
        },
        {
          "output_type": "display_data",
          "data": {
            "image/png": "[encoded data removed]",
            "text/latex": "$\\displaystyle \\left[ 2\\right]$",
            "text/plain": [
              "[2]"
            ]
          },
          "metadata": {
            "tags": []
          }
        }
      ]
    },
    {
      "cell_type": "markdown",
      "metadata": {
        "id": "XbOHYtPhhUIX"
      },
      "source": [
        "**問題**\n",
        "\n",
        "鶴と亀と蟻\n",
        "\n",
        "個体数の合計は 10、足の数は全部で 34本、 蟻は亀より 1匹少ない。 鶴、亀、蟻の数を求める。"
      ]
    },
    {
      "cell_type": "code",
      "metadata": {
        "colab": {
          "base_uri": "https://localhost:8080/",
          "height": 38
        },
        "id": "tdDpIpQnhsDn",
        "outputId": "a1e20ece-41c0-4aa1-a476-c6715925d4c5"
      },
      "source": [
        "# 鶴と亀と蟻\n",
        "from sympy.abc import *\n",
        "from sympy import *\n",
        "init_printing()\n",
        "expr = x+y+z-10\n",
        "expr2 = 2*x+4*y+6*z - 34\n",
        "expr3 = y - z - 1\n",
        "display(solve([expr,expr2,expr3],[x,y,z]))"
      ],
      "execution_count": null,
      "outputs": [
        {
          "output_type": "display_data",
          "data": {
            "image/png": "[encoded data removed]",
            "text/latex": "$\\displaystyle \\left\\{ x : 5, \\  y : 3, \\  z : 2\\right\\}$",
            "text/plain": [
              "{x: 5, y: 3, z: 2}"
            ]
          },
          "metadata": {
            "tags": []
          }
        }
      ]
    },
    {
      "cell_type": "markdown",
      "metadata": {
        "id": "qyhF8XlE7DZ_"
      },
      "source": [
        "**方程式の数値解**"
      ]
    },
    {
      "cell_type": "code",
      "metadata": {
        "id": "6mT8tRLm7MHA",
        "colab": {
          "base_uri": "https://localhost:8080/",
          "height": 384
        },
        "outputId": "7fa828ce-c6f2-41bb-c844-b621ec6718e6"
      },
      "source": [
        "def f(x):\n",
        "    return x**3 + 8*x -3\n",
        "\n",
        "sols = solve(f(x))\n",
        "for sol in sols:\n",
        "    print(sol.evalf())\n",
        "\n",
        "display(sols)\n",
        "\n",
        "for sol in sols:\n",
        "    display(sol.evalf())\n",
        "\n",
        "print()\n",
        "x3=float(sols[2])\n",
        "print (x3)\n",
        "print(f(x3))\n",
        "\n",
        "print()\n",
        "display(f(sols[2]))\n",
        "print()\n",
        "display(simplify(f(sols[2])))"
      ],
      "execution_count": null,
      "outputs": [
        {
          "output_type": "stream",
          "text": [
            "-0.184366593784688 - 2.84639651537015*I\n",
            "-0.184366593784688 + 2.84639651537015*I\n",
            "0.368733187569376\n"
          ],
          "name": "stdout"
        },
        {
          "output_type": "display_data",
          "data": {
            "image/png": "[encoded data removed]",
            "text/latex": "$\\displaystyle \\left[ \\left(- \\frac{1}{2} - \\frac{\\sqrt{3} i}{2}\\right) \\sqrt[3]{\\frac{3}{2} + \\frac{\\sqrt{6873}}{18}} - \\frac{8}{3 \\left(- \\frac{1}{2} - \\frac{\\sqrt{3} i}{2}\\right) \\sqrt[3]{\\frac{3}{2} + \\frac{\\sqrt{6873}}{18}}}, \\  - \\frac{8}{3 \\left(- \\frac{1}{2} + \\frac{\\sqrt{3} i}{2}\\right) \\sqrt[3]{\\frac{3}{2} + \\frac{\\sqrt{6873}}{18}}} + \\left(- \\frac{1}{2} + \\frac{\\sqrt{3} i}{2}\\right) \\sqrt[3]{\\frac{3}{2} + \\frac{\\sqrt{6873}}{18}}, \\  - \\frac{8}{3 \\sqrt[3]{\\frac{3}{2} + \\frac{\\sqrt{6873}}{18}}} + \\sqrt[3]{\\frac{3}{2} + \\frac{\\sqrt{6873}}{18}}\\right]$",
            "text/plain": [
              "⎡                 ___________                                                 \n",
              "⎢⎛  1   √3⋅ⅈ⎞    ╱ 3   √6873                  8                               \n",
              "⎢⎜- ─ - ────⎟⋅3 ╱  ─ + ─────  - ──────────────────────────────, - ────────────\n",
              "⎢⎝  2    2  ⎠ ╲╱   2     18                        ___________                \n",
              "⎢                                 ⎛  1   √3⋅ⅈ⎞    ╱ 3   √6873       ⎛  1   √3⋅\n",
              "⎢                               3⋅⎜- ─ - ────⎟⋅3 ╱  ─ + ─────     3⋅⎜- ─ + ───\n",
              "⎣                                 ⎝  2    2  ⎠ ╲╱   2     18        ⎝  2    2 \n",
              "\n",
              "                                      ___________                            _\n",
              "  8                  ⎛  1   √3⋅ⅈ⎞    ╱ 3   √6873             8              ╱ \n",
              "────────────────── + ⎜- ─ + ────⎟⋅3 ╱  ─ + ───── , - ───────────────── + 3 ╱  \n",
              "       ___________   ⎝  2    2  ⎠ ╲╱   2     18            ___________   ╲╱   \n",
              "ⅈ⎞    ╱ 3   √6873                                         ╱ 3   √6873         \n",
              "─⎟⋅3 ╱  ─ + ─────                                    3⋅3 ╱  ─ + ─────         \n",
              " ⎠ ╲╱   2     18                                       ╲╱   2     18          \n",
              "\n",
              "__________⎤\n",
              "3   √6873 ⎥\n",
              "─ + ───── ⎥\n",
              "2     18  ⎥\n",
              "          ⎥\n",
              "          ⎥\n",
              "          ⎦"
            ]
          },
          "metadata": {
            "tags": []
          }
        },
        {
          "output_type": "display_data",
          "data": {
            "image/png": "[encoded data removed]",
            "text/latex": "$\\displaystyle -0.184366593784688 - 2.84639651537015 i$",
            "text/plain": [
              "-0.184366593784688 - 2.84639651537015⋅ⅈ"
            ]
          },
          "metadata": {
            "tags": []
          }
        },
        {
          "output_type": "display_data",
          "data": {
            "image/png": "[encoded data removed]",
            "text/latex": "$\\displaystyle -0.184366593784688 + 2.84639651537015 i$",
            "text/plain": [
              "-0.184366593784688 + 2.84639651537015⋅ⅈ"
            ]
          },
          "metadata": {
            "tags": []
          }
        },
        {
          "output_type": "display_data",
          "data": {
            "image/png": "[encoded data removed]",
            "text/latex": "$\\displaystyle 0.368733187569376$",
            "text/plain": [
              "0.368733187569376"
            ]
          },
          "metadata": {
            "tags": []
          }
        },
        {
          "output_type": "stream",
          "text": [
            "\n",
            "0.36873318756937623\n",
            "0.0\n",
            "\n"
          ],
          "name": "stdout"
        },
        {
          "output_type": "display_data",
          "data": {
            "image/png": "[encoded data removed]",
            "text/latex": "$\\displaystyle - \\frac{64}{3 \\sqrt[3]{\\frac{3}{2} + \\frac{\\sqrt{6873}}{18}}} - 3 + \\left(- \\frac{8}{3 \\sqrt[3]{\\frac{3}{2} + \\frac{\\sqrt{6873}}{18}}} + \\sqrt[3]{\\frac{3}{2} + \\frac{\\sqrt{6873}}{18}}\\right)^{3} + 8 \\sqrt[3]{\\frac{3}{2} + \\frac{\\sqrt{6873}}{18}}$",
            "text/plain": [
              "                                                                 3            \n",
              "                          ⎛                          ___________⎞          ___\n",
              "          64              ⎜          8              ╱ 3   √6873 ⎟         ╱ 3 \n",
              "- ───────────────── - 3 + ⎜- ───────────────── + 3 ╱  ─ + ───── ⎟  + 8⋅3 ╱  ─ \n",
              "        ___________       ⎜        ___________   ╲╱   2     18  ⎟      ╲╱   2 \n",
              "       ╱ 3   √6873        ⎜       ╱ 3   √6873                   ⎟             \n",
              "  3⋅3 ╱  ─ + ─────        ⎜  3⋅3 ╱  ─ + ─────                   ⎟             \n",
              "    ╲╱   2     18         ⎝    ╲╱   2     18                    ⎠             \n",
              "\n",
              "        \n",
              "________\n",
              "  √6873 \n",
              "+ ───── \n",
              "    18  \n",
              "        \n",
              "        \n",
              "        "
            ]
          },
          "metadata": {
            "tags": []
          }
        },
        {
          "output_type": "display_data",
          "data": {
            "image/png": "[encoded data removed]",
            "text/latex": "$\\displaystyle 0$",
            "text/plain": [
              "0"
            ]
          },
          "metadata": {
            "tags": []
          }
        }
      ]
    },
    {
      "cell_type": "markdown",
      "metadata": {
        "id": "TZG9fHyXf3e1"
      },
      "source": [
        "多項方程式でない場合は nsolve を使って数値解を探す。\n",
        "\n",
        "$g(x)=\\left(x - 1\\right) e^{x}$"
      ]
    },
    {
      "cell_type": "code",
      "metadata": {
        "id": "8yxpHzfh9Zlv"
      },
      "source": [
        "# nsolve の使い方。 多項方程式でない場合は nsolve を使う\n",
        "from sympy.abc import *\n",
        "from sympy import *\n",
        "init_printing()\n",
        "def g(x):\n",
        "    return (x-1)*exp(x)\n",
        "\n",
        "display(latex(g(x)))\n",
        "display(g(x))\n",
        "# g(x)-1=0 の解は solve では明示されない\n",
        "display(solve(g(x)-1))\n",
        "# nsolve 関数を使って、20桁の精度で数値解を求める\n",
        "display(nsolve(g(x)-1,x,1,prec=20))\n",
        "# 代入して確認\n",
        "ans = nsolve(g(x)-1,x,1,prec=20)\n",
        "display(g(ans))\n"
      ],
      "execution_count": null,
      "outputs": []
    },
    {
      "cell_type": "markdown",
      "metadata": {
        "id": "-B4bp380inVh"
      },
      "source": [
        "**練習**\n",
        "\n",
        "関数の極大値\n",
        "\n",
        "次の関数が極大値をとる $x$ の値およびその極大値を求める。\n",
        "\n",
        "1. $$\n",
        "2. $$"
      ]
    },
    {
      "cell_type": "markdown",
      "metadata": {
        "id": "SRzTBfbqzn1F"
      },
      "source": [
        "# いまここ"
      ]
    }
  ]
}