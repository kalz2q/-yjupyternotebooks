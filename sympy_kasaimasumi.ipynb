{
  "nbformat": 4,
  "nbformat_minor": 0,
  "metadata": {
    "colab": {
      "name": "sympy_kasaimasumi.ipynb",
      "provenance": [],
      "toc_visible": true,
      "authorship_tag": "ABX9TyOamy3CBo9PXLbVPJFk7GVn",
      "include_colab_link": true
    },
    "kernelspec": {
      "name": "python3",
      "display_name": "Python 3"
    },
    "language_info": {
      "name": "python"
    }
  },
  "cells": [
    {
      "cell_type": "markdown",
      "metadata": {
        "id": "view-in-github",
        "colab_type": "text"
      },
      "source": [
        "<a href=\"https://colab.research.google.com/github/kalz2q/mycolabnotebooks/blob/master/sympy_kasaimasumi.ipynb\" target=\"_parent\"><img src=\"https://colab.research.google.com/assets/colab-badge.svg\" alt=\"Open In Colab\"/></a>"
      ]
    },
    {
      "cell_type": "markdown",
      "metadata": {
        "id": "AKSVBTMRy89u"
      },
      "source": [
        "# メモ\n",
        "\n",
        "SymPy による数式処理とグラフ作成  \n",
        "葛西真寿  \n",
        "https://home.hirosaki-u.ac.jp/jupyter/sympy/\n",
        "\n",
        "を読む。"
      ]
    },
    {
      "cell_type": "markdown",
      "metadata": {
        "id": "EX3Z3XRGz4w3"
      },
      "source": [
        "教材で使うためかもしれないが、変数宣言をはぶくために sympy.abc を使っている。"
      ]
    },
    {
      "cell_type": "code",
      "metadata": {
        "id": "-jBnb6Raz4eo"
      },
      "source": [
        "from sympy import *\n",
        "from sympy.abc import *\n",
        "init_printing()"
      ],
      "execution_count": 1,
      "outputs": []
    },
    {
      "cell_type": "code",
      "metadata": {
        "colab": {
          "base_uri": "https://localhost:8080/",
          "height": 38
        },
        "id": "jrAHtdu-0K5_",
        "outputId": "4bb806df-376d-4b62-86d0-b24dedd83728"
      },
      "source": [
        "integrate(3*x**2, x)"
      ],
      "execution_count": null,
      "outputs": [
        {
          "output_type": "execute_result",
          "data": {
            "image/png": "[encoded data removed]",
            "text/latex": "$\\displaystyle x^{3}$",
            "text/plain": [
              " 3\n",
              "x "
            ]
          },
          "metadata": {
            "tags": []
          },
          "execution_count": 2
        }
      ]
    },
    {
      "cell_type": "code",
      "metadata": {
        "colab": {
          "base_uri": "https://localhost:8080/",
          "height": 38
        },
        "id": "eSdI5o6Z0XJ8",
        "outputId": "f843bb47-93fc-4bee-cfcd-54dc7a7aed06"
      },
      "source": [
        "eq = x**2 + 3*x + 2\n",
        "factor(eq)"
      ],
      "execution_count": null,
      "outputs": [
        {
          "output_type": "execute_result",
          "data": {
            "image/png": "[encoded data removed]",
            "text/latex": "$\\displaystyle \\left(x + 1\\right) \\left(x + 2\\right)$",
            "text/plain": [
              "(x + 1)⋅(x + 2)"
            ]
          },
          "metadata": {
            "tags": []
          },
          "execution_count": 3
        }
      ]
    },
    {
      "cell_type": "code",
      "metadata": {
        "colab": {
          "base_uri": "https://localhost:8080/",
          "height": 38
        },
        "id": "aafNrs9O0lLN",
        "outputId": "031ff8f8-73d3-42ea-b30f-68d7eefefe06"
      },
      "source": [
        "# 関数の定義\n",
        "def f(x):\n",
        "    return x**2\n",
        "f(x)"
      ],
      "execution_count": 3,
      "outputs": [
        {
          "output_type": "execute_result",
          "data": {
            "image/png": "[encoded data removed]",
            "text/latex": "$\\displaystyle x^{2}$",
            "text/plain": [
              " 2\n",
              "x "
            ]
          },
          "metadata": {
            "tags": []
          },
          "execution_count": 3
        }
      ]
    },
    {
      "cell_type": "code",
      "metadata": {
        "colab": {
          "base_uri": "https://localhost:8080/",
          "height": 38
        },
        "id": "2OTZLtrW0oRd",
        "outputId": "5694b5a2-8804-4b11-f9ef-4c7c4add45c7"
      },
      "source": [
        "f(3*sqrt(A))"
      ],
      "execution_count": 4,
      "outputs": [
        {
          "output_type": "execute_result",
          "data": {
            "image/png": "[encoded data removed]",
            "text/latex": "$\\displaystyle 9 A$",
            "text/plain": [
              "9⋅A"
            ]
          },
          "metadata": {
            "tags": []
          },
          "execution_count": 4
        }
      ]
    },
    {
      "cell_type": "code",
      "metadata": {
        "colab": {
          "base_uri": "https://localhost:8080/",
          "height": 38
        },
        "id": "iav361Be03Ny",
        "outputId": "e2792e4a-0f5b-4d71-c9f1-38c96d782bef"
      },
      "source": [
        "expand(f(x+a))"
      ],
      "execution_count": 6,
      "outputs": [
        {
          "output_type": "execute_result",
          "data": {
            "image/png": "[encoded data removed]",
            "text/latex": "$\\displaystyle a^{2} + 2 a x + x^{2}$",
            "text/plain": [
              " 2            2\n",
              "a  + 2⋅a⋅x + x "
            ]
          },
          "metadata": {
            "tags": []
          },
          "execution_count": 6
        }
      ]
    },
    {
      "cell_type": "code",
      "metadata": {
        "id": "5y4YH-VJ1t0s",
        "outputId": "735222a2-4de6-4c45-9264-340c8f4cc726",
        "colab": {
          "base_uri": "https://localhost:8080/",
          "height": 39
        }
      },
      "source": [
        "# 直前の出力結果は _ で呼べる\n",
        "factor(_)"
      ],
      "execution_count": 7,
      "outputs": [
        {
          "output_type": "execute_result",
          "data": {
            "image/png": "[encoded data removed]",
            "text/latex": "$\\displaystyle \\left(a + x\\right)^{2}$",
            "text/plain": [
              "       2\n",
              "(a + x) "
            ]
          },
          "metadata": {
            "tags": []
          },
          "execution_count": 7
        }
      ]
    },
    {
      "cell_type": "code",
      "metadata": {
        "id": "BPhjbFKZ1oJD",
        "outputId": "76188d3d-266f-4b24-f2f2-d6c73b001baf",
        "colab": {
          "base_uri": "https://localhost:8080/",
          "height": 38
        }
      },
      "source": [
        "_"
      ],
      "execution_count": 5,
      "outputs": [
        {
          "output_type": "execute_result",
          "data": {
            "image/png": "[encoded data removed]",
            "text/latex": "$\\displaystyle 9 A$",
            "text/plain": [
              "9⋅A"
            ]
          },
          "metadata": {
            "tags": []
          },
          "execution_count": 5
        }
      ]
    },
    {
      "cell_type": "markdown",
      "metadata": {
        "id": "SRzTBfbqzn1F"
      },
      "source": [
        "# いまここ"
      ]
    }
  ]
}