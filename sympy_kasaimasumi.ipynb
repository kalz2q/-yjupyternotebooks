{
  "nbformat": 4,
  "nbformat_minor": 0,
  "metadata": {
    "colab": {
      "name": "sympy_kasaimasumi.ipynb",
      "provenance": [],
      "toc_visible": true,
      "authorship_tag": "ABX9TyPQHWi945YD5CprTP2jZ00m",
      "include_colab_link": true
    },
    "kernelspec": {
      "name": "python3",
      "display_name": "Python 3"
    },
    "language_info": {
      "name": "python"
    }
  },
  "cells": [
    {
      "cell_type": "markdown",
      "metadata": {
        "id": "view-in-github",
        "colab_type": "text"
      },
      "source": [
        "<a href=\"https://colab.research.google.com/github/kalz2q/mycolabnotebooks/blob/master/sympy_kasaimasumi.ipynb\" target=\"_parent\"><img src=\"https://colab.research.google.com/assets/colab-badge.svg\" alt=\"Open In Colab\"/></a>"
      ]
    },
    {
      "cell_type": "markdown",
      "metadata": {
        "id": "AKSVBTMRy89u"
      },
      "source": [
        "# メモ\n",
        "\n",
        "SymPy による数式処理とグラフ作成  \n",
        "葛西真寿  \n",
        "https://home.hirosaki-u.ac.jp/jupyter/sympy/\n",
        "\n",
        "を読む。"
      ]
    },
    {
      "cell_type": "markdown",
      "metadata": {
        "id": "WQXz1cmUly_n"
      },
      "source": [
        "# 新しいセクション"
      ]
    },
    {
      "cell_type": "markdown",
      "metadata": {
        "id": "EX3Z3XRGz4w3"
      },
      "source": [
        "Jupyterの起動から始まっている。 いまならこれが colab へサインインかもしれないね。\n",
        "\n",
        "教材で使うためかもしれないが、変数宣言をはぶくために sympy.abc を使っている。\n"
      ]
    },
    {
      "cell_type": "code",
      "metadata": {
        "id": "-jBnb6Raz4eo"
      },
      "source": [
        "from sympy.abc import *\n",
        "from sympy import *\n",
        "init_printing()"
      ],
      "execution_count": null,
      "outputs": []
    },
    {
      "cell_type": "markdown",
      "metadata": {
        "id": "p1ETawdYBVDq"
      },
      "source": [
        "最初の例がいきなり積分。 それ以降は普通の四則演算。"
      ]
    },
    {
      "cell_type": "code",
      "metadata": {
        "colab": {
          "base_uri": "https://localhost:8080/",
          "height": 38
        },
        "id": "jrAHtdu-0K5_",
        "outputId": "4bb806df-376d-4b62-86d0-b24dedd83728"
      },
      "source": [
        "integrate(3*x**2, x)"
      ],
      "execution_count": null,
      "outputs": [
        {
          "output_type": "execute_result",
          "data": {
            "image/png": "[encoded data removed]",
            "text/latex": "$\\displaystyle x^{3}$",
            "text/plain": [
              " 3\n",
              "x "
            ]
          },
          "metadata": {
            "tags": []
          },
          "execution_count": 2
        }
      ]
    },
    {
      "cell_type": "code",
      "metadata": {
        "colab": {
          "base_uri": "https://localhost:8080/",
          "height": 38
        },
        "id": "eSdI5o6Z0XJ8",
        "outputId": "f843bb47-93fc-4bee-cfcd-54dc7a7aed06"
      },
      "source": [
        "eq = x**2 + 3*x + 2\n",
        "factor(eq)"
      ],
      "execution_count": null,
      "outputs": [
        {
          "output_type": "execute_result",
          "data": {
            "image/png": "[encoded data removed]",
            "text/latex": "$\\displaystyle \\left(x + 1\\right) \\left(x + 2\\right)$",
            "text/plain": [
              "(x + 1)⋅(x + 2)"
            ]
          },
          "metadata": {
            "tags": []
          },
          "execution_count": 3
        }
      ]
    },
    {
      "cell_type": "markdown",
      "metadata": {
        "id": "SpQWCiqtBedb"
      },
      "source": [
        "# 関数の定義\n",
        "\n",
        "比較的早めに関数の定義とか出てくる。 "
      ]
    },
    {
      "cell_type": "code",
      "metadata": {
        "colab": {
          "base_uri": "https://localhost:8080/",
          "height": 38
        },
        "id": "aafNrs9O0lLN",
        "outputId": "c68f423c-ec1b-43d8-9166-1ddd4de749cb"
      },
      "source": [
        "# 関数の定義\n",
        "def f(x):\n",
        "    return x**2\n",
        "f(x)"
      ],
      "execution_count": null,
      "outputs": [
        {
          "output_type": "execute_result",
          "data": {
            "image/png": "[encoded data removed]",
            "text/latex": "$\\displaystyle x^{2}$",
            "text/plain": [
              " 2\n",
              "x "
            ]
          },
          "metadata": {
            "tags": []
          },
          "execution_count": 11
        }
      ]
    },
    {
      "cell_type": "code",
      "metadata": {
        "colab": {
          "base_uri": "https://localhost:8080/",
          "height": 38
        },
        "id": "2OTZLtrW0oRd",
        "outputId": "5694b5a2-8804-4b11-f9ef-4c7c4add45c7"
      },
      "source": [
        "f(3*sqrt(A))"
      ],
      "execution_count": null,
      "outputs": [
        {
          "output_type": "execute_result",
          "data": {
            "image/png": "[encoded data removed]",
            "text/latex": "$\\displaystyle 9 A$",
            "text/plain": [
              "9⋅A"
            ]
          },
          "metadata": {
            "tags": []
          },
          "execution_count": 4
        }
      ]
    },
    {
      "cell_type": "markdown",
      "metadata": {
        "id": "NxGXVbyuB6ZA"
      },
      "source": [
        "上のは $3\\sqrt{A}$ の二乗なので $3\\sqrt{A} \\times 3\\sqrt{A} = 9 \\times (\\sqrt{A})^2 = 9A$"
      ]
    },
    {
      "cell_type": "code",
      "metadata": {
        "colab": {
          "base_uri": "https://localhost:8080/",
          "height": 38
        },
        "id": "iav361Be03Ny",
        "outputId": "e2792e4a-0f5b-4d71-c9f1-38c96d782bef"
      },
      "source": [
        "expand(f(x+a))"
      ],
      "execution_count": null,
      "outputs": [
        {
          "output_type": "execute_result",
          "data": {
            "image/png": "[encoded data removed]",
            "text/latex": "$\\displaystyle a^{2} + 2 a x + x^{2}$",
            "text/plain": [
              " 2            2\n",
              "a  + 2⋅a⋅x + x "
            ]
          },
          "metadata": {
            "tags": []
          },
          "execution_count": 6
        }
      ]
    },
    {
      "cell_type": "markdown",
      "metadata": {
        "id": "KTeE43O9DEXx"
      },
      "source": [
        "# 直前の出力結果は _ で参照できる"
      ]
    },
    {
      "cell_type": "code",
      "metadata": {
        "id": "5y4YH-VJ1t0s",
        "colab": {
          "base_uri": "https://localhost:8080/",
          "height": 39
        },
        "outputId": "735222a2-4de6-4c45-9264-340c8f4cc726"
      },
      "source": [
        "# 直前の出力結果は _ で参照できる\n",
        "factor(_)"
      ],
      "execution_count": null,
      "outputs": [
        {
          "output_type": "execute_result",
          "data": {
            "image/png": "[encoded data removed]",
            "text/latex": "$\\displaystyle \\left(a + x\\right)^{2}$",
            "text/plain": [
              "       2\n",
              "(a + x) "
            ]
          },
          "metadata": {
            "tags": []
          },
          "execution_count": 7
        }
      ]
    },
    {
      "cell_type": "code",
      "metadata": {
        "id": "BPhjbFKZ1oJD",
        "colab": {
          "base_uri": "https://localhost:8080/",
          "height": 38
        },
        "outputId": "f222c650-5e8c-4f70-d3f4-613d7c261183"
      },
      "source": [
        "expand((x - 2)**4)"
      ],
      "execution_count": null,
      "outputs": [
        {
          "output_type": "execute_result",
          "data": {
            "image/png": "[encoded data removed]",
            "text/latex": "$\\displaystyle x^{4} - 8 x^{3} + 24 x^{2} - 32 x + 16$",
            "text/plain": [
              " 4      3       2            \n",
              "x  - 8⋅x  + 24⋅x  - 32⋅x + 16"
            ]
          },
          "metadata": {
            "tags": []
          },
          "execution_count": 12
        }
      ]
    },
    {
      "cell_type": "code",
      "metadata": {
        "id": "6NUbtfwkC9A0",
        "colab": {
          "base_uri": "https://localhost:8080/",
          "height": 39
        },
        "outputId": "b9b054e4-57c2-416b-e56b-8b079f43643c"
      },
      "source": [
        "factor(_)"
      ],
      "execution_count": null,
      "outputs": [
        {
          "output_type": "execute_result",
          "data": {
            "image/png": "[encoded data removed]",
            "text/latex": "$\\displaystyle \\left(x - 2\\right)^{4}$",
            "text/plain": [
              "       4\n",
              "(x - 2) "
            ]
          },
          "metadata": {
            "tags": []
          },
          "execution_count": 13
        }
      ]
    },
    {
      "cell_type": "code",
      "metadata": {
        "id": "EE7d7nyYDBtr",
        "colab": {
          "base_uri": "https://localhost:8080/",
          "height": 38
        },
        "outputId": "674df27e-59b6-4656-a639-9a78b9a5a6c0"
      },
      "source": [
        "expand(_)"
      ],
      "execution_count": null,
      "outputs": [
        {
          "output_type": "execute_result",
          "data": {
            "image/png": "[encoded data removed]",
            "text/latex": "$\\displaystyle x^{4} - 8 x^{3} + 24 x^{2} - 32 x + 16$",
            "text/plain": [
              " 4      3       2            \n",
              "x  - 8⋅x  + 24⋅x  - 32⋅x + 16"
            ]
          },
          "metadata": {
            "tags": []
          },
          "execution_count": 14
        }
      ]
    },
    {
      "cell_type": "markdown",
      "metadata": {
        "id": "I4g_JEHzKpNT"
      },
      "source": [
        "# 代入"
      ]
    },
    {
      "cell_type": "code",
      "metadata": {
        "id": "ex2ASJQJKr17",
        "colab": {
          "base_uri": "https://localhost:8080/",
          "height": 120
        },
        "outputId": "097f619e-3f91-4e06-a551-d0340e634b11"
      },
      "source": [
        "from sympy.abc import *\n",
        "from sympy import *\n",
        "init_printing()\n",
        "c = 3*x\n",
        "display(c)\n",
        "display(c.subs(x,3))\n",
        "display(c)\n",
        "x = 3\n",
        "display(c)\n",
        "display(x)"
      ],
      "execution_count": null,
      "outputs": [
        {
          "output_type": "display_data",
          "data": {
            "image/png": "[encoded data removed]",
            "text/latex": "$\\displaystyle 3 x$",
            "text/plain": [
              "3⋅x"
            ]
          },
          "metadata": {
            "tags": []
          }
        },
        {
          "output_type": "display_data",
          "data": {
            "image/png": "[encoded data removed]",
            "text/latex": "$\\displaystyle 9$",
            "text/plain": [
              "9"
            ]
          },
          "metadata": {
            "tags": []
          }
        },
        {
          "output_type": "display_data",
          "data": {
            "image/png": "[encoded data removed]",
            "text/latex": "$\\displaystyle 3 x$",
            "text/plain": [
              "3⋅x"
            ]
          },
          "metadata": {
            "tags": []
          }
        },
        {
          "output_type": "display_data",
          "data": {
            "image/png": "[encoded data removed]",
            "text/latex": "$\\displaystyle 3 x$",
            "text/plain": [
              "3⋅x"
            ]
          },
          "metadata": {
            "tags": []
          }
        },
        {
          "output_type": "display_data",
          "data": {
            "image/png": "[encoded data removed]",
            "text/latex": "$\\displaystyle 3$",
            "text/plain": [
              "3"
            ]
          },
          "metadata": {
            "tags": []
          }
        }
      ]
    },
    {
      "cell_type": "code",
      "metadata": {
        "id": "sXd-6X7_Sjon",
        "colab": {
          "base_uri": "https://localhost:8080/",
          "height": 99
        },
        "outputId": "0f1bc5eb-83ab-420e-fe51-991cad8c1935"
      },
      "source": [
        "# f(g(x)) について考える\n",
        "from sympy.abc import *\n",
        "from sympy import *\n",
        "init_printing()\n",
        "# 実験\n",
        "def g(x) : return x**2\n",
        "\n",
        "display(g(x))\n",
        "display(g(3))\n",
        "\n",
        "def f(x1) : return (g(x)).subs(x,x1)\n",
        "\n",
        "display(f(y))\n",
        "display(f(3))"
      ],
      "execution_count": null,
      "outputs": [
        {
          "output_type": "display_data",
          "data": {
            "image/png": "[encoded data removed]",
            "text/latex": "$\\displaystyle x^{2}$",
            "text/plain": [
              " 2\n",
              "x "
            ]
          },
          "metadata": {
            "tags": []
          }
        },
        {
          "output_type": "display_data",
          "data": {
            "image/png": "[encoded data removed]",
            "text/latex": "$\\displaystyle 9$",
            "text/plain": [
              "9"
            ]
          },
          "metadata": {
            "tags": []
          }
        },
        {
          "output_type": "display_data",
          "data": {
            "image/png": "[encoded data removed]",
            "text/latex": "$\\displaystyle y^{2}$",
            "text/plain": [
              " 2\n",
              "y "
            ]
          },
          "metadata": {
            "tags": []
          }
        },
        {
          "output_type": "display_data",
          "data": {
            "image/png": "[encoded data removed]",
            "text/latex": "$\\displaystyle 9$",
            "text/plain": [
              "9"
            ]
          },
          "metadata": {
            "tags": []
          }
        }
      ]
    },
    {
      "cell_type": "code",
      "metadata": {
        "id": "fKC-Sf1rURQ7",
        "colab": {
          "base_uri": "https://localhost:8080/",
          "height": 79
        },
        "outputId": "129e1964-c29b-4014-97d5-ead04f8010fa"
      },
      "source": [
        "def g(x):\n",
        "    return diff(x*cos(x), x)\n",
        "\n",
        "display(g(x))\n",
        "# display(g(1)) #=> エラーになる\n",
        "\n",
        "def g(x1):\n",
        "    return diff(x*cos(x), x).subs(x,x1)\n",
        "\n",
        "display(g(x))\n",
        "display(g(1))"
      ],
      "execution_count": null,
      "outputs": [
        {
          "output_type": "display_data",
          "data": {
            "image/png": "[encoded data removed]",
            "text/latex": "$\\displaystyle - x \\sin{\\left(x \\right)} + \\cos{\\left(x \\right)}$",
            "text/plain": [
              "-x⋅sin(x) + cos(x)"
            ]
          },
          "metadata": {
            "tags": []
          }
        },
        {
          "output_type": "display_data",
          "data": {
            "image/png": "[encoded data removed]",
            "text/latex": "$\\displaystyle - x \\sin{\\left(x \\right)} + \\cos{\\left(x \\right)}$",
            "text/plain": [
              "-x⋅sin(x) + cos(x)"
            ]
          },
          "metadata": {
            "tags": []
          }
        },
        {
          "output_type": "display_data",
          "data": {
            "image/png": "[encoded data removed]",
            "text/latex": "$\\displaystyle - \\sin{\\left(1 \\right)} + \\cos{\\left(1 \\right)}$",
            "text/plain": [
              "-sin(1) + cos(1)"
            ]
          },
          "metadata": {
            "tags": []
          }
        }
      ]
    },
    {
      "cell_type": "code",
      "metadata": {
        "id": "DSGDloQOVHWN",
        "colab": {
          "base_uri": "https://localhost:8080/",
          "height": 223
        },
        "outputId": "48d6de26-bb0e-4dd9-ebba-eeae447ee235"
      },
      "source": [
        "from sympy.abc import *\n",
        "from sympy import *\n",
        "init_printing()\n",
        "def f(x):\n",
        "    return x*cos(x)\n",
        "\n",
        "def df(x1):\n",
        "    return diff(f(x), x).subs(x,x1)\n",
        "display(f(x))\n",
        "display(df(x))\n",
        "display(integrate(df(x), x) == f(x))\n",
        "display(Derivative(f(x)))\n",
        "display(Integral(df(x)))\n",
        "display(Eq(Derivative(f(x)),df(x)))\n",
        "display(Eq(Integral(df(x)),f(x)))\n"
      ],
      "execution_count": null,
      "outputs": [
        {
          "output_type": "display_data",
          "data": {
            "image/png": "[encoded data removed]",
            "text/latex": "$\\displaystyle x \\cos{\\left(x \\right)}$",
            "text/plain": [
              "x⋅cos(x)"
            ]
          },
          "metadata": {
            "tags": []
          }
        },
        {
          "output_type": "display_data",
          "data": {
            "image/png": "[encoded data removed]",
            "text/latex": "$\\displaystyle - x \\sin{\\left(x \\right)} + \\cos{\\left(x \\right)}$",
            "text/plain": [
              "-x⋅sin(x) + cos(x)"
            ]
          },
          "metadata": {
            "tags": []
          }
        },
        {
          "output_type": "display_data",
          "data": {
            "text/plain": [
              "True"
            ]
          },
          "metadata": {
            "tags": []
          }
        },
        {
          "output_type": "display_data",
          "data": {
            "image/png": "[encoded data removed]",
            "text/latex": "$\\displaystyle \\frac{d}{d x} x \\cos{\\left(x \\right)}$",
            "text/plain": [
              "d           \n",
              "──(x⋅cos(x))\n",
              "dx          "
            ]
          },
          "metadata": {
            "tags": []
          }
        },
        {
          "output_type": "display_data",
          "data": {
            "image/png": "[encoded data removed]",
            "text/latex": "$\\displaystyle \\int \\left(- x \\sin{\\left(x \\right)} + \\cos{\\left(x \\right)}\\right)\\, dx$",
            "text/plain": [
              "⌠                        \n",
              "⎮ (-x⋅sin(x) + cos(x)) dx\n",
              "⌡                        "
            ]
          },
          "metadata": {
            "tags": []
          }
        },
        {
          "output_type": "display_data",
          "data": {
            "image/png": "[encoded data removed]",
            "text/latex": "$\\displaystyle \\frac{d}{d x} x \\cos{\\left(x \\right)} = - x \\sin{\\left(x \\right)} + \\cos{\\left(x \\right)}$",
            "text/plain": [
              "d                                \n",
              "──(x⋅cos(x)) = -x⋅sin(x) + cos(x)\n",
              "dx                               "
            ]
          },
          "metadata": {
            "tags": []
          }
        },
        {
          "output_type": "display_data",
          "data": {
            "image/png": "[encoded data removed]",
            "text/latex": "$\\displaystyle \\int \\left(- x \\sin{\\left(x \\right)} + \\cos{\\left(x \\right)}\\right)\\, dx = x \\cos{\\left(x \\right)}$",
            "text/plain": [
              "⌠                                   \n",
              "⎮ (-x⋅sin(x) + cos(x)) dx = x⋅cos(x)\n",
              "⌡                                   "
            ]
          },
          "metadata": {
            "tags": []
          }
        }
      ]
    },
    {
      "cell_type": "code",
      "metadata": {
        "id": "dzkMRItAVI2x",
        "colab": {
          "base_uri": "https://localhost:8080/",
          "height": 220
        },
        "outputId": "403e2ca2-54aa-4024-a924-5246553ae4e5"
      },
      "source": [
        "display([1,2,3,4,5,6,7,8,9])\n",
        "display(sum([1,2,3,4,5,6,7,8,9]))\n",
        "display((n*(n-1)/2))\n",
        "display((n*(n-1)/2).subs(n, 10))\n",
        "display(Sum(k,(k,1,m)))\n",
        "display((Sum(k,(k,1,m)).doit()))\n",
        "display((Sum(k,(k,1,m)).doit()).subs(m,9))"
      ],
      "execution_count": null,
      "outputs": [
        {
          "output_type": "display_data",
          "data": {
            "image/png": "[encoded data removed]",
            "text/latex": "$\\displaystyle \\left[ 1, \\  2, \\  3, \\  4, \\  5, \\  6, \\  7, \\  8, \\  9\\right]$",
            "text/plain": [
              "[1, 2, 3, 4, 5, 6, 7, 8, 9]"
            ]
          },
          "metadata": {
            "tags": []
          }
        },
        {
          "output_type": "display_data",
          "data": {
            "image/png": "[encoded data removed]",
            "text/latex": "$\\displaystyle 45$",
            "text/plain": [
              "45"
            ]
          },
          "metadata": {
            "tags": []
          }
        },
        {
          "output_type": "display_data",
          "data": {
            "image/png": "[encoded data removed]",
            "text/latex": "$\\displaystyle \\frac{n \\left(n - 1\\right)}{2}$",
            "text/plain": [
              "n⋅(n - 1)\n",
              "─────────\n",
              "    2    "
            ]
          },
          "metadata": {
            "tags": []
          }
        },
        {
          "output_type": "display_data",
          "data": {
            "image/png": "[encoded data removed]",
            "text/latex": "$\\displaystyle 45$",
            "text/plain": [
              "45"
            ]
          },
          "metadata": {
            "tags": []
          }
        },
        {
          "output_type": "display_data",
          "data": {
            "image/png": "[encoded data removed]",
            "text/latex": "$\\displaystyle \\sum_{k=1}^{m} k$",
            "text/plain": [
              "  m    \n",
              " ___   \n",
              " ╲     \n",
              "  ╲    \n",
              "  ╱   k\n",
              " ╱     \n",
              " ‾‾‾   \n",
              "k = 1  "
            ]
          },
          "metadata": {
            "tags": []
          }
        },
        {
          "output_type": "display_data",
          "data": {
            "image/png": "[encoded data removed]",
            "text/latex": "$\\displaystyle \\frac{m^{2}}{2} + \\frac{m}{2}$",
            "text/plain": [
              " 2    \n",
              "m    m\n",
              "── + ─\n",
              "2    2"
            ]
          },
          "metadata": {
            "tags": []
          }
        },
        {
          "output_type": "display_data",
          "data": {
            "image/png": "[encoded data removed]",
            "text/latex": "$\\displaystyle 45$",
            "text/plain": [
              "45"
            ]
          },
          "metadata": {
            "tags": []
          }
        }
      ]
    },
    {
      "cell_type": "code",
      "metadata": {
        "id": "tDBRZ3Qv7H1S",
        "colab": {
          "base_uri": "https://localhost:8080/",
          "height": 54
        },
        "outputId": "2369e116-b7d6-46ed-c715-2fd059d508f6"
      },
      "source": [
        "display(range(10))\n",
        "display(list(range(10)))"
      ],
      "execution_count": null,
      "outputs": [
        {
          "output_type": "display_data",
          "data": {
            "text/plain": [
              "range(0, 10)"
            ]
          },
          "metadata": {
            "tags": []
          }
        },
        {
          "output_type": "display_data",
          "data": {
            "image/png": "[encoded data removed]",
            "text/latex": "$\\displaystyle \\left[ 0, \\  1, \\  2, \\  3, \\  4, \\  5, \\  6, \\  7, \\  8, \\  9\\right]$",
            "text/plain": [
              "[0, 1, 2, 3, 4, 5, 6, 7, 8, 9]"
            ]
          },
          "metadata": {
            "tags": []
          }
        }
      ]
    },
    {
      "cell_type": "code",
      "metadata": {
        "id": "CvRczqFg7iyg",
        "colab": {
          "base_uri": "https://localhost:8080/",
          "height": 96
        },
        "outputId": "8e803aef-8739-4b2b-de9d-1ddadc8da921"
      },
      "source": [
        "# 階乗 ! は factorial()\n",
        "display(factorial(4))\n",
        "# 階乗 ! factorial(x) を数式で表す方法がわからない\n",
        "# 階乗のいろいろ \n",
        "display(factorial2(5))\n",
        "display(factorial2(6))\n",
        "factorial(factorial(3))"
      ],
      "execution_count": null,
      "outputs": [
        {
          "output_type": "display_data",
          "data": {
            "image/png": "[encoded data removed]",
            "text/latex": "$\\displaystyle 24$",
            "text/plain": [
              "24"
            ]
          },
          "metadata": {
            "tags": []
          }
        },
        {
          "output_type": "display_data",
          "data": {
            "image/png": "[encoded data removed]",
            "text/latex": "$\\displaystyle 15$",
            "text/plain": [
              "15"
            ]
          },
          "metadata": {
            "tags": []
          }
        },
        {
          "output_type": "display_data",
          "data": {
            "image/png": "[encoded data removed]",
            "text/latex": "$\\displaystyle 48$",
            "text/plain": [
              "48"
            ]
          },
          "metadata": {
            "tags": []
          }
        },
        {
          "output_type": "execute_result",
          "data": {
            "image/png": "[encoded data removed]",
            "text/latex": "$\\displaystyle 720$",
            "text/plain": [
              "720"
            ]
          },
          "metadata": {
            "tags": []
          },
          "execution_count": 78
        }
      ]
    },
    {
      "cell_type": "markdown",
      "metadata": {
        "id": "blPMx_Hs882_"
      },
      "source": [
        "**問題**\n",
        "\n",
        "$3,2,1$ で作る最大の数を求める。 階乗や冪乗をつかってもよい。"
      ]
    },
    {
      "cell_type": "code",
      "metadata": {
        "id": "iia4nzfV87w3",
        "colab": {
          "base_uri": "https://localhost:8080/"
        },
        "outputId": "882d26a3-a787-48dd-bb6e-19c0051d7425"
      },
      "source": [
        "a = factorial(321)\n",
        "b = 21**3\n",
        "c = 31**2\n",
        "d = 2**31\n",
        "e = 3**21\n",
        "print((e > b) & (e > c) &(e > d))\n",
        "print(a > e)"
      ],
      "execution_count": null,
      "outputs": [
        {
          "output_type": "stream",
          "text": [
            "True\n",
            "True\n"
          ],
          "name": "stdout"
        }
      ]
    },
    {
      "cell_type": "code",
      "metadata": {
        "id": "n0_n2Gqz-wIl",
        "colab": {
          "base_uri": "https://localhost:8080/",
          "height": 331
        },
        "outputId": "b802359c-411f-442f-841f-ece0a31b89b6"
      },
      "source": [
        "from sympy import *\n",
        "from sympy.abc import *\n",
        "# print(float(pi)) #=> エラー。 sympy のあとに sympy.abc を import するとエラーになる"
      ],
      "execution_count": null,
      "outputs": [
        {
          "output_type": "error",
          "ename": "TypeError",
          "evalue": "ignored",
          "traceback": [
            "\u001b[0;31m---------------------------------------------------------------------------\u001b[0m",
            "\u001b[0;31mTypeError\u001b[0m                                 Traceback (most recent call last)",
            "\u001b[0;32m<ipython-input-15-80c06deedb21>\u001b[0m in \u001b[0;36m<module>\u001b[0;34m()\u001b[0m\n\u001b[1;32m      1\u001b[0m \u001b[0;32mfrom\u001b[0m \u001b[0msympy\u001b[0m \u001b[0;32mimport\u001b[0m \u001b[0;34m*\u001b[0m\u001b[0;34m\u001b[0m\u001b[0;34m\u001b[0m\u001b[0m\n\u001b[1;32m      2\u001b[0m \u001b[0;32mfrom\u001b[0m \u001b[0msympy\u001b[0m\u001b[0;34m.\u001b[0m\u001b[0mabc\u001b[0m \u001b[0;32mimport\u001b[0m \u001b[0;34m*\u001b[0m\u001b[0;34m\u001b[0m\u001b[0;34m\u001b[0m\u001b[0m\n\u001b[0;32m----> 3\u001b[0;31m \u001b[0mprint\u001b[0m\u001b[0;34m(\u001b[0m\u001b[0mfloat\u001b[0m\u001b[0;34m(\u001b[0m\u001b[0mpi\u001b[0m\u001b[0;34m)\u001b[0m\u001b[0;34m)\u001b[0m\u001b[0;34m\u001b[0m\u001b[0;34m\u001b[0m\u001b[0m\n\u001b[0m",
            "\u001b[0;32m/usr/local/lib/python3.7/dist-packages/sympy/core/expr.py\u001b[0m in \u001b[0;36m__float__\u001b[0;34m(self)\u001b[0m\n\u001b[1;32m    348\u001b[0m         \u001b[0;32mif\u001b[0m \u001b[0mresult\u001b[0m\u001b[0;34m.\u001b[0m\u001b[0mis_number\u001b[0m \u001b[0;32mand\u001b[0m \u001b[0mresult\u001b[0m\u001b[0;34m.\u001b[0m\u001b[0mas_real_imag\u001b[0m\u001b[0;34m(\u001b[0m\u001b[0;34m)\u001b[0m\u001b[0;34m[\u001b[0m\u001b[0;36m1\u001b[0m\u001b[0;34m]\u001b[0m\u001b[0;34m:\u001b[0m\u001b[0;34m\u001b[0m\u001b[0;34m\u001b[0m\u001b[0m\n\u001b[1;32m    349\u001b[0m             \u001b[0;32mraise\u001b[0m \u001b[0mTypeError\u001b[0m\u001b[0;34m(\u001b[0m\u001b[0;34m\"can't convert complex to float\"\u001b[0m\u001b[0;34m)\u001b[0m\u001b[0;34m\u001b[0m\u001b[0;34m\u001b[0m\u001b[0m\n\u001b[0;32m--> 350\u001b[0;31m         \u001b[0;32mraise\u001b[0m \u001b[0mTypeError\u001b[0m\u001b[0;34m(\u001b[0m\u001b[0;34m\"can't convert expression to float\"\u001b[0m\u001b[0;34m)\u001b[0m\u001b[0;34m\u001b[0m\u001b[0;34m\u001b[0m\u001b[0m\n\u001b[0m\u001b[1;32m    351\u001b[0m \u001b[0;34m\u001b[0m\u001b[0m\n\u001b[1;32m    352\u001b[0m     \u001b[0;32mdef\u001b[0m \u001b[0m__complex__\u001b[0m\u001b[0;34m(\u001b[0m\u001b[0mself\u001b[0m\u001b[0;34m)\u001b[0m\u001b[0;34m:\u001b[0m\u001b[0;34m\u001b[0m\u001b[0;34m\u001b[0m\u001b[0m\n",
            "\u001b[0;31mTypeError\u001b[0m: can't convert expression to float"
          ]
        }
      ]
    },
    {
      "cell_type": "code",
      "metadata": {
        "id": "D3NQRBKSTixX",
        "colab": {
          "base_uri": "https://localhost:8080/",
          "height": 216
        },
        "outputId": "a7cc7327-c11c-4a99-89df-994a22d63d88"
      },
      "source": [
        "import sympy.abc\n",
        "print(len(dir(sympy.abc)))\n",
        "import sympy\n",
        "print(len(dir(sympy)))\n",
        "from sympy import *\n",
        "display(pi,oo,E,I)\n",
        "display(exp(1), i, e)"
      ],
      "execution_count": null,
      "outputs": [
        {
          "output_type": "stream",
          "text": [
            "97\n",
            "916\n"
          ],
          "name": "stdout"
        },
        {
          "output_type": "display_data",
          "data": {
            "text/latex": "$\\displaystyle \\pi$",
            "text/plain": [
              "pi"
            ]
          },
          "metadata": {
            "tags": []
          }
        },
        {
          "output_type": "display_data",
          "data": {
            "text/latex": "$\\displaystyle \\infty$",
            "text/plain": [
              "oo"
            ]
          },
          "metadata": {
            "tags": []
          }
        },
        {
          "output_type": "display_data",
          "data": {
            "text/latex": "$\\displaystyle e$",
            "text/plain": [
              "E"
            ]
          },
          "metadata": {
            "tags": []
          }
        },
        {
          "output_type": "display_data",
          "data": {
            "text/latex": "$\\displaystyle i$",
            "text/plain": [
              "I"
            ]
          },
          "metadata": {
            "tags": []
          }
        },
        {
          "output_type": "display_data",
          "data": {
            "text/latex": "$\\displaystyle e$",
            "text/plain": [
              "E"
            ]
          },
          "metadata": {
            "tags": []
          }
        },
        {
          "output_type": "display_data",
          "data": {
            "text/latex": "$\\displaystyle i$",
            "text/plain": [
              "i"
            ]
          },
          "metadata": {
            "tags": []
          }
        },
        {
          "output_type": "display_data",
          "data": {
            "text/latex": "$\\displaystyle e$",
            "text/plain": [
              "e"
            ]
          },
          "metadata": {
            "tags": []
          }
        },
        {
          "output_type": "stream",
          "text": [
            "i**2\n"
          ],
          "name": "stdout"
        }
      ]
    },
    {
      "cell_type": "code",
      "metadata": {
        "id": "neUsGRHOWsU-",
        "colab": {
          "base_uri": "https://localhost:8080/",
          "height": 58
        },
        "outputId": "c5641244-4bb0-461d-e90e-347242050be7"
      },
      "source": [
        "# オイラーの等式\n",
        "display(e**(i*pi))\n",
        "display(Eq(e**(i*pi), -1))"
      ],
      "execution_count": null,
      "outputs": [
        {
          "output_type": "display_data",
          "data": {
            "text/latex": "$\\displaystyle e^{\\pi i}$",
            "text/plain": [
              "e**(pi*i)"
            ]
          },
          "metadata": {
            "tags": []
          }
        },
        {
          "output_type": "display_data",
          "data": {
            "text/latex": "$\\displaystyle e^{\\pi i} = -1$",
            "text/plain": [
              "Eq(e**(pi*i), -1)"
            ]
          },
          "metadata": {
            "tags": []
          }
        }
      ]
    },
    {
      "cell_type": "code",
      "metadata": {
        "id": "G7vhnHC4XOV1",
        "colab": {
          "base_uri": "https://localhost:8080/",
          "height": 37
        },
        "outputId": "1e138adc-a090-4f53-af90-fc653f310978"
      },
      "source": [
        "x = symbols('x', real=True)\n",
        "sqrt(x**2)"
      ],
      "execution_count": null,
      "outputs": [
        {
          "output_type": "execute_result",
          "data": {
            "text/latex": "$\\displaystyle \\left|{x}\\right|$",
            "text/plain": [
              "Abs(x)"
            ]
          },
          "metadata": {
            "tags": []
          },
          "execution_count": 33
        }
      ]
    },
    {
      "cell_type": "code",
      "metadata": {
        "id": "GH-Rhu7_Xbcr",
        "colab": {
          "base_uri": "https://localhost:8080/",
          "height": 38
        },
        "outputId": "48e4a351-2c9e-4d7e-b4b2-d8537feac006"
      },
      "source": [
        "sqrt(y**2)"
      ],
      "execution_count": null,
      "outputs": [
        {
          "output_type": "execute_result",
          "data": {
            "text/latex": "$\\displaystyle \\sqrt{y^{2}}$",
            "text/plain": [
              "sqrt(y**2)"
            ]
          },
          "metadata": {
            "tags": []
          },
          "execution_count": 34
        }
      ]
    },
    {
      "cell_type": "code",
      "metadata": {
        "id": "gRqeoZ3rXfk4",
        "colab": {
          "base_uri": "https://localhost:8080/"
        },
        "outputId": "759a67f0-5f8e-42d3-e22c-6be335a95bce"
      },
      "source": [
        "solve(sqrt(y**2-1),y)"
      ],
      "execution_count": null,
      "outputs": [
        {
          "output_type": "execute_result",
          "data": {
            "text/plain": [
              "[-1, 1]"
            ]
          },
          "metadata": {
            "tags": []
          },
          "execution_count": 37
        }
      ]
    },
    {
      "cell_type": "code",
      "metadata": {
        "id": "16UY3KKOXxqu",
        "colab": {
          "base_uri": "https://localhost:8080/",
          "height": 36
        },
        "outputId": "6ec23b11-74a1-4e63-d93a-791876efc8c1"
      },
      "source": [
        "sqrt(3**2 + 4**2)"
      ],
      "execution_count": null,
      "outputs": [
        {
          "output_type": "execute_result",
          "data": {
            "text/latex": "$\\displaystyle 5$",
            "text/plain": [
              "5"
            ]
          },
          "metadata": {
            "tags": []
          },
          "execution_count": 38
        }
      ]
    },
    {
      "cell_type": "code",
      "metadata": {
        "id": "y6Z8Z5ZKX4_y",
        "colab": {
          "base_uri": "https://localhost:8080/",
          "height": 36
        },
        "outputId": "4b9e8675-2e86-45d3-8ddb-97a1c1f6acd9"
      },
      "source": [
        "# exp(1) = e^1 = e = E\n",
        "exp(1) - E"
      ],
      "execution_count": null,
      "outputs": [
        {
          "output_type": "execute_result",
          "data": {
            "text/latex": "$\\displaystyle 0$",
            "text/plain": [
              "0"
            ]
          },
          "metadata": {
            "tags": []
          },
          "execution_count": 39
        }
      ]
    },
    {
      "cell_type": "code",
      "metadata": {
        "id": "MdLlCCibYGEi",
        "colab": {
          "base_uri": "https://localhost:8080/",
          "height": 37
        },
        "outputId": "a4f40ad6-11dd-4b4b-f891-d80aa077dd65"
      },
      "source": [
        "# e^{ln a} = a\n",
        "a = symbols('a')\n",
        "exp(log(a))"
      ],
      "execution_count": null,
      "outputs": [
        {
          "output_type": "execute_result",
          "data": {
            "text/latex": "$\\displaystyle a$",
            "text/plain": [
              "a"
            ]
          },
          "metadata": {
            "tags": []
          },
          "execution_count": 40
        }
      ]
    },
    {
      "cell_type": "code",
      "metadata": {
        "id": "D8SSMVoYYUi-",
        "colab": {
          "base_uri": "https://localhost:8080/",
          "height": 36
        },
        "outputId": "785e7020-fbb5-4573-a76c-c9f36d5891df"
      },
      "source": [
        "log(E**2)"
      ],
      "execution_count": null,
      "outputs": [
        {
          "output_type": "execute_result",
          "data": {
            "text/latex": "$\\displaystyle 2$",
            "text/plain": [
              "2"
            ]
          },
          "metadata": {
            "tags": []
          },
          "execution_count": 41
        }
      ]
    },
    {
      "cell_type": "markdown",
      "metadata": {
        "id": "mlM1ZezCYa0m"
      },
      "source": [
        "**練習** ピタゴラス数\n",
        "\n",
        "$a^2+b^2=c^2$ を満たす正の整数の組をピタゴラス数という。\n",
        "\n",
        "ピタゴラス数は 2つの任意の正の整数 $m,n$ から以下のようにして何組でもつくることができる。\n",
        "\n",
        "$\\quad a=|m^2-n^2|,\\quad b=2mn,\\quad c=\\sqrt{a^2+b^2}$\n",
        "\n",
        "このとき、$c$ は (平方根をとるにもかかわらず) 必ず整数になることを示す。\n",
        "\n"
      ]
    },
    {
      "cell_type": "code",
      "metadata": {
        "id": "RNtwvPazYY8E",
        "colab": {
          "base_uri": "https://localhost:8080/",
          "height": 151
        },
        "outputId": "a527384f-1835-48fe-f508-f6171ef9434a"
      },
      "source": [
        "# 実験\n",
        "from sympy.abc import *\n",
        "from sympy import *\n",
        "import random\n",
        "init_printing()\n",
        "m,n = symbols('m,n')\n",
        "a = abs(m**2-n**2)\n",
        "b = 2*m*n\n",
        "c = sqrt(a**2+b**2)\n",
        "display (a)\n",
        "display (b)\n",
        "display (c)\n",
        "\n",
        "display(c.subs([(m,random.randint(1,100)), (n,random.randint(1,100))]))\n",
        "display(c.subs([(m,random.randint(1,100)), (n,random.randint(1,100))]))\n",
        "display(c.subs([(m,random.randint(1,100)), (n,random.randint(1,100))]))\n"
      ],
      "execution_count": null,
      "outputs": [
        {
          "output_type": "display_data",
          "data": {
            "image/png": "[encoded data removed]",
            "text/latex": "$\\displaystyle \\left|{m^{2} - n^{2}}\\right|$",
            "text/plain": [
              "│ 2    2│\n",
              "│m  - n │"
            ]
          },
          "metadata": {
            "tags": []
          }
        },
        {
          "output_type": "display_data",
          "data": {
            "image/png": "[encoded data removed]",
            "text/latex": "$\\displaystyle 2 m n$",
            "text/plain": [
              "2⋅m⋅n"
            ]
          },
          "metadata": {
            "tags": []
          }
        },
        {
          "output_type": "display_data",
          "data": {
            "image/png": "[encoded data removed]",
            "text/latex": "$\\displaystyle \\sqrt{4 m^{2} n^{2} + \\left|{m^{2} - n^{2}}\\right|^{2}}$",
            "text/plain": [
              "    ______________________\n",
              "   ╱                    2 \n",
              "  ╱     2  2   │ 2    2│  \n",
              "╲╱   4⋅m ⋅n  + │m  - n │  "
            ]
          },
          "metadata": {
            "tags": []
          }
        },
        {
          "output_type": "display_data",
          "data": {
            "image/png": "[encoded data removed]",
            "text/latex": "$\\displaystyle 2644$",
            "text/plain": [
              "2644"
            ]
          },
          "metadata": {
            "tags": []
          }
        },
        {
          "output_type": "display_data",
          "data": {
            "image/png": "[encoded data removed]",
            "text/latex": "$\\displaystyle 11826$",
            "text/plain": [
              "11826"
            ]
          },
          "metadata": {
            "tags": []
          }
        },
        {
          "output_type": "display_data",
          "data": {
            "image/png": "[encoded data removed]",
            "text/latex": "$\\displaystyle 7474$",
            "text/plain": [
              "7474"
            ]
          },
          "metadata": {
            "tags": []
          }
        }
      ]
    },
    {
      "cell_type": "code",
      "metadata": {
        "id": "1W1YK6YdIgBG",
        "colab": {
          "base_uri": "https://localhost:8080/"
        },
        "outputId": "ee7debb5-d4b6-4626-d481-54ebbec2c4fd"
      },
      "source": [
        "2*5*3"
      ],
      "execution_count": null,
      "outputs": [
        {
          "output_type": "execute_result",
          "data": {
            "text/plain": [
              "30"
            ]
          },
          "metadata": {
            "tags": []
          },
          "execution_count": 2
        }
      ]
    },
    {
      "cell_type": "code",
      "metadata": {
        "id": "gwneGySAIlwr",
        "colab": {
          "base_uri": "https://localhost:8080/",
          "height": 36
        },
        "outputId": "e01b47e8-25e5-46e1-e624-cf8bf07dad9c"
      },
      "source": [
        "from sympy import *\n",
        "sqrt(16**2 + 30**2)"
      ],
      "execution_count": null,
      "outputs": [
        {
          "output_type": "execute_result",
          "data": {
            "text/latex": "$\\displaystyle 34$",
            "text/plain": [
              "34"
            ]
          },
          "metadata": {
            "tags": []
          },
          "execution_count": 6
        }
      ]
    },
    {
      "cell_type": "code",
      "metadata": {
        "id": "xAQudEB-Lfsj",
        "colab": {
          "base_uri": "https://localhost:8080/",
          "height": 112
        },
        "outputId": "c103d666-aed2-4b3d-ce35-dbbfabe362cf"
      },
      "source": [
        "# 証明\n",
        "display (Eq(a**2,(m**4 -2*m**2*n**2+n**4)))\n",
        "display (Eq((a**2+b**2) ,(m**4+2*m**2*n**2+n**4)))\n",
        "display (Eq((m**4+2*m**2*n**2+n**4), (m**2+n**2)**2))\n",
        "display (Eq(sqrt(m**4+2*m**2*n**2+n**4), (m**2+n**2)))\n"
      ],
      "execution_count": null,
      "outputs": [
        {
          "output_type": "display_data",
          "data": {
            "image/png": "[encoded data removed]",
            "text/latex": "$\\displaystyle \\left|{m^{2} - n^{2}}\\right|^{2} = m^{4} - 2 m^{2} n^{2} + n^{4}$",
            "text/plain": [
              "         2                    \n",
              "│ 2    2│     4      2  2    4\n",
              "│m  - n │  = m  - 2⋅m ⋅n  + n "
            ]
          },
          "metadata": {
            "tags": []
          }
        },
        {
          "output_type": "display_data",
          "data": {
            "image/png": "[encoded data removed]",
            "text/latex": "$\\displaystyle 4 m^{2} n^{2} + \\left|{m^{2} - n^{2}}\\right|^{2} = m^{4} + 2 m^{2} n^{2} + n^{4}$",
            "text/plain": [
              "                   2                    \n",
              "   2  2   │ 2    2│     4      2  2    4\n",
              "4⋅m ⋅n  + │m  - n │  = m  + 2⋅m ⋅n  + n "
            ]
          },
          "metadata": {
            "tags": []
          }
        },
        {
          "output_type": "display_data",
          "data": {
            "image/png": "[encoded data removed]",
            "text/latex": "$\\displaystyle m^{4} + 2 m^{2} n^{2} + n^{4} = \\left(m^{2} + n^{2}\\right)^{2}$",
            "text/plain": [
              "                             2\n",
              " 4      2  2    4   ⎛ 2    2⎞ \n",
              "m  + 2⋅m ⋅n  + n  = ⎝m  + n ⎠ "
            ]
          },
          "metadata": {
            "tags": []
          }
        },
        {
          "output_type": "display_data",
          "data": {
            "image/png": "[encoded data removed]",
            "text/latex": "$\\displaystyle \\sqrt{m^{4} + 2 m^{2} n^{2} + n^{4}} = m^{2} + n^{2}$",
            "text/plain": [
              "   ___________________          \n",
              "  ╱  4      2  2    4     2    2\n",
              "╲╱  m  + 2⋅m ⋅n  + n   = m  + n "
            ]
          },
          "metadata": {
            "tags": []
          }
        }
      ]
    },
    {
      "cell_type": "code",
      "metadata": {
        "id": "ibU1wf2ZNZzH",
        "colab": {
          "base_uri": "https://localhost:8080/",
          "height": 36
        },
        "outputId": "bfeb9e51-a786-42ad-c9b8-eacd8188ee36"
      },
      "source": [
        "random.random()"
      ],
      "execution_count": null,
      "outputs": [
        {
          "output_type": "execute_result",
          "data": {
            "image/png": "[encoded data removed]",
            "text/latex": "$\\displaystyle 0.313871968270211$",
            "text/plain": [
              "0.313871968270211"
            ]
          },
          "metadata": {
            "tags": []
          },
          "execution_count": 25
        }
      ]
    },
    {
      "cell_type": "markdown",
      "metadata": {
        "id": "6-5Fw-EYNhpp"
      },
      "source": [
        "**練習** 星の明るさと等級\n",
        "\n",
        "夜空に見える星の見かけの明るさ $L$ は等級 $m$ で表され、以下のような関係がある。\n",
        "\n",
        "$\\quad m = -2.5 \\log_{10} L + 定数$\n",
        "\n",
        "1等星と 6等星ではどちらの方が何倍明るいか"
      ]
    },
    {
      "cell_type": "markdown",
      "metadata": {
        "id": "Row-Ce8DOL3n"
      },
      "source": [
        "**(ヒント)**\n",
        "\n",
        "1等星と 6等星の見かけの明るさをそれぞれ、$L_1, L_6$ とすると\n",
        "\n",
        "$1=-2.5 \\log_{10} L_1 + 定数, \\quad$\n",
        "$6=-2.5 \\log_{10} L_6 + 定数$\n",
        "\n",
        "両辺を引くと、\n",
        "\n",
        "$1-6 = -2.5(\\log_{10}L_1-\\log_{10}L_6)$\n",
        "\n",
        "$\\displaystyle log_{10} \\frac{L_1}{L_6}=\\frac{-5}{-2.5}=2$"
      ]
    },
    {
      "cell_type": "code",
      "metadata": {
        "colab": {
          "base_uri": "https://localhost:8080/",
          "height": 36
        },
        "id": "R1_aoojrE3Rn",
        "outputId": "f6c39753-5b1e-439a-b981-e1c7d418cb8d"
      },
      "source": [
        "from sympy.abc import *\n",
        "from sympy import *\n",
        "from sympy.codegen.cfunctions import log10\n",
        "log10(100)"
      ],
      "execution_count": null,
      "outputs": [
        {
          "output_type": "execute_result",
          "data": {
            "text/latex": "$\\displaystyle 2$",
            "text/plain": [
              "2"
            ]
          },
          "metadata": {
            "tags": []
          },
          "execution_count": 3
        }
      ]
    },
    {
      "cell_type": "markdown",
      "metadata": {
        "id": "3HqnCQXfFQi0"
      },
      "source": [
        "**解答**\n",
        "\n",
        "1 等星の方が 6等星の100倍明るい。"
      ]
    },
    {
      "cell_type": "markdown",
      "metadata": {
        "id": "fNnOHeL_b9pj"
      },
      "source": [
        "# 三角関数の値"
      ]
    },
    {
      "cell_type": "code",
      "metadata": {
        "colab": {
          "base_uri": "https://localhost:8080/",
          "height": 162
        },
        "id": "k0cxDmtBcA7P",
        "outputId": "8376ff4c-04b1-4c32-fb39-efa2a016762f"
      },
      "source": [
        "from sympy.abc import *\n",
        "from sympy import *\n",
        "display(sin(pi/3))\n",
        "display(pi/3)\n",
        "display(float(sin(pi/3)))\n",
        "Pi=float(pi)\n",
        "display(sin(Pi/3))\n",
        "display(sin(Rational(60,180)*pi))\n"
      ],
      "execution_count": null,
      "outputs": [
        {
          "output_type": "display_data",
          "data": {
            "text/latex": "$\\displaystyle \\frac{\\sqrt{3}}{2}$",
            "text/plain": [
              "sqrt(3)/2"
            ]
          },
          "metadata": {
            "tags": []
          }
        },
        {
          "output_type": "display_data",
          "data": {
            "text/latex": "$\\displaystyle \\frac{\\pi}{3}$",
            "text/plain": [
              "pi/3"
            ]
          },
          "metadata": {
            "tags": []
          }
        },
        {
          "output_type": "display_data",
          "data": {
            "text/plain": [
              "0.8660254037844386"
            ]
          },
          "metadata": {
            "tags": []
          }
        },
        {
          "output_type": "display_data",
          "data": {
            "text/latex": "$\\displaystyle 0.866025403784439$",
            "text/plain": [
              "0.866025403784439"
            ]
          },
          "metadata": {
            "tags": []
          }
        },
        {
          "output_type": "display_data",
          "data": {
            "text/latex": "$\\displaystyle \\frac{\\sqrt{3}}{2}$",
            "text/plain": [
              "sqrt(3)/2"
            ]
          },
          "metadata": {
            "tags": []
          }
        }
      ]
    },
    {
      "cell_type": "markdown",
      "metadata": {
        "id": "oWZ7SFOZdwlu"
      },
      "source": [
        "質問\n",
        "\n",
        "sin(pi/3) を $\\displaystyle \\frac{\\sqrt3}{2}$ でなく、$\\displaystyle \\sin{\\frac{\\pi}{3}}$ と表示したいときはどうするか。"
      ]
    },
    {
      "cell_type": "markdown",
      "metadata": {
        "id": "QeRtnNvucO1L"
      },
      "source": [
        "**練習** 屋根勾配\n",
        "\n",
        "家の屋根の勾配は角度ではなく，伝統的に 3寸勾配，4寸勾配のように水平方向に1尺（10寸）に対して垂直方向に何寸立ち上がるかで示す。 これを寸勾配、矩勾配 (かねこうばい) と呼ぶ。\n",
        "\n",
        "8寸勾配は、傾斜角度にすると何度か？\n"
      ]
    },
    {
      "cell_type": "code",
      "metadata": {
        "colab": {
          "base_uri": "https://localhost:8080/",
          "height": 594
        },
        "id": "EWs0N97L2LCZ",
        "outputId": "fa0173aa-4c88-43b6-ccdd-40dba7f46268"
      },
      "source": [
        "from sympy.abc import *\n",
        "from sympy import *\n",
        "def raddeg(x) :\n",
        "    return float(x * 180/pi)\n",
        "\n",
        "# 1寸勾配\n",
        "x = 0.1\n",
        "display(x,Float(atan(x), 3), Float(raddeg(atan(x)),5))\n",
        "# 2寸勾配 ～\n",
        "x = 0.2\n",
        "display(x,Float(atan(x), 3), Float(raddeg(atan(x)),5))\n",
        "x=0.3\n",
        "display(x,Float(atan(x), 3), Float(raddeg(atan(x)),5))\n",
        "x=0.4\n",
        "display(x,Float(atan(x), 3), Float(raddeg(atan(x)),5))\n",
        "x=0.5\n",
        "display(x,Float(atan(x), 3), Float(raddeg(atan(x)),5))\n",
        "x=0.6\n",
        "display(x,Float(atan(x), 3), Float(raddeg(atan(x)),5))\n",
        "x=0.7\n",
        "display(x,Float(atan(x), 3), Float(raddeg(atan(x)),5))\n",
        "x=0.8\n",
        "display(x,Float(atan(x), 3), Float(raddeg(atan(x)),5))\n",
        "x=0.9\n",
        "display(x,Float(atan(x), 3), Float(raddeg(atan(x)),5))\n",
        "x=1.0\n",
        "display(x,Float(atan(x), 3), Float(raddeg(atan(x)),5))\n"
      ],
      "execution_count": null,
      "outputs": [
        {
          "output_type": "display_data",
          "data": {
            "text/plain": [
              "0.1"
            ]
          },
          "metadata": {
            "tags": []
          }
        },
        {
          "output_type": "display_data",
          "data": {
            "text/latex": "$\\displaystyle 0.0997$",
            "text/plain": [
              "0.0997"
            ]
          },
          "metadata": {
            "tags": []
          }
        },
        {
          "output_type": "display_data",
          "data": {
            "text/latex": "$\\displaystyle 5.7106$",
            "text/plain": [
              "5.7106"
            ]
          },
          "metadata": {
            "tags": []
          }
        },
        {
          "output_type": "display_data",
          "data": {
            "text/plain": [
              "0.2"
            ]
          },
          "metadata": {
            "tags": []
          }
        },
        {
          "output_type": "display_data",
          "data": {
            "text/latex": "$\\displaystyle 0.197$",
            "text/plain": [
              "0.197"
            ]
          },
          "metadata": {
            "tags": []
          }
        },
        {
          "output_type": "display_data",
          "data": {
            "text/latex": "$\\displaystyle 11.31$",
            "text/plain": [
              "11.310"
            ]
          },
          "metadata": {
            "tags": []
          }
        },
        {
          "output_type": "display_data",
          "data": {
            "text/plain": [
              "0.3"
            ]
          },
          "metadata": {
            "tags": []
          }
        },
        {
          "output_type": "display_data",
          "data": {
            "text/latex": "$\\displaystyle 0.291$",
            "text/plain": [
              "0.291"
            ]
          },
          "metadata": {
            "tags": []
          }
        },
        {
          "output_type": "display_data",
          "data": {
            "text/latex": "$\\displaystyle 16.699$",
            "text/plain": [
              "16.699"
            ]
          },
          "metadata": {
            "tags": []
          }
        },
        {
          "output_type": "display_data",
          "data": {
            "text/plain": [
              "0.4"
            ]
          },
          "metadata": {
            "tags": []
          }
        },
        {
          "output_type": "display_data",
          "data": {
            "text/latex": "$\\displaystyle 0.38$",
            "text/plain": [
              "0.380"
            ]
          },
          "metadata": {
            "tags": []
          }
        },
        {
          "output_type": "display_data",
          "data": {
            "text/latex": "$\\displaystyle 21.801$",
            "text/plain": [
              "21.801"
            ]
          },
          "metadata": {
            "tags": []
          }
        },
        {
          "output_type": "display_data",
          "data": {
            "text/plain": [
              "0.5"
            ]
          },
          "metadata": {
            "tags": []
          }
        },
        {
          "output_type": "display_data",
          "data": {
            "text/latex": "$\\displaystyle 0.464$",
            "text/plain": [
              "0.464"
            ]
          },
          "metadata": {
            "tags": []
          }
        },
        {
          "output_type": "display_data",
          "data": {
            "text/latex": "$\\displaystyle 26.565$",
            "text/plain": [
              "26.565"
            ]
          },
          "metadata": {
            "tags": []
          }
        },
        {
          "output_type": "display_data",
          "data": {
            "text/plain": [
              "0.6"
            ]
          },
          "metadata": {
            "tags": []
          }
        },
        {
          "output_type": "display_data",
          "data": {
            "text/latex": "$\\displaystyle 0.54$",
            "text/plain": [
              "0.540"
            ]
          },
          "metadata": {
            "tags": []
          }
        },
        {
          "output_type": "display_data",
          "data": {
            "text/latex": "$\\displaystyle 30.964$",
            "text/plain": [
              "30.964"
            ]
          },
          "metadata": {
            "tags": []
          }
        },
        {
          "output_type": "display_data",
          "data": {
            "text/plain": [
              "0.7"
            ]
          },
          "metadata": {
            "tags": []
          }
        },
        {
          "output_type": "display_data",
          "data": {
            "text/latex": "$\\displaystyle 0.611$",
            "text/plain": [
              "0.611"
            ]
          },
          "metadata": {
            "tags": []
          }
        },
        {
          "output_type": "display_data",
          "data": {
            "text/latex": "$\\displaystyle 34.992$",
            "text/plain": [
              "34.992"
            ]
          },
          "metadata": {
            "tags": []
          }
        },
        {
          "output_type": "display_data",
          "data": {
            "text/plain": [
              "0.8"
            ]
          },
          "metadata": {
            "tags": []
          }
        },
        {
          "output_type": "display_data",
          "data": {
            "text/latex": "$\\displaystyle 0.675$",
            "text/plain": [
              "0.675"
            ]
          },
          "metadata": {
            "tags": []
          }
        },
        {
          "output_type": "display_data",
          "data": {
            "text/latex": "$\\displaystyle 38.66$",
            "text/plain": [
              "38.660"
            ]
          },
          "metadata": {
            "tags": []
          }
        },
        {
          "output_type": "display_data",
          "data": {
            "text/plain": [
              "0.9"
            ]
          },
          "metadata": {
            "tags": []
          }
        },
        {
          "output_type": "display_data",
          "data": {
            "text/latex": "$\\displaystyle 0.733$",
            "text/plain": [
              "0.733"
            ]
          },
          "metadata": {
            "tags": []
          }
        },
        {
          "output_type": "display_data",
          "data": {
            "text/latex": "$\\displaystyle 41.987$",
            "text/plain": [
              "41.987"
            ]
          },
          "metadata": {
            "tags": []
          }
        },
        {
          "output_type": "display_data",
          "data": {
            "text/plain": [
              "1.0"
            ]
          },
          "metadata": {
            "tags": []
          }
        },
        {
          "output_type": "display_data",
          "data": {
            "text/latex": "$\\displaystyle 0.785$",
            "text/plain": [
              "0.785"
            ]
          },
          "metadata": {
            "tags": []
          }
        },
        {
          "output_type": "display_data",
          "data": {
            "text/latex": "$\\displaystyle 45.0$",
            "text/plain": [
              "45.000"
            ]
          },
          "metadata": {
            "tags": []
          }
        }
      ]
    },
    {
      "cell_type": "markdown",
      "metadata": {
        "id": "MuXlIs8eHILN"
      },
      "source": [
        "# 数列の和\n",
        "\n",
        "summation (一般項 a_i, (i, 初めの i, 最後の i) で\n",
        "\n",
        "$\\displaystyle \\sum_{i=1}^{10} i^2$ \n",
        "\n",
        "の計算をする\n",
        "\n"
      ]
    },
    {
      "cell_type": "code",
      "metadata": {
        "id": "PEhtfh5RRm45",
        "colab": {
          "base_uri": "https://localhost:8080/",
          "height": 37
        },
        "outputId": "69b80702-a60a-4a64-920c-2349e98e7eef"
      },
      "source": [
        "summation (i**2, (i,1,10))"
      ],
      "execution_count": null,
      "outputs": [
        {
          "output_type": "execute_result",
          "data": {
            "text/latex": "$\\displaystyle 385$",
            "text/plain": [
              "385"
            ]
          },
          "metadata": {
            "tags": []
          },
          "execution_count": 5
        }
      ]
    },
    {
      "cell_type": "code",
      "metadata": {
        "id": "sBiMH5VrRvq5",
        "colab": {
          "base_uri": "https://localhost:8080/",
          "height": 37
        },
        "outputId": "5d18c9be-a1b6-439f-a09d-decfe2914a34"
      },
      "source": [
        "summation(i,(i,1,10))"
      ],
      "execution_count": null,
      "outputs": [
        {
          "output_type": "execute_result",
          "data": {
            "text/latex": "$\\displaystyle 55$",
            "text/plain": [
              "55"
            ]
          },
          "metadata": {
            "tags": []
          },
          "execution_count": 7
        }
      ]
    },
    {
      "cell_type": "code",
      "metadata": {
        "id": "pu3n18R8SBoc",
        "colab": {
          "base_uri": "https://localhost:8080/",
          "height": 90
        },
        "outputId": "17adf008-25d6-402d-b492-914175c536f9"
      },
      "source": [
        "from sympy.abc import *\n",
        "from sympy import *\n",
        "init_printing()\n",
        "N=symbols('N')\n",
        "display(summation(i**2, (i, 1, N)))\n",
        "display(factor(summation(i**2, (i, 1, N))))\n"
      ],
      "execution_count": null,
      "outputs": [
        {
          "output_type": "display_data",
          "data": {
            "image/png": "[encoded data removed]",
            "text/latex": "$\\displaystyle \\frac{N^{3}}{3} + \\frac{N^{2}}{2} + \\frac{N}{6}$",
            "text/plain": [
              " 3    2    \n",
              "N    N    N\n",
              "── + ── + ─\n",
              "3    2    6"
            ]
          },
          "metadata": {
            "tags": []
          }
        },
        {
          "output_type": "display_data",
          "data": {
            "image/png": "[encoded data removed]",
            "text/latex": "$\\displaystyle \\frac{N \\left(N + 1\\right) \\left(2 N + 1\\right)}{6}$",
            "text/plain": [
              "N⋅(N + 1)⋅(2⋅N + 1)\n",
              "───────────────────\n",
              "         6         "
            ]
          },
          "metadata": {
            "tags": []
          }
        }
      ]
    },
    {
      "cell_type": "markdown",
      "metadata": {
        "id": "dr0GCTluTfSL"
      },
      "source": [
        "**練習**\n",
        "\n",
        "**数列の和**\n",
        "\n",
        "等差数列 arithmetic sequence\n",
        "等比数列 geometric sequence\n",
        "\n",
        "1. 初項 $a_1$, 交差 $d$ の等差数列の第1項から第$n$項までの和を求める。\n",
        "1. 初項が 3、公比が 2 の等比数列について、第10項までの和を求める\n",
        "1. $\\sum_{i=1}^n b_1 r^{i-1}$ を求める。 また無限等比擦れつの和 $n \\rightarrow \\infty$ を求める。 ただし $0<r<1$。\n",
        "\n",
        "**ヒント**"
      ]
    },
    {
      "cell_type": "code",
      "metadata": {
        "id": "FFaWeVInQ6O4",
        "outputId": "855cbf28-0f04-4967-c879-26d8975dd32a",
        "colab": {
          "base_uri": "https://localhost:8080/",
          "height": 115
        }
      },
      "source": [
        "# 第1問は次のような計算\n",
        "from sympy import *\n",
        "init_printing()\n",
        "a1,i,d,n = symbols('a1,i,d,n')\n",
        "display(summation(a1+(i-1)*d, (i,1,n)))\n",
        "display(expand(summation(a1+(i-1)*d, (i,1,n))))\n",
        "a1=1\n",
        "d=1\n",
        "n=10\n",
        "display(summation(a1+(i-1)*d, (i,1,n)))\n"
      ],
      "execution_count": 10,
      "outputs": [
        {
          "output_type": "display_data",
          "data": {
            "image/png": "[encoded data removed]",
            "text/latex": "$\\displaystyle d \\left(\\frac{n^{2}}{2} + \\frac{n}{2}\\right) + n \\left(a_{1} - d\\right)$",
            "text/plain": [
              "  ⎛ 2    ⎞             \n",
              "  ⎜n    n⎟             \n",
              "d⋅⎜── + ─⎟ + n⋅(a₁ - d)\n",
              "  ⎝2    2⎠             "
            ]
          },
          "metadata": {
            "tags": []
          }
        },
        {
          "output_type": "display_data",
          "data": {
            "image/png": "[encoded data removed]",
            "text/latex": "$\\displaystyle a_{1} n + \\frac{d n^{2}}{2} - \\frac{d n}{2}$",
            "text/plain": [
              "          2      \n",
              "       d⋅n    d⋅n\n",
              "a₁⋅n + ──── - ───\n",
              "        2      2 "
            ]
          },
          "metadata": {
            "tags": []
          }
        },
        {
          "output_type": "display_data",
          "data": {
            "image/png": "[encoded data removed]",
            "text/latex": "$\\displaystyle 55$",
            "text/plain": [
              "55"
            ]
          },
          "metadata": {
            "tags": []
          }
        }
      ]
    },
    {
      "cell_type": "code",
      "metadata": {
        "id": "0CZBDzEUdp7q",
        "outputId": "d506348d-3ed9-4d38-ee2b-f874a19f0375",
        "colab": {
          "base_uri": "https://localhost:8080/",
          "height": 226
        }
      },
      "source": [
        "# 第2問 , 第3問\n",
        "from sympy import *\n",
        "init_printing()\n",
        "b1,i,r,n = symbols('b1,i,r,n')\n",
        "display(summation(b1*r**(i-1), (i,1,n)))\n",
        "b1=3\n",
        "r=2\n",
        "n=10\n",
        "display(summation(b1*r**(i-1), (i,1,n)))\n",
        "r=0.5\n",
        "n=10\n",
        "display(summation(b1*r**(i-1), (i,1,n)))\n",
        "b1,i,r,n = symbols('b1,i,r,n')\n",
        "r=0.1\n",
        "display(Limit((r-r**(n+1))/(1-r), n, oo).doit()/r)\n",
        "r=0.3\n",
        "display(Limit((r-r**(n+1))/(1-r), n, oo).doit()/r)\n",
        "r=0.5\n",
        "display(Limit((r-r**(n+1))/(1-r), n, oo).doit()/r)\n",
        "r=0.7\n",
        "display(Limit((r-r**(n+1))/(1-r), n, oo).doit()/r)\n",
        "r=0.9\n",
        "display(Limit((r-r**(n+1))/(1-r), n, oo).doit()/r)"
      ],
      "execution_count": 37,
      "outputs": [
        {
          "output_type": "display_data",
          "data": {
            "text/latex": "$\\displaystyle \\frac{b_{1} \\left(\\begin{cases} n & \\text{for}\\: r = 1 \\\\\\frac{r - r^{n + 1}}{1 - r} & \\text{otherwise} \\end{cases}\\right)}{r}$",
            "text/plain": [
              "   ⎛⎧    n       for r = 1⎞\n",
              "   ⎜⎪                     ⎟\n",
              "   ⎜⎪     n + 1           ⎟\n",
              "b₁⋅⎜⎨r - r                ⎟\n",
              "   ⎜⎪──────────  otherwise⎟\n",
              "   ⎜⎪  1 - r              ⎟\n",
              "   ⎝⎩                     ⎠\n",
              "───────────────────────────\n",
              "             r             "
            ]
          },
          "metadata": {
            "tags": []
          }
        },
        {
          "output_type": "display_data",
          "data": {
            "image/png": "[encoded data removed]",
            "text/latex": "$\\displaystyle 3069$",
            "text/plain": [
              "3069"
            ]
          },
          "metadata": {
            "tags": []
          }
        },
        {
          "output_type": "display_data",
          "data": {
            "image/png": "[encoded data removed]",
            "text/latex": "$\\displaystyle 5.994140625$",
            "text/plain": [
              "5.99414062500000"
            ]
          },
          "metadata": {
            "tags": []
          }
        },
        {
          "output_type": "display_data",
          "data": {
            "image/png": "[encoded data removed]",
            "text/latex": "$\\displaystyle 1.11111111111111$",
            "text/plain": [
              "1.11111111111111"
            ]
          },
          "metadata": {
            "tags": []
          }
        },
        {
          "output_type": "display_data",
          "data": {
            "image/png": "[encoded data removed]",
            "text/latex": "$\\displaystyle 1.42857142857143$",
            "text/plain": [
              "1.42857142857143"
            ]
          },
          "metadata": {
            "tags": []
          }
        },
        {
          "output_type": "display_data",
          "data": {
            "image/png": "[encoded data removed]",
            "text/latex": "$\\displaystyle 2.0$",
            "text/plain": [
              "2.00000000000000"
            ]
          },
          "metadata": {
            "tags": []
          }
        },
        {
          "output_type": "display_data",
          "data": {
            "image/png": "[encoded data removed]",
            "text/latex": "$\\displaystyle 3.33333333333333$",
            "text/plain": [
              "3.33333333333333"
            ]
          },
          "metadata": {
            "tags": []
          }
        },
        {
          "output_type": "display_data",
          "data": {
            "image/png": "[encoded data removed]",
            "text/latex": "$\\displaystyle 10.0$",
            "text/plain": [
              "10.0000000000000"
            ]
          },
          "metadata": {
            "tags": []
          }
        }
      ]
    },
    {
      "cell_type": "markdown",
      "metadata": {
        "id": "yCxU8zSTiabe"
      },
      "source": [
        "# 関数のテイラー展開"
      ]
    },
    {
      "cell_type": "markdown",
      "metadata": {
        "id": "YDh0M4VPiemO"
      },
      "source": [
        "$\\sin x$ を $x=0$ のまわりで $x^5$ の項までテイラー展開する。\n",
        "\n",
        "$x^5$ は $x^0$ から数えて 6番目。"
      ]
    },
    {
      "cell_type": "code",
      "metadata": {
        "id": "7e70mSYHizcJ",
        "outputId": "652ef8ad-c8d8-4cfe-9179-2338221af3ce",
        "colab": {
          "base_uri": "https://localhost:8080/",
          "height": 54
        }
      },
      "source": [
        "x = symbols('x', real=True)\n",
        "series(sin(x), x, 0, 6)"
      ],
      "execution_count": 45,
      "outputs": [
        {
          "output_type": "execute_result",
          "data": {
            "image/png": "[encoded data removed]",
            "text/latex": "$\\displaystyle x - \\frac{x^{3}}{6} + \\frac{x^{5}}{120} + O\\left(x^{6}\\right)$",
            "text/plain": [
              "     3     5        \n",
              "    x     x     ⎛ 6⎞\n",
              "x - ── + ─── + O⎝x ⎠\n",
              "    6    120        "
            ]
          },
          "metadata": {
            "tags": []
          },
          "execution_count": 45
        }
      ]
    },
    {
      "cell_type": "code",
      "metadata": {
        "id": "5lcxxJUXjXXE",
        "outputId": "93eeb424-3cfc-4b4f-9b9f-2f838d46fed4",
        "colab": {
          "base_uri": "https://localhost:8080/",
          "height": 54
        }
      },
      "source": [
        "# e^{ix} のテイラー展開\n",
        "series(exp(I*x), x, 0, 6)"
      ],
      "execution_count": 46,
      "outputs": [
        {
          "output_type": "execute_result",
          "data": {
            "image/png": "[encoded data removed]",
            "text/latex": "$\\displaystyle 1 + i x - \\frac{x^{2}}{2} - \\frac{i x^{3}}{6} + \\frac{x^{4}}{24} + \\frac{i x^{5}}{120} + O\\left(x^{6}\\right)$",
            "text/plain": [
              "           2      3    4      5        \n",
              "          x    ⅈ⋅x    x    ⅈ⋅x     ⎛ 6⎞\n",
              "1 + ⅈ⋅x - ── - ──── + ── + ──── + O⎝x ⎠\n",
              "          2     6     24   120         "
            ]
          },
          "metadata": {
            "tags": []
          },
          "execution_count": 46
        }
      ]
    },
    {
      "cell_type": "code",
      "metadata": {
        "id": "YSDxwJ1njjSP",
        "outputId": "ecd42339-b0fe-4d44-c42a-94dd494b5391",
        "colab": {
          "base_uri": "https://localhost:8080/",
          "height": 54
        }
      },
      "source": [
        "# 虚部は im でとれる\n",
        "im(series(exp(I*x), x, 0, 6))"
      ],
      "execution_count": 47,
      "outputs": [
        {
          "output_type": "execute_result",
          "data": {
            "image/png": "[encoded data removed]",
            "text/latex": "$\\displaystyle \\frac{x^{5}}{120} - \\frac{x^{3}}{6} + x + \\operatorname{im}{\\left(O\\left(x^{6}\\right)\\right)}$",
            "text/plain": [
              "  5    3                \n",
              " x    x          ⎛ ⎛ 6⎞⎞\n",
              "─── - ── + x + im⎝O⎝x ⎠⎠\n",
              "120   6                 "
            ]
          },
          "metadata": {
            "tags": []
          },
          "execution_count": 47
        }
      ]
    },
    {
      "cell_type": "code",
      "metadata": {
        "id": "gnmXLykWjs64",
        "outputId": "c73c273b-a3ec-43b2-f820-0a2b463d3029",
        "colab": {
          "base_uri": "https://localhost:8080/",
          "height": 54
        }
      },
      "source": [
        "# cos x\n",
        "x = symbols('x', real=True)\n",
        "series(cos(x), x, 0, 6)"
      ],
      "execution_count": 48,
      "outputs": [
        {
          "output_type": "execute_result",
          "data": {
            "image/png": "[encoded data removed]",
            "text/latex": "$\\displaystyle 1 - \\frac{x^{2}}{2} + \\frac{x^{4}}{24} + O\\left(x^{6}\\right)$",
            "text/plain": [
              "     2    4        \n",
              "    x    x     ⎛ 6⎞\n",
              "1 - ── + ── + O⎝x ⎠\n",
              "    2    24        "
            ]
          },
          "metadata": {
            "tags": []
          },
          "execution_count": 48
        }
      ]
    },
    {
      "cell_type": "code",
      "metadata": {
        "id": "If-UyL3Jjwf2",
        "outputId": "303f0810-3cfc-455d-c309-c39ebd045d3a",
        "colab": {
          "base_uri": "https://localhost:8080/",
          "height": 54
        }
      },
      "source": [
        "# tan x\n",
        "x = symbols('x', real=True)\n",
        "series(tan(x), x, 0, 6)"
      ],
      "execution_count": 49,
      "outputs": [
        {
          "output_type": "execute_result",
          "data": {
            "image/png": "[encoded data removed]",
            "text/latex": "$\\displaystyle x + \\frac{x^{3}}{3} + \\frac{2 x^{5}}{15} + O\\left(x^{6}\\right)$",
            "text/plain": [
              "     3      5        \n",
              "    x    2⋅x     ⎛ 6⎞\n",
              "x + ── + ──── + O⎝x ⎠\n",
              "    3     15         "
            ]
          },
          "metadata": {
            "tags": []
          },
          "execution_count": 49
        }
      ]
    },
    {
      "cell_type": "markdown",
      "metadata": {
        "id": "E1x8eMhHj81J"
      },
      "source": [
        "# 式の整理、展開、因数分解、簡単化"
      ]
    },
    {
      "cell_type": "code",
      "metadata": {
        "id": "8t7KxnunkDRe",
        "outputId": "06fd6b80-ed93-4197-ad7e-12c65a2e11c6",
        "colab": {
          "base_uri": "https://localhost:8080/",
          "height": 37
        }
      },
      "source": [
        "expand((x + 1)**2)"
      ],
      "execution_count": 50,
      "outputs": [
        {
          "output_type": "execute_result",
          "data": {
            "image/png": "[encoded data removed]",
            "text/latex": "$\\displaystyle x^{2} + 2 x + 1$",
            "text/plain": [
              " 2          \n",
              "x  + 2⋅x + 1"
            ]
          },
          "metadata": {
            "tags": []
          },
          "execution_count": 50
        }
      ]
    },
    {
      "cell_type": "code",
      "metadata": {
        "id": "NcfsScZUkHu3",
        "outputId": "e07d6dda-084f-4ece-f0cb-a085d7b23e81",
        "colab": {
          "base_uri": "https://localhost:8080/",
          "height": 38
        }
      },
      "source": [
        "factor(x**3 - 1)"
      ],
      "execution_count": 51,
      "outputs": [
        {
          "output_type": "execute_result",
          "data": {
            "image/png": "[encoded data removed]",
            "text/latex": "$\\displaystyle \\left(x - 1\\right) \\left(x^{2} + x + 1\\right)$",
            "text/plain": [
              "        ⎛ 2        ⎞\n",
              "(x - 1)⋅⎝x  + x + 1⎠"
            ]
          },
          "metadata": {
            "tags": []
          },
          "execution_count": 51
        }
      ]
    },
    {
      "cell_type": "code",
      "metadata": {
        "id": "HWia1TO-kMez",
        "outputId": "1c25fe6e-ddcf-4e6f-a55c-8e89e7328169",
        "colab": {
          "base_uri": "https://localhost:8080/",
          "height": 91
        }
      },
      "source": [
        "# 部分分数への展開\n",
        "display(apart(3/(x**3 - 1)))\n",
        "display(apart(3/(x**2 - 1)))\n"
      ],
      "execution_count": 54,
      "outputs": [
        {
          "output_type": "display_data",
          "data": {
            "image/png": "[encoded data removed]",
            "text/latex": "$\\displaystyle - \\frac{x + 2}{x^{2} + x + 1} + \\frac{1}{x - 1}$",
            "text/plain": [
              "    x + 2        1  \n",
              "- ────────── + ─────\n",
              "   2           x - 1\n",
              "  x  + x + 1        "
            ]
          },
          "metadata": {
            "tags": []
          }
        },
        {
          "output_type": "display_data",
          "data": {
            "image/png": "[encoded data removed]",
            "text/latex": "$\\displaystyle - \\frac{3}{2 \\left(x + 1\\right)} + \\frac{3}{2 \\left(x - 1\\right)}$",
            "text/plain": [
              "      3           3    \n",
              "- ───────── + ─────────\n",
              "  2⋅(x + 1)   2⋅(x - 1)"
            ]
          },
          "metadata": {
            "tags": []
          }
        }
      ]
    },
    {
      "cell_type": "code",
      "metadata": {
        "id": "tw0u0mUdkjp8",
        "outputId": "029349c1-1bcd-4500-a7ca-25a936f476b2",
        "colab": {
          "base_uri": "https://localhost:8080/",
          "height": 110
        }
      },
      "source": [
        "display(ratsimp(1/(x-1)-(x+2)/(x**2+x+1)))\n",
        "display(simplify(1/(x-1)-(x+2)/(x**2+x+1)))"
      ],
      "execution_count": 60,
      "outputs": [
        {
          "output_type": "display_data",
          "data": {
            "image/png": "[encoded data removed]",
            "text/latex": "$\\displaystyle x^{3} - 1$",
            "text/plain": [
              " 3    \n",
              "x  - 1"
            ]
          },
          "metadata": {
            "tags": []
          }
        },
        {
          "output_type": "display_data",
          "data": {
            "image/png": "[encoded data removed]",
            "text/latex": "$\\displaystyle \\frac{3}{x^{3} - 1}$",
            "text/plain": [
              "  3   \n",
              "──────\n",
              " 3    \n",
              "x  - 1"
            ]
          },
          "metadata": {
            "tags": []
          }
        },
        {
          "output_type": "display_data",
          "data": {
            "image/png": "[encoded data removed]",
            "text/latex": "$\\displaystyle \\frac{3}{x^{3} - 1}$",
            "text/plain": [
              "  3   \n",
              "──────\n",
              " 3    \n",
              "x  - 1"
            ]
          },
          "metadata": {
            "tags": []
          }
        }
      ]
    },
    {
      "cell_type": "code",
      "metadata": {
        "id": "wjfUkCVZkwuI",
        "outputId": "41154f64-ce23-4718-e596-d4d6d767fa9c",
        "colab": {
          "base_uri": "https://localhost:8080/",
          "height": 37
        }
      },
      "source": [
        "ratsimp((x-1)*(x**2+x+1))\n"
      ],
      "execution_count": 56,
      "outputs": [
        {
          "output_type": "execute_result",
          "data": {
            "image/png": "[encoded data removed]",
            "text/latex": "$\\displaystyle x^{3} - 1$",
            "text/plain": [
              " 3    \n",
              "x  - 1"
            ]
          },
          "metadata": {
            "tags": []
          },
          "execution_count": 56
        }
      ]
    },
    {
      "cell_type": "markdown",
      "metadata": {
        "id": "WcsHhg_YlH8-"
      },
      "source": [
        "# 三角関数の式の簡単化"
      ]
    },
    {
      "cell_type": "code",
      "metadata": {
        "id": "d8tpC6m5lQL5",
        "outputId": "5a90dcf4-14a5-4b5e-aa2e-56e3d403962c",
        "colab": {
          "base_uri": "https://localhost:8080/",
          "height": 100
        }
      },
      "source": [
        "# 三角関数については expand(expr,trig=True) と trigsimp (またはsimplify) を使う\n",
        "display(trigsimp(cos(x)**2 - sin(x)**2))\n",
        "display(simplify(cos(x)**2 - sin(x)**2))\n",
        "display(trigsimp(cos(x)**2 + sin(x)**2))\n",
        "expand(cos(2*x),trig=True)"
      ],
      "execution_count": 67,
      "outputs": [
        {
          "output_type": "display_data",
          "data": {
            "image/png": "[encoded data removed]",
            "text/latex": "$\\displaystyle \\cos{\\left(2 x \\right)}$",
            "text/plain": [
              "cos(2⋅x)"
            ]
          },
          "metadata": {
            "tags": []
          }
        },
        {
          "output_type": "display_data",
          "data": {
            "image/png": "[encoded data removed]",
            "text/latex": "$\\displaystyle \\cos{\\left(2 x \\right)}$",
            "text/plain": [
              "cos(2⋅x)"
            ]
          },
          "metadata": {
            "tags": []
          }
        },
        {
          "output_type": "display_data",
          "data": {
            "image/png": "[encoded data removed]",
            "text/latex": "$\\displaystyle 1$",
            "text/plain": [
              "1"
            ]
          },
          "metadata": {
            "tags": []
          }
        },
        {
          "output_type": "execute_result",
          "data": {
            "image/png": "[encoded data removed]",
            "text/latex": "$\\displaystyle 2 \\cos^{2}{\\left(x \\right)} - 1$",
            "text/plain": [
              "     2       \n",
              "2⋅cos (x) - 1"
            ]
          },
          "metadata": {
            "tags": []
          },
          "execution_count": 67
        }
      ]
    },
    {
      "cell_type": "code",
      "metadata": {
        "id": "o0smAx1pmAbf",
        "outputId": "015f5b10-cec7-4fd6-a551-9fe9dd273da1",
        "colab": {
          "base_uri": "https://localhost:8080/",
          "height": 56
        }
      },
      "source": [
        "display(trigsimp(cosh(x)**2 - sinh(x)**2))\n",
        "display(simplify(cosh(x)**2 - sinh(x)**2))"
      ],
      "execution_count": 66,
      "outputs": [
        {
          "output_type": "display_data",
          "data": {
            "image/png": "[encoded data removed]",
            "text/latex": "$\\displaystyle 1$",
            "text/plain": [
              "1"
            ]
          },
          "metadata": {
            "tags": []
          }
        },
        {
          "output_type": "display_data",
          "data": {
            "image/png": "[encoded data removed]",
            "text/latex": "$\\displaystyle 1$",
            "text/plain": [
              "1"
            ]
          },
          "metadata": {
            "tags": []
          }
        }
      ]
    },
    {
      "cell_type": "code",
      "metadata": {
        "id": "26G8_ZnGmaog",
        "outputId": "cfb31a2a-1804-4d66-f76d-cd49ad5b97f0",
        "colab": {
          "base_uri": "https://localhost:8080/",
          "height": 58
        }
      },
      "source": [
        "display(expand(cos(3*x), trig=True))\n",
        "display(simplify(4*cos(x)**3-3*cos(x)))"
      ],
      "execution_count": 70,
      "outputs": [
        {
          "output_type": "display_data",
          "data": {
            "image/png": "[encoded data removed]",
            "text/latex": "$\\displaystyle 4 \\cos^{3}{\\left(x \\right)} - 3 \\cos{\\left(x \\right)}$",
            "text/plain": [
              "     3              \n",
              "4⋅cos (x) - 3⋅cos(x)"
            ]
          },
          "metadata": {
            "tags": []
          }
        },
        {
          "output_type": "display_data",
          "data": {
            "image/png": "[encoded data removed]",
            "text/latex": "$\\displaystyle \\cos{\\left(3 x \\right)}$",
            "text/plain": [
              "cos(3⋅x)"
            ]
          },
          "metadata": {
            "tags": []
          }
        }
      ]
    },
    {
      "cell_type": "markdown",
      "metadata": {
        "id": "kP7AQ-D_mrV4"
      },
      "source": [
        "**練習**\n",
        "\n",
        "加法定理・三倍角の公式\n",
        "\n",
        "1. 三角関数および双曲線関数の加法定理を確認する。\n",
        "1. $\\sin 3x$ を $\\sin x$ だけを使って表す。 また $\\tan x$ を $\\tan x$ だけを使って表す。\n",
        "\n",
        "**ヒント**\n",
        "\n",
        "trg=True をつけて expand する。\n",
        "\n"
      ]
    },
    {
      "cell_type": "markdown",
      "metadata": {
        "id": "SRzTBfbqzn1F"
      },
      "source": [
        "# いまここ"
      ]
    }
  ]
}