{
  "nbformat": 4,
  "nbformat_minor": 0,
  "metadata": {
    "colab": {
      "name": "linear_matsuno.ipynb",
      "provenance": [],
      "authorship_tag": "ABX9TyN3rn3kARHqbkb8jgvUYCcF",
      "include_colab_link": true
    },
    "kernelspec": {
      "name": "python3",
      "display_name": "Python 3"
    }
  },
  "cells": [
    {
      "cell_type": "markdown",
      "metadata": {
        "id": "view-in-github",
        "colab_type": "text"
      },
      "source": [
        "<a href=\"https://colab.research.google.com/github/kalz2q/mycolabnotebooks/blob/master/linear_matsuno.ipynb\" target=\"_parent\"><img src=\"https://colab.research.google.com/assets/colab-badge.svg\" alt=\"Open In Colab\"/></a>"
      ]
    },
    {
      "cell_type": "code",
      "metadata": {
        "id": "y8_gBECB1Pll"
      },
      "source": [
        ""
      ],
      "execution_count": null,
      "outputs": []
    },
    {
      "cell_type": "markdown",
      "metadata": {
        "id": "TpsLYiTb1VQA"
      },
      "source": [
        "# メモ\r\n",
        "\r\n",
        "なるほど！とわかる線形代数 松野陽一郎 東京図書\r\n",
        "\r\n",
        "を読む。"
      ]
    }
  ]
}