{
  "nbformat": 4,
  "nbformat_minor": 0,
  "metadata": {
    "colab": {
      "name": "linear_matsuno.ipynb",
      "provenance": [],
      "authorship_tag": "ABX9TyPVmk7L/3p5FR3dIO3HQOhH",
      "include_colab_link": true
    },
    "kernelspec": {
      "name": "python3",
      "display_name": "Python 3"
    }
  },
  "cells": [
    {
      "cell_type": "markdown",
      "metadata": {
        "id": "view-in-github",
        "colab_type": "text"
      },
      "source": [
        "<a href=\"https://colab.research.google.com/github/kalz2q/mycolabnotebooks/blob/master/linear_matsuno.ipynb\" target=\"_parent\"><img src=\"https://colab.research.google.com/assets/colab-badge.svg\" alt=\"Open In Colab\"/></a>"
      ]
    },
    {
      "cell_type": "markdown",
      "metadata": {
        "id": "TpsLYiTb1VQA"
      },
      "source": [
        "# メモ\r\n",
        "\r\n",
        "なるほど！とわかる線形代数 松野陽一郎 東京図書\r\n",
        "\r\n",
        "を読む。"
      ]
    },
    {
      "cell_type": "code",
      "metadata": {
        "id": "y8_gBECB1Pll",
        "outputId": "96864ea8-bbc2-46d3-bd5f-52d0608de377",
        "colab": {
          "base_uri": "https://localhost:8080/",
          "height": 124
        }
      },
      "source": [
        "# はじめの準備\r\n",
        "%%latex\r\n",
        "実数の集合を \\ \\mathbb{R} \\ と書く。 \\text{real number}。\\\\\r\n",
        "\\\\\r\n",
        "i \\ は虚数単位で \\ \\sqrt{-1} \\ とも書く。\\\\\r\n",
        "\\\\\r\n",
        "複素数 \\ z=x+iy \\ の集合を \\quad \\mathbb{C} \\ と書く。 \\text{complex number}。\\\\\r\n",
        "\\\\\r\n",
        "(x, y) を平面上の点と見たときの座標平面を複素平面という。\\\\\r\n",
        "\\\\\r\n",
        "\\overline{z} = x - iy \\ を \\ z \\ の複素共役という。"
      ],
      "execution_count": 26,
      "outputs": [
        {
          "output_type": "display_data",
          "data": {
            "text/latex": "実数の集合を \\ \\mathbb{R} \\ と書く。 \\text{real number}。\\\\\n\\\\\ni \\ は虚数単位で \\ \\sqrt{-1} \\ とも書く。\\\\\n\\\\\n複素数 \\ z=x+iy \\ の集合を \\quad \\mathbb{C} \\ と書く。 \\text{complex number}。\\\\\n\\\\\n(x, y) を平面上の点と見たときの座標平面を複素平面という。\\\\\n\\\\\n\\overline{z} = x - iy \\ を \\ z \\ の複素共役という。",
            "text/plain": [
              "<IPython.core.display.Latex object>"
            ]
          },
          "metadata": {
            "tags": []
          }
        }
      ]
    },
    {
      "cell_type": "code",
      "metadata": {
        "id": "VVt9v70r5IVc",
        "outputId": "6f429d7b-f668-4374-fabc-4f736aaf706f",
        "colab": {
          "base_uri": "https://localhost:8080/",
          "height": 37
        }
      },
      "source": [
        "# 代数学の基本定理\r\n",
        "%%latex\r\n",
        "係数が複素数である"
      ],
      "execution_count": 20,
      "outputs": [
        {
          "output_type": "display_data",
          "data": {
            "text/latex": "\\overline{z}",
            "text/plain": [
              "<IPython.core.display.Latex object>"
            ]
          },
          "metadata": {
            "tags": []
          }
        }
      ]
    }
  ]
}