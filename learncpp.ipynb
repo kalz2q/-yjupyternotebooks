{
  "nbformat": 4,
  "nbformat_minor": 0,
  "metadata": {
    "colab": {
      "name": "learncpp.ipynb",
      "provenance": [],
      "collapsed_sections": [],
      "toc_visible": true,
      "authorship_tag": "ABX9TyOtLk1+VlEYI9vOOkgY+a/S",
      "include_colab_link": true
    },
    "kernelspec": {
      "name": "python3",
      "display_name": "Python 3"
    }
  },
  "cells": [
    {
      "cell_type": "markdown",
      "metadata": {
        "id": "view-in-github",
        "colab_type": "text"
      },
      "source": [
        "<a href=\"https://colab.research.google.com/github/kalz2q/mycolabnotebooks/blob/master/learncpp.ipynb\" target=\"_parent\"><img src=\"https://colab.research.google.com/assets/colab-badge.svg\" alt=\"Open In Colab\"/></a>"
      ]
    },
    {
      "cell_type": "markdown",
      "metadata": {
        "id": "5sevcYNyHthT"
      },
      "source": [
        "# メモ\n",
        "テキスト\n",
        "1. https://www.w3schools.com/cpp/   w3scoolのC++ Tutorial\n",
        "1. https://rinatz.github.io/cpp-book/ch01-02-hello-world/  ゼロから学ぶC++ (book形式)\n",
        "\n"
      ]
    },
    {
      "cell_type": "markdown",
      "metadata": {
        "id": "DZsWwWMBYra0"
      },
      "source": [
        "セルマジックの `%%writefile` でソースのテキストを書いて、!gcc+ で実行する。 行頭のエクスクラメーションマーク `!` は Unix (Linux, Ubuntu) のシステムコマンドを利用するよ!!!! という意味。`!ls` や `!echo` が使える。\n",
        "\n",
        "Shift+Enter はセルを実行してフォーカスを次のセルに移動するので、便利に使える。"
      ]
    },
    {
      "cell_type": "code",
      "source": [
        "!g++ --version"
      ],
      "metadata": {
        "id": "ADvsIjo5PY0X",
        "outputId": "15170546-25b1-405b-9a38-91675eeea4f1",
        "colab": {
          "base_uri": "https://localhost:8080/"
        }
      },
      "execution_count": null,
      "outputs": [
        {
          "output_type": "stream",
          "name": "stdout",
          "text": [
            "g++ (Ubuntu 7.5.0-3ubuntu1~18.04) 7.5.0\n",
            "Copyright (C) 2017 Free Software Foundation, Inc.\n",
            "This is free software; see the source for copying conditions.  There is NO\n",
            "warranty; not even for MERCHANTABILITY or FITNESS FOR A PARTICULAR PURPOSE.\n",
            "\n"
          ]
        }
      ]
    },
    {
      "cell_type": "code",
      "metadata": {
        "id": "-jTNMcEE-y3-",
        "outputId": "56ce3437-1a36-40ea-d450-b2753b9e4df5",
        "colab": {
          "base_uri": "https://localhost:8080/"
        }
      },
      "source": [
        "#\n",
        "%%writefile temp.cpp\n",
        "# include <bits/stdc++.h>\n",
        "using namespace std;\n",
        "\n",
        "int main() {\n",
        "  cout << \"Hello World!\";\n",
        "}"
      ],
      "execution_count": null,
      "outputs": [
        {
          "output_type": "stream",
          "name": "stdout",
          "text": [
            "Writing temp.cpp\n"
          ]
        }
      ]
    },
    {
      "cell_type": "markdown",
      "metadata": {
        "id": "aX9GYppIchv8"
      },
      "source": [
        "これを g++ でコンパイルする。  実行可能ファイル名を `-o` で指定しないと、デフォルトで `a.out` になる。 これを実行する。"
      ]
    },
    {
      "cell_type": "code",
      "metadata": {
        "id": "8Lf0COUH-9ol",
        "outputId": "b7600a42-163a-4354-d14d-bbc8fa2d1308",
        "colab": {
          "base_uri": "https://localhost:8080/"
        }
      },
      "source": [
        "!g++ temp.cpp; ./a.out"
      ],
      "execution_count": null,
      "outputs": [
        {
          "output_type": "stream",
          "name": "stdout",
          "text": [
            "Hello World!"
          ]
        }
      ]
    },
    {
      "cell_type": "code",
      "metadata": {
        "id": "V7FCGvXToerV",
        "outputId": "58fa723a-c88d-4d72-997f-f6e552c373e2",
        "colab": {
          "base_uri": "https://localhost:8080/"
        }
      },
      "source": [
        "# 実験 改行コードとかが使えるかの実験\n",
        "%%writefile temp.cpp\n",
        "# include <bits/stdc++.h>\n",
        "int main() {\n",
        "  couthello world\\n \\t初めてのC++\" << endl;\n",
        "  cout << \"次の行\";\n",
        "}"
      ],
      "execution_count": null,
      "outputs": [
        {
          "output_type": "stream",
          "name": "stdout",
          "text": [
            "Overwriting temp.cpp\n"
          ]
        }
      ]
    },
    {
      "cell_type": "code",
      "metadata": {
        "id": "Gdy2RltWBMlU",
        "outputId": "56b3ca72-e4be-4aee-f4ae-dee0c4141966",
        "colab": {
          "base_uri": "https://localhost:8080/"
        }
      },
      "source": [
        "!g++ temp.cpp; ./a.out"
      ],
      "execution_count": null,
      "outputs": [
        {
          "output_type": "stream",
          "name": "stdout",
          "text": [
            "hello world\n",
            " \t初めてのC++\n",
            "次の行"
          ]
        }
      ]
    },
    {
      "cell_type": "code",
      "metadata": {
        "id": "vHNrx0tRpuBf",
        "outputId": "fcfd3868-5920-42e4-f6d3-285302d66eaf",
        "colab": {
          "base_uri": "https://localhost:8080/"
        }
      },
      "source": [
        "# for 構文\n",
        "# 次のは i を 1 ずつ増やして行って 10回 メッセージを書くプログラム。\n",
        "%%writefile temp.cpp\n",
        "# include <bits/stdc++.h>\n",
        "\n",
        "int main() {\n",
        "  for (int i = 0; i < 10; i++) cout << \"Hello World\" << endl;\n",
        "}\n"
      ],
      "execution_count": null,
      "outputs": [
        {
          "output_type": "stream",
          "name": "stdout",
          "text": [
            "Overwriting temp.cpp\n"
          ]
        }
      ]
    },
    {
      "cell_type": "code",
      "metadata": {
        "id": "hxXfoxj8Bkb2",
        "outputId": "98462736-ee90-41e5-d527-5cd50417913a",
        "colab": {
          "base_uri": "https://localhost:8080/"
        }
      },
      "source": [
        "!g++ temp.cpp; ./a.out"
      ],
      "execution_count": null,
      "outputs": [
        {
          "output_type": "stream",
          "name": "stdout",
          "text": [
            "Hello World\n",
            "Hello World\n",
            "Hello World\n",
            "Hello World\n",
            "Hello World\n",
            "Hello World\n",
            "Hello World\n",
            "Hello World\n",
            "Hello World\n",
            "Hello World\n"
          ]
        }
      ]
    },
    {
      "cell_type": "markdown",
      "metadata": {
        "id": "VtOagpx9EaSA"
      },
      "source": [
        "コメントは `//`  と `/*` と `*/` \n",
        "\n",
        "`# include <bits/stdc++.h>` はヘッダーライブラリーと呼ばれるもの。\n",
        "\n",
        "`using namespace std` は標準ライブラリーのオブジェクトや変数の名前を使える、と言うこと。\n",
        "\n",
        "`cout` はシーアウトと読み、`<<` とセットで使われる。\n",
        "\n",
        "改行やホワイトスペースについては `int main () { cout << \"Hello World! \"; return 0; }` と続けて書いても同じ。\n",
        "\n"
      ]
    },
    {
      "cell_type": "code",
      "source": [
        "# 変数のタイプ\n",
        "\n",
        "# * int\n",
        "# * double\n",
        "# * char\n",
        "# * \"string\"\n",
        "# * bool (true, false) \n",
        "\n",
        "# など。"
      ],
      "metadata": {
        "id": "9xEHO9jxdjDe"
      },
      "execution_count": null,
      "outputs": []
    },
    {
      "cell_type": "code",
      "metadata": {
        "id": "Mc2my2c0es1D",
        "outputId": "7604ab32-3820-43a5-f5ea-5cdc768d2710",
        "colab": {
          "base_uri": "https://localhost:8080/"
        }
      },
      "source": [
        "# cout は文字列と数値を受け付ける\n",
        "%%writefile temp.cpp\n",
        "# include <bits/stdc++.h>\n",
        "using namespace std;\n",
        "\n",
        "int main() {\n",
        "  int myNum = 15;\n",
        "  cout << myNum;\n",
        "}"
      ],
      "execution_count": null,
      "outputs": [
        {
          "output_type": "stream",
          "name": "stdout",
          "text": [
            "Overwriting temp.cpp\n"
          ]
        }
      ]
    },
    {
      "cell_type": "code",
      "metadata": {
        "id": "JRO5IbRYdIr8",
        "outputId": "da15e87f-aedc-493f-fa2e-dc92e71d6a18",
        "colab": {
          "base_uri": "https://localhost:8080/"
        }
      },
      "source": [
        "!g++ temp.cpp; ./a.out"
      ],
      "execution_count": null,
      "outputs": [
        {
          "output_type": "stream",
          "name": "stdout",
          "text": [
            "15"
          ]
        }
      ]
    },
    {
      "cell_type": "code",
      "metadata": {
        "id": "3aRUXLCpIdJu"
      },
      "source": [
        "# 変数は上書きできるか => できる。 immutable ではない\n",
        "%%writefile temp.cpp\n",
        "# include <bits/stdc++.h>\n",
        "using namespace std;\n",
        "\n",
        "int main() {\n",
        "  int myNum = 15;   // Now myNum is 15\n",
        "  myNum = 10;       // Now myNum is 10\n",
        "  cout << myNum;\n",
        "}"
      ],
      "execution_count": null,
      "outputs": []
    },
    {
      "cell_type": "code",
      "metadata": {
        "id": "yCSbQFadIkgW"
      },
      "source": [
        "!g++ temp.cpp; ./a.out"
      ],
      "execution_count": null,
      "outputs": []
    },
    {
      "cell_type": "code",
      "metadata": {
        "id": "AyPpeOqOJAYm"
      },
      "source": [
        "# 変数の型\n",
        "%%writefile temp.cpp\n",
        "# include <bits/stdc++.h>\n",
        "using namespace std;\n",
        "\n",
        "int main()\n",
        "{\n",
        "    int myNum = 5;            // Integer (whole number without decimals)\n",
        "    double myFloatNum = 5.99; // Floating point number (with decimals)\n",
        "    char myLetter = 'D';      // Character\n",
        "    string myText = \"Hello\";  // String (text)\n",
        "    bool myBoolean = true;    // Boolean (true or false)\n",
        "\n",
        "    cout << myNum << endl;\n",
        "    cout << myFloatNum << endl;\n",
        "    cout << myLetter << endl;\n",
        "    cout << myText << endl;\n",
        "    cout << myBoolean << endl;\n",
        "}"
      ],
      "execution_count": null,
      "outputs": []
    },
    {
      "cell_type": "code",
      "metadata": {
        "id": "1gfaLXePKNyp"
      },
      "source": [
        "!g++ temp.cpp; ./a.out"
      ],
      "execution_count": null,
      "outputs": []
    },
    {
      "cell_type": "code",
      "metadata": {
        "id": "I2hrg56RJB8V"
      },
      "source": [
        "%%writefile temp.cpp\n",
        "# include <bits/stdc++.h>\n",
        "using namespace std;\n",
        "\n",
        "int main() {\n",
        "  int myAge = 35;\n",
        "  cout << \"I am \" << myAge << \" years old.\";\n",
        "}"
      ],
      "execution_count": null,
      "outputs": []
    },
    {
      "cell_type": "code",
      "metadata": {
        "id": "2bnagYq-FYvS"
      },
      "source": [
        "!g++ temp.cpp; ./a.out"
      ],
      "execution_count": null,
      "outputs": []
    },
    {
      "cell_type": "code",
      "metadata": {
        "id": "lLkTZSs1Fhyx"
      },
      "source": [
        "%%writefile temp.cpp\n",
        "# include <bits/stdc++.h>\n",
        "using namespace std;\n",
        "\n",
        "int main() {\n",
        "  int x = 5;\n",
        "  int y = 6;\n",
        "  int sum = x + y;\n",
        "  cout << sum;\n",
        "}"
      ],
      "execution_count": null,
      "outputs": []
    },
    {
      "cell_type": "code",
      "metadata": {
        "id": "2l06UtFVJOCV"
      },
      "source": [
        "!g++ temp.cpp; ./a.out"
      ],
      "execution_count": null,
      "outputs": []
    },
    {
      "cell_type": "code",
      "metadata": {
        "id": "Q2pqnG9vJYlV"
      },
      "source": [
        "%%writefile temp.cpp\n",
        "# include <bits/stdc++.h>\n",
        "using namespace std;\n",
        "\n",
        "int main() {\n",
        "  int x = 5, y = 6, z = 50;  \n",
        "  cout << x + y + z;\n",
        "}"
      ],
      "execution_count": null,
      "outputs": []
    },
    {
      "cell_type": "code",
      "metadata": {
        "id": "VJDodQp8Jgmd"
      },
      "source": [
        "!g++ temp.cpp; ./a.out"
      ],
      "execution_count": null,
      "outputs": []
    },
    {
      "cell_type": "code",
      "metadata": {
        "id": "xV3cZma5LXxQ",
        "outputId": "085dc263-e00a-495d-8d7a-26fdb1a1197b",
        "colab": {
          "base_uri": "https://localhost:8080/"
        }
      },
      "source": [
        "%%writefile temp.cpp\n",
        "# include <bits/stdc++.h>\n",
        "using namespace std;\n",
        "\n",
        "int main() {\n",
        "  // Good name\n",
        "  int minutesPerHour = 60;\n",
        "  \n",
        "  // OK, but not so easy to understand what m actually is\n",
        "  int m = 60;\n",
        "  \n",
        "  cout << minutesPerHour << endl;\n",
        "  cout << m;\n",
        "  return 0;\n",
        "}"
      ],
      "execution_count": null,
      "outputs": [
        {
          "output_type": "stream",
          "name": "stdout",
          "text": [
            "Writing temp.cpp\n"
          ]
        }
      ]
    },
    {
      "cell_type": "code",
      "metadata": {
        "id": "fNUgnO2GLcia",
        "outputId": "56db269f-9cee-4837-f73b-1241b3da0b47",
        "colab": {
          "base_uri": "https://localhost:8080/"
        }
      },
      "source": [
        "!g++ temp.cpp; ./a.out"
      ],
      "execution_count": null,
      "outputs": [
        {
          "output_type": "stream",
          "name": "stdout",
          "text": [
            "60\n",
            "60"
          ]
        }
      ]
    },
    {
      "cell_type": "code",
      "source": [
        "# C++ の変数名は camelCase(camel case) か、snake_case (snake case) か\n",
        "# どちらの主張もある。 \n",
        "# snake_case が多いみたい。\n",
        "# しかし!!!! snake_case はめんどくさい。\n",
        "# c++ 自体は camelCase を使っているので混ざることになる。\n",
        "# snake_case の方が美しいが、混ざるのは美しくない。\n",
        "# 今の考え。snake_case の方が美しいので、将来、あるレベルに達したら snake_case に統一するかもしれないが、\n",
        "# 学習段階は、どうせいつまでも学習段階なのだし、camelCase で統一する。"
      ],
      "metadata": {
        "id": "i5qsM6R8-Us7"
      },
      "execution_count": null,
      "outputs": []
    },
    {
      "cell_type": "code",
      "metadata": {
        "id": "IBCUbzB-L36Z"
      },
      "source": [
        "# const を使うと immutable になる\n",
        "%%writefile temp.cpp\n",
        "# include <bits/stdc++.h>\n",
        "using namespace std;\n",
        "\n",
        "int main() {\n",
        "  const int myNum = 15;\n",
        "  myNum = 10; // error: assignment of read-only variable 'myNum'\n",
        "  cout << myNum;\n",
        "}"
      ],
      "execution_count": null,
      "outputs": []
    },
    {
      "cell_type": "code",
      "metadata": {
        "id": "8j4PBhIF-H1S"
      },
      "source": [
        "!g++ temp.cpp; ./a.out"
      ],
      "execution_count": null,
      "outputs": []
    },
    {
      "cell_type": "code",
      "metadata": {
        "id": "RLbtIfo3-ezx",
        "outputId": "43786dbc-7a12-4e41-f4bc-937702402535",
        "colab": {
          "base_uri": "https://localhost:8080/"
        }
      },
      "source": [
        "%%writefile temp.cpp\n",
        "# include <bits/stdc++.h>\n",
        "using namespace std;\n",
        "\n",
        "int main() {\n",
        "  const int minutesPerHour = 60;\n",
        "  const float PI = 3.14;\n",
        "  cout << minutesPerHour << endl;\n",
        "  cout << PI;\n",
        "}\n"
      ],
      "execution_count": null,
      "outputs": [
        {
          "output_type": "stream",
          "name": "stdout",
          "text": [
            "Overwriting temp.cpp\n"
          ]
        }
      ]
    },
    {
      "cell_type": "code",
      "metadata": {
        "id": "G5ydxV_O-jef",
        "outputId": "50981bde-8779-4c4f-9fdf-b6b98bcb3a1d",
        "colab": {
          "base_uri": "https://localhost:8080/"
        }
      },
      "source": [
        "!g++ temp.cpp; ./a.out"
      ],
      "execution_count": null,
      "outputs": [
        {
          "output_type": "stream",
          "name": "stdout",
          "text": [
            "60\n",
            "3.14"
          ]
        }
      ]
    },
    {
      "cell_type": "code",
      "metadata": {
        "id": "fQHrZCjS770U",
        "outputId": "be0820c7-89ca-4958-9462-d838408d6828",
        "colab": {
          "base_uri": "https://localhost:8080/"
        }
      },
      "source": [
        "# int num; とだけして出力すると何が入っているか実験\n",
        "#=> int は毎回値が違う。 string は \"\" みたい。\n",
        "%%writefile temp.cpp\n",
        "# include <bits/stdc++.h>\n",
        "using namespace std;\n",
        "\n",
        "int main() {\n",
        "  int num1;\n",
        "  string str1;\n",
        "  int num2;\n",
        "  cout << num1 << endl;\n",
        "  cout << str1 << endl;\n",
        "  cout << num2 << endl;\n",
        "}\n"
      ],
      "execution_count": null,
      "outputs": [
        {
          "output_type": "stream",
          "name": "stdout",
          "text": [
            "Overwriting temp.cpp\n"
          ]
        }
      ]
    },
    {
      "cell_type": "code",
      "metadata": {
        "id": "cuYmm3yw7-kY",
        "outputId": "98f23032-73d5-4808-dec5-5570f06bed7e",
        "colab": {
          "base_uri": "https://localhost:8080/"
        }
      },
      "source": [
        "!g++ temp.cpp; ./a.out"
      ],
      "execution_count": null,
      "outputs": [
        {
          "output_type": "stream",
          "name": "stdout",
          "text": [
            "642567302\n",
            "\n",
            "22069\n"
          ]
        }
      ]
    },
    {
      "cell_type": "code",
      "metadata": {
        "id": "_N9MptadGY1W",
        "outputId": "477b743f-9847-4eee-f648-4d1504eb3032",
        "colab": {
          "base_uri": "https://localhost:8080/"
        }
      },
      "source": [
        "# input\n",
        "# `cin` で標準入力を受け付ける\n",
        "# 次のプログラムは本来はインタラクティブにユーザーが数字を入力することを想定しているが\n",
        "# colab のコードセルでは、インプット待ちになってしまい具合が悪い。\n",
        "# 実行例のように、echo とパイプで入力する数字を明示的にプログラムに渡す\n",
        "%%writefile temp.cpp\n",
        "# include <bits/stdc++.h>\n",
        "using namespace std;\n",
        "\n",
        "int main() {\n",
        "  int x, y;\n",
        "  int sum;\n",
        "  cout << \"Type a number: \";\n",
        "  cin >> x;\n",
        "  cout << \"Type another number: \";\n",
        "  cin >> y;\n",
        "  sum = x + y;\n",
        "  cout << \"Sum is: \" << sum;\n",
        "}"
      ],
      "execution_count": null,
      "outputs": [
        {
          "output_type": "stream",
          "name": "stdout",
          "text": [
            "Overwriting temp.cpp\n"
          ]
        }
      ]
    },
    {
      "cell_type": "code",
      "metadata": {
        "id": "dKO1hxPIGZYP",
        "outputId": "47f1a638-c25c-4537-e9ee-a839e6528972",
        "colab": {
          "base_uri": "https://localhost:8080/"
        }
      },
      "source": [
        "!g++ temp.cpp;  echo 3 7 |./a.out"
      ],
      "execution_count": null,
      "outputs": [
        {
          "output_type": "stream",
          "name": "stdout",
          "text": [
            "Type a number: Type another number: Sum is: 10"
          ]
        }
      ]
    },
    {
      "cell_type": "code",
      "metadata": {
        "id": "rfOWTWDY_3ND",
        "outputId": "68c24eee-150a-4900-fd8e-aaa816dc49ef",
        "colab": {
          "base_uri": "https://localhost:8080/"
        }
      },
      "source": [
        "# データタイプ\n",
        "%%writefile temp.cpp\n",
        "# include <bits/stdc++.h>\n",
        "using namespace std;\n",
        " \n",
        "int main () {\n",
        "  // Creating variables\n",
        "  int myNum = 5;               // Integer (whole number)\n",
        "  float myFloatNum = 5.99;     // Floating point number\n",
        "  double myDoubleNum = 9.98;   // Floating point number\n",
        "  char myLetter = 'D';         // Character\n",
        "  bool myBoolean = true;       // Boolean\n",
        "  string myString = \"Hello\";   // String\n",
        "   \n",
        "  // Print variable values\n",
        "  cout << \"int: \" << myNum << endl;\n",
        "  cout << \"float: \" << myFloatNum << endl;\n",
        "  cout << \"double: \" << myDoubleNum << endl;\n",
        "  cout << \"char: \" << myLetter << endl;\n",
        "  cout << \"bool: \" << myBoolean << endl;\n",
        "  cout << \"string: \" << myString << endl;\n",
        "}\n"
      ],
      "execution_count": null,
      "outputs": [
        {
          "output_type": "stream",
          "name": "stdout",
          "text": [
            "Overwriting temp.cpp\n"
          ]
        }
      ]
    },
    {
      "cell_type": "code",
      "metadata": {
        "id": "HqrUg7bf_8qW",
        "outputId": "985b5963-2dc9-4aad-e34c-ff3b2b9df1c3",
        "colab": {
          "base_uri": "https://localhost:8080/"
        }
      },
      "source": [
        "!g++ temp.cpp; ./a.out"
      ],
      "execution_count": null,
      "outputs": [
        {
          "output_type": "stream",
          "name": "stdout",
          "text": [
            "int: 5\n",
            "float: 5.99\n",
            "double: 9.98\n",
            "char: D\n",
            "bool: 1\n",
            "string: Hello\n"
          ]
        }
      ]
    },
    {
      "cell_type": "code",
      "metadata": {
        "id": "OWmRqKMBAQ4u",
        "outputId": "9a644c6d-0770-42ee-91a9-691bd81da0ae",
        "colab": {
          "base_uri": "https://localhost:8080/"
        }
      },
      "source": [
        "%%writefile temp.cpp\n",
        "# include <bits/stdc++.h>\n",
        "using namespace std;\n",
        " \n",
        "int main () {\n",
        "  float f1 = 35e3;\n",
        "  double d1 = 12E4;\n",
        "  cout << f1 << endl;\n",
        "  cout << d1;\n",
        "}"
      ],
      "execution_count": null,
      "outputs": [
        {
          "output_type": "stream",
          "name": "stdout",
          "text": [
            "Overwriting temp.cpp\n"
          ]
        }
      ]
    },
    {
      "cell_type": "code",
      "metadata": {
        "id": "_14b2DtCAVpP",
        "outputId": "38d2c43e-08c8-477b-9f56-09694ca0ceaf",
        "colab": {
          "base_uri": "https://localhost:8080/"
        }
      },
      "source": [
        "!g++ temp.cpp; ./a.out"
      ],
      "execution_count": null,
      "outputs": [
        {
          "output_type": "stream",
          "name": "stdout",
          "text": [
            "35000\n",
            "120000"
          ]
        }
      ]
    },
    {
      "cell_type": "code",
      "metadata": {
        "id": "W0AAUO0bAtxJ",
        "outputId": "80dcf984-5155-4c33-fd4c-b1df00f670ee",
        "colab": {
          "base_uri": "https://localhost:8080/"
        }
      },
      "source": [
        "# true は 1 で false は 0 \n",
        "%%writefile temp.cpp\n",
        "# include <bits/stdc++.h>\n",
        "using namespace std;\n",
        "\n",
        "int main() {\n",
        "  bool isCodingFun = true;\n",
        "  bool isFishTasty = false;\n",
        "  cout << isCodingFun << endl;\n",
        "  cout << isFishTasty;\n",
        "}"
      ],
      "execution_count": null,
      "outputs": [
        {
          "output_type": "stream",
          "name": "stdout",
          "text": [
            "Overwriting temp.cpp\n"
          ]
        }
      ]
    },
    {
      "cell_type": "code",
      "metadata": {
        "id": "-gl8iyL5Aym2",
        "outputId": "06ec04db-b8ac-4810-e54c-66b73c97b891",
        "colab": {
          "base_uri": "https://localhost:8080/"
        }
      },
      "source": [
        "!g++ temp.cpp; ./a.out"
      ],
      "execution_count": null,
      "outputs": [
        {
          "output_type": "stream",
          "name": "stdout",
          "text": [
            "1\n",
            "0"
          ]
        }
      ]
    },
    {
      "cell_type": "code",
      "metadata": {
        "id": "3IU5jEfcA-X-",
        "outputId": "f91fb413-a35c-4004-db77-c7b6f8debd4a",
        "colab": {
          "base_uri": "https://localhost:8080/"
        }
      },
      "source": [
        "%%writefile temp.cpp\n",
        "# include <bits/stdc++.h>\n",
        "using namespace std;\n",
        "int main () {\n",
        "  char myGrade = 'B';\n",
        "  cout << myGrade << endl;\n",
        "}"
      ],
      "execution_count": null,
      "outputs": [
        {
          "output_type": "stream",
          "name": "stdout",
          "text": [
            "Overwriting temp.cpp\n"
          ]
        }
      ]
    },
    {
      "cell_type": "code",
      "metadata": {
        "id": "NTCm8SvcBCd-",
        "outputId": "76e2f4ec-158c-4576-987d-796af65d98eb",
        "colab": {
          "base_uri": "https://localhost:8080/"
        }
      },
      "source": [
        "!g++ temp.cpp; ./a.out"
      ],
      "execution_count": null,
      "outputs": [
        {
          "output_type": "stream",
          "name": "stdout",
          "text": [
            "B\n"
          ]
        }
      ]
    },
    {
      "cell_type": "code",
      "metadata": {
        "id": "0CmJwJybRjc7",
        "outputId": "42d2eb84-f755-4899-8bed-7a2abdee4e0d",
        "colab": {
          "base_uri": "https://localhost:8080/"
        }
      },
      "source": [
        "%%writefile temp.cpp\n",
        "# include <bits/stdc++.h>\n",
        "using namespace std;\n",
        "int main () {\n",
        "  char a = 65, b = 66, c = 67;\n",
        "  cout << a;\n",
        "  cout << b;\n",
        "  cout << c;\n",
        "}"
      ],
      "execution_count": null,
      "outputs": [
        {
          "output_type": "stream",
          "name": "stdout",
          "text": [
            "Overwriting temp.cpp\n"
          ]
        }
      ]
    },
    {
      "cell_type": "code",
      "metadata": {
        "id": "ENlZzWMRRqDt",
        "outputId": "71b3b763-8bff-4da4-ed64-156bdfd37f5d",
        "colab": {
          "base_uri": "https://localhost:8080/"
        }
      },
      "source": [
        "!g++ temp.cpp; ./a.out"
      ],
      "execution_count": null,
      "outputs": [
        {
          "output_type": "stream",
          "name": "stdout",
          "text": [
            "ABC"
          ]
        }
      ]
    },
    {
      "cell_type": "code",
      "metadata": {
        "id": "DpEyG2779GDK",
        "colab": {
          "base_uri": "https://localhost:8080/"
        },
        "outputId": "dc592f09-ac47-4335-e84b-6a554905a62f"
      },
      "source": [
        "%%writefile temp.cpp\n",
        "# include <bits/stdc++.h>\n",
        "using namespace std;\n",
        "\n",
        "int main() {\n",
        "  string greeting = \"Hello\";\n",
        "  cout << greeting;\n",
        "}"
      ],
      "execution_count": null,
      "outputs": [
        {
          "output_type": "stream",
          "name": "stdout",
          "text": [
            "Overwriting temp.cpp\n"
          ]
        }
      ]
    },
    {
      "cell_type": "code",
      "metadata": {
        "id": "W25cg3YA9Mbi",
        "colab": {
          "base_uri": "https://localhost:8080/"
        },
        "outputId": "59ae955c-2b57-402d-9877-413076e83489"
      },
      "source": [
        "!g++ temp.cpp; ./a.out"
      ],
      "execution_count": null,
      "outputs": [
        {
          "output_type": "stream",
          "name": "stdout",
          "text": [
            "Hello"
          ]
        }
      ]
    },
    {
      "cell_type": "code",
      "source": [
        "# メモ endl\n",
        "# cout で \"\\n\" と endl の違いは endl は \"\\n\" とストリームのフラッシュアウトを行っている\n",
        "# cout を使った時は必ず endl も加えるのが良いと思う"
      ],
      "metadata": {
        "id": "mYkfn0oZwySb"
      },
      "execution_count": null,
      "outputs": []
    },
    {
      "cell_type": "code",
      "source": [
        "# 質問 int main と return 0\n",
        "# なぜ main は int なのか\n",
        "# なぜ main は return 0 なのか"
      ],
      "metadata": {
        "id": "joF8em99xhu8"
      },
      "execution_count": null,
      "outputs": []
    },
    {
      "cell_type": "code",
      "metadata": {
        "id": "_EayjJ3W9g0a",
        "colab": {
          "base_uri": "https://localhost:8080/"
        },
        "outputId": "a26bdb21-a199-4776-a655-56d1ba6c30da"
      },
      "source": [
        "# 演算子\n",
        "# 四則演算\n",
        "%%writefile temp.cpp\n",
        "# include <bits/stdc++.h>\n",
        "using namespace std;\n",
        "\n",
        "int main() {\n",
        "  int x = 5;\n",
        "  int y = 2;\n",
        "  cout << \"5 / 2 = \" << x / y << endl;\n",
        "  cout << \"5 % 2 = \" << x % y ;\n",
        "}\n"
      ],
      "execution_count": null,
      "outputs": [
        {
          "output_type": "stream",
          "name": "stdout",
          "text": [
            "Overwriting temp.cpp\n"
          ]
        }
      ]
    },
    {
      "cell_type": "code",
      "metadata": {
        "id": "KDvLHObl9z0h",
        "colab": {
          "base_uri": "https://localhost:8080/"
        },
        "outputId": "f17c1355-ada4-4b71-c251-4d060b5ba232"
      },
      "source": [
        "!g++ temp.cpp; ./a.out"
      ],
      "execution_count": null,
      "outputs": [
        {
          "output_type": "stream",
          "name": "stdout",
          "text": [
            "5 / 2 = 2\n",
            "5 % 2 = 1"
          ]
        }
      ]
    },
    {
      "cell_type": "code",
      "metadata": {
        "id": "mwz_2IN6-slS",
        "colab": {
          "base_uri": "https://localhost:8080/"
        },
        "outputId": "363dc506-3140-4c8f-c1ae-fb83ec17de44"
      },
      "source": [
        "# 引数がマイナスの場合の結果が Python と違う!!!!\n",
        "%%writefile temp.cpp\n",
        "# include <bits/stdc++.h>\n",
        "using namespace std;\n",
        "\n",
        "int main() {\n",
        "  int x = -5;\n",
        "  int y = 2;\n",
        "  cout << \"-5 / 2 = \" << x / y << endl;\n",
        "  cout << \"-5 % 2 = \" << x % y ;\n",
        "}"
      ],
      "execution_count": null,
      "outputs": [
        {
          "output_type": "stream",
          "name": "stdout",
          "text": [
            "Overwriting temp.cpp\n"
          ]
        }
      ]
    },
    {
      "cell_type": "code",
      "metadata": {
        "id": "qgdR8ljE-yzv",
        "colab": {
          "base_uri": "https://localhost:8080/"
        },
        "outputId": "5cfc10f0-7e08-4995-aead-faab3d4e57a7"
      },
      "source": [
        "!g++ temp.cpp; ./a.out"
      ],
      "execution_count": null,
      "outputs": [
        {
          "output_type": "stream",
          "name": "stdout",
          "text": [
            "-5 / 2 = -2\n",
            "-5 % 2 = -1"
          ]
        }
      ]
    },
    {
      "cell_type": "code",
      "metadata": {
        "id": "txQnJ6OoGvrH",
        "colab": {
          "base_uri": "https://localhost:8080/"
        },
        "outputId": "536d30ea-2453-4428-91b8-f771295f1b6a"
      },
      "source": [
        "print(-5 / 2)\n",
        "print(-5//2)\n",
        "print(-5 % 2)"
      ],
      "execution_count": null,
      "outputs": [
        {
          "output_type": "stream",
          "name": "stdout",
          "text": [
            "-2.5\n",
            "-3\n",
            "1\n"
          ]
        }
      ]
    },
    {
      "cell_type": "code",
      "metadata": {
        "id": "TlAjyukyHOJy",
        "colab": {
          "base_uri": "https://localhost:8080/"
        },
        "outputId": "38b5cf8a-4208-4a51-ed41-8f68ca3a12c0"
      },
      "source": [
        "# 冪乗はどうするのか。 python では -5**3 と書くが\n",
        "# pow() を使う\n",
        "%%writefile temp.cpp\n",
        "# include <bits/stdc++.h> // <cmath> も含まれる\n",
        "using namespace std;\n",
        "\n",
        "int main() {\n",
        "  int x = -5;\n",
        "  int y = 3;\n",
        "  cout << \"pow(-5, 3) = \" << pow(x, y) << endl;\n",
        "  cout << \"pow(\" << y << \", \" << x << \") = \" << pow(y, x);\n",
        "}"
      ],
      "execution_count": null,
      "outputs": [
        {
          "output_type": "stream",
          "name": "stdout",
          "text": [
            "Overwriting temp.cpp\n"
          ]
        }
      ]
    },
    {
      "cell_type": "code",
      "metadata": {
        "id": "dT-3wFH6HezZ",
        "colab": {
          "base_uri": "https://localhost:8080/"
        },
        "outputId": "e8358a38-4769-49a0-e385-dee93993b68e"
      },
      "source": [
        "!g++ temp.cpp; ./a.out"
      ],
      "execution_count": null,
      "outputs": [
        {
          "output_type": "stream",
          "name": "stdout",
          "text": [
            "pow(-5, 3) = -125\n",
            "pow(3, -5) = 0.00411523"
          ]
        }
      ]
    },
    {
      "cell_type": "code",
      "metadata": {
        "id": "b4Nys8y_vBT1",
        "colab": {
          "base_uri": "https://localhost:8080/"
        },
        "outputId": "f79cf436-1000-4b39-88f3-088b60088249"
      },
      "source": [
        "# アサインメント演算子\n",
        "%%writefile temp.cpp\n",
        "# include <bits/stdc++.h>\n",
        "using namespace std;\n",
        "\n",
        "int main() {\n",
        "  int x = 5;\n",
        "  x += 3;\n",
        "  cout << x << endl;\n",
        "  cout << x-- << endl;\n",
        "  cout << x << endl;\n",
        "  cout << --x << endl;\n",
        "}"
      ],
      "execution_count": null,
      "outputs": [
        {
          "output_type": "stream",
          "name": "stdout",
          "text": [
            "Overwriting temp.cpp\n"
          ]
        }
      ]
    },
    {
      "cell_type": "code",
      "metadata": {
        "id": "4pyoHRQBvg_z",
        "colab": {
          "base_uri": "https://localhost:8080/"
        },
        "outputId": "1c635769-8875-4f17-d169-b38e4b0c3957"
      },
      "source": [
        "!g++ temp.cpp; ./a.out"
      ],
      "execution_count": null,
      "outputs": [
        {
          "output_type": "stream",
          "name": "stdout",
          "text": [
            "8\n",
            "8\n",
            "7\n",
            "6\n"
          ]
        }
      ]
    },
    {
      "cell_type": "code",
      "metadata": {
        "id": "Hpc2_pUod-fM",
        "colab": {
          "base_uri": "https://localhost:8080/"
        },
        "outputId": "01391735-e63e-4f24-bcf7-94e8f2b6a0b0"
      },
      "source": [
        "# ビット演算子\n",
        "# 5 は 2進数で 101、4 は 100 なので & を取ると、100 で 4 になる。\n",
        "%%writefile temp.cpp\n",
        "# include <bits/stdc++.h>\n",
        "using namespace std;\n",
        "\n",
        "int main() {\n",
        "    int x = 5;\n",
        "    x &= 4;\n",
        "    cout << x;\n",
        "}"
      ],
      "execution_count": null,
      "outputs": [
        {
          "output_type": "stream",
          "name": "stdout",
          "text": [
            "Overwriting temp.cpp\n"
          ]
        }
      ]
    },
    {
      "cell_type": "code",
      "metadata": {
        "id": "Co6kI7K9eHMS",
        "colab": {
          "base_uri": "https://localhost:8080/"
        },
        "outputId": "68fd843e-f1f5-4fec-a5d6-84ef26177013"
      },
      "source": [
        "!g++ temp.cpp; ./a.out"
      ],
      "execution_count": null,
      "outputs": [
        {
          "output_type": "stream",
          "name": "stdout",
          "text": [
            "4"
          ]
        }
      ]
    },
    {
      "cell_type": "code",
      "source": [
        "%%html\n",
        "<style>\n",
        "    tr td:nth-child(2) {\n",
        "        color: red;\n",
        "        text-align: center;\n",
        "    }\n",
        "</style>\n",
        "<table border=\"1\">\n",
        "<thead>\n",
        "<tr><th>ビット演算</th><th>演算子</th><th>意味</th></tr>\n",
        "</thead>\n",
        "<tbody>\n",
        "<tr><td>ビット毎のAND演算</td><td>&</td><td>各ビットについて「両方のビットが1ならば1」という操作を適用する。</td></tr>\n",
        "<tr><td>ビット毎のOR演算</td><td>|</td><td>各ビットについて「少なくとも一方のビットが1ならば1」という操作を適用する。</td></tr>\n",
        "<tr><td>ビット毎のXOR演算</td><td>^</td><td>各ビットについて「どちらか一方だけが1ならば1」という操作を適用する。</td></tr>\n",
        "<tr><td>ビット毎のNOT演算</td><td>~</td><td>各ビットについて「ビットを反転する」という操作を適用する。</td></tr>\n",
        "<tr><td>左シフト演算</td><td><<</td><td>指定したビット数だけビット列を左にずらす。範囲外のビットは切り捨てられ、足りないビットは0で埋められる。</td></tr>\n",
        "<tr><td>右シフト演算</td><td>>></td><td>指定したビット数だけビット列を右にずらす。範囲外のビットは切り捨てられ、足りないビットは0で埋められる。</td></tr>\n",
        "</tbody>\n",
        "</table>"
      ],
      "metadata": {
        "colab": {
          "base_uri": "https://localhost:8080/",
          "height": 289
        },
        "id": "7ltxraARyrpM",
        "outputId": "c6270642-17e7-46d6-9a87-751e25a145f2"
      },
      "execution_count": null,
      "outputs": [
        {
          "output_type": "display_data",
          "data": {
            "text/plain": [
              "<IPython.core.display.HTML object>"
            ],
            "text/html": [
              "<style>\n",
              "    tr td:nth-child(2) {\n",
              "        color: red;\n",
              "        text-align: center;\n",
              "    }\n",
              "</style>\n",
              "<table border=\"1\">\n",
              "<thead>\n",
              "<tr><th>ビット演算</th><th>演算子</th><th>意味</th></tr>\n",
              "</thead>\n",
              "<tbody>\n",
              "<tr><td>ビット毎のAND演算</td><td>&</td><td>各ビットについて「両方のビットが1ならば1」という操作を適用する。</td></tr>\n",
              "<tr><td>ビット毎のOR演算</td><td>|</td><td>各ビットについて「少なくとも一方のビットが1ならば1」という操作を適用する。</td></tr>\n",
              "<tr><td>ビット毎のXOR演算</td><td>^</td><td>各ビットについて「どちらか一方だけが1ならば1」という操作を適用する。</td></tr>\n",
              "<tr><td>ビット毎のNOT演算</td><td>~</td><td>各ビットについて「ビットを反転する」という操作を適用する。</td></tr>\n",
              "<tr><td>左シフト演算</td><td><<</td><td>指定したビット数だけビット列を左にずらす。範囲外のビットは切り捨てられ、足りないビットは0で埋められる。</td></tr>\n",
              "<tr><td>右シフト演算</td><td>>></td><td>指定したビット数だけビット列を右にずらす。範囲外のビットは切り捨てられ、足りないビットは0で埋められる。</td></tr>\n",
              "</tbody>\n",
              "</table>"
            ]
          },
          "metadata": {}
        }
      ]
    },
    {
      "cell_type": "code",
      "source": [
        "# 2進数 10進数 相互変換\n",
        "%%writefile temp.cpp\n",
        "# include <bits/stdc++.h>\n",
        "using namespace std;\n",
        "\n",
        "int main() {\n",
        "    bitset<3> x(4);\n",
        "    bitset<3> y = 5;\n",
        "    bitset<3> z(0b111);\n",
        "    bitset<3> a(\"010\");\n",
        "    cout << x << endl;\n",
        "    cout << y << endl;\n",
        "    cout << z << endl;\n",
        "    cout << a << endl;\n",
        "    cout << a.to_ullong() << endl; // ビットセットの内容を unsigned long long 整数に変換\n",
        "}"
      ],
      "metadata": {
        "colab": {
          "base_uri": "https://localhost:8080/"
        },
        "id": "ixIvpcsJK0u_",
        "outputId": "7de33adb-e15f-457a-e29b-0ac030223972"
      },
      "execution_count": null,
      "outputs": [
        {
          "output_type": "stream",
          "name": "stdout",
          "text": [
            "Overwriting temp.cpp\n"
          ]
        }
      ]
    },
    {
      "cell_type": "code",
      "source": [
        "!g++ temp.cpp; ./a.out"
      ],
      "metadata": {
        "colab": {
          "base_uri": "https://localhost:8080/"
        },
        "id": "XRpLe0v7LTuw",
        "outputId": "d794737d-295a-4d8c-feae-3be1889cd3eb"
      },
      "execution_count": null,
      "outputs": [
        {
          "output_type": "stream",
          "name": "stdout",
          "text": [
            "100\n",
            "101\n",
            "111\n",
            "010\n",
            "2\n"
          ]
        }
      ]
    },
    {
      "cell_type": "code",
      "metadata": {
        "id": "DoppkUDGfF7C",
        "colab": {
          "base_uri": "https://localhost:8080/"
        },
        "outputId": "ba6b43b8-d029-485e-a37e-92faae6ea0c5"
      },
      "source": [
        "import numpy as np\n",
        "print(np.base_repr(5, 2))\n",
        "print(np.base_repr(4,2))"
      ],
      "execution_count": null,
      "outputs": [
        {
          "output_type": "stream",
          "name": "stdout",
          "text": [
            "101\n",
            "100\n"
          ]
        }
      ]
    },
    {
      "cell_type": "code",
      "metadata": {
        "id": "3BUv3ygpf4rH",
        "colab": {
          "base_uri": "https://localhost:8080/"
        },
        "outputId": "13ff8099-5658-403b-ed23-c1a48ecc29fc"
      },
      "source": [
        "# 5 は 2進数で 101 で、これを `<<` で 3桁左にずらすと 101000 にな\n",
        "%%writefile temp.cpp\n",
        "# include <bits/stdc++.h>\n",
        "using namespace std;\n",
        "\n",
        "int main() {\n",
        "  int x = 5;\n",
        "  x <<= 3;\n",
        "  cout << x << endl;\n",
        "  bitset<8> y = x;\n",
        "  cout << y << endl;\n",
        "  cout << bitset<8>(x) << endl;\n",
        "}"
      ],
      "execution_count": null,
      "outputs": [
        {
          "output_type": "stream",
          "name": "stdout",
          "text": [
            "Overwriting temp.cpp\n"
          ]
        }
      ]
    },
    {
      "cell_type": "code",
      "metadata": {
        "id": "TJ1DijnqgAHr",
        "colab": {
          "base_uri": "https://localhost:8080/"
        },
        "outputId": "707ed041-9861-415c-e87e-122c4f4bf542"
      },
      "source": [
        "!g++ temp.cpp; ./a.out"
      ],
      "execution_count": null,
      "outputs": [
        {
          "output_type": "stream",
          "name": "stdout",
          "text": [
            "40\n",
            "00101000\n",
            "00101000\n"
          ]
        }
      ]
    },
    {
      "cell_type": "markdown",
      "metadata": {
        "id": "WV8MmKZ6gqSw"
      },
      "source": [
        "文字列 string\n"
      ]
    },
    {
      "cell_type": "code",
      "metadata": {
        "id": "JV2gT3iagztB"
      },
      "source": [
        "%%writefile temp.cpp\n",
        "# include <bits/stdc++.h>\n",
        "using namespace std;\n",
        "int main() {\n",
        "  string greeting = \"Hello\";\n",
        "  cout << greeting;\n",
        "}"
      ],
      "execution_count": null,
      "outputs": []
    },
    {
      "cell_type": "code",
      "metadata": {
        "id": "snL3f-Vrg5jt"
      },
      "source": [
        "!g++ temp.cpp; ./a.out"
      ],
      "execution_count": null,
      "outputs": []
    },
    {
      "cell_type": "markdown",
      "metadata": {
        "id": "TLwB2_twB0xJ"
      },
      "source": [
        "string concatenation"
      ]
    },
    {
      "cell_type": "code",
      "metadata": {
        "id": "llvccZAOBmoX",
        "colab": {
          "base_uri": "https://localhost:8080/"
        },
        "outputId": "bafe5933-104c-4574-d31b-77bd828aa6d9"
      },
      "source": [
        "# 文字列連結 string concatination `+`\n",
        "%%writefile temp.cpp\n",
        "# include <bits/stdc++.h>\n",
        "#include <string>\n",
        "using namespace std;\n",
        "int main () {\n",
        "  string firstName = \"John \";\n",
        "  string lastName = \"Doe\";\n",
        "  string fullName = firstName + lastName;\n",
        "  cout << fullName;\n",
        "}"
      ],
      "execution_count": null,
      "outputs": [
        {
          "output_type": "stream",
          "name": "stdout",
          "text": [
            "Overwriting temp.cpp\n"
          ]
        }
      ]
    },
    {
      "cell_type": "code",
      "metadata": {
        "id": "r995sRAhBrIa",
        "colab": {
          "base_uri": "https://localhost:8080/"
        },
        "outputId": "8c6274e4-0882-4870-eacf-9d6038cbe4b9"
      },
      "source": [
        "!g++ temp.cpp; ./a.out"
      ],
      "execution_count": null,
      "outputs": [
        {
          "output_type": "stream",
          "name": "stdout",
          "text": [
            "John Doe"
          ]
        }
      ]
    },
    {
      "cell_type": "code",
      "metadata": {
        "id": "-iqkU708CLAj",
        "colab": {
          "base_uri": "https://localhost:8080/"
        },
        "outputId": "6a6b0759-7e81-41d2-bc8e-9a623c324025"
      },
      "source": [
        "%%writefile temp.cpp\n",
        "# include <bits/stdc++.h>\n",
        "using namespace std;\n",
        " \n",
        "int main () {\n",
        "  string firstName = \"John \";\n",
        "  string lastName = \"Doe\";\n",
        "  string fullName = firstName.append(lastName);\n",
        "  cout << fullName;\n",
        "}\n"
      ],
      "execution_count": null,
      "outputs": [
        {
          "output_type": "stream",
          "name": "stdout",
          "text": [
            "Overwriting temp.cpp\n"
          ]
        }
      ]
    },
    {
      "cell_type": "code",
      "metadata": {
        "id": "SJR6YJUbCU_o",
        "colab": {
          "base_uri": "https://localhost:8080/"
        },
        "outputId": "491a3a5d-e4b1-4749-bc77-0c5fba986a4c"
      },
      "source": [
        "!g++ temp.cpp; ./a.out"
      ],
      "execution_count": null,
      "outputs": [
        {
          "output_type": "stream",
          "name": "stdout",
          "text": [
            "John Doe"
          ]
        }
      ]
    },
    {
      "cell_type": "code",
      "metadata": {
        "id": "O8rjyAcwCzW5",
        "colab": {
          "base_uri": "https://localhost:8080/"
        },
        "outputId": "18e0547e-a5e3-47f7-9e9e-6ddba5a8d88c"
      },
      "source": [
        "%%writefile temp.cpp\n",
        "# include <bits/stdc++.h>\n",
        "using namespace std;\n",
        "int main() {\n",
        "  string txt = \"ABCDEFGHIJKLMNOPQRSTUVWXYZ\";\n",
        "  cout << \"The length of the txt string is: \" << txt.length() << endl;\n",
        "  cout << \"The size of the txt string is: \" << txt.size() << endl;\n",
        "}"
      ],
      "execution_count": null,
      "outputs": [
        {
          "output_type": "stream",
          "name": "stdout",
          "text": [
            "Overwriting temp.cpp\n"
          ]
        }
      ]
    },
    {
      "cell_type": "code",
      "metadata": {
        "id": "bN8osuBqC8Oe",
        "colab": {
          "base_uri": "https://localhost:8080/"
        },
        "outputId": "4e1d6208-3096-447f-c91c-b776ceda91d6"
      },
      "source": [
        "!g++ temp.cpp; ./a.out"
      ],
      "execution_count": null,
      "outputs": [
        {
          "output_type": "stream",
          "name": "stdout",
          "text": [
            "The length of the txt string is: 26\n",
            "The size of the txt string is: 26\n"
          ]
        }
      ]
    },
    {
      "cell_type": "code",
      "metadata": {
        "id": "Fwhtd7A5Dn6V",
        "colab": {
          "base_uri": "https://localhost:8080/"
        },
        "outputId": "817d67fb-b772-4f94-b79a-79add6e701de"
      },
      "source": [
        "# txt.length() と txt.size() は同じか\n",
        "# 2バイト文字(全角文字)を数えない点も含め、同じみたい\n",
        "%%writefile temp.cpp\n",
        "# include <bits/stdc++.h>\n",
        "using namespace std;\n",
        "int main() {\n",
        "  string txt = \"日本語\";\n",
        "  cout << txt << endl;\n",
        "  cout << \"The length of the txt string is: \" << txt.length() << endl;\n",
        "  cout << \"The size of the txt string is: \" << txt.size() << endl;\n",
        "}"
      ],
      "execution_count": null,
      "outputs": [
        {
          "output_type": "stream",
          "name": "stdout",
          "text": [
            "Overwriting temp.cpp\n"
          ]
        }
      ]
    },
    {
      "cell_type": "code",
      "metadata": {
        "id": "tFZQBolJDn6V",
        "colab": {
          "base_uri": "https://localhost:8080/"
        },
        "outputId": "2f99694b-9c70-4a84-ed54-d02e80c83165"
      },
      "source": [
        "!g++ temp.cpp; ./a.out"
      ],
      "execution_count": null,
      "outputs": [
        {
          "output_type": "stream",
          "name": "stdout",
          "text": [
            "日本語\n",
            "The length of the txt string is: 9\n",
            "The size of the txt string is: 9\n"
          ]
        }
      ]
    },
    {
      "cell_type": "code",
      "source": [
        "# 関数で vector を返り値にする\n",
        "# str2vec で文字列を vector にする\n",
        "# 文字列は utf-8 が前提\n",
        "%%writefile temp.cpp\n",
        "# include <bits/stdc++.h>\n",
        "using namespace std;\n",
        "\n",
        "int count_byte(char c){\n",
        "    if ((c & 0x80) == 0) return 1;\n",
        "    else if ((c & 0xe0) == 0xc0) return 2;\n",
        "    else if ((c & 0xf0) == 0xe0) return 3;\n",
        "    else return 4;\n",
        "}\n",
        "\n",
        "vector<string> str2vec(string &str){\n",
        "    vector<string> vec;\n",
        "    for (int i = 0 ; i < str.size(); i += count_byte(str.at(i))){\n",
        "        vec.push_back(str.substr(i,count_byte(str.at(i))));\n",
        "    }    \n",
        "    return vec;\n",
        "}\n",
        "\n",
        "int main() {\n",
        "    string str;\n",
        "    getline(cin, str);\n",
        "    vector<string> vec;\n",
        "    vec = str2vec(str);\n",
        "    for (auto& item : vec) {\n",
        "        cout << item;\n",
        "    };\n",
        "    cout << endl;\n",
        "    cout << \"文字列の長さは \" << vec.size() << \" です。\" << endl;\n",
        "}"
      ],
      "metadata": {
        "id": "LNYM-g0NkM9w",
        "outputId": "3f0ce098-0847-4587-8774-1e97b4381b43",
        "colab": {
          "base_uri": "https://localhost:8080/"
        }
      },
      "execution_count": null,
      "outputs": [
        {
          "output_type": "stream",
          "name": "stdout",
          "text": [
            "Writing temp.cpp\n"
          ]
        }
      ]
    },
    {
      "cell_type": "code",
      "source": [
        "!g++ temp.cpp; echo \"日本語\" |./a.out"
      ],
      "metadata": {
        "id": "BnmfvB0QkOFx",
        "outputId": "5787291e-e3e7-4c7e-f82f-dc8a8257c307",
        "colab": {
          "base_uri": "https://localhost:8080/"
        }
      },
      "execution_count": null,
      "outputs": [
        {
          "output_type": "stream",
          "name": "stdout",
          "text": [
            "日本語\n",
            "文字列の長さは 3 です。\n"
          ]
        }
      ]
    },
    {
      "cell_type": "code",
      "metadata": {
        "id": "N3yk1iHVaYc0",
        "colab": {
          "base_uri": "https://localhost:8080/"
        },
        "outputId": "b549cf04-1d8f-4267-d553-519d8e4693d9"
      },
      "source": [
        "%%writefile temp.cpp\n",
        "# include <bits/stdc++.h>\n",
        "#include <string>\n",
        "using namespace std;\n",
        "int main() {\n",
        "  string myString = \"Hello\";\n",
        "  myString[0] = 'J';\n",
        "  cout << myString << endl;\n",
        "}\n"
      ],
      "execution_count": null,
      "outputs": [
        {
          "output_type": "stream",
          "name": "stdout",
          "text": [
            "Overwriting temp.cpp\n"
          ]
        }
      ]
    },
    {
      "cell_type": "code",
      "metadata": {
        "id": "iOu-_DX2akcc",
        "colab": {
          "base_uri": "https://localhost:8080/"
        },
        "outputId": "bc208ad9-f7eb-4271-9664-97d99240bca4"
      },
      "source": [
        "!g++ temp.cpp; ./a.out"
      ],
      "execution_count": null,
      "outputs": [
        {
          "output_type": "stream",
          "name": "stdout",
          "text": [
            "Jello\n"
          ]
        }
      ]
    },
    {
      "cell_type": "code",
      "metadata": {
        "id": "7Bk6CAf-bGft",
        "colab": {
          "base_uri": "https://localhost:8080/"
        },
        "outputId": "f66152fd-27a7-43e0-e9eb-54a92863aa1c"
      },
      "source": [
        "# 行を取り込む\n",
        "# 説明 $\\quad$ `cin >> fullName;` とすると、スペースで区切られたインプットの\n",
        "# スペース前が代入されて行全体が代入されないので、`getline (cin, fullName);` とする。\n",
        "%%writefile temp.cpp\n",
        "# include <bits/stdc++.h>\n",
        "using namespace std;\n",
        "int main() {\n",
        "  string fullName;\n",
        "  // cout << \"Type your full name: \";\n",
        "  getline (cin, fullName);\n",
        "  cout << \"Your name is: \" << fullName;\n",
        "}\n"
      ],
      "execution_count": null,
      "outputs": [
        {
          "output_type": "stream",
          "name": "stdout",
          "text": [
            "Overwriting temp.cpp\n"
          ]
        }
      ]
    },
    {
      "cell_type": "code",
      "metadata": {
        "id": "ncf-dL8fljoH",
        "colab": {
          "base_uri": "https://localhost:8080/"
        },
        "outputId": "0f5654e6-e1d6-476a-dff4-356ca406f424"
      },
      "source": [
        "!g++ temp.cpp; echo Abraham Lincoln | ./a.out"
      ],
      "execution_count": null,
      "outputs": [
        {
          "output_type": "stream",
          "name": "stdout",
          "text": [
            "Your name is: Abraham Lincoln"
          ]
        }
      ]
    },
    {
      "cell_type": "markdown",
      "metadata": {
        "id": "nGgjeu8CJ3zu"
      },
      "source": [
        "ネームスペースのの省略\n",
        "\n",
        "```\n",
        "using namespace std;\n",
        "```\n",
        "\n",
        "を省略したときの書き方。 `::` をつける。\n"
      ]
    },
    {
      "cell_type": "code",
      "metadata": {
        "id": "sq9Q97KdKH-M",
        "colab": {
          "base_uri": "https://localhost:8080/"
        },
        "outputId": "caf1dc7f-fc1e-4a80-e0fb-9212ac30e7e1"
      },
      "source": [
        "%%writefile temp.cpp\n",
        "# include <bits/stdc++.h>\n",
        "int main() {\n",
        "  string greeting = \"Hello\";\n",
        "  cout << greeting;\n",
        "}\n"
      ],
      "execution_count": null,
      "outputs": [
        {
          "output_type": "stream",
          "name": "stdout",
          "text": [
            "Overwriting temp.cpp\n"
          ]
        }
      ]
    },
    {
      "cell_type": "code",
      "metadata": {
        "id": "zHB4UpcbKTGP",
        "colab": {
          "base_uri": "https://localhost:8080/"
        },
        "outputId": "905d5383-f0be-4d6a-fe36-344fe06f6c70"
      },
      "source": [
        "!g++ temp.cpp; ./a.out"
      ],
      "execution_count": null,
      "outputs": [
        {
          "output_type": "stream",
          "name": "stdout",
          "text": [
            "Hello"
          ]
        }
      ]
    },
    {
      "cell_type": "code",
      "metadata": {
        "id": "DqYJWTLfTHA0",
        "colab": {
          "base_uri": "https://localhost:8080/"
        },
        "outputId": "8de73975-945d-4d86-a294-c9766fdaebfd"
      },
      "source": [
        "# Math\n",
        "%%writefile temp.cpp\n",
        "# include <bits/stdc++.h>\n",
        "using namespace std;\n",
        "int main() {\n",
        "  cout << max(5, 10);\n",
        "}"
      ],
      "execution_count": null,
      "outputs": [
        {
          "output_type": "stream",
          "name": "stdout",
          "text": [
            "Overwriting temp.cpp\n"
          ]
        }
      ]
    },
    {
      "cell_type": "code",
      "metadata": {
        "id": "m-Q7U_LkTPSy",
        "colab": {
          "base_uri": "https://localhost:8080/"
        },
        "outputId": "fda0bec3-485e-4b43-8438-8f8dfe565668"
      },
      "source": [
        "!g++ temp.cpp; ./a.out"
      ],
      "execution_count": null,
      "outputs": [
        {
          "output_type": "stream",
          "name": "stdout",
          "text": [
            "10"
          ]
        }
      ]
    },
    {
      "cell_type": "code",
      "metadata": {
        "id": "qUNsklXVUExb",
        "outputId": "f0b45d80-4748-448e-f8d1-c69430467dc1",
        "colab": {
          "base_uri": "https://localhost:8080/"
        }
      },
      "source": [
        "%%writefile temp.cpp\n",
        "# include <bits/stdc++.h>\n",
        "// #include <cmath>\n",
        "using namespace std;\n",
        "\n",
        "int main() {\n",
        "  cout << sqrt(64) << endl; // 8\n",
        "  cout << round(2.6) << endl; // 3\n",
        "  cout << log(2) << endl; // 0.693147\n",
        "  cout << log(0) << endl; // -inf\n",
        "  cout << log(1) << endl; // 0\n",
        "  cout << exp(1) << endl; // 2.71828\n",
        "  cout << log(exp(1)) << endl; // 1\n",
        "  cout << setprecision(16) << M_PI << endl;\n",
        "}"
      ],
      "execution_count": null,
      "outputs": [
        {
          "output_type": "stream",
          "name": "stdout",
          "text": [
            "Overwriting temp.cpp\n"
          ]
        }
      ]
    },
    {
      "cell_type": "code",
      "metadata": {
        "id": "2supEKMcUJyx",
        "outputId": "9a1b1c73-c6de-446a-b42c-560189e0e671",
        "colab": {
          "base_uri": "https://localhost:8080/"
        }
      },
      "source": [
        "!g++ temp.cpp; ./a.out"
      ],
      "execution_count": null,
      "outputs": [
        {
          "output_type": "stream",
          "name": "stdout",
          "text": [
            "8\n",
            "3\n",
            "0.693147\n",
            "-inf\n",
            "0\n",
            "2.71828\n",
            "1\n",
            "3.141592653589793\n"
          ]
        }
      ]
    },
    {
      "cell_type": "code",
      "metadata": {
        "id": "5efZAImnB0ZC",
        "outputId": "18fba894-f369-4e3e-919c-4104edf7050c",
        "colab": {
          "base_uri": "https://localhost:8080/"
        }
      },
      "source": [
        "# cmath ライブラリーのほかの関数\n",
        "%%writefile temp.cpp\n",
        "# include <bits/stdc++.h>\n",
        "using namespace std;\n",
        "\n",
        "int main() {\n",
        "  cout << sin(3.14/2) << endl; // 1\n",
        "  cout << setprecision(16) << sin(3.14/2) << endl; // 0.9999996829318346\n",
        "  cout << setprecision(16) << sin(M_PI/2) << endl; // 1\n",
        "  cout << cbrt(64) << endl; // 4\n",
        "  cout << abs(-2.3) << endl; // 2,3\n",
        "  cout << ceil(-2.3) << endl; // -2\n",
        "  cout << floor(-2.3) << endl; // -3\n",
        "  cout << exp(1) << endl; // 2.718281828459045\n",
        "  cout << fdim(3.5, -3.5) << endl; // 7 最大値と最小値の差\n",
        "  cout << max(3,4) << endl; // 4 最大値\n",
        "  cout << hypot(3, 4) << endl; // 平方和の平方根 斜辺\n",
        "  cout << fmod(5.0, 2.1) << endl; // 0.7999999999999998\n",
        "  cout << pow(16, 0.5) << endl; // 16^0.5\n",
        "}"
      ],
      "execution_count": null,
      "outputs": [
        {
          "output_type": "stream",
          "name": "stdout",
          "text": [
            "Overwriting temp.cpp\n"
          ]
        }
      ]
    },
    {
      "cell_type": "code",
      "metadata": {
        "id": "zi6mNxxCB0ZF",
        "outputId": "f41a013d-7d80-4d36-f17d-73a40212c994",
        "colab": {
          "base_uri": "https://localhost:8080/"
        }
      },
      "source": [
        "!g++ temp.cpp; ./a.out"
      ],
      "execution_count": null,
      "outputs": [
        {
          "output_type": "stream",
          "name": "stdout",
          "text": [
            "1\n",
            "0.9999996829318346\n",
            "1\n",
            "4\n",
            "2.3\n",
            "-2\n",
            "-3\n",
            "2.718281828459045\n",
            "7\n",
            "4\n",
            "5\n",
            "10.1\n",
            "0.7999999999999998\n",
            "4\n"
          ]
        }
      ]
    },
    {
      "cell_type": "code",
      "source": [
        "# メモ\n",
        "# 数学定数について\n",
        "# 円周率 pi などは M_PI とか\n",
        "# これは C 標準数学ライブラリの定義済みマクロ式\n",
        "# C++20 以降では numbers::pi とかになるらしい\n",
        "# 今の colab の g++ --version は 7.5\n",
        "# 7.5 は C++17 まで対応で、標準では C++14 でコンパイルする\n",
        "# include <numbers> は使えない。無理して使う必要はない。\n",
        "# bits/stdc++.h はすべての標準ライブラリを一度にインクルードできるヘッダファイル\n",
        "# すべてなので C++14, C++17, C++20 に依存する"
      ],
      "metadata": {
        "id": "o0_oABdDTK6J"
      },
      "execution_count": null,
      "outputs": []
    },
    {
      "cell_type": "code",
      "metadata": {
        "id": "oYYWPgYh74ob",
        "outputId": "73155d26-77a1-47a1-f38f-9298dbdae80e",
        "colab": {
          "base_uri": "https://localhost:8080/"
        }
      },
      "source": [
        "# bool型\n",
        "%%writefile temp.cpp\n",
        "# include <bits/stdc++.h>\n",
        "using namespace std;\n",
        "\n",
        "int main() {\n",
        "  bool isCodingFun = true;\n",
        "  bool isFishTasty = false;\n",
        "  cout << isCodingFun << endl;\n",
        "  cout << isFishTasty;\n",
        "}"
      ],
      "execution_count": null,
      "outputs": [
        {
          "output_type": "stream",
          "name": "stdout",
          "text": [
            "Overwriting temp.cpp\n"
          ]
        }
      ]
    },
    {
      "cell_type": "code",
      "metadata": {
        "id": "RhUYA2c-7_hz",
        "outputId": "5afcb6e2-1d88-4c8b-b839-f0a540f7f6b6",
        "colab": {
          "base_uri": "https://localhost:8080/"
        }
      },
      "source": [
        "!g++ temp.cpp; ./a.out"
      ],
      "execution_count": null,
      "outputs": [
        {
          "output_type": "stream",
          "name": "stdout",
          "text": [
            "1\n",
            "0"
          ]
        }
      ]
    },
    {
      "cell_type": "code",
      "metadata": {
        "id": "DW3WU3amjC16",
        "outputId": "c9237f7b-13ba-44d8-d592-8eebde81c6eb",
        "colab": {
          "base_uri": "https://localhost:8080/"
        }
      },
      "source": [
        "# if と比較演算子 括弧が必要\n",
        "%%writefile temp.cpp\n",
        "# include <bits/stdc++.h>\n",
        "using namespace std;\n",
        "\n",
        "int main() {\n",
        "  int x = 20;\n",
        "  int y = 18;\n",
        "  if (x > y) {\n",
        "    cout << \"x is greater than y\";\n",
        "  }  \n",
        "}"
      ],
      "execution_count": null,
      "outputs": [
        {
          "output_type": "stream",
          "name": "stdout",
          "text": [
            "Overwriting temp.cpp\n"
          ]
        }
      ]
    },
    {
      "cell_type": "code",
      "metadata": {
        "id": "U-TeRyy3jElS",
        "outputId": "85b17eb4-de2e-4a79-af04-a2d2d3d9eecc",
        "colab": {
          "base_uri": "https://localhost:8080/"
        }
      },
      "source": [
        "!g++ temp.cpp; ./a.out"
      ],
      "execution_count": null,
      "outputs": [
        {
          "output_type": "stream",
          "name": "stdout",
          "text": [
            "x is greater than y"
          ]
        }
      ]
    },
    {
      "cell_type": "code",
      "metadata": {
        "id": "bl06solSjfo0",
        "outputId": "11e130d2-1aae-4ef9-b7c9-df50d163d7d9",
        "colab": {
          "base_uri": "https://localhost:8080/"
        }
      },
      "source": [
        "# if else の中身は波括弧で括るが中身が1つの時は省略できる\n",
        "%%writefile temp.cpp\n",
        "# include <bits/stdc++.h>\n",
        "using namespace std;\n",
        "\n",
        "int main() {\n",
        "  int time;\n",
        "  cin >> time;\n",
        "  if (time < 18) cout << \"Good day.\";\n",
        "  else cout << \"Good evening.\";\n",
        "}"
      ],
      "execution_count": null,
      "outputs": [
        {
          "output_type": "stream",
          "name": "stdout",
          "text": [
            "Overwriting temp.cpp\n"
          ]
        }
      ]
    },
    {
      "cell_type": "code",
      "metadata": {
        "id": "lD_yDgDTjiKH",
        "outputId": "c453f40c-8b76-487e-91db-1902065a5e16",
        "colab": {
          "base_uri": "https://localhost:8080/"
        }
      },
      "source": [
        "!g++ temp.cpp; echo 20 |./a.out"
      ],
      "execution_count": null,
      "outputs": [
        {
          "output_type": "stream",
          "name": "stdout",
          "text": [
            "Good evening."
          ]
        }
      ]
    },
    {
      "cell_type": "code",
      "metadata": {
        "id": "1qUuh5JSj4JZ",
        "outputId": "fab7c18b-0a7f-4f78-d1ab-2d65ae68bf0c",
        "colab": {
          "base_uri": "https://localhost:8080/"
        }
      },
      "source": [
        "# else if\n",
        "%%writefile temp.cpp\n",
        "# include <bits/stdc++.h>\n",
        "using namespace std;\n",
        "int main() {\n",
        "  int time;\n",
        "  cin >> time;\n",
        "  if (time < 10) cout << \"Good morning.\";\n",
        "  else if (time < 20) cout << \"Good day.\";\n",
        "  else cout << \"Good evening.\";\n",
        "}"
      ],
      "execution_count": null,
      "outputs": [
        {
          "output_type": "stream",
          "name": "stdout",
          "text": [
            "Writing temp.cpp\n"
          ]
        }
      ]
    },
    {
      "cell_type": "code",
      "metadata": {
        "id": "WeNIRfvfj6km",
        "outputId": "ef4729ad-fab6-4610-9af1-9361b52aba0c",
        "colab": {
          "base_uri": "https://localhost:8080/"
        }
      },
      "source": [
        "!g++ temp.cpp; echo 18 |./a.out"
      ],
      "execution_count": null,
      "outputs": [
        {
          "output_type": "stream",
          "name": "stdout",
          "text": [
            "Good day."
          ]
        }
      ]
    },
    {
      "cell_type": "code",
      "metadata": {
        "id": "16UgntYYkPkF",
        "outputId": "6f690839-096b-4fdb-ef50-356c3add2ed8",
        "colab": {
          "base_uri": "https://localhost:8080/"
        }
      },
      "source": [
        "# 三項演算子 ?: ternery operator\n",
        "%%writefile temp.cpp\n",
        "# include <bits/stdc++.h>\n",
        "using namespace std;\n",
        "\n",
        "int main() {\n",
        "  int time = 20;\n",
        "  string result = (time < 18) ? \"Good day.\" : \"Good evening.\";\n",
        "  cout << result << endl;\n",
        "  cout <<  ((time < 18) ? \"Good day.\" : \"Good evening.\");\n",
        "}\n"
      ],
      "execution_count": null,
      "outputs": [
        {
          "output_type": "stream",
          "name": "stdout",
          "text": [
            "Overwriting temp.cpp\n"
          ]
        }
      ]
    },
    {
      "cell_type": "code",
      "metadata": {
        "id": "lhEkWQxbkW39",
        "outputId": "c8945d45-58f1-4a07-f096-060a95bf3275",
        "colab": {
          "base_uri": "https://localhost:8080/"
        }
      },
      "source": [
        "!g++ temp.cpp; ./a.out"
      ],
      "execution_count": null,
      "outputs": [
        {
          "output_type": "stream",
          "name": "stdout",
          "text": [
            "Good evening.\n",
            "Good evening."
          ]
        }
      ]
    },
    {
      "cell_type": "code",
      "metadata": {
        "id": "XcesfRGD7Zei"
      },
      "source": [
        "# switch 構文\n",
        "%%writefile temp.cpp\n",
        "\n",
        "# include <bits/stdc++.h>\n",
        "using namespace std;\n",
        "\n",
        "int main() {\n",
        "  int day = 4;\n",
        "  switch (day) {\n",
        "  case 1:\n",
        "    cout << \"Monday\";\n",
        "    break;\n",
        "  case 2:\n",
        "    cout << \"Tuesday\";\n",
        "    break;\n",
        "  case 3:\n",
        "    cout << \"Wednesday\";\n",
        "    break;\n",
        "  case 4:\n",
        "    cout << \"Thursday\";\n",
        "    break;\n",
        "  case 5:\n",
        "    cout << \"Friday\";\n",
        "    break;\n",
        "  case 6:\n",
        "    cout << \"Saturday\";\n",
        "   break;\n",
        "  case 7:\n",
        "    cout << \"Sunday\";\n",
        "    break;\n",
        "  }\n",
        "}"
      ],
      "execution_count": null,
      "outputs": []
    },
    {
      "cell_type": "code",
      "metadata": {
        "id": "q729GEbV7e4R"
      },
      "source": [
        "!g++ temp.cpp; ./a.out"
      ],
      "execution_count": null,
      "outputs": []
    },
    {
      "cell_type": "code",
      "source": [
        "# 上記の switch 構文の例は switch の中で cout を使っているので関数にすべきでしょう\n",
        "# num2week\n",
        "%%writefile temp.cpp\n",
        "# include <bits/stdc++.h>\n",
        "using namespace std;\n",
        "string num2week(int day) {\n",
        "  switch (day) {\n",
        "  case 1: return \"Monday\";\n",
        "  case 2: return \"Tuesday\";\n",
        "  case 3: return \"Wednesday\";\n",
        "  case 4: return \"Thursday\";\n",
        "  case 5: return \"Friday\";\n",
        "  case 6: return \"Saturday\";\n",
        "  default: return \"何?\";\n",
        "  }\n",
        "}\n",
        "\n",
        "int main() {\n",
        "  int day;\n",
        "  cin >> day;\n",
        "  cout << num2week(day) << endl;\n",
        "}"
      ],
      "metadata": {
        "id": "kfPfajHEt45j",
        "outputId": "661bd056-8ad6-49b5-97aa-d38429389dc6",
        "colab": {
          "base_uri": "https://localhost:8080/"
        }
      },
      "execution_count": null,
      "outputs": [
        {
          "output_type": "stream",
          "name": "stdout",
          "text": [
            "Overwriting temp.cpp\n"
          ]
        }
      ]
    },
    {
      "cell_type": "code",
      "source": [
        "!g++ temp.cpp; echo 4 |./a.out\n",
        "!g++ temp.cpp; echo 5 |./a.out\n",
        "!g++ temp.cpp; echo 8 |./a.out #=> default が返る\n",
        "!g++ temp.cpp; echo えっと |./a.out #=> int でないものが入力されても default が返る"
      ],
      "metadata": {
        "id": "REo34TtSfqCd",
        "outputId": "22151b27-1dfc-46ef-a7a3-0850e8d604b2",
        "colab": {
          "base_uri": "https://localhost:8080/"
        }
      },
      "execution_count": null,
      "outputs": [
        {
          "output_type": "stream",
          "name": "stdout",
          "text": [
            "Thursday\n",
            "Friday\n",
            "何?\n",
            "何?\n"
          ]
        }
      ]
    },
    {
      "cell_type": "code",
      "metadata": {
        "id": "ihhwaJtn4JMD",
        "outputId": "bf670b8e-48d1-4785-e6f8-ce86e7c5b9bc",
        "colab": {
          "base_uri": "https://localhost:8080/"
        }
      },
      "source": [
        "# while 構文\n",
        "%%writefile temp.cpp\n",
        "# include <bits/stdc++.h>\n",
        "using namespace std;\n",
        "\n",
        "int main() {\n",
        "  int i = 0;\n",
        "  while (i < 5) {\n",
        "    cout << i << endl;\n",
        "    i++;\n",
        "  }\n",
        "  return 0;\n",
        "}"
      ],
      "execution_count": null,
      "outputs": [
        {
          "output_type": "stream",
          "name": "stdout",
          "text": [
            "Overwriting temp.cpp\n"
          ]
        }
      ]
    },
    {
      "cell_type": "code",
      "metadata": {
        "id": "zcOgtPoW4Jpz",
        "outputId": "05339808-bfed-40b1-acab-d6505089a21b",
        "colab": {
          "base_uri": "https://localhost:8080/"
        }
      },
      "source": [
        "!g++ temp.cpp; ./a.out"
      ],
      "execution_count": null,
      "outputs": [
        {
          "output_type": "stream",
          "name": "stdout",
          "text": [
            "0\n",
            "1\n",
            "2\n",
            "3\n",
            "4\n"
          ]
        }
      ]
    },
    {
      "cell_type": "code",
      "metadata": {
        "id": "kDVoKXM74eEN",
        "outputId": "ba31243e-eaf6-4840-b9ba-b9a4372316ef",
        "colab": {
          "base_uri": "https://localhost:8080/"
        }
      },
      "source": [
        "# do while 構文\n",
        "%%writefile temp.cpp\n",
        "# include <bits/stdc++.h>\n",
        "using namespace std;\n",
        "\n",
        "int main() {\n",
        "  int i = 0;\n",
        "  do {\n",
        "    cout << i << endl;\n",
        "    i++;\n",
        "  }\n",
        "  while (i < 5);\n",
        "  return 0;\n",
        "}\n"
      ],
      "execution_count": null,
      "outputs": [
        {
          "output_type": "stream",
          "name": "stdout",
          "text": [
            "Overwriting temp.cpp\n"
          ]
        }
      ]
    },
    {
      "cell_type": "code",
      "metadata": {
        "id": "T5EZk3rj4dp_",
        "outputId": "30bb5492-aa02-426f-9fa7-fefd6a95ff58",
        "colab": {
          "base_uri": "https://localhost:8080/"
        }
      },
      "source": [
        "!g++ temp.cpp; ./a.out"
      ],
      "execution_count": null,
      "outputs": [
        {
          "output_type": "stream",
          "name": "stdout",
          "text": [
            "0\n",
            "1\n",
            "2\n",
            "3\n",
            "4\n"
          ]
        }
      ]
    },
    {
      "cell_type": "code",
      "metadata": {
        "id": "mekcQLVJ5C21"
      },
      "source": [
        "# for 構文\n",
        "%%writefile temp.cpp\n",
        "# include <bits/stdc++.h>\n",
        "using namespace std;\n",
        "\n",
        "int main() {\n",
        "  for (int i = 0; i < 5; i++) {\n",
        "    cout << i << endl;\n",
        "  }\n",
        "  return 0;\n",
        "}\n"
      ],
      "execution_count": null,
      "outputs": []
    },
    {
      "cell_type": "code",
      "metadata": {
        "id": "vVMSUoTD5DWS"
      },
      "source": [
        "!g++ temp.cpp; ./a.out"
      ],
      "execution_count": null,
      "outputs": []
    },
    {
      "cell_type": "code",
      "metadata": {
        "id": "6B9Qb9kU5d75",
        "outputId": "dc45b981-676c-49f3-f76c-83ab5040571c",
        "colab": {
          "base_uri": "https://localhost:8080/"
        }
      },
      "source": [
        "# for 構文で i を 2 ずつ増やす\n",
        "%%writefile temp.cpp\n",
        "# include <bits/stdc++.h>\n",
        "using namespace std;\n",
        "\n",
        "int main() {\n",
        "  for (int i = 0; i <= 10; i = i + 2) {\n",
        "    cout << i << endl;\n",
        "  }\n",
        "  return 0;\n",
        "}"
      ],
      "execution_count": null,
      "outputs": [
        {
          "output_type": "stream",
          "name": "stdout",
          "text": [
            "Overwriting temp.cpp\n"
          ]
        }
      ]
    },
    {
      "cell_type": "code",
      "metadata": {
        "id": "Xi5yv6sO5jx2",
        "outputId": "b0d3d899-bf6c-4357-b555-6046cf43c3c0",
        "colab": {
          "base_uri": "https://localhost:8080/"
        }
      },
      "source": [
        "!g++ temp.cpp; ./a.out"
      ],
      "execution_count": null,
      "outputs": [
        {
          "output_type": "stream",
          "name": "stdout",
          "text": [
            "0\n",
            "2\n",
            "4\n",
            "6\n",
            "8\n",
            "10\n"
          ]
        }
      ]
    },
    {
      "cell_type": "code",
      "metadata": {
        "id": "tRiVBXFL2rnC",
        "outputId": "76d598ee-074e-4f88-c6e6-d2741bdb2af8",
        "colab": {
          "base_uri": "https://localhost:8080/"
        }
      },
      "source": [
        "# continue\n",
        "%%writefile temp.cpp\n",
        "# include <bits/stdc++.h>\n",
        "using namespace std;\n",
        "\n",
        "int main() {\n",
        "  for (int i = 0; i < 10; i++) {\n",
        "    if (i == 4) {\n",
        "      continue;\n",
        "    }\n",
        "    cout << i << endl;\n",
        "  }   \n",
        "  return 0;\n",
        "}\n"
      ],
      "execution_count": null,
      "outputs": [
        {
          "output_type": "stream",
          "name": "stdout",
          "text": [
            "Overwriting temp.cpp\n"
          ]
        }
      ]
    },
    {
      "cell_type": "code",
      "metadata": {
        "id": "holEDCC520Dk",
        "outputId": "d6ee0827-42d1-4c22-ac81-f3fc301488af",
        "colab": {
          "base_uri": "https://localhost:8080/"
        }
      },
      "source": [
        "!g++ temp.cpp; ./a.out"
      ],
      "execution_count": null,
      "outputs": [
        {
          "output_type": "stream",
          "name": "stdout",
          "text": [
            "0\n",
            "1\n",
            "2\n",
            "3\n",
            "5\n",
            "6\n",
            "7\n",
            "8\n",
            "9\n"
          ]
        }
      ]
    },
    {
      "cell_type": "code",
      "metadata": {
        "id": "qf_0WEWnl4yx",
        "outputId": "1bb8ab57-b9ce-4d00-c7c1-6edb9fa9bc24",
        "colab": {
          "base_uri": "https://localhost:8080/"
        }
      },
      "source": [
        "# 配列\n",
        "# 次のは C の配列で、今はあまり使われないのではないか\n",
        "# array もある。list もある。が、基本的に vector に書き換えよう\n",
        "%%writefile temp.cpp\n",
        "# include <bits/stdc++.h>\n",
        "using namespace std;\n",
        "int main() {\n",
        "  // string cars[4] = {\"Volvo\", \"BMW\", \"Ford\", \"Mazda\"};\n",
        "  // cout << cars[0];\n",
        "  vector<string> cars = {\"Volvo\", \"BMW\", \"Ford\", \"Mazda\"};\n",
        "  cout << cars.at(0) << endl;\n",
        "}"
      ],
      "execution_count": null,
      "outputs": [
        {
          "output_type": "stream",
          "name": "stdout",
          "text": [
            "Overwriting temp.cpp\n"
          ]
        }
      ]
    },
    {
      "cell_type": "code",
      "metadata": {
        "id": "e3onRGAemAhi",
        "outputId": "2468a73b-60c6-4e40-a691-033422ef744f",
        "colab": {
          "base_uri": "https://localhost:8080/"
        }
      },
      "source": [
        "!g++ temp.cpp; ./a.out"
      ],
      "execution_count": null,
      "outputs": [
        {
          "output_type": "stream",
          "name": "stdout",
          "text": [
            "Volvo\n"
          ]
        }
      ]
    },
    {
      "cell_type": "code",
      "metadata": {
        "id": "JickdBaumMKJ",
        "outputId": "8a6053c5-f6d2-4a40-a3f5-fe2a31500445",
        "colab": {
          "base_uri": "https://localhost:8080/"
        }
      },
      "source": [
        "# C の配列は項の書き換えが出来る\n",
        "%%writefile temp.cpp\n",
        "# include <bits/stdc++.h>\n",
        "using namespace std;\n",
        "\n",
        "int main() {\n",
        "    /* string cars[4] = {\"Volvo\", \"BMW\", \"Ford\", \"Mazda\"};\n",
        "    cars[0] = \"Opel\";\n",
        "    cout << cars[0]; */\n",
        "    vector<string> cars = {\"Volvo\", \"BMW\", \"Ford\", \"Mazda\"};\n",
        "    cars.at(0) = \"Opel\";\n",
        "    cout << cars.at(0) << endl;\n",
        "}\n"
      ],
      "execution_count": null,
      "outputs": [
        {
          "output_type": "stream",
          "name": "stdout",
          "text": [
            "Overwriting temp.cpp\n"
          ]
        }
      ]
    },
    {
      "cell_type": "code",
      "metadata": {
        "id": "xME08Ssamati",
        "outputId": "6ae58369-38f6-4bb5-9d20-dcc165d11d0a",
        "colab": {
          "base_uri": "https://localhost:8080/"
        }
      },
      "source": [
        "!g++ temp.cpp; ./a.out"
      ],
      "execution_count": null,
      "outputs": [
        {
          "output_type": "stream",
          "name": "stdout",
          "text": [
            "Opel\n"
          ]
        }
      ]
    },
    {
      "cell_type": "code",
      "metadata": {
        "id": "-8spDgtFmnW7",
        "outputId": "f55d8257-8c55-45d8-9179-09877c11ab23",
        "colab": {
          "base_uri": "https://localhost:8080/"
        }
      },
      "source": [
        "%%writefile temp.cpp\n",
        "# include <bits/stdc++.h>\n",
        "using namespace std;\n",
        "int main(){\n",
        "    vector<string> cars = {\"Volvo\", \"BMW\", \"Ford\", \"Mazda\"};\n",
        "    for(int i = 0; i < 4; i++) {\n",
        "        cout << cars.at(i) << endl;\n",
        "    }\n",
        "}"
      ],
      "execution_count": null,
      "outputs": [
        {
          "output_type": "stream",
          "name": "stdout",
          "text": [
            "Overwriting temp.cpp\n"
          ]
        }
      ]
    },
    {
      "cell_type": "code",
      "metadata": {
        "id": "jy8wA-48mq-n",
        "outputId": "e58bb73e-03fa-4101-9fdc-f49ab2c90b90",
        "colab": {
          "base_uri": "https://localhost:8080/"
        }
      },
      "source": [
        "!g++ temp.cpp; ./a.out"
      ],
      "execution_count": null,
      "outputs": [
        {
          "output_type": "stream",
          "name": "stdout",
          "text": [
            "Volvo\n",
            "BMW\n",
            "Ford\n",
            "Mazda\n"
          ]
        }
      ]
    },
    {
      "cell_type": "code",
      "metadata": {
        "id": "nJ5zPLrsm1z1"
      },
      "source": [
        "%%writefile temp.cpp\n",
        "# include <bits/stdc++.h>\n",
        "using namespace std;\n",
        "int main() {\n",
        "  vector<string> cars = {\"Volvo\", \"BMW\", \"Ford\", \"Mazda\"};\n",
        "  for(int i = 0; i < 4; i++) {\n",
        "    cout << i << \": \" << cars.at(i) << endl;\n",
        "  }\n",
        "}"
      ],
      "execution_count": null,
      "outputs": []
    },
    {
      "cell_type": "code",
      "metadata": {
        "id": "BVbo7l6km5T1",
        "outputId": "4b039752-f826-4b42-c828-5aea0c565ead",
        "colab": {
          "base_uri": "https://localhost:8080/"
        }
      },
      "source": [
        "!g++ temp.cpp; ./a.out"
      ],
      "execution_count": null,
      "outputs": [
        {
          "output_type": "stream",
          "name": "stdout",
          "text": [
            "0: Volvo\n",
            "1: BMW\n",
            "2: Ford\n",
            "3: Mazda\n"
          ]
        }
      ]
    },
    {
      "cell_type": "code",
      "metadata": {
        "id": "Sy8xPThGnpbg",
        "outputId": "4ce5b615-4a3b-42fb-b5a1-221dc745e658",
        "colab": {
          "base_uri": "https://localhost:8080/"
        }
      },
      "source": [
        "# vector に付け足す\n",
        "%%writefile temp.cpp\n",
        "# include <bits/stdc++.h>\n",
        "using namespace std;\n",
        "int main() {\n",
        "  vector<string> cars = {\"Volvo\", \"BMW\", \"Ford\"};\n",
        "  cars.push_back(\"Mazda\");\n",
        "  cars.push_back(\"Tesla\") ;\n",
        "  for(auto item: cars) {\n",
        "    cout << item << endl;\n",
        "  }\n",
        "}"
      ],
      "execution_count": null,
      "outputs": [
        {
          "output_type": "stream",
          "name": "stdout",
          "text": [
            "Overwriting temp.cpp\n"
          ]
        }
      ]
    },
    {
      "cell_type": "code",
      "metadata": {
        "id": "GIVj0MYAnswK",
        "outputId": "40093ab6-9c0e-4008-e783-3027174419f2",
        "colab": {
          "base_uri": "https://localhost:8080/"
        }
      },
      "source": [
        "!g++ temp.cpp; ./a.out"
      ],
      "execution_count": null,
      "outputs": [
        {
          "output_type": "stream",
          "name": "stdout",
          "text": [
            "Volvo\n",
            "BMW\n",
            "Ford\n",
            "Mazda\n",
            "Tesla\n"
          ]
        }
      ]
    },
    {
      "cell_type": "code",
      "metadata": {
        "id": "OSU6Fsxqn5Rs",
        "outputId": "e1dfd1c0-cede-4ad0-e495-9f0113260443",
        "colab": {
          "base_uri": "https://localhost:8080/"
        }
      },
      "source": [
        "%%writefile temp.cpp\n",
        "# include <bits/stdc++.h>\n",
        "using namespace std;\n",
        "int main() {\n",
        "  vector<string> cars;\n",
        "  cars.push_back(\"Volvo\");\n",
        "  cars.push_back(\"BMW\");\n",
        "  cars.push_back(\"Ford\");\n",
        "  cars.push_back(\"Mazda\");\n",
        "  cars.push_back(\"Tesla\");\n",
        "  cars.at(0) = \"Toyota\";\n",
        "  for(int i = 0; i < 5; i++) {\n",
        "    cout << cars.at(i) << endl;\n",
        "  }\n",
        "}\n"
      ],
      "execution_count": null,
      "outputs": [
        {
          "output_type": "stream",
          "name": "stdout",
          "text": [
            "Overwriting temp.cpp\n"
          ]
        }
      ]
    },
    {
      "cell_type": "code",
      "metadata": {
        "id": "T7JATf7Kn9d2",
        "outputId": "36baa618-6092-4c80-b3ea-315def42ae0b",
        "colab": {
          "base_uri": "https://localhost:8080/"
        }
      },
      "source": [
        "!g++ temp.cpp; ./a.out"
      ],
      "execution_count": null,
      "outputs": [
        {
          "output_type": "stream",
          "name": "stdout",
          "text": [
            "Toyota\n",
            "BMW\n",
            "Ford\n",
            "Mazda\n",
            "Tesla\n"
          ]
        }
      ]
    },
    {
      "cell_type": "code",
      "metadata": {
        "id": "-qrghEFlhYhu",
        "outputId": "77e76b6d-ba35-4cca-9cba-da918c08fad4",
        "colab": {
          "base_uri": "https://localhost:8080/"
        }
      },
      "source": [
        "# 参照 &\n",
        "%%writefile temp.cpp\n",
        "# include <bits/stdc++.h>\n",
        "using namespace std;\n",
        "int main() {\n",
        "  string food = \"Pizza\";\n",
        "  string &meal = food;\n",
        "  cout << food << endl;\n",
        "  cout << meal << endl;\n",
        "}\n"
      ],
      "execution_count": null,
      "outputs": [
        {
          "output_type": "stream",
          "name": "stdout",
          "text": [
            "Overwriting temp.cpp\n"
          ]
        }
      ]
    },
    {
      "cell_type": "code",
      "metadata": {
        "id": "KvsgcVGDhmRx",
        "outputId": "81151877-72be-45ab-cc85-79ccd16ba250",
        "colab": {
          "base_uri": "https://localhost:8080/"
        }
      },
      "source": [
        "!g++ temp.cpp; ./a.out"
      ],
      "execution_count": null,
      "outputs": [
        {
          "output_type": "stream",
          "name": "stdout",
          "text": [
            "Pizza\n",
            "Pizza\n"
          ]
        }
      ]
    },
    {
      "cell_type": "code",
      "metadata": {
        "id": "E_KPSSOwigv7",
        "outputId": "b64ac754-0ad3-47a1-f6c2-8105b617362f",
        "colab": {
          "base_uri": "https://localhost:8080/"
        }
      },
      "source": [
        "# 変数のメモリーアドレス\n",
        "%%writefile temp.cpp\n",
        "# include <bits/stdc++.h>\n",
        "#include <string>\n",
        "using namespace std;\n",
        "\n",
        "int main() {\n",
        "  string food = \"Pizza\";\n",
        "  cout << &food << endl; // 変数 food のメモリーアドレス\n",
        "}"
      ],
      "execution_count": null,
      "outputs": [
        {
          "output_type": "stream",
          "name": "stdout",
          "text": [
            "Overwriting temp.cpp\n"
          ]
        }
      ]
    },
    {
      "cell_type": "code",
      "metadata": {
        "id": "2Ifs1iLiimEp",
        "outputId": "77fdca8e-eec7-4de4-ea61-a8ef939692d5",
        "colab": {
          "base_uri": "https://localhost:8080/"
        }
      },
      "source": [
        "!g++ temp.cpp; ./a.out"
      ],
      "execution_count": null,
      "outputs": [
        {
          "output_type": "stream",
          "name": "stdout",
          "text": [
            "0x7ffd5bc96880\n",
            "Pizza\n"
          ]
        }
      ]
    },
    {
      "cell_type": "code",
      "metadata": {
        "id": "1hgN8V-YXrHK",
        "outputId": "e6cab92b-56ae-418c-d36a-da37b122d326",
        "colab": {
          "base_uri": "https://localhost:8080/"
        }
      },
      "source": [
        "# ポインター\n",
        "# ポインター変数 ptr は `*` を付けて宣言する。\n",
        "# ポインター変数 ptr はアドレス `&` が入る。\n",
        "# すると、`*ptr` が書き換わる。え?\n",
        "%%writefile temp.cpp\n",
        "# include <bits/stdc++.h>\n",
        "using namespace std;\n",
        "\n",
        "int main() {\n",
        "  string food = \"Pizza\"; \n",
        "  string* ptr = &food;  // A pointer variable that stores the address of food\n",
        "\n",
        "  cout << food << endl;\n",
        "\n",
        "  // 変数 food のメモリーアドレス\n",
        "  cout << &food << endl;\n",
        "\n",
        "  // Output the memory address of food with the pointer\n",
        "  cout << ptr << endl;\n",
        "}"
      ],
      "execution_count": null,
      "outputs": [
        {
          "output_type": "stream",
          "name": "stdout",
          "text": [
            "Overwriting temp.cpp\n"
          ]
        }
      ]
    },
    {
      "cell_type": "code",
      "metadata": {
        "id": "a8VNvKHCX1jW",
        "outputId": "9ed167f1-13d2-4d41-b992-14e664f62a1a",
        "colab": {
          "base_uri": "https://localhost:8080/"
        }
      },
      "source": [
        "!g++ temp.cpp; ./a.out"
      ],
      "execution_count": null,
      "outputs": [
        {
          "output_type": "stream",
          "name": "stdout",
          "text": [
            "Pizza\n",
            "0x7ffd61821b20\n",
            "0x7ffd61821b20\n"
          ]
        }
      ]
    },
    {
      "cell_type": "code",
      "metadata": {
        "id": "9g5Wa3RqYMTX",
        "outputId": "c8eb6105-e954-4739-faaa-6d77e1403e9e",
        "colab": {
          "base_uri": "https://localhost:8080/"
        }
      },
      "source": [
        "# ポインター宣言 pointer declaration\n",
        "%%writefile temp.cpp\n",
        "# include <bits/stdc++.h>\n",
        "using namespace std;\n",
        "\n",
        "int main() {\n",
        "  string food = \"Pizza\";\n",
        "  string* ptr = &food;    // ポインター宣言\n",
        "\n",
        "  // Reference: Output the memory address of food with the pointer\n",
        "  // ptr にはアドレスが入っている\n",
        "  cout << ptr << endl;\n",
        "\n",
        "  // Dereference: Output the value of food with the pointer\n",
        "  // 参照先を見るには `*` を付ける\n",
        "  cout << *ptr << endl;\n",
        "}\n"
      ],
      "execution_count": null,
      "outputs": [
        {
          "output_type": "stream",
          "name": "stdout",
          "text": [
            "Overwriting temp.cpp\n"
          ]
        }
      ]
    },
    {
      "cell_type": "code",
      "metadata": {
        "id": "qQC7biZtYPIn",
        "outputId": "30179023-64e8-4488-ed08-bf5645a5f1e5",
        "colab": {
          "base_uri": "https://localhost:8080/"
        }
      },
      "source": [
        "!g++ temp.cpp; ./a.out"
      ],
      "execution_count": null,
      "outputs": [
        {
          "output_type": "stream",
          "name": "stdout",
          "text": [
            "0x7fff2812ac20\n",
            "Pizza\n"
          ]
        }
      ]
    },
    {
      "cell_type": "code",
      "metadata": {
        "id": "x7KawXfwYjBp",
        "colab": {
          "base_uri": "https://localhost:8080/"
        },
        "outputId": "79effee6-d400-4f33-a522-d4e1907ed916"
      },
      "source": [
        "# ポインター先の変更\n",
        "%%writefile temp.cpp\n",
        "# include <bits/stdc++.h>\n",
        "using namespace std;\n",
        "\n",
        "int main() {\n",
        "  string food = \"Pizza\";\n",
        "  string* ptr = &food;\n",
        "\n",
        "  cout << food << endl;\n",
        "  cout << &food << endl;\n",
        "  cout << *ptr << endl;\n",
        "  *ptr = \"Hamburger\";\n",
        "  cout << *ptr << endl;\n",
        "  cout << food << endl;\n",
        "}\n"
      ],
      "execution_count": null,
      "outputs": [
        {
          "output_type": "stream",
          "name": "stdout",
          "text": [
            "Overwriting temp.cpp\n"
          ]
        }
      ]
    },
    {
      "cell_type": "code",
      "metadata": {
        "id": "ZC4cYleOS1SI",
        "colab": {
          "base_uri": "https://localhost:8080/"
        },
        "outputId": "c2e01a30-fe02-44d0-e738-d30cd124c9c1"
      },
      "source": [
        "!g++ temp.cpp; ./a.out"
      ],
      "execution_count": null,
      "outputs": [
        {
          "output_type": "stream",
          "name": "stdout",
          "text": [
            "Pizza\n",
            "0x7ffc381977f0\n",
            "Pizza\n",
            "Hamburger\n",
            "Hamburger\n"
          ]
        }
      ]
    },
    {
      "cell_type": "code",
      "metadata": {
        "id": "gOdj0Sc7GmsP",
        "colab": {
          "base_uri": "https://localhost:8080/"
        },
        "outputId": "60f7669d-7cc9-4e51-da88-6b6ea30712d1"
      },
      "source": [
        "# 実験\n",
        "%%writefile temp.cpp\n",
        "# include <bits/stdc++.h>\n",
        "#include <string>\n",
        "using namespace std;\n",
        "\n",
        "int main() {\n",
        "    auto thisfood = \"Pizza\";\n",
        "    auto * ptr = &thisfood;\n",
        "    *ptr = \"Cheese\";\n",
        "    cout << *ptr << endl;\n",
        "    cout << thisfood << endl;\n",
        "}"
      ],
      "execution_count": null,
      "outputs": [
        {
          "output_type": "stream",
          "name": "stdout",
          "text": [
            "Overwriting temp.cpp\n"
          ]
        }
      ]
    },
    {
      "cell_type": "code",
      "metadata": {
        "id": "vml0BoRVG3sP",
        "colab": {
          "base_uri": "https://localhost:8080/"
        },
        "outputId": "6aa61913-9f4f-4ad6-8267-19cbd0fe5fd5"
      },
      "source": [
        "!g++ temp.cpp; ./a.out"
      ],
      "execution_count": null,
      "outputs": [
        {
          "output_type": "stream",
          "name": "stdout",
          "text": [
            "Cheese\n",
            "Cheese\n"
          ]
        }
      ]
    },
    {
      "cell_type": "code",
      "metadata": {
        "id": "rjylv-JQTffr",
        "colab": {
          "base_uri": "https://localhost:8080/"
        },
        "outputId": "ac965b6e-e274-43c5-9a14-c4442cf94451"
      },
      "source": [
        "# 関数 function\n",
        "# 関数の宣言\n",
        "# テキストはこのように void 関数を例に出し、その中で cout を使うが\n",
        "# 関数型の観点からは気持ち悪い\n",
        "%%writefile temp.cpp\n",
        "# include <bits/stdc++.h>\n",
        "using namespace std;\n",
        "\n",
        "void myFunction() {\n",
        "  cout << \"I just got executed!\";\n",
        "}\n",
        "\n",
        "int main() {\n",
        "  myFunction();\n",
        "}\n"
      ],
      "execution_count": null,
      "outputs": [
        {
          "output_type": "stream",
          "name": "stdout",
          "text": [
            "Overwriting temp.cpp\n"
          ]
        }
      ]
    },
    {
      "cell_type": "code",
      "metadata": {
        "id": "qo1x456fTrAr",
        "colab": {
          "base_uri": "https://localhost:8080/"
        },
        "outputId": "64e9fcef-bbda-474f-a950-51b70f018642"
      },
      "source": [
        "!g++ temp.cpp; ./a.out"
      ],
      "execution_count": null,
      "outputs": [
        {
          "output_type": "stream",
          "name": "stdout",
          "text": [
            "I just got executed!"
          ]
        }
      ]
    },
    {
      "cell_type": "code",
      "source": [
        "# 関数の宣言 -- 返り値のあるもの\n",
        "%%writefile temp.cpp\n",
        "# include <bits/stdc++.h>\n",
        "using namespace std;\n",
        "\n",
        "int sum (int a, int b){\n",
        "    return a+b;\n",
        "}\n",
        "\n",
        "int main() {\n",
        "  int A, B;\n",
        "  cin >> A >> B;\n",
        "  cout << sum(A, B) << endl;\n",
        "}"
      ],
      "metadata": {
        "colab": {
          "base_uri": "https://localhost:8080/"
        },
        "id": "v9uP_tL-uWIq",
        "outputId": "cc2c856d-b365-41d0-a2ba-5e6ba635d834"
      },
      "execution_count": null,
      "outputs": [
        {
          "output_type": "stream",
          "name": "stdout",
          "text": [
            "Overwriting temp.cpp\n"
          ]
        }
      ]
    },
    {
      "cell_type": "code",
      "source": [
        "!g++ temp.cpp; echo 3 4 |./a.out"
      ],
      "metadata": {
        "colab": {
          "base_uri": "https://localhost:8080/"
        },
        "id": "RAkvW89ruV1p",
        "outputId": "ccdbd6c6-ffa3-4723-93d6-59f1d9d0a1e8"
      },
      "execution_count": null,
      "outputs": [
        {
          "output_type": "stream",
          "name": "stdout",
          "text": [
            "7\n"
          ]
        }
      ]
    },
    {
      "cell_type": "code",
      "metadata": {
        "id": "EzMi7lOA3vAf"
      },
      "source": [
        "# 関数宣言は使う前になければいけない\n",
        "%%writefile temp.cpp\n",
        "# include <bits/stdc++.h>\n",
        "using namespace std;\n",
        "\n",
        "// 関数宣言\n",
        "void myFunction();\n",
        "\n",
        "int main() {\n",
        "  myFunction();  // call the function\n",
        "  return 0;\n",
        "}\n",
        "\n",
        "// 関数定義\n",
        "void myFunction() {\n",
        "  cout << \"I just got executed!\";\n",
        "}\n"
      ],
      "execution_count": null,
      "outputs": []
    },
    {
      "cell_type": "code",
      "metadata": {
        "id": "i5vo6gcf_iac"
      },
      "source": [
        "!g++ temp.cpp; ./a.out"
      ],
      "execution_count": null,
      "outputs": []
    },
    {
      "cell_type": "code",
      "metadata": {
        "id": "VG7FA6z5ofJ7",
        "colab": {
          "base_uri": "https://localhost:8080/"
        },
        "outputId": "23cf0c17-895f-4052-9c07-a80dce1cc0f2"
      },
      "source": [
        "# 引数のデフォルト値\n",
        "%%writefile temp.cpp\n",
        "# include <bits/stdc++.h>\n",
        "#include <string>\n",
        "using namespace std;\n",
        "\n",
        "void myFunction(string country = \"Norway\") {\n",
        "  cout << country << endl;\n",
        "}\n",
        "\n",
        "int main() {\n",
        "  myFunction(\"Sweden\");\n",
        "  myFunction(\"India\");\n",
        "  myFunction();\n",
        "}"
      ],
      "execution_count": null,
      "outputs": [
        {
          "output_type": "stream",
          "name": "stdout",
          "text": [
            "Overwriting temp.cpp\n"
          ]
        }
      ]
    },
    {
      "cell_type": "code",
      "metadata": {
        "id": "wJ_FQ-okohmm",
        "colab": {
          "base_uri": "https://localhost:8080/"
        },
        "outputId": "80312fc7-4373-4929-aa28-c7fc44727bca"
      },
      "source": [
        "!g++ temp.cpp; ./a.out"
      ],
      "execution_count": null,
      "outputs": [
        {
          "output_type": "stream",
          "name": "stdout",
          "text": [
            "Sweden\n",
            "India\n",
            "Norway\n"
          ]
        }
      ]
    },
    {
      "cell_type": "code",
      "metadata": {
        "id": "SPEQWGGTovf4"
      },
      "source": [
        "# 複数の引数\n",
        "%%writefile temp.cpp\n",
        "# include <bits/stdc++.h>\n",
        "using namespace std;\n",
        "\n",
        "void myFunction(string fname, int age) {\n",
        "  cout << fname << \" Refsnes. \" << age << \" years old. \\n\";\n",
        "}\n",
        "\n",
        "int main() {\n",
        "  myFunction(\"Liam\", 3);\n",
        "  myFunction(\"Jenny\", 14);\n",
        "  myFunction(\"Anja\", 30);\n",
        "}\n"
      ],
      "execution_count": null,
      "outputs": []
    },
    {
      "cell_type": "code",
      "metadata": {
        "id": "c1LJx3ffpCvq"
      },
      "source": [
        "!g++ temp.cpp; ./a.out"
      ],
      "execution_count": null,
      "outputs": []
    },
    {
      "cell_type": "code",
      "metadata": {
        "id": "ZVkDUuXnpmbK"
      },
      "source": [
        "%%writefile temp.cpp\n",
        "# include <bits/stdc++.h>\n",
        "using namespace std;\n",
        "\n",
        "int myFunction(int x, int y) {\n",
        "  return x + y;\n",
        "}\n",
        "\n",
        "int main() {\n",
        "  cout << myFunction(5, 3);\n",
        "  return 0;\n",
        "}\n"
      ],
      "execution_count": null,
      "outputs": []
    },
    {
      "cell_type": "code",
      "metadata": {
        "id": "bGb-iR1GpmKd"
      },
      "source": [
        "!g++ temp.cpp; ./a.out"
      ],
      "execution_count": null,
      "outputs": []
    },
    {
      "cell_type": "code",
      "metadata": {
        "id": "DMfV5zUpptvH"
      },
      "source": [
        "%%writefile temp.cpp\n",
        "# include <bits/stdc++.h>\n",
        "using namespace std;\n",
        "\n",
        "int myFunction(int x, int y) {\n",
        "  return x + y;\n",
        "}\n",
        "\n",
        "int main() {\n",
        "  int z = myFunction(5, 3);\n",
        "  cout << z;\n",
        "}\n"
      ],
      "execution_count": null,
      "outputs": []
    },
    {
      "cell_type": "code",
      "metadata": {
        "id": "cjORLJfhptjJ"
      },
      "source": [
        "!g++ temp.cpp; ./a.out"
      ],
      "execution_count": null,
      "outputs": []
    },
    {
      "cell_type": "code",
      "metadata": {
        "id": "7_ci617st4bU",
        "colab": {
          "base_uri": "https://localhost:8080/"
        },
        "outputId": "b919175a-fc0a-4bd8-9f98-b91c655abde4"
      },
      "source": [
        "# 数値の交換\n",
        "%%writefile temp.cpp\n",
        "# include <bits/stdc++.h>\n",
        "using namespace std;\n",
        "\n",
        "void swapNums(int &x, int &y) {\n",
        "  int z = x;\n",
        "  x = y;\n",
        "  y = z;\n",
        "}\n",
        "\n",
        "int main() {\n",
        "  int firstNum = 10;\n",
        "  int secondNum = 20;\n",
        "\n",
        "  cout << \"Before swap: \" << endl;\n",
        "  cout << firstNum << secondNum << endl;\n",
        "\n",
        "  swapNums(firstNum, secondNum);\n",
        "\n",
        "  cout << \"After swap: \" << endl;\n",
        "  cout << firstNum << secondNum << endl;\n",
        "}\n"
      ],
      "execution_count": null,
      "outputs": [
        {
          "output_type": "stream",
          "name": "stdout",
          "text": [
            "Overwriting temp.cpp\n"
          ]
        }
      ]
    },
    {
      "cell_type": "code",
      "metadata": {
        "id": "LEzCoNq7t_vZ",
        "colab": {
          "base_uri": "https://localhost:8080/"
        },
        "outputId": "5ed8fe49-a8cb-4816-e29a-c632b231364f"
      },
      "source": [
        "!g++ temp.cpp; ./a.out"
      ],
      "execution_count": null,
      "outputs": [
        {
          "output_type": "stream",
          "name": "stdout",
          "text": [
            "Before swap: \n",
            "1020\n",
            "After swap: \n",
            "2010\n"
          ]
        }
      ]
    },
    {
      "cell_type": "code",
      "source": [
        "# 数値の交換\n",
        "%%writefile temp.cpp\n",
        "# include <bits/stdc++.h>\n",
        "using namespace std;\n",
        "\n",
        "void swapNums(int &x, int &y) {\n",
        "    x = x + y;\n",
        "    y = x - y;\n",
        "    x = x - y;\n",
        "}\n",
        "\n",
        "int main() {\n",
        "  int firstNum = 10;\n",
        "  int secondNum = 20;\n",
        "\n",
        "  cout << \"Before swap: \" << endl;\n",
        "  cout << firstNum << secondNum << endl;\n",
        "\n",
        "  swapNums(firstNum, secondNum);\n",
        "\n",
        "  cout << \"After swap: \" << endl;\n",
        "  cout << firstNum << secondNum << endl;\n",
        "}\n"
      ],
      "metadata": {
        "colab": {
          "base_uri": "https://localhost:8080/"
        },
        "id": "CXaeYz5n0Yvp",
        "outputId": "779b1ded-2bbb-4bbb-8a32-a8c78434d4cc"
      },
      "execution_count": null,
      "outputs": [
        {
          "output_type": "stream",
          "name": "stdout",
          "text": [
            "Overwriting temp.cpp\n"
          ]
        }
      ]
    },
    {
      "cell_type": "code",
      "source": [
        "!g++ temp.cpp; ./a.out"
      ],
      "metadata": {
        "colab": {
          "base_uri": "https://localhost:8080/"
        },
        "id": "bSl5BaY80YUp",
        "outputId": "81d87e38-1194-455c-c9cd-ce086ad8529b"
      },
      "execution_count": null,
      "outputs": [
        {
          "output_type": "stream",
          "name": "stdout",
          "text": [
            "Before swap: \n",
            "1020\n",
            "After swap: \n",
            "2010\n"
          ]
        }
      ]
    },
    {
      "cell_type": "code",
      "metadata": {
        "id": "uloCDtwrumZA",
        "colab": {
          "base_uri": "https://localhost:8080/"
        },
        "outputId": "9a8f3754-f647-4061-abad-48b00695cd1d"
      },
      "source": [
        "%%writefile temp.cpp\n",
        "# include <bits/stdc++.h>\n",
        "using namespace std;\n",
        "\n",
        "int plusFunc(int x, int y) {\n",
        "  return x + y;\n",
        "}\n",
        "\n",
        "double plusFunc(double x, double y) {\n",
        "  return x + y;\n",
        "}\n",
        "\n",
        "int main() {\n",
        "  int myNum1 = plusFunc(8, 5);\n",
        "  double myNum2 = plusFunc(4.3, 6.26);\n",
        "  cout << \"Int: \" << myNum1 << endl;\n",
        "  cout << \"Double: \" << myNum2;\n",
        "  return 0;\n",
        "}"
      ],
      "execution_count": null,
      "outputs": [
        {
          "output_type": "stream",
          "name": "stdout",
          "text": [
            "Overwriting temp.cpp\n"
          ]
        }
      ]
    },
    {
      "cell_type": "code",
      "metadata": {
        "id": "ngMHKqjLuoig",
        "colab": {
          "base_uri": "https://localhost:8080/"
        },
        "outputId": "3243b5a3-35d2-4cec-f254-49c04fc98f5f"
      },
      "source": [
        "!g++ temp.cpp; ./a.out"
      ],
      "execution_count": null,
      "outputs": [
        {
          "output_type": "stream",
          "name": "stdout",
          "text": [
            "Int: 13\n",
            "Double: 10.56"
          ]
        }
      ]
    },
    {
      "cell_type": "code",
      "metadata": {
        "id": "2trXCKKNIoog",
        "colab": {
          "base_uri": "https://localhost:8080/"
        },
        "outputId": "26715024-9acf-47d6-c004-9423431e9a21"
      },
      "source": [
        "# クラス class\n",
        "%%writefile temp.cpp\n",
        "# include <bits/stdc++.h>\n",
        "using namespace std;\n",
        "\n",
        "class MyClass {       // The class\n",
        "  public:             // Access specifier\n",
        "    int myNum;        // Attribute (int variable)\n",
        "    string myString;  // Attribute (string variable)\n",
        "};\n",
        "\n",
        "int main() {\n",
        "  MyClass myObj;  // Create an object of MyClass\n",
        "\n",
        "  // Access attributes and set values\n",
        "  myObj.myNum = 15;\n",
        "  myObj.myString = \"Some text\";\n",
        "\n",
        "  // Print values\n",
        "  cout << myObj.myNum << endl; \n",
        "  cout << myObj.myString; \n",
        "  return 0;\n",
        "}\n"
      ],
      "execution_count": null,
      "outputs": [
        {
          "output_type": "stream",
          "name": "stdout",
          "text": [
            "Writing temp.cpp\n"
          ]
        }
      ]
    },
    {
      "cell_type": "code",
      "metadata": {
        "id": "yPV_rnnII6h4",
        "colab": {
          "base_uri": "https://localhost:8080/"
        },
        "outputId": "e678a0c7-10d0-4ac6-ddde-a63d6ee84ae1"
      },
      "source": [
        "!g++ temp.cpp; ./a.out"
      ],
      "execution_count": null,
      "outputs": [
        {
          "output_type": "stream",
          "name": "stdout",
          "text": [
            "15\n",
            "Some text"
          ]
        }
      ]
    },
    {
      "cell_type": "code",
      "metadata": {
        "id": "SL2JLGn2JGAI",
        "colab": {
          "base_uri": "https://localhost:8080/"
        },
        "outputId": "dba9fef7-fc06-4e57-f52f-93e37a59506f"
      },
      "source": [
        "# クラスと属性\n",
        "%%writefile temp.cpp\n",
        "# include <bits/stdc++.h>\n",
        "using namespace std;\n",
        "\n",
        "class Car {\n",
        "  public:\n",
        "    string brand;\n",
        "    string model;\n",
        "    int year;\n",
        "};\n",
        "\n",
        "int main() {\n",
        "  Car carObj1;\n",
        "  carObj1.brand = \"BMW\";\n",
        "  carObj1.model = \"X5\";\n",
        "  carObj1.year = 1999;\n",
        "\n",
        "  Car carObj2;\n",
        "  carObj2.brand = \"Ford\";\n",
        "  carObj2.model = \"Mustang\";\n",
        "  carObj2.year = 1969;\n",
        "\n",
        "  cout << carObj1.brand << \" \" << carObj1.model << \" \" << carObj1.year << endl;\n",
        "  cout << carObj2.brand << \" \" << carObj2.model << \" \" << carObj2.year << endl;\n",
        "}"
      ],
      "execution_count": null,
      "outputs": [
        {
          "output_type": "stream",
          "name": "stdout",
          "text": [
            "Overwriting temp.cpp\n"
          ]
        }
      ]
    },
    {
      "cell_type": "code",
      "metadata": {
        "id": "gsTqn1uXJFc7",
        "colab": {
          "base_uri": "https://localhost:8080/"
        },
        "outputId": "123acf0d-9715-4906-e52a-319ed4409fdb"
      },
      "source": [
        "!g++ temp.cpp; ./a.out"
      ],
      "execution_count": null,
      "outputs": [
        {
          "output_type": "stream",
          "name": "stdout",
          "text": [
            "BMW X5 1999\n",
            "Ford Mustang 1969\n"
          ]
        }
      ]
    },
    {
      "cell_type": "code",
      "metadata": {
        "id": "t5ziGTEKJYdX"
      },
      "source": [
        "# クラスとメソッド\n",
        "%%writefile temp.cpp\n",
        "# include <bits/stdc++.h>\n",
        "using namespace std;\n",
        "\n",
        "class MyClass {         // The class\n",
        "  public:               // Access specifier\n",
        "    void myMethod() {   // Method/function\n",
        "      cout << \"Hello World!\";\n",
        "    }\n",
        "};\n",
        "\n",
        "int main() {\n",
        "  MyClass myObj;     // Create an object of MyClass\n",
        "  myObj.myMethod();  // Call the method\n",
        "  return 0;\n",
        "}"
      ],
      "execution_count": null,
      "outputs": []
    },
    {
      "cell_type": "code",
      "metadata": {
        "id": "kO8LjkheJYGQ"
      },
      "source": [
        "!g++ temp.cpp; ./a.out"
      ],
      "execution_count": null,
      "outputs": []
    },
    {
      "cell_type": "code",
      "metadata": {
        "id": "FdehYAOxJ9hn",
        "colab": {
          "base_uri": "https://localhost:8080/"
        },
        "outputId": "21241c35-3361-40ee-a1a9-54af88271471"
      },
      "source": [
        "# クラスメソッドの定義 `::` コロンコロン\n",
        "%%writefile temp.cpp\n",
        "# include <bits/stdc++.h>\n",
        "using namespace std;\n",
        "\n",
        "class MyClass {         // The class\n",
        "  public:               // Access specifier\n",
        "    void myMethod();    // Method/function declaration\n",
        "};\n",
        "\n",
        "// Method/function definition outside the class\n",
        "void MyClass::myMethod() {\n",
        "  cout << \"Hello World!\";\n",
        "}\n",
        "\n",
        "int main() {\n",
        "  MyClass myObj;     // Create an object of MyClass\n",
        "  myObj.myMethod();  // Call the method\n",
        "}"
      ],
      "execution_count": null,
      "outputs": [
        {
          "output_type": "stream",
          "name": "stdout",
          "text": [
            "Overwriting temp.cpp\n"
          ]
        }
      ]
    },
    {
      "cell_type": "code",
      "metadata": {
        "id": "hQWeWer7J9Xc",
        "colab": {
          "base_uri": "https://localhost:8080/"
        },
        "outputId": "5f2409ae-ad3a-40f0-d899-4dcad3734bb5"
      },
      "source": [
        "!g++ temp.cpp; ./a.out"
      ],
      "execution_count": null,
      "outputs": [
        {
          "output_type": "stream",
          "name": "stdout",
          "text": [
            "Hello World!"
          ]
        }
      ]
    },
    {
      "cell_type": "code",
      "metadata": {
        "id": "PYdljvoqKlUH"
      },
      "source": [
        "#\n",
        "%%writefile temp.cpp\n",
        "# include <bits/stdc++.h>\n",
        "using namespace std;\n",
        "\n",
        "class Car {\n",
        "  public:\n",
        "    int speed(int maxSpeed);\n",
        "};\n",
        "\n",
        "int Car::speed(int maxSpeed) {\n",
        "  return maxSpeed;\n",
        "}\n",
        "\n",
        "int main() {\n",
        "  Car myObj;\n",
        "  cout << myObj.speed(200);\n",
        "}"
      ],
      "execution_count": null,
      "outputs": []
    },
    {
      "cell_type": "code",
      "metadata": {
        "id": "uyOTylWeKlLo"
      },
      "source": [
        "!g++ temp.cpp; ./a.out"
      ],
      "execution_count": null,
      "outputs": []
    },
    {
      "cell_type": "code",
      "metadata": {
        "id": "yPnon0NEGpBA",
        "colab": {
          "base_uri": "https://localhost:8080/"
        },
        "outputId": "6cfc9a06-06ee-4074-8785-666e7ac69f07"
      },
      "source": [
        "# \n",
        "%%writefile temp.cpp\n",
        "# include <bits/stdc++.h>\n",
        "using namespace std;\n",
        "\n",
        "class MyClass {     // The class\n",
        "  public:           // Access specifier\n",
        "    MyClass() {     // Constructor\n",
        "      cout << \"Hello World!\";\n",
        "    }\n",
        "};\n",
        "\n",
        "int main() {\n",
        "  MyClass myObj;    // Create an object of MyClass (this will call the constructor)\n",
        "}"
      ],
      "execution_count": null,
      "outputs": [
        {
          "output_type": "stream",
          "name": "stdout",
          "text": [
            "Overwriting temp.cpp\n"
          ]
        }
      ]
    },
    {
      "cell_type": "code",
      "metadata": {
        "id": "4H6uhhuNGozO",
        "colab": {
          "base_uri": "https://localhost:8080/"
        },
        "outputId": "dc8d4df0-0893-464c-88bc-a60ec3cc1b95"
      },
      "source": [
        "!g++ temp.cpp; ./a.out"
      ],
      "execution_count": null,
      "outputs": [
        {
          "output_type": "stream",
          "name": "stdout",
          "text": [
            "Hello World!"
          ]
        }
      ]
    },
    {
      "cell_type": "code",
      "metadata": {
        "id": "QjkuRZ3DHE8U"
      },
      "source": [
        "#\n",
        "%%writefile temp.cpp\n",
        "# include <bits/stdc++.h>\n",
        "using namespace std;\n",
        "\n",
        "class Car {        // The class\n",
        "  public:          // Access specifier\n",
        "    string brand;  // Attribute\n",
        "    string model;  // Attribute\n",
        "    int year;      // Attribute\n",
        "    Car(string x, string y, int z) {  // Constructor with parameters\n",
        "      brand = x;\n",
        "      model = y;\n",
        "      year = z;\n",
        "    }\n",
        "};\n",
        "\n",
        "int main() {\n",
        "  // Create Car objects and call the constructor with different values\n",
        "  Car carObj1(\"BMW\", \"X5\", 1999);\n",
        "  Car carObj2(\"Ford\", \"Mustang\", 1969);\n",
        "\n",
        "  // Print values\n",
        "  cout << carObj1.brand << \" \" << carObj1.model << \" \" << carObj1.year << endl;\n",
        "  cout << carObj2.brand << \" \" << carObj2.model << \" \" << carObj2.year << endl;\n",
        "}"
      ],
      "execution_count": null,
      "outputs": []
    },
    {
      "cell_type": "code",
      "metadata": {
        "id": "r7BS44sTHEzk"
      },
      "source": [
        "!g++ temp.cpp; ./a.out"
      ],
      "execution_count": null,
      "outputs": []
    },
    {
      "cell_type": "code",
      "metadata": {
        "id": "sAWgqgADHg47"
      },
      "source": [
        "# \n",
        "%%writefile temp.cpp\n",
        "# include <bits/stdc++.h>\n",
        "using namespace std;\n",
        "\n",
        "class Car {        // The class\n",
        "  public:          // Access specifier\n",
        "    string brand;  // Attribute\n",
        "    string model;  // Attribute\n",
        "    int year;      // Attribute\n",
        "    Car(string x, string y, int z); // Constructor declaration\n",
        "};\n",
        "\n",
        "// Constructor definition outside the class\n",
        "Car::Car(string x, string y, int z) {\n",
        "  brand = x;\n",
        "  model = y;\n",
        "  year = z;\n",
        "}\n",
        "\n",
        "int main() {\n",
        "  // Create Car objects and call the constructor with different values\n",
        "  Car carObj1(\"BMW\", \"X5\", 1999);\n",
        "  Car carObj2(\"Ford\", \"Mustang\", 1969);\n",
        "\n",
        "  // Print values\n",
        "  cout << carObj1.brand << \" \" << carObj1.model << \" \" << carObj1.year << endl;\n",
        "  cout << carObj2.brand << \" \" << carObj2.model << \" \" << carObj2.year << endl;\n",
        "}"
      ],
      "execution_count": null,
      "outputs": []
    },
    {
      "cell_type": "code",
      "metadata": {
        "id": "-JagdTUNHg0f"
      },
      "source": [
        "!g++ temp.cpp; ./a.out"
      ],
      "execution_count": null,
      "outputs": []
    },
    {
      "cell_type": "code",
      "metadata": {
        "id": "wwPyr_ITH90I"
      },
      "source": [
        "%%script false\n",
        "# include <bits/stdc++.h>\n",
        "using namespace std;\n",
        "\n",
        "class MyClass {\n",
        "  public:    // Public access specifier\n",
        "    int x;   // Public attribute\n",
        "  private:   // Private access specifier\n",
        "    int y;   // Private attribute\n",
        "};\n",
        "\n",
        "int main() {\n",
        "  MyClass myObj;\n",
        "  myObj.x = 25;  // Allowed (x is public)\n",
        "  myObj.y = 50;  // Not allowed (y is private)\n",
        "  return 0;\n",
        "}\n",
        "\n",
        "\n",
        "# In function 'int main()':\n",
        "# Line 8: error: 'int MyClass::y' is private\n",
        "# Line 14: error: within this context"
      ],
      "execution_count": null,
      "outputs": []
    },
    {
      "cell_type": "code",
      "metadata": {
        "id": "LfIOgkyZInao"
      },
      "source": [
        "%%writefile temp.cpp\n",
        "# include <bits/stdc++.h>\n",
        "using namespace std;\n",
        "\n",
        "class MyClass {   // The class\n",
        "  public:         // Public access specifier\n",
        "    int x;        // Public attribute (int variable)\n",
        "};\n",
        "\n",
        "int main() {\n",
        "  MyClass myObj;  // Create an object of MyClass\n",
        "\n",
        "  // Access attributes and set values\n",
        "  myObj.x = 15;\n",
        "\n",
        "  // Print values\n",
        "  cout << myObj.x; \n",
        "  return 0;\n",
        "}\n"
      ],
      "execution_count": null,
      "outputs": []
    },
    {
      "cell_type": "code",
      "metadata": {
        "id": "oiG0RSZjInHS"
      },
      "source": [
        "!g++ temp.cpp; ./a.out"
      ],
      "execution_count": null,
      "outputs": []
    },
    {
      "cell_type": "code",
      "metadata": {
        "id": "aOru4KrJYA1S"
      },
      "source": [
        "%%writefile temp.cpp\n",
        "# include <bits/stdc++.h>\n",
        "using namespace std;\n",
        "\n",
        "class Employee {\n",
        "  private:\n",
        "    int salary;\n",
        "\n",
        "  public:\n",
        "    void setSalary(int s) {\n",
        "      salary = s;\n",
        "    }\n",
        "    int getSalary() {\n",
        "      return salary;\n",
        "    }\n",
        "};\n",
        "\n",
        "int main() {\n",
        "  Employee myObj;\n",
        "  myObj.setSalary(50000);\n",
        "  cout << myObj.getSalary();\n",
        "  return 0;\n",
        "}"
      ],
      "execution_count": null,
      "outputs": []
    },
    {
      "cell_type": "code",
      "metadata": {
        "id": "zaolZDXrYD9V"
      },
      "source": [
        "!g++ temp.cpp; ./a.out"
      ],
      "execution_count": null,
      "outputs": []
    },
    {
      "cell_type": "code",
      "metadata": {
        "id": "BQ7FyXY7YqxQ"
      },
      "source": [
        "%%writefile temp.cpp\n",
        "# include <bits/stdc++.h>\n",
        "#include <string>\n",
        "using namespace std;\n",
        "\n",
        "// Base class\n",
        "class Vehicle {\n",
        "  public: \n",
        "    string brand = \"Ford\";\n",
        "    void honk() {\n",
        "      cout << \"Tuut, tuut! \\n\" ;\n",
        "    }\n",
        "};\n",
        "\n",
        "// Derived class\n",
        "class Car: public Vehicle {\n",
        "  public: \n",
        "    string model = \"Mustang\";\n",
        "};\n",
        "\n",
        "int main() {\n",
        "  Car myCar;\n",
        "  myCar.honk();\n",
        "  cout << myCar.brand + \" \" + myCar.model;\n",
        "  return 0;\n",
        "}"
      ],
      "execution_count": null,
      "outputs": []
    },
    {
      "cell_type": "code",
      "metadata": {
        "id": "YDeaI5uzYucL"
      },
      "source": [
        "!g++ temp.cpp; ./a.out"
      ],
      "execution_count": null,
      "outputs": []
    },
    {
      "cell_type": "code",
      "metadata": {
        "id": "94a6-oLOZKkn"
      },
      "source": [
        "%%writefile temp.cpp\n",
        "\n",
        "# include <bits/stdc++.h>\n",
        "using namespace std;\n",
        "\n",
        "// Parent class\n",
        "class MyClass {\n",
        "  public: \n",
        "    void myFunction() {\n",
        "      cout << \"Some content in parent class.\" ;\n",
        "    }\n",
        "};\n",
        "\n",
        "// Child class\n",
        "class MyChild: public MyClass {\n",
        "};\n",
        "\n",
        "// Grandchild class \n",
        "class MyGrandChild: public MyChild {\n",
        "};\n",
        "\n",
        "int main() {\n",
        "  MyGrandChild myObj;\n",
        "  myObj.myFunction();\n",
        "  return 0;\n",
        "}\n"
      ],
      "execution_count": null,
      "outputs": []
    },
    {
      "cell_type": "code",
      "metadata": {
        "id": "Jrs7Y29GZM8c"
      },
      "source": [
        "!g++ temp.cpp; ./a.out"
      ],
      "execution_count": null,
      "outputs": []
    },
    {
      "cell_type": "code",
      "metadata": {
        "id": "8-AvRNkWZhqf"
      },
      "source": [
        "%%writefile temp.cpp\n",
        "\n",
        "# include <bits/stdc++.h>\n",
        "using namespace std;\n",
        "\n",
        "// Base class\n",
        "class MyClass {\n",
        "  public:\n",
        "    void myFunction() {\n",
        "      cout << \"Some content in parent class.\\n\" ;\n",
        "    }\n",
        "};\n",
        "\n",
        "// Another base class\n",
        "class MyOtherClass {\n",
        "  public:\n",
        "    void myOtherFunction() {\n",
        "      cout << \"Some content in another class.\\n\" ;\n",
        "    }\n",
        "};\n",
        "\n",
        "// Derived class\n",
        "class MyChildClass: public MyClass, public MyOtherClass {\n",
        "};\n",
        "\n",
        "int main() {\n",
        "  MyChildClass myObj;\n",
        "  myObj.myFunction();\n",
        "  myObj.myOtherFunction();\n",
        "  return 0;\n",
        "}\n"
      ],
      "execution_count": null,
      "outputs": []
    },
    {
      "cell_type": "code",
      "metadata": {
        "id": "XVvEQr3-ZyGd"
      },
      "source": [
        "!g++ temp.cpp; ./a.out"
      ],
      "execution_count": null,
      "outputs": []
    },
    {
      "cell_type": "code",
      "metadata": {
        "id": "npPHwffZaCU_"
      },
      "source": [
        "%%writefile temp.cpp\n",
        "\n",
        "# include <bits/stdc++.h>\n",
        "using namespace std;\n",
        "\n",
        "// Base class\n",
        "class Employee  {\n",
        "  protected:  // Protected access specifier\n",
        "    int salary;\n",
        "};\n",
        "\n",
        "// Derived class\n",
        "class Programmer: public Employee {\n",
        "  public:\n",
        "    int bonus;\n",
        "    void setSalary(int s) {\n",
        "      salary = s;\n",
        "    }\n",
        "    int getSalary() {\n",
        "      return salary;\n",
        "    }\n",
        "};\n",
        "\n",
        "int main() {\n",
        "  Programmer myObj;\n",
        "  myObj.setSalary(50000);\n",
        "  myObj.bonus = 15000;\n",
        "  cout << \"Salary: \" << myObj.getSalary() << endl;\n",
        "  cout << \"Bonus: \" << myObj.bonus << endl;\n",
        "  return 0;\n",
        "}\n"
      ],
      "execution_count": null,
      "outputs": []
    },
    {
      "cell_type": "code",
      "metadata": {
        "id": "WUYFP1u8aIjb"
      },
      "source": [
        "!g++ temp.cpp; ./a.out"
      ],
      "execution_count": null,
      "outputs": []
    },
    {
      "cell_type": "code",
      "metadata": {
        "id": "smDbnHa3X8qp"
      },
      "source": [
        "%%writefile temp.cpp\n",
        "\n",
        "# include <bits/stdc++.h>\n",
        "#include <string>\n",
        "using namespace std;\n",
        "\n",
        "// Base class\n",
        "class Animal {\n",
        "  public:\n",
        "    void animalSound() {\n",
        "      cout << \"The animal makes a sound \\n\" ;\n",
        "    }\n",
        "};\n",
        "\n",
        "// Derived class\n",
        "class Pig : public Animal {\n",
        "  public:\n",
        "    void animalSound() {\n",
        "      cout << \"The pig says: wee wee \\n\" ;\n",
        "    }\n",
        "};\n",
        "\n",
        "// Derived class\n",
        "class Dog : public Animal {\n",
        "  public:\n",
        "    void animalSound() {\n",
        "      cout << \"The dog says: bow wow \\n\" ;\n",
        "    }\n",
        "};\n",
        "\n",
        "int main() {\n",
        "  Animal myAnimal;\n",
        "  Pig myPig;\n",
        "  Dog myDog;\n",
        "\n",
        "  myAnimal.animalSound();\n",
        "  myPig.animalSound();\n",
        "  myDog.animalSound();\n",
        "  return 0;\n",
        "}\n"
      ],
      "execution_count": null,
      "outputs": []
    },
    {
      "cell_type": "code",
      "metadata": {
        "id": "YA0Yro23YB0M"
      },
      "source": [
        "!g++ temp.cpp; ./a.out"
      ],
      "execution_count": null,
      "outputs": []
    },
    {
      "cell_type": "code",
      "metadata": {
        "id": "JYjXHaQCYo9B",
        "colab": {
          "base_uri": "https://localhost:8080/"
        },
        "outputId": "a33be341-185f-49f6-831e-dc1d34e2a909"
      },
      "source": [
        "# ファイル操作\n",
        "%%writefile temp.cpp\n",
        "# include <bits/stdc++.h>\n",
        "// #include <fstream>\n",
        "using namespace std;\n",
        "\n",
        "int main () {\n",
        "  ofstream MyWriteFile(\"filename.txt\"); \n",
        "  MyWriteFile << \"Files can be tricky, but it is fun enough!\\n日本語はどうか\";\n",
        "  MyWriteFile.close();\n",
        "\n",
        "  string myText;\n",
        "\n",
        "  ifstream MyReadFile(\"filename.txt\");\n",
        "\n",
        "  while (getline (MyReadFile, myText)) {\n",
        "    cout << myText << endl;\n",
        "  }\n",
        "\n",
        "  MyReadFile.close();\n",
        "}"
      ],
      "execution_count": null,
      "outputs": [
        {
          "output_type": "stream",
          "name": "stdout",
          "text": [
            "Overwriting temp.cpp\n"
          ]
        }
      ]
    },
    {
      "cell_type": "code",
      "metadata": {
        "id": "DusXiwvrYxVW",
        "colab": {
          "base_uri": "https://localhost:8080/"
        },
        "outputId": "a2ac7d95-39ff-468e-f637-1905992aedc6"
      },
      "source": [
        "!g++ temp.cpp; ./a.out"
      ],
      "execution_count": null,
      "outputs": [
        {
          "output_type": "stream",
          "name": "stdout",
          "text": [
            "Files can be tricky, but it is fun enough!\n",
            "日本語はどうか\n"
          ]
        }
      ]
    },
    {
      "cell_type": "code",
      "source": [
        "# ./sample_data/README.md で実験\n",
        "%%writefile temp.cpp\n",
        "# include <bits/stdc++.h>\n",
        "using namespace std;\n",
        "\n",
        "int main () {\n",
        "  string myText;\n",
        "  ifstream MyReadFile(\"./sample_data/README.md\");\n",
        "\n",
        "for (int i=0; i < 7; i++){\n",
        "    getline (MyReadFile, myText);\n",
        "    cout << myText << endl;\n",
        "  }\n",
        "}"
      ],
      "metadata": {
        "id": "uRdqmqCoXMzA",
        "outputId": "7d3f3030-a87a-4fa3-8f2c-859e946e9861",
        "colab": {
          "base_uri": "https://localhost:8080/"
        }
      },
      "execution_count": null,
      "outputs": [
        {
          "output_type": "stream",
          "name": "stdout",
          "text": [
            "Overwriting temp.cpp\n"
          ]
        }
      ]
    },
    {
      "cell_type": "code",
      "source": [
        "!g++ temp.cpp; ./a.out"
      ],
      "metadata": {
        "id": "kaKNcEVmXeEX",
        "colab": {
          "base_uri": "https://localhost:8080/"
        },
        "outputId": "9d6f817a-39a6-446d-d393-28beab8af793"
      },
      "execution_count": null,
      "outputs": [
        {
          "output_type": "stream",
          "name": "stdout",
          "text": [
            "This directory includes a few sample datasets to get you started.\n",
            "\n",
            "*   `california_housing_data*.csv` is California housing data from the 1990 US\n",
            "    Census; more information is available at:\n",
            "    https://developers.google.com/machine-learning/crash-course/california-housing-data-description\n",
            "\n",
            "*   `mnist_*.csv` is a small sample of the\n"
          ]
        }
      ]
    },
    {
      "cell_type": "code",
      "source": [
        "# 実験 ファイルを一度全部読み込む\n",
        "%%writefile temp.cpp\n",
        "# include <bits/stdc++.h>\n",
        "using namespace std;\n",
        "int main () {\n",
        "  ifstream ifs(\"./sample_data/README.md\");\n",
        "//   string myText((istreambuf_iterator<char>(ifs)), istreambuf_iterator<char>());\n",
        "  stringstream myStream;\n",
        "  myStream << ifs.rdbuf();\n",
        "  cout << myStream.str() << endl;\n",
        "}"
      ],
      "metadata": {
        "id": "yI2w17S0WS3A",
        "outputId": "58e1356e-5cdd-40ce-d0cf-92ab6af94493",
        "colab": {
          "base_uri": "https://localhost:8080/"
        }
      },
      "execution_count": null,
      "outputs": [
        {
          "output_type": "stream",
          "name": "stdout",
          "text": [
            "Overwriting temp.cpp\n"
          ]
        }
      ]
    },
    {
      "cell_type": "code",
      "source": [
        "!g++ temp.cpp; ./a.out"
      ],
      "metadata": {
        "id": "xbJp8FKkY_vu"
      },
      "execution_count": null,
      "outputs": []
    },
    {
      "cell_type": "code",
      "source": [
        "# 実験 ファイルを一度全部読み込む => vector<string> に入れる\n",
        "%%writefile temp.cpp\n",
        "# include <bits/stdc++.h>\n",
        "using namespace std;\n",
        "int main () {\n",
        "    ofstream ofs(\"temp.txt\");\n",
        "    ofs << \"foo bar baz \\n\";\n",
        "    ofs << \"This is a pen\" << endl;\n",
        "    ofs << \"日本語もどうか\" << endl << endl;\n",
        "    ofs << \"これが最後\" << endl;\n",
        "    ofs << \"ん\";\n",
        "    ofs.close();\n",
        "\n",
        "    ifstream ifs(\"./temp.txt\");\n",
        "    vector<string> myLines;\n",
        "    string myLine;\n",
        "    while (getline (ifs, myLine)) {\n",
        "        myLines.push_back(myLine);\n",
        "    };\n",
        "\n",
        "    sort(myLines.begin(), myLines.end());\n",
        "\n",
        "    for (string line: myLines){\n",
        "        if (line != \"\")cout << line << endl;\n",
        "    }\n",
        "}"
      ],
      "metadata": {
        "id": "8vOtNvRFE-zj",
        "outputId": "4df236a6-e0c3-47df-9e94-2b6d22b7362d",
        "colab": {
          "base_uri": "https://localhost:8080/"
        }
      },
      "execution_count": null,
      "outputs": [
        {
          "output_type": "stream",
          "name": "stdout",
          "text": [
            "Overwriting temp.cpp\n"
          ]
        }
      ]
    },
    {
      "cell_type": "code",
      "source": [
        "!g++ temp.cpp; ./a.out"
      ],
      "metadata": {
        "id": "CL2MFbRXE-p8",
        "outputId": "537660bd-2181-419a-bed0-a268017cb6fa",
        "colab": {
          "base_uri": "https://localhost:8080/"
        }
      },
      "execution_count": null,
      "outputs": [
        {
          "output_type": "stream",
          "name": "stdout",
          "text": [
            "This is a pen\n",
            "foo bar baz \n",
            "これが最後\n",
            "ん\n",
            "日本語もどうか\n"
          ]
        }
      ]
    },
    {
      "cell_type": "code",
      "source": [
        "!cat temp.txt"
      ],
      "metadata": {
        "id": "vrQT3oE6p0xY",
        "outputId": "4854269c-5ba3-4980-baef-e1826dd5f83a",
        "colab": {
          "base_uri": "https://localhost:8080/"
        }
      },
      "execution_count": null,
      "outputs": [
        {
          "output_type": "stream",
          "name": "stdout",
          "text": [
            "foo bar baz \n",
            "This is a pen\n",
            "日本語もどうか\n",
            "\n",
            "これが最後"
          ]
        }
      ]
    },
    {
      "cell_type": "code",
      "metadata": {
        "id": "zSk0BNsoNrBT",
        "colab": {
          "base_uri": "https://localhost:8080/"
        },
        "outputId": "4cd4958b-083f-43ac-99e5-4db76722b991"
      },
      "source": [
        "# 上書きと追記\n",
        "%%writefile file.txt\n",
        "Good friend, for Jesus' sake forbear,\n",
        "To dig the dust enclosed here.\n",
        "Blest be the man that spares these stones,\n",
        "And cursed be he that moves my bones."
      ],
      "execution_count": null,
      "outputs": [
        {
          "output_type": "stream",
          "name": "stdout",
          "text": [
            "Writing file.txt\n"
          ]
        }
      ]
    },
    {
      "cell_type": "code",
      "metadata": {
        "id": "vL_9djouNWae",
        "colab": {
          "base_uri": "https://localhost:8080/"
        },
        "outputId": "689b8b8c-7fea-488b-ffa1-4d3c37941057"
      },
      "source": [
        "# テキストファイルに追加する\n",
        "%%writefile temp.cpp\n",
        "# include <bits/stdc++.h>\n",
        "using namespace std;\n",
        "\n",
        "int main() {\n",
        "    ofstream file(\"file.txt\", ios::app); // append の意味\n",
        "    string quotation(\"--- William Shakespeare's Epitaph\");\n",
        "\n",
        "    file << \"\\n\" << quotation;\n",
        "\n",
        "    string myText;\n",
        "\n",
        "    ifstream MyReadFile(\"file.txt\");\n",
        "\n",
        "    while (getline (MyReadFile, myText)) {\n",
        "        cout << myText << endl;\n",
        "    }\n",
        "}"
      ],
      "execution_count": null,
      "outputs": [
        {
          "output_type": "stream",
          "name": "stdout",
          "text": [
            "Overwriting temp.cpp\n"
          ]
        }
      ]
    },
    {
      "cell_type": "code",
      "metadata": {
        "id": "dIhLrYy7Nkca",
        "colab": {
          "base_uri": "https://localhost:8080/"
        },
        "outputId": "787c232c-d322-4c69-9557-84a59394dff5"
      },
      "source": [
        "!g++ temp.cpp; ./a.out"
      ],
      "execution_count": null,
      "outputs": [
        {
          "output_type": "stream",
          "name": "stdout",
          "text": [
            "Good friend, for Jesus' sake forbear,\n",
            "To dig the dust enclosed here.\n",
            "Blest be the man that spares these stones,\n",
            "And cursed be he that moves my bones.\n",
            "--- William Shakespeare's Epitaph\n"
          ]
        }
      ]
    },
    {
      "cell_type": "code",
      "metadata": {
        "id": "v7nVRIvWnl-k",
        "colab": {
          "base_uri": "https://localhost:8080/"
        },
        "outputId": "e6e0dbd3-9978-42bf-87e0-4d233a501766"
      },
      "source": [
        "# 例外処理 exceptions\n",
        "# 次のプログラムの age を変えて実行してみる\n",
        "%%writefile temp.cpp\n",
        "# include <bits/stdc++.h>\n",
        "using namespace std;\n",
        "\n",
        "int main() {\n",
        "  try {\n",
        "    int age = 15;\n",
        "    if (age >= 18) {\n",
        "      cout << \"Access granted - you are old enough.\";\n",
        "    } else {\n",
        "      throw (age);\n",
        "    }\n",
        "  }\n",
        "  catch (int myNum) {\n",
        "    cout << \"Access denied - You must be at least 18 years old.\\n\";\n",
        "    cout << \"Age is: \" << myNum;  \n",
        "  }\n",
        "}"
      ],
      "execution_count": null,
      "outputs": [
        {
          "output_type": "stream",
          "name": "stdout",
          "text": [
            "Overwriting temp.cpp\n"
          ]
        }
      ]
    },
    {
      "cell_type": "code",
      "metadata": {
        "id": "sXH_yclMnwrK",
        "colab": {
          "base_uri": "https://localhost:8080/"
        },
        "outputId": "fd560e08-f149-48ea-c33c-192b1da185a2"
      },
      "source": [
        "!g++ temp.cpp; ./a.out"
      ],
      "execution_count": null,
      "outputs": [
        {
          "output_type": "stream",
          "name": "stdout",
          "text": [
            "Access granted - you are old enough."
          ]
        }
      ]
    },
    {
      "cell_type": "code",
      "metadata": {
        "id": "OZN2Bu5A9WqA",
        "colab": {
          "base_uri": "https://localhost:8080/"
        },
        "outputId": "b2dbe3f2-6f4c-44e0-98e2-3b06eec6f2e1"
      },
      "source": [
        "# ピリオド3つ three dots\n",
        "%%writefile temp.cpp\n",
        "# include <bits/stdc++.h>\n",
        "using namespace std;\n",
        "\n",
        "int main() {\n",
        "  try {\n",
        "    int age = 15;\n",
        "    if (age >= 18) {\n",
        "      cout << \"Access granted - you are old enough.\";\n",
        "    } else {\n",
        "      throw 505;\n",
        "    }\n",
        "  }\n",
        "  catch (...) {\n",
        "    cout << \"Access denied - You must be at least 18 years old.\\n\";\n",
        "  }\n",
        "}"
      ],
      "execution_count": null,
      "outputs": [
        {
          "output_type": "stream",
          "name": "stdout",
          "text": [
            "Overwriting temp.cpp\n"
          ]
        }
      ]
    },
    {
      "cell_type": "code",
      "metadata": {
        "id": "7q_edc0-9Wb9",
        "colab": {
          "base_uri": "https://localhost:8080/"
        },
        "outputId": "f7774306-5943-4514-fdfa-a413b316f50a"
      },
      "source": [
        "!g++ temp.cpp; ./a.out"
      ],
      "execution_count": null,
      "outputs": [
        {
          "output_type": "stream",
          "name": "stdout",
          "text": [
            "Access denied - You must be at least 18 years old.\n"
          ]
        }
      ]
    },
    {
      "cell_type": "code",
      "metadata": {
        "id": "rMANLnVl8n2h",
        "colab": {
          "base_uri": "https://localhost:8080/"
        },
        "outputId": "e33fbb8e-e9fc-4cb0-affd-50e3ca543788"
      },
      "source": [
        "#  例外処理による入力チェック\n",
        "%%writefile temp.cpp\n",
        "# include <bits/stdc++.h>\n",
        "using namespace std;\n",
        "\n",
        "int CharToInt(const char c) {\n",
        "    switch (c) {\n",
        "        case '0':  return 0;\n",
        "        case '1':  return 1;\n",
        "        case '2':  return 2;\n",
        "        case '3':  return 3;\n",
        "        case '4':  return 4;\n",
        "        case '5':  return 5;\n",
        "        case '6':  return 6;\n",
        "        case '7':  return 7;\n",
        "        case '8':  return 8;\n",
        "        case '9':  return 9;\n",
        "        default:\n",
        "            // 関数から例外を送出\n",
        "            throw runtime_error(\"数値ではない文字が入っています\");\n",
        "    }\n",
        "}\n",
        "\n",
        "int StringToInt(const string& str) {\n",
        "    int num = 0;\n",
        "    for (const auto s : str) {\n",
        "        num *= 10;\n",
        "\n",
        "        // CharToInt から例外が送出される\n",
        "        num += CharToInt(s);\n",
        "    }\n",
        "    return num;\n",
        "}\n",
        "\n",
        "int main() {\n",
        "    string str = \"123XY56\";\n",
        "    try {\n",
        "        // StringToInt 内部の CharToInt から例外が送出される\n",
        "        auto num = StringToInt(str);\n",
        "\n",
        "        cout << num << endl;\n",
        "    } catch (const runtime_error& e) {\n",
        "        cout << e.what() << endl;\n",
        "    }\n",
        "}"
      ],
      "execution_count": null,
      "outputs": [
        {
          "output_type": "stream",
          "name": "stdout",
          "text": [
            "Overwriting temp.cpp\n"
          ]
        }
      ]
    },
    {
      "cell_type": "code",
      "metadata": {
        "id": "HesdtoSI8nSh",
        "colab": {
          "base_uri": "https://localhost:8080/"
        },
        "outputId": "7a641cfb-47fb-4039-fcc8-514a49811ef6"
      },
      "source": [
        "!g++ temp.cpp; ./a.out"
      ],
      "execution_count": null,
      "outputs": [
        {
          "output_type": "stream",
          "name": "stdout",
          "text": [
            "数値ではない文字が入っています\n"
          ]
        }
      ]
    },
    {
      "cell_type": "code",
      "metadata": {
        "id": "9wl8EJ3m4pt2",
        "colab": {
          "base_uri": "https://localhost:8080/"
        },
        "outputId": "4e7772db-0106-4641-a351-ae050096ff7f"
      },
      "source": [
        "# 単純なプログラム\n",
        "%%writefile temp.cpp\n",
        "# include <bits/stdc++.h>\n",
        "using namespace std;\n",
        "\n",
        "int main() {\n",
        "  int x = 5;\n",
        "  int y = 6;\n",
        "  int sum = x + y;\n",
        "  cout << sum;\n",
        "}"
      ],
      "execution_count": null,
      "outputs": [
        {
          "output_type": "stream",
          "name": "stdout",
          "text": [
            "Overwriting temp.cpp\n"
          ]
        }
      ]
    },
    {
      "cell_type": "code",
      "metadata": {
        "id": "KAS06TYN4pjE",
        "colab": {
          "base_uri": "https://localhost:8080/"
        },
        "outputId": "1a315f52-22bc-49aa-bf74-d92540b97563"
      },
      "source": [
        "!g++ temp.cpp; ./a.out"
      ],
      "execution_count": null,
      "outputs": [
        {
          "output_type": "stream",
          "name": "stdout",
          "text": [
            "11"
          ]
        }
      ]
    },
    {
      "cell_type": "code",
      "metadata": {
        "id": "b__3S-ZD4sis",
        "colab": {
          "base_uri": "https://localhost:8080/"
        },
        "outputId": "de9f86b3-f41a-42fa-caba-72ac5b8dfcf4"
      },
      "source": [
        "# colab , jupyter の入出力\n",
        "%%writefile temp.cpp\n",
        "# include <bits/stdc++.h>\n",
        "using namespace std;\n",
        "\n",
        "int main() {\n",
        "  int x, y;\n",
        "  int sum;\n",
        "  cout << \"Type a number: \";\n",
        "  cin >> x;\n",
        "  cout << \"Type another number: \";\n",
        "  cin >> y;\n",
        "  sum = x + y;\n",
        "  cout << \"Sum is: \" << sum;\n",
        "}"
      ],
      "execution_count": null,
      "outputs": [
        {
          "output_type": "stream",
          "name": "stdout",
          "text": [
            "Overwriting temp.cpp\n"
          ]
        }
      ]
    },
    {
      "cell_type": "code",
      "metadata": {
        "id": "YWsIYiPoNc2w",
        "colab": {
          "base_uri": "https://localhost:8080/"
        },
        "outputId": "b95ba724-2818-44ee-f969-ec65cd61f008"
      },
      "source": [
        "!g++ temp.cpp; echo 99 100 | ./a.out"
      ],
      "execution_count": null,
      "outputs": [
        {
          "output_type": "stream",
          "name": "stdout",
          "text": [
            "Type a number: Type another number: Sum is: 199"
          ]
        }
      ]
    },
    {
      "cell_type": "code",
      "metadata": {
        "id": "ESksa-pMNF1s",
        "outputId": "9e4ae21d-45a5-49ff-c869-7079ccdb56fc",
        "colab": {
          "base_uri": "https://localhost:8080/"
        }
      },
      "source": [
        "# sort array version\n",
        "%%writefile temp.cpp\n",
        "# include <bits/stdc++.h>\n",
        "using namespace std;\n",
        "\n",
        "int main() {\n",
        "  int array[] = { 23, 5, -10, 0, 0, 321, 1, 2, 99, 30 };\n",
        "  size_t size = sizeof(array) / sizeof(array[0]); \n",
        "  sort(array, array + size);\n",
        "  for (size_t i = 0; i < size; ++i) {\n",
        "     cout << array[i] << ' ';\n",
        "  }\n",
        "  cout << endl;\n",
        "}"
      ],
      "execution_count": null,
      "outputs": [
        {
          "output_type": "stream",
          "name": "stdout",
          "text": [
            "Overwriting temp.cpp\n"
          ]
        }
      ]
    },
    {
      "cell_type": "code",
      "metadata": {
        "id": "GKPRaWqGNK6t",
        "outputId": "d9935136-b262-46e9-d242-0f133e176df8",
        "colab": {
          "base_uri": "https://localhost:8080/"
        }
      },
      "source": [
        "!g++ temp.cpp; ./a.out"
      ],
      "execution_count": null,
      "outputs": [
        {
          "output_type": "stream",
          "name": "stdout",
          "text": [
            "-10 0 0 1 2 5 23 30 99 321 \n"
          ]
        }
      ]
    },
    {
      "cell_type": "code",
      "metadata": {
        "id": "jpWxNKiKNJY6",
        "outputId": "3a9ecba4-737e-4c8f-d098-4b45fbf32515",
        "colab": {
          "base_uri": "https://localhost:8080/"
        }
      },
      "source": [
        "# sort 普通はこっちを使う\n",
        "%%writefile temp.cpp\n",
        "# include <bits/stdc++.h>\n",
        "using namespace std;\n",
        "\n",
        "int main() {\n",
        "  vector<int> vec { 23, 5, -10, 0, 0, 321, 1, 2, 99, 30 };\n",
        "  sort(vec.begin(), vec.end());\n",
        "  for (int i = 0; i < vec.size(); i++) {\n",
        "     cout << vec[i] << ' ';\n",
        "  }\n",
        "  cout << endl;\n",
        "}"
      ],
      "execution_count": null,
      "outputs": [
        {
          "output_type": "stream",
          "name": "stdout",
          "text": [
            "Overwriting temp.cpp\n"
          ]
        }
      ]
    },
    {
      "cell_type": "code",
      "metadata": {
        "id": "W6redAJ1N4nN",
        "outputId": "581a9449-2122-433b-a8f2-ac2f6588b379",
        "colab": {
          "base_uri": "https://localhost:8080/"
        }
      },
      "source": [
        "!g++ temp.cpp; ./a.out"
      ],
      "execution_count": null,
      "outputs": [
        {
          "output_type": "stream",
          "name": "stdout",
          "text": [
            "-10 0 0 1 2 5 23 30 99 321 \n"
          ]
        }
      ]
    },
    {
      "cell_type": "code",
      "metadata": {
        "id": "hhOG4DUnOp61",
        "outputId": "875bff92-f80a-4349-c370-74b20270aeea",
        "colab": {
          "base_uri": "https://localhost:8080/"
        }
      },
      "source": [
        "# dump を使う\n",
        "%%writefile temp.cpp\n",
        "# include <bits/stdc++.h>\n",
        "# include <boost/foreach.hpp> // これは bits/stdc++.h に入っていないみたい\n",
        "using namespace std;\n",
        "\n",
        "void dump(vector<int>& v) {\n",
        "  BOOST_FOREACH(int x, v) {\n",
        "    cout << x << endl;\n",
        "  }\n",
        "}\n",
        "\n",
        "int main(int argc, char* argv[]) {\n",
        "  vector<int> v;\n",
        "  v.push_back(3);\n",
        "  v.push_back(4);\n",
        "  v.push_back(1);\n",
        "  v.push_back(2);\n",
        "\n",
        "  cout << \"Before sort\" << endl;\n",
        "  dump(v);\n",
        "\n",
        "  sort(v.begin(), v.end());\n",
        "\n",
        "  cout << \"After sort\" << endl;\n",
        "  dump(v);\n",
        "}"
      ],
      "execution_count": null,
      "outputs": [
        {
          "output_type": "stream",
          "name": "stdout",
          "text": [
            "Overwriting temp.cpp\n"
          ]
        }
      ]
    },
    {
      "cell_type": "code",
      "metadata": {
        "id": "zzUci1vXOp1Z",
        "outputId": "ae639680-7db6-4f67-f8fd-a23e49ec6b94",
        "colab": {
          "base_uri": "https://localhost:8080/"
        }
      },
      "source": [
        "!g++ temp.cpp; ./a.out"
      ],
      "execution_count": null,
      "outputs": [
        {
          "output_type": "stream",
          "name": "stdout",
          "text": [
            "Before sort\n",
            "3\n",
            "4\n",
            "1\n",
            "2\n",
            "After sort\n",
            "1\n",
            "2\n",
            "3\n",
            "4\n"
          ]
        }
      ]
    },
    {
      "cell_type": "code",
      "metadata": {
        "id": "ph5fdv_KPTVc",
        "outputId": "ec2f1d70-2a83-426c-9803-b0eb0464991b",
        "colab": {
          "base_uri": "https://localhost:8080/"
        }
      },
      "source": [
        "# 単純化してみる\n",
        "%%writefile temp.cpp\n",
        "# include <bits/stdc++.h>\n",
        "using namespace std;\n",
        "\n",
        "void dump(vector<int>& v) {\n",
        "  for (int item : v) {\n",
        "    cout << item << \" \";\n",
        "  }\n",
        "  cout << endl;\n",
        "}\n",
        "\n",
        "int main(int argc, char* argv[]) {\n",
        "  vector<int> v = { 3,4,1,2 };\n",
        "  cout << \"Before sort\" << endl;\n",
        "  dump(v);\n",
        "  sort(v.begin(), v.end(), greater<int>());\n",
        "  cout << \"After sort\" << endl;\n",
        "  dump(v);\n",
        "}"
      ],
      "execution_count": null,
      "outputs": [
        {
          "output_type": "stream",
          "name": "stdout",
          "text": [
            "Overwriting temp.cpp\n"
          ]
        }
      ]
    },
    {
      "cell_type": "code",
      "metadata": {
        "id": "eBcfciPHPTIy",
        "outputId": "2cd43fe5-189c-4545-f561-2c3cd3444035",
        "colab": {
          "base_uri": "https://localhost:8080/"
        }
      },
      "source": [
        "!g++ temp.cpp; ./a.out"
      ],
      "execution_count": null,
      "outputs": [
        {
          "output_type": "stream",
          "name": "stdout",
          "text": [
            "Before sort\n",
            "3 4 1 2 \n",
            "After sort\n",
            "4 3 2 1 \n"
          ]
        }
      ]
    },
    {
      "cell_type": "code",
      "metadata": {
        "id": "KwxN6tUsoIXM",
        "outputId": "2489764e-2b1a-4b7b-d7c0-340ff2fbf2dd",
        "colab": {
          "base_uri": "https://localhost:8080/"
        }
      },
      "source": [
        "# enum 列挙型\n",
        "%%writefile temp.cpp\n",
        "# include <bits/stdc++.h>\n",
        "using namespace std;\n",
        "\n",
        "enum Day {\n",
        "  Sun,  // 0\n",
        "  Mon,  // 1\n",
        "  Tue,  // 2\n",
        "  Wed,  // 3\n",
        "  Thu,  // 4\n",
        "  Fri,  // 5\n",
        "  Sat   // 6\n",
        "};\n",
        "\n",
        "int main() {\n",
        "    Day day = Wed;\n",
        "    cout << day << endl;\n",
        "    cout << Sun << endl;\n",
        "}"
      ],
      "execution_count": null,
      "outputs": [
        {
          "output_type": "stream",
          "name": "stdout",
          "text": [
            "Writing temp.cpp\n"
          ]
        }
      ]
    },
    {
      "cell_type": "code",
      "metadata": {
        "id": "Ua4g7D7voIwe",
        "outputId": "c9ca8154-b755-422f-970c-b83ae5a898ce",
        "colab": {
          "base_uri": "https://localhost:8080/"
        }
      },
      "source": [
        "!g++ temp.cpp; ./a.out"
      ],
      "execution_count": null,
      "outputs": [
        {
          "output_type": "stream",
          "name": "stdout",
          "text": [
            "3\n",
            "0\n"
          ]
        }
      ]
    },
    {
      "cell_type": "code",
      "metadata": {
        "id": "mP4SOJOBpbLw",
        "outputId": "d1eb353c-fbce-49bd-9837-a22c713002d9",
        "colab": {
          "base_uri": "https://localhost:8080/"
        }
      },
      "source": [
        "# これでは名前空間を汚してしまって不便なので、enum class がある。\n",
        "%%writefile temp.cpp\n",
        "# include <bits/stdc++.h>\n",
        "using namespace std;\n",
        "\n",
        "enum class Day {\n",
        "  Sun,  // 0\n",
        "  Mon,  // 1\n",
        "  Tue,  // 2\n",
        "  Wed,  // 3\n",
        "  Thu,  // 4\n",
        "  Fri,  // 5\n",
        "  Sat   // 6\n",
        "};\n",
        "\n",
        "int main() {\n",
        "    Day day = Day::Wed;\n",
        "    cout << int(day) << endl;\n",
        "    cout << int(Day::Sun) << endl;\n",
        "}"
      ],
      "execution_count": null,
      "outputs": [
        {
          "output_type": "stream",
          "name": "stdout",
          "text": [
            "Overwriting temp.cpp\n"
          ]
        }
      ]
    },
    {
      "cell_type": "code",
      "metadata": {
        "id": "smD_cR16pat1",
        "outputId": "d2e0814c-3f45-4034-93e9-9a641aac52f7",
        "colab": {
          "base_uri": "https://localhost:8080/"
        }
      },
      "source": [
        "!g++ temp.cpp; ./a.out"
      ],
      "execution_count": null,
      "outputs": [
        {
          "output_type": "stream",
          "name": "stdout",
          "text": [
            "3\n",
            "0\n"
          ]
        }
      ]
    },
    {
      "cell_type": "code",
      "metadata": {
        "id": "ElUDAhDLso_Q",
        "outputId": "c7ff19a2-46ea-477d-9a25-861b4ee61009",
        "colab": {
          "base_uri": "https://localhost:8080/"
        }
      },
      "source": [
        "# 参照型とポインター型\n",
        "%%writefile temp.cpp\n",
        "# include <bits/stdc++.h>\n",
        "using namespace std;\n",
        "\n",
        "int main (){\n",
        "    int x = 100;\n",
        "    int* p = &x; // pはポインター型\n",
        "    int& r = x; // rは参照型\n",
        "\n",
        "    *p = 200;\n",
        "    cout << x << endl;\n",
        "    r = 300;\n",
        "    cout << x << endl;\n",
        "}"
      ],
      "execution_count": null,
      "outputs": [
        {
          "output_type": "stream",
          "name": "stdout",
          "text": [
            "Overwriting temp.cpp\n"
          ]
        }
      ]
    },
    {
      "cell_type": "code",
      "metadata": {
        "id": "NOFgDHRusrs7",
        "outputId": "5e80c4cf-e417-43a8-d3c5-4f4fcc757562",
        "colab": {
          "base_uri": "https://localhost:8080/"
        }
      },
      "source": [
        "!g++ temp.cpp; ./a.out"
      ],
      "execution_count": null,
      "outputs": [
        {
          "output_type": "stream",
          "name": "stdout",
          "text": [
            "200\n",
            "300\n"
          ]
        }
      ]
    },
    {
      "cell_type": "code",
      "metadata": {
        "id": "3tnB25w1zrxL",
        "outputId": "f8068bec-19c8-4b4e-d75c-b4a7f9c6bd93",
        "colab": {
          "base_uri": "https://localhost:8080/"
        }
      },
      "source": [
        "# 関数ポインター、関数オブジェクト\n",
        "%%writefile temp.cpp\n",
        "# include <bits/stdc++.h>\n",
        "using namespace std;\n",
        "\n",
        "int Add(int x, int y) {\n",
        "    return x + y;\n",
        "}\n",
        "\n",
        "int main() {\n",
        "    int (*fp)(int, int) = Add;  // 関数 Add のアドレスを保持する関数ポインター fp\n",
        "    int result = fp(3, 5);      // 関数ポインター fp を介して関数 Add が実行される\n",
        "    cout << result << endl;  // 8\n",
        "}"
      ],
      "execution_count": null,
      "outputs": [
        {
          "output_type": "stream",
          "name": "stdout",
          "text": [
            "Overwriting temp.cpp\n"
          ]
        }
      ]
    },
    {
      "cell_type": "code",
      "metadata": {
        "id": "hxa_wTdV0GCp",
        "outputId": "9f9a80f2-6309-4c8d-8f25-e4595161dde2",
        "colab": {
          "base_uri": "https://localhost:8080/"
        }
      },
      "source": [
        "!g++ temp.cpp; ./a.out"
      ],
      "execution_count": null,
      "outputs": [
        {
          "output_type": "stream",
          "name": "stdout",
          "text": [
            "8\n"
          ]
        }
      ]
    },
    {
      "cell_type": "code",
      "metadata": {
        "id": "UfSNvmIw0P9w",
        "colab": {
          "base_uri": "https://localhost:8080/"
        },
        "outputId": "c63f6561-405e-4bdc-ccd4-de52a22bc2ee"
      },
      "source": [
        "# 関数ポインター\n",
        "%%writefile temp.cpp\n",
        "# include <bits/stdc++.h>\n",
        "using namespace std;\n",
        "\n",
        "int Add(int x, int y) {\n",
        "    return x + y;\n",
        "}\n",
        "\n",
        "int main() {\n",
        "    auto fp = Add;  // 関数 Add のアドレスを保持する関数ポインター fp\n",
        "    \n",
        "    int result = fp(3, 5);      // 関数ポインター fp を介して関数 Add が実行される\n",
        "\n",
        "    cout << result << endl;  // 8\n",
        "}"
      ],
      "execution_count": null,
      "outputs": [
        {
          "output_type": "stream",
          "name": "stdout",
          "text": [
            "Overwriting temp.cpp\n"
          ]
        }
      ]
    },
    {
      "cell_type": "code",
      "metadata": {
        "id": "R5u8ZcTw0lT2",
        "colab": {
          "base_uri": "https://localhost:8080/"
        },
        "outputId": "8d5958a2-b4a7-437e-a3e4-9d58abf26bdb"
      },
      "source": [
        "!g++ temp.cpp; ./a.out"
      ],
      "execution_count": null,
      "outputs": [
        {
          "output_type": "stream",
          "name": "stdout",
          "text": [
            "8\n"
          ]
        }
      ]
    },
    {
      "cell_type": "code",
      "metadata": {
        "id": "AeNX7Mf604JS",
        "colab": {
          "base_uri": "https://localhost:8080/"
        },
        "outputId": "2eb479f6-c1bc-4deb-b056-563c6151f18d"
      },
      "source": [
        "# ラムダ式 lambda expression\n",
        "%%writefile temp.cpp\n",
        "# include <bits/stdc++.h>\n",
        "using namespace std;\n",
        "\n",
        "int main() {\n",
        "    // auto 変数名 = [ キャプチャ ]( 引数リスト ) -> 戻り値の型 { 処理内容 };\n",
        "    auto func = [](int a, int b) -> int { return a + b; };  // int を2つ受け取り、足した結果を返すラムダ式\n",
        "\n",
        "    int result = func(4, 6);\n",
        "    cout << result << endl;  // 10\n",
        "}"
      ],
      "execution_count": null,
      "outputs": [
        {
          "output_type": "stream",
          "name": "stdout",
          "text": [
            "Overwriting temp.cpp\n"
          ]
        }
      ]
    },
    {
      "cell_type": "code",
      "metadata": {
        "id": "DxpK77U703aY",
        "colab": {
          "base_uri": "https://localhost:8080/"
        },
        "outputId": "bdf37412-8544-43bd-d70c-14c5fe050e13"
      },
      "source": [
        "!g++ temp.cpp; ./a.out"
      ],
      "execution_count": null,
      "outputs": [
        {
          "output_type": "stream",
          "name": "stdout",
          "text": [
            "10\n"
          ]
        }
      ]
    },
    {
      "cell_type": "code",
      "metadata": {
        "id": "cKWDI5_27IPT",
        "colab": {
          "base_uri": "https://localhost:8080/"
        },
        "outputId": "93d830a1-978a-42d1-89c0-cdb06a5339e5"
      },
      "source": [
        "# ラムダ式とキャプチャ\n",
        "%%writefile temp.cpp\n",
        "# include <bits/stdc++.h>\n",
        "using namespace std;\n",
        "\n",
        "int main() {\n",
        "    int init = 5;\n",
        "\n",
        "    // キャプチャを指定することで {} 内で変数 init を使うことができる\n",
        "    auto f = [init](int a, int b) { return init + a * b; };   // コピーキャプチャ\n",
        "    auto g = [&init](int a, int b) { return init + a * b; };  // 参照キャプチャ\n",
        "\n",
        "    init = 0;\n",
        "\n",
        "    // 【コピーキャプチャの場合】\n",
        "    //    ラムダ式の定義時点で init がコピーされているので、ラムダ式内の init は 5\n",
        "    int result_copy = f(2, 4);\n",
        "    cout << result_copy << endl;  // 13\n",
        "\n",
        "    // 【参照キャプチャの場合】\n",
        "    //    ラムダ式実行時の init の値が参照されるので、ラムダ式内の init は 0\n",
        "    int result_ref = g(2, 4);\n",
        "    cout << result_ref << endl;   // 8\n",
        "}"
      ],
      "execution_count": null,
      "outputs": [
        {
          "output_type": "stream",
          "name": "stdout",
          "text": [
            "Overwriting temp.cpp\n"
          ]
        }
      ]
    },
    {
      "cell_type": "code",
      "metadata": {
        "id": "TsWShGFw7IEb",
        "colab": {
          "base_uri": "https://localhost:8080/"
        },
        "outputId": "296b1ec9-1b0b-4961-bfd9-d2aaff25a4c7"
      },
      "source": [
        "!g++ temp.cpp; ./a.out"
      ],
      "execution_count": null,
      "outputs": [
        {
          "output_type": "stream",
          "name": "stdout",
          "text": [
            "13\n",
            "8\n"
          ]
        }
      ]
    },
    {
      "cell_type": "code",
      "metadata": {
        "id": "ETai0R3x8wbt",
        "colab": {
          "base_uri": "https://localhost:8080/"
        },
        "outputId": "57f59685-5e77-4d11-e3af-35b44b938955"
      },
      "source": [
        "# 変数に関数を入れる\n",
        "%%writefile temp.cpp\n",
        "# include <bits/stdc++.h>\n",
        "using namespace std;\n",
        "\n",
        "int Add(int x, int y) {\n",
        "    return x + y;\n",
        "}\n",
        "\n",
        "int main() {\n",
        "    function<int(int, int)> f = Add;  // function<戻り値の型(引数の型)> 変数名\n",
        "    int result = f(3, 5);                  // f を介して関数 Add が実行される\n",
        "    cout << result << endl;      // 8\n",
        "\n",
        "    f = [](int x, int y) { return x * y; };  // ラムダ式も保持可能\n",
        "    cout << f(4, 7) << endl;       // 28\n",
        "\n",
        "}"
      ],
      "execution_count": null,
      "outputs": [
        {
          "output_type": "stream",
          "name": "stdout",
          "text": [
            "Overwriting temp.cpp\n"
          ]
        }
      ]
    },
    {
      "cell_type": "code",
      "metadata": {
        "id": "RnKYrFky8wQU",
        "colab": {
          "base_uri": "https://localhost:8080/"
        },
        "outputId": "24550bd9-986e-4567-a76c-f92ae4a42f2b"
      },
      "source": [
        "!g++ temp.cpp; ./a.out"
      ],
      "execution_count": null,
      "outputs": [
        {
          "output_type": "stream",
          "name": "stdout",
          "text": [
            "8\n",
            "28\n"
          ]
        }
      ]
    },
    {
      "cell_type": "code",
      "metadata": {
        "id": "wGId5NXL5RXr",
        "colab": {
          "base_uri": "https://localhost:8080/"
        },
        "outputId": "bf5da055-c8f5-4746-d9b3-48f17bfffea9"
      },
      "source": [
        "# 配列とポインター\n",
        "# vector ではこうはならない\n",
        "# ていうか配列をポインターで使うメリットを感じないのでここから先しばらくは飛ばして良い\n",
        "%%writefile temp.cpp\n",
        "# include <bits/stdc++.h>\n",
        "using namespace std;\n",
        "\n",
        "int main (){\n",
        "    int x[6] = {2, 4, 6, 8, 10};\n",
        "    int* p = x;\n",
        "    cout << *p << endl;        // 2\n",
        "    cout << *(p + 1) << endl;  // 4\n",
        "    cout << *(p + 2) << endl;  // 6\n",
        "    cout << *(p + 3) << endl;  // 8\n",
        "    cout << *(p + 4) << endl;  // 10\n",
        "\n",
        "    cout << *(p + 5) << endl; // 0\n",
        "}"
      ],
      "execution_count": null,
      "outputs": [
        {
          "output_type": "stream",
          "name": "stdout",
          "text": [
            "Overwriting temp.cpp\n"
          ]
        }
      ]
    },
    {
      "cell_type": "code",
      "metadata": {
        "id": "JSaRG4vV5kWr"
      },
      "source": [
        "!g++ temp.cpp; ./a.out"
      ],
      "execution_count": null,
      "outputs": []
    },
    {
      "cell_type": "code",
      "metadata": {
        "id": "3ztmFecm7Bzr",
        "colab": {
          "base_uri": "https://localhost:8080/"
        },
        "outputId": "43087d35-a82e-4376-94d3-5234dd618070"
      },
      "source": [
        "# 次の例で、PrintArray1とPrintArray2は完全に同一\n",
        "# 一見すると、PrintArray1 は配列の個数も渡しているように見えるが、実質はポインターを渡しているだけ\n",
        "#=> warning が出る。多分今風ではないのだろう\n",
        "%%writefile temp.cpp\n",
        "# include <bits/stdc++.h>\n",
        "using namespace std;\n",
        "\n",
        "void PrintArray1(const int x[5]) {\n",
        "    static_assert(sizeof(x)==sizeof(int*), \"\");\n",
        "    for (int i = 0; i < 5; ++i) {\n",
        "        cout << x[i] << endl;\n",
        "    }\n",
        "}\n",
        "\n",
        "void PrintArray2(const int* x) {\n",
        "    for (int i = 0; i < 5; ++i) {\n",
        "        cout << x[i] << endl;\n",
        "    }\n",
        "}\n",
        "\n",
        "int main() {\n",
        "    int x[5] = {0, 1, 2, 3, 4};\n",
        "\n",
        "    PrintArray1(x);\n",
        "    PrintArray2(x);\n",
        "}"
      ],
      "execution_count": null,
      "outputs": [
        {
          "output_type": "stream",
          "name": "stdout",
          "text": [
            "Overwriting temp.cpp\n"
          ]
        }
      ]
    },
    {
      "cell_type": "code",
      "metadata": {
        "id": "4G96oNEY7GNf"
      },
      "source": [
        "!g++ temp.cpp; ./a.out"
      ],
      "execution_count": null,
      "outputs": []
    },
    {
      "cell_type": "code",
      "source": [
        "# 従って、正しくは次のように要素数を渡す必要がある。\n",
        "%%writefile temp.cpp\n",
        "# include <bits/stdc++.h>\n",
        "using namespace std;\n",
        "\n",
        "void PrintArray(const int* x, size_t num) {\n",
        "    for (size_t i = 0; i < num; ++i) {\n",
        "        cout << x[i] << endl;\n",
        "    }\n",
        "}\n",
        "\n",
        "int main() {\n",
        "    constexpr size_t num = 5;\n",
        "    int x[num] = {0, 1, 2, 3, 4};\n",
        "\n",
        "    PrintArray(x, num);\n",
        "}\n"
      ],
      "metadata": {
        "id": "NJ9XFoE_cvMc",
        "outputId": "7d4bd270-5a72-4b77-8524-097418d66b8a",
        "colab": {
          "base_uri": "https://localhost:8080/"
        }
      },
      "execution_count": null,
      "outputs": [
        {
          "output_type": "stream",
          "name": "stdout",
          "text": [
            "Overwriting temp.cpp\n"
          ]
        }
      ]
    },
    {
      "cell_type": "code",
      "source": [
        "!g++ temp.cpp; ./a.out"
      ],
      "metadata": {
        "id": "rz-2MDyKcubk"
      },
      "execution_count": null,
      "outputs": []
    },
    {
      "cell_type": "code",
      "metadata": {
        "id": "T8c8-6a9wmx9",
        "colab": {
          "base_uri": "https://localhost:8080/"
        },
        "outputId": "944fdaa7-d385-403c-c83a-8df3fd03f8db"
      },
      "source": [
        "# 実験 vector version\n",
        "%%writefile temp.cpp\n",
        "# include <bits/stdc++.h>\n",
        "using namespace std;\n",
        "\n",
        "void PrintArray(vector<int> x, size_t num) {\n",
        "    for (size_t i = 0; i < num; ++i) {\n",
        "        cout << x[i] << endl;\n",
        "    }\n",
        "}\n",
        "\n",
        "int main() {\n",
        "    vector<int>  x = {0, 1, 2, 3, 4};\n",
        "\n",
        "    PrintArray(x, x.size());\n",
        "}\n"
      ],
      "execution_count": null,
      "outputs": [
        {
          "output_type": "stream",
          "name": "stdout",
          "text": [
            "Overwriting temp.cpp\n"
          ]
        }
      ]
    },
    {
      "cell_type": "code",
      "metadata": {
        "id": "a9yiiZGRwmm7"
      },
      "source": [
        "!g++ temp.cpp; ./a.out"
      ],
      "execution_count": null,
      "outputs": []
    },
    {
      "cell_type": "code",
      "metadata": {
        "id": "RzhHagqtxnAQ",
        "colab": {
          "base_uri": "https://localhost:8080/"
        },
        "outputId": "fd6e1d3d-9707-42c6-b7f3-023474b85c98"
      },
      "source": [
        "# 実験 C++17 の size を使ってみる\n",
        "%%writefile temp.cpp\n",
        "# include <bits/stdc++.h>\n",
        "using namespace std;\n",
        "\n",
        "void PrintArray(int* x, int num) {\n",
        "    for (int i = 0; i < num; ++i) {\n",
        "        cout << x[i] << endl;\n",
        "    }\n",
        "}\n",
        "\n",
        "int main() {\n",
        "    int x[5] = {0, 1, 2, 3, 4};\n",
        "\n",
        "    PrintArray(x, size(x));\n",
        "}\n"
      ],
      "execution_count": null,
      "outputs": [
        {
          "output_type": "stream",
          "name": "stdout",
          "text": [
            "Overwriting temp.cpp\n"
          ]
        }
      ]
    },
    {
      "cell_type": "code",
      "metadata": {
        "id": "q-amuNJVxnbj"
      },
      "source": [
        "!g++ -std=gnu++17 temp.cpp ; ./a.out"
      ],
      "execution_count": null,
      "outputs": []
    },
    {
      "cell_type": "code",
      "metadata": {
        "id": "9Us2ZKnW0YAM"
      },
      "source": [
        "# C++11では次のようにするとか\n",
        "%%script false\n",
        "\n",
        "#include <cstddef>\n",
        "template <class T, size_t N>\n",
        "constexpr size_t size(const T (&)[N]) noexcept { return N; }"
      ],
      "execution_count": null,
      "outputs": []
    },
    {
      "cell_type": "code",
      "metadata": {
        "id": "otgfcxgx07tJ",
        "colab": {
          "base_uri": "https://localhost:8080/"
        },
        "outputId": "036058e0-3aef-480f-a39d-8a5771fef343"
      },
      "source": [
        "# 実験\n",
        "%%writefile temp.cpp\n",
        "# include <bits/stdc++.h>\n",
        "using namespace std;\n",
        "\n",
        "template <class T, size_t N>\n",
        "constexpr size_t size(const T (&)[N]) noexcept { return N; }\n",
        "\n",
        "void PrintArray(int* x, int num) {\n",
        "    for (int i = 0; i < num; ++i) {\n",
        "        cout << x[i] << endl;\n",
        "    }\n",
        "}\n",
        "\n",
        "int main() {\n",
        "    int x[5] = {0, 1, 2, 3, 4};\n",
        "\n",
        "    PrintArray(x, size(x));\n",
        "}\n"
      ],
      "execution_count": null,
      "outputs": [
        {
          "output_type": "stream",
          "name": "stdout",
          "text": [
            "Overwriting temp.cpp\n"
          ]
        }
      ]
    },
    {
      "cell_type": "code",
      "metadata": {
        "id": "klqMCPUs07g6"
      },
      "source": [
        "!g++ temp.cpp; ./a.out"
      ],
      "execution_count": null,
      "outputs": []
    },
    {
      "cell_type": "code",
      "source": [
        "# テンプレートの文法についてはわからない。学ぶ必要も感じない\n",
        "# array で配列を作ると size() で要素数が取得できる\n",
        "# vector も size() で要素数が取得できる"
      ],
      "metadata": {
        "id": "P9LkU-3weEZ5"
      },
      "execution_count": null,
      "outputs": []
    },
    {
      "cell_type": "code",
      "metadata": {
        "id": "oCq-Cjgs3PGq",
        "colab": {
          "base_uri": "https://localhost:8080/"
        },
        "outputId": "58f02a52-0c1d-44bb-f9eb-d2bc71000de7"
      },
      "source": [
        "# 実験\n",
        "%%writefile temp.cpp\n",
        "# include <bits/stdc++.h>\n",
        "using namespace std;\n",
        "\n",
        "void PrintArray(array<int,5> x, size_t num) {\n",
        "    for (size_t i = 0; i < num; ++i) {\n",
        "        cout << x[i] << endl;\n",
        "    }\n",
        "}\n",
        "\n",
        "int main() {\n",
        "    array<int, 5> x = {0, 1, 2, 3, 4};\n",
        "    PrintArray(x, x.size());\n",
        "}"
      ],
      "execution_count": null,
      "outputs": [
        {
          "output_type": "stream",
          "name": "stdout",
          "text": [
            "Overwriting temp.cpp\n"
          ]
        }
      ]
    },
    {
      "cell_type": "code",
      "metadata": {
        "id": "Yvshq3DR3O_G"
      },
      "source": [
        "!g++ temp.cpp; ./a.out"
      ],
      "execution_count": null,
      "outputs": []
    },
    {
      "cell_type": "code",
      "metadata": {
        "id": "0RQz7vJo5__7",
        "colab": {
          "base_uri": "https://localhost:8080/"
        },
        "outputId": "ea6ffd0b-9c58-4747-f91d-3cb6f72fcd9c"
      },
      "source": [
        "# 実験 cpprefjp.github.io にある例\n",
        "# わからない\n",
        "%%writefile temp.cpp\n",
        "# include <bits/stdc++.h>\n",
        "using namespace std;\n",
        "\n",
        "int main()\n",
        "{\n",
        "  // 3要素のint型配列を定義し、初期化子リストで初期化\n",
        "  array<int, 3> ar = {3, 1, 4};\n",
        "\n",
        "  // size()メンバ関数による要素数取得\n",
        "  for (size_t i = 0; i < ar.size(); ++i) {\n",
        "    ++ar[i]; // operator[]で任意の要素にランダムアクセス\n",
        "  }\n",
        "\n",
        "  // イテレータによる要素の横断\n",
        "  for_each(ar.begin(), ar.end(), [](int x) {\n",
        "    cout << x << endl; // 4 2 5 なので 3 1 4 のそれぞれが 1 増えている ++ar[i] の結果\n",
        "  });\n",
        "}"
      ],
      "execution_count": null,
      "outputs": [
        {
          "output_type": "stream",
          "name": "stdout",
          "text": [
            "Overwriting temp.cpp\n"
          ]
        }
      ]
    },
    {
      "cell_type": "code",
      "metadata": {
        "id": "0qRpGxmz6AhE",
        "colab": {
          "base_uri": "https://localhost:8080/"
        },
        "outputId": "31ad781c-6d47-4b97-8f84-7e765876e7d4"
      },
      "source": [
        "!g++ temp.cpp; ./a.out"
      ],
      "execution_count": null,
      "outputs": [
        {
          "output_type": "stream",
          "name": "stdout",
          "text": [
            "4\n",
            "2\n",
            "5\n"
          ]
        }
      ]
    },
    {
      "cell_type": "code",
      "metadata": {
        "id": "-ikV0bw7sbzr"
      },
      "source": [
        "# タプル tuple \n",
        "# タプル定義のいろいろ\n",
        "%%script false\n",
        "tuple<string, int> person { \"Bob\", 20 };\n",
        "tuple<string, int> person(\"Bob\", 20);\n",
        "tuple<string, int> person = make_tuple(\"Bob\", 20);\n",
        "\n",
        "# 要素の取り出し方\n",
        "get<0>(person);    // \"Bob\"\n",
        "get<1>(person);    // 20"
      ],
      "execution_count": null,
      "outputs": []
    },
    {
      "cell_type": "code",
      "metadata": {
        "id": "okmQrvrmsbAJ",
        "colab": {
          "base_uri": "https://localhost:8080/"
        },
        "outputId": "91dee03a-1910-4df2-a776-df86747b3fd5"
      },
      "source": [
        "# 3項タプル\n",
        "%%writefile temp.cpp\n",
        "# include <bits/stdc++.h>\n",
        "using namespace std;\n",
        "\n",
        "// tuple<string, int, string> person { \"Bob\", 20 , \"usa\"};\n",
        "tuple<string, int, string> person = { \"Bob\", 20 , \"usa\"}; // 同じ\n",
        "\n",
        "int main() {\n",
        "    cout << get<0>(person) << endl;\n",
        "    cout << get<1>(person) << endl;\n",
        "    cout << get<2>(person) << endl;\n",
        "}"
      ],
      "execution_count": null,
      "outputs": [
        {
          "output_type": "stream",
          "name": "stdout",
          "text": [
            "Overwriting temp.cpp\n"
          ]
        }
      ]
    },
    {
      "cell_type": "code",
      "metadata": {
        "id": "JbNRN2QotgwC",
        "colab": {
          "base_uri": "https://localhost:8080/"
        },
        "outputId": "0b4215a8-0d8f-4326-90ae-f8421135aac8"
      },
      "source": [
        "!g++ temp.cpp; ./a.out"
      ],
      "execution_count": null,
      "outputs": [
        {
          "output_type": "stream",
          "name": "stdout",
          "text": [
            "Bob\n",
            "20\n",
            "usa\n"
          ]
        }
      ]
    },
    {
      "cell_type": "code",
      "metadata": {
        "id": "1dS3v0Obtqde",
        "colab": {
          "base_uri": "https://localhost:8080/"
        },
        "outputId": "0e7ce169-65b3-491d-d888-5b011b375dc8"
      },
      "source": [
        "# tie() 関数を使うとタプルの要素を個別の変数に まとめて代入することができる\n",
        "%%writefile temp.cpp\n",
        "# include <bits/stdc++.h>\n",
        "using namespace std;\n",
        "\n",
        "tuple<string, int, string> person { \"Bob\", 20, \"USA\" };\n",
        "\n",
        "int main() {\n",
        "    string name;\n",
        "    int age;\n",
        "    string country;\n",
        "\n",
        "    tie(name, age, country) = person;  // name: \"Bob\", age: 20, country: \"USA\"\n",
        "    cout << name << endl;\n",
        "    cout << age << endl;\n",
        "    cout << country << endl;\n",
        "}"
      ],
      "execution_count": null,
      "outputs": [
        {
          "output_type": "stream",
          "name": "stdout",
          "text": [
            "Overwriting temp.cpp\n"
          ]
        }
      ]
    },
    {
      "cell_type": "code",
      "metadata": {
        "id": "Lv2s5Lm9tqPT",
        "colab": {
          "base_uri": "https://localhost:8080/"
        },
        "outputId": "80a311cc-0bab-4343-c258-49ed4670b344"
      },
      "source": [
        "!g++ temp.cpp; ./a.out"
      ],
      "execution_count": null,
      "outputs": [
        {
          "output_type": "stream",
          "name": "stdout",
          "text": [
            "Bob\n",
            "20\n",
            "USA\n"
          ]
        }
      ]
    },
    {
      "cell_type": "code",
      "metadata": {
        "id": "KuUb7wSiusYL",
        "colab": {
          "base_uri": "https://localhost:8080/"
        },
        "outputId": "dc0d54d6-b294-469d-d49b-9a98eb53dde8"
      },
      "source": [
        "# ペア pair\n",
        "# ペアは2つの値をひとまとめにして扱うことができる\n",
        "# 要素数が2つのタプルと同じか?\n",
        "%%writefile temp.cpp\n",
        "# include <bits/stdc++.h>\n",
        "using namespace std;\n",
        "\n",
        "pair<string, int> person {\"Bob\", 20};\n",
        "\n",
        "int main() {\n",
        "    cout << get<0>(person) << endl;\n",
        "    cout << get<1>(person) << endl;\n",
        "}\n"
      ],
      "execution_count": null,
      "outputs": [
        {
          "output_type": "stream",
          "name": "stdout",
          "text": [
            "Overwriting temp.cpp\n"
          ]
        }
      ]
    },
    {
      "cell_type": "code",
      "metadata": {
        "id": "5ShiQUg4utiR",
        "colab": {
          "base_uri": "https://localhost:8080/"
        },
        "outputId": "3d37be29-480d-401a-b10a-2578191bf6bb"
      },
      "source": [
        "!g++ temp.cpp; ./a.out"
      ],
      "execution_count": null,
      "outputs": [
        {
          "output_type": "stream",
          "name": "stdout",
          "text": [
            "Bob\n",
            "20\n"
          ]
        }
      ]
    },
    {
      "cell_type": "code",
      "metadata": {
        "id": "HiNtfz0fvUMz",
        "colab": {
          "base_uri": "https://localhost:8080/"
        },
        "outputId": "cae8fcc6-eb7d-41e2-992b-552a3ce1d5ac"
      },
      "source": [
        "# pair では first, second が使える。\n",
        "%%writefile temp.cpp\n",
        "# include <bits/stdc++.h>\n",
        "using namespace std;\n",
        "\n",
        "pair<string, int> person {\"Bob\", 20};\n",
        "\n",
        "int main() {\n",
        "    cout << person.first << endl;\n",
        "    cout << person.second << endl;\n",
        "}"
      ],
      "execution_count": null,
      "outputs": [
        {
          "output_type": "stream",
          "name": "stdout",
          "text": [
            "Overwriting temp.cpp\n"
          ]
        }
      ]
    },
    {
      "cell_type": "code",
      "metadata": {
        "id": "fOvNI0OavT7z",
        "colab": {
          "base_uri": "https://localhost:8080/"
        },
        "outputId": "65956810-9cd6-4392-df69-34a41e733d35"
      },
      "source": [
        "!g++ temp.cpp; ./a.out"
      ],
      "execution_count": null,
      "outputs": [
        {
          "output_type": "stream",
          "name": "stdout",
          "text": [
            "Bob\n",
            "20\n"
          ]
        }
      ]
    },
    {
      "cell_type": "code",
      "metadata": {
        "id": "9ekUOgudwBta"
      },
      "source": [
        "# pair の初期化のバリエーション\n",
        "%%script false\n",
        "pair<string, int> person { \"Bob\", 20 };\n",
        "pair<string, int> person(\"Bob\", 20);\n",
        "pair<string, int> person = make_pair(\"Bob\", 20);"
      ],
      "execution_count": null,
      "outputs": []
    },
    {
      "cell_type": "code",
      "metadata": {
        "id": "5pgTJWonwS4z",
        "colab": {
          "base_uri": "https://localhost:8080/"
        },
        "outputId": "55ab56ef-e1ed-4b5b-8db6-3cb1bb108621"
      },
      "source": [
        "# tie() も使える\n",
        "%%writefile temp.cpp\n",
        "# include <bits/stdc++.h>\n",
        "using namespace std;\n",
        "\n",
        "pair<string, int> person { \"Bob\", 20 };\n",
        "\n",
        "int main() {\n",
        "    string name;\n",
        "    int age;\n",
        "\n",
        "    tie(name, age) = person;  // name: \"Bob\", age: 20\n",
        "\n",
        "    cout << name << endl;\n",
        "    cout << age << endl;\n",
        "}"
      ],
      "execution_count": null,
      "outputs": [
        {
          "output_type": "stream",
          "name": "stdout",
          "text": [
            "Overwriting temp.cpp\n"
          ]
        }
      ]
    },
    {
      "cell_type": "code",
      "metadata": {
        "id": "WekxnR4_wSrL"
      },
      "source": [
        "!g++ temp.cpp; ./a.out"
      ],
      "execution_count": null,
      "outputs": []
    },
    {
      "cell_type": "code",
      "metadata": {
        "id": "X1pCjiDNCNFK",
        "colab": {
          "base_uri": "https://localhost:8080/"
        },
        "outputId": "4fbf51da-ec3d-43f9-8914-cbb99419dce2"
      },
      "source": [
        "# ベクター vector\n",
        "# 要素数を実行時に変更できる配列\n",
        "%%writefile temp.cpp\n",
        "# include <bits/stdc++.h>\n",
        "using namespace std;\n",
        "\n",
        "int main() {\n",
        "    vector<int> x = {0, 1, 2, 3, 4};\n",
        "    x[2] = 10;\n",
        "    auto size = x.size();  // 5\n",
        "\n",
        "    cout << x[2] << endl;\n",
        "    cout << x.size() << endl;\n",
        "}"
      ],
      "execution_count": null,
      "outputs": [
        {
          "output_type": "stream",
          "name": "stdout",
          "text": [
            "Overwriting temp.cpp\n"
          ]
        }
      ]
    },
    {
      "cell_type": "code",
      "metadata": {
        "id": "bhsBLkQHCMn-",
        "colab": {
          "base_uri": "https://localhost:8080/"
        },
        "outputId": "871788a0-ab27-4055-ad8b-97b5d3dcb339"
      },
      "source": [
        "!g++ temp.cpp; ./a.out"
      ],
      "execution_count": null,
      "outputs": [
        {
          "output_type": "stream",
          "name": "stdout",
          "text": [
            "10\n",
            "5\n"
          ]
        }
      ]
    },
    {
      "cell_type": "code",
      "metadata": {
        "id": "ix0D9yUwF5De",
        "colab": {
          "base_uri": "https://localhost:8080/"
        },
        "outputId": "386faddd-8d9d-4bb4-e66b-35765f1436e2"
      },
      "source": [
        "# vector の実験\n",
        "%%writefile temp.cpp\n",
        "# include <bits/stdc++.h>\n",
        "using namespace std;\n",
        "\n",
        "int main() {\n",
        "    vector<int> x = {0, 1, 2, 3, 4};\n",
        "    auto size1 = x.size();  // 5\n",
        "    cout << size1 << endl;\n",
        "\n",
        "    x.emplace_back(5); // 質問 push_back と何が違うのか?\n",
        "    auto size2 = x.size();  // 6\n",
        "    cout << x[5] << endl;\n",
        "    cout << size2 << endl;\n",
        "\n",
        "    x.pop_back();\n",
        "    auto size3 = x.size();  // 5\n",
        "    cout << size3 << endl;\n",
        "}"
      ],
      "execution_count": null,
      "outputs": [
        {
          "output_type": "stream",
          "name": "stdout",
          "text": [
            "Overwriting temp.cpp\n"
          ]
        }
      ]
    },
    {
      "cell_type": "code",
      "metadata": {
        "id": "jieTZe1pF5dm",
        "colab": {
          "base_uri": "https://localhost:8080/"
        },
        "outputId": "b54e418d-62d2-46ea-8a57-c8478e641524"
      },
      "source": [
        "!g++ temp.cpp; ./a.out"
      ],
      "execution_count": null,
      "outputs": [
        {
          "output_type": "stream",
          "name": "stdout",
          "text": [
            "5\n",
            "5\n",
            "6\n",
            "5\n"
          ]
        }
      ]
    },
    {
      "cell_type": "code",
      "metadata": {
        "id": "kMqkQGnQHHIt",
        "colab": {
          "base_uri": "https://localhost:8080/"
        },
        "outputId": "b6a12d0a-1f0e-40d7-8f56-30eac0ddb1ce"
      },
      "source": [
        "# ベクターの先頭ポインターの取得 x.data()\n",
        "%%writefile temp.cpp\n",
        "# include <bits/stdc++.h>\n",
        "using namespace std;\n",
        "\n",
        "int main() {\n",
        "    vector<int> x = {4, 300, 2, 1, 0};\n",
        "    auto px = x.data();  // 先頭ポインター\n",
        "    auto num = *px;  // 4\n",
        "\n",
        "    cout << px << endl;\n",
        "    cout << num << endl;\n",
        "    cout << *(px + 2) << endl; // C の配列みたいなことが出来る!!!!\n",
        "}"
      ],
      "execution_count": null,
      "outputs": [
        {
          "output_type": "stream",
          "name": "stdout",
          "text": [
            "Overwriting temp.cpp\n"
          ]
        }
      ]
    },
    {
      "cell_type": "code",
      "metadata": {
        "id": "blvPc8zwHHhJ",
        "colab": {
          "base_uri": "https://localhost:8080/"
        },
        "outputId": "4babca94-a25e-4af8-f52d-4fdd57b0fddf"
      },
      "source": [
        "!g++ temp.cpp; ./a.out"
      ],
      "execution_count": null,
      "outputs": [
        {
          "output_type": "stream",
          "name": "stdout",
          "text": [
            "0x555d41842020\n",
            "4\n",
            "2\n"
          ]
        }
      ]
    },
    {
      "cell_type": "code",
      "metadata": {
        "id": "g0782Y5kLLBZ",
        "colab": {
          "base_uri": "https://localhost:8080/"
        },
        "outputId": "3959f740-842e-465e-d66b-6d99e2ab5b62"
      },
      "source": [
        "# マップ 連想配列 \n",
        "# 連想配列 associative array は、C++ では map として実装される\n",
        "# 別途 unordered_map もある\n",
        "# map はキーでソートしてデータを管理するのに対し、unordered_map はキーから計算する\n",
        "# ハッシュでデータを管理するので、パフォーマンスは unordered_map の方が優れている\n",
        "%%writefile temp.cpp\n",
        "# include <bits/stdc++.h>\n",
        "using namespace std;\n",
        "\n",
        "unordered_map<string, int> persons = {\n",
        "    {\"Alice\", 18},\n",
        "    {\"Bob\", 20}\n",
        "};\n",
        "\n",
        "int main(){\n",
        "    cout << persons[\"Alice\"] << endl;  // 18\n",
        "    cout << persons[\"Bob\"] << endl;    // 20\n",
        "    persons.insert({\"Eve\", 19});\n",
        "    persons.erase(\"Bob\");\n",
        "    cout << persons[\"Eve\"] << endl;    // 19\n",
        "}"
      ],
      "execution_count": null,
      "outputs": [
        {
          "output_type": "stream",
          "name": "stdout",
          "text": [
            "Overwriting temp.cpp\n"
          ]
        }
      ]
    },
    {
      "cell_type": "code",
      "metadata": {
        "id": "rzKPw379LLmh",
        "colab": {
          "base_uri": "https://localhost:8080/"
        },
        "outputId": "f7be1a83-7101-483e-85fc-2b40b8e29f15"
      },
      "source": [
        "!g++ temp.cpp; ./a.out"
      ],
      "execution_count": null,
      "outputs": [
        {
          "output_type": "stream",
          "name": "stdout",
          "text": [
            "18\n",
            "20\n",
            "19\n"
          ]
        }
      ]
    },
    {
      "cell_type": "code",
      "metadata": {
        "id": "vFy_wNC0TGwI",
        "colab": {
          "base_uri": "https://localhost:8080/"
        },
        "outputId": "f87318b4-5308-423d-e5c9-065637baa539"
      },
      "source": [
        "# セット set 集合\n",
        "# set または unordered_set という型で任意の型の集合を扱う。\n",
        "# パーフォーマンスは unordered_set の方が高い。\n",
        "%%writefile temp.cpp\n",
        "# include <bits/stdc++.h>\n",
        "using namespace std;\n",
        "\n",
        "unordered_set<string> persons = {\n",
        "    \"Alice\",\n",
        "    \"Bob\"\n",
        "};\n",
        "\n",
        "int main (){\n",
        "    persons.insert(\"Eve\");\n",
        "    persons.erase(\"Bob\");\n",
        "    for(auto x : persons) {\n",
        "        cout << x << endl;     // 要素を順に表示\n",
        "    }\n",
        "\n",
        "}"
      ],
      "execution_count": null,
      "outputs": [
        {
          "output_type": "stream",
          "name": "stdout",
          "text": [
            "Overwriting temp.cpp\n"
          ]
        }
      ]
    },
    {
      "cell_type": "code",
      "metadata": {
        "id": "loQE4HyRTGeF",
        "colab": {
          "base_uri": "https://localhost:8080/"
        },
        "outputId": "d3ee9877-81cb-4658-85b7-a837a412a871"
      },
      "source": [
        "!g++ temp.cpp; ./a.out"
      ],
      "execution_count": null,
      "outputs": [
        {
          "output_type": "stream",
          "name": "stdout",
          "text": [
            "Eve\n",
            "Alice\n"
          ]
        }
      ]
    },
    {
      "cell_type": "code",
      "metadata": {
        "id": "3M9qpQsxU1vX",
        "colab": {
          "base_uri": "https://localhost:8080/"
        },
        "outputId": "17a08257-402c-4348-8d0a-4e8db574a45c"
      },
      "source": [
        "# イテレーター iterator\n",
        "# イテレーターを使うとポインターの処理が共通化できる、とか。\n",
        "%%writefile temp.cpp\n",
        "# include <bits/stdc++.h>\n",
        "using namespace std;\n",
        "\n",
        "vector<int> x = {0, 1, 2, 3, 4};\n",
        "\n",
        "int main (){\n",
        "    // begin() でコンテナ内の先頭要素を指すイテレータを取得\n",
        "    auto it = x.begin();\n",
        "\n",
        "    // イテレータを使用して要素を出力\n",
        "    cout << *it << endl;  // 0\n",
        "\n",
        "    // イテレータを1つ進める\n",
        "    ++it;\n",
        "\n",
        "    // イテレータを使用して要素を出力\n",
        "    cout << *it << endl;  // 1\n",
        "}"
      ],
      "execution_count": null,
      "outputs": [
        {
          "output_type": "stream",
          "name": "stdout",
          "text": [
            "Overwriting temp.cpp\n"
          ]
        }
      ]
    },
    {
      "cell_type": "code",
      "metadata": {
        "id": "h0XOIGndU2LZ",
        "colab": {
          "base_uri": "https://localhost:8080/"
        },
        "outputId": "f2e8776b-b1d9-4750-9533-d1bc7a7bdf9a"
      },
      "source": [
        "!g++ temp.cpp; ./a.out"
      ],
      "execution_count": null,
      "outputs": [
        {
          "output_type": "stream",
          "name": "stdout",
          "text": [
            "0\n",
            "1\n"
          ]
        }
      ]
    },
    {
      "cell_type": "code",
      "metadata": {
        "id": "mhrKHIzct44X"
      },
      "source": [
        "# begin() end()\n",
        "%%writefile temp.cpp\n",
        "# include <bits/stdc++.h>\n",
        "using namespace std;\n",
        "\n",
        "vector<int> x = {0, 1, 2, 3, 4};\n",
        "\n",
        "int main (){\n",
        "    // end() でコンテナ内の最終要素の1つ先を指すイテレータを取得\n",
        "    for (auto it = x.begin(); it != x.end(); ++it) {\n",
        "        cout << *it << endl;\n",
        "    }\n",
        "}"
      ],
      "execution_count": null,
      "outputs": []
    },
    {
      "cell_type": "code",
      "metadata": {
        "id": "KySbv1Zst4nT",
        "colab": {
          "base_uri": "https://localhost:8080/"
        },
        "outputId": "fb9b390a-30c8-47e1-c2ed-caa4891c4ba0"
      },
      "source": [
        "!g++ temp.cpp; ./a.out"
      ],
      "execution_count": null,
      "outputs": [
        {
          "output_type": "stream",
          "name": "stdout",
          "text": [
            "0\n",
            "1\n",
            "2\n",
            "3\n",
            "4\n"
          ]
        }
      ]
    },
    {
      "cell_type": "code",
      "metadata": {
        "id": "Aq0WhTheuZch",
        "colab": {
          "base_uri": "https://localhost:8080/"
        },
        "outputId": "d01c5314-9678-4d48-cbbc-7ee3a1ab3af1"
      },
      "source": [
        "# unordered_set\n",
        "%%writefile temp.cpp\n",
        "# include <bits/stdc++.h>\n",
        "using namespace std;\n",
        "\n",
        "unordered_set<string> x = {\"Bob\", \"Me\", \"Papa\", \"Bob\"};\n",
        "\n",
        "int main (){\n",
        "    // end() でコンテナ内の最終要素の1つ先を指すイテレータを取得\n",
        "    for (auto it = x.begin(); it != x.end(); ++it) {\n",
        "        cout << *it << endl;\n",
        "    }\n",
        "}"
      ],
      "execution_count": null,
      "outputs": [
        {
          "output_type": "stream",
          "name": "stdout",
          "text": [
            "Overwriting temp.cpp\n"
          ]
        }
      ]
    },
    {
      "cell_type": "code",
      "metadata": {
        "id": "F31WtlbXuZQJ",
        "colab": {
          "base_uri": "https://localhost:8080/"
        },
        "outputId": "609ffa4f-b82c-46c0-daeb-3e2ff0a0f3a9"
      },
      "source": [
        "!g++ temp.cpp; ./a.out"
      ],
      "execution_count": null,
      "outputs": [
        {
          "output_type": "stream",
          "name": "stdout",
          "text": [
            "Papa\n",
            "Me\n",
            "Bob\n"
          ]
        }
      ]
    },
    {
      "cell_type": "code",
      "metadata": {
        "id": "QO3GU-pewozo",
        "colab": {
          "base_uri": "https://localhost:8080/"
        },
        "outputId": "0ec314cf-1667-41c8-e0a7-3ca2c54b340b"
      },
      "source": [
        "# count_if\n",
        "%%writefile temp.cpp\n",
        "# include <bits/stdc++.h>\n",
        "using namespace std;\n",
        "\n",
        "vector<int> x = {0, 1, 2, 3, 4};\n",
        "\n",
        "int main (){\n",
        "    // count_if は条件を満たすコンテナ要素の個数を数える処理\n",
        "    //   - 第1引数と第2引数で範囲を指定\n",
        "    //   - 第3引数で関数オブジェクトで条件を指定\n",
        "    auto n = count_if(x.begin(), x.end(), [](const int v) {\n",
        "        // 0 より大きい 2 の倍数\n",
        "        if (v <= 0) {\n",
        "            return false;\n",
        "        }\n",
        "        if (v % 2 != 0) {\n",
        "            return false;\n",
        "        }\n",
        "        return true;\n",
        "    });\n",
        "    cout << n << endl;  // 2\n",
        "}"
      ],
      "execution_count": null,
      "outputs": [
        {
          "output_type": "stream",
          "name": "stdout",
          "text": [
            "Overwriting temp.cpp\n"
          ]
        }
      ]
    },
    {
      "cell_type": "code",
      "metadata": {
        "id": "3ChdZa8wwooS",
        "colab": {
          "base_uri": "https://localhost:8080/"
        },
        "outputId": "2421e607-ca70-42df-a8fb-4a46b3a815c4"
      },
      "source": [
        "!g++ temp.cpp; ./a.out"
      ],
      "execution_count": null,
      "outputs": [
        {
          "output_type": "stream",
          "name": "stdout",
          "text": [
            "2\n"
          ]
        }
      ]
    },
    {
      "cell_type": "code",
      "metadata": {
        "id": "y8g65mfrxRHo",
        "colab": {
          "base_uri": "https://localhost:8080/"
        },
        "outputId": "65ad9825-d34c-443e-bb3a-1d2a497ad53c"
      },
      "source": [
        "# map イテレーター\n",
        "%%writefile temp.cpp\n",
        "# include <bits/stdc++.h>\n",
        "using namespace std;\n",
        "\n",
        "map<string, int> persons = {\n",
        "    {\"Alice\", 18},\n",
        "    {\"Bob\", 20}\n",
        "};\n",
        "\n",
        "int main (){\n",
        "    for (auto it = persons.begin(); it != persons.end(); ++it) {\n",
        "        const auto& person = *it;  // pair<string, int>\n",
        "        const string& name = person.first;\n",
        "        const int age = person.second;\n",
        "        cout << name << \": \" << age << endl;\n",
        "    }\n",
        "}"
      ],
      "execution_count": null,
      "outputs": [
        {
          "output_type": "stream",
          "name": "stdout",
          "text": [
            "Overwriting temp.cpp\n"
          ]
        }
      ]
    },
    {
      "cell_type": "code",
      "metadata": {
        "id": "81iU-FZuxQ3m",
        "colab": {
          "base_uri": "https://localhost:8080/"
        },
        "outputId": "eeebb8c5-7342-4e6d-d6d4-b264ecec06fd"
      },
      "source": [
        "!g++ temp.cpp; ./a.out"
      ],
      "execution_count": null,
      "outputs": [
        {
          "output_type": "stream",
          "name": "stdout",
          "text": [
            "Alice: 18\n",
            "Bob: 20\n"
          ]
        }
      ]
    },
    {
      "cell_type": "code",
      "metadata": {
        "id": "Jv9sVfI6yQvL",
        "colab": {
          "base_uri": "https://localhost:8080/"
        },
        "outputId": "3dc7957e-1445-4823-ff9c-627097c010e1"
      },
      "source": [
        "# vector イテレーター\n",
        "%%writefile temp.cpp\n",
        "# include <bits/stdc++.h>\n",
        "using namespace std;\n",
        "\n",
        "vector<int> x = {0, 1, 2, 3, 4};\n",
        "\n",
        "int main (){\n",
        "    auto it = x.begin();\n",
        "    cout << *it << endl;  // 0\n",
        "\n",
        "    ++it;  // 前に進める\n",
        "    cout << *it << endl;  // 1\n",
        "\n",
        "    --it;  // 後ろへ戻す\n",
        "    cout << *it << endl;  // 0\n",
        "\n",
        "    it = it + 3;  // 3つ前に進める\n",
        "    cout << *it << endl;  // 3\n",
        "\n",
        "    // it は変更せずに it から2つ後ろへ戻した要素を参照\n",
        "    cout << it[-2] << endl;  // 1 (it から2つ後ろへ戻した要素)\n",
        "    cout << *it << endl;  // 3 (it は変更されていない)\n",
        "}"
      ],
      "execution_count": null,
      "outputs": [
        {
          "output_type": "stream",
          "name": "stdout",
          "text": [
            "Overwriting temp.cpp\n"
          ]
        }
      ]
    },
    {
      "cell_type": "code",
      "metadata": {
        "id": "az8KpEeOyQmI",
        "colab": {
          "base_uri": "https://localhost:8080/"
        },
        "outputId": "1dd3e38d-112d-4e81-fa44-050de1424cc7"
      },
      "source": [
        "!g++ temp.cpp; ./a.out"
      ],
      "execution_count": null,
      "outputs": [
        {
          "output_type": "stream",
          "name": "stdout",
          "text": [
            "0\n",
            "1\n",
            "0\n",
            "3\n",
            "1\n",
            "3\n"
          ]
        }
      ]
    },
    {
      "cell_type": "code",
      "metadata": {
        "id": "7ayHoBKozZe3",
        "colab": {
          "base_uri": "https://localhost:8080/"
        },
        "outputId": "f285f028-1d30-4a65-da5d-dee6bf9fe11d"
      },
      "source": [
        "# vector iterator\n",
        "%%writefile temp.cpp\n",
        "# include <bits/stdc++.h>\n",
        "using namespace std;\n",
        "\n",
        "vector<int> x = {0, 1, 2, 3, 4, 5, 6};\n",
        "\n",
        "int main (){\n",
        "    auto it1 = x.begin() + 2;\n",
        "    auto it2 = x.begin() + 3;\n",
        "    auto it3 = x.begin() + 4;\n",
        "    cout << *it1 << endl;  // 2\n",
        "    cout << *it2 << endl;  // 3\n",
        "    cout << *it3 << endl;  // 4\n",
        "\n",
        "    x.erase(x.begin() + 3);  // index=3 の要素を削除\n",
        "\n",
        "    cout << *it1 << endl;  // 2 (有効なまま)\n",
        "    cout << *it2 << endl;  // 未定義動作 (無効化される) => されない\n",
        "    cout << *it3 << endl;  // 未定義動作 (無効化される) => されない\n",
        "}"
      ],
      "execution_count": null,
      "outputs": [
        {
          "output_type": "stream",
          "name": "stdout",
          "text": [
            "Overwriting temp.cpp\n"
          ]
        }
      ]
    },
    {
      "cell_type": "code",
      "metadata": {
        "id": "osym1JErzZSS"
      },
      "source": [
        "!g++ temp.cpp; ./a.out"
      ],
      "execution_count": null,
      "outputs": []
    },
    {
      "cell_type": "code",
      "metadata": {
        "id": "SCC_-rmp1PSe",
        "outputId": "8caaa26c-4701-480b-bc56-47eb86b949b4",
        "colab": {
          "base_uri": "https://localhost:8080/"
        }
      },
      "source": [
        "# 範囲for\n",
        "%%writefile temp.cpp\n",
        "# include <bits/stdc++.h>\n",
        "using namespace std;\n",
        "\n",
        "vector<int> x = {0, 1, 2, 3, 4};\n",
        "\n",
        "int main (){\n",
        "    for (auto it = x.begin(); it != x.end(); ++it) {\n",
        "        cout << *it << endl;\n",
        "    }\n",
        "}"
      ],
      "execution_count": null,
      "outputs": [
        {
          "output_type": "stream",
          "name": "stdout",
          "text": [
            "Overwriting temp.cpp\n"
          ]
        }
      ]
    },
    {
      "cell_type": "code",
      "metadata": {
        "id": "L3ySkqeJ1PE-",
        "outputId": "48756d37-fe7d-47b5-937e-67a96343a91e",
        "colab": {
          "base_uri": "https://localhost:8080/"
        }
      },
      "source": [
        "!g++ temp.cpp; ./a.out"
      ],
      "execution_count": null,
      "outputs": [
        {
          "output_type": "stream",
          "name": "stdout",
          "text": [
            "0\n",
            "1\n",
            "2\n",
            "3\n",
            "4\n"
          ]
        }
      ]
    },
    {
      "cell_type": "code",
      "metadata": {
        "id": "3xVtGjAK112z"
      },
      "source": [
        "# 範囲for\n",
        "%%writefile temp.cpp\n",
        "# include <bits/stdc++.h>\n",
        "using namespace std;\n",
        "\n",
        "vector<int> x = {0, 1, 2, 3, 4};\n",
        "\n",
        "int main (){\n",
        "    for (auto&& it : x) {\n",
        "        cout << it << endl;\n",
        "    }\n",
        "}"
      ],
      "execution_count": null,
      "outputs": []
    },
    {
      "cell_type": "code",
      "metadata": {
        "id": "m5WVTrEe11p8"
      },
      "source": [
        "!g++ temp.cpp; ./a.out"
      ],
      "execution_count": null,
      "outputs": []
    },
    {
      "cell_type": "code",
      "metadata": {
        "id": "7fONu8mdD9g8",
        "outputId": "9064bdd8-0e7d-4e81-ca1d-91deff3e4aa0",
        "colab": {
          "base_uri": "https://localhost:8080/"
        }
      },
      "source": [
        "# 入力値の型指定\n",
        "%%writefile temp.cpp\n",
        "# include <bits/stdc++.h>\n",
        "using namespace std;\n",
        "\n",
        "int main() {\n",
        "    int x = 0;\n",
        "\n",
        "    cout << \"整数を入力してください: \";\n",
        "    if (cin >> x) {\n",
        "        cout << \"入力した整数は \" << x << \" です。\" << endl;\n",
        "    } else {\n",
        "        cout << \"不正な入力です。\" << endl;\n",
        "    }\n",
        "}"
      ],
      "execution_count": null,
      "outputs": [
        {
          "output_type": "stream",
          "name": "stdout",
          "text": [
            "Writing temp.cpp\n"
          ]
        }
      ]
    },
    {
      "cell_type": "code",
      "metadata": {
        "id": "a_yKgt1oD9TH",
        "colab": {
          "base_uri": "https://localhost:8080/"
        },
        "outputId": "8301fda1-1e30-4387-e461-bc4c7ee96308"
      },
      "source": [
        "!g++ temp.cpp; echo 3 | ./a.out\n",
        "!echo カレー | ./a.out"
      ],
      "execution_count": null,
      "outputs": [
        {
          "output_type": "stream",
          "name": "stdout",
          "text": [
            "整数を入力してください: 入力した整数は 3 です。\n",
            "整数を入力してください: 不正な入力です。\n"
          ]
        }
      ]
    },
    {
      "cell_type": "code",
      "metadata": {
        "id": "udzHxHTCgDVU",
        "colab": {
          "base_uri": "https://localhost:8080/"
        },
        "outputId": "e93b296c-b4a5-4302-a4ae-f93caf242f25"
      },
      "source": [
        "# メモリー領域 スタックとヒープ\n",
        "%%writefile temp.cpp\n",
        "# include <bits/stdc++.h>\n",
        "using namespace std;\n",
        "\n",
        "void Function() {\n",
        "    int x = 100; // ローカル変数xはスタックに確保される。\n",
        "    int y = 200; // ローカル変数yはスタックに確保される。\n",
        "} // 関数の終了とともに変数 x, y はスタックから取り除かれる。\n",
        "  // スタックはLIFO（後入れ先出し）形式のため y, x の順で取り除かれる。\n",
        "\n",
        "int main() {\n",
        "    Function();\n",
        "}"
      ],
      "execution_count": null,
      "outputs": [
        {
          "output_type": "stream",
          "name": "stdout",
          "text": [
            "Overwriting temp.cpp\n"
          ]
        }
      ]
    },
    {
      "cell_type": "code",
      "metadata": {
        "id": "8qNcblpBgDx3"
      },
      "source": [
        "!g++ temp.cpp; ./a.out"
      ],
      "execution_count": null,
      "outputs": []
    },
    {
      "cell_type": "code",
      "metadata": {
        "id": "RhmsT-COgSc5"
      },
      "source": [
        "%%script false\n",
        "int* p1 = new int(100);  // p1 は new で確保されたメモリ領域を指すポインター\n",
        "int* p2 = new int[5];    // 配列の場合は [] を付ける\n",
        "\n",
        "delete p1;    // new によって確保されたメモリを delete で解放\n",
        "delete[] p2;  // 配列の場合は [] を付ける"
      ],
      "execution_count": null,
      "outputs": []
    },
    {
      "cell_type": "code",
      "source": [
        "# malloc/free を利用することでもメモリの確保・解放は可能だが、C++ での利用は推奨されていない。"
      ],
      "metadata": {
        "id": "Gs73afxaglGF"
      },
      "execution_count": null,
      "outputs": []
    },
    {
      "cell_type": "markdown",
      "metadata": {
        "id": "pgPzh-ZAguAn"
      },
      "source": [
        ""
      ]
    },
    {
      "cell_type": "code",
      "metadata": {
        "id": "KkVhcYxUgSGB",
        "colab": {
          "base_uri": "https://localhost:8080/"
        },
        "outputId": "f2060fea-f27d-46f9-9830-91fa4346c539"
      },
      "source": [
        "# ディープコピーとシャローコピー\n",
        "%%writefile temp.cpp\n",
        "# include <bits/stdc++.h>\n",
        "using namespace std;\n",
        "\n",
        "int main() {\n",
        "    int x = 100;\n",
        "    int y = x; // x を y へディープコピー\n",
        "    y = 50; // y を 50 に書き換える\n",
        "    cout << x << endl; // x は100のまま\n",
        "}"
      ],
      "execution_count": null,
      "outputs": [
        {
          "output_type": "stream",
          "name": "stdout",
          "text": [
            "Overwriting temp.cpp\n"
          ]
        }
      ]
    },
    {
      "cell_type": "code",
      "metadata": {
        "id": "AJ0aZruNhHsM",
        "colab": {
          "base_uri": "https://localhost:8080/"
        },
        "outputId": "83a430e8-c44e-422b-b6bf-60d24e930b9a"
      },
      "source": [
        "!g++ temp.cpp; ./a.out"
      ],
      "execution_count": null,
      "outputs": [
        {
          "output_type": "stream",
          "name": "stdout",
          "text": [
            "100\n"
          ]
        }
      ]
    },
    {
      "cell_type": "code",
      "metadata": {
        "id": "tJMvzzPfhLWZ",
        "colab": {
          "base_uri": "https://localhost:8080/"
        },
        "outputId": "58565d41-5793-445b-f196-22f82a239b1c"
      },
      "source": [
        "# ディープコピーとシャローコピー2\n",
        "%%writefile temp.cpp\n",
        "# include <bits/stdc++.h>\n",
        "using namespace std;\n",
        "\n",
        "int main() {\n",
        "    int* x = new int(100);\n",
        "    int* y = x; // x を y へシャローコピー\n",
        "    *y = 50; // y が指す先の値を 50 に書き換える\n",
        "    cout << *x << endl; // x が指す先の値も 50 になる\n",
        "}"
      ],
      "execution_count": null,
      "outputs": [
        {
          "output_type": "stream",
          "name": "stdout",
          "text": [
            "Overwriting temp.cpp\n"
          ]
        }
      ]
    },
    {
      "cell_type": "code",
      "metadata": {
        "id": "ltuT6im4hK9o",
        "colab": {
          "base_uri": "https://localhost:8080/"
        },
        "outputId": "2ca4bde0-4115-4a57-f13a-97de0fc26f36"
      },
      "source": [
        "!g++ temp.cpp; ./a.out"
      ],
      "execution_count": null,
      "outputs": [
        {
          "output_type": "stream",
          "name": "stdout",
          "text": [
            "50\n"
          ]
        }
      ]
    },
    {
      "cell_type": "code",
      "metadata": {
        "id": "CEbSkDZ-hkMa",
        "colab": {
          "base_uri": "https://localhost:8080/"
        },
        "outputId": "7b239a27-11bd-4435-b442-6a45ef32dd81"
      },
      "source": [
        "# ディープコピーとシャローコピー3\n",
        "%%writefile temp.cpp\n",
        "# include <bits/stdc++.h>\n",
        "using namespace std;\n",
        "\n",
        "void ChangeToFifty1(int v) {  // ディープコピー\n",
        "    v = 50;\n",
        "}\n",
        "\n",
        "void ChangeToFifty2(int* v) {  // シャローコピー\n",
        "    *v = 50;\n",
        "}\n",
        "\n",
        "int main() {\n",
        "    int a = 100;\n",
        "    ChangeToFifty1(a);\n",
        "    cout << a << endl;  // 100\n",
        "\n",
        "    int b = 100;\n",
        "    ChangeToFifty2(&b);\n",
        "    cout << b << endl;  // 50\n",
        "}"
      ],
      "execution_count": null,
      "outputs": [
        {
          "output_type": "stream",
          "name": "stdout",
          "text": [
            "Overwriting temp.cpp\n"
          ]
        }
      ]
    },
    {
      "cell_type": "code",
      "metadata": {
        "id": "evveHUdShj-8",
        "colab": {
          "base_uri": "https://localhost:8080/"
        },
        "outputId": "04b8a9b9-f6d9-4ca9-9b45-fc537f447ba4"
      },
      "source": [
        "!g++ temp.cpp; ./a.out"
      ],
      "execution_count": null,
      "outputs": [
        {
          "output_type": "stream",
          "name": "stdout",
          "text": [
            "100\n",
            "50\n"
          ]
        }
      ]
    },
    {
      "cell_type": "code",
      "metadata": {
        "id": "0p5g855EiWif",
        "colab": {
          "base_uri": "https://localhost:8080/"
        },
        "outputId": "6f4a8034-85a5-4376-86cb-1a982df3a40f"
      },
      "source": [
        "# ムーブセマンティクス move semantics %%\n",
        "%%writefile temp.cpp\n",
        "# include <bits/stdc++.h>\n",
        "using namespace std;\n",
        "\n",
        "void Print(string&) {\n",
        "    cout << \"左辺値参照\" << endl;\n",
        "}\n",
        "\n",
        "void Print(string&&) {\n",
        "    cout << \"右辺値参照\" << endl;\n",
        "}\n",
        "\n",
        "int main() {\n",
        "    string str = \"hoge\";\n",
        "\n",
        "    Print(str);\n",
        "    Print(move(str));\n",
        "}"
      ],
      "execution_count": null,
      "outputs": [
        {
          "output_type": "stream",
          "name": "stdout",
          "text": [
            "Overwriting temp.cpp\n"
          ]
        }
      ]
    },
    {
      "cell_type": "code",
      "metadata": {
        "id": "cEIx86hPiW6A",
        "colab": {
          "base_uri": "https://localhost:8080/"
        },
        "outputId": "724c5bbf-16fa-42d9-8177-2d7c443bb6bf"
      },
      "source": [
        "!g++ temp.cpp; ./a.out"
      ],
      "execution_count": null,
      "outputs": [
        {
          "output_type": "stream",
          "name": "stdout",
          "text": [
            "左辺値参照\n",
            "右辺値参照\n"
          ]
        }
      ]
    },
    {
      "cell_type": "code",
      "metadata": {
        "id": "cR4nEzYoi_oD",
        "colab": {
          "base_uri": "https://localhost:8080/"
        },
        "outputId": "e7837c52-c7fa-458f-c5c4-1514b36fdc89"
      },
      "source": [
        "# スマートポインター\n",
        "%%writefile temp.cpp\n",
        "# include <bits/stdc++.h>\n",
        "using namespace std;\n",
        "\n",
        "int main() {\n",
        "    shared_ptr<int> x = make_shared<int>(100); // int* x = new int(100); の代わり\n",
        "                                                         // 所有者は1人。\n",
        "    {\n",
        "        shared_ptr<int> y = x; // 通常のポインター同様、コピーすることで所有権が共有される\n",
        "                                    // 所有者が2人に増える。\n",
        "        cout << *y << endl;\n",
        "    } // y が破棄されて所有者が1人になる。\n",
        "\n",
        "    cout << *x << endl;\n",
        "} // 所有者が0人になるので、 x のデストラクタで自動的に delete が行われる。"
      ],
      "execution_count": null,
      "outputs": [
        {
          "output_type": "stream",
          "name": "stdout",
          "text": [
            "Overwriting temp.cpp\n"
          ]
        }
      ]
    },
    {
      "cell_type": "code",
      "metadata": {
        "id": "uqwoT0HXi_XI",
        "colab": {
          "base_uri": "https://localhost:8080/"
        },
        "outputId": "b7b08fce-926d-4628-887a-9410d2faa5a8"
      },
      "source": [
        "!g++ temp.cpp; ./a.out"
      ],
      "execution_count": null,
      "outputs": [
        {
          "output_type": "stream",
          "name": "stdout",
          "text": [
            "100\n",
            "100\n"
          ]
        }
      ]
    },
    {
      "cell_type": "code",
      "metadata": {
        "id": "-_2KYQfVjvxX",
        "colab": {
          "base_uri": "https://localhost:8080/"
        },
        "outputId": "bd543d87-e9c5-4dbb-8cbf-9fcff749055e"
      },
      "source": [
        "# ユニークポインター\n",
        "%%writefile temp.cpp\n",
        "# include <bits/stdc++.h>\n",
        "using namespace std;\n",
        "\n",
        "int main() {\n",
        "    unique_ptr<int> x(new int(100));\n",
        "    // unique_ptr<int> y = x; // コピー出来ない。コンパイルエラー。\n",
        "\n",
        "    cout << *x << endl;\n",
        "} // x が所有しているリソースが解放される。"
      ],
      "execution_count": null,
      "outputs": [
        {
          "output_type": "stream",
          "name": "stdout",
          "text": [
            "Overwriting temp.cpp\n"
          ]
        }
      ]
    },
    {
      "cell_type": "code",
      "metadata": {
        "id": "Asar4r6rjvga",
        "colab": {
          "base_uri": "https://localhost:8080/"
        },
        "outputId": "11665883-83f0-482b-e84b-75e5b4e1a3b7"
      },
      "source": [
        "!g++ temp.cpp; ./a.out"
      ],
      "execution_count": null,
      "outputs": [
        {
          "output_type": "stream",
          "name": "stdout",
          "text": [
            "100\n"
          ]
        }
      ]
    },
    {
      "cell_type": "code",
      "metadata": {
        "id": "d6s5jLpBkBzu",
        "colab": {
          "base_uri": "https://localhost:8080/"
        },
        "outputId": "7e7732d2-312a-4525-e9aa-57cfcd767f5b"
      },
      "source": [
        "# move による所有権の移動\n",
        "%%writefile temp.cpp\n",
        "# include <bits/stdc++.h>\n",
        "using namespace std;\n",
        "\n",
        "int main() {\n",
        "    unique_ptr<int> x(new int(100));\n",
        "    unique_ptr<int> y(move(x)); // ムーブは出来るため、所有権の移動は可能。\n",
        "                                          // 所有権を移動したため、x は何も所有していない。\n",
        "\n",
        "    cout << *y << endl;\n",
        "} // y が所有しているリソースが解放される。"
      ],
      "execution_count": null,
      "outputs": [
        {
          "output_type": "stream",
          "name": "stdout",
          "text": [
            "Overwriting temp.cpp\n"
          ]
        }
      ]
    },
    {
      "cell_type": "code",
      "metadata": {
        "id": "9zCx1Vq9kBnU",
        "colab": {
          "base_uri": "https://localhost:8080/"
        },
        "outputId": "913ae32c-51b7-4060-eb74-ced92bb15b19"
      },
      "source": [
        "!g++ temp.cpp; ./a.out"
      ],
      "execution_count": null,
      "outputs": [
        {
          "output_type": "stream",
          "name": "stdout",
          "text": [
            "100\n"
          ]
        }
      ]
    },
    {
      "cell_type": "markdown",
      "metadata": {
        "id": "r8hhb8oZkuPS"
      },
      "source": [
        ""
      ]
    },
    {
      "cell_type": "code",
      "metadata": {
        "id": "RU8Ebl0dkTaR",
        "colab": {
          "base_uri": "https://localhost:8080/"
        },
        "outputId": "0f4f1273-8736-4a62-e855-24e6609f98b9"
      },
      "source": [
        "# `auto_ptr` は C++11 では非推奨となっており C++17 では削除されている。\n",
        "%%writefile temp.cpp\n",
        "# include <bits/stdc++.h>\n",
        "using namespace std;\n",
        "\n",
        "int main() {\n",
        "    shared_ptr<int> sp = make_shared<int>(246);\n",
        "    weak_ptr<int> wp = sp; // sp を監視対象として wp に登録する\n",
        "\n",
        "    shared_ptr<int> sp2 = wp.lock(); // 有効な場合は sp とリソースを共有する sp2 が作られる\n",
        "    if (sp2) {\n",
        "        cout << *sp2 << endl;\n",
        "    } else {\n",
        "        cout << \"リソースは解放済み\" << endl;\n",
        "    }\n",
        "}"
      ],
      "execution_count": null,
      "outputs": [
        {
          "output_type": "stream",
          "name": "stdout",
          "text": [
            "Overwriting temp.cpp\n"
          ]
        }
      ]
    },
    {
      "cell_type": "code",
      "metadata": {
        "id": "ECCTf-SPkTOm",
        "colab": {
          "base_uri": "https://localhost:8080/"
        },
        "outputId": "a3627871-6c43-4859-a184-d6019816f2f3"
      },
      "source": [
        "!g++ temp.cpp; ./a.out"
      ],
      "execution_count": null,
      "outputs": [
        {
          "output_type": "stream",
          "name": "stdout",
          "text": [
            "246\n"
          ]
        }
      ]
    },
    {
      "cell_type": "code",
      "metadata": {
        "id": "mEiZTT_bl4WU",
        "colab": {
          "base_uri": "https://localhost:8080/"
        },
        "outputId": "7ad3aa3d-5e08-4b49-81fe-bef0cca2ae31"
      },
      "source": [
        "# 継承 inheritance\n",
        "%%writefile temp.cpp\n",
        "# include <bits/stdc++.h>\n",
        "using namespace std;\n",
        "\n",
        "class Rectangle {\n",
        " public:\n",
        "    int Area() const {\n",
        "       return height_ * width_;\n",
        "    }\n",
        "\n",
        "    int height_;\n",
        "    int width_;\n",
        "};\n",
        "\n",
        "class Square : public Rectangle {\n",
        " public:\n",
        "    void SetSize(int size) {\n",
        "        height_ = size;\n",
        "        width_ = size;\n",
        "    }\n",
        "};\n",
        "\n",
        "int main() {\n",
        "    Square s;\n",
        "    s.SetSize(10);\n",
        "    cout << s.Area() << endl;\n",
        "}"
      ],
      "execution_count": null,
      "outputs": [
        {
          "output_type": "stream",
          "name": "stdout",
          "text": [
            "Overwriting temp.cpp\n"
          ]
        }
      ]
    },
    {
      "cell_type": "code",
      "metadata": {
        "id": "83PtdK7gl4mj",
        "colab": {
          "base_uri": "https://localhost:8080/"
        },
        "outputId": "b930522a-54bd-4fa1-dfdd-2c098c942476"
      },
      "source": [
        "!g++ temp.cpp; ./a.out"
      ],
      "execution_count": null,
      "outputs": [
        {
          "output_type": "stream",
          "name": "stdout",
          "text": [
            "100\n"
          ]
        }
      ]
    },
    {
      "cell_type": "code",
      "metadata": {
        "id": "bWKVzFpkm-W0",
        "colab": {
          "base_uri": "https://localhost:8080/"
        },
        "outputId": "74a62b6d-802e-4b59-eff5-76a0fbf5f11d"
      },
      "source": [
        "# Polymorphism 再び\n",
        "%%writefile temp.cpp\n",
        "# include <bits/stdc++.h>\n",
        "using namespace std;\n",
        "\n",
        "class Rectangle {\n",
        " public:\n",
        "    int Area() const {\n",
        "        return height_ * width_;\n",
        "    }\n",
        "\n",
        "    int height_;\n",
        "    int width_;\n",
        "};\n",
        "\n",
        "class Square : public Rectangle {\n",
        " public:\n",
        "    void SetSize(int size) {\n",
        "        height_ = size;\n",
        "        width_ = size;\n",
        "    }\n",
        "};\n",
        "\n",
        "int main() {\n",
        "    Square s;\n",
        "    s.SetSize(10);\n",
        "\n",
        "    const Rectangle& r = s;\n",
        "    cout << \"area = \" << r.Area() << endl;\n",
        "}"
      ],
      "execution_count": null,
      "outputs": [
        {
          "output_type": "stream",
          "name": "stdout",
          "text": [
            "Overwriting temp.cpp\n"
          ]
        }
      ]
    },
    {
      "cell_type": "code",
      "metadata": {
        "id": "Jj2Lvom83SKl",
        "colab": {
          "base_uri": "https://localhost:8080/"
        },
        "outputId": "ad099539-bb57-4650-a842-2b16f0227957"
      },
      "source": [
        "!g++ temp.cpp; ./a.out"
      ],
      "execution_count": null,
      "outputs": [
        {
          "output_type": "stream",
          "name": "stdout",
          "text": [
            "area = 100\n"
          ]
        }
      ]
    },
    {
      "cell_type": "code",
      "metadata": {
        "id": "-S1ZsOoj3rXX",
        "colab": {
          "base_uri": "https://localhost:8080/"
        },
        "outputId": "2dae9d94-a10f-49f9-bf77-195e3cb5adf9"
      },
      "source": [
        "# override\n",
        "%%writefile temp.cpp\n",
        "# include <bits/stdc++.h>\n",
        "using namespace std;\n",
        "\n",
        "class Rectangle {\n",
        " public:\n",
        "    virtual void Describe() const {\n",
        "        cout << \"height = \" << height_ << endl;\n",
        "        cout << \"width = \" << width_ << endl;\n",
        "    }\n",
        "\n",
        "    int height_;\n",
        "    int width_;\n",
        "};\n",
        "\n",
        "class Square : public Rectangle {\n",
        " public:\n",
        "    void SetSize(int size) {\n",
        "        height_ = size;\n",
        "        width_ = size;\n",
        "    }\n",
        "\n",
        "    void Describe() const override {\n",
        "        cout << \"size = \" << height_ << endl;\n",
        "    }\n",
        "};\n",
        "\n",
        "int main() {\n",
        "    Square s;\n",
        "    s.SetSize(10);\n",
        "\n",
        "    const Rectangle& r = s;\n",
        "    r.Describe();\n",
        "}"
      ],
      "execution_count": null,
      "outputs": [
        {
          "output_type": "stream",
          "name": "stdout",
          "text": [
            "Overwriting temp.cpp\n"
          ]
        }
      ]
    },
    {
      "cell_type": "code",
      "metadata": {
        "id": "MqteWDOZ30Bt",
        "colab": {
          "base_uri": "https://localhost:8080/"
        },
        "outputId": "8eb84d1f-b557-4b90-d8ad-179b430e356d"
      },
      "source": [
        "!g++ temp.cpp; ./a.out"
      ],
      "execution_count": null,
      "outputs": [
        {
          "output_type": "stream",
          "name": "stdout",
          "text": [
            "size = 10\n"
          ]
        }
      ]
    },
    {
      "cell_type": "code",
      "metadata": {
        "id": "BJk9W95v3rHY"
      },
      "source": [
        "# 純粋仮想関数とインターフェイス\n",
        "# 定義をもたない仮想関数を純粋仮想関数いう。 \n",
        "# 純粋仮想関数にするには仮想関数に = 0 をつける。\n",
        "# 純粋仮想関数があるクラスのオブジェクトは作ることができない。\n",
        "# C++ にはインターフェースクラスをつくるための専用の記法はないため、 \n",
        "# メンバ関数がすべて純粋仮想関数であるクラスをインターフェースとして使う。\n",
        "%%script false\n",
        "class Polygon {\n",
        " public:\n",
        "    virtual int Area() const = 0;\n",
        "};\n",
        "\n",
        "class Rectangle : public Polygon {\n",
        " public:\n",
        "    int Area() const override {\n",
        "        return height_ * width_;\n",
        "    }\n",
        "\n",
        "    int height_;\n",
        "    int width_;\n",
        "};"
      ],
      "execution_count": null,
      "outputs": []
    },
    {
      "cell_type": "code",
      "metadata": {
        "id": "P0Q4-B8pGRUn",
        "colab": {
          "base_uri": "https://localhost:8080/"
        },
        "outputId": "d882ed63-fa02-450d-f9aa-67671e79b107"
      },
      "source": [
        "# デストラクタ destructor\n",
        "%%writefile temp.cpp\n",
        "# include <bits/stdc++.h>\n",
        "using namespace std;\n",
        "\n",
        "class DynamicArray {\n",
        " public:\n",
        "    DynamicArray(int size, int initial_value) {\n",
        "        data_ = new int[size];\n",
        "        for (auto i = 0; i < size; ++i) {\n",
        "            data_[i] = initial_value;\n",
        "        }\n",
        "    }\n",
        "\n",
        "    ~DynamicArray() {\n",
        "        cout << \"DynamicArray::~DynamicArray() is called.\" << endl;\n",
        "        delete[] data_;\n",
        "    }\n",
        "\n",
        "    void Set(int index, int value) {\n",
        "        data_[index] = value;\n",
        "    }\n",
        "\n",
        "    int Get(int index) const {\n",
        "        return data_[index];\n",
        "    }\n",
        "\n",
        " private:\n",
        "    int* data_;\n",
        "};\n",
        "\n",
        "int main() {\n",
        "    DynamicArray d(5, 1);\n",
        "    cout << d.Get(2) << endl;\n",
        "    d.Set(2, 10);\n",
        "    cout << d.Get(2) << endl;\n",
        "}"
      ],
      "execution_count": null,
      "outputs": [
        {
          "output_type": "stream",
          "name": "stdout",
          "text": [
            "Overwriting temp.cpp\n"
          ]
        }
      ]
    },
    {
      "cell_type": "code",
      "metadata": {
        "id": "Y8ye_qXqGRFq",
        "colab": {
          "base_uri": "https://localhost:8080/"
        },
        "outputId": "ccda2e54-c56a-49fc-f249-f9a974fe58c8"
      },
      "source": [
        "!g++ temp.cpp; ./a.out"
      ],
      "execution_count": null,
      "outputs": [
        {
          "output_type": "stream",
          "name": "stdout",
          "text": [
            "1\n",
            "10\n",
            "DynamicArray::~DynamicArray() is called.\n"
          ]
        }
      ]
    },
    {
      "cell_type": "code",
      "metadata": {
        "id": "xNahHr68HCJ3",
        "colab": {
          "base_uri": "https://localhost:8080/"
        },
        "outputId": "964d61ae-4c2e-4e22-9e88-731dc2cee9a6"
      },
      "source": [
        "# \n",
        "%%writefile temp.cpp\n",
        "# include <bits/stdc++.h>\n",
        "using namespace std;\n",
        "\n",
        "class BasicArray {\n",
        " public:\n",
        "    ~BasicArray() {\n",
        "        cout << \"BasicArray::~BasicArray() is called.\" << endl;\n",
        "    }\n",
        "\n",
        "    virtual void Set(int index, int value) = 0;\n",
        "    virtual int Get(int index) const = 0;\n",
        "};\n",
        "\n",
        "class DynamicArray : public BasicArray {\n",
        " public:\n",
        "    DynamicArray(int size, int initial_value) {\n",
        "        data_ = new int[size];\n",
        "        for (auto i = 0; i < size; ++i) {\n",
        "            data_[i] = initial_value;\n",
        "        }\n",
        "    }\n",
        "\n",
        "    ~DynamicArray() {\n",
        "        cout << \"DynamicArray::~DynamicArray() is called.\" << endl;\n",
        "        delete[] data_;\n",
        "    }\n",
        "\n",
        "    void Set(int index, int value) { data_[index] = value; }\n",
        "\n",
        "    int Get(int index) const { return data_[index]; }\n",
        "\n",
        " private:\n",
        "    int* data_;\n",
        "};\n",
        "\n",
        "int main() {\n",
        "    unique_ptr<BasicArray> b(new DynamicArray(5, 1));\n",
        "    cout << b->Get(2) << endl;\n",
        "    b->Set(2, 10);\n",
        "    cout << b->Get(2) << endl;\n",
        "}"
      ],
      "execution_count": null,
      "outputs": [
        {
          "output_type": "stream",
          "name": "stdout",
          "text": [
            "Overwriting temp.cpp\n"
          ]
        }
      ]
    },
    {
      "cell_type": "code",
      "metadata": {
        "id": "Y4rrLNDzHB7m",
        "colab": {
          "base_uri": "https://localhost:8080/"
        },
        "outputId": "f1b9f243-4d7f-44ba-c535-e196ac495767"
      },
      "source": [
        "!g++ temp.cpp; ./a.out"
      ],
      "execution_count": null,
      "outputs": [
        {
          "output_type": "stream",
          "name": "stdout",
          "text": [
            "1\n",
            "10\n",
            "BasicArray::~BasicArray() is called.\n"
          ]
        }
      ]
    },
    {
      "cell_type": "code",
      "metadata": {
        "id": "srTvyXp_HphZ",
        "colab": {
          "base_uri": "https://localhost:8080/"
        },
        "outputId": "5cc8ecae-dc2e-4fbd-dfd7-aa39ee3e286d"
      },
      "source": [
        "# \n",
        "%%writefile temp.cpp\n",
        "# include <bits/stdc++.h>\n",
        "using namespace std;\n",
        "\n",
        "class BasicArray {\n",
        " public:\n",
        "    virtual ~BasicArray() {\n",
        "        cout << \"BasicArray::~BasicArray() is called.\" << endl;\n",
        "    }\n",
        "\n",
        "    virtual void Set(int index, int value) = 0;\n",
        "    virtual int Get(int index) const = 0;\n",
        "};\n",
        "\n",
        "class DynamicArray : public BasicArray {\n",
        " public:\n",
        "    DynamicArray(int size, int initial_value) {\n",
        "        data_ = new int[size];\n",
        "        for (auto i = 0; i < size; ++i) {\n",
        "            data_[i] = initial_value;\n",
        "        }\n",
        "    }\n",
        "\n",
        "    ~DynamicArray() override {\n",
        "        cout << \"DynamicArray::~DynamicArray() is called.\" << endl;\n",
        "        delete[] data_;\n",
        "    }\n",
        "\n",
        "    void Set(int index, int value) { data_[index] = value; }\n",
        "\n",
        "    int Get(int index) const { return data_[index]; }\n",
        "\n",
        " private:\n",
        "    int* data_;\n",
        "};\n",
        "\n",
        "int main() {\n",
        "    unique_ptr<BasicArray> b(new DynamicArray(5, 1));\n",
        "    cout << b->Get(2) << endl;\n",
        "    b->Set(2, 10);\n",
        "    cout << b->Get(2) << endl;\n",
        "}"
      ],
      "execution_count": null,
      "outputs": [
        {
          "output_type": "stream",
          "name": "stdout",
          "text": [
            "Overwriting temp.cpp\n"
          ]
        }
      ]
    },
    {
      "cell_type": "code",
      "metadata": {
        "id": "YEsQ1oy5HpNV",
        "colab": {
          "base_uri": "https://localhost:8080/"
        },
        "outputId": "da55219c-afd8-4d8e-eb42-e429dd111cf7"
      },
      "source": [
        "!g++ temp.cpp; ./a.out"
      ],
      "execution_count": null,
      "outputs": [
        {
          "output_type": "stream",
          "name": "stdout",
          "text": [
            "1\n",
            "10\n",
            "DynamicArray::~DynamicArray() is called.\n",
            "BasicArray::~BasicArray() is called.\n"
          ]
        }
      ]
    },
    {
      "cell_type": "code",
      "metadata": {
        "id": "1JOxThaPJMlt",
        "colab": {
          "base_uri": "https://localhost:8080/"
        },
        "outputId": "20c7d727-0e68-40f2-d2a6-ef6331c64add"
      },
      "source": [
        "# 演算子オーバーロード operator overloading\n",
        "# 単項演算子 unary operator\n",
        "%%writefile temp.cpp\n",
        "# include <bits/stdc++.h>\n",
        "\n",
        "using namespace std;\n",
        "\n",
        "class Integer {\n",
        " public:\n",
        "    explicit Integer(int value) : value_(value) {}\n",
        "\n",
        "    int Value() const {\n",
        "        return value_;\n",
        "    }\n",
        "\n",
        " private:\n",
        "    int value_;\n",
        "};\n",
        "\n",
        "// 負号演算子の対象が引数として渡される\n",
        "Integer operator-(const Integer& v) {\n",
        "    Integer tmp(-v.Value());\n",
        "    return tmp;\n",
        "}\n",
        "\n",
        "int main (){\n",
        "    Integer a(2);\n",
        "    Integer b = -a;\n",
        "\n",
        "    cout << a.Value() << endl;  // 2\n",
        "    cout << b.Value() << endl;  // -2\n",
        "}"
      ],
      "execution_count": null,
      "outputs": [
        {
          "output_type": "stream",
          "name": "stdout",
          "text": [
            "Overwriting temp.cpp\n"
          ]
        }
      ]
    },
    {
      "cell_type": "code",
      "metadata": {
        "id": "5YtJtEETJJ9P",
        "colab": {
          "base_uri": "https://localhost:8080/"
        },
        "outputId": "534fc730-6867-4a54-b349-1490602082d3"
      },
      "source": [
        "!g++ temp.cpp; ./a.out"
      ],
      "execution_count": null,
      "outputs": [
        {
          "output_type": "stream",
          "name": "stdout",
          "text": [
            "2\n",
            "-2\n"
          ]
        }
      ]
    },
    {
      "cell_type": "code",
      "metadata": {
        "id": "Va3o9zqmJJj5",
        "colab": {
          "base_uri": "https://localhost:8080/"
        },
        "outputId": "f01dc151-2c68-43d3-acb4-07f07ff37c68"
      },
      "source": [
        "#\n",
        "%%writefile temp.cpp\n",
        "# include <bits/stdc++.h>\n",
        "using namespace std;\n",
        "\n",
        "class Integer {\n",
        " public:\n",
        "    explicit Integer(int value) : value_(value) {}\n",
        "\n",
        "    int Value() const {\n",
        "        return value_;\n",
        "    }\n",
        "\n",
        "    // 負号演算子の対象のメンバ関数\n",
        "    Integer operator-() const {\n",
        "        Integer tmp(-Value());  // 演算対象は自オブジェクトを使用する\n",
        "        return tmp;\n",
        "    }\n",
        "\n",
        " private:\n",
        "    int value_;\n",
        "};\n",
        "\n",
        "int main (){\n",
        "    Integer a(2);\n",
        "    Integer b = -a;\n",
        "\n",
        "    cout << a.Value() << endl;  // 2\n",
        "    cout << b.Value() << endl;  // -2\n",
        "}"
      ],
      "execution_count": null,
      "outputs": [
        {
          "output_type": "stream",
          "name": "stdout",
          "text": [
            "Overwriting temp.cpp\n"
          ]
        }
      ]
    },
    {
      "cell_type": "code",
      "metadata": {
        "id": "qrkaBUn5Jh0l",
        "colab": {
          "base_uri": "https://localhost:8080/"
        },
        "outputId": "888f34f7-cb0b-4b77-b02f-dce2448c5ee3"
      },
      "source": [
        "!g++ temp.cpp; ./a.out"
      ],
      "execution_count": null,
      "outputs": [
        {
          "output_type": "stream",
          "name": "stdout",
          "text": [
            "2\n",
            "-2\n"
          ]
        }
      ]
    },
    {
      "cell_type": "code",
      "metadata": {
        "id": "E21TSGceKVj4",
        "colab": {
          "base_uri": "https://localhost:8080/"
        },
        "outputId": "8d0a7cd9-56c4-4278-9eac-3f1befd04e9d"
      },
      "source": [
        "# 二項演算子 binary operator\n",
        "%%writefile temp.cpp\n",
        "# include <bits/stdc++.h>\n",
        "using namespace std;\n",
        "\n",
        "class Integer {\n",
        " public:\n",
        "    explicit Integer(int value) : value_(value) {}\n",
        "\n",
        "    int Value() const {\n",
        "        return value_;\n",
        "    }\n",
        "\n",
        " private:\n",
        "    int value_;\n",
        "};\n",
        "\n",
        "// 加算演算子の左辺が第1引数、右辺が第2引数として渡される\n",
        "Integer operator+(const Integer& lhs, const Integer& rhs) {\n",
        "    Integer tmp(lhs.Value() + rhs.Value());\n",
        "    return tmp;\n",
        "}\n",
        "\n",
        "int main (){\n",
        "    Integer a(2);\n",
        "    Integer b(3);\n",
        "    Integer c = a + b;\n",
        "\n",
        "    cout << a.Value() << endl;  // 2\n",
        "    cout << b.Value() << endl;  // 3\n",
        "    cout << c.Value() << endl;  // 5    \n",
        "}\n"
      ],
      "execution_count": null,
      "outputs": [
        {
          "output_type": "stream",
          "name": "stdout",
          "text": [
            "Overwriting temp.cpp\n"
          ]
        }
      ]
    },
    {
      "cell_type": "code",
      "metadata": {
        "id": "Y_h7LQyzKVR2",
        "colab": {
          "base_uri": "https://localhost:8080/"
        },
        "outputId": "69baa20d-b561-4725-8a9c-fde5fa874c27"
      },
      "source": [
        "!g++ temp.cpp; ./a.out"
      ],
      "execution_count": null,
      "outputs": [
        {
          "output_type": "stream",
          "name": "stdout",
          "text": [
            "2\n",
            "3\n",
            "5\n"
          ]
        }
      ]
    },
    {
      "cell_type": "code",
      "metadata": {
        "id": "kgkl4fm0LAOU",
        "colab": {
          "base_uri": "https://localhost:8080/"
        },
        "outputId": "9bc22125-55c5-4136-f913-9a25965997ad"
      },
      "source": [
        "# \n",
        "%%writefile temp.cpp\n",
        "# include <bits/stdc++.h>\n",
        "using namespace std;\n",
        "\n",
        "class Integer {\n",
        " public:\n",
        "    explicit Integer(int value) : value_(value) {}\n",
        "\n",
        "    int Value() const {\n",
        "        return value_;\n",
        "    }\n",
        "\n",
        "    // 加算演算子の左辺のメンバ関数に対して、右辺が引数として渡される\n",
        "    Integer operator+(const Integer& rhs) const {\n",
        "        Integer tmp(Value() + rhs.Value());  // 左辺は自オブジェクトを使用する\n",
        "        return tmp;\n",
        "    }\n",
        "\n",
        " private:\n",
        "    int value_;\n",
        "};\n",
        "\n",
        "int main (){\n",
        "    Integer a(2);\n",
        "    Integer b(3);\n",
        "    Integer c = a + b;\n",
        "\n",
        "    cout << a.Value() << endl;  // 2\n",
        "    cout << b.Value() << endl;  // 3\n",
        "    cout << c.Value() << endl;  // 5    \n",
        "}\n"
      ],
      "execution_count": null,
      "outputs": [
        {
          "output_type": "stream",
          "name": "stdout",
          "text": [
            "Overwriting temp.cpp\n"
          ]
        }
      ]
    },
    {
      "cell_type": "code",
      "metadata": {
        "id": "Sf9Nd-GnK_8A",
        "colab": {
          "base_uri": "https://localhost:8080/"
        },
        "outputId": "5bb94a01-ad7e-46fb-904f-3e83daa5719a"
      },
      "source": [
        "!g++ temp.cpp; ./a.out"
      ],
      "execution_count": null,
      "outputs": [
        {
          "output_type": "stream",
          "name": "stdout",
          "text": [
            "2\n",
            "3\n",
            "5\n"
          ]
        }
      ]
    },
    {
      "cell_type": "code",
      "metadata": {
        "id": "Y_UVe-JkL8SP"
      },
      "source": [
        "# 整数クラスと実数クラスの二項演算子\n",
        "%%script false\n",
        "class Integer {\n",
        " public:\n",
        "    explicit Integer(int value) : value_(value) {}\n",
        "\n",
        "    int Value() const {\n",
        "        return value_;\n",
        "    }\n",
        "\n",
        " private:\n",
        "    int value_;\n",
        "};\n",
        "\n",
        "class RealNumber {\n",
        " public:\n",
        "    explicit RealNumber(double value) : value_(value) {}\n",
        "\n",
        "    double Value() const {\n",
        "        return value_;\n",
        "    }\n",
        "\n",
        " private:\n",
        "    double value_;\n",
        "};\n",
        "\n",
        "RealNumber operator+(const Integer& lhs, const RealNumber& rhs) {\n",
        "    RealNumber tmp(lhs.Value() + rhs.Value());\n",
        "    return tmp;\n",
        "}\n",
        "\n",
        "RealNumber operator+(const RealNumber& lhs, const Integer& rhs) {\n",
        "    RealNumber tmp(lhs.Value() + rhs.Value());\n",
        "    return tmp;\n",
        "}"
      ],
      "execution_count": null,
      "outputs": []
    },
    {
      "cell_type": "code",
      "metadata": {
        "id": "v6NkGfdANLn7",
        "colab": {
          "base_uri": "https://localhost:8080/"
        },
        "outputId": "3c9883af-14d3-4282-b505-df54b6fa9fb4"
      },
      "source": [
        "# インクリメント/デクリメント/前置/後置 increment/decrement/prefix/postfix\n",
        "# 前置インクリメント\n",
        "%%writefile temp.cpp\n",
        "# include <bits/stdc++.h>\n",
        "using namespace std;\n",
        "\n",
        "class Integer {\n",
        " public:\n",
        "    explicit Integer(int value) : value_(value) {}\n",
        "\n",
        "    int Value() const {\n",
        "        return value_;\n",
        "    }\n",
        "\n",
        "    Integer& operator++() {\n",
        "        ++value_;\n",
        "        return *this;\n",
        "    }\n",
        "\n",
        " private:\n",
        "    int value_;\n",
        "};\n",
        "\n",
        "int main (){\n",
        "    Integer a(2);\n",
        "    Integer b = ++a;\n",
        "\n",
        "    cout << a.Value() << endl;  // 3\n",
        "    cout << b.Value() << endl;  // 3\n",
        "}"
      ],
      "execution_count": null,
      "outputs": [
        {
          "output_type": "stream",
          "name": "stdout",
          "text": [
            "Overwriting temp.cpp\n"
          ]
        }
      ]
    },
    {
      "cell_type": "code",
      "metadata": {
        "id": "itU86hHZNMtr",
        "colab": {
          "base_uri": "https://localhost:8080/"
        },
        "outputId": "64a2fbcc-1682-40e0-b6c4-518abb9e7bbb"
      },
      "source": [
        "!g++ temp.cpp; ./a.out"
      ],
      "execution_count": null,
      "outputs": [
        {
          "output_type": "stream",
          "name": "stdout",
          "text": [
            "3\n",
            "3\n"
          ]
        }
      ]
    },
    {
      "cell_type": "code",
      "metadata": {
        "id": "LE1ckRhTQ2r3",
        "colab": {
          "base_uri": "https://localhost:8080/"
        },
        "outputId": "36b1cc1f-c5bf-4942-d169-33ad0f041c32"
      },
      "source": [
        "# 後置インクリメント\n",
        "%%writefile temp.cpp\n",
        "# include <bits/stdc++.h>\n",
        "using namespace std;\n",
        "\n",
        "class Integer {\n",
        " public:\n",
        "    explicit Integer(int value) : value_(value) {}\n",
        "\n",
        "    int Value() const {\n",
        "        return value_;\n",
        "    }\n",
        "\n",
        "    Integer operator++(int) {  // 引数の int は使用しない\n",
        "        Integer tmp(Value());\n",
        "        ++value_;\n",
        "        return tmp;\n",
        "    }\n",
        "\n",
        " private:\n",
        "    int value_;\n",
        "};\n",
        "\n",
        "int main (){\n",
        "    Integer a(2);\n",
        "    Integer b = a++;\n",
        "\n",
        "    cout << a.Value() << endl;  // 3\n",
        "    cout << b.Value() << endl;  // 2\n",
        "}"
      ],
      "execution_count": null,
      "outputs": [
        {
          "output_type": "stream",
          "name": "stdout",
          "text": [
            "Overwriting temp.cpp\n"
          ]
        }
      ]
    },
    {
      "cell_type": "code",
      "metadata": {
        "id": "S1-9KxlOQ2aE",
        "colab": {
          "base_uri": "https://localhost:8080/"
        },
        "outputId": "5158088f-f2e6-4405-bd84-41c97ab95f95"
      },
      "source": [
        "!g++ temp.cpp; ./a.out"
      ],
      "execution_count": null,
      "outputs": [
        {
          "output_type": "stream",
          "name": "stdout",
          "text": [
            "3\n",
            "2\n"
          ]
        }
      ]
    },
    {
      "cell_type": "code",
      "metadata": {
        "id": "vnEUk5sG5UlU",
        "colab": {
          "base_uri": "https://localhost:8080/"
        },
        "outputId": "bf4d6a1c-9f34-4309-e5ca-b40628568393"
      },
      "source": [
        "# 関数テンプレート\n",
        "# 型やコンパイル時に定まる値をパラメータ化する機能\n",
        "# 型に依存せず処理を共通化するために使用される。\n",
        "%%writefile temp.cpp\n",
        "# include <bits/stdc++.h>\n",
        "using namespace std;\n",
        "\n",
        "template <typename T>\n",
        "T Sum(T a, T b) {\n",
        "    return a + b;\n",
        "}\n",
        "int main(){\n",
        "    cout << Sum<int>(1, 2)  << endl;         // 3\n",
        "    cout << Sum<double>(1.2, 3.4)  << endl;  // 4.6\n",
        "}"
      ],
      "execution_count": null,
      "outputs": [
        {
          "output_type": "stream",
          "name": "stdout",
          "text": [
            "Overwriting temp.cpp\n"
          ]
        }
      ]
    },
    {
      "cell_type": "code",
      "metadata": {
        "id": "Kxoo0Fyv5VDX",
        "colab": {
          "base_uri": "https://localhost:8080/"
        },
        "outputId": "f98dd101-0c56-46e6-f990-a8eb024e4d3b"
      },
      "source": [
        "!g++ temp.cpp; ./a.out"
      ],
      "execution_count": null,
      "outputs": [
        {
          "output_type": "stream",
          "name": "stdout",
          "text": [
            "3\n",
            "4.6\n"
          ]
        }
      ]
    },
    {
      "cell_type": "code",
      "metadata": {
        "id": "s47KvId16-KS",
        "colab": {
          "base_uri": "https://localhost:8080/"
        },
        "outputId": "5c524fad-e09c-4673-b685-e4d3b153b10b"
      },
      "source": [
        "# クラステンプレート\n",
        "%%writefile temp.cpp\n",
        "# include <bits/stdc++.h>\n",
        "using namespace std;\n",
        "\n",
        "template <typename T>\n",
        "class Rectangle {\n",
        " public:\n",
        "    Rectangle(T height, T width) : height_(height), width_(width) {}\n",
        "\n",
        "    T Area() const {\n",
        "       return height_ * width_;\n",
        "    }\n",
        "\n",
        " private:\n",
        "    const T height_;\n",
        "    const T width_;\n",
        "};\n",
        "int main(){\n",
        "    Rectangle<int> r1(10, 20);\n",
        "    Rectangle<double> r2(1.2, 3.4);\n",
        "    cout << r1.Area() << endl;  // 200\n",
        "    cout << r2.Area() << endl;  // 4.08\n",
        "}"
      ],
      "execution_count": null,
      "outputs": [
        {
          "output_type": "stream",
          "name": "stdout",
          "text": [
            "Overwriting temp.cpp\n"
          ]
        }
      ]
    },
    {
      "cell_type": "code",
      "metadata": {
        "id": "L7EcjG2n698I",
        "colab": {
          "base_uri": "https://localhost:8080/"
        },
        "outputId": "b959cf98-ace6-455b-cad0-be2dc8a42814"
      },
      "source": [
        "!g++ temp.cpp; ./a.out"
      ],
      "execution_count": null,
      "outputs": [
        {
          "output_type": "stream",
          "name": "stdout",
          "text": [
            "200\n",
            "4.08\n"
          ]
        }
      ]
    },
    {
      "cell_type": "code",
      "metadata": {
        "id": "eWh8xJ029MCL",
        "colab": {
          "base_uri": "https://localhost:8080/"
        },
        "outputId": "f74713dc-be2a-429b-8e7e-63362733d45b"
      },
      "source": [
        "# アサーション\n",
        "%%writefile temp.cpp\n",
        "# include <bits/stdc++.h>\n",
        "using namespace std;\n",
        "\n",
        "int Max(const vector<int>& v) {\n",
        "    assert(!v.empty());\n",
        "\n",
        "    int max = numeric_limits<int>::min();\n",
        "    for (auto e : v) {\n",
        "        if (e > max) {\n",
        "            max = e;\n",
        "        }\n",
        "    }\n",
        "    return max;\n",
        "}\n",
        "\n",
        "int main() {\n",
        "    vector<int> v1 = {1, 2, 3, 4, 5};\n",
        "    vector<int> v2;\n",
        "\n",
        "    cout << Max(v1) << endl;\n",
        "    cout << Max(v2) << endl;\n",
        "}"
      ],
      "execution_count": null,
      "outputs": [
        {
          "output_type": "stream",
          "name": "stdout",
          "text": [
            "Overwriting temp.cpp\n"
          ]
        }
      ]
    },
    {
      "cell_type": "code",
      "metadata": {
        "id": "kzA4HO649Mtv",
        "colab": {
          "base_uri": "https://localhost:8080/"
        },
        "outputId": "3b1d1d30-a61b-475e-86bf-01904e4c3f60"
      },
      "source": [
        "!g++ temp.cpp; ./a.out"
      ],
      "execution_count": null,
      "outputs": [
        {
          "output_type": "stream",
          "name": "stdout",
          "text": [
            "5\n",
            "a.out: temp.cpp:5: int Max(const std::vector<int>&): Assertion `!v.empty()' failed.\n",
            "/bin/bash: line 1:  1029 Aborted                 (core dumped) ./a.out\n"
          ]
        }
      ]
    },
    {
      "cell_type": "code",
      "metadata": {
        "id": "3MXY1ge89rBI",
        "colab": {
          "base_uri": "https://localhost:8080/"
        },
        "outputId": "bd9e6fc8-d0fb-4f70-c336-a8db01a91053"
      },
      "source": [
        "#\n",
        "%%writefile temp.cpp\n",
        "#include <cassert>\n",
        "using namespace std;\n",
        "\n",
        "template <typename T, int N>\n",
        "class Array {\n",
        "    static_assert(N > 0, \"サイズは0より大きくなければなりません\");\n",
        "\n",
        " public:\n",
        "    int size() const { return N; }\n",
        "\n",
        "    T data_[N];  // サイズ 0 の配列はコンパイルエラーにならない\n",
        "};\n",
        "\n",
        "int main() {\n",
        "    Array<int, 0> a;\n",
        "    return 0;\n",
        "}"
      ],
      "execution_count": null,
      "outputs": [
        {
          "output_type": "stream",
          "name": "stdout",
          "text": [
            "Overwriting temp.cpp\n"
          ]
        }
      ]
    },
    {
      "cell_type": "code",
      "metadata": {
        "id": "GAzhwbn49qyf"
      },
      "source": [
        "!g++ temp.cpp; ./a.out"
      ],
      "execution_count": null,
      "outputs": []
    },
    {
      "cell_type": "code",
      "source": [
        "# 正規表現 regex\n",
        "%%writefile temp.cpp\n",
        "# include <bits/stdc++.h>\n",
        "using namespace std;\n",
        "\n",
        "int main() {\n",
        "\n",
        "  string s1 = \"1234\";\n",
        "  string s2 = \"abc\";\n",
        "\n",
        "  regex re(R\"(\\d+)\");  // raw string literal\n",
        "\n",
        "  assert( regex_match(s1, re) ); // true or false\n",
        "  assert (!regex_match(s2, re) );\n",
        "}"
      ],
      "metadata": {
        "id": "BYDc3vLLCoJC",
        "outputId": "ecb4ff30-8c22-4128-f076-e86baa240d58",
        "colab": {
          "base_uri": "https://localhost:8080/"
        }
      },
      "execution_count": 3,
      "outputs": [
        {
          "output_type": "stream",
          "name": "stdout",
          "text": [
            "Overwriting temp.cpp\n"
          ]
        }
      ]
    },
    {
      "cell_type": "code",
      "source": [
        "!g++ temp.cpp; ./a.out"
      ],
      "metadata": {
        "id": "uxcu74g4CqjH"
      },
      "execution_count": 4,
      "outputs": []
    },
    {
      "cell_type": "code",
      "source": [
        "# 正規表現の返り値\n",
        "%%writefile temp.cpp\n",
        "# include <bits/stdc++.h>\n",
        "using namespace std;\n",
        "\n",
        "int main() {\n",
        "    string s = \"123-4567\";\n",
        "    smatch m; // char の場合は cmatch\n",
        "    if ( regex_match(s, m, regex(R\"((\\d+)-(\\d+))\")) ) {\n",
        "        cout << m[0].str() << endl;  // => 123-4567\n",
        "        cout << m[1].str() << endl;  // => 123\n",
        "        cout << m[2].str() << endl;  // => 4567\n",
        "    }\n",
        "}"
      ],
      "metadata": {
        "id": "Xo87JtuWF1wo",
        "colab": {
          "base_uri": "https://localhost:8080/"
        },
        "outputId": "d7cde900-0666-4491-89ef-c3d941cbd00a"
      },
      "execution_count": 5,
      "outputs": [
        {
          "output_type": "stream",
          "name": "stdout",
          "text": [
            "Overwriting temp.cpp\n"
          ]
        }
      ]
    },
    {
      "cell_type": "code",
      "source": [
        "!g++ temp.cpp; ./a.out"
      ],
      "metadata": {
        "id": "tzD8YgMgF1mw",
        "colab": {
          "base_uri": "https://localhost:8080/"
        },
        "outputId": "4dc3c0f9-6d21-4a42-eb16-7445d1ac2492"
      },
      "execution_count": 6,
      "outputs": [
        {
          "output_type": "stream",
          "name": "stdout",
          "text": [
            "123-4567\n",
            "123\n",
            "4567\n"
          ]
        }
      ]
    }
  ]
}