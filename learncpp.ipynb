{
  "nbformat": 4,
  "nbformat_minor": 0,
  "metadata": {
    "colab": {
      "name": "learncpp.ipynb",
      "provenance": [],
      "collapsed_sections": [],
      "toc_visible": true,
      "authorship_tag": "ABX9TyN0aCVrLNlgS5y80z3BGD/q",
      "include_colab_link": true
    },
    "kernelspec": {
      "name": "python3",
      "display_name": "Python 3"
    }
  },
  "cells": [
    {
      "cell_type": "markdown",
      "metadata": {
        "id": "view-in-github",
        "colab_type": "text"
      },
      "source": [
        "<a href=\"https://colab.research.google.com/github/kalz2q/mycolabnotebooks/blob/master/learncpp.ipynb\" target=\"_parent\"><img src=\"https://colab.research.google.com/assets/colab-badge.svg\" alt=\"Open In Colab\"/></a>"
      ]
    },
    {
      "cell_type": "markdown",
      "metadata": {
        "id": "GS7G-XMFAlZR"
      },
      "source": [
        "# メモ\n",
        "\n",
        "1. Colab で開かれることを想定している。 Colab で読んでください。\n",
        "1. Colab のコードセルで、次のコードセル"
      ]
    },
    {
      "cell_type": "code",
      "metadata": {
        "id": "ZQ_oYkkmBPsl"
      },
      "source": [
        "%%script false\n",
        "!g++ --version"
      ],
      "execution_count": null,
      "outputs": []
    },
    {
      "cell_type": "markdown",
      "metadata": {
        "id": "W7Y7bJP4BVJD"
      },
      "source": [
        "を %%script false 行を削除して実行すると、"
      ]
    },
    {
      "cell_type": "code",
      "metadata": {
        "id": "-bV7Xo6vBad5"
      },
      "source": [
        "%%script false\n",
        "g++ (Ubuntu 7.5.0-3ubuntu1~18.04) 7.5.0\n",
        "Copyright (C) 2017 Free Software Foundation, Inc.\n",
        "This is free software; see the source for copying conditions.  There is NO\n",
        "warranty; not even for MERCHANTABILITY or FITNESS FOR A PARTICULAR PURPOSE."
      ],
      "execution_count": null,
      "outputs": []
    },
    {
      "cell_type": "markdown",
      "metadata": {
        "id": "VbdvhxwYBhWm"
      },
      "source": [
        "colab のコードセルの環境で、g++ が使えることがわかる。\n",
        "\n",
        "これを利用して Colab でインタラクティブに C++ を学習する、というアイデア。"
      ]
    },
    {
      "cell_type": "markdown",
      "metadata": {
        "id": "5sevcYNyHthT"
      },
      "source": [
        "参考テキスト\n",
        "\n",
        "1. https://www.w3schools.com/cpp/  \n",
        "w3scoolのC++ Tutorial (実行環境あり)\n",
        "\n",
        "1. https://rinatz.github.io/cpp-book/ch01-02-hello-world/  \n",
        "ゼロから学ぶC++ (book形式)\n"
      ]
    },
    {
      "cell_type": "code",
      "metadata": {
        "colab": {
          "base_uri": "https://localhost:8080/"
        },
        "id": "-jTNMcEE-y3-",
        "outputId": "e2dc4d7f-1f2c-4647-cc97-ad6eadb3bc37"
      },
      "source": [
        "%%writefile hello01.cpp\n",
        "#include <iostream>\n",
        "using namespace std;\n",
        "\n",
        "int main() {\n",
        "  cout << \"Hello World!\";\n",
        "  return 0;\n",
        "}"
      ],
      "execution_count": null,
      "outputs": [
        {
          "output_type": "stream",
          "text": [
            "Writing hello01.cpp\n"
          ],
          "name": "stdout"
        }
      ]
    },
    {
      "cell_type": "code",
      "metadata": {
        "colab": {
          "base_uri": "https://localhost:8080/"
        },
        "id": "8Lf0COUH-9ol",
        "outputId": "b39c5344-215f-4073-e2ab-10050847c410"
      },
      "source": [
        "!g++ hello01.cpp -o helo01\n",
        "!./helo01"
      ],
      "execution_count": null,
      "outputs": [
        {
          "output_type": "stream",
          "text": [
            "Hello World!"
          ],
          "name": "stdout"
        }
      ]
    },
    {
      "cell_type": "markdown",
      "metadata": {
        "id": "s0dgqgKVF5Ya"
      },
      "source": [
        "コメントが Python は シャープ # で、cpp は スラッシュ。 `//` or `/* ~ */`\n"
      ]
    },
    {
      "cell_type": "markdown",
      "metadata": {
        "id": "lMns0gsLA_3Q"
      },
      "source": [
        "# w3school の目次\n",
        "w3school では次のメニューで学ぶことが推奨されている。\n",
        "* C++ Tutorial\n",
        "  * C++ HOME\n",
        "  * C++ Intro\n",
        "  * C++ Get Started\n",
        "  * C++ Syntax\n",
        "  * C++ Output\n",
        "  * C++ Comments\n",
        "  * C++ Variables\n",
        "  * C++ User Input\n",
        "  * C++ Data Types\n",
        "  * C++ Operators\n",
        "  * C++ Strings\n",
        "  * C++ Math\n",
        "  * C++ Booleans\n",
        "  * C++ Conditions\n",
        "  * C++ Switch\n",
        "  * C++ While Loop\n",
        "  * C++ For Loop\n",
        "  * C++ Break/Continue\n",
        "  * C++ Arrays\n",
        "  * C++ References\n",
        "  * C++ Pointers\n",
        "* C++ Functions\n",
        "  * C++ Functions\n",
        "  * C++ Function Parameters\n",
        "  * C++ Function Overloading\n",
        "* C++ Classes\n",
        "  * C++ OOP\n",
        "  * C++ Classes/Objects\n",
        "  * C++ Class Methods\n",
        "  * C++ Constructors\n",
        "  * C++ Access Specifiers\n",
        "  * C++ Encapsulation\n",
        "  * C++ Inheritance\n",
        "  * C++ Polymorphism\n",
        "  * C++ Files\n",
        "  * C++ Exceptions\n",
        "* C++ How To\n",
        "  * Add Two Numbers\n",
        "* C++ Examples\n",
        "  * C++ Examples\n",
        "  * C++ Exercises\n",
        "  * C++ Quiz\n",
        "\n",
        "いやはや、盛りだくさんだね。"
      ]
    },
    {
      "cell_type": "markdown",
      "metadata": {
        "id": "MWTQAIkMohnv"
      },
      "source": [
        "# namespace\n",
        "\n",
        "`using namespace std;` を入れないと、次のように書くことになる、みたい。\n",
        "\n",
        "`main` を `hello` にしたらエラーでコンパイルできなかった。\n",
        "\n",
        "`return 0` をとってもコンパイルできた。\n",
        "\n",
        "`<< std::endl` で改行が付加された。\n",
        "\n"
      ]
    },
    {
      "cell_type": "code",
      "metadata": {
        "id": "V7FCGvXToerV",
        "colab": {
          "base_uri": "https://localhost:8080/"
        },
        "outputId": "55bb9b78-59d6-4151-bcdc-7bd72d4ca8da"
      },
      "source": [
        "# 実験\n",
        "%%writefile hello02.cpp\n",
        "#include <iostream>\n",
        "int main() {\n",
        "  std::cout << \"hello world\\n \\t初めてのC++\" << std::endl;\n",
        "  std::cout << \"次の行\";\n",
        "  return 0;\n",
        "}"
      ],
      "execution_count": null,
      "outputs": [
        {
          "output_type": "stream",
          "text": [
            "Writing hello02.cpp\n"
          ],
          "name": "stdout"
        }
      ]
    },
    {
      "cell_type": "code",
      "metadata": {
        "colab": {
          "base_uri": "https://localhost:8080/"
        },
        "id": "Gdy2RltWBMlU",
        "outputId": "555c8486-4abe-4045-ac24-7d5dd1b071bd"
      },
      "source": [
        "!g++ hello02.cpp -o hello02 ; ./hello02"
      ],
      "execution_count": null,
      "outputs": [
        {
          "output_type": "stream",
          "text": [
            "hello world\n",
            " \t初めてのC++\n",
            "次の行"
          ],
          "name": "stdout"
        }
      ]
    },
    {
      "cell_type": "markdown",
      "metadata": {
        "id": "g8VptCMXpWoT"
      },
      "source": [
        "# for 構文\n",
        "\n",
        "次のは `i` を 1 ずつ増やして行って 9 回 メッセージを書くプログラム。"
      ]
    },
    {
      "cell_type": "code",
      "metadata": {
        "id": "vHNrx0tRpuBf",
        "colab": {
          "base_uri": "https://localhost:8080/"
        },
        "outputId": "8125befc-f33f-49e3-dd4d-2215bf630e56"
      },
      "source": [
        "%%writefile hello03.cpp\n",
        "#include <iostream>\n",
        "using namespace std;\n",
        "\n",
        "int main() {\n",
        "  for (int i = 0; i < 10; i++) cout << \"Hello World\" << \"\\n\";\n",
        "}\n"
      ],
      "execution_count": null,
      "outputs": [
        {
          "output_type": "stream",
          "text": [
            "Writing hello03.cpp\n"
          ],
          "name": "stdout"
        }
      ]
    },
    {
      "cell_type": "code",
      "metadata": {
        "colab": {
          "base_uri": "https://localhost:8080/"
        },
        "id": "hxXfoxj8Bkb2",
        "outputId": "efe6b1c8-85a8-42a0-ef46-d9064d6f57b1"
      },
      "source": [
        "!g++ hello03.cpp -o hello03 ; ./hello03"
      ],
      "execution_count": null,
      "outputs": [
        {
          "output_type": "stream",
          "text": [
            "Hello World\n",
            "Hello World\n",
            "Hello World\n",
            "Hello World\n",
            "Hello World\n",
            "Hello World\n",
            "Hello World\n",
            "Hello World\n",
            "Hello World\n",
            "Hello World\n"
          ],
          "name": "stdout"
        }
      ]
    },
    {
      "cell_type": "markdown",
      "metadata": {
        "id": "oJgZ4xyUmxoa"
      },
      "source": [
        "# コメント\n",
        "\n",
        "`//`  と `/*` と `*/` 。\n",
        "\n"
      ]
    },
    {
      "cell_type": "markdown",
      "metadata": {
        "id": "tkLLBkzQpzqF"
      },
      "source": [
        "# 波カッコ curly brackets の場所\n",
        "\n",
        "vscode のデフォルトでは、フォーマットすると、波カッコのはじめ opening curly bracket は新しい行からはじまる。 これを前の行の最後にしたい場合は、\n",
        "\n",
        "> Settings (Ctrl+,)    \n",
        "> C_Cpp:Clang_format_fallback Style    \n",
        "> Google  \n",
        "\n",
        "とする。 この意味は、vscode のデフォルトは一応 Clang フォーマットではあるが、とくにファイルで指定しているわけではないので、ファイルがない場合はどのタイプのフォーマットにするか指定できて、いろいろあるけど、Google を指定すると、いわゆる Google フォーマットになる。 インデントスペースも 2 になる。\n",
        "\n",
        "> Settings (Ctrl+,)    \n",
        "> C_Cpp:Clang_format_fallback Style   \n",
        "\n",
        "のところにはもう少し詳しく書いてある。 \n",
        "\n",
        "Colab のインデントスペースは 4 のようなので、Colab で書いたコードと、自分の vscode で書いてコピペしたコードの一貫性がなくなるけどとりあえず気にしない。\n",
        "\n",
        "\n"
      ]
    },
    {
      "cell_type": "markdown",
      "metadata": {
        "id": "C7ipf7oBCvrZ"
      },
      "source": [
        "# C++ について\n",
        "\n",
        "Bjarne Stroustrup という人が C の上位バージョンとして作った。\n",
        "\n",
        "C++ の歴史 => 2011, 2014, 2017 に C++11, C++14,  C++17 になった。\n",
        "\n",
        "コンピューターの標準言語だろう。\n"
      ]
    },
    {
      "cell_type": "markdown",
      "metadata": {
        "id": "VtOagpx9EaSA"
      },
      "source": [
        "`#include <iostream>` はヘッダーライブラリーと呼ばれるもの。\n",
        "\n",
        "`using namespace std` は標準ライブラリーのオブジェクトや変数の名前を使える、と言うこと。\n",
        "\n",
        "`cout` はシーアウトと読み、`<<` とセットで使われる。\n",
        "\n",
        "改行やホワイトスペースについては `int main () { cout << \"Hello World! \"; return 0; }` と書いても同じ。\n",
        "\n",
        "\n"
      ]
    },
    {
      "cell_type": "code",
      "metadata": {
        "id": "ebJGPq8FF3gk",
        "colab": {
          "base_uri": "https://localhost:8080/"
        },
        "outputId": "616b07ab-75a8-40d7-9531-045a4aefbef4"
      },
      "source": [
        "%%writefile hello04.cpp\n",
        "#include <iostream>\n",
        "using namespace std;\n",
        "\n",
        "int main() {\n",
        "  cout << \"Hello World! \\n\\n\";\n",
        "  cout << \"I am learning C++\";\n",
        "  return 0;\n",
        "}"
      ],
      "execution_count": null,
      "outputs": [
        {
          "output_type": "stream",
          "text": [
            "Writing hello04.cpp\n"
          ],
          "name": "stdout"
        }
      ]
    },
    {
      "cell_type": "code",
      "metadata": {
        "id": "YiQpXtXVGGiI",
        "colab": {
          "base_uri": "https://localhost:8080/"
        },
        "outputId": "1c13b306-d5d0-40ee-e3f2-cc0243225d79"
      },
      "source": [
        "!g++ hello04.cpp -o hello04; ./hello04"
      ],
      "execution_count": null,
      "outputs": [
        {
          "output_type": "stream",
          "text": [
            "Hello World! \n",
            "\n",
            "I am learning C++"
          ],
          "name": "stdout"
        }
      ]
    },
    {
      "cell_type": "markdown",
      "metadata": {
        "id": "pTOjaiKtGM2E"
      },
      "source": [
        "`<< endl` でも改行は入れられるが、`\\n` の方がわかりやすいので自分で書くときは `\\n` を使う。\n",
        "\n"
      ]
    },
    {
      "cell_type": "markdown",
      "metadata": {
        "id": "OzkYh65OGHNq"
      },
      "source": [
        "# いまここ"
      ]
    },
    {
      "cell_type": "markdown",
      "metadata": {
        "id": "9xEHO9jxdjDe"
      },
      "source": [
        "# 変数のタイプ\n",
        "\n",
        "int(123),\n",
        "double(19.9),\n",
        "char('A'),\n",
        "\"string\", \n",
        "bool(true, false) など。"
      ]
    },
    {
      "cell_type": "code",
      "metadata": {
        "colab": {
          "base_uri": "https://localhost:8080/"
        },
        "id": "Mc2my2c0es1D",
        "outputId": "a1a96468-8ba3-4cef-a03c-92b3d180f74b"
      },
      "source": [
        "%%writefile variable01.cpp\n",
        "#include <iostream>\n",
        "using namespace std;\n",
        "\n",
        "int main() {\n",
        "  int myNum = 15;\n",
        "  cout << myNum;\n",
        "  return 0;\n",
        "}"
      ],
      "execution_count": null,
      "outputs": [
        {
          "output_type": "stream",
          "text": [
            "Writing variable01.cpp\n"
          ],
          "name": "stdout"
        }
      ]
    },
    {
      "cell_type": "code",
      "metadata": {
        "id": "JRO5IbRYdIr8",
        "colab": {
          "base_uri": "https://localhost:8080/"
        },
        "outputId": "6682cc5f-7278-4114-8801-55c007a0ba58"
      },
      "source": [
        "!g++ variable01.cpp -o variable01; ./variable01"
      ],
      "execution_count": null,
      "outputs": [
        {
          "output_type": "stream",
          "text": [
            "15"
          ],
          "name": "stdout"
        }
      ]
    },
    {
      "cell_type": "code",
      "metadata": {
        "id": "3aRUXLCpIdJu",
        "colab": {
          "base_uri": "https://localhost:8080/"
        },
        "outputId": "d73cafb8-2cd6-444e-d1b9-ab0aec7a17ed"
      },
      "source": [
        "%%writefile variable02.cpp\n",
        "#include <iostream>\n",
        "using namespace std;\n",
        "\n",
        "int main() {\n",
        "  int myNum = 15;   // Now myNum is 15\n",
        "  myNum = 10;       // Now myNum is 10\n",
        "  cout << myNum;\n",
        "  return 0;\n",
        "}"
      ],
      "execution_count": null,
      "outputs": [
        {
          "output_type": "stream",
          "text": [
            "Writing variable02.cpp\n"
          ],
          "name": "stdout"
        }
      ]
    },
    {
      "cell_type": "code",
      "metadata": {
        "id": "yCSbQFadIkgW",
        "colab": {
          "base_uri": "https://localhost:8080/"
        },
        "outputId": "0d39fa8f-d53e-4f55-c403-6eab0080edab"
      },
      "source": [
        "!g++ variable02.cpp -o variable02; ./variable02"
      ],
      "execution_count": null,
      "outputs": [
        {
          "output_type": "stream",
          "text": [
            "10"
          ],
          "name": "stdout"
        }
      ]
    },
    {
      "cell_type": "code",
      "metadata": {
        "id": "AyPpeOqOJAYm",
        "colab": {
          "base_uri": "https://localhost:8080/"
        },
        "outputId": "a22e20ad-4659-493c-fbd5-88503c6f96d4"
      },
      "source": [
        "%%writefile variable03.cpp\n",
        "#include <iostream>\n",
        "using namespace std;\n",
        "\n",
        "int main()\n",
        "{\n",
        "    int myNum = 5;            // Integer (whole number without decimals)\n",
        "    double myFloatNum = 5.99; // Floating point number (with decimals)\n",
        "    char myLetter = 'D';      // Character\n",
        "    string myText = \"Hello\";  // String (text)\n",
        "    bool myBoolean = true;    // Boolean (true or false)\n",
        "\n",
        "    cout << myNum << \"\\n\";\n",
        "    cout << myFloatNum << \"\\n\";\n",
        "    cout << myLetter << \"\\n\";\n",
        "    cout << myText << \"\\n\";\n",
        "    cout << myBoolean << \"\\n\";\n",
        "}"
      ],
      "execution_count": null,
      "outputs": [
        {
          "output_type": "stream",
          "text": [
            "Writing variable03.cpp\n"
          ],
          "name": "stdout"
        }
      ]
    },
    {
      "cell_type": "code",
      "metadata": {
        "id": "1gfaLXePKNyp",
        "colab": {
          "base_uri": "https://localhost:8080/"
        },
        "outputId": "ac3232d1-23cd-4952-9c65-60b4ce130aa0"
      },
      "source": [
        "!g++ variable03.cpp -o variable03; ./variable03"
      ],
      "execution_count": null,
      "outputs": [
        {
          "output_type": "stream",
          "text": [
            "5\n",
            "5.99\n",
            "D\n",
            "Hello\n",
            "1\n"
          ],
          "name": "stdout"
        }
      ]
    },
    {
      "cell_type": "code",
      "metadata": {
        "id": "I2hrg56RJB8V",
        "colab": {
          "base_uri": "https://localhost:8080/"
        },
        "outputId": "396456f9-b0d2-4cb6-e011-5aa0ba2f4291"
      },
      "source": [
        "%%writefile variable04.cpp\n",
        "#include <iostream>\n",
        "using namespace std;\n",
        "\n",
        "int main() {\n",
        "  int myAge = 35;\n",
        "  cout << \"I am \" << myAge << \" years old.\";\n",
        "  return 0;\n",
        "}"
      ],
      "execution_count": null,
      "outputs": [
        {
          "output_type": "stream",
          "text": [
            "Writing variable04.cpp\n"
          ],
          "name": "stdout"
        }
      ]
    },
    {
      "cell_type": "code",
      "metadata": {
        "id": "2bnagYq-FYvS",
        "colab": {
          "base_uri": "https://localhost:8080/"
        },
        "outputId": "add436bd-65c2-48c6-c840-848d2e653432"
      },
      "source": [
        "!g++ variable04.cpp -o variable04; ./variable04"
      ],
      "execution_count": null,
      "outputs": [
        {
          "output_type": "stream",
          "text": [
            "I am 35 years old."
          ],
          "name": "stdout"
        }
      ]
    },
    {
      "cell_type": "code",
      "metadata": {
        "id": "lLkTZSs1Fhyx",
        "colab": {
          "base_uri": "https://localhost:8080/"
        },
        "outputId": "568eac10-ad9e-4b95-fbbe-06d3d8205b69"
      },
      "source": [
        "%%writefile variable05.cpp\n",
        "#include <iostream>\n",
        "using namespace std;\n",
        "\n",
        "int main() {\n",
        "  int x = 5;\n",
        "  int y = 6;\n",
        "  int sum = x + y;\n",
        "  cout << sum;\n",
        "  return 0;\n",
        "}"
      ],
      "execution_count": null,
      "outputs": [
        {
          "output_type": "stream",
          "text": [
            "Writing variable05.cpp\n"
          ],
          "name": "stdout"
        }
      ]
    },
    {
      "cell_type": "code",
      "metadata": {
        "id": "2l06UtFVJOCV",
        "colab": {
          "base_uri": "https://localhost:8080/"
        },
        "outputId": "cf65f84d-9115-4c1f-851b-694ae715f369"
      },
      "source": [
        "!g++ variable05.cpp -o variable05; ./variable05"
      ],
      "execution_count": null,
      "outputs": [
        {
          "output_type": "stream",
          "text": [
            "11"
          ],
          "name": "stdout"
        }
      ]
    },
    {
      "cell_type": "code",
      "metadata": {
        "id": "Q2pqnG9vJYlV",
        "colab": {
          "base_uri": "https://localhost:8080/"
        },
        "outputId": "45d9b753-15c1-49cd-a8ba-c2eb73c68a2a"
      },
      "source": [
        "%%writefile variable06.cpp\n",
        "#include <iostream>\n",
        "using namespace std;\n",
        "\n",
        "int main() {\n",
        "  int x = 5, y = 6, z = 50;  \n",
        "  cout << x + y + z;\n",
        "  return 0;\n",
        "}"
      ],
      "execution_count": null,
      "outputs": [
        {
          "output_type": "stream",
          "text": [
            "Writing variable06.cpp\n"
          ],
          "name": "stdout"
        }
      ]
    },
    {
      "cell_type": "code",
      "metadata": {
        "id": "VJDodQp8Jgmd",
        "colab": {
          "base_uri": "https://localhost:8080/"
        },
        "outputId": "5ac2979f-fbab-400d-fe23-95e23018b874"
      },
      "source": [
        "!g++ variable06.cpp -o variable06; ./variable06"
      ],
      "execution_count": null,
      "outputs": [
        {
          "output_type": "stream",
          "text": [
            "61"
          ],
          "name": "stdout"
        }
      ]
    },
    {
      "cell_type": "code",
      "metadata": {
        "id": "xV3cZma5LXxQ",
        "colab": {
          "base_uri": "https://localhost:8080/"
        },
        "outputId": "f2c6fe41-ea38-4564-a7ca-896d4f001d96"
      },
      "source": [
        "%%writefile variable07.cpp\n",
        "#include <iostream>\n",
        "using namespace std;\n",
        "\n",
        "int main() {\n",
        "  // Good name\n",
        "  int minutesPerHour = 60;\n",
        "  \n",
        "  // OK, but not so easy to understand what m actually is\n",
        "  int m = 60;\n",
        "  \n",
        "  cout << minutesPerHour << \"\\n\";\n",
        "  cout << m;\n",
        "  return 0;\n",
        "}"
      ],
      "execution_count": null,
      "outputs": [
        {
          "output_type": "stream",
          "text": [
            "Writing variable07.cpp\n"
          ],
          "name": "stdout"
        }
      ]
    },
    {
      "cell_type": "code",
      "metadata": {
        "id": "fNUgnO2GLcia",
        "colab": {
          "base_uri": "https://localhost:8080/"
        },
        "outputId": "45c923f1-042a-46b8-bdeb-68cfc8ba5c83"
      },
      "source": [
        "!g++ variable07.cpp -o variable07; ./variable07"
      ],
      "execution_count": null,
      "outputs": [
        {
          "output_type": "stream",
          "text": [
            "60\n",
            "60"
          ],
          "name": "stdout"
        }
      ]
    },
    {
      "cell_type": "code",
      "metadata": {
        "id": "IBCUbzB-L36Z",
        "colab": {
          "base_uri": "https://localhost:8080/"
        },
        "outputId": "68fa0bc6-429f-4027-99d8-19f4c47157cc"
      },
      "source": [
        "%%writefile variable08.cpp\n",
        "#include <iostream>\n",
        "using namespace std;\n",
        "\n",
        "int main() {\n",
        "  const int myNum = 15;\n",
        "  myNum = 10; // error: assignment of read-only variable 'myNum'\n",
        "  cout << myNum;\n",
        "  return 0;\n",
        "}\n"
      ],
      "execution_count": null,
      "outputs": [
        {
          "output_type": "stream",
          "text": [
            "Writing variable08.cpp\n"
          ],
          "name": "stdout"
        }
      ]
    },
    {
      "cell_type": "code",
      "metadata": {
        "id": "8j4PBhIF-H1S",
        "colab": {
          "base_uri": "https://localhost:8080/"
        },
        "outputId": "4d0cdef0-64b9-4769-dc93-a579dee0671e"
      },
      "source": [
        "!g++ variable08.cpp -o variable08; ./variable08"
      ],
      "execution_count": null,
      "outputs": [
        {
          "output_type": "stream",
          "text": [
            "\u001b[01m\u001b[Kvariable08.cpp:\u001b[m\u001b[K In function ‘\u001b[01m\u001b[Kint main()\u001b[m\u001b[K’:\n",
            "\u001b[01m\u001b[Kvariable08.cpp:6:11:\u001b[m\u001b[K \u001b[01;31m\u001b[Kerror: \u001b[m\u001b[Kassignment of read-only variable ‘\u001b[01m\u001b[KmyNum\u001b[m\u001b[K’\n",
            "   myNum = \u001b[01;31m\u001b[K10\u001b[m\u001b[K; // error: assignment of read-only variable 'myNum'\n",
            "           \u001b[01;31m\u001b[K^~\u001b[m\u001b[K\n",
            "/bin/bash: ./variable08: No such file or directory\n"
          ],
          "name": "stdout"
        }
      ]
    },
    {
      "cell_type": "code",
      "metadata": {
        "id": "RLbtIfo3-ezx",
        "colab": {
          "base_uri": "https://localhost:8080/"
        },
        "outputId": "025df0f8-e83a-4029-eabf-dc238d96845a"
      },
      "source": [
        "%%writefile variable09.cpp\n",
        "#include <iostream>\n",
        "using namespace std;\n",
        "\n",
        "int main() {\n",
        "  const int minutesPerHour = 60;\n",
        "  const float PI = 3.14;\n",
        "  cout << minutesPerHour << \"\\n\";\n",
        "  cout << PI;\n",
        "  return 0;\n",
        "}\n"
      ],
      "execution_count": null,
      "outputs": [
        {
          "output_type": "stream",
          "text": [
            "Writing variable09.cpp\n"
          ],
          "name": "stdout"
        }
      ]
    },
    {
      "cell_type": "code",
      "metadata": {
        "id": "G5ydxV_O-jef",
        "colab": {
          "base_uri": "https://localhost:8080/"
        },
        "outputId": "6ea20f8c-7f8a-4c2f-d0b4-7ac5d75efba2"
      },
      "source": [
        "!g++ variable09.cpp -o variable09; ./variable09"
      ],
      "execution_count": null,
      "outputs": [
        {
          "output_type": "stream",
          "text": [
            "60\n",
            "3.14"
          ],
          "name": "stdout"
        }
      ]
    },
    {
      "cell_type": "code",
      "metadata": {
        "colab": {
          "base_uri": "https://localhost:8080/"
        },
        "id": "fQHrZCjS770U",
        "outputId": "9ccc191e-08d7-4df8-ffa0-10a413f2d598"
      },
      "source": [
        "%%writefile variable10.cpp\n",
        "// int num; とだけして出力すると何が入っているか実験\n",
        "#include <iostream>\n",
        "#include <string>\n",
        "using namespace std;\n",
        "\n",
        "int main() {\n",
        "  int num1;\n",
        "  string str1;\n",
        "  int num2;\n",
        "  cout << num1 << \"\\n\";\n",
        "  cout << str1 << \"\\n\";\n",
        "  cout << num2 << \"\\n\";\n",
        "  return 0;\n",
        "}\n"
      ],
      "execution_count": null,
      "outputs": [
        {
          "output_type": "stream",
          "text": [
            "Overwriting variable10.cpp\n"
          ],
          "name": "stdout"
        }
      ]
    },
    {
      "cell_type": "code",
      "metadata": {
        "colab": {
          "base_uri": "https://localhost:8080/"
        },
        "id": "cuYmm3yw7-kY",
        "outputId": "52474329-30eb-4ec3-c8cf-9c83451ddd14"
      },
      "source": [
        "!g++ variable10.cpp -o variable10; ./variable10"
      ],
      "execution_count": null,
      "outputs": [
        {
          "output_type": "stream",
          "text": [
            "1200147590\n",
            "\n",
            "21968\n"
          ],
          "name": "stdout"
        }
      ]
    },
    {
      "cell_type": "markdown",
      "metadata": {
        "id": "3EaWIYtI-2JD"
      },
      "source": [
        "# input\n",
        "インプットについては、`cin` というのを使うが、Colab 環境ではやらない。\n",
        "\n",
        "次のような内容のファイルを実行すると、インプット待ちになってしまう。"
      ]
    },
    {
      "cell_type": "code",
      "metadata": {
        "id": "d2mAJMYl_Gx3"
      },
      "source": [
        "%%script false\n",
        "#include <iostream>\n",
        "using namespace std;\n",
        "\n",
        "int main() {\n",
        "  int x, y;\n",
        "  int sum;\n",
        "  cout << \"Type a number: \";\n",
        "  cin >> x;\n",
        "  cout << \"Type another number: \";\n",
        "  cin >> y;\n",
        "  sum = x + y;\n",
        "  cout << \"Sum is: \" << sum;\n",
        "  return 0;\n",
        "}"
      ],
      "execution_count": null,
      "outputs": []
    },
    {
      "cell_type": "code",
      "metadata": {
        "id": "_N9MptadGY1W",
        "colab": {
          "base_uri": "https://localhost:8080/"
        },
        "outputId": "b02d98f4-034a-4b8c-d9da-894de39826e7"
      },
      "source": [
        "# 実験\n",
        "%%writefile input01.cpp\n",
        "\n",
        "#include <iostream>\n",
        "using namespace std;\n",
        "\n",
        "int main() {\n",
        "  int x, y;\n",
        "  int sum;\n",
        "  cout << \"Type a number: \";\n",
        "  cin >> x;\n",
        "  cout << \"Type another number: \";\n",
        "  cin >> y;\n",
        "  sum = x + y;\n",
        "  cout << \"Sum is: \" << sum;\n",
        "  return 0;\n",
        "}"
      ],
      "execution_count": null,
      "outputs": [
        {
          "output_type": "stream",
          "text": [
            "Writing input01.cpp\n"
          ],
          "name": "stdout"
        }
      ]
    },
    {
      "cell_type": "code",
      "metadata": {
        "id": "dKO1hxPIGZYP",
        "colab": {
          "base_uri": "https://localhost:8080/"
        },
        "outputId": "8dd847be-2c14-4c30-f089-4a5146928f55"
      },
      "source": [
        "!g++ input01.cpp -o input01\n",
        "!echo \"3\" \"4\" | ./input01"
      ],
      "execution_count": null,
      "outputs": [
        {
          "output_type": "stream",
          "text": [
            "Type a number: Type another number: Sum is: 7"
          ],
          "name": "stdout"
        }
      ]
    },
    {
      "cell_type": "markdown",
      "metadata": {
        "id": "UCTYi1Dk_sS4"
      },
      "source": [
        "# データタイプ\n"
      ]
    },
    {
      "cell_type": "code",
      "metadata": {
        "id": "rfOWTWDY_3ND",
        "colab": {
          "base_uri": "https://localhost:8080/"
        },
        "outputId": "6962b4ad-e5ad-4e2a-d5cb-a48f4c651a7a"
      },
      "source": [
        "%%writefile datatype01.cpp\n",
        "\n",
        "#include <iostream>\n",
        "#include <string>\n",
        "using namespace std;\n",
        " \n",
        "int main () {\n",
        "  // Creating variables\n",
        "  int myNum = 5;               // Integer (whole number)\n",
        "  float myFloatNum = 5.99;     // Floating point number\n",
        "  double myDoubleNum = 9.98;   // Floating point number\n",
        "  char myLetter = 'D';         // Character\n",
        "  bool myBoolean = true;       // Boolean\n",
        "  string myString = \"Hello\";   // String\n",
        "   \n",
        "  // Print variable values\n",
        "  cout << \"int: \" << myNum << \"\\n\";\n",
        "  cout << \"float: \" << myFloatNum << \"\\n\";\n",
        "  cout << \"double: \" << myDoubleNum << \"\\n\";\n",
        "  cout << \"char: \" << myLetter << \"\\n\";\n",
        "  cout << \"bool: \" << myBoolean << \"\\n\";\n",
        "  cout << \"string: \" << myString << \"\\n\";\n",
        " \n",
        "  return 0;\n",
        "}\n"
      ],
      "execution_count": null,
      "outputs": [
        {
          "output_type": "stream",
          "text": [
            "Writing datatype01.cpp\n"
          ],
          "name": "stdout"
        }
      ]
    },
    {
      "cell_type": "code",
      "metadata": {
        "id": "HqrUg7bf_8qW",
        "colab": {
          "base_uri": "https://localhost:8080/"
        },
        "outputId": "c4a875ce-883f-49f3-8e56-c3c809c69dff"
      },
      "source": [
        "!g++ datatype01.cpp -o datatype01; ./datatype01"
      ],
      "execution_count": null,
      "outputs": [
        {
          "output_type": "stream",
          "text": [
            "int: 5\n",
            "float: 5.99\n",
            "double: 9.98\n",
            "char: D\n",
            "bool: 1\n",
            "string: Hello\n"
          ],
          "name": "stdout"
        }
      ]
    },
    {
      "cell_type": "code",
      "metadata": {
        "id": "OWmRqKMBAQ4u",
        "colab": {
          "base_uri": "https://localhost:8080/"
        },
        "outputId": "703612e2-d43d-4651-8d35-132b194e7db2"
      },
      "source": [
        "%%writefile datatype02.cpp\n",
        "\n",
        "#include <iostream>\n",
        "using namespace std;\n",
        " \n",
        "int main () {\n",
        "  float f1 = 35e3;\n",
        "  double d1 = 12E4;\n",
        "  cout << f1 << \"\\n\";\n",
        "  cout << d1;\n",
        "  return 0;\n",
        "}"
      ],
      "execution_count": null,
      "outputs": [
        {
          "output_type": "stream",
          "text": [
            "Writing datatype02.cpp\n"
          ],
          "name": "stdout"
        }
      ]
    },
    {
      "cell_type": "code",
      "metadata": {
        "id": "_14b2DtCAVpP",
        "colab": {
          "base_uri": "https://localhost:8080/"
        },
        "outputId": "90ddc70a-570d-4e12-9776-64211a7f7f00"
      },
      "source": [
        "!g++ datatype02.cpp -o datatype02; ./datatype02"
      ],
      "execution_count": null,
      "outputs": [
        {
          "output_type": "stream",
          "text": [
            "35000\n",
            "120000"
          ],
          "name": "stdout"
        }
      ]
    },
    {
      "cell_type": "markdown",
      "metadata": {
        "id": "qb7ZiVjhApuT"
      },
      "source": [
        "true は 1 で false は 0 。"
      ]
    },
    {
      "cell_type": "code",
      "metadata": {
        "id": "W0AAUO0bAtxJ",
        "colab": {
          "base_uri": "https://localhost:8080/"
        },
        "outputId": "552a2198-b53a-468e-e1a9-74ede9542db6"
      },
      "source": [
        "%%writefile datatype03.cpp\n",
        "\n",
        "#include <iostream>\n",
        "using namespace std;\n",
        "\n",
        "int main() {\n",
        "  bool isCodingFun = true;\n",
        "  bool isFishTasty = false;\n",
        "  cout << isCodingFun << \"\\n\";\n",
        "  cout << isFishTasty;\n",
        "  return 0;\n",
        "}"
      ],
      "execution_count": null,
      "outputs": [
        {
          "output_type": "stream",
          "text": [
            "Writing datatype03.cpp\n"
          ],
          "name": "stdout"
        }
      ]
    },
    {
      "cell_type": "code",
      "metadata": {
        "id": "-gl8iyL5Aym2",
        "colab": {
          "base_uri": "https://localhost:8080/"
        },
        "outputId": "8d6e3837-7bb1-4b92-dc47-3f8153f3b570"
      },
      "source": [
        "!g++ datatype03.cpp -o datatype03; ./datatype03"
      ],
      "execution_count": null,
      "outputs": [
        {
          "output_type": "stream",
          "text": [
            "1\n",
            "0"
          ],
          "name": "stdout"
        }
      ]
    },
    {
      "cell_type": "code",
      "metadata": {
        "id": "3IU5jEfcA-X-",
        "colab": {
          "base_uri": "https://localhost:8080/"
        },
        "outputId": "14b18e67-9b55-4242-968c-2621caf13bab"
      },
      "source": [
        "%%writefile datatype04.cpp\n",
        "#include <iostream>\n",
        "using namespace std;\n",
        " \n",
        "int main () {\n",
        "  char myGrade = 'B';\n",
        "  cout << myGrade;\n",
        "  return 0;\n",
        "}"
      ],
      "execution_count": null,
      "outputs": [
        {
          "output_type": "stream",
          "text": [
            "Writing datatype04.cpp\n"
          ],
          "name": "stdout"
        }
      ]
    },
    {
      "cell_type": "code",
      "metadata": {
        "id": "NTCm8SvcBCd-",
        "colab": {
          "base_uri": "https://localhost:8080/"
        },
        "outputId": "a66e52ea-eb79-4995-cf40-f5232c7de551"
      },
      "source": [
        "!g++ datatype04.cpp -o datatype04; ./datatype04"
      ],
      "execution_count": null,
      "outputs": [
        {
          "output_type": "stream",
          "text": [
            "B"
          ],
          "name": "stdout"
        }
      ]
    },
    {
      "cell_type": "code",
      "metadata": {
        "colab": {
          "base_uri": "https://localhost:8080/"
        },
        "id": "0CmJwJybRjc7",
        "outputId": "17746126-2cb0-4726-86cd-66cb1008ac28"
      },
      "source": [
        "%%writefile datatype05.cpp\n",
        "#include <iostream>\n",
        "using namespace std;\n",
        " \n",
        "int main () {\n",
        "  char a = 65, b = 66, c = 67;\n",
        "  cout << a;\n",
        "  cout << b;\n",
        "  cout << c;\n",
        "  return 0;\n",
        "}"
      ],
      "execution_count": null,
      "outputs": [
        {
          "output_type": "stream",
          "text": [
            "Writing datatype05.cpp\n"
          ],
          "name": "stdout"
        }
      ]
    },
    {
      "cell_type": "code",
      "metadata": {
        "colab": {
          "base_uri": "https://localhost:8080/"
        },
        "id": "ENlZzWMRRqDt",
        "outputId": "5dd8d0ff-21b3-40ed-fd44-14a24504ded0"
      },
      "source": [
        "!g++ datatype05.cpp -o datatype05; ./datatype05"
      ],
      "execution_count": null,
      "outputs": [
        {
          "output_type": "stream",
          "text": [
            "ABC"
          ],
          "name": "stdout"
        }
      ]
    },
    {
      "cell_type": "code",
      "metadata": {
        "colab": {
          "base_uri": "https://localhost:8080/"
        },
        "id": "DpEyG2779GDK",
        "outputId": "2303c813-965c-48f8-93e8-d061a5af3f86"
      },
      "source": [
        "%%writefile datatype06.cpp\n",
        "#include <iostream>\n",
        "#include <string>\n",
        "using namespace std;\n",
        "\n",
        "int main() {\n",
        "  string greeting = \"Hello\";\n",
        "  cout << greeting;\n",
        "  return 0;\n",
        "}\n"
      ],
      "execution_count": null,
      "outputs": [
        {
          "output_type": "stream",
          "text": [
            "Writing datatype06.cpp\n"
          ],
          "name": "stdout"
        }
      ]
    },
    {
      "cell_type": "code",
      "metadata": {
        "colab": {
          "base_uri": "https://localhost:8080/"
        },
        "id": "W25cg3YA9Mbi",
        "outputId": "b4873d34-b294-4a76-bed6-0e64de3f4bc0"
      },
      "source": [
        "!g++ datatype06.cpp -o datatype06; ./datatype06"
      ],
      "execution_count": null,
      "outputs": [
        {
          "output_type": "stream",
          "text": [
            "Hello"
          ],
          "name": "stdout"
        }
      ]
    },
    {
      "cell_type": "markdown",
      "metadata": {
        "id": "S3JhH5eL9X7c"
      },
      "source": [
        "# 演算子\n"
      ]
    },
    {
      "cell_type": "markdown",
      "metadata": {
        "id": "JoQqmsz1JuG4"
      },
      "source": [
        "\n",
        "## 四則演算\n",
        "\n"
      ]
    },
    {
      "cell_type": "code",
      "metadata": {
        "colab": {
          "base_uri": "https://localhost:8080/"
        },
        "id": "_EayjJ3W9g0a",
        "outputId": "addd2cf7-7ec6-441a-d7fc-f7057f068b11"
      },
      "source": [
        "%%writefile operator01.cpp\n",
        "#include <iostream>\n",
        "using namespace std;\n",
        "\n",
        "int main() {\n",
        "  int x = 5;\n",
        "  int y = 2;\n",
        "  cout << \"5 / 2 = \" << x / y << \"\\n\";\n",
        "  cout << \"5 % 2 = \" << x % y ;\n",
        "  return 0;\n",
        "}\n"
      ],
      "execution_count": null,
      "outputs": [
        {
          "output_type": "stream",
          "text": [
            "Writing operator01.cpp\n"
          ],
          "name": "stdout"
        }
      ]
    },
    {
      "cell_type": "code",
      "metadata": {
        "colab": {
          "base_uri": "https://localhost:8080/"
        },
        "id": "KDvLHObl9z0h",
        "outputId": "d8cc2f3c-3e96-4800-9d8a-26bc74dd4c8c"
      },
      "source": [
        "!g++ operator01.cpp -o operator01; ./operator01"
      ],
      "execution_count": null,
      "outputs": [
        {
          "output_type": "stream",
          "text": [
            "5 / 2 = 2\n",
            "5 % 2 = 1"
          ],
          "name": "stdout"
        }
      ]
    },
    {
      "cell_type": "code",
      "metadata": {
        "colab": {
          "base_uri": "https://localhost:8080/"
        },
        "id": "mwz_2IN6-slS",
        "outputId": "b9ae74c6-8a81-4e26-8b0a-795887df3f88"
      },
      "source": [
        "%%writefile operator02.cpp\n",
        "#include <iostream>\n",
        "using namespace std;\n",
        "\n",
        "int main() {\n",
        "  int x = -5;\n",
        "  int y = 2;\n",
        "  cout << \"-5 / 2 = \" << x / y << \"\\n\";\n",
        "  cout << \"-5 % 2 = \" << x % y ;\n",
        "  return 0;\n",
        "}"
      ],
      "execution_count": null,
      "outputs": [
        {
          "output_type": "stream",
          "text": [
            "Writing operator02.cpp\n"
          ],
          "name": "stdout"
        }
      ]
    },
    {
      "cell_type": "code",
      "metadata": {
        "colab": {
          "base_uri": "https://localhost:8080/"
        },
        "id": "qgdR8ljE-yzv",
        "outputId": "6c2abdd5-54d6-4539-97a2-72116e2f7ee2"
      },
      "source": [
        "!g++ operator02.cpp -o operator02; ./operator02"
      ],
      "execution_count": null,
      "outputs": [
        {
          "output_type": "stream",
          "text": [
            "-5 / 2 = -2\n",
            "-5 % 2 = -1"
          ],
          "name": "stdout"
        }
      ]
    },
    {
      "cell_type": "markdown",
      "metadata": {
        "id": "Mi_eSxf3GwBd"
      },
      "source": [
        "python と比較。 違う!!!!"
      ]
    },
    {
      "cell_type": "code",
      "metadata": {
        "colab": {
          "base_uri": "https://localhost:8080/"
        },
        "id": "txQnJ6OoGvrH",
        "outputId": "98dab73e-a34f-4222-fe3a-c467e8e533ed"
      },
      "source": [
        "print(-5 / 2)\n",
        "print(-5//2)\n",
        "print(-5 % 2)"
      ],
      "execution_count": null,
      "outputs": [
        {
          "output_type": "stream",
          "text": [
            "-2.5\n",
            "-3\n",
            "1\n"
          ],
          "name": "stdout"
        }
      ]
    },
    {
      "cell_type": "markdown",
      "metadata": {
        "id": "Au-MliI9IRSW"
      },
      "source": [
        "冪乗はどうするのか。 python では `-5**3` と書くが。"
      ]
    },
    {
      "cell_type": "code",
      "metadata": {
        "colab": {
          "base_uri": "https://localhost:8080/"
        },
        "id": "TlAjyukyHOJy",
        "outputId": "dd9ef4d3-4b93-4885-b4d4-04771ee3d312"
      },
      "source": [
        "%%writefile operator03.cpp\n",
        "#include <iostream>\n",
        "#include <cmath>\n",
        "using namespace std;\n",
        "\n",
        "int main() {\n",
        "  int x = -5;\n",
        "  int y = 3;\n",
        "  cout << \"pow(-5, 3) = \" << pow(x, y);\n",
        "  return 0;\n",
        "}"
      ],
      "execution_count": null,
      "outputs": [
        {
          "output_type": "stream",
          "text": [
            "Writing operator03.cpp\n"
          ],
          "name": "stdout"
        }
      ]
    },
    {
      "cell_type": "code",
      "metadata": {
        "colab": {
          "base_uri": "https://localhost:8080/"
        },
        "id": "dT-3wFH6HezZ",
        "outputId": "c792f8c0-5edf-4270-9c17-c455831eb072"
      },
      "source": [
        "!g++ operator03.cpp -o operator03; ./operator03"
      ],
      "execution_count": null,
      "outputs": [
        {
          "output_type": "stream",
          "text": [
            "pow(-5, 3) = -125"
          ],
          "name": "stdout"
        }
      ]
    },
    {
      "cell_type": "markdown",
      "metadata": {
        "id": "rF9e_KV4JfYU"
      },
      "source": [
        "## アサインメント演算子\n"
      ]
    },
    {
      "cell_type": "code",
      "metadata": {
        "id": "b4Nys8y_vBT1",
        "colab": {
          "base_uri": "https://localhost:8080/"
        },
        "outputId": "0101ae04-c1e2-48b9-b575-587d71c1e11f"
      },
      "source": [
        "%%writefile assignment01.cpp\n",
        "#include <iostream>\n",
        "using namespace std;\n",
        "\n",
        "int main() {\n",
        "  int x = 5;\n",
        "  x += 3;\n",
        "  cout << x << \"\\n\";\n",
        "  cout << x-- << \"\\n\";\n",
        "  cout << x << \"\\n\";\n",
        "  cout << --x << \"\\n\";\n",
        "  return 0;\n",
        "}"
      ],
      "execution_count": null,
      "outputs": [
        {
          "output_type": "stream",
          "text": [
            "Writing assignment01.cpp\n"
          ],
          "name": "stdout"
        }
      ]
    },
    {
      "cell_type": "code",
      "metadata": {
        "id": "4pyoHRQBvg_z",
        "colab": {
          "base_uri": "https://localhost:8080/"
        },
        "outputId": "d41db536-e5cd-4980-cf01-4de72585d794"
      },
      "source": [
        "!g++ assignment01.cpp -o assignment01; ./assignment01"
      ],
      "execution_count": null,
      "outputs": [
        {
          "output_type": "stream",
          "text": [
            "8\n",
            "8\n",
            "7\n",
            "6\n"
          ],
          "name": "stdout"
        }
      ]
    },
    {
      "cell_type": "code",
      "metadata": {
        "colab": {
          "base_uri": "https://localhost:8080/"
        },
        "id": "Hpc2_pUod-fM",
        "outputId": "3d71323c-4001-40d9-b9ce-5de648e1c8a7"
      },
      "source": [
        "%%writefile assignment02.cpp\n",
        "#include <iostream>\n",
        "using namespace std;\n",
        "\n",
        "int main() {\n",
        "  int x = 5;\n",
        "  x &= 4;\n",
        "  cout << x;\n",
        "  return 0;\n",
        "}\n"
      ],
      "execution_count": null,
      "outputs": [
        {
          "output_type": "stream",
          "text": [
            "Writing assignment02.cpp\n"
          ],
          "name": "stdout"
        }
      ]
    },
    {
      "cell_type": "code",
      "metadata": {
        "colab": {
          "base_uri": "https://localhost:8080/"
        },
        "id": "Co6kI7K9eHMS",
        "outputId": "f8d14fde-1859-4a79-8bcc-00fd5aa33f8d"
      },
      "source": [
        "!g++ assignment02.cpp -o assignment02; ./assignment02"
      ],
      "execution_count": null,
      "outputs": [
        {
          "output_type": "stream",
          "text": [
            "4"
          ],
          "name": "stdout"
        }
      ]
    },
    {
      "cell_type": "markdown",
      "metadata": {
        "id": "S6Wkip65fbHc"
      },
      "source": [
        "5 は 2進数で 101、4 は 100 なので & を取ると、100 で 4 になる。\n"
      ]
    },
    {
      "cell_type": "code",
      "metadata": {
        "colab": {
          "base_uri": "https://localhost:8080/"
        },
        "id": "DoppkUDGfF7C",
        "outputId": "bfec5be6-775f-45ed-ef26-8aad04d93541"
      },
      "source": [
        "import numpy as np\n",
        "print(np.base_repr(5, 2))\n",
        "print(np.base_repr(4,2))"
      ],
      "execution_count": null,
      "outputs": [
        {
          "output_type": "stream",
          "text": [
            "101\n",
            "100\n"
          ],
          "name": "stdout"
        }
      ]
    },
    {
      "cell_type": "code",
      "metadata": {
        "id": "3BUv3ygpf4rH",
        "colab": {
          "base_uri": "https://localhost:8080/"
        },
        "outputId": "578e15a2-afee-4c6a-b7ee-a08d81dea054"
      },
      "source": [
        "%%writefile assignment03.cpp\n",
        "#include <iostream>\n",
        "using namespace std;\n",
        "\n",
        "int main() {\n",
        "  int x = 5;\n",
        "  x <<= 3;\n",
        "  cout << x;\n",
        "  return 0;\n",
        "}"
      ],
      "execution_count": null,
      "outputs": [
        {
          "output_type": "stream",
          "text": [
            "Writing assignment03.cpp\n"
          ],
          "name": "stdout"
        }
      ]
    },
    {
      "cell_type": "code",
      "metadata": {
        "id": "TJ1DijnqgAHr",
        "colab": {
          "base_uri": "https://localhost:8080/"
        },
        "outputId": "7813a730-9b44-424a-91dd-8045e4dd1266"
      },
      "source": [
        "!g++ assignment03.cpp -o assignment03; ./assignment03"
      ],
      "execution_count": null,
      "outputs": [
        {
          "output_type": "stream",
          "text": [
            "40"
          ],
          "name": "stdout"
        }
      ]
    },
    {
      "cell_type": "markdown",
      "metadata": {
        "id": "WmsIyNL5gQP3"
      },
      "source": [
        "5 は 2進数で 101 で、これを `<<` で 3桁左にずらすと 101000 になり、これは十進数で 40 である。"
      ]
    },
    {
      "cell_type": "code",
      "metadata": {
        "id": "Y0QS90DogHM8",
        "colab": {
          "base_uri": "https://localhost:8080/"
        },
        "outputId": "dff11d7c-ecbb-4ba2-f3e8-9e358d9f191b"
      },
      "source": [
        "print(np.base_repr(5,2))\n",
        "print(np.base_repr(40,2))"
      ],
      "execution_count": null,
      "outputs": [
        {
          "output_type": "stream",
          "text": [
            "101\n",
            "101000\n"
          ],
          "name": "stdout"
        }
      ]
    },
    {
      "cell_type": "markdown",
      "metadata": {
        "id": "WV8MmKZ6gqSw"
      },
      "source": [
        "# 文字列 string\n"
      ]
    },
    {
      "cell_type": "code",
      "metadata": {
        "id": "JV2gT3iagztB",
        "colab": {
          "base_uri": "https://localhost:8080/"
        },
        "outputId": "03a1e8cf-cbe5-408f-c7ef-1e6243786a3e"
      },
      "source": [
        "%%writefile string01.cpp\n",
        "#include <iostream>\n",
        "#include <string>\n",
        "using namespace std;\n",
        "\n",
        "int main() {\n",
        "  string greeting = \"Hello\";\n",
        "  cout << greeting;\n",
        "  return 0;\n",
        "}"
      ],
      "execution_count": null,
      "outputs": [
        {
          "output_type": "stream",
          "text": [
            "Writing string01.cpp\n"
          ],
          "name": "stdout"
        }
      ]
    },
    {
      "cell_type": "code",
      "metadata": {
        "id": "snL3f-Vrg5jt",
        "colab": {
          "base_uri": "https://localhost:8080/"
        },
        "outputId": "d62fa4c5-d33d-41de-d56e-11c0c80a2981"
      },
      "source": [
        "!g++ string01.cpp -o string01; ./string01"
      ],
      "execution_count": null,
      "outputs": [
        {
          "output_type": "stream",
          "text": [
            "Hello"
          ],
          "name": "stdout"
        }
      ]
    },
    {
      "cell_type": "markdown",
      "metadata": {
        "id": "TLwB2_twB0xJ"
      },
      "source": [
        "### string concatenation"
      ]
    },
    {
      "cell_type": "code",
      "metadata": {
        "id": "llvccZAOBmoX",
        "colab": {
          "base_uri": "https://localhost:8080/"
        },
        "outputId": "32e79f64-2971-4e80-8acc-5884d9741cc5"
      },
      "source": [
        "%%writefile string02.cpp\n",
        "#include <iostream>\n",
        "#include <string>\n",
        "using namespace std;\n",
        " \n",
        "int main () {\n",
        "  string firstName = \"John \";\n",
        "  string lastName = \"Doe\";\n",
        "  string fullName = firstName + lastName;\n",
        "  cout << fullName;\n",
        "  return 0;\n",
        "}"
      ],
      "execution_count": null,
      "outputs": [
        {
          "output_type": "stream",
          "text": [
            "Writing string02.cpp\n"
          ],
          "name": "stdout"
        }
      ]
    },
    {
      "cell_type": "code",
      "metadata": {
        "colab": {
          "base_uri": "https://localhost:8080/"
        },
        "id": "r995sRAhBrIa",
        "outputId": "d8e3a3e3-28ec-44ea-e140-0498e772808f"
      },
      "source": [
        "!g++ string02.cpp -o string02; ./string02"
      ],
      "execution_count": null,
      "outputs": [
        {
          "output_type": "stream",
          "text": [
            "John Doe"
          ],
          "name": "stdout"
        }
      ]
    },
    {
      "cell_type": "code",
      "metadata": {
        "id": "-iqkU708CLAj",
        "colab": {
          "base_uri": "https://localhost:8080/"
        },
        "outputId": "c1192e37-53d1-4c69-832d-fb7bd4e1dfe0"
      },
      "source": [
        "%%writefile string03.cpp\n",
        "#include <iostream>\n",
        "#include <string>\n",
        "using namespace std;\n",
        " \n",
        "int main () {\n",
        "  string firstName = \"John \";\n",
        "  string lastName = \"Doe\";\n",
        "  string fullName = firstName.append(lastName);\n",
        "  cout << fullName;\n",
        "  return 0;\n",
        "}\n"
      ],
      "execution_count": null,
      "outputs": [
        {
          "output_type": "stream",
          "text": [
            "Writing string03.cpp\n"
          ],
          "name": "stdout"
        }
      ]
    },
    {
      "cell_type": "code",
      "metadata": {
        "colab": {
          "base_uri": "https://localhost:8080/"
        },
        "id": "SJR6YJUbCU_o",
        "outputId": "b4b3151c-57b0-4c2c-c224-41d7605b70d2"
      },
      "source": [
        "!g++ string03.cpp -o string03; ./string03"
      ],
      "execution_count": null,
      "outputs": [
        {
          "output_type": "stream",
          "text": [
            "John Doe"
          ],
          "name": "stdout"
        }
      ]
    },
    {
      "cell_type": "code",
      "metadata": {
        "colab": {
          "base_uri": "https://localhost:8080/"
        },
        "id": "O8rjyAcwCzW5",
        "outputId": "156b6c70-5e8f-43ec-8184-f3d0967d6d97"
      },
      "source": [
        "%%writefile string04.cpp\n",
        "#include <iostream>\n",
        "#include <string>\n",
        "using namespace std;\n",
        "\n",
        "int main() {\n",
        "  string txt = \"ABCDEFGHIJKLMNOPQRSTUVWXYZ\";\n",
        "  cout << \"The length of the txt string is: \" << txt.length();\n",
        "  return 0;\n",
        "}"
      ],
      "execution_count": null,
      "outputs": [
        {
          "output_type": "stream",
          "text": [
            "Writing string04.cpp\n"
          ],
          "name": "stdout"
        }
      ]
    },
    {
      "cell_type": "code",
      "metadata": {
        "colab": {
          "base_uri": "https://localhost:8080/"
        },
        "id": "bN8osuBqC8Oe",
        "outputId": "33933cab-7f43-4e9c-ea5b-7702fe88a640"
      },
      "source": [
        "!g++ string04.cpp -o string04; ./string04"
      ],
      "execution_count": null,
      "outputs": [
        {
          "output_type": "stream",
          "text": [
            "The length of the txt string is: 26"
          ],
          "name": "stdout"
        }
      ]
    },
    {
      "cell_type": "markdown",
      "metadata": {
        "id": "jP_tkJIQDsvB"
      },
      "source": [
        "txt.length() と txt.size() は同じ。"
      ]
    },
    {
      "cell_type": "code",
      "metadata": {
        "colab": {
          "base_uri": "https://localhost:8080/"
        },
        "id": "Fwhtd7A5Dn6V",
        "outputId": "a941eee0-393f-4a83-946d-16a866a756b0"
      },
      "source": [
        "%%writefile string05.cpp\n",
        "#include <iostream>\n",
        "#include <string>\n",
        "using namespace std;\n",
        "\n",
        "int main() {\n",
        "  string txt = \"ABCDEFGHIJKLMNOPQRSTUVWXYZ\";\n",
        "  cout << \"The length of the txt string is: \" << txt.size();\n",
        "  return 0;\n",
        "}"
      ],
      "execution_count": null,
      "outputs": [
        {
          "output_type": "stream",
          "text": [
            "Writing string05.cpp\n"
          ],
          "name": "stdout"
        }
      ]
    },
    {
      "cell_type": "code",
      "metadata": {
        "colab": {
          "base_uri": "https://localhost:8080/"
        },
        "id": "tFZQBolJDn6V",
        "outputId": "f174dbbc-e3e8-4297-e57f-249205e053d5"
      },
      "source": [
        "!g++ string05.cpp -o string05; ./string05"
      ],
      "execution_count": null,
      "outputs": [
        {
          "output_type": "stream",
          "text": [
            "The length of the txt string is: 26"
          ],
          "name": "stdout"
        }
      ]
    },
    {
      "cell_type": "code",
      "metadata": {
        "id": "FYU0N2D1aO1t",
        "colab": {
          "base_uri": "https://localhost:8080/"
        },
        "outputId": "b290e047-e61d-4bd6-bc80-0f671b6a34d6"
      },
      "source": [
        "%%writefile string06.cpp\n",
        "#include <iostream>\n",
        "#include <string>\n",
        "using namespace std;\n",
        "\n",
        "int main() {\n",
        "  string myString = \"Hello\";\n",
        "  cout << myString[1];\n",
        "  return 0;\n",
        "}"
      ],
      "execution_count": null,
      "outputs": [
        {
          "output_type": "stream",
          "text": [
            "Writing string06.cpp\n"
          ],
          "name": "stdout"
        }
      ]
    },
    {
      "cell_type": "code",
      "metadata": {
        "id": "OvPgFoaHaTin",
        "colab": {
          "base_uri": "https://localhost:8080/"
        },
        "outputId": "17e0e98b-6169-4a71-ecac-74c01bc7396a"
      },
      "source": [
        "!g++ string06.cpp -o string06; ./string06"
      ],
      "execution_count": null,
      "outputs": [
        {
          "output_type": "stream",
          "text": [
            "e"
          ],
          "name": "stdout"
        }
      ]
    },
    {
      "cell_type": "code",
      "metadata": {
        "id": "N3yk1iHVaYc0",
        "colab": {
          "base_uri": "https://localhost:8080/"
        },
        "outputId": "12cfce90-68d2-4d62-923b-d2038d0eee65"
      },
      "source": [
        "%%writefile string07.cpp\n",
        "#include <iostream>\n",
        "#include <string>\n",
        "using namespace std;\n",
        "\n",
        "int main() {\n",
        "  string myString = \"Hello\";\n",
        "  myString[0] = 'J';\n",
        "  cout << myString;\n",
        "  return 0;\n",
        "}\n"
      ],
      "execution_count": null,
      "outputs": [
        {
          "output_type": "stream",
          "text": [
            "Writing string07.cpp\n"
          ],
          "name": "stdout"
        }
      ]
    },
    {
      "cell_type": "code",
      "metadata": {
        "id": "iOu-_DX2akcc",
        "colab": {
          "base_uri": "https://localhost:8080/"
        },
        "outputId": "7cd4ab1e-fb1e-4106-ac63-a57b0d02c1c9"
      },
      "source": [
        "!g++ string07.cpp -o string07; ./string07"
      ],
      "execution_count": null,
      "outputs": [
        {
          "output_type": "stream",
          "text": [
            "Jello"
          ],
          "name": "stdout"
        }
      ]
    },
    {
      "cell_type": "markdown",
      "metadata": {
        "id": "RbayOl3GbPeJ"
      },
      "source": [
        ""
      ]
    },
    {
      "cell_type": "code",
      "metadata": {
        "id": "7Bk6CAf-bGft"
      },
      "source": [
        "%%script false\n",
        "\n",
        "#include <iostream>\n",
        "#include <string>\n",
        "using namespace std;\n",
        "\n",
        "int main() {\n",
        "  string fullName;\n",
        "  cout << \"Type your full name: \";\n",
        "  getline (cin, fullName);\n",
        "  cout << \"Your name is: \" << fullName;\n",
        "  return 0;\n",
        "}\n"
      ],
      "execution_count": null,
      "outputs": []
    },
    {
      "cell_type": "markdown",
      "metadata": {
        "id": "2kYyYcX6bZNV"
      },
      "source": [
        "`cin >> firstName;` とすると、スペースで区切られたインプットを受け付けないので、`getline (cin, fullName);` とする。\n",
        "\n"
      ]
    },
    {
      "cell_type": "markdown",
      "metadata": {
        "id": "nGgjeu8CJ3zu"
      },
      "source": [
        "ネームスペースのの省略\n",
        "\n",
        "```\n",
        "using namespace std;\n",
        "```\n",
        "\n",
        "を省略したときの書き方。 `::` をつける。\n"
      ]
    },
    {
      "cell_type": "code",
      "metadata": {
        "id": "sq9Q97KdKH-M",
        "colab": {
          "base_uri": "https://localhost:8080/"
        },
        "outputId": "02cb094f-7e2e-4a93-f02d-22e67f91a477"
      },
      "source": [
        "%%writefile nonamespace.cpp\n",
        "\n",
        "#include <iostream>\n",
        "#include <string>\n",
        "\n",
        "int main() {\n",
        "  std::string greeting = \"Hello\";\n",
        "  std::cout << greeting;\n",
        "  return 0;\n",
        "}\n"
      ],
      "execution_count": null,
      "outputs": [
        {
          "output_type": "stream",
          "text": [
            "Writing nonamespace.cpp\n"
          ],
          "name": "stdout"
        }
      ]
    },
    {
      "cell_type": "code",
      "metadata": {
        "id": "zHB4UpcbKTGP",
        "colab": {
          "base_uri": "https://localhost:8080/"
        },
        "outputId": "68939f62-e187-43e0-a30f-e5e0cef10890"
      },
      "source": [
        "!g++ nonamespace.cpp -o nonamespace; ./nonamespace"
      ],
      "execution_count": null,
      "outputs": [
        {
          "output_type": "stream",
          "text": [
            "Hello"
          ],
          "name": "stdout"
        }
      ]
    },
    {
      "cell_type": "markdown",
      "metadata": {
        "id": "z68wPuKITFge"
      },
      "source": [
        "# Math\n"
      ]
    },
    {
      "cell_type": "code",
      "metadata": {
        "id": "DqYJWTLfTHA0",
        "colab": {
          "base_uri": "https://localhost:8080/"
        },
        "outputId": "f2e76ea9-be73-4f13-c396-2319b4d91f63"
      },
      "source": [
        "%%writefile math01.cpp\n",
        "#include <iostream>\n",
        "using namespace std;\n",
        "\n",
        "int main() {\n",
        "  cout << max(5, 10);\n",
        "  return 0;\n",
        "}\n"
      ],
      "execution_count": null,
      "outputs": [
        {
          "output_type": "stream",
          "text": [
            "Writing math01.cpp\n"
          ],
          "name": "stdout"
        }
      ]
    },
    {
      "cell_type": "code",
      "metadata": {
        "id": "m-Q7U_LkTPSy",
        "colab": {
          "base_uri": "https://localhost:8080/"
        },
        "outputId": "5f27dd9d-c78b-44d5-ff98-1bf33e562095"
      },
      "source": [
        "!g++ math01.cpp -o math01; ./math01"
      ],
      "execution_count": null,
      "outputs": [
        {
          "output_type": "stream",
          "text": [
            "10"
          ],
          "name": "stdout"
        }
      ]
    },
    {
      "cell_type": "code",
      "metadata": {
        "id": "qUNsklXVUExb",
        "colab": {
          "base_uri": "https://localhost:8080/"
        },
        "outputId": "f930112e-b100-409b-fe55-a7633fc04d8d"
      },
      "source": [
        "%%writefile math02.cpp\n",
        "#include <iostream>\n",
        "#include <cmath>\n",
        "using namespace std;\n",
        "\n",
        "int main() {\n",
        "  cout << sqrt(64) << \"\\n\";\n",
        "  cout << round(2.6) << \"\\n\";\n",
        "  cout << log(2) << \"\\n\";\n",
        "  return 0;\n",
        "}\n"
      ],
      "execution_count": null,
      "outputs": [
        {
          "output_type": "stream",
          "text": [
            "Writing math02.cpp\n"
          ],
          "name": "stdout"
        }
      ]
    },
    {
      "cell_type": "code",
      "metadata": {
        "id": "2supEKMcUJyx",
        "colab": {
          "base_uri": "https://localhost:8080/"
        },
        "outputId": "9fbb19c9-b7b6-404f-c7bb-913aabe2808b"
      },
      "source": [
        "!g++ math02.cpp -o math02; ./math02"
      ],
      "execution_count": null,
      "outputs": [
        {
          "output_type": "stream",
          "text": [
            "8\n",
            "3\n",
            "0.693147\n"
          ],
          "name": "stdout"
        }
      ]
    },
    {
      "cell_type": "code",
      "metadata": {
        "id": "Qt_Q18TOUu1r",
        "colab": {
          "base_uri": "https://localhost:8080/"
        },
        "outputId": "a56e1361-5aad-49b2-f236-dc61af237698"
      },
      "source": [
        "# python による検証\n",
        "# C++ の log() のベースはネイピア数(2.718)\n",
        "import math\n",
        "\n",
        "print(2.718**0.693147)\n",
        "\n",
        "print(math.exp(1))\n",
        "\n",
        "print(math.log(2))\n",
        "\n",
        "print(math.log(2, math.exp(1)))\n",
        "\n"
      ],
      "execution_count": null,
      "outputs": [
        {
          "output_type": "stream",
          "text": [
            "1.999855907188195\n",
            "2.718281828459045\n",
            "0.6931471805599453\n",
            "0.6931471805599453\n"
          ],
          "name": "stdout"
        }
      ]
    },
    {
      "cell_type": "markdown",
      "metadata": {
        "id": "dFpJLtIeBtIV"
      },
      "source": [
        "### cmath ライブラリーのほかの関数"
      ]
    },
    {
      "cell_type": "code",
      "metadata": {
        "colab": {
          "base_uri": "https://localhost:8080/"
        },
        "id": "5efZAImnB0ZC",
        "outputId": "c72c8e84-027f-4a1a-b9d2-de201c75c4aa"
      },
      "source": [
        "%%writefile math03.cpp\n",
        "#include <iostream>\n",
        "#include <cmath>\n",
        "using namespace std;\n",
        "\n",
        "int main() {\n",
        "  cout << sin(3.14/2) << \"\\n\";\n",
        "  cout << cbrt(64) << \"\\n\";\n",
        "  cout << abs(-2.3) << \"\\n\";\n",
        "  cout << fabs(-2.3) << \"\\n\";\n",
        "  cout << ceil(-2.3) << \"\\n\";\n",
        "  cout << floor(-2.3) << \"\\n\";\n",
        "  cout << exp(1) << \"\\n\";\n",
        "  cout << expm1(1) << \"\\n\";\n",
        "  cout << fdim(3.5, -3.5) << \"\\n\";\n",
        "  cout << hypot(3, 4) << \"\\n\";\n",
        "  cout << fma(2,3,4.1) << \"\\n\";\n",
        "  cout << fmod(5.0, 2.1) << \"\\n\";\n",
        "  cout << pow(16, 0.5) << \"\\n\";\n",
        " \n",
        "  return 0;\n",
        "}\n"
      ],
      "execution_count": null,
      "outputs": [
        {
          "output_type": "stream",
          "text": [
            "Overwriting math03.cpp\n"
          ],
          "name": "stdout"
        }
      ]
    },
    {
      "cell_type": "code",
      "metadata": {
        "colab": {
          "base_uri": "https://localhost:8080/"
        },
        "id": "zi6mNxxCB0ZF",
        "outputId": "8a160133-c0b7-4cbb-9a1f-5f5d8e531773"
      },
      "source": [
        "!g++ math03.cpp -o math03; ./math03"
      ],
      "execution_count": null,
      "outputs": [
        {
          "output_type": "stream",
          "text": [
            "1\n",
            "4\n",
            "2.3\n",
            "2.3\n",
            "-2\n",
            "-3\n",
            "2.71828\n",
            "1.71828\n",
            "7\n",
            "5\n",
            "10.1\n",
            "0.8\n",
            "4\n"
          ],
          "name": "stdout"
        }
      ]
    },
    {
      "cell_type": "code",
      "metadata": {
        "id": "oYYWPgYh74ob",
        "colab": {
          "base_uri": "https://localhost:8080/"
        },
        "outputId": "e8802405-79c4-472c-a31b-2e47a1d9a9ae"
      },
      "source": [
        "%%writefile bool01.cpp\n",
        "#include <iostream>\n",
        "using namespace std;\n",
        "\n",
        "int main() {\n",
        "  bool isCodingFun = true;\n",
        "  bool isFishTasty = false;\n",
        "  cout << isCodingFun << \"\\n\";\n",
        "  cout << isFishTasty;\n",
        "  return 0;\n",
        "}"
      ],
      "execution_count": null,
      "outputs": [
        {
          "output_type": "stream",
          "text": [
            "Writing bool01.cpp\n"
          ],
          "name": "stdout"
        }
      ]
    },
    {
      "cell_type": "code",
      "metadata": {
        "id": "RhUYA2c-7_hz",
        "colab": {
          "base_uri": "https://localhost:8080/"
        },
        "outputId": "289f6b57-55f8-4f5c-cb02-e5d28452cf7a"
      },
      "source": [
        "!g++ bool01.cpp -o bool01; ./bool01"
      ],
      "execution_count": null,
      "outputs": [
        {
          "output_type": "stream",
          "text": [
            "1\n",
            "0"
          ],
          "name": "stdout"
        }
      ]
    },
    {
      "cell_type": "code",
      "metadata": {
        "id": "DW3WU3amjC16",
        "colab": {
          "base_uri": "https://localhost:8080/"
        },
        "outputId": "04dc0fd0-ca29-4d2a-dc8f-e4d86ac23781"
      },
      "source": [
        "%%writefile if01.cpp\n",
        "#include <iostream>\n",
        "using namespace std;\n",
        "\n",
        "int main() {\n",
        "  int x = 20;\n",
        "  int y = 18;\n",
        "  if (x > y) {\n",
        "    cout << \"x is greater than y\";\n",
        "  }  \n",
        "  return 0;\n",
        "}\n"
      ],
      "execution_count": null,
      "outputs": [
        {
          "output_type": "stream",
          "text": [
            "Overwriting if01.cpp\n"
          ],
          "name": "stdout"
        }
      ]
    },
    {
      "cell_type": "code",
      "metadata": {
        "id": "U-TeRyy3jElS",
        "colab": {
          "base_uri": "https://localhost:8080/"
        },
        "outputId": "284ded54-971c-4ff0-e4a5-153dbf559085"
      },
      "source": [
        "!g++ if01.cpp -o if01; ./if01"
      ],
      "execution_count": null,
      "outputs": [
        {
          "output_type": "stream",
          "text": [
            "x is greater than y"
          ],
          "name": "stdout"
        }
      ]
    },
    {
      "cell_type": "code",
      "metadata": {
        "id": "bl06solSjfo0",
        "colab": {
          "base_uri": "https://localhost:8080/"
        },
        "outputId": "b0745442-d7a9-449e-d4ee-f694d60233cd"
      },
      "source": [
        "%%writefile ifelse.cpp\n",
        "#include <iostream>\n",
        "using namespace std;\n",
        "\n",
        "int main() {\n",
        "  int time = 20;\n",
        "  if (time < 18) {\n",
        "    cout << \"Good day.\";\n",
        "  } else {\n",
        "    cout << \"Good evening.\";\n",
        "  }\n",
        "  return 0;\n",
        "}"
      ],
      "execution_count": null,
      "outputs": [
        {
          "output_type": "stream",
          "text": [
            "Overwriting ifelse.cpp\n"
          ],
          "name": "stdout"
        }
      ]
    },
    {
      "cell_type": "code",
      "metadata": {
        "id": "lD_yDgDTjiKH",
        "colab": {
          "base_uri": "https://localhost:8080/"
        },
        "outputId": "63633fc5-7277-4dec-91af-f53bf89907a7"
      },
      "source": [
        "!g++ ifelse.cpp -o ifelse; ./ifelse"
      ],
      "execution_count": null,
      "outputs": [
        {
          "output_type": "stream",
          "text": [
            "Good evening."
          ],
          "name": "stdout"
        }
      ]
    },
    {
      "cell_type": "code",
      "metadata": {
        "id": "1qUuh5JSj4JZ",
        "colab": {
          "base_uri": "https://localhost:8080/"
        },
        "outputId": "daf0be3d-d4e8-43f3-f3ca-ffae978801be"
      },
      "source": [
        "%%writefile ifelse02.cpp\n",
        "#include <iostream>\n",
        "using namespace std;\n",
        "\n",
        "int main() {\n",
        "  int time = 22;\n",
        "  if (time < 10) {\n",
        "    cout << \"Good morning.\";\n",
        "  } else if (time < 20) {\n",
        "    cout << \"Good day.\";\n",
        "  } else {\n",
        "    cout << \"Good evening.\";\n",
        "  }\n",
        "  return 0;\n",
        "}\n"
      ],
      "execution_count": null,
      "outputs": [
        {
          "output_type": "stream",
          "text": [
            "Overwriting ifelse02.cpp\n"
          ],
          "name": "stdout"
        }
      ]
    },
    {
      "cell_type": "code",
      "metadata": {
        "id": "WeNIRfvfj6km",
        "colab": {
          "base_uri": "https://localhost:8080/"
        },
        "outputId": "ad173a03-42ee-48a9-ef0d-3ea088eb981f"
      },
      "source": [
        "!g++ ifelse02.cpp -o ifelse02; ./ifelse02"
      ],
      "execution_count": null,
      "outputs": [
        {
          "output_type": "stream",
          "text": [
            "Good evening."
          ],
          "name": "stdout"
        }
      ]
    },
    {
      "cell_type": "code",
      "metadata": {
        "id": "16UgntYYkPkF",
        "colab": {
          "base_uri": "https://localhost:8080/"
        },
        "outputId": "2516c2d4-6552-4522-e069-44bd2c50c4f1"
      },
      "source": [
        "%%writefile ifelseternary.cpp\n",
        "#include <iostream>\n",
        "#include <string>\n",
        "using namespace std;\n",
        "\n",
        "int main() {\n",
        "  int time = 20;\n",
        "//   string result = (time < 18) ? \"Good day.\" : \"Good evening.\";\n",
        "//   cout << result;\n",
        "  cout <<  ((time < 18) ? \"Good day.\" : \"Good evening.\");\n",
        "  return 0;\n",
        "}\n"
      ],
      "execution_count": null,
      "outputs": [
        {
          "output_type": "stream",
          "text": [
            "Overwriting ifelseternary.cpp\n"
          ],
          "name": "stdout"
        }
      ]
    },
    {
      "cell_type": "code",
      "metadata": {
        "id": "lhEkWQxbkW39",
        "colab": {
          "base_uri": "https://localhost:8080/"
        },
        "outputId": "da6aab41-4ecf-4a56-94b6-3fa10be67cd8"
      },
      "source": [
        "!g++ ifelseternary.cpp -o ifelseternary; ./ifelseternary"
      ],
      "execution_count": null,
      "outputs": [
        {
          "output_type": "stream",
          "text": [
            "Good evening."
          ],
          "name": "stdout"
        }
      ]
    },
    {
      "cell_type": "code",
      "metadata": {
        "id": "XcesfRGD7Zei",
        "colab": {
          "base_uri": "https://localhost:8080/"
        },
        "outputId": "01fec358-2061-4d2c-8f6a-0fbb94440943"
      },
      "source": [
        "%%writefile switch01.cpp\n",
        "\n",
        "#include <iostream>\n",
        "using namespace std;\n",
        "\n",
        "int main() {\n",
        "  int day = 4;\n",
        "  switch (day) {\n",
        "  case 1:\n",
        "    cout << \"Monday\";\n",
        "    break;\n",
        "  case 2:\n",
        "    cout << \"Tuesday\";\n",
        "    break;\n",
        "  case 3:\n",
        "    cout << \"Wednesday\";\n",
        "    break;\n",
        "  case 4:\n",
        "    cout << \"Thursday\";\n",
        "    break;\n",
        "  case 5:\n",
        "    cout << \"Friday\";\n",
        "    break;\n",
        "  case 6:\n",
        "    cout << \"Saturday\";\n",
        "   break;\n",
        "  case 7:\n",
        "    cout << \"Sunday\";\n",
        "    break;\n",
        "  }\n",
        "  return 0;\n",
        "}"
      ],
      "execution_count": null,
      "outputs": [
        {
          "output_type": "stream",
          "text": [
            "Overwriting switch01.cpp\n"
          ],
          "name": "stdout"
        }
      ]
    },
    {
      "cell_type": "code",
      "metadata": {
        "id": "q729GEbV7e4R",
        "colab": {
          "base_uri": "https://localhost:8080/"
        },
        "outputId": "d0b0a957-9306-44bc-f6a7-dee672e96580"
      },
      "source": [
        "!g++ switch01.cpp -o switch01; ./switch01"
      ],
      "execution_count": null,
      "outputs": [
        {
          "output_type": "stream",
          "text": [
            "Thursday"
          ],
          "name": "stdout"
        }
      ]
    },
    {
      "cell_type": "code",
      "metadata": {
        "id": "O72WfBCMGWG-"
      },
      "source": [
        "%%writefile switch02.cpp\n",
        "#include <iostream>\n",
        "using namespace std;\n",
        "\n",
        "int main() {\n",
        "  int day = 4;\n",
        "  switch (day) {\n",
        "    case 6:\n",
        "      cout << \"Today is Saturday\";\n",
        "      break;\n",
        "    case 7:\n",
        "      cout << \"Today is Sunday\";\n",
        "      break;\n",
        "    default:\n",
        "      cout << \"Looking forward to the Weekend\";\n",
        "  }\n",
        "  return 0;\n",
        "}\n"
      ],
      "execution_count": null,
      "outputs": []
    },
    {
      "cell_type": "code",
      "metadata": {
        "id": "6C9d6okNGW5I"
      },
      "source": [
        "!g++ switch02.cpp -o switch02; ./switch02"
      ],
      "execution_count": null,
      "outputs": []
    },
    {
      "cell_type": "code",
      "metadata": {
        "id": "ihhwaJtn4JMD",
        "colab": {
          "base_uri": "https://localhost:8080/"
        },
        "outputId": "303607db-caa3-45c3-efe7-c0e1754b7857"
      },
      "source": [
        "%%writefile while01.cpp\n",
        "#include <iostream>\n",
        "using namespace std;\n",
        "\n",
        "int main() {\n",
        "  int i = 0;\n",
        "  while (i < 5) {\n",
        "    cout << i << \"\\n\";\n",
        "    i++;\n",
        "  }\n",
        "  return 0;\n",
        "}"
      ],
      "execution_count": null,
      "outputs": [
        {
          "output_type": "stream",
          "text": [
            "Writing while01.cpp\n"
          ],
          "name": "stdout"
        }
      ]
    },
    {
      "cell_type": "code",
      "metadata": {
        "id": "zcOgtPoW4Jpz",
        "colab": {
          "base_uri": "https://localhost:8080/"
        },
        "outputId": "81725714-e978-4e42-c101-7467d0a60bb5"
      },
      "source": [
        "!g++ while01.cpp -o while01; ./while01"
      ],
      "execution_count": null,
      "outputs": [
        {
          "output_type": "stream",
          "text": [
            "0\n",
            "1\n",
            "2\n",
            "3\n",
            "4\n"
          ],
          "name": "stdout"
        }
      ]
    },
    {
      "cell_type": "code",
      "metadata": {
        "id": "kDVoKXM74eEN",
        "colab": {
          "base_uri": "https://localhost:8080/"
        },
        "outputId": "461438db-d1f5-4785-e2f7-bbe024ec3c73"
      },
      "source": [
        "%%writefile while02.cpp\n",
        "#include <iostream>\n",
        "using namespace std;\n",
        "\n",
        "int main() {\n",
        "  int i = 0;\n",
        "  do {\n",
        "    cout << i << \"\\n\";\n",
        "    i++;\n",
        "  }\n",
        "  while (i < 5);\n",
        "  return 0;\n",
        "}\n"
      ],
      "execution_count": null,
      "outputs": [
        {
          "output_type": "stream",
          "text": [
            "Writing while02.cpp\n"
          ],
          "name": "stdout"
        }
      ]
    },
    {
      "cell_type": "code",
      "metadata": {
        "id": "T5EZk3rj4dp_",
        "colab": {
          "base_uri": "https://localhost:8080/"
        },
        "outputId": "da36e31c-0f9d-4912-e77e-a7ef6a34029d"
      },
      "source": [
        "!g++ while02.cpp -o while02; ./while02"
      ],
      "execution_count": null,
      "outputs": [
        {
          "output_type": "stream",
          "text": [
            "0\n",
            "1\n",
            "2\n",
            "3\n",
            "4\n"
          ],
          "name": "stdout"
        }
      ]
    },
    {
      "cell_type": "code",
      "metadata": {
        "id": "mekcQLVJ5C21",
        "colab": {
          "base_uri": "https://localhost:8080/"
        },
        "outputId": "17ce2d30-8a29-4965-f6b3-92caa30d2afc"
      },
      "source": [
        "%%writefile for01.cpp\n",
        "#include <iostream>\n",
        "using namespace std;\n",
        "\n",
        "int main() {\n",
        "  for (int i = 0; i < 5; i++) {\n",
        "    cout << i << \"\\n\";\n",
        "  }\n",
        "  return 0;\n",
        "}\n"
      ],
      "execution_count": null,
      "outputs": [
        {
          "output_type": "stream",
          "text": [
            "Writing for01.cpp\n"
          ],
          "name": "stdout"
        }
      ]
    },
    {
      "cell_type": "code",
      "metadata": {
        "id": "vVMSUoTD5DWS",
        "colab": {
          "base_uri": "https://localhost:8080/"
        },
        "outputId": "3dbe5edc-69dc-4114-971b-004b1a5062b1"
      },
      "source": [
        "!g++ for01.cpp -o for01; ./for01"
      ],
      "execution_count": null,
      "outputs": [
        {
          "output_type": "stream",
          "text": [
            "0\n",
            "1\n",
            "2\n",
            "3\n",
            "4\n"
          ],
          "name": "stdout"
        }
      ]
    },
    {
      "cell_type": "code",
      "metadata": {
        "id": "6B9Qb9kU5d75",
        "colab": {
          "base_uri": "https://localhost:8080/"
        },
        "outputId": "8565bbbc-ba1c-427c-a566-2a4e0d0856b8"
      },
      "source": [
        "%%writefile for02.cpp\n",
        "#include <iostream>\n",
        "using namespace std;\n",
        "\n",
        "int main() {\n",
        "  for (int i = 0; i <= 10; i = i + 2) {\n",
        "    cout << i << \"\\n\";\n",
        "  }\n",
        "  return 0;\n",
        "}"
      ],
      "execution_count": null,
      "outputs": [
        {
          "output_type": "stream",
          "text": [
            "Writing for02.cpp\n"
          ],
          "name": "stdout"
        }
      ]
    },
    {
      "cell_type": "code",
      "metadata": {
        "id": "Xi5yv6sO5jx2",
        "colab": {
          "base_uri": "https://localhost:8080/"
        },
        "outputId": "2c401b50-50ee-4223-90e2-01aadc8ed9e5"
      },
      "source": [
        "!g++ for02.cpp -o for02; ./for02"
      ],
      "execution_count": null,
      "outputs": [
        {
          "output_type": "stream",
          "text": [
            "0\n",
            "2\n",
            "4\n",
            "6\n",
            "8\n",
            "10\n"
          ],
          "name": "stdout"
        }
      ]
    },
    {
      "cell_type": "code",
      "metadata": {
        "id": "tRiVBXFL2rnC",
        "colab": {
          "base_uri": "https://localhost:8080/"
        },
        "outputId": "630a4c4a-f8dd-44f7-fc22-a72c19b4cab7"
      },
      "source": [
        "%%writefile breakcontinue.cpp\n",
        "#include <iostream>\n",
        "using namespace std;\n",
        "\n",
        "int main() {\n",
        "  for (int i = 0; i < 10; i++) {\n",
        "    if (i == 4) {\n",
        "      continue;\n",
        "    }\n",
        "    cout << i << \"\\n\";\n",
        "  }   \n",
        "  return 0;\n",
        "}\n"
      ],
      "execution_count": null,
      "outputs": [
        {
          "output_type": "stream",
          "text": [
            "Writing breakcontinue.cpp\n"
          ],
          "name": "stdout"
        }
      ]
    },
    {
      "cell_type": "code",
      "metadata": {
        "id": "holEDCC520Dk",
        "colab": {
          "base_uri": "https://localhost:8080/"
        },
        "outputId": "d81c4c08-7b54-4bf1-a8b8-96408b1522de"
      },
      "source": [
        "!g++ breakcontinue.cpp -o breakcontinue; ./breakcontinue"
      ],
      "execution_count": null,
      "outputs": [
        {
          "output_type": "stream",
          "text": [
            "0\n",
            "1\n",
            "2\n",
            "3\n",
            "5\n",
            "6\n",
            "7\n",
            "8\n",
            "9\n"
          ],
          "name": "stdout"
        }
      ]
    },
    {
      "cell_type": "markdown",
      "metadata": {
        "id": "ZZyfhNB1YqRL"
      },
      "source": [
        "# 配列"
      ]
    },
    {
      "cell_type": "code",
      "metadata": {
        "colab": {
          "base_uri": "https://localhost:8080/"
        },
        "id": "qf_0WEWnl4yx",
        "outputId": "e8183f9c-e545-4305-9a17-d70d159d1dd8"
      },
      "source": [
        "%%writefile array01.cpp\n",
        "\n",
        "#include <iostream>\n",
        "#include <string>\n",
        "using namespace std;\n",
        "\n",
        "int main() {\n",
        "  string cars[4] = {\"Volvo\", \"BMW\", \"Ford\", \"Mazda\"};\n",
        "  cout << cars[0];\n",
        "  return 0;\n",
        "}"
      ],
      "execution_count": null,
      "outputs": [
        {
          "output_type": "stream",
          "text": [
            "Writing array01.cpp\n"
          ],
          "name": "stdout"
        }
      ]
    },
    {
      "cell_type": "code",
      "metadata": {
        "colab": {
          "base_uri": "https://localhost:8080/"
        },
        "id": "e3onRGAemAhi",
        "outputId": "5884bc69-8546-46e8-efea-0314be266d33"
      },
      "source": [
        "!g++ array01.cpp -o array01; ./array01"
      ],
      "execution_count": null,
      "outputs": [
        {
          "output_type": "stream",
          "text": [
            "Volvo"
          ],
          "name": "stdout"
        }
      ]
    },
    {
      "cell_type": "code",
      "metadata": {
        "id": "JickdBaumMKJ",
        "colab": {
          "base_uri": "https://localhost:8080/"
        },
        "outputId": "467b6a90-ed3b-4771-a706-9816b8781631"
      },
      "source": [
        "%%writefile array02.cpp\n",
        "\n",
        "#include <iostream>\n",
        "#include <string>\n",
        "using namespace std;\n",
        "\n",
        "int main() {\n",
        "  string cars[4] = {\"Volvo\", \"BMW\", \"Ford\", \"Mazda\"};\n",
        "  cars[0] = \"Opel\";\n",
        "  cout << cars[0];\n",
        "  return 0;\n",
        "}\n"
      ],
      "execution_count": null,
      "outputs": [
        {
          "output_type": "stream",
          "text": [
            "Writing array02.cpp\n"
          ],
          "name": "stdout"
        }
      ]
    },
    {
      "cell_type": "code",
      "metadata": {
        "id": "xME08Ssamati",
        "colab": {
          "base_uri": "https://localhost:8080/"
        },
        "outputId": "cf1d4218-8898-435f-fd95-dc996d7a64bb"
      },
      "source": [
        "!g++ array02.cpp -o array02; ./array02"
      ],
      "execution_count": null,
      "outputs": [
        {
          "output_type": "stream",
          "text": [
            "Opel"
          ],
          "name": "stdout"
        }
      ]
    },
    {
      "cell_type": "code",
      "metadata": {
        "id": "-8spDgtFmnW7",
        "colab": {
          "base_uri": "https://localhost:8080/"
        },
        "outputId": "37b40f82-6402-4dbe-d323-2e8d61fa0914"
      },
      "source": [
        "%%writefile array03.cpp\n",
        "\n",
        "#include <iostream>\n",
        "#include <string>\n",
        "using namespace std;\n",
        "\n",
        "int main() {\n",
        "  string cars[4] = {\"Volvo\", \"BMW\", \"Ford\", \"Mazda\"};\n",
        "  for(int i = 0; i < 4; i++) {\n",
        "    cout << cars[i] << \"\\n\";\n",
        "  }\n",
        "  return 0;\n",
        "}"
      ],
      "execution_count": null,
      "outputs": [
        {
          "output_type": "stream",
          "text": [
            "Writing array03.cpp\n"
          ],
          "name": "stdout"
        }
      ]
    },
    {
      "cell_type": "code",
      "metadata": {
        "id": "jy8wA-48mq-n",
        "colab": {
          "base_uri": "https://localhost:8080/"
        },
        "outputId": "ce5e25fd-ca5d-4eea-eaa1-b0f66f58c1e1"
      },
      "source": [
        "!g++ array03.cpp -o array03; ./array03"
      ],
      "execution_count": null,
      "outputs": [
        {
          "output_type": "stream",
          "text": [
            "Volvo\n",
            "BMW\n",
            "Ford\n",
            "Mazda\n"
          ],
          "name": "stdout"
        }
      ]
    },
    {
      "cell_type": "code",
      "metadata": {
        "id": "nJ5zPLrsm1z1",
        "colab": {
          "base_uri": "https://localhost:8080/"
        },
        "outputId": "d25827b6-5f6d-4411-86f7-ebf000c782d5"
      },
      "source": [
        "%%writefile array04.cpp\n",
        "\n",
        "#include <iostream>\n",
        "#include <string>\n",
        "using namespace std;\n",
        "int main() {\n",
        "  string cars[4] = {\"Volvo\", \"BMW\", \"Ford\", \"Mazda\"};\n",
        "  for(int i = 0; i < 4; i++) {\n",
        "    cout << i << \": \" << cars[i] << \"\\n\";\n",
        "  }\n",
        "  return 0;\n",
        "}\n"
      ],
      "execution_count": null,
      "outputs": [
        {
          "output_type": "stream",
          "text": [
            "Overwriting array04.cpp\n"
          ],
          "name": "stdout"
        }
      ]
    },
    {
      "cell_type": "code",
      "metadata": {
        "id": "BVbo7l6km5T1",
        "colab": {
          "base_uri": "https://localhost:8080/"
        },
        "outputId": "b0bb4346-2a00-4372-a594-f53ded392680"
      },
      "source": [
        "!g++ array04.cpp -o array04; ./array04"
      ],
      "execution_count": null,
      "outputs": [
        {
          "output_type": "stream",
          "text": [
            "0: Volvo\n",
            "1: BMW\n",
            "2: Ford\n",
            "3: Mazda\n"
          ],
          "name": "stdout"
        }
      ]
    },
    {
      "cell_type": "code",
      "metadata": {
        "id": "Sy8xPThGnpbg",
        "colab": {
          "base_uri": "https://localhost:8080/"
        },
        "outputId": "4c31f104-6515-42fd-ae26-5a5453c3d426"
      },
      "source": [
        "%%writefile array05.cpp\n",
        "\n",
        "#include <iostream>\n",
        "#include <string>\n",
        "using namespace std;\n",
        "\n",
        "int main() {\n",
        "  string cars[5] = {\"Volvo\", \"BMW\", \"Ford\"};\n",
        "  cars[3] = \"Mazda\";\n",
        "  cars[4] = \"Tesla\";\n",
        "  for(int i = 0; i < 5; i++) {\n",
        "    cout << cars[i] << \"\\n\";\n",
        "  }\n",
        "  return 0;\n",
        "}"
      ],
      "execution_count": null,
      "outputs": [
        {
          "output_type": "stream",
          "text": [
            "Writing array05.cpp\n"
          ],
          "name": "stdout"
        }
      ]
    },
    {
      "cell_type": "code",
      "metadata": {
        "id": "GIVj0MYAnswK",
        "colab": {
          "base_uri": "https://localhost:8080/"
        },
        "outputId": "042b3701-56d8-4824-d8c8-39e94e16c46f"
      },
      "source": [
        "!g++ array05.cpp -o array05; ./array05"
      ],
      "execution_count": null,
      "outputs": [
        {
          "output_type": "stream",
          "text": [
            "Volvo\n",
            "BMW\n",
            "Ford\n",
            "Mazda\n",
            "Tesla\n"
          ],
          "name": "stdout"
        }
      ]
    },
    {
      "cell_type": "code",
      "metadata": {
        "id": "OSU6Fsxqn5Rs",
        "colab": {
          "base_uri": "https://localhost:8080/"
        },
        "outputId": "9a870099-e4cc-45aa-8a8c-8b3e7ba9507c"
      },
      "source": [
        "%%writefile array06.cpp\n",
        "\n",
        "#include <iostream>\n",
        "#include <string>\n",
        "using namespace std;\n",
        "\n",
        "int main() {\n",
        "  string cars[5];\n",
        "  cars[0] = \"Volvo\";\n",
        "  cars[1] = \"BMW\";\n",
        "  cars[2] = \"Ford\";\n",
        "  cars[3] = \"Mazda\";\n",
        "  cars[4] = \"Tesla\";\n",
        "  for(int i = 0; i < 5; i++) {\n",
        "    cout << cars[i] << \"\\n\";\n",
        "  }\n",
        "  return 0;\n",
        "}\n"
      ],
      "execution_count": null,
      "outputs": [
        {
          "output_type": "stream",
          "text": [
            "Writing array06.cpp\n"
          ],
          "name": "stdout"
        }
      ]
    },
    {
      "cell_type": "code",
      "metadata": {
        "id": "T7JATf7Kn9d2",
        "colab": {
          "base_uri": "https://localhost:8080/"
        },
        "outputId": "d88b0a43-071f-450b-966a-c93c3ce22904"
      },
      "source": [
        "!g++ array06.cpp -o array06; ./array06"
      ],
      "execution_count": null,
      "outputs": [
        {
          "output_type": "stream",
          "text": [
            "Volvo\n",
            "BMW\n",
            "Ford\n",
            "Mazda\n",
            "Tesla\n"
          ],
          "name": "stdout"
        }
      ]
    },
    {
      "cell_type": "code",
      "metadata": {
        "id": "-qrghEFlhYhu",
        "colab": {
          "base_uri": "https://localhost:8080/"
        },
        "outputId": "a4021832-8a1d-427e-f8ac-61191d66b563"
      },
      "source": [
        "%%writefile reference01.cpp\n",
        "\n",
        "#include <iostream>\n",
        "#include <string>\n",
        "using namespace std;\n",
        "\n",
        "int main() {\n",
        "  string food = \"Pizza\";\n",
        "  string &meal = food;\n",
        "\n",
        "  cout << food << \"\\n\";\n",
        "  cout << meal << \"\\n\";\n",
        "  return 0;\n",
        "}\n"
      ],
      "execution_count": null,
      "outputs": [
        {
          "output_type": "stream",
          "text": [
            "Writing reference01.cpp\n"
          ],
          "name": "stdout"
        }
      ]
    },
    {
      "cell_type": "code",
      "metadata": {
        "id": "KvsgcVGDhmRx",
        "colab": {
          "base_uri": "https://localhost:8080/"
        },
        "outputId": "6ba5005d-b987-4645-e7b9-709756d1952f"
      },
      "source": [
        "!g++ reference01.cpp -o reference01; ./reference01"
      ],
      "execution_count": null,
      "outputs": [
        {
          "output_type": "stream",
          "text": [
            "Pizza\n",
            "Pizza\n"
          ],
          "name": "stdout"
        }
      ]
    },
    {
      "cell_type": "code",
      "metadata": {
        "id": "E_KPSSOwigv7",
        "colab": {
          "base_uri": "https://localhost:8080/"
        },
        "outputId": "f2c1901a-7fab-4945-ae0e-d90d62f4730f"
      },
      "source": [
        "%%writefile reference02.cpp\n",
        "\n",
        "#include <iostream>\n",
        "#include <string>\n",
        "using namespace std;\n",
        "\n",
        "int main() {\n",
        "  string food = \"Pizza\";\n",
        "\n",
        "  cout << &food;\n",
        "  return 0;\n",
        "}\n"
      ],
      "execution_count": null,
      "outputs": [
        {
          "output_type": "stream",
          "text": [
            "Writing reference02.cpp\n"
          ],
          "name": "stdout"
        }
      ]
    },
    {
      "cell_type": "code",
      "metadata": {
        "id": "2Ifs1iLiimEp",
        "colab": {
          "base_uri": "https://localhost:8080/"
        },
        "outputId": "2ee2cb6e-989b-44e9-c324-6914038a6c2f"
      },
      "source": [
        "!g++ reference02.cpp -o reference02; ./reference02"
      ],
      "execution_count": null,
      "outputs": [
        {
          "output_type": "stream",
          "text": [
            "0x7ffe06a85c70"
          ],
          "name": "stdout"
        }
      ]
    },
    {
      "cell_type": "markdown",
      "metadata": {
        "id": "n5tqPh7fYu4w"
      },
      "source": [
        "# ポインター"
      ]
    },
    {
      "cell_type": "code",
      "metadata": {
        "id": "1hgN8V-YXrHK",
        "colab": {
          "base_uri": "https://localhost:8080/"
        },
        "outputId": "a914230b-809e-4d30-b955-e1f62117a6c3"
      },
      "source": [
        "%%writefile pointer01.cpp\n",
        "\n",
        "#include <iostream>\n",
        "#include <string>\n",
        "using namespace std;\n",
        "\n",
        "int main() {\n",
        "  string food = \"Pizza\";  // A string variable\n",
        "  string* ptr = &food;  // A pointer variable that stores the address of food\n",
        "\n",
        "  // Output the value of food\n",
        "  cout << food << \"\\n\";\n",
        "\n",
        "  // Output the memory address of food\n",
        "  cout << &food << \"\\n\";\n",
        "\n",
        "  // Output the memory address of food with the pointer\n",
        "  cout << ptr << \"\\n\";\n",
        "  return 0;\n",
        "}"
      ],
      "execution_count": null,
      "outputs": [
        {
          "output_type": "stream",
          "text": [
            "Writing pointer01.cpp\n"
          ],
          "name": "stdout"
        }
      ]
    },
    {
      "cell_type": "code",
      "metadata": {
        "id": "a8VNvKHCX1jW",
        "colab": {
          "base_uri": "https://localhost:8080/"
        },
        "outputId": "5e0aa9e4-638c-491b-f165-6e5877da30cb"
      },
      "source": [
        "!g++ pointer01.cpp -o pointer01; ./pointer01"
      ],
      "execution_count": null,
      "outputs": [
        {
          "output_type": "stream",
          "text": [
            "Pizza\n",
            "0x7fff88607ea0\n",
            "0x7fff88607ea0\n"
          ],
          "name": "stdout"
        }
      ]
    },
    {
      "cell_type": "code",
      "metadata": {
        "id": "9g5Wa3RqYMTX",
        "colab": {
          "base_uri": "https://localhost:8080/"
        },
        "outputId": "4e82433d-6c84-477e-bd60-0fbe86adce45"
      },
      "source": [
        "%%writefile pointer02.cpp\n",
        "\n",
        "#include <iostream>\n",
        "#include <string>\n",
        "using namespace std;\n",
        "\n",
        "int main() {\n",
        "  string food = \"Pizza\";  // Variable declaration\n",
        "  string* ptr = &food;    // Pointer declaration\n",
        "\n",
        "  // Reference: Output the memory address of food with the pointer\n",
        "  cout << ptr << \"\\n\";\n",
        "\n",
        "  // Dereference: Output the value of food with the pointer\n",
        "  cout << *ptr << \"\\n\";\n",
        "  return 0;\n",
        "}\n"
      ],
      "execution_count": null,
      "outputs": [
        {
          "output_type": "stream",
          "text": [
            "Overwriting pointer02.cpp\n"
          ],
          "name": "stdout"
        }
      ]
    },
    {
      "cell_type": "code",
      "metadata": {
        "id": "qQC7biZtYPIn",
        "colab": {
          "base_uri": "https://localhost:8080/"
        },
        "outputId": "05344cf7-4dac-4c5d-e4ac-10739189ca29"
      },
      "source": [
        "!g++ pointer02.cpp -o pointer02; ./pointer02"
      ],
      "execution_count": null,
      "outputs": [
        {
          "output_type": "stream",
          "text": [
            "0x7ffca5577a20\n",
            "Pizza\n"
          ],
          "name": "stdout"
        }
      ]
    },
    {
      "cell_type": "code",
      "metadata": {
        "id": "x7KawXfwYjBp",
        "colab": {
          "base_uri": "https://localhost:8080/"
        },
        "outputId": "47c05492-c463-4bea-ed8f-e3e360f0d1f8"
      },
      "source": [
        "%%writefile pointer03.cpp\n",
        "\n",
        "#include <iostream>\n",
        "#include <string>\n",
        "using namespace std;\n",
        "\n",
        "int main() {\n",
        "  string food = \"Pizza\";\n",
        "  string* ptr = &food;\n",
        "\n",
        "  // Output the value of food\n",
        "  cout << food << \"\\n\";\n",
        "\n",
        "  // Output the memory address of food\n",
        "  cout << &food << \"\\n\";\n",
        "\n",
        "  // Access the memory address of food and output its value\n",
        "  cout << *ptr << \"\\n\";\n",
        "  \n",
        "  // Change the value of the pointer\n",
        "  *ptr = \"Hamburger\";\n",
        "  \n",
        "  // Output the new value of the pointer\n",
        "  cout << *ptr << \"\\n\";\n",
        "  \n",
        "  // Output the new value of the food variable\n",
        "  cout << food << \"\\n\";\n",
        "  return 0;\n",
        "}\n"
      ],
      "execution_count": null,
      "outputs": [
        {
          "output_type": "stream",
          "text": [
            "Writing pointer03.cpp\n"
          ],
          "name": "stdout"
        }
      ]
    },
    {
      "cell_type": "code",
      "metadata": {
        "id": "ZC4cYleOS1SI",
        "colab": {
          "base_uri": "https://localhost:8080/"
        },
        "outputId": "6aabbc96-318f-4fbb-ce9c-d5bd343714af"
      },
      "source": [
        "!g++ pointer03.cpp -o pointer03; ./pointer03"
      ],
      "execution_count": null,
      "outputs": [
        {
          "output_type": "stream",
          "text": [
            "Pizza\n",
            "0x7ffeee787ed0\n",
            "Pizza\n",
            "Hamburger\n",
            "Hamburger\n"
          ],
          "name": "stdout"
        }
      ]
    },
    {
      "cell_type": "markdown",
      "metadata": {
        "id": "jitnO9S9TGTC"
      },
      "source": [
        "# 関数 function\n"
      ]
    },
    {
      "cell_type": "code",
      "metadata": {
        "id": "rjylv-JQTffr",
        "colab": {
          "base_uri": "https://localhost:8080/"
        },
        "outputId": "935dc10c-10bf-4bee-e7e5-37b3adca5953"
      },
      "source": [
        "%%writefile function01.cpp\n",
        "\n",
        "#include <iostream>\n",
        "using namespace std;\n",
        "\n",
        "void myFunction() {\n",
        "  cout << \"I just got executed!\";\n",
        "}\n",
        "\n",
        "int main() {\n",
        "  myFunction();\n",
        "  return 0;\n",
        "}\n"
      ],
      "execution_count": null,
      "outputs": [
        {
          "output_type": "stream",
          "text": [
            "Writing function01.cpp\n"
          ],
          "name": "stdout"
        }
      ]
    },
    {
      "cell_type": "code",
      "metadata": {
        "id": "qo1x456fTrAr",
        "colab": {
          "base_uri": "https://localhost:8080/"
        },
        "outputId": "b4605751-055b-4d0b-b23d-967cd1cb3747"
      },
      "source": [
        "!g++ function01.cpp -o function01; ./function01"
      ],
      "execution_count": null,
      "outputs": [
        {
          "output_type": "stream",
          "text": [
            "I just got executed!"
          ],
          "name": "stdout"
        }
      ]
    },
    {
      "cell_type": "code",
      "metadata": {
        "id": "pGfdsHEgT291",
        "colab": {
          "base_uri": "https://localhost:8080/"
        },
        "outputId": "df9ecb9a-bc04-4ad6-ec3e-f168779e222b"
      },
      "source": [
        "%%writefile function02.cpp\n",
        "\n",
        "#include <iostream>\n",
        "using namespace std;\n",
        "\n",
        "void myFunction() {\n",
        "  cout << \"I just got executed!\\n\";\n",
        "}\n",
        "\n",
        "int main() {\n",
        "  myFunction();\n",
        "  myFunction();\n",
        "  myFunction();\n",
        "  return 0;\n",
        "}\n"
      ],
      "execution_count": null,
      "outputs": [
        {
          "output_type": "stream",
          "text": [
            "Writing function02.cpp\n"
          ],
          "name": "stdout"
        }
      ]
    },
    {
      "cell_type": "code",
      "metadata": {
        "id": "3ODx7A603Jl6",
        "colab": {
          "base_uri": "https://localhost:8080/"
        },
        "outputId": "13a35eb7-3823-4f92-f7e4-7b6aaa9932c9"
      },
      "source": [
        "!g++ function02.cpp -o function02; ./function02"
      ],
      "execution_count": null,
      "outputs": [
        {
          "output_type": "stream",
          "text": [
            "I just got executed!\n",
            "I just got executed!\n",
            "I just got executed!\n"
          ],
          "name": "stdout"
        }
      ]
    },
    {
      "cell_type": "code",
      "metadata": {
        "id": "EzMi7lOA3vAf",
        "colab": {
          "base_uri": "https://localhost:8080/"
        },
        "outputId": "4f0ad1c2-b3d5-430e-b023-a06094f8c765"
      },
      "source": [
        "%%writefile function03.cpp\n",
        "\n",
        "#include <iostream>\n",
        "using namespace std;\n",
        "\n",
        "// Function declaration\n",
        "void myFunction();\n",
        "\n",
        "// The main method\n",
        "int main() {\n",
        "  myFunction();  // call the function\n",
        "  return 0;\n",
        "}\n",
        "\n",
        "// Function definition\n",
        "void myFunction() {\n",
        "  cout << \"I just got executed!\";\n",
        "}\n"
      ],
      "execution_count": null,
      "outputs": [
        {
          "output_type": "stream",
          "text": [
            "Writing function03.cpp\n"
          ],
          "name": "stdout"
        }
      ]
    },
    {
      "cell_type": "code",
      "metadata": {
        "id": "i5vo6gcf_iac",
        "colab": {
          "base_uri": "https://localhost:8080/"
        },
        "outputId": "6d8b38f7-c1ad-4ded-b5dc-e5cdb4d69315"
      },
      "source": [
        "!g++ function03.cpp -o function03; ./function03"
      ],
      "execution_count": null,
      "outputs": [
        {
          "output_type": "stream",
          "text": [
            "I just got executed!"
          ],
          "name": "stdout"
        }
      ]
    },
    {
      "cell_type": "code",
      "metadata": {
        "id": "PNoSkj5R_y2N",
        "colab": {
          "base_uri": "https://localhost:8080/"
        },
        "outputId": "2fa43af2-6712-4b37-dcae-ad2b02c70bcf"
      },
      "source": [
        "%%writefile function04.cpp\n",
        "\n",
        "#include <iostream>\n",
        "#include <string>\n",
        "using namespace std;\n",
        "\n",
        "void myFunction(string fname) {\n",
        "  cout << fname << \" Refsnes\\n\";\n",
        "}\n",
        "\n",
        "int main() {\n",
        "  myFunction(\"Liam\");\n",
        "  myFunction(\"Jenny\");\n",
        "  myFunction(\"Anja\");\n",
        "  return 0;\n",
        "}\n"
      ],
      "execution_count": null,
      "outputs": [
        {
          "output_type": "stream",
          "text": [
            "Writing function04.cpp\n"
          ],
          "name": "stdout"
        }
      ]
    },
    {
      "cell_type": "code",
      "metadata": {
        "id": "YlH6QCPGAK0R",
        "colab": {
          "base_uri": "https://localhost:8080/"
        },
        "outputId": "3ed90136-fdee-4b59-ab4b-4b47f51065af"
      },
      "source": [
        "!g++ function04.cpp -o function04; ./function04"
      ],
      "execution_count": null,
      "outputs": [
        {
          "output_type": "stream",
          "text": [
            "Liam Refsnes\n",
            "Jenny Refsnes\n",
            "Anja Refsnes\n"
          ],
          "name": "stdout"
        }
      ]
    },
    {
      "cell_type": "code",
      "metadata": {
        "id": "VG7FA6z5ofJ7",
        "colab": {
          "base_uri": "https://localhost:8080/"
        },
        "outputId": "7b06e7dc-fdc1-47e6-9ffa-a0897d4c5c17"
      },
      "source": [
        "%%writefile function05.cpp\n",
        "\n",
        "#include <iostream>\n",
        "#include <string>\n",
        "using namespace std;\n",
        "\n",
        "void myFunction(string country = \"Norway\") {\n",
        "  cout << country << \"\\n\";\n",
        "}\n",
        "\n",
        "int main() {\n",
        "  myFunction(\"Sweden\");\n",
        "  myFunction(\"India\");\n",
        "  myFunction();\n",
        "  myFunction(\"USA\");\n",
        "  return 0;\n",
        "}"
      ],
      "execution_count": null,
      "outputs": [
        {
          "output_type": "stream",
          "text": [
            "Writing function05.cpp\n"
          ],
          "name": "stdout"
        }
      ]
    },
    {
      "cell_type": "code",
      "metadata": {
        "id": "wJ_FQ-okohmm",
        "colab": {
          "base_uri": "https://localhost:8080/"
        },
        "outputId": "cc48ecc4-bba3-488f-b87e-b018cb7858dd"
      },
      "source": [
        "!g++ function05.cpp -o function05; ./function05"
      ],
      "execution_count": null,
      "outputs": [
        {
          "output_type": "stream",
          "text": [
            "Sweden\n",
            "India\n",
            "Norway\n",
            "USA\n"
          ],
          "name": "stdout"
        }
      ]
    },
    {
      "cell_type": "code",
      "metadata": {
        "id": "SPEQWGGTovf4",
        "colab": {
          "base_uri": "https://localhost:8080/"
        },
        "outputId": "6998adcf-6448-4dbf-ef13-fcf50a7cca03"
      },
      "source": [
        "%%writefile function06.cpp\n",
        "\n",
        "#include <iostream>\n",
        "#include <string>\n",
        "using namespace std;\n",
        "\n",
        "void myFunction(string fname, int age) {\n",
        "  cout << fname << \" Refsnes. \" << age << \" years old. \\n\";\n",
        "}\n",
        "\n",
        "int main() {\n",
        "  myFunction(\"Liam\", 3);\n",
        "  myFunction(\"Jenny\", 14);\n",
        "  myFunction(\"Anja\", 30);\n",
        "  return 0;\n",
        "}\n"
      ],
      "execution_count": null,
      "outputs": [
        {
          "output_type": "stream",
          "text": [
            "Writing function06.cpp\n"
          ],
          "name": "stdout"
        }
      ]
    },
    {
      "cell_type": "code",
      "metadata": {
        "id": "c1LJx3ffpCvq",
        "colab": {
          "base_uri": "https://localhost:8080/"
        },
        "outputId": "7c161c25-48b9-4ed0-c3a7-a847e21062e9"
      },
      "source": [
        "!g++ function06.cpp -o function06; ./function06"
      ],
      "execution_count": null,
      "outputs": [
        {
          "output_type": "stream",
          "text": [
            "Liam Refsnes. 3 years old. \n",
            "Jenny Refsnes. 14 years old. \n",
            "Anja Refsnes. 30 years old. \n"
          ],
          "name": "stdout"
        }
      ]
    },
    {
      "cell_type": "code",
      "metadata": {
        "id": "l1SXzT8MpVy0",
        "colab": {
          "base_uri": "https://localhost:8080/"
        },
        "outputId": "126b13ee-9a6c-4bee-f6cf-93775619c245"
      },
      "source": [
        "%%writefile function07.cpp\n",
        "\n",
        "#include <iostream>\n",
        "using namespace std;\n",
        "\n",
        "int myFunction(int x) {\n",
        "  return 5 + x;\n",
        "}\n",
        "\n",
        "int main() {\n",
        "  cout << myFunction(3);\n",
        "  return 0;\n",
        "}\n"
      ],
      "execution_count": null,
      "outputs": [
        {
          "output_type": "stream",
          "text": [
            "Writing function07.cpp\n"
          ],
          "name": "stdout"
        }
      ]
    },
    {
      "cell_type": "code",
      "metadata": {
        "id": "HTFigBpApWKw",
        "colab": {
          "base_uri": "https://localhost:8080/"
        },
        "outputId": "7750a200-e32c-4478-b68a-8178262d85aa"
      },
      "source": [
        "!g++ function07.cpp -o function07; ./function07"
      ],
      "execution_count": null,
      "outputs": [
        {
          "output_type": "stream",
          "text": [
            "8"
          ],
          "name": "stdout"
        }
      ]
    },
    {
      "cell_type": "code",
      "metadata": {
        "id": "ZVkDUuXnpmbK",
        "colab": {
          "base_uri": "https://localhost:8080/"
        },
        "outputId": "5ad03014-49fd-4848-8f40-24d6ddfd1c67"
      },
      "source": [
        "%%writefile function08.cpp\n",
        "\n",
        "#include <iostream>\n",
        "using namespace std;\n",
        "\n",
        "int myFunction(int x, int y) {\n",
        "  return x + y;\n",
        "}\n",
        "\n",
        "int main() {\n",
        "  cout << myFunction(5, 3);\n",
        "  return 0;\n",
        "}\n"
      ],
      "execution_count": null,
      "outputs": [
        {
          "output_type": "stream",
          "text": [
            "Writing function08.cpp\n"
          ],
          "name": "stdout"
        }
      ]
    },
    {
      "cell_type": "code",
      "metadata": {
        "id": "bGb-iR1GpmKd",
        "colab": {
          "base_uri": "https://localhost:8080/"
        },
        "outputId": "ed082be8-5567-4d68-aac8-5335829333e1"
      },
      "source": [
        "!g++ function08.cpp -o function08; ./function08"
      ],
      "execution_count": null,
      "outputs": [
        {
          "output_type": "stream",
          "text": [
            "8"
          ],
          "name": "stdout"
        }
      ]
    },
    {
      "cell_type": "code",
      "metadata": {
        "id": "DMfV5zUpptvH",
        "colab": {
          "base_uri": "https://localhost:8080/"
        },
        "outputId": "3954d613-e2c5-4808-f617-de5ca52599f0"
      },
      "source": [
        "%%writefile function09.cpp\n",
        "\n",
        "#include <iostream>\n",
        "using namespace std;\n",
        "\n",
        "int myFunction(int x, int y) {\n",
        "  return x + y;\n",
        "}\n",
        "\n",
        "int main() {\n",
        "  int z = myFunction(5, 3);\n",
        "  cout << z;\n",
        "  return 0;\n",
        "}\n"
      ],
      "execution_count": null,
      "outputs": [
        {
          "output_type": "stream",
          "text": [
            "Writing function09.cpp\n"
          ],
          "name": "stdout"
        }
      ]
    },
    {
      "cell_type": "code",
      "metadata": {
        "id": "cjORLJfhptjJ",
        "colab": {
          "base_uri": "https://localhost:8080/"
        },
        "outputId": "1710f97a-d78a-4895-d5f3-7912867fc472"
      },
      "source": [
        "!g++ function09.cpp -o function09; ./function09"
      ],
      "execution_count": null,
      "outputs": [
        {
          "output_type": "stream",
          "text": [
            "8"
          ],
          "name": "stdout"
        }
      ]
    },
    {
      "cell_type": "code",
      "metadata": {
        "id": "7_ci617st4bU",
        "colab": {
          "base_uri": "https://localhost:8080/"
        },
        "outputId": "e5d7f60e-dec5-4953-b656-faf6a5bf7594"
      },
      "source": [
        "%%writefile passbyreference.cpp\n",
        "\n",
        "#include <iostream>\n",
        "using namespace std;\n",
        "\n",
        "void swapNums(int &x, int &y) {\n",
        "  int z = x;\n",
        "  x = y;\n",
        "  y = z;\n",
        "}\n",
        "\n",
        "int main() {\n",
        "  int firstNum = 10;\n",
        "  int secondNum = 20;\n",
        "\n",
        "  cout << \"Before swap: \" << \"\\n\";\n",
        "  cout << firstNum << secondNum << \"\\n\";\n",
        "\n",
        "  swapNums(firstNum, secondNum);\n",
        "\n",
        "  cout << \"After swap: \" << \"\\n\";\n",
        "  cout << firstNum << secondNum << \"\\n\";\n",
        "\n",
        "  return 0;\n",
        "}\n"
      ],
      "execution_count": null,
      "outputs": [
        {
          "output_type": "stream",
          "text": [
            "Writing passbyreference.cpp\n"
          ],
          "name": "stdout"
        }
      ]
    },
    {
      "cell_type": "code",
      "metadata": {
        "id": "LEzCoNq7t_vZ",
        "colab": {
          "base_uri": "https://localhost:8080/"
        },
        "outputId": "f75979ee-bda0-49c4-e26f-e660afd699a9"
      },
      "source": [
        "!g++ passbyreference.cpp -o passbyreference; ./passbyreference"
      ],
      "execution_count": null,
      "outputs": [
        {
          "output_type": "stream",
          "text": [
            "Before swap: \n",
            "1020\n",
            "After swap: \n",
            "2010\n"
          ],
          "name": "stdout"
        }
      ]
    },
    {
      "cell_type": "code",
      "metadata": {
        "id": "uloCDtwrumZA",
        "colab": {
          "base_uri": "https://localhost:8080/"
        },
        "outputId": "16d411bd-bf41-40c4-dad0-9e13e4340342"
      },
      "source": [
        "%%writefile functionoverloading.cpp\n",
        "\n",
        "#include <iostream>\n",
        "using namespace std;\n",
        "\n",
        "int plusFunc(int x, int y) {\n",
        "  return x + y;\n",
        "}\n",
        "\n",
        "double plusFunc(double x, double y) {\n",
        "  return x + y;\n",
        "}\n",
        "\n",
        "int main() {\n",
        "  int myNum1 = plusFunc(8, 5);\n",
        "  double myNum2 = plusFunc(4.3, 6.26);\n",
        "  cout << \"Int: \" << myNum1 << \"\\n\";\n",
        "  cout << \"Double: \" << myNum2;\n",
        "  return 0;\n",
        "}"
      ],
      "execution_count": null,
      "outputs": [
        {
          "output_type": "stream",
          "text": [
            "Writing functionoverloading.cpp\n"
          ],
          "name": "stdout"
        }
      ]
    },
    {
      "cell_type": "code",
      "metadata": {
        "id": "ngMHKqjLuoig",
        "colab": {
          "base_uri": "https://localhost:8080/"
        },
        "outputId": "dd7ec08c-21f3-43a2-b3f5-5a09711919a5"
      },
      "source": [
        "!g++ functionoverloading.cpp -o functionoverloading; ./functionoverloading"
      ],
      "execution_count": null,
      "outputs": [
        {
          "output_type": "stream",
          "text": [
            "Int: 13\n",
            "Double: 10.56"
          ],
          "name": "stdout"
        }
      ]
    },
    {
      "cell_type": "markdown",
      "metadata": {
        "id": "RHI59pg_vRv5"
      },
      "source": [
        "# クラス Class\n"
      ]
    },
    {
      "cell_type": "code",
      "metadata": {
        "id": "2trXCKKNIoog",
        "colab": {
          "base_uri": "https://localhost:8080/"
        },
        "outputId": "f6b424f3-441c-4d64-dce7-3553679447e7"
      },
      "source": [
        "%%writefile object01.cpp\n",
        "\n",
        "#include <iostream>\n",
        "#include <string>\n",
        "using namespace std;\n",
        "\n",
        "class MyClass {       // The class\n",
        "  public:             // Access specifier\n",
        "    int myNum;        // Attribute (int variable)\n",
        "    string myString;  // Attribute (string variable)\n",
        "};\n",
        "\n",
        "int main() {\n",
        "  MyClass myObj;  // Create an object of MyClass\n",
        "\n",
        "  // Access attributes and set values\n",
        "  myObj.myNum = 15;\n",
        "  myObj.myString = \"Some text\";\n",
        "\n",
        "  // Print values\n",
        "  cout << myObj.myNum << \"\\n\"; \n",
        "  cout << myObj.myString; \n",
        "  return 0;\n",
        "}\n"
      ],
      "execution_count": null,
      "outputs": [
        {
          "output_type": "stream",
          "text": [
            "Writing object01.cpp\n"
          ],
          "name": "stdout"
        }
      ]
    },
    {
      "cell_type": "code",
      "metadata": {
        "id": "yPV_rnnII6h4",
        "colab": {
          "base_uri": "https://localhost:8080/"
        },
        "outputId": "e0a7080f-3b60-4da5-ffc1-c43ce020421f"
      },
      "source": [
        "!g++ object01.cpp -o object01; ./object01"
      ],
      "execution_count": null,
      "outputs": [
        {
          "output_type": "stream",
          "text": [
            "15\n",
            "Some text"
          ],
          "name": "stdout"
        }
      ]
    },
    {
      "cell_type": "code",
      "metadata": {
        "id": "SL2JLGn2JGAI",
        "colab": {
          "base_uri": "https://localhost:8080/"
        },
        "outputId": "65bd7c4b-f907-4867-aaba-e89c7160f077"
      },
      "source": [
        "%%writefile object02.cpp\n",
        "\n",
        "#include <iostream>\n",
        "#include <string>\n",
        "using namespace std;\n",
        "\n",
        "class Car {\n",
        "  public:\n",
        "    string brand;\n",
        "    string model;\n",
        "    int year;\n",
        "};\n",
        "\n",
        "int main() {\n",
        "  Car carObj1;\n",
        "  carObj1.brand = \"BMW\";\n",
        "  carObj1.model = \"X5\";\n",
        "  carObj1.year = 1999;\n",
        "\n",
        "  Car carObj2;\n",
        "  carObj2.brand = \"Ford\";\n",
        "  carObj2.model = \"Mustang\";\n",
        "  carObj2.year = 1969;\n",
        "\n",
        "  cout << carObj1.brand << \" \" << carObj1.model << \" \" << carObj1.year << \"\\n\";\n",
        "  cout << carObj2.brand << \" \" << carObj2.model << \" \" << carObj2.year << \"\\n\";\n",
        "  return 0;\n",
        "}\n"
      ],
      "execution_count": null,
      "outputs": [
        {
          "output_type": "stream",
          "text": [
            "Writing object02.cpp\n"
          ],
          "name": "stdout"
        }
      ]
    },
    {
      "cell_type": "code",
      "metadata": {
        "id": "gsTqn1uXJFc7",
        "colab": {
          "base_uri": "https://localhost:8080/"
        },
        "outputId": "58376ce0-9c81-4bb0-ca98-ccdf4ed4218a"
      },
      "source": [
        "!g++ object02.cpp -o object02; ./object02"
      ],
      "execution_count": null,
      "outputs": [
        {
          "output_type": "stream",
          "text": [
            "BMW X5 1999\n",
            "Ford Mustang 1969\n"
          ],
          "name": "stdout"
        }
      ]
    },
    {
      "cell_type": "code",
      "metadata": {
        "id": "t5ziGTEKJYdX",
        "colab": {
          "base_uri": "https://localhost:8080/"
        },
        "outputId": "d981aaf2-3baa-43aa-b4ff-480258ea17e9"
      },
      "source": [
        "%%writefile method01.cpp\n",
        "\n",
        "#include <iostream>\n",
        "using namespace std;\n",
        "\n",
        "class MyClass {         // The class\n",
        "  public:               // Access specifier\n",
        "    void myMethod() {   // Method/function\n",
        "      cout << \"Hello World!\";\n",
        "    }\n",
        "};\n",
        "\n",
        "int main() {\n",
        "  MyClass myObj;     // Create an object of MyClass\n",
        "  myObj.myMethod();  // Call the method\n",
        "  return 0;\n",
        "}\n"
      ],
      "execution_count": null,
      "outputs": [
        {
          "output_type": "stream",
          "text": [
            "Writing method01.cpp\n"
          ],
          "name": "stdout"
        }
      ]
    },
    {
      "cell_type": "code",
      "metadata": {
        "id": "kO8LjkheJYGQ",
        "colab": {
          "base_uri": "https://localhost:8080/"
        },
        "outputId": "029bf326-ee36-49bb-c116-65a4e4afd3a4"
      },
      "source": [
        "!g++ method01.cpp -o method01; ./method01"
      ],
      "execution_count": null,
      "outputs": [
        {
          "output_type": "stream",
          "text": [
            "Hello World!"
          ],
          "name": "stdout"
        }
      ]
    },
    {
      "cell_type": "code",
      "metadata": {
        "id": "FdehYAOxJ9hn",
        "colab": {
          "base_uri": "https://localhost:8080/"
        },
        "outputId": "3b8c007c-6af8-4fd4-9805-5b73bde21f4c"
      },
      "source": [
        "%%writefile method02.cpp\n",
        "\n",
        "#include <iostream>\n",
        "using namespace std;\n",
        "\n",
        "class MyClass {         // The class\n",
        "  public:               // Access specifier\n",
        "    void myMethod();    // Method/function declaration\n",
        "};\n",
        "\n",
        "// Method/function definition outside the class\n",
        "void MyClass::myMethod() {\n",
        "  cout << \"Hello World!\";\n",
        "}\n",
        "\n",
        "int main() {\n",
        "  MyClass myObj;     // Create an object of MyClass\n",
        "  myObj.myMethod();  // Call the method\n",
        "  return 0;\n",
        "}\n"
      ],
      "execution_count": null,
      "outputs": [
        {
          "output_type": "stream",
          "text": [
            "Overwriting method02.cpp\n"
          ],
          "name": "stdout"
        }
      ]
    },
    {
      "cell_type": "code",
      "metadata": {
        "id": "hQWeWer7J9Xc",
        "colab": {
          "base_uri": "https://localhost:8080/"
        },
        "outputId": "b89b8b1c-b9b3-464c-dd34-49ce79907573"
      },
      "source": [
        "!g++ method02.cpp -o method02; ./method02"
      ],
      "execution_count": null,
      "outputs": [
        {
          "output_type": "stream",
          "text": [
            "Hello World!"
          ],
          "name": "stdout"
        }
      ]
    },
    {
      "cell_type": "code",
      "metadata": {
        "id": "PYdljvoqKlUH",
        "colab": {
          "base_uri": "https://localhost:8080/"
        },
        "outputId": "67750e8e-06ca-462c-dac8-9bb37893d18f"
      },
      "source": [
        "%%writefile method03.cpp\n",
        "\n",
        "#include <iostream>\n",
        "using namespace std;\n",
        "\n",
        "class Car {\n",
        "  public:\n",
        "    int speed(int maxSpeed);\n",
        "};\n",
        "\n",
        "int Car::speed(int maxSpeed) {\n",
        "  return maxSpeed;\n",
        "}\n",
        "\n",
        "int main() {\n",
        "  Car myObj;\n",
        "  cout << myObj.speed(200);\n",
        "  return 0;\n",
        "}\n"
      ],
      "execution_count": null,
      "outputs": [
        {
          "output_type": "stream",
          "text": [
            "Writing method03.cpp\n"
          ],
          "name": "stdout"
        }
      ]
    },
    {
      "cell_type": "code",
      "metadata": {
        "id": "uyOTylWeKlLo",
        "colab": {
          "base_uri": "https://localhost:8080/"
        },
        "outputId": "6c40512c-e3b6-4a85-cf34-45d739f92680"
      },
      "source": [
        "!g++ method03.cpp -o method03; ./method03"
      ],
      "execution_count": null,
      "outputs": [
        {
          "output_type": "stream",
          "text": [
            "200"
          ],
          "name": "stdout"
        }
      ]
    },
    {
      "cell_type": "code",
      "metadata": {
        "id": "yPnon0NEGpBA",
        "colab": {
          "base_uri": "https://localhost:8080/"
        },
        "outputId": "1b105521-87f9-4c96-f58d-4c9e3ece4bd6"
      },
      "source": [
        "%%writefile constructor01.cpp\n",
        "\n",
        "\n",
        "#include <iostream>\n",
        "using namespace std;\n",
        "\n",
        "class MyClass {     // The class\n",
        "  public:           // Access specifier\n",
        "    MyClass() {     // Constructor\n",
        "      cout << \"Hello World!\";\n",
        "    }\n",
        "};\n",
        "\n",
        "int main() {\n",
        "  MyClass myObj;    // Create an object of MyClass (this will call the constructor)\n",
        "  return 0;\n",
        "}\n"
      ],
      "execution_count": null,
      "outputs": [
        {
          "output_type": "stream",
          "text": [
            "Writing constructor01.cpp\n"
          ],
          "name": "stdout"
        }
      ]
    },
    {
      "cell_type": "code",
      "metadata": {
        "id": "4H6uhhuNGozO",
        "colab": {
          "base_uri": "https://localhost:8080/"
        },
        "outputId": "e6e1c96d-08ee-412b-f73a-759b547bf8b5"
      },
      "source": [
        "!g++ constructor01.cpp -o constructor01; ./constructor01"
      ],
      "execution_count": null,
      "outputs": [
        {
          "output_type": "stream",
          "text": [
            "Hello World!"
          ],
          "name": "stdout"
        }
      ]
    },
    {
      "cell_type": "code",
      "metadata": {
        "id": "QjkuRZ3DHE8U",
        "colab": {
          "base_uri": "https://localhost:8080/"
        },
        "outputId": "f0d2480a-376a-460b-ccce-576f0488e507"
      },
      "source": [
        "%%writefile constructor02.cpp\n",
        "\n",
        "#include <iostream>\n",
        "using namespace std;\n",
        "\n",
        "class Car {        // The class\n",
        "  public:          // Access specifier\n",
        "    string brand;  // Attribute\n",
        "    string model;  // Attribute\n",
        "    int year;      // Attribute\n",
        "    Car(string x, string y, int z) {  // Constructor with parameters\n",
        "      brand = x;\n",
        "      model = y;\n",
        "      year = z;\n",
        "    }\n",
        "};\n",
        "\n",
        "int main() {\n",
        "  // Create Car objects and call the constructor with different values\n",
        "  Car carObj1(\"BMW\", \"X5\", 1999);\n",
        "  Car carObj2(\"Ford\", \"Mustang\", 1969);\n",
        "\n",
        "  // Print values\n",
        "  cout << carObj1.brand << \" \" << carObj1.model << \" \" << carObj1.year << \"\\n\";\n",
        "  cout << carObj2.brand << \" \" << carObj2.model << \" \" << carObj2.year << \"\\n\";\n",
        "  return 0;\n",
        "}\n"
      ],
      "execution_count": null,
      "outputs": [
        {
          "output_type": "stream",
          "text": [
            "Writing constructor02.cpp\n"
          ],
          "name": "stdout"
        }
      ]
    },
    {
      "cell_type": "code",
      "metadata": {
        "id": "r7BS44sTHEzk",
        "colab": {
          "base_uri": "https://localhost:8080/"
        },
        "outputId": "74eddcaa-568c-4e37-e22f-a7d95d1f25c3"
      },
      "source": [
        "!g++ constructor02.cpp -o constructor02; ./constructor02"
      ],
      "execution_count": null,
      "outputs": [
        {
          "output_type": "stream",
          "text": [
            "BMW X5 1999\n",
            "Ford Mustang 1969\n"
          ],
          "name": "stdout"
        }
      ]
    },
    {
      "cell_type": "code",
      "metadata": {
        "id": "sAWgqgADHg47",
        "colab": {
          "base_uri": "https://localhost:8080/"
        },
        "outputId": "64cb7ee1-1416-4f2c-83dc-2218d3b9c50e"
      },
      "source": [
        "%%writefile constructor03.cpp\n",
        "\n",
        "\n",
        "#include <iostream>\n",
        "using namespace std;\n",
        "\n",
        "class Car {        // The class\n",
        "  public:          // Access specifier\n",
        "    string brand;  // Attribute\n",
        "    string model;  // Attribute\n",
        "    int year;      // Attribute\n",
        "    Car(string x, string y, int z); // Constructor declaration\n",
        "};\n",
        "\n",
        "// Constructor definition outside the class\n",
        "Car::Car(string x, string y, int z) {\n",
        "  brand = x;\n",
        "  model = y;\n",
        "  year = z;\n",
        "}\n",
        "\n",
        "int main() {\n",
        "  // Create Car objects and call the constructor with different values\n",
        "  Car carObj1(\"BMW\", \"X5\", 1999);\n",
        "  Car carObj2(\"Ford\", \"Mustang\", 1969);\n",
        "\n",
        "  // Print values\n",
        "  cout << carObj1.brand << \" \" << carObj1.model << \" \" << carObj1.year << \"\\n\";\n",
        "  cout << carObj2.brand << \" \" << carObj2.model << \" \" << carObj2.year << \"\\n\";\n",
        "  return 0;\n",
        "}\n"
      ],
      "execution_count": null,
      "outputs": [
        {
          "output_type": "stream",
          "text": [
            "Writing constructor03.cpp\n"
          ],
          "name": "stdout"
        }
      ]
    },
    {
      "cell_type": "code",
      "metadata": {
        "id": "-JagdTUNHg0f",
        "colab": {
          "base_uri": "https://localhost:8080/"
        },
        "outputId": "38f76247-7d54-4f36-f4ad-2aab7082a50c"
      },
      "source": [
        "!g++ constructor03.cpp -o constructor03; ./constructor03\n"
      ],
      "execution_count": null,
      "outputs": [
        {
          "output_type": "stream",
          "text": [
            "BMW X5 1999\n",
            "Ford Mustang 1969\n"
          ],
          "name": "stdout"
        }
      ]
    },
    {
      "cell_type": "code",
      "metadata": {
        "id": "wwPyr_ITH90I"
      },
      "source": [
        "%%script false\n",
        "\n",
        "#include <iostream>\n",
        "using namespace std;\n",
        "\n",
        "class MyClass {\n",
        "  public:    // Public access specifier\n",
        "    int x;   // Public attribute\n",
        "  private:   // Private access specifier\n",
        "    int y;   // Private attribute\n",
        "};\n",
        "\n",
        "int main() {\n",
        "  MyClass myObj;\n",
        "  myObj.x = 25;  // Allowed (x is public)\n",
        "  myObj.y = 50;  // Not allowed (y is private)\n",
        "  return 0;\n",
        "}\n",
        "\n",
        "\n",
        "# In function 'int main()':\n",
        "# Line 8: error: 'int MyClass::y' is private\n",
        "# Line 14: error: within this context"
      ],
      "execution_count": null,
      "outputs": []
    },
    {
      "cell_type": "code",
      "metadata": {
        "id": "LfIOgkyZInao",
        "colab": {
          "base_uri": "https://localhost:8080/"
        },
        "outputId": "de4d2a69-2d6e-4830-965f-f21dd9272c22"
      },
      "source": [
        "%%writefile accessspecifier.cpp\n",
        "\n",
        "\n",
        "#include <iostream>\n",
        "using namespace std;\n",
        "\n",
        "class MyClass {   // The class\n",
        "  public:         // Public access specifier\n",
        "    int x;        // Public attribute (int variable)\n",
        "};\n",
        "\n",
        "int main() {\n",
        "  MyClass myObj;  // Create an object of MyClass\n",
        "\n",
        "  // Access attributes and set values\n",
        "  myObj.x = 15;\n",
        "\n",
        "  // Print values\n",
        "  cout << myObj.x; \n",
        "  return 0;\n",
        "}\n"
      ],
      "execution_count": null,
      "outputs": [
        {
          "output_type": "stream",
          "text": [
            "Writing accessspecifier.cpp\n",
            "Overwriting accessspecifier.cpp\n"
          ],
          "name": "stdout"
        }
      ]
    },
    {
      "cell_type": "code",
      "metadata": {
        "id": "oiG0RSZjInHS",
        "colab": {
          "base_uri": "https://localhost:8080/"
        },
        "outputId": "fe2ccca7-5391-4861-8f42-bc488e847621"
      },
      "source": [
        "!g++ accessspecifier.cpp -o accessspecifier; ./accessspecifier"
      ],
      "execution_count": null,
      "outputs": [
        {
          "output_type": "stream",
          "text": [
            "15"
          ],
          "name": "stdout"
        }
      ]
    },
    {
      "cell_type": "code",
      "metadata": {
        "id": "aOru4KrJYA1S",
        "colab": {
          "base_uri": "https://localhost:8080/"
        },
        "outputId": "3913cbaa-caf9-480f-e2d9-e9b00b34e2f3"
      },
      "source": [
        "%%writefile encapsulation01.cpp\n",
        "\n",
        "#include <iostream>\n",
        "using namespace std;\n",
        "\n",
        "class Employee {\n",
        "  private:\n",
        "    int salary;\n",
        "\n",
        "  public:\n",
        "    void setSalary(int s) {\n",
        "      salary = s;\n",
        "    }\n",
        "    int getSalary() {\n",
        "      return salary;\n",
        "    }\n",
        "};\n",
        "\n",
        "int main() {\n",
        "  Employee myObj;\n",
        "  myObj.setSalary(50000);\n",
        "  cout << myObj.getSalary();\n",
        "  return 0;\n",
        "}"
      ],
      "execution_count": null,
      "outputs": [
        {
          "output_type": "stream",
          "text": [
            "Writing encapsulation01.cpp\n"
          ],
          "name": "stdout"
        }
      ]
    },
    {
      "cell_type": "code",
      "metadata": {
        "id": "zaolZDXrYD9V",
        "colab": {
          "base_uri": "https://localhost:8080/"
        },
        "outputId": "3289ca3f-b3e8-4c87-f6ca-b9653e5f551a"
      },
      "source": [
        "!g++ encapsulation01.cpp -o encapsulation01; ./encapsulation01"
      ],
      "execution_count": null,
      "outputs": [
        {
          "output_type": "stream",
          "text": [
            "50000"
          ],
          "name": "stdout"
        }
      ]
    },
    {
      "cell_type": "code",
      "metadata": {
        "id": "BQ7FyXY7YqxQ",
        "colab": {
          "base_uri": "https://localhost:8080/"
        },
        "outputId": "039f8247-8382-4b5d-9a32-37f5e129e894"
      },
      "source": [
        "%%writefile inheritance01.cpp\n",
        "\n",
        "#include <iostream>\n",
        "#include <string>\n",
        "using namespace std;\n",
        "\n",
        "// Base class\n",
        "class Vehicle {\n",
        "  public: \n",
        "    string brand = \"Ford\";\n",
        "    void honk() {\n",
        "      cout << \"Tuut, tuut! \\n\" ;\n",
        "    }\n",
        "};\n",
        "\n",
        "// Derived class\n",
        "class Car: public Vehicle {\n",
        "  public: \n",
        "    string model = \"Mustang\";\n",
        "};\n",
        "\n",
        "int main() {\n",
        "  Car myCar;\n",
        "  myCar.honk();\n",
        "  cout << myCar.brand + \" \" + myCar.model;\n",
        "  return 0;\n",
        "}\n",
        "\n"
      ],
      "execution_count": null,
      "outputs": [
        {
          "output_type": "stream",
          "text": [
            "Writing inheritance01.cpp\n"
          ],
          "name": "stdout"
        }
      ]
    },
    {
      "cell_type": "code",
      "metadata": {
        "id": "YDeaI5uzYucL",
        "colab": {
          "base_uri": "https://localhost:8080/"
        },
        "outputId": "17f03594-c44d-45a7-9ce9-f50d79985cc1"
      },
      "source": [
        "!g++ inheritance01.cpp -o inheritance01; ./inheritance01"
      ],
      "execution_count": null,
      "outputs": [
        {
          "output_type": "stream",
          "text": [
            "Tuut, tuut! \n",
            "Ford Mustang"
          ],
          "name": "stdout"
        }
      ]
    },
    {
      "cell_type": "code",
      "metadata": {
        "id": "94a6-oLOZKkn",
        "colab": {
          "base_uri": "https://localhost:8080/"
        },
        "outputId": "74e690ab-73c9-48df-f002-6ee2ecdb16e9"
      },
      "source": [
        "%%writefile inheritance02.cpp\n",
        "\n",
        "#include <iostream>\n",
        "using namespace std;\n",
        "\n",
        "// Parent class\n",
        "class MyClass {\n",
        "  public: \n",
        "    void myFunction() {\n",
        "      cout << \"Some content in parent class.\" ;\n",
        "    }\n",
        "};\n",
        "\n",
        "// Child class\n",
        "class MyChild: public MyClass {\n",
        "};\n",
        "\n",
        "// Grandchild class \n",
        "class MyGrandChild: public MyChild {\n",
        "};\n",
        "\n",
        "int main() {\n",
        "  MyGrandChild myObj;\n",
        "  myObj.myFunction();\n",
        "  return 0;\n",
        "}\n"
      ],
      "execution_count": null,
      "outputs": [
        {
          "output_type": "stream",
          "text": [
            "Writing inheritance02.cpp\n"
          ],
          "name": "stdout"
        }
      ]
    },
    {
      "cell_type": "code",
      "metadata": {
        "id": "Jrs7Y29GZM8c",
        "colab": {
          "base_uri": "https://localhost:8080/"
        },
        "outputId": "bb57db98-c591-413f-9f41-233e86d786ca"
      },
      "source": [
        "!g++ inheritance02.cpp -o inheritance02; ./inheritance02"
      ],
      "execution_count": null,
      "outputs": [
        {
          "output_type": "stream",
          "text": [
            "Some content in parent class."
          ],
          "name": "stdout"
        }
      ]
    },
    {
      "cell_type": "code",
      "metadata": {
        "id": "8-AvRNkWZhqf",
        "colab": {
          "base_uri": "https://localhost:8080/"
        },
        "outputId": "2fc65dd6-784d-43cc-9132-9f24092f53bc"
      },
      "source": [
        "%%writefile inheritance03.cpp\n",
        "\n",
        "#include <iostream>\n",
        "using namespace std;\n",
        "\n",
        "// Base class\n",
        "class MyClass {\n",
        "  public:\n",
        "    void myFunction() {\n",
        "      cout << \"Some content in parent class.\\n\" ;\n",
        "    }\n",
        "};\n",
        "\n",
        "// Another base class\n",
        "class MyOtherClass {\n",
        "  public:\n",
        "    void myOtherFunction() {\n",
        "      cout << \"Some content in another class.\\n\" ;\n",
        "    }\n",
        "};\n",
        "\n",
        "// Derived class\n",
        "class MyChildClass: public MyClass, public MyOtherClass {\n",
        "};\n",
        "\n",
        "int main() {\n",
        "  MyChildClass myObj;\n",
        "  myObj.myFunction();\n",
        "  myObj.myOtherFunction();\n",
        "  return 0;\n",
        "}\n"
      ],
      "execution_count": null,
      "outputs": [
        {
          "output_type": "stream",
          "text": [
            "Writing inheritance03.cpp\n"
          ],
          "name": "stdout"
        }
      ]
    },
    {
      "cell_type": "code",
      "metadata": {
        "id": "XVvEQr3-ZyGd",
        "colab": {
          "base_uri": "https://localhost:8080/"
        },
        "outputId": "5ff8701a-cd2a-4fd2-bfd6-e7e8118d9e1c"
      },
      "source": [
        "!g++ inheritance03.cpp -o inheritance03; ./inheritance03"
      ],
      "execution_count": null,
      "outputs": [
        {
          "output_type": "stream",
          "text": [
            "Some content in parent class.\n",
            "Some content in another class.\n"
          ],
          "name": "stdout"
        }
      ]
    },
    {
      "cell_type": "code",
      "metadata": {
        "id": "npPHwffZaCU_",
        "colab": {
          "base_uri": "https://localhost:8080/"
        },
        "outputId": "f6ff6374-0681-4a47-b499-3c9a722944b6"
      },
      "source": [
        "%%writefile inheritance04.cpp\n",
        "\n",
        "#include <iostream>\n",
        "using namespace std;\n",
        "\n",
        "// Base class\n",
        "class Employee  {\n",
        "  protected:  // Protected access specifier\n",
        "    int salary;\n",
        "};\n",
        "\n",
        "// Derived class\n",
        "class Programmer: public Employee {\n",
        "  public:\n",
        "    int bonus;\n",
        "    void setSalary(int s) {\n",
        "      salary = s;\n",
        "    }\n",
        "    int getSalary() {\n",
        "      return salary;\n",
        "    }\n",
        "};\n",
        "\n",
        "int main() {\n",
        "  Programmer myObj;\n",
        "  myObj.setSalary(50000);\n",
        "  myObj.bonus = 15000;\n",
        "  cout << \"Salary: \" << myObj.getSalary() << \"\\n\";\n",
        "  cout << \"Bonus: \" << myObj.bonus << \"\\n\";\n",
        "  return 0;\n",
        "}\n"
      ],
      "execution_count": null,
      "outputs": [
        {
          "output_type": "stream",
          "text": [
            "Writing inheritance04.cpp\n"
          ],
          "name": "stdout"
        }
      ]
    },
    {
      "cell_type": "code",
      "metadata": {
        "id": "WUYFP1u8aIjb",
        "colab": {
          "base_uri": "https://localhost:8080/"
        },
        "outputId": "ba8d3c0f-7612-4dba-e001-3544bca3fd06"
      },
      "source": [
        "!g++ inheritance04.cpp -o inheritance04; ./inheritance04"
      ],
      "execution_count": null,
      "outputs": [
        {
          "output_type": "stream",
          "text": [
            "Salary: 50000\n",
            "Bonus: 15000\n"
          ],
          "name": "stdout"
        }
      ]
    },
    {
      "cell_type": "code",
      "metadata": {
        "id": "smDbnHa3X8qp",
        "colab": {
          "base_uri": "https://localhost:8080/"
        },
        "outputId": "d9c57dc8-68fd-4b2f-fe9e-90ae6bb0a86b"
      },
      "source": [
        "%%writefile polymorphism.cpp\n",
        "\n",
        "#include <iostream>\n",
        "#include <string>\n",
        "using namespace std;\n",
        "\n",
        "// Base class\n",
        "class Animal {\n",
        "  public:\n",
        "    void animalSound() {\n",
        "      cout << \"The animal makes a sound \\n\" ;\n",
        "    }\n",
        "};\n",
        "\n",
        "// Derived class\n",
        "class Pig : public Animal {\n",
        "  public:\n",
        "    void animalSound() {\n",
        "      cout << \"The pig says: wee wee \\n\" ;\n",
        "    }\n",
        "};\n",
        "\n",
        "// Derived class\n",
        "class Dog : public Animal {\n",
        "  public:\n",
        "    void animalSound() {\n",
        "      cout << \"The dog says: bow wow \\n\" ;\n",
        "    }\n",
        "};\n",
        "\n",
        "int main() {\n",
        "  Animal myAnimal;\n",
        "  Pig myPig;\n",
        "  Dog myDog;\n",
        "\n",
        "  myAnimal.animalSound();\n",
        "  myPig.animalSound();\n",
        "  myDog.animalSound();\n",
        "  return 0;\n",
        "}\n"
      ],
      "execution_count": null,
      "outputs": [
        {
          "output_type": "stream",
          "text": [
            "Writing polymorphism.cpp\n"
          ],
          "name": "stdout"
        }
      ]
    },
    {
      "cell_type": "code",
      "metadata": {
        "id": "YA0Yro23YB0M",
        "colab": {
          "base_uri": "https://localhost:8080/"
        },
        "outputId": "cfcd6e0a-0bb1-49d2-c9c3-6c3fa3e28ce6"
      },
      "source": [
        "!g++ polymorphism.cpp -o polymorphism; ./polymorphism"
      ],
      "execution_count": null,
      "outputs": [
        {
          "output_type": "stream",
          "text": [
            "The animal makes a sound \n",
            "The pig says: wee wee \n",
            "The dog says: bow wow \n"
          ],
          "name": "stdout"
        }
      ]
    },
    {
      "cell_type": "code",
      "metadata": {
        "id": "JYjXHaQCYo9B",
        "colab": {
          "base_uri": "https://localhost:8080/"
        },
        "outputId": "06107003-06ec-4da6-fe1c-e61896048d6f"
      },
      "source": [
        "%%writefile file01.cpp\n",
        "\n",
        "#include <iostream>\n",
        "#include <fstream>\n",
        "#include <string>\n",
        "using namespace std;\n",
        "\n",
        "int main () {\n",
        "  // Create a text file\n",
        "  ofstream MyWriteFile(\"filename.txt\");\n",
        "\n",
        "  // Write to the file\n",
        "  MyWriteFile << \"Files can be tricky, but it is fun enough!\";\n",
        " \n",
        "  // Close the file\n",
        "  MyWriteFile.close();\n",
        "\n",
        "  // Create a text string, which is used to output the text file\n",
        "  string myText;\n",
        "\n",
        "  // Read from the text file\n",
        "  ifstream MyReadFile(\"filename.txt\");\n",
        "\n",
        "  // Use a while loop together with the getline() function to read the file line by line\n",
        "  while (getline (MyReadFile, myText)) {\n",
        "    // Output the text from the file\n",
        "    cout << myText;\n",
        "  }\n",
        "\n",
        "  // Close the file\n",
        "  MyReadFile.close();\n",
        "}\n"
      ],
      "execution_count": null,
      "outputs": [
        {
          "output_type": "stream",
          "text": [
            "Writing file01.cpp\n"
          ],
          "name": "stdout"
        }
      ]
    },
    {
      "cell_type": "code",
      "metadata": {
        "id": "DusXiwvrYxVW",
        "colab": {
          "base_uri": "https://localhost:8080/"
        },
        "outputId": "8fd69c85-8a8e-4d99-af68-0221098753be"
      },
      "source": [
        "!g++ file01.cpp -o file01; ./file01"
      ],
      "execution_count": null,
      "outputs": [
        {
          "output_type": "stream",
          "text": [
            "Files can be tricky, but it is fun enough!"
          ],
          "name": "stdout"
        }
      ]
    },
    {
      "cell_type": "markdown",
      "metadata": {
        "id": "z7374E9K9xYk"
      },
      "source": [
        "# 例外処理 exceptions"
      ]
    },
    {
      "cell_type": "code",
      "metadata": {
        "id": "v7nVRIvWnl-k",
        "colab": {
          "base_uri": "https://localhost:8080/"
        },
        "outputId": "ba68360b-e0dc-40f3-96c5-efe5235bad94"
      },
      "source": [
        "%%writefile exception01.cpp\n",
        "\n",
        "#include <iostream>\n",
        "using namespace std;\n",
        "\n",
        "int main() {\n",
        "  try {\n",
        "    int age = 15;\n",
        "    if (age >= 18) {\n",
        "      cout << \"Access granted - you are old enough.\";\n",
        "    } else {\n",
        "      throw (age);\n",
        "    }\n",
        "  }\n",
        "  catch (int myNum) {\n",
        "    cout << \"Access denied - You must be at least 18 years old.\\n\";\n",
        "    cout << \"Age is: \" << myNum;  \n",
        "  }\n",
        "  return 0;\n",
        "}\n"
      ],
      "execution_count": null,
      "outputs": [
        {
          "output_type": "stream",
          "text": [
            "Overwriting exception01.cpp\n"
          ],
          "name": "stdout"
        }
      ]
    },
    {
      "cell_type": "code",
      "metadata": {
        "id": "sXH_yclMnwrK",
        "colab": {
          "base_uri": "https://localhost:8080/"
        },
        "outputId": "f83d269e-2229-4b25-eaa7-fae28cf5b476"
      },
      "source": [
        "!g++ exception01.cpp -o exception01; ./exception01"
      ],
      "execution_count": null,
      "outputs": [
        {
          "output_type": "stream",
          "text": [
            "Access denied - You must be at least 18 years old.\n",
            "Age is: 15"
          ],
          "name": "stdout"
        }
      ]
    },
    {
      "cell_type": "code",
      "metadata": {
        "id": "vasNgg0a8m3i",
        "colab": {
          "base_uri": "https://localhost:8080/"
        },
        "outputId": "ca09340d-88b3-419c-c68e-fa97a71ef043"
      },
      "source": [
        "%%writefile exception02.cpp\n",
        "\n",
        "#include <iostream>\n",
        "using namespace std;\n",
        "\n",
        "int main() {\n",
        "  try {\n",
        "    int age = 20;\n",
        "    if (age >= 18) {\n",
        "      cout << \"Access granted - you are old enough.\";\n",
        "    } else {\n",
        "      throw (age);\n",
        "    }\n",
        "  }\n",
        "  catch (int myNum) {\n",
        "    cout << \"Access denied - You must be at least 18 years old.\\n\";\n",
        "    cout << \"Age is: \" << myNum;  \n",
        "  }\n",
        "  return 0;\n",
        "}\n"
      ],
      "execution_count": null,
      "outputs": [
        {
          "output_type": "stream",
          "text": [
            "Writing exception02.cpp\n"
          ],
          "name": "stdout"
        }
      ]
    },
    {
      "cell_type": "code",
      "metadata": {
        "id": "s-wwtOHF8ndo",
        "colab": {
          "base_uri": "https://localhost:8080/"
        },
        "outputId": "766ddd88-30e4-4919-cc0f-9305facd6de3"
      },
      "source": [
        "!g++ exception02.cpp -o exception02; ./exception02"
      ],
      "execution_count": null,
      "outputs": [
        {
          "output_type": "stream",
          "text": [
            "Access granted - you are old enough."
          ],
          "name": "stdout"
        }
      ]
    },
    {
      "cell_type": "code",
      "metadata": {
        "id": "WjmnyJNM8_zi",
        "colab": {
          "base_uri": "https://localhost:8080/"
        },
        "outputId": "58b3cd59-4b39-469e-c2b2-a7539eb7a48b"
      },
      "source": [
        "%%writefile exception03.cpp\n",
        "\n",
        "\n",
        "#include <iostream>\n",
        "using namespace std;\n",
        "\n",
        "int main() {\n",
        "  try {\n",
        "    int age = 15;\n",
        "    if (age >= 18) {\n",
        "      cout << \"Access granted - you are old enough.\";\n",
        "    } else {\n",
        "      throw 505;\n",
        "    }\n",
        "  }\n",
        "  catch (int myNum) {\n",
        "    cout << \"Access denied - You must be at least 18 years old.\\n\";\n",
        "    cout << \"Error number: \" << myNum;  \n",
        "  }\n",
        "  return 0;\n",
        "}\n"
      ],
      "execution_count": null,
      "outputs": [
        {
          "output_type": "stream",
          "text": [
            "Writing exception03.cpp\n"
          ],
          "name": "stdout"
        }
      ]
    },
    {
      "cell_type": "code",
      "metadata": {
        "id": "Tzx3ZsOv8_nF",
        "colab": {
          "base_uri": "https://localhost:8080/"
        },
        "outputId": "0d088459-ee24-4c18-ceac-443e6b279b0e"
      },
      "source": [
        "!g++ exception03.cpp -o exception03; ./exception03"
      ],
      "execution_count": null,
      "outputs": [
        {
          "output_type": "stream",
          "text": [
            "Access denied - You must be at least 18 years old.\n",
            "Error number: 505"
          ],
          "name": "stdout"
        }
      ]
    },
    {
      "cell_type": "code",
      "metadata": {
        "id": "OZN2Bu5A9WqA",
        "colab": {
          "base_uri": "https://localhost:8080/"
        },
        "outputId": "415f53b1-1536-4c84-b39e-7f513abfce52"
      },
      "source": [
        "%%writefile exception04.cpp\n",
        "\n",
        "#include <iostream>\n",
        "using namespace std;\n",
        "\n",
        "int main() {\n",
        "  try {\n",
        "    int age = 15;\n",
        "    if (age >= 18) {\n",
        "      cout << \"Access granted - you are old enough.\";\n",
        "    } else {\n",
        "      throw 505;\n",
        "    }\n",
        "  }\n",
        "  catch (...) {\n",
        "    cout << \"Access denied - You must be at least 18 years old.\\n\";\n",
        "  }\n",
        "  return 0;\n",
        "}\n"
      ],
      "execution_count": null,
      "outputs": [
        {
          "output_type": "stream",
          "text": [
            "Writing exception04.cpp\n"
          ],
          "name": "stdout"
        }
      ]
    },
    {
      "cell_type": "code",
      "metadata": {
        "id": "7q_edc0-9Wb9",
        "colab": {
          "base_uri": "https://localhost:8080/"
        },
        "outputId": "5d3d4088-6960-442c-c2bd-658ff7cda077"
      },
      "source": [
        "!g++ exception04.cpp -o exception04; ./exception04"
      ],
      "execution_count": null,
      "outputs": [
        {
          "output_type": "stream",
          "text": [
            "Access denied - You must be at least 18 years old.\n"
          ],
          "name": "stdout"
        }
      ]
    },
    {
      "cell_type": "code",
      "metadata": {
        "colab": {
          "base_uri": "https://localhost:8080/"
        },
        "id": "9wl8EJ3m4pt2",
        "outputId": "546e70d5-8cf2-4680-c904-a9b9a8268c1c"
      },
      "source": [
        "%%writefile add01.cpp\n",
        "\n",
        "#include <iostream>\n",
        "using namespace std;\n",
        "\n",
        "int main() {\n",
        "  int x = 5;\n",
        "  int y = 6;\n",
        "  int sum = x + y;\n",
        "  cout << sum;\n",
        "  return 0;\n",
        "}\n"
      ],
      "execution_count": null,
      "outputs": [
        {
          "output_type": "stream",
          "text": [
            "Writing add01.cpp\n"
          ],
          "name": "stdout"
        }
      ]
    },
    {
      "cell_type": "code",
      "metadata": {
        "colab": {
          "base_uri": "https://localhost:8080/"
        },
        "id": "KAS06TYN4pjE",
        "outputId": "1f1f42ec-2d52-4aa7-89d0-e141a462dfb5"
      },
      "source": [
        "!g++ add01.cpp -o add01; ./add01"
      ],
      "execution_count": null,
      "outputs": [
        {
          "output_type": "stream",
          "text": [
            "11"
          ],
          "name": "stdout"
        }
      ]
    },
    {
      "cell_type": "code",
      "metadata": {
        "id": "b__3S-ZD4sis"
      },
      "source": [
        "%%script false\n",
        "\n",
        "#include <iostream>\n",
        "using namespace std;\n",
        "\n",
        "int main() {\n",
        "  int x, y;\n",
        "  int sum;\n",
        "  cout << \"Type a number: \";\n",
        "  cin >> x;\n",
        "  cout << \"Type another number: \";\n",
        "  cin >> y;\n",
        "  sum = x + y;\n",
        "  cout << \"Sum is: \" << sum;\n",
        "  return 0;\n",
        "}"
      ],
      "execution_count": null,
      "outputs": []
    },
    {
      "cell_type": "code",
      "metadata": {
        "id": "YWsIYiPoNc2w"
      },
      "source": [
        ""
      ],
      "execution_count": null,
      "outputs": []
    },
    {
      "cell_type": "markdown",
      "metadata": {
        "id": "rMoZBbDnMWWv"
      },
      "source": [
        "# その他 miscellaneous"
      ]
    },
    {
      "cell_type": "markdown",
      "metadata": {
        "id": "DeMOjhEZNCyy"
      },
      "source": [
        "## sort "
      ]
    },
    {
      "cell_type": "code",
      "metadata": {
        "id": "ESksa-pMNF1s",
        "outputId": "e87a76bf-1a21-4746-b5d5-b73b9378e26f",
        "colab": {
          "base_uri": "https://localhost:8080/"
        }
      },
      "source": [
        "%%writefile sort01.cpp\n",
        "\n",
        "#include <algorithm>\n",
        "#include <iostream>\n",
        "using namespace std;\n",
        "int main() {\n",
        "  int array[] = { 23, 5, -10, 0, 0, 321, 1, 2, 99, 30 };\n",
        "  size_t size = sizeof(array) / sizeof(array[0]); \n",
        "  sort(array, array + size);\n",
        "  for (size_t i = 0; i < size; ++i) {\n",
        "     cout << array[i] << ' ';\n",
        "  }\n",
        "  cout << endl;\n",
        "}"
      ],
      "execution_count": 3,
      "outputs": [
        {
          "output_type": "stream",
          "text": [
            "Writing sort01.cpp\n"
          ],
          "name": "stdout"
        }
      ]
    },
    {
      "cell_type": "code",
      "metadata": {
        "id": "GKPRaWqGNK6t",
        "outputId": "09ddd61d-2794-4f30-e052-06bb94331055",
        "colab": {
          "base_uri": "https://localhost:8080/"
        }
      },
      "source": [
        "!g++ sort01.cpp -o sort01; ./sort01"
      ],
      "execution_count": 4,
      "outputs": [
        {
          "output_type": "stream",
          "text": [
            "-10 0 0 1 2 5 23 30 99 321 \n"
          ],
          "name": "stdout"
        }
      ]
    },
    {
      "cell_type": "code",
      "metadata": {
        "id": "jpWxNKiKNJY6",
        "outputId": "4cb35c36-bc3d-422f-eb3a-ce46f2533d76",
        "colab": {
          "base_uri": "https://localhost:8080/"
        }
      },
      "source": [
        "%%writefile sort02.cpp\n",
        "\n",
        "#include <algorithm>\n",
        "#include <iostream>\n",
        "#include <vector>\n",
        "using namespace std;\n",
        "int main() {\n",
        "  vector<int> vec { 23, 5, -10, 0, 0, 321, 1, 2, 99, 30 };\n",
        "  sort(vec.begin(), vec.end());\n",
        "  for (int i = 0; i < vec.size(); ++i) {\n",
        "     cout << vec[i] << ' ';\n",
        "  }\n",
        "  cout << endl;\n",
        "}"
      ],
      "execution_count": 5,
      "outputs": [
        {
          "output_type": "stream",
          "text": [
            "Writing sort02.cpp\n"
          ],
          "name": "stdout"
        }
      ]
    },
    {
      "cell_type": "code",
      "metadata": {
        "id": "W6redAJ1N4nN",
        "outputId": "19751d74-b0d2-48ec-b8ec-8fd1505665ca",
        "colab": {
          "base_uri": "https://localhost:8080/"
        }
      },
      "source": [
        "!g++ sort02.cpp -o sort02; ./sort02"
      ],
      "execution_count": 6,
      "outputs": [
        {
          "output_type": "stream",
          "text": [
            "-10 0 0 1 2 5 23 30 99 321 \n"
          ],
          "name": "stdout"
        }
      ]
    },
    {
      "cell_type": "code",
      "metadata": {
        "id": "hhOG4DUnOp61",
        "outputId": "f88240f8-8420-4660-b7ba-a0c7d8045d83",
        "colab": {
          "base_uri": "https://localhost:8080/"
        }
      },
      "source": [
        "%%writefile sort03.cpp\n",
        "\n",
        "#include <iostream>\n",
        "#include <boost/foreach.hpp>\n",
        "#include <vector>\n",
        "#include <algorithm>\n",
        "using namespace std;\n",
        " \n",
        "void\n",
        "dump(vector<int>& v)\n",
        "{\n",
        "        BOOST_FOREACH(int x, v) {\n",
        "                cout << x << endl;\n",
        "        }\n",
        "}\n",
        " \n",
        "int\n",
        "main (int argc, char *argv[])\n",
        "{\n",
        "        vector<int> v;\n",
        " \n",
        "        v.push_back ( 3 );\n",
        "        v.push_back ( 4 );\n",
        "        v.push_back ( 1 );\n",
        "        v.push_back ( 2 );\n",
        " \n",
        "        cout << \"Before sort\" << std::endl;\n",
        "        dump (v);\n",
        " \n",
        "        std::sort(v.begin(), v.end() );\n",
        " \n",
        "        cout << \"After sort\" << std::endl;\n",
        "        dump (v);\n",
        "        return 0;\n",
        "}"
      ],
      "execution_count": 7,
      "outputs": [
        {
          "output_type": "stream",
          "text": [
            "Writing sort03.cpp\n"
          ],
          "name": "stdout"
        }
      ]
    },
    {
      "cell_type": "code",
      "metadata": {
        "id": "zzUci1vXOp1Z"
      },
      "source": [
        "!g++ sort03.cpp -o sort03; ./sort03"
      ],
      "execution_count": null,
      "outputs": []
    },
    {
      "cell_type": "code",
      "metadata": {
        "id": "ph5fdv_KPTVc",
        "outputId": "48c6425c-1f85-4b37-bfba-ef5ace21576c",
        "colab": {
          "base_uri": "https://localhost:8080/"
        }
      },
      "source": [
        "%%writefile sort04.cpp\n",
        "\n",
        "#include <iostream>\n",
        "#include <boost/foreach.hpp>\n",
        "#include <vector>\n",
        "#include <algorithm>\n",
        " \n",
        "using namespace std;\n",
        " \n",
        "void\n",
        "dump(vector<int>& v)\n",
        "{\n",
        "        BOOST_FOREACH(int x, v) {\n",
        "                cout << x << endl;\n",
        "        }\n",
        "}\n",
        " \n",
        "int\n",
        "main (int argc, char *argv[])\n",
        "{\n",
        "        vector<int> v;\n",
        " \n",
        "        v.push_back ( 3 );\n",
        "        v.push_back ( 4 );\n",
        "        v.push_back ( 1 );\n",
        "        v.push_back ( 2 );\n",
        " \n",
        "        cout << \"Before sort\" << std::endl;\n",
        "        dump (v);\n",
        " \n",
        "        std::sort(v.begin(), v.end(), std::greater<int>() );\n",
        " \n",
        "        cout << \"After sort\" << std::endl;\n",
        "        dump (v);\n",
        "        return 0;\n",
        "}"
      ],
      "execution_count": 9,
      "outputs": [
        {
          "output_type": "stream",
          "text": [
            "Writing sort04.cpp\n"
          ],
          "name": "stdout"
        }
      ]
    },
    {
      "cell_type": "code",
      "metadata": {
        "id": "eBcfciPHPTIy",
        "outputId": "3ab63fe8-2256-42f1-ed31-2ab3087c4046",
        "colab": {
          "base_uri": "https://localhost:8080/"
        }
      },
      "source": [
        "!g++ sort04.cpp -o sort04; ./sort04"
      ],
      "execution_count": 10,
      "outputs": [
        {
          "output_type": "stream",
          "text": [
            "Before sort\n",
            "3\n",
            "4\n",
            "1\n",
            "2\n",
            "After sort\n",
            "4\n",
            "3\n",
            "2\n",
            "1\n"
          ],
          "name": "stdout"
        }
      ]
    }
  ]
}