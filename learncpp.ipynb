{
  "nbformat": 4,
  "nbformat_minor": 0,
  "metadata": {
    "colab": {
      "name": "learncpp.ipynb",
      "provenance": [],
      "collapsed_sections": [],
      "toc_visible": true,
      "authorship_tag": "ABX9TyMsXpWo9cxuJbNlE/z4Zy1e",
      "include_colab_link": true
    },
    "kernelspec": {
      "name": "python3",
      "display_name": "Python 3"
    }
  },
  "cells": [
    {
      "cell_type": "markdown",
      "metadata": {
        "id": "view-in-github",
        "colab_type": "text"
      },
      "source": [
        "<a href=\"https://colab.research.google.com/github/kalz2q/mycolabnotebooks/blob/master/learncpp.ipynb\" target=\"_parent\"><img src=\"https://colab.research.google.com/assets/colab-badge.svg\" alt=\"Open In Colab\"/></a>"
      ]
    },
    {
      "cell_type": "markdown",
      "metadata": {
        "id": "5sevcYNyHthT"
      },
      "source": [
        "# テキスト\n",
        "\n",
        "1. https://www.w3schools.com/cpp/   w3scoolのC++ Tutorial\n",
        "1. https://rinatz.github.io/cpp-book/ch01-02-hello-world/  ゼロから学ぶC++ (book形式)\n"
      ]
    },
    {
      "cell_type": "markdown",
      "metadata": {
        "id": "DZsWwWMBYra0"
      },
      "source": [
        "セルマジックの `%%writefile` でソースのテキストを書いて、!gcc+ で実行する。 行頭のエクスクラメーションマーク `!` は Unix (Linux, Ubuntu) のシステムコマンドを利用するよ!!!! という意味。\n",
        "\n",
        "Shift+Enter はセルを実行してフォーカスを次のセルに移動するので、便利に使える。"
      ]
    },
    {
      "cell_type": "code",
      "metadata": {
        "id": "-jTNMcEE-y3-",
        "outputId": "56ce3437-1a36-40ea-d450-b2753b9e4df5",
        "colab": {
          "base_uri": "https://localhost:8080/"
        }
      },
      "source": [
        "%%writefile temp.cpp\n",
        "# include <bits/stdc++.h>\n",
        "using namespace std;\n",
        "\n",
        "int main() {\n",
        "  cout << \"Hello World!\";\n",
        "}"
      ],
      "execution_count": null,
      "outputs": [
        {
          "output_type": "stream",
          "name": "stdout",
          "text": [
            "Writing temp.cpp\n"
          ]
        }
      ]
    },
    {
      "cell_type": "markdown",
      "metadata": {
        "id": "aX9GYppIchv8"
      },
      "source": [
        "これを g++ でコンパイルする。  実行可能ファイル名を `-o` で指定しないと、デフォルトで `a.out` になる。 これを実行する。"
      ]
    },
    {
      "cell_type": "code",
      "metadata": {
        "id": "8Lf0COUH-9ol",
        "outputId": "b7600a42-163a-4354-d14d-bbc8fa2d1308",
        "colab": {
          "base_uri": "https://localhost:8080/"
        }
      },
      "source": [
        "!g++ temp.cpp; ./a.out"
      ],
      "execution_count": null,
      "outputs": [
        {
          "output_type": "stream",
          "name": "stdout",
          "text": [
            "Hello World!"
          ]
        }
      ]
    },
    {
      "cell_type": "code",
      "metadata": {
        "id": "V7FCGvXToerV",
        "outputId": "58fa723a-c88d-4d72-997f-f6e552c373e2",
        "colab": {
          "base_uri": "https://localhost:8080/"
        }
      },
      "source": [
        "# 実験 改行コードとかが使えるかの実験\n",
        "%%writefile temp.cpp\n",
        "# include <bits/stdc++.h>\n",
        "int main() {\n",
        "  std::cout << \"hello world\\n \\t初めてのC++\" << \"\\n\";\n",
        "  std::cout << \"次の行\";\n",
        "}"
      ],
      "execution_count": null,
      "outputs": [
        {
          "output_type": "stream",
          "name": "stdout",
          "text": [
            "Overwriting temp.cpp\n"
          ]
        }
      ]
    },
    {
      "cell_type": "code",
      "metadata": {
        "id": "Gdy2RltWBMlU",
        "outputId": "56b3ca72-e4be-4aee-f4ae-dee0c4141966",
        "colab": {
          "base_uri": "https://localhost:8080/"
        }
      },
      "source": [
        "!g++ temp.cpp; ./a.out"
      ],
      "execution_count": null,
      "outputs": [
        {
          "output_type": "stream",
          "name": "stdout",
          "text": [
            "hello world\n",
            " \t初めてのC++\n",
            "次の行"
          ]
        }
      ]
    },
    {
      "cell_type": "code",
      "metadata": {
        "id": "vHNrx0tRpuBf",
        "outputId": "fcfd3868-5920-42e4-f6d3-285302d66eaf",
        "colab": {
          "base_uri": "https://localhost:8080/"
        }
      },
      "source": [
        "# for 構文\n",
        "# 次のは i を 1 ずつ増やして行って 10回 メッセージを書くプログラム。\n",
        "%%writefile temp.cpp\n",
        "# include <bits/stdc++.h>\n",
        "\n",
        "int main() {\n",
        "  for (int i = 0; i < 10; i++) std::cout << \"Hello World\" << \"\\n\";\n",
        "}\n"
      ],
      "execution_count": null,
      "outputs": [
        {
          "output_type": "stream",
          "name": "stdout",
          "text": [
            "Overwriting temp.cpp\n"
          ]
        }
      ]
    },
    {
      "cell_type": "code",
      "metadata": {
        "id": "hxXfoxj8Bkb2",
        "outputId": "98462736-ee90-41e5-d527-5cd50417913a",
        "colab": {
          "base_uri": "https://localhost:8080/"
        }
      },
      "source": [
        "!g++ temp.cpp; ./a.out"
      ],
      "execution_count": null,
      "outputs": [
        {
          "output_type": "stream",
          "name": "stdout",
          "text": [
            "Hello World\n",
            "Hello World\n",
            "Hello World\n",
            "Hello World\n",
            "Hello World\n",
            "Hello World\n",
            "Hello World\n",
            "Hello World\n",
            "Hello World\n",
            "Hello World\n"
          ]
        }
      ]
    },
    {
      "cell_type": "markdown",
      "metadata": {
        "id": "VtOagpx9EaSA"
      },
      "source": [
        "コメントは `//`  と `/*` と `*/` \n",
        "\n",
        "`# include <bits/stdc++.h>` はヘッダーライブラリーと呼ばれるもの。\n",
        "\n",
        "`using namespace std` は標準ライブラリーのオブジェクトや変数の名前を使える、と言うこと。\n",
        "\n",
        "`cout` はシーアウトと読み、`<<` とセットで使われる。\n",
        "\n",
        "改行やホワイトスペースについては `int main () { cout << \"Hello World! \"; return 0; }` と続けて書いても同じ。\n",
        "\n"
      ]
    },
    {
      "cell_type": "code",
      "source": [
        "# 変数のタイプ\n",
        "\n",
        "# * int\n",
        "# * double\n",
        "# * char\n",
        "# * \"string\"\n",
        "# * bool (true, false) \n",
        "\n",
        "# など。"
      ],
      "metadata": {
        "id": "9xEHO9jxdjDe"
      },
      "execution_count": null,
      "outputs": []
    },
    {
      "cell_type": "code",
      "metadata": {
        "id": "Mc2my2c0es1D",
        "outputId": "7604ab32-3820-43a5-f5ea-5cdc768d2710",
        "colab": {
          "base_uri": "https://localhost:8080/"
        }
      },
      "source": [
        "# cout は文字列と数値を受け付ける\n",
        "%%writefile temp.cpp\n",
        "# include <bits/stdc++.h>\n",
        "using namespace std;\n",
        "\n",
        "int main() {\n",
        "  int myNum = 15;\n",
        "  cout << myNum;\n",
        "}"
      ],
      "execution_count": null,
      "outputs": [
        {
          "output_type": "stream",
          "name": "stdout",
          "text": [
            "Overwriting temp.cpp\n"
          ]
        }
      ]
    },
    {
      "cell_type": "code",
      "metadata": {
        "id": "JRO5IbRYdIr8",
        "outputId": "da15e87f-aedc-493f-fa2e-dc92e71d6a18",
        "colab": {
          "base_uri": "https://localhost:8080/"
        }
      },
      "source": [
        "!g++ temp.cpp; ./a.out"
      ],
      "execution_count": null,
      "outputs": [
        {
          "output_type": "stream",
          "name": "stdout",
          "text": [
            "15"
          ]
        }
      ]
    },
    {
      "cell_type": "code",
      "metadata": {
        "id": "3aRUXLCpIdJu"
      },
      "source": [
        "# 変数は上書きできるか => できる。 immutable ではない\n",
        "%%writefile temp.cpp\n",
        "# include <bits/stdc++.h>\n",
        "using namespace std;\n",
        "\n",
        "int main() {\n",
        "  int myNum = 15;   // Now myNum is 15\n",
        "  myNum = 10;       // Now myNum is 10\n",
        "  cout << myNum;\n",
        "}"
      ],
      "execution_count": null,
      "outputs": []
    },
    {
      "cell_type": "code",
      "metadata": {
        "id": "yCSbQFadIkgW"
      },
      "source": [
        "!g++ temp.cpp; ./a.out"
      ],
      "execution_count": null,
      "outputs": []
    },
    {
      "cell_type": "code",
      "metadata": {
        "id": "AyPpeOqOJAYm"
      },
      "source": [
        "# 変数の型\n",
        "%%writefile temp.cpp\n",
        "# include <bits/stdc++.h>\n",
        "using namespace std;\n",
        "\n",
        "int main()\n",
        "{\n",
        "    int myNum = 5;            // Integer (whole number without decimals)\n",
        "    double myFloatNum = 5.99; // Floating point number (with decimals)\n",
        "    char myLetter = 'D';      // Character\n",
        "    string myText = \"Hello\";  // String (text)\n",
        "    bool myBoolean = true;    // Boolean (true or false)\n",
        "\n",
        "    cout << myNum << \"\\n\";\n",
        "    cout << myFloatNum << \"\\n\";\n",
        "    cout << myLetter << \"\\n\";\n",
        "    cout << myText << \"\\n\";\n",
        "    cout << myBoolean << \"\\n\";\n",
        "}"
      ],
      "execution_count": null,
      "outputs": []
    },
    {
      "cell_type": "code",
      "metadata": {
        "id": "1gfaLXePKNyp"
      },
      "source": [
        "!g++ temp.cpp; ./a.out"
      ],
      "execution_count": null,
      "outputs": []
    },
    {
      "cell_type": "code",
      "metadata": {
        "id": "I2hrg56RJB8V"
      },
      "source": [
        "%%writefile temp.cpp\n",
        "# include <bits/stdc++.h>\n",
        "using namespace std;\n",
        "\n",
        "int main() {\n",
        "  int myAge = 35;\n",
        "  cout << \"I am \" << myAge << \" years old.\";\n",
        "}"
      ],
      "execution_count": null,
      "outputs": []
    },
    {
      "cell_type": "code",
      "metadata": {
        "id": "2bnagYq-FYvS"
      },
      "source": [
        "!g++ temp.cpp; ./a.out"
      ],
      "execution_count": null,
      "outputs": []
    },
    {
      "cell_type": "code",
      "metadata": {
        "id": "lLkTZSs1Fhyx"
      },
      "source": [
        "%%writefile temp.cpp\n",
        "# include <bits/stdc++.h>\n",
        "using namespace std;\n",
        "\n",
        "int main() {\n",
        "  int x = 5;\n",
        "  int y = 6;\n",
        "  int sum = x + y;\n",
        "  cout << sum;\n",
        "}"
      ],
      "execution_count": null,
      "outputs": []
    },
    {
      "cell_type": "code",
      "metadata": {
        "id": "2l06UtFVJOCV"
      },
      "source": [
        "!g++ temp.cpp; ./a.out"
      ],
      "execution_count": null,
      "outputs": []
    },
    {
      "cell_type": "code",
      "metadata": {
        "id": "Q2pqnG9vJYlV"
      },
      "source": [
        "%%writefile temp.cpp\n",
        "# include <bits/stdc++.h>\n",
        "using namespace std;\n",
        "\n",
        "int main() {\n",
        "  int x = 5, y = 6, z = 50;  \n",
        "  cout << x + y + z;\n",
        "}"
      ],
      "execution_count": null,
      "outputs": []
    },
    {
      "cell_type": "code",
      "metadata": {
        "id": "VJDodQp8Jgmd"
      },
      "source": [
        "!g++ temp.cpp; ./a.out"
      ],
      "execution_count": null,
      "outputs": []
    },
    {
      "cell_type": "code",
      "metadata": {
        "id": "xV3cZma5LXxQ",
        "outputId": "085dc263-e00a-495d-8d7a-26fdb1a1197b",
        "colab": {
          "base_uri": "https://localhost:8080/"
        }
      },
      "source": [
        "%%writefile temp.cpp\n",
        "# include <bits/stdc++.h>\n",
        "using namespace std;\n",
        "\n",
        "int main() {\n",
        "  // Good name\n",
        "  int minutesPerHour = 60;\n",
        "  \n",
        "  // OK, but not so easy to understand what m actually is\n",
        "  int m = 60;\n",
        "  \n",
        "  cout << minutesPerHour << \"\\n\";\n",
        "  cout << m;\n",
        "  return 0;\n",
        "}"
      ],
      "execution_count": null,
      "outputs": [
        {
          "output_type": "stream",
          "name": "stdout",
          "text": [
            "Writing temp.cpp\n"
          ]
        }
      ]
    },
    {
      "cell_type": "code",
      "metadata": {
        "id": "fNUgnO2GLcia",
        "outputId": "56db269f-9cee-4837-f73b-1241b3da0b47",
        "colab": {
          "base_uri": "https://localhost:8080/"
        }
      },
      "source": [
        "!g++ temp.cpp; ./a.out"
      ],
      "execution_count": null,
      "outputs": [
        {
          "output_type": "stream",
          "name": "stdout",
          "text": [
            "60\n",
            "60"
          ]
        }
      ]
    },
    {
      "cell_type": "code",
      "source": [
        "# C++ の変数名は camelCase(camel case) か、snake_case (snake case) か\n",
        "# どちらの主張もある。 \n",
        "# snake_case が多いみたい。\n",
        "# しかし!!!! snake_case はめんどくさい。\n",
        "# c++ 自体は camelCase を使っているので混ざることになる。\n",
        "# snake_case の方が美しいが、混ざるのは美しくない。\n",
        "# 今の考え。snake_case の方が美しいので、将来、あるレベルに達したら snake_case に統一するかもしれないが、\n",
        "# 学習段階は、どうせいつまでも学習段階なのだし、camelCase で統一する。"
      ],
      "metadata": {
        "id": "i5qsM6R8-Us7"
      },
      "execution_count": null,
      "outputs": []
    },
    {
      "cell_type": "code",
      "metadata": {
        "id": "IBCUbzB-L36Z"
      },
      "source": [
        "# const を使うと immutable になる\n",
        "%%writefile temp.cpp\n",
        "# include <bits/stdc++.h>\n",
        "using namespace std;\n",
        "\n",
        "int main() {\n",
        "  const int myNum = 15;\n",
        "  myNum = 10; // error: assignment of read-only variable 'myNum'\n",
        "  cout << myNum;\n",
        "}"
      ],
      "execution_count": null,
      "outputs": []
    },
    {
      "cell_type": "code",
      "metadata": {
        "id": "8j4PBhIF-H1S"
      },
      "source": [
        "!g++ temp.cpp; ./a.out"
      ],
      "execution_count": null,
      "outputs": []
    },
    {
      "cell_type": "code",
      "metadata": {
        "id": "RLbtIfo3-ezx",
        "outputId": "43786dbc-7a12-4e41-f4bc-937702402535",
        "colab": {
          "base_uri": "https://localhost:8080/"
        }
      },
      "source": [
        "%%writefile temp.cpp\n",
        "# include <bits/stdc++.h>\n",
        "using namespace std;\n",
        "\n",
        "int main() {\n",
        "  const int minutesPerHour = 60;\n",
        "  const float PI = 3.14;\n",
        "  cout << minutesPerHour << \"\\n\";\n",
        "  cout << PI;\n",
        "}\n"
      ],
      "execution_count": null,
      "outputs": [
        {
          "output_type": "stream",
          "name": "stdout",
          "text": [
            "Overwriting temp.cpp\n"
          ]
        }
      ]
    },
    {
      "cell_type": "code",
      "metadata": {
        "id": "G5ydxV_O-jef",
        "outputId": "50981bde-8779-4c4f-9fdf-b6b98bcb3a1d",
        "colab": {
          "base_uri": "https://localhost:8080/"
        }
      },
      "source": [
        "!g++ temp.cpp; ./a.out"
      ],
      "execution_count": null,
      "outputs": [
        {
          "output_type": "stream",
          "name": "stdout",
          "text": [
            "60\n",
            "3.14"
          ]
        }
      ]
    },
    {
      "cell_type": "code",
      "metadata": {
        "id": "fQHrZCjS770U",
        "outputId": "be0820c7-89ca-4958-9462-d838408d6828",
        "colab": {
          "base_uri": "https://localhost:8080/"
        }
      },
      "source": [
        "# int num; とだけして出力すると何が入っているか実験\n",
        "#=> int は毎回値が違う。 string は \"\" みたい。\n",
        "%%writefile temp.cpp\n",
        "# include <bits/stdc++.h>\n",
        "using namespace std;\n",
        "\n",
        "int main() {\n",
        "  int num1;\n",
        "  string str1;\n",
        "  int num2;\n",
        "  cout << num1 << \"\\n\";\n",
        "  cout << str1 << \"\\n\";\n",
        "  cout << num2 << \"\\n\";\n",
        "}\n"
      ],
      "execution_count": null,
      "outputs": [
        {
          "output_type": "stream",
          "name": "stdout",
          "text": [
            "Overwriting temp.cpp\n"
          ]
        }
      ]
    },
    {
      "cell_type": "code",
      "metadata": {
        "id": "cuYmm3yw7-kY",
        "outputId": "98f23032-73d5-4808-dec5-5570f06bed7e",
        "colab": {
          "base_uri": "https://localhost:8080/"
        }
      },
      "source": [
        "!g++ temp.cpp; ./a.out"
      ],
      "execution_count": null,
      "outputs": [
        {
          "output_type": "stream",
          "name": "stdout",
          "text": [
            "642567302\n",
            "\n",
            "22069\n"
          ]
        }
      ]
    },
    {
      "cell_type": "code",
      "metadata": {
        "id": "_N9MptadGY1W",
        "outputId": "477b743f-9847-4eee-f648-4d1504eb3032",
        "colab": {
          "base_uri": "https://localhost:8080/"
        }
      },
      "source": [
        "# input\n",
        "# `cin` で標準入力を受け付ける\n",
        "# 次のプログラムは本来はインタラクティブにユーザーが数字を入力することを想定しているが\n",
        "# colab のコードセルでは、インプット待ちになってしまい具合が悪い。\n",
        "# 実行例のように、echo とパイプで入力する数字を明示的にプログラムに渡す\n",
        "%%writefile temp.cpp\n",
        "# include <bits/stdc++.h>\n",
        "using namespace std;\n",
        "\n",
        "int main() {\n",
        "  int x, y;\n",
        "  int sum;\n",
        "  cout << \"Type a number: \";\n",
        "  cin >> x;\n",
        "  cout << \"Type another number: \";\n",
        "  cin >> y;\n",
        "  sum = x + y;\n",
        "  cout << \"Sum is: \" << sum;\n",
        "}"
      ],
      "execution_count": null,
      "outputs": [
        {
          "output_type": "stream",
          "name": "stdout",
          "text": [
            "Overwriting temp.cpp\n"
          ]
        }
      ]
    },
    {
      "cell_type": "code",
      "metadata": {
        "id": "dKO1hxPIGZYP",
        "outputId": "47f1a638-c25c-4537-e9ee-a839e6528972",
        "colab": {
          "base_uri": "https://localhost:8080/"
        }
      },
      "source": [
        "!g++ temp.cpp;  echo 3 7 |./a.out"
      ],
      "execution_count": null,
      "outputs": [
        {
          "output_type": "stream",
          "name": "stdout",
          "text": [
            "Type a number: Type another number: Sum is: 10"
          ]
        }
      ]
    },
    {
      "cell_type": "code",
      "metadata": {
        "id": "rfOWTWDY_3ND",
        "outputId": "68c24eee-150a-4900-fd8e-aaa816dc49ef",
        "colab": {
          "base_uri": "https://localhost:8080/"
        }
      },
      "source": [
        "# データタイプ\n",
        "%%writefile temp.cpp\n",
        "# include <bits/stdc++.h>\n",
        "using namespace std;\n",
        " \n",
        "int main () {\n",
        "  // Creating variables\n",
        "  int myNum = 5;               // Integer (whole number)\n",
        "  float myFloatNum = 5.99;     // Floating point number\n",
        "  double myDoubleNum = 9.98;   // Floating point number\n",
        "  char myLetter = 'D';         // Character\n",
        "  bool myBoolean = true;       // Boolean\n",
        "  string myString = \"Hello\";   // String\n",
        "   \n",
        "  // Print variable values\n",
        "  cout << \"int: \" << myNum << \"\\n\";\n",
        "  cout << \"float: \" << myFloatNum << \"\\n\";\n",
        "  cout << \"double: \" << myDoubleNum << \"\\n\";\n",
        "  cout << \"char: \" << myLetter << \"\\n\";\n",
        "  cout << \"bool: \" << myBoolean << \"\\n\";\n",
        "  cout << \"string: \" << myString << \"\\n\";\n",
        "}\n"
      ],
      "execution_count": null,
      "outputs": [
        {
          "output_type": "stream",
          "name": "stdout",
          "text": [
            "Overwriting temp.cpp\n"
          ]
        }
      ]
    },
    {
      "cell_type": "code",
      "metadata": {
        "id": "HqrUg7bf_8qW",
        "outputId": "985b5963-2dc9-4aad-e34c-ff3b2b9df1c3",
        "colab": {
          "base_uri": "https://localhost:8080/"
        }
      },
      "source": [
        "!g++ temp.cpp; ./a.out"
      ],
      "execution_count": null,
      "outputs": [
        {
          "output_type": "stream",
          "name": "stdout",
          "text": [
            "int: 5\n",
            "float: 5.99\n",
            "double: 9.98\n",
            "char: D\n",
            "bool: 1\n",
            "string: Hello\n"
          ]
        }
      ]
    },
    {
      "cell_type": "code",
      "metadata": {
        "id": "OWmRqKMBAQ4u",
        "outputId": "9a644c6d-0770-42ee-91a9-691bd81da0ae",
        "colab": {
          "base_uri": "https://localhost:8080/"
        }
      },
      "source": [
        "%%writefile temp.cpp\n",
        "# include <bits/stdc++.h>\n",
        "using namespace std;\n",
        " \n",
        "int main () {\n",
        "  float f1 = 35e3;\n",
        "  double d1 = 12E4;\n",
        "  cout << f1 << \"\\n\";\n",
        "  cout << d1;\n",
        "}"
      ],
      "execution_count": null,
      "outputs": [
        {
          "output_type": "stream",
          "name": "stdout",
          "text": [
            "Overwriting temp.cpp\n"
          ]
        }
      ]
    },
    {
      "cell_type": "code",
      "metadata": {
        "id": "_14b2DtCAVpP",
        "outputId": "38d2c43e-08c8-477b-9f56-09694ca0ceaf",
        "colab": {
          "base_uri": "https://localhost:8080/"
        }
      },
      "source": [
        "!g++ temp.cpp; ./a.out"
      ],
      "execution_count": null,
      "outputs": [
        {
          "output_type": "stream",
          "name": "stdout",
          "text": [
            "35000\n",
            "120000"
          ]
        }
      ]
    },
    {
      "cell_type": "code",
      "metadata": {
        "id": "W0AAUO0bAtxJ",
        "outputId": "80dcf984-5155-4c33-fd4c-b1df00f670ee",
        "colab": {
          "base_uri": "https://localhost:8080/"
        }
      },
      "source": [
        "# true は 1 で false は 0 \n",
        "%%writefile temp.cpp\n",
        "# include <bits/stdc++.h>\n",
        "using namespace std;\n",
        "\n",
        "int main() {\n",
        "  bool isCodingFun = true;\n",
        "  bool isFishTasty = false;\n",
        "  cout << isCodingFun << \"\\n\";\n",
        "  cout << isFishTasty;\n",
        "}"
      ],
      "execution_count": null,
      "outputs": [
        {
          "output_type": "stream",
          "name": "stdout",
          "text": [
            "Overwriting temp.cpp\n"
          ]
        }
      ]
    },
    {
      "cell_type": "code",
      "metadata": {
        "id": "-gl8iyL5Aym2",
        "outputId": "06ec04db-b8ac-4810-e54c-66b73c97b891",
        "colab": {
          "base_uri": "https://localhost:8080/"
        }
      },
      "source": [
        "!g++ temp.cpp; ./a.out"
      ],
      "execution_count": null,
      "outputs": [
        {
          "output_type": "stream",
          "name": "stdout",
          "text": [
            "1\n",
            "0"
          ]
        }
      ]
    },
    {
      "cell_type": "code",
      "metadata": {
        "id": "3IU5jEfcA-X-",
        "outputId": "f91fb413-a35c-4004-db77-c7b6f8debd4a",
        "colab": {
          "base_uri": "https://localhost:8080/"
        }
      },
      "source": [
        "%%writefile temp.cpp\n",
        "# include <bits/stdc++.h>\n",
        "using namespace std;\n",
        "int main () {\n",
        "  char myGrade = 'B';\n",
        "  cout << myGrade << endl;\n",
        "}"
      ],
      "execution_count": null,
      "outputs": [
        {
          "output_type": "stream",
          "name": "stdout",
          "text": [
            "Overwriting temp.cpp\n"
          ]
        }
      ]
    },
    {
      "cell_type": "code",
      "metadata": {
        "id": "NTCm8SvcBCd-",
        "outputId": "76e2f4ec-158c-4576-987d-796af65d98eb",
        "colab": {
          "base_uri": "https://localhost:8080/"
        }
      },
      "source": [
        "!g++ temp.cpp; ./a.out"
      ],
      "execution_count": null,
      "outputs": [
        {
          "output_type": "stream",
          "name": "stdout",
          "text": [
            "B\n"
          ]
        }
      ]
    },
    {
      "cell_type": "code",
      "metadata": {
        "id": "0CmJwJybRjc7",
        "outputId": "42d2eb84-f755-4899-8bed-7a2abdee4e0d",
        "colab": {
          "base_uri": "https://localhost:8080/"
        }
      },
      "source": [
        "%%writefile temp.cpp\n",
        "# include <bits/stdc++.h>\n",
        "using namespace std;\n",
        "int main () {\n",
        "  char a = 65, b = 66, c = 67;\n",
        "  cout << a;\n",
        "  cout << b;\n",
        "  cout << c;\n",
        "}"
      ],
      "execution_count": null,
      "outputs": [
        {
          "output_type": "stream",
          "name": "stdout",
          "text": [
            "Overwriting temp.cpp\n"
          ]
        }
      ]
    },
    {
      "cell_type": "code",
      "metadata": {
        "id": "ENlZzWMRRqDt",
        "outputId": "71b3b763-8bff-4da4-ed64-156bdfd37f5d",
        "colab": {
          "base_uri": "https://localhost:8080/"
        }
      },
      "source": [
        "!g++ temp.cpp; ./a.out"
      ],
      "execution_count": null,
      "outputs": [
        {
          "output_type": "stream",
          "name": "stdout",
          "text": [
            "ABC"
          ]
        }
      ]
    },
    {
      "cell_type": "code",
      "metadata": {
        "id": "DpEyG2779GDK",
        "colab": {
          "base_uri": "https://localhost:8080/"
        },
        "outputId": "dc592f09-ac47-4335-e84b-6a554905a62f"
      },
      "source": [
        "%%writefile temp.cpp\n",
        "# include <bits/stdc++.h>\n",
        "using namespace std;\n",
        "\n",
        "int main() {\n",
        "  string greeting = \"Hello\";\n",
        "  cout << greeting;\n",
        "}"
      ],
      "execution_count": null,
      "outputs": [
        {
          "output_type": "stream",
          "name": "stdout",
          "text": [
            "Overwriting temp.cpp\n"
          ]
        }
      ]
    },
    {
      "cell_type": "code",
      "metadata": {
        "id": "W25cg3YA9Mbi",
        "colab": {
          "base_uri": "https://localhost:8080/"
        },
        "outputId": "59ae955c-2b57-402d-9877-413076e83489"
      },
      "source": [
        "!g++ temp.cpp; ./a.out"
      ],
      "execution_count": null,
      "outputs": [
        {
          "output_type": "stream",
          "name": "stdout",
          "text": [
            "Hello"
          ]
        }
      ]
    },
    {
      "cell_type": "code",
      "source": [
        "# メモ endl\n",
        "# cout で \"\\n\" と endl の違いは endl は \"\\n\" とストリームのフラッシュアウトを行っている\n",
        "# cout を使った時は必ず endl も加えるのが良いと思う"
      ],
      "metadata": {
        "id": "mYkfn0oZwySb"
      },
      "execution_count": null,
      "outputs": []
    },
    {
      "cell_type": "code",
      "source": [
        "# 質問 int main と return 0\n",
        "# なぜ main は int なのか\n",
        "# なぜ main は return 0 なのか"
      ],
      "metadata": {
        "id": "joF8em99xhu8"
      },
      "execution_count": null,
      "outputs": []
    },
    {
      "cell_type": "code",
      "metadata": {
        "id": "_EayjJ3W9g0a",
        "colab": {
          "base_uri": "https://localhost:8080/"
        },
        "outputId": "a26bdb21-a199-4776-a655-56d1ba6c30da"
      },
      "source": [
        "# 演算子\n",
        "# 四則演算\n",
        "%%writefile temp.cpp\n",
        "# include <bits/stdc++.h>\n",
        "using namespace std;\n",
        "\n",
        "int main() {\n",
        "  int x = 5;\n",
        "  int y = 2;\n",
        "  cout << \"5 / 2 = \" << x / y << \"\\n\";\n",
        "  cout << \"5 % 2 = \" << x % y ;\n",
        "}\n"
      ],
      "execution_count": null,
      "outputs": [
        {
          "output_type": "stream",
          "name": "stdout",
          "text": [
            "Overwriting temp.cpp\n"
          ]
        }
      ]
    },
    {
      "cell_type": "code",
      "metadata": {
        "id": "KDvLHObl9z0h",
        "colab": {
          "base_uri": "https://localhost:8080/"
        },
        "outputId": "f17c1355-ada4-4b71-c251-4d060b5ba232"
      },
      "source": [
        "!g++ temp.cpp; ./a.out"
      ],
      "execution_count": null,
      "outputs": [
        {
          "output_type": "stream",
          "name": "stdout",
          "text": [
            "5 / 2 = 2\n",
            "5 % 2 = 1"
          ]
        }
      ]
    },
    {
      "cell_type": "code",
      "metadata": {
        "id": "mwz_2IN6-slS",
        "colab": {
          "base_uri": "https://localhost:8080/"
        },
        "outputId": "363dc506-3140-4c8f-c1ae-fb83ec17de44"
      },
      "source": [
        "# 引数がマイナスの場合の結果が Python と違う!!!!\n",
        "%%writefile temp.cpp\n",
        "# include <bits/stdc++.h>\n",
        "using namespace std;\n",
        "\n",
        "int main() {\n",
        "  int x = -5;\n",
        "  int y = 2;\n",
        "  cout << \"-5 / 2 = \" << x / y << \"\\n\";\n",
        "  cout << \"-5 % 2 = \" << x % y ;\n",
        "}"
      ],
      "execution_count": null,
      "outputs": [
        {
          "output_type": "stream",
          "name": "stdout",
          "text": [
            "Overwriting temp.cpp\n"
          ]
        }
      ]
    },
    {
      "cell_type": "code",
      "metadata": {
        "id": "qgdR8ljE-yzv",
        "colab": {
          "base_uri": "https://localhost:8080/"
        },
        "outputId": "5cfc10f0-7e08-4995-aead-faab3d4e57a7"
      },
      "source": [
        "!g++ temp.cpp; ./a.out"
      ],
      "execution_count": null,
      "outputs": [
        {
          "output_type": "stream",
          "name": "stdout",
          "text": [
            "-5 / 2 = -2\n",
            "-5 % 2 = -1"
          ]
        }
      ]
    },
    {
      "cell_type": "code",
      "metadata": {
        "id": "txQnJ6OoGvrH",
        "colab": {
          "base_uri": "https://localhost:8080/"
        },
        "outputId": "536d30ea-2453-4428-91b8-f771295f1b6a"
      },
      "source": [
        "print(-5 / 2)\n",
        "print(-5//2)\n",
        "print(-5 % 2)"
      ],
      "execution_count": null,
      "outputs": [
        {
          "output_type": "stream",
          "name": "stdout",
          "text": [
            "-2.5\n",
            "-3\n",
            "1\n"
          ]
        }
      ]
    },
    {
      "cell_type": "code",
      "metadata": {
        "id": "TlAjyukyHOJy",
        "colab": {
          "base_uri": "https://localhost:8080/"
        },
        "outputId": "38b5cf8a-4208-4a51-ed41-8f68ca3a12c0"
      },
      "source": [
        "# 冪乗はどうするのか。 python では -5**3 と書くが\n",
        "# pow() を使う\n",
        "%%writefile temp.cpp\n",
        "# include <bits/stdc++.h> // <cmath> も含まれる\n",
        "using namespace std;\n",
        "\n",
        "int main() {\n",
        "  int x = -5;\n",
        "  int y = 3;\n",
        "  cout << \"pow(-5, 3) = \" << pow(x, y) << endl;\n",
        "  cout << \"pow(\" << y << \", \" << x << \") = \" << pow(y, x);\n",
        "}"
      ],
      "execution_count": null,
      "outputs": [
        {
          "output_type": "stream",
          "name": "stdout",
          "text": [
            "Overwriting temp.cpp\n"
          ]
        }
      ]
    },
    {
      "cell_type": "code",
      "metadata": {
        "id": "dT-3wFH6HezZ",
        "colab": {
          "base_uri": "https://localhost:8080/"
        },
        "outputId": "e8358a38-4769-49a0-e385-dee93993b68e"
      },
      "source": [
        "!g++ temp.cpp; ./a.out"
      ],
      "execution_count": null,
      "outputs": [
        {
          "output_type": "stream",
          "name": "stdout",
          "text": [
            "pow(-5, 3) = -125\n",
            "pow(3, -5) = 0.00411523"
          ]
        }
      ]
    },
    {
      "cell_type": "code",
      "metadata": {
        "id": "b4Nys8y_vBT1",
        "colab": {
          "base_uri": "https://localhost:8080/"
        },
        "outputId": "f79cf436-1000-4b39-88f3-088b60088249"
      },
      "source": [
        "# アサインメント演算子\n",
        "%%writefile temp.cpp\n",
        "# include <bits/stdc++.h>\n",
        "using namespace std;\n",
        "\n",
        "int main() {\n",
        "  int x = 5;\n",
        "  x += 3;\n",
        "  cout << x << \"\\n\";\n",
        "  cout << x-- << \"\\n\";\n",
        "  cout << x << \"\\n\";\n",
        "  cout << --x << \"\\n\";\n",
        "}"
      ],
      "execution_count": null,
      "outputs": [
        {
          "output_type": "stream",
          "name": "stdout",
          "text": [
            "Overwriting temp.cpp\n"
          ]
        }
      ]
    },
    {
      "cell_type": "code",
      "metadata": {
        "id": "4pyoHRQBvg_z",
        "colab": {
          "base_uri": "https://localhost:8080/"
        },
        "outputId": "1c635769-8875-4f17-d169-b38e4b0c3957"
      },
      "source": [
        "!g++ temp.cpp; ./a.out"
      ],
      "execution_count": null,
      "outputs": [
        {
          "output_type": "stream",
          "name": "stdout",
          "text": [
            "8\n",
            "8\n",
            "7\n",
            "6\n"
          ]
        }
      ]
    },
    {
      "cell_type": "code",
      "metadata": {
        "id": "Hpc2_pUod-fM",
        "colab": {
          "base_uri": "https://localhost:8080/"
        },
        "outputId": "01391735-e63e-4f24-bcf7-94e8f2b6a0b0"
      },
      "source": [
        "# ビット演算子\n",
        "# 5 は 2進数で 101、4 は 100 なので & を取ると、100 で 4 になる。\n",
        "%%writefile temp.cpp\n",
        "# include <bits/stdc++.h>\n",
        "using namespace std;\n",
        "\n",
        "int main() {\n",
        "    int x = 5;\n",
        "    x &= 4;\n",
        "    cout << x;\n",
        "}"
      ],
      "execution_count": null,
      "outputs": [
        {
          "output_type": "stream",
          "name": "stdout",
          "text": [
            "Overwriting temp.cpp\n"
          ]
        }
      ]
    },
    {
      "cell_type": "code",
      "metadata": {
        "id": "Co6kI7K9eHMS",
        "colab": {
          "base_uri": "https://localhost:8080/"
        },
        "outputId": "68fd843e-f1f5-4fec-a5d6-84ef26177013"
      },
      "source": [
        "!g++ temp.cpp; ./a.out"
      ],
      "execution_count": null,
      "outputs": [
        {
          "output_type": "stream",
          "name": "stdout",
          "text": [
            "4"
          ]
        }
      ]
    },
    {
      "cell_type": "code",
      "source": [
        "%%html\n",
        "<style>\n",
        "    tr td:nth-child(2) {\n",
        "        color: red;\n",
        "        text-align: center;\n",
        "    }\n",
        "</style>\n",
        "<table border=\"1\">\n",
        "<thead>\n",
        "<tr><th>ビット演算</th><th>演算子</th><th>意味</th></tr>\n",
        "</thead>\n",
        "<tbody>\n",
        "<tr><td>ビット毎のAND演算</td><td>&</td><td>各ビットについて「両方のビットが1ならば1」という操作を適用する。</td></tr>\n",
        "<tr><td>ビット毎のOR演算</td><td>|</td><td>各ビットについて「少なくとも一方のビットが1ならば1」という操作を適用する。</td></tr>\n",
        "<tr><td>ビット毎のXOR演算</td><td>^</td><td>各ビットについて「どちらか一方だけが1ならば1」という操作を適用する。</td></tr>\n",
        "<tr><td>ビット毎のNOT演算</td><td>~</td><td>各ビットについて「ビットを反転する」という操作を適用する。</td></tr>\n",
        "<tr><td>左シフト演算</td><td><<</td><td>指定したビット数だけビット列を左にずらす。範囲外のビットは切り捨てられ、足りないビットは0で埋められる。</td></tr>\n",
        "<tr><td>右シフト演算</td><td>>></td><td>指定したビット数だけビット列を右にずらす。範囲外のビットは切り捨てられ、足りないビットは0で埋められる。</td></tr>\n",
        "</tbody>\n",
        "</table>"
      ],
      "metadata": {
        "colab": {
          "base_uri": "https://localhost:8080/",
          "height": 289
        },
        "id": "7ltxraARyrpM",
        "outputId": "c6270642-17e7-46d6-9a87-751e25a145f2"
      },
      "execution_count": null,
      "outputs": [
        {
          "output_type": "display_data",
          "data": {
            "text/plain": [
              "<IPython.core.display.HTML object>"
            ],
            "text/html": [
              "<style>\n",
              "    tr td:nth-child(2) {\n",
              "        color: red;\n",
              "        text-align: center;\n",
              "    }\n",
              "</style>\n",
              "<table border=\"1\">\n",
              "<thead>\n",
              "<tr><th>ビット演算</th><th>演算子</th><th>意味</th></tr>\n",
              "</thead>\n",
              "<tbody>\n",
              "<tr><td>ビット毎のAND演算</td><td>&</td><td>各ビットについて「両方のビットが1ならば1」という操作を適用する。</td></tr>\n",
              "<tr><td>ビット毎のOR演算</td><td>|</td><td>各ビットについて「少なくとも一方のビットが1ならば1」という操作を適用する。</td></tr>\n",
              "<tr><td>ビット毎のXOR演算</td><td>^</td><td>各ビットについて「どちらか一方だけが1ならば1」という操作を適用する。</td></tr>\n",
              "<tr><td>ビット毎のNOT演算</td><td>~</td><td>各ビットについて「ビットを反転する」という操作を適用する。</td></tr>\n",
              "<tr><td>左シフト演算</td><td><<</td><td>指定したビット数だけビット列を左にずらす。範囲外のビットは切り捨てられ、足りないビットは0で埋められる。</td></tr>\n",
              "<tr><td>右シフト演算</td><td>>></td><td>指定したビット数だけビット列を右にずらす。範囲外のビットは切り捨てられ、足りないビットは0で埋められる。</td></tr>\n",
              "</tbody>\n",
              "</table>"
            ]
          },
          "metadata": {}
        }
      ]
    },
    {
      "cell_type": "code",
      "source": [
        "# 2進数 10進数 相互変換\n",
        "%%writefile temp.cpp\n",
        "# include <bits/stdc++.h>\n",
        "using namespace std;\n",
        "\n",
        "int main() {\n",
        "    bitset<3> x(4);\n",
        "    bitset<3> y = 5;\n",
        "    bitset<3> z(0b111);\n",
        "    bitset<3> a(\"010\");\n",
        "    cout << x << endl;\n",
        "    cout << y << endl;\n",
        "    cout << z << endl;\n",
        "    cout << a << endl;\n",
        "    cout << a.to_ullong() << endl; // ビットセットの内容を unsigned long long 整数に変換\n",
        "}"
      ],
      "metadata": {
        "colab": {
          "base_uri": "https://localhost:8080/"
        },
        "id": "ixIvpcsJK0u_",
        "outputId": "7de33adb-e15f-457a-e29b-0ac030223972"
      },
      "execution_count": null,
      "outputs": [
        {
          "output_type": "stream",
          "name": "stdout",
          "text": [
            "Overwriting temp.cpp\n"
          ]
        }
      ]
    },
    {
      "cell_type": "code",
      "source": [
        "!g++ temp.cpp; ./a.out"
      ],
      "metadata": {
        "colab": {
          "base_uri": "https://localhost:8080/"
        },
        "id": "XRpLe0v7LTuw",
        "outputId": "d794737d-295a-4d8c-feae-3be1889cd3eb"
      },
      "execution_count": null,
      "outputs": [
        {
          "output_type": "stream",
          "name": "stdout",
          "text": [
            "100\n",
            "101\n",
            "111\n",
            "010\n",
            "2\n"
          ]
        }
      ]
    },
    {
      "cell_type": "code",
      "metadata": {
        "id": "DoppkUDGfF7C",
        "colab": {
          "base_uri": "https://localhost:8080/"
        },
        "outputId": "ba6b43b8-d029-485e-a37e-92faae6ea0c5"
      },
      "source": [
        "import numpy as np\n",
        "print(np.base_repr(5, 2))\n",
        "print(np.base_repr(4,2))"
      ],
      "execution_count": null,
      "outputs": [
        {
          "output_type": "stream",
          "name": "stdout",
          "text": [
            "101\n",
            "100\n"
          ]
        }
      ]
    },
    {
      "cell_type": "code",
      "metadata": {
        "id": "3BUv3ygpf4rH",
        "colab": {
          "base_uri": "https://localhost:8080/"
        },
        "outputId": "13ff8099-5658-403b-ed23-c1a48ecc29fc"
      },
      "source": [
        "# 5 は 2進数で 101 で、これを `<<` で 3桁左にずらすと 101000 にな\n",
        "%%writefile temp.cpp\n",
        "# include <bits/stdc++.h>\n",
        "using namespace std;\n",
        "\n",
        "int main() {\n",
        "  int x = 5;\n",
        "  x <<= 3;\n",
        "  cout << x << endl;\n",
        "  bitset<8> y = x;\n",
        "  cout << y << endl;\n",
        "  cout << bitset<8>(x) << endl;\n",
        "}"
      ],
      "execution_count": null,
      "outputs": [
        {
          "output_type": "stream",
          "name": "stdout",
          "text": [
            "Overwriting temp.cpp\n"
          ]
        }
      ]
    },
    {
      "cell_type": "code",
      "metadata": {
        "id": "TJ1DijnqgAHr",
        "colab": {
          "base_uri": "https://localhost:8080/"
        },
        "outputId": "707ed041-9861-415c-e87e-122c4f4bf542"
      },
      "source": [
        "!g++ temp.cpp; ./a.out"
      ],
      "execution_count": null,
      "outputs": [
        {
          "output_type": "stream",
          "name": "stdout",
          "text": [
            "40\n",
            "00101000\n",
            "00101000\n"
          ]
        }
      ]
    },
    {
      "cell_type": "markdown",
      "metadata": {
        "id": "WV8MmKZ6gqSw"
      },
      "source": [
        "文字列 string\n"
      ]
    },
    {
      "cell_type": "code",
      "metadata": {
        "id": "JV2gT3iagztB"
      },
      "source": [
        "%%writefile temp.cpp\n",
        "# include <bits/stdc++.h>\n",
        "using namespace std;\n",
        "int main() {\n",
        "  string greeting = \"Hello\";\n",
        "  cout << greeting;\n",
        "}"
      ],
      "execution_count": null,
      "outputs": []
    },
    {
      "cell_type": "code",
      "metadata": {
        "id": "snL3f-Vrg5jt"
      },
      "source": [
        "!g++ temp.cpp; ./a.out"
      ],
      "execution_count": null,
      "outputs": []
    },
    {
      "cell_type": "markdown",
      "metadata": {
        "id": "TLwB2_twB0xJ"
      },
      "source": [
        "string concatenation"
      ]
    },
    {
      "cell_type": "code",
      "metadata": {
        "id": "llvccZAOBmoX",
        "colab": {
          "base_uri": "https://localhost:8080/"
        },
        "outputId": "bafe5933-104c-4574-d31b-77bd828aa6d9"
      },
      "source": [
        "# 文字列連結 string concatination `+`\n",
        "%%writefile temp.cpp\n",
        "# include <bits/stdc++.h>\n",
        "#include <string>\n",
        "using namespace std;\n",
        "int main () {\n",
        "  string firstName = \"John \";\n",
        "  string lastName = \"Doe\";\n",
        "  string fullName = firstName + lastName;\n",
        "  cout << fullName;\n",
        "}"
      ],
      "execution_count": null,
      "outputs": [
        {
          "output_type": "stream",
          "name": "stdout",
          "text": [
            "Overwriting temp.cpp\n"
          ]
        }
      ]
    },
    {
      "cell_type": "code",
      "metadata": {
        "id": "r995sRAhBrIa",
        "colab": {
          "base_uri": "https://localhost:8080/"
        },
        "outputId": "8c6274e4-0882-4870-eacf-9d6038cbe4b9"
      },
      "source": [
        "!g++ temp.cpp; ./a.out"
      ],
      "execution_count": null,
      "outputs": [
        {
          "output_type": "stream",
          "name": "stdout",
          "text": [
            "John Doe"
          ]
        }
      ]
    },
    {
      "cell_type": "code",
      "metadata": {
        "id": "-iqkU708CLAj",
        "colab": {
          "base_uri": "https://localhost:8080/"
        },
        "outputId": "6a6b0759-7e81-41d2-bc8e-9a623c324025"
      },
      "source": [
        "%%writefile temp.cpp\n",
        "# include <bits/stdc++.h>\n",
        "using namespace std;\n",
        " \n",
        "int main () {\n",
        "  string firstName = \"John \";\n",
        "  string lastName = \"Doe\";\n",
        "  string fullName = firstName.append(lastName);\n",
        "  cout << fullName;\n",
        "}\n"
      ],
      "execution_count": null,
      "outputs": [
        {
          "output_type": "stream",
          "name": "stdout",
          "text": [
            "Overwriting temp.cpp\n"
          ]
        }
      ]
    },
    {
      "cell_type": "code",
      "metadata": {
        "id": "SJR6YJUbCU_o",
        "colab": {
          "base_uri": "https://localhost:8080/"
        },
        "outputId": "491a3a5d-e4b1-4749-bc77-0c5fba986a4c"
      },
      "source": [
        "!g++ temp.cpp; ./a.out"
      ],
      "execution_count": null,
      "outputs": [
        {
          "output_type": "stream",
          "name": "stdout",
          "text": [
            "John Doe"
          ]
        }
      ]
    },
    {
      "cell_type": "code",
      "metadata": {
        "id": "O8rjyAcwCzW5",
        "colab": {
          "base_uri": "https://localhost:8080/"
        },
        "outputId": "18e0547e-a5e3-47f7-9e9e-6ddba5a8d88c"
      },
      "source": [
        "%%writefile temp.cpp\n",
        "# include <bits/stdc++.h>\n",
        "using namespace std;\n",
        "int main() {\n",
        "  string txt = \"ABCDEFGHIJKLMNOPQRSTUVWXYZ\";\n",
        "  cout << \"The length of the txt string is: \" << txt.length() << endl;\n",
        "  cout << \"The size of the txt string is: \" << txt.size() << endl;\n",
        "}"
      ],
      "execution_count": null,
      "outputs": [
        {
          "output_type": "stream",
          "name": "stdout",
          "text": [
            "Overwriting temp.cpp\n"
          ]
        }
      ]
    },
    {
      "cell_type": "code",
      "metadata": {
        "id": "bN8osuBqC8Oe",
        "colab": {
          "base_uri": "https://localhost:8080/"
        },
        "outputId": "4e1d6208-3096-447f-c91c-b776ceda91d6"
      },
      "source": [
        "!g++ temp.cpp; ./a.out"
      ],
      "execution_count": null,
      "outputs": [
        {
          "output_type": "stream",
          "name": "stdout",
          "text": [
            "The length of the txt string is: 26\n",
            "The size of the txt string is: 26\n"
          ]
        }
      ]
    },
    {
      "cell_type": "code",
      "metadata": {
        "id": "Fwhtd7A5Dn6V",
        "colab": {
          "base_uri": "https://localhost:8080/"
        },
        "outputId": "817d67fb-b772-4f94-b79a-79add6e701de"
      },
      "source": [
        "# txt.length() と txt.size() は同じか\n",
        "# 2バイト文字(全角文字)を数えない点も含め、同じみたい\n",
        "%%writefile temp.cpp\n",
        "# include <bits/stdc++.h>\n",
        "using namespace std;\n",
        "int main() {\n",
        "  string txt = \"日本語\";\n",
        "  cout << txt << endl;\n",
        "  cout << \"The length of the txt string is: \" << txt.length() << endl;\n",
        "  cout << \"The size of the txt string is: \" << txt.size() << endl;\n",
        "}"
      ],
      "execution_count": null,
      "outputs": [
        {
          "output_type": "stream",
          "name": "stdout",
          "text": [
            "Overwriting temp.cpp\n"
          ]
        }
      ]
    },
    {
      "cell_type": "code",
      "metadata": {
        "id": "tFZQBolJDn6V",
        "colab": {
          "base_uri": "https://localhost:8080/"
        },
        "outputId": "2f99694b-9c70-4a84-ed54-d02e80c83165"
      },
      "source": [
        "!g++ temp.cpp; ./a.out"
      ],
      "execution_count": null,
      "outputs": [
        {
          "output_type": "stream",
          "name": "stdout",
          "text": [
            "日本語\n",
            "The length of the txt string is: 9\n",
            "The size of the txt string is: 9\n"
          ]
        }
      ]
    },
    {
      "cell_type": "code",
      "metadata": {
        "id": "N3yk1iHVaYc0",
        "colab": {
          "base_uri": "https://localhost:8080/"
        },
        "outputId": "b549cf04-1d8f-4267-d553-519d8e4693d9"
      },
      "source": [
        "%%writefile temp.cpp\n",
        "# include <bits/stdc++.h>\n",
        "#include <string>\n",
        "using namespace std;\n",
        "int main() {\n",
        "  string myString = \"Hello\";\n",
        "  myString[0] = 'J';\n",
        "  cout << myString << endl;\n",
        "}\n"
      ],
      "execution_count": null,
      "outputs": [
        {
          "output_type": "stream",
          "name": "stdout",
          "text": [
            "Overwriting temp.cpp\n"
          ]
        }
      ]
    },
    {
      "cell_type": "code",
      "metadata": {
        "id": "iOu-_DX2akcc",
        "colab": {
          "base_uri": "https://localhost:8080/"
        },
        "outputId": "bc208ad9-f7eb-4271-9664-97d99240bca4"
      },
      "source": [
        "!g++ temp.cpp; ./a.out"
      ],
      "execution_count": null,
      "outputs": [
        {
          "output_type": "stream",
          "name": "stdout",
          "text": [
            "Jello\n"
          ]
        }
      ]
    },
    {
      "cell_type": "code",
      "metadata": {
        "id": "7Bk6CAf-bGft",
        "colab": {
          "base_uri": "https://localhost:8080/"
        },
        "outputId": "f66152fd-27a7-43e0-e9eb-54a92863aa1c"
      },
      "source": [
        "# 行を取り込む\n",
        "# 説明 $\\quad$ `cin >> fullName;` とすると、スペースで区切られたインプットの\n",
        "# スペース前が代入されて行全体が代入されないので、`getline (cin, fullName);` とする。\n",
        "%%writefile temp.cpp\n",
        "# include <bits/stdc++.h>\n",
        "using namespace std;\n",
        "int main() {\n",
        "  string fullName;\n",
        "  // cout << \"Type your full name: \";\n",
        "  getline (cin, fullName);\n",
        "  cout << \"Your name is: \" << fullName;\n",
        "}\n"
      ],
      "execution_count": null,
      "outputs": [
        {
          "output_type": "stream",
          "name": "stdout",
          "text": [
            "Overwriting temp.cpp\n"
          ]
        }
      ]
    },
    {
      "cell_type": "code",
      "metadata": {
        "id": "ncf-dL8fljoH",
        "colab": {
          "base_uri": "https://localhost:8080/"
        },
        "outputId": "0f5654e6-e1d6-476a-dff4-356ca406f424"
      },
      "source": [
        "!g++ temp.cpp; echo Abraham Lincoln | ./a.out"
      ],
      "execution_count": null,
      "outputs": [
        {
          "output_type": "stream",
          "name": "stdout",
          "text": [
            "Your name is: Abraham Lincoln"
          ]
        }
      ]
    },
    {
      "cell_type": "markdown",
      "metadata": {
        "id": "nGgjeu8CJ3zu"
      },
      "source": [
        "ネームスペースのの省略\n",
        "\n",
        "```\n",
        "using namespace std;\n",
        "```\n",
        "\n",
        "を省略したときの書き方。 `::` をつける。\n"
      ]
    },
    {
      "cell_type": "code",
      "metadata": {
        "id": "sq9Q97KdKH-M",
        "colab": {
          "base_uri": "https://localhost:8080/"
        },
        "outputId": "caf1dc7f-fc1e-4a80-e0fb-9212ac30e7e1"
      },
      "source": [
        "%%writefile temp.cpp\n",
        "# include <bits/stdc++.h>\n",
        "int main() {\n",
        "  std::string greeting = \"Hello\";\n",
        "  std::cout << greeting;\n",
        "}\n"
      ],
      "execution_count": null,
      "outputs": [
        {
          "output_type": "stream",
          "name": "stdout",
          "text": [
            "Overwriting temp.cpp\n"
          ]
        }
      ]
    },
    {
      "cell_type": "code",
      "metadata": {
        "id": "zHB4UpcbKTGP",
        "colab": {
          "base_uri": "https://localhost:8080/"
        },
        "outputId": "905d5383-f0be-4d6a-fe36-344fe06f6c70"
      },
      "source": [
        "!g++ temp.cpp; ./a.out"
      ],
      "execution_count": null,
      "outputs": [
        {
          "output_type": "stream",
          "name": "stdout",
          "text": [
            "Hello"
          ]
        }
      ]
    },
    {
      "cell_type": "code",
      "metadata": {
        "id": "DqYJWTLfTHA0",
        "colab": {
          "base_uri": "https://localhost:8080/"
        },
        "outputId": "8de73975-945d-4d86-a294-c9766fdaebfd"
      },
      "source": [
        "# Math\n",
        "%%writefile temp.cpp\n",
        "# include <bits/stdc++.h>\n",
        "using namespace std;\n",
        "int main() {\n",
        "  cout << max(5, 10);\n",
        "}"
      ],
      "execution_count": null,
      "outputs": [
        {
          "output_type": "stream",
          "name": "stdout",
          "text": [
            "Overwriting temp.cpp\n"
          ]
        }
      ]
    },
    {
      "cell_type": "code",
      "metadata": {
        "id": "m-Q7U_LkTPSy",
        "colab": {
          "base_uri": "https://localhost:8080/"
        },
        "outputId": "fda0bec3-485e-4b43-8438-8f8dfe565668"
      },
      "source": [
        "!g++ temp.cpp; ./a.out"
      ],
      "execution_count": null,
      "outputs": [
        {
          "output_type": "stream",
          "name": "stdout",
          "text": [
            "10"
          ]
        }
      ]
    },
    {
      "cell_type": "markdown",
      "source": [
        "# いまここ"
      ],
      "metadata": {
        "id": "ciW7TNPXQwQw"
      }
    },
    {
      "cell_type": "code",
      "metadata": {
        "id": "qUNsklXVUExb"
      },
      "source": [
        "%%writefile temp.cpp\n",
        "# include <bits/stdc++.h>\n",
        "#include <cmath>\n",
        "using namespace std;\n",
        "\n",
        "int main() {\n",
        "  cout << sqrt(64) << \"\\n\";\n",
        "  cout << round(2.6) << \"\\n\";\n",
        "  cout << log(2) << \"\\n\";\n",
        "  return 0;\n",
        "}\n"
      ],
      "execution_count": null,
      "outputs": []
    },
    {
      "cell_type": "code",
      "metadata": {
        "id": "2supEKMcUJyx"
      },
      "source": [
        "!g++ temp.cpp; ./a.out"
      ],
      "execution_count": null,
      "outputs": []
    },
    {
      "cell_type": "code",
      "metadata": {
        "id": "Qt_Q18TOUu1r"
      },
      "source": [
        "# python による検証\n",
        "# C++ の log() のベースはネイピア数(2.718)\n",
        "import math\n",
        "\n",
        "print(2.718**0.693147)\n",
        "\n",
        "print(math.exp(1))\n",
        "\n",
        "print(math.log(2))\n",
        "\n",
        "print(math.log(2, math.exp(1)))\n",
        "\n"
      ],
      "execution_count": null,
      "outputs": []
    },
    {
      "cell_type": "markdown",
      "metadata": {
        "id": "dFpJLtIeBtIV"
      },
      "source": [
        "cmath ライブラリーのほかの関数"
      ]
    },
    {
      "cell_type": "code",
      "metadata": {
        "id": "5efZAImnB0ZC"
      },
      "source": [
        "%%writefile temp.cpp\n",
        "# include <bits/stdc++.h>\n",
        "#include <cmath>\n",
        "using namespace std;\n",
        "\n",
        "int main() {\n",
        "  cout << sin(3.14/2) << \"\\n\";\n",
        "  cout << cbrt(64) << \"\\n\";\n",
        "  cout << abs(-2.3) << \"\\n\";\n",
        "  cout << fabs(-2.3) << \"\\n\";\n",
        "  cout << ceil(-2.3) << \"\\n\";\n",
        "  cout << floor(-2.3) << \"\\n\";\n",
        "  cout << exp(1) << \"\\n\";\n",
        "  cout << expm1(1) << \"\\n\";\n",
        "  cout << fdim(3.5, -3.5) << \"\\n\";\n",
        "  cout << hypot(3, 4) << \"\\n\";\n",
        "  cout << fma(2,3,4.1) << \"\\n\";\n",
        "  cout << fmod(5.0, 2.1) << \"\\n\";\n",
        "  cout << pow(16, 0.5) << \"\\n\";\n",
        " \n",
        "  return 0;\n",
        "}\n"
      ],
      "execution_count": null,
      "outputs": []
    },
    {
      "cell_type": "code",
      "metadata": {
        "id": "zi6mNxxCB0ZF"
      },
      "source": [
        "!g++ temp.cpp; ./a.out"
      ],
      "execution_count": null,
      "outputs": []
    },
    {
      "cell_type": "code",
      "metadata": {
        "id": "oYYWPgYh74ob"
      },
      "source": [
        "%%writefile temp.cpp\n",
        "# include <bits/stdc++.h>\n",
        "using namespace std;\n",
        "\n",
        "int main() {\n",
        "  bool isCodingFun = true;\n",
        "  bool isFishTasty = false;\n",
        "  cout << isCodingFun << \"\\n\";\n",
        "  cout << isFishTasty;\n",
        "  return 0;\n",
        "}"
      ],
      "execution_count": null,
      "outputs": []
    },
    {
      "cell_type": "code",
      "metadata": {
        "id": "RhUYA2c-7_hz"
      },
      "source": [
        "!g++ temp.cpp; ./a.out"
      ],
      "execution_count": null,
      "outputs": []
    },
    {
      "cell_type": "code",
      "metadata": {
        "id": "DW3WU3amjC16"
      },
      "source": [
        "%%writefile temp.cpp\n",
        "# include <bits/stdc++.h>\n",
        "using namespace std;\n",
        "\n",
        "int main() {\n",
        "  int x = 20;\n",
        "  int y = 18;\n",
        "  if (x > y) {\n",
        "    cout << \"x is greater than y\";\n",
        "  }  \n",
        "  return 0;\n",
        "}\n"
      ],
      "execution_count": null,
      "outputs": []
    },
    {
      "cell_type": "code",
      "metadata": {
        "id": "U-TeRyy3jElS"
      },
      "source": [
        "!g++ temp.cpp; ./a.out"
      ],
      "execution_count": null,
      "outputs": []
    },
    {
      "cell_type": "code",
      "metadata": {
        "id": "bl06solSjfo0"
      },
      "source": [
        "%%writefile temp.cpp\n",
        "# include <bits/stdc++.h>\n",
        "using namespace std;\n",
        "\n",
        "int main() {\n",
        "  int time = 20;\n",
        "  if (time < 18) {\n",
        "    cout << \"Good day.\";\n",
        "  } else {\n",
        "    cout << \"Good evening.\";\n",
        "  }\n",
        "  return 0;\n",
        "}"
      ],
      "execution_count": null,
      "outputs": []
    },
    {
      "cell_type": "code",
      "metadata": {
        "id": "lD_yDgDTjiKH"
      },
      "source": [
        "!g++ temp.cpp; ./a.out"
      ],
      "execution_count": null,
      "outputs": []
    },
    {
      "cell_type": "code",
      "metadata": {
        "id": "1qUuh5JSj4JZ"
      },
      "source": [
        "%%writefile temp.cpp\n",
        "# include <bits/stdc++.h>\n",
        "using namespace std;\n",
        "\n",
        "int main() {\n",
        "  int time = 22;\n",
        "  if (time < 10) {\n",
        "    cout << \"Good morning.\";\n",
        "  } else if (time < 20) {\n",
        "    cout << \"Good day.\";\n",
        "  } else {\n",
        "    cout << \"Good evening.\";\n",
        "  }\n",
        "  return 0;\n",
        "}\n"
      ],
      "execution_count": null,
      "outputs": []
    },
    {
      "cell_type": "code",
      "metadata": {
        "id": "WeNIRfvfj6km"
      },
      "source": [
        "!g++ temp.cpp; ./a.out"
      ],
      "execution_count": null,
      "outputs": []
    },
    {
      "cell_type": "code",
      "metadata": {
        "id": "16UgntYYkPkF"
      },
      "source": [
        "%%writefile temp.cpp\n",
        "# include <bits/stdc++.h>\n",
        "#include <string>\n",
        "using namespace std;\n",
        "\n",
        "int main() {\n",
        "  int time = 20;\n",
        "//   string result = (time < 18) ? \"Good day.\" : \"Good evening.\";\n",
        "//   cout << result;\n",
        "  cout <<  ((time < 18) ? \"Good day.\" : \"Good evening.\");\n",
        "  return 0;\n",
        "}\n"
      ],
      "execution_count": null,
      "outputs": []
    },
    {
      "cell_type": "code",
      "metadata": {
        "id": "lhEkWQxbkW39"
      },
      "source": [
        "!g++ temp.cpp; ./a.out"
      ],
      "execution_count": null,
      "outputs": []
    },
    {
      "cell_type": "code",
      "metadata": {
        "id": "XcesfRGD7Zei"
      },
      "source": [
        "# switch 構文\n",
        "%%writefile temp.cpp\n",
        "\n",
        "# include <bits/stdc++.h>\n",
        "using namespace std;\n",
        "\n",
        "int main() {\n",
        "  int day = 4;\n",
        "  switch (day) {\n",
        "  case 1:\n",
        "    cout << \"Monday\";\n",
        "    break;\n",
        "  case 2:\n",
        "    cout << \"Tuesday\";\n",
        "    break;\n",
        "  case 3:\n",
        "    cout << \"Wednesday\";\n",
        "    break;\n",
        "  case 4:\n",
        "    cout << \"Thursday\";\n",
        "    break;\n",
        "  case 5:\n",
        "    cout << \"Friday\";\n",
        "    break;\n",
        "  case 6:\n",
        "    cout << \"Saturday\";\n",
        "   break;\n",
        "  case 7:\n",
        "    cout << \"Sunday\";\n",
        "    break;\n",
        "  }\n",
        "  return 0;\n",
        "}"
      ],
      "execution_count": null,
      "outputs": []
    },
    {
      "cell_type": "code",
      "metadata": {
        "id": "q729GEbV7e4R"
      },
      "source": [
        "!g++ temp.cpp; ./a.out"
      ],
      "execution_count": null,
      "outputs": []
    },
    {
      "cell_type": "code",
      "metadata": {
        "id": "O72WfBCMGWG-"
      },
      "source": [
        "%%writefile temp.cpp\n",
        "# include <bits/stdc++.h>\n",
        "using namespace std;\n",
        "\n",
        "int main() {\n",
        "  int day = 4;\n",
        "  switch (day) {\n",
        "    case 6:\n",
        "      cout << \"Today is Saturday\";\n",
        "      break;\n",
        "    case 7:\n",
        "      cout << \"Today is Sunday\";\n",
        "      break;\n",
        "    default:\n",
        "      cout << \"Looking forward to the Weekend\";\n",
        "  }\n",
        "  return 0;\n",
        "}\n"
      ],
      "execution_count": null,
      "outputs": []
    },
    {
      "cell_type": "code",
      "metadata": {
        "id": "6C9d6okNGW5I"
      },
      "source": [
        "!g++ temp.cpp; ./a.out"
      ],
      "execution_count": null,
      "outputs": []
    },
    {
      "cell_type": "code",
      "metadata": {
        "id": "ihhwaJtn4JMD"
      },
      "source": [
        "%%writefile temp.cpp\n",
        "# include <bits/stdc++.h>\n",
        "using namespace std;\n",
        "\n",
        "int main() {\n",
        "  int i = 0;\n",
        "  while (i < 5) {\n",
        "    cout << i << \"\\n\";\n",
        "    i++;\n",
        "  }\n",
        "  return 0;\n",
        "}"
      ],
      "execution_count": null,
      "outputs": []
    },
    {
      "cell_type": "code",
      "metadata": {
        "id": "zcOgtPoW4Jpz"
      },
      "source": [
        "!g++ temp.cpp; ./a.out"
      ],
      "execution_count": null,
      "outputs": []
    },
    {
      "cell_type": "code",
      "metadata": {
        "id": "kDVoKXM74eEN"
      },
      "source": [
        "%%writefile temp.cpp\n",
        "# include <bits/stdc++.h>\n",
        "using namespace std;\n",
        "\n",
        "int main() {\n",
        "  int i = 0;\n",
        "  do {\n",
        "    cout << i << \"\\n\";\n",
        "    i++;\n",
        "  }\n",
        "  while (i < 5);\n",
        "  return 0;\n",
        "}\n"
      ],
      "execution_count": null,
      "outputs": []
    },
    {
      "cell_type": "code",
      "metadata": {
        "id": "T5EZk3rj4dp_"
      },
      "source": [
        "!g++ temp.cpp; ./a.out"
      ],
      "execution_count": null,
      "outputs": []
    },
    {
      "cell_type": "code",
      "metadata": {
        "id": "mekcQLVJ5C21"
      },
      "source": [
        "%%writefile temp.cpp\n",
        "# include <bits/stdc++.h>\n",
        "using namespace std;\n",
        "\n",
        "int main() {\n",
        "  for (int i = 0; i < 5; i++) {\n",
        "    cout << i << \"\\n\";\n",
        "  }\n",
        "  return 0;\n",
        "}\n"
      ],
      "execution_count": null,
      "outputs": []
    },
    {
      "cell_type": "code",
      "metadata": {
        "id": "vVMSUoTD5DWS"
      },
      "source": [
        "!g++ temp.cpp; ./a.out"
      ],
      "execution_count": null,
      "outputs": []
    },
    {
      "cell_type": "code",
      "metadata": {
        "id": "6B9Qb9kU5d75"
      },
      "source": [
        "%%writefile temp.cpp\n",
        "# include <bits/stdc++.h>\n",
        "using namespace std;\n",
        "\n",
        "int main() {\n",
        "  for (int i = 0; i <= 10; i = i + 2) {\n",
        "    cout << i << \"\\n\";\n",
        "  }\n",
        "  return 0;\n",
        "}"
      ],
      "execution_count": null,
      "outputs": []
    },
    {
      "cell_type": "code",
      "metadata": {
        "id": "Xi5yv6sO5jx2"
      },
      "source": [
        "!g++ temp.cpp; ./a.out"
      ],
      "execution_count": null,
      "outputs": []
    },
    {
      "cell_type": "code",
      "metadata": {
        "id": "tRiVBXFL2rnC"
      },
      "source": [
        "%%writefile temp.cpp\n",
        "# include <bits/stdc++.h>\n",
        "using namespace std;\n",
        "\n",
        "int main() {\n",
        "  for (int i = 0; i < 10; i++) {\n",
        "    if (i == 4) {\n",
        "      continue;\n",
        "    }\n",
        "    cout << i << \"\\n\";\n",
        "  }   \n",
        "  return 0;\n",
        "}\n"
      ],
      "execution_count": null,
      "outputs": []
    },
    {
      "cell_type": "code",
      "metadata": {
        "id": "holEDCC520Dk"
      },
      "source": [
        "!g++ temp.cpp; ./a.out"
      ],
      "execution_count": null,
      "outputs": []
    },
    {
      "cell_type": "markdown",
      "metadata": {
        "id": "ZZyfhNB1YqRL"
      },
      "source": [
        "# 配列"
      ]
    },
    {
      "cell_type": "code",
      "metadata": {
        "id": "qf_0WEWnl4yx"
      },
      "source": [
        "%%writefile temp.cpp\n",
        "# include <bits/stdc++.h>\n",
        "#include <string>\n",
        "using namespace std;\n",
        "\n",
        "int main() {\n",
        "  string cars[4] = {\"Volvo\", \"BMW\", \"Ford\", \"Mazda\"};\n",
        "  cout << cars[0];\n",
        "  return 0;\n",
        "}"
      ],
      "execution_count": null,
      "outputs": []
    },
    {
      "cell_type": "code",
      "metadata": {
        "id": "e3onRGAemAhi"
      },
      "source": [
        "!g++ temp.cpp; ./a.out"
      ],
      "execution_count": null,
      "outputs": []
    },
    {
      "cell_type": "code",
      "metadata": {
        "id": "JickdBaumMKJ"
      },
      "source": [
        "%%writefile temp.cpp\n",
        "\n",
        "# include <bits/stdc++.h>\n",
        "#include <string>\n",
        "using namespace std;\n",
        "\n",
        "int main() {\n",
        "  string cars[4] = {\"Volvo\", \"BMW\", \"Ford\", \"Mazda\"};\n",
        "  cars[0] = \"Opel\";\n",
        "  cout << cars[0];\n",
        "  return 0;\n",
        "}\n"
      ],
      "execution_count": null,
      "outputs": []
    },
    {
      "cell_type": "code",
      "metadata": {
        "id": "xME08Ssamati"
      },
      "source": [
        "!g++ temp.cpp; ./a.out"
      ],
      "execution_count": null,
      "outputs": []
    },
    {
      "cell_type": "code",
      "metadata": {
        "id": "-8spDgtFmnW7"
      },
      "source": [
        "%%writefile temp.cpp\n",
        "\n",
        "# include <bits/stdc++.h>\n",
        "#include <string>\n",
        "using namespace std;\n",
        "\n",
        "int main() {\n",
        "  string cars[4] = {\"Volvo\", \"BMW\", \"Ford\", \"Mazda\"};\n",
        "  for(int i = 0; i < 4; i++) {\n",
        "    cout << cars[i] << \"\\n\";\n",
        "  }\n",
        "  return 0;\n",
        "}"
      ],
      "execution_count": null,
      "outputs": []
    },
    {
      "cell_type": "code",
      "metadata": {
        "id": "jy8wA-48mq-n"
      },
      "source": [
        "!g++ temp.cpp; ./a.out"
      ],
      "execution_count": null,
      "outputs": []
    },
    {
      "cell_type": "code",
      "metadata": {
        "id": "nJ5zPLrsm1z1"
      },
      "source": [
        "%%writefile temp.cpp\n",
        "\n",
        "# include <bits/stdc++.h>\n",
        "#include <string>\n",
        "using namespace std;\n",
        "int main() {\n",
        "  string cars[4] = {\"Volvo\", \"BMW\", \"Ford\", \"Mazda\"};\n",
        "  for(int i = 0; i < 4; i++) {\n",
        "    cout << i << \": \" << cars[i] << \"\\n\";\n",
        "  }\n",
        "  return 0;\n",
        "}\n"
      ],
      "execution_count": null,
      "outputs": []
    },
    {
      "cell_type": "code",
      "metadata": {
        "id": "BVbo7l6km5T1"
      },
      "source": [
        "!g++ temp.cpp; ./a.out"
      ],
      "execution_count": null,
      "outputs": []
    },
    {
      "cell_type": "code",
      "metadata": {
        "id": "Sy8xPThGnpbg"
      },
      "source": [
        "%%writefile temp.cpp\n",
        "\n",
        "# include <bits/stdc++.h>\n",
        "#include <string>\n",
        "using namespace std;\n",
        "\n",
        "int main() {\n",
        "  string cars[5] = {\"Volvo\", \"BMW\", \"Ford\"};\n",
        "  cars[3] = \"Mazda\";\n",
        "  cars[4] = \"Tesla\";\n",
        "  for(int i = 0; i < 5; i++) {\n",
        "    cout << cars[i] << \"\\n\";\n",
        "  }\n",
        "  return 0;\n",
        "}"
      ],
      "execution_count": null,
      "outputs": []
    },
    {
      "cell_type": "code",
      "metadata": {
        "id": "GIVj0MYAnswK"
      },
      "source": [
        "!g++ temp.cpp; ./a.out"
      ],
      "execution_count": null,
      "outputs": []
    },
    {
      "cell_type": "code",
      "metadata": {
        "id": "OSU6Fsxqn5Rs"
      },
      "source": [
        "%%writefile temp.cpp\n",
        "\n",
        "# include <bits/stdc++.h>\n",
        "#include <string>\n",
        "using namespace std;\n",
        "\n",
        "int main() {\n",
        "  string cars[5];\n",
        "  cars[0] = \"Volvo\";\n",
        "  cars[1] = \"BMW\";\n",
        "  cars[2] = \"Ford\";\n",
        "  cars[3] = \"Mazda\";\n",
        "  cars[4] = \"Tesla\";\n",
        "  for(int i = 0; i < 5; i++) {\n",
        "    cout << cars[i] << \"\\n\";\n",
        "  }\n",
        "  return 0;\n",
        "}\n"
      ],
      "execution_count": null,
      "outputs": []
    },
    {
      "cell_type": "code",
      "metadata": {
        "id": "T7JATf7Kn9d2"
      },
      "source": [
        "!g++ temp.cpp; ./a.out"
      ],
      "execution_count": null,
      "outputs": []
    },
    {
      "cell_type": "code",
      "metadata": {
        "id": "-qrghEFlhYhu"
      },
      "source": [
        "%%writefile temp.cpp\n",
        "\n",
        "# include <bits/stdc++.h>\n",
        "#include <string>\n",
        "using namespace std;\n",
        "\n",
        "int main() {\n",
        "  string food = \"Pizza\";\n",
        "  string &meal = food;\n",
        "\n",
        "  cout << food << \"\\n\";\n",
        "  cout << meal << \"\\n\";\n",
        "  return 0;\n",
        "}\n"
      ],
      "execution_count": null,
      "outputs": []
    },
    {
      "cell_type": "code",
      "metadata": {
        "id": "KvsgcVGDhmRx"
      },
      "source": [
        "!g++ temp.cpp; ./a.out"
      ],
      "execution_count": null,
      "outputs": []
    },
    {
      "cell_type": "code",
      "metadata": {
        "id": "E_KPSSOwigv7"
      },
      "source": [
        "%%writefile temp.cpp\n",
        "\n",
        "# include <bits/stdc++.h>\n",
        "#include <string>\n",
        "using namespace std;\n",
        "\n",
        "int main() {\n",
        "  string food = \"Pizza\";\n",
        "\n",
        "  cout << &food;\n",
        "  return 0;\n",
        "}\n"
      ],
      "execution_count": null,
      "outputs": []
    },
    {
      "cell_type": "code",
      "metadata": {
        "id": "2Ifs1iLiimEp"
      },
      "source": [
        "!g++ temp.cpp; ./a.out"
      ],
      "execution_count": null,
      "outputs": []
    },
    {
      "cell_type": "markdown",
      "metadata": {
        "id": "n5tqPh7fYu4w"
      },
      "source": [
        "# ポインター\n",
        "\n",
        "ポインター変数 ptr は `*` を付けて宣言する。\n",
        "\n",
        "ポインター変数 ptr はアドレス `&` が入る。\n",
        "\n",
        "すると、`*ptr` が書き換わる。え?"
      ]
    },
    {
      "cell_type": "code",
      "metadata": {
        "id": "1hgN8V-YXrHK"
      },
      "source": [
        "%%writefile temp.cpp\n",
        "\n",
        "# include <bits/stdc++.h>\n",
        "#include <string>\n",
        "using namespace std;\n",
        "\n",
        "int main() {\n",
        "  string food = \"Pizza\";  // A string variable\n",
        "  string* ptr = &food;  // A pointer variable that stores the address of food\n",
        "\n",
        "  // Output the value of food\n",
        "  cout << food << \"\\n\";\n",
        "\n",
        "  // Output the memory address of food\n",
        "  cout << &food << \"\\n\";\n",
        "\n",
        "  // Output the memory address of food with the pointer\n",
        "  cout << ptr << \"\\n\";\n",
        "  return 0;\n",
        "}"
      ],
      "execution_count": null,
      "outputs": []
    },
    {
      "cell_type": "code",
      "metadata": {
        "id": "a8VNvKHCX1jW"
      },
      "source": [
        "!g++ temp.cpp; ./a.out"
      ],
      "execution_count": null,
      "outputs": []
    },
    {
      "cell_type": "code",
      "metadata": {
        "id": "9g5Wa3RqYMTX"
      },
      "source": [
        "%%writefile temp.cpp\n",
        "\n",
        "# include <bits/stdc++.h>\n",
        "#include <string>\n",
        "using namespace std;\n",
        "\n",
        "int main() {\n",
        "  string food = \"Pizza\";  // Variable declaration\n",
        "  string* ptr = &food;    // Pointer declaration\n",
        "\n",
        "  // Reference: Output the memory address of food with the pointer\n",
        "  cout << ptr << \"\\n\";\n",
        "\n",
        "  // Dereference: Output the value of food with the pointer\n",
        "  cout << *ptr << \"\\n\";\n",
        "  return 0;\n",
        "}\n"
      ],
      "execution_count": null,
      "outputs": []
    },
    {
      "cell_type": "code",
      "metadata": {
        "id": "qQC7biZtYPIn"
      },
      "source": [
        "!g++ temp.cpp; ./a.out"
      ],
      "execution_count": null,
      "outputs": []
    },
    {
      "cell_type": "code",
      "metadata": {
        "id": "x7KawXfwYjBp"
      },
      "source": [
        "%%writefile temp.cpp\n",
        "\n",
        "# include <bits/stdc++.h>\n",
        "#include <string>\n",
        "using namespace std;\n",
        "\n",
        "int main() {\n",
        "  string food = \"Pizza\";\n",
        "  string* ptr = &food;\n",
        "\n",
        "  // Output the value of food\n",
        "  cout << food << \"\\n\";\n",
        "\n",
        "  // Output the memory address of food\n",
        "  cout << &food << \"\\n\";\n",
        "\n",
        "  // Access the memory address of food and output its value\n",
        "  cout << *ptr << \"\\n\";\n",
        "  \n",
        "  // Change the value of the pointer\n",
        "  *ptr = \"Hamburger\";\n",
        "  \n",
        "  // Output the new value of the pointer\n",
        "  cout << *ptr << \"\\n\";\n",
        "  \n",
        "  // Output the new value of the food variable\n",
        "  cout << food << \"\\n\";\n",
        "  return 0;\n",
        "}\n"
      ],
      "execution_count": null,
      "outputs": []
    },
    {
      "cell_type": "code",
      "metadata": {
        "id": "ZC4cYleOS1SI"
      },
      "source": [
        "!g++ temp.cpp; ./a.out"
      ],
      "execution_count": null,
      "outputs": []
    },
    {
      "cell_type": "code",
      "metadata": {
        "id": "gOdj0Sc7GmsP"
      },
      "source": [
        "# 実験\n",
        "%%writefile temp.cpp\n",
        "# include <bits/stdc++.h>\n",
        "#include <string>\n",
        "using namespace std;\n",
        "\n",
        "int main() {\n",
        "    auto thisfood = \"Pizza\";\n",
        "    auto * ptr = &thisfood;\n",
        "    *ptr = \"Cheese\";\n",
        "    cout << *ptr << \"\\n\";\n",
        "}"
      ],
      "execution_count": null,
      "outputs": []
    },
    {
      "cell_type": "code",
      "metadata": {
        "id": "vml0BoRVG3sP"
      },
      "source": [
        "!g++ temp.cpp; ./a.out"
      ],
      "execution_count": null,
      "outputs": []
    },
    {
      "cell_type": "markdown",
      "metadata": {
        "id": "jitnO9S9TGTC"
      },
      "source": [
        "# 関数 function\n"
      ]
    },
    {
      "cell_type": "code",
      "metadata": {
        "id": "rjylv-JQTffr"
      },
      "source": [
        "%%writefile temp.cpp\n",
        "\n",
        "# include <bits/stdc++.h>\n",
        "using namespace std;\n",
        "\n",
        "void myFunction() {\n",
        "  cout << \"I just got executed!\";\n",
        "}\n",
        "\n",
        "int main() {\n",
        "  myFunction();\n",
        "  return 0;\n",
        "}\n"
      ],
      "execution_count": null,
      "outputs": []
    },
    {
      "cell_type": "code",
      "metadata": {
        "id": "qo1x456fTrAr"
      },
      "source": [
        "!g++ temp.cpp; ./a.out"
      ],
      "execution_count": null,
      "outputs": []
    },
    {
      "cell_type": "code",
      "metadata": {
        "id": "pGfdsHEgT291"
      },
      "source": [
        "%%writefile temp.cpp\n",
        "\n",
        "# include <bits/stdc++.h>\n",
        "using namespace std;\n",
        "\n",
        "void myFunction() {\n",
        "  cout << \"I just got executed!\\n\";\n",
        "}\n",
        "\n",
        "int main() {\n",
        "  myFunction();\n",
        "  myFunction();\n",
        "  myFunction();\n",
        "  return 0;\n",
        "}\n"
      ],
      "execution_count": null,
      "outputs": []
    },
    {
      "cell_type": "code",
      "metadata": {
        "id": "3ODx7A603Jl6"
      },
      "source": [
        "!g++ temp.cpp; ./a.out"
      ],
      "execution_count": null,
      "outputs": []
    },
    {
      "cell_type": "code",
      "metadata": {
        "id": "EzMi7lOA3vAf"
      },
      "source": [
        "%%writefile temp.cpp\n",
        "\n",
        "# include <bits/stdc++.h>\n",
        "using namespace std;\n",
        "\n",
        "// Function declaration\n",
        "void myFunction();\n",
        "\n",
        "// The main method\n",
        "int main() {\n",
        "  myFunction();  // call the function\n",
        "  return 0;\n",
        "}\n",
        "\n",
        "// Function definition\n",
        "void myFunction() {\n",
        "  cout << \"I just got executed!\";\n",
        "}\n"
      ],
      "execution_count": null,
      "outputs": []
    },
    {
      "cell_type": "code",
      "metadata": {
        "id": "i5vo6gcf_iac"
      },
      "source": [
        "!g++ temp.cpp; ./a.out"
      ],
      "execution_count": null,
      "outputs": []
    },
    {
      "cell_type": "code",
      "metadata": {
        "id": "PNoSkj5R_y2N"
      },
      "source": [
        "%%writefile temp.cpp\n",
        "\n",
        "# include <bits/stdc++.h>\n",
        "#include <string>\n",
        "using namespace std;\n",
        "\n",
        "void myFunction(string fname) {\n",
        "  cout << fname << \" Refsnes\\n\";\n",
        "}\n",
        "\n",
        "int main() {\n",
        "  myFunction(\"Liam\");\n",
        "  myFunction(\"Jenny\");\n",
        "  myFunction(\"Anja\");\n",
        "  return 0;\n",
        "}\n"
      ],
      "execution_count": null,
      "outputs": []
    },
    {
      "cell_type": "code",
      "metadata": {
        "id": "YlH6QCPGAK0R"
      },
      "source": [
        "!g++ temp.cpp; ./a.out"
      ],
      "execution_count": null,
      "outputs": []
    },
    {
      "cell_type": "code",
      "metadata": {
        "id": "VG7FA6z5ofJ7"
      },
      "source": [
        "%%writefile temp.cpp\n",
        "\n",
        "# include <bits/stdc++.h>\n",
        "#include <string>\n",
        "using namespace std;\n",
        "\n",
        "void myFunction(string country = \"Norway\") {\n",
        "  cout << country << \"\\n\";\n",
        "}\n",
        "\n",
        "int main() {\n",
        "  myFunction(\"Sweden\");\n",
        "  myFunction(\"India\");\n",
        "  myFunction();\n",
        "  myFunction(\"USA\");\n",
        "  return 0;\n",
        "}"
      ],
      "execution_count": null,
      "outputs": []
    },
    {
      "cell_type": "code",
      "metadata": {
        "id": "wJ_FQ-okohmm"
      },
      "source": [
        "!g++ temp.cpp; ./a.out"
      ],
      "execution_count": null,
      "outputs": []
    },
    {
      "cell_type": "code",
      "metadata": {
        "id": "SPEQWGGTovf4"
      },
      "source": [
        "%%writefile temp.cpp\n",
        "\n",
        "# include <bits/stdc++.h>\n",
        "#include <string>\n",
        "using namespace std;\n",
        "\n",
        "void myFunction(string fname, int age) {\n",
        "  cout << fname << \" Refsnes. \" << age << \" years old. \\n\";\n",
        "}\n",
        "\n",
        "int main() {\n",
        "  myFunction(\"Liam\", 3);\n",
        "  myFunction(\"Jenny\", 14);\n",
        "  myFunction(\"Anja\", 30);\n",
        "  return 0;\n",
        "}\n"
      ],
      "execution_count": null,
      "outputs": []
    },
    {
      "cell_type": "code",
      "metadata": {
        "id": "c1LJx3ffpCvq"
      },
      "source": [
        "!g++ temp.cpp; ./a.out"
      ],
      "execution_count": null,
      "outputs": []
    },
    {
      "cell_type": "code",
      "metadata": {
        "id": "l1SXzT8MpVy0"
      },
      "source": [
        "%%writefile temp.cpp\n",
        "\n",
        "# include <bits/stdc++.h>\n",
        "using namespace std;\n",
        "\n",
        "int myFunction(int x) {\n",
        "  return 5 + x;\n",
        "}\n",
        "\n",
        "int main() {\n",
        "  cout << myFunction(3);\n",
        "  return 0;\n",
        "}\n"
      ],
      "execution_count": null,
      "outputs": []
    },
    {
      "cell_type": "code",
      "metadata": {
        "id": "HTFigBpApWKw"
      },
      "source": [
        "!g++ temp.cpp; ./a.out"
      ],
      "execution_count": null,
      "outputs": []
    },
    {
      "cell_type": "code",
      "metadata": {
        "id": "ZVkDUuXnpmbK"
      },
      "source": [
        "%%writefile temp.cpp\n",
        "\n",
        "# include <bits/stdc++.h>\n",
        "using namespace std;\n",
        "\n",
        "int myFunction(int x, int y) {\n",
        "  return x + y;\n",
        "}\n",
        "\n",
        "int main() {\n",
        "  cout << myFunction(5, 3);\n",
        "  return 0;\n",
        "}\n"
      ],
      "execution_count": null,
      "outputs": []
    },
    {
      "cell_type": "code",
      "metadata": {
        "id": "bGb-iR1GpmKd"
      },
      "source": [
        "!g++ temp.cpp; ./a.out"
      ],
      "execution_count": null,
      "outputs": []
    },
    {
      "cell_type": "code",
      "metadata": {
        "id": "DMfV5zUpptvH"
      },
      "source": [
        "%%writefile temp.cpp\n",
        "\n",
        "# include <bits/stdc++.h>\n",
        "using namespace std;\n",
        "\n",
        "int myFunction(int x, int y) {\n",
        "  return x + y;\n",
        "}\n",
        "\n",
        "int main() {\n",
        "  int z = myFunction(5, 3);\n",
        "  cout << z;\n",
        "  return 0;\n",
        "}\n"
      ],
      "execution_count": null,
      "outputs": []
    },
    {
      "cell_type": "code",
      "metadata": {
        "id": "cjORLJfhptjJ"
      },
      "source": [
        "!g++ temp.cpp; ./a.out"
      ],
      "execution_count": null,
      "outputs": []
    },
    {
      "cell_type": "code",
      "metadata": {
        "id": "7_ci617st4bU"
      },
      "source": [
        "%%writefile temp.cpp\n",
        "\n",
        "# include <bits/stdc++.h>\n",
        "using namespace std;\n",
        "\n",
        "void swapNums(int &x, int &y) {\n",
        "  int z = x;\n",
        "  x = y;\n",
        "  y = z;\n",
        "}\n",
        "\n",
        "int main() {\n",
        "  int firstNum = 10;\n",
        "  int secondNum = 20;\n",
        "\n",
        "  cout << \"Before swap: \" << \"\\n\";\n",
        "  cout << firstNum << secondNum << \"\\n\";\n",
        "\n",
        "  swapNums(firstNum, secondNum);\n",
        "\n",
        "  cout << \"After swap: \" << \"\\n\";\n",
        "  cout << firstNum << secondNum << \"\\n\";\n",
        "\n",
        "  return 0;\n",
        "}\n"
      ],
      "execution_count": null,
      "outputs": []
    },
    {
      "cell_type": "code",
      "metadata": {
        "id": "LEzCoNq7t_vZ"
      },
      "source": [
        "!g++ temp.cpp; ./a.out"
      ],
      "execution_count": null,
      "outputs": []
    },
    {
      "cell_type": "code",
      "metadata": {
        "id": "uloCDtwrumZA"
      },
      "source": [
        "%%writefile temp.cpp\n",
        "# include <bits/stdc++.h>\n",
        "using namespace std;\n",
        "\n",
        "int plusFunc(int x, int y) {\n",
        "  return x + y;\n",
        "}\n",
        "\n",
        "double plusFunc(double x, double y) {\n",
        "  return x + y;\n",
        "}\n",
        "\n",
        "int main() {\n",
        "  int myNum1 = plusFunc(8, 5);\n",
        "  double myNum2 = plusFunc(4.3, 6.26);\n",
        "  cout << \"Int: \" << myNum1 << \"\\n\";\n",
        "  cout << \"Double: \" << myNum2;\n",
        "  return 0;\n",
        "}"
      ],
      "execution_count": null,
      "outputs": []
    },
    {
      "cell_type": "code",
      "metadata": {
        "id": "ngMHKqjLuoig"
      },
      "source": [
        "!g++ temp.cpp; ./a.out"
      ],
      "execution_count": null,
      "outputs": []
    },
    {
      "cell_type": "markdown",
      "metadata": {
        "id": "RHI59pg_vRv5"
      },
      "source": [
        "# クラス Class\n"
      ]
    },
    {
      "cell_type": "code",
      "metadata": {
        "id": "2trXCKKNIoog"
      },
      "source": [
        "%%writefile temp.cpp\n",
        "\n",
        "# include <bits/stdc++.h>\n",
        "#include <string>\n",
        "using namespace std;\n",
        "\n",
        "class MyClass {       // The class\n",
        "  public:             // Access specifier\n",
        "    int myNum;        // Attribute (int variable)\n",
        "    string myString;  // Attribute (string variable)\n",
        "};\n",
        "\n",
        "int main() {\n",
        "  MyClass myObj;  // Create an object of MyClass\n",
        "\n",
        "  // Access attributes and set values\n",
        "  myObj.myNum = 15;\n",
        "  myObj.myString = \"Some text\";\n",
        "\n",
        "  // Print values\n",
        "  cout << myObj.myNum << \"\\n\"; \n",
        "  cout << myObj.myString; \n",
        "  return 0;\n",
        "}\n"
      ],
      "execution_count": null,
      "outputs": []
    },
    {
      "cell_type": "code",
      "metadata": {
        "id": "yPV_rnnII6h4"
      },
      "source": [
        "!g++ temp.cpp; ./a.out"
      ],
      "execution_count": null,
      "outputs": []
    },
    {
      "cell_type": "code",
      "metadata": {
        "id": "SL2JLGn2JGAI"
      },
      "source": [
        "%%writefile temp.cpp\n",
        "\n",
        "# include <bits/stdc++.h>\n",
        "#include <string>\n",
        "using namespace std;\n",
        "\n",
        "class Car {\n",
        "  public:\n",
        "    string brand;\n",
        "    string model;\n",
        "    int year;\n",
        "};\n",
        "\n",
        "int main() {\n",
        "  Car carObj1;\n",
        "  carObj1.brand = \"BMW\";\n",
        "  carObj1.model = \"X5\";\n",
        "  carObj1.year = 1999;\n",
        "\n",
        "  Car carObj2;\n",
        "  carObj2.brand = \"Ford\";\n",
        "  carObj2.model = \"Mustang\";\n",
        "  carObj2.year = 1969;\n",
        "\n",
        "  cout << carObj1.brand << \" \" << carObj1.model << \" \" << carObj1.year << \"\\n\";\n",
        "  cout << carObj2.brand << \" \" << carObj2.model << \" \" << carObj2.year << \"\\n\";\n",
        "  return 0;\n",
        "}\n"
      ],
      "execution_count": null,
      "outputs": []
    },
    {
      "cell_type": "code",
      "metadata": {
        "id": "gsTqn1uXJFc7"
      },
      "source": [
        "!g++ temp.cpp; ./a.out"
      ],
      "execution_count": null,
      "outputs": []
    },
    {
      "cell_type": "code",
      "metadata": {
        "id": "t5ziGTEKJYdX"
      },
      "source": [
        "%%writefile temp.cpp\n",
        "\n",
        "# include <bits/stdc++.h>\n",
        "using namespace std;\n",
        "\n",
        "class MyClass {         // The class\n",
        "  public:               // Access specifier\n",
        "    void myMethod() {   // Method/function\n",
        "      cout << \"Hello World!\";\n",
        "    }\n",
        "};\n",
        "\n",
        "int main() {\n",
        "  MyClass myObj;     // Create an object of MyClass\n",
        "  myObj.myMethod();  // Call the method\n",
        "  return 0;\n",
        "}\n"
      ],
      "execution_count": null,
      "outputs": []
    },
    {
      "cell_type": "code",
      "metadata": {
        "id": "kO8LjkheJYGQ"
      },
      "source": [
        "!g++ temp.cpp; ./a.out"
      ],
      "execution_count": null,
      "outputs": []
    },
    {
      "cell_type": "code",
      "metadata": {
        "id": "FdehYAOxJ9hn"
      },
      "source": [
        "%%writefile temp.cpp\n",
        "\n",
        "# include <bits/stdc++.h>\n",
        "using namespace std;\n",
        "\n",
        "class MyClass {         // The class\n",
        "  public:               // Access specifier\n",
        "    void myMethod();    // Method/function declaration\n",
        "};\n",
        "\n",
        "// Method/function definition outside the class\n",
        "void MyClass::myMethod() {\n",
        "  cout << \"Hello World!\";\n",
        "}\n",
        "\n",
        "int main() {\n",
        "  MyClass myObj;     // Create an object of MyClass\n",
        "  myObj.myMethod();  // Call the method\n",
        "  return 0;\n",
        "}\n"
      ],
      "execution_count": null,
      "outputs": []
    },
    {
      "cell_type": "code",
      "metadata": {
        "id": "hQWeWer7J9Xc"
      },
      "source": [
        "!g++ temp.cpp; ./a.out"
      ],
      "execution_count": null,
      "outputs": []
    },
    {
      "cell_type": "code",
      "metadata": {
        "id": "PYdljvoqKlUH"
      },
      "source": [
        "%%writefile temp.cpp\n",
        "\n",
        "# include <bits/stdc++.h>\n",
        "using namespace std;\n",
        "\n",
        "class Car {\n",
        "  public:\n",
        "    int speed(int maxSpeed);\n",
        "};\n",
        "\n",
        "int Car::speed(int maxSpeed) {\n",
        "  return maxSpeed;\n",
        "}\n",
        "\n",
        "int main() {\n",
        "  Car myObj;\n",
        "  cout << myObj.speed(200);\n",
        "  return 0;\n",
        "}\n"
      ],
      "execution_count": null,
      "outputs": []
    },
    {
      "cell_type": "code",
      "metadata": {
        "id": "uyOTylWeKlLo"
      },
      "source": [
        "!g++ temp.cpp; ./a.out"
      ],
      "execution_count": null,
      "outputs": []
    },
    {
      "cell_type": "code",
      "metadata": {
        "id": "yPnon0NEGpBA"
      },
      "source": [
        "%%writefile temp.cpp\n",
        "# include <bits/stdc++.h>\n",
        "using namespace std;\n",
        "\n",
        "class MyClass {     // The class\n",
        "  public:           // Access specifier\n",
        "    MyClass() {     // Constructor\n",
        "      cout << \"Hello World!\";\n",
        "    }\n",
        "};\n",
        "\n",
        "int main() {\n",
        "  MyClass myObj;    // Create an object of MyClass (this will call the constructor)\n",
        "  return 0;\n",
        "}\n"
      ],
      "execution_count": null,
      "outputs": []
    },
    {
      "cell_type": "code",
      "metadata": {
        "id": "4H6uhhuNGozO"
      },
      "source": [
        "!g++ temp.cpp; ./a.out"
      ],
      "execution_count": null,
      "outputs": []
    },
    {
      "cell_type": "code",
      "metadata": {
        "id": "QjkuRZ3DHE8U"
      },
      "source": [
        "%%writefile temp.cpp\n",
        "\n",
        "# include <bits/stdc++.h>\n",
        "using namespace std;\n",
        "\n",
        "class Car {        // The class\n",
        "  public:          // Access specifier\n",
        "    string brand;  // Attribute\n",
        "    string model;  // Attribute\n",
        "    int year;      // Attribute\n",
        "    Car(string x, string y, int z) {  // Constructor with parameters\n",
        "      brand = x;\n",
        "      model = y;\n",
        "      year = z;\n",
        "    }\n",
        "};\n",
        "\n",
        "int main() {\n",
        "  // Create Car objects and call the constructor with different values\n",
        "  Car carObj1(\"BMW\", \"X5\", 1999);\n",
        "  Car carObj2(\"Ford\", \"Mustang\", 1969);\n",
        "\n",
        "  // Print values\n",
        "  cout << carObj1.brand << \" \" << carObj1.model << \" \" << carObj1.year << \"\\n\";\n",
        "  cout << carObj2.brand << \" \" << carObj2.model << \" \" << carObj2.year << \"\\n\";\n",
        "  return 0;\n",
        "}\n"
      ],
      "execution_count": null,
      "outputs": []
    },
    {
      "cell_type": "code",
      "metadata": {
        "id": "r7BS44sTHEzk"
      },
      "source": [
        "!g++ temp.cpp; ./a.out"
      ],
      "execution_count": null,
      "outputs": []
    },
    {
      "cell_type": "code",
      "metadata": {
        "id": "sAWgqgADHg47"
      },
      "source": [
        "%%writefile temp.cpp\n",
        "# include <bits/stdc++.h>\n",
        "using namespace std;\n",
        "\n",
        "class Car {        // The class\n",
        "  public:          // Access specifier\n",
        "    string brand;  // Attribute\n",
        "    string model;  // Attribute\n",
        "    int year;      // Attribute\n",
        "    Car(string x, string y, int z); // Constructor declaration\n",
        "};\n",
        "\n",
        "// Constructor definition outside the class\n",
        "Car::Car(string x, string y, int z) {\n",
        "  brand = x;\n",
        "  model = y;\n",
        "  year = z;\n",
        "}\n",
        "\n",
        "int main() {\n",
        "  // Create Car objects and call the constructor with different values\n",
        "  Car carObj1(\"BMW\", \"X5\", 1999);\n",
        "  Car carObj2(\"Ford\", \"Mustang\", 1969);\n",
        "\n",
        "  // Print values\n",
        "  cout << carObj1.brand << \" \" << carObj1.model << \" \" << carObj1.year << \"\\n\";\n",
        "  cout << carObj2.brand << \" \" << carObj2.model << \" \" << carObj2.year << \"\\n\";\n",
        "  return 0;\n",
        "}\n"
      ],
      "execution_count": null,
      "outputs": []
    },
    {
      "cell_type": "code",
      "metadata": {
        "id": "-JagdTUNHg0f"
      },
      "source": [
        "!g++ temp.cpp; ./a.out\n"
      ],
      "execution_count": null,
      "outputs": []
    },
    {
      "cell_type": "code",
      "metadata": {
        "id": "wwPyr_ITH90I"
      },
      "source": [
        "%%script false\n",
        "# include <bits/stdc++.h>\n",
        "using namespace std;\n",
        "\n",
        "class MyClass {\n",
        "  public:    // Public access specifier\n",
        "    int x;   // Public attribute\n",
        "  private:   // Private access specifier\n",
        "    int y;   // Private attribute\n",
        "};\n",
        "\n",
        "int main() {\n",
        "  MyClass myObj;\n",
        "  myObj.x = 25;  // Allowed (x is public)\n",
        "  myObj.y = 50;  // Not allowed (y is private)\n",
        "  return 0;\n",
        "}\n",
        "\n",
        "\n",
        "# In function 'int main()':\n",
        "# Line 8: error: 'int MyClass::y' is private\n",
        "# Line 14: error: within this context"
      ],
      "execution_count": null,
      "outputs": []
    },
    {
      "cell_type": "code",
      "metadata": {
        "id": "LfIOgkyZInao"
      },
      "source": [
        "%%writefile temp.cpp\n",
        "# include <bits/stdc++.h>\n",
        "using namespace std;\n",
        "\n",
        "class MyClass {   // The class\n",
        "  public:         // Public access specifier\n",
        "    int x;        // Public attribute (int variable)\n",
        "};\n",
        "\n",
        "int main() {\n",
        "  MyClass myObj;  // Create an object of MyClass\n",
        "\n",
        "  // Access attributes and set values\n",
        "  myObj.x = 15;\n",
        "\n",
        "  // Print values\n",
        "  cout << myObj.x; \n",
        "  return 0;\n",
        "}\n"
      ],
      "execution_count": null,
      "outputs": []
    },
    {
      "cell_type": "code",
      "metadata": {
        "id": "oiG0RSZjInHS"
      },
      "source": [
        "!g++ temp.cpp; ./a.out"
      ],
      "execution_count": null,
      "outputs": []
    },
    {
      "cell_type": "code",
      "metadata": {
        "id": "aOru4KrJYA1S"
      },
      "source": [
        "%%writefile temp.cpp\n",
        "# include <bits/stdc++.h>\n",
        "using namespace std;\n",
        "\n",
        "class Employee {\n",
        "  private:\n",
        "    int salary;\n",
        "\n",
        "  public:\n",
        "    void setSalary(int s) {\n",
        "      salary = s;\n",
        "    }\n",
        "    int getSalary() {\n",
        "      return salary;\n",
        "    }\n",
        "};\n",
        "\n",
        "int main() {\n",
        "  Employee myObj;\n",
        "  myObj.setSalary(50000);\n",
        "  cout << myObj.getSalary();\n",
        "  return 0;\n",
        "}"
      ],
      "execution_count": null,
      "outputs": []
    },
    {
      "cell_type": "code",
      "metadata": {
        "id": "zaolZDXrYD9V"
      },
      "source": [
        "!g++ temp.cpp; ./a.out"
      ],
      "execution_count": null,
      "outputs": []
    },
    {
      "cell_type": "code",
      "metadata": {
        "id": "BQ7FyXY7YqxQ"
      },
      "source": [
        "%%writefile temp.cpp\n",
        "# include <bits/stdc++.h>\n",
        "#include <string>\n",
        "using namespace std;\n",
        "\n",
        "// Base class\n",
        "class Vehicle {\n",
        "  public: \n",
        "    string brand = \"Ford\";\n",
        "    void honk() {\n",
        "      cout << \"Tuut, tuut! \\n\" ;\n",
        "    }\n",
        "};\n",
        "\n",
        "// Derived class\n",
        "class Car: public Vehicle {\n",
        "  public: \n",
        "    string model = \"Mustang\";\n",
        "};\n",
        "\n",
        "int main() {\n",
        "  Car myCar;\n",
        "  myCar.honk();\n",
        "  cout << myCar.brand + \" \" + myCar.model;\n",
        "  return 0;\n",
        "}"
      ],
      "execution_count": null,
      "outputs": []
    },
    {
      "cell_type": "code",
      "metadata": {
        "id": "YDeaI5uzYucL"
      },
      "source": [
        "!g++ temp.cpp; ./a.out"
      ],
      "execution_count": null,
      "outputs": []
    },
    {
      "cell_type": "code",
      "metadata": {
        "id": "94a6-oLOZKkn"
      },
      "source": [
        "%%writefile temp.cpp\n",
        "\n",
        "# include <bits/stdc++.h>\n",
        "using namespace std;\n",
        "\n",
        "// Parent class\n",
        "class MyClass {\n",
        "  public: \n",
        "    void myFunction() {\n",
        "      cout << \"Some content in parent class.\" ;\n",
        "    }\n",
        "};\n",
        "\n",
        "// Child class\n",
        "class MyChild: public MyClass {\n",
        "};\n",
        "\n",
        "// Grandchild class \n",
        "class MyGrandChild: public MyChild {\n",
        "};\n",
        "\n",
        "int main() {\n",
        "  MyGrandChild myObj;\n",
        "  myObj.myFunction();\n",
        "  return 0;\n",
        "}\n"
      ],
      "execution_count": null,
      "outputs": []
    },
    {
      "cell_type": "code",
      "metadata": {
        "id": "Jrs7Y29GZM8c"
      },
      "source": [
        "!g++ temp.cpp; ./a.out"
      ],
      "execution_count": null,
      "outputs": []
    },
    {
      "cell_type": "code",
      "metadata": {
        "id": "8-AvRNkWZhqf"
      },
      "source": [
        "%%writefile temp.cpp\n",
        "\n",
        "# include <bits/stdc++.h>\n",
        "using namespace std;\n",
        "\n",
        "// Base class\n",
        "class MyClass {\n",
        "  public:\n",
        "    void myFunction() {\n",
        "      cout << \"Some content in parent class.\\n\" ;\n",
        "    }\n",
        "};\n",
        "\n",
        "// Another base class\n",
        "class MyOtherClass {\n",
        "  public:\n",
        "    void myOtherFunction() {\n",
        "      cout << \"Some content in another class.\\n\" ;\n",
        "    }\n",
        "};\n",
        "\n",
        "// Derived class\n",
        "class MyChildClass: public MyClass, public MyOtherClass {\n",
        "};\n",
        "\n",
        "int main() {\n",
        "  MyChildClass myObj;\n",
        "  myObj.myFunction();\n",
        "  myObj.myOtherFunction();\n",
        "  return 0;\n",
        "}\n"
      ],
      "execution_count": null,
      "outputs": []
    },
    {
      "cell_type": "code",
      "metadata": {
        "id": "XVvEQr3-ZyGd"
      },
      "source": [
        "!g++ temp.cpp; ./a.out"
      ],
      "execution_count": null,
      "outputs": []
    },
    {
      "cell_type": "code",
      "metadata": {
        "id": "npPHwffZaCU_"
      },
      "source": [
        "%%writefile temp.cpp\n",
        "\n",
        "# include <bits/stdc++.h>\n",
        "using namespace std;\n",
        "\n",
        "// Base class\n",
        "class Employee  {\n",
        "  protected:  // Protected access specifier\n",
        "    int salary;\n",
        "};\n",
        "\n",
        "// Derived class\n",
        "class Programmer: public Employee {\n",
        "  public:\n",
        "    int bonus;\n",
        "    void setSalary(int s) {\n",
        "      salary = s;\n",
        "    }\n",
        "    int getSalary() {\n",
        "      return salary;\n",
        "    }\n",
        "};\n",
        "\n",
        "int main() {\n",
        "  Programmer myObj;\n",
        "  myObj.setSalary(50000);\n",
        "  myObj.bonus = 15000;\n",
        "  cout << \"Salary: \" << myObj.getSalary() << \"\\n\";\n",
        "  cout << \"Bonus: \" << myObj.bonus << \"\\n\";\n",
        "  return 0;\n",
        "}\n"
      ],
      "execution_count": null,
      "outputs": []
    },
    {
      "cell_type": "code",
      "metadata": {
        "id": "WUYFP1u8aIjb"
      },
      "source": [
        "!g++ temp.cpp; ./a.out"
      ],
      "execution_count": null,
      "outputs": []
    },
    {
      "cell_type": "code",
      "metadata": {
        "id": "smDbnHa3X8qp"
      },
      "source": [
        "%%writefile temp.cpp\n",
        "\n",
        "# include <bits/stdc++.h>\n",
        "#include <string>\n",
        "using namespace std;\n",
        "\n",
        "// Base class\n",
        "class Animal {\n",
        "  public:\n",
        "    void animalSound() {\n",
        "      cout << \"The animal makes a sound \\n\" ;\n",
        "    }\n",
        "};\n",
        "\n",
        "// Derived class\n",
        "class Pig : public Animal {\n",
        "  public:\n",
        "    void animalSound() {\n",
        "      cout << \"The pig says: wee wee \\n\" ;\n",
        "    }\n",
        "};\n",
        "\n",
        "// Derived class\n",
        "class Dog : public Animal {\n",
        "  public:\n",
        "    void animalSound() {\n",
        "      cout << \"The dog says: bow wow \\n\" ;\n",
        "    }\n",
        "};\n",
        "\n",
        "int main() {\n",
        "  Animal myAnimal;\n",
        "  Pig myPig;\n",
        "  Dog myDog;\n",
        "\n",
        "  myAnimal.animalSound();\n",
        "  myPig.animalSound();\n",
        "  myDog.animalSound();\n",
        "  return 0;\n",
        "}\n"
      ],
      "execution_count": null,
      "outputs": []
    },
    {
      "cell_type": "code",
      "metadata": {
        "id": "YA0Yro23YB0M"
      },
      "source": [
        "!g++ temp.cpp; ./a.out"
      ],
      "execution_count": null,
      "outputs": []
    },
    {
      "cell_type": "markdown",
      "metadata": {
        "id": "CNaxNVBINgxr"
      },
      "source": [
        "# ファイル操作"
      ]
    },
    {
      "cell_type": "code",
      "metadata": {
        "id": "JYjXHaQCYo9B",
        "colab": {
          "base_uri": "https://localhost:8080/"
        },
        "outputId": "e6fd28a0-1f6e-40b9-cca2-fc1ff5e6d29d"
      },
      "source": [
        "# ファイル操作\n",
        "%%writefile temp.cpp\n",
        "# include <bits/stdc++.h>\n",
        "// #include <fstream>\n",
        "using namespace std;\n",
        "\n",
        "int main () {\n",
        "  ofstream MyWriteFile(\"filename.txt\"); \n",
        "  MyWriteFile << \"Files can be tricky, but it is fun enough!\\n日本語はどうか\";\n",
        "  MyWriteFile.close();\n",
        "\n",
        "  string myText;\n",
        "\n",
        "  ifstream MyReadFile(\"filename.txt\");\n",
        "\n",
        "  while (getline (MyReadFile, myText)) {\n",
        "    cout << myText << endl;\n",
        "  }\n",
        "\n",
        "  MyReadFile.close();\n",
        "}\n"
      ],
      "execution_count": null,
      "outputs": [
        {
          "output_type": "stream",
          "name": "stdout",
          "text": [
            "Overwriting temp.cpp\n"
          ]
        }
      ]
    },
    {
      "cell_type": "code",
      "metadata": {
        "id": "DusXiwvrYxVW",
        "colab": {
          "base_uri": "https://localhost:8080/"
        },
        "outputId": "2b3ad4ed-322c-468e-c779-322e1e221dbf"
      },
      "source": [
        "!g++ temp.cpp; ./a.out"
      ],
      "execution_count": null,
      "outputs": [
        {
          "output_type": "stream",
          "name": "stdout",
          "text": [
            "Files can be tricky, but it is fun enough!\n",
            "日本語はどうか\n"
          ]
        }
      ]
    },
    {
      "cell_type": "code",
      "source": [
        "# ./sample_data/README.md で実験\n",
        "%%writefile temp.cpp\n",
        "# include <bits/stdc++.h>\n",
        "using namespace std;\n",
        "\n",
        "int main () {\n",
        "  string myText;\n",
        "  ifstream MyReadFile(\"./sample_data/README.md\");\n",
        "\n",
        "for (int i=0; i < 7; i++){\n",
        "    getline (MyReadFile, myText);\n",
        "    cout << myText << endl;\n",
        "  }\n",
        "}"
      ],
      "metadata": {
        "id": "uRdqmqCoXMzA",
        "outputId": "dc828d5c-1fe7-4439-919e-cc58199a23d4",
        "colab": {
          "base_uri": "https://localhost:8080/"
        }
      },
      "execution_count": null,
      "outputs": [
        {
          "output_type": "stream",
          "name": "stdout",
          "text": [
            "Overwriting temp.cpp\n"
          ]
        }
      ]
    },
    {
      "cell_type": "code",
      "source": [
        "!g++ temp.cpp; ./a.out"
      ],
      "metadata": {
        "id": "kaKNcEVmXeEX"
      },
      "execution_count": null,
      "outputs": []
    },
    {
      "cell_type": "code",
      "source": [
        "# 質問 ファイルを一度全部読み込んで処理したい\n",
        "# 実験\n",
        "%%writefile temp.cpp\n",
        "# include <bits/stdc++.h>\n",
        "using namespace std;\n",
        "int main () {\n",
        "  ifstream ifs(\"./sample_data/README.md\");\n",
        "//   string myText((istreambuf_iterator<char>(ifs)), istreambuf_iterator<char>());\n",
        "  stringstream myStream;\n",
        "  myStream << ifs.rdbuf();\n",
        "  cout << myStream.str() << endl;\n",
        "}"
      ],
      "metadata": {
        "id": "yI2w17S0WS3A",
        "outputId": "e9bceffc-76b7-4117-8694-4d65d3f28022",
        "colab": {
          "base_uri": "https://localhost:8080/"
        }
      },
      "execution_count": 138,
      "outputs": [
        {
          "output_type": "stream",
          "name": "stdout",
          "text": [
            "Overwriting temp.cpp\n"
          ]
        }
      ]
    },
    {
      "cell_type": "code",
      "source": [
        "!g++ temp.cpp; ./a.out"
      ],
      "metadata": {
        "id": "xbJp8FKkY_vu",
        "outputId": "97952513-d7fb-4557-abe0-d4fefb276bec",
        "colab": {
          "base_uri": "https://localhost:8080/"
        }
      },
      "execution_count": 139,
      "outputs": [
        {
          "output_type": "stream",
          "name": "stdout",
          "text": [
            "This directory includes a few sample datasets to get you started.\n",
            "\n",
            "*   `california_housing_data*.csv` is California housing data from the 1990 US\n",
            "    Census; more information is available at:\n",
            "    https://developers.google.com/machine-learning/crash-course/california-housing-data-description\n",
            "\n",
            "*   `mnist_*.csv` is a small sample of the\n",
            "    [MNIST database](https://en.wikipedia.org/wiki/MNIST_database), which is\n",
            "    described at: http://yann.lecun.com/exdb/mnist/\n",
            "\n",
            "*   `anscombe.json` contains a copy of\n",
            "    [Anscombe's quartet](https://en.wikipedia.org/wiki/Anscombe%27s_quartet); it\n",
            "    was originally described in\n",
            "\n",
            "    Anscombe, F. J. (1973). 'Graphs in Statistical Analysis'. American\n",
            "    Statistician. 27 (1): 17-21. JSTOR 2682899.\n",
            "\n",
            "    and our copy was prepared by the\n",
            "    [vega_datasets library](https://github.com/altair-viz/vega_datasets/blob/4f67bdaad10f45e3549984e17e1b3088c731503d/vega_datasets/_data/anscombe.json).\n",
            "\n"
          ]
        }
      ]
    },
    {
      "cell_type": "markdown",
      "metadata": {
        "id": "yWfRjuHONXgE"
      },
      "source": [
        "上書きと追記"
      ]
    },
    {
      "cell_type": "code",
      "metadata": {
        "id": "zSk0BNsoNrBT"
      },
      "source": [
        "%%writefile file.txt\n",
        "Good friend, for Jesus' sake forbear,\n",
        "To dig the dust enclosed here.\n",
        "Blest be the man that spares these stones,\n",
        "And cursed be he that moves my bones."
      ],
      "execution_count": null,
      "outputs": []
    },
    {
      "cell_type": "code",
      "metadata": {
        "id": "vL_9djouNWae"
      },
      "source": [
        "%%writefile temp.cpp\n",
        "#include <fstream>\n",
        "# include <bits/stdc++.h>\n",
        "#include <string>\n",
        "\n",
        "int main() {\n",
        "    std::ofstream file(\"file.txt\", std::ios::app);\n",
        "    std::string quotation(\"--- William Shakespeare's Epitaph\");\n",
        "\n",
        "    file << \"\\n\" << quotation;\n",
        "\n",
        "    std::string myText;\n",
        "\n",
        "    std::ifstream MyReadFile(\"file.txt\");\n",
        "\n",
        "    while (getline (MyReadFile, myText)) {\n",
        "        std::cout << myText << \"\\n\";\n",
        "    }\n",
        "\n",
        "    return 0;\n",
        "}"
      ],
      "execution_count": null,
      "outputs": []
    },
    {
      "cell_type": "code",
      "metadata": {
        "id": "dIhLrYy7Nkca"
      },
      "source": [
        "!g++ temp.cpp; ./a.out"
      ],
      "execution_count": null,
      "outputs": []
    },
    {
      "cell_type": "markdown",
      "metadata": {
        "id": "z7374E9K9xYk"
      },
      "source": [
        "# 例外処理 exceptions"
      ]
    },
    {
      "cell_type": "code",
      "metadata": {
        "id": "v7nVRIvWnl-k"
      },
      "source": [
        "%%writefile temp.cpp\n",
        "\n",
        "# include <bits/stdc++.h>\n",
        "using namespace std;\n",
        "\n",
        "int main() {\n",
        "  try {\n",
        "    int age = 15;\n",
        "    if (age >= 18) {\n",
        "      cout << \"Access granted - you are old enough.\";\n",
        "    } else {\n",
        "      throw (age);\n",
        "    }\n",
        "  }\n",
        "  catch (int myNum) {\n",
        "    cout << \"Access denied - You must be at least 18 years old.\\n\";\n",
        "    cout << \"Age is: \" << myNum;  \n",
        "  }\n",
        "  return 0;\n",
        "}\n"
      ],
      "execution_count": null,
      "outputs": []
    },
    {
      "cell_type": "code",
      "metadata": {
        "id": "sXH_yclMnwrK"
      },
      "source": [
        "!g++ temp.cpp; ./a.out"
      ],
      "execution_count": null,
      "outputs": []
    },
    {
      "cell_type": "code",
      "metadata": {
        "id": "vasNgg0a8m3i"
      },
      "source": [
        "%%writefile temp.cpp\n",
        "\n",
        "# include <bits/stdc++.h>\n",
        "using namespace std;\n",
        "\n",
        "int main() {\n",
        "  try {\n",
        "    int age = 20;\n",
        "    if (age >= 18) {\n",
        "      cout << \"Access granted - you are old enough.\";\n",
        "    } else {\n",
        "      throw (age);\n",
        "    }\n",
        "  }\n",
        "  catch (int myNum) {\n",
        "    cout << \"Access denied - You must be at least 18 years old.\\n\";\n",
        "    cout << \"Age is: \" << myNum;  \n",
        "  }\n",
        "  return 0;\n",
        "}\n"
      ],
      "execution_count": null,
      "outputs": []
    },
    {
      "cell_type": "code",
      "metadata": {
        "id": "s-wwtOHF8ndo"
      },
      "source": [
        "!g++ temp.cpp; ./a.out"
      ],
      "execution_count": null,
      "outputs": []
    },
    {
      "cell_type": "code",
      "metadata": {
        "id": "WjmnyJNM8_zi"
      },
      "source": [
        "%%writefile temp.cpp\n",
        "\n",
        "\n",
        "# include <bits/stdc++.h>\n",
        "using namespace std;\n",
        "\n",
        "int main() {\n",
        "  try {\n",
        "    int age = 15;\n",
        "    if (age >= 18) {\n",
        "      cout << \"Access granted - you are old enough.\";\n",
        "    } else {\n",
        "      throw 505;\n",
        "    }\n",
        "  }\n",
        "  catch (int myNum) {\n",
        "    cout << \"Access denied - You must be at least 18 years old.\\n\";\n",
        "    cout << \"Error number: \" << myNum;  \n",
        "  }\n",
        "  return 0;\n",
        "}\n"
      ],
      "execution_count": null,
      "outputs": []
    },
    {
      "cell_type": "code",
      "metadata": {
        "id": "Tzx3ZsOv8_nF"
      },
      "source": [
        "!g++ temp.cpp; ./a.out"
      ],
      "execution_count": null,
      "outputs": []
    },
    {
      "cell_type": "code",
      "metadata": {
        "id": "OZN2Bu5A9WqA"
      },
      "source": [
        "%%writefile temp.cpp\n",
        "\n",
        "# include <bits/stdc++.h>\n",
        "using namespace std;\n",
        "\n",
        "int main() {\n",
        "  try {\n",
        "    int age = 15;\n",
        "    if (age >= 18) {\n",
        "      cout << \"Access granted - you are old enough.\";\n",
        "    } else {\n",
        "      throw 505;\n",
        "    }\n",
        "  }\n",
        "  catch (...) {\n",
        "    cout << \"Access denied - You must be at least 18 years old.\\n\";\n",
        "  }\n",
        "  return 0;\n",
        "}\n"
      ],
      "execution_count": null,
      "outputs": []
    },
    {
      "cell_type": "code",
      "metadata": {
        "id": "7q_edc0-9Wb9"
      },
      "source": [
        "!g++ temp.cpp; ./a.out"
      ],
      "execution_count": null,
      "outputs": []
    },
    {
      "cell_type": "code",
      "metadata": {
        "id": "rMANLnVl8n2h"
      },
      "source": [
        "%%writefile temp.cpp\n",
        "# include <bits/stdc++.h>\n",
        "#include <string>\n",
        "\n",
        "int CharToInt(const char c) {\n",
        "    switch (c) {\n",
        "        case '0':  return 0;\n",
        "        case '1':  return 1;\n",
        "        case '2':  return 2;\n",
        "        case '3':  return 3;\n",
        "        case '4':  return 4;\n",
        "        case '5':  return 5;\n",
        "        case '6':  return 6;\n",
        "        case '7':  return 7;\n",
        "        case '8':  return 8;\n",
        "        case '9':  return 9;\n",
        "        default:\n",
        "            // 関数から例外を送出\n",
        "            throw std::runtime_error(\"数値ではない文字が入っています\");\n",
        "    }\n",
        "}\n",
        "\n",
        "int StringToInt(const std::string& str) {\n",
        "    int num = 0;\n",
        "    for (const auto s : str) {\n",
        "        num *= 10;\n",
        "\n",
        "        // CharToInt から例外が送出される\n",
        "        num += CharToInt(s);\n",
        "    }\n",
        "    return num;\n",
        "}\n",
        "\n",
        "int main() {\n",
        "    std::string str = \"123XY56\";\n",
        "    try {\n",
        "        // StringToInt 内部の CharToInt から例外が送出される\n",
        "        auto num = StringToInt(str);\n",
        "\n",
        "        std::cout << num << \"\\n\";\n",
        "    } catch (const std::runtime_error& e) {\n",
        "        std::cout << e.what() << \"\\n\";\n",
        "    }\n",
        "\n",
        "    return 0;\n",
        "}"
      ],
      "execution_count": null,
      "outputs": []
    },
    {
      "cell_type": "code",
      "metadata": {
        "id": "HesdtoSI8nSh"
      },
      "source": [
        "!g++ temp.cpp; ./a.out"
      ],
      "execution_count": null,
      "outputs": []
    },
    {
      "cell_type": "code",
      "metadata": {
        "id": "9wl8EJ3m4pt2"
      },
      "source": [
        "%%writefile temp.cpp\n",
        "\n",
        "# include <bits/stdc++.h>\n",
        "using namespace std;\n",
        "\n",
        "int main() {\n",
        "  int x = 5;\n",
        "  int y = 6;\n",
        "  int sum = x + y;\n",
        "  cout << sum;\n",
        "  return 0;\n",
        "}\n"
      ],
      "execution_count": null,
      "outputs": []
    },
    {
      "cell_type": "code",
      "metadata": {
        "id": "KAS06TYN4pjE"
      },
      "source": [
        "!g++ temp.cpp; ./a.out"
      ],
      "execution_count": null,
      "outputs": []
    },
    {
      "cell_type": "code",
      "metadata": {
        "id": "b__3S-ZD4sis"
      },
      "source": [
        "%%writefile temp.cpp\n",
        "\n",
        "# include <bits/stdc++.h>\n",
        "using namespace std;\n",
        "\n",
        "int main() {\n",
        "  int x, y;\n",
        "  int sum;\n",
        "  cout << \"Type a number: \";\n",
        "  cin >> x;\n",
        "  cout << \"Type another number: \";\n",
        "  cin >> y;\n",
        "  sum = x + y;\n",
        "  cout << \"Sum is: \" << sum;\n",
        "  return 0;\n",
        "}"
      ],
      "execution_count": null,
      "outputs": []
    },
    {
      "cell_type": "code",
      "metadata": {
        "id": "YWsIYiPoNc2w"
      },
      "source": [
        "!g++ temp.cpp; echo 99 100 | ./a.out"
      ],
      "execution_count": null,
      "outputs": []
    },
    {
      "cell_type": "markdown",
      "metadata": {
        "id": "rMoZBbDnMWWv"
      },
      "source": [
        "その他 miscellaneous"
      ]
    },
    {
      "cell_type": "markdown",
      "metadata": {
        "id": "DeMOjhEZNCyy"
      },
      "source": [
        "sort "
      ]
    },
    {
      "cell_type": "code",
      "metadata": {
        "id": "ESksa-pMNF1s"
      },
      "source": [
        "# sort\n",
        "%%writefile temp.cpp\n",
        "#include <algorithm>\n",
        "# include <bits/stdc++.h>\n",
        "using namespace std;\n",
        "int main() {\n",
        "  int array[] = { 23, 5, -10, 0, 0, 321, 1, 2, 99, 30 };\n",
        "  size_t size = sizeof(array) / sizeof(array[0]); \n",
        "  sort(array, array + size);\n",
        "  for (size_t i = 0; i < size; ++i) {\n",
        "     cout << array[i] << ' ';\n",
        "  }\n",
        "  cout << \"\\n\";\n",
        "}"
      ],
      "execution_count": null,
      "outputs": []
    },
    {
      "cell_type": "code",
      "metadata": {
        "id": "GKPRaWqGNK6t"
      },
      "source": [
        "!g++ temp.cpp; ./a.out"
      ],
      "execution_count": null,
      "outputs": []
    },
    {
      "cell_type": "code",
      "metadata": {
        "id": "jpWxNKiKNJY6"
      },
      "source": [
        "# 普通はこっちを使うみたい\n",
        "%%writefile temp.cpp\n",
        "#include <algorithm>\n",
        "# include <bits/stdc++.h>\n",
        "#include <vector>\n",
        "using namespace std;\n",
        "int main() {\n",
        "  vector<int> vec { 23, 5, -10, 0, 0, 321, 1, 2, 99, 30 };\n",
        "  sort(vec.begin(), vec.end());\n",
        "  for (int i = 0; i < vec.size(); ++i) {\n",
        "     cout << vec[i] << ' ';\n",
        "  }\n",
        "  cout << \"\\n\";\n",
        "}"
      ],
      "execution_count": null,
      "outputs": []
    },
    {
      "cell_type": "code",
      "metadata": {
        "id": "W6redAJ1N4nN"
      },
      "source": [
        "!g++ temp.cpp; ./a.out"
      ],
      "execution_count": null,
      "outputs": []
    },
    {
      "cell_type": "code",
      "metadata": {
        "id": "hhOG4DUnOp61"
      },
      "source": [
        "%%writefile temp.cpp\n",
        "# include <bits/stdc++.h>\n",
        "#include <boost/foreach.hpp>\n",
        "#include <vector>\n",
        "#include <algorithm>\n",
        "using namespace std;\n",
        " \n",
        "void\n",
        "dump(vector<int>& v)\n",
        "{\n",
        "        BOOST_FOREACH(int x, v) {\n",
        "                cout << x << \"\\n\";\n",
        "        }\n",
        "}\n",
        " \n",
        "int\n",
        "main (int argc, char *argv[])\n",
        "{\n",
        "        vector<int> v;\n",
        " \n",
        "        v.push_back ( 3 );\n",
        "        v.push_back ( 4 );\n",
        "        v.push_back ( 1 );\n",
        "        v.push_back ( 2 );\n",
        " \n",
        "        cout << \"Before sort\" << \"\\n\";\n",
        "        dump (v);\n",
        " \n",
        "        std::sort(v.begin(), v.end() );\n",
        " \n",
        "        cout << \"After sort\" << \"\\n\";\n",
        "        dump (v);\n",
        "        return 0;\n",
        "}"
      ],
      "execution_count": null,
      "outputs": []
    },
    {
      "cell_type": "code",
      "metadata": {
        "id": "zzUci1vXOp1Z"
      },
      "source": [
        "!g++ temp.cpp; ./a.out"
      ],
      "execution_count": null,
      "outputs": []
    },
    {
      "cell_type": "code",
      "metadata": {
        "id": "ph5fdv_KPTVc"
      },
      "source": [
        "%%writefile temp.cpp\n",
        "\n",
        "# include <bits/stdc++.h>\n",
        "#include <boost/foreach.hpp>\n",
        "#include <vector>\n",
        "#include <algorithm>\n",
        " \n",
        "using namespace std;\n",
        " \n",
        "void\n",
        "dump(vector<int>& v)\n",
        "{\n",
        "        BOOST_FOREACH(int x, v) {\n",
        "                cout << x << \"\\n\";\n",
        "        }\n",
        "}\n",
        " \n",
        "int\n",
        "main (int argc, char *argv[])\n",
        "{\n",
        "        vector<int> v;\n",
        " \n",
        "        v.push_back ( 3 );\n",
        "        v.push_back ( 4 );\n",
        "        v.push_back ( 1 );\n",
        "        v.push_back ( 2 );\n",
        " \n",
        "        cout << \"Before sort\" << \"\\n\";\n",
        "        dump (v);\n",
        " \n",
        "        std::sort(v.begin(), v.end(), std::greater<int>() );\n",
        " \n",
        "        cout << \"After sort\" << \"\\n\";\n",
        "        dump (v);\n",
        "        return 0;\n",
        "}"
      ],
      "execution_count": null,
      "outputs": []
    },
    {
      "cell_type": "code",
      "metadata": {
        "id": "eBcfciPHPTIy"
      },
      "source": [
        "!g++ temp.cpp; ./a.out"
      ],
      "execution_count": null,
      "outputs": []
    },
    {
      "cell_type": "markdown",
      "metadata": {
        "id": "nfQcQR1OoF55"
      },
      "source": [
        "enum 列挙型"
      ]
    },
    {
      "cell_type": "code",
      "metadata": {
        "id": "KwxN6tUsoIXM"
      },
      "source": [
        "%%writefile temp.cpp\n",
        "# include <bits/stdc++.h>\n",
        "using namespace std;\n",
        "\n",
        "enum Day {\n",
        "  Sun,  // 0\n",
        "  Mon,  // 1\n",
        "  Tue,  // 2\n",
        "  Wed,  // 3\n",
        "  Thu,  // 4\n",
        "  Fri,  // 5\n",
        "  Sat   // 6\n",
        "};\n",
        "\n",
        "int main() {\n",
        "    Day day = Wed;\n",
        "    cout << day << \"\\n\";\n",
        "    cout << Sun << \"\\n\";\n",
        "    return 0;\n",
        "}\n",
        "\n"
      ],
      "execution_count": null,
      "outputs": []
    },
    {
      "cell_type": "code",
      "metadata": {
        "id": "Ua4g7D7voIwe"
      },
      "source": [
        "!g++ temp.cpp; ./a.out"
      ],
      "execution_count": null,
      "outputs": []
    },
    {
      "cell_type": "markdown",
      "metadata": {
        "id": "g1gHIp65pTbM"
      },
      "source": [
        "これでは名前空間を汚してしまって不便なので、enum class がある。"
      ]
    },
    {
      "cell_type": "code",
      "metadata": {
        "id": "mP4SOJOBpbLw"
      },
      "source": [
        "%%writefile temp.cpp\n",
        "# include <bits/stdc++.h>\n",
        "using namespace std;\n",
        "\n",
        "enum class Day {\n",
        "  Sun,  // 0\n",
        "  Mon,  // 1\n",
        "  Tue,  // 2\n",
        "  Wed,  // 3\n",
        "  Thu,  // 4\n",
        "  Fri,  // 5\n",
        "  Sat   // 6\n",
        "};\n",
        "\n",
        "int main() {\n",
        "    Day day = Day::Wed;\n",
        "    cout << int(day) << \"\\n\";\n",
        "    cout << int(Day::Sun) << \"\\n\";\n",
        "    return 0;\n",
        "}\n",
        "\n"
      ],
      "execution_count": null,
      "outputs": []
    },
    {
      "cell_type": "code",
      "metadata": {
        "id": "smD_cR16pat1"
      },
      "source": [
        "!g++ temp.cpp; ./a.out"
      ],
      "execution_count": null,
      "outputs": []
    },
    {
      "cell_type": "markdown",
      "metadata": {
        "id": "NqvWlkJYspUb"
      },
      "source": [
        "参照 reference"
      ]
    },
    {
      "cell_type": "code",
      "metadata": {
        "id": "ElUDAhDLso_Q"
      },
      "source": [
        "%%writefile temp.cpp\n",
        "# include <bits/stdc++.h>\n",
        "using namespace std;\n",
        "\n",
        "int main (){\n",
        "    int x = 100;\n",
        "    int* p = &x; // pはポインタ型\n",
        "    int& r = x; // rは参照型\n",
        "\n",
        "    *p = 200;\n",
        "    r = 300;\n",
        "    cout << x << \"\\n\";\n",
        "}\n"
      ],
      "execution_count": null,
      "outputs": []
    },
    {
      "cell_type": "code",
      "metadata": {
        "id": "NOFgDHRusrs7"
      },
      "source": [
        "!g++ temp.cpp; ./a.out"
      ],
      "execution_count": null,
      "outputs": []
    },
    {
      "cell_type": "markdown",
      "metadata": {
        "id": "MfdbtfCCngg8"
      },
      "source": [
        "# 関数ポインター、関数オブジェクト"
      ]
    },
    {
      "cell_type": "code",
      "metadata": {
        "id": "3tnB25w1zrxL"
      },
      "source": [
        "%%writefile temp.cpp\n",
        "# include <bits/stdc++.h>\n",
        "\n",
        "int Add(int x, int y) {\n",
        "    return x + y;\n",
        "}\n",
        "\n",
        "int main() {\n",
        "    int (*fp)(int, int) = Add;  // 関数 Add のアドレスを保持する関数ポインタ fp\n",
        "    int result = fp(3, 5);      // 関数ポインタ fp を介して関数 Add が実行される\n",
        "    std::cout << result << \"\\n\";  // 8\n",
        "\n",
        "    return 0;\n",
        "}"
      ],
      "execution_count": null,
      "outputs": []
    },
    {
      "cell_type": "code",
      "metadata": {
        "id": "hxa_wTdV0GCp"
      },
      "source": [
        "!g++ temp.cpp; ./a.out"
      ],
      "execution_count": null,
      "outputs": []
    },
    {
      "cell_type": "code",
      "metadata": {
        "id": "UfSNvmIw0P9w"
      },
      "source": [
        "%%writefile temp.cpp\n",
        "# include <bits/stdc++.h>\n",
        "\n",
        "int Add(int x, int y) {\n",
        "    return x + y;\n",
        "}\n",
        "\n",
        "int main() {\n",
        "    auto fp = Add;  // 関数 Add のアドレスを保持する関数ポインタ fp\n",
        "    int result = fp(3, 5);      // 関数ポインタ fp を介して関数 Add が実行される\n",
        "    std::cout << result << \"\\n\";  // 8\n",
        "\n",
        "    return 0;\n",
        "}"
      ],
      "execution_count": null,
      "outputs": []
    },
    {
      "cell_type": "code",
      "metadata": {
        "id": "R5u8ZcTw0lT2"
      },
      "source": [
        "!g++ temp.cpp; ./a.out"
      ],
      "execution_count": null,
      "outputs": []
    },
    {
      "cell_type": "markdown",
      "metadata": {
        "id": "XRehluVA04rm"
      },
      "source": [
        "# ラムダ式 lambda expression"
      ]
    },
    {
      "cell_type": "code",
      "metadata": {
        "id": "AeNX7Mf604JS"
      },
      "source": [
        "%%writefile temp.cpp\n",
        "# include <bits/stdc++.h>\n",
        "\n",
        "int main() {\n",
        "    // auto 変数名 = [ キャプチャ ]( 引数リスト ) -> 戻り値の型 { 処理内容 };\n",
        "    auto func = [](int a, int b) -> int { return a + b; };  // int を2つ受け取り、足した結果を返すラムダ式\n",
        "\n",
        "    int result = func(4, 6);\n",
        "    std::cout << result << \"\\n\";  // 10\n",
        "}"
      ],
      "execution_count": null,
      "outputs": []
    },
    {
      "cell_type": "code",
      "metadata": {
        "id": "DxpK77U703aY"
      },
      "source": [
        "!g++ temp.cpp; ./a.out"
      ],
      "execution_count": null,
      "outputs": []
    },
    {
      "cell_type": "code",
      "metadata": {
        "id": "cKWDI5_27IPT"
      },
      "source": [
        "%%writefile temp.cpp\n",
        "# include <bits/stdc++.h>\n",
        "\n",
        "int main() {\n",
        "    int init = 5;\n",
        "\n",
        "    // キャプチャを指定することで {} 内で変数 init を使うことができる\n",
        "    auto f = [init](int a, int b) { return init + a * b; };   // コピーキャプチャ\n",
        "    auto g = [&init](int a, int b) { return init + a * b; };  // 参照キャプチャ\n",
        "\n",
        "    init = 0;\n",
        "\n",
        "    // 【コピーキャプチャの場合】\n",
        "    //    ラムダ式の定義時点で init がコピーされているので、ラムダ式内の init は 5\n",
        "    int result_copy = f(2, 4);\n",
        "    std::cout << result_copy << \"\\n\";  // 13\n",
        "\n",
        "    // 【参照キャプチャの場合】\n",
        "    //    ラムダ式実行時の init の値が参照されるので、ラムダ式内の init は 0\n",
        "    int result_ref = g(2, 4);\n",
        "    std::cout << result_ref << \"\\n\";   // 8\n",
        "}"
      ],
      "execution_count": null,
      "outputs": []
    },
    {
      "cell_type": "code",
      "metadata": {
        "id": "TsWShGFw7IEb"
      },
      "source": [
        "!g++ temp.cpp; ./a.out"
      ],
      "execution_count": null,
      "outputs": []
    },
    {
      "cell_type": "code",
      "metadata": {
        "id": "ETai0R3x8wbt"
      },
      "source": [
        "%%writefile temp.cpp\n",
        "# include <bits/stdc++.h>\n",
        "#include <functional>\n",
        "\n",
        "int Add(int x, int y) {\n",
        "    return x + y;\n",
        "}\n",
        "\n",
        "int main() {\n",
        "    std::function<int(int, int)> f = Add;  // std::function<戻り値の型(引数の型)> 変数名\n",
        "    int result = f(3, 5);                  // f を介して関数 Add が実行される\n",
        "    std::cout << result << \"\\n\";      // 8\n",
        "\n",
        "    f = [](int x, int y) { return x * y; };  // ラムダ式も保持可能\n",
        "    std::cout << f(4, 7) << \"\\n\";       // 28\n",
        "\n",
        "    return 0;\n",
        "}"
      ],
      "execution_count": null,
      "outputs": []
    },
    {
      "cell_type": "code",
      "metadata": {
        "id": "RnKYrFky8wQU"
      },
      "source": [
        "!g++ temp.cpp; ./a.out"
      ],
      "execution_count": null,
      "outputs": []
    },
    {
      "cell_type": "markdown",
      "metadata": {
        "id": "SNOLjBST5O0m"
      },
      "source": [
        "# 配列とポインター"
      ]
    },
    {
      "cell_type": "code",
      "metadata": {
        "id": "wGId5NXL5RXr"
      },
      "source": [
        "%%writefile temp.cpp\n",
        "\n",
        "# include <bits/stdc++.h>\n",
        "\n",
        "int main (){\n",
        "    int x[6] = {2, 4, 6, 8, 10};\n",
        "    int* p = x;\n",
        "    std::cout << *p << \"\\n\";        // 2\n",
        "    std::cout << *(p + 1) << \"\\n\";  // 4\n",
        "    std::cout << *(p + 2) << \"\\n\";  // 6\n",
        "    std::cout << *(p + 3) << \"\\n\";  // 8\n",
        "    std::cout << *(p + 4) << \"\\n\";  // 10\n",
        "\n",
        "    std::cout << *(p + 5) << \"\\n\"; // 0\n",
        "}"
      ],
      "execution_count": null,
      "outputs": []
    },
    {
      "cell_type": "code",
      "metadata": {
        "id": "JSaRG4vV5kWr"
      },
      "source": [
        "!g++ temp.cpp; ./a.out"
      ],
      "execution_count": null,
      "outputs": []
    },
    {
      "cell_type": "markdown",
      "metadata": {
        "id": "iPYHaKYjwBky"
      },
      "source": [
        "次の例で、PrintArray1とPrintArray2は完全に同一。一見すると、PrintArray1 は配列の個数も渡しているように見えるが、実質はポインターを渡しているだけ。"
      ]
    },
    {
      "cell_type": "code",
      "metadata": {
        "id": "3ztmFecm7Bzr"
      },
      "source": [
        "%%writefile temp.cpp\n",
        "\n",
        "# include <bits/stdc++.h>\n",
        "\n",
        "void PrintArray1(const int x[5]) {\n",
        "    static_assert(sizeof(x)==sizeof(int*), \"\");\n",
        "    for (int i = 0; i < 5; ++i) {\n",
        "        std::cout << x[i] << \"\\n\";\n",
        "    }\n",
        "}\n",
        "\n",
        "void PrintArray2(const int* x) {\n",
        "    for (int i = 0; i < 5; ++i) {\n",
        "        std::cout << x[i] << \"\\n\";\n",
        "    }\n",
        "}\n",
        "\n",
        "int main() {\n",
        "    int x[5] = {0, 1, 2, 3, 4};\n",
        "\n",
        "    PrintArray1(x);\n",
        "    PrintArray2(x);\n",
        "\n",
        "    return 0;\n",
        "}"
      ],
      "execution_count": null,
      "outputs": []
    },
    {
      "cell_type": "code",
      "metadata": {
        "id": "4G96oNEY7GNf"
      },
      "source": [
        "!g++ temp.cpp; ./a.out"
      ],
      "execution_count": null,
      "outputs": []
    },
    {
      "cell_type": "markdown",
      "metadata": {
        "id": "3daVg_uZwdvE"
      },
      "source": [
        "従って、正しくは次のように要素数を渡す必要がある。"
      ]
    },
    {
      "cell_type": "code",
      "metadata": {
        "id": "T8c8-6a9wmx9"
      },
      "source": [
        "# 実験 // がarray version で これは vector version\n",
        "%%writefile temp.cpp\n",
        "\n",
        "# include <bits/stdc++.h>\n",
        "#include <vector>\n",
        "\n",
        "// void PrintArray(const int* x, std::size_t num) {\n",
        "void PrintArray(std::vector<int> x, std::size_t num) {\n",
        "    for (std::size_t i = 0; i < num; ++i) {\n",
        "        std::cout << x[i] << \"\\n\";\n",
        "    }\n",
        "}\n",
        "\n",
        "int main() {\n",
        "    // constexpr std::size_t num = 5;\n",
        "    // int x[num] = {0, 1, 2, 3, 4};\n",
        "    std::vector<int>  x = {0, 1, 2, 3, 4};\n",
        "\n",
        "    // PrintArray(x, num);\n",
        "    PrintArray(x, x.size());\n",
        "\n",
        "    return 0;\n",
        "}\n"
      ],
      "execution_count": null,
      "outputs": []
    },
    {
      "cell_type": "code",
      "metadata": {
        "id": "a9yiiZGRwmm7"
      },
      "source": [
        "!g++ temp.cpp; ./a.out"
      ],
      "execution_count": null,
      "outputs": []
    },
    {
      "cell_type": "code",
      "metadata": {
        "id": "RzhHagqtxnAQ"
      },
      "source": [
        "# 実験 C++17のstd:sizeを使ってみる\n",
        "%%writefile temp.cpp\n",
        "\n",
        "# include <bits/stdc++.h>\n",
        "\n",
        "void PrintArray(int* x, int num) {\n",
        "    for (int i = 0; i < num; ++i) {\n",
        "        std::cout << x[i] << \"\\n\";\n",
        "    }\n",
        "}\n",
        "\n",
        "int main() {\n",
        "    int x[5] = {0, 1, 2, 3, 4};\n",
        "\n",
        "    PrintArray(x, std::size(x));\n",
        "\n",
        "    return 0;\n",
        "}\n"
      ],
      "execution_count": null,
      "outputs": []
    },
    {
      "cell_type": "code",
      "metadata": {
        "id": "q-amuNJVxnbj"
      },
      "source": [
        "!g++ -std=gnu++17 temp.cpp ; ./a.out"
      ],
      "execution_count": null,
      "outputs": []
    },
    {
      "cell_type": "code",
      "metadata": {
        "id": "9Us2ZKnW0YAM"
      },
      "source": [
        "# C++11では次のようにするとか\n",
        "%%script false\n",
        "\n",
        "#include <cstddef>\n",
        "template <class T, std::size_t N>\n",
        "constexpr std::size_t size(const T (&)[N]) noexcept { return N; }"
      ],
      "execution_count": null,
      "outputs": []
    },
    {
      "cell_type": "markdown",
      "metadata": {
        "id": "VMLwYQ0k04O2"
      },
      "source": [
        "やってみる"
      ]
    },
    {
      "cell_type": "code",
      "metadata": {
        "id": "otgfcxgx07tJ"
      },
      "source": [
        "# 実験\n",
        "%%writefile temp.cpp\n",
        "\n",
        "# include <bits/stdc++.h>\n",
        "#include <cstddef>\n",
        "template <class T, std::size_t N>\n",
        "constexpr std::size_t size(const T (&)[N]) noexcept { return N; }\n",
        "\n",
        "void PrintArray(int* x, int num) {\n",
        "    for (int i = 0; i < num; ++i) {\n",
        "        std::cout << x[i] << \"\\n\";\n",
        "    }\n",
        "}\n",
        "\n",
        "int main() {\n",
        "    int x[5] = {0, 1, 2, 3, 4};\n",
        "\n",
        "    PrintArray(x, size(x));\n",
        "\n",
        "    return 0;\n",
        "}\n"
      ],
      "execution_count": null,
      "outputs": []
    },
    {
      "cell_type": "code",
      "metadata": {
        "id": "klqMCPUs07g6"
      },
      "source": [
        "!g++ temp.cpp; ./a.out"
      ],
      "execution_count": null,
      "outputs": []
    },
    {
      "cell_type": "markdown",
      "metadata": {
        "id": "BQRoEOVrxEJr"
      },
      "source": [
        "テンプレートの文法についてはとりあえずわからないので、別途学ぶ。 かも。"
      ]
    },
    {
      "cell_type": "markdown",
      "metadata": {
        "id": "xEAHzwaA2s7q"
      },
      "source": [
        "std::arrayで配列を作るとx.size()で要素数が取得できるとか。 こっちの方が便利ではないか。\n",
        "\n",
        "やってみよう。 #include <array> する必要がある。"
      ]
    },
    {
      "cell_type": "code",
      "metadata": {
        "id": "oCq-Cjgs3PGq"
      },
      "source": [
        "# 実験\n",
        "%%writefile temp.cpp\n",
        "\n",
        "# include <bits/stdc++.h>\n",
        "#include <array>\n",
        "\n",
        "void PrintArray(std::array<int,5> x, std::size_t num) {\n",
        "    for (std::size_t i = 0; i < num; ++i) {\n",
        "        std::cout << x[i] << \"\\n\";\n",
        "    }\n",
        "}\n",
        "\n",
        "int main() {\n",
        "    std::array<int, 5> x = {0, 1, 2, 3, 4};\n",
        "\n",
        "    PrintArray(x, x.size());\n",
        "\n",
        "    return 0;\n",
        "}\n",
        "\n",
        "\n"
      ],
      "execution_count": null,
      "outputs": []
    },
    {
      "cell_type": "code",
      "metadata": {
        "id": "Yvshq3DR3O_G"
      },
      "source": [
        "!g++ temp.cpp; ./a.out"
      ],
      "execution_count": null,
      "outputs": []
    },
    {
      "cell_type": "code",
      "metadata": {
        "id": "0RQz7vJo5__7"
      },
      "source": [
        "# 実験 cpprefjp.github.io にある例\n",
        "\n",
        "%%writefile temp.cpp\n",
        "\n",
        "# include <bits/stdc++.h>\n",
        "#include <array>\n",
        "#include <algorithm>\n",
        "\n",
        "int main()\n",
        "{\n",
        "  // 3要素のint型配列を定義し、初期化子リストで初期化\n",
        "  std::array<int, 3> ar = {3, 1, 4};\n",
        "\n",
        "  // size()メンバ関数による要素数取得\n",
        "  for (std::size_t i = 0; i < ar.size(); ++i) {\n",
        "    ++ar[i]; // operator[]で任意の要素にランダムアクセス\n",
        "  }\n",
        "\n",
        "  // イテレータによる要素の横断\n",
        "  std::for_each(ar.begin(), ar.end(), [](int x) {\n",
        "    std::cout << x << \"\\n\";\n",
        "  });\n",
        "}"
      ],
      "execution_count": null,
      "outputs": []
    },
    {
      "cell_type": "code",
      "metadata": {
        "id": "0qRpGxmz6AhE"
      },
      "source": [
        "!g++ temp.cpp; ./a.out"
      ],
      "execution_count": null,
      "outputs": []
    },
    {
      "cell_type": "markdown",
      "metadata": {
        "id": "Vrz7cOHEsVSY"
      },
      "source": [
        "# タプル tuple"
      ]
    },
    {
      "cell_type": "code",
      "metadata": {
        "id": "-ikV0bw7sbzr"
      },
      "source": [
        "# タプル定義のバリエーション\n",
        "%%script false\n",
        "\n",
        "std::tuple<std::string, int> person { \"Bob\", 20 };\n",
        "std::tuple<std::string, int> person(\"Bob\", 20);\n",
        "std::tuple<std::string, int> person = std::make_tuple(\"Bob\", 20);\n",
        "\n",
        "# 要素の取り出し方\n",
        "std::get<0>(person);    // \"Bob\"\n",
        "std::get<1>(person);    // 20"
      ],
      "execution_count": null,
      "outputs": []
    },
    {
      "cell_type": "code",
      "metadata": {
        "id": "okmQrvrmsbAJ"
      },
      "source": [
        "%%writefile temp.cpp\n",
        "\n",
        "# include <bits/stdc++.h>\n",
        "#include <tuple>\n",
        "\n",
        "std::tuple<std::string, int, std::string> person { \"Bob\", 20 , \"usa\"};\n",
        "\n",
        "int main() {\n",
        "    std::cout << std::get<0>(person) << \"\\n\";\n",
        "    std::cout << std::get<1>(person) << \"\\n\";\n",
        "    std::cout << std::get<2>(person) << \"\\n\";\n",
        "}"
      ],
      "execution_count": null,
      "outputs": []
    },
    {
      "cell_type": "code",
      "metadata": {
        "id": "JbNRN2QotgwC"
      },
      "source": [
        "!g++ temp.cpp; ./a.out"
      ],
      "execution_count": null,
      "outputs": []
    },
    {
      "cell_type": "markdown",
      "metadata": {
        "id": "M-bj_YaCuS0E"
      },
      "source": [
        "\n",
        "std::tie() という関数を使うとタプルの要素を個別の変数に まとめて代入することができる。"
      ]
    },
    {
      "cell_type": "code",
      "metadata": {
        "id": "1dS3v0Obtqde"
      },
      "source": [
        "%%writefile temp.cpp\n",
        "\n",
        "# include <bits/stdc++.h>\n",
        "#include <tuple>\n",
        "\n",
        "std::tuple<std::string, int, std::string> person { \"Bob\", 20, \"USA\" };\n",
        "\n",
        "int main() {\n",
        "    std::string name;\n",
        "    int age;\n",
        "    std::string country;\n",
        "\n",
        "    std::tie(name, age, country) = person;  // name: \"Bob\", age: 20, country: \"USA\"\n",
        "    std::cout << name << \"\\n\";\n",
        "    std::cout << age << \"\\n\";\n",
        "    std::cout << country << \"\\n\";\n",
        "}"
      ],
      "execution_count": null,
      "outputs": []
    },
    {
      "cell_type": "code",
      "metadata": {
        "id": "Lv2s5Lm9tqPT"
      },
      "source": [
        "!g++ temp.cpp; ./a.out"
      ],
      "execution_count": null,
      "outputs": []
    },
    {
      "cell_type": "markdown",
      "metadata": {
        "id": "eZVGXU__ukvA"
      },
      "source": [
        "# ペア pair\n",
        "\n",
        "ペアは2つの値をひとまとめにして扱うことができる型。 要素数が2つのタプルと同じか?"
      ]
    },
    {
      "cell_type": "code",
      "metadata": {
        "id": "KuUb7wSiusYL"
      },
      "source": [
        "%%writefile temp.cpp\n",
        "\n",
        "# include <bits/stdc++.h>\n",
        "#include <utility>\n",
        "\n",
        "std::pair<std::string, int> person {\"Bob\", 20};\n",
        "\n",
        "int main() {\n",
        "    std::cout << std::get<0>(person) << \"\\n\";\n",
        "    std::cout << std::get<1>(person) << \"\\n\";\n",
        "}\n"
      ],
      "execution_count": null,
      "outputs": []
    },
    {
      "cell_type": "code",
      "metadata": {
        "id": "5ShiQUg4utiR"
      },
      "source": [
        "!g++ temp.cpp; ./a.out"
      ],
      "execution_count": null,
      "outputs": []
    },
    {
      "cell_type": "markdown",
      "metadata": {
        "id": "SflvUsgbvsM_"
      },
      "source": [
        "pair では first, second が使える。"
      ]
    },
    {
      "cell_type": "code",
      "metadata": {
        "id": "HiNtfz0fvUMz"
      },
      "source": [
        "%%writefile temp.cpp\n",
        "\n",
        "# include <bits/stdc++.h>\n",
        "#include <utility>\n",
        "\n",
        "std::pair<std::string, int> person {\"Bob\", 20};\n",
        "\n",
        "int main() {\n",
        "    std::cout << person.first << \"\\n\";\n",
        "    std::cout << person.second << \"\\n\";\n",
        "}\n",
        "\n"
      ],
      "execution_count": null,
      "outputs": []
    },
    {
      "cell_type": "code",
      "metadata": {
        "id": "fOvNI0OavT7z"
      },
      "source": [
        "!g++ temp.cpp; ./a.out"
      ],
      "execution_count": null,
      "outputs": []
    },
    {
      "cell_type": "code",
      "metadata": {
        "id": "9ekUOgudwBta"
      },
      "source": [
        "# pair の初期化のバリエーション\n",
        "\n",
        "%%script false\n",
        "\n",
        "std::pair<std::string, int> person { \"Bob\", 20 };\n",
        "std::pair<std::string, int> person(\"Bob\", 20);\n",
        "std::pair<std::string, int> person = std::make_pair(\"Bob\", 20);"
      ],
      "execution_count": null,
      "outputs": []
    },
    {
      "cell_type": "markdown",
      "metadata": {
        "id": "dsju0xpSwb0-"
      },
      "source": [
        "std::tie() も使えるが #include <tuple> が必要。"
      ]
    },
    {
      "cell_type": "code",
      "metadata": {
        "id": "5pgTJWonwS4z"
      },
      "source": [
        "%%writefile temp.cpp\n",
        "\n",
        "# include <bits/stdc++.h>\n",
        "#include <tuple>\n",
        "\n",
        "std::pair<std::string, int> person { \"Bob\", 20 };\n",
        "\n",
        "int main() {\n",
        "    std::string name;\n",
        "    int age;\n",
        "\n",
        "    std::tie(name, age) = person;  // name: \"Bob\", age: 20\n",
        "\n",
        "    std::cout << name << \"\\n\";\n",
        "    std::cout << age << \"\\n\";\n",
        "    std::cout << person.first << \"\\n\";\n",
        "    std::cout << person.second << \"\\n\";    \n",
        "}"
      ],
      "execution_count": null,
      "outputs": []
    },
    {
      "cell_type": "code",
      "metadata": {
        "id": "WekxnR4_wSrL"
      },
      "source": [
        "!g++ temp.cpp; ./a.out"
      ],
      "execution_count": null,
      "outputs": []
    },
    {
      "cell_type": "markdown",
      "metadata": {
        "id": "qljwdZdfxtGU"
      },
      "source": [
        "`#include <tuple>` すれば `#include <utility>` しなくても、 pair 関係の関数やメソッドは使えるみたい。"
      ]
    },
    {
      "cell_type": "markdown",
      "metadata": {
        "id": "-v9GIoAvy1kE"
      },
      "source": [
        "# ベクター vector\n",
        "\n",
        "要素数を実行時に変更できる配列を扱うには std::vector を使用する。\n",
        "\n"
      ]
    },
    {
      "cell_type": "code",
      "metadata": {
        "id": "X1pCjiDNCNFK"
      },
      "source": [
        "%%writefile temp.cpp\n",
        "# include <bits/stdc++.h>\n",
        "#include <vector>\n",
        "\n",
        "int main() {\n",
        "    std::vector<int> x = {0, 1, 2, 3, 4};\n",
        "    x[2] = 10;\n",
        "    auto size = x.size();  // 5\n",
        "\n",
        "    std::cout << x[2] << \"\\n\";\n",
        "    std::cout << x.size() << \"\\n\";\n",
        "}"
      ],
      "execution_count": null,
      "outputs": []
    },
    {
      "cell_type": "code",
      "metadata": {
        "id": "bhsBLkQHCMn-"
      },
      "source": [
        "!g++ temp.cpp; ./a.out"
      ],
      "execution_count": null,
      "outputs": []
    },
    {
      "cell_type": "code",
      "metadata": {
        "id": "ix0D9yUwF5De"
      },
      "source": [
        "%%writefile temp.cpp\n",
        "# include <bits/stdc++.h>\n",
        "#include <vector>\n",
        "\n",
        "int main() {\n",
        "    std::vector<int> x = {0, 1, 2, 3, 4};\n",
        "    auto size1 = x.size();  // 5\n",
        "    std::cout << size1 << \"\\n\";\n",
        "\n",
        "    x.emplace_back(5);\n",
        "    auto size2 = x.size();  // 6\n",
        "    std::cout << x[5] << \"\\n\";\n",
        "    std::cout << size2 << \"\\n\";\n",
        "\n",
        "    x.pop_back();\n",
        "    auto size3 = x.size();  // 5\n",
        "    std::cout << size3 << \"\\n\";\n",
        "}"
      ],
      "execution_count": null,
      "outputs": []
    },
    {
      "cell_type": "code",
      "metadata": {
        "id": "jieTZe1pF5dm"
      },
      "source": [
        "!g++ temp.cpp; ./a.out"
      ],
      "execution_count": null,
      "outputs": []
    },
    {
      "cell_type": "code",
      "metadata": {
        "id": "kMqkQGnQHHIt"
      },
      "source": [
        "# ベクターの先頭ポインタの取得 x.data()\n",
        "%%writefile temp.cpp\n",
        "# include <bits/stdc++.h>\n",
        "#include <vector>\n",
        "\n",
        "int main() {\n",
        "    std::vector<int> x = {4, 300, 2, 1, 0};\n",
        "    auto px = x.data();  // 先頭ポインタ\n",
        "    auto num = *px;  // 4\n",
        "\n",
        "    std::cout << px << \"\\n\";\n",
        "    std::cout << num << \"\\n\";\n",
        "    std::cout << *(px + 2) << \"\\n\";\n",
        "}"
      ],
      "execution_count": null,
      "outputs": []
    },
    {
      "cell_type": "code",
      "metadata": {
        "id": "blvPc8zwHHhJ"
      },
      "source": [
        "!g++ temp.cpp; ./a.out"
      ],
      "execution_count": null,
      "outputs": []
    },
    {
      "cell_type": "markdown",
      "metadata": {
        "id": "KBH5iLW8K332"
      },
      "source": [
        "# マップ 連想配列 \n",
        "連想配列 associative array は、C++ では std::map として実装される。\n",
        "\n",
        "別途 std::unordered_map もある。\n",
        "\n",
        "std::map はキーでソートしてデータを管理するのに対し、std::unordered_map はキーから計算するハッシュでデータを管理するので、パフォーマンスは std::unordered_map の方が優れている。"
      ]
    },
    {
      "cell_type": "code",
      "metadata": {
        "id": "g0782Y5kLLBZ"
      },
      "source": [
        "%%writefile temp.cpp\n",
        "# include <bits/stdc++.h>\n",
        "#include <unordered_map>\n",
        "\n",
        "std::unordered_map<std::string, int> persons = {\n",
        "    {\"Alice\", 18},\n",
        "    {\"Bob\", 20}\n",
        "};\n",
        "\n",
        "int main(){\n",
        "    std::cout << persons[\"Alice\"] << \"\\n\";  // 18\n",
        "    std::cout << persons[\"Bob\"] << \"\\n\";    // 20\n",
        "    persons.insert({\"Eve\", 19});\n",
        "    persons.erase(\"Bob\");\n",
        "    std::cout << persons[\"Eve\"] << \"\\n\";    // 19\n",
        "}"
      ],
      "execution_count": null,
      "outputs": []
    },
    {
      "cell_type": "code",
      "metadata": {
        "id": "rzKPw379LLmh"
      },
      "source": [
        "!g++ temp.cpp; ./a.out"
      ],
      "execution_count": null,
      "outputs": []
    },
    {
      "cell_type": "markdown",
      "metadata": {
        "id": "UYZkdLvzRrla"
      },
      "source": [
        "# セット set 集合\n",
        "std::set または std::unordered_set という型で任意の型の集合を扱う。\n",
        "\n",
        "パーフォーマンスは std::unordered_set の方が高い。\n"
      ]
    },
    {
      "cell_type": "code",
      "metadata": {
        "id": "vFy_wNC0TGwI"
      },
      "source": [
        "%%writefile temp.cpp\n",
        "# include <bits/stdc++.h>\n",
        "#include <unordered_set>\n",
        "\n",
        "std::unordered_set<std::string> persons = {\n",
        "    \"Alice\",\n",
        "    \"Bob\"\n",
        "};\n",
        "\n",
        "int main (){\n",
        "    persons.insert(\"Eve\");\n",
        "    persons.erase(\"Bob\");\n",
        "    for(auto x : persons) {\n",
        "        std::cout << x << \"\\n\";     // 要素を順に表示\n",
        "    }\n",
        "\n",
        "}"
      ],
      "execution_count": null,
      "outputs": []
    },
    {
      "cell_type": "code",
      "metadata": {
        "id": "loQE4HyRTGeF"
      },
      "source": [
        "!g++ temp.cpp; ./a.out"
      ],
      "execution_count": null,
      "outputs": []
    },
    {
      "cell_type": "markdown",
      "metadata": {
        "id": "Dz8dchG_UqBQ"
      },
      "source": [
        "# イテレーター iterator\n",
        "イテレーターを使うとポインターの処理が共通化できる、とか。"
      ]
    },
    {
      "cell_type": "code",
      "metadata": {
        "id": "3M9qpQsxU1vX"
      },
      "source": [
        "%%writefile temp.cpp\n",
        "# include <bits/stdc++.h>\n",
        "#include <vector>\n",
        "\n",
        "std::vector<int> x = {0, 1, 2, 3, 4};\n",
        "\n",
        "\n",
        "int main (){\n",
        "    // begin() でコンテナ内の先頭要素を指すイテレータを取得\n",
        "    auto it = x.begin();\n",
        "\n",
        "    // イテレータを使用して要素を出力\n",
        "    std::cout << *it << \"\\n\";  // 0\n",
        "\n",
        "    // イテレータを1つ進める\n",
        "    ++it;\n",
        "\n",
        "    // イテレータを使用して要素を出力\n",
        "    std::cout << *it << \"\\n\";  // 1\n",
        "}\n"
      ],
      "execution_count": null,
      "outputs": []
    },
    {
      "cell_type": "code",
      "metadata": {
        "id": "h0XOIGndU2LZ"
      },
      "source": [
        "!g++ temp.cpp; ./a.out"
      ],
      "execution_count": null,
      "outputs": []
    },
    {
      "cell_type": "code",
      "metadata": {
        "id": "mhrKHIzct44X"
      },
      "source": [
        "%%writefile temp.cpp\n",
        "# include <bits/stdc++.h>\n",
        "#include <vector>\n",
        "std::vector<int> x = {0, 1, 2, 3, 4};\n",
        "\n",
        "int main (){\n",
        "    // end() でコンテナ内の最終要素の1つ先を指すイテレータを取得\n",
        "    for (auto it = x.begin(); it != x.end(); ++it) {\n",
        "        std::cout << *it << \"\\n\";\n",
        "    }\n",
        "}"
      ],
      "execution_count": null,
      "outputs": []
    },
    {
      "cell_type": "code",
      "metadata": {
        "id": "KySbv1Zst4nT"
      },
      "source": [
        "!g++ temp.cpp; ./a.out"
      ],
      "execution_count": null,
      "outputs": []
    },
    {
      "cell_type": "code",
      "metadata": {
        "id": "Aq0WhTheuZch"
      },
      "source": [
        "%%writefile temp.cpp\n",
        "# include <bits/stdc++.h>\n",
        "#include <string>\n",
        "#include <unordered_set>\n",
        "std::unordered_set<std::string> x = {\"Bob\", \"Me\", \"Papa\", \"Bob\"};\n",
        "\n",
        "int main (){\n",
        "    // end() でコンテナ内の最終要素の1つ先を指すイテレータを取得\n",
        "    for (auto it = x.begin(); it != x.end(); ++it) {\n",
        "        std::cout << *it << \"\\n\";\n",
        "    }\n",
        "}"
      ],
      "execution_count": null,
      "outputs": []
    },
    {
      "cell_type": "code",
      "metadata": {
        "id": "F31WtlbXuZQJ"
      },
      "source": [
        "!g++ temp.cpp; ./a.out"
      ],
      "execution_count": null,
      "outputs": []
    },
    {
      "cell_type": "code",
      "metadata": {
        "id": "QO3GU-pewozo"
      },
      "source": [
        "%%writefile temp.cpp\n",
        "# include <bits/stdc++.h>\n",
        "#include <vector>\n",
        "#include <algorithm>\n",
        "\n",
        "std::vector<int> x = {0, 1, 2, 3, 4};\n",
        "\n",
        "int main (){\n",
        "    // std::count_if は条件を満たすコンテナ要素の個数を数える処理\n",
        "    //   - 第1引数と第2引数で範囲を指定\n",
        "    //   - 第3引数で関数オブジェクトで条件を指定\n",
        "    auto n = std::count_if(x.begin(), x.end(), [](const int v) {\n",
        "        // 0 より大きい 2 の倍数\n",
        "        if (v <= 0) {\n",
        "            return false;\n",
        "        }\n",
        "        if (v % 2 != 0) {\n",
        "            return false;\n",
        "        }\n",
        "        return true;\n",
        "    });\n",
        "    std::cout << n << \"\\n\";  // 2\n",
        "}"
      ],
      "execution_count": null,
      "outputs": []
    },
    {
      "cell_type": "code",
      "metadata": {
        "id": "3ChdZa8wwooS"
      },
      "source": [
        "!g++ temp.cpp; ./a.out"
      ],
      "execution_count": null,
      "outputs": []
    },
    {
      "cell_type": "code",
      "metadata": {
        "id": "y8g65mfrxRHo"
      },
      "source": [
        "%%writefile temp.cpp\n",
        "# include <bits/stdc++.h>\n",
        "#include <map>\n",
        "\n",
        "std::map<std::string, int> persons = {\n",
        "    {\"Alice\", 18},\n",
        "    {\"Bob\", 20}\n",
        "};\n",
        "\n",
        "int main (){\n",
        "    for (auto it = persons.begin(); it != persons.end(); ++it) {\n",
        "        const auto& person = *it;  // std::pair<std::string, int>\n",
        "        const std::string& name = person.first;\n",
        "        const int age = person.second;\n",
        "        std::cout << name << \": \" << age << \"\\n\";\n",
        "    }\n",
        "}"
      ],
      "execution_count": null,
      "outputs": []
    },
    {
      "cell_type": "code",
      "metadata": {
        "id": "81iU-FZuxQ3m"
      },
      "source": [
        "!g++ temp.cpp; ./a.out"
      ],
      "execution_count": null,
      "outputs": []
    },
    {
      "cell_type": "code",
      "metadata": {
        "id": "Jv9sVfI6yQvL"
      },
      "source": [
        "%%writefile temp.cpp\n",
        "# include <bits/stdc++.h>\n",
        "#include <vector>\n",
        "\n",
        "std::vector<int> x = {0, 1, 2, 3, 4};\n",
        "\n",
        "int main (){\n",
        "    auto it = x.begin();\n",
        "    std::cout << *it << \"\\n\";  // 0\n",
        "\n",
        "    ++it;  // 前に進める\n",
        "    std::cout << *it << \"\\n\";  // 1\n",
        "\n",
        "    --it;  // 後ろへ戻す\n",
        "    std::cout << *it << \"\\n\";  // 0\n",
        "\n",
        "    it = it + 3;  // 3つ前に進める\n",
        "    std::cout << *it << \"\\n\";  // 3\n",
        "\n",
        "    // it は変更せずに it から2つ後ろへ戻した要素を参照\n",
        "    std::cout << it[-2] << \"\\n\";  // 1 (it から2つ後ろへ戻した要素)\n",
        "    std::cout << *it << \"\\n\";  // 3 (it は変更されていない)\n",
        "}"
      ],
      "execution_count": null,
      "outputs": []
    },
    {
      "cell_type": "code",
      "metadata": {
        "id": "az8KpEeOyQmI"
      },
      "source": [
        "!g++ temp.cpp; ./a.out"
      ],
      "execution_count": null,
      "outputs": []
    },
    {
      "cell_type": "code",
      "metadata": {
        "id": "7ayHoBKozZe3"
      },
      "source": [
        "%%writefile temp.cpp\n",
        "# include <bits/stdc++.h>\n",
        "#include <vector>\n",
        "\n",
        "std::vector<int> x = {0, 1, 2, 3, 4, 5, 6};\n",
        "\n",
        "int main (){\n",
        "    auto it1 = x.begin() + 2;\n",
        "    auto it2 = x.begin() + 3;\n",
        "    auto it3 = x.begin() + 4;\n",
        "    std::cout << *it1 << \"\\n\";  // 2\n",
        "    std::cout << *it2 << \"\\n\";  // 3\n",
        "    std::cout << *it3 << \"\\n\";  // 4\n",
        "\n",
        "    x.erase(x.begin() + 3);  // index=3 の要素を削除\n",
        "\n",
        "    std::cout << *it1 << \"\\n\";  // 2 (有効なまま)\n",
        "    std::cout << *it2 << \"\\n\";  // 未定義動作 (無効化される)\n",
        "    std::cout << *it3 << \"\\n\";  // 未定義動作 (無効化される)\n",
        "}"
      ],
      "execution_count": null,
      "outputs": []
    },
    {
      "cell_type": "code",
      "metadata": {
        "id": "osym1JErzZSS"
      },
      "source": [
        "!g++ temp.cpp; ./a.out"
      ],
      "execution_count": null,
      "outputs": []
    },
    {
      "cell_type": "markdown",
      "metadata": {
        "id": "l7W7mghXz7-1"
      },
      "source": [
        "# 範囲 for"
      ]
    },
    {
      "cell_type": "code",
      "metadata": {
        "id": "SCC_-rmp1PSe"
      },
      "source": [
        "%%writefile temp.cpp\n",
        "# include <bits/stdc++.h>\n",
        "#include <vector>\n",
        "\n",
        "std::vector<int> x = {0, 1, 2, 3, 4};\n",
        "\n",
        "int main (){\n",
        "    for (auto it = x.begin(); it != x.end(); ++it) {\n",
        "        std::cout << *it << \"\\n\";\n",
        "    }\n",
        "}"
      ],
      "execution_count": null,
      "outputs": []
    },
    {
      "cell_type": "code",
      "metadata": {
        "id": "L3ySkqeJ1PE-"
      },
      "source": [
        ""
      ],
      "execution_count": null,
      "outputs": []
    },
    {
      "cell_type": "code",
      "metadata": {
        "id": "3xVtGjAK112z"
      },
      "source": [
        "%%writefile temp.cpp\n",
        "# include <bits/stdc++.h>\n",
        "#include <vector>\n",
        "\n",
        "std::vector<int> x = {0, 1, 2, 3, 4};\n",
        "\n",
        "int main (){\n",
        "    for (auto&& it : x) {\n",
        "        std::cout << it << \"\\n\";\n",
        "    }\n",
        "}"
      ],
      "execution_count": null,
      "outputs": []
    },
    {
      "cell_type": "code",
      "metadata": {
        "id": "m5WVTrEe11p8"
      },
      "source": [
        "!g++ temp.cpp; ./a.out"
      ],
      "execution_count": null,
      "outputs": []
    },
    {
      "cell_type": "code",
      "metadata": {
        "id": "A9faxl1u2YZK"
      },
      "source": [
        "%%writefile temp.cpp\n",
        "# include <bits/stdc++.h>\n",
        "\n",
        "int x[] = {0, 1, 2, 3, 4};\n",
        "\n",
        "int main (){\n",
        "    for (auto&& it : x) {\n",
        "        std::cout << it << \"\\n\";\n",
        "    }\n",
        "}"
      ],
      "execution_count": null,
      "outputs": []
    },
    {
      "cell_type": "code",
      "metadata": {
        "id": "GgCEjSSP2YMq"
      },
      "source": [
        "!g++ temp.cpp; ./a.out"
      ],
      "execution_count": null,
      "outputs": []
    },
    {
      "cell_type": "markdown",
      "metadata": {
        "id": "bz-_VMkefKQJ"
      },
      "source": [
        "# 入力値の型指定"
      ]
    },
    {
      "cell_type": "code",
      "metadata": {
        "id": "7fONu8mdD9g8"
      },
      "source": [
        "%%writefile temp.cpp\n",
        "# include <bits/stdc++.h>\n",
        "\n",
        "int main() {\n",
        "    int x = 0;\n",
        "\n",
        "    std::cout << \"整数を入力してください: \";\n",
        "    if (std::cin >> x) {\n",
        "        std::cout << \"入力した整数は \" << x << \" です。\" << \"\\n\";\n",
        "    } else {\n",
        "        std::cout << \"不正な入力です。\" << \"\\n\";\n",
        "    }\n",
        "\n",
        "    return 0;\n",
        "}"
      ],
      "execution_count": null,
      "outputs": []
    },
    {
      "cell_type": "code",
      "metadata": {
        "id": "a_yKgt1oD9TH"
      },
      "source": [
        "!g++ temp.cpp; echo 3 | ./a.out; echo カレー | ./a.out"
      ],
      "execution_count": null,
      "outputs": []
    },
    {
      "cell_type": "markdown",
      "metadata": {
        "id": "GEIBCh_Zf9oX"
      },
      "source": [
        "# メモリー領域 スタックとヒープ"
      ]
    },
    {
      "cell_type": "code",
      "metadata": {
        "id": "udzHxHTCgDVU"
      },
      "source": [
        "%%writefile temp.cpp\n",
        "\n",
        "void Function() {\n",
        "    int x = 100; // ローカル変数xはスタックに確保される。\n",
        "    int y = 200; // ローカル変数yはスタックに確保される。\n",
        "\n",
        "} // 関数の終了とともに変数 x, y はスタックから取り除かれる。\n",
        "  // スタックはLIFO（後入れ先出し）形式のため y, x の順で取り除かれる。\n",
        "\n",
        "int main() {\n",
        "    Function();\n",
        "\n",
        "    return 0;\n",
        "}"
      ],
      "execution_count": null,
      "outputs": []
    },
    {
      "cell_type": "code",
      "metadata": {
        "id": "8qNcblpBgDx3"
      },
      "source": [
        "!g++ temp.cpp; ./a.out"
      ],
      "execution_count": null,
      "outputs": []
    },
    {
      "cell_type": "code",
      "metadata": {
        "id": "RhmsT-COgSc5"
      },
      "source": [
        "%%script false\n",
        "\n",
        "int* p1 = new int(100);  // p1 は new で確保されたメモリ領域を指すポインタ\n",
        "int* p2 = new int[5];    // 配列の場合は [] を付ける\n",
        "\n",
        "delete p1;    // new によって確保されたメモリを delete で解放\n",
        "delete[] p2;  // 配列の場合は [] を付ける"
      ],
      "execution_count": null,
      "outputs": []
    },
    {
      "cell_type": "markdown",
      "metadata": {
        "id": "Gs73afxaglGF"
      },
      "source": [
        "malloc/free を利用することでもメモリの確保・解放は可能だが、C++ での利用は推奨されていない。\n",
        "\n"
      ]
    },
    {
      "cell_type": "markdown",
      "metadata": {
        "id": "pgPzh-ZAguAn"
      },
      "source": [
        "# ディープコピーとシャローコピー"
      ]
    },
    {
      "cell_type": "code",
      "metadata": {
        "id": "KkVhcYxUgSGB"
      },
      "source": [
        "%%writefile temp.cpp\n",
        "# include <bits/stdc++.h>\n",
        "\n",
        "int main() {\n",
        "    int x = 100;\n",
        "    int y = x; // x を y へディープコピー\n",
        "    y = 50; // y を 50 に書き換える\n",
        "    std::cout << x << \"\\n\"; // x は100のまま\n",
        "}"
      ],
      "execution_count": null,
      "outputs": []
    },
    {
      "cell_type": "code",
      "metadata": {
        "id": "AJ0aZruNhHsM"
      },
      "source": [
        "!g++ temp.cpp; ./a.out"
      ],
      "execution_count": null,
      "outputs": []
    },
    {
      "cell_type": "code",
      "metadata": {
        "id": "tJMvzzPfhLWZ"
      },
      "source": [
        "%%writefile temp.cpp\n",
        "# include <bits/stdc++.h>\n",
        "\n",
        "int main() {\n",
        "    int* x = new int(100);\n",
        "    int* y = x; // x を y へシャローコピー\n",
        "    *y = 50; // y が指す先の値を 50 に書き換える\n",
        "    std::cout << *x << \"\\n\"; // x が指す先の値も 50 になる\n",
        "}"
      ],
      "execution_count": null,
      "outputs": []
    },
    {
      "cell_type": "code",
      "metadata": {
        "id": "ltuT6im4hK9o"
      },
      "source": [
        "!g++ temp.cpp; ./a.out"
      ],
      "execution_count": null,
      "outputs": []
    },
    {
      "cell_type": "code",
      "metadata": {
        "id": "CEbSkDZ-hkMa"
      },
      "source": [
        "%%writefile temp.cpp\n",
        "# include <bits/stdc++.h>\n",
        "\n",
        "void ChangeToFifty1(int v) {  // ディープコピー\n",
        "    v = 50;\n",
        "}\n",
        "\n",
        "void ChangeToFifty2(int* v) {  // シャローコピー\n",
        "    *v = 50;\n",
        "}\n",
        "\n",
        "int main() {\n",
        "    int a = 100;\n",
        "    ChangeToFifty1(a);\n",
        "    std::cout << a << \"\\n\";  // 100\n",
        "\n",
        "    int b = 100;\n",
        "    ChangeToFifty2(&b);\n",
        "    std::cout << b << \"\\n\";  // 50\n",
        "\n",
        "    return 0;\n",
        "}"
      ],
      "execution_count": null,
      "outputs": []
    },
    {
      "cell_type": "code",
      "metadata": {
        "id": "evveHUdShj-8"
      },
      "source": [
        "!g++ temp.cpp; ./a.out"
      ],
      "execution_count": null,
      "outputs": []
    },
    {
      "cell_type": "markdown",
      "metadata": {
        "id": "2Y91me4-iSem"
      },
      "source": [
        "# ムーブセマンティクス move semantics %%"
      ]
    },
    {
      "cell_type": "code",
      "metadata": {
        "id": "0p5g855EiWif"
      },
      "source": [
        "%%writefile temp.cpp\n",
        "# include <bits/stdc++.h>\n",
        "#include <string>\n",
        "\n",
        "void Print(std::string&) {\n",
        "    std::cout << \"左辺値参照\" << \"\\n\";\n",
        "}\n",
        "\n",
        "void Print(std::string&&) {\n",
        "    std::cout << \"右辺値参照\" << \"\\n\";\n",
        "}\n",
        "\n",
        "int main() {\n",
        "    std::string str = \"hoge\";\n",
        "\n",
        "    Print(str);\n",
        "    Print(std::move(str));\n",
        "\n",
        "    return 0;\n",
        "}"
      ],
      "execution_count": null,
      "outputs": []
    },
    {
      "cell_type": "code",
      "metadata": {
        "id": "cEIx86hPiW6A"
      },
      "source": [
        "!g++ temp.cpp; ./a.out"
      ],
      "execution_count": null,
      "outputs": []
    },
    {
      "cell_type": "markdown",
      "metadata": {
        "id": "z6mKtwqXiqhd"
      },
      "source": [
        "# スマートポインター"
      ]
    },
    {
      "cell_type": "code",
      "metadata": {
        "id": "cR4nEzYoi_oD"
      },
      "source": [
        "%%writefile temp.cpp\n",
        "# include <bits/stdc++.h>\n",
        "#include <memory>\n",
        "\n",
        "int main() {\n",
        "    std::shared_ptr<int> x = std::make_shared<int>(100); // int* x = new int(100); の代わり\n",
        "                                                         // 所有者は1人。\n",
        "    {\n",
        "        std::shared_ptr<int> y = x; // 通常のポインタ同様、コピーすることで所有権が共有される\n",
        "                                    // 所有者が2人に増える。\n",
        "        std::cout << *y << \"\\n\";\n",
        "    } // y が破棄されて所有者が1人になる。\n",
        "\n",
        "    std::cout << *x << \"\\n\";\n",
        "\n",
        "    return 0;\n",
        "} // 所有者が0人になるので、 x のデストラクタで自動的に delete が行われる。"
      ],
      "execution_count": null,
      "outputs": []
    },
    {
      "cell_type": "code",
      "metadata": {
        "id": "uqwoT0HXi_XI"
      },
      "source": [
        "!g++ temp.cpp; ./a.out"
      ],
      "execution_count": null,
      "outputs": []
    },
    {
      "cell_type": "code",
      "metadata": {
        "id": "-_2KYQfVjvxX"
      },
      "source": [
        "%%writefile temp.cpp\n",
        "# include <bits/stdc++.h>\n",
        "#include <memory>\n",
        "\n",
        "int main() {\n",
        "    std::unique_ptr<int> x(new int(100));\n",
        "    // std::unique_ptr<int> y = x; // コピー出来ない。コンパイルエラー。\n",
        "\n",
        "    std::cout << *x << \"\\n\";\n",
        "\n",
        "    return 0;\n",
        "} // x が所有しているリソースが解放される。"
      ],
      "execution_count": null,
      "outputs": []
    },
    {
      "cell_type": "code",
      "metadata": {
        "id": "Asar4r6rjvga"
      },
      "source": [
        "!g++ temp.cpp; ./a.out"
      ],
      "execution_count": null,
      "outputs": []
    },
    {
      "cell_type": "code",
      "metadata": {
        "id": "d6s5jLpBkBzu"
      },
      "source": [
        "%%writefile temp.cpp\n",
        "# include <bits/stdc++.h>\n",
        "#include <memory>\n",
        "\n",
        "int main() {\n",
        "    std::unique_ptr<int> x(new int(100));\n",
        "    std::unique_ptr<int> y(std::move(x)); // ムーブは出来るため、所有権の移動は可能。\n",
        "                                          // 所有権を移動したため、x は何も所有していない。\n",
        "\n",
        "    std::cout << *y << \"\\n\";\n",
        "\n",
        "    return 0;\n",
        "} // y が所有しているリソースが解放される。"
      ],
      "execution_count": null,
      "outputs": []
    },
    {
      "cell_type": "code",
      "metadata": {
        "id": "9zCx1Vq9kBnU"
      },
      "source": [
        "!g++ temp.cpp; ./a.out"
      ],
      "execution_count": null,
      "outputs": []
    },
    {
      "cell_type": "markdown",
      "metadata": {
        "id": "r8hhb8oZkuPS"
      },
      "source": [
        "`std::auto_ptr` は C++11 では非推奨となっており C++17 では削除されている。"
      ]
    },
    {
      "cell_type": "code",
      "metadata": {
        "id": "RU8Ebl0dkTaR"
      },
      "source": [
        "%%writefile temp.cpp\n",
        "# include <bits/stdc++.h>\n",
        "#include <memory>\n",
        "\n",
        "int main() {\n",
        "    std::shared_ptr<int> sp = std::make_shared<int>(246);\n",
        "    std::weak_ptr<int> wp = sp; // sp を監視対象として wp に登録する\n",
        "\n",
        "    std::shared_ptr<int> sp2 = wp.lock(); // 有効な場合は sp とリソースを共有する sp2 が作られる\n",
        "    if (sp2) {\n",
        "        std::cout << *sp2 << \"\\n\";\n",
        "    } else {\n",
        "        std::cout << \"リソースは解放済み\" << \"\\n\";\n",
        "    }\n",
        "\n",
        "    return 0;\n",
        "}"
      ],
      "execution_count": null,
      "outputs": []
    },
    {
      "cell_type": "code",
      "metadata": {
        "id": "ECCTf-SPkTOm"
      },
      "source": [
        "!g++ temp.cpp; ./a.out"
      ],
      "execution_count": null,
      "outputs": []
    },
    {
      "cell_type": "markdown",
      "metadata": {
        "id": "1ZM6HK3Vl1EC"
      },
      "source": [
        "# 継承 inheritance"
      ]
    },
    {
      "cell_type": "code",
      "metadata": {
        "id": "mEiZTT_bl4WU"
      },
      "source": [
        "%%writefile temp.cpp\n",
        "# include <bits/stdc++.h>\n",
        "\n",
        "class Rectangle {\n",
        " public:\n",
        "    int Area() const {\n",
        "       return height_ * width_;\n",
        "    }\n",
        "\n",
        "    int height_;\n",
        "    int width_;\n",
        "};\n",
        "\n",
        "class Square : public Rectangle {\n",
        " public:\n",
        "    void SetSize(int size) {\n",
        "        height_ = size;\n",
        "        width_ = size;\n",
        "    }\n",
        "};\n",
        "\n",
        "int main() {\n",
        "    Square s;\n",
        "    s.SetSize(10);\n",
        "    std::cout << s.Area() << \"\\n\";\n",
        "    return 0;\n",
        "}"
      ],
      "execution_count": null,
      "outputs": []
    },
    {
      "cell_type": "code",
      "metadata": {
        "id": "83PtdK7gl4mj"
      },
      "source": [
        "!g++ temp.cpp; ./a.out"
      ],
      "execution_count": null,
      "outputs": []
    },
    {
      "cell_type": "markdown",
      "metadata": {
        "id": "2cZuraz-m58m"
      },
      "source": [
        "# Polymorphism 再び"
      ]
    },
    {
      "cell_type": "code",
      "metadata": {
        "id": "bWKVzFpkm-W0"
      },
      "source": [
        "%%writefile temp.cpp\n",
        "# include <bits/stdc++.h>\n",
        "\n",
        "class Rectangle {\n",
        " public:\n",
        "    int Area() const {\n",
        "        return height_ * width_;\n",
        "    }\n",
        "\n",
        "    int height_;\n",
        "    int width_;\n",
        "};\n",
        "\n",
        "class Square : public Rectangle {\n",
        " public:\n",
        "    void SetSize(int size) {\n",
        "        height_ = size;\n",
        "        width_ = size;\n",
        "    }\n",
        "};\n",
        "\n",
        "int main() {\n",
        "    Square s;\n",
        "    s.SetSize(10);\n",
        "\n",
        "    const Rectangle& r = s;\n",
        "    std::cout << \"area = \" << r.Area() << \"\\n\";\n",
        "\n",
        "    return 0;\n",
        "}"
      ],
      "execution_count": null,
      "outputs": []
    },
    {
      "cell_type": "code",
      "metadata": {
        "id": "Jj2Lvom83SKl"
      },
      "source": [
        "!g++ temp.cpp; ./a.out"
      ],
      "execution_count": null,
      "outputs": []
    },
    {
      "cell_type": "code",
      "metadata": {
        "id": "-S1ZsOoj3rXX"
      },
      "source": [
        "%%writefile temp.cpp\n",
        "# include <bits/stdc++.h>\n",
        "\n",
        "class Rectangle {\n",
        " public:\n",
        "    virtual void Describe() const {\n",
        "        std::cout << \"height = \" << height_ << \"\\n\";\n",
        "        std::cout << \"width = \" << width_ << \"\\n\";\n",
        "    }\n",
        "\n",
        "    int height_;\n",
        "    int width_;\n",
        "};\n",
        "\n",
        "class Square : public Rectangle {\n",
        " public:\n",
        "    void SetSize(int size) {\n",
        "        height_ = size;\n",
        "        width_ = size;\n",
        "    }\n",
        "\n",
        "    void Describe() const override {\n",
        "        std::cout << \"size = \" << height_ << \"\\n\";\n",
        "    }\n",
        "};\n",
        "\n",
        "int main() {\n",
        "    Square s;\n",
        "    s.SetSize(10);\n",
        "\n",
        "    const Rectangle& r = s;\n",
        "    r.Describe();\n",
        "\n",
        "    return 0;\n",
        "}"
      ],
      "execution_count": null,
      "outputs": []
    },
    {
      "cell_type": "code",
      "metadata": {
        "id": "MqteWDOZ30Bt"
      },
      "source": [
        "!g++ temp.cpp; ./a.out"
      ],
      "execution_count": null,
      "outputs": []
    },
    {
      "cell_type": "markdown",
      "metadata": {
        "id": "xwW--7Mf46zc"
      },
      "source": [
        "# 純粋仮想関数とインターフェイス\n",
        "\n",
        "定義をもたない仮想関数を純粋仮想関数いう。 純粋仮想関数にするには仮想関数に = 0 をつける。\n",
        "\n",
        "純粋仮想関数があるクラスのオブジェクトは作ることができない。\n",
        "\n",
        "C++ にはインターフェースクラスをつくるための専用の記法はないため、 メンバ関数がすべて純粋仮想関数であるクラスをインターフェースとして使う。"
      ]
    },
    {
      "cell_type": "code",
      "metadata": {
        "id": "BJk9W95v3rHY"
      },
      "source": [
        "%%script false\n",
        "class Polygon {\n",
        " public:\n",
        "    virtual int Area() const = 0;\n",
        "};\n",
        "\n",
        "class Rectangle : public Polygon {\n",
        " public:\n",
        "    int Area() const override {\n",
        "        return height_ * width_;\n",
        "    }\n",
        "\n",
        "    int height_;\n",
        "    int width_;\n",
        "};"
      ],
      "execution_count": null,
      "outputs": []
    },
    {
      "cell_type": "markdown",
      "metadata": {
        "id": "rcjSHjes6W5V"
      },
      "source": [
        "# デストラクタ destructor"
      ]
    },
    {
      "cell_type": "code",
      "metadata": {
        "id": "P0Q4-B8pGRUn"
      },
      "source": [
        "%%writefile temp.cpp\n",
        "# include <bits/stdc++.h>\n",
        "\n",
        "class DynamicArray {\n",
        " public:\n",
        "    DynamicArray(int size, int initial_value) {\n",
        "        data_ = new int[size];\n",
        "        for (auto i = 0; i < size; ++i) {\n",
        "            data_[i] = initial_value;\n",
        "        }\n",
        "    }\n",
        "\n",
        "    ~DynamicArray() {\n",
        "        std::cout << \"DynamicArray::~DynamicArray() is called.\" << \"\\n\";\n",
        "        delete[] data_;\n",
        "    }\n",
        "\n",
        "    void Set(int index, int value) {\n",
        "        data_[index] = value;\n",
        "    }\n",
        "\n",
        "    int Get(int index) const {\n",
        "        return data_[index];\n",
        "    }\n",
        "\n",
        " private:\n",
        "    int* data_;\n",
        "};\n",
        "\n",
        "int main() {\n",
        "    DynamicArray d(5, 1);\n",
        "    std::cout << d.Get(2) << \"\\n\";\n",
        "    d.Set(2, 10);\n",
        "    std::cout << d.Get(2) << \"\\n\";\n",
        "\n",
        "    return 0;\n",
        "}"
      ],
      "execution_count": null,
      "outputs": []
    },
    {
      "cell_type": "code",
      "metadata": {
        "id": "Y8ye_qXqGRFq"
      },
      "source": [
        "!g++ temp.cpp; ./a.out"
      ],
      "execution_count": null,
      "outputs": []
    },
    {
      "cell_type": "code",
      "metadata": {
        "id": "xNahHr68HCJ3"
      },
      "source": [
        "%%writefile temp.cpp\n",
        "# include <bits/stdc++.h>\n",
        "#include <memory>\n",
        "\n",
        "class BasicArray {\n",
        " public:\n",
        "    ~BasicArray() {\n",
        "        std::cout << \"BasicArray::~BasicArray() is called.\" << \"\\n\";\n",
        "    }\n",
        "\n",
        "    virtual void Set(int index, int value) = 0;\n",
        "    virtual int Get(int index) const = 0;\n",
        "};\n",
        "\n",
        "class DynamicArray : public BasicArray {\n",
        " public:\n",
        "    DynamicArray(int size, int initial_value) {\n",
        "        data_ = new int[size];\n",
        "        for (auto i = 0; i < size; ++i) {\n",
        "            data_[i] = initial_value;\n",
        "        }\n",
        "    }\n",
        "\n",
        "    ~DynamicArray() {\n",
        "        std::cout << \"DynamicArray::~DynamicArray() is called.\" << \"\\n\";\n",
        "        delete[] data_;\n",
        "    }\n",
        "\n",
        "    void Set(int index, int value) { data_[index] = value; }\n",
        "\n",
        "    int Get(int index) const { return data_[index]; }\n",
        "\n",
        " private:\n",
        "    int* data_;\n",
        "};\n",
        "\n",
        "int main() {\n",
        "    std::unique_ptr<BasicArray> b(new DynamicArray(5, 1));\n",
        "    std::cout << b->Get(2) << \"\\n\";\n",
        "    b->Set(2, 10);\n",
        "    std::cout << b->Get(2) << \"\\n\";\n",
        "\n",
        "    return 0;\n",
        "}"
      ],
      "execution_count": null,
      "outputs": []
    },
    {
      "cell_type": "code",
      "metadata": {
        "id": "Y4rrLNDzHB7m"
      },
      "source": [
        "!g++ temp.cpp; ./a.out"
      ],
      "execution_count": null,
      "outputs": []
    },
    {
      "cell_type": "code",
      "metadata": {
        "id": "srTvyXp_HphZ"
      },
      "source": [
        "%%writefile temp.cpp\n",
        "# include <bits/stdc++.h>\n",
        "#include <memory>\n",
        "\n",
        "class BasicArray {\n",
        " public:\n",
        "    virtual ~BasicArray() {\n",
        "        std::cout << \"BasicArray::~BasicArray() is called.\" << \"\\n\";\n",
        "    }\n",
        "\n",
        "    virtual void Set(int index, int value) = 0;\n",
        "    virtual int Get(int index) const = 0;\n",
        "};\n",
        "\n",
        "class DynamicArray : public BasicArray {\n",
        " public:\n",
        "    DynamicArray(int size, int initial_value) {\n",
        "        data_ = new int[size];\n",
        "        for (auto i = 0; i < size; ++i) {\n",
        "            data_[i] = initial_value;\n",
        "        }\n",
        "    }\n",
        "\n",
        "    ~DynamicArray() override {\n",
        "        std::cout << \"DynamicArray::~DynamicArray() is called.\" << \"\\n\";\n",
        "        delete[] data_;\n",
        "    }\n",
        "\n",
        "    void Set(int index, int value) { data_[index] = value; }\n",
        "\n",
        "    int Get(int index) const { return data_[index]; }\n",
        "\n",
        " private:\n",
        "    int* data_;\n",
        "};\n",
        "\n",
        "int main() {\n",
        "    std::unique_ptr<BasicArray> b(new DynamicArray(5, 1));\n",
        "    std::cout << b->Get(2) << \"\\n\";\n",
        "    b->Set(2, 10);\n",
        "    std::cout << b->Get(2) << \"\\n\";\n",
        "\n",
        "    return 0;\n",
        "}\n"
      ],
      "execution_count": null,
      "outputs": []
    },
    {
      "cell_type": "code",
      "metadata": {
        "id": "YEsQ1oy5HpNV"
      },
      "source": [
        "!g++ temp.cpp; ./a.out"
      ],
      "execution_count": null,
      "outputs": []
    },
    {
      "cell_type": "markdown",
      "metadata": {
        "id": "N_k64eKtIO0I"
      },
      "source": [
        "# 演算子オーバーロード operator overloading"
      ]
    },
    {
      "cell_type": "code",
      "metadata": {
        "id": "1JOxThaPJMlt"
      },
      "source": [
        "# 単項演算子 unary operator\n",
        "%%writefile temp.cpp\n",
        "# include <bits/stdc++.h>\n",
        "\n",
        "class Integer {\n",
        " public:\n",
        "    explicit Integer(int value) : value_(value) {}\n",
        "\n",
        "    int Value() const {\n",
        "        return value_;\n",
        "    }\n",
        "\n",
        " private:\n",
        "    int value_;\n",
        "};\n",
        "\n",
        "// 負号演算子の対象が引数として渡される\n",
        "Integer operator-(const Integer& v) {\n",
        "    Integer tmp(-v.Value());\n",
        "    return tmp;\n",
        "}\n",
        "\n",
        "int main (){\n",
        "    Integer a(2);\n",
        "    Integer b = -a;\n",
        "\n",
        "    std::cout << a.Value() << \"\\n\";  // 2\n",
        "    std::cout << b.Value() << \"\\n\";  // -2\n",
        "}"
      ],
      "execution_count": null,
      "outputs": []
    },
    {
      "cell_type": "code",
      "metadata": {
        "id": "5YtJtEETJJ9P"
      },
      "source": [
        "!g++ temp.cpp; ./a.out"
      ],
      "execution_count": null,
      "outputs": []
    },
    {
      "cell_type": "code",
      "metadata": {
        "id": "Va3o9zqmJJj5"
      },
      "source": [
        "%%writefile temp.cpp\n",
        "# include <bits/stdc++.h>\n",
        "class Integer {\n",
        " public:\n",
        "    explicit Integer(int value) : value_(value) {}\n",
        "\n",
        "    int Value() const {\n",
        "        return value_;\n",
        "    }\n",
        "\n",
        "    // 負号演算子の対象のメンバ関数\n",
        "    Integer operator-() const {\n",
        "        Integer tmp(-Value());  // 演算対象は自オブジェクトを使用する\n",
        "        return tmp;\n",
        "    }\n",
        "\n",
        " private:\n",
        "    int value_;\n",
        "};\n",
        "\n",
        "int main (){\n",
        "    Integer a(2);\n",
        "    Integer b = -a;\n",
        "\n",
        "    std::cout << a.Value() << \"\\n\";  // 2\n",
        "    std::cout << b.Value() << \"\\n\";  // -2\n",
        "}"
      ],
      "execution_count": null,
      "outputs": []
    },
    {
      "cell_type": "code",
      "metadata": {
        "id": "qrkaBUn5Jh0l"
      },
      "source": [
        "!g++ temp.cpp; ./a.out"
      ],
      "execution_count": null,
      "outputs": []
    },
    {
      "cell_type": "code",
      "metadata": {
        "id": "E21TSGceKVj4"
      },
      "source": [
        "# 二項演算子 binary operator\n",
        "%%writefile temp.cpp\n",
        "# include <bits/stdc++.h>\n",
        "class Integer {\n",
        " public:\n",
        "    explicit Integer(int value) : value_(value) {}\n",
        "\n",
        "    int Value() const {\n",
        "        return value_;\n",
        "    }\n",
        "\n",
        " private:\n",
        "    int value_;\n",
        "};\n",
        "\n",
        "// 加算演算子の左辺が第1引数、右辺が第2引数として渡される\n",
        "Integer operator+(const Integer& lhs, const Integer& rhs) {\n",
        "    Integer tmp(lhs.Value() + rhs.Value());\n",
        "    return tmp;\n",
        "}\n",
        "\n",
        "int main (){\n",
        "    Integer a(2);\n",
        "    Integer b(3);\n",
        "    Integer c = a + b;\n",
        "\n",
        "    std::cout << a.Value() << \"\\n\";  // 2\n",
        "    std::cout << b.Value() << \"\\n\";  // 3\n",
        "    std::cout << c.Value() << \"\\n\";  // 5    \n",
        "}\n"
      ],
      "execution_count": null,
      "outputs": []
    },
    {
      "cell_type": "code",
      "metadata": {
        "id": "Y_h7LQyzKVR2"
      },
      "source": [
        "!g++ temp.cpp; ./a.out"
      ],
      "execution_count": null,
      "outputs": []
    },
    {
      "cell_type": "code",
      "metadata": {
        "id": "kgkl4fm0LAOU"
      },
      "source": [
        "%%writefile temp.cpp\n",
        "# include <bits/stdc++.h>\n",
        "class Integer {\n",
        " public:\n",
        "    explicit Integer(int value) : value_(value) {}\n",
        "\n",
        "    int Value() const {\n",
        "        return value_;\n",
        "    }\n",
        "\n",
        "    // 加算演算子の左辺のメンバ関数に対して、右辺が引数として渡される\n",
        "    Integer operator+(const Integer& rhs) const {\n",
        "        Integer tmp(Value() + rhs.Value());  // 左辺は自オブジェクトを使用する\n",
        "        return tmp;\n",
        "    }\n",
        "\n",
        " private:\n",
        "    int value_;\n",
        "};\n",
        "\n",
        "int main (){\n",
        "    Integer a(2);\n",
        "    Integer b(3);\n",
        "    Integer c = a + b;\n",
        "\n",
        "    std::cout << a.Value() << \"\\n\";  // 2\n",
        "    std::cout << b.Value() << \"\\n\";  // 3\n",
        "    std::cout << c.Value() << \"\\n\";  // 5    \n",
        "}\n"
      ],
      "execution_count": null,
      "outputs": []
    },
    {
      "cell_type": "code",
      "metadata": {
        "id": "Sf9Nd-GnK_8A"
      },
      "source": [
        "!g++ temp.cpp; ./a.out"
      ],
      "execution_count": null,
      "outputs": []
    },
    {
      "cell_type": "code",
      "metadata": {
        "id": "Y_UVe-JkL8SP"
      },
      "source": [
        "# 整数クラスと実数クラスの二項演算子\n",
        "%%script false\n",
        "class Integer {\n",
        " public:\n",
        "    explicit Integer(int value) : value_(value) {}\n",
        "\n",
        "    int Value() const {\n",
        "        return value_;\n",
        "    }\n",
        "\n",
        " private:\n",
        "    int value_;\n",
        "};\n",
        "\n",
        "class RealNumber {\n",
        " public:\n",
        "    explicit RealNumber(double value) : value_(value) {}\n",
        "\n",
        "    double Value() const {\n",
        "        return value_;\n",
        "    }\n",
        "\n",
        " private:\n",
        "    double value_;\n",
        "};\n",
        "\n",
        "RealNumber operator+(const Integer& lhs, const RealNumber& rhs) {\n",
        "    RealNumber tmp(lhs.Value() + rhs.Value());\n",
        "    return tmp;\n",
        "}\n",
        "\n",
        "RealNumber operator+(const RealNumber& lhs, const Integer& rhs) {\n",
        "    RealNumber tmp(lhs.Value() + rhs.Value());\n",
        "    return tmp;\n",
        "}"
      ],
      "execution_count": null,
      "outputs": []
    },
    {
      "cell_type": "markdown",
      "metadata": {
        "id": "NLBdSZGlNAPS"
      },
      "source": [
        "# インクリメント/デクリメント/前置/後置 increment/decrement/prefix/postfix"
      ]
    },
    {
      "cell_type": "code",
      "metadata": {
        "id": "v6NkGfdANLn7"
      },
      "source": [
        "%%writefile temp.cpp\n",
        "# include <bits/stdc++.h>\n",
        "\n",
        "class Integer {\n",
        " public:\n",
        "    explicit Integer(int value) : value_(value) {}\n",
        "\n",
        "    int Value() const {\n",
        "        return value_;\n",
        "    }\n",
        "\n",
        "    Integer& operator++() {\n",
        "        ++value_;\n",
        "        return *this;\n",
        "    }\n",
        "\n",
        " private:\n",
        "    int value_;\n",
        "};\n",
        "\n",
        "int main (){\n",
        "    Integer a(2);\n",
        "    Integer b = ++a;\n",
        "\n",
        "    std::cout << a.Value() << \"\\n\";  // 3\n",
        "    std::cout << b.Value() << \"\\n\";  // 3\n",
        "}"
      ],
      "execution_count": null,
      "outputs": []
    },
    {
      "cell_type": "code",
      "metadata": {
        "id": "itU86hHZNMtr"
      },
      "source": [
        "!g++ temp.cpp; ./a.out"
      ],
      "execution_count": null,
      "outputs": []
    },
    {
      "cell_type": "code",
      "metadata": {
        "id": "LE1ckRhTQ2r3"
      },
      "source": [
        "%%writefile temp.cpp\n",
        "# include <bits/stdc++.h>\n",
        "class Integer {\n",
        " public:\n",
        "    explicit Integer(int value) : value_(value) {}\n",
        "\n",
        "    int Value() const {\n",
        "        return value_;\n",
        "    }\n",
        "\n",
        "    Integer operator++(int) {  // 引数の int は使用しない\n",
        "        Integer tmp(Value());\n",
        "        ++value_;\n",
        "        return tmp;\n",
        "    }\n",
        "\n",
        " private:\n",
        "    int value_;\n",
        "};\n",
        "\n",
        "int main (){\n",
        "    Integer a(2);\n",
        "    Integer b = a++;\n",
        "\n",
        "    std::cout << a.Value() << \"\\n\";  // 3\n",
        "    std::cout << b.Value() << \"\\n\";  // 2\n",
        "}"
      ],
      "execution_count": null,
      "outputs": []
    },
    {
      "cell_type": "code",
      "metadata": {
        "id": "S1-9KxlOQ2aE"
      },
      "source": [
        "!g++ temp.cpp; ./a.out"
      ],
      "execution_count": null,
      "outputs": []
    },
    {
      "cell_type": "markdown",
      "metadata": {
        "id": "-VQnOEri3H_R"
      },
      "source": [
        "# 関数テンプレート"
      ]
    },
    {
      "cell_type": "markdown",
      "metadata": {
        "id": "Orwyx-dx5OR0"
      },
      "source": [
        "型やコンパイル時に定まる値をパラメータ化する機能。 型に依存せず処理を共通化するために使用される。"
      ]
    },
    {
      "cell_type": "code",
      "metadata": {
        "id": "vnEUk5sG5UlU"
      },
      "source": [
        "%%writefile temp.cpp\n",
        "# include <bits/stdc++.h>\n",
        "template <typename T>\n",
        "T Sum(T a, T b) {\n",
        "    return a + b;\n",
        "}\n",
        "int main(){\n",
        "    std::cout << Sum<int>(1, 2)  << \"\\n\";         // 3\n",
        "    std::cout << Sum<double>(1.2, 3.4)  << \"\\n\";  // 4.6\n",
        "}\n"
      ],
      "execution_count": null,
      "outputs": []
    },
    {
      "cell_type": "code",
      "metadata": {
        "id": "Kxoo0Fyv5VDX"
      },
      "source": [
        "!g++ temp.cpp; ./a.out"
      ],
      "execution_count": null,
      "outputs": []
    },
    {
      "cell_type": "markdown",
      "metadata": {
        "id": "5SmWlDsj654F"
      },
      "source": [
        "# クラステンプレート"
      ]
    },
    {
      "cell_type": "code",
      "metadata": {
        "id": "s47KvId16-KS"
      },
      "source": [
        "%%writefile temp.cpp\n",
        "# include <bits/stdc++.h>\n",
        "template <typename T>\n",
        "class Rectangle {\n",
        " public:\n",
        "    Rectangle(T height, T width) : height_(height), width_(width) {}\n",
        "\n",
        "    T Area() const {\n",
        "       return height_ * width_;\n",
        "    }\n",
        "\n",
        " private:\n",
        "    const T height_;\n",
        "    const T width_;\n",
        "};\n",
        "int main(){\n",
        "    Rectangle<int> r1(10, 20);\n",
        "    Rectangle<double> r2(1.2, 3.4);\n",
        "    std::cout << r1.Area() << \"\\n\";  // 200\n",
        "    std::cout << r2.Area() << \"\\n\";  // 4.08\n",
        "}"
      ],
      "execution_count": null,
      "outputs": []
    },
    {
      "cell_type": "code",
      "metadata": {
        "id": "L7EcjG2n698I"
      },
      "source": [
        "!g++ temp.cpp; ./a.out"
      ],
      "execution_count": null,
      "outputs": []
    },
    {
      "cell_type": "markdown",
      "metadata": {
        "id": "U7AbLDO09J6L"
      },
      "source": [
        "# アサーション"
      ]
    },
    {
      "cell_type": "code",
      "metadata": {
        "id": "eWh8xJ029MCL"
      },
      "source": [
        "%%writefile temp.cpp\n",
        "#include <cassert>\n",
        "# include <bits/stdc++.h>\n",
        "#include <limits>\n",
        "#include <vector>\n",
        "\n",
        "int Max(const std::vector<int>& v) {\n",
        "    assert(!v.empty());\n",
        "\n",
        "    int max = std::numeric_limits<int>::min();\n",
        "    for (auto e : v) {\n",
        "        if (e > max) {\n",
        "            max = e;\n",
        "        }\n",
        "    }\n",
        "    return max;\n",
        "}\n",
        "\n",
        "int main() {\n",
        "    std::vector<int> v1 = {1, 2, 3, 4, 5};\n",
        "    std::vector<int> v2;\n",
        "\n",
        "    std::cout << Max(v1) << \"\\n\";\n",
        "    std::cout << Max(v2) << \"\\n\";\n",
        "\n",
        "    return 0;\n",
        "}"
      ],
      "execution_count": null,
      "outputs": []
    },
    {
      "cell_type": "code",
      "metadata": {
        "id": "kzA4HO649Mtv"
      },
      "source": [
        "!g++ temp.cpp; ./a.out"
      ],
      "execution_count": null,
      "outputs": []
    },
    {
      "cell_type": "code",
      "metadata": {
        "id": "3MXY1ge89rBI"
      },
      "source": [
        "%%writefile temp.cpp\n",
        "#include <cassert>\n",
        "\n",
        "template <typename T, int N>\n",
        "class Array {\n",
        "    static_assert(N > 0, \"サイズは0より大きくなければなりません\");\n",
        "\n",
        " public:\n",
        "    int size() const { return N; }\n",
        "\n",
        "    T data_[N];  // サイズ 0 の配列はコンパイルエラーにならない\n",
        "};\n",
        "\n",
        "int main() {\n",
        "    Array<int, 0> a;\n",
        "    return 0;\n",
        "}"
      ],
      "execution_count": null,
      "outputs": []
    },
    {
      "cell_type": "code",
      "metadata": {
        "id": "GAzhwbn49qyf"
      },
      "source": [
        "!g++ temp.cpp; ./a.out"
      ],
      "execution_count": null,
      "outputs": []
    }
  ]
}