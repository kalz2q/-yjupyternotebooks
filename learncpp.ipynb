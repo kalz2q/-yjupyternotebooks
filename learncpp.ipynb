{
  "nbformat": 4,
  "nbformat_minor": 0,
  "metadata": {
    "colab": {
      "name": "learncpp.ipynb",
      "provenance": [],
      "collapsed_sections": [],
      "toc_visible": true,
      "authorship_tag": "ABX9TyMf/ouJ/CLbqk738CBMGYhy",
      "include_colab_link": true
    },
    "kernelspec": {
      "name": "python3",
      "display_name": "Python 3"
    }
  },
  "cells": [
    {
      "cell_type": "markdown",
      "metadata": {
        "id": "view-in-github",
        "colab_type": "text"
      },
      "source": [
        "<a href=\"https://colab.research.google.com/github/kalz2q/mycolabnotebooks/blob/master/learncpp.ipynb\" target=\"_parent\"><img src=\"https://colab.research.google.com/assets/colab-badge.svg\" alt=\"Open In Colab\"/></a>"
      ]
    },
    {
      "cell_type": "markdown",
      "metadata": {
        "id": "5sevcYNyHthT"
      },
      "source": [
        "# メモ\n",
        "テキスト\n",
        "1. https://www.w3schools.com/cpp/   w3scoolのC++ Tutorial\n",
        "1. https://rinatz.github.io/cpp-book/ch01-02-hello-world/  ゼロから学ぶC++ (book形式)\n",
        "\n"
      ]
    },
    {
      "cell_type": "markdown",
      "metadata": {
        "id": "DZsWwWMBYra0"
      },
      "source": [
        "セルマジックの `%%writefile` でソースのテキストを書いて、!gcc+ で実行する。 行頭のエクスクラメーションマーク `!` は Unix (Linux, Ubuntu) のシステムコマンドを利用するよ!!!! という意味。`!ls` や `!echo` が使える。\n",
        "\n",
        "Shift+Enter はセルを実行してフォーカスを次のセルに移動するので、便利に使える。"
      ]
    },
    {
      "cell_type": "code",
      "source": [
        "!g++ --version"
      ],
      "metadata": {
        "id": "ADvsIjo5PY0X",
        "outputId": "198d32c0-1bbc-4790-d4a2-a161181207e9",
        "colab": {
          "base_uri": "https://localhost:8080/"
        }
      },
      "execution_count": 1,
      "outputs": [
        {
          "output_type": "stream",
          "name": "stdout",
          "text": [
            "g++ (Ubuntu 7.5.0-3ubuntu1~18.04) 7.5.0\n",
            "Copyright (C) 2017 Free Software Foundation, Inc.\n",
            "This is free software; see the source for copying conditions.  There is NO\n",
            "warranty; not even for MERCHANTABILITY or FITNESS FOR A PARTICULAR PURPOSE.\n",
            "\n"
          ]
        }
      ]
    },
    {
      "cell_type": "code",
      "metadata": {
        "id": "-jTNMcEE-y3-",
        "outputId": "64d599d7-690f-40b6-c804-daad86d67138",
        "colab": {
          "base_uri": "https://localhost:8080/"
        }
      },
      "source": [
        "#\n",
        "%%writefile temp.cpp\n",
        "# include <bits/stdc++.h>\n",
        "using namespace std;\n",
        "\n",
        "int main() {\n",
        "  cout << \"Hello World!\";\n",
        "}"
      ],
      "execution_count": 2,
      "outputs": [
        {
          "output_type": "stream",
          "name": "stdout",
          "text": [
            "Overwriting temp.cpp\n"
          ]
        }
      ]
    },
    {
      "cell_type": "markdown",
      "metadata": {
        "id": "aX9GYppIchv8"
      },
      "source": [
        "これを g++ でコンパイルする。  実行可能ファイル名を `-o` で指定しないと、デフォルトで `a.out` になる。 これを実行する。"
      ]
    },
    {
      "cell_type": "code",
      "metadata": {
        "id": "8Lf0COUH-9ol",
        "outputId": "9df95c96-736a-4098-e751-f45440c72c16",
        "colab": {
          "base_uri": "https://localhost:8080/"
        }
      },
      "source": [
        "!g++ temp.cpp; ./a.out"
      ],
      "execution_count": 3,
      "outputs": [
        {
          "output_type": "stream",
          "name": "stdout",
          "text": [
            "Hello World!"
          ]
        }
      ]
    },
    {
      "cell_type": "code",
      "metadata": {
        "id": "V7FCGvXToerV",
        "outputId": "8a71a895-f3dc-4c2e-b84c-f146987c7f1a",
        "colab": {
          "base_uri": "https://localhost:8080/"
        }
      },
      "source": [
        "# 実験 改行コードとかが使えるかの実験\n",
        "%%writefile temp.cpp\n",
        "# include <bits/stdc++.h>\n",
        "using namespace std;\n",
        "\n",
        "int main() {\n",
        "  cout << \"hello world\\n \\t初めてのC++\" << endl;\n",
        "  cout << \"次の行\";\n",
        "}"
      ],
      "execution_count": 4,
      "outputs": [
        {
          "output_type": "stream",
          "name": "stdout",
          "text": [
            "Overwriting temp.cpp\n"
          ]
        }
      ]
    },
    {
      "cell_type": "code",
      "metadata": {
        "id": "Gdy2RltWBMlU",
        "outputId": "219ebddc-ab29-48d3-fa51-7a5bddecdecf",
        "colab": {
          "base_uri": "https://localhost:8080/"
        }
      },
      "source": [
        "!g++ temp.cpp; ./a.out"
      ],
      "execution_count": 5,
      "outputs": [
        {
          "output_type": "stream",
          "name": "stdout",
          "text": [
            "hello world\n",
            " \t初めてのC++\n",
            "次の行"
          ]
        }
      ]
    },
    {
      "cell_type": "code",
      "metadata": {
        "id": "vHNrx0tRpuBf",
        "outputId": "ff32f728-69e5-4a84-cce3-68b9320b00ba",
        "colab": {
          "base_uri": "https://localhost:8080/"
        }
      },
      "source": [
        "# for 構文\n",
        "# 次のは i を 1 ずつ増やして行って 10回 メッセージを書くプログラム。\n",
        "%%writefile temp.cpp\n",
        "# include <bits/stdc++.h>\n",
        "using namespace std;\n",
        "\n",
        "int main() {\n",
        "  for (int i = 0; i < 10; i++) cout << \"Hello World\" << endl;\n",
        "}\n"
      ],
      "execution_count": 6,
      "outputs": [
        {
          "output_type": "stream",
          "name": "stdout",
          "text": [
            "Overwriting temp.cpp\n"
          ]
        }
      ]
    },
    {
      "cell_type": "code",
      "metadata": {
        "id": "hxXfoxj8Bkb2",
        "outputId": "3f021559-2666-4ed0-f1e5-e7cd5f05c925",
        "colab": {
          "base_uri": "https://localhost:8080/"
        }
      },
      "source": [
        "!g++ temp.cpp; ./a.out"
      ],
      "execution_count": 7,
      "outputs": [
        {
          "output_type": "stream",
          "name": "stdout",
          "text": [
            "Hello World\n",
            "Hello World\n",
            "Hello World\n",
            "Hello World\n",
            "Hello World\n",
            "Hello World\n",
            "Hello World\n",
            "Hello World\n",
            "Hello World\n",
            "Hello World\n"
          ]
        }
      ]
    },
    {
      "cell_type": "markdown",
      "metadata": {
        "id": "VtOagpx9EaSA"
      },
      "source": [
        "コメントは `//`  と `/*` と `*/` \n",
        "\n",
        "`# include <bits/stdc++.h>` はヘッダーライブラリーと呼ばれるもの。\n",
        "\n",
        "`using namespace std` は標準ライブラリーのオブジェクトや変数の名前を使える、と言うこと。\n",
        "\n",
        "`cout` はシーアウトと読み、`<<` とセットで使われる。\n",
        "\n",
        "改行やホワイトスペースについては `int main () { cout << \"Hello World! \"; return 0; }` と続けて書いても同じ。\n",
        "\n"
      ]
    },
    {
      "cell_type": "code",
      "source": [
        "# 変数のタイプ\n",
        "\n",
        "# * int\n",
        "# * double\n",
        "# * char\n",
        "# * \"string\"\n",
        "# * bool (true, false) \n",
        "\n",
        "# など。"
      ],
      "metadata": {
        "id": "9xEHO9jxdjDe"
      },
      "execution_count": 8,
      "outputs": []
    },
    {
      "cell_type": "code",
      "metadata": {
        "id": "Mc2my2c0es1D",
        "outputId": "fc87a007-6a63-40f8-c8a8-1896ad022a6f",
        "colab": {
          "base_uri": "https://localhost:8080/"
        }
      },
      "source": [
        "# cout は文字列と数値を受け付ける\n",
        "%%writefile temp.cpp\n",
        "# include <bits/stdc++.h>\n",
        "using namespace std;\n",
        "\n",
        "int main() {\n",
        "  int myNum = 15;\n",
        "  cout << myNum;\n",
        "}"
      ],
      "execution_count": 9,
      "outputs": [
        {
          "output_type": "stream",
          "name": "stdout",
          "text": [
            "Overwriting temp.cpp\n"
          ]
        }
      ]
    },
    {
      "cell_type": "code",
      "metadata": {
        "id": "JRO5IbRYdIr8",
        "outputId": "601fc75b-2c84-4687-8945-e6a3ae5fb838",
        "colab": {
          "base_uri": "https://localhost:8080/"
        }
      },
      "source": [
        "!g++ temp.cpp; ./a.out"
      ],
      "execution_count": 10,
      "outputs": [
        {
          "output_type": "stream",
          "name": "stdout",
          "text": [
            "15"
          ]
        }
      ]
    },
    {
      "cell_type": "code",
      "metadata": {
        "id": "3aRUXLCpIdJu",
        "colab": {
          "base_uri": "https://localhost:8080/"
        },
        "outputId": "462b9dee-809f-4b01-997b-9237b73e870c"
      },
      "source": [
        "# 変数は上書きできるか => できる。 immutable ではない\n",
        "%%writefile temp.cpp\n",
        "# include <bits/stdc++.h>\n",
        "using namespace std;\n",
        "\n",
        "int main() {\n",
        "  int myNum = 15;   // Now myNum is 15\n",
        "  myNum = 10;       // Now myNum is 10\n",
        "  cout << myNum;\n",
        "}"
      ],
      "execution_count": 11,
      "outputs": [
        {
          "output_type": "stream",
          "name": "stdout",
          "text": [
            "Overwriting temp.cpp\n"
          ]
        }
      ]
    },
    {
      "cell_type": "code",
      "metadata": {
        "id": "yCSbQFadIkgW",
        "colab": {
          "base_uri": "https://localhost:8080/"
        },
        "outputId": "4e43124c-3efb-42f6-802c-9dea62f1aeb9"
      },
      "source": [
        "!g++ temp.cpp; ./a.out"
      ],
      "execution_count": 12,
      "outputs": [
        {
          "output_type": "stream",
          "name": "stdout",
          "text": [
            "10"
          ]
        }
      ]
    },
    {
      "cell_type": "code",
      "metadata": {
        "id": "AyPpeOqOJAYm",
        "colab": {
          "base_uri": "https://localhost:8080/"
        },
        "outputId": "87e7c870-ac92-412a-f89c-b023e5f19019"
      },
      "source": [
        "# 変数の型\n",
        "%%writefile temp.cpp\n",
        "# include <bits/stdc++.h>\n",
        "using namespace std;\n",
        "\n",
        "int main()\n",
        "{\n",
        "    int myNum = 5;            // Integer (whole number without decimals)\n",
        "    double myFloatNum = 5.99; // Floating point number (with decimals)\n",
        "    char myLetter = 'D';      // Character\n",
        "    string myText = \"Hello\";  // String (text)\n",
        "    bool myBoolean = true;    // Boolean (true or false)\n",
        "\n",
        "    cout << myNum << endl;\n",
        "    cout << myFloatNum << endl;\n",
        "    cout << myLetter << endl;\n",
        "    cout << myText << endl;\n",
        "    cout << myBoolean << endl;\n",
        "}"
      ],
      "execution_count": 13,
      "outputs": [
        {
          "output_type": "stream",
          "name": "stdout",
          "text": [
            "Overwriting temp.cpp\n"
          ]
        }
      ]
    },
    {
      "cell_type": "code",
      "metadata": {
        "id": "1gfaLXePKNyp",
        "colab": {
          "base_uri": "https://localhost:8080/"
        },
        "outputId": "61fdbbf8-f15a-4ddc-ba55-6f099f8f5334"
      },
      "source": [
        "!g++ temp.cpp; ./a.out"
      ],
      "execution_count": 14,
      "outputs": [
        {
          "output_type": "stream",
          "name": "stdout",
          "text": [
            "5\n",
            "5.99\n",
            "D\n",
            "Hello\n",
            "1\n"
          ]
        }
      ]
    },
    {
      "cell_type": "code",
      "metadata": {
        "id": "I2hrg56RJB8V",
        "colab": {
          "base_uri": "https://localhost:8080/"
        },
        "outputId": "e8ed7891-1442-4121-bef3-b0cbafd90c92"
      },
      "source": [
        "%%writefile temp.cpp\n",
        "# include <bits/stdc++.h>\n",
        "using namespace std;\n",
        "\n",
        "int main() {\n",
        "  int myAge = 35;\n",
        "  cout << \"I am \" << myAge << \" years old.\";\n",
        "}"
      ],
      "execution_count": 15,
      "outputs": [
        {
          "output_type": "stream",
          "name": "stdout",
          "text": [
            "Overwriting temp.cpp\n"
          ]
        }
      ]
    },
    {
      "cell_type": "code",
      "metadata": {
        "id": "2bnagYq-FYvS",
        "colab": {
          "base_uri": "https://localhost:8080/"
        },
        "outputId": "92eaa86b-47ab-4ed5-d9b9-8b59ac85f62c"
      },
      "source": [
        "!g++ temp.cpp; ./a.out"
      ],
      "execution_count": 16,
      "outputs": [
        {
          "output_type": "stream",
          "name": "stdout",
          "text": [
            "I am 35 years old."
          ]
        }
      ]
    },
    {
      "cell_type": "code",
      "metadata": {
        "id": "lLkTZSs1Fhyx",
        "colab": {
          "base_uri": "https://localhost:8080/"
        },
        "outputId": "df639ce7-4963-4715-89c1-501729067ee2"
      },
      "source": [
        "%%writefile temp.cpp\n",
        "# include <bits/stdc++.h>\n",
        "using namespace std;\n",
        "\n",
        "int main() {\n",
        "  int x = 5;\n",
        "  int y = 6;\n",
        "  int sum = x + y;\n",
        "  cout << sum;\n",
        "}"
      ],
      "execution_count": 17,
      "outputs": [
        {
          "output_type": "stream",
          "name": "stdout",
          "text": [
            "Overwriting temp.cpp\n"
          ]
        }
      ]
    },
    {
      "cell_type": "code",
      "metadata": {
        "id": "2l06UtFVJOCV",
        "colab": {
          "base_uri": "https://localhost:8080/"
        },
        "outputId": "e5760ace-a135-4b7e-d45e-c76da44ecd7f"
      },
      "source": [
        "!g++ temp.cpp; ./a.out"
      ],
      "execution_count": 18,
      "outputs": [
        {
          "output_type": "stream",
          "name": "stdout",
          "text": [
            "11"
          ]
        }
      ]
    },
    {
      "cell_type": "code",
      "metadata": {
        "id": "Q2pqnG9vJYlV",
        "colab": {
          "base_uri": "https://localhost:8080/"
        },
        "outputId": "791c276c-0b5f-44de-c9bf-61455d8d6004"
      },
      "source": [
        "%%writefile temp.cpp\n",
        "# include <bits/stdc++.h>\n",
        "using namespace std;\n",
        "\n",
        "int main() {\n",
        "  int x = 5, y = 6, z = 50;  \n",
        "  cout << x + y + z;\n",
        "}"
      ],
      "execution_count": 19,
      "outputs": [
        {
          "output_type": "stream",
          "name": "stdout",
          "text": [
            "Overwriting temp.cpp\n"
          ]
        }
      ]
    },
    {
      "cell_type": "code",
      "metadata": {
        "id": "VJDodQp8Jgmd",
        "colab": {
          "base_uri": "https://localhost:8080/"
        },
        "outputId": "4883ef39-c255-47e0-e2ae-5a2f7b7af16b"
      },
      "source": [
        "!g++ temp.cpp; ./a.out"
      ],
      "execution_count": 20,
      "outputs": [
        {
          "output_type": "stream",
          "name": "stdout",
          "text": [
            "61"
          ]
        }
      ]
    },
    {
      "cell_type": "code",
      "metadata": {
        "id": "xV3cZma5LXxQ",
        "outputId": "0ef26867-a7b9-43bf-95fc-3c10aaecb2cb",
        "colab": {
          "base_uri": "https://localhost:8080/"
        }
      },
      "source": [
        "%%writefile temp.cpp\n",
        "# include <bits/stdc++.h>\n",
        "using namespace std;\n",
        "\n",
        "int main() {\n",
        "  // Good name\n",
        "  int minutesPerHour = 60;\n",
        "  \n",
        "  // OK, but not so easy to understand what m actually is\n",
        "  int m = 60;\n",
        "  \n",
        "  cout << minutesPerHour << endl;\n",
        "  cout << m;\n",
        "  return 0;\n",
        "}"
      ],
      "execution_count": 21,
      "outputs": [
        {
          "output_type": "stream",
          "name": "stdout",
          "text": [
            "Overwriting temp.cpp\n"
          ]
        }
      ]
    },
    {
      "cell_type": "code",
      "metadata": {
        "id": "fNUgnO2GLcia",
        "outputId": "3c57d72a-78d4-4e20-ca50-72a15dfb04b1",
        "colab": {
          "base_uri": "https://localhost:8080/"
        }
      },
      "source": [
        "!g++ temp.cpp; ./a.out"
      ],
      "execution_count": 22,
      "outputs": [
        {
          "output_type": "stream",
          "name": "stdout",
          "text": [
            "60\n",
            "60"
          ]
        }
      ]
    },
    {
      "cell_type": "code",
      "source": [
        "# C++ の変数名は camelCase(camel case) か、snake_case (snake case) か\n",
        "# どちらの主張もある。 \n",
        "# snake_case が多いみたい。\n",
        "# しかし!!!! snake_case はめんどくさい。\n",
        "# c++ 自体は camelCase を使っているので混ざることになる。\n",
        "# snake_case の方が美しいが、混ざるのは美しくない。\n",
        "# 今の考え。snake_case の方が美しいので、将来、あるレベルに達したら snake_case に統一するかもしれないが、\n",
        "# 学習段階は、どうせいつまでも学習段階なのだし、camelCase で統一する。"
      ],
      "metadata": {
        "id": "i5qsM6R8-Us7"
      },
      "execution_count": 23,
      "outputs": []
    },
    {
      "cell_type": "code",
      "metadata": {
        "id": "IBCUbzB-L36Z",
        "colab": {
          "base_uri": "https://localhost:8080/"
        },
        "outputId": "c0ddabc8-14b7-4f98-c9b6-45da8be0dabe"
      },
      "source": [
        "# const を使うと immutable になる\n",
        "%%writefile temp.cpp\n",
        "# include <bits/stdc++.h>\n",
        "using namespace std;\n",
        "\n",
        "int main() {\n",
        "  const int myNum = 15;\n",
        "  myNum = 10; // error: assignment of read-only variable 'myNum'\n",
        "  cout << myNum;\n",
        "}"
      ],
      "execution_count": 24,
      "outputs": [
        {
          "output_type": "stream",
          "name": "stdout",
          "text": [
            "Overwriting temp.cpp\n"
          ]
        }
      ]
    },
    {
      "cell_type": "code",
      "metadata": {
        "id": "8j4PBhIF-H1S",
        "colab": {
          "base_uri": "https://localhost:8080/"
        },
        "outputId": "c9ba4e95-0663-47d4-83de-a8dfb23af7e8"
      },
      "source": [
        "!g++ temp.cpp; ./a.out"
      ],
      "execution_count": 25,
      "outputs": [
        {
          "output_type": "stream",
          "name": "stdout",
          "text": [
            "\u001b[01m\u001b[Ktemp.cpp:\u001b[m\u001b[K In function ‘\u001b[01m\u001b[Kint main()\u001b[m\u001b[K’:\n",
            "\u001b[01m\u001b[Ktemp.cpp:6:11:\u001b[m\u001b[K \u001b[01;31m\u001b[Kerror: \u001b[m\u001b[Kassignment of read-only variable ‘\u001b[01m\u001b[KmyNum\u001b[m\u001b[K’\n",
            "   myNum = \u001b[01;31m\u001b[K10\u001b[m\u001b[K; // error: assignment of read-only variable 'myNum'\n",
            "           \u001b[01;31m\u001b[K^~\u001b[m\u001b[K\n",
            "60\n",
            "60"
          ]
        }
      ]
    },
    {
      "cell_type": "code",
      "metadata": {
        "id": "RLbtIfo3-ezx",
        "outputId": "3ae743e4-16c5-48fb-9a41-07b9c9e934d0",
        "colab": {
          "base_uri": "https://localhost:8080/"
        }
      },
      "source": [
        "%%writefile temp.cpp\n",
        "# include <bits/stdc++.h>\n",
        "using namespace std;\n",
        "\n",
        "int main() {\n",
        "  const int minutesPerHour = 60;\n",
        "  const float PI = 3.14;\n",
        "  cout << minutesPerHour << endl;\n",
        "  cout << PI;\n",
        "}\n"
      ],
      "execution_count": 26,
      "outputs": [
        {
          "output_type": "stream",
          "name": "stdout",
          "text": [
            "Overwriting temp.cpp\n"
          ]
        }
      ]
    },
    {
      "cell_type": "code",
      "metadata": {
        "id": "G5ydxV_O-jef",
        "outputId": "8a4d5f07-eba4-4061-ba2d-ec5d0cd736a9",
        "colab": {
          "base_uri": "https://localhost:8080/"
        }
      },
      "source": [
        "!g++ temp.cpp; ./a.out"
      ],
      "execution_count": 27,
      "outputs": [
        {
          "output_type": "stream",
          "name": "stdout",
          "text": [
            "60\n",
            "3.14"
          ]
        }
      ]
    },
    {
      "cell_type": "code",
      "metadata": {
        "id": "fQHrZCjS770U",
        "outputId": "0514f8c1-9e52-497a-8498-bc98008d78d7",
        "colab": {
          "base_uri": "https://localhost:8080/"
        }
      },
      "source": [
        "# int num; とだけして出力すると何が入っているか実験\n",
        "#=> int は毎回値が違う。 string は \"\" みたい。\n",
        "%%writefile temp.cpp\n",
        "# include <bits/stdc++.h>\n",
        "using namespace std;\n",
        "\n",
        "int main() {\n",
        "  int num1;\n",
        "  string str1;\n",
        "  int num2;\n",
        "  cout << num1 << endl;\n",
        "  cout << str1 << endl;\n",
        "  cout << num2 << endl;\n",
        "}\n"
      ],
      "execution_count": 28,
      "outputs": [
        {
          "output_type": "stream",
          "name": "stdout",
          "text": [
            "Overwriting temp.cpp\n"
          ]
        }
      ]
    },
    {
      "cell_type": "code",
      "metadata": {
        "id": "cuYmm3yw7-kY",
        "outputId": "71fd73e3-7bc2-4d7f-c879-ce966025648a",
        "colab": {
          "base_uri": "https://localhost:8080/"
        }
      },
      "source": [
        "!g++ temp.cpp; ./a.out"
      ],
      "execution_count": 29,
      "outputs": [
        {
          "output_type": "stream",
          "name": "stdout",
          "text": [
            "-1814172442\n",
            "\n",
            "22007\n"
          ]
        }
      ]
    },
    {
      "cell_type": "code",
      "metadata": {
        "id": "_N9MptadGY1W",
        "outputId": "312837ba-38f1-44eb-f861-0729a710f20a",
        "colab": {
          "base_uri": "https://localhost:8080/"
        }
      },
      "source": [
        "# input\n",
        "# `cin` で標準入力を受け付ける\n",
        "# 次のプログラムは本来はインタラクティブにユーザーが数字を入力することを想定しているが\n",
        "# colab のコードセルでは、インプット待ちになってしまい具合が悪い。\n",
        "# 実行例のように、echo とパイプで入力する数字を明示的にプログラムに渡す\n",
        "%%writefile temp.cpp\n",
        "# include <bits/stdc++.h>\n",
        "using namespace std;\n",
        "\n",
        "int main() {\n",
        "  int x, y;\n",
        "  int sum;\n",
        "  cout << \"Type a number: \";\n",
        "  cin >> x;\n",
        "  cout << \"Type another number: \";\n",
        "  cin >> y;\n",
        "  sum = x + y;\n",
        "  cout << \"Sum is: \" << sum;\n",
        "}"
      ],
      "execution_count": 30,
      "outputs": [
        {
          "output_type": "stream",
          "name": "stdout",
          "text": [
            "Overwriting temp.cpp\n"
          ]
        }
      ]
    },
    {
      "cell_type": "code",
      "metadata": {
        "id": "dKO1hxPIGZYP",
        "outputId": "fc7a1495-d456-4cbd-c410-d6dbf1f143c5",
        "colab": {
          "base_uri": "https://localhost:8080/"
        }
      },
      "source": [
        "!g++ temp.cpp;  echo 3 7 |./a.out"
      ],
      "execution_count": 31,
      "outputs": [
        {
          "output_type": "stream",
          "name": "stdout",
          "text": [
            "Type a number: Type another number: Sum is: 10"
          ]
        }
      ]
    },
    {
      "cell_type": "code",
      "metadata": {
        "id": "rfOWTWDY_3ND",
        "outputId": "e16306f0-b1bd-48cb-9a57-d051b4f86dba",
        "colab": {
          "base_uri": "https://localhost:8080/"
        }
      },
      "source": [
        "# データタイプ\n",
        "%%writefile temp.cpp\n",
        "# include <bits/stdc++.h>\n",
        "using namespace std;\n",
        " \n",
        "int main () {\n",
        "  // Creating variables\n",
        "  int myNum = 5;               // Integer (whole number)\n",
        "  float myFloatNum = 5.99;     // Floating point number\n",
        "  double myDoubleNum = 9.98;   // Floating point number\n",
        "  char myLetter = 'D';         // Character\n",
        "  bool myBoolean = true;       // Boolean\n",
        "  string myString = \"Hello\";   // String\n",
        "   \n",
        "  // Print variable values\n",
        "  cout << \"int: \" << myNum << endl;\n",
        "  cout << \"float: \" << myFloatNum << endl;\n",
        "  cout << \"double: \" << myDoubleNum << endl;\n",
        "  cout << \"char: \" << myLetter << endl;\n",
        "  cout << \"bool: \" << myBoolean << endl;\n",
        "  cout << \"string: \" << myString << endl;\n",
        "}\n"
      ],
      "execution_count": 32,
      "outputs": [
        {
          "output_type": "stream",
          "name": "stdout",
          "text": [
            "Overwriting temp.cpp\n"
          ]
        }
      ]
    },
    {
      "cell_type": "code",
      "metadata": {
        "id": "HqrUg7bf_8qW",
        "outputId": "f7c0f775-0518-47aa-f96d-7b6eaa7cb0e8",
        "colab": {
          "base_uri": "https://localhost:8080/"
        }
      },
      "source": [
        "!g++ temp.cpp; ./a.out"
      ],
      "execution_count": 33,
      "outputs": [
        {
          "output_type": "stream",
          "name": "stdout",
          "text": [
            "int: 5\n",
            "float: 5.99\n",
            "double: 9.98\n",
            "char: D\n",
            "bool: 1\n",
            "string: Hello\n"
          ]
        }
      ]
    },
    {
      "cell_type": "code",
      "metadata": {
        "id": "OWmRqKMBAQ4u",
        "outputId": "ae20c60a-fb2b-457d-a8ce-f6c4a1d8af5c",
        "colab": {
          "base_uri": "https://localhost:8080/"
        }
      },
      "source": [
        "%%writefile temp.cpp\n",
        "# include <bits/stdc++.h>\n",
        "using namespace std;\n",
        " \n",
        "int main () {\n",
        "  float f1 = 35e3;\n",
        "  double d1 = 12E4;\n",
        "  cout << f1 << endl;\n",
        "  cout << d1;\n",
        "}"
      ],
      "execution_count": 34,
      "outputs": [
        {
          "output_type": "stream",
          "name": "stdout",
          "text": [
            "Overwriting temp.cpp\n"
          ]
        }
      ]
    },
    {
      "cell_type": "code",
      "metadata": {
        "id": "_14b2DtCAVpP",
        "outputId": "d30ed300-0b12-4c67-d951-16a013710ef3",
        "colab": {
          "base_uri": "https://localhost:8080/"
        }
      },
      "source": [
        "!g++ temp.cpp; ./a.out"
      ],
      "execution_count": 35,
      "outputs": [
        {
          "output_type": "stream",
          "name": "stdout",
          "text": [
            "35000\n",
            "120000"
          ]
        }
      ]
    },
    {
      "cell_type": "code",
      "metadata": {
        "id": "W0AAUO0bAtxJ",
        "outputId": "f4917e09-2679-40cf-c10d-96efb69e0342",
        "colab": {
          "base_uri": "https://localhost:8080/"
        }
      },
      "source": [
        "# true は 1 で false は 0 \n",
        "%%writefile temp.cpp\n",
        "# include <bits/stdc++.h>\n",
        "using namespace std;\n",
        "\n",
        "int main() {\n",
        "  bool isCodingFun = true;\n",
        "  bool isFishTasty = false;\n",
        "  cout << isCodingFun << endl;\n",
        "  cout << isFishTasty;\n",
        "}"
      ],
      "execution_count": 36,
      "outputs": [
        {
          "output_type": "stream",
          "name": "stdout",
          "text": [
            "Overwriting temp.cpp\n"
          ]
        }
      ]
    },
    {
      "cell_type": "code",
      "metadata": {
        "id": "-gl8iyL5Aym2",
        "outputId": "4d759887-08ea-4e80-90cd-f76d0f28af8d",
        "colab": {
          "base_uri": "https://localhost:8080/"
        }
      },
      "source": [
        "!g++ temp.cpp; ./a.out"
      ],
      "execution_count": 37,
      "outputs": [
        {
          "output_type": "stream",
          "name": "stdout",
          "text": [
            "1\n",
            "0"
          ]
        }
      ]
    },
    {
      "cell_type": "code",
      "metadata": {
        "id": "3IU5jEfcA-X-",
        "outputId": "609a1e3b-739f-4393-d332-22c4b1c86e68",
        "colab": {
          "base_uri": "https://localhost:8080/"
        }
      },
      "source": [
        "%%writefile temp.cpp\n",
        "# include <bits/stdc++.h>\n",
        "using namespace std;\n",
        "int main () {\n",
        "  char myGrade = 'B';\n",
        "  cout << myGrade << endl;\n",
        "}"
      ],
      "execution_count": 38,
      "outputs": [
        {
          "output_type": "stream",
          "name": "stdout",
          "text": [
            "Overwriting temp.cpp\n"
          ]
        }
      ]
    },
    {
      "cell_type": "code",
      "metadata": {
        "id": "NTCm8SvcBCd-",
        "outputId": "4841619a-7a78-475f-a574-442c9b74744e",
        "colab": {
          "base_uri": "https://localhost:8080/"
        }
      },
      "source": [
        "!g++ temp.cpp; ./a.out"
      ],
      "execution_count": 39,
      "outputs": [
        {
          "output_type": "stream",
          "name": "stdout",
          "text": [
            "B\n"
          ]
        }
      ]
    },
    {
      "cell_type": "code",
      "metadata": {
        "id": "0CmJwJybRjc7",
        "outputId": "56a1d9c8-3444-4fda-94f0-d2ea9d8257e4",
        "colab": {
          "base_uri": "https://localhost:8080/"
        }
      },
      "source": [
        "%%writefile temp.cpp\n",
        "# include <bits/stdc++.h>\n",
        "using namespace std;\n",
        "int main () {\n",
        "  char a = 65, b = 66, c = 67;\n",
        "  cout << a;\n",
        "  cout << b;\n",
        "  cout << c;\n",
        "}"
      ],
      "execution_count": 40,
      "outputs": [
        {
          "output_type": "stream",
          "name": "stdout",
          "text": [
            "Overwriting temp.cpp\n"
          ]
        }
      ]
    },
    {
      "cell_type": "code",
      "metadata": {
        "id": "ENlZzWMRRqDt",
        "outputId": "5765ec7d-73a5-4ed2-a5ce-59cb3d726510",
        "colab": {
          "base_uri": "https://localhost:8080/"
        }
      },
      "source": [
        "!g++ temp.cpp; ./a.out"
      ],
      "execution_count": 41,
      "outputs": [
        {
          "output_type": "stream",
          "name": "stdout",
          "text": [
            "ABC"
          ]
        }
      ]
    },
    {
      "cell_type": "code",
      "metadata": {
        "id": "DpEyG2779GDK",
        "colab": {
          "base_uri": "https://localhost:8080/"
        },
        "outputId": "f25017be-d7da-4db4-cf89-70948c1d4ee4"
      },
      "source": [
        "%%writefile temp.cpp\n",
        "# include <bits/stdc++.h>\n",
        "using namespace std;\n",
        "\n",
        "int main() {\n",
        "  string greeting = \"Hello\";\n",
        "  cout << greeting;\n",
        "}"
      ],
      "execution_count": 42,
      "outputs": [
        {
          "output_type": "stream",
          "name": "stdout",
          "text": [
            "Overwriting temp.cpp\n"
          ]
        }
      ]
    },
    {
      "cell_type": "code",
      "metadata": {
        "id": "W25cg3YA9Mbi",
        "colab": {
          "base_uri": "https://localhost:8080/"
        },
        "outputId": "a9050dac-0efb-4a28-d982-b05c8a23872b"
      },
      "source": [
        "!g++ temp.cpp; ./a.out"
      ],
      "execution_count": 43,
      "outputs": [
        {
          "output_type": "stream",
          "name": "stdout",
          "text": [
            "Hello"
          ]
        }
      ]
    },
    {
      "cell_type": "code",
      "source": [
        "# メモ endl\n",
        "# cout で \"\\n\" と endl の違いは endl は \"\\n\" とストリームのフラッシュアウトを行っている\n",
        "# cout を使った時は必ず endl も加えるのが良いと思う"
      ],
      "metadata": {
        "id": "mYkfn0oZwySb"
      },
      "execution_count": 44,
      "outputs": []
    },
    {
      "cell_type": "code",
      "source": [
        "# 質問 int main と return 0\n",
        "# なぜ main は int なのか\n",
        "# なぜ main は return 0 なのか"
      ],
      "metadata": {
        "id": "joF8em99xhu8"
      },
      "execution_count": 45,
      "outputs": []
    },
    {
      "cell_type": "code",
      "metadata": {
        "id": "_EayjJ3W9g0a",
        "colab": {
          "base_uri": "https://localhost:8080/"
        },
        "outputId": "72aee2fc-b263-43a2-c3e3-4214542c5237"
      },
      "source": [
        "# 演算子\n",
        "# 四則演算\n",
        "%%writefile temp.cpp\n",
        "# include <bits/stdc++.h>\n",
        "using namespace std;\n",
        "\n",
        "int main() {\n",
        "  int x = 5;\n",
        "  int y = 2;\n",
        "  cout << \"5 / 2 = \" << x / y << endl;\n",
        "  cout << \"5 % 2 = \" << x % y ;\n",
        "}\n"
      ],
      "execution_count": 46,
      "outputs": [
        {
          "output_type": "stream",
          "name": "stdout",
          "text": [
            "Overwriting temp.cpp\n"
          ]
        }
      ]
    },
    {
      "cell_type": "code",
      "metadata": {
        "id": "KDvLHObl9z0h",
        "colab": {
          "base_uri": "https://localhost:8080/"
        },
        "outputId": "d3a0736f-56c4-454b-8ba3-2ac8afcf8b37"
      },
      "source": [
        "!g++ temp.cpp; ./a.out"
      ],
      "execution_count": 47,
      "outputs": [
        {
          "output_type": "stream",
          "name": "stdout",
          "text": [
            "5 / 2 = 2\n",
            "5 % 2 = 1"
          ]
        }
      ]
    },
    {
      "cell_type": "code",
      "metadata": {
        "id": "mwz_2IN6-slS",
        "colab": {
          "base_uri": "https://localhost:8080/"
        },
        "outputId": "ea107076-bafc-44c1-da84-eb4936fb57f1"
      },
      "source": [
        "# 引数がマイナスの場合の結果が Python と違う!!!!\n",
        "%%writefile temp.cpp\n",
        "# include <bits/stdc++.h>\n",
        "using namespace std;\n",
        "\n",
        "int main() {\n",
        "  int x = -5;\n",
        "  int y = 2;\n",
        "  cout << \"-5 / 2 = \" << x / y << endl;\n",
        "  cout << \"-5 % 2 = \" << x % y ;\n",
        "}"
      ],
      "execution_count": 48,
      "outputs": [
        {
          "output_type": "stream",
          "name": "stdout",
          "text": [
            "Overwriting temp.cpp\n"
          ]
        }
      ]
    },
    {
      "cell_type": "code",
      "metadata": {
        "id": "qgdR8ljE-yzv",
        "colab": {
          "base_uri": "https://localhost:8080/"
        },
        "outputId": "e71a08b6-f449-425f-ed90-b6f425cba6dd"
      },
      "source": [
        "!g++ temp.cpp; ./a.out"
      ],
      "execution_count": 49,
      "outputs": [
        {
          "output_type": "stream",
          "name": "stdout",
          "text": [
            "-5 / 2 = -2\n",
            "-5 % 2 = -1"
          ]
        }
      ]
    },
    {
      "cell_type": "code",
      "metadata": {
        "id": "txQnJ6OoGvrH",
        "colab": {
          "base_uri": "https://localhost:8080/"
        },
        "outputId": "72392521-98e8-420e-9760-b57e35fc241b"
      },
      "source": [
        "print(-5 / 2)\n",
        "print(-5//2)\n",
        "print(-5 % 2)"
      ],
      "execution_count": 50,
      "outputs": [
        {
          "output_type": "stream",
          "name": "stdout",
          "text": [
            "-2.5\n",
            "-3\n",
            "1\n"
          ]
        }
      ]
    },
    {
      "cell_type": "code",
      "metadata": {
        "id": "TlAjyukyHOJy",
        "colab": {
          "base_uri": "https://localhost:8080/"
        },
        "outputId": "8a5bee8f-63db-43c7-aa9d-afce9a913f64"
      },
      "source": [
        "# 冪乗はどうするのか。 python では -5**3 と書くが\n",
        "# pow() を使う\n",
        "%%writefile temp.cpp\n",
        "# include <bits/stdc++.h> // <cmath> も含まれる\n",
        "using namespace std;\n",
        "\n",
        "int main() {\n",
        "  int x = -5;\n",
        "  int y = 3;\n",
        "  cout << \"pow(-5, 3) = \" << pow(x, y) << endl;\n",
        "  cout << \"pow(\" << y << \", \" << x << \") = \" << pow(y, x);\n",
        "}"
      ],
      "execution_count": 51,
      "outputs": [
        {
          "output_type": "stream",
          "name": "stdout",
          "text": [
            "Overwriting temp.cpp\n"
          ]
        }
      ]
    },
    {
      "cell_type": "code",
      "metadata": {
        "id": "dT-3wFH6HezZ",
        "colab": {
          "base_uri": "https://localhost:8080/"
        },
        "outputId": "f079cd61-d44f-4a52-e7d6-420e30c9d526"
      },
      "source": [
        "!g++ temp.cpp; ./a.out"
      ],
      "execution_count": 52,
      "outputs": [
        {
          "output_type": "stream",
          "name": "stdout",
          "text": [
            "pow(-5, 3) = -125\n",
            "pow(3, -5) = 0.00411523"
          ]
        }
      ]
    },
    {
      "cell_type": "code",
      "metadata": {
        "id": "b4Nys8y_vBT1",
        "colab": {
          "base_uri": "https://localhost:8080/"
        },
        "outputId": "2cbfc163-386a-4d6f-c1cb-de0ba94faedc"
      },
      "source": [
        "# アサインメント演算子\n",
        "%%writefile temp.cpp\n",
        "# include <bits/stdc++.h>\n",
        "using namespace std;\n",
        "\n",
        "int main() {\n",
        "  int x = 5;\n",
        "  x += 3;\n",
        "  cout << x << endl;\n",
        "  cout << x-- << endl;\n",
        "  cout << x << endl;\n",
        "  cout << --x << endl;\n",
        "}"
      ],
      "execution_count": 53,
      "outputs": [
        {
          "output_type": "stream",
          "name": "stdout",
          "text": [
            "Overwriting temp.cpp\n"
          ]
        }
      ]
    },
    {
      "cell_type": "code",
      "metadata": {
        "id": "4pyoHRQBvg_z",
        "colab": {
          "base_uri": "https://localhost:8080/"
        },
        "outputId": "14428ad3-496e-4ddb-e1eb-34073cc83450"
      },
      "source": [
        "!g++ temp.cpp; ./a.out"
      ],
      "execution_count": 54,
      "outputs": [
        {
          "output_type": "stream",
          "name": "stdout",
          "text": [
            "8\n",
            "8\n",
            "7\n",
            "6\n"
          ]
        }
      ]
    },
    {
      "cell_type": "code",
      "metadata": {
        "id": "Hpc2_pUod-fM",
        "colab": {
          "base_uri": "https://localhost:8080/"
        },
        "outputId": "09dcdf0a-aa2b-4ae7-e1e1-1267f7436b5c"
      },
      "source": [
        "# ビット演算子\n",
        "# 5 は 2進数で 101、4 は 100 なので & を取ると、100 で 4 になる。\n",
        "%%writefile temp.cpp\n",
        "# include <bits/stdc++.h>\n",
        "using namespace std;\n",
        "\n",
        "int main() {\n",
        "    int x = 5;\n",
        "    x &= 4;\n",
        "    cout << x;\n",
        "}"
      ],
      "execution_count": 55,
      "outputs": [
        {
          "output_type": "stream",
          "name": "stdout",
          "text": [
            "Overwriting temp.cpp\n"
          ]
        }
      ]
    },
    {
      "cell_type": "code",
      "metadata": {
        "id": "Co6kI7K9eHMS",
        "colab": {
          "base_uri": "https://localhost:8080/"
        },
        "outputId": "3cde1686-8498-4a11-deed-c8841666d16b"
      },
      "source": [
        "!g++ temp.cpp; ./a.out"
      ],
      "execution_count": 56,
      "outputs": [
        {
          "output_type": "stream",
          "name": "stdout",
          "text": [
            "4"
          ]
        }
      ]
    },
    {
      "cell_type": "code",
      "source": [
        "%%html\n",
        "<style>\n",
        "    tr td:nth-child(2) {\n",
        "        color: red;\n",
        "        text-align: center;\n",
        "    }\n",
        "</style>\n",
        "<table border=\"1\">\n",
        "<thead>\n",
        "<tr><th>ビット演算</th><th>演算子</th><th>意味</th></tr>\n",
        "</thead>\n",
        "<tbody>\n",
        "<tr><td>ビット毎のAND演算</td><td>&</td><td>各ビットについて「両方のビットが1ならば1」という操作を適用する。</td></tr>\n",
        "<tr><td>ビット毎のOR演算</td><td>|</td><td>各ビットについて「少なくとも一方のビットが1ならば1」という操作を適用する。</td></tr>\n",
        "<tr><td>ビット毎のXOR演算</td><td>^</td><td>各ビットについて「どちらか一方だけが1ならば1」という操作を適用する。</td></tr>\n",
        "<tr><td>ビット毎のNOT演算</td><td>~</td><td>各ビットについて「ビットを反転する」という操作を適用する。</td></tr>\n",
        "<tr><td>左シフト演算</td><td><<</td><td>指定したビット数だけビット列を左にずらす。範囲外のビットは切り捨てられ、足りないビットは0で埋められる。</td></tr>\n",
        "<tr><td>右シフト演算</td><td>>></td><td>指定したビット数だけビット列を右にずらす。範囲外のビットは切り捨てられ、足りないビットは0で埋められる。</td></tr>\n",
        "</tbody>\n",
        "</table>"
      ],
      "metadata": {
        "colab": {
          "base_uri": "https://localhost:8080/",
          "height": 184
        },
        "id": "7ltxraARyrpM",
        "outputId": "40fbf762-44ed-4e44-d8dc-c2386016c3dc"
      },
      "execution_count": 57,
      "outputs": [
        {
          "output_type": "display_data",
          "data": {
            "text/plain": [
              "<IPython.core.display.HTML object>"
            ],
            "text/html": [
              "<style>\n",
              "    tr td:nth-child(2) {\n",
              "        color: red;\n",
              "        text-align: center;\n",
              "    }\n",
              "</style>\n",
              "<table border=\"1\">\n",
              "<thead>\n",
              "<tr><th>ビット演算</th><th>演算子</th><th>意味</th></tr>\n",
              "</thead>\n",
              "<tbody>\n",
              "<tr><td>ビット毎のAND演算</td><td>&</td><td>各ビットについて「両方のビットが1ならば1」という操作を適用する。</td></tr>\n",
              "<tr><td>ビット毎のOR演算</td><td>|</td><td>各ビットについて「少なくとも一方のビットが1ならば1」という操作を適用する。</td></tr>\n",
              "<tr><td>ビット毎のXOR演算</td><td>^</td><td>各ビットについて「どちらか一方だけが1ならば1」という操作を適用する。</td></tr>\n",
              "<tr><td>ビット毎のNOT演算</td><td>~</td><td>各ビットについて「ビットを反転する」という操作を適用する。</td></tr>\n",
              "<tr><td>左シフト演算</td><td><<</td><td>指定したビット数だけビット列を左にずらす。範囲外のビットは切り捨てられ、足りないビットは0で埋められる。</td></tr>\n",
              "<tr><td>右シフト演算</td><td>>></td><td>指定したビット数だけビット列を右にずらす。範囲外のビットは切り捨てられ、足りないビットは0で埋められる。</td></tr>\n",
              "</tbody>\n",
              "</table>"
            ]
          },
          "metadata": {}
        }
      ]
    },
    {
      "cell_type": "code",
      "source": [
        "# 2進数 10進数 相互変換\n",
        "%%writefile temp.cpp\n",
        "# include <bits/stdc++.h>\n",
        "using namespace std;\n",
        "\n",
        "int main() {\n",
        "    bitset<3> x(4);\n",
        "    bitset<3> y = 5;\n",
        "    bitset<3> z(0b111);\n",
        "    bitset<3> a(\"010\");\n",
        "    cout << x << endl;\n",
        "    cout << y << endl;\n",
        "    cout << z << endl;\n",
        "    cout << a << endl;\n",
        "    cout << a.to_ullong() << endl; // ビットセットの内容を unsigned long long 整数に変換\n",
        "}"
      ],
      "metadata": {
        "colab": {
          "base_uri": "https://localhost:8080/"
        },
        "id": "ixIvpcsJK0u_",
        "outputId": "1c4140f3-8826-4662-b058-25b5cf12b3ae"
      },
      "execution_count": 58,
      "outputs": [
        {
          "output_type": "stream",
          "name": "stdout",
          "text": [
            "Overwriting temp.cpp\n"
          ]
        }
      ]
    },
    {
      "cell_type": "code",
      "source": [
        "!g++ temp.cpp; ./a.out"
      ],
      "metadata": {
        "colab": {
          "base_uri": "https://localhost:8080/"
        },
        "id": "XRpLe0v7LTuw",
        "outputId": "4663e65d-ef2b-4726-bb8b-eafca59650ad"
      },
      "execution_count": 59,
      "outputs": [
        {
          "output_type": "stream",
          "name": "stdout",
          "text": [
            "100\n",
            "101\n",
            "111\n",
            "010\n",
            "2\n"
          ]
        }
      ]
    },
    {
      "cell_type": "code",
      "metadata": {
        "id": "DoppkUDGfF7C",
        "colab": {
          "base_uri": "https://localhost:8080/"
        },
        "outputId": "21c01bd0-37a0-40d2-8bce-bcd240a0be97"
      },
      "source": [
        "import numpy as np\n",
        "print(np.base_repr(5, 2))\n",
        "print(np.base_repr(4,2))"
      ],
      "execution_count": 60,
      "outputs": [
        {
          "output_type": "stream",
          "name": "stdout",
          "text": [
            "101\n",
            "100\n"
          ]
        }
      ]
    },
    {
      "cell_type": "code",
      "metadata": {
        "id": "3BUv3ygpf4rH",
        "colab": {
          "base_uri": "https://localhost:8080/"
        },
        "outputId": "664588a0-4a2c-4245-e936-2f7ac05244f8"
      },
      "source": [
        "# 5 は 2進数で 101 で、これを `<<` で 3桁左にずらすと 101000 にな\n",
        "%%writefile temp.cpp\n",
        "# include <bits/stdc++.h>\n",
        "using namespace std;\n",
        "\n",
        "int main() {\n",
        "  int x = 5;\n",
        "  x <<= 3;\n",
        "  cout << x << endl;\n",
        "  bitset<8> y = x;\n",
        "  cout << y << endl;\n",
        "  cout << bitset<8>(x) << endl;\n",
        "}"
      ],
      "execution_count": 61,
      "outputs": [
        {
          "output_type": "stream",
          "name": "stdout",
          "text": [
            "Overwriting temp.cpp\n"
          ]
        }
      ]
    },
    {
      "cell_type": "code",
      "metadata": {
        "id": "TJ1DijnqgAHr",
        "colab": {
          "base_uri": "https://localhost:8080/"
        },
        "outputId": "448de7ee-e64d-4000-e6a9-69d512d7581c"
      },
      "source": [
        "!g++ temp.cpp; ./a.out"
      ],
      "execution_count": 62,
      "outputs": [
        {
          "output_type": "stream",
          "name": "stdout",
          "text": [
            "40\n",
            "00101000\n",
            "00101000\n"
          ]
        }
      ]
    },
    {
      "cell_type": "markdown",
      "metadata": {
        "id": "WV8MmKZ6gqSw"
      },
      "source": [
        "文字列 string\n"
      ]
    },
    {
      "cell_type": "code",
      "metadata": {
        "id": "JV2gT3iagztB",
        "colab": {
          "base_uri": "https://localhost:8080/"
        },
        "outputId": "552116d2-09eb-41b7-f095-f9c5d849ef8d"
      },
      "source": [
        "%%writefile temp.cpp\n",
        "# include <bits/stdc++.h>\n",
        "using namespace std;\n",
        "int main() {\n",
        "  string greeting = \"Hello\";\n",
        "  cout << greeting;\n",
        "}"
      ],
      "execution_count": 63,
      "outputs": [
        {
          "output_type": "stream",
          "name": "stdout",
          "text": [
            "Overwriting temp.cpp\n"
          ]
        }
      ]
    },
    {
      "cell_type": "code",
      "metadata": {
        "id": "snL3f-Vrg5jt",
        "colab": {
          "base_uri": "https://localhost:8080/"
        },
        "outputId": "c225e1d6-03eb-44c0-af77-a1faae8ea313"
      },
      "source": [
        "!g++ temp.cpp; ./a.out"
      ],
      "execution_count": 64,
      "outputs": [
        {
          "output_type": "stream",
          "name": "stdout",
          "text": [
            "Hello"
          ]
        }
      ]
    },
    {
      "cell_type": "markdown",
      "metadata": {
        "id": "TLwB2_twB0xJ"
      },
      "source": [
        "string concatenation"
      ]
    },
    {
      "cell_type": "code",
      "metadata": {
        "id": "llvccZAOBmoX",
        "colab": {
          "base_uri": "https://localhost:8080/"
        },
        "outputId": "a7c312c7-b451-461d-e08c-3fa4acb15a7b"
      },
      "source": [
        "# 文字列連結 string concatination `+`\n",
        "%%writefile temp.cpp\n",
        "# include <bits/stdc++.h>\n",
        "#include <string>\n",
        "using namespace std;\n",
        "int main () {\n",
        "  string firstName = \"John \";\n",
        "  string lastName = \"Doe\";\n",
        "  string fullName = firstName + lastName;\n",
        "  cout << fullName;\n",
        "}"
      ],
      "execution_count": 65,
      "outputs": [
        {
          "output_type": "stream",
          "name": "stdout",
          "text": [
            "Overwriting temp.cpp\n"
          ]
        }
      ]
    },
    {
      "cell_type": "code",
      "metadata": {
        "id": "r995sRAhBrIa",
        "colab": {
          "base_uri": "https://localhost:8080/"
        },
        "outputId": "42070690-4022-4a9b-a282-d6e491a77939"
      },
      "source": [
        "!g++ temp.cpp; ./a.out"
      ],
      "execution_count": 66,
      "outputs": [
        {
          "output_type": "stream",
          "name": "stdout",
          "text": [
            "John Doe"
          ]
        }
      ]
    },
    {
      "cell_type": "code",
      "metadata": {
        "id": "-iqkU708CLAj",
        "colab": {
          "base_uri": "https://localhost:8080/"
        },
        "outputId": "7929112b-eae1-47c7-a5a3-d2f0e6ff6bc5"
      },
      "source": [
        "%%writefile temp.cpp\n",
        "# include <bits/stdc++.h>\n",
        "using namespace std;\n",
        " \n",
        "int main () {\n",
        "  string firstName = \"John \";\n",
        "  string lastName = \"Doe\";\n",
        "  string fullName = firstName.append(lastName);\n",
        "  cout << fullName;\n",
        "}\n"
      ],
      "execution_count": 67,
      "outputs": [
        {
          "output_type": "stream",
          "name": "stdout",
          "text": [
            "Overwriting temp.cpp\n"
          ]
        }
      ]
    },
    {
      "cell_type": "code",
      "metadata": {
        "id": "SJR6YJUbCU_o",
        "colab": {
          "base_uri": "https://localhost:8080/"
        },
        "outputId": "8821940d-9a75-4ba3-8df4-918d8ae67d6f"
      },
      "source": [
        "!g++ temp.cpp; ./a.out"
      ],
      "execution_count": 68,
      "outputs": [
        {
          "output_type": "stream",
          "name": "stdout",
          "text": [
            "John Doe"
          ]
        }
      ]
    },
    {
      "cell_type": "code",
      "metadata": {
        "id": "O8rjyAcwCzW5",
        "colab": {
          "base_uri": "https://localhost:8080/"
        },
        "outputId": "863ca11a-ec2f-4650-d84d-cb81a574e140"
      },
      "source": [
        "%%writefile temp.cpp\n",
        "# include <bits/stdc++.h>\n",
        "using namespace std;\n",
        "int main() {\n",
        "  string txt = \"ABCDEFGHIJKLMNOPQRSTUVWXYZ\";\n",
        "  cout << \"The length of the txt string is: \" << txt.length() << endl;\n",
        "  cout << \"The size of the txt string is: \" << txt.size() << endl;\n",
        "}"
      ],
      "execution_count": 69,
      "outputs": [
        {
          "output_type": "stream",
          "name": "stdout",
          "text": [
            "Overwriting temp.cpp\n"
          ]
        }
      ]
    },
    {
      "cell_type": "code",
      "metadata": {
        "id": "bN8osuBqC8Oe",
        "colab": {
          "base_uri": "https://localhost:8080/"
        },
        "outputId": "f4ab088b-71f3-4fff-bdcc-8b5267d6961e"
      },
      "source": [
        "!g++ temp.cpp; ./a.out"
      ],
      "execution_count": 70,
      "outputs": [
        {
          "output_type": "stream",
          "name": "stdout",
          "text": [
            "The length of the txt string is: 26\n",
            "The size of the txt string is: 26\n"
          ]
        }
      ]
    },
    {
      "cell_type": "code",
      "metadata": {
        "id": "Fwhtd7A5Dn6V",
        "colab": {
          "base_uri": "https://localhost:8080/"
        },
        "outputId": "045fea2b-3508-41cb-bffc-401c8996f078"
      },
      "source": [
        "# txt.length() と txt.size() は同じか\n",
        "# 2バイト文字(全角文字)を数えない点も含め、同じみたい\n",
        "%%writefile temp.cpp\n",
        "# include <bits/stdc++.h>\n",
        "using namespace std;\n",
        "int main() {\n",
        "  string txt = \"日本語\";\n",
        "  cout << txt << endl;\n",
        "  cout << \"The length of the txt string is: \" << txt.length() << endl;\n",
        "  cout << \"The size of the txt string is: \" << txt.size() << endl;\n",
        "}"
      ],
      "execution_count": 71,
      "outputs": [
        {
          "output_type": "stream",
          "name": "stdout",
          "text": [
            "Overwriting temp.cpp\n"
          ]
        }
      ]
    },
    {
      "cell_type": "code",
      "metadata": {
        "id": "tFZQBolJDn6V",
        "colab": {
          "base_uri": "https://localhost:8080/"
        },
        "outputId": "e763e339-ede9-461e-fb5a-f96f15f1323b"
      },
      "source": [
        "!g++ temp.cpp; ./a.out"
      ],
      "execution_count": 72,
      "outputs": [
        {
          "output_type": "stream",
          "name": "stdout",
          "text": [
            "日本語\n",
            "The length of the txt string is: 9\n",
            "The size of the txt string is: 9\n"
          ]
        }
      ]
    },
    {
      "cell_type": "code",
      "source": [
        "# 関数で vector を返り値にする\n",
        "# str2vec で文字列を vector にする\n",
        "# 文字列は utf-8 が前提\n",
        "%%writefile temp.cpp\n",
        "# include <bits/stdc++.h>\n",
        "using namespace std;\n",
        "\n",
        "int count_byte(char c){\n",
        "    if ((c & 0x80) == 0) return 1;\n",
        "    else if ((c & 0xe0) == 0xc0) return 2;\n",
        "    else if ((c & 0xf0) == 0xe0) return 3;\n",
        "    else return 4;\n",
        "}\n",
        "\n",
        "vector<string> str2vec(string &str){\n",
        "    vector<string> vec;\n",
        "    for (int i = 0 ; i < str.size(); i += count_byte(str.at(i))){\n",
        "        vec.push_back(str.substr(i,count_byte(str.at(i))));\n",
        "    }    \n",
        "    return vec;\n",
        "}\n",
        "\n",
        "int main() {\n",
        "    string str;\n",
        "    getline(cin, str);\n",
        "    vector<string> vec;\n",
        "    vec = str2vec(str);\n",
        "    for (auto& item : vec) {\n",
        "        cout << item;\n",
        "    };\n",
        "    cout << endl;\n",
        "    cout << \"文字列の長さは \" << vec.size() << \" です。\" << endl;\n",
        "}"
      ],
      "metadata": {
        "id": "LNYM-g0NkM9w",
        "outputId": "a1841021-84cd-4378-a129-f7b5102d284d",
        "colab": {
          "base_uri": "https://localhost:8080/"
        }
      },
      "execution_count": 73,
      "outputs": [
        {
          "output_type": "stream",
          "name": "stdout",
          "text": [
            "Overwriting temp.cpp\n"
          ]
        }
      ]
    },
    {
      "cell_type": "code",
      "source": [
        "!g++ temp.cpp; echo \"日本語\" |./a.out"
      ],
      "metadata": {
        "id": "BnmfvB0QkOFx",
        "outputId": "910c6acc-1718-4977-96c1-bf5670d0a122",
        "colab": {
          "base_uri": "https://localhost:8080/"
        }
      },
      "execution_count": 74,
      "outputs": [
        {
          "output_type": "stream",
          "name": "stdout",
          "text": [
            "日本語\n",
            "文字列の長さは 3 です。\n"
          ]
        }
      ]
    },
    {
      "cell_type": "code",
      "metadata": {
        "id": "N3yk1iHVaYc0",
        "colab": {
          "base_uri": "https://localhost:8080/"
        },
        "outputId": "efce6583-5596-4ac7-edef-0e507749f7c2"
      },
      "source": [
        "%%writefile temp.cpp\n",
        "# include <bits/stdc++.h>\n",
        "#include <string>\n",
        "using namespace std;\n",
        "int main() {\n",
        "  string myString = \"Hello\";\n",
        "  myString[0] = 'J';\n",
        "  cout << myString << endl;\n",
        "}\n"
      ],
      "execution_count": 75,
      "outputs": [
        {
          "output_type": "stream",
          "name": "stdout",
          "text": [
            "Overwriting temp.cpp\n"
          ]
        }
      ]
    },
    {
      "cell_type": "code",
      "metadata": {
        "id": "iOu-_DX2akcc",
        "colab": {
          "base_uri": "https://localhost:8080/"
        },
        "outputId": "86480722-3e44-4ac4-d8cf-0e1f155740e2"
      },
      "source": [
        "!g++ temp.cpp; ./a.out"
      ],
      "execution_count": 76,
      "outputs": [
        {
          "output_type": "stream",
          "name": "stdout",
          "text": [
            "Jello\n"
          ]
        }
      ]
    },
    {
      "cell_type": "code",
      "metadata": {
        "id": "7Bk6CAf-bGft",
        "colab": {
          "base_uri": "https://localhost:8080/"
        },
        "outputId": "7aa298d2-53bf-4e23-b78c-01db5f4aa98e"
      },
      "source": [
        "# 行を取り込む\n",
        "# 説明 $\\quad$ `cin >> fullName;` とすると、スペースで区切られたインプットの\n",
        "# スペース前が代入されて行全体が代入されないので、`getline (cin, fullName);` とする。\n",
        "%%writefile temp.cpp\n",
        "# include <bits/stdc++.h>\n",
        "using namespace std;\n",
        "int main() {\n",
        "  string fullName;\n",
        "  // cout << \"Type your full name: \";\n",
        "  getline (cin, fullName);\n",
        "  cout << \"Your name is: \" << fullName;\n",
        "}\n"
      ],
      "execution_count": 77,
      "outputs": [
        {
          "output_type": "stream",
          "name": "stdout",
          "text": [
            "Overwriting temp.cpp\n"
          ]
        }
      ]
    },
    {
      "cell_type": "code",
      "metadata": {
        "id": "ncf-dL8fljoH",
        "colab": {
          "base_uri": "https://localhost:8080/"
        },
        "outputId": "157a435a-fa62-4541-9c3d-9506343221b2"
      },
      "source": [
        "!g++ temp.cpp; echo Abraham Lincoln | ./a.out"
      ],
      "execution_count": 78,
      "outputs": [
        {
          "output_type": "stream",
          "name": "stdout",
          "text": [
            "Your name is: Abraham Lincoln"
          ]
        }
      ]
    },
    {
      "cell_type": "markdown",
      "metadata": {
        "id": "nGgjeu8CJ3zu"
      },
      "source": [
        "ネームスペースのの省略\n",
        "\n",
        "```\n",
        "using namespace std;\n",
        "```\n",
        "\n",
        "を省略したときの書き方。 `::` をつける。\n"
      ]
    },
    {
      "cell_type": "code",
      "metadata": {
        "id": "DqYJWTLfTHA0",
        "colab": {
          "base_uri": "https://localhost:8080/"
        },
        "outputId": "3bed01bc-b81e-4104-a95e-caf4cf7600b3"
      },
      "source": [
        "# Math\n",
        "%%writefile temp.cpp\n",
        "# include <bits/stdc++.h>\n",
        "using namespace std;\n",
        "int main() {\n",
        "  cout << max(5, 10);\n",
        "}"
      ],
      "execution_count": 81,
      "outputs": [
        {
          "output_type": "stream",
          "name": "stdout",
          "text": [
            "Overwriting temp.cpp\n"
          ]
        }
      ]
    },
    {
      "cell_type": "code",
      "metadata": {
        "id": "m-Q7U_LkTPSy",
        "colab": {
          "base_uri": "https://localhost:8080/"
        },
        "outputId": "0515449d-e82a-4f81-b379-8f86b7ca653d"
      },
      "source": [
        "!g++ temp.cpp; ./a.out"
      ],
      "execution_count": 82,
      "outputs": [
        {
          "output_type": "stream",
          "name": "stdout",
          "text": [
            "10"
          ]
        }
      ]
    },
    {
      "cell_type": "code",
      "metadata": {
        "id": "qUNsklXVUExb",
        "outputId": "d1760198-c190-40a1-ac4c-f579030317fd",
        "colab": {
          "base_uri": "https://localhost:8080/"
        }
      },
      "source": [
        "%%writefile temp.cpp\n",
        "# include <bits/stdc++.h>\n",
        "// #include <cmath>\n",
        "using namespace std;\n",
        "\n",
        "int main() {\n",
        "  cout << sqrt(64) << endl; // 8\n",
        "  cout << round(2.6) << endl; // 3\n",
        "  cout << log(2) << endl; // 0.693147\n",
        "  cout << log(0) << endl; // -inf\n",
        "  cout << log(1) << endl; // 0\n",
        "  cout << exp(1) << endl; // 2.71828\n",
        "  cout << log(exp(1)) << endl; // 1\n",
        "  cout << setprecision(16) << M_PI << endl;\n",
        "}"
      ],
      "execution_count": 83,
      "outputs": [
        {
          "output_type": "stream",
          "name": "stdout",
          "text": [
            "Overwriting temp.cpp\n"
          ]
        }
      ]
    },
    {
      "cell_type": "code",
      "metadata": {
        "id": "2supEKMcUJyx",
        "outputId": "e3658989-0e25-4038-d433-6977091a847e",
        "colab": {
          "base_uri": "https://localhost:8080/"
        }
      },
      "source": [
        "!g++ temp.cpp; ./a.out"
      ],
      "execution_count": 84,
      "outputs": [
        {
          "output_type": "stream",
          "name": "stdout",
          "text": [
            "8\n",
            "3\n",
            "0.693147\n",
            "-inf\n",
            "0\n",
            "2.71828\n",
            "1\n",
            "3.141592653589793\n"
          ]
        }
      ]
    },
    {
      "cell_type": "code",
      "metadata": {
        "id": "5efZAImnB0ZC",
        "outputId": "739d8678-d6a5-4ebf-a976-9d8458d60b68",
        "colab": {
          "base_uri": "https://localhost:8080/"
        }
      },
      "source": [
        "# cmath ライブラリーのほかの関数\n",
        "%%writefile temp.cpp\n",
        "# include <bits/stdc++.h>\n",
        "using namespace std;\n",
        "\n",
        "int main() {\n",
        "  cout << sin(3.14/2) << endl; // 1\n",
        "  cout << setprecision(16) << sin(3.14/2) << endl; // 0.9999996829318346\n",
        "  cout << setprecision(16) << sin(M_PI/2) << endl; // 1\n",
        "  cout << cbrt(64) << endl; // 4\n",
        "  cout << abs(-2.3) << endl; // 2,3\n",
        "  cout << ceil(-2.3) << endl; // -2\n",
        "  cout << floor(-2.3) << endl; // -3\n",
        "  cout << exp(1) << endl; // 2.718281828459045\n",
        "  cout << fdim(3.5, -3.5) << endl; // 7 最大値と最小値の差\n",
        "  cout << max(3,4) << endl; // 4 最大値\n",
        "  cout << hypot(3, 4) << endl; // 平方和の平方根 斜辺\n",
        "  cout << fmod(5.0, 2.1) << endl; // 0.7999999999999998\n",
        "  cout << pow(16, 0.5) << endl; // 16^0.5\n",
        "}"
      ],
      "execution_count": 85,
      "outputs": [
        {
          "output_type": "stream",
          "name": "stdout",
          "text": [
            "Overwriting temp.cpp\n"
          ]
        }
      ]
    },
    {
      "cell_type": "code",
      "metadata": {
        "id": "zi6mNxxCB0ZF",
        "outputId": "9beb4b9f-3562-460f-e24f-846bfc528b95",
        "colab": {
          "base_uri": "https://localhost:8080/"
        }
      },
      "source": [
        "!g++ temp.cpp; ./a.out"
      ],
      "execution_count": 86,
      "outputs": [
        {
          "output_type": "stream",
          "name": "stdout",
          "text": [
            "1\n",
            "0.9999996829318346\n",
            "1\n",
            "4\n",
            "2.3\n",
            "-2\n",
            "-3\n",
            "2.718281828459045\n",
            "7\n",
            "4\n",
            "5\n",
            "0.7999999999999998\n",
            "4\n"
          ]
        }
      ]
    },
    {
      "cell_type": "code",
      "source": [
        "# メモ\n",
        "# 数学定数について\n",
        "# 円周率 pi などは M_PI とか\n",
        "# これは C 標準数学ライブラリの定義済みマクロ式\n",
        "# C++20 以降では numbers::pi とかになるらしい\n",
        "# 今の colab の g++ --version は 7.5\n",
        "# 7.5 は C++17 まで対応で、標準では C++14 でコンパイルする\n",
        "# include <numbers> は使えない。無理して使う必要はない。\n",
        "# bits/stdc++.h はすべての標準ライブラリを一度にインクルードできるヘッダファイル\n",
        "# すべてなので C++14, C++17, C++20 に依存する"
      ],
      "metadata": {
        "id": "o0_oABdDTK6J"
      },
      "execution_count": 87,
      "outputs": []
    },
    {
      "cell_type": "code",
      "metadata": {
        "id": "oYYWPgYh74ob",
        "outputId": "f15de07d-1c8e-4550-8f33-749e5e0b03ac",
        "colab": {
          "base_uri": "https://localhost:8080/"
        }
      },
      "source": [
        "# bool型\n",
        "%%writefile temp.cpp\n",
        "# include <bits/stdc++.h>\n",
        "using namespace std;\n",
        "\n",
        "int main() {\n",
        "  bool isCodingFun = true;\n",
        "  bool isFishTasty = false;\n",
        "  cout << isCodingFun << endl;\n",
        "  cout << isFishTasty;\n",
        "}"
      ],
      "execution_count": 88,
      "outputs": [
        {
          "output_type": "stream",
          "name": "stdout",
          "text": [
            "Overwriting temp.cpp\n"
          ]
        }
      ]
    },
    {
      "cell_type": "code",
      "metadata": {
        "id": "RhUYA2c-7_hz",
        "outputId": "2c2eccae-d0ca-432f-ad30-dd6e315498c4",
        "colab": {
          "base_uri": "https://localhost:8080/"
        }
      },
      "source": [
        "!g++ temp.cpp; ./a.out"
      ],
      "execution_count": 89,
      "outputs": [
        {
          "output_type": "stream",
          "name": "stdout",
          "text": [
            "1\n",
            "0"
          ]
        }
      ]
    },
    {
      "cell_type": "code",
      "metadata": {
        "id": "DW3WU3amjC16",
        "outputId": "5b57fb50-4f98-41eb-c2b0-e08d5b324b4c",
        "colab": {
          "base_uri": "https://localhost:8080/"
        }
      },
      "source": [
        "# if と比較演算子 括弧が必要\n",
        "%%writefile temp.cpp\n",
        "# include <bits/stdc++.h>\n",
        "using namespace std;\n",
        "\n",
        "int main() {\n",
        "  int x = 20;\n",
        "  int y = 18;\n",
        "  if (x > y) {\n",
        "    cout << \"x is greater than y\";\n",
        "  }  \n",
        "}"
      ],
      "execution_count": 90,
      "outputs": [
        {
          "output_type": "stream",
          "name": "stdout",
          "text": [
            "Overwriting temp.cpp\n"
          ]
        }
      ]
    },
    {
      "cell_type": "code",
      "metadata": {
        "id": "U-TeRyy3jElS",
        "outputId": "fad3834d-8de4-4244-b03c-5daaf1fb6ed0",
        "colab": {
          "base_uri": "https://localhost:8080/"
        }
      },
      "source": [
        "!g++ temp.cpp; ./a.out"
      ],
      "execution_count": 91,
      "outputs": [
        {
          "output_type": "stream",
          "name": "stdout",
          "text": [
            "x is greater than y"
          ]
        }
      ]
    },
    {
      "cell_type": "code",
      "metadata": {
        "id": "bl06solSjfo0",
        "outputId": "467d1eb6-ecc5-437a-8d6e-3e598b588230",
        "colab": {
          "base_uri": "https://localhost:8080/"
        }
      },
      "source": [
        "# if else の中身は波括弧で括るが中身が1つの時は省略できる\n",
        "%%writefile temp.cpp\n",
        "# include <bits/stdc++.h>\n",
        "using namespace std;\n",
        "\n",
        "int main() {\n",
        "  int time;\n",
        "  cin >> time;\n",
        "  if (time < 18) cout << \"Good day.\";\n",
        "  else cout << \"Good evening.\";\n",
        "}"
      ],
      "execution_count": 92,
      "outputs": [
        {
          "output_type": "stream",
          "name": "stdout",
          "text": [
            "Overwriting temp.cpp\n"
          ]
        }
      ]
    },
    {
      "cell_type": "code",
      "metadata": {
        "id": "lD_yDgDTjiKH",
        "outputId": "4c2c491d-60df-4bde-9c8e-3d809b6cbf07",
        "colab": {
          "base_uri": "https://localhost:8080/"
        }
      },
      "source": [
        "!g++ temp.cpp; echo 20 |./a.out"
      ],
      "execution_count": 93,
      "outputs": [
        {
          "output_type": "stream",
          "name": "stdout",
          "text": [
            "Good evening."
          ]
        }
      ]
    },
    {
      "cell_type": "code",
      "metadata": {
        "id": "1qUuh5JSj4JZ",
        "outputId": "a7257d69-6426-456c-910a-32aedabbec0e",
        "colab": {
          "base_uri": "https://localhost:8080/"
        }
      },
      "source": [
        "# else if\n",
        "%%writefile temp.cpp\n",
        "# include <bits/stdc++.h>\n",
        "using namespace std;\n",
        "int main() {\n",
        "  int time;\n",
        "  cin >> time;\n",
        "  if (time < 10) cout << \"Good morning.\";\n",
        "  else if (time < 20) cout << \"Good day.\";\n",
        "  else cout << \"Good evening.\";\n",
        "}"
      ],
      "execution_count": 94,
      "outputs": [
        {
          "output_type": "stream",
          "name": "stdout",
          "text": [
            "Overwriting temp.cpp\n"
          ]
        }
      ]
    },
    {
      "cell_type": "code",
      "metadata": {
        "id": "WeNIRfvfj6km",
        "outputId": "877c92d6-a8b0-4d9e-9999-412e108e7e80",
        "colab": {
          "base_uri": "https://localhost:8080/"
        }
      },
      "source": [
        "!g++ temp.cpp; echo 18 |./a.out"
      ],
      "execution_count": 95,
      "outputs": [
        {
          "output_type": "stream",
          "name": "stdout",
          "text": [
            "Good day."
          ]
        }
      ]
    },
    {
      "cell_type": "code",
      "metadata": {
        "id": "16UgntYYkPkF",
        "outputId": "0e7280e4-96d3-4c7c-ef71-574722d537a0",
        "colab": {
          "base_uri": "https://localhost:8080/"
        }
      },
      "source": [
        "# 三項演算子 ?: ternery operator\n",
        "%%writefile temp.cpp\n",
        "# include <bits/stdc++.h>\n",
        "using namespace std;\n",
        "\n",
        "int main() {\n",
        "  int time = 20;\n",
        "  string result = (time < 18) ? \"Good day.\" : \"Good evening.\";\n",
        "  cout << result << endl;\n",
        "  cout <<  ((time < 18) ? \"Good day.\" : \"Good evening.\");\n",
        "}\n"
      ],
      "execution_count": 1,
      "outputs": [
        {
          "output_type": "stream",
          "name": "stdout",
          "text": [
            "Overwriting temp.cpp\n"
          ]
        }
      ]
    },
    {
      "cell_type": "code",
      "metadata": {
        "id": "lhEkWQxbkW39",
        "outputId": "46104322-1304-480e-f8ab-2f9f3e18e48f",
        "colab": {
          "base_uri": "https://localhost:8080/"
        }
      },
      "source": [
        "!g++ temp.cpp; ./a.out"
      ],
      "execution_count": 2,
      "outputs": [
        {
          "output_type": "stream",
          "name": "stdout",
          "text": [
            "Good evening.\n",
            "Good evening."
          ]
        }
      ]
    },
    {
      "cell_type": "code",
      "metadata": {
        "id": "XcesfRGD7Zei",
        "colab": {
          "base_uri": "https://localhost:8080/"
        },
        "outputId": "9aaec9b2-8739-4818-8adc-e796ae78665f"
      },
      "source": [
        "# switch 構文\n",
        "%%writefile temp.cpp\n",
        "\n",
        "# include <bits/stdc++.h>\n",
        "using namespace std;\n",
        "\n",
        "int main() {\n",
        "  int day = 4;\n",
        "  switch (day) {\n",
        "  case 1:\n",
        "    cout << \"Monday\";\n",
        "    break;\n",
        "  case 2:\n",
        "    cout << \"Tuesday\";\n",
        "    break;\n",
        "  case 3:\n",
        "    cout << \"Wednesday\";\n",
        "    break;\n",
        "  case 4:\n",
        "    cout << \"Thursday\";\n",
        "    break;\n",
        "  case 5:\n",
        "    cout << \"Friday\";\n",
        "    break;\n",
        "  case 6:\n",
        "    cout << \"Saturday\";\n",
        "   break;\n",
        "  case 7:\n",
        "    cout << \"Sunday\";\n",
        "    break;\n",
        "  }\n",
        "}"
      ],
      "execution_count": 3,
      "outputs": [
        {
          "output_type": "stream",
          "name": "stdout",
          "text": [
            "Overwriting temp.cpp\n"
          ]
        }
      ]
    },
    {
      "cell_type": "code",
      "metadata": {
        "id": "q729GEbV7e4R",
        "colab": {
          "base_uri": "https://localhost:8080/"
        },
        "outputId": "361cefa1-c740-4603-e981-41476c9e6343"
      },
      "source": [
        "!g++ temp.cpp; ./a.out"
      ],
      "execution_count": 4,
      "outputs": [
        {
          "output_type": "stream",
          "name": "stdout",
          "text": [
            "Thursday"
          ]
        }
      ]
    },
    {
      "cell_type": "code",
      "source": [
        "# 上記の switch 構文の例は switch の中で cout を使っているので関数にすべきでしょう\n",
        "# num2week\n",
        "%%writefile temp.cpp\n",
        "# include <bits/stdc++.h>\n",
        "using namespace std;\n",
        "string num2week(int day) {\n",
        "  switch (day) {\n",
        "  case 1: return \"Monday\";\n",
        "  case 2: return \"Tuesday\";\n",
        "  case 3: return \"Wednesday\";\n",
        "  case 4: return \"Thursday\";\n",
        "  case 5: return \"Friday\";\n",
        "  case 6: return \"Saturday\";\n",
        "  default: return \"何?\";\n",
        "  }\n",
        "}\n",
        "\n",
        "int main() {\n",
        "  int day;\n",
        "  cin >> day;\n",
        "  cout << num2week(day) << endl;\n",
        "}"
      ],
      "metadata": {
        "id": "kfPfajHEt45j",
        "outputId": "281c58af-a434-481d-ec95-5bd08ac75f3b",
        "colab": {
          "base_uri": "https://localhost:8080/"
        }
      },
      "execution_count": 5,
      "outputs": [
        {
          "output_type": "stream",
          "name": "stdout",
          "text": [
            "Overwriting temp.cpp\n"
          ]
        }
      ]
    },
    {
      "cell_type": "code",
      "source": [
        "!g++ temp.cpp; echo 4 |./a.out\n",
        "!g++ temp.cpp; echo 5 |./a.out\n",
        "!g++ temp.cpp; echo 8 |./a.out #=> default が返る\n",
        "!g++ temp.cpp; echo えっと |./a.out #=> int でないものが入力されても default が返る"
      ],
      "metadata": {
        "id": "REo34TtSfqCd",
        "outputId": "e0df2c7a-411b-467a-f0d3-46d2f4a7e03b",
        "colab": {
          "base_uri": "https://localhost:8080/"
        }
      },
      "execution_count": 6,
      "outputs": [
        {
          "output_type": "stream",
          "name": "stdout",
          "text": [
            "Thursday\n",
            "Friday\n",
            "何?\n",
            "何?\n"
          ]
        }
      ]
    },
    {
      "cell_type": "code",
      "metadata": {
        "id": "ihhwaJtn4JMD",
        "outputId": "0fdc096b-602c-4741-a9db-6fc969ef701d",
        "colab": {
          "base_uri": "https://localhost:8080/"
        }
      },
      "source": [
        "# while 構文\n",
        "%%writefile temp.cpp\n",
        "# include <bits/stdc++.h>\n",
        "using namespace std;\n",
        "\n",
        "int main() {\n",
        "  int i = 0;\n",
        "  while (i < 5) {\n",
        "    cout << i << endl;\n",
        "    i++;\n",
        "  }\n",
        "  return 0;\n",
        "}"
      ],
      "execution_count": 7,
      "outputs": [
        {
          "output_type": "stream",
          "name": "stdout",
          "text": [
            "Overwriting temp.cpp\n"
          ]
        }
      ]
    },
    {
      "cell_type": "code",
      "metadata": {
        "id": "zcOgtPoW4Jpz",
        "outputId": "4637a615-2fca-4ccc-d3e5-578b8230484f",
        "colab": {
          "base_uri": "https://localhost:8080/"
        }
      },
      "source": [
        "!g++ temp.cpp; ./a.out"
      ],
      "execution_count": 8,
      "outputs": [
        {
          "output_type": "stream",
          "name": "stdout",
          "text": [
            "0\n",
            "1\n",
            "2\n",
            "3\n",
            "4\n"
          ]
        }
      ]
    },
    {
      "cell_type": "code",
      "metadata": {
        "id": "kDVoKXM74eEN",
        "outputId": "0194804f-3e70-4851-ac72-b95f7d444fab",
        "colab": {
          "base_uri": "https://localhost:8080/"
        }
      },
      "source": [
        "# do while 構文\n",
        "%%writefile temp.cpp\n",
        "# include <bits/stdc++.h>\n",
        "using namespace std;\n",
        "\n",
        "int main() {\n",
        "  int i = 0;\n",
        "  do {\n",
        "    cout << i << endl;\n",
        "    i++;\n",
        "  }\n",
        "  while (i < 5);\n",
        "  return 0;\n",
        "}\n"
      ],
      "execution_count": 9,
      "outputs": [
        {
          "output_type": "stream",
          "name": "stdout",
          "text": [
            "Overwriting temp.cpp\n"
          ]
        }
      ]
    },
    {
      "cell_type": "code",
      "metadata": {
        "id": "T5EZk3rj4dp_",
        "outputId": "53c7553f-89ec-4bf3-d389-1a65e9bdccb8",
        "colab": {
          "base_uri": "https://localhost:8080/"
        }
      },
      "source": [
        "!g++ temp.cpp; ./a.out"
      ],
      "execution_count": 10,
      "outputs": [
        {
          "output_type": "stream",
          "name": "stdout",
          "text": [
            "0\n",
            "1\n",
            "2\n",
            "3\n",
            "4\n"
          ]
        }
      ]
    },
    {
      "cell_type": "code",
      "metadata": {
        "id": "mekcQLVJ5C21",
        "colab": {
          "base_uri": "https://localhost:8080/"
        },
        "outputId": "5e080ace-bd17-45dc-b54c-841123d5827c"
      },
      "source": [
        "# for 構文\n",
        "%%writefile temp.cpp\n",
        "# include <bits/stdc++.h>\n",
        "using namespace std;\n",
        "\n",
        "int main() {\n",
        "  for (int i = 0; i < 5; i++) {\n",
        "    cout << i << endl;\n",
        "  }\n",
        "  return 0;\n",
        "}\n"
      ],
      "execution_count": 11,
      "outputs": [
        {
          "output_type": "stream",
          "name": "stdout",
          "text": [
            "Overwriting temp.cpp\n"
          ]
        }
      ]
    },
    {
      "cell_type": "code",
      "metadata": {
        "id": "vVMSUoTD5DWS",
        "colab": {
          "base_uri": "https://localhost:8080/"
        },
        "outputId": "f03fe21e-7478-4208-b2dd-0903b59548b5"
      },
      "source": [
        "!g++ temp.cpp; ./a.out"
      ],
      "execution_count": 12,
      "outputs": [
        {
          "output_type": "stream",
          "name": "stdout",
          "text": [
            "0\n",
            "1\n",
            "2\n",
            "3\n",
            "4\n"
          ]
        }
      ]
    },
    {
      "cell_type": "code",
      "metadata": {
        "id": "6B9Qb9kU5d75",
        "outputId": "9f77f9fd-d77a-4b56-a043-48028b6c9b15",
        "colab": {
          "base_uri": "https://localhost:8080/"
        }
      },
      "source": [
        "# for 構文で i を 2 ずつ増やす\n",
        "%%writefile temp.cpp\n",
        "# include <bits/stdc++.h>\n",
        "using namespace std;\n",
        "\n",
        "int main() {\n",
        "  for (int i = 0; i <= 10; i = i + 2) {\n",
        "    cout << i << endl;\n",
        "  }\n",
        "  return 0;\n",
        "}"
      ],
      "execution_count": 13,
      "outputs": [
        {
          "output_type": "stream",
          "name": "stdout",
          "text": [
            "Overwriting temp.cpp\n"
          ]
        }
      ]
    },
    {
      "cell_type": "code",
      "metadata": {
        "id": "Xi5yv6sO5jx2",
        "outputId": "a695b9e2-7e5c-4ef9-b635-7cf2c7d0b9db",
        "colab": {
          "base_uri": "https://localhost:8080/"
        }
      },
      "source": [
        "!g++ temp.cpp; ./a.out"
      ],
      "execution_count": 14,
      "outputs": [
        {
          "output_type": "stream",
          "name": "stdout",
          "text": [
            "0\n",
            "2\n",
            "4\n",
            "6\n",
            "8\n",
            "10\n"
          ]
        }
      ]
    },
    {
      "cell_type": "code",
      "metadata": {
        "id": "tRiVBXFL2rnC",
        "outputId": "779b5d01-0770-4280-a3eb-32c11dc9102e",
        "colab": {
          "base_uri": "https://localhost:8080/"
        }
      },
      "source": [
        "# continue\n",
        "%%writefile temp.cpp\n",
        "# include <bits/stdc++.h>\n",
        "using namespace std;\n",
        "\n",
        "int main() {\n",
        "  for (int i = 0; i < 10; i++) {\n",
        "    if (i == 4) {\n",
        "      continue;\n",
        "    }\n",
        "    cout << i << endl;\n",
        "  }   \n",
        "  return 0;\n",
        "}\n"
      ],
      "execution_count": 15,
      "outputs": [
        {
          "output_type": "stream",
          "name": "stdout",
          "text": [
            "Overwriting temp.cpp\n"
          ]
        }
      ]
    },
    {
      "cell_type": "code",
      "metadata": {
        "id": "holEDCC520Dk",
        "outputId": "0ddd95ae-8f0e-4096-eb94-1b97f7a7100b",
        "colab": {
          "base_uri": "https://localhost:8080/"
        }
      },
      "source": [
        "!g++ temp.cpp; ./a.out"
      ],
      "execution_count": 16,
      "outputs": [
        {
          "output_type": "stream",
          "name": "stdout",
          "text": [
            "0\n",
            "1\n",
            "2\n",
            "3\n",
            "5\n",
            "6\n",
            "7\n",
            "8\n",
            "9\n"
          ]
        }
      ]
    },
    {
      "cell_type": "code",
      "metadata": {
        "id": "qf_0WEWnl4yx",
        "outputId": "ce73f776-b5a0-4fd6-ead7-ceb272dbc7a3",
        "colab": {
          "base_uri": "https://localhost:8080/"
        }
      },
      "source": [
        "# 配列\n",
        "# 次のは C の配列で、今はあまり使われないのではないか\n",
        "# array もある。list もある。が、基本的に vector に書き換えよう\n",
        "%%writefile temp.cpp\n",
        "# include <bits/stdc++.h>\n",
        "using namespace std;\n",
        "int main() {\n",
        "  // string cars[4] = {\"Volvo\", \"BMW\", \"Ford\", \"Mazda\"};\n",
        "  // cout << cars[0];\n",
        "  vector<string> cars = {\"Volvo\", \"BMW\", \"Ford\", \"Mazda\"};\n",
        "  cout << cars.at(0) << endl;\n",
        "}"
      ],
      "execution_count": 17,
      "outputs": [
        {
          "output_type": "stream",
          "name": "stdout",
          "text": [
            "Overwriting temp.cpp\n"
          ]
        }
      ]
    },
    {
      "cell_type": "code",
      "metadata": {
        "id": "e3onRGAemAhi",
        "outputId": "c8b80363-03a7-47fc-c636-418f2e895812",
        "colab": {
          "base_uri": "https://localhost:8080/"
        }
      },
      "source": [
        "!g++ temp.cpp; ./a.out"
      ],
      "execution_count": 18,
      "outputs": [
        {
          "output_type": "stream",
          "name": "stdout",
          "text": [
            "Volvo\n"
          ]
        }
      ]
    },
    {
      "cell_type": "code",
      "metadata": {
        "id": "JickdBaumMKJ",
        "outputId": "5aadc0a6-9f62-4a98-f64e-19af5bf7ce1c",
        "colab": {
          "base_uri": "https://localhost:8080/"
        }
      },
      "source": [
        "# C の配列は項の書き換えが出来る\n",
        "%%writefile temp.cpp\n",
        "# include <bits/stdc++.h>\n",
        "using namespace std;\n",
        "\n",
        "int main() {\n",
        "    /* string cars[4] = {\"Volvo\", \"BMW\", \"Ford\", \"Mazda\"};\n",
        "    cars[0] = \"Opel\";\n",
        "    cout << cars[0]; */\n",
        "    vector<string> cars = {\"Volvo\", \"BMW\", \"Ford\", \"Mazda\"};\n",
        "    cars.at(0) = \"Opel\";\n",
        "    cout << cars.at(0) << endl;\n",
        "}\n"
      ],
      "execution_count": 19,
      "outputs": [
        {
          "output_type": "stream",
          "name": "stdout",
          "text": [
            "Overwriting temp.cpp\n"
          ]
        }
      ]
    },
    {
      "cell_type": "code",
      "metadata": {
        "id": "xME08Ssamati",
        "outputId": "987ec7c8-21da-4a49-9b5c-496d7e063217",
        "colab": {
          "base_uri": "https://localhost:8080/"
        }
      },
      "source": [
        "!g++ temp.cpp; ./a.out"
      ],
      "execution_count": 20,
      "outputs": [
        {
          "output_type": "stream",
          "name": "stdout",
          "text": [
            "Opel\n"
          ]
        }
      ]
    },
    {
      "cell_type": "code",
      "metadata": {
        "id": "-8spDgtFmnW7",
        "outputId": "20ad2160-6dd1-457b-e415-605b7ba1c604",
        "colab": {
          "base_uri": "https://localhost:8080/"
        }
      },
      "source": [
        "%%writefile temp.cpp\n",
        "# include <bits/stdc++.h>\n",
        "using namespace std;\n",
        "int main(){\n",
        "    vector<string> cars = {\"Volvo\", \"BMW\", \"Ford\", \"Mazda\"};\n",
        "    for(int i = 0; i < 4; i++) {\n",
        "        cout << cars.at(i) << endl;\n",
        "    }\n",
        "}"
      ],
      "execution_count": 21,
      "outputs": [
        {
          "output_type": "stream",
          "name": "stdout",
          "text": [
            "Overwriting temp.cpp\n"
          ]
        }
      ]
    },
    {
      "cell_type": "code",
      "metadata": {
        "id": "jy8wA-48mq-n",
        "outputId": "32beb6f5-a64a-4c28-9f68-3da8b6b10427",
        "colab": {
          "base_uri": "https://localhost:8080/"
        }
      },
      "source": [
        "!g++ temp.cpp; ./a.out"
      ],
      "execution_count": 22,
      "outputs": [
        {
          "output_type": "stream",
          "name": "stdout",
          "text": [
            "Volvo\n",
            "BMW\n",
            "Ford\n",
            "Mazda\n"
          ]
        }
      ]
    },
    {
      "cell_type": "code",
      "metadata": {
        "id": "nJ5zPLrsm1z1",
        "colab": {
          "base_uri": "https://localhost:8080/"
        },
        "outputId": "98c9a20b-6e8d-417a-f3a1-ace500f50cc3"
      },
      "source": [
        "%%writefile temp.cpp\n",
        "# include <bits/stdc++.h>\n",
        "using namespace std;\n",
        "int main() {\n",
        "  vector<string> cars = {\"Volvo\", \"BMW\", \"Ford\", \"Mazda\"};\n",
        "  for(int i = 0; i < 4; i++) {\n",
        "    cout << i << \": \" << cars.at(i) << endl;\n",
        "  }\n",
        "}"
      ],
      "execution_count": 23,
      "outputs": [
        {
          "output_type": "stream",
          "name": "stdout",
          "text": [
            "Overwriting temp.cpp\n"
          ]
        }
      ]
    },
    {
      "cell_type": "code",
      "metadata": {
        "id": "BVbo7l6km5T1",
        "outputId": "41f77057-c69e-4de1-ce33-1894ff019a85",
        "colab": {
          "base_uri": "https://localhost:8080/"
        }
      },
      "source": [
        "!g++ temp.cpp; ./a.out"
      ],
      "execution_count": 24,
      "outputs": [
        {
          "output_type": "stream",
          "name": "stdout",
          "text": [
            "0: Volvo\n",
            "1: BMW\n",
            "2: Ford\n",
            "3: Mazda\n"
          ]
        }
      ]
    },
    {
      "cell_type": "code",
      "metadata": {
        "id": "Sy8xPThGnpbg",
        "outputId": "d744477c-1eea-4c0e-e837-a0e4a6359497",
        "colab": {
          "base_uri": "https://localhost:8080/"
        }
      },
      "source": [
        "# vector に付け足す\n",
        "%%writefile temp.cpp\n",
        "# include <bits/stdc++.h>\n",
        "using namespace std;\n",
        "int main() {\n",
        "  vector<string> cars = {\"Volvo\", \"BMW\", \"Ford\"};\n",
        "  cars.push_back(\"Mazda\");\n",
        "  cars.push_back(\"Tesla\") ;\n",
        "  for(auto item: cars) {\n",
        "    cout << item << endl;\n",
        "  }\n",
        "}"
      ],
      "execution_count": 25,
      "outputs": [
        {
          "output_type": "stream",
          "name": "stdout",
          "text": [
            "Overwriting temp.cpp\n"
          ]
        }
      ]
    },
    {
      "cell_type": "code",
      "metadata": {
        "id": "GIVj0MYAnswK",
        "outputId": "a9f803f0-08c6-4bb1-815c-3d71e20d9ad1",
        "colab": {
          "base_uri": "https://localhost:8080/"
        }
      },
      "source": [
        "!g++ temp.cpp; ./a.out"
      ],
      "execution_count": 26,
      "outputs": [
        {
          "output_type": "stream",
          "name": "stdout",
          "text": [
            "Volvo\n",
            "BMW\n",
            "Ford\n",
            "Mazda\n",
            "Tesla\n"
          ]
        }
      ]
    },
    {
      "cell_type": "code",
      "metadata": {
        "id": "OSU6Fsxqn5Rs",
        "outputId": "a6add52a-f4c4-4a7a-c807-bbd053911123",
        "colab": {
          "base_uri": "https://localhost:8080/"
        }
      },
      "source": [
        "%%writefile temp.cpp\n",
        "# include <bits/stdc++.h>\n",
        "using namespace std;\n",
        "int main() {\n",
        "  vector<string> cars;\n",
        "  cars.push_back(\"Volvo\");\n",
        "  cars.push_back(\"BMW\");\n",
        "  cars.push_back(\"Ford\");\n",
        "  cars.push_back(\"Mazda\");\n",
        "  cars.push_back(\"Tesla\");\n",
        "  cars.at(0) = \"Toyota\";\n",
        "  for(int i = 0; i < 5; i++) {\n",
        "    cout << cars.at(i) << endl;\n",
        "  }\n",
        "}\n"
      ],
      "execution_count": 27,
      "outputs": [
        {
          "output_type": "stream",
          "name": "stdout",
          "text": [
            "Overwriting temp.cpp\n"
          ]
        }
      ]
    },
    {
      "cell_type": "code",
      "metadata": {
        "id": "T7JATf7Kn9d2",
        "outputId": "d56c0a2f-9ff3-44ad-a77a-90a6ca27a319",
        "colab": {
          "base_uri": "https://localhost:8080/"
        }
      },
      "source": [
        "!g++ temp.cpp; ./a.out"
      ],
      "execution_count": 28,
      "outputs": [
        {
          "output_type": "stream",
          "name": "stdout",
          "text": [
            "Toyota\n",
            "BMW\n",
            "Ford\n",
            "Mazda\n",
            "Tesla\n"
          ]
        }
      ]
    },
    {
      "cell_type": "code",
      "metadata": {
        "id": "-qrghEFlhYhu",
        "outputId": "60101dc3-1b14-4e34-fdf5-13e24f311c82",
        "colab": {
          "base_uri": "https://localhost:8080/"
        }
      },
      "source": [
        "# 参照 &\n",
        "%%writefile temp.cpp\n",
        "# include <bits/stdc++.h>\n",
        "using namespace std;\n",
        "int main() {\n",
        "  string food = \"Pizza\";\n",
        "  string &meal = food;\n",
        "  cout << food << endl;\n",
        "  cout << meal << endl;\n",
        "}\n"
      ],
      "execution_count": 29,
      "outputs": [
        {
          "output_type": "stream",
          "name": "stdout",
          "text": [
            "Overwriting temp.cpp\n"
          ]
        }
      ]
    },
    {
      "cell_type": "code",
      "metadata": {
        "id": "KvsgcVGDhmRx",
        "outputId": "c7757c55-964b-4b34-e851-e751b50271f9",
        "colab": {
          "base_uri": "https://localhost:8080/"
        }
      },
      "source": [
        "!g++ temp.cpp; ./a.out"
      ],
      "execution_count": 30,
      "outputs": [
        {
          "output_type": "stream",
          "name": "stdout",
          "text": [
            "Pizza\n",
            "Pizza\n"
          ]
        }
      ]
    },
    {
      "cell_type": "code",
      "metadata": {
        "id": "E_KPSSOwigv7",
        "outputId": "09e79bd5-d772-4f51-8b74-855acb58b286",
        "colab": {
          "base_uri": "https://localhost:8080/"
        }
      },
      "source": [
        "# 変数のメモリーアドレス\n",
        "%%writefile temp.cpp\n",
        "# include <bits/stdc++.h>\n",
        "#include <string>\n",
        "using namespace std;\n",
        "\n",
        "int main() {\n",
        "  string food = \"Pizza\";\n",
        "  cout << &food << endl; // 変数 food のメモリーアドレス\n",
        "}"
      ],
      "execution_count": 31,
      "outputs": [
        {
          "output_type": "stream",
          "name": "stdout",
          "text": [
            "Overwriting temp.cpp\n"
          ]
        }
      ]
    },
    {
      "cell_type": "code",
      "metadata": {
        "id": "2Ifs1iLiimEp",
        "outputId": "d70d6b31-9d40-4994-a41b-e4ff04042987",
        "colab": {
          "base_uri": "https://localhost:8080/"
        }
      },
      "source": [
        "!g++ temp.cpp; ./a.out"
      ],
      "execution_count": 32,
      "outputs": [
        {
          "output_type": "stream",
          "name": "stdout",
          "text": [
            "0x7ffe6b97f8b0\n"
          ]
        }
      ]
    },
    {
      "cell_type": "code",
      "metadata": {
        "id": "1hgN8V-YXrHK",
        "outputId": "410e8f2d-01e1-4061-80d2-59df0019ce00",
        "colab": {
          "base_uri": "https://localhost:8080/"
        }
      },
      "source": [
        "# ポインター\n",
        "# ポインター変数 ptr は `*` を付けて宣言する。\n",
        "# ポインター変数 ptr はアドレス `&` が入る。\n",
        "# すると、`*ptr` が書き換わる。え?\n",
        "%%writefile temp.cpp\n",
        "# include <bits/stdc++.h>\n",
        "using namespace std;\n",
        "\n",
        "int main() {\n",
        "  string food = \"Pizza\"; \n",
        "  string* ptr = &food;  // A pointer variable that stores the address of food\n",
        "\n",
        "  cout << food << endl;\n",
        "\n",
        "  // 変数 food のメモリーアドレス\n",
        "  cout << &food << endl;\n",
        "\n",
        "  // Output the memory address of food with the pointer\n",
        "  cout << ptr << endl;\n",
        "}"
      ],
      "execution_count": 33,
      "outputs": [
        {
          "output_type": "stream",
          "name": "stdout",
          "text": [
            "Overwriting temp.cpp\n"
          ]
        }
      ]
    },
    {
      "cell_type": "code",
      "metadata": {
        "id": "a8VNvKHCX1jW",
        "outputId": "17e55cd3-1954-4947-890d-b1f1656af029",
        "colab": {
          "base_uri": "https://localhost:8080/"
        }
      },
      "source": [
        "!g++ temp.cpp; ./a.out"
      ],
      "execution_count": 34,
      "outputs": [
        {
          "output_type": "stream",
          "name": "stdout",
          "text": [
            "Pizza\n",
            "0x7fff6952b4e0\n",
            "0x7fff6952b4e0\n"
          ]
        }
      ]
    },
    {
      "cell_type": "code",
      "metadata": {
        "id": "9g5Wa3RqYMTX",
        "outputId": "49f54520-ddcc-44a3-cd22-ca554ec83b7b",
        "colab": {
          "base_uri": "https://localhost:8080/"
        }
      },
      "source": [
        "# ポインター宣言 pointer declaration\n",
        "%%writefile temp.cpp\n",
        "# include <bits/stdc++.h>\n",
        "using namespace std;\n",
        "\n",
        "int main() {\n",
        "  string food = \"Pizza\";\n",
        "  string* ptr = &food;    // ポインター宣言\n",
        "\n",
        "  // Reference: Output the memory address of food with the pointer\n",
        "  // ptr にはアドレスが入っている\n",
        "  cout << ptr << endl;\n",
        "\n",
        "  // Dereference: Output the value of food with the pointer\n",
        "  // 参照先を見るには `*` を付ける\n",
        "  cout << *ptr << endl;\n",
        "}\n"
      ],
      "execution_count": 35,
      "outputs": [
        {
          "output_type": "stream",
          "name": "stdout",
          "text": [
            "Overwriting temp.cpp\n"
          ]
        }
      ]
    },
    {
      "cell_type": "code",
      "metadata": {
        "id": "qQC7biZtYPIn",
        "outputId": "2a035f5b-306d-4153-d21e-1469417aa217",
        "colab": {
          "base_uri": "https://localhost:8080/"
        }
      },
      "source": [
        "!g++ temp.cpp; ./a.out"
      ],
      "execution_count": 36,
      "outputs": [
        {
          "output_type": "stream",
          "name": "stdout",
          "text": [
            "0x7fff636a0ab0\n",
            "Pizza\n"
          ]
        }
      ]
    },
    {
      "cell_type": "code",
      "metadata": {
        "id": "x7KawXfwYjBp",
        "colab": {
          "base_uri": "https://localhost:8080/"
        },
        "outputId": "1cb618f7-a9df-4b23-96b5-8b0a73b9d072"
      },
      "source": [
        "# ポインター先の変更\n",
        "%%writefile temp.cpp\n",
        "# include <bits/stdc++.h>\n",
        "using namespace std;\n",
        "\n",
        "int main() {\n",
        "  string food = \"Pizza\";\n",
        "  string* ptr = &food;\n",
        "\n",
        "  cout << food << endl;\n",
        "  cout << &food << endl;\n",
        "  cout << *ptr << endl;\n",
        "  *ptr = \"Hamburger\";\n",
        "  cout << *ptr << endl;\n",
        "  cout << food << endl;\n",
        "}\n"
      ],
      "execution_count": 37,
      "outputs": [
        {
          "output_type": "stream",
          "name": "stdout",
          "text": [
            "Overwriting temp.cpp\n"
          ]
        }
      ]
    },
    {
      "cell_type": "code",
      "metadata": {
        "id": "ZC4cYleOS1SI",
        "colab": {
          "base_uri": "https://localhost:8080/"
        },
        "outputId": "f934481d-e2c1-40e6-d72a-b4d0f0af89fc"
      },
      "source": [
        "!g++ temp.cpp; ./a.out"
      ],
      "execution_count": 38,
      "outputs": [
        {
          "output_type": "stream",
          "name": "stdout",
          "text": [
            "Pizza\n",
            "0x7ffc1ae09d00\n",
            "Pizza\n",
            "Hamburger\n",
            "Hamburger\n"
          ]
        }
      ]
    },
    {
      "cell_type": "code",
      "metadata": {
        "id": "gOdj0Sc7GmsP",
        "colab": {
          "base_uri": "https://localhost:8080/"
        },
        "outputId": "609024d3-13d5-43c6-fcda-fdaa3f5ebd05"
      },
      "source": [
        "# 実験\n",
        "%%writefile temp.cpp\n",
        "# include <bits/stdc++.h>\n",
        "#include <string>\n",
        "using namespace std;\n",
        "\n",
        "int main() {\n",
        "    auto thisfood = \"Pizza\";\n",
        "    auto * ptr = &thisfood;\n",
        "    *ptr = \"Cheese\";\n",
        "    cout << *ptr << endl;\n",
        "    cout << thisfood << endl;\n",
        "}"
      ],
      "execution_count": 39,
      "outputs": [
        {
          "output_type": "stream",
          "name": "stdout",
          "text": [
            "Overwriting temp.cpp\n"
          ]
        }
      ]
    },
    {
      "cell_type": "code",
      "metadata": {
        "id": "vml0BoRVG3sP",
        "colab": {
          "base_uri": "https://localhost:8080/"
        },
        "outputId": "2f5f82e2-456a-4670-f92a-5bec3591f4b6"
      },
      "source": [
        "!g++ temp.cpp; ./a.out"
      ],
      "execution_count": 40,
      "outputs": [
        {
          "output_type": "stream",
          "name": "stdout",
          "text": [
            "Cheese\n",
            "Cheese\n"
          ]
        }
      ]
    },
    {
      "cell_type": "code",
      "metadata": {
        "id": "rjylv-JQTffr",
        "colab": {
          "base_uri": "https://localhost:8080/"
        },
        "outputId": "b9c02362-f565-4ea8-8171-dfd315819e30"
      },
      "source": [
        "# 関数 function\n",
        "# 関数の宣言\n",
        "# テキストはこのように void 関数を例に出し、その中で cout を使うが\n",
        "# 関数型の観点からは気持ち悪い\n",
        "%%writefile temp.cpp\n",
        "# include <bits/stdc++.h>\n",
        "using namespace std;\n",
        "\n",
        "void myFunction() {\n",
        "  cout << \"I just got executed!\";\n",
        "}\n",
        "\n",
        "int main() {\n",
        "  myFunction();\n",
        "}\n"
      ],
      "execution_count": 41,
      "outputs": [
        {
          "output_type": "stream",
          "name": "stdout",
          "text": [
            "Overwriting temp.cpp\n"
          ]
        }
      ]
    },
    {
      "cell_type": "code",
      "metadata": {
        "id": "qo1x456fTrAr",
        "colab": {
          "base_uri": "https://localhost:8080/"
        },
        "outputId": "94988cbc-c2ff-45e8-819f-50a451463cf5"
      },
      "source": [
        "!g++ temp.cpp; ./a.out"
      ],
      "execution_count": 42,
      "outputs": [
        {
          "output_type": "stream",
          "name": "stdout",
          "text": [
            "I just got executed!"
          ]
        }
      ]
    },
    {
      "cell_type": "code",
      "source": [
        "# 関数の宣言 -- 返り値のあるもの\n",
        "%%writefile temp.cpp\n",
        "# include <bits/stdc++.h>\n",
        "using namespace std;\n",
        "\n",
        "int sum (int a, int b){\n",
        "    return a+b;\n",
        "}\n",
        "\n",
        "int main() {\n",
        "  int A, B;\n",
        "  cin >> A >> B;\n",
        "  cout << sum(A, B) << endl;\n",
        "}"
      ],
      "metadata": {
        "colab": {
          "base_uri": "https://localhost:8080/"
        },
        "id": "v9uP_tL-uWIq",
        "outputId": "34132bb7-9d34-4926-c6e5-dde09943b530"
      },
      "execution_count": 43,
      "outputs": [
        {
          "output_type": "stream",
          "name": "stdout",
          "text": [
            "Overwriting temp.cpp\n"
          ]
        }
      ]
    },
    {
      "cell_type": "code",
      "source": [
        "!g++ temp.cpp; echo 3 4 |./a.out"
      ],
      "metadata": {
        "colab": {
          "base_uri": "https://localhost:8080/"
        },
        "id": "RAkvW89ruV1p",
        "outputId": "cf662919-a310-4658-dcf4-9e6b4a6e9823"
      },
      "execution_count": 44,
      "outputs": [
        {
          "output_type": "stream",
          "name": "stdout",
          "text": [
            "7\n"
          ]
        }
      ]
    },
    {
      "cell_type": "code",
      "metadata": {
        "id": "EzMi7lOA3vAf",
        "colab": {
          "base_uri": "https://localhost:8080/"
        },
        "outputId": "e2ec9fcc-0602-4e02-8b82-8364c8c60048"
      },
      "source": [
        "# 関数宣言は使う前になければいけない\n",
        "%%writefile temp.cpp\n",
        "# include <bits/stdc++.h>\n",
        "using namespace std;\n",
        "\n",
        "// 関数宣言\n",
        "void myFunction();\n",
        "\n",
        "int main() {\n",
        "  myFunction();  // call the function\n",
        "  return 0;\n",
        "}\n",
        "\n",
        "// 関数定義\n",
        "void myFunction() {\n",
        "  cout << \"I just got executed!\";\n",
        "}\n"
      ],
      "execution_count": 45,
      "outputs": [
        {
          "output_type": "stream",
          "name": "stdout",
          "text": [
            "Overwriting temp.cpp\n"
          ]
        }
      ]
    },
    {
      "cell_type": "code",
      "metadata": {
        "id": "i5vo6gcf_iac",
        "colab": {
          "base_uri": "https://localhost:8080/"
        },
        "outputId": "f89bf7cc-d8b1-42df-b778-8e918c31fc65"
      },
      "source": [
        "!g++ temp.cpp; ./a.out"
      ],
      "execution_count": 46,
      "outputs": [
        {
          "output_type": "stream",
          "name": "stdout",
          "text": [
            "I just got executed!"
          ]
        }
      ]
    },
    {
      "cell_type": "code",
      "metadata": {
        "id": "VG7FA6z5ofJ7",
        "colab": {
          "base_uri": "https://localhost:8080/"
        },
        "outputId": "ccdd8726-11c4-4f53-90f6-86166dc77958"
      },
      "source": [
        "# 引数のデフォルト値\n",
        "%%writefile temp.cpp\n",
        "# include <bits/stdc++.h>\n",
        "#include <string>\n",
        "using namespace std;\n",
        "\n",
        "void myFunction(string country = \"Norway\") {\n",
        "  cout << country << endl;\n",
        "}\n",
        "\n",
        "int main() {\n",
        "  myFunction(\"Sweden\");\n",
        "  myFunction(\"India\");\n",
        "  myFunction();\n",
        "}"
      ],
      "execution_count": 47,
      "outputs": [
        {
          "output_type": "stream",
          "name": "stdout",
          "text": [
            "Overwriting temp.cpp\n"
          ]
        }
      ]
    },
    {
      "cell_type": "code",
      "metadata": {
        "id": "wJ_FQ-okohmm",
        "colab": {
          "base_uri": "https://localhost:8080/"
        },
        "outputId": "b429fadc-57c3-462a-a031-4a02d57fbc7d"
      },
      "source": [
        "!g++ temp.cpp; ./a.out"
      ],
      "execution_count": 48,
      "outputs": [
        {
          "output_type": "stream",
          "name": "stdout",
          "text": [
            "Sweden\n",
            "India\n",
            "Norway\n"
          ]
        }
      ]
    },
    {
      "cell_type": "code",
      "metadata": {
        "id": "SPEQWGGTovf4",
        "colab": {
          "base_uri": "https://localhost:8080/"
        },
        "outputId": "29023dab-2b53-4368-d760-a18582917e82"
      },
      "source": [
        "# 複数の引数\n",
        "%%writefile temp.cpp\n",
        "# include <bits/stdc++.h>\n",
        "using namespace std;\n",
        "\n",
        "void myFunction(string fname, int age) {\n",
        "  cout << fname << \" Refsnes. \" << age << \" years old. \\n\";\n",
        "}\n",
        "\n",
        "int main() {\n",
        "  myFunction(\"Liam\", 3);\n",
        "  myFunction(\"Jenny\", 14);\n",
        "  myFunction(\"Anja\", 30);\n",
        "}\n"
      ],
      "execution_count": 49,
      "outputs": [
        {
          "output_type": "stream",
          "name": "stdout",
          "text": [
            "Overwriting temp.cpp\n"
          ]
        }
      ]
    },
    {
      "cell_type": "code",
      "metadata": {
        "id": "c1LJx3ffpCvq",
        "colab": {
          "base_uri": "https://localhost:8080/"
        },
        "outputId": "75a8da9b-9713-486d-df46-352cf0baccd5"
      },
      "source": [
        "!g++ temp.cpp; ./a.out"
      ],
      "execution_count": 50,
      "outputs": [
        {
          "output_type": "stream",
          "name": "stdout",
          "text": [
            "Liam Refsnes. 3 years old. \n",
            "Jenny Refsnes. 14 years old. \n",
            "Anja Refsnes. 30 years old. \n"
          ]
        }
      ]
    },
    {
      "cell_type": "code",
      "metadata": {
        "id": "ZVkDUuXnpmbK",
        "colab": {
          "base_uri": "https://localhost:8080/"
        },
        "outputId": "2f341161-f2ba-4173-f3dc-a7a3e6064090"
      },
      "source": [
        "%%writefile temp.cpp\n",
        "# include <bits/stdc++.h>\n",
        "using namespace std;\n",
        "\n",
        "int myFunction(int x, int y) {\n",
        "  return x + y;\n",
        "}\n",
        "\n",
        "int main() {\n",
        "  cout << myFunction(5, 3);\n",
        "  return 0;\n",
        "}\n"
      ],
      "execution_count": 51,
      "outputs": [
        {
          "output_type": "stream",
          "name": "stdout",
          "text": [
            "Overwriting temp.cpp\n"
          ]
        }
      ]
    },
    {
      "cell_type": "code",
      "metadata": {
        "id": "bGb-iR1GpmKd",
        "colab": {
          "base_uri": "https://localhost:8080/"
        },
        "outputId": "c9051fcc-76dc-4eb6-ac8b-d8ceb727fa44"
      },
      "source": [
        "!g++ temp.cpp; ./a.out"
      ],
      "execution_count": 52,
      "outputs": [
        {
          "output_type": "stream",
          "name": "stdout",
          "text": [
            "8"
          ]
        }
      ]
    },
    {
      "cell_type": "code",
      "metadata": {
        "id": "DMfV5zUpptvH",
        "colab": {
          "base_uri": "https://localhost:8080/"
        },
        "outputId": "e61eae80-6148-4a6e-e685-0dda1b9f8a4b"
      },
      "source": [
        "%%writefile temp.cpp\n",
        "# include <bits/stdc++.h>\n",
        "using namespace std;\n",
        "\n",
        "int myFunction(int x, int y) {\n",
        "  return x + y;\n",
        "}\n",
        "\n",
        "int main() {\n",
        "  int z = myFunction(5, 3);\n",
        "  cout << z;\n",
        "}\n"
      ],
      "execution_count": 53,
      "outputs": [
        {
          "output_type": "stream",
          "name": "stdout",
          "text": [
            "Overwriting temp.cpp\n"
          ]
        }
      ]
    },
    {
      "cell_type": "code",
      "metadata": {
        "id": "cjORLJfhptjJ",
        "colab": {
          "base_uri": "https://localhost:8080/"
        },
        "outputId": "3d57ac1f-9d07-4c88-e4bb-0a868428cf60"
      },
      "source": [
        "!g++ temp.cpp; ./a.out"
      ],
      "execution_count": 54,
      "outputs": [
        {
          "output_type": "stream",
          "name": "stdout",
          "text": [
            "8"
          ]
        }
      ]
    },
    {
      "cell_type": "code",
      "metadata": {
        "id": "7_ci617st4bU",
        "colab": {
          "base_uri": "https://localhost:8080/"
        },
        "outputId": "2ec8a80e-a232-40b8-d011-19640467deb0"
      },
      "source": [
        "# 数値の交換\n",
        "%%writefile temp.cpp\n",
        "# include <bits/stdc++.h>\n",
        "using namespace std;\n",
        "\n",
        "void swapNums(int &x, int &y) {\n",
        "  int z = x;\n",
        "  x = y;\n",
        "  y = z;\n",
        "}\n",
        "\n",
        "int main() {\n",
        "  int firstNum = 10;\n",
        "  int secondNum = 20;\n",
        "\n",
        "  cout << \"Before swap: \" << endl;\n",
        "  cout << firstNum << secondNum << endl;\n",
        "\n",
        "  swapNums(firstNum, secondNum);\n",
        "\n",
        "  cout << \"After swap: \" << endl;\n",
        "  cout << firstNum << secondNum << endl;\n",
        "}\n"
      ],
      "execution_count": 55,
      "outputs": [
        {
          "output_type": "stream",
          "name": "stdout",
          "text": [
            "Overwriting temp.cpp\n"
          ]
        }
      ]
    },
    {
      "cell_type": "code",
      "metadata": {
        "id": "LEzCoNq7t_vZ",
        "colab": {
          "base_uri": "https://localhost:8080/"
        },
        "outputId": "907e9ddd-bddf-4a1a-cb6c-a0aac4da3b35"
      },
      "source": [
        "!g++ temp.cpp; ./a.out"
      ],
      "execution_count": 56,
      "outputs": [
        {
          "output_type": "stream",
          "name": "stdout",
          "text": [
            "Before swap: \n",
            "1020\n",
            "After swap: \n",
            "2010\n"
          ]
        }
      ]
    },
    {
      "cell_type": "code",
      "source": [
        "# 数値の交換\n",
        "%%writefile temp.cpp\n",
        "# include <bits/stdc++.h>\n",
        "using namespace std;\n",
        "\n",
        "void swapNums(int &x, int &y) {\n",
        "    x = x + y;\n",
        "    y = x - y;\n",
        "    x = x - y;\n",
        "}\n",
        "\n",
        "int main() {\n",
        "  int firstNum = 10;\n",
        "  int secondNum = 20;\n",
        "\n",
        "  cout << \"Before swap: \" << endl;\n",
        "  cout << firstNum << secondNum << endl;\n",
        "\n",
        "  swapNums(firstNum, secondNum);\n",
        "\n",
        "  cout << \"After swap: \" << endl;\n",
        "  cout << firstNum << secondNum << endl;\n",
        "}\n"
      ],
      "metadata": {
        "colab": {
          "base_uri": "https://localhost:8080/"
        },
        "id": "CXaeYz5n0Yvp",
        "outputId": "cdca9db3-695c-4bf0-d1dc-b43b0e85eccf"
      },
      "execution_count": 57,
      "outputs": [
        {
          "output_type": "stream",
          "name": "stdout",
          "text": [
            "Overwriting temp.cpp\n"
          ]
        }
      ]
    },
    {
      "cell_type": "code",
      "source": [
        "!g++ temp.cpp; ./a.out"
      ],
      "metadata": {
        "colab": {
          "base_uri": "https://localhost:8080/"
        },
        "id": "bSl5BaY80YUp",
        "outputId": "c5b514eb-3434-4031-d7e6-df490e87eef4"
      },
      "execution_count": 58,
      "outputs": [
        {
          "output_type": "stream",
          "name": "stdout",
          "text": [
            "Before swap: \n",
            "1020\n",
            "After swap: \n",
            "2010\n"
          ]
        }
      ]
    },
    {
      "cell_type": "code",
      "metadata": {
        "id": "uloCDtwrumZA",
        "colab": {
          "base_uri": "https://localhost:8080/"
        },
        "outputId": "3b5e617e-9aec-40d0-fc0c-ac8f9b6023f6"
      },
      "source": [
        "%%writefile temp.cpp\n",
        "# include <bits/stdc++.h>\n",
        "using namespace std;\n",
        "\n",
        "int plusFunc(int x, int y) {\n",
        "  return x + y;\n",
        "}\n",
        "\n",
        "double plusFunc(double x, double y) {\n",
        "  return x + y;\n",
        "}\n",
        "\n",
        "int main() {\n",
        "  int myNum1 = plusFunc(8, 5);\n",
        "  double myNum2 = plusFunc(4.3, 6.26);\n",
        "  cout << \"Int: \" << myNum1 << endl;\n",
        "  cout << \"Double: \" << myNum2;\n",
        "  return 0;\n",
        "}"
      ],
      "execution_count": 59,
      "outputs": [
        {
          "output_type": "stream",
          "name": "stdout",
          "text": [
            "Overwriting temp.cpp\n"
          ]
        }
      ]
    },
    {
      "cell_type": "code",
      "metadata": {
        "id": "ngMHKqjLuoig",
        "colab": {
          "base_uri": "https://localhost:8080/"
        },
        "outputId": "b5a2501e-0926-4549-91ef-2c5c60849dda"
      },
      "source": [
        "!g++ temp.cpp; ./a.out"
      ],
      "execution_count": 60,
      "outputs": [
        {
          "output_type": "stream",
          "name": "stdout",
          "text": [
            "Int: 13\n",
            "Double: 10.56"
          ]
        }
      ]
    },
    {
      "cell_type": "code",
      "metadata": {
        "id": "2trXCKKNIoog",
        "colab": {
          "base_uri": "https://localhost:8080/"
        },
        "outputId": "9e47f549-53f7-4892-c319-de988e74e606"
      },
      "source": [
        "# クラス class\n",
        "%%writefile temp.cpp\n",
        "# include <bits/stdc++.h>\n",
        "using namespace std;\n",
        "\n",
        "class MyClass {       // The class\n",
        "  public:             // Access specifier\n",
        "    int myNum;        // Attribute (int variable)\n",
        "    string myString;  // Attribute (string variable)\n",
        "};\n",
        "\n",
        "int main() {\n",
        "  MyClass myObj;  // Create an object of MyClass\n",
        "\n",
        "  // Access attributes and set values\n",
        "  myObj.myNum = 15;\n",
        "  myObj.myString = \"Some text\";\n",
        "\n",
        "  // Print values\n",
        "  cout << myObj.myNum << endl; \n",
        "  cout << myObj.myString; \n",
        "  return 0;\n",
        "}\n"
      ],
      "execution_count": 61,
      "outputs": [
        {
          "output_type": "stream",
          "name": "stdout",
          "text": [
            "Overwriting temp.cpp\n"
          ]
        }
      ]
    },
    {
      "cell_type": "code",
      "metadata": {
        "id": "yPV_rnnII6h4",
        "colab": {
          "base_uri": "https://localhost:8080/"
        },
        "outputId": "8530fc00-652c-4481-9e14-a5a07091bf04"
      },
      "source": [
        "!g++ temp.cpp; ./a.out"
      ],
      "execution_count": 62,
      "outputs": [
        {
          "output_type": "stream",
          "name": "stdout",
          "text": [
            "15\n",
            "Some text"
          ]
        }
      ]
    },
    {
      "cell_type": "code",
      "metadata": {
        "id": "SL2JLGn2JGAI",
        "colab": {
          "base_uri": "https://localhost:8080/"
        },
        "outputId": "81548e2c-89f0-41b5-8f49-41e04969448e"
      },
      "source": [
        "# クラスと属性\n",
        "%%writefile temp.cpp\n",
        "# include <bits/stdc++.h>\n",
        "using namespace std;\n",
        "\n",
        "class Car {\n",
        "  public:\n",
        "    string brand;\n",
        "    string model;\n",
        "    int year;\n",
        "};\n",
        "\n",
        "int main() {\n",
        "  Car carObj1;\n",
        "  carObj1.brand = \"BMW\";\n",
        "  carObj1.model = \"X5\";\n",
        "  carObj1.year = 1999;\n",
        "\n",
        "  Car carObj2;\n",
        "  carObj2.brand = \"Ford\";\n",
        "  carObj2.model = \"Mustang\";\n",
        "  carObj2.year = 1969;\n",
        "\n",
        "  cout << carObj1.brand << \" \" << carObj1.model << \" \" << carObj1.year << endl;\n",
        "  cout << carObj2.brand << \" \" << carObj2.model << \" \" << carObj2.year << endl;\n",
        "}"
      ],
      "execution_count": 63,
      "outputs": [
        {
          "output_type": "stream",
          "name": "stdout",
          "text": [
            "Overwriting temp.cpp\n"
          ]
        }
      ]
    },
    {
      "cell_type": "code",
      "metadata": {
        "id": "gsTqn1uXJFc7",
        "colab": {
          "base_uri": "https://localhost:8080/"
        },
        "outputId": "122f8ffd-8ff2-4785-9b86-ef1822285b96"
      },
      "source": [
        "!g++ temp.cpp; ./a.out"
      ],
      "execution_count": 64,
      "outputs": [
        {
          "output_type": "stream",
          "name": "stdout",
          "text": [
            "BMW X5 1999\n",
            "Ford Mustang 1969\n"
          ]
        }
      ]
    },
    {
      "cell_type": "code",
      "metadata": {
        "id": "t5ziGTEKJYdX",
        "colab": {
          "base_uri": "https://localhost:8080/"
        },
        "outputId": "1457c3ab-d9b3-4e94-f34c-9fc7ebabea37"
      },
      "source": [
        "# クラスとメソッド\n",
        "%%writefile temp.cpp\n",
        "# include <bits/stdc++.h>\n",
        "using namespace std;\n",
        "\n",
        "class MyClass {         // The class\n",
        "  public:               // Access specifier\n",
        "    void myMethod() {   // Method/function\n",
        "      cout << \"Hello World!\";\n",
        "    }\n",
        "};\n",
        "\n",
        "int main() {\n",
        "  MyClass myObj;     // Create an object of MyClass\n",
        "  myObj.myMethod();  // Call the method\n",
        "  return 0;\n",
        "}"
      ],
      "execution_count": 65,
      "outputs": [
        {
          "output_type": "stream",
          "name": "stdout",
          "text": [
            "Overwriting temp.cpp\n"
          ]
        }
      ]
    },
    {
      "cell_type": "code",
      "metadata": {
        "id": "kO8LjkheJYGQ",
        "colab": {
          "base_uri": "https://localhost:8080/"
        },
        "outputId": "e9db9da0-c586-4cc8-95a7-22ef034a195b"
      },
      "source": [
        "!g++ temp.cpp; ./a.out"
      ],
      "execution_count": 66,
      "outputs": [
        {
          "output_type": "stream",
          "name": "stdout",
          "text": [
            "Hello World!"
          ]
        }
      ]
    },
    {
      "cell_type": "code",
      "metadata": {
        "id": "FdehYAOxJ9hn",
        "colab": {
          "base_uri": "https://localhost:8080/"
        },
        "outputId": "dfe51623-a107-44be-8a4e-2230362bc9db"
      },
      "source": [
        "# クラスメソッドの定義 `::` コロンコロン\n",
        "%%writefile temp.cpp\n",
        "# include <bits/stdc++.h>\n",
        "using namespace std;\n",
        "\n",
        "class MyClass {         // The class\n",
        "  public:               // Access specifier\n",
        "    void myMethod();    // Method/function declaration\n",
        "};\n",
        "\n",
        "// Method/function definition outside the class\n",
        "void MyClass::myMethod() {\n",
        "  cout << \"Hello World!\";\n",
        "}\n",
        "\n",
        "int main() {\n",
        "  MyClass myObj;     // Create an object of MyClass\n",
        "  myObj.myMethod();  // Call the method\n",
        "}"
      ],
      "execution_count": 67,
      "outputs": [
        {
          "output_type": "stream",
          "name": "stdout",
          "text": [
            "Overwriting temp.cpp\n"
          ]
        }
      ]
    },
    {
      "cell_type": "code",
      "metadata": {
        "id": "hQWeWer7J9Xc",
        "colab": {
          "base_uri": "https://localhost:8080/"
        },
        "outputId": "9bd686f0-37d7-4bb7-9e40-b13fceeb6fc0"
      },
      "source": [
        "!g++ temp.cpp; ./a.out"
      ],
      "execution_count": 68,
      "outputs": [
        {
          "output_type": "stream",
          "name": "stdout",
          "text": [
            "Hello World!"
          ]
        }
      ]
    },
    {
      "cell_type": "code",
      "metadata": {
        "id": "PYdljvoqKlUH",
        "colab": {
          "base_uri": "https://localhost:8080/"
        },
        "outputId": "91974317-b460-429d-8e19-a3c2f41059a7"
      },
      "source": [
        "#\n",
        "%%writefile temp.cpp\n",
        "# include <bits/stdc++.h>\n",
        "using namespace std;\n",
        "\n",
        "class Car {\n",
        "  public:\n",
        "    int speed(int maxSpeed);\n",
        "};\n",
        "\n",
        "int Car::speed(int maxSpeed) {\n",
        "  return maxSpeed;\n",
        "}\n",
        "\n",
        "int main() {\n",
        "  Car myObj;\n",
        "  cout << myObj.speed(200);\n",
        "}"
      ],
      "execution_count": 69,
      "outputs": [
        {
          "output_type": "stream",
          "name": "stdout",
          "text": [
            "Overwriting temp.cpp\n"
          ]
        }
      ]
    },
    {
      "cell_type": "code",
      "metadata": {
        "id": "uyOTylWeKlLo",
        "colab": {
          "base_uri": "https://localhost:8080/"
        },
        "outputId": "42ab7717-e067-4814-a7f8-05aaac0e1b8b"
      },
      "source": [
        "!g++ temp.cpp; ./a.out"
      ],
      "execution_count": 70,
      "outputs": [
        {
          "output_type": "stream",
          "name": "stdout",
          "text": [
            "200"
          ]
        }
      ]
    },
    {
      "cell_type": "code",
      "metadata": {
        "id": "yPnon0NEGpBA",
        "colab": {
          "base_uri": "https://localhost:8080/"
        },
        "outputId": "163d24c0-885a-474c-aff4-e9c8bda581d5"
      },
      "source": [
        "# \n",
        "%%writefile temp.cpp\n",
        "# include <bits/stdc++.h>\n",
        "using namespace std;\n",
        "\n",
        "class MyClass {     // The class\n",
        "  public:           // Access specifier\n",
        "    MyClass() {     // Constructor\n",
        "      cout << \"Hello World!\";\n",
        "    }\n",
        "};\n",
        "\n",
        "int main() {\n",
        "  MyClass myObj;    // Create an object of MyClass (this will call the constructor)\n",
        "}"
      ],
      "execution_count": 71,
      "outputs": [
        {
          "output_type": "stream",
          "name": "stdout",
          "text": [
            "Overwriting temp.cpp\n"
          ]
        }
      ]
    },
    {
      "cell_type": "code",
      "metadata": {
        "id": "4H6uhhuNGozO",
        "colab": {
          "base_uri": "https://localhost:8080/"
        },
        "outputId": "6a655437-0c58-4274-892c-377c77d0eafa"
      },
      "source": [
        "!g++ temp.cpp; ./a.out"
      ],
      "execution_count": 72,
      "outputs": [
        {
          "output_type": "stream",
          "name": "stdout",
          "text": [
            "Hello World!"
          ]
        }
      ]
    },
    {
      "cell_type": "code",
      "metadata": {
        "id": "QjkuRZ3DHE8U",
        "colab": {
          "base_uri": "https://localhost:8080/"
        },
        "outputId": "164beffe-2d04-48e2-9111-a8b46c6ca38e"
      },
      "source": [
        "#\n",
        "%%writefile temp.cpp\n",
        "# include <bits/stdc++.h>\n",
        "using namespace std;\n",
        "\n",
        "class Car {        // The class\n",
        "  public:          // Access specifier\n",
        "    string brand;  // Attribute\n",
        "    string model;  // Attribute\n",
        "    int year;      // Attribute\n",
        "    Car(string x, string y, int z) {  // Constructor with parameters\n",
        "      brand = x;\n",
        "      model = y;\n",
        "      year = z;\n",
        "    }\n",
        "};\n",
        "\n",
        "int main() {\n",
        "  // Create Car objects and call the constructor with different values\n",
        "  Car carObj1(\"BMW\", \"X5\", 1999);\n",
        "  Car carObj2(\"Ford\", \"Mustang\", 1969);\n",
        "\n",
        "  // Print values\n",
        "  cout << carObj1.brand << \" \" << carObj1.model << \" \" << carObj1.year << endl;\n",
        "  cout << carObj2.brand << \" \" << carObj2.model << \" \" << carObj2.year << endl;\n",
        "}"
      ],
      "execution_count": 73,
      "outputs": [
        {
          "output_type": "stream",
          "name": "stdout",
          "text": [
            "Overwriting temp.cpp\n"
          ]
        }
      ]
    },
    {
      "cell_type": "code",
      "metadata": {
        "id": "r7BS44sTHEzk",
        "colab": {
          "base_uri": "https://localhost:8080/"
        },
        "outputId": "d0e5bd66-e1dc-4872-ccd1-8325ae85aeeb"
      },
      "source": [
        "!g++ temp.cpp; ./a.out"
      ],
      "execution_count": 74,
      "outputs": [
        {
          "output_type": "stream",
          "name": "stdout",
          "text": [
            "BMW X5 1999\n",
            "Ford Mustang 1969\n"
          ]
        }
      ]
    },
    {
      "cell_type": "code",
      "metadata": {
        "id": "sAWgqgADHg47",
        "colab": {
          "base_uri": "https://localhost:8080/"
        },
        "outputId": "fd2b946a-f039-4da4-efeb-480e6e1190d1"
      },
      "source": [
        "# \n",
        "%%writefile temp.cpp\n",
        "# include <bits/stdc++.h>\n",
        "using namespace std;\n",
        "\n",
        "class Car {        // The class\n",
        "  public:          // Access specifier\n",
        "    string brand;  // Attribute\n",
        "    string model;  // Attribute\n",
        "    int year;      // Attribute\n",
        "    Car(string x, string y, int z); // Constructor declaration\n",
        "};\n",
        "\n",
        "// Constructor definition outside the class\n",
        "Car::Car(string x, string y, int z) {\n",
        "  brand = x;\n",
        "  model = y;\n",
        "  year = z;\n",
        "}\n",
        "\n",
        "int main() {\n",
        "  // Create Car objects and call the constructor with different values\n",
        "  Car carObj1(\"BMW\", \"X5\", 1999);\n",
        "  Car carObj2(\"Ford\", \"Mustang\", 1969);\n",
        "\n",
        "  // Print values\n",
        "  cout << carObj1.brand << \" \" << carObj1.model << \" \" << carObj1.year << endl;\n",
        "  cout << carObj2.brand << \" \" << carObj2.model << \" \" << carObj2.year << endl;\n",
        "}"
      ],
      "execution_count": 75,
      "outputs": [
        {
          "output_type": "stream",
          "name": "stdout",
          "text": [
            "Overwriting temp.cpp\n"
          ]
        }
      ]
    },
    {
      "cell_type": "code",
      "metadata": {
        "id": "-JagdTUNHg0f",
        "colab": {
          "base_uri": "https://localhost:8080/"
        },
        "outputId": "b48ba148-4f25-4695-fd71-ed4019787742"
      },
      "source": [
        "!g++ temp.cpp; ./a.out"
      ],
      "execution_count": 76,
      "outputs": [
        {
          "output_type": "stream",
          "name": "stdout",
          "text": [
            "BMW X5 1999\n",
            "Ford Mustang 1969\n"
          ]
        }
      ]
    },
    {
      "cell_type": "code",
      "metadata": {
        "id": "wwPyr_ITH90I"
      },
      "source": [
        "%%script false\n",
        "# include <bits/stdc++.h>\n",
        "using namespace std;\n",
        "\n",
        "class MyClass {\n",
        "  public:    // Public access specifier\n",
        "    int x;   // Public attribute\n",
        "  private:   // Private access specifier\n",
        "    int y;   // Private attribute\n",
        "};\n",
        "\n",
        "int main() {\n",
        "  MyClass myObj;\n",
        "  myObj.x = 25;  // Allowed (x is public)\n",
        "  myObj.y = 50;  // Not allowed (y is private)\n",
        "  return 0;\n",
        "}\n",
        "\n",
        "\n",
        "# In function 'int main()':\n",
        "# Line 8: error: 'int MyClass::y' is private\n",
        "# Line 14: error: within this context"
      ],
      "execution_count": 77,
      "outputs": []
    },
    {
      "cell_type": "code",
      "metadata": {
        "id": "LfIOgkyZInao",
        "colab": {
          "base_uri": "https://localhost:8080/"
        },
        "outputId": "ae990588-8d2c-4455-87bd-dca7015a83ac"
      },
      "source": [
        "%%writefile temp.cpp\n",
        "# include <bits/stdc++.h>\n",
        "using namespace std;\n",
        "\n",
        "class MyClass {   // The class\n",
        "  public:         // Public access specifier\n",
        "    int x;        // Public attribute (int variable)\n",
        "};\n",
        "\n",
        "int main() {\n",
        "  MyClass myObj;  // Create an object of MyClass\n",
        "\n",
        "  // Access attributes and set values\n",
        "  myObj.x = 15;\n",
        "\n",
        "  // Print values\n",
        "  cout << myObj.x; \n",
        "  return 0;\n",
        "}\n"
      ],
      "execution_count": 78,
      "outputs": [
        {
          "output_type": "stream",
          "name": "stdout",
          "text": [
            "Overwriting temp.cpp\n"
          ]
        }
      ]
    },
    {
      "cell_type": "code",
      "metadata": {
        "id": "oiG0RSZjInHS",
        "colab": {
          "base_uri": "https://localhost:8080/"
        },
        "outputId": "bf95262e-6fe2-4e95-f92e-2a984ff4f1ac"
      },
      "source": [
        "!g++ temp.cpp; ./a.out"
      ],
      "execution_count": 79,
      "outputs": [
        {
          "output_type": "stream",
          "name": "stdout",
          "text": [
            "15"
          ]
        }
      ]
    },
    {
      "cell_type": "code",
      "metadata": {
        "id": "aOru4KrJYA1S",
        "colab": {
          "base_uri": "https://localhost:8080/"
        },
        "outputId": "c1e786f9-b85b-47be-9122-e23c373cffd3"
      },
      "source": [
        "%%writefile temp.cpp\n",
        "# include <bits/stdc++.h>\n",
        "using namespace std;\n",
        "\n",
        "class Employee {\n",
        "  private:\n",
        "    int salary;\n",
        "\n",
        "  public:\n",
        "    void setSalary(int s) {\n",
        "      salary = s;\n",
        "    }\n",
        "    int getSalary() {\n",
        "      return salary;\n",
        "    }\n",
        "};\n",
        "\n",
        "int main() {\n",
        "  Employee myObj;\n",
        "  myObj.setSalary(50000);\n",
        "  cout << myObj.getSalary();\n",
        "  return 0;\n",
        "}"
      ],
      "execution_count": 80,
      "outputs": [
        {
          "output_type": "stream",
          "name": "stdout",
          "text": [
            "Overwriting temp.cpp\n"
          ]
        }
      ]
    },
    {
      "cell_type": "code",
      "metadata": {
        "id": "zaolZDXrYD9V",
        "colab": {
          "base_uri": "https://localhost:8080/"
        },
        "outputId": "d7e7280e-0817-4acf-9c2f-6ba27a9cce05"
      },
      "source": [
        "!g++ temp.cpp; ./a.out"
      ],
      "execution_count": 81,
      "outputs": [
        {
          "output_type": "stream",
          "name": "stdout",
          "text": [
            "50000"
          ]
        }
      ]
    },
    {
      "cell_type": "code",
      "metadata": {
        "id": "BQ7FyXY7YqxQ",
        "colab": {
          "base_uri": "https://localhost:8080/"
        },
        "outputId": "838e26a2-6be9-4379-937e-d9f169b2f7c6"
      },
      "source": [
        "%%writefile temp.cpp\n",
        "# include <bits/stdc++.h>\n",
        "#include <string>\n",
        "using namespace std;\n",
        "\n",
        "// Base class\n",
        "class Vehicle {\n",
        "  public: \n",
        "    string brand = \"Ford\";\n",
        "    void honk() {\n",
        "      cout << \"Tuut, tuut! \\n\" ;\n",
        "    }\n",
        "};\n",
        "\n",
        "// Derived class\n",
        "class Car: public Vehicle {\n",
        "  public: \n",
        "    string model = \"Mustang\";\n",
        "};\n",
        "\n",
        "int main() {\n",
        "  Car myCar;\n",
        "  myCar.honk();\n",
        "  cout << myCar.brand + \" \" + myCar.model;\n",
        "  return 0;\n",
        "}"
      ],
      "execution_count": 82,
      "outputs": [
        {
          "output_type": "stream",
          "name": "stdout",
          "text": [
            "Overwriting temp.cpp\n"
          ]
        }
      ]
    },
    {
      "cell_type": "code",
      "metadata": {
        "id": "YDeaI5uzYucL",
        "colab": {
          "base_uri": "https://localhost:8080/"
        },
        "outputId": "0be5122d-e46c-4f2d-d965-c7603c06efbe"
      },
      "source": [
        "!g++ temp.cpp; ./a.out"
      ],
      "execution_count": 83,
      "outputs": [
        {
          "output_type": "stream",
          "name": "stdout",
          "text": [
            "Tuut, tuut! \n",
            "Ford Mustang"
          ]
        }
      ]
    },
    {
      "cell_type": "code",
      "metadata": {
        "id": "94a6-oLOZKkn",
        "colab": {
          "base_uri": "https://localhost:8080/"
        },
        "outputId": "aa7c4fd1-7d8b-4b24-c431-5a87324303fb"
      },
      "source": [
        "%%writefile temp.cpp\n",
        "# include <bits/stdc++.h>\n",
        "using namespace std;\n",
        "\n",
        "// Parent class\n",
        "class MyClass {\n",
        "  public: \n",
        "    void myFunction() {\n",
        "      cout << \"Some content in parent class.\" ;\n",
        "    }\n",
        "};\n",
        "\n",
        "// Child class\n",
        "class MyChild: public MyClass {\n",
        "};\n",
        "\n",
        "// Grandchild class \n",
        "class MyGrandChild: public MyChild {\n",
        "};\n",
        "\n",
        "int main() {\n",
        "  MyGrandChild myObj;\n",
        "  myObj.myFunction();\n",
        "  return 0;\n",
        "}\n"
      ],
      "execution_count": 84,
      "outputs": [
        {
          "output_type": "stream",
          "name": "stdout",
          "text": [
            "Overwriting temp.cpp\n"
          ]
        }
      ]
    },
    {
      "cell_type": "code",
      "metadata": {
        "id": "Jrs7Y29GZM8c",
        "colab": {
          "base_uri": "https://localhost:8080/"
        },
        "outputId": "3842e619-83cf-443b-ed74-88b78e05824a"
      },
      "source": [
        "!g++ temp.cpp; ./a.out"
      ],
      "execution_count": 85,
      "outputs": [
        {
          "output_type": "stream",
          "name": "stdout",
          "text": [
            "Some content in parent class."
          ]
        }
      ]
    },
    {
      "cell_type": "code",
      "metadata": {
        "id": "8-AvRNkWZhqf",
        "colab": {
          "base_uri": "https://localhost:8080/"
        },
        "outputId": "d4390dfc-328e-4d09-84d3-7bf0e4bbe8e6"
      },
      "source": [
        "%%writefile temp.cpp\n",
        "# include <bits/stdc++.h>\n",
        "using namespace std;\n",
        "\n",
        "// Base class\n",
        "class MyClass {\n",
        "  public:\n",
        "    void myFunction() {\n",
        "      cout << \"Some content in parent class.\\n\" ;\n",
        "    }\n",
        "};\n",
        "\n",
        "// Another base class\n",
        "class MyOtherClass {\n",
        "  public:\n",
        "    void myOtherFunction() {\n",
        "      cout << \"Some content in another class.\\n\" ;\n",
        "    }\n",
        "};\n",
        "\n",
        "// Derived class\n",
        "class MyChildClass: public MyClass, public MyOtherClass {\n",
        "};\n",
        "\n",
        "int main() {\n",
        "  MyChildClass myObj;\n",
        "  myObj.myFunction();\n",
        "  myObj.myOtherFunction();\n",
        "  return 0;\n",
        "}\n"
      ],
      "execution_count": 86,
      "outputs": [
        {
          "output_type": "stream",
          "name": "stdout",
          "text": [
            "Overwriting temp.cpp\n"
          ]
        }
      ]
    },
    {
      "cell_type": "code",
      "metadata": {
        "id": "XVvEQr3-ZyGd",
        "colab": {
          "base_uri": "https://localhost:8080/"
        },
        "outputId": "a2d64260-4817-4a2e-c803-808e01cbe9ac"
      },
      "source": [
        "!g++ temp.cpp; ./a.out"
      ],
      "execution_count": 87,
      "outputs": [
        {
          "output_type": "stream",
          "name": "stdout",
          "text": [
            "Some content in parent class.\n",
            "Some content in another class.\n"
          ]
        }
      ]
    },
    {
      "cell_type": "code",
      "metadata": {
        "id": "npPHwffZaCU_",
        "colab": {
          "base_uri": "https://localhost:8080/"
        },
        "outputId": "39095cdb-e2e8-4952-89bc-ba7c404a5f58"
      },
      "source": [
        "%%writefile temp.cpp\n",
        "# include <bits/stdc++.h>\n",
        "using namespace std;\n",
        "\n",
        "// Base class\n",
        "class Employee  {\n",
        "  protected:  // Protected access specifier\n",
        "    int salary;\n",
        "};\n",
        "\n",
        "// Derived class\n",
        "class Programmer: public Employee {\n",
        "  public:\n",
        "    int bonus;\n",
        "    void setSalary(int s) {\n",
        "      salary = s;\n",
        "    }\n",
        "    int getSalary() {\n",
        "      return salary;\n",
        "    }\n",
        "};\n",
        "\n",
        "int main() {\n",
        "  Programmer myObj;\n",
        "  myObj.setSalary(50000);\n",
        "  myObj.bonus = 15000;\n",
        "  cout << \"Salary: \" << myObj.getSalary() << endl;\n",
        "  cout << \"Bonus: \" << myObj.bonus << endl;\n",
        "  return 0;\n",
        "}\n"
      ],
      "execution_count": 88,
      "outputs": [
        {
          "output_type": "stream",
          "name": "stdout",
          "text": [
            "Overwriting temp.cpp\n"
          ]
        }
      ]
    },
    {
      "cell_type": "code",
      "metadata": {
        "id": "WUYFP1u8aIjb",
        "colab": {
          "base_uri": "https://localhost:8080/"
        },
        "outputId": "6c5be2eb-64c2-4b58-b996-e2779276f0ca"
      },
      "source": [
        "!g++ temp.cpp; ./a.out"
      ],
      "execution_count": 89,
      "outputs": [
        {
          "output_type": "stream",
          "name": "stdout",
          "text": [
            "Salary: 50000\n",
            "Bonus: 15000\n"
          ]
        }
      ]
    },
    {
      "cell_type": "code",
      "metadata": {
        "id": "smDbnHa3X8qp",
        "colab": {
          "base_uri": "https://localhost:8080/"
        },
        "outputId": "a410e171-fc2e-4e7f-e34c-8e76430352d0"
      },
      "source": [
        "%%writefile temp.cpp\n",
        "# include <bits/stdc++.h>\n",
        "#include <string>\n",
        "using namespace std;\n",
        "\n",
        "// Base class\n",
        "class Animal {\n",
        "  public:\n",
        "    void animalSound() {\n",
        "      cout << \"The animal makes a sound \\n\" ;\n",
        "    }\n",
        "};\n",
        "\n",
        "// Derived class\n",
        "class Pig : public Animal {\n",
        "  public:\n",
        "    void animalSound() {\n",
        "      cout << \"The pig says: wee wee \\n\" ;\n",
        "    }\n",
        "};\n",
        "\n",
        "// Derived class\n",
        "class Dog : public Animal {\n",
        "  public:\n",
        "    void animalSound() {\n",
        "      cout << \"The dog says: bow wow \\n\" ;\n",
        "    }\n",
        "};\n",
        "\n",
        "int main() {\n",
        "  Animal myAnimal;\n",
        "  Pig myPig;\n",
        "  Dog myDog;\n",
        "\n",
        "  myAnimal.animalSound();\n",
        "  myPig.animalSound();\n",
        "  myDog.animalSound();\n",
        "  return 0;\n",
        "}\n"
      ],
      "execution_count": 90,
      "outputs": [
        {
          "output_type": "stream",
          "name": "stdout",
          "text": [
            "Overwriting temp.cpp\n"
          ]
        }
      ]
    },
    {
      "cell_type": "code",
      "metadata": {
        "id": "YA0Yro23YB0M",
        "colab": {
          "base_uri": "https://localhost:8080/"
        },
        "outputId": "e7243b11-6218-454c-8ad8-ff947860f42a"
      },
      "source": [
        "!g++ temp.cpp; ./a.out"
      ],
      "execution_count": 91,
      "outputs": [
        {
          "output_type": "stream",
          "name": "stdout",
          "text": [
            "The animal makes a sound \n",
            "The pig says: wee wee \n",
            "The dog says: bow wow \n"
          ]
        }
      ]
    },
    {
      "cell_type": "code",
      "metadata": {
        "id": "JYjXHaQCYo9B",
        "colab": {
          "base_uri": "https://localhost:8080/"
        },
        "outputId": "1af0377a-0f60-4abb-8bb8-5c1a981b0e41"
      },
      "source": [
        "# ファイル操作\n",
        "%%writefile temp.cpp\n",
        "# include <bits/stdc++.h>\n",
        "// #include <fstream>\n",
        "using namespace std;\n",
        "\n",
        "int main () {\n",
        "  ofstream MyWriteFile(\"filename.txt\"); \n",
        "  MyWriteFile << \"Files can be tricky, but it is fun enough!\\n日本語はどうか\";\n",
        "  MyWriteFile.close();\n",
        "\n",
        "  string myText;\n",
        "\n",
        "  ifstream MyReadFile(\"filename.txt\");\n",
        "\n",
        "  while (getline (MyReadFile, myText)) {\n",
        "    cout << myText << endl;\n",
        "  }\n",
        "\n",
        "  MyReadFile.close();\n",
        "}"
      ],
      "execution_count": 92,
      "outputs": [
        {
          "output_type": "stream",
          "name": "stdout",
          "text": [
            "Overwriting temp.cpp\n"
          ]
        }
      ]
    },
    {
      "cell_type": "code",
      "metadata": {
        "id": "DusXiwvrYxVW",
        "colab": {
          "base_uri": "https://localhost:8080/"
        },
        "outputId": "1035c58c-cf0a-40da-ceb0-05adcbe7bb3b"
      },
      "source": [
        "!g++ temp.cpp; ./a.out"
      ],
      "execution_count": 93,
      "outputs": [
        {
          "output_type": "stream",
          "name": "stdout",
          "text": [
            "Files can be tricky, but it is fun enough!\n",
            "日本語はどうか\n"
          ]
        }
      ]
    },
    {
      "cell_type": "code",
      "source": [
        "# ./sample_data/README.md で実験\n",
        "%%writefile temp.cpp\n",
        "# include <bits/stdc++.h>\n",
        "using namespace std;\n",
        "\n",
        "int main () {\n",
        "  string myText;\n",
        "  ifstream MyReadFile(\"./sample_data/README.md\");\n",
        "\n",
        "for (int i=0; i < 7; i++){\n",
        "    getline (MyReadFile, myText);\n",
        "    cout << myText << endl;\n",
        "  }\n",
        "}"
      ],
      "metadata": {
        "id": "uRdqmqCoXMzA",
        "outputId": "f29cd499-2af2-4602-dd5e-392c18bc1c7c",
        "colab": {
          "base_uri": "https://localhost:8080/"
        }
      },
      "execution_count": 94,
      "outputs": [
        {
          "output_type": "stream",
          "name": "stdout",
          "text": [
            "Overwriting temp.cpp\n"
          ]
        }
      ]
    },
    {
      "cell_type": "code",
      "source": [
        "!g++ temp.cpp; ./a.out"
      ],
      "metadata": {
        "id": "kaKNcEVmXeEX",
        "colab": {
          "base_uri": "https://localhost:8080/"
        },
        "outputId": "5d87430d-f1a0-4cca-837a-47ab4b0396a3"
      },
      "execution_count": 95,
      "outputs": [
        {
          "output_type": "stream",
          "name": "stdout",
          "text": [
            "This directory includes a few sample datasets to get you started.\n",
            "\n",
            "*   `california_housing_data*.csv` is California housing data from the 1990 US\n",
            "    Census; more information is available at:\n",
            "    https://developers.google.com/machine-learning/crash-course/california-housing-data-description\n",
            "\n",
            "*   `mnist_*.csv` is a small sample of the\n"
          ]
        }
      ]
    },
    {
      "cell_type": "code",
      "source": [
        "# 実験 ファイルを一度全部読み込む\n",
        "%%writefile temp.cpp\n",
        "# include <bits/stdc++.h>\n",
        "using namespace std;\n",
        "int main () {\n",
        "  ifstream ifs(\"./sample_data/README.md\");\n",
        "//   string myText((istreambuf_iterator<char>(ifs)), istreambuf_iterator<char>());\n",
        "  stringstream myStream;\n",
        "  myStream << ifs.rdbuf();\n",
        "  cout << myStream.str() << endl;\n",
        "}"
      ],
      "metadata": {
        "id": "yI2w17S0WS3A",
        "outputId": "24861756-83ae-4798-d965-1696df04244b",
        "colab": {
          "base_uri": "https://localhost:8080/"
        }
      },
      "execution_count": 96,
      "outputs": [
        {
          "output_type": "stream",
          "name": "stdout",
          "text": [
            "Overwriting temp.cpp\n"
          ]
        }
      ]
    },
    {
      "cell_type": "code",
      "source": [
        "!g++ temp.cpp; ./a.out"
      ],
      "metadata": {
        "id": "xbJp8FKkY_vu",
        "colab": {
          "base_uri": "https://localhost:8080/"
        },
        "outputId": "6cf8222a-8276-4c19-dd76-e807ac1751c5"
      },
      "execution_count": 97,
      "outputs": [
        {
          "output_type": "stream",
          "name": "stdout",
          "text": [
            "This directory includes a few sample datasets to get you started.\n",
            "\n",
            "*   `california_housing_data*.csv` is California housing data from the 1990 US\n",
            "    Census; more information is available at:\n",
            "    https://developers.google.com/machine-learning/crash-course/california-housing-data-description\n",
            "\n",
            "*   `mnist_*.csv` is a small sample of the\n",
            "    [MNIST database](https://en.wikipedia.org/wiki/MNIST_database), which is\n",
            "    described at: http://yann.lecun.com/exdb/mnist/\n",
            "\n",
            "*   `anscombe.json` contains a copy of\n",
            "    [Anscombe's quartet](https://en.wikipedia.org/wiki/Anscombe%27s_quartet); it\n",
            "    was originally described in\n",
            "\n",
            "    Anscombe, F. J. (1973). 'Graphs in Statistical Analysis'. American\n",
            "    Statistician. 27 (1): 17-21. JSTOR 2682899.\n",
            "\n",
            "    and our copy was prepared by the\n",
            "    [vega_datasets library](https://github.com/altair-viz/vega_datasets/blob/4f67bdaad10f45e3549984e17e1b3088c731503d/vega_datasets/_data/anscombe.json).\n",
            "\n"
          ]
        }
      ]
    },
    {
      "cell_type": "code",
      "source": [
        "# 実験 ファイルを一度全部読み込む => vector<string> に入れる\n",
        "%%writefile temp.cpp\n",
        "# include <bits/stdc++.h>\n",
        "using namespace std;\n",
        "int main () {\n",
        "    ofstream ofs(\"temp.txt\");\n",
        "    ofs << \"foo bar baz \\n\";\n",
        "    ofs << \"This is a pen\" << endl;\n",
        "    ofs << \"日本語もどうか\" << endl << endl;\n",
        "    ofs << \"これが最後\" << endl;\n",
        "    ofs << \"ん\";\n",
        "    ofs.close();\n",
        "\n",
        "    ifstream ifs(\"./temp.txt\");\n",
        "    vector<string> myLines;\n",
        "    string myLine;\n",
        "    while (getline (ifs, myLine)) {\n",
        "        myLines.push_back(myLine);\n",
        "    };\n",
        "\n",
        "    sort(myLines.begin(), myLines.end());\n",
        "\n",
        "    for (string line: myLines){\n",
        "        if (line != \"\")cout << line << endl;\n",
        "    }\n",
        "}"
      ],
      "metadata": {
        "id": "8vOtNvRFE-zj",
        "outputId": "6932cf95-ab32-46ce-8123-207f0c9b861c",
        "colab": {
          "base_uri": "https://localhost:8080/"
        }
      },
      "execution_count": 98,
      "outputs": [
        {
          "output_type": "stream",
          "name": "stdout",
          "text": [
            "Overwriting temp.cpp\n"
          ]
        }
      ]
    },
    {
      "cell_type": "code",
      "source": [
        "!g++ temp.cpp; ./a.out"
      ],
      "metadata": {
        "id": "CL2MFbRXE-p8",
        "outputId": "93ce7db8-8eff-46a9-ce3e-72104121ffe1",
        "colab": {
          "base_uri": "https://localhost:8080/"
        }
      },
      "execution_count": 99,
      "outputs": [
        {
          "output_type": "stream",
          "name": "stdout",
          "text": [
            "This is a pen\n",
            "foo bar baz \n",
            "これが最後\n",
            "ん\n",
            "日本語もどうか\n"
          ]
        }
      ]
    },
    {
      "cell_type": "code",
      "source": [
        "!cat temp.txt"
      ],
      "metadata": {
        "id": "vrQT3oE6p0xY",
        "outputId": "aff53ea5-92bb-42b3-b5ca-185efc8da7d3",
        "colab": {
          "base_uri": "https://localhost:8080/"
        }
      },
      "execution_count": 100,
      "outputs": [
        {
          "output_type": "stream",
          "name": "stdout",
          "text": [
            "foo bar baz \n",
            "This is a pen\n",
            "日本語もどうか\n",
            "\n",
            "これが最後\n",
            "ん"
          ]
        }
      ]
    },
    {
      "cell_type": "code",
      "metadata": {
        "id": "zSk0BNsoNrBT",
        "colab": {
          "base_uri": "https://localhost:8080/"
        },
        "outputId": "bd3cf8c7-239e-44df-b616-0250d8750522"
      },
      "source": [
        "# 上書きと追記\n",
        "%%writefile file.txt\n",
        "Good friend, for Jesus' sake forbear,\n",
        "To dig the dust enclosed here.\n",
        "Blest be the man that spares these stones,\n",
        "And cursed be he that moves my bones."
      ],
      "execution_count": 101,
      "outputs": [
        {
          "output_type": "stream",
          "name": "stdout",
          "text": [
            "Writing file.txt\n"
          ]
        }
      ]
    },
    {
      "cell_type": "code",
      "metadata": {
        "id": "vL_9djouNWae",
        "colab": {
          "base_uri": "https://localhost:8080/"
        },
        "outputId": "7985154d-25f8-4cb8-8798-02ba24638b33"
      },
      "source": [
        "# テキストファイルに追加する\n",
        "%%writefile temp.cpp\n",
        "# include <bits/stdc++.h>\n",
        "using namespace std;\n",
        "\n",
        "int main() {\n",
        "    ofstream file(\"file.txt\", ios::app); // append の意味\n",
        "    string quotation(\"--- William Shakespeare's Epitaph\");\n",
        "\n",
        "    file << \"\\n\" << quotation;\n",
        "\n",
        "    string myText;\n",
        "\n",
        "    ifstream MyReadFile(\"file.txt\");\n",
        "\n",
        "    while (getline (MyReadFile, myText)) {\n",
        "        cout << myText << endl;\n",
        "    }\n",
        "}"
      ],
      "execution_count": 102,
      "outputs": [
        {
          "output_type": "stream",
          "name": "stdout",
          "text": [
            "Overwriting temp.cpp\n"
          ]
        }
      ]
    },
    {
      "cell_type": "code",
      "metadata": {
        "id": "dIhLrYy7Nkca",
        "colab": {
          "base_uri": "https://localhost:8080/"
        },
        "outputId": "efb90960-3b1b-4008-f569-576a9503b138"
      },
      "source": [
        "!g++ temp.cpp; ./a.out"
      ],
      "execution_count": 103,
      "outputs": [
        {
          "output_type": "stream",
          "name": "stdout",
          "text": [
            "Good friend, for Jesus' sake forbear,\n",
            "To dig the dust enclosed here.\n",
            "Blest be the man that spares these stones,\n",
            "And cursed be he that moves my bones.\n"
          ]
        }
      ]
    },
    {
      "cell_type": "code",
      "metadata": {
        "id": "v7nVRIvWnl-k",
        "colab": {
          "base_uri": "https://localhost:8080/"
        },
        "outputId": "263aa705-7909-44f0-a37a-36bf819859cb"
      },
      "source": [
        "# 例外処理 exceptions\n",
        "# 次のプログラムの age を変えて実行してみる\n",
        "%%writefile temp.cpp\n",
        "# include <bits/stdc++.h>\n",
        "using namespace std;\n",
        "\n",
        "int main() {\n",
        "  try {\n",
        "    int age = 15;\n",
        "    if (age >= 18) {\n",
        "      cout << \"Access granted - you are old enough.\";\n",
        "    } else {\n",
        "      throw (age);\n",
        "    }\n",
        "  }\n",
        "  catch (int myNum) {\n",
        "    cout << \"Access denied - You must be at least 18 years old.\\n\";\n",
        "    cout << \"Age is: \" << myNum;  \n",
        "  }\n",
        "}"
      ],
      "execution_count": 104,
      "outputs": [
        {
          "output_type": "stream",
          "name": "stdout",
          "text": [
            "Overwriting temp.cpp\n"
          ]
        }
      ]
    },
    {
      "cell_type": "code",
      "metadata": {
        "id": "sXH_yclMnwrK",
        "colab": {
          "base_uri": "https://localhost:8080/"
        },
        "outputId": "330420ad-15ad-4914-9ba4-7c103c561d69"
      },
      "source": [
        "!g++ temp.cpp; ./a.out"
      ],
      "execution_count": 105,
      "outputs": [
        {
          "output_type": "stream",
          "name": "stdout",
          "text": [
            "Access denied - You must be at least 18 years old.\n",
            "Age is: 15"
          ]
        }
      ]
    },
    {
      "cell_type": "code",
      "metadata": {
        "id": "OZN2Bu5A9WqA",
        "colab": {
          "base_uri": "https://localhost:8080/"
        },
        "outputId": "c2990857-d624-4513-b4f5-8f80db93f9e4"
      },
      "source": [
        "# ピリオド3つ three dots\n",
        "%%writefile temp.cpp\n",
        "# include <bits/stdc++.h>\n",
        "using namespace std;\n",
        "\n",
        "int main() {\n",
        "  try {\n",
        "    int age = 15;\n",
        "    if (age >= 18) {\n",
        "      cout << \"Access granted - you are old enough.\";\n",
        "    } else {\n",
        "      throw 505;\n",
        "    }\n",
        "  }\n",
        "  catch (...) {\n",
        "    cout << \"Access denied - You must be at least 18 years old.\\n\";\n",
        "  }\n",
        "}"
      ],
      "execution_count": 106,
      "outputs": [
        {
          "output_type": "stream",
          "name": "stdout",
          "text": [
            "Overwriting temp.cpp\n"
          ]
        }
      ]
    },
    {
      "cell_type": "code",
      "metadata": {
        "id": "7q_edc0-9Wb9",
        "colab": {
          "base_uri": "https://localhost:8080/"
        },
        "outputId": "fdb7007f-a1fe-4ce7-c723-3de2bf00afe7"
      },
      "source": [
        "!g++ temp.cpp; ./a.out"
      ],
      "execution_count": 107,
      "outputs": [
        {
          "output_type": "stream",
          "name": "stdout",
          "text": [
            "Access denied - You must be at least 18 years old.\n"
          ]
        }
      ]
    },
    {
      "cell_type": "code",
      "metadata": {
        "id": "rMANLnVl8n2h",
        "colab": {
          "base_uri": "https://localhost:8080/"
        },
        "outputId": "8a581834-4dca-487d-a046-ffa5b8a2d7d5"
      },
      "source": [
        "#  例外処理による入力チェック\n",
        "%%writefile temp.cpp\n",
        "# include <bits/stdc++.h>\n",
        "using namespace std;\n",
        "\n",
        "int CharToInt(const char c) {\n",
        "    switch (c) {\n",
        "        case '0':  return 0;\n",
        "        case '1':  return 1;\n",
        "        case '2':  return 2;\n",
        "        case '3':  return 3;\n",
        "        case '4':  return 4;\n",
        "        case '5':  return 5;\n",
        "        case '6':  return 6;\n",
        "        case '7':  return 7;\n",
        "        case '8':  return 8;\n",
        "        case '9':  return 9;\n",
        "        default:\n",
        "            // 関数から例外を送出\n",
        "            throw runtime_error(\"数値ではない文字が入っています\");\n",
        "    }\n",
        "}\n",
        "\n",
        "int StringToInt(const string& str) {\n",
        "    int num = 0;\n",
        "    for (const auto s : str) {\n",
        "        num *= 10;\n",
        "\n",
        "        // CharToInt から例外が送出される\n",
        "        num += CharToInt(s);\n",
        "    }\n",
        "    return num;\n",
        "}\n",
        "\n",
        "int main() {\n",
        "    string str = \"123XY56\";\n",
        "    try {\n",
        "        // StringToInt 内部の CharToInt から例外が送出される\n",
        "        auto num = StringToInt(str);\n",
        "\n",
        "        cout << num << endl;\n",
        "    } catch (const runtime_error& e) {\n",
        "        cout << e.what() << endl;\n",
        "    }\n",
        "}"
      ],
      "execution_count": 108,
      "outputs": [
        {
          "output_type": "stream",
          "name": "stdout",
          "text": [
            "Overwriting temp.cpp\n"
          ]
        }
      ]
    },
    {
      "cell_type": "code",
      "metadata": {
        "id": "HesdtoSI8nSh",
        "colab": {
          "base_uri": "https://localhost:8080/"
        },
        "outputId": "3e328f8c-9fd7-44f4-c3cf-05e33d1a788b"
      },
      "source": [
        "!g++ temp.cpp; ./a.out"
      ],
      "execution_count": 109,
      "outputs": [
        {
          "output_type": "stream",
          "name": "stdout",
          "text": [
            "数値ではない文字が入っています\n"
          ]
        }
      ]
    },
    {
      "cell_type": "code",
      "metadata": {
        "id": "9wl8EJ3m4pt2",
        "colab": {
          "base_uri": "https://localhost:8080/"
        },
        "outputId": "81358ea6-4ef9-4484-af15-976b53375a19"
      },
      "source": [
        "# 単純なプログラム\n",
        "%%writefile temp.cpp\n",
        "# include <bits/stdc++.h>\n",
        "using namespace std;\n",
        "\n",
        "int main() {\n",
        "  int x = 5;\n",
        "  int y = 6;\n",
        "  int sum = x + y;\n",
        "  cout << sum;\n",
        "}"
      ],
      "execution_count": 110,
      "outputs": [
        {
          "output_type": "stream",
          "name": "stdout",
          "text": [
            "Overwriting temp.cpp\n"
          ]
        }
      ]
    },
    {
      "cell_type": "code",
      "metadata": {
        "id": "KAS06TYN4pjE",
        "colab": {
          "base_uri": "https://localhost:8080/"
        },
        "outputId": "dfdd5cea-7987-4d92-81e1-98a9325ff9e7"
      },
      "source": [
        "!g++ temp.cpp; ./a.out"
      ],
      "execution_count": 111,
      "outputs": [
        {
          "output_type": "stream",
          "name": "stdout",
          "text": [
            "11"
          ]
        }
      ]
    },
    {
      "cell_type": "code",
      "metadata": {
        "id": "b__3S-ZD4sis",
        "colab": {
          "base_uri": "https://localhost:8080/"
        },
        "outputId": "80214e2d-e852-4e29-877d-12e9de794cd3"
      },
      "source": [
        "# colab , jupyter の入出力\n",
        "%%writefile temp.cpp\n",
        "# include <bits/stdc++.h>\n",
        "using namespace std;\n",
        "\n",
        "int main() {\n",
        "  int x, y;\n",
        "  int sum;\n",
        "  cout << \"Type a number: \";\n",
        "  cin >> x;\n",
        "  cout << \"Type another number: \";\n",
        "  cin >> y;\n",
        "  sum = x + y;\n",
        "  cout << \"Sum is: \" << sum;\n",
        "}"
      ],
      "execution_count": 112,
      "outputs": [
        {
          "output_type": "stream",
          "name": "stdout",
          "text": [
            "Overwriting temp.cpp\n"
          ]
        }
      ]
    },
    {
      "cell_type": "code",
      "metadata": {
        "id": "YWsIYiPoNc2w",
        "colab": {
          "base_uri": "https://localhost:8080/"
        },
        "outputId": "497e6cdb-553a-4612-e947-73f61c70977a"
      },
      "source": [
        "!g++ temp.cpp; echo 99 100 | ./a.out"
      ],
      "execution_count": 113,
      "outputs": [
        {
          "output_type": "stream",
          "name": "stdout",
          "text": [
            "Type a number: Type another number: Sum is: 199"
          ]
        }
      ]
    },
    {
      "cell_type": "code",
      "metadata": {
        "id": "ESksa-pMNF1s",
        "outputId": "22dba569-672f-4633-a311-b0bc5c5e8245",
        "colab": {
          "base_uri": "https://localhost:8080/"
        }
      },
      "source": [
        "# sort array version\n",
        "%%writefile temp.cpp\n",
        "# include <bits/stdc++.h>\n",
        "using namespace std;\n",
        "\n",
        "int main() {\n",
        "  int array[] = { 23, 5, -10, 0, 0, 321, 1, 2, 99, 30 };\n",
        "  size_t size = sizeof(array) / sizeof(array[0]); \n",
        "  sort(array, array + size);\n",
        "  for (size_t i = 0; i < size; ++i) {\n",
        "     cout << array[i] << ' ';\n",
        "  }\n",
        "  cout << endl;\n",
        "}"
      ],
      "execution_count": 114,
      "outputs": [
        {
          "output_type": "stream",
          "name": "stdout",
          "text": [
            "Overwriting temp.cpp\n"
          ]
        }
      ]
    },
    {
      "cell_type": "code",
      "metadata": {
        "id": "GKPRaWqGNK6t",
        "outputId": "efb2ed7b-0862-4055-fc9c-c0390016b191",
        "colab": {
          "base_uri": "https://localhost:8080/"
        }
      },
      "source": [
        "!g++ temp.cpp; ./a.out"
      ],
      "execution_count": 115,
      "outputs": [
        {
          "output_type": "stream",
          "name": "stdout",
          "text": [
            "-10 0 0 1 2 5 23 30 99 321 \n"
          ]
        }
      ]
    },
    {
      "cell_type": "code",
      "metadata": {
        "id": "jpWxNKiKNJY6",
        "outputId": "3785f37a-fd34-4f1d-d050-e937405339ed",
        "colab": {
          "base_uri": "https://localhost:8080/"
        }
      },
      "source": [
        "# sort 普通はこっちを使う\n",
        "%%writefile temp.cpp\n",
        "# include <bits/stdc++.h>\n",
        "using namespace std;\n",
        "\n",
        "int main() {\n",
        "  vector<int> vec { 23, 5, -10, 0, 0, 321, 1, 2, 99, 30 };\n",
        "  sort(vec.begin(), vec.end());\n",
        "  for (int i = 0; i < vec.size(); i++) {\n",
        "     cout << vec[i] << ' ';\n",
        "  }\n",
        "  cout << endl;\n",
        "}"
      ],
      "execution_count": 116,
      "outputs": [
        {
          "output_type": "stream",
          "name": "stdout",
          "text": [
            "Overwriting temp.cpp\n"
          ]
        }
      ]
    },
    {
      "cell_type": "code",
      "metadata": {
        "id": "W6redAJ1N4nN",
        "outputId": "295ed71b-ca91-4e10-8067-be921f22cdcf",
        "colab": {
          "base_uri": "https://localhost:8080/"
        }
      },
      "source": [
        "!g++ temp.cpp; ./a.out"
      ],
      "execution_count": 117,
      "outputs": [
        {
          "output_type": "stream",
          "name": "stdout",
          "text": [
            "-10 0 0 1 2 5 23 30 99 321 \n"
          ]
        }
      ]
    },
    {
      "cell_type": "code",
      "metadata": {
        "id": "hhOG4DUnOp61",
        "outputId": "728c3807-cc6d-4c95-8891-ec8451080d4f",
        "colab": {
          "base_uri": "https://localhost:8080/"
        }
      },
      "source": [
        "# dump を使う\n",
        "%%writefile temp.cpp\n",
        "# include <bits/stdc++.h>\n",
        "# include <boost/foreach.hpp> // これは bits/stdc++.h に入っていないみたい\n",
        "using namespace std;\n",
        "\n",
        "void dump(vector<int>& v) {\n",
        "  BOOST_FOREACH(int x, v) {\n",
        "    cout << x << endl;\n",
        "  }\n",
        "}\n",
        "\n",
        "int main(int argc, char* argv[]) {\n",
        "  vector<int> v;\n",
        "  v.push_back(3);\n",
        "  v.push_back(4);\n",
        "  v.push_back(1);\n",
        "  v.push_back(2);\n",
        "\n",
        "  cout << \"Before sort\" << endl;\n",
        "  dump(v);\n",
        "\n",
        "  sort(v.begin(), v.end());\n",
        "\n",
        "  cout << \"After sort\" << endl;\n",
        "  dump(v);\n",
        "}"
      ],
      "execution_count": 118,
      "outputs": [
        {
          "output_type": "stream",
          "name": "stdout",
          "text": [
            "Overwriting temp.cpp\n"
          ]
        }
      ]
    },
    {
      "cell_type": "code",
      "metadata": {
        "id": "zzUci1vXOp1Z",
        "outputId": "28d5c2a4-fe43-4f95-82b7-8e930b03b2b9",
        "colab": {
          "base_uri": "https://localhost:8080/"
        }
      },
      "source": [
        "!g++ temp.cpp; ./a.out"
      ],
      "execution_count": 119,
      "outputs": [
        {
          "output_type": "stream",
          "name": "stdout",
          "text": [
            "Before sort\n",
            "3\n",
            "4\n",
            "1\n",
            "2\n",
            "After sort\n",
            "1\n",
            "2\n",
            "3\n",
            "4\n"
          ]
        }
      ]
    },
    {
      "cell_type": "code",
      "metadata": {
        "id": "ph5fdv_KPTVc",
        "outputId": "f988a4c4-d630-467f-8ea9-04fd824a9b6a",
        "colab": {
          "base_uri": "https://localhost:8080/"
        }
      },
      "source": [
        "# 単純化してみる\n",
        "%%writefile temp.cpp\n",
        "# include <bits/stdc++.h>\n",
        "using namespace std;\n",
        "\n",
        "void dump(vector<int>& v) {\n",
        "  for (int item : v) {\n",
        "    cout << item << \" \";\n",
        "  }\n",
        "  cout << endl;\n",
        "}\n",
        "\n",
        "int main(int argc, char* argv[]) {\n",
        "  vector<int> v = { 3,4,1,2 };\n",
        "  cout << \"Before sort\" << endl;\n",
        "  dump(v);\n",
        "  sort(v.begin(), v.end(), greater<int>());\n",
        "  cout << \"After sort\" << endl;\n",
        "  dump(v);\n",
        "}"
      ],
      "execution_count": 120,
      "outputs": [
        {
          "output_type": "stream",
          "name": "stdout",
          "text": [
            "Overwriting temp.cpp\n"
          ]
        }
      ]
    },
    {
      "cell_type": "code",
      "metadata": {
        "id": "eBcfciPHPTIy",
        "outputId": "ba68dadb-33ec-4936-f421-f84540c10efa",
        "colab": {
          "base_uri": "https://localhost:8080/"
        }
      },
      "source": [
        "!g++ temp.cpp; ./a.out"
      ],
      "execution_count": 121,
      "outputs": [
        {
          "output_type": "stream",
          "name": "stdout",
          "text": [
            "Before sort\n",
            "3 4 1 2 \n",
            "After sort\n",
            "4 3 2 1 \n"
          ]
        }
      ]
    },
    {
      "cell_type": "code",
      "metadata": {
        "id": "KwxN6tUsoIXM",
        "outputId": "4f9f14e6-d289-4c45-d957-d2652ddc45f8",
        "colab": {
          "base_uri": "https://localhost:8080/"
        }
      },
      "source": [
        "# enum 列挙型\n",
        "%%writefile temp.cpp\n",
        "# include <bits/stdc++.h>\n",
        "using namespace std;\n",
        "\n",
        "enum Day {\n",
        "  Sun,  // 0\n",
        "  Mon,  // 1\n",
        "  Tue,  // 2\n",
        "  Wed,  // 3\n",
        "  Thu,  // 4\n",
        "  Fri,  // 5\n",
        "  Sat   // 6\n",
        "};\n",
        "\n",
        "int main() {\n",
        "    Day day = Wed;\n",
        "    cout << day << endl;\n",
        "    cout << Sun << endl;\n",
        "}"
      ],
      "execution_count": 122,
      "outputs": [
        {
          "output_type": "stream",
          "name": "stdout",
          "text": [
            "Overwriting temp.cpp\n"
          ]
        }
      ]
    },
    {
      "cell_type": "code",
      "metadata": {
        "id": "Ua4g7D7voIwe",
        "outputId": "8f91d9cb-6a81-4b61-ae40-d5e03b879506",
        "colab": {
          "base_uri": "https://localhost:8080/"
        }
      },
      "source": [
        "!g++ temp.cpp; ./a.out"
      ],
      "execution_count": 123,
      "outputs": [
        {
          "output_type": "stream",
          "name": "stdout",
          "text": [
            "3\n",
            "0\n"
          ]
        }
      ]
    },
    {
      "cell_type": "code",
      "metadata": {
        "id": "mP4SOJOBpbLw",
        "outputId": "10e12e6b-cdc0-4336-ce3b-4394f29735bc",
        "colab": {
          "base_uri": "https://localhost:8080/"
        }
      },
      "source": [
        "# これでは名前空間を汚してしまって不便なので、enum class がある。\n",
        "%%writefile temp.cpp\n",
        "# include <bits/stdc++.h>\n",
        "using namespace std;\n",
        "\n",
        "enum class Day {\n",
        "  Sun,  // 0\n",
        "  Mon,  // 1\n",
        "  Tue,  // 2\n",
        "  Wed,  // 3\n",
        "  Thu,  // 4\n",
        "  Fri,  // 5\n",
        "  Sat   // 6\n",
        "};\n",
        "\n",
        "int main() {\n",
        "    Day day = Day::Wed;\n",
        "    cout << int(day) << endl;\n",
        "    cout << int(Day::Sun) << endl;\n",
        "}"
      ],
      "execution_count": 124,
      "outputs": [
        {
          "output_type": "stream",
          "name": "stdout",
          "text": [
            "Overwriting temp.cpp\n"
          ]
        }
      ]
    },
    {
      "cell_type": "code",
      "metadata": {
        "id": "smD_cR16pat1",
        "outputId": "7a0d3d91-eb47-4f19-f38a-59526406171f",
        "colab": {
          "base_uri": "https://localhost:8080/"
        }
      },
      "source": [
        "!g++ temp.cpp; ./a.out"
      ],
      "execution_count": 125,
      "outputs": [
        {
          "output_type": "stream",
          "name": "stdout",
          "text": [
            "3\n",
            "0\n"
          ]
        }
      ]
    },
    {
      "cell_type": "code",
      "metadata": {
        "id": "ElUDAhDLso_Q",
        "outputId": "689e5c25-a958-4ecd-bca3-993b0d0be092",
        "colab": {
          "base_uri": "https://localhost:8080/"
        }
      },
      "source": [
        "# 参照型とポインター型\n",
        "%%writefile temp.cpp\n",
        "# include <bits/stdc++.h>\n",
        "using namespace std;\n",
        "\n",
        "int main (){\n",
        "    int x = 100;\n",
        "    int* p = &x; // pはポインター型\n",
        "    int& r = x; // rは参照型\n",
        "\n",
        "    *p = 200;\n",
        "    cout << x << endl;\n",
        "    r = 300;\n",
        "    cout << x << endl;\n",
        "}"
      ],
      "execution_count": 126,
      "outputs": [
        {
          "output_type": "stream",
          "name": "stdout",
          "text": [
            "Overwriting temp.cpp\n"
          ]
        }
      ]
    },
    {
      "cell_type": "code",
      "metadata": {
        "id": "NOFgDHRusrs7",
        "outputId": "d734c08d-4fb5-4aa7-f084-48d5b36b15d3",
        "colab": {
          "base_uri": "https://localhost:8080/"
        }
      },
      "source": [
        "!g++ temp.cpp; ./a.out"
      ],
      "execution_count": 127,
      "outputs": [
        {
          "output_type": "stream",
          "name": "stdout",
          "text": [
            "200\n",
            "300\n"
          ]
        }
      ]
    },
    {
      "cell_type": "code",
      "metadata": {
        "id": "3tnB25w1zrxL",
        "outputId": "30d647f3-f9f2-4925-9dea-24eac2d316f2",
        "colab": {
          "base_uri": "https://localhost:8080/"
        }
      },
      "source": [
        "# 関数ポインター、関数オブジェクト\n",
        "%%writefile temp.cpp\n",
        "# include <bits/stdc++.h>\n",
        "using namespace std;\n",
        "\n",
        "int Add(int x, int y) {\n",
        "    return x + y;\n",
        "}\n",
        "\n",
        "int main() {\n",
        "    int (*fp)(int, int) = Add;  // 関数 Add のアドレスを保持する関数ポインター fp\n",
        "    int result = fp(3, 5);      // 関数ポインター fp を介して関数 Add が実行される\n",
        "    cout << result << endl;  // 8\n",
        "}"
      ],
      "execution_count": 128,
      "outputs": [
        {
          "output_type": "stream",
          "name": "stdout",
          "text": [
            "Overwriting temp.cpp\n"
          ]
        }
      ]
    },
    {
      "cell_type": "code",
      "metadata": {
        "id": "hxa_wTdV0GCp",
        "outputId": "b92ce872-9ef2-4500-89d7-ba5434c144fe",
        "colab": {
          "base_uri": "https://localhost:8080/"
        }
      },
      "source": [
        "!g++ temp.cpp; ./a.out"
      ],
      "execution_count": 129,
      "outputs": [
        {
          "output_type": "stream",
          "name": "stdout",
          "text": [
            "8\n"
          ]
        }
      ]
    },
    {
      "cell_type": "code",
      "metadata": {
        "id": "UfSNvmIw0P9w",
        "colab": {
          "base_uri": "https://localhost:8080/"
        },
        "outputId": "74049392-d8c5-4815-ed56-1a046d8b885e"
      },
      "source": [
        "# 関数ポインター\n",
        "%%writefile temp.cpp\n",
        "# include <bits/stdc++.h>\n",
        "using namespace std;\n",
        "\n",
        "int Add(int x, int y) {\n",
        "    return x + y;\n",
        "}\n",
        "\n",
        "int main() {\n",
        "    auto fp = Add;  // 関数 Add のアドレスを保持する関数ポインター fp\n",
        "    \n",
        "    int result = fp(3, 5);      // 関数ポインター fp を介して関数 Add が実行される\n",
        "\n",
        "    cout << result << endl;  // 8\n",
        "}"
      ],
      "execution_count": 130,
      "outputs": [
        {
          "output_type": "stream",
          "name": "stdout",
          "text": [
            "Overwriting temp.cpp\n"
          ]
        }
      ]
    },
    {
      "cell_type": "code",
      "metadata": {
        "id": "R5u8ZcTw0lT2",
        "colab": {
          "base_uri": "https://localhost:8080/"
        },
        "outputId": "d190e149-0675-4be5-a8fb-976f3155dbfa"
      },
      "source": [
        "!g++ temp.cpp; ./a.out"
      ],
      "execution_count": 131,
      "outputs": [
        {
          "output_type": "stream",
          "name": "stdout",
          "text": [
            "8\n"
          ]
        }
      ]
    },
    {
      "cell_type": "code",
      "metadata": {
        "id": "AeNX7Mf604JS",
        "colab": {
          "base_uri": "https://localhost:8080/"
        },
        "outputId": "915f928d-e916-4aee-bc5e-6bde82a302dc"
      },
      "source": [
        "# ラムダ式 lambda expression\n",
        "%%writefile temp.cpp\n",
        "# include <bits/stdc++.h>\n",
        "using namespace std;\n",
        "\n",
        "int main() {\n",
        "    // auto 変数名 = [ キャプチャ ]( 引数リスト ) -> 戻り値の型 { 処理内容 };\n",
        "    auto func = [](int a, int b) -> int { return a + b; };  // int を2つ受け取り、足した結果を返すラムダ式\n",
        "\n",
        "    int result = func(4, 6);\n",
        "    cout << result << endl;  // 10\n",
        "}"
      ],
      "execution_count": 132,
      "outputs": [
        {
          "output_type": "stream",
          "name": "stdout",
          "text": [
            "Overwriting temp.cpp\n"
          ]
        }
      ]
    },
    {
      "cell_type": "code",
      "metadata": {
        "id": "DxpK77U703aY",
        "colab": {
          "base_uri": "https://localhost:8080/"
        },
        "outputId": "dea23d8c-d09c-4454-9e96-5ca1af1dbb3e"
      },
      "source": [
        "!g++ temp.cpp; ./a.out"
      ],
      "execution_count": 133,
      "outputs": [
        {
          "output_type": "stream",
          "name": "stdout",
          "text": [
            "10\n"
          ]
        }
      ]
    },
    {
      "cell_type": "code",
      "metadata": {
        "id": "cKWDI5_27IPT",
        "colab": {
          "base_uri": "https://localhost:8080/"
        },
        "outputId": "e1e2b86d-d086-4fa9-cc08-fc04ec1df942"
      },
      "source": [
        "# ラムダ式とキャプチャ\n",
        "%%writefile temp.cpp\n",
        "# include <bits/stdc++.h>\n",
        "using namespace std;\n",
        "\n",
        "int main() {\n",
        "    int init = 5;\n",
        "\n",
        "    // キャプチャを指定することで {} 内で変数 init を使うことができる\n",
        "    auto f = [init](int a, int b) { return init + a * b; };   // コピーキャプチャ\n",
        "    auto g = [&init](int a, int b) { return init + a * b; };  // 参照キャプチャ\n",
        "\n",
        "    init = 0;\n",
        "\n",
        "    // 【コピーキャプチャの場合】\n",
        "    //    ラムダ式の定義時点で init がコピーされているので、ラムダ式内の init は 5\n",
        "    int result_copy = f(2, 4);\n",
        "    cout << result_copy << endl;  // 13\n",
        "\n",
        "    // 【参照キャプチャの場合】\n",
        "    //    ラムダ式実行時の init の値が参照されるので、ラムダ式内の init は 0\n",
        "    int result_ref = g(2, 4);\n",
        "    cout << result_ref << endl;   // 8\n",
        "}"
      ],
      "execution_count": 134,
      "outputs": [
        {
          "output_type": "stream",
          "name": "stdout",
          "text": [
            "Overwriting temp.cpp\n"
          ]
        }
      ]
    },
    {
      "cell_type": "code",
      "metadata": {
        "id": "TsWShGFw7IEb",
        "colab": {
          "base_uri": "https://localhost:8080/"
        },
        "outputId": "22baef3e-c140-4809-f74f-8364e02a4e9f"
      },
      "source": [
        "!g++ temp.cpp; ./a.out"
      ],
      "execution_count": 135,
      "outputs": [
        {
          "output_type": "stream",
          "name": "stdout",
          "text": [
            "13\n",
            "8\n"
          ]
        }
      ]
    },
    {
      "cell_type": "code",
      "metadata": {
        "id": "ETai0R3x8wbt",
        "colab": {
          "base_uri": "https://localhost:8080/"
        },
        "outputId": "41a5df16-bc30-4ffa-d49a-abdf8db0ba89"
      },
      "source": [
        "# 変数に関数を入れる\n",
        "%%writefile temp.cpp\n",
        "# include <bits/stdc++.h>\n",
        "using namespace std;\n",
        "\n",
        "int Add(int x, int y) {\n",
        "    return x + y;\n",
        "}\n",
        "\n",
        "int main() {\n",
        "    function<int(int, int)> f = Add;  // function<戻り値の型(引数の型)> 変数名\n",
        "    int result = f(3, 5);                  // f を介して関数 Add が実行される\n",
        "    cout << result << endl;      // 8\n",
        "\n",
        "    f = [](int x, int y) { return x * y; };  // ラムダ式も保持可能\n",
        "    cout << f(4, 7) << endl;       // 28\n",
        "\n",
        "}"
      ],
      "execution_count": 136,
      "outputs": [
        {
          "output_type": "stream",
          "name": "stdout",
          "text": [
            "Overwriting temp.cpp\n"
          ]
        }
      ]
    },
    {
      "cell_type": "code",
      "metadata": {
        "id": "RnKYrFky8wQU",
        "colab": {
          "base_uri": "https://localhost:8080/"
        },
        "outputId": "59b8b705-c9c2-4e65-958d-a31cf71ba934"
      },
      "source": [
        "!g++ temp.cpp; ./a.out"
      ],
      "execution_count": 137,
      "outputs": [
        {
          "output_type": "stream",
          "name": "stdout",
          "text": [
            "8\n",
            "28\n"
          ]
        }
      ]
    },
    {
      "cell_type": "code",
      "metadata": {
        "id": "wGId5NXL5RXr",
        "colab": {
          "base_uri": "https://localhost:8080/"
        },
        "outputId": "a94db2ca-9fa4-432a-d46a-13b22dccb871"
      },
      "source": [
        "# 配列とポインター\n",
        "# vector ではこうはならない\n",
        "# ていうか配列をポインターで使うメリットを感じないのでここから先しばらくは飛ばして良い\n",
        "%%writefile temp.cpp\n",
        "# include <bits/stdc++.h>\n",
        "using namespace std;\n",
        "\n",
        "int main (){\n",
        "    int x[6] = {2, 4, 6, 8, 10};\n",
        "    int* p = x;\n",
        "    cout << *p << endl;        // 2\n",
        "    cout << *(p + 1) << endl;  // 4\n",
        "    cout << *(p + 2) << endl;  // 6\n",
        "    cout << *(p + 3) << endl;  // 8\n",
        "    cout << *(p + 4) << endl;  // 10\n",
        "\n",
        "    cout << *(p + 5) << endl; // 0\n",
        "}"
      ],
      "execution_count": 138,
      "outputs": [
        {
          "output_type": "stream",
          "name": "stdout",
          "text": [
            "Overwriting temp.cpp\n"
          ]
        }
      ]
    },
    {
      "cell_type": "code",
      "metadata": {
        "id": "JSaRG4vV5kWr",
        "colab": {
          "base_uri": "https://localhost:8080/"
        },
        "outputId": "4e39075c-9151-4d6e-e375-759a5191cf25"
      },
      "source": [
        "!g++ temp.cpp; ./a.out"
      ],
      "execution_count": 139,
      "outputs": [
        {
          "output_type": "stream",
          "name": "stdout",
          "text": [
            "2\n",
            "4\n",
            "6\n",
            "8\n",
            "10\n",
            "0\n"
          ]
        }
      ]
    },
    {
      "cell_type": "code",
      "metadata": {
        "id": "3ztmFecm7Bzr",
        "colab": {
          "base_uri": "https://localhost:8080/"
        },
        "outputId": "3013d8ad-4cc3-4ebc-98f5-2bf0034337eb"
      },
      "source": [
        "# 次の例で、PrintArray1とPrintArray2は完全に同一\n",
        "# 一見すると、PrintArray1 は配列の個数も渡しているように見えるが、実質はポインターを渡しているだけ\n",
        "#=> warning が出る。多分今風ではないのだろう\n",
        "%%writefile temp.cpp\n",
        "# include <bits/stdc++.h>\n",
        "using namespace std;\n",
        "\n",
        "void PrintArray1(const int x[5]) {\n",
        "    static_assert(sizeof(x)==sizeof(int*), \"\");\n",
        "    for (int i = 0; i < 5; ++i) {\n",
        "        cout << x[i] << endl;\n",
        "    }\n",
        "}\n",
        "\n",
        "void PrintArray2(const int* x) {\n",
        "    for (int i = 0; i < 5; ++i) {\n",
        "        cout << x[i] << endl;\n",
        "    }\n",
        "}\n",
        "\n",
        "int main() {\n",
        "    int x[5] = {0, 1, 2, 3, 4};\n",
        "\n",
        "    PrintArray1(x);\n",
        "    PrintArray2(x);\n",
        "}"
      ],
      "execution_count": 140,
      "outputs": [
        {
          "output_type": "stream",
          "name": "stdout",
          "text": [
            "Overwriting temp.cpp\n"
          ]
        }
      ]
    },
    {
      "cell_type": "code",
      "metadata": {
        "id": "4G96oNEY7GNf",
        "colab": {
          "base_uri": "https://localhost:8080/"
        },
        "outputId": "8f41457f-a70c-47c6-86c6-18152da48eec"
      },
      "source": [
        "!g++ temp.cpp; ./a.out"
      ],
      "execution_count": 141,
      "outputs": [
        {
          "output_type": "stream",
          "name": "stdout",
          "text": [
            "\u001b[01m\u001b[Ktemp.cpp:\u001b[m\u001b[K In function ‘\u001b[01m\u001b[Kvoid PrintArray1(const int*)\u001b[m\u001b[K’:\n",
            "\u001b[01m\u001b[Ktemp.cpp:5:27:\u001b[m\u001b[K \u001b[01;35m\u001b[Kwarning: \u001b[m\u001b[K‘\u001b[01m\u001b[Ksizeof\u001b[m\u001b[K’ on array function parameter ‘\u001b[01m\u001b[Kx\u001b[m\u001b[K’ will return size of ‘\u001b[01m\u001b[Kconst int*\u001b[m\u001b[K’ [\u001b[01;35m\u001b[K-Wsizeof-array-argument\u001b[m\u001b[K]\n",
            "     static_assert(sizeof(x\u001b[01;35m\u001b[K)\u001b[m\u001b[K==sizeof(int*), \"\");\n",
            "                           \u001b[01;35m\u001b[K^\u001b[m\u001b[K\n",
            "\u001b[01m\u001b[Ktemp.cpp:4:31:\u001b[m\u001b[K \u001b[01;36m\u001b[Knote: \u001b[m\u001b[Kdeclared here\n",
            " void PrintArray1(const int x[5\u001b[01;36m\u001b[K]\u001b[m\u001b[K) {\n",
            "                               \u001b[01;36m\u001b[K^\u001b[m\u001b[K\n",
            "0\n",
            "1\n",
            "2\n",
            "3\n",
            "4\n",
            "0\n",
            "1\n",
            "2\n",
            "3\n",
            "4\n"
          ]
        }
      ]
    },
    {
      "cell_type": "code",
      "source": [
        "# 従って、正しくは次のように要素数を渡す必要がある。\n",
        "%%writefile temp.cpp\n",
        "# include <bits/stdc++.h>\n",
        "using namespace std;\n",
        "\n",
        "void PrintArray(const int* x, size_t num) {\n",
        "    for (size_t i = 0; i < num; ++i) {\n",
        "        cout << x[i] << endl;\n",
        "    }\n",
        "}\n",
        "\n",
        "int main() {\n",
        "    constexpr size_t num = 5;\n",
        "    int x[num] = {0, 1, 2, 3, 4};\n",
        "\n",
        "    PrintArray(x, num);\n",
        "}\n"
      ],
      "metadata": {
        "id": "NJ9XFoE_cvMc",
        "outputId": "bbdd4bd1-f0d4-4117-db35-89738f0904fb",
        "colab": {
          "base_uri": "https://localhost:8080/"
        }
      },
      "execution_count": 142,
      "outputs": [
        {
          "output_type": "stream",
          "name": "stdout",
          "text": [
            "Overwriting temp.cpp\n"
          ]
        }
      ]
    },
    {
      "cell_type": "code",
      "source": [
        "!g++ temp.cpp; ./a.out"
      ],
      "metadata": {
        "id": "rz-2MDyKcubk",
        "colab": {
          "base_uri": "https://localhost:8080/"
        },
        "outputId": "cda89d18-d409-4aa8-9f62-ab6f7202bf07"
      },
      "execution_count": 143,
      "outputs": [
        {
          "output_type": "stream",
          "name": "stdout",
          "text": [
            "0\n",
            "1\n",
            "2\n",
            "3\n",
            "4\n"
          ]
        }
      ]
    },
    {
      "cell_type": "code",
      "metadata": {
        "id": "T8c8-6a9wmx9",
        "colab": {
          "base_uri": "https://localhost:8080/"
        },
        "outputId": "7b92afeb-6289-4ebd-9b79-87c221759212"
      },
      "source": [
        "# 実験 vector version\n",
        "%%writefile temp.cpp\n",
        "# include <bits/stdc++.h>\n",
        "using namespace std;\n",
        "\n",
        "void PrintArray(vector<int> x, size_t num) {\n",
        "    for (size_t i = 0; i < num; ++i) {\n",
        "        cout << x[i] << endl;\n",
        "    }\n",
        "}\n",
        "\n",
        "int main() {\n",
        "    vector<int>  x = {0, 1, 2, 3, 4};\n",
        "\n",
        "    PrintArray(x, x.size());\n",
        "}\n"
      ],
      "execution_count": 144,
      "outputs": [
        {
          "output_type": "stream",
          "name": "stdout",
          "text": [
            "Overwriting temp.cpp\n"
          ]
        }
      ]
    },
    {
      "cell_type": "code",
      "metadata": {
        "id": "a9yiiZGRwmm7",
        "colab": {
          "base_uri": "https://localhost:8080/"
        },
        "outputId": "d212fca8-d1b3-4c58-b301-158777823b63"
      },
      "source": [
        "!g++ temp.cpp; ./a.out"
      ],
      "execution_count": 145,
      "outputs": [
        {
          "output_type": "stream",
          "name": "stdout",
          "text": [
            "0\n",
            "1\n",
            "2\n",
            "3\n",
            "4\n"
          ]
        }
      ]
    },
    {
      "cell_type": "code",
      "metadata": {
        "id": "RzhHagqtxnAQ",
        "colab": {
          "base_uri": "https://localhost:8080/"
        },
        "outputId": "d6f4c81d-0e9b-4058-8390-2d266071924f"
      },
      "source": [
        "# 実験 C++17 の size を使ってみる\n",
        "%%writefile temp.cpp\n",
        "# include <bits/stdc++.h>\n",
        "using namespace std;\n",
        "\n",
        "void PrintArray(int* x, int num) {\n",
        "    for (int i = 0; i < num; ++i) {\n",
        "        cout << x[i] << endl;\n",
        "    }\n",
        "}\n",
        "\n",
        "int main() {\n",
        "    int x[5] = {0, 1, 2, 3, 4};\n",
        "\n",
        "    PrintArray(x, size(x));\n",
        "}\n"
      ],
      "execution_count": 146,
      "outputs": [
        {
          "output_type": "stream",
          "name": "stdout",
          "text": [
            "Overwriting temp.cpp\n"
          ]
        }
      ]
    },
    {
      "cell_type": "code",
      "metadata": {
        "id": "q-amuNJVxnbj",
        "colab": {
          "base_uri": "https://localhost:8080/"
        },
        "outputId": "d4851547-be10-4c58-a1b8-480332dd557a"
      },
      "source": [
        "!g++ -std=gnu++17 temp.cpp ; ./a.out"
      ],
      "execution_count": 147,
      "outputs": [
        {
          "output_type": "stream",
          "name": "stdout",
          "text": [
            "0\n",
            "1\n",
            "2\n",
            "3\n",
            "4\n"
          ]
        }
      ]
    },
    {
      "cell_type": "code",
      "metadata": {
        "id": "9Us2ZKnW0YAM"
      },
      "source": [
        "# C++11では次のようにするとか\n",
        "%%script false\n",
        "\n",
        "#include <cstddef>\n",
        "template <class T, size_t N>\n",
        "constexpr size_t size(const T (&)[N]) noexcept { return N; }"
      ],
      "execution_count": 148,
      "outputs": []
    },
    {
      "cell_type": "code",
      "metadata": {
        "id": "otgfcxgx07tJ",
        "colab": {
          "base_uri": "https://localhost:8080/"
        },
        "outputId": "42fd7e37-bf4c-4da3-c294-6dd3e8b164b1"
      },
      "source": [
        "# 実験\n",
        "%%writefile temp.cpp\n",
        "# include <bits/stdc++.h>\n",
        "using namespace std;\n",
        "\n",
        "template <class T, size_t N>\n",
        "constexpr size_t size(const T (&)[N]) noexcept { return N; }\n",
        "\n",
        "void PrintArray(int* x, int num) {\n",
        "    for (int i = 0; i < num; ++i) {\n",
        "        cout << x[i] << endl;\n",
        "    }\n",
        "}\n",
        "\n",
        "int main() {\n",
        "    int x[5] = {0, 1, 2, 3, 4};\n",
        "\n",
        "    PrintArray(x, size(x));\n",
        "}\n"
      ],
      "execution_count": 149,
      "outputs": [
        {
          "output_type": "stream",
          "name": "stdout",
          "text": [
            "Overwriting temp.cpp\n"
          ]
        }
      ]
    },
    {
      "cell_type": "code",
      "metadata": {
        "id": "klqMCPUs07g6",
        "colab": {
          "base_uri": "https://localhost:8080/"
        },
        "outputId": "3d419a3c-9609-4e8d-8e5c-3dacdc218689"
      },
      "source": [
        "!g++ temp.cpp; ./a.out"
      ],
      "execution_count": 150,
      "outputs": [
        {
          "output_type": "stream",
          "name": "stdout",
          "text": [
            "0\n",
            "1\n",
            "2\n",
            "3\n",
            "4\n"
          ]
        }
      ]
    },
    {
      "cell_type": "code",
      "source": [
        "# テンプレートの文法についてはわからない。学ぶ必要も感じない\n",
        "# array で配列を作ると size() で要素数が取得できる\n",
        "# vector も size() で要素数が取得できる"
      ],
      "metadata": {
        "id": "P9LkU-3weEZ5"
      },
      "execution_count": 151,
      "outputs": []
    },
    {
      "cell_type": "code",
      "metadata": {
        "id": "oCq-Cjgs3PGq",
        "colab": {
          "base_uri": "https://localhost:8080/"
        },
        "outputId": "4b3aad85-e382-4be7-e5fc-7e0e281cf340"
      },
      "source": [
        "# 実験\n",
        "%%writefile temp.cpp\n",
        "# include <bits/stdc++.h>\n",
        "using namespace std;\n",
        "\n",
        "void PrintArray(array<int,5> x, size_t num) {\n",
        "    for (size_t i = 0; i < num; ++i) {\n",
        "        cout << x[i] << endl;\n",
        "    }\n",
        "}\n",
        "\n",
        "int main() {\n",
        "    array<int, 5> x = {0, 1, 2, 3, 4};\n",
        "    PrintArray(x, x.size());\n",
        "}"
      ],
      "execution_count": 152,
      "outputs": [
        {
          "output_type": "stream",
          "name": "stdout",
          "text": [
            "Overwriting temp.cpp\n"
          ]
        }
      ]
    },
    {
      "cell_type": "code",
      "metadata": {
        "id": "Yvshq3DR3O_G",
        "colab": {
          "base_uri": "https://localhost:8080/"
        },
        "outputId": "d4bfe368-b4d4-4e6d-ab64-8dfee5bce92a"
      },
      "source": [
        "!g++ temp.cpp; ./a.out"
      ],
      "execution_count": 153,
      "outputs": [
        {
          "output_type": "stream",
          "name": "stdout",
          "text": [
            "0\n",
            "1\n",
            "2\n",
            "3\n",
            "4\n"
          ]
        }
      ]
    },
    {
      "cell_type": "code",
      "metadata": {
        "id": "0RQz7vJo5__7",
        "colab": {
          "base_uri": "https://localhost:8080/"
        },
        "outputId": "d29a3648-983f-40dd-f263-9da669ca5d7f"
      },
      "source": [
        "# 実験 cpprefjp.github.io にある例\n",
        "# わからない\n",
        "%%writefile temp.cpp\n",
        "# include <bits/stdc++.h>\n",
        "using namespace std;\n",
        "\n",
        "int main()\n",
        "{\n",
        "  // 3要素のint型配列を定義し、初期化子リストで初期化\n",
        "  array<int, 3> ar = {3, 1, 4};\n",
        "\n",
        "  // size()メンバ関数による要素数取得\n",
        "  for (size_t i = 0; i < ar.size(); ++i) {\n",
        "    ++ar[i]; // operator[]で任意の要素にランダムアクセス\n",
        "  }\n",
        "\n",
        "  // イテレータによる要素の横断\n",
        "  for_each(ar.begin(), ar.end(), [](int x) {\n",
        "    cout << x << endl; // 4 2 5 なので 3 1 4 のそれぞれが 1 増えている ++ar[i] の結果\n",
        "  });\n",
        "}"
      ],
      "execution_count": 154,
      "outputs": [
        {
          "output_type": "stream",
          "name": "stdout",
          "text": [
            "Overwriting temp.cpp\n"
          ]
        }
      ]
    },
    {
      "cell_type": "code",
      "metadata": {
        "id": "0qRpGxmz6AhE",
        "colab": {
          "base_uri": "https://localhost:8080/"
        },
        "outputId": "35aab729-7019-483e-a653-e29aed3d336e"
      },
      "source": [
        "!g++ temp.cpp; ./a.out"
      ],
      "execution_count": 155,
      "outputs": [
        {
          "output_type": "stream",
          "name": "stdout",
          "text": [
            "4\n",
            "2\n",
            "5\n"
          ]
        }
      ]
    },
    {
      "cell_type": "code",
      "metadata": {
        "id": "-ikV0bw7sbzr"
      },
      "source": [
        "# タプル tuple \n",
        "# タプル定義のいろいろ\n",
        "%%script false\n",
        "tuple<string, int> person { \"Bob\", 20 };\n",
        "tuple<string, int> person(\"Bob\", 20);\n",
        "tuple<string, int> person = make_tuple(\"Bob\", 20);\n",
        "\n",
        "# 要素の取り出し方\n",
        "get<0>(person);    // \"Bob\"\n",
        "get<1>(person);    // 20"
      ],
      "execution_count": 156,
      "outputs": []
    },
    {
      "cell_type": "code",
      "metadata": {
        "id": "okmQrvrmsbAJ",
        "colab": {
          "base_uri": "https://localhost:8080/"
        },
        "outputId": "a2897145-555a-4102-cedc-64c9cc84cc4c"
      },
      "source": [
        "# 3項タプル\n",
        "%%writefile temp.cpp\n",
        "# include <bits/stdc++.h>\n",
        "using namespace std;\n",
        "\n",
        "// tuple<string, int, string> person { \"Bob\", 20 , \"usa\"};\n",
        "tuple<string, int, string> person = { \"Bob\", 20 , \"usa\"}; // 同じ\n",
        "\n",
        "int main() {\n",
        "    cout << get<0>(person) << endl;\n",
        "    cout << get<1>(person) << endl;\n",
        "    cout << get<2>(person) << endl;\n",
        "}"
      ],
      "execution_count": 157,
      "outputs": [
        {
          "output_type": "stream",
          "name": "stdout",
          "text": [
            "Overwriting temp.cpp\n"
          ]
        }
      ]
    },
    {
      "cell_type": "code",
      "metadata": {
        "id": "JbNRN2QotgwC",
        "colab": {
          "base_uri": "https://localhost:8080/"
        },
        "outputId": "b1840a3a-719d-40c2-b61c-7a13d6297bb5"
      },
      "source": [
        "!g++ temp.cpp; ./a.out"
      ],
      "execution_count": 158,
      "outputs": [
        {
          "output_type": "stream",
          "name": "stdout",
          "text": [
            "Bob\n",
            "20\n",
            "usa\n"
          ]
        }
      ]
    },
    {
      "cell_type": "code",
      "metadata": {
        "id": "1dS3v0Obtqde",
        "colab": {
          "base_uri": "https://localhost:8080/"
        },
        "outputId": "eef14561-7f07-45c6-ef85-a66cc914eb8d"
      },
      "source": [
        "# tie() 関数を使うとタプルの要素を個別の変数に まとめて代入することができる\n",
        "%%writefile temp.cpp\n",
        "# include <bits/stdc++.h>\n",
        "using namespace std;\n",
        "\n",
        "tuple<string, int, string> person { \"Bob\", 20, \"USA\" };\n",
        "\n",
        "int main() {\n",
        "    string name;\n",
        "    int age;\n",
        "    string country;\n",
        "\n",
        "    tie(name, age, country) = person;  // name: \"Bob\", age: 20, country: \"USA\"\n",
        "    cout << name << endl;\n",
        "    cout << age << endl;\n",
        "    cout << country << endl;\n",
        "}"
      ],
      "execution_count": 159,
      "outputs": [
        {
          "output_type": "stream",
          "name": "stdout",
          "text": [
            "Overwriting temp.cpp\n"
          ]
        }
      ]
    },
    {
      "cell_type": "code",
      "metadata": {
        "id": "Lv2s5Lm9tqPT",
        "colab": {
          "base_uri": "https://localhost:8080/"
        },
        "outputId": "ddcf390a-44c8-4a36-a582-6ef0af2c4dfd"
      },
      "source": [
        "!g++ temp.cpp; ./a.out"
      ],
      "execution_count": 160,
      "outputs": [
        {
          "output_type": "stream",
          "name": "stdout",
          "text": [
            "Bob\n",
            "20\n",
            "USA\n"
          ]
        }
      ]
    },
    {
      "cell_type": "code",
      "metadata": {
        "id": "KuUb7wSiusYL",
        "colab": {
          "base_uri": "https://localhost:8080/"
        },
        "outputId": "89960322-d190-4db9-ef0d-c5c0b2c43a53"
      },
      "source": [
        "# ペア pair\n",
        "# ペアは2つの値をひとまとめにして扱うことができる\n",
        "# 要素数が2つのタプルと同じか?\n",
        "%%writefile temp.cpp\n",
        "# include <bits/stdc++.h>\n",
        "using namespace std;\n",
        "\n",
        "pair<string, int> person {\"Bob\", 20};\n",
        "\n",
        "int main() {\n",
        "    cout << get<0>(person) << endl;\n",
        "    cout << get<1>(person) << endl;\n",
        "}\n"
      ],
      "execution_count": 161,
      "outputs": [
        {
          "output_type": "stream",
          "name": "stdout",
          "text": [
            "Overwriting temp.cpp\n"
          ]
        }
      ]
    },
    {
      "cell_type": "code",
      "metadata": {
        "id": "5ShiQUg4utiR",
        "colab": {
          "base_uri": "https://localhost:8080/"
        },
        "outputId": "d41ed47c-4143-41a3-a75d-583d6da9d183"
      },
      "source": [
        "!g++ temp.cpp; ./a.out"
      ],
      "execution_count": 162,
      "outputs": [
        {
          "output_type": "stream",
          "name": "stdout",
          "text": [
            "Bob\n",
            "20\n"
          ]
        }
      ]
    },
    {
      "cell_type": "code",
      "metadata": {
        "id": "HiNtfz0fvUMz",
        "colab": {
          "base_uri": "https://localhost:8080/"
        },
        "outputId": "032f4805-464a-4946-b6fd-1420d5ce14ee"
      },
      "source": [
        "# pair では first, second が使える。\n",
        "%%writefile temp.cpp\n",
        "# include <bits/stdc++.h>\n",
        "using namespace std;\n",
        "\n",
        "pair<string, int> person {\"Bob\", 20};\n",
        "\n",
        "int main() {\n",
        "    cout << person.first << endl;\n",
        "    cout << person.second << endl;\n",
        "}"
      ],
      "execution_count": 163,
      "outputs": [
        {
          "output_type": "stream",
          "name": "stdout",
          "text": [
            "Overwriting temp.cpp\n"
          ]
        }
      ]
    },
    {
      "cell_type": "code",
      "metadata": {
        "id": "fOvNI0OavT7z",
        "colab": {
          "base_uri": "https://localhost:8080/"
        },
        "outputId": "8b651f20-56b5-413f-eae1-7a7b0ac81dd1"
      },
      "source": [
        "!g++ temp.cpp; ./a.out"
      ],
      "execution_count": 164,
      "outputs": [
        {
          "output_type": "stream",
          "name": "stdout",
          "text": [
            "Bob\n",
            "20\n"
          ]
        }
      ]
    },
    {
      "cell_type": "code",
      "metadata": {
        "id": "9ekUOgudwBta"
      },
      "source": [
        "# pair の初期化のバリエーション\n",
        "%%script false\n",
        "pair<string, int> person { \"Bob\", 20 };\n",
        "pair<string, int> person(\"Bob\", 20);\n",
        "pair<string, int> person = make_pair(\"Bob\", 20);"
      ],
      "execution_count": 165,
      "outputs": []
    },
    {
      "cell_type": "code",
      "metadata": {
        "id": "5pgTJWonwS4z",
        "colab": {
          "base_uri": "https://localhost:8080/"
        },
        "outputId": "b1462f6b-c80c-4fdb-ea1b-726862223883"
      },
      "source": [
        "# tie() も使える\n",
        "%%writefile temp.cpp\n",
        "# include <bits/stdc++.h>\n",
        "using namespace std;\n",
        "\n",
        "pair<string, int> person { \"Bob\", 20 };\n",
        "\n",
        "int main() {\n",
        "    string name;\n",
        "    int age;\n",
        "\n",
        "    tie(name, age) = person;  // name: \"Bob\", age: 20\n",
        "\n",
        "    cout << name << endl;\n",
        "    cout << age << endl;\n",
        "}"
      ],
      "execution_count": 166,
      "outputs": [
        {
          "output_type": "stream",
          "name": "stdout",
          "text": [
            "Overwriting temp.cpp\n"
          ]
        }
      ]
    },
    {
      "cell_type": "code",
      "metadata": {
        "id": "WekxnR4_wSrL",
        "colab": {
          "base_uri": "https://localhost:8080/"
        },
        "outputId": "df735b32-603c-488b-aacd-b12e603bd2bf"
      },
      "source": [
        "!g++ temp.cpp; ./a.out"
      ],
      "execution_count": 167,
      "outputs": [
        {
          "output_type": "stream",
          "name": "stdout",
          "text": [
            "Bob\n",
            "20\n"
          ]
        }
      ]
    },
    {
      "cell_type": "code",
      "metadata": {
        "id": "X1pCjiDNCNFK",
        "colab": {
          "base_uri": "https://localhost:8080/"
        },
        "outputId": "5a19988b-5352-45f0-f041-a54e487eda25"
      },
      "source": [
        "# ベクター vector\n",
        "# 要素数を実行時に変更できる配列\n",
        "%%writefile temp.cpp\n",
        "# include <bits/stdc++.h>\n",
        "using namespace std;\n",
        "\n",
        "int main() {\n",
        "    vector<int> x = {0, 1, 2, 3, 4};\n",
        "    x[2] = 10;\n",
        "    auto size = x.size();  // 5\n",
        "\n",
        "    cout << x[2] << endl;\n",
        "    cout << x.size() << endl;\n",
        "}"
      ],
      "execution_count": 168,
      "outputs": [
        {
          "output_type": "stream",
          "name": "stdout",
          "text": [
            "Overwriting temp.cpp\n"
          ]
        }
      ]
    },
    {
      "cell_type": "code",
      "metadata": {
        "id": "bhsBLkQHCMn-",
        "colab": {
          "base_uri": "https://localhost:8080/"
        },
        "outputId": "827ac1ee-d48b-4098-c268-8a73fe17697f"
      },
      "source": [
        "!g++ temp.cpp; ./a.out"
      ],
      "execution_count": 169,
      "outputs": [
        {
          "output_type": "stream",
          "name": "stdout",
          "text": [
            "10\n",
            "5\n"
          ]
        }
      ]
    },
    {
      "cell_type": "code",
      "metadata": {
        "id": "ix0D9yUwF5De",
        "colab": {
          "base_uri": "https://localhost:8080/"
        },
        "outputId": "2a70f631-ec5e-466e-956d-84b46d5fe7ef"
      },
      "source": [
        "# vector の実験\n",
        "%%writefile temp.cpp\n",
        "# include <bits/stdc++.h>\n",
        "using namespace std;\n",
        "\n",
        "int main() {\n",
        "    vector<int> x = {0, 1, 2, 3, 4};\n",
        "    auto size1 = x.size();  // 5\n",
        "    cout << size1 << endl;\n",
        "\n",
        "    x.emplace_back(5); // 質問 push_back と何が違うのか?\n",
        "    auto size2 = x.size();  // 6\n",
        "    cout << x[5] << endl;\n",
        "    cout << size2 << endl;\n",
        "\n",
        "    x.pop_back();\n",
        "    auto size3 = x.size();  // 5\n",
        "    cout << size3 << endl;\n",
        "}"
      ],
      "execution_count": 170,
      "outputs": [
        {
          "output_type": "stream",
          "name": "stdout",
          "text": [
            "Overwriting temp.cpp\n"
          ]
        }
      ]
    },
    {
      "cell_type": "code",
      "metadata": {
        "id": "jieTZe1pF5dm",
        "colab": {
          "base_uri": "https://localhost:8080/"
        },
        "outputId": "d6ec9323-0d87-4b4e-872f-655e92cebc16"
      },
      "source": [
        "!g++ temp.cpp; ./a.out"
      ],
      "execution_count": 171,
      "outputs": [
        {
          "output_type": "stream",
          "name": "stdout",
          "text": [
            "5\n",
            "5\n",
            "6\n",
            "5\n"
          ]
        }
      ]
    },
    {
      "cell_type": "code",
      "metadata": {
        "id": "kMqkQGnQHHIt",
        "colab": {
          "base_uri": "https://localhost:8080/"
        },
        "outputId": "acca3fe1-be0c-4647-f82b-fcbe135ff996"
      },
      "source": [
        "# ベクターの先頭ポインターの取得 x.data()\n",
        "%%writefile temp.cpp\n",
        "# include <bits/stdc++.h>\n",
        "using namespace std;\n",
        "\n",
        "int main() {\n",
        "    vector<int> x = {4, 300, 2, 1, 0};\n",
        "    auto px = x.data();  // 先頭ポインター\n",
        "    auto num = *px;  // 4\n",
        "\n",
        "    cout << px << endl;\n",
        "    cout << num << endl;\n",
        "    cout << *(px + 2) << endl; // C の配列みたいなことが出来る!!!!\n",
        "}"
      ],
      "execution_count": 172,
      "outputs": [
        {
          "output_type": "stream",
          "name": "stdout",
          "text": [
            "Overwriting temp.cpp\n"
          ]
        }
      ]
    },
    {
      "cell_type": "code",
      "metadata": {
        "id": "blvPc8zwHHhJ",
        "colab": {
          "base_uri": "https://localhost:8080/"
        },
        "outputId": "9208cde0-396c-4b59-baf3-448e2509c7f1"
      },
      "source": [
        "!g++ temp.cpp; ./a.out"
      ],
      "execution_count": 173,
      "outputs": [
        {
          "output_type": "stream",
          "name": "stdout",
          "text": [
            "0x560cad9f2020\n",
            "4\n",
            "2\n"
          ]
        }
      ]
    },
    {
      "cell_type": "code",
      "metadata": {
        "id": "g0782Y5kLLBZ",
        "colab": {
          "base_uri": "https://localhost:8080/"
        },
        "outputId": "a53b1d66-ddc3-45f0-8a68-3541424109a1"
      },
      "source": [
        "# マップ 連想配列 \n",
        "# 連想配列 associative array は、C++ では map として実装される\n",
        "# 別途 unordered_map もある\n",
        "# map はキーでソートしてデータを管理するのに対し、unordered_map はキーから計算する\n",
        "# ハッシュでデータを管理するので、パフォーマンスは unordered_map の方が優れている\n",
        "%%writefile temp.cpp\n",
        "# include <bits/stdc++.h>\n",
        "using namespace std;\n",
        "\n",
        "unordered_map<string, int> persons = {\n",
        "    {\"Alice\", 18},\n",
        "    {\"Bob\", 20}\n",
        "};\n",
        "\n",
        "int main(){\n",
        "    cout << persons[\"Alice\"] << endl;  // 18\n",
        "    cout << persons[\"Bob\"] << endl;    // 20\n",
        "    persons.insert({\"Eve\", 19});\n",
        "    persons.erase(\"Bob\");\n",
        "    cout << persons[\"Eve\"] << endl;    // 19\n",
        "}"
      ],
      "execution_count": 174,
      "outputs": [
        {
          "output_type": "stream",
          "name": "stdout",
          "text": [
            "Overwriting temp.cpp\n"
          ]
        }
      ]
    },
    {
      "cell_type": "code",
      "metadata": {
        "id": "rzKPw379LLmh",
        "colab": {
          "base_uri": "https://localhost:8080/"
        },
        "outputId": "4d3a6689-e2cf-445f-aea6-e40334124843"
      },
      "source": [
        "!g++ temp.cpp; ./a.out"
      ],
      "execution_count": 175,
      "outputs": [
        {
          "output_type": "stream",
          "name": "stdout",
          "text": [
            "18\n",
            "20\n",
            "19\n"
          ]
        }
      ]
    },
    {
      "cell_type": "code",
      "metadata": {
        "id": "vFy_wNC0TGwI",
        "colab": {
          "base_uri": "https://localhost:8080/"
        },
        "outputId": "873cbbdc-ad0f-40bd-a50e-a279ebea69e4"
      },
      "source": [
        "# セット set 集合\n",
        "# set または unordered_set という型で任意の型の集合を扱う。\n",
        "# パーフォーマンスは unordered_set の方が高い。\n",
        "%%writefile temp.cpp\n",
        "# include <bits/stdc++.h>\n",
        "using namespace std;\n",
        "\n",
        "unordered_set<string> persons = {\n",
        "    \"Alice\",\n",
        "    \"Bob\"\n",
        "};\n",
        "\n",
        "int main (){\n",
        "    persons.insert(\"Eve\");\n",
        "    persons.erase(\"Bob\");\n",
        "    for(auto x : persons) {\n",
        "        cout << x << endl;     // 要素を順に表示\n",
        "    }\n",
        "\n",
        "}"
      ],
      "execution_count": 176,
      "outputs": [
        {
          "output_type": "stream",
          "name": "stdout",
          "text": [
            "Overwriting temp.cpp\n"
          ]
        }
      ]
    },
    {
      "cell_type": "code",
      "metadata": {
        "id": "loQE4HyRTGeF",
        "colab": {
          "base_uri": "https://localhost:8080/"
        },
        "outputId": "1b6fc34c-7212-47cf-c721-712d138643a3"
      },
      "source": [
        "!g++ temp.cpp; ./a.out"
      ],
      "execution_count": 177,
      "outputs": [
        {
          "output_type": "stream",
          "name": "stdout",
          "text": [
            "Eve\n",
            "Alice\n"
          ]
        }
      ]
    },
    {
      "cell_type": "code",
      "metadata": {
        "id": "3M9qpQsxU1vX",
        "colab": {
          "base_uri": "https://localhost:8080/"
        },
        "outputId": "bf0931eb-93c4-48c9-dc51-fcebbf19a70e"
      },
      "source": [
        "# イテレーター iterator\n",
        "# イテレーターを使うとポインターの処理が共通化できる、とか。\n",
        "%%writefile temp.cpp\n",
        "# include <bits/stdc++.h>\n",
        "using namespace std;\n",
        "\n",
        "vector<int> x = {0, 1, 2, 3, 4};\n",
        "\n",
        "int main (){\n",
        "    // begin() でコンテナ内の先頭要素を指すイテレータを取得\n",
        "    auto it = x.begin();\n",
        "\n",
        "    // イテレータを使用して要素を出力\n",
        "    cout << *it << endl;  // 0\n",
        "\n",
        "    // イテレータを1つ進める\n",
        "    ++it;\n",
        "\n",
        "    // イテレータを使用して要素を出力\n",
        "    cout << *it << endl;  // 1\n",
        "}"
      ],
      "execution_count": 178,
      "outputs": [
        {
          "output_type": "stream",
          "name": "stdout",
          "text": [
            "Overwriting temp.cpp\n"
          ]
        }
      ]
    },
    {
      "cell_type": "code",
      "metadata": {
        "id": "h0XOIGndU2LZ",
        "colab": {
          "base_uri": "https://localhost:8080/"
        },
        "outputId": "15cea6f4-274b-4e06-812a-2c2c9ae357e5"
      },
      "source": [
        "!g++ temp.cpp; ./a.out"
      ],
      "execution_count": 179,
      "outputs": [
        {
          "output_type": "stream",
          "name": "stdout",
          "text": [
            "0\n",
            "1\n"
          ]
        }
      ]
    },
    {
      "cell_type": "code",
      "metadata": {
        "id": "mhrKHIzct44X",
        "colab": {
          "base_uri": "https://localhost:8080/"
        },
        "outputId": "3edf6d93-c8f9-43b0-8316-28e8cb0fa85a"
      },
      "source": [
        "# begin() end()\n",
        "%%writefile temp.cpp\n",
        "# include <bits/stdc++.h>\n",
        "using namespace std;\n",
        "\n",
        "vector<int> x = {0, 1, 2, 3, 4};\n",
        "\n",
        "int main (){\n",
        "    // end() でコンテナ内の最終要素の1つ先を指すイテレータを取得\n",
        "    for (auto it = x.begin(); it != x.end(); ++it) {\n",
        "        cout << *it << endl;\n",
        "    }\n",
        "}"
      ],
      "execution_count": 180,
      "outputs": [
        {
          "output_type": "stream",
          "name": "stdout",
          "text": [
            "Overwriting temp.cpp\n"
          ]
        }
      ]
    },
    {
      "cell_type": "code",
      "metadata": {
        "id": "KySbv1Zst4nT",
        "colab": {
          "base_uri": "https://localhost:8080/"
        },
        "outputId": "53346bc4-2df1-456d-c9b3-332faffd0716"
      },
      "source": [
        "!g++ temp.cpp; ./a.out"
      ],
      "execution_count": 181,
      "outputs": [
        {
          "output_type": "stream",
          "name": "stdout",
          "text": [
            "0\n",
            "1\n",
            "2\n",
            "3\n",
            "4\n"
          ]
        }
      ]
    },
    {
      "cell_type": "code",
      "metadata": {
        "id": "Aq0WhTheuZch",
        "colab": {
          "base_uri": "https://localhost:8080/"
        },
        "outputId": "b65845a5-6696-4c74-f1bf-d144b4346f27"
      },
      "source": [
        "# unordered_set\n",
        "%%writefile temp.cpp\n",
        "# include <bits/stdc++.h>\n",
        "using namespace std;\n",
        "\n",
        "unordered_set<string> x = {\"Bob\", \"Me\", \"Papa\", \"Bob\"};\n",
        "\n",
        "int main (){\n",
        "    // end() でコンテナ内の最終要素の1つ先を指すイテレータを取得\n",
        "    for (auto it = x.begin(); it != x.end(); ++it) {\n",
        "        cout << *it << endl;\n",
        "    }\n",
        "}"
      ],
      "execution_count": 182,
      "outputs": [
        {
          "output_type": "stream",
          "name": "stdout",
          "text": [
            "Overwriting temp.cpp\n"
          ]
        }
      ]
    },
    {
      "cell_type": "code",
      "metadata": {
        "id": "F31WtlbXuZQJ",
        "colab": {
          "base_uri": "https://localhost:8080/"
        },
        "outputId": "7997f3d4-4577-4909-8779-6a17402abc64"
      },
      "source": [
        "!g++ temp.cpp; ./a.out"
      ],
      "execution_count": 183,
      "outputs": [
        {
          "output_type": "stream",
          "name": "stdout",
          "text": [
            "Papa\n",
            "Me\n",
            "Bob\n"
          ]
        }
      ]
    },
    {
      "cell_type": "code",
      "metadata": {
        "id": "QO3GU-pewozo",
        "colab": {
          "base_uri": "https://localhost:8080/"
        },
        "outputId": "c0de17d3-a39b-4e2f-be85-ba83c22682bc"
      },
      "source": [
        "# count_if\n",
        "%%writefile temp.cpp\n",
        "# include <bits/stdc++.h>\n",
        "using namespace std;\n",
        "\n",
        "vector<int> x = {0, 1, 2, 3, 4};\n",
        "\n",
        "int main (){\n",
        "    // count_if は条件を満たすコンテナ要素の個数を数える処理\n",
        "    //   - 第1引数と第2引数で範囲を指定\n",
        "    //   - 第3引数で関数オブジェクトで条件を指定\n",
        "    auto n = count_if(x.begin(), x.end(), [](const int v) {\n",
        "        // 0 より大きい 2 の倍数\n",
        "        if (v <= 0) {\n",
        "            return false;\n",
        "        }\n",
        "        if (v % 2 != 0) {\n",
        "            return false;\n",
        "        }\n",
        "        return true;\n",
        "    });\n",
        "    cout << n << endl;  // 2\n",
        "}"
      ],
      "execution_count": 184,
      "outputs": [
        {
          "output_type": "stream",
          "name": "stdout",
          "text": [
            "Overwriting temp.cpp\n"
          ]
        }
      ]
    },
    {
      "cell_type": "code",
      "metadata": {
        "id": "3ChdZa8wwooS",
        "colab": {
          "base_uri": "https://localhost:8080/"
        },
        "outputId": "56cd38d7-5b1c-4698-e400-a0be5870a6f8"
      },
      "source": [
        "!g++ temp.cpp; ./a.out"
      ],
      "execution_count": 185,
      "outputs": [
        {
          "output_type": "stream",
          "name": "stdout",
          "text": [
            "2\n"
          ]
        }
      ]
    },
    {
      "cell_type": "code",
      "metadata": {
        "id": "y8g65mfrxRHo",
        "colab": {
          "base_uri": "https://localhost:8080/"
        },
        "outputId": "45eabfba-08c8-4643-d115-7ef9123cbdf0"
      },
      "source": [
        "# map イテレーター\n",
        "%%writefile temp.cpp\n",
        "# include <bits/stdc++.h>\n",
        "using namespace std;\n",
        "\n",
        "map<string, int> persons = {\n",
        "    {\"Alice\", 18},\n",
        "    {\"Bob\", 20}\n",
        "};\n",
        "\n",
        "int main (){\n",
        "    for (auto it = persons.begin(); it != persons.end(); ++it) {\n",
        "        const auto& person = *it;  // pair<string, int>\n",
        "        const string& name = person.first;\n",
        "        const int age = person.second;\n",
        "        cout << name << \": \" << age << endl;\n",
        "    }\n",
        "}"
      ],
      "execution_count": 186,
      "outputs": [
        {
          "output_type": "stream",
          "name": "stdout",
          "text": [
            "Overwriting temp.cpp\n"
          ]
        }
      ]
    },
    {
      "cell_type": "code",
      "metadata": {
        "id": "81iU-FZuxQ3m",
        "colab": {
          "base_uri": "https://localhost:8080/"
        },
        "outputId": "5a62b8f0-2aa7-4a03-d564-5631a1808ace"
      },
      "source": [
        "!g++ temp.cpp; ./a.out"
      ],
      "execution_count": 187,
      "outputs": [
        {
          "output_type": "stream",
          "name": "stdout",
          "text": [
            "Alice: 18\n",
            "Bob: 20\n"
          ]
        }
      ]
    },
    {
      "cell_type": "code",
      "metadata": {
        "id": "Jv9sVfI6yQvL",
        "colab": {
          "base_uri": "https://localhost:8080/"
        },
        "outputId": "6f259a8a-44ee-4cb1-c9ec-aff6b7f5c421"
      },
      "source": [
        "# vector イテレーター\n",
        "%%writefile temp.cpp\n",
        "# include <bits/stdc++.h>\n",
        "using namespace std;\n",
        "\n",
        "vector<int> x = {0, 1, 2, 3, 4};\n",
        "\n",
        "int main (){\n",
        "    auto it = x.begin();\n",
        "    cout << *it << endl;  // 0\n",
        "\n",
        "    ++it;  // 前に進める\n",
        "    cout << *it << endl;  // 1\n",
        "\n",
        "    --it;  // 後ろへ戻す\n",
        "    cout << *it << endl;  // 0\n",
        "\n",
        "    it = it + 3;  // 3つ前に進める\n",
        "    cout << *it << endl;  // 3\n",
        "\n",
        "    // it は変更せずに it から2つ後ろへ戻した要素を参照\n",
        "    cout << it[-2] << endl;  // 1 (it から2つ後ろへ戻した要素)\n",
        "    cout << *it << endl;  // 3 (it は変更されていない)\n",
        "}"
      ],
      "execution_count": 188,
      "outputs": [
        {
          "output_type": "stream",
          "name": "stdout",
          "text": [
            "Overwriting temp.cpp\n"
          ]
        }
      ]
    },
    {
      "cell_type": "code",
      "metadata": {
        "id": "az8KpEeOyQmI",
        "colab": {
          "base_uri": "https://localhost:8080/"
        },
        "outputId": "ce40b5e4-b74e-4b65-bae9-173fba70d3d1"
      },
      "source": [
        "!g++ temp.cpp; ./a.out"
      ],
      "execution_count": 189,
      "outputs": [
        {
          "output_type": "stream",
          "name": "stdout",
          "text": [
            "0\n",
            "1\n",
            "0\n",
            "3\n",
            "1\n",
            "3\n"
          ]
        }
      ]
    },
    {
      "cell_type": "code",
      "metadata": {
        "id": "7ayHoBKozZe3",
        "colab": {
          "base_uri": "https://localhost:8080/"
        },
        "outputId": "adf9097f-3307-4668-ec11-80447e0fd5b8"
      },
      "source": [
        "# vector iterator\n",
        "%%writefile temp.cpp\n",
        "# include <bits/stdc++.h>\n",
        "using namespace std;\n",
        "\n",
        "vector<int> x = {0, 1, 2, 3, 4, 5, 6};\n",
        "\n",
        "int main (){\n",
        "    auto it1 = x.begin() + 2;\n",
        "    auto it2 = x.begin() + 3;\n",
        "    auto it3 = x.begin() + 4;\n",
        "    cout << *it1 << endl;  // 2\n",
        "    cout << *it2 << endl;  // 3\n",
        "    cout << *it3 << endl;  // 4\n",
        "\n",
        "    x.erase(x.begin() + 3);  // index=3 の要素を削除\n",
        "\n",
        "    cout << *it1 << endl;  // 2 (有効なまま)\n",
        "    cout << *it2 << endl;  // 未定義動作 (無効化される) => されない\n",
        "    cout << *it3 << endl;  // 未定義動作 (無効化される) => されない\n",
        "}"
      ],
      "execution_count": 190,
      "outputs": [
        {
          "output_type": "stream",
          "name": "stdout",
          "text": [
            "Overwriting temp.cpp\n"
          ]
        }
      ]
    },
    {
      "cell_type": "code",
      "metadata": {
        "id": "osym1JErzZSS",
        "colab": {
          "base_uri": "https://localhost:8080/"
        },
        "outputId": "e51723ce-ef3d-4cc4-be26-89f7b4e2d415"
      },
      "source": [
        "!g++ temp.cpp; ./a.out"
      ],
      "execution_count": 191,
      "outputs": [
        {
          "output_type": "stream",
          "name": "stdout",
          "text": [
            "2\n",
            "3\n",
            "4\n",
            "2\n",
            "4\n",
            "5\n"
          ]
        }
      ]
    },
    {
      "cell_type": "code",
      "metadata": {
        "id": "SCC_-rmp1PSe",
        "outputId": "d2c57a54-69d5-4bd8-aa8f-39aaf1a27a3b",
        "colab": {
          "base_uri": "https://localhost:8080/"
        }
      },
      "source": [
        "# 範囲for\n",
        "%%writefile temp.cpp\n",
        "# include <bits/stdc++.h>\n",
        "using namespace std;\n",
        "\n",
        "vector<int> x = {0, 1, 2, 3, 4};\n",
        "\n",
        "int main (){\n",
        "    for (auto it = x.begin(); it != x.end(); ++it) {\n",
        "        cout << *it << endl;\n",
        "    }\n",
        "}"
      ],
      "execution_count": 192,
      "outputs": [
        {
          "output_type": "stream",
          "name": "stdout",
          "text": [
            "Overwriting temp.cpp\n"
          ]
        }
      ]
    },
    {
      "cell_type": "code",
      "metadata": {
        "id": "L3ySkqeJ1PE-",
        "outputId": "3f13f632-4551-4a0a-e6c7-b57163a206f9",
        "colab": {
          "base_uri": "https://localhost:8080/"
        }
      },
      "source": [
        "!g++ temp.cpp; ./a.out"
      ],
      "execution_count": 193,
      "outputs": [
        {
          "output_type": "stream",
          "name": "stdout",
          "text": [
            "0\n",
            "1\n",
            "2\n",
            "3\n",
            "4\n"
          ]
        }
      ]
    },
    {
      "cell_type": "code",
      "metadata": {
        "id": "3xVtGjAK112z",
        "colab": {
          "base_uri": "https://localhost:8080/"
        },
        "outputId": "6ccad102-d3fb-438c-f80c-9fb3c7c6b03d"
      },
      "source": [
        "# 範囲for\n",
        "%%writefile temp.cpp\n",
        "# include <bits/stdc++.h>\n",
        "using namespace std;\n",
        "\n",
        "vector<int> x = {0, 1, 2, 3, 4};\n",
        "\n",
        "int main (){\n",
        "    for (auto&& it : x) {\n",
        "        cout << it << endl;\n",
        "    }\n",
        "}"
      ],
      "execution_count": 194,
      "outputs": [
        {
          "output_type": "stream",
          "name": "stdout",
          "text": [
            "Overwriting temp.cpp\n"
          ]
        }
      ]
    },
    {
      "cell_type": "code",
      "metadata": {
        "id": "m5WVTrEe11p8",
        "colab": {
          "base_uri": "https://localhost:8080/"
        },
        "outputId": "15722a98-ae3f-4d09-f4d0-9383f249f52f"
      },
      "source": [
        "!g++ temp.cpp; ./a.out"
      ],
      "execution_count": 195,
      "outputs": [
        {
          "output_type": "stream",
          "name": "stdout",
          "text": [
            "0\n",
            "1\n",
            "2\n",
            "3\n",
            "4\n"
          ]
        }
      ]
    },
    {
      "cell_type": "code",
      "metadata": {
        "id": "7fONu8mdD9g8",
        "outputId": "a41425cc-f1ca-4d84-d38a-80cb40647f54",
        "colab": {
          "base_uri": "https://localhost:8080/"
        }
      },
      "source": [
        "# 入力値の型指定\n",
        "%%writefile temp.cpp\n",
        "# include <bits/stdc++.h>\n",
        "using namespace std;\n",
        "\n",
        "int main() {\n",
        "    int x = 0;\n",
        "\n",
        "    cout << \"整数を入力してください: \";\n",
        "    if (cin >> x) {\n",
        "        cout << \"入力した整数は \" << x << \" です。\" << endl;\n",
        "    } else {\n",
        "        cout << \"不正な入力です。\" << endl;\n",
        "    }\n",
        "}"
      ],
      "execution_count": 196,
      "outputs": [
        {
          "output_type": "stream",
          "name": "stdout",
          "text": [
            "Overwriting temp.cpp\n"
          ]
        }
      ]
    },
    {
      "cell_type": "code",
      "metadata": {
        "id": "a_yKgt1oD9TH",
        "colab": {
          "base_uri": "https://localhost:8080/"
        },
        "outputId": "146fcaf5-bb82-4982-f71d-d26e736f441e"
      },
      "source": [
        "!g++ temp.cpp; echo 3 | ./a.out\n",
        "!echo カレー | ./a.out"
      ],
      "execution_count": 197,
      "outputs": [
        {
          "output_type": "stream",
          "name": "stdout",
          "text": [
            "整数を入力してください: 入力した整数は 3 です。\n",
            "整数を入力してください: 不正な入力です。\n"
          ]
        }
      ]
    },
    {
      "cell_type": "code",
      "metadata": {
        "id": "udzHxHTCgDVU",
        "colab": {
          "base_uri": "https://localhost:8080/"
        },
        "outputId": "2a76ad98-8535-45ab-e55c-d22ad7f9b38e"
      },
      "source": [
        "# メモリー領域 スタックとヒープ\n",
        "%%writefile temp.cpp\n",
        "# include <bits/stdc++.h>\n",
        "using namespace std;\n",
        "\n",
        "void Function() {\n",
        "    int x = 100; // ローカル変数xはスタックに確保される。\n",
        "    int y = 200; // ローカル変数yはスタックに確保される。\n",
        "} // 関数の終了とともに変数 x, y はスタックから取り除かれる。\n",
        "  // スタックはLIFO（後入れ先出し）形式のため y, x の順で取り除かれる。\n",
        "\n",
        "int main() {\n",
        "    Function();\n",
        "}"
      ],
      "execution_count": 198,
      "outputs": [
        {
          "output_type": "stream",
          "name": "stdout",
          "text": [
            "Overwriting temp.cpp\n"
          ]
        }
      ]
    },
    {
      "cell_type": "code",
      "metadata": {
        "id": "8qNcblpBgDx3"
      },
      "source": [
        "!g++ temp.cpp; ./a.out"
      ],
      "execution_count": 199,
      "outputs": []
    },
    {
      "cell_type": "code",
      "metadata": {
        "id": "RhmsT-COgSc5"
      },
      "source": [
        "%%script false\n",
        "int* p1 = new int(100);  // p1 は new で確保されたメモリ領域を指すポインター\n",
        "int* p2 = new int[5];    // 配列の場合は [] を付ける\n",
        "\n",
        "delete p1;    // new によって確保されたメモリを delete で解放\n",
        "delete[] p2;  // 配列の場合は [] を付ける"
      ],
      "execution_count": 200,
      "outputs": []
    },
    {
      "cell_type": "code",
      "source": [
        "# malloc/free を利用することでもメモリの確保・解放は可能だが、C++ での利用は推奨されていない。"
      ],
      "metadata": {
        "id": "Gs73afxaglGF"
      },
      "execution_count": 201,
      "outputs": []
    },
    {
      "cell_type": "markdown",
      "metadata": {
        "id": "pgPzh-ZAguAn"
      },
      "source": [
        ""
      ]
    },
    {
      "cell_type": "code",
      "metadata": {
        "id": "KkVhcYxUgSGB",
        "colab": {
          "base_uri": "https://localhost:8080/"
        },
        "outputId": "2a22db22-0444-4acf-82aa-605220f1f5ba"
      },
      "source": [
        "# ディープコピーとシャローコピー\n",
        "%%writefile temp.cpp\n",
        "# include <bits/stdc++.h>\n",
        "using namespace std;\n",
        "\n",
        "int main() {\n",
        "    int x = 100;\n",
        "    int y = x; // x を y へディープコピー\n",
        "    y = 50; // y を 50 に書き換える\n",
        "    cout << x << endl; // x は100のまま\n",
        "}"
      ],
      "execution_count": 202,
      "outputs": [
        {
          "output_type": "stream",
          "name": "stdout",
          "text": [
            "Overwriting temp.cpp\n"
          ]
        }
      ]
    },
    {
      "cell_type": "code",
      "metadata": {
        "id": "AJ0aZruNhHsM",
        "colab": {
          "base_uri": "https://localhost:8080/"
        },
        "outputId": "8c8ad1bc-4cfb-4d3d-e4be-7a02fe4c7fb8"
      },
      "source": [
        "!g++ temp.cpp; ./a.out"
      ],
      "execution_count": 203,
      "outputs": [
        {
          "output_type": "stream",
          "name": "stdout",
          "text": [
            "100\n"
          ]
        }
      ]
    },
    {
      "cell_type": "code",
      "metadata": {
        "id": "tJMvzzPfhLWZ",
        "colab": {
          "base_uri": "https://localhost:8080/"
        },
        "outputId": "6620af20-4107-4f9e-97e0-03d6f8d012fa"
      },
      "source": [
        "# ディープコピーとシャローコピー2\n",
        "%%writefile temp.cpp\n",
        "# include <bits/stdc++.h>\n",
        "using namespace std;\n",
        "\n",
        "int main() {\n",
        "    int* x = new int(100);\n",
        "    int* y = x; // x を y へシャローコピー\n",
        "    *y = 50; // y が指す先の値を 50 に書き換える\n",
        "    cout << *x << endl; // x が指す先の値も 50 になる\n",
        "}"
      ],
      "execution_count": 204,
      "outputs": [
        {
          "output_type": "stream",
          "name": "stdout",
          "text": [
            "Overwriting temp.cpp\n"
          ]
        }
      ]
    },
    {
      "cell_type": "code",
      "metadata": {
        "id": "ltuT6im4hK9o",
        "colab": {
          "base_uri": "https://localhost:8080/"
        },
        "outputId": "f23d1cb3-b73e-4acf-985f-49b2e034decf"
      },
      "source": [
        "!g++ temp.cpp; ./a.out"
      ],
      "execution_count": 205,
      "outputs": [
        {
          "output_type": "stream",
          "name": "stdout",
          "text": [
            "50\n"
          ]
        }
      ]
    },
    {
      "cell_type": "code",
      "metadata": {
        "id": "CEbSkDZ-hkMa",
        "colab": {
          "base_uri": "https://localhost:8080/"
        },
        "outputId": "09e583d3-aa33-4d60-d03e-aa400c201f93"
      },
      "source": [
        "# ディープコピーとシャローコピー3\n",
        "%%writefile temp.cpp\n",
        "# include <bits/stdc++.h>\n",
        "using namespace std;\n",
        "\n",
        "void ChangeToFifty1(int v) {  // ディープコピー\n",
        "    v = 50;\n",
        "}\n",
        "\n",
        "void ChangeToFifty2(int* v) {  // シャローコピー\n",
        "    *v = 50;\n",
        "}\n",
        "\n",
        "int main() {\n",
        "    int a = 100;\n",
        "    ChangeToFifty1(a);\n",
        "    cout << a << endl;  // 100\n",
        "\n",
        "    int b = 100;\n",
        "    ChangeToFifty2(&b);\n",
        "    cout << b << endl;  // 50\n",
        "}"
      ],
      "execution_count": 206,
      "outputs": [
        {
          "output_type": "stream",
          "name": "stdout",
          "text": [
            "Overwriting temp.cpp\n"
          ]
        }
      ]
    },
    {
      "cell_type": "code",
      "metadata": {
        "id": "evveHUdShj-8",
        "colab": {
          "base_uri": "https://localhost:8080/"
        },
        "outputId": "791316d2-4027-4f6d-b236-6ad260574106"
      },
      "source": [
        "!g++ temp.cpp; ./a.out"
      ],
      "execution_count": 207,
      "outputs": [
        {
          "output_type": "stream",
          "name": "stdout",
          "text": [
            "100\n",
            "50\n"
          ]
        }
      ]
    },
    {
      "cell_type": "code",
      "metadata": {
        "id": "0p5g855EiWif",
        "colab": {
          "base_uri": "https://localhost:8080/"
        },
        "outputId": "576c51f7-d324-40e6-ee43-a7d6def715b5"
      },
      "source": [
        "# ムーブセマンティクス move semantics %%\n",
        "%%writefile temp.cpp\n",
        "# include <bits/stdc++.h>\n",
        "using namespace std;\n",
        "\n",
        "void Print(string&) {\n",
        "    cout << \"左辺値参照\" << endl;\n",
        "}\n",
        "\n",
        "void Print(string&&) {\n",
        "    cout << \"右辺値参照\" << endl;\n",
        "}\n",
        "\n",
        "int main() {\n",
        "    string str = \"hoge\";\n",
        "\n",
        "    Print(str);\n",
        "    Print(move(str));\n",
        "}"
      ],
      "execution_count": 208,
      "outputs": [
        {
          "output_type": "stream",
          "name": "stdout",
          "text": [
            "Overwriting temp.cpp\n"
          ]
        }
      ]
    },
    {
      "cell_type": "code",
      "metadata": {
        "id": "cEIx86hPiW6A",
        "colab": {
          "base_uri": "https://localhost:8080/"
        },
        "outputId": "ad72366e-6856-464e-a2b1-6e2d6e4ea64f"
      },
      "source": [
        "!g++ temp.cpp; ./a.out"
      ],
      "execution_count": 209,
      "outputs": [
        {
          "output_type": "stream",
          "name": "stdout",
          "text": [
            "左辺値参照\n",
            "右辺値参照\n"
          ]
        }
      ]
    },
    {
      "cell_type": "code",
      "metadata": {
        "id": "cR4nEzYoi_oD",
        "colab": {
          "base_uri": "https://localhost:8080/"
        },
        "outputId": "5c551d5c-b12c-40c9-c836-576ec81a919b"
      },
      "source": [
        "# スマートポインター\n",
        "%%writefile temp.cpp\n",
        "# include <bits/stdc++.h>\n",
        "using namespace std;\n",
        "\n",
        "int main() {\n",
        "    shared_ptr<int> x = make_shared<int>(100); // int* x = new int(100); の代わり\n",
        "                                                         // 所有者は1人。\n",
        "    {\n",
        "        shared_ptr<int> y = x; // 通常のポインター同様、コピーすることで所有権が共有される\n",
        "                                    // 所有者が2人に増える。\n",
        "        cout << *y << endl;\n",
        "    } // y が破棄されて所有者が1人になる。\n",
        "\n",
        "    cout << *x << endl;\n",
        "} // 所有者が0人になるので、 x のデストラクタで自動的に delete が行われる。"
      ],
      "execution_count": 210,
      "outputs": [
        {
          "output_type": "stream",
          "name": "stdout",
          "text": [
            "Overwriting temp.cpp\n"
          ]
        }
      ]
    },
    {
      "cell_type": "code",
      "metadata": {
        "id": "uqwoT0HXi_XI",
        "colab": {
          "base_uri": "https://localhost:8080/"
        },
        "outputId": "aeed0e28-6d02-48f1-8978-c2d56fa8ff20"
      },
      "source": [
        "!g++ temp.cpp; ./a.out"
      ],
      "execution_count": 211,
      "outputs": [
        {
          "output_type": "stream",
          "name": "stdout",
          "text": [
            "100\n",
            "100\n"
          ]
        }
      ]
    },
    {
      "cell_type": "code",
      "metadata": {
        "id": "-_2KYQfVjvxX",
        "colab": {
          "base_uri": "https://localhost:8080/"
        },
        "outputId": "819f0f37-cf44-4c6f-bef0-00c24cbcfafa"
      },
      "source": [
        "# ユニークポインター\n",
        "%%writefile temp.cpp\n",
        "# include <bits/stdc++.h>\n",
        "using namespace std;\n",
        "\n",
        "int main() {\n",
        "    unique_ptr<int> x(new int(100));\n",
        "    // unique_ptr<int> y = x; // コピー出来ない。コンパイルエラー。\n",
        "\n",
        "    cout << *x << endl;\n",
        "} // x が所有しているリソースが解放される。"
      ],
      "execution_count": 212,
      "outputs": [
        {
          "output_type": "stream",
          "name": "stdout",
          "text": [
            "Overwriting temp.cpp\n"
          ]
        }
      ]
    },
    {
      "cell_type": "code",
      "metadata": {
        "id": "Asar4r6rjvga",
        "colab": {
          "base_uri": "https://localhost:8080/"
        },
        "outputId": "b565c581-dc35-421f-e0bd-34d235ee656f"
      },
      "source": [
        "!g++ temp.cpp; ./a.out"
      ],
      "execution_count": 213,
      "outputs": [
        {
          "output_type": "stream",
          "name": "stdout",
          "text": [
            "100\n"
          ]
        }
      ]
    },
    {
      "cell_type": "code",
      "metadata": {
        "id": "d6s5jLpBkBzu",
        "colab": {
          "base_uri": "https://localhost:8080/"
        },
        "outputId": "2fe201f2-d42d-421e-9071-98225e440134"
      },
      "source": [
        "# move による所有権の移動\n",
        "%%writefile temp.cpp\n",
        "# include <bits/stdc++.h>\n",
        "using namespace std;\n",
        "\n",
        "int main() {\n",
        "    unique_ptr<int> x(new int(100));\n",
        "    unique_ptr<int> y(move(x)); // ムーブは出来るため、所有権の移動は可能。\n",
        "                                          // 所有権を移動したため、x は何も所有していない。\n",
        "\n",
        "    cout << *y << endl;\n",
        "} // y が所有しているリソースが解放される。"
      ],
      "execution_count": 214,
      "outputs": [
        {
          "output_type": "stream",
          "name": "stdout",
          "text": [
            "Overwriting temp.cpp\n"
          ]
        }
      ]
    },
    {
      "cell_type": "code",
      "metadata": {
        "id": "9zCx1Vq9kBnU",
        "colab": {
          "base_uri": "https://localhost:8080/"
        },
        "outputId": "3082ad77-f038-4242-ca3f-7d28deb9d7df"
      },
      "source": [
        "!g++ temp.cpp; ./a.out"
      ],
      "execution_count": 215,
      "outputs": [
        {
          "output_type": "stream",
          "name": "stdout",
          "text": [
            "100\n"
          ]
        }
      ]
    },
    {
      "cell_type": "code",
      "metadata": {
        "id": "RU8Ebl0dkTaR",
        "colab": {
          "base_uri": "https://localhost:8080/"
        },
        "outputId": "6838f113-0d9a-4cd8-ff6c-9ac6fb1b6f84"
      },
      "source": [
        "# `auto_ptr` は C++11 では非推奨となっており C++17 では削除されている。\n",
        "%%writefile temp.cpp\n",
        "# include <bits/stdc++.h>\n",
        "using namespace std;\n",
        "\n",
        "int main() {\n",
        "    shared_ptr<int> sp = make_shared<int>(246);\n",
        "    weak_ptr<int> wp = sp; // sp を監視対象として wp に登録する\n",
        "\n",
        "    shared_ptr<int> sp2 = wp.lock(); // 有効な場合は sp とリソースを共有する sp2 が作られる\n",
        "    if (sp2) {\n",
        "        cout << *sp2 << endl;\n",
        "    } else {\n",
        "        cout << \"リソースは解放済み\" << endl;\n",
        "    }\n",
        "}"
      ],
      "execution_count": 216,
      "outputs": [
        {
          "output_type": "stream",
          "name": "stdout",
          "text": [
            "Overwriting temp.cpp\n"
          ]
        }
      ]
    },
    {
      "cell_type": "code",
      "metadata": {
        "id": "ECCTf-SPkTOm",
        "colab": {
          "base_uri": "https://localhost:8080/"
        },
        "outputId": "64c0e745-f8d3-4849-88f0-c425b1f591c8"
      },
      "source": [
        "!g++ temp.cpp; ./a.out"
      ],
      "execution_count": 217,
      "outputs": [
        {
          "output_type": "stream",
          "name": "stdout",
          "text": [
            "246\n"
          ]
        }
      ]
    },
    {
      "cell_type": "code",
      "metadata": {
        "id": "mEiZTT_bl4WU",
        "colab": {
          "base_uri": "https://localhost:8080/"
        },
        "outputId": "1d466bd0-57dd-4d01-e3d4-80ed3211883b"
      },
      "source": [
        "# 継承 inheritance\n",
        "%%writefile temp.cpp\n",
        "# include <bits/stdc++.h>\n",
        "using namespace std;\n",
        "\n",
        "class Rectangle {\n",
        " public:\n",
        "    int Area() const {\n",
        "       return height_ * width_;\n",
        "    }\n",
        "\n",
        "    int height_;\n",
        "    int width_;\n",
        "};\n",
        "\n",
        "class Square : public Rectangle {\n",
        " public:\n",
        "    void SetSize(int size) {\n",
        "        height_ = size;\n",
        "        width_ = size;\n",
        "    }\n",
        "};\n",
        "\n",
        "int main() {\n",
        "    Square s;\n",
        "    s.SetSize(10);\n",
        "    cout << s.Area() << endl;\n",
        "}"
      ],
      "execution_count": 218,
      "outputs": [
        {
          "output_type": "stream",
          "name": "stdout",
          "text": [
            "Overwriting temp.cpp\n"
          ]
        }
      ]
    },
    {
      "cell_type": "code",
      "metadata": {
        "id": "83PtdK7gl4mj",
        "colab": {
          "base_uri": "https://localhost:8080/"
        },
        "outputId": "e374624c-2def-4d82-d274-e7a07aa95040"
      },
      "source": [
        "!g++ temp.cpp; ./a.out"
      ],
      "execution_count": 219,
      "outputs": [
        {
          "output_type": "stream",
          "name": "stdout",
          "text": [
            "100\n"
          ]
        }
      ]
    },
    {
      "cell_type": "code",
      "metadata": {
        "id": "bWKVzFpkm-W0",
        "colab": {
          "base_uri": "https://localhost:8080/"
        },
        "outputId": "359a7fe1-e695-4e2c-cd33-f848da0d7440"
      },
      "source": [
        "# Polymorphism 再び\n",
        "%%writefile temp.cpp\n",
        "# include <bits/stdc++.h>\n",
        "using namespace std;\n",
        "\n",
        "class Rectangle {\n",
        " public:\n",
        "    int Area() const {\n",
        "        return height_ * width_;\n",
        "    }\n",
        "\n",
        "    int height_;\n",
        "    int width_;\n",
        "};\n",
        "\n",
        "class Square : public Rectangle {\n",
        " public:\n",
        "    void SetSize(int size) {\n",
        "        height_ = size;\n",
        "        width_ = size;\n",
        "    }\n",
        "};\n",
        "\n",
        "int main() {\n",
        "    Square s;\n",
        "    s.SetSize(10);\n",
        "\n",
        "    const Rectangle& r = s;\n",
        "    cout << \"area = \" << r.Area() << endl;\n",
        "}"
      ],
      "execution_count": 220,
      "outputs": [
        {
          "output_type": "stream",
          "name": "stdout",
          "text": [
            "Overwriting temp.cpp\n"
          ]
        }
      ]
    },
    {
      "cell_type": "code",
      "metadata": {
        "id": "Jj2Lvom83SKl",
        "colab": {
          "base_uri": "https://localhost:8080/"
        },
        "outputId": "3172a01d-057b-4c3a-b487-6d3055af0db1"
      },
      "source": [
        "!g++ temp.cpp; ./a.out"
      ],
      "execution_count": 221,
      "outputs": [
        {
          "output_type": "stream",
          "name": "stdout",
          "text": [
            "area = 100\n"
          ]
        }
      ]
    },
    {
      "cell_type": "code",
      "metadata": {
        "id": "-S1ZsOoj3rXX",
        "colab": {
          "base_uri": "https://localhost:8080/"
        },
        "outputId": "21a77c9f-63c0-4168-f58f-1012fa3d00cb"
      },
      "source": [
        "# override\n",
        "%%writefile temp.cpp\n",
        "# include <bits/stdc++.h>\n",
        "using namespace std;\n",
        "\n",
        "class Rectangle {\n",
        " public:\n",
        "    virtual void Describe() const {\n",
        "        cout << \"height = \" << height_ << endl;\n",
        "        cout << \"width = \" << width_ << endl;\n",
        "    }\n",
        "\n",
        "    int height_;\n",
        "    int width_;\n",
        "};\n",
        "\n",
        "class Square : public Rectangle {\n",
        " public:\n",
        "    void SetSize(int size) {\n",
        "        height_ = size;\n",
        "        width_ = size;\n",
        "    }\n",
        "\n",
        "    void Describe() const override {\n",
        "        cout << \"size = \" << height_ << endl;\n",
        "    }\n",
        "};\n",
        "\n",
        "int main() {\n",
        "    Square s;\n",
        "    s.SetSize(10);\n",
        "\n",
        "    const Rectangle& r = s;\n",
        "    r.Describe();\n",
        "}"
      ],
      "execution_count": 222,
      "outputs": [
        {
          "output_type": "stream",
          "name": "stdout",
          "text": [
            "Overwriting temp.cpp\n"
          ]
        }
      ]
    },
    {
      "cell_type": "code",
      "metadata": {
        "id": "MqteWDOZ30Bt",
        "colab": {
          "base_uri": "https://localhost:8080/"
        },
        "outputId": "b2c76c64-1091-4f42-cd67-7ee8012ebaef"
      },
      "source": [
        "!g++ temp.cpp; ./a.out"
      ],
      "execution_count": 223,
      "outputs": [
        {
          "output_type": "stream",
          "name": "stdout",
          "text": [
            "size = 10\n"
          ]
        }
      ]
    },
    {
      "cell_type": "code",
      "metadata": {
        "id": "BJk9W95v3rHY"
      },
      "source": [
        "# 純粋仮想関数とインターフェイス\n",
        "# 定義をもたない仮想関数を純粋仮想関数いう。 \n",
        "# 純粋仮想関数にするには仮想関数に = 0 をつける。\n",
        "# 純粋仮想関数があるクラスのオブジェクトは作ることができない。\n",
        "# C++ にはインターフェースクラスをつくるための専用の記法はないため、 \n",
        "# メンバ関数がすべて純粋仮想関数であるクラスをインターフェースとして使う。\n",
        "%%script false\n",
        "class Polygon {\n",
        " public:\n",
        "    virtual int Area() const = 0;\n",
        "};\n",
        "\n",
        "class Rectangle : public Polygon {\n",
        " public:\n",
        "    int Area() const override {\n",
        "        return height_ * width_;\n",
        "    }\n",
        "\n",
        "    int height_;\n",
        "    int width_;\n",
        "};"
      ],
      "execution_count": 224,
      "outputs": []
    },
    {
      "cell_type": "code",
      "metadata": {
        "id": "P0Q4-B8pGRUn",
        "colab": {
          "base_uri": "https://localhost:8080/"
        },
        "outputId": "4dabdb2b-08e2-413e-f801-72c25d944784"
      },
      "source": [
        "# デストラクタ destructor\n",
        "%%writefile temp.cpp\n",
        "# include <bits/stdc++.h>\n",
        "using namespace std;\n",
        "\n",
        "class DynamicArray {\n",
        " public:\n",
        "    DynamicArray(int size, int initial_value) {\n",
        "        data_ = new int[size];\n",
        "        for (auto i = 0; i < size; ++i) {\n",
        "            data_[i] = initial_value;\n",
        "        }\n",
        "    }\n",
        "\n",
        "    ~DynamicArray() {\n",
        "        cout << \"DynamicArray::~DynamicArray() is called.\" << endl;\n",
        "        delete[] data_;\n",
        "    }\n",
        "\n",
        "    void Set(int index, int value) {\n",
        "        data_[index] = value;\n",
        "    }\n",
        "\n",
        "    int Get(int index) const {\n",
        "        return data_[index];\n",
        "    }\n",
        "\n",
        " private:\n",
        "    int* data_;\n",
        "};\n",
        "\n",
        "int main() {\n",
        "    DynamicArray d(5, 1);\n",
        "    cout << d.Get(2) << endl;\n",
        "    d.Set(2, 10);\n",
        "    cout << d.Get(2) << endl;\n",
        "}"
      ],
      "execution_count": 225,
      "outputs": [
        {
          "output_type": "stream",
          "name": "stdout",
          "text": [
            "Overwriting temp.cpp\n"
          ]
        }
      ]
    },
    {
      "cell_type": "code",
      "metadata": {
        "id": "Y8ye_qXqGRFq",
        "colab": {
          "base_uri": "https://localhost:8080/"
        },
        "outputId": "b4521d8d-78a1-4a17-d793-4be68f6d4a4c"
      },
      "source": [
        "!g++ temp.cpp; ./a.out"
      ],
      "execution_count": 226,
      "outputs": [
        {
          "output_type": "stream",
          "name": "stdout",
          "text": [
            "1\n",
            "10\n",
            "DynamicArray::~DynamicArray() is called.\n"
          ]
        }
      ]
    },
    {
      "cell_type": "code",
      "metadata": {
        "id": "xNahHr68HCJ3",
        "colab": {
          "base_uri": "https://localhost:8080/"
        },
        "outputId": "59a70bcc-506c-40f2-b2a9-6d688ec107a8"
      },
      "source": [
        "# \n",
        "%%writefile temp.cpp\n",
        "# include <bits/stdc++.h>\n",
        "using namespace std;\n",
        "\n",
        "class BasicArray {\n",
        " public:\n",
        "    ~BasicArray() {\n",
        "        cout << \"BasicArray::~BasicArray() is called.\" << endl;\n",
        "    }\n",
        "\n",
        "    virtual void Set(int index, int value) = 0;\n",
        "    virtual int Get(int index) const = 0;\n",
        "};\n",
        "\n",
        "class DynamicArray : public BasicArray {\n",
        " public:\n",
        "    DynamicArray(int size, int initial_value) {\n",
        "        data_ = new int[size];\n",
        "        for (auto i = 0; i < size; ++i) {\n",
        "            data_[i] = initial_value;\n",
        "        }\n",
        "    }\n",
        "\n",
        "    ~DynamicArray() {\n",
        "        cout << \"DynamicArray::~DynamicArray() is called.\" << endl;\n",
        "        delete[] data_;\n",
        "    }\n",
        "\n",
        "    void Set(int index, int value) { data_[index] = value; }\n",
        "\n",
        "    int Get(int index) const { return data_[index]; }\n",
        "\n",
        " private:\n",
        "    int* data_;\n",
        "};\n",
        "\n",
        "int main() {\n",
        "    unique_ptr<BasicArray> b(new DynamicArray(5, 1));\n",
        "    cout << b->Get(2) << endl;\n",
        "    b->Set(2, 10);\n",
        "    cout << b->Get(2) << endl;\n",
        "}"
      ],
      "execution_count": 227,
      "outputs": [
        {
          "output_type": "stream",
          "name": "stdout",
          "text": [
            "Overwriting temp.cpp\n"
          ]
        }
      ]
    },
    {
      "cell_type": "code",
      "metadata": {
        "id": "Y4rrLNDzHB7m",
        "colab": {
          "base_uri": "https://localhost:8080/"
        },
        "outputId": "506cd028-b3e1-4a7c-b8d0-fad2dfc7f8bf"
      },
      "source": [
        "!g++ temp.cpp; ./a.out"
      ],
      "execution_count": 228,
      "outputs": [
        {
          "output_type": "stream",
          "name": "stdout",
          "text": [
            "1\n",
            "10\n",
            "BasicArray::~BasicArray() is called.\n"
          ]
        }
      ]
    },
    {
      "cell_type": "code",
      "metadata": {
        "id": "srTvyXp_HphZ",
        "colab": {
          "base_uri": "https://localhost:8080/"
        },
        "outputId": "acf9791e-015f-4bdb-f2b9-c05150b50587"
      },
      "source": [
        "# \n",
        "%%writefile temp.cpp\n",
        "# include <bits/stdc++.h>\n",
        "using namespace std;\n",
        "\n",
        "class BasicArray {\n",
        " public:\n",
        "    virtual ~BasicArray() {\n",
        "        cout << \"BasicArray::~BasicArray() is called.\" << endl;\n",
        "    }\n",
        "\n",
        "    virtual void Set(int index, int value) = 0;\n",
        "    virtual int Get(int index) const = 0;\n",
        "};\n",
        "\n",
        "class DynamicArray : public BasicArray {\n",
        " public:\n",
        "    DynamicArray(int size, int initial_value) {\n",
        "        data_ = new int[size];\n",
        "        for (auto i = 0; i < size; ++i) {\n",
        "            data_[i] = initial_value;\n",
        "        }\n",
        "    }\n",
        "\n",
        "    ~DynamicArray() override {\n",
        "        cout << \"DynamicArray::~DynamicArray() is called.\" << endl;\n",
        "        delete[] data_;\n",
        "    }\n",
        "\n",
        "    void Set(int index, int value) { data_[index] = value; }\n",
        "\n",
        "    int Get(int index) const { return data_[index]; }\n",
        "\n",
        " private:\n",
        "    int* data_;\n",
        "};\n",
        "\n",
        "int main() {\n",
        "    unique_ptr<BasicArray> b(new DynamicArray(5, 1));\n",
        "    cout << b->Get(2) << endl;\n",
        "    b->Set(2, 10);\n",
        "    cout << b->Get(2) << endl;\n",
        "}"
      ],
      "execution_count": 229,
      "outputs": [
        {
          "output_type": "stream",
          "name": "stdout",
          "text": [
            "Overwriting temp.cpp\n"
          ]
        }
      ]
    },
    {
      "cell_type": "code",
      "metadata": {
        "id": "YEsQ1oy5HpNV",
        "colab": {
          "base_uri": "https://localhost:8080/"
        },
        "outputId": "75f31d84-09a9-4662-f294-15364b99b7e7"
      },
      "source": [
        "!g++ temp.cpp; ./a.out"
      ],
      "execution_count": 230,
      "outputs": [
        {
          "output_type": "stream",
          "name": "stdout",
          "text": [
            "1\n",
            "10\n",
            "DynamicArray::~DynamicArray() is called.\n",
            "BasicArray::~BasicArray() is called.\n"
          ]
        }
      ]
    },
    {
      "cell_type": "code",
      "metadata": {
        "id": "1JOxThaPJMlt",
        "colab": {
          "base_uri": "https://localhost:8080/"
        },
        "outputId": "82866b43-f8f5-440d-cb69-8aadbee542b7"
      },
      "source": [
        "# 演算子オーバーロード operator overloading\n",
        "# 単項演算子 unary operator\n",
        "%%writefile temp.cpp\n",
        "# include <bits/stdc++.h>\n",
        "\n",
        "using namespace std;\n",
        "\n",
        "class Integer {\n",
        " public:\n",
        "    explicit Integer(int value) : value_(value) {}\n",
        "\n",
        "    int Value() const {\n",
        "        return value_;\n",
        "    }\n",
        "\n",
        " private:\n",
        "    int value_;\n",
        "};\n",
        "\n",
        "// 負号演算子の対象が引数として渡される\n",
        "Integer operator-(const Integer& v) {\n",
        "    Integer tmp(-v.Value());\n",
        "    return tmp;\n",
        "}\n",
        "\n",
        "int main (){\n",
        "    Integer a(2);\n",
        "    Integer b = -a;\n",
        "\n",
        "    cout << a.Value() << endl;  // 2\n",
        "    cout << b.Value() << endl;  // -2\n",
        "}"
      ],
      "execution_count": 231,
      "outputs": [
        {
          "output_type": "stream",
          "name": "stdout",
          "text": [
            "Overwriting temp.cpp\n"
          ]
        }
      ]
    },
    {
      "cell_type": "code",
      "metadata": {
        "id": "5YtJtEETJJ9P",
        "colab": {
          "base_uri": "https://localhost:8080/"
        },
        "outputId": "dc8fc6d5-375b-4419-b9ed-fa00701f7cd5"
      },
      "source": [
        "!g++ temp.cpp; ./a.out"
      ],
      "execution_count": 232,
      "outputs": [
        {
          "output_type": "stream",
          "name": "stdout",
          "text": [
            "2\n",
            "-2\n"
          ]
        }
      ]
    },
    {
      "cell_type": "code",
      "metadata": {
        "id": "Va3o9zqmJJj5",
        "colab": {
          "base_uri": "https://localhost:8080/"
        },
        "outputId": "17b3e615-45a6-40e3-d32f-9b5b559a4bee"
      },
      "source": [
        "#\n",
        "%%writefile temp.cpp\n",
        "# include <bits/stdc++.h>\n",
        "using namespace std;\n",
        "\n",
        "class Integer {\n",
        " public:\n",
        "    explicit Integer(int value) : value_(value) {}\n",
        "\n",
        "    int Value() const {\n",
        "        return value_;\n",
        "    }\n",
        "\n",
        "    // 負号演算子の対象のメンバ関数\n",
        "    Integer operator-() const {\n",
        "        Integer tmp(-Value());  // 演算対象は自オブジェクトを使用する\n",
        "        return tmp;\n",
        "    }\n",
        "\n",
        " private:\n",
        "    int value_;\n",
        "};\n",
        "\n",
        "int main (){\n",
        "    Integer a(2);\n",
        "    Integer b = -a;\n",
        "\n",
        "    cout << a.Value() << endl;  // 2\n",
        "    cout << b.Value() << endl;  // -2\n",
        "}"
      ],
      "execution_count": 233,
      "outputs": [
        {
          "output_type": "stream",
          "name": "stdout",
          "text": [
            "Overwriting temp.cpp\n"
          ]
        }
      ]
    },
    {
      "cell_type": "code",
      "metadata": {
        "id": "qrkaBUn5Jh0l",
        "colab": {
          "base_uri": "https://localhost:8080/"
        },
        "outputId": "b520f6a2-362f-4ac3-af40-eca647fe7e8c"
      },
      "source": [
        "!g++ temp.cpp; ./a.out"
      ],
      "execution_count": 234,
      "outputs": [
        {
          "output_type": "stream",
          "name": "stdout",
          "text": [
            "2\n",
            "-2\n"
          ]
        }
      ]
    },
    {
      "cell_type": "code",
      "metadata": {
        "id": "E21TSGceKVj4",
        "colab": {
          "base_uri": "https://localhost:8080/"
        },
        "outputId": "3cc5d8a7-e901-4167-93a9-5a53832ff28c"
      },
      "source": [
        "# 二項演算子 binary operator\n",
        "%%writefile temp.cpp\n",
        "# include <bits/stdc++.h>\n",
        "using namespace std;\n",
        "\n",
        "class Integer {\n",
        " public:\n",
        "    explicit Integer(int value) : value_(value) {}\n",
        "\n",
        "    int Value() const {\n",
        "        return value_;\n",
        "    }\n",
        "\n",
        " private:\n",
        "    int value_;\n",
        "};\n",
        "\n",
        "// 加算演算子の左辺が第1引数、右辺が第2引数として渡される\n",
        "Integer operator+(const Integer& lhs, const Integer& rhs) {\n",
        "    Integer tmp(lhs.Value() + rhs.Value());\n",
        "    return tmp;\n",
        "}\n",
        "\n",
        "int main (){\n",
        "    Integer a(2);\n",
        "    Integer b(3);\n",
        "    Integer c = a + b;\n",
        "\n",
        "    cout << a.Value() << endl;  // 2\n",
        "    cout << b.Value() << endl;  // 3\n",
        "    cout << c.Value() << endl;  // 5    \n",
        "}\n"
      ],
      "execution_count": 235,
      "outputs": [
        {
          "output_type": "stream",
          "name": "stdout",
          "text": [
            "Overwriting temp.cpp\n"
          ]
        }
      ]
    },
    {
      "cell_type": "code",
      "metadata": {
        "id": "Y_h7LQyzKVR2",
        "colab": {
          "base_uri": "https://localhost:8080/"
        },
        "outputId": "abc2b0da-3b98-4632-af14-5eb322808063"
      },
      "source": [
        "!g++ temp.cpp; ./a.out"
      ],
      "execution_count": 236,
      "outputs": [
        {
          "output_type": "stream",
          "name": "stdout",
          "text": [
            "2\n",
            "3\n",
            "5\n"
          ]
        }
      ]
    },
    {
      "cell_type": "code",
      "metadata": {
        "id": "kgkl4fm0LAOU",
        "colab": {
          "base_uri": "https://localhost:8080/"
        },
        "outputId": "e6eeaf21-aca5-4414-a242-ca730b4c4ae5"
      },
      "source": [
        "# \n",
        "%%writefile temp.cpp\n",
        "# include <bits/stdc++.h>\n",
        "using namespace std;\n",
        "\n",
        "class Integer {\n",
        " public:\n",
        "    explicit Integer(int value) : value_(value) {}\n",
        "\n",
        "    int Value() const {\n",
        "        return value_;\n",
        "    }\n",
        "\n",
        "    // 加算演算子の左辺のメンバ関数に対して、右辺が引数として渡される\n",
        "    Integer operator+(const Integer& rhs) const {\n",
        "        Integer tmp(Value() + rhs.Value());  // 左辺は自オブジェクトを使用する\n",
        "        return tmp;\n",
        "    }\n",
        "\n",
        " private:\n",
        "    int value_;\n",
        "};\n",
        "\n",
        "int main (){\n",
        "    Integer a(2);\n",
        "    Integer b(3);\n",
        "    Integer c = a + b;\n",
        "\n",
        "    cout << a.Value() << endl;  // 2\n",
        "    cout << b.Value() << endl;  // 3\n",
        "    cout << c.Value() << endl;  // 5    \n",
        "}\n"
      ],
      "execution_count": 237,
      "outputs": [
        {
          "output_type": "stream",
          "name": "stdout",
          "text": [
            "Overwriting temp.cpp\n"
          ]
        }
      ]
    },
    {
      "cell_type": "code",
      "metadata": {
        "id": "Sf9Nd-GnK_8A",
        "colab": {
          "base_uri": "https://localhost:8080/"
        },
        "outputId": "bf348230-5533-4110-d270-952d58dac356"
      },
      "source": [
        "!g++ temp.cpp; ./a.out"
      ],
      "execution_count": 238,
      "outputs": [
        {
          "output_type": "stream",
          "name": "stdout",
          "text": [
            "2\n",
            "3\n",
            "5\n"
          ]
        }
      ]
    },
    {
      "cell_type": "code",
      "metadata": {
        "id": "Y_UVe-JkL8SP"
      },
      "source": [
        "# 整数クラスと実数クラスの二項演算子\n",
        "%%script false\n",
        "class Integer {\n",
        " public:\n",
        "    explicit Integer(int value) : value_(value) {}\n",
        "\n",
        "    int Value() const {\n",
        "        return value_;\n",
        "    }\n",
        "\n",
        " private:\n",
        "    int value_;\n",
        "};\n",
        "\n",
        "class RealNumber {\n",
        " public:\n",
        "    explicit RealNumber(double value) : value_(value) {}\n",
        "\n",
        "    double Value() const {\n",
        "        return value_;\n",
        "    }\n",
        "\n",
        " private:\n",
        "    double value_;\n",
        "};\n",
        "\n",
        "RealNumber operator+(const Integer& lhs, const RealNumber& rhs) {\n",
        "    RealNumber tmp(lhs.Value() + rhs.Value());\n",
        "    return tmp;\n",
        "}\n",
        "\n",
        "RealNumber operator+(const RealNumber& lhs, const Integer& rhs) {\n",
        "    RealNumber tmp(lhs.Value() + rhs.Value());\n",
        "    return tmp;\n",
        "}"
      ],
      "execution_count": 239,
      "outputs": []
    },
    {
      "cell_type": "code",
      "metadata": {
        "id": "v6NkGfdANLn7",
        "colab": {
          "base_uri": "https://localhost:8080/"
        },
        "outputId": "4f9b05cb-8359-4965-b528-41ad317e8565"
      },
      "source": [
        "# インクリメント/デクリメント/前置/後置 increment/decrement/prefix/postfix\n",
        "# 前置インクリメント\n",
        "%%writefile temp.cpp\n",
        "# include <bits/stdc++.h>\n",
        "using namespace std;\n",
        "\n",
        "class Integer {\n",
        " public:\n",
        "    explicit Integer(int value) : value_(value) {}\n",
        "\n",
        "    int Value() const {\n",
        "        return value_;\n",
        "    }\n",
        "\n",
        "    Integer& operator++() {\n",
        "        ++value_;\n",
        "        return *this;\n",
        "    }\n",
        "\n",
        " private:\n",
        "    int value_;\n",
        "};\n",
        "\n",
        "int main (){\n",
        "    Integer a(2);\n",
        "    Integer b = ++a;\n",
        "\n",
        "    cout << a.Value() << endl;  // 3\n",
        "    cout << b.Value() << endl;  // 3\n",
        "}"
      ],
      "execution_count": 240,
      "outputs": [
        {
          "output_type": "stream",
          "name": "stdout",
          "text": [
            "Overwriting temp.cpp\n"
          ]
        }
      ]
    },
    {
      "cell_type": "code",
      "metadata": {
        "id": "itU86hHZNMtr",
        "colab": {
          "base_uri": "https://localhost:8080/"
        },
        "outputId": "bdf12484-e91a-4780-e132-5fff189f0530"
      },
      "source": [
        "!g++ temp.cpp; ./a.out"
      ],
      "execution_count": 241,
      "outputs": [
        {
          "output_type": "stream",
          "name": "stdout",
          "text": [
            "3\n",
            "3\n"
          ]
        }
      ]
    },
    {
      "cell_type": "code",
      "metadata": {
        "id": "LE1ckRhTQ2r3",
        "colab": {
          "base_uri": "https://localhost:8080/"
        },
        "outputId": "8b3cf9c3-66be-4450-b5b0-2db446e34a43"
      },
      "source": [
        "# 後置インクリメント\n",
        "%%writefile temp.cpp\n",
        "# include <bits/stdc++.h>\n",
        "using namespace std;\n",
        "\n",
        "class Integer {\n",
        " public:\n",
        "    explicit Integer(int value) : value_(value) {}\n",
        "\n",
        "    int Value() const {\n",
        "        return value_;\n",
        "    }\n",
        "\n",
        "    Integer operator++(int) {  // 引数の int は使用しない\n",
        "        Integer tmp(Value());\n",
        "        ++value_;\n",
        "        return tmp;\n",
        "    }\n",
        "\n",
        " private:\n",
        "    int value_;\n",
        "};\n",
        "\n",
        "int main (){\n",
        "    Integer a(2);\n",
        "    Integer b = a++;\n",
        "\n",
        "    cout << a.Value() << endl;  // 3\n",
        "    cout << b.Value() << endl;  // 2\n",
        "}"
      ],
      "execution_count": 242,
      "outputs": [
        {
          "output_type": "stream",
          "name": "stdout",
          "text": [
            "Overwriting temp.cpp\n"
          ]
        }
      ]
    },
    {
      "cell_type": "code",
      "metadata": {
        "id": "S1-9KxlOQ2aE",
        "colab": {
          "base_uri": "https://localhost:8080/"
        },
        "outputId": "bca74695-f3d6-4c7a-e749-5d9a9bd86d6e"
      },
      "source": [
        "!g++ temp.cpp; ./a.out"
      ],
      "execution_count": 243,
      "outputs": [
        {
          "output_type": "stream",
          "name": "stdout",
          "text": [
            "3\n",
            "2\n"
          ]
        }
      ]
    },
    {
      "cell_type": "code",
      "metadata": {
        "id": "vnEUk5sG5UlU",
        "colab": {
          "base_uri": "https://localhost:8080/"
        },
        "outputId": "6f7518ad-8c0d-451e-a770-4db532475611"
      },
      "source": [
        "# 関数テンプレート\n",
        "# 型やコンパイル時に定まる値をパラメータ化する機能\n",
        "# 型に依存せず処理を共通化するために使用される。\n",
        "%%writefile temp.cpp\n",
        "# include <bits/stdc++.h>\n",
        "using namespace std;\n",
        "\n",
        "template <typename T>\n",
        "T Sum(T a, T b) {\n",
        "    return a + b;\n",
        "}\n",
        "int main(){\n",
        "    cout << Sum<int>(1, 2)  << endl;         // 3\n",
        "    cout << Sum<double>(1.2, 3.4)  << endl;  // 4.6\n",
        "}"
      ],
      "execution_count": 244,
      "outputs": [
        {
          "output_type": "stream",
          "name": "stdout",
          "text": [
            "Overwriting temp.cpp\n"
          ]
        }
      ]
    },
    {
      "cell_type": "code",
      "metadata": {
        "id": "Kxoo0Fyv5VDX",
        "colab": {
          "base_uri": "https://localhost:8080/"
        },
        "outputId": "07feb1e1-bf65-4f25-e899-9b39eaaf1821"
      },
      "source": [
        "!g++ temp.cpp; ./a.out"
      ],
      "execution_count": 245,
      "outputs": [
        {
          "output_type": "stream",
          "name": "stdout",
          "text": [
            "3\n",
            "4.6\n"
          ]
        }
      ]
    },
    {
      "cell_type": "code",
      "metadata": {
        "id": "s47KvId16-KS",
        "colab": {
          "base_uri": "https://localhost:8080/"
        },
        "outputId": "5fcf6ff8-b7f1-4081-ff65-cb5a73bc619e"
      },
      "source": [
        "# クラステンプレート\n",
        "%%writefile temp.cpp\n",
        "# include <bits/stdc++.h>\n",
        "using namespace std;\n",
        "\n",
        "template <typename T>\n",
        "class Rectangle {\n",
        " public:\n",
        "    Rectangle(T height, T width) : height_(height), width_(width) {}\n",
        "\n",
        "    T Area() const {\n",
        "       return height_ * width_;\n",
        "    }\n",
        "\n",
        " private:\n",
        "    const T height_;\n",
        "    const T width_;\n",
        "};\n",
        "int main(){\n",
        "    Rectangle<int> r1(10, 20);\n",
        "    Rectangle<double> r2(1.2, 3.4);\n",
        "    cout << r1.Area() << endl;  // 200\n",
        "    cout << r2.Area() << endl;  // 4.08\n",
        "}"
      ],
      "execution_count": 246,
      "outputs": [
        {
          "output_type": "stream",
          "name": "stdout",
          "text": [
            "Overwriting temp.cpp\n"
          ]
        }
      ]
    },
    {
      "cell_type": "code",
      "metadata": {
        "id": "L7EcjG2n698I",
        "colab": {
          "base_uri": "https://localhost:8080/"
        },
        "outputId": "a160134b-0d57-4bf5-cfd0-fe2bee28d89e"
      },
      "source": [
        "!g++ temp.cpp; ./a.out"
      ],
      "execution_count": 247,
      "outputs": [
        {
          "output_type": "stream",
          "name": "stdout",
          "text": [
            "200\n",
            "4.08\n"
          ]
        }
      ]
    },
    {
      "cell_type": "code",
      "metadata": {
        "id": "eWh8xJ029MCL",
        "colab": {
          "base_uri": "https://localhost:8080/"
        },
        "outputId": "b3beb992-9e5f-472f-fa37-00bdd3ef1c0c"
      },
      "source": [
        "# アサーション\n",
        "%%writefile temp.cpp\n",
        "# include <bits/stdc++.h>\n",
        "using namespace std;\n",
        "\n",
        "int Max(const vector<int>& v) {\n",
        "    assert(!v.empty());\n",
        "\n",
        "    int max = numeric_limits<int>::min();\n",
        "    for (auto e : v) {\n",
        "        if (e > max) {\n",
        "            max = e;\n",
        "        }\n",
        "    }\n",
        "    return max;\n",
        "}\n",
        "\n",
        "int main() {\n",
        "    vector<int> v1 = {1, 2, 3, 4, 5};\n",
        "    vector<int> v2;\n",
        "\n",
        "    cout << Max(v1) << endl;\n",
        "    cout << Max(v2) << endl;\n",
        "}"
      ],
      "execution_count": 248,
      "outputs": [
        {
          "output_type": "stream",
          "name": "stdout",
          "text": [
            "Overwriting temp.cpp\n"
          ]
        }
      ]
    },
    {
      "cell_type": "code",
      "metadata": {
        "id": "kzA4HO649Mtv",
        "colab": {
          "base_uri": "https://localhost:8080/"
        },
        "outputId": "e2906d44-6630-4596-a7bf-50bf8f73237c"
      },
      "source": [
        "!g++ temp.cpp; ./a.out"
      ],
      "execution_count": 249,
      "outputs": [
        {
          "output_type": "stream",
          "name": "stdout",
          "text": [
            "5\n",
            "a.out: temp.cpp:5: int Max(const std::vector<int>&): Assertion `!v.empty()' failed.\n",
            "/bin/bash: line 1:  2154 Aborted                 (core dumped) ./a.out\n"
          ]
        }
      ]
    },
    {
      "cell_type": "code",
      "metadata": {
        "id": "3MXY1ge89rBI",
        "colab": {
          "base_uri": "https://localhost:8080/"
        },
        "outputId": "0f6e4031-03c8-4586-d0ea-c9f5714f53c5"
      },
      "source": [
        "#\n",
        "%%writefile temp.cpp\n",
        "#include <cassert>\n",
        "using namespace std;\n",
        "\n",
        "template <typename T, int N>\n",
        "class Array {\n",
        "    static_assert(N > 0, \"サイズは0より大きくなければなりません\");\n",
        "\n",
        " public:\n",
        "    int size() const { return N; }\n",
        "\n",
        "    T data_[N];  // サイズ 0 の配列はコンパイルエラーにならない\n",
        "};\n",
        "\n",
        "int main() {\n",
        "    Array<int, 0> a;\n",
        "    return 0;\n",
        "}"
      ],
      "execution_count": 250,
      "outputs": [
        {
          "output_type": "stream",
          "name": "stdout",
          "text": [
            "Overwriting temp.cpp\n"
          ]
        }
      ]
    },
    {
      "cell_type": "code",
      "metadata": {
        "id": "GAzhwbn49qyf",
        "colab": {
          "base_uri": "https://localhost:8080/"
        },
        "outputId": "e03624e3-4ce0-443f-f7ab-712aaa690262"
      },
      "source": [
        "!g++ temp.cpp; ./a.out"
      ],
      "execution_count": 251,
      "outputs": [
        {
          "output_type": "stream",
          "name": "stdout",
          "text": [
            "temp.cpp: In instantiation of ‘\u001b[01m\u001b[Kclass Array<int, 0>\u001b[m\u001b[K’:\n",
            "\u001b[01m\u001b[Ktemp.cpp:15:19:\u001b[m\u001b[K   required from here\n",
            "\u001b[01m\u001b[Ktemp.cpp:6:5:\u001b[m\u001b[K \u001b[01;31m\u001b[Kerror: \u001b[m\u001b[Kstatic assertion failed: サイズは0より大きくなければなりません\n",
            "     \u001b[01;31m\u001b[Kstatic_assert\u001b[m\u001b[K(N > 0, \"サイズは0より大きくなければなりません\");\n",
            "     \u001b[01;31m\u001b[K^~~~~~~~~~~~~\u001b[m\u001b[K\n",
            "5\n",
            "a.out: temp.cpp:5: int Max(const std::vector<int>&): Assertion `!v.empty()' failed.\n",
            "/bin/bash: line 1:  2158 Aborted                 (core dumped) ./a.out\n"
          ]
        }
      ]
    },
    {
      "cell_type": "code",
      "source": [
        "# 正規表現 regex\n",
        "%%writefile temp.cpp\n",
        "# include <bits/stdc++.h>\n",
        "using namespace std;\n",
        "\n",
        "int main() {\n",
        "\n",
        "  string s1 = \"1234\";\n",
        "  string s2 = \"abc\";\n",
        "\n",
        "  regex re(R\"(\\d+)\");  // raw string literal\n",
        "\n",
        "  assert( regex_match(s1, re) ); // true or false\n",
        "  assert (!regex_match(s2, re) );\n",
        "}"
      ],
      "metadata": {
        "id": "BYDc3vLLCoJC",
        "outputId": "4270c18e-1eea-45ac-a753-ae222c71dc9c",
        "colab": {
          "base_uri": "https://localhost:8080/"
        }
      },
      "execution_count": 252,
      "outputs": [
        {
          "output_type": "stream",
          "name": "stdout",
          "text": [
            "Overwriting temp.cpp\n"
          ]
        }
      ]
    },
    {
      "cell_type": "code",
      "source": [
        "!g++ temp.cpp; ./a.out"
      ],
      "metadata": {
        "id": "uxcu74g4CqjH"
      },
      "execution_count": 253,
      "outputs": []
    },
    {
      "cell_type": "code",
      "source": [
        "# 正規表現の返り値\n",
        "%%writefile temp.cpp\n",
        "# include <bits/stdc++.h>\n",
        "using namespace std;\n",
        "\n",
        "int main() {\n",
        "    string s = \"123-4567\";\n",
        "    smatch m; // char の場合は cmatch\n",
        "    if ( regex_match(s, m, regex(R\"((\\d+)-(\\d+))\")) ) {\n",
        "        cout << m[0].str() << endl;  // => 123-4567\n",
        "        cout << m[1].str() << endl;  // => 123\n",
        "        cout << m[2].str() << endl;  // => 4567\n",
        "    }\n",
        "}"
      ],
      "metadata": {
        "id": "Xo87JtuWF1wo",
        "colab": {
          "base_uri": "https://localhost:8080/"
        },
        "outputId": "53aee1c5-1d48-44d9-b51e-dccde69bc20a"
      },
      "execution_count": 254,
      "outputs": [
        {
          "output_type": "stream",
          "name": "stdout",
          "text": [
            "Overwriting temp.cpp\n"
          ]
        }
      ]
    },
    {
      "cell_type": "code",
      "source": [
        "!g++ temp.cpp; ./a.out"
      ],
      "metadata": {
        "id": "tzD8YgMgF1mw",
        "colab": {
          "base_uri": "https://localhost:8080/"
        },
        "outputId": "5912dcb9-bedc-42b9-e49b-e7b9150acc6e"
      },
      "execution_count": 255,
      "outputs": [
        {
          "output_type": "stream",
          "name": "stdout",
          "text": [
            "123-4567\n",
            "123\n",
            "4567\n"
          ]
        }
      ]
    }
  ]
}