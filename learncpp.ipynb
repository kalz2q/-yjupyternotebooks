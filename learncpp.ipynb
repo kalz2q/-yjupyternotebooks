{
  "nbformat": 4,
  "nbformat_minor": 0,
  "metadata": {
    "colab": {
      "name": "learncpp.ipynb",
      "provenance": [],
      "collapsed_sections": [],
      "toc_visible": true,
      "authorship_tag": "ABX9TyP/OPggNbbwjBun1rC4Epx4",
      "include_colab_link": true
    },
    "kernelspec": {
      "name": "python3",
      "display_name": "Python 3"
    }
  },
  "cells": [
    {
      "cell_type": "markdown",
      "metadata": {
        "id": "view-in-github",
        "colab_type": "text"
      },
      "source": [
        "<a href=\"https://colab.research.google.com/github/kalz2q/mycolabnotebooks/blob/master/learncpp.ipynb\" target=\"_parent\"><img src=\"https://colab.research.google.com/assets/colab-badge.svg\" alt=\"Open In Colab\"/></a>"
      ]
    },
    {
      "cell_type": "markdown",
      "metadata": {
        "id": "GS7G-XMFAlZR"
      },
      "source": [
        "# メモ\n",
        "\n",
        "1. colab で開かれることを想定している\n",
        "1. colab のコードセルで、次のコードセルを実行すると、g++ が使える状態になっていることが確認できる\n",
        "1. これを利用して colab で c++ を勉強しよう、というアイデア"
      ]
    },
    {
      "cell_type": "code",
      "metadata": {
        "id": "ZQ_oYkkmBPsl"
      },
      "source": [
        "!g++ --version"
      ],
      "execution_count": null,
      "outputs": []
    },
    {
      "cell_type": "markdown",
      "metadata": {
        "id": "5sevcYNyHthT"
      },
      "source": [
        "参考テキスト\n",
        "\n",
        "1. https://www.w3schools.com/cpp/  \n",
        "w3scoolのC++ Tutorial (実行環境あり)\n",
        "\n",
        "1. https://rinatz.github.io/cpp-book/ch01-02-hello-world/  \n",
        "ゼロから学ぶC++ (book形式)\n"
      ]
    },
    {
      "cell_type": "markdown",
      "metadata": {
        "id": "DZsWwWMBYra0"
      },
      "source": [
        "セルマジックの `%%writefile` でソースのテキストを書いて、!gcc+ で実行する。 行頭のエクスクラメーションマーク `!` は Unix (Linux, Ubuntu) のシステムコマンドを利用するよ!!!! という意味。\n",
        "\n",
        "Shift+Enter はセルを実行してフォーカスを次のセルに移動するので、便利に使える。"
      ]
    },
    {
      "cell_type": "code",
      "metadata": {
        "id": "-jTNMcEE-y3-"
      },
      "source": [
        "%%writefile temp.cpp\n",
        "#include <iostream>\n",
        "using namespace std;\n",
        "\n",
        "int main() {\n",
        "  cout << \"Hello World!\";\n",
        "  return 0;\n",
        "}"
      ],
      "execution_count": null,
      "outputs": []
    },
    {
      "cell_type": "markdown",
      "metadata": {
        "id": "aX9GYppIchv8"
      },
      "source": [
        "これを g++ でコンパイルする。  実行可能ファイル名を `-o` で指定しないと、デフォルトで `a.out` になる。 これを実行する。"
      ]
    },
    {
      "cell_type": "code",
      "metadata": {
        "id": "8Lf0COUH-9ol"
      },
      "source": [
        "!g++ temp.cpp; ./a.out"
      ],
      "execution_count": null,
      "outputs": []
    },
    {
      "cell_type": "code",
      "metadata": {
        "id": "V7FCGvXToerV"
      },
      "source": [
        "# 実験 改行コードとかが使えるかの実験\n",
        "%%writefile temp.cpp\n",
        "#include <iostream>\n",
        "int main() {\n",
        "  std::cout << \"hello world\\n \\t初めてのC++\" << \"\\n\";\n",
        "  std::cout << \"次の行\";\n",
        "  return 0;\n",
        "}"
      ],
      "execution_count": null,
      "outputs": []
    },
    {
      "cell_type": "code",
      "metadata": {
        "id": "Gdy2RltWBMlU"
      },
      "source": [
        "!g++ temp.cpp; ./a.out"
      ],
      "execution_count": null,
      "outputs": []
    },
    {
      "cell_type": "markdown",
      "metadata": {
        "id": "g8VptCMXpWoT"
      },
      "source": [
        "for 構文\n",
        "\n",
        "次のは `i` を 1 ずつ増やして行って 9 回 メッセージを書くプログラム。"
      ]
    },
    {
      "cell_type": "code",
      "metadata": {
        "id": "vHNrx0tRpuBf",
        "colab": {
          "base_uri": "https://localhost:8080/"
        },
        "outputId": "5dc7002f-9e80-429f-ffa2-8783e98ee6c8"
      },
      "source": [
        "%%writefile temp.cpp\n",
        "#include <iostream>\n",
        "\n",
        "int main() {\n",
        "  for (int i = 0; i < 10; i++) std::cout << \"Hello World\" << \"\\n\";\n",
        "}\n"
      ],
      "execution_count": null,
      "outputs": [
        {
          "output_type": "stream",
          "text": [
            "Overwriting temp.cpp\n"
          ],
          "name": "stdout"
        }
      ]
    },
    {
      "cell_type": "code",
      "metadata": {
        "colab": {
          "base_uri": "https://localhost:8080/"
        },
        "id": "hxXfoxj8Bkb2",
        "outputId": "b30e5ed5-2f2e-4d35-f03a-e460fa4ef633"
      },
      "source": [
        "!g++ temp.cpp; ./a.out"
      ],
      "execution_count": null,
      "outputs": [
        {
          "output_type": "stream",
          "text": [
            "Hello World\n",
            "Hello World\n",
            "Hello World\n",
            "Hello World\n",
            "Hello World\n",
            "Hello World\n",
            "Hello World\n",
            "Hello World\n",
            "Hello World\n",
            "Hello World\n"
          ],
          "name": "stdout"
        }
      ]
    },
    {
      "cell_type": "markdown",
      "metadata": {
        "id": "oJgZ4xyUmxoa"
      },
      "source": [
        "# コメント\n",
        "\n",
        "`//`  と `/*` と `*/` \n",
        "\n"
      ]
    },
    {
      "cell_type": "markdown",
      "metadata": {
        "id": "VtOagpx9EaSA"
      },
      "source": [
        "`#include <iostream>` はヘッダーライブラリーと呼ばれるもの。\n",
        "\n",
        "`using namespace std` は標準ライブラリーのオブジェクトや変数の名前を使える、と言うこと。\n",
        "\n",
        "`cout` はシーアウトと読み、`<<` とセットで使われる。\n",
        "\n",
        "改行やホワイトスペースについては `int main () { cout << \"Hello World! \"; return 0; }` と書いても同じ。\n",
        "\n"
      ]
    },
    {
      "cell_type": "code",
      "metadata": {
        "id": "ebJGPq8FF3gk",
        "colab": {
          "base_uri": "https://localhost:8080/"
        },
        "outputId": "83455c62-b500-4b4d-b6de-33a0f720df73"
      },
      "source": [
        "%%writefile temp.cpp\n",
        "#include <iostream>\n",
        "\n",
        "int main() {\n",
        "    std::cout << \"Hello World! \\n\\n\";\n",
        "    std::cout << \"I am learning C++\";\n",
        "    return 0;\n",
        "}"
      ],
      "execution_count": null,
      "outputs": [
        {
          "output_type": "stream",
          "text": [
            "Overwriting temp.cpp\n"
          ],
          "name": "stdout"
        }
      ]
    },
    {
      "cell_type": "code",
      "metadata": {
        "id": "YiQpXtXVGGiI",
        "colab": {
          "base_uri": "https://localhost:8080/"
        },
        "outputId": "b88221c7-61e7-4053-8bfe-c05e73bb179a"
      },
      "source": [
        "!g++ temp.cpp; ./a.out"
      ],
      "execution_count": null,
      "outputs": [
        {
          "output_type": "stream",
          "text": [
            "Hello World! \n",
            "\n",
            "I am learning C++"
          ],
          "name": "stdout"
        }
      ]
    },
    {
      "cell_type": "markdown",
      "metadata": {
        "id": "9xEHO9jxdjDe"
      },
      "source": [
        "# 変数のタイプ\n",
        "\n",
        "* int\n",
        "* double\n",
        "* char\n",
        "* \"string\"\n",
        "* bool (true, false) \n",
        "\n",
        "など。 python なんかとそんなに違わない。\n",
        "\n",
        "\n"
      ]
    },
    {
      "cell_type": "code",
      "metadata": {
        "colab": {
          "base_uri": "https://localhost:8080/"
        },
        "id": "Mc2my2c0es1D",
        "outputId": "1eef89d4-0cb1-4721-8a89-7e246d08a333"
      },
      "source": [
        "# cout に数値(int)を文字列に変換せずに与えて大丈夫か => 大丈夫\n",
        "%%writefile temp.cpp\n",
        "#include <iostream>\n",
        "using namespace std;\n",
        "\n",
        "int main() {\n",
        "  int myNum = 15;\n",
        "  cout << myNum;\n",
        "  return 0;\n",
        "}"
      ],
      "execution_count": null,
      "outputs": [
        {
          "output_type": "stream",
          "text": [
            "Overwriting temp.cpp\n"
          ],
          "name": "stdout"
        }
      ]
    },
    {
      "cell_type": "code",
      "metadata": {
        "id": "JRO5IbRYdIr8",
        "colab": {
          "base_uri": "https://localhost:8080/"
        },
        "outputId": "b9727e37-3d83-4159-d093-2b97949406de"
      },
      "source": [
        "!g++ temp.cpp; ./a.out"
      ],
      "execution_count": null,
      "outputs": [
        {
          "output_type": "stream",
          "text": [
            "15"
          ],
          "name": "stdout"
        }
      ]
    },
    {
      "cell_type": "code",
      "metadata": {
        "id": "3aRUXLCpIdJu",
        "colab": {
          "base_uri": "https://localhost:8080/"
        },
        "outputId": "6bd5355f-e2cc-45ad-adf1-ad7b184b457c"
      },
      "source": [
        "# 変数は上書きできるか => できる。 immutable ではない\n",
        "%%writefile temp.cpp\n",
        "#include <iostream>\n",
        "using namespace std;\n",
        "\n",
        "int main() {\n",
        "  int myNum = 15;   // Now myNum is 15\n",
        "  myNum = 10;       // Now myNum is 10\n",
        "  cout << myNum;\n",
        "  return 0;\n",
        "}"
      ],
      "execution_count": null,
      "outputs": [
        {
          "output_type": "stream",
          "text": [
            "Overwriting temp.cpp\n"
          ],
          "name": "stdout"
        }
      ]
    },
    {
      "cell_type": "code",
      "metadata": {
        "id": "yCSbQFadIkgW",
        "colab": {
          "base_uri": "https://localhost:8080/"
        },
        "outputId": "8dfbfdd6-949b-40c7-c182-559f2e662eae"
      },
      "source": [
        "!g++ temp.cpp; ./a.out"
      ],
      "execution_count": null,
      "outputs": [
        {
          "output_type": "stream",
          "text": [
            "10"
          ],
          "name": "stdout"
        }
      ]
    },
    {
      "cell_type": "code",
      "metadata": {
        "id": "AyPpeOqOJAYm",
        "colab": {
          "base_uri": "https://localhost:8080/"
        },
        "outputId": "5a8d1b57-4b75-4594-eb72-9c399c3db96d"
      },
      "source": [
        "%%writefile temp.cpp\n",
        "#include <iostream>\n",
        "using namespace std;\n",
        "\n",
        "int main()\n",
        "{\n",
        "    int myNum = 5;            // Integer (whole number without decimals)\n",
        "    double myFloatNum = 5.99; // Floating point number (with decimals)\n",
        "    char myLetter = 'D';      // Character\n",
        "    string myText = \"Hello\";  // String (text)\n",
        "    bool myBoolean = true;    // Boolean (true or false)\n",
        "\n",
        "    cout << myNum << \"\\n\";\n",
        "    cout << myFloatNum << \"\\n\";\n",
        "    cout << myLetter << \"\\n\";\n",
        "    cout << myText << \"\\n\";\n",
        "    cout << myBoolean << \"\\n\";\n",
        "}"
      ],
      "execution_count": null,
      "outputs": [
        {
          "output_type": "stream",
          "text": [
            "Overwriting temp.cpp\n"
          ],
          "name": "stdout"
        }
      ]
    },
    {
      "cell_type": "code",
      "metadata": {
        "id": "1gfaLXePKNyp",
        "colab": {
          "base_uri": "https://localhost:8080/"
        },
        "outputId": "e58bec36-802a-46ae-b884-7fb316c81d8a"
      },
      "source": [
        "!g++ temp.cpp; ./a.out"
      ],
      "execution_count": null,
      "outputs": [
        {
          "output_type": "stream",
          "text": [
            "5\n",
            "5.99\n",
            "D\n",
            "Hello\n",
            "1\n"
          ],
          "name": "stdout"
        }
      ]
    },
    {
      "cell_type": "code",
      "metadata": {
        "id": "I2hrg56RJB8V",
        "colab": {
          "base_uri": "https://localhost:8080/"
        },
        "outputId": "a2c3163d-5412-4207-bd26-44a28c4ac702"
      },
      "source": [
        "%%writefile temp.cpp\n",
        "#include <iostream>\n",
        "using namespace std;\n",
        "\n",
        "int main() {\n",
        "  int myAge = 35;\n",
        "  cout << \"I am \" << myAge << \" years old.\";\n",
        "  return 0;\n",
        "}"
      ],
      "execution_count": null,
      "outputs": [
        {
          "output_type": "stream",
          "text": [
            "Overwriting temp.cpp\n"
          ],
          "name": "stdout"
        }
      ]
    },
    {
      "cell_type": "code",
      "metadata": {
        "id": "2bnagYq-FYvS",
        "colab": {
          "base_uri": "https://localhost:8080/"
        },
        "outputId": "3410b402-94b5-442c-e32b-641385857cba"
      },
      "source": [
        "!g++ temp.cpp; ./a.out"
      ],
      "execution_count": null,
      "outputs": [
        {
          "output_type": "stream",
          "text": [
            "I am 35 years old."
          ],
          "name": "stdout"
        }
      ]
    },
    {
      "cell_type": "code",
      "metadata": {
        "id": "lLkTZSs1Fhyx",
        "colab": {
          "base_uri": "https://localhost:8080/"
        },
        "outputId": "4fc23b8a-9384-4985-a88e-11c11acac03f"
      },
      "source": [
        "%%writefile temp.cpp\n",
        "#include <iostream>\n",
        "using namespace std;\n",
        "\n",
        "int main() {\n",
        "  int x = 5;\n",
        "  int y = 6;\n",
        "  int sum = x + y;\n",
        "  cout << sum;\n",
        "  return 0;\n",
        "}"
      ],
      "execution_count": null,
      "outputs": [
        {
          "output_type": "stream",
          "text": [
            "Overwriting temp.cpp\n"
          ],
          "name": "stdout"
        }
      ]
    },
    {
      "cell_type": "code",
      "metadata": {
        "id": "2l06UtFVJOCV",
        "colab": {
          "base_uri": "https://localhost:8080/"
        },
        "outputId": "ed7f157e-8005-4504-cbac-6089a1e41209"
      },
      "source": [
        "!g++ temp.cpp; ./a.out"
      ],
      "execution_count": null,
      "outputs": [
        {
          "output_type": "stream",
          "text": [
            "11"
          ],
          "name": "stdout"
        }
      ]
    },
    {
      "cell_type": "code",
      "metadata": {
        "id": "Q2pqnG9vJYlV",
        "colab": {
          "base_uri": "https://localhost:8080/"
        },
        "outputId": "351edf4b-ad8c-43c6-8b24-12dfd7c7f46f"
      },
      "source": [
        "%%writefile temp.cpp\n",
        "#include <iostream>\n",
        "using namespace std;\n",
        "\n",
        "int main() {\n",
        "  int x = 5, y = 6, z = 50;  \n",
        "  cout << x + y + z;\n",
        "  return 0;\n",
        "}"
      ],
      "execution_count": null,
      "outputs": [
        {
          "output_type": "stream",
          "text": [
            "Overwriting temp.cpp\n"
          ],
          "name": "stdout"
        }
      ]
    },
    {
      "cell_type": "code",
      "metadata": {
        "id": "VJDodQp8Jgmd",
        "colab": {
          "base_uri": "https://localhost:8080/"
        },
        "outputId": "0b0dc68f-447a-4cf0-ac9a-c170050b7d1d"
      },
      "source": [
        "!g++ temp.cpp; ./a.out"
      ],
      "execution_count": null,
      "outputs": [
        {
          "output_type": "stream",
          "text": [
            "61"
          ],
          "name": "stdout"
        }
      ]
    },
    {
      "cell_type": "code",
      "metadata": {
        "id": "xV3cZma5LXxQ",
        "colab": {
          "base_uri": "https://localhost:8080/"
        },
        "outputId": "918e96c6-ec6a-4bbd-fbf0-474f38791b8c"
      },
      "source": [
        "%%writefile temp.cpp\n",
        "#include <iostream>\n",
        "using namespace std;\n",
        "\n",
        "int main() {\n",
        "  // Good name\n",
        "  int minutesPerHour = 60;\n",
        "  \n",
        "  // OK, but not so easy to understand what m actually is\n",
        "  int m = 60;\n",
        "  \n",
        "  cout << minutesPerHour << \"\\n\";\n",
        "  cout << m;\n",
        "  return 0;\n",
        "}"
      ],
      "execution_count": null,
      "outputs": [
        {
          "output_type": "stream",
          "text": [
            "Overwriting temp.cpp\n"
          ],
          "name": "stdout"
        }
      ]
    },
    {
      "cell_type": "code",
      "metadata": {
        "id": "fNUgnO2GLcia",
        "colab": {
          "base_uri": "https://localhost:8080/"
        },
        "outputId": "567778b0-aa11-4cd1-9c9e-00b90a37521a"
      },
      "source": [
        "!g++ temp.cpp; ./a.out"
      ],
      "execution_count": null,
      "outputs": [
        {
          "output_type": "stream",
          "text": [
            "60\n",
            "60"
          ],
          "name": "stdout"
        }
      ]
    },
    {
      "cell_type": "code",
      "metadata": {
        "id": "IBCUbzB-L36Z",
        "colab": {
          "base_uri": "https://localhost:8080/"
        },
        "outputId": "654bfaae-a29e-435d-b4bd-cfc24fb6c3f2"
      },
      "source": [
        "%%writefile temp.cpp\n",
        "#include <iostream>\n",
        "using namespace std;\n",
        "\n",
        "int main() {\n",
        "  const int myNum = 15;\n",
        "  myNum = 10; // error: assignment of read-only variable 'myNum'\n",
        "  cout << myNum;\n",
        "  return 0;\n",
        "}\n"
      ],
      "execution_count": null,
      "outputs": [
        {
          "output_type": "stream",
          "text": [
            "Overwriting temp.cpp\n"
          ],
          "name": "stdout"
        }
      ]
    },
    {
      "cell_type": "code",
      "metadata": {
        "id": "8j4PBhIF-H1S",
        "colab": {
          "base_uri": "https://localhost:8080/"
        },
        "outputId": "b523f940-17c5-4c82-d1c4-10eaf5390b76"
      },
      "source": [
        "!g++ temp.cpp; ./a.out"
      ],
      "execution_count": null,
      "outputs": [
        {
          "output_type": "stream",
          "text": [
            "\u001b[01m\u001b[Ktemp.cpp:\u001b[m\u001b[K In function ‘\u001b[01m\u001b[Kint main()\u001b[m\u001b[K’:\n",
            "\u001b[01m\u001b[Ktemp.cpp:6:11:\u001b[m\u001b[K \u001b[01;31m\u001b[Kerror: \u001b[m\u001b[Kassignment of read-only variable ‘\u001b[01m\u001b[KmyNum\u001b[m\u001b[K’\n",
            "   myNum = \u001b[01;31m\u001b[K10\u001b[m\u001b[K; // error: assignment of read-only variable 'myNum'\n",
            "           \u001b[01;31m\u001b[K^~\u001b[m\u001b[K\n",
            "60\n",
            "60"
          ],
          "name": "stdout"
        }
      ]
    },
    {
      "cell_type": "code",
      "metadata": {
        "id": "RLbtIfo3-ezx",
        "colab": {
          "base_uri": "https://localhost:8080/"
        },
        "outputId": "4e8f5a2a-b3e1-4454-a437-964f1e089493"
      },
      "source": [
        "%%writefile temp.cpp\n",
        "#include <iostream>\n",
        "using namespace std;\n",
        "\n",
        "int main() {\n",
        "  const int minutesPerHour = 60;\n",
        "  const float PI = 3.14;\n",
        "  cout << minutesPerHour << \"\\n\";\n",
        "  cout << PI;\n",
        "  return 0;\n",
        "}\n"
      ],
      "execution_count": null,
      "outputs": [
        {
          "output_type": "stream",
          "text": [
            "Overwriting temp.cpp\n"
          ],
          "name": "stdout"
        }
      ]
    },
    {
      "cell_type": "code",
      "metadata": {
        "id": "G5ydxV_O-jef",
        "colab": {
          "base_uri": "https://localhost:8080/"
        },
        "outputId": "0c514504-3b12-4ac4-daec-f675e4be06dc"
      },
      "source": [
        "!g++ temp.cpp; ./a.out"
      ],
      "execution_count": null,
      "outputs": [
        {
          "output_type": "stream",
          "text": [
            "60\n",
            "3.14"
          ],
          "name": "stdout"
        }
      ]
    },
    {
      "cell_type": "code",
      "metadata": {
        "colab": {
          "base_uri": "https://localhost:8080/"
        },
        "id": "fQHrZCjS770U",
        "outputId": "0722b939-0da2-4bf4-e021-13d693c4b21c"
      },
      "source": [
        "# int num; とだけして出力すると何が入っているか実験\n",
        "%%writefile temp.cpp\n",
        "#include <iostream>\n",
        "#include <string>\n",
        "using namespace std;\n",
        "\n",
        "int main() {\n",
        "  int num1;\n",
        "  string str1;\n",
        "  int num2;\n",
        "  cout << num1 << \"\\n\";\n",
        "  cout << str1 << \"\\n\";\n",
        "  cout << num2 << \"\\n\";\n",
        "  return 0;\n",
        "}\n"
      ],
      "execution_count": null,
      "outputs": [
        {
          "output_type": "stream",
          "text": [
            "Overwriting temp.cpp\n"
          ],
          "name": "stdout"
        }
      ]
    },
    {
      "cell_type": "code",
      "metadata": {
        "colab": {
          "base_uri": "https://localhost:8080/"
        },
        "id": "cuYmm3yw7-kY",
        "outputId": "6db81ba3-094b-4522-e198-32c2a1644fec"
      },
      "source": [
        "!g++ temp.cpp; ./a.out"
      ],
      "execution_count": null,
      "outputs": [
        {
          "output_type": "stream",
          "text": [
            "-1749652346\n",
            "\n",
            "22050\n"
          ],
          "name": "stdout"
        }
      ]
    },
    {
      "cell_type": "markdown",
      "metadata": {
        "id": "3EaWIYtI-2JD"
      },
      "source": [
        "# input\n",
        "インプットについては、`cin` で標準入力を受け付ける。\n",
        "\n",
        "次のプログラムは本来はインタラクティブにユーザーが数字を入力することを想定しているが、colab のコードセルでは、インプット待ちになってしまい具合が悪い。\n",
        "\n",
        "実行例のように、echo とパイプで入力する数字を明示的にプログラムに渡す方法とする。"
      ]
    },
    {
      "cell_type": "code",
      "metadata": {
        "id": "_N9MptadGY1W",
        "colab": {
          "base_uri": "https://localhost:8080/"
        },
        "outputId": "1a320868-6571-4f8d-dd64-53fd66486ad3"
      },
      "source": [
        "%%writefile temp.cpp\n",
        "#include <iostream>\n",
        "using namespace std;\n",
        "\n",
        "int main() {\n",
        "  int x, y;\n",
        "  int sum;\n",
        "  cout << \"Type a number: \";\n",
        "  cin >> x;\n",
        "  cout << \"Type another number: \";\n",
        "  cin >> y;\n",
        "  sum = x + y;\n",
        "  cout << \"Sum is: \" << sum;\n",
        "  return 0;\n",
        "}"
      ],
      "execution_count": null,
      "outputs": [
        {
          "output_type": "stream",
          "text": [
            "Overwriting temp.cpp\n"
          ],
          "name": "stdout"
        }
      ]
    },
    {
      "cell_type": "code",
      "metadata": {
        "id": "dKO1hxPIGZYP",
        "colab": {
          "base_uri": "https://localhost:8080/"
        },
        "outputId": "4de1d11a-17a3-46c6-8574-141d9f46de06"
      },
      "source": [
        "!g++ temp.cpp;  echo 3 7 |./a.out"
      ],
      "execution_count": null,
      "outputs": [
        {
          "output_type": "stream",
          "text": [
            "Type a number: Type another number: Sum is: 10"
          ],
          "name": "stdout"
        }
      ]
    },
    {
      "cell_type": "markdown",
      "metadata": {
        "id": "UCTYi1Dk_sS4"
      },
      "source": [
        "データタイプ\n"
      ]
    },
    {
      "cell_type": "code",
      "metadata": {
        "id": "rfOWTWDY_3ND",
        "colab": {
          "base_uri": "https://localhost:8080/"
        },
        "outputId": "1babee24-0328-4d6c-bd1e-969e7b5d3acb"
      },
      "source": [
        "%%writefile temp.cpp\n",
        "\n",
        "#include <iostream>\n",
        "#include <string>\n",
        "using namespace std;\n",
        " \n",
        "int main () {\n",
        "  // Creating variables\n",
        "  int myNum = 5;               // Integer (whole number)\n",
        "  float myFloatNum = 5.99;     // Floating point number\n",
        "  double myDoubleNum = 9.98;   // Floating point number\n",
        "  char myLetter = 'D';         // Character\n",
        "  bool myBoolean = true;       // Boolean\n",
        "  string myString = \"Hello\";   // String\n",
        "   \n",
        "  // Print variable values\n",
        "  cout << \"int: \" << myNum << \"\\n\";\n",
        "  cout << \"float: \" << myFloatNum << \"\\n\";\n",
        "  cout << \"double: \" << myDoubleNum << \"\\n\";\n",
        "  cout << \"char: \" << myLetter << \"\\n\";\n",
        "  cout << \"bool: \" << myBoolean << \"\\n\";\n",
        "  cout << \"string: \" << myString << \"\\n\";\n",
        " \n",
        "  return 0;\n",
        "}\n"
      ],
      "execution_count": null,
      "outputs": [
        {
          "output_type": "stream",
          "text": [
            "Overwriting temp.cpp\n"
          ],
          "name": "stdout"
        }
      ]
    },
    {
      "cell_type": "code",
      "metadata": {
        "id": "HqrUg7bf_8qW",
        "colab": {
          "base_uri": "https://localhost:8080/"
        },
        "outputId": "9028dc8a-a606-4fef-e33e-8ca7cd6c80f6"
      },
      "source": [
        "!g++ temp.cpp; ./a.out"
      ],
      "execution_count": null,
      "outputs": [
        {
          "output_type": "stream",
          "text": [
            "int: 5\n",
            "float: 5.99\n",
            "double: 9.98\n",
            "char: D\n",
            "bool: 1\n",
            "string: Hello\n"
          ],
          "name": "stdout"
        }
      ]
    },
    {
      "cell_type": "code",
      "metadata": {
        "id": "OWmRqKMBAQ4u",
        "colab": {
          "base_uri": "https://localhost:8080/"
        },
        "outputId": "0be5e005-4bbd-4669-984a-c038e54bfe32"
      },
      "source": [
        "%%writefile temp.cpp\n",
        "#include <iostream>\n",
        "using namespace std;\n",
        " \n",
        "int main () {\n",
        "  float f1 = 35e3;\n",
        "  double d1 = 12E4;\n",
        "  cout << f1 << \"\\n\";\n",
        "  cout << d1;\n",
        "  return 0;\n",
        "}"
      ],
      "execution_count": null,
      "outputs": [
        {
          "output_type": "stream",
          "text": [
            "Overwriting temp.cpp\n"
          ],
          "name": "stdout"
        }
      ]
    },
    {
      "cell_type": "code",
      "metadata": {
        "id": "_14b2DtCAVpP",
        "colab": {
          "base_uri": "https://localhost:8080/"
        },
        "outputId": "aca1cd98-401d-4746-8618-e0251c0840c2"
      },
      "source": [
        "!g++ temp.cpp; ./a.out"
      ],
      "execution_count": null,
      "outputs": [
        {
          "output_type": "stream",
          "text": [
            "35000\n",
            "120000"
          ],
          "name": "stdout"
        }
      ]
    },
    {
      "cell_type": "markdown",
      "metadata": {
        "id": "qb7ZiVjhApuT"
      },
      "source": [
        "true は 1 で false は 0 。"
      ]
    },
    {
      "cell_type": "code",
      "metadata": {
        "id": "W0AAUO0bAtxJ",
        "colab": {
          "base_uri": "https://localhost:8080/"
        },
        "outputId": "52231af9-ea09-4a38-f4c6-665fe8fb395e"
      },
      "source": [
        "%%writefile temp.cpp\n",
        "\n",
        "#include <iostream>\n",
        "using namespace std;\n",
        "\n",
        "int main() {\n",
        "  bool isCodingFun = true;\n",
        "  bool isFishTasty = false;\n",
        "  cout << isCodingFun << \"\\n\";\n",
        "  cout << isFishTasty;\n",
        "  return 0;\n",
        "}"
      ],
      "execution_count": null,
      "outputs": [
        {
          "output_type": "stream",
          "text": [
            "Overwriting temp.cpp\n"
          ],
          "name": "stdout"
        }
      ]
    },
    {
      "cell_type": "code",
      "metadata": {
        "id": "-gl8iyL5Aym2",
        "colab": {
          "base_uri": "https://localhost:8080/"
        },
        "outputId": "eadad7c0-3d5f-4ccb-e4fc-9ea7409db5ae"
      },
      "source": [
        "!g++ temp.cpp; ./a.out"
      ],
      "execution_count": null,
      "outputs": [
        {
          "output_type": "stream",
          "text": [
            "1\n",
            "0"
          ],
          "name": "stdout"
        }
      ]
    },
    {
      "cell_type": "code",
      "metadata": {
        "id": "3IU5jEfcA-X-",
        "colab": {
          "base_uri": "https://localhost:8080/"
        },
        "outputId": "c64c419e-014f-414f-ff4e-5a304b5bba04"
      },
      "source": [
        "%%writefile temp.cpp\n",
        "#include <iostream>\n",
        "using namespace std;\n",
        "int main () {\n",
        "  char myGrade = 'B';\n",
        "  cout << myGrade;\n",
        "  return 0;\n",
        "}"
      ],
      "execution_count": null,
      "outputs": [
        {
          "output_type": "stream",
          "text": [
            "Overwriting temp.cpp\n"
          ],
          "name": "stdout"
        }
      ]
    },
    {
      "cell_type": "code",
      "metadata": {
        "id": "NTCm8SvcBCd-",
        "colab": {
          "base_uri": "https://localhost:8080/"
        },
        "outputId": "d6245b71-c011-4a6b-94d9-938d89f7ba8d"
      },
      "source": [
        "!g++ temp.cpp; ./a.out"
      ],
      "execution_count": null,
      "outputs": [
        {
          "output_type": "stream",
          "text": [
            "B"
          ],
          "name": "stdout"
        }
      ]
    },
    {
      "cell_type": "code",
      "metadata": {
        "colab": {
          "base_uri": "https://localhost:8080/"
        },
        "id": "0CmJwJybRjc7",
        "outputId": "022a3a26-8c21-452a-e8a4-48589fe5a42d"
      },
      "source": [
        "%%writefile temp.cpp\n",
        "#include <iostream>\n",
        "using namespace std;\n",
        " \n",
        "int main () {\n",
        "  char a = 65, b = 66, c = 67;\n",
        "  cout << a;\n",
        "  cout << b;\n",
        "  cout << c;\n",
        "  return 0;\n",
        "}"
      ],
      "execution_count": null,
      "outputs": [
        {
          "output_type": "stream",
          "text": [
            "Overwriting temp.cpp\n"
          ],
          "name": "stdout"
        }
      ]
    },
    {
      "cell_type": "code",
      "metadata": {
        "colab": {
          "base_uri": "https://localhost:8080/"
        },
        "id": "ENlZzWMRRqDt",
        "outputId": "4f41e21b-ff97-490d-ec91-7c8614584036"
      },
      "source": [
        "!g++ temp.cpp; ./a.out"
      ],
      "execution_count": null,
      "outputs": [
        {
          "output_type": "stream",
          "text": [
            "ABC"
          ],
          "name": "stdout"
        }
      ]
    },
    {
      "cell_type": "code",
      "metadata": {
        "colab": {
          "base_uri": "https://localhost:8080/"
        },
        "id": "DpEyG2779GDK",
        "outputId": "bb899775-990c-46fb-b47e-6bc9b3feac05"
      },
      "source": [
        "%%writefile temp.cpp\n",
        "#include <iostream>\n",
        "#include <string>\n",
        "using namespace std;\n",
        "\n",
        "int main() {\n",
        "  string greeting = \"Hello\";\n",
        "  cout << greeting;\n",
        "  return 0;\n",
        "}\n"
      ],
      "execution_count": null,
      "outputs": [
        {
          "output_type": "stream",
          "text": [
            "Overwriting temp.cpp\n"
          ],
          "name": "stdout"
        }
      ]
    },
    {
      "cell_type": "code",
      "metadata": {
        "colab": {
          "base_uri": "https://localhost:8080/"
        },
        "id": "W25cg3YA9Mbi",
        "outputId": "0ece0c8f-14ef-4fda-bd65-5760fe25a6af"
      },
      "source": [
        "!g++ temp.cpp; ./a.out"
      ],
      "execution_count": null,
      "outputs": [
        {
          "output_type": "stream",
          "text": [
            "Hello"
          ],
          "name": "stdout"
        }
      ]
    },
    {
      "cell_type": "markdown",
      "metadata": {
        "id": "S3JhH5eL9X7c"
      },
      "source": [
        "演算子\n"
      ]
    },
    {
      "cell_type": "markdown",
      "metadata": {
        "id": "JoQqmsz1JuG4"
      },
      "source": [
        "四則演算\n",
        "\n"
      ]
    },
    {
      "cell_type": "code",
      "metadata": {
        "colab": {
          "base_uri": "https://localhost:8080/"
        },
        "id": "_EayjJ3W9g0a",
        "outputId": "9a2fbfb0-2a6c-45f9-db1d-3ebcd17b533c"
      },
      "source": [
        "%%writefile temp.cpp\n",
        "#include <iostream>\n",
        "using namespace std;\n",
        "\n",
        "int main() {\n",
        "  int x = 5;\n",
        "  int y = 2;\n",
        "  cout << \"5 / 2 = \" << x / y << \"\\n\";\n",
        "  cout << \"5 % 2 = \" << x % y ;\n",
        "  return 0;\n",
        "}\n"
      ],
      "execution_count": null,
      "outputs": [
        {
          "output_type": "stream",
          "text": [
            "Overwriting temp.cpp\n"
          ],
          "name": "stdout"
        }
      ]
    },
    {
      "cell_type": "code",
      "metadata": {
        "colab": {
          "base_uri": "https://localhost:8080/"
        },
        "id": "KDvLHObl9z0h",
        "outputId": "9ba97e48-5646-40b0-b619-60063f5e2cc4"
      },
      "source": [
        "!g++ temp.cpp; ./a.out"
      ],
      "execution_count": null,
      "outputs": [
        {
          "output_type": "stream",
          "text": [
            "5 / 2 = 2\n",
            "5 % 2 = 1"
          ],
          "name": "stdout"
        }
      ]
    },
    {
      "cell_type": "code",
      "metadata": {
        "colab": {
          "base_uri": "https://localhost:8080/"
        },
        "id": "mwz_2IN6-slS",
        "outputId": "56e40ddc-447a-4e0d-97fa-b3d2d2e3756a"
      },
      "source": [
        "%%writefile temp.cpp\n",
        "#include <iostream>\n",
        "using namespace std;\n",
        "\n",
        "int main() {\n",
        "  int x = -5;\n",
        "  int y = 2;\n",
        "  cout << \"-5 / 2 = \" << x / y << \"\\n\";\n",
        "  cout << \"-5 % 2 = \" << x % y ;\n",
        "  return 0;\n",
        "}"
      ],
      "execution_count": null,
      "outputs": [
        {
          "output_type": "stream",
          "text": [
            "Overwriting temp.cpp\n"
          ],
          "name": "stdout"
        }
      ]
    },
    {
      "cell_type": "code",
      "metadata": {
        "colab": {
          "base_uri": "https://localhost:8080/"
        },
        "id": "qgdR8ljE-yzv",
        "outputId": "39e170d3-2383-4e95-976f-ad271a0e9242"
      },
      "source": [
        "!g++ temp.cpp; ./a.out"
      ],
      "execution_count": null,
      "outputs": [
        {
          "output_type": "stream",
          "text": [
            "-5 / 2 = -2\n",
            "-5 % 2 = -1"
          ],
          "name": "stdout"
        }
      ]
    },
    {
      "cell_type": "markdown",
      "metadata": {
        "id": "Mi_eSxf3GwBd"
      },
      "source": [
        "python と比較。 違う!!!!"
      ]
    },
    {
      "cell_type": "code",
      "metadata": {
        "colab": {
          "base_uri": "https://localhost:8080/"
        },
        "id": "txQnJ6OoGvrH",
        "outputId": "eb195c2b-782a-4c9d-e5f4-3bae0303768e"
      },
      "source": [
        "print(-5 / 2)\n",
        "print(-5//2)\n",
        "print(-5 % 2)"
      ],
      "execution_count": null,
      "outputs": [
        {
          "output_type": "stream",
          "text": [
            "-2.5\n",
            "-3\n",
            "1\n"
          ],
          "name": "stdout"
        }
      ]
    },
    {
      "cell_type": "markdown",
      "metadata": {
        "id": "Au-MliI9IRSW"
      },
      "source": [
        "冪乗はどうするのか。 python では `-5**3` と書くが。"
      ]
    },
    {
      "cell_type": "code",
      "metadata": {
        "colab": {
          "base_uri": "https://localhost:8080/"
        },
        "id": "TlAjyukyHOJy",
        "outputId": "14d75a05-9ebf-4a02-9bd7-0fb65418d020"
      },
      "source": [
        "%%writefile temp.cpp\n",
        "#include <iostream>\n",
        "#include <cmath>\n",
        "using namespace std;\n",
        "\n",
        "int main() {\n",
        "  int x = -5;\n",
        "  int y = 3;\n",
        "  cout << \"pow(-5, 3) = \" << pow(x, y);\n",
        "  return 0;\n",
        "}"
      ],
      "execution_count": null,
      "outputs": [
        {
          "output_type": "stream",
          "text": [
            "Overwriting temp.cpp\n"
          ],
          "name": "stdout"
        }
      ]
    },
    {
      "cell_type": "code",
      "metadata": {
        "colab": {
          "base_uri": "https://localhost:8080/"
        },
        "id": "dT-3wFH6HezZ",
        "outputId": "99218fe3-e199-4e09-e1e7-dddf7463408c"
      },
      "source": [
        "!g++ temp.cpp; ./a.out"
      ],
      "execution_count": null,
      "outputs": [
        {
          "output_type": "stream",
          "text": [
            "pow(-5, 3) = -125"
          ],
          "name": "stdout"
        }
      ]
    },
    {
      "cell_type": "markdown",
      "metadata": {
        "id": "rF9e_KV4JfYU"
      },
      "source": [
        "アサインメント演算子\n"
      ]
    },
    {
      "cell_type": "code",
      "metadata": {
        "id": "b4Nys8y_vBT1",
        "colab": {
          "base_uri": "https://localhost:8080/"
        },
        "outputId": "4cedeee8-523e-400b-a64b-1d0eaa371dca"
      },
      "source": [
        "%%writefile temp.cpp\n",
        "#include <iostream>\n",
        "using namespace std;\n",
        "\n",
        "int main() {\n",
        "  int x = 5;\n",
        "  x += 3;\n",
        "  cout << x << \"\\n\";\n",
        "  cout << x-- << \"\\n\";\n",
        "  cout << x << \"\\n\";\n",
        "  cout << --x << \"\\n\";\n",
        "  return 0;\n",
        "}"
      ],
      "execution_count": null,
      "outputs": [
        {
          "output_type": "stream",
          "text": [
            "Overwriting temp.cpp\n"
          ],
          "name": "stdout"
        }
      ]
    },
    {
      "cell_type": "code",
      "metadata": {
        "id": "4pyoHRQBvg_z",
        "colab": {
          "base_uri": "https://localhost:8080/"
        },
        "outputId": "d26fb3d8-1fa3-4759-8a19-780646322299"
      },
      "source": [
        "!g++ temp.cpp; ./a.out"
      ],
      "execution_count": null,
      "outputs": [
        {
          "output_type": "stream",
          "text": [
            "8\n",
            "8\n",
            "7\n",
            "6\n"
          ],
          "name": "stdout"
        }
      ]
    },
    {
      "cell_type": "code",
      "metadata": {
        "colab": {
          "base_uri": "https://localhost:8080/"
        },
        "id": "Hpc2_pUod-fM",
        "outputId": "674fada8-4918-4926-9e40-107f8bbeeda6"
      },
      "source": [
        "%%writefile temp.cpp\n",
        "#include <iostream>\n",
        "using namespace std;\n",
        "\n",
        "int main() {\n",
        "    int x = 5;\n",
        "    x &= 4;\n",
        "    cout << x;\n",
        "    return 0;\n",
        "}"
      ],
      "execution_count": null,
      "outputs": [
        {
          "output_type": "stream",
          "text": [
            "Overwriting temp.cpp\n"
          ],
          "name": "stdout"
        }
      ]
    },
    {
      "cell_type": "code",
      "metadata": {
        "colab": {
          "base_uri": "https://localhost:8080/"
        },
        "id": "Co6kI7K9eHMS",
        "outputId": "f310244c-d065-47f0-b2e6-03cc919b6224"
      },
      "source": [
        "!g++ temp.cpp; ./a.out"
      ],
      "execution_count": null,
      "outputs": [
        {
          "output_type": "stream",
          "text": [
            "4"
          ],
          "name": "stdout"
        }
      ]
    },
    {
      "cell_type": "markdown",
      "metadata": {
        "id": "S6Wkip65fbHc"
      },
      "source": [
        "説明 $\\quad$ 5 は 2進数で 101、4 は 100 なので & を取ると、100 で 4 になる。\n"
      ]
    },
    {
      "cell_type": "code",
      "metadata": {
        "id": "DoppkUDGfF7C",
        "colab": {
          "base_uri": "https://localhost:8080/"
        },
        "outputId": "94823d45-b97b-4a9f-a71b-a736c9193a02"
      },
      "source": [
        "import numpy as np\n",
        "print(np.base_repr(5, 2))\n",
        "print(np.base_repr(4,2))"
      ],
      "execution_count": null,
      "outputs": [
        {
          "output_type": "stream",
          "text": [
            "101\n",
            "100\n"
          ],
          "name": "stdout"
        }
      ]
    },
    {
      "cell_type": "code",
      "metadata": {
        "id": "3BUv3ygpf4rH",
        "colab": {
          "base_uri": "https://localhost:8080/"
        },
        "outputId": "6d740d61-b37f-4fad-c9b1-7870077f5f6d"
      },
      "source": [
        "%%writefile temp.cpp\n",
        "#include <iostream>\n",
        "using namespace std;\n",
        "\n",
        "int main() {\n",
        "  int x = 5;\n",
        "  x <<= 3;\n",
        "  cout << x;\n",
        "  return 0;\n",
        "}"
      ],
      "execution_count": null,
      "outputs": [
        {
          "output_type": "stream",
          "text": [
            "Overwriting temp.cpp\n"
          ],
          "name": "stdout"
        }
      ]
    },
    {
      "cell_type": "code",
      "metadata": {
        "id": "TJ1DijnqgAHr",
        "colab": {
          "base_uri": "https://localhost:8080/"
        },
        "outputId": "ed5d6804-0826-469d-fec7-3df6bf458f93"
      },
      "source": [
        "!g++ temp.cpp; ./a.out"
      ],
      "execution_count": null,
      "outputs": [
        {
          "output_type": "stream",
          "text": [
            "40"
          ],
          "name": "stdout"
        }
      ]
    },
    {
      "cell_type": "markdown",
      "metadata": {
        "id": "WmsIyNL5gQP3"
      },
      "source": [
        "説明 $\\quad$ 5 は 2進数で 101 で、これを `<<` で 3桁左にずらすと 101000 になり、これは十進数で 40 である。"
      ]
    },
    {
      "cell_type": "code",
      "metadata": {
        "id": "Y0QS90DogHM8",
        "colab": {
          "base_uri": "https://localhost:8080/"
        },
        "outputId": "05caf85c-5c0a-43ea-f671-c78cea23980d"
      },
      "source": [
        "print(np.base_repr(5,2))\n",
        "print(np.base_repr(40,2))"
      ],
      "execution_count": null,
      "outputs": [
        {
          "output_type": "stream",
          "text": [
            "101\n",
            "101000\n"
          ],
          "name": "stdout"
        }
      ]
    },
    {
      "cell_type": "markdown",
      "metadata": {
        "id": "WV8MmKZ6gqSw"
      },
      "source": [
        "文字列 string\n"
      ]
    },
    {
      "cell_type": "code",
      "metadata": {
        "id": "JV2gT3iagztB",
        "colab": {
          "base_uri": "https://localhost:8080/"
        },
        "outputId": "86abc8df-075c-40e6-f6f9-c5b18a3313d2"
      },
      "source": [
        "%%writefile temp.cpp\n",
        "#include <iostream>\n",
        "#include <string>\n",
        "using namespace std;\n",
        "\n",
        "int main() {\n",
        "  string greeting = \"Hello\";\n",
        "  cout << greeting;\n",
        "  return 0;\n",
        "}"
      ],
      "execution_count": null,
      "outputs": [
        {
          "output_type": "stream",
          "text": [
            "Overwriting temp.cpp\n"
          ],
          "name": "stdout"
        }
      ]
    },
    {
      "cell_type": "code",
      "metadata": {
        "id": "snL3f-Vrg5jt",
        "colab": {
          "base_uri": "https://localhost:8080/"
        },
        "outputId": "35163507-97a4-4367-f468-580fa4d8a378"
      },
      "source": [
        "!g++ temp.cpp; ./a.out"
      ],
      "execution_count": null,
      "outputs": [
        {
          "output_type": "stream",
          "text": [
            "Hello"
          ],
          "name": "stdout"
        }
      ]
    },
    {
      "cell_type": "markdown",
      "metadata": {
        "id": "TLwB2_twB0xJ"
      },
      "source": [
        "string concatenation"
      ]
    },
    {
      "cell_type": "code",
      "metadata": {
        "id": "llvccZAOBmoX",
        "colab": {
          "base_uri": "https://localhost:8080/"
        },
        "outputId": "30477aeb-6b7b-4b06-dae7-5220ca1d62c2"
      },
      "source": [
        "%%writefile temp.cpp\n",
        "#include <iostream>\n",
        "#include <string>\n",
        "using namespace std;\n",
        " \n",
        "int main () {\n",
        "  string firstName = \"John \";\n",
        "  string lastName = \"Doe\";\n",
        "  string fullName = firstName + lastName;\n",
        "  cout << fullName;\n",
        "  return 0;\n",
        "}"
      ],
      "execution_count": null,
      "outputs": [
        {
          "output_type": "stream",
          "text": [
            "Overwriting temp.cpp\n"
          ],
          "name": "stdout"
        }
      ]
    },
    {
      "cell_type": "code",
      "metadata": {
        "id": "r995sRAhBrIa",
        "colab": {
          "base_uri": "https://localhost:8080/"
        },
        "outputId": "181a77e5-5c41-458a-e530-e80eeb954a2f"
      },
      "source": [
        "!g++ temp.cpp; ./a.out"
      ],
      "execution_count": null,
      "outputs": [
        {
          "output_type": "stream",
          "text": [
            "John Doe"
          ],
          "name": "stdout"
        }
      ]
    },
    {
      "cell_type": "code",
      "metadata": {
        "id": "-iqkU708CLAj",
        "colab": {
          "base_uri": "https://localhost:8080/"
        },
        "outputId": "a607f6d4-25df-4989-fd1a-74a493045e7e"
      },
      "source": [
        "%%writefile temp.cpp\n",
        "#include <iostream>\n",
        "#include <string>\n",
        "using namespace std;\n",
        " \n",
        "int main () {\n",
        "  string firstName = \"John \";\n",
        "  string lastName = \"Doe\";\n",
        "  string fullName = firstName.append(lastName);\n",
        "  cout << fullName;\n",
        "  return 0;\n",
        "}\n"
      ],
      "execution_count": null,
      "outputs": [
        {
          "output_type": "stream",
          "text": [
            "Overwriting temp.cpp\n"
          ],
          "name": "stdout"
        }
      ]
    },
    {
      "cell_type": "code",
      "metadata": {
        "id": "SJR6YJUbCU_o",
        "colab": {
          "base_uri": "https://localhost:8080/"
        },
        "outputId": "03157866-cd5d-40ec-9e0e-82d80b8492f8"
      },
      "source": [
        "!g++ temp.cpp; ./a.out"
      ],
      "execution_count": null,
      "outputs": [
        {
          "output_type": "stream",
          "text": [
            "John Doe"
          ],
          "name": "stdout"
        }
      ]
    },
    {
      "cell_type": "code",
      "metadata": {
        "id": "O8rjyAcwCzW5",
        "colab": {
          "base_uri": "https://localhost:8080/"
        },
        "outputId": "37bb6bbd-45b3-4c25-fd8f-3122ffbae533"
      },
      "source": [
        "%%writefile temp.cpp\n",
        "#include <iostream>\n",
        "#include <string>\n",
        "using namespace std;\n",
        "\n",
        "int main() {\n",
        "  string txt = \"ABCDEFGHIJKLMNOPQRSTUVWXYZ\";\n",
        "  cout << \"The length of the txt string is: \" << txt.length();\n",
        "  return 0;\n",
        "}"
      ],
      "execution_count": null,
      "outputs": [
        {
          "output_type": "stream",
          "text": [
            "Overwriting temp.cpp\n"
          ],
          "name": "stdout"
        }
      ]
    },
    {
      "cell_type": "code",
      "metadata": {
        "id": "bN8osuBqC8Oe",
        "colab": {
          "base_uri": "https://localhost:8080/"
        },
        "outputId": "62702310-d283-4fbc-f0c7-a1c202f8cd96"
      },
      "source": [
        "!g++ temp.cpp; ./a.out"
      ],
      "execution_count": null,
      "outputs": [
        {
          "output_type": "stream",
          "text": [
            "The length of the txt string is: 26"
          ],
          "name": "stdout"
        }
      ]
    },
    {
      "cell_type": "markdown",
      "metadata": {
        "id": "jP_tkJIQDsvB"
      },
      "source": [
        "txt.length() と txt.size() は同じ。"
      ]
    },
    {
      "cell_type": "code",
      "metadata": {
        "id": "Fwhtd7A5Dn6V",
        "colab": {
          "base_uri": "https://localhost:8080/"
        },
        "outputId": "1eb5bb02-2bbf-4129-8789-34f93dc1017a"
      },
      "source": [
        "%%writefile temp.cpp\n",
        "#include <iostream>\n",
        "#include <string>\n",
        "using namespace std;\n",
        "\n",
        "int main() {\n",
        "  string txt = \"ABCDEFGHIJKLMNOPQRSTUVWXYZ\";\n",
        "  cout << \"The length of the txt string is: \" << txt.size();\n",
        "  return 0;\n",
        "}"
      ],
      "execution_count": null,
      "outputs": [
        {
          "output_type": "stream",
          "text": [
            "Overwriting temp.cpp\n"
          ],
          "name": "stdout"
        }
      ]
    },
    {
      "cell_type": "code",
      "metadata": {
        "id": "tFZQBolJDn6V",
        "colab": {
          "base_uri": "https://localhost:8080/"
        },
        "outputId": "dfecd425-32f6-4ce8-df47-b5344a833586"
      },
      "source": [
        "!g++ temp.cpp; ./a.out"
      ],
      "execution_count": null,
      "outputs": [
        {
          "output_type": "stream",
          "text": [
            "The length of the txt string is: 26"
          ],
          "name": "stdout"
        }
      ]
    },
    {
      "cell_type": "code",
      "metadata": {
        "id": "FYU0N2D1aO1t",
        "colab": {
          "base_uri": "https://localhost:8080/"
        },
        "outputId": "dbf0775e-7a72-4b47-fefc-73951a182ac9"
      },
      "source": [
        "%%writefile temp.cpp\n",
        "#include <iostream>\n",
        "#include <string>\n",
        "using namespace std;\n",
        "\n",
        "int main() {\n",
        "  string myString = \"Hello\";\n",
        "  cout << myString[1];\n",
        "  return 0;\n",
        "}"
      ],
      "execution_count": null,
      "outputs": [
        {
          "output_type": "stream",
          "text": [
            "Overwriting temp.cpp\n"
          ],
          "name": "stdout"
        }
      ]
    },
    {
      "cell_type": "code",
      "metadata": {
        "id": "OvPgFoaHaTin",
        "colab": {
          "base_uri": "https://localhost:8080/"
        },
        "outputId": "9f0797e2-302c-471a-e4a2-c093ea015c80"
      },
      "source": [
        "!g++ temp.cpp; ./a.out"
      ],
      "execution_count": null,
      "outputs": [
        {
          "output_type": "stream",
          "text": [
            "e"
          ],
          "name": "stdout"
        }
      ]
    },
    {
      "cell_type": "code",
      "metadata": {
        "id": "N3yk1iHVaYc0",
        "colab": {
          "base_uri": "https://localhost:8080/"
        },
        "outputId": "41ef449c-ae63-4375-d3e7-2d8558b62f1a"
      },
      "source": [
        "%%writefile temp.cpp\n",
        "#include <iostream>\n",
        "#include <string>\n",
        "using namespace std;\n",
        "\n",
        "int main() {\n",
        "  string myString = \"Hello\";\n",
        "  myString[0] = 'J';\n",
        "  cout << myString;\n",
        "  return 0;\n",
        "}\n"
      ],
      "execution_count": null,
      "outputs": [
        {
          "output_type": "stream",
          "text": [
            "Overwriting temp.cpp\n"
          ],
          "name": "stdout"
        }
      ]
    },
    {
      "cell_type": "code",
      "metadata": {
        "id": "iOu-_DX2akcc",
        "colab": {
          "base_uri": "https://localhost:8080/"
        },
        "outputId": "7a12c2c3-b55d-4597-8bfa-4a337780f176"
      },
      "source": [
        "!g++ temp.cpp; ./a.out"
      ],
      "execution_count": null,
      "outputs": [
        {
          "output_type": "stream",
          "text": [
            "Jello"
          ],
          "name": "stdout"
        }
      ]
    },
    {
      "cell_type": "code",
      "metadata": {
        "id": "7Bk6CAf-bGft",
        "colab": {
          "base_uri": "https://localhost:8080/"
        },
        "outputId": "ac709d96-f474-4e77-c18e-bfeddc9a83a2"
      },
      "source": [
        "%%writefile temp.cpp\n",
        "\n",
        "#include <iostream>\n",
        "#include <string>\n",
        "using namespace std;\n",
        "\n",
        "int main() {\n",
        "  string fullName;\n",
        "  cout << \"Type your full name: \";\n",
        "  getline (cin, fullName);\n",
        "  cout << \"Your name is: \" << fullName;\n",
        "  return 0;\n",
        "}\n"
      ],
      "execution_count": null,
      "outputs": [
        {
          "output_type": "stream",
          "text": [
            "Overwriting temp.cpp\n"
          ],
          "name": "stdout"
        }
      ]
    },
    {
      "cell_type": "code",
      "metadata": {
        "id": "ncf-dL8fljoH",
        "colab": {
          "base_uri": "https://localhost:8080/"
        },
        "outputId": "a26b01ef-aa47-4646-8cb4-9d153cc224b0"
      },
      "source": [
        "!g++ temp.cpp; echo Abraham Lincoln | ./a.out"
      ],
      "execution_count": null,
      "outputs": [
        {
          "output_type": "stream",
          "text": [
            "Type your full name: Your name is: Abraham Lincoln"
          ],
          "name": "stdout"
        }
      ]
    },
    {
      "cell_type": "markdown",
      "metadata": {
        "id": "2kYyYcX6bZNV"
      },
      "source": [
        "説明 $\\quad$ `cin >> fullName;` とすると、スペースで区切られたインプットのスペース前が代入されて行全体が代入されないので、`getline (cin, fullName);` とする。\n",
        "\n"
      ]
    },
    {
      "cell_type": "markdown",
      "metadata": {
        "id": "nGgjeu8CJ3zu"
      },
      "source": [
        "ネームスペースのの省略\n",
        "\n",
        "```\n",
        "using namespace std;\n",
        "```\n",
        "\n",
        "を省略したときの書き方。 `::` をつける。\n"
      ]
    },
    {
      "cell_type": "code",
      "metadata": {
        "id": "sq9Q97KdKH-M",
        "colab": {
          "base_uri": "https://localhost:8080/"
        },
        "outputId": "a8748e86-8f3c-4e8c-8d90-accf883a963e"
      },
      "source": [
        "%%writefile temp.cpp\n",
        "#include <iostream>\n",
        "#include <string>\n",
        "\n",
        "int main() {\n",
        "  std::string greeting = \"Hello\";\n",
        "  std::cout << greeting;\n",
        "  return 0;\n",
        "}\n"
      ],
      "execution_count": null,
      "outputs": [
        {
          "output_type": "stream",
          "text": [
            "Overwriting temp.cpp\n"
          ],
          "name": "stdout"
        }
      ]
    },
    {
      "cell_type": "code",
      "metadata": {
        "id": "zHB4UpcbKTGP",
        "colab": {
          "base_uri": "https://localhost:8080/"
        },
        "outputId": "e942d11b-2c26-4a33-f9d1-0e6b41826ccd"
      },
      "source": [
        "!g++ temp.cpp; ./a.out"
      ],
      "execution_count": null,
      "outputs": [
        {
          "output_type": "stream",
          "text": [
            "Hello"
          ],
          "name": "stdout"
        }
      ]
    },
    {
      "cell_type": "markdown",
      "metadata": {
        "id": "z68wPuKITFge"
      },
      "source": [
        "# Math\n"
      ]
    },
    {
      "cell_type": "code",
      "metadata": {
        "id": "DqYJWTLfTHA0",
        "colab": {
          "base_uri": "https://localhost:8080/"
        },
        "outputId": "681863ce-799f-496a-c391-44180342e88a"
      },
      "source": [
        "%%writefile temp.cpp\n",
        "#include <iostream>\n",
        "using namespace std;\n",
        "\n",
        "int main() {\n",
        "  cout << max(5, 10);\n",
        "  return 0;\n",
        "}\n"
      ],
      "execution_count": null,
      "outputs": [
        {
          "output_type": "stream",
          "text": [
            "Overwriting temp.cpp\n"
          ],
          "name": "stdout"
        }
      ]
    },
    {
      "cell_type": "code",
      "metadata": {
        "id": "m-Q7U_LkTPSy",
        "colab": {
          "base_uri": "https://localhost:8080/"
        },
        "outputId": "1647f9bc-531c-4184-c321-744306cb1918"
      },
      "source": [
        "!g++ temp.cpp; ./a.out"
      ],
      "execution_count": null,
      "outputs": [
        {
          "output_type": "stream",
          "text": [
            "10"
          ],
          "name": "stdout"
        }
      ]
    },
    {
      "cell_type": "code",
      "metadata": {
        "id": "qUNsklXVUExb",
        "colab": {
          "base_uri": "https://localhost:8080/"
        },
        "outputId": "d915c54c-df83-4a6a-a0bf-f666737cbe0a"
      },
      "source": [
        "%%writefile temp.cpp\n",
        "#include <iostream>\n",
        "#include <cmath>\n",
        "using namespace std;\n",
        "\n",
        "int main() {\n",
        "  cout << sqrt(64) << \"\\n\";\n",
        "  cout << round(2.6) << \"\\n\";\n",
        "  cout << log(2) << \"\\n\";\n",
        "  return 0;\n",
        "}\n"
      ],
      "execution_count": null,
      "outputs": [
        {
          "output_type": "stream",
          "text": [
            "Overwriting temp.cpp\n"
          ],
          "name": "stdout"
        }
      ]
    },
    {
      "cell_type": "code",
      "metadata": {
        "id": "2supEKMcUJyx",
        "colab": {
          "base_uri": "https://localhost:8080/"
        },
        "outputId": "ade1e953-fc0d-4f77-da4b-f7992a4c0622"
      },
      "source": [
        "!g++ temp.cpp; ./a.out"
      ],
      "execution_count": null,
      "outputs": [
        {
          "output_type": "stream",
          "text": [
            "8\n",
            "3\n",
            "0.693147\n"
          ],
          "name": "stdout"
        }
      ]
    },
    {
      "cell_type": "code",
      "metadata": {
        "id": "Qt_Q18TOUu1r",
        "colab": {
          "base_uri": "https://localhost:8080/"
        },
        "outputId": "11bb9e73-0f74-4d1f-a593-b30d9f32d1da"
      },
      "source": [
        "# python による検証\n",
        "# C++ の log() のベースはネイピア数(2.718)\n",
        "import math\n",
        "\n",
        "print(2.718**0.693147)\n",
        "\n",
        "print(math.exp(1))\n",
        "\n",
        "print(math.log(2))\n",
        "\n",
        "print(math.log(2, math.exp(1)))\n",
        "\n"
      ],
      "execution_count": null,
      "outputs": [
        {
          "output_type": "stream",
          "text": [
            "1.999855907188195\n",
            "2.718281828459045\n",
            "0.6931471805599453\n",
            "0.6931471805599453\n"
          ],
          "name": "stdout"
        }
      ]
    },
    {
      "cell_type": "markdown",
      "metadata": {
        "id": "dFpJLtIeBtIV"
      },
      "source": [
        "cmath ライブラリーのほかの関数"
      ]
    },
    {
      "cell_type": "code",
      "metadata": {
        "id": "5efZAImnB0ZC",
        "colab": {
          "base_uri": "https://localhost:8080/"
        },
        "outputId": "fead9f5f-336a-42bc-c642-1b83d63c5320"
      },
      "source": [
        "%%writefile temp.cpp\n",
        "#include <iostream>\n",
        "#include <cmath>\n",
        "using namespace std;\n",
        "\n",
        "int main() {\n",
        "  cout << sin(3.14/2) << \"\\n\";\n",
        "  cout << cbrt(64) << \"\\n\";\n",
        "  cout << abs(-2.3) << \"\\n\";\n",
        "  cout << fabs(-2.3) << \"\\n\";\n",
        "  cout << ceil(-2.3) << \"\\n\";\n",
        "  cout << floor(-2.3) << \"\\n\";\n",
        "  cout << exp(1) << \"\\n\";\n",
        "  cout << expm1(1) << \"\\n\";\n",
        "  cout << fdim(3.5, -3.5) << \"\\n\";\n",
        "  cout << hypot(3, 4) << \"\\n\";\n",
        "  cout << fma(2,3,4.1) << \"\\n\";\n",
        "  cout << fmod(5.0, 2.1) << \"\\n\";\n",
        "  cout << pow(16, 0.5) << \"\\n\";\n",
        " \n",
        "  return 0;\n",
        "}\n"
      ],
      "execution_count": null,
      "outputs": [
        {
          "output_type": "stream",
          "text": [
            "Overwriting temp.cpp\n"
          ],
          "name": "stdout"
        }
      ]
    },
    {
      "cell_type": "code",
      "metadata": {
        "id": "zi6mNxxCB0ZF",
        "colab": {
          "base_uri": "https://localhost:8080/"
        },
        "outputId": "8e2ad71d-3bc1-4a11-d520-dec636e40c74"
      },
      "source": [
        "!g++ temp.cpp; ./a.out"
      ],
      "execution_count": null,
      "outputs": [
        {
          "output_type": "stream",
          "text": [
            "1\n",
            "4\n",
            "2.3\n",
            "2.3\n",
            "-2\n",
            "-3\n",
            "2.71828\n",
            "1.71828\n",
            "7\n",
            "5\n",
            "10.1\n",
            "0.8\n",
            "4\n"
          ],
          "name": "stdout"
        }
      ]
    },
    {
      "cell_type": "code",
      "metadata": {
        "id": "oYYWPgYh74ob",
        "colab": {
          "base_uri": "https://localhost:8080/"
        },
        "outputId": "4f6eee62-1d36-4db9-c439-be357e954b29"
      },
      "source": [
        "%%writefile temp.cpp\n",
        "#include <iostream>\n",
        "using namespace std;\n",
        "\n",
        "int main() {\n",
        "  bool isCodingFun = true;\n",
        "  bool isFishTasty = false;\n",
        "  cout << isCodingFun << \"\\n\";\n",
        "  cout << isFishTasty;\n",
        "  return 0;\n",
        "}"
      ],
      "execution_count": 1,
      "outputs": [
        {
          "output_type": "stream",
          "text": [
            "Writing temp.cpp\n"
          ],
          "name": "stdout"
        }
      ]
    },
    {
      "cell_type": "code",
      "metadata": {
        "id": "RhUYA2c-7_hz",
        "colab": {
          "base_uri": "https://localhost:8080/"
        },
        "outputId": "2ce89c36-137b-4321-c2e8-486283956966"
      },
      "source": [
        "!g++ temp.cpp; ./a.out"
      ],
      "execution_count": 2,
      "outputs": [
        {
          "output_type": "stream",
          "text": [
            "1\n",
            "0"
          ],
          "name": "stdout"
        }
      ]
    },
    {
      "cell_type": "code",
      "metadata": {
        "id": "DW3WU3amjC16",
        "colab": {
          "base_uri": "https://localhost:8080/"
        },
        "outputId": "2bf1a081-083c-4f24-f9fd-c10fd36e46df"
      },
      "source": [
        "%%writefile temp.cpp\n",
        "#include <iostream>\n",
        "using namespace std;\n",
        "\n",
        "int main() {\n",
        "  int x = 20;\n",
        "  int y = 18;\n",
        "  if (x > y) {\n",
        "    cout << \"x is greater than y\";\n",
        "  }  \n",
        "  return 0;\n",
        "}\n"
      ],
      "execution_count": 3,
      "outputs": [
        {
          "output_type": "stream",
          "text": [
            "Overwriting temp.cpp\n"
          ],
          "name": "stdout"
        }
      ]
    },
    {
      "cell_type": "code",
      "metadata": {
        "id": "U-TeRyy3jElS",
        "colab": {
          "base_uri": "https://localhost:8080/"
        },
        "outputId": "c11fcc0d-6a3f-4928-d068-661ae22581d2"
      },
      "source": [
        "!g++ temp.cpp; ./a.out"
      ],
      "execution_count": 4,
      "outputs": [
        {
          "output_type": "stream",
          "text": [
            "x is greater than y"
          ],
          "name": "stdout"
        }
      ]
    },
    {
      "cell_type": "code",
      "metadata": {
        "id": "bl06solSjfo0",
        "colab": {
          "base_uri": "https://localhost:8080/"
        },
        "outputId": "627291f1-2f16-420e-9c35-389657f75a0f"
      },
      "source": [
        "%%writefile temp.cpp\n",
        "#include <iostream>\n",
        "using namespace std;\n",
        "\n",
        "int main() {\n",
        "  int time = 20;\n",
        "  if (time < 18) {\n",
        "    cout << \"Good day.\";\n",
        "  } else {\n",
        "    cout << \"Good evening.\";\n",
        "  }\n",
        "  return 0;\n",
        "}"
      ],
      "execution_count": 5,
      "outputs": [
        {
          "output_type": "stream",
          "text": [
            "Overwriting temp.cpp\n"
          ],
          "name": "stdout"
        }
      ]
    },
    {
      "cell_type": "code",
      "metadata": {
        "id": "lD_yDgDTjiKH",
        "colab": {
          "base_uri": "https://localhost:8080/"
        },
        "outputId": "dcff0986-b696-4cb8-fd3c-ac07b013710d"
      },
      "source": [
        "!g++ temp.cpp; ./a.out"
      ],
      "execution_count": 6,
      "outputs": [
        {
          "output_type": "stream",
          "text": [
            "Good evening."
          ],
          "name": "stdout"
        }
      ]
    },
    {
      "cell_type": "code",
      "metadata": {
        "id": "1qUuh5JSj4JZ",
        "colab": {
          "base_uri": "https://localhost:8080/"
        },
        "outputId": "a0c774fd-6e60-44a9-9735-2afce3eae653"
      },
      "source": [
        "%%writefile temp.cpp\n",
        "#include <iostream>\n",
        "using namespace std;\n",
        "\n",
        "int main() {\n",
        "  int time = 22;\n",
        "  if (time < 10) {\n",
        "    cout << \"Good morning.\";\n",
        "  } else if (time < 20) {\n",
        "    cout << \"Good day.\";\n",
        "  } else {\n",
        "    cout << \"Good evening.\";\n",
        "  }\n",
        "  return 0;\n",
        "}\n"
      ],
      "execution_count": 8,
      "outputs": [
        {
          "output_type": "stream",
          "text": [
            "Overwriting temp.cpp\n"
          ],
          "name": "stdout"
        }
      ]
    },
    {
      "cell_type": "code",
      "metadata": {
        "id": "WeNIRfvfj6km",
        "colab": {
          "base_uri": "https://localhost:8080/"
        },
        "outputId": "d5820c3d-5ffe-4bfc-9185-0a658873e1c3"
      },
      "source": [
        "!g++ temp.cpp; ./a.out"
      ],
      "execution_count": 9,
      "outputs": [
        {
          "output_type": "stream",
          "text": [
            "Good evening."
          ],
          "name": "stdout"
        }
      ]
    },
    {
      "cell_type": "code",
      "metadata": {
        "id": "16UgntYYkPkF",
        "colab": {
          "base_uri": "https://localhost:8080/"
        },
        "outputId": "5056d96c-7537-4387-cb94-5ed66b7b0ed6"
      },
      "source": [
        "%%writefile temp.cpp\n",
        "#include <iostream>\n",
        "#include <string>\n",
        "using namespace std;\n",
        "\n",
        "int main() {\n",
        "  int time = 20;\n",
        "//   string result = (time < 18) ? \"Good day.\" : \"Good evening.\";\n",
        "//   cout << result;\n",
        "  cout <<  ((time < 18) ? \"Good day.\" : \"Good evening.\");\n",
        "  return 0;\n",
        "}\n"
      ],
      "execution_count": 10,
      "outputs": [
        {
          "output_type": "stream",
          "text": [
            "Overwriting temp.cpp\n"
          ],
          "name": "stdout"
        }
      ]
    },
    {
      "cell_type": "code",
      "metadata": {
        "id": "lhEkWQxbkW39",
        "colab": {
          "base_uri": "https://localhost:8080/"
        },
        "outputId": "96525613-eafa-4b93-fb73-4f11fa8c2823"
      },
      "source": [
        "!g++ temp.cpp; ./a.out"
      ],
      "execution_count": 11,
      "outputs": [
        {
          "output_type": "stream",
          "text": [
            "Good evening."
          ],
          "name": "stdout"
        }
      ]
    },
    {
      "cell_type": "code",
      "metadata": {
        "id": "XcesfRGD7Zei",
        "colab": {
          "base_uri": "https://localhost:8080/"
        },
        "outputId": "40737910-9978-41e9-f89c-05a69610b657"
      },
      "source": [
        "# switch 構文\n",
        "%%writefile temp.cpp\n",
        "\n",
        "#include <iostream>\n",
        "using namespace std;\n",
        "\n",
        "int main() {\n",
        "  int day = 4;\n",
        "  switch (day) {\n",
        "  case 1:\n",
        "    cout << \"Monday\";\n",
        "    break;\n",
        "  case 2:\n",
        "    cout << \"Tuesday\";\n",
        "    break;\n",
        "  case 3:\n",
        "    cout << \"Wednesday\";\n",
        "    break;\n",
        "  case 4:\n",
        "    cout << \"Thursday\";\n",
        "    break;\n",
        "  case 5:\n",
        "    cout << \"Friday\";\n",
        "    break;\n",
        "  case 6:\n",
        "    cout << \"Saturday\";\n",
        "   break;\n",
        "  case 7:\n",
        "    cout << \"Sunday\";\n",
        "    break;\n",
        "  }\n",
        "  return 0;\n",
        "}"
      ],
      "execution_count": 12,
      "outputs": [
        {
          "output_type": "stream",
          "text": [
            "Overwriting temp.cpp\n"
          ],
          "name": "stdout"
        }
      ]
    },
    {
      "cell_type": "code",
      "metadata": {
        "id": "q729GEbV7e4R",
        "colab": {
          "base_uri": "https://localhost:8080/"
        },
        "outputId": "75aa4909-209e-44b8-ea7d-efce7fd09a29"
      },
      "source": [
        "!g++ temp.cpp; ./a.out"
      ],
      "execution_count": 13,
      "outputs": [
        {
          "output_type": "stream",
          "text": [
            "Thursday"
          ],
          "name": "stdout"
        }
      ]
    },
    {
      "cell_type": "code",
      "metadata": {
        "id": "O72WfBCMGWG-",
        "colab": {
          "base_uri": "https://localhost:8080/"
        },
        "outputId": "23b23572-4979-4665-8b5c-0c493f6d05a2"
      },
      "source": [
        "%%writefile temp.cpp\n",
        "#include <iostream>\n",
        "using namespace std;\n",
        "\n",
        "int main() {\n",
        "  int day = 4;\n",
        "  switch (day) {\n",
        "    case 6:\n",
        "      cout << \"Today is Saturday\";\n",
        "      break;\n",
        "    case 7:\n",
        "      cout << \"Today is Sunday\";\n",
        "      break;\n",
        "    default:\n",
        "      cout << \"Looking forward to the Weekend\";\n",
        "  }\n",
        "  return 0;\n",
        "}\n"
      ],
      "execution_count": 14,
      "outputs": [
        {
          "output_type": "stream",
          "text": [
            "Overwriting temp.cpp\n"
          ],
          "name": "stdout"
        }
      ]
    },
    {
      "cell_type": "code",
      "metadata": {
        "id": "6C9d6okNGW5I",
        "colab": {
          "base_uri": "https://localhost:8080/"
        },
        "outputId": "ecd6cc39-917d-4490-f32a-26b9ea1f5493"
      },
      "source": [
        "!g++ temp.cpp; ./a.out"
      ],
      "execution_count": 15,
      "outputs": [
        {
          "output_type": "stream",
          "text": [
            "Looking forward to the Weekend"
          ],
          "name": "stdout"
        }
      ]
    },
    {
      "cell_type": "code",
      "metadata": {
        "id": "ihhwaJtn4JMD",
        "colab": {
          "base_uri": "https://localhost:8080/"
        },
        "outputId": "3b16e60b-5fc1-40ad-a927-9e42cb3f5b3e"
      },
      "source": [
        "%%writefile temp.cpp\n",
        "#include <iostream>\n",
        "using namespace std;\n",
        "\n",
        "int main() {\n",
        "  int i = 0;\n",
        "  while (i < 5) {\n",
        "    cout << i << \"\\n\";\n",
        "    i++;\n",
        "  }\n",
        "  return 0;\n",
        "}"
      ],
      "execution_count": 16,
      "outputs": [
        {
          "output_type": "stream",
          "text": [
            "Overwriting temp.cpp\n"
          ],
          "name": "stdout"
        }
      ]
    },
    {
      "cell_type": "code",
      "metadata": {
        "id": "zcOgtPoW4Jpz",
        "colab": {
          "base_uri": "https://localhost:8080/"
        },
        "outputId": "5c96394c-a8c8-413b-e036-a47330651c30"
      },
      "source": [
        "!g++ temp.cpp; ./a.out"
      ],
      "execution_count": 17,
      "outputs": [
        {
          "output_type": "stream",
          "text": [
            "0\n",
            "1\n",
            "2\n",
            "3\n",
            "4\n"
          ],
          "name": "stdout"
        }
      ]
    },
    {
      "cell_type": "code",
      "metadata": {
        "id": "kDVoKXM74eEN"
      },
      "source": [
        "%%writefile temp.cpp\n",
        "#include <iostream>\n",
        "using namespace std;\n",
        "\n",
        "int main() {\n",
        "  int i = 0;\n",
        "  do {\n",
        "    cout << i << \"\\n\";\n",
        "    i++;\n",
        "  }\n",
        "  while (i < 5);\n",
        "  return 0;\n",
        "}\n"
      ],
      "execution_count": null,
      "outputs": []
    },
    {
      "cell_type": "code",
      "metadata": {
        "id": "T5EZk3rj4dp_",
        "colab": {
          "base_uri": "https://localhost:8080/"
        },
        "outputId": "080e4bca-1acc-4cef-8e9b-2804bb900cdb"
      },
      "source": [
        "!g++ temp.cpp; ./a.out"
      ],
      "execution_count": 19,
      "outputs": [
        {
          "output_type": "stream",
          "text": [
            "0\n",
            "1\n",
            "2\n",
            "3\n",
            "4\n"
          ],
          "name": "stdout"
        }
      ]
    },
    {
      "cell_type": "code",
      "metadata": {
        "id": "mekcQLVJ5C21",
        "colab": {
          "base_uri": "https://localhost:8080/"
        },
        "outputId": "a849ebb4-15a7-48d1-d2a2-2831e0381575"
      },
      "source": [
        "%%writefile temp.cpp\n",
        "#include <iostream>\n",
        "using namespace std;\n",
        "\n",
        "int main() {\n",
        "  for (int i = 0; i < 5; i++) {\n",
        "    cout << i << \"\\n\";\n",
        "  }\n",
        "  return 0;\n",
        "}\n"
      ],
      "execution_count": 20,
      "outputs": [
        {
          "output_type": "stream",
          "text": [
            "Overwriting temp.cpp\n"
          ],
          "name": "stdout"
        }
      ]
    },
    {
      "cell_type": "code",
      "metadata": {
        "id": "vVMSUoTD5DWS",
        "colab": {
          "base_uri": "https://localhost:8080/"
        },
        "outputId": "49135a86-d971-4278-b3b1-1fd97d164699"
      },
      "source": [
        "!g++ temp.cpp; ./a.out"
      ],
      "execution_count": 21,
      "outputs": [
        {
          "output_type": "stream",
          "text": [
            "0\n",
            "1\n",
            "2\n",
            "3\n",
            "4\n"
          ],
          "name": "stdout"
        }
      ]
    },
    {
      "cell_type": "code",
      "metadata": {
        "id": "6B9Qb9kU5d75",
        "colab": {
          "base_uri": "https://localhost:8080/"
        },
        "outputId": "a9a8c7af-45be-4e67-fa78-4a4269e6663c"
      },
      "source": [
        "%%writefile temp.cpp\n",
        "#include <iostream>\n",
        "using namespace std;\n",
        "\n",
        "int main() {\n",
        "  for (int i = 0; i <= 10; i = i + 2) {\n",
        "    cout << i << \"\\n\";\n",
        "  }\n",
        "  return 0;\n",
        "}"
      ],
      "execution_count": 22,
      "outputs": [
        {
          "output_type": "stream",
          "text": [
            "Overwriting temp.cpp\n"
          ],
          "name": "stdout"
        }
      ]
    },
    {
      "cell_type": "code",
      "metadata": {
        "id": "Xi5yv6sO5jx2",
        "colab": {
          "base_uri": "https://localhost:8080/"
        },
        "outputId": "c0b1851c-01ad-48a1-eca2-87bd674a4865"
      },
      "source": [
        "!g++ temp.cpp; ./a.out"
      ],
      "execution_count": 23,
      "outputs": [
        {
          "output_type": "stream",
          "text": [
            "0\n",
            "2\n",
            "4\n",
            "6\n",
            "8\n",
            "10\n"
          ],
          "name": "stdout"
        }
      ]
    },
    {
      "cell_type": "code",
      "metadata": {
        "id": "tRiVBXFL2rnC",
        "colab": {
          "base_uri": "https://localhost:8080/"
        },
        "outputId": "210caf50-fb41-4838-e0e2-0f912aa4505c"
      },
      "source": [
        "%%writefile temp.cpp\n",
        "#include <iostream>\n",
        "using namespace std;\n",
        "\n",
        "int main() {\n",
        "  for (int i = 0; i < 10; i++) {\n",
        "    if (i == 4) {\n",
        "      continue;\n",
        "    }\n",
        "    cout << i << \"\\n\";\n",
        "  }   \n",
        "  return 0;\n",
        "}\n"
      ],
      "execution_count": 24,
      "outputs": [
        {
          "output_type": "stream",
          "text": [
            "Overwriting temp.cpp\n"
          ],
          "name": "stdout"
        }
      ]
    },
    {
      "cell_type": "code",
      "metadata": {
        "id": "holEDCC520Dk",
        "colab": {
          "base_uri": "https://localhost:8080/"
        },
        "outputId": "c802f6a3-a7f6-4396-90a6-210f4d5df61c"
      },
      "source": [
        "!g++ temp.cpp; ./a.out"
      ],
      "execution_count": 25,
      "outputs": [
        {
          "output_type": "stream",
          "text": [
            "0\n",
            "1\n",
            "2\n",
            "3\n",
            "5\n",
            "6\n",
            "7\n",
            "8\n",
            "9\n"
          ],
          "name": "stdout"
        }
      ]
    },
    {
      "cell_type": "markdown",
      "metadata": {
        "id": "ZZyfhNB1YqRL"
      },
      "source": [
        "# 配列"
      ]
    },
    {
      "cell_type": "code",
      "metadata": {
        "id": "qf_0WEWnl4yx",
        "colab": {
          "base_uri": "https://localhost:8080/"
        },
        "outputId": "e1cc13c2-51ba-43ca-92f6-66d81bd054fe"
      },
      "source": [
        "%%writefile temp.cpp\n",
        "\n",
        "#include <iostream>\n",
        "#include <string>\n",
        "using namespace std;\n",
        "\n",
        "int main() {\n",
        "  string cars[4] = {\"Volvo\", \"BMW\", \"Ford\", \"Mazda\"};\n",
        "  cout << cars[0];\n",
        "  return 0;\n",
        "}"
      ],
      "execution_count": 26,
      "outputs": [
        {
          "output_type": "stream",
          "text": [
            "Overwriting temp.cpp\n"
          ],
          "name": "stdout"
        }
      ]
    },
    {
      "cell_type": "code",
      "metadata": {
        "id": "e3onRGAemAhi",
        "colab": {
          "base_uri": "https://localhost:8080/"
        },
        "outputId": "848e6dbe-417f-47a0-87c1-2ed533398a97"
      },
      "source": [
        "!g++ temp.cpp; ./a.out"
      ],
      "execution_count": 27,
      "outputs": [
        {
          "output_type": "stream",
          "text": [
            "Volvo"
          ],
          "name": "stdout"
        }
      ]
    },
    {
      "cell_type": "code",
      "metadata": {
        "id": "JickdBaumMKJ",
        "colab": {
          "base_uri": "https://localhost:8080/"
        },
        "outputId": "f7bf715b-8385-4423-9581-b340a3e58508"
      },
      "source": [
        "%%writefile temp.cpp\n",
        "\n",
        "#include <iostream>\n",
        "#include <string>\n",
        "using namespace std;\n",
        "\n",
        "int main() {\n",
        "  string cars[4] = {\"Volvo\", \"BMW\", \"Ford\", \"Mazda\"};\n",
        "  cars[0] = \"Opel\";\n",
        "  cout << cars[0];\n",
        "  return 0;\n",
        "}\n"
      ],
      "execution_count": 28,
      "outputs": [
        {
          "output_type": "stream",
          "text": [
            "Overwriting temp.cpp\n"
          ],
          "name": "stdout"
        }
      ]
    },
    {
      "cell_type": "code",
      "metadata": {
        "id": "xME08Ssamati",
        "colab": {
          "base_uri": "https://localhost:8080/"
        },
        "outputId": "dd4db798-e36c-40f8-cd18-14072f5c5b69"
      },
      "source": [
        "!g++ temp.cpp; ./a.out"
      ],
      "execution_count": 29,
      "outputs": [
        {
          "output_type": "stream",
          "text": [
            "Opel"
          ],
          "name": "stdout"
        }
      ]
    },
    {
      "cell_type": "code",
      "metadata": {
        "id": "-8spDgtFmnW7",
        "colab": {
          "base_uri": "https://localhost:8080/"
        },
        "outputId": "8c2906b6-a7d5-4914-b8cb-91bd6de8877d"
      },
      "source": [
        "%%writefile temp.cpp\n",
        "\n",
        "#include <iostream>\n",
        "#include <string>\n",
        "using namespace std;\n",
        "\n",
        "int main() {\n",
        "  string cars[4] = {\"Volvo\", \"BMW\", \"Ford\", \"Mazda\"};\n",
        "  for(int i = 0; i < 4; i++) {\n",
        "    cout << cars[i] << \"\\n\";\n",
        "  }\n",
        "  return 0;\n",
        "}"
      ],
      "execution_count": 30,
      "outputs": [
        {
          "output_type": "stream",
          "text": [
            "Overwriting temp.cpp\n"
          ],
          "name": "stdout"
        }
      ]
    },
    {
      "cell_type": "code",
      "metadata": {
        "id": "jy8wA-48mq-n",
        "colab": {
          "base_uri": "https://localhost:8080/"
        },
        "outputId": "48e6685f-8d66-4bf9-a354-36fe2cae5c5e"
      },
      "source": [
        "!g++ temp.cpp; ./a.out"
      ],
      "execution_count": 31,
      "outputs": [
        {
          "output_type": "stream",
          "text": [
            "Volvo\n",
            "BMW\n",
            "Ford\n",
            "Mazda\n"
          ],
          "name": "stdout"
        }
      ]
    },
    {
      "cell_type": "code",
      "metadata": {
        "id": "nJ5zPLrsm1z1",
        "colab": {
          "base_uri": "https://localhost:8080/"
        },
        "outputId": "f32fb753-dc8c-42cf-ba79-f47b1ec3a794"
      },
      "source": [
        "%%writefile temp.cpp\n",
        "\n",
        "#include <iostream>\n",
        "#include <string>\n",
        "using namespace std;\n",
        "int main() {\n",
        "  string cars[4] = {\"Volvo\", \"BMW\", \"Ford\", \"Mazda\"};\n",
        "  for(int i = 0; i < 4; i++) {\n",
        "    cout << i << \": \" << cars[i] << \"\\n\";\n",
        "  }\n",
        "  return 0;\n",
        "}\n"
      ],
      "execution_count": 32,
      "outputs": [
        {
          "output_type": "stream",
          "text": [
            "Overwriting temp.cpp\n"
          ],
          "name": "stdout"
        }
      ]
    },
    {
      "cell_type": "code",
      "metadata": {
        "id": "BVbo7l6km5T1",
        "colab": {
          "base_uri": "https://localhost:8080/"
        },
        "outputId": "754d404d-d8d8-4f31-ebd1-951301c9f01f"
      },
      "source": [
        "!g++ temp.cpp; ./a.out"
      ],
      "execution_count": 33,
      "outputs": [
        {
          "output_type": "stream",
          "text": [
            "0: Volvo\n",
            "1: BMW\n",
            "2: Ford\n",
            "3: Mazda\n"
          ],
          "name": "stdout"
        }
      ]
    },
    {
      "cell_type": "code",
      "metadata": {
        "id": "Sy8xPThGnpbg",
        "colab": {
          "base_uri": "https://localhost:8080/"
        },
        "outputId": "c7bad451-0835-4d4f-ab42-32b70add25aa"
      },
      "source": [
        "%%writefile temp.cpp\n",
        "\n",
        "#include <iostream>\n",
        "#include <string>\n",
        "using namespace std;\n",
        "\n",
        "int main() {\n",
        "  string cars[5] = {\"Volvo\", \"BMW\", \"Ford\"};\n",
        "  cars[3] = \"Mazda\";\n",
        "  cars[4] = \"Tesla\";\n",
        "  for(int i = 0; i < 5; i++) {\n",
        "    cout << cars[i] << \"\\n\";\n",
        "  }\n",
        "  return 0;\n",
        "}"
      ],
      "execution_count": 34,
      "outputs": [
        {
          "output_type": "stream",
          "text": [
            "Overwriting temp.cpp\n"
          ],
          "name": "stdout"
        }
      ]
    },
    {
      "cell_type": "code",
      "metadata": {
        "id": "GIVj0MYAnswK",
        "colab": {
          "base_uri": "https://localhost:8080/"
        },
        "outputId": "63e6a06e-395c-4b4b-d91e-9d33a144a6bb"
      },
      "source": [
        "!g++ temp.cpp; ./a.out"
      ],
      "execution_count": 35,
      "outputs": [
        {
          "output_type": "stream",
          "text": [
            "Volvo\n",
            "BMW\n",
            "Ford\n",
            "Mazda\n",
            "Tesla\n"
          ],
          "name": "stdout"
        }
      ]
    },
    {
      "cell_type": "code",
      "metadata": {
        "id": "OSU6Fsxqn5Rs",
        "colab": {
          "base_uri": "https://localhost:8080/"
        },
        "outputId": "75ef114e-3155-49f8-ae2d-f4df422eee7d"
      },
      "source": [
        "%%writefile temp.cpp\n",
        "\n",
        "#include <iostream>\n",
        "#include <string>\n",
        "using namespace std;\n",
        "\n",
        "int main() {\n",
        "  string cars[5];\n",
        "  cars[0] = \"Volvo\";\n",
        "  cars[1] = \"BMW\";\n",
        "  cars[2] = \"Ford\";\n",
        "  cars[3] = \"Mazda\";\n",
        "  cars[4] = \"Tesla\";\n",
        "  for(int i = 0; i < 5; i++) {\n",
        "    cout << cars[i] << \"\\n\";\n",
        "  }\n",
        "  return 0;\n",
        "}\n"
      ],
      "execution_count": 36,
      "outputs": [
        {
          "output_type": "stream",
          "text": [
            "Overwriting temp.cpp\n"
          ],
          "name": "stdout"
        }
      ]
    },
    {
      "cell_type": "code",
      "metadata": {
        "id": "T7JATf7Kn9d2",
        "colab": {
          "base_uri": "https://localhost:8080/"
        },
        "outputId": "c4b06815-2786-448b-932b-8183baf2f790"
      },
      "source": [
        "!g++ temp.cpp; ./a.out"
      ],
      "execution_count": 37,
      "outputs": [
        {
          "output_type": "stream",
          "text": [
            "Volvo\n",
            "BMW\n",
            "Ford\n",
            "Mazda\n",
            "Tesla\n"
          ],
          "name": "stdout"
        }
      ]
    },
    {
      "cell_type": "code",
      "metadata": {
        "id": "-qrghEFlhYhu",
        "colab": {
          "base_uri": "https://localhost:8080/"
        },
        "outputId": "eb85266b-83c3-49df-b109-829fc3c7e24c"
      },
      "source": [
        "%%writefile temp.cpp\n",
        "\n",
        "#include <iostream>\n",
        "#include <string>\n",
        "using namespace std;\n",
        "\n",
        "int main() {\n",
        "  string food = \"Pizza\";\n",
        "  string &meal = food;\n",
        "\n",
        "  cout << food << \"\\n\";\n",
        "  cout << meal << \"\\n\";\n",
        "  return 0;\n",
        "}\n"
      ],
      "execution_count": 38,
      "outputs": [
        {
          "output_type": "stream",
          "text": [
            "Overwriting temp.cpp\n"
          ],
          "name": "stdout"
        }
      ]
    },
    {
      "cell_type": "code",
      "metadata": {
        "id": "KvsgcVGDhmRx",
        "colab": {
          "base_uri": "https://localhost:8080/"
        },
        "outputId": "f3f14818-6fce-44f2-c169-0206dbb300e3"
      },
      "source": [
        "!g++ temp.cpp; ./a.out"
      ],
      "execution_count": 39,
      "outputs": [
        {
          "output_type": "stream",
          "text": [
            "Pizza\n",
            "Pizza\n"
          ],
          "name": "stdout"
        }
      ]
    },
    {
      "cell_type": "code",
      "metadata": {
        "id": "E_KPSSOwigv7"
      },
      "source": [
        "%%writefile temp.cpp\n",
        "\n",
        "#include <iostream>\n",
        "#include <string>\n",
        "using namespace std;\n",
        "\n",
        "int main() {\n",
        "  string food = \"Pizza\";\n",
        "\n",
        "  cout << &food;\n",
        "  return 0;\n",
        "}\n"
      ],
      "execution_count": null,
      "outputs": []
    },
    {
      "cell_type": "code",
      "metadata": {
        "id": "2Ifs1iLiimEp",
        "colab": {
          "base_uri": "https://localhost:8080/"
        },
        "outputId": "1120232a-6a38-40dc-855e-db5cc5d24c77"
      },
      "source": [
        "!g++ temp.cpp; ./a.out"
      ],
      "execution_count": 41,
      "outputs": [
        {
          "output_type": "stream",
          "text": [
            "0x7ffe35db17f0"
          ],
          "name": "stdout"
        }
      ]
    },
    {
      "cell_type": "markdown",
      "metadata": {
        "id": "n5tqPh7fYu4w"
      },
      "source": [
        "# ポインター"
      ]
    },
    {
      "cell_type": "code",
      "metadata": {
        "id": "1hgN8V-YXrHK",
        "colab": {
          "base_uri": "https://localhost:8080/"
        },
        "outputId": "ae97ad67-7c1d-47be-a18f-952854f134c2"
      },
      "source": [
        "%%writefile temp.cpp\n",
        "\n",
        "#include <iostream>\n",
        "#include <string>\n",
        "using namespace std;\n",
        "\n",
        "int main() {\n",
        "  string food = \"Pizza\";  // A string variable\n",
        "  string* ptr = &food;  // A pointer variable that stores the address of food\n",
        "\n",
        "  // Output the value of food\n",
        "  cout << food << \"\\n\";\n",
        "\n",
        "  // Output the memory address of food\n",
        "  cout << &food << \"\\n\";\n",
        "\n",
        "  // Output the memory address of food with the pointer\n",
        "  cout << ptr << \"\\n\";\n",
        "  return 0;\n",
        "}"
      ],
      "execution_count": 1,
      "outputs": [
        {
          "output_type": "stream",
          "text": [
            "Writing temp.cpp\n"
          ],
          "name": "stdout"
        }
      ]
    },
    {
      "cell_type": "code",
      "metadata": {
        "id": "a8VNvKHCX1jW",
        "colab": {
          "base_uri": "https://localhost:8080/"
        },
        "outputId": "013886ff-e5fa-4498-9586-680650766b4e"
      },
      "source": [
        "!g++ temp.cpp; ./a.out"
      ],
      "execution_count": 2,
      "outputs": [
        {
          "output_type": "stream",
          "text": [
            "Pizza\n",
            "0x7ffd3d2f7080\n",
            "0x7ffd3d2f7080\n"
          ],
          "name": "stdout"
        }
      ]
    },
    {
      "cell_type": "code",
      "metadata": {
        "id": "9g5Wa3RqYMTX",
        "colab": {
          "base_uri": "https://localhost:8080/"
        },
        "outputId": "4ab3345c-2a06-4c75-9fe1-762dac30a148"
      },
      "source": [
        "%%writefile temp.cpp\n",
        "\n",
        "#include <iostream>\n",
        "#include <string>\n",
        "using namespace std;\n",
        "\n",
        "int main() {\n",
        "  string food = \"Pizza\";  // Variable declaration\n",
        "  string* ptr = &food;    // Pointer declaration\n",
        "\n",
        "  // Reference: Output the memory address of food with the pointer\n",
        "  cout << ptr << \"\\n\";\n",
        "\n",
        "  // Dereference: Output the value of food with the pointer\n",
        "  cout << *ptr << \"\\n\";\n",
        "  return 0;\n",
        "}\n"
      ],
      "execution_count": 3,
      "outputs": [
        {
          "output_type": "stream",
          "text": [
            "Overwriting temp.cpp\n"
          ],
          "name": "stdout"
        }
      ]
    },
    {
      "cell_type": "code",
      "metadata": {
        "id": "qQC7biZtYPIn",
        "colab": {
          "base_uri": "https://localhost:8080/"
        },
        "outputId": "8c691bc8-6dfd-486b-d545-c6f864a6783f"
      },
      "source": [
        "!g++ temp.cpp; ./a.out"
      ],
      "execution_count": 4,
      "outputs": [
        {
          "output_type": "stream",
          "text": [
            "0x7ffe59907b90\n",
            "Pizza\n"
          ],
          "name": "stdout"
        }
      ]
    },
    {
      "cell_type": "code",
      "metadata": {
        "id": "x7KawXfwYjBp",
        "colab": {
          "base_uri": "https://localhost:8080/"
        },
        "outputId": "215823bf-42eb-4c8a-d9f9-b4fe54b5b6f2"
      },
      "source": [
        "%%writefile temp.cpp\n",
        "\n",
        "#include <iostream>\n",
        "#include <string>\n",
        "using namespace std;\n",
        "\n",
        "int main() {\n",
        "  string food = \"Pizza\";\n",
        "  string* ptr = &food;\n",
        "\n",
        "  // Output the value of food\n",
        "  cout << food << \"\\n\";\n",
        "\n",
        "  // Output the memory address of food\n",
        "  cout << &food << \"\\n\";\n",
        "\n",
        "  // Access the memory address of food and output its value\n",
        "  cout << *ptr << \"\\n\";\n",
        "  \n",
        "  // Change the value of the pointer\n",
        "  *ptr = \"Hamburger\";\n",
        "  \n",
        "  // Output the new value of the pointer\n",
        "  cout << *ptr << \"\\n\";\n",
        "  \n",
        "  // Output the new value of the food variable\n",
        "  cout << food << \"\\n\";\n",
        "  return 0;\n",
        "}\n"
      ],
      "execution_count": 5,
      "outputs": [
        {
          "output_type": "stream",
          "text": [
            "Overwriting temp.cpp\n"
          ],
          "name": "stdout"
        }
      ]
    },
    {
      "cell_type": "code",
      "metadata": {
        "id": "ZC4cYleOS1SI",
        "colab": {
          "base_uri": "https://localhost:8080/"
        },
        "outputId": "711334cc-f62a-4645-c843-800d08bb596a"
      },
      "source": [
        "!g++ temp.cpp; ./a.out"
      ],
      "execution_count": 6,
      "outputs": [
        {
          "output_type": "stream",
          "text": [
            "Pizza\n",
            "0x7fff9cd38980\n",
            "Pizza\n",
            "Hamburger\n",
            "Hamburger\n"
          ],
          "name": "stdout"
        }
      ]
    },
    {
      "cell_type": "markdown",
      "metadata": {
        "id": "jitnO9S9TGTC"
      },
      "source": [
        "# 関数 function\n"
      ]
    },
    {
      "cell_type": "code",
      "metadata": {
        "id": "rjylv-JQTffr",
        "colab": {
          "base_uri": "https://localhost:8080/"
        },
        "outputId": "0ac9357c-7f07-40cb-88be-870c4b45412d"
      },
      "source": [
        "%%writefile temp.cpp\n",
        "\n",
        "#include <iostream>\n",
        "using namespace std;\n",
        "\n",
        "void myFunction() {\n",
        "  cout << \"I just got executed!\";\n",
        "}\n",
        "\n",
        "int main() {\n",
        "  myFunction();\n",
        "  return 0;\n",
        "}\n"
      ],
      "execution_count": 7,
      "outputs": [
        {
          "output_type": "stream",
          "text": [
            "Overwriting temp.cpp\n"
          ],
          "name": "stdout"
        }
      ]
    },
    {
      "cell_type": "code",
      "metadata": {
        "id": "qo1x456fTrAr",
        "colab": {
          "base_uri": "https://localhost:8080/"
        },
        "outputId": "bd1e2674-76bd-4ec0-b442-87600e542d8a"
      },
      "source": [
        "!g++ temp.cpp; ./a.out"
      ],
      "execution_count": 8,
      "outputs": [
        {
          "output_type": "stream",
          "text": [
            "I just got executed!"
          ],
          "name": "stdout"
        }
      ]
    },
    {
      "cell_type": "code",
      "metadata": {
        "id": "pGfdsHEgT291",
        "colab": {
          "base_uri": "https://localhost:8080/"
        },
        "outputId": "55a47a98-d944-4238-91d4-9784d66358e5"
      },
      "source": [
        "%%writefile temp.cpp\n",
        "\n",
        "#include <iostream>\n",
        "using namespace std;\n",
        "\n",
        "void myFunction() {\n",
        "  cout << \"I just got executed!\\n\";\n",
        "}\n",
        "\n",
        "int main() {\n",
        "  myFunction();\n",
        "  myFunction();\n",
        "  myFunction();\n",
        "  return 0;\n",
        "}\n"
      ],
      "execution_count": 9,
      "outputs": [
        {
          "output_type": "stream",
          "text": [
            "Overwriting temp.cpp\n"
          ],
          "name": "stdout"
        }
      ]
    },
    {
      "cell_type": "code",
      "metadata": {
        "id": "3ODx7A603Jl6",
        "colab": {
          "base_uri": "https://localhost:8080/"
        },
        "outputId": "f0ae0d76-d2ba-4df9-c5e2-8ba42062a18d"
      },
      "source": [
        "!g++ temp.cpp; ./a.out"
      ],
      "execution_count": 10,
      "outputs": [
        {
          "output_type": "stream",
          "text": [
            "I just got executed!\n",
            "I just got executed!\n",
            "I just got executed!\n"
          ],
          "name": "stdout"
        }
      ]
    },
    {
      "cell_type": "code",
      "metadata": {
        "id": "EzMi7lOA3vAf",
        "colab": {
          "base_uri": "https://localhost:8080/"
        },
        "outputId": "4df691d5-23c3-48c1-c58f-89075783cc1f"
      },
      "source": [
        "%%writefile temp.cpp\n",
        "\n",
        "#include <iostream>\n",
        "using namespace std;\n",
        "\n",
        "// Function declaration\n",
        "void myFunction();\n",
        "\n",
        "// The main method\n",
        "int main() {\n",
        "  myFunction();  // call the function\n",
        "  return 0;\n",
        "}\n",
        "\n",
        "// Function definition\n",
        "void myFunction() {\n",
        "  cout << \"I just got executed!\";\n",
        "}\n"
      ],
      "execution_count": 11,
      "outputs": [
        {
          "output_type": "stream",
          "text": [
            "Overwriting temp.cpp\n"
          ],
          "name": "stdout"
        }
      ]
    },
    {
      "cell_type": "code",
      "metadata": {
        "id": "i5vo6gcf_iac",
        "colab": {
          "base_uri": "https://localhost:8080/"
        },
        "outputId": "0bfd28fb-924e-4eb6-d015-748fb85c7269"
      },
      "source": [
        "!g++ temp.cpp; ./a.out"
      ],
      "execution_count": 12,
      "outputs": [
        {
          "output_type": "stream",
          "text": [
            "I just got executed!"
          ],
          "name": "stdout"
        }
      ]
    },
    {
      "cell_type": "code",
      "metadata": {
        "id": "PNoSkj5R_y2N",
        "colab": {
          "base_uri": "https://localhost:8080/"
        },
        "outputId": "b6e4098c-197f-4ece-9868-190b93cab96e"
      },
      "source": [
        "%%writefile temp.cpp\n",
        "\n",
        "#include <iostream>\n",
        "#include <string>\n",
        "using namespace std;\n",
        "\n",
        "void myFunction(string fname) {\n",
        "  cout << fname << \" Refsnes\\n\";\n",
        "}\n",
        "\n",
        "int main() {\n",
        "  myFunction(\"Liam\");\n",
        "  myFunction(\"Jenny\");\n",
        "  myFunction(\"Anja\");\n",
        "  return 0;\n",
        "}\n"
      ],
      "execution_count": 13,
      "outputs": [
        {
          "output_type": "stream",
          "text": [
            "Overwriting temp.cpp\n"
          ],
          "name": "stdout"
        }
      ]
    },
    {
      "cell_type": "code",
      "metadata": {
        "id": "YlH6QCPGAK0R",
        "colab": {
          "base_uri": "https://localhost:8080/"
        },
        "outputId": "0452fc77-5735-402e-f155-88c6fbd4f9d5"
      },
      "source": [
        "!g++ temp.cpp; ./a.out"
      ],
      "execution_count": 14,
      "outputs": [
        {
          "output_type": "stream",
          "text": [
            "Liam Refsnes\n",
            "Jenny Refsnes\n",
            "Anja Refsnes\n"
          ],
          "name": "stdout"
        }
      ]
    },
    {
      "cell_type": "code",
      "metadata": {
        "id": "VG7FA6z5ofJ7",
        "colab": {
          "base_uri": "https://localhost:8080/"
        },
        "outputId": "0361cc42-b41a-493b-9581-1a484da1cb36"
      },
      "source": [
        "%%writefile temp.cpp\n",
        "\n",
        "#include <iostream>\n",
        "#include <string>\n",
        "using namespace std;\n",
        "\n",
        "void myFunction(string country = \"Norway\") {\n",
        "  cout << country << \"\\n\";\n",
        "}\n",
        "\n",
        "int main() {\n",
        "  myFunction(\"Sweden\");\n",
        "  myFunction(\"India\");\n",
        "  myFunction();\n",
        "  myFunction(\"USA\");\n",
        "  return 0;\n",
        "}"
      ],
      "execution_count": 15,
      "outputs": [
        {
          "output_type": "stream",
          "text": [
            "Overwriting temp.cpp\n"
          ],
          "name": "stdout"
        }
      ]
    },
    {
      "cell_type": "code",
      "metadata": {
        "id": "wJ_FQ-okohmm",
        "colab": {
          "base_uri": "https://localhost:8080/"
        },
        "outputId": "cdd53e70-8970-4c00-e9b4-bc5dc0952015"
      },
      "source": [
        "!g++ temp.cpp; ./a.out"
      ],
      "execution_count": 16,
      "outputs": [
        {
          "output_type": "stream",
          "text": [
            "Sweden\n",
            "India\n",
            "Norway\n",
            "USA\n"
          ],
          "name": "stdout"
        }
      ]
    },
    {
      "cell_type": "code",
      "metadata": {
        "id": "SPEQWGGTovf4",
        "colab": {
          "base_uri": "https://localhost:8080/"
        },
        "outputId": "9f8f6343-3bb4-4374-f984-3fb7092e8c70"
      },
      "source": [
        "%%writefile temp.cpp\n",
        "\n",
        "#include <iostream>\n",
        "#include <string>\n",
        "using namespace std;\n",
        "\n",
        "void myFunction(string fname, int age) {\n",
        "  cout << fname << \" Refsnes. \" << age << \" years old. \\n\";\n",
        "}\n",
        "\n",
        "int main() {\n",
        "  myFunction(\"Liam\", 3);\n",
        "  myFunction(\"Jenny\", 14);\n",
        "  myFunction(\"Anja\", 30);\n",
        "  return 0;\n",
        "}\n"
      ],
      "execution_count": 17,
      "outputs": [
        {
          "output_type": "stream",
          "text": [
            "Overwriting temp.cpp\n"
          ],
          "name": "stdout"
        }
      ]
    },
    {
      "cell_type": "code",
      "metadata": {
        "id": "c1LJx3ffpCvq",
        "colab": {
          "base_uri": "https://localhost:8080/"
        },
        "outputId": "bf465184-5f9b-475b-9f02-fb1a121cddf4"
      },
      "source": [
        "!g++ temp.cpp; ./a.out"
      ],
      "execution_count": 18,
      "outputs": [
        {
          "output_type": "stream",
          "text": [
            "Liam Refsnes. 3 years old. \n",
            "Jenny Refsnes. 14 years old. \n",
            "Anja Refsnes. 30 years old. \n"
          ],
          "name": "stdout"
        }
      ]
    },
    {
      "cell_type": "code",
      "metadata": {
        "id": "l1SXzT8MpVy0",
        "colab": {
          "base_uri": "https://localhost:8080/"
        },
        "outputId": "12f2373e-3095-4d29-d105-4f8b44321368"
      },
      "source": [
        "%%writefile temp.cpp\n",
        "\n",
        "#include <iostream>\n",
        "using namespace std;\n",
        "\n",
        "int myFunction(int x) {\n",
        "  return 5 + x;\n",
        "}\n",
        "\n",
        "int main() {\n",
        "  cout << myFunction(3);\n",
        "  return 0;\n",
        "}\n"
      ],
      "execution_count": 19,
      "outputs": [
        {
          "output_type": "stream",
          "text": [
            "Overwriting temp.cpp\n"
          ],
          "name": "stdout"
        }
      ]
    },
    {
      "cell_type": "code",
      "metadata": {
        "id": "HTFigBpApWKw",
        "colab": {
          "base_uri": "https://localhost:8080/"
        },
        "outputId": "ef468ea4-95e7-481b-ba78-4d1792a389a1"
      },
      "source": [
        "!g++ temp.cpp; ./a.out"
      ],
      "execution_count": 20,
      "outputs": [
        {
          "output_type": "stream",
          "text": [
            "8"
          ],
          "name": "stdout"
        }
      ]
    },
    {
      "cell_type": "code",
      "metadata": {
        "id": "ZVkDUuXnpmbK",
        "colab": {
          "base_uri": "https://localhost:8080/"
        },
        "outputId": "5f4dea13-2189-450d-e33e-efa52f81e9f0"
      },
      "source": [
        "%%writefile temp.cpp\n",
        "\n",
        "#include <iostream>\n",
        "using namespace std;\n",
        "\n",
        "int myFunction(int x, int y) {\n",
        "  return x + y;\n",
        "}\n",
        "\n",
        "int main() {\n",
        "  cout << myFunction(5, 3);\n",
        "  return 0;\n",
        "}\n"
      ],
      "execution_count": 21,
      "outputs": [
        {
          "output_type": "stream",
          "text": [
            "Overwriting temp.cpp\n"
          ],
          "name": "stdout"
        }
      ]
    },
    {
      "cell_type": "code",
      "metadata": {
        "id": "bGb-iR1GpmKd",
        "colab": {
          "base_uri": "https://localhost:8080/"
        },
        "outputId": "79b040e3-7c44-4277-9945-762dcb2374c7"
      },
      "source": [
        "!g++ temp.cpp; ./a.out"
      ],
      "execution_count": 22,
      "outputs": [
        {
          "output_type": "stream",
          "text": [
            "8"
          ],
          "name": "stdout"
        }
      ]
    },
    {
      "cell_type": "code",
      "metadata": {
        "id": "DMfV5zUpptvH",
        "colab": {
          "base_uri": "https://localhost:8080/"
        },
        "outputId": "2f44531b-20bf-4f15-8891-e524b5af5dac"
      },
      "source": [
        "%%writefile temp.cpp\n",
        "\n",
        "#include <iostream>\n",
        "using namespace std;\n",
        "\n",
        "int myFunction(int x, int y) {\n",
        "  return x + y;\n",
        "}\n",
        "\n",
        "int main() {\n",
        "  int z = myFunction(5, 3);\n",
        "  cout << z;\n",
        "  return 0;\n",
        "}\n"
      ],
      "execution_count": 23,
      "outputs": [
        {
          "output_type": "stream",
          "text": [
            "Overwriting temp.cpp\n"
          ],
          "name": "stdout"
        }
      ]
    },
    {
      "cell_type": "code",
      "metadata": {
        "id": "cjORLJfhptjJ",
        "colab": {
          "base_uri": "https://localhost:8080/"
        },
        "outputId": "961bcb65-39cf-4cd8-dd55-fd14acfac893"
      },
      "source": [
        "!g++ temp.cpp; ./a.out"
      ],
      "execution_count": 24,
      "outputs": [
        {
          "output_type": "stream",
          "text": [
            "8"
          ],
          "name": "stdout"
        }
      ]
    },
    {
      "cell_type": "code",
      "metadata": {
        "id": "7_ci617st4bU"
      },
      "source": [
        "%%writefile temp.cpp\n",
        "\n",
        "#include <iostream>\n",
        "using namespace std;\n",
        "\n",
        "void swapNums(int &x, int &y) {\n",
        "  int z = x;\n",
        "  x = y;\n",
        "  y = z;\n",
        "}\n",
        "\n",
        "int main() {\n",
        "  int firstNum = 10;\n",
        "  int secondNum = 20;\n",
        "\n",
        "  cout << \"Before swap: \" << \"\\n\";\n",
        "  cout << firstNum << secondNum << \"\\n\";\n",
        "\n",
        "  swapNums(firstNum, secondNum);\n",
        "\n",
        "  cout << \"After swap: \" << \"\\n\";\n",
        "  cout << firstNum << secondNum << \"\\n\";\n",
        "\n",
        "  return 0;\n",
        "}\n"
      ],
      "execution_count": null,
      "outputs": []
    },
    {
      "cell_type": "code",
      "metadata": {
        "id": "LEzCoNq7t_vZ",
        "colab": {
          "base_uri": "https://localhost:8080/"
        },
        "outputId": "3165d79c-09ee-4d62-a25b-d9a795f8efb4"
      },
      "source": [
        "!g++ temp.cpp; ./a.out"
      ],
      "execution_count": 26,
      "outputs": [
        {
          "output_type": "stream",
          "text": [
            "Before swap: \n",
            "1020\n",
            "After swap: \n",
            "2010\n"
          ],
          "name": "stdout"
        }
      ]
    },
    {
      "cell_type": "code",
      "metadata": {
        "id": "uloCDtwrumZA",
        "colab": {
          "base_uri": "https://localhost:8080/"
        },
        "outputId": "a06ad689-b894-4caf-baa3-c3191012fabe"
      },
      "source": [
        "%%writefile temp.cpp\n",
        "#include <iostream>\n",
        "using namespace std;\n",
        "\n",
        "int plusFunc(int x, int y) {\n",
        "  return x + y;\n",
        "}\n",
        "\n",
        "double plusFunc(double x, double y) {\n",
        "  return x + y;\n",
        "}\n",
        "\n",
        "int main() {\n",
        "  int myNum1 = plusFunc(8, 5);\n",
        "  double myNum2 = plusFunc(4.3, 6.26);\n",
        "  cout << \"Int: \" << myNum1 << \"\\n\";\n",
        "  cout << \"Double: \" << myNum2;\n",
        "  return 0;\n",
        "}"
      ],
      "execution_count": 27,
      "outputs": [
        {
          "output_type": "stream",
          "text": [
            "Overwriting temp.cpp\n"
          ],
          "name": "stdout"
        }
      ]
    },
    {
      "cell_type": "code",
      "metadata": {
        "id": "ngMHKqjLuoig",
        "colab": {
          "base_uri": "https://localhost:8080/"
        },
        "outputId": "4fee2efe-df71-48cb-81ce-ea974f9902e7"
      },
      "source": [
        "!g++ temp.cpp; ./a.out"
      ],
      "execution_count": 28,
      "outputs": [
        {
          "output_type": "stream",
          "text": [
            "Int: 13\n",
            "Double: 10.56"
          ],
          "name": "stdout"
        }
      ]
    },
    {
      "cell_type": "markdown",
      "metadata": {
        "id": "RHI59pg_vRv5"
      },
      "source": [
        "# クラス Class\n"
      ]
    },
    {
      "cell_type": "code",
      "metadata": {
        "id": "2trXCKKNIoog",
        "colab": {
          "base_uri": "https://localhost:8080/"
        },
        "outputId": "443b45c3-6df5-48a8-c415-8e407d62e574"
      },
      "source": [
        "%%writefile temp.cpp\n",
        "\n",
        "#include <iostream>\n",
        "#include <string>\n",
        "using namespace std;\n",
        "\n",
        "class MyClass {       // The class\n",
        "  public:             // Access specifier\n",
        "    int myNum;        // Attribute (int variable)\n",
        "    string myString;  // Attribute (string variable)\n",
        "};\n",
        "\n",
        "int main() {\n",
        "  MyClass myObj;  // Create an object of MyClass\n",
        "\n",
        "  // Access attributes and set values\n",
        "  myObj.myNum = 15;\n",
        "  myObj.myString = \"Some text\";\n",
        "\n",
        "  // Print values\n",
        "  cout << myObj.myNum << \"\\n\"; \n",
        "  cout << myObj.myString; \n",
        "  return 0;\n",
        "}\n"
      ],
      "execution_count": 1,
      "outputs": [
        {
          "output_type": "stream",
          "text": [
            "Writing temp.cpp\n"
          ],
          "name": "stdout"
        }
      ]
    },
    {
      "cell_type": "code",
      "metadata": {
        "id": "yPV_rnnII6h4",
        "colab": {
          "base_uri": "https://localhost:8080/"
        },
        "outputId": "b9881a4c-ad43-4860-d34d-f2a07e43b1ff"
      },
      "source": [
        "!g++ temp.cpp; ./a.out"
      ],
      "execution_count": 2,
      "outputs": [
        {
          "output_type": "stream",
          "text": [
            "15\n",
            "Some text"
          ],
          "name": "stdout"
        }
      ]
    },
    {
      "cell_type": "code",
      "metadata": {
        "id": "SL2JLGn2JGAI",
        "colab": {
          "base_uri": "https://localhost:8080/"
        },
        "outputId": "4174a895-0d4e-4c37-bf63-48d64e3604c4"
      },
      "source": [
        "%%writefile temp.cpp\n",
        "\n",
        "#include <iostream>\n",
        "#include <string>\n",
        "using namespace std;\n",
        "\n",
        "class Car {\n",
        "  public:\n",
        "    string brand;\n",
        "    string model;\n",
        "    int year;\n",
        "};\n",
        "\n",
        "int main() {\n",
        "  Car carObj1;\n",
        "  carObj1.brand = \"BMW\";\n",
        "  carObj1.model = \"X5\";\n",
        "  carObj1.year = 1999;\n",
        "\n",
        "  Car carObj2;\n",
        "  carObj2.brand = \"Ford\";\n",
        "  carObj2.model = \"Mustang\";\n",
        "  carObj2.year = 1969;\n",
        "\n",
        "  cout << carObj1.brand << \" \" << carObj1.model << \" \" << carObj1.year << \"\\n\";\n",
        "  cout << carObj2.brand << \" \" << carObj2.model << \" \" << carObj2.year << \"\\n\";\n",
        "  return 0;\n",
        "}\n"
      ],
      "execution_count": 1,
      "outputs": [
        {
          "output_type": "stream",
          "text": [
            "Writing temp.cpp\n"
          ],
          "name": "stdout"
        }
      ]
    },
    {
      "cell_type": "code",
      "metadata": {
        "id": "gsTqn1uXJFc7",
        "colab": {
          "base_uri": "https://localhost:8080/"
        },
        "outputId": "eb1353d6-9f96-477f-b44e-c34d8d13db9d"
      },
      "source": [
        "!g++ temp.cpp; ./a.out"
      ],
      "execution_count": 2,
      "outputs": [
        {
          "output_type": "stream",
          "text": [
            "BMW X5 1999\n",
            "Ford Mustang 1969\n"
          ],
          "name": "stdout"
        }
      ]
    },
    {
      "cell_type": "code",
      "metadata": {
        "id": "t5ziGTEKJYdX",
        "colab": {
          "base_uri": "https://localhost:8080/"
        },
        "outputId": "ad5dff76-71d3-4561-9d42-ced21c2d2f91"
      },
      "source": [
        "%%writefile temp.cpp\n",
        "\n",
        "#include <iostream>\n",
        "using namespace std;\n",
        "\n",
        "class MyClass {         // The class\n",
        "  public:               // Access specifier\n",
        "    void myMethod() {   // Method/function\n",
        "      cout << \"Hello World!\";\n",
        "    }\n",
        "};\n",
        "\n",
        "int main() {\n",
        "  MyClass myObj;     // Create an object of MyClass\n",
        "  myObj.myMethod();  // Call the method\n",
        "  return 0;\n",
        "}\n"
      ],
      "execution_count": 3,
      "outputs": [
        {
          "output_type": "stream",
          "text": [
            "Overwriting temp.cpp\n"
          ],
          "name": "stdout"
        }
      ]
    },
    {
      "cell_type": "code",
      "metadata": {
        "id": "kO8LjkheJYGQ",
        "colab": {
          "base_uri": "https://localhost:8080/"
        },
        "outputId": "7a4397fd-0712-4264-ef0e-feb828561a5f"
      },
      "source": [
        "!g++ temp.cpp; ./a.out"
      ],
      "execution_count": 4,
      "outputs": [
        {
          "output_type": "stream",
          "text": [
            "Hello World!"
          ],
          "name": "stdout"
        }
      ]
    },
    {
      "cell_type": "markdown",
      "metadata": {
        "id": "eS3USie9RsPv"
      },
      "source": [
        "# いまここ"
      ]
    },
    {
      "cell_type": "code",
      "metadata": {
        "id": "FdehYAOxJ9hn",
        "colab": {
          "base_uri": "https://localhost:8080/"
        },
        "outputId": "3957ebcc-ac05-411d-c119-20a79fb86826"
      },
      "source": [
        "%%writefile temp.cpp\n",
        "\n",
        "#include <iostream>\n",
        "using namespace std;\n",
        "\n",
        "class MyClass {         // The class\n",
        "  public:               // Access specifier\n",
        "    void myMethod();    // Method/function declaration\n",
        "};\n",
        "\n",
        "// Method/function definition outside the class\n",
        "void MyClass::myMethod() {\n",
        "  cout << \"Hello World!\";\n",
        "}\n",
        "\n",
        "int main() {\n",
        "  MyClass myObj;     // Create an object of MyClass\n",
        "  myObj.myMethod();  // Call the method\n",
        "  return 0;\n",
        "}\n"
      ],
      "execution_count": 5,
      "outputs": [
        {
          "output_type": "stream",
          "text": [
            "Overwriting temp.cpp\n"
          ],
          "name": "stdout"
        }
      ]
    },
    {
      "cell_type": "code",
      "metadata": {
        "id": "hQWeWer7J9Xc",
        "colab": {
          "base_uri": "https://localhost:8080/"
        },
        "outputId": "3bb2d524-9413-4c51-e904-49413d98ef14"
      },
      "source": [
        "!g++ temp.cpp; ./a.out"
      ],
      "execution_count": 6,
      "outputs": [
        {
          "output_type": "stream",
          "text": [
            "Hello World!"
          ],
          "name": "stdout"
        }
      ]
    },
    {
      "cell_type": "code",
      "metadata": {
        "id": "PYdljvoqKlUH"
      },
      "source": [
        "%%writefile temp.cpp\n",
        "\n",
        "#include <iostream>\n",
        "using namespace std;\n",
        "\n",
        "class Car {\n",
        "  public:\n",
        "    int speed(int maxSpeed);\n",
        "};\n",
        "\n",
        "int Car::speed(int maxSpeed) {\n",
        "  return maxSpeed;\n",
        "}\n",
        "\n",
        "int main() {\n",
        "  Car myObj;\n",
        "  cout << myObj.speed(200);\n",
        "  return 0;\n",
        "}\n"
      ],
      "execution_count": null,
      "outputs": []
    },
    {
      "cell_type": "code",
      "metadata": {
        "id": "uyOTylWeKlLo"
      },
      "source": [
        "!g++ temp.cpp; ./a.out"
      ],
      "execution_count": null,
      "outputs": []
    },
    {
      "cell_type": "code",
      "metadata": {
        "id": "yPnon0NEGpBA"
      },
      "source": [
        "%%writefile temp.cpp\n",
        "\n",
        "\n",
        "#include <iostream>\n",
        "using namespace std;\n",
        "\n",
        "class MyClass {     // The class\n",
        "  public:           // Access specifier\n",
        "    MyClass() {     // Constructor\n",
        "      cout << \"Hello World!\";\n",
        "    }\n",
        "};\n",
        "\n",
        "int main() {\n",
        "  MyClass myObj;    // Create an object of MyClass (this will call the constructor)\n",
        "  return 0;\n",
        "}\n"
      ],
      "execution_count": null,
      "outputs": []
    },
    {
      "cell_type": "code",
      "metadata": {
        "id": "4H6uhhuNGozO"
      },
      "source": [
        "!g++ temp.cpp; ./a.out"
      ],
      "execution_count": null,
      "outputs": []
    },
    {
      "cell_type": "code",
      "metadata": {
        "id": "QjkuRZ3DHE8U"
      },
      "source": [
        "%%writefile temp.cpp\n",
        "\n",
        "#include <iostream>\n",
        "using namespace std;\n",
        "\n",
        "class Car {        // The class\n",
        "  public:          // Access specifier\n",
        "    string brand;  // Attribute\n",
        "    string model;  // Attribute\n",
        "    int year;      // Attribute\n",
        "    Car(string x, string y, int z) {  // Constructor with parameters\n",
        "      brand = x;\n",
        "      model = y;\n",
        "      year = z;\n",
        "    }\n",
        "};\n",
        "\n",
        "int main() {\n",
        "  // Create Car objects and call the constructor with different values\n",
        "  Car carObj1(\"BMW\", \"X5\", 1999);\n",
        "  Car carObj2(\"Ford\", \"Mustang\", 1969);\n",
        "\n",
        "  // Print values\n",
        "  cout << carObj1.brand << \" \" << carObj1.model << \" \" << carObj1.year << \"\\n\";\n",
        "  cout << carObj2.brand << \" \" << carObj2.model << \" \" << carObj2.year << \"\\n\";\n",
        "  return 0;\n",
        "}\n"
      ],
      "execution_count": null,
      "outputs": []
    },
    {
      "cell_type": "code",
      "metadata": {
        "id": "r7BS44sTHEzk"
      },
      "source": [
        "!g++ temp.cpp; ./a.out"
      ],
      "execution_count": null,
      "outputs": []
    },
    {
      "cell_type": "code",
      "metadata": {
        "id": "sAWgqgADHg47"
      },
      "source": [
        "%%writefile temp.cpp\n",
        "\n",
        "\n",
        "#include <iostream>\n",
        "using namespace std;\n",
        "\n",
        "class Car {        // The class\n",
        "  public:          // Access specifier\n",
        "    string brand;  // Attribute\n",
        "    string model;  // Attribute\n",
        "    int year;      // Attribute\n",
        "    Car(string x, string y, int z); // Constructor declaration\n",
        "};\n",
        "\n",
        "// Constructor definition outside the class\n",
        "Car::Car(string x, string y, int z) {\n",
        "  brand = x;\n",
        "  model = y;\n",
        "  year = z;\n",
        "}\n",
        "\n",
        "int main() {\n",
        "  // Create Car objects and call the constructor with different values\n",
        "  Car carObj1(\"BMW\", \"X5\", 1999);\n",
        "  Car carObj2(\"Ford\", \"Mustang\", 1969);\n",
        "\n",
        "  // Print values\n",
        "  cout << carObj1.brand << \" \" << carObj1.model << \" \" << carObj1.year << \"\\n\";\n",
        "  cout << carObj2.brand << \" \" << carObj2.model << \" \" << carObj2.year << \"\\n\";\n",
        "  return 0;\n",
        "}\n"
      ],
      "execution_count": null,
      "outputs": []
    },
    {
      "cell_type": "code",
      "metadata": {
        "id": "-JagdTUNHg0f"
      },
      "source": [
        "!g++ temp.cpp; ./a.out\n"
      ],
      "execution_count": null,
      "outputs": []
    },
    {
      "cell_type": "code",
      "metadata": {
        "id": "wwPyr_ITH90I"
      },
      "source": [
        "%%script false\n",
        "\n",
        "#include <iostream>\n",
        "using namespace std;\n",
        "\n",
        "class MyClass {\n",
        "  public:    // Public access specifier\n",
        "    int x;   // Public attribute\n",
        "  private:   // Private access specifier\n",
        "    int y;   // Private attribute\n",
        "};\n",
        "\n",
        "int main() {\n",
        "  MyClass myObj;\n",
        "  myObj.x = 25;  // Allowed (x is public)\n",
        "  myObj.y = 50;  // Not allowed (y is private)\n",
        "  return 0;\n",
        "}\n",
        "\n",
        "\n",
        "# In function 'int main()':\n",
        "# Line 8: error: 'int MyClass::y' is private\n",
        "# Line 14: error: within this context"
      ],
      "execution_count": null,
      "outputs": []
    },
    {
      "cell_type": "code",
      "metadata": {
        "id": "LfIOgkyZInao"
      },
      "source": [
        "%%writefile temp.cpp\n",
        "\n",
        "\n",
        "#include <iostream>\n",
        "using namespace std;\n",
        "\n",
        "class MyClass {   // The class\n",
        "  public:         // Public access specifier\n",
        "    int x;        // Public attribute (int variable)\n",
        "};\n",
        "\n",
        "int main() {\n",
        "  MyClass myObj;  // Create an object of MyClass\n",
        "\n",
        "  // Access attributes and set values\n",
        "  myObj.x = 15;\n",
        "\n",
        "  // Print values\n",
        "  cout << myObj.x; \n",
        "  return 0;\n",
        "}\n"
      ],
      "execution_count": null,
      "outputs": []
    },
    {
      "cell_type": "code",
      "metadata": {
        "id": "oiG0RSZjInHS"
      },
      "source": [
        "!g++ temp.cpp; ./a.out"
      ],
      "execution_count": null,
      "outputs": []
    },
    {
      "cell_type": "code",
      "metadata": {
        "id": "aOru4KrJYA1S"
      },
      "source": [
        "%%writefile temp.cpp\n",
        "\n",
        "#include <iostream>\n",
        "using namespace std;\n",
        "\n",
        "class Employee {\n",
        "  private:\n",
        "    int salary;\n",
        "\n",
        "  public:\n",
        "    void setSalary(int s) {\n",
        "      salary = s;\n",
        "    }\n",
        "    int getSalary() {\n",
        "      return salary;\n",
        "    }\n",
        "};\n",
        "\n",
        "int main() {\n",
        "  Employee myObj;\n",
        "  myObj.setSalary(50000);\n",
        "  cout << myObj.getSalary();\n",
        "  return 0;\n",
        "}"
      ],
      "execution_count": null,
      "outputs": []
    },
    {
      "cell_type": "code",
      "metadata": {
        "id": "zaolZDXrYD9V"
      },
      "source": [
        "!g++ temp.cpp; ./a.out"
      ],
      "execution_count": null,
      "outputs": []
    },
    {
      "cell_type": "code",
      "metadata": {
        "id": "BQ7FyXY7YqxQ"
      },
      "source": [
        "%%writefile temp.cpp\n",
        "\n",
        "#include <iostream>\n",
        "#include <string>\n",
        "using namespace std;\n",
        "\n",
        "// Base class\n",
        "class Vehicle {\n",
        "  public: \n",
        "    string brand = \"Ford\";\n",
        "    void honk() {\n",
        "      cout << \"Tuut, tuut! \\n\" ;\n",
        "    }\n",
        "};\n",
        "\n",
        "// Derived class\n",
        "class Car: public Vehicle {\n",
        "  public: \n",
        "    string model = \"Mustang\";\n",
        "};\n",
        "\n",
        "int main() {\n",
        "  Car myCar;\n",
        "  myCar.honk();\n",
        "  cout << myCar.brand + \" \" + myCar.model;\n",
        "  return 0;\n",
        "}\n",
        "\n"
      ],
      "execution_count": null,
      "outputs": []
    },
    {
      "cell_type": "code",
      "metadata": {
        "id": "YDeaI5uzYucL"
      },
      "source": [
        "!g++ temp.cpp; ./a.out"
      ],
      "execution_count": null,
      "outputs": []
    },
    {
      "cell_type": "code",
      "metadata": {
        "id": "94a6-oLOZKkn"
      },
      "source": [
        "%%writefile temp.cpp\n",
        "\n",
        "#include <iostream>\n",
        "using namespace std;\n",
        "\n",
        "// Parent class\n",
        "class MyClass {\n",
        "  public: \n",
        "    void myFunction() {\n",
        "      cout << \"Some content in parent class.\" ;\n",
        "    }\n",
        "};\n",
        "\n",
        "// Child class\n",
        "class MyChild: public MyClass {\n",
        "};\n",
        "\n",
        "// Grandchild class \n",
        "class MyGrandChild: public MyChild {\n",
        "};\n",
        "\n",
        "int main() {\n",
        "  MyGrandChild myObj;\n",
        "  myObj.myFunction();\n",
        "  return 0;\n",
        "}\n"
      ],
      "execution_count": null,
      "outputs": []
    },
    {
      "cell_type": "code",
      "metadata": {
        "id": "Jrs7Y29GZM8c"
      },
      "source": [
        "!g++ temp.cpp; ./a.out"
      ],
      "execution_count": null,
      "outputs": []
    },
    {
      "cell_type": "code",
      "metadata": {
        "id": "8-AvRNkWZhqf"
      },
      "source": [
        "%%writefile temp.cpp\n",
        "\n",
        "#include <iostream>\n",
        "using namespace std;\n",
        "\n",
        "// Base class\n",
        "class MyClass {\n",
        "  public:\n",
        "    void myFunction() {\n",
        "      cout << \"Some content in parent class.\\n\" ;\n",
        "    }\n",
        "};\n",
        "\n",
        "// Another base class\n",
        "class MyOtherClass {\n",
        "  public:\n",
        "    void myOtherFunction() {\n",
        "      cout << \"Some content in another class.\\n\" ;\n",
        "    }\n",
        "};\n",
        "\n",
        "// Derived class\n",
        "class MyChildClass: public MyClass, public MyOtherClass {\n",
        "};\n",
        "\n",
        "int main() {\n",
        "  MyChildClass myObj;\n",
        "  myObj.myFunction();\n",
        "  myObj.myOtherFunction();\n",
        "  return 0;\n",
        "}\n"
      ],
      "execution_count": null,
      "outputs": []
    },
    {
      "cell_type": "code",
      "metadata": {
        "id": "XVvEQr3-ZyGd"
      },
      "source": [
        "!g++ temp.cpp; ./a.out"
      ],
      "execution_count": null,
      "outputs": []
    },
    {
      "cell_type": "code",
      "metadata": {
        "id": "npPHwffZaCU_"
      },
      "source": [
        "%%writefile temp.cpp\n",
        "\n",
        "#include <iostream>\n",
        "using namespace std;\n",
        "\n",
        "// Base class\n",
        "class Employee  {\n",
        "  protected:  // Protected access specifier\n",
        "    int salary;\n",
        "};\n",
        "\n",
        "// Derived class\n",
        "class Programmer: public Employee {\n",
        "  public:\n",
        "    int bonus;\n",
        "    void setSalary(int s) {\n",
        "      salary = s;\n",
        "    }\n",
        "    int getSalary() {\n",
        "      return salary;\n",
        "    }\n",
        "};\n",
        "\n",
        "int main() {\n",
        "  Programmer myObj;\n",
        "  myObj.setSalary(50000);\n",
        "  myObj.bonus = 15000;\n",
        "  cout << \"Salary: \" << myObj.getSalary() << \"\\n\";\n",
        "  cout << \"Bonus: \" << myObj.bonus << \"\\n\";\n",
        "  return 0;\n",
        "}\n"
      ],
      "execution_count": null,
      "outputs": []
    },
    {
      "cell_type": "code",
      "metadata": {
        "id": "WUYFP1u8aIjb"
      },
      "source": [
        "!g++ temp.cpp; ./a.out"
      ],
      "execution_count": null,
      "outputs": []
    },
    {
      "cell_type": "code",
      "metadata": {
        "id": "smDbnHa3X8qp"
      },
      "source": [
        "%%writefile temp.cpp\n",
        "\n",
        "#include <iostream>\n",
        "#include <string>\n",
        "using namespace std;\n",
        "\n",
        "// Base class\n",
        "class Animal {\n",
        "  public:\n",
        "    void animalSound() {\n",
        "      cout << \"The animal makes a sound \\n\" ;\n",
        "    }\n",
        "};\n",
        "\n",
        "// Derived class\n",
        "class Pig : public Animal {\n",
        "  public:\n",
        "    void animalSound() {\n",
        "      cout << \"The pig says: wee wee \\n\" ;\n",
        "    }\n",
        "};\n",
        "\n",
        "// Derived class\n",
        "class Dog : public Animal {\n",
        "  public:\n",
        "    void animalSound() {\n",
        "      cout << \"The dog says: bow wow \\n\" ;\n",
        "    }\n",
        "};\n",
        "\n",
        "int main() {\n",
        "  Animal myAnimal;\n",
        "  Pig myPig;\n",
        "  Dog myDog;\n",
        "\n",
        "  myAnimal.animalSound();\n",
        "  myPig.animalSound();\n",
        "  myDog.animalSound();\n",
        "  return 0;\n",
        "}\n"
      ],
      "execution_count": null,
      "outputs": []
    },
    {
      "cell_type": "code",
      "metadata": {
        "id": "YA0Yro23YB0M"
      },
      "source": [
        "!g++ temp.cpp; ./a.out"
      ],
      "execution_count": null,
      "outputs": []
    },
    {
      "cell_type": "markdown",
      "metadata": {
        "id": "CNaxNVBINgxr"
      },
      "source": [
        "# ファイル操作"
      ]
    },
    {
      "cell_type": "code",
      "metadata": {
        "id": "JYjXHaQCYo9B"
      },
      "source": [
        "%%writefile temp.cpp\n",
        "\n",
        "#include <iostream>\n",
        "#include <fstream>\n",
        "#include <string>\n",
        "using namespace std;\n",
        "\n",
        "int main () {\n",
        "  // Create a text file\n",
        "  ofstream MyWriteFile(\"filename.txt\");\n",
        "\n",
        "  // Write to the file\n",
        "  MyWriteFile << \"Files can be tricky, but it is fun enough!\";\n",
        " \n",
        "  // Close the file\n",
        "  MyWriteFile.close();\n",
        "\n",
        "  // Create a text string, which is used to output the text file\n",
        "  string myText;\n",
        "\n",
        "  // Read from the text file\n",
        "  ifstream MyReadFile(\"filename.txt\");\n",
        "\n",
        "  // Use a while loop together with the getline() function to read the file line by line\n",
        "  while (getline (MyReadFile, myText)) {\n",
        "    // Output the text from the file\n",
        "    cout << myText;\n",
        "  }\n",
        "\n",
        "  // Close the file\n",
        "  MyReadFile.close();\n",
        "}\n"
      ],
      "execution_count": null,
      "outputs": []
    },
    {
      "cell_type": "code",
      "metadata": {
        "id": "DusXiwvrYxVW"
      },
      "source": [
        "!g++ temp.cpp; ./a.out"
      ],
      "execution_count": null,
      "outputs": []
    },
    {
      "cell_type": "markdown",
      "metadata": {
        "id": "yWfRjuHONXgE"
      },
      "source": [
        "## 上書きと追記"
      ]
    },
    {
      "cell_type": "code",
      "metadata": {
        "id": "zSk0BNsoNrBT"
      },
      "source": [
        "%%writefile file.txt\n",
        "Good friend, for Jesus' sake forbear,\n",
        "To dig the dust enclosed here.\n",
        "Blest be the man that spares these stones,\n",
        "And cursed be he that moves my bones."
      ],
      "execution_count": null,
      "outputs": []
    },
    {
      "cell_type": "code",
      "metadata": {
        "id": "vL_9djouNWae"
      },
      "source": [
        "%%writefile temp.cpp\n",
        "\n",
        "#include <fstream>\n",
        "#include <iostream>\n",
        "#include <string>\n",
        "\n",
        "int main() {\n",
        "    std::ofstream file(\"file.txt\", std::ios::app);\n",
        "    std::string quotation(\"--- William Shakespeare's Epitaph\");\n",
        "\n",
        "    file << \"\\n\" << quotation;\n",
        "\n",
        "    std::string myText;\n",
        "\n",
        "    std::ifstream MyReadFile(\"file.txt\");\n",
        "\n",
        "    while (getline (MyReadFile, myText)) {\n",
        "        std::cout << myText << \"\\n\";\n",
        "    }\n",
        "\n",
        "    return 0;\n",
        "}"
      ],
      "execution_count": null,
      "outputs": []
    },
    {
      "cell_type": "code",
      "metadata": {
        "id": "dIhLrYy7Nkca"
      },
      "source": [
        "!g++ temp.cpp; ./a.out"
      ],
      "execution_count": null,
      "outputs": []
    },
    {
      "cell_type": "markdown",
      "metadata": {
        "id": "z7374E9K9xYk"
      },
      "source": [
        "# 例外処理 exceptions"
      ]
    },
    {
      "cell_type": "code",
      "metadata": {
        "id": "v7nVRIvWnl-k"
      },
      "source": [
        "%%writefile temp.cpp\n",
        "\n",
        "#include <iostream>\n",
        "using namespace std;\n",
        "\n",
        "int main() {\n",
        "  try {\n",
        "    int age = 15;\n",
        "    if (age >= 18) {\n",
        "      cout << \"Access granted - you are old enough.\";\n",
        "    } else {\n",
        "      throw (age);\n",
        "    }\n",
        "  }\n",
        "  catch (int myNum) {\n",
        "    cout << \"Access denied - You must be at least 18 years old.\\n\";\n",
        "    cout << \"Age is: \" << myNum;  \n",
        "  }\n",
        "  return 0;\n",
        "}\n"
      ],
      "execution_count": null,
      "outputs": []
    },
    {
      "cell_type": "code",
      "metadata": {
        "id": "sXH_yclMnwrK"
      },
      "source": [
        "!g++ temp.cpp; ./a.out"
      ],
      "execution_count": null,
      "outputs": []
    },
    {
      "cell_type": "code",
      "metadata": {
        "id": "vasNgg0a8m3i"
      },
      "source": [
        "%%writefile temp.cpp\n",
        "\n",
        "#include <iostream>\n",
        "using namespace std;\n",
        "\n",
        "int main() {\n",
        "  try {\n",
        "    int age = 20;\n",
        "    if (age >= 18) {\n",
        "      cout << \"Access granted - you are old enough.\";\n",
        "    } else {\n",
        "      throw (age);\n",
        "    }\n",
        "  }\n",
        "  catch (int myNum) {\n",
        "    cout << \"Access denied - You must be at least 18 years old.\\n\";\n",
        "    cout << \"Age is: \" << myNum;  \n",
        "  }\n",
        "  return 0;\n",
        "}\n"
      ],
      "execution_count": null,
      "outputs": []
    },
    {
      "cell_type": "code",
      "metadata": {
        "id": "s-wwtOHF8ndo"
      },
      "source": [
        "!g++ temp.cpp; ./a.out"
      ],
      "execution_count": null,
      "outputs": []
    },
    {
      "cell_type": "code",
      "metadata": {
        "id": "WjmnyJNM8_zi"
      },
      "source": [
        "%%writefile temp.cpp\n",
        "\n",
        "\n",
        "#include <iostream>\n",
        "using namespace std;\n",
        "\n",
        "int main() {\n",
        "  try {\n",
        "    int age = 15;\n",
        "    if (age >= 18) {\n",
        "      cout << \"Access granted - you are old enough.\";\n",
        "    } else {\n",
        "      throw 505;\n",
        "    }\n",
        "  }\n",
        "  catch (int myNum) {\n",
        "    cout << \"Access denied - You must be at least 18 years old.\\n\";\n",
        "    cout << \"Error number: \" << myNum;  \n",
        "  }\n",
        "  return 0;\n",
        "}\n"
      ],
      "execution_count": null,
      "outputs": []
    },
    {
      "cell_type": "code",
      "metadata": {
        "id": "Tzx3ZsOv8_nF"
      },
      "source": [
        "!g++ temp.cpp; ./a.out"
      ],
      "execution_count": null,
      "outputs": []
    },
    {
      "cell_type": "code",
      "metadata": {
        "id": "OZN2Bu5A9WqA"
      },
      "source": [
        "%%writefile temp.cpp\n",
        "\n",
        "#include <iostream>\n",
        "using namespace std;\n",
        "\n",
        "int main() {\n",
        "  try {\n",
        "    int age = 15;\n",
        "    if (age >= 18) {\n",
        "      cout << \"Access granted - you are old enough.\";\n",
        "    } else {\n",
        "      throw 505;\n",
        "    }\n",
        "  }\n",
        "  catch (...) {\n",
        "    cout << \"Access denied - You must be at least 18 years old.\\n\";\n",
        "  }\n",
        "  return 0;\n",
        "}\n"
      ],
      "execution_count": null,
      "outputs": []
    },
    {
      "cell_type": "code",
      "metadata": {
        "id": "7q_edc0-9Wb9"
      },
      "source": [
        "!g++ temp.cpp; ./a.out"
      ],
      "execution_count": null,
      "outputs": []
    },
    {
      "cell_type": "code",
      "metadata": {
        "id": "rMANLnVl8n2h"
      },
      "source": [
        "%%writefile temp.cpp\n",
        "#include <iostream>\n",
        "#include <string>\n",
        "\n",
        "int CharToInt(const char c) {\n",
        "    switch (c) {\n",
        "        case '0':  return 0;\n",
        "        case '1':  return 1;\n",
        "        case '2':  return 2;\n",
        "        case '3':  return 3;\n",
        "        case '4':  return 4;\n",
        "        case '5':  return 5;\n",
        "        case '6':  return 6;\n",
        "        case '7':  return 7;\n",
        "        case '8':  return 8;\n",
        "        case '9':  return 9;\n",
        "        default:\n",
        "            // 関数から例外を送出\n",
        "            throw std::runtime_error(\"数値ではない文字が入っています\");\n",
        "    }\n",
        "}\n",
        "\n",
        "int StringToInt(const std::string& str) {\n",
        "    int num = 0;\n",
        "    for (const auto s : str) {\n",
        "        num *= 10;\n",
        "\n",
        "        // CharToInt から例外が送出される\n",
        "        num += CharToInt(s);\n",
        "    }\n",
        "    return num;\n",
        "}\n",
        "\n",
        "int main() {\n",
        "    std::string str = \"123XY56\";\n",
        "    try {\n",
        "        // StringToInt 内部の CharToInt から例外が送出される\n",
        "        auto num = StringToInt(str);\n",
        "\n",
        "        std::cout << num << \"\\n\";\n",
        "    } catch (const std::runtime_error& e) {\n",
        "        std::cout << e.what() << \"\\n\";\n",
        "    }\n",
        "\n",
        "    return 0;\n",
        "}"
      ],
      "execution_count": null,
      "outputs": []
    },
    {
      "cell_type": "code",
      "metadata": {
        "id": "HesdtoSI8nSh"
      },
      "source": [
        "!g++ temp.cpp; ./a.out"
      ],
      "execution_count": null,
      "outputs": []
    },
    {
      "cell_type": "code",
      "metadata": {
        "id": "9wl8EJ3m4pt2"
      },
      "source": [
        "%%writefile temp.cpp\n",
        "\n",
        "#include <iostream>\n",
        "using namespace std;\n",
        "\n",
        "int main() {\n",
        "  int x = 5;\n",
        "  int y = 6;\n",
        "  int sum = x + y;\n",
        "  cout << sum;\n",
        "  return 0;\n",
        "}\n"
      ],
      "execution_count": null,
      "outputs": []
    },
    {
      "cell_type": "code",
      "metadata": {
        "id": "KAS06TYN4pjE"
      },
      "source": [
        "!g++ temp.cpp; ./a.out"
      ],
      "execution_count": null,
      "outputs": []
    },
    {
      "cell_type": "code",
      "metadata": {
        "id": "b__3S-ZD4sis"
      },
      "source": [
        "%%writefile temp.cpp\n",
        "\n",
        "#include <iostream>\n",
        "using namespace std;\n",
        "\n",
        "int main() {\n",
        "  int x, y;\n",
        "  int sum;\n",
        "  cout << \"Type a number: \";\n",
        "  cin >> x;\n",
        "  cout << \"Type another number: \";\n",
        "  cin >> y;\n",
        "  sum = x + y;\n",
        "  cout << \"Sum is: \" << sum;\n",
        "  return 0;\n",
        "}"
      ],
      "execution_count": null,
      "outputs": []
    },
    {
      "cell_type": "code",
      "metadata": {
        "id": "YWsIYiPoNc2w"
      },
      "source": [
        "!g++ temp.cpp; echo 99 100 | ./a.out"
      ],
      "execution_count": null,
      "outputs": []
    },
    {
      "cell_type": "markdown",
      "metadata": {
        "id": "rMoZBbDnMWWv"
      },
      "source": [
        "# その他 miscellaneous"
      ]
    },
    {
      "cell_type": "markdown",
      "metadata": {
        "id": "DeMOjhEZNCyy"
      },
      "source": [
        "## sort "
      ]
    },
    {
      "cell_type": "code",
      "metadata": {
        "id": "ESksa-pMNF1s"
      },
      "source": [
        "%%writefile temp.cpp\n",
        "\n",
        "#include <algorithm>\n",
        "#include <iostream>\n",
        "using namespace std;\n",
        "int main() {\n",
        "  int array[] = { 23, 5, -10, 0, 0, 321, 1, 2, 99, 30 };\n",
        "  size_t size = sizeof(array) / sizeof(array[0]); \n",
        "  sort(array, array + size);\n",
        "  for (size_t i = 0; i < size; ++i) {\n",
        "     cout << array[i] << ' ';\n",
        "  }\n",
        "  cout << \"\\n\";\n",
        "}"
      ],
      "execution_count": null,
      "outputs": []
    },
    {
      "cell_type": "code",
      "metadata": {
        "id": "GKPRaWqGNK6t"
      },
      "source": [
        "!g++ temp.cpp; ./a.out"
      ],
      "execution_count": null,
      "outputs": []
    },
    {
      "cell_type": "code",
      "metadata": {
        "id": "jpWxNKiKNJY6"
      },
      "source": [
        "%%writefile temp.cpp\n",
        "\n",
        "#include <algorithm>\n",
        "#include <iostream>\n",
        "#include <vector>\n",
        "using namespace std;\n",
        "int main() {\n",
        "  vector<int> vec { 23, 5, -10, 0, 0, 321, 1, 2, 99, 30 };\n",
        "  sort(vec.begin(), vec.end());\n",
        "  for (int i = 0; i < vec.size(); ++i) {\n",
        "     cout << vec[i] << ' ';\n",
        "  }\n",
        "  cout << \"\\n\";\n",
        "}"
      ],
      "execution_count": null,
      "outputs": []
    },
    {
      "cell_type": "code",
      "metadata": {
        "id": "W6redAJ1N4nN"
      },
      "source": [
        "!g++ temp.cpp; ./a.out"
      ],
      "execution_count": null,
      "outputs": []
    },
    {
      "cell_type": "code",
      "metadata": {
        "id": "hhOG4DUnOp61"
      },
      "source": [
        "%%writefile temp.cpp\n",
        "\n",
        "#include <iostream>\n",
        "#include <boost/foreach.hpp>\n",
        "#include <vector>\n",
        "#include <algorithm>\n",
        "using namespace std;\n",
        " \n",
        "void\n",
        "dump(vector<int>& v)\n",
        "{\n",
        "        BOOST_FOREACH(int x, v) {\n",
        "                cout << x << \"\\n\";\n",
        "        }\n",
        "}\n",
        " \n",
        "int\n",
        "main (int argc, char *argv[])\n",
        "{\n",
        "        vector<int> v;\n",
        " \n",
        "        v.push_back ( 3 );\n",
        "        v.push_back ( 4 );\n",
        "        v.push_back ( 1 );\n",
        "        v.push_back ( 2 );\n",
        " \n",
        "        cout << \"Before sort\" << \"\\n\";\n",
        "        dump (v);\n",
        " \n",
        "        std::sort(v.begin(), v.end() );\n",
        " \n",
        "        cout << \"After sort\" << \"\\n\";\n",
        "        dump (v);\n",
        "        return 0;\n",
        "}"
      ],
      "execution_count": null,
      "outputs": []
    },
    {
      "cell_type": "code",
      "metadata": {
        "id": "zzUci1vXOp1Z"
      },
      "source": [
        "!g++ temp.cpp; ./a.out"
      ],
      "execution_count": null,
      "outputs": []
    },
    {
      "cell_type": "code",
      "metadata": {
        "id": "ph5fdv_KPTVc"
      },
      "source": [
        "%%writefile temp.cpp\n",
        "\n",
        "#include <iostream>\n",
        "#include <boost/foreach.hpp>\n",
        "#include <vector>\n",
        "#include <algorithm>\n",
        " \n",
        "using namespace std;\n",
        " \n",
        "void\n",
        "dump(vector<int>& v)\n",
        "{\n",
        "        BOOST_FOREACH(int x, v) {\n",
        "                cout << x << \"\\n\";\n",
        "        }\n",
        "}\n",
        " \n",
        "int\n",
        "main (int argc, char *argv[])\n",
        "{\n",
        "        vector<int> v;\n",
        " \n",
        "        v.push_back ( 3 );\n",
        "        v.push_back ( 4 );\n",
        "        v.push_back ( 1 );\n",
        "        v.push_back ( 2 );\n",
        " \n",
        "        cout << \"Before sort\" << \"\\n\";\n",
        "        dump (v);\n",
        " \n",
        "        std::sort(v.begin(), v.end(), std::greater<int>() );\n",
        " \n",
        "        cout << \"After sort\" << \"\\n\";\n",
        "        dump (v);\n",
        "        return 0;\n",
        "}"
      ],
      "execution_count": null,
      "outputs": []
    },
    {
      "cell_type": "code",
      "metadata": {
        "id": "eBcfciPHPTIy"
      },
      "source": [
        "!g++ temp.cpp; ./a.out"
      ],
      "execution_count": null,
      "outputs": []
    },
    {
      "cell_type": "markdown",
      "metadata": {
        "id": "nfQcQR1OoF55"
      },
      "source": [
        "## enum 列挙型"
      ]
    },
    {
      "cell_type": "code",
      "metadata": {
        "id": "KwxN6tUsoIXM"
      },
      "source": [
        "%%writefile temp.cpp\n",
        "#include <iostream>\n",
        "using namespace std;\n",
        "\n",
        "enum Day {\n",
        "  Sun,  // 0\n",
        "  Mon,  // 1\n",
        "  Tue,  // 2\n",
        "  Wed,  // 3\n",
        "  Thu,  // 4\n",
        "  Fri,  // 5\n",
        "  Sat   // 6\n",
        "};\n",
        "\n",
        "int main() {\n",
        "    Day day = Wed;\n",
        "    cout << day << \"\\n\";\n",
        "    cout << Sun << \"\\n\";\n",
        "    return 0;\n",
        "}\n",
        "\n"
      ],
      "execution_count": null,
      "outputs": []
    },
    {
      "cell_type": "code",
      "metadata": {
        "id": "Ua4g7D7voIwe"
      },
      "source": [
        "!g++ temp.cpp; ./a.out"
      ],
      "execution_count": null,
      "outputs": []
    },
    {
      "cell_type": "markdown",
      "metadata": {
        "id": "g1gHIp65pTbM"
      },
      "source": [
        "これでは名前空間を汚してしまって不便なので、enum class がある。"
      ]
    },
    {
      "cell_type": "code",
      "metadata": {
        "id": "mP4SOJOBpbLw"
      },
      "source": [
        "%%writefile temp.cpp\n",
        "#include <iostream>\n",
        "using namespace std;\n",
        "\n",
        "enum class Day {\n",
        "  Sun,  // 0\n",
        "  Mon,  // 1\n",
        "  Tue,  // 2\n",
        "  Wed,  // 3\n",
        "  Thu,  // 4\n",
        "  Fri,  // 5\n",
        "  Sat   // 6\n",
        "};\n",
        "\n",
        "int main() {\n",
        "    Day day = Day::Wed;\n",
        "    cout << int(day) << \"\\n\";\n",
        "    cout << int(Day::Sun) << \"\\n\";\n",
        "    return 0;\n",
        "}\n",
        "\n"
      ],
      "execution_count": null,
      "outputs": []
    },
    {
      "cell_type": "code",
      "metadata": {
        "id": "smD_cR16pat1"
      },
      "source": [
        "!g++ temp.cpp; ./a.out"
      ],
      "execution_count": null,
      "outputs": []
    },
    {
      "cell_type": "markdown",
      "metadata": {
        "id": "NqvWlkJYspUb"
      },
      "source": [
        "## 参照 reference"
      ]
    },
    {
      "cell_type": "code",
      "metadata": {
        "id": "ElUDAhDLso_Q"
      },
      "source": [
        "%%writefile temp.cpp\n",
        "#include <iostream>\n",
        "using namespace std;\n",
        "\n",
        "int main (){\n",
        "    int x = 100;\n",
        "    int* p = &x; // pはポインタ型\n",
        "    int& r = x; // rは参照型\n",
        "\n",
        "    *p = 200;\n",
        "    r = 300;\n",
        "    cout << x << \"\\n\";\n",
        "}\n"
      ],
      "execution_count": null,
      "outputs": []
    },
    {
      "cell_type": "code",
      "metadata": {
        "id": "NOFgDHRusrs7"
      },
      "source": [
        "!g++ temp.cpp; ./a.out"
      ],
      "execution_count": null,
      "outputs": []
    },
    {
      "cell_type": "markdown",
      "metadata": {
        "id": "MfdbtfCCngg8"
      },
      "source": [
        "# 関数ポインター、関数オブジェクト"
      ]
    },
    {
      "cell_type": "code",
      "metadata": {
        "id": "3tnB25w1zrxL"
      },
      "source": [
        "%%writefile temp.cpp\n",
        "#include <iostream>\n",
        "\n",
        "int Add(int x, int y) {\n",
        "    return x + y;\n",
        "}\n",
        "\n",
        "int main() {\n",
        "    int (*fp)(int, int) = Add;  // 関数 Add のアドレスを保持する関数ポインタ fp\n",
        "    int result = fp(3, 5);      // 関数ポインタ fp を介して関数 Add が実行される\n",
        "    std::cout << result << \"\\n\";  // 8\n",
        "\n",
        "    return 0;\n",
        "}"
      ],
      "execution_count": null,
      "outputs": []
    },
    {
      "cell_type": "code",
      "metadata": {
        "id": "hxa_wTdV0GCp"
      },
      "source": [
        "!g++ temp.cpp; ./a.out"
      ],
      "execution_count": null,
      "outputs": []
    },
    {
      "cell_type": "code",
      "metadata": {
        "id": "UfSNvmIw0P9w"
      },
      "source": [
        "%%writefile temp.cpp\n",
        "#include <iostream>\n",
        "\n",
        "int Add(int x, int y) {\n",
        "    return x + y;\n",
        "}\n",
        "\n",
        "int main() {\n",
        "    auto fp = Add;  // 関数 Add のアドレスを保持する関数ポインタ fp\n",
        "    int result = fp(3, 5);      // 関数ポインタ fp を介して関数 Add が実行される\n",
        "    std::cout << result << \"\\n\";  // 8\n",
        "\n",
        "    return 0;\n",
        "}"
      ],
      "execution_count": null,
      "outputs": []
    },
    {
      "cell_type": "code",
      "metadata": {
        "id": "R5u8ZcTw0lT2"
      },
      "source": [
        "!g++ temp.cpp; ./a.out"
      ],
      "execution_count": null,
      "outputs": []
    },
    {
      "cell_type": "markdown",
      "metadata": {
        "id": "XRehluVA04rm"
      },
      "source": [
        "## ラムダ式 lambda expression"
      ]
    },
    {
      "cell_type": "code",
      "metadata": {
        "id": "AeNX7Mf604JS"
      },
      "source": [
        "%%writefile temp.cpp\n",
        "#include <iostream>\n",
        "\n",
        "int main() {\n",
        "    // auto 変数名 = [ キャプチャ ]( 引数リスト ) -> 戻り値の型 { 処理内容 };\n",
        "    auto func = [](int a, int b) -> int { return a + b; };  // int を2つ受け取り、足した結果を返すラムダ式\n",
        "\n",
        "    int result = func(4, 6);\n",
        "    std::cout << result << \"\\n\";  // 10\n",
        "}"
      ],
      "execution_count": null,
      "outputs": []
    },
    {
      "cell_type": "code",
      "metadata": {
        "id": "DxpK77U703aY"
      },
      "source": [
        "!g++ temp.cpp; ./a.out"
      ],
      "execution_count": null,
      "outputs": []
    },
    {
      "cell_type": "code",
      "metadata": {
        "id": "cKWDI5_27IPT"
      },
      "source": [
        "%%writefile temp.cpp\n",
        "#include <iostream>\n",
        "\n",
        "int main() {\n",
        "    int init = 5;\n",
        "\n",
        "    // キャプチャを指定することで {} 内で変数 init を使うことができる\n",
        "    auto f = [init](int a, int b) { return init + a * b; };   // コピーキャプチャ\n",
        "    auto g = [&init](int a, int b) { return init + a * b; };  // 参照キャプチャ\n",
        "\n",
        "    init = 0;\n",
        "\n",
        "    // 【コピーキャプチャの場合】\n",
        "    //    ラムダ式の定義時点で init がコピーされているので、ラムダ式内の init は 5\n",
        "    int result_copy = f(2, 4);\n",
        "    std::cout << result_copy << \"\\n\";  // 13\n",
        "\n",
        "    // 【参照キャプチャの場合】\n",
        "    //    ラムダ式実行時の init の値が参照されるので、ラムダ式内の init は 0\n",
        "    int result_ref = g(2, 4);\n",
        "    std::cout << result_ref << \"\\n\";   // 8\n",
        "}"
      ],
      "execution_count": null,
      "outputs": []
    },
    {
      "cell_type": "code",
      "metadata": {
        "id": "TsWShGFw7IEb"
      },
      "source": [
        "!g++ temp.cpp; ./a.out"
      ],
      "execution_count": null,
      "outputs": []
    },
    {
      "cell_type": "code",
      "metadata": {
        "id": "ETai0R3x8wbt"
      },
      "source": [
        "%%writefile temp.cpp\n",
        "#include <iostream>\n",
        "#include <functional>\n",
        "\n",
        "int Add(int x, int y) {\n",
        "    return x + y;\n",
        "}\n",
        "\n",
        "int main() {\n",
        "    std::function<int(int, int)> f = Add;  // std::function<戻り値の型(引数の型)> 変数名\n",
        "    int result = f(3, 5);                  // f を介して関数 Add が実行される\n",
        "    std::cout << result << \"\\n\";      // 8\n",
        "\n",
        "    f = [](int x, int y) { return x * y; };  // ラムダ式も保持可能\n",
        "    std::cout << f(4, 7) << \"\\n\";       // 28\n",
        "\n",
        "    return 0;\n",
        "}"
      ],
      "execution_count": null,
      "outputs": []
    },
    {
      "cell_type": "code",
      "metadata": {
        "id": "RnKYrFky8wQU"
      },
      "source": [
        "!g++ temp.cpp; ./a.out"
      ],
      "execution_count": null,
      "outputs": []
    },
    {
      "cell_type": "markdown",
      "metadata": {
        "id": "SNOLjBST5O0m"
      },
      "source": [
        "## 配列とポインター"
      ]
    },
    {
      "cell_type": "code",
      "metadata": {
        "id": "wGId5NXL5RXr"
      },
      "source": [
        "%%writefile temp.cpp\n",
        "\n",
        "#include <iostream>\n",
        "\n",
        "int main (){\n",
        "    int x[6] = {2, 4, 6, 8, 10};\n",
        "    int* p = x;\n",
        "    std::cout << *p << \"\\n\";        // 2\n",
        "    std::cout << *(p + 1) << \"\\n\";  // 4\n",
        "    std::cout << *(p + 2) << \"\\n\";  // 6\n",
        "    std::cout << *(p + 3) << \"\\n\";  // 8\n",
        "    std::cout << *(p + 4) << \"\\n\";  // 10\n",
        "\n",
        "    std::cout << *(p + 5) << \"\\n\"; // 0\n",
        "}"
      ],
      "execution_count": null,
      "outputs": []
    },
    {
      "cell_type": "code",
      "metadata": {
        "id": "JSaRG4vV5kWr"
      },
      "source": [
        "!g++ temp.cpp; ./a.out"
      ],
      "execution_count": null,
      "outputs": []
    },
    {
      "cell_type": "markdown",
      "metadata": {
        "id": "iPYHaKYjwBky"
      },
      "source": [
        "次の例で、PrintArray1とPrintArray2は完全に同一。一見すると、PrintArray1 は配列の個数も渡しているように見えるが、実質はポインターを渡しているだけ。"
      ]
    },
    {
      "cell_type": "code",
      "metadata": {
        "id": "3ztmFecm7Bzr"
      },
      "source": [
        "%%writefile temp.cpp\n",
        "\n",
        "#include <iostream>\n",
        "\n",
        "void PrintArray1(const int x[5]) {\n",
        "    static_assert(sizeof(x)==sizeof(int*), \"\");\n",
        "    for (int i = 0; i < 5; ++i) {\n",
        "        std::cout << x[i] << \"\\n\";\n",
        "    }\n",
        "}\n",
        "\n",
        "void PrintArray2(const int* x) {\n",
        "    for (int i = 0; i < 5; ++i) {\n",
        "        std::cout << x[i] << \"\\n\";\n",
        "    }\n",
        "}\n",
        "\n",
        "int main() {\n",
        "    int x[5] = {0, 1, 2, 3, 4};\n",
        "\n",
        "    PrintArray1(x);\n",
        "    PrintArray2(x);\n",
        "\n",
        "    return 0;\n",
        "}"
      ],
      "execution_count": null,
      "outputs": []
    },
    {
      "cell_type": "code",
      "metadata": {
        "id": "4G96oNEY7GNf"
      },
      "source": [
        "!g++ temp.cpp; ./a.out"
      ],
      "execution_count": null,
      "outputs": []
    },
    {
      "cell_type": "markdown",
      "metadata": {
        "id": "3daVg_uZwdvE"
      },
      "source": [
        "従って、正しくは次のように要素数を渡す必要がある。"
      ]
    },
    {
      "cell_type": "code",
      "metadata": {
        "id": "T8c8-6a9wmx9"
      },
      "source": [
        "# 実験 // がarray version で これは vector version\n",
        "%%writefile temp.cpp\n",
        "\n",
        "#include <iostream>\n",
        "#include <vector>\n",
        "\n",
        "// void PrintArray(const int* x, std::size_t num) {\n",
        "void PrintArray(std::vector<int> x, std::size_t num) {\n",
        "    for (std::size_t i = 0; i < num; ++i) {\n",
        "        std::cout << x[i] << \"\\n\";\n",
        "    }\n",
        "}\n",
        "\n",
        "int main() {\n",
        "    // constexpr std::size_t num = 5;\n",
        "    // int x[num] = {0, 1, 2, 3, 4};\n",
        "    std::vector<int>  x = {0, 1, 2, 3, 4};\n",
        "\n",
        "    // PrintArray(x, num);\n",
        "    PrintArray(x, x.size());\n",
        "\n",
        "    return 0;\n",
        "}\n"
      ],
      "execution_count": null,
      "outputs": []
    },
    {
      "cell_type": "code",
      "metadata": {
        "id": "a9yiiZGRwmm7"
      },
      "source": [
        "!g++ temp.cpp; ./a.out"
      ],
      "execution_count": null,
      "outputs": []
    },
    {
      "cell_type": "code",
      "metadata": {
        "id": "RzhHagqtxnAQ"
      },
      "source": [
        "# 実験 C++17のstd:sizeを使ってみる\n",
        "%%writefile temp.cpp\n",
        "\n",
        "#include <iostream>\n",
        "\n",
        "void PrintArray(int* x, int num) {\n",
        "    for (int i = 0; i < num; ++i) {\n",
        "        std::cout << x[i] << \"\\n\";\n",
        "    }\n",
        "}\n",
        "\n",
        "int main() {\n",
        "    int x[5] = {0, 1, 2, 3, 4};\n",
        "\n",
        "    PrintArray(x, std::size(x));\n",
        "\n",
        "    return 0;\n",
        "}\n"
      ],
      "execution_count": null,
      "outputs": []
    },
    {
      "cell_type": "code",
      "metadata": {
        "id": "q-amuNJVxnbj"
      },
      "source": [
        "!g++ -std=gnu++17 arrayint04.cpp -o arrayint04; ./arrayint04"
      ],
      "execution_count": null,
      "outputs": []
    },
    {
      "cell_type": "code",
      "metadata": {
        "id": "9Us2ZKnW0YAM"
      },
      "source": [
        "# C++11では次のようにするとか\n",
        "%%script false\n",
        "\n",
        "#include <cstddef>\n",
        "template <class T, std::size_t N>\n",
        "constexpr std::size_t size(const T (&)[N]) noexcept { return N; }"
      ],
      "execution_count": null,
      "outputs": []
    },
    {
      "cell_type": "markdown",
      "metadata": {
        "id": "VMLwYQ0k04O2"
      },
      "source": [
        "やってみる"
      ]
    },
    {
      "cell_type": "code",
      "metadata": {
        "id": "otgfcxgx07tJ"
      },
      "source": [
        "# 実験\n",
        "%%writefile temp.cpp\n",
        "\n",
        "#include <iostream>\n",
        "#include <cstddef>\n",
        "template <class T, std::size_t N>\n",
        "constexpr std::size_t size(const T (&)[N]) noexcept { return N; }\n",
        "\n",
        "void PrintArray(int* x, int num) {\n",
        "    for (int i = 0; i < num; ++i) {\n",
        "        std::cout << x[i] << \"\\n\";\n",
        "    }\n",
        "}\n",
        "\n",
        "int main() {\n",
        "    int x[5] = {0, 1, 2, 3, 4};\n",
        "\n",
        "    PrintArray(x, size(x));\n",
        "\n",
        "    return 0;\n",
        "}\n"
      ],
      "execution_count": null,
      "outputs": []
    },
    {
      "cell_type": "code",
      "metadata": {
        "id": "klqMCPUs07g6"
      },
      "source": [
        "!g++ temp.cpp; ./a.out"
      ],
      "execution_count": null,
      "outputs": []
    },
    {
      "cell_type": "markdown",
      "metadata": {
        "id": "BQRoEOVrxEJr"
      },
      "source": [
        "テンプレートの文法についてはとりあえずわからないので、別途学ぶ。 かも。"
      ]
    },
    {
      "cell_type": "markdown",
      "metadata": {
        "id": "xEAHzwaA2s7q"
      },
      "source": [
        "std::arrayで配列を作るとx.size()で要素数が取得できるとか。 こっちの方が便利ではないか。\n",
        "\n",
        "やってみよう。 #include <array> する必要がある。"
      ]
    },
    {
      "cell_type": "code",
      "metadata": {
        "id": "oCq-Cjgs3PGq"
      },
      "source": [
        "# 実験\n",
        "%%writefile temp.cpp\n",
        "\n",
        "#include <iostream>\n",
        "#include <array>\n",
        "\n",
        "void PrintArray(std::array<int,5> x, std::size_t num) {\n",
        "    for (std::size_t i = 0; i < num; ++i) {\n",
        "        std::cout << x[i] << \"\\n\";\n",
        "    }\n",
        "}\n",
        "\n",
        "int main() {\n",
        "    std::array<int, 5> x = {0, 1, 2, 3, 4};\n",
        "\n",
        "    PrintArray(x, x.size());\n",
        "\n",
        "    return 0;\n",
        "}\n",
        "\n",
        "\n"
      ],
      "execution_count": null,
      "outputs": []
    },
    {
      "cell_type": "code",
      "metadata": {
        "id": "Yvshq3DR3O_G"
      },
      "source": [
        "!g++ temp.cpp; ./a.out"
      ],
      "execution_count": null,
      "outputs": []
    },
    {
      "cell_type": "code",
      "metadata": {
        "id": "0RQz7vJo5__7"
      },
      "source": [
        "# 実験 cpprefjp.github.io にある例\n",
        "\n",
        "%%writefile temp.cpp\n",
        "\n",
        "#include <iostream>\n",
        "#include <array>\n",
        "#include <algorithm>\n",
        "\n",
        "int main()\n",
        "{\n",
        "  // 3要素のint型配列を定義し、初期化子リストで初期化\n",
        "  std::array<int, 3> ar = {3, 1, 4};\n",
        "\n",
        "  // size()メンバ関数による要素数取得\n",
        "  for (std::size_t i = 0; i < ar.size(); ++i) {\n",
        "    ++ar[i]; // operator[]で任意の要素にランダムアクセス\n",
        "  }\n",
        "\n",
        "  // イテレータによる要素の横断\n",
        "  std::for_each(ar.begin(), ar.end(), [](int x) {\n",
        "    std::cout << x << \"\\n\";\n",
        "  });\n",
        "}"
      ],
      "execution_count": null,
      "outputs": []
    },
    {
      "cell_type": "code",
      "metadata": {
        "id": "0qRpGxmz6AhE"
      },
      "source": [
        "!g++ temp.cpp; ./a.out"
      ],
      "execution_count": null,
      "outputs": []
    },
    {
      "cell_type": "markdown",
      "metadata": {
        "id": "Vrz7cOHEsVSY"
      },
      "source": [
        "# タプル tuple"
      ]
    },
    {
      "cell_type": "code",
      "metadata": {
        "id": "-ikV0bw7sbzr"
      },
      "source": [
        "# タプル定義のバリエーション\n",
        "%%script false\n",
        "\n",
        "std::tuple<std::string, int> person { \"Bob\", 20 };\n",
        "std::tuple<std::string, int> person(\"Bob\", 20);\n",
        "std::tuple<std::string, int> person = std::make_tuple(\"Bob\", 20);\n",
        "\n",
        "# 要素の取り出し方\n",
        "std::get<0>(person);    // \"Bob\"\n",
        "std::get<1>(person);    // 20"
      ],
      "execution_count": null,
      "outputs": []
    },
    {
      "cell_type": "code",
      "metadata": {
        "id": "okmQrvrmsbAJ"
      },
      "source": [
        "%%writefile temp.cpp\n",
        "\n",
        "#include <iostream>\n",
        "#include <tuple>\n",
        "\n",
        "std::tuple<std::string, int, std::string> person { \"Bob\", 20 , \"usa\"};\n",
        "\n",
        "int main() {\n",
        "    std::cout << std::get<0>(person) << \"\\n\";\n",
        "    std::cout << std::get<1>(person) << \"\\n\";\n",
        "    std::cout << std::get<2>(person) << \"\\n\";\n",
        "}"
      ],
      "execution_count": null,
      "outputs": []
    },
    {
      "cell_type": "code",
      "metadata": {
        "id": "JbNRN2QotgwC"
      },
      "source": [
        "!g++ temp.cpp; ./a.out"
      ],
      "execution_count": null,
      "outputs": []
    },
    {
      "cell_type": "markdown",
      "metadata": {
        "id": "M-bj_YaCuS0E"
      },
      "source": [
        "\n",
        "std::tie() という関数を使うとタプルの要素を個別の変数に まとめて代入することができる。"
      ]
    },
    {
      "cell_type": "code",
      "metadata": {
        "id": "1dS3v0Obtqde"
      },
      "source": [
        "%%writefile temp.cpp\n",
        "\n",
        "#include <iostream>\n",
        "#include <tuple>\n",
        "\n",
        "std::tuple<std::string, int, std::string> person { \"Bob\", 20, \"USA\" };\n",
        "\n",
        "int main() {\n",
        "    std::string name;\n",
        "    int age;\n",
        "    std::string country;\n",
        "\n",
        "    std::tie(name, age, country) = person;  // name: \"Bob\", age: 20, country: \"USA\"\n",
        "    std::cout << name << \"\\n\";\n",
        "    std::cout << age << \"\\n\";\n",
        "    std::cout << country << \"\\n\";\n",
        "}"
      ],
      "execution_count": null,
      "outputs": []
    },
    {
      "cell_type": "code",
      "metadata": {
        "id": "Lv2s5Lm9tqPT"
      },
      "source": [
        "!g++ temp.cpp; ./a.out"
      ],
      "execution_count": null,
      "outputs": []
    },
    {
      "cell_type": "markdown",
      "metadata": {
        "id": "eZVGXU__ukvA"
      },
      "source": [
        "# ペア pair\n",
        "\n",
        "ペアは2つの値をひとまとめにして扱うことができる型。 要素数が2つのタプルと同じか?"
      ]
    },
    {
      "cell_type": "code",
      "metadata": {
        "id": "KuUb7wSiusYL"
      },
      "source": [
        "%%writefile temp.cpp\n",
        "\n",
        "#include <iostream>\n",
        "#include <utility>\n",
        "\n",
        "std::pair<std::string, int> person {\"Bob\", 20};\n",
        "\n",
        "int main() {\n",
        "    std::cout << std::get<0>(person) << \"\\n\";\n",
        "    std::cout << std::get<1>(person) << \"\\n\";\n",
        "}\n"
      ],
      "execution_count": null,
      "outputs": []
    },
    {
      "cell_type": "code",
      "metadata": {
        "id": "5ShiQUg4utiR"
      },
      "source": [
        "!g++ temp.cpp; ./a.out"
      ],
      "execution_count": null,
      "outputs": []
    },
    {
      "cell_type": "markdown",
      "metadata": {
        "id": "SflvUsgbvsM_"
      },
      "source": [
        "pair では first, second が使える。"
      ]
    },
    {
      "cell_type": "code",
      "metadata": {
        "id": "HiNtfz0fvUMz"
      },
      "source": [
        "%%writefile temp.cpp\n",
        "\n",
        "#include <iostream>\n",
        "#include <utility>\n",
        "\n",
        "std::pair<std::string, int> person {\"Bob\", 20};\n",
        "\n",
        "int main() {\n",
        "    std::cout << person.first << \"\\n\";\n",
        "    std::cout << person.second << \"\\n\";\n",
        "}\n",
        "\n"
      ],
      "execution_count": null,
      "outputs": []
    },
    {
      "cell_type": "code",
      "metadata": {
        "id": "fOvNI0OavT7z"
      },
      "source": [
        "!g++ temp.cpp; ./a.out"
      ],
      "execution_count": null,
      "outputs": []
    },
    {
      "cell_type": "code",
      "metadata": {
        "id": "9ekUOgudwBta"
      },
      "source": [
        "# pair の初期化のバリエーション\n",
        "\n",
        "%%script false\n",
        "\n",
        "std::pair<std::string, int> person { \"Bob\", 20 };\n",
        "std::pair<std::string, int> person(\"Bob\", 20);\n",
        "std::pair<std::string, int> person = std::make_pair(\"Bob\", 20);"
      ],
      "execution_count": null,
      "outputs": []
    },
    {
      "cell_type": "markdown",
      "metadata": {
        "id": "dsju0xpSwb0-"
      },
      "source": [
        "std::tie() も使えるが #include <tuple> が必要。"
      ]
    },
    {
      "cell_type": "code",
      "metadata": {
        "id": "5pgTJWonwS4z"
      },
      "source": [
        "%%writefile temp.cpp\n",
        "\n",
        "#include <iostream>\n",
        "#include <tuple>\n",
        "\n",
        "std::pair<std::string, int> person { \"Bob\", 20 };\n",
        "\n",
        "int main() {\n",
        "    std::string name;\n",
        "    int age;\n",
        "\n",
        "    std::tie(name, age) = person;  // name: \"Bob\", age: 20\n",
        "\n",
        "    std::cout << name << \"\\n\";\n",
        "    std::cout << age << \"\\n\";\n",
        "    std::cout << person.first << \"\\n\";\n",
        "    std::cout << person.second << \"\\n\";    \n",
        "}"
      ],
      "execution_count": null,
      "outputs": []
    },
    {
      "cell_type": "code",
      "metadata": {
        "id": "WekxnR4_wSrL"
      },
      "source": [
        "!g++ temp.cpp; ./a.out"
      ],
      "execution_count": null,
      "outputs": []
    },
    {
      "cell_type": "markdown",
      "metadata": {
        "id": "qljwdZdfxtGU"
      },
      "source": [
        "`#include <tuple>` すれば `#include <utility>` しなくても、 pair 関係の関数やメソッドは使えるみたい。"
      ]
    },
    {
      "cell_type": "markdown",
      "metadata": {
        "id": "-v9GIoAvy1kE"
      },
      "source": [
        "# ベクター vector\n",
        "\n",
        "要素数を実行時に変更できる配列を扱うには std::vector を使用する。\n",
        "\n"
      ]
    },
    {
      "cell_type": "code",
      "metadata": {
        "id": "X1pCjiDNCNFK"
      },
      "source": [
        "%%writefile temp.cpp\n",
        "#include <iostream>\n",
        "#include <vector>\n",
        "\n",
        "int main() {\n",
        "    std::vector<int> x = {0, 1, 2, 3, 4};\n",
        "    x[2] = 10;\n",
        "    auto size = x.size();  // 5\n",
        "\n",
        "    std::cout << x[2] << \"\\n\";\n",
        "    std::cout << x.size() << \"\\n\";\n",
        "}"
      ],
      "execution_count": null,
      "outputs": []
    },
    {
      "cell_type": "code",
      "metadata": {
        "id": "bhsBLkQHCMn-"
      },
      "source": [
        "!g++ temp.cpp; ./a.out"
      ],
      "execution_count": null,
      "outputs": []
    },
    {
      "cell_type": "code",
      "metadata": {
        "id": "ix0D9yUwF5De"
      },
      "source": [
        "%%writefile temp.cpp\n",
        "#include <iostream>\n",
        "#include <vector>\n",
        "\n",
        "int main() {\n",
        "    std::vector<int> x = {0, 1, 2, 3, 4};\n",
        "    auto size1 = x.size();  // 5\n",
        "    std::cout << size1 << \"\\n\";\n",
        "\n",
        "    x.emplace_back(5);\n",
        "    auto size2 = x.size();  // 6\n",
        "    std::cout << x[5] << \"\\n\";\n",
        "    std::cout << size2 << \"\\n\";\n",
        "\n",
        "    x.pop_back();\n",
        "    auto size3 = x.size();  // 5\n",
        "    std::cout << size3 << \"\\n\";\n",
        "}"
      ],
      "execution_count": null,
      "outputs": []
    },
    {
      "cell_type": "code",
      "metadata": {
        "id": "jieTZe1pF5dm"
      },
      "source": [
        "!g++ temp.cpp; ./a.out"
      ],
      "execution_count": null,
      "outputs": []
    },
    {
      "cell_type": "code",
      "metadata": {
        "id": "kMqkQGnQHHIt"
      },
      "source": [
        "# ベクターの先頭ポインタの取得 x.data()\n",
        "%%writefile temp.cpp\n",
        "#include <iostream>\n",
        "#include <vector>\n",
        "\n",
        "int main() {\n",
        "    std::vector<int> x = {4, 300, 2, 1, 0};\n",
        "    auto px = x.data();  // 先頭ポインタ\n",
        "    auto num = *px;  // 4\n",
        "\n",
        "    std::cout << px << \"\\n\";\n",
        "    std::cout << num << \"\\n\";\n",
        "    std::cout << *(px + 2) << \"\\n\";\n",
        "}"
      ],
      "execution_count": null,
      "outputs": []
    },
    {
      "cell_type": "code",
      "metadata": {
        "id": "blvPc8zwHHhJ"
      },
      "source": [
        "!g++ temp.cpp; ./a.out"
      ],
      "execution_count": null,
      "outputs": []
    },
    {
      "cell_type": "markdown",
      "metadata": {
        "id": "KBH5iLW8K332"
      },
      "source": [
        "# マップ 連想配列 \n",
        "連想配列 associative array は、C++ では std::map として実装される。\n",
        "\n",
        "別途 std::unordered_map もある。\n",
        "\n",
        "std::map はキーでソートしてデータを管理するのに対し、std::unordered_map はキーから計算するハッシュでデータを管理するので、パフォーマンスは std::unordered_map の方が優れている。"
      ]
    },
    {
      "cell_type": "code",
      "metadata": {
        "id": "g0782Y5kLLBZ"
      },
      "source": [
        "%%writefile temp.cpp\n",
        "#include <iostream>\n",
        "#include <unordered_map>\n",
        "\n",
        "std::unordered_map<std::string, int> persons = {\n",
        "    {\"Alice\", 18},\n",
        "    {\"Bob\", 20}\n",
        "};\n",
        "\n",
        "int main(){\n",
        "    std::cout << persons[\"Alice\"] << \"\\n\";  // 18\n",
        "    std::cout << persons[\"Bob\"] << \"\\n\";    // 20\n",
        "    persons.insert({\"Eve\", 19});\n",
        "    persons.erase(\"Bob\");\n",
        "    std::cout << persons[\"Eve\"] << \"\\n\";    // 19\n",
        "}"
      ],
      "execution_count": null,
      "outputs": []
    },
    {
      "cell_type": "code",
      "metadata": {
        "id": "rzKPw379LLmh"
      },
      "source": [
        "!g++ temp.cpp; ./a.out"
      ],
      "execution_count": null,
      "outputs": []
    },
    {
      "cell_type": "markdown",
      "metadata": {
        "id": "UYZkdLvzRrla"
      },
      "source": [
        "# セット set 集合\n",
        "std::set または std::unordered_set という型で任意の型の集合を扱う。\n",
        "\n",
        "パーフォーマンスは std::unordered_set の方が高い。\n"
      ]
    },
    {
      "cell_type": "code",
      "metadata": {
        "id": "vFy_wNC0TGwI"
      },
      "source": [
        "%%writefile temp.cpp\n",
        "#include <iostream>\n",
        "#include <unordered_set>\n",
        "\n",
        "std::unordered_set<std::string> persons = {\n",
        "    \"Alice\",\n",
        "    \"Bob\"\n",
        "};\n",
        "\n",
        "int main (){\n",
        "    persons.insert(\"Eve\");\n",
        "    persons.erase(\"Bob\");\n",
        "    for(auto x : persons) {\n",
        "        std::cout << x << \"\\n\";     // 要素を順に表示\n",
        "    }\n",
        "\n",
        "}"
      ],
      "execution_count": null,
      "outputs": []
    },
    {
      "cell_type": "code",
      "metadata": {
        "id": "loQE4HyRTGeF"
      },
      "source": [
        "!g++ temp.cpp; ./a.out"
      ],
      "execution_count": null,
      "outputs": []
    },
    {
      "cell_type": "markdown",
      "metadata": {
        "id": "Dz8dchG_UqBQ"
      },
      "source": [
        "# イテレーター iterator\n",
        "イテレーターを使うとポインターの処理が共通化できる、とか。"
      ]
    },
    {
      "cell_type": "code",
      "metadata": {
        "id": "3M9qpQsxU1vX"
      },
      "source": [
        "%%writefile temp.cpp\n",
        "#include <iostream>\n",
        "#include <vector>\n",
        "\n",
        "std::vector<int> x = {0, 1, 2, 3, 4};\n",
        "\n",
        "\n",
        "int main (){\n",
        "    // begin() でコンテナ内の先頭要素を指すイテレータを取得\n",
        "    auto it = x.begin();\n",
        "\n",
        "    // イテレータを使用して要素を出力\n",
        "    std::cout << *it << \"\\n\";  // 0\n",
        "\n",
        "    // イテレータを1つ進める\n",
        "    ++it;\n",
        "\n",
        "    // イテレータを使用して要素を出力\n",
        "    std::cout << *it << \"\\n\";  // 1\n",
        "}\n"
      ],
      "execution_count": null,
      "outputs": []
    },
    {
      "cell_type": "code",
      "metadata": {
        "id": "h0XOIGndU2LZ"
      },
      "source": [
        "!g++ temp.cpp; ./a.out"
      ],
      "execution_count": null,
      "outputs": []
    },
    {
      "cell_type": "code",
      "metadata": {
        "id": "mhrKHIzct44X"
      },
      "source": [
        "%%writefile temp.cpp\n",
        "#include <iostream>\n",
        "#include <vector>\n",
        "std::vector<int> x = {0, 1, 2, 3, 4};\n",
        "\n",
        "int main (){\n",
        "    // end() でコンテナ内の最終要素の1つ先を指すイテレータを取得\n",
        "    for (auto it = x.begin(); it != x.end(); ++it) {\n",
        "        std::cout << *it << \"\\n\";\n",
        "    }\n",
        "}"
      ],
      "execution_count": null,
      "outputs": []
    },
    {
      "cell_type": "code",
      "metadata": {
        "id": "KySbv1Zst4nT"
      },
      "source": [
        "!g++ temp.cpp; ./a.out"
      ],
      "execution_count": null,
      "outputs": []
    },
    {
      "cell_type": "code",
      "metadata": {
        "id": "Aq0WhTheuZch"
      },
      "source": [
        "%%writefile temp.cpp\n",
        "#include <iostream>\n",
        "#include <string>\n",
        "#include <unordered_set>\n",
        "std::unordered_set<std::string> x = {\"Bob\", \"Me\", \"Papa\", \"Bob\"};\n",
        "\n",
        "int main (){\n",
        "    // end() でコンテナ内の最終要素の1つ先を指すイテレータを取得\n",
        "    for (auto it = x.begin(); it != x.end(); ++it) {\n",
        "        std::cout << *it << \"\\n\";\n",
        "    }\n",
        "}"
      ],
      "execution_count": null,
      "outputs": []
    },
    {
      "cell_type": "code",
      "metadata": {
        "id": "F31WtlbXuZQJ"
      },
      "source": [
        "!g++ temp.cpp; ./a.out"
      ],
      "execution_count": null,
      "outputs": []
    },
    {
      "cell_type": "code",
      "metadata": {
        "id": "QO3GU-pewozo"
      },
      "source": [
        "%%writefile temp.cpp\n",
        "#include <iostream>\n",
        "#include <vector>\n",
        "#include <algorithm>\n",
        "\n",
        "std::vector<int> x = {0, 1, 2, 3, 4};\n",
        "\n",
        "int main (){\n",
        "    // std::count_if は条件を満たすコンテナ要素の個数を数える処理\n",
        "    //   - 第1引数と第2引数で範囲を指定\n",
        "    //   - 第3引数で関数オブジェクトで条件を指定\n",
        "    auto n = std::count_if(x.begin(), x.end(), [](const int v) {\n",
        "        // 0 より大きい 2 の倍数\n",
        "        if (v <= 0) {\n",
        "            return false;\n",
        "        }\n",
        "        if (v % 2 != 0) {\n",
        "            return false;\n",
        "        }\n",
        "        return true;\n",
        "    });\n",
        "    std::cout << n << \"\\n\";  // 2\n",
        "}"
      ],
      "execution_count": null,
      "outputs": []
    },
    {
      "cell_type": "code",
      "metadata": {
        "id": "3ChdZa8wwooS"
      },
      "source": [
        "!g++ temp.cpp; ./a.out"
      ],
      "execution_count": null,
      "outputs": []
    },
    {
      "cell_type": "code",
      "metadata": {
        "id": "y8g65mfrxRHo"
      },
      "source": [
        "%%writefile temp.cpp\n",
        "#include <iostream>\n",
        "#include <map>\n",
        "\n",
        "std::map<std::string, int> persons = {\n",
        "    {\"Alice\", 18},\n",
        "    {\"Bob\", 20}\n",
        "};\n",
        "\n",
        "int main (){\n",
        "    for (auto it = persons.begin(); it != persons.end(); ++it) {\n",
        "        const auto& person = *it;  // std::pair<std::string, int>\n",
        "        const std::string& name = person.first;\n",
        "        const int age = person.second;\n",
        "        std::cout << name << \": \" << age << \"\\n\";\n",
        "    }\n",
        "}"
      ],
      "execution_count": null,
      "outputs": []
    },
    {
      "cell_type": "code",
      "metadata": {
        "id": "81iU-FZuxQ3m"
      },
      "source": [
        "!g++ temp.cpp; ./a.out"
      ],
      "execution_count": null,
      "outputs": []
    },
    {
      "cell_type": "code",
      "metadata": {
        "id": "Jv9sVfI6yQvL"
      },
      "source": [
        "%%writefile temp.cpp\n",
        "#include <iostream>\n",
        "#include <vector>\n",
        "\n",
        "std::vector<int> x = {0, 1, 2, 3, 4};\n",
        "\n",
        "int main (){\n",
        "    auto it = x.begin();\n",
        "    std::cout << *it << \"\\n\";  // 0\n",
        "\n",
        "    ++it;  // 前に進める\n",
        "    std::cout << *it << \"\\n\";  // 1\n",
        "\n",
        "    --it;  // 後ろへ戻す\n",
        "    std::cout << *it << \"\\n\";  // 0\n",
        "\n",
        "    it = it + 3;  // 3つ前に進める\n",
        "    std::cout << *it << \"\\n\";  // 3\n",
        "\n",
        "    // it は変更せずに it から2つ後ろへ戻した要素を参照\n",
        "    std::cout << it[-2] << \"\\n\";  // 1 (it から2つ後ろへ戻した要素)\n",
        "    std::cout << *it << \"\\n\";  // 3 (it は変更されていない)\n",
        "}"
      ],
      "execution_count": null,
      "outputs": []
    },
    {
      "cell_type": "code",
      "metadata": {
        "id": "az8KpEeOyQmI"
      },
      "source": [
        "!g++ temp.cpp; ./a.out"
      ],
      "execution_count": null,
      "outputs": []
    },
    {
      "cell_type": "code",
      "metadata": {
        "id": "7ayHoBKozZe3"
      },
      "source": [
        "%%writefile temp.cpp\n",
        "#include <iostream>\n",
        "#include <vector>\n",
        "\n",
        "std::vector<int> x = {0, 1, 2, 3, 4, 5, 6};\n",
        "\n",
        "int main (){\n",
        "    auto it1 = x.begin() + 2;\n",
        "    auto it2 = x.begin() + 3;\n",
        "    auto it3 = x.begin() + 4;\n",
        "    std::cout << *it1 << \"\\n\";  // 2\n",
        "    std::cout << *it2 << \"\\n\";  // 3\n",
        "    std::cout << *it3 << \"\\n\";  // 4\n",
        "\n",
        "    x.erase(x.begin() + 3);  // index=3 の要素を削除\n",
        "\n",
        "    std::cout << *it1 << \"\\n\";  // 2 (有効なまま)\n",
        "    std::cout << *it2 << \"\\n\";  // 未定義動作 (無効化される)\n",
        "    std::cout << *it3 << \"\\n\";  // 未定義動作 (無効化される)\n",
        "}"
      ],
      "execution_count": null,
      "outputs": []
    },
    {
      "cell_type": "code",
      "metadata": {
        "id": "osym1JErzZSS"
      },
      "source": [
        "!g++ temp.cpp; ./a.out"
      ],
      "execution_count": null,
      "outputs": []
    },
    {
      "cell_type": "markdown",
      "metadata": {
        "id": "l7W7mghXz7-1"
      },
      "source": [
        "# 範囲 for"
      ]
    },
    {
      "cell_type": "code",
      "metadata": {
        "id": "SCC_-rmp1PSe"
      },
      "source": [
        "%%writefile temp.cpp\n",
        "#include <iostream>\n",
        "#include <vector>\n",
        "\n",
        "std::vector<int> x = {0, 1, 2, 3, 4};\n",
        "\n",
        "int main (){\n",
        "    for (auto it = x.begin(); it != x.end(); ++it) {\n",
        "        std::cout << *it << \"\\n\";\n",
        "    }\n",
        "}"
      ],
      "execution_count": null,
      "outputs": []
    },
    {
      "cell_type": "code",
      "metadata": {
        "id": "L3ySkqeJ1PE-"
      },
      "source": [
        ""
      ],
      "execution_count": null,
      "outputs": []
    },
    {
      "cell_type": "code",
      "metadata": {
        "id": "3xVtGjAK112z"
      },
      "source": [
        "%%writefile temp.cpp\n",
        "#include <iostream>\n",
        "#include <vector>\n",
        "\n",
        "std::vector<int> x = {0, 1, 2, 3, 4};\n",
        "\n",
        "int main (){\n",
        "    for (auto&& it : x) {\n",
        "        std::cout << it << \"\\n\";\n",
        "    }\n",
        "}"
      ],
      "execution_count": null,
      "outputs": []
    },
    {
      "cell_type": "code",
      "metadata": {
        "id": "m5WVTrEe11p8"
      },
      "source": [
        "!g++ temp.cpp; ./a.out"
      ],
      "execution_count": null,
      "outputs": []
    },
    {
      "cell_type": "code",
      "metadata": {
        "id": "A9faxl1u2YZK"
      },
      "source": [
        "%%writefile temp.cpp\n",
        "#include <iostream>\n",
        "\n",
        "int x[] = {0, 1, 2, 3, 4};\n",
        "\n",
        "int main (){\n",
        "    for (auto&& it : x) {\n",
        "        std::cout << it << \"\\n\";\n",
        "    }\n",
        "}"
      ],
      "execution_count": null,
      "outputs": []
    },
    {
      "cell_type": "code",
      "metadata": {
        "id": "GgCEjSSP2YMq"
      },
      "source": [
        "!g++ temp.cpp; ./a.out"
      ],
      "execution_count": null,
      "outputs": []
    },
    {
      "cell_type": "markdown",
      "metadata": {
        "id": "bz-_VMkefKQJ"
      },
      "source": [
        "# 入力値の型指定"
      ]
    },
    {
      "cell_type": "code",
      "metadata": {
        "id": "7fONu8mdD9g8"
      },
      "source": [
        "%%writefile temp.cpp\n",
        "#include <iostream>\n",
        "\n",
        "int main() {\n",
        "    int x = 0;\n",
        "\n",
        "    std::cout << \"整数を入力してください: \";\n",
        "    if (std::cin >> x) {\n",
        "        std::cout << \"入力した整数は \" << x << \" です。\" << \"\\n\";\n",
        "    } else {\n",
        "        std::cout << \"不正な入力です。\" << \"\\n\";\n",
        "    }\n",
        "\n",
        "    return 0;\n",
        "}"
      ],
      "execution_count": null,
      "outputs": []
    },
    {
      "cell_type": "code",
      "metadata": {
        "id": "a_yKgt1oD9TH"
      },
      "source": [
        "!g++ temp.cpp; echo 3 | ./a.out; echo カレー | ./a.out"
      ],
      "execution_count": null,
      "outputs": []
    },
    {
      "cell_type": "markdown",
      "metadata": {
        "id": "GEIBCh_Zf9oX"
      },
      "source": [
        "# メモリー領域 スタックとヒープ"
      ]
    },
    {
      "cell_type": "code",
      "metadata": {
        "id": "udzHxHTCgDVU"
      },
      "source": [
        "%%writefile temp.cpp\n",
        "\n",
        "void Function() {\n",
        "    int x = 100; // ローカル変数xはスタックに確保される。\n",
        "    int y = 200; // ローカル変数yはスタックに確保される。\n",
        "\n",
        "} // 関数の終了とともに変数 x, y はスタックから取り除かれる。\n",
        "  // スタックはLIFO（後入れ先出し）形式のため y, x の順で取り除かれる。\n",
        "\n",
        "int main() {\n",
        "    Function();\n",
        "\n",
        "    return 0;\n",
        "}"
      ],
      "execution_count": null,
      "outputs": []
    },
    {
      "cell_type": "code",
      "metadata": {
        "id": "8qNcblpBgDx3"
      },
      "source": [
        "!g++ temp.cpp; ./a.out"
      ],
      "execution_count": null,
      "outputs": []
    },
    {
      "cell_type": "code",
      "metadata": {
        "id": "RhmsT-COgSc5"
      },
      "source": [
        "%%script false\n",
        "\n",
        "int* p1 = new int(100);  // p1 は new で確保されたメモリ領域を指すポインタ\n",
        "int* p2 = new int[5];    // 配列の場合は [] を付ける\n",
        "\n",
        "delete p1;    // new によって確保されたメモリを delete で解放\n",
        "delete[] p2;  // 配列の場合は [] を付ける"
      ],
      "execution_count": null,
      "outputs": []
    },
    {
      "cell_type": "markdown",
      "metadata": {
        "id": "Gs73afxaglGF"
      },
      "source": [
        "malloc/free を利用することでもメモリの確保・解放は可能だが、C++ での利用は推奨されていない。\n",
        "\n"
      ]
    },
    {
      "cell_type": "markdown",
      "metadata": {
        "id": "pgPzh-ZAguAn"
      },
      "source": [
        "# ディープコピーとシャローコピー"
      ]
    },
    {
      "cell_type": "code",
      "metadata": {
        "id": "KkVhcYxUgSGB"
      },
      "source": [
        "%%writefile temp.cpp\n",
        "#include <iostream>\n",
        "\n",
        "int main() {\n",
        "    int x = 100;\n",
        "    int y = x; // x を y へディープコピー\n",
        "    y = 50; // y を 50 に書き換える\n",
        "    std::cout << x << \"\\n\"; // x は100のまま\n",
        "}"
      ],
      "execution_count": null,
      "outputs": []
    },
    {
      "cell_type": "code",
      "metadata": {
        "id": "AJ0aZruNhHsM"
      },
      "source": [
        "!g++ temp.cpp; ./a.out"
      ],
      "execution_count": null,
      "outputs": []
    },
    {
      "cell_type": "code",
      "metadata": {
        "id": "tJMvzzPfhLWZ"
      },
      "source": [
        "%%writefile temp.cpp\n",
        "#include <iostream>\n",
        "\n",
        "int main() {\n",
        "    int* x = new int(100);\n",
        "    int* y = x; // x を y へシャローコピー\n",
        "    *y = 50; // y が指す先の値を 50 に書き換える\n",
        "    std::cout << *x << \"\\n\"; // x が指す先の値も 50 になる\n",
        "}"
      ],
      "execution_count": null,
      "outputs": []
    },
    {
      "cell_type": "code",
      "metadata": {
        "id": "ltuT6im4hK9o"
      },
      "source": [
        "!g++ temp.cpp; ./a.out"
      ],
      "execution_count": null,
      "outputs": []
    },
    {
      "cell_type": "code",
      "metadata": {
        "id": "CEbSkDZ-hkMa"
      },
      "source": [
        "%%writefile temp.cpp\n",
        "#include <iostream>\n",
        "\n",
        "void ChangeToFifty1(int v) {  // ディープコピー\n",
        "    v = 50;\n",
        "}\n",
        "\n",
        "void ChangeToFifty2(int* v) {  // シャローコピー\n",
        "    *v = 50;\n",
        "}\n",
        "\n",
        "int main() {\n",
        "    int a = 100;\n",
        "    ChangeToFifty1(a);\n",
        "    std::cout << a << \"\\n\";  // 100\n",
        "\n",
        "    int b = 100;\n",
        "    ChangeToFifty2(&b);\n",
        "    std::cout << b << \"\\n\";  // 50\n",
        "\n",
        "    return 0;\n",
        "}"
      ],
      "execution_count": null,
      "outputs": []
    },
    {
      "cell_type": "code",
      "metadata": {
        "id": "evveHUdShj-8"
      },
      "source": [
        "!g++ temp.cpp; ./a.out"
      ],
      "execution_count": null,
      "outputs": []
    },
    {
      "cell_type": "markdown",
      "metadata": {
        "id": "2Y91me4-iSem"
      },
      "source": [
        "# ムーブセマンティクス move semantics %%"
      ]
    },
    {
      "cell_type": "code",
      "metadata": {
        "id": "0p5g855EiWif"
      },
      "source": [
        "%%writefile temp.cpp\n",
        "#include <iostream>\n",
        "#include <string>\n",
        "\n",
        "void Print(std::string&) {\n",
        "    std::cout << \"左辺値参照\" << \"\\n\";\n",
        "}\n",
        "\n",
        "void Print(std::string&&) {\n",
        "    std::cout << \"右辺値参照\" << \"\\n\";\n",
        "}\n",
        "\n",
        "int main() {\n",
        "    std::string str = \"hoge\";\n",
        "\n",
        "    Print(str);\n",
        "    Print(std::move(str));\n",
        "\n",
        "    return 0;\n",
        "}"
      ],
      "execution_count": null,
      "outputs": []
    },
    {
      "cell_type": "code",
      "metadata": {
        "id": "cEIx86hPiW6A"
      },
      "source": [
        "!g++ temp.cpp; ./a.out"
      ],
      "execution_count": null,
      "outputs": []
    },
    {
      "cell_type": "markdown",
      "metadata": {
        "id": "z6mKtwqXiqhd"
      },
      "source": [
        "# スマートポインター"
      ]
    },
    {
      "cell_type": "code",
      "metadata": {
        "id": "cR4nEzYoi_oD"
      },
      "source": [
        "%%writefile temp.cpp\n",
        "#include <iostream>\n",
        "#include <memory>\n",
        "\n",
        "int main() {\n",
        "    std::shared_ptr<int> x = std::make_shared<int>(100); // int* x = new int(100); の代わり\n",
        "                                                         // 所有者は1人。\n",
        "    {\n",
        "        std::shared_ptr<int> y = x; // 通常のポインタ同様、コピーすることで所有権が共有される\n",
        "                                    // 所有者が2人に増える。\n",
        "        std::cout << *y << \"\\n\";\n",
        "    } // y が破棄されて所有者が1人になる。\n",
        "\n",
        "    std::cout << *x << \"\\n\";\n",
        "\n",
        "    return 0;\n",
        "} // 所有者が0人になるので、 x のデストラクタで自動的に delete が行われる。"
      ],
      "execution_count": null,
      "outputs": []
    },
    {
      "cell_type": "code",
      "metadata": {
        "id": "uqwoT0HXi_XI"
      },
      "source": [
        "!g++ temp.cpp; ./a.out"
      ],
      "execution_count": null,
      "outputs": []
    },
    {
      "cell_type": "code",
      "metadata": {
        "id": "-_2KYQfVjvxX"
      },
      "source": [
        "%%writefile temp.cpp\n",
        "#include <iostream>\n",
        "#include <memory>\n",
        "\n",
        "int main() {\n",
        "    std::unique_ptr<int> x(new int(100));\n",
        "    // std::unique_ptr<int> y = x; // コピー出来ない。コンパイルエラー。\n",
        "\n",
        "    std::cout << *x << \"\\n\";\n",
        "\n",
        "    return 0;\n",
        "} // x が所有しているリソースが解放される。"
      ],
      "execution_count": null,
      "outputs": []
    },
    {
      "cell_type": "code",
      "metadata": {
        "id": "Asar4r6rjvga"
      },
      "source": [
        "!g++ temp.cpp; ./a.out"
      ],
      "execution_count": null,
      "outputs": []
    },
    {
      "cell_type": "code",
      "metadata": {
        "id": "d6s5jLpBkBzu"
      },
      "source": [
        "%%writefile temp.cpp\n",
        "#include <iostream>\n",
        "#include <memory>\n",
        "\n",
        "int main() {\n",
        "    std::unique_ptr<int> x(new int(100));\n",
        "    std::unique_ptr<int> y(std::move(x)); // ムーブは出来るため、所有権の移動は可能。\n",
        "                                          // 所有権を移動したため、x は何も所有していない。\n",
        "\n",
        "    std::cout << *y << \"\\n\";\n",
        "\n",
        "    return 0;\n",
        "} // y が所有しているリソースが解放される。"
      ],
      "execution_count": null,
      "outputs": []
    },
    {
      "cell_type": "code",
      "metadata": {
        "id": "9zCx1Vq9kBnU"
      },
      "source": [
        "!g++ temp.cpp; ./a.out"
      ],
      "execution_count": null,
      "outputs": []
    },
    {
      "cell_type": "markdown",
      "metadata": {
        "id": "r8hhb8oZkuPS"
      },
      "source": [
        "`std::auto_ptr` は C++11 では非推奨となっており C++17 では削除されている。"
      ]
    },
    {
      "cell_type": "code",
      "metadata": {
        "id": "RU8Ebl0dkTaR"
      },
      "source": [
        "%%writefile temp.cpp\n",
        "#include <iostream>\n",
        "#include <memory>\n",
        "\n",
        "int main() {\n",
        "    std::shared_ptr<int> sp = std::make_shared<int>(246);\n",
        "    std::weak_ptr<int> wp = sp; // sp を監視対象として wp に登録する\n",
        "\n",
        "    std::shared_ptr<int> sp2 = wp.lock(); // 有効な場合は sp とリソースを共有する sp2 が作られる\n",
        "    if (sp2) {\n",
        "        std::cout << *sp2 << \"\\n\";\n",
        "    } else {\n",
        "        std::cout << \"リソースは解放済み\" << \"\\n\";\n",
        "    }\n",
        "\n",
        "    return 0;\n",
        "}"
      ],
      "execution_count": null,
      "outputs": []
    },
    {
      "cell_type": "code",
      "metadata": {
        "id": "ECCTf-SPkTOm"
      },
      "source": [
        "!g++ temp.cpp; ./a.out"
      ],
      "execution_count": null,
      "outputs": []
    },
    {
      "cell_type": "markdown",
      "metadata": {
        "id": "1ZM6HK3Vl1EC"
      },
      "source": [
        "# 継承 inheritance"
      ]
    },
    {
      "cell_type": "code",
      "metadata": {
        "id": "mEiZTT_bl4WU"
      },
      "source": [
        "%%writefile temp.cpp\n",
        "#include <iostream>\n",
        "\n",
        "class Rectangle {\n",
        " public:\n",
        "    int Area() const {\n",
        "       return height_ * width_;\n",
        "    }\n",
        "\n",
        "    int height_;\n",
        "    int width_;\n",
        "};\n",
        "\n",
        "class Square : public Rectangle {\n",
        " public:\n",
        "    void SetSize(int size) {\n",
        "        height_ = size;\n",
        "        width_ = size;\n",
        "    }\n",
        "};\n",
        "\n",
        "int main() {\n",
        "    Square s;\n",
        "    s.SetSize(10);\n",
        "    std::cout << s.Area() << \"\\n\";\n",
        "    return 0;\n",
        "}"
      ],
      "execution_count": null,
      "outputs": []
    },
    {
      "cell_type": "code",
      "metadata": {
        "id": "83PtdK7gl4mj"
      },
      "source": [
        "!g++ temp.cpp; ./a.out"
      ],
      "execution_count": null,
      "outputs": []
    },
    {
      "cell_type": "markdown",
      "metadata": {
        "id": "2cZuraz-m58m"
      },
      "source": [
        "# Polymorphism 再び"
      ]
    },
    {
      "cell_type": "code",
      "metadata": {
        "id": "bWKVzFpkm-W0"
      },
      "source": [
        "%%writefile temp.cpp\n",
        "#include <iostream>\n",
        "\n",
        "class Rectangle {\n",
        " public:\n",
        "    int Area() const {\n",
        "        return height_ * width_;\n",
        "    }\n",
        "\n",
        "    int height_;\n",
        "    int width_;\n",
        "};\n",
        "\n",
        "class Square : public Rectangle {\n",
        " public:\n",
        "    void SetSize(int size) {\n",
        "        height_ = size;\n",
        "        width_ = size;\n",
        "    }\n",
        "};\n",
        "\n",
        "int main() {\n",
        "    Square s;\n",
        "    s.SetSize(10);\n",
        "\n",
        "    const Rectangle& r = s;\n",
        "    std::cout << \"area = \" << r.Area() << \"\\n\";\n",
        "\n",
        "    return 0;\n",
        "}"
      ],
      "execution_count": null,
      "outputs": []
    },
    {
      "cell_type": "code",
      "metadata": {
        "id": "Jj2Lvom83SKl"
      },
      "source": [
        "!g++ temp.cpp; ./a.out"
      ],
      "execution_count": null,
      "outputs": []
    },
    {
      "cell_type": "code",
      "metadata": {
        "id": "-S1ZsOoj3rXX"
      },
      "source": [
        "%%writefile temp.cpp\n",
        "#include <iostream>\n",
        "\n",
        "class Rectangle {\n",
        " public:\n",
        "    virtual void Describe() const {\n",
        "        std::cout << \"height = \" << height_ << \"\\n\";\n",
        "        std::cout << \"width = \" << width_ << \"\\n\";\n",
        "    }\n",
        "\n",
        "    int height_;\n",
        "    int width_;\n",
        "};\n",
        "\n",
        "class Square : public Rectangle {\n",
        " public:\n",
        "    void SetSize(int size) {\n",
        "        height_ = size;\n",
        "        width_ = size;\n",
        "    }\n",
        "\n",
        "    void Describe() const override {\n",
        "        std::cout << \"size = \" << height_ << \"\\n\";\n",
        "    }\n",
        "};\n",
        "\n",
        "int main() {\n",
        "    Square s;\n",
        "    s.SetSize(10);\n",
        "\n",
        "    const Rectangle& r = s;\n",
        "    r.Describe();\n",
        "\n",
        "    return 0;\n",
        "}"
      ],
      "execution_count": null,
      "outputs": []
    },
    {
      "cell_type": "code",
      "metadata": {
        "id": "MqteWDOZ30Bt"
      },
      "source": [
        "!g++ temp.cpp; ./a.out"
      ],
      "execution_count": null,
      "outputs": []
    },
    {
      "cell_type": "markdown",
      "metadata": {
        "id": "xwW--7Mf46zc"
      },
      "source": [
        "# 純粋仮想関数とインターフェイス\n",
        "\n",
        "定義をもたない仮想関数を純粋仮想関数いう。 純粋仮想関数にするには仮想関数に = 0 をつける。\n",
        "\n",
        "純粋仮想関数があるクラスのオブジェクトは作ることができない。\n",
        "\n",
        "C++ にはインターフェースクラスをつくるための専用の記法はないため、 メンバ関数がすべて純粋仮想関数であるクラスをインターフェースとして使う。"
      ]
    },
    {
      "cell_type": "code",
      "metadata": {
        "id": "BJk9W95v3rHY"
      },
      "source": [
        "%%script false\n",
        "class Polygon {\n",
        " public:\n",
        "    virtual int Area() const = 0;\n",
        "};\n",
        "\n",
        "class Rectangle : public Polygon {\n",
        " public:\n",
        "    int Area() const override {\n",
        "        return height_ * width_;\n",
        "    }\n",
        "\n",
        "    int height_;\n",
        "    int width_;\n",
        "};"
      ],
      "execution_count": null,
      "outputs": []
    },
    {
      "cell_type": "markdown",
      "metadata": {
        "id": "rcjSHjes6W5V"
      },
      "source": [
        "# デストラクタ destructor"
      ]
    },
    {
      "cell_type": "code",
      "metadata": {
        "id": "P0Q4-B8pGRUn"
      },
      "source": [
        "%%writefile temp.cpp\n",
        "#include <iostream>\n",
        "\n",
        "class DynamicArray {\n",
        " public:\n",
        "    DynamicArray(int size, int initial_value) {\n",
        "        data_ = new int[size];\n",
        "        for (auto i = 0; i < size; ++i) {\n",
        "            data_[i] = initial_value;\n",
        "        }\n",
        "    }\n",
        "\n",
        "    ~DynamicArray() {\n",
        "        std::cout << \"DynamicArray::~DynamicArray() is called.\" << \"\\n\";\n",
        "        delete[] data_;\n",
        "    }\n",
        "\n",
        "    void Set(int index, int value) {\n",
        "        data_[index] = value;\n",
        "    }\n",
        "\n",
        "    int Get(int index) const {\n",
        "        return data_[index];\n",
        "    }\n",
        "\n",
        " private:\n",
        "    int* data_;\n",
        "};\n",
        "\n",
        "int main() {\n",
        "    DynamicArray d(5, 1);\n",
        "    std::cout << d.Get(2) << \"\\n\";\n",
        "    d.Set(2, 10);\n",
        "    std::cout << d.Get(2) << \"\\n\";\n",
        "\n",
        "    return 0;\n",
        "}"
      ],
      "execution_count": null,
      "outputs": []
    },
    {
      "cell_type": "code",
      "metadata": {
        "id": "Y8ye_qXqGRFq"
      },
      "source": [
        "!g++ temp.cpp; ./a.out"
      ],
      "execution_count": null,
      "outputs": []
    },
    {
      "cell_type": "code",
      "metadata": {
        "id": "xNahHr68HCJ3"
      },
      "source": [
        "%%writefile temp.cpp\n",
        "#include <iostream>\n",
        "#include <memory>\n",
        "\n",
        "class BasicArray {\n",
        " public:\n",
        "    ~BasicArray() {\n",
        "        std::cout << \"BasicArray::~BasicArray() is called.\" << \"\\n\";\n",
        "    }\n",
        "\n",
        "    virtual void Set(int index, int value) = 0;\n",
        "    virtual int Get(int index) const = 0;\n",
        "};\n",
        "\n",
        "class DynamicArray : public BasicArray {\n",
        " public:\n",
        "    DynamicArray(int size, int initial_value) {\n",
        "        data_ = new int[size];\n",
        "        for (auto i = 0; i < size; ++i) {\n",
        "            data_[i] = initial_value;\n",
        "        }\n",
        "    }\n",
        "\n",
        "    ~DynamicArray() {\n",
        "        std::cout << \"DynamicArray::~DynamicArray() is called.\" << \"\\n\";\n",
        "        delete[] data_;\n",
        "    }\n",
        "\n",
        "    void Set(int index, int value) { data_[index] = value; }\n",
        "\n",
        "    int Get(int index) const { return data_[index]; }\n",
        "\n",
        " private:\n",
        "    int* data_;\n",
        "};\n",
        "\n",
        "int main() {\n",
        "    std::unique_ptr<BasicArray> b(new DynamicArray(5, 1));\n",
        "    std::cout << b->Get(2) << \"\\n\";\n",
        "    b->Set(2, 10);\n",
        "    std::cout << b->Get(2) << \"\\n\";\n",
        "\n",
        "    return 0;\n",
        "}"
      ],
      "execution_count": null,
      "outputs": []
    },
    {
      "cell_type": "code",
      "metadata": {
        "id": "Y4rrLNDzHB7m"
      },
      "source": [
        "!g++ temp.cpp; ./a.out"
      ],
      "execution_count": null,
      "outputs": []
    },
    {
      "cell_type": "code",
      "metadata": {
        "id": "srTvyXp_HphZ"
      },
      "source": [
        "%%writefile temp.cpp\n",
        "#include <iostream>\n",
        "#include <memory>\n",
        "\n",
        "class BasicArray {\n",
        " public:\n",
        "    virtual ~BasicArray() {\n",
        "        std::cout << \"BasicArray::~BasicArray() is called.\" << \"\\n\";\n",
        "    }\n",
        "\n",
        "    virtual void Set(int index, int value) = 0;\n",
        "    virtual int Get(int index) const = 0;\n",
        "};\n",
        "\n",
        "class DynamicArray : public BasicArray {\n",
        " public:\n",
        "    DynamicArray(int size, int initial_value) {\n",
        "        data_ = new int[size];\n",
        "        for (auto i = 0; i < size; ++i) {\n",
        "            data_[i] = initial_value;\n",
        "        }\n",
        "    }\n",
        "\n",
        "    ~DynamicArray() override {\n",
        "        std::cout << \"DynamicArray::~DynamicArray() is called.\" << \"\\n\";\n",
        "        delete[] data_;\n",
        "    }\n",
        "\n",
        "    void Set(int index, int value) { data_[index] = value; }\n",
        "\n",
        "    int Get(int index) const { return data_[index]; }\n",
        "\n",
        " private:\n",
        "    int* data_;\n",
        "};\n",
        "\n",
        "int main() {\n",
        "    std::unique_ptr<BasicArray> b(new DynamicArray(5, 1));\n",
        "    std::cout << b->Get(2) << \"\\n\";\n",
        "    b->Set(2, 10);\n",
        "    std::cout << b->Get(2) << \"\\n\";\n",
        "\n",
        "    return 0;\n",
        "}\n"
      ],
      "execution_count": null,
      "outputs": []
    },
    {
      "cell_type": "code",
      "metadata": {
        "id": "YEsQ1oy5HpNV"
      },
      "source": [
        "!g++ temp.cpp; ./a.out"
      ],
      "execution_count": null,
      "outputs": []
    },
    {
      "cell_type": "markdown",
      "metadata": {
        "id": "N_k64eKtIO0I"
      },
      "source": [
        "# 演算子オーバーロード operator overloading"
      ]
    },
    {
      "cell_type": "code",
      "metadata": {
        "id": "1JOxThaPJMlt"
      },
      "source": [
        "# 単項演算子 unary operator\n",
        "%%writefile temp.cpp\n",
        "#include <iostream>\n",
        "\n",
        "class Integer {\n",
        " public:\n",
        "    explicit Integer(int value) : value_(value) {}\n",
        "\n",
        "    int Value() const {\n",
        "        return value_;\n",
        "    }\n",
        "\n",
        " private:\n",
        "    int value_;\n",
        "};\n",
        "\n",
        "// 負号演算子の対象が引数として渡される\n",
        "Integer operator-(const Integer& v) {\n",
        "    Integer tmp(-v.Value());\n",
        "    return tmp;\n",
        "}\n",
        "\n",
        "int main (){\n",
        "    Integer a(2);\n",
        "    Integer b = -a;\n",
        "\n",
        "    std::cout << a.Value() << \"\\n\";  // 2\n",
        "    std::cout << b.Value() << \"\\n\";  // -2\n",
        "}"
      ],
      "execution_count": null,
      "outputs": []
    },
    {
      "cell_type": "code",
      "metadata": {
        "id": "5YtJtEETJJ9P"
      },
      "source": [
        "!g++ temp.cpp; ./a.out"
      ],
      "execution_count": null,
      "outputs": []
    },
    {
      "cell_type": "code",
      "metadata": {
        "id": "Va3o9zqmJJj5"
      },
      "source": [
        "%%writefile temp.cpp\n",
        "#include <iostream>\n",
        "class Integer {\n",
        " public:\n",
        "    explicit Integer(int value) : value_(value) {}\n",
        "\n",
        "    int Value() const {\n",
        "        return value_;\n",
        "    }\n",
        "\n",
        "    // 負号演算子の対象のメンバ関数\n",
        "    Integer operator-() const {\n",
        "        Integer tmp(-Value());  // 演算対象は自オブジェクトを使用する\n",
        "        return tmp;\n",
        "    }\n",
        "\n",
        " private:\n",
        "    int value_;\n",
        "};\n",
        "\n",
        "int main (){\n",
        "    Integer a(2);\n",
        "    Integer b = -a;\n",
        "\n",
        "    std::cout << a.Value() << \"\\n\";  // 2\n",
        "    std::cout << b.Value() << \"\\n\";  // -2\n",
        "}"
      ],
      "execution_count": null,
      "outputs": []
    },
    {
      "cell_type": "code",
      "metadata": {
        "id": "qrkaBUn5Jh0l"
      },
      "source": [
        "!g++ temp.cpp; ./a.out"
      ],
      "execution_count": null,
      "outputs": []
    },
    {
      "cell_type": "code",
      "metadata": {
        "id": "E21TSGceKVj4"
      },
      "source": [
        "# 二項演算子 binary operator\n",
        "%%writefile temp.cpp\n",
        "#include <iostream>\n",
        "class Integer {\n",
        " public:\n",
        "    explicit Integer(int value) : value_(value) {}\n",
        "\n",
        "    int Value() const {\n",
        "        return value_;\n",
        "    }\n",
        "\n",
        " private:\n",
        "    int value_;\n",
        "};\n",
        "\n",
        "// 加算演算子の左辺が第1引数、右辺が第2引数として渡される\n",
        "Integer operator+(const Integer& lhs, const Integer& rhs) {\n",
        "    Integer tmp(lhs.Value() + rhs.Value());\n",
        "    return tmp;\n",
        "}\n",
        "\n",
        "int main (){\n",
        "    Integer a(2);\n",
        "    Integer b(3);\n",
        "    Integer c = a + b;\n",
        "\n",
        "    std::cout << a.Value() << \"\\n\";  // 2\n",
        "    std::cout << b.Value() << \"\\n\";  // 3\n",
        "    std::cout << c.Value() << \"\\n\";  // 5    \n",
        "}\n"
      ],
      "execution_count": null,
      "outputs": []
    },
    {
      "cell_type": "code",
      "metadata": {
        "id": "Y_h7LQyzKVR2"
      },
      "source": [
        "!g++ temp.cpp; ./a.out"
      ],
      "execution_count": null,
      "outputs": []
    },
    {
      "cell_type": "code",
      "metadata": {
        "id": "kgkl4fm0LAOU"
      },
      "source": [
        "%%writefile temp.cpp\n",
        "#include <iostream>\n",
        "class Integer {\n",
        " public:\n",
        "    explicit Integer(int value) : value_(value) {}\n",
        "\n",
        "    int Value() const {\n",
        "        return value_;\n",
        "    }\n",
        "\n",
        "    // 加算演算子の左辺のメンバ関数に対して、右辺が引数として渡される\n",
        "    Integer operator+(const Integer& rhs) const {\n",
        "        Integer tmp(Value() + rhs.Value());  // 左辺は自オブジェクトを使用する\n",
        "        return tmp;\n",
        "    }\n",
        "\n",
        " private:\n",
        "    int value_;\n",
        "};\n",
        "\n",
        "int main (){\n",
        "    Integer a(2);\n",
        "    Integer b(3);\n",
        "    Integer c = a + b;\n",
        "\n",
        "    std::cout << a.Value() << \"\\n\";  // 2\n",
        "    std::cout << b.Value() << \"\\n\";  // 3\n",
        "    std::cout << c.Value() << \"\\n\";  // 5    \n",
        "}\n"
      ],
      "execution_count": null,
      "outputs": []
    },
    {
      "cell_type": "code",
      "metadata": {
        "id": "Sf9Nd-GnK_8A"
      },
      "source": [
        "!g++ temp.cpp; ./a.out"
      ],
      "execution_count": null,
      "outputs": []
    },
    {
      "cell_type": "code",
      "metadata": {
        "id": "Y_UVe-JkL8SP"
      },
      "source": [
        "# 整数クラスと実数クラスの二項演算子\n",
        "%%script false\n",
        "class Integer {\n",
        " public:\n",
        "    explicit Integer(int value) : value_(value) {}\n",
        "\n",
        "    int Value() const {\n",
        "        return value_;\n",
        "    }\n",
        "\n",
        " private:\n",
        "    int value_;\n",
        "};\n",
        "\n",
        "class RealNumber {\n",
        " public:\n",
        "    explicit RealNumber(double value) : value_(value) {}\n",
        "\n",
        "    double Value() const {\n",
        "        return value_;\n",
        "    }\n",
        "\n",
        " private:\n",
        "    double value_;\n",
        "};\n",
        "\n",
        "RealNumber operator+(const Integer& lhs, const RealNumber& rhs) {\n",
        "    RealNumber tmp(lhs.Value() + rhs.Value());\n",
        "    return tmp;\n",
        "}\n",
        "\n",
        "RealNumber operator+(const RealNumber& lhs, const Integer& rhs) {\n",
        "    RealNumber tmp(lhs.Value() + rhs.Value());\n",
        "    return tmp;\n",
        "}"
      ],
      "execution_count": null,
      "outputs": []
    },
    {
      "cell_type": "markdown",
      "metadata": {
        "id": "NLBdSZGlNAPS"
      },
      "source": [
        "# インクリメント/デクリメント/前置/後置 increment/decrement/prefix/postfix"
      ]
    },
    {
      "cell_type": "code",
      "metadata": {
        "id": "v6NkGfdANLn7"
      },
      "source": [
        "%%writefile temp.cpp\n",
        "#include <iostream>\n",
        "\n",
        "class Integer {\n",
        " public:\n",
        "    explicit Integer(int value) : value_(value) {}\n",
        "\n",
        "    int Value() const {\n",
        "        return value_;\n",
        "    }\n",
        "\n",
        "    Integer& operator++() {\n",
        "        ++value_;\n",
        "        return *this;\n",
        "    }\n",
        "\n",
        " private:\n",
        "    int value_;\n",
        "};\n",
        "\n",
        "int main (){\n",
        "    Integer a(2);\n",
        "    Integer b = ++a;\n",
        "\n",
        "    std::cout << a.Value() << \"\\n\";  // 3\n",
        "    std::cout << b.Value() << \"\\n\";  // 3\n",
        "}"
      ],
      "execution_count": null,
      "outputs": []
    },
    {
      "cell_type": "code",
      "metadata": {
        "id": "itU86hHZNMtr"
      },
      "source": [
        "!g++ temp.cpp; ./a.out"
      ],
      "execution_count": null,
      "outputs": []
    },
    {
      "cell_type": "code",
      "metadata": {
        "id": "LE1ckRhTQ2r3"
      },
      "source": [
        "%%writefile temp.cpp\n",
        "#include <iostream>\n",
        "class Integer {\n",
        " public:\n",
        "    explicit Integer(int value) : value_(value) {}\n",
        "\n",
        "    int Value() const {\n",
        "        return value_;\n",
        "    }\n",
        "\n",
        "    Integer operator++(int) {  // 引数の int は使用しない\n",
        "        Integer tmp(Value());\n",
        "        ++value_;\n",
        "        return tmp;\n",
        "    }\n",
        "\n",
        " private:\n",
        "    int value_;\n",
        "};\n",
        "\n",
        "int main (){\n",
        "    Integer a(2);\n",
        "    Integer b = a++;\n",
        "\n",
        "    std::cout << a.Value() << \"\\n\";  // 3\n",
        "    std::cout << b.Value() << \"\\n\";  // 2\n",
        "}"
      ],
      "execution_count": null,
      "outputs": []
    },
    {
      "cell_type": "code",
      "metadata": {
        "id": "S1-9KxlOQ2aE"
      },
      "source": [
        "!g++ temp.cpp; ./a.out"
      ],
      "execution_count": null,
      "outputs": []
    },
    {
      "cell_type": "markdown",
      "metadata": {
        "id": "-VQnOEri3H_R"
      },
      "source": [
        "# 関数テンプレート"
      ]
    },
    {
      "cell_type": "markdown",
      "metadata": {
        "id": "Orwyx-dx5OR0"
      },
      "source": [
        "型やコンパイル時に定まる値をパラメータ化する機能。 型に依存せず処理を共通化するために使用される。"
      ]
    },
    {
      "cell_type": "code",
      "metadata": {
        "id": "vnEUk5sG5UlU"
      },
      "source": [
        "%%writefile temp.cpp\n",
        "#include <iostream>\n",
        "template <typename T>\n",
        "T Sum(T a, T b) {\n",
        "    return a + b;\n",
        "}\n",
        "int main(){\n",
        "    std::cout << Sum<int>(1, 2)  << \"\\n\";         // 3\n",
        "    std::cout << Sum<double>(1.2, 3.4)  << \"\\n\";  // 4.6\n",
        "}\n"
      ],
      "execution_count": null,
      "outputs": []
    },
    {
      "cell_type": "code",
      "metadata": {
        "id": "Kxoo0Fyv5VDX"
      },
      "source": [
        "!g++ temp.cpp; ./a.out"
      ],
      "execution_count": null,
      "outputs": []
    },
    {
      "cell_type": "markdown",
      "metadata": {
        "id": "5SmWlDsj654F"
      },
      "source": [
        "# クラステンプレート"
      ]
    },
    {
      "cell_type": "code",
      "metadata": {
        "id": "s47KvId16-KS"
      },
      "source": [
        "%%writefile temp.cpp\n",
        "#include <iostream>\n",
        "template <typename T>\n",
        "class Rectangle {\n",
        " public:\n",
        "    Rectangle(T height, T width) : height_(height), width_(width) {}\n",
        "\n",
        "    T Area() const {\n",
        "       return height_ * width_;\n",
        "    }\n",
        "\n",
        " private:\n",
        "    const T height_;\n",
        "    const T width_;\n",
        "};\n",
        "int main(){\n",
        "    Rectangle<int> r1(10, 20);\n",
        "    Rectangle<double> r2(1.2, 3.4);\n",
        "    std::cout << r1.Area() << \"\\n\";  // 200\n",
        "    std::cout << r2.Area() << \"\\n\";  // 4.08\n",
        "}"
      ],
      "execution_count": null,
      "outputs": []
    },
    {
      "cell_type": "code",
      "metadata": {
        "id": "L7EcjG2n698I"
      },
      "source": [
        "!g++ temp.cpp; ./a.out"
      ],
      "execution_count": null,
      "outputs": []
    },
    {
      "cell_type": "markdown",
      "metadata": {
        "id": "U7AbLDO09J6L"
      },
      "source": [
        "# アサーション"
      ]
    },
    {
      "cell_type": "code",
      "metadata": {
        "id": "eWh8xJ029MCL"
      },
      "source": [
        "%%writefile temp.cpp\n",
        "#include <cassert>\n",
        "#include <iostream>\n",
        "#include <limits>\n",
        "#include <vector>\n",
        "\n",
        "int Max(const std::vector<int>& v) {\n",
        "    assert(!v.empty());\n",
        "\n",
        "    int max = std::numeric_limits<int>::min();\n",
        "    for (auto e : v) {\n",
        "        if (e > max) {\n",
        "            max = e;\n",
        "        }\n",
        "    }\n",
        "    return max;\n",
        "}\n",
        "\n",
        "int main() {\n",
        "    std::vector<int> v1 = {1, 2, 3, 4, 5};\n",
        "    std::vector<int> v2;\n",
        "\n",
        "    std::cout << Max(v1) << \"\\n\";\n",
        "    std::cout << Max(v2) << \"\\n\";\n",
        "\n",
        "    return 0;\n",
        "}"
      ],
      "execution_count": null,
      "outputs": []
    },
    {
      "cell_type": "code",
      "metadata": {
        "id": "kzA4HO649Mtv"
      },
      "source": [
        "!g++ temp.cpp; ./a.out"
      ],
      "execution_count": null,
      "outputs": []
    },
    {
      "cell_type": "code",
      "metadata": {
        "id": "3MXY1ge89rBI"
      },
      "source": [
        "%%writefile temp.cpp\n",
        "#include <cassert>\n",
        "\n",
        "template <typename T, int N>\n",
        "class Array {\n",
        "    static_assert(N > 0, \"サイズは0より大きくなければなりません\");\n",
        "\n",
        " public:\n",
        "    int size() const { return N; }\n",
        "\n",
        "    T data_[N];  // サイズ 0 の配列はコンパイルエラーにならない\n",
        "};\n",
        "\n",
        "int main() {\n",
        "    Array<int, 0> a;\n",
        "    return 0;\n",
        "}"
      ],
      "execution_count": null,
      "outputs": []
    },
    {
      "cell_type": "code",
      "metadata": {
        "id": "GAzhwbn49qyf"
      },
      "source": [
        "!g++ temp.cpp; ./a.out"
      ],
      "execution_count": null,
      "outputs": []
    },
    {
      "cell_type": "markdown",
      "metadata": {
        "id": "yq4GK6uqsCrK"
      },
      "source": [
        "# いまここ"
      ]
    }
  ]
}