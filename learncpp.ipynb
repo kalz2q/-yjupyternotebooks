{
  "nbformat": 4,
  "nbformat_minor": 0,
  "metadata": {
    "colab": {
      "name": "learncpp.ipynb",
      "provenance": [],
      "collapsed_sections": [],
      "toc_visible": true,
      "authorship_tag": "ABX9TyPhEkarG0fmL1JW26CkGmx6",
      "include_colab_link": true
    },
    "kernelspec": {
      "name": "python3",
      "display_name": "Python 3"
    }
  },
  "cells": [
    {
      "cell_type": "markdown",
      "metadata": {
        "id": "view-in-github",
        "colab_type": "text"
      },
      "source": [
        "<a href=\"https://colab.research.google.com/github/kalz2q/mycolabnotebooks/blob/master/learncpp.ipynb\" target=\"_parent\"><img src=\"https://colab.research.google.com/assets/colab-badge.svg\" alt=\"Open In Colab\"/></a>"
      ]
    },
    {
      "cell_type": "markdown",
      "metadata": {
        "colab_type": "text",
        "id": "5sevcYNyHthT"
      },
      "source": [
        "# メモ\n",
        "\n",
        "テキスト https://www.w3schools.com/cpp/\n",
        "\n"
      ]
    },
    {
      "cell_type": "markdown",
      "metadata": {
        "id": "xH3GkgikFHkt",
        "colab_type": "text"
      },
      "source": [
        "# はじめに\n",
        "Colab をノートブックとして、C++ を勉強しようと思う。\n",
        "\n",
        "Colabノートブックのコードセルで、C++ は動かない。のでただのマークダウンエディターになるわけだが、ロジックは Python でなぞって確認することができる。\n",
        "\n",
        "想定としては平行してターミナルとエディター、いわゆる環境は別途立ち上げて、気づいたことやソースをメモしていくことになる。\n",
        "\n",
        "```\n",
        "#include <iostream>\n",
        "using namespace std;\n",
        "\n",
        "int main() {\n",
        "  cout << \"Hello World!\";\n",
        "  return 0;\n",
        "}\n",
        "```\n",
        "と引用か pre で書くか。"
      ]
    },
    {
      "cell_type": "code",
      "metadata": {
        "id": "UZ5LUdxYF0AD",
        "colab_type": "code",
        "colab": {}
      },
      "source": [
        "# #include <iostream>\n",
        "# using namespace std;\n",
        "\n",
        "# int main() {\n",
        "#   cout << \"Hello World!\";\n",
        "#   return 0;\n",
        "# }"
      ],
      "execution_count": null,
      "outputs": []
    },
    {
      "cell_type": "markdown",
      "metadata": {
        "id": "s0dgqgKVF5Ya",
        "colab_type": "text"
      },
      "source": [
        "と、コードセルにコメント書くか。まだ揺れているのでノートブックを書きながら考える。\n",
        "\n",
        "上の例くらいなら即座に Python にできる。\n",
        "```\n",
        "print (\"Hello World!\")\n",
        "```\n",
        "Python のプログラムとの違いは、#include と using namespace の行があること、int main (){} で囲まれていること、cout << という構文であること、全体が関数で return があって、それも 0 であること。\n"
      ]
    },
    {
      "cell_type": "markdown",
      "metadata": {
        "id": "lMns0gsLA_3Q",
        "colab_type": "text"
      },
      "source": [
        "# w3schoo の目次\n",
        "w3school では次のメニューで学ぶことが推奨されている。\n",
        "* C++ Tutorial\n",
        "  * C++ HOME\n",
        "  * C++ Intro\n",
        "  * C++ Get Started\n",
        "  * C++ Syntax\n",
        "  * C++ Output\n",
        "  * C++ Comments\n",
        "  * C++ Variables\n",
        "  * C++ User Input\n",
        "  * C++ Data Types\n",
        "  * C++ Operators\n",
        "  * C++ Strings\n",
        "  * C++ Math\n",
        "  * C++ Booleans\n",
        "  * C++ Conditions\n",
        "  * C++ Switch\n",
        "  * C++ While Loop\n",
        "  * C++ For Loop\n",
        "  * C++ Break/Continue\n",
        "  * C++ Arrays\n",
        "  * C++ References\n",
        "  * C++ Pointers\n",
        "* C++ Functions\n",
        "  * C++ Functions\n",
        "  * C++ Function Parameters\n",
        "  * C++ Function Overloading\n",
        "* C++ Classes\n",
        "  * C++ OOP\n",
        "  * C++ Classes/Objects\n",
        "  * C++ Class Methods\n",
        "  * C++ Constructors\n",
        "  * C++ Access Specifiers\n",
        "  * C++ Encapsulation\n",
        "  * C++ Inheritance\n",
        "  * C++ Polymorphism\n",
        "  * C++ Files\n",
        "  * C++ Exceptions\n",
        "* C++ How To\n",
        "  * Add Two Numbers\n",
        "* C++ Examples\n",
        "  * C++ Examples\n",
        "  * C++ Exercises\n",
        "  * C++ Quiz\n",
        "\n",
        "いやはや、盛りだくさんだね。"
      ]
    },
    {
      "cell_type": "markdown",
      "metadata": {
        "id": "Ftkdk4KlDD6K",
        "colab_type": "text"
      },
      "source": [
        "# 環境\n",
        "\n",
        "* Ubuntu 20.04\n",
        "* g++ (Ubuntu 9.3.0-10ubuntu2) 9.3.0\n",
        "* GNU gdb (Ubuntu 9.1-0ubuntu1) 9.1\n",
        "* cmake version 3.16.3\n",
        "* vscode \n",
        "* vscode extentions: \"C/C++\", \"CMake\", \"CMake Tools\"\n",
        "\n",
        "vscode でどうやってコンパイルして走らせるかわからない。\n",
        "\n",
        "w3school のサイトでは左にコード右に実行結果の便利なツール(サイト)があるのでそれも使う。しばらくはこれで十分かもしれない。\n",
        "</br>\n",
        "</br>\n",
        "</br>\n",
        "vscode で Ctrl-F5 でデバッグなしの実行。するとエラーがあればエラー、なければ実行結果のウィンドウがでる。hello01 という実行ファイルもできている。\n",
        "\n",
        "ターミナルで `./hello01` とすると実行できる。\n",
        "\n",
        "フォーマットは自動でなされる。\n"
      ]
    },
    {
      "cell_type": "code",
      "metadata": {
        "id": "7CvK6kLSDDgm",
        "colab_type": "code",
        "colab": {
          "base_uri": "https://localhost:8080/",
          "height": 34
        },
        "outputId": "b50b2e2a-6124-4aa5-8b75-38ce89ca79c2"
      },
      "source": [
        "\n"
      ],
      "execution_count": 1,
      "outputs": [
        {
          "output_type": "stream",
          "text": [
            "Linux c42454c23f15 4.19.112+ #1 SMP Thu Jul 23 08:00:38 PDT 2020 x86_64 x86_64 x86_64 GNU/Linux\n"
          ],
          "name": "stdout"
        }
      ]
    }
  ]
}