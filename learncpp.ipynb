{
  "nbformat": 4,
  "nbformat_minor": 0,
  "metadata": {
    "colab": {
      "name": "learncpp.ipynb",
      "provenance": [],
      "collapsed_sections": [],
      "authorship_tag": "ABX9TyN2UBOUjrmIZJuJjI7xZsAq",
      "include_colab_link": true
    },
    "kernelspec": {
      "name": "python3",
      "display_name": "Python 3"
    }
  },
  "cells": [
    {
      "cell_type": "markdown",
      "metadata": {
        "id": "view-in-github",
        "colab_type": "text"
      },
      "source": [
        "<a href=\"https://colab.research.google.com/github/kalz2q/mycolabnotebooks/blob/master/learncpp.ipynb\" target=\"_parent\"><img src=\"https://colab.research.google.com/assets/colab-badge.svg\" alt=\"Open In Colab\"/></a>"
      ]
    },
    {
      "cell_type": "code",
      "metadata": {
        "id": "qRu3CMujFGoD",
        "colab_type": "code",
        "colab": {}
      },
      "source": [
        ""
      ],
      "execution_count": null,
      "outputs": []
    },
    {
      "cell_type": "markdown",
      "metadata": {
        "id": "xH3GkgikFHkt",
        "colab_type": "text"
      },
      "source": [
        "# はじめに\n",
        "Colab をノートブックとして、C++ を勉強しようと思う。\n",
        "\n",
        "Colabノートブックのコードセルで、C++ は動かない。のでただのマークダウンエディターになるわけだが、ロジックは Python でなぞって確認することができる。\n",
        "\n",
        "想定としては平行してターミナルとエディター、いわゆる環境は別途立ち上げて、気づいたことやソースをメモしていくことになる。\n",
        "\n",
        "```\n",
        "#include <iostream>\n",
        "using namespace std;\n",
        "\n",
        "int main() {\n",
        "  cout << \"Hello World!\";\n",
        "  return 0;\n",
        "}\n",
        "```\n",
        "と書くか。"
      ]
    },
    {
      "cell_type": "code",
      "metadata": {
        "id": "UZ5LUdxYF0AD",
        "colab_type": "code",
        "colab": {}
      },
      "source": [
        "# #include <iostream>\n",
        "# using namespace std;\n",
        "\n",
        "# int main() {\n",
        "#   cout << \"Hello World!\";\n",
        "#   return 0;\n",
        "# }"
      ],
      "execution_count": null,
      "outputs": []
    },
    {
      "cell_type": "markdown",
      "metadata": {
        "id": "s0dgqgKVF5Ya",
        "colab_type": "text"
      },
      "source": [
        "と、書くか。まだ揺れているのでノートブックを書きながら考える。"
      ]
    }
  ]
}