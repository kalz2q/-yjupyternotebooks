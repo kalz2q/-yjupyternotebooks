{
  "nbformat": 4,
  "nbformat_minor": 0,
  "metadata": {
    "colab": {
      "name": "learncpp.ipynb",
      "provenance": [],
      "collapsed_sections": [],
      "toc_visible": true,
      "authorship_tag": "ABX9TyMkxvlRFImziSGXpfbWoJ/v",
      "include_colab_link": true
    },
    "kernelspec": {
      "name": "python3",
      "display_name": "Python 3"
    }
  },
  "cells": [
    {
      "cell_type": "markdown",
      "metadata": {
        "id": "view-in-github",
        "colab_type": "text"
      },
      "source": [
        "<a href=\"https://colab.research.google.com/github/kalz2q/mycolabnotebooks/blob/master/learncpp.ipynb\" target=\"_parent\"><img src=\"https://colab.research.google.com/assets/colab-badge.svg\" alt=\"Open In Colab\"/></a>"
      ]
    },
    {
      "cell_type": "markdown",
      "metadata": {
        "colab_type": "text",
        "id": "5sevcYNyHthT"
      },
      "source": [
        "# メモ\n",
        "\n",
        "テキスト https://www.w3schools.com/cpp/\n",
        "\n",
        "https://www.w3schools.com/cpp/cpp_examples.asp\n",
        "\n",
        "https://www.w3schools.com/cpp/cpp_quiz.asp\n",
        "\n"
      ]
    },
    {
      "cell_type": "markdown",
      "metadata": {
        "id": "xH3GkgikFHkt",
        "colab_type": "text"
      },
      "source": [
        "# はじめに\n",
        "Colab をノートブックとして、C++ を勉強しようと思う。\n",
        "\n",
        "Colabノートブックのコードセルで、C++ は動かない。のでただのマークダウンエディターになるわけだが、ロジックは Python でなぞって確認することができる。\n",
        "\n",
        "想定としては平行してターミナルとエディター、いわゆる環境は別途立ち上げて、気づいたことやソースをメモしていくことになる。\n",
        "\n",
        "> cd mycpp  \n",
        "> code . hello001.cpp"
      ]
    },
    {
      "cell_type": "code",
      "metadata": {
        "id": "UZ5LUdxYF0AD",
        "colab_type": "code",
        "colab": {}
      },
      "source": [
        "// hello001.cpp\n",
        "#include <iostream>\n",
        "using namespace std;\n",
        "\n",
        "int main() {\n",
        "  cout << \"Hello World!\";\n",
        "  return 0;\n",
        "}"
      ],
      "execution_count": null,
      "outputs": []
    },
    {
      "cell_type": "markdown",
      "metadata": {
        "id": "WkhNp2ldD_De",
        "colab_type": "text"
      },
      "source": [
        "vscode で Ctrl-F5 でデバッグなしの実行。vscode 内のターミナルで実行される。\n",
        "\n",
        "エラーがあればエラー、なければ実行結果が表示さえっる。hello01 という実行ファイルもできている。\n",
        "\n",
        "ターミナルで `./hello001` とすると実行できる。\n",
        "\n"
      ]
    },
    {
      "cell_type": "markdown",
      "metadata": {
        "id": "s0dgqgKVF5Ya",
        "colab_type": "text"
      },
      "source": [
        "コードをつらつらみると、Python のプログラムとの違いは、\n",
        "\n",
        "1. コメントが Python は シャープで、cpp は スラッシュ。\n",
        "2. #include と using namespace の行がある。\n",
        "3. int main (){} で囲まれている。\n",
        "4. cout << という構文。\n",
        "5. 全体が関数で 関数名が main で、return があって、それも 0 である。\n",
        "\n",
        "あと、実行結果をみると、自動で改行は加えられていない。"
      ]
    },
    {
      "cell_type": "markdown",
      "metadata": {
        "id": "lMns0gsLA_3Q",
        "colab_type": "text"
      },
      "source": [
        "# w3schoo の目次\n",
        "w3school では次のメニューで学ぶことが推奨されている。\n",
        "* C++ Tutorial\n",
        "  * C++ HOME\n",
        "  * C++ Intro\n",
        "  * C++ Get Started\n",
        "  * C++ Syntax\n",
        "  * C++ Output\n",
        "  * C++ Comments\n",
        "  * C++ Variables\n",
        "  * C++ User Input\n",
        "  * C++ Data Types\n",
        "  * C++ Operators\n",
        "  * C++ Strings\n",
        "  * C++ Math\n",
        "  * C++ Booleans\n",
        "  * C++ Conditions\n",
        "  * C++ Switch\n",
        "  * C++ While Loop\n",
        "  * C++ For Loop\n",
        "  * C++ Break/Continue\n",
        "  * C++ Arrays\n",
        "  * C++ References\n",
        "  * C++ Pointers\n",
        "* C++ Functions\n",
        "  * C++ Functions\n",
        "  * C++ Function Parameters\n",
        "  * C++ Function Overloading\n",
        "* C++ Classes\n",
        "  * C++ OOP\n",
        "  * C++ Classes/Objects\n",
        "  * C++ Class Methods\n",
        "  * C++ Constructors\n",
        "  * C++ Access Specifiers\n",
        "  * C++ Encapsulation\n",
        "  * C++ Inheritance\n",
        "  * C++ Polymorphism\n",
        "  * C++ Files\n",
        "  * C++ Exceptions\n",
        "* C++ How To\n",
        "  * Add Two Numbers\n",
        "* C++ Examples\n",
        "  * C++ Examples\n",
        "  * C++ Exercises\n",
        "  * C++ Quiz\n",
        "\n",
        "いやはや、盛りだくさんだね。"
      ]
    },
    {
      "cell_type": "markdown",
      "metadata": {
        "id": "Ftkdk4KlDD6K",
        "colab_type": "text"
      },
      "source": [
        "# 環境\n",
        "\n",
        "* Ubuntu 20.04\n",
        "* g++ (Ubuntu 9.3.0-10ubuntu2) 9.3.0\n",
        "* GNU gdb (Ubuntu 9.1-0ubuntu1) 9.1\n",
        "* cmake version 3.16.3\n",
        "* vscode \n",
        "* vscode extentions: \"C/C++\", \"CMake\", \"CMake Tools\"\n",
        "\n",
        "w3school のサイトでは左にコード右に実行結果の便利なツール(サイト)があるのでそれも使う。しばらくはその方が便利かもしれない。\n",
        "\n",
        "</br>\n",
        "</br>\n",
        "</br>\n",
        "\n",
        "\n",
        "\n",
        "\n"
      ]
    },
    {
      "cell_type": "markdown",
      "metadata": {
        "id": "MWTQAIkMohnv",
        "colab_type": "text"
      },
      "source": [
        "# namespace\n",
        "\n",
        "`using namespace std;` を入れないと、次のように書くことになる、みたい。\n",
        "\n",
        "`main` を `hello` にしたらエラーでコンパイルできなかった。\n",
        "\n",
        "`return 0` をとってもコンパイルできた。\n",
        "\n",
        "`<< std::endl` で改行が付加された。\n",
        "\n"
      ]
    },
    {
      "cell_type": "code",
      "metadata": {
        "id": "V7FCGvXToerV",
        "colab_type": "code",
        "colab": {}
      },
      "source": [
        "// hello002.cpp\n",
        "#include <iostream>\n",
        "\n",
        "int main() {\n",
        "  std::cout << \"hello world\\n \\t初めてのC++\" << std::endl;\n",
        "  return 0;\n",
        "}\n"
      ],
      "execution_count": null,
      "outputs": []
    },
    {
      "cell_type": "markdown",
      "metadata": {
        "id": "g8VptCMXpWoT",
        "colab_type": "text"
      },
      "source": [
        "# for 構文\n",
        "\n",
        "次のは `i` を 1 ずつ増やして行って 9 回 メッセージを書くプログラム。"
      ]
    },
    {
      "cell_type": "code",
      "metadata": {
        "id": "vHNrx0tRpuBf",
        "colab_type": "code",
        "colab": {}
      },
      "source": [
        "// hello003.cpp\n",
        "#include <iostream>\n",
        "using namespace std;\n",
        "\n",
        "int main() {\n",
        "  for (int i = 0; i < 10; i++) cout << \"Hello World\" << endl;\n",
        "}\n"
      ],
      "execution_count": null,
      "outputs": []
    },
    {
      "cell_type": "markdown",
      "metadata": {
        "id": "oJgZ4xyUmxoa",
        "colab_type": "text"
      },
      "source": [
        "# コメント\n",
        "\n",
        "`//`  と `/*` と `*/` 。\n",
        "\n"
      ]
    },
    {
      "cell_type": "markdown",
      "metadata": {
        "id": "tkLLBkzQpzqF",
        "colab_type": "text"
      },
      "source": [
        "# 波カッコ curly brackets の場所\n",
        "\n",
        "vscode のデフォルトでは、フォーマットすると、波カッコのはじめ opening curly bracket は新しい行からはじまる。 これを前の行の最後にしたい場合は、\n",
        "\n",
        "> Settings (Ctrl+,)    \n",
        "> C_Cpp:Clang_format_fallback Style    \n",
        "> Google  \n",
        "\n",
        "とする。 この意味は、vscode のデフォルトは一応 Clang フォーマットではあるが、とくにファイルで指定しているわけではないので、ファイルがない場合はどのタイプのフォーマットにするか指定できて、いろいろあるけど、Google を指定すると、いわゆる Google フォーマットになる。 インデントスペースも 2 になる。\n",
        "\n",
        "> Settings (Ctrl+,)    \n",
        "> C_Cpp:Clang_format_fallback Style   \n",
        "\n",
        "のところにはもう少し詳しく書いてある。 私の場合、Google にする。\n",
        "\n"
      ]
    }
  ]
}