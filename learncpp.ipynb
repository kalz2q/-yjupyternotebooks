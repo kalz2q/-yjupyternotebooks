{
  "nbformat": 4,
  "nbformat_minor": 0,
  "metadata": {
    "colab": {
      "name": "learncpp.ipynb",
      "provenance": [],
      "collapsed_sections": [],
      "authorship_tag": "ABX9TyOuFpDcdICMo1ENCfSxW7eR",
      "include_colab_link": true
    },
    "kernelspec": {
      "name": "python3",
      "display_name": "Python 3"
    }
  },
  "cells": [
    {
      "cell_type": "markdown",
      "metadata": {
        "id": "view-in-github",
        "colab_type": "text"
      },
      "source": [
        "<a href=\"https://colab.research.google.com/github/kalz2q/mycolabnotebooks/blob/master/learncpp.ipynb\" target=\"_parent\"><img src=\"https://colab.research.google.com/assets/colab-badge.svg\" alt=\"Open In Colab\"/></a>"
      ]
    },
    {
      "cell_type": "markdown",
      "metadata": {
        "colab_type": "text",
        "id": "5sevcYNyHthT"
      },
      "source": [
        "# メモ\n",
        "\n",
        "テキスト https://www.w3schools.com/cpp/\n",
        "\n"
      ]
    },
    {
      "cell_type": "markdown",
      "metadata": {
        "id": "xH3GkgikFHkt",
        "colab_type": "text"
      },
      "source": [
        "# はじめに\n",
        "Colab をノートブックとして、C++ を勉強しようと思う。\n",
        "\n",
        "Colabノートブックのコードセルで、C++ は動かない。のでただのマークダウンエディターになるわけだが、ロジックは Python でなぞって確認することができる。\n",
        "\n",
        "想定としては平行してターミナルとエディター、いわゆる環境は別途立ち上げて、気づいたことやソースをメモしていくことになる。\n",
        "\n",
        "```\n",
        "#include <iostream>\n",
        "using namespace std;\n",
        "\n",
        "int main() {\n",
        "  cout << \"Hello World!\";\n",
        "  return 0;\n",
        "}\n",
        "```\n",
        "と引用か pre で書くか。"
      ]
    },
    {
      "cell_type": "code",
      "metadata": {
        "id": "UZ5LUdxYF0AD",
        "colab_type": "code",
        "colab": {}
      },
      "source": [
        "# #include <iostream>\n",
        "# using namespace std;\n",
        "\n",
        "# int main() {\n",
        "#   cout << \"Hello World!\";\n",
        "#   return 0;\n",
        "# }"
      ],
      "execution_count": null,
      "outputs": []
    },
    {
      "cell_type": "markdown",
      "metadata": {
        "id": "s0dgqgKVF5Ya",
        "colab_type": "text"
      },
      "source": [
        "と、コードセルにコメント書くか。まだ揺れているのでノートブックを書きながら考える。\n",
        "\n",
        "上の例くらいなら即座に Python にできる。\n",
        "```\n",
        "print (\"Hello World!\")\n",
        "```\n",
        "Python のプログラムとの違いは、#include と using namespace の行があること、int main (){} で囲まれていること、cout << という構文であること、全体が関数で return があって、それも 0 であること。\n"
      ]
    },
    {
      "cell_type": "markdown",
      "metadata": {
        "id": "SQAmVkWfH8g8",
        "colab_type": "text"
      },
      "source": [
        "# 環境\n",
        "\n",
        "w3school のサイトでは左にコード右に実行結果の便利なツール(サイト)があるのでそれも使う。\n"
      ]
    }
  ]
}