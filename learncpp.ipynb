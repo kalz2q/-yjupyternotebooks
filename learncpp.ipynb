{
  "nbformat": 4,
  "nbformat_minor": 0,
  "metadata": {
    "colab": {
      "name": "learncpp.ipynb",
      "provenance": [],
      "collapsed_sections": [],
      "toc_visible": true,
      "authorship_tag": "ABX9TyM+nGwFXm+brEVNFFSEqL4+",
      "include_colab_link": true
    },
    "kernelspec": {
      "name": "python3",
      "display_name": "Python 3"
    }
  },
  "cells": [
    {
      "cell_type": "markdown",
      "metadata": {
        "id": "view-in-github",
        "colab_type": "text"
      },
      "source": [
        "<a href=\"https://colab.research.google.com/github/kalz2q/mycolabnotebooks/blob/master/learncpp.ipynb\" target=\"_parent\"><img src=\"https://colab.research.google.com/assets/colab-badge.svg\" alt=\"Open In Colab\"/></a>"
      ]
    },
    {
      "cell_type": "markdown",
      "metadata": {
        "id": "GS7G-XMFAlZR"
      },
      "source": [
        "# メモ\n",
        "\n",
        "1. Colab で開かれることを想定している。 Colab で読んでください。\n",
        "1. Colab のコードセルで、次のコードセル"
      ]
    },
    {
      "cell_type": "code",
      "metadata": {
        "id": "ZQ_oYkkmBPsl"
      },
      "source": [
        "%%script false\n",
        "!g++ --version"
      ],
      "execution_count": null,
      "outputs": []
    },
    {
      "cell_type": "markdown",
      "metadata": {
        "id": "W7Y7bJP4BVJD"
      },
      "source": [
        "を %%script false 行を削除して実行すると、"
      ]
    },
    {
      "cell_type": "code",
      "metadata": {
        "id": "-bV7Xo6vBad5"
      },
      "source": [
        "%%script false\n",
        "g++ (Ubuntu 7.5.0-3ubuntu1~18.04) 7.5.0\n",
        "Copyright (C) 2017 Free Software Foundation, Inc.\n",
        "This is free software; see the source for copying conditions.  There is NO\n",
        "warranty; not even for MERCHANTABILITY or FITNESS FOR A PARTICULAR PURPOSE."
      ],
      "execution_count": null,
      "outputs": []
    },
    {
      "cell_type": "markdown",
      "metadata": {
        "id": "VbdvhxwYBhWm"
      },
      "source": [
        "colab のコードセルの環境で、g++ が使えることがわかる。\n",
        "\n",
        "これを利用して Colab で C++ を学習する、というアイデア。"
      ]
    },
    {
      "cell_type": "markdown",
      "metadata": {
        "id": "5sevcYNyHthT"
      },
      "source": [
        "参考テキスト\n",
        "\n",
        "1. https://www.w3schools.com/cpp/\n",
        "1. https://www.w3schools.com/cpp/cpp_examples.asp\n",
        "\n",
        "1. https://www.w3schools.com/cpp/cpp_quiz.asp\n",
        "\n"
      ]
    },
    {
      "cell_type": "code",
      "metadata": {
        "colab": {
          "base_uri": "https://localhost:8080/"
        },
        "id": "-jTNMcEE-y3-",
        "outputId": "94e32ad6-24b3-4f59-864a-ac60fc88bd8e"
      },
      "source": [
        "%%writefile hello01.cpp\n",
        "#include <iostream>\n",
        "using namespace std;\n",
        "\n",
        "int main() {\n",
        "  cout << \"Hello World!\";\n",
        "  return 0;\n",
        "}"
      ],
      "execution_count": null,
      "outputs": [
        {
          "output_type": "stream",
          "text": [
            "Overwriting hello01.cpp\n"
          ],
          "name": "stdout"
        }
      ]
    },
    {
      "cell_type": "code",
      "metadata": {
        "colab": {
          "base_uri": "https://localhost:8080/"
        },
        "id": "8Lf0COUH-9ol",
        "outputId": "674f6f8c-7f95-4faa-eaff-7b2c1517096b"
      },
      "source": [
        "!g++ hello01.cpp -o helo01\n",
        "!./helo01"
      ],
      "execution_count": null,
      "outputs": [
        {
          "output_type": "stream",
          "text": [
            "Hello World!"
          ],
          "name": "stdout"
        }
      ]
    },
    {
      "cell_type": "markdown",
      "metadata": {
        "id": "s0dgqgKVF5Ya"
      },
      "source": [
        "コメントが Python は シャープ # で、cpp は スラッシュ。 `//` or `/* ~ */`\n"
      ]
    },
    {
      "cell_type": "markdown",
      "metadata": {
        "id": "lMns0gsLA_3Q"
      },
      "source": [
        "# w3school の目次\n",
        "w3school では次のメニューで学ぶことが推奨されている。\n",
        "* C++ Tutorial\n",
        "  * C++ HOME\n",
        "  * C++ Intro\n",
        "  * C++ Get Started\n",
        "  * C++ Syntax\n",
        "  * C++ Output\n",
        "  * C++ Comments\n",
        "  * C++ Variables\n",
        "  * C++ User Input\n",
        "  * C++ Data Types\n",
        "  * C++ Operators\n",
        "  * C++ Strings\n",
        "  * C++ Math\n",
        "  * C++ Booleans\n",
        "  * C++ Conditions\n",
        "  * C++ Switch\n",
        "  * C++ While Loop\n",
        "  * C++ For Loop\n",
        "  * C++ Break/Continue\n",
        "  * C++ Arrays\n",
        "  * C++ References\n",
        "  * C++ Pointers\n",
        "* C++ Functions\n",
        "  * C++ Functions\n",
        "  * C++ Function Parameters\n",
        "  * C++ Function Overloading\n",
        "* C++ Classes\n",
        "  * C++ OOP\n",
        "  * C++ Classes/Objects\n",
        "  * C++ Class Methods\n",
        "  * C++ Constructors\n",
        "  * C++ Access Specifiers\n",
        "  * C++ Encapsulation\n",
        "  * C++ Inheritance\n",
        "  * C++ Polymorphism\n",
        "  * C++ Files\n",
        "  * C++ Exceptions\n",
        "* C++ How To\n",
        "  * Add Two Numbers\n",
        "* C++ Examples\n",
        "  * C++ Examples\n",
        "  * C++ Exercises\n",
        "  * C++ Quiz\n",
        "\n",
        "いやはや、盛りだくさんだね。"
      ]
    },
    {
      "cell_type": "markdown",
      "metadata": {
        "id": "MWTQAIkMohnv"
      },
      "source": [
        "# namespace\n",
        "\n",
        "`using namespace std;` を入れないと、次のように書くことになる、みたい。\n",
        "\n",
        "`main` を `hello` にしたらエラーでコンパイルできなかった。\n",
        "\n",
        "`return 0` をとってもコンパイルできた。\n",
        "\n",
        "`<< std::endl` で改行が付加された。\n",
        "\n"
      ]
    },
    {
      "cell_type": "code",
      "metadata": {
        "id": "V7FCGvXToerV",
        "colab": {
          "base_uri": "https://localhost:8080/"
        },
        "outputId": "59a841ca-2f56-42b2-87b7-8050e3ede6fd"
      },
      "source": [
        "# 実験\n",
        "%%writefile hello02.cpp\n",
        "// hello02.cpp\n",
        "#include <iostream>\n",
        "\n",
        "int main() {\n",
        "  std::cout << \"hello world\\n \\t初めてのC++\" << std::endl;\n",
        "  std::cout << \"次の行\";\n",
        "  return 0;\n",
        "}"
      ],
      "execution_count": null,
      "outputs": [
        {
          "output_type": "stream",
          "text": [
            "Overwriting hello02.cpp\n"
          ],
          "name": "stdout"
        }
      ]
    },
    {
      "cell_type": "code",
      "metadata": {
        "colab": {
          "base_uri": "https://localhost:8080/"
        },
        "id": "Gdy2RltWBMlU",
        "outputId": "0e09660c-2465-46b5-eebc-78fd9edc91de"
      },
      "source": [
        "!g++ hello02.cpp -o hello02 ; ./hello02"
      ],
      "execution_count": null,
      "outputs": [
        {
          "output_type": "stream",
          "text": [
            "hello world\n",
            " \t初めてのC++\n",
            "次の行"
          ],
          "name": "stdout"
        }
      ]
    },
    {
      "cell_type": "markdown",
      "metadata": {
        "id": "g8VptCMXpWoT"
      },
      "source": [
        "# for 構文\n",
        "\n",
        "次のは `i` を 1 ずつ増やして行って 9 回 メッセージを書くプログラム。"
      ]
    },
    {
      "cell_type": "code",
      "metadata": {
        "id": "vHNrx0tRpuBf",
        "colab": {
          "base_uri": "https://localhost:8080/"
        },
        "outputId": "674e22b9-c3bc-4512-8383-df9bcb56694e"
      },
      "source": [
        "%%writefile hello03.cpp\n",
        "// hello03.cpp\n",
        "#include <iostream>\n",
        "using namespace std;\n",
        "\n",
        "int main() {\n",
        "  for (int i = 0; i < 10; i++) cout << \"Hello World\" << endl;\n",
        "}\n"
      ],
      "execution_count": null,
      "outputs": [
        {
          "output_type": "stream",
          "text": [
            "Writing hello03.cpp\n"
          ],
          "name": "stdout"
        }
      ]
    },
    {
      "cell_type": "code",
      "metadata": {
        "colab": {
          "base_uri": "https://localhost:8080/"
        },
        "id": "hxXfoxj8Bkb2",
        "outputId": "116200b5-2e07-40bd-dfc2-bf2f7cf2860a"
      },
      "source": [
        "!g++ hello03.cpp -o hello03 ; ./hello03"
      ],
      "execution_count": null,
      "outputs": [
        {
          "output_type": "stream",
          "text": [
            "Hello World\n",
            "Hello World\n",
            "Hello World\n",
            "Hello World\n",
            "Hello World\n",
            "Hello World\n",
            "Hello World\n",
            "Hello World\n",
            "Hello World\n",
            "Hello World\n"
          ],
          "name": "stdout"
        }
      ]
    },
    {
      "cell_type": "markdown",
      "metadata": {
        "id": "oJgZ4xyUmxoa"
      },
      "source": [
        "# コメント\n",
        "\n",
        "`//`  と `/*` と `*/` 。\n",
        "\n"
      ]
    },
    {
      "cell_type": "markdown",
      "metadata": {
        "id": "tkLLBkzQpzqF"
      },
      "source": [
        "# 波カッコ curly brackets の場所\n",
        "\n",
        "vscode のデフォルトでは、フォーマットすると、波カッコのはじめ opening curly bracket は新しい行からはじまる。 これを前の行の最後にしたい場合は、\n",
        "\n",
        "> Settings (Ctrl+,)    \n",
        "> C_Cpp:Clang_format_fallback Style    \n",
        "> Google  \n",
        "\n",
        "とする。 この意味は、vscode のデフォルトは一応 Clang フォーマットではあるが、とくにファイルで指定しているわけではないので、ファイルがない場合はどのタイプのフォーマットにするか指定できて、いろいろあるけど、Google を指定すると、いわゆる Google フォーマットになる。 インデントスペースも 2 になる。\n",
        "\n",
        "> Settings (Ctrl+,)    \n",
        "> C_Cpp:Clang_format_fallback Style   \n",
        "\n",
        "のところにはもう少し詳しく書いてある。 私の場合、Google にする。\n",
        "\n"
      ]
    },
    {
      "cell_type": "markdown",
      "metadata": {
        "id": "RuaoehwUCY2R"
      },
      "source": [
        "# いまここ"
      ]
    },
    {
      "cell_type": "markdown",
      "metadata": {
        "id": "C7ipf7oBCvrZ"
      },
      "source": [
        "# C++ について\n",
        "\n",
        "Bjarne Stroustrup という人が C の上位バージョンとして作った。\n",
        "\n",
        "C++ の歴史 => 2011, 2014, 2017 に C++11, C++14,  C++17 になった。\n",
        "\n",
        "コンピューターの標準言語だろう。\n"
      ]
    },
    {
      "cell_type": "markdown",
      "metadata": {
        "id": "VtOagpx9EaSA"
      },
      "source": [
        "`#include <iostream>` はヘッダーライブラリーと呼ばれるもの。\n",
        "\n",
        "`using namespace std` は標準ライブラリーのオブジェクトや変数の名前を使える、と言うこと。\n",
        "\n",
        "`cout` はシーアウトと読み、`<<` とセットで使われる。\n",
        "\n",
        "改行やホワイトスペースについては `int main () { cout << \"Hello World! \"; return 0; }` と書いても同じ。\n",
        "\n",
        "\n"
      ]
    },
    {
      "cell_type": "code",
      "metadata": {
        "id": "ebJGPq8FF3gk",
        "colab": {
          "base_uri": "https://localhost:8080/"
        },
        "outputId": "c0c776d0-631c-44ac-e4d2-be26dfa52993"
      },
      "source": [
        "%%writefile hello04.cpp\n",
        "// hello04.cpp\n",
        "#include <iostream>\n",
        "using namespace std;\n",
        "\n",
        "int main() {\n",
        "  cout << \"Hello World! \\n\\n\";\n",
        "  cout << \"I am learning C++\";\n",
        "  return 0;\n",
        "}"
      ],
      "execution_count": null,
      "outputs": [
        {
          "output_type": "stream",
          "text": [
            "Writing hello04.cpp\n"
          ],
          "name": "stdout"
        }
      ]
    },
    {
      "cell_type": "code",
      "metadata": {
        "id": "YiQpXtXVGGiI",
        "colab": {
          "base_uri": "https://localhost:8080/"
        },
        "outputId": "a3bb3046-2d20-401f-da8d-e0f711424567"
      },
      "source": [
        "!g++ hello04.cpp -o hello04; ./hello04"
      ],
      "execution_count": null,
      "outputs": [
        {
          "output_type": "stream",
          "text": [
            "Hello World! \n",
            "\n",
            "I am learning C++"
          ],
          "name": "stdout"
        }
      ]
    },
    {
      "cell_type": "markdown",
      "metadata": {
        "id": "pTOjaiKtGM2E"
      },
      "source": [
        "`<< endl` でも改行は入れられるが、普通 `\\n` を使う。\n",
        "\n"
      ]
    },
    {
      "cell_type": "markdown",
      "metadata": {
        "id": "9xEHO9jxdjDe"
      },
      "source": [
        "# 変数のタイプ\n",
        "\n",
        "int(123),\n",
        "double(19.9),\n",
        "char('A'),\n",
        "\"string\", \n",
        "bool(true, false) など。"
      ]
    },
    {
      "cell_type": "code",
      "metadata": {
        "colab": {
          "base_uri": "https://localhost:8080/"
        },
        "id": "Mc2my2c0es1D",
        "outputId": "b60ec69f-d928-4fda-8d4b-d6867088981b"
      },
      "source": [
        "%%writefile variable01.cpp\n",
        "#include <iostream>\n",
        "using namespace std;\n",
        "\n",
        "int main() {\n",
        "  int myNum = 15;\n",
        "  cout << myNum;\n",
        "  return 0;\n",
        "}"
      ],
      "execution_count": null,
      "outputs": [
        {
          "output_type": "stream",
          "text": [
            "Writing variable01.cpp\n"
          ],
          "name": "stdout"
        }
      ]
    },
    {
      "cell_type": "code",
      "metadata": {
        "id": "JRO5IbRYdIr8",
        "colab": {
          "base_uri": "https://localhost:8080/"
        },
        "outputId": "de6c9f6a-9cae-428e-8c65-d37faf72f174"
      },
      "source": [
        "!g++ variable01.cpp -o variable01; ./variable01"
      ],
      "execution_count": null,
      "outputs": [
        {
          "output_type": "stream",
          "text": [
            "15"
          ],
          "name": "stdout"
        }
      ]
    },
    {
      "cell_type": "code",
      "metadata": {
        "id": "3aRUXLCpIdJu",
        "colab": {
          "base_uri": "https://localhost:8080/"
        },
        "outputId": "61c89355-ac6e-4d59-ccd4-fd38890c789d"
      },
      "source": [
        "%%writefile variable02.cpp\n",
        "#include <iostream>\n",
        "using namespace std;\n",
        "\n",
        "int main() {\n",
        "  int myNum = 15;   // Now myNum is 15\n",
        "  myNum = 10;       // Now myNum is 10\n",
        "  cout << myNum;\n",
        "  return 0;\n",
        "}"
      ],
      "execution_count": null,
      "outputs": [
        {
          "output_type": "stream",
          "text": [
            "Writing variable02.cpp\n"
          ],
          "name": "stdout"
        }
      ]
    },
    {
      "cell_type": "code",
      "metadata": {
        "id": "yCSbQFadIkgW",
        "colab": {
          "base_uri": "https://localhost:8080/"
        },
        "outputId": "63edb3dd-37b3-42f4-f9f3-a46d277a0193"
      },
      "source": [
        "!g++ variable02.cpp -o variable02; ./variable02"
      ],
      "execution_count": null,
      "outputs": [
        {
          "output_type": "stream",
          "text": [
            "10"
          ],
          "name": "stdout"
        }
      ]
    },
    {
      "cell_type": "code",
      "metadata": {
        "id": "AyPpeOqOJAYm",
        "colab": {
          "base_uri": "https://localhost:8080/"
        },
        "outputId": "5dabb993-6810-4157-d0a2-89dfa3ae5c75"
      },
      "source": [
        "%%writefile variable03.cpp\n",
        "#include <iostream>\n",
        "using namespace std;\n",
        "\n",
        "int main()\n",
        "{\n",
        "    int myNum = 5;            // Integer (whole number without decimals)\n",
        "    double myFloatNum = 5.99; // Floating point number (with decimals)\n",
        "    char myLetter = 'D';      // Character\n",
        "    string myText = \"Hello\";  // String (text)\n",
        "    bool myBoolean = true;    // Boolean (true or false)\n",
        "\n",
        "    cout << myNum << \"\\n\";\n",
        "    cout << myFloatNum << \"\\n\";\n",
        "    cout << myLetter << \"\\n\";\n",
        "    cout << myText << \"\\n\";\n",
        "    cout << myBoolean << \"\\n\";\n",
        "}"
      ],
      "execution_count": null,
      "outputs": [
        {
          "output_type": "stream",
          "text": [
            "Writing variable03.cpp\n"
          ],
          "name": "stdout"
        }
      ]
    },
    {
      "cell_type": "code",
      "metadata": {
        "id": "1gfaLXePKNyp",
        "colab": {
          "base_uri": "https://localhost:8080/"
        },
        "outputId": "6bbdc30e-0ffc-426f-da0b-34ab3f2cc9d6"
      },
      "source": [
        "!g++ variable03.cpp -o variable03; ./variable03"
      ],
      "execution_count": null,
      "outputs": [
        {
          "output_type": "stream",
          "text": [
            "5\n",
            "5.99\n",
            "D\n",
            "Hello\n",
            "1\n"
          ],
          "name": "stdout"
        }
      ]
    },
    {
      "cell_type": "code",
      "metadata": {
        "id": "I2hrg56RJB8V",
        "colab": {
          "base_uri": "https://localhost:8080/"
        },
        "outputId": "6af5d4b9-5ff4-445c-8c9c-9b53a87f54dc"
      },
      "source": [
        "%%writefile variable04.cpp\n",
        "#include <iostream>\n",
        "using namespace std;\n",
        "\n",
        "int main() {\n",
        "  int myAge = 35;\n",
        "  cout << \"I am \" << myAge << \" years old.\";\n",
        "  return 0;\n",
        "}"
      ],
      "execution_count": null,
      "outputs": [
        {
          "output_type": "stream",
          "text": [
            "Writing variable04.cpp\n"
          ],
          "name": "stdout"
        }
      ]
    },
    {
      "cell_type": "code",
      "metadata": {
        "id": "2bnagYq-FYvS",
        "colab": {
          "base_uri": "https://localhost:8080/"
        },
        "outputId": "ae04264e-52f1-42be-b81e-881e24048a86"
      },
      "source": [
        "!g++ variable04.cpp -o variable04; ./variable04"
      ],
      "execution_count": null,
      "outputs": [
        {
          "output_type": "stream",
          "text": [
            "I am 35 years old."
          ],
          "name": "stdout"
        }
      ]
    },
    {
      "cell_type": "code",
      "metadata": {
        "id": "lLkTZSs1Fhyx",
        "colab": {
          "base_uri": "https://localhost:8080/"
        },
        "outputId": "f1a1eaaa-7869-46f1-df5f-c3ffe6589a40"
      },
      "source": [
        "%%writefile variable05.cpp\n",
        "#include <iostream>\n",
        "using namespace std;\n",
        "\n",
        "int main() {\n",
        "  int x = 5;\n",
        "  int y = 6;\n",
        "  int sum = x + y;\n",
        "  cout << sum;\n",
        "  return 0;\n",
        "}"
      ],
      "execution_count": null,
      "outputs": [
        {
          "output_type": "stream",
          "text": [
            "Writing variable05.cpp\n"
          ],
          "name": "stdout"
        }
      ]
    },
    {
      "cell_type": "code",
      "metadata": {
        "id": "2l06UtFVJOCV",
        "colab": {
          "base_uri": "https://localhost:8080/"
        },
        "outputId": "11d22eb8-4e10-40ae-9bea-96b0d6cf2a03"
      },
      "source": [
        "!g++ variable05.cpp -o variable05; ./variable05"
      ],
      "execution_count": null,
      "outputs": [
        {
          "output_type": "stream",
          "text": [
            "11"
          ],
          "name": "stdout"
        }
      ]
    },
    {
      "cell_type": "code",
      "metadata": {
        "id": "Q2pqnG9vJYlV",
        "colab": {
          "base_uri": "https://localhost:8080/"
        },
        "outputId": "53fc66ce-6447-4690-af8f-f88e33a47a9e"
      },
      "source": [
        "%%writefile variable06.cpp\n",
        "#include <iostream>\n",
        "using namespace std;\n",
        "\n",
        "int main() {\n",
        "  int x = 5, y = 6, z = 50;  \n",
        "  cout << x + y + z;\n",
        "  return 0;\n",
        "}"
      ],
      "execution_count": null,
      "outputs": [
        {
          "output_type": "stream",
          "text": [
            "Overwriting variable06.cpp\n"
          ],
          "name": "stdout"
        }
      ]
    },
    {
      "cell_type": "code",
      "metadata": {
        "id": "VJDodQp8Jgmd",
        "colab": {
          "base_uri": "https://localhost:8080/"
        },
        "outputId": "c3355e33-f321-4a2e-f6de-0dc620b8604d"
      },
      "source": [
        "!g++ variable06.cpp -o variable06; ./variable06"
      ],
      "execution_count": null,
      "outputs": [
        {
          "output_type": "stream",
          "text": [
            "61"
          ],
          "name": "stdout"
        }
      ]
    },
    {
      "cell_type": "code",
      "metadata": {
        "id": "xV3cZma5LXxQ",
        "colab": {
          "base_uri": "https://localhost:8080/"
        },
        "outputId": "34f143f9-a248-4c7c-9b19-c7ebb5ddedda"
      },
      "source": [
        "%%writefile variable07.cpp\n",
        "#include <iostream>\n",
        "using namespace std;\n",
        "\n",
        "int main() {\n",
        "  // Good name\n",
        "  int minutesPerHour = 60;\n",
        "  \n",
        "  // OK, but not so easy to understand what m actually is\n",
        "  int m = 60;\n",
        "  \n",
        "  cout << minutesPerHour << \"\\n\";\n",
        "  cout << m;\n",
        "  return 0;\n",
        "}"
      ],
      "execution_count": null,
      "outputs": [
        {
          "output_type": "stream",
          "text": [
            "Writing variable07.cpp\n"
          ],
          "name": "stdout"
        }
      ]
    },
    {
      "cell_type": "code",
      "metadata": {
        "id": "fNUgnO2GLcia",
        "colab": {
          "base_uri": "https://localhost:8080/"
        },
        "outputId": "51248142-ea62-48c1-c253-c0cb0b373a8f"
      },
      "source": [
        "!g++ variable07.cpp -o variable07; ./variable07"
      ],
      "execution_count": null,
      "outputs": [
        {
          "output_type": "stream",
          "text": [
            "60\n",
            "60"
          ],
          "name": "stdout"
        }
      ]
    },
    {
      "cell_type": "code",
      "metadata": {
        "id": "IBCUbzB-L36Z",
        "outputId": "78eda74b-e801-4644-9b50-b7b7f1ee52bd",
        "colab": {
          "base_uri": "https://localhost:8080/"
        }
      },
      "source": [
        "%%writefile variable08.cpp\n",
        "#include <iostream>\n",
        "using namespace std;\n",
        "\n",
        "int main() {\n",
        "  const int myNum = 15;\n",
        "  myNum = 10; // error: assignment of read-only variable 'myNum'\n",
        "  cout << myNum;\n",
        "  return 0;\n",
        "}\n"
      ],
      "execution_count": 2,
      "outputs": [
        {
          "output_type": "stream",
          "text": [
            "Writing variable08.cpp\n"
          ],
          "name": "stdout"
        }
      ]
    },
    {
      "cell_type": "code",
      "metadata": {
        "id": "8j4PBhIF-H1S",
        "outputId": "b7df6b24-9e39-4edf-87dc-c1d390c0d06b",
        "colab": {
          "base_uri": "https://localhost:8080/"
        }
      },
      "source": [
        "!g++ variable08.cpp -o variable08; ./variable08"
      ],
      "execution_count": 3,
      "outputs": [
        {
          "output_type": "stream",
          "text": [
            "\u001b[01m\u001b[Kvariable08.cpp:\u001b[m\u001b[K In function ‘\u001b[01m\u001b[Kint main()\u001b[m\u001b[K’:\n",
            "\u001b[01m\u001b[Kvariable08.cpp:6:11:\u001b[m\u001b[K \u001b[01;31m\u001b[Kerror: \u001b[m\u001b[Kassignment of read-only variable ‘\u001b[01m\u001b[KmyNum\u001b[m\u001b[K’\n",
            "   myNum = \u001b[01;31m\u001b[K10\u001b[m\u001b[K;\n",
            "           \u001b[01;31m\u001b[K^~\u001b[m\u001b[K\n",
            "/bin/bash: ./variable08: No such file or directory\n"
          ],
          "name": "stdout"
        }
      ]
    },
    {
      "cell_type": "code",
      "metadata": {
        "id": "RLbtIfo3-ezx",
        "outputId": "8fff8f82-10c9-4e80-9cdb-76f29d104376",
        "colab": {
          "base_uri": "https://localhost:8080/"
        }
      },
      "source": [
        "%%writefile variable09.cpp\n",
        "#include <iostream>\n",
        "using namespace std;\n",
        "\n",
        "int main() {\n",
        "  const int minutesPerHour = 60;\n",
        "  const float PI = 3.14;\n",
        "  cout << minutesPerHour << \"\\n\";\n",
        "  cout << PI;\n",
        "  return 0;\n",
        "}\n"
      ],
      "execution_count": 4,
      "outputs": [
        {
          "output_type": "stream",
          "text": [
            "Writing variable09.cpp\n"
          ],
          "name": "stdout"
        }
      ]
    },
    {
      "cell_type": "code",
      "metadata": {
        "id": "G5ydxV_O-jef",
        "outputId": "3957409a-e5de-46d0-8ad4-e42373f422c1",
        "colab": {
          "base_uri": "https://localhost:8080/"
        }
      },
      "source": [
        "!g++ variable09.cpp -o variable09; ./variable09"
      ],
      "execution_count": 5,
      "outputs": [
        {
          "output_type": "stream",
          "text": [
            "60\n",
            "3.14"
          ],
          "name": "stdout"
        }
      ]
    },
    {
      "cell_type": "markdown",
      "metadata": {
        "id": "3EaWIYtI-2JD"
      },
      "source": [
        "# input\n",
        "インプットについては、`cin` というのを使うが、Colab 環境ではやらない。\n",
        "\n",
        "次のような内容のファイルを実行すると、インプット待ちになってしまう。"
      ]
    },
    {
      "cell_type": "code",
      "metadata": {
        "id": "d2mAJMYl_Gx3",
        "outputId": "9e05a5cc-d1a2-4ab6-9ee7-0f612f6aec04",
        "colab": {
          "base_uri": "https://localhost:8080/"
        }
      },
      "source": [
        "%%script false\n",
        "#include <iostream>\n",
        "using namespace std;\n",
        "\n",
        "int main() {\n",
        "  int x, y;\n",
        "  int sum;\n",
        "  cout << \"Type a number: \";\n",
        "  cin >> x;\n",
        "  cout << \"Type another number: \";\n",
        "  cin >> y;\n",
        "  sum = x + y;\n",
        "  cout << \"Sum is: \" << sum;\n",
        "  return 0;\n",
        "}"
      ],
      "execution_count": 6,
      "outputs": [
        {
          "output_type": "stream",
          "text": [
            "Writing input01.cpp\n"
          ],
          "name": "stdout"
        }
      ]
    },
    {
      "cell_type": "markdown",
      "metadata": {
        "id": "UCTYi1Dk_sS4"
      },
      "source": [
        "# データタイプ\n"
      ]
    },
    {
      "cell_type": "code",
      "metadata": {
        "id": "rfOWTWDY_3ND",
        "outputId": "9a3ab5de-6b53-4fda-dcf2-417cc0f96ba9",
        "colab": {
          "base_uri": "https://localhost:8080/"
        }
      },
      "source": [
        "%%writefile datatype01.cpp\n",
        "\n",
        "#include <iostream>\n",
        "#include <string>\n",
        "using namespace std;\n",
        " \n",
        "int main () {\n",
        "  // Creating variables\n",
        "  int myNum = 5;               // Integer (whole number)\n",
        "  float myFloatNum = 5.99;     // Floating point number\n",
        "  double myDoubleNum = 9.98;   // Floating point number\n",
        "  char myLetter = 'D';         // Character\n",
        "  bool myBoolean = true;       // Boolean\n",
        "  string myString = \"Hello\";   // String\n",
        "   \n",
        "  // Print variable values\n",
        "  cout << \"int: \" << myNum << \"\\n\";\n",
        "  cout << \"float: \" << myFloatNum << \"\\n\";\n",
        "  cout << \"double: \" << myDoubleNum << \"\\n\";\n",
        "  cout << \"char: \" << myLetter << \"\\n\";\n",
        "  cout << \"bool: \" << myBoolean << \"\\n\";\n",
        "  cout << \"string: \" << myString << \"\\n\";\n",
        " \n",
        "  return 0;\n",
        "}\n"
      ],
      "execution_count": 8,
      "outputs": [
        {
          "output_type": "stream",
          "text": [
            "Writing datatype01.cpp\n"
          ],
          "name": "stdout"
        }
      ]
    },
    {
      "cell_type": "code",
      "metadata": {
        "id": "HqrUg7bf_8qW",
        "outputId": "1677bf6a-b3cc-4393-f19c-cf8ef7b6a072",
        "colab": {
          "base_uri": "https://localhost:8080/"
        }
      },
      "source": [
        "!g++ datatype01.cpp -o datatype01; ./datatype01"
      ],
      "execution_count": 9,
      "outputs": [
        {
          "output_type": "stream",
          "text": [
            "int: 5\n",
            "float: 5.99\n",
            "double: 9.98\n",
            "char: D\n",
            "bool: 1\n",
            "string: Hello\n"
          ],
          "name": "stdout"
        }
      ]
    },
    {
      "cell_type": "code",
      "metadata": {
        "id": "OWmRqKMBAQ4u",
        "outputId": "c6ca4019-99a6-450f-f678-5f85d2a9c147",
        "colab": {
          "base_uri": "https://localhost:8080/"
        }
      },
      "source": [
        "%%writefile datatype02.cpp\n",
        "\n",
        "#include <iostream>\n",
        "using namespace std;\n",
        " \n",
        "int main () {\n",
        "  float f1 = 35e3;\n",
        "  double d1 = 12E4;\n",
        "  cout << f1 << \"\\n\";\n",
        "  cout << d1;\n",
        "  return 0;\n",
        "}"
      ],
      "execution_count": 14,
      "outputs": [
        {
          "output_type": "stream",
          "text": [
            "Overwriting datatype02.cpp\n"
          ],
          "name": "stdout"
        }
      ]
    },
    {
      "cell_type": "code",
      "metadata": {
        "id": "_14b2DtCAVpP",
        "outputId": "0cb1e86d-b044-4737-dc86-f7e597430a53",
        "colab": {
          "base_uri": "https://localhost:8080/"
        }
      },
      "source": [
        "!g++ datatype02.cpp -o datatype02; ./datatype02"
      ],
      "execution_count": 13,
      "outputs": [
        {
          "output_type": "stream",
          "text": [
            "35000\n",
            "120000"
          ],
          "name": "stdout"
        }
      ]
    },
    {
      "cell_type": "markdown",
      "metadata": {
        "id": "qb7ZiVjhApuT"
      },
      "source": [
        "true は 1 で false は 0 。"
      ]
    },
    {
      "cell_type": "code",
      "metadata": {
        "id": "W0AAUO0bAtxJ",
        "outputId": "a0a4685f-df8c-489d-f53c-2994f88279a5",
        "colab": {
          "base_uri": "https://localhost:8080/"
        }
      },
      "source": [
        "%%writefile datatype03.cpp\n",
        "\n",
        "#include <iostream>\n",
        "using namespace std;\n",
        "\n",
        "int main() {\n",
        "  bool isCodingFun = true;\n",
        "  bool isFishTasty = false;\n",
        "  cout << isCodingFun << \"\\n\";\n",
        "  cout << isFishTasty;\n",
        "  return 0;\n",
        "}"
      ],
      "execution_count": 15,
      "outputs": [
        {
          "output_type": "stream",
          "text": [
            "Writing datatype03.cpp\n"
          ],
          "name": "stdout"
        }
      ]
    },
    {
      "cell_type": "code",
      "metadata": {
        "id": "-gl8iyL5Aym2",
        "outputId": "b0512c07-e78c-43c1-b0c9-790e39217ea2",
        "colab": {
          "base_uri": "https://localhost:8080/"
        }
      },
      "source": [
        "!g++ datatype03.cpp -o datatype03; ./datatype03"
      ],
      "execution_count": 16,
      "outputs": [
        {
          "output_type": "stream",
          "text": [
            "1\n",
            "0"
          ],
          "name": "stdout"
        }
      ]
    },
    {
      "cell_type": "code",
      "metadata": {
        "id": "3IU5jEfcA-X-",
        "outputId": "73241404-8745-402c-ec23-4a8f9327c20d",
        "colab": {
          "base_uri": "https://localhost:8080/"
        }
      },
      "source": [
        "%%writefile datatype04.cpp\n",
        "#include <iostream>\n",
        "using namespace std;\n",
        " \n",
        "int main () {\n",
        "  char myGrade = 'B';\n",
        "  cout << myGrade;\n",
        "  return 0;\n",
        "}"
      ],
      "execution_count": 17,
      "outputs": [
        {
          "output_type": "stream",
          "text": [
            "Writing datatype04.cpp\n"
          ],
          "name": "stdout"
        }
      ]
    },
    {
      "cell_type": "code",
      "metadata": {
        "id": "NTCm8SvcBCd-",
        "outputId": "7b3b7596-b46e-4ff3-a7b7-a2c9e765e022",
        "colab": {
          "base_uri": "https://localhost:8080/"
        }
      },
      "source": [
        "!g++ datatype04.cpp -o datatype04; ./datatype04"
      ],
      "execution_count": 18,
      "outputs": [
        {
          "output_type": "stream",
          "text": [
            "B"
          ],
          "name": "stdout"
        }
      ]
    },
    {
      "cell_type": "markdown",
      "metadata": {
        "id": "gGDte4QOhHKR"
      },
      "source": [
        "# いまここ\n",
        " const\n",
        " "
      ]
    }
  ]
}