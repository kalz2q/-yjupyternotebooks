{
  "nbformat": 4,
  "nbformat_minor": 0,
  "metadata": {
    "colab": {
      "name": "learncpp.ipynb",
      "provenance": [],
      "collapsed_sections": [],
      "toc_visible": true,
      "authorship_tag": "ABX9TyN1iSo18Jwhmti07Y5hbCXl",
      "include_colab_link": true
    },
    "kernelspec": {
      "name": "python3",
      "display_name": "Python 3"
    }
  },
  "cells": [
    {
      "cell_type": "markdown",
      "metadata": {
        "id": "view-in-github",
        "colab_type": "text"
      },
      "source": [
        "<a href=\"https://colab.research.google.com/github/kalz2q/mycolabnotebooks/blob/master/learncpp.ipynb\" target=\"_parent\"><img src=\"https://colab.research.google.com/assets/colab-badge.svg\" alt=\"Open In Colab\"/></a>"
      ]
    },
    {
      "cell_type": "markdown",
      "metadata": {
        "id": "5sevcYNyHthT"
      },
      "source": [
        "# メモ\n",
        "テキスト\n",
        "1. https://rinatz.github.io/cpp-book/ch01-02-hello-world/  ゼロから学ぶC++\n",
        "1. https://www.w3schools.com/cpp/   w3scoolのC++ Tutorial\n",
        "1. https://atcoder.jp/contests/apg4b AtCoder Programming Guide for Beginners APG4b\n"
      ]
    },
    {
      "cell_type": "markdown",
      "metadata": {
        "id": "DZsWwWMBYra0"
      },
      "source": [
        "セルマジックの `%%writefile` でソースのテキストを書いて、!gcc+ で実行する。 行頭のエクスクラメーションマーク `!` は Unix (Linux, Ubuntu) のシステムコマンドを利用するよ!!!! という意味。`!ls` や `!echo` が使える。\n",
        "\n",
        "Shift+Enter はセルを実行してフォーカスを次のセルに移動するので、便利に使える。"
      ]
    },
    {
      "cell_type": "code",
      "source": [
        "!g++ --version"
      ],
      "metadata": {
        "id": "ADvsIjo5PY0X"
      },
      "execution_count": null,
      "outputs": []
    },
    {
      "cell_type": "code",
      "metadata": {
        "id": "-jTNMcEE-y3-",
        "outputId": "17e9f8df-d603-4f24-ff71-fb493ea630c5",
        "colab": {
          "base_uri": "https://localhost:8080/"
        }
      },
      "source": [
        "%%writefile temp.cpp\n",
        "# include <bits/stdc++.h>\n",
        "using namespace std;\n",
        "\n",
        "int main() {\n",
        "  cout << \"Hello World!\" << endl;\n",
        "}"
      ],
      "execution_count": null,
      "outputs": [
        {
          "output_type": "stream",
          "name": "stdout",
          "text": [
            "Writing temp.cpp\n"
          ]
        }
      ]
    },
    {
      "cell_type": "markdown",
      "metadata": {
        "id": "aX9GYppIchv8"
      },
      "source": [
        "これを g++ でコンパイルする。  実行可能ファイル名を `-o` で指定しないと、デフォルトで `a.out` になる。 これを実行する。"
      ]
    },
    {
      "cell_type": "code",
      "metadata": {
        "id": "8Lf0COUH-9ol",
        "outputId": "47faaab0-811f-408d-8242-074d242640ec",
        "colab": {
          "base_uri": "https://localhost:8080/"
        }
      },
      "source": [
        "!g++ temp.cpp; ./a.out"
      ],
      "execution_count": null,
      "outputs": [
        {
          "output_type": "stream",
          "name": "stdout",
          "text": [
            "Hello World!\n"
          ]
        }
      ]
    },
    {
      "cell_type": "code",
      "metadata": {
        "id": "V7FCGvXToerV"
      },
      "source": [
        "# 実験 改行コードとかが使えるか\n",
        "%%writefile temp.cpp\n",
        "# include <bits/stdc++.h>\n",
        "using namespace std;\n",
        "\n",
        "int main() {\n",
        "  cout << \"hello world\\n \\t初めてのC++\" << endl;\n",
        "  cout << \"次の行\";\n",
        "}"
      ],
      "execution_count": null,
      "outputs": []
    },
    {
      "cell_type": "code",
      "metadata": {
        "id": "Gdy2RltWBMlU"
      },
      "source": [
        "!g++ temp.cpp; ./a.out"
      ],
      "execution_count": null,
      "outputs": []
    },
    {
      "cell_type": "code",
      "metadata": {
        "id": "vHNrx0tRpuBf"
      },
      "source": [
        "# for 構文\n",
        "# 次のは i を 1 ずつ増やして行って 10回 メッセージを書くプログラム。\n",
        "%%writefile temp.cpp\n",
        "# include <bits/stdc++.h>\n",
        "using namespace std;\n",
        "\n",
        "int main() {\n",
        "  for (int i = 0; i < 10; i++) cout << \"Hello World\" << endl;\n",
        "}\n"
      ],
      "execution_count": null,
      "outputs": []
    },
    {
      "cell_type": "code",
      "metadata": {
        "id": "hxXfoxj8Bkb2"
      },
      "source": [
        "!g++ temp.cpp; ./a.out"
      ],
      "execution_count": null,
      "outputs": []
    },
    {
      "cell_type": "markdown",
      "metadata": {
        "id": "VtOagpx9EaSA"
      },
      "source": [
        "コメントは `//`  と `/*` と `*/` \n",
        "\n",
        "`# include <bits/stdc++.h>` はヘッダーライブラリーと呼ばれるもの。\n",
        "\n",
        "`using namespace std` は標準ライブラリーのオブジェクトや変数の名前を使える、と言うこと。\n",
        "\n",
        "`cout` はシーアウトと読み、`<<` とセットで使われる。"
      ]
    },
    {
      "cell_type": "code",
      "source": [
        "# 変数のタイプ\n",
        "\n",
        "# * int\n",
        "# * double\n",
        "# * char\n",
        "# * \"string\"\n",
        "# * bool (true, false) \n",
        "\n",
        "# など。"
      ],
      "metadata": {
        "id": "9xEHO9jxdjDe"
      },
      "execution_count": null,
      "outputs": []
    },
    {
      "cell_type": "code",
      "metadata": {
        "id": "Mc2my2c0es1D"
      },
      "source": [
        "# cout は文字列と数値を受け付ける\n",
        "%%writefile temp.cpp\n",
        "# include <bits/stdc++.h>\n",
        "using namespace std;\n",
        "\n",
        "int main() {\n",
        "  int myNum = 15;\n",
        "  cout << myNum;\n",
        "}"
      ],
      "execution_count": null,
      "outputs": []
    },
    {
      "cell_type": "code",
      "metadata": {
        "id": "JRO5IbRYdIr8"
      },
      "source": [
        "!g++ temp.cpp; ./a.out"
      ],
      "execution_count": null,
      "outputs": []
    },
    {
      "cell_type": "code",
      "metadata": {
        "id": "3aRUXLCpIdJu"
      },
      "source": [
        "# 変数は上書きできるか => できる。 immutable ではない\n",
        "%%writefile temp.cpp\n",
        "# include <bits/stdc++.h>\n",
        "using namespace std;\n",
        "\n",
        "int main() {\n",
        "  int myNum = 15;   // Now myNum is 15\n",
        "  myNum = 10;       // Now myNum is 10\n",
        "  cout << myNum;\n",
        "}"
      ],
      "execution_count": null,
      "outputs": []
    },
    {
      "cell_type": "code",
      "metadata": {
        "id": "yCSbQFadIkgW"
      },
      "source": [
        "!g++ temp.cpp; ./a.out"
      ],
      "execution_count": null,
      "outputs": []
    },
    {
      "cell_type": "code",
      "metadata": {
        "id": "AyPpeOqOJAYm",
        "outputId": "a6354d15-9faf-4277-d181-8a6c9d86d5d6",
        "colab": {
          "base_uri": "https://localhost:8080/"
        }
      },
      "source": [
        "# 変数の型\n",
        "%%writefile temp.cpp\n",
        "# include <bits/stdc++.h>\n",
        "using namespace std;\n",
        "\n",
        "int main()\n",
        "{\n",
        "    int myNum = 5;            // Integer (whole number without decimals)\n",
        "    double myFloatNum = 5.99; // Floating point number (with decimals)\n",
        "    char myLetter = 'D';      // Character\n",
        "    string myText = \"Hello\";  // String (text)\n",
        "    bool myBoolean = true;    // Boolean (true or false)\n",
        "\n",
        "    cout << myNum << endl;\n",
        "    cout << myFloatNum << endl;\n",
        "    cout << myLetter << endl;\n",
        "    cout << myText << endl;\n",
        "    cout << myBoolean << endl;\n",
        "}"
      ],
      "execution_count": null,
      "outputs": [
        {
          "output_type": "stream",
          "name": "stdout",
          "text": [
            "Overwriting temp.cpp\n"
          ]
        }
      ]
    },
    {
      "cell_type": "code",
      "metadata": {
        "id": "1gfaLXePKNyp",
        "outputId": "ba5f3ae8-e2a2-481c-b68c-5edb77de2c3e",
        "colab": {
          "base_uri": "https://localhost:8080/"
        }
      },
      "source": [
        "!g++ temp.cpp; ./a.out"
      ],
      "execution_count": null,
      "outputs": [
        {
          "output_type": "stream",
          "name": "stdout",
          "text": [
            "5\n",
            "5.99\n",
            "D\n",
            "Hello\n",
            "1\n"
          ]
        }
      ]
    },
    {
      "cell_type": "code",
      "metadata": {
        "id": "I2hrg56RJB8V",
        "colab": {
          "base_uri": "https://localhost:8080/"
        },
        "outputId": "b00bcc22-50fd-4c79-cdd5-72133c03d5fe"
      },
      "source": [
        "%%writefile temp.cpp\n",
        "# include <bits/stdc++.h>\n",
        "using namespace std;\n",
        "\n",
        "int main() {\n",
        "  int myAge = 35;\n",
        "  cout << \"I am \" << myAge << \" years old.\";\n",
        "}"
      ],
      "execution_count": null,
      "outputs": [
        {
          "output_type": "stream",
          "name": "stdout",
          "text": [
            "Overwriting temp.cpp\n"
          ]
        }
      ]
    },
    {
      "cell_type": "code",
      "metadata": {
        "id": "2bnagYq-FYvS",
        "colab": {
          "base_uri": "https://localhost:8080/"
        },
        "outputId": "85db95fa-57f0-44a7-db3f-3210363588eb"
      },
      "source": [
        "!g++ temp.cpp; ./a.out"
      ],
      "execution_count": null,
      "outputs": [
        {
          "output_type": "stream",
          "name": "stdout",
          "text": [
            "I am 35 years old."
          ]
        }
      ]
    },
    {
      "cell_type": "code",
      "metadata": {
        "id": "lLkTZSs1Fhyx"
      },
      "source": [
        "%%writefile temp.cpp\n",
        "# include <bits/stdc++.h>\n",
        "using namespace std;\n",
        "\n",
        "int main() {\n",
        "  int x = 5;\n",
        "  int y = 6;\n",
        "  int sum = x + y;\n",
        "  cout << sum;\n",
        "}"
      ],
      "execution_count": null,
      "outputs": []
    },
    {
      "cell_type": "code",
      "metadata": {
        "id": "2l06UtFVJOCV"
      },
      "source": [
        "!g++ temp.cpp; ./a.out"
      ],
      "execution_count": null,
      "outputs": []
    },
    {
      "cell_type": "code",
      "metadata": {
        "id": "Q2pqnG9vJYlV"
      },
      "source": [
        "%%writefile temp.cpp\n",
        "# include <bits/stdc++.h>\n",
        "using namespace std;\n",
        "\n",
        "int main() {\n",
        "  int x = 5, y = 6, z = 50;  \n",
        "  cout << x + y + z;\n",
        "}"
      ],
      "execution_count": null,
      "outputs": []
    },
    {
      "cell_type": "code",
      "metadata": {
        "id": "VJDodQp8Jgmd"
      },
      "source": [
        "!g++ temp.cpp; ./a.out"
      ],
      "execution_count": null,
      "outputs": []
    },
    {
      "cell_type": "code",
      "metadata": {
        "id": "xV3cZma5LXxQ"
      },
      "source": [
        "%%writefile temp.cpp\n",
        "# include <bits/stdc++.h>\n",
        "using namespace std;\n",
        "\n",
        "int main() {\n",
        "  // Good name\n",
        "  int minutesPerHour = 60;\n",
        "  \n",
        "  // OK, but not so easy to understand what m actually is\n",
        "  int m = 60;\n",
        "  \n",
        "  cout << minutesPerHour << endl;\n",
        "  cout << m;\n",
        "  return 0;\n",
        "}"
      ],
      "execution_count": null,
      "outputs": []
    },
    {
      "cell_type": "code",
      "metadata": {
        "id": "fNUgnO2GLcia"
      },
      "source": [
        "!g++ temp.cpp; ./a.out"
      ],
      "execution_count": null,
      "outputs": []
    },
    {
      "cell_type": "code",
      "source": [
        "# C++ の変数名は camelCase(camel case) か、snake_case (snake case) か\n",
        "# どちらの主張もある。 \n",
        "# snake_case が多いみたい。\n",
        "# しかし!!!! snake_case はめんどくさい。\n",
        "# c++ 自体は camelCase を使っているので混ざることになる。\n",
        "# snake_case の方が美しいが、混ざるのは美しくない。\n",
        "# 今の考え。snake_case の方が美しいので、将来、あるレベルに達したら snake_case に統一するかもしれないが、\n",
        "# 学習段階は、どうせいつまでも学習段階なのだし、camelCase で統一する。"
      ],
      "metadata": {
        "id": "i5qsM6R8-Us7"
      },
      "execution_count": null,
      "outputs": []
    },
    {
      "cell_type": "code",
      "metadata": {
        "id": "IBCUbzB-L36Z"
      },
      "source": [
        "# const を使うと immutable になる\n",
        "%%writefile temp.cpp\n",
        "# include <bits/stdc++.h>\n",
        "using namespace std;\n",
        "\n",
        "int main() {\n",
        "  const int myNum = 15;\n",
        "  myNum = 10; // error: assignment of read-only variable 'myNum'\n",
        "  cout << myNum;\n",
        "}"
      ],
      "execution_count": null,
      "outputs": []
    },
    {
      "cell_type": "code",
      "metadata": {
        "id": "8j4PBhIF-H1S"
      },
      "source": [
        "!g++ temp.cpp; ./a.out"
      ],
      "execution_count": null,
      "outputs": []
    },
    {
      "cell_type": "code",
      "metadata": {
        "id": "RLbtIfo3-ezx",
        "colab": {
          "base_uri": "https://localhost:8080/"
        },
        "outputId": "80d11718-c6f4-49de-fbec-b68561105a94"
      },
      "source": [
        "%%writefile temp.cpp\n",
        "# include <bits/stdc++.h>\n",
        "using namespace std;\n",
        "\n",
        "int main() {\n",
        "  const int minutesPerHour = 60;\n",
        "  const float PI = 3.14;\n",
        "  cout << minutesPerHour << endl;\n",
        "  cout << PI;\n",
        "}\n"
      ],
      "execution_count": null,
      "outputs": [
        {
          "output_type": "stream",
          "name": "stdout",
          "text": [
            "Overwriting temp.cpp\n"
          ]
        }
      ]
    },
    {
      "cell_type": "code",
      "metadata": {
        "id": "G5ydxV_O-jef",
        "colab": {
          "base_uri": "https://localhost:8080/"
        },
        "outputId": "ad1776c5-4bad-4440-99fe-51235dd92ef0"
      },
      "source": [
        "!g++ temp.cpp; ./a.out"
      ],
      "execution_count": null,
      "outputs": [
        {
          "output_type": "stream",
          "name": "stdout",
          "text": [
            "60\n",
            "3.14"
          ]
        }
      ]
    },
    {
      "cell_type": "code",
      "metadata": {
        "id": "fQHrZCjS770U"
      },
      "source": [
        "# int num; とだけして出力すると何が入っているか実験\n",
        "#=> int は毎回値が違う。 string は \"\" みたい。\n",
        "%%writefile temp.cpp\n",
        "# include <bits/stdc++.h>\n",
        "using namespace std;\n",
        "\n",
        "int main() {\n",
        "  int num1;\n",
        "  string str1;\n",
        "  int num2;\n",
        "  cout << num1 << endl;\n",
        "  cout << str1 << endl;\n",
        "  cout << num2 << endl;\n",
        "}\n"
      ],
      "execution_count": null,
      "outputs": []
    },
    {
      "cell_type": "code",
      "metadata": {
        "id": "cuYmm3yw7-kY"
      },
      "source": [
        "!g++ temp.cpp; ./a.out"
      ],
      "execution_count": null,
      "outputs": []
    },
    {
      "cell_type": "code",
      "metadata": {
        "id": "_N9MptadGY1W",
        "colab": {
          "base_uri": "https://localhost:8080/"
        },
        "outputId": "c89863c3-44d8-4734-f397-6e9ca6a278c3"
      },
      "source": [
        "# 入力\n",
        "# `cin` で標準入力を受け付ける\n",
        "# 次のプログラムは本来はインタラクティブにユーザーが数字を入力することを想定しているが\n",
        "# colab のコードセルでは、インプット待ちになってしまい具合が悪い。\n",
        "# 実行例のように、echo とパイプで入力する数字を明示的にプログラムに渡す\n",
        "%%writefile temp.cpp\n",
        "# include <bits/stdc++.h>\n",
        "using namespace std;\n",
        "\n",
        "int main() {\n",
        "  int x, y;\n",
        "  int sum;\n",
        "  cout << \"Type a number: \";\n",
        "  cin >> x;\n",
        "  cout << \"Type another number: \";\n",
        "  cin >> y;\n",
        "  sum = x + y;\n",
        "  cout << \"Sum is: \" << sum;\n",
        "}"
      ],
      "execution_count": null,
      "outputs": [
        {
          "output_type": "stream",
          "name": "stdout",
          "text": [
            "Overwriting temp.cpp\n"
          ]
        }
      ]
    },
    {
      "cell_type": "code",
      "metadata": {
        "id": "dKO1hxPIGZYP",
        "colab": {
          "base_uri": "https://localhost:8080/"
        },
        "outputId": "68e7e222-f935-4f18-d265-3beb98db0b39"
      },
      "source": [
        "!g++ temp.cpp;  echo 3 7 |./a.out"
      ],
      "execution_count": null,
      "outputs": [
        {
          "output_type": "stream",
          "name": "stdout",
          "text": [
            "Type a number: Type another number: Sum is: 10"
          ]
        }
      ]
    },
    {
      "cell_type": "code",
      "source": [
        "# heredocument から変数への入力実験\n",
        "%%writefile temp.cpp\n",
        "# include <bits/stdc++.h>\n",
        "using namespace std;\n",
        "const string  str = R\"(\n",
        "2 3\n",
        "tiis is a ペン\n",
        ")\";\n",
        "int main(){\n",
        "    stringstream ss(str);\n",
        "    int N, M;\n",
        "    ss >> N >> M;\n",
        "    vector<string> vec(4);\n",
        "    for (int i = 0; i < 4; i++) {\n",
        "        ss >> vec.at(i);\n",
        "    }\n",
        "    cout << N << \" \" << M << endl;\n",
        "    for (int i = 0; i < 4; i++) {\n",
        "        cout << vec.at(i) << \" \";\n",
        "    }\n",
        "    cout << endl;\n",
        "}"
      ],
      "metadata": {
        "colab": {
          "base_uri": "https://localhost:8080/"
        },
        "id": "W2iNf4roPALx",
        "outputId": "8047f6bb-f0db-45ee-c511-8683890aff44"
      },
      "execution_count": null,
      "outputs": [
        {
          "output_type": "stream",
          "name": "stdout",
          "text": [
            "Overwriting temp.cpp\n"
          ]
        }
      ]
    },
    {
      "cell_type": "code",
      "source": [
        "!g++ temp.cpp; ./a.out"
      ],
      "metadata": {
        "colab": {
          "base_uri": "https://localhost:8080/"
        },
        "id": "Ivp5uovGP6AU",
        "outputId": "0d3b9966-2eb5-4c71-e3e1-dbc2fecf95f5"
      },
      "execution_count": null,
      "outputs": [
        {
          "output_type": "stream",
          "name": "stdout",
          "text": [
            "2 3\n",
            "tiis is a ペン \n"
          ]
        }
      ]
    },
    {
      "cell_type": "code",
      "metadata": {
        "id": "rfOWTWDY_3ND",
        "outputId": "692d20ce-e8a4-4fc7-9f70-9bc615c95340",
        "colab": {
          "base_uri": "https://localhost:8080/"
        }
      },
      "source": [
        "# データタイプ\n",
        "%%writefile temp.cpp\n",
        "# include <bits/stdc++.h>\n",
        "using namespace std;\n",
        " \n",
        "int main () {\n",
        "  // Creating variables\n",
        "  int myNum = 5;               // Integer (whole number)\n",
        "  float myFloatNum = 5.99;     // Floating point number\n",
        "  double myDoubleNum = 9.98;   // Floating point number\n",
        "  char myLetter = 'D';         // Character\n",
        "  bool myBoolean = true;       // Boolean\n",
        "  string myString = \"Hello\";   // String\n",
        "   \n",
        "  // Print variable values\n",
        "  cout << \"int: \" << myNum << endl;\n",
        "  cout << \"float: \" << myFloatNum << endl;\n",
        "  cout << \"double: \" << myDoubleNum << endl;\n",
        "  cout << \"char: \" << myLetter << endl;\n",
        "  cout << \"bool: \" << myBoolean << endl;\n",
        "  cout << \"string: \" << myString << endl;\n",
        "}\n"
      ],
      "execution_count": null,
      "outputs": [
        {
          "output_type": "stream",
          "name": "stdout",
          "text": [
            "Overwriting temp.cpp\n"
          ]
        }
      ]
    },
    {
      "cell_type": "code",
      "metadata": {
        "id": "HqrUg7bf_8qW",
        "outputId": "d2e8a2c7-bf30-424d-a588-4fe1fba72786",
        "colab": {
          "base_uri": "https://localhost:8080/"
        }
      },
      "source": [
        "!g++ temp.cpp; ./a.out"
      ],
      "execution_count": null,
      "outputs": [
        {
          "output_type": "stream",
          "name": "stdout",
          "text": [
            "int: 5\n",
            "float: 5.99\n",
            "double: 9.98\n",
            "char: D\n",
            "bool: 1\n",
            "string: Hello\n"
          ]
        }
      ]
    },
    {
      "cell_type": "code",
      "metadata": {
        "id": "OWmRqKMBAQ4u",
        "colab": {
          "base_uri": "https://localhost:8080/"
        },
        "outputId": "def14bc0-bd8f-4a53-f610-e7dc4059778b"
      },
      "source": [
        "# float, double の表記\n",
        "%%writefile temp.cpp\n",
        "# include <bits/stdc++.h>\n",
        "using namespace std;\n",
        " \n",
        "int main () {\n",
        "  float f1 = 35e3;\n",
        "  double d1 = 12E4;\n",
        "  cout << f1 << endl;\n",
        "  cout << d1;\n",
        "}"
      ],
      "execution_count": null,
      "outputs": [
        {
          "output_type": "stream",
          "name": "stdout",
          "text": [
            "Overwriting temp.cpp\n"
          ]
        }
      ]
    },
    {
      "cell_type": "code",
      "metadata": {
        "id": "_14b2DtCAVpP",
        "colab": {
          "base_uri": "https://localhost:8080/"
        },
        "outputId": "66bd91dd-de19-4c40-9370-548c213daa37"
      },
      "source": [
        "!g++ temp.cpp; ./a.out"
      ],
      "execution_count": null,
      "outputs": [
        {
          "output_type": "stream",
          "name": "stdout",
          "text": [
            "35000\n",
            "120000"
          ]
        }
      ]
    },
    {
      "cell_type": "code",
      "metadata": {
        "id": "W0AAUO0bAtxJ",
        "colab": {
          "base_uri": "https://localhost:8080/"
        },
        "outputId": "431f7075-59f6-4319-eae1-85567fa38070"
      },
      "source": [
        "# true は 1 で false は 0 \n",
        "%%writefile temp.cpp\n",
        "# include <bits/stdc++.h>\n",
        "using namespace std;\n",
        "\n",
        "int main() {\n",
        "  bool isCodingFun = true;\n",
        "  bool isFishTasty = false;\n",
        "  cout << isCodingFun << endl;\n",
        "  cout << isFishTasty;\n",
        "}"
      ],
      "execution_count": null,
      "outputs": [
        {
          "output_type": "stream",
          "name": "stdout",
          "text": [
            "Overwriting temp.cpp\n"
          ]
        }
      ]
    },
    {
      "cell_type": "code",
      "metadata": {
        "id": "-gl8iyL5Aym2",
        "colab": {
          "base_uri": "https://localhost:8080/"
        },
        "outputId": "10d4561b-17a6-4e87-87a1-5fac98091a43"
      },
      "source": [
        "!g++ temp.cpp; ./a.out"
      ],
      "execution_count": null,
      "outputs": [
        {
          "output_type": "stream",
          "name": "stdout",
          "text": [
            "1\n",
            "0"
          ]
        }
      ]
    },
    {
      "cell_type": "code",
      "metadata": {
        "id": "3IU5jEfcA-X-",
        "colab": {
          "base_uri": "https://localhost:8080/"
        },
        "outputId": "a4117f2c-df8a-4121-a7c1-febe2518146c"
      },
      "source": [
        "# char の出力\n",
        "%%writefile temp.cpp\n",
        "# include <bits/stdc++.h>\n",
        "using namespace std;\n",
        "int main () {\n",
        "  char myGrade = 'B';\n",
        "  cout << myGrade << endl;\n",
        "  cout << \"AB\" + myGrade << endl;\n",
        "}"
      ],
      "execution_count": null,
      "outputs": [
        {
          "output_type": "stream",
          "name": "stdout",
          "text": [
            "Overwriting temp.cpp\n"
          ]
        }
      ]
    },
    {
      "cell_type": "code",
      "metadata": {
        "id": "NTCm8SvcBCd-",
        "colab": {
          "base_uri": "https://localhost:8080/"
        },
        "outputId": "ea3e4eea-3b43-4a67-e04e-e7278c988a49"
      },
      "source": [
        "!g++ temp.cpp; ./a.out"
      ],
      "execution_count": null,
      "outputs": [
        {
          "output_type": "stream",
          "name": "stdout",
          "text": [
            "B\n",
            "��4\u0001\n"
          ]
        }
      ]
    },
    {
      "cell_type": "code",
      "metadata": {
        "id": "0CmJwJybRjc7",
        "colab": {
          "base_uri": "https://localhost:8080/"
        },
        "outputId": "3b02b7a5-9571-4966-8146-59c74b5d5425"
      },
      "source": [
        "# char と int\n",
        "%%writefile temp.cpp\n",
        "# include <bits/stdc++.h>\n",
        "using namespace std;\n",
        "int main () {\n",
        "  char a = 65, b = 66, c = 67;\n",
        "  cout << a;\n",
        "  cout << b;\n",
        "  cout << c;\n",
        "}"
      ],
      "execution_count": null,
      "outputs": [
        {
          "output_type": "stream",
          "name": "stdout",
          "text": [
            "Overwriting temp.cpp\n"
          ]
        }
      ]
    },
    {
      "cell_type": "code",
      "metadata": {
        "id": "ENlZzWMRRqDt",
        "colab": {
          "base_uri": "https://localhost:8080/"
        },
        "outputId": "2a438480-5a56-43cf-85fc-6cbf8fbb2d16"
      },
      "source": [
        "!g++ temp.cpp; ./a.out"
      ],
      "execution_count": null,
      "outputs": [
        {
          "output_type": "stream",
          "name": "stdout",
          "text": [
            "ABC"
          ]
        }
      ]
    },
    {
      "cell_type": "code",
      "source": [
        "# char と string\n",
        "# string に char を連結する\n",
        "# push_back を使ってみる\n",
        "%%writefile temp.cpp\n",
        "# include <bits/stdc++.h>\n",
        "using namespace std;\n",
        "int main () {\n",
        "    string str = \"ab\";\n",
        "    char c = 'c';\n",
        "    str.push_back(c);\n",
        "    cout << str + 'd' << endl;\n",
        "}"
      ],
      "metadata": {
        "id": "w7nxRMtvTEuh",
        "outputId": "b1724544-2590-44fc-b374-387297c5e849",
        "colab": {
          "base_uri": "https://localhost:8080/"
        }
      },
      "execution_count": null,
      "outputs": [
        {
          "output_type": "stream",
          "name": "stdout",
          "text": [
            "Overwriting temp.cpp\n"
          ]
        }
      ]
    },
    {
      "cell_type": "code",
      "source": [
        "!g++ temp.cpp; ./a.out"
      ],
      "metadata": {
        "id": "nrP3u5ruTEqr",
        "outputId": "36dbaacf-9ec9-4290-fed0-f6033decb8d1",
        "colab": {
          "base_uri": "https://localhost:8080/"
        }
      },
      "execution_count": null,
      "outputs": [
        {
          "output_type": "stream",
          "name": "stdout",
          "text": [
            "abcd\n"
          ]
        }
      ]
    },
    {
      "cell_type": "code",
      "source": [
        "# stringstream に出し入れ出来るか\n",
        "# 出来る。文字列になるので文字列として連続する\n",
        "%%writefile temp.cpp\n",
        "# include <bits/stdc++.h>\n",
        "using namespace std;\n",
        "int main () {\n",
        "  char a = 65, b = 66, c = 67;\n",
        "  stringstream ss(\"\");\n",
        "  ss << a << b << c;\n",
        "  string x;\n",
        "  ss >> x;\n",
        "  cout << x << endl;\n",
        "}"
      ],
      "metadata": {
        "colab": {
          "base_uri": "https://localhost:8080/"
        },
        "id": "KQm9nU2NTub5",
        "outputId": "17acc5bf-07c2-4ee4-fce7-c168cfea9610"
      },
      "execution_count": null,
      "outputs": [
        {
          "output_type": "stream",
          "name": "stdout",
          "text": [
            "Overwriting temp.cpp\n"
          ]
        }
      ]
    },
    {
      "cell_type": "code",
      "source": [
        "!g++ temp.cpp; ./a.out"
      ],
      "metadata": {
        "colab": {
          "base_uri": "https://localhost:8080/"
        },
        "id": "KBa8Lg8kUKTJ",
        "outputId": "195edf64-a95c-41a4-eece-1f847e49d6ea"
      },
      "execution_count": null,
      "outputs": [
        {
          "output_type": "stream",
          "name": "stdout",
          "text": [
            "ABC\n"
          ]
        }
      ]
    },
    {
      "cell_type": "code",
      "metadata": {
        "id": "W25cg3YA9Mbi"
      },
      "source": [
        "!g++ temp.cpp; ./a.out"
      ],
      "execution_count": null,
      "outputs": []
    },
    {
      "cell_type": "code",
      "source": [
        "# メモ endl\n",
        "# cout で \"\\n\" と endl の違いは endl は \"\\n\" とストリームのフラッシュアウトを行っている\n",
        "# cout を使った時は必ず endl も加えるのが良いと思う"
      ],
      "metadata": {
        "id": "mYkfn0oZwySb"
      },
      "execution_count": null,
      "outputs": []
    },
    {
      "cell_type": "code",
      "metadata": {
        "id": "_EayjJ3W9g0a",
        "colab": {
          "base_uri": "https://localhost:8080/"
        },
        "outputId": "5d32bec2-5eef-40d4-b661-4362d94f136e"
      },
      "source": [
        "# 演算子\n",
        "# 四則演算\n",
        "%%writefile temp.cpp\n",
        "# include <bits/stdc++.h>\n",
        "using namespace std;\n",
        "\n",
        "int main() {\n",
        "    int x = 5;\n",
        "    int y = 2;\n",
        "    cout << \"5 / 2 = \" << x / y << endl; // 整数割り算\n",
        "    cout << \"5 % 2 = \" << x % y << endl; ; // 余り\n",
        "    div_t result = div(5,2);\n",
        "    cout << result.quot << endl;\n",
        "    cout << result.rem << endl;\n",
        "}\n"
      ],
      "execution_count": null,
      "outputs": [
        {
          "output_type": "stream",
          "name": "stdout",
          "text": [
            "Overwriting temp.cpp\n"
          ]
        }
      ]
    },
    {
      "cell_type": "code",
      "metadata": {
        "id": "KDvLHObl9z0h",
        "colab": {
          "base_uri": "https://localhost:8080/"
        },
        "outputId": "d861bb08-ec0a-47e7-a3f2-8c8a5afaea1b"
      },
      "source": [
        "!g++ temp.cpp; ./a.out"
      ],
      "execution_count": null,
      "outputs": [
        {
          "output_type": "stream",
          "name": "stdout",
          "text": [
            "5 / 2 = 2\n",
            "5 % 2 = 1\n",
            "2\n",
            "1\n"
          ]
        }
      ]
    },
    {
      "cell_type": "code",
      "metadata": {
        "id": "mwz_2IN6-slS",
        "colab": {
          "base_uri": "https://localhost:8080/"
        },
        "outputId": "4765a49c-c6f4-4efd-d395-33bb35ce7efc"
      },
      "source": [
        "# 引数がマイナスの場合の結果が Python と違う!!!!\n",
        "%%writefile temp.cpp\n",
        "# include <bits/stdc++.h>\n",
        "using namespace std;\n",
        "\n",
        "int main() {\n",
        "  int x = -5;\n",
        "  int y = 2;\n",
        "  cout << \"-5 / 2 = \" << x / y << endl;\n",
        "  cout << \"-5 % 2 = \" << x % y ;\n",
        "}"
      ],
      "execution_count": null,
      "outputs": [
        {
          "output_type": "stream",
          "name": "stdout",
          "text": [
            "Overwriting temp.cpp\n"
          ]
        }
      ]
    },
    {
      "cell_type": "code",
      "metadata": {
        "id": "qgdR8ljE-yzv",
        "colab": {
          "base_uri": "https://localhost:8080/"
        },
        "outputId": "e4086af3-ad86-493f-9606-8974bcebd08f"
      },
      "source": [
        "!g++ temp.cpp; ./a.out"
      ],
      "execution_count": null,
      "outputs": [
        {
          "output_type": "stream",
          "name": "stdout",
          "text": [
            "-5 / 2 = -2\n",
            "-5 % 2 = -1"
          ]
        }
      ]
    },
    {
      "cell_type": "code",
      "metadata": {
        "id": "txQnJ6OoGvrH",
        "colab": {
          "base_uri": "https://localhost:8080/"
        },
        "outputId": "655e13d6-8c83-4321-ce8e-0afd85a9174f"
      },
      "source": [
        "# python の場合\n",
        "print(-5 / 2)\n",
        "print(-5//2)\n",
        "print(-5 % 2)"
      ],
      "execution_count": null,
      "outputs": [
        {
          "output_type": "stream",
          "name": "stdout",
          "text": [
            "-2.5\n",
            "-3\n",
            "1\n"
          ]
        }
      ]
    },
    {
      "cell_type": "code",
      "metadata": {
        "id": "TlAjyukyHOJy",
        "colab": {
          "base_uri": "https://localhost:8080/"
        },
        "outputId": "c48b2328-063f-4e1a-c6e9-27159fd5f918"
      },
      "source": [
        "# 冪乗はどうするのか。 python では -5**3 と書くが\n",
        "# pow() を使う\n",
        "%%writefile temp.cpp\n",
        "# include <bits/stdc++.h> // <cmath> も含まれる\n",
        "using namespace std;\n",
        "\n",
        "int main() {\n",
        "  int x = -5;\n",
        "  int y = 3;\n",
        "  cout << \"pow(-5, 3) = \" << pow(x, y) << endl;\n",
        "  cout << \"pow(\" << y << \", \" << x << \") = \" << pow(y, x);\n",
        "}"
      ],
      "execution_count": null,
      "outputs": [
        {
          "output_type": "stream",
          "name": "stdout",
          "text": [
            "Overwriting temp.cpp\n"
          ]
        }
      ]
    },
    {
      "cell_type": "code",
      "metadata": {
        "id": "dT-3wFH6HezZ",
        "colab": {
          "base_uri": "https://localhost:8080/"
        },
        "outputId": "8b30d486-f2fa-470c-9c6f-aae20a3db15c"
      },
      "source": [
        "!g++ temp.cpp; ./a.out"
      ],
      "execution_count": null,
      "outputs": [
        {
          "output_type": "stream",
          "name": "stdout",
          "text": [
            "pow(-5, 3) = -125\n",
            "pow(3, -5) = 0.00411523"
          ]
        }
      ]
    },
    {
      "cell_type": "code",
      "metadata": {
        "id": "b4Nys8y_vBT1",
        "colab": {
          "base_uri": "https://localhost:8080/"
        },
        "outputId": "1c156a3d-45b8-4889-c5b1-8f4f73ee35ec"
      },
      "source": [
        "# アサインメント演算子\n",
        "%%writefile temp.cpp\n",
        "# include <bits/stdc++.h>\n",
        "using namespace std;\n",
        "\n",
        "int main() {\n",
        "  int x = 5;\n",
        "  x += 3;\n",
        "  cout << x << endl;\n",
        "  cout << x-- << endl;\n",
        "  cout << x << endl;\n",
        "  cout << --x << endl;\n",
        "}"
      ],
      "execution_count": null,
      "outputs": [
        {
          "output_type": "stream",
          "name": "stdout",
          "text": [
            "Overwriting temp.cpp\n"
          ]
        }
      ]
    },
    {
      "cell_type": "code",
      "metadata": {
        "id": "4pyoHRQBvg_z",
        "colab": {
          "base_uri": "https://localhost:8080/"
        },
        "outputId": "8b3cc578-921e-4061-b66a-7c7006641b20"
      },
      "source": [
        "!g++ temp.cpp; ./a.out"
      ],
      "execution_count": null,
      "outputs": [
        {
          "output_type": "stream",
          "name": "stdout",
          "text": [
            "8\n",
            "8\n",
            "7\n",
            "6\n"
          ]
        }
      ]
    },
    {
      "cell_type": "code",
      "metadata": {
        "id": "Hpc2_pUod-fM"
      },
      "source": [
        "# ビット演算子\n",
        "# 5 は 2進数で 101、4 は 100 なので & を取ると、100 で 4 になる。\n",
        "%%writefile temp.cpp\n",
        "# include <bits/stdc++.h>\n",
        "using namespace std;\n",
        "\n",
        "int main() {\n",
        "    int x = 5;\n",
        "    x &= 4;\n",
        "    cout << x;\n",
        "}"
      ],
      "execution_count": null,
      "outputs": []
    },
    {
      "cell_type": "code",
      "metadata": {
        "id": "Co6kI7K9eHMS"
      },
      "source": [
        "!g++ temp.cpp; ./a.out"
      ],
      "execution_count": null,
      "outputs": []
    },
    {
      "cell_type": "code",
      "source": [
        "# ビット演算子\n",
        "%%html\n",
        "<style>\n",
        "    tr td:nth-child(2) {\n",
        "        color: red;\n",
        "        text-align: center;\n",
        "    }\n",
        "</style>\n",
        "<table border=\"1\">\n",
        "<thead>\n",
        "<tr><th>ビット演算</th><th>演算子</th><th>意味</th></tr>\n",
        "</thead>\n",
        "<tbody>\n",
        "<tr><td>ビット毎のAND演算</td><td>&</td><td>各ビットについて「両方のビットが1ならば1」という操作を適用する。</td></tr>\n",
        "<tr><td>ビット毎のOR演算</td><td>|</td><td>各ビットについて「少なくとも一方のビットが1ならば1」という操作を適用する。</td></tr>\n",
        "<tr><td>ビット毎のXOR演算</td><td>^</td><td>各ビットについて「どちらか一方だけが1ならば1」という操作を適用する。</td></tr>\n",
        "<tr><td>ビット毎のNOT演算</td><td>~</td><td>各ビットについて「ビットを反転する」という操作を適用する。</td></tr>\n",
        "<tr><td>左シフト演算</td><td><<</td><td>指定したビット数だけビット列を左にずらす。範囲外のビットは切り捨てられ、足りないビットは0で埋められる。</td></tr>\n",
        "<tr><td>右シフト演算</td><td>>></td><td>指定したビット数だけビット列を右にずらす。範囲外のビットは切り捨てられ、足りないビットは0で埋められる。</td></tr>\n",
        "</tbody>\n",
        "</table>"
      ],
      "metadata": {
        "id": "7ltxraARyrpM",
        "colab": {
          "base_uri": "https://localhost:8080/",
          "height": 181
        },
        "outputId": "709152d0-1b9c-4deb-c5e3-78fec92c0b45"
      },
      "execution_count": null,
      "outputs": [
        {
          "output_type": "display_data",
          "data": {
            "text/plain": [
              "<IPython.core.display.HTML object>"
            ],
            "text/html": [
              "<style>\n",
              "    tr td:nth-child(2) {\n",
              "        color: red;\n",
              "        text-align: center;\n",
              "    }\n",
              "</style>\n",
              "<table border=\"1\">\n",
              "<thead>\n",
              "<tr><th>ビット演算</th><th>演算子</th><th>意味</th></tr>\n",
              "</thead>\n",
              "<tbody>\n",
              "<tr><td>ビット毎のAND演算</td><td>&</td><td>各ビットについて「両方のビットが1ならば1」という操作を適用する。</td></tr>\n",
              "<tr><td>ビット毎のOR演算</td><td>|</td><td>各ビットについて「少なくとも一方のビットが1ならば1」という操作を適用する。</td></tr>\n",
              "<tr><td>ビット毎のXOR演算</td><td>^</td><td>各ビットについて「どちらか一方だけが1ならば1」という操作を適用する。</td></tr>\n",
              "<tr><td>ビット毎のNOT演算</td><td>~</td><td>各ビットについて「ビットを反転する」という操作を適用する。</td></tr>\n",
              "<tr><td>左シフト演算</td><td><<</td><td>指定したビット数だけビット列を左にずらす。範囲外のビットは切り捨てられ、足りないビットは0で埋められる。</td></tr>\n",
              "<tr><td>右シフト演算</td><td>>></td><td>指定したビット数だけビット列を右にずらす。範囲外のビットは切り捨てられ、足りないビットは0で埋められる。</td></tr>\n",
              "</tbody>\n",
              "</table>"
            ]
          },
          "metadata": {}
        }
      ]
    },
    {
      "cell_type": "code",
      "source": [
        "# 2進数 10進数 相互変換\n",
        "%%writefile temp.cpp\n",
        "# include <bits/stdc++.h>\n",
        "using namespace std;\n",
        "\n",
        "int main() {\n",
        "    bitset<3> x(4);\n",
        "    bitset<3> y = 5;\n",
        "    bitset<3> z(0b111);\n",
        "    bitset<3> a(\"010\");\n",
        "    cout << x << endl;\n",
        "    cout << y << endl;\n",
        "    cout << z << endl;\n",
        "    cout << a << endl;\n",
        "    cout << a.to_ullong() << endl; // ビットセットの内容を unsigned long long 整数に変換\n",
        "    string  b = \"12345\";\n",
        "    int c = stoi(b);\n",
        "    cout << c + 1 << endl; \n",
        "}"
      ],
      "metadata": {
        "id": "ixIvpcsJK0u_",
        "colab": {
          "base_uri": "https://localhost:8080/"
        },
        "outputId": "ca3975ff-530b-45a8-d610-dab6c8e103ad"
      },
      "execution_count": null,
      "outputs": [
        {
          "output_type": "stream",
          "name": "stdout",
          "text": [
            "Overwriting temp.cpp\n"
          ]
        }
      ]
    },
    {
      "cell_type": "code",
      "source": [
        "!g++ temp.cpp; ./a.out"
      ],
      "metadata": {
        "id": "XRpLe0v7LTuw",
        "colab": {
          "base_uri": "https://localhost:8080/"
        },
        "outputId": "45c6d694-8286-4700-e68f-22c60b352c39"
      },
      "execution_count": null,
      "outputs": [
        {
          "output_type": "stream",
          "name": "stdout",
          "text": [
            "100\n",
            "101\n",
            "111\n",
            "010\n",
            "2\n",
            "12346\n"
          ]
        }
      ]
    },
    {
      "cell_type": "code",
      "metadata": {
        "id": "DoppkUDGfF7C",
        "colab": {
          "base_uri": "https://localhost:8080/"
        },
        "outputId": "7048c12a-35cc-4ada-dc64-6816882dc8c4"
      },
      "source": [
        "import numpy as np\n",
        "print(np.base_repr(5, 2))\n",
        "print(np.base_repr(4,2))"
      ],
      "execution_count": null,
      "outputs": [
        {
          "output_type": "stream",
          "name": "stdout",
          "text": [
            "101\n",
            "100\n"
          ]
        }
      ]
    },
    {
      "cell_type": "code",
      "metadata": {
        "id": "3BUv3ygpf4rH",
        "colab": {
          "base_uri": "https://localhost:8080/"
        },
        "outputId": "b13894ad-862b-4c51-ba86-8f5dc6ebd3cd"
      },
      "source": [
        "# 5 は 2進数で 101 で、これを `<<` で 3桁左にずらすと 101000 にな\n",
        "%%writefile temp.cpp\n",
        "# include <bits/stdc++.h>\n",
        "using namespace std;\n",
        "\n",
        "int main() {\n",
        "  int x = 5;\n",
        "  x <<= 3;\n",
        "  cout << x << endl;\n",
        "  bitset<8> y = x;\n",
        "  cout << y << endl;\n",
        "  cout << bitset<8>(x) << endl;\n",
        "}"
      ],
      "execution_count": null,
      "outputs": [
        {
          "output_type": "stream",
          "name": "stdout",
          "text": [
            "Overwriting temp.cpp\n"
          ]
        }
      ]
    },
    {
      "cell_type": "code",
      "metadata": {
        "id": "TJ1DijnqgAHr",
        "colab": {
          "base_uri": "https://localhost:8080/"
        },
        "outputId": "828efc2b-24c3-49f1-8c1f-300dbdeae459"
      },
      "source": [
        "!g++ temp.cpp; ./a.out"
      ],
      "execution_count": null,
      "outputs": [
        {
          "output_type": "stream",
          "name": "stdout",
          "text": [
            "40\n",
            "00101000\n",
            "00101000\n"
          ]
        }
      ]
    },
    {
      "cell_type": "code",
      "metadata": {
        "id": "JV2gT3iagztB",
        "colab": {
          "base_uri": "https://localhost:8080/"
        },
        "outputId": "bf58b58a-7691-47fa-f7f2-b7a350ada57c"
      },
      "source": [
        "# 文字列 string\n",
        "%%writefile temp.cpp\n",
        "# include <bits/stdc++.h>\n",
        "using namespace std;\n",
        "int main() {\n",
        "  string greeting = \"Hello\";\n",
        "  cout << greeting;\n",
        "}"
      ],
      "execution_count": null,
      "outputs": [
        {
          "output_type": "stream",
          "name": "stdout",
          "text": [
            "Overwriting temp.cpp\n"
          ]
        }
      ]
    },
    {
      "cell_type": "code",
      "metadata": {
        "id": "snL3f-Vrg5jt",
        "colab": {
          "base_uri": "https://localhost:8080/"
        },
        "outputId": "39fe03a9-68d2-46e9-fa39-f77884025552"
      },
      "source": [
        "!g++ temp.cpp; ./a.out"
      ],
      "execution_count": null,
      "outputs": [
        {
          "output_type": "stream",
          "name": "stdout",
          "text": [
            "Hello"
          ]
        }
      ]
    },
    {
      "cell_type": "code",
      "metadata": {
        "id": "llvccZAOBmoX",
        "colab": {
          "base_uri": "https://localhost:8080/"
        },
        "outputId": "976eefd7-98d2-4293-b452-a816f33c39fe"
      },
      "source": [
        "# 文字列連結 string concatination `+`\n",
        "%%writefile temp.cpp\n",
        "# include <bits/stdc++.h>\n",
        "#include <string>\n",
        "using namespace std;\n",
        "int main () {\n",
        "  string firstName = \"John \";\n",
        "  string lastName = \"Doe\";\n",
        "  string fullName = firstName + lastName;\n",
        "  cout << fullName;\n",
        "}"
      ],
      "execution_count": null,
      "outputs": [
        {
          "output_type": "stream",
          "name": "stdout",
          "text": [
            "Overwriting temp.cpp\n"
          ]
        }
      ]
    },
    {
      "cell_type": "code",
      "metadata": {
        "id": "r995sRAhBrIa",
        "colab": {
          "base_uri": "https://localhost:8080/"
        },
        "outputId": "8e7748f4-b9b1-4903-ef3a-8ef2cdac11e4"
      },
      "source": [
        "!g++ temp.cpp; ./a.out"
      ],
      "execution_count": null,
      "outputs": [
        {
          "output_type": "stream",
          "name": "stdout",
          "text": [
            "John Doe"
          ]
        }
      ]
    },
    {
      "cell_type": "code",
      "metadata": {
        "id": "-iqkU708CLAj",
        "colab": {
          "base_uri": "https://localhost:8080/"
        },
        "outputId": "7c5d3167-2f15-4442-d607-dd49782c0c7a"
      },
      "source": [
        "# append \n",
        "%%writefile temp.cpp\n",
        "# include <bits/stdc++.h>\n",
        "using namespace std;\n",
        " \n",
        "int main () {\n",
        "  string firstName = \"John \";\n",
        "  string lastName = \"Dandelion\";\n",
        "  string fullName = firstName.append(lastName);\n",
        "  cout << fullName << endl;\n",
        "  cout << firstName.append(lastName) << endl;\n",
        "  cout << firstName.append(lastName, 3,4) << endl;\n",
        "}"
      ],
      "execution_count": null,
      "outputs": [
        {
          "output_type": "stream",
          "name": "stdout",
          "text": [
            "Overwriting temp.cpp\n"
          ]
        }
      ]
    },
    {
      "cell_type": "code",
      "metadata": {
        "id": "SJR6YJUbCU_o",
        "colab": {
          "base_uri": "https://localhost:8080/"
        },
        "outputId": "0d64ce6b-eda7-4295-a76e-834c2a55ea47"
      },
      "source": [
        "!g++ temp.cpp; ./a.out"
      ],
      "execution_count": null,
      "outputs": [
        {
          "output_type": "stream",
          "name": "stdout",
          "text": [
            "John Dandelion\n",
            "John DandelionDandelion\n",
            "John DandelionDandeliondeli\n"
          ]
        }
      ]
    },
    {
      "cell_type": "code",
      "metadata": {
        "id": "O8rjyAcwCzW5"
      },
      "source": [
        "# txt.length() と txt.size() は同じか\n",
        "%%writefile temp.cpp\n",
        "# include <bits/stdc++.h>\n",
        "using namespace std;\n",
        "int main() {\n",
        "  string txt = \"ABCDEFGHIJKLMNOPQRSTUVWXYZ\";\n",
        "  cout << \"The length of the txt string is: \" << txt.length() << endl;\n",
        "  cout << \"The size of the txt string is: \" << txt.size() << endl;\n",
        "}"
      ],
      "execution_count": null,
      "outputs": []
    },
    {
      "cell_type": "code",
      "metadata": {
        "id": "bN8osuBqC8Oe"
      },
      "source": [
        "!g++ temp.cpp; ./a.out"
      ],
      "execution_count": null,
      "outputs": []
    },
    {
      "cell_type": "code",
      "metadata": {
        "id": "Fwhtd7A5Dn6V"
      },
      "source": [
        "# txt.length() と txt.size() は同じか\n",
        "# 2バイト文字(全角文字)を数えない点も含め、同じ\n",
        "# 多分型が違うのだがわからない\n",
        "%%writefile temp.cpp\n",
        "# include <bits/stdc++.h>\n",
        "using namespace std;\n",
        "int main() {\n",
        "  string txt = \"日本語\";\n",
        "  cout << txt << endl;\n",
        "  cout << \"The length of the txt string is: \" << txt.length() << endl;\n",
        "  cout << \"The size of the txt string is: \" << txt.size() << endl;\n",
        "}"
      ],
      "execution_count": null,
      "outputs": []
    },
    {
      "cell_type": "code",
      "metadata": {
        "id": "tFZQBolJDn6V"
      },
      "source": [
        "!g++ temp.cpp; ./a.out"
      ],
      "execution_count": null,
      "outputs": []
    },
    {
      "cell_type": "code",
      "source": [
        "# utf-8 の文字数を返す関数を作りたい。そのために\n",
        "# str2vec と言う vector<str> を返り値にした関数を作る\n",
        "# str に utf-8 の 1 文字が入る\n",
        "%%writefile temp.cpp\n",
        "# include <bits/stdc++.h>\n",
        "using namespace std;\n",
        "\n",
        "int count_byte(char c){\n",
        "    if ((c & 0x80) == 0) return 1;\n",
        "    else if ((c & 0xe0) == 0xc0) return 2;\n",
        "    else if ((c & 0xf0) == 0xe0) return 3;\n",
        "    else return 4;\n",
        "}\n",
        "\n",
        "vector<string> str2vec(string &str){\n",
        "    vector<string> vec;\n",
        "    for (int i = 0 ; i < str.size(); i += count_byte(str.at(i))){\n",
        "        vec.push_back(str.substr(i,count_byte(str.at(i))));\n",
        "    }    \n",
        "    return vec;\n",
        "}\n",
        "\n",
        "int main() {\n",
        "    string str;\n",
        "    getline(cin, str);\n",
        "    vector<string> vec;\n",
        "    vec = str2vec(str);\n",
        "    for (auto& item : vec) {\n",
        "        cout << item;\n",
        "    };\n",
        "    cout << endl;\n",
        "    cout << \"文字列の長さは \" << vec.size() << \" です。\" << endl;\n",
        "}"
      ],
      "metadata": {
        "id": "LNYM-g0NkM9w",
        "outputId": "f9e2a6ed-9d6d-41a5-a63e-021404e102f3",
        "colab": {
          "base_uri": "https://localhost:8080/"
        }
      },
      "execution_count": null,
      "outputs": [
        {
          "output_type": "stream",
          "name": "stdout",
          "text": [
            "Overwriting temp.cpp\n"
          ]
        }
      ]
    },
    {
      "cell_type": "code",
      "source": [
        "#!g++ temp.cpp; echo \"日本語\" |./a.out"
      ],
      "metadata": {
        "id": "BnmfvB0QkOFx",
        "outputId": "9584a4dc-0afc-4057-cc74-1411997a88d8",
        "colab": {
          "base_uri": "https://localhost:8080/"
        }
      },
      "execution_count": null,
      "outputs": [
        {
          "output_type": "stream",
          "name": "stdout",
          "text": [
            "日本語\n",
            "文字列の長さは 3 です。\n"
          ]
        }
      ]
    },
    {
      "cell_type": "code",
      "source": [
        "# アイデア lines を作る\n",
        "# 複数の行からなるテキストで云々。\n",
        "# vector<str> lines() と言う関数でもとのテキストを行単位の\n",
        "# 返り値が {\"this is a pen.\", \"これは本です。\"}\n",
        "# 元のテキストが\n",
        "# const string  str = R\"(this is a pen.\n",
        "# これは本です。)\";\n",
        "%%writefile temp.cpp\n",
        "# include <bits/stdc++.h>\n",
        "using namespace std;\n",
        "\n",
        "const string  str = R\"(this is a pen.\n",
        "これは本です。)\";\n",
        "\n",
        "string formatVecStr(vector<string> vec){\n",
        "    string str = \"\";\n",
        "    str +=\"{\";\n",
        "    bool isFirst = true;\n",
        "    for (auto item : vec){\n",
        "        if(!isFirst) str += \", \";\n",
        "        str = str + '\"' + item + '\"';\n",
        "        isFirst = false;\n",
        "    };\n",
        "    str += \"}\";\n",
        "    return str;\n",
        "}\n",
        "\n",
        "vector<string> lines(string str){\n",
        "    vector<string> vec = {};\n",
        "    stringstream ss(str);\n",
        "    string line = \"\";\n",
        "    while (getline(ss, line)){\n",
        "        vec.push_back(line);\n",
        "    }\n",
        "    return vec;\n",
        "}\n",
        "\n",
        "int main () {\n",
        "    vector<string> vec = lines(str);\n",
        "    cout << formatVecStr(vec) << endl;\n",
        "}"
      ],
      "metadata": {
        "id": "5ACTxr07am_g",
        "colab": {
          "base_uri": "https://localhost:8080/"
        },
        "outputId": "359d5490-ea70-48cc-cc59-4a115dc841e8"
      },
      "execution_count": null,
      "outputs": [
        {
          "output_type": "stream",
          "name": "stdout",
          "text": [
            "Overwriting temp.cpp\n"
          ]
        }
      ]
    },
    {
      "cell_type": "code",
      "source": [
        "!g++ temp.cpp; ./a.out"
      ],
      "metadata": {
        "id": "mMRdK7ymYICW",
        "outputId": "bdb3cbe8-b714-45ca-99b1-1f22299fc748",
        "colab": {
          "base_uri": "https://localhost:8080/"
        }
      },
      "execution_count": null,
      "outputs": [
        {
          "output_type": "stream",
          "name": "stdout",
          "text": [
            "{\"this is a pen.\", \"これは本です。\"}\n"
          ]
        }
      ]
    },
    {
      "cell_type": "code",
      "metadata": {
        "id": "N3yk1iHVaYc0",
        "outputId": "bd3c3425-2674-46bb-a012-e70d2ca0d09c",
        "colab": {
          "base_uri": "https://localhost:8080/"
        }
      },
      "source": [
        "# string\n",
        "%%writefile temp.cpp\n",
        "# include <bits/stdc++.h>\n",
        "#include <string>\n",
        "using namespace std;\n",
        "int main() {\n",
        "  string myString = \"Hello\";\n",
        "  myString[0] = 'J';\n",
        "  myString.at(4) = 'A';\n",
        "  cout << myString << endl;\n",
        "}\n"
      ],
      "execution_count": null,
      "outputs": [
        {
          "output_type": "stream",
          "name": "stdout",
          "text": [
            "Overwriting temp.cpp\n"
          ]
        }
      ]
    },
    {
      "cell_type": "code",
      "metadata": {
        "id": "iOu-_DX2akcc",
        "outputId": "379293de-99ab-4fd4-d4cf-71329a374f8c",
        "colab": {
          "base_uri": "https://localhost:8080/"
        }
      },
      "source": [
        "!g++ temp.cpp; ./a.out"
      ],
      "execution_count": null,
      "outputs": [
        {
          "output_type": "stream",
          "name": "stdout",
          "text": [
            "JellA\n"
          ]
        }
      ]
    },
    {
      "cell_type": "code",
      "metadata": {
        "id": "7Bk6CAf-bGft",
        "outputId": "26501621-b810-4499-f012-01dc0ce0d2d5",
        "colab": {
          "base_uri": "https://localhost:8080/"
        }
      },
      "source": [
        "# 行を取り込む\n",
        "# 説明 $\\quad$ `cin >> fullName;` とすると、スペースで区切られたインプットの\n",
        "# スペース前が代入されて行全体が代入されないので、`getline (cin, fullName);` とする。\n",
        "%%writefile temp.cpp\n",
        "# include <bits/stdc++.h>\n",
        "using namespace std;\n",
        "int main() {\n",
        "  string fullName;\n",
        "  // cout << \"Type your full name: \";\n",
        "  getline (cin, fullName);\n",
        "  cout << \"Your name is: \" << fullName;\n",
        "}\n"
      ],
      "execution_count": 2,
      "outputs": [
        {
          "output_type": "stream",
          "name": "stdout",
          "text": [
            "Writing temp.cpp\n"
          ]
        }
      ]
    },
    {
      "cell_type": "code",
      "metadata": {
        "id": "ncf-dL8fljoH",
        "outputId": "c2442986-4903-4b5a-8413-5d920ea79aaa",
        "colab": {
          "base_uri": "https://localhost:8080/"
        }
      },
      "source": [
        "!g++ temp.cpp; echo Abraham Lincoln | ./a.out"
      ],
      "execution_count": 3,
      "outputs": [
        {
          "output_type": "stream",
          "name": "stdout",
          "text": [
            "Your name is: Abraham Lincoln"
          ]
        }
      ]
    },
    {
      "cell_type": "code",
      "source": [
        "# ネームスペースのの省略\n",
        "# using namespace std;\n",
        "# を省略したときの書き方 =>  `::` をつける。"
      ],
      "metadata": {
        "id": "nGgjeu8CJ3zu"
      },
      "execution_count": null,
      "outputs": []
    },
    {
      "cell_type": "code",
      "metadata": {
        "id": "DqYJWTLfTHA0",
        "outputId": "fd2c5282-1360-495d-9304-d2c7603c95f3",
        "colab": {
          "base_uri": "https://localhost:8080/"
        }
      },
      "source": [
        "# Math cmath\n",
        "%%writefile temp.cpp\n",
        "# include <bits/stdc++.h>\n",
        "using namespace std;\n",
        "int main() {\n",
        "  cout << max(5, 10);\n",
        "}"
      ],
      "execution_count": 8,
      "outputs": [
        {
          "output_type": "stream",
          "name": "stdout",
          "text": [
            "Overwriting temp.cpp\n"
          ]
        }
      ]
    },
    {
      "cell_type": "code",
      "metadata": {
        "id": "m-Q7U_LkTPSy",
        "outputId": "66a2a46c-c078-4b76-c8bf-54957a7a1d57",
        "colab": {
          "base_uri": "https://localhost:8080/"
        }
      },
      "source": [
        "!g++ temp.cpp; ./a.out"
      ],
      "execution_count": 9,
      "outputs": [
        {
          "output_type": "stream",
          "name": "stdout",
          "text": [
            "10"
          ]
        }
      ]
    },
    {
      "cell_type": "code",
      "metadata": {
        "id": "qUNsklXVUExb",
        "outputId": "93c1b05b-fbc0-4d48-8c7b-070b7729cf0d",
        "colab": {
          "base_uri": "https://localhost:8080/"
        }
      },
      "source": [
        "# cmath Math\n",
        "%%writefile temp.cpp\n",
        "# include <bits/stdc++.h>\n",
        "// #include <cmath>\n",
        "using namespace std;\n",
        "\n",
        "int main() {\n",
        "  cout << log(2) << endl; // 0.693147\n",
        "  cout << log(0) << endl; // -inf\n",
        "  cout << log(1) << endl; // 0\n",
        "  cout << setprecision(16) <<exp(1) << endl; // ネイピア数 2.718281828459045\n",
        "  cout << log(exp(1)) << endl; // 1\n",
        "  cout <<  M_PI << endl; // 円周率 3.141592653589793\n",
        "  cout << (1 + sqrt(5))/2 << endl; // 黄金比 1.618033988749895\n",
        "  cout << sqrt(2) << endl; // 白銀比 1.414213562373095\n",
        "}"
      ],
      "execution_count": 19,
      "outputs": [
        {
          "output_type": "stream",
          "name": "stdout",
          "text": [
            "Overwriting temp.cpp\n"
          ]
        }
      ]
    },
    {
      "cell_type": "code",
      "metadata": {
        "id": "2supEKMcUJyx",
        "outputId": "b2de12a9-e9f8-477d-ac31-6f2b766a3b1c",
        "colab": {
          "base_uri": "https://localhost:8080/"
        }
      },
      "source": [
        "!g++ temp.cpp; ./a.out"
      ],
      "execution_count": 20,
      "outputs": [
        {
          "output_type": "stream",
          "name": "stdout",
          "text": [
            "0.693147\n",
            "-inf\n",
            "0\n",
            "2.718281828459045\n",
            "1\n",
            "3.141592653589793\n",
            "1.618033988749895\n",
            "1.414213562373095\n"
          ]
        }
      ]
    },
    {
      "cell_type": "code",
      "metadata": {
        "id": "5efZAImnB0ZC"
      },
      "source": [
        "# cmath ライブラリーのほかの関数\n",
        "%%writefile temp.cpp\n",
        "# include <bits/stdc++.h>\n",
        "using namespace std;\n",
        "\n",
        "int main() {\n",
        "  cout << sin(3.14/2) << endl; // 1\n",
        "  cout << setprecision(16) << sin(3.14/2) << endl; // 0.9999996829318346\n",
        "  cout << setprecision(16) << sin(M_PI/2) << endl; // 1\n",
        "  cout << cbrt(64) << endl; // 4\n",
        "  cout << abs(-2.3) << endl; // 2,3\n",
        "  cout << ceil(-2.3) << endl; // -2\n",
        "  cout << floor(-2.3) << endl; // -3\n",
        "  cout << fdim(3.5, -3.5) << endl; // 7 最大値と最小値の差\n",
        "  cout << max(3,4) << endl; // 4 最大値\n",
        "  cout << hypot(3, 4) << endl; // 平方和の平方根 斜辺 hypothenuse\n",
        "  cout << fmod(5.0, 2.1) << endl; // 0.7999999999999998\n",
        "  cout << pow(16, 0.5) << endl; // 16^0.5\n",
        "}"
      ],
      "execution_count": null,
      "outputs": []
    },
    {
      "cell_type": "code",
      "metadata": {
        "id": "zi6mNxxCB0ZF"
      },
      "source": [
        "!g++ temp.cpp; ./a.out"
      ],
      "execution_count": null,
      "outputs": []
    },
    {
      "cell_type": "code",
      "source": [
        "# メモ\n",
        "# 数学定数について\n",
        "# 円周率は M_PI を使う\n",
        "# これは C 標準数学ライブラリの定義済みマクロ式\n",
        "# C++20 以降では numbers::pi とかになるらしい\n",
        "# 今の colab の g++ --version は 7.5\n",
        "# 7.5 は C++17 まで対応で、標準では C++14 でコンパイルする\n",
        "# include <numbers> は使えない。無理して使う必要はない。\n",
        "# bits/stdc++.h はすべての標準ライブラリを一度にインクルードできるヘッダファイル\n",
        "# すべてなので C++14, C++17, C++20 に依存する"
      ],
      "metadata": {
        "id": "o0_oABdDTK6J"
      },
      "execution_count": null,
      "outputs": []
    },
    {
      "cell_type": "code",
      "metadata": {
        "id": "oYYWPgYh74ob",
        "outputId": "1706e182-88fe-4b62-8a55-f77aa0d6e595",
        "colab": {
          "base_uri": "https://localhost:8080/"
        }
      },
      "source": [
        "# bool型 cout すると 1 と 0 になる\n",
        "%%writefile temp.cpp\n",
        "# include <bits/stdc++.h>\n",
        "using namespace std;\n",
        "\n",
        "int main() {\n",
        "  bool isCodingFun = true;\n",
        "  bool isFishTasty = false;\n",
        "  cout << isCodingFun << endl;\n",
        "  cout << isFishTasty;\n",
        "}"
      ],
      "execution_count": 21,
      "outputs": [
        {
          "output_type": "stream",
          "name": "stdout",
          "text": [
            "Overwriting temp.cpp\n"
          ]
        }
      ]
    },
    {
      "cell_type": "code",
      "metadata": {
        "id": "RhUYA2c-7_hz",
        "outputId": "9982832b-20cb-45c7-b869-a9f66a02db50",
        "colab": {
          "base_uri": "https://localhost:8080/"
        }
      },
      "source": [
        "!g++ temp.cpp; ./a.out"
      ],
      "execution_count": 22,
      "outputs": [
        {
          "output_type": "stream",
          "name": "stdout",
          "text": [
            "1\n",
            "0"
          ]
        }
      ]
    },
    {
      "cell_type": "code",
      "metadata": {
        "id": "DW3WU3amjC16"
      },
      "source": [
        "# if と比較演算子 括弧が必要\n",
        "%%writefile temp.cpp\n",
        "# include <bits/stdc++.h>\n",
        "using namespace std;\n",
        "\n",
        "int main() {\n",
        "  int x = 20;\n",
        "  int y = 18;\n",
        "  if (x > y) {\n",
        "    cout << \"x is greater than y\";\n",
        "  }  \n",
        "}"
      ],
      "execution_count": null,
      "outputs": []
    },
    {
      "cell_type": "code",
      "metadata": {
        "id": "U-TeRyy3jElS"
      },
      "source": [
        "!g++ temp.cpp; ./a.out"
      ],
      "execution_count": null,
      "outputs": []
    },
    {
      "cell_type": "code",
      "metadata": {
        "id": "bl06solSjfo0"
      },
      "source": [
        "# if else の中身は波括弧で括るが中身が1つの時は省略できる\n",
        "%%writefile temp.cpp\n",
        "# include <bits/stdc++.h>\n",
        "using namespace std;\n",
        "\n",
        "int main() {\n",
        "  int time;\n",
        "  cin >> time;\n",
        "  if (time < 18) cout << \"Good day.\";\n",
        "  else cout << \"Good evening.\";\n",
        "}"
      ],
      "execution_count": null,
      "outputs": []
    },
    {
      "cell_type": "code",
      "metadata": {
        "id": "lD_yDgDTjiKH"
      },
      "source": [
        "!g++ temp.cpp; echo 20 |./a.out"
      ],
      "execution_count": null,
      "outputs": []
    },
    {
      "cell_type": "code",
      "metadata": {
        "id": "1qUuh5JSj4JZ"
      },
      "source": [
        "# else if\n",
        "%%writefile temp.cpp\n",
        "# include <bits/stdc++.h>\n",
        "using namespace std;\n",
        "int main() {\n",
        "  int time;\n",
        "  cin >> time;\n",
        "  if (time < 10) cout << \"Good morning.\";\n",
        "  else if (time < 20) cout << \"Good day.\";\n",
        "  else cout << \"Good evening.\";\n",
        "}"
      ],
      "execution_count": null,
      "outputs": []
    },
    {
      "cell_type": "code",
      "metadata": {
        "id": "WeNIRfvfj6km"
      },
      "source": [
        "!g++ temp.cpp; echo 18 |./a.out"
      ],
      "execution_count": null,
      "outputs": []
    },
    {
      "cell_type": "code",
      "metadata": {
        "id": "16UgntYYkPkF"
      },
      "source": [
        "# 三項演算子 ?: ternery operator\n",
        "%%writefile temp.cpp\n",
        "# include <bits/stdc++.h>\n",
        "using namespace std;\n",
        "\n",
        "int main() {\n",
        "  int time = 20;\n",
        "  string result = (time < 18) ? \"Good day.\" : \"Good evening.\";\n",
        "  cout << result << endl;\n",
        "  cout <<  ((time < 18) ? \"Good day.\" : \"Good evening.\");\n",
        "}\n"
      ],
      "execution_count": null,
      "outputs": []
    },
    {
      "cell_type": "code",
      "metadata": {
        "id": "lhEkWQxbkW39"
      },
      "source": [
        "!g++ temp.cpp; ./a.out"
      ],
      "execution_count": null,
      "outputs": []
    },
    {
      "cell_type": "markdown",
      "source": [
        "# いまここ"
      ],
      "metadata": {
        "id": "GufAABfIgIVe"
      }
    },
    {
      "cell_type": "code",
      "metadata": {
        "id": "XcesfRGD7Zei"
      },
      "source": [
        "# switch 構文\n",
        "%%writefile temp.cpp\n",
        "\n",
        "# include <bits/stdc++.h>\n",
        "using namespace std;\n",
        "\n",
        "int main() {\n",
        "  int day = 4;\n",
        "  switch (day) {\n",
        "  case 1:\n",
        "    cout << \"Monday\";\n",
        "    break;\n",
        "  case 2:\n",
        "    cout << \"Tuesday\";\n",
        "    break;\n",
        "  case 3:\n",
        "    cout << \"Wednesday\";\n",
        "    break;\n",
        "  case 4:\n",
        "    cout << \"Thursday\";\n",
        "    break;\n",
        "  case 5:\n",
        "    cout << \"Friday\";\n",
        "    break;\n",
        "  case 6:\n",
        "    cout << \"Saturday\";\n",
        "   break;\n",
        "  case 7:\n",
        "    cout << \"Sunday\";\n",
        "    break;\n",
        "  }\n",
        "}"
      ],
      "execution_count": null,
      "outputs": []
    },
    {
      "cell_type": "code",
      "metadata": {
        "id": "q729GEbV7e4R"
      },
      "source": [
        "!g++ temp.cpp; ./a.out"
      ],
      "execution_count": null,
      "outputs": []
    },
    {
      "cell_type": "code",
      "source": [
        "# 上記の switch 構文の例は switch の中で cout を使っているので関数にすべきでしょう\n",
        "# num2week\n",
        "%%writefile temp.cpp\n",
        "# include <bits/stdc++.h>\n",
        "using namespace std;\n",
        "string num2week(int day) {\n",
        "  switch (day) {\n",
        "  case 1: return \"Monday\";\n",
        "  case 2: return \"Tuesday\";\n",
        "  case 3: return \"Wednesday\";\n",
        "  case 4: return \"Thursday\";\n",
        "  case 5: return \"Friday\";\n",
        "  case 6: return \"Saturday\";\n",
        "  default: return \"何?\";\n",
        "  }\n",
        "}\n",
        "\n",
        "int main() {\n",
        "  int day;\n",
        "  cin >> day;\n",
        "  cout << num2week(day) << endl;\n",
        "}"
      ],
      "metadata": {
        "id": "kfPfajHEt45j"
      },
      "execution_count": null,
      "outputs": []
    },
    {
      "cell_type": "code",
      "source": [
        "!g++ temp.cpp; echo 4 |./a.out\n",
        "!g++ temp.cpp; echo 5 |./a.out\n",
        "!g++ temp.cpp; echo 8 |./a.out #=> default が返る\n",
        "!g++ temp.cpp; echo えっと |./a.out #=> int でないものが入力されても default が返る"
      ],
      "metadata": {
        "id": "REo34TtSfqCd"
      },
      "execution_count": null,
      "outputs": []
    },
    {
      "cell_type": "code",
      "metadata": {
        "id": "ihhwaJtn4JMD"
      },
      "source": [
        "# while 構文\n",
        "%%writefile temp.cpp\n",
        "# include <bits/stdc++.h>\n",
        "using namespace std;\n",
        "\n",
        "int main() {\n",
        "  int i = 0;\n",
        "  while (i < 5) {\n",
        "    cout << i << endl;\n",
        "    i++;\n",
        "  }\n",
        "  return 0;\n",
        "}"
      ],
      "execution_count": null,
      "outputs": []
    },
    {
      "cell_type": "code",
      "metadata": {
        "id": "zcOgtPoW4Jpz"
      },
      "source": [
        "!g++ temp.cpp; ./a.out"
      ],
      "execution_count": null,
      "outputs": []
    },
    {
      "cell_type": "code",
      "metadata": {
        "id": "kDVoKXM74eEN"
      },
      "source": [
        "# do while 構文\n",
        "%%writefile temp.cpp\n",
        "# include <bits/stdc++.h>\n",
        "using namespace std;\n",
        "\n",
        "int main() {\n",
        "  int i = 0;\n",
        "  do {\n",
        "    cout << i << endl;\n",
        "    i++;\n",
        "  }\n",
        "  while (i < 5);\n",
        "  return 0;\n",
        "}\n"
      ],
      "execution_count": null,
      "outputs": []
    },
    {
      "cell_type": "code",
      "metadata": {
        "id": "T5EZk3rj4dp_"
      },
      "source": [
        "!g++ temp.cpp; ./a.out"
      ],
      "execution_count": null,
      "outputs": []
    },
    {
      "cell_type": "code",
      "metadata": {
        "id": "mekcQLVJ5C21"
      },
      "source": [
        "# for 構文\n",
        "%%writefile temp.cpp\n",
        "# include <bits/stdc++.h>\n",
        "using namespace std;\n",
        "\n",
        "int main() {\n",
        "  for (int i = 0; i < 5; i++) {\n",
        "    cout << i << endl;\n",
        "  }\n",
        "  return 0;\n",
        "}\n"
      ],
      "execution_count": null,
      "outputs": []
    },
    {
      "cell_type": "code",
      "metadata": {
        "id": "vVMSUoTD5DWS"
      },
      "source": [
        "!g++ temp.cpp; ./a.out"
      ],
      "execution_count": null,
      "outputs": []
    },
    {
      "cell_type": "code",
      "metadata": {
        "id": "6B9Qb9kU5d75"
      },
      "source": [
        "# for 構文で i を 2 ずつ増やす\n",
        "%%writefile temp.cpp\n",
        "# include <bits/stdc++.h>\n",
        "using namespace std;\n",
        "\n",
        "int main() {\n",
        "  for (int i = 0; i <= 10; i = i + 2) {\n",
        "    cout << i << endl;\n",
        "  }\n",
        "  return 0;\n",
        "}"
      ],
      "execution_count": null,
      "outputs": []
    },
    {
      "cell_type": "code",
      "metadata": {
        "id": "Xi5yv6sO5jx2"
      },
      "source": [
        "!g++ temp.cpp; ./a.out"
      ],
      "execution_count": null,
      "outputs": []
    },
    {
      "cell_type": "code",
      "metadata": {
        "id": "tRiVBXFL2rnC"
      },
      "source": [
        "# continue\n",
        "%%writefile temp.cpp\n",
        "# include <bits/stdc++.h>\n",
        "using namespace std;\n",
        "\n",
        "int main() {\n",
        "  for (int i = 0; i < 10; i++) {\n",
        "    if (i == 4) {\n",
        "      continue;\n",
        "    }\n",
        "    cout << i << endl;\n",
        "  }   \n",
        "  return 0;\n",
        "}\n"
      ],
      "execution_count": null,
      "outputs": []
    },
    {
      "cell_type": "code",
      "metadata": {
        "id": "holEDCC520Dk"
      },
      "source": [
        "!g++ temp.cpp; ./a.out"
      ],
      "execution_count": null,
      "outputs": []
    },
    {
      "cell_type": "code",
      "metadata": {
        "id": "qf_0WEWnl4yx"
      },
      "source": [
        "# 配列\n",
        "# 次のは C の配列で、今はあまり使われないのではないか\n",
        "# array もある。list もある。が、基本的に vector に書き換えよう\n",
        "%%writefile temp.cpp\n",
        "# include <bits/stdc++.h>\n",
        "using namespace std;\n",
        "int main() {\n",
        "  // string cars[4] = {\"Volvo\", \"BMW\", \"Ford\", \"Mazda\"};\n",
        "  // cout << cars[0];\n",
        "  vector<string> cars = {\"Volvo\", \"BMW\", \"Ford\", \"Mazda\"};\n",
        "  cout << cars.at(0) << endl;\n",
        "}"
      ],
      "execution_count": null,
      "outputs": []
    },
    {
      "cell_type": "code",
      "metadata": {
        "id": "e3onRGAemAhi"
      },
      "source": [
        "!g++ temp.cpp; ./a.out"
      ],
      "execution_count": null,
      "outputs": []
    },
    {
      "cell_type": "code",
      "metadata": {
        "id": "JickdBaumMKJ"
      },
      "source": [
        "# C の配列は項の書き換えが出来る\n",
        "%%writefile temp.cpp\n",
        "# include <bits/stdc++.h>\n",
        "using namespace std;\n",
        "\n",
        "int main() {\n",
        "    /* string cars[4] = {\"Volvo\", \"BMW\", \"Ford\", \"Mazda\"};\n",
        "    cars[0] = \"Opel\";\n",
        "    cout << cars[0]; */\n",
        "    vector<string> cars = {\"Volvo\", \"BMW\", \"Ford\", \"Mazda\"};\n",
        "    cars.at(0) = \"Opel\";\n",
        "    cout << cars.at(0) << endl;\n",
        "}\n"
      ],
      "execution_count": null,
      "outputs": []
    },
    {
      "cell_type": "code",
      "metadata": {
        "id": "xME08Ssamati"
      },
      "source": [
        "!g++ temp.cpp; ./a.out"
      ],
      "execution_count": null,
      "outputs": []
    },
    {
      "cell_type": "code",
      "metadata": {
        "id": "-8spDgtFmnW7"
      },
      "source": [
        "%%writefile temp.cpp\n",
        "# include <bits/stdc++.h>\n",
        "using namespace std;\n",
        "int main(){\n",
        "    vector<string> cars = {\"Volvo\", \"BMW\", \"Ford\", \"Mazda\"};\n",
        "    for(int i = 0; i < 4; i++) {\n",
        "        cout << cars.at(i) << endl;\n",
        "    }\n",
        "}"
      ],
      "execution_count": null,
      "outputs": []
    },
    {
      "cell_type": "code",
      "metadata": {
        "id": "jy8wA-48mq-n"
      },
      "source": [
        "!g++ temp.cpp; ./a.out"
      ],
      "execution_count": null,
      "outputs": []
    },
    {
      "cell_type": "code",
      "metadata": {
        "id": "nJ5zPLrsm1z1"
      },
      "source": [
        "%%writefile temp.cpp\n",
        "# include <bits/stdc++.h>\n",
        "using namespace std;\n",
        "int main() {\n",
        "  vector<string> cars = {\"Volvo\", \"BMW\", \"Ford\", \"Mazda\"};\n",
        "  for(int i = 0; i < 4; i++) {\n",
        "    cout << i << \": \" << cars.at(i) << endl;\n",
        "  }\n",
        "}"
      ],
      "execution_count": null,
      "outputs": []
    },
    {
      "cell_type": "code",
      "metadata": {
        "id": "BVbo7l6km5T1"
      },
      "source": [
        "!g++ temp.cpp; ./a.out"
      ],
      "execution_count": null,
      "outputs": []
    },
    {
      "cell_type": "code",
      "metadata": {
        "id": "Sy8xPThGnpbg"
      },
      "source": [
        "# vector に付け足す\n",
        "%%writefile temp.cpp\n",
        "# include <bits/stdc++.h>\n",
        "using namespace std;\n",
        "int main() {\n",
        "  vector<string> cars = {\"Volvo\", \"BMW\", \"Ford\"};\n",
        "  cars.push_back(\"Mazda\");\n",
        "  cars.push_back(\"Tesla\") ;\n",
        "  for(auto item: cars) {\n",
        "    cout << item << endl;\n",
        "  }\n",
        "}"
      ],
      "execution_count": null,
      "outputs": []
    },
    {
      "cell_type": "code",
      "metadata": {
        "id": "GIVj0MYAnswK"
      },
      "source": [
        "!g++ temp.cpp; ./a.out"
      ],
      "execution_count": null,
      "outputs": []
    },
    {
      "cell_type": "code",
      "metadata": {
        "id": "OSU6Fsxqn5Rs"
      },
      "source": [
        "%%writefile temp.cpp\n",
        "# include <bits/stdc++.h>\n",
        "using namespace std;\n",
        "int main() {\n",
        "  vector<string> cars;\n",
        "  cars.push_back(\"Volvo\");\n",
        "  cars.push_back(\"BMW\");\n",
        "  cars.push_back(\"Ford\");\n",
        "  cars.push_back(\"Mazda\");\n",
        "  cars.push_back(\"Tesla\");\n",
        "  cars.at(0) = \"Toyota\";\n",
        "  for(int i = 0; i < 5; i++) {\n",
        "    cout << cars.at(i) << endl;\n",
        "  }\n",
        "}\n"
      ],
      "execution_count": null,
      "outputs": []
    },
    {
      "cell_type": "code",
      "metadata": {
        "id": "T7JATf7Kn9d2"
      },
      "source": [
        "!g++ temp.cpp; ./a.out"
      ],
      "execution_count": null,
      "outputs": []
    },
    {
      "cell_type": "code",
      "metadata": {
        "id": "-qrghEFlhYhu"
      },
      "source": [
        "# 参照 &\n",
        "%%writefile temp.cpp\n",
        "# include <bits/stdc++.h>\n",
        "using namespace std;\n",
        "int main() {\n",
        "  string food = \"Pizza\";\n",
        "  string &meal = food;\n",
        "  cout << food << endl;\n",
        "  cout << meal << endl;\n",
        "}\n"
      ],
      "execution_count": null,
      "outputs": []
    },
    {
      "cell_type": "code",
      "metadata": {
        "id": "KvsgcVGDhmRx"
      },
      "source": [
        "!g++ temp.cpp; ./a.out"
      ],
      "execution_count": null,
      "outputs": []
    },
    {
      "cell_type": "code",
      "metadata": {
        "id": "E_KPSSOwigv7"
      },
      "source": [
        "# 変数のメモリーアドレス\n",
        "%%writefile temp.cpp\n",
        "# include <bits/stdc++.h>\n",
        "#include <string>\n",
        "using namespace std;\n",
        "\n",
        "int main() {\n",
        "  string food = \"Pizza\";\n",
        "  cout << &food << endl; // 変数 food のメモリーアドレス\n",
        "}"
      ],
      "execution_count": null,
      "outputs": []
    },
    {
      "cell_type": "code",
      "metadata": {
        "id": "2Ifs1iLiimEp"
      },
      "source": [
        "!g++ temp.cpp; ./a.out"
      ],
      "execution_count": null,
      "outputs": []
    },
    {
      "cell_type": "code",
      "metadata": {
        "id": "1hgN8V-YXrHK"
      },
      "source": [
        "# ポインター\n",
        "# ポインター変数 ptr は `*` を付けて宣言する。\n",
        "# ポインター変数 ptr はアドレス `&` が入る。\n",
        "# すると、`*ptr` が書き換わる。え?\n",
        "%%writefile temp.cpp\n",
        "# include <bits/stdc++.h>\n",
        "using namespace std;\n",
        "\n",
        "int main() {\n",
        "  string food = \"Pizza\"; \n",
        "  string* ptr = &food;  // A pointer variable that stores the address of food\n",
        "\n",
        "  cout << food << endl;\n",
        "\n",
        "  // 変数 food のメモリーアドレス\n",
        "  cout << &food << endl;\n",
        "\n",
        "  // Output the memory address of food with the pointer\n",
        "  cout << ptr << endl;\n",
        "}"
      ],
      "execution_count": null,
      "outputs": []
    },
    {
      "cell_type": "code",
      "metadata": {
        "id": "a8VNvKHCX1jW"
      },
      "source": [
        "!g++ temp.cpp; ./a.out"
      ],
      "execution_count": null,
      "outputs": []
    },
    {
      "cell_type": "code",
      "metadata": {
        "id": "9g5Wa3RqYMTX"
      },
      "source": [
        "# ポインター宣言 pointer declaration\n",
        "%%writefile temp.cpp\n",
        "# include <bits/stdc++.h>\n",
        "using namespace std;\n",
        "\n",
        "int main() {\n",
        "  string food = \"Pizza\";\n",
        "  string* ptr = &food;    // ポインター宣言\n",
        "\n",
        "  // Reference: Output the memory address of food with the pointer\n",
        "  // ptr にはアドレスが入っている\n",
        "  cout << ptr << endl;\n",
        "\n",
        "  // Dereference: Output the value of food with the pointer\n",
        "  // 参照先を見るには `*` を付ける\n",
        "  cout << *ptr << endl;\n",
        "}\n"
      ],
      "execution_count": null,
      "outputs": []
    },
    {
      "cell_type": "code",
      "metadata": {
        "id": "qQC7biZtYPIn"
      },
      "source": [
        "!g++ temp.cpp; ./a.out"
      ],
      "execution_count": null,
      "outputs": []
    },
    {
      "cell_type": "code",
      "metadata": {
        "id": "x7KawXfwYjBp"
      },
      "source": [
        "# ポインター先の変更\n",
        "%%writefile temp.cpp\n",
        "# include <bits/stdc++.h>\n",
        "using namespace std;\n",
        "\n",
        "int main() {\n",
        "  string food = \"Pizza\";\n",
        "  string* ptr = &food;\n",
        "\n",
        "  cout << food << endl;\n",
        "  cout << &food << endl;\n",
        "  cout << *ptr << endl;\n",
        "  *ptr = \"Hamburger\";\n",
        "  cout << *ptr << endl;\n",
        "  cout << food << endl;\n",
        "}\n"
      ],
      "execution_count": null,
      "outputs": []
    },
    {
      "cell_type": "code",
      "metadata": {
        "id": "ZC4cYleOS1SI"
      },
      "source": [
        "!g++ temp.cpp; ./a.out"
      ],
      "execution_count": null,
      "outputs": []
    },
    {
      "cell_type": "code",
      "metadata": {
        "id": "gOdj0Sc7GmsP"
      },
      "source": [
        "# 実験\n",
        "%%writefile temp.cpp\n",
        "# include <bits/stdc++.h>\n",
        "#include <string>\n",
        "using namespace std;\n",
        "\n",
        "int main() {\n",
        "    auto thisfood = \"Pizza\";\n",
        "    auto * ptr = &thisfood;\n",
        "    *ptr = \"Cheese\";\n",
        "    cout << *ptr << endl;\n",
        "    cout << thisfood << endl;\n",
        "}"
      ],
      "execution_count": null,
      "outputs": []
    },
    {
      "cell_type": "code",
      "metadata": {
        "id": "vml0BoRVG3sP"
      },
      "source": [
        "!g++ temp.cpp; ./a.out"
      ],
      "execution_count": null,
      "outputs": []
    },
    {
      "cell_type": "code",
      "metadata": {
        "id": "rjylv-JQTffr"
      },
      "source": [
        "# 関数 function\n",
        "# 関数の宣言\n",
        "# テキストはこのように void 関数を例に出し、その中で cout を使うが\n",
        "# 関数型の観点からは気持ち悪い\n",
        "%%writefile temp.cpp\n",
        "# include <bits/stdc++.h>\n",
        "using namespace std;\n",
        "\n",
        "void myFunction() {\n",
        "  cout << \"I just got executed!\";\n",
        "}\n",
        "\n",
        "int main() {\n",
        "  myFunction();\n",
        "}\n"
      ],
      "execution_count": null,
      "outputs": []
    },
    {
      "cell_type": "code",
      "metadata": {
        "id": "qo1x456fTrAr"
      },
      "source": [
        "!g++ temp.cpp; ./a.out"
      ],
      "execution_count": null,
      "outputs": []
    },
    {
      "cell_type": "code",
      "source": [
        "# 関数の宣言 -- 返り値のあるもの\n",
        "%%writefile temp.cpp\n",
        "# include <bits/stdc++.h>\n",
        "using namespace std;\n",
        "\n",
        "int sum (int a, int b){\n",
        "    return a+b;\n",
        "}\n",
        "\n",
        "int main() {\n",
        "  int A, B;\n",
        "  cin >> A >> B;\n",
        "  cout << sum(A, B) << endl;\n",
        "}"
      ],
      "metadata": {
        "id": "v9uP_tL-uWIq"
      },
      "execution_count": null,
      "outputs": []
    },
    {
      "cell_type": "code",
      "source": [
        "!g++ temp.cpp; echo 3 4 |./a.out"
      ],
      "metadata": {
        "id": "RAkvW89ruV1p"
      },
      "execution_count": null,
      "outputs": []
    },
    {
      "cell_type": "code",
      "metadata": {
        "id": "EzMi7lOA3vAf"
      },
      "source": [
        "# 関数宣言は使う前になければいけない\n",
        "%%writefile temp.cpp\n",
        "# include <bits/stdc++.h>\n",
        "using namespace std;\n",
        "\n",
        "// 関数宣言\n",
        "void myFunction();\n",
        "\n",
        "int main() {\n",
        "  myFunction();  // call the function\n",
        "  return 0;\n",
        "}\n",
        "\n",
        "// 関数定義\n",
        "void myFunction() {\n",
        "  cout << \"I just got executed!\";\n",
        "}\n"
      ],
      "execution_count": null,
      "outputs": []
    },
    {
      "cell_type": "code",
      "metadata": {
        "id": "i5vo6gcf_iac"
      },
      "source": [
        "!g++ temp.cpp; ./a.out"
      ],
      "execution_count": null,
      "outputs": []
    },
    {
      "cell_type": "code",
      "metadata": {
        "id": "VG7FA6z5ofJ7"
      },
      "source": [
        "# 引数のデフォルト値\n",
        "%%writefile temp.cpp\n",
        "# include <bits/stdc++.h>\n",
        "#include <string>\n",
        "using namespace std;\n",
        "\n",
        "void myFunction(string country = \"Norway\") {\n",
        "  cout << country << endl;\n",
        "}\n",
        "\n",
        "int main() {\n",
        "  myFunction(\"Sweden\");\n",
        "  myFunction(\"India\");\n",
        "  myFunction();\n",
        "}"
      ],
      "execution_count": null,
      "outputs": []
    },
    {
      "cell_type": "code",
      "metadata": {
        "id": "wJ_FQ-okohmm"
      },
      "source": [
        "!g++ temp.cpp; ./a.out"
      ],
      "execution_count": null,
      "outputs": []
    },
    {
      "cell_type": "code",
      "metadata": {
        "id": "SPEQWGGTovf4"
      },
      "source": [
        "# 複数の引数\n",
        "%%writefile temp.cpp\n",
        "# include <bits/stdc++.h>\n",
        "using namespace std;\n",
        "\n",
        "void myFunction(string fname, int age) {\n",
        "  cout << fname << \" Refsnes. \" << age << \" years old. \\n\";\n",
        "}\n",
        "\n",
        "int main() {\n",
        "  myFunction(\"Liam\", 3);\n",
        "  myFunction(\"Jenny\", 14);\n",
        "  myFunction(\"Anja\", 30);\n",
        "}\n"
      ],
      "execution_count": null,
      "outputs": []
    },
    {
      "cell_type": "code",
      "metadata": {
        "id": "c1LJx3ffpCvq"
      },
      "source": [
        "!g++ temp.cpp; ./a.out"
      ],
      "execution_count": null,
      "outputs": []
    },
    {
      "cell_type": "code",
      "metadata": {
        "id": "ZVkDUuXnpmbK"
      },
      "source": [
        "%%writefile temp.cpp\n",
        "# include <bits/stdc++.h>\n",
        "using namespace std;\n",
        "\n",
        "int myFunction(int x, int y) {\n",
        "  return x + y;\n",
        "}\n",
        "\n",
        "int main() {\n",
        "  cout << myFunction(5, 3);\n",
        "  return 0;\n",
        "}\n"
      ],
      "execution_count": null,
      "outputs": []
    },
    {
      "cell_type": "code",
      "metadata": {
        "id": "bGb-iR1GpmKd"
      },
      "source": [
        "!g++ temp.cpp; ./a.out"
      ],
      "execution_count": null,
      "outputs": []
    },
    {
      "cell_type": "code",
      "metadata": {
        "id": "DMfV5zUpptvH"
      },
      "source": [
        "%%writefile temp.cpp\n",
        "# include <bits/stdc++.h>\n",
        "using namespace std;\n",
        "\n",
        "int myFunction(int x, int y) {\n",
        "  return x + y;\n",
        "}\n",
        "\n",
        "int main() {\n",
        "  int z = myFunction(5, 3);\n",
        "  cout << z;\n",
        "}\n"
      ],
      "execution_count": null,
      "outputs": []
    },
    {
      "cell_type": "code",
      "metadata": {
        "id": "cjORLJfhptjJ"
      },
      "source": [
        "!g++ temp.cpp; ./a.out"
      ],
      "execution_count": null,
      "outputs": []
    },
    {
      "cell_type": "code",
      "metadata": {
        "id": "7_ci617st4bU"
      },
      "source": [
        "# 数値の交換\n",
        "%%writefile temp.cpp\n",
        "# include <bits/stdc++.h>\n",
        "using namespace std;\n",
        "\n",
        "void swapNums(int &x, int &y) {\n",
        "  int z = x;\n",
        "  x = y;\n",
        "  y = z;\n",
        "}\n",
        "\n",
        "int main() {\n",
        "  int firstNum = 10;\n",
        "  int secondNum = 20;\n",
        "\n",
        "  cout << \"Before swap: \" << endl;\n",
        "  cout << firstNum << secondNum << endl;\n",
        "\n",
        "  swapNums(firstNum, secondNum);\n",
        "\n",
        "  cout << \"After swap: \" << endl;\n",
        "  cout << firstNum << secondNum << endl;\n",
        "}\n"
      ],
      "execution_count": null,
      "outputs": []
    },
    {
      "cell_type": "code",
      "metadata": {
        "id": "LEzCoNq7t_vZ"
      },
      "source": [
        "!g++ temp.cpp; ./a.out"
      ],
      "execution_count": null,
      "outputs": []
    },
    {
      "cell_type": "code",
      "source": [
        "# 数値の交換\n",
        "%%writefile temp.cpp\n",
        "# include <bits/stdc++.h>\n",
        "using namespace std;\n",
        "\n",
        "void swapNums(int &x, int &y) {\n",
        "    x = x + y;\n",
        "    y = x - y;\n",
        "    x = x - y;\n",
        "}\n",
        "\n",
        "int main() {\n",
        "  int firstNum = 10;\n",
        "  int secondNum = 20;\n",
        "\n",
        "  cout << \"Before swap: \" << endl;\n",
        "  cout << firstNum << secondNum << endl;\n",
        "\n",
        "  swapNums(firstNum, secondNum);\n",
        "\n",
        "  cout << \"After swap: \" << endl;\n",
        "  cout << firstNum << secondNum << endl;\n",
        "}\n"
      ],
      "metadata": {
        "id": "CXaeYz5n0Yvp"
      },
      "execution_count": null,
      "outputs": []
    },
    {
      "cell_type": "code",
      "source": [
        "!g++ temp.cpp; ./a.out"
      ],
      "metadata": {
        "id": "bSl5BaY80YUp"
      },
      "execution_count": null,
      "outputs": []
    },
    {
      "cell_type": "code",
      "metadata": {
        "id": "uloCDtwrumZA"
      },
      "source": [
        "%%writefile temp.cpp\n",
        "# include <bits/stdc++.h>\n",
        "using namespace std;\n",
        "\n",
        "int plusFunc(int x, int y) {\n",
        "  return x + y;\n",
        "}\n",
        "\n",
        "double plusFunc(double x, double y) {\n",
        "  return x + y;\n",
        "}\n",
        "\n",
        "int main() {\n",
        "  int myNum1 = plusFunc(8, 5);\n",
        "  double myNum2 = plusFunc(4.3, 6.26);\n",
        "  cout << \"Int: \" << myNum1 << endl;\n",
        "  cout << \"Double: \" << myNum2;\n",
        "  return 0;\n",
        "}"
      ],
      "execution_count": null,
      "outputs": []
    },
    {
      "cell_type": "code",
      "metadata": {
        "id": "ngMHKqjLuoig"
      },
      "source": [
        "!g++ temp.cpp; ./a.out"
      ],
      "execution_count": null,
      "outputs": []
    },
    {
      "cell_type": "code",
      "metadata": {
        "id": "2trXCKKNIoog"
      },
      "source": [
        "# クラス class\n",
        "%%writefile temp.cpp\n",
        "# include <bits/stdc++.h>\n",
        "using namespace std;\n",
        "\n",
        "class MyClass {       // The class\n",
        "  public:             // Access specifier\n",
        "    int myNum;        // Attribute (int variable)\n",
        "    string myString;  // Attribute (string variable)\n",
        "};\n",
        "\n",
        "int main() {\n",
        "  MyClass myObj;  // Create an object of MyClass\n",
        "\n",
        "  // Access attributes and set values\n",
        "  myObj.myNum = 15;\n",
        "  myObj.myString = \"Some text\";\n",
        "\n",
        "  // Print values\n",
        "  cout << myObj.myNum << endl; \n",
        "  cout << myObj.myString; \n",
        "  return 0;\n",
        "}\n"
      ],
      "execution_count": null,
      "outputs": []
    },
    {
      "cell_type": "code",
      "metadata": {
        "id": "yPV_rnnII6h4"
      },
      "source": [
        "!g++ temp.cpp; ./a.out"
      ],
      "execution_count": null,
      "outputs": []
    },
    {
      "cell_type": "code",
      "metadata": {
        "id": "SL2JLGn2JGAI"
      },
      "source": [
        "# クラスと属性\n",
        "%%writefile temp.cpp\n",
        "# include <bits/stdc++.h>\n",
        "using namespace std;\n",
        "\n",
        "class Car {\n",
        "  public:\n",
        "    string brand;\n",
        "    string model;\n",
        "    int year;\n",
        "};\n",
        "\n",
        "int main() {\n",
        "  Car carObj1;\n",
        "  carObj1.brand = \"BMW\";\n",
        "  carObj1.model = \"X5\";\n",
        "  carObj1.year = 1999;\n",
        "\n",
        "  Car carObj2;\n",
        "  carObj2.brand = \"Ford\";\n",
        "  carObj2.model = \"Mustang\";\n",
        "  carObj2.year = 1969;\n",
        "\n",
        "  cout << carObj1.brand << \" \" << carObj1.model << \" \" << carObj1.year << endl;\n",
        "  cout << carObj2.brand << \" \" << carObj2.model << \" \" << carObj2.year << endl;\n",
        "}"
      ],
      "execution_count": null,
      "outputs": []
    },
    {
      "cell_type": "code",
      "metadata": {
        "id": "gsTqn1uXJFc7"
      },
      "source": [
        "!g++ temp.cpp; ./a.out"
      ],
      "execution_count": null,
      "outputs": []
    },
    {
      "cell_type": "code",
      "metadata": {
        "id": "t5ziGTEKJYdX"
      },
      "source": [
        "# クラスとメソッド\n",
        "%%writefile temp.cpp\n",
        "# include <bits/stdc++.h>\n",
        "using namespace std;\n",
        "\n",
        "class MyClass {         // The class\n",
        "  public:               // Access specifier\n",
        "    void myMethod() {   // Method/function\n",
        "      cout << \"Hello World!\";\n",
        "    }\n",
        "};\n",
        "\n",
        "int main() {\n",
        "  MyClass myObj;     // Create an object of MyClass\n",
        "  myObj.myMethod();  // Call the method\n",
        "  return 0;\n",
        "}"
      ],
      "execution_count": null,
      "outputs": []
    },
    {
      "cell_type": "code",
      "metadata": {
        "id": "kO8LjkheJYGQ"
      },
      "source": [
        "!g++ temp.cpp; ./a.out"
      ],
      "execution_count": null,
      "outputs": []
    },
    {
      "cell_type": "code",
      "metadata": {
        "id": "FdehYAOxJ9hn"
      },
      "source": [
        "# クラスメソッドの定義 `::` コロンコロン\n",
        "%%writefile temp.cpp\n",
        "# include <bits/stdc++.h>\n",
        "using namespace std;\n",
        "\n",
        "class MyClass {         // The class\n",
        "  public:               // Access specifier\n",
        "    void myMethod();    // Method/function declaration\n",
        "};\n",
        "\n",
        "// Method/function definition outside the class\n",
        "void MyClass::myMethod() {\n",
        "  cout << \"Hello World!\";\n",
        "}\n",
        "\n",
        "int main() {\n",
        "  MyClass myObj;     // Create an object of MyClass\n",
        "  myObj.myMethod();  // Call the method\n",
        "}"
      ],
      "execution_count": null,
      "outputs": []
    },
    {
      "cell_type": "code",
      "metadata": {
        "id": "hQWeWer7J9Xc"
      },
      "source": [
        "!g++ temp.cpp; ./a.out"
      ],
      "execution_count": null,
      "outputs": []
    },
    {
      "cell_type": "code",
      "metadata": {
        "id": "PYdljvoqKlUH"
      },
      "source": [
        "#\n",
        "%%writefile temp.cpp\n",
        "# include <bits/stdc++.h>\n",
        "using namespace std;\n",
        "\n",
        "class Car {\n",
        "  public:\n",
        "    int speed(int maxSpeed);\n",
        "};\n",
        "\n",
        "int Car::speed(int maxSpeed) {\n",
        "  return maxSpeed;\n",
        "}\n",
        "\n",
        "int main() {\n",
        "  Car myObj;\n",
        "  cout << myObj.speed(200);\n",
        "}"
      ],
      "execution_count": null,
      "outputs": []
    },
    {
      "cell_type": "code",
      "metadata": {
        "id": "uyOTylWeKlLo"
      },
      "source": [
        "!g++ temp.cpp; ./a.out"
      ],
      "execution_count": null,
      "outputs": []
    },
    {
      "cell_type": "code",
      "metadata": {
        "id": "yPnon0NEGpBA"
      },
      "source": [
        "# \n",
        "%%writefile temp.cpp\n",
        "# include <bits/stdc++.h>\n",
        "using namespace std;\n",
        "\n",
        "class MyClass {     // The class\n",
        "  public:           // Access specifier\n",
        "    MyClass() {     // Constructor\n",
        "      cout << \"Hello World!\";\n",
        "    }\n",
        "};\n",
        "\n",
        "int main() {\n",
        "  MyClass myObj;    // Create an object of MyClass (this will call the constructor)\n",
        "}"
      ],
      "execution_count": null,
      "outputs": []
    },
    {
      "cell_type": "code",
      "metadata": {
        "id": "4H6uhhuNGozO"
      },
      "source": [
        "!g++ temp.cpp; ./a.out"
      ],
      "execution_count": null,
      "outputs": []
    },
    {
      "cell_type": "code",
      "metadata": {
        "id": "QjkuRZ3DHE8U"
      },
      "source": [
        "#\n",
        "%%writefile temp.cpp\n",
        "# include <bits/stdc++.h>\n",
        "using namespace std;\n",
        "\n",
        "class Car {        // The class\n",
        "  public:          // Access specifier\n",
        "    string brand;  // Attribute\n",
        "    string model;  // Attribute\n",
        "    int year;      // Attribute\n",
        "    Car(string x, string y, int z) {  // Constructor with parameters\n",
        "      brand = x;\n",
        "      model = y;\n",
        "      year = z;\n",
        "    }\n",
        "};\n",
        "\n",
        "int main() {\n",
        "  // Create Car objects and call the constructor with different values\n",
        "  Car carObj1(\"BMW\", \"X5\", 1999);\n",
        "  Car carObj2(\"Ford\", \"Mustang\", 1969);\n",
        "\n",
        "  // Print values\n",
        "  cout << carObj1.brand << \" \" << carObj1.model << \" \" << carObj1.year << endl;\n",
        "  cout << carObj2.brand << \" \" << carObj2.model << \" \" << carObj2.year << endl;\n",
        "}"
      ],
      "execution_count": null,
      "outputs": []
    },
    {
      "cell_type": "code",
      "metadata": {
        "id": "r7BS44sTHEzk"
      },
      "source": [
        "!g++ temp.cpp; ./a.out"
      ],
      "execution_count": null,
      "outputs": []
    },
    {
      "cell_type": "code",
      "metadata": {
        "id": "sAWgqgADHg47"
      },
      "source": [
        "# \n",
        "%%writefile temp.cpp\n",
        "# include <bits/stdc++.h>\n",
        "using namespace std;\n",
        "\n",
        "class Car {        // The class\n",
        "  public:          // Access specifier\n",
        "    string brand;  // Attribute\n",
        "    string model;  // Attribute\n",
        "    int year;      // Attribute\n",
        "    Car(string x, string y, int z); // Constructor declaration\n",
        "};\n",
        "\n",
        "// Constructor definition outside the class\n",
        "Car::Car(string x, string y, int z) {\n",
        "  brand = x;\n",
        "  model = y;\n",
        "  year = z;\n",
        "}\n",
        "\n",
        "int main() {\n",
        "  // Create Car objects and call the constructor with different values\n",
        "  Car carObj1(\"BMW\", \"X5\", 1999);\n",
        "  Car carObj2(\"Ford\", \"Mustang\", 1969);\n",
        "\n",
        "  // Print values\n",
        "  cout << carObj1.brand << \" \" << carObj1.model << \" \" << carObj1.year << endl;\n",
        "  cout << carObj2.brand << \" \" << carObj2.model << \" \" << carObj2.year << endl;\n",
        "}"
      ],
      "execution_count": null,
      "outputs": []
    },
    {
      "cell_type": "code",
      "metadata": {
        "id": "-JagdTUNHg0f"
      },
      "source": [
        "!g++ temp.cpp; ./a.out"
      ],
      "execution_count": null,
      "outputs": []
    },
    {
      "cell_type": "code",
      "metadata": {
        "id": "wwPyr_ITH90I"
      },
      "source": [
        "%%script false\n",
        "# include <bits/stdc++.h>\n",
        "using namespace std;\n",
        "\n",
        "class MyClass {\n",
        "  public:    // Public access specifier\n",
        "    int x;   // Public attribute\n",
        "  private:   // Private access specifier\n",
        "    int y;   // Private attribute\n",
        "};\n",
        "\n",
        "int main() {\n",
        "  MyClass myObj;\n",
        "  myObj.x = 25;  // Allowed (x is public)\n",
        "  myObj.y = 50;  // Not allowed (y is private)\n",
        "  return 0;\n",
        "}\n",
        "\n",
        "\n",
        "# In function 'int main()':\n",
        "# Line 8: error: 'int MyClass::y' is private\n",
        "# Line 14: error: within this context"
      ],
      "execution_count": null,
      "outputs": []
    },
    {
      "cell_type": "code",
      "metadata": {
        "id": "LfIOgkyZInao"
      },
      "source": [
        "%%writefile temp.cpp\n",
        "# include <bits/stdc++.h>\n",
        "using namespace std;\n",
        "\n",
        "class MyClass {   // The class\n",
        "  public:         // Public access specifier\n",
        "    int x;        // Public attribute (int variable)\n",
        "};\n",
        "\n",
        "int main() {\n",
        "  MyClass myObj;  // Create an object of MyClass\n",
        "\n",
        "  // Access attributes and set values\n",
        "  myObj.x = 15;\n",
        "\n",
        "  // Print values\n",
        "  cout << myObj.x; \n",
        "  return 0;\n",
        "}\n"
      ],
      "execution_count": null,
      "outputs": []
    },
    {
      "cell_type": "code",
      "metadata": {
        "id": "oiG0RSZjInHS"
      },
      "source": [
        "!g++ temp.cpp; ./a.out"
      ],
      "execution_count": null,
      "outputs": []
    },
    {
      "cell_type": "code",
      "metadata": {
        "id": "aOru4KrJYA1S"
      },
      "source": [
        "%%writefile temp.cpp\n",
        "# include <bits/stdc++.h>\n",
        "using namespace std;\n",
        "\n",
        "class Employee {\n",
        "  private:\n",
        "    int salary;\n",
        "\n",
        "  public:\n",
        "    void setSalary(int s) {\n",
        "      salary = s;\n",
        "    }\n",
        "    int getSalary() {\n",
        "      return salary;\n",
        "    }\n",
        "};\n",
        "\n",
        "int main() {\n",
        "  Employee myObj;\n",
        "  myObj.setSalary(50000);\n",
        "  cout << myObj.getSalary();\n",
        "  return 0;\n",
        "}"
      ],
      "execution_count": null,
      "outputs": []
    },
    {
      "cell_type": "code",
      "metadata": {
        "id": "zaolZDXrYD9V"
      },
      "source": [
        "!g++ temp.cpp; ./a.out"
      ],
      "execution_count": null,
      "outputs": []
    },
    {
      "cell_type": "code",
      "metadata": {
        "id": "BQ7FyXY7YqxQ"
      },
      "source": [
        "%%writefile temp.cpp\n",
        "# include <bits/stdc++.h>\n",
        "#include <string>\n",
        "using namespace std;\n",
        "\n",
        "// Base class\n",
        "class Vehicle {\n",
        "  public: \n",
        "    string brand = \"Ford\";\n",
        "    void honk() {\n",
        "      cout << \"Tuut, tuut! \\n\" ;\n",
        "    }\n",
        "};\n",
        "\n",
        "// Derived class\n",
        "class Car: public Vehicle {\n",
        "  public: \n",
        "    string model = \"Mustang\";\n",
        "};\n",
        "\n",
        "int main() {\n",
        "  Car myCar;\n",
        "  myCar.honk();\n",
        "  cout << myCar.brand + \" \" + myCar.model;\n",
        "  return 0;\n",
        "}"
      ],
      "execution_count": null,
      "outputs": []
    },
    {
      "cell_type": "code",
      "metadata": {
        "id": "YDeaI5uzYucL"
      },
      "source": [
        "!g++ temp.cpp; ./a.out"
      ],
      "execution_count": null,
      "outputs": []
    },
    {
      "cell_type": "code",
      "metadata": {
        "id": "94a6-oLOZKkn"
      },
      "source": [
        "%%writefile temp.cpp\n",
        "# include <bits/stdc++.h>\n",
        "using namespace std;\n",
        "\n",
        "// Parent class\n",
        "class MyClass {\n",
        "  public: \n",
        "    void myFunction() {\n",
        "      cout << \"Some content in parent class.\" ;\n",
        "    }\n",
        "};\n",
        "\n",
        "// Child class\n",
        "class MyChild: public MyClass {\n",
        "};\n",
        "\n",
        "// Grandchild class \n",
        "class MyGrandChild: public MyChild {\n",
        "};\n",
        "\n",
        "int main() {\n",
        "  MyGrandChild myObj;\n",
        "  myObj.myFunction();\n",
        "  return 0;\n",
        "}\n"
      ],
      "execution_count": null,
      "outputs": []
    },
    {
      "cell_type": "code",
      "metadata": {
        "id": "Jrs7Y29GZM8c"
      },
      "source": [
        "!g++ temp.cpp; ./a.out"
      ],
      "execution_count": null,
      "outputs": []
    },
    {
      "cell_type": "code",
      "metadata": {
        "id": "8-AvRNkWZhqf"
      },
      "source": [
        "%%writefile temp.cpp\n",
        "# include <bits/stdc++.h>\n",
        "using namespace std;\n",
        "\n",
        "// Base class\n",
        "class MyClass {\n",
        "  public:\n",
        "    void myFunction() {\n",
        "      cout << \"Some content in parent class.\\n\" ;\n",
        "    }\n",
        "};\n",
        "\n",
        "// Another base class\n",
        "class MyOtherClass {\n",
        "  public:\n",
        "    void myOtherFunction() {\n",
        "      cout << \"Some content in another class.\\n\" ;\n",
        "    }\n",
        "};\n",
        "\n",
        "// Derived class\n",
        "class MyChildClass: public MyClass, public MyOtherClass {\n",
        "};\n",
        "\n",
        "int main() {\n",
        "  MyChildClass myObj;\n",
        "  myObj.myFunction();\n",
        "  myObj.myOtherFunction();\n",
        "  return 0;\n",
        "}\n"
      ],
      "execution_count": null,
      "outputs": []
    },
    {
      "cell_type": "code",
      "metadata": {
        "id": "XVvEQr3-ZyGd"
      },
      "source": [
        "!g++ temp.cpp; ./a.out"
      ],
      "execution_count": null,
      "outputs": []
    },
    {
      "cell_type": "code",
      "metadata": {
        "id": "npPHwffZaCU_"
      },
      "source": [
        "%%writefile temp.cpp\n",
        "# include <bits/stdc++.h>\n",
        "using namespace std;\n",
        "\n",
        "// Base class\n",
        "class Employee  {\n",
        "  protected:  // Protected access specifier\n",
        "    int salary;\n",
        "};\n",
        "\n",
        "// Derived class\n",
        "class Programmer: public Employee {\n",
        "  public:\n",
        "    int bonus;\n",
        "    void setSalary(int s) {\n",
        "      salary = s;\n",
        "    }\n",
        "    int getSalary() {\n",
        "      return salary;\n",
        "    }\n",
        "};\n",
        "\n",
        "int main() {\n",
        "  Programmer myObj;\n",
        "  myObj.setSalary(50000);\n",
        "  myObj.bonus = 15000;\n",
        "  cout << \"Salary: \" << myObj.getSalary() << endl;\n",
        "  cout << \"Bonus: \" << myObj.bonus << endl;\n",
        "  return 0;\n",
        "}\n"
      ],
      "execution_count": null,
      "outputs": []
    },
    {
      "cell_type": "code",
      "metadata": {
        "id": "WUYFP1u8aIjb"
      },
      "source": [
        "!g++ temp.cpp; ./a.out"
      ],
      "execution_count": null,
      "outputs": []
    },
    {
      "cell_type": "code",
      "metadata": {
        "id": "smDbnHa3X8qp"
      },
      "source": [
        "%%writefile temp.cpp\n",
        "# include <bits/stdc++.h>\n",
        "#include <string>\n",
        "using namespace std;\n",
        "\n",
        "// Base class\n",
        "class Animal {\n",
        "  public:\n",
        "    void animalSound() {\n",
        "      cout << \"The animal makes a sound \\n\" ;\n",
        "    }\n",
        "};\n",
        "\n",
        "// Derived class\n",
        "class Pig : public Animal {\n",
        "  public:\n",
        "    void animalSound() {\n",
        "      cout << \"The pig says: wee wee \\n\" ;\n",
        "    }\n",
        "};\n",
        "\n",
        "// Derived class\n",
        "class Dog : public Animal {\n",
        "  public:\n",
        "    void animalSound() {\n",
        "      cout << \"The dog says: bow wow \\n\" ;\n",
        "    }\n",
        "};\n",
        "\n",
        "int main() {\n",
        "  Animal myAnimal;\n",
        "  Pig myPig;\n",
        "  Dog myDog;\n",
        "\n",
        "  myAnimal.animalSound();\n",
        "  myPig.animalSound();\n",
        "  myDog.animalSound();\n",
        "  return 0;\n",
        "}\n"
      ],
      "execution_count": null,
      "outputs": []
    },
    {
      "cell_type": "code",
      "metadata": {
        "id": "YA0Yro23YB0M"
      },
      "source": [
        "!g++ temp.cpp; ./a.out"
      ],
      "execution_count": null,
      "outputs": []
    },
    {
      "cell_type": "code",
      "metadata": {
        "id": "JYjXHaQCYo9B"
      },
      "source": [
        "# ファイル操作\n",
        "%%writefile temp.cpp\n",
        "# include <bits/stdc++.h>\n",
        "// #include <fstream>\n",
        "using namespace std;\n",
        "\n",
        "int main () {\n",
        "  ofstream MyWriteFile(\"filename.txt\"); \n",
        "  MyWriteFile << \"Files can be tricky, but it is fun enough!\\n日本語はどうか\";\n",
        "  MyWriteFile.close();\n",
        "\n",
        "  string myText;\n",
        "\n",
        "  ifstream MyReadFile(\"filename.txt\");\n",
        "\n",
        "  while (getline (MyReadFile, myText)) {\n",
        "    cout << myText << endl;\n",
        "  }\n",
        "\n",
        "  MyReadFile.close();\n",
        "}"
      ],
      "execution_count": null,
      "outputs": []
    },
    {
      "cell_type": "code",
      "metadata": {
        "id": "DusXiwvrYxVW"
      },
      "source": [
        "!g++ temp.cpp; ./a.out"
      ],
      "execution_count": null,
      "outputs": []
    },
    {
      "cell_type": "code",
      "source": [
        "# ./sample_data/README.md で実験\n",
        "%%writefile temp.cpp\n",
        "# include <bits/stdc++.h>\n",
        "using namespace std;\n",
        "\n",
        "int main () {\n",
        "  string myText;\n",
        "  ifstream MyReadFile(\"./sample_data/README.md\");\n",
        "\n",
        "for (int i=0; i < 7; i++){\n",
        "    getline (MyReadFile, myText);\n",
        "    cout << myText << endl;\n",
        "  }\n",
        "}"
      ],
      "metadata": {
        "id": "uRdqmqCoXMzA"
      },
      "execution_count": null,
      "outputs": []
    },
    {
      "cell_type": "code",
      "source": [
        "!g++ temp.cpp; ./a.out"
      ],
      "metadata": {
        "id": "kaKNcEVmXeEX"
      },
      "execution_count": null,
      "outputs": []
    },
    {
      "cell_type": "code",
      "source": [
        "# 実験 ファイルを一度全部読み込む\n",
        "%%writefile temp.cpp\n",
        "# include <bits/stdc++.h>\n",
        "using namespace std;\n",
        "int main () {\n",
        "  ifstream ifs(\"./sample_data/README.md\");\n",
        "//   string myText((istreambuf_iterator<char>(ifs)), istreambuf_iterator<char>());\n",
        "  stringstream myStream;\n",
        "  myStream << ifs.rdbuf();\n",
        "  cout << myStream.str() << endl;\n",
        "}"
      ],
      "metadata": {
        "id": "yI2w17S0WS3A"
      },
      "execution_count": null,
      "outputs": []
    },
    {
      "cell_type": "code",
      "source": [
        "!g++ temp.cpp; ./a.out"
      ],
      "metadata": {
        "id": "xbJp8FKkY_vu"
      },
      "execution_count": null,
      "outputs": []
    },
    {
      "cell_type": "code",
      "source": [
        "# 実験 ファイルを一度全部読み込む => vector<string> に入れる\n",
        "%%writefile temp.cpp\n",
        "# include <bits/stdc++.h>\n",
        "using namespace std;\n",
        "int main () {\n",
        "    ofstream ofs(\"temp.txt\");\n",
        "    ofs << \"foo bar baz \\n\";\n",
        "    ofs << \"This is a pen\" << endl;\n",
        "    ofs << \"日本語もどうか\" << endl << endl;\n",
        "    ofs << \"これが最後\" << endl;\n",
        "    ofs << \"ん\";\n",
        "    ofs.close();\n",
        "\n",
        "    ifstream ifs(\"./temp.txt\");\n",
        "    vector<string> myLines;\n",
        "    string myLine;\n",
        "    while (getline (ifs, myLine)) {\n",
        "        myLines.push_back(myLine);\n",
        "    };\n",
        "\n",
        "    sort(myLines.begin(), myLines.end());\n",
        "\n",
        "    for (string line: myLines){\n",
        "        if (line != \"\")cout << line << endl;\n",
        "    }\n",
        "}"
      ],
      "metadata": {
        "id": "8vOtNvRFE-zj"
      },
      "execution_count": null,
      "outputs": []
    },
    {
      "cell_type": "code",
      "source": [
        "!g++ temp.cpp; ./a.out"
      ],
      "metadata": {
        "id": "CL2MFbRXE-p8"
      },
      "execution_count": null,
      "outputs": []
    },
    {
      "cell_type": "code",
      "source": [
        "!cat temp.txt"
      ],
      "metadata": {
        "id": "vrQT3oE6p0xY"
      },
      "execution_count": null,
      "outputs": []
    },
    {
      "cell_type": "code",
      "metadata": {
        "id": "zSk0BNsoNrBT"
      },
      "source": [
        "# 上書きと追記\n",
        "%%writefile file.txt\n",
        "Good friend, for Jesus' sake forbear,\n",
        "To dig the dust enclosed here.\n",
        "Blest be the man that spares these stones,\n",
        "And cursed be he that moves my bones."
      ],
      "execution_count": null,
      "outputs": []
    },
    {
      "cell_type": "code",
      "metadata": {
        "id": "vL_9djouNWae"
      },
      "source": [
        "# テキストファイルに追加する\n",
        "%%writefile temp.cpp\n",
        "# include <bits/stdc++.h>\n",
        "using namespace std;\n",
        "\n",
        "int main() {\n",
        "    ofstream file(\"file.txt\", ios::app); // append の意味\n",
        "    string quotation(\"--- William Shakespeare's Epitaph\");\n",
        "\n",
        "    file << \"\\n\" << quotation;\n",
        "\n",
        "    string myText;\n",
        "\n",
        "    ifstream MyReadFile(\"file.txt\");\n",
        "\n",
        "    while (getline (MyReadFile, myText)) {\n",
        "        cout << myText << endl;\n",
        "    }\n",
        "}"
      ],
      "execution_count": null,
      "outputs": []
    },
    {
      "cell_type": "code",
      "metadata": {
        "id": "dIhLrYy7Nkca"
      },
      "source": [
        "!g++ temp.cpp; ./a.out"
      ],
      "execution_count": null,
      "outputs": []
    },
    {
      "cell_type": "code",
      "metadata": {
        "id": "v7nVRIvWnl-k"
      },
      "source": [
        "# 例外処理 exceptions\n",
        "# 次のプログラムの age を変えて実行してみる\n",
        "%%writefile temp.cpp\n",
        "# include <bits/stdc++.h>\n",
        "using namespace std;\n",
        "\n",
        "int main() {\n",
        "  try {\n",
        "    int age = 15;\n",
        "    if (age >= 18) {\n",
        "      cout << \"Access granted - you are old enough.\";\n",
        "    } else {\n",
        "      throw (age);\n",
        "    }\n",
        "  }\n",
        "  catch (int myNum) {\n",
        "    cout << \"Access denied - You must be at least 18 years old.\\n\";\n",
        "    cout << \"Age is: \" << myNum;  \n",
        "  }\n",
        "}"
      ],
      "execution_count": null,
      "outputs": []
    },
    {
      "cell_type": "code",
      "metadata": {
        "id": "sXH_yclMnwrK"
      },
      "source": [
        "!g++ temp.cpp; ./a.out"
      ],
      "execution_count": null,
      "outputs": []
    },
    {
      "cell_type": "code",
      "metadata": {
        "id": "OZN2Bu5A9WqA"
      },
      "source": [
        "# ピリオド3つ three dots\n",
        "%%writefile temp.cpp\n",
        "# include <bits/stdc++.h>\n",
        "using namespace std;\n",
        "\n",
        "int main() {\n",
        "  try {\n",
        "    int age = 15;\n",
        "    if (age >= 18) {\n",
        "      cout << \"Access granted - you are old enough.\";\n",
        "    } else {\n",
        "      throw 505;\n",
        "    }\n",
        "  }\n",
        "  catch (...) {\n",
        "    cout << \"Access denied - You must be at least 18 years old.\\n\";\n",
        "  }\n",
        "}"
      ],
      "execution_count": null,
      "outputs": []
    },
    {
      "cell_type": "code",
      "metadata": {
        "id": "7q_edc0-9Wb9"
      },
      "source": [
        "!g++ temp.cpp; ./a.out"
      ],
      "execution_count": null,
      "outputs": []
    },
    {
      "cell_type": "code",
      "metadata": {
        "id": "rMANLnVl8n2h"
      },
      "source": [
        "#  例外処理による入力チェック\n",
        "%%writefile temp.cpp\n",
        "# include <bits/stdc++.h>\n",
        "using namespace std;\n",
        "\n",
        "int CharToInt(const char c) {\n",
        "    switch (c) {\n",
        "        case '0':  return 0;\n",
        "        case '1':  return 1;\n",
        "        case '2':  return 2;\n",
        "        case '3':  return 3;\n",
        "        case '4':  return 4;\n",
        "        case '5':  return 5;\n",
        "        case '6':  return 6;\n",
        "        case '7':  return 7;\n",
        "        case '8':  return 8;\n",
        "        case '9':  return 9;\n",
        "        default:\n",
        "            // 関数から例外を送出\n",
        "            throw runtime_error(\"数値ではない文字が入っています\");\n",
        "    }\n",
        "}\n",
        "\n",
        "int StringToInt(const string& str) {\n",
        "    int num = 0;\n",
        "    for (const auto s : str) {\n",
        "        num *= 10;\n",
        "\n",
        "        // CharToInt から例外が送出される\n",
        "        num += CharToInt(s);\n",
        "    }\n",
        "    return num;\n",
        "}\n",
        "\n",
        "int main() {\n",
        "    string str = \"123XY56\";\n",
        "    try {\n",
        "        // StringToInt 内部の CharToInt から例外が送出される\n",
        "        auto num = StringToInt(str);\n",
        "\n",
        "        cout << num << endl;\n",
        "    } catch (const runtime_error& e) {\n",
        "        cout << e.what() << endl;\n",
        "    }\n",
        "}"
      ],
      "execution_count": null,
      "outputs": []
    },
    {
      "cell_type": "code",
      "metadata": {
        "id": "HesdtoSI8nSh"
      },
      "source": [
        "!g++ temp.cpp; ./a.out"
      ],
      "execution_count": null,
      "outputs": []
    },
    {
      "cell_type": "code",
      "metadata": {
        "id": "9wl8EJ3m4pt2"
      },
      "source": [
        "# 単純なプログラム\n",
        "%%writefile temp.cpp\n",
        "# include <bits/stdc++.h>\n",
        "using namespace std;\n",
        "\n",
        "int main() {\n",
        "  int x = 5;\n",
        "  int y = 6;\n",
        "  int sum = x + y;\n",
        "  cout << sum;\n",
        "}"
      ],
      "execution_count": null,
      "outputs": []
    },
    {
      "cell_type": "code",
      "metadata": {
        "id": "KAS06TYN4pjE"
      },
      "source": [
        "!g++ temp.cpp; ./a.out"
      ],
      "execution_count": null,
      "outputs": []
    },
    {
      "cell_type": "code",
      "metadata": {
        "id": "b__3S-ZD4sis"
      },
      "source": [
        "# colab , jupyter の入出力\n",
        "%%writefile temp.cpp\n",
        "# include <bits/stdc++.h>\n",
        "using namespace std;\n",
        "\n",
        "int main() {\n",
        "  int x, y;\n",
        "  int sum;\n",
        "  cout << \"Type a number: \";\n",
        "  cin >> x;\n",
        "  cout << \"Type another number: \";\n",
        "  cin >> y;\n",
        "  sum = x + y;\n",
        "  cout << \"Sum is: \" << sum;\n",
        "}"
      ],
      "execution_count": null,
      "outputs": []
    },
    {
      "cell_type": "code",
      "metadata": {
        "id": "YWsIYiPoNc2w"
      },
      "source": [
        "!g++ temp.cpp; echo 99 100 | ./a.out"
      ],
      "execution_count": null,
      "outputs": []
    },
    {
      "cell_type": "code",
      "metadata": {
        "id": "ESksa-pMNF1s"
      },
      "source": [
        "# sort array version\n",
        "%%writefile temp.cpp\n",
        "# include <bits/stdc++.h>\n",
        "using namespace std;\n",
        "\n",
        "int main() {\n",
        "  int array[] = { 23, 5, -10, 0, 0, 321, 1, 2, 99, 30 };\n",
        "  size_t size = sizeof(array) / sizeof(array[0]); \n",
        "  sort(array, array + size);\n",
        "  for (size_t i = 0; i < size; ++i) {\n",
        "     cout << array[i] << ' ';\n",
        "  }\n",
        "  cout << endl;\n",
        "}"
      ],
      "execution_count": null,
      "outputs": []
    },
    {
      "cell_type": "code",
      "metadata": {
        "id": "GKPRaWqGNK6t"
      },
      "source": [
        "!g++ temp.cpp; ./a.out"
      ],
      "execution_count": null,
      "outputs": []
    },
    {
      "cell_type": "code",
      "metadata": {
        "id": "jpWxNKiKNJY6"
      },
      "source": [
        "# sort 普通はこっちを使う\n",
        "%%writefile temp.cpp\n",
        "# include <bits/stdc++.h>\n",
        "using namespace std;\n",
        "\n",
        "int main() {\n",
        "  vector<int> vec { 23, 5, -10, 0, 0, 321, 1, 2, 99, 30 };\n",
        "  sort(vec.begin(), vec.end());\n",
        "  for (int i = 0; i < vec.size(); i++) {\n",
        "     cout << vec[i] << ' ';\n",
        "  }\n",
        "  cout << endl;\n",
        "}"
      ],
      "execution_count": null,
      "outputs": []
    },
    {
      "cell_type": "code",
      "metadata": {
        "id": "W6redAJ1N4nN"
      },
      "source": [
        "!g++ temp.cpp; ./a.out"
      ],
      "execution_count": null,
      "outputs": []
    },
    {
      "cell_type": "code",
      "metadata": {
        "id": "hhOG4DUnOp61"
      },
      "source": [
        "# dump を使う\n",
        "%%writefile temp.cpp\n",
        "# include <bits/stdc++.h>\n",
        "# include <boost/foreach.hpp> // これは bits/stdc++.h に入っていないみたい\n",
        "using namespace std;\n",
        "\n",
        "void dump(vector<int>& v) {\n",
        "  BOOST_FOREACH(int x, v) {\n",
        "    cout << x << endl;\n",
        "  }\n",
        "}\n",
        "\n",
        "int main(int argc, char* argv[]) {\n",
        "  vector<int> v;\n",
        "  v.push_back(3);\n",
        "  v.push_back(4);\n",
        "  v.push_back(1);\n",
        "  v.push_back(2);\n",
        "\n",
        "  cout << \"Before sort\" << endl;\n",
        "  dump(v);\n",
        "\n",
        "  sort(v.begin(), v.end());\n",
        "\n",
        "  cout << \"After sort\" << endl;\n",
        "  dump(v);\n",
        "}"
      ],
      "execution_count": null,
      "outputs": []
    },
    {
      "cell_type": "code",
      "metadata": {
        "id": "zzUci1vXOp1Z"
      },
      "source": [
        "!g++ temp.cpp; ./a.out"
      ],
      "execution_count": null,
      "outputs": []
    },
    {
      "cell_type": "code",
      "metadata": {
        "id": "ph5fdv_KPTVc"
      },
      "source": [
        "# 単純化してみる\n",
        "%%writefile temp.cpp\n",
        "# include <bits/stdc++.h>\n",
        "using namespace std;\n",
        "\n",
        "void dump(vector<int>& v) {\n",
        "  for (int item : v) {\n",
        "    cout << item << \" \";\n",
        "  }\n",
        "  cout << endl;\n",
        "}\n",
        "\n",
        "int main(int argc, char* argv[]) {\n",
        "  vector<int> v = { 3,4,1,2 };\n",
        "  cout << \"Before sort\" << endl;\n",
        "  dump(v);\n",
        "  sort(v.begin(), v.end(), greater<int>());\n",
        "  cout << \"After sort\" << endl;\n",
        "  dump(v);\n",
        "}"
      ],
      "execution_count": null,
      "outputs": []
    },
    {
      "cell_type": "code",
      "metadata": {
        "id": "eBcfciPHPTIy"
      },
      "source": [
        "!g++ temp.cpp; ./a.out"
      ],
      "execution_count": null,
      "outputs": []
    },
    {
      "cell_type": "code",
      "metadata": {
        "id": "KwxN6tUsoIXM"
      },
      "source": [
        "# enum 列挙型\n",
        "%%writefile temp.cpp\n",
        "# include <bits/stdc++.h>\n",
        "using namespace std;\n",
        "\n",
        "enum Day {\n",
        "  Sun,  // 0\n",
        "  Mon,  // 1\n",
        "  Tue,  // 2\n",
        "  Wed,  // 3\n",
        "  Thu,  // 4\n",
        "  Fri,  // 5\n",
        "  Sat   // 6\n",
        "};\n",
        "\n",
        "int main() {\n",
        "    Day day = Wed;\n",
        "    cout << day << endl;\n",
        "    cout << Sun << endl;\n",
        "}"
      ],
      "execution_count": null,
      "outputs": []
    },
    {
      "cell_type": "code",
      "metadata": {
        "id": "Ua4g7D7voIwe"
      },
      "source": [
        "!g++ temp.cpp; ./a.out"
      ],
      "execution_count": null,
      "outputs": []
    },
    {
      "cell_type": "code",
      "metadata": {
        "id": "mP4SOJOBpbLw"
      },
      "source": [
        "# これでは名前空間を汚してしまって不便なので、enum class がある。\n",
        "%%writefile temp.cpp\n",
        "# include <bits/stdc++.h>\n",
        "using namespace std;\n",
        "\n",
        "enum class Day {\n",
        "  Sun,  // 0\n",
        "  Mon,  // 1\n",
        "  Tue,  // 2\n",
        "  Wed,  // 3\n",
        "  Thu,  // 4\n",
        "  Fri,  // 5\n",
        "  Sat   // 6\n",
        "};\n",
        "\n",
        "int main() {\n",
        "    Day day = Day::Wed;\n",
        "    cout << int(day) << endl;\n",
        "    cout << int(Day::Sun) << endl;\n",
        "}"
      ],
      "execution_count": null,
      "outputs": []
    },
    {
      "cell_type": "code",
      "metadata": {
        "id": "smD_cR16pat1"
      },
      "source": [
        "!g++ temp.cpp; ./a.out"
      ],
      "execution_count": null,
      "outputs": []
    },
    {
      "cell_type": "code",
      "metadata": {
        "id": "ElUDAhDLso_Q"
      },
      "source": [
        "# 参照型とポインター型\n",
        "%%writefile temp.cpp\n",
        "# include <bits/stdc++.h>\n",
        "using namespace std;\n",
        "\n",
        "int main (){\n",
        "    int x = 100;\n",
        "    int* p = &x; // pはポインター型\n",
        "    int& r = x; // rは参照型\n",
        "\n",
        "    *p = 200;\n",
        "    cout << x << endl;\n",
        "    r = 300;\n",
        "    cout << x << endl;\n",
        "}"
      ],
      "execution_count": null,
      "outputs": []
    },
    {
      "cell_type": "code",
      "metadata": {
        "id": "NOFgDHRusrs7"
      },
      "source": [
        "!g++ temp.cpp; ./a.out"
      ],
      "execution_count": null,
      "outputs": []
    },
    {
      "cell_type": "code",
      "metadata": {
        "id": "3tnB25w1zrxL"
      },
      "source": [
        "# 関数ポインター、関数オブジェクト\n",
        "%%writefile temp.cpp\n",
        "# include <bits/stdc++.h>\n",
        "using namespace std;\n",
        "\n",
        "int Add(int x, int y) {\n",
        "    return x + y;\n",
        "}\n",
        "\n",
        "int main() {\n",
        "    int (*fp)(int, int) = Add;  // 関数 Add のアドレスを保持する関数ポインター fp\n",
        "    int result = fp(3, 5);      // 関数ポインター fp を介して関数 Add が実行される\n",
        "    cout << result << endl;  // 8\n",
        "}"
      ],
      "execution_count": null,
      "outputs": []
    },
    {
      "cell_type": "code",
      "metadata": {
        "id": "hxa_wTdV0GCp"
      },
      "source": [
        "!g++ temp.cpp; ./a.out"
      ],
      "execution_count": null,
      "outputs": []
    },
    {
      "cell_type": "code",
      "metadata": {
        "id": "UfSNvmIw0P9w"
      },
      "source": [
        "# 関数ポインター\n",
        "%%writefile temp.cpp\n",
        "# include <bits/stdc++.h>\n",
        "using namespace std;\n",
        "\n",
        "int Add(int x, int y) {\n",
        "    return x + y;\n",
        "}\n",
        "\n",
        "int main() {\n",
        "    auto fp = Add;  // 関数 Add のアドレスを保持する関数ポインター fp\n",
        "    \n",
        "    int result = fp(3, 5);      // 関数ポインター fp を介して関数 Add が実行される\n",
        "\n",
        "    cout << result << endl;  // 8\n",
        "}"
      ],
      "execution_count": null,
      "outputs": []
    },
    {
      "cell_type": "code",
      "metadata": {
        "id": "R5u8ZcTw0lT2"
      },
      "source": [
        "!g++ temp.cpp; ./a.out"
      ],
      "execution_count": null,
      "outputs": []
    },
    {
      "cell_type": "code",
      "metadata": {
        "id": "AeNX7Mf604JS"
      },
      "source": [
        "# ラムダ式 lambda expression\n",
        "%%writefile temp.cpp\n",
        "# include <bits/stdc++.h>\n",
        "using namespace std;\n",
        "\n",
        "int main() {\n",
        "    // auto 変数名 = [ キャプチャ ]( 引数リスト ) -> 戻り値の型 { 処理内容 };\n",
        "    auto func = [](int a, int b) -> int { return a + b; };  // int を2つ受け取り、足した結果を返すラムダ式\n",
        "\n",
        "    int result = func(4, 6);\n",
        "    cout << result << endl;  // 10\n",
        "}"
      ],
      "execution_count": null,
      "outputs": []
    },
    {
      "cell_type": "code",
      "metadata": {
        "id": "DxpK77U703aY"
      },
      "source": [
        "!g++ temp.cpp; ./a.out"
      ],
      "execution_count": null,
      "outputs": []
    },
    {
      "cell_type": "code",
      "metadata": {
        "id": "cKWDI5_27IPT"
      },
      "source": [
        "# ラムダ式とキャプチャ\n",
        "%%writefile temp.cpp\n",
        "# include <bits/stdc++.h>\n",
        "using namespace std;\n",
        "\n",
        "int main() {\n",
        "    int init = 5;\n",
        "\n",
        "    // キャプチャを指定することで {} 内で変数 init を使うことができる\n",
        "    auto f = [init](int a, int b) { return init + a * b; };   // コピーキャプチャ\n",
        "    auto g = [&init](int a, int b) { return init + a * b; };  // 参照キャプチャ\n",
        "\n",
        "    init = 0;\n",
        "\n",
        "    // 【コピーキャプチャの場合】\n",
        "    //    ラムダ式の定義時点で init がコピーされているので、ラムダ式内の init は 5\n",
        "    int result_copy = f(2, 4);\n",
        "    cout << result_copy << endl;  // 13\n",
        "\n",
        "    // 【参照キャプチャの場合】\n",
        "    //    ラムダ式実行時の init の値が参照されるので、ラムダ式内の init は 0\n",
        "    int result_ref = g(2, 4);\n",
        "    cout << result_ref << endl;   // 8\n",
        "}"
      ],
      "execution_count": null,
      "outputs": []
    },
    {
      "cell_type": "code",
      "metadata": {
        "id": "TsWShGFw7IEb"
      },
      "source": [
        "!g++ temp.cpp; ./a.out"
      ],
      "execution_count": null,
      "outputs": []
    },
    {
      "cell_type": "code",
      "metadata": {
        "id": "ETai0R3x8wbt"
      },
      "source": [
        "# 変数に関数を入れる\n",
        "%%writefile temp.cpp\n",
        "# include <bits/stdc++.h>\n",
        "using namespace std;\n",
        "\n",
        "int Add(int x, int y) {\n",
        "    return x + y;\n",
        "}\n",
        "\n",
        "int main() {\n",
        "    function<int(int, int)> f = Add;  // function<戻り値の型(引数の型)> 変数名\n",
        "    int result = f(3, 5);                  // f を介して関数 Add が実行される\n",
        "    cout << result << endl;      // 8\n",
        "\n",
        "    f = [](int x, int y) { return x * y; };  // ラムダ式も保持可能\n",
        "    cout << f(4, 7) << endl;       // 28\n",
        "\n",
        "}"
      ],
      "execution_count": null,
      "outputs": []
    },
    {
      "cell_type": "code",
      "metadata": {
        "id": "RnKYrFky8wQU"
      },
      "source": [
        "!g++ temp.cpp; ./a.out"
      ],
      "execution_count": null,
      "outputs": []
    },
    {
      "cell_type": "code",
      "metadata": {
        "id": "wGId5NXL5RXr"
      },
      "source": [
        "# 配列とポインター\n",
        "# vector ではこうはならない\n",
        "# ていうか配列をポインターで使うメリットを感じないのでここから先しばらくは飛ばして良い\n",
        "%%writefile temp.cpp\n",
        "# include <bits/stdc++.h>\n",
        "using namespace std;\n",
        "\n",
        "int main (){\n",
        "    int x[6] = {2, 4, 6, 8, 10};\n",
        "    int* p = x;\n",
        "    cout << *p << endl;        // 2\n",
        "    cout << *(p + 1) << endl;  // 4\n",
        "    cout << *(p + 2) << endl;  // 6\n",
        "    cout << *(p + 3) << endl;  // 8\n",
        "    cout << *(p + 4) << endl;  // 10\n",
        "\n",
        "    cout << *(p + 5) << endl; // 0\n",
        "}"
      ],
      "execution_count": null,
      "outputs": []
    },
    {
      "cell_type": "code",
      "metadata": {
        "id": "JSaRG4vV5kWr"
      },
      "source": [
        "!g++ temp.cpp; ./a.out"
      ],
      "execution_count": null,
      "outputs": []
    },
    {
      "cell_type": "code",
      "metadata": {
        "id": "3ztmFecm7Bzr"
      },
      "source": [
        "# 次の例で、PrintArray1とPrintArray2は完全に同一\n",
        "# 一見すると、PrintArray1 は配列の個数も渡しているように見えるが、実質はポインターを渡しているだけ\n",
        "#=> warning が出る。多分今風ではないのだろう\n",
        "%%writefile temp.cpp\n",
        "# include <bits/stdc++.h>\n",
        "using namespace std;\n",
        "\n",
        "void PrintArray1(const int x[5]) {\n",
        "    static_assert(sizeof(x)==sizeof(int*), \"\");\n",
        "    for (int i = 0; i < 5; ++i) {\n",
        "        cout << x[i] << endl;\n",
        "    }\n",
        "}\n",
        "\n",
        "void PrintArray2(const int* x) {\n",
        "    for (int i = 0; i < 5; ++i) {\n",
        "        cout << x[i] << endl;\n",
        "    }\n",
        "}\n",
        "\n",
        "int main() {\n",
        "    int x[5] = {0, 1, 2, 3, 4};\n",
        "\n",
        "    PrintArray1(x);\n",
        "    PrintArray2(x);\n",
        "}"
      ],
      "execution_count": null,
      "outputs": []
    },
    {
      "cell_type": "code",
      "metadata": {
        "id": "4G96oNEY7GNf"
      },
      "source": [
        "!g++ temp.cpp; ./a.out"
      ],
      "execution_count": null,
      "outputs": []
    },
    {
      "cell_type": "code",
      "source": [
        "# 従って、正しくは次のように要素数を渡す必要がある。\n",
        "%%writefile temp.cpp\n",
        "# include <bits/stdc++.h>\n",
        "using namespace std;\n",
        "\n",
        "void PrintArray(const int* x, size_t num) {\n",
        "    for (size_t i = 0; i < num; ++i) {\n",
        "        cout << x[i] << endl;\n",
        "    }\n",
        "}\n",
        "\n",
        "int main() {\n",
        "    constexpr size_t num = 5;\n",
        "    int x[num] = {0, 1, 2, 3, 4};\n",
        "\n",
        "    PrintArray(x, num);\n",
        "}\n"
      ],
      "metadata": {
        "id": "NJ9XFoE_cvMc"
      },
      "execution_count": null,
      "outputs": []
    },
    {
      "cell_type": "code",
      "source": [
        "!g++ temp.cpp; ./a.out"
      ],
      "metadata": {
        "id": "rz-2MDyKcubk"
      },
      "execution_count": null,
      "outputs": []
    },
    {
      "cell_type": "code",
      "metadata": {
        "id": "T8c8-6a9wmx9"
      },
      "source": [
        "# 実験 vector version\n",
        "%%writefile temp.cpp\n",
        "# include <bits/stdc++.h>\n",
        "using namespace std;\n",
        "\n",
        "void PrintArray(vector<int> x, size_t num) {\n",
        "    for (size_t i = 0; i < num; ++i) {\n",
        "        cout << x[i] << endl;\n",
        "    }\n",
        "}\n",
        "\n",
        "int main() {\n",
        "    vector<int>  x = {0, 1, 2, 3, 4};\n",
        "\n",
        "    PrintArray(x, x.size());\n",
        "}\n"
      ],
      "execution_count": null,
      "outputs": []
    },
    {
      "cell_type": "code",
      "metadata": {
        "id": "a9yiiZGRwmm7"
      },
      "source": [
        "!g++ temp.cpp; ./a.out"
      ],
      "execution_count": null,
      "outputs": []
    },
    {
      "cell_type": "code",
      "metadata": {
        "id": "RzhHagqtxnAQ"
      },
      "source": [
        "# 実験 C++17 の size を使ってみる\n",
        "%%writefile temp.cpp\n",
        "# include <bits/stdc++.h>\n",
        "using namespace std;\n",
        "\n",
        "void PrintArray(int* x, int num) {\n",
        "    for (int i = 0; i < num; ++i) {\n",
        "        cout << x[i] << endl;\n",
        "    }\n",
        "}\n",
        "\n",
        "int main() {\n",
        "    int x[5] = {0, 1, 2, 3, 4};\n",
        "\n",
        "    PrintArray(x, size(x));\n",
        "}\n"
      ],
      "execution_count": null,
      "outputs": []
    },
    {
      "cell_type": "code",
      "metadata": {
        "id": "q-amuNJVxnbj"
      },
      "source": [
        "!g++ -std=gnu++17 temp.cpp ; ./a.out"
      ],
      "execution_count": null,
      "outputs": []
    },
    {
      "cell_type": "code",
      "metadata": {
        "id": "9Us2ZKnW0YAM"
      },
      "source": [
        "# C++11では次のようにするとか\n",
        "%%script false\n",
        "\n",
        "#include <cstddef>\n",
        "template <class T, size_t N>\n",
        "constexpr size_t size(const T (&)[N]) noexcept { return N; }"
      ],
      "execution_count": null,
      "outputs": []
    },
    {
      "cell_type": "code",
      "metadata": {
        "id": "otgfcxgx07tJ"
      },
      "source": [
        "# 実験\n",
        "%%writefile temp.cpp\n",
        "# include <bits/stdc++.h>\n",
        "using namespace std;\n",
        "\n",
        "template <class T, size_t N>\n",
        "constexpr size_t size(const T (&)[N]) noexcept { return N; }\n",
        "\n",
        "void PrintArray(int* x, int num) {\n",
        "    for (int i = 0; i < num; ++i) {\n",
        "        cout << x[i] << endl;\n",
        "    }\n",
        "}\n",
        "\n",
        "int main() {\n",
        "    int x[5] = {0, 1, 2, 3, 4};\n",
        "\n",
        "    PrintArray(x, size(x));\n",
        "}\n"
      ],
      "execution_count": null,
      "outputs": []
    },
    {
      "cell_type": "code",
      "metadata": {
        "id": "klqMCPUs07g6"
      },
      "source": [
        "!g++ temp.cpp; ./a.out"
      ],
      "execution_count": null,
      "outputs": []
    },
    {
      "cell_type": "code",
      "source": [
        "# テンプレートの文法についてはわからない。学ぶ必要も感じない\n",
        "# array で配列を作ると size() で要素数が取得できる\n",
        "# vector も size() で要素数が取得できる"
      ],
      "metadata": {
        "id": "P9LkU-3weEZ5"
      },
      "execution_count": null,
      "outputs": []
    },
    {
      "cell_type": "code",
      "metadata": {
        "id": "oCq-Cjgs3PGq"
      },
      "source": [
        "# 実験\n",
        "%%writefile temp.cpp\n",
        "# include <bits/stdc++.h>\n",
        "using namespace std;\n",
        "\n",
        "void PrintArray(array<int,5> x, size_t num) {\n",
        "    for (size_t i = 0; i < num; ++i) {\n",
        "        cout << x[i] << endl;\n",
        "    }\n",
        "}\n",
        "\n",
        "int main() {\n",
        "    array<int, 5> x = {0, 1, 2, 3, 4};\n",
        "    PrintArray(x, x.size());\n",
        "}"
      ],
      "execution_count": null,
      "outputs": []
    },
    {
      "cell_type": "code",
      "metadata": {
        "id": "Yvshq3DR3O_G"
      },
      "source": [
        "!g++ temp.cpp; ./a.out"
      ],
      "execution_count": null,
      "outputs": []
    },
    {
      "cell_type": "code",
      "metadata": {
        "id": "0RQz7vJo5__7"
      },
      "source": [
        "# 実験 cpprefjp.github.io にある例\n",
        "# わからない\n",
        "%%writefile temp.cpp\n",
        "# include <bits/stdc++.h>\n",
        "using namespace std;\n",
        "\n",
        "int main()\n",
        "{\n",
        "  // 3要素のint型配列を定義し、初期化子リストで初期化\n",
        "  array<int, 3> ar = {3, 1, 4};\n",
        "\n",
        "  // size()メンバ関数による要素数取得\n",
        "  for (size_t i = 0; i < ar.size(); ++i) {\n",
        "    ++ar[i]; // operator[]で任意の要素にランダムアクセス\n",
        "  }\n",
        "\n",
        "  // イテレータによる要素の横断\n",
        "  for_each(ar.begin(), ar.end(), [](int x) {\n",
        "    cout << x << endl; // 4 2 5 なので 3 1 4 のそれぞれが 1 増えている ++ar[i] の結果\n",
        "  });\n",
        "}"
      ],
      "execution_count": null,
      "outputs": []
    },
    {
      "cell_type": "code",
      "metadata": {
        "id": "0qRpGxmz6AhE"
      },
      "source": [
        "!g++ temp.cpp; ./a.out"
      ],
      "execution_count": null,
      "outputs": []
    },
    {
      "cell_type": "code",
      "metadata": {
        "id": "-ikV0bw7sbzr"
      },
      "source": [
        "# タプル tuple \n",
        "# タプル定義のいろいろ\n",
        "%%script false\n",
        "tuple<string, int> person { \"Bob\", 20 };\n",
        "tuple<string, int> person(\"Bob\", 20);\n",
        "tuple<string, int> person = make_tuple(\"Bob\", 20);\n",
        "\n",
        "# 要素の取り出し方\n",
        "get<0>(person);    // \"Bob\"\n",
        "get<1>(person);    // 20"
      ],
      "execution_count": null,
      "outputs": []
    },
    {
      "cell_type": "code",
      "metadata": {
        "id": "okmQrvrmsbAJ"
      },
      "source": [
        "# 3項タプル\n",
        "%%writefile temp.cpp\n",
        "# include <bits/stdc++.h>\n",
        "using namespace std;\n",
        "\n",
        "// tuple<string, int, string> person { \"Bob\", 20 , \"usa\"};\n",
        "tuple<string, int, string> person = { \"Bob\", 20 , \"usa\"}; // 同じ\n",
        "\n",
        "int main() {\n",
        "    cout << get<0>(person) << endl;\n",
        "    cout << get<1>(person) << endl;\n",
        "    cout << get<2>(person) << endl;\n",
        "}"
      ],
      "execution_count": null,
      "outputs": []
    },
    {
      "cell_type": "code",
      "metadata": {
        "id": "JbNRN2QotgwC"
      },
      "source": [
        "!g++ temp.cpp; ./a.out"
      ],
      "execution_count": null,
      "outputs": []
    },
    {
      "cell_type": "code",
      "metadata": {
        "id": "1dS3v0Obtqde"
      },
      "source": [
        "# tie() 関数を使うとタプルの要素を個別の変数に まとめて代入することができる\n",
        "%%writefile temp.cpp\n",
        "# include <bits/stdc++.h>\n",
        "using namespace std;\n",
        "\n",
        "tuple<string, int, string> person { \"Bob\", 20, \"USA\" };\n",
        "\n",
        "int main() {\n",
        "    string name;\n",
        "    int age;\n",
        "    string country;\n",
        "\n",
        "    tie(name, age, country) = person;  // name: \"Bob\", age: 20, country: \"USA\"\n",
        "    cout << name << endl;\n",
        "    cout << age << endl;\n",
        "    cout << country << endl;\n",
        "}"
      ],
      "execution_count": null,
      "outputs": []
    },
    {
      "cell_type": "code",
      "metadata": {
        "id": "Lv2s5Lm9tqPT"
      },
      "source": [
        "!g++ temp.cpp; ./a.out"
      ],
      "execution_count": null,
      "outputs": []
    },
    {
      "cell_type": "code",
      "metadata": {
        "id": "KuUb7wSiusYL"
      },
      "source": [
        "# ペア pair\n",
        "# ペアは2つの値をひとまとめにして扱うことができる\n",
        "# 要素数が2つのタプルと同じか?\n",
        "%%writefile temp.cpp\n",
        "# include <bits/stdc++.h>\n",
        "using namespace std;\n",
        "\n",
        "pair<string, int> person {\"Bob\", 20};\n",
        "\n",
        "int main() {\n",
        "    cout << get<0>(person) << endl;\n",
        "    cout << get<1>(person) << endl;\n",
        "}\n"
      ],
      "execution_count": null,
      "outputs": []
    },
    {
      "cell_type": "code",
      "metadata": {
        "id": "5ShiQUg4utiR"
      },
      "source": [
        "!g++ temp.cpp; ./a.out"
      ],
      "execution_count": null,
      "outputs": []
    },
    {
      "cell_type": "code",
      "metadata": {
        "id": "HiNtfz0fvUMz"
      },
      "source": [
        "# pair では first, second が使える。\n",
        "%%writefile temp.cpp\n",
        "# include <bits/stdc++.h>\n",
        "using namespace std;\n",
        "\n",
        "pair<string, int> person {\"Bob\", 20};\n",
        "\n",
        "int main() {\n",
        "    cout << person.first << endl;\n",
        "    cout << person.second << endl;\n",
        "}"
      ],
      "execution_count": null,
      "outputs": []
    },
    {
      "cell_type": "code",
      "metadata": {
        "id": "fOvNI0OavT7z"
      },
      "source": [
        "!g++ temp.cpp; ./a.out"
      ],
      "execution_count": null,
      "outputs": []
    },
    {
      "cell_type": "code",
      "metadata": {
        "id": "9ekUOgudwBta"
      },
      "source": [
        "# pair の初期化のバリエーション\n",
        "%%script false\n",
        "pair<string, int> person { \"Bob\", 20 };\n",
        "pair<string, int> person(\"Bob\", 20);\n",
        "pair<string, int> person = make_pair(\"Bob\", 20);"
      ],
      "execution_count": null,
      "outputs": []
    },
    {
      "cell_type": "code",
      "metadata": {
        "id": "5pgTJWonwS4z"
      },
      "source": [
        "# tie() も使える\n",
        "%%writefile temp.cpp\n",
        "# include <bits/stdc++.h>\n",
        "using namespace std;\n",
        "\n",
        "pair<string, int> person { \"Bob\", 20 };\n",
        "\n",
        "int main() {\n",
        "    string name;\n",
        "    int age;\n",
        "\n",
        "    tie(name, age) = person;  // name: \"Bob\", age: 20\n",
        "\n",
        "    cout << name << endl;\n",
        "    cout << age << endl;\n",
        "}"
      ],
      "execution_count": null,
      "outputs": []
    },
    {
      "cell_type": "code",
      "metadata": {
        "id": "WekxnR4_wSrL"
      },
      "source": [
        "!g++ temp.cpp; ./a.out"
      ],
      "execution_count": null,
      "outputs": []
    },
    {
      "cell_type": "code",
      "metadata": {
        "id": "X1pCjiDNCNFK"
      },
      "source": [
        "# ベクター vector\n",
        "# 要素数を実行時に変更できる配列\n",
        "%%writefile temp.cpp\n",
        "# include <bits/stdc++.h>\n",
        "using namespace std;\n",
        "\n",
        "int main() {\n",
        "    vector<int> x = {0, 1, 2, 3, 4};\n",
        "    x[2] = 10;\n",
        "    auto size = x.size();  // 5\n",
        "\n",
        "    cout << x[2] << endl;\n",
        "    cout << x.size() << endl;\n",
        "}"
      ],
      "execution_count": null,
      "outputs": []
    },
    {
      "cell_type": "code",
      "metadata": {
        "id": "bhsBLkQHCMn-"
      },
      "source": [
        "!g++ temp.cpp; ./a.out"
      ],
      "execution_count": null,
      "outputs": []
    },
    {
      "cell_type": "code",
      "metadata": {
        "id": "ix0D9yUwF5De"
      },
      "source": [
        "# vector の実験\n",
        "%%writefile temp.cpp\n",
        "# include <bits/stdc++.h>\n",
        "using namespace std;\n",
        "\n",
        "int main() {\n",
        "    vector<int> x = {0, 1, 2, 3, 4};\n",
        "    auto size1 = x.size();  // 5\n",
        "    cout << size1 << endl;\n",
        "\n",
        "    x.emplace_back(5); // 質問 push_back と何が違うのか?\n",
        "    auto size2 = x.size();  // 6\n",
        "    cout << x[5] << endl;\n",
        "    cout << size2 << endl;\n",
        "\n",
        "    x.pop_back();\n",
        "    auto size3 = x.size();  // 5\n",
        "    cout << size3 << endl;\n",
        "}"
      ],
      "execution_count": null,
      "outputs": []
    },
    {
      "cell_type": "code",
      "metadata": {
        "id": "jieTZe1pF5dm"
      },
      "source": [
        "!g++ temp.cpp; ./a.out"
      ],
      "execution_count": null,
      "outputs": []
    },
    {
      "cell_type": "code",
      "metadata": {
        "id": "kMqkQGnQHHIt"
      },
      "source": [
        "# ベクターの先頭ポインターの取得 x.data()\n",
        "%%writefile temp.cpp\n",
        "# include <bits/stdc++.h>\n",
        "using namespace std;\n",
        "\n",
        "int main() {\n",
        "    vector<int> x = {4, 300, 2, 1, 0};\n",
        "    auto px = x.data();  // 先頭ポインター\n",
        "    auto num = *px;  // 4\n",
        "\n",
        "    cout << px << endl;\n",
        "    cout << num << endl;\n",
        "    cout << *(px + 2) << endl; // C の配列みたいなことが出来る!!!!\n",
        "}"
      ],
      "execution_count": null,
      "outputs": []
    },
    {
      "cell_type": "code",
      "metadata": {
        "id": "blvPc8zwHHhJ"
      },
      "source": [
        "!g++ temp.cpp; ./a.out"
      ],
      "execution_count": null,
      "outputs": []
    },
    {
      "cell_type": "code",
      "metadata": {
        "id": "g0782Y5kLLBZ"
      },
      "source": [
        "# マップ 連想配列 \n",
        "# 連想配列 associative array は、C++ では map として実装される\n",
        "# 別途 unordered_map もある\n",
        "# map はキーでソートしてデータを管理するのに対し、unordered_map はキーから計算する\n",
        "# ハッシュでデータを管理するので、パフォーマンスは unordered_map の方が優れている\n",
        "%%writefile temp.cpp\n",
        "# include <bits/stdc++.h>\n",
        "using namespace std;\n",
        "\n",
        "unordered_map<string, int> persons = {\n",
        "    {\"Alice\", 18},\n",
        "    {\"Bob\", 20}\n",
        "};\n",
        "\n",
        "int main(){\n",
        "    cout << persons[\"Alice\"] << endl;  // 18\n",
        "    cout << persons[\"Bob\"] << endl;    // 20\n",
        "    persons.insert({\"Eve\", 19});\n",
        "    persons.erase(\"Bob\");\n",
        "    cout << persons[\"Eve\"] << endl;    // 19\n",
        "}"
      ],
      "execution_count": null,
      "outputs": []
    },
    {
      "cell_type": "code",
      "metadata": {
        "id": "rzKPw379LLmh"
      },
      "source": [
        "!g++ temp.cpp; ./a.out"
      ],
      "execution_count": null,
      "outputs": []
    },
    {
      "cell_type": "code",
      "metadata": {
        "id": "vFy_wNC0TGwI"
      },
      "source": [
        "# セット set 集合\n",
        "# set または unordered_set という型で任意の型の集合を扱う。\n",
        "# パーフォーマンスは unordered_set の方が高い。\n",
        "%%writefile temp.cpp\n",
        "# include <bits/stdc++.h>\n",
        "using namespace std;\n",
        "\n",
        "unordered_set<string> persons = {\n",
        "    \"Alice\",\n",
        "    \"Bob\"\n",
        "};\n",
        "\n",
        "int main (){\n",
        "    persons.insert(\"Eve\");\n",
        "    persons.erase(\"Bob\");\n",
        "    for(auto x : persons) {\n",
        "        cout << x << endl;     // 要素を順に表示\n",
        "    }\n",
        "\n",
        "}"
      ],
      "execution_count": null,
      "outputs": []
    },
    {
      "cell_type": "code",
      "metadata": {
        "id": "loQE4HyRTGeF"
      },
      "source": [
        "!g++ temp.cpp; ./a.out"
      ],
      "execution_count": null,
      "outputs": []
    },
    {
      "cell_type": "code",
      "metadata": {
        "id": "3M9qpQsxU1vX"
      },
      "source": [
        "# イテレーター iterator\n",
        "# イテレーターを使うとポインターの処理が共通化できる、とか。\n",
        "%%writefile temp.cpp\n",
        "# include <bits/stdc++.h>\n",
        "using namespace std;\n",
        "\n",
        "vector<int> x = {0, 1, 2, 3, 4};\n",
        "\n",
        "int main (){\n",
        "    // begin() でコンテナ内の先頭要素を指すイテレータを取得\n",
        "    auto it = x.begin();\n",
        "\n",
        "    // イテレータを使用して要素を出力\n",
        "    cout << *it << endl;  // 0\n",
        "\n",
        "    // イテレータを1つ進める\n",
        "    ++it;\n",
        "\n",
        "    // イテレータを使用して要素を出力\n",
        "    cout << *it << endl;  // 1\n",
        "}"
      ],
      "execution_count": null,
      "outputs": []
    },
    {
      "cell_type": "code",
      "metadata": {
        "id": "h0XOIGndU2LZ"
      },
      "source": [
        "!g++ temp.cpp; ./a.out"
      ],
      "execution_count": null,
      "outputs": []
    },
    {
      "cell_type": "code",
      "metadata": {
        "id": "mhrKHIzct44X"
      },
      "source": [
        "# begin() end()\n",
        "%%writefile temp.cpp\n",
        "# include <bits/stdc++.h>\n",
        "using namespace std;\n",
        "\n",
        "vector<int> x = {0, 1, 2, 3, 4};\n",
        "\n",
        "int main (){\n",
        "    // end() でコンテナ内の最終要素の1つ先を指すイテレータを取得\n",
        "    for (auto it = x.begin(); it != x.end(); ++it) {\n",
        "        cout << *it << endl;\n",
        "    }\n",
        "}"
      ],
      "execution_count": null,
      "outputs": []
    },
    {
      "cell_type": "code",
      "metadata": {
        "id": "KySbv1Zst4nT"
      },
      "source": [
        "!g++ temp.cpp; ./a.out"
      ],
      "execution_count": null,
      "outputs": []
    },
    {
      "cell_type": "code",
      "metadata": {
        "id": "Aq0WhTheuZch"
      },
      "source": [
        "# unordered_set\n",
        "%%writefile temp.cpp\n",
        "# include <bits/stdc++.h>\n",
        "using namespace std;\n",
        "\n",
        "unordered_set<string> x = {\"Bob\", \"Me\", \"Papa\", \"Bob\"};\n",
        "\n",
        "int main (){\n",
        "    // end() でコンテナ内の最終要素の1つ先を指すイテレータを取得\n",
        "    for (auto it = x.begin(); it != x.end(); ++it) {\n",
        "        cout << *it << endl;\n",
        "    }\n",
        "}"
      ],
      "execution_count": null,
      "outputs": []
    },
    {
      "cell_type": "code",
      "metadata": {
        "id": "F31WtlbXuZQJ"
      },
      "source": [
        "!g++ temp.cpp; ./a.out"
      ],
      "execution_count": null,
      "outputs": []
    },
    {
      "cell_type": "code",
      "metadata": {
        "id": "QO3GU-pewozo"
      },
      "source": [
        "# count_if\n",
        "%%writefile temp.cpp\n",
        "# include <bits/stdc++.h>\n",
        "using namespace std;\n",
        "\n",
        "vector<int> x = {0, 1, 2, 3, 4};\n",
        "\n",
        "int main (){\n",
        "    // count_if は条件を満たすコンテナ要素の個数を数える処理\n",
        "    //   - 第1引数と第2引数で範囲を指定\n",
        "    //   - 第3引数で関数オブジェクトで条件を指定\n",
        "    auto n = count_if(x.begin(), x.end(), [](const int v) {\n",
        "        // 0 より大きい 2 の倍数\n",
        "        if (v <= 0) {\n",
        "            return false;\n",
        "        }\n",
        "        if (v % 2 != 0) {\n",
        "            return false;\n",
        "        }\n",
        "        return true;\n",
        "    });\n",
        "    cout << n << endl;  // 2\n",
        "}"
      ],
      "execution_count": null,
      "outputs": []
    },
    {
      "cell_type": "code",
      "metadata": {
        "id": "3ChdZa8wwooS"
      },
      "source": [
        "!g++ temp.cpp; ./a.out"
      ],
      "execution_count": null,
      "outputs": []
    },
    {
      "cell_type": "code",
      "metadata": {
        "id": "y8g65mfrxRHo"
      },
      "source": [
        "# map イテレーター\n",
        "%%writefile temp.cpp\n",
        "# include <bits/stdc++.h>\n",
        "using namespace std;\n",
        "\n",
        "map<string, int> persons = {\n",
        "    {\"Alice\", 18},\n",
        "    {\"Bob\", 20}\n",
        "};\n",
        "\n",
        "int main (){\n",
        "    for (auto it = persons.begin(); it != persons.end(); ++it) {\n",
        "        const auto& person = *it;  // pair<string, int>\n",
        "        const string& name = person.first;\n",
        "        const int age = person.second;\n",
        "        cout << name << \": \" << age << endl;\n",
        "    }\n",
        "}"
      ],
      "execution_count": null,
      "outputs": []
    },
    {
      "cell_type": "code",
      "metadata": {
        "id": "81iU-FZuxQ3m"
      },
      "source": [
        "!g++ temp.cpp; ./a.out"
      ],
      "execution_count": null,
      "outputs": []
    },
    {
      "cell_type": "code",
      "metadata": {
        "id": "Jv9sVfI6yQvL"
      },
      "source": [
        "# vector イテレーター\n",
        "%%writefile temp.cpp\n",
        "# include <bits/stdc++.h>\n",
        "using namespace std;\n",
        "\n",
        "vector<int> x = {0, 1, 2, 3, 4};\n",
        "\n",
        "int main (){\n",
        "    auto it = x.begin();\n",
        "    cout << *it << endl;  // 0\n",
        "\n",
        "    ++it;  // 前に進める\n",
        "    cout << *it << endl;  // 1\n",
        "\n",
        "    --it;  // 後ろへ戻す\n",
        "    cout << *it << endl;  // 0\n",
        "\n",
        "    it = it + 3;  // 3つ前に進める\n",
        "    cout << *it << endl;  // 3\n",
        "\n",
        "    // it は変更せずに it から2つ後ろへ戻した要素を参照\n",
        "    cout << it[-2] << endl;  // 1 (it から2つ後ろへ戻した要素)\n",
        "    cout << *it << endl;  // 3 (it は変更されていない)\n",
        "}"
      ],
      "execution_count": null,
      "outputs": []
    },
    {
      "cell_type": "code",
      "metadata": {
        "id": "az8KpEeOyQmI"
      },
      "source": [
        "!g++ temp.cpp; ./a.out"
      ],
      "execution_count": null,
      "outputs": []
    },
    {
      "cell_type": "code",
      "metadata": {
        "id": "7ayHoBKozZe3"
      },
      "source": [
        "# vector iterator\n",
        "%%writefile temp.cpp\n",
        "# include <bits/stdc++.h>\n",
        "using namespace std;\n",
        "\n",
        "vector<int> x = {0, 1, 2, 3, 4, 5, 6};\n",
        "\n",
        "int main (){\n",
        "    auto it1 = x.begin() + 2;\n",
        "    auto it2 = x.begin() + 3;\n",
        "    auto it3 = x.begin() + 4;\n",
        "    cout << *it1 << endl;  // 2\n",
        "    cout << *it2 << endl;  // 3\n",
        "    cout << *it3 << endl;  // 4\n",
        "\n",
        "    x.erase(x.begin() + 3);  // index=3 の要素を削除\n",
        "\n",
        "    cout << *it1 << endl;  // 2 (有効なまま)\n",
        "    cout << *it2 << endl;  // 未定義動作 (無効化される) => されない\n",
        "    cout << *it3 << endl;  // 未定義動作 (無効化される) => されない\n",
        "}"
      ],
      "execution_count": null,
      "outputs": []
    },
    {
      "cell_type": "code",
      "metadata": {
        "id": "osym1JErzZSS"
      },
      "source": [
        "!g++ temp.cpp; ./a.out"
      ],
      "execution_count": null,
      "outputs": []
    },
    {
      "cell_type": "code",
      "metadata": {
        "id": "SCC_-rmp1PSe"
      },
      "source": [
        "# 範囲for\n",
        "%%writefile temp.cpp\n",
        "# include <bits/stdc++.h>\n",
        "using namespace std;\n",
        "\n",
        "vector<int> x = {0, 1, 2, 3, 4};\n",
        "\n",
        "int main (){\n",
        "    for (auto it = x.begin(); it != x.end(); ++it) {\n",
        "        cout << *it << endl;\n",
        "    }\n",
        "}"
      ],
      "execution_count": null,
      "outputs": []
    },
    {
      "cell_type": "code",
      "metadata": {
        "id": "L3ySkqeJ1PE-"
      },
      "source": [
        "!g++ temp.cpp; ./a.out"
      ],
      "execution_count": null,
      "outputs": []
    },
    {
      "cell_type": "code",
      "metadata": {
        "id": "3xVtGjAK112z"
      },
      "source": [
        "# 範囲for\n",
        "%%writefile temp.cpp\n",
        "# include <bits/stdc++.h>\n",
        "using namespace std;\n",
        "\n",
        "vector<int> x = {0, 1, 2, 3, 4};\n",
        "\n",
        "int main (){\n",
        "    for (auto&& it : x) {\n",
        "        cout << it << endl;\n",
        "    }\n",
        "}"
      ],
      "execution_count": null,
      "outputs": []
    },
    {
      "cell_type": "code",
      "metadata": {
        "id": "m5WVTrEe11p8"
      },
      "source": [
        "!g++ temp.cpp; ./a.out"
      ],
      "execution_count": null,
      "outputs": []
    },
    {
      "cell_type": "code",
      "metadata": {
        "id": "7fONu8mdD9g8"
      },
      "source": [
        "# 入力値の型指定\n",
        "%%writefile temp.cpp\n",
        "# include <bits/stdc++.h>\n",
        "using namespace std;\n",
        "\n",
        "int main() {\n",
        "    int x = 0;\n",
        "\n",
        "    cout << \"整数を入力してください: \";\n",
        "    if (cin >> x) {\n",
        "        cout << \"入力した整数は \" << x << \" です。\" << endl;\n",
        "    } else {\n",
        "        cout << \"不正な入力です。\" << endl;\n",
        "    }\n",
        "}"
      ],
      "execution_count": null,
      "outputs": []
    },
    {
      "cell_type": "code",
      "metadata": {
        "id": "a_yKgt1oD9TH"
      },
      "source": [
        "!g++ temp.cpp; echo 3 | ./a.out\n",
        "!echo カレー | ./a.out"
      ],
      "execution_count": null,
      "outputs": []
    },
    {
      "cell_type": "code",
      "metadata": {
        "id": "udzHxHTCgDVU"
      },
      "source": [
        "# メモリー領域 スタックとヒープ\n",
        "%%writefile temp.cpp\n",
        "# include <bits/stdc++.h>\n",
        "using namespace std;\n",
        "\n",
        "void Function() {\n",
        "    int x = 100; // ローカル変数xはスタックに確保される。\n",
        "    int y = 200; // ローカル変数yはスタックに確保される。\n",
        "} // 関数の終了とともに変数 x, y はスタックから取り除かれる。\n",
        "  // スタックはLIFO（後入れ先出し）形式のため y, x の順で取り除かれる。\n",
        "\n",
        "int main() {\n",
        "    Function();\n",
        "}"
      ],
      "execution_count": null,
      "outputs": []
    },
    {
      "cell_type": "code",
      "metadata": {
        "id": "8qNcblpBgDx3"
      },
      "source": [
        "!g++ temp.cpp; ./a.out"
      ],
      "execution_count": null,
      "outputs": []
    },
    {
      "cell_type": "code",
      "metadata": {
        "id": "RhmsT-COgSc5"
      },
      "source": [
        "%%script false\n",
        "int* p1 = new int(100);  // p1 は new で確保されたメモリ領域を指すポインター\n",
        "int* p2 = new int[5];    // 配列の場合は [] を付ける\n",
        "\n",
        "delete p1;    // new によって確保されたメモリを delete で解放\n",
        "delete[] p2;  // 配列の場合は [] を付ける"
      ],
      "execution_count": null,
      "outputs": []
    },
    {
      "cell_type": "code",
      "source": [
        "# malloc/free を利用することでもメモリの確保・解放は可能だが、C++ での利用は推奨されていない。"
      ],
      "metadata": {
        "id": "Gs73afxaglGF"
      },
      "execution_count": null,
      "outputs": []
    },
    {
      "cell_type": "markdown",
      "metadata": {
        "id": "pgPzh-ZAguAn"
      },
      "source": [
        ""
      ]
    },
    {
      "cell_type": "code",
      "metadata": {
        "id": "KkVhcYxUgSGB"
      },
      "source": [
        "# ディープコピーとシャローコピー\n",
        "%%writefile temp.cpp\n",
        "# include <bits/stdc++.h>\n",
        "using namespace std;\n",
        "\n",
        "int main() {\n",
        "    int x = 100;\n",
        "    int y = x; // x を y へディープコピー\n",
        "    y = 50; // y を 50 に書き換える\n",
        "    cout << x << endl; // x は100のまま\n",
        "}"
      ],
      "execution_count": null,
      "outputs": []
    },
    {
      "cell_type": "code",
      "metadata": {
        "id": "AJ0aZruNhHsM"
      },
      "source": [
        "!g++ temp.cpp; ./a.out"
      ],
      "execution_count": null,
      "outputs": []
    },
    {
      "cell_type": "code",
      "metadata": {
        "id": "tJMvzzPfhLWZ"
      },
      "source": [
        "# ディープコピーとシャローコピー2\n",
        "%%writefile temp.cpp\n",
        "# include <bits/stdc++.h>\n",
        "using namespace std;\n",
        "\n",
        "int main() {\n",
        "    int* x = new int(100);\n",
        "    int* y = x; // x を y へシャローコピー\n",
        "    *y = 50; // y が指す先の値を 50 に書き換える\n",
        "    cout << *x << endl; // x が指す先の値も 50 になる\n",
        "}"
      ],
      "execution_count": null,
      "outputs": []
    },
    {
      "cell_type": "code",
      "metadata": {
        "id": "ltuT6im4hK9o"
      },
      "source": [
        "!g++ temp.cpp; ./a.out"
      ],
      "execution_count": null,
      "outputs": []
    },
    {
      "cell_type": "code",
      "metadata": {
        "id": "CEbSkDZ-hkMa"
      },
      "source": [
        "# ディープコピーとシャローコピー3\n",
        "%%writefile temp.cpp\n",
        "# include <bits/stdc++.h>\n",
        "using namespace std;\n",
        "\n",
        "void ChangeToFifty1(int v) {  // ディープコピー\n",
        "    v = 50;\n",
        "}\n",
        "\n",
        "void ChangeToFifty2(int* v) {  // シャローコピー\n",
        "    *v = 50;\n",
        "}\n",
        "\n",
        "int main() {\n",
        "    int a = 100;\n",
        "    ChangeToFifty1(a);\n",
        "    cout << a << endl;  // 100\n",
        "\n",
        "    int b = 100;\n",
        "    ChangeToFifty2(&b);\n",
        "    cout << b << endl;  // 50\n",
        "}"
      ],
      "execution_count": null,
      "outputs": []
    },
    {
      "cell_type": "code",
      "metadata": {
        "id": "evveHUdShj-8"
      },
      "source": [
        "!g++ temp.cpp; ./a.out"
      ],
      "execution_count": null,
      "outputs": []
    },
    {
      "cell_type": "code",
      "metadata": {
        "id": "0p5g855EiWif"
      },
      "source": [
        "# ムーブセマンティクス move semantics %%\n",
        "%%writefile temp.cpp\n",
        "# include <bits/stdc++.h>\n",
        "using namespace std;\n",
        "\n",
        "void Print(string&) {\n",
        "    cout << \"左辺値参照\" << endl;\n",
        "}\n",
        "\n",
        "void Print(string&&) {\n",
        "    cout << \"右辺値参照\" << endl;\n",
        "}\n",
        "\n",
        "int main() {\n",
        "    string str = \"hoge\";\n",
        "\n",
        "    Print(str);\n",
        "    Print(move(str));\n",
        "}"
      ],
      "execution_count": null,
      "outputs": []
    },
    {
      "cell_type": "code",
      "metadata": {
        "id": "cEIx86hPiW6A"
      },
      "source": [
        "!g++ temp.cpp; ./a.out"
      ],
      "execution_count": null,
      "outputs": []
    },
    {
      "cell_type": "code",
      "metadata": {
        "id": "cR4nEzYoi_oD"
      },
      "source": [
        "# スマートポインター\n",
        "%%writefile temp.cpp\n",
        "# include <bits/stdc++.h>\n",
        "using namespace std;\n",
        "\n",
        "int main() {\n",
        "    shared_ptr<int> x = make_shared<int>(100); // int* x = new int(100); の代わり\n",
        "                                                         // 所有者は1人。\n",
        "    {\n",
        "        shared_ptr<int> y = x; // 通常のポインター同様、コピーすることで所有権が共有される\n",
        "                                    // 所有者が2人に増える。\n",
        "        cout << *y << endl;\n",
        "    } // y が破棄されて所有者が1人になる。\n",
        "\n",
        "    cout << *x << endl;\n",
        "} // 所有者が0人になるので、 x のデストラクタで自動的に delete が行われる。"
      ],
      "execution_count": null,
      "outputs": []
    },
    {
      "cell_type": "code",
      "metadata": {
        "id": "uqwoT0HXi_XI"
      },
      "source": [
        "!g++ temp.cpp; ./a.out"
      ],
      "execution_count": null,
      "outputs": []
    },
    {
      "cell_type": "code",
      "metadata": {
        "id": "-_2KYQfVjvxX"
      },
      "source": [
        "# ユニークポインター\n",
        "%%writefile temp.cpp\n",
        "# include <bits/stdc++.h>\n",
        "using namespace std;\n",
        "\n",
        "int main() {\n",
        "    unique_ptr<int> x(new int(100));\n",
        "    // unique_ptr<int> y = x; // コピー出来ない。コンパイルエラー。\n",
        "\n",
        "    cout << *x << endl;\n",
        "} // x が所有しているリソースが解放される。"
      ],
      "execution_count": null,
      "outputs": []
    },
    {
      "cell_type": "code",
      "metadata": {
        "id": "Asar4r6rjvga"
      },
      "source": [
        "!g++ temp.cpp; ./a.out"
      ],
      "execution_count": null,
      "outputs": []
    },
    {
      "cell_type": "code",
      "metadata": {
        "id": "d6s5jLpBkBzu"
      },
      "source": [
        "# move による所有権の移動\n",
        "%%writefile temp.cpp\n",
        "# include <bits/stdc++.h>\n",
        "using namespace std;\n",
        "\n",
        "int main() {\n",
        "    unique_ptr<int> x(new int(100));\n",
        "    unique_ptr<int> y(move(x)); // ムーブは出来るため、所有権の移動は可能。\n",
        "                                          // 所有権を移動したため、x は何も所有していない。\n",
        "\n",
        "    cout << *y << endl;\n",
        "} // y が所有しているリソースが解放される。"
      ],
      "execution_count": null,
      "outputs": []
    },
    {
      "cell_type": "code",
      "metadata": {
        "id": "9zCx1Vq9kBnU"
      },
      "source": [
        "!g++ temp.cpp; ./a.out"
      ],
      "execution_count": null,
      "outputs": []
    },
    {
      "cell_type": "code",
      "metadata": {
        "id": "RU8Ebl0dkTaR"
      },
      "source": [
        "# `auto_ptr` は C++11 では非推奨となっており C++17 では削除されている。\n",
        "%%writefile temp.cpp\n",
        "# include <bits/stdc++.h>\n",
        "using namespace std;\n",
        "\n",
        "int main() {\n",
        "    shared_ptr<int> sp = make_shared<int>(246);\n",
        "    weak_ptr<int> wp = sp; // sp を監視対象として wp に登録する\n",
        "\n",
        "    shared_ptr<int> sp2 = wp.lock(); // 有効な場合は sp とリソースを共有する sp2 が作られる\n",
        "    if (sp2) {\n",
        "        cout << *sp2 << endl;\n",
        "    } else {\n",
        "        cout << \"リソースは解放済み\" << endl;\n",
        "    }\n",
        "}"
      ],
      "execution_count": null,
      "outputs": []
    },
    {
      "cell_type": "code",
      "metadata": {
        "id": "ECCTf-SPkTOm"
      },
      "source": [
        "!g++ temp.cpp; ./a.out"
      ],
      "execution_count": null,
      "outputs": []
    },
    {
      "cell_type": "code",
      "metadata": {
        "id": "mEiZTT_bl4WU"
      },
      "source": [
        "# 継承 inheritance\n",
        "%%writefile temp.cpp\n",
        "# include <bits/stdc++.h>\n",
        "using namespace std;\n",
        "\n",
        "class Rectangle {\n",
        " public:\n",
        "    int Area() const {\n",
        "       return height_ * width_;\n",
        "    }\n",
        "\n",
        "    int height_;\n",
        "    int width_;\n",
        "};\n",
        "\n",
        "class Square : public Rectangle {\n",
        " public:\n",
        "    void SetSize(int size) {\n",
        "        height_ = size;\n",
        "        width_ = size;\n",
        "    }\n",
        "};\n",
        "\n",
        "int main() {\n",
        "    Square s;\n",
        "    s.SetSize(10);\n",
        "    cout << s.Area() << endl;\n",
        "}"
      ],
      "execution_count": null,
      "outputs": []
    },
    {
      "cell_type": "code",
      "metadata": {
        "id": "83PtdK7gl4mj"
      },
      "source": [
        "!g++ temp.cpp; ./a.out"
      ],
      "execution_count": null,
      "outputs": []
    },
    {
      "cell_type": "code",
      "metadata": {
        "id": "bWKVzFpkm-W0"
      },
      "source": [
        "# Polymorphism 再び\n",
        "%%writefile temp.cpp\n",
        "# include <bits/stdc++.h>\n",
        "using namespace std;\n",
        "\n",
        "class Rectangle {\n",
        " public:\n",
        "    int Area() const {\n",
        "        return height_ * width_;\n",
        "    }\n",
        "\n",
        "    int height_;\n",
        "    int width_;\n",
        "};\n",
        "\n",
        "class Square : public Rectangle {\n",
        " public:\n",
        "    void SetSize(int size) {\n",
        "        height_ = size;\n",
        "        width_ = size;\n",
        "    }\n",
        "};\n",
        "\n",
        "int main() {\n",
        "    Square s;\n",
        "    s.SetSize(10);\n",
        "\n",
        "    const Rectangle& r = s;\n",
        "    cout << \"area = \" << r.Area() << endl;\n",
        "}"
      ],
      "execution_count": null,
      "outputs": []
    },
    {
      "cell_type": "code",
      "metadata": {
        "id": "Jj2Lvom83SKl"
      },
      "source": [
        "!g++ temp.cpp; ./a.out"
      ],
      "execution_count": null,
      "outputs": []
    },
    {
      "cell_type": "code",
      "metadata": {
        "id": "-S1ZsOoj3rXX"
      },
      "source": [
        "# override\n",
        "%%writefile temp.cpp\n",
        "# include <bits/stdc++.h>\n",
        "using namespace std;\n",
        "\n",
        "class Rectangle {\n",
        " public:\n",
        "    virtual void Describe() const {\n",
        "        cout << \"height = \" << height_ << endl;\n",
        "        cout << \"width = \" << width_ << endl;\n",
        "    }\n",
        "\n",
        "    int height_;\n",
        "    int width_;\n",
        "};\n",
        "\n",
        "class Square : public Rectangle {\n",
        " public:\n",
        "    void SetSize(int size) {\n",
        "        height_ = size;\n",
        "        width_ = size;\n",
        "    }\n",
        "\n",
        "    void Describe() const override {\n",
        "        cout << \"size = \" << height_ << endl;\n",
        "    }\n",
        "};\n",
        "\n",
        "int main() {\n",
        "    Square s;\n",
        "    s.SetSize(10);\n",
        "\n",
        "    const Rectangle& r = s;\n",
        "    r.Describe();\n",
        "}"
      ],
      "execution_count": null,
      "outputs": []
    },
    {
      "cell_type": "code",
      "metadata": {
        "id": "MqteWDOZ30Bt"
      },
      "source": [
        "!g++ temp.cpp; ./a.out"
      ],
      "execution_count": null,
      "outputs": []
    },
    {
      "cell_type": "code",
      "metadata": {
        "id": "BJk9W95v3rHY"
      },
      "source": [
        "# 純粋仮想関数とインターフェイス\n",
        "# 定義をもたない仮想関数を純粋仮想関数いう。 \n",
        "# 純粋仮想関数にするには仮想関数に = 0 をつける。\n",
        "# 純粋仮想関数があるクラスのオブジェクトは作ることができない。\n",
        "# C++ にはインターフェースクラスをつくるための専用の記法はないため、 \n",
        "# メンバ関数がすべて純粋仮想関数であるクラスをインターフェースとして使う。\n",
        "%%script false\n",
        "class Polygon {\n",
        " public:\n",
        "    virtual int Area() const = 0;\n",
        "};\n",
        "\n",
        "class Rectangle : public Polygon {\n",
        " public:\n",
        "    int Area() const override {\n",
        "        return height_ * width_;\n",
        "    }\n",
        "\n",
        "    int height_;\n",
        "    int width_;\n",
        "};"
      ],
      "execution_count": null,
      "outputs": []
    },
    {
      "cell_type": "code",
      "metadata": {
        "id": "P0Q4-B8pGRUn"
      },
      "source": [
        "# デストラクタ destructor\n",
        "%%writefile temp.cpp\n",
        "# include <bits/stdc++.h>\n",
        "using namespace std;\n",
        "\n",
        "class DynamicArray {\n",
        " public:\n",
        "    DynamicArray(int size, int initial_value) {\n",
        "        data_ = new int[size];\n",
        "        for (auto i = 0; i < size; ++i) {\n",
        "            data_[i] = initial_value;\n",
        "        }\n",
        "    }\n",
        "\n",
        "    ~DynamicArray() {\n",
        "        cout << \"DynamicArray::~DynamicArray() is called.\" << endl;\n",
        "        delete[] data_;\n",
        "    }\n",
        "\n",
        "    void Set(int index, int value) {\n",
        "        data_[index] = value;\n",
        "    }\n",
        "\n",
        "    int Get(int index) const {\n",
        "        return data_[index];\n",
        "    }\n",
        "\n",
        " private:\n",
        "    int* data_;\n",
        "};\n",
        "\n",
        "int main() {\n",
        "    DynamicArray d(5, 1);\n",
        "    cout << d.Get(2) << endl;\n",
        "    d.Set(2, 10);\n",
        "    cout << d.Get(2) << endl;\n",
        "}"
      ],
      "execution_count": null,
      "outputs": []
    },
    {
      "cell_type": "code",
      "metadata": {
        "id": "Y8ye_qXqGRFq"
      },
      "source": [
        "!g++ temp.cpp; ./a.out"
      ],
      "execution_count": null,
      "outputs": []
    },
    {
      "cell_type": "code",
      "metadata": {
        "id": "xNahHr68HCJ3"
      },
      "source": [
        "# \n",
        "%%writefile temp.cpp\n",
        "# include <bits/stdc++.h>\n",
        "using namespace std;\n",
        "\n",
        "class BasicArray {\n",
        " public:\n",
        "    ~BasicArray() {\n",
        "        cout << \"BasicArray::~BasicArray() is called.\" << endl;\n",
        "    }\n",
        "\n",
        "    virtual void Set(int index, int value) = 0;\n",
        "    virtual int Get(int index) const = 0;\n",
        "};\n",
        "\n",
        "class DynamicArray : public BasicArray {\n",
        " public:\n",
        "    DynamicArray(int size, int initial_value) {\n",
        "        data_ = new int[size];\n",
        "        for (auto i = 0; i < size; ++i) {\n",
        "            data_[i] = initial_value;\n",
        "        }\n",
        "    }\n",
        "\n",
        "    ~DynamicArray() {\n",
        "        cout << \"DynamicArray::~DynamicArray() is called.\" << endl;\n",
        "        delete[] data_;\n",
        "    }\n",
        "\n",
        "    void Set(int index, int value) { data_[index] = value; }\n",
        "\n",
        "    int Get(int index) const { return data_[index]; }\n",
        "\n",
        " private:\n",
        "    int* data_;\n",
        "};\n",
        "\n",
        "int main() {\n",
        "    unique_ptr<BasicArray> b(new DynamicArray(5, 1));\n",
        "    cout << b->Get(2) << endl;\n",
        "    b->Set(2, 10);\n",
        "    cout << b->Get(2) << endl;\n",
        "}"
      ],
      "execution_count": null,
      "outputs": []
    },
    {
      "cell_type": "code",
      "metadata": {
        "id": "Y4rrLNDzHB7m"
      },
      "source": [
        "!g++ temp.cpp; ./a.out"
      ],
      "execution_count": null,
      "outputs": []
    },
    {
      "cell_type": "code",
      "metadata": {
        "id": "srTvyXp_HphZ"
      },
      "source": [
        "# \n",
        "%%writefile temp.cpp\n",
        "# include <bits/stdc++.h>\n",
        "using namespace std;\n",
        "\n",
        "class BasicArray {\n",
        " public:\n",
        "    virtual ~BasicArray() {\n",
        "        cout << \"BasicArray::~BasicArray() is called.\" << endl;\n",
        "    }\n",
        "\n",
        "    virtual void Set(int index, int value) = 0;\n",
        "    virtual int Get(int index) const = 0;\n",
        "};\n",
        "\n",
        "class DynamicArray : public BasicArray {\n",
        " public:\n",
        "    DynamicArray(int size, int initial_value) {\n",
        "        data_ = new int[size];\n",
        "        for (auto i = 0; i < size; ++i) {\n",
        "            data_[i] = initial_value;\n",
        "        }\n",
        "    }\n",
        "\n",
        "    ~DynamicArray() override {\n",
        "        cout << \"DynamicArray::~DynamicArray() is called.\" << endl;\n",
        "        delete[] data_;\n",
        "    }\n",
        "\n",
        "    void Set(int index, int value) { data_[index] = value; }\n",
        "\n",
        "    int Get(int index) const { return data_[index]; }\n",
        "\n",
        " private:\n",
        "    int* data_;\n",
        "};\n",
        "\n",
        "int main() {\n",
        "    unique_ptr<BasicArray> b(new DynamicArray(5, 1));\n",
        "    cout << b->Get(2) << endl;\n",
        "    b->Set(2, 10);\n",
        "    cout << b->Get(2) << endl;\n",
        "}"
      ],
      "execution_count": null,
      "outputs": []
    },
    {
      "cell_type": "code",
      "metadata": {
        "id": "YEsQ1oy5HpNV"
      },
      "source": [
        "!g++ temp.cpp; ./a.out"
      ],
      "execution_count": null,
      "outputs": []
    },
    {
      "cell_type": "code",
      "metadata": {
        "id": "1JOxThaPJMlt"
      },
      "source": [
        "# 演算子オーバーロード operator overloading\n",
        "# 単項演算子 unary operator\n",
        "%%writefile temp.cpp\n",
        "# include <bits/stdc++.h>\n",
        "\n",
        "using namespace std;\n",
        "\n",
        "class Integer {\n",
        " public:\n",
        "    explicit Integer(int value) : value_(value) {}\n",
        "\n",
        "    int Value() const {\n",
        "        return value_;\n",
        "    }\n",
        "\n",
        " private:\n",
        "    int value_;\n",
        "};\n",
        "\n",
        "// 負号演算子の対象が引数として渡される\n",
        "Integer operator-(const Integer& v) {\n",
        "    Integer tmp(-v.Value());\n",
        "    return tmp;\n",
        "}\n",
        "\n",
        "int main (){\n",
        "    Integer a(2);\n",
        "    Integer b = -a;\n",
        "\n",
        "    cout << a.Value() << endl;  // 2\n",
        "    cout << b.Value() << endl;  // -2\n",
        "}"
      ],
      "execution_count": null,
      "outputs": []
    },
    {
      "cell_type": "code",
      "metadata": {
        "id": "5YtJtEETJJ9P"
      },
      "source": [
        "!g++ temp.cpp; ./a.out"
      ],
      "execution_count": null,
      "outputs": []
    },
    {
      "cell_type": "code",
      "metadata": {
        "id": "Va3o9zqmJJj5"
      },
      "source": [
        "#\n",
        "%%writefile temp.cpp\n",
        "# include <bits/stdc++.h>\n",
        "using namespace std;\n",
        "\n",
        "class Integer {\n",
        " public:\n",
        "    explicit Integer(int value) : value_(value) {}\n",
        "\n",
        "    int Value() const {\n",
        "        return value_;\n",
        "    }\n",
        "\n",
        "    // 負号演算子の対象のメンバ関数\n",
        "    Integer operator-() const {\n",
        "        Integer tmp(-Value());  // 演算対象は自オブジェクトを使用する\n",
        "        return tmp;\n",
        "    }\n",
        "\n",
        " private:\n",
        "    int value_;\n",
        "};\n",
        "\n",
        "int main (){\n",
        "    Integer a(2);\n",
        "    Integer b = -a;\n",
        "\n",
        "    cout << a.Value() << endl;  // 2\n",
        "    cout << b.Value() << endl;  // -2\n",
        "}"
      ],
      "execution_count": null,
      "outputs": []
    },
    {
      "cell_type": "code",
      "metadata": {
        "id": "qrkaBUn5Jh0l"
      },
      "source": [
        "!g++ temp.cpp; ./a.out"
      ],
      "execution_count": null,
      "outputs": []
    },
    {
      "cell_type": "code",
      "metadata": {
        "id": "E21TSGceKVj4"
      },
      "source": [
        "# 二項演算子 binary operator\n",
        "%%writefile temp.cpp\n",
        "# include <bits/stdc++.h>\n",
        "using namespace std;\n",
        "\n",
        "class Integer {\n",
        " public:\n",
        "    explicit Integer(int value) : value_(value) {}\n",
        "\n",
        "    int Value() const {\n",
        "        return value_;\n",
        "    }\n",
        "\n",
        " private:\n",
        "    int value_;\n",
        "};\n",
        "\n",
        "// 加算演算子の左辺が第1引数、右辺が第2引数として渡される\n",
        "Integer operator+(const Integer& lhs, const Integer& rhs) {\n",
        "    Integer tmp(lhs.Value() + rhs.Value());\n",
        "    return tmp;\n",
        "}\n",
        "\n",
        "int main (){\n",
        "    Integer a(2);\n",
        "    Integer b(3);\n",
        "    Integer c = a + b;\n",
        "\n",
        "    cout << a.Value() << endl;  // 2\n",
        "    cout << b.Value() << endl;  // 3\n",
        "    cout << c.Value() << endl;  // 5    \n",
        "}\n"
      ],
      "execution_count": null,
      "outputs": []
    },
    {
      "cell_type": "code",
      "metadata": {
        "id": "Y_h7LQyzKVR2"
      },
      "source": [
        "!g++ temp.cpp; ./a.out"
      ],
      "execution_count": null,
      "outputs": []
    },
    {
      "cell_type": "code",
      "metadata": {
        "id": "kgkl4fm0LAOU"
      },
      "source": [
        "# \n",
        "%%writefile temp.cpp\n",
        "# include <bits/stdc++.h>\n",
        "using namespace std;\n",
        "\n",
        "class Integer {\n",
        " public:\n",
        "    explicit Integer(int value) : value_(value) {}\n",
        "\n",
        "    int Value() const {\n",
        "        return value_;\n",
        "    }\n",
        "\n",
        "    // 加算演算子の左辺のメンバ関数に対して、右辺が引数として渡される\n",
        "    Integer operator+(const Integer& rhs) const {\n",
        "        Integer tmp(Value() + rhs.Value());  // 左辺は自オブジェクトを使用する\n",
        "        return tmp;\n",
        "    }\n",
        "\n",
        " private:\n",
        "    int value_;\n",
        "};\n",
        "\n",
        "int main (){\n",
        "    Integer a(2);\n",
        "    Integer b(3);\n",
        "    Integer c = a + b;\n",
        "\n",
        "    cout << a.Value() << endl;  // 2\n",
        "    cout << b.Value() << endl;  // 3\n",
        "    cout << c.Value() << endl;  // 5    \n",
        "}\n"
      ],
      "execution_count": null,
      "outputs": []
    },
    {
      "cell_type": "code",
      "metadata": {
        "id": "Sf9Nd-GnK_8A"
      },
      "source": [
        "!g++ temp.cpp; ./a.out"
      ],
      "execution_count": null,
      "outputs": []
    },
    {
      "cell_type": "code",
      "metadata": {
        "id": "Y_UVe-JkL8SP"
      },
      "source": [
        "# 整数クラスと実数クラスの二項演算子\n",
        "%%script false\n",
        "class Integer {\n",
        " public:\n",
        "    explicit Integer(int value) : value_(value) {}\n",
        "\n",
        "    int Value() const {\n",
        "        return value_;\n",
        "    }\n",
        "\n",
        " private:\n",
        "    int value_;\n",
        "};\n",
        "\n",
        "class RealNumber {\n",
        " public:\n",
        "    explicit RealNumber(double value) : value_(value) {}\n",
        "\n",
        "    double Value() const {\n",
        "        return value_;\n",
        "    }\n",
        "\n",
        " private:\n",
        "    double value_;\n",
        "};\n",
        "\n",
        "RealNumber operator+(const Integer& lhs, const RealNumber& rhs) {\n",
        "    RealNumber tmp(lhs.Value() + rhs.Value());\n",
        "    return tmp;\n",
        "}\n",
        "\n",
        "RealNumber operator+(const RealNumber& lhs, const Integer& rhs) {\n",
        "    RealNumber tmp(lhs.Value() + rhs.Value());\n",
        "    return tmp;\n",
        "}"
      ],
      "execution_count": null,
      "outputs": []
    },
    {
      "cell_type": "code",
      "metadata": {
        "id": "v6NkGfdANLn7"
      },
      "source": [
        "# インクリメント/デクリメント/前置/後置 increment/decrement/prefix/postfix\n",
        "# 前置インクリメント\n",
        "%%writefile temp.cpp\n",
        "# include <bits/stdc++.h>\n",
        "using namespace std;\n",
        "\n",
        "class Integer {\n",
        " public:\n",
        "    explicit Integer(int value) : value_(value) {}\n",
        "\n",
        "    int Value() const {\n",
        "        return value_;\n",
        "    }\n",
        "\n",
        "    Integer& operator++() {\n",
        "        ++value_;\n",
        "        return *this;\n",
        "    }\n",
        "\n",
        " private:\n",
        "    int value_;\n",
        "};\n",
        "\n",
        "int main (){\n",
        "    Integer a(2);\n",
        "    Integer b = ++a;\n",
        "\n",
        "    cout << a.Value() << endl;  // 3\n",
        "    cout << b.Value() << endl;  // 3\n",
        "}"
      ],
      "execution_count": null,
      "outputs": []
    },
    {
      "cell_type": "code",
      "metadata": {
        "id": "itU86hHZNMtr"
      },
      "source": [
        "!g++ temp.cpp; ./a.out"
      ],
      "execution_count": null,
      "outputs": []
    },
    {
      "cell_type": "code",
      "metadata": {
        "id": "LE1ckRhTQ2r3"
      },
      "source": [
        "# 後置インクリメント\n",
        "%%writefile temp.cpp\n",
        "# include <bits/stdc++.h>\n",
        "using namespace std;\n",
        "\n",
        "class Integer {\n",
        " public:\n",
        "    explicit Integer(int value) : value_(value) {}\n",
        "\n",
        "    int Value() const {\n",
        "        return value_;\n",
        "    }\n",
        "\n",
        "    Integer operator++(int) {  // 引数の int は使用しない\n",
        "        Integer tmp(Value());\n",
        "        ++value_;\n",
        "        return tmp;\n",
        "    }\n",
        "\n",
        " private:\n",
        "    int value_;\n",
        "};\n",
        "\n",
        "int main (){\n",
        "    Integer a(2);\n",
        "    Integer b = a++;\n",
        "\n",
        "    cout << a.Value() << endl;  // 3\n",
        "    cout << b.Value() << endl;  // 2\n",
        "}"
      ],
      "execution_count": null,
      "outputs": []
    },
    {
      "cell_type": "code",
      "metadata": {
        "id": "S1-9KxlOQ2aE"
      },
      "source": [
        "!g++ temp.cpp; ./a.out"
      ],
      "execution_count": null,
      "outputs": []
    },
    {
      "cell_type": "code",
      "metadata": {
        "id": "vnEUk5sG5UlU"
      },
      "source": [
        "# 関数テンプレート\n",
        "# 型やコンパイル時に定まる値をパラメータ化する機能\n",
        "# 型に依存せず処理を共通化するために使用される。\n",
        "%%writefile temp.cpp\n",
        "# include <bits/stdc++.h>\n",
        "using namespace std;\n",
        "\n",
        "template <typename T>\n",
        "T Sum(T a, T b) {\n",
        "    return a + b;\n",
        "}\n",
        "int main(){\n",
        "    cout << Sum<int>(1, 2)  << endl;         // 3\n",
        "    cout << Sum<double>(1.2, 3.4)  << endl;  // 4.6\n",
        "}"
      ],
      "execution_count": null,
      "outputs": []
    },
    {
      "cell_type": "code",
      "metadata": {
        "id": "Kxoo0Fyv5VDX"
      },
      "source": [
        "!g++ temp.cpp; ./a.out"
      ],
      "execution_count": null,
      "outputs": []
    },
    {
      "cell_type": "code",
      "metadata": {
        "id": "s47KvId16-KS"
      },
      "source": [
        "# クラステンプレート\n",
        "%%writefile temp.cpp\n",
        "# include <bits/stdc++.h>\n",
        "using namespace std;\n",
        "\n",
        "template <typename T>\n",
        "class Rectangle {\n",
        " public:\n",
        "    Rectangle(T height, T width) : height_(height), width_(width) {}\n",
        "\n",
        "    T Area() const {\n",
        "       return height_ * width_;\n",
        "    }\n",
        "\n",
        " private:\n",
        "    const T height_;\n",
        "    const T width_;\n",
        "};\n",
        "int main(){\n",
        "    Rectangle<int> r1(10, 20);\n",
        "    Rectangle<double> r2(1.2, 3.4);\n",
        "    cout << r1.Area() << endl;  // 200\n",
        "    cout << r2.Area() << endl;  // 4.08\n",
        "}"
      ],
      "execution_count": null,
      "outputs": []
    },
    {
      "cell_type": "code",
      "metadata": {
        "id": "L7EcjG2n698I"
      },
      "source": [
        "!g++ temp.cpp; ./a.out"
      ],
      "execution_count": null,
      "outputs": []
    },
    {
      "cell_type": "code",
      "metadata": {
        "id": "eWh8xJ029MCL"
      },
      "source": [
        "# アサーション\n",
        "%%writefile temp.cpp\n",
        "# include <bits/stdc++.h>\n",
        "using namespace std;\n",
        "\n",
        "int Max(const vector<int>& v) {\n",
        "    assert(!v.empty());\n",
        "\n",
        "    int max = numeric_limits<int>::min();\n",
        "    for (auto e : v) {\n",
        "        if (e > max) {\n",
        "            max = e;\n",
        "        }\n",
        "    }\n",
        "    return max;\n",
        "}\n",
        "\n",
        "int main() {\n",
        "    vector<int> v1 = {1, 2, 3, 4, 5};\n",
        "    vector<int> v2;\n",
        "\n",
        "    cout << Max(v1) << endl;\n",
        "    cout << Max(v2) << endl;\n",
        "}"
      ],
      "execution_count": null,
      "outputs": []
    },
    {
      "cell_type": "code",
      "metadata": {
        "id": "kzA4HO649Mtv"
      },
      "source": [
        "!g++ temp.cpp; ./a.out"
      ],
      "execution_count": null,
      "outputs": []
    },
    {
      "cell_type": "code",
      "metadata": {
        "id": "3MXY1ge89rBI"
      },
      "source": [
        "#\n",
        "%%writefile temp.cpp\n",
        "#include <cassert>\n",
        "using namespace std;\n",
        "\n",
        "template <typename T, int N>\n",
        "class Array {\n",
        "    static_assert(N > 0, \"サイズは0より大きくなければなりません\");\n",
        "\n",
        " public:\n",
        "    int size() const { return N; }\n",
        "\n",
        "    T data_[N];  // サイズ 0 の配列はコンパイルエラーにならない\n",
        "};\n",
        "\n",
        "int main() {\n",
        "    Array<int, 0> a;\n",
        "    return 0;\n",
        "}"
      ],
      "execution_count": null,
      "outputs": []
    },
    {
      "cell_type": "code",
      "metadata": {
        "id": "GAzhwbn49qyf"
      },
      "source": [
        "!g++ temp.cpp; ./a.out"
      ],
      "execution_count": null,
      "outputs": []
    },
    {
      "cell_type": "code",
      "source": [
        "# 正規表現 regex\n",
        "%%writefile temp.cpp\n",
        "# include <bits/stdc++.h>\n",
        "using namespace std;\n",
        "\n",
        "int main() {\n",
        "\n",
        "  string s1 = \"1234\";\n",
        "  string s2 = \"abc\";\n",
        "\n",
        "  regex re(R\"(\\d+)\");  // raw string literal\n",
        "\n",
        "  assert( regex_match(s1, re) ); // true or false\n",
        "  assert (!regex_match(s2, re) );\n",
        "}"
      ],
      "metadata": {
        "id": "BYDc3vLLCoJC"
      },
      "execution_count": null,
      "outputs": []
    },
    {
      "cell_type": "code",
      "source": [
        "!g++ temp.cpp; ./a.out"
      ],
      "metadata": {
        "id": "uxcu74g4CqjH"
      },
      "execution_count": null,
      "outputs": []
    },
    {
      "cell_type": "code",
      "source": [
        "# 正規表現の返り値\n",
        "%%writefile temp.cpp\n",
        "# include <bits/stdc++.h>\n",
        "using namespace std;\n",
        "\n",
        "int main() {\n",
        "    string s = \"123-4567\";\n",
        "    smatch m; // char の場合は cmatch\n",
        "    if ( regex_match(s, m, regex(R\"((\\d+)-(\\d+))\")) ) {\n",
        "        cout << m[0].str() << endl;  // => 123-4567\n",
        "        cout << m[1].str() << endl;  // => 123\n",
        "        cout << m[2].str() << endl;  // => 4567\n",
        "    }\n",
        "}"
      ],
      "metadata": {
        "id": "Xo87JtuWF1wo"
      },
      "execution_count": null,
      "outputs": []
    },
    {
      "cell_type": "code",
      "source": [
        "!g++ temp.cpp; ./a.out"
      ],
      "metadata": {
        "id": "tzD8YgMgF1mw"
      },
      "execution_count": null,
      "outputs": []
    },
    {
      "cell_type": "markdown",
      "source": [
        "# 問題集"
      ],
      "metadata": {
        "id": "6ZopD17znblJ"
      }
    },
    {
      "cell_type": "markdown",
      "source": [
        "# いまここ"
      ],
      "metadata": {
        "id": "InJBuwgWnetm"
      }
    }
  ]
}