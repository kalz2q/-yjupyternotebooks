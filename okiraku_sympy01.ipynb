{
  "nbformat": 4,
  "nbformat_minor": 0,
  "metadata": {
    "colab": {
      "name": "okiraku_sympy01.ipynb",
      "provenance": [],
      "toc_visible": true,
      "authorship_tag": "ABX9TyNo/J9VvaOP63dKqCjh3CSz",
      "include_colab_link": true
    },
    "kernelspec": {
      "name": "python3",
      "display_name": "Python 3"
    },
    "language_info": {
      "name": "python"
    }
  },
  "cells": [
    {
      "cell_type": "markdown",
      "metadata": {
        "id": "view-in-github",
        "colab_type": "text"
      },
      "source": [
        "<a href=\"https://colab.research.google.com/github/kalz2q/mycolabnotebooks/blob/master/okiraku_sympy01.ipynb\" target=\"_parent\"><img src=\"https://colab.research.google.com/assets/colab-badge.svg\" alt=\"Open In Colab\"/></a>"
      ]
    },
    {
      "cell_type": "markdown",
      "metadata": {
        "id": "B1lzqc6ohtCw"
      },
      "source": [
        "# メモ\n",
        "\n",
        "お気楽 sympy プログラミング超入門\n",
        "\n",
        "http://www.nct9.ne.jp/m_hiroi/light/python3.html#sympy_abc\n",
        "\n",
        "* Hello, SymPy!!\n",
        "* SymPy の基本\n",
        "* 多項式\n",
        "* 微積分\n",
        "* 集合\n",
        "* 行列\n",
        "* 線形代数\n",
        "* 素数と約数\n",
        "* 数列と級数\n",
        "* 論理代数\n",
        "* 等式と不等式\n",
        "* 微分方程式\n",
        "* いろいろな関数\n",
        "* 特殊関数\n",
        "* 関数のグラフ\n",
        "\n",
        "を読む。\n",
        "\n"
      ]
    },
    {
      "cell_type": "markdown",
      "metadata": {
        "id": "S7QbPDbDiqCi"
      },
      "source": [
        "微分\n",
        "\n",
        "$f(x) = x^2$ の微分は $f'(x) = 2x$ になるが、sympy\n",
        "で次のように計算できる。"
      ]
    },
    {
      "cell_type": "code",
      "metadata": {
        "id": "hIWJAaK5ifT2",
        "colab": {
          "base_uri": "https://localhost:8080/",
          "height": 60
        },
        "outputId": "74421788-9aa7-4463-ff20-0828c933ebf4"
      },
      "source": [
        "from sympy.abc import *\n",
        "from sympy import *\n",
        "f = x**2 + 2*x + 1\n",
        "display(f)\n",
        "g = f.diff()\n",
        "display(g)"
      ],
      "execution_count": null,
      "outputs": [
        {
          "output_type": "display_data",
          "data": {
            "text/latex": "$\\displaystyle x^{2} + 2 x + 1$",
            "text/plain": [
              "x**2 + 2*x + 1"
            ]
          },
          "metadata": {
            "tags": []
          }
        },
        {
          "output_type": "display_data",
          "data": {
            "text/latex": "$\\displaystyle 2 x + 2$",
            "text/plain": [
              "2*x + 2"
            ]
          },
          "metadata": {
            "tags": []
          }
        }
      ]
    },
    {
      "cell_type": "markdown",
      "metadata": {
        "id": "Pe1XI8SeiXgM"
      },
      "source": [
        "$x$ に値を入れずに、数式のままで微分ができている。 \n",
        "\n",
        "このようなシステムを数式処理システム formula manipulation system と呼ぶ。\n"
      ]
    },
    {
      "cell_type": "markdown",
      "metadata": {
        "id": "slfv_ZRCk7Xy"
      },
      "source": [
        "# 基本"
      ]
    },
    {
      "cell_type": "markdown",
      "metadata": {
        "id": "gcgsg6dIkCJl"
      },
      "source": [
        "有理数は `Rational(p, q)`\n",
        "\n",
        "sympy の虚数単位は I \n",
        "\n",
        "sympy は虚数単位を含む数式を複素数として扱う。\n",
        "\n",
        "定数\n",
        "*   sympy では特殊な定数 (E, pi, oo) や数学関数を数式として扱う\n",
        "*   E : 自然対数の底 (ネイピア数)\n",
        "*   pi : 円周率\n",
        "*   oo : 無限大\n",
        "\n",
        "\n",
        "\n"
      ]
    },
    {
      "cell_type": "code",
      "metadata": {
        "id": "eZipZYc3mKM9",
        "colab": {
          "base_uri": "https://localhost:8080/",
          "height": 326
        },
        "outputId": "64ee4d6b-3645-46aa-e3fb-1c9b4dac6201"
      },
      "source": [
        "from sympy import *\n",
        "display(Integer(12345))\n",
        "display(Integer('12345') + 3)\n",
        "display(Rational(1, 2))\n",
        "display(Integer(2) / Integer(6)) # Rational(1,3)\n",
        "display(Rational(1, 2) + Rational(1, 3))\n",
        "print()\n",
        "display(1.1 + 2.2 * I)\n",
        "display(sqrt(2))\n",
        "display(sqrt(8))\n",
        "display(pi)\n",
        "display(E)\n",
        "display(exp(1))\n",
        "display(oo)"
      ],
      "execution_count": 12,
      "outputs": [
        {
          "output_type": "display_data",
          "data": {
            "text/latex": "$\\displaystyle 12345$",
            "text/plain": [
              "12345"
            ]
          },
          "metadata": {
            "tags": []
          }
        },
        {
          "output_type": "display_data",
          "data": {
            "text/latex": "$\\displaystyle 12348$",
            "text/plain": [
              "12348"
            ]
          },
          "metadata": {
            "tags": []
          }
        },
        {
          "output_type": "display_data",
          "data": {
            "text/latex": "$\\displaystyle \\frac{1}{2}$",
            "text/plain": [
              "1/2"
            ]
          },
          "metadata": {
            "tags": []
          }
        },
        {
          "output_type": "display_data",
          "data": {
            "text/latex": "$\\displaystyle \\frac{1}{3}$",
            "text/plain": [
              "1/3"
            ]
          },
          "metadata": {
            "tags": []
          }
        },
        {
          "output_type": "display_data",
          "data": {
            "text/latex": "$\\displaystyle \\frac{5}{6}$",
            "text/plain": [
              "5/6"
            ]
          },
          "metadata": {
            "tags": []
          }
        },
        {
          "output_type": "stream",
          "text": [
            "\n"
          ],
          "name": "stdout"
        },
        {
          "output_type": "display_data",
          "data": {
            "text/latex": "$\\displaystyle 1.1 + 2.2 i$",
            "text/plain": [
              "1.1 + 2.2*I"
            ]
          },
          "metadata": {
            "tags": []
          }
        },
        {
          "output_type": "display_data",
          "data": {
            "text/latex": "$\\displaystyle \\sqrt{2}$",
            "text/plain": [
              "sqrt(2)"
            ]
          },
          "metadata": {
            "tags": []
          }
        },
        {
          "output_type": "display_data",
          "data": {
            "text/latex": "$\\displaystyle 2 \\sqrt{2}$",
            "text/plain": [
              "2*sqrt(2)"
            ]
          },
          "metadata": {
            "tags": []
          }
        },
        {
          "output_type": "display_data",
          "data": {
            "text/latex": "$\\displaystyle \\pi$",
            "text/plain": [
              "pi"
            ]
          },
          "metadata": {
            "tags": []
          }
        },
        {
          "output_type": "display_data",
          "data": {
            "text/latex": "$\\displaystyle e$",
            "text/plain": [
              "E"
            ]
          },
          "metadata": {
            "tags": []
          }
        },
        {
          "output_type": "display_data",
          "data": {
            "text/latex": "$\\displaystyle e$",
            "text/plain": [
              "E"
            ]
          },
          "metadata": {
            "tags": []
          }
        },
        {
          "output_type": "display_data",
          "data": {
            "text/latex": "$\\displaystyle \\infty$",
            "text/plain": [
              "oo"
            ]
          },
          "metadata": {
            "tags": []
          }
        }
      ]
    },
    {
      "cell_type": "code",
      "metadata": {
        "id": "IYVcFPk-l6hQ",
        "colab": {
          "base_uri": "https://localhost:8080/",
          "height": 99
        },
        "outputId": "9f538ea0-67ad-414f-e996-9f5a6e76e196"
      },
      "source": [
        "# 数式の出力\n",
        "from sympy import *\n",
        "# init_printing() # colab ではデフォルトなので必ずしも指定しないでよい\n",
        "display(sqrt(2))\n",
        "display(1 / sqrt(2))\n",
        "x,y = symbols('x,y')\n",
        "display(x**2+y+3)"
      ],
      "execution_count": 13,
      "outputs": [
        {
          "output_type": "display_data",
          "data": {
            "text/latex": "$\\displaystyle \\sqrt{2}$",
            "text/plain": [
              "sqrt(2)"
            ]
          },
          "metadata": {
            "tags": []
          }
        },
        {
          "output_type": "display_data",
          "data": {
            "text/latex": "$\\displaystyle \\frac{\\sqrt{2}}{2}$",
            "text/plain": [
              "sqrt(2)/2"
            ]
          },
          "metadata": {
            "tags": []
          }
        },
        {
          "output_type": "display_data",
          "data": {
            "text/latex": "$\\displaystyle x^{2} + y + 3$",
            "text/plain": [
              "x**2 + y + 3"
            ]
          },
          "metadata": {
            "tags": []
          }
        }
      ]
    },
    {
      "cell_type": "markdown",
      "metadata": {
        "id": "tesEP5CjnZ1k"
      },
      "source": [
        "# 変数の定義\n",
        "\n",
        "シンボル (symbol) を使って数式の変数を表す。\n",
        "\n",
        "シンボルは `Symbol(), symbols(), var()` などで生成する。\n",
        "\n",
        "引数にはシンボルの名前 (文字列) を渡す。\n",
        "\n",
        "`Symbol()` はシンボルをひとつ生成する。\n",
        "\n",
        "`symbols()` と `var()` は複数のシンボルを生成する。\n",
        "\n",
        "*   引数の文字列を空白文字やカンマ (,) で区切る。\n",
        "*   コロン (:) を使うと複数のシンボルを簡単に指定できる。\n",
        "*   たとえば、a:z とすると a から z までの 26 個のシンボルを生成する。\n",
        "*   x:10 は x0 から x9 まで, x1:6 は x1 から x5 までのシンボルを生成する。\n",
        "\n",
        "生成したシンボルは python の変数に格納して使用する。\n",
        "\n",
        "シンボル名と python の変数名は同じにしたほうがわかりやすい。\n",
        "\n",
        "var() は同じ名前の大域変数に生成したシンボルを格納する。\n",
        "\n",
        "`from sympy.abc import *` は一度にシンボルを生成できて便利だが変数をオーバーライトするので注意する。\n",
        "\n",
        "\n",
        "\n"
      ]
    },
    {
      "cell_type": "code",
      "metadata": {
        "id": "d7vZwTbmpoRv",
        "colab": {
          "base_uri": "https://localhost:8080/",
          "height": 342
        },
        "outputId": "8f9b7e7a-a278-455b-f92b-53dc137fae2c"
      },
      "source": [
        "from sympy import *\n",
        "x, y, z = symbols('x y z')\n",
        "display(x)\n",
        "display(y)\n",
        "display(z)\n",
        "display(x + 2*y + 3*z)\n",
        "display((x + y) ** 2)\n",
        "display((x + y + z) ** 3)\n",
        "display(x**3 + 2*x**2 + 3*x + 4)\n",
        "display(sqrt(x))\n",
        "display(sqrt(x*x + y*y))\n",
        "var('a:c')\n",
        "display(a)\n",
        "display(b)\n",
        "display(c)\n",
        "var('x1:4')\n",
        "display(x1)\n",
        "display(x2)\n",
        "display(x3)\n"
      ],
      "execution_count": null,
      "outputs": [
        {
          "output_type": "display_data",
          "data": {
            "text/latex": "$\\displaystyle x$",
            "text/plain": [
              "x"
            ]
          },
          "metadata": {
            "tags": []
          }
        },
        {
          "output_type": "display_data",
          "data": {
            "text/latex": "$\\displaystyle y$",
            "text/plain": [
              "y"
            ]
          },
          "metadata": {
            "tags": []
          }
        },
        {
          "output_type": "display_data",
          "data": {
            "text/latex": "$\\displaystyle z$",
            "text/plain": [
              "z"
            ]
          },
          "metadata": {
            "tags": []
          }
        },
        {
          "output_type": "display_data",
          "data": {
            "text/latex": "$\\displaystyle x + 2 y + 3 z$",
            "text/plain": [
              "x + 2*y + 3*z"
            ]
          },
          "metadata": {
            "tags": []
          }
        },
        {
          "output_type": "display_data",
          "data": {
            "text/latex": "$\\displaystyle \\left(x + y\\right)^{2}$",
            "text/plain": [
              "(x + y)**2"
            ]
          },
          "metadata": {
            "tags": []
          }
        },
        {
          "output_type": "display_data",
          "data": {
            "text/latex": "$\\displaystyle \\left(x + y + z\\right)^{3}$",
            "text/plain": [
              "(x + y + z)**3"
            ]
          },
          "metadata": {
            "tags": []
          }
        },
        {
          "output_type": "display_data",
          "data": {
            "text/latex": "$\\displaystyle x^{3} + 2 x^{2} + 3 x + 4$",
            "text/plain": [
              "x**3 + 2*x**2 + 3*x + 4"
            ]
          },
          "metadata": {
            "tags": []
          }
        },
        {
          "output_type": "display_data",
          "data": {
            "text/latex": "$\\displaystyle \\sqrt{x}$",
            "text/plain": [
              "sqrt(x)"
            ]
          },
          "metadata": {
            "tags": []
          }
        },
        {
          "output_type": "display_data",
          "data": {
            "text/latex": "$\\displaystyle \\sqrt{x^{2} + y^{2}}$",
            "text/plain": [
              "sqrt(x**2 + y**2)"
            ]
          },
          "metadata": {
            "tags": []
          }
        },
        {
          "output_type": "display_data",
          "data": {
            "text/latex": "$\\displaystyle a$",
            "text/plain": [
              "a"
            ]
          },
          "metadata": {
            "tags": []
          }
        },
        {
          "output_type": "display_data",
          "data": {
            "text/latex": "$\\displaystyle b$",
            "text/plain": [
              "b"
            ]
          },
          "metadata": {
            "tags": []
          }
        },
        {
          "output_type": "display_data",
          "data": {
            "text/latex": "$\\displaystyle c$",
            "text/plain": [
              "c"
            ]
          },
          "metadata": {
            "tags": []
          }
        },
        {
          "output_type": "display_data",
          "data": {
            "text/latex": "$\\displaystyle x_{1}$",
            "text/plain": [
              "x1"
            ]
          },
          "metadata": {
            "tags": []
          }
        },
        {
          "output_type": "display_data",
          "data": {
            "text/latex": "$\\displaystyle x_{2}$",
            "text/plain": [
              "x2"
            ]
          },
          "metadata": {
            "tags": []
          }
        },
        {
          "output_type": "display_data",
          "data": {
            "text/latex": "$\\displaystyle x_{3}$",
            "text/plain": [
              "x3"
            ]
          },
          "metadata": {
            "tags": []
          }
        }
      ]
    },
    {
      "cell_type": "markdown",
      "metadata": {
        "id": "_JYL10yt0d27"
      },
      "source": [
        "数式 expr の展開は関数 `expand()` で、因数分解は関数 `factor()`\n",
        "で行うことができる。\n",
        "\n",
        "数式の展開は目的別の関数も用意されている。\n",
        "\n",
        "*   `expand_power_exp(), expand_power_base()` $\\quad$ 指数を含む式の展開\n",
        "*   `expand_trig()` $\\quad$ 三角関数を含む式の展開\n",
        "*   `expand_log()` $\\quad$ 対数関数を含む式の展開\n"
      ]
    },
    {
      "cell_type": "code",
      "metadata": {
        "id": "d3bhjMLf1ffU",
        "colab": {
          "base_uri": "https://localhost:8080/",
          "height": 210
        },
        "outputId": "1e246a6c-2e26-47c5-e9bd-7a56716696e5"
      },
      "source": [
        "from sympy.abc import *\n",
        "from sympy import *\n",
        "display(expand((x + y)**2))\n",
        "display(expand((x + y + z)**2))\n",
        "display(expand((x + y)**3))\n",
        "a = expand((x + y)**4)\n",
        "display(a)\n",
        "display(factor(a))\n",
        "display(factor(x**2 - 1))\n",
        "display(factor(x**2 - 2*x + 1))\n",
        "display(factor(x**3 + y**3))"
      ],
      "execution_count": 24,
      "outputs": [
        {
          "output_type": "display_data",
          "data": {
            "text/latex": "$\\displaystyle x^{2} + 2 x y + y^{2}$",
            "text/plain": [
              "x**2 + 2*x*y + y**2"
            ]
          },
          "metadata": {
            "tags": []
          }
        },
        {
          "output_type": "display_data",
          "data": {
            "text/latex": "$\\displaystyle x^{2} + 2 x y + 2 x z + y^{2} + 2 y z + z^{2}$",
            "text/plain": [
              "x**2 + 2*x*y + 2*x*z + y**2 + 2*y*z + z**2"
            ]
          },
          "metadata": {
            "tags": []
          }
        },
        {
          "output_type": "display_data",
          "data": {
            "text/latex": "$\\displaystyle x^{3} + 3 x^{2} y + 3 x y^{2} + y^{3}$",
            "text/plain": [
              "x**3 + 3*x**2*y + 3*x*y**2 + y**3"
            ]
          },
          "metadata": {
            "tags": []
          }
        },
        {
          "output_type": "display_data",
          "data": {
            "text/latex": "$\\displaystyle x^{4} + 4 x^{3} y + 6 x^{2} y^{2} + 4 x y^{3} + y^{4}$",
            "text/plain": [
              "x**4 + 4*x**3*y + 6*x**2*y**2 + 4*x*y**3 + y**4"
            ]
          },
          "metadata": {
            "tags": []
          }
        },
        {
          "output_type": "display_data",
          "data": {
            "text/latex": "$\\displaystyle \\left(x + y\\right)^{4}$",
            "text/plain": [
              "(x + y)**4"
            ]
          },
          "metadata": {
            "tags": []
          }
        },
        {
          "output_type": "display_data",
          "data": {
            "text/latex": "$\\displaystyle \\left(x - 1\\right) \\left(x + 1\\right)$",
            "text/plain": [
              "(x - 1)*(x + 1)"
            ]
          },
          "metadata": {
            "tags": []
          }
        },
        {
          "output_type": "display_data",
          "data": {
            "text/latex": "$\\displaystyle \\left(x - 1\\right)^{2}$",
            "text/plain": [
              "(x - 1)**2"
            ]
          },
          "metadata": {
            "tags": []
          }
        },
        {
          "output_type": "display_data",
          "data": {
            "text/latex": "$\\displaystyle \\left(x + y\\right) \\left(x^{2} - x y + y^{2}\\right)$",
            "text/plain": [
              "(x + y)*(x**2 - x*y + y**2)"
            ]
          },
          "metadata": {
            "tags": []
          }
        },
        {
          "output_type": "stream",
          "text": [
            "\n"
          ],
          "name": "stdout"
        }
      ]
    },
    {
      "cell_type": "code",
      "metadata": {
        "colab": {
          "base_uri": "https://localhost:8080/",
          "height": 146
        },
        "id": "zJ4o5j-OUIkG",
        "outputId": "527a2243-ff65-47fc-dc54-7ce4ab1e62c5"
      },
      "source": [
        "from sympy.abc import *\n",
        "from sympy import *\n",
        "display(x**(y+z))\n",
        "display(expand(x**(y+z))) \n",
        "display(expand_power_exp(x**(y+z)))\n",
        "display((x*y)**z)\n",
        "display(expand((x*y)**z)) \n",
        "display(expand_power_base((x*y)**z, force=True)) # force=True が必要\n"
      ],
      "execution_count": 36,
      "outputs": [
        {
          "output_type": "display_data",
          "data": {
            "text/latex": "$\\displaystyle x^{y + z}$",
            "text/plain": [
              "x**(y + z)"
            ]
          },
          "metadata": {
            "tags": []
          }
        },
        {
          "output_type": "display_data",
          "data": {
            "text/latex": "$\\displaystyle x^{y} x^{z}$",
            "text/plain": [
              "x**y*x**z"
            ]
          },
          "metadata": {
            "tags": []
          }
        },
        {
          "output_type": "display_data",
          "data": {
            "text/latex": "$\\displaystyle x^{y} x^{z}$",
            "text/plain": [
              "x**y*x**z"
            ]
          },
          "metadata": {
            "tags": []
          }
        },
        {
          "output_type": "display_data",
          "data": {
            "text/latex": "$\\displaystyle \\left(x y\\right)^{z}$",
            "text/plain": [
              "(x*y)**z"
            ]
          },
          "metadata": {
            "tags": []
          }
        },
        {
          "output_type": "display_data",
          "data": {
            "text/latex": "$\\displaystyle \\left(x y\\right)^{z}$",
            "text/plain": [
              "(x*y)**z"
            ]
          },
          "metadata": {
            "tags": []
          }
        },
        {
          "output_type": "display_data",
          "data": {
            "text/latex": "$\\displaystyle x^{z} y^{z}$",
            "text/plain": [
              "x**z*y**z"
            ]
          },
          "metadata": {
            "tags": []
          }
        }
      ]
    },
    {
      "cell_type": "code",
      "metadata": {
        "colab": {
          "base_uri": "https://localhost:8080/",
          "height": 125
        },
        "id": "MAXi2kEVTbRl",
        "outputId": "a5792bbb-2843-4486-e894-8af673080fbf"
      },
      "source": [
        "from sympy.abc import *\n",
        "from sympy import *\n",
        "display(expand(sin(x + y))) # expand しない\n",
        "display(expand_trig(sin(x + y)))\n",
        "display(expand_trig(cos(x + y)))\n",
        "display(expand_trig(sin(2*x)))\n",
        "display(expand_trig(cos(2*x)))\n"
      ],
      "execution_count": 35,
      "outputs": [
        {
          "output_type": "display_data",
          "data": {
            "text/latex": "$\\displaystyle \\sin{\\left(x + y \\right)}$",
            "text/plain": [
              "sin(x + y)"
            ]
          },
          "metadata": {
            "tags": []
          }
        },
        {
          "output_type": "display_data",
          "data": {
            "text/latex": "$\\displaystyle \\sin{\\left(x \\right)} \\cos{\\left(y \\right)} + \\sin{\\left(y \\right)} \\cos{\\left(x \\right)}$",
            "text/plain": [
              "sin(x)*cos(y) + sin(y)*cos(x)"
            ]
          },
          "metadata": {
            "tags": []
          }
        },
        {
          "output_type": "display_data",
          "data": {
            "text/latex": "$\\displaystyle - \\sin{\\left(x \\right)} \\sin{\\left(y \\right)} + \\cos{\\left(x \\right)} \\cos{\\left(y \\right)}$",
            "text/plain": [
              "-sin(x)*sin(y) + cos(x)*cos(y)"
            ]
          },
          "metadata": {
            "tags": []
          }
        },
        {
          "output_type": "display_data",
          "data": {
            "text/latex": "$\\displaystyle 2 \\sin{\\left(x \\right)} \\cos{\\left(x \\right)}$",
            "text/plain": [
              "2*sin(x)*cos(x)"
            ]
          },
          "metadata": {
            "tags": []
          }
        },
        {
          "output_type": "display_data",
          "data": {
            "text/latex": "$\\displaystyle 2 \\cos^{2}{\\left(x \\right)} - 1$",
            "text/plain": [
              "2*cos(x)**2 - 1"
            ]
          },
          "metadata": {
            "tags": []
          }
        }
      ]
    },
    {
      "cell_type": "code",
      "metadata": {
        "colab": {
          "base_uri": "https://localhost:8080/",
          "height": 166
        },
        "id": "1nVQ7DwOVG8n",
        "outputId": "765c8883-6cd8-4a3f-fee6-90eca951d25c"
      },
      "source": [
        "from sympy.abc import *\n",
        "from sympy import *\n",
        "display(expand_log(log(x*y)))\n",
        "display(expand_log(log(x*y), force=True))\n",
        "display(expand_log(log(x/y)))\n",
        "display(expand_log(log(x/y), force=True))\n",
        "display(expand_log(log(x**2)))\n",
        "display(expand_log(log(x**2), force=True))\n"
      ],
      "execution_count": 37,
      "outputs": [
        {
          "output_type": "display_data",
          "data": {
            "text/latex": "$\\displaystyle \\log{\\left(x y \\right)}$",
            "text/plain": [
              "log(x*y)"
            ]
          },
          "metadata": {
            "tags": []
          }
        },
        {
          "output_type": "display_data",
          "data": {
            "text/latex": "$\\displaystyle \\log{\\left(x \\right)} + \\log{\\left(y \\right)}$",
            "text/plain": [
              "log(x) + log(y)"
            ]
          },
          "metadata": {
            "tags": []
          }
        },
        {
          "output_type": "display_data",
          "data": {
            "text/latex": "$\\displaystyle \\log{\\left(\\frac{x}{y} \\right)}$",
            "text/plain": [
              "log(x/y)"
            ]
          },
          "metadata": {
            "tags": []
          }
        },
        {
          "output_type": "display_data",
          "data": {
            "text/latex": "$\\displaystyle \\log{\\left(x \\right)} - \\log{\\left(y \\right)}$",
            "text/plain": [
              "log(x) - log(y)"
            ]
          },
          "metadata": {
            "tags": []
          }
        },
        {
          "output_type": "display_data",
          "data": {
            "text/latex": "$\\displaystyle \\log{\\left(x^{2} \\right)}$",
            "text/plain": [
              "log(x**2)"
            ]
          },
          "metadata": {
            "tags": []
          }
        },
        {
          "output_type": "display_data",
          "data": {
            "text/latex": "$\\displaystyle 2 \\log{\\left(x \\right)}$",
            "text/plain": [
              "2*log(x)"
            ]
          },
          "metadata": {
            "tags": []
          }
        }
      ]
    },
    {
      "cell_type": "code",
      "metadata": {
        "colab": {
          "base_uri": "https://localhost:8080/",
          "height": 82
        },
        "id": "XdRGycrTa4B0",
        "outputId": "ab6053aa-e25d-4d58-cff3-5bc422d38e37"
      },
      "source": [
        "from sympy.abc import *\n",
        "from sympy import *\n",
        "var('x1 y1 z1', positive=True)\n",
        "display(expand_log(log(x1*y1)))\n",
        "display(expand_log(log(x1/y1)))\n",
        "display(expand_log(log(x1**2)))"
      ],
      "execution_count": 41,
      "outputs": [
        {
          "output_type": "display_data",
          "data": {
            "text/latex": "$\\displaystyle \\log{\\left(x_{1} \\right)} + \\log{\\left(y_{1} \\right)}$",
            "text/plain": [
              "log(x1) + log(y1)"
            ]
          },
          "metadata": {
            "tags": []
          }
        },
        {
          "output_type": "display_data",
          "data": {
            "text/latex": "$\\displaystyle \\log{\\left(x_{1} \\right)} - \\log{\\left(y_{1} \\right)}$",
            "text/plain": [
              "log(x1) - log(y1)"
            ]
          },
          "metadata": {
            "tags": []
          }
        },
        {
          "output_type": "display_data",
          "data": {
            "text/latex": "$\\displaystyle 2 \\log{\\left(x_{1} \\right)}$",
            "text/plain": [
              "2*log(x1)"
            ]
          },
          "metadata": {
            "tags": []
          }
        }
      ]
    },
    {
      "cell_type": "markdown",
      "metadata": {
        "id": "Ms0UXz90blZE"
      },
      "source": [
        "メモ $\\quad$ 変数の定義域が指定されていないと数学的に展開 expand が無理な場合、展開しない。 変数を positive=True にするか、force=True で展開できる。"
      ]
    },
    {
      "cell_type": "markdown",
      "metadata": {
        "id": "rb4zyjDq1wDI"
      },
      "source": [
        "数式の簡約化 `simplify()`\n",
        "\n",
        "数式の簡約化は関数 `simplify()` を使うと簡単\n",
        "\n",
        "目的別の関数もある。\n",
        "\n",
        "*   `powsimp()` $\\quad$ 指数の簡約化\n",
        "*   `trigsimp()` $\\quad$ 三角関数を含む式の簡約化\n",
        "*   `logcombine()` $\\quad$ 対数関数を含む式の簡約化\n"
      ]
    },
    {
      "cell_type": "code",
      "metadata": {
        "colab": {
          "base_uri": "https://localhost:8080/",
          "height": 186
        },
        "id": "3o9Vw5MPcT0p",
        "outputId": "f7a1abfe-4d73-4fee-f511-3d641306932f"
      },
      "source": [
        "from sympy.abc import *\n",
        "from sympy import *\n",
        "display((x**2 + 2*x + 1)/(x + 1))\n",
        "display(simplify((x**2 + 2*x + 1)/(x + 1)))\n",
        "display(simplify((x**2 - 1)/(x + 1)))\n",
        "display(x**y * x**z)\n",
        "display(powsimp(x**y * x**z))\n",
        "display(x**y / x**z)\n",
        "display(powsimp(x**y / x**z))\n"
      ],
      "execution_count": 42,
      "outputs": [
        {
          "output_type": "display_data",
          "data": {
            "text/latex": "$\\displaystyle \\frac{x^{2} + 2 x + 1}{x + 1}$",
            "text/plain": [
              "(x**2 + 2*x + 1)/(x + 1)"
            ]
          },
          "metadata": {
            "tags": []
          }
        },
        {
          "output_type": "display_data",
          "data": {
            "text/latex": "$\\displaystyle x + 1$",
            "text/plain": [
              "x + 1"
            ]
          },
          "metadata": {
            "tags": []
          }
        },
        {
          "output_type": "display_data",
          "data": {
            "text/latex": "$\\displaystyle x - 1$",
            "text/plain": [
              "x - 1"
            ]
          },
          "metadata": {
            "tags": []
          }
        },
        {
          "output_type": "display_data",
          "data": {
            "text/latex": "$\\displaystyle x^{y} x^{z}$",
            "text/plain": [
              "x**y*x**z"
            ]
          },
          "metadata": {
            "tags": []
          }
        },
        {
          "output_type": "display_data",
          "data": {
            "text/latex": "$\\displaystyle x^{y + z}$",
            "text/plain": [
              "x**(y + z)"
            ]
          },
          "metadata": {
            "tags": []
          }
        },
        {
          "output_type": "display_data",
          "data": {
            "text/latex": "$\\displaystyle x^{y} x^{- z}$",
            "text/plain": [
              "x**y*x**(-z)"
            ]
          },
          "metadata": {
            "tags": []
          }
        },
        {
          "output_type": "display_data",
          "data": {
            "text/latex": "$\\displaystyle x^{y - z}$",
            "text/plain": [
              "x**(y - z)"
            ]
          },
          "metadata": {
            "tags": []
          }
        }
      ]
    },
    {
      "cell_type": "code",
      "metadata": {
        "colab": {
          "base_uri": "https://localhost:8080/",
          "height": 248
        },
        "id": "muyVDFL8cooY",
        "outputId": "11d9fbfe-f6c8-4d30-9967-3d53b5725a80"
      },
      "source": [
        "from sympy.abc import *\n",
        "from sympy import *\n",
        "display(sin(x)**2 + cos(x)**2)\n",
        "display(trigsimp(sin(x)**2 + cos(x)**2))\n",
        "display(sin(x)*cos(y) + cos(x)*sin(y))\n",
        "display(trigsimp(sin(x)*cos(y) + cos(x)*sin(y)))\n",
        "display(cos(x)*cos(y) + sin(x)*sin(y))\n",
        "display(trigsimp(cos(x)*cos(y) + sin(x)*sin(y)))\n",
        "display(1 + tan(x)**2)\n",
        "display(trigsimp(1 + tan(x)**2))\n",
        "display(cos(x+y))\n",
        "display(expand_trig(cos(x+y)))"
      ],
      "execution_count": 47,
      "outputs": [
        {
          "output_type": "display_data",
          "data": {
            "text/latex": "$\\displaystyle \\sin^{2}{\\left(x \\right)} + \\cos^{2}{\\left(x \\right)}$",
            "text/plain": [
              "sin(x)**2 + cos(x)**2"
            ]
          },
          "metadata": {
            "tags": []
          }
        },
        {
          "output_type": "display_data",
          "data": {
            "text/latex": "$\\displaystyle 1$",
            "text/plain": [
              "1"
            ]
          },
          "metadata": {
            "tags": []
          }
        },
        {
          "output_type": "display_data",
          "data": {
            "text/latex": "$\\displaystyle \\sin{\\left(x \\right)} \\cos{\\left(y \\right)} + \\sin{\\left(y \\right)} \\cos{\\left(x \\right)}$",
            "text/plain": [
              "sin(x)*cos(y) + sin(y)*cos(x)"
            ]
          },
          "metadata": {
            "tags": []
          }
        },
        {
          "output_type": "display_data",
          "data": {
            "text/latex": "$\\displaystyle \\sin{\\left(x + y \\right)}$",
            "text/plain": [
              "sin(x + y)"
            ]
          },
          "metadata": {
            "tags": []
          }
        },
        {
          "output_type": "display_data",
          "data": {
            "text/latex": "$\\displaystyle \\sin{\\left(x \\right)} \\sin{\\left(y \\right)} + \\cos{\\left(x \\right)} \\cos{\\left(y \\right)}$",
            "text/plain": [
              "sin(x)*sin(y) + cos(x)*cos(y)"
            ]
          },
          "metadata": {
            "tags": []
          }
        },
        {
          "output_type": "display_data",
          "data": {
            "text/latex": "$\\displaystyle \\cos{\\left(x - y \\right)}$",
            "text/plain": [
              "cos(x - y)"
            ]
          },
          "metadata": {
            "tags": []
          }
        },
        {
          "output_type": "display_data",
          "data": {
            "text/latex": "$\\displaystyle \\tan^{2}{\\left(x \\right)} + 1$",
            "text/plain": [
              "tan(x)**2 + 1"
            ]
          },
          "metadata": {
            "tags": []
          }
        },
        {
          "output_type": "display_data",
          "data": {
            "text/latex": "$\\displaystyle \\frac{1}{\\cos^{2}{\\left(x \\right)}}$",
            "text/plain": [
              "cos(x)**(-2)"
            ]
          },
          "metadata": {
            "tags": []
          }
        },
        {
          "output_type": "display_data",
          "data": {
            "text/latex": "$\\displaystyle \\cos{\\left(x + y \\right)}$",
            "text/plain": [
              "cos(x + y)"
            ]
          },
          "metadata": {
            "tags": []
          }
        },
        {
          "output_type": "display_data",
          "data": {
            "text/latex": "$\\displaystyle - \\sin{\\left(x \\right)} \\sin{\\left(y \\right)} + \\cos{\\left(x \\right)} \\cos{\\left(y \\right)}$",
            "text/plain": [
              "-sin(x)*sin(y) + cos(x)*cos(y)"
            ]
          },
          "metadata": {
            "tags": []
          }
        }
      ]
    },
    {
      "cell_type": "code",
      "metadata": {
        "colab": {
          "base_uri": "https://localhost:8080/",
          "height": 230
        },
        "id": "5-lw2jpod86A",
        "outputId": "97455ffc-2a4e-4ea0-bc88-329d8fa7575b"
      },
      "source": [
        "from sympy.abc import *\n",
        "from sympy import *\n",
        "display(log(x) + log(y))\n",
        "display(logcombine(log(x) + log(y)))\n",
        "display(logcombine(log(x) + log(y), force=True))\n",
        "display(log(x) - log(y))\n",
        "display(logcombine(log(x) - log(y)))\n",
        "display(logcombine(log(x) - log(y), force=True))\n",
        "display(x * log(y))\n",
        "display(logcombine(x * log(y)))\n",
        "display(logcombine(x * log(y), force=True))\n"
      ],
      "execution_count": 48,
      "outputs": [
        {
          "output_type": "display_data",
          "data": {
            "text/latex": "$\\displaystyle \\log{\\left(x \\right)} + \\log{\\left(y \\right)}$",
            "text/plain": [
              "log(x) + log(y)"
            ]
          },
          "metadata": {
            "tags": []
          }
        },
        {
          "output_type": "display_data",
          "data": {
            "text/latex": "$\\displaystyle \\log{\\left(x \\right)} + \\log{\\left(y \\right)}$",
            "text/plain": [
              "log(x) + log(y)"
            ]
          },
          "metadata": {
            "tags": []
          }
        },
        {
          "output_type": "display_data",
          "data": {
            "text/latex": "$\\displaystyle \\log{\\left(x y \\right)}$",
            "text/plain": [
              "log(x*y)"
            ]
          },
          "metadata": {
            "tags": []
          }
        },
        {
          "output_type": "display_data",
          "data": {
            "text/latex": "$\\displaystyle \\log{\\left(x \\right)} - \\log{\\left(y \\right)}$",
            "text/plain": [
              "log(x) - log(y)"
            ]
          },
          "metadata": {
            "tags": []
          }
        },
        {
          "output_type": "display_data",
          "data": {
            "text/latex": "$\\displaystyle \\log{\\left(x \\right)} - \\log{\\left(y \\right)}$",
            "text/plain": [
              "log(x) - log(y)"
            ]
          },
          "metadata": {
            "tags": []
          }
        },
        {
          "output_type": "display_data",
          "data": {
            "text/latex": "$\\displaystyle \\log{\\left(\\frac{x}{y} \\right)}$",
            "text/plain": [
              "log(x/y)"
            ]
          },
          "metadata": {
            "tags": []
          }
        },
        {
          "output_type": "display_data",
          "data": {
            "text/latex": "$\\displaystyle x \\log{\\left(y \\right)}$",
            "text/plain": [
              "x*log(y)"
            ]
          },
          "metadata": {
            "tags": []
          }
        },
        {
          "output_type": "display_data",
          "data": {
            "text/latex": "$\\displaystyle x \\log{\\left(y \\right)}$",
            "text/plain": [
              "x*log(y)"
            ]
          },
          "metadata": {
            "tags": []
          }
        },
        {
          "output_type": "display_data",
          "data": {
            "text/latex": "$\\displaystyle \\log{\\left(y^{x} \\right)}$",
            "text/plain": [
              "log(y**x)"
            ]
          },
          "metadata": {
            "tags": []
          }
        }
      ]
    },
    {
      "cell_type": "markdown",
      "metadata": {
        "id": "mQ_LQejAfF0e"
      },
      "source": [
        "メモ $\\quad$ 数式の変数に値を代入するには `subs()` を使う。\n",
        "\n",
        "数式を評価して数値 float にするには `evalf()`、`N()` を使う。"
      ]
    },
    {
      "cell_type": "code",
      "metadata": {
        "colab": {
          "base_uri": "https://localhost:8080/",
          "height": 178
        },
        "id": "p_TznxnletrO",
        "outputId": "a7241273-c247-4e25-b453-c738a4f5b62a"
      },
      "source": [
        "from sympy.abc import *\n",
        "from sympy import *\n",
        "a = x**2\n",
        "display(a)\n",
        "display(a.subs(x, 10))\n",
        "display(a.subs(x, 1.2345))\n",
        "display(a.subs(x, y + z))\n",
        "display(a.subs(x, sqrt(2)))\n",
        "b = a.subs(x, y + z)\n",
        "display(b)\n",
        "display(b.subs({y: sqrt(2), z: sqrt(3)}))\n"
      ],
      "execution_count": 50,
      "outputs": [
        {
          "output_type": "display_data",
          "data": {
            "text/latex": "$\\displaystyle x^{2}$",
            "text/plain": [
              "x**2"
            ]
          },
          "metadata": {
            "tags": []
          }
        },
        {
          "output_type": "display_data",
          "data": {
            "text/latex": "$\\displaystyle 100$",
            "text/plain": [
              "100"
            ]
          },
          "metadata": {
            "tags": []
          }
        },
        {
          "output_type": "display_data",
          "data": {
            "text/latex": "$\\displaystyle 1.52399025$",
            "text/plain": [
              "1.52399025000000"
            ]
          },
          "metadata": {
            "tags": []
          }
        },
        {
          "output_type": "display_data",
          "data": {
            "text/latex": "$\\displaystyle \\left(y + z\\right)^{2}$",
            "text/plain": [
              "(y + z)**2"
            ]
          },
          "metadata": {
            "tags": []
          }
        },
        {
          "output_type": "display_data",
          "data": {
            "text/latex": "$\\displaystyle 2$",
            "text/plain": [
              "2"
            ]
          },
          "metadata": {
            "tags": []
          }
        },
        {
          "output_type": "display_data",
          "data": {
            "text/latex": "$\\displaystyle \\left(y + z\\right)^{2}$",
            "text/plain": [
              "(y + z)**2"
            ]
          },
          "metadata": {
            "tags": []
          }
        },
        {
          "output_type": "display_data",
          "data": {
            "text/latex": "$\\displaystyle \\left(\\sqrt{2} + \\sqrt{3}\\right)^{2}$",
            "text/plain": [
              "(sqrt(2) + sqrt(3))**2"
            ]
          },
          "metadata": {
            "tags": []
          }
        }
      ]
    },
    {
      "cell_type": "code",
      "metadata": {
        "id": "TqOkQN5fnlDq",
        "outputId": "d719723c-a1fa-4e5a-9dca-b18f819d959a",
        "colab": {
          "base_uri": "https://localhost:8080/",
          "height": 139
        }
      },
      "source": [
        "from sympy.abc import *\n",
        "from sympy import *\n",
        "display(pi.evalf())\n",
        "display(N(pi, 50))\n",
        "display(sqrt(2).evalf(50))\n",
        "a = x**2\n",
        "b = a.subs(x, y + z)\n",
        "display(b)\n",
        "display(b.subs({y: sqrt(2), z: sqrt(3)}).evalf())\n",
        "display(b.subs({y: sqrt(2), z: sqrt(3)}).evalf(20))\n"
      ],
      "execution_count": 53,
      "outputs": [
        {
          "output_type": "display_data",
          "data": {
            "text/latex": "$\\displaystyle 3.14159265358979$",
            "text/plain": [
              "3.14159265358979"
            ]
          },
          "metadata": {
            "tags": []
          }
        },
        {
          "output_type": "display_data",
          "data": {
            "text/latex": "$\\displaystyle 3.1415926535897932384626433832795028841971693993751$",
            "text/plain": [
              "3.1415926535897932384626433832795028841971693993751"
            ]
          },
          "metadata": {
            "tags": []
          }
        },
        {
          "output_type": "display_data",
          "data": {
            "text/latex": "$\\displaystyle 1.4142135623730950488016887242096980785696718753769$",
            "text/plain": [
              "1.4142135623730950488016887242096980785696718753769"
            ]
          },
          "metadata": {
            "tags": []
          }
        },
        {
          "output_type": "display_data",
          "data": {
            "text/latex": "$\\displaystyle \\left(y + z\\right)^{2}$",
            "text/plain": [
              "(y + z)**2"
            ]
          },
          "metadata": {
            "tags": []
          }
        },
        {
          "output_type": "display_data",
          "data": {
            "text/latex": "$\\displaystyle 9.89897948556636$",
            "text/plain": [
              "9.89897948556636"
            ]
          },
          "metadata": {
            "tags": []
          }
        },
        {
          "output_type": "display_data",
          "data": {
            "text/latex": "$\\displaystyle 9.8989794855663561964$",
            "text/plain": [
              "9.8989794855663561964"
            ]
          },
          "metadata": {
            "tags": []
          }
        }
      ]
    },
    {
      "cell_type": "markdown",
      "metadata": {
        "id": "hxKIJt9UWBhM"
      },
      "source": [
        "# いまここ"
      ]
    },
    {
      "cell_type": "markdown",
      "metadata": {
        "id": "4UNh4H3UoBJA"
      },
      "source": [
        "# 多項式 polynomial\n",
        "* 多項式の除算で商と余りを求めるには関数 `div()` を使う\n",
        "* 有理式 (多項式の分数) の簡約化には関数 `cansel()` がある\n",
        "* 関数 `apart()` は有理式を「部分分数」に分解する\n",
        "* 部分分数とは、分母が因数分解されている有理式をいくつかの有理式に分解すること\n",
        "* 次の条件を満たすとき、有理式 $g(x) / f(x)$ は簡単な形に分解できる\n",
        "  * f(x) は 1 次式の積に因数分解できるような整式であること\n",
        "  * g(x) は f(x) より次数が少ない整式であること\n",
        "\n",
        "  ``` {.item}\n",
        "  g(x) / f(x) = b1 / (x - a1) + b2 / (x - a2) + ... + bn / (x - an)\n",
        "  ```\n",
        "\n",
        "* 関数 `collect()` は指定した変数で式をまとめる\n",
        "* そのあと、メソッド `coeff()` で指定した次数の係数を取り出すことができる\n"
      ]
    },
    {
      "cell_type": "code",
      "metadata": {
        "id": "h8vGKstUouC8"
      },
      "source": [
        "\n",
        "<!-- -->\n",
        "\n",
        "    >>> div(x**3 + x**2 - 4*x + 1, x - 2)\n",
        "    ⎛ 2             ⎞\n",
        "    ⎝x  + 3⋅x + 2, 5⎠\n",
        "\n",
        "    >>> div(x**3 - x**2 - 4*x + 4, x - 2)\n",
        "    ⎛ 2           ⎞\n",
        "    ⎝x  + x - 2, 0⎠\n",
        "\n",
        "    >>> (x**3 - x**2 - 4*x + 4) / (x - 2)\n",
        "     3    2\n",
        "    x  - x  - 4⋅x + 4\n",
        "    ─────────────────\n",
        "          x - 2\n",
        "\n",
        "    >>> cancel((x**3 - x**2 - 4*x + 4) / (x - 2))\n",
        "     2\n",
        "    x  + x - 2\n",
        "\n",
        "    >>> cancel((x**2 + 2*x + 1) / (x**2 + x))\n",
        "    x + 1\n",
        "    ─────\n",
        "      x\n",
        "\n",
        "    >>> 1/(x - 1) + 1/(x - 2)\n",
        "      1       1\n",
        "    ───── + ─────\n",
        "    x - 1   x - 2\n",
        "\n",
        "    >>> cancel(1/(x - 1) + 1/(x - 2))\n",
        "      2⋅x - 3\n",
        "    ──────────────\n",
        "     2\n",
        "    x  - 3⋅x + 2\n",
        "\n",
        "    >>> apart((2*x - 3)/(x**2 - 3*x + 2))\n",
        "      1       1\n",
        "    ───── + ─────\n",
        "    x - 1   x - 2\n",
        "\n",
        "    >>> apart((6*x**2 + x - 17) / (x**3 - 7*x -6))\n",
        "      1       3       2\n",
        "    ───── + ───── + ─────\n",
        "    x + 2   x + 1   x - 3\n",
        "\n",
        "    >>> apart((x + 1) / (x**4 + x**2))\n",
        "      x + 1    1     1\n",
        "    - ───── + ─── + ────\n",
        "       2       x      2\n",
        "      x  + 1         x\n",
        "\n",
        "    >>> x**2 + y*x + z*x + y*z\n",
        "     2\n",
        "    x  + x⋅y + x⋅z + y⋅z\n",
        "    >>> collect(x**2 + y*x + z*x + y*z, x)\n",
        "     2\n",
        "    x  + x⋅(y + z) + y⋅z\n",
        "    >>> collect(x**2 + y*x + z*x + y*z, x).coeff(x, 2)\n",
        "    1\n",
        "    >>> collect(x**2 + y*x + z*x + y*z, x).coeff(x, 1)\n",
        "    y + z\n",
        "    >>> collect(x**2 + y*x + z*x + y*z, x).coeff(x, 0)\n",
        "    y⋅z\n",
        "\n",
        "方程式の求解には関数 solveset(expr, var) を使う\n",
        "\n",
        "数式 expr が 0 になる変数 var の値を求める\n",
        "\n",
        "キーワード引数 domain で領域を指定できる (Complexes が default)\n",
        "\n",
        "たとえば、x^2^ + 1 = 0 の解は I, -I になるが、実数では存在しない\n",
        "\n",
        "解が存在しない場合は空集合を表す EmptySet() を返す\n",
        "\n",
        "sympy の集合 (Set) は python の set とは違う (あとで説明する)\n",
        "\n",
        "sympy には特別な集合を表すクラスがあらかじめ定義されている\n",
        "\n",
        "*   EmptySet, 空集合\n",
        "*   UniversalSet, 全体集合\n",
        "*   Naturals, 自然数全体の集合\n",
        "*   Naturals0, 零と自然数全体の集合\n",
        "*   Integers, 整数全体の集合\n",
        "*   Reals, 実数全体の集合\n",
        "*   Complexes, 複素数全体の集合\n",
        "*   これらのクラスのオブジェクト (シングルトン) は sympy.S\n",
        "    の同名の変数に格納されている\n",
        "\n",
        "関数 roots(expr, var) は解とその個数を辞書に格納して返す\n",
        "\n",
        "重根があるときは便利\n",
        "\n",
        "    >>> solveset(x**2 - 1, x)\n",
        "    {-1, 1}\n",
        "    >>> solveset(x**2 + 1, x)\n",
        "    {-ⅈ, ⅈ}\n",
        "\n",
        "    >>> S.UniversalSet\n",
        "    UniversalSet()\n",
        "    >>> S.EmptySet\n",
        "    ∅\n",
        "    >>> S.Complexes\n",
        "    ℂ\n",
        "    >>> S.Reals\n",
        "    ℝ\n",
        "    >>> S.Integers\n",
        "    ℤ\n",
        "    >>> S.Naturals\n",
        "    ℕ\n",
        "\n",
        "    >>> solveset(x**2 + 1, x, domain=Reals)\n",
        "    ∅\n",
        "    >>> var('a b c')\n",
        "    (a, b, c)\n",
        "    >>> solveset(a*x**2 + b*x + c, x)\n",
        "    ⎧           _____________              _____________ ⎫\n",
        "    ⎪          ╱           2              ╱           2  ⎪\n",
        "    ⎨   b    ╲╱  -4⋅a⋅c + b        b    ╲╱  -4⋅a⋅c + b   ⎬\n",
        "    ⎪- ──── - ────────────────, - ──── + ────────────────⎪\n",
        "    ⎩  2⋅a         2⋅a            2⋅a         2⋅a        ⎭\n",
        "\n",
        "    >>> solveset(x**3, x)\n",
        "    {0}\n",
        "    >>> roots(x**3, x)\n",
        "    {0: 3}\n",
        "    >>> solveset(x**3 - 4*x**2 + 5*x - 2, x)\n",
        "    {1, 2}\n",
        "    >>> roots(x**3 - 4*x**2 + 5*x - 2, x)\n",
        "    {1: 2, 2: 1}\n",
        "\n",
        "連立一次方程式は関数 linsolve(\\[expr1, expr2, \\...\\], \\[var1, var2,\n",
        "\\...\\]) を使って解く\n",
        "\n",
        "式と変数はタプルに格納して渡してもよい\n",
        "\n",
        "鶴亀算\n",
        "\n",
        "1.  鶴と亀、合わせて 100 匹いる。足の合計が 272\n",
        "    本のとき、鶴と亀はそれぞれ何匹ずついるか。\n",
        "2.  鶴と亀とトンボが合わせて 10 匹いる。足の合計が 38 本で羽の合計が 14\n",
        "    枚であるとき、鶴と亀とトンボはそれぞれ何匹ずついるか。(トンボの足は\n",
        "    6 本で羽は 4 枚)\n",
        "3.  鶏と犬とタコ、合わせて 24 匹が台所にいる。足の合計が 102\n",
        "    本のとき、鶏、犬、タコはそれぞれ何匹ずついるか。\n",
        "\n",
        "解答\n",
        "\n",
        "1.  x + y = 100, 2x + 4y = 272 を解く\n",
        "2.  x + y + z = 10, 2x + 4y + 6z = 38, 2x + 4z = 14 を解く\n",
        "3.  x + y + z= 24, 2x + 4y + 8z = 102 を解く\n",
        "\n",
        "solveset() や linsolve() の他にも、方程式の解を求める関数 solve() がある\n",
        "\n",
        "#### ●微積分 {#abc03}\n",
        "\n",
        "微分\n",
        "\n",
        "*   微分は関数 diff(expr, var, \\[n\\]) で行う\n",
        "*   引数 n に数値を指定すると高階微分になる\n",
        "*   または、diff(expr, var, var, \\...) のように変数 var\n",
        "    の後に同じ変数を指定すると高階微分になる\n",
        "*   多変数関数の微分 (偏微分) も diff(expr, var1, var2, \\...) で OK\n",
        "*   Derivative() は diff()\n",
        "    と引数が同じで、評価前の状態を保持するオブジェクトを返す\n",
        "*   メソッド doit() で微分を実行する\n",
        "\n",
        "<!-- -->\n",
        "\n",
        "    >>> var('n x y z')\n",
        "    (n, x, y, z)\n",
        "    >>> diff(x**2, x)\n",
        "    2⋅x\n",
        "    >>> diff(x**2, x, 2)\n",
        "    2\n",
        "    >>> diff(x**2, x, 3)\n",
        "    0\n",
        "    >>> diff(x**n, x)\n",
        "       n\n",
        "    n⋅x\n",
        "    ────\n",
        "     x\n",
        "\n",
        "    >>> diff(x**n, x, 2)\n",
        "       n\n",
        "    n⋅x ⋅(n - 1)\n",
        "    ────────────\n",
        "          2\n",
        "         x\n",
        "\n",
        "    >>> diff(log(x), x)\n",
        "    1\n",
        "    ─\n",
        "    x\n",
        "\n",
        "    >>> diff(exp(x), x)\n",
        "     x\n",
        "    ℯ\n",
        "    >>> diff(sin(x), x)\n",
        "    cos(x)\n",
        "    >>> diff(cos(x), x)\n",
        "    -sin(x)\n",
        "    >>> diff(tan(x), x)\n",
        "       2\n",
        "    tan (x) + 1\n",
        "\n",
        "    >>> diff(x**3*y**3*z**3, x)\n",
        "       2  3  3\n",
        "    3⋅x ⋅y ⋅z\n",
        "    >>> diff(x**3*y**3*z**3, x, x)\n",
        "         3  3\n",
        "    6⋅x⋅y ⋅z\n",
        "    >>> diff(x**3*y**3*z**3, x, x, y, y, z, z)\n",
        "    216⋅x⋅y⋅z\n",
        "    >>> diff(x**3*y**3*z**3, x, 2, y, 2, z, 2)\n",
        "    216⋅x⋅y⋅z\n",
        "\n",
        "    >>> Derivative((x**3 * y**3 * z**3), x, y, z)\n",
        "        3\n",
        "       ∂       ⎛ 3  3  3⎞\n",
        "    ───────────⎝x ⋅y ⋅z ⎠\n",
        "    ∂z ∂y ∂x\n",
        "    >>> Derivative((x**3 * y**3 * z**3), x, y, z).doit()\n",
        "        2  2  2\n",
        "    27⋅x ⋅y ⋅z\n",
        "    >>> Derivative((x**3 * y**3 * z**3), x, 2, y, 2, z, 2)\n",
        "          6\n",
        "         ∂     ⎛ 3  3  3⎞\n",
        "    ───────────⎝x ⋅y ⋅z ⎠\n",
        "      2   2   2\n",
        "    ∂z  ∂y  ∂x\n",
        "    >>> Derivative((x**3 * y**3 * z**3), x, 2, y, 2, z, 2).doit()\n",
        "    216⋅x⋅y⋅z\n",
        "\n",
        "積分\n",
        "\n",
        "*   積分は関数 integrate(expr, var) で行う (積分定数は出力されない)\n",
        "*   定積分も integrate(expr, (var, low, high)) で OK\n",
        "*   二重積分も integrate(expr, (var1, l1, h1), (var2, l2, h2), \\...) で\n",
        "    OK\n",
        "*   Integral() は integrate()\n",
        "    と引数が同じで、評価前の状態を保持するオブジェクトを返す\n",
        "*   メソッド doit() で微分を実行する\n",
        "*   積分を評価できないときは Integral() を返す\n",
        "\n",
        "<!-- -->\n",
        "\n",
        "    >>> integrate(x, x)\n",
        "     2\n",
        "    x\n",
        "    ──\n",
        "    2\n",
        "    >>> integrate(x**2, x)\n",
        "     3\n",
        "    x\n",
        "    ──\n",
        "    3\n",
        "    >>> integrate(x**3, x)\n",
        "     4\n",
        "    x\n",
        "    ──\n",
        "    4\n",
        "    >>> integrate(x, (x, 0, 1))\n",
        "    1/2\n",
        "    >>> integrate(x**2, (x, 0, 1))\n",
        "    1/3\n",
        "    >>> integrate(x**3, (x, 0, 1))\n",
        "    1/4\n",
        "    >>> integrate(exp(x), x)\n",
        "     x\n",
        "    ℯ\n",
        "    >>> integrate(exp(-x), x)\n",
        "      -x\n",
        "    -ℯ\n",
        "    >>> integrate(exp(-x), (x, 0, oo))\n",
        "    1\n",
        "    >>> integrate(1/x, x)\n",
        "    log(x)\n",
        "    >>> integrate(log(x), x)\n",
        "    x⋅log(x) - x\n",
        "    >>> integrate(sin(x), x)\n",
        "    -cos(x)\n",
        "    >>> integrate(cos(x), x)\n",
        "    sin(x)\n",
        "    >>> integrate(tan(x), x)\n",
        "    -log(cos(x))\n",
        "    >>> integrate(4/(1 + x**2), x)\n",
        "    4⋅atan(x)\n",
        "    >>> integrate(4/(1 + x**2), (x, 0, 1))\n",
        "    π\n",
        "\n",
        "\n",
        "    >>> Integral(x*y**2, x, y)\n",
        "    ⌠ ⌠\n",
        "    ⎮ ⎮    2\n",
        "    ⎮ ⎮ x⋅y  dx dy\n",
        "    ⌡ ⌡\n",
        "    >>> Integral(x*y**2, x, y).doit()\n",
        "     2  3\n",
        "    x ⋅y\n",
        "    ─────\n",
        "      6\n",
        "    >>> integrate(x*y**2, (x, 0, 1), (y, 0, 1))\n",
        "    1/6\n",
        "    >>> integrate(x*y**2, (x, 1 - y, 1), (y, 0, 1))\n",
        "    3/20\n",
        "\n",
        "    >>> integrate(x**x, x)\n",
        "    ⌠\n",
        "    ⎮  x\n",
        "    ⎮ x  dx\n",
        "    ⌡\n",
        "\n",
        "極限\n",
        "\n",
        "*   極限は関数 limit(function, var, point) で計算する\n",
        "*   f(x) の x -\\> 0 の極限は limit(f(x), x, 0) とする\n",
        "*   極限の方向は第 4 引数で指定する (\\;+\\; or \\;-\\;)\n",
        "\n",
        "<!-- -->\n",
        "\n",
        "    >>> limit(x, x, oo)\n",
        "    ∞\n",
        "    >>> limit(1/x, x, oo)\n",
        "    0\n",
        "    >>> limit(1/x, x, 0, '+')\n",
        "    ∞\n",
        "    >>> limit(1/x, x, 0, '-')\n",
        "    -∞\n",
        "    >>> limit(x/(x + 1), x, oo)\n",
        "    1\n",
        "    >>> limit(sin(x)/x, x, 0)\n",
        "    1\n",
        "    >>> limit(sqrt(x**2+3*x+4) - x, x, oo)\n",
        "    3/2\n",
        "\n",
        "テーラー (Taylor) 展開\n",
        "\n",
        "*   メソッド series() は関数 f(x) をテーラー展開する\n",
        "*   x0 を省略すると原点 (0) になる\n",
        "*   n は最高次数を指定する\n",
        "*   オーダー記号 O() はメソッド removeO() で削除する\n",
        "\n",
        "<!-- -->\n",
        "\n",
        "    >>> cos(x).series(x)\n",
        "         2    4\n",
        "        x    x     ⎛ 6⎞\n",
        "    1 - ── + ── + O⎝x ⎠\n",
        "        2    24\n",
        "\n",
        "    >>> sin(x).series(x)\n",
        "         3     5\n",
        "        x     x      ⎛ 6⎞\n",
        "    x - ── + ──── + O⎝x ⎠\n",
        "        6    120\n",
        "\n",
        "    >>> exp(x).series(x)\n",
        "             2    3    4     5\n",
        "            x    x    x     x      ⎛ 6⎞\n",
        "    1 + x + ── + ── + ── + ──── + O⎝x ⎠\n",
        "            2    6    24   120\n",
        "\n",
        "    >>> exp(x).series(x, 0, 10)\n",
        "             2    3    4     5      6      7       8        9\n",
        "            x    x    x     x      x      x       x        x       ⎛ 10⎞\n",
        "    1 + x + ── + ── + ── + ──── + ──── + ───── + ───── + ────── + O⎝x  ⎠\n",
        "            2    6    24   120    720    5040    40320   362880\n",
        "\n",
        "    >>> exp(x).series(x).removeO()\n",
        "      5     4    3    2\n",
        "     x     x    x    x\n",
        "    ──── + ── + ── + ─ + x + 1\n",
        "    120    24   6    2\n",
        "\n",
        "#### ●集合 {#abc04}\n",
        "\n",
        "python には集合を表すデータ型 set があるが、sympy ではクラス Set を使う\n",
        "\n",
        "sympy の Set は immutable なデータ構造\n",
        "\n",
        "Set は基本クラスで、実際に使用するのはサブクラス\n",
        "\n",
        "ここでは集合の基本的な使い方を簡単に説明する\n",
        "\n",
        "詳細はリファレンス\n",
        "[Sets](http://docs.sympy.org/latest/modules/sets.html) を参照\n",
        "\n",
        "基本的な演算子とメソッド\n",
        "\n",
        "和集合, +, \\|, union\n",
        "\n",
        "積集合, &, intersect, intersection\n",
        "\n",
        "差集合, -, complement (a - b は b.complement(a) と同じ)\n",
        "\n",
        "対称差, \\^, symmetric\\_difference ((a - b) \\| (b - a) と同じ)\n",
        "\n",
        "直積集合, \\*, (a \\* b は ProductSet(a, b) と同じ)\n",
        "\n",
        "*   a \\*\\* n は a \\* a \\* \\... \\* a (n 個の a の直積集合)\n",
        "\n",
        "べき集合, powerset\n",
        "\n",
        "部分集合の判定, issubset, is\\_subset, issuperset, is\\_superset\n",
        "\n",
        "真部分集合の判定, is\\_proper\\_subset, is\\_proper\\_superset\n",
        "\n",
        "積集合 (共通集合) の有無, isdisjoint, is\\_disjoint\n",
        "\n",
        "要素 x は集合 a に含まれているか, x.contains(a), x in a\n",
        "\n",
        "EmptySet は空集合を表すクラス (シングルトンは sympy.S.EmptySet)\n",
        "\n",
        "*   属性 is\\_EmptySet は True (他のクラスのオブジェクトは None)\n",
        "*   属性 is\\_iterable は False\n",
        "*   関数 len() の値は 0\n",
        "\n",
        "UniversalSet は全体集合を表すクラス (シングルトンは\n",
        "sympy.S.UniversalSet)\n",
        "\n",
        "*   属性 is\\_UniversalSet は True (他のクラスのオブジェクトは None)\n",
        "*   属性 is\\_iterable は False\n",
        "*   関数 len() は適用不可\n",
        "\n",
        "<!-- -->\n",
        "\n",
        "    >>> from sympy import *\n",
        "    >>> init_printing()\n",
        "    >>> S.EmptySet\n",
        "    ∅\n",
        "    >>> S.EmptySet.is_EmptySet\n",
        "    True\n",
        "    >>> S.EmptySet.is_iterable\n",
        "    False\n",
        "    >>> len(S.EmptySet)\n",
        "    0\n",
        "    >>> S.UniversalSet\n",
        "    UniversalSet()\n",
        "    >>> S.UniversalSet.is_UniversalSet\n",
        "    True\n",
        "    >>> S.UniversalSet.is_iterable\n",
        "    False\n",
        "    >>> S.UniversalSet | S.EmptySet\n",
        "    UniversalSet()\n",
        "    >>> S.UniversalSet & S.EmptySet\n",
        "    ∅\n",
        "\n",
        "Interval は実数区間を表すクラス\n",
        "\n",
        "``` {.item}\n",
        "Interval(s, e, left_open=False, right_open=False) => [s, e]\n",
        "```\n",
        "\n",
        "返り値は Interval\n",
        "のオブジェクトだが、表示には角カッコや丸カッコが用いられる\n",
        "\n",
        "キーワード引数 xxxx\\_open で xxxx 側の open / close を指定する\n",
        "\n",
        "*   (s, e), s \\< x \\< e\n",
        "*   \\[s, e), s \\<= x \\< e\n",
        "*   (s, e\\], s \\< x \\<= e\n",
        "*   \\[s, e\\], s \\<= x \\<= e\n",
        "\n",
        "または次のクラスメソッドを使う\n",
        "\n",
        "*   Ropen(s, e) =\\> \\[s, e)\n",
        "*   Lopen(s, e) =\\> (s, e\\]\n",
        "*   open(s, e) =\\> (s, e)\n",
        "\n",
        "端点 s, e の open / close はメソッド left\\_open, right\\_open\n",
        "で確認できる\n",
        "\n",
        "端点 s, e には oo, -oo を指定できる\n",
        "\n",
        "属性 is\\_iterable は False\n",
        "\n",
        "関数 len() は適用不可\n",
        "\n",
        "    >>> a = Interval(1, 10)\n",
        "    >>> a\n",
        "    [1, 10]\n",
        "    >>> a.is_iterable\n",
        "    False\n",
        "    >>> 1 in a\n",
        "    True\n",
        "    >>> 0 in a\n",
        "    False\n",
        "    >>> 10 in a\n",
        "    True\n",
        "    >>> 11 in a\n",
        "    False\n",
        "    >>> b = Interval(5, 15)\n",
        "    >>> b\n",
        "    [5, 15]\n",
        "    >>> a & b\n",
        "    [5, 10]\n",
        "    >>> a | b\n",
        "    [1, 15]\n",
        "    >>> a - b\n",
        "    [1, 5)\n",
        "    >>> b - a\n",
        "    (10, 15]\n",
        "    >>> a ^ b\n",
        "    [1, 5) ∪ (10, 15]\n",
        "    >>> 5 in a ^ b\n",
        "    False\n",
        "    >>> 1 in a ^ b\n",
        "    True\n",
        "    >>> 10 in a ^ b\n",
        "    False\n",
        "    >>> 15 in a ^ b\n",
        "    True\n",
        "\n",
        "FiniteSet は有限個の要素を持つ集合を表すクラス\n",
        "\n",
        "``` {.item}\n",
        "FiniteSet(item1, item2, ..., itemN) => {item1, item2., ..., itemN}\n",
        "```\n",
        "\n",
        "*   python の frozenset (immutable な set) とほぼ同じ\n",
        "*   返り値は FiniteSet のオブジェクトだが、表示には { \\... }\n",
        "    が用いられる\n",
        "*   属性 is\\_iterable は True (イテレータが利用できる)\n",
        "*   関数 len() は要素数を返す\n",
        "\n",
        "<!-- -->\n",
        "\n",
        "    >>> a = FiniteSet(1, 2, 3, 4)\n",
        "    >>> a\n",
        "    {1, 2, 3, 4}\n",
        "    >>> a.is_iterable\n",
        "    True\n",
        "    >>> for x in a: print(x)\n",
        "    ...\n",
        "    1\n",
        "    2\n",
        "    3\n",
        "    4\n",
        "    >>> len(a)\n",
        "    4\n",
        "    >>> for x in range(0, 6):\n",
        "    ...     print(x, x in a)\n",
        "    ...\n",
        "    0 False\n",
        "    1 True\n",
        "    2 True\n",
        "    3 True\n",
        "    4 True\n",
        "    5 False\n",
        "    >>> b = FiniteSet(3, 4, 5, 6)\n",
        "    >>> b\n",
        "    {3, 4, 5, 6}\n",
        "    >>> a | b\n",
        "    {1, 2, 3, 4, 5, 6}\n",
        "    >>> a & b\n",
        "    {3, 4}\n",
        "    >>> a - b\n",
        "    {1, 2}\n",
        "    >>> b - a\n",
        "    {5, 6}\n",
        "    >>> a ^ b\n",
        "    {1, 2, 5, 6}\n",
        "\n",
        "集合演算を表すクラス\n",
        "\n",
        "*   Union, 和集合\n",
        "*   Intersection. 積集合\n",
        "*   Complement, 差集合\n",
        "*   SymmetricDifference, 対称差\n",
        "*   ProductSet, 直積集合\n",
        "\n",
        "<!-- -->\n",
        "\n",
        "    >>> c = Interval(5, 8)\n",
        "    >>> c\n",
        "    [5, 8]\n",
        "    >>> a | c\n",
        "    {1, 2, 3, 4} ∪ [5, 8]\n",
        "    >>> b | c\n",
        "    {3, 4} ∪ [5, 8]\n",
        "    >>> a & c\n",
        "    ∅\n",
        "    >>> b & c\n",
        "    {5, 6}\n",
        "    >>> a - c\n",
        "    {1, 2, 3, 4}\n",
        "    >>> c - a\n",
        "    [5, 8]\n",
        "    >>> b - c\n",
        "    {3, 4}\n",
        "    >>> c - b\n",
        "    (5, 6) ∪ (6, 8]\n",
        "    >>> a ^ c\n",
        "    {1, 2, 3, 4} ∪ [5, 8]\n",
        "    >>> b ^ c\n",
        "    {3, 4} ∪ (5, 6) ∪ (6, 8]\n",
        "    >>> a * b\n",
        "    {1, 2, 3, 4} × {3, 4, 5, 6}\n",
        "    >>> for x in a * b: print(x)\n",
        "    ...\n",
        "    (1, 3)\n",
        "    (1, 4)\n",
        "    (1, 5)\n",
        "    (1, 6)\n",
        "    (2, 3)\n",
        "    (2, 4)\n",
        "    (2, 5)\n",
        "    (2, 6)\n",
        "    (3, 3)\n",
        "    (3, 4)\n",
        "    (3, 5)\n",
        "    (3, 6)\n",
        "    (4, 3)\n",
        "    (4, 4)\n",
        "    (4, 5)\n",
        "    (4, 6)\n",
        "    >>> a * c\n",
        "    {1, 2, 3, 4} × [5, 8]\n",
        "    >>> (1, 5.5) in a * c\n",
        "    True\n",
        "    >>> (4, 8.1) in a * c\n",
        "    False\n",
        "    >>> (2.5, 6) in a * c\n",
        "    False\n",
        "\n",
        "特別な集合を表すクラス\n",
        "\n",
        "Naturals, 自然数全体の集合\n",
        "\n",
        "Naturals0, 零と自然数全体の集合\n",
        "\n",
        "Integers, 整数全体の集合\n",
        "\n",
        "Reals, 実数全体の集合\n",
        "\n",
        "Complexes, 複素数全体の集合\n",
        "\n",
        "Range, python の range() とよく似た集合\n",
        "\n",
        "*   インデックスによるアクセスが可能\n",
        "*   oo や -oo の指定もできる\n",
        "\n",
        "ImageSet, 写像\n",
        "\n",
        "*   ImageSet(func, xs) は集合 xs の要素に関数 func を適用した集合を表す\n",
        "*   第 1 引数 func には sympy の Lambda() を渡す\n",
        "*   Lambda() は python の lambda 式とよく似ている\n",
        "*   lambda 式とは違い、Lambda() の第 1\n",
        "    引数に渡す変数はシンボルであること\n",
        "\n",
        "この他にもいろいろある\n",
        "\n",
        "    >>> c & S.Naturals\n",
        "    {5, 6, 7, 8}\n",
        "    >>> c | S.Naturals\n",
        "    ℕ ∪ [5, 8]\n",
        "    >>> Reals - c\n",
        "    (-∞, 5) ∪ (8, ∞)\n",
        "    >>> Integers - c\n",
        "    ℤ \\ [5, 8]\n",
        "    >>> 5 in Integers - c\n",
        "    False\n",
        "    >>> 5.5 in Integers - c\n",
        "    False\n",
        "    >>> 6 in Integers - c\n",
        "    False\n",
        "    >>> 7 in Integers - c\n",
        "    False\n",
        "    >>> 8 in Integers - c\n",
        "    False\n",
        "    >>> 9 in Integers - c\n",
        "    True\n",
        "    >>> Range(1, 5)\n",
        "    {1, 2, 3, 4}\n",
        "    >>> Range(1, 8, 2)\n",
        "    {1, 3, 5, 7}\n",
        "    >>> d = Range(1, oo)\n",
        "    >>> d\n",
        "    {1, 2, …, ∞}\n",
        "    >>> d[0]\n",
        "    1\n",
        "    >>> d[1]\n",
        "    2\n",
        "    >>> d[100]\n",
        "    101\n",
        "    >>> d[-1]\n",
        "    ∞\n",
        "\n",
        "    >>> var('x y z')\n",
        "    (x, y, z)\n",
        "    >>> a = ImageSet(Lambda(x, x * x), S.Naturals0)\n",
        "    >>> a\n",
        "    ImageSet(Lambda(x, x**2), Naturals0)\n",
        "    >>> 100 in a\n",
        "    True\n",
        "    >>> 200 in a\n",
        "    False\n",
        "    >>> 400 in a\n",
        "    True\n",
        "    >>> b = ImageSet(Lambda(x, x * x), Range(10))\n",
        "    >>> b\n",
        "    ImageSet(Lambda(x, x**2), Range(0, 10, 1))\n",
        "    >>> for n in b: print(n)\n",
        "\n",
        "\n",
        "------------------------------------------------------------------------\n",
        "\n",
        "::: {.ce}\n",
        "**Copyright (C) 2018 Makoto Hiroi\\\n",
        "All rights reserved.**\n",
        ":::\n",
        "\n",
        "::: {.small}\n",
        "\n",
        "------------------------------------------------------------------------\n",
        "\n",
        "\\[ [Home](../index.html) \\| [Light](index.html) \\|\n",
        "[python3](python3.html#sympy_abc) \\]\n",
        ":::\n"
      ],
      "execution_count": null,
      "outputs": []
    },
    {
      "cell_type": "markdown",
      "metadata": {
        "id": "be10Gx9hh9o0"
      },
      "source": [
        "M.Hiroi's Home Page\n",
        "Python3 Programming\n",
        "お気楽 SymPy プログラミング超入門\n",
        "[ Home | Light | Python3 ]\n",
        "●Hello, SymPy!!\n",
        "SymPy は Python で数式処理システムのような記号計算を行うためのライブラリ\n",
        "記号計算とは、数学で数式を計算するのと同様な計算を行うこと\n",
        "たとえば、f(x) = x2 の微分は f'(x) = 2x になるが、SymPy を使うと同じように計算できる\n",
        ">>> import sympy as sy\n",
        ">>> x = Symbol('x')\n",
        ">>> f = x**2 + 2*x + 1\n",
        ">>> f\n",
        "x**2 + 2*x + 1\n",
        ">>> g = f.diff()\n",
        ">>> g\n",
        "2*x + 2\n",
        "SymPy には多くの機能が実装されている\n",
        "本ページでは基本的な使い方を簡単に説明する\n",
        "SymPy のインストール\n",
        "Windows で python3 がインストールされている場合、pip を使うと簡単\n",
        "シェル上でコマンド pip install sympy を実行する\n",
        "mpmath-1.0.0 と sympy-1.2 がインストールされる\n",
        "mpmath は任意精度の浮動小数点数を扱うライブラリ\n",
        "UNIX 系 OS で python3 の場合は pip3 を使う\n",
        "Ubuntu 系 OS の場合、pip3 は sudo apt install python3-pip でインストールできる\n",
        "あとは pip3 install sympy を実行するだけ\n",
        "Cygwin の場合、Python のカテゴリーをすべてインストールするのが簡単 (pip3 もインストールされる)\n",
        "matplotlib がインストールされている場合、プロットは matplotlib を使って行われる\n",
        ">>> f = x**2 - 1\n",
        ">>> plotting.plot(f, (x, -2, 2))\n",
        "<sympy.plotting.plot.Plot object at 0x0000020B1F37D588>\n",
        "\n",
        "Matplotlib のインストール\n",
        "Windows の場合、pip install matplotlib で必要なパッケージをすべてインストールできる\n",
        "UNIX 系 OS の場合は pip3 を使ってインストールする\n",
        "ただし、Python3 / Tkinter がインストールされていないと動作しない\n",
        "Ubuntu 系 OS ではコマンド sudo apt install python3-tkinter で Tkinter をインストールできる\n",
        "Cygwin の場合、基本的には pip3 でインストールできる (必要なものが揃っているならば)\n",
        "実際にプロットするには X サーバーが必要\n",
        "X11 カテゴリーをすべてインストールするのが簡単\n",
        "Windows 10 の場合、スタートボタン -> Cygwin-X -> XWin Server を実行する\n",
        "または Cygwin Terminal でコマンド run xwin -multiwindow を実行する\n",
        "Cygwin Terminal で GUI アプリケーションを実行する場合、環境変数 DISPLAY の設定が必要\n",
        "$ export DISPLAY=:0.0\n",
        "bash の設定ファイル .bashrc に書き込んでおくとよい\n",
        "参考 URL\n",
        "SymPy, (本家)\n",
        "Welcome to SymPy’s documentation!, (本家)\n",
        "3.2. Sympy : Python での代数計算, (Scipy Lecture Notes)\n",
        "Pythonで数学の勉強：代数基礎(数式と関数), (@tibigame さん)\n",
        "SymPy - Wikipedia\n",
        "●SymPy の基本\n",
        "数\n",
        "SymPy の数は整数 (多倍長整数)、有理数、浮動小数点数 (任意精度)、複素数\n",
        "整数は Integer() で、浮動小数点数 Float() で生成できるが、Python の整数と浮動小数点数を使うこともできる\n",
        "Python の整数と浮動小数点数は自動的に SymPy のそれに変換される\n",
        "有理数は Rational(p, q), p: 分子, q: 分母, p, q は多倍長整数\n",
        "Python3 の場合、演算子 / は整数同士の割り算\n",
        "SymPy で a, b が整数 (Integer) の場合、a / b は有理数になる\n",
        "SymPy の虚数単位は I になる\n",
        "Python には複素数を表すデータ型 (complex) があるが SymPy にはない\n",
        "SymPy は虚数単位を含む数式を複素数として扱う\n",
        "基本的な演算は Python と同じ (+, -, *, /, //, %, **)\n",
        "定数と数学関数\n",
        "SymPy では特殊な定数 (E, pi, oo) や数学関数を数式として扱う\n",
        "E : 自然対数の底 (ネイピア数)\n",
        "pi : 円周率\n",
        "oo : 無限大\n",
        ">>> import sympy as sy\n",
        ">>> Integer(12345)\n",
        "12345\n",
        ">>> Integer('12345')\n",
        "12345\n",
        ">>> type(Integer('12345'))\n",
        "<class 'sympy.core.numbers.Integer'>\n",
        "\n",
        ">>> Float(1.2345)\n",
        "1.23450000000000\n",
        ">>> Float('1.2345')\n",
        "1.23450000000000\n",
        ">>> type(Float('1.2345'))\n",
        "<class 'sympy.core.numbers.Float'>\n",
        "\n",
        ">>> Rational(1, 2)\n",
        "1/2\n",
        ">>> Integer(1) / Integer(3)\n",
        "1/3\n",
        ">>> Rational(1, 2) + Rational(1, 3)\n",
        "5/6\n",
        "\n",
        ">>> 1 + 2 * I\n",
        "1 + 2*I\n",
        ">>> 1.1 + 2.2 * I\n",
        "1.1 + 2.2*I\n",
        ">>> sqrt(2)\n",
        "sqrt(2)\n",
        ">>> sqrt(4)\n",
        "2\n",
        ">>> sqrt(8)\n",
        "2*sqrt(2)\n",
        ">>> pi\n",
        "pi\n",
        ">>> E\n",
        "E\n",
        ">>> oo\n",
        "oo\n",
        "数式の出力\n",
        "init_printing() を実行すると、使用しているコンソールに適した方法で数式を表示する\n",
        "SymPy は LaTex のフォーマットで数式を出力することができる\n",
        "それを受け付けるコンソール (たとえば IPython QTConsole など) であれば、美しい数式が表示される\n",
        "本家の SymPy Live で公開されている Online Shell を試してみるとよい\n",
        "そうでなければ unicode pretty printer が使用される\n",
        "init_printing() の引数に use_unicode=False を指定すると ascii pretty printer になる\n",
        ">>> init_printing()\n",
        ">>> sqrt(2)\n",
        "√2\n",
        ">>> 1 / sqrt(2)\n",
        "√2\n",
        "──\n",
        "2\n",
        ">>> pi\n",
        "π\n",
        "\n",
        ">>>init_printing(use_unicode=False)\n",
        ">>>ssqrt(2)\n",
        "  ___\n",
        "\\/ 2\n",
        ">>>s1 / sqrt(2)\n",
        "  ___\n",
        "\\/ 2\n",
        "-----\n",
        "  2\n",
        ">>> pi\n",
        "pi\n",
        "変数の定義\n",
        "SumPy の場合、「シンボル (symbol)」を使って数式の変数を表す\n",
        "プログラミングにおいて、シンボルというデータ型は「記号」を意味するのが一般的\n",
        "Lisp / Scheme の世界では、シンボルは基本的なデータ型のひとつ\n",
        "シンボルは Symbol(), symbols(), var() などで生成する\n",
        "引数にはシンボルの名前 (文字列) を渡す\n",
        "Symbol('name') => symbol\n",
        "symbols('name1 name2 ... nameN') => symbol1, symbol2, ..., symbolN\n",
        "var('name1 name2 ... nameN') => symbol1, symbol2, ..., symbolN\n",
        "Symbol() はシンボルをひとつ生成する\n",
        "symbols() と var() は複数のシンボルを生成する\n",
        "引数の文字列を空白文字やカンマ (,) で区切る\n",
        "コロン (:) を使うと複数のシンボルを簡単に指定できる\n",
        "たとえば、a:z とすると a から z までの 26 個のシンボルを生成する\n",
        "x:10 は x0 から x9 まで, x1:6 は x1 から x5 までのシンボルを生成する\n",
        "生成したシンボルは Python の変数に格納して使用する\n",
        "シンボル名と Python の変数名は同じにしたほうがわかりやすい\n",
        "var() は同じ名前の大域変数に生成したシンボルを格納する\n",
        ">>> x, y, z = symbols('x y z')\n",
        ">>> x\n",
        "x\n",
        ">>> y\n",
        "y\n",
        ">>> z\n",
        "z\n",
        ">>> x + 2*y + 3*z\n",
        "x + 2⋅y + 3⋅z\n",
        ">>> (x + y) ** 2\n",
        "       2\n",
        "(x + y)\n",
        ">>> (x + y + z) ** 3\n",
        "           3\n",
        "(x + y + z)\n",
        ">>> x**3 + 2*x**2 + 3*x + 4\n",
        " 3      2\n",
        "x  + 2⋅x  + 3⋅x + 4\n",
        ">>> sqrt(x)\n",
        "√x\n",
        ">>> sqrt(x*x + y*y)\n",
        "   _________\n",
        "  ╱  2    2\n",
        "╲╱  x  + y\n",
        "\n",
        ">>> var('a:c')\n",
        "(a, b, c)\n",
        ">>> a\n",
        "a\n",
        ">>> b\n",
        "b\n",
        ">>> c\n",
        "c\n",
        ">>> var('x1:4')\n",
        "(x1, x2, x3)\n",
        ">>> x1\n",
        "x1\n",
        ">>> x2\n",
        "x2\n",
        ">>> x3\n",
        "x3\n",
        "数式の展開と因数分解\n",
        "数式 expr の展開は関数 expand() で、因数分解は関数 factor() で行うことができる\n",
        "数式の展開は目的別の関数も用意されている\n",
        "expand_power_exp(), expand_power_base(), 指数を含む式の展開\n",
        "expand_trig(), 三角関数を含む式の展開\n",
        "expand_log(), 対数関数を含む式の展開\n",
        "この他にもいろいろある\n",
        "詳細はリファレンス Simplify を参照\n",
        ">>> expand((x + y)**2)\n",
        " 2            2\n",
        "x  + 2⋅x⋅y + y\n",
        ">>> expand((x + y + z)**2)\n",
        " 2                    2            2\n",
        "x  + 2⋅x⋅y + 2⋅x⋅z + y  + 2⋅y⋅z + z\n",
        ">>> expand((x + y)**3)\n",
        " 3      2          2    3\n",
        "x  + 3⋅x ⋅y + 3⋅x⋅y  + y\n",
        ">>> a = expand((x + y)**4)\n",
        ">>> a\n",
        " 4      3        2  2        3    4\n",
        "x  + 4⋅x ⋅y + 6⋅x ⋅y  + 4⋅x⋅y  + y\n",
        ">>> factor(a)\n",
        "       4\n",
        "(x + y)\n",
        ">>> factor(x**2 - 1)\n",
        "(x - 1)⋅(x + 1)\n",
        ">>> factor(x**2 - 2*x + 1)\n",
        "       2\n",
        "(x - 1)\n",
        ">>> factor(x**3 + y**3)\n",
        "        ⎛ 2          2⎞\n",
        "(x + y)⋅⎝x  - x⋅y + y ⎠\n",
        "\n",
        ">>> expand_power_exp(x**(y+z))\n",
        " y  z\n",
        "x ⋅x\n",
        ">>> (x*y)**z\n",
        "     z\n",
        "(x⋅y)\n",
        ">>> expand_power_base((x*y)**z)\n",
        "     z\n",
        "(x⋅y)\n",
        ">>> expand_power_base((x*y)**z, force=True)\n",
        " z  z\n",
        "x ⋅y\n",
        "\n",
        ">>> expand_trig(sin(x + y))\n",
        "sin(x)⋅cos(y) + sin(y)⋅cos(x)\n",
        ">>> expand_trig(cos(x + y))\n",
        "-sin(x)⋅sin(y) + cos(x)⋅cos(y)\n",
        ">>> expand_trig(sin(2*x))\n",
        "2⋅sin(x)⋅cos(x)\n",
        ">>> expand_trig(cos(2*x))\n",
        "     2\n",
        "2⋅cos (x) - 1\n",
        "\n",
        ">>> expand_log(log(x*y))\n",
        "log(x⋅y)\n",
        ">>> expand_log(log(x*y), force=True)\n",
        "log(x) + log(y)\n",
        "\n",
        ">>> expand_log(log(x/y))\n",
        "   ⎛x⎞\n",
        "log⎜─⎟\n",
        "   ⎝y⎠\n",
        ">>> expand_log(log(x/y), force=True)\n",
        "log(x) - log(y)\n",
        "\n",
        ">>> expand_log(log(x**2))\n",
        "   ⎛ 2⎞\n",
        "log⎝x ⎠\n",
        ">>> expand_log(log(x**2), force=True)\n",
        "2⋅log(x)\n",
        "\n",
        ">>> var('x1 y1 z1', positive=True)\n",
        "(x₁, y₁, z₁)\n",
        ">>> expand_log(log(x1*y1))\n",
        "log(x₁) + log(y₁)\n",
        ">>> expand_log(log(x1/y1))\n",
        "log(x₁) - log(y₁)\n",
        ">>> expand_log(log(x1**2))\n",
        "2⋅log(x₁)\n",
        "数式を展開できない場合は、引数の数式をそのまま返す\n",
        "たとえば、log(x) の定義域は x > 0 だが、変数 x の範囲が負数を含んでいると数式を展開できない\n",
        "シンボルを生成するとき、positive=True を指定すると、その変数がとりうる値は正数に限定される\n",
        "または、force=True を指定すると、強制的に式を展開することができる\n",
        "数式の簡約化\n",
        "数式の簡約化は関数 simplify() を使うと簡単\n",
        "目的別の関数も用意されている\n",
        "powsimp(), 指数の簡約化\n",
        "trigsimp(), 三角関数を含む式の簡約化\n",
        "logcombine(), 対数関数を含む式の簡約化\n",
        "この他にもいろいろある\n",
        "詳細はリファレンス Simplify を参照\n",
        ">>> (x**2 + 2*x + 1)/(x + 1)\n",
        " 2\n",
        "x  + 2⋅x + 1\n",
        "────────────\n",
        "   x + 1\n",
        ">>> simplify((x**2 + 2*x + 1)/(x + 1))\n",
        "x + 1\n",
        ">>> simplify((x**2 - 1)/(x + 1))\n",
        "x - 1\n",
        "\n",
        ">>> x**y * x**z\n",
        " y  z\n",
        "x ⋅x\n",
        ">>> powsimp(x**y * x**z)\n",
        " y + z\n",
        "x\n",
        ">>> x**y / x**z\n",
        " y  -z\n",
        "x ⋅x\n",
        ">>> powsimp(x**y / x**z)\n",
        " y - z\n",
        "x\n",
        "\n",
        ">>> sin(x)**2 + cos(x)**2\n",
        "   2         2\n",
        "sin (x) + cos (x)\n",
        ">>> trigsimp(sin(x)**2 + cos(x)**2)\n",
        "1\n",
        ">>> sin(x)*cos(y) + cos(x)*sin(y)\n",
        "sin(x)⋅cos(y) + sin(y)⋅cos(x)\n",
        ">>> trigsimp(sin(x)*cos(y) + cos(x)*sin(y))\n",
        "sin(x + y)\n",
        ">>> cos(x)*cos(y) + sin(x)*sin(y)\n",
        "sin(x)⋅sin(y) + cos(x)⋅cos(y)\n",
        ">>> trigsimp(cos(x)*cos(y) + sin(x)*sin(y))\n",
        "cos(x - y)\n",
        ">>> 1 + tan(x)**2\n",
        "   2\n",
        "tan (x) + 1\n",
        ">>> trigsimp(1 + tan(x)**2)\n",
        "   1\n",
        "───────\n",
        "   2\n",
        "cos (x)\n",
        "\n",
        ">>> log(x) + log(y)\n",
        "log(x) + log(y)\n",
        ">>> logcombine(log(x) + log(y))\n",
        "log(x) + log(y)\n",
        ">>> logcombine(log(x) + log(y), force=True)\n",
        "log(x⋅y)\n",
        ">>> log(x) - log(y)\n",
        "log(x) - log(y)\n",
        ">>> logcombine(log(x) - log(y))\n",
        "log(x) - log(y)\n",
        ">>> logcombine(log(x) - log(y), force=True)\n",
        "   ⎛x⎞\n",
        "log⎜─⎟\n",
        "   ⎝y⎠\n",
        ">>> x * log(y)\n",
        "x⋅log(y)\n",
        ">>> logcombine(x * log(y))\n",
        "x⋅log(y)\n",
        ">>> logcombine(x * log(y), force=True)\n",
        "   ⎛ x⎞\n",
        "log⎝y ⎠\n",
        "数式の評価\n",
        "数式 expr の変数に値を代入するにはメソッド subs() を使う\n",
        "expr.subs(変数, 値) => 値 or 数式\n",
        "expr.subs([(変数1, 値1), (変数2, 値2), ...]) => 値 or 数式\n",
        "expr.subs({変数1: 値1, 変数2: 値2, ...}) => 値 or 数式\n",
        "値は数だけではなく他の変数や数式でもかまわない\n",
        "数式 expr を評価して浮動小数点数を得るにはメソッド evalf() または関数 N() を使う\n",
        "expr.evalf([n]) => float_number\n",
        "sympy.N(expr, [n]) => float_number\n",
        "引数 n を指定すると n 桁の浮動小数点数 (Float) を返す\n",
        ">>> a = x**2\n",
        ">>> a\n",
        " 2\n",
        "x\n",
        ">>> a.subs(x, 10)\n",
        "100\n",
        ">>> a.subs(x, 1.2345)\n",
        "1.52399025000000\n",
        ">>> a.subs(x, y + z)\n",
        "       2\n",
        "(y + z)\n",
        ">>> a.subs(x, sqrt(2))\n",
        "2\n",
        ">>> b = a.subs(x, y + z)\n",
        ">>> b.subs({y: sqrt(2), z: sqrt(3)})\n",
        "         2\n",
        "(√2 + √3)\n",
        ">>> pi.evalf()\n",
        "3.14159265358979\n",
        ">>> N(pi, 50)\n",
        "3.1415926535897932384626433832795028841971693993751\n",
        ">>> sqrt(2).evalf(50)\n",
        "1.4142135623730950488016887242096980785696718753769\n",
        ">>> b.subs({y: sqrt(2), z: sqrt(3)}).evalf()\n",
        "9.89897948556636\n",
        ">>> b.subs({y: sqrt(2), z: sqrt(3)}).evalf(20)\n",
        "9.8989794855663561964\n",
        "●多項式\n",
        "多項式の除算で商と余りを求めるには関数 div() を使う\n",
        "有理式 (多項式の分数) の簡約化には関数 cansel() がある\n",
        "関数 apart() は有理式を「部分分数」に分解する\n",
        "部分分数は、分母が因数分解されている有理式をいくつかの有理式に分解すること\n",
        "次の条件を満たすとき、有理式 g(x) / f(x) は簡単な形に分解できる\n",
        "f(x) は 1 次式の積に因数分解できるような整式であること\n",
        "g(x) は f(x) より次数が少ない整式であること\n",
        "g(x) / f(x) = b1 / (x - a1) + b2 / (x - a2) + ... + bn / (x - an)\n",
        "関数 collect() は指定した変数で式をまとめる\n",
        "そのあと、メソッド coeff() で指定した次数の係数を取り出すことができる\n",
        ">>> div(x**3 + x**2 - 4*x + 1, x - 2)\n",
        "⎛ 2             ⎞\n",
        "⎝x  + 3⋅x + 2, 5⎠\n",
        "\n",
        ">>> div(x**3 - x**2 - 4*x + 4, x - 2)\n",
        "⎛ 2           ⎞\n",
        "⎝x  + x - 2, 0⎠\n",
        "\n",
        ">>> (x**3 - x**2 - 4*x + 4) / (x - 2)\n",
        " 3    2\n",
        "x  - x  - 4⋅x + 4\n",
        "─────────────────\n",
        "      x - 2\n",
        "\n",
        ">>> cancel((x**3 - x**2 - 4*x + 4) / (x - 2))\n",
        " 2\n",
        "x  + x - 2\n",
        "\n",
        ">>> cancel((x**2 + 2*x + 1) / (x**2 + x))\n",
        "x + 1\n",
        "─────\n",
        "  x\n",
        "\n",
        ">>> 1/(x - 1) + 1/(x - 2)\n",
        "  1       1\n",
        "───── + ─────\n",
        "x - 1   x - 2\n",
        "\n",
        ">>> cancel(1/(x - 1) + 1/(x - 2))\n",
        "  2⋅x - 3\n",
        "──────────────\n",
        " 2\n",
        "x  - 3⋅x + 2\n",
        "\n",
        ">>> apart((2*x - 3)/(x**2 - 3*x + 2))\n",
        "  1       1\n",
        "───── + ─────\n",
        "x - 1   x - 2\n",
        "\n",
        ">>> apart((6*x**2 + x - 17) / (x**3 - 7*x -6))\n",
        "  1       3       2\n",
        "───── + ───── + ─────\n",
        "x + 2   x + 1   x - 3\n",
        "\n",
        ">>> apart((x + 1) / (x**4 + x**2))\n",
        "  x + 1    1     1\n",
        "- ───── + ─── + ────\n",
        "   2       x      2\n",
        "  x  + 1         x\n",
        "\n",
        ">>> x**2 + y*x + z*x + y*z\n",
        " 2\n",
        "x  + x⋅y + x⋅z + y⋅z\n",
        ">>> collect(x**2 + y*x + z*x + y*z, x)\n",
        " 2\n",
        "x  + x⋅(y + z) + y⋅z\n",
        ">>> collect(x**2 + y*x + z*x + y*z, x).coeff(x, 2)\n",
        "1\n",
        ">>> collect(x**2 + y*x + z*x + y*z, x).coeff(x, 1)\n",
        "y + z\n",
        ">>> collect(x**2 + y*x + z*x + y*z, x).coeff(x, 0)\n",
        "y⋅z\n",
        "方程式の求解には関数 solveset(expr, var) を使う\n",
        "数式 expr が 0 になる変数 var の値を求める\n",
        "キーワード引数 domain で領域を指定できる (Complexes が default)\n",
        "たとえば、x2 + 1 = 0 の解は I, -I になるが、実数では存在しない\n",
        "解が存在しない場合は空集合を表す EmptySet() を返す\n",
        "SymPy の集合 (Set) は Python の set とは違う (あとで説明する)\n",
        "SymPy には特別な集合を表すクラスがあらかじめ定義されている\n",
        "EmptySet, 空集合\n",
        "UniversalSet, 全体集合\n",
        "Naturals, 自然数全体の集合\n",
        "Naturals0, 零と自然数全体の集合\n",
        "Integers, 整数全体の集合\n",
        "Reals, 実数全体の集合\n",
        "Complexes, 複素数全体の集合\n",
        "これらのクラスのオブジェクト (シングルトン) は sympy.S の同名の変数に格納されている\n",
        "関数 roots(expr, var) は解とその個数を辞書に格納して返す\n",
        "重根があるときは便利\n",
        ">>> solveset(x**2 - 1, x)\n",
        "{-1, 1}\n",
        ">>> solveset(x**2 + 1, x)\n",
        "{-ⅈ, ⅈ}\n",
        "\n",
        ">>> S.UniversalSet\n",
        "UniversalSet()\n",
        ">>> S.EmptySet\n",
        "∅\n",
        ">>> S.Complexes\n",
        "ℂ\n",
        ">>> S.Reals\n",
        "ℝ\n",
        ">>> S.Integers\n",
        "ℤ\n",
        ">>> S.Naturals\n",
        "ℕ\n",
        "\n",
        ">>> solveset(x**2 + 1, x, domain=Reals)\n",
        "∅\n",
        ">>> var('a b c')\n",
        "(a, b, c)\n",
        ">>> solveset(a*x**2 + b*x + c, x)\n",
        "⎧           _____________              _____________ ⎫\n",
        "⎪          ╱           2              ╱           2  ⎪\n",
        "⎨   b    ╲╱  -4⋅a⋅c + b        b    ╲╱  -4⋅a⋅c + b   ⎬\n",
        "⎪- ──── - ────────────────, - ──── + ────────────────⎪\n",
        "⎩  2⋅a         2⋅a            2⋅a         2⋅a        ⎭\n",
        "\n",
        ">>> solveset(x**3, x)\n",
        "{0}\n",
        ">>> roots(x**3, x)\n",
        "{0: 3}\n",
        ">>> solveset(x**3 - 4*x**2 + 5*x - 2, x)\n",
        "{1, 2}\n",
        ">>> roots(x**3 - 4*x**2 + 5*x - 2, x)\n",
        "{1: 2, 2: 1}\n",
        "連立一次方程式は関数 linsolve([expr1, expr2, ...], [var1, var2, ...]) を使って解く\n",
        "式と変数はタプルに格納して渡してもよい\n",
        "鶴亀算\n",
        "鶴と亀、合わせて 100 匹いる。足の合計が 272 本のとき、鶴と亀はそれぞれ何匹ずついるか。\n",
        "鶴と亀とトンボが合わせて 10 匹いる。足の合計が 38 本で羽の合計が 14 枚であるとき、鶴と亀とトンボはそれぞれ何匹ずついるか。(トンボの足は 6 本で羽は 4 枚)\n",
        "鶏と犬とタコ、合わせて 24 匹が台所にいる。足の合計が 102 本のとき、鶏、犬、タコはそれぞれ何匹ずついるか。\n",
        "解答\n",
        "x + y = 100, 2x + 4y = 272 を解く\n",
        ">>> linsolve([x + y - 100, 2*x + 4*y - 272], [x, y])\n",
        "{(64, 36)}\n",
        "x + y + z = 10, 2x + 4y + 6z = 38, 2x + 4z = 14 を解く\n",
        ">>> linsolve([x + y + z - 10, 2*x + 4*y + 6*z - 38, 2*x + 4*z -14], [x, y, z])\n",
        "{(3, 5, 2)}\n",
        "x + y + z= 24, 2x + 4y + 8z = 102 を解く\n",
        ">>> linsolve([x + y + z - 24, 2*x + 4*y + 8*z - 102], [x, y, z])\n",
        "{(2⋅z - 3, -3⋅z + 27, z)}\n",
        "solveset() や linsolve() の他にも、方程式の解を求める関数 solve() がある\n",
        "●微積分\n",
        "微分\n",
        "微分は関数 diff(expr, var, [n]) で行う\n",
        "引数 n に数値を指定すると高階微分になる\n",
        "または、diff(expr, var, var, ...) のように変数 var の後に同じ変数を指定すると高階微分になる\n",
        "多変数関数の微分 (偏微分) も diff(expr, var1, var2, ...) で OK\n",
        "Derivative() は diff() と引数が同じで、評価前の状態を保持するオブジェクトを返す\n",
        "メソッド doit() で微分を実行する\n",
        ">>> var('n x y z')\n",
        "(n, x, y, z)\n",
        ">>> diff(x**2, x)\n",
        "2⋅x\n",
        ">>> diff(x**2, x, 2)\n",
        "2\n",
        ">>> diff(x**2, x, 3)\n",
        "0\n",
        ">>> diff(x**n, x)\n",
        "   n\n",
        "n⋅x\n",
        "────\n",
        " x\n",
        "\n",
        ">>> diff(x**n, x, 2)\n",
        "   n\n",
        "n⋅x ⋅(n - 1)\n",
        "────────────\n",
        "      2\n",
        "     x\n",
        "\n",
        ">>> diff(log(x), x)\n",
        "1\n",
        "─\n",
        "x\n",
        "\n",
        ">>> diff(exp(x), x)\n",
        " x\n",
        "ℯ\n",
        ">>> diff(sin(x), x)\n",
        "cos(x)\n",
        ">>> diff(cos(x), x)\n",
        "-sin(x)\n",
        ">>> diff(tan(x), x)\n",
        "   2\n",
        "tan (x) + 1\n",
        "\n",
        ">>> diff(x**3*y**3*z**3, x)\n",
        "   2  3  3\n",
        "3⋅x ⋅y ⋅z\n",
        ">>> diff(x**3*y**3*z**3, x, x)\n",
        "     3  3\n",
        "6⋅x⋅y ⋅z\n",
        ">>> diff(x**3*y**3*z**3, x, x, y, y, z, z)\n",
        "216⋅x⋅y⋅z\n",
        ">>> diff(x**3*y**3*z**3, x, 2, y, 2, z, 2)\n",
        "216⋅x⋅y⋅z\n",
        "\n",
        ">>> Derivative((x**3 * y**3 * z**3), x, y, z)\n",
        "    3\n",
        "   ∂       ⎛ 3  3  3⎞\n",
        "───────────⎝x ⋅y ⋅z ⎠\n",
        "∂z ∂y ∂x\n",
        ">>> Derivative((x**3 * y**3 * z**3), x, y, z).doit()\n",
        "    2  2  2\n",
        "27⋅x ⋅y ⋅z\n",
        ">>> Derivative((x**3 * y**3 * z**3), x, 2, y, 2, z, 2)\n",
        "      6\n",
        "     ∂     ⎛ 3  3  3⎞\n",
        "───────────⎝x ⋅y ⋅z ⎠\n",
        "  2   2   2\n",
        "∂z  ∂y  ∂x\n",
        ">>> Derivative((x**3 * y**3 * z**3), x, 2, y, 2, z, 2).doit()\n",
        "216⋅x⋅y⋅z\n",
        "積分\n",
        "積分は関数 integrate(expr, var) で行う (積分定数は出力されない)\n",
        "定積分も integrate(expr, (var, low, high)) で OK\n",
        "二重積分も integrate(expr, (var1, l1, h1), (var2, l2, h2), ...) で OK\n",
        "Integral() は integrate() と引数が同じで、評価前の状態を保持するオブジェクトを返す\n",
        "メソッド doit() で微分を実行する\n",
        "積分を評価できないときは Integral() を返す\n",
        ">>> integrate(x, x)\n",
        " 2\n",
        "x\n",
        "──\n",
        "2\n",
        ">>> integrate(x**2, x)\n",
        " 3\n",
        "x\n",
        "──\n",
        "3\n",
        ">>> integrate(x**3, x)\n",
        " 4\n",
        "x\n",
        "──\n",
        "4\n",
        ">>> integrate(x, (x, 0, 1))\n",
        "1/2\n",
        ">>> integrate(x**2, (x, 0, 1))\n",
        "1/3\n",
        ">>> integrate(x**3, (x, 0, 1))\n",
        "1/4\n",
        ">>> integrate(exp(x), x)\n",
        " x\n",
        "ℯ\n",
        ">>> integrate(exp(-x), x)\n",
        "  -x\n",
        "-ℯ\n",
        ">>> integrate(exp(-x), (x, 0, oo))\n",
        "1\n",
        ">>> integrate(1/x, x)\n",
        "log(x)\n",
        ">>> integrate(log(x), x)\n",
        "x⋅log(x) - x\n",
        ">>> integrate(sin(x), x)\n",
        "-cos(x)\n",
        ">>> integrate(cos(x), x)\n",
        "sin(x)\n",
        ">>> integrate(tan(x), x)\n",
        "-log(cos(x))\n",
        ">>> integrate(4/(1 + x**2), x)\n",
        "4⋅atan(x)\n",
        ">>> integrate(4/(1 + x**2), (x, 0, 1))\n",
        "π\n",
        "\n",
        "\n",
        ">>> Integral(x*y**2, x, y)\n",
        "⌠ ⌠\n",
        "⎮ ⎮    2\n",
        "⎮ ⎮ x⋅y  dx dy\n",
        "⌡ ⌡\n",
        ">>> Integral(x*y**2, x, y).doit()\n",
        " 2  3\n",
        "x ⋅y\n",
        "─────\n",
        "  6\n",
        ">>> integrate(x*y**2, (x, 0, 1), (y, 0, 1))\n",
        "1/6\n",
        ">>> integrate(x*y**2, (x, 1 - y, 1), (y, 0, 1))\n",
        "3/20\n",
        "\n",
        ">>> integrate(x**x, x)\n",
        "⌠\n",
        "⎮  x\n",
        "⎮ x  dx\n",
        "⌡\n",
        "極限\n",
        "極限は関数 limit(function, var, point) で計算する\n",
        "f(x) の x -> 0 の極限は limit(f(x), x, 0) とする\n",
        "極限の方向は第 4 引数で指定する ('+' or '-')\n",
        ">>> limit(x, x, oo)\n",
        "∞\n",
        ">>> limit(1/x, x, oo)\n",
        "0\n",
        ">>> limit(1/x, x, 0, '+')\n",
        "∞\n",
        ">>> limit(1/x, x, 0, '-')\n",
        "-∞\n",
        ">>> limit(x/(x + 1), x, oo)\n",
        "1\n",
        ">>> limit(sin(x)/x, x, 0)\n",
        "1\n",
        ">>> limit(sqrt(x**2+3*x+4) - x, x, oo)\n",
        "3/2\n",
        "テーラー (Taylor) 展開\n",
        "メソッド series() は関数 f(x) をテーラー展開する\n",
        "f(x).series(var, [x0, n])\n",
        "x0 を省略すると原点 (0) になる\n",
        "n は最高次数を指定する\n",
        "オーダー記号 O() はメソッド removeO() で削除する\n",
        ">>> cos(x).series(x)\n",
        "     2    4\n",
        "    x    x     ⎛ 6⎞\n",
        "1 - ── + ── + O⎝x ⎠\n",
        "    2    24\n",
        "\n",
        ">>> sin(x).series(x)\n",
        "     3     5\n",
        "    x     x      ⎛ 6⎞\n",
        "x - ── + ──── + O⎝x ⎠\n",
        "    6    120\n",
        "\n",
        ">>> exp(x).series(x)\n",
        "         2    3    4     5\n",
        "        x    x    x     x      ⎛ 6⎞\n",
        "1 + x + ── + ── + ── + ──── + O⎝x ⎠\n",
        "        2    6    24   120\n",
        "\n",
        ">>> exp(x).series(x, 0, 10)\n",
        "         2    3    4     5      6      7       8        9\n",
        "        x    x    x     x      x      x       x        x       ⎛ 10⎞\n",
        "1 + x + ── + ── + ── + ──── + ──── + ───── + ───── + ────── + O⎝x  ⎠\n",
        "        2    6    24   120    720    5040    40320   362880\n",
        "\n",
        ">>> exp(x).series(x).removeO()\n",
        "  5     4    3    2\n",
        " x     x    x    x\n",
        "──── + ── + ── + ─ + x + 1\n",
        "120    24   6    2\n",
        "●集合\n",
        "Python には集合を表すデータ型 set があるが、SymPy ではクラス Set を使う\n",
        "SymPy の Set は immutable なデータ構造\n",
        "Set は基本クラスで、実際に使用するのはサブクラス\n",
        "ここでは集合の基本的な使い方を簡単に説明する\n",
        "詳細はリファレンス Sets を参照\n",
        "基本的な演算子とメソッド\n",
        "和集合, +, |, union\n",
        "積集合, &, intersect, intersection\n",
        "差集合, -, complement (a - b は b.complement(a) と同じ)\n",
        "対称差, ^, symmetric_difference ((a - b) | (b - a) と同じ)\n",
        "直積集合, *, (a * b は ProductSet(a, b) と同じ)\n",
        "a ** n は a * a * ... * a (n 個の a の直積集合)\n",
        "べき集合, powerset\n",
        "部分集合の判定, issubset, is_subset, issuperset, is_superset\n",
        "真部分集合の判定, is_proper_subset, is_proper_superset\n",
        "積集合 (共通集合) の有無, isdisjoint, is_disjoint\n",
        "要素 x は集合 a に含まれているか, x.contains(a), x in a\n",
        "EmptySet は空集合を表すクラス (シングルトンは sympy.S.EmptySet)\n",
        "属性 is_EmptySet は True (他のクラスのオブジェクトは None)\n",
        "属性 is_iterable は False\n",
        "関数 len() の値は 0\n",
        "UniversalSet は全体集合を表すクラス (シングルトンは sympy.S.UniversalSet)\n",
        "属性 is_UniversalSet は True (他のクラスのオブジェクトは None)\n",
        "属性 is_iterable は False\n",
        "関数 len() は適用不可\n",
        ">>> import sympy as sy\n",
        ">>> init_printing()\n",
        ">>> S.EmptySet\n",
        "∅\n",
        ">>> S.EmptySet.is_EmptySet\n",
        "True\n",
        ">>> S.EmptySet.is_iterable\n",
        "False\n",
        ">>> len(S.EmptySet)\n",
        "0\n",
        ">>> S.UniversalSet\n",
        "UniversalSet()\n",
        ">>> S.UniversalSet.is_UniversalSet\n",
        "True\n",
        ">>> S.UniversalSet.is_iterable\n",
        "False\n",
        ">>> S.UniversalSet | S.EmptySet\n",
        "UniversalSet()\n",
        ">>> S.UniversalSet & S.EmptySet\n",
        "∅\n",
        "Interval は実数区間を表すクラス\n",
        "Interval(s, e, left_open=False, right_open=False) => [s, e]\n",
        "返り値は Interval のオブジェクトだが、表示には角カッコや丸カッコが用いられる\n",
        "キーワード引数 xxxx_open で xxxx 側の open / close を指定する\n",
        "(s, e), s < x < e\n",
        "[s, e), s <= x < e\n",
        "(s, e], s < x <= e\n",
        "[s, e], s <= x <= e\n",
        "または次のクラスメソッドを使う\n",
        "Ropen(s, e) => [s, e)\n",
        "Lopen(s, e) => (s, e]\n",
        "open(s, e) => (s, e)\n",
        "端点 s, e の open / close はメソッド left_open, right_open で確認できる\n",
        "端点 s, e には oo, -oo を指定できる\n",
        "属性 is_iterable は False\n",
        "関数 len() は適用不可\n",
        ">>> a = Interval(1, 10)\n",
        ">>> a\n",
        "[1, 10]\n",
        ">>> a.is_iterable\n",
        "False\n",
        ">>> 1 in a\n",
        "True\n",
        ">>> 0 in a\n",
        "False\n",
        ">>> 10 in a\n",
        "True\n",
        ">>> 11 in a\n",
        "False\n",
        ">>> b = Interval(5, 15)\n",
        ">>> b\n",
        "[5, 15]\n",
        ">>> a & b\n",
        "[5, 10]\n",
        ">>> a | b\n",
        "[1, 15]\n",
        ">>> a - b\n",
        "[1, 5)\n",
        ">>> b - a\n",
        "(10, 15]\n",
        ">>> a ^ b\n",
        "[1, 5) ∪ (10, 15]\n",
        ">>> 5 in a ^ b\n",
        "False\n",
        ">>> 1 in a ^ b\n",
        "True\n",
        ">>> 10 in a ^ b\n",
        "False\n",
        ">>> 15 in a ^ b\n",
        "True\n",
        "FiniteSet は有限個の要素を持つ集合を表すクラス\n",
        "FiniteSet(item1, item2, ..., itemN) => {item1, item2., ..., itemN}\n",
        "Python の frozenset (immutable な set) とほぼ同じ\n",
        "返り値は FiniteSet のオブジェクトだが、表示には { ... } が用いられる\n",
        "属性 is_iterable は True (イテレータが利用できる)\n",
        "関数 len() は要素数を返す\n",
        ">>> a = FiniteSet(1, 2, 3, 4)\n",
        ">>> a\n",
        "{1, 2, 3, 4}\n",
        ">>> a.is_iterable\n",
        "True\n",
        ">>> for x in a: print(x)\n",
        "...\n",
        "1\n",
        "2\n",
        "3\n",
        "4\n",
        ">>> len(a)\n",
        "4\n",
        ">>> for x in range(0, 6):\n",
        "...     print(x, x in a)\n",
        "...\n",
        "0 False\n",
        "1 True\n",
        "2 True\n",
        "3 True\n",
        "4 True\n",
        "5 False\n",
        ">>> b = FiniteSet(3, 4, 5, 6)\n",
        ">>> b\n",
        "{3, 4, 5, 6}\n",
        ">>> a | b\n",
        "{1, 2, 3, 4, 5, 6}\n",
        ">>> a & b\n",
        "{3, 4}\n",
        ">>> a - b\n",
        "{1, 2}\n",
        ">>> b - a\n",
        "{5, 6}\n",
        ">>> a ^ b\n",
        "{1, 2, 5, 6}\n",
        "集合演算を表すクラス\n",
        "Union, 和集合\n",
        "Intersection. 積集合\n",
        "Complement, 差集合\n",
        "SymmetricDifference, 対称差\n",
        "ProductSet, 直積集合\n",
        ">>> c = Interval(5, 8)\n",
        ">>> c\n",
        "[5, 8]\n",
        ">>> a | c\n",
        "{1, 2, 3, 4} ∪ [5, 8]\n",
        ">>> b | c\n",
        "{3, 4} ∪ [5, 8]\n",
        ">>> a & c\n",
        "∅\n",
        ">>> b & c\n",
        "{5, 6}\n",
        ">>> a - c\n",
        "{1, 2, 3, 4}\n",
        ">>> c - a\n",
        "[5, 8]\n",
        ">>> b - c\n",
        "{3, 4}\n",
        ">>> c - b\n",
        "(5, 6) ∪ (6, 8]\n",
        ">>> a ^ c\n",
        "{1, 2, 3, 4} ∪ [5, 8]\n",
        ">>> b ^ c\n",
        "{3, 4} ∪ (5, 6) ∪ (6, 8]\n",
        ">>> a * b\n",
        "{1, 2, 3, 4} × {3, 4, 5, 6}\n",
        ">>> for x in a * b: print(x)\n",
        "...\n",
        "(1, 3)\n",
        "(1, 4)\n",
        "(1, 5)\n",
        "(1, 6)\n",
        "(2, 3)\n",
        "(2, 4)\n",
        "(2, 5)\n",
        "(2, 6)\n",
        "(3, 3)\n",
        "(3, 4)\n",
        "(3, 5)\n",
        "(3, 6)\n",
        "(4, 3)\n",
        "(4, 4)\n",
        "(4, 5)\n",
        "(4, 6)\n",
        ">>> a * c\n",
        "{1, 2, 3, 4} × [5, 8]\n",
        ">>> (1, 5.5) in a * c\n",
        "True\n",
        ">>> (4, 8.1) in a * c\n",
        "False\n",
        ">>> (2.5, 6) in a * c\n",
        "False\n",
        "特別な集合を表すクラス\n",
        "Naturals, 自然数全体の集合\n",
        "Naturals0, 零と自然数全体の集合\n",
        "Integers, 整数全体の集合\n",
        "Reals, 実数全体の集合\n",
        "Complexes, 複素数全体の集合\n",
        "Range, Python の range() とよく似た集合\n",
        "インデックスによるアクセスが可能\n",
        "oo や -oo の指定もできる\n",
        "ImageSet, 写像\n",
        "ImageSet(func, xs) は集合 xs の要素に関数 func を適用した集合を表す\n",
        "第 1 引数 func には SymPy の Lambda() を渡す\n",
        "Lambda() は Python の lambda 式とよく似ている\n",
        "Lambda(x, expr) は lambda x: expr のこと\n",
        "Lambda((x, y, z, ...), expr) は lambda x, y, z, ...: expr のこと\n",
        "lambda 式とは違い、Lambda() の第 1 引数に渡す変数はシンボルであること\n",
        "この他にもいろいろある\n",
        ">>> c & S.Naturals\n",
        "{5, 6, 7, 8}\n",
        ">>> c | S.Naturals\n",
        "ℕ ∪ [5, 8]\n",
        ">>> Reals - c\n",
        "(-∞, 5) ∪ (8, ∞)\n",
        ">>> Integers - c\n",
        "ℤ \\ [5, 8]\n",
        ">>> 5 in Integers - c\n",
        "False\n",
        ">>> 5.5 in Integers - c\n",
        "False\n",
        ">>> 6 in Integers - c\n",
        "False\n",
        ">>> 7 in Integers - c\n",
        "False\n",
        ">>> 8 in Integers - c\n",
        "False\n",
        ">>> 9 in Integers - c\n",
        "True\n",
        ">>> Range(1, 5)\n",
        "{1, 2, 3, 4}\n",
        ">>> Range(1, 8, 2)\n",
        "{1, 3, 5, 7}\n",
        ">>> d = Range(1, oo)\n",
        ">>> d\n",
        "{1, 2, …, ∞}\n",
        ">>> d[0]\n",
        "1\n",
        ">>> d[1]\n",
        "2\n",
        ">>> d[100]\n",
        "101\n",
        ">>> d[-1]\n",
        "∞\n",
        "\n",
        ">>> var('x y z')\n",
        "(x, y, z)\n",
        ">>> a = ImageSet(Lambda(x, x * x), S.Naturals0)\n",
        ">>> a\n",
        "ImageSet(Lambda(x, x**2), Naturals0)\n",
        ">>> 100 in a\n",
        "True\n",
        ">>> 200 in a\n",
        "False\n",
        ">>> 400 in a\n",
        "True\n",
        ">>> b = ImageSet(Lambda(x, x * x), Range(10))\n",
        ">>> b\n",
        "ImageSet(Lambda(x, x**2), Range(0, 10, 1))\n",
        ">>> for n in b: print(n)\n",
        "...\n",
        "0\n",
        "1\n",
        "4\n",
        "9\n",
        "16\n",
        "25\n",
        "36\n",
        "49\n",
        "64\n",
        "81\n",
        "Copyright (C) 2018 Makoto Hiroi\n",
        "All rights reserved.\n",
        "[ Home | Light | Python3 ]"
      ]
    }
  ]
}