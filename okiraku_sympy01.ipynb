{
  "nbformat": 4,
  "nbformat_minor": 0,
  "metadata": {
    "colab": {
      "name": "okiraku_sympy01.ipynb",
      "provenance": [],
      "toc_visible": true,
      "authorship_tag": "ABX9TyN4O3TxE3tUTfV4LyTWDJac",
      "include_colab_link": true
    },
    "kernelspec": {
      "name": "python3",
      "display_name": "Python 3"
    },
    "language_info": {
      "name": "python"
    }
  },
  "cells": [
    {
      "cell_type": "markdown",
      "metadata": {
        "id": "view-in-github",
        "colab_type": "text"
      },
      "source": [
        "<a href=\"https://colab.research.google.com/github/kalz2q/mycolabnotebooks/blob/master/okiraku_sympy01.ipynb\" target=\"_parent\"><img src=\"https://colab.research.google.com/assets/colab-badge.svg\" alt=\"Open In Colab\"/></a>"
      ]
    },
    {
      "cell_type": "markdown",
      "metadata": {
        "id": "B1lzqc6ohtCw"
      },
      "source": [
        "# メモ\n",
        "\n",
        "お気楽 sympy プログラミング超入門\n",
        "\n",
        "http://www.nct9.ne.jp/m_hiroi/light/python3.html#sympy_abc\n",
        "\n",
        "* Hello, SymPy!!\n",
        "* SymPy の基本\n",
        "* 多項式\n",
        "* 微積分\n",
        "* 集合\n",
        "* 行列\n",
        "* 線形代数\n",
        "* 素数と約数\n",
        "* 数列と級数\n",
        "* 論理代数\n",
        "* 等式と不等式\n",
        "* 微分方程式\n",
        "* いろいろな関数\n",
        "* 特殊関数\n",
        "* 関数のグラフ\n",
        "\n",
        "を読む。\n",
        "\n"
      ]
    },
    {
      "cell_type": "markdown",
      "metadata": {
        "id": "S7QbPDbDiqCi"
      },
      "source": [
        "たとえば、$f(x) = x^2$ の微分は $f\\;(x) = 2x$ になるが、sympy\n",
        "で次のように計算できる。"
      ]
    },
    {
      "cell_type": "code",
      "metadata": {
        "id": "hIWJAaK5ifT2",
        "colab": {
          "base_uri": "https://localhost:8080/",
          "height": 60
        },
        "outputId": "74421788-9aa7-4463-ff20-0828c933ebf4"
      },
      "source": [
        "from sympy.abc import *\n",
        "from sympy import *\n",
        "f = x**2 + 2*x + 1\n",
        "display(f)\n",
        "g = f.diff()\n",
        "display(g)"
      ],
      "execution_count": null,
      "outputs": [
        {
          "output_type": "display_data",
          "data": {
            "text/latex": "$\\displaystyle x^{2} + 2 x + 1$",
            "text/plain": [
              "x**2 + 2*x + 1"
            ]
          },
          "metadata": {
            "tags": []
          }
        },
        {
          "output_type": "display_data",
          "data": {
            "text/latex": "$\\displaystyle 2 x + 2$",
            "text/plain": [
              "2*x + 2"
            ]
          },
          "metadata": {
            "tags": []
          }
        }
      ]
    },
    {
      "cell_type": "markdown",
      "metadata": {
        "id": "cH9vA8-ziWY9"
      },
      "source": [
        "sympy は python で数式処理システムのような記号計算を行うためのライブラリである。\n",
        "\n",
        "sympy 本家 ホームページ $\\quad$ http://www.sympy.org/en/index.html\n",
        "\n",
        "&nbsp;"
      ]
    },
    {
      "cell_type": "markdown",
      "metadata": {
        "id": "slfv_ZRCk7Xy"
      },
      "source": [
        "# 基本"
      ]
    },
    {
      "cell_type": "markdown",
      "metadata": {
        "id": "gcgsg6dIkCJl"
      },
      "source": [
        "有理数は Rational(p, q)\n",
        "\n",
        "sympy の虚数単位は I \n",
        "\n",
        "sympy は虚数単位を含む数式を複素数として扱う。\n",
        "\n",
        "定数\n",
        "*   sympy では特殊な定数 (E, pi, oo) や数学関数を数式として扱う\n",
        "*   E : 自然対数の底 (ネイピア数)\n",
        "*   pi : 円周率\n",
        "*   oo : 無限大\n",
        "\n",
        "&nbsp;\n",
        "\n"
      ]
    },
    {
      "cell_type": "code",
      "metadata": {
        "id": "eZipZYc3mKM9",
        "colab": {
          "base_uri": "https://localhost:8080/",
          "height": 439
        },
        "outputId": "c3c9ed8c-864d-4b36-c71f-21795c7bf06e"
      },
      "source": [
        "from sympy import *\n",
        "display(Integer(12345))\n",
        "display(Integer('12345'))\n",
        "display(type(Integer('12345')))\n",
        "display(Float(1.2345))\n",
        "display(Float('1.2345'))\n",
        "display(type(Float('1.2345')))\n",
        "print()\n",
        "display(Rational(1, 2))\n",
        "display(Integer(2) / Integer(6))\n",
        "display(Rational(1, 2) + Rational(1, 3))\n",
        "print()\n",
        "display(1 + 2 * I)\n",
        "display(1.1 + 2.2 * I)\n",
        "display(sqrt(2))\n",
        "display(sqrt(4))\n",
        "display(sqrt(8))\n",
        "display(pi)\n",
        "display(E)\n",
        "display(oo)"
      ],
      "execution_count": null,
      "outputs": [
        {
          "output_type": "display_data",
          "data": {
            "text/latex": "$\\displaystyle 12345$",
            "text/plain": [
              "12345"
            ]
          },
          "metadata": {
            "tags": []
          }
        },
        {
          "output_type": "display_data",
          "data": {
            "text/latex": "$\\displaystyle 12345$",
            "text/plain": [
              "12345"
            ]
          },
          "metadata": {
            "tags": []
          }
        },
        {
          "output_type": "display_data",
          "data": {
            "text/plain": [
              "sympy.core.numbers.Integer"
            ]
          },
          "metadata": {
            "tags": []
          }
        },
        {
          "output_type": "display_data",
          "data": {
            "text/latex": "$\\displaystyle 1.2345$",
            "text/plain": [
              "1.23450000000000"
            ]
          },
          "metadata": {
            "tags": []
          }
        },
        {
          "output_type": "display_data",
          "data": {
            "text/latex": "$\\displaystyle 1.2345$",
            "text/plain": [
              "1.23450000000000"
            ]
          },
          "metadata": {
            "tags": []
          }
        },
        {
          "output_type": "display_data",
          "data": {
            "text/plain": [
              "sympy.core.numbers.Float"
            ]
          },
          "metadata": {
            "tags": []
          }
        },
        {
          "output_type": "stream",
          "text": [
            "\n"
          ],
          "name": "stdout"
        },
        {
          "output_type": "display_data",
          "data": {
            "text/latex": "$\\displaystyle \\frac{1}{2}$",
            "text/plain": [
              "1/2"
            ]
          },
          "metadata": {
            "tags": []
          }
        },
        {
          "output_type": "display_data",
          "data": {
            "text/latex": "$\\displaystyle \\frac{1}{3}$",
            "text/plain": [
              "1/3"
            ]
          },
          "metadata": {
            "tags": []
          }
        },
        {
          "output_type": "display_data",
          "data": {
            "text/latex": "$\\displaystyle \\frac{5}{6}$",
            "text/plain": [
              "5/6"
            ]
          },
          "metadata": {
            "tags": []
          }
        },
        {
          "output_type": "stream",
          "text": [
            "\n"
          ],
          "name": "stdout"
        },
        {
          "output_type": "display_data",
          "data": {
            "text/latex": "$\\displaystyle 1 + 2 i$",
            "text/plain": [
              "1 + 2*I"
            ]
          },
          "metadata": {
            "tags": []
          }
        },
        {
          "output_type": "display_data",
          "data": {
            "text/latex": "$\\displaystyle 1.1 + 2.2 i$",
            "text/plain": [
              "1.1 + 2.2*I"
            ]
          },
          "metadata": {
            "tags": []
          }
        },
        {
          "output_type": "display_data",
          "data": {
            "text/latex": "$\\displaystyle \\sqrt{2}$",
            "text/plain": [
              "sqrt(2)"
            ]
          },
          "metadata": {
            "tags": []
          }
        },
        {
          "output_type": "display_data",
          "data": {
            "text/latex": "$\\displaystyle 2$",
            "text/plain": [
              "2"
            ]
          },
          "metadata": {
            "tags": []
          }
        },
        {
          "output_type": "display_data",
          "data": {
            "text/latex": "$\\displaystyle 2 \\sqrt{2}$",
            "text/plain": [
              "2*sqrt(2)"
            ]
          },
          "metadata": {
            "tags": []
          }
        },
        {
          "output_type": "display_data",
          "data": {
            "text/latex": "$\\displaystyle \\pi$",
            "text/plain": [
              "pi"
            ]
          },
          "metadata": {
            "tags": []
          }
        },
        {
          "output_type": "display_data",
          "data": {
            "text/latex": "$\\displaystyle e$",
            "text/plain": [
              "E"
            ]
          },
          "metadata": {
            "tags": []
          }
        },
        {
          "output_type": "display_data",
          "data": {
            "text/latex": "$\\displaystyle \\infty$",
            "text/plain": [
              "oo"
            ]
          },
          "metadata": {
            "tags": []
          }
        }
      ]
    },
    {
      "cell_type": "code",
      "metadata": {
        "id": "IYVcFPk-l6hQ",
        "colab": {
          "base_uri": "https://localhost:8080/",
          "height": 99
        },
        "outputId": "e75c66a0-4191-497c-dc78-287cf6cb0efc"
      },
      "source": [
        "# 数式の出力\n",
        "from sympy import *\n",
        "# init_printing() # colab ではデフォルトなので必ずしも指定しないでよい\n",
        "display(sqrt(2))\n",
        "display(1 / sqrt(2))\n",
        "display(pi)"
      ],
      "execution_count": null,
      "outputs": [
        {
          "output_type": "display_data",
          "data": {
            "text/latex": "$\\displaystyle \\sqrt{2}$",
            "text/plain": [
              "sqrt(2)"
            ]
          },
          "metadata": {
            "tags": []
          }
        },
        {
          "output_type": "display_data",
          "data": {
            "text/latex": "$\\displaystyle \\frac{\\sqrt{2}}{2}$",
            "text/plain": [
              "sqrt(2)/2"
            ]
          },
          "metadata": {
            "tags": []
          }
        },
        {
          "output_type": "display_data",
          "data": {
            "text/latex": "$\\displaystyle \\pi$",
            "text/plain": [
              "pi"
            ]
          },
          "metadata": {
            "tags": []
          }
        }
      ]
    },
    {
      "cell_type": "markdown",
      "metadata": {
        "id": "1ALVeLW7p5CM"
      },
      "source": [
        "# いまここ"
      ]
    },
    {
      "cell_type": "markdown",
      "metadata": {
        "id": "tesEP5CjnZ1k"
      },
      "source": [
        "# 変数の定義\n",
        "\n",
        "SumPy の場合、「シンボル (symbol)」を使って数式の変数を表す。\n",
        "\n",
        "シンボルは Symbol(), symbols(), var() などで生成する。\n",
        "\n",
        "引数にはシンボルの名前 (文字列) を渡す。\n",
        "\n",
        "Symbol() はシンボルをひとつ生成する。\n",
        "\n",
        "symbols() と var() は複数のシンボルを生成する。\n",
        "\n",
        "*   引数の文字列を空白文字やカンマ (,) で区切る。\n",
        "*   コロン (:) を使うと複数のシンボルを簡単に指定できる。\n",
        "*   たとえば、a:z とすると a から z までの 26 個のシンボルを生成する。\n",
        "*   x:10 は x0 から x9 まで, x1:6 は x1 から x5 までのシンボルを生成する。\n",
        "\n",
        "生成したシンボルは python の変数に格納して使用する。\n",
        "\n",
        "シンボル名と python の変数名は同じにしたほうがわかりやすい。\n",
        "\n",
        "var() は同じ名前の大域変数に生成したシンボルを格納する。\n",
        "\n",
        "`from sympy.abc import *` は一度にシンボルを生成できて便利だが変数をおバーライトしてしまうので注意する。\n",
        "\n",
        "&nbsp;\n",
        "\n"
      ]
    },
    {
      "cell_type": "code",
      "metadata": {
        "id": "d7vZwTbmpoRv",
        "colab": {
          "base_uri": "https://localhost:8080/",
          "height": 342
        },
        "outputId": "8f9b7e7a-a278-455b-f92b-53dc137fae2c"
      },
      "source": [
        "from sympy import *\n",
        "x, y, z = symbols('x y z')\n",
        "display(x)\n",
        "display(y)\n",
        "display(z)\n",
        "display(x + 2*y + 3*z)\n",
        "display((x + y) ** 2)\n",
        "display((x + y + z) ** 3)\n",
        "display(x**3 + 2*x**2 + 3*x + 4)\n",
        "display(sqrt(x))\n",
        "display(sqrt(x*x + y*y))\n",
        "var('a:c')\n",
        "display(a)\n",
        "display(b)\n",
        "display(c)\n",
        "var('x1:4')\n",
        "display(x1)\n",
        "display(x2)\n",
        "display(x3)\n"
      ],
      "execution_count": null,
      "outputs": [
        {
          "output_type": "display_data",
          "data": {
            "text/latex": "$\\displaystyle x$",
            "text/plain": [
              "x"
            ]
          },
          "metadata": {
            "tags": []
          }
        },
        {
          "output_type": "display_data",
          "data": {
            "text/latex": "$\\displaystyle y$",
            "text/plain": [
              "y"
            ]
          },
          "metadata": {
            "tags": []
          }
        },
        {
          "output_type": "display_data",
          "data": {
            "text/latex": "$\\displaystyle z$",
            "text/plain": [
              "z"
            ]
          },
          "metadata": {
            "tags": []
          }
        },
        {
          "output_type": "display_data",
          "data": {
            "text/latex": "$\\displaystyle x + 2 y + 3 z$",
            "text/plain": [
              "x + 2*y + 3*z"
            ]
          },
          "metadata": {
            "tags": []
          }
        },
        {
          "output_type": "display_data",
          "data": {
            "text/latex": "$\\displaystyle \\left(x + y\\right)^{2}$",
            "text/plain": [
              "(x + y)**2"
            ]
          },
          "metadata": {
            "tags": []
          }
        },
        {
          "output_type": "display_data",
          "data": {
            "text/latex": "$\\displaystyle \\left(x + y + z\\right)^{3}$",
            "text/plain": [
              "(x + y + z)**3"
            ]
          },
          "metadata": {
            "tags": []
          }
        },
        {
          "output_type": "display_data",
          "data": {
            "text/latex": "$\\displaystyle x^{3} + 2 x^{2} + 3 x + 4$",
            "text/plain": [
              "x**3 + 2*x**2 + 3*x + 4"
            ]
          },
          "metadata": {
            "tags": []
          }
        },
        {
          "output_type": "display_data",
          "data": {
            "text/latex": "$\\displaystyle \\sqrt{x}$",
            "text/plain": [
              "sqrt(x)"
            ]
          },
          "metadata": {
            "tags": []
          }
        },
        {
          "output_type": "display_data",
          "data": {
            "text/latex": "$\\displaystyle \\sqrt{x^{2} + y^{2}}$",
            "text/plain": [
              "sqrt(x**2 + y**2)"
            ]
          },
          "metadata": {
            "tags": []
          }
        },
        {
          "output_type": "display_data",
          "data": {
            "text/latex": "$\\displaystyle a$",
            "text/plain": [
              "a"
            ]
          },
          "metadata": {
            "tags": []
          }
        },
        {
          "output_type": "display_data",
          "data": {
            "text/latex": "$\\displaystyle b$",
            "text/plain": [
              "b"
            ]
          },
          "metadata": {
            "tags": []
          }
        },
        {
          "output_type": "display_data",
          "data": {
            "text/latex": "$\\displaystyle c$",
            "text/plain": [
              "c"
            ]
          },
          "metadata": {
            "tags": []
          }
        },
        {
          "output_type": "display_data",
          "data": {
            "text/latex": "$\\displaystyle x_{1}$",
            "text/plain": [
              "x1"
            ]
          },
          "metadata": {
            "tags": []
          }
        },
        {
          "output_type": "display_data",
          "data": {
            "text/latex": "$\\displaystyle x_{2}$",
            "text/plain": [
              "x2"
            ]
          },
          "metadata": {
            "tags": []
          }
        },
        {
          "output_type": "display_data",
          "data": {
            "text/latex": "$\\displaystyle x_{3}$",
            "text/plain": [
              "x3"
            ]
          },
          "metadata": {
            "tags": []
          }
        }
      ]
    },
    {
      "cell_type": "markdown",
      "metadata": {
        "id": "bVu7wA761Uqi"
      },
      "source": [
        "# いまここ"
      ]
    },
    {
      "cell_type": "markdown",
      "metadata": {
        "id": "_JYL10yt0d27"
      },
      "source": [
        "数式 expr の展開は関数 expand() で、因数分解は関数 factor()\n",
        "で行うことができる。\n",
        "\n",
        "数式の展開は目的別の関数も用意されている。\n",
        "\n",
        "*   expand\\_power\\_exp(), expand\\_power\\_base() $\\quad$ 指数を含む式の展開\n",
        "*   expand\\_trig() $\\quad$ 三角関数を含む式の展開\n",
        "*   expand\\_log() $\\quad$ 対数関数を含む式の展開\n",
        "*   この他にもいろいろある\n"
      ]
    },
    {
      "cell_type": "code",
      "metadata": {
        "id": "d3bhjMLf1ffU"
      },
      "source": [
        "from sympy.abc import *\n",
        "from sympy import *\n",
        "\n",
        "expand((x + y)**2)\n",
        "     2            2\n",
        "    x  + 2⋅x⋅y + y\n",
        "expand((x + y + z)**2)\n",
        "     2                    2            2\n",
        "    x  + 2⋅x⋅y + 2⋅x⋅z + y  + 2⋅y⋅z + z\n",
        "expand((x + y)**3)\n",
        "     3      2          2    3\n",
        "    x  + 3⋅x ⋅y + 3⋅x⋅y  + y\n",
        "    >>> a = sy.expand((x + y)**4)\n",
        "    >>> a\n",
        "     4      3        2  2        3    4\n",
        "    x  + 4⋅x ⋅y + 6⋅x ⋅y  + 4⋅x⋅y  + y\n",
        "factor(a)\n",
        "           4\n",
        "    (x + y)\n",
        "factor(x**2 - 1)\n",
        "    (x - 1)⋅(x + 1)\n",
        "factor(x**2 - 2*x + 1)\n",
        "           2\n",
        "    (x - 1)\n",
        "factor(x**3 + y**3)\n",
        "            ⎛ 2          2⎞\n",
        "    (x + y)⋅⎝x  - x⋅y + y ⎠\n",
        "\n",
        "expand_power_exp(x**(y+z))\n",
        "     y  z\n",
        "    x ⋅x\n",
        "    >>> (x*y)**z\n",
        "         z\n",
        "    (x⋅y)\n",
        "expand_power_base((x*y)**z)\n",
        "         z\n",
        "    (x⋅y)\n",
        "expand_power_base((x*y)**z, force=True)\n",
        "     z  z\n",
        "    x ⋅y\n",
        "\n",
        "expand_trig(sy.sin(x + y))\n",
        "    sin(x)⋅cos(y) + sin(y)⋅cos(x)\n",
        "expand_trig(sy.cos(x + y))\n",
        "    -sin(x)⋅sin(y) + cos(x)⋅cos(y)\n",
        "expand_trig(sy.sin(2*x))\n",
        "    2⋅sin(x)⋅cos(x)\n",
        "expand_trig(sy.cos(2*x))\n",
        "         2\n",
        "    2⋅cos (x) - 1\n",
        "\n",
        "expand_log(sy.log(x*y))\n",
        "    log(x⋅y)\n",
        "expand_log(sy.log(x*y), force=True)\n",
        "    log(x) + log(y)\n",
        "\n",
        "expand_log(sy.log(x/y))\n",
        "       ⎛x⎞\n",
        "    log⎜─⎟\n",
        "       ⎝y⎠\n",
        "expand_log(sy.log(x/y), force=True)\n",
        "    log(x) - log(y)\n",
        "\n",
        "expand_log(sy.log(x**2))\n",
        "       ⎛ 2⎞\n",
        "    log⎝x ⎠\n",
        "expand_log(sy.log(x**2), force=True)\n",
        "    2⋅log(x)\n",
        "\n",
        "var('x1 y1 z1', positive=True)\n",
        "    (x₁, y₁, z₁)\n",
        "expand_log(sy.log(x1*y1))\n",
        "    log(x₁) + log(y₁)\n",
        "expand_log(sy.log(x1/y1))\n",
        "    log(x₁) - log(y₁)\n",
        "expand_log(sy.log(x1**2))\n",
        "    2⋅log(x₁)\n"
      ],
      "execution_count": null,
      "outputs": []
    },
    {
      "cell_type": "code",
      "metadata": {
        "id": "rb4zyjDq1wDI"
      },
      "source": [
        "\n",
        "*   数式を展開できない場合は、引数の数式をそのまま返す\n",
        "*   たとえば、log(x) の定義域は x \\> 0 だが、変数 x\n",
        "    の範囲が負数を含んでいると数式を展開できない\n",
        "*   シンボルを生成するとき、positive=True\n",
        "    を指定すると、その変数がとりうる値は正数に限定される\n",
        "*   または、force=True を指定すると、強制的に式を展開することができる\n",
        "\n",
        "数式の簡約化\n",
        "\n",
        "数式の簡約化は関数 simplify() を使うと簡単\n",
        "\n",
        "目的別の関数も用意されている\n",
        "\n",
        "*   powsimp(), 指数の簡約化\n",
        "*   trigsimp(), 三角関数を含む式の簡約化\n",
        "*   logcombine(), 対数関数を含む式の簡約化\n",
        "*   この他にもいろいろある\n",
        "\n",
        "詳細はリファレンス\n",
        "[Simplify](http://docs.sympy.org/latest/modules/simplify/simplify.html)\n",
        "を参照\n",
        "\n",
        "    >>> (x**2 + 2*x + 1)/(x + 1)\n",
        "     2\n",
        "    x  + 2⋅x + 1\n",
        "    ────────────\n",
        "       x + 1\n",
        "    >>> sy.simplify((x**2 + 2*x + 1)/(x + 1))\n",
        "    x + 1\n",
        "    >>> sy.simplify((x**2 - 1)/(x + 1))\n",
        "    x - 1\n",
        "\n",
        "    >>> x**y * x**z\n",
        "     y  z\n",
        "    x ⋅x\n",
        "    >>> sy.powsimp(x**y * x**z)\n",
        "     y + z\n",
        "    x\n",
        "    >>> x**y / x**z\n",
        "     y  -z\n",
        "    x ⋅x\n",
        "    >>> sy.powsimp(x**y / x**z)\n",
        "     y - z\n",
        "    x\n",
        "\n",
        "    >>> sy.sin(x)**2 + sy.cos(x)**2\n",
        "       2         2\n",
        "    sin (x) + cos (x)\n",
        "    >>> sy.trigsimp(sy.sin(x)**2 + sy.cos(x)**2)\n",
        "    1\n",
        "    >>> sy.sin(x)*sy.cos(y) + sy.cos(x)*sy.sin(y)\n",
        "    sin(x)⋅cos(y) + sin(y)⋅cos(x)\n",
        "    >>> sy.trigsimp(sy.sin(x)*sy.cos(y) + sy.cos(x)*sy.sin(y))\n",
        "    sin(x + y)\n",
        "    >>> sy.cos(x)*sy.cos(y) + sy.sin(x)*sy.sin(y)\n",
        "    sin(x)⋅sin(y) + cos(x)⋅cos(y)\n",
        "    >>> sy.trigsimp(sy.cos(x)*sy.cos(y) + sy.sin(x)*sy.sin(y))\n",
        "    cos(x - y)\n",
        "    >>> 1 + sy.tan(x)**2\n",
        "       2\n",
        "    tan (x) + 1\n",
        "    >>> sy.trigsimp(1 + sy.tan(x)**2)\n",
        "       1\n",
        "    ───────\n",
        "       2\n",
        "    cos (x)\n",
        "\n",
        "    >>> sy.log(x) + sy.log(y)\n",
        "    log(x) + log(y)\n",
        "    >>> sy.logcombine(sy.log(x) + sy.log(y))\n",
        "    log(x) + log(y)\n",
        "    >>> sy.logcombine(sy.log(x) + sy.log(y), force=True)\n",
        "    log(x⋅y)\n",
        "    >>> sy.log(x) - sy.log(y)\n",
        "    log(x) - log(y)\n",
        "    >>> sy.logcombine(sy.log(x) - sy.log(y))\n",
        "    log(x) - log(y)\n",
        "    >>> sy.logcombine(sy.log(x) - sy.log(y), force=True)\n",
        "       ⎛x⎞\n",
        "    log⎜─⎟\n",
        "       ⎝y⎠\n",
        "    >>> x * sy.log(y)\n",
        "    x⋅log(y)\n",
        "    >>> sy.logcombine(x * sy.log(y))\n",
        "    x⋅log(y)\n",
        "    >>> sy.logcombine(x * sy.log(y), force=True)\n",
        "       ⎛ x⎞\n",
        "    log⎝y ⎠\n",
        "\n",
        "数式の評価\n",
        "\n",
        "*   数式 expr の変数に値を代入するにはメソッド subs() を使う\n",
        "*   値は数だけではなく他の変数や数式でもかまわない\n",
        "*   数式 expr を評価して浮動小数点数を得るにはメソッド evalf()\n",
        "    または関数 N() を使う\n",
        "*   引数 n を指定すると n 桁の浮動小数点数 (Float) を返す\n",
        "\n",
        "<!-- -->\n",
        "\n",
        "    >>> a = x**2\n",
        "    >>> a\n",
        "     2\n",
        "    x\n",
        "    >>> a.subs(x, 10)\n",
        "    100\n",
        "    >>> a.subs(x, 1.2345)\n",
        "    1.52399025000000\n",
        "    >>> a.subs(x, y + z)\n",
        "           2\n",
        "    (y + z)\n",
        "    >>> a.subs(x, sy.sqrt(2))\n",
        "    2\n",
        "    >>> b = a.subs(x, y + z)\n",
        "    >>> b.subs({y: sy.sqrt(2), z: sy.sqrt(3)})\n",
        "             2\n",
        "    (√2 + √3)\n",
        "    >>> sy.pi.evalf()\n",
        "    3.14159265358979\n",
        "    >>> sy.N(sy.pi, 50)\n",
        "    3.1415926535897932384626433832795028841971693993751\n",
        "    >>> sy.sqrt(2).evalf(50)\n",
        "    1.4142135623730950488016887242096980785696718753769\n",
        "    >>> b.subs({y: sy.sqrt(2), z: sy.sqrt(3)}).evalf()\n",
        "    9.89897948556636\n",
        "    >>> b.subs({y: sy.sqrt(2), z: sy.sqrt(3)}).evalf(20)\n",
        "    9.8989794855663561964\n",
        "\n",
        "#### ●多項式 {#abc02}\n",
        "\n",
        "*   多項式の除算で商と余りを求めるには関数 div() を使う\n",
        "*   有理式 (多項式の分数) の簡約化には関数 cansel() がある\n",
        "*   関数 apart() は有理式を「部分分数」に分解する\n",
        "*   部分分数は、分母が因数分解されている有理式をいくつかの有理式に分解すること\n",
        "*   次の条件を満たすとき、有理式 g(x) / f(x) は簡単な形に分解できる\n",
        "\n",
        "    -   f(x) は 1 次式の積に因数分解できるような整式であること\n",
        "    -   g(x) は f(x) より次数が少ない整式であること\n",
        "\n",
        "    ``` {.item}\n",
        "    g(x) / f(x) = b1 / (x - a1) + b2 / (x - a2) + ... + bn / (x - an)\n",
        "    ```\n",
        "\n",
        "*   関数 collect() は指定した変数で式をまとめる\n",
        "*   そのあと、メソッド coeff()\n",
        "    で指定した次数の係数を取り出すことができる\n",
        "\n",
        "<!-- -->\n",
        "\n",
        "    >>> sy.div(x**3 + x**2 - 4*x + 1, x - 2)\n",
        "    ⎛ 2             ⎞\n",
        "    ⎝x  + 3⋅x + 2, 5⎠\n",
        "\n",
        "    >>> sy.div(x**3 - x**2 - 4*x + 4, x - 2)\n",
        "    ⎛ 2           ⎞\n",
        "    ⎝x  + x - 2, 0⎠\n",
        "\n",
        "    >>> (x**3 - x**2 - 4*x + 4) / (x - 2)\n",
        "     3    2\n",
        "    x  - x  - 4⋅x + 4\n",
        "    ─────────────────\n",
        "          x - 2\n",
        "\n",
        "    >>> sy.cancel((x**3 - x**2 - 4*x + 4) / (x - 2))\n",
        "     2\n",
        "    x  + x - 2\n",
        "\n",
        "    >>> sy.cancel((x**2 + 2*x + 1) / (x**2 + x))\n",
        "    x + 1\n",
        "    ─────\n",
        "      x\n",
        "\n",
        "    >>> 1/(x - 1) + 1/(x - 2)\n",
        "      1       1\n",
        "    ───── + ─────\n",
        "    x - 1   x - 2\n",
        "\n",
        "    >>> sy.cancel(1/(x - 1) + 1/(x - 2))\n",
        "      2⋅x - 3\n",
        "    ──────────────\n",
        "     2\n",
        "    x  - 3⋅x + 2\n",
        "\n",
        "    >>> sy.apart((2*x - 3)/(x**2 - 3*x + 2))\n",
        "      1       1\n",
        "    ───── + ─────\n",
        "    x - 1   x - 2\n",
        "\n",
        "    >>> sy.apart((6*x**2 + x - 17) / (x**3 - 7*x -6))\n",
        "      1       3       2\n",
        "    ───── + ───── + ─────\n",
        "    x + 2   x + 1   x - 3\n",
        "\n",
        "    >>> sy.apart((x + 1) / (x**4 + x**2))\n",
        "      x + 1    1     1\n",
        "    - ───── + ─── + ────\n",
        "       2       x      2\n",
        "      x  + 1         x\n",
        "\n",
        "    >>> x**2 + y*x + z*x + y*z\n",
        "     2\n",
        "    x  + x⋅y + x⋅z + y⋅z\n",
        "    >>> sy.collect(x**2 + y*x + z*x + y*z, x)\n",
        "     2\n",
        "    x  + x⋅(y + z) + y⋅z\n",
        "    >>> sy.collect(x**2 + y*x + z*x + y*z, x).coeff(x, 2)\n",
        "    1\n",
        "    >>> sy.collect(x**2 + y*x + z*x + y*z, x).coeff(x, 1)\n",
        "    y + z\n",
        "    >>> sy.collect(x**2 + y*x + z*x + y*z, x).coeff(x, 0)\n",
        "    y⋅z\n",
        "\n",
        "方程式の求解には関数 solveset(expr, var) を使う\n",
        "\n",
        "数式 expr が 0 になる変数 var の値を求める\n",
        "\n",
        "キーワード引数 domain で領域を指定できる (Complexes が default)\n",
        "\n",
        "たとえば、x^2^ + 1 = 0 の解は I, -I になるが、実数では存在しない\n",
        "\n",
        "解が存在しない場合は空集合を表す EmptySet() を返す\n",
        "\n",
        "sympy の集合 (Set) は python の set とは違う (あとで説明する)\n",
        "\n",
        "sympy には特別な集合を表すクラスがあらかじめ定義されている\n",
        "\n",
        "*   EmptySet, 空集合\n",
        "*   UniversalSet, 全体集合\n",
        "*   Naturals, 自然数全体の集合\n",
        "*   Naturals0, 零と自然数全体の集合\n",
        "*   Integers, 整数全体の集合\n",
        "*   Reals, 実数全体の集合\n",
        "*   Complexes, 複素数全体の集合\n",
        "*   これらのクラスのオブジェクト (シングルトン) は sympy.S\n",
        "    の同名の変数に格納されている\n",
        "\n",
        "関数 roots(expr, var) は解とその個数を辞書に格納して返す\n",
        "\n",
        "重根があるときは便利\n",
        "\n",
        "    >>> sy.solveset(x**2 - 1, x)\n",
        "    {-1, 1}\n",
        "    >>> sy.solveset(x**2 + 1, x)\n",
        "    {-ⅈ, ⅈ}\n",
        "\n",
        "    >>> sy.S.UniversalSet\n",
        "    UniversalSet()\n",
        "    >>> sy.S.EmptySet\n",
        "    ∅\n",
        "    >>> sy.S.Complexes\n",
        "    ℂ\n",
        "    >>> sy.S.Reals\n",
        "    ℝ\n",
        "    >>> sy.S.Integers\n",
        "    ℤ\n",
        "    >>> sy.S.Naturals\n",
        "    ℕ\n",
        "\n",
        "    >>> sy.solveset(x**2 + 1, x, domain=sy.Reals)\n",
        "    ∅\n",
        "    >>> sy.var('a b c')\n",
        "    (a, b, c)\n",
        "    >>> sy.solveset(a*x**2 + b*x + c, x)\n",
        "    ⎧           _____________              _____________ ⎫\n",
        "    ⎪          ╱           2              ╱           2  ⎪\n",
        "    ⎨   b    ╲╱  -4⋅a⋅c + b        b    ╲╱  -4⋅a⋅c + b   ⎬\n",
        "    ⎪- ──── - ────────────────, - ──── + ────────────────⎪\n",
        "    ⎩  2⋅a         2⋅a            2⋅a         2⋅a        ⎭\n",
        "\n",
        "    >>> sy.solveset(x**3, x)\n",
        "    {0}\n",
        "    >>> sy.roots(x**3, x)\n",
        "    {0: 3}\n",
        "    >>> sy.solveset(x**3 - 4*x**2 + 5*x - 2, x)\n",
        "    {1, 2}\n",
        "    >>> sy.roots(x**3 - 4*x**2 + 5*x - 2, x)\n",
        "    {1: 2, 2: 1}\n",
        "\n",
        "連立一次方程式は関数 linsolve(\\[expr1, expr2, \\...\\], \\[var1, var2,\n",
        "\\...\\]) を使って解く\n",
        "\n",
        "式と変数はタプルに格納して渡してもよい\n",
        "\n",
        "鶴亀算\n",
        "\n",
        "1.  鶴と亀、合わせて 100 匹いる。足の合計が 272\n",
        "    本のとき、鶴と亀はそれぞれ何匹ずついるか。\n",
        "2.  鶴と亀とトンボが合わせて 10 匹いる。足の合計が 38 本で羽の合計が 14\n",
        "    枚であるとき、鶴と亀とトンボはそれぞれ何匹ずついるか。(トンボの足は\n",
        "    6 本で羽は 4 枚)\n",
        "3.  鶏と犬とタコ、合わせて 24 匹が台所にいる。足の合計が 102\n",
        "    本のとき、鶏、犬、タコはそれぞれ何匹ずついるか。\n",
        "\n",
        "解答\n",
        "\n",
        "1.  x + y = 100, 2x + 4y = 272 を解く\n",
        "2.  x + y + z = 10, 2x + 4y + 6z = 38, 2x + 4z = 14 を解く\n",
        "3.  x + y + z= 24, 2x + 4y + 8z = 102 を解く\n",
        "\n",
        "solveset() や linsolve() の他にも、方程式の解を求める関数 solve() がある\n",
        "\n",
        "#### ●微積分 {#abc03}\n",
        "\n",
        "微分\n",
        "\n",
        "*   微分は関数 diff(expr, var, \\[n\\]) で行う\n",
        "*   引数 n に数値を指定すると高階微分になる\n",
        "*   または、diff(expr, var, var, \\...) のように変数 var\n",
        "    の後に同じ変数を指定すると高階微分になる\n",
        "*   多変数関数の微分 (偏微分) も diff(expr, var1, var2, \\...) で OK\n",
        "*   Derivative() は diff()\n",
        "    と引数が同じで、評価前の状態を保持するオブジェクトを返す\n",
        "*   メソッド doit() で微分を実行する\n",
        "\n",
        "<!-- -->\n",
        "\n",
        "    >>> sy.var('n x y z')\n",
        "    (n, x, y, z)\n",
        "    >>> sy.diff(x**2, x)\n",
        "    2⋅x\n",
        "    >>> sy.diff(x**2, x, 2)\n",
        "    2\n",
        "    >>> sy.diff(x**2, x, 3)\n",
        "    0\n",
        "    >>> sy.diff(x**n, x)\n",
        "       n\n",
        "    n⋅x\n",
        "    ────\n",
        "     x\n",
        "\n",
        "    >>> sy.diff(x**n, x, 2)\n",
        "       n\n",
        "    n⋅x ⋅(n - 1)\n",
        "    ────────────\n",
        "          2\n",
        "         x\n",
        "\n",
        "    >>> sy.diff(sy.log(x), x)\n",
        "    1\n",
        "    ─\n",
        "    x\n",
        "\n",
        "    >>> sy.diff(sy.exp(x), x)\n",
        "     x\n",
        "    ℯ\n",
        "    >>> sy.diff(sy.sin(x), x)\n",
        "    cos(x)\n",
        "    >>> sy.diff(sy.cos(x), x)\n",
        "    -sin(x)\n",
        "    >>> sy.diff(sy.tan(x), x)\n",
        "       2\n",
        "    tan (x) + 1\n",
        "\n",
        "    >>> sy.diff(x**3*y**3*z**3, x)\n",
        "       2  3  3\n",
        "    3⋅x ⋅y ⋅z\n",
        "    >>> sy.diff(x**3*y**3*z**3, x, x)\n",
        "         3  3\n",
        "    6⋅x⋅y ⋅z\n",
        "    >>> sy.diff(x**3*y**3*z**3, x, x, y, y, z, z)\n",
        "    216⋅x⋅y⋅z\n",
        "    >>> sy.diff(x**3*y**3*z**3, x, 2, y, 2, z, 2)\n",
        "    216⋅x⋅y⋅z\n",
        "\n",
        "    >>> sy.Derivative((x**3 * y**3 * z**3), x, y, z)\n",
        "        3\n",
        "       ∂       ⎛ 3  3  3⎞\n",
        "    ───────────⎝x ⋅y ⋅z ⎠\n",
        "    ∂z ∂y ∂x\n",
        "    >>> sy.Derivative((x**3 * y**3 * z**3), x, y, z).doit()\n",
        "        2  2  2\n",
        "    27⋅x ⋅y ⋅z\n",
        "    >>> sy.Derivative((x**3 * y**3 * z**3), x, 2, y, 2, z, 2)\n",
        "          6\n",
        "         ∂     ⎛ 3  3  3⎞\n",
        "    ───────────⎝x ⋅y ⋅z ⎠\n",
        "      2   2   2\n",
        "    ∂z  ∂y  ∂x\n",
        "    >>> sy.Derivative((x**3 * y**3 * z**3), x, 2, y, 2, z, 2).doit()\n",
        "    216⋅x⋅y⋅z\n",
        "\n",
        "積分\n",
        "\n",
        "*   積分は関数 integrate(expr, var) で行う (積分定数は出力されない)\n",
        "*   定積分も integrate(expr, (var, low, high)) で OK\n",
        "*   二重積分も integrate(expr, (var1, l1, h1), (var2, l2, h2), \\...) で\n",
        "    OK\n",
        "*   Integral() は integrate()\n",
        "    と引数が同じで、評価前の状態を保持するオブジェクトを返す\n",
        "*   メソッド doit() で微分を実行する\n",
        "*   積分を評価できないときは Integral() を返す\n",
        "\n",
        "<!-- -->\n",
        "\n",
        "    >>> sy.integrate(x, x)\n",
        "     2\n",
        "    x\n",
        "    ──\n",
        "    2\n",
        "    >>> sy.integrate(x**2, x)\n",
        "     3\n",
        "    x\n",
        "    ──\n",
        "    3\n",
        "    >>> sy.integrate(x**3, x)\n",
        "     4\n",
        "    x\n",
        "    ──\n",
        "    4\n",
        "    >>> sy.integrate(x, (x, 0, 1))\n",
        "    1/2\n",
        "    >>> sy.integrate(x**2, (x, 0, 1))\n",
        "    1/3\n",
        "    >>> sy.integrate(x**3, (x, 0, 1))\n",
        "    1/4\n",
        "    >>> sy.integrate(sy.exp(x), x)\n",
        "     x\n",
        "    ℯ\n",
        "    >>> sy.integrate(sy.exp(-x), x)\n",
        "      -x\n",
        "    -ℯ\n",
        "    >>> sy.integrate(sy.exp(-x), (x, 0, sy.oo))\n",
        "    1\n",
        "    >>> sy.integrate(1/x, x)\n",
        "    log(x)\n",
        "    >>> sy.integrate(sy.log(x), x)\n",
        "    x⋅log(x) - x\n",
        "    >>> sy.integrate(sy.sin(x), x)\n",
        "    -cos(x)\n",
        "    >>> sy.integrate(sy.cos(x), x)\n",
        "    sin(x)\n",
        "    >>> sy.integrate(sy.tan(x), x)\n",
        "    -log(cos(x))\n",
        "    >>> sy.integrate(4/(1 + x**2), x)\n",
        "    4⋅atan(x)\n",
        "    >>> sy.integrate(4/(1 + x**2), (x, 0, 1))\n",
        "    π\n",
        "\n",
        "\n",
        "    >>> sy.Integral(x*y**2, x, y)\n",
        "    ⌠ ⌠\n",
        "    ⎮ ⎮    2\n",
        "    ⎮ ⎮ x⋅y  dx dy\n",
        "    ⌡ ⌡\n",
        "    >>> sy.Integral(x*y**2, x, y).doit()\n",
        "     2  3\n",
        "    x ⋅y\n",
        "    ─────\n",
        "      6\n",
        "    >>> sy.integrate(x*y**2, (x, 0, 1), (y, 0, 1))\n",
        "    1/6\n",
        "    >>> sy.integrate(x*y**2, (x, 1 - y, 1), (y, 0, 1))\n",
        "    3/20\n",
        "\n",
        "    >>> sy.integrate(x**x, x)\n",
        "    ⌠\n",
        "    ⎮  x\n",
        "    ⎮ x  dx\n",
        "    ⌡\n",
        "\n",
        "極限\n",
        "\n",
        "*   極限は関数 limit(function, var, point) で計算する\n",
        "*   f(x) の x -\\> 0 の極限は limit(f(x), x, 0) とする\n",
        "*   極限の方向は第 4 引数で指定する (\\;+\\; or \\;-\\;)\n",
        "\n",
        "<!-- -->\n",
        "\n",
        "    >>> sy.limit(x, x, sy.oo)\n",
        "    ∞\n",
        "    >>> sy.limit(1/x, x, sy.oo)\n",
        "    0\n",
        "    >>> sy.limit(1/x, x, 0, '+')\n",
        "    ∞\n",
        "    >>> sy.limit(1/x, x, 0, '-')\n",
        "    -∞\n",
        "    >>> sy.limit(x/(x + 1), x, sy.oo)\n",
        "    1\n",
        "    >>> sy.limit(sy.sin(x)/x, x, 0)\n",
        "    1\n",
        "    >>> sy.limit(sy.sqrt(x**2+3*x+4) - x, x, sy.oo)\n",
        "    3/2\n",
        "\n",
        "テーラー (Taylor) 展開\n",
        "\n",
        "*   メソッド series() は関数 f(x) をテーラー展開する\n",
        "*   x0 を省略すると原点 (0) になる\n",
        "*   n は最高次数を指定する\n",
        "*   オーダー記号 O() はメソッド removeO() で削除する\n",
        "\n",
        "<!-- -->\n",
        "\n",
        "    >>> sy.cos(x).series(x)\n",
        "         2    4\n",
        "        x    x     ⎛ 6⎞\n",
        "    1 - ── + ── + O⎝x ⎠\n",
        "        2    24\n",
        "\n",
        "    >>> sy.sin(x).series(x)\n",
        "         3     5\n",
        "        x     x      ⎛ 6⎞\n",
        "    x - ── + ──── + O⎝x ⎠\n",
        "        6    120\n",
        "\n",
        "    >>> sy.exp(x).series(x)\n",
        "             2    3    4     5\n",
        "            x    x    x     x      ⎛ 6⎞\n",
        "    1 + x + ── + ── + ── + ──── + O⎝x ⎠\n",
        "            2    6    24   120\n",
        "\n",
        "    >>> sy.exp(x).series(x, 0, 10)\n",
        "             2    3    4     5      6      7       8        9\n",
        "            x    x    x     x      x      x       x        x       ⎛ 10⎞\n",
        "    1 + x + ── + ── + ── + ──── + ──── + ───── + ───── + ────── + O⎝x  ⎠\n",
        "            2    6    24   120    720    5040    40320   362880\n",
        "\n",
        "    >>> sy.exp(x).series(x).removeO()\n",
        "      5     4    3    2\n",
        "     x     x    x    x\n",
        "    ──── + ── + ── + ─ + x + 1\n",
        "    120    24   6    2\n",
        "\n",
        "#### ●集合 {#abc04}\n",
        "\n",
        "python には集合を表すデータ型 set があるが、sympy ではクラス Set を使う\n",
        "\n",
        "sympy の Set は immutable なデータ構造\n",
        "\n",
        "Set は基本クラスで、実際に使用するのはサブクラス\n",
        "\n",
        "ここでは集合の基本的な使い方を簡単に説明する\n",
        "\n",
        "詳細はリファレンス\n",
        "[Sets](http://docs.sympy.org/latest/modules/sets.html) を参照\n",
        "\n",
        "基本的な演算子とメソッド\n",
        "\n",
        "和集合, +, \\|, union\n",
        "\n",
        "積集合, &, intersect, intersection\n",
        "\n",
        "差集合, -, complement (a - b は b.complement(a) と同じ)\n",
        "\n",
        "対称差, \\^, symmetric\\_difference ((a - b) \\| (b - a) と同じ)\n",
        "\n",
        "直積集合, \\*, (a \\* b は ProductSet(a, b) と同じ)\n",
        "\n",
        "*   a \\*\\* n は a \\* a \\* \\... \\* a (n 個の a の直積集合)\n",
        "\n",
        "べき集合, powerset\n",
        "\n",
        "部分集合の判定, issubset, is\\_subset, issuperset, is\\_superset\n",
        "\n",
        "真部分集合の判定, is\\_proper\\_subset, is\\_proper\\_superset\n",
        "\n",
        "積集合 (共通集合) の有無, isdisjoint, is\\_disjoint\n",
        "\n",
        "要素 x は集合 a に含まれているか, x.contains(a), x in a\n",
        "\n",
        "EmptySet は空集合を表すクラス (シングルトンは sympy.S.EmptySet)\n",
        "\n",
        "*   属性 is\\_EmptySet は True (他のクラスのオブジェクトは None)\n",
        "*   属性 is\\_iterable は False\n",
        "*   関数 len() の値は 0\n",
        "\n",
        "UniversalSet は全体集合を表すクラス (シングルトンは\n",
        "sympy.S.UniversalSet)\n",
        "\n",
        "*   属性 is\\_UniversalSet は True (他のクラスのオブジェクトは None)\n",
        "*   属性 is\\_iterable は False\n",
        "*   関数 len() は適用不可\n",
        "\n",
        "<!-- -->\n",
        "\n",
        "    >>> from sympy import *\n",
        "    >>> sy.init_printing()\n",
        "    >>> sy.S.EmptySet\n",
        "    ∅\n",
        "    >>> sy.S.EmptySet.is_EmptySet\n",
        "    True\n",
        "    >>> sy.S.EmptySet.is_iterable\n",
        "    False\n",
        "    >>> len(sy.S.EmptySet)\n",
        "    0\n",
        "    >>> sy.S.UniversalSet\n",
        "    UniversalSet()\n",
        "    >>> sy.S.UniversalSet.is_UniversalSet\n",
        "    True\n",
        "    >>> sy.S.UniversalSet.is_iterable\n",
        "    False\n",
        "    >>> sy.S.UniversalSet | sy.S.EmptySet\n",
        "    UniversalSet()\n",
        "    >>> sy.S.UniversalSet & sy.S.EmptySet\n",
        "    ∅\n",
        "\n",
        "Interval は実数区間を表すクラス\n",
        "\n",
        "``` {.item}\n",
        "Interval(s, e, left_open=False, right_open=False) => [s, e]\n",
        "```\n",
        "\n",
        "返り値は Interval\n",
        "のオブジェクトだが、表示には角カッコや丸カッコが用いられる\n",
        "\n",
        "キーワード引数 xxxx\\_open で xxxx 側の open / close を指定する\n",
        "\n",
        "*   (s, e), s \\< x \\< e\n",
        "*   \\[s, e), s \\<= x \\< e\n",
        "*   (s, e\\], s \\< x \\<= e\n",
        "*   \\[s, e\\], s \\<= x \\<= e\n",
        "\n",
        "または次のクラスメソッドを使う\n",
        "\n",
        "*   Ropen(s, e) =\\> \\[s, e)\n",
        "*   Lopen(s, e) =\\> (s, e\\]\n",
        "*   open(s, e) =\\> (s, e)\n",
        "\n",
        "端点 s, e の open / close はメソッド left\\_open, right\\_open\n",
        "で確認できる\n",
        "\n",
        "端点 s, e には oo, -oo を指定できる\n",
        "\n",
        "属性 is\\_iterable は False\n",
        "\n",
        "関数 len() は適用不可\n",
        "\n",
        "    >>> a = sy.Interval(1, 10)\n",
        "    >>> a\n",
        "    [1, 10]\n",
        "    >>> a.is_iterable\n",
        "    False\n",
        "    >>> 1 in a\n",
        "    True\n",
        "    >>> 0 in a\n",
        "    False\n",
        "    >>> 10 in a\n",
        "    True\n",
        "    >>> 11 in a\n",
        "    False\n",
        "    >>> b = sy.Interval(5, 15)\n",
        "    >>> b\n",
        "    [5, 15]\n",
        "    >>> a & b\n",
        "    [5, 10]\n",
        "    >>> a | b\n",
        "    [1, 15]\n",
        "    >>> a - b\n",
        "    [1, 5)\n",
        "    >>> b - a\n",
        "    (10, 15]\n",
        "    >>> a ^ b\n",
        "    [1, 5) ∪ (10, 15]\n",
        "    >>> 5 in a ^ b\n",
        "    False\n",
        "    >>> 1 in a ^ b\n",
        "    True\n",
        "    >>> 10 in a ^ b\n",
        "    False\n",
        "    >>> 15 in a ^ b\n",
        "    True\n",
        "\n",
        "FiniteSet は有限個の要素を持つ集合を表すクラス\n",
        "\n",
        "``` {.item}\n",
        "FiniteSet(item1, item2, ..., itemN) => {item1, item2., ..., itemN}\n",
        "```\n",
        "\n",
        "*   python の frozenset (immutable な set) とほぼ同じ\n",
        "*   返り値は FiniteSet のオブジェクトだが、表示には { \\... }\n",
        "    が用いられる\n",
        "*   属性 is\\_iterable は True (イテレータが利用できる)\n",
        "*   関数 len() は要素数を返す\n",
        "\n",
        "<!-- -->\n",
        "\n",
        "    >>> a = sy.FiniteSet(1, 2, 3, 4)\n",
        "    >>> a\n",
        "    {1, 2, 3, 4}\n",
        "    >>> a.is_iterable\n",
        "    True\n",
        "    >>> for x in a: print(x)\n",
        "    ...\n",
        "    1\n",
        "    2\n",
        "    3\n",
        "    4\n",
        "    >>> len(a)\n",
        "    4\n",
        "    >>> for x in range(0, 6):\n",
        "    ...     print(x, x in a)\n",
        "    ...\n",
        "    0 False\n",
        "    1 True\n",
        "    2 True\n",
        "    3 True\n",
        "    4 True\n",
        "    5 False\n",
        "    >>> b = sy.FiniteSet(3, 4, 5, 6)\n",
        "    >>> b\n",
        "    {3, 4, 5, 6}\n",
        "    >>> a | b\n",
        "    {1, 2, 3, 4, 5, 6}\n",
        "    >>> a & b\n",
        "    {3, 4}\n",
        "    >>> a - b\n",
        "    {1, 2}\n",
        "    >>> b - a\n",
        "    {5, 6}\n",
        "    >>> a ^ b\n",
        "    {1, 2, 5, 6}\n",
        "\n",
        "集合演算を表すクラス\n",
        "\n",
        "*   Union, 和集合\n",
        "*   Intersection. 積集合\n",
        "*   Complement, 差集合\n",
        "*   SymmetricDifference, 対称差\n",
        "*   ProductSet, 直積集合\n",
        "\n",
        "<!-- -->\n",
        "\n",
        "    >>> c = sy.Interval(5, 8)\n",
        "    >>> c\n",
        "    [5, 8]\n",
        "    >>> a | c\n",
        "    {1, 2, 3, 4} ∪ [5, 8]\n",
        "    >>> b | c\n",
        "    {3, 4} ∪ [5, 8]\n",
        "    >>> a & c\n",
        "    ∅\n",
        "    >>> b & c\n",
        "    {5, 6}\n",
        "    >>> a - c\n",
        "    {1, 2, 3, 4}\n",
        "    >>> c - a\n",
        "    [5, 8]\n",
        "    >>> b - c\n",
        "    {3, 4}\n",
        "    >>> c - b\n",
        "    (5, 6) ∪ (6, 8]\n",
        "    >>> a ^ c\n",
        "    {1, 2, 3, 4} ∪ [5, 8]\n",
        "    >>> b ^ c\n",
        "    {3, 4} ∪ (5, 6) ∪ (6, 8]\n",
        "    >>> a * b\n",
        "    {1, 2, 3, 4} × {3, 4, 5, 6}\n",
        "    >>> for x in a * b: print(x)\n",
        "    ...\n",
        "    (1, 3)\n",
        "    (1, 4)\n",
        "    (1, 5)\n",
        "    (1, 6)\n",
        "    (2, 3)\n",
        "    (2, 4)\n",
        "    (2, 5)\n",
        "    (2, 6)\n",
        "    (3, 3)\n",
        "    (3, 4)\n",
        "    (3, 5)\n",
        "    (3, 6)\n",
        "    (4, 3)\n",
        "    (4, 4)\n",
        "    (4, 5)\n",
        "    (4, 6)\n",
        "    >>> a * c\n",
        "    {1, 2, 3, 4} × [5, 8]\n",
        "    >>> (1, 5.5) in a * c\n",
        "    True\n",
        "    >>> (4, 8.1) in a * c\n",
        "    False\n",
        "    >>> (2.5, 6) in a * c\n",
        "    False\n",
        "\n",
        "特別な集合を表すクラス\n",
        "\n",
        "Naturals, 自然数全体の集合\n",
        "\n",
        "Naturals0, 零と自然数全体の集合\n",
        "\n",
        "Integers, 整数全体の集合\n",
        "\n",
        "Reals, 実数全体の集合\n",
        "\n",
        "Complexes, 複素数全体の集合\n",
        "\n",
        "Range, python の range() とよく似た集合\n",
        "\n",
        "*   インデックスによるアクセスが可能\n",
        "*   oo や -oo の指定もできる\n",
        "\n",
        "ImageSet, 写像\n",
        "\n",
        "*   ImageSet(func, xs) は集合 xs の要素に関数 func を適用した集合を表す\n",
        "*   第 1 引数 func には sympy の Lambda() を渡す\n",
        "*   Lambda() は python の lambda 式とよく似ている\n",
        "*   lambda 式とは違い、Lambda() の第 1\n",
        "    引数に渡す変数はシンボルであること\n",
        "\n",
        "この他にもいろいろある\n",
        "\n",
        "    >>> c & sy.S.Naturals\n",
        "    {5, 6, 7, 8}\n",
        "    >>> c | sy.S.Naturals\n",
        "    ℕ ∪ [5, 8]\n",
        "    >>> sy.Reals - c\n",
        "    (-∞, 5) ∪ (8, ∞)\n",
        "    >>> sy.Integers - c\n",
        "    ℤ \\ [5, 8]\n",
        "    >>> 5 in sy.Integers - c\n",
        "    False\n",
        "    >>> 5.5 in sy.Integers - c\n",
        "    False\n",
        "    >>> 6 in sy.Integers - c\n",
        "    False\n",
        "    >>> 7 in sy.Integers - c\n",
        "    False\n",
        "    >>> 8 in sy.Integers - c\n",
        "    False\n",
        "    >>> 9 in sy.Integers - c\n",
        "    True\n",
        "    >>> sy.Range(1, 5)\n",
        "    {1, 2, 3, 4}\n",
        "    >>> sy.Range(1, 8, 2)\n",
        "    {1, 3, 5, 7}\n",
        "    >>> d = sy.Range(1, sy.oo)\n",
        "    >>> d\n",
        "    {1, 2, …, ∞}\n",
        "    >>> d[0]\n",
        "    1\n",
        "    >>> d[1]\n",
        "    2\n",
        "    >>> d[100]\n",
        "    101\n",
        "    >>> d[-1]\n",
        "    ∞\n",
        "\n",
        "    >>> sy.var('x y z')\n",
        "    (x, y, z)\n",
        "    >>> a = sy.ImageSet(sy.Lambda(x, x * x), sy.S.Naturals0)\n",
        "    >>> a\n",
        "    ImageSet(Lambda(x, x**2), Naturals0)\n",
        "    >>> 100 in a\n",
        "    True\n",
        "    >>> 200 in a\n",
        "    False\n",
        "    >>> 400 in a\n",
        "    True\n",
        "    >>> b = sy.ImageSet(sy.Lambda(x, x * x), sy.Range(10))\n",
        "    >>> b\n",
        "    ImageSet(Lambda(x, x**2), Range(0, 10, 1))\n",
        "    >>> for n in b: print(n)\n",
        "    ...\n",
        "    0\n",
        "    1\n",
        "    4\n",
        "    9\n",
        "    16\n",
        "    25\n",
        "    36\n",
        "    49\n",
        "    64\n",
        "    81\n",
        ":::\n",
        "\n",
        "------------------------------------------------------------------------\n",
        "\n",
        "::: {.ce}\n",
        "**Copyright (C) 2018 Makoto Hiroi\\\n",
        "All rights reserved.**\n",
        ":::\n",
        "\n",
        "::: {.small}\n",
        "\n",
        "------------------------------------------------------------------------\n",
        "\n",
        "\\[ [Home](../index.html) \\| [Light](index.html) \\|\n",
        "[python3](python3.html#sympy_abc) \\]\n",
        ":::\n"
      ],
      "execution_count": null,
      "outputs": []
    }
  ]
}